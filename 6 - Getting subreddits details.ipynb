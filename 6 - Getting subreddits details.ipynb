{
 "cells": [
  {
   "cell_type": "markdown",
   "metadata": {},
   "source": [
    "# Getting Details of Subreddits"
   ]
  },
  {
   "cell_type": "markdown",
   "metadata": {},
   "source": [
    "I will be investigating the details of subreddits provided by PushShift which is accessible here: https://files.pushshift.io/reddit/subreddits/"
   ]
  },
  {
   "cell_type": "code",
   "execution_count": 23,
   "metadata": {},
   "outputs": [
    {
     "name": "stdout",
     "output_type": "stream",
     "text": [
      "Collecting ijson"
     ]
    },
    {
     "name": "stderr",
     "output_type": "stream",
     "text": [
      "WARNING: You are using pip version 21.2.4; however, version 21.3.1 is available.\n",
      "You should consider upgrading via the 'c:\\users\\user200803\\appdata\\local\\programs\\python\\python38\\python.exe -m pip install --upgrade pip' command.\n"
     ]
    },
    {
     "name": "stdout",
     "output_type": "stream",
     "text": [
      "\n",
      "  Downloading ijson-3.1.4-cp38-cp38-win_amd64.whl (48 kB)\n",
      "Installing collected packages: ijson\n",
      "Successfully installed ijson-3.1.4\n"
     ]
    }
   ],
   "source": [
    "!pip install ijson"
   ]
  },
  {
   "cell_type": "code",
   "execution_count": 26,
   "metadata": {},
   "outputs": [],
   "source": [
    "import json\n",
    "import csv\n",
    "import pandas as pd\n",
    "\n",
    "import zstandard as zstd\n",
    "import io\n",
    "\n",
    "from collections import Counter, defaultdict\n",
    "\n",
    "import ijson # to stream large json files\n",
    "\n",
    "import datetime"
   ]
  },
  {
   "cell_type": "code",
   "execution_count": 2,
   "metadata": {},
   "outputs": [],
   "source": [
    "dctx = zstd.ZstdDecompressor(max_window_size=2147483648)"
   ]
  },
  {
   "cell_type": "code",
   "execution_count": 3,
   "metadata": {},
   "outputs": [],
   "source": [
    "dict_list = []"
   ]
  },
  {
   "cell_type": "code",
   "execution_count": 4,
   "metadata": {},
   "outputs": [],
   "source": [
    "counter = 0\n",
    "with open(\"D://Wellesley/F21/thesis_zst_data/reddit_subreddits.ndjson.zst\", 'rb') as ifh: #, open(\"stream_output.json\", 'wb') as ofh:\n",
    "    with dctx.stream_reader(ifh, read_size=2) as reader:\n",
    "        text_stream = io.TextIOWrapper(reader, encoding='utf-8')\n",
    "        for line in text_stream:\n",
    "            if counter >= 6:\n",
    "                break\n",
    "            d = json.loads(line)\n",
    "            dict_list.append(d)\n",
    "            counter += 1"
   ]
  },
  {
   "cell_type": "code",
   "execution_count": 15,
   "metadata": {},
   "outputs": [],
   "source": [
    "ifh.close()"
   ]
  },
  {
   "cell_type": "code",
   "execution_count": 5,
   "metadata": {},
   "outputs": [
    {
     "data": {
      "text/plain": [
       "dict_keys(['accounts_active', 'accounts_active_is_fuzzed', 'active_user_count', 'advertiser_category', 'all_original_content', 'allow_discovery', 'allow_images', 'allow_polls', 'allow_videogifs', 'allow_videos', 'banner_background_color', 'banner_background_image', 'banner_img', 'banner_size', 'can_assign_link_flair', 'can_assign_user_flair', 'collapse_deleted_comments', 'comment_score_hide_mins', 'community_icon', 'created_utc', 'description', 'description_html', 'disable_contributor_requests', 'display_name', 'display_name_prefixed', 'emojis_custom_size', 'emojis_enabled', 'free_form_reports', 'has_menu_widget', 'header_img', 'header_size', 'header_title', 'hide_ads', 'icon_img', 'icon_size', 'id', 'is_crosspostable_subreddit', 'is_enrolled_in_new_modmail', 'key_color', 'lang', 'link_flair_enabled', 'link_flair_position', 'mobile_banner_image', 'name', 'notification_level', 'original_content_tag_enabled', 'over18', 'primary_color', 'public_description', 'public_description_html', 'public_traffic', 'quarantine', 'restrict_commenting', 'restrict_posting', 'retrieved_utc', 'show_media', 'show_media_preview', 'spoilers_enabled', 'submission_type', 'submit_link_label', 'submit_text', 'submit_text_html', 'submit_text_label', 'subreddit_type', 'subscribers', 'suggested_comment_sort', 'title', 'url', 'user_can_flair_in_sr', 'user_flair_background_color', 'user_flair_css_class', 'user_flair_enabled_in_sr', 'user_flair_position', 'user_flair_richtext', 'user_flair_template_id', 'user_flair_text', 'user_flair_text_color', 'user_flair_type', 'user_has_favorited', 'user_is_banned', 'user_is_contributor', 'user_is_moderator', 'user_is_muted', 'user_is_subscriber', 'user_sr_flair_enabled', 'user_sr_theme_enabled', 'whitelist_status', 'wiki_enabled', 'wls'])"
      ]
     },
     "execution_count": 5,
     "metadata": {},
     "output_type": "execute_result"
    }
   ],
   "source": [
    "dict_list[0].keys()"
   ]
  },
  {
   "cell_type": "markdown",
   "metadata": {},
   "source": [
    "Interesting keys:\n",
    "1. description\n",
    "2. public_description\n",
    "3. public_traffic"
   ]
  },
  {
   "cell_type": "code",
   "execution_count": 6,
   "metadata": {},
   "outputs": [
    {
     "data": {
      "text/plain": [
       "'For US news there is /r/news, for world news there is /r/worldnews, but what about deep and interesting feature articles? In-depth interviews? Other non-urgent or perhaps less-deep but still-powerful pieces?\\n\\nWelcome to /r/features, an evolving SubReddit for high-quality and evocative long-form content that does not fit neatly into any one category!\\n\\nThe Texts Continuum:\\n\\n* **/r/Vignettes** (short)\\n* **\\\\/r/Features** (medium)\\n* /r/LongText (long)\\n* /r/TrueReddit (deep)\\n* /r/DepthHub (meta)\\n* /r/News (timely)\\n* /r/WorldNews (global)\\n* /r/Modded (moderated)\\n\\nIf you are looking for a place to suggest a feature for reddit, then /r/IdeasForTheAdmins is your subreddit of choice.\\n\\nNote: this SubReddit is a work in progress and we would welcome feedback from new readers and submitters alike as it grows!'"
      ]
     },
     "execution_count": 6,
     "metadata": {},
     "output_type": "execute_result"
    }
   ],
   "source": [
    "dict_list[1]['description']"
   ]
  },
  {
   "cell_type": "code",
   "execution_count": 7,
   "metadata": {},
   "outputs": [
    {
     "data": {
      "text/plain": [
       "'For US news there is /r/news, for world news there is /r/worldnews, but what about deep and interesting feature articles? Welcome to /r/features, an evolving SubReddit for high-quality and evocative long-form content that does not fit neatly into any one category!\\n\\nIf you are looking for a place to suggest a feature for reddit, then /r/IdeasForTheAdmins is your subreddit of choice.'"
      ]
     },
     "execution_count": 7,
     "metadata": {},
     "output_type": "execute_result"
    }
   ],
   "source": [
    "dict_list[1]['public_description']"
   ]
  },
  {
   "cell_type": "markdown",
   "metadata": {},
   "source": [
    "Interesting how `description` is not exactly the same as `public_description`. Should I use both? Perhaps just `description`, because people are more inclined to post on a subreddit if they are a member of that subreddit instead of just a random general public?"
   ]
  },
  {
   "cell_type": "code",
   "execution_count": 8,
   "metadata": {
    "scrolled": true
   },
   "outputs": [
    {
     "data": {
      "text/plain": [
       "['Not Safe for Work',\n",
       " 'features',\n",
       " 'Request',\n",
       " 'Citius, Altius, Fortius',\n",
       " 'r/de - Extraordinär gut!',\n",
       " 'Reddit en español para España']"
      ]
     },
     "execution_count": 8,
     "metadata": {},
     "output_type": "execute_result"
    }
   ],
   "source": [
    "[dict_list[idx]['title'] for idx in range(len(dict_list))]"
   ]
  },
  {
   "cell_type": "code",
   "execution_count": 9,
   "metadata": {},
   "outputs": [
    {
     "data": {
      "text/plain": [
       "['vf2', '21n6', '21nj', '21of', '22i0', '22i2']"
      ]
     },
     "execution_count": 9,
     "metadata": {},
     "output_type": "execute_result"
    }
   ],
   "source": [
    "[dict_list[idx]['id'] for idx in range(len(dict_list))]"
   ]
  },
  {
   "cell_type": "markdown",
   "metadata": {},
   "source": [
    "It seems that I need subreddit id's afterall. Good thing I have this info. For each of the subreddits that we are interested in, let's get their id's and then descriptions."
   ]
  },
  {
   "cell_type": "code",
   "execution_count": 10,
   "metadata": {},
   "outputs": [],
   "source": [
    "with open(\"subreddit_ns.json\", \"r\", encoding=\"utf-8\") as infile1:\n",
    "    subreddit_ns = json.load(infile1)\n",
    "    subreddits = subreddit_ns.keys()\n",
    "infile1.close()"
   ]
  },
  {
   "cell_type": "code",
   "execution_count": 11,
   "metadata": {},
   "outputs": [
    {
     "data": {
      "text/plain": [
       "20755"
      ]
     },
     "execution_count": 11,
     "metadata": {},
     "output_type": "execute_result"
    }
   ],
   "source": [
    "len(subreddits)"
   ]
  },
  {
   "cell_type": "markdown",
   "metadata": {},
   "source": [
    "Let's get their id's!"
   ]
  },
  {
   "cell_type": "code",
   "execution_count": 12,
   "metadata": {},
   "outputs": [],
   "source": [
    "spec_sr_id = dict()\n",
    "with open(\"subreddit_id.json\", \"r\") as infile2:\n",
    "    subreddit_id = json.load(infile2)\n",
    "    for s in subreddits:\n",
    "        spec_sr_id[s] = subreddit_id[s]"
   ]
  },
  {
   "cell_type": "code",
   "execution_count": 14,
   "metadata": {},
   "outputs": [
    {
     "data": {
      "text/plain": [
       "20755"
      ]
     },
     "execution_count": 14,
     "metadata": {},
     "output_type": "execute_result"
    }
   ],
   "source": [
    "len(spec_sr_id)"
   ]
  },
  {
   "cell_type": "code",
   "execution_count": 18,
   "metadata": {},
   "outputs": [],
   "source": [
    "spec_id_sr = {k:v for v,k in spec_sr_id.items()}"
   ]
  },
  {
   "cell_type": "markdown",
   "metadata": {},
   "source": [
    "`spec_sr_id` contains the matching {`subreddit`: `it's id`}, and `spec_id_sr` is its inverse.\n",
    "\n",
    "Now let's create the matching {`subreddit`: `it's description`} and {`subreddit_id`: `it's description`}"
   ]
  },
  {
   "cell_type": "code",
   "execution_count": 19,
   "metadata": {},
   "outputs": [],
   "source": [
    "ids = list(spec_id_sr.keys())"
   ]
  },
  {
   "cell_type": "code",
   "execution_count": 30,
   "metadata": {},
   "outputs": [
    {
     "data": {
      "text/plain": [
       "20755"
      ]
     },
     "execution_count": 30,
     "metadata": {},
     "output_type": "execute_result"
    }
   ],
   "source": [
    "len(ids)"
   ]
  },
  {
   "cell_type": "code",
   "execution_count": 34,
   "metadata": {
    "scrolled": true
   },
   "outputs": [
    {
     "data": {
      "text/plain": [
       "['t5_2t6ov',\n",
       " 't5_30y53',\n",
       " 't5_2h9x5r',\n",
       " 't5_2t57f',\n",
       " 't5_3p7rg',\n",
       " 't5_25iba2',\n",
       " 't5_3nwtdm']"
      ]
     },
     "execution_count": 34,
     "metadata": {},
     "output_type": "execute_result"
    }
   ],
   "source": [
    "ids[1034:1041] # what's with the t5_?"
   ]
  },
  {
   "cell_type": "code",
   "execution_count": 39,
   "metadata": {},
   "outputs": [],
   "source": [
    "for i in ids:\n",
    "    if i[:3] != 't5_':\n",
    "        print(i)"
   ]
  },
  {
   "cell_type": "markdown",
   "metadata": {},
   "source": [
    "Noting is printed from the above cell. So, in `ids`, all `subreddit_id` starts with `t5_`. Let's trim this then."
   ]
  },
  {
   "cell_type": "code",
   "execution_count": 40,
   "metadata": {},
   "outputs": [],
   "source": [
    "ids = [i[3:] for i in ids]"
   ]
  },
  {
   "cell_type": "code",
   "execution_count": 46,
   "metadata": {},
   "outputs": [
    {
     "name": "stdout",
     "output_type": "stream",
     "text": [
      "start time: 2021-11-05 13:11:23.783371\n",
      "counter: 0\n",
      "counter: 50000\n",
      "counter: 100000\n",
      "counter: 150000\n",
      "counter: 200000\n",
      "counter: 250000\n",
      "counter: 300000\n",
      "counter: 350000\n",
      "counter: 400000\n",
      "counter: 450000\n",
      "counter: 500000\n",
      "counter: 550000\n",
      "counter: 600000\n",
      "counter: 650000\n",
      "counter: 700000\n",
      "counter: 750000\n",
      "counter: 800000\n",
      "counter: 850000\n",
      "counter: 900000\n",
      "finish time: 2021-11-05 13:24:38.256613\n"
     ]
    }
   ],
   "source": [
    "counter = 0\n",
    "desc_found = 0\n",
    "subreddit_description = dict()\n",
    "id_description = dict()\n",
    "\n",
    "print(\"start time: {}\".format(datetime.datetime.now()))\n",
    "\n",
    "with open(\"D://Wellesley/F21/thesis_zst_data/reddit_subreddits.ndjson.zst\", 'rb') as ifh: #, open(\"stream_output.json\", 'wb') as ofh:\n",
    "    with dctx.stream_reader(ifh, read_size=2) as reader:\n",
    "        text_stream = io.TextIOWrapper(reader, encoding='utf-8')\n",
    "        for line in text_stream:\n",
    "            # if counter >= 10000:\n",
    "            #     break\n",
    "            if counter % 50000 == 0:\n",
    "                print(\"counter: {}\".format(counter))\n",
    "            d = json.loads(line)\n",
    "            srdtid = d[\"id\"]\n",
    "            if srdtid in ids:\n",
    "                # in spec_id_sr, id starts with t5_\n",
    "                for_spec = \"t5_\" + srdtid\n",
    "                subreddit_description[spec_id_sr[for_spec]] = d[\"description\"]\n",
    "                # id_description[for_spec] = d[\"description\"]\n",
    "                desc_found += 1\n",
    "            counter += 1\n",
    "            # let's break if descriptions for all id's have been found\n",
    "            if desc_found == len(ids):\n",
    "                print(\"all found after {} look ups. Done!\".format(counter))\n",
    "                break\n",
    "            \n",
    "print(\"finish time: {}\".format(datetime.datetime.now()))"
   ]
  },
  {
   "cell_type": "code",
   "execution_count": 48,
   "metadata": {},
   "outputs": [
    {
     "name": "stdout",
     "output_type": "stream",
     "text": [
      "14595 found out of 20755 (70.32040472175379). Counter: 914066.\n"
     ]
    }
   ],
   "source": [
    "print(f\"{desc_found} found out of {len(ids)} ({desc_found*100/len(ids)}). Counter: {counter}.\")"
   ]
  },
  {
   "cell_type": "markdown",
   "metadata": {},
   "source": [
    "It is interesting that PushShift's `subreddit` folder only contains 70% of the subreddits mentioned in their `submission` folder. `subreddit` has 914k subreddits.\n",
    "\n",
    "Perhaps 30% has no descriptions?"
   ]
  },
  {
   "cell_type": "code",
   "execution_count": 56,
   "metadata": {},
   "outputs": [
    {
     "data": {
      "text/plain": [
       "'Nothing can be more abhorrent to democracy than to imprison a person or keep him in prison because he is unpopular. This is really the test of civilization\\n\\nThe true test of society is how well it treats its prisoners and old people.\\n\\nThe test of a civilization is in the way it cares for its helpless members\\n\\nJoin the discussion of abuse in the \"troubled teen\" bootcamps at /r/troubledteens\\n\\nYou might also like:\\n\\n* /r/bad_cop_no_donut\\n* /r/justiceporn\\n* /r/good_cop_free_donut\\n* /r/forfeiture\\n* /r/prisonreform\\n* /r/AmIFreeToGo\\n* /r/ExCons\\n* /r/abolish '"
      ]
     },
     "execution_count": 56,
     "metadata": {},
     "output_type": "execute_result"
    }
   ],
   "source": [
    "# example description\n",
    "subreddit_description[\"prisons\"]"
   ]
  },
  {
   "cell_type": "code",
   "execution_count": 58,
   "metadata": {},
   "outputs": [
    {
     "data": {
      "text/plain": [
       "'t5_2sbiw'"
      ]
     },
     "execution_count": 58,
     "metadata": {},
     "output_type": "execute_result"
    }
   ],
   "source": [
    "spec_sr_id[\"prisons\"]"
   ]
  },
  {
   "cell_type": "code",
   "execution_count": 63,
   "metadata": {},
   "outputs": [],
   "source": [
    "id_description = {spec_sr_id[s]: subreddit_description[s] for s in subreddit_description}"
   ]
  },
  {
   "cell_type": "code",
   "execution_count": 64,
   "metadata": {},
   "outputs": [
    {
     "data": {
      "text/plain": [
       "'Nothing can be more abhorrent to democracy than to imprison a person or keep him in prison because he is unpopular. This is really the test of civilization\\n\\nThe true test of society is how well it treats its prisoners and old people.\\n\\nThe test of a civilization is in the way it cares for its helpless members\\n\\nJoin the discussion of abuse in the \"troubled teen\" bootcamps at /r/troubledteens\\n\\nYou might also like:\\n\\n* /r/bad_cop_no_donut\\n* /r/justiceporn\\n* /r/good_cop_free_donut\\n* /r/forfeiture\\n* /r/prisonreform\\n* /r/AmIFreeToGo\\n* /r/ExCons\\n* /r/abolish '"
      ]
     },
     "execution_count": 64,
     "metadata": {},
     "output_type": "execute_result"
    }
   ],
   "source": [
    "id_description['t5_2sbiw']"
   ]
  },
  {
   "cell_type": "markdown",
   "metadata": {},
   "source": [
    "Let's save these into files"
   ]
  },
  {
   "cell_type": "code",
   "execution_count": 65,
   "metadata": {},
   "outputs": [],
   "source": [
    "with open(\"subreddit_description.json\", \"w\", encoding = \"utf-8\") as outfile_srd:\n",
    "    json.dump(subreddit_description, outfile_srd)"
   ]
  },
  {
   "cell_type": "code",
   "execution_count": 66,
   "metadata": {},
   "outputs": [],
   "source": [
    "with open(\"id_description.json\", \"w\", encoding = \"utf-8\") as outfile_id:\n",
    "    json.dump(id_description, outfile_id)"
   ]
  },
  {
   "cell_type": "code",
   "execution_count": null,
   "metadata": {},
   "outputs": [],
   "source": []
  }
 ],
 "metadata": {
  "kernelspec": {
   "display_name": "Python 3",
   "language": "python",
   "name": "python3"
  },
  "language_info": {
   "codemirror_mode": {
    "name": "ipython",
    "version": 3
   },
   "file_extension": ".py",
   "mimetype": "text/x-python",
   "name": "python",
   "nbconvert_exporter": "python",
   "pygments_lexer": "ipython3",
   "version": "3.8.6"
  }
 },
 "nbformat": 4,
 "nbformat_minor": 4
}
