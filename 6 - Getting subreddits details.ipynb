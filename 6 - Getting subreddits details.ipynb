{
 "cells": [
  {
   "cell_type": "markdown",
   "metadata": {},
   "source": [
    "# Getting Details of Subreddits"
   ]
  },
  {
   "cell_type": "markdown",
   "metadata": {},
   "source": [
    "I will be investigating the details of subreddits provided by PushShift which is accessible here: https://files.pushshift.io/reddit/subreddits/"
   ]
  },
  {
   "cell_type": "code",
   "execution_count": 23,
   "metadata": {},
   "outputs": [
    {
     "name": "stdout",
     "output_type": "stream",
     "text": [
      "Collecting ijson"
     ]
    },
    {
     "name": "stderr",
     "output_type": "stream",
     "text": [
      "WARNING: You are using pip version 21.2.4; however, version 21.3.1 is available.\n",
      "You should consider upgrading via the 'c:\\users\\user200803\\appdata\\local\\programs\\python\\python38\\python.exe -m pip install --upgrade pip' command.\n"
     ]
    },
    {
     "name": "stdout",
     "output_type": "stream",
     "text": [
      "\n",
      "  Downloading ijson-3.1.4-cp38-cp38-win_amd64.whl (48 kB)\n",
      "Installing collected packages: ijson\n",
      "Successfully installed ijson-3.1.4\n"
     ]
    }
   ],
   "source": [
    "!pip install ijson"
   ]
  },
  {
   "cell_type": "code",
   "execution_count": 1,
   "metadata": {},
   "outputs": [],
   "source": [
    "import json\n",
    "import csv\n",
    "import pandas as pd\n",
    "\n",
    "import zstandard as zstd\n",
    "import io\n",
    "\n",
    "from collections import Counter, defaultdict\n",
    "\n",
    "import ijson # to stream large json files\n",
    "\n",
    "import datetime"
   ]
  },
  {
   "cell_type": "code",
   "execution_count": 2,
   "metadata": {},
   "outputs": [],
   "source": [
    "dctx = zstd.ZstdDecompressor(max_window_size=2147483648)"
   ]
  },
  {
   "cell_type": "code",
   "execution_count": 3,
   "metadata": {},
   "outputs": [],
   "source": [
    "dict_list = []"
   ]
  },
  {
   "cell_type": "code",
   "execution_count": 18,
   "metadata": {},
   "outputs": [],
   "source": [
    "counter = 0\n",
    "# with open(\"D://Wellesley/F21/thesis_zst_data/reddit_subreddits.ndjson.zst\", 'rb') as ifh: #, open(\"stream_output.json\", 'wb') as ofh:\n",
    "with open(\"D://thesis_data/reddit_subreddits.ndjson.zst\", 'rb') as ifh: #, open(\"stream_output.json\", 'wb') as ofh:\n",
    "    with dctx.stream_reader(ifh, read_size=2) as reader:\n",
    "        text_stream = io.TextIOWrapper(reader, encoding='utf-8')\n",
    "        for line in text_stream:\n",
    "            if counter >= 1000:\n",
    "                break\n",
    "            d = json.loads(line)\n",
    "            dict_list.append(d)\n",
    "            counter += 1"
   ]
  },
  {
   "cell_type": "code",
   "execution_count": 19,
   "metadata": {},
   "outputs": [],
   "source": [
    "ifh.close()"
   ]
  },
  {
   "cell_type": "code",
   "execution_count": 20,
   "metadata": {},
   "outputs": [
    {
     "data": {
      "text/plain": [
       "dict_keys(['accounts_active', 'accounts_active_is_fuzzed', 'active_user_count', 'advertiser_category', 'all_original_content', 'allow_discovery', 'allow_images', 'allow_polls', 'allow_videogifs', 'allow_videos', 'banner_background_color', 'banner_background_image', 'banner_img', 'banner_size', 'can_assign_link_flair', 'can_assign_user_flair', 'collapse_deleted_comments', 'comment_score_hide_mins', 'community_icon', 'created_utc', 'description', 'description_html', 'disable_contributor_requests', 'display_name', 'display_name_prefixed', 'emojis_custom_size', 'emojis_enabled', 'free_form_reports', 'has_menu_widget', 'header_img', 'header_size', 'header_title', 'hide_ads', 'icon_img', 'icon_size', 'id', 'is_crosspostable_subreddit', 'is_enrolled_in_new_modmail', 'key_color', 'lang', 'link_flair_enabled', 'link_flair_position', 'mobile_banner_image', 'name', 'notification_level', 'original_content_tag_enabled', 'over18', 'primary_color', 'public_description', 'public_description_html', 'public_traffic', 'quarantine', 'restrict_commenting', 'restrict_posting', 'retrieved_utc', 'show_media', 'show_media_preview', 'spoilers_enabled', 'submission_type', 'submit_link_label', 'submit_text', 'submit_text_html', 'submit_text_label', 'subreddit_type', 'subscribers', 'suggested_comment_sort', 'title', 'url', 'user_can_flair_in_sr', 'user_flair_background_color', 'user_flair_css_class', 'user_flair_enabled_in_sr', 'user_flair_position', 'user_flair_richtext', 'user_flair_template_id', 'user_flair_text', 'user_flair_text_color', 'user_flair_type', 'user_has_favorited', 'user_is_banned', 'user_is_contributor', 'user_is_moderator', 'user_is_muted', 'user_is_subscriber', 'user_sr_flair_enabled', 'user_sr_theme_enabled', 'whitelist_status', 'wiki_enabled', 'wls'])"
      ]
     },
     "execution_count": 20,
     "metadata": {},
     "output_type": "execute_result"
    }
   ],
   "source": [
    "dict_list[0].keys()"
   ]
  },
  {
   "cell_type": "markdown",
   "metadata": {},
   "source": [
    "Interesting keys:\n",
    "1. description\n",
    "2. public_description\n",
    "3. public_traffic"
   ]
  },
  {
   "cell_type": "code",
   "execution_count": 24,
   "metadata": {
    "collapsed": true
   },
   "outputs": [
    {
     "name": "stdout",
     "output_type": "stream",
     "text": [
      "[1880887, 3868, 1588, 417898, 275903, 47086, 1880887, 3868, 1588, 417898, 275903, 47086, 233, 469, 2971, 118, 3518, 7183, 273, 26047, 2658512, 96, 69, 8484, 385, 2468, 560, 24268001, 26579, 373753, 6201779, 28047, 555530, 16890685, 17292578, 26628444, 1591748, 95560, 1188612, 101, 118551, 23227, 1394257, 24911449, 137204, 46928, 595969, 134964, 112010, 540006, 1394, 24253881, 26499, 9065541, 585869, 1208099, 99119, 532170, 108992, 1313389, 23114010, 1521243, 13695, 28344571, 268, 439476, 467478, 681073, 25197817, 30131, 347710, 6757, 826571, 1186, 24041486, 2455, 65716, 1611512, 7878, 136072, 443334, 7506, 4352, 13987, 2875552, 2362255, 1460, 40984, 65724, 319, 4673, 3435, 25618, 22787, 1242138, 2589847, 1020616, 189959, 245507, 161623, 228692, 18909, 1673302, 970146, 1104, 9317, 1880887, 3868, 1588, 417898, 275903, 47086, 233, 469, 2971, 118, 3518, 7183, 273, 26047, 2658512, 96, 69, 8484, 385, 2468, 560, 24268001, 26579, 373753, 6201779, 28047, 555530, 16890685, 17292578, 26628444, 1591748, 95560, 1188612, 101, 118551, 23227, 1394257, 24911449, 137204, 46928, 595969, 134964, 112010, 540006, 1394, 24253881, 26499, 9065541, 585869, 1208099, 99119, 532170, 108992, 1313389, 23114010, 1521243, 13695, 28344571, 268, 439476, 467478, 681073, 25197817, 30131, 347710, 6757, 826571, 1186, 24041486, 2455, 65716, 1611512, 7878, 136072, 443334, 7506, 4352, 13987, 2875552, 2362255, 1460, 40984, 65724, 319, 4673, 3435, 25618, 22787, 1242138, 2589847, 1020616, 189959, 245507, 161623, 228692, 18909, 1673302, 970146, 1104, 9317, 31060166, 2321992, 28179, 55783, 33652, 121916, 52804, 24359, 374766, None, 13105, 1355, 62806, 77594, 12750, 57680, 153527, 20935015, 7638, 35387, 1584000, 919482, 156525, 23087255, 33125, 160887, 5294812, 10590, 17074, 69196, 304257, 13712, 4489082, 15145, 979, 434693, 985616, 19531, 319111, 17757041, 293696, 94009, 18078148, 2414526, 827, 117315, 111319, 3908, 1238402, 7954, 7995, 1704990, 72043, 1154118, 241, 179, 391, 14885003, 18869885, 1799141, 947, 59, 14818794, 4674, 2147, 13645, 98, 407117, 173842, 27163, 68985, 2840, 10497, 49400, 675, 7391, 6224561, 149944, 392992, 1399, 7507, 675822, 1576727, 308627, 240083, 203334, 16595714, 4608, 7320, 51075, 130306, 358954, 33685, 1207, 701, 21503, 8790, 1064, 16328, 18574807, 24, 84632, 101589, 39814, 277, 1379812, 117510, 17826701, 115752, 5569, 17551698, 1651, 1876449, 62172, 207, 440415, 828744, 137714, 685533, 29312, 6893, 17899, 81158, 43932, 62299, 275, 133154, 841, 179, 3454, 126355, 11655, 16937271, 54438, 8835, 83178, 241468, 76788, 490932, 235028, 71565, 3401, 72482, 9720, 34287, 6812, 2459, 2424, 8537, 6035, 970, 5997, 258263, 132392, 69815, 959543, 72281, 1221417, 4501, 3297, 378909, 10490, 120557, 338, 40455, 8033, 3986, 39365, 1683404, 1007872, 19027, 218214, 266508, 67988, 1157, 222, 33972, 23023, 68954, 100936, 12174, 5608, 149, 728, 5895, 4204, 257467, 20178, 139, 130996, 281408, 43886, 442, 62, 1269025, 2934, 638, 20846, 24824, 63794, 110500, 3113, 133894, 121652, 5248, 247, 555691, 28543, 48484, 162193, 1827, 14897, 6283, 28671, 10742, 11947, 268568, 262734, 645470, 242, 2080, 7982, 15686, 43656, 188993, 23, 48, 144393, 219256, 80, 9316, 220535, 4992, 1621, 275230, 176071, 28452, 28092, 98721, 20275, 2379, 186651, 2164, 405267, 820, 134309, 29972, 1152, 543, 1029906, 112110, 308752, 1977697, 108714, 383374, 51, 3643, 51, 18454, 42, 35170, 47227, 547, 405028, 112246, 32972, 2326, 167136, 27758, 79, 27724, 8276, 514339, 65951, 381, 454, 1562800, 174734, 1073231, 9977, 746652, 12, 95581, 46673, 17714, 35252, 1250981, 305, 2351, 2116, 77953, 44589, 4492, 374, 93341, 45, 519, 156, 1909, 142860, 1157487, 3179, 334, 74335, 59054, 35587, 18209, 523, 44490, 102220, 59473, 35675, 357692, 10952, 34544, 64922, 265939, 3542, 20359, 3099, 2116, 111857, 25431, 94834, 6997, 1885, 407, 2708998, 9296, 40670, 74177, 6108, 447, 7100, 5903, 5045, 12004, 1871778, 11895, 277, 4619, 845664, 16293009, 2695, 57849, 6323, 108652, 122, 3478, 326, 8382, 4193, 154, 76923, 597799, 3209, 3765, 238378, 254, 220610, 61772, 13369, 88975, 268832, 7637, 42285, 148911, 4111, 2847, 4486, 6614, 493, 109016, 888070, 27004, 10050, 5789, 75687, 67106, 164, 2278581, 57865, 171967, 1766116, 723, 799, 35, 2177, 332967, 17582, 252867, 120209, 12181, 1685766, 676, 224548, 16556, 12618, 18, 299, 6151, 203192, 71222, 2325, 109243, 51, 83061, 312, 8003, 1229659, 3375, 254132, 1328665, 208411, 186758, 57761, 25190, 5081, 56214, 40519, 94941, 31474, 376064, 15, 63, 4432, 312261, 2412, 3590, 468794, 172275, 9621, 1248795, 29805, 5323, 8711, 298311, 33, 185167, 301991, 41885, 1760, 23367, 1986, 26512, 784, 399, 850, 162044, 5731, 648771, 109425, 25059, 496470, 599, 188042, 98, 52674, 3460, 20825, 1177, 79212, 2041, 46618, 2702, 48, 508149, 41897, 20094, 72364, 53086, 118720, 146497, 5807636, 12579, 53, 24265, 251, 56388, 640, 9292, 103838, 57081, 132224, 199266, 292, 27265, 6511, 7160, 226, 2250, 2820, 2025411, 3050, 17830, 2788, 1495, 638, 97439, 382, 1597, 1357, 85428, 267, 18656, 11551, 6942, 232184, 124917, 127532, 1280, 505, 6915, 619022, 1038897, 197351, 4765, 12499, 18796, 29588, 1972, 58694, 19, 4946, 43868, 1579, 16100, 127, 239106, 235949, 854, 1160412, 24308, 41614, 5051, 443199, 163422, 91607, 13968, 63501, 3914, 2305, 153992, 11827, 107726, 5778, 67442, 576659, 202674, 14535, 65695, 23520, 99002, 43212, 2734, 1256, 1314, 35, 10957, 11368, 2364511, 35452, 41388, 10293, 21571, 3351, 66806, 2350, 169131, 20850, 67061, 7732007, 38, 37040, 16554, 54505, 32353, 730261, 73, 33341, 48, 35203, 98630, 1148093, 665, 931, 98, 2397, 22492, 2971, 44029, 91737, 78872, 49524, 135051, 34566, 6185, 965702, 427, 55, 14401, 10035, 76748, 68854, 17033, 811, 351189, 261, 921, 112, 9435, 49214, 38783, 1732, 1132, 49248, 51053, 33, 2326, 380, 57337, 66217, 14274, 41152, 45782, 450257, 55888, 90046, 66218, 22839, 21617, 683690, 736019, 35633, 146117, 683, 1529, 50, 13081, 18556, 54204, 6266, 1467, 1040613, 954, 722921, 242, 11354, 21909, 16, 140665, 25, 104029, 158215, 158774, 139365, 74171, 93156, 60, 139693, 18497, 378, 371, 4315, 104, 390, 9686, 46854, 1670, 55322, 4250, 153659, 95354, 177615, 79, 1511833, 168262, 485708, 669, 2066434, 24498, 422, 4147, 1633, 292, 199979, 204359, 48187, 782, 924474, 297, 20480, 27256, 8090, 96, 1755, 74918, 59341, 17948, 1849, 44724, 597898, 1073, 1670, 34, 7724, 415, 1023, 6096, 66985, 11373, 3721, 9014, 41911, 580, 114926, 541, 6984, 32121, 2718, 120, 3068, 7652, 27722, 9944, 45, 64034, 973, 120314, 31451, 3497, 2886, 1022, 1477, 23117, 10234, 5462, 5037, 642, 3236, 522, 16583, 56934, 188, 1666, 438, 3784, 576, 393793, 1104, 35429, 1377, 78471, 95, 112098, 6329, 992, 1417, 12678, 7263, 9848, 3689, 1015095, 801965, 31058, 4662, 7443, 56, 2786, 1099, 75504, 6248, 795, 51, 23024, 4068, 69607, 282808, 4210, 712475, 43177, 23992, 1695, 1573, 965, 220, 24629, 6550, 31871, 11533, 30607, 989, 168, 119, 17483, 130, 35273, 371, 2030, 6056, 140, 10988, 2219, 1338, 140, 886, 19720, 616, 8121, 7874, 716, 1242, 402379, 2906, 81, 137870, 19375, 49247, 447, 2460, 646, 250095, 18707, 1324, 4290, 62198, 951217, 2064, 300, 111054, 43907, 87950, 319, 2537, 11, 8943, 1160, 17399, 6143, 1840, 34450, 8379, 9629, 945, 1595207, 1239, 4102, 131629, 950173, 934, 7368, 27425, 193088, 541, 49092, 286, 53142, 444657, 916, 137253, 824609, 287, 147897, 1898, 11843, 7754, 157979, 722, 327, 168102, 18852, 51895, 212703, 52253, 2748, 22, 11144, 7493, 1884, 55, 14, 45512, 10244, 13, 187, 1753, 923, 8433, 336104, 5309, 1623, 135, 99875, 63840, 230303, 4494, 7035, 48788, 190, 1140]\n"
     ]
    }
   ],
   "source": [
    "print([dict_list[k]['subscribers'] for k in range(len(dict_list))])"
   ]
  },
  {
   "cell_type": "code",
   "execution_count": 6,
   "metadata": {},
   "outputs": [
    {
     "data": {
      "text/plain": [
       "'For US news there is /r/news, for world news there is /r/worldnews, but what about deep and interesting feature articles? In-depth interviews? Other non-urgent or perhaps less-deep but still-powerful pieces?\\n\\nWelcome to /r/features, an evolving SubReddit for high-quality and evocative long-form content that does not fit neatly into any one category!\\n\\nThe Texts Continuum:\\n\\n* **/r/Vignettes** (short)\\n* **\\\\/r/Features** (medium)\\n* /r/LongText (long)\\n* /r/TrueReddit (deep)\\n* /r/DepthHub (meta)\\n* /r/News (timely)\\n* /r/WorldNews (global)\\n* /r/Modded (moderated)\\n\\nIf you are looking for a place to suggest a feature for reddit, then /r/IdeasForTheAdmins is your subreddit of choice.\\n\\nNote: this SubReddit is a work in progress and we would welcome feedback from new readers and submitters alike as it grows!'"
      ]
     },
     "execution_count": 6,
     "metadata": {},
     "output_type": "execute_result"
    }
   ],
   "source": [
    "dict_list[1]['description']"
   ]
  },
  {
   "cell_type": "code",
   "execution_count": 7,
   "metadata": {},
   "outputs": [
    {
     "data": {
      "text/plain": [
       "'For US news there is /r/news, for world news there is /r/worldnews, but what about deep and interesting feature articles? Welcome to /r/features, an evolving SubReddit for high-quality and evocative long-form content that does not fit neatly into any one category!\\n\\nIf you are looking for a place to suggest a feature for reddit, then /r/IdeasForTheAdmins is your subreddit of choice.'"
      ]
     },
     "execution_count": 7,
     "metadata": {},
     "output_type": "execute_result"
    }
   ],
   "source": [
    "dict_list[1]['public_description']"
   ]
  },
  {
   "cell_type": "markdown",
   "metadata": {},
   "source": [
    "Interesting how `description` is not exactly the same as `public_description`. Should I use both? Perhaps just `description`, because people are more inclined to post on a subreddit if they are a member of that subreddit instead of just a random general public?"
   ]
  },
  {
   "cell_type": "code",
   "execution_count": 8,
   "metadata": {
    "scrolled": true
   },
   "outputs": [
    {
     "data": {
      "text/plain": [
       "['Not Safe for Work',\n",
       " 'features',\n",
       " 'Request',\n",
       " 'Citius, Altius, Fortius',\n",
       " 'r/de - Extraordinär gut!',\n",
       " 'Reddit en español para España']"
      ]
     },
     "execution_count": 8,
     "metadata": {},
     "output_type": "execute_result"
    }
   ],
   "source": [
    "[dict_list[idx]['title'] for idx in range(len(dict_list))]"
   ]
  },
  {
   "cell_type": "code",
   "execution_count": 9,
   "metadata": {},
   "outputs": [
    {
     "data": {
      "text/plain": [
       "['vf2', '21n6', '21nj', '21of', '22i0', '22i2']"
      ]
     },
     "execution_count": 9,
     "metadata": {},
     "output_type": "execute_result"
    }
   ],
   "source": [
    "[dict_list[idx]['id'] for idx in range(len(dict_list))]"
   ]
  },
  {
   "cell_type": "markdown",
   "metadata": {},
   "source": [
    "It seems that I need subreddit id's afterall. Good thing I have this info. For each of the subreddits that we are interested in, let's get their id's and then descriptions."
   ]
  },
  {
   "cell_type": "code",
   "execution_count": 25,
   "metadata": {},
   "outputs": [],
   "source": [
    "with open(\"subreddit_ns.json\", \"r\", encoding=\"utf-8\") as infile1:\n",
    "    subreddit_ns = json.load(infile1)\n",
    "    subreddits = subreddit_ns.keys()\n",
    "infile1.close()"
   ]
  },
  {
   "cell_type": "code",
   "execution_count": 26,
   "metadata": {},
   "outputs": [
    {
     "data": {
      "text/plain": [
       "20755"
      ]
     },
     "execution_count": 26,
     "metadata": {},
     "output_type": "execute_result"
    }
   ],
   "source": [
    "len(subreddits)"
   ]
  },
  {
   "cell_type": "markdown",
   "metadata": {},
   "source": [
    "Let's get their id's!"
   ]
  },
  {
   "cell_type": "code",
   "execution_count": 27,
   "metadata": {},
   "outputs": [],
   "source": [
    "spec_sr_id = dict()\n",
    "with open(\"subreddit_id.json\", \"r\") as infile2:\n",
    "    subreddit_id = json.load(infile2)\n",
    "    for s in subreddits:\n",
    "        spec_sr_id[s] = subreddit_id[s]"
   ]
  },
  {
   "cell_type": "code",
   "execution_count": 28,
   "metadata": {},
   "outputs": [
    {
     "data": {
      "text/plain": [
       "20755"
      ]
     },
     "execution_count": 28,
     "metadata": {},
     "output_type": "execute_result"
    }
   ],
   "source": [
    "len(spec_sr_id)"
   ]
  },
  {
   "cell_type": "code",
   "execution_count": 29,
   "metadata": {},
   "outputs": [],
   "source": [
    "spec_id_sr = {k:v for v,k in spec_sr_id.items()}"
   ]
  },
  {
   "cell_type": "markdown",
   "metadata": {},
   "source": [
    "`spec_sr_id` contains the matching {`subreddit`: `it's id`}, and `spec_id_sr` is its inverse.\n",
    "\n",
    "Now let's create the matching {`subreddit`: `it's description`} and {`subreddit_id`: `it's description`}"
   ]
  },
  {
   "cell_type": "code",
   "execution_count": 30,
   "metadata": {},
   "outputs": [],
   "source": [
    "ids = list(spec_id_sr.keys())"
   ]
  },
  {
   "cell_type": "code",
   "execution_count": 31,
   "metadata": {},
   "outputs": [
    {
     "data": {
      "text/plain": [
       "20755"
      ]
     },
     "execution_count": 31,
     "metadata": {},
     "output_type": "execute_result"
    }
   ],
   "source": [
    "len(ids)"
   ]
  },
  {
   "cell_type": "code",
   "execution_count": 32,
   "metadata": {
    "scrolled": true
   },
   "outputs": [
    {
     "data": {
      "text/plain": [
       "['t5_2t6ov',\n",
       " 't5_30y53',\n",
       " 't5_2h9x5r',\n",
       " 't5_2t57f',\n",
       " 't5_3p7rg',\n",
       " 't5_25iba2',\n",
       " 't5_3nwtdm']"
      ]
     },
     "execution_count": 32,
     "metadata": {},
     "output_type": "execute_result"
    }
   ],
   "source": [
    "ids[1034:1041] # what's with the t5_?"
   ]
  },
  {
   "cell_type": "code",
   "execution_count": 33,
   "metadata": {},
   "outputs": [],
   "source": [
    "for i in ids:\n",
    "    if i[:3] != 't5_':\n",
    "        print(i)"
   ]
  },
  {
   "cell_type": "markdown",
   "metadata": {},
   "source": [
    "Noting is printed from the above cell. So, in `ids`, all `subreddit_id` starts with `t5_`. Let's trim this then."
   ]
  },
  {
   "cell_type": "code",
   "execution_count": 34,
   "metadata": {},
   "outputs": [],
   "source": [
    "ids = [i[3:] for i in ids]"
   ]
  },
  {
   "cell_type": "markdown",
   "metadata": {},
   "source": [
    "**Finding subreddit descriptions**"
   ]
  },
  {
   "cell_type": "code",
   "execution_count": 46,
   "metadata": {},
   "outputs": [
    {
     "name": "stdout",
     "output_type": "stream",
     "text": [
      "start time: 2021-11-05 13:11:23.783371\n",
      "counter: 0\n",
      "counter: 50000\n",
      "counter: 100000\n",
      "counter: 150000\n",
      "counter: 200000\n",
      "counter: 250000\n",
      "counter: 300000\n",
      "counter: 350000\n",
      "counter: 400000\n",
      "counter: 450000\n",
      "counter: 500000\n",
      "counter: 550000\n",
      "counter: 600000\n",
      "counter: 650000\n",
      "counter: 700000\n",
      "counter: 750000\n",
      "counter: 800000\n",
      "counter: 850000\n",
      "counter: 900000\n",
      "finish time: 2021-11-05 13:24:38.256613\n"
     ]
    }
   ],
   "source": [
    "counter = 0\n",
    "desc_found = 0\n",
    "subreddit_description = dict()\n",
    "id_description = dict()\n",
    "\n",
    "print(\"start time: {}\".format(datetime.datetime.now()))\n",
    "\n",
    "with open(\"D://Wellesley/F21/thesis_zst_data/reddit_subreddits.ndjson.zst\", 'rb') as ifh: #, open(\"stream_output.json\", 'wb') as ofh:\n",
    "    with dctx.stream_reader(ifh, read_size=2) as reader:\n",
    "        text_stream = io.TextIOWrapper(reader, encoding='utf-8')\n",
    "        for line in text_stream:\n",
    "            # if counter >= 10000:\n",
    "            #     break\n",
    "            if counter % 50000 == 0:\n",
    "                print(\"counter: {}\".format(counter))\n",
    "            d = json.loads(line)\n",
    "            srdtid = d[\"id\"]\n",
    "            if srdtid in ids:\n",
    "                # in spec_id_sr, id starts with t5_\n",
    "                for_spec = \"t5_\" + srdtid\n",
    "                subreddit_description[spec_id_sr[for_spec]] = d[\"description\"]\n",
    "                # id_description[for_spec] = d[\"description\"]\n",
    "                desc_found += 1\n",
    "            counter += 1\n",
    "            # let's break if descriptions for all id's have been found\n",
    "            if desc_found == len(ids):\n",
    "                print(\"all found after {} look ups. Done!\".format(counter))\n",
    "                break\n",
    "            \n",
    "print(\"finish time: {}\".format(datetime.datetime.now()))"
   ]
  },
  {
   "cell_type": "markdown",
   "metadata": {},
   "source": [
    "**Finding subreddit subscribers**"
   ]
  },
  {
   "cell_type": "code",
   "execution_count": 41,
   "metadata": {
    "scrolled": true
   },
   "outputs": [
    {
     "name": "stdout",
     "output_type": "stream",
     "text": [
      "start time: 2021-11-13 05:39:55.508202\n",
      "counter: 0\n",
      "counter: 50000\n",
      "counter: 100000\n",
      "counter: 150000\n",
      "counter: 200000\n",
      "counter: 250000\n",
      "counter: 300000\n",
      "counter: 350000\n",
      "counter: 400000\n",
      "counter: 450000\n",
      "counter: 500000\n",
      "counter: 550000\n",
      "counter: 600000\n",
      "counter: 650000\n",
      "counter: 700000\n",
      "counter: 750000\n",
      "counter: 800000\n",
      "counter: 850000\n",
      "counter: 900000\n",
      "finish time: 2021-11-13 05:45:56.262017\n"
     ]
    }
   ],
   "source": [
    "counter = 0\n",
    "subscribers_found = 0\n",
    "subreddit_subscribers = dict()\n",
    "id_subscribers = dict()\n",
    "\n",
    "print(\"start time: {}\".format(datetime.datetime.now()))\n",
    "\n",
    "# with open(\"D://Wellesley/F21/thesis_zst_data/reddit_subreddits.ndjson.zst\", 'rb') as ifh: #, open(\"stream_output.json\", 'wb') as ofh:\n",
    "with open(\"D://thesis_data/reddit_subreddits.ndjson.zst\", 'rb') as ifh: #, open(\"stream_output.json\", 'wb') as ofh:\n",
    "    with dctx.stream_reader(ifh, read_size=2) as reader:\n",
    "        text_stream = io.TextIOWrapper(reader, encoding='utf-8')\n",
    "        for line in text_stream:\n",
    "            # if counter >= 10000:\n",
    "            #     break\n",
    "            if counter % 50000 == 0:\n",
    "                print(\"counter: {}\".format(counter))\n",
    "            d = json.loads(line)\n",
    "            srdtid = d[\"id\"]\n",
    "            if srdtid in ids:\n",
    "                # in spec_id_sr, id starts with t5_\n",
    "                for_spec = \"t5_\" + srdtid\n",
    "                subreddit_subscribers[spec_id_sr[for_spec]] = d[\"subscribers\"]\n",
    "                id_subscribers[for_spec] = d[\"subscribers\"]\n",
    "                subscribers_found += 1\n",
    "            counter += 1\n",
    "            # let's break if descriptions for all id's have been found\n",
    "            if subscribers_found == len(ids):\n",
    "                print(\"all found after {} look ups. Done!\".format(counter))\n",
    "                break\n",
    "            \n",
    "print(\"finish time: {}\".format(datetime.datetime.now()))"
   ]
  },
  {
   "cell_type": "code",
   "execution_count": 38,
   "metadata": {},
   "outputs": [
    {
     "name": "stdout",
     "output_type": "stream",
     "text": [
      "14595 found out of 20755 (70.32040472175379). Counter: 914066.\n"
     ]
    }
   ],
   "source": [
    "print(f\"{subscribers_found} found out of {len(ids)} ({subscribers_found*100/len(ids)}). Counter: {counter}.\")"
   ]
  },
  {
   "cell_type": "code",
   "execution_count": 48,
   "metadata": {},
   "outputs": [
    {
     "name": "stdout",
     "output_type": "stream",
     "text": [
      "14595 found out of 20755 (70.32040472175379). Counter: 914066.\n"
     ]
    }
   ],
   "source": [
    "print(f\"{desc_found} found out of {len(ids)} ({desc_found*100/len(ids)}). Counter: {counter}.\")"
   ]
  },
  {
   "cell_type": "markdown",
   "metadata": {},
   "source": [
    "It is interesting that PushShift's `subreddit` folder only contains 70% of the subreddits mentioned in their `submission` folder. `subreddit` has 914k subreddits.\n",
    "\n",
    "Perhaps 30% has no descriptions?"
   ]
  },
  {
   "cell_type": "code",
   "execution_count": 56,
   "metadata": {},
   "outputs": [
    {
     "data": {
      "text/plain": [
       "'Nothing can be more abhorrent to democracy than to imprison a person or keep him in prison because he is unpopular. This is really the test of civilization\\n\\nThe true test of society is how well it treats its prisoners and old people.\\n\\nThe test of a civilization is in the way it cares for its helpless members\\n\\nJoin the discussion of abuse in the \"troubled teen\" bootcamps at /r/troubledteens\\n\\nYou might also like:\\n\\n* /r/bad_cop_no_donut\\n* /r/justiceporn\\n* /r/good_cop_free_donut\\n* /r/forfeiture\\n* /r/prisonreform\\n* /r/AmIFreeToGo\\n* /r/ExCons\\n* /r/abolish '"
      ]
     },
     "execution_count": 56,
     "metadata": {},
     "output_type": "execute_result"
    }
   ],
   "source": [
    "# example description\n",
    "subreddit_description[\"prisons\"]"
   ]
  },
  {
   "cell_type": "code",
   "execution_count": 58,
   "metadata": {},
   "outputs": [
    {
     "data": {
      "text/plain": [
       "'t5_2sbiw'"
      ]
     },
     "execution_count": 58,
     "metadata": {},
     "output_type": "execute_result"
    }
   ],
   "source": [
    "spec_sr_id[\"prisons\"]"
   ]
  },
  {
   "cell_type": "code",
   "execution_count": 63,
   "metadata": {},
   "outputs": [],
   "source": [
    "id_description = {spec_sr_id[s]: subreddit_description[s] for s in subreddit_description}"
   ]
  },
  {
   "cell_type": "code",
   "execution_count": 64,
   "metadata": {},
   "outputs": [
    {
     "data": {
      "text/plain": [
       "'Nothing can be more abhorrent to democracy than to imprison a person or keep him in prison because he is unpopular. This is really the test of civilization\\n\\nThe true test of society is how well it treats its prisoners and old people.\\n\\nThe test of a civilization is in the way it cares for its helpless members\\n\\nJoin the discussion of abuse in the \"troubled teen\" bootcamps at /r/troubledteens\\n\\nYou might also like:\\n\\n* /r/bad_cop_no_donut\\n* /r/justiceporn\\n* /r/good_cop_free_donut\\n* /r/forfeiture\\n* /r/prisonreform\\n* /r/AmIFreeToGo\\n* /r/ExCons\\n* /r/abolish '"
      ]
     },
     "execution_count": 64,
     "metadata": {},
     "output_type": "execute_result"
    }
   ],
   "source": [
    "id_description['t5_2sbiw']"
   ]
  },
  {
   "cell_type": "markdown",
   "metadata": {},
   "source": [
    "Let's save these into files"
   ]
  },
  {
   "cell_type": "code",
   "execution_count": 65,
   "metadata": {},
   "outputs": [],
   "source": [
    "with open(\"subreddit_description.json\", \"w\", encoding = \"utf-8\") as outfile_srd:\n",
    "    json.dump(subreddit_description, outfile_srd)"
   ]
  },
  {
   "cell_type": "code",
   "execution_count": 66,
   "metadata": {},
   "outputs": [],
   "source": [
    "with open(\"id_description.json\", \"w\", encoding = \"utf-8\") as outfile_id:\n",
    "    json.dump(id_description, outfile_id)"
   ]
  },
  {
   "cell_type": "code",
   "execution_count": 39,
   "metadata": {},
   "outputs": [],
   "source": [
    "with open(\"subreddit_subscribers.json\", \"w\", encoding = \"utf-8\") as outfile_subc:\n",
    "    json.dump(subreddit_subscribers, outfile_subc)"
   ]
  },
  {
   "cell_type": "code",
   "execution_count": 42,
   "metadata": {},
   "outputs": [
    {
     "data": {
      "text/plain": [
       "14595"
      ]
     },
     "execution_count": 42,
     "metadata": {},
     "output_type": "execute_result"
    }
   ],
   "source": [
    "len(id_subscribers)"
   ]
  },
  {
   "cell_type": "code",
   "execution_count": 43,
   "metadata": {},
   "outputs": [],
   "source": [
    "with open(\"id_subscribers.json\", \"w\", encoding = \"utf-8\") as outfile_subc_id:\n",
    "    json.dump(id_subscribers, outfile_subc_id)"
   ]
  },
  {
   "cell_type": "code",
   "execution_count": null,
   "metadata": {},
   "outputs": [],
   "source": []
  }
 ],
 "metadata": {
  "kernelspec": {
   "display_name": "Python 3 (ipykernel)",
   "language": "python",
   "name": "python3"
  },
  "language_info": {
   "codemirror_mode": {
    "name": "ipython",
    "version": 3
   },
   "file_extension": ".py",
   "mimetype": "text/x-python",
   "name": "python",
   "nbconvert_exporter": "python",
   "pygments_lexer": "ipython3",
   "version": "3.10.0"
  }
 },
 "nbformat": 4,
 "nbformat_minor": 4
}
