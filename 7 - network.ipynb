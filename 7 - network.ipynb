{
 "cells": [
  {
   "cell_type": "markdown",
   "id": "04cd6598",
   "metadata": {},
   "source": [
    "# Network vis for news source propagation on Reddit"
   ]
  },
  {
   "cell_type": "markdown",
   "id": "84c02cd9",
   "metadata": {},
   "source": [
    "Use gephi instead! networkx for 1 cluster"
   ]
  },
  {
   "cell_type": "code",
   "execution_count": 2,
   "id": "d5ee8590",
   "metadata": {},
   "outputs": [
    {
     "name": "stdout",
     "output_type": "stream",
     "text": [
      "Collecting networkx\n",
      "  Downloading networkx-2.6.3-py3-none-any.whl (1.9 MB)\n",
      "Installing collected packages: networkx\n",
      "Successfully installed networkx-2.6.3\n"
     ]
    }
   ],
   "source": [
    "!pip install networkx"
   ]
  },
  {
   "cell_type": "code",
   "execution_count": 55,
   "id": "08b9dbba",
   "metadata": {
    "scrolled": true
   },
   "outputs": [],
   "source": [
    "import networkx as nx\n",
    "import json\n",
    "import pandas as pd\n",
    "\n",
    "import numpy as np\n",
    "\n",
    "import matplotlib.pyplot as plt"
   ]
  },
  {
   "cell_type": "markdown",
   "id": "3796c6a8",
   "metadata": {},
   "source": [
    "**Let's create a graph**"
   ]
  },
  {
   "cell_type": "code",
   "execution_count": 56,
   "id": "3a194e74",
   "metadata": {},
   "outputs": [],
   "source": [
    "small_graph = nx.Graph()"
   ]
  },
  {
   "cell_type": "code",
   "execution_count": 57,
   "id": "3ce9505b",
   "metadata": {},
   "outputs": [],
   "source": [
    "small_graph.add_nodes_from([\"a\", \"b\", \"c\"])"
   ]
  },
  {
   "cell_type": "code",
   "execution_count": 58,
   "id": "5595b3ea",
   "metadata": {},
   "outputs": [],
   "source": [
    "small_graph.add_edge(*(\"a\", \"b\"))\n",
    "small_graph.add_edge(*(\"b\", \"c\"))"
   ]
  },
  {
   "cell_type": "code",
   "execution_count": 59,
   "id": "4a55cee1",
   "metadata": {},
   "outputs": [
    {
     "data": {
      "text/plain": [
       "<function matplotlib.pyplot.show(close=None, block=None)>"
      ]
     },
     "execution_count": 59,
     "metadata": {},
     "output_type": "execute_result"
    },
    {
     "data": {
      "image/png": "[encoded data removed]",
      "text/plain": [
       "<Figure size 432x288 with 1 Axes>"
      ]
     },
     "metadata": {},
     "output_type": "display_data"
    }
   ],
   "source": [
    "nx.draw(small_graph)\n",
    "plt.show"
   ]
  },
  {
   "cell_type": "code",
   "execution_count": 75,
   "id": "49cec3f0",
   "metadata": {},
   "outputs": [],
   "source": [
    "# what if we add a node a second time\n",
    "small_graph.add_nodes_from([\"a\", \"c\"])"
   ]
  },
  {
   "cell_type": "code",
   "execution_count": 76,
   "id": "1efbc7c8",
   "metadata": {},
   "outputs": [
    {
     "data": {
      "text/plain": [
       "NodeView(('a', 'b', 'c'))"
      ]
     },
     "execution_count": 76,
     "metadata": {},
     "output_type": "execute_result"
    }
   ],
   "source": [
    "small_graph.nodes()"
   ]
  },
  {
   "cell_type": "markdown",
   "id": "652f3e26",
   "metadata": {},
   "source": [
    "Reading files"
   ]
  },
  {
   "cell_type": "code",
   "execution_count": 60,
   "id": "deb1d499",
   "metadata": {},
   "outputs": [],
   "source": [
    "with open(\"ns_subreddit_2021-03.json\") as infile3:\n",
    "    ns_subreddit_03 = json.load(infile3)\n",
    "    \n",
    "with open(\"ns_subreddit_2021-04.json\") as infile4:\n",
    "    ns_subreddit_04 = json.load(infile4)"
   ]
  },
  {
   "cell_type": "markdown",
   "id": "e1b58aeb",
   "metadata": {},
   "source": [
    "To add edges, then maybe we should look into individual edges."
   ]
  },
  {
   "cell_type": "code",
   "execution_count": 61,
   "id": "a9764ff8",
   "metadata": {},
   "outputs": [],
   "source": [
    "with open(\"subreddit_ns_2021-03.json\") as infile3a:\n",
    "    subreddit_ns_03 = json.load(infile3a)\n",
    "    \n",
    "with open(\"subreddit_ns_2021-04.json\") as infile4a:\n",
    "    subreddit_ns_04 = json.load(infile4a)"
   ]
  },
  {
   "cell_type": "code",
   "execution_count": 62,
   "id": "ef6bb3ea",
   "metadata": {},
   "outputs": [],
   "source": [
    "G = nx.Graph()"
   ]
  },
  {
   "cell_type": "code",
   "execution_count": 63,
   "id": "02b120dd",
   "metadata": {},
   "outputs": [
    {
     "name": "stdout",
     "output_type": "stream",
     "text": [
      "[]\n",
      "[]\n"
     ]
    }
   ],
   "source": [
    "print(G.nodes()) # returns a list\n",
    "print(G.edges()) # returns a list"
   ]
  },
  {
   "cell_type": "markdown",
   "id": "5d5d6ec8",
   "metadata": {},
   "source": [
    "**let's just use 1000 subreddits with the most subscribers**"
   ]
  },
  {
   "cell_type": "code",
   "execution_count": 64,
   "id": "2e5f6847",
   "metadata": {},
   "outputs": [],
   "source": [
    "subreddits = list(set(subreddit_ns_03.keys()) & set(subreddit_ns_04.keys()))"
   ]
  },
  {
   "cell_type": "code",
   "execution_count": 65,
   "id": "00942831",
   "metadata": {},
   "outputs": [],
   "source": [
    "# Let's only use the subreddits that have lots of subscribers\n",
    "with open (\"subreddit_subscribers.json\", \"r\", encoding = \"utf-8\") as infile:\n",
    "    subreddit_subscribers = json.load(infile)"
   ]
  },
  {
   "cell_type": "code",
   "execution_count": 66,
   "id": "d6d2a893",
   "metadata": {},
   "outputs": [
    {
     "data": {
      "text/plain": [
       "8865"
      ]
     },
     "execution_count": 66,
     "metadata": {},
     "output_type": "execute_result"
    }
   ],
   "source": [
    "subreddits_w_subc = [subreddits[k] for k in range(len(subreddits)) if subreddits[k] in subreddit_subscribers]\n",
    "len(subreddits_w_subc)"
   ]
  },
  {
   "cell_type": "code",
   "execution_count": 67,
   "id": "55b6f462",
   "metadata": {},
   "outputs": [
    {
     "data": {
      "text/plain": [
       "8863"
      ]
     },
     "execution_count": 67,
     "metadata": {},
     "output_type": "execute_result"
    }
   ],
   "source": [
    "subreddits_w_subc = [s for s in subreddits_w_subc if subreddit_subscribers[s] is not None]\n",
    "len(subreddits_w_subc)"
   ]
  },
  {
   "cell_type": "code",
   "execution_count": 68,
   "id": "b5674060",
   "metadata": {},
   "outputs": [],
   "source": [
    "srs_all = sorted(subreddits_w_subc, key= lambda x: subreddit_subscribers[x], reverse= True)"
   ]
  },
  {
   "cell_type": "code",
   "execution_count": 69,
   "id": "0d4eb2b1",
   "metadata": {},
   "outputs": [
    {
     "data": {
      "text/plain": [
       "(array([8.568e+03, 2.300e+01, 4.000e+00, 1.000e+00, 9.000e+00, 1.400e+01,\n",
       "        6.000e+00, 6.000e+00, 3.000e+00, 1.000e+00]),\n",
       " array([1.00000000e+00, 3.10601750e+06, 6.21203400e+06, 9.31805050e+06,\n",
       "        1.24240670e+07, 1.55300835e+07, 1.86361000e+07, 2.17421165e+07,\n",
       "        2.48481330e+07, 2.79541495e+07, 3.10601660e+07]),\n",
       " <BarContainer object of 10 artists>)"
      ]
     },
     "execution_count": 69,
     "metadata": {},
     "output_type": "execute_result"
    },
    {
     "data": {
      "image/png": "[encoded data removed]",
      "text/plain": [
       "<Figure size 432x288 with 1 Axes>"
      ]
     },
     "metadata": {
      "needs_background": "light"
     },
     "output_type": "display_data"
    }
   ],
   "source": [
    "plt.hist([subreddit_subscribers[s] for s in srs_all if subreddit_subscribers[s] > 0])\n",
    "# could log scale for both x and y"
   ]
  },
  {
   "cell_type": "code",
   "execution_count": 70,
   "id": "ba3bd299",
   "metadata": {},
   "outputs": [],
   "source": [
    "srs_1000 = srs_all[:1000]"
   ]
  },
  {
   "cell_type": "code",
   "execution_count": 71,
   "id": "209942ef",
   "metadata": {},
   "outputs": [
    {
     "data": {
      "text/plain": [
       "['funny',\n",
       " 'gaming',\n",
       " 'aww',\n",
       " 'pics',\n",
       " 'science',\n",
       " 'worldnews',\n",
       " 'Music',\n",
       " 'videos',\n",
       " 'movies',\n",
       " 'todayilearned']"
      ]
     },
     "execution_count": 71,
     "metadata": {},
     "output_type": "execute_result"
    }
   ],
   "source": [
    "srs_1000[:10]"
   ]
  },
  {
   "cell_type": "markdown",
   "id": "2924e621",
   "metadata": {},
   "source": [
    "**now we make graph**"
   ]
  },
  {
   "cell_type": "markdown",
   "id": "5bf87f26",
   "metadata": {},
   "source": [
    "First, we add nodes"
   ]
  },
  {
   "cell_type": "code",
   "execution_count": 41,
   "id": "9611d3e0",
   "metadata": {},
   "outputs": [],
   "source": [
    "news_sources = list(set(ns_subreddit_03.keys()) & set(ns_subreddit_04.keys()))"
   ]
  },
  {
   "cell_type": "code",
   "execution_count": 42,
   "id": "cb88b79f",
   "metadata": {},
   "outputs": [
    {
     "data": {
      "text/plain": [
       "3277"
      ]
     },
     "execution_count": 42,
     "metadata": {},
     "output_type": "execute_result"
    }
   ],
   "source": [
    "len(news_sources)"
   ]
  },
  {
   "cell_type": "code",
   "execution_count": 43,
   "id": "e524e711",
   "metadata": {},
   "outputs": [],
   "source": [
    "# G.add_nodes_from(news_sources)"
   ]
  },
  {
   "cell_type": "code",
   "execution_count": 77,
   "id": "15fc118d",
   "metadata": {},
   "outputs": [],
   "source": [
    "subreddit_files = [subreddit_ns_03, subreddit_ns_03]"
   ]
  },
  {
   "cell_type": "code",
   "execution_count": 78,
   "id": "dae819d5",
   "metadata": {},
   "outputs": [],
   "source": [
    "for sf in subreddit_files:\n",
    "    for s in sf:\n",
    "        if s in srs_1000:\n",
    "            nss = sf[s]\n",
    "            # we add nodes\n",
    "            G.add_nodes_from(nss)\n",
    "            # then we add edges\n",
    "            # we will discard the counts for now\n",
    "            nss = list(nss.keys())\n",
    "            for i in range(len(nss)-1):\n",
    "                for j in range(i+1, len(nss)):\n",
    "                    G.add_edge(*(nss[i], nss[j]))"
   ]
  },
  {
   "cell_type": "code",
   "execution_count": 80,
   "id": "8c72a26f",
   "metadata": {},
   "outputs": [
    {
     "data": {
      "text/plain": [
       "2426"
      ]
     },
     "execution_count": 80,
     "metadata": {},
     "output_type": "execute_result"
    }
   ],
   "source": [
    "len(G.nodes())"
   ]
  },
  {
   "cell_type": "code",
   "execution_count": 81,
   "id": "09d88f35",
   "metadata": {
    "collapsed": true
   },
   "outputs": [
    {
     "data": {
      "text/plain": [
       "NodeView(('animenewsnetwork.com', 'imdb.com', 'crunchyroll.com', 'buzzfeed.com', 'natalie.mu', 'time.com', 'polygon.com', 'tbs.co.jp', 'comicbook.com', 'deadline.com', 'gamesradar.com', 'nytimes.com', 'arabnews.com', 'tv-tokyo.co.jp', 'thegrio.com', 'anchor.fm', 'twinfinite.net', 'kotaku.com', 'bleepingcomputer.com', 'theinformation.com', 'theverge.com', 'variety.com', 'wtatennis.com', 'espn.com', 'tennis.com', 'oregonlive.com', 'thestar.com', 'news.com.au', 'eurosport.com', 'reuters.com', 'independent.co.uk', 'cbc.ca', 'cbssports.com', 'sportsnet.ca', 'telegraph.co.uk', 'bbc.co.uk', 'nbcnews.com', 'marca.com', 'bleacherreport.com', 'sport-express.ru', 'iol.co.za', 'niemanlab.org', 'cnbc.com', 'si.com', 'fastcompany.com', 'brightlightsfilm.com', 'engadget.com', 'vox.com', 'cnn.com', 'cbs.com', 'cnet.com', 'boston.com', 'hollywoodreporter.com', 'washingtonpost.com', 'thewrap.com', 'inverse.com', 'radiotimes.com', 'startribune.com', 'mashable.com', 'tvtechnology.com', 'foxsports.com', 'axios.com', 'tvguide.com', 'freep.com', 'nbc.com', 'tvline.com', 'ctvnews.ca', 'vulture.com', 'thefutoncritic.com', 'scmp.com', 'dazeddigital.com', 'comingsoon.net', 'pastemagazine.com', 'latimes.com', 'tmz.com', 'eonline.com', 'jta.org', 'ign.com', 'cbsnews.com', 'birminghammail.co.uk', 'techcrunch.com', 'etonline.com', 'space.com', 'theringer.com', 'thrillist.com', 'cartoonbrew.com', 'newsweek.com', 'nationalpost.com', 'apnews.com', 'newyorker.com', 'collider.com', 'boingboing.net', 'goodmorningamerica.com', 'baltimoresun.com', 'buzzfeednews.com', 'postandcourier.com', 'gizmodo.com.au', 'itv.com', 'yahoo.com', 'ktnv.com', 'backstage.com', 'slashfilm.com', 'whdh.com', 'standard.co.uk', 'pinknews.co.uk', 'f4wonline.com', 'thedailybeast.com', 'foxnews.com', 'empireonline.com', 'insider.com', 'bloody-disgusting.com', 'mediaite.com', 'seventeen.com', 'wbay.com', 'hollywood.com', 'lareviewofbooks.org', 'theatlantic.com', 'movieweb.com', 'americamagazine.org', 'stereogum.com', 'marketwatch.com', 'nme.com', 'mirror.co.uk', 'accessonline.com', 'slate.com', 'offbeat.com', 'publicbooks.org', 'al.com', 'pcgamer.com', 'starwars.com', 'quillette.com', 'npr.org', 'upi.com', 'cityam.com', 'thehill.com', 'talkingpointsmemo.com', 'politico.com', 'courthousenews.com', 'nationalmemo.com', 'nativenewsonline.net', 'ydr.com', 'rawstory.com', 'crooksandliars.com', 'msnbc.com', 'sandiegouniontribune.com', 'wibqam.com', 'dailykos.com', 'humanevents.com', 'breitbart.com', 'crooked.com', 'ktvz.com', 'thefederalist.com', 'smh.com.au', 'washingtonexaminer.com', 'wtop.com', 'koco.com', 'c-span.org', 'economist.com', 'linkedin.com', 'fivethirtyeight.com', 'courier-journal.com', 'mintpressnews.com', 'lawandcrime.com', 'americanthinker.com', 'teenvogue.com', 'insideclimatenews.org', 'insidernj.com', 'grist.org', 'ajc.com', 'katc.com', 'voanews.com', 'theweek.com', 'militarytimes.com', 'adn.com', 'indystar.com', 'democracynow.org', 'heraldtribune.com', 'news4sanantonio.com', 'prospect.org', 'dailycaller.com', 'sfchronicle.com', 'investors.com', 'ny1.com', 'alternet.org', 'opb.org', 'newrepublic.com', 'peoplesworld.org', 'theroot.com', 'local10.com', 'bostonreview.net', 'texastribune.org', 'azcentral.com', 'aljazeera.com', 'sacbee.com', 'dailydot.com', 'wvpublic.org', 'wvgazettemail.com', 'scientificamerican.com', 'nbcconnecticut.com', 'kmov.com', '11alive.com', 'outkick.com', 'civileats.com', 'sltrib.com', 'wgrz.com', 'jsonline.com', 'nymag.com', 'democratandchronicle.com', 'dailywire.com', 'sandiegoreader.com', 'jacobinmag.com', 'dallasobserver.com', '12news.com', 'wdtv.com', 'pjmedia.com', 'krdo.com', 'abc17news.com', 'eastasiaforum.org', 'bostonglobe.com', 'localnews8.com', 'abc.net.au', 'haaretz.com', 'gpb.org', 'newsmax.com', '6abc.com', 'bylinetimes.com', 'khou.com', 'boisestatepublicradio.org', 'pbs.org', 'refinery29.com', 'wjla.com', 'foreignaffairs.com', 'thedenverchannel.com', 'politifact.com', 'malaymail.com', 'pennlive.com', 'news4jax.com', 'abc57.com', 'kdrv.com', 'idahopress.com', 'wbal.com', 'statesman.com', 'ksat.com', 'wusa9.com', 'providencejournal.com', 'wfaa.com', 'clarionledger.com', 'krtv.com', 'mlive.com', 'nbcnewyork.com', 'abc13.com', 'wmtw.com', 'pix11.com', 'nowthisnews.com', 'kcci.com', 'westernjournal.com', 'townhall.com', 'snopes.com', 'texasmonthly.com', 'kxxv.com', 'chalkbeat.org', 'gizmodo.com', 'fox5dc.com', 'military.com', 'abc11.com', 'fox17.com', 'stltoday.com', 'wvtm13.com', 'independent.ie', 'abovethelaw.com', 'keyt.com', 'ibtimes.com', 'aol.com', 'bet.com', 'ktvb.com', 'dailyvoice.com', 'nextgov.com', 'seattletimes.com', 'desmoinesregister.com', 'spiegel.de', 'abc7ny.com', 'inquirer.com', 'houstonchronicle.com', 'wbur.org', 'chicagotribune.com', 'csmonitor.com', 'concordmonitor.com', 'sun-sentinel.com', 'foxbaltimore.com', 'dailysignal.com', 'popular.info', 'abc10.com', 'kvue.com', 'citizen-times.com', 'wweek.com', 'azfamily.com', 'theblaze.com', 'kstp.com', 'justthenews.com', 'qz.com', 'metroweekly.com', 'foxbusiness.com', 'qctimes.com', 'wmcactionnews5.com', 'stripes.com', 'channel3000.com', 'mcdowellnews.com', 'premiumtimesng.com', 'skynews.com.au', 'nationalinterest.org', 'thecollegefix.com', 'wilx.com', 'nj.com', 'hindustantimes.com', 'wset.com', 'ktvn.com', '10news.com', 'wsls.com', 'waff.com', 'civilbeat.org', 'jezebel.com', 'sacurrent.com', 'abc7.com', 'app.com', 'fox10phoenix.com', 'fox9.com', 'tyt.com', 'grandforksherald.com', 'inforum.com', 'oklahoman.com', '9news.com', 'livescience.com', 'nbcmiami.com', 'kesq.com', 'kztv10.com', 'progressive.org', 'harpersbazaar.com', 'thehindu.com', 'wpr.org', 'politico.eu', 'investopedia.com', 'wccbcharlotte.com', 'ktvu.com', 'journalstar.com', 'wmfe.org', 'stanforddaily.com', 'metrotimes.com', 'wlwt.com', 'nbcdfw.com', 'out.com', 'rightwingwatch.org', 'ketv.com', 'ballotpedia.org', 'abc15.com', 'madison.com', 'lawfareblog.com', 'redstate.com', 'kptv.com', 'ndtv.com', 'sbs.com.au', 'ottawacitizen.com', 'indianexpress.com', 'defenseone.com', 'kjzz.org', 'rfa.org', 'wvtf.org', 'wdtn.com', 'natlawreview.com', 'livemint.com', 'realclearpolitics.com', 'ktxs.com', 'pri.org', 'newsbusters.org', 'wxyz.com', 'kgw.com', 'cnnphilippines.com', 'timesunion.com', 'frontpagemag.com', 'spokesman.com', 'crosscut.com', 'washingtonblade.com', 'abc7news.com', 'winknews.com', 'hkcnews.com', 'thepostmillennial.com', 'inquisitr.com', 'khq.com', 'inthesetimes.com', 'nbcwashington.com', 'hcn.org', 'spacenews.com', 'greensboro.com', 'kten.com', 'wgal.com', 'nzherald.co.nz', 'ksl.com', 'oann.com', 'fox13now.com', 'billboard.com', 'houstonpublicmedia.org', 'guampdn.com', 'actionnewsnow.com', 'wkbw.com', 'thetimes.co.uk', 'express.co.uk', 'worldoil.com', 'klkntv.com', 'wlbt.com', 'cnsnews.com', 'orlandoweekly.com', '5280.com', 'hotair.com', 'krcrtv.com', 'cnycentral.com', 'unilad.co.uk', 'trib.com', 'queerty.com', 'palmbeachpost.com', 'complex.com', 'wlky.com', 'marinecorpstimes.com', 'nbcphiladelphia.com', 'thestranger.com', 'newindianexpress.com', 'hawaiinewsnow.com', 'marieclaire.com', 'wuft.org', 'wptv.com', 'omaha.com', 'vogue.com', '10tv.com', 'kshb.com', 'arktimes.com', 'tennessean.com', 'kiplinger.com', 'news9.com', 'clickorlando.com', 'deccanherald.com', 'psuvanguard.com', 'business-standard.com', 'cbs12.com', 'alabamanews.net', 'lifesitenews.com', '5newsonline.com', 'therealdeal.com', 'techdirt.com', 'newscentermaine.com', 'xinhuanet.com', 'abc6onyourside.com', 'beaconjournal.com', 'zerohedge.com', 'wbap.com', 'nbcboston.com', 'thv11.com', 'wtvm.com', 'wtoc.com', 'federalnewsnetwork.com', 'wearemitu.com', 'samaa.tv', '3newsnow.com', 'nbcbayarea.com', 'wisn.com', 'factcheck.org', 'nbc4i.com', 'tpr.org', 'buckscountycouriertimes.com', '9news.com.au', 'post-gazette.com', 'wesh.com', 'nbcsandiego.com', '13abc.com', 'kion546.com', 'sputniknews.com', 'whas11.com', 'taiwannews.com.tw', 'komonews.com', 'pcmag.com', 'thepitchkc.com', 'fox35orlando.com', 'newschannel5.com', 'wcpo.com', 'wowt.com', 'svt.se', 'nbcmontana.com', 'thehour.com', 'wbng.com', 'kwwl.com', 'idahostatejournal.com', 'aberdeennews.com', 'wicz.com', 'hawaiipublicradio.org', 'keysnews.com', 'wgbh.org', 'thealpenanews.com', 'wthr.com', 'katv.com', 'conservativereview.com', 'scotsman.com', 'naplesnews.com', 'desertsun.com', 'kutv.com', 'piquenewsmagazine.com', 'atlasobscura.com', 'jewishpress.com', 'swissinfo.ch', 'argusleader.com', 'whyy.org', 'helenair.com', 'kulr8.com', 'kwqc.com', 'statesmanjournal.com', 'rottentomatoes.com', 'republicworld.com', 'wglt.org', 'hourdetroit.com', 'theweek.co.uk', 'kwch.com', 'click2houston.com', 'nbc-2.com', 'thetyee.ca', 'kgou.org', 'cjonline.com', 'irishcentral.com', 'ncregister.com', '8newsnow.com', 'spectator.com.au', 'kitv.com', 'wsfa.com', 'cbs8.com', 'govtrack.us', 'lohud.com', 'cbs58.com', 'austinchronicle.com', '19thnews.org', 'dailysabah.com', 'wkdzradio.com', 'kltv.com', 'nbclosangeles.com', 'unherd.com', 'bnnbloomberg.ca', 'chosun.com', 'kmbc.com', 'mainepublic.org', 'irishtimes.com', 'abc7amarillo.com', 'hbr.org', 'miaminewtimes.com', 'wsvn.com', 'cincinnati.com', 'blogtalkradio.com', 'tribune.com.pk', 'rferl.org', 'local12.com', 'dailycardinal.com', 'cityandstateny.com', 'wbhm.org', 'journalnow.com', 'kttc.com', 'kunc.org', 'montgomeryadvertiser.com', 'fcnp.com', 'kfyo.com', 'ladbible.com', 'bemidjipioneer.com', 'wlrn.org', 'rapidcityjournal.com', 'kjct8.com', 'atlantablackstar.com', 'hamodia.com', 'clickondetroit.com', 'torontosun.com', 'freepressjournal.in', 'tallahassee.com', 'foxsanantonio.com', 'leafly.com', 'newstatesman.com', 'katu.com', 'milforddailynews.com', 'pressherald.com', 'financialpost.com', 'wfmynews2.com', 'wtsp.com', 'kgun9.com', 'berkshireeagle.com', 'timesnews.net', 'pressconnects.com', 'channelnewsasia.com', 'wthitv.com', 'japantimes.co.jp', 'ctpost.com', 'upr.org', 'freebeacon.com', 'wkyc.com', 'popularmechanics.com', 'newschannel9.com', 'armytimes.com', 'nairaland.com', 'webmd.com', 'blavity.com', 'wrdw.com', 'wmnf.org', 'wtvy.com', 'twitchy.com', 'abc7chicago.com', 'kvia.com', 'gamerevolution.com', '9and10news.com', 'nhpr.org', 'wkok.com', 'cleantechnica.com', 'mysuncoast.com', 'spiked-online.com', 'cjr.org', 'newshub.co.nz', 'adn40.mx', 'egypttoday.com', 'geekwire.com', 'roanoke.com', 'dailytrojan.com', 'ksbw.com', 'cleveland19.com', 'wral.com', 'wuky.org', 'c4isrnet.com', 'newsadvance.com', 'gazettenet.com', 'wabe.org', 'vpm.org', 'wsmv.com', 'wzzm13.com', 'wbrz.com', 'tradewindsnews.com', 'americanbanker.com', 'wcvb.com', 'wbir.com', 'starexponent.com', 'wcax.com', 'phys.org', 'wbez.org', 'ksnblocal4.com', 'mic.com', 'crainsdetroit.com', 'king5.com', 'whec.com', 'powerlineblog.com', 'mprnews.org', 'bakersfield.com', 'msmagazine.com', 'uppermichiganssource.com', 'bigthink.com', 'sciencealert.com', 'the74million.org', 'clevescene.com', 'ktiv.com', 'wibw.com', 'theonion.com', 'vancouversun.com', 'thefiscaltimes.com', 'wkow.com', 'nbc29.com', 'ksdk.com', 'bismarcktribune.com', 'westword.com', 'nwfdailynews.com', 'duluthnewstribune.com', 'thediplomat.com', 'thestreet.com', 'geo.tv', 'brecorder.com', 'wrcbtv.com', 'triblive.com', 'nbc12.com', 'themoscowtimes.com', 'news.am', 'armenpress.am', 'firstcoastnews.com', 'fox.com', 'sbnation.com', 'tuscaloosanews.com', 'theathletic.com', '247sports.com', 'dailycomet.com', 'wdrb.com', 'nebraska.tv', 'dentonrc.com', 'thenewsstar.com', 'actionnetwork.com', 'dailymemphian.com', 'kansan.com', 'courierpress.com', 'dailycampus.com', 'kentuckysportsradio.com', 'lasvegassun.com', 'sportingnews.com', 'fayobserver.com', 'kcbd.com', 'straitstimes.com', 'inkstonenews.com', 'thestar.com.my', 'rediff.com', 'sixthtone.com', 'nknews.org', 'en.people.cn', 'stylist.co.uk', 'macleans.ca', 'caixinglobal.com', 'greenleft.org.au', 'coindesk.com', 'euobserver.com', 'euronews.com', 'insidethegames.biz', 'theage.com.au', 'euractiv.com', 'lfpress.com', 'artreview.com', 'mcsweeneys.net', 'philstar.com', 'asiaone.com', 'chinatimes.com', 'rfi.fr', 'nation.africa', 'fox26houston.com', 'smokymountainnews.com', 'crikey.com.au', 'themusicnetwork.com', 'themonthly.com.au', 'canberratimes.com.au', 'macrumors.com', 'thesaturdaypaper.com.au', 'afr.com', 'watoday.com.au', 'breakingnews.ie', 'heraldsun.com.au', 'nit.com.au', 'newcastleherald.com.au', 'comedy.co.uk', 'ilpost.it', 'trtworld.com', 'ghacks.net', 'zdnet.com', 'upstreamonline.com', 'thewest.com.au', 'tvtonight.com.au', 'rnz.co.nz', 'brisbanetimes.com.au', 'kotaku.com.au', 'bangkokpost.com', 'slashdot.org', 'newscientist.com', 'echo.net.au', 'bunburymail.com.au', 'newmatilda.com', 'siasat.com', 'extra.ie', 'medscape.com', 'montreal.ctvnews.ca', 'ansa.it', 'bgr.com', 'emol.com', 'dnj.com', 'discovermagazine.com', 'kqed.org', 'cp24.com', 'nbcchicago.com', 'kktv.com', 'euroweeklynews.com', 'abc30.com', 'n-tv.de', 'informationweek.com', 'thelocal.fr', 'biorxiv.org', 'pitchfork.com', 'africanews.com', 'lrt.lt', 'wcnc.com', 'mauinews.com', 'nu.nl', 'tylerpaper.com', 'cbs19.tv', 'kagstv.com', 'yle.fi', 'dvhn.nl', 'insidenova.com', 'missoulian.com', 'medpagetoday.com', 'the-scientist.com', 'thecrimson.com', 'djmag.com', 'israelnationalnews.com', 'khmertimeskh.com', 'medicalxpress.com', 'wdbj7.com', 'iflscience.com', 'cnnbrasil.com.br', 'midilibre.fr', 'ottawa.ctvnews.ca', 'jakartaglobe.id', 'barrons.com', 'france3-regions.francetvinfo.fr', 'thesudburystar.com', 'diariocorreo.pe', 'theshillongtimes.com', 'quantamagazine.org', 'rte.ie', 'sverigesradio.se', 'nejm.org', 'mdpi.com', 'devex.com', 'wabi.tv', 'lehighvalleylive.com', 'tvnz.co.nz', 'prevention.com', 'pnas.org', 'thehimalayantimes.com', 'mako.co.il', 'winnipegfreepress.com', 'michigansthumb.com', 'wbtv.com', 'wect.com', 'wvva.com', 'firstpost.com', 'ad.nl', 'wapt.com', 'skift.com', 'sciencetimes.com', 'burnabynow.com', '20min.ch', 'rappler.com', 'cbsaustin.com', 'michiganradio.org', 'bernama.com', 'manchestereveningnews.co.uk', 'statista.com', 'wistv.com', 'southcoasttoday.com', 'hurriyetdailynews.com', 'semissourian.com', 'francetvinfo.fr', 'theprint.in', 'fox19.com', 'financialtribune.com', 'weartv.com', 'gmanetwork.com', 'richmond-news.com', 'thehindubusinessline.com', 'svd.se', 'abcactionnews.com', 'japantoday.com', 'nst.com.my', 'greenwichtime.com', 'wwltv.com', 'ewn.co.za', 'wbaltv.com', 'turnto23.com', 'cheddar.com', 'newson6.com', 'mynews13.com', 'navajotimes.com', 'wdsu.com', 'sueddeutsche.de', 'tvn24.pl', 'nos.nl', 'genengnews.com', 'ilfattoquotidiano.it', 'nwemail.co.uk', 'elperiodico.cat', 'mainichi.jp', 'idnes.cz', 'lbc.co.uk', 'sciencedaily.com', 'telegram.com', 'jns.org', 'kuow.org', 'manilatimes.net', 'vg.no', 'letelegramme.fr', 'faz.net', 'quotidiano.net', 'welt.de', 'total-croatia-news.com', 'kimt.com', 'ktbs.com', 'westernmassnews.com', 'mb.com.ph', 'businessmirror.com.ph', 'skysports.com', 'edmonton.ctvnews.ca', 'urdupoint.com', 'lastampa.it', 'wktv.com', 'khaleejtimes.com', 'kitchener.ctvnews.ca', 'ilrestodelcarlino.it', 'thejournal.ie', 'sunstar.com.ph', 'kikar.co.il', 'expressen.se', 'consumerreports.org', 'bt.dk', 'gulfnews.com', 'kmph.com', 'fvn.no', 'tv2.no', 'rainews.it', 'keyc.com', 'wreg.com', 'redding.com', 'ktlo.com', 'reliefweb.int', 'techtimes.com', 'businessinsider.fr', 'travelandleisure.com', 'daytondailynews.com', 'bt.no', 'moroccoworldnews.com', 'sozcu.com.tr', 'focus.de', 'ptinews.com', 'nhregister.com', 'scroll.in', 'wtvbam.com', 'freethink.com', 'wnky.com', 'berlingske.dk', 'koreaherald.com', 'aftenposten.no', 'toronto.ctvnews.ca', 'eastbourneherald.co.uk', 'dagbladet.no', 'thebulletin.org', 'frontiersin.org', 'ndr.de', 'leparisien.fr', 'tsn.ca', 'nepalitimes.com', 'tagesschau.de', 'heraldnews.com', 'dr.dk', 'abc12.com', 'wacotrib.com', 'dnaindia.com', 'allafrica.com', 'wnpr.org', 'tagesspiegel.de', 'silive.com', 'shropshirestar.com', 'indiatvnews.com', 'themandarin.com.au', 'timesofmalta.com', 'yorkshirepost.co.uk', 'wctrib.com', 'algemeiner.com', 'moneycontrol.com', 'expresso.pt', 'connexionfrance.com', 'kfoxtv.com', 'kuam.com', 'kurier.at', 'saudigazette.com.sa', 'gwinnettdailypost.com', 'wsbt.com', 'wfyi.org', 'regina.ctvnews.ca', 'europe1.fr', 'okcfox.com', 'nieuwsblad.be', 'napavalleyregister.com', 'pharmazeutische-zeitung.de', 'kob.com', 'albayan.ae', 'springfieldnewssun.com', 'seacoastonline.com', 'kristeligt-dagblad.dk', 'kelo.com', 'kvrr.com', 'lavozdegalicia.es', 'modernhealthcare.com', 'wmur.com', 'destentor.nl', 'walesonline.co.uk', 'insidehighered.com', 'dailypost.co.uk', 'tmj4.com', 'hnonline.sk', 'ama-assn.org', 'greekreporter.com', 'myjournalcourier.com', 'kfgo.com', 'riotimesonline.com', 'lepoint.fr', 'middleeasteye.net', 'edmontonjournal.com', 'medicaldaily.com', 'thepointsguy.com', 'lancasteronline.com', '20minutes.fr', 'cpr.org', 'wjcl.com', 'dothaneagle.com', 'timescolonist.com', 'gulftoday.ae', 'orf.at', 'derstandard.at', 'kuenselonline.com', 'healthline.com', 'wnax.com', 'lubbockonline.com', 'abc6.com', 't-online.de', 'weau.com', 'newstalkzb.co.nz', 'scoop.co.nz', 'maoritelevision.com', 'gisborneherald.co.nz', 'kcentv.com', 'capitalgazette.com', 'fox32chicago.com', 'valleynewslive.com', 'newschannel6now.com', 'record-eagle.com', 'fox6now.com', 'entrepreneur.com', 'shape.com', 'churchmilitant.com', 'fox10tv.com', 'rare.us', 'kiiitv.com', 'israelhayom.com', 'catholicnewsagency.com', 'radaronline.com', 'christianpost.com', 'lcsun-news.com', 'outdoorlife.com', 'campusreform.org', 'commentarymagazine.com', 'kcra.com', 'kkyr.com', '1011now.com', 'wchstv.com', 'wtvr.com', 'kpax.com', 'infowars.com', 'foodandwine.com', 'chroniclesmagazine.org', 'sanfordherald.com', 'novaramedia.com', 'loudountimes.com', 'wired.co.uk', 'thetruthaboutguns.com', 'antiwar.com', 'kobi5.com', 'kabc.com', 'sanangelolive.com', 'roadandtrack.com', 'takimag.com', 'loudwire.com', 'newsradioklbj.com', 'cbs46.com', 'blabbermouth.net', 'newser.com', 'mooresvilletribune.com', 'onlineathens.com', 'delish.com', 'erienewsnow.com', 'elkharttruth.com', 'caribbeannationalweekly.com', 'kake.com', 'kens5.com', 'jhunewsletter.com', 'northcountrypublicradio.org', 'debka.com', 'nysun.com', 'hotnewhiphop.com', 'theweathernetwork.com', 'wfmz.com', 'vnexpress.net', 'journaltimes.com', 'petapixel.com', 'them.us', 'ky3.com', 'mybroadband.co.za', 'wnem.com', 'enca.com', 'oc-media.org', 'torrentfreak.com', 'bworldonline.com', 'durangoherald.com', 'limaohio.com', 'bisnow.com', 'wfsb.com', 'autoblog.com', 'frontiermyanmar.net', 'christianitydaily.com', 'borneobulletin.com.bn', 'unionleader.com', 'relevantmagazine.com', 'dailypost.ng', 'q13fox.com', 'albanyherald.com', 'calculatedriskblog.com', 'phillytrib.com', 'irishexaminer.com', 'lansingstatejournal.com', 'wsaw.com', 'wboc.com', 'wrde.com', 'mentalfloss.com', 'wafb.com', 'sturgisjournal.com', 'live5news.com', 'indiawest.com', 'thedrinksbusiness.com', 'lenews.ch', 'kcrw.com', 'lonelyplanet.com', 'djournal.com', 'gamesindustry.biz', 'airforcetimes.com', 'kerrang.com', 'icenews.is', 'jconline.com', 'fox8live.com', 'dailyecho.co.uk', 'chicagocrusader.com', 'fox43.com', 'abc-7.com', 'kait8.com', 'battlecreekenquirer.com', 'nbc25news.com', 'papermag.com', 'whbl.com', 'mynbc15.com', 'navytimes.com', 'weather.com', 'wishtv.com', 'postguam.com', '4029tv.com', 'fox11online.com', 'prothomalo.com', 'chainstoreage.com', 'kitsapsun.com', 'imore.com', '13wmaz.com', 'ktre.com', 'irishmirror.ie', 'dbknews.com', 'wtva.com', 'edweek.org', 'thenewsminute.com', 'myfoxzone.com', 'dailymaverick.co.za', 'kxl.com', 'wpde.com', 'normantranscript.com', 'kfmx.com', 'montereycountyweekly.com', 'saharareporters.com', 'yakimaherald.com', '13newsnow.com', 'hastingstribune.com', 'thejc.com', 'manilastandard.net', 'sowetanlive.co.za', 'thepacker.com', 'frasercoastchronicle.com.au', 'jalopnik.com', 'rtl.fr', 'waow.com', 'belfasttelegraph.co.uk', 'abccolumbia.com', 'ktul.com', 'wmbfnews.com', 'windowscentral.com', 'androidpolice.com', 'mykxlg.com', 'atlantic.ctvnews.ca', 'nola.com', 'postregister.com', 'fredericksburg.com', 'wtkr.com', 'turnto10.com', 'trinidadexpress.com', 'wyomingnews.com', 'dujour.com', 'cwtv.com', 'jweekly.com', 'knkx.org', 'walls102.com', 'al-monitor.com', 'lmtonline.com', 'wdel.com', 'thepaper.cn', 'getreading.co.uk', 'dailyrecord.co.uk', 'wgxa.tv', 'mv-voice.com', 'wdam.com', 'abc3340.com', 'yenisafak.com', 'biologicaldiversity.org', 'wsaz.com', 'ksla.com', 'kenoshanews.com', 'caranddriver.com', 'thebiglead.com', 'kvoa.com', 'wxow.com', 'wkms.org', 'celebritynetworth.com', 'bonappetit.com', 'annistonstar.com', 'wamc.org', 'dailyhive.com', 'calgaryherald.com', 'nunatsiaq.com', 'theindependent.com', 'foxcarolina.com', 'wtae.com', 'insideedition.com', 'mynbc5.com', 'knoxnews.com', 'collegefootballnews.com', 'nashvillepost.com', 'thedailytexan.com', 'cbs2iowa.com', 'rotowire.com', 'whatculture.com', 'healthaffairs.org', 'tandfonline.com', 'hsj.co.uk', 'historyextra.com', 'nextcity.org', 'truewestmagazine.com', 'spin.com', 'wjbq.com', 'cracked.com', 'worldatlas.com', 'popsci.com', 'thisiscolossal.com', 'scoopwhoop.com', 'dezeen.com', 'chortle.co.uk', 'deccanchronicle.com', 'coloradoan.com', 'thenextweb.com', 'destructoid.com', 'broadwayworld.com', 'songfacts.com', 'artsy.net', 'gjsentinel.com', 'health.com', 'airspacemag.com', 'thesource.com', 'qt.com.au', 'wcfcourier.com', 'truthdig.com', 'fieldandstream.com', 'mrt.com', 'bustle.com', 'thejakartapost.com', 'curbed.com', 'treehugger.com', 'elkodaily.com', 'geo.de', 'chicagoreader.com', 'historytoday.com', 'goodhousekeeping.com', 'womenshealthmag.com', 'robbreport.com', 'indie88.com', 'nintendolife.com', 'rbth.com', 'winemag.com', 'extremetech.com', 'deadspin.com', 'cntraveler.com', 'techrepublic.com', 'diymag.com', '90min.com', 'bleedingcool.com', 'classicfm.com', 'moviemaker.com', 'highsnobiety.com', 'commercialappeal.com', 'classicrock961.com', 'asme.org', 'iheart.com', 'seriouseats.com', 'metalinjection.net', 'sportskeeda.com', 'patheos.com', 'ultimateclassicrock.com', 'lifehacker.com', 'thenakedscientists.com', 'phaidon.com', 'digg.com', 'wyrk.com', 'knau.org', 'eater.com', 'psupress.org', 'good.is', 'chroniclelive.co.uk', 'gigwise.com', 'popmatters.com', '973thedawg.com', 'cornwalllive.com', 'harvardpolitics.com', 'janes.com', 'honolulumagazine.com', 'techopedia.com', 'wyomingpublicmedia.org', 'news24.com', 'phillymag.com', 'bellingcat.com', 'thesound.co.nz', 'readersdigest.co.uk', 'chowhound.com', 'seattlemag.com', 'derryjournal.com', 'upworthy.com', 'bhg.com', 'inc.com', 'ctmirror.org', 'tcpalm.com', '1079ishot.com', 'techspot.com', 'splendidtable.org', 'hyperallergic.com', 'sciencefocus.com', 'popsugar.com', 'uphere.ca', 'food52.com', 'which.co.uk', 'outsideonline.com', 'utne.com', 'philosophynow.org', 'xxlmag.com', 'computerworld.com', 'infobae.com', 'afar.com', 'shortlist.com', 'theboltonnews.co.uk', 'greatist.com', 'modernfarmer.com', 'hk01.com', 'pistonheads.com', 'redbookmag.com', 'tatler.com', 'middletownpress.com', 'southwalesargus.co.uk', 'investigationdiscovery.com', 'nrn.com', 'timeshighereducation.com', 'hazlitt.net', 'spacing.ca', 'seattlepi.com', 'seattlemet.com', 'archdaily.com', 'dailyuw.com', 'straight.com', 'vancouverisland.ctvnews.ca', 'cheknews.ca', 'nsnews.com', 'the-peak.ca', 'ubyssey.ca', 'dailyxtra.com', 'thebeaverton.com', 'thepeterboroughexaminer.com', 'calgary.ctvnews.ca', 'ctv.ca', 'mlbtraderumors.com', 'fangraphs.com', 'harpercollins.com', 'baseballamerica.com', 'neowin.net', 'musicradar.com', 'guitarworld.com', 'thefader.com', '620ckrm.com', 'saskatoon.ctvnews.ca', 'bristolpost.co.uk', 'lex18.com', 'gamespot.com', 'miltonkeynes.co.uk', 'kusi.com', 'wpdh.com', 'triplem.com.au', 'pcgamesn.com', 'lakenewsonline.com', 'gameinformer.com', 'bramptonguardian.com', 'grubstreet.com', 'indyweek.com', 'cogconnected.com', 'business-live.co.uk', 'irishnews.com', 'adweek.com', '943thepoint.com', 'punchng.com', 'pna.gov.ph', 'elpasotimes.com', 'upnorthlive.com', 'meduza.io', 'dexerto.com', 'pando.com', 'mykawartha.com', 'thequint.com', 'ghanaweb.com', 'legalcheek.com', 'herald-review.com', 'cambridge-news.co.uk', 'foxbangor.com', 'hellomagazine.com', 'khaama.com', 'sportbible.com', 'fox5vegas.com', 'autoweek.com', 'stcatharinesstandard.ca', 'face2faceafrica.com', 'wlox.com', 'wfmj.com', 'footmercato.net', 'motortrend.com', 'purdueexponent.org', 'liverpoolecho.co.uk', 'renfrewtoday.ca', 'motor1.com', 'utv44.com', 'newstalk870.am', 'leaderpost.com', 'tnp.sg', 'ecr.co.za', 'ole.com.ar', 'wwnytv.com', 'jacksonville.com', 'torontolife.com', 'parismatch.com', 'madamasr.com', 'talksport.com', 'jamaica-gleaner.com', 'electronicintifada.net', 'bfmtv.com', 'vrt.be', '444.hu', 'tolonews.com', 'intellinews.com', 'seznamzpravy.cz', 'gmtoday.com', 'theneweuropean.co.uk', 'windpowermonthly.com', 'thekashmirimages.com', 'oecd.org', 'computerweekly.com', 'theborneopost.com', 'vegnews.com', 'sheppnews.com.au', 'aptnnews.ca', 'wigantoday.net', 'repubblica.it', 'jamaicaobserver.com', 'newleftreview.org', 'rechargenews.com', 'wtol.com', 'ft.lk', 'em.com.br', 'longwarjournal.org', 'lemonde.fr', 'theparliamentmagazine.eu', 'thenewhumanitarian.org', 'vietnamnews.vn', 'thecanary.co', 'cphpost.dk', 'mid-day.com', 'haitiantimes.com', 'bitcoinmagazine.com', 'seenews.com', 'thechronicle.com.au', 'freemalaysiatoday.com', 'efe.com', 'worldcrunch.com', 'afp.com', 'ecodibergamo.it', 'channel4.com', 'merkur.de', 'poder360.com.br', '972mag.com', 'railfan.com', 'timesofoman.com', 'jacarandafm.com', 'vtm.be', 'business2community.com', 'lightreading.com', 'nrk.no', 'olhardigital.com.br', 'dorsetecho.co.uk', 'pulse.com.gh', 'lowyat.net', 'hertfordshiremercury.co.uk', 'businessdailyafrica.com', 'pnp.de', 'exclaim.ca', '680news.com', 'eiu.com', 'lrb.co.uk', 'frieze.com', 'epw.in', 'kxly.com', 'nwitimes.com', 'foxillinois.com', 'chattanoogan.com', 'mycentraljersey.com', 'calgarysun.com', 'whmi.com', 'nj1015.com', 'wjactv.com', 'northcoastjournal.com', 'chieftain.com', 'whsv.com', 'wmar2news.com', 'wyso.org', 'portlandmercury.com', 'limerickleader.ie', 'virginmediatelevision.ie', 'todayfm.com', 'the42.ie', 'cntraveller.com', 'wlrfm.com', 'businesspost.ie', 'cyclingnews.com', 'realsimple.com', 'elnortedecastilla.es', 'corkindependent.com', 'leinsterexpress.ie', 'con-telegraph.ie', 'iradio.ie', 'nova.ie', 'officialcharts.com', 'vanguardia.com.mx', 'autobild.de', 'cio.com', 'investing.com', 'institutionalinvestor.com', 'screendaily.com', 'autonews.com', 'wjhg.com', 'cutimes.com', 'thepennyhoarder.com', 'investmentweek.co.uk', 'metrowestdailynews.com', 'finanznachrichten.de', 'futurity.org', 'mtlblog.com', 'lapresse.ca', 'cyprus-mail.com', 'ufc.com', 'realtor.com', 'flightglobal.com', 'cfo.com', 'mbtmag.com', 'golem.de', 'palmbeachdailynews.com', 'winespectator.com', 'shacknews.com', 'androidcentral.com', 'ai-cio.com', 'derbytelegraph.co.uk', 'pdxmonthly.com', 'govtech.com', 'newslaundry.com', 'downtoearth.org.in', 'businessoffashion.com', 'daijiworld.com', 'greaterkashmir.com', 'businessworld.in', 'forbesindia.com', 'koimoi.com', 'gsmarena.com', 'wsiltv.com', 'milligazette.com', 'irishamerica.com', 'starofmysore.com', 'keralakaumudi.com', 'prabhatkhabar.com', 'fourfourtwo.com', 'waz.de', 'ed.nl', 'kicker.de', 'sportske.jutarnji.hr', 'vozpopuli.com', 'srf.ch', 'abola.pt', 'corrieredellosport.it', 'beinsports.com', 'football.london', 'telegraaf.nl', 'mundodeportivo.com', 'bild.de', 'as.com', 'elespanol.com', 'ojogo.pt', 'okdiario.com', 'cadenaser.com', '24sata.hr', 'tuttosport.com', 'essexlive.news', 'thestar.co.uk', 'ilgiorno.it', 'gelderlander.nl', 'ilmattino.it', 'eveningnews24.co.uk', 'tycsports.com', 'glasgowtimes.co.uk', 'sofoot.com', 'uol.com.br', 'sporza.be', 'dailyemerald.com', 'gazzetta.it', 'portsmouth.co.uk', 'cope.es', 'swindonadvertiser.co.uk', 'gp.se', 'cuatro.com', 'le10sport.com', 'ticotimes.net', 'elconfidencial.com', 'espn.com.br', 'tg24.sky.it', 'football365.com', 'spox.com', 'blackpoolgazette.co.uk', 'leicestermercury.co.uk', 'expressandstar.com', 'corriere.it', 'ccma.cat', 'br.de', 'abendblatt.de', 'jn.pt', 'rp-online.de', 'punditarena.com', 'kickoff.com', 'jyllands-posten.dk', 'musicbusinessworldwide.com', 'hexus.net', '163.com', 'gaytimes.co.uk', 'clevelandmagazine.com', 'pressdemocrat.com', 'cartacapital.com.br', 'diariodepernambuco.com.br', 'jb.com.br', 'correiobraziliense.com.br', 'correio24horas.com.br', 'opovo.com.br', 'nsctotal.com.br', 'correiodopovo.com.br', 'tecmundo.com.br', 'gazetadopovo.com.br', 'rtp.pt', 'atribuna.com.br', 'aosfatos.org', 'bahianoticias.com.br', 'ledevoir.com', 'jovemnerd.com.br', 'tribunadonorte.com.br', 'hojeemdia.com.br', 'estadao.com.br', 'americasquarterly.org', 'omelete.com.br', 'washingtoncitypaper.com', 'mdzol.com', 'vpr.org', 'kmjnow.com', 'kpvi.com', 'tn.com.ar', 'politicspa.com', 'kplctv.com', 'stwnewspress.com', 'santafenewmexican.com', 'siouxcityjournal.com', 'aei.org', 'shine.cn', 'sportsgamblingpodcast.com', 'ottawasun.com', 'rcinet.ca', 'rds.ca', 'winnipegsun.com', 'is.fi', 'tdg.ch', 'missionlocal.org', 'ebar.com', 'sfpublicpress.org', 'newsy.com', 'ggwash.org', 'climatecentral.org', 'patriotledger.com', 'herefordtimes.com', 'derbyshiretimes.co.uk', 'thenorthernecho.co.uk', 'coventrytelegraph.net', 'politics.co.uk', 'doncasterfreepress.co.uk', 'hulldailymail.co.uk', 'newsshopper.co.uk', 'pressandjournal.co.uk', 'lep.co.uk', 'thetelegraphandargus.co.uk', 'oxfordstudent.com', 'newcivilengineer.com', 'thedailymash.co.uk', 'tes.com', 'nottinghampost.com', 'churchtimes.co.uk', 'richmondandtwickenhamtimes.co.uk', 'shieldsgazette.com', 'insidehousing.co.uk', 'autocar.co.uk', 'thetab.com', 'edp24.co.uk', 'makezine.com', 'digitaltrends.com', 'hothardware.com', 'ing.dk', 'wwd.com', 'nasaspaceflight.com', 'wbckfm.com', 'walb.com', 'androidauthority.com', 'consumeraffairs.com', 'nakedcapitalism.com', 'phoronix.com', 'cherokeephoenix.org', 't3.com', 'eweek.com', 'infoworld.com', 'yicaiglobal.com', 'geneticliteracyproject.org', 'theaggie.org', 'currentargus.com', 'plantbasednews.org', 'hawaiibusiness.com', 'expansion.mx', 'rgj.com', 'doverpost.com', 'dunyanews.tv', 'chinadialogue.net', 'news-press.com', 'grbj.com', 'urbanacitizen.com', 'voiceofsandiego.org', 'complianceweek.com', 'hilltimes.com', 'mdr.de', 'springer.com', 'boatinternational.com', 'phoenixnewtimes.com', 'youredm.com', 'vcstar.com', 'bz-berlin.de', 'autoexpress.co.uk', 'tt.com', 'altpress.com', 'tweakers.net', 'thisamericanlife.org', 'finalcall.com', 'chabad.org', 'journaldemontreal.com', 'bethesdamagazine.com', 'jewishjournal.com', 'heart.co.uk', 'gulf-times.com', 'lci.fr', 'mondoweiss.net', 'americansongwriter.com', 'instyle.com', 'monstersandcritics.com', 'b1039.com', 'rogerebert.com', 'hollywoodlife.com', 'hodinkee.com', 'cavalierdaily.com', 'joplinglobe.com', 'paris-normandie.fr', 'investorschronicle.co.uk', 'polygraph.info', 'tass.ru', 'ynet.co.il', 'jutarnji.hr', 'tvrain.ru', 'nachrichten.at', 'exberliner.com', 'euromoney.com', 'index.hr', 'agi.it', 'eldiario.es', 'neweasterneurope.eu', 'ria.ru', 'independent.com.mt', 'laprovence.com', 'onet.pl', 'diepresse.com', 'evz.ro', 'heise.de', 'fm4.orf.at', 'lefigaro.fr', 'satakunnankansa.fi', 'iltempo.it', 'palatinate.org.uk', 'bbj.hu', 'lvz.de', 'telam.com.ar', 'pagina12.com.ar', 'ellitoral.com', 'cronica.com.ar', 'ambito.com', 'perfil.com', 'chequeado.com', 'a24.com', 'panampost.com', 'lavoz.com.ar', 'eltrecetv.com.ar', 'diario26.com', 'abc.com.py', 'eldoce.tv', 'tiempoar.com.ar', 'continental.com.ar', 'askmen.com', 'campaignlive.co.uk', 'lifehacker.com.au', 'warringtonguardian.co.uk', 'independenttribune.com', 'japan-forward.com', 'tvo.org', 'windsorstar.com', 'tvanouvelles.ca', 'kamloopsthisweek.com', 'london.ctvnews.ca', 'edmontonsun.com', 'ledroit.com', 'wellandtribune.ca', 'ckom.com', 'franceinter.fr', 'winnipeg.ctvnews.ca', 'aircargoworld.com', 'thestarphoenix.com', 'vocm.com', 'producer.com', 'thewalrus.ca', 'acadienouvelle.com', 'wakefieldexpress.co.uk', 'ballislife.com', 'slamonline.com', 'nzz.ch', 'keyj.com', 'paloaltoonline.com', 'smdailyjournal.com', 'dailycal.org', 'kalw.org', 'sonomanews.com', 'bloodyelbow.com', 'sherdog.com', 'mississauga.com', 'kiss925.com', 'ksby.com', 'pcwelt.de', 'ntv.co.jp', 'designboom.com', 'nishinippon.co.jp', 'gfmag.com', 'hurriyet.com.tr', 'chunichi.co.jp', 'enidnews.com', 'bucksfreepress.co.uk', 'mycbs4.com', 'cineuropa.org', 'screencrush.com', 'veranda.com', 'mubi.com', 'flickeringmyth.com', 'dreadcentral.com', 'superherohype.com', 'marvel.com', 'impulsegamer.com', 'filmdaily.co', 'aviationweek.com', 'americanscientist.org', 'worldscientific.com', 'sciencebasedmedicine.org', 'fox4now.com', '96krock.com', 'cw34.com', 'wmmq.com', 'wcjb.com', 'sitepoint.com', 'electronicsweekly.com', 'worldipreview.com', 'salamancapress.com', 'boersennews.de', 'di.se', 'metalbulletin.com', 'wcti12.com', 'localmemphis.com', 'wlos.com', 'sevendaysvt.com', 'agenciasinc.es', 'sudouest.fr', 'wate.com', 'nonpareilonline.com', 'cricbuzz.com', 'theroar.com.au', 'sportzwiki.com', 'athensreview.com', 'outsmartmagazine.com', 'dmagazine.com', 'herald-zeitung.com', 'capradio.org', 'caller.com', 'houstoniamag.com', 'klaq.com', 'heraldcourier.com', 'dailyexpress.com.my', 'davaotoday.com', 'mk.co.kr', 'e24.no', 'moneyweb.co.za', 'tagesanzeiger.ch', 'sentinelsource.com', 'messengernewspapers.co.uk', 'journalism.co.uk', 'wradio.com.co', 'balcanicaucaso.org', 'thesouthern.com', 'theridgefieldpress.com', 'idahonews.com', 'publicseminar.org', 'citizensvoice.com', 'southwarknews.co.uk', 'brasil247.com', 'wbiw.com', 'week.com', 'chicagomag.com', 'sj-r.com', 'harpers.org', 'thedp.com', 'thephiladelphiacitizen.org', 'theintelligencer.com', 'dazn.com', 'texashighways.com', 'bournemouthecho.co.uk', 'wnyc.org', 'observador.pt', 'latercera.com', 'newsday.co.tt', 'nationnews.com', 'eagletribune.com', 'koat.com', 'capecodtimes.com', 'monthlyreview.org', 'arte.tv', 'parents.com', 'poststar.com', 'princegeorgecitizen.com', 'backpacker.com', '24horas.cl', 'biobiochile.cl', 'heraldbulletin.com', 'z1077fm.com', 'jornada.com.mx', 'milenio.com', 'punknews.org', 'whathifi.com', 'brooklynvegan.com', 'louderthanwar.com', 'hiphopdx.com', 'pudding.cool', 'wibc.com', 'bitchmedia.org', 'anandtech.com', 'dpreview.com', 'beebom.com', 'macworld.com', 'adage.com', 'trains.com', 'reformer.com', 'womanandhome.com', 'increment.com', 'infoq.com', 'kaaltv.com', 'sweclockers.com', 'hardwareluxx.de', 'semiaccurate.com', 'thequietus.com', 'theferret.scot', 'railwaygazette.com', 'yorkshireeveningpost.co.uk', 'computing.co.uk', 'globallegalpost.com', 'private-eye.co.uk', 'gazetteandherald.co.uk', 'eastlondonadvertiser.co.uk', 'fwi.co.uk', 'hartlepoolmail.co.uk', 'greenocktelegraph.co.uk', 'mddionline.com', 'theengineer.co.uk', 'columbiaspectator.com', 'theinfatuation.com', 'lesaffaires.com', 'medicinehatnews.com', 'delmarvanow.com', 'law360.com', 'laweekly.com', 'kfvs12.com', 'rochestercitynewspaper.com', 'tinhte.vn', 'centralwesterndaily.com.au', 'houstonpress.com', 'wnep.com', 'bndestem.nl', 'volkskrant.nl', 'rtlnieuws.nl', 'fd.nl', 'groene.nl', 'bnr.nl', 'omroepbrabant.nl', 'vn.nl', 'hpdetijd.nl', 'tubantia.nl', 'dagelijksestandaard.nl', 'smdp.com', 'kcet.org', 'rugbyworld.com', 'theeastsiderla.com', 'aperture.org', 'escapistmagazine.com', 'handelsblatt.com', 'hsn.com', 'lavoixdunord.fr', 'lyoncapitale.fr', 'nextinpact.com', 'lesechos.fr', 'sudinfo.be', 'tomsguide.fr', 'cnews.fr', 'courrierinternational.com', 'franceculture.fr', 'huffingtonpost.fr', 'madame.lefigaro.fr', 'aufeminin.com', 'france.tv', 'numerama.com', 'la-croix.com', 'monde-diplomatique.fr', 'madmoizelle.com', 'clubic.com', 'futura-sciences.com', 'entreprendre.fr', 'actu.fr', 'lesnumeriques.com', 'publicsenat.fr', 'atlantico.fr', 'lalsace.fr', 'gamekult.com', 'purepeople.com', 'gala.fr', 'nicematin.com', 'rtbf.be', 'lematin.ch', 'humanite.fr', 'notretemps.com', '7sur7.be', 'developpez.com', 'dna.fr', 'lapresse.tn', 'sciencesetavenir.fr', 'mariefrance.fr', 'premiere.fr', 'corsematin.com', 'varmatin.com', '01net.com', 'quebecscience.qc.ca', 'courrier-picard.fr', 'lejdc.fr', 'telerama.fr', 'journaldunet.com', 'alternatives-economiques.fr', 'lepetitjournal.com', 'jeuxvideo.com', 'usinenouvelle.com', 'voici.fr', 'radioclassique.fr', 'journaldugeek.com', 'businessinsurance.com', 'darkreading.com', 'etc.se', 'tv4.se', 'sydsvenskan.se', 'legacy.com', 'universityworldnews.com', 'taz.de', 'wiwo.de', 'badische-zeitung.de', 'chip.de', 'nordbayern.de', 'stern.de', 'rnd.de', 'freitag.de', 'nw.de', 'dwdl.de', 'mopo.de', 'futurezone.at', 'wallstreet-online.de', 'derbund.ch', 'neues-deutschland.de', 'tichyseinblick.de', 'netzwelt.de', 'tag24.de', 'infranken.de', 'gamestar.de', 'wienerzeitung.at', 'mz-web.de', 'ksta.de', 'stadt-bremerhaven.de', 'jungewelt.de', 'auto-motor-und-sport.de', 'stuttgarter-zeitung.de', 'mallorcazeitung.es', 'wn.de', 'aachener-nachrichten.de', 'tz.de', 'prosieben.de', 'nylon.com', 'proceso.com.mx', 'diariolasamericas.com', 'excelsior.com.mx', 'debate.com.mx', 'sdpnoticias.com', 'radioformula.com.mx', 'elimparcial.com', 'televisa.com', 'yucatan.com.mx', 'elsoldetoluca.com.mx', 'tvazteca.com', 'informador.mx', 'sipse.com', 'el-mexicano.com.mx', 'theparisreview.org', 'reporteindigo.com', 'poresto.net', 'laverdadnoticias.com', 'sunset.com', 'tor.com', 'publishersweekly.com', 'newsandstar.co.uk', 'tcj.com', 'finans.dk', 'weekendavisen.dk', 'information.dk', 'version2.dk', 'borsen.dk', 'tu.no', 'worth.com', 'adventuregamers.com', 'cnbeta.com', 'dsogaming.com', 'tweaktown.com', 'famitsu.com', 'gtplanet.net', 'ilmessaggero.it', 'gds.it', 'tgcom24.mediaset.it', 'ilsole24ore.com', 'fanpage.it', 'huffingtonpost.it', 'blitzquotidiano.it', 'ilfoglio.it', 'adnkronos.com', 'tpi.it', 'internazionale.it', 'wired.it', 'laregione.ch', 'espresso.repubblica.it', 'primaonline.it', 'leggo.it', 'trueachievements.com', 'techraptor.net', 'revolvermag.com', 'polityka.pl', 'krytykapolityczna.pl', 'komputerswiat.pl', 'filmweb.pl', 'gazetaprawna.pl', 'nyteknik.se', 'resume.se', 'dagsavisen.no', 'nettavisen.no', 'nationen.no', 'abcnyheter.no', 'klassekampen.no', 'dn.no', 'aftenbladet.no', 'finansavisen.no', 'digi.no', 'osnews.com', 'rockpapershotgun.com', 'forbes.cz', 'undertheradarmag.com', 'clashmusic.com', 'musicweek.com', 'hotnews.ro', 'zf.ro', 'adevarul.ro', 'rfi.ro', 'realitatea.net', 'rudaw.net', 'baptiststandard.com', 'klove.com', 'journalinquirer.com', 'plough.com', 'sojo.net', 'tyla.com', 'crosswalk.com', 'thetablet.org', 'atlantamagazine.com', 'computer.org', 'globalcapital.com', 'evo.co.uk', 'zigwheels.com', 'thetruthaboutcars.com', 'largus.fr', 'cargurus.com', 'kbb.com', 'carbuyer.co.uk', 'automobilemag.com', 'self.com', 'food.com', 'ondacero.es', 'wpsdlocal6.com', 'thrashermagazine.com', 'wargamer.com', 'trustedreviews.com', 'phnompenhpost.com', 'wqad.com', 'krcgtv.com', 'gamingnexus.com', 'godisageek.com', 'nintendoworldreport.com', 'purenintendo.com', 'hardcoregamer.com', 'videogamer.com', 'giantbomb.com', 'everyeye.it', 'gry-online.pl', 'gamepro.de', '3dnews.ru', 'tribtoday.com', 'ringtv.com', 'hachettebookgroup.com', 'clarkesworldmagazine.com', 'pcper.com', 'santamariatimes.com', 'dualshockers.com', 'tomshw.it', 'habr.com', 'helpnetsecurity.com', 'magicvalley.com', 'okgazette.com', 'zanesvilletimesrecorder.com', 'nugget.ca', 'kswo.com', 'greenbaypressgazette.com', 'fosters.com', 'vermontbiz.com', 'houmatoday.com', 'dailylocal.com', '14news.com', 'skynewsarabia.com', 'cyclingtips.com', 'hltv.org', 'nerdwallet.com', 'showstudio.com', 'remezcla.com', 'ratedrnb.com', 'peopleenespanol.com', 'gardenandgun.com', 'rap-up.com', 'vogue.mx', 'list.co.uk', 'inkedmag.com', 'allhiphop.com', 'hot97.com', 'fox61.com', 'bollywoodhungama.com', 'elitedaily.com', 'earmilk.com', 'therakyatpost.com', 'philanthropy.com', 'mk.ru', 'globalsecurity.org', 'texarkanagazette.com', 'laphamsquarterly.org', 'usgamer.net', 'ntv.com.tr', 'kut.org', 'additudemag.com', 'gardenersworld.com', 'motherearthnews.com', 'cooksillustrated.com', 'backpackinglight.com', 'newhumanist.org.uk', 'wxii12.com', 'classicalwcrb.org', 'classicalmpr.org', 'smashingmagazine.com', 'lasexta.com', 'canalplus.com', 'commarts.com', 'printmag.com', 'tivysideadvertiser.co.uk', 'wrvo.org', 'newstalk1290.com', 'postbulletin.com', 'jamestownsun.com', 'allure.com', 'risk.net', 'lostiempos.com', 'routledge.com', 'socialistreview.org.uk', '710keel.com', 'bit-tech.net', 'themarker.com', 'wkfr.com', 'argusobserver.com', 'hercampus.com', 'asbarez.com', 'sky.com', 'thenassauguardian.com', 'kezi.com', 'libn.com', 'autoweek.nl', 'sankei.com', 'saturdayeveningpost.com', 'cityweekly.net', 'wmdt.com', 'manchesterjournal.com', 'observer-reporter.com', 'columbiamissourian.com', 'thehawkeye.com', 'njtoday.net', 'ucdavis.edu', 'cmaj.ca', 'osa-opn.org', 'publish.csiro.au', 'bighospitality.co.uk', 'mtv.com.au', '973espn.com', 'marthastewart.com', 'sagepub.com', 'domaininvesting.com', 'medlineplus.gov', 'theladders.com', 'aft.org', 'bdonline.co.uk', 'simplyrecipes.com', 'bbcgoodfood.com', 'epicurious.com', 'saveur.com', 'digitalcameraworld.com', 'theamericanscholar.org', 'bostonmagazine.com', 'chicagomaroon.com', 'tasteofhome.com', 'news8000.com', 'beeradvocate.com', 'gamewatcher.com', 'performermag.com', 'boxingnewsonline.net', 'elnuevodia.com', 'surfline.com', 'olympicchannel.com', 'aroundtherings.com', 'earwolf.com', 'ket.org', 'wbgo.org', 'jazzwise.com', 'brides.com', 'flaunt.com', 'knbr.com', 'wuwm.com', 'dallasvoice.com', 'noovo.ca', 'rpgfan.com', 'ozfm.com', 'familyhandyman.com', 'accountingtoday.com', 'kristv.com', 'krem.com', 'thecoast.ca', 'soundonsound.com', 'premierguitar.com', 'oricon.co.jp', 'dailycommercial.com', 'editorandpublisher.com', 'superdeporte.es', 'wndu.com', 'asm.org', 'alligator.org', 'mndaily.com', 'finewoodworking.com', 'forsythnews.com', 'ttbook.org', 'hs.fi', 'avclub.com', 'mmorpg.com', 'cybersport.ru', 'rpp.pe', 'memphisflyer.com', 'cycleworld.com', 'sdpb.org', 'carmagazine.co.uk', 'gamedev.net', 'los40.cl', 'dantri.com.vn', 'toucharcade.com', 'hgtv.com', 'metv.com', 'wlrh.org'))"
      ]
     },
     "execution_count": 81,
     "metadata": {},
     "output_type": "execute_result"
    }
   ],
   "source": [
    "G.nodes()"
   ]
  },
  {
   "cell_type": "code",
   "execution_count": 93,
   "id": "a8f10fc8",
   "metadata": {},
   "outputs": [
    {
     "data": {
      "text/plain": [
       "720620"
      ]
     },
     "execution_count": 93,
     "metadata": {},
     "output_type": "execute_result"
    }
   ],
   "source": [
    "len(G.edges())"
   ]
  },
  {
   "cell_type": "code",
   "execution_count": 83,
   "id": "87c1d2ac",
   "metadata": {},
   "outputs": [
    {
     "data": {
      "image/png": "[encoded data removed]",
      "text/plain": [
       "<Figure size 432x288 with 1 Axes>"
      ]
     },
     "metadata": {},
     "output_type": "display_data"
    }
   ],
   "source": [
    "nx.draw(G)\n",
    "plt.show()"
   ]
  },
  {
   "cell_type": "markdown",
   "id": "fdb5a880",
   "metadata": {},
   "source": [
    "Let's try visualize a subgraph"
   ]
  },
  {
   "cell_type": "code",
   "execution_count": 84,
   "id": "a7577ab2",
   "metadata": {
    "collapsed": true
   },
   "outputs": [
    {
     "data": {
      "text/plain": [
       "['__class__',\n",
       " '__contains__',\n",
       " '__delattr__',\n",
       " '__dict__',\n",
       " '__dir__',\n",
       " '__doc__',\n",
       " '__eq__',\n",
       " '__format__',\n",
       " '__ge__',\n",
       " '__getattribute__',\n",
       " '__getitem__',\n",
       " '__gt__',\n",
       " '__hash__',\n",
       " '__init__',\n",
       " '__init_subclass__',\n",
       " '__iter__',\n",
       " '__le__',\n",
       " '__len__',\n",
       " '__lt__',\n",
       " '__module__',\n",
       " '__ne__',\n",
       " '__new__',\n",
       " '__reduce__',\n",
       " '__reduce_ex__',\n",
       " '__repr__',\n",
       " '__setattr__',\n",
       " '__sizeof__',\n",
       " '__str__',\n",
       " '__subclasshook__',\n",
       " '__weakref__',\n",
       " '_adj',\n",
       " '_node',\n",
       " 'add_edge',\n",
       " 'add_edges_from',\n",
       " 'add_node',\n",
       " 'add_nodes_from',\n",
       " 'add_weighted_edges_from',\n",
       " 'adj',\n",
       " 'adjacency',\n",
       " 'adjlist_inner_dict_factory',\n",
       " 'adjlist_outer_dict_factory',\n",
       " 'clear',\n",
       " 'clear_edges',\n",
       " 'copy',\n",
       " 'degree',\n",
       " 'edge_attr_dict_factory',\n",
       " 'edge_subgraph',\n",
       " 'edges',\n",
       " 'get_edge_data',\n",
       " 'graph',\n",
       " 'graph_attr_dict_factory',\n",
       " 'has_edge',\n",
       " 'has_node',\n",
       " 'is_directed',\n",
       " 'is_multigraph',\n",
       " 'name',\n",
       " 'nbunch_iter',\n",
       " 'neighbors',\n",
       " 'node_attr_dict_factory',\n",
       " 'node_dict_factory',\n",
       " 'nodes',\n",
       " 'number_of_edges',\n",
       " 'number_of_nodes',\n",
       " 'order',\n",
       " 'remove_edge',\n",
       " 'remove_edges_from',\n",
       " 'remove_node',\n",
       " 'remove_nodes_from',\n",
       " 'size',\n",
       " 'subgraph',\n",
       " 'to_directed',\n",
       " 'to_directed_class',\n",
       " 'to_undirected',\n",
       " 'to_undirected_class',\n",
       " 'update']"
      ]
     },
     "execution_count": 84,
     "metadata": {},
     "output_type": "execute_result"
    }
   ],
   "source": [
    "dir(G)"
   ]
  },
  {
   "cell_type": "code",
   "execution_count": 139,
   "id": "cac3cb2e",
   "metadata": {},
   "outputs": [],
   "source": [
    "subG = G.copy()"
   ]
  },
  {
   "cell_type": "code",
   "execution_count": 136,
   "id": "5369f273",
   "metadata": {},
   "outputs": [],
   "source": [
    "small_components = sorted(list(nx.connected_components(subG))[0], key=len)"
   ]
  },
  {
   "cell_type": "code",
   "execution_count": 137,
   "id": "5a8dbd48",
   "metadata": {},
   "outputs": [
    {
     "data": {
      "text/plain": [
       "14"
      ]
     },
     "execution_count": 137,
     "metadata": {},
     "output_type": "execute_result"
    }
   ],
   "source": [
    "len(small_components)"
   ]
  },
  {
   "cell_type": "code",
   "execution_count": 138,
   "id": "1906053c",
   "metadata": {},
   "outputs": [
    {
     "data": {
      "text/plain": [
       "['pharmazeutische-zeitung.de',\n",
       " 'investigationdiscovery.com',\n",
       " 'geneticliteracyproject.org',\n",
       " 'hertfordshiremercury.co.uk',\n",
       " 'eastlondonadvertiser.co.uk',\n",
       " 'yorkshireeveningpost.co.uk',\n",
       " 'northcountrypublicradio.org',\n",
       " 'alternatives-economiques.fr',\n",
       " 'frasercoastchronicle.com.au',\n",
       " 'buckscountycouriertimes.com',\n",
       " 'manchestereveningnews.co.uk',\n",
       " 'caribbeannationalweekly.com',\n",
       " 'france3-regions.francetvinfo.fr',\n",
       " 'richmondandtwickenhamtimes.co.uk']"
      ]
     },
     "execution_count": 138,
     "metadata": {},
     "output_type": "execute_result"
    }
   ],
   "source": [
    "small_components"
   ]
  },
  {
   "cell_type": "code",
   "execution_count": 133,
   "id": "b06c039b",
   "metadata": {},
   "outputs": [],
   "source": [
    "subG.remove_nodes_from(small_components)"
   ]
  },
  {
   "cell_type": "code",
   "execution_count": 134,
   "id": "2e111c9e",
   "metadata": {},
   "outputs": [
    {
     "data": {
      "text/plain": [
       "32"
      ]
     },
     "execution_count": 134,
     "metadata": {},
     "output_type": "execute_result"
    }
   ],
   "source": [
    "len(subG.nodes())"
   ]
  },
  {
   "cell_type": "code",
   "execution_count": 135,
   "id": "e38d6e04",
   "metadata": {},
   "outputs": [
    {
     "data": {
      "image/png": "[encoded data removed]",
      "text/plain": [
       "<Figure size 432x288 with 1 Axes>"
      ]
     },
     "metadata": {},
     "output_type": "display_data"
    }
   ],
   "source": [
    "nx.draw(subG)\n",
    "plt.show()"
   ]
  },
  {
   "cell_type": "markdown",
   "id": "8ab78469",
   "metadata": {},
   "source": [
    "There are multiple algo for vis layout, so try them out & specify\n",
    "\n",
    "Co-occurrence as edge weight\n",
    "\n",
    "Total number of news source occurence OR # of edges as weight of nodes \n",
    "\n",
    "Think about capturing the information we have in our graph\n",
    "\n",
    "Network analysis! Take some time to learn networkx\n",
    "\n",
    "Label propagation -> node level prediction in GNN\n",
    "\n",
    "Send out poll to Casey and Sohie (reading period?, virtual?)\n",
    "\n",
    "For the presentation:\n",
    "1. Motivation: importance of news, etc like in essay for Schiff. \n",
    "    * explain terms\n",
    "    * Formulate 1-3 research qs. Main: how can we characterize the online news ecosystem? what does it mean to have audience-based approach? etc. (link to stat like hypothesis testing like comparison between local/national, reliable/unreliable sharing rate difference, position in network). \n",
    "    * Related literature review, reddit usage, etc, to position myself compared to other researchers.\n",
    "2. Data collection & exploratory.\n",
    "3. Methods to answer RQs\n",
    "4. (anticipated) Results so far\n",
    "5. Plan for Spring (per month)\n",
    "6. Ask for thoughts and feasibility, narrow down? broaden? try something else"
   ]
  },
  {
   "cell_type": "code",
   "execution_count": null,
   "id": "8f24e857",
   "metadata": {},
   "outputs": [],
   "source": []
  }
 ],
 "metadata": {
  "kernelspec": {
   "display_name": "Python 3 (ipykernel)",
   "language": "python",
   "name": "python3"
  },
  "language_info": {
   "codemirror_mode": {
    "name": "ipython",
    "version": 3
   },
   "file_extension": ".py",
   "mimetype": "text/x-python",
   "name": "python",
   "nbconvert_exporter": "python",
   "pygments_lexer": "ipython3",
   "version": "3.9.0"
  }
 },
 "nbformat": 4,
 "nbformat_minor": 5
}
