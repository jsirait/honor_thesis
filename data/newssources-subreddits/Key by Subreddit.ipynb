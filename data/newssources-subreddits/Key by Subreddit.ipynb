{
 "cells": [
  {
   "cell_type": "markdown",
   "metadata": {},
   "source": [
    "I have `json` files keyed by news sources. Using those, I will create identical files but keyed by subreddits"
   ]
  },
  {
   "cell_type": "code",
   "execution_count": 1,
   "metadata": {},
   "outputs": [],
   "source": [
    "import json\n",
    "from collections import defaultdict"
   ]
  },
  {
   "cell_type": "code",
   "execution_count": 2,
   "metadata": {},
   "outputs": [],
   "source": [
    "def key_ns(filename): \n",
    "    with open(filename, \"r\", encoding=\"utf-8\") as infile:\n",
    "        subreddit_ns = defaultdict(dict)\n",
    "        ns_subreddit = json.load(infile)\n",
    "        for ns in ns_subreddit:\n",
    "            for sub in ns_subreddit[ns]:\n",
    "                subreddit_ns[sub][ns] = ns_subreddit[ns][sub]\n",
    "    ym = filename[-12:]\n",
    "    print(\"subreddit_ns_{}\".format(ym))\n",
    "    with open(\"subreddit_ns_{}\".format(ym), \"w\", encoding=\"utf-8\") as outfile:\n",
    "        json.dump(subreddit_ns, outfile)"
   ]
  },
  {
   "cell_type": "code",
   "execution_count": 3,
   "metadata": {},
   "outputs": [],
   "source": [
    "filenames = [\"ns_subreddit_2021-01.json\", \"ns_subreddit_2021-02.json\", \"ns_subreddit_2021-03.json\",\n",
    "            \"ns_subreddit_2021-04.json\", \"ns_subreddit_2021-05.json\", \"ns_subreddit_2021-06.json\"]"
   ]
  },
  {
   "cell_type": "code",
   "execution_count": 4,
   "metadata": {},
   "outputs": [
    {
     "name": "stdout",
     "output_type": "stream",
     "text": [
      "subreddit_ns_2021-01.json\n",
      "subreddit_ns_2021-02.json\n",
      "subreddit_ns_2021-03.json\n",
      "subreddit_ns_2021-04.json\n",
      "subreddit_ns_2021-05.json\n",
      "subreddit_ns_2021-06.json\n"
     ]
    }
   ],
   "source": [
    "for f in filenames:\n",
    "    key_ns(f)"
   ]
  },
  {
   "cell_type": "code",
   "execution_count": null,
   "metadata": {},
   "outputs": [],
   "source": []
  }
 ],
 "metadata": {
  "kernelspec": {
   "display_name": "Python 3",
   "language": "python",
   "name": "python3"
  },
  "language_info": {
   "codemirror_mode": {
    "name": "ipython",
    "version": 3
   },
   "file_extension": ".py",
   "mimetype": "text/x-python",
   "name": "python",
   "nbconvert_exporter": "python",
   "pygments_lexer": "ipython3",
   "version": "3.8.6"
  }
 },
 "nbformat": 4,
 "nbformat_minor": 4
}
