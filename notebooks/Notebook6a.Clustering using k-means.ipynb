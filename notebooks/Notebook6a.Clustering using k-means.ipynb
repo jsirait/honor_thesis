{
 "cells": [
  {
   "cell_type": "markdown",
   "metadata": {},
   "source": [
    "# Clustering News Sources\n",
    "\n",
    "Junita Sirait\n",
    "\n",
    "I would like to cluster news sources based on in which subreddits they appear. First I will use k-means algorithm, then I will try out other algorithms such as DBSCAN and others. \n",
    "\n",
    "Table of contents add"
   ]
  },
  {
   "cell_type": "code",
   "execution_count": 203,
   "metadata": {},
   "outputs": [],
   "source": [
    "import json\n",
    "import pandas as pd\n",
    "import numpy as np\n",
    "import statistics\n",
    "\n",
    "import tldextract\n",
    "\n",
    "from collections import Counter, defaultdict\n",
    "import matplotlib.pyplot as plt\n",
    "import seaborn as sns\n",
    "from sklearn.cluster import KMeans\n",
    "from sklearn.metrics import silhouette_score\n",
    "from sklearn.preprocessing import StandardScaler\n",
    "\n",
    "from sklearn import preprocessing\n",
    "\n",
    "from sklearn.metrics import silhouette_score\n",
    "from kneed import KneeLocator\n",
    "\n",
    "from scipy.interpolate import make_interp_spline, BSpline\n",
    "\n",
    "from sklearn.decomposition import PCA\n",
    "from sklearn.decomposition import TruncatedSVD\n",
    "\n",
    "import math\n",
    "\n",
    "from sklearn.feature_selection import SelectKBest\n",
    "import os"
   ]
  },
  {
   "cell_type": "markdown",
   "metadata": {},
   "source": [
    "<a id=\"sub1\"></a>\n",
    "## Subreddit data"
   ]
  },
  {
   "cell_type": "code",
   "execution_count": 336,
   "metadata": {},
   "outputs": [],
   "source": [
    "pd = os.path.split(os.getcwd())[0]\n",
    "data_fp = os.path.join(pd,\"data/gm-newssources-subreddits\")\n",
    "dfp = os.path.join(pd,\"data\")\n",
    "mbfc_path = os.path.join(pd, \"data/mbfc\")"
   ]
  },
  {
   "cell_type": "code",
   "execution_count": 337,
   "metadata": {},
   "outputs": [],
   "source": [
    "with open (os.path.join(dfp,\"gmm_intersection.json\"), \"r\", encoding = \"utf-8\") as infile:\n",
    "    gmm_intersection = json.load(infile)"
   ]
  },
  {
   "cell_type": "code",
   "execution_count": 338,
   "metadata": {},
   "outputs": [
    {
     "data": {
      "text/plain": [
       "1631"
      ]
     },
     "execution_count": 338,
     "metadata": {},
     "output_type": "execute_result"
    }
   ],
   "source": [
    "len(gmm_intersection)"
   ]
  },
  {
   "cell_type": "code",
   "execution_count": 339,
   "metadata": {},
   "outputs": [],
   "source": [
    "with open (os.path.join(dfp,\"gm_intersection.json\"), \"r\", encoding = \"utf-8\") as infile:\n",
    "    gm_intersection = json.load(infile)"
   ]
  },
  {
   "cell_type": "code",
   "execution_count": 340,
   "metadata": {},
   "outputs": [
    {
     "data": {
      "text/plain": [
       "42477"
      ]
     },
     "execution_count": 340,
     "metadata": {},
     "output_type": "execute_result"
    }
   ],
   "source": [
    "len(gm_intersection)"
   ]
  },
  {
   "cell_type": "code",
   "execution_count": 443,
   "metadata": {},
   "outputs": [],
   "source": [
    "# Reading in all the subreddits in our files\n",
    "\n",
    "with open(os.path.join(data_fp,\"subreddit_ns_2021-01.json\"), \"r\", encoding = \"utf-8\") as infile1a:\n",
    "    subreddit_ns_jan = json.load(infile1a)\n",
    "\n",
    "with open(os.path.join(data_fp,\"subreddit_ns_2021-02.json\"), \"r\", encoding = \"utf-8\") as infile2a:\n",
    "    subreddit_ns_feb = json.load(infile2a)\n",
    "    \n",
    "with open(os.path.join(data_fp,\"subreddit_ns_2021-03.json\"), \"r\", encoding = \"utf-8\") as infile3a:\n",
    "    subreddit_ns_march = json.load(infile3a)\n",
    "    \n",
    "with open(os.path.join(data_fp,\"subreddit_ns_2021-04.json\"), \"r\", encoding = \"utf-8\") as infile4a:\n",
    "    subreddit_ns_april = json.load(infile4a)\n",
    "    \n",
    "with open(os.path.join(data_fp,\"subreddit_ns_2021-05.json\"), \"r\", encoding = \"utf-8\") as infile5a:\n",
    "    subreddit_ns_may = json.load(infile5a)\n",
    "    \n",
    "with open(os.path.join(data_fp,\"subreddit_ns_2021-06.json\"), \"r\", encoding = \"utf-8\") as infile6a:\n",
    "    subreddit_ns_jun = json.load(infile6a)"
   ]
  },
  {
   "cell_type": "code",
   "execution_count": 444,
   "metadata": {},
   "outputs": [],
   "source": [
    "# ns_subreddit\n",
    "with open(os.path.join(data_fp,\"ns_subreddit_2021-01.json\")) as infile1:\n",
    "    ns_subreddit_01 = json.load(infile1)\n",
    "    \n",
    "with open(os.path.join(data_fp,\"ns_subreddit_2021-02.json\")) as infile2:\n",
    "    ns_subreddit_02 = json.load(infile2)\n",
    "    \n",
    "with open(os.path.join(data_fp,\"ns_subreddit_2021-03.json\")) as infile3:\n",
    "    ns_subreddit_03 = json.load(infile3)\n",
    "    \n",
    "with open(os.path.join(data_fp,\"ns_subreddit_2021-04.json\")) as infile4:\n",
    "    ns_subreddit_04 = json.load(infile4)\n",
    "    \n",
    "with open(os.path.join(data_fp,\"ns_subreddit_2021-05.json\")) as infile5:\n",
    "    ns_subreddit_05 = json.load(infile5)\n",
    "    \n",
    "with open(os.path.join(data_fp,\"ns_subreddit_2021-06.json\")) as infile6:\n",
    "    ns_subreddit_06 = json.load(infile6)"
   ]
  },
  {
   "cell_type": "code",
   "execution_count": 445,
   "metadata": {},
   "outputs": [
    {
     "data": {
      "text/plain": [
       "{'wikipedia.org': [3, 2.9, 2],\n",
       " 'reddit.com': [72, 68.70000000000003, 340],\n",
       " 'youtube.com': [2, 1.96, 1],\n",
       " 'bbc.co.uk': [3, 2.93, 23],\n",
       " 'facebook.com': [5, 4.67, 16],\n",
       " 'mit.edu': [1, 1.0, 0],\n",
       " 'wiktionary.org': [2, 2.0, 0]}"
      ]
     },
     "execution_count": 445,
     "metadata": {},
     "output_type": "execute_result"
    }
   ],
   "source": [
    "# for sanity check\n",
    "subreddit_ns_jan[\"learnwelsh\"]"
   ]
  },
  {
   "cell_type": "markdown",
   "metadata": {},
   "source": [
    "## Apparently for some reason Reddit indexes many users as subreddits"
   ]
  },
  {
   "cell_type": "code",
   "execution_count": 446,
   "metadata": {},
   "outputs": [],
   "source": [
    "sr_union_old = (\n",
    "      set(subreddit_ns_jan) | set(subreddit_ns_feb) |\n",
    "      set(subreddit_ns_march) | set(subreddit_ns_april) |\n",
    "      set(subreddit_ns_may) | set(subreddit_ns_jun))"
   ]
  },
  {
   "cell_type": "code",
   "execution_count": 447,
   "metadata": {},
   "outputs": [
    {
     "data": {
      "text/plain": [
       "True"
      ]
     },
     "execution_count": 447,
     "metadata": {},
     "output_type": "execute_result"
    }
   ],
   "source": [
    "\"learnwelsh\" in sr_union_old"
   ]
  },
  {
   "cell_type": "code",
   "execution_count": 448,
   "metadata": {},
   "outputs": [
    {
     "data": {
      "text/plain": [
       "910554"
      ]
     },
     "execution_count": 448,
     "metadata": {},
     "output_type": "execute_result"
    }
   ],
   "source": [
    "u_s = [s for s in sr_union_old if s.startswith(\"u_\")]\n",
    "len(u_s)"
   ]
  },
  {
   "cell_type": "code",
   "execution_count": 449,
   "metadata": {},
   "outputs": [
    {
     "data": {
      "text/plain": [
       "['u_mariahgracew', 'u_forrest-kennedy', 'u_bharait', 'u_asds754', 'u_shakamya']"
      ]
     },
     "execution_count": 449,
     "metadata": {},
     "output_type": "execute_result"
    }
   ],
   "source": [
    "u_s[:5]"
   ]
  },
  {
   "cell_type": "code",
   "execution_count": 450,
   "metadata": {},
   "outputs": [
    {
     "data": {
      "text/plain": [
       "True"
      ]
     },
     "execution_count": 450,
     "metadata": {},
     "output_type": "execute_result"
    }
   ],
   "source": [
    "\"u_toronto_news\" in u_s"
   ]
  },
  {
   "cell_type": "markdown",
   "metadata": {},
   "source": [
    "## Let's exclude `u_*` from our subreddits and non_news from our news sources"
   ]
  },
  {
   "cell_type": "code",
   "execution_count": 451,
   "metadata": {},
   "outputs": [
    {
     "data": {
      "text/plain": [
       "130"
      ]
     },
     "execution_count": 451,
     "metadata": {},
     "output_type": "execute_result"
    }
   ],
   "source": [
    "non_news = []\n",
    "with open(\"non_news.csv\", \"r\", encoding=\"utf-8\") as nn:\n",
    "    r = csv.reader(nn, delimiter=\",\")\n",
    "    counter = 0\n",
    "    for row in r:\n",
    "        if counter != 0:\n",
    "            non_news.append(row[0])\n",
    "        counter += 1\n",
    "len(non_news)"
   ]
  },
  {
   "cell_type": "code",
   "execution_count": 452,
   "metadata": {},
   "outputs": [],
   "source": [
    "files_sub = [subreddit_ns_jan, subreddit_ns_feb, subreddit_ns_march, subreddit_ns_april, subreddit_ns_may, subreddit_ns_jun]\n",
    "files_ns = [ns_subreddit_01, ns_subreddit_02, ns_subreddit_03, ns_subreddit_04, ns_subreddit_05, ns_subreddit_06]"
   ]
  },
  {
   "cell_type": "markdown",
   "metadata": {},
   "source": [
    "Removing from files_sub"
   ]
  },
  {
   "cell_type": "code",
   "execution_count": 453,
   "metadata": {},
   "outputs": [
    {
     "data": {
      "text/plain": [
       "411723"
      ]
     },
     "execution_count": 453,
     "metadata": {},
     "output_type": "execute_result"
    }
   ],
   "source": [
    "len(subreddit_ns_jan)"
   ]
  },
  {
   "cell_type": "code",
   "execution_count": 454,
   "metadata": {},
   "outputs": [],
   "source": [
    "for f in files_sub:\n",
    "    [f.pop(u) for u in u_s if u in f]"
   ]
  },
  {
   "cell_type": "code",
   "execution_count": 1,
   "metadata": {},
   "outputs": [
    {
     "ename": "NameError",
     "evalue": "name 'subreddit_ns_jan' is not defined",
     "output_type": "error",
     "traceback": [
      "\u001b[1;31m---------------------------------------------------------------------------\u001b[0m",
      "\u001b[1;31mNameError\u001b[0m                                 Traceback (most recent call last)",
      "\u001b[1;32m<ipython-input-1-bb83b68d8d66>\u001b[0m in \u001b[0;36m<module>\u001b[1;34m\u001b[0m\n\u001b[1;32m----> 1\u001b[1;33m \u001b[0mlen\u001b[0m\u001b[1;33m(\u001b[0m\u001b[0msubreddit_ns_jan\u001b[0m\u001b[1;33m)\u001b[0m\u001b[1;33m\u001b[0m\u001b[1;33m\u001b[0m\u001b[0m\n\u001b[0m",
      "\u001b[1;31mNameError\u001b[0m: name 'subreddit_ns_jan' is not defined"
     ]
    }
   ],
   "source": [
    "len(subreddit_ns_jan)"
   ]
  },
  {
   "cell_type": "code",
   "execution_count": 456,
   "metadata": {},
   "outputs": [],
   "source": [
    "files_sub = [subreddit_ns_jan, subreddit_ns_feb, subreddit_ns_march, subreddit_ns_april, subreddit_ns_may, subreddit_ns_jun]\n",
    "files_ns = [ns_subreddit_01, ns_subreddit_02, ns_subreddit_03, ns_subreddit_04, ns_subreddit_05, ns_subreddit_06]"
   ]
  },
  {
   "cell_type": "code",
   "execution_count": 457,
   "metadata": {},
   "outputs": [
    {
     "name": "stdout",
     "output_type": "stream",
     "text": [
      "Done for a file\n",
      "Done for a file\n",
      "Done for a file\n",
      "Done for a file\n",
      "Done for a file\n",
      "Done for a file\n"
     ]
    }
   ],
   "source": [
    "for f in files_sub:\n",
    "    for n in f:\n",
    "        if 'reddit.com' in f[n]: f[n].pop('reddit.com')\n",
    "        # removing each of the non_news\n",
    "        for nns in non_news:\n",
    "            if nns in f[n]: f[n].pop(nns)\n",
    "    print(\"Done for a file\")"
   ]
  },
  {
   "cell_type": "code",
   "execution_count": 458,
   "metadata": {},
   "outputs": [
    {
     "data": {
      "text/plain": [
       "False"
      ]
     },
     "execution_count": 458,
     "metadata": {},
     "output_type": "execute_result"
    }
   ],
   "source": [
    "\"u_toronto_news\" in subreddit_ns_jun"
   ]
  },
  {
   "cell_type": "code",
   "execution_count": 459,
   "metadata": {},
   "outputs": [
    {
     "data": {
      "text/plain": [
       "True"
      ]
     },
     "execution_count": 459,
     "metadata": {},
     "output_type": "execute_result"
    }
   ],
   "source": [
    "\"learnwelsh\" in subreddit_ns_jun"
   ]
  },
  {
   "cell_type": "markdown",
   "metadata": {},
   "source": [
    "Now that we have removed `reddit.com` from various subreddits, there would be subreddits that used to only have reddit.com but now does not have anything inside. Let's get rid of these subreddits as well."
   ]
  },
  {
   "cell_type": "code",
   "execution_count": 460,
   "metadata": {},
   "outputs": [],
   "source": [
    "files_sub = [subreddit_ns_jan, subreddit_ns_feb, subreddit_ns_march, subreddit_ns_april, subreddit_ns_may, subreddit_ns_jun]\n",
    "files_ns = [ns_subreddit_01, ns_subreddit_02, ns_subreddit_03, ns_subreddit_04, ns_subreddit_05, ns_subreddit_06]"
   ]
  },
  {
   "cell_type": "code",
   "execution_count": 461,
   "metadata": {},
   "outputs": [
    {
     "name": "stdout",
     "output_type": "stream",
     "text": [
      "183592\n",
      "done for a file\n",
      "184349\n",
      "done for a file\n",
      "203649\n",
      "done for a file\n",
      "210354\n",
      "done for a file\n",
      "247206\n",
      "done for a file\n",
      "263501\n",
      "done for a file\n"
     ]
    }
   ],
   "source": [
    "for s in files_sub:\n",
    "    empty_subs = set()\n",
    "    for k in s:\n",
    "        if len(s[k]) == 0: empty_subs.add(k)\n",
    "    print(len(empty_subs))\n",
    "    [s.pop(u) for u in empty_subs]\n",
    "    print(\"done for a file\")"
   ]
  },
  {
   "cell_type": "code",
   "execution_count": 462,
   "metadata": {},
   "outputs": [
    {
     "data": {
      "text/plain": [
       "False"
      ]
     },
     "execution_count": 462,
     "metadata": {},
     "output_type": "execute_result"
    }
   ],
   "source": [
    "'ureddit' in empty_subs"
   ]
  },
  {
   "cell_type": "code",
   "execution_count": 463,
   "metadata": {},
   "outputs": [
    {
     "data": {
      "text/plain": [
       "False"
      ]
     },
     "execution_count": 463,
     "metadata": {},
     "output_type": "execute_result"
    }
   ],
   "source": [
    "'learnwelsh' in empty_subs"
   ]
  },
  {
   "cell_type": "markdown",
   "metadata": {},
   "source": [
    "    for f in files_sub:\n",
    "        [f.pop(u) for u in empty_subs if u in f]\n",
    "        print(\"done for a file\")"
   ]
  },
  {
   "cell_type": "code",
   "execution_count": 464,
   "metadata": {},
   "outputs": [
    {
     "data": {
      "text/plain": [
       "{'bbc.co.uk': [3, 2.93, 23],\n",
       " 'mit.edu': [1, 1.0, 0],\n",
       " 'wiktionary.org': [2, 2.0, 0]}"
      ]
     },
     "execution_count": 464,
     "metadata": {},
     "output_type": "execute_result"
    }
   ],
   "source": [
    "subreddit_ns_jan[\"learnwelsh\"]"
   ]
  },
  {
   "cell_type": "markdown",
   "metadata": {},
   "source": [
    "Instead of removing from files_ns, I will reconstruct files_ns from files_sub."
   ]
  },
  {
   "cell_type": "code",
   "execution_count": 465,
   "metadata": {},
   "outputs": [],
   "source": [
    "def ns_from_sub(subfile):\n",
    "    d = defaultdict(dict)\n",
    "    for sub in subfile:\n",
    "        for n in subfile[sub]:\n",
    "            d[n][sub] = subfile[sub][n]\n",
    "    return d"
   ]
  },
  {
   "cell_type": "code",
   "execution_count": 466,
   "metadata": {},
   "outputs": [],
   "source": [
    "ns_subreddit_01 = ns_from_sub(subreddit_ns_jan)\n",
    "ns_subreddit_02 = ns_from_sub(subreddit_ns_feb)\n",
    "ns_subreddit_03 = ns_from_sub(subreddit_ns_march)\n",
    "ns_subreddit_04 = ns_from_sub(subreddit_ns_april)\n",
    "ns_subreddit_05 = ns_from_sub(subreddit_ns_may)\n",
    "ns_subreddit_06 = ns_from_sub(subreddit_ns_jun)"
   ]
  },
  {
   "cell_type": "code",
   "execution_count": 467,
   "metadata": {},
   "outputs": [
    {
     "data": {
      "text/plain": [
       "False"
      ]
     },
     "execution_count": 467,
     "metadata": {},
     "output_type": "execute_result"
    }
   ],
   "source": [
    "'reddit.com' in ns_subreddit_02"
   ]
  },
  {
   "cell_type": "markdown",
   "metadata": {},
   "source": [
    "Let's use the intersection in an alphabetical order as a fixed order of our subreddits."
   ]
  },
  {
   "cell_type": "code",
   "execution_count": 468,
   "metadata": {},
   "outputs": [],
   "source": [
    "subs = sorted(set(subreddit_ns_jan) & set(subreddit_ns_feb) &\n",
    "      set(subreddit_ns_march) & set(subreddit_ns_april) &\n",
    "      set(subreddit_ns_may) & set(subreddit_ns_jun))"
   ]
  },
  {
   "cell_type": "code",
   "execution_count": 469,
   "metadata": {
    "scrolled": true
   },
   "outputs": [
    {
     "data": {
      "text/plain": [
       "['0xProject', '1001Movies', '100movies365days', '100yearsago', '12thMan']"
      ]
     },
     "execution_count": 469,
     "metadata": {},
     "output_type": "execute_result"
    }
   ],
   "source": [
    "subs[:5]"
   ]
  },
  {
   "cell_type": "markdown",
   "metadata": {},
   "source": [
    "## Intersections and unions of subreddits"
   ]
  },
  {
   "cell_type": "code",
   "execution_count": 470,
   "metadata": {
    "scrolled": true
   },
   "outputs": [
    {
     "name": "stdout",
     "output_type": "stream",
     "text": [
      "intersection: 10194\n"
     ]
    }
   ],
   "source": [
    "# what about their intersection?\n",
    "sr_intersection = (\n",
    "      set(subreddit_ns_jan) & set(subreddit_ns_feb) &\n",
    "      set(subreddit_ns_march) & set(subreddit_ns_april) &\n",
    "      set(subreddit_ns_may) & set(subreddit_ns_jun))\n",
    "\n",
    "print(\"intersection:\", len(sr_intersection))"
   ]
  },
  {
   "cell_type": "code",
   "execution_count": 471,
   "metadata": {},
   "outputs": [
    {
     "name": "stdout",
     "output_type": "stream",
     "text": [
      "union: 68224\n"
     ]
    }
   ],
   "source": [
    "sr_union = (\n",
    "      set(subreddit_ns_jan) | set(subreddit_ns_feb) |\n",
    "      set(subreddit_ns_march) | set(subreddit_ns_april) |\n",
    "      set(subreddit_ns_may) | set(subreddit_ns_jun))\n",
    "\n",
    "print(\"union:\", len(sr_union))"
   ]
  },
  {
   "cell_type": "markdown",
   "metadata": {},
   "source": [
    "<a id=\"sub2\"></a>\n",
    "## News sources data"
   ]
  },
  {
   "cell_type": "markdown",
   "metadata": {},
   "source": [
    "How many news sources are there?"
   ]
  },
  {
   "cell_type": "code",
   "execution_count": 472,
   "metadata": {},
   "outputs": [
    {
     "data": {
      "text/plain": [
       "23776"
      ]
     },
     "execution_count": 472,
     "metadata": {},
     "output_type": "execute_result"
    }
   ],
   "source": [
    "# union\n",
    "ns_union = (set(ns_subreddit_01) |\n",
    "       set(ns_subreddit_02) |\n",
    "       set(ns_subreddit_03) |\n",
    "       set(ns_subreddit_04) |\n",
    "       set(ns_subreddit_05) |\n",
    "       set(ns_subreddit_06))\n",
    "\n",
    "len(ns_union)"
   ]
  },
  {
   "cell_type": "code",
   "execution_count": 473,
   "metadata": {},
   "outputs": [],
   "source": [
    "nss = (set(ns_subreddit_01) &\n",
    "       set(ns_subreddit_02) &\n",
    "       set(ns_subreddit_03) &\n",
    "       set(ns_subreddit_04) &\n",
    "       set(ns_subreddit_05) &\n",
    "       set(ns_subreddit_06))"
   ]
  },
  {
   "cell_type": "code",
   "execution_count": 474,
   "metadata": {},
   "outputs": [
    {
     "data": {
      "text/plain": [
       "8835"
      ]
     },
     "execution_count": 474,
     "metadata": {},
     "output_type": "execute_result"
    }
   ],
   "source": [
    "num_ns = len(nss)\n",
    "num_ns"
   ]
  },
  {
   "cell_type": "markdown",
   "metadata": {},
   "source": [
    "## For each news source, let's count in how many subreddits they appear"
   ]
  },
  {
   "cell_type": "code",
   "execution_count": 475,
   "metadata": {},
   "outputs": [],
   "source": [
    "subreddit_count = dict()\n",
    "for ns in ns_union:\n",
    "    subreddit_count[ns] = len(set(ns_subreddit_01.get(ns, dict()).keys()) \n",
    "                               | set(ns_subreddit_02.get(ns, dict()).keys()) \n",
    "                               | set(ns_subreddit_03.get(ns, dict()).keys()) \n",
    "                               | set(ns_subreddit_04.get(ns, dict()).keys())\n",
    "                               | set(ns_subreddit_05.get(ns, dict()).keys()) \n",
    "                               | set(ns_subreddit_06.get(ns, dict()).keys()))"
   ]
  },
  {
   "cell_type": "markdown",
   "metadata": {},
   "source": [
    "`subreddit_count` stores in how many subreddits each news source appears."
   ]
  },
  {
   "cell_type": "code",
   "execution_count": 476,
   "metadata": {},
   "outputs": [
    {
     "data": {
      "text/plain": [
       "6085"
      ]
     },
     "execution_count": 476,
     "metadata": {},
     "output_type": "execute_result"
    }
   ],
   "source": [
    "subreddit_count['nytimes.com']"
   ]
  },
  {
   "cell_type": "code",
   "execution_count": 376,
   "metadata": {},
   "outputs": [
    {
     "data": {
      "text/plain": [
       "{1: 4711,\n",
       " 2: 2784,\n",
       " 3: 1951,\n",
       " 4: 1383,\n",
       " 5: 1113,\n",
       " 6: 911,\n",
       " 7: 772,\n",
       " 8: 652,\n",
       " 9: 511,\n",
       " 10: 475,\n",
       " 11: 428,\n",
       " 12: 374,\n",
       " 13: 345,\n",
       " 14: 318,\n",
       " 15: 297,\n",
       " 16: 255,\n",
       " 17: 245,\n",
       " 18: 215,\n",
       " 19: 189,\n",
       " 21: 189,\n",
       " 20: 177,\n",
       " 22: 171,\n",
       " 24: 148,\n",
       " 27: 130,\n",
       " 25: 129,\n",
       " 23: 124,\n",
       " 28: 111,\n",
       " 30: 107,\n",
       " 33: 101,\n",
       " 29: 97,\n",
       " 26: 97,\n",
       " 32: 93,\n",
       " 37: 88,\n",
       " 35: 83,\n",
       " 31: 82,\n",
       " 34: 74,\n",
       " 46: 72,\n",
       " 36: 72,\n",
       " 40: 66,\n",
       " 44: 66,\n",
       " 43: 64,\n",
       " 41: 64,\n",
       " 38: 62,\n",
       " 42: 61,\n",
       " 39: 58,\n",
       " 45: 57,\n",
       " 49: 54,\n",
       " 48: 50,\n",
       " 47: 49,\n",
       " 53: 49,\n",
       " 56: 44,\n",
       " 55: 44,\n",
       " 51: 44,\n",
       " 54: 42,\n",
       " 50: 42,\n",
       " 52: 41,\n",
       " 73: 41,\n",
       " 67: 41,\n",
       " 60: 34,\n",
       " 68: 33,\n",
       " 63: 31,\n",
       " 58: 31,\n",
       " 62: 30,\n",
       " 57: 30,\n",
       " 59: 27,\n",
       " 61: 27,\n",
       " 64: 27,\n",
       " 80: 27,\n",
       " 84: 26,\n",
       " 66: 26,\n",
       " 75: 26,\n",
       " 83: 25,\n",
       " 65: 25,\n",
       " 71: 25,\n",
       " 70: 24,\n",
       " 72: 23,\n",
       " 69: 23,\n",
       " 86: 23,\n",
       " 89: 22,\n",
       " 92: 21,\n",
       " 81: 21,\n",
       " 79: 21,\n",
       " 85: 21,\n",
       " 74: 21,\n",
       " 87: 19,\n",
       " 110: 19,\n",
       " 82: 19,\n",
       " 90: 19,\n",
       " 76: 18,\n",
       " 109: 18,\n",
       " 100: 17,\n",
       " 98: 17,\n",
       " 78: 17,\n",
       " 96: 16,\n",
       " 102: 16,\n",
       " 91: 15,\n",
       " 121: 15,\n",
       " 106: 15,\n",
       " 77: 15,\n",
       " 111: 14,\n",
       " 104: 14,\n",
       " 116: 14,\n",
       " 103: 14,\n",
       " 101: 13,\n",
       " 144: 13,\n",
       " 99: 13,\n",
       " 133: 13,\n",
       " 132: 12,\n",
       " 138: 12,\n",
       " 139: 12,\n",
       " 93: 11,\n",
       " 143: 11,\n",
       " 105: 11,\n",
       " 135: 11,\n",
       " 153: 11,\n",
       " 94: 11,\n",
       " 120: 11,\n",
       " 97: 11,\n",
       " 148: 11,\n",
       " 119: 11,\n",
       " 128: 11,\n",
       " 107: 11,\n",
       " 115: 11,\n",
       " 88: 11,\n",
       " 112: 10,\n",
       " 137: 10,\n",
       " 147: 10,\n",
       " 127: 10,\n",
       " 95: 10,\n",
       " 117: 9,\n",
       " 125: 9,\n",
       " 157: 9,\n",
       " 145: 9,\n",
       " 126: 9,\n",
       " 123: 9,\n",
       " 142: 8,\n",
       " 130: 8,\n",
       " 113: 8,\n",
       " 134: 8,\n",
       " 131: 8,\n",
       " 190: 8,\n",
       " 179: 8,\n",
       " 108: 8,\n",
       " 122: 8,\n",
       " 124: 8,\n",
       " 193: 7,\n",
       " 177: 7,\n",
       " 158: 7,\n",
       " 183: 7,\n",
       " 201: 7,\n",
       " 118: 7,\n",
       " 140: 7,\n",
       " 167: 7,\n",
       " 169: 7,\n",
       " 141: 7,\n",
       " 114: 7,\n",
       " 146: 6,\n",
       " 160: 6,\n",
       " 223: 6,\n",
       " 239: 6,\n",
       " 243: 6,\n",
       " 204: 6,\n",
       " 171: 6,\n",
       " 161: 6,\n",
       " 159: 6,\n",
       " 247: 6,\n",
       " 215: 6,\n",
       " 162: 6,\n",
       " 191: 6,\n",
       " 219: 6,\n",
       " 165: 6,\n",
       " 184: 6,\n",
       " 202: 5,\n",
       " 173: 5,\n",
       " 214: 5,\n",
       " 197: 5,\n",
       " 180: 5,\n",
       " 467: 5,\n",
       " 228: 5,\n",
       " 170: 5,\n",
       " 129: 5,\n",
       " 254: 5,\n",
       " 256: 5,\n",
       " 211: 5,\n",
       " 151: 5,\n",
       " 152: 5,\n",
       " 175: 5,\n",
       " 188: 4,\n",
       " 231: 4,\n",
       " 237: 4,\n",
       " 150: 4,\n",
       " 301: 4,\n",
       " 196: 4,\n",
       " 181: 4,\n",
       " 479: 4,\n",
       " 195: 4,\n",
       " 284: 4,\n",
       " 163: 4,\n",
       " 255: 4,\n",
       " 293: 4,\n",
       " 149: 4,\n",
       " 203: 4,\n",
       " 212: 4,\n",
       " 154: 4,\n",
       " 217: 4,\n",
       " 187: 4,\n",
       " 164: 4,\n",
       " 213: 4,\n",
       " 208: 4,\n",
       " 238: 4,\n",
       " 199: 4,\n",
       " 285: 4,\n",
       " 339: 4,\n",
       " 178: 4,\n",
       " 185: 4,\n",
       " 250: 3,\n",
       " 229: 3,\n",
       " 225: 3,\n",
       " 176: 3,\n",
       " 156: 3,\n",
       " 280: 3,\n",
       " 241: 3,\n",
       " 333: 3,\n",
       " 234: 3,\n",
       " 248: 3,\n",
       " 186: 3,\n",
       " 459: 3,\n",
       " 251: 3,\n",
       " 198: 3,\n",
       " 261: 3,\n",
       " 235: 3,\n",
       " 232: 3,\n",
       " 521: 3,\n",
       " 530: 3,\n",
       " 205: 3,\n",
       " 226: 3,\n",
       " 320: 3,\n",
       " 166: 3,\n",
       " 260: 3,\n",
       " 172: 3,\n",
       " 206: 3,\n",
       " 200: 3,\n",
       " 210: 3,\n",
       " 382: 3,\n",
       " 246: 3,\n",
       " 252: 3,\n",
       " 414: 3,\n",
       " 277: 3,\n",
       " 431: 3,\n",
       " 209: 3,\n",
       " 236: 3,\n",
       " 218: 3,\n",
       " 168: 3,\n",
       " 182: 3,\n",
       " 192: 3,\n",
       " 368: 3,\n",
       " 336: 3,\n",
       " 324: 2,\n",
       " 283: 2,\n",
       " 207: 2,\n",
       " 282: 2,\n",
       " 220: 2,\n",
       " 242: 2,\n",
       " 274: 2,\n",
       " 227: 2,\n",
       " 363: 2,\n",
       " 259: 2,\n",
       " 271: 2,\n",
       " 395: 2,\n",
       " 291: 2,\n",
       " 402: 2,\n",
       " 270: 2,\n",
       " 979: 2,\n",
       " 527: 2,\n",
       " 599: 2,\n",
       " 257: 2,\n",
       " 423: 2,\n",
       " 309: 2,\n",
       " 273: 2,\n",
       " 653: 2,\n",
       " 306: 2,\n",
       " 350: 2,\n",
       " 442: 2,\n",
       " 290: 2,\n",
       " 453: 2,\n",
       " 896: 2,\n",
       " 513: 2,\n",
       " 420: 2,\n",
       " 790: 2,\n",
       " 788: 2,\n",
       " 216: 2,\n",
       " 294: 2,\n",
       " 357: 2,\n",
       " 313: 2,\n",
       " 404: 2,\n",
       " 472: 2,\n",
       " 316: 2,\n",
       " 444: 2,\n",
       " 900: 2,\n",
       " 686: 2,\n",
       " 429: 2,\n",
       " 347: 2,\n",
       " 343: 2,\n",
       " 617: 2,\n",
       " 264: 2,\n",
       " 526: 2,\n",
       " 314: 2,\n",
       " 426: 2,\n",
       " 355: 2,\n",
       " 230: 2,\n",
       " 174: 2,\n",
       " 1131: 2,\n",
       " 136: 2,\n",
       " 221: 2,\n",
       " 602: 2,\n",
       " 781: 2,\n",
       " 458: 2,\n",
       " 349: 2,\n",
       " 194: 2,\n",
       " 287: 2,\n",
       " 258: 2,\n",
       " 348: 2,\n",
       " 365: 2,\n",
       " 428: 2,\n",
       " 286: 2,\n",
       " 337: 2,\n",
       " 345: 2,\n",
       " 386: 2,\n",
       " 461: 2,\n",
       " 299: 2,\n",
       " 405: 2,\n",
       " 338: 2,\n",
       " 415: 2,\n",
       " 1420: 2,\n",
       " 369: 2,\n",
       " 272: 2,\n",
       " 335: 2,\n",
       " 269: 2,\n",
       " 524: 2,\n",
       " 392: 1,\n",
       " 448: 1,\n",
       " 334: 1,\n",
       " 858: 1,\n",
       " 588: 1,\n",
       " 747: 1,\n",
       " 2445: 1,\n",
       " 2223: 1,\n",
       " 4246: 1,\n",
       " 317: 1,\n",
       " 1162: 1,\n",
       " 729: 1,\n",
       " 671: 1,\n",
       " 741: 1,\n",
       " 1380: 1,\n",
       " 281: 1,\n",
       " 2587: 1,\n",
       " 279: 1,\n",
       " 703: 1,\n",
       " 155: 1,\n",
       " 2412: 1,\n",
       " 292: 1,\n",
       " 673: 1,\n",
       " 937: 1,\n",
       " 564: 1,\n",
       " 642: 1,\n",
       " 340: 1,\n",
       " 300: 1,\n",
       " 295: 1,\n",
       " 342: 1,\n",
       " 374: 1,\n",
       " 1158: 1,\n",
       " 437: 1,\n",
       " 505: 1,\n",
       " 2297: 1,\n",
       " 497: 1,\n",
       " 244: 1,\n",
       " 930: 1,\n",
       " 929: 1,\n",
       " 1361: 1,\n",
       " 5014: 1,\n",
       " 407: 1,\n",
       " 767: 1,\n",
       " 865: 1,\n",
       " 688: 1,\n",
       " 884: 1,\n",
       " 330: 1,\n",
       " 512: 1,\n",
       " 288: 1,\n",
       " 1188: 1,\n",
       " 595: 1,\n",
       " 904: 1,\n",
       " 249: 1,\n",
       " 351: 1,\n",
       " 880: 1,\n",
       " 3695: 1,\n",
       " 681: 1,\n",
       " 353: 1,\n",
       " 1366: 1,\n",
       " 562: 1,\n",
       " 567: 1,\n",
       " 5451: 1,\n",
       " 346: 1,\n",
       " 400: 1,\n",
       " 266: 1,\n",
       " 224: 1,\n",
       " 918: 1,\n",
       " 446: 1,\n",
       " 329: 1,\n",
       " 498: 1,\n",
       " 732: 1,\n",
       " 932: 1,\n",
       " 793: 1,\n",
       " 585: 1,\n",
       " 577: 1,\n",
       " 454: 1,\n",
       " 262: 1,\n",
       " 540: 1,\n",
       " 323: 1,\n",
       " 5626: 1,\n",
       " 2004: 1,\n",
       " 632: 1,\n",
       " 1140: 1,\n",
       " 610: 1,\n",
       " 3494: 1,\n",
       " 1557: 1,\n",
       " 476: 1,\n",
       " 496: 1,\n",
       " 897: 1,\n",
       " 816: 1,\n",
       " 847: 1,\n",
       " 777: 1,\n",
       " 580: 1,\n",
       " 635: 1,\n",
       " 528: 1,\n",
       " 546: 1,\n",
       " 699: 1,\n",
       " 2332: 1,\n",
       " 837: 1,\n",
       " 803: 1,\n",
       " 296: 1,\n",
       " 499: 1,\n",
       " 240: 1,\n",
       " 682: 1,\n",
       " 618: 1,\n",
       " 278: 1,\n",
       " 315: 1,\n",
       " 440: 1,\n",
       " 322: 1,\n",
       " 758: 1,\n",
       " 576: 1,\n",
       " 435: 1,\n",
       " 450: 1,\n",
       " 430: 1,\n",
       " 609: 1,\n",
       " 1134: 1,\n",
       " 942: 1,\n",
       " 2730: 1,\n",
       " 1101: 1,\n",
       " 745: 1,\n",
       " 2976: 1,\n",
       " 3361: 1,\n",
       " 829: 1,\n",
       " 477: 1,\n",
       " 394: 1,\n",
       " 268: 1,\n",
       " 375: 1,\n",
       " 390: 1,\n",
       " 935: 1,\n",
       " 581: 1,\n",
       " 594: 1,\n",
       " 1315: 1,\n",
       " 222: 1,\n",
       " 1215: 1,\n",
       " 2364: 1,\n",
       " 611: 1,\n",
       " 629: 1,\n",
       " 864: 1,\n",
       " 421: 1,\n",
       " 503: 1,\n",
       " 660: 1,\n",
       " 393: 1,\n",
       " 787: 1,\n",
       " 411: 1,\n",
       " 533: 1,\n",
       " 722: 1,\n",
       " 506: 1,\n",
       " 418: 1,\n",
       " 1532: 1,\n",
       " 367: 1,\n",
       " 500: 1,\n",
       " 462: 1,\n",
       " 543: 1,\n",
       " 1474: 1,\n",
       " 981: 1,\n",
       " 814: 1,\n",
       " 984: 1,\n",
       " 959: 1,\n",
       " 677: 1,\n",
       " 1168: 1,\n",
       " 1040: 1,\n",
       " 354: 1,\n",
       " 455: 1,\n",
       " 616: 1,\n",
       " 1063: 1,\n",
       " 341: 1,\n",
       " 3085: 1,\n",
       " 786: 1,\n",
       " 1077: 1,\n",
       " 647: 1,\n",
       " 308: 1,\n",
       " 1272: 1,\n",
       " 1760: 1,\n",
       " 253: 1,\n",
       " 2910: 1,\n",
       " 233: 1,\n",
       " 853: 1,\n",
       " 433: 1,\n",
       " 571: 1,\n",
       " 593: 1,\n",
       " 1310: 1,\n",
       " 504: 1,\n",
       " 332: 1,\n",
       " 1312: 1,\n",
       " 2211: 1,\n",
       " 873: 1,\n",
       " 532: 1,\n",
       " 318: 1,\n",
       " 399: 1,\n",
       " 643: 1,\n",
       " 1096: 1,\n",
       " 361: 1,\n",
       " 468: 1,\n",
       " 823: 1,\n",
       " 2702: 1,\n",
       " 396: 1,\n",
       " 419: 1,\n",
       " 1645: 1,\n",
       " 371: 1,\n",
       " 311: 1,\n",
       " 1587: 1,\n",
       " 749: 1,\n",
       " 298: 1,\n",
       " 659: 1,\n",
       " 1352: 1,\n",
       " 714: 1,\n",
       " 726: 1,\n",
       " 689: 1,\n",
       " 614: 1,\n",
       " 307: 1,\n",
       " 529: 1,\n",
       " 3270: 1,\n",
       " 2819: 1,\n",
       " 1704: 1,\n",
       " 319: 1,\n",
       " 1915: 1,\n",
       " 640: 1,\n",
       " 734: 1,\n",
       " 1223: 1,\n",
       " 267: 1,\n",
       " 1488: 1,\n",
       " 1298: 1,\n",
       " 566: 1,\n",
       " 3034: 1,\n",
       " 2983: 1,\n",
       " 570: 1,\n",
       " 646: 1,\n",
       " 1603: 1,\n",
       " 724: 1,\n",
       " 1552: 1,\n",
       " 597: 1,\n",
       " 2701: 1,\n",
       " 825: 1,\n",
       " 381: 1,\n",
       " 539: 1,\n",
       " 410: 1,\n",
       " 578: 1,\n",
       " 563: 1,\n",
       " 312: 1,\n",
       " 514: 1,\n",
       " 559: 1,\n",
       " 914: 1,\n",
       " 1210: 1,\n",
       " 752: 1,\n",
       " 1083: 1,\n",
       " 409: 1,\n",
       " 973: 1,\n",
       " 3907: 1,\n",
       " 1078: 1,\n",
       " 939: 1,\n",
       " 1371: 1,\n",
       " 2254: 1,\n",
       " 303: 1,\n",
       " 370: 1,\n",
       " 439: 1,\n",
       " 910: 1}"
      ]
     },
     "execution_count": 376,
     "metadata": {},
     "output_type": "execute_result"
    }
   ],
   "source": [
    "subreddit_count_freq = dict(Counter(subreddit_count.values()).most_common())\n",
    "subreddit_count_freq"
   ]
  },
  {
   "cell_type": "markdown",
   "metadata": {},
   "source": [
    "`subreddit_count_freq` keeps track of how many news sources appear in *n* subreddits for all possible *n*."
   ]
  },
  {
   "cell_type": "code",
   "execution_count": 377,
   "metadata": {},
   "outputs": [
    {
     "data": {
      "text/plain": [
       "5626"
      ]
     },
     "execution_count": 377,
     "metadata": {},
     "output_type": "execute_result"
    }
   ],
   "source": [
    "max(subreddit_count_freq.keys())"
   ]
  },
  {
   "cell_type": "code",
   "execution_count": 378,
   "metadata": {},
   "outputs": [
    {
     "name": "stdout",
     "output_type": "stream",
     "text": [
      "theguardian.com is mentioned in 5626 subreddits.\n",
      "nytimes.com is mentioned in 5451 subreddits.\n",
      "cnn.com is mentioned in 5014 subreddits.\n",
      "bbc.com is mentioned in 4246 subreddits.\n",
      "reuters.com is mentioned in 3907 subreddits.\n",
      "washingtonpost.com is mentioned in 3695 subreddits.\n",
      "forbes.com is mentioned in 3494 subreddits.\n",
      "cnbc.com is mentioned in 3361 subreddits.\n",
      "bloomberg.com is mentioned in 3270 subreddits.\n",
      "apnews.com is mentioned in 3085 subreddits.\n",
      "businessinsider.com is mentioned in 3034 subreddits.\n",
      "fandom.com is mentioned in 2983 subreddits.\n",
      "bbc.co.uk is mentioned in 2976 subreddits.\n",
      "npr.org is mentioned in 2910 subreddits.\n",
      "nbcnews.com is mentioned in 2819 subreddits.\n",
      "independent.co.uk is mentioned in 2730 subreddits.\n",
      "msn.com is mentioned in 2702 subreddits.\n",
      "dailymail.co.uk is mentioned in 2701 subreddits.\n",
      "vice.com is mentioned in 2587 subreddits.\n",
      "nypost.com is mentioned in 2445 subreddits.\n",
      "wsj.com is mentioned in 2412 subreddits.\n",
      "theverge.com is mentioned in 2364 subreddits.\n",
      "usatoday.com is mentioned in 2332 subreddits.\n",
      "thehill.com is mentioned in 2297 subreddits.\n",
      "cbc.ca is mentioned in 2254 subreddits.\n",
      "nih.gov is mentioned in 2223 subreddits.\n",
      "newsweek.com is mentioned in 2211 subreddits.\n",
      "cbsnews.com is mentioned in 2004 subreddits.\n",
      "latimes.com is mentioned in 1915 subreddits.\n",
      "foxnews.com is mentioned in 1760 subreddits.\n"
     ]
    }
   ],
   "source": [
    "sde_ranked = Counter(subreddit_count).most_common()\n",
    "\n",
    "for t in sde_ranked[:30]:\n",
    "    sr, co = t\n",
    "    if co > 1:\n",
    "        print(f\"{sr} is mentioned in {co} subreddits.\")"
   ]
  },
  {
   "cell_type": "code",
   "execution_count": 379,
   "metadata": {},
   "outputs": [
    {
     "data": {
      "text/plain": [
       "497"
      ]
     },
     "execution_count": 379,
     "metadata": {},
     "output_type": "execute_result"
    }
   ],
   "source": [
    "subreddit_count[\"breitbart.com\"]"
   ]
  },
  {
   "cell_type": "code",
   "execution_count": 380,
   "metadata": {},
   "outputs": [
    {
     "data": {
      "text/plain": [
       "391"
      ]
     },
     "execution_count": 380,
     "metadata": {},
     "output_type": "execute_result"
    }
   ],
   "source": [
    "sc = [s for s in subreddit_count if subreddit_count[s]>=300]\n",
    "len(sc)"
   ]
  },
  {
   "cell_type": "markdown",
   "metadata": {},
   "source": [
    "```\n",
    "with open(\"sc_ge3k.csv\", \"w\", newline='', encoding=\"utf-8\") as s:\n",
    "    w = csv.writer(s, dialect=\"excel\", delimiter=\",\")\n",
    "    for c in sc:\n",
    "        w.writerow([c])\n",
    "```"
   ]
  },
  {
   "cell_type": "code",
   "execution_count": 381,
   "metadata": {},
   "outputs": [
    {
     "data": {
      "text/plain": [
       "True"
      ]
     },
     "execution_count": 381,
     "metadata": {},
     "output_type": "execute_result"
    }
   ],
   "source": [
    "sum(subreddit_count_freq.values()) == len(ns_union)"
   ]
  },
  {
   "cell_type": "code",
   "execution_count": 382,
   "metadata": {},
   "outputs": [],
   "source": [
    "import itertools"
   ]
  },
  {
   "cell_type": "code",
   "execution_count": 383,
   "metadata": {},
   "outputs": [],
   "source": [
    "scf = list(itertools.chain.from_iterable(itertools.repeat(k,v) for k,v in subreddit_count_freq.items()))"
   ]
  },
  {
   "cell_type": "code",
   "execution_count": 384,
   "metadata": {
    "scrolled": true
   },
   "outputs": [
    {
     "data": {
      "text/plain": [
       "Text(0.5, 1.0, 'number of news sources appearing in x subreddits')"
      ]
     },
     "execution_count": 384,
     "metadata": {},
     "output_type": "execute_result"
    },
    {
     "data": {
      "image/png": "[encoded data removed]",
      "text/plain": [
       "<Figure size 432x288 with 1 Axes>"
      ]
     },
     "metadata": {},
     "output_type": "display_data"
    }
   ],
   "source": [
    "# sns.histplot([math.log(s,10) for s in scf])\n",
    "sns.histplot(scf, log_scale=True)\n",
    "plt.xlabel(\"number of subreddit\")\n",
    "plt.ylabel(\"news source count\")\n",
    "plt.title(\"number of news sources appearing in x subreddits\")"
   ]
  },
  {
   "cell_type": "markdown",
   "metadata": {},
   "source": [
    "How many news sources only appear in 10 subreddits or less? what about 9 or 8?"
   ]
  },
  {
   "cell_type": "code",
   "execution_count": 385,
   "metadata": {},
   "outputs": [],
   "source": [
    "def pct_ns_in_k_subreddits(ks):\n",
    "    ns_in_i_subreddit = [k for k in subreddit_count if subreddit_count[k] <= ks]\n",
    "    count = len(ns_in_i_subreddit)\n",
    "    print(\"There are {} news sources appearing in only {} subreddits or less ({}%)\".format(count, ks, count/len(ns_union)))\n",
    "    return count/len(ns_union)"
   ]
  },
  {
   "cell_type": "code",
   "execution_count": 386,
   "metadata": {},
   "outputs": [
    {
     "name": "stdout",
     "output_type": "stream",
     "text": [
      "There are 11942 news sources appearing in only 5 subreddits or less (0.5097754631605907%)\n"
     ]
    },
    {
     "data": {
      "text/plain": [
       "0.5097754631605907"
      ]
     },
     "execution_count": 386,
     "metadata": {},
     "output_type": "execute_result"
    }
   ],
   "source": [
    "pct_ns_in_k_subreddits(5)"
   ]
  },
  {
   "cell_type": "code",
   "execution_count": 387,
   "metadata": {},
   "outputs": [
    {
     "name": "stdout",
     "output_type": "stream",
     "text": [
      "There are 0 news sources appearing in only 0 subreddits or less (0.0%)\n",
      "There are 4711 news sources appearing in only 1 subreddits or less (0.2011013403910185%)\n",
      "There are 7495 news sources appearing in only 2 subreddits or less (0.31994365235208744%)\n",
      "There are 9446 news sources appearing in only 3 subreddits or less (0.4032271834713566%)\n",
      "There are 10829 news sources appearing in only 4 subreddits or less (0.46226415094339623%)\n",
      "There are 11942 news sources appearing in only 5 subreddits or less (0.5097754631605907%)\n",
      "There are 12853 news sources appearing in only 6 subreddits or less (0.5486638777426791%)\n",
      "There are 13625 news sources appearing in only 7 subreddits or less (0.5816187142491249%)\n",
      "There are 14277 news sources appearing in only 8 subreddits or less (0.609451037308973%)\n",
      "There are 14788 news sources appearing in only 9 subreddits or less (0.6312644070690686%)\n",
      "There are 15263 news sources appearing in only 10 subreddits or less (0.6515410227951849%)\n",
      "There are 15691 news sources appearing in only 11 subreddits or less (0.6698113207547169%)\n",
      "There are 16065 news sources appearing in only 12 subreddits or less (0.6857764876632801%)\n",
      "There are 16410 news sources appearing in only 13 subreddits or less (0.7005037138222487%)\n",
      "There are 16728 news sources appearing in only 14 subreddits or less (0.714078374455733%)\n",
      "There are 17025 news sources appearing in only 15 subreddits or less (0.7267565952360625%)\n",
      "There are 17280 news sources appearing in only 16 subreddits or less (0.7376419363100828%)\n",
      "There are 17525 news sources appearing in only 17 subreddits or less (0.7481004012635534%)\n",
      "There are 17740 news sources appearing in only 18 subreddits or less (0.7572782378553744%)\n",
      "There are 17929 news sources appearing in only 19 subreddits or less (0.7653461965337659%)\n",
      "There are 18106 news sources appearing in only 20 subreddits or less (0.7729019038674977%)\n",
      "There are 18295 news sources appearing in only 21 subreddits or less (0.7809698625458892%)\n",
      "There are 18466 news sources appearing in only 22 subreddits or less (0.7882694442072911%)\n",
      "There are 18590 news sources appearing in only 23 subreddits or less (0.7935627081021087%)\n",
      "There are 18738 news sources appearing in only 24 subreddits or less (0.799880474686246%)\n",
      "There are 18867 news sources appearing in only 25 subreddits or less (0.8053871766413386%)\n",
      "There are 18964 news sources appearing in only 26 subreddits or less (0.8095278750106719%)\n",
      "There are 19094 news sources appearing in only 27 subreddits or less (0.8150772645778195%)\n",
      "There are 19205 news sources appearing in only 28 subreddits or less (0.8198155895159225%)\n",
      "There are 19302 news sources appearing in only 29 subreddits or less (0.8239562878852557%)\n",
      "There are 19409 news sources appearing in only 30 subreddits or less (0.8285238623751388%)\n",
      "There are 19491 news sources appearing in only 31 subreddits or less (0.8320242465636473%)\n",
      "There are 19584 news sources appearing in only 32 subreddits or less (0.8359941944847605%)\n",
      "There are 19685 news sources appearing in only 33 subreddits or less (0.8403056433023137%)\n",
      "There are 19759 news sources appearing in only 34 subreddits or less (0.8434645265943823%)\n",
      "There are 19842 news sources appearing in only 35 subreddits or less (0.8470075983949458%)\n",
      "There are 19914 news sources appearing in only 36 subreddits or less (0.8500811064629045%)\n",
      "There are 20002 news sources appearing in only 37 subreddits or less (0.8538376163237429%)\n",
      "There are 20064 news sources appearing in only 38 subreddits or less (0.8564842482711517%)\n",
      "There are 20122 news sources appearing in only 39 subreddits or less (0.8589601297703406%)\n",
      "There are 20188 news sources appearing in only 40 subreddits or less (0.8617775121659694%)\n",
      "There are 20252 news sources appearing in only 41 subreddits or less (0.8645095193374882%)\n",
      "There are 20313 news sources appearing in only 42 subreddits or less (0.8671134636728421%)\n",
      "There are 20377 news sources appearing in only 43 subreddits or less (0.8698454708443609%)\n",
      "There are 20443 news sources appearing in only 44 subreddits or less (0.8726628532399897%)\n",
      "There are 20500 news sources appearing in only 45 subreddits or less (0.8750960471271237%)\n",
      "There are 20572 news sources appearing in only 46 subreddits or less (0.8781695551950824%)\n",
      "There are 20621 news sources appearing in only 47 subreddits or less (0.8802612481857764%)\n",
      "There are 20671 news sources appearing in only 48 subreddits or less (0.8823956287885256%)\n",
      "There are 20725 news sources appearing in only 49 subreddits or less (0.8847007598394946%)\n",
      "There are 20767 news sources appearing in only 50 subreddits or less (0.8864936395458038%)\n",
      "There are 20811 news sources appearing in only 51 subreddits or less (0.888371894476223%)\n",
      "There are 20852 news sources appearing in only 52 subreddits or less (0.8901220865704772%)\n",
      "There are 20901 news sources appearing in only 53 subreddits or less (0.8922137795611713%)\n",
      "There are 20943 news sources appearing in only 54 subreddits or less (0.8940066592674806%)\n",
      "There are 20987 news sources appearing in only 55 subreddits or less (0.8958849141978997%)\n",
      "There are 21031 news sources appearing in only 56 subreddits or less (0.897763169128319%)\n",
      "There are 21061 news sources appearing in only 57 subreddits or less (0.8990437974899684%)\n",
      "There are 21092 news sources appearing in only 58 subreddits or less (0.9003671134636728%)\n",
      "There are 21119 news sources appearing in only 59 subreddits or less (0.9015196789891573%)\n",
      "There are 21153 news sources appearing in only 60 subreddits or less (0.9029710577990268%)\n",
      "There are 21180 news sources appearing in only 61 subreddits or less (0.9041236233245112%)\n",
      "There are 21210 news sources appearing in only 62 subreddits or less (0.9054042516861607%)\n",
      "There are 21241 news sources appearing in only 63 subreddits or less (0.9067275676598651%)\n",
      "There are 21268 news sources appearing in only 64 subreddits or less (0.9078801331853497%)\n",
      "There are 21293 news sources appearing in only 65 subreddits or less (0.9089473234867241%)\n",
      "There are 21319 news sources appearing in only 66 subreddits or less (0.9100572014001537%)\n",
      "There are 21360 news sources appearing in only 67 subreddits or less (0.9118073934944079%)\n",
      "There are 21393 news sources appearing in only 68 subreddits or less (0.9132160846922223%)\n",
      "There are 21416 news sources appearing in only 69 subreddits or less (0.9141978997694868%)\n",
      "There are 21440 news sources appearing in only 70 subreddits or less (0.9152224024588065%)\n",
      "There are 21465 news sources appearing in only 71 subreddits or less (0.916289592760181%)\n",
      "There are 21488 news sources appearing in only 72 subreddits or less (0.9172714078374455%)\n",
      "There are 21529 news sources appearing in only 73 subreddits or less (0.9190215999316999%)\n",
      "There are 21550 news sources appearing in only 74 subreddits or less (0.9199180397848544%)\n",
      "There are 21576 news sources appearing in only 75 subreddits or less (0.921027917698284%)\n",
      "There are 21594 news sources appearing in only 76 subreddits or less (0.9217962947152736%)\n",
      "There are 21609 news sources appearing in only 77 subreddits or less (0.9224366088960984%)\n",
      "There are 21626 news sources appearing in only 78 subreddits or less (0.923162298301033%)\n",
      "There are 21647 news sources appearing in only 79 subreddits or less (0.9240587381541877%)\n",
      "There are 21674 news sources appearing in only 80 subreddits or less (0.9252113036796722%)\n",
      "There are 21695 news sources appearing in only 81 subreddits or less (0.9261077435328268%)\n",
      "There are 21714 news sources appearing in only 82 subreddits or less (0.9269188081618714%)\n",
      "There are 21739 news sources appearing in only 83 subreddits or less (0.9279859984632459%)\n",
      "There are 21765 news sources appearing in only 84 subreddits or less (0.9290958763766755%)\n",
      "There are 21786 news sources appearing in only 85 subreddits or less (0.9299923162298301%)\n",
      "There are 21809 news sources appearing in only 86 subreddits or less (0.9309741313070947%)\n",
      "There are 21828 news sources appearing in only 87 subreddits or less (0.9317851959361393%)\n",
      "There are 21839 news sources appearing in only 88 subreddits or less (0.9322547596687442%)\n",
      "There are 21861 news sources appearing in only 89 subreddits or less (0.9331938871339537%)\n",
      "There are 21880 news sources appearing in only 90 subreddits or less (0.9340049517629984%)\n",
      "There are 21895 news sources appearing in only 91 subreddits or less (0.9346452659438231%)\n",
      "There are 21916 news sources appearing in only 92 subreddits or less (0.9355417057969777%)\n",
      "There are 21927 news sources appearing in only 93 subreddits or less (0.9360112695295825%)\n",
      "There are 21938 news sources appearing in only 94 subreddits or less (0.9364808332621873%)\n",
      "There are 21948 news sources appearing in only 95 subreddits or less (0.9369077093827372%)\n",
      "There are 21964 news sources appearing in only 96 subreddits or less (0.9375907111756169%)\n",
      "There are 21975 news sources appearing in only 97 subreddits or less (0.9380602749082216%)\n"
     ]
    },
    {
     "name": "stdout",
     "output_type": "stream",
     "text": [
      "There are 21992 news sources appearing in only 98 subreddits or less (0.9387859643131563%)\n",
      "There are 22005 news sources appearing in only 99 subreddits or less (0.9393409032698711%)\n",
      "There are 22022 news sources appearing in only 100 subreddits or less (0.9400665926748057%)\n",
      "There are 22035 news sources appearing in only 101 subreddits or less (0.9406215316315205%)\n",
      "There are 22051 news sources appearing in only 102 subreddits or less (0.9413045334244002%)\n",
      "There are 22065 news sources appearing in only 103 subreddits or less (0.94190215999317%)\n",
      "There are 22079 news sources appearing in only 104 subreddits or less (0.9424997865619398%)\n",
      "There are 22090 news sources appearing in only 105 subreddits or less (0.9429693502945445%)\n",
      "There are 22105 news sources appearing in only 106 subreddits or less (0.9436096644753692%)\n",
      "There are 22116 news sources appearing in only 107 subreddits or less (0.9440792282079741%)\n",
      "There are 22124 news sources appearing in only 108 subreddits or less (0.9444207291044139%)\n",
      "There are 22142 news sources appearing in only 109 subreddits or less (0.9451891061214036%)\n",
      "There are 22161 news sources appearing in only 110 subreddits or less (0.9460001707504482%)\n",
      "There are 22175 news sources appearing in only 111 subreddits or less (0.946597797319218%)\n",
      "There are 22185 news sources appearing in only 112 subreddits or less (0.9470246734397678%)\n",
      "There are 22193 news sources appearing in only 113 subreddits or less (0.9473661743362076%)\n",
      "There are 22200 news sources appearing in only 114 subreddits or less (0.9476649876205925%)\n",
      "There are 22211 news sources appearing in only 115 subreddits or less (0.9481345513531974%)\n",
      "There are 22225 news sources appearing in only 116 subreddits or less (0.9487321779219671%)\n",
      "There are 22234 news sources appearing in only 117 subreddits or less (0.9491163664304619%)\n",
      "There are 22241 news sources appearing in only 118 subreddits or less (0.9494151797148468%)\n",
      "There are 22252 news sources appearing in only 119 subreddits or less (0.9498847434474516%)\n",
      "There are 22263 news sources appearing in only 120 subreddits or less (0.9503543071800563%)\n",
      "There are 22278 news sources appearing in only 121 subreddits or less (0.9509946213608811%)\n",
      "There are 22286 news sources appearing in only 122 subreddits or less (0.9513361222573209%)\n",
      "There are 22295 news sources appearing in only 123 subreddits or less (0.9517203107658158%)\n",
      "There are 22303 news sources appearing in only 124 subreddits or less (0.9520618116622556%)\n",
      "There are 22312 news sources appearing in only 125 subreddits or less (0.9524460001707504%)\n",
      "There are 22321 news sources appearing in only 126 subreddits or less (0.9528301886792453%)\n",
      "There are 22331 news sources appearing in only 127 subreddits or less (0.9532570647997951%)\n",
      "There are 22342 news sources appearing in only 128 subreddits or less (0.9537266285323999%)\n",
      "There are 22347 news sources appearing in only 129 subreddits or less (0.9539400665926748%)\n",
      "There are 22355 news sources appearing in only 130 subreddits or less (0.9542815674891146%)\n",
      "There are 22363 news sources appearing in only 131 subreddits or less (0.9546230683855546%)\n",
      "There are 22375 news sources appearing in only 132 subreddits or less (0.9551353197302143%)\n",
      "There are 22388 news sources appearing in only 133 subreddits or less (0.955690258686929%)\n",
      "There are 22396 news sources appearing in only 134 subreddits or less (0.956031759583369%)\n",
      "There are 22407 news sources appearing in only 135 subreddits or less (0.9565013233159737%)\n",
      "There are 22409 news sources appearing in only 136 subreddits or less (0.9565866985400837%)\n",
      "There are 22419 news sources appearing in only 137 subreddits or less (0.9570135746606335%)\n",
      "There are 22431 news sources appearing in only 138 subreddits or less (0.9575258260052932%)\n",
      "There are 22443 news sources appearing in only 139 subreddits or less (0.958038077349953%)\n",
      "There are 22450 news sources appearing in only 140 subreddits or less (0.9583368906343379%)\n",
      "There are 22457 news sources appearing in only 141 subreddits or less (0.9586357039187228%)\n",
      "There are 22465 news sources appearing in only 142 subreddits or less (0.9589772048151627%)\n",
      "There are 22476 news sources appearing in only 143 subreddits or less (0.9594467685477674%)\n",
      "There are 22489 news sources appearing in only 144 subreddits or less (0.9600017075044822%)\n",
      "There are 22498 news sources appearing in only 145 subreddits or less (0.9603858960129771%)\n",
      "There are 22504 news sources appearing in only 146 subreddits or less (0.9606420216853069%)\n",
      "There are 22514 news sources appearing in only 147 subreddits or less (0.9610688978058567%)\n",
      "There are 22525 news sources appearing in only 148 subreddits or less (0.9615384615384616%)\n",
      "There are 22529 news sources appearing in only 149 subreddits or less (0.9617092119866815%)\n",
      "There are 22533 news sources appearing in only 150 subreddits or less (0.9618799624349014%)\n",
      "There are 22538 news sources appearing in only 151 subreddits or less (0.9620934004951763%)\n",
      "There are 22543 news sources appearing in only 152 subreddits or less (0.9623068385554512%)\n",
      "There are 22554 news sources appearing in only 153 subreddits or less (0.962776402288056%)\n",
      "There are 22558 news sources appearing in only 154 subreddits or less (0.962947152736276%)\n",
      "There are 22559 news sources appearing in only 155 subreddits or less (0.9629898403483309%)\n",
      "There are 22562 news sources appearing in only 156 subreddits or less (0.9631179031844959%)\n",
      "There are 22571 news sources appearing in only 157 subreddits or less (0.9635020916929907%)\n",
      "There are 22578 news sources appearing in only 158 subreddits or less (0.9638009049773756%)\n",
      "There are 22584 news sources appearing in only 159 subreddits or less (0.9640570306497055%)\n",
      "There are 22590 news sources appearing in only 160 subreddits or less (0.9643131563220353%)\n",
      "There are 22596 news sources appearing in only 161 subreddits or less (0.9645692819943652%)\n",
      "There are 22602 news sources appearing in only 162 subreddits or less (0.9648254076666951%)\n",
      "There are 22606 news sources appearing in only 163 subreddits or less (0.964996158114915%)\n",
      "There are 22610 news sources appearing in only 164 subreddits or less (0.965166908563135%)\n",
      "There are 22616 news sources appearing in only 165 subreddits or less (0.9654230342354648%)\n",
      "There are 22619 news sources appearing in only 166 subreddits or less (0.9655510970716298%)\n",
      "There are 22626 news sources appearing in only 167 subreddits or less (0.9658499103560146%)\n",
      "There are 22629 news sources appearing in only 168 subreddits or less (0.9659779731921796%)\n",
      "There are 22636 news sources appearing in only 169 subreddits or less (0.9662767864765645%)\n",
      "There are 22641 news sources appearing in only 170 subreddits or less (0.9664902245368394%)\n",
      "There are 22647 news sources appearing in only 171 subreddits or less (0.9667463502091693%)\n",
      "There are 22650 news sources appearing in only 172 subreddits or less (0.9668744130453343%)\n",
      "There are 22655 news sources appearing in only 173 subreddits or less (0.9670878511056091%)\n",
      "There are 22657 news sources appearing in only 174 subreddits or less (0.9671732263297191%)\n",
      "There are 22662 news sources appearing in only 175 subreddits or less (0.967386664389994%)\n",
      "There are 22665 news sources appearing in only 176 subreddits or less (0.9675147272261589%)\n",
      "There are 22672 news sources appearing in only 177 subreddits or less (0.9678135405105438%)\n",
      "There are 22676 news sources appearing in only 178 subreddits or less (0.9679842909587638%)\n",
      "There are 22684 news sources appearing in only 179 subreddits or less (0.9683257918552036%)\n",
      "There are 22689 news sources appearing in only 180 subreddits or less (0.9685392299154786%)\n",
      "There are 22693 news sources appearing in only 181 subreddits or less (0.9687099803636985%)\n",
      "There are 22696 news sources appearing in only 182 subreddits or less (0.9688380431998634%)\n",
      "There are 22703 news sources appearing in only 183 subreddits or less (0.9691368564842483%)\n",
      "There are 22709 news sources appearing in only 184 subreddits or less (0.9693929821565782%)\n",
      "There are 22713 news sources appearing in only 185 subreddits or less (0.9695637326047981%)\n",
      "There are 22716 news sources appearing in only 186 subreddits or less (0.9696917954409631%)\n",
      "There are 22720 news sources appearing in only 187 subreddits or less (0.969862545889183%)\n",
      "There are 22724 news sources appearing in only 188 subreddits or less (0.9700332963374029%)\n",
      "There are 22724 news sources appearing in only 189 subreddits or less (0.9700332963374029%)\n",
      "There are 22732 news sources appearing in only 190 subreddits or less (0.9703747972338428%)\n",
      "There are 22738 news sources appearing in only 191 subreddits or less (0.9706309229061726%)\n",
      "There are 22741 news sources appearing in only 192 subreddits or less (0.9707589857423375%)\n"
     ]
    },
    {
     "name": "stdout",
     "output_type": "stream",
     "text": [
      "There are 22748 news sources appearing in only 193 subreddits or less (0.9710577990267224%)\n",
      "There are 22750 news sources appearing in only 194 subreddits or less (0.9711431742508324%)\n",
      "There are 22754 news sources appearing in only 195 subreddits or less (0.9713139246990523%)\n",
      "There are 22758 news sources appearing in only 196 subreddits or less (0.9714846751472722%)\n",
      "There are 22763 news sources appearing in only 197 subreddits or less (0.9716981132075472%)\n",
      "There are 22766 news sources appearing in only 198 subreddits or less (0.9718261760437121%)\n",
      "There are 22770 news sources appearing in only 199 subreddits or less (0.971996926491932%)\n",
      "There are 22773 news sources appearing in only 200 subreddits or less (0.972124989328097%)\n",
      "There are 22780 news sources appearing in only 201 subreddits or less (0.9724238026124818%)\n",
      "There are 22785 news sources appearing in only 202 subreddits or less (0.9726372406727568%)\n",
      "There are 22789 news sources appearing in only 203 subreddits or less (0.9728079911209767%)\n",
      "There are 22795 news sources appearing in only 204 subreddits or less (0.9730641167933066%)\n",
      "There are 22798 news sources appearing in only 205 subreddits or less (0.9731921796294716%)\n",
      "There are 22801 news sources appearing in only 206 subreddits or less (0.9733202424656364%)\n",
      "There are 22803 news sources appearing in only 207 subreddits or less (0.9734056176897464%)\n",
      "There are 22807 news sources appearing in only 208 subreddits or less (0.9735763681379663%)\n",
      "There are 22810 news sources appearing in only 209 subreddits or less (0.9737044309741313%)\n",
      "There are 22813 news sources appearing in only 210 subreddits or less (0.9738324938102962%)\n",
      "There are 22818 news sources appearing in only 211 subreddits or less (0.9740459318705712%)\n",
      "There are 22822 news sources appearing in only 212 subreddits or less (0.9742166823187911%)\n",
      "There are 22826 news sources appearing in only 213 subreddits or less (0.974387432767011%)\n",
      "There are 22831 news sources appearing in only 214 subreddits or less (0.974600870827286%)\n",
      "There are 22837 news sources appearing in only 215 subreddits or less (0.9748569964996158%)\n",
      "There are 22839 news sources appearing in only 216 subreddits or less (0.9749423717237258%)\n",
      "There are 22843 news sources appearing in only 217 subreddits or less (0.9751131221719457%)\n",
      "There are 22846 news sources appearing in only 218 subreddits or less (0.9752411850081106%)\n",
      "There are 22852 news sources appearing in only 219 subreddits or less (0.9754973106804405%)\n",
      "There are 22854 news sources appearing in only 220 subreddits or less (0.9755826859045506%)\n",
      "There are 22856 news sources appearing in only 221 subreddits or less (0.9756680611286604%)\n",
      "There are 22857 news sources appearing in only 222 subreddits or less (0.9757107487407154%)\n",
      "There are 22863 news sources appearing in only 223 subreddits or less (0.9759668744130453%)\n",
      "There are 22864 news sources appearing in only 224 subreddits or less (0.9760095620251004%)\n",
      "There are 22867 news sources appearing in only 225 subreddits or less (0.9761376248612652%)\n",
      "There are 22870 news sources appearing in only 226 subreddits or less (0.9762656876974302%)\n",
      "There are 22872 news sources appearing in only 227 subreddits or less (0.9763510629215402%)\n",
      "There are 22877 news sources appearing in only 228 subreddits or less (0.9765645009818151%)\n",
      "There are 22880 news sources appearing in only 229 subreddits or less (0.97669256381798%)\n",
      "There are 22882 news sources appearing in only 230 subreddits or less (0.97677793904209%)\n",
      "There are 22886 news sources appearing in only 231 subreddits or less (0.9769486894903099%)\n",
      "There are 22889 news sources appearing in only 232 subreddits or less (0.9770767523264748%)\n",
      "There are 22890 news sources appearing in only 233 subreddits or less (0.9771194399385298%)\n",
      "There are 22893 news sources appearing in only 234 subreddits or less (0.9772475027746947%)\n",
      "There are 22896 news sources appearing in only 235 subreddits or less (0.9773755656108597%)\n",
      "There are 22899 news sources appearing in only 236 subreddits or less (0.9775036284470247%)\n",
      "There are 22903 news sources appearing in only 237 subreddits or less (0.9776743788952446%)\n",
      "There are 22907 news sources appearing in only 238 subreddits or less (0.9778451293434646%)\n",
      "There are 22913 news sources appearing in only 239 subreddits or less (0.9781012550157944%)\n",
      "There are 22914 news sources appearing in only 240 subreddits or less (0.9781439426278494%)\n",
      "There are 22917 news sources appearing in only 241 subreddits or less (0.9782720054640144%)\n",
      "There are 22919 news sources appearing in only 242 subreddits or less (0.9783573806881243%)\n",
      "There are 22925 news sources appearing in only 243 subreddits or less (0.9786135063604542%)\n",
      "There are 22926 news sources appearing in only 244 subreddits or less (0.9786561939725091%)\n",
      "There are 22926 news sources appearing in only 245 subreddits or less (0.9786561939725091%)\n",
      "There are 22929 news sources appearing in only 246 subreddits or less (0.9787842568086741%)\n",
      "There are 22935 news sources appearing in only 247 subreddits or less (0.979040382481004%)\n",
      "There are 22938 news sources appearing in only 248 subreddits or less (0.979168445317169%)\n",
      "There are 22939 news sources appearing in only 249 subreddits or less (0.9792111329292239%)\n",
      "There are 22942 news sources appearing in only 250 subreddits or less (0.9793391957653889%)\n",
      "There are 22945 news sources appearing in only 251 subreddits or less (0.9794672586015538%)\n",
      "There are 22948 news sources appearing in only 252 subreddits or less (0.9795953214377188%)\n",
      "There are 22949 news sources appearing in only 253 subreddits or less (0.9796380090497737%)\n",
      "There are 22954 news sources appearing in only 254 subreddits or less (0.9798514471100487%)\n",
      "There are 22958 news sources appearing in only 255 subreddits or less (0.9800221975582686%)\n",
      "There are 22963 news sources appearing in only 256 subreddits or less (0.9802356356185435%)\n",
      "There are 22965 news sources appearing in only 257 subreddits or less (0.9803210108426534%)\n",
      "There are 22967 news sources appearing in only 258 subreddits or less (0.9804063860667634%)\n",
      "There are 22969 news sources appearing in only 259 subreddits or less (0.9804917612908733%)\n",
      "There are 22972 news sources appearing in only 260 subreddits or less (0.9806198241270383%)\n",
      "There are 22975 news sources appearing in only 261 subreddits or less (0.9807478869632033%)\n",
      "There are 22976 news sources appearing in only 262 subreddits or less (0.9807905745752583%)\n",
      "There are 22976 news sources appearing in only 263 subreddits or less (0.9807905745752583%)\n",
      "There are 22978 news sources appearing in only 264 subreddits or less (0.9808759497993682%)\n",
      "There are 22978 news sources appearing in only 265 subreddits or less (0.9808759497993682%)\n",
      "There are 22979 news sources appearing in only 266 subreddits or less (0.9809186374114232%)\n",
      "There are 22980 news sources appearing in only 267 subreddits or less (0.9809613250234782%)\n",
      "There are 22981 news sources appearing in only 268 subreddits or less (0.9810040126355332%)\n",
      "There are 22983 news sources appearing in only 269 subreddits or less (0.9810893878596432%)\n",
      "There are 22985 news sources appearing in only 270 subreddits or less (0.9811747630837531%)\n",
      "There are 22987 news sources appearing in only 271 subreddits or less (0.9812601383078631%)\n",
      "There are 22989 news sources appearing in only 272 subreddits or less (0.981345513531973%)\n",
      "There are 22991 news sources appearing in only 273 subreddits or less (0.981430888756083%)\n",
      "There are 22993 news sources appearing in only 274 subreddits or less (0.981516263980193%)\n",
      "There are 22993 news sources appearing in only 275 subreddits or less (0.981516263980193%)\n",
      "There are 22993 news sources appearing in only 276 subreddits or less (0.981516263980193%)\n",
      "There are 22996 news sources appearing in only 277 subreddits or less (0.9816443268163579%)\n",
      "There are 22997 news sources appearing in only 278 subreddits or less (0.9816870144284129%)\n",
      "There are 22998 news sources appearing in only 279 subreddits or less (0.9817297020404678%)\n",
      "There are 23001 news sources appearing in only 280 subreddits or less (0.9818577648766328%)\n",
      "There are 23002 news sources appearing in only 281 subreddits or less (0.9819004524886877%)\n",
      "There are 23004 news sources appearing in only 282 subreddits or less (0.9819858277127977%)\n",
      "There are 23006 news sources appearing in only 283 subreddits or less (0.9820712029369078%)\n",
      "There are 23010 news sources appearing in only 284 subreddits or less (0.9822419533851277%)\n",
      "There are 23014 news sources appearing in only 285 subreddits or less (0.9824127038333476%)\n",
      "There are 23016 news sources appearing in only 286 subreddits or less (0.9824980790574576%)\n",
      "There are 23018 news sources appearing in only 287 subreddits or less (0.9825834542815675%)\n",
      "There are 23019 news sources appearing in only 288 subreddits or less (0.9826261418936225%)\n",
      "There are 23019 news sources appearing in only 289 subreddits or less (0.9826261418936225%)\n",
      "There are 23021 news sources appearing in only 290 subreddits or less (0.9827115171177324%)\n",
      "There are 23023 news sources appearing in only 291 subreddits or less (0.9827968923418424%)\n",
      "There are 23024 news sources appearing in only 292 subreddits or less (0.9828395799538974%)\n",
      "There are 23028 news sources appearing in only 293 subreddits or less (0.9830103304021173%)\n",
      "There are 23030 news sources appearing in only 294 subreddits or less (0.9830957056262273%)\n",
      "There are 23031 news sources appearing in only 295 subreddits or less (0.9831383932382822%)\n",
      "There are 23032 news sources appearing in only 296 subreddits or less (0.9831810808503373%)\n",
      "There are 23032 news sources appearing in only 297 subreddits or less (0.9831810808503373%)\n",
      "There are 23033 news sources appearing in only 298 subreddits or less (0.9832237684623922%)\n",
      "There are 23035 news sources appearing in only 299 subreddits or less (0.9833091436865021%)\n",
      "There are 23036 news sources appearing in only 300 subreddits or less (0.9833518312985572%)\n"
     ]
    },
    {
     "name": "stdout",
     "output_type": "stream",
     "text": [
      "There are 23040 news sources appearing in only 301 subreddits or less (0.9835225817467771%)\n",
      "There are 23040 news sources appearing in only 302 subreddits or less (0.9835225817467771%)\n",
      "There are 23041 news sources appearing in only 303 subreddits or less (0.983565269358832%)\n",
      "There are 23041 news sources appearing in only 304 subreddits or less (0.983565269358832%)\n",
      "There are 23041 news sources appearing in only 305 subreddits or less (0.983565269358832%)\n",
      "There are 23043 news sources appearing in only 306 subreddits or less (0.983650644582942%)\n",
      "There are 23044 news sources appearing in only 307 subreddits or less (0.983693332194997%)\n",
      "There are 23045 news sources appearing in only 308 subreddits or less (0.9837360198070519%)\n",
      "There are 23047 news sources appearing in only 309 subreddits or less (0.983821395031162%)\n",
      "There are 23047 news sources appearing in only 310 subreddits or less (0.983821395031162%)\n",
      "There are 23048 news sources appearing in only 311 subreddits or less (0.9838640826432169%)\n",
      "There are 23049 news sources appearing in only 312 subreddits or less (0.983906770255272%)\n",
      "There are 23051 news sources appearing in only 313 subreddits or less (0.9839921454793819%)\n",
      "There are 23053 news sources appearing in only 314 subreddits or less (0.9840775207034919%)\n",
      "There are 23054 news sources appearing in only 315 subreddits or less (0.9841202083155468%)\n",
      "There are 23056 news sources appearing in only 316 subreddits or less (0.9842055835396568%)\n",
      "There are 23057 news sources appearing in only 317 subreddits or less (0.9842482711517118%)\n",
      "There are 23058 news sources appearing in only 318 subreddits or less (0.9842909587637667%)\n",
      "There are 23059 news sources appearing in only 319 subreddits or less (0.9843336463758218%)\n",
      "There are 23062 news sources appearing in only 320 subreddits or less (0.9844617092119867%)\n",
      "There are 23062 news sources appearing in only 321 subreddits or less (0.9844617092119867%)\n",
      "There are 23063 news sources appearing in only 322 subreddits or less (0.9845043968240417%)\n",
      "There are 23064 news sources appearing in only 323 subreddits or less (0.9845470844360966%)\n",
      "There are 23066 news sources appearing in only 324 subreddits or less (0.9846324596602066%)\n",
      "There are 23066 news sources appearing in only 325 subreddits or less (0.9846324596602066%)\n",
      "There are 23066 news sources appearing in only 326 subreddits or less (0.9846324596602066%)\n",
      "There are 23066 news sources appearing in only 327 subreddits or less (0.9846324596602066%)\n",
      "There are 23066 news sources appearing in only 328 subreddits or less (0.9846324596602066%)\n",
      "There are 23067 news sources appearing in only 329 subreddits or less (0.9846751472722616%)\n",
      "There are 23068 news sources appearing in only 330 subreddits or less (0.9847178348843165%)\n",
      "There are 23068 news sources appearing in only 331 subreddits or less (0.9847178348843165%)\n",
      "There are 23069 news sources appearing in only 332 subreddits or less (0.9847605224963716%)\n",
      "There are 23072 news sources appearing in only 333 subreddits or less (0.9848885853325365%)\n",
      "There are 23073 news sources appearing in only 334 subreddits or less (0.9849312729445915%)\n",
      "There are 23075 news sources appearing in only 335 subreddits or less (0.9850166481687015%)\n",
      "There are 23078 news sources appearing in only 336 subreddits or less (0.9851447110048663%)\n",
      "There are 23080 news sources appearing in only 337 subreddits or less (0.9852300862289763%)\n",
      "There are 23082 news sources appearing in only 338 subreddits or less (0.9853154614530863%)\n",
      "There are 23086 news sources appearing in only 339 subreddits or less (0.9854862119013063%)\n",
      "There are 23087 news sources appearing in only 340 subreddits or less (0.9855288995133612%)\n",
      "There are 23088 news sources appearing in only 341 subreddits or less (0.9855715871254163%)\n",
      "There are 23089 news sources appearing in only 342 subreddits or less (0.9856142747374712%)\n",
      "There are 23091 news sources appearing in only 343 subreddits or less (0.9856996499615811%)\n",
      "There are 23091 news sources appearing in only 344 subreddits or less (0.9856996499615811%)\n",
      "There are 23093 news sources appearing in only 345 subreddits or less (0.9857850251856911%)\n",
      "There are 23094 news sources appearing in only 346 subreddits or less (0.9858277127977461%)\n",
      "There are 23096 news sources appearing in only 347 subreddits or less (0.9859130880218561%)\n",
      "There are 23098 news sources appearing in only 348 subreddits or less (0.9859984632459661%)\n",
      "There are 23100 news sources appearing in only 349 subreddits or less (0.986083838470076%)\n",
      "There are 23102 news sources appearing in only 350 subreddits or less (0.986169213694186%)\n",
      "There are 23103 news sources appearing in only 351 subreddits or less (0.9862119013062409%)\n",
      "There are 23103 news sources appearing in only 352 subreddits or less (0.9862119013062409%)\n",
      "There are 23104 news sources appearing in only 353 subreddits or less (0.9862545889182959%)\n",
      "There are 23105 news sources appearing in only 354 subreddits or less (0.9862972765303509%)\n",
      "There are 23107 news sources appearing in only 355 subreddits or less (0.9863826517544608%)\n",
      "There are 23107 news sources appearing in only 356 subreddits or less (0.9863826517544608%)\n",
      "There are 23109 news sources appearing in only 357 subreddits or less (0.9864680269785708%)\n",
      "There are 23109 news sources appearing in only 358 subreddits or less (0.9864680269785708%)\n",
      "There are 23109 news sources appearing in only 359 subreddits or less (0.9864680269785708%)\n",
      "There are 23109 news sources appearing in only 360 subreddits or less (0.9864680269785708%)\n",
      "There are 23110 news sources appearing in only 361 subreddits or less (0.9865107145906258%)\n",
      "There are 23110 news sources appearing in only 362 subreddits or less (0.9865107145906258%)\n",
      "There are 23112 news sources appearing in only 363 subreddits or less (0.9865960898147358%)\n",
      "There are 23112 news sources appearing in only 364 subreddits or less (0.9865960898147358%)\n",
      "There are 23114 news sources appearing in only 365 subreddits or less (0.9866814650388457%)\n",
      "There are 23114 news sources appearing in only 366 subreddits or less (0.9866814650388457%)\n",
      "There are 23115 news sources appearing in only 367 subreddits or less (0.9867241526509007%)\n",
      "There are 23118 news sources appearing in only 368 subreddits or less (0.9868522154870657%)\n",
      "There are 23120 news sources appearing in only 369 subreddits or less (0.9869375907111756%)\n",
      "There are 23121 news sources appearing in only 370 subreddits or less (0.9869802783232307%)\n",
      "There are 23122 news sources appearing in only 371 subreddits or less (0.9870229659352856%)\n",
      "There are 23122 news sources appearing in only 372 subreddits or less (0.9870229659352856%)\n",
      "There are 23122 news sources appearing in only 373 subreddits or less (0.9870229659352856%)\n",
      "There are 23123 news sources appearing in only 374 subreddits or less (0.9870656535473405%)\n",
      "There are 23124 news sources appearing in only 375 subreddits or less (0.9871083411593955%)\n",
      "There are 23124 news sources appearing in only 376 subreddits or less (0.9871083411593955%)\n",
      "There are 23124 news sources appearing in only 377 subreddits or less (0.9871083411593955%)\n",
      "There are 23124 news sources appearing in only 378 subreddits or less (0.9871083411593955%)\n",
      "There are 23124 news sources appearing in only 379 subreddits or less (0.9871083411593955%)\n",
      "There are 23124 news sources appearing in only 380 subreddits or less (0.9871083411593955%)\n",
      "There are 23125 news sources appearing in only 381 subreddits or less (0.9871510287714506%)\n",
      "There are 23128 news sources appearing in only 382 subreddits or less (0.9872790916076155%)\n",
      "There are 23128 news sources appearing in only 383 subreddits or less (0.9872790916076155%)\n",
      "There are 23128 news sources appearing in only 384 subreddits or less (0.9872790916076155%)\n",
      "There are 23128 news sources appearing in only 385 subreddits or less (0.9872790916076155%)\n",
      "There are 23130 news sources appearing in only 386 subreddits or less (0.9873644668317254%)\n",
      "There are 23130 news sources appearing in only 387 subreddits or less (0.9873644668317254%)\n",
      "There are 23130 news sources appearing in only 388 subreddits or less (0.9873644668317254%)\n",
      "There are 23130 news sources appearing in only 389 subreddits or less (0.9873644668317254%)\n",
      "There are 23131 news sources appearing in only 390 subreddits or less (0.9874071544437805%)\n",
      "There are 23131 news sources appearing in only 391 subreddits or less (0.9874071544437805%)\n",
      "There are 23132 news sources appearing in only 392 subreddits or less (0.9874498420558354%)\n",
      "There are 23133 news sources appearing in only 393 subreddits or less (0.9874925296678904%)\n",
      "There are 23134 news sources appearing in only 394 subreddits or less (0.9875352172799453%)\n",
      "There are 23136 news sources appearing in only 395 subreddits or less (0.9876205925040553%)\n",
      "There are 23137 news sources appearing in only 396 subreddits or less (0.9876632801161103%)\n",
      "There are 23137 news sources appearing in only 397 subreddits or less (0.9876632801161103%)\n",
      "There are 23137 news sources appearing in only 398 subreddits or less (0.9876632801161103%)\n",
      "There are 23138 news sources appearing in only 399 subreddits or less (0.9877059677281653%)\n",
      "There are 23139 news sources appearing in only 400 subreddits or less (0.9877486553402203%)\n",
      "There are 23139 news sources appearing in only 401 subreddits or less (0.9877486553402203%)\n",
      "There are 23141 news sources appearing in only 402 subreddits or less (0.9878340305643303%)\n",
      "There are 23141 news sources appearing in only 403 subreddits or less (0.9878340305643303%)\n",
      "There are 23143 news sources appearing in only 404 subreddits or less (0.9879194057884402%)\n",
      "There are 23145 news sources appearing in only 405 subreddits or less (0.9880047810125502%)\n",
      "There are 23145 news sources appearing in only 406 subreddits or less (0.9880047810125502%)\n",
      "There are 23146 news sources appearing in only 407 subreddits or less (0.9880474686246051%)\n",
      "There are 23146 news sources appearing in only 408 subreddits or less (0.9880474686246051%)\n"
     ]
    },
    {
     "name": "stdout",
     "output_type": "stream",
     "text": [
      "There are 23147 news sources appearing in only 409 subreddits or less (0.9880901562366601%)\n",
      "There are 23148 news sources appearing in only 410 subreddits or less (0.9881328438487151%)\n",
      "There are 23149 news sources appearing in only 411 subreddits or less (0.9881755314607701%)\n",
      "There are 23149 news sources appearing in only 412 subreddits or less (0.9881755314607701%)\n",
      "There are 23149 news sources appearing in only 413 subreddits or less (0.9881755314607701%)\n",
      "There are 23152 news sources appearing in only 414 subreddits or less (0.988303594296935%)\n",
      "There are 23154 news sources appearing in only 415 subreddits or less (0.988388969521045%)\n",
      "There are 23154 news sources appearing in only 416 subreddits or less (0.988388969521045%)\n",
      "There are 23154 news sources appearing in only 417 subreddits or less (0.988388969521045%)\n",
      "There are 23155 news sources appearing in only 418 subreddits or less (0.9884316571331%)\n",
      "There are 23156 news sources appearing in only 419 subreddits or less (0.9884743447451549%)\n",
      "There are 23158 news sources appearing in only 420 subreddits or less (0.988559719969265%)\n",
      "There are 23159 news sources appearing in only 421 subreddits or less (0.9886024075813199%)\n",
      "There are 23159 news sources appearing in only 422 subreddits or less (0.9886024075813199%)\n",
      "There are 23161 news sources appearing in only 423 subreddits or less (0.9886877828054299%)\n",
      "There are 23161 news sources appearing in only 424 subreddits or less (0.9886877828054299%)\n",
      "There are 23161 news sources appearing in only 425 subreddits or less (0.9886877828054299%)\n",
      "There are 23163 news sources appearing in only 426 subreddits or less (0.9887731580295398%)\n",
      "There are 23163 news sources appearing in only 427 subreddits or less (0.9887731580295398%)\n",
      "There are 23165 news sources appearing in only 428 subreddits or less (0.9888585332536498%)\n",
      "There are 23167 news sources appearing in only 429 subreddits or less (0.9889439084777597%)\n",
      "There are 23168 news sources appearing in only 430 subreddits or less (0.9889865960898148%)\n",
      "There are 23171 news sources appearing in only 431 subreddits or less (0.9891146589259797%)\n",
      "There are 23171 news sources appearing in only 432 subreddits or less (0.9891146589259797%)\n",
      "There are 23172 news sources appearing in only 433 subreddits or less (0.9891573465380347%)\n",
      "There are 23172 news sources appearing in only 434 subreddits or less (0.9891573465380347%)\n",
      "There are 23173 news sources appearing in only 435 subreddits or less (0.9892000341500896%)\n",
      "There are 23173 news sources appearing in only 436 subreddits or less (0.9892000341500896%)\n",
      "There are 23174 news sources appearing in only 437 subreddits or less (0.9892427217621447%)\n",
      "There are 23174 news sources appearing in only 438 subreddits or less (0.9892427217621447%)\n",
      "There are 23175 news sources appearing in only 439 subreddits or less (0.9892854093741996%)\n",
      "There are 23176 news sources appearing in only 440 subreddits or less (0.9893280969862546%)\n",
      "There are 23176 news sources appearing in only 441 subreddits or less (0.9893280969862546%)\n",
      "There are 23178 news sources appearing in only 442 subreddits or less (0.9894134722103646%)\n",
      "There are 23178 news sources appearing in only 443 subreddits or less (0.9894134722103646%)\n",
      "There are 23180 news sources appearing in only 444 subreddits or less (0.9894988474344745%)\n",
      "There are 23180 news sources appearing in only 445 subreddits or less (0.9894988474344745%)\n",
      "There are 23181 news sources appearing in only 446 subreddits or less (0.9895415350465295%)\n",
      "There are 23181 news sources appearing in only 447 subreddits or less (0.9895415350465295%)\n",
      "There are 23182 news sources appearing in only 448 subreddits or less (0.9895842226585845%)\n",
      "There are 23182 news sources appearing in only 449 subreddits or less (0.9895842226585845%)\n",
      "There are 23183 news sources appearing in only 450 subreddits or less (0.9896269102706394%)\n",
      "There are 23183 news sources appearing in only 451 subreddits or less (0.9896269102706394%)\n",
      "There are 23183 news sources appearing in only 452 subreddits or less (0.9896269102706394%)\n",
      "There are 23185 news sources appearing in only 453 subreddits or less (0.9897122854947494%)\n",
      "There are 23186 news sources appearing in only 454 subreddits or less (0.9897549731068044%)\n",
      "There are 23187 news sources appearing in only 455 subreddits or less (0.9897976607188594%)\n",
      "There are 23187 news sources appearing in only 456 subreddits or less (0.9897976607188594%)\n",
      "There are 23187 news sources appearing in only 457 subreddits or less (0.9897976607188594%)\n",
      "There are 23189 news sources appearing in only 458 subreddits or less (0.9898830359429693%)\n",
      "There are 23192 news sources appearing in only 459 subreddits or less (0.9900110987791343%)\n",
      "There are 23192 news sources appearing in only 460 subreddits or less (0.9900110987791343%)\n",
      "There are 23194 news sources appearing in only 461 subreddits or less (0.9900964740032443%)\n",
      "There are 23195 news sources appearing in only 462 subreddits or less (0.9901391616152992%)\n",
      "There are 23195 news sources appearing in only 463 subreddits or less (0.9901391616152992%)\n",
      "There are 23195 news sources appearing in only 464 subreddits or less (0.9901391616152992%)\n",
      "There are 23195 news sources appearing in only 465 subreddits or less (0.9901391616152992%)\n",
      "There are 23195 news sources appearing in only 466 subreddits or less (0.9901391616152992%)\n",
      "There are 23200 news sources appearing in only 467 subreddits or less (0.9903525996755741%)\n",
      "There are 23201 news sources appearing in only 468 subreddits or less (0.9903952872876292%)\n",
      "There are 23201 news sources appearing in only 469 subreddits or less (0.9903952872876292%)\n",
      "There are 23201 news sources appearing in only 470 subreddits or less (0.9903952872876292%)\n",
      "There are 23201 news sources appearing in only 471 subreddits or less (0.9903952872876292%)\n",
      "There are 23203 news sources appearing in only 472 subreddits or less (0.990480662511739%)\n",
      "There are 23203 news sources appearing in only 473 subreddits or less (0.990480662511739%)\n",
      "There are 23203 news sources appearing in only 474 subreddits or less (0.990480662511739%)\n",
      "There are 23203 news sources appearing in only 475 subreddits or less (0.990480662511739%)\n",
      "There are 23204 news sources appearing in only 476 subreddits or less (0.9905233501237941%)\n",
      "There are 23205 news sources appearing in only 477 subreddits or less (0.9905660377358491%)\n",
      "There are 23205 news sources appearing in only 478 subreddits or less (0.9905660377358491%)\n",
      "There are 23209 news sources appearing in only 479 subreddits or less (0.990736788184069%)\n",
      "There are 23209 news sources appearing in only 480 subreddits or less (0.990736788184069%)\n",
      "There are 23209 news sources appearing in only 481 subreddits or less (0.990736788184069%)\n",
      "There are 23209 news sources appearing in only 482 subreddits or less (0.990736788184069%)\n",
      "There are 23209 news sources appearing in only 483 subreddits or less (0.990736788184069%)\n",
      "There are 23209 news sources appearing in only 484 subreddits or less (0.990736788184069%)\n",
      "There are 23209 news sources appearing in only 485 subreddits or less (0.990736788184069%)\n",
      "There are 23209 news sources appearing in only 486 subreddits or less (0.990736788184069%)\n",
      "There are 23209 news sources appearing in only 487 subreddits or less (0.990736788184069%)\n",
      "There are 23209 news sources appearing in only 488 subreddits or less (0.990736788184069%)\n",
      "There are 23209 news sources appearing in only 489 subreddits or less (0.990736788184069%)\n",
      "There are 23209 news sources appearing in only 490 subreddits or less (0.990736788184069%)\n",
      "There are 23209 news sources appearing in only 491 subreddits or less (0.990736788184069%)\n",
      "There are 23209 news sources appearing in only 492 subreddits or less (0.990736788184069%)\n",
      "There are 23209 news sources appearing in only 493 subreddits or less (0.990736788184069%)\n",
      "There are 23209 news sources appearing in only 494 subreddits or less (0.990736788184069%)\n",
      "There are 23209 news sources appearing in only 495 subreddits or less (0.990736788184069%)\n",
      "There are 23210 news sources appearing in only 496 subreddits or less (0.9907794757961239%)\n",
      "There are 23211 news sources appearing in only 497 subreddits or less (0.990822163408179%)\n",
      "There are 23212 news sources appearing in only 498 subreddits or less (0.9908648510202339%)\n",
      "There are 23213 news sources appearing in only 499 subreddits or less (0.9909075386322889%)\n",
      "There are 23214 news sources appearing in only 500 subreddits or less (0.9909502262443439%)\n",
      "There are 23214 news sources appearing in only 501 subreddits or less (0.9909502262443439%)\n",
      "There are 23214 news sources appearing in only 502 subreddits or less (0.9909502262443439%)\n",
      "There are 23215 news sources appearing in only 503 subreddits or less (0.9909929138563989%)\n",
      "There are 23216 news sources appearing in only 504 subreddits or less (0.9910356014684538%)\n",
      "There are 23217 news sources appearing in only 505 subreddits or less (0.9910782890805089%)\n",
      "There are 23218 news sources appearing in only 506 subreddits or less (0.9911209766925638%)\n",
      "There are 23218 news sources appearing in only 507 subreddits or less (0.9911209766925638%)\n",
      "There are 23218 news sources appearing in only 508 subreddits or less (0.9911209766925638%)\n",
      "There are 23218 news sources appearing in only 509 subreddits or less (0.9911209766925638%)\n",
      "There are 23218 news sources appearing in only 510 subreddits or less (0.9911209766925638%)\n",
      "There are 23218 news sources appearing in only 511 subreddits or less (0.9911209766925638%)\n"
     ]
    },
    {
     "name": "stdout",
     "output_type": "stream",
     "text": [
      "There are 23219 news sources appearing in only 512 subreddits or less (0.9911636643046188%)\n",
      "There are 23221 news sources appearing in only 513 subreddits or less (0.9912490395287288%)\n",
      "There are 23222 news sources appearing in only 514 subreddits or less (0.9912917271407837%)\n",
      "There are 23222 news sources appearing in only 515 subreddits or less (0.9912917271407837%)\n",
      "There are 23222 news sources appearing in only 516 subreddits or less (0.9912917271407837%)\n",
      "There are 23222 news sources appearing in only 517 subreddits or less (0.9912917271407837%)\n",
      "There are 23222 news sources appearing in only 518 subreddits or less (0.9912917271407837%)\n",
      "There are 23222 news sources appearing in only 519 subreddits or less (0.9912917271407837%)\n",
      "There are 23222 news sources appearing in only 520 subreddits or less (0.9912917271407837%)\n",
      "There are 23225 news sources appearing in only 521 subreddits or less (0.9914197899769487%)\n",
      "There are 23225 news sources appearing in only 522 subreddits or less (0.9914197899769487%)\n",
      "There are 23225 news sources appearing in only 523 subreddits or less (0.9914197899769487%)\n",
      "There are 23227 news sources appearing in only 524 subreddits or less (0.9915051652010587%)\n",
      "There are 23227 news sources appearing in only 525 subreddits or less (0.9915051652010587%)\n",
      "There are 23229 news sources appearing in only 526 subreddits or less (0.9915905404251686%)\n",
      "There are 23231 news sources appearing in only 527 subreddits or less (0.9916759156492786%)\n",
      "There are 23232 news sources appearing in only 528 subreddits or less (0.9917186032613335%)\n",
      "There are 23233 news sources appearing in only 529 subreddits or less (0.9917612908733885%)\n",
      "There are 23236 news sources appearing in only 530 subreddits or less (0.9918893537095534%)\n",
      "There are 23236 news sources appearing in only 531 subreddits or less (0.9918893537095534%)\n",
      "There are 23237 news sources appearing in only 532 subreddits or less (0.9919320413216085%)\n",
      "There are 23238 news sources appearing in only 533 subreddits or less (0.9919747289336635%)\n",
      "There are 23238 news sources appearing in only 534 subreddits or less (0.9919747289336635%)\n",
      "There are 23238 news sources appearing in only 535 subreddits or less (0.9919747289336635%)\n",
      "There are 23238 news sources appearing in only 536 subreddits or less (0.9919747289336635%)\n",
      "There are 23238 news sources appearing in only 537 subreddits or less (0.9919747289336635%)\n",
      "There are 23238 news sources appearing in only 538 subreddits or less (0.9919747289336635%)\n",
      "There are 23239 news sources appearing in only 539 subreddits or less (0.9920174165457184%)\n",
      "There are 23240 news sources appearing in only 540 subreddits or less (0.9920601041577735%)\n",
      "There are 23240 news sources appearing in only 541 subreddits or less (0.9920601041577735%)\n",
      "There are 23240 news sources appearing in only 542 subreddits or less (0.9920601041577735%)\n",
      "There are 23241 news sources appearing in only 543 subreddits or less (0.9921027917698284%)\n",
      "There are 23241 news sources appearing in only 544 subreddits or less (0.9921027917698284%)\n",
      "There are 23241 news sources appearing in only 545 subreddits or less (0.9921027917698284%)\n",
      "There are 23242 news sources appearing in only 546 subreddits or less (0.9921454793818834%)\n",
      "There are 23242 news sources appearing in only 547 subreddits or less (0.9921454793818834%)\n",
      "There are 23242 news sources appearing in only 548 subreddits or less (0.9921454793818834%)\n",
      "There are 23242 news sources appearing in only 549 subreddits or less (0.9921454793818834%)\n",
      "There are 23242 news sources appearing in only 550 subreddits or less (0.9921454793818834%)\n",
      "There are 23242 news sources appearing in only 551 subreddits or less (0.9921454793818834%)\n",
      "There are 23242 news sources appearing in only 552 subreddits or less (0.9921454793818834%)\n",
      "There are 23242 news sources appearing in only 553 subreddits or less (0.9921454793818834%)\n",
      "There are 23242 news sources appearing in only 554 subreddits or less (0.9921454793818834%)\n",
      "There are 23242 news sources appearing in only 555 subreddits or less (0.9921454793818834%)\n",
      "There are 23242 news sources appearing in only 556 subreddits or less (0.9921454793818834%)\n",
      "There are 23242 news sources appearing in only 557 subreddits or less (0.9921454793818834%)\n",
      "There are 23242 news sources appearing in only 558 subreddits or less (0.9921454793818834%)\n",
      "There are 23243 news sources appearing in only 559 subreddits or less (0.9921881669939384%)\n",
      "There are 23243 news sources appearing in only 560 subreddits or less (0.9921881669939384%)\n",
      "There are 23243 news sources appearing in only 561 subreddits or less (0.9921881669939384%)\n",
      "There are 23244 news sources appearing in only 562 subreddits or less (0.9922308546059934%)\n",
      "There are 23245 news sources appearing in only 563 subreddits or less (0.9922735422180483%)\n",
      "There are 23246 news sources appearing in only 564 subreddits or less (0.9923162298301033%)\n",
      "There are 23246 news sources appearing in only 565 subreddits or less (0.9923162298301033%)\n",
      "There are 23247 news sources appearing in only 566 subreddits or less (0.9923589174421583%)\n",
      "There are 23248 news sources appearing in only 567 subreddits or less (0.9924016050542133%)\n",
      "There are 23248 news sources appearing in only 568 subreddits or less (0.9924016050542133%)\n",
      "There are 23248 news sources appearing in only 569 subreddits or less (0.9924016050542133%)\n",
      "There are 23249 news sources appearing in only 570 subreddits or less (0.9924442926662682%)\n",
      "There are 23250 news sources appearing in only 571 subreddits or less (0.9924869802783233%)\n",
      "There are 23250 news sources appearing in only 572 subreddits or less (0.9924869802783233%)\n",
      "There are 23250 news sources appearing in only 573 subreddits or less (0.9924869802783233%)\n",
      "There are 23250 news sources appearing in only 574 subreddits or less (0.9924869802783233%)\n",
      "There are 23250 news sources appearing in only 575 subreddits or less (0.9924869802783233%)\n",
      "There are 23251 news sources appearing in only 576 subreddits or less (0.9925296678903782%)\n",
      "There are 23252 news sources appearing in only 577 subreddits or less (0.9925723555024332%)\n",
      "There are 23253 news sources appearing in only 578 subreddits or less (0.9926150431144882%)\n",
      "There are 23253 news sources appearing in only 579 subreddits or less (0.9926150431144882%)\n",
      "There are 23254 news sources appearing in only 580 subreddits or less (0.9926577307265432%)\n",
      "There are 23255 news sources appearing in only 581 subreddits or less (0.9927004183385981%)\n",
      "There are 23255 news sources appearing in only 582 subreddits or less (0.9927004183385981%)\n",
      "There are 23255 news sources appearing in only 583 subreddits or less (0.9927004183385981%)\n",
      "There are 23255 news sources appearing in only 584 subreddits or less (0.9927004183385981%)\n",
      "There are 23256 news sources appearing in only 585 subreddits or less (0.9927431059506531%)\n",
      "There are 23256 news sources appearing in only 586 subreddits or less (0.9927431059506531%)\n",
      "There are 23256 news sources appearing in only 587 subreddits or less (0.9927431059506531%)\n",
      "There are 23257 news sources appearing in only 588 subreddits or less (0.9927857935627081%)\n",
      "There are 23257 news sources appearing in only 589 subreddits or less (0.9927857935627081%)\n",
      "There are 23257 news sources appearing in only 590 subreddits or less (0.9927857935627081%)\n",
      "There are 23257 news sources appearing in only 591 subreddits or less (0.9927857935627081%)\n",
      "There are 23257 news sources appearing in only 592 subreddits or less (0.9927857935627081%)\n",
      "There are 23258 news sources appearing in only 593 subreddits or less (0.9928284811747631%)\n",
      "There are 23259 news sources appearing in only 594 subreddits or less (0.992871168786818%)\n",
      "There are 23260 news sources appearing in only 595 subreddits or less (0.9929138563988731%)\n",
      "There are 23260 news sources appearing in only 596 subreddits or less (0.9929138563988731%)\n",
      "There are 23261 news sources appearing in only 597 subreddits or less (0.992956544010928%)\n",
      "There are 23261 news sources appearing in only 598 subreddits or less (0.992956544010928%)\n",
      "There are 23263 news sources appearing in only 599 subreddits or less (0.993041919235038%)\n",
      "There are 23263 news sources appearing in only 600 subreddits or less (0.993041919235038%)\n",
      "There are 23263 news sources appearing in only 601 subreddits or less (0.993041919235038%)\n",
      "There are 23265 news sources appearing in only 602 subreddits or less (0.9931272944591479%)\n",
      "There are 23265 news sources appearing in only 603 subreddits or less (0.9931272944591479%)\n",
      "There are 23265 news sources appearing in only 604 subreddits or less (0.9931272944591479%)\n",
      "There are 23265 news sources appearing in only 605 subreddits or less (0.9931272944591479%)\n",
      "There are 23265 news sources appearing in only 606 subreddits or less (0.9931272944591479%)\n",
      "There are 23265 news sources appearing in only 607 subreddits or less (0.9931272944591479%)\n",
      "There are 23265 news sources appearing in only 608 subreddits or less (0.9931272944591479%)\n",
      "There are 23266 news sources appearing in only 609 subreddits or less (0.9931699820712029%)\n",
      "There are 23267 news sources appearing in only 610 subreddits or less (0.9932126696832579%)\n"
     ]
    },
    {
     "name": "stdout",
     "output_type": "stream",
     "text": [
      "There are 23268 news sources appearing in only 611 subreddits or less (0.9932553572953129%)\n",
      "There are 23268 news sources appearing in only 612 subreddits or less (0.9932553572953129%)\n",
      "There are 23268 news sources appearing in only 613 subreddits or less (0.9932553572953129%)\n",
      "There are 23269 news sources appearing in only 614 subreddits or less (0.9932980449073678%)\n",
      "There are 23269 news sources appearing in only 615 subreddits or less (0.9932980449073678%)\n",
      "There are 23270 news sources appearing in only 616 subreddits or less (0.9933407325194229%)\n",
      "There are 23272 news sources appearing in only 617 subreddits or less (0.9934261077435328%)\n",
      "There are 23273 news sources appearing in only 618 subreddits or less (0.9934687953555879%)\n",
      "There are 23273 news sources appearing in only 619 subreddits or less (0.9934687953555879%)\n",
      "There are 23273 news sources appearing in only 620 subreddits or less (0.9934687953555879%)\n",
      "There are 23273 news sources appearing in only 621 subreddits or less (0.9934687953555879%)\n",
      "There are 23273 news sources appearing in only 622 subreddits or less (0.9934687953555879%)\n",
      "There are 23273 news sources appearing in only 623 subreddits or less (0.9934687953555879%)\n",
      "There are 23273 news sources appearing in only 624 subreddits or less (0.9934687953555879%)\n",
      "There are 23273 news sources appearing in only 625 subreddits or less (0.9934687953555879%)\n",
      "There are 23273 news sources appearing in only 626 subreddits or less (0.9934687953555879%)\n",
      "There are 23273 news sources appearing in only 627 subreddits or less (0.9934687953555879%)\n",
      "There are 23273 news sources appearing in only 628 subreddits or less (0.9934687953555879%)\n",
      "There are 23274 news sources appearing in only 629 subreddits or less (0.9935114829676428%)\n",
      "There are 23274 news sources appearing in only 630 subreddits or less (0.9935114829676428%)\n",
      "There are 23274 news sources appearing in only 631 subreddits or less (0.9935114829676428%)\n",
      "There are 23275 news sources appearing in only 632 subreddits or less (0.9935541705796977%)\n",
      "There are 23275 news sources appearing in only 633 subreddits or less (0.9935541705796977%)\n",
      "There are 23275 news sources appearing in only 634 subreddits or less (0.9935541705796977%)\n",
      "There are 23276 news sources appearing in only 635 subreddits or less (0.9935968581917528%)\n",
      "There are 23276 news sources appearing in only 636 subreddits or less (0.9935968581917528%)\n",
      "There are 23276 news sources appearing in only 637 subreddits or less (0.9935968581917528%)\n",
      "There are 23276 news sources appearing in only 638 subreddits or less (0.9935968581917528%)\n",
      "There are 23276 news sources appearing in only 639 subreddits or less (0.9935968581917528%)\n",
      "There are 23277 news sources appearing in only 640 subreddits or less (0.9936395458038078%)\n",
      "There are 23277 news sources appearing in only 641 subreddits or less (0.9936395458038078%)\n",
      "There are 23278 news sources appearing in only 642 subreddits or less (0.9936822334158627%)\n",
      "There are 23279 news sources appearing in only 643 subreddits or less (0.9937249210279177%)\n",
      "There are 23279 news sources appearing in only 644 subreddits or less (0.9937249210279177%)\n",
      "There are 23279 news sources appearing in only 645 subreddits or less (0.9937249210279177%)\n",
      "There are 23280 news sources appearing in only 646 subreddits or less (0.9937676086399727%)\n",
      "There are 23281 news sources appearing in only 647 subreddits or less (0.9938102962520277%)\n",
      "There are 23281 news sources appearing in only 648 subreddits or less (0.9938102962520277%)\n",
      "There are 23281 news sources appearing in only 649 subreddits or less (0.9938102962520277%)\n",
      "There are 23281 news sources appearing in only 650 subreddits or less (0.9938102962520277%)\n",
      "There are 23281 news sources appearing in only 651 subreddits or less (0.9938102962520277%)\n",
      "There are 23281 news sources appearing in only 652 subreddits or less (0.9938102962520277%)\n",
      "There are 23283 news sources appearing in only 653 subreddits or less (0.9938956714761377%)\n",
      "There are 23283 news sources appearing in only 654 subreddits or less (0.9938956714761377%)\n",
      "There are 23283 news sources appearing in only 655 subreddits or less (0.9938956714761377%)\n",
      "There are 23283 news sources appearing in only 656 subreddits or less (0.9938956714761377%)\n",
      "There are 23283 news sources appearing in only 657 subreddits or less (0.9938956714761377%)\n",
      "There are 23283 news sources appearing in only 658 subreddits or less (0.9938956714761377%)\n",
      "There are 23284 news sources appearing in only 659 subreddits or less (0.9939383590881926%)\n",
      "There are 23285 news sources appearing in only 660 subreddits or less (0.9939810467002476%)\n",
      "There are 23285 news sources appearing in only 661 subreddits or less (0.9939810467002476%)\n",
      "There are 23285 news sources appearing in only 662 subreddits or less (0.9939810467002476%)\n",
      "There are 23285 news sources appearing in only 663 subreddits or less (0.9939810467002476%)\n",
      "There are 23285 news sources appearing in only 664 subreddits or less (0.9939810467002476%)\n",
      "There are 23285 news sources appearing in only 665 subreddits or less (0.9939810467002476%)\n",
      "There are 23285 news sources appearing in only 666 subreddits or less (0.9939810467002476%)\n",
      "There are 23285 news sources appearing in only 667 subreddits or less (0.9939810467002476%)\n",
      "There are 23285 news sources appearing in only 668 subreddits or less (0.9939810467002476%)\n",
      "There are 23285 news sources appearing in only 669 subreddits or less (0.9939810467002476%)\n",
      "There are 23285 news sources appearing in only 670 subreddits or less (0.9939810467002476%)\n",
      "There are 23286 news sources appearing in only 671 subreddits or less (0.9940237343123026%)\n",
      "There are 23286 news sources appearing in only 672 subreddits or less (0.9940237343123026%)\n",
      "There are 23287 news sources appearing in only 673 subreddits or less (0.9940664219243576%)\n",
      "There are 23287 news sources appearing in only 674 subreddits or less (0.9940664219243576%)\n",
      "There are 23287 news sources appearing in only 675 subreddits or less (0.9940664219243576%)\n",
      "There are 23287 news sources appearing in only 676 subreddits or less (0.9940664219243576%)\n",
      "There are 23288 news sources appearing in only 677 subreddits or less (0.9941091095364125%)\n",
      "There are 23288 news sources appearing in only 678 subreddits or less (0.9941091095364125%)\n",
      "There are 23288 news sources appearing in only 679 subreddits or less (0.9941091095364125%)\n",
      "There are 23288 news sources appearing in only 680 subreddits or less (0.9941091095364125%)\n",
      "There are 23289 news sources appearing in only 681 subreddits or less (0.9941517971484675%)\n",
      "There are 23290 news sources appearing in only 682 subreddits or less (0.9941944847605225%)\n",
      "There are 23290 news sources appearing in only 683 subreddits or less (0.9941944847605225%)\n",
      "There are 23290 news sources appearing in only 684 subreddits or less (0.9941944847605225%)\n",
      "There are 23290 news sources appearing in only 685 subreddits or less (0.9941944847605225%)\n",
      "There are 23292 news sources appearing in only 686 subreddits or less (0.9942798599846324%)\n",
      "There are 23292 news sources appearing in only 687 subreddits or less (0.9942798599846324%)\n",
      "There are 23293 news sources appearing in only 688 subreddits or less (0.9943225475966875%)\n",
      "There are 23294 news sources appearing in only 689 subreddits or less (0.9943652352087424%)\n",
      "There are 23294 news sources appearing in only 690 subreddits or less (0.9943652352087424%)\n",
      "There are 23294 news sources appearing in only 691 subreddits or less (0.9943652352087424%)\n",
      "There are 23294 news sources appearing in only 692 subreddits or less (0.9943652352087424%)\n",
      "There are 23294 news sources appearing in only 693 subreddits or less (0.9943652352087424%)\n",
      "There are 23294 news sources appearing in only 694 subreddits or less (0.9943652352087424%)\n",
      "There are 23294 news sources appearing in only 695 subreddits or less (0.9943652352087424%)\n",
      "There are 23294 news sources appearing in only 696 subreddits or less (0.9943652352087424%)\n",
      "There are 23294 news sources appearing in only 697 subreddits or less (0.9943652352087424%)\n",
      "There are 23294 news sources appearing in only 698 subreddits or less (0.9943652352087424%)\n",
      "There are 23295 news sources appearing in only 699 subreddits or less (0.9944079228207974%)\n",
      "There are 23295 news sources appearing in only 700 subreddits or less (0.9944079228207974%)\n",
      "There are 23295 news sources appearing in only 701 subreddits or less (0.9944079228207974%)\n",
      "There are 23295 news sources appearing in only 702 subreddits or less (0.9944079228207974%)\n",
      "There are 23296 news sources appearing in only 703 subreddits or less (0.9944506104328524%)\n",
      "There are 23296 news sources appearing in only 704 subreddits or less (0.9944506104328524%)\n",
      "There are 23296 news sources appearing in only 705 subreddits or less (0.9944506104328524%)\n",
      "There are 23296 news sources appearing in only 706 subreddits or less (0.9944506104328524%)\n",
      "There are 23296 news sources appearing in only 707 subreddits or less (0.9944506104328524%)\n",
      "There are 23296 news sources appearing in only 708 subreddits or less (0.9944506104328524%)\n",
      "There are 23296 news sources appearing in only 709 subreddits or less (0.9944506104328524%)\n",
      "There are 23296 news sources appearing in only 710 subreddits or less (0.9944506104328524%)\n",
      "There are 23296 news sources appearing in only 711 subreddits or less (0.9944506104328524%)\n",
      "There are 23296 news sources appearing in only 712 subreddits or less (0.9944506104328524%)\n",
      "There are 23296 news sources appearing in only 713 subreddits or less (0.9944506104328524%)\n",
      "There are 23297 news sources appearing in only 714 subreddits or less (0.9944932980449074%)\n",
      "There are 23297 news sources appearing in only 715 subreddits or less (0.9944932980449074%)\n"
     ]
    },
    {
     "name": "stdout",
     "output_type": "stream",
     "text": [
      "There are 23297 news sources appearing in only 716 subreddits or less (0.9944932980449074%)\n",
      "There are 23297 news sources appearing in only 717 subreddits or less (0.9944932980449074%)\n",
      "There are 23297 news sources appearing in only 718 subreddits or less (0.9944932980449074%)\n",
      "There are 23297 news sources appearing in only 719 subreddits or less (0.9944932980449074%)\n",
      "There are 23297 news sources appearing in only 720 subreddits or less (0.9944932980449074%)\n",
      "There are 23297 news sources appearing in only 721 subreddits or less (0.9944932980449074%)\n",
      "There are 23298 news sources appearing in only 722 subreddits or less (0.9945359856569623%)\n",
      "There are 23298 news sources appearing in only 723 subreddits or less (0.9945359856569623%)\n",
      "There are 23299 news sources appearing in only 724 subreddits or less (0.9945786732690173%)\n",
      "There are 23299 news sources appearing in only 725 subreddits or less (0.9945786732690173%)\n",
      "There are 23300 news sources appearing in only 726 subreddits or less (0.9946213608810723%)\n",
      "There are 23300 news sources appearing in only 727 subreddits or less (0.9946213608810723%)\n",
      "There are 23300 news sources appearing in only 728 subreddits or less (0.9946213608810723%)\n",
      "There are 23301 news sources appearing in only 729 subreddits or less (0.9946640484931273%)\n",
      "There are 23301 news sources appearing in only 730 subreddits or less (0.9946640484931273%)\n",
      "There are 23301 news sources appearing in only 731 subreddits or less (0.9946640484931273%)\n",
      "There are 23302 news sources appearing in only 732 subreddits or less (0.9947067361051822%)\n",
      "There are 23302 news sources appearing in only 733 subreddits or less (0.9947067361051822%)\n",
      "There are 23303 news sources appearing in only 734 subreddits or less (0.9947494237172373%)\n",
      "There are 23303 news sources appearing in only 735 subreddits or less (0.9947494237172373%)\n",
      "There are 23303 news sources appearing in only 736 subreddits or less (0.9947494237172373%)\n",
      "There are 23303 news sources appearing in only 737 subreddits or less (0.9947494237172373%)\n",
      "There are 23303 news sources appearing in only 738 subreddits or less (0.9947494237172373%)\n",
      "There are 23303 news sources appearing in only 739 subreddits or less (0.9947494237172373%)\n",
      "There are 23303 news sources appearing in only 740 subreddits or less (0.9947494237172373%)\n",
      "There are 23304 news sources appearing in only 741 subreddits or less (0.9947921113292922%)\n",
      "There are 23304 news sources appearing in only 742 subreddits or less (0.9947921113292922%)\n",
      "There are 23304 news sources appearing in only 743 subreddits or less (0.9947921113292922%)\n",
      "There are 23304 news sources appearing in only 744 subreddits or less (0.9947921113292922%)\n",
      "There are 23305 news sources appearing in only 745 subreddits or less (0.9948347989413472%)\n",
      "There are 23305 news sources appearing in only 746 subreddits or less (0.9948347989413472%)\n",
      "There are 23306 news sources appearing in only 747 subreddits or less (0.9948774865534022%)\n",
      "There are 23306 news sources appearing in only 748 subreddits or less (0.9948774865534022%)\n",
      "There are 23307 news sources appearing in only 749 subreddits or less (0.9949201741654572%)\n",
      "There are 23307 news sources appearing in only 750 subreddits or less (0.9949201741654572%)\n",
      "There are 23307 news sources appearing in only 751 subreddits or less (0.9949201741654572%)\n",
      "There are 23308 news sources appearing in only 752 subreddits or less (0.9949628617775121%)\n",
      "There are 23308 news sources appearing in only 753 subreddits or less (0.9949628617775121%)\n",
      "There are 23308 news sources appearing in only 754 subreddits or less (0.9949628617775121%)\n",
      "There are 23308 news sources appearing in only 755 subreddits or less (0.9949628617775121%)\n",
      "There are 23308 news sources appearing in only 756 subreddits or less (0.9949628617775121%)\n",
      "There are 23308 news sources appearing in only 757 subreddits or less (0.9949628617775121%)\n",
      "There are 23309 news sources appearing in only 758 subreddits or less (0.9950055493895672%)\n",
      "There are 23309 news sources appearing in only 759 subreddits or less (0.9950055493895672%)\n",
      "There are 23309 news sources appearing in only 760 subreddits or less (0.9950055493895672%)\n",
      "There are 23309 news sources appearing in only 761 subreddits or less (0.9950055493895672%)\n",
      "There are 23309 news sources appearing in only 762 subreddits or less (0.9950055493895672%)\n",
      "There are 23309 news sources appearing in only 763 subreddits or less (0.9950055493895672%)\n",
      "There are 23309 news sources appearing in only 764 subreddits or less (0.9950055493895672%)\n",
      "There are 23309 news sources appearing in only 765 subreddits or less (0.9950055493895672%)\n",
      "There are 23309 news sources appearing in only 766 subreddits or less (0.9950055493895672%)\n",
      "There are 23310 news sources appearing in only 767 subreddits or less (0.9950482370016221%)\n",
      "There are 23310 news sources appearing in only 768 subreddits or less (0.9950482370016221%)\n",
      "There are 23310 news sources appearing in only 769 subreddits or less (0.9950482370016221%)\n",
      "There are 23310 news sources appearing in only 770 subreddits or less (0.9950482370016221%)\n",
      "There are 23310 news sources appearing in only 771 subreddits or less (0.9950482370016221%)\n",
      "There are 23310 news sources appearing in only 772 subreddits or less (0.9950482370016221%)\n",
      "There are 23310 news sources appearing in only 773 subreddits or less (0.9950482370016221%)\n",
      "There are 23310 news sources appearing in only 774 subreddits or less (0.9950482370016221%)\n",
      "There are 23310 news sources appearing in only 775 subreddits or less (0.9950482370016221%)\n",
      "There are 23310 news sources appearing in only 776 subreddits or less (0.9950482370016221%)\n",
      "There are 23311 news sources appearing in only 777 subreddits or less (0.9950909246136771%)\n",
      "There are 23311 news sources appearing in only 778 subreddits or less (0.9950909246136771%)\n",
      "There are 23311 news sources appearing in only 779 subreddits or less (0.9950909246136771%)\n",
      "There are 23311 news sources appearing in only 780 subreddits or less (0.9950909246136771%)\n",
      "There are 23313 news sources appearing in only 781 subreddits or less (0.9951762998377871%)\n",
      "There are 23313 news sources appearing in only 782 subreddits or less (0.9951762998377871%)\n",
      "There are 23313 news sources appearing in only 783 subreddits or less (0.9951762998377871%)\n",
      "There are 23313 news sources appearing in only 784 subreddits or less (0.9951762998377871%)\n",
      "There are 23313 news sources appearing in only 785 subreddits or less (0.9951762998377871%)\n",
      "There are 23314 news sources appearing in only 786 subreddits or less (0.995218987449842%)\n",
      "There are 23315 news sources appearing in only 787 subreddits or less (0.995261675061897%)\n",
      "There are 23317 news sources appearing in only 788 subreddits or less (0.995347050286007%)\n",
      "There are 23317 news sources appearing in only 789 subreddits or less (0.995347050286007%)\n",
      "There are 23319 news sources appearing in only 790 subreddits or less (0.995432425510117%)\n",
      "There are 23319 news sources appearing in only 791 subreddits or less (0.995432425510117%)\n",
      "There are 23319 news sources appearing in only 792 subreddits or less (0.995432425510117%)\n",
      "There are 23320 news sources appearing in only 793 subreddits or less (0.995475113122172%)\n",
      "There are 23320 news sources appearing in only 794 subreddits or less (0.995475113122172%)\n",
      "There are 23320 news sources appearing in only 795 subreddits or less (0.995475113122172%)\n",
      "There are 23320 news sources appearing in only 796 subreddits or less (0.995475113122172%)\n",
      "There are 23320 news sources appearing in only 797 subreddits or less (0.995475113122172%)\n",
      "There are 23320 news sources appearing in only 798 subreddits or less (0.995475113122172%)\n",
      "There are 23320 news sources appearing in only 799 subreddits or less (0.995475113122172%)\n",
      "There are 23320 news sources appearing in only 800 subreddits or less (0.995475113122172%)\n",
      "There are 23320 news sources appearing in only 801 subreddits or less (0.995475113122172%)\n",
      "There are 23320 news sources appearing in only 802 subreddits or less (0.995475113122172%)\n",
      "There are 23321 news sources appearing in only 803 subreddits or less (0.9955178007342269%)\n",
      "There are 23321 news sources appearing in only 804 subreddits or less (0.9955178007342269%)\n",
      "There are 23321 news sources appearing in only 805 subreddits or less (0.9955178007342269%)\n",
      "There are 23321 news sources appearing in only 806 subreddits or less (0.9955178007342269%)\n",
      "There are 23321 news sources appearing in only 807 subreddits or less (0.9955178007342269%)\n",
      "There are 23321 news sources appearing in only 808 subreddits or less (0.9955178007342269%)\n",
      "There are 23321 news sources appearing in only 809 subreddits or less (0.9955178007342269%)\n",
      "There are 23321 news sources appearing in only 810 subreddits or less (0.9955178007342269%)\n",
      "There are 23321 news sources appearing in only 811 subreddits or less (0.9955178007342269%)\n",
      "There are 23321 news sources appearing in only 812 subreddits or less (0.9955178007342269%)\n",
      "There are 23321 news sources appearing in only 813 subreddits or less (0.9955178007342269%)\n",
      "There are 23322 news sources appearing in only 814 subreddits or less (0.9955604883462819%)\n",
      "There are 23322 news sources appearing in only 815 subreddits or less (0.9955604883462819%)\n",
      "There are 23323 news sources appearing in only 816 subreddits or less (0.9956031759583369%)\n",
      "There are 23323 news sources appearing in only 817 subreddits or less (0.9956031759583369%)\n",
      "There are 23323 news sources appearing in only 818 subreddits or less (0.9956031759583369%)\n",
      "There are 23323 news sources appearing in only 819 subreddits or less (0.9956031759583369%)\n",
      "There are 23323 news sources appearing in only 820 subreddits or less (0.9956031759583369%)\n",
      "There are 23323 news sources appearing in only 821 subreddits or less (0.9956031759583369%)\n",
      "There are 23323 news sources appearing in only 822 subreddits or less (0.9956031759583369%)\n",
      "There are 23324 news sources appearing in only 823 subreddits or less (0.9956458635703919%)\n"
     ]
    },
    {
     "name": "stdout",
     "output_type": "stream",
     "text": [
      "There are 23324 news sources appearing in only 824 subreddits or less (0.9956458635703919%)\n",
      "There are 23325 news sources appearing in only 825 subreddits or less (0.9956885511824468%)\n",
      "There are 23325 news sources appearing in only 826 subreddits or less (0.9956885511824468%)\n",
      "There are 23325 news sources appearing in only 827 subreddits or less (0.9956885511824468%)\n",
      "There are 23325 news sources appearing in only 828 subreddits or less (0.9956885511824468%)\n",
      "There are 23326 news sources appearing in only 829 subreddits or less (0.9957312387945019%)\n",
      "There are 23326 news sources appearing in only 830 subreddits or less (0.9957312387945019%)\n",
      "There are 23326 news sources appearing in only 831 subreddits or less (0.9957312387945019%)\n",
      "There are 23326 news sources appearing in only 832 subreddits or less (0.9957312387945019%)\n",
      "There are 23326 news sources appearing in only 833 subreddits or less (0.9957312387945019%)\n",
      "There are 23326 news sources appearing in only 834 subreddits or less (0.9957312387945019%)\n",
      "There are 23326 news sources appearing in only 835 subreddits or less (0.9957312387945019%)\n",
      "There are 23326 news sources appearing in only 836 subreddits or less (0.9957312387945019%)\n",
      "There are 23327 news sources appearing in only 837 subreddits or less (0.9957739264065568%)\n",
      "There are 23327 news sources appearing in only 838 subreddits or less (0.9957739264065568%)\n",
      "There are 23327 news sources appearing in only 839 subreddits or less (0.9957739264065568%)\n",
      "There are 23327 news sources appearing in only 840 subreddits or less (0.9957739264065568%)\n",
      "There are 23327 news sources appearing in only 841 subreddits or less (0.9957739264065568%)\n",
      "There are 23327 news sources appearing in only 842 subreddits or less (0.9957739264065568%)\n",
      "There are 23327 news sources appearing in only 843 subreddits or less (0.9957739264065568%)\n",
      "There are 23327 news sources appearing in only 844 subreddits or less (0.9957739264065568%)\n",
      "There are 23327 news sources appearing in only 845 subreddits or less (0.9957739264065568%)\n",
      "There are 23327 news sources appearing in only 846 subreddits or less (0.9957739264065568%)\n",
      "There are 23328 news sources appearing in only 847 subreddits or less (0.9958166140186118%)\n",
      "There are 23328 news sources appearing in only 848 subreddits or less (0.9958166140186118%)\n",
      "There are 23328 news sources appearing in only 849 subreddits or less (0.9958166140186118%)\n",
      "There are 23328 news sources appearing in only 850 subreddits or less (0.9958166140186118%)\n",
      "There are 23328 news sources appearing in only 851 subreddits or less (0.9958166140186118%)\n",
      "There are 23328 news sources appearing in only 852 subreddits or less (0.9958166140186118%)\n",
      "There are 23329 news sources appearing in only 853 subreddits or less (0.9958593016306668%)\n",
      "There are 23329 news sources appearing in only 854 subreddits or less (0.9958593016306668%)\n",
      "There are 23329 news sources appearing in only 855 subreddits or less (0.9958593016306668%)\n",
      "There are 23329 news sources appearing in only 856 subreddits or less (0.9958593016306668%)\n",
      "There are 23329 news sources appearing in only 857 subreddits or less (0.9958593016306668%)\n",
      "There are 23330 news sources appearing in only 858 subreddits or less (0.9959019892427218%)\n",
      "There are 23330 news sources appearing in only 859 subreddits or less (0.9959019892427218%)\n",
      "There are 23330 news sources appearing in only 860 subreddits or less (0.9959019892427218%)\n",
      "There are 23330 news sources appearing in only 861 subreddits or less (0.9959019892427218%)\n",
      "There are 23330 news sources appearing in only 862 subreddits or less (0.9959019892427218%)\n",
      "There are 23330 news sources appearing in only 863 subreddits or less (0.9959019892427218%)\n",
      "There are 23331 news sources appearing in only 864 subreddits or less (0.9959446768547767%)\n",
      "There are 23332 news sources appearing in only 865 subreddits or less (0.9959873644668317%)\n",
      "There are 23332 news sources appearing in only 866 subreddits or less (0.9959873644668317%)\n",
      "There are 23332 news sources appearing in only 867 subreddits or less (0.9959873644668317%)\n",
      "There are 23332 news sources appearing in only 868 subreddits or less (0.9959873644668317%)\n",
      "There are 23332 news sources appearing in only 869 subreddits or less (0.9959873644668317%)\n",
      "There are 23332 news sources appearing in only 870 subreddits or less (0.9959873644668317%)\n",
      "There are 23332 news sources appearing in only 871 subreddits or less (0.9959873644668317%)\n",
      "There are 23332 news sources appearing in only 872 subreddits or less (0.9959873644668317%)\n",
      "There are 23333 news sources appearing in only 873 subreddits or less (0.9960300520788867%)\n",
      "There are 23333 news sources appearing in only 874 subreddits or less (0.9960300520788867%)\n",
      "There are 23333 news sources appearing in only 875 subreddits or less (0.9960300520788867%)\n",
      "There are 23333 news sources appearing in only 876 subreddits or less (0.9960300520788867%)\n",
      "There are 23333 news sources appearing in only 877 subreddits or less (0.9960300520788867%)\n",
      "There are 23333 news sources appearing in only 878 subreddits or less (0.9960300520788867%)\n",
      "There are 23333 news sources appearing in only 879 subreddits or less (0.9960300520788867%)\n",
      "There are 23334 news sources appearing in only 880 subreddits or less (0.9960727396909417%)\n",
      "There are 23334 news sources appearing in only 881 subreddits or less (0.9960727396909417%)\n",
      "There are 23334 news sources appearing in only 882 subreddits or less (0.9960727396909417%)\n",
      "There are 23334 news sources appearing in only 883 subreddits or less (0.9960727396909417%)\n",
      "There are 23335 news sources appearing in only 884 subreddits or less (0.9961154273029966%)\n",
      "There are 23335 news sources appearing in only 885 subreddits or less (0.9961154273029966%)\n",
      "There are 23335 news sources appearing in only 886 subreddits or less (0.9961154273029966%)\n",
      "There are 23335 news sources appearing in only 887 subreddits or less (0.9961154273029966%)\n",
      "There are 23335 news sources appearing in only 888 subreddits or less (0.9961154273029966%)\n",
      "There are 23335 news sources appearing in only 889 subreddits or less (0.9961154273029966%)\n",
      "There are 23335 news sources appearing in only 890 subreddits or less (0.9961154273029966%)\n",
      "There are 23335 news sources appearing in only 891 subreddits or less (0.9961154273029966%)\n",
      "There are 23335 news sources appearing in only 892 subreddits or less (0.9961154273029966%)\n",
      "There are 23335 news sources appearing in only 893 subreddits or less (0.9961154273029966%)\n",
      "There are 23335 news sources appearing in only 894 subreddits or less (0.9961154273029966%)\n",
      "There are 23335 news sources appearing in only 895 subreddits or less (0.9961154273029966%)\n",
      "There are 23337 news sources appearing in only 896 subreddits or less (0.9962008025271066%)\n",
      "There are 23338 news sources appearing in only 897 subreddits or less (0.9962434901391616%)\n",
      "There are 23338 news sources appearing in only 898 subreddits or less (0.9962434901391616%)\n",
      "There are 23338 news sources appearing in only 899 subreddits or less (0.9962434901391616%)\n",
      "There are 23340 news sources appearing in only 900 subreddits or less (0.9963288653632716%)\n",
      "There are 23340 news sources appearing in only 901 subreddits or less (0.9963288653632716%)\n",
      "There are 23340 news sources appearing in only 902 subreddits or less (0.9963288653632716%)\n",
      "There are 23340 news sources appearing in only 903 subreddits or less (0.9963288653632716%)\n",
      "There are 23341 news sources appearing in only 904 subreddits or less (0.9963715529753265%)\n",
      "There are 23341 news sources appearing in only 905 subreddits or less (0.9963715529753265%)\n",
      "There are 23341 news sources appearing in only 906 subreddits or less (0.9963715529753265%)\n",
      "There are 23341 news sources appearing in only 907 subreddits or less (0.9963715529753265%)\n",
      "There are 23341 news sources appearing in only 908 subreddits or less (0.9963715529753265%)\n",
      "There are 23341 news sources appearing in only 909 subreddits or less (0.9963715529753265%)\n",
      "There are 23342 news sources appearing in only 910 subreddits or less (0.9964142405873816%)\n",
      "There are 23342 news sources appearing in only 911 subreddits or less (0.9964142405873816%)\n",
      "There are 23342 news sources appearing in only 912 subreddits or less (0.9964142405873816%)\n",
      "There are 23342 news sources appearing in only 913 subreddits or less (0.9964142405873816%)\n",
      "There are 23343 news sources appearing in only 914 subreddits or less (0.9964569281994365%)\n",
      "There are 23343 news sources appearing in only 915 subreddits or less (0.9964569281994365%)\n",
      "There are 23343 news sources appearing in only 916 subreddits or less (0.9964569281994365%)\n"
     ]
    },
    {
     "name": "stdout",
     "output_type": "stream",
     "text": [
      "There are 23343 news sources appearing in only 917 subreddits or less (0.9964569281994365%)\n",
      "There are 23344 news sources appearing in only 918 subreddits or less (0.9964996158114915%)\n",
      "There are 23344 news sources appearing in only 919 subreddits or less (0.9964996158114915%)\n",
      "There are 23344 news sources appearing in only 920 subreddits or less (0.9964996158114915%)\n",
      "There are 23344 news sources appearing in only 921 subreddits or less (0.9964996158114915%)\n",
      "There are 23344 news sources appearing in only 922 subreddits or less (0.9964996158114915%)\n",
      "There are 23344 news sources appearing in only 923 subreddits or less (0.9964996158114915%)\n",
      "There are 23344 news sources appearing in only 924 subreddits or less (0.9964996158114915%)\n",
      "There are 23344 news sources appearing in only 925 subreddits or less (0.9964996158114915%)\n",
      "There are 23344 news sources appearing in only 926 subreddits or less (0.9964996158114915%)\n",
      "There are 23344 news sources appearing in only 927 subreddits or less (0.9964996158114915%)\n",
      "There are 23344 news sources appearing in only 928 subreddits or less (0.9964996158114915%)\n",
      "There are 23345 news sources appearing in only 929 subreddits or less (0.9965423034235464%)\n",
      "There are 23346 news sources appearing in only 930 subreddits or less (0.9965849910356015%)\n",
      "There are 23346 news sources appearing in only 931 subreddits or less (0.9965849910356015%)\n",
      "There are 23347 news sources appearing in only 932 subreddits or less (0.9966276786476564%)\n",
      "There are 23347 news sources appearing in only 933 subreddits or less (0.9966276786476564%)\n",
      "There are 23347 news sources appearing in only 934 subreddits or less (0.9966276786476564%)\n",
      "There are 23348 news sources appearing in only 935 subreddits or less (0.9966703662597114%)\n",
      "There are 23348 news sources appearing in only 936 subreddits or less (0.9966703662597114%)\n",
      "There are 23349 news sources appearing in only 937 subreddits or less (0.9967130538717665%)\n",
      "There are 23349 news sources appearing in only 938 subreddits or less (0.9967130538717665%)\n",
      "There are 23350 news sources appearing in only 939 subreddits or less (0.9967557414838214%)\n",
      "There are 23350 news sources appearing in only 940 subreddits or less (0.9967557414838214%)\n",
      "There are 23350 news sources appearing in only 941 subreddits or less (0.9967557414838214%)\n",
      "There are 23351 news sources appearing in only 942 subreddits or less (0.9967984290958763%)\n",
      "There are 23351 news sources appearing in only 943 subreddits or less (0.9967984290958763%)\n",
      "There are 23351 news sources appearing in only 944 subreddits or less (0.9967984290958763%)\n",
      "There are 23351 news sources appearing in only 945 subreddits or less (0.9967984290958763%)\n",
      "There are 23351 news sources appearing in only 946 subreddits or less (0.9967984290958763%)\n",
      "There are 23351 news sources appearing in only 947 subreddits or less (0.9967984290958763%)\n",
      "There are 23351 news sources appearing in only 948 subreddits or less (0.9967984290958763%)\n",
      "There are 23351 news sources appearing in only 949 subreddits or less (0.9967984290958763%)\n",
      "There are 23351 news sources appearing in only 950 subreddits or less (0.9967984290958763%)\n",
      "There are 23351 news sources appearing in only 951 subreddits or less (0.9967984290958763%)\n",
      "There are 23351 news sources appearing in only 952 subreddits or less (0.9967984290958763%)\n",
      "There are 23351 news sources appearing in only 953 subreddits or less (0.9967984290958763%)\n",
      "There are 23351 news sources appearing in only 954 subreddits or less (0.9967984290958763%)\n",
      "There are 23351 news sources appearing in only 955 subreddits or less (0.9967984290958763%)\n",
      "There are 23351 news sources appearing in only 956 subreddits or less (0.9967984290958763%)\n",
      "There are 23351 news sources appearing in only 957 subreddits or less (0.9967984290958763%)\n",
      "There are 23351 news sources appearing in only 958 subreddits or less (0.9967984290958763%)\n",
      "There are 23352 news sources appearing in only 959 subreddits or less (0.9968411167079314%)\n",
      "There are 23352 news sources appearing in only 960 subreddits or less (0.9968411167079314%)\n",
      "There are 23352 news sources appearing in only 961 subreddits or less (0.9968411167079314%)\n",
      "There are 23352 news sources appearing in only 962 subreddits or less (0.9968411167079314%)\n",
      "There are 23352 news sources appearing in only 963 subreddits or less (0.9968411167079314%)\n",
      "There are 23352 news sources appearing in only 964 subreddits or less (0.9968411167079314%)\n",
      "There are 23352 news sources appearing in only 965 subreddits or less (0.9968411167079314%)\n",
      "There are 23352 news sources appearing in only 966 subreddits or less (0.9968411167079314%)\n",
      "There are 23352 news sources appearing in only 967 subreddits or less (0.9968411167079314%)\n",
      "There are 23352 news sources appearing in only 968 subreddits or less (0.9968411167079314%)\n",
      "There are 23352 news sources appearing in only 969 subreddits or less (0.9968411167079314%)\n",
      "There are 23352 news sources appearing in only 970 subreddits or less (0.9968411167079314%)\n",
      "There are 23352 news sources appearing in only 971 subreddits or less (0.9968411167079314%)\n",
      "There are 23352 news sources appearing in only 972 subreddits or less (0.9968411167079314%)\n",
      "There are 23353 news sources appearing in only 973 subreddits or less (0.9968838043199864%)\n",
      "There are 23353 news sources appearing in only 974 subreddits or less (0.9968838043199864%)\n",
      "There are 23353 news sources appearing in only 975 subreddits or less (0.9968838043199864%)\n",
      "There are 23353 news sources appearing in only 976 subreddits or less (0.9968838043199864%)\n",
      "There are 23353 news sources appearing in only 977 subreddits or less (0.9968838043199864%)\n",
      "There are 23353 news sources appearing in only 978 subreddits or less (0.9968838043199864%)\n",
      "There are 23355 news sources appearing in only 979 subreddits or less (0.9969691795440963%)\n",
      "There are 23355 news sources appearing in only 980 subreddits or less (0.9969691795440963%)\n",
      "There are 23356 news sources appearing in only 981 subreddits or less (0.9970118671561513%)\n",
      "There are 23356 news sources appearing in only 982 subreddits or less (0.9970118671561513%)\n",
      "There are 23356 news sources appearing in only 983 subreddits or less (0.9970118671561513%)\n",
      "There are 23357 news sources appearing in only 984 subreddits or less (0.9970545547682063%)\n",
      "There are 23357 news sources appearing in only 985 subreddits or less (0.9970545547682063%)\n",
      "There are 23357 news sources appearing in only 986 subreddits or less (0.9970545547682063%)\n",
      "There are 23357 news sources appearing in only 987 subreddits or less (0.9970545547682063%)\n",
      "There are 23357 news sources appearing in only 988 subreddits or less (0.9970545547682063%)\n",
      "There are 23357 news sources appearing in only 989 subreddits or less (0.9970545547682063%)\n",
      "There are 23357 news sources appearing in only 990 subreddits or less (0.9970545547682063%)\n",
      "There are 23357 news sources appearing in only 991 subreddits or less (0.9970545547682063%)\n",
      "There are 23357 news sources appearing in only 992 subreddits or less (0.9970545547682063%)\n",
      "There are 23357 news sources appearing in only 993 subreddits or less (0.9970545547682063%)\n",
      "There are 23357 news sources appearing in only 994 subreddits or less (0.9970545547682063%)\n",
      "There are 23357 news sources appearing in only 995 subreddits or less (0.9970545547682063%)\n",
      "There are 23357 news sources appearing in only 996 subreddits or less (0.9970545547682063%)\n",
      "There are 23357 news sources appearing in only 997 subreddits or less (0.9970545547682063%)\n",
      "There are 23357 news sources appearing in only 998 subreddits or less (0.9970545547682063%)\n",
      "There are 23357 news sources appearing in only 999 subreddits or less (0.9970545547682063%)\n"
     ]
    }
   ],
   "source": [
    "pct_in_k_subreddits = [(i, pct_ns_in_k_subreddits(i)) for i in range(1000)]"
   ]
  },
  {
   "cell_type": "code",
   "execution_count": 388,
   "metadata": {},
   "outputs": [
    {
     "data": {
      "text/plain": [
       "Text(0.5, 1.0, 'proportion of news sources appearing in x subreddits or less')"
      ]
     },
     "execution_count": 388,
     "metadata": {},
     "output_type": "execute_result"
    },
    {
     "data": {
      "image/png": "[encoded data removed]",
      "text/plain": [
       "<Figure size 1080x432 with 2 Axes>"
      ]
     },
     "metadata": {},
     "output_type": "display_data"
    }
   ],
   "source": [
    "fig, (ax1, ax2) = plt.subplots(1, 2, figsize=(15,6))\n",
    "sns.set(font_scale = 1.2)\n",
    "\n",
    "sns.histplot(scf, log_scale=True, ax=ax1)\n",
    "ax1.set_xlabel(\"number of subreddit\")\n",
    "ax1.set_ylabel(\"news source count\")\n",
    "ax1.set_title(\"number of news sources appearing in x subreddits\")\n",
    "\n",
    "sns.lineplot(x=[k[0] for k in pct_in_k_subreddits],\n",
    "             y=[k[1] for k in pct_in_k_subreddits],\n",
    "            ax=ax2)\n",
    "ax2.set_ylabel(\"percentage\")\n",
    "ax2.set_xlabel(\"# subreddits news sources appear in\")\n",
    "ax2.set_title(\"proportion of news sources appearing in x subreddits or less\")"
   ]
  },
  {
   "cell_type": "code",
   "execution_count": 389,
   "metadata": {
    "scrolled": true
   },
   "outputs": [
    {
     "data": {
      "text/plain": [
       "31.897037479723384"
      ]
     },
     "execution_count": 389,
     "metadata": {},
     "output_type": "execute_result"
    }
   ],
   "source": [
    "# mean\n",
    "statistics.mean(scf)"
   ]
  },
  {
   "cell_type": "code",
   "execution_count": 390,
   "metadata": {},
   "outputs": [
    {
     "data": {
      "text/plain": [
       "5.0"
      ]
     },
     "execution_count": 390,
     "metadata": {},
     "output_type": "execute_result"
    }
   ],
   "source": [
    "# median\n",
    "statistics.median(scf)"
   ]
  },
  {
   "cell_type": "markdown",
   "metadata": {},
   "source": [
    "## For each news source let's count how many times they are shared regardless of in which subreddits"
   ]
  },
  {
   "cell_type": "code",
   "execution_count": 391,
   "metadata": {},
   "outputs": [
    {
     "data": {
      "text/plain": [
       "0"
      ]
     },
     "execution_count": 391,
     "metadata": {},
     "output_type": "execute_result"
    }
   ],
   "source": [
    "sum(dict().values())"
   ]
  },
  {
   "cell_type": "code",
   "execution_count": 392,
   "metadata": {},
   "outputs": [],
   "source": [
    "def get_mention_count(ns):\n",
    "    \"\"\"get total mention count of ns in all six months\"\"\"\n",
    "    count = 0\n",
    "    files = [ns_subreddit_01, ns_subreddit_02, ns_subreddit_03, ns_subreddit_04, ns_subreddit_05, ns_subreddit_06]\n",
    "    for f in files:\n",
    "        ns_dict = f.get(ns, dict())\n",
    "        if len(ns_dict) > 0:\n",
    "            mentions = sum([m[0] for m in ns_dict.values()])\n",
    "            count += mentions\n",
    "    return count"
   ]
  },
  {
   "cell_type": "code",
   "execution_count": 393,
   "metadata": {},
   "outputs": [],
   "source": [
    "mention_count = dict()\n",
    "for ns in ns_union:\n",
    "    mention_count[ns] = get_mention_count(ns)"
   ]
  },
  {
   "cell_type": "code",
   "execution_count": 394,
   "metadata": {
    "scrolled": true
   },
   "outputs": [
    {
     "data": {
      "text/plain": [
       "300.9041236233245"
      ]
     },
     "execution_count": 394,
     "metadata": {},
     "output_type": "execute_result"
    }
   ],
   "source": [
    "statistics.mean(mention_count.values())"
   ]
  },
  {
   "cell_type": "code",
   "execution_count": 395,
   "metadata": {},
   "outputs": [
    {
     "data": {
      "text/plain": [
       "3840.7896215599567"
      ]
     },
     "execution_count": 395,
     "metadata": {},
     "output_type": "execute_result"
    }
   ],
   "source": [
    "statistics.stdev(mention_count.values())"
   ]
  },
  {
   "cell_type": "code",
   "execution_count": 396,
   "metadata": {},
   "outputs": [
    {
     "data": {
      "text/plain": [
       "10.0"
      ]
     },
     "execution_count": 396,
     "metadata": {},
     "output_type": "execute_result"
    }
   ],
   "source": [
    "statistics.median(mention_count.values())"
   ]
  },
  {
   "cell_type": "code",
   "execution_count": 397,
   "metadata": {
    "scrolled": true
   },
   "outputs": [
    {
     "data": {
      "text/plain": [
       "23426"
      ]
     },
     "execution_count": 397,
     "metadata": {},
     "output_type": "execute_result"
    }
   ],
   "source": [
    "len(mention_count)"
   ]
  },
  {
   "cell_type": "code",
   "execution_count": 398,
   "metadata": {},
   "outputs": [
    {
     "data": {
      "text/plain": [
       "[('mlb.com', 318948),\n",
       " ('theguardian.com', 225921),\n",
       " ('cnn.com', 160451),\n",
       " ('nytimes.com', 144252),\n",
       " ('foxnews.com', 141796),\n",
       " ('thehindu.com', 88410),\n",
       " ('bbc.co.uk', 87890),\n",
       " ('thestar.com', 87662),\n",
       " ('reuters.com', 85021),\n",
       " ('nypost.com', 81594),\n",
       " ('cnbc.com', 65440),\n",
       " ('thehill.com', 63500),\n",
       " ('indiatimes.com', 63034),\n",
       " ('washingtontimes.com', 59941),\n",
       " ('breitbart.com', 57660),\n",
       " ('usatoday.com', 54144),\n",
       " ('scmp.com', 52531),\n",
       " ('cbc.ca', 52372),\n",
       " ('apnews.com', 48543),\n",
       " ('nbcnews.com', 48378)]"
      ]
     },
     "execution_count": 398,
     "metadata": {},
     "output_type": "execute_result"
    }
   ],
   "source": [
    "Counter(mention_count).most_common(20)"
   ]
  },
  {
   "cell_type": "code",
   "execution_count": 399,
   "metadata": {},
   "outputs": [
    {
     "data": {
      "text/plain": [
       "807"
      ]
     },
     "execution_count": 399,
     "metadata": {},
     "output_type": "execute_result"
    }
   ],
   "source": [
    "news_ge10k = [m for m in mention_count if mention_count[m] >= 1000]\n",
    "len(news_ge10k)"
   ]
  },
  {
   "cell_type": "markdown",
   "metadata": {},
   "source": [
    "```\n",
    "with open(\"news_ge10k.csv\", \"w\", encoding=\"utf-8\", newline='') as n:\n",
    "    w = csv.writer(n, dialect=\"excel\", delimiter=\",\")\n",
    "    for e in news_ge10k:\n",
    "        w.writerow([e])\n",
    "```"
   ]
  },
  {
   "cell_type": "code",
   "execution_count": 400,
   "metadata": {},
   "outputs": [
    {
     "data": {
      "text/plain": [
       "{'todayilearned': [17, 14.780000000000001, 2038],\n",
       " 'JoeRogan': [1, 0.76, 3],\n",
       " 'knowyourshit': [3, 2.92, 1],\n",
       " 'collapse': [7, 6.280000000000001, 58],\n",
       " 'marginal': [3, 3.0, 0],\n",
       " 'conspiracy': [11, 8.9, 649],\n",
       " 'politics': [121, 107.37999999999998, 227661],\n",
       " 'CPTSD': [1, 1.0, 1],\n",
       " 'VideoEditing': [1, 0.98, 38],\n",
       " 'wallstreetbets': [15, 13.129999999999999, 115],\n",
       " 'hackernews': [8, 5.92, 8],\n",
       " 'patient_hackernews': [8, 8.0, 8],\n",
       " 'unitedkingdom': [2, 1.82, 19],\n",
       " 'Catholicism': [1, 1.0, 2],\n",
       " 'books': [6, 5.2, 15],\n",
       " 'hackerdigest': [1, 1.0, 0],\n",
       " 'Snorkblot': [2, 2.0, 2],\n",
       " 'UnresolvedMysteries': [18, 17.439999999999998, 1033],\n",
       " 'TrueUnpopularOpinion': [2, 1.3, 32],\n",
       " 'SPACs': [2, 1.8, 152],\n",
       " 'aznidentity': [1, 0.98, 40],\n",
       " 'badgovnofreedom': [34, 34.0, 1],\n",
       " 'cyberpunkgame': [1, 0.4, 3],\n",
       " 'CBC_': [9, 8.84, 1],\n",
       " 'newjersey': [1, 0.8, 25],\n",
       " 'newfoundland': [28, 25.439999999999994, 406],\n",
       " 'Hamilton': [42, 35.79, 950],\n",
       " 'Oshawa': [1, 0.9, 5],\n",
       " 'RedditTLDR': [5, 4.67, 1],\n",
       " 'Sino': [1, 0.96, 18],\n",
       " 'SorcerersVsSuffering': [1, 0.5, 0],\n",
       " 'China_irl': [1, 0.96, 69],\n",
       " 'worldanarchism': [2, 2.0, 0],\n",
       " 'Socialism_101': [1, 0.86, 10],\n",
       " 'Economics': [3, 2.06, 94],\n",
       " 'europe': [1, 0.87, 1],\n",
       " 'LazyCheapskate': [4, 3.35, 5],\n",
       " 'NoNewNormal': [18, 15.87, 124],\n",
       " 'AskDocs': [1, 1.0, 3],\n",
       " 'LateStageCapitalism': [5, 3.9399999999999995, 11],\n",
       " 'television': [3, 2.01, 61],\n",
       " 'NewDealAmerica': [1, 0.9, 0],\n",
       " 'MorbidReality': [2, 1.59, 26],\n",
       " 'redscarepod': [1, 1.0, 8],\n",
       " 'conspiracytheories': [1, 1.0, 0],\n",
       " 'SubSimulatorGPT2': [2, 1.75, 79],\n",
       " 'Futurology': [3, 2.9299999999999997, 128],\n",
       " 'worldpowers': [1, 1.0, 4],\n",
       " 'neoliberal': [9, 8.57, 78],\n",
       " 'NoStupidQuestions': [1, 0.77, 2],\n",
       " 'serbia': [2, 1.97, 11],\n",
       " 'eddit3yearsago': [1, 1.0, 1],\n",
       " 'stupidpol': [5, 4.390000000000001, 137],\n",
       " 'ontario': [149, 129.40000000000003, 6603],\n",
       " 'Anarchism': [2, 1.92, 3],\n",
       " 'AskEconomics': [1, 0.97, 32],\n",
       " 'ADHD': [1, 1.0, 81],\n",
       " 'btc': [1, 0.33, 2],\n",
       " 'Damnthatsinteresting': [2, 2.0, 0],\n",
       " 'Fantasy': [3, 2.56, 36],\n",
       " 'urbanplanning': [1, 0.87, 2],\n",
       " 'socialism': [1, 0.97, 144],\n",
       " 'steelers': [1, 1.0, 1],\n",
       " 'news': [100, 92.23000000000002, 6447],\n",
       " 'WayOfTheBern': [6, 5.7, 50],\n",
       " 'privacy': [4, 3.78, 1],\n",
       " 'CoronavirusCanada': [50, 35.099999999999994, 176],\n",
       " 'grammar': [1, 0.67, 2],\n",
       " 'legaladviceofftopic': [1, 0.5, 6],\n",
       " 'GenZedong': [1, 0.98, 3],\n",
       " 'iran': [2, 1.35, 0],\n",
       " 'ToolBand': [4, 3.23, 36],\n",
       " 'NarcoFootage': [1, 0.97, 157],\n",
       " 'worldpolitics': [1, 0.38, 0],\n",
       " 'MandelaEffect': [1, 0.61, 46],\n",
       " 'atheism': [4, 3.52, 46],\n",
       " 'Anarcho_Capitalism': [2, 1.4700000000000002, 7],\n",
       " 'inthemorning': [7, 5.140000000000001, 3],\n",
       " 'interestingasfuck': [3, 1.9, 9],\n",
       " 'islam': [1, 0.86, 20],\n",
       " 'climate': [3, 2.7399999999999998, 2],\n",
       " 'Letterkenny': [1, 0.84, 1],\n",
       " 'TrueAnon': [1, 0.96, 0],\n",
       " 'medicine': [3, 2.87, 269],\n",
       " 'stocks': [1, 0.94, 4404],\n",
       " 'Lovecraft': [1, 0.5, 1],\n",
       " 'LPOTL': [1, 1.0, 0],\n",
       " 'CanadaPublicServants': [6, 5.210000000000001, 107],\n",
       " 'Calgary': [87, 69.50999999999999, 4321],\n",
       " 'horror': [1, 0.62, 0],\n",
       " 'ABoringDystopia': [1, 0.67, 2],\n",
       " 'NovaScotia': [33, 29.269999999999992, 414],\n",
       " 'sports': [3, 2.5, 18],\n",
       " 'tennis': [2, 1.92, 8],\n",
       " 'MatthiasSubmissions': [1, 1.0, 0],\n",
       " 'Destiny': [2, 1.83, 1],\n",
       " 'conservatives': [1, 0.75, 6],\n",
       " 'pregnant': [1, 1.0, 1],\n",
       " 'VaushV': [1, 0.91, 3],\n",
       " 'awfuleverything': [5, 4.84, 0],\n",
       " 'antinatalism': [4, 3.71, 5],\n",
       " 'hockey': [8, 6.24, 69],\n",
       " 'brasilivre': [1, 0.94, 9],\n",
       " 'aviation': [1, 1.0, 0],\n",
       " 'CoronavirusCirclejerk': [1, 0.82, 2],\n",
       " 'space': [4, 2.59, 65],\n",
       " 'cryptogeum': [1, 1.0, 0],\n",
       " 'sustainability': [1, 0.67, 0],\n",
       " 'ZeroWaste': [1, 0.56, 2],\n",
       " 'FridaysForFuture': [1, 0.88, 15],\n",
       " 'TrueOffMyChest': [1, 0.6, 0],\n",
       " 'democrats': [4, 3.39, 30],\n",
       " 'science': [3, 1.85, 6],\n",
       " 'Winnipeg': [115, 99.89999999999998, 3724],\n",
       " 'uspolitics': [2, 1.87, 4],\n",
       " 'canada': [532, 420.6200000000006, 26421],\n",
       " 'Music': [1, 0.75, 0],\n",
       " 'UpliftingNews': [17, 15.39, 107],\n",
       " 'byebyejob': [2, 1.99, 7],\n",
       " 'Conservative': [4, 2.9800000000000004, 163],\n",
       " 'worldnews': [153, 130.94, 18318],\n",
       " 'nottheonion': [41, 33.17, 1260],\n",
       " 'ThatsInsane': [1, 1.0, 1],\n",
       " 'Feminism': [3, 2.1500000000000004, 1],\n",
       " 'AntiTrumpAlliance': [3, 2.7800000000000002, 6],\n",
       " 'privacytoolsIO': [1, 0.99, 16],\n",
       " 'pics': [1, 0.72, 3],\n",
       " 'NormMacdonald': [1, 1.0, 0],\n",
       " 'DataHoarder': [1, 0.85, 8],\n",
       " 'childfree': [1, 1.0, 82],\n",
       " 'TargetedEnergyWeapons': [1, 0.92, 1],\n",
       " 'AskALiberal': [3, 2.22, 52],\n",
       " 'YangForPresidentHQ': [1, 0.5, 5],\n",
       " 'CanadianTeachers': [1, 0.83, 1],\n",
       " 'ProtectAndServe': [2, 1.94, 24],\n",
       " 'onguardforthee': [266, 229.17999999999995, 4116],\n",
       " 'NoShitSherlock': [1, 1.0, 0],\n",
       " 'Qult_Headquarters': [1, 0.95, 3],\n",
       " 'The_Mueller': [2, 1.95, 5],\n",
       " 'askTO': [2, 1.36, 40],\n",
       " 'TwoBestFriendsPlay': [1, 0.9, 2],\n",
       " 'PublicFreakout': [1, 1.0, 0],\n",
       " 'alberta': [141, 123.54, 4909],\n",
       " 'CoronavirusDownunder': [21, 17.040000000000003, 573],\n",
       " 'monarchism': [2, 2.0, 7],\n",
       " 'Israel': [1, 1.0, 2],\n",
       " 'Art': [1, 1.0, 1],\n",
       " 'Albertapolitics': [69, 67.01999999999998, 124],\n",
       " 'FSTL': [2, 2.0, 5],\n",
       " 'eddit7yearsago': [3, 2.81, 3],\n",
       " 'inthenews': [2, 1.77, 76],\n",
       " 'bipolar': [1, 0.81, 7],\n",
       " 'ABCDesis': [1, 0.82, 9],\n",
       " 'navy': [1, 0.5, 4],\n",
       " 'vancouver': [95, 71.22999999999999, 3282],\n",
       " 'videos': [3, 1.69, 8],\n",
       " 'NoctilucentNews': [4, 4.0, 0],\n",
       " 'samharris': [1, 1.0, 5],\n",
       " 'CuriousAndFascinating': [1, 1.0, 0],\n",
       " 'SuccessionTV': [1, 1.0, 0],\n",
       " 'JoeBiden': [8, 7.4799999999999995, 43],\n",
       " 'Liberal': [1, 1.0, 0],\n",
       " 'Trumpvirus': [2, 1.81, 9],\n",
       " 'CapitolConsequences': [3, 2.94, 80],\n",
       " 'LockdownSkepticism': [57, 52.92999999999999, 1659],\n",
       " 'Political_Revolution': [1, 0.92, 0],\n",
       " 'ChronicIllness': [3, 2.7800000000000002, 4],\n",
       " 'usanews': [1, 0.91, 2],\n",
       " 'ParlerWatch': [4, 3.71, 8],\n",
       " 'AmericanFascism2020': [2, 1.63, 0],\n",
       " 'cybersecurity': [1, 0.81, 0],\n",
       " 'booklists': [1, 1.0, 0],\n",
       " 'China': [1, 0.75, 1],\n",
       " 'January6': [1, 0.57, 1],\n",
       " 'Seattle': [1, 0.99, 13],\n",
       " 'sciencefiction': [1, 0.73, 2],\n",
       " 'Jazz': [1, 0.29, 0],\n",
       " 'iamatotalpieceofshit': [4, 4.0, 3],\n",
       " 'toronto': [98, 80.80000000000004, 5762],\n",
       " 'MensRights': [1, 0.97, 2],\n",
       " 'eddit8yearsago': [1, 1.0, 1],\n",
       " 'TrueCrimeDiscussion': [1, 0.96, 7],\n",
       " 'neocentrism': [1, 1.0, 3],\n",
       " 'DanLeBatardShow': [1, 1.0, 1],\n",
       " 'medical': [1, 1.0, 0],\n",
       " 'uoguelph': [1, 0.97, 18],\n",
       " 'gardening': [1, 1.0, 1],\n",
       " 'covidlonghaulers': [1, 1.0, 7],\n",
       " 'RepublicanTerrorism': [1, 0.85, 1],\n",
       " 'UofT': [2, 1.58, 2],\n",
       " 'climatechange': [1, 0.85, 1],\n",
       " 'fucktheccp': [3, 2.9699999999999998, 1],\n",
       " 'LoveForLandlords': [1, 1.0, 0],\n",
       " 'nuclear': [1, 0.95, 25],\n",
       " 'ToiletPaperUSA': [1, 0.98, 4],\n",
       " 'Parenting': [1, 0.46, 0],\n",
       " 'LeopardsAteMyFace': [1, 0.99, 30],\n",
       " 'electricvehicles': [1, 1.0, 3],\n",
       " 'AirForce': [1, 0.74, 5],\n",
       " 'washingtondc': [1, 0.27, 0],\n",
       " 'metamtl': [1, 1.0, 1],\n",
       " 'Canadians': [6, 5.470000000000001, 17],\n",
       " 'mcgill': [1, 0.97, 25],\n",
       " 'Quebec': [19, 12.28, 364],\n",
       " 'Capitalism': [1, 0.9, 5],\n",
       " 'funny': [1, 0.63, 3],\n",
       " 'EnoughTrumpSpam': [1, 0.9, 0],\n",
       " 'smallbusiness': [1, 0.5, 8],\n",
       " 'biology': [2, 1.72, 0],\n",
       " 'Kossacks_for_Sanders': [1, 1.0, 2],\n",
       " 'Guelph': [2, 1.92, 37],\n",
       " 'ImmigrationCanada': [1, 1.0, 2],\n",
       " 'antiwork': [4, 3.95, 10],\n",
       " 'LockdownCriticalLeft': [15, 13.5, 101],\n",
       " 'MURICA': [1, 1.0, 0],\n",
       " 'UFOs': [1, 0.8, 5],\n",
       " 'AnythingGoesNews': [1, 0.5, 2],\n",
       " 'malaysia': [1, 0.96, 15],\n",
       " 'union': [1, 1.0, 0],\n",
       " 'China_Flu': [1, 0.57, 2],\n",
       " 'KingkillerChronicle': [3, 2.9, 6],\n",
       " 'CannedSardines': [1, 1.0, 1],\n",
       " 'sixdigits': [1, 0.67, 0],\n",
       " 'HydroHomies': [1, 0.81, 1],\n",
       " 'SubSimulatorGPT2Meta': [1, 0.99, 19],\n",
       " 'covidskepticscanada': [18, 17.310000000000002, 17],\n",
       " 'SaltyArmy': [1, 1.0, 0],\n",
       " 'discgolf': [1, 0.92, 2],\n",
       " 'asianamerican': [1, 1.0, 0],\n",
       " 'ChronicPain': [2, 1.93, 16],\n",
       " 'sydney': [1, 1.0, 2],\n",
       " 'Military': [3, 2.24, 10],\n",
       " 'technology': [9, 7.18, 36],\n",
       " 'business': [1, 0.97, 60],\n",
       " 'realtech': [5, 4.14, 6],\n",
       " 'OntarioCanada': [33, 30.349999999999998, 622],\n",
       " 'MtF': [1, 0.87, 1],\n",
       " 'uwaterloo': [5, 4.85, 26],\n",
       " 'instantkarma': [1, 1.0, 1],\n",
       " 'JusticeServed': [1, 1.0, 1],\n",
       " 'BigTech': [2, 1.9, 0],\n",
       " 'environment': [11, 9.959999999999999, 420],\n",
       " 'VoteDEM': [1, 0.89, 1],\n",
       " 'IASIP': [1, 1.0, 0],\n",
       " 'PERU': [1, 1.0, 0],\n",
       " 'Filmmakers': [1, 0.68, 6],\n",
       " 'FuckNestle': [1, 0.98, 0],\n",
       " 'shrooms': [1, 1.0, 0],\n",
       " 'florida': [3, 2.86, 17],\n",
       " 'Antipsychiatry': [2, 1.9100000000000001, 54],\n",
       " 'britishcolumbia': [60, 50.33, 1487],\n",
       " 'pakistan': [1, 1.0, 1],\n",
       " 'COVID19': [2, 1.38, 2],\n",
       " 'Coronavirus': [68, 60.09, 1113],\n",
       " 'Cyberpunk': [1, 0.65, 3],\n",
       " 'StockMarket': [1, 0.82, 5],\n",
       " 'hapas': [1, 0.88, 1],\n",
       " 'FeMRADebates': [2, 1.84, 92],\n",
       " 'TrumpNicknames': [1, 0.92, 1],\n",
       " 'canucks': [1, 0.92, 22],\n",
       " 'COMPLETEANARCHY': [1, 0.78, 2],\n",
       " 'thebulwark': [2, 2.0, 0],\n",
       " 'AntifascistsofReddit': [1, 0.67, 1],\n",
       " 'Wallstreetbetsnew': [1, 0.93, 7],\n",
       " 'GreenPartyOfCanada': [6, 5.0, 3],\n",
       " 'thebachelor': [7, 7.0, 6],\n",
       " 'wallstreetbets2': [1, 1.0, 2],\n",
       " 'Firefighting': [1, 0.83, 4],\n",
       " 'travel': [2, 2.0, 0],\n",
       " 'Cascadia': [2, 1.9, 9],\n",
       " 'offbeat': [7, 5.859999999999999, 58],\n",
       " 'PersonalFinanceCanada': [4, 3.3600000000000003, 168],\n",
       " 'CanadianInvestor': [6, 4.02, 632],\n",
       " 'NativeAmerican': [1, 0.95, 0],\n",
       " 'WallStreetbetsELITE': [3, 3.0, 2],\n",
       " 'Dinosaurs': [1, 0.92, 7],\n",
       " 'Canadapennystocks': [1, 0.88, 26],\n",
       " '2020PoliceBrutality': [3, 2.1799999999999997, 6],\n",
       " 'islam_ahmadiyya': [1, 0.96, 45],\n",
       " 'GooglePixel': [1, 0.84, 21],\n",
       " 'malefashionadvice': [1, 0.93, 33],\n",
       " 'saskatoon': [22, 20.159999999999997, 778],\n",
       " 'TheFightThatMatters': [1, 1.0, 1],\n",
       " 'rugbyunion': [1, 0.88, 0],\n",
       " 'PussyPass': [1, 0.88, 4],\n",
       " 'apple': [1, 0.78, 30],\n",
       " 'autotldr': [54, 49.650000000000006, 0],\n",
       " 'CoronavirusUK': [1, 1.0, 0],\n",
       " 'Equestrian': [1, 1.0, 9],\n",
       " 'survivor': [1, 1.0, 4],\n",
       " 'thelongdark': [1, 1.0, 0],\n",
       " 'canadaguns': [1, 1.0, 2],\n",
       " 'ottawa': [513, 493.95000000000016, 3466],\n",
       " 'starbucks': [1, 0.5, 1],\n",
       " 'Bellingham': [1, 1.0, 23],\n",
       " 'StJohnsNL': [2, 1.8, 1],\n",
       " 'Edmonton': [57, 50.76, 1647],\n",
       " 'abbotsford': [1, 1.0, 10],\n",
       " 'waterloo': [11, 9.57, 206],\n",
       " 'OntarioUniversities': [1, 0.86, 1],\n",
       " 'windsorontario': [9, 7.480000000000001, 114],\n",
       " 'acting': [2, 2.0, 16],\n",
       " 'fredericton': [23, 19.94, 117],\n",
       " 'MadeMeSmile': [5, 4.68, 0],\n",
       " 'NHLHUT': [2, 1.85, 57],\n",
       " 'SaintJohnNB': [19, 16.92, 61],\n",
       " 'TheOCS': [3, 2.08, 31],\n",
       " 'ThunderBay': [10, 8.95, 186],\n",
       " 'hiking': [1, 0.78, 0],\n",
       " 'BabyBumps': [2, 1.66, 122],\n",
       " 'halifax': [96, 78.99999999999997, 2155],\n",
       " 'regina': [16, 13.929999999999998, 668],\n",
       " 'Survival': [1, 0.95, 2],\n",
       " 'doordash': [1, 1.0, 12],\n",
       " 'CanadaPS5': [1, 0.89, 22],\n",
       " 'montreal': [22, 20.619999999999997, 714],\n",
       " 'Questrade': [2, 1.76, 14],\n",
       " 'KingstonOntario': [3, 2.79, 83],\n",
       " 'CanadianMOMs': [1, 0.83, 70],\n",
       " 'polyamory': [2, 1.69, 18],\n",
       " 'skiing': [2, 1.9300000000000002, 7],\n",
       " 'ems': [2, 1.92, 21],\n",
       " 'InteriorDesign': [1, 1.0, 1],\n",
       " 'Wellthatsucks': [1, 1.0, 1],\n",
       " 'AdorableOnlyfans': [1, 1.0, 1],\n",
       " 'Scams': [1, 1.0, 1],\n",
       " 'NonBinary': [1, 1.0, 1],\n",
       " 'BasicIncome': [1, 0.67, 4],\n",
       " 'Costco': [1, 0.96, 58],\n",
       " 'emergencymedicine': [1, 1.0, 7],\n",
       " 'timecrisis': [1, 1.0, 0],\n",
       " 'BanPitBulls': [6, 5.779999999999999, 159],\n",
       " 'farming': [1, 0.95, 0],\n",
       " 'Dogfree': [1, 0.97, 2],\n",
       " 'Android': [1, 0.75, 97],\n",
       " 'bigdickproblems': [1, 1.0, 1],\n",
       " 'fantasyhockey': [2, 2.0, 8],\n",
       " 'Torontology': [4, 2.54, 16],\n",
       " 'uAlberta': [4, 3.06, 76],\n",
       " 'Baystreetbets': [2, 1.63, 3],\n",
       " 'LinusTechTips': [2, 1.5, 0],\n",
       " 'NoFilterNews': [66, 65.5, 0],\n",
       " 'COVID': [3, 2.3200000000000003, 1],\n",
       " 'CanadaPolitics': [279, 238.27999999999992, 8391],\n",
       " 'japan': [4, 3.77, 7],\n",
       " 'SchittsCreek': [2, 2.0, 0],\n",
       " 'police': [2, 2.0, 1],\n",
       " 'manchester': [1, 0.5, 2],\n",
       " 'Startup_Ideas': [1, 1.0, 14],\n",
       " 'Animals': [1, 1.0, 0],\n",
       " 'knitting': [1, 1.0, 0],\n",
       " 'indieheads': [1, 0.94, 10],\n",
       " 'Brampton': [5, 4.37, 44],\n",
       " 'Georgia': [1, 0.9, 1],\n",
       " 'OnTheBlock': [1, 0.72, 5],\n",
       " 'CysticFibrosis': [1, 0.98, 6],\n",
       " 'Rowing': [1, 1.0, 3],\n",
       " 'VictoriaBC': [19, 17.189999999999998, 282],\n",
       " 'Toxic_Femininity': [1, 0.96, 18],\n",
       " 'CallHerDaddy': [1, 0.29, 4],\n",
       " 'AmericanHorrorStory': [1, 0.9, 2],\n",
       " 'canadients': [3, 2.53, 70],\n",
       " 'CovidCanada': [1, 0.83, 0],\n",
       " 'CovIdiots': [3, 2.71, 9],\n",
       " 'Detroit': [1, 0.95, 6],\n",
       " 'McMaster': [1, 0.99, 2],\n",
       " 'NewWest': [8, 7.68, 88],\n",
       " 'simonfraser': [2, 1.85, 0],\n",
       " 'MensLib': [2, 1.97, 204],\n",
       " 'geegees': [2, 0.76, 18],\n",
       " 'aww': [3, 3.0, 3],\n",
       " 'trailerparkboys': [1, 0.67, 1],\n",
       " 'community': [1, 1.0, 0],\n",
       " 'ShitLiberalsSay': [1, 1.0, 1],\n",
       " 'insects': [1, 1.0, 0],\n",
       " 'ChurchOfCOVID': [1, 1.0, 4],\n",
       " 'SocialJusticeInAction': [3, 2.55, 59],\n",
       " 'COVID19_support': [1, 0.62, 0],\n",
       " 'scleroderma': [1, 1.0, 0],\n",
       " 'ThriftStoreHauls': [1, 1.0, 1],\n",
       " 'theworldnews': [15, 11.4, 0],\n",
       " 'daverubin': [1, 0.99, 0],\n",
       " 'facepalm': [1, 0.9, 6],\n",
       " 'TheAbditory': [1, 1.0, 0],\n",
       " 'CitizensClimateLobby': [1, 0.82, 3],\n",
       " 'RedDeer': [3, 2.76, 54],\n",
       " 'Lethbridge': [1, 0.67, 1],\n",
       " 'SurreyBC': [6, 5.640000000000001, 32],\n",
       " 'CanadaCoronavirus': [143, 126.14000000000007, 1818],\n",
       " 'XSomalian': [1, 0.91, 5],\n",
       " 'UBC': [7, 5.18, 96],\n",
       " 'GamerGhazi': [1, 0.92, 0],\n",
       " 'londonontario': [41, 34.69, 875],\n",
       " 'sqdc': [1, 0.93, 62],\n",
       " 'mildlyinfuriating': [1, 1.0, 3],\n",
       " 'uwo': [1, 0.95, 10],\n",
       " 'murdochmysteries': [1, 1.0, 8],\n",
       " 'Mindfulness': [1, 0.86, 0],\n",
       " 'Markham': [1, 0.93, 32],\n",
       " 'PoliticalVideos': [3, 3.0, 0],\n",
       " 'Sudbury': [5, 4.470000000000001, 76],\n",
       " 'TorontoRealEstate': [1, 0.89, 73],\n",
       " 'economy': [1, 0.92, 6],\n",
       " 'japancirclejerk': [2, 0.54, 5],\n",
       " 'YMS': [1, 1.0, 0],\n",
       " 'ndp': [27, 25.63, 89],\n",
       " 'Tokyo': [1, 1.0, 0],\n",
       " 'BernieSanders': [1, 1.0, 1],\n",
       " 'mississauga': [4, 3.8099999999999996, 13],\n",
       " 'Caribbean': [1, 1.0, 0],\n",
       " 'ADKFunPolice': [1, 0.93, 11],\n",
       " 'CFL': [2, 1.97, 8],\n",
       " 'weedstocks': [1, 0.99, 8],\n",
       " 'SneakersCanada': [1, 1.0, 0],\n",
       " 'HelloInternet': [1, 0.97, 8],\n",
       " 'Jeopardy': [3, 2.71, 10],\n",
       " 'PEI': [16, 14.91, 216],\n",
       " 'FoodToronto': [2, 1.63, 5],\n",
       " 'Cowichan': [1, 0.94, 3],\n",
       " 'NWSL': [1, 1.0, 0],\n",
       " 'lansing': [1, 0.86, 8],\n",
       " 'railroading': [1, 0.86, 3],\n",
       " 'TransSpace': [1, 1.0, 1],\n",
       " 'Bad_Cop_No_Donut': [10, 9.87, 16],\n",
       " 'montreal4all': [4, 3.3800000000000003, 15],\n",
       " 'kelowna': [2, 1.9100000000000001, 81],\n",
       " 'uvic': [2, 1.37, 8],\n",
       " 'DarkFuturology': [1, 0.97, 35],\n",
       " 'stcatharinesON': [2, 1.3599999999999999, 20],\n",
       " 'Zappa': [1, 1.0, 6],\n",
       " 'ArtHistory': [1, 1.0, 1],\n",
       " 'ShopCanada': [2, 2.0, 4],\n",
       " 'winnipegjets': [2, 1.9, 1007],\n",
       " 'pussypassdenied': [1, 0.96, 23],\n",
       " 'medicinehat': [2, 1.94, 10],\n",
       " 'foreignpolicy': [1, 0.7, 1],\n",
       " 'EdmontonMarijuana': [1, 1.0, 0],\n",
       " 'Journalism': [5, 4.8100000000000005, 0],\n",
       " 'Epstein': [2, 1.89, 5],\n",
       " 'Naturewasmetal': [1, 0.99, 3],\n",
       " 'NatureIsFuckingLit': [1, 1.0, 0],\n",
       " 'ACAB': [1, 0.75, 0],\n",
       " 'SelfAwarewolves': [1, 0.85, 4],\n",
       " 'DemocratsforDiversity': [1, 1.0, 1],\n",
       " 'nhl': [4, 3.23, 30],\n",
       " 'MAGAs': [1, 0.95, 1],\n",
       " 'CanadianPolitics': [1, 0.9, 11],\n",
       " 'restaurant': [1, 1.0, 1],\n",
       " 'Archaeology': [1, 0.75, 0],\n",
       " 'dogecoinbeg': [2, 1.34, 0],\n",
       " 'goodnews': [1, 0.9, 1],\n",
       " 'Missing411': [1, 0.84, 148],\n",
       " 'CanadianForces': [16, 15.610000000000001, 247],\n",
       " 'IntelligenceNews': [4, 3.69, 4],\n",
       " 'EcoNewsNetwork': [3, 3.0, 1],\n",
       " 'Manitoba': [12, 10.469999999999999, 34],\n",
       " 'ScienceUncensored': [1, 0.67, 0],\n",
       " 'ValueInvesting': [2, 2.0, 12],\n",
       " 'durham': [1, 0.9, 4],\n",
       " 'mayahiga': [1, 0.96, 1],\n",
       " 'canadacordcutters': [1, 0.97, 13],\n",
       " 'BiologicalSeas': [1, 0.92, 0],\n",
       " 'saskatchewan': [67, 55.96000000000001, 1348],\n",
       " 'TacoZone': [1, 1.0, 0],\n",
       " 'nCoV': [4, 3.62, 3],\n",
       " 'energy': [1, 0.99, 11],\n",
       " 'mealtimevideos': [1, 0.94, 6],\n",
       " 'CanadianBroadband': [1, 1.0, 0],\n",
       " 'HorriblyDepressing': [1, 1.0, 0],\n",
       " 'altnewz': [1, 0.91, 1],\n",
       " 'political': [1, 1.0, 0],\n",
       " 'BuyCanadian': [4, 3.8600000000000003, 62],\n",
       " 'Libernadian': [2, 1.76, 15],\n",
       " 'Vaccine': [1, 0.83, 1],\n",
       " 'bakeoff': [2, 1.98, 42],\n",
       " 'Gatineau': [4, 2.77, 70],\n",
       " 'GrandePrairie': [2, 1.87, 12],\n",
       " 'transplant': [1, 0.98, 3],\n",
       " 'Flights': [2, 1.4, 8],\n",
       " 'VACCINES': [1, 0.88, 0],\n",
       " 'IndianCountry': [16, 15.5, 24],\n",
       " 'Peterborough': [1, 0.87, 3],\n",
       " 'agedlikemilk': [2, 1.67, 1],\n",
       " 'FrancaisCanadien': [1, 1.0, 1],\n",
       " 'AntiVaxxers': [2, 2.0, 10],\n",
       " 'canadaleft': [12, 11.280000000000001, 35],\n",
       " 'NewsWithoutNewsMedia': [30, 28.64, 1],\n",
       " 'PacificNorthwest': [1, 1.0, 4],\n",
       " 'BachelorNation': [4, 3.31, 24],\n",
       " 'VancouverIsland': [9, 8.4, 141],\n",
       " 'burnaby': [1, 0.97, 3],\n",
       " 'MarsSociety': [1, 1.0, 0],\n",
       " 'LockdownHypocrites': [5, 4.92, 1],\n",
       " 'QuebecLibre': [1, 0.75, 1],\n",
       " 'Whistler': [2, 1.9, 3],\n",
       " 'gameshow': [1, 1.0, 0],\n",
       " 'forestry': [1, 0.75, 8],\n",
       " 'prisons': [18, 15.69, 0],\n",
       " 'GreenParty': [2, 1.77, 4],\n",
       " 'CanadaSoccer': [4, 3.4399999999999995, 0],\n",
       " 'olympics': [6, 5.62, 89],\n",
       " 'toppostoftheday': [2, 1.96, 4],\n",
       " 'Curling': [1, 0.97, 4],\n",
       " 'Dalhousie': [1, 0.93, 11],\n",
       " 'guillainbarre': [1, 0.9, 9],\n",
       " 'WomensSoccer': [3, 3.0, 4],\n",
       " 'Green': [1, 0.9, 0],\n",
       " 'NewsOfTheStupid': [2, 1.88, 0],\n",
       " 'AnarchistGenerationZ': [1, 1.0, 0],\n",
       " 'peopleofwalmart': [1, 0.95, 0],\n",
       " 'Coronavirus_BC': [44, 41.620000000000005, 56],\n",
       " 'imdbvg': [1, 0.8, 21],\n",
       " 'MLS': [1, 0.8, 4],\n",
       " 'orcas': [1, 1.0, 1],\n",
       " 'tvPlus': [1, 0.92, 1],\n",
       " 'brantford': [2, 1.97, 56],\n",
       " 'PoliticalVideo': [4, 3.76, 6],\n",
       " 'CanadianPL': [5, 4.47, 20],\n",
       " 'BehavingBadly': [20, 20.0, 0],\n",
       " 'niagara': [3, 2.61, 32],\n",
       " 'NoRulesCalgary': [5, 3.13, 82],\n",
       " 'newbrunswickcanada': [67, 57.28999999999999, 1062],\n",
       " 'trashy': [2, 1.94, 3],\n",
       " 'OttawaSports': [1, 1.0, 0],\n",
       " 'Ontariofood': [1, 1.0, 0],\n",
       " 'radicalmentalhealth': [2, 1.68, 4],\n",
       " 'stalbert': [1, 1.0, 0],\n",
       " 'alpinism': [1, 0.92, 2],\n",
       " 'Torontoevents': [1, 0.83, 2],\n",
       " 'Yukon': [5, 4.55, 4],\n",
       " 'IslandHikers': [1, 0.97, 3],\n",
       " 'domesticgunviolence': [2, 1.25, 0],\n",
       " 'Metric': [3, 2.84, 19],\n",
       " 'WhatWeDointheShadows': [1, 0.96, 10],\n",
       " 'CoronaVirusMontreal': [11, 9.699999999999998, 64],\n",
       " 'fandomnatural': [1, 1.0, 3],\n",
       " 'copaganda': [1, 1.0, 0],\n",
       " 'boogaloos': [1, 0.67, 1],\n",
       " 'KimsConvenience': [7, 6.79, 212],\n",
       " 'AmericaBad': [1, 0.88, 2],\n",
       " 'algonquinpark': [2, 1.92, 46],\n",
       " 'SwordandSorcery': [1, 1.0, 3],\n",
       " 'askfuneraldirectors': [1, 0.94, 8],\n",
       " 'food': [1, 1.0, 0],\n",
       " 'DeFranco': [1, 1.0, 1],\n",
       " 'Airdrie': [1, 0.91, 8],\n",
       " 'PEIpoliticalgroup': [242, 240.42999999999998, 8],\n",
       " 'Sikhpolitics': [1, 1.0, 1],\n",
       " 'ProtectOurForests': [2, 2.0, 0],\n",
       " 'Hatewhenthathappens': [1, 0.95, 0],\n",
       " 'nunavut': [8, 7.74, 2],\n",
       " 'PoliticalCoverage': [1, 1.0, 8],\n",
       " 'CoronaVirusInfo': [1, 1.0, 0],\n",
       " 'MachineThatMakesMoney': [1, 1.0, 0],\n",
       " 'Maxcactus_TrailGuide': [1, 1.0, 0],\n",
       " 'bestofthefray': [1, 0.84, 7],\n",
       " 'USNEWS': [1, 0.86, 0],\n",
       " 'righttorepair': [1, 0.94, 2],\n",
       " 'princegeorge': [1, 1.0, 2],\n",
       " 'CanadianTV': [1, 0.81, 0],\n",
       " 'canadaland': [1, 0.83, 0],\n",
       " 'SherwoodPark': [1, 0.78, 2],\n",
       " 'DailyTechNewsShow': [1, 0.89, 2],\n",
       " 'USA_StratCom': [1, 1.0, 1],\n",
       " 'frogpants': [1, 1.0, 0],\n",
       " 'AncientAliens': [1, 0.95, 1],\n",
       " 'Vanier': [1, 1.0, 0],\n",
       " 'fortmac': [1, 0.96, 7],\n",
       " 'TimHorrortons': [1, 1.0, 0],\n",
       " 'FortMcMurray': [1, 0.99, 1],\n",
       " 'womenshockey': [2, 1.75, 3],\n",
       " 'canadanews': [4, 3.82, 31],\n",
       " 'nwhl': [1, 0.95, 0],\n",
       " 'Government_is_lame': [1, 1.0, 0],\n",
       " 'TheNativeDissident': [14, 14.0, 14],\n",
       " 'northernontario': [7, 6.81, 13],\n",
       " 'FirstNationsCanada': [32, 31.259999999999994, 17],\n",
       " 'chathamkent': [1, 0.81, 0],\n",
       " 'transgender': [2, 1.99, 5],\n",
       " 'OntarioPolitics': [3, 2.84, 10],\n",
       " 'WorldNewsHeadlines': [1, 1.0, 0],\n",
       " 'MetisNation': [1, 1.0, 1],\n",
       " 'crowdfunders': [1, 1.0, 0],\n",
       " 'NWT': [3, 2.75, 3],\n",
       " 'P_C': [20, 19.330000000000002, 18],\n",
       " 'oil': [1, 0.83, 30],\n",
       " 'EverythingScience': [1, 0.96, 3],\n",
       " 'CannadaRetail': [1, 1.0, 0],\n",
       " 'ccg_gcc': [1, 1.0, 1],\n",
       " 'CanadianConservative': [53, 41.62999999999999, 224],\n",
       " 'NewWestEVs': [1, 1.0, 0],\n",
       " 'Trumpet_of_Discord': [1, 1.0, 0],\n",
       " 'nouseforatitle': [1, 1.0, 0],\n",
       " 'pwned': [1, 0.97, 1],\n",
       " 'localdelivery': [3, 3.0, 0],\n",
       " 'solarenergycanada': [2, 1.8599999999999999, 2],\n",
       " 'CITILOP': [1, 1.0, 0],\n",
       " 'MetaAlberta': [6, 4.96, 36],\n",
       " 'POTUSWatch': [1, 0.94, 9],\n",
       " 'Moronavirus': [1, 0.99, 13],\n",
       " 'RemoveMyPhone': [1, 1.0, 0],\n",
       " 'dominionofcanada': [12, 10.23, 15],\n",
       " 'AmalaNetwork': [1, 0.91, 0],\n",
       " 'dawsoncreek': [1, 0.9, 0],\n",
       " 'methanecrisis': [1, 1.0, 0],\n",
       " 'Otters': [1, 0.99, 2],\n",
       " 'ImanVellani': [1, 1.0, 2],\n",
       " 'CanadaToday': [22, 22.0, 0],\n",
       " 'HumanTrafficking': [8, 7.88, 1],\n",
       " 'technews': [1, 0.95, 5],\n",
       " 'WhiteRock': [2, 1.82, 2],\n",
       " 'UnbiasedCanada': [1, 0.86, 1],\n",
       " 'bad_dgu': [3, 1.75, 0],\n",
       " 'News_Construction': [8, 8.0, 0],\n",
       " 'WomenInNews': [5, 4.92, 0],\n",
       " 'worldevents': [2, 1.85, 45],\n",
       " 'PupliftingNews': [2, 1.96, 7],\n",
       " 'TeaExcel': [1, 1.0, 2],\n",
       " 'CCIV': [1, 0.94, 5],\n",
       " 'ThatVeganTeacherisbad': [1, 1.0, 5],\n",
       " 'steinbach': [1, 0.83, 1],\n",
       " 'AsOneDoes': [1, 0.96, 0],\n",
       " 'xxfitnessjournal': [1, 1.0, 0],\n",
       " 'xxfitnessmotivation': [1, 0.69, 2],\n",
       " 'xxfitnesscirclejerk': [1, 0.5, 0],\n",
       " 'Astuff': [1, 1.0, 0],\n",
       " 'realmontreal': [2, 2.0, 5],\n",
       " 'anime_titties': [7, 5.01, 33],\n",
       " 'CoronavirusAB': [2, 1.6800000000000002, 4],\n",
       " 'GlobalNews': [2, 1.3900000000000001, 0],\n",
       " 'RuralNewsNetwork': [5, 5.0, 0],\n",
       " 'CoronavirusON': [7, 7.0, 0],\n",
       " 'InternetAccess': [1, 1.0, 0],\n",
       " 'CanadaBusiness': [64, 64.0, 64],\n",
       " 'climatejustice': [1, 0.86, 0],\n",
       " 'BellevilleOntario': [2, 1.2, 10],\n",
       " 'montrealmusic': [1, 1.0, 0],\n",
       " 'edmundston': [1, 0.5, 0],\n",
       " 'TrumpCivilWar': [1, 0.5, 0],\n",
       " 'NLPolitics': [43, 42.370000000000005, 6],\n",
       " 'climatedisalarm': [1, 0.66, 0],\n",
       " 'tofino': [1, 0.95, 0],\n",
       " 'RonaldReagan': [1, 0.81, 0],\n",
       " 'vancouvercanada': [2, 2.0, 0],\n",
       " 'Xinjiang': [1, 0.91, 0],\n",
       " 'Canada_Politics': [40, 37.019999999999996, 10],\n",
       " 'Canadian_News': [13, 12.48, 3],\n",
       " 'WoodstockNB': [2, 1.33, 0],\n",
       " 'Covid19Origin': [1, 1.0, 1],\n",
       " 'GoodNewsNetwork': [1, 1.0, 0],\n",
       " 'COVID_CANADA': [1972, 1959.3200000000004, 23],\n",
       " 'FawningLiberalMedia': [3, 3.0, 1],\n",
       " 'whatsreallygoinon': [1, 0.67, 0],\n",
       " 'WHHR7': [1, 1.0, 0],\n",
       " 'LGBTQnews': [1, 0.91, 0],\n",
       " 'CanadaRugby': [1, 1.0, 0],\n",
       " 'LockdownSkepticismCAN': [6, 5.430000000000001, 4],\n",
       " 'Stockhouse': [2, 1.75, 0],\n",
       " 'TrueCrimeGenre': [2, 2.0, 1],\n",
       " 'geopolitics2': [1, 0.75, 0],\n",
       " 'NovaScotiaPolitics': [27, 25.380000000000003, 12],\n",
       " 'canadaprivacy': [1, 1.0, 0],\n",
       " 'CoronaVirus_2019_nCoV': [2, 1.54, 0],\n",
       " 'ManitobaPolitics': [23, 20.919999999999998, 32],\n",
       " 'NewNormal': [1, 1.0, 0],\n",
       " 'CanadianFilm': [2, 2.0, 0],\n",
       " 'tlingit': [1, 1.0, 0],\n",
       " 'CoVaxSkeptical': [1, 0.81, 0],\n",
       " 'nakd': [1, 0.73, 0],\n",
       " 'SpruceGrove': [1, 0.75, 1],\n",
       " 'BCpolitics': [36, 32.91, 95],\n",
       " 'WallstreetStonkLottry': [2, 2.0, 0],\n",
       " 'News_Retail': [9, 9.0, 0],\n",
       " 'StudentSkeptics': [1, 1.0, 0],\n",
       " 'InvestingRetards': [1, 1.0, 0],\n",
       " 'maskfreakouts': [1, 1.0, 0],\n",
       " 'LGBTnews': [2, 1.67, 0],\n",
       " 'HeroesUnited': [1, 1.0, 0],\n",
       " 'AnythingOntario': [447, 439.68000000000035, 6],\n",
       " 'NoDAPL': [1, 1.0, 4],\n",
       " 'civocracy': [7, 7.0, 0],\n",
       " 'News_Walmart': [1, 1.0, 0],\n",
       " 'DamnInteresting': [5, 5.0, 1],\n",
       " 'estevan': [2, 1.81, 1],\n",
       " 'wheresthebeef': [1, 1.0, 0],\n",
       " 'China_War': [1, 1.0, 0],\n",
       " 'UglyHumanity': [1, 0.66, 1],\n",
       " 'HotZone': [2, 2.0, 0],\n",
       " 'POCEntertainment': [2, 2.0, 0],\n",
       " 'neutralnews': [1, 0.84, 2],\n",
       " 'ActualidadMundial': [2, 2.0, 0],\n",
       " 'BadCopNoTimbit': [5, 4.87, 2],\n",
       " 'HIVandAIDS': [1, 1.0, 0],\n",
       " 'SaskatchewanPolitics': [34, 31.98, 236],\n",
       " 'VancouverNews': [2, 2.0, 0],\n",
       " 'Bathurst': [1, 0.75, 0],\n",
       " 'Elon_musketeers': [1, 1.0, 0],\n",
       " 'NewsfeedForWork': [41, 40.33, 1],\n",
       " 'News_HealthBiotech': [7, 7.0, 2],\n",
       " 'gorecrowsociety': [1, 1.0, 0],\n",
       " 'EvolveSustain': [7, 7.0, 0],\n",
       " 'News_Food': [24, 24.0, 1],\n",
       " 'JustBadNews': [5, 4.5, 5],\n",
       " 'Trump_Idiocy': [2, 1.67, 0],\n",
       " 'News_Entertainment': [1, 1.0, 0],\n",
       " 'vanhousing': [3, 2.39, 1],\n",
       " 'News_Education': [24, 23.67, 0],\n",
       " 'electionReformNews': [2, 2.0, 0],\n",
       " 'News_Transportation': [12, 12.0, 0],\n",
       " 'HumanTraffickingNews': [2, 2.0, 0],\n",
       " 'News_RealEstate': [21, 20.67, 1],\n",
       " 'News_facebook': [1, 1.0, 0],\n",
       " 'News_OilAndEnergy': [18, 16.0, 6],\n",
       " 'politics2021': [1, 0.66, 0],\n",
       " 'Wuhan_Virus': [1, 1.0, 1],\n",
       " 'CoV2Canada': [1, 1.0, 0],\n",
       " 'greenpartybc': [2, 1.7, 0],\n",
       " 'USUnited': [1, 1.0, 1],\n",
       " 'News_Utility': [22, 22.0, 1],\n",
       " 'Positive_News': [2, 1.8900000000000001, 1],\n",
       " 'InMemoriamCOVID': [1, 0.93, 0],\n",
       " 'larryking': [1, 1.0, 0],\n",
       " 'notthebeaverton': [7, 6.91, 41],\n",
       " 'CoronavirusToronto': [1, 1.0, 0],\n",
       " 'CoronavirusOntario': [1, 0.71, 1],\n",
       " 'TrumpLegalTalk': [1, 1.0, 0],\n",
       " 'CoronavirusPandemic': [2, 1.81, 1],\n",
       " 'CoronaVirusWorldNews': [1, 1.0, 0],\n",
       " 'Toadbook': [2, 1.67, 0],\n",
       " 'Quebec_Politics': [4, 3.76, 0],\n",
       " 'ClimateCrisisCanada': [8, 7.42, 1],\n",
       " 'PEIpolitics': [23, 23.0, 2],\n",
       " 'CBC2': [502, 496.41999999999996, 1],\n",
       " 'OntarioNews': [151, 148.34, 10],\n",
       " 'YarnArt': [1, 1.0, 0],\n",
       " 'CanadianMusicNews': [8, 8.0, 0],\n",
       " 'nbpolitics': [25, 23.88, 74],\n",
       " 'YukonPolitics': [8, 6.0, 2],\n",
       " 'NunavutPolitics': [2, 2.0, 0],\n",
       " 'NWTPolitics': [7, 6.82, 3],\n",
       " 'VancouverIslandJobs': [1, 1.0, 1],\n",
       " 'xxfitness_classic': [1, 1.0, 2],\n",
       " 'xxfitnesspals': [1, 0.33, 0],\n",
       " 'DeltaBritishColumbia': [2, 1.68, 1],\n",
       " 'AtlanticCanada': [1, 1.0, 0],\n",
       " 'CoronavirusChurches': [1, 1.0, 0],\n",
       " 'Alouettes': [1, 1.0, 0],\n",
       " 'MaritimeLaunch': [1, 1.0, 1],\n",
       " 'actualzombie': [2, 2.0, 0],\n",
       " 'CanadianAtheism': [1, 1.0, 3],\n",
       " 'GreenPartyNB': [2, 1.76, 0],\n",
       " 'GrandFalls': [2, 1.46, 0],\n",
       " 'Minto': [1, 0.5, 0],\n",
       " 'Hampton': [2, 2.0, 0],\n",
       " 'hyperbarics': [1, 1.0, 0],\n",
       " 'NOKXL': [1, 1.0, 0],\n",
       " 'somebody_somewhere': [1, 1.0, 0],\n",
       " 'UAlberta2': [1, 1.0, 0],\n",
       " 'LiberalScandalWatch': [1, 0.82, 0],\n",
       " 'TheMapleCrown': [1, 1.0, 0],\n",
       " 'GaryAndHisDemons': [1, 0.97, 3],\n",
       " 'TorontoCanada': [2, 2.0, 0],\n",
       " 'CrownLandsMusic': [1, 1.0, 0],\n",
       " 'MindBleach': [1, 0.85, 0]}"
      ]
     },
     "execution_count": 400,
     "metadata": {},
     "output_type": "execute_result"
    }
   ],
   "source": [
    "ns_subreddit_01['cbc.ca']"
   ]
  },
  {
   "cell_type": "code",
   "execution_count": 401,
   "metadata": {},
   "outputs": [
    {
     "data": {
      "text/plain": [
       "<AxesSubplot:ylabel='Count'>"
      ]
     },
     "execution_count": 401,
     "metadata": {},
     "output_type": "execute_result"
    },
    {
     "data": {
      "image/png": "[encoded data removed]",
      "text/plain": [
       "<Figure size 432x288 with 1 Axes>"
      ]
     },
     "metadata": {},
     "output_type": "display_data"
    }
   ],
   "source": [
    "sns.histplot(list(mention_count.values()), log_scale=True)"
   ]
  },
  {
   "cell_type": "code",
   "execution_count": 402,
   "metadata": {},
   "outputs": [
    {
     "data": {
      "text/plain": [
       "<AxesSubplot:ylabel='Count'>"
      ]
     },
     "execution_count": 402,
     "metadata": {},
     "output_type": "execute_result"
    },
    {
     "data": {
      "image/png": "[encoded data removed]",
      "text/plain": [
       "<Figure size 432x288 with 1 Axes>"
      ]
     },
     "metadata": {},
     "output_type": "display_data"
    }
   ],
   "source": [
    "sns.histplot(list([k for k in mention_count.values() if k <100000]), log_scale=True)"
   ]
  },
  {
   "cell_type": "code",
   "execution_count": 403,
   "metadata": {},
   "outputs": [
    {
     "data": {
      "text/plain": [
       "35.31973021429181"
      ]
     },
     "execution_count": 403,
     "metadata": {},
     "output_type": "execute_result"
    }
   ],
   "source": [
    "len([k for k in mention_count.values() if k <5])*100/len(mention_count)"
   ]
  },
  {
   "cell_type": "code",
   "execution_count": 404,
   "metadata": {},
   "outputs": [
    {
     "data": {
      "text/plain": [
       "15226.9"
      ]
     },
     "execution_count": 404,
     "metadata": {},
     "output_type": "execute_result"
    }
   ],
   "source": [
    "(1-0.35)*len(mention_count)"
   ]
  },
  {
   "cell_type": "markdown",
   "metadata": {},
   "source": [
    "## For each subreddit let's count how many news sources were mentioned in it"
   ]
  },
  {
   "cell_type": "markdown",
   "metadata": {},
   "source": [
    "Counting how many news sources were mentioned in each subreddit"
   ]
  },
  {
   "cell_type": "code",
   "execution_count": 405,
   "metadata": {},
   "outputs": [],
   "source": [
    "nsc_count = dict()\n",
    "for sr in sr_union:\n",
    "    nsc_count[sr] = len(set(subreddit_ns_jan.get(sr, dict()).keys()) \n",
    "                               | set(subreddit_ns_feb.get(sr, dict()).keys()) \n",
    "                               | set(subreddit_ns_march.get(sr, dict()).keys()) \n",
    "                               | set(subreddit_ns_april.get(sr, dict()).keys())\n",
    "                               | set(subreddit_ns_may.get(sr, dict()).keys()) \n",
    "                               | set(subreddit_ns_jun.get(sr, dict()).keys()))"
   ]
  },
  {
   "cell_type": "markdown",
   "metadata": {},
   "source": [
    "`nsc_count` stores how many news sources appear in each subreddit."
   ]
  },
  {
   "cell_type": "code",
   "execution_count": 406,
   "metadata": {},
   "outputs": [
    {
     "data": {
      "text/plain": [
       "104"
      ]
     },
     "execution_count": 406,
     "metadata": {},
     "output_type": "execute_result"
    }
   ],
   "source": [
    "nsc_count['aww']"
   ]
  },
  {
   "cell_type": "code",
   "execution_count": 407,
   "metadata": {},
   "outputs": [
    {
     "data": {
      "text/plain": [
       "0"
      ]
     },
     "execution_count": 407,
     "metadata": {},
     "output_type": "execute_result"
    }
   ],
   "source": [
    "len([k for k in nsc_count if nsc_count[k]<1])"
   ]
  },
  {
   "cell_type": "code",
   "execution_count": 408,
   "metadata": {},
   "outputs": [
    {
     "data": {
      "text/plain": [
       "{1: 15474,\n",
       " 2: 5140,\n",
       " 3: 3106,\n",
       " 4: 2196,\n",
       " 5: 1656,\n",
       " 6: 1456,\n",
       " 7: 1126,\n",
       " 8: 1031,\n",
       " 9: 897,\n",
       " 10: 748,\n",
       " 11: 655,\n",
       " 12: 565,\n",
       " 13: 532,\n",
       " 14: 475,\n",
       " 16: 396,\n",
       " 15: 385,\n",
       " 18: 344,\n",
       " 17: 339,\n",
       " 19: 313,\n",
       " 20: 302,\n",
       " 22: 240,\n",
       " 21: 236,\n",
       " 24: 208,\n",
       " 23: 207,\n",
       " 25: 206,\n",
       " 27: 189,\n",
       " 26: 171,\n",
       " 29: 170,\n",
       " 28: 157,\n",
       " 30: 148,\n",
       " 32: 141,\n",
       " 31: 137,\n",
       " 33: 132,\n",
       " 35: 117,\n",
       " 34: 116,\n",
       " 36: 107,\n",
       " 37: 106,\n",
       " 39: 103,\n",
       " 40: 97,\n",
       " 42: 83,\n",
       " 43: 78,\n",
       " 41: 78,\n",
       " 38: 77,\n",
       " 44: 76,\n",
       " 49: 75,\n",
       " 52: 74,\n",
       " 45: 68,\n",
       " 51: 65,\n",
       " 47: 63,\n",
       " 53: 61,\n",
       " 48: 60,\n",
       " 50: 58,\n",
       " 46: 58,\n",
       " 56: 53,\n",
       " 55: 53,\n",
       " 59: 53,\n",
       " 58: 45,\n",
       " 63: 43,\n",
       " 61: 43,\n",
       " 54: 42,\n",
       " 66: 40,\n",
       " 62: 40,\n",
       " 57: 36,\n",
       " 67: 36,\n",
       " 77: 35,\n",
       " 68: 34,\n",
       " 64: 34,\n",
       " 60: 34,\n",
       " 80: 33,\n",
       " 65: 33,\n",
       " 71: 32,\n",
       " 74: 31,\n",
       " 82: 29,\n",
       " 69: 28,\n",
       " 73: 28,\n",
       " 70: 27,\n",
       " 75: 26,\n",
       " 88: 26,\n",
       " 72: 26,\n",
       " 86: 23,\n",
       " 93: 23,\n",
       " 78: 22,\n",
       " 81: 22,\n",
       " 85: 22,\n",
       " 84: 21,\n",
       " 83: 21,\n",
       " 110: 20,\n",
       " 79: 20,\n",
       " 76: 20,\n",
       " 101: 19,\n",
       " 91: 19,\n",
       " 89: 19,\n",
       " 116: 18,\n",
       " 103: 18,\n",
       " 97: 18,\n",
       " 94: 18,\n",
       " 87: 18,\n",
       " 98: 17,\n",
       " 104: 17,\n",
       " 118: 17,\n",
       " 107: 15,\n",
       " 112: 15,\n",
       " 132: 15,\n",
       " 140: 15,\n",
       " 95: 15,\n",
       " 111: 15,\n",
       " 124: 15,\n",
       " 135: 14,\n",
       " 108: 14,\n",
       " 92: 14,\n",
       " 114: 14,\n",
       " 133: 14,\n",
       " 130: 14,\n",
       " 102: 14,\n",
       " 117: 13,\n",
       " 105: 13,\n",
       " 141: 13,\n",
       " 90: 13,\n",
       " 128: 12,\n",
       " 113: 12,\n",
       " 120: 12,\n",
       " 127: 12,\n",
       " 96: 12,\n",
       " 143: 11,\n",
       " 137: 11,\n",
       " 119: 11,\n",
       " 131: 11,\n",
       " 122: 11,\n",
       " 126: 11,\n",
       " 100: 11,\n",
       " 162: 11,\n",
       " 136: 10,\n",
       " 106: 10,\n",
       " 109: 10,\n",
       " 142: 9,\n",
       " 99: 9,\n",
       " 139: 9,\n",
       " 205: 9,\n",
       " 171: 9,\n",
       " 148: 9,\n",
       " 167: 9,\n",
       " 138: 9,\n",
       " 156: 8,\n",
       " 188: 8,\n",
       " 146: 8,\n",
       " 129: 8,\n",
       " 147: 8,\n",
       " 152: 8,\n",
       " 230: 8,\n",
       " 121: 8,\n",
       " 158: 8,\n",
       " 203: 7,\n",
       " 166: 7,\n",
       " 241: 7,\n",
       " 160: 7,\n",
       " 172: 7,\n",
       " 247: 7,\n",
       " 163: 7,\n",
       " 151: 7,\n",
       " 185: 6,\n",
       " 125: 6,\n",
       " 183: 6,\n",
       " 159: 6,\n",
       " 161: 6,\n",
       " 239: 6,\n",
       " 175: 6,\n",
       " 201: 6,\n",
       " 181: 6,\n",
       " 123: 6,\n",
       " 145: 6,\n",
       " 234: 6,\n",
       " 274: 6,\n",
       " 210: 5,\n",
       " 243: 5,\n",
       " 279: 5,\n",
       " 190: 5,\n",
       " 196: 5,\n",
       " 153: 5,\n",
       " 217: 5,\n",
       " 218: 5,\n",
       " 154: 5,\n",
       " 115: 5,\n",
       " 479: 5,\n",
       " 191: 5,\n",
       " 134: 5,\n",
       " 186: 5,\n",
       " 238: 5,\n",
       " 334: 5,\n",
       " 165: 4,\n",
       " 164: 4,\n",
       " 199: 4,\n",
       " 193: 4,\n",
       " 331: 4,\n",
       " 184: 4,\n",
       " 144: 4,\n",
       " 275: 4,\n",
       " 232: 4,\n",
       " 289: 4,\n",
       " 198: 4,\n",
       " 149: 4,\n",
       " 235: 4,\n",
       " 216: 4,\n",
       " 157: 4,\n",
       " 240: 4,\n",
       " 187: 4,\n",
       " 249: 4,\n",
       " 314: 4,\n",
       " 200: 4,\n",
       " 194: 4,\n",
       " 226: 4,\n",
       " 263: 4,\n",
       " 182: 4,\n",
       " 197: 4,\n",
       " 267: 3,\n",
       " 204: 3,\n",
       " 189: 3,\n",
       " 321: 3,\n",
       " 219: 3,\n",
       " 242: 3,\n",
       " 269: 3,\n",
       " 178: 3,\n",
       " 176: 3,\n",
       " 192: 3,\n",
       " 245: 3,\n",
       " 366: 3,\n",
       " 231: 3,\n",
       " 266: 3,\n",
       " 150: 3,\n",
       " 378: 3,\n",
       " 214: 3,\n",
       " 250: 3,\n",
       " 325: 3,\n",
       " 155: 3,\n",
       " 233: 3,\n",
       " 253: 3,\n",
       " 180: 3,\n",
       " 280: 3,\n",
       " 257: 3,\n",
       " 360: 3,\n",
       " 237: 3,\n",
       " 317: 3,\n",
       " 265: 3,\n",
       " 444: 3,\n",
       " 169: 3,\n",
       " 322: 3,\n",
       " 339: 3,\n",
       " 215: 3,\n",
       " 252: 3,\n",
       " 311: 3,\n",
       " 229: 3,\n",
       " 291: 3,\n",
       " 207: 3,\n",
       " 195: 3,\n",
       " 228: 3,\n",
       " 258: 2,\n",
       " 256: 2,\n",
       " 255: 2,\n",
       " 212: 2,\n",
       " 170: 2,\n",
       " 211: 2,\n",
       " 529: 2,\n",
       " 281: 2,\n",
       " 348: 2,\n",
       " 225: 2,\n",
       " 179: 2,\n",
       " 286: 2,\n",
       " 408: 2,\n",
       " 364: 2,\n",
       " 300: 2,\n",
       " 375: 2,\n",
       " 303: 2,\n",
       " 316: 2,\n",
       " 328: 2,\n",
       " 336: 2,\n",
       " 244: 2,\n",
       " 270: 2,\n",
       " 623: 2,\n",
       " 259: 2,\n",
       " 455: 2,\n",
       " 349: 2,\n",
       " 174: 2,\n",
       " 523: 2,\n",
       " 288: 2,\n",
       " 452: 2,\n",
       " 539: 2,\n",
       " 227: 2,\n",
       " 320: 2,\n",
       " 434: 2,\n",
       " 287: 2,\n",
       " 413: 2,\n",
       " 254: 2,\n",
       " 350: 2,\n",
       " 260: 2,\n",
       " 222: 2,\n",
       " 726: 2,\n",
       " 284: 2,\n",
       " 453: 2,\n",
       " 277: 2,\n",
       " 572: 2,\n",
       " 262: 2,\n",
       " 437: 2,\n",
       " 522: 2,\n",
       " 213: 2,\n",
       " 278: 2,\n",
       " 264: 2,\n",
       " 308: 2,\n",
       " 580: 2,\n",
       " 209: 2,\n",
       " 537: 2,\n",
       " 307: 2,\n",
       " 333: 2,\n",
       " 871: 2,\n",
       " 471: 2,\n",
       " 318: 2,\n",
       " 478: 2,\n",
       " 373: 2,\n",
       " 206: 2,\n",
       " 268: 2,\n",
       " 3044: 1,\n",
       " 297: 1,\n",
       " 202: 1,\n",
       " 345: 1,\n",
       " 620: 1,\n",
       " 610: 1,\n",
       " 740: 1,\n",
       " 1754: 1,\n",
       " 528: 1,\n",
       " 403: 1,\n",
       " 389: 1,\n",
       " 817: 1,\n",
       " 1432: 1,\n",
       " 472: 1,\n",
       " 693: 1,\n",
       " 2613: 1,\n",
       " 329: 1,\n",
       " 1592: 1,\n",
       " 603: 1,\n",
       " 388: 1,\n",
       " 507: 1,\n",
       " 326: 1,\n",
       " 520: 1,\n",
       " 761: 1,\n",
       " 450: 1,\n",
       " 594: 1,\n",
       " 313: 1,\n",
       " 663: 1,\n",
       " 449: 1,\n",
       " 306: 1,\n",
       " 599: 1,\n",
       " 589: 1,\n",
       " 624: 1,\n",
       " 367: 1,\n",
       " 932: 1,\n",
       " 293: 1,\n",
       " 294: 1,\n",
       " 381: 1,\n",
       " 815: 1,\n",
       " 418: 1,\n",
       " 309: 1,\n",
       " 562: 1,\n",
       " 1061: 1,\n",
       " 638: 1,\n",
       " 426: 1,\n",
       " 248: 1,\n",
       " 312: 1,\n",
       " 327: 1,\n",
       " 639: 1,\n",
       " 564: 1,\n",
       " 748: 1,\n",
       " 545: 1,\n",
       " 512: 1,\n",
       " 725: 1,\n",
       " 1423: 1,\n",
       " 1543: 1,\n",
       " 236: 1,\n",
       " 292: 1,\n",
       " 517: 1,\n",
       " 438: 1,\n",
       " 889: 1,\n",
       " 492: 1,\n",
       " 342: 1,\n",
       " 832: 1,\n",
       " 417: 1,\n",
       " 888: 1,\n",
       " 431: 1,\n",
       " 407: 1,\n",
       " 920: 1,\n",
       " 1074: 1,\n",
       " 296: 1,\n",
       " 705: 1,\n",
       " 544: 1,\n",
       " 443: 1,\n",
       " 729: 1,\n",
       " 475: 1,\n",
       " 1999: 1,\n",
       " 2309: 1,\n",
       " 782: 1,\n",
       " 880: 1,\n",
       " 793: 1,\n",
       " 3452: 1,\n",
       " 323: 1,\n",
       " 816: 1,\n",
       " 414: 1,\n",
       " 604: 1,\n",
       " 625: 1,\n",
       " 505: 1,\n",
       " 743: 1,\n",
       " 363: 1,\n",
       " 391: 1,\n",
       " 398: 1,\n",
       " 395: 1,\n",
       " 764: 1,\n",
       " 2564: 1,\n",
       " 251: 1,\n",
       " 282: 1,\n",
       " 305: 1,\n",
       " 361: 1,\n",
       " 454: 1,\n",
       " 584: 1,\n",
       " 442: 1,\n",
       " 609: 1,\n",
       " 525: 1,\n",
       " 295: 1,\n",
       " 573: 1,\n",
       " 433: 1,\n",
       " 355: 1,\n",
       " 1200: 1,\n",
       " 676: 1,\n",
       " 387: 1,\n",
       " 446: 1,\n",
       " 587: 1,\n",
       " 1273: 1,\n",
       " 540: 1,\n",
       " 1026: 1,\n",
       " 622: 1,\n",
       " 386: 1,\n",
       " 410: 1,\n",
       " 722: 1,\n",
       " 876: 1,\n",
       " 208: 1,\n",
       " 597: 1,\n",
       " 370: 1,\n",
       " 298: 1,\n",
       " 341: 1,\n",
       " 500: 1,\n",
       " 719: 1,\n",
       " 340: 1,\n",
       " 510: 1,\n",
       " 273: 1,\n",
       " 473: 1,\n",
       " 346: 1,\n",
       " 484: 1,\n",
       " 1064: 1,\n",
       " 626: 1,\n",
       " 509: 1,\n",
       " 393: 1,\n",
       " 3603: 1,\n",
       " 402: 1,\n",
       " 551: 1,\n",
       " 1050: 1,\n",
       " 2099: 1,\n",
       " 476: 1,\n",
       " 550: 1,\n",
       " 497: 1,\n",
       " 177: 1,\n",
       " 506: 1,\n",
       " 304: 1,\n",
       " 276: 1,\n",
       " 559: 1,\n",
       " 493: 1,\n",
       " 483: 1,\n",
       " 1043: 1,\n",
       " 358: 1,\n",
       " 613: 1,\n",
       " 271: 1,\n",
       " 1187: 1,\n",
       " 485: 1,\n",
       " 891: 1,\n",
       " 670: 1,\n",
       " 1136: 1,\n",
       " 731: 1,\n",
       " 399: 1,\n",
       " 532: 1,\n",
       " 1523: 1,\n",
       " 553: 1,\n",
       " 2949: 1,\n",
       " 405: 1,\n",
       " 1165: 1,\n",
       " 261: 1,\n",
       " 1181: 1,\n",
       " 734: 1,\n",
       " 1338: 1,\n",
       " 421: 1,\n",
       " 489: 1,\n",
       " 419: 1,\n",
       " 224: 1,\n",
       " 2255: 1,\n",
       " 221: 1,\n",
       " 430: 1,\n",
       " 583: 1,\n",
       " 374: 1,\n",
       " 1729: 1,\n",
       " 682: 1,\n",
       " 574: 1,\n",
       " 546: 1,\n",
       " 2444: 1,\n",
       " 1311: 1,\n",
       " 344: 1,\n",
       " 561: 1,\n",
       " 999: 1,\n",
       " 423: 1,\n",
       " 600: 1,\n",
       " 246: 1,\n",
       " 396: 1,\n",
       " 846: 1,\n",
       " 338: 1,\n",
       " 611: 1,\n",
       " 526: 1,\n",
       " 534: 1,\n",
       " 1877: 1,\n",
       " 427: 1,\n",
       " 392: 1,\n",
       " 223: 1,\n",
       " 1038: 1,\n",
       " 927: 1,\n",
       " 886: 1}"
      ]
     },
     "execution_count": 408,
     "metadata": {},
     "output_type": "execute_result"
    }
   ],
   "source": [
    "nsc_count_freq = dict(Counter(nsc_count.values()).most_common())\n",
    "nsc_count_freq"
   ]
  },
  {
   "cell_type": "markdown",
   "metadata": {},
   "source": [
    "`nsc_count_freq` keeps track of how many news sources appear in *n* subreddits for all possible *n*."
   ]
  },
  {
   "cell_type": "code",
   "execution_count": 409,
   "metadata": {},
   "outputs": [
    {
     "data": {
      "text/plain": [
       "3603"
      ]
     },
     "execution_count": 409,
     "metadata": {},
     "output_type": "execute_result"
    }
   ],
   "source": [
    "max(nsc_count_freq.keys())"
   ]
  },
  {
   "cell_type": "code",
   "execution_count": 410,
   "metadata": {},
   "outputs": [
    {
     "name": "stdout",
     "output_type": "stream",
     "text": [
      "COVID_CANADA has 3603 news sources mentioned in it.\n",
      "news has 3452 news sources mentioned in it.\n",
      "politics has 3044 news sources mentioned in it.\n",
      "todayilearned has 2949 news sources mentioned in it.\n",
      "Coronavirus has 2613 news sources mentioned in it.\n",
      "worldnews has 2564 news sources mentioned in it.\n",
      "nottheonion has 2444 news sources mentioned in it.\n",
      "prisons has 2309 news sources mentioned in it.\n",
      "NoFilterNews has 2255 news sources mentioned in it.\n",
      "conspiracy has 2099 news sources mentioned in it.\n",
      "wallstreetbets has 1999 news sources mentioned in it.\n",
      "tomorrowsworld has 1877 news sources mentioned in it.\n",
      "autotldr has 1754 news sources mentioned in it.\n",
      "Conservative has 1729 news sources mentioned in it.\n",
      "NoNewNormal has 1592 news sources mentioned in it.\n",
      "CryptoCurrency has 1543 news sources mentioned in it.\n",
      "technology has 1523 news sources mentioned in it.\n",
      "europe has 1432 news sources mentioned in it.\n",
      "electionReformNews has 1423 news sources mentioned in it.\n",
      "HumanTraffickingNews has 1338 news sources mentioned in it.\n",
      "crowdfunders has 1311 news sources mentioned in it.\n",
      "environment has 1273 news sources mentioned in it.\n"
     ]
    }
   ],
   "source": [
    "nsc_ranked = Counter(nsc_count).most_common()\n",
    "\n",
    "for t in nsc_ranked:\n",
    "    sr, co = t\n",
    "    if co > 1200:\n",
    "        print(f\"{sr} has {co} news sources mentioned in it.\")"
   ]
  },
  {
   "cell_type": "code",
   "execution_count": 411,
   "metadata": {},
   "outputs": [
    {
     "data": {
      "text/plain": [
       "True"
      ]
     },
     "execution_count": 411,
     "metadata": {},
     "output_type": "execute_result"
    }
   ],
   "source": [
    "sum(nsc_count_freq.values()) == len(sr_union)"
   ]
  },
  {
   "cell_type": "code",
   "execution_count": 412,
   "metadata": {},
   "outputs": [],
   "source": [
    "import itertools"
   ]
  },
  {
   "cell_type": "code",
   "execution_count": 413,
   "metadata": {},
   "outputs": [],
   "source": [
    "nsc = list(itertools.chain.from_iterable(itertools.repeat(k,v) for k,v in nsc_count_freq.items()))"
   ]
  },
  {
   "cell_type": "code",
   "execution_count": 414,
   "metadata": {
    "scrolled": true
   },
   "outputs": [
    {
     "data": {
      "text/plain": [
       "Text(0.5, 1.0, 'number of subreddits with x news sources')"
      ]
     },
     "execution_count": 414,
     "metadata": {},
     "output_type": "execute_result"
    },
    {
     "data": {
      "image/png": "[encoded data removed]",
      "text/plain": [
       "<Figure size 432x288 with 1 Axes>"
      ]
     },
     "metadata": {},
     "output_type": "display_data"
    }
   ],
   "source": [
    "sns.histplot(nsc, log_scale=True)\n",
    "plt.xlabel(\"number of news source\")\n",
    "plt.ylabel(\"subreddit count\")\n",
    "plt.title(\"number of subreddits with x news sources\")"
   ]
  },
  {
   "cell_type": "code",
   "execution_count": 415,
   "metadata": {},
   "outputs": [
    {
     "data": {
      "text/plain": [
       "6966"
      ]
     },
     "execution_count": 415,
     "metadata": {},
     "output_type": "execute_result"
    }
   ],
   "source": [
    "len([n for n in nsc if n>=20])"
   ]
  },
  {
   "cell_type": "markdown",
   "metadata": {},
   "source": [
    "I want to investigate and choose a subset of subreddits in the set of those that have 20 or more different news sources."
   ]
  },
  {
   "cell_type": "code",
   "execution_count": 416,
   "metadata": {},
   "outputs": [],
   "source": [
    "nsc_ge20 = []\n",
    "for n in nsc_count:\n",
    "    if nsc_count[n] >= 20:\n",
    "        nsc_ge20.append(n)"
   ]
  },
  {
   "cell_type": "code",
   "execution_count": 417,
   "metadata": {},
   "outputs": [
    {
     "data": {
      "text/plain": [
       "6966"
      ]
     },
     "execution_count": 417,
     "metadata": {},
     "output_type": "execute_result"
    }
   ],
   "source": [
    "len(nsc_ge20)"
   ]
  },
  {
   "cell_type": "code",
   "execution_count": 418,
   "metadata": {},
   "outputs": [],
   "source": [
    "import csv"
   ]
  },
  {
   "cell_type": "markdown",
   "metadata": {},
   "source": [
    "```\n",
    "with open(\"nsc_ge20.xlsx\", \"w\", newline='', encoding=\"utf-8\") as c:\n",
    "    cw = csv.writer(c, delimiter=\",\", dialect=\"excel\")\n",
    "    for n in nsc_ge20:\n",
    "        cw.writerow([n,\"https://www.reddit.com/r/{}\".format(n)])\n",
    "```"
   ]
  },
  {
   "cell_type": "code",
   "execution_count": 419,
   "metadata": {},
   "outputs": [
    {
     "data": {
      "text/plain": [
       "{'bbc.co.uk': [3, 2.93, 23],\n",
       " 'mit.edu': [1, 1.0, 0],\n",
       " 'wiktionary.org': [2, 2.0, 0]}"
      ]
     },
     "execution_count": 419,
     "metadata": {},
     "output_type": "execute_result"
    }
   ],
   "source": [
    "subreddit_ns_jan[\"learnwelsh\"]"
   ]
  },
  {
   "cell_type": "markdown",
   "metadata": {},
   "source": [
    "How many subreddits only mentioned 5 news sources or less?"
   ]
  },
  {
   "cell_type": "code",
   "execution_count": 420,
   "metadata": {},
   "outputs": [],
   "source": [
    "def pct_subreddits_mentioning_k_newssources(ks):\n",
    "    sr_mention_i_nsc = [k for k in nsc_count if nsc_count[k] <= ks]\n",
    "    count = len(sr_mention_i_nsc)\n",
    "    print(\"There are {} subreddits mentioning in only {} news sources or less ({}%)\".format(count, ks, count/len(sr_union)))\n",
    "    return count/len(sr_union)"
   ]
  },
  {
   "cell_type": "code",
   "execution_count": 421,
   "metadata": {},
   "outputs": [
    {
     "name": "stdout",
     "output_type": "stream",
     "text": [
      "There are 15474 subreddits mentioning in only 1 news sources or less (0.3532876712328767%)\n"
     ]
    },
    {
     "data": {
      "text/plain": [
       "0.3532876712328767"
      ]
     },
     "execution_count": 421,
     "metadata": {},
     "output_type": "execute_result"
    }
   ],
   "source": [
    "pct_subreddits_mentioning_k_newssources(1)"
   ]
  },
  {
   "cell_type": "code",
   "execution_count": 422,
   "metadata": {
    "scrolled": true
   },
   "outputs": [
    {
     "data": {
      "text/plain": [
       "17.059817351598173"
      ]
     },
     "execution_count": 422,
     "metadata": {},
     "output_type": "execute_result"
    }
   ],
   "source": [
    "# mean\n",
    "statistics.mean(nsc)"
   ]
  },
  {
   "cell_type": "code",
   "execution_count": 423,
   "metadata": {},
   "outputs": [
    {
     "data": {
      "text/plain": [
       "3.0"
      ]
     },
     "execution_count": 423,
     "metadata": {},
     "output_type": "execute_result"
    }
   ],
   "source": [
    "# median\n",
    "statistics.median(nsc)"
   ]
  },
  {
   "cell_type": "markdown",
   "metadata": {},
   "source": [
    "## For each subreddit let's count total submissions that are news source related"
   ]
  },
  {
   "cell_type": "code",
   "execution_count": 424,
   "metadata": {},
   "outputs": [],
   "source": [
    "def get_submission_count(sb):\n",
    "    \"\"\"get total mention count of ns in all six months\"\"\"\n",
    "    count = 0\n",
    "    files = [subreddit_ns_jan, subreddit_ns_feb, subreddit_ns_march, subreddit_ns_april, subreddit_ns_may, subreddit_ns_jun]\n",
    "    for f in files:\n",
    "        sb_dict = f.get(sb, dict())\n",
    "        if len(sb_dict) > 0:\n",
    "            mentions = sum([m[0] for m in sb_dict.values()])\n",
    "            count += mentions\n",
    "    return count"
   ]
  },
  {
   "cell_type": "code",
   "execution_count": 425,
   "metadata": {},
   "outputs": [],
   "source": [
    "mention_count = dict()\n",
    "for sb in sr_union:\n",
    "    mention_count[sb] = get_submission_count(sb)"
   ]
  },
  {
   "cell_type": "code",
   "execution_count": 426,
   "metadata": {
    "scrolled": true
   },
   "outputs": [
    {
     "data": {
      "text/plain": [
       "160.93561643835616"
      ]
     },
     "execution_count": 426,
     "metadata": {},
     "output_type": "execute_result"
    }
   ],
   "source": [
    "statistics.mean(mention_count.values())"
   ]
  },
  {
   "cell_type": "code",
   "execution_count": 427,
   "metadata": {},
   "outputs": [
    {
     "data": {
      "text/plain": [
       "3216.3764939913694"
      ]
     },
     "execution_count": 427,
     "metadata": {},
     "output_type": "execute_result"
    }
   ],
   "source": [
    "statistics.stdev(mention_count.values())"
   ]
  },
  {
   "cell_type": "code",
   "execution_count": 428,
   "metadata": {},
   "outputs": [
    {
     "data": {
      "text/plain": [
       "5.0"
      ]
     },
     "execution_count": 428,
     "metadata": {},
     "output_type": "execute_result"
    }
   ],
   "source": [
    "statistics.median(mention_count.values())"
   ]
  },
  {
   "cell_type": "code",
   "execution_count": 429,
   "metadata": {
    "scrolled": true
   },
   "outputs": [
    {
     "data": {
      "text/plain": [
       "43800"
      ]
     },
     "execution_count": 429,
     "metadata": {},
     "output_type": "execute_result"
    }
   ],
   "source": [
    "len(mention_count)"
   ]
  },
  {
   "cell_type": "code",
   "execution_count": 430,
   "metadata": {},
   "outputs": [
    {
     "data": {
      "text/plain": [
       "[('AutoNewspaper', 582301),\n",
       " ('politics', 136901),\n",
       " ('TheNewsFeed', 91784),\n",
       " ('news', 84659),\n",
       " ('TrendingQuickTVnews', 82824),\n",
       " ('COVID_CANADA', 76571),\n",
       " ('worldnews', 68589),\n",
       " ('Conservative', 53943),\n",
       " ('THEHINDUauto', 44130),\n",
       " ('niuz', 43845),\n",
       " ('NoFilterNews', 43262),\n",
       " ('FakeCollegeFootball', 41241),\n",
       " ('nofeenews', 40684),\n",
       " ('TORONTOSTARauto', 39281),\n",
       " ('trendandstyle', 38133),\n",
       " ('CertifiedNews', 38011),\n",
       " ('WrestlingBreakingNews', 37277),\n",
       " ('FOXauto', 36228),\n",
       " ('NewsfeedForWork', 34863),\n",
       " ('Coronavirus', 34076)]"
      ]
     },
     "execution_count": 430,
     "metadata": {},
     "output_type": "execute_result"
    }
   ],
   "source": [
    "Counter(mention_count).most_common(20)"
   ]
  },
  {
   "cell_type": "code",
   "execution_count": 431,
   "metadata": {},
   "outputs": [
    {
     "data": {
      "text/plain": [
       "{'todayilearned': [17, 14.780000000000001, 2038],\n",
       " 'JoeRogan': [1, 0.76, 3],\n",
       " 'knowyourshit': [3, 2.92, 1],\n",
       " 'collapse': [7, 6.280000000000001, 58],\n",
       " 'marginal': [3, 3.0, 0],\n",
       " 'conspiracy': [11, 8.9, 649],\n",
       " 'politics': [121, 107.37999999999998, 227661],\n",
       " 'CPTSD': [1, 1.0, 1],\n",
       " 'VideoEditing': [1, 0.98, 38],\n",
       " 'wallstreetbets': [15, 13.129999999999999, 115],\n",
       " 'hackernews': [8, 5.92, 8],\n",
       " 'patient_hackernews': [8, 8.0, 8],\n",
       " 'unitedkingdom': [2, 1.82, 19],\n",
       " 'Catholicism': [1, 1.0, 2],\n",
       " 'books': [6, 5.2, 15],\n",
       " 'hackerdigest': [1, 1.0, 0],\n",
       " 'Snorkblot': [2, 2.0, 2],\n",
       " 'UnresolvedMysteries': [18, 17.439999999999998, 1033],\n",
       " 'TrueUnpopularOpinion': [2, 1.3, 32],\n",
       " 'SPACs': [2, 1.8, 152],\n",
       " 'aznidentity': [1, 0.98, 40],\n",
       " 'badgovnofreedom': [34, 34.0, 1],\n",
       " 'cyberpunkgame': [1, 0.4, 3],\n",
       " 'CBC_': [9, 8.84, 1],\n",
       " 'newjersey': [1, 0.8, 25],\n",
       " 'newfoundland': [28, 25.439999999999994, 406],\n",
       " 'Hamilton': [42, 35.79, 950],\n",
       " 'Oshawa': [1, 0.9, 5],\n",
       " 'RedditTLDR': [5, 4.67, 1],\n",
       " 'Sino': [1, 0.96, 18],\n",
       " 'SorcerersVsSuffering': [1, 0.5, 0],\n",
       " 'China_irl': [1, 0.96, 69],\n",
       " 'worldanarchism': [2, 2.0, 0],\n",
       " 'Socialism_101': [1, 0.86, 10],\n",
       " 'Economics': [3, 2.06, 94],\n",
       " 'europe': [1, 0.87, 1],\n",
       " 'LazyCheapskate': [4, 3.35, 5],\n",
       " 'NoNewNormal': [18, 15.87, 124],\n",
       " 'AskDocs': [1, 1.0, 3],\n",
       " 'LateStageCapitalism': [5, 3.9399999999999995, 11],\n",
       " 'television': [3, 2.01, 61],\n",
       " 'NewDealAmerica': [1, 0.9, 0],\n",
       " 'MorbidReality': [2, 1.59, 26],\n",
       " 'redscarepod': [1, 1.0, 8],\n",
       " 'conspiracytheories': [1, 1.0, 0],\n",
       " 'SubSimulatorGPT2': [2, 1.75, 79],\n",
       " 'Futurology': [3, 2.9299999999999997, 128],\n",
       " 'worldpowers': [1, 1.0, 4],\n",
       " 'neoliberal': [9, 8.57, 78],\n",
       " 'NoStupidQuestions': [1, 0.77, 2],\n",
       " 'serbia': [2, 1.97, 11],\n",
       " 'eddit3yearsago': [1, 1.0, 1],\n",
       " 'stupidpol': [5, 4.390000000000001, 137],\n",
       " 'ontario': [149, 129.40000000000003, 6603],\n",
       " 'Anarchism': [2, 1.92, 3],\n",
       " 'AskEconomics': [1, 0.97, 32],\n",
       " 'ADHD': [1, 1.0, 81],\n",
       " 'btc': [1, 0.33, 2],\n",
       " 'Damnthatsinteresting': [2, 2.0, 0],\n",
       " 'Fantasy': [3, 2.56, 36],\n",
       " 'urbanplanning': [1, 0.87, 2],\n",
       " 'socialism': [1, 0.97, 144],\n",
       " 'steelers': [1, 1.0, 1],\n",
       " 'news': [100, 92.23000000000002, 6447],\n",
       " 'WayOfTheBern': [6, 5.7, 50],\n",
       " 'privacy': [4, 3.78, 1],\n",
       " 'CoronavirusCanada': [50, 35.099999999999994, 176],\n",
       " 'grammar': [1, 0.67, 2],\n",
       " 'legaladviceofftopic': [1, 0.5, 6],\n",
       " 'GenZedong': [1, 0.98, 3],\n",
       " 'iran': [2, 1.35, 0],\n",
       " 'ToolBand': [4, 3.23, 36],\n",
       " 'NarcoFootage': [1, 0.97, 157],\n",
       " 'worldpolitics': [1, 0.38, 0],\n",
       " 'MandelaEffect': [1, 0.61, 46],\n",
       " 'atheism': [4, 3.52, 46],\n",
       " 'Anarcho_Capitalism': [2, 1.4700000000000002, 7],\n",
       " 'inthemorning': [7, 5.140000000000001, 3],\n",
       " 'interestingasfuck': [3, 1.9, 9],\n",
       " 'islam': [1, 0.86, 20],\n",
       " 'climate': [3, 2.7399999999999998, 2],\n",
       " 'Letterkenny': [1, 0.84, 1],\n",
       " 'TrueAnon': [1, 0.96, 0],\n",
       " 'medicine': [3, 2.87, 269],\n",
       " 'stocks': [1, 0.94, 4404],\n",
       " 'Lovecraft': [1, 0.5, 1],\n",
       " 'LPOTL': [1, 1.0, 0],\n",
       " 'CanadaPublicServants': [6, 5.210000000000001, 107],\n",
       " 'Calgary': [87, 69.50999999999999, 4321],\n",
       " 'horror': [1, 0.62, 0],\n",
       " 'ABoringDystopia': [1, 0.67, 2],\n",
       " 'NovaScotia': [33, 29.269999999999992, 414],\n",
       " 'sports': [3, 2.5, 18],\n",
       " 'tennis': [2, 1.92, 8],\n",
       " 'MatthiasSubmissions': [1, 1.0, 0],\n",
       " 'Destiny': [2, 1.83, 1],\n",
       " 'conservatives': [1, 0.75, 6],\n",
       " 'pregnant': [1, 1.0, 1],\n",
       " 'VaushV': [1, 0.91, 3],\n",
       " 'awfuleverything': [5, 4.84, 0],\n",
       " 'antinatalism': [4, 3.71, 5],\n",
       " 'hockey': [8, 6.24, 69],\n",
       " 'brasilivre': [1, 0.94, 9],\n",
       " 'aviation': [1, 1.0, 0],\n",
       " 'CoronavirusCirclejerk': [1, 0.82, 2],\n",
       " 'space': [4, 2.59, 65],\n",
       " 'cryptogeum': [1, 1.0, 0],\n",
       " 'sustainability': [1, 0.67, 0],\n",
       " 'ZeroWaste': [1, 0.56, 2],\n",
       " 'FridaysForFuture': [1, 0.88, 15],\n",
       " 'TrueOffMyChest': [1, 0.6, 0],\n",
       " 'democrats': [4, 3.39, 30],\n",
       " 'science': [3, 1.85, 6],\n",
       " 'Winnipeg': [115, 99.89999999999998, 3724],\n",
       " 'uspolitics': [2, 1.87, 4],\n",
       " 'canada': [532, 420.6200000000006, 26421],\n",
       " 'Music': [1, 0.75, 0],\n",
       " 'UpliftingNews': [17, 15.39, 107],\n",
       " 'byebyejob': [2, 1.99, 7],\n",
       " 'Conservative': [4, 2.9800000000000004, 163],\n",
       " 'worldnews': [153, 130.94, 18318],\n",
       " 'nottheonion': [41, 33.17, 1260],\n",
       " 'ThatsInsane': [1, 1.0, 1],\n",
       " 'Feminism': [3, 2.1500000000000004, 1],\n",
       " 'AntiTrumpAlliance': [3, 2.7800000000000002, 6],\n",
       " 'privacytoolsIO': [1, 0.99, 16],\n",
       " 'pics': [1, 0.72, 3],\n",
       " 'NormMacdonald': [1, 1.0, 0],\n",
       " 'DataHoarder': [1, 0.85, 8],\n",
       " 'childfree': [1, 1.0, 82],\n",
       " 'TargetedEnergyWeapons': [1, 0.92, 1],\n",
       " 'AskALiberal': [3, 2.22, 52],\n",
       " 'YangForPresidentHQ': [1, 0.5, 5],\n",
       " 'CanadianTeachers': [1, 0.83, 1],\n",
       " 'ProtectAndServe': [2, 1.94, 24],\n",
       " 'onguardforthee': [266, 229.17999999999995, 4116],\n",
       " 'NoShitSherlock': [1, 1.0, 0],\n",
       " 'Qult_Headquarters': [1, 0.95, 3],\n",
       " 'The_Mueller': [2, 1.95, 5],\n",
       " 'askTO': [2, 1.36, 40],\n",
       " 'TwoBestFriendsPlay': [1, 0.9, 2],\n",
       " 'PublicFreakout': [1, 1.0, 0],\n",
       " 'alberta': [141, 123.54, 4909],\n",
       " 'CoronavirusDownunder': [21, 17.040000000000003, 573],\n",
       " 'monarchism': [2, 2.0, 7],\n",
       " 'Israel': [1, 1.0, 2],\n",
       " 'Art': [1, 1.0, 1],\n",
       " 'Albertapolitics': [69, 67.01999999999998, 124],\n",
       " 'FSTL': [2, 2.0, 5],\n",
       " 'eddit7yearsago': [3, 2.81, 3],\n",
       " 'inthenews': [2, 1.77, 76],\n",
       " 'bipolar': [1, 0.81, 7],\n",
       " 'ABCDesis': [1, 0.82, 9],\n",
       " 'navy': [1, 0.5, 4],\n",
       " 'vancouver': [95, 71.22999999999999, 3282],\n",
       " 'videos': [3, 1.69, 8],\n",
       " 'NoctilucentNews': [4, 4.0, 0],\n",
       " 'samharris': [1, 1.0, 5],\n",
       " 'CuriousAndFascinating': [1, 1.0, 0],\n",
       " 'SuccessionTV': [1, 1.0, 0],\n",
       " 'JoeBiden': [8, 7.4799999999999995, 43],\n",
       " 'Liberal': [1, 1.0, 0],\n",
       " 'Trumpvirus': [2, 1.81, 9],\n",
       " 'CapitolConsequences': [3, 2.94, 80],\n",
       " 'LockdownSkepticism': [57, 52.92999999999999, 1659],\n",
       " 'Political_Revolution': [1, 0.92, 0],\n",
       " 'ChronicIllness': [3, 2.7800000000000002, 4],\n",
       " 'usanews': [1, 0.91, 2],\n",
       " 'ParlerWatch': [4, 3.71, 8],\n",
       " 'AmericanFascism2020': [2, 1.63, 0],\n",
       " 'cybersecurity': [1, 0.81, 0],\n",
       " 'booklists': [1, 1.0, 0],\n",
       " 'China': [1, 0.75, 1],\n",
       " 'January6': [1, 0.57, 1],\n",
       " 'Seattle': [1, 0.99, 13],\n",
       " 'sciencefiction': [1, 0.73, 2],\n",
       " 'Jazz': [1, 0.29, 0],\n",
       " 'iamatotalpieceofshit': [4, 4.0, 3],\n",
       " 'toronto': [98, 80.80000000000004, 5762],\n",
       " 'MensRights': [1, 0.97, 2],\n",
       " 'eddit8yearsago': [1, 1.0, 1],\n",
       " 'TrueCrimeDiscussion': [1, 0.96, 7],\n",
       " 'neocentrism': [1, 1.0, 3],\n",
       " 'DanLeBatardShow': [1, 1.0, 1],\n",
       " 'medical': [1, 1.0, 0],\n",
       " 'uoguelph': [1, 0.97, 18],\n",
       " 'gardening': [1, 1.0, 1],\n",
       " 'covidlonghaulers': [1, 1.0, 7],\n",
       " 'RepublicanTerrorism': [1, 0.85, 1],\n",
       " 'UofT': [2, 1.58, 2],\n",
       " 'climatechange': [1, 0.85, 1],\n",
       " 'fucktheccp': [3, 2.9699999999999998, 1],\n",
       " 'LoveForLandlords': [1, 1.0, 0],\n",
       " 'nuclear': [1, 0.95, 25],\n",
       " 'ToiletPaperUSA': [1, 0.98, 4],\n",
       " 'Parenting': [1, 0.46, 0],\n",
       " 'LeopardsAteMyFace': [1, 0.99, 30],\n",
       " 'electricvehicles': [1, 1.0, 3],\n",
       " 'AirForce': [1, 0.74, 5],\n",
       " 'washingtondc': [1, 0.27, 0],\n",
       " 'metamtl': [1, 1.0, 1],\n",
       " 'Canadians': [6, 5.470000000000001, 17],\n",
       " 'mcgill': [1, 0.97, 25],\n",
       " 'Quebec': [19, 12.28, 364],\n",
       " 'Capitalism': [1, 0.9, 5],\n",
       " 'funny': [1, 0.63, 3],\n",
       " 'EnoughTrumpSpam': [1, 0.9, 0],\n",
       " 'smallbusiness': [1, 0.5, 8],\n",
       " 'biology': [2, 1.72, 0],\n",
       " 'Kossacks_for_Sanders': [1, 1.0, 2],\n",
       " 'Guelph': [2, 1.92, 37],\n",
       " 'ImmigrationCanada': [1, 1.0, 2],\n",
       " 'antiwork': [4, 3.95, 10],\n",
       " 'LockdownCriticalLeft': [15, 13.5, 101],\n",
       " 'MURICA': [1, 1.0, 0],\n",
       " 'UFOs': [1, 0.8, 5],\n",
       " 'AnythingGoesNews': [1, 0.5, 2],\n",
       " 'malaysia': [1, 0.96, 15],\n",
       " 'union': [1, 1.0, 0],\n",
       " 'China_Flu': [1, 0.57, 2],\n",
       " 'KingkillerChronicle': [3, 2.9, 6],\n",
       " 'CannedSardines': [1, 1.0, 1],\n",
       " 'sixdigits': [1, 0.67, 0],\n",
       " 'HydroHomies': [1, 0.81, 1],\n",
       " 'SubSimulatorGPT2Meta': [1, 0.99, 19],\n",
       " 'covidskepticscanada': [18, 17.310000000000002, 17],\n",
       " 'SaltyArmy': [1, 1.0, 0],\n",
       " 'discgolf': [1, 0.92, 2],\n",
       " 'asianamerican': [1, 1.0, 0],\n",
       " 'ChronicPain': [2, 1.93, 16],\n",
       " 'sydney': [1, 1.0, 2],\n",
       " 'Military': [3, 2.24, 10],\n",
       " 'technology': [9, 7.18, 36],\n",
       " 'business': [1, 0.97, 60],\n",
       " 'realtech': [5, 4.14, 6],\n",
       " 'OntarioCanada': [33, 30.349999999999998, 622],\n",
       " 'MtF': [1, 0.87, 1],\n",
       " 'uwaterloo': [5, 4.85, 26],\n",
       " 'instantkarma': [1, 1.0, 1],\n",
       " 'JusticeServed': [1, 1.0, 1],\n",
       " 'BigTech': [2, 1.9, 0],\n",
       " 'environment': [11, 9.959999999999999, 420],\n",
       " 'VoteDEM': [1, 0.89, 1],\n",
       " 'IASIP': [1, 1.0, 0],\n",
       " 'PERU': [1, 1.0, 0],\n",
       " 'Filmmakers': [1, 0.68, 6],\n",
       " 'FuckNestle': [1, 0.98, 0],\n",
       " 'shrooms': [1, 1.0, 0],\n",
       " 'florida': [3, 2.86, 17],\n",
       " 'Antipsychiatry': [2, 1.9100000000000001, 54],\n",
       " 'britishcolumbia': [60, 50.33, 1487],\n",
       " 'pakistan': [1, 1.0, 1],\n",
       " 'COVID19': [2, 1.38, 2],\n",
       " 'Coronavirus': [68, 60.09, 1113],\n",
       " 'Cyberpunk': [1, 0.65, 3],\n",
       " 'StockMarket': [1, 0.82, 5],\n",
       " 'hapas': [1, 0.88, 1],\n",
       " 'FeMRADebates': [2, 1.84, 92],\n",
       " 'TrumpNicknames': [1, 0.92, 1],\n",
       " 'canucks': [1, 0.92, 22],\n",
       " 'COMPLETEANARCHY': [1, 0.78, 2],\n",
       " 'thebulwark': [2, 2.0, 0],\n",
       " 'AntifascistsofReddit': [1, 0.67, 1],\n",
       " 'Wallstreetbetsnew': [1, 0.93, 7],\n",
       " 'GreenPartyOfCanada': [6, 5.0, 3],\n",
       " 'thebachelor': [7, 7.0, 6],\n",
       " 'wallstreetbets2': [1, 1.0, 2],\n",
       " 'Firefighting': [1, 0.83, 4],\n",
       " 'travel': [2, 2.0, 0],\n",
       " 'Cascadia': [2, 1.9, 9],\n",
       " 'offbeat': [7, 5.859999999999999, 58],\n",
       " 'PersonalFinanceCanada': [4, 3.3600000000000003, 168],\n",
       " 'CanadianInvestor': [6, 4.02, 632],\n",
       " 'NativeAmerican': [1, 0.95, 0],\n",
       " 'WallStreetbetsELITE': [3, 3.0, 2],\n",
       " 'Dinosaurs': [1, 0.92, 7],\n",
       " 'Canadapennystocks': [1, 0.88, 26],\n",
       " '2020PoliceBrutality': [3, 2.1799999999999997, 6],\n",
       " 'islam_ahmadiyya': [1, 0.96, 45],\n",
       " 'GooglePixel': [1, 0.84, 21],\n",
       " 'malefashionadvice': [1, 0.93, 33],\n",
       " 'saskatoon': [22, 20.159999999999997, 778],\n",
       " 'TheFightThatMatters': [1, 1.0, 1],\n",
       " 'rugbyunion': [1, 0.88, 0],\n",
       " 'PussyPass': [1, 0.88, 4],\n",
       " 'apple': [1, 0.78, 30],\n",
       " 'autotldr': [54, 49.650000000000006, 0],\n",
       " 'CoronavirusUK': [1, 1.0, 0],\n",
       " 'Equestrian': [1, 1.0, 9],\n",
       " 'survivor': [1, 1.0, 4],\n",
       " 'thelongdark': [1, 1.0, 0],\n",
       " 'canadaguns': [1, 1.0, 2],\n",
       " 'ottawa': [513, 493.95000000000016, 3466],\n",
       " 'starbucks': [1, 0.5, 1],\n",
       " 'Bellingham': [1, 1.0, 23],\n",
       " 'StJohnsNL': [2, 1.8, 1],\n",
       " 'Edmonton': [57, 50.76, 1647],\n",
       " 'abbotsford': [1, 1.0, 10],\n",
       " 'waterloo': [11, 9.57, 206],\n",
       " 'OntarioUniversities': [1, 0.86, 1],\n",
       " 'windsorontario': [9, 7.480000000000001, 114],\n",
       " 'acting': [2, 2.0, 16],\n",
       " 'fredericton': [23, 19.94, 117],\n",
       " 'MadeMeSmile': [5, 4.68, 0],\n",
       " 'NHLHUT': [2, 1.85, 57],\n",
       " 'SaintJohnNB': [19, 16.92, 61],\n",
       " 'TheOCS': [3, 2.08, 31],\n",
       " 'ThunderBay': [10, 8.95, 186],\n",
       " 'hiking': [1, 0.78, 0],\n",
       " 'BabyBumps': [2, 1.66, 122],\n",
       " 'halifax': [96, 78.99999999999997, 2155],\n",
       " 'regina': [16, 13.929999999999998, 668],\n",
       " 'Survival': [1, 0.95, 2],\n",
       " 'doordash': [1, 1.0, 12],\n",
       " 'CanadaPS5': [1, 0.89, 22],\n",
       " 'montreal': [22, 20.619999999999997, 714],\n",
       " 'Questrade': [2, 1.76, 14],\n",
       " 'KingstonOntario': [3, 2.79, 83],\n",
       " 'CanadianMOMs': [1, 0.83, 70],\n",
       " 'polyamory': [2, 1.69, 18],\n",
       " 'skiing': [2, 1.9300000000000002, 7],\n",
       " 'ems': [2, 1.92, 21],\n",
       " 'InteriorDesign': [1, 1.0, 1],\n",
       " 'Wellthatsucks': [1, 1.0, 1],\n",
       " 'AdorableOnlyfans': [1, 1.0, 1],\n",
       " 'Scams': [1, 1.0, 1],\n",
       " 'NonBinary': [1, 1.0, 1],\n",
       " 'BasicIncome': [1, 0.67, 4],\n",
       " 'Costco': [1, 0.96, 58],\n",
       " 'emergencymedicine': [1, 1.0, 7],\n",
       " 'timecrisis': [1, 1.0, 0],\n",
       " 'BanPitBulls': [6, 5.779999999999999, 159],\n",
       " 'farming': [1, 0.95, 0],\n",
       " 'Dogfree': [1, 0.97, 2],\n",
       " 'Android': [1, 0.75, 97],\n",
       " 'bigdickproblems': [1, 1.0, 1],\n",
       " 'fantasyhockey': [2, 2.0, 8],\n",
       " 'Torontology': [4, 2.54, 16],\n",
       " 'uAlberta': [4, 3.06, 76],\n",
       " 'Baystreetbets': [2, 1.63, 3],\n",
       " 'LinusTechTips': [2, 1.5, 0],\n",
       " 'NoFilterNews': [66, 65.5, 0],\n",
       " 'COVID': [3, 2.3200000000000003, 1],\n",
       " 'CanadaPolitics': [279, 238.27999999999992, 8391],\n",
       " 'japan': [4, 3.77, 7],\n",
       " 'SchittsCreek': [2, 2.0, 0],\n",
       " 'police': [2, 2.0, 1],\n",
       " 'manchester': [1, 0.5, 2],\n",
       " 'Startup_Ideas': [1, 1.0, 14],\n",
       " 'Animals': [1, 1.0, 0],\n",
       " 'knitting': [1, 1.0, 0],\n",
       " 'indieheads': [1, 0.94, 10],\n",
       " 'Brampton': [5, 4.37, 44],\n",
       " 'Georgia': [1, 0.9, 1],\n",
       " 'OnTheBlock': [1, 0.72, 5],\n",
       " 'CysticFibrosis': [1, 0.98, 6],\n",
       " 'Rowing': [1, 1.0, 3],\n",
       " 'VictoriaBC': [19, 17.189999999999998, 282],\n",
       " 'Toxic_Femininity': [1, 0.96, 18],\n",
       " 'CallHerDaddy': [1, 0.29, 4],\n",
       " 'AmericanHorrorStory': [1, 0.9, 2],\n",
       " 'canadients': [3, 2.53, 70],\n",
       " 'CovidCanada': [1, 0.83, 0],\n",
       " 'CovIdiots': [3, 2.71, 9],\n",
       " 'Detroit': [1, 0.95, 6],\n",
       " 'McMaster': [1, 0.99, 2],\n",
       " 'NewWest': [8, 7.68, 88],\n",
       " 'simonfraser': [2, 1.85, 0],\n",
       " 'MensLib': [2, 1.97, 204],\n",
       " 'geegees': [2, 0.76, 18],\n",
       " 'aww': [3, 3.0, 3],\n",
       " 'trailerparkboys': [1, 0.67, 1],\n",
       " 'community': [1, 1.0, 0],\n",
       " 'ShitLiberalsSay': [1, 1.0, 1],\n",
       " 'insects': [1, 1.0, 0],\n",
       " 'ChurchOfCOVID': [1, 1.0, 4],\n",
       " 'SocialJusticeInAction': [3, 2.55, 59],\n",
       " 'COVID19_support': [1, 0.62, 0],\n",
       " 'scleroderma': [1, 1.0, 0],\n",
       " 'ThriftStoreHauls': [1, 1.0, 1],\n",
       " 'theworldnews': [15, 11.4, 0],\n",
       " 'daverubin': [1, 0.99, 0],\n",
       " 'facepalm': [1, 0.9, 6],\n",
       " 'TheAbditory': [1, 1.0, 0],\n",
       " 'CitizensClimateLobby': [1, 0.82, 3],\n",
       " 'RedDeer': [3, 2.76, 54],\n",
       " 'Lethbridge': [1, 0.67, 1],\n",
       " 'SurreyBC': [6, 5.640000000000001, 32],\n",
       " 'CanadaCoronavirus': [143, 126.14000000000007, 1818],\n",
       " 'XSomalian': [1, 0.91, 5],\n",
       " 'UBC': [7, 5.18, 96],\n",
       " 'GamerGhazi': [1, 0.92, 0],\n",
       " 'londonontario': [41, 34.69, 875],\n",
       " 'sqdc': [1, 0.93, 62],\n",
       " 'mildlyinfuriating': [1, 1.0, 3],\n",
       " 'uwo': [1, 0.95, 10],\n",
       " 'murdochmysteries': [1, 1.0, 8],\n",
       " 'Mindfulness': [1, 0.86, 0],\n",
       " 'Markham': [1, 0.93, 32],\n",
       " 'PoliticalVideos': [3, 3.0, 0],\n",
       " 'Sudbury': [5, 4.470000000000001, 76],\n",
       " 'TorontoRealEstate': [1, 0.89, 73],\n",
       " 'economy': [1, 0.92, 6],\n",
       " 'japancirclejerk': [2, 0.54, 5],\n",
       " 'YMS': [1, 1.0, 0],\n",
       " 'ndp': [27, 25.63, 89],\n",
       " 'Tokyo': [1, 1.0, 0],\n",
       " 'BernieSanders': [1, 1.0, 1],\n",
       " 'mississauga': [4, 3.8099999999999996, 13],\n",
       " 'Caribbean': [1, 1.0, 0],\n",
       " 'ADKFunPolice': [1, 0.93, 11],\n",
       " 'CFL': [2, 1.97, 8],\n",
       " 'weedstocks': [1, 0.99, 8],\n",
       " 'SneakersCanada': [1, 1.0, 0],\n",
       " 'HelloInternet': [1, 0.97, 8],\n",
       " 'Jeopardy': [3, 2.71, 10],\n",
       " 'PEI': [16, 14.91, 216],\n",
       " 'FoodToronto': [2, 1.63, 5],\n",
       " 'Cowichan': [1, 0.94, 3],\n",
       " 'NWSL': [1, 1.0, 0],\n",
       " 'lansing': [1, 0.86, 8],\n",
       " 'railroading': [1, 0.86, 3],\n",
       " 'TransSpace': [1, 1.0, 1],\n",
       " 'Bad_Cop_No_Donut': [10, 9.87, 16],\n",
       " 'montreal4all': [4, 3.3800000000000003, 15],\n",
       " 'kelowna': [2, 1.9100000000000001, 81],\n",
       " 'uvic': [2, 1.37, 8],\n",
       " 'DarkFuturology': [1, 0.97, 35],\n",
       " 'stcatharinesON': [2, 1.3599999999999999, 20],\n",
       " 'Zappa': [1, 1.0, 6],\n",
       " 'ArtHistory': [1, 1.0, 1],\n",
       " 'ShopCanada': [2, 2.0, 4],\n",
       " 'winnipegjets': [2, 1.9, 1007],\n",
       " 'pussypassdenied': [1, 0.96, 23],\n",
       " 'medicinehat': [2, 1.94, 10],\n",
       " 'foreignpolicy': [1, 0.7, 1],\n",
       " 'EdmontonMarijuana': [1, 1.0, 0],\n",
       " 'Journalism': [5, 4.8100000000000005, 0],\n",
       " 'Epstein': [2, 1.89, 5],\n",
       " 'Naturewasmetal': [1, 0.99, 3],\n",
       " 'NatureIsFuckingLit': [1, 1.0, 0],\n",
       " 'ACAB': [1, 0.75, 0],\n",
       " 'SelfAwarewolves': [1, 0.85, 4],\n",
       " 'DemocratsforDiversity': [1, 1.0, 1],\n",
       " 'nhl': [4, 3.23, 30],\n",
       " 'MAGAs': [1, 0.95, 1],\n",
       " 'CanadianPolitics': [1, 0.9, 11],\n",
       " 'restaurant': [1, 1.0, 1],\n",
       " 'Archaeology': [1, 0.75, 0],\n",
       " 'dogecoinbeg': [2, 1.34, 0],\n",
       " 'goodnews': [1, 0.9, 1],\n",
       " 'Missing411': [1, 0.84, 148],\n",
       " 'CanadianForces': [16, 15.610000000000001, 247],\n",
       " 'IntelligenceNews': [4, 3.69, 4],\n",
       " 'EcoNewsNetwork': [3, 3.0, 1],\n",
       " 'Manitoba': [12, 10.469999999999999, 34],\n",
       " 'ScienceUncensored': [1, 0.67, 0],\n",
       " 'ValueInvesting': [2, 2.0, 12],\n",
       " 'durham': [1, 0.9, 4],\n",
       " 'mayahiga': [1, 0.96, 1],\n",
       " 'canadacordcutters': [1, 0.97, 13],\n",
       " 'BiologicalSeas': [1, 0.92, 0],\n",
       " 'saskatchewan': [67, 55.96000000000001, 1348],\n",
       " 'TacoZone': [1, 1.0, 0],\n",
       " 'nCoV': [4, 3.62, 3],\n",
       " 'energy': [1, 0.99, 11],\n",
       " 'mealtimevideos': [1, 0.94, 6],\n",
       " 'CanadianBroadband': [1, 1.0, 0],\n",
       " 'HorriblyDepressing': [1, 1.0, 0],\n",
       " 'altnewz': [1, 0.91, 1],\n",
       " 'political': [1, 1.0, 0],\n",
       " 'BuyCanadian': [4, 3.8600000000000003, 62],\n",
       " 'Libernadian': [2, 1.76, 15],\n",
       " 'Vaccine': [1, 0.83, 1],\n",
       " 'bakeoff': [2, 1.98, 42],\n",
       " 'Gatineau': [4, 2.77, 70],\n",
       " 'GrandePrairie': [2, 1.87, 12],\n",
       " 'transplant': [1, 0.98, 3],\n",
       " 'Flights': [2, 1.4, 8],\n",
       " 'VACCINES': [1, 0.88, 0],\n",
       " 'IndianCountry': [16, 15.5, 24],\n",
       " 'Peterborough': [1, 0.87, 3],\n",
       " 'agedlikemilk': [2, 1.67, 1],\n",
       " 'FrancaisCanadien': [1, 1.0, 1],\n",
       " 'AntiVaxxers': [2, 2.0, 10],\n",
       " 'canadaleft': [12, 11.280000000000001, 35],\n",
       " 'NewsWithoutNewsMedia': [30, 28.64, 1],\n",
       " 'PacificNorthwest': [1, 1.0, 4],\n",
       " 'BachelorNation': [4, 3.31, 24],\n",
       " 'VancouverIsland': [9, 8.4, 141],\n",
       " 'burnaby': [1, 0.97, 3],\n",
       " 'MarsSociety': [1, 1.0, 0],\n",
       " 'LockdownHypocrites': [5, 4.92, 1],\n",
       " 'QuebecLibre': [1, 0.75, 1],\n",
       " 'Whistler': [2, 1.9, 3],\n",
       " 'gameshow': [1, 1.0, 0],\n",
       " 'forestry': [1, 0.75, 8],\n",
       " 'prisons': [18, 15.69, 0],\n",
       " 'GreenParty': [2, 1.77, 4],\n",
       " 'CanadaSoccer': [4, 3.4399999999999995, 0],\n",
       " 'olympics': [6, 5.62, 89],\n",
       " 'toppostoftheday': [2, 1.96, 4],\n",
       " 'Curling': [1, 0.97, 4],\n",
       " 'Dalhousie': [1, 0.93, 11],\n",
       " 'guillainbarre': [1, 0.9, 9],\n",
       " 'WomensSoccer': [3, 3.0, 4],\n",
       " 'Green': [1, 0.9, 0],\n",
       " 'NewsOfTheStupid': [2, 1.88, 0],\n",
       " 'AnarchistGenerationZ': [1, 1.0, 0],\n",
       " 'peopleofwalmart': [1, 0.95, 0],\n",
       " 'Coronavirus_BC': [44, 41.620000000000005, 56],\n",
       " 'imdbvg': [1, 0.8, 21],\n",
       " 'MLS': [1, 0.8, 4],\n",
       " 'orcas': [1, 1.0, 1],\n",
       " 'tvPlus': [1, 0.92, 1],\n",
       " 'brantford': [2, 1.97, 56],\n",
       " 'PoliticalVideo': [4, 3.76, 6],\n",
       " 'CanadianPL': [5, 4.47, 20],\n",
       " 'BehavingBadly': [20, 20.0, 0],\n",
       " 'niagara': [3, 2.61, 32],\n",
       " 'NoRulesCalgary': [5, 3.13, 82],\n",
       " 'newbrunswickcanada': [67, 57.28999999999999, 1062],\n",
       " 'trashy': [2, 1.94, 3],\n",
       " 'OttawaSports': [1, 1.0, 0],\n",
       " 'Ontariofood': [1, 1.0, 0],\n",
       " 'radicalmentalhealth': [2, 1.68, 4],\n",
       " 'stalbert': [1, 1.0, 0],\n",
       " 'alpinism': [1, 0.92, 2],\n",
       " 'Torontoevents': [1, 0.83, 2],\n",
       " 'Yukon': [5, 4.55, 4],\n",
       " 'IslandHikers': [1, 0.97, 3],\n",
       " 'domesticgunviolence': [2, 1.25, 0],\n",
       " 'Metric': [3, 2.84, 19],\n",
       " 'WhatWeDointheShadows': [1, 0.96, 10],\n",
       " 'CoronaVirusMontreal': [11, 9.699999999999998, 64],\n",
       " 'fandomnatural': [1, 1.0, 3],\n",
       " 'copaganda': [1, 1.0, 0],\n",
       " 'boogaloos': [1, 0.67, 1],\n",
       " 'KimsConvenience': [7, 6.79, 212],\n",
       " 'AmericaBad': [1, 0.88, 2],\n",
       " 'algonquinpark': [2, 1.92, 46],\n",
       " 'SwordandSorcery': [1, 1.0, 3],\n",
       " 'askfuneraldirectors': [1, 0.94, 8],\n",
       " 'food': [1, 1.0, 0],\n",
       " 'DeFranco': [1, 1.0, 1],\n",
       " 'Airdrie': [1, 0.91, 8],\n",
       " 'PEIpoliticalgroup': [242, 240.42999999999998, 8],\n",
       " 'Sikhpolitics': [1, 1.0, 1],\n",
       " 'ProtectOurForests': [2, 2.0, 0],\n",
       " 'Hatewhenthathappens': [1, 0.95, 0],\n",
       " 'nunavut': [8, 7.74, 2],\n",
       " 'PoliticalCoverage': [1, 1.0, 8],\n",
       " 'CoronaVirusInfo': [1, 1.0, 0],\n",
       " 'MachineThatMakesMoney': [1, 1.0, 0],\n",
       " 'Maxcactus_TrailGuide': [1, 1.0, 0],\n",
       " 'bestofthefray': [1, 0.84, 7],\n",
       " 'USNEWS': [1, 0.86, 0],\n",
       " 'righttorepair': [1, 0.94, 2],\n",
       " 'princegeorge': [1, 1.0, 2],\n",
       " 'CanadianTV': [1, 0.81, 0],\n",
       " 'canadaland': [1, 0.83, 0],\n",
       " 'SherwoodPark': [1, 0.78, 2],\n",
       " 'DailyTechNewsShow': [1, 0.89, 2],\n",
       " 'USA_StratCom': [1, 1.0, 1],\n",
       " 'frogpants': [1, 1.0, 0],\n",
       " 'AncientAliens': [1, 0.95, 1],\n",
       " 'Vanier': [1, 1.0, 0],\n",
       " 'fortmac': [1, 0.96, 7],\n",
       " 'TimHorrortons': [1, 1.0, 0],\n",
       " 'FortMcMurray': [1, 0.99, 1],\n",
       " 'womenshockey': [2, 1.75, 3],\n",
       " 'canadanews': [4, 3.82, 31],\n",
       " 'nwhl': [1, 0.95, 0],\n",
       " 'Government_is_lame': [1, 1.0, 0],\n",
       " 'TheNativeDissident': [14, 14.0, 14],\n",
       " 'northernontario': [7, 6.81, 13],\n",
       " 'FirstNationsCanada': [32, 31.259999999999994, 17],\n",
       " 'chathamkent': [1, 0.81, 0],\n",
       " 'transgender': [2, 1.99, 5],\n",
       " 'OntarioPolitics': [3, 2.84, 10],\n",
       " 'WorldNewsHeadlines': [1, 1.0, 0],\n",
       " 'MetisNation': [1, 1.0, 1],\n",
       " 'crowdfunders': [1, 1.0, 0],\n",
       " 'NWT': [3, 2.75, 3],\n",
       " 'P_C': [20, 19.330000000000002, 18],\n",
       " 'oil': [1, 0.83, 30],\n",
       " 'EverythingScience': [1, 0.96, 3],\n",
       " 'CannadaRetail': [1, 1.0, 0],\n",
       " 'ccg_gcc': [1, 1.0, 1],\n",
       " 'CanadianConservative': [53, 41.62999999999999, 224],\n",
       " 'NewWestEVs': [1, 1.0, 0],\n",
       " 'Trumpet_of_Discord': [1, 1.0, 0],\n",
       " 'nouseforatitle': [1, 1.0, 0],\n",
       " 'pwned': [1, 0.97, 1],\n",
       " 'localdelivery': [3, 3.0, 0],\n",
       " 'solarenergycanada': [2, 1.8599999999999999, 2],\n",
       " 'CITILOP': [1, 1.0, 0],\n",
       " 'MetaAlberta': [6, 4.96, 36],\n",
       " 'POTUSWatch': [1, 0.94, 9],\n",
       " 'Moronavirus': [1, 0.99, 13],\n",
       " 'RemoveMyPhone': [1, 1.0, 0],\n",
       " 'dominionofcanada': [12, 10.23, 15],\n",
       " 'AmalaNetwork': [1, 0.91, 0],\n",
       " 'dawsoncreek': [1, 0.9, 0],\n",
       " 'methanecrisis': [1, 1.0, 0],\n",
       " 'Otters': [1, 0.99, 2],\n",
       " 'ImanVellani': [1, 1.0, 2],\n",
       " 'CanadaToday': [22, 22.0, 0],\n",
       " 'HumanTrafficking': [8, 7.88, 1],\n",
       " 'technews': [1, 0.95, 5],\n",
       " 'WhiteRock': [2, 1.82, 2],\n",
       " 'UnbiasedCanada': [1, 0.86, 1],\n",
       " 'bad_dgu': [3, 1.75, 0],\n",
       " 'News_Construction': [8, 8.0, 0],\n",
       " 'WomenInNews': [5, 4.92, 0],\n",
       " 'worldevents': [2, 1.85, 45],\n",
       " 'PupliftingNews': [2, 1.96, 7],\n",
       " 'TeaExcel': [1, 1.0, 2],\n",
       " 'CCIV': [1, 0.94, 5],\n",
       " 'ThatVeganTeacherisbad': [1, 1.0, 5],\n",
       " 'steinbach': [1, 0.83, 1],\n",
       " 'AsOneDoes': [1, 0.96, 0],\n",
       " 'xxfitnessjournal': [1, 1.0, 0],\n",
       " 'xxfitnessmotivation': [1, 0.69, 2],\n",
       " 'xxfitnesscirclejerk': [1, 0.5, 0],\n",
       " 'Astuff': [1, 1.0, 0],\n",
       " 'realmontreal': [2, 2.0, 5],\n",
       " 'anime_titties': [7, 5.01, 33],\n",
       " 'CoronavirusAB': [2, 1.6800000000000002, 4],\n",
       " 'GlobalNews': [2, 1.3900000000000001, 0],\n",
       " 'RuralNewsNetwork': [5, 5.0, 0],\n",
       " 'CoronavirusON': [7, 7.0, 0],\n",
       " 'InternetAccess': [1, 1.0, 0],\n",
       " 'CanadaBusiness': [64, 64.0, 64],\n",
       " 'climatejustice': [1, 0.86, 0],\n",
       " 'BellevilleOntario': [2, 1.2, 10],\n",
       " 'montrealmusic': [1, 1.0, 0],\n",
       " 'edmundston': [1, 0.5, 0],\n",
       " 'TrumpCivilWar': [1, 0.5, 0],\n",
       " 'NLPolitics': [43, 42.370000000000005, 6],\n",
       " 'climatedisalarm': [1, 0.66, 0],\n",
       " 'tofino': [1, 0.95, 0],\n",
       " 'RonaldReagan': [1, 0.81, 0],\n",
       " 'vancouvercanada': [2, 2.0, 0],\n",
       " 'Xinjiang': [1, 0.91, 0],\n",
       " 'Canada_Politics': [40, 37.019999999999996, 10],\n",
       " 'Canadian_News': [13, 12.48, 3],\n",
       " 'WoodstockNB': [2, 1.33, 0],\n",
       " 'Covid19Origin': [1, 1.0, 1],\n",
       " 'GoodNewsNetwork': [1, 1.0, 0],\n",
       " 'COVID_CANADA': [1972, 1959.3200000000004, 23],\n",
       " 'FawningLiberalMedia': [3, 3.0, 1],\n",
       " 'whatsreallygoinon': [1, 0.67, 0],\n",
       " 'WHHR7': [1, 1.0, 0],\n",
       " 'LGBTQnews': [1, 0.91, 0],\n",
       " 'CanadaRugby': [1, 1.0, 0],\n",
       " 'LockdownSkepticismCAN': [6, 5.430000000000001, 4],\n",
       " 'Stockhouse': [2, 1.75, 0],\n",
       " 'TrueCrimeGenre': [2, 2.0, 1],\n",
       " 'geopolitics2': [1, 0.75, 0],\n",
       " 'NovaScotiaPolitics': [27, 25.380000000000003, 12],\n",
       " 'canadaprivacy': [1, 1.0, 0],\n",
       " 'CoronaVirus_2019_nCoV': [2, 1.54, 0],\n",
       " 'ManitobaPolitics': [23, 20.919999999999998, 32],\n",
       " 'NewNormal': [1, 1.0, 0],\n",
       " 'CanadianFilm': [2, 2.0, 0],\n",
       " 'tlingit': [1, 1.0, 0],\n",
       " 'CoVaxSkeptical': [1, 0.81, 0],\n",
       " 'nakd': [1, 0.73, 0],\n",
       " 'SpruceGrove': [1, 0.75, 1],\n",
       " 'BCpolitics': [36, 32.91, 95],\n",
       " 'WallstreetStonkLottry': [2, 2.0, 0],\n",
       " 'News_Retail': [9, 9.0, 0],\n",
       " 'StudentSkeptics': [1, 1.0, 0],\n",
       " 'InvestingRetards': [1, 1.0, 0],\n",
       " 'maskfreakouts': [1, 1.0, 0],\n",
       " 'LGBTnews': [2, 1.67, 0],\n",
       " 'HeroesUnited': [1, 1.0, 0],\n",
       " 'AnythingOntario': [447, 439.68000000000035, 6],\n",
       " 'NoDAPL': [1, 1.0, 4],\n",
       " 'civocracy': [7, 7.0, 0],\n",
       " 'News_Walmart': [1, 1.0, 0],\n",
       " 'DamnInteresting': [5, 5.0, 1],\n",
       " 'estevan': [2, 1.81, 1],\n",
       " 'wheresthebeef': [1, 1.0, 0],\n",
       " 'China_War': [1, 1.0, 0],\n",
       " 'UglyHumanity': [1, 0.66, 1],\n",
       " 'HotZone': [2, 2.0, 0],\n",
       " 'POCEntertainment': [2, 2.0, 0],\n",
       " 'neutralnews': [1, 0.84, 2],\n",
       " 'ActualidadMundial': [2, 2.0, 0],\n",
       " 'BadCopNoTimbit': [5, 4.87, 2],\n",
       " 'HIVandAIDS': [1, 1.0, 0],\n",
       " 'SaskatchewanPolitics': [34, 31.98, 236],\n",
       " 'VancouverNews': [2, 2.0, 0],\n",
       " 'Bathurst': [1, 0.75, 0],\n",
       " 'Elon_musketeers': [1, 1.0, 0],\n",
       " 'NewsfeedForWork': [41, 40.33, 1],\n",
       " 'News_HealthBiotech': [7, 7.0, 2],\n",
       " 'gorecrowsociety': [1, 1.0, 0],\n",
       " 'EvolveSustain': [7, 7.0, 0],\n",
       " 'News_Food': [24, 24.0, 1],\n",
       " 'JustBadNews': [5, 4.5, 5],\n",
       " 'Trump_Idiocy': [2, 1.67, 0],\n",
       " 'News_Entertainment': [1, 1.0, 0],\n",
       " 'vanhousing': [3, 2.39, 1],\n",
       " 'News_Education': [24, 23.67, 0],\n",
       " 'electionReformNews': [2, 2.0, 0],\n",
       " 'News_Transportation': [12, 12.0, 0],\n",
       " 'HumanTraffickingNews': [2, 2.0, 0],\n",
       " 'News_RealEstate': [21, 20.67, 1],\n",
       " 'News_facebook': [1, 1.0, 0],\n",
       " 'News_OilAndEnergy': [18, 16.0, 6],\n",
       " 'politics2021': [1, 0.66, 0],\n",
       " 'Wuhan_Virus': [1, 1.0, 1],\n",
       " 'CoV2Canada': [1, 1.0, 0],\n",
       " 'greenpartybc': [2, 1.7, 0],\n",
       " 'USUnited': [1, 1.0, 1],\n",
       " 'News_Utility': [22, 22.0, 1],\n",
       " 'Positive_News': [2, 1.8900000000000001, 1],\n",
       " 'InMemoriamCOVID': [1, 0.93, 0],\n",
       " 'larryking': [1, 1.0, 0],\n",
       " 'notthebeaverton': [7, 6.91, 41],\n",
       " 'CoronavirusToronto': [1, 1.0, 0],\n",
       " 'CoronavirusOntario': [1, 0.71, 1],\n",
       " 'TrumpLegalTalk': [1, 1.0, 0],\n",
       " 'CoronavirusPandemic': [2, 1.81, 1],\n",
       " 'CoronaVirusWorldNews': [1, 1.0, 0],\n",
       " 'Toadbook': [2, 1.67, 0],\n",
       " 'Quebec_Politics': [4, 3.76, 0],\n",
       " 'ClimateCrisisCanada': [8, 7.42, 1],\n",
       " 'PEIpolitics': [23, 23.0, 2],\n",
       " 'CBC2': [502, 496.41999999999996, 1],\n",
       " 'OntarioNews': [151, 148.34, 10],\n",
       " 'YarnArt': [1, 1.0, 0],\n",
       " 'CanadianMusicNews': [8, 8.0, 0],\n",
       " 'nbpolitics': [25, 23.88, 74],\n",
       " 'YukonPolitics': [8, 6.0, 2],\n",
       " 'NunavutPolitics': [2, 2.0, 0],\n",
       " 'NWTPolitics': [7, 6.82, 3],\n",
       " 'VancouverIslandJobs': [1, 1.0, 1],\n",
       " 'xxfitness_classic': [1, 1.0, 2],\n",
       " 'xxfitnesspals': [1, 0.33, 0],\n",
       " 'DeltaBritishColumbia': [2, 1.68, 1],\n",
       " 'AtlanticCanada': [1, 1.0, 0],\n",
       " 'CoronavirusChurches': [1, 1.0, 0],\n",
       " 'Alouettes': [1, 1.0, 0],\n",
       " 'MaritimeLaunch': [1, 1.0, 1],\n",
       " 'actualzombie': [2, 2.0, 0],\n",
       " 'CanadianAtheism': [1, 1.0, 3],\n",
       " 'GreenPartyNB': [2, 1.76, 0],\n",
       " 'GrandFalls': [2, 1.46, 0],\n",
       " 'Minto': [1, 0.5, 0],\n",
       " 'Hampton': [2, 2.0, 0],\n",
       " 'hyperbarics': [1, 1.0, 0],\n",
       " 'NOKXL': [1, 1.0, 0],\n",
       " 'somebody_somewhere': [1, 1.0, 0],\n",
       " 'UAlberta2': [1, 1.0, 0],\n",
       " 'LiberalScandalWatch': [1, 0.82, 0],\n",
       " 'TheMapleCrown': [1, 1.0, 0],\n",
       " 'GaryAndHisDemons': [1, 0.97, 3],\n",
       " 'TorontoCanada': [2, 2.0, 0],\n",
       " 'CrownLandsMusic': [1, 1.0, 0],\n",
       " 'MindBleach': [1, 0.85, 0]}"
      ]
     },
     "execution_count": 431,
     "metadata": {},
     "output_type": "execute_result"
    }
   ],
   "source": [
    "ns_subreddit_01['cbc.ca']"
   ]
  },
  {
   "cell_type": "code",
   "execution_count": 432,
   "metadata": {},
   "outputs": [
    {
     "data": {
      "text/plain": [
       "<AxesSubplot:ylabel='Count'>"
      ]
     },
     "execution_count": 432,
     "metadata": {},
     "output_type": "execute_result"
    },
    {
     "data": {
      "image/png": "[encoded data removed]",
      "text/plain": [
       "<Figure size 432x288 with 1 Axes>"
      ]
     },
     "metadata": {},
     "output_type": "display_data"
    }
   ],
   "source": [
    "sns.histplot(list(mention_count.values()), log_scale=True)"
   ]
  },
  {
   "cell_type": "code",
   "execution_count": 433,
   "metadata": {},
   "outputs": [
    {
     "data": {
      "text/plain": [
       "<AxesSubplot:ylabel='Count'>"
      ]
     },
     "execution_count": 433,
     "metadata": {},
     "output_type": "execute_result"
    },
    {
     "data": {
      "image/png": "[encoded data removed]",
      "text/plain": [
       "<Figure size 432x288 with 1 Axes>"
      ]
     },
     "metadata": {},
     "output_type": "display_data"
    }
   ],
   "source": [
    "sns.histplot(list([k for k in mention_count.values() if k <100000]), log_scale=True)"
   ]
  },
  {
   "cell_type": "code",
   "execution_count": 434,
   "metadata": {},
   "outputs": [
    {
     "data": {
      "text/plain": [
       "49.13470319634703"
      ]
     },
     "execution_count": 434,
     "metadata": {},
     "output_type": "execute_result"
    }
   ],
   "source": [
    "len([k for k in mention_count.values() if k <5])*100/len(mention_count)"
   ]
  },
  {
   "cell_type": "code",
   "execution_count": 435,
   "metadata": {},
   "outputs": [
    {
     "data": {
      "text/plain": [
       "28470.0"
      ]
     },
     "execution_count": 435,
     "metadata": {},
     "output_type": "execute_result"
    }
   ],
   "source": [
    "(1-0.35)*len(mention_count)"
   ]
  },
  {
   "cell_type": "markdown",
   "metadata": {},
   "source": [
    "## upvote based weight vs comment based weight \n",
    "\n",
    "Do they have correlation?"
   ]
  },
  {
   "cell_type": "markdown",
   "metadata": {},
   "source": [
    "Let's look at January's data"
   ]
  },
  {
   "cell_type": "code",
   "execution_count": 436,
   "metadata": {},
   "outputs": [],
   "source": [
    "upvote_based = [ns_subreddit_01[ns][sr][1] for ns in ns_subreddit_01 for sr in ns_subreddit_01[ns]]\n",
    "comment_based = [ns_subreddit_01[ns][sr][2] for ns in ns_subreddit_01 for sr in ns_subreddit_01[ns]]\n",
    "unweighted = [ns_subreddit_01[ns][sr][0] for ns in ns_subreddit_01 for sr in ns_subreddit_01[ns]]"
   ]
  },
  {
   "cell_type": "code",
   "execution_count": 437,
   "metadata": {},
   "outputs": [
    {
     "data": {
      "text/plain": [
       "(-5000.0, 150000.0)"
      ]
     },
     "execution_count": 437,
     "metadata": {},
     "output_type": "execute_result"
    },
    {
     "data": {
      "image/png": "[encoded data removed]",
      "text/plain": [
       "<Figure size 432x288 with 1 Axes>"
      ]
     },
     "metadata": {},
     "output_type": "display_data"
    }
   ],
   "source": [
    "sns.scatterplot(x=comment_based, y=upvote_based, alpha=0.5)\n",
    "plt.xlabel(\"comment_based\")\n",
    "plt.ylabel(\"upvote_based\")\n",
    "plt.xlim([-100000,4000000])\n",
    "plt.ylim([-5000,150000])"
   ]
  },
  {
   "cell_type": "code",
   "execution_count": 438,
   "metadata": {},
   "outputs": [
    {
     "data": {
      "text/plain": [
       "Text(0, 0.5, 'upvote_based')"
      ]
     },
     "execution_count": 438,
     "metadata": {},
     "output_type": "execute_result"
    },
    {
     "data": {
      "image/png": "[encoded data removed]",
      "text/plain": [
       "<Figure size 432x288 with 1 Axes>"
      ]
     },
     "metadata": {},
     "output_type": "display_data"
    }
   ],
   "source": [
    "a = sns.scatterplot(x=np.log(np.array([c+1 for c in comment_based])), y=np.log(np.array([u+1 for u in upvote_based])), alpha=0.2)\n",
    "plt.xlabel(\"comment_based\")\n",
    "plt.ylabel(\"upvote_based\")"
   ]
  },
  {
   "cell_type": "code",
   "execution_count": 439,
   "metadata": {},
   "outputs": [],
   "source": [
    "from scipy.stats import pearsonr"
   ]
  },
  {
   "cell_type": "code",
   "execution_count": 440,
   "metadata": {},
   "outputs": [
    {
     "data": {
      "text/plain": [
       "0.4035266586811294"
      ]
     },
     "execution_count": 440,
     "metadata": {},
     "output_type": "execute_result"
    }
   ],
   "source": [
    "corr, _ = pearsonr(np.log(np.array([c+1 for c in comment_based])), np.log(np.array([u+1 for u in upvote_based])))\n",
    "corr"
   ]
  },
  {
   "cell_type": "code",
   "execution_count": 441,
   "metadata": {},
   "outputs": [
    {
     "data": {
      "text/plain": [
       "0.23620470479544883"
      ]
     },
     "execution_count": 441,
     "metadata": {},
     "output_type": "execute_result"
    }
   ],
   "source": [
    "corr_raw, _ = pearsonr(comment_based, upvote_based)\n",
    "corr_raw"
   ]
  },
  {
   "cell_type": "markdown",
   "metadata": {},
   "source": [
    "## I filter out news sources that are just too general"
   ]
  },
  {
   "cell_type": "code",
   "execution_count": 85,
   "metadata": {},
   "outputs": [
    {
     "data": {
      "text/plain": [
       "23575"
      ]
     },
     "execution_count": 85,
     "metadata": {},
     "output_type": "execute_result"
    }
   ],
   "source": [
    "len(ns_union)"
   ]
  },
  {
   "cell_type": "code",
   "execution_count": 86,
   "metadata": {},
   "outputs": [
    {
     "data": {
      "text/plain": [
       "131"
      ]
     },
     "execution_count": 86,
     "metadata": {},
     "output_type": "execute_result"
    }
   ],
   "source": [
    "len([k for k in ns_union if subreddit_count[k] > 1000])"
   ]
  },
  {
   "cell_type": "code",
   "execution_count": 87,
   "metadata": {},
   "outputs": [
    {
     "data": {
      "text/plain": [
       "11436"
      ]
     },
     "execution_count": 87,
     "metadata": {},
     "output_type": "execute_result"
    }
   ],
   "source": [
    "non_outlier = [k for k in ns_union if subreddit_count[k] <= 1048 and subreddit_count[k] > 5]\n",
    "len(non_outlier)"
   ]
  },
  {
   "cell_type": "code",
   "execution_count": 88,
   "metadata": {},
   "outputs": [
    {
     "data": {
      "text/plain": [
       "3654"
      ]
     },
     "execution_count": 88,
     "metadata": {},
     "output_type": "execute_result"
    }
   ],
   "source": [
    "subreddit_count['washingtonpost.com']"
   ]
  },
  {
   "cell_type": "code",
   "execution_count": 89,
   "metadata": {},
   "outputs": [
    {
     "data": {
      "text/plain": [
       "False"
      ]
     },
     "execution_count": 89,
     "metadata": {},
     "output_type": "execute_result"
    }
   ],
   "source": [
    "'washingtonpost.com' in non_outlier"
   ]
  },
  {
   "cell_type": "code",
   "execution_count": 90,
   "metadata": {},
   "outputs": [
    {
     "data": {
      "text/plain": [
       "['zawya.com',\n",
       " 'standard.net',\n",
       " 'shu.edu',\n",
       " 'abc7amarillo.com',\n",
       " 'ij.org',\n",
       " 'gamepressure.com',\n",
       " 'ledevoir.com',\n",
       " 'pearsonvue.com',\n",
       " 'forum18.org',\n",
       " 'kxnet.com',\n",
       " 'theasset.com',\n",
       " 'gao.gov',\n",
       " 'thenational.scot',\n",
       " 'visaliatimesdelta.com',\n",
       " 'deadstate.org',\n",
       " 'speedwaymedia.com',\n",
       " 'agnetwest.com',\n",
       " 'indialegallive.com',\n",
       " '25yearslatersite.com',\n",
       " 'c4isrnet.com',\n",
       " 'mastercard.com',\n",
       " 'eldiariony.com',\n",
       " 'examiner.net',\n",
       " 'borneobulletin.com.bn',\n",
       " 'square-enix-games.com',\n",
       " 'lemonde.fr',\n",
       " 'medgadget.com',\n",
       " 'marvel.com',\n",
       " 'thechurchnews.com',\n",
       " 'pokernews.com',\n",
       " '14news.com',\n",
       " 'ustream.tv',\n",
       " 'adnkronos.com',\n",
       " 'amacad.org',\n",
       " 'businessam.be',\n",
       " 'breastcancer.org',\n",
       " 'sheboyganpress.com',\n",
       " 'newrepublic.com',\n",
       " 'ourcommunitynow.com',\n",
       " 'caribbeannationalweekly.com',\n",
       " 'forbesindia.com',\n",
       " 'tradersmagazine.com',\n",
       " 'milwaukeemag.com',\n",
       " 'thepoultrysite.com',\n",
       " 'developingtelecoms.com',\n",
       " 'dayton247now.com',\n",
       " 'wtap.com',\n",
       " 'nngroup.com',\n",
       " 'centralmaine.com',\n",
       " 'badtaste.it',\n",
       " 'qrius.com',\n",
       " 'climatecentral.org',\n",
       " 'tec.mx',\n",
       " 'cyclingweekly.com',\n",
       " 'journalnow.com',\n",
       " 'fullfact.org',\n",
       " 'theolympian.com',\n",
       " 'news957.com',\n",
       " 'rtings.com',\n",
       " 'stackpathdns.com',\n",
       " 'publicbooks.org',\n",
       " 'parentherald.com',\n",
       " 'yogajournal.com',\n",
       " 'canadianbiomassmagazine.ca',\n",
       " 'radio.cz',\n",
       " 'baltimoreravens.com',\n",
       " 'alternatives-economiques.fr',\n",
       " 'usta.com',\n",
       " 'summitdaily.com',\n",
       " 'pharmaceutical-journal.com',\n",
       " 'realsimple.com',\n",
       " 'eveningtelegraph.co.uk',\n",
       " 'actionnetwork.com',\n",
       " 'kivitv.com',\n",
       " 'hachettebookgroup.com',\n",
       " 'emorywheel.com',\n",
       " 'publicsource.org',\n",
       " 'totallythebomb.com',\n",
       " 'metronieuws.nl',\n",
       " 'kansasreflector.com',\n",
       " 'nj.com',\n",
       " 'born2invest.com',\n",
       " 'cbs58.com',\n",
       " 'punknews.org',\n",
       " 'ncl.ac.uk',\n",
       " 'mainepublic.org',\n",
       " 'whatsupnewp.com',\n",
       " 'financialmirror.com',\n",
       " 'kiwaradio.com',\n",
       " 'genome.gov',\n",
       " 'colostate.edu',\n",
       " 'deconstructoroffun.com',\n",
       " 'indianapolisrecorder.com',\n",
       " 'comicyears.com',\n",
       " 'investegate.co.uk',\n",
       " 'thesixthaxis.com',\n",
       " 'krtv.com',\n",
       " 'parentingscience.com',\n",
       " 'semana.com',\n",
       " 'sporttechie.com',\n",
       " 'accc.gov.au',\n",
       " 'thepointmag.com',\n",
       " 'thissongissick.com',\n",
       " 'latinus.us',\n",
       " 'moneytalksnews.com',\n",
       " 'mumbailive.com',\n",
       " 'telefe.com',\n",
       " 'medicaldialogues.in',\n",
       " 'jpmorgan.com',\n",
       " 'presstelegram.com',\n",
       " 'therumpus.net',\n",
       " 'mindbodygreen.com',\n",
       " 'vesti.ru',\n",
       " 'ffrf.org',\n",
       " 'wrmea.org',\n",
       " 'attractionsmagazine.com',\n",
       " 'newsbytesapp.com',\n",
       " 'utahutes.com',\n",
       " 'shelbynews.com',\n",
       " 'valuethemarkets.com',\n",
       " 'sookenewsmirror.com',\n",
       " 'thetimes-tribune.com',\n",
       " 'rollingstone.it',\n",
       " 'sevendaysvt.com',\n",
       " 'parismatch.com',\n",
       " 'estevanmercury.ca',\n",
       " 'cornell.edu',\n",
       " 'suasnews.com',\n",
       " 'vocm.com',\n",
       " 'ambito.com',\n",
       " 'fleetworld.co.uk',\n",
       " 'griffith.edu.au',\n",
       " 'advisorperspectives.com',\n",
       " 'espnfrontrow.com',\n",
       " 'starrymag.com',\n",
       " 'dallascowboys.com',\n",
       " 'kxl.com',\n",
       " 'newschainonline.com',\n",
       " 'geelongadvertiser.com.au',\n",
       " 'ajot.com',\n",
       " 'firefox.com',\n",
       " 'blogpreston.co.uk',\n",
       " 'thebody.com',\n",
       " 'pcgamesn.com',\n",
       " 'martechseries.com',\n",
       " 'revelstokereview.com',\n",
       " 'fanfest.com',\n",
       " 'tass.com',\n",
       " 'mediamatters.org',\n",
       " 'swp.de',\n",
       " 'baomoi.com',\n",
       " 'dn.pt',\n",
       " 'codepen.io',\n",
       " 'khaama.com',\n",
       " 'columbusunderground.com',\n",
       " 'idahostatesman.com',\n",
       " 'biologicaldiversity.org',\n",
       " 'cnas.org',\n",
       " 'history.com',\n",
       " 'mediasetplay.mediaset.it',\n",
       " 'texags.com',\n",
       " 'hindustantimes.com',\n",
       " 'carolinapublicpress.org',\n",
       " 'good.is',\n",
       " 'themissouritimes.com',\n",
       " 'migalhas.com.br',\n",
       " 'elkharttruth.com',\n",
       " 'moosejawtoday.com',\n",
       " 'chieftain.com',\n",
       " 'dailysabah.com',\n",
       " 'tagblatt.ch',\n",
       " 'smashwords.com',\n",
       " 'kymkemp.com',\n",
       " 'kkoh.com',\n",
       " 'yoursun.com',\n",
       " 'therooster.com',\n",
       " 'garmin.com',\n",
       " 'wrvo.org',\n",
       " 'ancestry.com',\n",
       " 'yaleclimateconnections.org',\n",
       " 'nutraingredients.com',\n",
       " 'junkee.com',\n",
       " 'inhabitat.com',\n",
       " 'telegraf.rs',\n",
       " 'mobileidworld.com',\n",
       " 'missoulian.com',\n",
       " 'licenseglobal.com',\n",
       " 'liquor.com',\n",
       " 'thestarphoenix.com',\n",
       " 'humanesociety.org',\n",
       " 'memphisflyer.com',\n",
       " 'hu-berlin.de',\n",
       " 'extratv.com',\n",
       " 'bleedingcool.com',\n",
       " 'cfo.com',\n",
       " 'eiu.com',\n",
       " '7news.com.au',\n",
       " 'itv.com',\n",
       " 'asamnews.com',\n",
       " 'zigwheels.com',\n",
       " 'gwinnettdailypost.com',\n",
       " 'farmweekly.com.au',\n",
       " 'citynews1130.com',\n",
       " 'brignews.com',\n",
       " 'cbs42.com',\n",
       " 'rsf.org',\n",
       " 'lse.co.uk',\n",
       " 'wheels.ca',\n",
       " 'conchovalleyhomepage.com',\n",
       " 'workpermit.com',\n",
       " 'fashiongonerogue.com',\n",
       " 'uga.edu',\n",
       " 'nationaltrust.org.uk',\n",
       " 'dailycal.org',\n",
       " 'premierleague.com',\n",
       " 'indiantelevision.com',\n",
       " 'northcentralpa.com',\n",
       " 'instinctmagazine.com',\n",
       " 'eurasiareview.com',\n",
       " 'seattletimes.com',\n",
       " 'thislandpress.com',\n",
       " 'utahpolicy.com',\n",
       " 'livelaw.in',\n",
       " 'disneyplus.com',\n",
       " 'bravotv.com',\n",
       " 'wdef.com',\n",
       " 'jimdo.com',\n",
       " 'bibliocommons.com',\n",
       " 'popwrapped.com',\n",
       " 'techhq.com',\n",
       " 'torontostoreys.com',\n",
       " 'kxan.com',\n",
       " 'thechronicle.com.au',\n",
       " 'cosmosmagazine.com',\n",
       " 'boxofficepro.com',\n",
       " 'wattagnet.com',\n",
       " 'thetrucker.com',\n",
       " 'waste360.com',\n",
       " 'thebluetestament.com',\n",
       " 'dopemagazine.com',\n",
       " 'askamanager.org',\n",
       " 'the-scientist.com',\n",
       " 'voiceofalexandria.com',\n",
       " 'bgr.com',\n",
       " 'bestproducts.com',\n",
       " 'thisweekinworcester.com',\n",
       " 'muckrack.com',\n",
       " 'nepalitimes.com',\n",
       " 'domain.com.au',\n",
       " 'redrocknews.com',\n",
       " 'davidswanson.org',\n",
       " 'completecolorado.com',\n",
       " 'queerty.com',\n",
       " 'ecosia.org',\n",
       " 'fortworthbusiness.com',\n",
       " 'channelfireball.com',\n",
       " 'thesmartlocal.com',\n",
       " 'kstk.org',\n",
       " 'carnegie.ru',\n",
       " 'socceramerica.com',\n",
       " 'onlineathens.com',\n",
       " 'kezi.com',\n",
       " 'kykernel.com',\n",
       " 'foodnavigator-usa.com',\n",
       " 'classical-music.com',\n",
       " 'libertarianism.org',\n",
       " 'index.hr',\n",
       " 'thumbsticks.com',\n",
       " 'financialbuzz.com',\n",
       " 'prageru.com',\n",
       " 'taxfoundation.org',\n",
       " 'jordansdaily.com',\n",
       " 'crn.com.au',\n",
       " 'essentiallysports.com',\n",
       " 'arizona.edu',\n",
       " 'keeps.com',\n",
       " 'phonearena.com',\n",
       " 'dl-online.com',\n",
       " 'redgreenandblue.org',\n",
       " 'filmschoolrejects.com',\n",
       " 'darkreading.com',\n",
       " 'thetempest.co',\n",
       " 'arsenal.com',\n",
       " 'bioenergy-news.com',\n",
       " 'bulatlat.com',\n",
       " 'muslimmatters.org',\n",
       " 'gobankingrates.com',\n",
       " 'thehealthcareblog.com',\n",
       " 'wboy.com',\n",
       " 'army-technology.com',\n",
       " 'beltmag.com',\n",
       " 'newsandstar.co.uk',\n",
       " 'aamc.org',\n",
       " 'premiumtimesng.com',\n",
       " 'stratfor.com',\n",
       " 'swaay.com',\n",
       " 'iflscience.com',\n",
       " 'msha.ke',\n",
       " 'financecolombia.com',\n",
       " 'mlive.com',\n",
       " 'elsoldetijuana.com.mx',\n",
       " 'esportsinsider.com',\n",
       " 'wristwatchreview.com',\n",
       " 'kentuckynewera.com',\n",
       " 'provokemedia.com',\n",
       " 'moderndogmagazine.com',\n",
       " 'fangoria.com',\n",
       " 'necn.com',\n",
       " 'orfonline.org',\n",
       " 'dotesports.com',\n",
       " 'evo.co.uk',\n",
       " 'clark.com',\n",
       " 'tes.com',\n",
       " 'earwolf.com',\n",
       " 'qcnerve.com',\n",
       " 'gimletmedia.com',\n",
       " 'onclive.com',\n",
       " 'hermanmiller.com',\n",
       " 'shorttermrentalz.com',\n",
       " 'vidaextra.com',\n",
       " 'montecookgames.com',\n",
       " 'tubefilter.com',\n",
       " 'bnn.ca',\n",
       " 'kfgo.com',\n",
       " 'smashingmagazine.com',\n",
       " 'pbs.org',\n",
       " 'wordswithoutborders.org',\n",
       " 'pv-magazine.com',\n",
       " 'arklatexhomepage.com',\n",
       " 'journalofaccountancy.com',\n",
       " 'planeandpilotmag.com',\n",
       " 'joblo.com',\n",
       " 'moroccoworldnews.com',\n",
       " 'journal-news.net',\n",
       " 'scholastic.com',\n",
       " 'state.nj.us',\n",
       " 'dailyprincetonian.com',\n",
       " 'montreal.citynews.ca',\n",
       " 'ch-aviation.com',\n",
       " 'lgbtqnation.com',\n",
       " 'judicialwatch.org',\n",
       " 'iowa.gov',\n",
       " 'jpost.com',\n",
       " 'wienerzeitung.at',\n",
       " 'cbs4indy.com',\n",
       " 'theeyeopener.com',\n",
       " 'canadafreepress.com',\n",
       " 'environmentalleader.com',\n",
       " 'meduza.io',\n",
       " 'smmirror.com',\n",
       " 'miningweekly.com',\n",
       " 'massivesci.com',\n",
       " 'actionnewsjax.com',\n",
       " 'prx.org',\n",
       " 'rtp.pt',\n",
       " 'sciencetimes.com',\n",
       " 'uoregon.edu',\n",
       " 'foxsports.com.au',\n",
       " 'the-blockchain.com',\n",
       " 'impacto.mx',\n",
       " 'therolladailynews.com',\n",
       " 'thebump.com',\n",
       " 'beargoggleson.com',\n",
       " 'redlandscommunitynews.com',\n",
       " 'glassdoor.com',\n",
       " 'khan.co.kr',\n",
       " 'allevents.in',\n",
       " 'timescall.com',\n",
       " 'anothermag.com',\n",
       " 'healthyplace.com',\n",
       " 'iowapublicradio.org',\n",
       " 'thelocal.no',\n",
       " 'goal.com',\n",
       " 'a16z.com',\n",
       " 'buymeacoffee.com',\n",
       " 'thinkadvisor.com',\n",
       " 'jetbrains.com',\n",
       " 'clicklancashire.com',\n",
       " 'classicfm.com',\n",
       " 'playground.ru',\n",
       " 'greenentrepreneur.com',\n",
       " 'everythinggp.com',\n",
       " 'bz-berlin.de',\n",
       " 'katc.com',\n",
       " 'interest.co.nz',\n",
       " 'egmnow.com',\n",
       " 'kait8.com',\n",
       " 'dailyvoice.com',\n",
       " 'prabhatkhabar.com',\n",
       " 'jeanmarcmorandini.com',\n",
       " 'long-mcquade.com',\n",
       " 'thecaterer.com',\n",
       " 'droidgamers.com',\n",
       " 'times-series.co.uk',\n",
       " 'citizensclimatelobby.org',\n",
       " 'nintendosoup.com',\n",
       " 'planet.fr',\n",
       " 'sprinklr.com',\n",
       " 'rafu.com',\n",
       " 'ew.com',\n",
       " 'coinnounce.com',\n",
       " 'channel4.com',\n",
       " 'citizen.co.za',\n",
       " 'heterodoxacademy.org',\n",
       " 'nbc12.com',\n",
       " 'spaceweatherarchive.com',\n",
       " 'nd.nl',\n",
       " 'browndailyherald.com',\n",
       " 'thenewcivilrightsmovement.com',\n",
       " 'mtexpress.com',\n",
       " 'radio.gov.pk',\n",
       " 'thecollegefix.com',\n",
       " 'techtimes.com',\n",
       " 'gamemag.ru',\n",
       " 'lonelyplanet.com',\n",
       " 'socialistworker.co.uk',\n",
       " 'truthdig.com',\n",
       " 'kyivpost.com',\n",
       " 'cyclist.co.uk',\n",
       " 'newschannelnebraska.com',\n",
       " 'fcw.com',\n",
       " 'bigblueview.com',\n",
       " 'lee.net',\n",
       " 'sierraclub.org',\n",
       " 'maximumfun.org',\n",
       " 'eu-startups.com',\n",
       " 'anime2you.de',\n",
       " 'wvnews.com',\n",
       " 'fox21news.com',\n",
       " 'waste-management-world.com',\n",
       " 'depauliaonline.com',\n",
       " 'fodors.com',\n",
       " 'kswo.com',\n",
       " 'leeds-live.co.uk',\n",
       " 'myplainview.com',\n",
       " 'hyperallergic.com',\n",
       " 'redditinc.com',\n",
       " 'pro-tools-expert.com',\n",
       " 'thechronicleonline.com',\n",
       " 'caledonianrecord.com',\n",
       " 'ole.com.ar',\n",
       " 'dailycampus.com',\n",
       " 'gizchina.com',\n",
       " 'spinditty.com',\n",
       " 'naftemporiki.gr',\n",
       " 'megelison.com',\n",
       " 'blackfilm.com',\n",
       " 'energymagazine.com.au',\n",
       " 'tbnewswatch.com',\n",
       " 'montreal.ctvnews.ca',\n",
       " 'wikiquote.org',\n",
       " '3dprintingindustry.com',\n",
       " 'fleet.ie',\n",
       " 'androidcentral.com',\n",
       " 'limerickpost.ie',\n",
       " 'ibtimes.co.uk',\n",
       " 'sciencealert.com',\n",
       " 'patient.info',\n",
       " 'lc.nl',\n",
       " 'canalys.com',\n",
       " 'stiften.dk',\n",
       " 'day.kyiv.ua',\n",
       " 'landreport.com',\n",
       " 'lexch.com',\n",
       " 'weny.com',\n",
       " 'supplychaindigital.com',\n",
       " 'carscoops.com',\n",
       " 'tecnoblog.net',\n",
       " 'theweektoday.com',\n",
       " 'hollywoodlife.com',\n",
       " 'doubleclick.net',\n",
       " 'aiaa.org',\n",
       " 'colorado.gov',\n",
       " 'elchapuzasinformatico.com',\n",
       " 'granitegrok.com',\n",
       " 'paypal-corp.com',\n",
       " 'towleroad.com',\n",
       " 'sdpnoticias.com',\n",
       " 'cp24.com',\n",
       " 'fastcasual.com',\n",
       " 'uab.edu',\n",
       " 'musicfeeds.com.au',\n",
       " 'atlantamagazine.com',\n",
       " 'latribune.fr',\n",
       " 'bylinetimes.com',\n",
       " 'kentuckytoday.com',\n",
       " 'kbia.org',\n",
       " 'kw.com',\n",
       " 'montrealgazette.com',\n",
       " 'delmartimes.net',\n",
       " 'thelocal.se',\n",
       " 'athlonsports.com',\n",
       " 'oaoa.com',\n",
       " 'ironmountaindailynews.com',\n",
       " 'nicematin.com',\n",
       " 'eprize.com',\n",
       " 'mypanhandle.com',\n",
       " 'gjsentinel.com',\n",
       " 'adressa.no',\n",
       " 'buzzflash.com',\n",
       " 'rsc.org',\n",
       " 'berkeleyside.org',\n",
       " 'leagueapps.com',\n",
       " 'bankinfosecurity.com',\n",
       " 'sounderatheart.com',\n",
       " 'stpetecatalyst.com',\n",
       " 'capital.de',\n",
       " 'smnewsnet.com',\n",
       " 'ckdr.net',\n",
       " 'americaoutloud.com',\n",
       " 'huskers.com',\n",
       " 'geektime.com',\n",
       " 'niemanreports.org',\n",
       " 'wcfcourier.com',\n",
       " 'storagereview.com',\n",
       " 'mondediplo.com',\n",
       " 'verticalmag.com',\n",
       " 'investors.com',\n",
       " 'ncregister.com',\n",
       " 'today.it',\n",
       " 'metro.co.uk',\n",
       " 'channelfutures.com',\n",
       " 'hudsoncountyview.com',\n",
       " 'slowtwitch.com',\n",
       " 'themoscowtimes.com',\n",
       " 'extra.ie',\n",
       " 'caranddriver.com',\n",
       " 'conjur.com.br',\n",
       " 'androidauthority.com',\n",
       " 'unu.edu',\n",
       " 'cleveland.com',\n",
       " 'ntu.edu.sg',\n",
       " 'news18.com',\n",
       " 'lareviewofbooks.org',\n",
       " 'skyhinews.com',\n",
       " 'toronto.ctvnews.ca',\n",
       " 'swindonadvertiser.co.uk',\n",
       " 'hkcnews.com',\n",
       " 'fox32chicago.com',\n",
       " 'bookandfilmglobe.com',\n",
       " 'aminoapps.com',\n",
       " 'ammonnews.net',\n",
       " 'locusmag.com',\n",
       " 'trefis.com',\n",
       " 'drf.com',\n",
       " 'managedhealthcareexecutive.com',\n",
       " 'whatsnew2day.com',\n",
       " 'noozhawk.com',\n",
       " 'opendemocracy.net',\n",
       " 'hrreporter.com',\n",
       " 'climatenewsnetwork.net',\n",
       " 'bipartisanpolicy.org',\n",
       " 'france24.com',\n",
       " 'albany.edu',\n",
       " 'datasociety.net',\n",
       " 'sozcu.com.tr',\n",
       " 'simcoereformer.ca',\n",
       " 'fatherly.com',\n",
       " 'soundandvision.com',\n",
       " 'afl.com.au',\n",
       " 'baystatebanner.com',\n",
       " 'priceofoil.org',\n",
       " 'eldeber.com.bo',\n",
       " 'dailynorthwestern.com',\n",
       " 'telecompaper.com',\n",
       " 'fitnessvolt.com',\n",
       " 'circleid.com',\n",
       " 'lakeconews.com',\n",
       " 'dailydot.com',\n",
       " 'alaskajournal.com',\n",
       " 'pride.com',\n",
       " 'edn.com',\n",
       " 'thepitchkc.com',\n",
       " 'dnevnik.bg',\n",
       " 'salaamgateway.com',\n",
       " 'dcvelocity.com',\n",
       " 'thecomeback.com',\n",
       " 'thebetterindia.com',\n",
       " 'clevelandclinic.org',\n",
       " 'universitymagazine.ca',\n",
       " 'exercism.io',\n",
       " 'otto.de',\n",
       " 'powelltribune.com',\n",
       " 'grubstreet.com',\n",
       " 'profootballnetwork.com',\n",
       " 'unr.edu',\n",
       " 'sxsw.com',\n",
       " 'tuko.co.ke',\n",
       " 'popularwoodworking.com',\n",
       " 'aaaai.org',\n",
       " 'middle-east-online.com',\n",
       " 'thephiladelphiacitizen.org',\n",
       " 'starobserver.com.au',\n",
       " 'redhat.com',\n",
       " 'activistpost.com',\n",
       " 'total-croatia-news.com',\n",
       " 'hastingstribune.com',\n",
       " 'komonews.com',\n",
       " 'rushlane.com',\n",
       " 'stern.de',\n",
       " 'cultmtl.com',\n",
       " 'lbc.co.uk',\n",
       " 'michaelsavage.com',\n",
       " 'wfae.org',\n",
       " 'forbes.com.mx',\n",
       " 'heraldstandard.com',\n",
       " 'heritagedaily.com',\n",
       " 'myftpupload.com',\n",
       " 'leaderpost.com',\n",
       " 'sainsburys.co.uk',\n",
       " 'wobm.com',\n",
       " 'sc.gov',\n",
       " 'china-journal.org',\n",
       " 'elsoldetoluca.com.mx',\n",
       " 'gamerant.com',\n",
       " 'infodefensa.com',\n",
       " 'jornaldenegocios.pt',\n",
       " 'thestatesman.com',\n",
       " 'samsungmobile.com',\n",
       " 'wideopenspaces.com',\n",
       " 'nbcmontana.com',\n",
       " 'streetwisereports.com',\n",
       " 'htrnews.com',\n",
       " 'fanbyte.com',\n",
       " 'fs.blog',\n",
       " 'hmmagazine.com',\n",
       " 'thehawk.in',\n",
       " 'tribunnews.com',\n",
       " 'exchangerates.org.uk',\n",
       " 'indaily.com.au',\n",
       " 'wornandwound.com',\n",
       " 'seatrade-maritime.com',\n",
       " 'techcentral.co.za',\n",
       " 'moguldom.com',\n",
       " 'qu.edu',\n",
       " 'twocircles.net',\n",
       " 'scifipulse.net',\n",
       " 'abc3340.com',\n",
       " 'mbl.is',\n",
       " 'droid-life.com',\n",
       " 'knpr.org',\n",
       " 'easyreadernews.com',\n",
       " 'sdsu.edu',\n",
       " 'ganjapreneur.com',\n",
       " 'nutritionaloutlook.com',\n",
       " 'gaymingmag.com',\n",
       " 'ecrater.com',\n",
       " 'decider.com',\n",
       " 'gla.ac.uk',\n",
       " 'nsctotal.com.br',\n",
       " 'bartoszmilewski.com',\n",
       " 'myprincegeorgenow.com',\n",
       " 'muskokaregion.com',\n",
       " 'smithsonianmag.com',\n",
       " 'state.md.us',\n",
       " 'redflagdeals.com',\n",
       " 'ama.org',\n",
       " 'theferret.scot',\n",
       " 'wnem.com',\n",
       " 'businessmirror.com.ph',\n",
       " '3m.com',\n",
       " 'theenergyst.com',\n",
       " 'maciverinstitute.com',\n",
       " 'westport-news.com',\n",
       " 'trinity.edu',\n",
       " 'cigionline.org',\n",
       " 'tonyrobbins.com',\n",
       " 'adevarul.ro',\n",
       " '3dnews.ru',\n",
       " 'thecabin.net',\n",
       " 'rejournals.com',\n",
       " 'thedailynewsonline.com',\n",
       " 'entertainment.ie',\n",
       " 'sungazette.com',\n",
       " 'technews.tw',\n",
       " 'cyclingmagazine.ca',\n",
       " 'bioprocessonline.com',\n",
       " 'ultiworld.com',\n",
       " 'dior.com',\n",
       " 'ilsussidiario.net',\n",
       " 'gcs-web.com',\n",
       " 'asiae.co.kr',\n",
       " 'alaskahighwaynews.ca',\n",
       " 'world-grain.com',\n",
       " 'afar.com',\n",
       " 'avma.org',\n",
       " 'myq105.com',\n",
       " 'itmedia.co.jp',\n",
       " 'sunshinecoastdaily.com.au',\n",
       " 'oakridger.com',\n",
       " 'heysocal.com',\n",
       " 'tdn.com',\n",
       " 'dirkdeklein.net',\n",
       " 'awn.com',\n",
       " 'poconorecord.com',\n",
       " 'bham.ac.uk',\n",
       " 'greenleft.org.au',\n",
       " 'intomore.com',\n",
       " '10play.com.au',\n",
       " 'washingtonian.com',\n",
       " 'embedded.com',\n",
       " 'tempo.co',\n",
       " 'laphamsquarterly.org',\n",
       " 'kpcw.org',\n",
       " 'portswigger.net',\n",
       " 'digitalcommerce360.com',\n",
       " 'turnto23.com',\n",
       " 'europa.eu',\n",
       " 'aspi.org.au',\n",
       " 'bloombergtax.com',\n",
       " 'securityinfowatch.com',\n",
       " 'egypttoday.com',\n",
       " 'theicegarden.com',\n",
       " 'newhavenindependent.org',\n",
       " 'lalsace.fr',\n",
       " 'farmprogress.com',\n",
       " 'theouterhaven.net',\n",
       " 'rare.us',\n",
       " 'smh.com.au',\n",
       " 'solarpowerportal.co.uk',\n",
       " 'dhakatribune.com',\n",
       " 'timesrecordnews.com',\n",
       " 'ewtn.com',\n",
       " 'willistonherald.com',\n",
       " 'bookbub.com',\n",
       " 'thirdcoastreview.com',\n",
       " 'darientimes.com',\n",
       " 'japantimes.co.jp',\n",
       " 'badische-zeitung.de',\n",
       " 'mayoclinic.org',\n",
       " 'wcyy.com',\n",
       " 'offshorewind.biz',\n",
       " 'cgdev.org',\n",
       " 'cybernews.com',\n",
       " 'fox40.com',\n",
       " 'cnsnews.com',\n",
       " 'ktsa.com',\n",
       " 'ukf.com',\n",
       " 'stcatharinesstandard.ca',\n",
       " 'rojakdaily.com',\n",
       " 'wizmnews.com',\n",
       " 'wikisource.org',\n",
       " 'ok.co.uk',\n",
       " 'mit.edu',\n",
       " 'agi.it',\n",
       " 'westbridgfordwire.com',\n",
       " 'bms.com',\n",
       " 'gigaom.com',\n",
       " 'executivetraveller.com',\n",
       " 'leeds.ac.uk',\n",
       " 'badlefthook.com',\n",
       " 'americansongwriter.com',\n",
       " 'worldpoliticsreview.com',\n",
       " 'sweetwaternow.com',\n",
       " 'yardbarker.com',\n",
       " 'uk.com',\n",
       " 'storenvy.com',\n",
       " 'rpp.pe',\n",
       " 'reliefweb.int',\n",
       " 'traderjoes.com',\n",
       " 'packtpub.com',\n",
       " 'aerospacetestinginternational.com',\n",
       " 'buffalonews.com',\n",
       " 'axs.com',\n",
       " 'christianpost.com',\n",
       " 'thefinanser.com',\n",
       " 'lematin.ch',\n",
       " 'hse.ie',\n",
       " 'producer.com',\n",
       " 'closerweekly.com',\n",
       " 'ktvh.com',\n",
       " 'flatpanelshd.com',\n",
       " 'esportsbets.com',\n",
       " 'krebsonsecurity.com',\n",
       " 'kpvi.com',\n",
       " 'piquenewsmagazine.com',\n",
       " 'cultofmac.com',\n",
       " 'rudaw.net',\n",
       " 'techradar.com',\n",
       " 'wiltsglosstandard.co.uk',\n",
       " 'musescore.org',\n",
       " 'prohibitionpartners.com',\n",
       " 'house.gov',\n",
       " 'sspnet.org',\n",
       " 'noblogs.org',\n",
       " 'bworldonline.com',\n",
       " 'vpr.org',\n",
       " 'crowrivermedia.com',\n",
       " 'kron4.com',\n",
       " 'newtimesslo.com',\n",
       " 'windowscentral.com',\n",
       " 'heraldandnews.com',\n",
       " 'bookmyshow.com',\n",
       " 'heartfm.ca',\n",
       " 'news.sina.cn',\n",
       " 'guru3d.com',\n",
       " 'infoworld.com',\n",
       " 'taz.de',\n",
       " 'artificialintelligence-news.com',\n",
       " 'proyectopuente.com.mx',\n",
       " 'telekom.com',\n",
       " 'msmagazine.com',\n",
       " 'overland.org.au',\n",
       " 'azonano.com',\n",
       " 'studyfinds.org',\n",
       " 'tolonews.com',\n",
       " 'stuttgarter-nachrichten.de',\n",
       " 'thv11.com',\n",
       " 'canpl.ca',\n",
       " 'kpopstarz.com',\n",
       " 'nikkeibp.co.jp',\n",
       " 'wallofsoundau.com',\n",
       " 'bbcrewind.co.uk',\n",
       " 'getfootballnewsfrance.com',\n",
       " 'i24news.tv',\n",
       " 'politifact.com',\n",
       " 'morningstar.co.uk',\n",
       " 'hellomagazine.com',\n",
       " 'niche-canada.org',\n",
       " 'xataka.com.mx',\n",
       " 'thecoast.ca',\n",
       " 'sustainablebrands.com',\n",
       " 'maritime-executive.com',\n",
       " 'everydayhealth.com',\n",
       " 'kerbalspaceprogram.com',\n",
       " 'cincyjungle.com',\n",
       " 'wisconsinrapidstribune.com',\n",
       " 'mdpi.com',\n",
       " 'thehardtimes.net',\n",
       " 'archdaily.com',\n",
       " 'insead.edu',\n",
       " 'donordrive.com',\n",
       " 'ed.ac.uk',\n",
       " 'aiga.org',\n",
       " 'voguebusiness.com',\n",
       " 'kcur.org',\n",
       " 'istoedinheiro.com.br',\n",
       " 'grocerydive.com',\n",
       " 'kfoxtv.com',\n",
       " 'marxist.ca',\n",
       " 'tripsavvy.com',\n",
       " 'alxnow.com',\n",
       " 'dailyutahchronicle.com',\n",
       " 'punchng.com',\n",
       " 'eurosport.fr',\n",
       " 'ips-dc.org',\n",
       " 'reseller.co.nz',\n",
       " 'nhl.com',\n",
       " 'digitimes.com',\n",
       " 'consultancy.uk',\n",
       " 'bc.edu',\n",
       " 'rnz.de',\n",
       " 'businessexaminer.ca',\n",
       " 'relocate.me',\n",
       " 'theticker.org',\n",
       " 'macmillan.com',\n",
       " 'news10.com',\n",
       " 'filmink.com.au',\n",
       " 'kamloopsthisweek.com',\n",
       " 'realtytoday.com',\n",
       " 'rac.co.uk',\n",
       " 'kdll.org',\n",
       " 'cubuffs.com',\n",
       " 'konbini.com',\n",
       " 'googleblog.com',\n",
       " 'thesaturdaypaper.com.au',\n",
       " 'cogconnected.com',\n",
       " 'ricochet.com',\n",
       " 'cultureofgaming.com',\n",
       " 'countryfile.com',\n",
       " 'daily-sun.com',\n",
       " 'govexec.com',\n",
       " 'utsouthwestern.edu',\n",
       " 'artofmanliness.com',\n",
       " 'passionweiss.com',\n",
       " 'institutionalinvestor.com',\n",
       " 'stockopedia.com',\n",
       " 'ssa.gov',\n",
       " 'yelmonline.com',\n",
       " 'omelete.com.br',\n",
       " 'aperture.org',\n",
       " 'ncsl.org',\n",
       " 'ulifestyle.com.hk',\n",
       " 'hotspawn.com',\n",
       " 'france-amerique.com',\n",
       " 'lajollalight.com',\n",
       " 'justfactsdaily.com',\n",
       " 'wsws.org',\n",
       " 'toyokeizai.net',\n",
       " 'healthprofessionalradio.com.au',\n",
       " 'romesentinel.com',\n",
       " 'theartsdesk.com',\n",
       " 'responsiblestatecraft.org',\n",
       " 'gillettenewsrecord.com',\n",
       " 'scottishlegal.com',\n",
       " 'thevinylfactory.com',\n",
       " 'icrc.org',\n",
       " 'tor.com',\n",
       " 'underdogdynasty.com',\n",
       " 'schroders.com',\n",
       " 'calmatters.org',\n",
       " 'cpac.ca',\n",
       " 'moneymetals.com',\n",
       " 'timeline.com',\n",
       " 'inews.co.uk',\n",
       " 'oilcity.news',\n",
       " 'gmanetwork.com',\n",
       " 'ucalgary.ca',\n",
       " 'nearshoreamericas.com',\n",
       " 'wkfr.com',\n",
       " 'kcrw.com',\n",
       " 'brasildefato.com.br',\n",
       " 'recordonline.com',\n",
       " 'morningstar.ca',\n",
       " 'reviewofreligions.org',\n",
       " 'aei.org',\n",
       " 'domino.com',\n",
       " 'rightwingwatch.org',\n",
       " 'occupydemocrats.com',\n",
       " 'salemnews.net',\n",
       " 'dkoding.in',\n",
       " 'livinglifefearless.co',\n",
       " 'cryptobriefing.com',\n",
       " 'mmafighting.com',\n",
       " 'indiancountrytoday.com',\n",
       " 'gamesplanet.com',\n",
       " 'sfist.com',\n",
       " 'lvz.de',\n",
       " 'missourinet.com',\n",
       " 'extratimetalk.com',\n",
       " 'rbth.com',\n",
       " '985fm.ca',\n",
       " 'publictechnology.net',\n",
       " 'punditarena.com',\n",
       " 'lenconnect.com',\n",
       " 'zeit.de',\n",
       " 'thewalrus.ca',\n",
       " 'marinelink.com',\n",
       " 'choice.com.au',\n",
       " 'lmtribune.com',\n",
       " 'wmht.org',\n",
       " 'avclub.com',\n",
       " 'thehandbook.com',\n",
       " 'ina.fr',\n",
       " 'wtkr.com',\n",
       " 'ilmessaggero.it',\n",
       " 'taste.com.au',\n",
       " 'rbc.ru',\n",
       " 'citizentv.co.ke',\n",
       " 'thermofisher.com',\n",
       " '3dcenter.org',\n",
       " 'businesscloud.co.uk',\n",
       " 'focusrite.com',\n",
       " 'msu.edu',\n",
       " 'inquirer.com',\n",
       " 'pku.edu.cn',\n",
       " 'yandex.ru',\n",
       " 'scienceboard.net',\n",
       " 'comingsoon.net',\n",
       " 'lexpress.fr',\n",
       " 'investigatemidwest.org',\n",
       " 'wtmj.com',\n",
       " 'technadu.com',\n",
       " 'kathimerini.com.cy',\n",
       " 'news-journalonline.com',\n",
       " 'khak.com',\n",
       " 'jingdaily.com',\n",
       " 'womenwriteaboutcomics.com',\n",
       " 'novosti.rs',\n",
       " 'kitces.com',\n",
       " 'vt.edu',\n",
       " 'joplinglobe.com',\n",
       " 'futurism.com',\n",
       " 'relevantmagazine.com',\n",
       " 'digg.com',\n",
       " 'digit.fyi',\n",
       " 'westsiderag.com',\n",
       " 'guardian.co.tt',\n",
       " 'morgenpost.de',\n",
       " 'richmondfed.org',\n",
       " 'parkinsonsnewstoday.com',\n",
       " 'awionline.org',\n",
       " 'gouv.qc.ca',\n",
       " 'kbjr6.com',\n",
       " 'lsuagcenter.com',\n",
       " 'opinionnigeria.com',\n",
       " 'oann.com',\n",
       " 'mehrnews.com',\n",
       " 'gametimect.com',\n",
       " 'messagemedia.co',\n",
       " 'westerninvestor.com',\n",
       " 'advisor.ca',\n",
       " 'opednews.com',\n",
       " 'waow.com',\n",
       " 'scotsman.com',\n",
       " 'euromoney.com',\n",
       " 'biblicalarchaeology.org',\n",
       " 'thenewamerican.com',\n",
       " 'unionleader.com',\n",
       " 'rochester.edu',\n",
       " ...]"
      ]
     },
     "execution_count": 90,
     "metadata": {},
     "output_type": "execute_result"
    }
   ],
   "source": [
    "non_outlier"
   ]
  },
  {
   "cell_type": "markdown",
   "metadata": {},
   "source": [
    "## For now as a case study I will define `non_outlier` to be some news sources from MBFC\n",
    "\n",
    "I will take out this step later"
   ]
  },
  {
   "cell_type": "code",
   "execution_count": 96,
   "metadata": {},
   "outputs": [
    {
     "data": {
      "text/plain": [
       "319"
      ]
     },
     "execution_count": 96,
     "metadata": {},
     "output_type": "execute_result"
    }
   ],
   "source": [
    "mbfc_left_raw = json.load(open(os.path.join(mbfc_path, \"mbfc_left.json\")))\n",
    "len(mbfc_left_raw)"
   ]
  },
  {
   "cell_type": "code",
   "execution_count": 97,
   "metadata": {},
   "outputs": [
    {
     "data": {
      "text/plain": [
       "254"
      ]
     },
     "execution_count": 97,
     "metadata": {},
     "output_type": "execute_result"
    }
   ],
   "source": [
    "mbfc_right_raw = json.load(open(os.path.join(mbfc_path, \"mbfc_right.json\")))\n",
    "len(mbfc_right_raw)"
   ]
  },
  {
   "cell_type": "code",
   "execution_count": 100,
   "metadata": {},
   "outputs": [],
   "source": [
    "mbfc_left = [m[1] for m in mbfc_left_raw if m[1]]\n",
    "mbfc_right = [m[1] for m in mbfc_right_raw if m[1]]"
   ]
  },
  {
   "cell_type": "markdown",
   "metadata": {},
   "source": [
    "Cleaning the URLs for both `mbfc_left` and `mbfc_right`."
   ]
  },
  {
   "cell_type": "code",
   "execution_count": 138,
   "metadata": {},
   "outputs": [
    {
     "data": {
      "text/plain": [
       "292"
      ]
     },
     "execution_count": 138,
     "metadata": {},
     "output_type": "execute_result"
    }
   ],
   "source": [
    "# for mbfc_left\n",
    "mbfc_left_clean = set()\n",
    "for ns in mbfc_left:\n",
    "    extracted = tldextract.extract(ns)\n",
    "    subdomain, domain, suffix = extracted\n",
    "    # add both versions of domain.suffix and subdomain.domain.suffix\n",
    "    full = \"\"\n",
    "    # with subdomain\n",
    "    if len(subdomain) > 0:\n",
    "        #print(f\"{subdomain}.{domain}.{suffix}\")\n",
    "        full = f\"{subdomain}.{domain}.{suffix}\"\n",
    "        if len(full) > 0:\n",
    "            mbfc_left_clean.add(full.replace(\"www.\",\"\").strip('/'))\n",
    "    # without subdomain\n",
    "    full = f\"{domain}.{suffix}\"\n",
    "    if len(full) > 0:\n",
    "        mbfc_left_clean.add(full.replace(\"www.\",\"\").strip('/'))\n",
    "len(mbfc_left_clean)"
   ]
  },
  {
   "cell_type": "code",
   "execution_count": 139,
   "metadata": {},
   "outputs": [
    {
     "data": {
      "text/plain": [
       "232"
      ]
     },
     "execution_count": 139,
     "metadata": {},
     "output_type": "execute_result"
    }
   ],
   "source": [
    "# for mbfc_right\n",
    "mbfc_right_clean = set()\n",
    "for ns in mbfc_right:\n",
    "    extracted = tldextract.extract(ns)\n",
    "    subdomain, domain, suffix = extracted\n",
    "    # add both versions of domain.suffix and subdomain.domain.suffix\n",
    "    full = \"\"\n",
    "    # with subdomain\n",
    "    if len(subdomain) > 0:\n",
    "        #print(f\"{subdomain}.{domain}.{suffix}\")\n",
    "        full = f\"{subdomain}.{domain}.{suffix}\"\n",
    "        if len(full) > 0:\n",
    "            mbfc_right_clean.add(full.replace(\"www.\",\"\").strip('/'))\n",
    "    # without subdomain\n",
    "    full = f\"{domain}.{suffix}\"\n",
    "    if len(full) > 0:\n",
    "        mbfc_right_clean.add(full.replace(\"www.\",\"\").strip('/'))\n",
    "len(mbfc_right_clean)"
   ]
  },
  {
   "cell_type": "code",
   "execution_count": 140,
   "metadata": {},
   "outputs": [
    {
     "data": {
      "text/plain": [
       "266"
      ]
     },
     "execution_count": 140,
     "metadata": {},
     "output_type": "execute_result"
    }
   ],
   "source": [
    "non_outlier = (mbfc_left_clean | mbfc_right_clean) & set(ns_union)\n",
    "len(non_outlier)"
   ]
  },
  {
   "cell_type": "markdown",
   "metadata": {},
   "source": [
    "## Cluster Try Out"
   ]
  },
  {
   "cell_type": "markdown",
   "metadata": {},
   "source": [
    "First, I make a list of subreddits with fixed order, where I only include subreddits where our non_outlier news sources are mentioned in."
   ]
  },
  {
   "cell_type": "code",
   "execution_count": 141,
   "metadata": {},
   "outputs": [
    {
     "data": {
      "text/plain": [
       "266"
      ]
     },
     "execution_count": 141,
     "metadata": {},
     "output_type": "execute_result"
    }
   ],
   "source": [
    "len(non_outlier)"
   ]
  },
  {
   "cell_type": "code",
   "execution_count": 142,
   "metadata": {
    "scrolled": true
   },
   "outputs": [
    {
     "name": "stdout",
     "output_type": "stream",
     "text": [
      "done 100\n",
      "done 200\n"
     ]
    },
    {
     "data": {
      "text/plain": [
       "11128"
      ]
     },
     "execution_count": 142,
     "metadata": {},
     "output_type": "execute_result"
    }
   ],
   "source": [
    "# subreddits = subs\n",
    "subreddits = set()\n",
    "nsr_files = [ns_subreddit_01, ns_subreddit_02, ns_subreddit_03, ns_subreddit_04, ns_subreddit_05, ns_subreddit_06]\n",
    "# first, I filter for only the subreddits in which our news sources are mentioned\n",
    "c = 0\n",
    "for n in non_outlier:\n",
    "    subreddits = (subreddits | set(ns_subreddit_01.get(n, dict()).keys()) \n",
    "                               | set(ns_subreddit_02.get(n, dict()).keys()) \n",
    "                               | set(ns_subreddit_03.get(n, dict()).keys()) \n",
    "                               | set(ns_subreddit_04.get(n, dict()).keys())\n",
    "                               | set(ns_subreddit_05.get(n, dict()).keys()) \n",
    "                               | set(ns_subreddit_06.get(n, dict()).keys()))\n",
    "    c += 1\n",
    "    if c%100==0: print(f\"done {c}\")\n",
    "subreddits = list(subreddits)\n",
    "len(subreddits)"
   ]
  },
  {
   "cell_type": "markdown",
   "metadata": {},
   "source": [
    "There are 9195 subreddits."
   ]
  },
  {
   "cell_type": "code",
   "execution_count": 143,
   "metadata": {},
   "outputs": [
    {
     "data": {
      "text/plain": [
       "['BillGatesBeingAwesome',\n",
       " 'Nationals',\n",
       " 'GenX',\n",
       " 'Testosterone',\n",
       " 'BeeGees',\n",
       " 'NewYorkForSanders',\n",
       " 'FreeKarma4U',\n",
       " 'mazzystar',\n",
       " 'turtleswithjobs',\n",
       " 'vim']"
      ]
     },
     "execution_count": 143,
     "metadata": {},
     "output_type": "execute_result"
    }
   ],
   "source": [
    "subreddits[-10:]"
   ]
  },
  {
   "cell_type": "markdown",
   "metadata": {},
   "source": [
    "If I should order them later, I can do so."
   ]
  },
  {
   "cell_type": "markdown",
   "metadata": {},
   "source": [
    "## Incorporating subscribers information"
   ]
  },
  {
   "cell_type": "code",
   "execution_count": 144,
   "metadata": {},
   "outputs": [],
   "source": [
    "pd1 = os.path.split(os.getcwd())[0]\n",
    "data_fp = os.path.join(pd1,\"data/gm-newssources-subreddits\")\n",
    "dfp = os.path.join(pd1,\"data\")"
   ]
  },
  {
   "cell_type": "code",
   "execution_count": 145,
   "metadata": {},
   "outputs": [],
   "source": [
    "sfp = os.path.join(pd1,\"data/subreddits\")"
   ]
  },
  {
   "cell_type": "code",
   "execution_count": 146,
   "metadata": {},
   "outputs": [],
   "source": [
    "# Let's only use the subreddits that have lots of subscribers\n",
    "with open (os.path.join(sfp,\"subreddit_subscribers.json\"), \"r\", encoding = \"utf-8\") as infile:\n",
    "    subreddit_subscribers = json.load(infile)"
   ]
  },
  {
   "cell_type": "code",
   "execution_count": 147,
   "metadata": {},
   "outputs": [
    {
     "data": {
      "text/plain": [
       "6201779"
      ]
     },
     "execution_count": 147,
     "metadata": {},
     "output_type": "execute_result"
    }
   ],
   "source": [
    "subreddit_subscribers['politics']"
   ]
  },
  {
   "cell_type": "code",
   "execution_count": 148,
   "metadata": {},
   "outputs": [
    {
     "data": {
      "text/plain": [
       "49055"
      ]
     },
     "execution_count": 148,
     "metadata": {},
     "output_type": "execute_result"
    }
   ],
   "source": [
    "len(subreddit_subscribers)"
   ]
  },
  {
   "cell_type": "code",
   "execution_count": 149,
   "metadata": {},
   "outputs": [
    {
     "data": {
      "text/plain": [
       "11128"
      ]
     },
     "execution_count": 149,
     "metadata": {},
     "output_type": "execute_result"
    }
   ],
   "source": [
    "len(subreddits)"
   ]
  },
  {
   "cell_type": "code",
   "execution_count": 150,
   "metadata": {
    "scrolled": true
   },
   "outputs": [
    {
     "data": {
      "text/plain": [
       "8455"
      ]
     },
     "execution_count": 150,
     "metadata": {},
     "output_type": "execute_result"
    }
   ],
   "source": [
    "subreddits_w_subc = [k for k in subreddits if k in subreddit_subscribers]\n",
    "len(subreddits_w_subc)"
   ]
  },
  {
   "cell_type": "markdown",
   "metadata": {},
   "source": [
    "It seems that there are `None` values, so let's filter those subreddits out."
   ]
  },
  {
   "cell_type": "code",
   "execution_count": 151,
   "metadata": {},
   "outputs": [
    {
     "name": "stdout",
     "output_type": "stream",
     "text": [
      "['LoveForLandlords', 'DystopianFuture', 'RedditMobTest', 'JKRowling']\n"
     ]
    }
   ],
   "source": [
    "print([s for s in subreddits_w_subc if subreddit_subscribers[s] is None])"
   ]
  },
  {
   "cell_type": "code",
   "execution_count": 152,
   "metadata": {},
   "outputs": [],
   "source": [
    "subreddits_w_subc = [s for s in subreddits_w_subc if subreddit_subscribers[s] is not None]"
   ]
  },
  {
   "cell_type": "code",
   "execution_count": 153,
   "metadata": {},
   "outputs": [
    {
     "data": {
      "text/plain": [
       "8451"
      ]
     },
     "execution_count": 153,
     "metadata": {},
     "output_type": "execute_result"
    }
   ],
   "source": [
    "len(subreddits_w_subc)"
   ]
  },
  {
   "cell_type": "markdown",
   "metadata": {},
   "source": [
    "Now, I will sort the 8,294 subreddits based on the # of their subscribers in a descending order."
   ]
  },
  {
   "cell_type": "code",
   "execution_count": 154,
   "metadata": {},
   "outputs": [],
   "source": [
    "srs_all = sorted(subreddits_w_subc, key= lambda x: subreddit_subscribers[x], reverse= True)"
   ]
  },
  {
   "cell_type": "code",
   "execution_count": 155,
   "metadata": {
    "scrolled": false
   },
   "outputs": [
    {
     "data": {
      "text/plain": [
       "Text(0.5, 1.0, 'Subreddits Subscribers')"
      ]
     },
     "execution_count": 155,
     "metadata": {},
     "output_type": "execute_result"
    },
    {
     "data": {
      "image/png": "[encoded data removed]",
      "text/plain": [
       "<Figure size 432x288 with 1 Axes>"
      ]
     },
     "metadata": {},
     "output_type": "display_data"
    }
   ],
   "source": [
    "# plt.hist([math.log(subreddit_subscribers[s],10) for s in srs_all if subreddit_subscribers[s] > 0])\n",
    "sns.histplot([subreddit_subscribers[s] for s in srs_all if subreddit_subscribers[s]>0], log_scale=True)\n",
    "# plt.hist([subreddit_subscribers[s] for s in srs_all if subreddit_subscribers[s] > 0])\n",
    "# plt.yscale(\"log\")\n",
    "# plt.xscale(\"log\")\n",
    "plt.ylabel(\"number of subreddits\")\n",
    "plt.xlabel(\"number of subscribers (10^)\")\n",
    "plt.title(\"Subreddits Subscribers\")\n",
    "# log scale for both x and y"
   ]
  },
  {
   "cell_type": "markdown",
   "metadata": {},
   "source": [
    "Which subreddits are the top three?"
   ]
  },
  {
   "cell_type": "code",
   "execution_count": 156,
   "metadata": {},
   "outputs": [
    {
     "name": "stdout",
     "output_type": "stream",
     "text": [
      "[('funny', 31060166), ('gaming', 26628444), ('aww', 25197817)]\n"
     ]
    }
   ],
   "source": [
    "print([(s,subreddit_subscribers[s]) for s in srs_all if subreddit_subscribers[s]>25000000])"
   ]
  },
  {
   "cell_type": "code",
   "execution_count": 157,
   "metadata": {
    "scrolled": true
   },
   "outputs": [
    {
     "data": {
      "text/plain": [
       "['__doc__',\n",
       " '__loader__',\n",
       " '__name__',\n",
       " '__package__',\n",
       " '__spec__',\n",
       " 'acos',\n",
       " 'acosh',\n",
       " 'asin',\n",
       " 'asinh',\n",
       " 'atan',\n",
       " 'atan2',\n",
       " 'atanh',\n",
       " 'ceil',\n",
       " 'comb',\n",
       " 'copysign',\n",
       " 'cos',\n",
       " 'cosh',\n",
       " 'degrees',\n",
       " 'dist',\n",
       " 'e',\n",
       " 'erf',\n",
       " 'erfc',\n",
       " 'exp',\n",
       " 'expm1',\n",
       " 'fabs',\n",
       " 'factorial',\n",
       " 'floor',\n",
       " 'fmod',\n",
       " 'frexp',\n",
       " 'fsum',\n",
       " 'gamma',\n",
       " 'gcd',\n",
       " 'hypot',\n",
       " 'inf',\n",
       " 'isclose',\n",
       " 'isfinite',\n",
       " 'isinf',\n",
       " 'isnan',\n",
       " 'isqrt',\n",
       " 'ldexp',\n",
       " 'lgamma',\n",
       " 'log',\n",
       " 'log10',\n",
       " 'log1p',\n",
       " 'log2',\n",
       " 'modf',\n",
       " 'nan',\n",
       " 'perm',\n",
       " 'pi',\n",
       " 'pow',\n",
       " 'prod',\n",
       " 'radians',\n",
       " 'remainder',\n",
       " 'sin',\n",
       " 'sinh',\n",
       " 'sqrt',\n",
       " 'tan',\n",
       " 'tanh',\n",
       " 'tau',\n",
       " 'trunc']"
      ]
     },
     "execution_count": 157,
     "metadata": {},
     "output_type": "execute_result"
    }
   ],
   "source": [
    "dir(math)"
   ]
  },
  {
   "cell_type": "code",
   "execution_count": 158,
   "metadata": {},
   "outputs": [
    {
     "data": {
      "text/plain": [
       "25"
      ]
     },
     "execution_count": 158,
     "metadata": {},
     "output_type": "execute_result"
    }
   ],
   "source": [
    "list(subreddit_subscribers.values()).count(None)"
   ]
  },
  {
   "cell_type": "code",
   "execution_count": 159,
   "metadata": {},
   "outputs": [
    {
     "data": {
      "text/plain": [
       "1420.0"
      ]
     },
     "execution_count": 159,
     "metadata": {},
     "output_type": "execute_result"
    }
   ],
   "source": [
    "statistics.median([k for k in list(subreddit_subscribers.values()) if k is not None])"
   ]
  },
  {
   "cell_type": "code",
   "execution_count": 160,
   "metadata": {},
   "outputs": [
    {
     "data": {
      "text/plain": [
       "50070.832184376915"
      ]
     },
     "execution_count": 160,
     "metadata": {},
     "output_type": "execute_result"
    }
   ],
   "source": [
    "statistics.mean([k for k in list(subreddit_subscribers.values()) if k is not None])"
   ]
  },
  {
   "cell_type": "markdown",
   "metadata": {},
   "source": [
    "## Building `ns_repr`\n",
    "\n",
    "Which will be in the form of feature-based matrix, where each row represents a news source, and columns representing subreddits. Each subreddit will be represented by 18 columns: unweighted count, upvote based weighted count, and comment based weighted count for each of the six months that we are interested in."
   ]
  },
  {
   "cell_type": "code",
   "execution_count": 161,
   "metadata": {},
   "outputs": [],
   "source": [
    "srs = srs_all"
   ]
  },
  {
   "cell_type": "code",
   "execution_count": 162,
   "metadata": {},
   "outputs": [
    {
     "data": {
      "text/plain": [
       "{'a': 1, 'b': 1, 'c': 2}"
      ]
     },
     "execution_count": 162,
     "metadata": {},
     "output_type": "execute_result"
    }
   ],
   "source": [
    "a = {\"a\": 1, \"b\": 2}\n",
    "b = {\"b\": 1, \"c\": 2}\n",
    "res = {**a, **b}\n",
    "res"
   ]
  },
  {
   "cell_type": "markdown",
   "metadata": {},
   "source": [
    "For each news source, I create a list of length `(3 * # subreddits)`."
   ]
  },
  {
   "cell_type": "markdown",
   "metadata": {},
   "source": [
    "Old code\n",
    "```\n",
    "# here I will cast the inner dictionaries of ns_subreddits to be Counter so I can avoid a lot of if-else statements\n",
    "files = [ns_subreddit_01, ns_subreddit_02, ns_subreddit_03, ns_subreddit_04, ns_subreddit_05, ns_subreddit_06]\n",
    "for f in files:\n",
    "    for k in f: # k is each news source\n",
    "        for ns in f[k]:\n",
    "            # averaging based on weighted counts\n",
    "            count, upv, comm = f[k][ns]\n",
    "            avg = (upv + comm)/count\n",
    "            f[k][ns] = avg\n",
    "        f[k] = Counter(f[k])\n",
    "```"
   ]
  },
  {
   "cell_type": "code",
   "execution_count": 163,
   "metadata": {},
   "outputs": [],
   "source": [
    "files_sub = [ns_subreddit_01, ns_subreddit_02, ns_subreddit_03, ns_subreddit_04, ns_subreddit_05, ns_subreddit_06]"
   ]
  },
  {
   "cell_type": "code",
   "execution_count": 164,
   "metadata": {},
   "outputs": [
    {
     "data": {
      "text/plain": [
       "266"
      ]
     },
     "execution_count": 164,
     "metadata": {},
     "output_type": "execute_result"
    }
   ],
   "source": [
    "len(non_outlier)"
   ]
  },
  {
   "cell_type": "code",
   "execution_count": 165,
   "metadata": {},
   "outputs": [
    {
     "data": {
      "text/plain": [
       "8451"
      ]
     },
     "execution_count": 165,
     "metadata": {},
     "output_type": "execute_result"
    }
   ],
   "source": [
    "len(srs)"
   ]
  },
  {
   "cell_type": "markdown",
   "metadata": {},
   "source": [
    "I tried and found out that using all 23.7k subreddits results in MemoryError. So I should use less"
   ]
  },
  {
   "cell_type": "code",
   "execution_count": 206,
   "metadata": {},
   "outputs": [],
   "source": [
    "srs = srs_all[:5000]"
   ]
  },
  {
   "cell_type": "code",
   "execution_count": 234,
   "metadata": {
    "scrolled": true
   },
   "outputs": [
    {
     "name": "stdout",
     "output_type": "stream",
     "text": [
      "200\n"
     ]
    }
   ],
   "source": [
    "ns_sr_rep = defaultdict(list)\n",
    "default_counter = Counter() # to avoid a lot of if else statements\n",
    "\n",
    "ncount = 0\n",
    "\n",
    "# for ns in nss:\n",
    "for ns in non_outlier:\n",
    "    # for each news sources, construct the 18*length(subreddits) features\n",
    "    for f in files_sub:\n",
    "        for idx in range(len(srs)):\n",
    "            # making sure the ordering follows `srs` based on subscribers\n",
    "            ns_sr_rep[ns] += f[ns][srs[idx]][1:] if (ns in f and srs[idx] in f[ns]) else [0, 0]\n",
    "    ncount += 1\n",
    "    if ncount%200==0: print(ncount)"
   ]
  },
  {
   "cell_type": "markdown",
   "metadata": {},
   "source": [
    "    code started at 22:56"
   ]
  },
  {
   "cell_type": "markdown",
   "metadata": {},
   "source": [
    "Let's see one example of representation for `nytimes.com`."
   ]
  },
  {
   "cell_type": "code",
   "execution_count": 235,
   "metadata": {},
   "outputs": [
    {
     "data": {
      "text/plain": [
       "60000"
      ]
     },
     "execution_count": 235,
     "metadata": {},
     "output_type": "execute_result"
    }
   ],
   "source": [
    "len(ns_sr_rep['amsterdamnews.com'])"
   ]
  },
  {
   "cell_type": "markdown",
   "metadata": {},
   "source": [
    "Let's investigate the sparsity of our data"
   ]
  },
  {
   "cell_type": "code",
   "execution_count": 236,
   "metadata": {},
   "outputs": [],
   "source": [
    "from numpy import array\n",
    "from numpy import count_nonzero\n",
    "from scipy.sparse import csr_matrix"
   ]
  },
  {
   "cell_type": "code",
   "execution_count": 237,
   "metadata": {},
   "outputs": [],
   "source": [
    "# ns_repr, ns_fixed = np.array([v[1] for v in items]), list([v[0] for v in items]) # this causes memory error\n",
    "## MemoryError: Unable to allocate 15.3 GiB for an array with shape (11436, 180000) and data type float64\n",
    "items = ns_sr_rep.items()\n",
    "ns_repr = np.array([v[1] for v in items])"
   ]
  },
  {
   "cell_type": "code",
   "execution_count": 238,
   "metadata": {},
   "outputs": [],
   "source": [
    "sparsity = 1.0 - np.count_nonzero(ns_repr)/ns_repr.size"
   ]
  },
  {
   "cell_type": "code",
   "execution_count": 239,
   "metadata": {},
   "outputs": [
    {
     "data": {
      "text/plain": [
       "0.9944756265664161"
      ]
     },
     "execution_count": 239,
     "metadata": {},
     "output_type": "execute_result"
    }
   ],
   "source": [
    "sparsity"
   ]
  },
  {
   "cell_type": "markdown",
   "metadata": {},
   "source": [
    "Wow very high sparsity."
   ]
  },
  {
   "cell_type": "code",
   "execution_count": 240,
   "metadata": {
    "scrolled": true
   },
   "outputs": [
    {
     "name": "stdout",
     "output_type": "stream",
     "text": [
      "  (0, 24492)\t1.22\n",
      "  (0, 24493)\t6.0\n",
      "  (0, 24982)\t1.68\n",
      "  (0, 24983)\t8.0\n",
      "  (0, 33258)\t1.34\n",
      "  (0, 33259)\t4.0\n",
      "  (0, 35526)\t1.0\n",
      "  (0, 40716)\t0.3\n",
      "  (0, 40717)\t3.0\n",
      "  (0, 42920)\t0.92\n",
      "  (0, 42921)\t25.0\n",
      "  (0, 45136)\t0.57\n",
      "  (0, 45137)\t2.0\n",
      "  (0, 52920)\t1.0\n",
      "  (0, 52921)\t9.0\n",
      "  (0, 54792)\t1.66\n",
      "  (0, 54793)\t6.0\n",
      "  (0, 58094)\t1.82\n",
      "  (0, 58095)\t6.0\n",
      "  (1, 386)\t0.5\n",
      "  (1, 406)\t0.54\n",
      "  (1, 407)\t2.0\n",
      "  (1, 1068)\t0.62\n",
      "  (1, 1069)\t2.0\n",
      "  (1, 1732)\t0.86\n",
      "  :\t:\n",
      "  (265, 29212)\t0.92\n",
      "  (265, 29213)\t1.0\n",
      "  (265, 33876)\t0.97\n",
      "  (265, 33877)\t88.0\n",
      "  (265, 35262)\t0.84\n",
      "  (265, 35263)\t1.0\n",
      "  (265, 35508)\t0.9\n",
      "  (265, 35509)\t3.0\n",
      "  (265, 38112)\t0.98\n",
      "  (265, 38113)\t25.0\n",
      "  (265, 38688)\t0.98\n",
      "  (265, 38689)\t4.0\n",
      "  (265, 42990)\t1.86\n",
      "  (265, 42991)\t18.0\n",
      "  (265, 44756)\t0.99\n",
      "  (265, 44757)\t5.0\n",
      "  (265, 46054)\t1.34\n",
      "  (265, 46055)\t42.0\n",
      "  (265, 51260)\t1.0\n",
      "  (265, 55152)\t1.0\n",
      "  (265, 55153)\t4.0\n",
      "  (265, 57040)\t0.87\n",
      "  (265, 57041)\t17.0\n",
      "  (265, 58168)\t1.0\n",
      "  (265, 58169)\t11.0\n"
     ]
    }
   ],
   "source": [
    "# convert to sparse matrix (CSR method)\n",
    "S = csr_matrix(ns_repr)\n",
    "print(S)"
   ]
  },
  {
   "cell_type": "markdown",
   "metadata": {},
   "source": [
    "### Now PCA"
   ]
  },
  {
   "cell_type": "code",
   "execution_count": 241,
   "metadata": {},
   "outputs": [],
   "source": [
    "# svd = TruncatedSVD(n_components=len(srs)) #, n_iter=7, random_state=42)\n",
    "svd = PCA(n_components=len(ns_repr))"
   ]
  },
  {
   "cell_type": "code",
   "execution_count": 242,
   "metadata": {},
   "outputs": [
    {
     "data": {
      "text/plain": [
       "PCA(n_components=266)"
      ]
     },
     "execution_count": 242,
     "metadata": {},
     "output_type": "execute_result"
    }
   ],
   "source": [
    "svd.fit(ns_repr)"
   ]
  },
  {
   "cell_type": "code",
   "execution_count": 243,
   "metadata": {},
   "outputs": [],
   "source": [
    "explained_var = svd.explained_variance_ratio_"
   ]
  },
  {
   "cell_type": "code",
   "execution_count": 244,
   "metadata": {},
   "outputs": [
    {
     "data": {
      "text/plain": [
       "266"
      ]
     },
     "execution_count": 244,
     "metadata": {},
     "output_type": "execute_result"
    }
   ],
   "source": [
    "len(explained_var)"
   ]
  },
  {
   "cell_type": "code",
   "execution_count": 245,
   "metadata": {},
   "outputs": [
    {
     "data": {
      "text/plain": [
       "0.9999999999999999"
      ]
     },
     "execution_count": 245,
     "metadata": {},
     "output_type": "execute_result"
    }
   ],
   "source": [
    "svd.explained_variance_ratio_.sum()"
   ]
  },
  {
   "cell_type": "code",
   "execution_count": 246,
   "metadata": {},
   "outputs": [],
   "source": [
    "explained_var_sums = [sum(explained_var[:d]) for d in range(len(ns_repr))]"
   ]
  },
  {
   "cell_type": "code",
   "execution_count": 247,
   "metadata": {},
   "outputs": [
    {
     "name": "stderr",
     "output_type": "stream",
     "text": [
      "c:\\users\\user200803\\appdata\\local\\programs\\python\\python38\\lib\\site-packages\\seaborn\\_decorators.py:36: FutureWarning: Pass the following variables as keyword args: x, y. From version 0.12, the only valid positional argument will be `data`, and passing other arguments without an explicit keyword will result in an error or misinterpretation.\n",
      "  warnings.warn(\n"
     ]
    },
    {
     "data": {
      "text/plain": [
       "<AxesSubplot:>"
      ]
     },
     "execution_count": 247,
     "metadata": {},
     "output_type": "execute_result"
    },
    {
     "data": {
      "image/png": "[encoded data removed]",
      "text/plain": [
       "<Figure size 432x288 with 1 Axes>"
      ]
     },
     "metadata": {},
     "output_type": "display_data"
    }
   ],
   "source": [
    "sns.lineplot(range(len(explained_var_sums)), explained_var_sums)"
   ]
  },
  {
   "cell_type": "markdown",
   "metadata": {},
   "source": [
    "Now, I will cast those list representation values to be numpy arrays so I can preprocess them easily. Further, I will normalize each array."
   ]
  },
  {
   "cell_type": "markdown",
   "metadata": {},
   "source": [
    "*side note: `preprocessing.normalize` vs `standardscaler`*"
   ]
  },
  {
   "cell_type": "code",
   "execution_count": 160,
   "metadata": {},
   "outputs": [
    {
     "data": {
      "text/plain": [
       "array([[0.00999301, 0.99930073, 0.01998601, 0.02997902]])"
      ]
     },
     "execution_count": 160,
     "metadata": {},
     "output_type": "execute_result"
    }
   ],
   "source": [
    "preprocessing.normalize(np.array([[1,100,2,3]]))"
   ]
  },
  {
   "cell_type": "code",
   "execution_count": 161,
   "metadata": {},
   "outputs": [
    {
     "data": {
      "text/plain": [
       "array([[0., 0., 0., 0.]])"
      ]
     },
     "execution_count": 161,
     "metadata": {},
     "output_type": "execute_result"
    }
   ],
   "source": [
    "scaler = StandardScaler()\n",
    "scaler.fit_transform(np.array([[1,100,2,3]]))"
   ]
  },
  {
   "cell_type": "markdown",
   "metadata": {},
   "source": [
    "Now I'm thinking, should I *normalize* or *standardize*?"
   ]
  },
  {
   "cell_type": "code",
   "execution_count": 162,
   "metadata": {},
   "outputs": [],
   "source": [
    "# for ns in ns_sr_rep:\n",
    "#     rep = ns_sr_rep[ns]\n",
    "#     ns_sr_rep[ns] = preprocessing.normalize(np.array([rep]))"
   ]
  },
  {
   "cell_type": "markdown",
   "metadata": {},
   "source": [
    "## K-Means\n",
    "\n",
    "Without standardization.\n",
    "\n",
    "First, I need to find optimum `k`."
   ]
  },
  {
   "cell_type": "code",
   "execution_count": 163,
   "metadata": {},
   "outputs": [],
   "source": [
    "kmeans = KMeans(init = \"k-means++\",\n",
    "               n_clusters = 5,\n",
    "               n_init = 10,\n",
    "               max_iter = 100)"
   ]
  },
  {
   "cell_type": "markdown",
   "metadata": {},
   "source": [
    "Freezing the list for representations and the news sources."
   ]
  },
  {
   "cell_type": "code",
   "execution_count": 166,
   "metadata": {},
   "outputs": [
    {
     "data": {
      "text/plain": [
       "KMeans(max_iter=100, n_clusters=5)"
      ]
     },
     "execution_count": 166,
     "metadata": {},
     "output_type": "execute_result"
    }
   ],
   "source": [
    "kmeans.fit([v for v in ns_sr_rep.values()])"
   ]
  },
  {
   "cell_type": "code",
   "execution_count": 167,
   "metadata": {},
   "outputs": [
    {
     "name": "stdout",
     "output_type": "stream",
     "text": [
      "True\n"
     ]
    }
   ],
   "source": [
    "for i,ns in enumerate(ns_fixed):\n",
    "    if (ns_sr_rep[ns] == ns_repr[i]).all():\n",
    "        pass\n",
    "    else:\n",
    "        print(\"False\")\n",
    "print(\"True\")"
   ]
  },
  {
   "cell_type": "code",
   "execution_count": 168,
   "metadata": {},
   "outputs": [
    {
     "data": {
      "text/plain": [
       "9826851082.529928"
      ]
     },
     "execution_count": 168,
     "metadata": {},
     "output_type": "execute_result"
    }
   ],
   "source": [
    "kmeans.inertia_"
   ]
  },
  {
   "cell_type": "code",
   "execution_count": 169,
   "metadata": {
    "scrolled": true
   },
   "outputs": [
    {
     "data": {
      "text/plain": [
       "6"
      ]
     },
     "execution_count": 169,
     "metadata": {},
     "output_type": "execute_result"
    }
   ],
   "source": [
    "kmeans.n_iter_"
   ]
  },
  {
   "cell_type": "code",
   "execution_count": 170,
   "metadata": {
    "scrolled": true
   },
   "outputs": [
    {
     "data": {
      "text/plain": [
       "Counter({0: 11357, 1: 12, 4: 63, 3: 1, 2: 3})"
      ]
     },
     "execution_count": 170,
     "metadata": {},
     "output_type": "execute_result"
    }
   ],
   "source": [
    "Counter(kmeans.labels_)"
   ]
  },
  {
   "cell_type": "markdown",
   "metadata": {},
   "source": [
    "**Choosing the appropriate number of clusters**"
   ]
  },
  {
   "cell_type": "markdown",
   "metadata": {},
   "source": [
    "1. Elbow method"
   ]
  },
  {
   "cell_type": "code",
   "execution_count": 171,
   "metadata": {},
   "outputs": [],
   "source": [
    "kmeans_kwargs = {\n",
    "    \"init\": \"random\",\n",
    "    \"n_init\": 10,\n",
    "    \"max_iter\": 300,\n",
    "    \"random_state\": 360\n",
    "}"
   ]
  },
  {
   "cell_type": "code",
   "execution_count": 172,
   "metadata": {
    "scrolled": true
   },
   "outputs": [
    {
     "name": "stdout",
     "output_type": "stream",
     "text": [
      "have done 1 rounds, current sse is [23449436924.745914]\n",
      "have done 2 rounds, current sse is [23449436924.745914, 16403619369.069223]\n",
      "have done 3 rounds, current sse is [23449436924.745914, 16403619369.069223, 14601469660.918112]\n",
      "have done 4 rounds, current sse is [23449436924.745914, 16403619369.069223, 14601469660.918112, 12545894031.450285]\n",
      "have done 5 rounds, current sse is [23449436924.745914, 16403619369.069223, 14601469660.918112, 12545894031.450285, 11272340605.480078]\n",
      "have done 6 rounds, current sse is [23449436924.745914, 16403619369.069223, 14601469660.918112, 12545894031.450285, 11272340605.480078, 9206299986.068668]\n",
      "have done 7 rounds, current sse is [23449436924.745914, 16403619369.069223, 14601469660.918112, 12545894031.450285, 11272340605.480078, 9206299986.068668, 8944935005.953146]\n",
      "have done 8 rounds, current sse is [23449436924.745914, 16403619369.069223, 14601469660.918112, 12545894031.450285, 11272340605.480078, 9206299986.068668, 8944935005.953146, 8371371167.842005]\n",
      "have done 9 rounds, current sse is [23449436924.745914, 16403619369.069223, 14601469660.918112, 12545894031.450285, 11272340605.480078, 9206299986.068668, 8944935005.953146, 8371371167.842005, 7697802761.991763]\n",
      "have done 10 rounds, current sse is [23449436924.745914, 16403619369.069223, 14601469660.918112, 12545894031.450285, 11272340605.480078, 9206299986.068668, 8944935005.953146, 8371371167.842005, 7697802761.991763, 7439467031.309094]\n",
      "have done 11 rounds, current sse is [23449436924.745914, 16403619369.069223, 14601469660.918112, 12545894031.450285, 11272340605.480078, 9206299986.068668, 8944935005.953146, 8371371167.842005, 7697802761.991763, 7439467031.309094, 6909310699.419428]\n",
      "have done 12 rounds, current sse is [23449436924.745914, 16403619369.069223, 14601469660.918112, 12545894031.450285, 11272340605.480078, 9206299986.068668, 8944935005.953146, 8371371167.842005, 7697802761.991763, 7439467031.309094, 6909310699.419428, 6654306963.26893]\n",
      "have done 13 rounds, current sse is [23449436924.745914, 16403619369.069223, 14601469660.918112, 12545894031.450285, 11272340605.480078, 9206299986.068668, 8944935005.953146, 8371371167.842005, 7697802761.991763, 7439467031.309094, 6909310699.419428, 6654306963.26893, 6460188757.661017]\n",
      "have done 14 rounds, current sse is [23449436924.745914, 16403619369.069223, 14601469660.918112, 12545894031.450285, 11272340605.480078, 9206299986.068668, 8944935005.953146, 8371371167.842005, 7697802761.991763, 7439467031.309094, 6909310699.419428, 6654306963.26893, 6460188757.661017, 6276347552.998721]\n",
      "have done 15 rounds, current sse is [23449436924.745914, 16403619369.069223, 14601469660.918112, 12545894031.450285, 11272340605.480078, 9206299986.068668, 8944935005.953146, 8371371167.842005, 7697802761.991763, 7439467031.309094, 6909310699.419428, 6654306963.26893, 6460188757.661017, 6276347552.998721, 5979781661.205648]\n",
      "have done 16 rounds, current sse is [23449436924.745914, 16403619369.069223, 14601469660.918112, 12545894031.450285, 11272340605.480078, 9206299986.068668, 8944935005.953146, 8371371167.842005, 7697802761.991763, 7439467031.309094, 6909310699.419428, 6654306963.26893, 6460188757.661017, 6276347552.998721, 5979781661.205648, 5881229904.03242]\n",
      "have done 17 rounds, current sse is [23449436924.745914, 16403619369.069223, 14601469660.918112, 12545894031.450285, 11272340605.480078, 9206299986.068668, 8944935005.953146, 8371371167.842005, 7697802761.991763, 7439467031.309094, 6909310699.419428, 6654306963.26893, 6460188757.661017, 6276347552.998721, 5979781661.205648, 5881229904.03242, 5676602292.103157]\n",
      "have done 18 rounds, current sse is [23449436924.745914, 16403619369.069223, 14601469660.918112, 12545894031.450285, 11272340605.480078, 9206299986.068668, 8944935005.953146, 8371371167.842005, 7697802761.991763, 7439467031.309094, 6909310699.419428, 6654306963.26893, 6460188757.661017, 6276347552.998721, 5979781661.205648, 5881229904.03242, 5676602292.103157, 5656836846.585837]\n",
      "have done 19 rounds, current sse is [23449436924.745914, 16403619369.069223, 14601469660.918112, 12545894031.450285, 11272340605.480078, 9206299986.068668, 8944935005.953146, 8371371167.842005, 7697802761.991763, 7439467031.309094, 6909310699.419428, 6654306963.26893, 6460188757.661017, 6276347552.998721, 5979781661.205648, 5881229904.03242, 5676602292.103157, 5656836846.585837, 5538944833.53924]\n"
     ]
    }
   ],
   "source": [
    "sse = []\n",
    "for k in range(1,20):\n",
    "    kmeans = KMeans(n_clusters = k, **kmeans_kwargs)\n",
    "    kmeans.fit(ns_repr)\n",
    "    sse.append(kmeans.inertia_)\n",
    "    print(f\"have done {k} rounds, current sse is {sse}\")"
   ]
  },
  {
   "cell_type": "code",
   "execution_count": 173,
   "metadata": {
    "scrolled": true
   },
   "outputs": [
    {
     "data": {
      "text/plain": [
       "[<matplotlib.lines.Line2D at 0x269d14115e0>]"
      ]
     },
     "execution_count": 173,
     "metadata": {},
     "output_type": "execute_result"
    },
    {
     "data": {
      "image/png": "[encoded data removed]",
      "text/plain": [
       "<Figure size 432x288 with 1 Axes>"
      ]
     },
     "metadata": {},
     "output_type": "display_data"
    }
   ],
   "source": [
    "plt.plot(range(1,20),sse,\"go-\")"
   ]
  },
  {
   "cell_type": "code",
   "execution_count": 174,
   "metadata": {
    "scrolled": true
   },
   "outputs": [
    {
     "name": "stdout",
     "output_type": "stream",
     "text": [
      "have done 20 rounds, current sse is [23449436924.745914, 16403619369.069223, 14601469660.918112, 12545894031.450285, 11272340605.480078, 9206299986.068668, 8944935005.953146, 8371371167.842005, 7697802761.991763, 7439467031.309094, 6909310699.419428, 6654306963.26893, 6460188757.661017, 6276347552.998721, 5979781661.205648, 5881229904.03242, 5676602292.103157, 5656836846.585837, 5538944833.53924, 5264175921.681719]\n",
      "have done 21 rounds, current sse is [23449436924.745914, 16403619369.069223, 14601469660.918112, 12545894031.450285, 11272340605.480078, 9206299986.068668, 8944935005.953146, 8371371167.842005, 7697802761.991763, 7439467031.309094, 6909310699.419428, 6654306963.26893, 6460188757.661017, 6276347552.998721, 5979781661.205648, 5881229904.03242, 5676602292.103157, 5656836846.585837, 5538944833.53924, 5264175921.681719, 5177587995.900417]\n",
      "have done 22 rounds, current sse is [23449436924.745914, 16403619369.069223, 14601469660.918112, 12545894031.450285, 11272340605.480078, 9206299986.068668, 8944935005.953146, 8371371167.842005, 7697802761.991763, 7439467031.309094, 6909310699.419428, 6654306963.26893, 6460188757.661017, 6276347552.998721, 5979781661.205648, 5881229904.03242, 5676602292.103157, 5656836846.585837, 5538944833.53924, 5264175921.681719, 5177587995.900417, 5076006046.41951]\n",
      "have done 23 rounds, current sse is [23449436924.745914, 16403619369.069223, 14601469660.918112, 12545894031.450285, 11272340605.480078, 9206299986.068668, 8944935005.953146, 8371371167.842005, 7697802761.991763, 7439467031.309094, 6909310699.419428, 6654306963.26893, 6460188757.661017, 6276347552.998721, 5979781661.205648, 5881229904.03242, 5676602292.103157, 5656836846.585837, 5538944833.53924, 5264175921.681719, 5177587995.900417, 5076006046.41951, 5026174131.257136]\n",
      "have done 24 rounds, current sse is [23449436924.745914, 16403619369.069223, 14601469660.918112, 12545894031.450285, 11272340605.480078, 9206299986.068668, 8944935005.953146, 8371371167.842005, 7697802761.991763, 7439467031.309094, 6909310699.419428, 6654306963.26893, 6460188757.661017, 6276347552.998721, 5979781661.205648, 5881229904.03242, 5676602292.103157, 5656836846.585837, 5538944833.53924, 5264175921.681719, 5177587995.900417, 5076006046.41951, 5026174131.257136, 4901619684.296674]\n",
      "have done 25 rounds, current sse is [23449436924.745914, 16403619369.069223, 14601469660.918112, 12545894031.450285, 11272340605.480078, 9206299986.068668, 8944935005.953146, 8371371167.842005, 7697802761.991763, 7439467031.309094, 6909310699.419428, 6654306963.26893, 6460188757.661017, 6276347552.998721, 5979781661.205648, 5881229904.03242, 5676602292.103157, 5656836846.585837, 5538944833.53924, 5264175921.681719, 5177587995.900417, 5076006046.41951, 5026174131.257136, 4901619684.296674, 4882122799.429097]\n",
      "have done 26 rounds, current sse is [23449436924.745914, 16403619369.069223, 14601469660.918112, 12545894031.450285, 11272340605.480078, 9206299986.068668, 8944935005.953146, 8371371167.842005, 7697802761.991763, 7439467031.309094, 6909310699.419428, 6654306963.26893, 6460188757.661017, 6276347552.998721, 5979781661.205648, 5881229904.03242, 5676602292.103157, 5656836846.585837, 5538944833.53924, 5264175921.681719, 5177587995.900417, 5076006046.41951, 5026174131.257136, 4901619684.296674, 4882122799.429097, 4832986116.720473]\n",
      "have done 27 rounds, current sse is [23449436924.745914, 16403619369.069223, 14601469660.918112, 12545894031.450285, 11272340605.480078, 9206299986.068668, 8944935005.953146, 8371371167.842005, 7697802761.991763, 7439467031.309094, 6909310699.419428, 6654306963.26893, 6460188757.661017, 6276347552.998721, 5979781661.205648, 5881229904.03242, 5676602292.103157, 5656836846.585837, 5538944833.53924, 5264175921.681719, 5177587995.900417, 5076006046.41951, 5026174131.257136, 4901619684.296674, 4882122799.429097, 4832986116.720473, 4710014917.251001]\n",
      "have done 28 rounds, current sse is [23449436924.745914, 16403619369.069223, 14601469660.918112, 12545894031.450285, 11272340605.480078, 9206299986.068668, 8944935005.953146, 8371371167.842005, 7697802761.991763, 7439467031.309094, 6909310699.419428, 6654306963.26893, 6460188757.661017, 6276347552.998721, 5979781661.205648, 5881229904.03242, 5676602292.103157, 5656836846.585837, 5538944833.53924, 5264175921.681719, 5177587995.900417, 5076006046.41951, 5026174131.257136, 4901619684.296674, 4882122799.429097, 4832986116.720473, 4710014917.251001, 4690824268.634267]\n",
      "have done 29 rounds, current sse is [23449436924.745914, 16403619369.069223, 14601469660.918112, 12545894031.450285, 11272340605.480078, 9206299986.068668, 8944935005.953146, 8371371167.842005, 7697802761.991763, 7439467031.309094, 6909310699.419428, 6654306963.26893, 6460188757.661017, 6276347552.998721, 5979781661.205648, 5881229904.03242, 5676602292.103157, 5656836846.585837, 5538944833.53924, 5264175921.681719, 5177587995.900417, 5076006046.41951, 5026174131.257136, 4901619684.296674, 4882122799.429097, 4832986116.720473, 4710014917.251001, 4690824268.634267, 4586651962.452597]\n",
      "have done 30 rounds, current sse is [23449436924.745914, 16403619369.069223, 14601469660.918112, 12545894031.450285, 11272340605.480078, 9206299986.068668, 8944935005.953146, 8371371167.842005, 7697802761.991763, 7439467031.309094, 6909310699.419428, 6654306963.26893, 6460188757.661017, 6276347552.998721, 5979781661.205648, 5881229904.03242, 5676602292.103157, 5656836846.585837, 5538944833.53924, 5264175921.681719, 5177587995.900417, 5076006046.41951, 5026174131.257136, 4901619684.296674, 4882122799.429097, 4832986116.720473, 4710014917.251001, 4690824268.634267, 4586651962.452597, 4418465371.553158]\n",
      "have done 31 rounds, current sse is [23449436924.745914, 16403619369.069223, 14601469660.918112, 12545894031.450285, 11272340605.480078, 9206299986.068668, 8944935005.953146, 8371371167.842005, 7697802761.991763, 7439467031.309094, 6909310699.419428, 6654306963.26893, 6460188757.661017, 6276347552.998721, 5979781661.205648, 5881229904.03242, 5676602292.103157, 5656836846.585837, 5538944833.53924, 5264175921.681719, 5177587995.900417, 5076006046.41951, 5026174131.257136, 4901619684.296674, 4882122799.429097, 4832986116.720473, 4710014917.251001, 4690824268.634267, 4586651962.452597, 4418465371.553158, 4423859659.081299]\n",
      "have done 32 rounds, current sse is [23449436924.745914, 16403619369.069223, 14601469660.918112, 12545894031.450285, 11272340605.480078, 9206299986.068668, 8944935005.953146, 8371371167.842005, 7697802761.991763, 7439467031.309094, 6909310699.419428, 6654306963.26893, 6460188757.661017, 6276347552.998721, 5979781661.205648, 5881229904.03242, 5676602292.103157, 5656836846.585837, 5538944833.53924, 5264175921.681719, 5177587995.900417, 5076006046.41951, 5026174131.257136, 4901619684.296674, 4882122799.429097, 4832986116.720473, 4710014917.251001, 4690824268.634267, 4586651962.452597, 4418465371.553158, 4423859659.081299, 4339081133.524831]\n",
      "have done 33 rounds, current sse is [23449436924.745914, 16403619369.069223, 14601469660.918112, 12545894031.450285, 11272340605.480078, 9206299986.068668, 8944935005.953146, 8371371167.842005, 7697802761.991763, 7439467031.309094, 6909310699.419428, 6654306963.26893, 6460188757.661017, 6276347552.998721, 5979781661.205648, 5881229904.03242, 5676602292.103157, 5656836846.585837, 5538944833.53924, 5264175921.681719, 5177587995.900417, 5076006046.41951, 5026174131.257136, 4901619684.296674, 4882122799.429097, 4832986116.720473, 4710014917.251001, 4690824268.634267, 4586651962.452597, 4418465371.553158, 4423859659.081299, 4339081133.524831, 4264385831.917897]\n",
      "have done 34 rounds, current sse is [23449436924.745914, 16403619369.069223, 14601469660.918112, 12545894031.450285, 11272340605.480078, 9206299986.068668, 8944935005.953146, 8371371167.842005, 7697802761.991763, 7439467031.309094, 6909310699.419428, 6654306963.26893, 6460188757.661017, 6276347552.998721, 5979781661.205648, 5881229904.03242, 5676602292.103157, 5656836846.585837, 5538944833.53924, 5264175921.681719, 5177587995.900417, 5076006046.41951, 5026174131.257136, 4901619684.296674, 4882122799.429097, 4832986116.720473, 4710014917.251001, 4690824268.634267, 4586651962.452597, 4418465371.553158, 4423859659.081299, 4339081133.524831, 4264385831.917897, 4239911818.1692686]\n"
     ]
    },
    {
     "name": "stdout",
     "output_type": "stream",
     "text": [
      "have done 35 rounds, current sse is [23449436924.745914, 16403619369.069223, 14601469660.918112, 12545894031.450285, 11272340605.480078, 9206299986.068668, 8944935005.953146, 8371371167.842005, 7697802761.991763, 7439467031.309094, 6909310699.419428, 6654306963.26893, 6460188757.661017, 6276347552.998721, 5979781661.205648, 5881229904.03242, 5676602292.103157, 5656836846.585837, 5538944833.53924, 5264175921.681719, 5177587995.900417, 5076006046.41951, 5026174131.257136, 4901619684.296674, 4882122799.429097, 4832986116.720473, 4710014917.251001, 4690824268.634267, 4586651962.452597, 4418465371.553158, 4423859659.081299, 4339081133.524831, 4264385831.917897, 4239911818.1692686, 4098709969.3477373]\n",
      "have done 36 rounds, current sse is [23449436924.745914, 16403619369.069223, 14601469660.918112, 12545894031.450285, 11272340605.480078, 9206299986.068668, 8944935005.953146, 8371371167.842005, 7697802761.991763, 7439467031.309094, 6909310699.419428, 6654306963.26893, 6460188757.661017, 6276347552.998721, 5979781661.205648, 5881229904.03242, 5676602292.103157, 5656836846.585837, 5538944833.53924, 5264175921.681719, 5177587995.900417, 5076006046.41951, 5026174131.257136, 4901619684.296674, 4882122799.429097, 4832986116.720473, 4710014917.251001, 4690824268.634267, 4586651962.452597, 4418465371.553158, 4423859659.081299, 4339081133.524831, 4264385831.917897, 4239911818.1692686, 4098709969.3477373, 4063807106.733817]\n",
      "have done 37 rounds, current sse is [23449436924.745914, 16403619369.069223, 14601469660.918112, 12545894031.450285, 11272340605.480078, 9206299986.068668, 8944935005.953146, 8371371167.842005, 7697802761.991763, 7439467031.309094, 6909310699.419428, 6654306963.26893, 6460188757.661017, 6276347552.998721, 5979781661.205648, 5881229904.03242, 5676602292.103157, 5656836846.585837, 5538944833.53924, 5264175921.681719, 5177587995.900417, 5076006046.41951, 5026174131.257136, 4901619684.296674, 4882122799.429097, 4832986116.720473, 4710014917.251001, 4690824268.634267, 4586651962.452597, 4418465371.553158, 4423859659.081299, 4339081133.524831, 4264385831.917897, 4239911818.1692686, 4098709969.3477373, 4063807106.733817, 4032032019.301513]\n",
      "have done 38 rounds, current sse is [23449436924.745914, 16403619369.069223, 14601469660.918112, 12545894031.450285, 11272340605.480078, 9206299986.068668, 8944935005.953146, 8371371167.842005, 7697802761.991763, 7439467031.309094, 6909310699.419428, 6654306963.26893, 6460188757.661017, 6276347552.998721, 5979781661.205648, 5881229904.03242, 5676602292.103157, 5656836846.585837, 5538944833.53924, 5264175921.681719, 5177587995.900417, 5076006046.41951, 5026174131.257136, 4901619684.296674, 4882122799.429097, 4832986116.720473, 4710014917.251001, 4690824268.634267, 4586651962.452597, 4418465371.553158, 4423859659.081299, 4339081133.524831, 4264385831.917897, 4239911818.1692686, 4098709969.3477373, 4063807106.733817, 4032032019.301513, 3977593916.4872518]\n",
      "have done 39 rounds, current sse is [23449436924.745914, 16403619369.069223, 14601469660.918112, 12545894031.450285, 11272340605.480078, 9206299986.068668, 8944935005.953146, 8371371167.842005, 7697802761.991763, 7439467031.309094, 6909310699.419428, 6654306963.26893, 6460188757.661017, 6276347552.998721, 5979781661.205648, 5881229904.03242, 5676602292.103157, 5656836846.585837, 5538944833.53924, 5264175921.681719, 5177587995.900417, 5076006046.41951, 5026174131.257136, 4901619684.296674, 4882122799.429097, 4832986116.720473, 4710014917.251001, 4690824268.634267, 4586651962.452597, 4418465371.553158, 4423859659.081299, 4339081133.524831, 4264385831.917897, 4239911818.1692686, 4098709969.3477373, 4063807106.733817, 4032032019.301513, 3977593916.4872518, 3978783864.394721]\n",
      "have done 40 rounds, current sse is [23449436924.745914, 16403619369.069223, 14601469660.918112, 12545894031.450285, 11272340605.480078, 9206299986.068668, 8944935005.953146, 8371371167.842005, 7697802761.991763, 7439467031.309094, 6909310699.419428, 6654306963.26893, 6460188757.661017, 6276347552.998721, 5979781661.205648, 5881229904.03242, 5676602292.103157, 5656836846.585837, 5538944833.53924, 5264175921.681719, 5177587995.900417, 5076006046.41951, 5026174131.257136, 4901619684.296674, 4882122799.429097, 4832986116.720473, 4710014917.251001, 4690824268.634267, 4586651962.452597, 4418465371.553158, 4423859659.081299, 4339081133.524831, 4264385831.917897, 4239911818.1692686, 4098709969.3477373, 4063807106.733817, 4032032019.301513, 3977593916.4872518, 3978783864.394721, 4017545426.514995]\n"
     ]
    }
   ],
   "source": [
    "for k in range(20,41):\n",
    "    kmeans = KMeans(n_clusters = k, **kmeans_kwargs)\n",
    "    kmeans.fit(ns_repr)\n",
    "    sse.append(kmeans.inertia_)\n",
    "    print(f\"have done {k} rounds, current sse is {sse}\")"
   ]
  },
  {
   "cell_type": "code",
   "execution_count": 175,
   "metadata": {
    "scrolled": true
   },
   "outputs": [
    {
     "data": {
      "text/plain": [
       "[<matplotlib.lines.Line2D at 0x269bb048670>]"
      ]
     },
     "execution_count": 175,
     "metadata": {},
     "output_type": "execute_result"
    },
    {
     "data": {
      "image/png": "[encoded data removed]",
      "text/plain": [
       "<Figure size 432x288 with 1 Axes>"
      ]
     },
     "metadata": {},
     "output_type": "display_data"
    }
   ],
   "source": [
    "plt.plot(range(1,41),sse,\"go-\")"
   ]
  },
  {
   "cell_type": "code",
   "execution_count": 176,
   "metadata": {},
   "outputs": [],
   "source": [
    "kl = KneeLocator(range(1,41), sse, curve=\"convex\", direction=\"decreasing\")"
   ]
  },
  {
   "cell_type": "code",
   "execution_count": 177,
   "metadata": {},
   "outputs": [
    {
     "data": {
      "text/plain": [
       "11"
      ]
     },
     "execution_count": 177,
     "metadata": {},
     "output_type": "execute_result"
    }
   ],
   "source": [
    "kl.elbow"
   ]
  },
  {
   "cell_type": "markdown",
   "metadata": {},
   "source": [
    "**Using Silhouette Coefficient**"
   ]
  },
  {
   "cell_type": "code",
   "execution_count": 178,
   "metadata": {
    "scrolled": true
   },
   "outputs": [
    {
     "name": "stdout",
     "output_type": "stream",
     "text": [
      "step 2\n",
      "step 3\n",
      "step 4\n",
      "step 5\n",
      "step 6\n",
      "step 7\n",
      "step 8\n",
      "step 9\n",
      "step 10\n",
      "step 11\n",
      "step 12\n",
      "step 13\n",
      "step 14\n",
      "step 15\n",
      "step 16\n",
      "step 17\n",
      "step 18\n",
      "step 19\n",
      "step 20\n",
      "step 21\n",
      "step 22\n",
      "step 23\n",
      "step 24\n",
      "step 25\n",
      "step 26\n",
      "step 27\n",
      "step 28\n",
      "step 29\n"
     ]
    }
   ],
   "source": [
    "sc = []\n",
    "new_sse = []\n",
    "for k in range(2,30):\n",
    "    kmeans = KMeans(n_clusters = k, **kmeans_kwargs)\n",
    "    kmeans.fit(ns_repr)\n",
    "    score = silhouette_score(ns_repr, kmeans.labels_)\n",
    "    sc.append(score)\n",
    "    new_sse.append(kmeans.inertia_)\n",
    "    print(\"step {}\".format(k))"
   ]
  },
  {
   "cell_type": "code",
   "execution_count": 180,
   "metadata": {
    "scrolled": true
   },
   "outputs": [
    {
     "data": {
      "text/plain": [
       "[<matplotlib.lines.Line2D at 0x26988fa0130>]"
      ]
     },
     "execution_count": 180,
     "metadata": {},
     "output_type": "execute_result"
    },
    {
     "data": {
      "image/png": "[encoded data removed]",
      "text/plain": [
       "<Figure size 432x288 with 1 Axes>"
      ]
     },
     "metadata": {},
     "output_type": "display_data"
    }
   ],
   "source": [
    "# for sse\n",
    "plt.plot(range(2,30), new_sse, \"go-\")"
   ]
  },
  {
   "cell_type": "code",
   "execution_count": 181,
   "metadata": {
    "scrolled": true
   },
   "outputs": [
    {
     "data": {
      "text/plain": [
       "11"
      ]
     },
     "execution_count": 181,
     "metadata": {},
     "output_type": "execute_result"
    }
   ],
   "source": [
    "kl_new = KneeLocator(range(2,30), new_sse, curve=\"convex\", direction=\"decreasing\")\n",
    "kl_new.elbow"
   ]
  },
  {
   "cell_type": "code",
   "execution_count": 182,
   "metadata": {
    "scrolled": true
   },
   "outputs": [
    {
     "data": {
      "text/plain": [
       "[<matplotlib.lines.Line2D at 0x26988b6f4c0>]"
      ]
     },
     "execution_count": 182,
     "metadata": {},
     "output_type": "execute_result"
    },
    {
     "data": {
      "image/png": "[encoded data removed]",
      "text/plain": [
       "<Figure size 432x288 with 1 Axes>"
      ]
     },
     "metadata": {},
     "output_type": "display_data"
    }
   ],
   "source": [
    "# for silhouette coefficient\n",
    "plt.plot(range(2,30), sc, \"bo-\")"
   ]
  },
  {
   "cell_type": "code",
   "execution_count": 184,
   "metadata": {
    "scrolled": true
   },
   "outputs": [
    {
     "data": {
      "text/plain": [
       "[<matplotlib.lines.Line2D at 0x26988c34490>]"
      ]
     },
     "execution_count": 184,
     "metadata": {},
     "output_type": "execute_result"
    },
    {
     "data": {
      "image/png": "[encoded data removed]",
      "text/plain": [
       "<Figure size 432x288 with 1 Axes>"
      ]
     },
     "metadata": {},
     "output_type": "display_data"
    }
   ],
   "source": [
    "\n",
    "\n",
    "spl = make_interp_spline(range(2,30), sc, k=3)  # type: BSpline\n",
    "\n",
    "xs = np.linspace(2, 30, 6)\n",
    "ys = spl(xs)\n",
    "\n",
    "plt.plot(range(2,30), sc, \"go--\")\n",
    "plt.plot(xs, ys, \"b-\")"
   ]
  },
  {
   "cell_type": "markdown",
   "metadata": {},
   "source": [
    "Let's choose k = 10"
   ]
  },
  {
   "cell_type": "code",
   "execution_count": 185,
   "metadata": {
    "scrolled": true
   },
   "outputs": [
    {
     "data": {
      "text/plain": [
       "KMeans(max_iter=500, n_init=50, random_state=360)"
      ]
     },
     "execution_count": 185,
     "metadata": {},
     "output_type": "execute_result"
    }
   ],
   "source": [
    "kmeans = KMeans(n_clusters = 8, init=\"k-means++\", n_init = 50, max_iter = 500, random_state = 360)\n",
    "kmeans.fit(ns_repr)"
   ]
  },
  {
   "cell_type": "code",
   "execution_count": 68,
   "metadata": {
    "collapsed": true
   },
   "outputs": [
    {
     "data": {
      "text/plain": [
       "['__class__',\n",
       " '__delattr__',\n",
       " '__dict__',\n",
       " '__dir__',\n",
       " '__doc__',\n",
       " '__eq__',\n",
       " '__format__',\n",
       " '__ge__',\n",
       " '__getattribute__',\n",
       " '__getstate__',\n",
       " '__gt__',\n",
       " '__hash__',\n",
       " '__init__',\n",
       " '__init_subclass__',\n",
       " '__le__',\n",
       " '__lt__',\n",
       " '__module__',\n",
       " '__ne__',\n",
       " '__new__',\n",
       " '__reduce__',\n",
       " '__reduce_ex__',\n",
       " '__repr__',\n",
       " '__setattr__',\n",
       " '__setstate__',\n",
       " '__sizeof__',\n",
       " '__str__',\n",
       " '__subclasshook__',\n",
       " '__weakref__',\n",
       " '_algorithm',\n",
       " '_check_feature_names',\n",
       " '_check_mkl_vcomp',\n",
       " '_check_n_features',\n",
       " '_check_params',\n",
       " '_check_test_data',\n",
       " '_estimator_type',\n",
       " '_get_param_names',\n",
       " '_get_tags',\n",
       " '_init_centroids',\n",
       " '_more_tags',\n",
       " '_n_init',\n",
       " '_n_threads',\n",
       " '_repr_html_',\n",
       " '_repr_html_inner',\n",
       " '_repr_mimebundle_',\n",
       " '_tol',\n",
       " '_transform',\n",
       " '_validate_center_shape',\n",
       " '_validate_data',\n",
       " 'algorithm',\n",
       " 'cluster_centers_',\n",
       " 'copy_x',\n",
       " 'fit',\n",
       " 'fit_predict',\n",
       " 'fit_transform',\n",
       " 'get_params',\n",
       " 'inertia_',\n",
       " 'init',\n",
       " 'labels_',\n",
       " 'max_iter',\n",
       " 'n_clusters',\n",
       " 'n_features_in_',\n",
       " 'n_init',\n",
       " 'n_iter_',\n",
       " 'predict',\n",
       " 'random_state',\n",
       " 'score',\n",
       " 'set_params',\n",
       " 'tol',\n",
       " 'transform',\n",
       " 'verbose']"
      ]
     },
     "execution_count": 68,
     "metadata": {},
     "output_type": "execute_result"
    }
   ],
   "source": [
    "dir(kmeans)"
   ]
  },
  {
   "cell_type": "code",
   "execution_count": 186,
   "metadata": {},
   "outputs": [
    {
     "data": {
      "text/plain": [
       "array([7, 7, 7, ..., 7, 7, 7])"
      ]
     },
     "execution_count": 186,
     "metadata": {},
     "output_type": "execute_result"
    }
   ],
   "source": [
    "kmeans.labels_"
   ]
  },
  {
   "cell_type": "code",
   "execution_count": 187,
   "metadata": {
    "scrolled": true
   },
   "outputs": [
    {
     "data": {
      "text/plain": [
       "{0, 1, 2, 3, 4, 5, 6, 7}"
      ]
     },
     "execution_count": 187,
     "metadata": {},
     "output_type": "execute_result"
    }
   ],
   "source": [
    "set(kmeans.labels_)"
   ]
  },
  {
   "cell_type": "code",
   "execution_count": 188,
   "metadata": {},
   "outputs": [
    {
     "data": {
      "text/plain": [
       "Counter({7: 11200, 0: 96, 3: 110, 1: 5, 4: 1, 2: 3, 6: 20, 5: 1})"
      ]
     },
     "execution_count": 188,
     "metadata": {},
     "output_type": "execute_result"
    }
   ],
   "source": [
    "Counter(kmeans.labels_)"
   ]
  },
  {
   "cell_type": "markdown",
   "metadata": {},
   "source": [
    "**Let's investigate each cluster**"
   ]
  },
  {
   "cell_type": "code",
   "execution_count": 317,
   "metadata": {},
   "outputs": [
    {
     "data": {
      "text/plain": [
       "12172"
      ]
     },
     "execution_count": 317,
     "metadata": {},
     "output_type": "execute_result"
    }
   ],
   "source": [
    "len(ns_sr_rep)"
   ]
  },
  {
   "cell_type": "code",
   "execution_count": 318,
   "metadata": {},
   "outputs": [
    {
     "data": {
      "text/plain": [
       "12172"
      ]
     },
     "execution_count": 318,
     "metadata": {},
     "output_type": "execute_result"
    }
   ],
   "source": [
    "len(kmeans.labels_)"
   ]
  },
  {
   "cell_type": "code",
   "execution_count": 319,
   "metadata": {},
   "outputs": [],
   "source": [
    "clustered = defaultdict(list)\n",
    "for idx,ns in enumerate(ns_fixed):\n",
    "    c = kmeans.labels_[idx]\n",
    "    clustered[c].append(ns)"
   ]
  },
  {
   "cell_type": "code",
   "execution_count": 320,
   "metadata": {
    "scrolled": false
   },
   "outputs": [
    {
     "name": "stdout",
     "output_type": "stream",
     "text": [
      "[11739, 20, 177, 82, 103, 1, 13, 37, 0, 0]\n"
     ]
    }
   ],
   "source": [
    "print([len(clustered[i]) for i in range(10)])"
   ]
  },
  {
   "cell_type": "markdown",
   "metadata": {},
   "source": [
    "Let's see in terms of percentage"
   ]
  },
  {
   "cell_type": "code",
   "execution_count": 321,
   "metadata": {},
   "outputs": [],
   "source": [
    "cluster_lens = [len(clustered[i]) for i in range(10)]"
   ]
  },
  {
   "cell_type": "code",
   "execution_count": 322,
   "metadata": {},
   "outputs": [
    {
     "name": "stdout",
     "output_type": "stream",
     "text": [
      "[96.44, 0.16, 1.45, 0.67, 0.85, 0.01, 0.11, 0.3, 0.0, 0.0]\n"
     ]
    }
   ],
   "source": [
    "print([round(k*100/sum(cluster_lens),2) for k in cluster_lens])"
   ]
  },
  {
   "cell_type": "markdown",
   "metadata": {},
   "source": [
    " **could do iterative clusters for ^**"
   ]
  },
  {
   "cell_type": "code",
   "execution_count": 325,
   "metadata": {},
   "outputs": [
    {
     "data": {
      "text/plain": [
       "['opb.org',\n",
       " 'actionnewsnow.com',\n",
       " 'okcfox.com',\n",
       " 'wmot.org',\n",
       " 'aviationweek.com',\n",
       " 'vulture.com',\n",
       " 'wtop.com',\n",
       " 'jns.org',\n",
       " 'dutchnews.nl',\n",
       " 'woodworkingnetwork.com',\n",
       " 'wvmetronews.com',\n",
       " 'nbc-2.com',\n",
       " 'nbc12.com',\n",
       " 'fox2detroit.com',\n",
       " 'wvnstv.com',\n",
       " 'thelily.com',\n",
       " 'kbzk.com',\n",
       " 'kktv.com',\n",
       " 'rentonreporter.com',\n",
       " 'montreal.ctvnews.ca',\n",
       " 'nbcchicago.com',\n",
       " 'nwaonline.com',\n",
       " 'theadvocate.com',\n",
       " 'whdh.com',\n",
       " 'expressnews.com',\n",
       " 'fox29.com',\n",
       " 'mlive.com',\n",
       " 'lbc.co.uk',\n",
       " 'uptownmessenger.com',\n",
       " 'nbcsports.com',\n",
       " 'duluthnewstribune.com',\n",
       " 'wfmj.com',\n",
       " 'fox26houston.com',\n",
       " 'abc15.com',\n",
       " 'abc30.com',\n",
       " 'toronto.citynews.ca',\n",
       " 'wqow.com',\n",
       " 'kiro7.com',\n",
       " 'wgem.com',\n",
       " 'prpeak.com',\n",
       " 'denverpost.com',\n",
       " 'kpvi.com',\n",
       " 'fox4news.com',\n",
       " 'desmoinesregister.com',\n",
       " 'metrotimes.com',\n",
       " 'local12.com',\n",
       " 'fox7austin.com',\n",
       " 'tmj4.com',\n",
       " 'theregister.com',\n",
       " 'news4sanantonio.com',\n",
       " 'govexec.com',\n",
       " 'fox11online.com',\n",
       " 'wearemitu.com',\n",
       " 'wsvn.com',\n",
       " 'wafb.com',\n",
       " 'nzherald.co.nz',\n",
       " 'fox21news.com',\n",
       " 'chicagocrusader.com',\n",
       " 'nondoc.com',\n",
       " 'riverfronttimes.com',\n",
       " 'turnto10.com',\n",
       " 'ynetnews.com',\n",
       " 'nbcdfw.com',\n",
       " 'whyy.org',\n",
       " 'cincinnati.com',\n",
       " 'ktvu.com',\n",
       " 'abc13.com',\n",
       " 'clickondetroit.com',\n",
       " 'biopharma-reporter.com',\n",
       " 'kplctv.com',\n",
       " 'cowichanvalleycitizen.com',\n",
       " 'weny.com',\n",
       " 'manchestereveningnews.co.uk',\n",
       " 'ocregister.com',\n",
       " 'travelandleisure.com',\n",
       " 'wjla.com',\n",
       " 'hawaiinewsnow.com',\n",
       " 'postandcourier.com',\n",
       " 'citynews.ca',\n",
       " '972mag.com',\n",
       " 'artnet.com',\n",
       " 'crunchyroll.com',\n",
       " 'cnbctv18.com',\n",
       " 'nj1015.com',\n",
       " 'channel3000.com',\n",
       " 'wdam.com',\n",
       " 'washingtonian.com',\n",
       " 'ozarksfirst.com',\n",
       " 'local21news.com',\n",
       " 'kake.com',\n",
       " 'sfexaminer.com',\n",
       " 'bostonherald.com',\n",
       " 'nbclosangeles.com',\n",
       " 'laist.com',\n",
       " 'pitchfork.com',\n",
       " 'local10.com',\n",
       " 'insidernj.com',\n",
       " 'foxla.com',\n",
       " 'wcti12.com',\n",
       " 'abc11.com',\n",
       " 'ny1.com',\n",
       " 'nfl.com',\n",
       " 'caranddriver.com',\n",
       " 'fox10phoenix.com',\n",
       " 'thetelegraph.com',\n",
       " 'theathletic.com',\n",
       " 'blackhillsfox.com',\n",
       " 'binghamtonhomepage.com',\n",
       " 'appleinsider.com',\n",
       " 'wtoc.com',\n",
       " 'boston.com',\n",
       " 'clickorlando.com',\n",
       " 'msnbc.com',\n",
       " 'cbsaustin.com',\n",
       " 'starnewsonline.com',\n",
       " 'whio.com',\n",
       " 'wlns.com',\n",
       " 'readfrontier.org',\n",
       " 'policemag.com',\n",
       " 'wect.com',\n",
       " 'abc7.com',\n",
       " 'ktiv.com',\n",
       " 'nbc15.com',\n",
       " 'cleveland.com',\n",
       " 'postcrescent.com',\n",
       " 'motor1.com',\n",
       " 'metroweekly.com',\n",
       " 'golfdigest.com',\n",
       " 'abc6onyourside.com',\n",
       " 'cleveland19.com',\n",
       " 'navytimes.com',\n",
       " 'thedenverchannel.com',\n",
       " 'qsrmagazine.com',\n",
       " 'pasadenastarnews.com',\n",
       " 'newschannel5.com',\n",
       " 'nola.com',\n",
       " 'wsoctv.com',\n",
       " 'arklatexhomepage.com',\n",
       " 'kpbs.org',\n",
       " 'astronomy.com',\n",
       " 'chron.com',\n",
       " 'spectrumnews1.com',\n",
       " 'motorbiscuit.com',\n",
       " 'news.com.au',\n",
       " 'click2houston.com',\n",
       " 'sfgate.com',\n",
       " '7news.com.au',\n",
       " 'kjzz.com',\n",
       " 'fxstreet.com',\n",
       " 'wkyt.com',\n",
       " 'news5cleveland.com',\n",
       " 'masslive.com',\n",
       " 'tennessean.com',\n",
       " 'firstcoastnews.com',\n",
       " 'armytimes.com',\n",
       " 'localmemphis.com',\n",
       " 'recordonline.com',\n",
       " 'theday.com',\n",
       " 'wbtv.com',\n",
       " 'independent.ie',\n",
       " 'bakersfield.com',\n",
       " 'cbs7.com',\n",
       " 'nbcwashington.com',\n",
       " 'aclu.org',\n",
       " 'rochesterfirst.com',\n",
       " 'jsonline.com',\n",
       " 'wmfe.org',\n",
       " 'wbrz.com',\n",
       " 'fox5ny.com',\n",
       " 'freep.com',\n",
       " 'ctmirror.org',\n",
       " 'urdupoint.com',\n",
       " 'newschannel9.com',\n",
       " 'katv.com',\n",
       " 'centralmaine.com',\n",
       " 'stripes.com',\n",
       " 'fox5dc.com']"
      ]
     },
     "execution_count": 325,
     "metadata": {},
     "output_type": "execute_result"
    }
   ],
   "source": [
    "clustered[2]"
   ]
  },
  {
   "cell_type": "markdown",
   "metadata": {},
   "source": [
    "## DBSCAN clustering"
   ]
  },
  {
   "cell_type": "code",
   "execution_count": 326,
   "metadata": {},
   "outputs": [],
   "source": [
    "from sklearn.cluster import DBSCAN"
   ]
  },
  {
   "cell_type": "markdown",
   "metadata": {},
   "source": [
    "First try out."
   ]
  },
  {
   "cell_type": "code",
   "execution_count": 327,
   "metadata": {},
   "outputs": [],
   "source": [
    "dbscan = DBSCAN(eps=0.01)"
   ]
  },
  {
   "cell_type": "code",
   "execution_count": 328,
   "metadata": {},
   "outputs": [],
   "source": [
    "ds_clusters = dbscan.fit(ns_repr)"
   ]
  },
  {
   "cell_type": "code",
   "execution_count": 329,
   "metadata": {},
   "outputs": [
    {
     "data": {
      "text/plain": [
       "12172"
      ]
     },
     "execution_count": 329,
     "metadata": {},
     "output_type": "execute_result"
    }
   ],
   "source": [
    "dbs_labels = ds_clusters.labels_\n",
    "len(dbs_labels)"
   ]
  },
  {
   "cell_type": "code",
   "execution_count": 330,
   "metadata": {},
   "outputs": [
    {
     "data": {
      "text/plain": [
       "array([-1,  0,  1,  2,  3,  4,  5,  6,  7,  8,  9, 10, 11, 12, 13, 14, 15,\n",
       "       16, 17, 18, 19, 20, 21, 22, 23, 24, 25, 26, 27, 28, 29, 30, 31, 32,\n",
       "       33, 34, 35, 36, 37], dtype=int64)"
      ]
     },
     "execution_count": 330,
     "metadata": {},
     "output_type": "execute_result"
    }
   ],
   "source": [
    "np.unique(dbs_labels)"
   ]
  },
  {
   "cell_type": "code",
   "execution_count": 331,
   "metadata": {},
   "outputs": [],
   "source": [
    "dbscan_clusters = defaultdict(list)\n",
    "for idx, c in enumerate(list(dbs_labels)):\n",
    "    dbscan_clusters[c].append(ns_fixed[idx])"
   ]
  },
  {
   "cell_type": "code",
   "execution_count": 332,
   "metadata": {},
   "outputs": [
    {
     "name": "stdout",
     "output_type": "stream",
     "text": [
      "number of ns in cluster -1: 6236\n",
      "number of ns in cluster 0: 5206\n",
      "number of ns in cluster 1: 13\n",
      "number of ns in cluster 2: 102\n",
      "number of ns in cluster 3: 22\n",
      "number of ns in cluster 4: 6\n",
      "number of ns in cluster 5: 12\n",
      "number of ns in cluster 6: 192\n",
      "number of ns in cluster 7: 7\n",
      "number of ns in cluster 8: 31\n",
      "number of ns in cluster 9: 53\n",
      "number of ns in cluster 10: 37\n",
      "number of ns in cluster 11: 5\n",
      "number of ns in cluster 12: 20\n",
      "number of ns in cluster 13: 17\n",
      "number of ns in cluster 14: 5\n",
      "number of ns in cluster 15: 26\n",
      "number of ns in cluster 16: 8\n",
      "number of ns in cluster 17: 5\n",
      "number of ns in cluster 18: 5\n",
      "number of ns in cluster 19: 6\n",
      "number of ns in cluster 20: 12\n",
      "number of ns in cluster 21: 8\n",
      "number of ns in cluster 22: 24\n",
      "number of ns in cluster 23: 5\n",
      "number of ns in cluster 24: 13\n",
      "number of ns in cluster 25: 7\n",
      "number of ns in cluster 26: 5\n",
      "number of ns in cluster 27: 6\n",
      "number of ns in cluster 28: 10\n",
      "number of ns in cluster 29: 5\n",
      "number of ns in cluster 30: 5\n",
      "number of ns in cluster 31: 5\n",
      "number of ns in cluster 32: 7\n",
      "number of ns in cluster 33: 25\n",
      "number of ns in cluster 34: 5\n",
      "number of ns in cluster 35: 6\n",
      "number of ns in cluster 36: 5\n",
      "number of ns in cluster 37: 5\n"
     ]
    }
   ],
   "source": [
    "for c in range(-1, 38):\n",
    "    print(\"number of ns in cluster {}: {}\".format(c, len(dbscan_clusters[c])))"
   ]
  },
  {
   "cell_type": "markdown",
   "metadata": {},
   "source": [
    "Let's investigate some of the clusters"
   ]
  },
  {
   "cell_type": "code",
   "execution_count": 342,
   "metadata": {
    "scrolled": true
   },
   "outputs": [
    {
     "data": {
      "text/plain": [
       "['smdailyjournal.com',\n",
       " 'news-gazette.com',\n",
       " 'sakshi.com',\n",
       " 'tortoisemedia.com',\n",
       " 'berlingske.dk',\n",
       " 'eleconomista.com.mx',\n",
       " 'letelegramme.fr',\n",
       " 'odishatv.in',\n",
       " 'moneylife.in',\n",
       " 'thelastamericanvagabond.com',\n",
       " 'hankookilbo.com',\n",
       " 'ekstrabladet.dk',\n",
       " 'todayheadline.co',\n",
       " 'wellnessmama.com',\n",
       " 'ticotimes.net',\n",
       " 'eldiariony.com',\n",
       " 'carehome.co.uk',\n",
       " 'phnompenhpost.com',\n",
       " 'mediafax.ro',\n",
       " 'rcrwireless.com',\n",
       " 'wigantoday.net',\n",
       " 'parismatch.com',\n",
       " 'biznews.com',\n",
       " 'vedomosti.ru',\n",
       " 'iz.ru',\n",
       " 'dailycardinal.com',\n",
       " 'fashionweekdaily.com',\n",
       " 'searchenginewatch.com',\n",
       " 'techinasia.com',\n",
       " 'azernews.az',\n",
       " 'surfacemag.com',\n",
       " 'animalpolitico.com',\n",
       " 'icirnigeria.org',\n",
       " 'salaamgateway.com',\n",
       " 'n-tv.de',\n",
       " 'vavel.com',\n",
       " 'myfitnesspal.com',\n",
       " 'thecitizen.com',\n",
       " '2gb.com',\n",
       " 'dopemagazine.com',\n",
       " 'livehindustan.com',\n",
       " 'niagarathisweek.com',\n",
       " 'lowyat.net',\n",
       " 'kbjr6.com',\n",
       " 'smartinsights.com',\n",
       " 'theglobalist.com',\n",
       " 'atheistrepublic.com',\n",
       " 'dinheirovivo.pt',\n",
       " 'sabah.com.tr',\n",
       " 'lenta.ru',\n",
       " 'goldswitzerland.com',\n",
       " 'mountaineagle.com',\n",
       " 'saurenergy.com']"
      ]
     },
     "execution_count": 342,
     "metadata": {},
     "output_type": "execute_result"
    }
   ],
   "source": [
    "dbscan_clusters[9]"
   ]
  },
  {
   "cell_type": "code",
   "execution_count": 147,
   "metadata": {
    "scrolled": true
   },
   "outputs": [
    {
     "data": {
      "text/plain": [
       "[]"
      ]
     },
     "execution_count": 147,
     "metadata": {},
     "output_type": "execute_result"
    }
   ],
   "source": [
    "dbscan_clusters[1]"
   ]
  },
  {
   "cell_type": "markdown",
   "metadata": {},
   "source": [
    "**Finding optimum `epsilon` for dbscan**\n",
    "\n",
    "References: \n",
    "\n",
    "https://towardsdatascience.com/machine-learning-clustering-dbscan-determine-the-optimal-value-for-epsilon-eps-python-example-3100091cfbc\n",
    "\n",
    "https://iopscience.iop.org/article/10.1088/1755-1315/31/1/012012/pdf"
   ]
  },
  {
   "cell_type": "code",
   "execution_count": 343,
   "metadata": {},
   "outputs": [],
   "source": [
    "from sklearn.neighbors import NearestNeighbors"
   ]
  },
  {
   "cell_type": "code",
   "execution_count": 344,
   "metadata": {},
   "outputs": [],
   "source": [
    "neigh = NearestNeighbors(n_neighbors=2)\n",
    "nbrs = neigh.fit(ns_repr)\n",
    "distances, indices = nbrs.kneighbors(ns_repr)"
   ]
  },
  {
   "cell_type": "code",
   "execution_count": 348,
   "metadata": {},
   "outputs": [
    {
     "data": {
      "text/plain": [
       "(0.0, 0.01)"
      ]
     },
     "execution_count": 348,
     "metadata": {},
     "output_type": "execute_result"
    },
    {
     "data": {
      "image/png": "[encoded data removed]",
      "text/plain": [
       "<Figure size 432x288 with 1 Axes>"
      ]
     },
     "metadata": {},
     "output_type": "display_data"
    }
   ],
   "source": [
    "distances = np.sort(distances, axis=0)\n",
    "# distances = distances[:,1]\n",
    "plt.plot(distances)\n",
    "plt.ylim((0,0.01))"
   ]
  },
  {
   "cell_type": "markdown",
   "metadata": {},
   "source": [
    "I don't think any epsilon makes sense here."
   ]
  },
  {
   "cell_type": "code",
   "execution_count": null,
   "metadata": {},
   "outputs": [],
   "source": []
  }
 ],
 "metadata": {
  "kernelspec": {
   "display_name": "Python 3",
   "language": "python",
   "name": "python3"
  },
  "language_info": {
   "codemirror_mode": {
    "name": "ipython",
    "version": 3
   },
   "file_extension": ".py",
   "mimetype": "text/x-python",
   "name": "python",
   "nbconvert_exporter": "python",
   "pygments_lexer": "ipython3",
   "version": "3.8.6"
  }
 },
 "nbformat": 4,
 "nbformat_minor": 4
}
