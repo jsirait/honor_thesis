{
 "cells": [
  {
   "cell_type": "markdown",
   "metadata": {},
   "source": [
    "# Clustering Small Set of News Sources\n",
    "\n",
    "Junita Sirait\n",
    "\n",
    "For case study purposes"
   ]
  },
  {
   "cell_type": "code",
   "execution_count": 1,
   "metadata": {},
   "outputs": [],
   "source": [
    "import json\n",
    "import csv\n",
    "import pandas as pd\n",
    "import numpy as np\n",
    "import statistics\n",
    "\n",
    "import tldextract\n",
    "\n",
    "from collections import Counter, defaultdict\n",
    "import matplotlib.pyplot as plt\n",
    "import seaborn as sns\n",
    "\n",
    "from sklearn.cluster import KMeans\n",
    "from sklearn.cluster import AgglomerativeClustering\n",
    "\n",
    "from sklearn.preprocessing import StandardScaler\n",
    "from sklearn.preprocessing import MaxAbsScaler\n",
    "\n",
    "from sklearn import preprocessing\n",
    "\n",
    "from sklearn.metrics import silhouette_score\n",
    "from kneed import KneeLocator\n",
    "\n",
    "from scipy.interpolate import make_interp_spline, BSpline\n",
    "\n",
    "from sklearn.decomposition import PCA\n",
    "from sklearn.decomposition import TruncatedSVD\n",
    "\n",
    "import math\n",
    "\n",
    "from sklearn.feature_selection import SelectKBest\n",
    "from sklearn.feature_selection import VarianceThreshold\n",
    "\n",
    "import os"
   ]
  },
  {
   "cell_type": "code",
   "execution_count": 2,
   "metadata": {},
   "outputs": [],
   "source": [
    "sports_subreddits = [\n",
    "    \"Patriots\",\n",
    "    \"GreenBayPackers\",\n",
    "    \"Seahawks\",\n",
    "    \"eagles\",\n",
    "    \"cowboys\",\n",
    "    \"minnesotavikings\",\n",
    "    \"DenverBroncos\",\n",
    "    \"steelers\",\n",
    "    \"49ers\",\n",
    "    \"detroitlions\",\n",
    "    \"falcons\",\n",
    "    \"panthers\",\n",
    "    \"CHIBears\",\n",
    "    \"NYGiants\",\n",
    "    \"Browns\",\n",
    "    \"Texans\",\n",
    "    \"Chargers\",\n",
    "    \"oaklandraiders\",\n",
    "    \"bengals\",\n",
    "    \"buffalobills\",\n",
    "    \"ravens\",\n",
    "    \"Colts\",\n",
    "    \"nyjets\",\n",
    "    \"Redskins\",\n",
    "    \"miamidolphins\",\n",
    "    \"KansasCityChiefs\",\n",
    "    \"Tennesseetitans\",\n",
    "    \"AZCardinals\",\n",
    "    \"Saints\",\n",
    "    \"LosAngelesRams\",\n",
    "    \"Jaguars\",\n",
    "    \"buccaneers\",\n",
    "    \"StLouisRams\",\n",
    "    \"warriors\",\n",
    "    \"clevelandcavs\",\n",
    "    \"lakers\",\n",
    "    \"chicagobulls\",\n",
    "    \"torontoraptors\",\n",
    "    \"bostonceltics\",\n",
    "    \"NYKnicks\",\n",
    "    \"sixers\",\n",
    "    \"rockets\",\n",
    "    \"Thunder\",\n",
    "    \"NBASpurs\",\n",
    "    \"heat\",\n",
    "    \"timberwolves\",\n",
    "    \"AtlantaHawks\",\n",
    "    \"Mavericks\",\n",
    "    \"kings\",\n",
    "    \"MkeBucks\",\n",
    "    \"LAClippers\",\n",
    "    \"suns\",\n",
    "    \"CharlotteHornets\",\n",
    "    \"washingtonwizards\",\n",
    "    \"DetroitPistons\",\n",
    "    \"pacers\",\n",
    "    \"OrlandoMagic\",\n",
    "    \"GoNets\",\n",
    "    \"NOLAPelicans\",\n",
    "    \"denvernuggets\",\n",
    "    \"UtahJazz\",\n",
    "    \"memphisgrizzlies\",\n",
    "    \"reddevils\",\n",
    "    \"Gunners\",\n",
    "    \"LiverpoolFC\",\n",
    "    \"chelseafc\",\n",
    "    \"coys\",\n",
    "    \"MCFC\",\n",
    "    \"Everton\",\n",
    "    \"Hammers\",\n",
    "    \"SaintsFC\",\n",
    "    \"lcfc\",\n",
    "    \"swanseacity\",\n",
    "    \"crystalpalace\",\n",
    "    \"safc\",\n",
    "    \"watford_FC\",\n",
    "    \"WBAfootball\",\n",
    "    \"AFCBournemouth\",\n",
    "    \"HullCity\",\n",
    "    \"StokeCityFC\",\n",
    "    \"Burnley\",\n",
    "    \"Middlesbrough\"\n",
    "]"
   ]
  },
  {
   "cell_type": "markdown",
   "metadata": {},
   "source": [
    "<a id=\"sub1\"></a>\n",
    "## Subreddit data"
   ]
  },
  {
   "cell_type": "code",
   "execution_count": 3,
   "metadata": {},
   "outputs": [],
   "source": [
    "pd = os.path.split(os.getcwd())[0]\n",
    "data_fp = os.path.join(pd,\"data/gm-newssources-subreddits\")\n",
    "dfp = os.path.join(pd,\"data\")\n",
    "mbfc_path = os.path.join(pd, \"data/mbfc\")"
   ]
  },
  {
   "cell_type": "code",
   "execution_count": 4,
   "metadata": {},
   "outputs": [],
   "source": [
    "with open (os.path.join(dfp,\"gmm_intersection.json\"), \"r\", encoding = \"utf-8\") as infile:\n",
    "    gmm_intersection = json.load(infile)"
   ]
  },
  {
   "cell_type": "code",
   "execution_count": 5,
   "metadata": {},
   "outputs": [
    {
     "data": {
      "text/plain": [
       "1631"
      ]
     },
     "execution_count": 5,
     "metadata": {},
     "output_type": "execute_result"
    }
   ],
   "source": [
    "len(gmm_intersection)"
   ]
  },
  {
   "cell_type": "code",
   "execution_count": 6,
   "metadata": {},
   "outputs": [],
   "source": [
    "with open (os.path.join(dfp,\"gm_intersection.json\"), \"r\", encoding = \"utf-8\") as infile:\n",
    "    gm_intersection = json.load(infile)"
   ]
  },
  {
   "cell_type": "code",
   "execution_count": 7,
   "metadata": {},
   "outputs": [
    {
     "data": {
      "text/plain": [
       "42477"
      ]
     },
     "execution_count": 7,
     "metadata": {},
     "output_type": "execute_result"
    }
   ],
   "source": [
    "len(gm_intersection)"
   ]
  },
  {
   "cell_type": "code",
   "execution_count": 8,
   "metadata": {},
   "outputs": [],
   "source": [
    "# Reading in all the subreddits in our files\n",
    "\n",
    "with open(os.path.join(data_fp,\"subreddit_ns_2021-01.json\"), \"r\", encoding = \"utf-8\") as infile1a:\n",
    "    subreddit_ns_jan = json.load(infile1a)\n",
    "\n",
    "with open(os.path.join(data_fp,\"subreddit_ns_2021-02.json\"), \"r\", encoding = \"utf-8\") as infile2a:\n",
    "    subreddit_ns_feb = json.load(infile2a)\n",
    "    \n",
    "with open(os.path.join(data_fp,\"subreddit_ns_2021-03.json\"), \"r\", encoding = \"utf-8\") as infile3a:\n",
    "    subreddit_ns_march = json.load(infile3a)\n",
    "    \n",
    "with open(os.path.join(data_fp,\"subreddit_ns_2021-04.json\"), \"r\", encoding = \"utf-8\") as infile4a:\n",
    "    subreddit_ns_april = json.load(infile4a)\n",
    "    \n",
    "with open(os.path.join(data_fp,\"subreddit_ns_2021-05.json\"), \"r\", encoding = \"utf-8\") as infile5a:\n",
    "    subreddit_ns_may = json.load(infile5a)\n",
    "    \n",
    "with open(os.path.join(data_fp,\"subreddit_ns_2021-06.json\"), \"r\", encoding = \"utf-8\") as infile6a:\n",
    "    subreddit_ns_jun = json.load(infile6a)"
   ]
  },
  {
   "cell_type": "code",
   "execution_count": 9,
   "metadata": {},
   "outputs": [],
   "source": [
    "# ns_subreddit\n",
    "with open(os.path.join(data_fp,\"ns_subreddit_2021-01.json\")) as infile1:\n",
    "    ns_subreddit_01 = json.load(infile1)\n",
    "    \n",
    "with open(os.path.join(data_fp,\"ns_subreddit_2021-02.json\")) as infile2:\n",
    "    ns_subreddit_02 = json.load(infile2)\n",
    "    \n",
    "with open(os.path.join(data_fp,\"ns_subreddit_2021-03.json\")) as infile3:\n",
    "    ns_subreddit_03 = json.load(infile3)\n",
    "    \n",
    "with open(os.path.join(data_fp,\"ns_subreddit_2021-04.json\")) as infile4:\n",
    "    ns_subreddit_04 = json.load(infile4)\n",
    "    \n",
    "with open(os.path.join(data_fp,\"ns_subreddit_2021-05.json\")) as infile5:\n",
    "    ns_subreddit_05 = json.load(infile5)\n",
    "    \n",
    "with open(os.path.join(data_fp,\"ns_subreddit_2021-06.json\")) as infile6:\n",
    "    ns_subreddit_06 = json.load(infile6)"
   ]
  },
  {
   "cell_type": "markdown",
   "metadata": {},
   "source": [
    "## Let's only use subreddits in `sports_subreddits` for this case study"
   ]
  },
  {
   "cell_type": "code",
   "execution_count": 10,
   "metadata": {},
   "outputs": [],
   "source": [
    "# filtering all files\n",
    "subreddit_ns_jan = {k: subreddit_ns_jan[k] for k in subreddit_ns_jan.keys() & set(sports_subreddits)}\n",
    "subreddit_ns_feb = {k: subreddit_ns_feb[k] for k in subreddit_ns_feb.keys() & set(sports_subreddits)}\n",
    "subreddit_ns_march = {k: subreddit_ns_march[k] for k in subreddit_ns_march.keys() & set(sports_subreddits)}\n",
    "subreddit_ns_april = {k: subreddit_ns_april[k] for k in subreddit_ns_april.keys() & set(sports_subreddits)}\n",
    "subreddit_ns_may = {k: subreddit_ns_may[k] for k in subreddit_ns_may.keys() & set(sports_subreddits)}\n",
    "subreddit_ns_jun = {k: subreddit_ns_jun[k] for k in subreddit_ns_jun.keys() & set(sports_subreddits)}"
   ]
  },
  {
   "cell_type": "code",
   "execution_count": 11,
   "metadata": {},
   "outputs": [],
   "source": [
    "files_sub = [subreddit_ns_jan, subreddit_ns_feb, subreddit_ns_march, subreddit_ns_april, subreddit_ns_may, subreddit_ns_jun]\n",
    "files_ns = [ns_subreddit_01, ns_subreddit_02, ns_subreddit_03, ns_subreddit_04, ns_subreddit_05, ns_subreddit_06]"
   ]
  },
  {
   "cell_type": "code",
   "execution_count": 12,
   "metadata": {},
   "outputs": [],
   "source": [
    "sr_union_old = set(sports_subreddits) & (\n",
    "      set(subreddit_ns_jan) | set(subreddit_ns_feb) |\n",
    "      set(subreddit_ns_march) | set(subreddit_ns_april) |\n",
    "      set(subreddit_ns_may) | set(subreddit_ns_jun))"
   ]
  },
  {
   "cell_type": "code",
   "execution_count": 13,
   "metadata": {},
   "outputs": [
    {
     "data": {
      "text/plain": [
       "80"
      ]
     },
     "execution_count": 13,
     "metadata": {},
     "output_type": "execute_result"
    }
   ],
   "source": [
    "len(sr_union_old)"
   ]
  },
  {
   "cell_type": "code",
   "execution_count": 14,
   "metadata": {},
   "outputs": [
    {
     "data": {
      "text/plain": [
       "82"
      ]
     },
     "execution_count": 14,
     "metadata": {},
     "output_type": "execute_result"
    }
   ],
   "source": [
    "len(sports_subreddits)"
   ]
  },
  {
   "cell_type": "markdown",
   "metadata": {},
   "source": [
    "Removing \"reddit.com\" and non_news from files_sub"
   ]
  },
  {
   "cell_type": "code",
   "execution_count": 15,
   "metadata": {},
   "outputs": [
    {
     "data": {
      "text/plain": [
       "133"
      ]
     },
     "execution_count": 15,
     "metadata": {},
     "output_type": "execute_result"
    }
   ],
   "source": [
    "non_news = []\n",
    "with open(\"non_news.csv\", \"r\", encoding=\"utf-8\") as nn:\n",
    "    r = csv.reader(nn, delimiter=\",\")\n",
    "    counter = 0\n",
    "    for row in r:\n",
    "        if counter != 0:\n",
    "            non_news.append(row[0])\n",
    "        counter += 1\n",
    "len(non_news)"
   ]
  },
  {
   "cell_type": "code",
   "execution_count": 16,
   "metadata": {},
   "outputs": [
    {
     "name": "stdout",
     "output_type": "stream",
     "text": [
      "Done for a file\n",
      "Done for a file\n",
      "Done for a file\n",
      "Done for a file\n",
      "Done for a file\n",
      "Done for a file\n"
     ]
    }
   ],
   "source": [
    "for f in files_sub:\n",
    "    for n in f:\n",
    "        if 'reddit.com' in f[n]: f[n].pop('reddit.com')\n",
    "        # removing each of the non_news\n",
    "        for nns in non_news:\n",
    "            if nns in f[n]: f[n].pop(nns)\n",
    "    print(\"Done for a file\")"
   ]
  },
  {
   "cell_type": "markdown",
   "metadata": {},
   "source": [
    "Now that we have removed non_news from various subreddits, there would be subreddits that now does not have anything inside. Let's get rid of these subreddits as well."
   ]
  },
  {
   "cell_type": "code",
   "execution_count": 17,
   "metadata": {},
   "outputs": [],
   "source": [
    "files_sub = [subreddit_ns_jan, subreddit_ns_feb, subreddit_ns_march, subreddit_ns_april, subreddit_ns_may, subreddit_ns_jun]\n",
    "files_ns = [ns_subreddit_01, ns_subreddit_02, ns_subreddit_03, ns_subreddit_04, ns_subreddit_05, ns_subreddit_06]"
   ]
  },
  {
   "cell_type": "code",
   "execution_count": 18,
   "metadata": {},
   "outputs": [
    {
     "name": "stdout",
     "output_type": "stream",
     "text": [
      "1\n",
      "done for a file\n",
      "1\n",
      "done for a file\n",
      "3\n",
      "done for a file\n",
      "6\n",
      "done for a file\n",
      "2\n",
      "done for a file\n",
      "2\n",
      "done for a file\n"
     ]
    }
   ],
   "source": [
    "for s in files_sub:\n",
    "    empty_subs = set()\n",
    "    for k in s:\n",
    "        if len(s[k]) == 0: empty_subs.add(k)\n",
    "    print(len(empty_subs))\n",
    "    [s.pop(u) for u in empty_subs]\n",
    "    print(\"done for a file\")"
   ]
  },
  {
   "cell_type": "code",
   "execution_count": 19,
   "metadata": {},
   "outputs": [
    {
     "name": "stdout",
     "output_type": "stream",
     "text": [
      "done for a file\n",
      "done for a file\n",
      "done for a file\n",
      "done for a file\n",
      "done for a file\n",
      "done for a file\n"
     ]
    }
   ],
   "source": [
    "for f in files_sub:\n",
    "    [f.pop(u) for u in empty_subs if u in f]\n",
    "    print(\"done for a file\")"
   ]
  },
  {
   "cell_type": "markdown",
   "metadata": {},
   "source": [
    "Instead of removing from files_ns, I will reconstruct files_ns from files_sub."
   ]
  },
  {
   "cell_type": "code",
   "execution_count": 20,
   "metadata": {},
   "outputs": [],
   "source": [
    "def ns_from_sub(subfile):\n",
    "    d = defaultdict(dict)\n",
    "    for sub in subfile:\n",
    "        for n in subfile[sub]:\n",
    "            d[n][sub] = subfile[sub][n]\n",
    "    return d"
   ]
  },
  {
   "cell_type": "code",
   "execution_count": 21,
   "metadata": {},
   "outputs": [],
   "source": [
    "ns_subreddit_01 = ns_from_sub(subreddit_ns_jan)\n",
    "ns_subreddit_02 = ns_from_sub(subreddit_ns_feb)\n",
    "ns_subreddit_03 = ns_from_sub(subreddit_ns_march)\n",
    "ns_subreddit_04 = ns_from_sub(subreddit_ns_april)\n",
    "ns_subreddit_05 = ns_from_sub(subreddit_ns_may)\n",
    "ns_subreddit_06 = ns_from_sub(subreddit_ns_jun)"
   ]
  },
  {
   "cell_type": "code",
   "execution_count": 22,
   "metadata": {},
   "outputs": [
    {
     "data": {
      "text/plain": [
       "False"
      ]
     },
     "execution_count": 22,
     "metadata": {},
     "output_type": "execute_result"
    }
   ],
   "source": [
    "\"reddit.com\" in ns_subreddit_01"
   ]
  },
  {
   "cell_type": "markdown",
   "metadata": {},
   "source": [
    "Let's use the intersection in an alphabetical order as a fixed order of our subreddits."
   ]
  },
  {
   "cell_type": "code",
   "execution_count": 23,
   "metadata": {},
   "outputs": [],
   "source": [
    "subs = sorted(set(subreddit_ns_jan) & set(subreddit_ns_feb) &\n",
    "      set(subreddit_ns_march) & set(subreddit_ns_april) &\n",
    "      set(subreddit_ns_may) & set(subreddit_ns_jun))"
   ]
  },
  {
   "cell_type": "code",
   "execution_count": 24,
   "metadata": {
    "scrolled": true
   },
   "outputs": [
    {
     "data": {
      "text/plain": [
       "74"
      ]
     },
     "execution_count": 24,
     "metadata": {},
     "output_type": "execute_result"
    }
   ],
   "source": [
    "len(subs)"
   ]
  },
  {
   "cell_type": "markdown",
   "metadata": {},
   "source": [
    "## Intersections and unions of subreddits"
   ]
  },
  {
   "cell_type": "code",
   "execution_count": 25,
   "metadata": {
    "scrolled": true
   },
   "outputs": [
    {
     "name": "stdout",
     "output_type": "stream",
     "text": [
      "intersection: 74\n"
     ]
    }
   ],
   "source": [
    "# what about their intersection?\n",
    "sr_intersection = (\n",
    "      set(subreddit_ns_jan) & set(subreddit_ns_feb) &\n",
    "      set(subreddit_ns_march) & set(subreddit_ns_april) &\n",
    "      set(subreddit_ns_may) & set(subreddit_ns_jun))\n",
    "\n",
    "print(\"intersection:\", len(sr_intersection))"
   ]
  },
  {
   "cell_type": "code",
   "execution_count": 26,
   "metadata": {},
   "outputs": [
    {
     "name": "stdout",
     "output_type": "stream",
     "text": [
      "union: 78\n"
     ]
    }
   ],
   "source": [
    "sr_union = (\n",
    "      set(subreddit_ns_jan) | set(subreddit_ns_feb) |\n",
    "      set(subreddit_ns_march) | set(subreddit_ns_april) |\n",
    "      set(subreddit_ns_may) | set(subreddit_ns_jun))\n",
    "\n",
    "print(\"union:\", len(sr_union))"
   ]
  },
  {
   "cell_type": "markdown",
   "metadata": {},
   "source": [
    "<a id=\"sub2\"></a>\n",
    "## News sources data"
   ]
  },
  {
   "cell_type": "markdown",
   "metadata": {},
   "source": [
    "How many news sources are there?"
   ]
  },
  {
   "cell_type": "code",
   "execution_count": 27,
   "metadata": {},
   "outputs": [
    {
     "data": {
      "text/plain": [
       "1309"
      ]
     },
     "execution_count": 27,
     "metadata": {},
     "output_type": "execute_result"
    }
   ],
   "source": [
    "# union\n",
    "ns_union = (set(ns_subreddit_01) |\n",
    "       set(ns_subreddit_02) |\n",
    "       set(ns_subreddit_03) |\n",
    "       set(ns_subreddit_04) |\n",
    "       set(ns_subreddit_05) |\n",
    "       set(ns_subreddit_06))\n",
    "\n",
    "len(ns_union)"
   ]
  },
  {
   "cell_type": "code",
   "execution_count": 28,
   "metadata": {},
   "outputs": [],
   "source": [
    "nss = (set(ns_subreddit_01) &\n",
    "       set(ns_subreddit_02) &\n",
    "       set(ns_subreddit_03) &\n",
    "       set(ns_subreddit_04) &\n",
    "       set(ns_subreddit_05) &\n",
    "       set(ns_subreddit_06))"
   ]
  },
  {
   "cell_type": "code",
   "execution_count": 29,
   "metadata": {},
   "outputs": [
    {
     "data": {
      "text/plain": [
       "234"
      ]
     },
     "execution_count": 29,
     "metadata": {},
     "output_type": "execute_result"
    }
   ],
   "source": [
    "num_ns = len(nss)\n",
    "num_ns"
   ]
  },
  {
   "cell_type": "markdown",
   "metadata": {},
   "source": [
    "## For each news source, let's count in how many subreddits they appear"
   ]
  },
  {
   "cell_type": "code",
   "execution_count": 30,
   "metadata": {},
   "outputs": [],
   "source": [
    "subreddit_count = dict()\n",
    "for ns in ns_union:\n",
    "    subreddit_count[ns] = len(set(ns_subreddit_01.get(ns, dict()).keys()) \n",
    "                               | set(ns_subreddit_02.get(ns, dict()).keys()) \n",
    "                               | set(ns_subreddit_03.get(ns, dict()).keys()) \n",
    "                               | set(ns_subreddit_04.get(ns, dict()).keys())\n",
    "                               | set(ns_subreddit_05.get(ns, dict()).keys()) \n",
    "                               | set(ns_subreddit_06.get(ns, dict()).keys()))"
   ]
  },
  {
   "cell_type": "markdown",
   "metadata": {},
   "source": [
    "`subreddit_count` stores in how many subreddits each news source appears."
   ]
  },
  {
   "cell_type": "code",
   "execution_count": 31,
   "metadata": {},
   "outputs": [
    {
     "data": {
      "text/plain": [
       "44"
      ]
     },
     "execution_count": 31,
     "metadata": {},
     "output_type": "execute_result"
    }
   ],
   "source": [
    "subreddit_count['nytimes.com']"
   ]
  },
  {
   "cell_type": "code",
   "execution_count": 32,
   "metadata": {},
   "outputs": [
    {
     "data": {
      "text/plain": [
       "{1: 690,\n",
       " 2: 201,\n",
       " 3: 104,\n",
       " 4: 71,\n",
       " 5: 56,\n",
       " 6: 36,\n",
       " 7: 26,\n",
       " 8: 18,\n",
       " 9: 12,\n",
       " 11: 10,\n",
       " 10: 10,\n",
       " 18: 5,\n",
       " 12: 5,\n",
       " 14: 5,\n",
       " 30: 4,\n",
       " 17: 4,\n",
       " 15: 4,\n",
       " 20: 3,\n",
       " 32: 3,\n",
       " 41: 3,\n",
       " 46: 3,\n",
       " 13: 3,\n",
       " 50: 2,\n",
       " 24: 2,\n",
       " 31: 2,\n",
       " 23: 2,\n",
       " 29: 2,\n",
       " 25: 2,\n",
       " 71: 1,\n",
       " 28: 1,\n",
       " 16: 1,\n",
       " 22: 1,\n",
       " 19: 1,\n",
       " 37: 1,\n",
       " 51: 1,\n",
       " 26: 1,\n",
       " 48: 1,\n",
       " 34: 1,\n",
       " 62: 1,\n",
       " 21: 1,\n",
       " 60: 1,\n",
       " 42: 1,\n",
       " 44: 1,\n",
       " 66: 1,\n",
       " 70: 1,\n",
       " 65: 1,\n",
       " 27: 1,\n",
       " 45: 1,\n",
       " 64: 1}"
      ]
     },
     "execution_count": 32,
     "metadata": {},
     "output_type": "execute_result"
    }
   ],
   "source": [
    "subreddit_count_freq = dict(Counter(subreddit_count.values()).most_common())\n",
    "subreddit_count_freq"
   ]
  },
  {
   "cell_type": "markdown",
   "metadata": {},
   "source": [
    "`subreddit_count_freq` keeps track of how many news sources appear in *n* subreddits for all possible *n*."
   ]
  },
  {
   "cell_type": "code",
   "execution_count": 33,
   "metadata": {},
   "outputs": [
    {
     "data": {
      "text/plain": [
       "71"
      ]
     },
     "execution_count": 33,
     "metadata": {},
     "output_type": "execute_result"
    }
   ],
   "source": [
    "max(subreddit_count_freq.keys())"
   ]
  },
  {
   "cell_type": "code",
   "execution_count": 34,
   "metadata": {},
   "outputs": [
    {
     "name": "stdout",
     "output_type": "stream",
     "text": [
      "theathletic.com is mentioned in 71 subreddits.\n",
      "espn.com is mentioned in 70 subreddits.\n",
      "bleacherreport.com is mentioned in 66 subreddits.\n",
      "cbssports.com is mentioned in 65 subreddits.\n",
      "si.com is mentioned in 64 subreddits.\n",
      "nbcsports.com is mentioned in 62 subreddits.\n",
      "usatoday.com is mentioned in 60 subreddits.\n",
      "prosportsextra.com is mentioned in 51 subreddits.\n",
      "sbnation.com is mentioned in 50 subreddits.\n",
      "theringer.com is mentioned in 50 subreddits.\n",
      "thescore.com is mentioned in 48 subreddits.\n",
      "fansided.com is mentioned in 46 subreddits.\n",
      "msn.com is mentioned in 46 subreddits.\n",
      "fivethirtyeight.com is mentioned in 46 subreddits.\n",
      "bolavip.com is mentioned in 45 subreddits.\n",
      "nytimes.com is mentioned in 44 subreddits.\n",
      "foxsports.com is mentioned in 42 subreddits.\n",
      "clutchpoints.com is mentioned in 41 subreddits.\n",
      "nypost.com is mentioned in 41 subreddits.\n",
      "forbes.com is mentioned in 41 subreddits.\n"
     ]
    }
   ],
   "source": [
    "sde_ranked = Counter(subreddit_count).most_common()\n",
    "\n",
    "for t in sde_ranked[:20]:\n",
    "    sr, co = t\n",
    "    if co > 1:\n",
    "        print(f\"{sr} is mentioned in {co} subreddits.\")"
   ]
  },
  {
   "cell_type": "code",
   "execution_count": 35,
   "metadata": {},
   "outputs": [
    {
     "data": {
      "text/plain": [
       "True"
      ]
     },
     "execution_count": 35,
     "metadata": {},
     "output_type": "execute_result"
    }
   ],
   "source": [
    "sum(subreddit_count_freq.values()) == len(ns_union)"
   ]
  },
  {
   "cell_type": "code",
   "execution_count": 36,
   "metadata": {},
   "outputs": [],
   "source": [
    "import itertools"
   ]
  },
  {
   "cell_type": "code",
   "execution_count": 37,
   "metadata": {},
   "outputs": [],
   "source": [
    "scf = list(itertools.chain.from_iterable(itertools.repeat(k,v) for k,v in subreddit_count_freq.items()))"
   ]
  },
  {
   "cell_type": "code",
   "execution_count": 38,
   "metadata": {
    "scrolled": true
   },
   "outputs": [
    {
     "data": {
      "text/plain": [
       "Text(0.5, 1.0, 'number of news sources appearing in x subreddits')"
      ]
     },
     "execution_count": 38,
     "metadata": {},
     "output_type": "execute_result"
    },
    {
     "data": {
      "image/png": "[encoded data removed]",
      "text/plain": [
       "<Figure size 432x288 with 1 Axes>"
      ]
     },
     "metadata": {
      "needs_background": "light"
     },
     "output_type": "display_data"
    }
   ],
   "source": [
    "# sns.histplot([math.log(s,10) for s in scf])\n",
    "sns.histplot(scf, log_scale=True)\n",
    "plt.xlabel(\"number of subreddit\")\n",
    "plt.ylabel(\"news source count\")\n",
    "plt.title(\"number of news sources appearing in x subreddits\")"
   ]
  },
  {
   "cell_type": "markdown",
   "metadata": {},
   "source": [
    "How many news sources only appear in 10 subreddits or less? what about 9 or 8?"
   ]
  },
  {
   "cell_type": "code",
   "execution_count": 39,
   "metadata": {},
   "outputs": [],
   "source": [
    "def pct_ns_in_k_subreddits(ks):\n",
    "    ns_in_i_subreddit = [k for k in subreddit_count if subreddit_count[k] <= ks]\n",
    "    count = len(ns_in_i_subreddit)\n",
    "    print(\"There are {} news sources appearing in only {} subreddits or less ({}%)\".format(count, ks, count/len(ns_union)))\n",
    "    return count/len(ns_union)"
   ]
  },
  {
   "cell_type": "code",
   "execution_count": 40,
   "metadata": {},
   "outputs": [
    {
     "name": "stdout",
     "output_type": "stream",
     "text": [
      "There are 1122 news sources appearing in only 5 subreddits or less (0.8571428571428571%)\n"
     ]
    },
    {
     "data": {
      "text/plain": [
       "0.8571428571428571"
      ]
     },
     "execution_count": 40,
     "metadata": {},
     "output_type": "execute_result"
    }
   ],
   "source": [
    "pct_ns_in_k_subreddits(5)"
   ]
  },
  {
   "cell_type": "code",
   "execution_count": 41,
   "metadata": {},
   "outputs": [
    {
     "data": {
      "text/plain": [
       "196.35"
      ]
     },
     "execution_count": 41,
     "metadata": {},
     "output_type": "execute_result"
    }
   ],
   "source": [
    "0.15*len(ns_union)"
   ]
  },
  {
   "cell_type": "code",
   "execution_count": 42,
   "metadata": {},
   "outputs": [
    {
     "name": "stdout",
     "output_type": "stream",
     "text": [
      "There are 0 news sources appearing in only 0 subreddits or less (0.0%)\n",
      "There are 690 news sources appearing in only 1 subreddits or less (0.5271199388846448%)\n",
      "There are 891 news sources appearing in only 2 subreddits or less (0.680672268907563%)\n",
      "There are 995 news sources appearing in only 3 subreddits or less (0.760122230710466%)\n",
      "There are 1066 news sources appearing in only 4 subreddits or less (0.8143621084797555%)\n",
      "There are 1122 news sources appearing in only 5 subreddits or less (0.8571428571428571%)\n",
      "There are 1158 news sources appearing in only 6 subreddits or less (0.8846447669977082%)\n",
      "There are 1184 news sources appearing in only 7 subreddits or less (0.904507257448434%)\n",
      "There are 1202 news sources appearing in only 8 subreddits or less (0.9182582123758595%)\n",
      "There are 1214 news sources appearing in only 9 subreddits or less (0.9274255156608098%)\n",
      "There are 1224 news sources appearing in only 10 subreddits or less (0.935064935064935%)\n",
      "There are 1234 news sources appearing in only 11 subreddits or less (0.9427043544690603%)\n",
      "There are 1239 news sources appearing in only 12 subreddits or less (0.946524064171123%)\n",
      "There are 1242 news sources appearing in only 13 subreddits or less (0.9488158899923606%)\n",
      "There are 1247 news sources appearing in only 14 subreddits or less (0.9526355996944232%)\n",
      "There are 1251 news sources appearing in only 15 subreddits or less (0.9556913674560733%)\n",
      "There are 1252 news sources appearing in only 16 subreddits or less (0.9564553093964858%)\n",
      "There are 1256 news sources appearing in only 17 subreddits or less (0.959511077158136%)\n",
      "There are 1261 news sources appearing in only 18 subreddits or less (0.9633307868601986%)\n",
      "There are 1262 news sources appearing in only 19 subreddits or less (0.9640947288006112%)\n",
      "There are 1265 news sources appearing in only 20 subreddits or less (0.9663865546218487%)\n",
      "There are 1266 news sources appearing in only 21 subreddits or less (0.9671504965622613%)\n",
      "There are 1267 news sources appearing in only 22 subreddits or less (0.9679144385026738%)\n",
      "There are 1269 news sources appearing in only 23 subreddits or less (0.9694423223834988%)\n",
      "There are 1271 news sources appearing in only 24 subreddits or less (0.970970206264324%)\n",
      "There are 1273 news sources appearing in only 25 subreddits or less (0.972498090145149%)\n",
      "There are 1274 news sources appearing in only 26 subreddits or less (0.9732620320855615%)\n",
      "There are 1275 news sources appearing in only 27 subreddits or less (0.974025974025974%)\n",
      "There are 1276 news sources appearing in only 28 subreddits or less (0.9747899159663865%)\n",
      "There are 1278 news sources appearing in only 29 subreddits or less (0.9763177998472116%)\n",
      "There are 1282 news sources appearing in only 30 subreddits or less (0.9793735676088617%)\n",
      "There are 1284 news sources appearing in only 31 subreddits or less (0.9809014514896868%)\n",
      "There are 1287 news sources appearing in only 32 subreddits or less (0.9831932773109243%)\n",
      "There are 1287 news sources appearing in only 33 subreddits or less (0.9831932773109243%)\n",
      "There are 1288 news sources appearing in only 34 subreddits or less (0.983957219251337%)\n",
      "There are 1288 news sources appearing in only 35 subreddits or less (0.983957219251337%)\n",
      "There are 1288 news sources appearing in only 36 subreddits or less (0.983957219251337%)\n",
      "There are 1289 news sources appearing in only 37 subreddits or less (0.9847211611917495%)\n",
      "There are 1289 news sources appearing in only 38 subreddits or less (0.9847211611917495%)\n",
      "There are 1289 news sources appearing in only 39 subreddits or less (0.9847211611917495%)\n",
      "There are 1289 news sources appearing in only 40 subreddits or less (0.9847211611917495%)\n",
      "There are 1292 news sources appearing in only 41 subreddits or less (0.987012987012987%)\n",
      "There are 1293 news sources appearing in only 42 subreddits or less (0.9877769289533995%)\n",
      "There are 1293 news sources appearing in only 43 subreddits or less (0.9877769289533995%)\n",
      "There are 1294 news sources appearing in only 44 subreddits or less (0.988540870893812%)\n",
      "There are 1295 news sources appearing in only 45 subreddits or less (0.9893048128342246%)\n",
      "There are 1298 news sources appearing in only 46 subreddits or less (0.9915966386554622%)\n",
      "There are 1298 news sources appearing in only 47 subreddits or less (0.9915966386554622%)\n",
      "There are 1299 news sources appearing in only 48 subreddits or less (0.9923605805958747%)\n",
      "There are 1299 news sources appearing in only 49 subreddits or less (0.9923605805958747%)\n",
      "There are 1301 news sources appearing in only 50 subreddits or less (0.9938884644766998%)\n",
      "There are 1302 news sources appearing in only 51 subreddits or less (0.9946524064171123%)\n",
      "There are 1302 news sources appearing in only 52 subreddits or less (0.9946524064171123%)\n",
      "There are 1302 news sources appearing in only 53 subreddits or less (0.9946524064171123%)\n",
      "There are 1302 news sources appearing in only 54 subreddits or less (0.9946524064171123%)\n",
      "There are 1302 news sources appearing in only 55 subreddits or less (0.9946524064171123%)\n",
      "There are 1302 news sources appearing in only 56 subreddits or less (0.9946524064171123%)\n",
      "There are 1302 news sources appearing in only 57 subreddits or less (0.9946524064171123%)\n",
      "There are 1302 news sources appearing in only 58 subreddits or less (0.9946524064171123%)\n",
      "There are 1302 news sources appearing in only 59 subreddits or less (0.9946524064171123%)\n",
      "There are 1303 news sources appearing in only 60 subreddits or less (0.9954163483575248%)\n",
      "There are 1303 news sources appearing in only 61 subreddits or less (0.9954163483575248%)\n",
      "There are 1304 news sources appearing in only 62 subreddits or less (0.9961802902979373%)\n",
      "There are 1304 news sources appearing in only 63 subreddits or less (0.9961802902979373%)\n",
      "There are 1305 news sources appearing in only 64 subreddits or less (0.9969442322383499%)\n",
      "There are 1306 news sources appearing in only 65 subreddits or less (0.9977081741787625%)\n",
      "There are 1307 news sources appearing in only 66 subreddits or less (0.998472116119175%)\n",
      "There are 1307 news sources appearing in only 67 subreddits or less (0.998472116119175%)\n",
      "There are 1307 news sources appearing in only 68 subreddits or less (0.998472116119175%)\n",
      "There are 1307 news sources appearing in only 69 subreddits or less (0.998472116119175%)\n",
      "There are 1308 news sources appearing in only 70 subreddits or less (0.9992360580595875%)\n",
      "There are 1309 news sources appearing in only 71 subreddits or less (1.0%)\n",
      "There are 1309 news sources appearing in only 72 subreddits or less (1.0%)\n",
      "There are 1309 news sources appearing in only 73 subreddits or less (1.0%)\n",
      "There are 1309 news sources appearing in only 74 subreddits or less (1.0%)\n",
      "There are 1309 news sources appearing in only 75 subreddits or less (1.0%)\n",
      "There are 1309 news sources appearing in only 76 subreddits or less (1.0%)\n",
      "There are 1309 news sources appearing in only 77 subreddits or less (1.0%)\n",
      "There are 1309 news sources appearing in only 78 subreddits or less (1.0%)\n",
      "There are 1309 news sources appearing in only 79 subreddits or less (1.0%)\n",
      "There are 1309 news sources appearing in only 80 subreddits or less (1.0%)\n",
      "There are 1309 news sources appearing in only 81 subreddits or less (1.0%)\n",
      "There are 1309 news sources appearing in only 82 subreddits or less (1.0%)\n",
      "There are 1309 news sources appearing in only 83 subreddits or less (1.0%)\n",
      "There are 1309 news sources appearing in only 84 subreddits or less (1.0%)\n",
      "There are 1309 news sources appearing in only 85 subreddits or less (1.0%)\n",
      "There are 1309 news sources appearing in only 86 subreddits or less (1.0%)\n",
      "There are 1309 news sources appearing in only 87 subreddits or less (1.0%)\n",
      "There are 1309 news sources appearing in only 88 subreddits or less (1.0%)\n",
      "There are 1309 news sources appearing in only 89 subreddits or less (1.0%)\n",
      "There are 1309 news sources appearing in only 90 subreddits or less (1.0%)\n",
      "There are 1309 news sources appearing in only 91 subreddits or less (1.0%)\n",
      "There are 1309 news sources appearing in only 92 subreddits or less (1.0%)\n",
      "There are 1309 news sources appearing in only 93 subreddits or less (1.0%)\n",
      "There are 1309 news sources appearing in only 94 subreddits or less (1.0%)\n",
      "There are 1309 news sources appearing in only 95 subreddits or less (1.0%)\n",
      "There are 1309 news sources appearing in only 96 subreddits or less (1.0%)\n",
      "There are 1309 news sources appearing in only 97 subreddits or less (1.0%)\n",
      "There are 1309 news sources appearing in only 98 subreddits or less (1.0%)\n",
      "There are 1309 news sources appearing in only 99 subreddits or less (1.0%)\n",
      "There are 1309 news sources appearing in only 100 subreddits or less (1.0%)\n",
      "There are 1309 news sources appearing in only 101 subreddits or less (1.0%)\n",
      "There are 1309 news sources appearing in only 102 subreddits or less (1.0%)\n",
      "There are 1309 news sources appearing in only 103 subreddits or less (1.0%)\n",
      "There are 1309 news sources appearing in only 104 subreddits or less (1.0%)\n",
      "There are 1309 news sources appearing in only 105 subreddits or less (1.0%)\n",
      "There are 1309 news sources appearing in only 106 subreddits or less (1.0%)\n",
      "There are 1309 news sources appearing in only 107 subreddits or less (1.0%)\n",
      "There are 1309 news sources appearing in only 108 subreddits or less (1.0%)\n",
      "There are 1309 news sources appearing in only 109 subreddits or less (1.0%)\n",
      "There are 1309 news sources appearing in only 110 subreddits or less (1.0%)\n",
      "There are 1309 news sources appearing in only 111 subreddits or less (1.0%)\n",
      "There are 1309 news sources appearing in only 112 subreddits or less (1.0%)\n",
      "There are 1309 news sources appearing in only 113 subreddits or less (1.0%)\n",
      "There are 1309 news sources appearing in only 114 subreddits or less (1.0%)\n",
      "There are 1309 news sources appearing in only 115 subreddits or less (1.0%)\n",
      "There are 1309 news sources appearing in only 116 subreddits or less (1.0%)\n",
      "There are 1309 news sources appearing in only 117 subreddits or less (1.0%)\n",
      "There are 1309 news sources appearing in only 118 subreddits or less (1.0%)\n",
      "There are 1309 news sources appearing in only 119 subreddits or less (1.0%)\n",
      "There are 1309 news sources appearing in only 120 subreddits or less (1.0%)\n",
      "There are 1309 news sources appearing in only 121 subreddits or less (1.0%)\n",
      "There are 1309 news sources appearing in only 122 subreddits or less (1.0%)\n",
      "There are 1309 news sources appearing in only 123 subreddits or less (1.0%)\n",
      "There are 1309 news sources appearing in only 124 subreddits or less (1.0%)\n",
      "There are 1309 news sources appearing in only 125 subreddits or less (1.0%)\n",
      "There are 1309 news sources appearing in only 126 subreddits or less (1.0%)\n",
      "There are 1309 news sources appearing in only 127 subreddits or less (1.0%)\n",
      "There are 1309 news sources appearing in only 128 subreddits or less (1.0%)\n",
      "There are 1309 news sources appearing in only 129 subreddits or less (1.0%)\n",
      "There are 1309 news sources appearing in only 130 subreddits or less (1.0%)\n",
      "There are 1309 news sources appearing in only 131 subreddits or less (1.0%)\n",
      "There are 1309 news sources appearing in only 132 subreddits or less (1.0%)\n",
      "There are 1309 news sources appearing in only 133 subreddits or less (1.0%)\n",
      "There are 1309 news sources appearing in only 134 subreddits or less (1.0%)\n",
      "There are 1309 news sources appearing in only 135 subreddits or less (1.0%)\n",
      "There are 1309 news sources appearing in only 136 subreddits or less (1.0%)\n",
      "There are 1309 news sources appearing in only 137 subreddits or less (1.0%)\n",
      "There are 1309 news sources appearing in only 138 subreddits or less (1.0%)\n",
      "There are 1309 news sources appearing in only 139 subreddits or less (1.0%)\n",
      "There are 1309 news sources appearing in only 140 subreddits or less (1.0%)\n",
      "There are 1309 news sources appearing in only 141 subreddits or less (1.0%)\n",
      "There are 1309 news sources appearing in only 142 subreddits or less (1.0%)\n",
      "There are 1309 news sources appearing in only 143 subreddits or less (1.0%)\n",
      "There are 1309 news sources appearing in only 144 subreddits or less (1.0%)\n",
      "There are 1309 news sources appearing in only 145 subreddits or less (1.0%)\n",
      "There are 1309 news sources appearing in only 146 subreddits or less (1.0%)\n",
      "There are 1309 news sources appearing in only 147 subreddits or less (1.0%)\n",
      "There are 1309 news sources appearing in only 148 subreddits or less (1.0%)\n",
      "There are 1309 news sources appearing in only 149 subreddits or less (1.0%)\n",
      "There are 1309 news sources appearing in only 150 subreddits or less (1.0%)\n",
      "There are 1309 news sources appearing in only 151 subreddits or less (1.0%)\n",
      "There are 1309 news sources appearing in only 152 subreddits or less (1.0%)\n",
      "There are 1309 news sources appearing in only 153 subreddits or less (1.0%)\n",
      "There are 1309 news sources appearing in only 154 subreddits or less (1.0%)\n",
      "There are 1309 news sources appearing in only 155 subreddits or less (1.0%)\n",
      "There are 1309 news sources appearing in only 156 subreddits or less (1.0%)\n",
      "There are 1309 news sources appearing in only 157 subreddits or less (1.0%)\n",
      "There are 1309 news sources appearing in only 158 subreddits or less (1.0%)\n",
      "There are 1309 news sources appearing in only 159 subreddits or less (1.0%)\n",
      "There are 1309 news sources appearing in only 160 subreddits or less (1.0%)\n",
      "There are 1309 news sources appearing in only 161 subreddits or less (1.0%)\n",
      "There are 1309 news sources appearing in only 162 subreddits or less (1.0%)\n",
      "There are 1309 news sources appearing in only 163 subreddits or less (1.0%)\n",
      "There are 1309 news sources appearing in only 164 subreddits or less (1.0%)\n",
      "There are 1309 news sources appearing in only 165 subreddits or less (1.0%)\n",
      "There are 1309 news sources appearing in only 166 subreddits or less (1.0%)\n",
      "There are 1309 news sources appearing in only 167 subreddits or less (1.0%)\n",
      "There are 1309 news sources appearing in only 168 subreddits or less (1.0%)\n",
      "There are 1309 news sources appearing in only 169 subreddits or less (1.0%)\n",
      "There are 1309 news sources appearing in only 170 subreddits or less (1.0%)\n",
      "There are 1309 news sources appearing in only 171 subreddits or less (1.0%)\n",
      "There are 1309 news sources appearing in only 172 subreddits or less (1.0%)\n",
      "There are 1309 news sources appearing in only 173 subreddits or less (1.0%)\n",
      "There are 1309 news sources appearing in only 174 subreddits or less (1.0%)\n",
      "There are 1309 news sources appearing in only 175 subreddits or less (1.0%)\n",
      "There are 1309 news sources appearing in only 176 subreddits or less (1.0%)\n",
      "There are 1309 news sources appearing in only 177 subreddits or less (1.0%)\n",
      "There are 1309 news sources appearing in only 178 subreddits or less (1.0%)\n",
      "There are 1309 news sources appearing in only 179 subreddits or less (1.0%)\n",
      "There are 1309 news sources appearing in only 180 subreddits or less (1.0%)\n",
      "There are 1309 news sources appearing in only 181 subreddits or less (1.0%)\n",
      "There are 1309 news sources appearing in only 182 subreddits or less (1.0%)\n",
      "There are 1309 news sources appearing in only 183 subreddits or less (1.0%)\n",
      "There are 1309 news sources appearing in only 184 subreddits or less (1.0%)\n",
      "There are 1309 news sources appearing in only 185 subreddits or less (1.0%)\n",
      "There are 1309 news sources appearing in only 186 subreddits or less (1.0%)\n",
      "There are 1309 news sources appearing in only 187 subreddits or less (1.0%)\n",
      "There are 1309 news sources appearing in only 188 subreddits or less (1.0%)\n",
      "There are 1309 news sources appearing in only 189 subreddits or less (1.0%)\n",
      "There are 1309 news sources appearing in only 190 subreddits or less (1.0%)\n",
      "There are 1309 news sources appearing in only 191 subreddits or less (1.0%)\n",
      "There are 1309 news sources appearing in only 192 subreddits or less (1.0%)\n",
      "There are 1309 news sources appearing in only 193 subreddits or less (1.0%)\n",
      "There are 1309 news sources appearing in only 194 subreddits or less (1.0%)\n",
      "There are 1309 news sources appearing in only 195 subreddits or less (1.0%)\n",
      "There are 1309 news sources appearing in only 196 subreddits or less (1.0%)\n",
      "There are 1309 news sources appearing in only 197 subreddits or less (1.0%)\n",
      "There are 1309 news sources appearing in only 198 subreddits or less (1.0%)\n",
      "There are 1309 news sources appearing in only 199 subreddits or less (1.0%)\n",
      "There are 1309 news sources appearing in only 200 subreddits or less (1.0%)\n",
      "There are 1309 news sources appearing in only 201 subreddits or less (1.0%)\n",
      "There are 1309 news sources appearing in only 202 subreddits or less (1.0%)\n",
      "There are 1309 news sources appearing in only 203 subreddits or less (1.0%)\n",
      "There are 1309 news sources appearing in only 204 subreddits or less (1.0%)\n",
      "There are 1309 news sources appearing in only 205 subreddits or less (1.0%)\n",
      "There are 1309 news sources appearing in only 206 subreddits or less (1.0%)\n",
      "There are 1309 news sources appearing in only 207 subreddits or less (1.0%)\n",
      "There are 1309 news sources appearing in only 208 subreddits or less (1.0%)\n",
      "There are 1309 news sources appearing in only 209 subreddits or less (1.0%)\n",
      "There are 1309 news sources appearing in only 210 subreddits or less (1.0%)\n",
      "There are 1309 news sources appearing in only 211 subreddits or less (1.0%)\n",
      "There are 1309 news sources appearing in only 212 subreddits or less (1.0%)\n",
      "There are 1309 news sources appearing in only 213 subreddits or less (1.0%)\n",
      "There are 1309 news sources appearing in only 214 subreddits or less (1.0%)\n",
      "There are 1309 news sources appearing in only 215 subreddits or less (1.0%)\n",
      "There are 1309 news sources appearing in only 216 subreddits or less (1.0%)\n",
      "There are 1309 news sources appearing in only 217 subreddits or less (1.0%)\n",
      "There are 1309 news sources appearing in only 218 subreddits or less (1.0%)\n",
      "There are 1309 news sources appearing in only 219 subreddits or less (1.0%)\n",
      "There are 1309 news sources appearing in only 220 subreddits or less (1.0%)\n",
      "There are 1309 news sources appearing in only 221 subreddits or less (1.0%)\n",
      "There are 1309 news sources appearing in only 222 subreddits or less (1.0%)\n",
      "There are 1309 news sources appearing in only 223 subreddits or less (1.0%)\n",
      "There are 1309 news sources appearing in only 224 subreddits or less (1.0%)\n",
      "There are 1309 news sources appearing in only 225 subreddits or less (1.0%)\n",
      "There are 1309 news sources appearing in only 226 subreddits or less (1.0%)\n",
      "There are 1309 news sources appearing in only 227 subreddits or less (1.0%)\n",
      "There are 1309 news sources appearing in only 228 subreddits or less (1.0%)\n",
      "There are 1309 news sources appearing in only 229 subreddits or less (1.0%)\n",
      "There are 1309 news sources appearing in only 230 subreddits or less (1.0%)\n",
      "There are 1309 news sources appearing in only 231 subreddits or less (1.0%)\n",
      "There are 1309 news sources appearing in only 232 subreddits or less (1.0%)\n",
      "There are 1309 news sources appearing in only 233 subreddits or less (1.0%)\n",
      "There are 1309 news sources appearing in only 234 subreddits or less (1.0%)\n",
      "There are 1309 news sources appearing in only 235 subreddits or less (1.0%)\n",
      "There are 1309 news sources appearing in only 236 subreddits or less (1.0%)\n",
      "There are 1309 news sources appearing in only 237 subreddits or less (1.0%)\n",
      "There are 1309 news sources appearing in only 238 subreddits or less (1.0%)\n",
      "There are 1309 news sources appearing in only 239 subreddits or less (1.0%)\n",
      "There are 1309 news sources appearing in only 240 subreddits or less (1.0%)\n",
      "There are 1309 news sources appearing in only 241 subreddits or less (1.0%)\n",
      "There are 1309 news sources appearing in only 242 subreddits or less (1.0%)\n",
      "There are 1309 news sources appearing in only 243 subreddits or less (1.0%)\n",
      "There are 1309 news sources appearing in only 244 subreddits or less (1.0%)\n",
      "There are 1309 news sources appearing in only 245 subreddits or less (1.0%)\n",
      "There are 1309 news sources appearing in only 246 subreddits or less (1.0%)\n",
      "There are 1309 news sources appearing in only 247 subreddits or less (1.0%)\n",
      "There are 1309 news sources appearing in only 248 subreddits or less (1.0%)\n",
      "There are 1309 news sources appearing in only 249 subreddits or less (1.0%)\n",
      "There are 1309 news sources appearing in only 250 subreddits or less (1.0%)\n",
      "There are 1309 news sources appearing in only 251 subreddits or less (1.0%)\n",
      "There are 1309 news sources appearing in only 252 subreddits or less (1.0%)\n",
      "There are 1309 news sources appearing in only 253 subreddits or less (1.0%)\n",
      "There are 1309 news sources appearing in only 254 subreddits or less (1.0%)\n",
      "There are 1309 news sources appearing in only 255 subreddits or less (1.0%)\n",
      "There are 1309 news sources appearing in only 256 subreddits or less (1.0%)\n",
      "There are 1309 news sources appearing in only 257 subreddits or less (1.0%)\n",
      "There are 1309 news sources appearing in only 258 subreddits or less (1.0%)\n",
      "There are 1309 news sources appearing in only 259 subreddits or less (1.0%)\n",
      "There are 1309 news sources appearing in only 260 subreddits or less (1.0%)\n",
      "There are 1309 news sources appearing in only 261 subreddits or less (1.0%)\n",
      "There are 1309 news sources appearing in only 262 subreddits or less (1.0%)\n",
      "There are 1309 news sources appearing in only 263 subreddits or less (1.0%)\n",
      "There are 1309 news sources appearing in only 264 subreddits or less (1.0%)\n",
      "There are 1309 news sources appearing in only 265 subreddits or less (1.0%)\n",
      "There are 1309 news sources appearing in only 266 subreddits or less (1.0%)\n",
      "There are 1309 news sources appearing in only 267 subreddits or less (1.0%)\n",
      "There are 1309 news sources appearing in only 268 subreddits or less (1.0%)\n",
      "There are 1309 news sources appearing in only 269 subreddits or less (1.0%)\n",
      "There are 1309 news sources appearing in only 270 subreddits or less (1.0%)\n",
      "There are 1309 news sources appearing in only 271 subreddits or less (1.0%)\n",
      "There are 1309 news sources appearing in only 272 subreddits or less (1.0%)\n",
      "There are 1309 news sources appearing in only 273 subreddits or less (1.0%)\n",
      "There are 1309 news sources appearing in only 274 subreddits or less (1.0%)\n",
      "There are 1309 news sources appearing in only 275 subreddits or less (1.0%)\n",
      "There are 1309 news sources appearing in only 276 subreddits or less (1.0%)\n",
      "There are 1309 news sources appearing in only 277 subreddits or less (1.0%)\n",
      "There are 1309 news sources appearing in only 278 subreddits or less (1.0%)\n",
      "There are 1309 news sources appearing in only 279 subreddits or less (1.0%)\n",
      "There are 1309 news sources appearing in only 280 subreddits or less (1.0%)\n",
      "There are 1309 news sources appearing in only 281 subreddits or less (1.0%)\n",
      "There are 1309 news sources appearing in only 282 subreddits or less (1.0%)\n",
      "There are 1309 news sources appearing in only 283 subreddits or less (1.0%)\n",
      "There are 1309 news sources appearing in only 284 subreddits or less (1.0%)\n",
      "There are 1309 news sources appearing in only 285 subreddits or less (1.0%)\n",
      "There are 1309 news sources appearing in only 286 subreddits or less (1.0%)\n",
      "There are 1309 news sources appearing in only 287 subreddits or less (1.0%)\n",
      "There are 1309 news sources appearing in only 288 subreddits or less (1.0%)\n",
      "There are 1309 news sources appearing in only 289 subreddits or less (1.0%)\n",
      "There are 1309 news sources appearing in only 290 subreddits or less (1.0%)\n",
      "There are 1309 news sources appearing in only 291 subreddits or less (1.0%)\n",
      "There are 1309 news sources appearing in only 292 subreddits or less (1.0%)\n",
      "There are 1309 news sources appearing in only 293 subreddits or less (1.0%)\n",
      "There are 1309 news sources appearing in only 294 subreddits or less (1.0%)\n",
      "There are 1309 news sources appearing in only 295 subreddits or less (1.0%)\n",
      "There are 1309 news sources appearing in only 296 subreddits or less (1.0%)\n",
      "There are 1309 news sources appearing in only 297 subreddits or less (1.0%)\n",
      "There are 1309 news sources appearing in only 298 subreddits or less (1.0%)\n",
      "There are 1309 news sources appearing in only 299 subreddits or less (1.0%)\n",
      "There are 1309 news sources appearing in only 300 subreddits or less (1.0%)\n",
      "There are 1309 news sources appearing in only 301 subreddits or less (1.0%)\n",
      "There are 1309 news sources appearing in only 302 subreddits or less (1.0%)\n",
      "There are 1309 news sources appearing in only 303 subreddits or less (1.0%)\n"
     ]
    },
    {
     "name": "stdout",
     "output_type": "stream",
     "text": [
      "There are 1309 news sources appearing in only 304 subreddits or less (1.0%)\n",
      "There are 1309 news sources appearing in only 305 subreddits or less (1.0%)\n",
      "There are 1309 news sources appearing in only 306 subreddits or less (1.0%)\n",
      "There are 1309 news sources appearing in only 307 subreddits or less (1.0%)\n",
      "There are 1309 news sources appearing in only 308 subreddits or less (1.0%)\n",
      "There are 1309 news sources appearing in only 309 subreddits or less (1.0%)\n",
      "There are 1309 news sources appearing in only 310 subreddits or less (1.0%)\n",
      "There are 1309 news sources appearing in only 311 subreddits or less (1.0%)\n",
      "There are 1309 news sources appearing in only 312 subreddits or less (1.0%)\n",
      "There are 1309 news sources appearing in only 313 subreddits or less (1.0%)\n",
      "There are 1309 news sources appearing in only 314 subreddits or less (1.0%)\n",
      "There are 1309 news sources appearing in only 315 subreddits or less (1.0%)\n",
      "There are 1309 news sources appearing in only 316 subreddits or less (1.0%)\n",
      "There are 1309 news sources appearing in only 317 subreddits or less (1.0%)\n",
      "There are 1309 news sources appearing in only 318 subreddits or less (1.0%)\n",
      "There are 1309 news sources appearing in only 319 subreddits or less (1.0%)\n",
      "There are 1309 news sources appearing in only 320 subreddits or less (1.0%)\n",
      "There are 1309 news sources appearing in only 321 subreddits or less (1.0%)\n",
      "There are 1309 news sources appearing in only 322 subreddits or less (1.0%)\n",
      "There are 1309 news sources appearing in only 323 subreddits or less (1.0%)\n",
      "There are 1309 news sources appearing in only 324 subreddits or less (1.0%)\n",
      "There are 1309 news sources appearing in only 325 subreddits or less (1.0%)\n",
      "There are 1309 news sources appearing in only 326 subreddits or less (1.0%)\n",
      "There are 1309 news sources appearing in only 327 subreddits or less (1.0%)\n",
      "There are 1309 news sources appearing in only 328 subreddits or less (1.0%)\n",
      "There are 1309 news sources appearing in only 329 subreddits or less (1.0%)\n",
      "There are 1309 news sources appearing in only 330 subreddits or less (1.0%)\n",
      "There are 1309 news sources appearing in only 331 subreddits or less (1.0%)\n",
      "There are 1309 news sources appearing in only 332 subreddits or less (1.0%)\n",
      "There are 1309 news sources appearing in only 333 subreddits or less (1.0%)\n",
      "There are 1309 news sources appearing in only 334 subreddits or less (1.0%)\n",
      "There are 1309 news sources appearing in only 335 subreddits or less (1.0%)\n",
      "There are 1309 news sources appearing in only 336 subreddits or less (1.0%)\n",
      "There are 1309 news sources appearing in only 337 subreddits or less (1.0%)\n",
      "There are 1309 news sources appearing in only 338 subreddits or less (1.0%)\n",
      "There are 1309 news sources appearing in only 339 subreddits or less (1.0%)\n",
      "There are 1309 news sources appearing in only 340 subreddits or less (1.0%)\n",
      "There are 1309 news sources appearing in only 341 subreddits or less (1.0%)\n",
      "There are 1309 news sources appearing in only 342 subreddits or less (1.0%)\n",
      "There are 1309 news sources appearing in only 343 subreddits or less (1.0%)\n",
      "There are 1309 news sources appearing in only 344 subreddits or less (1.0%)\n",
      "There are 1309 news sources appearing in only 345 subreddits or less (1.0%)\n",
      "There are 1309 news sources appearing in only 346 subreddits or less (1.0%)\n",
      "There are 1309 news sources appearing in only 347 subreddits or less (1.0%)\n",
      "There are 1309 news sources appearing in only 348 subreddits or less (1.0%)\n",
      "There are 1309 news sources appearing in only 349 subreddits or less (1.0%)\n",
      "There are 1309 news sources appearing in only 350 subreddits or less (1.0%)\n",
      "There are 1309 news sources appearing in only 351 subreddits or less (1.0%)\n",
      "There are 1309 news sources appearing in only 352 subreddits or less (1.0%)\n",
      "There are 1309 news sources appearing in only 353 subreddits or less (1.0%)\n",
      "There are 1309 news sources appearing in only 354 subreddits or less (1.0%)\n",
      "There are 1309 news sources appearing in only 355 subreddits or less (1.0%)\n",
      "There are 1309 news sources appearing in only 356 subreddits or less (1.0%)\n",
      "There are 1309 news sources appearing in only 357 subreddits or less (1.0%)\n",
      "There are 1309 news sources appearing in only 358 subreddits or less (1.0%)\n",
      "There are 1309 news sources appearing in only 359 subreddits or less (1.0%)\n",
      "There are 1309 news sources appearing in only 360 subreddits or less (1.0%)\n",
      "There are 1309 news sources appearing in only 361 subreddits or less (1.0%)\n",
      "There are 1309 news sources appearing in only 362 subreddits or less (1.0%)\n",
      "There are 1309 news sources appearing in only 363 subreddits or less (1.0%)\n",
      "There are 1309 news sources appearing in only 364 subreddits or less (1.0%)\n",
      "There are 1309 news sources appearing in only 365 subreddits or less (1.0%)\n",
      "There are 1309 news sources appearing in only 366 subreddits or less (1.0%)\n",
      "There are 1309 news sources appearing in only 367 subreddits or less (1.0%)\n",
      "There are 1309 news sources appearing in only 368 subreddits or less (1.0%)\n",
      "There are 1309 news sources appearing in only 369 subreddits or less (1.0%)\n",
      "There are 1309 news sources appearing in only 370 subreddits or less (1.0%)\n",
      "There are 1309 news sources appearing in only 371 subreddits or less (1.0%)\n",
      "There are 1309 news sources appearing in only 372 subreddits or less (1.0%)\n",
      "There are 1309 news sources appearing in only 373 subreddits or less (1.0%)\n",
      "There are 1309 news sources appearing in only 374 subreddits or less (1.0%)\n",
      "There are 1309 news sources appearing in only 375 subreddits or less (1.0%)\n",
      "There are 1309 news sources appearing in only 376 subreddits or less (1.0%)\n",
      "There are 1309 news sources appearing in only 377 subreddits or less (1.0%)\n",
      "There are 1309 news sources appearing in only 378 subreddits or less (1.0%)\n",
      "There are 1309 news sources appearing in only 379 subreddits or less (1.0%)\n",
      "There are 1309 news sources appearing in only 380 subreddits or less (1.0%)\n",
      "There are 1309 news sources appearing in only 381 subreddits or less (1.0%)\n",
      "There are 1309 news sources appearing in only 382 subreddits or less (1.0%)\n",
      "There are 1309 news sources appearing in only 383 subreddits or less (1.0%)\n",
      "There are 1309 news sources appearing in only 384 subreddits or less (1.0%)\n",
      "There are 1309 news sources appearing in only 385 subreddits or less (1.0%)\n",
      "There are 1309 news sources appearing in only 386 subreddits or less (1.0%)\n",
      "There are 1309 news sources appearing in only 387 subreddits or less (1.0%)\n",
      "There are 1309 news sources appearing in only 388 subreddits or less (1.0%)\n",
      "There are 1309 news sources appearing in only 389 subreddits or less (1.0%)\n",
      "There are 1309 news sources appearing in only 390 subreddits or less (1.0%)\n",
      "There are 1309 news sources appearing in only 391 subreddits or less (1.0%)\n",
      "There are 1309 news sources appearing in only 392 subreddits or less (1.0%)\n",
      "There are 1309 news sources appearing in only 393 subreddits or less (1.0%)\n",
      "There are 1309 news sources appearing in only 394 subreddits or less (1.0%)\n",
      "There are 1309 news sources appearing in only 395 subreddits or less (1.0%)\n",
      "There are 1309 news sources appearing in only 396 subreddits or less (1.0%)\n",
      "There are 1309 news sources appearing in only 397 subreddits or less (1.0%)\n",
      "There are 1309 news sources appearing in only 398 subreddits or less (1.0%)\n",
      "There are 1309 news sources appearing in only 399 subreddits or less (1.0%)\n",
      "There are 1309 news sources appearing in only 400 subreddits or less (1.0%)\n",
      "There are 1309 news sources appearing in only 401 subreddits or less (1.0%)\n",
      "There are 1309 news sources appearing in only 402 subreddits or less (1.0%)\n",
      "There are 1309 news sources appearing in only 403 subreddits or less (1.0%)\n",
      "There are 1309 news sources appearing in only 404 subreddits or less (1.0%)\n",
      "There are 1309 news sources appearing in only 405 subreddits or less (1.0%)\n",
      "There are 1309 news sources appearing in only 406 subreddits or less (1.0%)\n",
      "There are 1309 news sources appearing in only 407 subreddits or less (1.0%)\n",
      "There are 1309 news sources appearing in only 408 subreddits or less (1.0%)\n",
      "There are 1309 news sources appearing in only 409 subreddits or less (1.0%)\n",
      "There are 1309 news sources appearing in only 410 subreddits or less (1.0%)\n",
      "There are 1309 news sources appearing in only 411 subreddits or less (1.0%)\n",
      "There are 1309 news sources appearing in only 412 subreddits or less (1.0%)\n",
      "There are 1309 news sources appearing in only 413 subreddits or less (1.0%)\n",
      "There are 1309 news sources appearing in only 414 subreddits or less (1.0%)\n",
      "There are 1309 news sources appearing in only 415 subreddits or less (1.0%)\n",
      "There are 1309 news sources appearing in only 416 subreddits or less (1.0%)\n",
      "There are 1309 news sources appearing in only 417 subreddits or less (1.0%)\n",
      "There are 1309 news sources appearing in only 418 subreddits or less (1.0%)\n",
      "There are 1309 news sources appearing in only 419 subreddits or less (1.0%)\n",
      "There are 1309 news sources appearing in only 420 subreddits or less (1.0%)\n",
      "There are 1309 news sources appearing in only 421 subreddits or less (1.0%)\n",
      "There are 1309 news sources appearing in only 422 subreddits or less (1.0%)\n",
      "There are 1309 news sources appearing in only 423 subreddits or less (1.0%)\n",
      "There are 1309 news sources appearing in only 424 subreddits or less (1.0%)\n",
      "There are 1309 news sources appearing in only 425 subreddits or less (1.0%)\n",
      "There are 1309 news sources appearing in only 426 subreddits or less (1.0%)\n",
      "There are 1309 news sources appearing in only 427 subreddits or less (1.0%)\n",
      "There are 1309 news sources appearing in only 428 subreddits or less (1.0%)\n",
      "There are 1309 news sources appearing in only 429 subreddits or less (1.0%)\n",
      "There are 1309 news sources appearing in only 430 subreddits or less (1.0%)\n",
      "There are 1309 news sources appearing in only 431 subreddits or less (1.0%)\n",
      "There are 1309 news sources appearing in only 432 subreddits or less (1.0%)\n",
      "There are 1309 news sources appearing in only 433 subreddits or less (1.0%)\n",
      "There are 1309 news sources appearing in only 434 subreddits or less (1.0%)\n",
      "There are 1309 news sources appearing in only 435 subreddits or less (1.0%)\n",
      "There are 1309 news sources appearing in only 436 subreddits or less (1.0%)\n",
      "There are 1309 news sources appearing in only 437 subreddits or less (1.0%)\n",
      "There are 1309 news sources appearing in only 438 subreddits or less (1.0%)\n",
      "There are 1309 news sources appearing in only 439 subreddits or less (1.0%)\n",
      "There are 1309 news sources appearing in only 440 subreddits or less (1.0%)\n",
      "There are 1309 news sources appearing in only 441 subreddits or less (1.0%)\n",
      "There are 1309 news sources appearing in only 442 subreddits or less (1.0%)\n",
      "There are 1309 news sources appearing in only 443 subreddits or less (1.0%)\n",
      "There are 1309 news sources appearing in only 444 subreddits or less (1.0%)\n",
      "There are 1309 news sources appearing in only 445 subreddits or less (1.0%)\n",
      "There are 1309 news sources appearing in only 446 subreddits or less (1.0%)\n",
      "There are 1309 news sources appearing in only 447 subreddits or less (1.0%)\n",
      "There are 1309 news sources appearing in only 448 subreddits or less (1.0%)\n",
      "There are 1309 news sources appearing in only 449 subreddits or less (1.0%)\n",
      "There are 1309 news sources appearing in only 450 subreddits or less (1.0%)\n",
      "There are 1309 news sources appearing in only 451 subreddits or less (1.0%)\n",
      "There are 1309 news sources appearing in only 452 subreddits or less (1.0%)\n",
      "There are 1309 news sources appearing in only 453 subreddits or less (1.0%)\n",
      "There are 1309 news sources appearing in only 454 subreddits or less (1.0%)\n",
      "There are 1309 news sources appearing in only 455 subreddits or less (1.0%)\n",
      "There are 1309 news sources appearing in only 456 subreddits or less (1.0%)\n",
      "There are 1309 news sources appearing in only 457 subreddits or less (1.0%)\n",
      "There are 1309 news sources appearing in only 458 subreddits or less (1.0%)\n",
      "There are 1309 news sources appearing in only 459 subreddits or less (1.0%)\n",
      "There are 1309 news sources appearing in only 460 subreddits or less (1.0%)\n",
      "There are 1309 news sources appearing in only 461 subreddits or less (1.0%)\n",
      "There are 1309 news sources appearing in only 462 subreddits or less (1.0%)\n",
      "There are 1309 news sources appearing in only 463 subreddits or less (1.0%)\n",
      "There are 1309 news sources appearing in only 464 subreddits or less (1.0%)\n",
      "There are 1309 news sources appearing in only 465 subreddits or less (1.0%)\n",
      "There are 1309 news sources appearing in only 466 subreddits or less (1.0%)\n",
      "There are 1309 news sources appearing in only 467 subreddits or less (1.0%)\n",
      "There are 1309 news sources appearing in only 468 subreddits or less (1.0%)\n",
      "There are 1309 news sources appearing in only 469 subreddits or less (1.0%)\n",
      "There are 1309 news sources appearing in only 470 subreddits or less (1.0%)\n",
      "There are 1309 news sources appearing in only 471 subreddits or less (1.0%)\n",
      "There are 1309 news sources appearing in only 472 subreddits or less (1.0%)\n",
      "There are 1309 news sources appearing in only 473 subreddits or less (1.0%)\n",
      "There are 1309 news sources appearing in only 474 subreddits or less (1.0%)\n",
      "There are 1309 news sources appearing in only 475 subreddits or less (1.0%)\n",
      "There are 1309 news sources appearing in only 476 subreddits or less (1.0%)\n",
      "There are 1309 news sources appearing in only 477 subreddits or less (1.0%)\n",
      "There are 1309 news sources appearing in only 478 subreddits or less (1.0%)\n",
      "There are 1309 news sources appearing in only 479 subreddits or less (1.0%)\n",
      "There are 1309 news sources appearing in only 480 subreddits or less (1.0%)\n",
      "There are 1309 news sources appearing in only 481 subreddits or less (1.0%)\n",
      "There are 1309 news sources appearing in only 482 subreddits or less (1.0%)\n",
      "There are 1309 news sources appearing in only 483 subreddits or less (1.0%)\n",
      "There are 1309 news sources appearing in only 484 subreddits or less (1.0%)\n",
      "There are 1309 news sources appearing in only 485 subreddits or less (1.0%)\n",
      "There are 1309 news sources appearing in only 486 subreddits or less (1.0%)\n",
      "There are 1309 news sources appearing in only 487 subreddits or less (1.0%)\n",
      "There are 1309 news sources appearing in only 488 subreddits or less (1.0%)\n",
      "There are 1309 news sources appearing in only 489 subreddits or less (1.0%)\n",
      "There are 1309 news sources appearing in only 490 subreddits or less (1.0%)\n",
      "There are 1309 news sources appearing in only 491 subreddits or less (1.0%)\n",
      "There are 1309 news sources appearing in only 492 subreddits or less (1.0%)\n",
      "There are 1309 news sources appearing in only 493 subreddits or less (1.0%)\n",
      "There are 1309 news sources appearing in only 494 subreddits or less (1.0%)\n",
      "There are 1309 news sources appearing in only 495 subreddits or less (1.0%)\n",
      "There are 1309 news sources appearing in only 496 subreddits or less (1.0%)\n",
      "There are 1309 news sources appearing in only 497 subreddits or less (1.0%)\n",
      "There are 1309 news sources appearing in only 498 subreddits or less (1.0%)\n",
      "There are 1309 news sources appearing in only 499 subreddits or less (1.0%)\n",
      "There are 1309 news sources appearing in only 500 subreddits or less (1.0%)\n",
      "There are 1309 news sources appearing in only 501 subreddits or less (1.0%)\n",
      "There are 1309 news sources appearing in only 502 subreddits or less (1.0%)\n",
      "There are 1309 news sources appearing in only 503 subreddits or less (1.0%)\n",
      "There are 1309 news sources appearing in only 504 subreddits or less (1.0%)\n",
      "There are 1309 news sources appearing in only 505 subreddits or less (1.0%)\n",
      "There are 1309 news sources appearing in only 506 subreddits or less (1.0%)\n",
      "There are 1309 news sources appearing in only 507 subreddits or less (1.0%)\n",
      "There are 1309 news sources appearing in only 508 subreddits or less (1.0%)\n",
      "There are 1309 news sources appearing in only 509 subreddits or less (1.0%)\n",
      "There are 1309 news sources appearing in only 510 subreddits or less (1.0%)\n",
      "There are 1309 news sources appearing in only 511 subreddits or less (1.0%)\n",
      "There are 1309 news sources appearing in only 512 subreddits or less (1.0%)\n",
      "There are 1309 news sources appearing in only 513 subreddits or less (1.0%)\n",
      "There are 1309 news sources appearing in only 514 subreddits or less (1.0%)\n",
      "There are 1309 news sources appearing in only 515 subreddits or less (1.0%)\n",
      "There are 1309 news sources appearing in only 516 subreddits or less (1.0%)\n",
      "There are 1309 news sources appearing in only 517 subreddits or less (1.0%)\n",
      "There are 1309 news sources appearing in only 518 subreddits or less (1.0%)\n",
      "There are 1309 news sources appearing in only 519 subreddits or less (1.0%)\n",
      "There are 1309 news sources appearing in only 520 subreddits or less (1.0%)\n",
      "There are 1309 news sources appearing in only 521 subreddits or less (1.0%)\n",
      "There are 1309 news sources appearing in only 522 subreddits or less (1.0%)\n",
      "There are 1309 news sources appearing in only 523 subreddits or less (1.0%)\n",
      "There are 1309 news sources appearing in only 524 subreddits or less (1.0%)\n",
      "There are 1309 news sources appearing in only 525 subreddits or less (1.0%)\n",
      "There are 1309 news sources appearing in only 526 subreddits or less (1.0%)\n",
      "There are 1309 news sources appearing in only 527 subreddits or less (1.0%)\n",
      "There are 1309 news sources appearing in only 528 subreddits or less (1.0%)\n",
      "There are 1309 news sources appearing in only 529 subreddits or less (1.0%)\n",
      "There are 1309 news sources appearing in only 530 subreddits or less (1.0%)\n",
      "There are 1309 news sources appearing in only 531 subreddits or less (1.0%)\n",
      "There are 1309 news sources appearing in only 532 subreddits or less (1.0%)\n",
      "There are 1309 news sources appearing in only 533 subreddits or less (1.0%)\n",
      "There are 1309 news sources appearing in only 534 subreddits or less (1.0%)\n",
      "There are 1309 news sources appearing in only 535 subreddits or less (1.0%)\n",
      "There are 1309 news sources appearing in only 536 subreddits or less (1.0%)\n",
      "There are 1309 news sources appearing in only 537 subreddits or less (1.0%)\n",
      "There are 1309 news sources appearing in only 538 subreddits or less (1.0%)\n",
      "There are 1309 news sources appearing in only 539 subreddits or less (1.0%)\n",
      "There are 1309 news sources appearing in only 540 subreddits or less (1.0%)\n",
      "There are 1309 news sources appearing in only 541 subreddits or less (1.0%)\n",
      "There are 1309 news sources appearing in only 542 subreddits or less (1.0%)\n",
      "There are 1309 news sources appearing in only 543 subreddits or less (1.0%)\n",
      "There are 1309 news sources appearing in only 544 subreddits or less (1.0%)\n",
      "There are 1309 news sources appearing in only 545 subreddits or less (1.0%)\n",
      "There are 1309 news sources appearing in only 546 subreddits or less (1.0%)\n",
      "There are 1309 news sources appearing in only 547 subreddits or less (1.0%)\n",
      "There are 1309 news sources appearing in only 548 subreddits or less (1.0%)\n",
      "There are 1309 news sources appearing in only 549 subreddits or less (1.0%)\n",
      "There are 1309 news sources appearing in only 550 subreddits or less (1.0%)\n",
      "There are 1309 news sources appearing in only 551 subreddits or less (1.0%)\n",
      "There are 1309 news sources appearing in only 552 subreddits or less (1.0%)\n",
      "There are 1309 news sources appearing in only 553 subreddits or less (1.0%)\n",
      "There are 1309 news sources appearing in only 554 subreddits or less (1.0%)\n",
      "There are 1309 news sources appearing in only 555 subreddits or less (1.0%)\n",
      "There are 1309 news sources appearing in only 556 subreddits or less (1.0%)\n",
      "There are 1309 news sources appearing in only 557 subreddits or less (1.0%)\n",
      "There are 1309 news sources appearing in only 558 subreddits or less (1.0%)\n",
      "There are 1309 news sources appearing in only 559 subreddits or less (1.0%)\n",
      "There are 1309 news sources appearing in only 560 subreddits or less (1.0%)\n",
      "There are 1309 news sources appearing in only 561 subreddits or less (1.0%)\n",
      "There are 1309 news sources appearing in only 562 subreddits or less (1.0%)\n",
      "There are 1309 news sources appearing in only 563 subreddits or less (1.0%)\n",
      "There are 1309 news sources appearing in only 564 subreddits or less (1.0%)\n",
      "There are 1309 news sources appearing in only 565 subreddits or less (1.0%)\n",
      "There are 1309 news sources appearing in only 566 subreddits or less (1.0%)\n",
      "There are 1309 news sources appearing in only 567 subreddits or less (1.0%)\n",
      "There are 1309 news sources appearing in only 568 subreddits or less (1.0%)\n",
      "There are 1309 news sources appearing in only 569 subreddits or less (1.0%)\n",
      "There are 1309 news sources appearing in only 570 subreddits or less (1.0%)\n",
      "There are 1309 news sources appearing in only 571 subreddits or less (1.0%)\n",
      "There are 1309 news sources appearing in only 572 subreddits or less (1.0%)\n",
      "There are 1309 news sources appearing in only 573 subreddits or less (1.0%)\n",
      "There are 1309 news sources appearing in only 574 subreddits or less (1.0%)\n",
      "There are 1309 news sources appearing in only 575 subreddits or less (1.0%)\n",
      "There are 1309 news sources appearing in only 576 subreddits or less (1.0%)\n",
      "There are 1309 news sources appearing in only 577 subreddits or less (1.0%)\n",
      "There are 1309 news sources appearing in only 578 subreddits or less (1.0%)\n",
      "There are 1309 news sources appearing in only 579 subreddits or less (1.0%)\n",
      "There are 1309 news sources appearing in only 580 subreddits or less (1.0%)\n",
      "There are 1309 news sources appearing in only 581 subreddits or less (1.0%)\n",
      "There are 1309 news sources appearing in only 582 subreddits or less (1.0%)\n",
      "There are 1309 news sources appearing in only 583 subreddits or less (1.0%)\n",
      "There are 1309 news sources appearing in only 584 subreddits or less (1.0%)\n",
      "There are 1309 news sources appearing in only 585 subreddits or less (1.0%)\n",
      "There are 1309 news sources appearing in only 586 subreddits or less (1.0%)\n",
      "There are 1309 news sources appearing in only 587 subreddits or less (1.0%)\n",
      "There are 1309 news sources appearing in only 588 subreddits or less (1.0%)\n",
      "There are 1309 news sources appearing in only 589 subreddits or less (1.0%)\n",
      "There are 1309 news sources appearing in only 590 subreddits or less (1.0%)\n",
      "There are 1309 news sources appearing in only 591 subreddits or less (1.0%)\n",
      "There are 1309 news sources appearing in only 592 subreddits or less (1.0%)\n",
      "There are 1309 news sources appearing in only 593 subreddits or less (1.0%)\n",
      "There are 1309 news sources appearing in only 594 subreddits or less (1.0%)\n",
      "There are 1309 news sources appearing in only 595 subreddits or less (1.0%)\n",
      "There are 1309 news sources appearing in only 596 subreddits or less (1.0%)\n",
      "There are 1309 news sources appearing in only 597 subreddits or less (1.0%)\n",
      "There are 1309 news sources appearing in only 598 subreddits or less (1.0%)\n",
      "There are 1309 news sources appearing in only 599 subreddits or less (1.0%)\n",
      "There are 1309 news sources appearing in only 600 subreddits or less (1.0%)\n",
      "There are 1309 news sources appearing in only 601 subreddits or less (1.0%)\n",
      "There are 1309 news sources appearing in only 602 subreddits or less (1.0%)\n",
      "There are 1309 news sources appearing in only 603 subreddits or less (1.0%)\n",
      "There are 1309 news sources appearing in only 604 subreddits or less (1.0%)\n",
      "There are 1309 news sources appearing in only 605 subreddits or less (1.0%)\n",
      "There are 1309 news sources appearing in only 606 subreddits or less (1.0%)\n",
      "There are 1309 news sources appearing in only 607 subreddits or less (1.0%)\n",
      "There are 1309 news sources appearing in only 608 subreddits or less (1.0%)\n",
      "There are 1309 news sources appearing in only 609 subreddits or less (1.0%)\n",
      "There are 1309 news sources appearing in only 610 subreddits or less (1.0%)\n",
      "There are 1309 news sources appearing in only 611 subreddits or less (1.0%)\n",
      "There are 1309 news sources appearing in only 612 subreddits or less (1.0%)\n",
      "There are 1309 news sources appearing in only 613 subreddits or less (1.0%)\n",
      "There are 1309 news sources appearing in only 614 subreddits or less (1.0%)\n",
      "There are 1309 news sources appearing in only 615 subreddits or less (1.0%)\n",
      "There are 1309 news sources appearing in only 616 subreddits or less (1.0%)\n",
      "There are 1309 news sources appearing in only 617 subreddits or less (1.0%)\n",
      "There are 1309 news sources appearing in only 618 subreddits or less (1.0%)\n",
      "There are 1309 news sources appearing in only 619 subreddits or less (1.0%)\n",
      "There are 1309 news sources appearing in only 620 subreddits or less (1.0%)\n",
      "There are 1309 news sources appearing in only 621 subreddits or less (1.0%)\n",
      "There are 1309 news sources appearing in only 622 subreddits or less (1.0%)\n",
      "There are 1309 news sources appearing in only 623 subreddits or less (1.0%)\n",
      "There are 1309 news sources appearing in only 624 subreddits or less (1.0%)\n",
      "There are 1309 news sources appearing in only 625 subreddits or less (1.0%)\n",
      "There are 1309 news sources appearing in only 626 subreddits or less (1.0%)\n",
      "There are 1309 news sources appearing in only 627 subreddits or less (1.0%)\n",
      "There are 1309 news sources appearing in only 628 subreddits or less (1.0%)\n",
      "There are 1309 news sources appearing in only 629 subreddits or less (1.0%)\n",
      "There are 1309 news sources appearing in only 630 subreddits or less (1.0%)\n",
      "There are 1309 news sources appearing in only 631 subreddits or less (1.0%)\n",
      "There are 1309 news sources appearing in only 632 subreddits or less (1.0%)\n",
      "There are 1309 news sources appearing in only 633 subreddits or less (1.0%)\n",
      "There are 1309 news sources appearing in only 634 subreddits or less (1.0%)\n",
      "There are 1309 news sources appearing in only 635 subreddits or less (1.0%)\n",
      "There are 1309 news sources appearing in only 636 subreddits or less (1.0%)\n",
      "There are 1309 news sources appearing in only 637 subreddits or less (1.0%)\n"
     ]
    },
    {
     "name": "stdout",
     "output_type": "stream",
     "text": [
      "There are 1309 news sources appearing in only 638 subreddits or less (1.0%)\n",
      "There are 1309 news sources appearing in only 639 subreddits or less (1.0%)\n",
      "There are 1309 news sources appearing in only 640 subreddits or less (1.0%)\n",
      "There are 1309 news sources appearing in only 641 subreddits or less (1.0%)\n",
      "There are 1309 news sources appearing in only 642 subreddits or less (1.0%)\n",
      "There are 1309 news sources appearing in only 643 subreddits or less (1.0%)\n",
      "There are 1309 news sources appearing in only 644 subreddits or less (1.0%)\n",
      "There are 1309 news sources appearing in only 645 subreddits or less (1.0%)\n",
      "There are 1309 news sources appearing in only 646 subreddits or less (1.0%)\n",
      "There are 1309 news sources appearing in only 647 subreddits or less (1.0%)\n",
      "There are 1309 news sources appearing in only 648 subreddits or less (1.0%)\n",
      "There are 1309 news sources appearing in only 649 subreddits or less (1.0%)\n",
      "There are 1309 news sources appearing in only 650 subreddits or less (1.0%)\n",
      "There are 1309 news sources appearing in only 651 subreddits or less (1.0%)\n",
      "There are 1309 news sources appearing in only 652 subreddits or less (1.0%)\n",
      "There are 1309 news sources appearing in only 653 subreddits or less (1.0%)\n",
      "There are 1309 news sources appearing in only 654 subreddits or less (1.0%)\n",
      "There are 1309 news sources appearing in only 655 subreddits or less (1.0%)\n",
      "There are 1309 news sources appearing in only 656 subreddits or less (1.0%)\n",
      "There are 1309 news sources appearing in only 657 subreddits or less (1.0%)\n",
      "There are 1309 news sources appearing in only 658 subreddits or less (1.0%)\n",
      "There are 1309 news sources appearing in only 659 subreddits or less (1.0%)\n",
      "There are 1309 news sources appearing in only 660 subreddits or less (1.0%)\n",
      "There are 1309 news sources appearing in only 661 subreddits or less (1.0%)\n",
      "There are 1309 news sources appearing in only 662 subreddits or less (1.0%)\n",
      "There are 1309 news sources appearing in only 663 subreddits or less (1.0%)\n",
      "There are 1309 news sources appearing in only 664 subreddits or less (1.0%)\n",
      "There are 1309 news sources appearing in only 665 subreddits or less (1.0%)\n",
      "There are 1309 news sources appearing in only 666 subreddits or less (1.0%)\n",
      "There are 1309 news sources appearing in only 667 subreddits or less (1.0%)\n",
      "There are 1309 news sources appearing in only 668 subreddits or less (1.0%)\n",
      "There are 1309 news sources appearing in only 669 subreddits or less (1.0%)\n",
      "There are 1309 news sources appearing in only 670 subreddits or less (1.0%)\n",
      "There are 1309 news sources appearing in only 671 subreddits or less (1.0%)\n",
      "There are 1309 news sources appearing in only 672 subreddits or less (1.0%)\n",
      "There are 1309 news sources appearing in only 673 subreddits or less (1.0%)\n",
      "There are 1309 news sources appearing in only 674 subreddits or less (1.0%)\n",
      "There are 1309 news sources appearing in only 675 subreddits or less (1.0%)\n",
      "There are 1309 news sources appearing in only 676 subreddits or less (1.0%)\n",
      "There are 1309 news sources appearing in only 677 subreddits or less (1.0%)\n",
      "There are 1309 news sources appearing in only 678 subreddits or less (1.0%)\n",
      "There are 1309 news sources appearing in only 679 subreddits or less (1.0%)\n",
      "There are 1309 news sources appearing in only 680 subreddits or less (1.0%)\n",
      "There are 1309 news sources appearing in only 681 subreddits or less (1.0%)\n",
      "There are 1309 news sources appearing in only 682 subreddits or less (1.0%)\n",
      "There are 1309 news sources appearing in only 683 subreddits or less (1.0%)\n",
      "There are 1309 news sources appearing in only 684 subreddits or less (1.0%)\n",
      "There are 1309 news sources appearing in only 685 subreddits or less (1.0%)\n",
      "There are 1309 news sources appearing in only 686 subreddits or less (1.0%)\n",
      "There are 1309 news sources appearing in only 687 subreddits or less (1.0%)\n",
      "There are 1309 news sources appearing in only 688 subreddits or less (1.0%)\n",
      "There are 1309 news sources appearing in only 689 subreddits or less (1.0%)\n",
      "There are 1309 news sources appearing in only 690 subreddits or less (1.0%)\n",
      "There are 1309 news sources appearing in only 691 subreddits or less (1.0%)\n",
      "There are 1309 news sources appearing in only 692 subreddits or less (1.0%)\n",
      "There are 1309 news sources appearing in only 693 subreddits or less (1.0%)\n",
      "There are 1309 news sources appearing in only 694 subreddits or less (1.0%)\n",
      "There are 1309 news sources appearing in only 695 subreddits or less (1.0%)\n",
      "There are 1309 news sources appearing in only 696 subreddits or less (1.0%)\n",
      "There are 1309 news sources appearing in only 697 subreddits or less (1.0%)\n",
      "There are 1309 news sources appearing in only 698 subreddits or less (1.0%)\n",
      "There are 1309 news sources appearing in only 699 subreddits or less (1.0%)\n",
      "There are 1309 news sources appearing in only 700 subreddits or less (1.0%)\n",
      "There are 1309 news sources appearing in only 701 subreddits or less (1.0%)\n",
      "There are 1309 news sources appearing in only 702 subreddits or less (1.0%)\n",
      "There are 1309 news sources appearing in only 703 subreddits or less (1.0%)\n",
      "There are 1309 news sources appearing in only 704 subreddits or less (1.0%)\n",
      "There are 1309 news sources appearing in only 705 subreddits or less (1.0%)\n",
      "There are 1309 news sources appearing in only 706 subreddits or less (1.0%)\n",
      "There are 1309 news sources appearing in only 707 subreddits or less (1.0%)\n",
      "There are 1309 news sources appearing in only 708 subreddits or less (1.0%)\n",
      "There are 1309 news sources appearing in only 709 subreddits or less (1.0%)\n",
      "There are 1309 news sources appearing in only 710 subreddits or less (1.0%)\n",
      "There are 1309 news sources appearing in only 711 subreddits or less (1.0%)\n",
      "There are 1309 news sources appearing in only 712 subreddits or less (1.0%)\n",
      "There are 1309 news sources appearing in only 713 subreddits or less (1.0%)\n",
      "There are 1309 news sources appearing in only 714 subreddits or less (1.0%)\n",
      "There are 1309 news sources appearing in only 715 subreddits or less (1.0%)\n",
      "There are 1309 news sources appearing in only 716 subreddits or less (1.0%)\n",
      "There are 1309 news sources appearing in only 717 subreddits or less (1.0%)\n",
      "There are 1309 news sources appearing in only 718 subreddits or less (1.0%)\n",
      "There are 1309 news sources appearing in only 719 subreddits or less (1.0%)\n",
      "There are 1309 news sources appearing in only 720 subreddits or less (1.0%)\n",
      "There are 1309 news sources appearing in only 721 subreddits or less (1.0%)\n",
      "There are 1309 news sources appearing in only 722 subreddits or less (1.0%)\n",
      "There are 1309 news sources appearing in only 723 subreddits or less (1.0%)\n",
      "There are 1309 news sources appearing in only 724 subreddits or less (1.0%)\n",
      "There are 1309 news sources appearing in only 725 subreddits or less (1.0%)\n",
      "There are 1309 news sources appearing in only 726 subreddits or less (1.0%)\n",
      "There are 1309 news sources appearing in only 727 subreddits or less (1.0%)\n",
      "There are 1309 news sources appearing in only 728 subreddits or less (1.0%)\n",
      "There are 1309 news sources appearing in only 729 subreddits or less (1.0%)\n",
      "There are 1309 news sources appearing in only 730 subreddits or less (1.0%)\n",
      "There are 1309 news sources appearing in only 731 subreddits or less (1.0%)\n",
      "There are 1309 news sources appearing in only 732 subreddits or less (1.0%)\n",
      "There are 1309 news sources appearing in only 733 subreddits or less (1.0%)\n",
      "There are 1309 news sources appearing in only 734 subreddits or less (1.0%)\n",
      "There are 1309 news sources appearing in only 735 subreddits or less (1.0%)\n",
      "There are 1309 news sources appearing in only 736 subreddits or less (1.0%)\n",
      "There are 1309 news sources appearing in only 737 subreddits or less (1.0%)\n",
      "There are 1309 news sources appearing in only 738 subreddits or less (1.0%)\n",
      "There are 1309 news sources appearing in only 739 subreddits or less (1.0%)\n",
      "There are 1309 news sources appearing in only 740 subreddits or less (1.0%)\n",
      "There are 1309 news sources appearing in only 741 subreddits or less (1.0%)\n",
      "There are 1309 news sources appearing in only 742 subreddits or less (1.0%)\n",
      "There are 1309 news sources appearing in only 743 subreddits or less (1.0%)\n",
      "There are 1309 news sources appearing in only 744 subreddits or less (1.0%)\n",
      "There are 1309 news sources appearing in only 745 subreddits or less (1.0%)\n",
      "There are 1309 news sources appearing in only 746 subreddits or less (1.0%)\n",
      "There are 1309 news sources appearing in only 747 subreddits or less (1.0%)\n",
      "There are 1309 news sources appearing in only 748 subreddits or less (1.0%)\n",
      "There are 1309 news sources appearing in only 749 subreddits or less (1.0%)\n",
      "There are 1309 news sources appearing in only 750 subreddits or less (1.0%)\n",
      "There are 1309 news sources appearing in only 751 subreddits or less (1.0%)\n",
      "There are 1309 news sources appearing in only 752 subreddits or less (1.0%)\n",
      "There are 1309 news sources appearing in only 753 subreddits or less (1.0%)\n",
      "There are 1309 news sources appearing in only 754 subreddits or less (1.0%)\n",
      "There are 1309 news sources appearing in only 755 subreddits or less (1.0%)\n",
      "There are 1309 news sources appearing in only 756 subreddits or less (1.0%)\n",
      "There are 1309 news sources appearing in only 757 subreddits or less (1.0%)\n",
      "There are 1309 news sources appearing in only 758 subreddits or less (1.0%)\n",
      "There are 1309 news sources appearing in only 759 subreddits or less (1.0%)\n",
      "There are 1309 news sources appearing in only 760 subreddits or less (1.0%)\n",
      "There are 1309 news sources appearing in only 761 subreddits or less (1.0%)\n",
      "There are 1309 news sources appearing in only 762 subreddits or less (1.0%)\n",
      "There are 1309 news sources appearing in only 763 subreddits or less (1.0%)\n",
      "There are 1309 news sources appearing in only 764 subreddits or less (1.0%)\n",
      "There are 1309 news sources appearing in only 765 subreddits or less (1.0%)\n",
      "There are 1309 news sources appearing in only 766 subreddits or less (1.0%)\n",
      "There are 1309 news sources appearing in only 767 subreddits or less (1.0%)\n",
      "There are 1309 news sources appearing in only 768 subreddits or less (1.0%)\n",
      "There are 1309 news sources appearing in only 769 subreddits or less (1.0%)\n",
      "There are 1309 news sources appearing in only 770 subreddits or less (1.0%)\n",
      "There are 1309 news sources appearing in only 771 subreddits or less (1.0%)\n",
      "There are 1309 news sources appearing in only 772 subreddits or less (1.0%)\n",
      "There are 1309 news sources appearing in only 773 subreddits or less (1.0%)\n",
      "There are 1309 news sources appearing in only 774 subreddits or less (1.0%)\n",
      "There are 1309 news sources appearing in only 775 subreddits or less (1.0%)\n",
      "There are 1309 news sources appearing in only 776 subreddits or less (1.0%)\n",
      "There are 1309 news sources appearing in only 777 subreddits or less (1.0%)\n",
      "There are 1309 news sources appearing in only 778 subreddits or less (1.0%)\n",
      "There are 1309 news sources appearing in only 779 subreddits or less (1.0%)\n",
      "There are 1309 news sources appearing in only 780 subreddits or less (1.0%)\n",
      "There are 1309 news sources appearing in only 781 subreddits or less (1.0%)\n",
      "There are 1309 news sources appearing in only 782 subreddits or less (1.0%)\n",
      "There are 1309 news sources appearing in only 783 subreddits or less (1.0%)\n",
      "There are 1309 news sources appearing in only 784 subreddits or less (1.0%)\n",
      "There are 1309 news sources appearing in only 785 subreddits or less (1.0%)\n",
      "There are 1309 news sources appearing in only 786 subreddits or less (1.0%)\n",
      "There are 1309 news sources appearing in only 787 subreddits or less (1.0%)\n",
      "There are 1309 news sources appearing in only 788 subreddits or less (1.0%)\n",
      "There are 1309 news sources appearing in only 789 subreddits or less (1.0%)\n",
      "There are 1309 news sources appearing in only 790 subreddits or less (1.0%)\n",
      "There are 1309 news sources appearing in only 791 subreddits or less (1.0%)\n",
      "There are 1309 news sources appearing in only 792 subreddits or less (1.0%)\n",
      "There are 1309 news sources appearing in only 793 subreddits or less (1.0%)\n",
      "There are 1309 news sources appearing in only 794 subreddits or less (1.0%)\n",
      "There are 1309 news sources appearing in only 795 subreddits or less (1.0%)\n",
      "There are 1309 news sources appearing in only 796 subreddits or less (1.0%)\n",
      "There are 1309 news sources appearing in only 797 subreddits or less (1.0%)\n",
      "There are 1309 news sources appearing in only 798 subreddits or less (1.0%)\n",
      "There are 1309 news sources appearing in only 799 subreddits or less (1.0%)\n",
      "There are 1309 news sources appearing in only 800 subreddits or less (1.0%)\n",
      "There are 1309 news sources appearing in only 801 subreddits or less (1.0%)\n",
      "There are 1309 news sources appearing in only 802 subreddits or less (1.0%)\n",
      "There are 1309 news sources appearing in only 803 subreddits or less (1.0%)\n",
      "There are 1309 news sources appearing in only 804 subreddits or less (1.0%)\n",
      "There are 1309 news sources appearing in only 805 subreddits or less (1.0%)\n",
      "There are 1309 news sources appearing in only 806 subreddits or less (1.0%)\n",
      "There are 1309 news sources appearing in only 807 subreddits or less (1.0%)\n",
      "There are 1309 news sources appearing in only 808 subreddits or less (1.0%)\n",
      "There are 1309 news sources appearing in only 809 subreddits or less (1.0%)\n",
      "There are 1309 news sources appearing in only 810 subreddits or less (1.0%)\n",
      "There are 1309 news sources appearing in only 811 subreddits or less (1.0%)\n",
      "There are 1309 news sources appearing in only 812 subreddits or less (1.0%)\n",
      "There are 1309 news sources appearing in only 813 subreddits or less (1.0%)\n",
      "There are 1309 news sources appearing in only 814 subreddits or less (1.0%)\n",
      "There are 1309 news sources appearing in only 815 subreddits or less (1.0%)\n",
      "There are 1309 news sources appearing in only 816 subreddits or less (1.0%)\n",
      "There are 1309 news sources appearing in only 817 subreddits or less (1.0%)\n",
      "There are 1309 news sources appearing in only 818 subreddits or less (1.0%)\n",
      "There are 1309 news sources appearing in only 819 subreddits or less (1.0%)\n",
      "There are 1309 news sources appearing in only 820 subreddits or less (1.0%)\n",
      "There are 1309 news sources appearing in only 821 subreddits or less (1.0%)\n",
      "There are 1309 news sources appearing in only 822 subreddits or less (1.0%)\n",
      "There are 1309 news sources appearing in only 823 subreddits or less (1.0%)\n",
      "There are 1309 news sources appearing in only 824 subreddits or less (1.0%)\n",
      "There are 1309 news sources appearing in only 825 subreddits or less (1.0%)\n",
      "There are 1309 news sources appearing in only 826 subreddits or less (1.0%)\n",
      "There are 1309 news sources appearing in only 827 subreddits or less (1.0%)\n",
      "There are 1309 news sources appearing in only 828 subreddits or less (1.0%)\n",
      "There are 1309 news sources appearing in only 829 subreddits or less (1.0%)\n",
      "There are 1309 news sources appearing in only 830 subreddits or less (1.0%)\n",
      "There are 1309 news sources appearing in only 831 subreddits or less (1.0%)\n",
      "There are 1309 news sources appearing in only 832 subreddits or less (1.0%)\n",
      "There are 1309 news sources appearing in only 833 subreddits or less (1.0%)\n",
      "There are 1309 news sources appearing in only 834 subreddits or less (1.0%)\n",
      "There are 1309 news sources appearing in only 835 subreddits or less (1.0%)\n",
      "There are 1309 news sources appearing in only 836 subreddits or less (1.0%)\n",
      "There are 1309 news sources appearing in only 837 subreddits or less (1.0%)\n",
      "There are 1309 news sources appearing in only 838 subreddits or less (1.0%)\n",
      "There are 1309 news sources appearing in only 839 subreddits or less (1.0%)\n",
      "There are 1309 news sources appearing in only 840 subreddits or less (1.0%)\n",
      "There are 1309 news sources appearing in only 841 subreddits or less (1.0%)\n",
      "There are 1309 news sources appearing in only 842 subreddits or less (1.0%)\n",
      "There are 1309 news sources appearing in only 843 subreddits or less (1.0%)\n",
      "There are 1309 news sources appearing in only 844 subreddits or less (1.0%)\n",
      "There are 1309 news sources appearing in only 845 subreddits or less (1.0%)\n",
      "There are 1309 news sources appearing in only 846 subreddits or less (1.0%)\n",
      "There are 1309 news sources appearing in only 847 subreddits or less (1.0%)\n",
      "There are 1309 news sources appearing in only 848 subreddits or less (1.0%)\n",
      "There are 1309 news sources appearing in only 849 subreddits or less (1.0%)\n",
      "There are 1309 news sources appearing in only 850 subreddits or less (1.0%)\n",
      "There are 1309 news sources appearing in only 851 subreddits or less (1.0%)\n",
      "There are 1309 news sources appearing in only 852 subreddits or less (1.0%)\n",
      "There are 1309 news sources appearing in only 853 subreddits or less (1.0%)\n",
      "There are 1309 news sources appearing in only 854 subreddits or less (1.0%)\n",
      "There are 1309 news sources appearing in only 855 subreddits or less (1.0%)\n",
      "There are 1309 news sources appearing in only 856 subreddits or less (1.0%)\n",
      "There are 1309 news sources appearing in only 857 subreddits or less (1.0%)\n",
      "There are 1309 news sources appearing in only 858 subreddits or less (1.0%)\n",
      "There are 1309 news sources appearing in only 859 subreddits or less (1.0%)\n",
      "There are 1309 news sources appearing in only 860 subreddits or less (1.0%)\n",
      "There are 1309 news sources appearing in only 861 subreddits or less (1.0%)\n",
      "There are 1309 news sources appearing in only 862 subreddits or less (1.0%)\n",
      "There are 1309 news sources appearing in only 863 subreddits or less (1.0%)\n",
      "There are 1309 news sources appearing in only 864 subreddits or less (1.0%)\n",
      "There are 1309 news sources appearing in only 865 subreddits or less (1.0%)\n",
      "There are 1309 news sources appearing in only 866 subreddits or less (1.0%)\n",
      "There are 1309 news sources appearing in only 867 subreddits or less (1.0%)\n",
      "There are 1309 news sources appearing in only 868 subreddits or less (1.0%)\n",
      "There are 1309 news sources appearing in only 869 subreddits or less (1.0%)\n",
      "There are 1309 news sources appearing in only 870 subreddits or less (1.0%)\n",
      "There are 1309 news sources appearing in only 871 subreddits or less (1.0%)\n",
      "There are 1309 news sources appearing in only 872 subreddits or less (1.0%)\n",
      "There are 1309 news sources appearing in only 873 subreddits or less (1.0%)\n",
      "There are 1309 news sources appearing in only 874 subreddits or less (1.0%)\n",
      "There are 1309 news sources appearing in only 875 subreddits or less (1.0%)\n",
      "There are 1309 news sources appearing in only 876 subreddits or less (1.0%)\n",
      "There are 1309 news sources appearing in only 877 subreddits or less (1.0%)\n",
      "There are 1309 news sources appearing in only 878 subreddits or less (1.0%)\n",
      "There are 1309 news sources appearing in only 879 subreddits or less (1.0%)\n",
      "There are 1309 news sources appearing in only 880 subreddits or less (1.0%)\n",
      "There are 1309 news sources appearing in only 881 subreddits or less (1.0%)\n",
      "There are 1309 news sources appearing in only 882 subreddits or less (1.0%)\n",
      "There are 1309 news sources appearing in only 883 subreddits or less (1.0%)\n",
      "There are 1309 news sources appearing in only 884 subreddits or less (1.0%)\n",
      "There are 1309 news sources appearing in only 885 subreddits or less (1.0%)\n",
      "There are 1309 news sources appearing in only 886 subreddits or less (1.0%)\n",
      "There are 1309 news sources appearing in only 887 subreddits or less (1.0%)\n",
      "There are 1309 news sources appearing in only 888 subreddits or less (1.0%)\n",
      "There are 1309 news sources appearing in only 889 subreddits or less (1.0%)\n",
      "There are 1309 news sources appearing in only 890 subreddits or less (1.0%)\n",
      "There are 1309 news sources appearing in only 891 subreddits or less (1.0%)\n",
      "There are 1309 news sources appearing in only 892 subreddits or less (1.0%)\n",
      "There are 1309 news sources appearing in only 893 subreddits or less (1.0%)\n",
      "There are 1309 news sources appearing in only 894 subreddits or less (1.0%)\n",
      "There are 1309 news sources appearing in only 895 subreddits or less (1.0%)\n",
      "There are 1309 news sources appearing in only 896 subreddits or less (1.0%)\n",
      "There are 1309 news sources appearing in only 897 subreddits or less (1.0%)\n",
      "There are 1309 news sources appearing in only 898 subreddits or less (1.0%)\n",
      "There are 1309 news sources appearing in only 899 subreddits or less (1.0%)\n",
      "There are 1309 news sources appearing in only 900 subreddits or less (1.0%)\n",
      "There are 1309 news sources appearing in only 901 subreddits or less (1.0%)\n",
      "There are 1309 news sources appearing in only 902 subreddits or less (1.0%)\n",
      "There are 1309 news sources appearing in only 903 subreddits or less (1.0%)\n",
      "There are 1309 news sources appearing in only 904 subreddits or less (1.0%)\n",
      "There are 1309 news sources appearing in only 905 subreddits or less (1.0%)\n",
      "There are 1309 news sources appearing in only 906 subreddits or less (1.0%)\n",
      "There are 1309 news sources appearing in only 907 subreddits or less (1.0%)\n",
      "There are 1309 news sources appearing in only 908 subreddits or less (1.0%)\n",
      "There are 1309 news sources appearing in only 909 subreddits or less (1.0%)\n",
      "There are 1309 news sources appearing in only 910 subreddits or less (1.0%)\n",
      "There are 1309 news sources appearing in only 911 subreddits or less (1.0%)\n",
      "There are 1309 news sources appearing in only 912 subreddits or less (1.0%)\n",
      "There are 1309 news sources appearing in only 913 subreddits or less (1.0%)\n",
      "There are 1309 news sources appearing in only 914 subreddits or less (1.0%)\n",
      "There are 1309 news sources appearing in only 915 subreddits or less (1.0%)\n",
      "There are 1309 news sources appearing in only 916 subreddits or less (1.0%)\n",
      "There are 1309 news sources appearing in only 917 subreddits or less (1.0%)\n",
      "There are 1309 news sources appearing in only 918 subreddits or less (1.0%)\n",
      "There are 1309 news sources appearing in only 919 subreddits or less (1.0%)\n",
      "There are 1309 news sources appearing in only 920 subreddits or less (1.0%)\n",
      "There are 1309 news sources appearing in only 921 subreddits or less (1.0%)\n",
      "There are 1309 news sources appearing in only 922 subreddits or less (1.0%)\n",
      "There are 1309 news sources appearing in only 923 subreddits or less (1.0%)\n",
      "There are 1309 news sources appearing in only 924 subreddits or less (1.0%)\n",
      "There are 1309 news sources appearing in only 925 subreddits or less (1.0%)\n",
      "There are 1309 news sources appearing in only 926 subreddits or less (1.0%)\n",
      "There are 1309 news sources appearing in only 927 subreddits or less (1.0%)\n",
      "There are 1309 news sources appearing in only 928 subreddits or less (1.0%)\n",
      "There are 1309 news sources appearing in only 929 subreddits or less (1.0%)\n",
      "There are 1309 news sources appearing in only 930 subreddits or less (1.0%)\n",
      "There are 1309 news sources appearing in only 931 subreddits or less (1.0%)\n",
      "There are 1309 news sources appearing in only 932 subreddits or less (1.0%)\n",
      "There are 1309 news sources appearing in only 933 subreddits or less (1.0%)\n",
      "There are 1309 news sources appearing in only 934 subreddits or less (1.0%)\n",
      "There are 1309 news sources appearing in only 935 subreddits or less (1.0%)\n",
      "There are 1309 news sources appearing in only 936 subreddits or less (1.0%)\n",
      "There are 1309 news sources appearing in only 937 subreddits or less (1.0%)\n",
      "There are 1309 news sources appearing in only 938 subreddits or less (1.0%)\n",
      "There are 1309 news sources appearing in only 939 subreddits or less (1.0%)\n",
      "There are 1309 news sources appearing in only 940 subreddits or less (1.0%)\n",
      "There are 1309 news sources appearing in only 941 subreddits or less (1.0%)\n",
      "There are 1309 news sources appearing in only 942 subreddits or less (1.0%)\n",
      "There are 1309 news sources appearing in only 943 subreddits or less (1.0%)\n",
      "There are 1309 news sources appearing in only 944 subreddits or less (1.0%)\n",
      "There are 1309 news sources appearing in only 945 subreddits or less (1.0%)\n",
      "There are 1309 news sources appearing in only 946 subreddits or less (1.0%)\n",
      "There are 1309 news sources appearing in only 947 subreddits or less (1.0%)\n",
      "There are 1309 news sources appearing in only 948 subreddits or less (1.0%)\n",
      "There are 1309 news sources appearing in only 949 subreddits or less (1.0%)\n",
      "There are 1309 news sources appearing in only 950 subreddits or less (1.0%)\n",
      "There are 1309 news sources appearing in only 951 subreddits or less (1.0%)\n",
      "There are 1309 news sources appearing in only 952 subreddits or less (1.0%)\n",
      "There are 1309 news sources appearing in only 953 subreddits or less (1.0%)\n",
      "There are 1309 news sources appearing in only 954 subreddits or less (1.0%)\n",
      "There are 1309 news sources appearing in only 955 subreddits or less (1.0%)\n",
      "There are 1309 news sources appearing in only 956 subreddits or less (1.0%)\n",
      "There are 1309 news sources appearing in only 957 subreddits or less (1.0%)\n",
      "There are 1309 news sources appearing in only 958 subreddits or less (1.0%)\n",
      "There are 1309 news sources appearing in only 959 subreddits or less (1.0%)\n",
      "There are 1309 news sources appearing in only 960 subreddits or less (1.0%)\n",
      "There are 1309 news sources appearing in only 961 subreddits or less (1.0%)\n",
      "There are 1309 news sources appearing in only 962 subreddits or less (1.0%)\n",
      "There are 1309 news sources appearing in only 963 subreddits or less (1.0%)\n",
      "There are 1309 news sources appearing in only 964 subreddits or less (1.0%)\n",
      "There are 1309 news sources appearing in only 965 subreddits or less (1.0%)\n",
      "There are 1309 news sources appearing in only 966 subreddits or less (1.0%)\n",
      "There are 1309 news sources appearing in only 967 subreddits or less (1.0%)\n",
      "There are 1309 news sources appearing in only 968 subreddits or less (1.0%)\n",
      "There are 1309 news sources appearing in only 969 subreddits or less (1.0%)\n",
      "There are 1309 news sources appearing in only 970 subreddits or less (1.0%)\n",
      "There are 1309 news sources appearing in only 971 subreddits or less (1.0%)\n",
      "There are 1309 news sources appearing in only 972 subreddits or less (1.0%)\n",
      "There are 1309 news sources appearing in only 973 subreddits or less (1.0%)\n",
      "There are 1309 news sources appearing in only 974 subreddits or less (1.0%)\n",
      "There are 1309 news sources appearing in only 975 subreddits or less (1.0%)\n",
      "There are 1309 news sources appearing in only 976 subreddits or less (1.0%)\n",
      "There are 1309 news sources appearing in only 977 subreddits or less (1.0%)\n",
      "There are 1309 news sources appearing in only 978 subreddits or less (1.0%)\n",
      "There are 1309 news sources appearing in only 979 subreddits or less (1.0%)\n",
      "There are 1309 news sources appearing in only 980 subreddits or less (1.0%)\n",
      "There are 1309 news sources appearing in only 981 subreddits or less (1.0%)\n",
      "There are 1309 news sources appearing in only 982 subreddits or less (1.0%)\n",
      "There are 1309 news sources appearing in only 983 subreddits or less (1.0%)\n",
      "There are 1309 news sources appearing in only 984 subreddits or less (1.0%)\n",
      "There are 1309 news sources appearing in only 985 subreddits or less (1.0%)\n",
      "There are 1309 news sources appearing in only 986 subreddits or less (1.0%)\n",
      "There are 1309 news sources appearing in only 987 subreddits or less (1.0%)\n",
      "There are 1309 news sources appearing in only 988 subreddits or less (1.0%)\n",
      "There are 1309 news sources appearing in only 989 subreddits or less (1.0%)\n",
      "There are 1309 news sources appearing in only 990 subreddits or less (1.0%)\n",
      "There are 1309 news sources appearing in only 991 subreddits or less (1.0%)\n",
      "There are 1309 news sources appearing in only 992 subreddits or less (1.0%)\n",
      "There are 1309 news sources appearing in only 993 subreddits or less (1.0%)\n",
      "There are 1309 news sources appearing in only 994 subreddits or less (1.0%)\n",
      "There are 1309 news sources appearing in only 995 subreddits or less (1.0%)\n",
      "There are 1309 news sources appearing in only 996 subreddits or less (1.0%)\n",
      "There are 1309 news sources appearing in only 997 subreddits or less (1.0%)\n",
      "There are 1309 news sources appearing in only 998 subreddits or less (1.0%)\n",
      "There are 1309 news sources appearing in only 999 subreddits or less (1.0%)\n"
     ]
    }
   ],
   "source": [
    "pct_in_k_subreddits = [(i, pct_ns_in_k_subreddits(i)) for i in range(1000)]"
   ]
  },
  {
   "cell_type": "code",
   "execution_count": 43,
   "metadata": {},
   "outputs": [
    {
     "data": {
      "text/plain": [
       "[(0.0, 80.0)]"
      ]
     },
     "execution_count": 43,
     "metadata": {},
     "output_type": "execute_result"
    },
    {
     "data": {
      "image/png": "[encoded data removed]",
      "text/plain": [
       "<Figure size 1080x432 with 2 Axes>"
      ]
     },
     "metadata": {
      "needs_background": "light"
     },
     "output_type": "display_data"
    }
   ],
   "source": [
    "fig, (ax1, ax2) = plt.subplots(1, 2, figsize=(15,6))\n",
    "sns.set(font_scale = 1.2)\n",
    "\n",
    "sns.histplot(scf, log_scale=True, ax=ax1)\n",
    "ax1.set_xlabel(\"number of subreddit\")\n",
    "ax1.set_ylabel(\"news source count\")\n",
    "ax1.set_title(\"number of news sources appearing in x subreddits\")\n",
    "\n",
    "sns.lineplot(x=[k[0] for k in pct_in_k_subreddits],\n",
    "             y=[k[1] for k in pct_in_k_subreddits],\n",
    "            ax=ax2)\n",
    "ax2.set_ylabel(\"percentage\")\n",
    "ax2.set_xlabel(\"# subreddits news sources appear in\")\n",
    "ax2.set_title(\"proportion of news sources appearing in x subreddits or less\")\n",
    "ax2.set(xlim = (0, 80))"
   ]
  },
  {
   "cell_type": "code",
   "execution_count": 44,
   "metadata": {
    "scrolled": true
   },
   "outputs": [
    {
     "data": {
      "text/plain": [
       "3.8456837280366694"
      ]
     },
     "execution_count": 44,
     "metadata": {},
     "output_type": "execute_result"
    }
   ],
   "source": [
    "# mean\n",
    "statistics.mean(scf)"
   ]
  },
  {
   "cell_type": "code",
   "execution_count": 45,
   "metadata": {},
   "outputs": [
    {
     "data": {
      "text/plain": [
       "1"
      ]
     },
     "execution_count": 45,
     "metadata": {},
     "output_type": "execute_result"
    }
   ],
   "source": [
    "# median\n",
    "statistics.median(scf)"
   ]
  },
  {
   "cell_type": "markdown",
   "metadata": {},
   "source": [
    "## For each news source let's count how many times they are shared regardless of in which subreddits"
   ]
  },
  {
   "cell_type": "code",
   "execution_count": 46,
   "metadata": {},
   "outputs": [
    {
     "data": {
      "text/plain": [
       "0"
      ]
     },
     "execution_count": 46,
     "metadata": {},
     "output_type": "execute_result"
    }
   ],
   "source": [
    "sum(dict().values())"
   ]
  },
  {
   "cell_type": "code",
   "execution_count": 47,
   "metadata": {},
   "outputs": [],
   "source": [
    "def get_mention_count(ns):\n",
    "    \"\"\"get total mention count of ns in all six months\"\"\"\n",
    "    count = 0\n",
    "    files = [ns_subreddit_01, ns_subreddit_02, ns_subreddit_03, ns_subreddit_04, ns_subreddit_05, ns_subreddit_06]\n",
    "    for f in files:\n",
    "        ns_dict = f.get(ns, dict())\n",
    "        if len(ns_dict) > 0:\n",
    "            mentions = sum([m[0] for m in ns_dict.values()])\n",
    "            count += mentions\n",
    "    return count"
   ]
  },
  {
   "cell_type": "code",
   "execution_count": 48,
   "metadata": {},
   "outputs": [],
   "source": [
    "mention_count = dict()\n",
    "for ns in ns_union:\n",
    "    mention_count[ns] = get_mention_count(ns)"
   ]
  },
  {
   "cell_type": "code",
   "execution_count": 49,
   "metadata": {
    "scrolled": true
   },
   "outputs": [
    {
     "data": {
      "text/plain": [
       "30.019862490450727"
      ]
     },
     "execution_count": 49,
     "metadata": {},
     "output_type": "execute_result"
    }
   ],
   "source": [
    "statistics.mean(mention_count.values())"
   ]
  },
  {
   "cell_type": "code",
   "execution_count": 50,
   "metadata": {},
   "outputs": [
    {
     "data": {
      "text/plain": [
       "213.44600095535708"
      ]
     },
     "execution_count": 50,
     "metadata": {},
     "output_type": "execute_result"
    }
   ],
   "source": [
    "statistics.stdev(mention_count.values())"
   ]
  },
  {
   "cell_type": "code",
   "execution_count": 51,
   "metadata": {},
   "outputs": [
    {
     "data": {
      "text/plain": [
       "2"
      ]
     },
     "execution_count": 51,
     "metadata": {},
     "output_type": "execute_result"
    }
   ],
   "source": [
    "statistics.median(mention_count.values())"
   ]
  },
  {
   "cell_type": "code",
   "execution_count": 52,
   "metadata": {
    "scrolled": true
   },
   "outputs": [
    {
     "data": {
      "text/plain": [
       "1309"
      ]
     },
     "execution_count": 52,
     "metadata": {},
     "output_type": "execute_result"
    }
   ],
   "source": [
    "len(mention_count)"
   ]
  },
  {
   "cell_type": "code",
   "execution_count": 53,
   "metadata": {},
   "outputs": [
    {
     "data": {
      "text/plain": [
       "[('nba.com', 5540),\n",
       " ('espn.com', 3913),\n",
       " ('nbcsports.com', 2011),\n",
       " ('usatoday.com', 1416),\n",
       " ('theathletic.com', 1240),\n",
       " ('si.com', 1195),\n",
       " ('bleacherreport.com', 1063),\n",
       " ('nfl.com', 927),\n",
       " ('cbssports.com', 789),\n",
       " ('theguardian.com', 509),\n",
       " ('pff.com', 503),\n",
       " ('manutd.com', 464),\n",
       " ('telegraph.co.uk', 405),\n",
       " ('skysports.com', 403),\n",
       " ('bbc.co.uk', 375),\n",
       " ('denverbroncos.com', 356),\n",
       " ('theringer.com', 340),\n",
       " ('arsenal.com', 336),\n",
       " ('goal.com', 334),\n",
       " ('football.london', 320)]"
      ]
     },
     "execution_count": 53,
     "metadata": {},
     "output_type": "execute_result"
    }
   ],
   "source": [
    "Counter(mention_count).most_common(20)"
   ]
  },
  {
   "cell_type": "code",
   "execution_count": 54,
   "metadata": {},
   "outputs": [
    {
     "data": {
      "text/plain": [
       "7"
      ]
     },
     "execution_count": 54,
     "metadata": {},
     "output_type": "execute_result"
    }
   ],
   "source": [
    "news_ge10k = [m for m in mention_count if mention_count[m] >= 1000]\n",
    "len(news_ge10k)"
   ]
  },
  {
   "cell_type": "code",
   "execution_count": 55,
   "metadata": {},
   "outputs": [
    {
     "data": {
      "text/plain": [
       "<AxesSubplot:ylabel='Count'>"
      ]
     },
     "execution_count": 55,
     "metadata": {},
     "output_type": "execute_result"
    },
    {
     "data": {
      "image/png": "[encoded data removed]",
      "text/plain": [
       "<Figure size 432x288 with 1 Axes>"
      ]
     },
     "metadata": {},
     "output_type": "display_data"
    }
   ],
   "source": [
    "sns.histplot(list(mention_count.values()), log_scale=True)"
   ]
  },
  {
   "cell_type": "code",
   "execution_count": 56,
   "metadata": {},
   "outputs": [
    {
     "data": {
      "text/plain": [
       "<AxesSubplot:ylabel='Count'>"
      ]
     },
     "execution_count": 56,
     "metadata": {},
     "output_type": "execute_result"
    },
    {
     "data": {
      "image/png": "[encoded data removed]",
      "text/plain": [
       "<Figure size 432x288 with 1 Axes>"
      ]
     },
     "metadata": {},
     "output_type": "display_data"
    }
   ],
   "source": [
    "sns.histplot(list([k for k in mention_count.values() if k <100000]), log_scale=True)"
   ]
  },
  {
   "cell_type": "code",
   "execution_count": 57,
   "metadata": {},
   "outputs": [
    {
     "data": {
      "text/plain": [
       "63.71275783040489"
      ]
     },
     "execution_count": 57,
     "metadata": {},
     "output_type": "execute_result"
    }
   ],
   "source": [
    "len([k for k in mention_count.values() if k <5])*100/len(mention_count)"
   ]
  },
  {
   "cell_type": "code",
   "execution_count": 58,
   "metadata": {},
   "outputs": [
    {
     "data": {
      "text/plain": [
       "850.85"
      ]
     },
     "execution_count": 58,
     "metadata": {},
     "output_type": "execute_result"
    }
   ],
   "source": [
    "(1-0.35)*len(mention_count)"
   ]
  },
  {
   "cell_type": "markdown",
   "metadata": {},
   "source": [
    "## For each subreddit let's count how many news sources were mentioned in it"
   ]
  },
  {
   "cell_type": "markdown",
   "metadata": {},
   "source": [
    "Counting how many news sources were mentioned in each subreddit"
   ]
  },
  {
   "cell_type": "code",
   "execution_count": 59,
   "metadata": {},
   "outputs": [],
   "source": [
    "nsc_count = dict()\n",
    "for sr in sr_union:\n",
    "    nsc_count[sr] = len(set(subreddit_ns_jan.get(sr, dict()).keys()) \n",
    "                               | set(subreddit_ns_feb.get(sr, dict()).keys()) \n",
    "                               | set(subreddit_ns_march.get(sr, dict()).keys()) \n",
    "                               | set(subreddit_ns_april.get(sr, dict()).keys())\n",
    "                               | set(subreddit_ns_may.get(sr, dict()).keys()) \n",
    "                               | set(subreddit_ns_jun.get(sr, dict()).keys()))"
   ]
  },
  {
   "cell_type": "markdown",
   "metadata": {},
   "source": [
    "`nsc_count` stores how many news sources appear in each subreddit."
   ]
  },
  {
   "cell_type": "code",
   "execution_count": 60,
   "metadata": {},
   "outputs": [
    {
     "data": {
      "text/plain": [
       "0"
      ]
     },
     "execution_count": 60,
     "metadata": {},
     "output_type": "execute_result"
    }
   ],
   "source": [
    "len([k for k in nsc_count if nsc_count[k]<1])"
   ]
  },
  {
   "cell_type": "code",
   "execution_count": 61,
   "metadata": {},
   "outputs": [
    {
     "data": {
      "text/plain": [
       "{53: 4,\n",
       " 36: 3,\n",
       " 43: 3,\n",
       " 77: 3,\n",
       " 66: 3,\n",
       " 80: 3,\n",
       " 56: 3,\n",
       " 97: 2,\n",
       " 39: 2,\n",
       " 94: 2,\n",
       " 49: 2,\n",
       " 47: 2,\n",
       " 38: 2,\n",
       " 40: 2,\n",
       " 88: 2,\n",
       " 52: 2,\n",
       " 42: 2,\n",
       " 81: 2,\n",
       " 7: 2,\n",
       " 60: 2,\n",
       " 96: 2,\n",
       " 9: 1,\n",
       " 5: 1,\n",
       " 1: 1,\n",
       " 35: 1,\n",
       " 108: 1,\n",
       " 83: 1,\n",
       " 76: 1,\n",
       " 48: 1,\n",
       " 188: 1,\n",
       " 71: 1,\n",
       " 31: 1,\n",
       " 22: 1,\n",
       " 65: 1,\n",
       " 11: 1,\n",
       " 75: 1,\n",
       " 63: 1,\n",
       " 98: 1,\n",
       " 61: 1,\n",
       " 153: 1,\n",
       " 140: 1,\n",
       " 14: 1,\n",
       " 136: 1,\n",
       " 67: 1,\n",
       " 226: 1,\n",
       " 62: 1,\n",
       " 82: 1,\n",
       " 104: 1,\n",
       " 54: 1}"
      ]
     },
     "execution_count": 61,
     "metadata": {},
     "output_type": "execute_result"
    }
   ],
   "source": [
    "nsc_count_freq = dict(Counter(nsc_count.values()).most_common())\n",
    "nsc_count_freq"
   ]
  },
  {
   "cell_type": "markdown",
   "metadata": {},
   "source": [
    "`nsc_count_freq` keeps track of how many news sources appear in *n* subreddits for all possible *n*."
   ]
  },
  {
   "cell_type": "code",
   "execution_count": 62,
   "metadata": {},
   "outputs": [
    {
     "data": {
      "text/plain": [
       "226"
      ]
     },
     "execution_count": 62,
     "metadata": {},
     "output_type": "execute_result"
    }
   ],
   "source": [
    "max(nsc_count_freq.keys())"
   ]
  },
  {
   "cell_type": "code",
   "execution_count": 63,
   "metadata": {},
   "outputs": [
    {
     "name": "stdout",
     "output_type": "stream",
     "text": [
      "Gunners has 226 news sources mentioned in it.\n",
      "reddevils has 188 news sources mentioned in it.\n",
      "coys has 153 news sources mentioned in it.\n",
      "LiverpoolFC has 140 news sources mentioned in it.\n",
      "chelseafc has 136 news sources mentioned in it.\n",
      "lakers has 108 news sources mentioned in it.\n",
      "buccaneers has 104 news sources mentioned in it.\n",
      "CHIBears has 98 news sources mentioned in it.\n",
      "bostonceltics has 97 news sources mentioned in it.\n",
      "Patriots has 97 news sources mentioned in it.\n",
      "GreenBayPackers has 96 news sources mentioned in it.\n",
      "detroitlions has 96 news sources mentioned in it.\n",
      "buffalobills has 94 news sources mentioned in it.\n",
      "torontoraptors has 94 news sources mentioned in it.\n",
      "MCFC has 88 news sources mentioned in it.\n",
      "DenverBroncos has 88 news sources mentioned in it.\n",
      "nyjets has 83 news sources mentioned in it.\n",
      "Seahawks has 82 news sources mentioned in it.\n",
      "eagles has 81 news sources mentioned in it.\n",
      "Browns has 81 news sources mentioned in it.\n",
      "49ers has 80 news sources mentioned in it.\n",
      "NYKnicks has 80 news sources mentioned in it.\n",
      "warriors has 80 news sources mentioned in it.\n"
     ]
    }
   ],
   "source": [
    "nsc_ranked = Counter(nsc_count).most_common()\n",
    "\n",
    "for t in nsc_ranked:\n",
    "    sr, co = t\n",
    "    if co >= 80:\n",
    "        print(f\"{sr} has {co} news sources mentioned in it.\")"
   ]
  },
  {
   "cell_type": "code",
   "execution_count": 64,
   "metadata": {},
   "outputs": [
    {
     "data": {
      "text/plain": [
       "True"
      ]
     },
     "execution_count": 64,
     "metadata": {},
     "output_type": "execute_result"
    }
   ],
   "source": [
    "sum(nsc_count_freq.values()) == len(sr_union)"
   ]
  },
  {
   "cell_type": "code",
   "execution_count": 65,
   "metadata": {},
   "outputs": [],
   "source": [
    "import itertools"
   ]
  },
  {
   "cell_type": "code",
   "execution_count": 66,
   "metadata": {},
   "outputs": [],
   "source": [
    "nsc = list(itertools.chain.from_iterable(itertools.repeat(k,v) for k,v in nsc_count_freq.items()))"
   ]
  },
  {
   "cell_type": "code",
   "execution_count": 67,
   "metadata": {
    "scrolled": true
   },
   "outputs": [
    {
     "data": {
      "text/plain": [
       "Text(0.5, 1.0, 'number of subreddits with x news sources')"
      ]
     },
     "execution_count": 67,
     "metadata": {},
     "output_type": "execute_result"
    },
    {
     "data": {
      "image/png": "[encoded data removed]",
      "text/plain": [
       "<Figure size 432x288 with 1 Axes>"
      ]
     },
     "metadata": {},
     "output_type": "display_data"
    }
   ],
   "source": [
    "sns.histplot(nsc, log_scale=True)\n",
    "plt.xlabel(\"number of news source\")\n",
    "plt.ylabel(\"subreddit count\")\n",
    "plt.title(\"number of subreddits with x news sources\")"
   ]
  },
  {
   "cell_type": "code",
   "execution_count": 68,
   "metadata": {},
   "outputs": [
    {
     "data": {
      "text/plain": [
       "71"
      ]
     },
     "execution_count": 68,
     "metadata": {},
     "output_type": "execute_result"
    }
   ],
   "source": [
    "len([n for n in nsc if n>=20])"
   ]
  },
  {
   "cell_type": "markdown",
   "metadata": {},
   "source": [
    "How many subreddits only mentioned 5 news sources or less?"
   ]
  },
  {
   "cell_type": "code",
   "execution_count": 69,
   "metadata": {},
   "outputs": [],
   "source": [
    "def pct_subreddits_mentioning_k_newssources(ks):\n",
    "    sr_mention_i_nsc = [k for k in nsc_count if nsc_count[k] <= ks]\n",
    "    count = len(sr_mention_i_nsc)\n",
    "    print(\"There are {} subreddits mentioning in only {} news sources or less ({}%)\".format(count, ks, count/len(sr_union)))\n",
    "    return count/len(sr_union)"
   ]
  },
  {
   "cell_type": "code",
   "execution_count": 70,
   "metadata": {},
   "outputs": [
    {
     "name": "stdout",
     "output_type": "stream",
     "text": [
      "There are 7 subreddits mentioning in only 20 news sources or less (0.08974358974358974%)\n"
     ]
    },
    {
     "data": {
      "text/plain": [
       "0.08974358974358974"
      ]
     },
     "execution_count": 70,
     "metadata": {},
     "output_type": "execute_result"
    }
   ],
   "source": [
    "pct_subreddits_mentioning_k_newssources(20)"
   ]
  },
  {
   "cell_type": "code",
   "execution_count": 71,
   "metadata": {
    "scrolled": true
   },
   "outputs": [
    {
     "data": {
      "text/plain": [
       "64.53846153846153"
      ]
     },
     "execution_count": 71,
     "metadata": {},
     "output_type": "execute_result"
    }
   ],
   "source": [
    "# mean\n",
    "statistics.mean(nsc)"
   ]
  },
  {
   "cell_type": "code",
   "execution_count": 72,
   "metadata": {},
   "outputs": [
    {
     "data": {
      "text/plain": [
       "58.0"
      ]
     },
     "execution_count": 72,
     "metadata": {},
     "output_type": "execute_result"
    }
   ],
   "source": [
    "# median\n",
    "statistics.median(nsc)"
   ]
  },
  {
   "cell_type": "markdown",
   "metadata": {},
   "source": [
    "## For each subreddit let's count total submissions that are news source related"
   ]
  },
  {
   "cell_type": "code",
   "execution_count": 73,
   "metadata": {},
   "outputs": [],
   "source": [
    "def get_submission_count(sb):\n",
    "    \"\"\"get total mention count of ns in all six months\"\"\"\n",
    "    count = 0\n",
    "    files = [subreddit_ns_jan, subreddit_ns_feb, subreddit_ns_march, subreddit_ns_april, subreddit_ns_may, subreddit_ns_jun]\n",
    "    for f in files:\n",
    "        sb_dict = f.get(sb, dict())\n",
    "        if len(sb_dict) > 0:\n",
    "            mentions = sum([m[0] for m in sb_dict.values()])\n",
    "            count += mentions\n",
    "    return count"
   ]
  },
  {
   "cell_type": "code",
   "execution_count": 74,
   "metadata": {},
   "outputs": [],
   "source": [
    "mention_count = dict()\n",
    "for sb in sr_union:\n",
    "    mention_count[sb] = get_submission_count(sb)"
   ]
  },
  {
   "cell_type": "code",
   "execution_count": 75,
   "metadata": {
    "scrolled": true
   },
   "outputs": [
    {
     "data": {
      "text/plain": [
       "503.79487179487177"
      ]
     },
     "execution_count": 75,
     "metadata": {},
     "output_type": "execute_result"
    }
   ],
   "source": [
    "statistics.mean(mention_count.values())"
   ]
  },
  {
   "cell_type": "code",
   "execution_count": 76,
   "metadata": {},
   "outputs": [
    {
     "data": {
      "text/plain": [
       "405.09381177326856"
      ]
     },
     "execution_count": 76,
     "metadata": {},
     "output_type": "execute_result"
    }
   ],
   "source": [
    "statistics.stdev(mention_count.values())"
   ]
  },
  {
   "cell_type": "code",
   "execution_count": 77,
   "metadata": {},
   "outputs": [
    {
     "data": {
      "text/plain": [
       "400.5"
      ]
     },
     "execution_count": 77,
     "metadata": {},
     "output_type": "execute_result"
    }
   ],
   "source": [
    "statistics.median(mention_count.values())"
   ]
  },
  {
   "cell_type": "code",
   "execution_count": 78,
   "metadata": {
    "scrolled": true
   },
   "outputs": [
    {
     "data": {
      "text/plain": [
       "78"
      ]
     },
     "execution_count": 78,
     "metadata": {},
     "output_type": "execute_result"
    }
   ],
   "source": [
    "len(mention_count)"
   ]
  },
  {
   "cell_type": "code",
   "execution_count": 79,
   "metadata": {},
   "outputs": [
    {
     "data": {
      "text/plain": [
       "[('reddevils', 1991),\n",
       " ('Gunners', 1974),\n",
       " ('MkeBucks', 1331),\n",
       " ('NYKnicks', 1290),\n",
       " ('warriors', 1279),\n",
       " ('DenverBroncos', 1271),\n",
       " ('chelseafc', 1127),\n",
       " ('torontoraptors', 1074),\n",
       " ('denvernuggets', 1033),\n",
       " ('coys', 1007),\n",
       " ('Patriots', 840),\n",
       " ('49ers', 827),\n",
       " ('LiverpoolFC', 810),\n",
       " ('detroitlions', 766),\n",
       " ('CHIBears', 724),\n",
       " ('eagles', 704),\n",
       " ('GreenBayPackers', 698),\n",
       " ('Seahawks', 692),\n",
       " ('bostonceltics', 679),\n",
       " ('suns', 663)]"
      ]
     },
     "execution_count": 79,
     "metadata": {},
     "output_type": "execute_result"
    }
   ],
   "source": [
    "Counter(mention_count).most_common(20)"
   ]
  },
  {
   "cell_type": "code",
   "execution_count": 80,
   "metadata": {},
   "outputs": [
    {
     "data": {
      "text/plain": [
       "{'steelers': [1, 1.0, 1]}"
      ]
     },
     "execution_count": 80,
     "metadata": {},
     "output_type": "execute_result"
    }
   ],
   "source": [
    "ns_subreddit_01['cbc.ca']"
   ]
  },
  {
   "cell_type": "code",
   "execution_count": 81,
   "metadata": {},
   "outputs": [
    {
     "data": {
      "text/plain": [
       "<AxesSubplot:ylabel='Count'>"
      ]
     },
     "execution_count": 81,
     "metadata": {},
     "output_type": "execute_result"
    },
    {
     "data": {
      "image/png": "[encoded data removed]",
      "text/plain": [
       "<Figure size 432x288 with 1 Axes>"
      ]
     },
     "metadata": {},
     "output_type": "display_data"
    }
   ],
   "source": [
    "sns.histplot(list(mention_count.values()), log_scale=True)"
   ]
  },
  {
   "cell_type": "code",
   "execution_count": 82,
   "metadata": {},
   "outputs": [
    {
     "data": {
      "text/plain": [
       "1.2820512820512822"
      ]
     },
     "execution_count": 82,
     "metadata": {},
     "output_type": "execute_result"
    }
   ],
   "source": [
    "len([k for k in mention_count.values() if k <5])*100/len(mention_count)"
   ]
  },
  {
   "cell_type": "code",
   "execution_count": 83,
   "metadata": {},
   "outputs": [
    {
     "data": {
      "text/plain": [
       "50.7"
      ]
     },
     "execution_count": 83,
     "metadata": {},
     "output_type": "execute_result"
    }
   ],
   "source": [
    "(1-0.35)*len(mention_count)"
   ]
  },
  {
   "cell_type": "markdown",
   "metadata": {},
   "source": [
    "## upvote based weight vs comment based weight \n",
    "\n",
    "Do they have correlation?"
   ]
  },
  {
   "cell_type": "markdown",
   "metadata": {},
   "source": [
    "Let's look at January's data"
   ]
  },
  {
   "cell_type": "code",
   "execution_count": 84,
   "metadata": {},
   "outputs": [],
   "source": [
    "upvote_based = [ns_subreddit_01[ns][sr][1] for ns in ns_subreddit_01 for sr in ns_subreddit_01[ns]]\n",
    "comment_based = [ns_subreddit_01[ns][sr][2] for ns in ns_subreddit_01 for sr in ns_subreddit_01[ns]]\n",
    "unweighted = [ns_subreddit_01[ns][sr][0] for ns in ns_subreddit_01 for sr in ns_subreddit_01[ns]]"
   ]
  },
  {
   "cell_type": "code",
   "execution_count": 85,
   "metadata": {},
   "outputs": [
    {
     "data": {
      "text/plain": [
       "Text(0, 0.5, 'upvote_based')"
      ]
     },
     "execution_count": 85,
     "metadata": {},
     "output_type": "execute_result"
    },
    {
     "data": {
      "image/png": "[encoded data removed]",
      "text/plain": [
       "<Figure size 432x288 with 1 Axes>"
      ]
     },
     "metadata": {},
     "output_type": "display_data"
    }
   ],
   "source": [
    "sns.scatterplot(x=comment_based, y=upvote_based, alpha=0.5)\n",
    "plt.xlabel(\"comment_based\")\n",
    "plt.ylabel(\"upvote_based\")\n",
    "# plt.xlim([-100000,4000000])\n",
    "# plt.ylim([-5000,150000])"
   ]
  },
  {
   "cell_type": "code",
   "execution_count": 86,
   "metadata": {},
   "outputs": [
    {
     "data": {
      "text/plain": [
       "Text(0, 0.5, 'upvote_based')"
      ]
     },
     "execution_count": 86,
     "metadata": {},
     "output_type": "execute_result"
    },
    {
     "data": {
      "image/png": "[encoded data removed]",
      "text/plain": [
       "<Figure size 432x288 with 1 Axes>"
      ]
     },
     "metadata": {},
     "output_type": "display_data"
    }
   ],
   "source": [
    "a = sns.scatterplot(x=np.log(np.array([c+1 for c in comment_based])), y=np.log(np.array([u+1 for u in upvote_based])), alpha=0.2)\n",
    "plt.xlabel(\"comment_based\")\n",
    "plt.ylabel(\"upvote_based\")"
   ]
  },
  {
   "cell_type": "code",
   "execution_count": 87,
   "metadata": {},
   "outputs": [],
   "source": [
    "from scipy.stats import pearsonr"
   ]
  },
  {
   "cell_type": "code",
   "execution_count": 88,
   "metadata": {},
   "outputs": [
    {
     "data": {
      "text/plain": [
       "0.7232715080561875"
      ]
     },
     "execution_count": 88,
     "metadata": {},
     "output_type": "execute_result"
    }
   ],
   "source": [
    "corr, _ = pearsonr(np.log(np.array([c+1 for c in comment_based])), np.log(np.array([u+1 for u in upvote_based])))\n",
    "corr"
   ]
  },
  {
   "cell_type": "code",
   "execution_count": 89,
   "metadata": {},
   "outputs": [
    {
     "data": {
      "text/plain": [
       "0.7516748601944009"
      ]
     },
     "execution_count": 89,
     "metadata": {},
     "output_type": "execute_result"
    }
   ],
   "source": [
    "corr_raw, _ = pearsonr(comment_based, upvote_based)\n",
    "corr_raw"
   ]
  },
  {
   "cell_type": "code",
   "execution_count": 90,
   "metadata": {},
   "outputs": [
    {
     "data": {
      "text/plain": [
       "85"
      ]
     },
     "execution_count": 90,
     "metadata": {},
     "output_type": "execute_result"
    }
   ],
   "source": [
    "non_outlier = [n for n in ns_union if subreddit_count[n]>10]\n",
    "len(non_outlier)"
   ]
  },
  {
   "cell_type": "code",
   "execution_count": 91,
   "metadata": {},
   "outputs": [],
   "source": [
    "# with open(\"sport_news_non_outlier.json\", \"w\", encoding=\"utf-8\") as s:\n",
    "#     json.dump(non_outlier, s)"
   ]
  },
  {
   "cell_type": "markdown",
   "metadata": {},
   "source": [
    "## Cluster Try Out"
   ]
  },
  {
   "cell_type": "markdown",
   "metadata": {},
   "source": [
    "First, I make a list of subreddits with fixed order, where I only include subreddits where our non_outlier news sources are mentioned in."
   ]
  },
  {
   "cell_type": "code",
   "execution_count": 92,
   "metadata": {},
   "outputs": [
    {
     "data": {
      "text/plain": [
       "85"
      ]
     },
     "execution_count": 92,
     "metadata": {},
     "output_type": "execute_result"
    }
   ],
   "source": [
    "len(non_outlier)"
   ]
  },
  {
   "cell_type": "code",
   "execution_count": 93,
   "metadata": {
    "scrolled": true
   },
   "outputs": [
    {
     "data": {
      "text/plain": [
       "67"
      ]
     },
     "execution_count": 93,
     "metadata": {},
     "output_type": "execute_result"
    }
   ],
   "source": [
    "# subreddits = subs\n",
    "subreddits = set()\n",
    "nsr_files = [ns_subreddit_01, ns_subreddit_02, ns_subreddit_03, ns_subreddit_04, ns_subreddit_05, ns_subreddit_06]\n",
    "# first, I filter for only the subreddits in which our news sources are mentioned\n",
    "c = 0\n",
    "for n in non_outlier:\n",
    "    subreddits = (subreddits | (set(ns_subreddit_01.get(n, dict()).keys()) \n",
    "                               & set(ns_subreddit_02.get(n, dict()).keys()) \n",
    "                               & set(ns_subreddit_03.get(n, dict()).keys()) \n",
    "                               & set(ns_subreddit_04.get(n, dict()).keys())\n",
    "                               & set(ns_subreddit_05.get(n, dict()).keys()) \n",
    "                               & set(ns_subreddit_06.get(n, dict()).keys())))\n",
    "    c += 1\n",
    "    if c%100==0: print(f\"done {c}\")\n",
    "subreddits = list(subreddits)\n",
    "len(subreddits)"
   ]
  },
  {
   "cell_type": "markdown",
   "metadata": {},
   "source": [
    "There are 9195 subreddits."
   ]
  },
  {
   "cell_type": "code",
   "execution_count": 94,
   "metadata": {},
   "outputs": [
    {
     "data": {
      "text/plain": [
       "['timberwolves',\n",
       " 'panthers',\n",
       " 'pacers',\n",
       " 'Everton',\n",
       " 'CharlotteHornets',\n",
       " 'detroitlions',\n",
       " 'DetroitPistons',\n",
       " 'MkeBucks',\n",
       " 'UtahJazz',\n",
       " 'LosAngelesRams']"
      ]
     },
     "execution_count": 94,
     "metadata": {},
     "output_type": "execute_result"
    }
   ],
   "source": [
    "subreddits[-10:]"
   ]
  },
  {
   "cell_type": "markdown",
   "metadata": {},
   "source": [
    "If I should order them later, I can do so."
   ]
  },
  {
   "cell_type": "markdown",
   "metadata": {},
   "source": [
    "## Incorporating subscribers information"
   ]
  },
  {
   "cell_type": "code",
   "execution_count": 95,
   "metadata": {},
   "outputs": [],
   "source": [
    "pd1 = os.path.split(os.getcwd())[0]\n",
    "data_fp = os.path.join(pd1,\"data/gm-newssources-subreddits\")\n",
    "dfp = os.path.join(pd1,\"data\")"
   ]
  },
  {
   "cell_type": "code",
   "execution_count": 96,
   "metadata": {},
   "outputs": [],
   "source": [
    "sfp = os.path.join(pd1,\"data/subreddits\")"
   ]
  },
  {
   "cell_type": "code",
   "execution_count": 97,
   "metadata": {},
   "outputs": [],
   "source": [
    "# Let's only use the subreddits that have lots of subscribers\n",
    "with open (os.path.join(sfp,\"subreddit_subscribers.json\"), \"r\", encoding = \"utf-8\") as infile:\n",
    "    subreddit_subscribers = json.load(infile)"
   ]
  },
  {
   "cell_type": "code",
   "execution_count": 98,
   "metadata": {},
   "outputs": [
    {
     "data": {
      "text/plain": [
       "6201779"
      ]
     },
     "execution_count": 98,
     "metadata": {},
     "output_type": "execute_result"
    }
   ],
   "source": [
    "subreddit_subscribers['politics']"
   ]
  },
  {
   "cell_type": "code",
   "execution_count": 99,
   "metadata": {},
   "outputs": [
    {
     "data": {
      "text/plain": [
       "49055"
      ]
     },
     "execution_count": 99,
     "metadata": {},
     "output_type": "execute_result"
    }
   ],
   "source": [
    "len(subreddit_subscribers)"
   ]
  },
  {
   "cell_type": "code",
   "execution_count": 100,
   "metadata": {},
   "outputs": [
    {
     "data": {
      "text/plain": [
       "67"
      ]
     },
     "execution_count": 100,
     "metadata": {},
     "output_type": "execute_result"
    }
   ],
   "source": [
    "len(subreddits)"
   ]
  },
  {
   "cell_type": "code",
   "execution_count": 101,
   "metadata": {
    "scrolled": true
   },
   "outputs": [
    {
     "data": {
      "text/plain": [
       "67"
      ]
     },
     "execution_count": 101,
     "metadata": {},
     "output_type": "execute_result"
    }
   ],
   "source": [
    "subreddits_w_subc = [k for k in subreddits if k in subreddit_subscribers]\n",
    "len(subreddits_w_subc)"
   ]
  },
  {
   "cell_type": "markdown",
   "metadata": {},
   "source": [
    "It seems that there are `None` values, so let's filter those subreddits out."
   ]
  },
  {
   "cell_type": "code",
   "execution_count": 102,
   "metadata": {},
   "outputs": [
    {
     "name": "stdout",
     "output_type": "stream",
     "text": [
      "[]\n"
     ]
    }
   ],
   "source": [
    "print([s for s in subreddits_w_subc if subreddit_subscribers[s] is None])"
   ]
  },
  {
   "cell_type": "code",
   "execution_count": 103,
   "metadata": {},
   "outputs": [],
   "source": [
    "subreddits_w_subc = [s for s in subreddits_w_subc if subreddit_subscribers[s] is not None]"
   ]
  },
  {
   "cell_type": "code",
   "execution_count": 104,
   "metadata": {},
   "outputs": [
    {
     "data": {
      "text/plain": [
       "67"
      ]
     },
     "execution_count": 104,
     "metadata": {},
     "output_type": "execute_result"
    }
   ],
   "source": [
    "len(subreddits_w_subc)"
   ]
  },
  {
   "cell_type": "markdown",
   "metadata": {},
   "source": [
    "Now, I will sort the 8,294 subreddits based on the # of their subscribers in a descending order."
   ]
  },
  {
   "cell_type": "code",
   "execution_count": 105,
   "metadata": {},
   "outputs": [],
   "source": [
    "srs_all = sorted(subreddits_w_subc, key= lambda x: subreddit_subscribers[x], reverse= True)"
   ]
  },
  {
   "cell_type": "code",
   "execution_count": 106,
   "metadata": {
    "scrolled": false
   },
   "outputs": [
    {
     "data": {
      "text/plain": [
       "Text(0.5, 1.0, 'Subreddits Subscribers')"
      ]
     },
     "execution_count": 106,
     "metadata": {},
     "output_type": "execute_result"
    },
    {
     "data": {
      "image/png": "[encoded data removed]",
      "text/plain": [
       "<Figure size 432x288 with 1 Axes>"
      ]
     },
     "metadata": {},
     "output_type": "display_data"
    }
   ],
   "source": [
    "# plt.hist([math.log(subreddit_subscribers[s],10) for s in srs_all if subreddit_subscribers[s] > 0])\n",
    "sns.histplot([subreddit_subscribers[s] for s in srs_all if subreddit_subscribers[s]>0], log_scale=True)\n",
    "# plt.hist([subreddit_subscribers[s] for s in srs_all if subreddit_subscribers[s] > 0])\n",
    "# plt.yscale(\"log\")\n",
    "# plt.xscale(\"log\")\n",
    "plt.ylabel(\"number of subreddits\")\n",
    "plt.xlabel(\"number of subscribers (10^)\")\n",
    "plt.title(\"Subreddits Subscribers\")\n",
    "# log scale for both x and y"
   ]
  },
  {
   "cell_type": "markdown",
   "metadata": {},
   "source": [
    "Which subreddits are the top three?"
   ]
  },
  {
   "cell_type": "code",
   "execution_count": 107,
   "metadata": {},
   "outputs": [
    {
     "name": "stdout",
     "output_type": "stream",
     "text": [
      "[('Patriots', 535250), ('LosAngelesRams', 387495), ('warriors', 265568), ('LiverpoolFC', 250977), ('reddevils', 240096), ('lakers', 239106), ('torontoraptors', 229126), ('bostonceltics', 207371), ('eagles', 199979), ('chelseafc', 176842), ('Gunners', 162044), ('GreenBayPackers', 157249), ('sixers', 149868), ('cowboys', 133201), ('rockets', 128870), ('chicagobulls', 126536), ('steelers', 115849), ('49ers', 110980), ('NYKnicks', 110101), ('minnesotavikings', 107310), ('Seahawks', 104920), ('MkeBucks', 102969), ('GoNets', 102496), ('Mavericks', 101968), ('CHIBears', 99668), ('Thunder', 96946), ('AtlantaHawks', 96345), ('falcons', 95529), ('KansasCityChiefs', 93204), ('ravens', 90432), ('NBASpurs', 90311), ('timberwolves', 85685), ('Browns', 84275), ('denvernuggets', 82369), ('washingtonwizards', 80246), ('suns', 79819), ('UtahJazz', 79381), ('DenverBroncos', 78960), ('LAClippers', 78619), ('kings', 78406), ('detroitlions', 78160), ('NYGiants', 75984), ('pacers', 71666), ('DetroitPistons', 71330), ('NOLAPelicans', 71292), ('coys', 68733), ('memphisgrizzlies', 67907), ('Saints', 67511), ('MCFC', 67281), ('miamidolphins', 65440), ('CharlotteHornets', 65199), ('buffalobills', 63978), ('bengals', 63650), ('nyjets', 63602), ('panthers', 62618), ('buccaneers', 60592), ('clevelandcavs', 58327), ('Texans', 56252), ('Colts', 53095), ('AZCardinals', 49764), ('heat', 48263), ('Tennesseetitans', 47197), ('Chargers', 46509), ('Jaguars', 46249), ('Everton', 21052)]\n"
     ]
    }
   ],
   "source": [
    "print([(s,subreddit_subscribers[s]) for s in srs_all if subreddit_subscribers[s]>10000])"
   ]
  },
  {
   "cell_type": "code",
   "execution_count": 108,
   "metadata": {},
   "outputs": [
    {
     "data": {
      "text/plain": [
       "25"
      ]
     },
     "execution_count": 108,
     "metadata": {},
     "output_type": "execute_result"
    }
   ],
   "source": [
    "list(subreddit_subscribers.values()).count(None)"
   ]
  },
  {
   "cell_type": "code",
   "execution_count": 109,
   "metadata": {},
   "outputs": [
    {
     "data": {
      "text/plain": [
       "1420.0"
      ]
     },
     "execution_count": 109,
     "metadata": {},
     "output_type": "execute_result"
    }
   ],
   "source": [
    "statistics.median([k for k in list(subreddit_subscribers.values()) if k is not None])"
   ]
  },
  {
   "cell_type": "code",
   "execution_count": 110,
   "metadata": {},
   "outputs": [
    {
     "data": {
      "text/plain": [
       "50070.832184376915"
      ]
     },
     "execution_count": 110,
     "metadata": {},
     "output_type": "execute_result"
    }
   ],
   "source": [
    "statistics.mean([k for k in list(subreddit_subscribers.values()) if k is not None])"
   ]
  },
  {
   "cell_type": "markdown",
   "metadata": {},
   "source": [
    "## Building `ns_repr`\n",
    "\n",
    "Which will be in the form of feature-based matrix, where each row represents a news source, and columns representing subreddits. \n",
    "\n",
    "Idea 1: Each subreddit will be represented by 18 columns: unweighted count, upvote based weighted count, and comment based weighted count for each of the six months that we are interested in. THIS does not work.\n",
    "\n",
    "Idea 2: Each subreddit will be represented by 3 columns: average unweighted count, average upvote based weighted count, and average comment based weighted count."
   ]
  },
  {
   "cell_type": "code",
   "execution_count": 111,
   "metadata": {},
   "outputs": [],
   "source": [
    "srs = srs_all"
   ]
  },
  {
   "cell_type": "code",
   "execution_count": 112,
   "metadata": {},
   "outputs": [
    {
     "data": {
      "text/plain": [
       "{'a': 1, 'b': 1, 'c': 2}"
      ]
     },
     "execution_count": 112,
     "metadata": {},
     "output_type": "execute_result"
    }
   ],
   "source": [
    "a = {\"a\": 1, \"b\": 2}\n",
    "b = {\"b\": 1, \"c\": 2}\n",
    "res = {**a, **b}\n",
    "res"
   ]
  },
  {
   "cell_type": "markdown",
   "metadata": {},
   "source": [
    "Idea 1: For each news source, I create a list of length `(18 * # subreddits)`.\n",
    "\n",
    "Idea 1: For each news source, I create a list of length `(3 * # subreddits)`"
   ]
  },
  {
   "cell_type": "markdown",
   "metadata": {},
   "source": [
    "Old code\n",
    "```\n",
    "# here I will cast the inner dictionaries of ns_subreddits to be Counter so I can avoid a lot of if-else statements\n",
    "files = [ns_subreddit_01, ns_subreddit_02, ns_subreddit_03, ns_subreddit_04, ns_subreddit_05, ns_subreddit_06]\n",
    "for f in files:\n",
    "    for k in f: # k is each news source\n",
    "        for ns in f[k]:\n",
    "            # averaging based on weighted counts\n",
    "            count, upv, comm = f[k][ns]\n",
    "            avg = (upv + comm)/count\n",
    "            f[k][ns] = avg\n",
    "        f[k] = Counter(f[k])\n",
    "```"
   ]
  },
  {
   "cell_type": "code",
   "execution_count": 113,
   "metadata": {},
   "outputs": [],
   "source": [
    "files_sub = [subreddit_ns_jan, subreddit_ns_feb, subreddit_ns_march, subreddit_ns_april, subreddit_ns_may, subreddit_ns_jun]\n",
    "files_ns = [ns_subreddit_01, ns_subreddit_02, ns_subreddit_03, ns_subreddit_04, ns_subreddit_05, ns_subreddit_06]"
   ]
  },
  {
   "cell_type": "code",
   "execution_count": 114,
   "metadata": {},
   "outputs": [
    {
     "data": {
      "text/plain": [
       "85"
      ]
     },
     "execution_count": 114,
     "metadata": {},
     "output_type": "execute_result"
    }
   ],
   "source": [
    "len(non_outlier)"
   ]
  },
  {
   "cell_type": "code",
   "execution_count": 115,
   "metadata": {},
   "outputs": [
    {
     "data": {
      "text/plain": [
       "67"
      ]
     },
     "execution_count": 115,
     "metadata": {},
     "output_type": "execute_result"
    }
   ],
   "source": [
    "len(srs)"
   ]
  },
  {
   "cell_type": "markdown",
   "metadata": {},
   "source": [
    "I tried and found out that using all 23.7k subreddits results in MemoryError. So I should use less"
   ]
  },
  {
   "cell_type": "code",
   "execution_count": 116,
   "metadata": {},
   "outputs": [],
   "source": [
    "srs = srs_all"
   ]
  },
  {
   "cell_type": "markdown",
   "metadata": {
    "scrolled": true
   },
   "source": [
    "For idea 1:\n",
    "\n",
    "```\n",
    "ns_sr_rep = defaultdict(list)\n",
    "default_counter = Counter() # to avoid a lot of if else statements\n",
    "\n",
    "ncount = 0\n",
    "\n",
    "# for ns in nss:\n",
    "for ns in non_outlier:\n",
    "    # for each news sources, construct the 18*length(subreddits) features\n",
    "    for f in files_sub:\n",
    "        for idx in range(len(srs)):\n",
    "            # making sure the ordering follows `srs` based on subscribers\n",
    "            ns_sr_rep[ns] += f[ns][srs[idx]][1:] if (ns in f and srs[idx] in f[ns]) else [0, 0]\n",
    "    ncount += 1\n",
    "    if ncount%200==0: print(ncount)\n",
    "```"
   ]
  },
  {
   "cell_type": "code",
   "execution_count": 117,
   "metadata": {},
   "outputs": [],
   "source": [
    "# For idea 2\n",
    "\n",
    "ns_sr_rep = defaultdict(list)\n",
    "default_counter = Counter() # to avoid a lot of if else statements\n",
    "\n",
    "ncount = 0\n",
    "\n",
    "# for ns in nss:\n",
    "for ns in non_outlier:\n",
    "    # for each news sources, construct the length(subreddits) features\n",
    "    for idx in range(len(srs)):\n",
    "        # making sure the ordering follows `srs` based on subscribers\n",
    "        current_sr = srs[idx]\n",
    "        # avg_unweighted_counts = sum([ii[current_sr][ns][0] if current_sr in ii and ns in ii[current_sr] else 0 for ii in files_sub])/6\n",
    "        avg_votebased_counts = sum([ii[current_sr][ns][1] if (current_sr in ii and ns in ii[current_sr]) else 0 for ii in files_sub])/6\n",
    "        avg_commentbased_counts = sum([ii[current_sr][ns][2] if current_sr in ii and ns in ii[current_sr] else 0 for ii in files_sub])/6\n",
    "        ns_sr_rep[ns] += [avg_votebased_counts, avg_commentbased_counts]\n",
    "    ncount += 1\n",
    "    if ncount%200==0: print(ncount)"
   ]
  },
  {
   "cell_type": "code",
   "execution_count": 118,
   "metadata": {},
   "outputs": [
    {
     "data": {
      "text/plain": [
       "67"
      ]
     },
     "execution_count": 118,
     "metadata": {},
     "output_type": "execute_result"
    }
   ],
   "source": [
    "len(srs)"
   ]
  },
  {
   "cell_type": "code",
   "execution_count": 119,
   "metadata": {},
   "outputs": [
    {
     "data": {
      "text/plain": [
       "85"
      ]
     },
     "execution_count": 119,
     "metadata": {},
     "output_type": "execute_result"
    }
   ],
   "source": [
    "len(non_outlier)"
   ]
  },
  {
   "cell_type": "markdown",
   "metadata": {},
   "source": [
    "    code started at 22:56"
   ]
  },
  {
   "cell_type": "markdown",
   "metadata": {},
   "source": [
    "Let's see one example of representation for `nytimes.com`."
   ]
  },
  {
   "cell_type": "code",
   "execution_count": 120,
   "metadata": {},
   "outputs": [
    {
     "data": {
      "text/plain": [
       "[0.0,\n",
       " 0.0,\n",
       " 0.0,\n",
       " 0.0,\n",
       " 0.0,\n",
       " 0.0,\n",
       " 6.2200000000000015,\n",
       " 128.0,\n",
       " 14.876666666666667,\n",
       " 668.3333333333334,\n",
       " 0.0,\n",
       " 0.0,\n",
       " 0.0,\n",
       " 0.0,\n",
       " 0.0,\n",
       " 0.0,\n",
       " 0.0,\n",
       " 0.0,\n",
       " 5.345,\n",
       " 549.1666666666666,\n",
       " 7.181666666666668,\n",
       " 324.1666666666667,\n",
       " 0.0,\n",
       " 0.0,\n",
       " 0.0,\n",
       " 0.0,\n",
       " 0.0,\n",
       " 0.0,\n",
       " 0.0,\n",
       " 0.0,\n",
       " 0.0,\n",
       " 0.0,\n",
       " 0.0,\n",
       " 0.0,\n",
       " 0.16,\n",
       " 3.0,\n",
       " 0.0,\n",
       " 0.0,\n",
       " 0.0,\n",
       " 0.0,\n",
       " 0.0,\n",
       " 0.0,\n",
       " 0.0,\n",
       " 0.0,\n",
       " 0.0,\n",
       " 0.0,\n",
       " 0.0,\n",
       " 0.0,\n",
       " 0.0,\n",
       " 0.0,\n",
       " 0.0,\n",
       " 0.0,\n",
       " 0.0,\n",
       " 0.0,\n",
       " 0.0,\n",
       " 0.0,\n",
       " 0.0,\n",
       " 0.0,\n",
       " 0.0,\n",
       " 0.0,\n",
       " 0.0,\n",
       " 0.0,\n",
       " 0.0,\n",
       " 0.0,\n",
       " 0.0,\n",
       " 0.0,\n",
       " 0.0,\n",
       " 0.0,\n",
       " 0.0,\n",
       " 0.0,\n",
       " 0.0,\n",
       " 0.0,\n",
       " 0.0,\n",
       " 0.0,\n",
       " 0.0,\n",
       " 0.0,\n",
       " 0.0,\n",
       " 0.0,\n",
       " 0.0,\n",
       " 0.0,\n",
       " 0.0,\n",
       " 0.0,\n",
       " 0.0,\n",
       " 0.0,\n",
       " 0.0,\n",
       " 0.0,\n",
       " 0.0,\n",
       " 0.0,\n",
       " 0.0,\n",
       " 0.0,\n",
       " 4.161666666666667,\n",
       " 153.0,\n",
       " 0.0,\n",
       " 0.0,\n",
       " 0.0,\n",
       " 0.0,\n",
       " 3.0850000000000004,\n",
       " 46.666666666666664,\n",
       " 0.0,\n",
       " 0.0,\n",
       " 0.0,\n",
       " 0.0,\n",
       " 0.0,\n",
       " 0.0,\n",
       " 0.0,\n",
       " 0.0,\n",
       " 0.0,\n",
       " 0.0,\n",
       " 0.0,\n",
       " 0.0,\n",
       " 0.0,\n",
       " 0.0,\n",
       " 0.0,\n",
       " 0.0,\n",
       " 0.0,\n",
       " 0.0,\n",
       " 0.0,\n",
       " 0.0,\n",
       " 0.0,\n",
       " 0.0,\n",
       " 0.0,\n",
       " 0.0,\n",
       " 0.0,\n",
       " 0.0,\n",
       " 0.0,\n",
       " 0.0,\n",
       " 0.0,\n",
       " 0.0,\n",
       " 2.2783333333333333,\n",
       " 116.66666666666667,\n",
       " 5.666666666666667,\n",
       " 160.0,\n",
       " 2.626666666666667,\n",
       " 10.666666666666666]"
      ]
     },
     "execution_count": 120,
     "metadata": {},
     "output_type": "execute_result"
    }
   ],
   "source": [
    "ns_sr_rep[\"bbc.co.uk\"]"
   ]
  },
  {
   "cell_type": "markdown",
   "metadata": {},
   "source": [
    "Let's investigate the sparsity of our data"
   ]
  },
  {
   "cell_type": "code",
   "execution_count": 121,
   "metadata": {},
   "outputs": [],
   "source": [
    "from numpy import array\n",
    "from numpy import count_nonzero\n",
    "from scipy.sparse import csr_matrix"
   ]
  },
  {
   "cell_type": "code",
   "execution_count": 122,
   "metadata": {},
   "outputs": [],
   "source": [
    "# ns_repr, ns_fixed = np.array([v[1] for v in items]), list([v[0] for v in items]) # this causes memory error\n",
    "## MemoryError: Unable to allocate 15.3 GiB for an array with shape (11436, 180000) and data type float64\n",
    "items = ns_sr_rep.items()\n",
    "ns_repr = np.array([k for k in ns_sr_rep.values()])"
   ]
  },
  {
   "cell_type": "code",
   "execution_count": 123,
   "metadata": {},
   "outputs": [
    {
     "data": {
      "text/plain": [
       "array([[4.68333333e-01, 2.56666667e+01, 0.00000000e+00, ...,\n",
       "        0.00000000e+00, 0.00000000e+00, 0.00000000e+00],\n",
       "       [1.75333333e+00, 1.21666667e+02, 1.10333333e+00, ...,\n",
       "        1.15000000e+01, 9.67333333e+00, 3.88333333e+01],\n",
       "       [0.00000000e+00, 0.00000000e+00, 0.00000000e+00, ...,\n",
       "        0.00000000e+00, 0.00000000e+00, 0.00000000e+00],\n",
       "       ...,\n",
       "       [0.00000000e+00, 0.00000000e+00, 0.00000000e+00, ...,\n",
       "        0.00000000e+00, 0.00000000e+00, 0.00000000e+00],\n",
       "       [3.60000000e+00, 1.89500000e+02, 1.60000000e-01, ...,\n",
       "        0.00000000e+00, 0.00000000e+00, 0.00000000e+00],\n",
       "       [2.79666667e+00, 7.85000000e+01, 2.71333333e+00, ...,\n",
       "        0.00000000e+00, 0.00000000e+00, 0.00000000e+00]])"
      ]
     },
     "execution_count": 123,
     "metadata": {},
     "output_type": "execute_result"
    }
   ],
   "source": [
    "ns_repr[:10]"
   ]
  },
  {
   "cell_type": "code",
   "execution_count": 124,
   "metadata": {},
   "outputs": [],
   "source": [
    "sparsity = 1.0 - np.count_nonzero(ns_repr)/ns_repr.size"
   ]
  },
  {
   "cell_type": "code",
   "execution_count": 125,
   "metadata": {},
   "outputs": [
    {
     "data": {
      "text/plain": [
       "0.6286215978928885"
      ]
     },
     "execution_count": 125,
     "metadata": {},
     "output_type": "execute_result"
    }
   ],
   "source": [
    "sparsity"
   ]
  },
  {
   "cell_type": "markdown",
   "metadata": {},
   "source": [
    "Wow very high sparsity."
   ]
  },
  {
   "cell_type": "code",
   "execution_count": 126,
   "metadata": {},
   "outputs": [
    {
     "data": {
      "text/plain": [
       "85"
      ]
     },
     "execution_count": 126,
     "metadata": {},
     "output_type": "execute_result"
    }
   ],
   "source": [
    "len(non_outlier)"
   ]
  },
  {
   "cell_type": "markdown",
   "metadata": {},
   "source": [
    "How many subreddits have all 0's for all news sources?"
   ]
  },
  {
   "cell_type": "code",
   "execution_count": 127,
   "metadata": {},
   "outputs": [
    {
     "name": "stdout",
     "output_type": "stream",
     "text": [
      "0.13 0.9714705882352941 5.967525159508248 1\n",
      "0.16666666666666666 37.537254901960786 9644.130539993776 2\n",
      "0.0 0.3150588235294118 1.1393875295673825 3\n",
      "0.0 5.9980392156862745 384.8204326174914 4\n",
      "0.0 2.0736470588235294 98.33422582633051 5\n",
      "0.0 1673.5960784313725 156101061.34350294 6\n",
      "0.0 0.827 4.538353756613756 7\n",
      "0.0 72.48039215686275 48797.777388733266 8\n",
      "0.0 1.9070980392156862 25.915844388422038 9\n",
      "0.0 273.5352941176471 3026604.9048241517 10\n",
      "0.13999999999999999 0.8344313725490196 6.602561941332087 11\n",
      "0.6666666666666666 41.24901960784314 66270.78744942423 12\n",
      "0.0 1.43421568627451 31.876324377528785 13\n",
      "0.0 920.2607843137255 27419206.11868192 14\n",
      "0.12333333333333334 0.8247254901960784 8.188370161842514 15\n",
      "1.0 85.63921568627451 320857.0448723934 16\n",
      "0.0 0.7860784313725491 4.1264737239340175 17\n",
      "0.0 45.62549019607843 15002.636842514785 18\n",
      "0.0 0.8845098039215686 5.453585967164643 19\n",
      "0.0 99.9843137254902 197392.76297852473 20\n",
      "0.0 1.1114117647058823 9.178895536103331 21\n",
      "0.0 65.36470588235294 40573.11077653284 22\n",
      "0.10666666666666667 0.6664509803921568 2.837100713507625 23\n",
      "0.0 20.14705882352941 2719.39246809835 24\n",
      "0.0 0.8175882352941177 7.137188525521321 25\n",
      "0.0 33.60588235294117 25969.81735916589 26\n",
      "0.0 0.3322549019607843 0.5602864884842825 27\n",
      "0.0 13.898039215686275 1207.7546918767507 28\n",
      "0.0 0.2876666666666667 0.5621154894179895 29\n",
      "0.0 3.2705882352941176 167.15540771864303 30\n",
      "0.0 0.9978431372549019 52.667414737005906 31\n",
      "0.0 334.7725490196079 9147594.654660756 32\n",
      "0.0 0.46841176470588236 1.6303052186430125 33\n",
      "0.0 13.388235294117647 1052.5491985683163 34\n",
      "0.0 1.002921568627451 19.087563419701212 35\n",
      "0.0 31.274509803921568 23719.12480547775 36\n",
      "0.013333333333333334 1.9104117647058823 86.95362704403982 37\n",
      "0.0 1749.294117647059 250223483.24712116 38\n",
      "0.0 0.405921568627451 1.212237798008092 39\n",
      "0.0 15.509803921568627 2756.4592281356986 40\n",
      "0.0 0.9139019607843137 7.209337668845315 41\n",
      "0.0 28.562745098039215 8536.408053221288 42\n",
      "0.0 2.1797647058823526 339.24344875350135 43\n",
      "0.0 1778.050980392157 267870687.75266114 44\n",
      "0.0 0.8879019607843137 19.242213899004046 45\n",
      "0.0 318.8705882352941 8392433.29720666 46\n",
      "0.0 0.8830196078431372 15.109459490351691 47\n",
      "0.0 263.1921568627451 2730870.5717631495 48\n",
      "0.0 0.786921568627451 4.995344940865235 49\n",
      "0.0 129.9549019607843 577617.9281668223 50\n",
      "0.0 0.26619607843137255 1.0920487838468722 51\n",
      "0.0 7.770588235294118 2610.4397992530344 52\n",
      "0.0 0.364078431372549 1.164229200124494 53\n",
      "0.0 15.492156862745098 10420.495308123249 54\n",
      "0.0 0.3921372549019608 1.0642496436352318 55\n",
      "0.0 9.52156862745098 732.428431372549 56\n",
      "0.0 0.4212941176470588 1.0592485037348274 57\n",
      "0.0 27.027450980392157 7733.6202692188 58\n",
      "0.0 0.4943921568627451 1.4748111671335202 59\n",
      "0.0 9.066666666666666 551.6066137566138 60\n",
      "0.0 0.4830392156862745 5.594774945533768 61\n",
      "0.0 112.21764705882353 871033.6885076253 62\n",
      "0.0 0.4259607843137255 3.481064046062871 63\n",
      "0.0 65.33725490196079 309139.7764394647 64\n",
      "0.0 0.755313725490196 3.9334831014628073 65\n",
      "0.0 172.66470588235293 983725.8938453159 66\n",
      "0.0 1.7483725490196078 101.42532017040149 67\n"
     ]
    }
   ],
   "source": [
    "counter = 0\n",
    "for ii in range(len(srs)):\n",
    "    fl = []\n",
    "    for kk in ns_repr:\n",
    "        fl.append(kk[ii])\n",
    "    counter += 1\n",
    "    print(statistics.median(fl), statistics.mean(fl), statistics.variance(fl), counter)"
   ]
  },
  {
   "cell_type": "code",
   "execution_count": 128,
   "metadata": {
    "scrolled": true
   },
   "outputs": [
    {
     "name": "stdout",
     "output_type": "stream",
     "text": [
      "  (0, 0)\t0.4683333333333333\n",
      "  (0, 1)\t25.666666666666668\n",
      "  (0, 4)\t0.6283333333333334\n",
      "  (0, 5)\t25.5\n",
      "  (0, 6)\t0.25\n",
      "  (0, 7)\t7.333333333333333\n",
      "  (0, 8)\t6.111666666666667\n",
      "  (0, 9)\t293.8333333333333\n",
      "  (0, 10)\t0.13999999999999999\n",
      "  (0, 11)\t0.8333333333333334\n",
      "  (0, 12)\t0.49833333333333335\n",
      "  (0, 13)\t6.166666666666667\n",
      "  (0, 14)\t0.225\n",
      "  (0, 15)\t2.3333333333333335\n",
      "  (0, 16)\t0.26166666666666666\n",
      "  (0, 17)\t12.833333333333334\n",
      "  (0, 18)\t3.1316666666666664\n",
      "  (0, 19)\t56.666666666666664\n",
      "  (0, 20)\t0.47833333333333333\n",
      "  (0, 21)\t12.166666666666666\n",
      "  (0, 22)\t0.16666666666666666\n",
      "  (0, 23)\t0.3333333333333333\n",
      "  (0, 24)\t0.36166666666666664\n",
      "  (0, 25)\t6.5\n",
      "  (0, 26)\t0.14333333333333334\n",
      "  :\t:\n",
      "  (83, 124)\t2.14\n",
      "  (83, 125)\t33.833333333333336\n",
      "  (83, 126)\t3.266666666666666\n",
      "  (83, 127)\t63.666666666666664\n",
      "  (84, 10)\t0.125\n",
      "  (84, 11)\t1.8333333333333333\n",
      "  (84, 12)\t0.165\n",
      "  (84, 13)\t1.1666666666666667\n",
      "  (84, 14)\t0.26499999999999996\n",
      "  (84, 15)\t3.3333333333333335\n",
      "  (84, 16)\t0.3033333333333333\n",
      "  (84, 17)\t11.333333333333334\n",
      "  (84, 24)\t0.09333333333333334\n",
      "  (84, 25)\t1.0\n",
      "  (84, 80)\t0.16166666666666665\n",
      "  (84, 81)\t0.6666666666666666\n",
      "  (84, 84)\t2.6316666666666664\n",
      "  (84, 85)\t63.5\n",
      "  (84, 88)\t0.16666666666666666\n",
      "  (84, 89)\t0.16666666666666666\n",
      "  (84, 108)\t0.16666666666666666\n",
      "  (84, 116)\t4.715\n",
      "  (84, 117)\t93.0\n",
      "  (84, 124)\t0.16166666666666665\n",
      "  (84, 125)\t2.3333333333333335\n"
     ]
    }
   ],
   "source": [
    "# convert to sparse matrix (CSR method)\n",
    "S = csr_matrix(ns_repr)\n",
    "print(S)"
   ]
  },
  {
   "cell_type": "markdown",
   "metadata": {},
   "source": [
    "### Now PCA"
   ]
  },
  {
   "cell_type": "code",
   "execution_count": 129,
   "metadata": {},
   "outputs": [
    {
     "name": "stdout",
     "output_type": "stream",
     "text": [
      "[array([4.25000000e-01, 2.66666667e+01, 0.00000000e+00, 0.00000000e+00,\n",
      "       6.35000000e-01, 1.66666667e-01, 0.00000000e+00, 0.00000000e+00,\n",
      "       0.00000000e+00, 0.00000000e+00, 6.38333333e-01, 3.00000000e+00,\n",
      "       1.61666667e-01, 0.00000000e+00, 1.48333333e-01, 1.00000000e+00,\n",
      "       6.81666667e-01, 3.26666667e+01, 0.00000000e+00, 0.00000000e+00,\n",
      "       0.00000000e+00, 0.00000000e+00, 6.65000000e-01, 3.80000000e+01,\n",
      "       1.63333333e-01, 2.66666667e+00, 1.00833333e+00, 5.43333333e+01,\n",
      "       1.66666667e-01, 0.00000000e+00, 3.28333333e-01, 8.33333333e-01,\n",
      "       9.56666667e-01, 2.55000000e+01, 4.16666667e-02, 5.00000000e-01,\n",
      "       4.73333333e-01, 1.50000000e+00, 4.31666667e-01, 1.85000000e+01,\n",
      "       2.00000000e-01, 3.83333333e+00, 0.00000000e+00, 0.00000000e+00,\n",
      "       4.45000000e-01, 3.00000000e+00, 3.30000000e-01, 1.33333333e+00,\n",
      "       4.20000000e-01, 3.00000000e+01, 3.08333333e-01, 1.33333333e+00,\n",
      "       4.01666667e-01, 3.83333333e+00, 2.43333333e-01, 5.33333333e+00,\n",
      "       1.53000000e+00, 4.50000000e+01, 1.31666667e-01, 6.66666667e-01,\n",
      "       1.61666667e-01, 5.00000000e-01, 0.00000000e+00, 0.00000000e+00,\n",
      "       5.50000000e-01, 8.00000000e+00, 1.61666667e-01, 0.00000000e+00,\n",
      "       5.55000000e-01, 1.16666667e+00, 3.23333333e-01, 1.50000000e+00,\n",
      "       4.61666667e-01, 1.66666667e-01, 0.00000000e+00, 0.00000000e+00,\n",
      "       0.00000000e+00, 0.00000000e+00, 0.00000000e+00, 0.00000000e+00,\n",
      "       0.00000000e+00, 0.00000000e+00, 1.41666667e-01, 6.66666667e-01,\n",
      "       0.00000000e+00, 0.00000000e+00, 4.68333333e-01, 2.00000000e+00,\n",
      "       1.60000000e-01, 1.66666667e-01, 0.00000000e+00, 0.00000000e+00,\n",
      "       1.66666667e-01, 3.33333333e-01, 3.58333333e-01, 1.83333333e+00,\n",
      "       0.00000000e+00, 0.00000000e+00, 3.75000000e-01, 3.66666667e+00,\n",
      "       3.18333333e-01, 1.66666667e-01, 4.30000000e-01, 8.83333333e+00,\n",
      "       1.61666667e-01, 5.00000000e+00, 1.66666667e-01, 0.00000000e+00,\n",
      "       0.00000000e+00, 0.00000000e+00, 4.95000000e-01, 2.16666667e+00,\n",
      "       1.66666667e-01, 0.00000000e+00, 1.50000000e-01, 2.16666667e+00,\n",
      "       0.00000000e+00, 0.00000000e+00, 0.00000000e+00, 0.00000000e+00,\n",
      "       1.58333333e-01, 2.50000000e+00, 0.00000000e+00, 0.00000000e+00,\n",
      "       0.00000000e+00, 0.00000000e+00, 4.71666667e-01, 1.66666667e-01,\n",
      "       0.00000000e+00, 0.00000000e+00, 0.00000000e+00, 0.00000000e+00,\n",
      "       0.00000000e+00, 0.00000000e+00]), array([5.16666667e-01, 3.36666667e+01, 0.00000000e+00, 0.00000000e+00,\n",
      "       0.00000000e+00, 0.00000000e+00, 0.00000000e+00, 0.00000000e+00,\n",
      "       0.00000000e+00, 0.00000000e+00, 3.10000000e-01, 2.53333333e+01,\n",
      "       0.00000000e+00, 0.00000000e+00, 3.88333333e-01, 1.85000000e+01,\n",
      "       4.56666667e-01, 1.43333333e+01, 0.00000000e+00, 0.00000000e+00,\n",
      "       0.00000000e+00, 0.00000000e+00, 7.20000000e-01, 1.85000000e+01,\n",
      "       0.00000000e+00, 0.00000000e+00, 1.66666667e-01, 0.00000000e+00,\n",
      "       1.65000000e-01, 0.00000000e+00, 0.00000000e+00, 0.00000000e+00,\n",
      "       1.65000000e-01, 9.66666667e+00, 4.70000000e-01, 2.56666667e+01,\n",
      "       1.06433333e+01, 3.16500000e+02, 2.43333333e-01, 2.00000000e+00,\n",
      "       3.20000000e-01, 3.70000000e+01, 0.00000000e+00, 0.00000000e+00,\n",
      "       1.34333333e+00, 1.21666667e+01, 2.55000000e-01, 2.50000000e+00,\n",
      "       5.25000000e-01, 1.33333333e+01, 1.53333333e-01, 2.83333333e+00,\n",
      "       1.66666667e-01, 3.66666667e+00, 3.20000000e-01, 9.00000000e+00,\n",
      "       7.16666667e-02, 3.33333333e-01, 3.50000000e-01, 1.00000000e+01,\n",
      "       1.35000000e-01, 3.33333333e-01, 3.01666667e-01, 3.33333333e+00,\n",
      "       2.35000000e-01, 5.00000000e-01, 0.00000000e+00, 0.00000000e+00,\n",
      "       1.66666667e-01, 0.00000000e+00, 0.00000000e+00, 0.00000000e+00,\n",
      "       0.00000000e+00, 0.00000000e+00, 1.31666667e+00, 2.05000000e+01,\n",
      "       0.00000000e+00, 0.00000000e+00, 0.00000000e+00, 0.00000000e+00,\n",
      "       0.00000000e+00, 0.00000000e+00, 3.08666667e+00, 1.13833333e+02,\n",
      "       3.18333333e-01, 4.33333333e+00, 0.00000000e+00, 0.00000000e+00,\n",
      "       0.00000000e+00, 0.00000000e+00, 0.00000000e+00, 0.00000000e+00,\n",
      "       1.56666667e-01, 5.00000000e-01, 0.00000000e+00, 0.00000000e+00,\n",
      "       0.00000000e+00, 0.00000000e+00, 2.18333333e-01, 4.00000000e+00,\n",
      "       0.00000000e+00, 0.00000000e+00, 3.03333333e-01, 6.33333333e+00,\n",
      "       2.95000000e-01, 1.00000000e+01, 6.24666667e+00, 1.55500000e+02,\n",
      "       4.66666667e-01, 9.50000000e+00, 3.16666667e-01, 5.00000000e+00,\n",
      "       1.38333333e-01, 4.00000000e+00, 6.78333333e-01, 1.93333333e+01,\n",
      "       0.00000000e+00, 0.00000000e+00, 3.01666667e-01, 5.33333333e+00,\n",
      "       1.21666667e-01, 1.50000000e+00, 1.25000000e-01, 2.66666667e+00,\n",
      "       1.56666667e-01, 1.00000000e+00, 3.11666667e-01, 2.33333333e+01,\n",
      "       0.00000000e+00, 0.00000000e+00, 0.00000000e+00, 0.00000000e+00,\n",
      "       0.00000000e+00, 0.00000000e+00]), array([1.93333333e-01, 1.08333333e+01, 3.23333333e-01, 3.16666667e+00,\n",
      "       3.40833333e+00, 2.92166667e+02, 0.00000000e+00, 0.00000000e+00,\n",
      "       0.00000000e+00, 0.00000000e+00, 3.10000000e-01, 8.33333333e-01,\n",
      "       2.41166667e+00, 1.27166667e+02, 1.74000000e+00, 1.06166667e+02,\n",
      "       0.00000000e+00, 0.00000000e+00, 0.00000000e+00, 0.00000000e+00,\n",
      "       2.38333333e-01, 1.66666667e+00, 1.03500000e+00, 3.16666667e+00,\n",
      "       1.87833333e+00, 5.33333333e+01, 0.00000000e+00, 0.00000000e+00,\n",
      "       1.66166667e+00, 3.50000000e+00, 6.08333333e-01, 1.98333333e+01,\n",
      "       0.00000000e+00, 0.00000000e+00, 0.00000000e+00, 0.00000000e+00,\n",
      "       2.50833333e+00, 2.26666667e+01, 0.00000000e+00, 0.00000000e+00,\n",
      "       4.56666667e-01, 1.25000000e+01, 1.14500000e+00, 2.15000000e+01,\n",
      "       9.38333333e-01, 3.16666667e+00, 3.67833333e+00, 4.20000000e+01,\n",
      "       7.20000000e-01, 1.53333333e+01, 8.16666667e-01, 8.16666667e+00,\n",
      "       9.70000000e-01, 1.23333333e+01, 1.60000000e-01, 2.66666667e+00,\n",
      "       1.60000000e-01, 1.33333333e+00, 9.11666667e-01, 1.95000000e+01,\n",
      "       1.26833333e+00, 1.11666667e+01, 1.75833333e+00, 4.75000000e+01,\n",
      "       4.63333333e-01, 1.50000000e+00, 1.95166667e+00, 3.15000000e+01,\n",
      "       4.71666667e-01, 5.50000000e+00, 1.95666667e+00, 3.40000000e+01,\n",
      "       3.34666667e+00, 3.40000000e+01, 0.00000000e+00, 0.00000000e+00,\n",
      "       1.04833333e+00, 2.03333333e+01, 2.18166667e+00, 6.90000000e+01,\n",
      "       4.58333333e-01, 1.18333333e+01, 0.00000000e+00, 0.00000000e+00,\n",
      "       6.50000000e-01, 1.68333333e+01, 1.03833333e+00, 2.53333333e+01,\n",
      "       6.36666667e-01, 3.66666667e+01, 1.26666667e-01, 1.50000000e+00,\n",
      "       6.25000000e-01, 3.66666667e+00, 0.00000000e+00, 0.00000000e+00,\n",
      "       0.00000000e+00, 0.00000000e+00, 6.98333333e-01, 1.75000000e+01,\n",
      "       1.10666667e+00, 1.53333333e+01, 5.00000000e-01, 2.83333333e+00,\n",
      "       1.30000000e-01, 5.00000000e+00, 7.01666667e-01, 1.91666667e+01,\n",
      "       2.95000000e-01, 4.16666667e+00, 3.18333333e-01, 6.66666667e-01,\n",
      "       8.16666667e-01, 2.05000000e+01, 6.00000000e-02, 7.00000000e+00,\n",
      "       0.00000000e+00, 0.00000000e+00, 3.15000000e-01, 3.83333333e+00,\n",
      "       9.46666667e-01, 4.70000000e+01, 0.00000000e+00, 0.00000000e+00,\n",
      "       1.63333333e-01, 1.66666667e+00, 0.00000000e+00, 0.00000000e+00,\n",
      "       0.00000000e+00, 0.00000000e+00, 0.00000000e+00, 0.00000000e+00,\n",
      "       0.00000000e+00, 0.00000000e+00]), array([2.72      , 0.        , 0.93333333, 0.16666667, 0.33333333,\n",
      "       0.        , 0.        , 0.        , 0.        , 0.        ,\n",
      "       1.83333333, 0.        , 0.        , 0.        , 1.        ,\n",
      "       0.        , 0.31333333, 0.5       , 0.        , 0.        ,\n",
      "       0.        , 0.        , 0.11      , 0.        , 0.16666667,\n",
      "       0.        , 1.44333333, 0.        , 0.16666667, 0.        ,\n",
      "       0.33333333, 0.        , 1.02666667, 0.        , 0.22      ,\n",
      "       0.        , 0.33333333, 0.        , 0.72      , 2.16666667,\n",
      "       0.94333333, 0.        , 0.        , 0.        , 0.66666667,\n",
      "       0.        , 0.16666667, 0.        , 0.08333333, 0.        ,\n",
      "       0.16666667, 0.        , 0.33333333, 0.        , 0.11      ,\n",
      "       0.        , 0.05833333, 1.83333333, 0.78666667, 1.33333333,\n",
      "       0.        , 0.        , 0.16666667, 0.        , 0.72      ,\n",
      "       0.        , 0.16666667, 0.        , 0.5       , 0.        ,\n",
      "       0.33333333, 0.        , 0.16666667, 0.        , 1.555     ,\n",
      "       1.33333333, 0.16666667, 0.        , 0.        , 0.        ,\n",
      "       0.94333333, 0.16666667, 1.44333333, 0.        , 0.        ,\n",
      "       0.        , 0.        , 0.        , 0.        , 0.        ,\n",
      "       0.        , 0.        , 0.16666667, 0.        , 0.72166667,\n",
      "       0.        , 0.        , 0.        , 1.01      , 0.33333333,\n",
      "       0.16666667, 0.        , 0.38666667, 0.        , 0.37333333,\n",
      "       2.5       , 0.08333333, 0.        , 0.44333333, 0.        ,\n",
      "       0.16666667, 0.        , 0.83333333, 0.        , 1.44333333,\n",
      "       0.        , 0.97166667, 2.66666667, 0.41666667, 0.        ,\n",
      "       0.16666667, 0.        , 0.27666667, 0.        , 0.88333333,\n",
      "       0.5       , 0.27666667, 0.        , 0.        , 0.        ,\n",
      "       0.        , 0.        , 0.        , 0.        ]), array([0.00000000e+00, 0.00000000e+00, 0.00000000e+00, 0.00000000e+00,\n",
      "       7.97433333e+01, 1.12302500e+05, 0.00000000e+00, 0.00000000e+00,\n",
      "       0.00000000e+00, 0.00000000e+00, 1.63400000e+01, 2.35116667e+03,\n",
      "       4.41700000e+01, 4.01481667e+04, 2.40833333e+01, 5.21266667e+03,\n",
      "       0.00000000e+00, 0.00000000e+00, 0.00000000e+00, 0.00000000e+00,\n",
      "       0.00000000e+00, 0.00000000e+00, 0.00000000e+00, 0.00000000e+00,\n",
      "       2.10033333e+01, 1.42983333e+03, 0.00000000e+00, 0.00000000e+00,\n",
      "       1.58000000e+00, 1.65000000e+01, 6.66600000e+01, 2.78896667e+04,\n",
      "       0.00000000e+00, 0.00000000e+00, 0.00000000e+00, 0.00000000e+00,\n",
      "       6.56000000e+01, 1.45860333e+05, 0.00000000e+00, 0.00000000e+00,\n",
      "       0.00000000e+00, 0.00000000e+00, 1.69928333e+02, 1.50896833e+05,\n",
      "       3.84950000e+01, 2.67130000e+04, 3.08683333e+01, 1.15498333e+04,\n",
      "       0.00000000e+00, 0.00000000e+00, 8.98833333e+00, 4.69333333e+02,\n",
      "       5.55500000e+00, 9.29500000e+02, 0.00000000e+00, 0.00000000e+00,\n",
      "       0.00000000e+00, 0.00000000e+00, 0.00000000e+00, 0.00000000e+00,\n",
      "       1.21833333e+01, 7.32666667e+02, 1.64083333e+01, 5.12850000e+03,\n",
      "       0.00000000e+00, 0.00000000e+00, 5.95350000e+01, 5.57463333e+04,\n",
      "       2.32066667e+01, 1.52450000e+03, 2.18483333e+01, 2.74816667e+03,\n",
      "       6.59166667e+00, 6.75000000e+01, 0.00000000e+00, 0.00000000e+00,\n",
      "       4.89516667e+01, 7.16196667e+04, 1.78650000e+01, 4.37533333e+03,\n",
      "       0.00000000e+00, 0.00000000e+00, 0.00000000e+00, 0.00000000e+00,\n",
      "       1.76033333e+01, 4.85383333e+03, 2.40500000e+00, 5.35000000e+01,\n",
      "       2.07466667e+01, 8.09616667e+03, 0.00000000e+00, 0.00000000e+00,\n",
      "       2.40500000e+01, 8.79700000e+03, 0.00000000e+00, 0.00000000e+00,\n",
      "       0.00000000e+00, 0.00000000e+00, 0.00000000e+00, 0.00000000e+00,\n",
      "       6.75333333e+00, 1.36166667e+02, 0.00000000e+00, 0.00000000e+00,\n",
      "       0.00000000e+00, 0.00000000e+00, 0.00000000e+00, 0.00000000e+00,\n",
      "       0.00000000e+00, 0.00000000e+00, 0.00000000e+00, 0.00000000e+00,\n",
      "       3.38833333e+00, 2.10166667e+02, 0.00000000e+00, 0.00000000e+00,\n",
      "       0.00000000e+00, 0.00000000e+00, 0.00000000e+00, 0.00000000e+00,\n",
      "       1.82200000e+01, 2.31888333e+04, 0.00000000e+00, 0.00000000e+00,\n",
      "       0.00000000e+00, 0.00000000e+00, 0.00000000e+00, 0.00000000e+00,\n",
      "       0.00000000e+00, 0.00000000e+00, 0.00000000e+00, 0.00000000e+00,\n",
      "       0.00000000e+00, 0.00000000e+00]), array([3.28333333e-01, 3.05000000e+01, 0.00000000e+00, 0.00000000e+00,\n",
      "       0.00000000e+00, 0.00000000e+00, 0.00000000e+00, 0.00000000e+00,\n",
      "       0.00000000e+00, 0.00000000e+00, 2.18333333e-01, 5.33333333e+00,\n",
      "       0.00000000e+00, 0.00000000e+00, 1.23333333e-01, 2.15000000e+01,\n",
      "       0.00000000e+00, 0.00000000e+00, 1.43333333e-01, 1.66666667e-01,\n",
      "       0.00000000e+00, 0.00000000e+00, 1.86666667e-01, 7.66666667e+00,\n",
      "       0.00000000e+00, 0.00000000e+00, 1.65000000e-01, 8.50000000e+00,\n",
      "       0.00000000e+00, 0.00000000e+00, 0.00000000e+00, 0.00000000e+00,\n",
      "       1.43333333e-01, 4.50000000e+00, 2.50000000e-01, 1.66666667e+00,\n",
      "       0.00000000e+00, 0.00000000e+00, 0.00000000e+00, 0.00000000e+00,\n",
      "       2.10000000e-01, 1.06666667e+01, 0.00000000e+00, 0.00000000e+00,\n",
      "       1.38333333e-01, 1.16666667e+00, 1.05000000e-01, 0.00000000e+00,\n",
      "       8.33333333e-02, 1.00000000e+00, 0.00000000e+00, 0.00000000e+00,\n",
      "       1.60000000e-01, 0.00000000e+00, 0.00000000e+00, 0.00000000e+00,\n",
      "       3.90000000e-01, 2.33333333e+00, 7.01666667e-01, 5.16666667e+00,\n",
      "       0.00000000e+00, 0.00000000e+00, 0.00000000e+00, 0.00000000e+00,\n",
      "       1.66666667e-01, 3.33333333e-01, 0.00000000e+00, 0.00000000e+00,\n",
      "       1.61333333e+00, 1.30000000e+01, 1.55000000e-01, 2.66666667e+00,\n",
      "       0.00000000e+00, 0.00000000e+00, 4.70000000e-01, 4.66666667e+00,\n",
      "       0.00000000e+00, 0.00000000e+00, 0.00000000e+00, 0.00000000e+00,\n",
      "       1.06666667e-01, 2.50000000e+00, 0.00000000e+00, 0.00000000e+00,\n",
      "       0.00000000e+00, 0.00000000e+00, 0.00000000e+00, 0.00000000e+00,\n",
      "       0.00000000e+00, 0.00000000e+00, 0.00000000e+00, 0.00000000e+00,\n",
      "       0.00000000e+00, 0.00000000e+00, 0.00000000e+00, 0.00000000e+00,\n",
      "       0.00000000e+00, 0.00000000e+00, 0.00000000e+00, 0.00000000e+00,\n",
      "       0.00000000e+00, 0.00000000e+00, 0.00000000e+00, 0.00000000e+00,\n",
      "       1.66666667e-01, 0.00000000e+00, 1.83333333e-02, 8.33333333e-01,\n",
      "       0.00000000e+00, 0.00000000e+00, 0.00000000e+00, 0.00000000e+00,\n",
      "       0.00000000e+00, 0.00000000e+00, 1.53333333e-01, 2.31666667e+01,\n",
      "       7.96666667e-01, 7.83333333e+00, 0.00000000e+00, 0.00000000e+00,\n",
      "       1.25000000e-01, 6.66666667e-01, 0.00000000e+00, 0.00000000e+00,\n",
      "       0.00000000e+00, 0.00000000e+00, 0.00000000e+00, 0.00000000e+00,\n",
      "       0.00000000e+00, 0.00000000e+00, 0.00000000e+00, 0.00000000e+00,\n",
      "       0.00000000e+00, 0.00000000e+00]), array([9.95000000e-01, 3.40000000e+01, 3.10000000e-01, 0.00000000e+00,\n",
      "       3.26666667e-01, 8.50000000e+00, 1.61666667e-01, 1.06666667e+01,\n",
      "       4.01666667e-01, 5.00000000e-01, 0.00000000e+00, 0.00000000e+00,\n",
      "       0.00000000e+00, 0.00000000e+00, 1.66666667e-01, 0.00000000e+00,\n",
      "       1.63333333e-01, 1.48333333e+01, 2.33333333e-02, 2.33333333e+00,\n",
      "       4.91666667e-01, 4.83333333e+00, 3.05000000e-01, 1.43333333e+01,\n",
      "       1.66666667e-01, 2.50000000e+00, 1.60000000e-01, 3.98333333e+01,\n",
      "       0.00000000e+00, 0.00000000e+00, 0.00000000e+00, 0.00000000e+00,\n",
      "       3.26666667e-01, 1.11666667e+01, 1.11500000e+00, 4.03333333e+01,\n",
      "       3.13333333e-01, 1.05000000e+01, 1.35000000e-01, 3.33333333e-01,\n",
      "       4.31666667e-01, 1.65000000e+01, 1.66666667e-01, 1.66666667e-01,\n",
      "       0.00000000e+00, 0.00000000e+00, 1.66666667e-01, 0.00000000e+00,\n",
      "       2.60000000e-01, 1.40000000e+01, 0.00000000e+00, 0.00000000e+00,\n",
      "       3.33333333e-01, 1.16666667e+00, 1.66666667e-01, 0.00000000e+00,\n",
      "       7.31666667e-01, 1.63333333e+01, 6.66666667e-02, 1.00000000e+00,\n",
      "       0.00000000e+00, 0.00000000e+00, 0.00000000e+00, 0.00000000e+00,\n",
      "       1.66666667e-01, 0.00000000e+00, 1.65000000e-01, 3.33333333e-01,\n",
      "       2.83333333e-01, 5.00000000e-01, 5.56666667e-01, 3.00000000e+00,\n",
      "       2.96666667e-01, 4.00000000e+00, 4.11666667e-01, 5.00000000e-01,\n",
      "       0.00000000e+00, 0.00000000e+00, 0.00000000e+00, 0.00000000e+00,\n",
      "       5.68333333e-01, 9.00000000e+00, 1.65000000e-01, 3.33333333e+00,\n",
      "       0.00000000e+00, 0.00000000e+00, 0.00000000e+00, 0.00000000e+00,\n",
      "       0.00000000e+00, 0.00000000e+00, 5.85000000e-01, 3.25000000e+01,\n",
      "       0.00000000e+00, 0.00000000e+00, 0.00000000e+00, 0.00000000e+00,\n",
      "       0.00000000e+00, 0.00000000e+00, 7.15000000e-01, 5.00000000e+00,\n",
      "       8.33333333e-02, 1.66666667e-01, 4.03333333e-01, 1.00000000e+01,\n",
      "       2.41666667e-01, 5.50000000e+00, 8.33333333e-02, 0.00000000e+00,\n",
      "       5.20000000e-01, 1.93333333e+01, 6.40000000e-01, 3.33333333e+00,\n",
      "       3.31666667e-01, 6.50000000e+00, 1.55000000e-01, 6.83333333e+00,\n",
      "       2.91666667e-01, 4.00000000e+00, 1.18333333e-01, 1.66666667e-01,\n",
      "       0.00000000e+00, 0.00000000e+00, 0.00000000e+00, 0.00000000e+00,\n",
      "       0.00000000e+00, 0.00000000e+00, 1.55000000e-01, 4.00000000e+00,\n",
      "       0.00000000e+00, 0.00000000e+00, 0.00000000e+00, 0.00000000e+00,\n",
      "       0.00000000e+00, 0.00000000e+00]), array([ 0.        ,  0.        ,  0.20666667,  4.        ,  0.16666667,\n",
      "        0.33333333,  0.        ,  0.        ,  0.        ,  0.        ,\n",
      "        0.        ,  0.        ,  0.        ,  0.        ,  0.        ,\n",
      "        0.        ,  0.        ,  0.        ,  0.        ,  0.        ,\n",
      "        0.        ,  0.        ,  0.11      ,  0.        ,  0.        ,\n",
      "        0.        ,  0.11833333, 11.83333333,  0.        ,  0.        ,\n",
      "        0.        ,  0.        ,  0.        ,  0.        ,  0.        ,\n",
      "        0.        ,  0.11166667,  1.5       ,  0.16166667,  0.66666667,\n",
      "        0.        ,  0.        ,  0.        ,  0.        ,  0.        ,\n",
      "        0.        ,  0.        ,  0.        ,  0.07833333,  1.5       ,\n",
      "        0.        ,  0.        ,  0.        ,  0.        ,  0.        ,\n",
      "        0.        ,  0.        ,  0.        ,  0.        ,  0.        ,\n",
      "        0.        ,  0.        ,  0.        ,  0.        ,  0.        ,\n",
      "        0.        ,  0.        ,  0.        ,  0.        ,  0.        ,\n",
      "        0.        ,  0.        ,  0.        ,  0.        ,  0.        ,\n",
      "        0.        ,  0.        ,  0.        ,  0.        ,  0.        ,\n",
      "        0.14      ,  2.5       ,  0.        ,  0.        ,  0.        ,\n",
      "        0.        ,  0.        ,  0.        ,  0.        ,  0.        ,\n",
      "        0.        ,  0.        ,  0.        ,  0.        ,  0.        ,\n",
      "        0.        ,  0.        ,  0.        ,  0.        ,  0.        ,\n",
      "        0.        ,  0.        ,  0.15666667,  0.5       ,  0.        ,\n",
      "        0.        ,  0.165     , 12.        ,  0.        ,  0.        ,\n",
      "        0.        ,  0.        ,  0.        ,  0.        ,  0.32833333,\n",
      "        4.16666667,  0.2       ,  2.16666667,  0.        ,  0.        ,\n",
      "        0.        ,  0.        ,  0.        ,  0.        ,  0.        ,\n",
      "        0.        ,  0.25      ,  0.5       ,  0.        ,  0.        ,\n",
      "        0.        ,  0.        ,  0.        ,  0.        ]), array([3.28333333e-01, 7.88333333e+01, 6.35000000e-01, 9.66666667e+00,\n",
      "       3.26666667e-01, 2.33333333e+00, 1.55000000e-01, 4.50000000e+00,\n",
      "       2.78333333e-01, 1.50000000e+00, 3.23333333e-01, 6.66666667e-01,\n",
      "       3.10166667e+00, 6.63333333e+01, 4.70000000e-01, 5.33333333e+00,\n",
      "       6.31666667e-01, 3.98333333e+01, 6.66666667e-02, 0.00000000e+00,\n",
      "       0.00000000e+00, 0.00000000e+00, 3.33333333e-01, 1.40000000e+01,\n",
      "       2.98333333e-01, 8.83333333e+00, 3.05000000e-01, 1.23333333e+01,\n",
      "       1.66666667e-01, 0.00000000e+00, 1.66666667e-01, 0.00000000e+00,\n",
      "       7.71666667e-01, 1.10000000e+01, 6.05000000e-01, 5.83333333e+00,\n",
      "       4.40000000e-01, 8.16666667e+00, 1.51666667e-01, 1.80000000e+01,\n",
      "       2.33333333e+00, 9.13333333e+01, 1.56666667e-01, 1.16666667e+00,\n",
      "       0.00000000e+00, 0.00000000e+00, 1.50000000e-01, 1.66666667e+00,\n",
      "       5.18333333e-01, 2.31666667e+01, 0.00000000e+00, 0.00000000e+00,\n",
      "       8.16666667e-01, 6.50000000e+00, 0.00000000e+00, 0.00000000e+00,\n",
      "       1.61666667e-01, 1.51666667e+01, 5.68333333e-01, 1.20000000e+01,\n",
      "       0.00000000e+00, 0.00000000e+00, 1.51666667e-01, 8.33333333e-01,\n",
      "       1.60000000e-01, 5.00000000e+00, 1.78333333e-01, 2.66666667e+00,\n",
      "       5.00000000e-02, 8.33333333e-01, 1.60000000e-01, 1.66666667e-01,\n",
      "       3.30000000e-01, 6.66666667e-01, 8.33333333e-02, 1.66666667e-01,\n",
      "       0.00000000e+00, 0.00000000e+00, 0.00000000e+00, 0.00000000e+00,\n",
      "       4.61666667e-01, 3.50000000e+00, 3.30000000e-01, 1.75000000e+01,\n",
      "       3.23333333e-01, 1.81666667e+01, 1.05000000e-01, 0.00000000e+00,\n",
      "       0.00000000e+00, 0.00000000e+00, 0.00000000e+00, 0.00000000e+00,\n",
      "       1.53333333e-01, 1.00000000e+00, 3.33333333e-01, 2.16666667e+00,\n",
      "       1.60000000e-01, 7.00000000e+00, 1.55000000e-01, 3.33333333e-01,\n",
      "       0.00000000e+00, 0.00000000e+00, 4.63333333e-01, 1.35000000e+01,\n",
      "       0.00000000e+00, 0.00000000e+00, 3.13333333e-01, 1.66666667e-01,\n",
      "       0.00000000e+00, 0.00000000e+00, 1.63333333e-01, 9.00000000e+00,\n",
      "       0.00000000e+00, 0.00000000e+00, 3.33333333e-01, 3.33333333e-01,\n",
      "       2.46666667e-01, 6.66666667e+00, 1.18333333e-01, 8.33333333e-01,\n",
      "       0.00000000e+00, 0.00000000e+00, 1.38333333e-01, 1.66666667e-01,\n",
      "       0.00000000e+00, 0.00000000e+00, 0.00000000e+00, 0.00000000e+00,\n",
      "       0.00000000e+00, 0.00000000e+00, 0.00000000e+00, 0.00000000e+00,\n",
      "       0.00000000e+00, 0.00000000e+00]), array([0.00000000e+00, 0.00000000e+00, 0.00000000e+00, 0.00000000e+00,\n",
      "       1.65000000e-01, 3.15000000e+01, 0.00000000e+00, 0.00000000e+00,\n",
      "       0.00000000e+00, 0.00000000e+00, 1.66666667e-01, 0.00000000e+00,\n",
      "       3.25000000e-01, 7.66666667e+00, 1.33333333e-01, 7.66666667e+00,\n",
      "       5.44333333e+00, 4.46666667e+02, 0.00000000e+00, 0.00000000e+00,\n",
      "       0.00000000e+00, 0.00000000e+00, 0.00000000e+00, 0.00000000e+00,\n",
      "       2.80166667e+00, 1.39000000e+02, 3.20000000e-01, 2.26666667e+01,\n",
      "       0.00000000e+00, 0.00000000e+00, 0.00000000e+00, 0.00000000e+00,\n",
      "       0.00000000e+00, 0.00000000e+00, 0.00000000e+00, 0.00000000e+00,\n",
      "       1.46666667e-01, 8.33333333e-01, 0.00000000e+00, 0.00000000e+00,\n",
      "       1.60000000e-01, 5.00000000e-01, 0.00000000e+00, 0.00000000e+00,\n",
      "       0.00000000e+00, 0.00000000e+00, 0.00000000e+00, 0.00000000e+00,\n",
      "       0.00000000e+00, 0.00000000e+00, 0.00000000e+00, 0.00000000e+00,\n",
      "       4.36666667e-01, 5.00000000e-01, 0.00000000e+00, 0.00000000e+00,\n",
      "       0.00000000e+00, 0.00000000e+00, 0.00000000e+00, 0.00000000e+00,\n",
      "       1.55000000e-01, 1.66666667e+01, 0.00000000e+00, 0.00000000e+00,\n",
      "       0.00000000e+00, 0.00000000e+00, 1.25000000e-01, 1.33333333e+00,\n",
      "       0.00000000e+00, 0.00000000e+00, 0.00000000e+00, 0.00000000e+00,\n",
      "       3.30000000e-01, 9.33333333e+00, 0.00000000e+00, 0.00000000e+00,\n",
      "       6.33333333e-02, 3.16666667e+00, 0.00000000e+00, 0.00000000e+00,\n",
      "       0.00000000e+00, 0.00000000e+00, 4.80000000e-01, 2.00000000e+00,\n",
      "       0.00000000e+00, 0.00000000e+00, 0.00000000e+00, 0.00000000e+00,\n",
      "       0.00000000e+00, 0.00000000e+00, 0.00000000e+00, 0.00000000e+00,\n",
      "       0.00000000e+00, 0.00000000e+00, 0.00000000e+00, 0.00000000e+00,\n",
      "       0.00000000e+00, 0.00000000e+00, 0.00000000e+00, 0.00000000e+00,\n",
      "       0.00000000e+00, 0.00000000e+00, 0.00000000e+00, 0.00000000e+00,\n",
      "       0.00000000e+00, 0.00000000e+00, 0.00000000e+00, 0.00000000e+00,\n",
      "       0.00000000e+00, 0.00000000e+00, 0.00000000e+00, 0.00000000e+00,\n",
      "       1.55000000e-01, 4.16666667e+00, 0.00000000e+00, 0.00000000e+00,\n",
      "       9.66666667e-02, 1.00000000e+00, 0.00000000e+00, 0.00000000e+00,\n",
      "       0.00000000e+00, 0.00000000e+00, 0.00000000e+00, 0.00000000e+00,\n",
      "       0.00000000e+00, 0.00000000e+00, 0.00000000e+00, 0.00000000e+00,\n",
      "       0.00000000e+00, 0.00000000e+00, 0.00000000e+00, 0.00000000e+00,\n",
      "       0.00000000e+00, 0.00000000e+00]), array([ 0.        ,  0.        ,  0.        ,  0.        ,  0.65333333,\n",
      "       11.5       ,  0.        ,  0.        ,  0.15666667,  1.66666667,\n",
      "        0.47333333,  9.66666667,  0.16666667,  0.83333333,  0.57333333,\n",
      "       10.        ,  0.        ,  0.        ,  0.        ,  0.        ,\n",
      "        0.        ,  0.        ,  0.        ,  0.        ,  0.        ,\n",
      "        0.        ,  0.        ,  0.        ,  0.16666667,  0.        ,\n",
      "        0.        ,  0.        ,  0.        ,  0.        ,  0.        ,\n",
      "        0.        ,  0.64833333,  6.16666667,  0.        ,  0.        ,\n",
      "        0.16333333,  0.83333333,  0.16166667,  8.        ,  0.        ,\n",
      "        0.        ,  0.        ,  0.        ,  0.        ,  0.        ,\n",
      "        0.14333333,  1.5       ,  0.        ,  0.        ,  0.        ,\n",
      "        0.        ,  0.58666667,  3.33333333,  0.        ,  0.        ,\n",
      "        0.        ,  0.        ,  0.        ,  0.        ,  0.16666667,\n",
      "        5.83333333,  0.        ,  0.        ,  0.41333333,  3.5       ,\n",
      "        0.485     , 10.5       ,  0.        ,  0.        ,  0.        ,\n",
      "        0.        ,  0.        ,  0.        ,  0.165     ,  4.5       ,\n",
      "        0.        ,  0.        ,  0.        ,  0.        ,  0.        ,\n",
      "        0.        ,  0.33333333,  2.        ,  0.        ,  0.        ,\n",
      "        0.        ,  0.        ,  0.16666667,  1.83333333,  0.        ,\n",
      "        0.        ,  0.        ,  0.        ,  0.        ,  0.        ,\n",
      "        0.        ,  0.        ,  0.15833333,  1.66666667,  0.        ,\n",
      "        0.        ,  0.        ,  0.        ,  0.        ,  0.        ,\n",
      "        0.        ,  0.        ,  0.33333333,  6.5       ,  0.        ,\n",
      "        0.        ,  0.        ,  0.        ,  0.        ,  0.        ,\n",
      "        0.16666667,  8.5       ,  0.        ,  0.        ,  0.        ,\n",
      "        0.        ,  0.        ,  0.        ,  0.        ,  0.        ,\n",
      "        0.        ,  0.        ,  0.        ,  0.        ]), array([ 0.        ,  0.        ,  0.        ,  0.        ,  0.        ,\n",
      "        0.        ,  0.        ,  0.        ,  0.        ,  0.        ,\n",
      "        0.16666667,  0.        ,  0.        ,  0.        ,  0.395     ,\n",
      "       18.33333333,  0.        ,  0.        ,  0.        ,  0.        ,\n",
      "        0.        ,  0.        ,  0.        ,  0.        ,  0.08333333,\n",
      "        5.83333333,  0.        ,  0.        ,  0.        ,  0.        ,\n",
      "        0.        ,  0.        ,  0.        ,  0.        ,  0.        ,\n",
      "        0.        ,  0.        ,  0.        ,  0.        ,  0.        ,\n",
      "        0.        ,  0.        ,  0.        ,  0.        ,  0.15833333,\n",
      "        0.5       ,  0.32666667, 40.33333333,  0.        ,  0.        ,\n",
      "        0.        ,  0.        ,  0.        ,  0.        ,  0.        ,\n",
      "        0.        ,  0.        ,  0.        ,  0.        ,  0.        ,\n",
      "        0.16666667,  0.        ,  0.        ,  0.        ,  0.        ,\n",
      "        0.        ,  0.16333333,  0.5       ,  0.30166667,  3.16666667,\n",
      "        0.33      ,  0.66666667,  0.        ,  0.        ,  0.        ,\n",
      "        0.        ,  0.        ,  0.        ,  0.        ,  0.        ,\n",
      "        0.        ,  0.        ,  0.        ,  0.        ,  0.        ,\n",
      "        0.        ,  0.        ,  0.        ,  0.16166667,  3.        ,\n",
      "        0.        ,  0.        ,  0.16666667,  0.66666667,  0.        ,\n",
      "        0.        ,  0.        ,  0.        ,  0.        ,  0.        ,\n",
      "        0.        ,  0.        ,  0.        ,  0.        ,  0.        ,\n",
      "        0.        ,  0.        ,  0.        ,  0.        ,  0.        ,\n",
      "        0.        ,  0.        ,  0.        ,  0.        ,  0.        ,\n",
      "        0.        ,  0.        ,  0.        ,  0.        ,  0.        ,\n",
      "        0.135     ,  1.16666667,  0.        ,  0.        ,  0.        ,\n",
      "        0.        ,  0.        ,  0.        ,  0.        ,  0.        ,\n",
      "        0.        ,  0.        ,  0.        ,  0.        ]), array([ 0.        ,  0.        ,  0.        ,  0.        ,  0.        ,\n",
      "        0.        ,  0.        ,  0.        ,  0.        ,  0.        ,\n",
      "        0.155     ,  1.16666667,  0.        ,  0.        ,  0.04333333,\n",
      "        4.        ,  0.21      , 19.        ,  0.03833333,  4.16666667,\n",
      "        0.        ,  0.        ,  0.        ,  0.        ,  0.165     ,\n",
      "       19.        ,  0.        ,  0.        ,  0.        ,  0.        ,\n",
      "        0.14833333,  1.66666667,  0.        ,  0.        ,  0.16333333,\n",
      "        1.33333333,  0.43666667,  6.83333333,  0.16      , 10.5       ,\n",
      "        0.065     ,  6.5       ,  0.        ,  0.        ,  0.155     ,\n",
      "        0.83333333,  0.11      ,  8.66666667,  0.        ,  0.        ,\n",
      "        0.        ,  0.        ,  0.        ,  0.        ,  0.        ,\n",
      "        0.        ,  0.        ,  0.        ,  0.        ,  0.        ,\n",
      "        0.        ,  0.        ,  0.16666667,  1.83333333,  0.        ,\n",
      "        0.        ,  0.        ,  0.        ,  0.16166667,  1.16666667,\n",
      "        0.        ,  0.        ,  0.14833333,  3.83333333,  0.        ,\n",
      "        0.        ,  0.        ,  0.        ,  0.        ,  0.        ,\n",
      "        0.16166667,  1.16666667,  0.        ,  0.        ,  0.        ,\n",
      "        0.        ,  0.        ,  0.        ,  0.        ,  0.        ,\n",
      "        0.        ,  0.        ,  0.        ,  0.        ,  0.        ,\n",
      "        0.        ,  0.        ,  0.        ,  0.        ,  0.        ,\n",
      "        0.        ,  0.        ,  0.        ,  0.        ,  0.        ,\n",
      "        0.        ,  0.        ,  0.        ,  0.        ,  0.        ,\n",
      "        0.        ,  0.        ,  0.        ,  0.        ,  0.        ,\n",
      "        0.        ,  0.        ,  0.        ,  0.        ,  0.        ,\n",
      "        0.16666667,  3.83333333,  0.        ,  0.        ,  0.        ,\n",
      "        0.        ,  0.        ,  0.        ,  0.        ,  0.        ,\n",
      "        0.        ,  0.        ,  0.        ,  0.        ]), array([ 0.08166667,  3.16666667,  0.165     ,  3.33333333,  0.        ,\n",
      "        0.        ,  0.        ,  0.        ,  0.        ,  0.        ,\n",
      "        0.        ,  0.        ,  0.        ,  0.        ,  0.        ,\n",
      "        0.        ,  0.16666667,  0.        ,  0.        ,  0.        ,\n",
      "        0.        ,  0.        ,  0.07833333,  4.33333333,  0.        ,\n",
      "        0.        ,  0.14      ,  0.5       ,  0.        ,  0.        ,\n",
      "        0.        ,  0.        ,  0.        ,  0.        ,  0.26666667,\n",
      "        3.        ,  0.        ,  0.        ,  0.05      ,  1.83333333,\n",
      "        0.        ,  0.        ,  0.        ,  0.        ,  0.        ,\n",
      "        0.        ,  0.        ,  0.        ,  0.        ,  0.        ,\n",
      "        0.        ,  0.        ,  0.        ,  0.        ,  0.16666667,\n",
      "        0.83333333,  0.08333333,  3.        ,  0.25      ,  2.5       ,\n",
      "        0.        ,  0.        ,  0.        ,  0.        ,  0.        ,\n",
      "        0.        ,  0.        ,  0.        ,  0.        ,  0.        ,\n",
      "        0.        ,  0.        ,  0.        ,  0.        ,  0.86166667,\n",
      "       22.5       ,  0.        ,  0.        ,  0.        ,  0.        ,\n",
      "        0.145     ,  1.5       ,  0.14833333,  3.5       ,  0.        ,\n",
      "        0.        ,  0.        ,  0.        ,  0.        ,  0.        ,\n",
      "        0.        ,  0.        ,  0.        ,  0.        ,  0.        ,\n",
      "        0.        ,  0.        ,  0.        ,  0.        ,  0.        ,\n",
      "        0.        ,  0.        ,  0.        ,  0.        ,  0.        ,\n",
      "        0.        ,  0.        ,  0.        ,  0.08333333,  4.        ,\n",
      "        0.32833333,  6.66666667,  0.        ,  0.        ,  0.25      ,\n",
      "        1.16666667,  0.        ,  0.        ,  0.07666667,  0.16666667,\n",
      "        0.        ,  0.        ,  0.        ,  0.        ,  0.06666667,\n",
      "        0.33333333,  0.        ,  0.        ,  0.        ,  0.        ,\n",
      "        0.        ,  0.        ,  0.        ,  0.        ]), array([ 0.        ,  0.        ,  0.        ,  0.        ,  0.03333333,\n",
      "        1.83333333,  0.        ,  0.        ,  0.        ,  0.        ,\n",
      "        0.        ,  0.        ,  0.14166667,  8.16666667,  0.83333333,\n",
      "        0.33333333,  0.        ,  0.        ,  0.        ,  0.        ,\n",
      "        0.        ,  0.        ,  0.        ,  0.        ,  0.        ,\n",
      "        0.        ,  0.        ,  0.        ,  0.        ,  0.        ,\n",
      "        0.03333333,  1.83333333,  0.        ,  0.        ,  0.        ,\n",
      "        0.        ,  0.15      , 13.66666667,  0.        ,  0.        ,\n",
      "        0.        ,  0.        ,  0.        ,  0.        ,  0.        ,\n",
      "        0.        ,  0.        ,  0.        ,  0.        ,  0.        ,\n",
      "        0.17333333,  3.83333333,  0.5       ,  0.83333333,  0.        ,\n",
      "        0.        ,  0.        ,  0.        ,  0.        ,  0.        ,\n",
      "        0.        ,  0.        ,  0.        ,  0.        ,  0.        ,\n",
      "        0.        ,  0.        ,  0.        ,  0.        ,  0.        ,\n",
      "        0.        ,  0.        ,  0.        ,  0.        ,  0.        ,\n",
      "        0.        ,  0.        ,  0.        ,  0.        ,  0.        ,\n",
      "        0.        ,  0.        ,  0.        ,  0.        ,  0.19666667,\n",
      "        7.        ,  0.        ,  0.        ,  0.        ,  0.        ,\n",
      "        0.        ,  0.        ,  0.        ,  0.        ,  0.        ,\n",
      "        0.        ,  0.        ,  0.        ,  0.        ,  0.        ,\n",
      "        0.        ,  0.        ,  0.        ,  0.        ,  0.        ,\n",
      "        0.        ,  0.        ,  0.        ,  0.        ,  0.        ,\n",
      "        0.        ,  0.        ,  0.        ,  0.        ,  0.        ,\n",
      "        0.        ,  0.        ,  0.        ,  0.        ,  0.        ,\n",
      "        0.025     ,  4.        ,  0.        ,  0.        ,  0.        ,\n",
      "        0.        ,  0.08333333,  0.16666667,  0.        ,  0.        ,\n",
      "        0.        ,  0.        ,  0.        ,  0.        ]), array([ 0.15833333,  0.16666667,  0.        ,  0.        ,  0.        ,\n",
      "        0.        ,  0.83333333,  9.16666667,  0.38333333,  3.83333333,\n",
      "        0.        ,  0.        ,  0.        ,  0.        ,  0.        ,\n",
      "        0.        ,  0.        ,  0.        ,  0.        ,  0.        ,\n",
      "        0.32166667, 12.5       ,  0.15833333,  1.16666667,  0.        ,\n",
      "        0.        ,  0.16      ,  1.16666667,  0.        ,  0.        ,\n",
      "        0.        ,  0.        ,  0.        ,  0.        ,  0.        ,\n",
      "        0.        ,  0.15666667,  0.5       ,  0.        ,  0.        ,\n",
      "        0.        ,  0.        ,  0.        ,  0.        ,  0.        ,\n",
      "        0.        ,  0.        ,  0.        ,  0.16166667,  2.33333333,\n",
      "        0.        ,  0.        ,  0.        ,  0.        ,  0.        ,\n",
      "        0.        ,  0.        ,  0.        ,  0.        ,  0.        ,\n",
      "        0.16666667,  0.        ,  0.        ,  0.        ,  0.        ,\n",
      "        0.        ,  0.        ,  0.        ,  0.        ,  0.        ,\n",
      "        0.        ,  0.        ,  0.        ,  0.        ,  0.        ,\n",
      "        0.        ,  0.        ,  0.        ,  0.        ,  0.        ,\n",
      "        0.16      ,  1.33333333,  0.        ,  0.        ,  0.        ,\n",
      "        0.        ,  0.        ,  0.        ,  0.07333333,  0.16666667,\n",
      "        0.        ,  0.        ,  0.        ,  0.        ,  0.        ,\n",
      "        0.        ,  0.        ,  0.        ,  0.        ,  0.        ,\n",
      "        0.        ,  0.        ,  0.        ,  0.        ,  0.        ,\n",
      "        0.        ,  0.        ,  0.        ,  0.        ,  0.        ,\n",
      "        0.        ,  0.        ,  0.        ,  0.        ,  0.        ,\n",
      "        0.        ,  0.        ,  0.        ,  0.        ,  0.        ,\n",
      "        0.        ,  0.        ,  0.        ,  0.        ,  0.        ,\n",
      "        0.        ,  0.        ,  0.        ,  0.        ,  0.        ,\n",
      "        0.15166667,  1.33333333,  0.        ,  0.        ]), array([0.00000000e+00, 0.00000000e+00, 0.00000000e+00, 0.00000000e+00,\n",
      "       0.00000000e+00, 0.00000000e+00, 5.42833333e+00, 8.21500000e+02,\n",
      "       4.14333333e+00, 1.88333333e+01, 0.00000000e+00, 0.00000000e+00,\n",
      "       0.00000000e+00, 0.00000000e+00, 0.00000000e+00, 0.00000000e+00,\n",
      "       0.00000000e+00, 0.00000000e+00, 1.33833333e+00, 2.53333333e+01,\n",
      "       3.56500000e+00, 6.53333333e+01, 0.00000000e+00, 0.00000000e+00,\n",
      "       0.00000000e+00, 0.00000000e+00, 0.00000000e+00, 0.00000000e+00,\n",
      "       0.00000000e+00, 0.00000000e+00, 0.00000000e+00, 0.00000000e+00,\n",
      "       0.00000000e+00, 0.00000000e+00, 0.00000000e+00, 0.00000000e+00,\n",
      "       0.00000000e+00, 0.00000000e+00, 0.00000000e+00, 0.00000000e+00,\n",
      "       0.00000000e+00, 0.00000000e+00, 0.00000000e+00, 0.00000000e+00,\n",
      "       0.00000000e+00, 0.00000000e+00, 0.00000000e+00, 0.00000000e+00,\n",
      "       0.00000000e+00, 0.00000000e+00, 0.00000000e+00, 0.00000000e+00,\n",
      "       0.00000000e+00, 0.00000000e+00, 0.00000000e+00, 0.00000000e+00,\n",
      "       0.00000000e+00, 0.00000000e+00, 0.00000000e+00, 0.00000000e+00,\n",
      "       0.00000000e+00, 0.00000000e+00, 0.00000000e+00, 0.00000000e+00,\n",
      "       0.00000000e+00, 0.00000000e+00, 0.00000000e+00, 0.00000000e+00,\n",
      "       0.00000000e+00, 0.00000000e+00, 0.00000000e+00, 0.00000000e+00,\n",
      "       0.00000000e+00, 0.00000000e+00, 0.00000000e+00, 0.00000000e+00,\n",
      "       0.00000000e+00, 0.00000000e+00, 0.00000000e+00, 0.00000000e+00,\n",
      "       0.00000000e+00, 0.00000000e+00, 0.00000000e+00, 0.00000000e+00,\n",
      "       0.00000000e+00, 0.00000000e+00, 0.00000000e+00, 0.00000000e+00,\n",
      "       0.00000000e+00, 0.00000000e+00, 1.59166667e+00, 4.51666667e+01,\n",
      "       0.00000000e+00, 0.00000000e+00, 0.00000000e+00, 0.00000000e+00,\n",
      "       1.80500000e+00, 4.51666667e+01, 0.00000000e+00, 0.00000000e+00,\n",
      "       0.00000000e+00, 0.00000000e+00, 0.00000000e+00, 0.00000000e+00,\n",
      "       0.00000000e+00, 0.00000000e+00, 0.00000000e+00, 0.00000000e+00,\n",
      "       0.00000000e+00, 0.00000000e+00, 0.00000000e+00, 0.00000000e+00,\n",
      "       0.00000000e+00, 0.00000000e+00, 0.00000000e+00, 0.00000000e+00,\n",
      "       0.00000000e+00, 0.00000000e+00, 0.00000000e+00, 0.00000000e+00,\n",
      "       0.00000000e+00, 0.00000000e+00, 0.00000000e+00, 0.00000000e+00,\n",
      "       0.00000000e+00, 0.00000000e+00, 0.00000000e+00, 0.00000000e+00,\n",
      "       6.63333333e-01, 2.10000000e+01, 3.13333333e-01, 4.66666667e+00,\n",
      "       1.11333333e+00, 1.38333333e+01]), array([ 0.        ,  0.        ,  0.        ,  0.        ,  0.        ,\n",
      "        0.        ,  0.32666667, 44.16666667,  0.445     , 10.        ,\n",
      "        0.        ,  0.        ,  0.        ,  0.        ,  0.        ,\n",
      "        0.        ,  0.        ,  0.        ,  0.29166667,  4.66666667,\n",
      "        0.45833333,  9.16666667,  0.        ,  0.        ,  0.        ,\n",
      "        0.        ,  0.        ,  0.        ,  0.        ,  0.        ,\n",
      "        0.        ,  0.        ,  0.        ,  0.        ,  0.        ,\n",
      "        0.        ,  0.        ,  0.        ,  0.        ,  0.        ,\n",
      "        0.        ,  0.        ,  0.        ,  0.        ,  0.        ,\n",
      "        0.        ,  0.        ,  0.        ,  0.        ,  0.        ,\n",
      "        0.        ,  0.        ,  0.        ,  0.        ,  0.        ,\n",
      "        0.        ,  0.        ,  0.        ,  0.        ,  0.        ,\n",
      "        0.        ,  0.        ,  0.        ,  0.        ,  0.        ,\n",
      "        0.        ,  0.        ,  0.        ,  0.        ,  0.        ,\n",
      "        0.        ,  0.        ,  0.        ,  0.        ,  0.        ,\n",
      "        0.        ,  0.        ,  0.        ,  0.        ,  0.        ,\n",
      "        0.        ,  0.        ,  0.        ,  0.        ,  0.        ,\n",
      "        0.        ,  0.        ,  0.        ,  0.        ,  0.        ,\n",
      "        0.68833333, 43.66666667,  0.        ,  0.        ,  0.        ,\n",
      "        0.        ,  0.315     ,  5.33333333,  0.        ,  0.        ,\n",
      "        0.        ,  0.        ,  0.        ,  0.        ,  0.        ,\n",
      "        0.        ,  0.        ,  0.        ,  0.        ,  0.        ,\n",
      "        0.        ,  0.        ,  0.        ,  0.        ,  0.        ,\n",
      "        0.        ,  0.        ,  0.        ,  0.        ,  0.        ,\n",
      "        0.        ,  0.        ,  0.        ,  0.        ,  0.        ,\n",
      "        0.        ,  0.        ,  0.        ,  0.81666667, 59.33333333,\n",
      "        0.        ,  0.        ,  0.16      ,  3.        ]), array([0.        , 0.        , 0.        , 0.        , 0.        ,\n",
      "       0.        , 0.        , 0.        , 0.        , 0.        ,\n",
      "       0.28833333, 3.5       , 0.29666667, 0.5       , 0.06666667,\n",
      "       2.16666667, 0.        , 0.        , 0.        , 0.        ,\n",
      "       0.        , 0.        , 0.        , 0.        , 0.        ,\n",
      "       0.        , 0.        , 0.        , 0.5       , 0.        ,\n",
      "       0.16666667, 0.        , 0.        , 0.        , 0.        ,\n",
      "       0.        , 0.        , 0.        , 0.        , 0.        ,\n",
      "       0.        , 0.        , 0.16333333, 1.33333333, 0.33333333,\n",
      "       2.        , 0.185     , 4.5       , 0.        , 0.        ,\n",
      "       0.        , 0.        , 0.        , 0.        , 0.        ,\n",
      "       0.        , 0.        , 0.        , 0.        , 0.        ,\n",
      "       0.        , 0.        , 1.385     , 0.83333333, 0.        ,\n",
      "       0.        , 0.315     , 3.33333333, 0.16666667, 0.        ,\n",
      "       0.16666667, 3.33333333, 0.        , 0.        , 0.        ,\n",
      "       0.        , 0.165     , 4.66666667, 0.        , 0.        ,\n",
      "       0.        , 0.        , 0.        , 0.        , 0.        ,\n",
      "       0.        , 0.        , 0.        , 0.        , 0.        ,\n",
      "       0.        , 0.        , 0.        , 0.        , 0.        ,\n",
      "       0.        , 0.        , 0.        , 0.        , 0.        ,\n",
      "       0.16666667, 0.16666667, 0.        , 0.        , 0.        ,\n",
      "       0.        , 0.        , 0.        , 0.        , 0.        ,\n",
      "       0.        , 0.        , 0.        , 0.        , 0.        ,\n",
      "       0.        , 0.        , 0.        , 0.        , 0.        ,\n",
      "       0.24166667, 4.33333333, 0.        , 0.        , 0.        ,\n",
      "       0.        , 0.        , 0.        , 0.        , 0.        ,\n",
      "       0.        , 0.        , 0.        , 0.        ]), array([ 0.31      ,  8.66666667,  0.13666667,  0.66666667,  0.16666667,\n",
      "       17.16666667,  0.12166667,  1.66666667,  0.        ,  0.        ,\n",
      "        0.81166667,  8.        ,  0.29166667,  2.66666667,  0.        ,\n",
      "        0.        ,  0.        ,  0.        ,  0.        ,  0.        ,\n",
      "        0.        ,  0.        ,  0.24333333,  5.        ,  0.        ,\n",
      "        0.        ,  0.16666667,  0.        ,  0.        ,  0.        ,\n",
      "        0.16333333,  8.66666667,  0.41166667, 48.5       ,  0.325     ,\n",
      "       18.5       ,  0.        ,  0.        ,  0.12333333,  0.5       ,\n",
      "        0.31666667,  2.83333333,  0.        ,  0.        ,  0.        ,\n",
      "        0.        ,  0.        ,  0.        ,  0.16166667,  2.33333333,\n",
      "        0.        ,  0.        ,  0.125     ,  0.33333333,  0.        ,\n",
      "        0.        ,  0.37666667, 73.5       ,  0.28666667,  8.        ,\n",
      "        0.14666667,  0.33333333,  0.32666667, 14.33333333,  0.92166667,\n",
      "        1.33333333,  0.        ,  0.        ,  0.        ,  0.        ,\n",
      "        0.        ,  0.        ,  0.        ,  0.        ,  0.61166667,\n",
      "       41.        ,  0.        ,  0.        ,  0.        ,  0.        ,\n",
      "        0.14833333,  5.33333333,  0.        ,  0.        ,  0.        ,\n",
      "        0.        ,  0.        ,  0.        ,  0.        ,  0.        ,\n",
      "        0.        ,  0.        ,  0.        ,  0.        ,  0.31666667,\n",
      "        7.16666667,  0.        ,  0.        ,  0.15666667,  8.5       ,\n",
      "        0.5       ,  0.        ,  0.315     ,  3.66666667,  0.33333333,\n",
      "        0.        ,  0.695     , 29.5       ,  0.        ,  0.        ,\n",
      "        0.16166667,  8.        ,  0.        ,  0.        ,  0.49      ,\n",
      "       25.        ,  0.        ,  0.        ,  0.795     , 33.        ,\n",
      "        0.        ,  0.        ,  0.165     ,  4.83333333,  0.16666667,\n",
      "        0.        ,  0.31833333,  3.16666667,  0.        ,  0.        ,\n",
      "        0.        ,  0.        ,  0.        ,  0.        ]), array([1.48316667e+01, 6.59500000e+02, 1.44500000e+00, 2.96666667e+01,\n",
      "       4.23333333e+01, 8.09333333e+02, 0.00000000e+00, 0.00000000e+00,\n",
      "       0.00000000e+00, 0.00000000e+00, 1.55833333e+00, 2.20000000e+01,\n",
      "       8.61666667e-01, 5.53333333e+01, 6.11833333e+00, 1.79666667e+02,\n",
      "       1.39350000e+01, 7.67333333e+02, 6.05000000e-01, 2.10000000e+01,\n",
      "       3.30000000e-01, 1.33333333e+00, 5.73000000e+00, 1.67666667e+02,\n",
      "       5.07500000e+00, 2.46333333e+02, 3.22500000e+00, 1.71666667e+02,\n",
      "       8.06666667e-01, 4.20000000e+01, 7.40166667e+00, 2.80333333e+02,\n",
      "       3.14500000e+00, 9.20000000e+01, 3.87516667e+01, 1.37600000e+03,\n",
      "       2.01000000e+00, 3.98333333e+01, 4.43500000e+00, 1.34833333e+02,\n",
      "       1.21050000e+01, 4.33166667e+02, 1.66666667e-01, 0.00000000e+00,\n",
      "       9.53333333e-01, 2.33333333e+00, 7.68333333e-01, 9.00000000e+00,\n",
      "       1.54783333e+01, 8.88833333e+02, 4.51666667e-01, 2.83333333e+00,\n",
      "       7.13333333e-01, 7.66666667e+00, 2.79500000e+00, 6.38333333e+01,\n",
      "       3.60166667e+00, 3.65000000e+02, 4.15166667e+00, 7.06666667e+01,\n",
      "       5.21666667e-01, 2.06666667e+01, 1.08666667e+00, 9.50000000e+00,\n",
      "       3.39333333e+00, 1.25500000e+02, 4.78333333e-01, 4.50000000e+00,\n",
      "       4.08666667e+00, 5.35000000e+01, 3.18333333e-01, 1.81666667e+01,\n",
      "       2.71666667e-01, 1.30000000e+01, 1.03700000e+01, 2.34833333e+02,\n",
      "       1.66666667e-01, 3.33333333e-01, 4.18833333e+00, 8.92333333e+02,\n",
      "       5.94333333e+00, 1.42000000e+02, 3.96833333e+00, 7.90000000e+01,\n",
      "       1.31666667e-01, 3.66666667e+00, 9.83333333e-02, 1.83333333e+00,\n",
      "       2.81666667e-01, 2.00000000e+00, 0.00000000e+00, 0.00000000e+00,\n",
      "       3.25000000e-01, 4.66666667e+00, 1.85666667e+00, 2.43333333e+01,\n",
      "       4.30000000e-01, 5.00000000e-01, 5.23000000e+00, 9.45000000e+01,\n",
      "       3.26666667e-01, 3.66666667e+00, 4.75666667e+00, 9.03333333e+01,\n",
      "       2.76000000e+00, 7.86666667e+01, 3.94833333e+00, 1.45500000e+02,\n",
      "       3.56333333e+00, 8.28333333e+01, 2.27583333e+01, 3.08333333e+02,\n",
      "       5.78333333e-01, 1.01666667e+01, 5.14666667e+00, 1.49500000e+02,\n",
      "       4.47666667e+00, 1.13833333e+02, 2.21833333e+00, 3.50000000e+01,\n",
      "       4.35000000e-01, 1.50000000e+00, 1.54333333e+00, 2.88333333e+01,\n",
      "       3.37166667e+00, 6.60000000e+01, 2.58500000e+00, 7.81666667e+01,\n",
      "       0.00000000e+00, 0.00000000e+00, 0.00000000e+00, 0.00000000e+00,\n",
      "       0.00000000e+00, 0.00000000e+00]), array([0.00000000e+00, 0.00000000e+00, 0.00000000e+00, 0.00000000e+00,\n",
      "       2.91666667e-01, 2.83333333e+00, 0.00000000e+00, 0.00000000e+00,\n",
      "       0.00000000e+00, 0.00000000e+00, 4.88333333e-01, 3.16666667e+00,\n",
      "       2.10566667e+01, 2.49240000e+04, 0.00000000e+00, 0.00000000e+00,\n",
      "       0.00000000e+00, 0.00000000e+00, 0.00000000e+00, 0.00000000e+00,\n",
      "       3.10000000e-01, 1.66666667e+00, 1.66666667e-01, 0.00000000e+00,\n",
      "       0.00000000e+00, 0.00000000e+00, 0.00000000e+00, 0.00000000e+00,\n",
      "       0.00000000e+00, 0.00000000e+00, 0.00000000e+00, 0.00000000e+00,\n",
      "       0.00000000e+00, 0.00000000e+00, 0.00000000e+00, 0.00000000e+00,\n",
      "       1.66666667e-01, 2.83333333e+00, 0.00000000e+00, 0.00000000e+00,\n",
      "       0.00000000e+00, 0.00000000e+00, 0.00000000e+00, 0.00000000e+00,\n",
      "       1.25000000e-01, 0.00000000e+00, 1.43333333e-01, 0.00000000e+00,\n",
      "       0.00000000e+00, 0.00000000e+00, 0.00000000e+00, 0.00000000e+00,\n",
      "       0.00000000e+00, 0.00000000e+00, 0.00000000e+00, 0.00000000e+00,\n",
      "       0.00000000e+00, 0.00000000e+00, 1.65000000e-01, 4.33333333e+00,\n",
      "       0.00000000e+00, 0.00000000e+00, 1.61666667e-01, 1.00000000e+00,\n",
      "       0.00000000e+00, 0.00000000e+00, 0.00000000e+00, 0.00000000e+00,\n",
      "       0.00000000e+00, 0.00000000e+00, 3.28333333e-01, 3.33333333e-01,\n",
      "       1.66666667e-01, 0.00000000e+00, 0.00000000e+00, 0.00000000e+00,\n",
      "       3.16666667e-01, 1.66666667e-01, 3.33333333e-01, 0.00000000e+00,\n",
      "       0.00000000e+00, 0.00000000e+00, 0.00000000e+00, 0.00000000e+00,\n",
      "       1.58333333e-01, 5.00000000e-01, 1.05000000e-01, 1.33333333e+00,\n",
      "       0.00000000e+00, 0.00000000e+00, 0.00000000e+00, 0.00000000e+00,\n",
      "       0.00000000e+00, 0.00000000e+00, 0.00000000e+00, 0.00000000e+00,\n",
      "       0.00000000e+00, 0.00000000e+00, 0.00000000e+00, 0.00000000e+00,\n",
      "       0.00000000e+00, 0.00000000e+00, 0.00000000e+00, 0.00000000e+00,\n",
      "       0.00000000e+00, 0.00000000e+00, 1.66666667e-01, 5.33333333e+00,\n",
      "       0.00000000e+00, 0.00000000e+00, 0.00000000e+00, 0.00000000e+00,\n",
      "       0.00000000e+00, 0.00000000e+00, 0.00000000e+00, 0.00000000e+00,\n",
      "       0.00000000e+00, 0.00000000e+00, 0.00000000e+00, 0.00000000e+00,\n",
      "       1.61666667e-01, 6.66666667e-01, 0.00000000e+00, 0.00000000e+00,\n",
      "       0.00000000e+00, 0.00000000e+00, 0.00000000e+00, 0.00000000e+00,\n",
      "       0.00000000e+00, 0.00000000e+00, 0.00000000e+00, 0.00000000e+00,\n",
      "       0.00000000e+00, 0.00000000e+00]), array([2.33333333e-02, 8.33333333e-01, 0.00000000e+00, 0.00000000e+00,\n",
      "       3.08333333e-01, 2.20000000e+01, 1.61666667e-01, 9.00000000e+00,\n",
      "       9.03333333e-01, 4.50000000e+01, 1.48333333e-01, 1.00000000e+00,\n",
      "       1.66666667e-01, 0.00000000e+00, 2.91666667e-01, 9.33333333e+00,\n",
      "       2.98333333e-01, 1.48333333e+01, 4.21666667e-01, 3.05000000e+01,\n",
      "       4.28333333e-01, 4.41666667e+01, 8.33333333e-02, 1.33333333e+00,\n",
      "       2.45000000e-01, 9.83333333e+00, 4.85000000e-01, 2.88333333e+01,\n",
      "       0.00000000e+00, 0.00000000e+00, 0.00000000e+00, 0.00000000e+00,\n",
      "       1.43333333e-01, 1.50000000e+00, 0.00000000e+00, 0.00000000e+00,\n",
      "       1.56666667e-01, 1.00000000e+00, 0.00000000e+00, 0.00000000e+00,\n",
      "       3.16666667e-01, 6.16666667e+00, 3.03333333e-01, 2.33333333e+00,\n",
      "       6.45000000e-01, 6.33333333e+00, 1.30000000e-01, 1.83333333e+00,\n",
      "       1.13333333e-01, 3.16666667e+00, 4.06666667e-01, 4.66666667e+00,\n",
      "       2.60000000e-01, 1.66666667e+00, 8.33333333e-02, 2.66666667e+00,\n",
      "       1.25000000e-01, 0.00000000e+00, 0.00000000e+00, 0.00000000e+00,\n",
      "       0.00000000e+00, 0.00000000e+00, 1.61666667e-01, 8.33333333e-01,\n",
      "       9.95000000e-01, 1.68333333e+01, 4.81666667e-01, 4.16666667e+00,\n",
      "       0.00000000e+00, 0.00000000e+00, 4.63333333e-01, 2.00000000e+00,\n",
      "       0.00000000e+00, 0.00000000e+00, 1.66666667e-01, 3.16666667e+00,\n",
      "       3.26666667e-01, 2.33333333e+00, 0.00000000e+00, 0.00000000e+00,\n",
      "       0.00000000e+00, 0.00000000e+00, 1.66666667e-01, 5.00000000e-01,\n",
      "       4.73333333e-01, 6.66666667e+00, 0.00000000e+00, 0.00000000e+00,\n",
      "       1.50000000e-01, 3.33333333e-01, 3.15000000e-01, 1.86666667e+01,\n",
      "       0.00000000e+00, 0.00000000e+00, 0.00000000e+00, 0.00000000e+00,\n",
      "       1.53333333e-01, 1.16666667e+00, 0.00000000e+00, 0.00000000e+00,\n",
      "       0.00000000e+00, 0.00000000e+00, 0.00000000e+00, 0.00000000e+00,\n",
      "       0.00000000e+00, 0.00000000e+00, 0.00000000e+00, 0.00000000e+00,\n",
      "       0.00000000e+00, 0.00000000e+00, 4.70000000e-01, 2.95000000e+01,\n",
      "       1.60000000e-01, 3.00000000e+00, 0.00000000e+00, 0.00000000e+00,\n",
      "       0.00000000e+00, 0.00000000e+00, 1.55000000e-01, 1.50000000e+00,\n",
      "       0.00000000e+00, 0.00000000e+00, 0.00000000e+00, 0.00000000e+00,\n",
      "       0.00000000e+00, 0.00000000e+00, 1.56666667e-01, 1.83333333e+00,\n",
      "       0.00000000e+00, 0.00000000e+00, 0.00000000e+00, 0.00000000e+00,\n",
      "       0.00000000e+00, 0.00000000e+00]), array([0.00000000e+00, 0.00000000e+00, 7.96666667e-01, 1.43333333e+01,\n",
      "       6.00000000e-02, 6.00000000e+00, 0.00000000e+00, 0.00000000e+00,\n",
      "       0.00000000e+00, 0.00000000e+00, 3.52500000e+00, 8.23333333e+01,\n",
      "       1.60000000e-01, 3.33333333e-01, 1.30000000e-01, 5.00000000e-01,\n",
      "       5.83333333e-02, 4.00000000e+00, 0.00000000e+00, 0.00000000e+00,\n",
      "       0.00000000e+00, 0.00000000e+00, 0.00000000e+00, 0.00000000e+00,\n",
      "       0.00000000e+00, 0.00000000e+00, 1.66666667e-01, 0.00000000e+00,\n",
      "       0.00000000e+00, 0.00000000e+00, 0.00000000e+00, 0.00000000e+00,\n",
      "       1.66666667e-01, 1.33333333e+00, 0.00000000e+00, 0.00000000e+00,\n",
      "       1.06666667e-01, 2.16666667e+00, 0.00000000e+00, 0.00000000e+00,\n",
      "       0.00000000e+00, 0.00000000e+00, 0.00000000e+00, 0.00000000e+00,\n",
      "       0.00000000e+00, 0.00000000e+00, 1.60000000e-01, 5.00000000e-01,\n",
      "       0.00000000e+00, 0.00000000e+00, 0.00000000e+00, 0.00000000e+00,\n",
      "       0.00000000e+00, 0.00000000e+00, 0.00000000e+00, 0.00000000e+00,\n",
      "       0.00000000e+00, 0.00000000e+00, 0.00000000e+00, 0.00000000e+00,\n",
      "       1.66666667e-01, 6.66666667e-01, 0.00000000e+00, 0.00000000e+00,\n",
      "       0.00000000e+00, 0.00000000e+00, 0.00000000e+00, 0.00000000e+00,\n",
      "       0.00000000e+00, 0.00000000e+00, 0.00000000e+00, 0.00000000e+00,\n",
      "       0.00000000e+00, 0.00000000e+00, 1.36666667e-01, 3.33333333e-01,\n",
      "       2.03000000e+00, 1.15000000e+01, 0.00000000e+00, 0.00000000e+00,\n",
      "       1.66666667e-01, 1.38333333e+01, 0.00000000e+00, 0.00000000e+00,\n",
      "       0.00000000e+00, 0.00000000e+00, 0.00000000e+00, 0.00000000e+00,\n",
      "       1.35000000e-01, 3.33333333e-01, 0.00000000e+00, 0.00000000e+00,\n",
      "       0.00000000e+00, 0.00000000e+00, 0.00000000e+00, 0.00000000e+00,\n",
      "       0.00000000e+00, 0.00000000e+00, 0.00000000e+00, 0.00000000e+00,\n",
      "       1.66666667e-01, 1.83333333e+00, 1.55000000e-01, 1.16666667e+00,\n",
      "       0.00000000e+00, 0.00000000e+00, 0.00000000e+00, 0.00000000e+00,\n",
      "       0.00000000e+00, 0.00000000e+00, 6.53333333e-01, 4.33333333e+00,\n",
      "       0.00000000e+00, 0.00000000e+00, 0.00000000e+00, 0.00000000e+00,\n",
      "       0.00000000e+00, 0.00000000e+00, 1.43333333e-01, 5.00000000e+00,\n",
      "       0.00000000e+00, 0.00000000e+00, 1.66666667e-01, 1.66666667e-01,\n",
      "       8.86666667e-01, 6.13333333e+01, 0.00000000e+00, 0.00000000e+00,\n",
      "       0.00000000e+00, 0.00000000e+00, 0.00000000e+00, 0.00000000e+00,\n",
      "       0.00000000e+00, 0.00000000e+00]), array([0.00000000e+00, 0.00000000e+00, 0.00000000e+00, 0.00000000e+00,\n",
      "       3.33333333e-01, 0.00000000e+00, 0.00000000e+00, 0.00000000e+00,\n",
      "       0.00000000e+00, 0.00000000e+00, 2.70000000e-01, 1.20000000e+01,\n",
      "       6.10000000e-01, 1.53333333e+01, 1.08333333e-01, 2.16666667e+00,\n",
      "       0.00000000e+00, 0.00000000e+00, 0.00000000e+00, 0.00000000e+00,\n",
      "       0.00000000e+00, 0.00000000e+00, 0.00000000e+00, 0.00000000e+00,\n",
      "       1.58333333e-01, 4.66666667e+00, 0.00000000e+00, 0.00000000e+00,\n",
      "       3.66666667e-01, 2.16666667e+00, 0.00000000e+00, 0.00000000e+00,\n",
      "       0.00000000e+00, 0.00000000e+00, 0.00000000e+00, 0.00000000e+00,\n",
      "       2.21666667e-01, 1.05000000e+01, 0.00000000e+00, 0.00000000e+00,\n",
      "       0.00000000e+00, 0.00000000e+00, 1.11666667e-01, 5.33333333e+00,\n",
      "       1.38333333e-01, 2.83333333e+00, 7.28333333e-01, 2.85000000e+01,\n",
      "       0.00000000e+00, 0.00000000e+00, 1.53333333e-01, 4.50000000e+00,\n",
      "       1.58333333e-01, 5.83333333e+00, 0.00000000e+00, 0.00000000e+00,\n",
      "       0.00000000e+00, 0.00000000e+00, 0.00000000e+00, 0.00000000e+00,\n",
      "       2.20000000e-01, 3.00000000e+00, 2.83333333e-01, 2.83333333e+00,\n",
      "       0.00000000e+00, 0.00000000e+00, 1.00000000e-01, 5.00000000e+00,\n",
      "       3.61666667e-01, 4.16666667e+00, 1.55000000e-01, 6.16666667e+00,\n",
      "       0.00000000e+00, 0.00000000e+00, 0.00000000e+00, 0.00000000e+00,\n",
      "       0.00000000e+00, 0.00000000e+00, 5.51666667e-01, 1.68333333e+01,\n",
      "       0.00000000e+00, 0.00000000e+00, 0.00000000e+00, 0.00000000e+00,\n",
      "       2.16666667e-02, 5.00000000e-01, 2.46666667e-01, 1.36666667e+01,\n",
      "       1.18333333e-01, 3.16666667e+00, 0.00000000e+00, 0.00000000e+00,\n",
      "       3.05000000e-01, 5.00000000e+00, 0.00000000e+00, 0.00000000e+00,\n",
      "       0.00000000e+00, 0.00000000e+00, 0.00000000e+00, 0.00000000e+00,\n",
      "       0.00000000e+00, 0.00000000e+00, 0.00000000e+00, 0.00000000e+00,\n",
      "       0.00000000e+00, 0.00000000e+00, 0.00000000e+00, 0.00000000e+00,\n",
      "       0.00000000e+00, 0.00000000e+00, 0.00000000e+00, 0.00000000e+00,\n",
      "       6.83333333e-02, 2.00000000e+00, 0.00000000e+00, 0.00000000e+00,\n",
      "       0.00000000e+00, 0.00000000e+00, 0.00000000e+00, 0.00000000e+00,\n",
      "       2.98333333e-01, 8.66666667e+00, 0.00000000e+00, 0.00000000e+00,\n",
      "       0.00000000e+00, 0.00000000e+00, 0.00000000e+00, 0.00000000e+00,\n",
      "       0.00000000e+00, 0.00000000e+00, 0.00000000e+00, 0.00000000e+00,\n",
      "       0.00000000e+00, 0.00000000e+00]), array([0.00000000e+00, 0.00000000e+00, 0.00000000e+00, 0.00000000e+00,\n",
      "       0.00000000e+00, 0.00000000e+00, 3.21500000e+00, 2.19666667e+02,\n",
      "       3.00083333e+01, 1.59733333e+03, 0.00000000e+00, 0.00000000e+00,\n",
      "       0.00000000e+00, 0.00000000e+00, 0.00000000e+00, 0.00000000e+00,\n",
      "       0.00000000e+00, 0.00000000e+00, 9.91000000e+00, 9.49833333e+02,\n",
      "       4.96500000e+00, 5.37666667e+02, 0.00000000e+00, 0.00000000e+00,\n",
      "       0.00000000e+00, 0.00000000e+00, 0.00000000e+00, 0.00000000e+00,\n",
      "       0.00000000e+00, 0.00000000e+00, 0.00000000e+00, 0.00000000e+00,\n",
      "       0.00000000e+00, 0.00000000e+00, 0.00000000e+00, 0.00000000e+00,\n",
      "       0.00000000e+00, 0.00000000e+00, 0.00000000e+00, 0.00000000e+00,\n",
      "       0.00000000e+00, 0.00000000e+00, 0.00000000e+00, 0.00000000e+00,\n",
      "       0.00000000e+00, 0.00000000e+00, 0.00000000e+00, 0.00000000e+00,\n",
      "       0.00000000e+00, 0.00000000e+00, 0.00000000e+00, 0.00000000e+00,\n",
      "       0.00000000e+00, 0.00000000e+00, 0.00000000e+00, 0.00000000e+00,\n",
      "       0.00000000e+00, 0.00000000e+00, 0.00000000e+00, 0.00000000e+00,\n",
      "       0.00000000e+00, 0.00000000e+00, 0.00000000e+00, 0.00000000e+00,\n",
      "       0.00000000e+00, 0.00000000e+00, 0.00000000e+00, 0.00000000e+00,\n",
      "       0.00000000e+00, 0.00000000e+00, 0.00000000e+00, 0.00000000e+00,\n",
      "       0.00000000e+00, 0.00000000e+00, 0.00000000e+00, 0.00000000e+00,\n",
      "       0.00000000e+00, 0.00000000e+00, 0.00000000e+00, 0.00000000e+00,\n",
      "       0.00000000e+00, 0.00000000e+00, 0.00000000e+00, 0.00000000e+00,\n",
      "       0.00000000e+00, 0.00000000e+00, 0.00000000e+00, 0.00000000e+00,\n",
      "       0.00000000e+00, 0.00000000e+00, 6.00000000e+00, 4.23333333e+02,\n",
      "       0.00000000e+00, 0.00000000e+00, 0.00000000e+00, 0.00000000e+00,\n",
      "       2.27666667e+00, 4.86666667e+01, 0.00000000e+00, 0.00000000e+00,\n",
      "       0.00000000e+00, 0.00000000e+00, 0.00000000e+00, 0.00000000e+00,\n",
      "       0.00000000e+00, 0.00000000e+00, 0.00000000e+00, 0.00000000e+00,\n",
      "       0.00000000e+00, 0.00000000e+00, 0.00000000e+00, 0.00000000e+00,\n",
      "       0.00000000e+00, 0.00000000e+00, 0.00000000e+00, 0.00000000e+00,\n",
      "       0.00000000e+00, 0.00000000e+00, 0.00000000e+00, 0.00000000e+00,\n",
      "       0.00000000e+00, 0.00000000e+00, 0.00000000e+00, 0.00000000e+00,\n",
      "       0.00000000e+00, 0.00000000e+00, 0.00000000e+00, 0.00000000e+00,\n",
      "       8.68333333e-01, 2.38333333e+01, 3.11666667e-01, 5.83333333e+00,\n",
      "       2.89833333e+00, 2.06666667e+01]), array([8.46500000e+00, 3.25500000e+02, 8.91166667e+00, 1.34666667e+02,\n",
      "       7.20000000e-01, 2.95000000e+01, 9.83333333e-02, 3.33333333e-01,\n",
      "       1.58333333e-01, 6.66666667e-01, 1.96333333e+00, 5.65000000e+01,\n",
      "       5.53333333e-01, 1.93333333e+01, 2.81833333e+00, 6.51666667e+01,\n",
      "       6.31666667e+00, 3.24500000e+02, 2.16666667e-02, 2.33333333e+00,\n",
      "       1.38333333e-01, 4.05000000e+01, 8.81833333e+00, 2.97833333e+02,\n",
      "       3.47500000e+00, 5.80000000e+01, 2.30833333e+00, 7.61666667e+01,\n",
      "       1.38833333e+00, 2.08333333e+01, 4.80000000e-01, 1.00000000e+00,\n",
      "       3.59500000e+00, 1.18666667e+02, 5.91833333e+00, 1.34666667e+02,\n",
      "       9.55000000e-01, 1.93333333e+01, 4.04666667e+00, 1.34000000e+02,\n",
      "       3.79500000e+00, 7.03333333e+01, 1.65000000e-01, 1.16666667e+00,\n",
      "       1.95000000e-01, 4.00000000e+00, 3.61666667e-01, 5.00000000e-01,\n",
      "       8.60000000e+00, 3.38666667e+02, 1.59000000e+00, 1.80000000e+01,\n",
      "       5.80000000e-01, 4.00000000e+00, 4.54333333e+00, 1.43166667e+02,\n",
      "       6.10166667e+00, 1.49000000e+02, 5.04333333e+00, 6.48333333e+01,\n",
      "       0.00000000e+00, 0.00000000e+00, 3.76666667e-01, 4.66666667e+00,\n",
      "       7.64166667e+00, 9.56666667e+01, 4.78333333e-01, 5.33333333e+00,\n",
      "       1.66666667e-01, 1.00000000e+00, 9.86666667e-01, 9.16666667e+00,\n",
      "       6.53333333e-01, 2.16666667e+00, 1.05400000e+01, 2.75333333e+02,\n",
      "       1.66666667e-01, 0.00000000e+00, 1.53333333e-01, 2.50000000e+00,\n",
      "       7.63833333e+00, 1.91500000e+02, 8.53666667e+00, 2.48000000e+02,\n",
      "       1.51666667e-01, 5.16666667e+00, 2.41666667e-01, 7.50000000e+00,\n",
      "       0.00000000e+00, 0.00000000e+00, 0.00000000e+00, 0.00000000e+00,\n",
      "       0.00000000e+00, 0.00000000e+00, 3.54666667e+00, 4.71666667e+01,\n",
      "       0.00000000e+00, 0.00000000e+00, 1.27833333e+01, 1.96500000e+02,\n",
      "       2.41666667e-01, 1.00000000e+00, 6.78333333e+00, 1.24500000e+02,\n",
      "       3.45833333e+00, 6.23333333e+01, 6.34166667e+00, 1.78500000e+02,\n",
      "       6.98000000e+00, 1.88833333e+02, 5.75833333e+00, 8.90000000e+01,\n",
      "       1.66666667e-01, 5.00000000e+00, 4.87166667e+00, 9.00000000e+01,\n",
      "       7.32833333e+00, 1.52333333e+02, 4.52333333e+00, 4.80000000e+01,\n",
      "       3.20000000e-01, 1.23333333e+01, 5.55666667e+00, 1.32333333e+02,\n",
      "       7.72666667e+00, 9.25000000e+01, 2.65833333e+00, 2.95000000e+01,\n",
      "       0.00000000e+00, 0.00000000e+00, 0.00000000e+00, 0.00000000e+00,\n",
      "       0.00000000e+00, 0.00000000e+00]), array([0.00000000e+00, 0.00000000e+00, 0.00000000e+00, 0.00000000e+00,\n",
      "       0.00000000e+00, 0.00000000e+00, 9.96000000e+00, 2.96500000e+02,\n",
      "       1.87683333e+01, 7.02500000e+02, 1.25000000e-01, 7.50000000e+00,\n",
      "       0.00000000e+00, 0.00000000e+00, 0.00000000e+00, 0.00000000e+00,\n",
      "       0.00000000e+00, 0.00000000e+00, 9.37833333e+00, 2.90666667e+02,\n",
      "       1.44100000e+01, 6.86333333e+02, 0.00000000e+00, 0.00000000e+00,\n",
      "       0.00000000e+00, 0.00000000e+00, 5.50000000e-02, 1.66666667e-01,\n",
      "       0.00000000e+00, 0.00000000e+00, 1.66666667e-01, 0.00000000e+00,\n",
      "       3.25000000e-01, 3.33333333e+00, 0.00000000e+00, 0.00000000e+00,\n",
      "       0.00000000e+00, 0.00000000e+00, 0.00000000e+00, 0.00000000e+00,\n",
      "       0.00000000e+00, 0.00000000e+00, 0.00000000e+00, 0.00000000e+00,\n",
      "       1.06666667e-01, 0.00000000e+00, 1.60000000e-01, 1.66666667e-01,\n",
      "       3.60000000e-01, 3.83333333e+00, 0.00000000e+00, 0.00000000e+00,\n",
      "       1.58333333e-01, 0.00000000e+00, 0.00000000e+00, 0.00000000e+00,\n",
      "       1.58333333e-01, 1.16666667e+00, 8.33333333e-02, 1.50000000e+00,\n",
      "       1.66666667e-01, 1.66666667e-01, 0.00000000e+00, 0.00000000e+00,\n",
      "       0.00000000e+00, 0.00000000e+00, 0.00000000e+00, 0.00000000e+00,\n",
      "       0.00000000e+00, 0.00000000e+00, 0.00000000e+00, 0.00000000e+00,\n",
      "       0.00000000e+00, 0.00000000e+00, 0.00000000e+00, 0.00000000e+00,\n",
      "       0.00000000e+00, 0.00000000e+00, 0.00000000e+00, 0.00000000e+00,\n",
      "       1.25000000e-01, 6.66666667e-01, 1.66666667e-01, 0.00000000e+00,\n",
      "       0.00000000e+00, 0.00000000e+00, 0.00000000e+00, 0.00000000e+00,\n",
      "       1.53333333e-01, 8.33333333e-01, 7.45500000e+00, 4.36333333e+02,\n",
      "       1.55000000e-01, 3.33333333e-01, 0.00000000e+00, 0.00000000e+00,\n",
      "       3.48333333e+00, 2.93333333e+01, 0.00000000e+00, 0.00000000e+00,\n",
      "       0.00000000e+00, 0.00000000e+00, 8.16666667e-01, 6.33333333e+00,\n",
      "       0.00000000e+00, 0.00000000e+00, 0.00000000e+00, 0.00000000e+00,\n",
      "       0.00000000e+00, 0.00000000e+00, 6.00000000e-02, 6.66666667e-01,\n",
      "       0.00000000e+00, 0.00000000e+00, 1.66666667e-01, 0.00000000e+00,\n",
      "       0.00000000e+00, 0.00000000e+00, 0.00000000e+00, 0.00000000e+00,\n",
      "       0.00000000e+00, 0.00000000e+00, 0.00000000e+00, 0.00000000e+00,\n",
      "       0.00000000e+00, 0.00000000e+00, 0.00000000e+00, 0.00000000e+00,\n",
      "       3.74000000e+00, 1.42333333e+02, 9.81666667e-01, 7.33333333e+00,\n",
      "       9.71666667e-01, 5.66666667e+00]), array([0.00000000e+00, 0.00000000e+00, 3.31666667e-01, 5.83333333e+00,\n",
      "       0.00000000e+00, 0.00000000e+00, 0.00000000e+00, 0.00000000e+00,\n",
      "       0.00000000e+00, 0.00000000e+00, 3.50000000e-02, 1.00000000e+00,\n",
      "       0.00000000e+00, 0.00000000e+00, 0.00000000e+00, 0.00000000e+00,\n",
      "       0.00000000e+00, 0.00000000e+00, 0.00000000e+00, 0.00000000e+00,\n",
      "       0.00000000e+00, 0.00000000e+00, 2.65000000e-01, 4.00000000e+00,\n",
      "       0.00000000e+00, 0.00000000e+00, 0.00000000e+00, 0.00000000e+00,\n",
      "       0.00000000e+00, 0.00000000e+00, 0.00000000e+00, 0.00000000e+00,\n",
      "       1.00000000e-01, 5.00000000e-01, 0.00000000e+00, 0.00000000e+00,\n",
      "       0.00000000e+00, 0.00000000e+00, 0.00000000e+00, 0.00000000e+00,\n",
      "       0.00000000e+00, 0.00000000e+00, 0.00000000e+00, 0.00000000e+00,\n",
      "       0.00000000e+00, 0.00000000e+00, 0.00000000e+00, 0.00000000e+00,\n",
      "       2.96666667e-01, 9.66666667e+00, 0.00000000e+00, 0.00000000e+00,\n",
      "       0.00000000e+00, 0.00000000e+00, 0.00000000e+00, 0.00000000e+00,\n",
      "       0.00000000e+00, 0.00000000e+00, 1.65000000e-01, 3.66666667e+00,\n",
      "       0.00000000e+00, 0.00000000e+00, 0.00000000e+00, 0.00000000e+00,\n",
      "       0.00000000e+00, 0.00000000e+00, 0.00000000e+00, 0.00000000e+00,\n",
      "       0.00000000e+00, 0.00000000e+00, 0.00000000e+00, 0.00000000e+00,\n",
      "       0.00000000e+00, 0.00000000e+00, 0.00000000e+00, 0.00000000e+00,\n",
      "       0.00000000e+00, 0.00000000e+00, 0.00000000e+00, 0.00000000e+00,\n",
      "       8.34833333e+00, 2.43000000e+02, 1.58333333e-01, 2.66666667e+00,\n",
      "       0.00000000e+00, 0.00000000e+00, 2.23333333e+00, 4.43333333e+01,\n",
      "       0.00000000e+00, 0.00000000e+00, 0.00000000e+00, 0.00000000e+00,\n",
      "       0.00000000e+00, 0.00000000e+00, 0.00000000e+00, 0.00000000e+00,\n",
      "       0.00000000e+00, 0.00000000e+00, 0.00000000e+00, 0.00000000e+00,\n",
      "       0.00000000e+00, 0.00000000e+00, 0.00000000e+00, 0.00000000e+00,\n",
      "       1.66666667e-01, 0.00000000e+00, 0.00000000e+00, 0.00000000e+00,\n",
      "       2.25000000e-01, 2.50000000e+00, 0.00000000e+00, 0.00000000e+00,\n",
      "       0.00000000e+00, 0.00000000e+00, 0.00000000e+00, 0.00000000e+00,\n",
      "       0.00000000e+00, 0.00000000e+00, 0.00000000e+00, 0.00000000e+00,\n",
      "       0.00000000e+00, 0.00000000e+00, 0.00000000e+00, 0.00000000e+00,\n",
      "       0.00000000e+00, 0.00000000e+00, 0.00000000e+00, 0.00000000e+00,\n",
      "       0.00000000e+00, 0.00000000e+00, 0.00000000e+00, 0.00000000e+00,\n",
      "       0.00000000e+00, 0.00000000e+00])]\n"
     ]
    }
   ],
   "source": [
    "print([k for k in ns_repr[21:50]])"
   ]
  },
  {
   "cell_type": "code",
   "execution_count": 130,
   "metadata": {},
   "outputs": [],
   "source": [
    "svd = TruncatedSVD(n_components=100) #, n_iter=7, random_state=42)\n",
    "svd_pca = PCA(n_components=min(len(ns_repr), len(ns_repr[0])))"
   ]
  },
  {
   "cell_type": "code",
   "execution_count": 131,
   "metadata": {},
   "outputs": [],
   "source": [
    "# fit1 = svd.fit(ns_repr)\n",
    "# fit1 = svd.fit(csr_matrix(preprocessing.normalize(ns_repr)))\n",
    "fit1 = svd_pca.fit(StandardScaler().fit_transform(np.array(ns_repr)))"
   ]
  },
  {
   "cell_type": "code",
   "execution_count": 132,
   "metadata": {},
   "outputs": [],
   "source": [
    "explained_var = fit1.explained_variance_ratio_"
   ]
  },
  {
   "cell_type": "code",
   "execution_count": 133,
   "metadata": {},
   "outputs": [
    {
     "data": {
      "text/plain": [
       "array([3.89721829e-01, 2.67886255e-01, 9.79684309e-02, 6.74168962e-02,\n",
       "       3.69645043e-02, 2.53915325e-02, 1.81541784e-02, 1.35958109e-02,\n",
       "       1.21418816e-02, 8.25265826e-03, 6.85127086e-03, 6.54983472e-03,\n",
       "       5.13933876e-03, 4.80535814e-03, 4.53876158e-03, 4.09096776e-03,\n",
       "       3.51288302e-03, 3.47486011e-03, 3.06177898e-03, 2.39178057e-03,\n",
       "       2.22843108e-03, 1.91324707e-03, 1.63036712e-03, 1.48790735e-03,\n",
       "       1.35332923e-03, 1.15401919e-03, 9.85065289e-04, 9.09980118e-04,\n",
       "       7.49193201e-04, 6.75758774e-04, 6.28960333e-04, 5.39223603e-04,\n",
       "       3.93709631e-04, 3.52165050e-04, 3.09621986e-04, 2.92775040e-04,\n",
       "       2.56087517e-04, 2.24350123e-04, 2.10510942e-04, 1.81807460e-04,\n",
       "       1.60216082e-04, 1.47541645e-04, 1.25862115e-04, 1.13585184e-04,\n",
       "       1.09977806e-04, 9.96387935e-05, 9.43811854e-05, 7.55447027e-05,\n",
       "       7.00399120e-05, 6.57888847e-05, 6.19837187e-05, 5.35866747e-05,\n",
       "       4.99913188e-05, 4.43550807e-05, 3.87112902e-05, 3.46129443e-05,\n",
       "       3.05182542e-05, 2.74839892e-05, 2.51377686e-05, 2.42338037e-05,\n",
       "       2.00024888e-05, 1.87590099e-05, 1.49172074e-05, 1.42504041e-05,\n",
       "       1.26235126e-05, 1.05957307e-05, 9.10476116e-06, 8.39481220e-06,\n",
       "       7.37755666e-06, 6.42606078e-06, 5.86557746e-06, 5.26986138e-06,\n",
       "       4.26385048e-06, 3.71590252e-06, 3.34172078e-06, 2.80313965e-06,\n",
       "       2.29748926e-06, 1.96292852e-06, 1.78045026e-06, 1.65806812e-06,\n",
       "       1.47291478e-06, 1.00203958e-06, 8.82832929e-07, 7.18729313e-07,\n",
       "       1.90912353e-33])"
      ]
     },
     "execution_count": 133,
     "metadata": {},
     "output_type": "execute_result"
    }
   ],
   "source": [
    "explained_var"
   ]
  },
  {
   "cell_type": "code",
   "execution_count": 134,
   "metadata": {},
   "outputs": [
    {
     "data": {
      "text/plain": [
       "85"
      ]
     },
     "execution_count": 134,
     "metadata": {},
     "output_type": "execute_result"
    }
   ],
   "source": [
    "len(explained_var)"
   ]
  },
  {
   "cell_type": "code",
   "execution_count": 135,
   "metadata": {},
   "outputs": [
    {
     "data": {
      "text/plain": [
       "1.0"
      ]
     },
     "execution_count": 135,
     "metadata": {},
     "output_type": "execute_result"
    }
   ],
   "source": [
    "fit1.explained_variance_ratio_.sum()"
   ]
  },
  {
   "cell_type": "code",
   "execution_count": 136,
   "metadata": {},
   "outputs": [],
   "source": [
    "explained_var_sums = [sum(explained_var[:d]) for d in range(len(ns_repr))]"
   ]
  },
  {
   "cell_type": "code",
   "execution_count": 137,
   "metadata": {
    "scrolled": true
   },
   "outputs": [
    {
     "data": {
      "text/plain": [
       "[0,\n",
       " 0.38972182886367734,\n",
       " 0.6576080840975793,\n",
       " 0.7555765150175561,\n",
       " 0.8229934112097196,\n",
       " 0.8599579155314234,\n",
       " 0.8853494480385171,\n",
       " 0.903503626431409,\n",
       " 0.9170994373345738,\n",
       " 0.9292413189378564,\n",
       " 0.9374939771950982,\n",
       " 0.9443452480551059,\n",
       " 0.9508950827743159,\n",
       " 0.9560344215334864,\n",
       " 0.9608397796783781,\n",
       " 0.9653785412551494,\n",
       " 0.9694695090158729,\n",
       " 0.9729823920312518,\n",
       " 0.9764572521453552,\n",
       " 0.9795190311212859,\n",
       " 0.9819108116949766,\n",
       " 0.9841392427775989,\n",
       " 0.9860524898454136,\n",
       " 0.9876828569607257,\n",
       " 0.9891707643079989,\n",
       " 0.990524093540281,\n",
       " 0.9916781127277183,\n",
       " 0.9926631780169529,\n",
       " 0.9935731581348929,\n",
       " 0.9943223513361757,\n",
       " 0.994998110110412,\n",
       " 0.9956270704436766,\n",
       " 0.9961662940463437,\n",
       " 0.9965600036776783,\n",
       " 0.9969121687278526,\n",
       " 0.9972217907143434,\n",
       " 0.9975145657540592,\n",
       " 0.997770653271419,\n",
       " 0.9979950033941797,\n",
       " 0.998205514336124,\n",
       " 0.9983873217963071,\n",
       " 0.9985475378787954,\n",
       " 0.998695079523576,\n",
       " 0.9988209416387853,\n",
       " 0.9989345268232316,\n",
       " 0.9990445046291497,\n",
       " 0.99914414342269,\n",
       " 0.9992385246080726,\n",
       " 0.9993140693108045,\n",
       " 0.9993841092228303,\n",
       " 0.999449898107564,\n",
       " 0.9995118818262902,\n",
       " 0.9995654685009829,\n",
       " 0.999615459819812,\n",
       " 0.9996598149005398,\n",
       " 0.9996985261906967,\n",
       " 0.9997331391349917,\n",
       " 0.9997636573891453,\n",
       " 0.9997911413783114,\n",
       " 0.999816279146877,\n",
       " 0.9998405129505926,\n",
       " 0.9998605154393555,\n",
       " 0.9998792744492935,\n",
       " 0.9998941916567086,\n",
       " 0.9999084420608225,\n",
       " 0.9999210655734377,\n",
       " 0.9999316613041663,\n",
       " 0.9999407660653279,\n",
       " 0.9999491608775275,\n",
       " 0.9999565384341894,\n",
       " 0.9999629644949656,\n",
       " 0.9999688300724298,\n",
       " 0.9999740999338081,\n",
       " 0.9999783637842901,\n",
       " 0.9999820796868116,\n",
       " 0.9999854214075945,\n",
       " 0.9999882245472418,\n",
       " 0.9999905220364992,\n",
       " 0.9999924849650172,\n",
       " 0.9999942654152725,\n",
       " 0.9999959234833967,\n",
       " 0.999997396398176,\n",
       " 0.9999983984377577,\n",
       " 0.9999992812706864,\n",
       " 0.9999999999999997]"
      ]
     },
     "execution_count": 137,
     "metadata": {},
     "output_type": "execute_result"
    }
   ],
   "source": [
    "explained_var_sums"
   ]
  },
  {
   "cell_type": "code",
   "execution_count": 138,
   "metadata": {
    "scrolled": false
   },
   "outputs": [
    {
     "data": {
      "text/plain": [
       "<AxesSubplot:>"
      ]
     },
     "execution_count": 138,
     "metadata": {},
     "output_type": "execute_result"
    },
    {
     "data": {
      "image/png": "[encoded data removed]",
      "text/plain": [
       "<Figure size 432x288 with 1 Axes>"
      ]
     },
     "metadata": {},
     "output_type": "display_data"
    }
   ],
   "source": [
    "sns.lineplot(x=range(len(explained_var_sums)), y=explained_var_sums)"
   ]
  },
  {
   "cell_type": "markdown",
   "metadata": {},
   "source": [
    "Now, I will cast those list representation values to be numpy arrays so I can preprocess them easily. Further, I will normalize each array."
   ]
  },
  {
   "cell_type": "markdown",
   "metadata": {},
   "source": [
    "*side note: `preprocessing.normalize` vs `standardscaler`*"
   ]
  },
  {
   "cell_type": "code",
   "execution_count": 139,
   "metadata": {},
   "outputs": [
    {
     "data": {
      "text/plain": [
       "array([[0.00999301, 0.99930073, 0.01998601, 0.02997902],\n",
       "       [0.01781459, 0.44536472, 0.89072943, 0.08907294]])"
      ]
     },
     "execution_count": 139,
     "metadata": {},
     "output_type": "execute_result"
    }
   ],
   "source": [
    "preprocessing.normalize(np.array([[1,100,2,3],[2,50,100,10]]))"
   ]
  },
  {
   "cell_type": "code",
   "execution_count": 140,
   "metadata": {},
   "outputs": [
    {
     "data": {
      "text/plain": [
       "array([[-1.41421356,  1.41421356, -1.41421356, -1.41421356],\n",
       "       [ 0.70710678, -0.70710678,  0.70710678,  0.70710678],\n",
       "       [ 0.70710678, -0.70710678,  0.70710678,  0.70710678]])"
      ]
     },
     "execution_count": 140,
     "metadata": {},
     "output_type": "execute_result"
    }
   ],
   "source": [
    "scaler = StandardScaler()\n",
    "scaler.fit_transform(np.array([[1,100,2,3],[2,50,100,10],[2,50,100,10]]))"
   ]
  },
  {
   "cell_type": "markdown",
   "metadata": {},
   "source": [
    "Now I'm thinking, should I *normalize* or *standardize*?"
   ]
  },
  {
   "cell_type": "code",
   "execution_count": 141,
   "metadata": {},
   "outputs": [],
   "source": [
    "# for ns in ns_sr_rep:\n",
    "#     rep = ns_sr_rep[ns]\n",
    "#     ns_sr_rep[ns] = preprocessing.normalize(np.array([rep]))"
   ]
  },
  {
   "cell_type": "markdown",
   "metadata": {},
   "source": [
    "## K-Means\n",
    "\n",
    "Without and with standardization.\n",
    "\n",
    "First, I need to find optimum `k`."
   ]
  },
  {
   "cell_type": "code",
   "execution_count": 142,
   "metadata": {},
   "outputs": [],
   "source": [
    "ns_repr_new = fit1.transform(StandardScaler().fit_transform(np.array(ns_repr))) #fit1 is PCA"
   ]
  },
  {
   "cell_type": "code",
   "execution_count": 143,
   "metadata": {},
   "outputs": [],
   "source": [
    "old_ns_repr_new = ns_repr_new"
   ]
  },
  {
   "cell_type": "code",
   "execution_count": 144,
   "metadata": {},
   "outputs": [],
   "source": [
    "ns_repr_new = [k[:7] for k in ns_repr_new]"
   ]
  },
  {
   "cell_type": "code",
   "execution_count": 145,
   "metadata": {},
   "outputs": [],
   "source": [
    "kmeans = KMeans(init = \"k-means++\",\n",
    "               n_clusters = 5,\n",
    "               n_init = 10,\n",
    "               max_iter = 100)"
   ]
  },
  {
   "cell_type": "markdown",
   "metadata": {},
   "source": [
    "Freezing the list for representations and the news sources."
   ]
  },
  {
   "cell_type": "code",
   "execution_count": 146,
   "metadata": {},
   "outputs": [
    {
     "data": {
      "text/plain": [
       "KMeans(max_iter=100, n_clusters=5)"
      ]
     },
     "execution_count": 146,
     "metadata": {},
     "output_type": "execute_result"
    }
   ],
   "source": [
    "kmeans.fit([v for v in ns_repr_new])"
   ]
  },
  {
   "cell_type": "code",
   "execution_count": 147,
   "metadata": {},
   "outputs": [],
   "source": [
    "ns_fixed = list(ns_sr_rep.keys())"
   ]
  },
  {
   "cell_type": "code",
   "execution_count": 148,
   "metadata": {},
   "outputs": [
    {
     "name": "stdout",
     "output_type": "stream",
     "text": [
      "True\n"
     ]
    }
   ],
   "source": [
    "for i,ns in enumerate(ns_fixed):\n",
    "    if (ns_sr_rep[ns] == ns_repr[i]).all():\n",
    "        pass\n",
    "    else:\n",
    "        print(\"False\")\n",
    "print(\"True\")"
   ]
  },
  {
   "cell_type": "code",
   "execution_count": 149,
   "metadata": {},
   "outputs": [
    {
     "data": {
      "text/plain": [
       "1679.8712156964405"
      ]
     },
     "execution_count": 149,
     "metadata": {},
     "output_type": "execute_result"
    }
   ],
   "source": [
    "kmeans.inertia_"
   ]
  },
  {
   "cell_type": "code",
   "execution_count": 150,
   "metadata": {
    "scrolled": true
   },
   "outputs": [
    {
     "data": {
      "text/plain": [
       "2"
      ]
     },
     "execution_count": 150,
     "metadata": {},
     "output_type": "execute_result"
    }
   ],
   "source": [
    "kmeans.n_iter_"
   ]
  },
  {
   "cell_type": "code",
   "execution_count": 151,
   "metadata": {
    "scrolled": true
   },
   "outputs": [
    {
     "data": {
      "text/plain": [
       "Counter({0: 68, 4: 9, 1: 6, 2: 1, 3: 1})"
      ]
     },
     "execution_count": 151,
     "metadata": {},
     "output_type": "execute_result"
    }
   ],
   "source": [
    "Counter(kmeans.labels_)"
   ]
  },
  {
   "cell_type": "markdown",
   "metadata": {},
   "source": [
    "**Choosing the appropriate number of clusters**"
   ]
  },
  {
   "cell_type": "markdown",
   "metadata": {},
   "source": [
    "1. Elbow method"
   ]
  },
  {
   "cell_type": "code",
   "execution_count": 246,
   "metadata": {},
   "outputs": [],
   "source": [
    "kmeans_kwargs = {\n",
    "    \"init\": \"k-means++\",\n",
    "    \"n_init\": 10,\n",
    "    \"max_iter\": 300,\n",
    "    \"random_state\": 360\n",
    "}"
   ]
  },
  {
   "cell_type": "code",
   "execution_count": 247,
   "metadata": {
    "scrolled": true
   },
   "outputs": [
    {
     "name": "stdout",
     "output_type": "stream",
     "text": [
      "have done 1 rounds, current sse is [52.59393554561735]\n",
      "have done 2 rounds, current sse is [52.59393554561735, 28.147032110618557]\n",
      "have done 3 rounds, current sse is [52.59393554561735, 28.147032110618557, 17.025253062813654]\n",
      "have done 4 rounds, current sse is [52.59393554561735, 28.147032110618557, 17.025253062813654, 14.331209420475236]\n",
      "have done 5 rounds, current sse is [52.59393554561735, 28.147032110618557, 17.025253062813654, 14.331209420475236, 12.424300352720895]\n",
      "have done 6 rounds, current sse is [52.59393554561735, 28.147032110618557, 17.025253062813654, 14.331209420475236, 12.424300352720895, 10.496356101053799]\n",
      "have done 7 rounds, current sse is [52.59393554561735, 28.147032110618557, 17.025253062813654, 14.331209420475236, 12.424300352720895, 10.496356101053799, 9.093742253458005]\n",
      "have done 8 rounds, current sse is [52.59393554561735, 28.147032110618557, 17.025253062813654, 14.331209420475236, 12.424300352720895, 10.496356101053799, 9.093742253458005, 7.835762929099423]\n",
      "have done 9 rounds, current sse is [52.59393554561735, 28.147032110618557, 17.025253062813654, 14.331209420475236, 12.424300352720895, 10.496356101053799, 9.093742253458005, 7.835762929099423, 6.815049874260182]\n"
     ]
    }
   ],
   "source": [
    "sse = []\n",
    "for k in range(1,10):\n",
    "    kmeans = KMeans(n_clusters = k, **kmeans_kwargs)\n",
    "    kmeans.fit(preprocessing.normalize(np.array(ns_repr_new)))\n",
    "    sse.append(kmeans.inertia_)\n",
    "    print(f\"have done {k} rounds, current sse is {sse}\")"
   ]
  },
  {
   "cell_type": "code",
   "execution_count": 259,
   "metadata": {},
   "outputs": [],
   "source": [
    "?plt.legend"
   ]
  },
  {
   "cell_type": "code",
   "execution_count": 262,
   "metadata": {
    "scrolled": true
   },
   "outputs": [
    {
     "data": {
      "text/plain": [
       "<matplotlib.legend.Legend at 0x1da39a7deb0>"
      ]
     },
     "execution_count": 262,
     "metadata": {},
     "output_type": "execute_result"
    },
    {
     "data": {
      "image/png": "[encoded data removed]",
      "text/plain": [
       "<Figure size 432x288 with 1 Axes>"
      ]
     },
     "metadata": {},
     "output_type": "display_data"
    }
   ],
   "source": [
    "plt.plot(range(1,10),sse,\"go-\")\n",
    "plt.title(\"WGSS for different cluster sizes\")\n",
    "plt.xlabel(\"cluster size\")\n",
    "plt.ylabel(\"WGSS\")\n",
    "plt.plot([3,3], [0,55], \"--\")\n",
    "plt.legend([\"WGSS\",\"elbow\"])"
   ]
  },
  {
   "cell_type": "code",
   "execution_count": 156,
   "metadata": {
    "scrolled": true
   },
   "outputs": [
    {
     "data": {
      "text/plain": [
       "[<matplotlib.lines.Line2D at 0x1da3960a9a0>]"
      ]
     },
     "execution_count": 156,
     "metadata": {},
     "output_type": "execute_result"
    },
    {
     "data": {
      "image/png": "[encoded data removed]",
      "text/plain": [
       "<Figure size 432x288 with 1 Axes>"
      ]
     },
     "metadata": {},
     "output_type": "display_data"
    }
   ],
   "source": [
    "plt.plot(range(1,41),sse,\"go-\")"
   ]
  },
  {
   "cell_type": "code",
   "execution_count": 249,
   "metadata": {},
   "outputs": [],
   "source": [
    "kl = KneeLocator(range(1,10), sse, curve=\"convex\", direction=\"decreasing\")"
   ]
  },
  {
   "cell_type": "code",
   "execution_count": 250,
   "metadata": {},
   "outputs": [
    {
     "data": {
      "text/plain": [
       "3"
      ]
     },
     "execution_count": 250,
     "metadata": {},
     "output_type": "execute_result"
    }
   ],
   "source": [
    "kl.elbow"
   ]
  },
  {
   "cell_type": "code",
   "execution_count": 253,
   "metadata": {},
   "outputs": [
    {
     "data": {
      "image/png": "[encoded data removed]",
      "text/plain": [
       "<Figure size 432x432 with 1 Axes>"
      ]
     },
     "metadata": {},
     "output_type": "display_data"
    }
   ],
   "source": [
    "kl.plot_knee()"
   ]
  },
  {
   "cell_type": "markdown",
   "metadata": {},
   "source": [
    "**Using Silhouette Coefficient**"
   ]
  },
  {
   "cell_type": "code",
   "execution_count": 159,
   "metadata": {
    "scrolled": true
   },
   "outputs": [
    {
     "name": "stdout",
     "output_type": "stream",
     "text": [
      "step 2\n",
      "step 3\n",
      "step 4\n",
      "step 5\n",
      "step 6\n",
      "step 7\n",
      "step 8\n",
      "step 9\n",
      "step 10\n",
      "step 11\n",
      "step 12\n",
      "step 13\n",
      "step 14\n",
      "step 15\n",
      "step 16\n",
      "step 17\n",
      "step 18\n",
      "step 19\n",
      "step 20\n",
      "step 21\n",
      "step 22\n",
      "step 23\n",
      "step 24\n",
      "step 25\n",
      "step 26\n",
      "step 27\n",
      "step 28\n",
      "step 29\n"
     ]
    }
   ],
   "source": [
    "sc = []\n",
    "new_sse = []\n",
    "for k in range(2,30):\n",
    "    kmeans = KMeans(n_clusters = k, **kmeans_kwargs)\n",
    "    kmeans.fit(ns_repr_new)\n",
    "    score = silhouette_score(ns_repr_new, kmeans.labels_)\n",
    "    sc.append(score)\n",
    "    new_sse.append(kmeans.inertia_)\n",
    "    print(\"step {}\".format(k))"
   ]
  },
  {
   "cell_type": "code",
   "execution_count": 160,
   "metadata": {
    "scrolled": true
   },
   "outputs": [
    {
     "data": {
      "text/plain": [
       "[<matplotlib.lines.Line2D at 0x1da105cd550>]"
      ]
     },
     "execution_count": 160,
     "metadata": {},
     "output_type": "execute_result"
    },
    {
     "data": {
      "image/png": "[encoded data removed]",
      "text/plain": [
       "<Figure size 432x288 with 1 Axes>"
      ]
     },
     "metadata": {},
     "output_type": "display_data"
    }
   ],
   "source": [
    "# for sse\n",
    "plt.plot(range(2,30), new_sse, \"go-\")"
   ]
  },
  {
   "cell_type": "code",
   "execution_count": 161,
   "metadata": {
    "scrolled": true
   },
   "outputs": [
    {
     "data": {
      "text/plain": [
       "6"
      ]
     },
     "execution_count": 161,
     "metadata": {},
     "output_type": "execute_result"
    }
   ],
   "source": [
    "kl_new = KneeLocator(range(2,30), new_sse, curve=\"convex\", direction=\"decreasing\")\n",
    "kl_new.elbow"
   ]
  },
  {
   "cell_type": "code",
   "execution_count": 162,
   "metadata": {
    "scrolled": true
   },
   "outputs": [
    {
     "data": {
      "text/plain": [
       "[<matplotlib.lines.Line2D at 0x1da0004f310>]"
      ]
     },
     "execution_count": 162,
     "metadata": {},
     "output_type": "execute_result"
    },
    {
     "data": {
      "image/png": "[encoded data removed]",
      "text/plain": [
       "<Figure size 432x288 with 1 Axes>"
      ]
     },
     "metadata": {},
     "output_type": "display_data"
    }
   ],
   "source": [
    "# for silhouette coefficient\n",
    "plt.plot(range(2,30), sc, \"bo-\")"
   ]
  },
  {
   "cell_type": "code",
   "execution_count": 163,
   "metadata": {
    "scrolled": true
   },
   "outputs": [
    {
     "data": {
      "text/plain": [
       "[<matplotlib.lines.Line2D at 0x1da5f71a970>]"
      ]
     },
     "execution_count": 163,
     "metadata": {},
     "output_type": "execute_result"
    },
    {
     "data": {
      "image/png": "[encoded data removed]",
      "text/plain": [
       "<Figure size 432x288 with 1 Axes>"
      ]
     },
     "metadata": {},
     "output_type": "display_data"
    }
   ],
   "source": [
    "\n",
    "\n",
    "spl = make_interp_spline(range(2,30), sc, k=3)  # type: BSpline\n",
    "\n",
    "xs = np.linspace(2, 30, 6)\n",
    "ys = spl(xs)\n",
    "\n",
    "plt.plot(range(2,30), sc, \"go--\")\n",
    "plt.plot(xs, ys, \"b-\")"
   ]
  },
  {
   "cell_type": "markdown",
   "metadata": {},
   "source": [
    "Let's choose k = 10"
   ]
  },
  {
   "cell_type": "code",
   "execution_count": 295,
   "metadata": {
    "scrolled": true
   },
   "outputs": [
    {
     "data": {
      "text/plain": [
       "KMeans(max_iter=500, n_clusters=3, n_init=50, random_state=360)"
      ]
     },
     "execution_count": 295,
     "metadata": {},
     "output_type": "execute_result"
    }
   ],
   "source": [
    "kmeans = KMeans(n_clusters = 3, init=\"k-means++\", n_init = 50, max_iter = 500, random_state = 360)\n",
    "kmeans.fit(preprocessing.normalize(np.array(ns_repr_new)))\n",
    "# kmeans.fit(StandardScaler().fit_transform(np.array(ns_repr_new)))"
   ]
  },
  {
   "cell_type": "code",
   "execution_count": 296,
   "metadata": {},
   "outputs": [
    {
     "data": {
      "text/plain": [
       "array([2, 1, 2, 2, 2, 1, 2, 2, 2, 0, 2, 1, 0, 2, 2, 2, 2, 2, 2, 2, 1, 2,\n",
       "       2, 2, 2, 0, 2, 2, 2, 2, 2, 2, 2, 2, 2, 2, 2, 1, 2, 2, 2, 0, 2, 2,\n",
       "       2, 2, 1, 0, 1, 2, 2, 2, 2, 2, 2, 0, 0, 1, 1, 2, 0, 2, 2, 2, 2, 2,\n",
       "       2, 0, 2, 2, 0, 2, 2, 2, 1, 2, 2, 2, 1, 2, 2, 2, 2, 0, 2])"
      ]
     },
     "execution_count": 296,
     "metadata": {},
     "output_type": "execute_result"
    }
   ],
   "source": [
    "kmeans.labels_"
   ]
  },
  {
   "cell_type": "code",
   "execution_count": 297,
   "metadata": {
    "scrolled": true
   },
   "outputs": [
    {
     "data": {
      "text/plain": [
       "{0, 1, 2}"
      ]
     },
     "execution_count": 297,
     "metadata": {},
     "output_type": "execute_result"
    }
   ],
   "source": [
    "set(kmeans.labels_)"
   ]
  },
  {
   "cell_type": "code",
   "execution_count": 298,
   "metadata": {},
   "outputs": [
    {
     "data": {
      "text/plain": [
       "Counter({2: 63, 1: 11, 0: 11})"
      ]
     },
     "execution_count": 298,
     "metadata": {},
     "output_type": "execute_result"
    }
   ],
   "source": [
    "Counter(kmeans.labels_)"
   ]
  },
  {
   "cell_type": "markdown",
   "metadata": {},
   "source": [
    "**Let's investigate each cluster**"
   ]
  },
  {
   "cell_type": "code",
   "execution_count": 299,
   "metadata": {},
   "outputs": [
    {
     "data": {
      "text/plain": [
       "85"
      ]
     },
     "execution_count": 299,
     "metadata": {},
     "output_type": "execute_result"
    }
   ],
   "source": [
    "len(ns_sr_rep)"
   ]
  },
  {
   "cell_type": "code",
   "execution_count": 312,
   "metadata": {},
   "outputs": [
    {
     "data": {
      "text/plain": [
       "85"
      ]
     },
     "execution_count": 312,
     "metadata": {},
     "output_type": "execute_result"
    }
   ],
   "source": [
    "len(kmeans.labels_)"
   ]
  },
  {
   "cell_type": "code",
   "execution_count": 313,
   "metadata": {},
   "outputs": [],
   "source": [
    "clustered = defaultdict(list)\n",
    "for idx,ns in enumerate(non_outlier):\n",
    "    c = kmeans.labels_[idx]\n",
    "    clustered[c].append(ns)"
   ]
  },
  {
   "cell_type": "code",
   "execution_count": 314,
   "metadata": {
    "scrolled": false
   },
   "outputs": [
    {
     "name": "stdout",
     "output_type": "stream",
     "text": [
      "[11, 11, 63, 0, 0]\n"
     ]
    }
   ],
   "source": [
    "print([len(clustered[i]) for i in range(5)])"
   ]
  },
  {
   "cell_type": "markdown",
   "metadata": {},
   "source": [
    "Let's see in terms of percentage"
   ]
  },
  {
   "cell_type": "code",
   "execution_count": 304,
   "metadata": {},
   "outputs": [],
   "source": [
    "cluster_lens = [len(clustered[i]) for i in range(10)]"
   ]
  },
  {
   "cell_type": "code",
   "execution_count": 305,
   "metadata": {},
   "outputs": [
    {
     "name": "stdout",
     "output_type": "stream",
     "text": [
      "[12.94, 12.94, 74.12, 0.0, 0.0, 0.0, 0.0, 0.0, 0.0, 0.0]\n"
     ]
    }
   ],
   "source": [
    "print([round(k*100/sum(cluster_lens),2) for k in cluster_lens])"
   ]
  },
  {
   "cell_type": "markdown",
   "metadata": {},
   "source": [
    " **could do iterative clusters for ^**"
   ]
  },
  {
   "cell_type": "code",
   "execution_count": 306,
   "metadata": {},
   "outputs": [
    {
     "data": {
      "text/plain": [
       "['theathletic.com',\n",
       " 'bbc.co.uk',\n",
       " 'skysports.com',\n",
       " 'independent.co.uk',\n",
       " 'mirror.co.uk',\n",
       " 'telegraph.co.uk',\n",
       " 'theguardian.com',\n",
       " 'thetimes.co.uk',\n",
       " 'premierleague.com',\n",
       " 'dailymail.co.uk',\n",
       " 'bbc.com']"
      ]
     },
     "execution_count": 306,
     "metadata": {},
     "output_type": "execute_result"
    }
   ],
   "source": [
    "clustered[1]"
   ]
  },
  {
   "cell_type": "code",
   "execution_count": 307,
   "metadata": {},
   "outputs": [],
   "source": [
    "# sports_cluster = dict()\n",
    "# for ii in range(3):\n",
    "#     for n in clustered[ii]:\n",
    "#         sports_cluster[n] = ii\n",
    "# json.dump(sports_cluster, open(\"sports_cluster.json\", \"w\", encoding=\"utf-8\"))"
   ]
  },
  {
   "cell_type": "markdown",
   "metadata": {},
   "source": [
    "# Agglomerative (Hierarchical) Clustering"
   ]
  },
  {
   "cell_type": "code",
   "execution_count": null,
   "metadata": {},
   "outputs": [],
   "source": []
  },
  {
   "cell_type": "code",
   "execution_count": 271,
   "metadata": {},
   "outputs": [],
   "source": [
    "hclustering = AgglomerativeClustering(n_clusters=3)"
   ]
  },
  {
   "cell_type": "code",
   "execution_count": 272,
   "metadata": {},
   "outputs": [
    {
     "data": {
      "text/plain": [
       "AgglomerativeClustering(n_clusters=3)"
      ]
     },
     "execution_count": 272,
     "metadata": {},
     "output_type": "execute_result"
    }
   ],
   "source": [
    "hclustering.fit(preprocessing.normalize(np.array(ns_repr_new)))"
   ]
  },
  {
   "cell_type": "code",
   "execution_count": 273,
   "metadata": {},
   "outputs": [
    {
     "data": {
      "text/plain": [
       "array([0, 0, 0, 0, 0, 2, 0, 0, 0, 1, 0, 2, 1, 0, 0, 0, 0, 0, 0, 0, 0, 0,\n",
       "       0, 0, 0, 0, 0, 0, 0, 0, 0, 0, 0, 0, 0, 0, 0, 2, 0, 0, 0, 1, 0, 0,\n",
       "       0, 0, 2, 1, 2, 0, 0, 0, 0, 0, 0, 1, 1, 2, 2, 0, 1, 0, 0, 0, 0, 0,\n",
       "       0, 1, 0, 0, 1, 0, 0, 0, 2, 0, 0, 0, 2, 0, 0, 0, 0, 1, 0],\n",
       "      dtype=int64)"
      ]
     },
     "execution_count": 273,
     "metadata": {},
     "output_type": "execute_result"
    }
   ],
   "source": [
    "hclustering.labels_"
   ]
  },
  {
   "cell_type": "code",
   "execution_count": 274,
   "metadata": {},
   "outputs": [],
   "source": [
    "hier_clustered = defaultdict(list)\n",
    "for idx,ns in enumerate(non_outlier):\n",
    "    c = hclustering.labels_[idx]\n",
    "    hier_clustered[c].append(ns)"
   ]
  },
  {
   "cell_type": "code",
   "execution_count": 275,
   "metadata": {
    "scrolled": false
   },
   "outputs": [
    {
     "name": "stdout",
     "output_type": "stream",
     "text": [
      "[66, 10, 9, 0, 0]\n"
     ]
    }
   ],
   "source": [
    "print([len(hier_clustered[i]) for i in range(5)])"
   ]
  },
  {
   "cell_type": "markdown",
   "metadata": {},
   "source": [
    "Let's see in terms of percentage"
   ]
  },
  {
   "cell_type": "code",
   "execution_count": 279,
   "metadata": {},
   "outputs": [],
   "source": [
    "hcluster_lens = [len(hier_clustered[i]) for i in range(3)]"
   ]
  },
  {
   "cell_type": "code",
   "execution_count": 280,
   "metadata": {},
   "outputs": [
    {
     "name": "stdout",
     "output_type": "stream",
     "text": [
      "[77.65, 11.76, 10.59]\n"
     ]
    }
   ],
   "source": [
    "print([round(k*100/sum(hcluster_lens),2) for k in hcluster_lens])"
   ]
  },
  {
   "cell_type": "code",
   "execution_count": 281,
   "metadata": {
    "scrolled": true
   },
   "outputs": [
    {
     "data": {
      "text/plain": [
       "['nfl.com',\n",
       " 'pff.com',\n",
       " 'nbcsports.com',\n",
       " 'usatoday.com',\n",
       " 'bleacherreport.com',\n",
       " 'espn.com',\n",
       " 'cbssports.com',\n",
       " 'thedraftnetwork.com',\n",
       " 'profootballnetwork.com',\n",
       " 'si.com']"
      ]
     },
     "execution_count": 281,
     "metadata": {},
     "output_type": "execute_result"
    }
   ],
   "source": [
    "hier_clustered[1]"
   ]
  },
  {
   "cell_type": "markdown",
   "metadata": {},
   "source": [
    "## Using scipy"
   ]
  },
  {
   "cell_type": "code",
   "execution_count": 199,
   "metadata": {},
   "outputs": [
    {
     "data": {
      "image/png": "[encoded data removed]",
      "text/plain": [
       "<Figure size 1440x504 with 1 Axes>"
      ]
     },
     "metadata": {},
     "output_type": "display_data"
    }
   ],
   "source": [
    "import scipy.cluster.hierarchy as shc\n",
    "\n",
    "plt.figure(figsize=(20, 7))\n",
    "plt.title(\"Sport News Dendograms\")\n",
    "dend = shc.dendrogram(shc.linkage(preprocessing.normalize(np.array(ns_repr_new)), method='average'),\n",
    "# dend = shc.dendrogram(shc.linkage(StandardScaler().fit_transform(np.array(ns_repr_new)), method='weighted'),\n",
    "                     labels = list(ns_sr_rep.keys()),\n",
    "                     leaf_font_size = 15,\n",
    "                     leaf_rotation = 85)"
   ]
  },
  {
   "cell_type": "code",
   "execution_count": 185,
   "metadata": {},
   "outputs": [
    {
     "data": {
      "text/plain": [
       "True"
      ]
     },
     "execution_count": 185,
     "metadata": {},
     "output_type": "execute_result"
    }
   ],
   "source": [
    "\"foxnews.com\" in ns_union"
   ]
  },
  {
   "cell_type": "markdown",
   "metadata": {},
   "source": [
    "## Visualizing 2D PCA"
   ]
  },
  {
   "cell_type": "markdown",
   "metadata": {},
   "source": [
    "With t-SNE"
   ]
  },
  {
   "cell_type": "code",
   "execution_count": 263,
   "metadata": {},
   "outputs": [],
   "source": [
    "from sklearn.manifold import TSNE\n",
    "from datetime import datetime\n",
    "\n",
    "tsne = TSNE(n_components = 3, perplexity=50)"
   ]
  },
  {
   "cell_type": "code",
   "execution_count": 264,
   "metadata": {
    "scrolled": true
   },
   "outputs": [
    {
     "name": "stdout",
     "output_type": "stream",
     "text": [
      "2022-04-15 17:23:07.863674\n",
      "2022-04-15 17:23:08.362287\n"
     ]
    }
   ],
   "source": [
    "print(datetime.now())\n",
    "threed = tsne.fit_transform(preprocessing.normalize(np.array(ns_repr_new)))\n",
    "print(datetime.now())"
   ]
  },
  {
   "cell_type": "code",
   "execution_count": 269,
   "metadata": {},
   "outputs": [],
   "source": [
    "xs = [k[0] for k in preprocessing.normalize(np.array(ns_repr_new))]\n",
    "ys = [k[1] for k in preprocessing.normalize(np.array(ns_repr_new))]\n",
    "zs = [k[2] for k in preprocessing.normalize(np.array(ns_repr_new))]"
   ]
  },
  {
   "cell_type": "code",
   "execution_count": 270,
   "metadata": {},
   "outputs": [
    {
     "data": {
      "application/vnd.plotly.v1+json": {
       "config": {
        "plotlyServerURL": "https://plot.ly"
       },
       "data": [
        {
         "hovertemplate": "<b>%{hovertext}</b><br><br>pc1=%{x}<br>pc2=%{y}<br>pc3=%{z}<extra></extra>",
         "hovertext": [
          "sbnation.com",
          "theathletic.com",
          "nydailynews.com",
          "sportingnews.com",
          "apnews.com",
          "bbc.co.uk",
          "yardbarker.com",
          "hoopsrumors.com",
          "cbslocal.com",
          "nfl.com",
          "deadspin.com",
          "skysports.com",
          "pff.com",
          "foxnews.com",
          "247sports.com",
          "clutchpoints.com",
          "theonion.com",
          "radio.com",
          "realgm.com",
          "thespun.com",
          "independent.co.uk",
          "fansided.com",
          "nypost.com",
          "theringer.com",
          "prosportsextra.com",
          "nba.com",
          "washingtonpost.com",
          "msn.com",
          "thebiglead.com",
          "thescore.com",
          "inquirer.com",
          "theundefeated.com",
          "slamonline.com",
          "gq.com",
          "dailysnark.com",
          "inquisitr.com",
          "dailymotion.com",
          "mirror.co.uk",
          "givemesport.com",
          "fadeawayworld.net",
          "tmz.com",
          "nbcsports.com",
          "sportsnet.ca",
          "forbes.com",
          "latimes.com",
          "nbaanalysis.net",
          "telegraph.co.uk",
          "usatoday.com",
          "theguardian.com",
          "freep.com",
          "foxsports.com",
          "iheart.com",
          "heavy.com",
          "nytimes.com",
          "nesn.com",
          "bleacherreport.com",
          "espn.com",
          "thetimes.co.uk",
          "premierleague.com",
          "nj.com",
          "cbssports.com",
          "fivethirtyeight.com",
          "espn.co.uk",
          "rotoballer.com",
          "uproxx.com",
          "cbsnews.com",
          "draftkings.com",
          "thedraftnetwork.com",
          "cleveland.com",
          "sportwitness.co.uk",
          "profootballnetwork.com",
          "cnn.com",
          "theplayerstribune.com",
          "sportsnaut.com",
          "dailymail.co.uk",
          "bolavip.com",
          "sportskeeda.com",
          "fantasyalarm.com",
          "bbc.com",
          "wsj.com",
          "football365.com",
          "hoopshype.com",
          "sportscasting.com",
          "si.com",
          "indystar.com"
         ],
         "legendgroup": "",
         "marker": {
          "color": "#636efa",
          "opacity": 0.4,
          "symbol": "circle"
         },
         "mode": "markers",
         "name": "",
         "scene": "scene",
         "showlegend": false,
         "type": "scatter3d",
         "x": [
          -0.9216923615740182,
          0.2704085982888453,
          -0.8827998808716391,
          -0.8851751779271293,
          -0.8906899203801516,
          -0.23194049000653144,
          -0.8779704921165575,
          -0.8631312162136158,
          -0.8102951283691926,
          0.5256635516839818,
          -0.8677658321067326,
          -0.26287349702782253,
          0.5155824174856429,
          -0.8857271393297292,
          -0.6257309604578485,
          -0.786188355369168,
          -0.8732091759708533,
          -0.5135074587616225,
          -0.8447547577709162,
          -0.8809578992916798,
          -0.8439267362272711,
          -0.6685294845040279,
          -0.35038664883692144,
          -0.0830292492996727,
          -0.5558949842486516,
          0.5675101330623222,
          -0.8775776863460619,
          -0.8360570038257061,
          -0.8971143961997623,
          -0.740843807162938,
          -0.7132320427720041,
          -0.8632530701915504,
          -0.8830392089998359,
          -0.8890408546976164,
          -0.9001606203493983,
          -0.8815218261769853,
          -0.9148557101396193,
          -0.6254492161934294,
          -0.9567190938234338,
          -0.8697313434391597,
          -0.7565505971138424,
          0.6245798524158688,
          -0.697473792383919,
          -0.8947238948795094,
          -0.8429242107229413,
          -0.84715701626202,
          -0.2868892339379401,
          0.6369018046139376,
          -0.19755940188824436,
          -0.6112189842376569,
          -0.7566647508540689,
          -0.8879807244213563,
          -0.8476552447386617,
          -0.8269782826529991,
          -0.7501850842484077,
          0.7993898777340358,
          0.8549213638614523,
          -0.5109967755303079,
          -0.43913071579955826,
          -0.6829550072377827,
          0.7426354251059498,
          -0.7244052981675928,
          -0.9301097105497925,
          -0.8961932194912702,
          -0.8824934479233139,
          -0.8978372243690701,
          -0.8935860724096432,
          0.07332316969788091,
          -0.3790909140944698,
          -0.9556526016571257,
          0.07721212747710696,
          -0.8893912246510163,
          -0.8404500943285896,
          -0.8880925767191583,
          -0.4249107679504169,
          -0.8491843834520657,
          -0.8959953091872033,
          -0.8946773328867281,
          -0.46750122046089065,
          -0.901392239969134,
          -0.9310069158737511,
          -0.7905350452743105,
          -0.8795105726659985,
          0.7334769792057673,
          -0.8608885177500568
         ],
         "y": [
          0.22541020784930518,
          -0.053558607675257906,
          0.2296460503395678,
          0.14067641003706613,
          0.16519138693788796,
          0.05866790259112064,
          0.1864853849684293,
          0.3049005755315962,
          -0.026972814190221933,
          -0.5474392354999397,
          0.2109518519268677,
          0.0679366686540213,
          -0.6714491741926129,
          0.1343581297979824,
          -0.31016486131839244,
          0.3365110997533782,
          0.18022932578679907,
          -0.24390359214063909,
          0.360643234209986,
          0.14334967361186746,
          0.20635735126647445,
          -0.08576745125555167,
          -0.3441033698851183,
          0.5281474397703789,
          -0.19548401089388787,
          0.8074418926794429,
          0.1769618703049344,
          -0.014530516673383488,
          0.18380570236718777,
          -0.05534227259176832,
          0.1379371579980546,
          0.2875865934351724,
          0.26409121026889815,
          0.2394102739855368,
          0.16535775139311273,
          0.26589797820882505,
          0.227426869660458,
          0.15966089258360125,
          0.24602361328750477,
          0.28864013950954864,
          -0.08868145071779214,
          -0.45756468647799475,
          0.5796681948343971,
          0.23570599360376115,
          0.18621402351890198,
          0.32737847308751644,
          0.07262498052762538,
          -0.5653773239458874,
          0.041946266322171695,
          0.11098357978405914,
          0.21261671247992378,
          0.1545686006663256,
          0.12327611024820613,
          0.2776810983301418,
          0.0636126674017756,
          -0.4369778543041116,
          -0.14677316035185886,
          0.12130095486644893,
          0.11158004832792848,
          -0.18850508735848542,
          -0.5513831703423773,
          0.44264489252503064,
          0.24301331155676792,
          0.18703538009296009,
          0.2606479457389387,
          0.21228125087401756,
          0.22757129655995675,
          -0.6685956454622088,
          0.28160145079494486,
          0.24475585284089832,
          -0.7722178083259716,
          0.22096099601884145,
          0.04331724638248782,
          0.2245846118921955,
          0.10765105296580327,
          0.4124303217773021,
          0.2321005895199305,
          0.14153563182523668,
          0.11371174944366193,
          0.23818555550544623,
          0.23908866704278225,
          0.41698949374517863,
          0.19264817428106998,
          -0.5520281201858755,
          0.15902725280357785
         ],
         "z": [
          0.3036767833911521,
          0.4573351159386075,
          -0.07849641716256112,
          -0.15569007111420566,
          -0.13331059067438814,
          0.6178719130010035,
          -0.13223740874410347,
          -0.048709384375419426,
          -0.32273784593065613,
          -0.3181836811864721,
          -0.08133439193997913,
          0.5909593793940743,
          -0.41207603601845605,
          -0.13280916142205346,
          -0.4796607296972281,
          -0.058743634923233055,
          -0.13147592718279294,
          -0.4533498173557946,
          -0.10378696015646606,
          -0.1482869540557699,
          0.3299252129837653,
          -0.26543733908776906,
          -0.4739338324960531,
          0.1237875122221706,
          -0.3983884653253364,
          -0.14934712565916775,
          -0.1420038747797774,
          -0.22322364350880583,
          -0.1115479949084013,
          -0.22756192715125623,
          -0.2906076428217194,
          -0.06541832626419819,
          -0.07191370637472821,
          -0.0900676765318287,
          -0.13710624943895466,
          -0.07185283164976904,
          -0.03765709355929256,
          0.443532149870348,
          0.15066026482539782,
          -0.05567790519083301,
          -0.22533498734677507,
          -0.30680674168086236,
          -0.10549947066816087,
          -0.0900265269589134,
          -0.21114933563027183,
          -0.034075757104418306,
          0.6414155421886433,
          -0.3005003205204931,
          0.5768437800296318,
          0.005477338248511786,
          -0.22666352267098216,
          -0.13694738872805057,
          -0.19840448338142339,
          0.14806333653917736,
          -0.1884260536488557,
          -0.2492992691985061,
          0.4327574763680886,
          0.43074568997941654,
          0.5414431568570306,
          -0.38970841742615314,
          -0.25702581271850145,
          0.2640962322179475,
          0.006500476055693372,
          -0.10889682034756787,
          -0.06922422841003703,
          -0.0916104010987409,
          -0.0816246827900272,
          -0.5533592075835859,
          -0.16004566097177578,
          0.12729277560994373,
          -0.47699874696234823,
          -0.0696317783856338,
          -0.17338813448003731,
          -0.08217939301652995,
          0.5883814686252093,
          0.07636020916095906,
          -0.0600588024667244,
          -0.1443104136852267,
          0.5088842933086432,
          -0.045864208471759,
          0.25155733674207165,
          -0.05364400103029381,
          -0.0801728737401536,
          -0.28496809299183606,
          -0.23421470007293368
         ]
        }
       ],
       "layout": {
        "legend": {
         "tracegroupgap": 0
        },
        "margin": {
         "t": 60
        },
        "scene": {
         "domain": {
          "x": [
           0,
           1
          ],
          "y": [
           0,
           1
          ]
         },
         "xaxis": {
          "title": {
           "text": "pc1"
          }
         },
         "yaxis": {
          "title": {
           "text": "pc2"
          }
         },
         "zaxis": {
          "title": {
           "text": "pc3"
          }
         }
        },
        "template": {
         "data": {
          "bar": [
           {
            "error_x": {
             "color": "#2a3f5f"
            },
            "error_y": {
             "color": "#2a3f5f"
            },
            "marker": {
             "line": {
              "color": "#E5ECF6",
              "width": 0.5
             },
             "pattern": {
              "fillmode": "overlay",
              "size": 10,
              "solidity": 0.2
             }
            },
            "type": "bar"
           }
          ],
          "barpolar": [
           {
            "marker": {
             "line": {
              "color": "#E5ECF6",
              "width": 0.5
             },
             "pattern": {
              "fillmode": "overlay",
              "size": 10,
              "solidity": 0.2
             }
            },
            "type": "barpolar"
           }
          ],
          "carpet": [
           {
            "aaxis": {
             "endlinecolor": "#2a3f5f",
             "gridcolor": "white",
             "linecolor": "white",
             "minorgridcolor": "white",
             "startlinecolor": "#2a3f5f"
            },
            "baxis": {
             "endlinecolor": "#2a3f5f",
             "gridcolor": "white",
             "linecolor": "white",
             "minorgridcolor": "white",
             "startlinecolor": "#2a3f5f"
            },
            "type": "carpet"
           }
          ],
          "choropleth": [
           {
            "colorbar": {
             "outlinewidth": 0,
             "ticks": ""
            },
            "type": "choropleth"
           }
          ],
          "contour": [
           {
            "colorbar": {
             "outlinewidth": 0,
             "ticks": ""
            },
            "colorscale": [
             [
              0,
              "#0d0887"
             ],
             [
              0.1111111111111111,
              "#46039f"
             ],
             [
              0.2222222222222222,
              "#7201a8"
             ],
             [
              0.3333333333333333,
              "#9c179e"
             ],
             [
              0.4444444444444444,
              "#bd3786"
             ],
             [
              0.5555555555555556,
              "#d8576b"
             ],
             [
              0.6666666666666666,
              "#ed7953"
             ],
             [
              0.7777777777777778,
              "#fb9f3a"
             ],
             [
              0.8888888888888888,
              "#fdca26"
             ],
             [
              1,
              "#f0f921"
             ]
            ],
            "type": "contour"
           }
          ],
          "contourcarpet": [
           {
            "colorbar": {
             "outlinewidth": 0,
             "ticks": ""
            },
            "type": "contourcarpet"
           }
          ],
          "heatmap": [
           {
            "colorbar": {
             "outlinewidth": 0,
             "ticks": ""
            },
            "colorscale": [
             [
              0,
              "#0d0887"
             ],
             [
              0.1111111111111111,
              "#46039f"
             ],
             [
              0.2222222222222222,
              "#7201a8"
             ],
             [
              0.3333333333333333,
              "#9c179e"
             ],
             [
              0.4444444444444444,
              "#bd3786"
             ],
             [
              0.5555555555555556,
              "#d8576b"
             ],
             [
              0.6666666666666666,
              "#ed7953"
             ],
             [
              0.7777777777777778,
              "#fb9f3a"
             ],
             [
              0.8888888888888888,
              "#fdca26"
             ],
             [
              1,
              "#f0f921"
             ]
            ],
            "type": "heatmap"
           }
          ],
          "heatmapgl": [
           {
            "colorbar": {
             "outlinewidth": 0,
             "ticks": ""
            },
            "colorscale": [
             [
              0,
              "#0d0887"
             ],
             [
              0.1111111111111111,
              "#46039f"
             ],
             [
              0.2222222222222222,
              "#7201a8"
             ],
             [
              0.3333333333333333,
              "#9c179e"
             ],
             [
              0.4444444444444444,
              "#bd3786"
             ],
             [
              0.5555555555555556,
              "#d8576b"
             ],
             [
              0.6666666666666666,
              "#ed7953"
             ],
             [
              0.7777777777777778,
              "#fb9f3a"
             ],
             [
              0.8888888888888888,
              "#fdca26"
             ],
             [
              1,
              "#f0f921"
             ]
            ],
            "type": "heatmapgl"
           }
          ],
          "histogram": [
           {
            "marker": {
             "pattern": {
              "fillmode": "overlay",
              "size": 10,
              "solidity": 0.2
             }
            },
            "type": "histogram"
           }
          ],
          "histogram2d": [
           {
            "colorbar": {
             "outlinewidth": 0,
             "ticks": ""
            },
            "colorscale": [
             [
              0,
              "#0d0887"
             ],
             [
              0.1111111111111111,
              "#46039f"
             ],
             [
              0.2222222222222222,
              "#7201a8"
             ],
             [
              0.3333333333333333,
              "#9c179e"
             ],
             [
              0.4444444444444444,
              "#bd3786"
             ],
             [
              0.5555555555555556,
              "#d8576b"
             ],
             [
              0.6666666666666666,
              "#ed7953"
             ],
             [
              0.7777777777777778,
              "#fb9f3a"
             ],
             [
              0.8888888888888888,
              "#fdca26"
             ],
             [
              1,
              "#f0f921"
             ]
            ],
            "type": "histogram2d"
           }
          ],
          "histogram2dcontour": [
           {
            "colorbar": {
             "outlinewidth": 0,
             "ticks": ""
            },
            "colorscale": [
             [
              0,
              "#0d0887"
             ],
             [
              0.1111111111111111,
              "#46039f"
             ],
             [
              0.2222222222222222,
              "#7201a8"
             ],
             [
              0.3333333333333333,
              "#9c179e"
             ],
             [
              0.4444444444444444,
              "#bd3786"
             ],
             [
              0.5555555555555556,
              "#d8576b"
             ],
             [
              0.6666666666666666,
              "#ed7953"
             ],
             [
              0.7777777777777778,
              "#fb9f3a"
             ],
             [
              0.8888888888888888,
              "#fdca26"
             ],
             [
              1,
              "#f0f921"
             ]
            ],
            "type": "histogram2dcontour"
           }
          ],
          "mesh3d": [
           {
            "colorbar": {
             "outlinewidth": 0,
             "ticks": ""
            },
            "type": "mesh3d"
           }
          ],
          "parcoords": [
           {
            "line": {
             "colorbar": {
              "outlinewidth": 0,
              "ticks": ""
             }
            },
            "type": "parcoords"
           }
          ],
          "pie": [
           {
            "automargin": true,
            "type": "pie"
           }
          ],
          "scatter": [
           {
            "marker": {
             "colorbar": {
              "outlinewidth": 0,
              "ticks": ""
             }
            },
            "type": "scatter"
           }
          ],
          "scatter3d": [
           {
            "line": {
             "colorbar": {
              "outlinewidth": 0,
              "ticks": ""
             }
            },
            "marker": {
             "colorbar": {
              "outlinewidth": 0,
              "ticks": ""
             }
            },
            "type": "scatter3d"
           }
          ],
          "scattercarpet": [
           {
            "marker": {
             "colorbar": {
              "outlinewidth": 0,
              "ticks": ""
             }
            },
            "type": "scattercarpet"
           }
          ],
          "scattergeo": [
           {
            "marker": {
             "colorbar": {
              "outlinewidth": 0,
              "ticks": ""
             }
            },
            "type": "scattergeo"
           }
          ],
          "scattergl": [
           {
            "marker": {
             "colorbar": {
              "outlinewidth": 0,
              "ticks": ""
             }
            },
            "type": "scattergl"
           }
          ],
          "scattermapbox": [
           {
            "marker": {
             "colorbar": {
              "outlinewidth": 0,
              "ticks": ""
             }
            },
            "type": "scattermapbox"
           }
          ],
          "scatterpolar": [
           {
            "marker": {
             "colorbar": {
              "outlinewidth": 0,
              "ticks": ""
             }
            },
            "type": "scatterpolar"
           }
          ],
          "scatterpolargl": [
           {
            "marker": {
             "colorbar": {
              "outlinewidth": 0,
              "ticks": ""
             }
            },
            "type": "scatterpolargl"
           }
          ],
          "scatterternary": [
           {
            "marker": {
             "colorbar": {
              "outlinewidth": 0,
              "ticks": ""
             }
            },
            "type": "scatterternary"
           }
          ],
          "surface": [
           {
            "colorbar": {
             "outlinewidth": 0,
             "ticks": ""
            },
            "colorscale": [
             [
              0,
              "#0d0887"
             ],
             [
              0.1111111111111111,
              "#46039f"
             ],
             [
              0.2222222222222222,
              "#7201a8"
             ],
             [
              0.3333333333333333,
              "#9c179e"
             ],
             [
              0.4444444444444444,
              "#bd3786"
             ],
             [
              0.5555555555555556,
              "#d8576b"
             ],
             [
              0.6666666666666666,
              "#ed7953"
             ],
             [
              0.7777777777777778,
              "#fb9f3a"
             ],
             [
              0.8888888888888888,
              "#fdca26"
             ],
             [
              1,
              "#f0f921"
             ]
            ],
            "type": "surface"
           }
          ],
          "table": [
           {
            "cells": {
             "fill": {
              "color": "#EBF0F8"
             },
             "line": {
              "color": "white"
             }
            },
            "header": {
             "fill": {
              "color": "#C8D4E3"
             },
             "line": {
              "color": "white"
             }
            },
            "type": "table"
           }
          ]
         },
         "layout": {
          "annotationdefaults": {
           "arrowcolor": "#2a3f5f",
           "arrowhead": 0,
           "arrowwidth": 1
          },
          "autotypenumbers": "strict",
          "coloraxis": {
           "colorbar": {
            "outlinewidth": 0,
            "ticks": ""
           }
          },
          "colorscale": {
           "diverging": [
            [
             0,
             "#8e0152"
            ],
            [
             0.1,
             "#c51b7d"
            ],
            [
             0.2,
             "#de77ae"
            ],
            [
             0.3,
             "#f1b6da"
            ],
            [
             0.4,
             "#fde0ef"
            ],
            [
             0.5,
             "#f7f7f7"
            ],
            [
             0.6,
             "#e6f5d0"
            ],
            [
             0.7,
             "#b8e186"
            ],
            [
             0.8,
             "#7fbc41"
            ],
            [
             0.9,
             "#4d9221"
            ],
            [
             1,
             "#276419"
            ]
           ],
           "sequential": [
            [
             0,
             "#0d0887"
            ],
            [
             0.1111111111111111,
             "#46039f"
            ],
            [
             0.2222222222222222,
             "#7201a8"
            ],
            [
             0.3333333333333333,
             "#9c179e"
            ],
            [
             0.4444444444444444,
             "#bd3786"
            ],
            [
             0.5555555555555556,
             "#d8576b"
            ],
            [
             0.6666666666666666,
             "#ed7953"
            ],
            [
             0.7777777777777778,
             "#fb9f3a"
            ],
            [
             0.8888888888888888,
             "#fdca26"
            ],
            [
             1,
             "#f0f921"
            ]
           ],
           "sequentialminus": [
            [
             0,
             "#0d0887"
            ],
            [
             0.1111111111111111,
             "#46039f"
            ],
            [
             0.2222222222222222,
             "#7201a8"
            ],
            [
             0.3333333333333333,
             "#9c179e"
            ],
            [
             0.4444444444444444,
             "#bd3786"
            ],
            [
             0.5555555555555556,
             "#d8576b"
            ],
            [
             0.6666666666666666,
             "#ed7953"
            ],
            [
             0.7777777777777778,
             "#fb9f3a"
            ],
            [
             0.8888888888888888,
             "#fdca26"
            ],
            [
             1,
             "#f0f921"
            ]
           ]
          },
          "colorway": [
           "#636efa",
           "#EF553B",
           "#00cc96",
           "#ab63fa",
           "#FFA15A",
           "#19d3f3",
           "#FF6692",
           "#B6E880",
           "#FF97FF",
           "#FECB52"
          ],
          "font": {
           "color": "#2a3f5f"
          },
          "geo": {
           "bgcolor": "white",
           "lakecolor": "white",
           "landcolor": "#E5ECF6",
           "showlakes": true,
           "showland": true,
           "subunitcolor": "white"
          },
          "hoverlabel": {
           "align": "left"
          },
          "hovermode": "closest",
          "mapbox": {
           "style": "light"
          },
          "paper_bgcolor": "white",
          "plot_bgcolor": "#E5ECF6",
          "polar": {
           "angularaxis": {
            "gridcolor": "white",
            "linecolor": "white",
            "ticks": ""
           },
           "bgcolor": "#E5ECF6",
           "radialaxis": {
            "gridcolor": "white",
            "linecolor": "white",
            "ticks": ""
           }
          },
          "scene": {
           "xaxis": {
            "backgroundcolor": "#E5ECF6",
            "gridcolor": "white",
            "gridwidth": 2,
            "linecolor": "white",
            "showbackground": true,
            "ticks": "",
            "zerolinecolor": "white"
           },
           "yaxis": {
            "backgroundcolor": "#E5ECF6",
            "gridcolor": "white",
            "gridwidth": 2,
            "linecolor": "white",
            "showbackground": true,
            "ticks": "",
            "zerolinecolor": "white"
           },
           "zaxis": {
            "backgroundcolor": "#E5ECF6",
            "gridcolor": "white",
            "gridwidth": 2,
            "linecolor": "white",
            "showbackground": true,
            "ticks": "",
            "zerolinecolor": "white"
           }
          },
          "shapedefaults": {
           "line": {
            "color": "#2a3f5f"
           }
          },
          "ternary": {
           "aaxis": {
            "gridcolor": "white",
            "linecolor": "white",
            "ticks": ""
           },
           "baxis": {
            "gridcolor": "white",
            "linecolor": "white",
            "ticks": ""
           },
           "bgcolor": "#E5ECF6",
           "caxis": {
            "gridcolor": "white",
            "linecolor": "white",
            "ticks": ""
           }
          },
          "title": {
           "x": 0.05
          },
          "xaxis": {
           "automargin": true,
           "gridcolor": "white",
           "linecolor": "white",
           "ticks": "",
           "title": {
            "standoff": 15
           },
           "zerolinecolor": "white",
           "zerolinewidth": 2
          },
          "yaxis": {
           "automargin": true,
           "gridcolor": "white",
           "linecolor": "white",
           "ticks": "",
           "title": {
            "standoff": 15
           },
           "zerolinecolor": "white",
           "zerolinewidth": 2
          }
         }
        }
       }
      },
      "text/html": [
       "<div>                            <div id=\"83c984d1-4629-480f-8d80-3fc5b32df34b\" class=\"plotly-graph-div\" style=\"height:525px; width:100%;\"></div>            <script type=\"text/javascript\">                require([\"plotly\"], function(Plotly) {                    window.PLOTLYENV=window.PLOTLYENV || {};                                    if (document.getElementById(\"83c984d1-4629-480f-8d80-3fc5b32df34b\")) {                    Plotly.newPlot(                        \"83c984d1-4629-480f-8d80-3fc5b32df34b\",                        [{\"hovertemplate\":\"<b>%{hovertext}</b><br><br>pc1=%{x}<br>pc2=%{y}<br>pc3=%{z}<extra></extra>\",\"hovertext\":[\"sbnation.com\",\"theathletic.com\",\"nydailynews.com\",\"sportingnews.com\",\"apnews.com\",\"bbc.co.uk\",\"yardbarker.com\",\"hoopsrumors.com\",\"cbslocal.com\",\"nfl.com\",\"deadspin.com\",\"skysports.com\",\"pff.com\",\"foxnews.com\",\"247sports.com\",\"clutchpoints.com\",\"theonion.com\",\"radio.com\",\"realgm.com\",\"thespun.com\",\"independent.co.uk\",\"fansided.com\",\"nypost.com\",\"theringer.com\",\"prosportsextra.com\",\"nba.com\",\"washingtonpost.com\",\"msn.com\",\"thebiglead.com\",\"thescore.com\",\"inquirer.com\",\"theundefeated.com\",\"slamonline.com\",\"gq.com\",\"dailysnark.com\",\"inquisitr.com\",\"dailymotion.com\",\"mirror.co.uk\",\"givemesport.com\",\"fadeawayworld.net\",\"tmz.com\",\"nbcsports.com\",\"sportsnet.ca\",\"forbes.com\",\"latimes.com\",\"nbaanalysis.net\",\"telegraph.co.uk\",\"usatoday.com\",\"theguardian.com\",\"freep.com\",\"foxsports.com\",\"iheart.com\",\"heavy.com\",\"nytimes.com\",\"nesn.com\",\"bleacherreport.com\",\"espn.com\",\"thetimes.co.uk\",\"premierleague.com\",\"nj.com\",\"cbssports.com\",\"fivethirtyeight.com\",\"espn.co.uk\",\"rotoballer.com\",\"uproxx.com\",\"cbsnews.com\",\"draftkings.com\",\"thedraftnetwork.com\",\"cleveland.com\",\"sportwitness.co.uk\",\"profootballnetwork.com\",\"cnn.com\",\"theplayerstribune.com\",\"sportsnaut.com\",\"dailymail.co.uk\",\"bolavip.com\",\"sportskeeda.com\",\"fantasyalarm.com\",\"bbc.com\",\"wsj.com\",\"football365.com\",\"hoopshype.com\",\"sportscasting.com\",\"si.com\",\"indystar.com\"],\"legendgroup\":\"\",\"marker\":{\"color\":\"#636efa\",\"opacity\":0.4,\"symbol\":\"circle\"},\"mode\":\"markers\",\"name\":\"\",\"scene\":\"scene\",\"showlegend\":false,\"x\":[-0.9216923615740182,0.2704085982888453,-0.8827998808716391,-0.8851751779271293,-0.8906899203801516,-0.23194049000653144,-0.8779704921165575,-0.8631312162136158,-0.8102951283691926,0.5256635516839818,-0.8677658321067326,-0.26287349702782253,0.5155824174856429,-0.8857271393297292,-0.6257309604578485,-0.786188355369168,-0.8732091759708533,-0.5135074587616225,-0.8447547577709162,-0.8809578992916798,-0.8439267362272711,-0.6685294845040279,-0.35038664883692144,-0.0830292492996727,-0.5558949842486516,0.5675101330623222,-0.8775776863460619,-0.8360570038257061,-0.8971143961997623,-0.740843807162938,-0.7132320427720041,-0.8632530701915504,-0.8830392089998359,-0.8890408546976164,-0.9001606203493983,-0.8815218261769853,-0.9148557101396193,-0.6254492161934294,-0.9567190938234338,-0.8697313434391597,-0.7565505971138424,0.6245798524158688,-0.697473792383919,-0.8947238948795094,-0.8429242107229413,-0.84715701626202,-0.2868892339379401,0.6369018046139376,-0.19755940188824436,-0.6112189842376569,-0.7566647508540689,-0.8879807244213563,-0.8476552447386617,-0.8269782826529991,-0.7501850842484077,0.7993898777340358,0.8549213638614523,-0.5109967755303079,-0.43913071579955826,-0.6829550072377827,0.7426354251059498,-0.7244052981675928,-0.9301097105497925,-0.8961932194912702,-0.8824934479233139,-0.8978372243690701,-0.8935860724096432,0.07332316969788091,-0.3790909140944698,-0.9556526016571257,0.07721212747710696,-0.8893912246510163,-0.8404500943285896,-0.8880925767191583,-0.4249107679504169,-0.8491843834520657,-0.8959953091872033,-0.8946773328867281,-0.46750122046089065,-0.901392239969134,-0.9310069158737511,-0.7905350452743105,-0.8795105726659985,0.7334769792057673,-0.8608885177500568],\"y\":[0.22541020784930518,-0.053558607675257906,0.2296460503395678,0.14067641003706613,0.16519138693788796,0.05866790259112064,0.1864853849684293,0.3049005755315962,-0.026972814190221933,-0.5474392354999397,0.2109518519268677,0.0679366686540213,-0.6714491741926129,0.1343581297979824,-0.31016486131839244,0.3365110997533782,0.18022932578679907,-0.24390359214063909,0.360643234209986,0.14334967361186746,0.20635735126647445,-0.08576745125555167,-0.3441033698851183,0.5281474397703789,-0.19548401089388787,0.8074418926794429,0.1769618703049344,-0.014530516673383488,0.18380570236718777,-0.05534227259176832,0.1379371579980546,0.2875865934351724,0.26409121026889815,0.2394102739855368,0.16535775139311273,0.26589797820882505,0.227426869660458,0.15966089258360125,0.24602361328750477,0.28864013950954864,-0.08868145071779214,-0.45756468647799475,0.5796681948343971,0.23570599360376115,0.18621402351890198,0.32737847308751644,0.07262498052762538,-0.5653773239458874,0.041946266322171695,0.11098357978405914,0.21261671247992378,0.1545686006663256,0.12327611024820613,0.2776810983301418,0.0636126674017756,-0.4369778543041116,-0.14677316035185886,0.12130095486644893,0.11158004832792848,-0.18850508735848542,-0.5513831703423773,0.44264489252503064,0.24301331155676792,0.18703538009296009,0.2606479457389387,0.21228125087401756,0.22757129655995675,-0.6685956454622088,0.28160145079494486,0.24475585284089832,-0.7722178083259716,0.22096099601884145,0.04331724638248782,0.2245846118921955,0.10765105296580327,0.4124303217773021,0.2321005895199305,0.14153563182523668,0.11371174944366193,0.23818555550544623,0.23908866704278225,0.41698949374517863,0.19264817428106998,-0.5520281201858755,0.15902725280357785],\"z\":[0.3036767833911521,0.4573351159386075,-0.07849641716256112,-0.15569007111420566,-0.13331059067438814,0.6178719130010035,-0.13223740874410347,-0.048709384375419426,-0.32273784593065613,-0.3181836811864721,-0.08133439193997913,0.5909593793940743,-0.41207603601845605,-0.13280916142205346,-0.4796607296972281,-0.058743634923233055,-0.13147592718279294,-0.4533498173557946,-0.10378696015646606,-0.1482869540557699,0.3299252129837653,-0.26543733908776906,-0.4739338324960531,0.1237875122221706,-0.3983884653253364,-0.14934712565916775,-0.1420038747797774,-0.22322364350880583,-0.1115479949084013,-0.22756192715125623,-0.2906076428217194,-0.06541832626419819,-0.07191370637472821,-0.0900676765318287,-0.13710624943895466,-0.07185283164976904,-0.03765709355929256,0.443532149870348,0.15066026482539782,-0.05567790519083301,-0.22533498734677507,-0.30680674168086236,-0.10549947066816087,-0.0900265269589134,-0.21114933563027183,-0.034075757104418306,0.6414155421886433,-0.3005003205204931,0.5768437800296318,0.005477338248511786,-0.22666352267098216,-0.13694738872805057,-0.19840448338142339,0.14806333653917736,-0.1884260536488557,-0.2492992691985061,0.4327574763680886,0.43074568997941654,0.5414431568570306,-0.38970841742615314,-0.25702581271850145,0.2640962322179475,0.006500476055693372,-0.10889682034756787,-0.06922422841003703,-0.0916104010987409,-0.0816246827900272,-0.5533592075835859,-0.16004566097177578,0.12729277560994373,-0.47699874696234823,-0.0696317783856338,-0.17338813448003731,-0.08217939301652995,0.5883814686252093,0.07636020916095906,-0.0600588024667244,-0.1443104136852267,0.5088842933086432,-0.045864208471759,0.25155733674207165,-0.05364400103029381,-0.0801728737401536,-0.28496809299183606,-0.23421470007293368],\"type\":\"scatter3d\"}],                        {\"template\":{\"data\":{\"bar\":[{\"error_x\":{\"color\":\"#2a3f5f\"},\"error_y\":{\"color\":\"#2a3f5f\"},\"marker\":{\"line\":{\"color\":\"#E5ECF6\",\"width\":0.5},\"pattern\":{\"fillmode\":\"overlay\",\"size\":10,\"solidity\":0.2}},\"type\":\"bar\"}],\"barpolar\":[{\"marker\":{\"line\":{\"color\":\"#E5ECF6\",\"width\":0.5},\"pattern\":{\"fillmode\":\"overlay\",\"size\":10,\"solidity\":0.2}},\"type\":\"barpolar\"}],\"carpet\":[{\"aaxis\":{\"endlinecolor\":\"#2a3f5f\",\"gridcolor\":\"white\",\"linecolor\":\"white\",\"minorgridcolor\":\"white\",\"startlinecolor\":\"#2a3f5f\"},\"baxis\":{\"endlinecolor\":\"#2a3f5f\",\"gridcolor\":\"white\",\"linecolor\":\"white\",\"minorgridcolor\":\"white\",\"startlinecolor\":\"#2a3f5f\"},\"type\":\"carpet\"}],\"choropleth\":[{\"colorbar\":{\"outlinewidth\":0,\"ticks\":\"\"},\"type\":\"choropleth\"}],\"contour\":[{\"colorbar\":{\"outlinewidth\":0,\"ticks\":\"\"},\"colorscale\":[[0.0,\"#0d0887\"],[0.1111111111111111,\"#46039f\"],[0.2222222222222222,\"#7201a8\"],[0.3333333333333333,\"#9c179e\"],[0.4444444444444444,\"#bd3786\"],[0.5555555555555556,\"#d8576b\"],[0.6666666666666666,\"#ed7953\"],[0.7777777777777778,\"#fb9f3a\"],[0.8888888888888888,\"#fdca26\"],[1.0,\"#f0f921\"]],\"type\":\"contour\"}],\"contourcarpet\":[{\"colorbar\":{\"outlinewidth\":0,\"ticks\":\"\"},\"type\":\"contourcarpet\"}],\"heatmap\":[{\"colorbar\":{\"outlinewidth\":0,\"ticks\":\"\"},\"colorscale\":[[0.0,\"#0d0887\"],[0.1111111111111111,\"#46039f\"],[0.2222222222222222,\"#7201a8\"],[0.3333333333333333,\"#9c179e\"],[0.4444444444444444,\"#bd3786\"],[0.5555555555555556,\"#d8576b\"],[0.6666666666666666,\"#ed7953\"],[0.7777777777777778,\"#fb9f3a\"],[0.8888888888888888,\"#fdca26\"],[1.0,\"#f0f921\"]],\"type\":\"heatmap\"}],\"heatmapgl\":[{\"colorbar\":{\"outlinewidth\":0,\"ticks\":\"\"},\"colorscale\":[[0.0,\"#0d0887\"],[0.1111111111111111,\"#46039f\"],[0.2222222222222222,\"#7201a8\"],[0.3333333333333333,\"#9c179e\"],[0.4444444444444444,\"#bd3786\"],[0.5555555555555556,\"#d8576b\"],[0.6666666666666666,\"#ed7953\"],[0.7777777777777778,\"#fb9f3a\"],[0.8888888888888888,\"#fdca26\"],[1.0,\"#f0f921\"]],\"type\":\"heatmapgl\"}],\"histogram\":[{\"marker\":{\"pattern\":{\"fillmode\":\"overlay\",\"size\":10,\"solidity\":0.2}},\"type\":\"histogram\"}],\"histogram2d\":[{\"colorbar\":{\"outlinewidth\":0,\"ticks\":\"\"},\"colorscale\":[[0.0,\"#0d0887\"],[0.1111111111111111,\"#46039f\"],[0.2222222222222222,\"#7201a8\"],[0.3333333333333333,\"#9c179e\"],[0.4444444444444444,\"#bd3786\"],[0.5555555555555556,\"#d8576b\"],[0.6666666666666666,\"#ed7953\"],[0.7777777777777778,\"#fb9f3a\"],[0.8888888888888888,\"#fdca26\"],[1.0,\"#f0f921\"]],\"type\":\"histogram2d\"}],\"histogram2dcontour\":[{\"colorbar\":{\"outlinewidth\":0,\"ticks\":\"\"},\"colorscale\":[[0.0,\"#0d0887\"],[0.1111111111111111,\"#46039f\"],[0.2222222222222222,\"#7201a8\"],[0.3333333333333333,\"#9c179e\"],[0.4444444444444444,\"#bd3786\"],[0.5555555555555556,\"#d8576b\"],[0.6666666666666666,\"#ed7953\"],[0.7777777777777778,\"#fb9f3a\"],[0.8888888888888888,\"#fdca26\"],[1.0,\"#f0f921\"]],\"type\":\"histogram2dcontour\"}],\"mesh3d\":[{\"colorbar\":{\"outlinewidth\":0,\"ticks\":\"\"},\"type\":\"mesh3d\"}],\"parcoords\":[{\"line\":{\"colorbar\":{\"outlinewidth\":0,\"ticks\":\"\"}},\"type\":\"parcoords\"}],\"pie\":[{\"automargin\":true,\"type\":\"pie\"}],\"scatter\":[{\"marker\":{\"colorbar\":{\"outlinewidth\":0,\"ticks\":\"\"}},\"type\":\"scatter\"}],\"scatter3d\":[{\"line\":{\"colorbar\":{\"outlinewidth\":0,\"ticks\":\"\"}},\"marker\":{\"colorbar\":{\"outlinewidth\":0,\"ticks\":\"\"}},\"type\":\"scatter3d\"}],\"scattercarpet\":[{\"marker\":{\"colorbar\":{\"outlinewidth\":0,\"ticks\":\"\"}},\"type\":\"scattercarpet\"}],\"scattergeo\":[{\"marker\":{\"colorbar\":{\"outlinewidth\":0,\"ticks\":\"\"}},\"type\":\"scattergeo\"}],\"scattergl\":[{\"marker\":{\"colorbar\":{\"outlinewidth\":0,\"ticks\":\"\"}},\"type\":\"scattergl\"}],\"scattermapbox\":[{\"marker\":{\"colorbar\":{\"outlinewidth\":0,\"ticks\":\"\"}},\"type\":\"scattermapbox\"}],\"scatterpolar\":[{\"marker\":{\"colorbar\":{\"outlinewidth\":0,\"ticks\":\"\"}},\"type\":\"scatterpolar\"}],\"scatterpolargl\":[{\"marker\":{\"colorbar\":{\"outlinewidth\":0,\"ticks\":\"\"}},\"type\":\"scatterpolargl\"}],\"scatterternary\":[{\"marker\":{\"colorbar\":{\"outlinewidth\":0,\"ticks\":\"\"}},\"type\":\"scatterternary\"}],\"surface\":[{\"colorbar\":{\"outlinewidth\":0,\"ticks\":\"\"},\"colorscale\":[[0.0,\"#0d0887\"],[0.1111111111111111,\"#46039f\"],[0.2222222222222222,\"#7201a8\"],[0.3333333333333333,\"#9c179e\"],[0.4444444444444444,\"#bd3786\"],[0.5555555555555556,\"#d8576b\"],[0.6666666666666666,\"#ed7953\"],[0.7777777777777778,\"#fb9f3a\"],[0.8888888888888888,\"#fdca26\"],[1.0,\"#f0f921\"]],\"type\":\"surface\"}],\"table\":[{\"cells\":{\"fill\":{\"color\":\"#EBF0F8\"},\"line\":{\"color\":\"white\"}},\"header\":{\"fill\":{\"color\":\"#C8D4E3\"},\"line\":{\"color\":\"white\"}},\"type\":\"table\"}]},\"layout\":{\"annotationdefaults\":{\"arrowcolor\":\"#2a3f5f\",\"arrowhead\":0,\"arrowwidth\":1},\"autotypenumbers\":\"strict\",\"coloraxis\":{\"colorbar\":{\"outlinewidth\":0,\"ticks\":\"\"}},\"colorscale\":{\"diverging\":[[0,\"#8e0152\"],[0.1,\"#c51b7d\"],[0.2,\"#de77ae\"],[0.3,\"#f1b6da\"],[0.4,\"#fde0ef\"],[0.5,\"#f7f7f7\"],[0.6,\"#e6f5d0\"],[0.7,\"#b8e186\"],[0.8,\"#7fbc41\"],[0.9,\"#4d9221\"],[1,\"#276419\"]],\"sequential\":[[0.0,\"#0d0887\"],[0.1111111111111111,\"#46039f\"],[0.2222222222222222,\"#7201a8\"],[0.3333333333333333,\"#9c179e\"],[0.4444444444444444,\"#bd3786\"],[0.5555555555555556,\"#d8576b\"],[0.6666666666666666,\"#ed7953\"],[0.7777777777777778,\"#fb9f3a\"],[0.8888888888888888,\"#fdca26\"],[1.0,\"#f0f921\"]],\"sequentialminus\":[[0.0,\"#0d0887\"],[0.1111111111111111,\"#46039f\"],[0.2222222222222222,\"#7201a8\"],[0.3333333333333333,\"#9c179e\"],[0.4444444444444444,\"#bd3786\"],[0.5555555555555556,\"#d8576b\"],[0.6666666666666666,\"#ed7953\"],[0.7777777777777778,\"#fb9f3a\"],[0.8888888888888888,\"#fdca26\"],[1.0,\"#f0f921\"]]},\"colorway\":[\"#636efa\",\"#EF553B\",\"#00cc96\",\"#ab63fa\",\"#FFA15A\",\"#19d3f3\",\"#FF6692\",\"#B6E880\",\"#FF97FF\",\"#FECB52\"],\"font\":{\"color\":\"#2a3f5f\"},\"geo\":{\"bgcolor\":\"white\",\"lakecolor\":\"white\",\"landcolor\":\"#E5ECF6\",\"showlakes\":true,\"showland\":true,\"subunitcolor\":\"white\"},\"hoverlabel\":{\"align\":\"left\"},\"hovermode\":\"closest\",\"mapbox\":{\"style\":\"light\"},\"paper_bgcolor\":\"white\",\"plot_bgcolor\":\"#E5ECF6\",\"polar\":{\"angularaxis\":{\"gridcolor\":\"white\",\"linecolor\":\"white\",\"ticks\":\"\"},\"bgcolor\":\"#E5ECF6\",\"radialaxis\":{\"gridcolor\":\"white\",\"linecolor\":\"white\",\"ticks\":\"\"}},\"scene\":{\"xaxis\":{\"backgroundcolor\":\"#E5ECF6\",\"gridcolor\":\"white\",\"gridwidth\":2,\"linecolor\":\"white\",\"showbackground\":true,\"ticks\":\"\",\"zerolinecolor\":\"white\"},\"yaxis\":{\"backgroundcolor\":\"#E5ECF6\",\"gridcolor\":\"white\",\"gridwidth\":2,\"linecolor\":\"white\",\"showbackground\":true,\"ticks\":\"\",\"zerolinecolor\":\"white\"},\"zaxis\":{\"backgroundcolor\":\"#E5ECF6\",\"gridcolor\":\"white\",\"gridwidth\":2,\"linecolor\":\"white\",\"showbackground\":true,\"ticks\":\"\",\"zerolinecolor\":\"white\"}},\"shapedefaults\":{\"line\":{\"color\":\"#2a3f5f\"}},\"ternary\":{\"aaxis\":{\"gridcolor\":\"white\",\"linecolor\":\"white\",\"ticks\":\"\"},\"baxis\":{\"gridcolor\":\"white\",\"linecolor\":\"white\",\"ticks\":\"\"},\"bgcolor\":\"#E5ECF6\",\"caxis\":{\"gridcolor\":\"white\",\"linecolor\":\"white\",\"ticks\":\"\"}},\"title\":{\"x\":0.05},\"xaxis\":{\"automargin\":true,\"gridcolor\":\"white\",\"linecolor\":\"white\",\"ticks\":\"\",\"title\":{\"standoff\":15},\"zerolinecolor\":\"white\",\"zerolinewidth\":2},\"yaxis\":{\"automargin\":true,\"gridcolor\":\"white\",\"linecolor\":\"white\",\"ticks\":\"\",\"title\":{\"standoff\":15},\"zerolinecolor\":\"white\",\"zerolinewidth\":2}}},\"scene\":{\"domain\":{\"x\":[0.0,1.0],\"y\":[0.0,1.0]},\"xaxis\":{\"title\":{\"text\":\"pc1\"}},\"yaxis\":{\"title\":{\"text\":\"pc2\"}},\"zaxis\":{\"title\":{\"text\":\"pc3\"}}},\"legend\":{\"tracegroupgap\":0},\"margin\":{\"t\":60}},                        {\"responsive\": true}                    ).then(function(){\n",
       "                            \n",
       "var gd = document.getElementById('83c984d1-4629-480f-8d80-3fc5b32df34b');\n",
       "var x = new MutationObserver(function (mutations, observer) {{\n",
       "        var display = window.getComputedStyle(gd).display;\n",
       "        if (!display || display === 'none') {{\n",
       "            console.log([gd, 'removed!']);\n",
       "            Plotly.purge(gd);\n",
       "            observer.disconnect();\n",
       "        }}\n",
       "}});\n",
       "\n",
       "// Listen for the removal of the full notebook cells\n",
       "var notebookContainer = gd.closest('#notebook-container');\n",
       "if (notebookContainer) {{\n",
       "    x.observe(notebookContainer, {childList: true});\n",
       "}}\n",
       "\n",
       "// Listen for the clearing of the current output cell\n",
       "var outputEl = gd.closest('.output');\n",
       "if (outputEl) {{\n",
       "    x.observe(outputEl, {childList: true});\n",
       "}}\n",
       "\n",
       "                        })                };                });            </script>        </div>"
      ]
     },
     "metadata": {},
     "output_type": "display_data"
    }
   ],
   "source": [
    "df = pandas.DataFrame({\"pc1\": xs,\n",
    "                   \"pc2\": ys,\n",
    "                   \"pc3\": zs,\n",
    "                   # \"pc4\": bs[:100],\n",
    "                   \"source\": ns_fixed})\n",
    "\n",
    "fig = px.scatter_3d(df, x='pc1', y='pc2', z='pc3', \n",
    "                    # color='pc4', \n",
    "                    hover_name='source', opacity=0.4)\n",
    "fig.show()"
   ]
  },
  {
   "cell_type": "code",
   "execution_count": 308,
   "metadata": {},
   "outputs": [],
   "source": [
    "from sklearn import metrics"
   ]
  },
  {
   "cell_type": "code",
   "execution_count": 325,
   "metadata": {},
   "outputs": [
    {
     "data": {
      "text/plain": [
       "0.606010016662346"
      ]
     },
     "execution_count": 325,
     "metadata": {},
     "output_type": "execute_result"
    }
   ],
   "source": [
    "metrics.silhouette_score(preprocessing.normalize(np.array(ns_repr_new)), kmeans.labels_, metric='euclidean')"
   ]
  },
  {
   "cell_type": "code",
   "execution_count": 322,
   "metadata": {},
   "outputs": [],
   "source": [
    "ss = metrics.silhouette_samples(preprocessing.normalize(np.array(ns_repr_new)), kmeans.labels_, metric='euclidean')"
   ]
  },
  {
   "cell_type": "code",
   "execution_count": 326,
   "metadata": {},
   "outputs": [
    {
     "data": {
      "text/plain": [
       "<AxesSubplot:ylabel='Count'>"
      ]
     },
     "execution_count": 326,
     "metadata": {},
     "output_type": "execute_result"
    },
    {
     "data": {
      "image/png": "[encoded data removed]",
      "text/plain": [
       "<Figure size 432x288 with 1 Axes>"
      ]
     },
     "metadata": {},
     "output_type": "display_data"
    }
   ],
   "source": [
    "sns.histplot(ss)"
   ]
  },
  {
   "cell_type": "code",
   "execution_count": 327,
   "metadata": {},
   "outputs": [],
   "source": [
    "label2ss = defaultdict(list)\n",
    "for ii in range(len(non_outlier)):\n",
    "    label2ss[kmeans.labels_[ii]].append(ss[ii])"
   ]
  },
  {
   "cell_type": "code",
   "execution_count": 368,
   "metadata": {},
   "outputs": [
    {
     "data": {
      "text/plain": [
       "3"
      ]
     },
     "execution_count": 368,
     "metadata": {},
     "output_type": "execute_result"
    }
   ],
   "source": [
    "len(label2ss)"
   ]
  },
  {
   "cell_type": "code",
   "execution_count": 332,
   "metadata": {},
   "outputs": [
    {
     "data": {
      "text/plain": [
       "[0.18324381751939814,\n",
       " 0.7062743129086089,\n",
       " 0.7148055089004112,\n",
       " 0.07162068112047956,\n",
       " 0.5876064683515858,\n",
       " 0.7168810607947794,\n",
       " 0.7051341523136944,\n",
       " 0.6226584991322095,\n",
       " 0.7020452702212212,\n",
       " 0.6127372585634278,\n",
       " 0.5861178272938184]"
      ]
     },
     "execution_count": 332,
     "metadata": {},
     "output_type": "execute_result"
    }
   ],
   "source": [
    "label2ss[1]"
   ]
  },
  {
   "cell_type": "code",
   "execution_count": 366,
   "metadata": {
    "scrolled": true
   },
   "outputs": [
    {
     "data": {
      "text/plain": [
       "Text(0, 0.5, 'sillouette coefficient value')"
      ]
     },
     "execution_count": 366,
     "metadata": {},
     "output_type": "execute_result"
    },
    {
     "data": {
      "image/png": "[encoded data removed]",
      "text/plain": [
       "<Figure size 432x288 with 1 Axes>"
      ]
     },
     "metadata": {},
     "output_type": "display_data"
    }
   ],
   "source": [
    "plt.plot(range(len(ns_fixed)), sorted(label2ss[0])+sorted(label2ss[1])+sorted(label2ss[2]), '-', linewidth=1, fillstyle='bottom')\n",
    "plt.plot([11,11], [0,0.8], 'r')\n",
    "plt.plot([22,22], [0,0.8], 'r')\n",
    "plt.fill_between(range(len(ns_fixed)), sorted(label2ss[0])+sorted(label2ss[1])+sorted(label2ss[2]), 0)\n",
    "plt.title(\"Silhouette Coefficients of 85 News Sources\")\n",
    "plt.ylabel(\"sillouette coefficient value\")"
   ]
  },
  {
   "cell_type": "code",
   "execution_count": 310,
   "metadata": {},
   "outputs": [
    {
     "data": {
      "text/plain": [
       "21.602216608187508"
      ]
     },
     "execution_count": 310,
     "metadata": {},
     "output_type": "execute_result"
    }
   ],
   "source": [
    "# higher better\n",
    "metrics.calinski_harabasz_score(ns_repr_new, kmeans.labels_)"
   ]
  },
  {
   "cell_type": "code",
   "execution_count": 311,
   "metadata": {},
   "outputs": [
    {
     "data": {
      "text/plain": [
       "1.2416648154910845"
      ]
     },
     "execution_count": 311,
     "metadata": {},
     "output_type": "execute_result"
    }
   ],
   "source": [
    "# closer to 0 better\n",
    "metrics.davies_bouldin_score(ns_repr_new, kmeans.labels_)"
   ]
  },
  {
   "cell_type": "code",
   "execution_count": 321,
   "metadata": {},
   "outputs": [
    {
     "data": {
      "text/plain": [
       "85"
      ]
     },
     "execution_count": 321,
     "metadata": {},
     "output_type": "execute_result"
    }
   ],
   "source": [
    "len(non_outlier)"
   ]
  },
  {
   "cell_type": "code",
   "execution_count": null,
   "metadata": {},
   "outputs": [],
   "source": []
  }
 ],
 "metadata": {
  "kernelspec": {
   "display_name": "Python 3",
   "language": "python",
   "name": "python3"
  },
  "language_info": {
   "codemirror_mode": {
    "name": "ipython",
    "version": 3
   },
   "file_extension": ".py",
   "mimetype": "text/x-python",
   "name": "python",
   "nbconvert_exporter": "python",
   "pygments_lexer": "ipython3",
   "version": "3.8.6"
  }
 },
 "nbformat": 4,
 "nbformat_minor": 4
}
