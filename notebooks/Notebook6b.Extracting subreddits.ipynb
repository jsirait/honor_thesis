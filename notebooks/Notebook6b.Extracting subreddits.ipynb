{
 "cells": [
  {
   "cell_type": "markdown",
   "metadata": {},
   "source": [
    "# Clustering Small Set of News Sources\n",
    "\n",
    "Junita Sirait\n",
    "\n",
    "For case study purposes"
   ]
  },
  {
   "cell_type": "code",
   "execution_count": 162,
   "metadata": {},
   "outputs": [],
   "source": [
    "import json\n",
    "import pandas as pd\n",
    "import csv\n",
    "import numpy as np\n",
    "import statistics\n",
    "\n",
    "import tldextract\n",
    "\n",
    "from collections import Counter, defaultdict\n",
    "import matplotlib.pyplot as plt\n",
    "import seaborn as sns\n",
    "from sklearn.cluster import KMeans\n",
    "from sklearn.metrics import silhouette_score\n",
    "from sklearn.preprocessing import StandardScaler\n",
    "\n",
    "from sklearn import preprocessing\n",
    "\n",
    "from sklearn.metrics import silhouette_score\n",
    "from kneed import KneeLocator\n",
    "\n",
    "from scipy.interpolate import make_interp_spline, BSpline\n",
    "\n",
    "from sklearn.decomposition import PCA\n",
    "from sklearn.decomposition import TruncatedSVD\n",
    "\n",
    "import math\n",
    "\n",
    "from sklearn.feature_selection import SelectKBest\n",
    "import os"
   ]
  },
  {
   "cell_type": "markdown",
   "metadata": {},
   "source": [
    "<a id=\"sub1\"></a>\n",
    "## Subreddit data"
   ]
  },
  {
   "cell_type": "code",
   "execution_count": 247,
   "metadata": {},
   "outputs": [],
   "source": [
    "pd = os.path.split(os.getcwd())[0]\n",
    "data_fp = os.path.join(pd,\"data/gm-newssources-subreddits\")\n",
    "dfp = os.path.join(pd,\"data\")\n",
    "mbfc_path = os.path.join(pd, \"data/mbfc\")"
   ]
  },
  {
   "cell_type": "code",
   "execution_count": 248,
   "metadata": {},
   "outputs": [],
   "source": [
    "with open (os.path.join(dfp,\"gmm_intersection.json\"), \"r\", encoding = \"utf-8\") as infile:\n",
    "    gmm_intersection = json.load(infile)"
   ]
  },
  {
   "cell_type": "code",
   "execution_count": 249,
   "metadata": {},
   "outputs": [
    {
     "data": {
      "text/plain": [
       "1631"
      ]
     },
     "execution_count": 249,
     "metadata": {},
     "output_type": "execute_result"
    }
   ],
   "source": [
    "len(gmm_intersection)"
   ]
  },
  {
   "cell_type": "code",
   "execution_count": 250,
   "metadata": {},
   "outputs": [],
   "source": [
    "with open (os.path.join(dfp,\"gm_intersection.json\"), \"r\", encoding = \"utf-8\") as infile:\n",
    "    gm_intersection = json.load(infile)"
   ]
  },
  {
   "cell_type": "code",
   "execution_count": 251,
   "metadata": {},
   "outputs": [
    {
     "data": {
      "text/plain": [
       "42477"
      ]
     },
     "execution_count": 251,
     "metadata": {},
     "output_type": "execute_result"
    }
   ],
   "source": [
    "len(gm_intersection)"
   ]
  },
  {
   "cell_type": "code",
   "execution_count": 252,
   "metadata": {},
   "outputs": [
    {
     "data": {
      "text/plain": [
       "130"
      ]
     },
     "execution_count": 252,
     "metadata": {},
     "output_type": "execute_result"
    }
   ],
   "source": [
    "non_news = []\n",
    "with open(\"non_news.csv\", \"r\", encoding=\"utf-8\") as nn:\n",
    "    r = csv.reader(nn, delimiter=\",\")\n",
    "    counter = 0\n",
    "    for row in r:\n",
    "        if counter != 0:\n",
    "            non_news.append(row[0])\n",
    "        counter += 1\n",
    "len(non_news)"
   ]
  },
  {
   "cell_type": "code",
   "execution_count": 253,
   "metadata": {},
   "outputs": [],
   "source": [
    "# Reading in all the subreddits in our files\n",
    "\n",
    "with open(os.path.join(data_fp,\"subreddit_ns_2021-01.json\"), \"r\", encoding = \"utf-8\") as infile1a:\n",
    "    subreddit_ns_jan = json.load(infile1a)\n",
    "\n",
    "with open(os.path.join(data_fp,\"subreddit_ns_2021-02.json\"), \"r\", encoding = \"utf-8\") as infile2a:\n",
    "    subreddit_ns_feb = json.load(infile2a)\n",
    "    \n",
    "with open(os.path.join(data_fp,\"subreddit_ns_2021-03.json\"), \"r\", encoding = \"utf-8\") as infile3a:\n",
    "    subreddit_ns_march = json.load(infile3a)\n",
    "    \n",
    "with open(os.path.join(data_fp,\"subreddit_ns_2021-04.json\"), \"r\", encoding = \"utf-8\") as infile4a:\n",
    "    subreddit_ns_april = json.load(infile4a)\n",
    "    \n",
    "with open(os.path.join(data_fp,\"subreddit_ns_2021-05.json\"), \"r\", encoding = \"utf-8\") as infile5a:\n",
    "    subreddit_ns_may = json.load(infile5a)\n",
    "    \n",
    "with open(os.path.join(data_fp,\"subreddit_ns_2021-06.json\"), \"r\", encoding = \"utf-8\") as infile6a:\n",
    "    subreddit_ns_jun = json.load(infile6a)"
   ]
  },
  {
   "cell_type": "code",
   "execution_count": 254,
   "metadata": {},
   "outputs": [],
   "source": [
    "# ns_subreddit\n",
    "with open(os.path.join(data_fp,\"ns_subreddit_2021-01.json\")) as infile1:\n",
    "    ns_subreddit_01 = json.load(infile1)\n",
    "    \n",
    "with open(os.path.join(data_fp,\"ns_subreddit_2021-02.json\")) as infile2:\n",
    "    ns_subreddit_02 = json.load(infile2)\n",
    "    \n",
    "with open(os.path.join(data_fp,\"ns_subreddit_2021-03.json\")) as infile3:\n",
    "    ns_subreddit_03 = json.load(infile3)\n",
    "    \n",
    "with open(os.path.join(data_fp,\"ns_subreddit_2021-04.json\")) as infile4:\n",
    "    ns_subreddit_04 = json.load(infile4)\n",
    "    \n",
    "with open(os.path.join(data_fp,\"ns_subreddit_2021-05.json\")) as infile5:\n",
    "    ns_subreddit_05 = json.load(infile5)\n",
    "    \n",
    "with open(os.path.join(data_fp,\"ns_subreddit_2021-06.json\")) as infile6:\n",
    "    ns_subreddit_06 = json.load(infile6)"
   ]
  },
  {
   "cell_type": "markdown",
   "metadata": {},
   "source": [
    "## Apparently for some reason Reddit indexes many users as subreddits"
   ]
  },
  {
   "cell_type": "code",
   "execution_count": 256,
   "metadata": {},
   "outputs": [],
   "source": [
    "sr_union_old = (\n",
    "      set(subreddit_ns_jan) | set(subreddit_ns_feb) |\n",
    "      set(subreddit_ns_march) | set(subreddit_ns_april) |\n",
    "      set(subreddit_ns_may) | set(subreddit_ns_jun))"
   ]
  },
  {
   "cell_type": "code",
   "execution_count": 258,
   "metadata": {},
   "outputs": [
    {
     "data": {
      "text/plain": [
       "910554"
      ]
     },
     "execution_count": 258,
     "metadata": {},
     "output_type": "execute_result"
    }
   ],
   "source": [
    "u_s = [s for s in sr_union_old if s.startswith(\"u_\")]\n",
    "len(u_s)"
   ]
  },
  {
   "cell_type": "code",
   "execution_count": 259,
   "metadata": {},
   "outputs": [
    {
     "data": {
      "text/plain": [
       "['u_AluminumRyRy',\n",
       " 'u_allykitten584',\n",
       " 'u_Kysonnora',\n",
       " 'u_OftenSarcastic',\n",
       " 'u_PalpitationSad2273']"
      ]
     },
     "execution_count": 259,
     "metadata": {},
     "output_type": "execute_result"
    }
   ],
   "source": [
    "u_s[:5]"
   ]
  },
  {
   "cell_type": "code",
   "execution_count": 260,
   "metadata": {},
   "outputs": [
    {
     "data": {
      "text/plain": [
       "True"
      ]
     },
     "execution_count": 260,
     "metadata": {},
     "output_type": "execute_result"
    }
   ],
   "source": [
    "\"u_toronto_news\" in u_s"
   ]
  },
  {
   "cell_type": "markdown",
   "metadata": {},
   "source": [
    "## Let's exclude `u_*` from our subreddits and non_news from our news sources"
   ]
  },
  {
   "cell_type": "code",
   "execution_count": 261,
   "metadata": {},
   "outputs": [],
   "source": [
    "files_sub = [subreddit_ns_jan, subreddit_ns_feb, subreddit_ns_march, subreddit_ns_april, subreddit_ns_may, subreddit_ns_jun]\n",
    "files_ns = [ns_subreddit_01, ns_subreddit_02, ns_subreddit_03, ns_subreddit_04, ns_subreddit_05, ns_subreddit_06]"
   ]
  },
  {
   "cell_type": "markdown",
   "metadata": {},
   "source": [
    "Removing from files_sub"
   ]
  },
  {
   "cell_type": "code",
   "execution_count": 262,
   "metadata": {},
   "outputs": [],
   "source": [
    "for f in files_sub:\n",
    "    [f.pop(u) for u in u_s if u in f]"
   ]
  },
  {
   "cell_type": "code",
   "execution_count": 263,
   "metadata": {},
   "outputs": [
    {
     "name": "stdout",
     "output_type": "stream",
     "text": [
      "Done for a file\n",
      "Done for a file\n",
      "Done for a file\n",
      "Done for a file\n",
      "Done for a file\n",
      "Done for a file\n"
     ]
    }
   ],
   "source": [
    "for f in files_sub:\n",
    "    for n in f:\n",
    "        if 'reddit.com' in f[n]: f[n].pop('reddit.com')\n",
    "        # removing each of the non_news\n",
    "        for nns in non_news:\n",
    "            if nns in f[n]: f[n].pop(nns)\n",
    "    print(\"Done for a file\")"
   ]
  },
  {
   "cell_type": "code",
   "execution_count": 264,
   "metadata": {},
   "outputs": [
    {
     "data": {
      "text/plain": [
       "True"
      ]
     },
     "execution_count": 264,
     "metadata": {},
     "output_type": "execute_result"
    }
   ],
   "source": [
    "\"learnwelsh\" in subreddit_ns_jan"
   ]
  },
  {
   "cell_type": "markdown",
   "metadata": {},
   "source": [
    "Now that we have removed non_news from various subreddits, there would be subreddits that now does not have anything inside. Let's get rid of these subreddits as well."
   ]
  },
  {
   "cell_type": "code",
   "execution_count": 267,
   "metadata": {},
   "outputs": [
    {
     "name": "stdout",
     "output_type": "stream",
     "text": [
      "183592\n",
      "done for a file\n",
      "184349\n",
      "done for a file\n",
      "203649\n",
      "done for a file\n",
      "210354\n",
      "done for a file\n",
      "247206\n",
      "done for a file\n",
      "263501\n",
      "done for a file\n"
     ]
    }
   ],
   "source": [
    "for s in files_sub:\n",
    "    empty_subs = set()\n",
    "    for k in s:\n",
    "        if len(s[k]) == 0: empty_subs.add(k)\n",
    "    print(len(empty_subs))\n",
    "    [s.pop(u) for u in empty_subs]\n",
    "    print(\"done for a file\")"
   ]
  },
  {
   "cell_type": "markdown",
   "metadata": {},
   "source": [
    "Instead of removing from files_ns, I will reconstruct files_ns from files_sub."
   ]
  },
  {
   "cell_type": "code",
   "execution_count": 269,
   "metadata": {},
   "outputs": [],
   "source": [
    "def ns_from_sub(subfile):\n",
    "    d = defaultdict(dict)\n",
    "    for sub in subfile:\n",
    "        for n in subfile[sub]:\n",
    "            d[n][sub] = subfile[sub][n]\n",
    "    return d"
   ]
  },
  {
   "cell_type": "code",
   "execution_count": 270,
   "metadata": {},
   "outputs": [],
   "source": [
    "ns_subreddit_01 = ns_from_sub(subreddit_ns_jan)\n",
    "ns_subreddit_02 = ns_from_sub(subreddit_ns_feb)\n",
    "ns_subreddit_03 = ns_from_sub(subreddit_ns_march)\n",
    "ns_subreddit_04 = ns_from_sub(subreddit_ns_april)\n",
    "ns_subreddit_05 = ns_from_sub(subreddit_ns_may)\n",
    "ns_subreddit_06 = ns_from_sub(subreddit_ns_jun)"
   ]
  },
  {
   "cell_type": "code",
   "execution_count": 271,
   "metadata": {},
   "outputs": [
    {
     "data": {
      "text/plain": [
       "False"
      ]
     },
     "execution_count": 271,
     "metadata": {},
     "output_type": "execute_result"
    }
   ],
   "source": [
    "'reddit.com' in ns_subreddit_02"
   ]
  },
  {
   "cell_type": "markdown",
   "metadata": {},
   "source": [
    "Let's use the intersection in an alphabetical order as a fixed order of our subreddits."
   ]
  },
  {
   "cell_type": "code",
   "execution_count": 272,
   "metadata": {},
   "outputs": [],
   "source": [
    "subs = sorted(set(subreddit_ns_jan) & set(subreddit_ns_feb) &\n",
    "      set(subreddit_ns_march) & set(subreddit_ns_april) &\n",
    "      set(subreddit_ns_may) & set(subreddit_ns_jun))"
   ]
  },
  {
   "cell_type": "code",
   "execution_count": 273,
   "metadata": {
    "scrolled": true
   },
   "outputs": [
    {
     "data": {
      "text/plain": [
       "['0xProject', '1001Movies', '100movies365days', '100yearsago', '12thMan']"
      ]
     },
     "execution_count": 273,
     "metadata": {},
     "output_type": "execute_result"
    }
   ],
   "source": [
    "subs[:5]"
   ]
  },
  {
   "cell_type": "markdown",
   "metadata": {},
   "source": [
    "## Intersections and unions of subreddits"
   ]
  },
  {
   "cell_type": "code",
   "execution_count": 274,
   "metadata": {
    "scrolled": true
   },
   "outputs": [
    {
     "name": "stdout",
     "output_type": "stream",
     "text": [
      "intersection: 10194\n"
     ]
    }
   ],
   "source": [
    "# what about their intersection?\n",
    "sr_intersection = (\n",
    "      set(subreddit_ns_jan) & set(subreddit_ns_feb) &\n",
    "      set(subreddit_ns_march) & set(subreddit_ns_april) &\n",
    "      set(subreddit_ns_may) & set(subreddit_ns_jun))\n",
    "\n",
    "print(\"intersection:\", len(sr_intersection))"
   ]
  },
  {
   "cell_type": "code",
   "execution_count": 275,
   "metadata": {},
   "outputs": [
    {
     "name": "stdout",
     "output_type": "stream",
     "text": [
      "union: 68224\n"
     ]
    }
   ],
   "source": [
    "sr_union = (\n",
    "      set(subreddit_ns_jan) | set(subreddit_ns_feb) |\n",
    "      set(subreddit_ns_march) | set(subreddit_ns_april) |\n",
    "      set(subreddit_ns_may) | set(subreddit_ns_jun))\n",
    "\n",
    "print(\"union:\", len(sr_union))"
   ]
  },
  {
   "cell_type": "code",
   "execution_count": 276,
   "metadata": {},
   "outputs": [
    {
     "data": {
      "text/plain": [
       "True"
      ]
     },
     "execution_count": 276,
     "metadata": {},
     "output_type": "execute_result"
    }
   ],
   "source": [
    "\"learnwelsh\" in sr_union"
   ]
  },
  {
   "cell_type": "markdown",
   "metadata": {},
   "source": [
    "<a id=\"sub2\"></a>\n",
    "## News sources data"
   ]
  },
  {
   "cell_type": "markdown",
   "metadata": {},
   "source": [
    "How many news sources are there?"
   ]
  },
  {
   "cell_type": "code",
   "execution_count": 277,
   "metadata": {},
   "outputs": [
    {
     "data": {
      "text/plain": [
       "23776"
      ]
     },
     "execution_count": 277,
     "metadata": {},
     "output_type": "execute_result"
    }
   ],
   "source": [
    "# union\n",
    "ns_union = (set(ns_subreddit_01) |\n",
    "       set(ns_subreddit_02) |\n",
    "       set(ns_subreddit_03) |\n",
    "       set(ns_subreddit_04) |\n",
    "       set(ns_subreddit_05) |\n",
    "       set(ns_subreddit_06))\n",
    "\n",
    "len(ns_union)"
   ]
  },
  {
   "cell_type": "code",
   "execution_count": 278,
   "metadata": {},
   "outputs": [],
   "source": [
    "nss = (set(ns_subreddit_01) &\n",
    "       set(ns_subreddit_02) &\n",
    "       set(ns_subreddit_03) &\n",
    "       set(ns_subreddit_04) &\n",
    "       set(ns_subreddit_05) &\n",
    "       set(ns_subreddit_06))"
   ]
  },
  {
   "cell_type": "code",
   "execution_count": 279,
   "metadata": {},
   "outputs": [
    {
     "data": {
      "text/plain": [
       "8835"
      ]
     },
     "execution_count": 279,
     "metadata": {},
     "output_type": "execute_result"
    }
   ],
   "source": [
    "num_ns = len(nss)\n",
    "num_ns"
   ]
  },
  {
   "cell_type": "markdown",
   "metadata": {},
   "source": [
    "## For each news source, let's count in how many subreddits they appear"
   ]
  },
  {
   "cell_type": "code",
   "execution_count": 280,
   "metadata": {},
   "outputs": [],
   "source": [
    "subreddit_count = dict()\n",
    "for ns in ns_union:\n",
    "    subreddit_count[ns] = len(set(ns_subreddit_01.get(ns, dict()).keys()) \n",
    "                               | set(ns_subreddit_02.get(ns, dict()).keys()) \n",
    "                               | set(ns_subreddit_03.get(ns, dict()).keys()) \n",
    "                               | set(ns_subreddit_04.get(ns, dict()).keys())\n",
    "                               | set(ns_subreddit_05.get(ns, dict()).keys()) \n",
    "                               | set(ns_subreddit_06.get(ns, dict()).keys()))"
   ]
  },
  {
   "cell_type": "markdown",
   "metadata": {},
   "source": [
    "`subreddit_count` stores in how many subreddits each news source appears."
   ]
  },
  {
   "cell_type": "code",
   "execution_count": 281,
   "metadata": {},
   "outputs": [
    {
     "data": {
      "text/plain": [
       "6085"
      ]
     },
     "execution_count": 281,
     "metadata": {},
     "output_type": "execute_result"
    }
   ],
   "source": [
    "subreddit_count['nytimes.com']"
   ]
  },
  {
   "cell_type": "code",
   "execution_count": 282,
   "metadata": {},
   "outputs": [
    {
     "data": {
      "text/plain": [
       "{1: 4649,\n",
       " 2: 2791,\n",
       " 3: 1934,\n",
       " 4: 1420,\n",
       " 5: 1123,\n",
       " 6: 929,\n",
       " 7: 778,\n",
       " 8: 675,\n",
       " 9: 542,\n",
       " 10: 475,\n",
       " 11: 441,\n",
       " 12: 358,\n",
       " 14: 346,\n",
       " 13: 328,\n",
       " 15: 306,\n",
       " 16: 272,\n",
       " 17: 244,\n",
       " 18: 223,\n",
       " 21: 194,\n",
       " 22: 192,\n",
       " 19: 188,\n",
       " 20: 184,\n",
       " 24: 148,\n",
       " 25: 140,\n",
       " 23: 130,\n",
       " 27: 125,\n",
       " 26: 117,\n",
       " 30: 115,\n",
       " 31: 104,\n",
       " 29: 102,\n",
       " 33: 101,\n",
       " 28: 101,\n",
       " 35: 86,\n",
       " 34: 85,\n",
       " 32: 81,\n",
       " 38: 80,\n",
       " 37: 75,\n",
       " 42: 68,\n",
       " 41: 66,\n",
       " 39: 65,\n",
       " 48: 64,\n",
       " 36: 63,\n",
       " 49: 60,\n",
       " 46: 60,\n",
       " 43: 59,\n",
       " 40: 59,\n",
       " 45: 59,\n",
       " 47: 57,\n",
       " 53: 54,\n",
       " 44: 53,\n",
       " 54: 50,\n",
       " 55: 49,\n",
       " 57: 47,\n",
       " 50: 44,\n",
       " 56: 43,\n",
       " 74: 41,\n",
       " 64: 38,\n",
       " 59: 37,\n",
       " 61: 36,\n",
       " 51: 35,\n",
       " 52: 35,\n",
       " 63: 33,\n",
       " 91: 33,\n",
       " 69: 30,\n",
       " 76: 29,\n",
       " 72: 28,\n",
       " 71: 28,\n",
       " 70: 27,\n",
       " 67: 27,\n",
       " 81: 27,\n",
       " 62: 27,\n",
       " 66: 27,\n",
       " 58: 26,\n",
       " 60: 26,\n",
       " 73: 26,\n",
       " 65: 25,\n",
       " 87: 24,\n",
       " 84: 24,\n",
       " 78: 22,\n",
       " 75: 22,\n",
       " 94: 22,\n",
       " 89: 22,\n",
       " 82: 21,\n",
       " 68: 21,\n",
       " 79: 20,\n",
       " 96: 20,\n",
       " 88: 19,\n",
       " 86: 19,\n",
       " 77: 19,\n",
       " 105: 19,\n",
       " 113: 18,\n",
       " 103: 18,\n",
       " 106: 18,\n",
       " 92: 18,\n",
       " 80: 17,\n",
       " 85: 16,\n",
       " 104: 16,\n",
       " 90: 15,\n",
       " 93: 15,\n",
       " 101: 15,\n",
       " 114: 15,\n",
       " 120: 15,\n",
       " 100: 15,\n",
       " 141: 14,\n",
       " 135: 14,\n",
       " 108: 13,\n",
       " 111: 13,\n",
       " 97: 13,\n",
       " 95: 13,\n",
       " 117: 13,\n",
       " 102: 13,\n",
       " 109: 13,\n",
       " 136: 12,\n",
       " 148: 12,\n",
       " 147: 12,\n",
       " 128: 11,\n",
       " 83: 11,\n",
       " 107: 11,\n",
       " 127: 11,\n",
       " 123: 11,\n",
       " 119: 11,\n",
       " 99: 11,\n",
       " 124: 11,\n",
       " 126: 10,\n",
       " 252: 10,\n",
       " 153: 10,\n",
       " 138: 10,\n",
       " 133: 10,\n",
       " 110: 10,\n",
       " 129: 10,\n",
       " 98: 10,\n",
       " 152: 9,\n",
       " 132: 9,\n",
       " 144: 9,\n",
       " 130: 9,\n",
       " 115: 9,\n",
       " 122: 9,\n",
       " 161: 9,\n",
       " 219: 8,\n",
       " 112: 8,\n",
       " 118: 8,\n",
       " 134: 8,\n",
       " 175: 8,\n",
       " 235: 8,\n",
       " 140: 8,\n",
       " 203: 8,\n",
       " 162: 8,\n",
       " 206: 8,\n",
       " 150: 8,\n",
       " 163: 8,\n",
       " 188: 8,\n",
       " 142: 8,\n",
       " 174: 8,\n",
       " 143: 7,\n",
       " 139: 7,\n",
       " 151: 7,\n",
       " 169: 7,\n",
       " 146: 7,\n",
       " 204: 7,\n",
       " 137: 7,\n",
       " 215: 7,\n",
       " 159: 7,\n",
       " 116: 7,\n",
       " 184: 7,\n",
       " 186: 7,\n",
       " 263: 6,\n",
       " 217: 6,\n",
       " 160: 6,\n",
       " 145: 6,\n",
       " 172: 6,\n",
       " 125: 6,\n",
       " 155: 6,\n",
       " 171: 6,\n",
       " 222: 6,\n",
       " 196: 5,\n",
       " 218: 5,\n",
       " 256: 5,\n",
       " 192: 5,\n",
       " 158: 5,\n",
       " 260: 5,\n",
       " 176: 5,\n",
       " 224: 5,\n",
       " 167: 5,\n",
       " 226: 5,\n",
       " 183: 5,\n",
       " 173: 5,\n",
       " 247: 5,\n",
       " 170: 5,\n",
       " 210: 5,\n",
       " 157: 5,\n",
       " 200: 5,\n",
       " 191: 5,\n",
       " 156: 5,\n",
       " 194: 5,\n",
       " 131: 4,\n",
       " 439: 4,\n",
       " 213: 4,\n",
       " 253: 4,\n",
       " 227: 4,\n",
       " 180: 4,\n",
       " 265: 4,\n",
       " 190: 4,\n",
       " 234: 4,\n",
       " 154: 4,\n",
       " 251: 4,\n",
       " 220: 4,\n",
       " 258: 4,\n",
       " 297: 4,\n",
       " 300: 4,\n",
       " 178: 4,\n",
       " 168: 4,\n",
       " 149: 4,\n",
       " 202: 4,\n",
       " 239: 4,\n",
       " 189: 4,\n",
       " 182: 4,\n",
       " 199: 4,\n",
       " 264: 4,\n",
       " 207: 4,\n",
       " 267: 4,\n",
       " 383: 4,\n",
       " 223: 4,\n",
       " 285: 4,\n",
       " 589: 3,\n",
       " 209: 3,\n",
       " 338: 3,\n",
       " 241: 3,\n",
       " 233: 3,\n",
       " 331: 3,\n",
       " 283: 3,\n",
       " 354: 3,\n",
       " 363: 3,\n",
       " 240: 3,\n",
       " 466: 3,\n",
       " 294: 3,\n",
       " 230: 3,\n",
       " 276: 3,\n",
       " 309: 3,\n",
       " 187: 3,\n",
       " 201: 3,\n",
       " 358: 3,\n",
       " 306: 3,\n",
       " 195: 3,\n",
       " 249: 3,\n",
       " 472: 3,\n",
       " 524: 3,\n",
       " 185: 3,\n",
       " 165: 3,\n",
       " 266: 3,\n",
       " 121: 3,\n",
       " 329: 3,\n",
       " 242: 3,\n",
       " 216: 3,\n",
       " 268: 3,\n",
       " 164: 3,\n",
       " 232: 3,\n",
       " 177: 3,\n",
       " 254: 3,\n",
       " 373: 3,\n",
       " 361: 3,\n",
       " 498: 3,\n",
       " 319: 3,\n",
       " 308: 3,\n",
       " 179: 3,\n",
       " 271: 3,\n",
       " 292: 3,\n",
       " 229: 3,\n",
       " 357: 3,\n",
       " 320: 3,\n",
       " 211: 3,\n",
       " 334: 3,\n",
       " 212: 3,\n",
       " 322: 2,\n",
       " 289: 2,\n",
       " 543: 2,\n",
       " 375: 2,\n",
       " 205: 2,\n",
       " 310: 2,\n",
       " 684: 2,\n",
       " 565: 2,\n",
       " 561: 2,\n",
       " 296: 2,\n",
       " 236: 2,\n",
       " 286: 2,\n",
       " 197: 2,\n",
       " 303: 2,\n",
       " 269: 2,\n",
       " 231: 2,\n",
       " 350: 2,\n",
       " 1079: 2,\n",
       " 332: 2,\n",
       " 520: 2,\n",
       " 259: 2,\n",
       " 307: 2,\n",
       " 654: 2,\n",
       " 228: 2,\n",
       " 627: 2,\n",
       " 721: 2,\n",
       " 291: 2,\n",
       " 275: 2,\n",
       " 221: 2,\n",
       " 295: 2,\n",
       " 413: 2,\n",
       " 181: 2,\n",
       " 446: 2,\n",
       " 356: 2,\n",
       " 237: 2,\n",
       " 288: 2,\n",
       " 502: 2,\n",
       " 193: 2,\n",
       " 491: 2,\n",
       " 328: 2,\n",
       " 442: 2,\n",
       " 458: 2,\n",
       " 273: 2,\n",
       " 278: 2,\n",
       " 1332: 2,\n",
       " 671: 2,\n",
       " 631: 2,\n",
       " 345: 2,\n",
       " 547: 2,\n",
       " 314: 2,\n",
       " 1236: 2,\n",
       " 394: 2,\n",
       " 619: 2,\n",
       " 284: 2,\n",
       " 418: 2,\n",
       " 549: 2,\n",
       " 370: 2,\n",
       " 302: 2,\n",
       " 166: 2,\n",
       " 398: 2,\n",
       " 455: 2,\n",
       " 632: 2,\n",
       " 494: 2,\n",
       " 436: 2,\n",
       " 537: 2,\n",
       " 244: 2,\n",
       " 412: 2,\n",
       " 409: 2,\n",
       " 433: 2,\n",
       " 492: 2,\n",
       " 440: 2,\n",
       " 347: 2,\n",
       " 225: 2,\n",
       " 351: 2,\n",
       " 835: 1,\n",
       " 752: 1,\n",
       " 342: 1,\n",
       " 2409: 1,\n",
       " 459: 1,\n",
       " 978: 1,\n",
       " 793: 1,\n",
       " 642: 1,\n",
       " 790: 1,\n",
       " 3309: 1,\n",
       " 312: 1,\n",
       " 639: 1,\n",
       " 1777: 1,\n",
       " 715: 1,\n",
       " 1110: 1,\n",
       " 1161: 1,\n",
       " 3556: 1,\n",
       " 944: 1,\n",
       " 1003: 1,\n",
       " 1558: 1,\n",
       " 1006: 1,\n",
       " 644: 1,\n",
       " 1032: 1,\n",
       " 3872: 1,\n",
       " 936: 1,\n",
       " 688: 1,\n",
       " 2647: 1,\n",
       " 743: 1,\n",
       " 391: 1,\n",
       " 660: 1,\n",
       " 812: 1,\n",
       " 628: 1,\n",
       " 932: 1,\n",
       " 817: 1,\n",
       " 395: 1,\n",
       " 1477: 1,\n",
       " 531: 1,\n",
       " 1120: 1,\n",
       " 623: 1,\n",
       " 454: 1,\n",
       " 529: 1,\n",
       " 889: 1,\n",
       " 2889: 1,\n",
       " 340: 1,\n",
       " 982: 1,\n",
       " 2845: 1,\n",
       " 611: 1,\n",
       " 464: 1,\n",
       " 638: 1,\n",
       " 1176: 1,\n",
       " 365: 1,\n",
       " 425: 1,\n",
       " 3400: 1,\n",
       " 836: 1,\n",
       " 452: 1,\n",
       " 1227: 1,\n",
       " 483: 1,\n",
       " 553: 1,\n",
       " 745: 1,\n",
       " 2979: 1,\n",
       " 427: 1,\n",
       " 794: 1,\n",
       " 1467: 1,\n",
       " 1008: 1,\n",
       " 474: 1,\n",
       " 304: 1,\n",
       " 1749: 1,\n",
       " 301: 1,\n",
       " 378: 1,\n",
       " 591: 1,\n",
       " 685: 1,\n",
       " 841: 1,\n",
       " 1412: 1,\n",
       " 577: 1,\n",
       " 735: 1,\n",
       " 419: 1,\n",
       " 678: 1,\n",
       " 364: 1,\n",
       " 390: 1,\n",
       " 510: 1,\n",
       " 1429: 1,\n",
       " 1487: 1,\n",
       " 339: 1,\n",
       " 2466: 1,\n",
       " 484: 1,\n",
       " 861: 1,\n",
       " 899: 1,\n",
       " 1858: 1,\n",
       " 1454: 1,\n",
       " 282: 1,\n",
       " 1617: 1,\n",
       " 317: 1,\n",
       " 335: 1,\n",
       " 449: 1,\n",
       " 245: 1,\n",
       " 315: 1,\n",
       " 411: 1,\n",
       " 326: 1,\n",
       " 723: 1,\n",
       " 548: 1,\n",
       " 530: 1,\n",
       " 497: 1,\n",
       " 512: 1,\n",
       " 902: 1,\n",
       " 1282: 1,\n",
       " 1330: 1,\n",
       " 6309: 1,\n",
       " 3293: 1,\n",
       " 511: 1,\n",
       " 392: 1,\n",
       " 287: 1,\n",
       " 1218: 1,\n",
       " 641: 1,\n",
       " 386: 1,\n",
       " 592: 1,\n",
       " 541: 1,\n",
       " 546: 1,\n",
       " 384: 1,\n",
       " 482: 1,\n",
       " 838: 1,\n",
       " 346: 1,\n",
       " 849: 1,\n",
       " 495: 1,\n",
       " 1064: 1,\n",
       " 534: 1,\n",
       " 368: 1,\n",
       " 3665: 1,\n",
       " 1745: 1,\n",
       " 650: 1,\n",
       " 747: 1,\n",
       " 822: 1,\n",
       " 366: 1,\n",
       " 262: 1,\n",
       " 516: 1,\n",
       " 897: 1,\n",
       " 1357: 1,\n",
       " 998: 1,\n",
       " 598: 1,\n",
       " 857: 1,\n",
       " 787: 1,\n",
       " 2327: 1,\n",
       " 1217: 1,\n",
       " 938: 1,\n",
       " 214: 1,\n",
       " 372: 1,\n",
       " 788: 1,\n",
       " 667: 1,\n",
       " 635: 1,\n",
       " 506: 1,\n",
       " 986: 1,\n",
       " 496: 1,\n",
       " 330: 1,\n",
       " 1053: 1,\n",
       " 1472: 1,\n",
       " 1233: 1,\n",
       " 431: 1,\n",
       " 1737: 1,\n",
       " 919: 1,\n",
       " 633: 1,\n",
       " 578: 1,\n",
       " 479: 1,\n",
       " 621: 1,\n",
       " 824: 1,\n",
       " 773: 1,\n",
       " 468: 1,\n",
       " 830: 1,\n",
       " 1054: 1,\n",
       " 445: 1,\n",
       " 1395: 1,\n",
       " 325: 1,\n",
       " 2903: 1,\n",
       " 238: 1,\n",
       " 782: 1,\n",
       " 1714: 1,\n",
       " 574: 1,\n",
       " 1130: 1,\n",
       " 918: 1,\n",
       " 1461: 1,\n",
       " 3958: 1,\n",
       " 374: 1,\n",
       " 2626: 1,\n",
       " 355: 1,\n",
       " 674: 1,\n",
       " 428: 1,\n",
       " 261: 1,\n",
       " 1136: 1,\n",
       " 2480: 1,\n",
       " 771: 1,\n",
       " 778: 1,\n",
       " 305: 1,\n",
       " 513: 1,\n",
       " 756: 1,\n",
       " 939: 1,\n",
       " 416: 1,\n",
       " 414: 1,\n",
       " 470: 1,\n",
       " 1209: 1,\n",
       " 430: 1,\n",
       " 1803: 1,\n",
       " 379: 1,\n",
       " 733: 1,\n",
       " 818: 1,\n",
       " 198: 1,\n",
       " 1414: 1,\n",
       " 535: 1,\n",
       " 928: 1,\n",
       " 473: 1,\n",
       " 6085: 1,\n",
       " 523: 1,\n",
       " 299: 1,\n",
       " 465: 1,\n",
       " 2074: 1,\n",
       " 1051: 1,\n",
       " 1740: 1,\n",
       " 676: 1,\n",
       " 2663: 1,\n",
       " 420: 1,\n",
       " 626: 1,\n",
       " 4680: 1,\n",
       " 912: 1,\n",
       " 1154: 1,\n",
       " 293: 1,\n",
       " 823: 1,\n",
       " 858: 1,\n",
       " 1099: 1,\n",
       " 5588: 1,\n",
       " 922: 1,\n",
       " 2568: 1,\n",
       " 724: 1,\n",
       " 573: 1,\n",
       " 461: 1,\n",
       " 478: 1,\n",
       " 277: 1,\n",
       " 562: 1,\n",
       " 4180: 1,\n",
       " 3166: 1,\n",
       " 1270: 1,\n",
       " 281: 1,\n",
       " 1018: 1,\n",
       " 620: 1,\n",
       " 809: 1,\n",
       " 708: 1,\n",
       " 404: 1,\n",
       " 1425: 1,\n",
       " 1091: 1,\n",
       " 487: 1,\n",
       " 977: 1,\n",
       " 893: 1,\n",
       " 1002: 1,\n",
       " 344: 1,\n",
       " 550: 1,\n",
       " 450: 1,\n",
       " 407: 1,\n",
       " 380: 1,\n",
       " 280: 1,\n",
       " 1493: 1,\n",
       " 1235: 1,\n",
       " 248: 1,\n",
       " 741: 1,\n",
       " 385: 1,\n",
       " 655: 1,\n",
       " 2135: 1,\n",
       " 337: 1,\n",
       " 1014: 1,\n",
       " 489: 1,\n",
       " 270: 1,\n",
       " 2997: 1,\n",
       " 257: 1,\n",
       " 272: 1,\n",
       " 1038: 1,\n",
       " 795: 1,\n",
       " 4586: 1,\n",
       " 485: 1}"
      ]
     },
     "execution_count": 282,
     "metadata": {},
     "output_type": "execute_result"
    }
   ],
   "source": [
    "subreddit_count_freq = dict(Counter(subreddit_count.values()).most_common())\n",
    "subreddit_count_freq"
   ]
  },
  {
   "cell_type": "markdown",
   "metadata": {},
   "source": [
    "`subreddit_count_freq` keeps track of how many news sources appear in *n* subreddits for all possible *n*."
   ]
  },
  {
   "cell_type": "code",
   "execution_count": 283,
   "metadata": {},
   "outputs": [
    {
     "data": {
      "text/plain": [
       "6309"
      ]
     },
     "execution_count": 283,
     "metadata": {},
     "output_type": "execute_result"
    }
   ],
   "source": [
    "max(subreddit_count_freq.keys())"
   ]
  },
  {
   "cell_type": "code",
   "execution_count": 284,
   "metadata": {},
   "outputs": [
    {
     "name": "stdout",
     "output_type": "stream",
     "text": [
      "theguardian.com is mentioned in 6309 subreddits.\n",
      "nytimes.com is mentioned in 6085 subreddits.\n",
      "cnn.com is mentioned in 5588 subreddits.\n",
      "bbc.com is mentioned in 4680 subreddits.\n",
      "fandom.com is mentioned in 4586 subreddits.\n",
      "reuters.com is mentioned in 4180 subreddits.\n",
      "washingtonpost.com is mentioned in 3958 subreddits.\n",
      "forbes.com is mentioned in 3872 subreddits.\n",
      "cnbc.com is mentioned in 3665 subreddits.\n",
      "bloomberg.com is mentioned in 3556 subreddits.\n",
      "bbc.co.uk is mentioned in 3400 subreddits.\n",
      "businessinsider.com is mentioned in 3309 subreddits.\n",
      "apnews.com is mentioned in 3293 subreddits.\n",
      "npr.org is mentioned in 3166 subreddits.\n",
      "nbcnews.com is mentioned in 2997 subreddits.\n",
      "dailymail.co.uk is mentioned in 2979 subreddits.\n",
      "independent.co.uk is mentioned in 2903 subreddits.\n",
      "msn.com is mentioned in 2889 subreddits.\n",
      "vice.com is mentioned in 2845 subreddits.\n",
      "nih.gov is mentioned in 2663 subreddits.\n"
     ]
    }
   ],
   "source": [
    "sde_ranked = Counter(subreddit_count).most_common()\n",
    "\n",
    "for t in sde_ranked[:20]:\n",
    "    sr, co = t\n",
    "    if co > 1:\n",
    "        print(f\"{sr} is mentioned in {co} subreddits.\")"
   ]
  },
  {
   "cell_type": "code",
   "execution_count": 285,
   "metadata": {},
   "outputs": [
    {
     "name": "stdout",
     "output_type": "stream",
     "text": [
      "['wikileaks-kr.org', 'sportzwiki.com', 'wikinews.org', 'catawiki.com', 'semiwiki.com', 'wikia.com', 'wikichip.org', 'wikileaf.com']\n"
     ]
    }
   ],
   "source": [
    "print([k for k in ns_union if \"wiki\" in k])"
   ]
  },
  {
   "cell_type": "code",
   "execution_count": 286,
   "metadata": {},
   "outputs": [
    {
     "data": {
      "text/plain": [
       "428"
      ]
     },
     "execution_count": 286,
     "metadata": {},
     "output_type": "execute_result"
    }
   ],
   "source": [
    "sc = [s for s in subreddit_count if subreddit_count[s]>=300]\n",
    "len(sc)"
   ]
  },
  {
   "cell_type": "code",
   "execution_count": 287,
   "metadata": {},
   "outputs": [],
   "source": [
    "with open(\"sc_ge3k.csv\", \"w\", newline='', encoding=\"utf-8\") as s:\n",
    "    w = csv.writer(s, dialect=\"excel\", delimiter=\",\")\n",
    "    for c in sc:\n",
    "        w.writerow([c])"
   ]
  },
  {
   "cell_type": "code",
   "execution_count": 288,
   "metadata": {},
   "outputs": [
    {
     "data": {
      "text/plain": [
       "True"
      ]
     },
     "execution_count": 288,
     "metadata": {},
     "output_type": "execute_result"
    }
   ],
   "source": [
    "sum(subreddit_count_freq.values()) == len(ns_union)"
   ]
  },
  {
   "cell_type": "code",
   "execution_count": 289,
   "metadata": {},
   "outputs": [],
   "source": [
    "import itertools"
   ]
  },
  {
   "cell_type": "code",
   "execution_count": 290,
   "metadata": {},
   "outputs": [],
   "source": [
    "scf = list(itertools.chain.from_iterable(itertools.repeat(k,v) for k,v in subreddit_count_freq.items()))"
   ]
  },
  {
   "cell_type": "code",
   "execution_count": 291,
   "metadata": {
    "scrolled": true
   },
   "outputs": [
    {
     "data": {
      "text/plain": [
       "Text(0.5, 1.0, 'number of news sources appearing in x subreddits')"
      ]
     },
     "execution_count": 291,
     "metadata": {},
     "output_type": "execute_result"
    },
    {
     "data": {
      "image/png": "[encoded data removed]",
      "text/plain": [
       "<Figure size 432x288 with 1 Axes>"
      ]
     },
     "metadata": {},
     "output_type": "display_data"
    }
   ],
   "source": [
    "# sns.histplot([math.log(s,10) for s in scf])\n",
    "sns.histplot(scf, log_scale=True)\n",
    "plt.xlabel(\"number of subreddit\")\n",
    "plt.ylabel(\"news source count\")\n",
    "plt.title(\"number of news sources appearing in x subreddits\")"
   ]
  },
  {
   "cell_type": "markdown",
   "metadata": {},
   "source": [
    "How many news sources only appear in 10 subreddits or less? what about 9 or 8?"
   ]
  },
  {
   "cell_type": "code",
   "execution_count": 292,
   "metadata": {},
   "outputs": [],
   "source": [
    "def pct_ns_in_k_subreddits(ks):\n",
    "    ns_in_i_subreddit = [k for k in subreddit_count if subreddit_count[k] <= ks]\n",
    "    count = len(ns_in_i_subreddit)\n",
    "    print(\"There are {} news sources appearing in only {} subreddits or less ({}%)\".format(count, ks, count/len(ns_union)))\n",
    "    return count/len(ns_union)"
   ]
  },
  {
   "cell_type": "code",
   "execution_count": 293,
   "metadata": {},
   "outputs": [
    {
     "name": "stdout",
     "output_type": "stream",
     "text": [
      "There are 11917 news sources appearing in only 5 subreddits or less (0.5012197173620457%)\n"
     ]
    },
    {
     "data": {
      "text/plain": [
       "0.5012197173620457"
      ]
     },
     "execution_count": 293,
     "metadata": {},
     "output_type": "execute_result"
    }
   ],
   "source": [
    "pct_ns_in_k_subreddits(5)"
   ]
  },
  {
   "cell_type": "code",
   "execution_count": 294,
   "metadata": {},
   "outputs": [
    {
     "name": "stdout",
     "output_type": "stream",
     "text": [
      "There are 0 news sources appearing in only 0 subreddits or less (0.0%)\n",
      "There are 4649 news sources appearing in only 1 subreddits or less (0.19553331090174966%)\n",
      "There are 7440 news sources appearing in only 2 subreddits or less (0.31292059219380886%)\n",
      "There are 9374 news sources appearing in only 3 subreddits or less (0.39426312247644685%)\n",
      "There are 10794 news sources appearing in only 4 subreddits or less (0.45398721399730824%)\n",
      "There are 11917 news sources appearing in only 5 subreddits or less (0.5012197173620457%)\n",
      "There are 12846 news sources appearing in only 6 subreddits or less (0.540292732166891%)\n",
      "There are 13624 news sources appearing in only 7 subreddits or less (0.573014804845222%)\n",
      "There are 14299 news sources appearing in only 8 subreddits or less (0.6014047779273217%)\n",
      "There are 14841 news sources appearing in only 9 subreddits or less (0.6242008748317631%)\n",
      "There are 15316 news sources appearing in only 10 subreddits or less (0.644179004037685%)\n",
      "There are 15757 news sources appearing in only 11 subreddits or less (0.6627271197846568%)\n",
      "There are 16115 news sources appearing in only 12 subreddits or less (0.6777843203230148%)\n",
      "There are 16443 news sources appearing in only 13 subreddits or less (0.6915797442799462%)\n",
      "There are 16789 news sources appearing in only 14 subreddits or less (0.7061322341857336%)\n",
      "There are 17095 news sources appearing in only 15 subreddits or less (0.7190023553162853%)\n",
      "There are 17367 news sources appearing in only 16 subreddits or less (0.730442462987887%)\n",
      "There are 17611 news sources appearing in only 17 subreddits or less (0.7407049125168237%)\n",
      "There are 17834 news sources appearing in only 18 subreddits or less (0.7500841184387618%)\n",
      "There are 18022 news sources appearing in only 19 subreddits or less (0.7579912516823688%)\n",
      "There are 18206 news sources appearing in only 20 subreddits or less (0.7657301480484522%)\n",
      "There are 18400 news sources appearing in only 21 subreddits or less (0.7738896366083445%)\n",
      "There are 18592 news sources appearing in only 22 subreddits or less (0.7819650067294751%)\n",
      "There are 18722 news sources appearing in only 23 subreddits or less (0.7874327052489906%)\n",
      "There are 18870 news sources appearing in only 24 subreddits or less (0.7936574697173621%)\n",
      "There are 19010 news sources appearing in only 25 subreddits or less (0.7995457604306864%)\n",
      "There are 19127 news sources appearing in only 26 subreddits or less (0.8044666890982504%)\n",
      "There are 19252 news sources appearing in only 27 subreddits or less (0.8097240915208613%)\n",
      "There are 19353 news sources appearing in only 28 subreddits or less (0.813972072678331%)\n",
      "There are 19455 news sources appearing in only 29 subreddits or less (0.8182621130551817%)\n",
      "There are 19570 news sources appearing in only 30 subreddits or less (0.8230989232839838%)\n",
      "There are 19674 news sources appearing in only 31 subreddits or less (0.8274730820995962%)\n",
      "There are 19755 news sources appearing in only 32 subreddits or less (0.8308798788694481%)\n",
      "There are 19856 news sources appearing in only 33 subreddits or less (0.8351278600269179%)\n",
      "There are 19941 news sources appearing in only 34 subreddits or less (0.8387028936742934%)\n",
      "There are 20027 news sources appearing in only 35 subreddits or less (0.8423199865410498%)\n",
      "There are 20090 news sources appearing in only 36 subreddits or less (0.8449697173620457%)\n",
      "There are 20165 news sources appearing in only 37 subreddits or less (0.8481241588156124%)\n",
      "There are 20245 news sources appearing in only 38 subreddits or less (0.8514888963660835%)\n",
      "There are 20310 news sources appearing in only 39 subreddits or less (0.8542227456258412%)\n",
      "There are 20369 news sources appearing in only 40 subreddits or less (0.8567042395693136%)\n",
      "There are 20435 news sources appearing in only 41 subreddits or less (0.8594801480484522%)\n",
      "There are 20503 news sources appearing in only 42 subreddits or less (0.8623401749663526%)\n",
      "There are 20562 news sources appearing in only 43 subreddits or less (0.864821668909825%)\n",
      "There are 20615 news sources appearing in only 44 subreddits or less (0.8670508075370121%)\n",
      "There are 20674 news sources appearing in only 45 subreddits or less (0.8695323014804845%)\n",
      "There are 20734 news sources appearing in only 46 subreddits or less (0.8720558546433378%)\n",
      "There are 20791 news sources appearing in only 47 subreddits or less (0.8744532301480484%)\n",
      "There are 20855 news sources appearing in only 48 subreddits or less (0.8771450201884253%)\n",
      "There are 20915 news sources appearing in only 49 subreddits or less (0.8796685733512786%)\n",
      "There are 20959 news sources appearing in only 50 subreddits or less (0.8815191790040376%)\n",
      "There are 20994 news sources appearing in only 51 subreddits or less (0.8829912516823688%)\n",
      "There are 21029 news sources appearing in only 52 subreddits or less (0.8844633243606999%)\n",
      "There are 21083 news sources appearing in only 53 subreddits or less (0.8867345222072678%)\n",
      "There are 21133 news sources appearing in only 54 subreddits or less (0.8888374831763123%)\n",
      "There are 21182 news sources appearing in only 55 subreddits or less (0.8908983849259757%)\n",
      "There are 21225 news sources appearing in only 56 subreddits or less (0.892706931359354%)\n",
      "There are 21272 news sources appearing in only 57 subreddits or less (0.8946837146702558%)\n",
      "There are 21298 news sources appearing in only 58 subreddits or less (0.8957772543741588%)\n",
      "There are 21335 news sources appearing in only 59 subreddits or less (0.8973334454912517%)\n",
      "There are 21361 news sources appearing in only 60 subreddits or less (0.8984269851951547%)\n",
      "There are 21397 news sources appearing in only 61 subreddits or less (0.8999411170928667%)\n",
      "There are 21424 news sources appearing in only 62 subreddits or less (0.9010767160161507%)\n",
      "There are 21457 news sources appearing in only 63 subreddits or less (0.9024646702557201%)\n",
      "There are 21495 news sources appearing in only 64 subreddits or less (0.9040629205921938%)\n",
      "There are 21520 news sources appearing in only 65 subreddits or less (0.905114401076716%)\n",
      "There are 21547 news sources appearing in only 66 subreddits or less (0.90625%)\n",
      "There are 21574 news sources appearing in only 67 subreddits or less (0.907385598923284%)\n",
      "There are 21595 news sources appearing in only 68 subreddits or less (0.9082688425302826%)\n",
      "There are 21625 news sources appearing in only 69 subreddits or less (0.9095306191117093%)\n",
      "There are 21652 news sources appearing in only 70 subreddits or less (0.9106662180349933%)\n",
      "There are 21680 news sources appearing in only 71 subreddits or less (0.9118438761776582%)\n",
      "There are 21708 news sources appearing in only 72 subreddits or less (0.9130215343203231%)\n",
      "There are 21734 news sources appearing in only 73 subreddits or less (0.9141150740242261%)\n",
      "There are 21775 news sources appearing in only 74 subreddits or less (0.9158395020188426%)\n",
      "There are 21797 news sources appearing in only 75 subreddits or less (0.916764804845222%)\n",
      "There are 21826 news sources appearing in only 76 subreddits or less (0.9179845222072678%)\n",
      "There are 21845 news sources appearing in only 77 subreddits or less (0.9187836473755047%)\n",
      "There are 21867 news sources appearing in only 78 subreddits or less (0.9197089502018843%)\n",
      "There are 21887 news sources appearing in only 79 subreddits or less (0.920550134589502%)\n",
      "There are 21904 news sources appearing in only 80 subreddits or less (0.9212651413189771%)\n",
      "There are 21931 news sources appearing in only 81 subreddits or less (0.9224007402422612%)\n",
      "There are 21952 news sources appearing in only 82 subreddits or less (0.9232839838492598%)\n",
      "There are 21963 news sources appearing in only 83 subreddits or less (0.9237466352624495%)\n",
      "There are 21987 news sources appearing in only 84 subreddits or less (0.9247560565275909%)\n",
      "There are 22003 news sources appearing in only 85 subreddits or less (0.925429004037685%)\n",
      "There are 22022 news sources appearing in only 86 subreddits or less (0.9262281292059219%)\n",
      "There are 22046 news sources appearing in only 87 subreddits or less (0.9272375504710633%)\n",
      "There are 22065 news sources appearing in only 88 subreddits or less (0.9280366756393001%)\n",
      "There are 22087 news sources appearing in only 89 subreddits or less (0.9289619784656796%)\n",
      "There are 22102 news sources appearing in only 90 subreddits or less (0.929592866756393%)\n",
      "There are 22135 news sources appearing in only 91 subreddits or less (0.9309808209959624%)\n",
      "There are 22153 news sources appearing in only 92 subreddits or less (0.9317378869448183%)\n",
      "There are 22168 news sources appearing in only 93 subreddits or less (0.9323687752355316%)\n",
      "There are 22190 news sources appearing in only 94 subreddits or less (0.9332940780619112%)\n",
      "There are 22203 news sources appearing in only 95 subreddits or less (0.9338408479138627%)\n",
      "There are 22223 news sources appearing in only 96 subreddits or less (0.9346820323014805%)\n",
      "There are 22236 news sources appearing in only 97 subreddits or less (0.9352288021534321%)\n",
      "There are 22246 news sources appearing in only 98 subreddits or less (0.9356493943472409%)\n",
      "There are 22257 news sources appearing in only 99 subreddits or less (0.9361120457604307%)\n",
      "There are 22272 news sources appearing in only 100 subreddits or less (0.9367429340511441%)\n",
      "There are 22287 news sources appearing in only 101 subreddits or less (0.9373738223418573%)\n",
      "There are 22300 news sources appearing in only 102 subreddits or less (0.9379205921938089%)\n"
     ]
    },
    {
     "name": "stdout",
     "output_type": "stream",
     "text": [
      "There are 22318 news sources appearing in only 103 subreddits or less (0.9386776581426649%)\n",
      "There are 22334 news sources appearing in only 104 subreddits or less (0.9393506056527591%)\n",
      "There are 22353 news sources appearing in only 105 subreddits or less (0.940149730820996%)\n",
      "There are 22371 news sources appearing in only 106 subreddits or less (0.940906796769852%)\n",
      "There are 22382 news sources appearing in only 107 subreddits or less (0.9413694481830417%)\n",
      "There are 22395 news sources appearing in only 108 subreddits or less (0.9419162180349933%)\n",
      "There are 22408 news sources appearing in only 109 subreddits or less (0.9424629878869448%)\n",
      "There are 22418 news sources appearing in only 110 subreddits or less (0.9428835800807537%)\n",
      "There are 22431 news sources appearing in only 111 subreddits or less (0.9434303499327052%)\n",
      "There are 22439 news sources appearing in only 112 subreddits or less (0.9437668236877523%)\n",
      "There are 22457 news sources appearing in only 113 subreddits or less (0.9445238896366084%)\n",
      "There are 22472 news sources appearing in only 114 subreddits or less (0.9451547779273217%)\n",
      "There are 22481 news sources appearing in only 115 subreddits or less (0.9455333109017496%)\n",
      "There are 22488 news sources appearing in only 116 subreddits or less (0.9458277254374159%)\n",
      "There are 22501 news sources appearing in only 117 subreddits or less (0.9463744952893675%)\n",
      "There are 22509 news sources appearing in only 118 subreddits or less (0.9467109690444145%)\n",
      "There are 22520 news sources appearing in only 119 subreddits or less (0.9471736204576043%)\n",
      "There are 22535 news sources appearing in only 120 subreddits or less (0.9478045087483177%)\n",
      "There are 22538 news sources appearing in only 121 subreddits or less (0.9479306864064603%)\n",
      "There are 22547 news sources appearing in only 122 subreddits or less (0.9483092193808883%)\n",
      "There are 22558 news sources appearing in only 123 subreddits or less (0.9487718707940781%)\n",
      "There are 22569 news sources appearing in only 124 subreddits or less (0.9492345222072678%)\n",
      "There are 22575 news sources appearing in only 125 subreddits or less (0.9494868775235532%)\n",
      "There are 22585 news sources appearing in only 126 subreddits or less (0.9499074697173621%)\n",
      "There are 22596 news sources appearing in only 127 subreddits or less (0.9503701211305519%)\n",
      "There are 22607 news sources appearing in only 128 subreddits or less (0.9508327725437415%)\n",
      "There are 22617 news sources appearing in only 129 subreddits or less (0.9512533647375505%)\n",
      "There are 22626 news sources appearing in only 130 subreddits or less (0.9516318977119784%)\n",
      "There are 22630 news sources appearing in only 131 subreddits or less (0.951800134589502%)\n",
      "There are 22639 news sources appearing in only 132 subreddits or less (0.95217866756393%)\n",
      "There are 22649 news sources appearing in only 133 subreddits or less (0.9525992597577388%)\n",
      "There are 22657 news sources appearing in only 134 subreddits or less (0.952935733512786%)\n",
      "There are 22671 news sources appearing in only 135 subreddits or less (0.9535245625841184%)\n",
      "There are 22683 news sources appearing in only 136 subreddits or less (0.9540292732166891%)\n",
      "There are 22690 news sources appearing in only 137 subreddits or less (0.9543236877523553%)\n",
      "There are 22700 news sources appearing in only 138 subreddits or less (0.9547442799461642%)\n",
      "There are 22707 news sources appearing in only 139 subreddits or less (0.9550386944818304%)\n",
      "There are 22715 news sources appearing in only 140 subreddits or less (0.9553751682368775%)\n",
      "There are 22729 news sources appearing in only 141 subreddits or less (0.9559639973082099%)\n",
      "There are 22737 news sources appearing in only 142 subreddits or less (0.9563004710632571%)\n",
      "There are 22744 news sources appearing in only 143 subreddits or less (0.9565948855989233%)\n",
      "There are 22753 news sources appearing in only 144 subreddits or less (0.9569734185733513%)\n",
      "There are 22759 news sources appearing in only 145 subreddits or less (0.9572257738896366%)\n",
      "There are 22766 news sources appearing in only 146 subreddits or less (0.9575201884253028%)\n",
      "There are 22778 news sources appearing in only 147 subreddits or less (0.9580248990578735%)\n",
      "There are 22790 news sources appearing in only 148 subreddits or less (0.9585296096904441%)\n",
      "There are 22794 news sources appearing in only 149 subreddits or less (0.9586978465679677%)\n",
      "There are 22802 news sources appearing in only 150 subreddits or less (0.9590343203230148%)\n",
      "There are 22809 news sources appearing in only 151 subreddits or less (0.959328734858681%)\n",
      "There are 22818 news sources appearing in only 152 subreddits or less (0.959707267833109%)\n",
      "There are 22828 news sources appearing in only 153 subreddits or less (0.9601278600269179%)\n",
      "There are 22832 news sources appearing in only 154 subreddits or less (0.9602960969044414%)\n",
      "There are 22838 news sources appearing in only 155 subreddits or less (0.9605484522207268%)\n",
      "There are 22843 news sources appearing in only 156 subreddits or less (0.9607587483176312%)\n",
      "There are 22848 news sources appearing in only 157 subreddits or less (0.9609690444145357%)\n",
      "There are 22853 news sources appearing in only 158 subreddits or less (0.9611793405114402%)\n",
      "There are 22860 news sources appearing in only 159 subreddits or less (0.9614737550471063%)\n",
      "There are 22866 news sources appearing in only 160 subreddits or less (0.9617261103633916%)\n",
      "There are 22875 news sources appearing in only 161 subreddits or less (0.9621046433378196%)\n",
      "There are 22883 news sources appearing in only 162 subreddits or less (0.9624411170928667%)\n",
      "There are 22891 news sources appearing in only 163 subreddits or less (0.9627775908479138%)\n",
      "There are 22894 news sources appearing in only 164 subreddits or less (0.9629037685060565%)\n",
      "There are 22897 news sources appearing in only 165 subreddits or less (0.9630299461641992%)\n",
      "There are 22899 news sources appearing in only 166 subreddits or less (0.963114064602961%)\n",
      "There are 22904 news sources appearing in only 167 subreddits or less (0.9633243606998654%)\n",
      "There are 22908 news sources appearing in only 168 subreddits or less (0.9634925975773889%)\n",
      "There are 22915 news sources appearing in only 169 subreddits or less (0.9637870121130552%)\n",
      "There are 22920 news sources appearing in only 170 subreddits or less (0.9639973082099597%)\n",
      "There are 22926 news sources appearing in only 171 subreddits or less (0.964249663526245%)\n",
      "There are 22932 news sources appearing in only 172 subreddits or less (0.9645020188425303%)\n",
      "There are 22937 news sources appearing in only 173 subreddits or less (0.9647123149394348%)\n",
      "There are 22945 news sources appearing in only 174 subreddits or less (0.9650487886944819%)\n",
      "There are 22953 news sources appearing in only 175 subreddits or less (0.9653852624495289%)\n",
      "There are 22958 news sources appearing in only 176 subreddits or less (0.9655955585464334%)\n",
      "There are 22961 news sources appearing in only 177 subreddits or less (0.965721736204576%)\n",
      "There are 22965 news sources appearing in only 178 subreddits or less (0.9658899730820996%)\n",
      "There are 22968 news sources appearing in only 179 subreddits or less (0.9660161507402423%)\n",
      "There are 22972 news sources appearing in only 180 subreddits or less (0.9661843876177658%)\n",
      "There are 22974 news sources appearing in only 181 subreddits or less (0.9662685060565276%)\n",
      "There are 22978 news sources appearing in only 182 subreddits or less (0.9664367429340511%)\n",
      "There are 22983 news sources appearing in only 183 subreddits or less (0.9666470390309556%)\n",
      "There are 22990 news sources appearing in only 184 subreddits or less (0.9669414535666218%)\n",
      "There are 22993 news sources appearing in only 185 subreddits or less (0.9670676312247645%)\n",
      "There are 23000 news sources appearing in only 186 subreddits or less (0.9673620457604307%)\n",
      "There are 23003 news sources appearing in only 187 subreddits or less (0.9674882234185733%)\n",
      "There are 23011 news sources appearing in only 188 subreddits or less (0.9678246971736204%)\n",
      "There are 23015 news sources appearing in only 189 subreddits or less (0.9679929340511441%)\n",
      "There are 23019 news sources appearing in only 190 subreddits or less (0.9681611709286676%)\n",
      "There are 23024 news sources appearing in only 191 subreddits or less (0.968371467025572%)\n",
      "There are 23029 news sources appearing in only 192 subreddits or less (0.9685817631224765%)\n",
      "There are 23031 news sources appearing in only 193 subreddits or less (0.9686658815612382%)\n",
      "There are 23036 news sources appearing in only 194 subreddits or less (0.9688761776581427%)\n",
      "There are 23039 news sources appearing in only 195 subreddits or less (0.9690023553162853%)\n",
      "There are 23044 news sources appearing in only 196 subreddits or less (0.9692126514131898%)\n",
      "There are 23046 news sources appearing in only 197 subreddits or less (0.9692967698519516%)\n",
      "There are 23047 news sources appearing in only 198 subreddits or less (0.9693388290713324%)\n",
      "There are 23051 news sources appearing in only 199 subreddits or less (0.9695070659488559%)\n",
      "There are 23056 news sources appearing in only 200 subreddits or less (0.9697173620457604%)\n",
      "There are 23059 news sources appearing in only 201 subreddits or less (0.9698435397039031%)\n",
      "There are 23063 news sources appearing in only 202 subreddits or less (0.9700117765814267%)\n",
      "There are 23071 news sources appearing in only 203 subreddits or less (0.9703482503364738%)\n"
     ]
    },
    {
     "name": "stdout",
     "output_type": "stream",
     "text": [
      "There are 23078 news sources appearing in only 204 subreddits or less (0.97064266487214%)\n",
      "There are 23080 news sources appearing in only 205 subreddits or less (0.9707267833109018%)\n",
      "There are 23088 news sources appearing in only 206 subreddits or less (0.9710632570659489%)\n",
      "There are 23092 news sources appearing in only 207 subreddits or less (0.9712314939434724%)\n",
      "There are 23092 news sources appearing in only 208 subreddits or less (0.9712314939434724%)\n",
      "There are 23095 news sources appearing in only 209 subreddits or less (0.9713576716016151%)\n",
      "There are 23100 news sources appearing in only 210 subreddits or less (0.9715679676985195%)\n",
      "There are 23103 news sources appearing in only 211 subreddits or less (0.9716941453566622%)\n",
      "There are 23106 news sources appearing in only 212 subreddits or less (0.9718203230148048%)\n",
      "There are 23110 news sources appearing in only 213 subreddits or less (0.9719885598923284%)\n",
      "There are 23111 news sources appearing in only 214 subreddits or less (0.9720306191117093%)\n",
      "There are 23118 news sources appearing in only 215 subreddits or less (0.9723250336473755%)\n",
      "There are 23121 news sources appearing in only 216 subreddits or less (0.9724512113055181%)\n",
      "There are 23127 news sources appearing in only 217 subreddits or less (0.9727035666218035%)\n",
      "There are 23132 news sources appearing in only 218 subreddits or less (0.972913862718708%)\n",
      "There are 23140 news sources appearing in only 219 subreddits or less (0.973250336473755%)\n",
      "There are 23144 news sources appearing in only 220 subreddits or less (0.9734185733512786%)\n",
      "There are 23146 news sources appearing in only 221 subreddits or less (0.9735026917900403%)\n",
      "There are 23152 news sources appearing in only 222 subreddits or less (0.9737550471063257%)\n",
      "There are 23156 news sources appearing in only 223 subreddits or less (0.9739232839838493%)\n",
      "There are 23161 news sources appearing in only 224 subreddits or less (0.9741335800807537%)\n",
      "There are 23163 news sources appearing in only 225 subreddits or less (0.9742176985195155%)\n",
      "There are 23168 news sources appearing in only 226 subreddits or less (0.9744279946164199%)\n",
      "There are 23172 news sources appearing in only 227 subreddits or less (0.9745962314939435%)\n",
      "There are 23174 news sources appearing in only 228 subreddits or less (0.9746803499327052%)\n",
      "There are 23177 news sources appearing in only 229 subreddits or less (0.974806527590848%)\n",
      "There are 23180 news sources appearing in only 230 subreddits or less (0.9749327052489906%)\n",
      "There are 23182 news sources appearing in only 231 subreddits or less (0.9750168236877523%)\n",
      "There are 23185 news sources appearing in only 232 subreddits or less (0.975143001345895%)\n",
      "There are 23188 news sources appearing in only 233 subreddits or less (0.9752691790040376%)\n",
      "There are 23192 news sources appearing in only 234 subreddits or less (0.9754374158815612%)\n",
      "There are 23200 news sources appearing in only 235 subreddits or less (0.9757738896366084%)\n",
      "There are 23202 news sources appearing in only 236 subreddits or less (0.9758580080753702%)\n",
      "There are 23204 news sources appearing in only 237 subreddits or less (0.9759421265141319%)\n",
      "There are 23205 news sources appearing in only 238 subreddits or less (0.9759841857335128%)\n",
      "There are 23209 news sources appearing in only 239 subreddits or less (0.9761524226110363%)\n",
      "There are 23212 news sources appearing in only 240 subreddits or less (0.976278600269179%)\n",
      "There are 23215 news sources appearing in only 241 subreddits or less (0.9764047779273217%)\n",
      "There are 23218 news sources appearing in only 242 subreddits or less (0.9765309555854643%)\n",
      "There are 23218 news sources appearing in only 243 subreddits or less (0.9765309555854643%)\n",
      "There are 23220 news sources appearing in only 244 subreddits or less (0.9766150740242261%)\n",
      "There are 23221 news sources appearing in only 245 subreddits or less (0.976657133243607%)\n",
      "There are 23221 news sources appearing in only 246 subreddits or less (0.976657133243607%)\n",
      "There are 23226 news sources appearing in only 247 subreddits or less (0.9768674293405114%)\n",
      "There are 23227 news sources appearing in only 248 subreddits or less (0.9769094885598923%)\n",
      "There are 23230 news sources appearing in only 249 subreddits or less (0.977035666218035%)\n",
      "There are 23230 news sources appearing in only 250 subreddits or less (0.977035666218035%)\n",
      "There are 23234 news sources appearing in only 251 subreddits or less (0.9772039030955586%)\n",
      "There are 23244 news sources appearing in only 252 subreddits or less (0.9776244952893675%)\n",
      "There are 23248 news sources appearing in only 253 subreddits or less (0.977792732166891%)\n",
      "There are 23251 news sources appearing in only 254 subreddits or less (0.9779189098250336%)\n",
      "There are 23251 news sources appearing in only 255 subreddits or less (0.9779189098250336%)\n",
      "There are 23256 news sources appearing in only 256 subreddits or less (0.9781292059219381%)\n",
      "There are 23257 news sources appearing in only 257 subreddits or less (0.978171265141319%)\n",
      "There are 23261 news sources appearing in only 258 subreddits or less (0.9783395020188426%)\n",
      "There are 23263 news sources appearing in only 259 subreddits or less (0.9784236204576043%)\n",
      "There are 23268 news sources appearing in only 260 subreddits or less (0.9786339165545087%)\n",
      "There are 23269 news sources appearing in only 261 subreddits or less (0.9786759757738897%)\n",
      "There are 23270 news sources appearing in only 262 subreddits or less (0.9787180349932705%)\n",
      "There are 23276 news sources appearing in only 263 subreddits or less (0.9789703903095559%)\n",
      "There are 23280 news sources appearing in only 264 subreddits or less (0.9791386271870794%)\n",
      "There are 23284 news sources appearing in only 265 subreddits or less (0.979306864064603%)\n",
      "There are 23287 news sources appearing in only 266 subreddits or less (0.9794330417227456%)\n",
      "There are 23291 news sources appearing in only 267 subreddits or less (0.9796012786002691%)\n",
      "There are 23294 news sources appearing in only 268 subreddits or less (0.9797274562584118%)\n",
      "There are 23296 news sources appearing in only 269 subreddits or less (0.9798115746971736%)\n",
      "There are 23297 news sources appearing in only 270 subreddits or less (0.9798536339165546%)\n",
      "There are 23300 news sources appearing in only 271 subreddits or less (0.9799798115746972%)\n",
      "There are 23301 news sources appearing in only 272 subreddits or less (0.9800218707940781%)\n",
      "There are 23303 news sources appearing in only 273 subreddits or less (0.9801059892328399%)\n",
      "There are 23303 news sources appearing in only 274 subreddits or less (0.9801059892328399%)\n",
      "There are 23305 news sources appearing in only 275 subreddits or less (0.9801901076716016%)\n",
      "There are 23308 news sources appearing in only 276 subreddits or less (0.9803162853297442%)\n",
      "There are 23309 news sources appearing in only 277 subreddits or less (0.9803583445491252%)\n",
      "There are 23311 news sources appearing in only 278 subreddits or less (0.980442462987887%)\n",
      "There are 23311 news sources appearing in only 279 subreddits or less (0.980442462987887%)\n",
      "There are 23312 news sources appearing in only 280 subreddits or less (0.9804845222072678%)\n",
      "There are 23313 news sources appearing in only 281 subreddits or less (0.9805265814266487%)\n",
      "There are 23314 news sources appearing in only 282 subreddits or less (0.9805686406460296%)\n",
      "There are 23317 news sources appearing in only 283 subreddits or less (0.9806948183041723%)\n",
      "There are 23319 news sources appearing in only 284 subreddits or less (0.980778936742934%)\n",
      "There are 23323 news sources appearing in only 285 subreddits or less (0.9809471736204576%)\n",
      "There are 23325 news sources appearing in only 286 subreddits or less (0.9810312920592194%)\n",
      "There are 23326 news sources appearing in only 287 subreddits or less (0.9810733512786003%)\n",
      "There are 23328 news sources appearing in only 288 subreddits or less (0.9811574697173621%)\n",
      "There are 23330 news sources appearing in only 289 subreddits or less (0.9812415881561238%)\n",
      "There are 23330 news sources appearing in only 290 subreddits or less (0.9812415881561238%)\n",
      "There are 23332 news sources appearing in only 291 subreddits or less (0.9813257065948856%)\n",
      "There are 23335 news sources appearing in only 292 subreddits or less (0.9814518842530283%)\n",
      "There are 23336 news sources appearing in only 293 subreddits or less (0.9814939434724091%)\n",
      "There are 23339 news sources appearing in only 294 subreddits or less (0.9816201211305519%)\n",
      "There are 23341 news sources appearing in only 295 subreddits or less (0.9817042395693136%)\n",
      "There are 23343 news sources appearing in only 296 subreddits or less (0.9817883580080754%)\n",
      "There are 23347 news sources appearing in only 297 subreddits or less (0.9819565948855989%)\n",
      "There are 23347 news sources appearing in only 298 subreddits or less (0.9819565948855989%)\n",
      "There are 23348 news sources appearing in only 299 subreddits or less (0.9819986541049798%)\n",
      "There are 23352 news sources appearing in only 300 subreddits or less (0.9821668909825033%)\n",
      "There are 23353 news sources appearing in only 301 subreddits or less (0.9822089502018843%)\n",
      "There are 23355 news sources appearing in only 302 subreddits or less (0.982293068640646%)\n",
      "There are 23357 news sources appearing in only 303 subreddits or less (0.9823771870794078%)\n",
      "There are 23358 news sources appearing in only 304 subreddits or less (0.9824192462987887%)\n",
      "There are 23359 news sources appearing in only 305 subreddits or less (0.9824613055181696%)\n",
      "There are 23362 news sources appearing in only 306 subreddits or less (0.9825874831763123%)\n",
      "There are 23364 news sources appearing in only 307 subreddits or less (0.982671601615074%)\n"
     ]
    },
    {
     "name": "stdout",
     "output_type": "stream",
     "text": [
      "There are 23367 news sources appearing in only 308 subreddits or less (0.9827977792732167%)\n",
      "There are 23370 news sources appearing in only 309 subreddits or less (0.9829239569313594%)\n",
      "There are 23372 news sources appearing in only 310 subreddits or less (0.9830080753701211%)\n",
      "There are 23372 news sources appearing in only 311 subreddits or less (0.9830080753701211%)\n",
      "There are 23373 news sources appearing in only 312 subreddits or less (0.983050134589502%)\n",
      "There are 23373 news sources appearing in only 313 subreddits or less (0.983050134589502%)\n",
      "There are 23375 news sources appearing in only 314 subreddits or less (0.9831342530282638%)\n",
      "There are 23376 news sources appearing in only 315 subreddits or less (0.9831763122476447%)\n",
      "There are 23376 news sources appearing in only 316 subreddits or less (0.9831763122476447%)\n",
      "There are 23377 news sources appearing in only 317 subreddits or less (0.9832183714670256%)\n",
      "There are 23377 news sources appearing in only 318 subreddits or less (0.9832183714670256%)\n",
      "There are 23380 news sources appearing in only 319 subreddits or less (0.9833445491251682%)\n",
      "There are 23383 news sources appearing in only 320 subreddits or less (0.9834707267833109%)\n",
      "There are 23383 news sources appearing in only 321 subreddits or less (0.9834707267833109%)\n",
      "There are 23385 news sources appearing in only 322 subreddits or less (0.9835548452220727%)\n",
      "There are 23385 news sources appearing in only 323 subreddits or less (0.9835548452220727%)\n",
      "There are 23385 news sources appearing in only 324 subreddits or less (0.9835548452220727%)\n",
      "There are 23386 news sources appearing in only 325 subreddits or less (0.9835969044414535%)\n",
      "There are 23387 news sources appearing in only 326 subreddits or less (0.9836389636608345%)\n",
      "There are 23387 news sources appearing in only 327 subreddits or less (0.9836389636608345%)\n",
      "There are 23389 news sources appearing in only 328 subreddits or less (0.9837230820995962%)\n",
      "There are 23392 news sources appearing in only 329 subreddits or less (0.9838492597577388%)\n",
      "There are 23393 news sources appearing in only 330 subreddits or less (0.9838913189771198%)\n",
      "There are 23396 news sources appearing in only 331 subreddits or less (0.9840174966352625%)\n",
      "There are 23398 news sources appearing in only 332 subreddits or less (0.9841016150740243%)\n",
      "There are 23398 news sources appearing in only 333 subreddits or less (0.9841016150740243%)\n",
      "There are 23401 news sources appearing in only 334 subreddits or less (0.9842277927321669%)\n",
      "There are 23402 news sources appearing in only 335 subreddits or less (0.9842698519515478%)\n",
      "There are 23402 news sources appearing in only 336 subreddits or less (0.9842698519515478%)\n",
      "There are 23403 news sources appearing in only 337 subreddits or less (0.9843119111709286%)\n",
      "There are 23406 news sources appearing in only 338 subreddits or less (0.9844380888290714%)\n",
      "There are 23407 news sources appearing in only 339 subreddits or less (0.9844801480484522%)\n",
      "There are 23408 news sources appearing in only 340 subreddits or less (0.9845222072678331%)\n",
      "There are 23408 news sources appearing in only 341 subreddits or less (0.9845222072678331%)\n",
      "There are 23409 news sources appearing in only 342 subreddits or less (0.984564266487214%)\n",
      "There are 23409 news sources appearing in only 343 subreddits or less (0.984564266487214%)\n",
      "There are 23410 news sources appearing in only 344 subreddits or less (0.9846063257065949%)\n",
      "There are 23412 news sources appearing in only 345 subreddits or less (0.9846904441453567%)\n",
      "There are 23413 news sources appearing in only 346 subreddits or less (0.9847325033647375%)\n",
      "There are 23415 news sources appearing in only 347 subreddits or less (0.9848166218034994%)\n",
      "There are 23415 news sources appearing in only 348 subreddits or less (0.9848166218034994%)\n",
      "There are 23415 news sources appearing in only 349 subreddits or less (0.9848166218034994%)\n",
      "There are 23417 news sources appearing in only 350 subreddits or less (0.9849007402422612%)\n",
      "There are 23419 news sources appearing in only 351 subreddits or less (0.9849848586810229%)\n",
      "There are 23419 news sources appearing in only 352 subreddits or less (0.9849848586810229%)\n",
      "There are 23419 news sources appearing in only 353 subreddits or less (0.9849848586810229%)\n",
      "There are 23422 news sources appearing in only 354 subreddits or less (0.9851110363391655%)\n",
      "There are 23423 news sources appearing in only 355 subreddits or less (0.9851530955585465%)\n",
      "There are 23425 news sources appearing in only 356 subreddits or less (0.9852372139973082%)\n",
      "There are 23428 news sources appearing in only 357 subreddits or less (0.9853633916554508%)\n",
      "There are 23431 news sources appearing in only 358 subreddits or less (0.9854895693135935%)\n",
      "There are 23431 news sources appearing in only 359 subreddits or less (0.9854895693135935%)\n",
      "There are 23431 news sources appearing in only 360 subreddits or less (0.9854895693135935%)\n",
      "There are 23434 news sources appearing in only 361 subreddits or less (0.9856157469717362%)\n",
      "There are 23434 news sources appearing in only 362 subreddits or less (0.9856157469717362%)\n",
      "There are 23437 news sources appearing in only 363 subreddits or less (0.9857419246298789%)\n",
      "There are 23438 news sources appearing in only 364 subreddits or less (0.9857839838492598%)\n",
      "There are 23439 news sources appearing in only 365 subreddits or less (0.9858260430686406%)\n",
      "There are 23440 news sources appearing in only 366 subreddits or less (0.9858681022880216%)\n",
      "There are 23440 news sources appearing in only 367 subreddits or less (0.9858681022880216%)\n",
      "There are 23441 news sources appearing in only 368 subreddits or less (0.9859101615074024%)\n",
      "There are 23441 news sources appearing in only 369 subreddits or less (0.9859101615074024%)\n",
      "There are 23443 news sources appearing in only 370 subreddits or less (0.9859942799461642%)\n",
      "There are 23443 news sources appearing in only 371 subreddits or less (0.9859942799461642%)\n",
      "There are 23444 news sources appearing in only 372 subreddits or less (0.9860363391655451%)\n",
      "There are 23447 news sources appearing in only 373 subreddits or less (0.9861625168236877%)\n",
      "There are 23448 news sources appearing in only 374 subreddits or less (0.9862045760430687%)\n",
      "There are 23450 news sources appearing in only 375 subreddits or less (0.9862886944818304%)\n",
      "There are 23450 news sources appearing in only 376 subreddits or less (0.9862886944818304%)\n",
      "There are 23450 news sources appearing in only 377 subreddits or less (0.9862886944818304%)\n",
      "There are 23451 news sources appearing in only 378 subreddits or less (0.9863307537012113%)\n",
      "There are 23452 news sources appearing in only 379 subreddits or less (0.9863728129205922%)\n",
      "There are 23453 news sources appearing in only 380 subreddits or less (0.986414872139973%)\n",
      "There are 23453 news sources appearing in only 381 subreddits or less (0.986414872139973%)\n",
      "There are 23453 news sources appearing in only 382 subreddits or less (0.986414872139973%)\n",
      "There are 23457 news sources appearing in only 383 subreddits or less (0.9865831090174967%)\n",
      "There are 23458 news sources appearing in only 384 subreddits or less (0.9866251682368775%)\n",
      "There are 23459 news sources appearing in only 385 subreddits or less (0.9866672274562585%)\n",
      "There are 23460 news sources appearing in only 386 subreddits or less (0.9867092866756393%)\n",
      "There are 23460 news sources appearing in only 387 subreddits or less (0.9867092866756393%)\n",
      "There are 23460 news sources appearing in only 388 subreddits or less (0.9867092866756393%)\n",
      "There are 23460 news sources appearing in only 389 subreddits or less (0.9867092866756393%)\n",
      "There are 23461 news sources appearing in only 390 subreddits or less (0.9867513458950202%)\n",
      "There are 23462 news sources appearing in only 391 subreddits or less (0.9867934051144011%)\n",
      "There are 23463 news sources appearing in only 392 subreddits or less (0.986835464333782%)\n",
      "There are 23463 news sources appearing in only 393 subreddits or less (0.986835464333782%)\n",
      "There are 23465 news sources appearing in only 394 subreddits or less (0.9869195827725438%)\n",
      "There are 23466 news sources appearing in only 395 subreddits or less (0.9869616419919246%)\n",
      "There are 23466 news sources appearing in only 396 subreddits or less (0.9869616419919246%)\n",
      "There are 23466 news sources appearing in only 397 subreddits or less (0.9869616419919246%)\n",
      "There are 23468 news sources appearing in only 398 subreddits or less (0.9870457604306864%)\n",
      "There are 23468 news sources appearing in only 399 subreddits or less (0.9870457604306864%)\n",
      "There are 23468 news sources appearing in only 400 subreddits or less (0.9870457604306864%)\n",
      "There are 23468 news sources appearing in only 401 subreddits or less (0.9870457604306864%)\n",
      "There are 23468 news sources appearing in only 402 subreddits or less (0.9870457604306864%)\n",
      "There are 23468 news sources appearing in only 403 subreddits or less (0.9870457604306864%)\n",
      "There are 23469 news sources appearing in only 404 subreddits or less (0.9870878196500673%)\n",
      "There are 23469 news sources appearing in only 405 subreddits or less (0.9870878196500673%)\n",
      "There are 23469 news sources appearing in only 406 subreddits or less (0.9870878196500673%)\n",
      "There are 23470 news sources appearing in only 407 subreddits or less (0.9871298788694481%)\n",
      "There are 23470 news sources appearing in only 408 subreddits or less (0.9871298788694481%)\n",
      "There are 23472 news sources appearing in only 409 subreddits or less (0.9872139973082099%)\n",
      "There are 23472 news sources appearing in only 410 subreddits or less (0.9872139973082099%)\n",
      "There are 23473 news sources appearing in only 411 subreddits or less (0.9872560565275909%)\n"
     ]
    },
    {
     "name": "stdout",
     "output_type": "stream",
     "text": [
      "There are 23475 news sources appearing in only 412 subreddits or less (0.9873401749663526%)\n",
      "There are 23477 news sources appearing in only 413 subreddits or less (0.9874242934051144%)\n",
      "There are 23478 news sources appearing in only 414 subreddits or less (0.9874663526244953%)\n",
      "There are 23478 news sources appearing in only 415 subreddits or less (0.9874663526244953%)\n",
      "There are 23479 news sources appearing in only 416 subreddits or less (0.9875084118438762%)\n",
      "There are 23479 news sources appearing in only 417 subreddits or less (0.9875084118438762%)\n",
      "There are 23481 news sources appearing in only 418 subreddits or less (0.9875925302826379%)\n",
      "There are 23482 news sources appearing in only 419 subreddits or less (0.9876345895020189%)\n",
      "There are 23483 news sources appearing in only 420 subreddits or less (0.9876766487213997%)\n",
      "There are 23483 news sources appearing in only 421 subreddits or less (0.9876766487213997%)\n",
      "There are 23483 news sources appearing in only 422 subreddits or less (0.9876766487213997%)\n",
      "There are 23483 news sources appearing in only 423 subreddits or less (0.9876766487213997%)\n",
      "There are 23483 news sources appearing in only 424 subreddits or less (0.9876766487213997%)\n",
      "There are 23484 news sources appearing in only 425 subreddits or less (0.9877187079407806%)\n",
      "There are 23484 news sources appearing in only 426 subreddits or less (0.9877187079407806%)\n",
      "There are 23485 news sources appearing in only 427 subreddits or less (0.9877607671601615%)\n",
      "There are 23486 news sources appearing in only 428 subreddits or less (0.9878028263795424%)\n",
      "There are 23486 news sources appearing in only 429 subreddits or less (0.9878028263795424%)\n",
      "There are 23487 news sources appearing in only 430 subreddits or less (0.9878448855989233%)\n",
      "There are 23488 news sources appearing in only 431 subreddits or less (0.9878869448183042%)\n",
      "There are 23488 news sources appearing in only 432 subreddits or less (0.9878869448183042%)\n",
      "There are 23490 news sources appearing in only 433 subreddits or less (0.987971063257066%)\n",
      "There are 23490 news sources appearing in only 434 subreddits or less (0.987971063257066%)\n",
      "There are 23490 news sources appearing in only 435 subreddits or less (0.987971063257066%)\n",
      "There are 23492 news sources appearing in only 436 subreddits or less (0.9880551816958277%)\n",
      "There are 23492 news sources appearing in only 437 subreddits or less (0.9880551816958277%)\n",
      "There are 23492 news sources appearing in only 438 subreddits or less (0.9880551816958277%)\n",
      "There are 23496 news sources appearing in only 439 subreddits or less (0.9882234185733513%)\n",
      "There are 23498 news sources appearing in only 440 subreddits or less (0.988307537012113%)\n",
      "There are 23498 news sources appearing in only 441 subreddits or less (0.988307537012113%)\n",
      "There are 23500 news sources appearing in only 442 subreddits or less (0.9883916554508748%)\n",
      "There are 23500 news sources appearing in only 443 subreddits or less (0.9883916554508748%)\n",
      "There are 23500 news sources appearing in only 444 subreddits or less (0.9883916554508748%)\n",
      "There are 23501 news sources appearing in only 445 subreddits or less (0.9884337146702558%)\n",
      "There are 23503 news sources appearing in only 446 subreddits or less (0.9885178331090175%)\n",
      "There are 23503 news sources appearing in only 447 subreddits or less (0.9885178331090175%)\n",
      "There are 23503 news sources appearing in only 448 subreddits or less (0.9885178331090175%)\n",
      "There are 23504 news sources appearing in only 449 subreddits or less (0.9885598923283984%)\n",
      "There are 23505 news sources appearing in only 450 subreddits or less (0.9886019515477793%)\n",
      "There are 23505 news sources appearing in only 451 subreddits or less (0.9886019515477793%)\n",
      "There are 23506 news sources appearing in only 452 subreddits or less (0.9886440107671601%)\n",
      "There are 23506 news sources appearing in only 453 subreddits or less (0.9886440107671601%)\n",
      "There are 23507 news sources appearing in only 454 subreddits or less (0.9886860699865411%)\n",
      "There are 23509 news sources appearing in only 455 subreddits or less (0.9887701884253028%)\n",
      "There are 23509 news sources appearing in only 456 subreddits or less (0.9887701884253028%)\n",
      "There are 23509 news sources appearing in only 457 subreddits or less (0.9887701884253028%)\n",
      "There are 23511 news sources appearing in only 458 subreddits or less (0.9888543068640646%)\n",
      "There are 23512 news sources appearing in only 459 subreddits or less (0.9888963660834454%)\n",
      "There are 23512 news sources appearing in only 460 subreddits or less (0.9888963660834454%)\n",
      "There are 23513 news sources appearing in only 461 subreddits or less (0.9889384253028264%)\n",
      "There are 23513 news sources appearing in only 462 subreddits or less (0.9889384253028264%)\n",
      "There are 23513 news sources appearing in only 463 subreddits or less (0.9889384253028264%)\n",
      "There are 23514 news sources appearing in only 464 subreddits or less (0.9889804845222072%)\n",
      "There are 23515 news sources appearing in only 465 subreddits or less (0.9890225437415882%)\n",
      "There are 23518 news sources appearing in only 466 subreddits or less (0.9891487213997309%)\n",
      "There are 23518 news sources appearing in only 467 subreddits or less (0.9891487213997309%)\n",
      "There are 23519 news sources appearing in only 468 subreddits or less (0.9891907806191117%)\n",
      "There are 23519 news sources appearing in only 469 subreddits or less (0.9891907806191117%)\n",
      "There are 23520 news sources appearing in only 470 subreddits or less (0.9892328398384926%)\n",
      "There are 23520 news sources appearing in only 471 subreddits or less (0.9892328398384926%)\n",
      "There are 23523 news sources appearing in only 472 subreddits or less (0.9893590174966352%)\n",
      "There are 23524 news sources appearing in only 473 subreddits or less (0.9894010767160162%)\n",
      "There are 23525 news sources appearing in only 474 subreddits or less (0.989443135935397%)\n",
      "There are 23525 news sources appearing in only 475 subreddits or less (0.989443135935397%)\n",
      "There are 23525 news sources appearing in only 476 subreddits or less (0.989443135935397%)\n",
      "There are 23525 news sources appearing in only 477 subreddits or less (0.989443135935397%)\n",
      "There are 23526 news sources appearing in only 478 subreddits or less (0.989485195154778%)\n",
      "There are 23527 news sources appearing in only 479 subreddits or less (0.9895272543741588%)\n",
      "There are 23527 news sources appearing in only 480 subreddits or less (0.9895272543741588%)\n",
      "There are 23527 news sources appearing in only 481 subreddits or less (0.9895272543741588%)\n",
      "There are 23528 news sources appearing in only 482 subreddits or less (0.9895693135935397%)\n",
      "There are 23529 news sources appearing in only 483 subreddits or less (0.9896113728129206%)\n",
      "There are 23530 news sources appearing in only 484 subreddits or less (0.9896534320323015%)\n",
      "There are 23531 news sources appearing in only 485 subreddits or less (0.9896954912516823%)\n",
      "There are 23531 news sources appearing in only 486 subreddits or less (0.9896954912516823%)\n",
      "There are 23532 news sources appearing in only 487 subreddits or less (0.9897375504710633%)\n",
      "There are 23532 news sources appearing in only 488 subreddits or less (0.9897375504710633%)\n",
      "There are 23533 news sources appearing in only 489 subreddits or less (0.9897796096904441%)\n",
      "There are 23533 news sources appearing in only 490 subreddits or less (0.9897796096904441%)\n",
      "There are 23535 news sources appearing in only 491 subreddits or less (0.9898637281292059%)\n",
      "There are 23537 news sources appearing in only 492 subreddits or less (0.9899478465679677%)\n",
      "There are 23537 news sources appearing in only 493 subreddits or less (0.9899478465679677%)\n",
      "There are 23539 news sources appearing in only 494 subreddits or less (0.9900319650067295%)\n",
      "There are 23540 news sources appearing in only 495 subreddits or less (0.9900740242261103%)\n",
      "There are 23541 news sources appearing in only 496 subreddits or less (0.9901160834454913%)\n",
      "There are 23542 news sources appearing in only 497 subreddits or less (0.9901581426648721%)\n",
      "There are 23545 news sources appearing in only 498 subreddits or less (0.9902843203230148%)\n",
      "There are 23545 news sources appearing in only 499 subreddits or less (0.9902843203230148%)\n",
      "There are 23545 news sources appearing in only 500 subreddits or less (0.9902843203230148%)\n",
      "There are 23545 news sources appearing in only 501 subreddits or less (0.9902843203230148%)\n",
      "There are 23547 news sources appearing in only 502 subreddits or less (0.9903684387617766%)\n",
      "There are 23547 news sources appearing in only 503 subreddits or less (0.9903684387617766%)\n",
      "There are 23547 news sources appearing in only 504 subreddits or less (0.9903684387617766%)\n",
      "There are 23547 news sources appearing in only 505 subreddits or less (0.9903684387617766%)\n",
      "There are 23548 news sources appearing in only 506 subreddits or less (0.9904104979811574%)\n",
      "There are 23548 news sources appearing in only 507 subreddits or less (0.9904104979811574%)\n",
      "There are 23548 news sources appearing in only 508 subreddits or less (0.9904104979811574%)\n",
      "There are 23548 news sources appearing in only 509 subreddits or less (0.9904104979811574%)\n",
      "There are 23549 news sources appearing in only 510 subreddits or less (0.9904525572005384%)\n",
      "There are 23550 news sources appearing in only 511 subreddits or less (0.9904946164199192%)\n",
      "There are 23551 news sources appearing in only 512 subreddits or less (0.9905366756393001%)\n",
      "There are 23552 news sources appearing in only 513 subreddits or less (0.990578734858681%)\n",
      "There are 23552 news sources appearing in only 514 subreddits or less (0.990578734858681%)\n",
      "There are 23552 news sources appearing in only 515 subreddits or less (0.990578734858681%)\n",
      "There are 23553 news sources appearing in only 516 subreddits or less (0.9906207940780619%)\n",
      "There are 23553 news sources appearing in only 517 subreddits or less (0.9906207940780619%)\n",
      "There are 23553 news sources appearing in only 518 subreddits or less (0.9906207940780619%)\n",
      "There are 23553 news sources appearing in only 519 subreddits or less (0.9906207940780619%)\n",
      "There are 23555 news sources appearing in only 520 subreddits or less (0.9907049125168237%)\n",
      "There are 23555 news sources appearing in only 521 subreddits or less (0.9907049125168237%)\n"
     ]
    },
    {
     "name": "stdout",
     "output_type": "stream",
     "text": [
      "There are 23555 news sources appearing in only 522 subreddits or less (0.9907049125168237%)\n",
      "There are 23556 news sources appearing in only 523 subreddits or less (0.9907469717362046%)\n",
      "There are 23559 news sources appearing in only 524 subreddits or less (0.9908731493943472%)\n",
      "There are 23559 news sources appearing in only 525 subreddits or less (0.9908731493943472%)\n",
      "There are 23559 news sources appearing in only 526 subreddits or less (0.9908731493943472%)\n",
      "There are 23559 news sources appearing in only 527 subreddits or less (0.9908731493943472%)\n",
      "There are 23559 news sources appearing in only 528 subreddits or less (0.9908731493943472%)\n",
      "There are 23560 news sources appearing in only 529 subreddits or less (0.9909152086137282%)\n",
      "There are 23561 news sources appearing in only 530 subreddits or less (0.990957267833109%)\n",
      "There are 23562 news sources appearing in only 531 subreddits or less (0.9909993270524899%)\n",
      "There are 23562 news sources appearing in only 532 subreddits or less (0.9909993270524899%)\n",
      "There are 23562 news sources appearing in only 533 subreddits or less (0.9909993270524899%)\n",
      "There are 23563 news sources appearing in only 534 subreddits or less (0.9910413862718708%)\n",
      "There are 23564 news sources appearing in only 535 subreddits or less (0.9910834454912517%)\n",
      "There are 23564 news sources appearing in only 536 subreddits or less (0.9910834454912517%)\n",
      "There are 23566 news sources appearing in only 537 subreddits or less (0.9911675639300135%)\n",
      "There are 23566 news sources appearing in only 538 subreddits or less (0.9911675639300135%)\n",
      "There are 23566 news sources appearing in only 539 subreddits or less (0.9911675639300135%)\n",
      "There are 23566 news sources appearing in only 540 subreddits or less (0.9911675639300135%)\n",
      "There are 23567 news sources appearing in only 541 subreddits or less (0.9912096231493943%)\n",
      "There are 23567 news sources appearing in only 542 subreddits or less (0.9912096231493943%)\n",
      "There are 23569 news sources appearing in only 543 subreddits or less (0.9912937415881561%)\n",
      "There are 23569 news sources appearing in only 544 subreddits or less (0.9912937415881561%)\n",
      "There are 23569 news sources appearing in only 545 subreddits or less (0.9912937415881561%)\n",
      "There are 23570 news sources appearing in only 546 subreddits or less (0.991335800807537%)\n",
      "There are 23572 news sources appearing in only 547 subreddits or less (0.9914199192462988%)\n",
      "There are 23573 news sources appearing in only 548 subreddits or less (0.9914619784656796%)\n",
      "There are 23575 news sources appearing in only 549 subreddits or less (0.9915460969044414%)\n",
      "There are 23576 news sources appearing in only 550 subreddits or less (0.9915881561238223%)\n",
      "There are 23576 news sources appearing in only 551 subreddits or less (0.9915881561238223%)\n",
      "There are 23576 news sources appearing in only 552 subreddits or less (0.9915881561238223%)\n",
      "There are 23577 news sources appearing in only 553 subreddits or less (0.9916302153432033%)\n",
      "There are 23577 news sources appearing in only 554 subreddits or less (0.9916302153432033%)\n",
      "There are 23577 news sources appearing in only 555 subreddits or less (0.9916302153432033%)\n",
      "There are 23577 news sources appearing in only 556 subreddits or less (0.9916302153432033%)\n",
      "There are 23577 news sources appearing in only 557 subreddits or less (0.9916302153432033%)\n",
      "There are 23577 news sources appearing in only 558 subreddits or less (0.9916302153432033%)\n",
      "There are 23577 news sources appearing in only 559 subreddits or less (0.9916302153432033%)\n",
      "There are 23577 news sources appearing in only 560 subreddits or less (0.9916302153432033%)\n",
      "There are 23579 news sources appearing in only 561 subreddits or less (0.991714333781965%)\n",
      "There are 23580 news sources appearing in only 562 subreddits or less (0.9917563930013459%)\n",
      "There are 23580 news sources appearing in only 563 subreddits or less (0.9917563930013459%)\n",
      "There are 23580 news sources appearing in only 564 subreddits or less (0.9917563930013459%)\n",
      "There are 23582 news sources appearing in only 565 subreddits or less (0.9918405114401077%)\n",
      "There are 23582 news sources appearing in only 566 subreddits or less (0.9918405114401077%)\n",
      "There are 23582 news sources appearing in only 567 subreddits or less (0.9918405114401077%)\n",
      "There are 23582 news sources appearing in only 568 subreddits or less (0.9918405114401077%)\n",
      "There are 23582 news sources appearing in only 569 subreddits or less (0.9918405114401077%)\n",
      "There are 23582 news sources appearing in only 570 subreddits or less (0.9918405114401077%)\n",
      "There are 23582 news sources appearing in only 571 subreddits or less (0.9918405114401077%)\n",
      "There are 23582 news sources appearing in only 572 subreddits or less (0.9918405114401077%)\n",
      "There are 23583 news sources appearing in only 573 subreddits or less (0.9918825706594886%)\n",
      "There are 23584 news sources appearing in only 574 subreddits or less (0.9919246298788694%)\n",
      "There are 23584 news sources appearing in only 575 subreddits or less (0.9919246298788694%)\n",
      "There are 23584 news sources appearing in only 576 subreddits or less (0.9919246298788694%)\n",
      "There are 23585 news sources appearing in only 577 subreddits or less (0.9919666890982504%)\n",
      "There are 23586 news sources appearing in only 578 subreddits or less (0.9920087483176312%)\n",
      "There are 23586 news sources appearing in only 579 subreddits or less (0.9920087483176312%)\n",
      "There are 23586 news sources appearing in only 580 subreddits or less (0.9920087483176312%)\n",
      "There are 23586 news sources appearing in only 581 subreddits or less (0.9920087483176312%)\n",
      "There are 23586 news sources appearing in only 582 subreddits or less (0.9920087483176312%)\n",
      "There are 23586 news sources appearing in only 583 subreddits or less (0.9920087483176312%)\n",
      "There are 23586 news sources appearing in only 584 subreddits or less (0.9920087483176312%)\n",
      "There are 23586 news sources appearing in only 585 subreddits or less (0.9920087483176312%)\n",
      "There are 23586 news sources appearing in only 586 subreddits or less (0.9920087483176312%)\n",
      "There are 23586 news sources appearing in only 587 subreddits or less (0.9920087483176312%)\n",
      "There are 23586 news sources appearing in only 588 subreddits or less (0.9920087483176312%)\n",
      "There are 23589 news sources appearing in only 589 subreddits or less (0.9921349259757739%)\n",
      "There are 23589 news sources appearing in only 590 subreddits or less (0.9921349259757739%)\n",
      "There are 23590 news sources appearing in only 591 subreddits or less (0.9921769851951547%)\n",
      "There are 23591 news sources appearing in only 592 subreddits or less (0.9922190444145357%)\n",
      "There are 23591 news sources appearing in only 593 subreddits or less (0.9922190444145357%)\n",
      "There are 23591 news sources appearing in only 594 subreddits or less (0.9922190444145357%)\n",
      "There are 23591 news sources appearing in only 595 subreddits or less (0.9922190444145357%)\n",
      "There are 23591 news sources appearing in only 596 subreddits or less (0.9922190444145357%)\n",
      "There are 23591 news sources appearing in only 597 subreddits or less (0.9922190444145357%)\n",
      "There are 23592 news sources appearing in only 598 subreddits or less (0.9922611036339165%)\n",
      "There are 23592 news sources appearing in only 599 subreddits or less (0.9922611036339165%)\n",
      "There are 23592 news sources appearing in only 600 subreddits or less (0.9922611036339165%)\n",
      "There are 23592 news sources appearing in only 601 subreddits or less (0.9922611036339165%)\n",
      "There are 23592 news sources appearing in only 602 subreddits or less (0.9922611036339165%)\n",
      "There are 23592 news sources appearing in only 603 subreddits or less (0.9922611036339165%)\n",
      "There are 23592 news sources appearing in only 604 subreddits or less (0.9922611036339165%)\n",
      "There are 23592 news sources appearing in only 605 subreddits or less (0.9922611036339165%)\n",
      "There are 23592 news sources appearing in only 606 subreddits or less (0.9922611036339165%)\n",
      "There are 23592 news sources appearing in only 607 subreddits or less (0.9922611036339165%)\n",
      "There are 23592 news sources appearing in only 608 subreddits or less (0.9922611036339165%)\n",
      "There are 23592 news sources appearing in only 609 subreddits or less (0.9922611036339165%)\n",
      "There are 23592 news sources appearing in only 610 subreddits or less (0.9922611036339165%)\n"
     ]
    },
    {
     "name": "stdout",
     "output_type": "stream",
     "text": [
      "There are 23593 news sources appearing in only 611 subreddits or less (0.9923031628532974%)\n",
      "There are 23593 news sources appearing in only 612 subreddits or less (0.9923031628532974%)\n",
      "There are 23593 news sources appearing in only 613 subreddits or less (0.9923031628532974%)\n",
      "There are 23593 news sources appearing in only 614 subreddits or less (0.9923031628532974%)\n",
      "There are 23593 news sources appearing in only 615 subreddits or less (0.9923031628532974%)\n",
      "There are 23593 news sources appearing in only 616 subreddits or less (0.9923031628532974%)\n",
      "There are 23593 news sources appearing in only 617 subreddits or less (0.9923031628532974%)\n",
      "There are 23593 news sources appearing in only 618 subreddits or less (0.9923031628532974%)\n",
      "There are 23595 news sources appearing in only 619 subreddits or less (0.9923872812920592%)\n",
      "There are 23596 news sources appearing in only 620 subreddits or less (0.9924293405114402%)\n",
      "There are 23597 news sources appearing in only 621 subreddits or less (0.992471399730821%)\n",
      "There are 23597 news sources appearing in only 622 subreddits or less (0.992471399730821%)\n",
      "There are 23598 news sources appearing in only 623 subreddits or less (0.9925134589502019%)\n",
      "There are 23598 news sources appearing in only 624 subreddits or less (0.9925134589502019%)\n",
      "There are 23598 news sources appearing in only 625 subreddits or less (0.9925134589502019%)\n",
      "There are 23599 news sources appearing in only 626 subreddits or less (0.9925555181695828%)\n",
      "There are 23601 news sources appearing in only 627 subreddits or less (0.9926396366083445%)\n",
      "There are 23602 news sources appearing in only 628 subreddits or less (0.9926816958277255%)\n",
      "There are 23602 news sources appearing in only 629 subreddits or less (0.9926816958277255%)\n",
      "There are 23602 news sources appearing in only 630 subreddits or less (0.9926816958277255%)\n",
      "There are 23604 news sources appearing in only 631 subreddits or less (0.9927658142664872%)\n",
      "There are 23606 news sources appearing in only 632 subreddits or less (0.992849932705249%)\n",
      "There are 23607 news sources appearing in only 633 subreddits or less (0.9928919919246298%)\n",
      "There are 23607 news sources appearing in only 634 subreddits or less (0.9928919919246298%)\n",
      "There are 23608 news sources appearing in only 635 subreddits or less (0.9929340511440108%)\n",
      "There are 23608 news sources appearing in only 636 subreddits or less (0.9929340511440108%)\n",
      "There are 23608 news sources appearing in only 637 subreddits or less (0.9929340511440108%)\n",
      "There are 23609 news sources appearing in only 638 subreddits or less (0.9929761103633916%)\n",
      "There are 23610 news sources appearing in only 639 subreddits or less (0.9930181695827726%)\n",
      "There are 23610 news sources appearing in only 640 subreddits or less (0.9930181695827726%)\n",
      "There are 23611 news sources appearing in only 641 subreddits or less (0.9930602288021534%)\n",
      "There are 23612 news sources appearing in only 642 subreddits or less (0.9931022880215343%)\n",
      "There are 23612 news sources appearing in only 643 subreddits or less (0.9931022880215343%)\n",
      "There are 23613 news sources appearing in only 644 subreddits or less (0.9931443472409152%)\n",
      "There are 23613 news sources appearing in only 645 subreddits or less (0.9931443472409152%)\n",
      "There are 23613 news sources appearing in only 646 subreddits or less (0.9931443472409152%)\n",
      "There are 23613 news sources appearing in only 647 subreddits or less (0.9931443472409152%)\n",
      "There are 23613 news sources appearing in only 648 subreddits or less (0.9931443472409152%)\n",
      "There are 23613 news sources appearing in only 649 subreddits or less (0.9931443472409152%)\n",
      "There are 23614 news sources appearing in only 650 subreddits or less (0.9931864064602961%)\n",
      "There are 23614 news sources appearing in only 651 subreddits or less (0.9931864064602961%)\n",
      "There are 23614 news sources appearing in only 652 subreddits or less (0.9931864064602961%)\n",
      "There are 23614 news sources appearing in only 653 subreddits or less (0.9931864064602961%)\n",
      "There are 23616 news sources appearing in only 654 subreddits or less (0.9932705248990579%)\n",
      "There are 23617 news sources appearing in only 655 subreddits or less (0.9933125841184388%)\n",
      "There are 23617 news sources appearing in only 656 subreddits or less (0.9933125841184388%)\n",
      "There are 23617 news sources appearing in only 657 subreddits or less (0.9933125841184388%)\n",
      "There are 23617 news sources appearing in only 658 subreddits or less (0.9933125841184388%)\n",
      "There are 23617 news sources appearing in only 659 subreddits or less (0.9933125841184388%)\n",
      "There are 23618 news sources appearing in only 660 subreddits or less (0.9933546433378196%)\n",
      "There are 23618 news sources appearing in only 661 subreddits or less (0.9933546433378196%)\n",
      "There are 23618 news sources appearing in only 662 subreddits or less (0.9933546433378196%)\n",
      "There are 23618 news sources appearing in only 663 subreddits or less (0.9933546433378196%)\n",
      "There are 23618 news sources appearing in only 664 subreddits or less (0.9933546433378196%)\n",
      "There are 23618 news sources appearing in only 665 subreddits or less (0.9933546433378196%)\n",
      "There are 23618 news sources appearing in only 666 subreddits or less (0.9933546433378196%)\n",
      "There are 23619 news sources appearing in only 667 subreddits or less (0.9933967025572006%)\n",
      "There are 23619 news sources appearing in only 668 subreddits or less (0.9933967025572006%)\n",
      "There are 23619 news sources appearing in only 669 subreddits or less (0.9933967025572006%)\n",
      "There are 23619 news sources appearing in only 670 subreddits or less (0.9933967025572006%)\n",
      "There are 23621 news sources appearing in only 671 subreddits or less (0.9934808209959624%)\n",
      "There are 23621 news sources appearing in only 672 subreddits or less (0.9934808209959624%)\n",
      "There are 23621 news sources appearing in only 673 subreddits or less (0.9934808209959624%)\n",
      "There are 23622 news sources appearing in only 674 subreddits or less (0.9935228802153432%)\n",
      "There are 23622 news sources appearing in only 675 subreddits or less (0.9935228802153432%)\n",
      "There are 23623 news sources appearing in only 676 subreddits or less (0.9935649394347241%)\n",
      "There are 23623 news sources appearing in only 677 subreddits or less (0.9935649394347241%)\n",
      "There are 23624 news sources appearing in only 678 subreddits or less (0.993606998654105%)\n",
      "There are 23624 news sources appearing in only 679 subreddits or less (0.993606998654105%)\n",
      "There are 23624 news sources appearing in only 680 subreddits or less (0.993606998654105%)\n",
      "There are 23624 news sources appearing in only 681 subreddits or less (0.993606998654105%)\n",
      "There are 23624 news sources appearing in only 682 subreddits or less (0.993606998654105%)\n",
      "There are 23624 news sources appearing in only 683 subreddits or less (0.993606998654105%)\n",
      "There are 23626 news sources appearing in only 684 subreddits or less (0.9936911170928667%)\n",
      "There are 23627 news sources appearing in only 685 subreddits or less (0.9937331763122477%)\n",
      "There are 23627 news sources appearing in only 686 subreddits or less (0.9937331763122477%)\n",
      "There are 23627 news sources appearing in only 687 subreddits or less (0.9937331763122477%)\n",
      "There are 23628 news sources appearing in only 688 subreddits or less (0.9937752355316285%)\n",
      "There are 23628 news sources appearing in only 689 subreddits or less (0.9937752355316285%)\n",
      "There are 23628 news sources appearing in only 690 subreddits or less (0.9937752355316285%)\n",
      "There are 23628 news sources appearing in only 691 subreddits or less (0.9937752355316285%)\n",
      "There are 23628 news sources appearing in only 692 subreddits or less (0.9937752355316285%)\n",
      "There are 23628 news sources appearing in only 693 subreddits or less (0.9937752355316285%)\n",
      "There are 23628 news sources appearing in only 694 subreddits or less (0.9937752355316285%)\n",
      "There are 23628 news sources appearing in only 695 subreddits or less (0.9937752355316285%)\n",
      "There are 23628 news sources appearing in only 696 subreddits or less (0.9937752355316285%)\n",
      "There are 23628 news sources appearing in only 697 subreddits or less (0.9937752355316285%)\n",
      "There are 23628 news sources appearing in only 698 subreddits or less (0.9937752355316285%)\n",
      "There are 23628 news sources appearing in only 699 subreddits or less (0.9937752355316285%)\n",
      "There are 23628 news sources appearing in only 700 subreddits or less (0.9937752355316285%)\n",
      "There are 23628 news sources appearing in only 701 subreddits or less (0.9937752355316285%)\n",
      "There are 23628 news sources appearing in only 702 subreddits or less (0.9937752355316285%)\n",
      "There are 23628 news sources appearing in only 703 subreddits or less (0.9937752355316285%)\n",
      "There are 23628 news sources appearing in only 704 subreddits or less (0.9937752355316285%)\n",
      "There are 23628 news sources appearing in only 705 subreddits or less (0.9937752355316285%)\n",
      "There are 23628 news sources appearing in only 706 subreddits or less (0.9937752355316285%)\n",
      "There are 23628 news sources appearing in only 707 subreddits or less (0.9937752355316285%)\n",
      "There are 23629 news sources appearing in only 708 subreddits or less (0.9938172947510094%)\n",
      "There are 23629 news sources appearing in only 709 subreddits or less (0.9938172947510094%)\n",
      "There are 23629 news sources appearing in only 710 subreddits or less (0.9938172947510094%)\n",
      "There are 23629 news sources appearing in only 711 subreddits or less (0.9938172947510094%)\n",
      "There are 23629 news sources appearing in only 712 subreddits or less (0.9938172947510094%)\n",
      "There are 23629 news sources appearing in only 713 subreddits or less (0.9938172947510094%)\n",
      "There are 23629 news sources appearing in only 714 subreddits or less (0.9938172947510094%)\n",
      "There are 23630 news sources appearing in only 715 subreddits or less (0.9938593539703903%)\n",
      "There are 23630 news sources appearing in only 716 subreddits or less (0.9938593539703903%)\n",
      "There are 23630 news sources appearing in only 717 subreddits or less (0.9938593539703903%)\n",
      "There are 23630 news sources appearing in only 718 subreddits or less (0.9938593539703903%)\n",
      "There are 23630 news sources appearing in only 719 subreddits or less (0.9938593539703903%)\n"
     ]
    },
    {
     "name": "stdout",
     "output_type": "stream",
     "text": [
      "There are 23630 news sources appearing in only 720 subreddits or less (0.9938593539703903%)\n",
      "There are 23632 news sources appearing in only 721 subreddits or less (0.993943472409152%)\n",
      "There are 23632 news sources appearing in only 722 subreddits or less (0.993943472409152%)\n",
      "There are 23633 news sources appearing in only 723 subreddits or less (0.993985531628533%)\n",
      "There are 23634 news sources appearing in only 724 subreddits or less (0.9940275908479138%)\n",
      "There are 23634 news sources appearing in only 725 subreddits or less (0.9940275908479138%)\n",
      "There are 23634 news sources appearing in only 726 subreddits or less (0.9940275908479138%)\n",
      "There are 23634 news sources appearing in only 727 subreddits or less (0.9940275908479138%)\n",
      "There are 23634 news sources appearing in only 728 subreddits or less (0.9940275908479138%)\n",
      "There are 23634 news sources appearing in only 729 subreddits or less (0.9940275908479138%)\n",
      "There are 23634 news sources appearing in only 730 subreddits or less (0.9940275908479138%)\n",
      "There are 23634 news sources appearing in only 731 subreddits or less (0.9940275908479138%)\n",
      "There are 23634 news sources appearing in only 732 subreddits or less (0.9940275908479138%)\n",
      "There are 23635 news sources appearing in only 733 subreddits or less (0.9940696500672948%)\n",
      "There are 23635 news sources appearing in only 734 subreddits or less (0.9940696500672948%)\n",
      "There are 23636 news sources appearing in only 735 subreddits or less (0.9941117092866757%)\n",
      "There are 23636 news sources appearing in only 736 subreddits or less (0.9941117092866757%)\n",
      "There are 23636 news sources appearing in only 737 subreddits or less (0.9941117092866757%)\n",
      "There are 23636 news sources appearing in only 738 subreddits or less (0.9941117092866757%)\n",
      "There are 23636 news sources appearing in only 739 subreddits or less (0.9941117092866757%)\n",
      "There are 23636 news sources appearing in only 740 subreddits or less (0.9941117092866757%)\n",
      "There are 23637 news sources appearing in only 741 subreddits or less (0.9941537685060565%)\n",
      "There are 23637 news sources appearing in only 742 subreddits or less (0.9941537685060565%)\n",
      "There are 23638 news sources appearing in only 743 subreddits or less (0.9941958277254375%)\n",
      "There are 23638 news sources appearing in only 744 subreddits or less (0.9941958277254375%)\n",
      "There are 23639 news sources appearing in only 745 subreddits or less (0.9942378869448183%)\n",
      "There are 23639 news sources appearing in only 746 subreddits or less (0.9942378869448183%)\n",
      "There are 23640 news sources appearing in only 747 subreddits or less (0.9942799461641992%)\n",
      "There are 23640 news sources appearing in only 748 subreddits or less (0.9942799461641992%)\n",
      "There are 23640 news sources appearing in only 749 subreddits or less (0.9942799461641992%)\n",
      "There are 23640 news sources appearing in only 750 subreddits or less (0.9942799461641992%)\n",
      "There are 23640 news sources appearing in only 751 subreddits or less (0.9942799461641992%)\n",
      "There are 23641 news sources appearing in only 752 subreddits or less (0.9943220053835801%)\n",
      "There are 23641 news sources appearing in only 753 subreddits or less (0.9943220053835801%)\n",
      "There are 23641 news sources appearing in only 754 subreddits or less (0.9943220053835801%)\n",
      "There are 23641 news sources appearing in only 755 subreddits or less (0.9943220053835801%)\n",
      "There are 23642 news sources appearing in only 756 subreddits or less (0.994364064602961%)\n",
      "There are 23642 news sources appearing in only 757 subreddits or less (0.994364064602961%)\n",
      "There are 23642 news sources appearing in only 758 subreddits or less (0.994364064602961%)\n",
      "There are 23642 news sources appearing in only 759 subreddits or less (0.994364064602961%)\n",
      "There are 23642 news sources appearing in only 760 subreddits or less (0.994364064602961%)\n",
      "There are 23642 news sources appearing in only 761 subreddits or less (0.994364064602961%)\n",
      "There are 23642 news sources appearing in only 762 subreddits or less (0.994364064602961%)\n",
      "There are 23642 news sources appearing in only 763 subreddits or less (0.994364064602961%)\n",
      "There are 23642 news sources appearing in only 764 subreddits or less (0.994364064602961%)\n",
      "There are 23642 news sources appearing in only 765 subreddits or less (0.994364064602961%)\n",
      "There are 23642 news sources appearing in only 766 subreddits or less (0.994364064602961%)\n",
      "There are 23642 news sources appearing in only 767 subreddits or less (0.994364064602961%)\n",
      "There are 23642 news sources appearing in only 768 subreddits or less (0.994364064602961%)\n",
      "There are 23642 news sources appearing in only 769 subreddits or less (0.994364064602961%)\n",
      "There are 23642 news sources appearing in only 770 subreddits or less (0.994364064602961%)\n",
      "There are 23643 news sources appearing in only 771 subreddits or less (0.9944061238223418%)\n",
      "There are 23643 news sources appearing in only 772 subreddits or less (0.9944061238223418%)\n",
      "There are 23644 news sources appearing in only 773 subreddits or less (0.9944481830417228%)\n",
      "There are 23644 news sources appearing in only 774 subreddits or less (0.9944481830417228%)\n",
      "There are 23644 news sources appearing in only 775 subreddits or less (0.9944481830417228%)\n",
      "There are 23644 news sources appearing in only 776 subreddits or less (0.9944481830417228%)\n",
      "There are 23644 news sources appearing in only 777 subreddits or less (0.9944481830417228%)\n",
      "There are 23645 news sources appearing in only 778 subreddits or less (0.9944902422611036%)\n",
      "There are 23645 news sources appearing in only 779 subreddits or less (0.9944902422611036%)\n",
      "There are 23645 news sources appearing in only 780 subreddits or less (0.9944902422611036%)\n",
      "There are 23645 news sources appearing in only 781 subreddits or less (0.9944902422611036%)\n",
      "There are 23646 news sources appearing in only 782 subreddits or less (0.9945323014804845%)\n",
      "There are 23646 news sources appearing in only 783 subreddits or less (0.9945323014804845%)\n",
      "There are 23646 news sources appearing in only 784 subreddits or less (0.9945323014804845%)\n",
      "There are 23646 news sources appearing in only 785 subreddits or less (0.9945323014804845%)\n",
      "There are 23646 news sources appearing in only 786 subreddits or less (0.9945323014804845%)\n",
      "There are 23647 news sources appearing in only 787 subreddits or less (0.9945743606998654%)\n",
      "There are 23648 news sources appearing in only 788 subreddits or less (0.9946164199192463%)\n",
      "There are 23648 news sources appearing in only 789 subreddits or less (0.9946164199192463%)\n",
      "There are 23649 news sources appearing in only 790 subreddits or less (0.9946584791386271%)\n",
      "There are 23649 news sources appearing in only 791 subreddits or less (0.9946584791386271%)\n",
      "There are 23649 news sources appearing in only 792 subreddits or less (0.9946584791386271%)\n",
      "There are 23650 news sources appearing in only 793 subreddits or less (0.9947005383580081%)\n",
      "There are 23651 news sources appearing in only 794 subreddits or less (0.9947425975773889%)\n",
      "There are 23652 news sources appearing in only 795 subreddits or less (0.9947846567967699%)\n",
      "There are 23652 news sources appearing in only 796 subreddits or less (0.9947846567967699%)\n",
      "There are 23652 news sources appearing in only 797 subreddits or less (0.9947846567967699%)\n",
      "There are 23652 news sources appearing in only 798 subreddits or less (0.9947846567967699%)\n",
      "There are 23652 news sources appearing in only 799 subreddits or less (0.9947846567967699%)\n",
      "There are 23652 news sources appearing in only 800 subreddits or less (0.9947846567967699%)\n",
      "There are 23652 news sources appearing in only 801 subreddits or less (0.9947846567967699%)\n",
      "There are 23652 news sources appearing in only 802 subreddits or less (0.9947846567967699%)\n",
      "There are 23652 news sources appearing in only 803 subreddits or less (0.9947846567967699%)\n",
      "There are 23652 news sources appearing in only 804 subreddits or less (0.9947846567967699%)\n",
      "There are 23652 news sources appearing in only 805 subreddits or less (0.9947846567967699%)\n",
      "There are 23652 news sources appearing in only 806 subreddits or less (0.9947846567967699%)\n",
      "There are 23652 news sources appearing in only 807 subreddits or less (0.9947846567967699%)\n",
      "There are 23652 news sources appearing in only 808 subreddits or less (0.9947846567967699%)\n",
      "There are 23653 news sources appearing in only 809 subreddits or less (0.9948267160161507%)\n",
      "There are 23653 news sources appearing in only 810 subreddits or less (0.9948267160161507%)\n",
      "There are 23653 news sources appearing in only 811 subreddits or less (0.9948267160161507%)\n",
      "There are 23654 news sources appearing in only 812 subreddits or less (0.9948687752355316%)\n",
      "There are 23654 news sources appearing in only 813 subreddits or less (0.9948687752355316%)\n",
      "There are 23654 news sources appearing in only 814 subreddits or less (0.9948687752355316%)\n",
      "There are 23654 news sources appearing in only 815 subreddits or less (0.9948687752355316%)\n",
      "There are 23654 news sources appearing in only 816 subreddits or less (0.9948687752355316%)\n",
      "There are 23655 news sources appearing in only 817 subreddits or less (0.9949108344549125%)\n",
      "There are 23656 news sources appearing in only 818 subreddits or less (0.9949528936742934%)\n",
      "There are 23656 news sources appearing in only 819 subreddits or less (0.9949528936742934%)\n",
      "There are 23656 news sources appearing in only 820 subreddits or less (0.9949528936742934%)\n",
      "There are 23656 news sources appearing in only 821 subreddits or less (0.9949528936742934%)\n",
      "There are 23657 news sources appearing in only 822 subreddits or less (0.9949949528936743%)\n",
      "There are 23658 news sources appearing in only 823 subreddits or less (0.9950370121130552%)\n",
      "There are 23659 news sources appearing in only 824 subreddits or less (0.9950790713324361%)\n",
      "There are 23659 news sources appearing in only 825 subreddits or less (0.9950790713324361%)\n",
      "There are 23659 news sources appearing in only 826 subreddits or less (0.9950790713324361%)\n",
      "There are 23659 news sources appearing in only 827 subreddits or less (0.9950790713324361%)\n"
     ]
    },
    {
     "name": "stdout",
     "output_type": "stream",
     "text": [
      "There are 23659 news sources appearing in only 828 subreddits or less (0.9950790713324361%)\n",
      "There are 23659 news sources appearing in only 829 subreddits or less (0.9950790713324361%)\n",
      "There are 23660 news sources appearing in only 830 subreddits or less (0.995121130551817%)\n",
      "There are 23660 news sources appearing in only 831 subreddits or less (0.995121130551817%)\n",
      "There are 23660 news sources appearing in only 832 subreddits or less (0.995121130551817%)\n",
      "There are 23660 news sources appearing in only 833 subreddits or less (0.995121130551817%)\n",
      "There are 23660 news sources appearing in only 834 subreddits or less (0.995121130551817%)\n",
      "There are 23661 news sources appearing in only 835 subreddits or less (0.9951631897711979%)\n",
      "There are 23662 news sources appearing in only 836 subreddits or less (0.9952052489905787%)\n",
      "There are 23662 news sources appearing in only 837 subreddits or less (0.9952052489905787%)\n",
      "There are 23663 news sources appearing in only 838 subreddits or less (0.9952473082099597%)\n",
      "There are 23663 news sources appearing in only 839 subreddits or less (0.9952473082099597%)\n",
      "There are 23663 news sources appearing in only 840 subreddits or less (0.9952473082099597%)\n",
      "There are 23664 news sources appearing in only 841 subreddits or less (0.9952893674293405%)\n",
      "There are 23664 news sources appearing in only 842 subreddits or less (0.9952893674293405%)\n",
      "There are 23664 news sources appearing in only 843 subreddits or less (0.9952893674293405%)\n",
      "There are 23664 news sources appearing in only 844 subreddits or less (0.9952893674293405%)\n",
      "There are 23664 news sources appearing in only 845 subreddits or less (0.9952893674293405%)\n",
      "There are 23664 news sources appearing in only 846 subreddits or less (0.9952893674293405%)\n",
      "There are 23664 news sources appearing in only 847 subreddits or less (0.9952893674293405%)\n",
      "There are 23664 news sources appearing in only 848 subreddits or less (0.9952893674293405%)\n",
      "There are 23665 news sources appearing in only 849 subreddits or less (0.9953314266487214%)\n",
      "There are 23665 news sources appearing in only 850 subreddits or less (0.9953314266487214%)\n",
      "There are 23665 news sources appearing in only 851 subreddits or less (0.9953314266487214%)\n",
      "There are 23665 news sources appearing in only 852 subreddits or less (0.9953314266487214%)\n",
      "There are 23665 news sources appearing in only 853 subreddits or less (0.9953314266487214%)\n",
      "There are 23665 news sources appearing in only 854 subreddits or less (0.9953314266487214%)\n",
      "There are 23665 news sources appearing in only 855 subreddits or less (0.9953314266487214%)\n",
      "There are 23665 news sources appearing in only 856 subreddits or less (0.9953314266487214%)\n",
      "There are 23666 news sources appearing in only 857 subreddits or less (0.9953734858681023%)\n",
      "There are 23667 news sources appearing in only 858 subreddits or less (0.9954155450874832%)\n",
      "There are 23667 news sources appearing in only 859 subreddits or less (0.9954155450874832%)\n",
      "There are 23667 news sources appearing in only 860 subreddits or less (0.9954155450874832%)\n",
      "There are 23668 news sources appearing in only 861 subreddits or less (0.995457604306864%)\n",
      "There are 23668 news sources appearing in only 862 subreddits or less (0.995457604306864%)\n",
      "There are 23668 news sources appearing in only 863 subreddits or less (0.995457604306864%)\n",
      "There are 23668 news sources appearing in only 864 subreddits or less (0.995457604306864%)\n",
      "There are 23668 news sources appearing in only 865 subreddits or less (0.995457604306864%)\n",
      "There are 23668 news sources appearing in only 866 subreddits or less (0.995457604306864%)\n",
      "There are 23668 news sources appearing in only 867 subreddits or less (0.995457604306864%)\n",
      "There are 23668 news sources appearing in only 868 subreddits or less (0.995457604306864%)\n",
      "There are 23668 news sources appearing in only 869 subreddits or less (0.995457604306864%)\n",
      "There are 23668 news sources appearing in only 870 subreddits or less (0.995457604306864%)\n",
      "There are 23668 news sources appearing in only 871 subreddits or less (0.995457604306864%)\n",
      "There are 23668 news sources appearing in only 872 subreddits or less (0.995457604306864%)\n",
      "There are 23668 news sources appearing in only 873 subreddits or less (0.995457604306864%)\n",
      "There are 23668 news sources appearing in only 874 subreddits or less (0.995457604306864%)\n",
      "There are 23668 news sources appearing in only 875 subreddits or less (0.995457604306864%)\n",
      "There are 23668 news sources appearing in only 876 subreddits or less (0.995457604306864%)\n",
      "There are 23668 news sources appearing in only 877 subreddits or less (0.995457604306864%)\n",
      "There are 23668 news sources appearing in only 878 subreddits or less (0.995457604306864%)\n",
      "There are 23668 news sources appearing in only 879 subreddits or less (0.995457604306864%)\n",
      "There are 23668 news sources appearing in only 880 subreddits or less (0.995457604306864%)\n",
      "There are 23668 news sources appearing in only 881 subreddits or less (0.995457604306864%)\n",
      "There are 23668 news sources appearing in only 882 subreddits or less (0.995457604306864%)\n",
      "There are 23668 news sources appearing in only 883 subreddits or less (0.995457604306864%)\n",
      "There are 23668 news sources appearing in only 884 subreddits or less (0.995457604306864%)\n",
      "There are 23668 news sources appearing in only 885 subreddits or less (0.995457604306864%)\n",
      "There are 23668 news sources appearing in only 886 subreddits or less (0.995457604306864%)\n",
      "There are 23668 news sources appearing in only 887 subreddits or less (0.995457604306864%)\n",
      "There are 23668 news sources appearing in only 888 subreddits or less (0.995457604306864%)\n",
      "There are 23669 news sources appearing in only 889 subreddits or less (0.995499663526245%)\n",
      "There are 23669 news sources appearing in only 890 subreddits or less (0.995499663526245%)\n",
      "There are 23669 news sources appearing in only 891 subreddits or less (0.995499663526245%)\n",
      "There are 23669 news sources appearing in only 892 subreddits or less (0.995499663526245%)\n",
      "There are 23670 news sources appearing in only 893 subreddits or less (0.9955417227456258%)\n",
      "There are 23670 news sources appearing in only 894 subreddits or less (0.9955417227456258%)\n",
      "There are 23670 news sources appearing in only 895 subreddits or less (0.9955417227456258%)\n",
      "There are 23670 news sources appearing in only 896 subreddits or less (0.9955417227456258%)\n",
      "There are 23671 news sources appearing in only 897 subreddits or less (0.9955837819650067%)\n",
      "There are 23671 news sources appearing in only 898 subreddits or less (0.9955837819650067%)\n",
      "There are 23672 news sources appearing in only 899 subreddits or less (0.9956258411843876%)\n",
      "There are 23672 news sources appearing in only 900 subreddits or less (0.9956258411843876%)\n",
      "There are 23672 news sources appearing in only 901 subreddits or less (0.9956258411843876%)\n",
      "There are 23673 news sources appearing in only 902 subreddits or less (0.9956679004037685%)\n",
      "There are 23673 news sources appearing in only 903 subreddits or less (0.9956679004037685%)\n",
      "There are 23673 news sources appearing in only 904 subreddits or less (0.9956679004037685%)\n",
      "There are 23673 news sources appearing in only 905 subreddits or less (0.9956679004037685%)\n",
      "There are 23673 news sources appearing in only 906 subreddits or less (0.9956679004037685%)\n",
      "There are 23673 news sources appearing in only 907 subreddits or less (0.9956679004037685%)\n",
      "There are 23673 news sources appearing in only 908 subreddits or less (0.9956679004037685%)\n",
      "There are 23673 news sources appearing in only 909 subreddits or less (0.9956679004037685%)\n",
      "There are 23673 news sources appearing in only 910 subreddits or less (0.9956679004037685%)\n",
      "There are 23673 news sources appearing in only 911 subreddits or less (0.9956679004037685%)\n",
      "There are 23674 news sources appearing in only 912 subreddits or less (0.9957099596231493%)\n",
      "There are 23674 news sources appearing in only 913 subreddits or less (0.9957099596231493%)\n",
      "There are 23674 news sources appearing in only 914 subreddits or less (0.9957099596231493%)\n",
      "There are 23674 news sources appearing in only 915 subreddits or less (0.9957099596231493%)\n",
      "There are 23674 news sources appearing in only 916 subreddits or less (0.9957099596231493%)\n",
      "There are 23674 news sources appearing in only 917 subreddits or less (0.9957099596231493%)\n",
      "There are 23675 news sources appearing in only 918 subreddits or less (0.9957520188425303%)\n",
      "There are 23676 news sources appearing in only 919 subreddits or less (0.9957940780619112%)\n",
      "There are 23676 news sources appearing in only 920 subreddits or less (0.9957940780619112%)\n",
      "There are 23676 news sources appearing in only 921 subreddits or less (0.9957940780619112%)\n",
      "There are 23677 news sources appearing in only 922 subreddits or less (0.995836137281292%)\n",
      "There are 23677 news sources appearing in only 923 subreddits or less (0.995836137281292%)\n",
      "There are 23677 news sources appearing in only 924 subreddits or less (0.995836137281292%)\n",
      "There are 23677 news sources appearing in only 925 subreddits or less (0.995836137281292%)\n",
      "There are 23677 news sources appearing in only 926 subreddits or less (0.995836137281292%)\n",
      "There are 23677 news sources appearing in only 927 subreddits or less (0.995836137281292%)\n",
      "There are 23678 news sources appearing in only 928 subreddits or less (0.995878196500673%)\n",
      "There are 23678 news sources appearing in only 929 subreddits or less (0.995878196500673%)\n",
      "There are 23678 news sources appearing in only 930 subreddits or less (0.995878196500673%)\n",
      "There are 23678 news sources appearing in only 931 subreddits or less (0.995878196500673%)\n",
      "There are 23679 news sources appearing in only 932 subreddits or less (0.9959202557200538%)\n",
      "There are 23679 news sources appearing in only 933 subreddits or less (0.9959202557200538%)\n",
      "There are 23679 news sources appearing in only 934 subreddits or less (0.9959202557200538%)\n",
      "There are 23679 news sources appearing in only 935 subreddits or less (0.9959202557200538%)\n",
      "There are 23680 news sources appearing in only 936 subreddits or less (0.9959623149394348%)\n",
      "There are 23680 news sources appearing in only 937 subreddits or less (0.9959623149394348%)\n"
     ]
    },
    {
     "name": "stdout",
     "output_type": "stream",
     "text": [
      "There are 23681 news sources appearing in only 938 subreddits or less (0.9960043741588156%)\n",
      "There are 23682 news sources appearing in only 939 subreddits or less (0.9960464333781965%)\n",
      "There are 23682 news sources appearing in only 940 subreddits or less (0.9960464333781965%)\n",
      "There are 23682 news sources appearing in only 941 subreddits or less (0.9960464333781965%)\n",
      "There are 23682 news sources appearing in only 942 subreddits or less (0.9960464333781965%)\n",
      "There are 23682 news sources appearing in only 943 subreddits or less (0.9960464333781965%)\n",
      "There are 23683 news sources appearing in only 944 subreddits or less (0.9960884925975774%)\n",
      "There are 23683 news sources appearing in only 945 subreddits or less (0.9960884925975774%)\n",
      "There are 23683 news sources appearing in only 946 subreddits or less (0.9960884925975774%)\n",
      "There are 23683 news sources appearing in only 947 subreddits or less (0.9960884925975774%)\n",
      "There are 23683 news sources appearing in only 948 subreddits or less (0.9960884925975774%)\n",
      "There are 23683 news sources appearing in only 949 subreddits or less (0.9960884925975774%)\n",
      "There are 23683 news sources appearing in only 950 subreddits or less (0.9960884925975774%)\n",
      "There are 23683 news sources appearing in only 951 subreddits or less (0.9960884925975774%)\n",
      "There are 23683 news sources appearing in only 952 subreddits or less (0.9960884925975774%)\n",
      "There are 23683 news sources appearing in only 953 subreddits or less (0.9960884925975774%)\n",
      "There are 23683 news sources appearing in only 954 subreddits or less (0.9960884925975774%)\n",
      "There are 23683 news sources appearing in only 955 subreddits or less (0.9960884925975774%)\n",
      "There are 23683 news sources appearing in only 956 subreddits or less (0.9960884925975774%)\n",
      "There are 23683 news sources appearing in only 957 subreddits or less (0.9960884925975774%)\n",
      "There are 23683 news sources appearing in only 958 subreddits or less (0.9960884925975774%)\n",
      "There are 23683 news sources appearing in only 959 subreddits or less (0.9960884925975774%)\n",
      "There are 23683 news sources appearing in only 960 subreddits or less (0.9960884925975774%)\n",
      "There are 23683 news sources appearing in only 961 subreddits or less (0.9960884925975774%)\n",
      "There are 23683 news sources appearing in only 962 subreddits or less (0.9960884925975774%)\n",
      "There are 23683 news sources appearing in only 963 subreddits or less (0.9960884925975774%)\n",
      "There are 23683 news sources appearing in only 964 subreddits or less (0.9960884925975774%)\n",
      "There are 23683 news sources appearing in only 965 subreddits or less (0.9960884925975774%)\n",
      "There are 23683 news sources appearing in only 966 subreddits or less (0.9960884925975774%)\n",
      "There are 23683 news sources appearing in only 967 subreddits or less (0.9960884925975774%)\n",
      "There are 23683 news sources appearing in only 968 subreddits or less (0.9960884925975774%)\n",
      "There are 23683 news sources appearing in only 969 subreddits or less (0.9960884925975774%)\n",
      "There are 23683 news sources appearing in only 970 subreddits or less (0.9960884925975774%)\n",
      "There are 23683 news sources appearing in only 971 subreddits or less (0.9960884925975774%)\n",
      "There are 23683 news sources appearing in only 972 subreddits or less (0.9960884925975774%)\n",
      "There are 23683 news sources appearing in only 973 subreddits or less (0.9960884925975774%)\n",
      "There are 23683 news sources appearing in only 974 subreddits or less (0.9960884925975774%)\n",
      "There are 23683 news sources appearing in only 975 subreddits or less (0.9960884925975774%)\n",
      "There are 23683 news sources appearing in only 976 subreddits or less (0.9960884925975774%)\n",
      "There are 23684 news sources appearing in only 977 subreddits or less (0.9961305518169583%)\n",
      "There are 23685 news sources appearing in only 978 subreddits or less (0.9961726110363391%)\n",
      "There are 23685 news sources appearing in only 979 subreddits or less (0.9961726110363391%)\n",
      "There are 23685 news sources appearing in only 980 subreddits or less (0.9961726110363391%)\n",
      "There are 23685 news sources appearing in only 981 subreddits or less (0.9961726110363391%)\n",
      "There are 23686 news sources appearing in only 982 subreddits or less (0.9962146702557201%)\n",
      "There are 23686 news sources appearing in only 983 subreddits or less (0.9962146702557201%)\n",
      "There are 23686 news sources appearing in only 984 subreddits or less (0.9962146702557201%)\n",
      "There are 23686 news sources appearing in only 985 subreddits or less (0.9962146702557201%)\n",
      "There are 23687 news sources appearing in only 986 subreddits or less (0.9962567294751009%)\n",
      "There are 23687 news sources appearing in only 987 subreddits or less (0.9962567294751009%)\n",
      "There are 23687 news sources appearing in only 988 subreddits or less (0.9962567294751009%)\n",
      "There are 23687 news sources appearing in only 989 subreddits or less (0.9962567294751009%)\n",
      "There are 23687 news sources appearing in only 990 subreddits or less (0.9962567294751009%)\n",
      "There are 23687 news sources appearing in only 991 subreddits or less (0.9962567294751009%)\n",
      "There are 23687 news sources appearing in only 992 subreddits or less (0.9962567294751009%)\n",
      "There are 23687 news sources appearing in only 993 subreddits or less (0.9962567294751009%)\n",
      "There are 23687 news sources appearing in only 994 subreddits or less (0.9962567294751009%)\n",
      "There are 23687 news sources appearing in only 995 subreddits or less (0.9962567294751009%)\n",
      "There are 23687 news sources appearing in only 996 subreddits or less (0.9962567294751009%)\n",
      "There are 23687 news sources appearing in only 997 subreddits or less (0.9962567294751009%)\n",
      "There are 23688 news sources appearing in only 998 subreddits or less (0.9962987886944819%)\n",
      "There are 23688 news sources appearing in only 999 subreddits or less (0.9962987886944819%)\n"
     ]
    }
   ],
   "source": [
    "pct_in_k_subreddits = [(i, pct_ns_in_k_subreddits(i)) for i in range(1000)]"
   ]
  },
  {
   "cell_type": "code",
   "execution_count": 295,
   "metadata": {},
   "outputs": [
    {
     "data": {
      "text/plain": [
       "Text(0.5, 1.0, 'proportion of news sources appearing in x subreddits or less')"
      ]
     },
     "execution_count": 295,
     "metadata": {},
     "output_type": "execute_result"
    },
    {
     "data": {
      "image/png": "[encoded data removed]",
      "text/plain": [
       "<Figure size 1080x432 with 2 Axes>"
      ]
     },
     "metadata": {},
     "output_type": "display_data"
    }
   ],
   "source": [
    "fig, (ax1, ax2) = plt.subplots(1, 2, figsize=(15,6))\n",
    "sns.set(font_scale = 1.2)\n",
    "\n",
    "sns.histplot(scf, log_scale=True, ax=ax1)\n",
    "ax1.set_xlabel(\"number of subreddit\")\n",
    "ax1.set_ylabel(\"news source count\")\n",
    "ax1.set_title(\"number of news sources appearing in x subreddits\")\n",
    "\n",
    "sns.lineplot(x=[k[0] for k in pct_in_k_subreddits],\n",
    "             y=[k[1] for k in pct_in_k_subreddits],\n",
    "            ax=ax2)\n",
    "ax2.set_ylabel(\"percentage\")\n",
    "ax2.set_xlabel(\"# subreddits news sources appear in\")\n",
    "ax2.set_title(\"proportion of news sources appearing in x subreddits or less\")"
   ]
  },
  {
   "cell_type": "code",
   "execution_count": 296,
   "metadata": {
    "scrolled": true
   },
   "outputs": [
    {
     "data": {
      "text/plain": [
       "33.98843371467026"
      ]
     },
     "execution_count": 296,
     "metadata": {},
     "output_type": "execute_result"
    }
   ],
   "source": [
    "# mean\n",
    "statistics.mean(scf)"
   ]
  },
  {
   "cell_type": "code",
   "execution_count": 297,
   "metadata": {},
   "outputs": [
    {
     "data": {
      "text/plain": [
       "5.0"
      ]
     },
     "execution_count": 297,
     "metadata": {},
     "output_type": "execute_result"
    }
   ],
   "source": [
    "# median\n",
    "statistics.median(scf)"
   ]
  },
  {
   "cell_type": "markdown",
   "metadata": {},
   "source": [
    "## For each news source let's count how many times they are shared regardless of in which subreddits"
   ]
  },
  {
   "cell_type": "code",
   "execution_count": 298,
   "metadata": {},
   "outputs": [
    {
     "data": {
      "text/plain": [
       "0"
      ]
     },
     "execution_count": 298,
     "metadata": {},
     "output_type": "execute_result"
    }
   ],
   "source": [
    "sum(dict().values())"
   ]
  },
  {
   "cell_type": "code",
   "execution_count": 299,
   "metadata": {},
   "outputs": [],
   "source": [
    "def get_mention_count(ns):\n",
    "    \"\"\"get total mention count of ns in all six months\"\"\"\n",
    "    count = 0\n",
    "    files = [ns_subreddit_01, ns_subreddit_02, ns_subreddit_03, ns_subreddit_04, ns_subreddit_05, ns_subreddit_06]\n",
    "    for f in files:\n",
    "        ns_dict = f.get(ns, dict())\n",
    "        if len(ns_dict) > 0:\n",
    "            mentions = sum([m[0] for m in ns_dict.values()])\n",
    "            count += mentions\n",
    "    return count"
   ]
  },
  {
   "cell_type": "code",
   "execution_count": 300,
   "metadata": {},
   "outputs": [],
   "source": [
    "mention_count = dict()\n",
    "for ns in ns_union:\n",
    "    mention_count[ns] = get_mention_count(ns)"
   ]
  },
  {
   "cell_type": "code",
   "execution_count": 301,
   "metadata": {
    "scrolled": true
   },
   "outputs": [
    {
     "data": {
      "text/plain": [
       "301.5175807537012"
      ]
     },
     "execution_count": 301,
     "metadata": {},
     "output_type": "execute_result"
    }
   ],
   "source": [
    "statistics.mean(mention_count.values())"
   ]
  },
  {
   "cell_type": "code",
   "execution_count": 302,
   "metadata": {},
   "outputs": [
    {
     "data": {
      "text/plain": [
       "3829.903313287895"
      ]
     },
     "execution_count": 302,
     "metadata": {},
     "output_type": "execute_result"
    }
   ],
   "source": [
    "statistics.stdev(mention_count.values())"
   ]
  },
  {
   "cell_type": "code",
   "execution_count": 303,
   "metadata": {},
   "outputs": [
    {
     "data": {
      "text/plain": [
       "10.0"
      ]
     },
     "execution_count": 303,
     "metadata": {},
     "output_type": "execute_result"
    }
   ],
   "source": [
    "statistics.median(mention_count.values())"
   ]
  },
  {
   "cell_type": "code",
   "execution_count": 304,
   "metadata": {
    "scrolled": true
   },
   "outputs": [
    {
     "data": {
      "text/plain": [
       "23776"
      ]
     },
     "execution_count": 304,
     "metadata": {},
     "output_type": "execute_result"
    }
   ],
   "source": [
    "len(mention_count)"
   ]
  },
  {
   "cell_type": "code",
   "execution_count": 305,
   "metadata": {},
   "outputs": [
    {
     "data": {
      "text/plain": [
       "[('mlb.com', 318989),\n",
       " ('theguardian.com', 226912),\n",
       " ('cnn.com', 161294),\n",
       " ('nytimes.com', 145271),\n",
       " ('foxnews.com', 141964),\n",
       " ('bbc.co.uk', 88674),\n",
       " ('thehindu.com', 88434),\n",
       " ('thestar.com', 87727),\n",
       " ('reuters.com', 85396),\n",
       " ('nypost.com', 81821),\n",
       " ('cnbc.com', 65997),\n",
       " ('thehill.com', 63676),\n",
       " ('indiatimes.com', 63208),\n",
       " ('washingtontimes.com', 59950),\n",
       " ('breitbart.com', 57689),\n",
       " ('usatoday.com', 54326),\n",
       " ('cbc.ca', 52741),\n",
       " ('scmp.com', 52591),\n",
       " ('apnews.com', 48804),\n",
       " ('nbcnews.com', 48612),\n",
       " ('aljazeera.com', 47879),\n",
       " ('fandom.com', 47242),\n",
       " ('mb.com.ph', 45685),\n",
       " ('dailymail.co.uk', 44498),\n",
       " ('independent.co.uk', 44067),\n",
       " ('washingtonpost.com', 43519),\n",
       " ('cloudinary.com', 41704),\n",
       " ('newsweek.com', 41029),\n",
       " ('bbc.com', 40852),\n",
       " ('npr.org', 39973),\n",
       " ('nhl.com', 38797),\n",
       " ('cointelegraph.com', 38640),\n",
       " ('espn.com', 38021),\n",
       " ('latimes.com', 36450),\n",
       " ('smh.com.au', 34496),\n",
       " ('businessinsider.com', 34135),\n",
       " ('bloomberg.com', 33967),\n",
       " ('cbsnews.com', 33711),\n",
       " ('irishtimes.com', 33356),\n",
       " ('marketwatch.com', 32122),\n",
       " ('abc.net.au', 30202),\n",
       " ('triblive.com', 29182),\n",
       " ('nzherald.co.nz', 28826),\n",
       " ('suntimes.com', 27857),\n",
       " ('devdiscourse.com', 27416),\n",
       " ('oann.com', 27111),\n",
       " ('chicagotribune.com', 25580),\n",
       " ('iol.co.za', 24766),\n",
       " ('alarabiya.net', 23606),\n",
       " ('ft.com', 23210),\n",
       " ('ctvnews.ca', 23064),\n",
       " ('cnet.com', 22635),\n",
       " ('msn.com', 22265),\n",
       " ('theverge.com', 22223),\n",
       " ('nih.gov', 21666),\n",
       " ('rt.com', 21131),\n",
       " ('uol.com.br', 20937),\n",
       " ('forbes.com', 20629),\n",
       " ('boardgamegeek.com', 20615),\n",
       " ('biorxiv.org', 20041),\n",
       " ('gamesplanet.com', 19021),\n",
       " ('news18.com', 18872),\n",
       " ('wsj.com', 18684),\n",
       " ('democraticunderground.com', 18362),\n",
       " ('politico.com', 18113),\n",
       " ('nba.com', 17795),\n",
       " ('washingtonexaminer.com', 17363),\n",
       " ('coinbase.com', 16854),\n",
       " ('indianexpress.com', 16787),\n",
       " ('agerpres.ro', 16578),\n",
       " ('globenewswire.com', 16477),\n",
       " ('g4media.ro', 16299),\n",
       " ('theepochtimes.com', 15536),\n",
       " ('engadget.com', 15450),\n",
       " ('france24.com', 15428),\n",
       " ('thedailybeast.com', 15268),\n",
       " ('telex.hu', 14551),\n",
       " ('huffpost.com', 14504),\n",
       " ('japantimes.co.jp', 14284),\n",
       " ('pbs.org', 14147),\n",
       " ('techcrunch.com', 13748),\n",
       " ('telegraph.co.uk', 13640),\n",
       " ('hotnews.ro', 13281),\n",
       " ('investing.com', 13214),\n",
       " ('globalnews.ca', 13028),\n",
       " ('post-gazette.com', 12877),\n",
       " ('nature.com', 12809),\n",
       " ('theblaze.com', 12409),\n",
       " ('vice.com', 12136),\n",
       " ('coindesk.com', 12133),\n",
       " ('wwe.com', 11356),\n",
       " ('deadline.com', 11299),\n",
       " ('decrypt.co', 11290),\n",
       " ('cbslocal.com', 11076),\n",
       " ('arstechnica.com', 10772),\n",
       " ('globo.com', 10476),\n",
       " ('wizards.com', 10364),\n",
       " ('boston.com', 10246),\n",
       " ('variety.com', 10239),\n",
       " ('telugustop.com', 10063)]"
      ]
     },
     "execution_count": 305,
     "metadata": {},
     "output_type": "execute_result"
    }
   ],
   "source": [
    "Counter(mention_count).most_common(100)"
   ]
  },
  {
   "cell_type": "code",
   "execution_count": 306,
   "metadata": {},
   "outputs": [
    {
     "data": {
      "text/plain": [
       "829"
      ]
     },
     "execution_count": 306,
     "metadata": {},
     "output_type": "execute_result"
    }
   ],
   "source": [
    "news_ge10k = [m for m in mention_count if mention_count[m] >= 1000]\n",
    "len(news_ge10k)"
   ]
  },
  {
   "cell_type": "code",
   "execution_count": 307,
   "metadata": {},
   "outputs": [],
   "source": [
    "with open(\"news_ge10k.csv\", \"w\", encoding=\"utf-8\", newline='') as n:\n",
    "    w = csv.writer(n, dialect=\"excel\", delimiter=\",\")\n",
    "    for e in news_ge10k:\n",
    "        w.writerow([e])"
   ]
  },
  {
   "cell_type": "code",
   "execution_count": 308,
   "metadata": {},
   "outputs": [
    {
     "data": {
      "text/plain": [
       "{'todayilearned': [17, 14.780000000000001, 2038],\n",
       " 'JoeRogan': [1, 0.76, 3],\n",
       " 'knowyourshit': [3, 2.92, 1],\n",
       " 'collapse': [7, 6.280000000000001, 58],\n",
       " 'marginal': [3, 3.0, 0],\n",
       " 'conspiracy': [11, 8.9, 649],\n",
       " 'politics': [121, 107.37999999999998, 227661],\n",
       " 'CPTSD': [1, 1.0, 1],\n",
       " 'VideoEditing': [1, 0.98, 38],\n",
       " 'wallstreetbets': [15, 13.129999999999999, 115],\n",
       " 'hackernews': [8, 5.92, 8],\n",
       " 'patient_hackernews': [8, 8.0, 8],\n",
       " 'unitedkingdom': [2, 1.82, 19],\n",
       " 'Catholicism': [1, 1.0, 2],\n",
       " 'bprogramming': [1, 1.0, 0],\n",
       " 'books': [6, 5.2, 15],\n",
       " 'hackerdigest': [1, 1.0, 0],\n",
       " 'Snorkblot': [2, 2.0, 2],\n",
       " 'UnresolvedMysteries': [18, 17.439999999999998, 1033],\n",
       " 'TrueUnpopularOpinion': [2, 1.3, 32],\n",
       " 'SPACs': [2, 1.8, 152],\n",
       " 'aznidentity': [1, 0.98, 40],\n",
       " 'badgovnofreedom': [34, 34.0, 1],\n",
       " 'cyberpunkgame': [1, 0.4, 3],\n",
       " 'CBC_': [9, 8.84, 1],\n",
       " 'newjersey': [1, 0.8, 25],\n",
       " 'newfoundland': [28, 25.439999999999994, 406],\n",
       " 'Hamilton': [42, 35.79, 950],\n",
       " 'mildlyinteresting': [1, 1.0, 0],\n",
       " 'Oshawa': [1, 0.9, 5],\n",
       " 'RedditTLDR': [5, 4.67, 1],\n",
       " 'Sino': [1, 0.96, 18],\n",
       " 'SorcerersVsSuffering': [1, 0.5, 0],\n",
       " 'China_irl': [1, 0.96, 69],\n",
       " 'worldanarchism': [2, 2.0, 0],\n",
       " 'Socialism_101': [1, 0.86, 10],\n",
       " 'Economics': [3, 2.06, 94],\n",
       " 'europe': [1, 0.87, 1],\n",
       " 'LazyCheapskate': [4, 3.35, 5],\n",
       " 'NoNewNormal': [18, 15.87, 124],\n",
       " 'AskDocs': [1, 1.0, 3],\n",
       " 'LateStageCapitalism': [5, 3.9399999999999995, 11],\n",
       " 'television': [3, 2.01, 61],\n",
       " 'NewDealAmerica': [1, 0.9, 0],\n",
       " 'MorbidReality': [2, 1.59, 26],\n",
       " 'redscarepod': [1, 1.0, 8],\n",
       " 'conspiracytheories': [1, 1.0, 0],\n",
       " 'SubSimulatorGPT2': [2, 1.75, 79],\n",
       " 'Futurology': [3, 2.9299999999999997, 128],\n",
       " 'worldpowers': [1, 1.0, 4],\n",
       " 'neoliberal': [9, 8.57, 78],\n",
       " 'NoStupidQuestions': [1, 0.77, 2],\n",
       " 'serbia': [2, 1.97, 11],\n",
       " 'eddit3yearsago': [1, 1.0, 1],\n",
       " 'stupidpol': [5, 4.390000000000001, 137],\n",
       " 'ontario': [149, 129.40000000000003, 6603],\n",
       " 'Anarchism': [2, 1.92, 3],\n",
       " 'AskEconomics': [1, 0.97, 32],\n",
       " 'ADHD': [1, 1.0, 81],\n",
       " 'btc': [1, 0.33, 2],\n",
       " 'Damnthatsinteresting': [2, 2.0, 0],\n",
       " 'Fantasy': [3, 2.56, 36],\n",
       " 'urbanplanning': [1, 0.87, 2],\n",
       " 'socialism': [1, 0.97, 144],\n",
       " 'steelers': [1, 1.0, 1],\n",
       " 'news': [100, 92.23000000000002, 6447],\n",
       " 'WayOfTheBern': [6, 5.7, 50],\n",
       " 'privacy': [4, 3.78, 1],\n",
       " 'CoronavirusCanada': [50, 35.099999999999994, 176],\n",
       " 'grammar': [1, 0.67, 2],\n",
       " 'legaladviceofftopic': [1, 0.5, 6],\n",
       " 'GenZedong': [1, 0.98, 3],\n",
       " 'iran': [2, 1.35, 0],\n",
       " 'ToolBand': [4, 3.23, 36],\n",
       " 'NarcoFootage': [1, 0.97, 157],\n",
       " 'worldpolitics': [1, 0.38, 0],\n",
       " 'MandelaEffect': [1, 0.61, 46],\n",
       " 'atheism': [4, 3.52, 46],\n",
       " 'Anarcho_Capitalism': [2, 1.4700000000000002, 7],\n",
       " 'inthemorning': [7, 5.140000000000001, 3],\n",
       " 'ColdWarPowers': [1, 1.0, 3],\n",
       " 'interestingasfuck': [3, 1.9, 9],\n",
       " 'islam': [1, 0.86, 20],\n",
       " 'climate': [3, 2.7399999999999998, 2],\n",
       " 'Letterkenny': [1, 0.84, 1],\n",
       " 'TrueAnon': [1, 0.96, 0],\n",
       " 'medicine': [3, 2.87, 269],\n",
       " 'stocks': [1, 0.94, 4404],\n",
       " 'Lovecraft': [1, 0.5, 1],\n",
       " 'LPOTL': [1, 1.0, 0],\n",
       " 'CanadaPublicServants': [6, 5.210000000000001, 107],\n",
       " 'Calgary': [87, 69.50999999999999, 4321],\n",
       " 'horror': [1, 0.62, 0],\n",
       " 'ABoringDystopia': [1, 0.67, 2],\n",
       " 'NovaScotia': [33, 29.269999999999992, 414],\n",
       " 'sports': [3, 2.5, 18],\n",
       " 'tennis': [2, 1.92, 8],\n",
       " 'MatthiasSubmissions': [1, 1.0, 0],\n",
       " 'Destiny': [2, 1.83, 1],\n",
       " 'conservatives': [1, 0.75, 6],\n",
       " 'pregnant': [1, 1.0, 1],\n",
       " 'VaushV': [1, 0.91, 3],\n",
       " 'awfuleverything': [5, 4.84, 0],\n",
       " 'antinatalism': [4, 3.71, 5],\n",
       " 'hockey': [8, 6.24, 69],\n",
       " 'brasilivre': [1, 0.94, 9],\n",
       " 'aviation': [1, 1.0, 0],\n",
       " 'CoronavirusCirclejerk': [1, 0.82, 2],\n",
       " 'space': [4, 2.59, 65],\n",
       " 'cryptogeum': [1, 1.0, 0],\n",
       " 'sustainability': [1, 0.67, 0],\n",
       " 'TZM': [1, 0.78, 5],\n",
       " 'ZeroWaste': [1, 0.56, 2],\n",
       " 'FridaysForFuture': [1, 0.88, 15],\n",
       " 'TrueOffMyChest': [1, 0.6, 0],\n",
       " 'democrats': [4, 3.39, 30],\n",
       " 'science': [3, 1.85, 6],\n",
       " 'Winnipeg': [115, 99.89999999999998, 3724],\n",
       " 'uspolitics': [2, 1.87, 4],\n",
       " 'canada': [532, 420.6200000000006, 26421],\n",
       " 'Music': [1, 0.75, 0],\n",
       " 'UpliftingNews': [17, 15.39, 107],\n",
       " 'byebyejob': [2, 1.99, 7],\n",
       " 'Conservative': [4, 2.9800000000000004, 163],\n",
       " 'worldnews': [153, 130.94, 18318],\n",
       " 'nottheonion': [41, 33.17, 1260],\n",
       " 'ThatsInsane': [1, 1.0, 1],\n",
       " 'Feminism': [3, 2.1500000000000004, 1],\n",
       " 'AntiTrumpAlliance': [3, 2.7800000000000002, 6],\n",
       " 'privacytoolsIO': [1, 0.99, 16],\n",
       " 'pics': [1, 0.72, 3],\n",
       " 'NormMacdonald': [1, 1.0, 0],\n",
       " 'DataHoarder': [1, 0.85, 8],\n",
       " 'childfree': [1, 1.0, 82],\n",
       " 'TargetedEnergyWeapons': [1, 0.92, 1],\n",
       " 'AskALiberal': [3, 2.22, 52],\n",
       " 'YangForPresidentHQ': [1, 0.5, 5],\n",
       " 'CanadianTeachers': [1, 0.83, 1],\n",
       " 'ProtectAndServe': [2, 1.94, 24],\n",
       " 'onguardforthee': [266, 229.17999999999995, 4116],\n",
       " 'NoShitSherlock': [1, 1.0, 0],\n",
       " 'Qult_Headquarters': [1, 0.95, 3],\n",
       " 'The_Mueller': [2, 1.95, 5],\n",
       " 'askTO': [2, 1.36, 40],\n",
       " 'TwoBestFriendsPlay': [1, 0.9, 2],\n",
       " 'PublicFreakout': [1, 1.0, 0],\n",
       " 'alberta': [141, 123.54, 4909],\n",
       " 'CoronavirusDownunder': [21, 17.040000000000003, 573],\n",
       " 'monarchism': [2, 2.0, 7],\n",
       " 'Israel': [1, 1.0, 2],\n",
       " 'Art': [1, 1.0, 1],\n",
       " 'Albertapolitics': [69, 67.01999999999998, 124],\n",
       " 'FSTL': [2, 2.0, 5],\n",
       " 'eddit7yearsago': [3, 2.81, 3],\n",
       " 'inthenews': [2, 1.77, 76],\n",
       " 'bipolar': [1, 0.81, 7],\n",
       " 'ABCDesis': [1, 0.82, 9],\n",
       " 'navy': [1, 0.5, 4],\n",
       " 'vancouver': [95, 71.22999999999999, 3282],\n",
       " 'videos': [3, 1.69, 8],\n",
       " 'NoctilucentNews': [4, 4.0, 0],\n",
       " 'samharris': [1, 1.0, 5],\n",
       " 'CuriousAndFascinating': [1, 1.0, 0],\n",
       " 'SuccessionTV': [1, 1.0, 0],\n",
       " 'JoeBiden': [8, 7.4799999999999995, 43],\n",
       " 'Liberal': [1, 1.0, 0],\n",
       " 'Trumpvirus': [2, 1.81, 9],\n",
       " 'CapitolConsequences': [3, 2.94, 80],\n",
       " 'LockdownSkepticism': [57, 52.92999999999999, 1659],\n",
       " 'Political_Revolution': [1, 0.92, 0],\n",
       " 'ChronicIllness': [3, 2.7800000000000002, 4],\n",
       " 'usanews': [1, 0.91, 2],\n",
       " 'ParlerWatch': [4, 3.71, 8],\n",
       " 'AmericanFascism2020': [2, 1.63, 0],\n",
       " 'cybersecurity': [1, 0.81, 0],\n",
       " 'booklists': [1, 1.0, 0],\n",
       " 'China': [1, 0.75, 1],\n",
       " 'January6': [1, 0.57, 1],\n",
       " 'Seattle': [1, 0.99, 13],\n",
       " 'sciencefiction': [1, 0.73, 2],\n",
       " 'Jazz': [1, 0.29, 0],\n",
       " 'iamatotalpieceofshit': [4, 4.0, 3],\n",
       " 'toronto': [98, 80.80000000000004, 5762],\n",
       " 'MensRights': [1, 0.97, 2],\n",
       " 'eddit8yearsago': [1, 1.0, 1],\n",
       " 'TrueCrimeDiscussion': [1, 0.96, 7],\n",
       " 'neocentrism': [1, 1.0, 3],\n",
       " 'DanLeBatardShow': [1, 1.0, 1],\n",
       " 'medical': [1, 1.0, 0],\n",
       " 'uoguelph': [1, 0.97, 18],\n",
       " 'gardening': [1, 1.0, 1],\n",
       " 'covidlonghaulers': [1, 1.0, 7],\n",
       " 'RepublicanTerrorism': [1, 0.85, 1],\n",
       " 'UofT': [2, 1.58, 2],\n",
       " 'climatechange': [1, 0.85, 1],\n",
       " 'fucktheccp': [3, 2.9699999999999998, 1],\n",
       " 'LoveForLandlords': [1, 1.0, 0],\n",
       " 'nuclear': [1, 0.95, 25],\n",
       " 'ToiletPaperUSA': [1, 0.98, 4],\n",
       " 'Parenting': [1, 0.46, 0],\n",
       " 'LeopardsAteMyFace': [1, 0.99, 30],\n",
       " 'electricvehicles': [1, 1.0, 3],\n",
       " 'AirForce': [1, 0.74, 5],\n",
       " 'washingtondc': [1, 0.27, 0],\n",
       " 'metamtl': [1, 1.0, 1],\n",
       " 'Canadians': [6, 5.470000000000001, 17],\n",
       " 'mcgill': [1, 0.97, 25],\n",
       " 'Quebec': [19, 12.28, 364],\n",
       " 'Capitalism': [1, 0.9, 5],\n",
       " 'funny': [1, 0.63, 3],\n",
       " 'EnoughTrumpSpam': [1, 0.9, 0],\n",
       " 'smallbusiness': [1, 0.5, 8],\n",
       " 'biology': [2, 1.72, 0],\n",
       " 'Kossacks_for_Sanders': [1, 1.0, 2],\n",
       " 'Guelph': [2, 1.92, 37],\n",
       " 'ImmigrationCanada': [1, 1.0, 2],\n",
       " 'antiwork': [4, 3.95, 10],\n",
       " 'LockdownCriticalLeft': [15, 13.5, 101],\n",
       " 'MURICA': [1, 1.0, 0],\n",
       " 'UFOs': [1, 0.8, 5],\n",
       " 'AnythingGoesNews': [1, 0.5, 2],\n",
       " 'malaysia': [1, 0.96, 15],\n",
       " 'union': [1, 1.0, 0],\n",
       " 'China_Flu': [1, 0.57, 2],\n",
       " 'KingkillerChronicle': [3, 2.9, 6],\n",
       " 'CannedSardines': [1, 1.0, 1],\n",
       " 'sixdigits': [1, 0.67, 0],\n",
       " 'HydroHomies': [1, 0.81, 1],\n",
       " 'SubSimulatorGPT2Meta': [1, 0.99, 19],\n",
       " 'covidskepticscanada': [18, 17.310000000000002, 17],\n",
       " 'SaltyArmy': [1, 1.0, 0],\n",
       " 'discgolf': [1, 0.92, 2],\n",
       " 'asianamerican': [1, 1.0, 0],\n",
       " 'ChronicPain': [2, 1.93, 16],\n",
       " 'sydney': [1, 1.0, 2],\n",
       " 'Military': [3, 2.24, 10],\n",
       " 'technology': [9, 7.18, 36],\n",
       " 'business': [1, 0.97, 60],\n",
       " 'realtech': [5, 4.14, 6],\n",
       " 'OntarioCanada': [33, 30.349999999999998, 622],\n",
       " 'MtF': [1, 0.87, 1],\n",
       " 'uwaterloo': [5, 4.85, 26],\n",
       " 'instantkarma': [1, 1.0, 1],\n",
       " 'JusticeServed': [1, 1.0, 1],\n",
       " 'BigTech': [2, 1.9, 0],\n",
       " 'environment': [11, 9.959999999999999, 420],\n",
       " 'VoteDEM': [1, 0.89, 1],\n",
       " 'YourWeeklyBJ': [4, 4.0, 0],\n",
       " 'IASIP': [1, 1.0, 0],\n",
       " 'PERU': [1, 1.0, 0],\n",
       " 'Filmmakers': [1, 0.68, 6],\n",
       " 'FuckNestle': [1, 0.98, 0],\n",
       " 'shrooms': [1, 1.0, 0],\n",
       " 'florida': [3, 2.86, 17],\n",
       " 'Antipsychiatry': [2, 1.9100000000000001, 54],\n",
       " 'britishcolumbia': [60, 50.33, 1487],\n",
       " 'pakistan': [1, 1.0, 1],\n",
       " 'COVID19': [2, 1.38, 2],\n",
       " 'Coronavirus': [68, 60.09, 1113],\n",
       " 'Cyberpunk': [1, 0.65, 3],\n",
       " 'StockMarket': [1, 0.82, 5],\n",
       " 'hapas': [1, 0.88, 1],\n",
       " 'FeMRADebates': [2, 1.84, 92],\n",
       " 'TrumpNicknames': [1, 0.92, 1],\n",
       " 'canucks': [1, 0.92, 22],\n",
       " 'COMPLETEANARCHY': [1, 0.78, 2],\n",
       " 'thebulwark': [2, 2.0, 0],\n",
       " 'AntifascistsofReddit': [1, 0.67, 1],\n",
       " 'Wallstreetbetsnew': [1, 0.93, 7],\n",
       " 'GreenPartyOfCanada': [6, 5.0, 3],\n",
       " 'thebachelor': [7, 7.0, 6],\n",
       " 'wallstreetbets2': [1, 1.0, 2],\n",
       " 'Firefighting': [1, 0.83, 4],\n",
       " 'travel': [2, 2.0, 0],\n",
       " 'Cascadia': [2, 1.9, 9],\n",
       " 'offbeat': [7, 5.859999999999999, 58],\n",
       " 'PersonalFinanceCanada': [4, 3.3600000000000003, 168],\n",
       " 'CanadianInvestor': [6, 4.02, 632],\n",
       " 'NativeAmerican': [1, 0.95, 0],\n",
       " 'WallStreetbetsELITE': [3, 3.0, 2],\n",
       " 'Dinosaurs': [1, 0.92, 7],\n",
       " 'Canadapennystocks': [1, 0.88, 26],\n",
       " '2020PoliceBrutality': [3, 2.1799999999999997, 6],\n",
       " 'islam_ahmadiyya': [1, 0.96, 45],\n",
       " 'GooglePixel': [1, 0.84, 21],\n",
       " 'malefashionadvice': [1, 0.93, 33],\n",
       " 'saskatoon': [22, 20.159999999999997, 778],\n",
       " 'TheFightThatMatters': [1, 1.0, 1],\n",
       " 'rugbyunion': [1, 0.88, 0],\n",
       " 'PussyPass': [1, 0.88, 4],\n",
       " 'apple': [1, 0.78, 30],\n",
       " 'autotldr': [54, 49.650000000000006, 0],\n",
       " 'CoronavirusUK': [1, 1.0, 0],\n",
       " 'Equestrian': [1, 1.0, 9],\n",
       " 'survivor': [1, 1.0, 4],\n",
       " 'thelongdark': [1, 1.0, 0],\n",
       " 'canadaguns': [1, 1.0, 2],\n",
       " 'ottawa': [513, 493.95000000000016, 3466],\n",
       " 'starbucks': [1, 0.5, 1],\n",
       " 'Bellingham': [1, 1.0, 23],\n",
       " 'StJohnsNL': [2, 1.8, 1],\n",
       " 'Edmonton': [57, 50.76, 1647],\n",
       " 'abbotsford': [1, 1.0, 10],\n",
       " 'waterloo': [11, 9.57, 206],\n",
       " 'OntarioUniversities': [1, 0.86, 1],\n",
       " 'windsorontario': [9, 7.480000000000001, 114],\n",
       " 'acting': [2, 2.0, 16],\n",
       " 'fredericton': [23, 19.94, 117],\n",
       " 'MadeMeSmile': [5, 4.68, 0],\n",
       " 'NHLHUT': [2, 1.85, 57],\n",
       " 'SaintJohnNB': [19, 16.92, 61],\n",
       " 'moncton': [24, 21.700000000000003, 76],\n",
       " 'TheOCS': [3, 2.08, 31],\n",
       " 'PrePharmacy': [2, 1.34, 6],\n",
       " 'ThunderBay': [10, 8.95, 186],\n",
       " 'hiking': [1, 0.78, 0],\n",
       " 'BabyBumps': [2, 1.66, 122],\n",
       " 'halifax': [96, 78.99999999999997, 2155],\n",
       " 'regina': [16, 13.929999999999998, 668],\n",
       " 'Survival': [1, 0.95, 2],\n",
       " 'doordash': [1, 1.0, 12],\n",
       " 'CanadaPS5': [1, 0.89, 22],\n",
       " 'montreal': [22, 20.619999999999997, 714],\n",
       " 'Questrade': [2, 1.76, 14],\n",
       " 'KingstonOntario': [3, 2.79, 83],\n",
       " 'CanadianMOMs': [1, 0.83, 70],\n",
       " 'polyamory': [2, 1.69, 18],\n",
       " 'skiing': [2, 1.9300000000000002, 7],\n",
       " 'ems': [2, 1.92, 21],\n",
       " 'InteriorDesign': [1, 1.0, 1],\n",
       " 'Wellthatsucks': [1, 1.0, 1],\n",
       " 'AdorableOnlyfans': [1, 1.0, 1],\n",
       " 'Scams': [1, 1.0, 1],\n",
       " 'NonBinary': [1, 1.0, 1],\n",
       " 'BasicIncome': [1, 0.67, 4],\n",
       " 'Costco': [1, 0.96, 58],\n",
       " 'emergencymedicine': [1, 1.0, 7],\n",
       " 'timecrisis': [1, 1.0, 0],\n",
       " 'BanPitBulls': [6, 5.779999999999999, 159],\n",
       " 'farming': [1, 0.95, 0],\n",
       " 'Dogfree': [1, 0.97, 2],\n",
       " 'Android': [1, 0.75, 97],\n",
       " 'bigdickproblems': [1, 1.0, 1],\n",
       " 'fantasyhockey': [2, 2.0, 8],\n",
       " 'Torontology': [4, 2.54, 16],\n",
       " 'uAlberta': [4, 3.06, 76],\n",
       " 'Baystreetbets': [2, 1.63, 3],\n",
       " 'LinusTechTips': [2, 1.5, 0],\n",
       " 'NoFilterNews': [66, 65.5, 0],\n",
       " 'COVID': [3, 2.3200000000000003, 1],\n",
       " 'CanadaPolitics': [279, 238.27999999999992, 8391],\n",
       " 'japan': [4, 3.77, 7],\n",
       " 'SchittsCreek': [2, 2.0, 0],\n",
       " 'police': [2, 2.0, 1],\n",
       " 'manchester': [1, 0.5, 2],\n",
       " 'Startup_Ideas': [1, 1.0, 14],\n",
       " 'Animals': [1, 1.0, 0],\n",
       " 'knitting': [1, 1.0, 0],\n",
       " 'indieheads': [1, 0.94, 10],\n",
       " 'Brampton': [5, 4.37, 44],\n",
       " 'Georgia': [1, 0.9, 1],\n",
       " 'OnTheBlock': [1, 0.72, 5],\n",
       " 'CysticFibrosis': [1, 0.98, 6],\n",
       " 'Rowing': [1, 1.0, 3],\n",
       " 'VictoriaBC': [19, 17.189999999999998, 282],\n",
       " 'Toxic_Femininity': [1, 0.96, 18],\n",
       " 'CallHerDaddy': [1, 0.29, 4],\n",
       " 'AmericanHorrorStory': [1, 0.9, 2],\n",
       " 'canadients': [3, 2.53, 70],\n",
       " 'CovidCanada': [1, 0.83, 0],\n",
       " 'CovIdiots': [3, 2.71, 9],\n",
       " 'Detroit': [1, 0.95, 6],\n",
       " 'McMaster': [1, 0.99, 2],\n",
       " 'vancouverhiking': [2, 1.97, 11],\n",
       " 'NewWest': [8, 7.68, 88],\n",
       " 'simonfraser': [2, 1.85, 0],\n",
       " 'MensLib': [2, 1.97, 204],\n",
       " 'geegees': [2, 0.76, 18],\n",
       " 'aww': [3, 3.0, 3],\n",
       " 'trailerparkboys': [1, 0.67, 1],\n",
       " 'Hookit': [1, 0.95, 1],\n",
       " 'community': [1, 1.0, 0],\n",
       " 'MetisMichif': [5, 4.56, 2],\n",
       " 'ShitLiberalsSay': [1, 1.0, 1],\n",
       " 'insects': [1, 1.0, 0],\n",
       " 'ChurchOfCOVID': [1, 1.0, 4],\n",
       " 'SocialJusticeInAction': [3, 2.55, 59],\n",
       " 'COVID19_support': [1, 0.62, 0],\n",
       " 'scleroderma': [1, 1.0, 0],\n",
       " 'ThriftStoreHauls': [1, 1.0, 1],\n",
       " 'theworldnews': [15, 11.4, 0],\n",
       " 'daverubin': [1, 0.99, 0],\n",
       " 'facepalm': [1, 0.9, 6],\n",
       " 'TheAbditory': [1, 1.0, 0],\n",
       " 'CitizensClimateLobby': [1, 0.82, 3],\n",
       " 'doggos': [1, 1.0, 0],\n",
       " 'RedDeer': [3, 2.76, 54],\n",
       " 'Lethbridge': [1, 0.67, 1],\n",
       " 'SurreyBC': [6, 5.640000000000001, 32],\n",
       " 'CanadaCoronavirus': [143, 126.14000000000007, 1818],\n",
       " 'XSomalian': [1, 0.91, 5],\n",
       " 'UBC': [7, 5.18, 96],\n",
       " 'GamerGhazi': [1, 0.92, 0],\n",
       " 'londonontario': [41, 34.69, 875],\n",
       " 'sqdc': [1, 0.93, 62],\n",
       " 'mildlyinfuriating': [1, 1.0, 3],\n",
       " 'outerworlds': [1, 0.95, 40],\n",
       " 'uwo': [1, 0.95, 10],\n",
       " 'murdochmysteries': [1, 1.0, 8],\n",
       " 'Mindfulness': [1, 0.86, 0],\n",
       " 'Markham': [1, 0.93, 32],\n",
       " 'PoliticalVideos': [3, 3.0, 0],\n",
       " 'Sudbury': [5, 4.470000000000001, 76],\n",
       " 'TorontoRealEstate': [1, 0.89, 73],\n",
       " 'economy': [1, 0.92, 6],\n",
       " 'japancirclejerk': [2, 0.54, 5],\n",
       " 'YMS': [1, 1.0, 0],\n",
       " 'ndp': [27, 25.63, 89],\n",
       " 'Tokyo': [1, 1.0, 0],\n",
       " 'BernieSanders': [1, 1.0, 1],\n",
       " 'mississauga': [4, 3.8099999999999996, 13],\n",
       " 'Caribbean': [1, 1.0, 0],\n",
       " 'ADKFunPolice': [1, 0.93, 11],\n",
       " 'CFL': [2, 1.97, 8],\n",
       " 'weedstocks': [1, 0.99, 8],\n",
       " 'SneakersCanada': [1, 1.0, 0],\n",
       " 'HelloInternet': [1, 0.97, 8],\n",
       " 'Jeopardy': [3, 2.71, 10],\n",
       " 'PEI': [16, 14.91, 216],\n",
       " 'FoodToronto': [2, 1.63, 5],\n",
       " 'Cowichan': [1, 0.94, 3],\n",
       " 'NWSL': [1, 1.0, 0],\n",
       " 'lansing': [1, 0.86, 8],\n",
       " 'railroading': [1, 0.86, 3],\n",
       " 'TransSpace': [1, 1.0, 1],\n",
       " 'interiordecorating': [1, 1.0, 0],\n",
       " 'Bad_Cop_No_Donut': [10, 9.87, 16],\n",
       " 'LoomKnitting': [1, 1.0, 0],\n",
       " 'montreal4all': [4, 3.3800000000000003, 15],\n",
       " 'kelowna': [2, 1.9100000000000001, 81],\n",
       " 'uvic': [2, 1.37, 8],\n",
       " 'DarkFuturology': [1, 0.97, 35],\n",
       " 'stcatharinesON': [2, 1.3599999999999999, 20],\n",
       " 'Zappa': [1, 1.0, 6],\n",
       " 'ArtHistory': [1, 1.0, 1],\n",
       " 'UofAB': [1, 0.5, 0],\n",
       " 'ShopCanada': [2, 2.0, 4],\n",
       " 'winnipegjets': [2, 1.9, 1007],\n",
       " 'pussypassdenied': [1, 0.96, 23],\n",
       " 'TimHortons': [3, 2.59, 5],\n",
       " 'medicinehat': [2, 1.94, 10],\n",
       " 'foreignpolicy': [1, 0.7, 1],\n",
       " 'EdmontonMarijuana': [1, 1.0, 0],\n",
       " 'Journalism': [5, 4.8100000000000005, 0],\n",
       " 'Epstein': [2, 1.89, 5],\n",
       " 'Naturewasmetal': [1, 0.99, 3],\n",
       " 'NatureIsFuckingLit': [1, 1.0, 0],\n",
       " 'ACAB': [1, 0.75, 0],\n",
       " 'SelfAwarewolves': [1, 0.85, 4],\n",
       " 'DemocratsforDiversity': [1, 1.0, 1],\n",
       " 'nhl': [4, 3.23, 30],\n",
       " 'MAGAs': [1, 0.95, 1],\n",
       " 'CanadianPolitics': [1, 0.9, 11],\n",
       " 'restaurant': [1, 1.0, 1],\n",
       " 'Archaeology': [1, 0.75, 0],\n",
       " 'dogecoinbeg': [2, 1.34, 0],\n",
       " 'TranslationStudies': [1, 0.5, 0],\n",
       " 'goodnews': [1, 0.9, 1],\n",
       " 'Missing411': [1, 0.84, 148],\n",
       " 'CanadianForces': [16, 15.610000000000001, 247],\n",
       " 'IntelligenceNews': [4, 3.69, 4],\n",
       " 'EcoNewsNetwork': [3, 3.0, 1],\n",
       " 'Manitoba': [12, 10.469999999999999, 34],\n",
       " 'ScienceUncensored': [1, 0.67, 0],\n",
       " 'ValueInvesting': [2, 2.0, 12],\n",
       " 'durham': [1, 0.9, 4],\n",
       " 'mayahiga': [1, 0.96, 1],\n",
       " 'canadacordcutters': [1, 0.97, 13],\n",
       " 'BiologicalSeas': [1, 0.92, 0],\n",
       " 'saskatchewan': [67, 55.96000000000001, 1348],\n",
       " 'birdpics': [1, 1.0, 0],\n",
       " 'TacoZone': [1, 1.0, 0],\n",
       " 'nCoV': [4, 3.62, 3],\n",
       " 'energy': [1, 0.99, 11],\n",
       " 'mealtimevideos': [1, 0.94, 6],\n",
       " 'Puscifer': [2, 1.96, 12],\n",
       " 'DAVIDsTEA': [3, 2.73, 72],\n",
       " 'CanadianBroadband': [1, 1.0, 0],\n",
       " 'HorriblyDepressing': [1, 1.0, 0],\n",
       " 'LGG8X': [1, 0.92, 11],\n",
       " 'altnewz': [1, 0.91, 1],\n",
       " 'political': [1, 1.0, 0],\n",
       " 'BuyCanadian': [4, 3.8600000000000003, 62],\n",
       " 'Libernadian': [2, 1.76, 15],\n",
       " 'Vaccine': [1, 0.83, 1],\n",
       " 'bakeoff': [2, 1.98, 42],\n",
       " 'Gatineau': [4, 2.77, 70],\n",
       " 'GrandePrairie': [2, 1.87, 12],\n",
       " 'transplant': [1, 0.98, 3],\n",
       " 'Flights': [2, 1.4, 8],\n",
       " 'casualknitting': [2, 1.5499999999999998, 0],\n",
       " 'VACCINES': [1, 0.88, 0],\n",
       " 'IndianCountry': [16, 15.5, 24],\n",
       " 'Peterborough': [1, 0.87, 3],\n",
       " 'agedlikemilk': [2, 1.67, 1],\n",
       " 'UtahMonolith': [1, 0.92, 1],\n",
       " 'FrancaisCanadien': [1, 1.0, 1],\n",
       " 'AntiVaxxers': [2, 2.0, 10],\n",
       " 'canadaleft': [12, 11.280000000000001, 35],\n",
       " 'NewsWithoutNewsMedia': [30, 28.64, 1],\n",
       " 'PacificNorthwest': [1, 1.0, 4],\n",
       " 'BachelorNation': [4, 3.31, 24],\n",
       " 'VancouverIsland': [9, 8.4, 141],\n",
       " 'burnaby': [1, 0.97, 3],\n",
       " 'Inuit': [1, 1.0, 1],\n",
       " 'MarsSociety': [1, 1.0, 0],\n",
       " 'LockdownHypocrites': [5, 4.92, 1],\n",
       " 'QuebecLibre': [1, 0.75, 1],\n",
       " 'Whistler': [2, 1.9, 3],\n",
       " 'gameshow': [1, 1.0, 0],\n",
       " 'forestry': [1, 0.75, 8],\n",
       " 'prisons': [18, 15.69, 0],\n",
       " 'GreenParty': [2, 1.77, 4],\n",
       " 'CanadaSoccer': [4, 3.4399999999999995, 0],\n",
       " 'olympics': [6, 5.62, 89],\n",
       " 'toppostoftheday': [2, 1.96, 4],\n",
       " 'Curling': [1, 0.97, 4],\n",
       " 'Dalhousie': [1, 0.93, 11],\n",
       " 'guillainbarre': [1, 0.9, 9],\n",
       " 'WomensSoccer': [3, 3.0, 4],\n",
       " 'Green': [1, 0.9, 0],\n",
       " 'NewsOfTheStupid': [2, 1.88, 0],\n",
       " 'AnarchistGenerationZ': [1, 1.0, 0],\n",
       " 'peopleofwalmart': [1, 0.95, 0],\n",
       " '18_20': [1, 1.0, 0],\n",
       " 'Coronavirus_BC': [44, 41.620000000000005, 56],\n",
       " 'imdbvg': [1, 0.8, 21],\n",
       " 'MLS': [1, 0.8, 4],\n",
       " 'orcas': [1, 1.0, 1],\n",
       " 'tvPlus': [1, 0.92, 1],\n",
       " 'brantford': [2, 1.97, 56],\n",
       " 'PoliticalVideo': [4, 3.76, 6],\n",
       " 'CanadianPL': [5, 4.47, 20],\n",
       " 'BehavingBadly': [20, 20.0, 0],\n",
       " 'niagara': [3, 2.61, 32],\n",
       " 'NoRulesCalgary': [5, 3.13, 82],\n",
       " 'newbrunswickcanada': [67, 57.28999999999999, 1062],\n",
       " 'trashy': [2, 1.94, 3],\n",
       " 'Bru_Luccas': [1, 0.33, 7],\n",
       " 'OttawaSports': [1, 1.0, 0],\n",
       " 'Ontariofood': [1, 1.0, 0],\n",
       " 'CastIronBaking': [1, 0.9, 1],\n",
       " 'radicalmentalhealth': [2, 1.68, 4],\n",
       " 'stalbert': [1, 1.0, 0],\n",
       " 'alpinism': [1, 0.92, 2],\n",
       " 'Torontoevents': [1, 0.83, 2],\n",
       " 'Yukon': [5, 4.55, 4],\n",
       " 'IslandHikers': [1, 0.97, 3],\n",
       " 'domesticgunviolence': [2, 1.25, 0],\n",
       " 'Metric': [3, 2.84, 19],\n",
       " 'WhatWeDointheShadows': [1, 0.96, 10],\n",
       " 'CoronaVirusMontreal': [11, 9.699999999999998, 64],\n",
       " 'fandomnatural': [1, 1.0, 3],\n",
       " 'copaganda': [1, 1.0, 0],\n",
       " 'boogaloos': [1, 0.67, 1],\n",
       " 'KimsConvenience': [7, 6.79, 212],\n",
       " 'AmericaBad': [1, 0.88, 2],\n",
       " 'algonquinpark': [2, 1.92, 46],\n",
       " 'bestcasinoscanada': [1, 0.67, 0],\n",
       " 'SwordandSorcery': [1, 1.0, 3],\n",
       " 'askfuneraldirectors': [1, 0.94, 8],\n",
       " 'food': [1, 1.0, 0],\n",
       " 'DeFranco': [1, 1.0, 1],\n",
       " 'Airdrie': [1, 0.91, 8],\n",
       " 'PEIpoliticalgroup': [242, 240.42999999999998, 8],\n",
       " 'Sikhpolitics': [1, 1.0, 1],\n",
       " 'ProtectOurForests': [2, 2.0, 0],\n",
       " 'Hatewhenthathappens': [1, 0.95, 0],\n",
       " 'nunavut': [8, 7.74, 2],\n",
       " 'PoliticalCoverage': [1, 1.0, 8],\n",
       " 'CoronaVirusInfo': [1, 1.0, 0],\n",
       " 'MachineThatMakesMoney': [1, 1.0, 0],\n",
       " 'Maxcactus_TrailGuide': [1, 1.0, 0],\n",
       " 'bestofthefray': [1, 0.84, 7],\n",
       " 'USNEWS': [1, 0.86, 0],\n",
       " 'righttorepair': [1, 0.94, 2],\n",
       " 'princegeorge': [1, 1.0, 2],\n",
       " 'CanadianTV': [1, 0.81, 0],\n",
       " 'canadaland': [1, 0.83, 0],\n",
       " 'SherwoodPark': [1, 0.78, 2],\n",
       " 'poshmarkcanada': [1, 1.0, 2],\n",
       " 'DailyTechNewsShow': [1, 0.89, 2],\n",
       " 'USA_StratCom': [1, 1.0, 1],\n",
       " 'frogpants': [1, 1.0, 0],\n",
       " 'AncientAliens': [1, 0.95, 1],\n",
       " 'Vanier': [1, 1.0, 0],\n",
       " 'fortmac': [1, 0.96, 7],\n",
       " 'TimHorrortons': [1, 1.0, 0],\n",
       " 'SLINA': [1, 0.5, 5],\n",
       " 'FortMcMurray': [1, 0.99, 1],\n",
       " 'womenshockey': [2, 1.75, 3],\n",
       " 'canadanews': [4, 3.82, 31],\n",
       " 'nwhl': [1, 0.95, 0],\n",
       " 'Government_is_lame': [1, 1.0, 0],\n",
       " 'verdun': [1, 0.75, 1],\n",
       " 'TheNativeDissident': [14, 14.0, 14],\n",
       " 'northernontario': [7, 6.81, 13],\n",
       " 'FirstNationsCanada': [32, 31.259999999999994, 17],\n",
       " 'chathamkent': [1, 0.81, 0],\n",
       " 'transgender': [2, 1.99, 5],\n",
       " 'OntarioPolitics': [3, 2.84, 10],\n",
       " 'calgarypolice': [1, 1.0, 1],\n",
       " 'WorldNewsHeadlines': [1, 1.0, 0],\n",
       " 'MetisNation': [1, 1.0, 1],\n",
       " 'crowdfunders': [1, 1.0, 0],\n",
       " 'NWT': [3, 2.75, 3],\n",
       " 'P_C': [20, 19.330000000000002, 18],\n",
       " 'oil': [1, 0.83, 30],\n",
       " 'EverythingScience': [1, 0.96, 3],\n",
       " 'CannadaRetail': [1, 1.0, 0],\n",
       " 'ccg_gcc': [1, 1.0, 1],\n",
       " 'happyandhealthy': [1, 0.97, 1],\n",
       " 'CanadianConservative': [53, 41.62999999999999, 224],\n",
       " 'NewWestEVs': [1, 1.0, 0],\n",
       " 'Trumpet_of_Discord': [1, 1.0, 0],\n",
       " 'nouseforatitle': [1, 1.0, 0],\n",
       " 'pwned': [1, 0.97, 1],\n",
       " 'localdelivery': [3, 3.0, 0],\n",
       " 'solarenergycanada': [2, 1.8599999999999999, 2],\n",
       " 'CITILOP': [1, 1.0, 0],\n",
       " 'MetaAlberta': [6, 4.96, 36],\n",
       " 'POTUSWatch': [1, 0.94, 9],\n",
       " 'Chonkers': [1, 0.81, 3],\n",
       " 'censoredcanada': [3, 3.0, 5],\n",
       " 'Moronavirus': [1, 0.99, 13],\n",
       " 'RemoveMyPhone': [1, 1.0, 0],\n",
       " 'dominionofcanada': [12, 10.23, 15],\n",
       " 'AmalaNetwork': [1, 0.91, 0],\n",
       " 'dawsoncreek': [1, 0.9, 0],\n",
       " 'methanecrisis': [1, 1.0, 0],\n",
       " 'KrakenRobotics': [1, 0.92, 2],\n",
       " 'Otters': [1, 0.99, 2],\n",
       " 'traitorperpwalk': [2, 1.99, 1],\n",
       " 'ImanVellani': [1, 1.0, 2],\n",
       " 'CanadaToday': [22, 22.0, 0],\n",
       " 'ALEXASMORGANNN': [1, 1.0, 0],\n",
       " 'HumanTrafficking': [8, 7.88, 1],\n",
       " 'AlienFiles': [1, 1.0, 0],\n",
       " 'technews': [1, 0.95, 5],\n",
       " 'WhiteRock': [2, 1.82, 2],\n",
       " 'UnbiasedCanada': [1, 0.86, 1],\n",
       " 'bad_dgu': [3, 1.75, 0],\n",
       " 'News_Construction': [8, 8.0, 0],\n",
       " 'PopCulturePeen': [1, 0.9, 1],\n",
       " 'WomenInNews': [5, 4.92, 0],\n",
       " 'dumbass': [1, 1.0, 0],\n",
       " 'worldevents': [2, 1.85, 45],\n",
       " 'PupliftingNews': [2, 1.96, 7],\n",
       " 'TeaExcel': [1, 1.0, 2],\n",
       " 'CCIV': [1, 0.94, 5],\n",
       " 'ThatVeganTeacherisbad': [1, 1.0, 5],\n",
       " 'ottawaplants': [1, 1.0, 1],\n",
       " 'steinbach': [1, 0.83, 1],\n",
       " 'AsOneDoes': [1, 0.96, 0],\n",
       " 'xxfitnessjournal': [1, 1.0, 0],\n",
       " 'xxfitnessmotivation': [1, 0.69, 2],\n",
       " 'xxfitnesscirclejerk': [1, 0.5, 0],\n",
       " 'Astuff': [1, 1.0, 0],\n",
       " 'realmontreal': [2, 2.0, 5],\n",
       " 'anime_titties': [7, 5.01, 33],\n",
       " 'CoronavirusAB': [2, 1.6800000000000002, 4],\n",
       " 'CanadaCOVID19': [1, 1.0, 0],\n",
       " 'GlobalNews': [2, 1.3900000000000001, 0],\n",
       " 'RuralNewsNetwork': [5, 5.0, 0],\n",
       " 'CoronavirusON': [7, 7.0, 0],\n",
       " 'InternetAccess': [1, 1.0, 0],\n",
       " 'CanadaBusiness': [64, 64.0, 64],\n",
       " 'climatejustice': [1, 0.86, 0],\n",
       " 'BellevilleOntario': [2, 1.2, 10],\n",
       " 'montrealmusic': [1, 1.0, 0],\n",
       " 'edmundston': [1, 0.5, 0],\n",
       " 'TrumpCivilWar': [1, 0.5, 0],\n",
       " 'NLPolitics': [43, 42.370000000000005, 6],\n",
       " 'climatedisalarm': [1, 0.66, 0],\n",
       " 'tofino': [1, 0.95, 0],\n",
       " 'RonaldReagan': [1, 0.81, 0],\n",
       " 'vancouvercanada': [2, 2.0, 0],\n",
       " 'Xinjiang': [1, 0.91, 0],\n",
       " 'PrinceRupert': [1, 1.0, 0],\n",
       " 'Canada_Politics': [40, 37.019999999999996, 10],\n",
       " 'Canadian_News': [13, 12.48, 3],\n",
       " 'WoodstockNB': [2, 1.33, 0],\n",
       " 'Covid19Origin': [1, 1.0, 1],\n",
       " 'GoodNewsNetwork': [1, 1.0, 0],\n",
       " 'COVID_CANADA': [1972, 1959.3200000000004, 23],\n",
       " 'FawningLiberalMedia': [3, 3.0, 1],\n",
       " 'MalcolmGladwell': [1, 1.0, 0],\n",
       " 'whatsreallygoinon': [1, 0.67, 0],\n",
       " 'WHHR7': [1, 1.0, 0],\n",
       " 'LGBTQnews': [1, 0.91, 0],\n",
       " 'CanadaRugby': [1, 1.0, 0],\n",
       " 'LockdownSkepticismCAN': [6, 5.430000000000001, 4],\n",
       " 'Stockhouse': [2, 1.75, 0],\n",
       " 'TrueCrimeGenre': [2, 2.0, 1],\n",
       " 'geopolitics2': [1, 0.75, 0],\n",
       " 'NovaScotiaPolitics': [27, 25.380000000000003, 12],\n",
       " 'canadaprivacy': [1, 1.0, 0],\n",
       " 'CoronaVirus_2019_nCoV': [2, 1.54, 0],\n",
       " 'ManitobaPolitics': [23, 20.919999999999998, 32],\n",
       " 'NewNormal': [1, 1.0, 0],\n",
       " 'CanadianFilm': [2, 2.0, 0],\n",
       " 'tlingit': [1, 1.0, 0],\n",
       " 'CoVaxSkeptical': [1, 0.81, 0],\n",
       " 'nakd': [1, 0.73, 0],\n",
       " 'SpruceGrove': [1, 0.75, 1],\n",
       " 'BCpolitics': [36, 32.91, 95],\n",
       " 'WallstreetStonkLottry': [2, 2.0, 0],\n",
       " 'News_Retail': [9, 9.0, 0],\n",
       " 'BoomerTears': [1, 0.99, 26],\n",
       " 'StudentSkeptics': [1, 1.0, 0],\n",
       " 'InvestingRetards': [1, 1.0, 0],\n",
       " 'maskfreakouts': [1, 1.0, 0],\n",
       " 'LGBTnews': [2, 1.67, 0],\n",
       " 'HeroesUnited': [1, 1.0, 0],\n",
       " 'AnythingOntario': [447, 439.68000000000035, 6],\n",
       " 'NoDAPL': [1, 1.0, 4],\n",
       " 'civocracy': [7, 7.0, 0],\n",
       " 'pooptimevideos': [1, 1.0, 0],\n",
       " 'News_Walmart': [1, 1.0, 0],\n",
       " 'DamnInteresting': [5, 5.0, 1],\n",
       " 'estevan': [2, 1.81, 1],\n",
       " 'wheresthebeef': [1, 1.0, 0],\n",
       " 'China_War': [1, 1.0, 0],\n",
       " 'UglyHumanity': [1, 0.66, 1],\n",
       " 'HotZone': [2, 2.0, 0],\n",
       " 'POCEntertainment': [2, 2.0, 0],\n",
       " 'neutralnews': [1, 0.84, 2],\n",
       " 'ActualidadMundial': [2, 2.0, 0],\n",
       " 'karmawhoresrus': [1, 1.0, 0],\n",
       " 'BadCopNoTimbit': [5, 4.87, 2],\n",
       " 'HIVandAIDS': [1, 1.0, 0],\n",
       " 'SaskatchewanPolitics': [34, 31.98, 236],\n",
       " 'VancouverNews': [2, 2.0, 0],\n",
       " 'Bathurst': [1, 0.75, 0],\n",
       " 'Elon_musketeers': [1, 1.0, 0],\n",
       " 'NewsfeedForWork': [41, 40.33, 1],\n",
       " 'News_HealthBiotech': [7, 7.0, 2],\n",
       " 'gorecrowsociety': [1, 1.0, 0],\n",
       " 'EvolveSustain': [7, 7.0, 0],\n",
       " 'News_Food': [24, 24.0, 1],\n",
       " 'JustBadNews': [5, 4.5, 5],\n",
       " 'Trump_Idiocy': [2, 1.67, 0],\n",
       " 'News_Entertainment': [1, 1.0, 0],\n",
       " 'vanhousing': [3, 2.39, 1],\n",
       " 'News_Education': [24, 23.67, 0],\n",
       " 'electionReformNews': [2, 2.0, 0],\n",
       " 'News_Transportation': [12, 12.0, 0],\n",
       " 'HumanTraffickingNews': [2, 2.0, 0],\n",
       " 'News_RealEstate': [21, 20.67, 1],\n",
       " 'News_facebook': [1, 1.0, 0],\n",
       " 'News_OilAndEnergy': [18, 16.0, 6],\n",
       " 'politics2021': [1, 0.66, 0],\n",
       " 'Wuhan_Virus': [1, 1.0, 1],\n",
       " 'CoV2Canada': [1, 1.0, 0],\n",
       " 'greenpartybc': [2, 1.7, 0],\n",
       " 'USUnited': [1, 1.0, 1],\n",
       " 'News_Utility': [22, 22.0, 1],\n",
       " 'Positive_News': [2, 1.8900000000000001, 1],\n",
       " 'InMemoriamCOVID': [1, 0.93, 0],\n",
       " 'larryking': [1, 1.0, 0],\n",
       " 'notthebeaverton': [7, 6.91, 41],\n",
       " 'CoronavirusToronto': [1, 1.0, 0],\n",
       " 'CoronavirusOntario': [1, 0.71, 1],\n",
       " 'TrumpLegalTalk': [1, 1.0, 0],\n",
       " 'CoronavirusPandemic': [2, 1.81, 1],\n",
       " 'CoronaVirusWorldNews': [1, 1.0, 0],\n",
       " 'Toadbook': [2, 1.67, 0],\n",
       " 'Quebec_Politics': [4, 3.76, 0],\n",
       " 'ClimateCrisisCanada': [8, 7.42, 1],\n",
       " 'PEIpolitics': [23, 23.0, 2],\n",
       " 'CBC2': [502, 496.41999999999996, 1],\n",
       " 'OntarioNews': [151, 148.34, 10],\n",
       " 'YarnArt': [1, 1.0, 0],\n",
       " 'CanadianMusicNews': [8, 8.0, 0],\n",
       " 'nbpolitics': [25, 23.88, 74],\n",
       " 'YukonPolitics': [8, 6.0, 2],\n",
       " 'NunavutPolitics': [2, 2.0, 0],\n",
       " 'NWTPolitics': [7, 6.82, 3],\n",
       " 'VancouverIslandJobs': [1, 1.0, 1],\n",
       " 'packgoats': [1, 0.91, 0],\n",
       " 'xxfitness_classic': [1, 1.0, 2],\n",
       " 'xxfitnesspals': [1, 0.33, 0],\n",
       " 'manitoulin': [1, 1.0, 5],\n",
       " 'DeltaBritishColumbia': [2, 1.68, 1],\n",
       " 'AtlanticCanada': [1, 1.0, 0],\n",
       " 'CoronavirusChurches': [1, 1.0, 0],\n",
       " 'Alouettes': [1, 1.0, 0],\n",
       " 'CutCBC': [1, 0.99, 0],\n",
       " 'MaritimeLaunch': [1, 1.0, 1],\n",
       " 'actualzombie': [2, 2.0, 0],\n",
       " 'CanadianAtheism': [1, 1.0, 3],\n",
       " 'GreenPartyNB': [2, 1.76, 0],\n",
       " 'CampbelltonNB': [1, 0.66, 0],\n",
       " 'GrandFalls': [2, 1.46, 0],\n",
       " 'Minto': [1, 0.5, 0],\n",
       " 'Hampton': [2, 2.0, 0],\n",
       " 'hyperbarics': [1, 1.0, 0],\n",
       " 'NOKXL': [1, 1.0, 0],\n",
       " 'somebody_somewhere': [1, 1.0, 0],\n",
       " 'UAlberta2': [1, 1.0, 0],\n",
       " 'LiberalScandalWatch': [1, 0.82, 0],\n",
       " 'TheMapleCrown': [1, 1.0, 0],\n",
       " 'GaryAndHisDemons': [1, 0.97, 3],\n",
       " 'TorontoCanada': [2, 2.0, 0],\n",
       " 'CrownLandsMusic': [1, 1.0, 0],\n",
       " 'MindBleach': [1, 0.85, 0]}"
      ]
     },
     "execution_count": 308,
     "metadata": {},
     "output_type": "execute_result"
    }
   ],
   "source": [
    "ns_subreddit_01['cbc.ca']"
   ]
  },
  {
   "cell_type": "code",
   "execution_count": 309,
   "metadata": {},
   "outputs": [
    {
     "data": {
      "text/plain": [
       "<AxesSubplot:ylabel='Count'>"
      ]
     },
     "execution_count": 309,
     "metadata": {},
     "output_type": "execute_result"
    },
    {
     "data": {
      "image/png": "[encoded data removed]",
      "text/plain": [
       "<Figure size 432x288 with 1 Axes>"
      ]
     },
     "metadata": {},
     "output_type": "display_data"
    }
   ],
   "source": [
    "sns.histplot(list(mention_count.values()), log_scale=True)"
   ]
  },
  {
   "cell_type": "code",
   "execution_count": 310,
   "metadata": {},
   "outputs": [
    {
     "data": {
      "text/plain": [
       "34.91335800807537"
      ]
     },
     "execution_count": 310,
     "metadata": {},
     "output_type": "execute_result"
    }
   ],
   "source": [
    "len([k for k in mention_count.values() if k <5])*100/len(mention_count)"
   ]
  },
  {
   "cell_type": "code",
   "execution_count": 311,
   "metadata": {},
   "outputs": [
    {
     "data": {
      "text/plain": [
       "15454.4"
      ]
     },
     "execution_count": 311,
     "metadata": {},
     "output_type": "execute_result"
    }
   ],
   "source": [
    "(1-0.35)*len(mention_count)"
   ]
  },
  {
   "cell_type": "markdown",
   "metadata": {},
   "source": [
    "## For each subreddit let's count how many news sources were mentioned in it"
   ]
  },
  {
   "cell_type": "markdown",
   "metadata": {},
   "source": [
    "Counting how many news sources were mentioned in each subreddit"
   ]
  },
  {
   "cell_type": "code",
   "execution_count": 312,
   "metadata": {},
   "outputs": [],
   "source": [
    "nsc_count = dict()\n",
    "for sr in sr_union:\n",
    "    nsc_count[sr] = len(set(subreddit_ns_jan.get(sr, dict()).keys()) \n",
    "                               | set(subreddit_ns_feb.get(sr, dict()).keys()) \n",
    "                               | set(subreddit_ns_march.get(sr, dict()).keys()) \n",
    "                               | set(subreddit_ns_april.get(sr, dict()).keys())\n",
    "                               | set(subreddit_ns_may.get(sr, dict()).keys()) \n",
    "                               | set(subreddit_ns_jun.get(sr, dict()).keys()))"
   ]
  },
  {
   "cell_type": "markdown",
   "metadata": {},
   "source": [
    "`nsc_count` stores how many news sources appear in each subreddit."
   ]
  },
  {
   "cell_type": "code",
   "execution_count": 313,
   "metadata": {},
   "outputs": [
    {
     "data": {
      "text/plain": [
       "104"
      ]
     },
     "execution_count": 313,
     "metadata": {},
     "output_type": "execute_result"
    }
   ],
   "source": [
    "nsc_count['aww']"
   ]
  },
  {
   "cell_type": "code",
   "execution_count": 314,
   "metadata": {},
   "outputs": [
    {
     "data": {
      "text/plain": [
       "0"
      ]
     },
     "execution_count": 314,
     "metadata": {},
     "output_type": "execute_result"
    }
   ],
   "source": [
    "len([k for k in nsc_count if nsc_count[k]<1])"
   ]
  },
  {
   "cell_type": "code",
   "execution_count": 315,
   "metadata": {},
   "outputs": [
    {
     "data": {
      "text/plain": [
       "{1: 29027,\n",
       " 2: 9640,\n",
       " 3: 5413,\n",
       " 4: 3443,\n",
       " 5: 2422,\n",
       " 6: 1990,\n",
       " 7: 1491,\n",
       " 8: 1286,\n",
       " 9: 1068,\n",
       " 10: 897,\n",
       " 11: 745,\n",
       " 12: 637,\n",
       " 13: 612,\n",
       " 14: 524,\n",
       " 16: 436,\n",
       " 15: 419,\n",
       " 18: 377,\n",
       " 17: 364,\n",
       " 19: 329,\n",
       " 20: 319,\n",
       " 22: 254,\n",
       " 21: 250,\n",
       " 25: 216,\n",
       " 23: 216,\n",
       " 24: 214,\n",
       " 27: 194,\n",
       " 26: 178,\n",
       " 29: 175,\n",
       " 28: 164,\n",
       " 30: 151,\n",
       " 32: 143,\n",
       " 31: 138,\n",
       " 33: 134,\n",
       " 35: 120,\n",
       " 34: 119,\n",
       " 37: 110,\n",
       " 36: 109,\n",
       " 39: 103,\n",
       " 40: 98,\n",
       " 42: 83,\n",
       " 43: 79,\n",
       " 41: 79,\n",
       " 38: 77,\n",
       " 49: 76,\n",
       " 44: 76,\n",
       " 52: 74,\n",
       " 45: 68,\n",
       " 51: 66,\n",
       " 47: 63,\n",
       " 53: 62,\n",
       " 48: 61,\n",
       " 46: 58,\n",
       " 50: 58,\n",
       " 59: 53,\n",
       " 56: 53,\n",
       " 55: 53,\n",
       " 58: 46,\n",
       " 61: 44,\n",
       " 54: 43,\n",
       " 63: 43,\n",
       " 62: 41,\n",
       " 66: 40,\n",
       " 67: 36,\n",
       " 57: 36,\n",
       " 77: 35,\n",
       " 68: 35,\n",
       " 64: 35,\n",
       " 60: 34,\n",
       " 71: 33,\n",
       " 80: 33,\n",
       " 65: 33,\n",
       " 74: 31,\n",
       " 82: 29,\n",
       " 73: 28,\n",
       " 69: 28,\n",
       " 88: 27,\n",
       " 70: 27,\n",
       " 72: 27,\n",
       " 75: 26,\n",
       " 86: 24,\n",
       " 93: 23,\n",
       " 81: 22,\n",
       " 78: 22,\n",
       " 85: 22,\n",
       " 84: 21,\n",
       " 83: 21,\n",
       " 76: 20,\n",
       " 91: 20,\n",
       " 110: 20,\n",
       " 79: 20,\n",
       " 87: 20,\n",
       " 89: 19,\n",
       " 101: 19,\n",
       " 97: 18,\n",
       " 103: 18,\n",
       " 94: 18,\n",
       " 116: 18,\n",
       " 104: 18,\n",
       " 118: 17,\n",
       " 98: 17,\n",
       " 140: 15,\n",
       " 124: 15,\n",
       " 107: 15,\n",
       " 112: 15,\n",
       " 95: 15,\n",
       " 132: 15,\n",
       " 111: 15,\n",
       " 135: 14,\n",
       " 108: 14,\n",
       " 133: 14,\n",
       " 102: 14,\n",
       " 130: 14,\n",
       " 114: 14,\n",
       " 92: 14,\n",
       " 141: 13,\n",
       " 117: 13,\n",
       " 90: 13,\n",
       " 105: 13,\n",
       " 128: 12,\n",
       " 120: 12,\n",
       " 113: 12,\n",
       " 96: 12,\n",
       " 122: 12,\n",
       " 127: 12,\n",
       " 137: 11,\n",
       " 131: 11,\n",
       " 126: 11,\n",
       " 143: 11,\n",
       " 119: 11,\n",
       " 162: 11,\n",
       " 100: 11,\n",
       " 106: 10,\n",
       " 136: 10,\n",
       " 109: 10,\n",
       " 171: 9,\n",
       " 148: 9,\n",
       " 99: 9,\n",
       " 139: 9,\n",
       " 138: 9,\n",
       " 167: 9,\n",
       " 205: 9,\n",
       " 142: 9,\n",
       " 147: 8,\n",
       " 156: 8,\n",
       " 146: 8,\n",
       " 152: 8,\n",
       " 188: 8,\n",
       " 129: 8,\n",
       " 158: 8,\n",
       " 230: 8,\n",
       " 121: 8,\n",
       " 160: 7,\n",
       " 151: 7,\n",
       " 247: 7,\n",
       " 166: 7,\n",
       " 241: 7,\n",
       " 203: 7,\n",
       " 163: 7,\n",
       " 172: 7,\n",
       " 181: 6,\n",
       " 185: 6,\n",
       " 183: 6,\n",
       " 239: 6,\n",
       " 159: 6,\n",
       " 234: 6,\n",
       " 201: 6,\n",
       " 175: 6,\n",
       " 161: 6,\n",
       " 274: 6,\n",
       " 123: 6,\n",
       " 145: 6,\n",
       " 125: 6,\n",
       " 218: 5,\n",
       " 217: 5,\n",
       " 238: 5,\n",
       " 115: 5,\n",
       " 154: 5,\n",
       " 210: 5,\n",
       " 134: 5,\n",
       " 279: 5,\n",
       " 149: 5,\n",
       " 243: 5,\n",
       " 190: 5,\n",
       " 153: 5,\n",
       " 196: 5,\n",
       " 191: 5,\n",
       " 479: 5,\n",
       " 334: 5,\n",
       " 186: 5,\n",
       " 240: 4,\n",
       " 249: 4,\n",
       " 263: 4,\n",
       " 235: 4,\n",
       " 331: 4,\n",
       " 232: 4,\n",
       " 226: 4,\n",
       " 199: 4,\n",
       " 193: 4,\n",
       " 184: 4,\n",
       " 289: 4,\n",
       " 182: 4,\n",
       " 314: 4,\n",
       " 144: 4,\n",
       " 187: 4,\n",
       " 157: 4,\n",
       " 164: 4,\n",
       " 194: 4,\n",
       " 216: 4,\n",
       " 200: 4,\n",
       " 197: 4,\n",
       " 198: 4,\n",
       " 165: 4,\n",
       " 275: 4,\n",
       " 317: 3,\n",
       " 253: 3,\n",
       " 444: 3,\n",
       " 155: 3,\n",
       " 195: 3,\n",
       " 204: 3,\n",
       " 219: 3,\n",
       " 169: 3,\n",
       " 214: 3,\n",
       " 269: 3,\n",
       " 291: 3,\n",
       " 207: 3,\n",
       " 192: 3,\n",
       " 267: 3,\n",
       " 311: 3,\n",
       " 360: 3,\n",
       " 366: 3,\n",
       " 189: 3,\n",
       " 237: 3,\n",
       " 178: 3,\n",
       " 150: 3,\n",
       " 215: 3,\n",
       " 233: 3,\n",
       " 250: 3,\n",
       " 266: 3,\n",
       " 280: 3,\n",
       " 242: 3,\n",
       " 322: 3,\n",
       " 265: 3,\n",
       " 231: 3,\n",
       " 378: 3,\n",
       " 228: 3,\n",
       " 257: 3,\n",
       " 325: 3,\n",
       " 176: 3,\n",
       " 252: 3,\n",
       " 229: 3,\n",
       " 321: 3,\n",
       " 339: 3,\n",
       " 245: 3,\n",
       " 180: 3,\n",
       " 286: 2,\n",
       " 262: 2,\n",
       " 179: 2,\n",
       " 270: 2,\n",
       " 258: 2,\n",
       " 328: 2,\n",
       " 170: 2,\n",
       " 336: 2,\n",
       " 478: 2,\n",
       " 453: 2,\n",
       " 408: 2,\n",
       " 308: 2,\n",
       " 434: 2,\n",
       " 455: 2,\n",
       " 244: 2,\n",
       " 523: 2,\n",
       " 522: 2,\n",
       " 211: 2,\n",
       " 307: 2,\n",
       " 871: 2,\n",
       " 349: 2,\n",
       " 287: 2,\n",
       " 320: 2,\n",
       " 539: 2,\n",
       " 348: 2,\n",
       " 255: 2,\n",
       " 318: 2,\n",
       " 227: 2,\n",
       " 623: 2,\n",
       " 316: 2,\n",
       " 260: 2,\n",
       " 471: 2,\n",
       " 303: 2,\n",
       " 225: 2,\n",
       " 222: 2,\n",
       " 212: 2,\n",
       " 256: 2,\n",
       " 254: 2,\n",
       " 572: 2,\n",
       " 281: 2,\n",
       " 278: 2,\n",
       " 333: 2,\n",
       " 209: 2,\n",
       " 350: 2,\n",
       " 206: 2,\n",
       " 288: 2,\n",
       " 284: 2,\n",
       " 364: 2,\n",
       " 452: 2,\n",
       " 373: 2,\n",
       " 726: 2,\n",
       " 300: 2,\n",
       " 264: 2,\n",
       " 259: 2,\n",
       " 375: 2,\n",
       " 413: 2,\n",
       " 174: 2,\n",
       " 580: 2,\n",
       " 277: 2,\n",
       " 268: 2,\n",
       " 537: 2,\n",
       " 437: 2,\n",
       " 529: 2,\n",
       " 213: 2,\n",
       " 426: 1,\n",
       " 682: 1,\n",
       " 815: 1,\n",
       " 294: 1,\n",
       " 407: 1,\n",
       " 431: 1,\n",
       " 553: 1,\n",
       " 338: 1,\n",
       " 483: 1,\n",
       " 748: 1,\n",
       " 509: 1,\n",
       " 355: 1,\n",
       " 446: 1,\n",
       " 1432: 1,\n",
       " 386: 1,\n",
       " 500: 1,\n",
       " 475: 1,\n",
       " 764: 1,\n",
       " 276: 1,\n",
       " 344: 1,\n",
       " 485: 1,\n",
       " 663: 1,\n",
       " 246: 1,\n",
       " 551: 1,\n",
       " 236: 1,\n",
       " 293: 1,\n",
       " 2613: 1,\n",
       " 604: 1,\n",
       " 517: 1,\n",
       " 880: 1,\n",
       " 305: 1,\n",
       " 419: 1,\n",
       " 387: 1,\n",
       " 600: 1,\n",
       " 3452: 1,\n",
       " 374: 1,\n",
       " 584: 1,\n",
       " 388: 1,\n",
       " 734: 1,\n",
       " 999: 1,\n",
       " 1311: 1,\n",
       " 433: 1,\n",
       " 562: 1,\n",
       " 297: 1,\n",
       " 1729: 1,\n",
       " 2309: 1,\n",
       " 410: 1,\n",
       " 583: 1,\n",
       " 271: 1,\n",
       " 725: 1,\n",
       " 484: 1,\n",
       " 603: 1,\n",
       " 2444: 1,\n",
       " 526: 1,\n",
       " 395: 1,\n",
       " 323: 1,\n",
       " 932: 1,\n",
       " 418: 1,\n",
       " 816: 1,\n",
       " 1043: 1,\n",
       " 625: 1,\n",
       " 528: 1,\n",
       " 361: 1,\n",
       " 1050: 1,\n",
       " 1064: 1,\n",
       " 512: 1,\n",
       " 248: 1,\n",
       " 1877: 1,\n",
       " 793: 1,\n",
       " 489: 1,\n",
       " 304: 1,\n",
       " 920: 1,\n",
       " 296: 1,\n",
       " 298: 1,\n",
       " 442: 1,\n",
       " 427: 1,\n",
       " 639: 1,\n",
       " 223: 1,\n",
       " 414: 1,\n",
       " 574: 1,\n",
       " 2564: 1,\n",
       " 476: 1,\n",
       " 544: 1,\n",
       " 540: 1,\n",
       " 610: 1,\n",
       " 292: 1,\n",
       " 403: 1,\n",
       " 620: 1,\n",
       " 891: 1,\n",
       " 534: 1,\n",
       " 312: 1,\n",
       " 2255: 1,\n",
       " 1026: 1,\n",
       " 743: 1,\n",
       " 587: 1,\n",
       " 430: 1,\n",
       " 396: 1,\n",
       " 438: 1,\n",
       " 782: 1,\n",
       " 1061: 1,\n",
       " 2949: 1,\n",
       " 221: 1,\n",
       " 670: 1,\n",
       " 393: 1,\n",
       " 886: 1,\n",
       " 391: 1,\n",
       " 450: 1,\n",
       " 358: 1,\n",
       " 346: 1,\n",
       " 3603: 1,\n",
       " 545: 1,\n",
       " 609: 1,\n",
       " 817: 1,\n",
       " 832: 1,\n",
       " 1423: 1,\n",
       " 1999: 1,\n",
       " 731: 1,\n",
       " 520: 1,\n",
       " 622: 1,\n",
       " 506: 1,\n",
       " 493: 1,\n",
       " 454: 1,\n",
       " 2099: 1,\n",
       " 1523: 1,\n",
       " 282: 1,\n",
       " 889: 1,\n",
       " 1273: 1,\n",
       " 561: 1,\n",
       " 449: 1,\n",
       " 177: 1,\n",
       " 363: 1,\n",
       " 1338: 1,\n",
       " 405: 1,\n",
       " 208: 1,\n",
       " 613: 1,\n",
       " 370: 1,\n",
       " 497: 1,\n",
       " 740: 1,\n",
       " 295: 1,\n",
       " 306: 1,\n",
       " 341: 1,\n",
       " 1038: 1,\n",
       " 224: 1,\n",
       " 507: 1,\n",
       " 722: 1,\n",
       " 342: 1,\n",
       " 261: 1,\n",
       " 1200: 1,\n",
       " 443: 1,\n",
       " 423: 1,\n",
       " 564: 1,\n",
       " 611: 1,\n",
       " 421: 1,\n",
       " 309: 1,\n",
       " 589: 1,\n",
       " 1754: 1,\n",
       " 326: 1,\n",
       " 473: 1,\n",
       " 505: 1,\n",
       " 381: 1,\n",
       " 417: 1,\n",
       " 345: 1,\n",
       " 1543: 1,\n",
       " 624: 1,\n",
       " 1187: 1,\n",
       " 510: 1,\n",
       " 399: 1,\n",
       " 3044: 1,\n",
       " 313: 1,\n",
       " 1136: 1,\n",
       " 638: 1,\n",
       " 846: 1,\n",
       " 1074: 1,\n",
       " 472: 1,\n",
       " 550: 1,\n",
       " 597: 1,\n",
       " 327: 1,\n",
       " 251: 1,\n",
       " 594: 1,\n",
       " 402: 1,\n",
       " 546: 1,\n",
       " 389: 1,\n",
       " 398: 1,\n",
       " 532: 1,\n",
       " 888: 1,\n",
       " 1165: 1,\n",
       " 761: 1,\n",
       " 927: 1,\n",
       " 693: 1,\n",
       " 729: 1,\n",
       " 705: 1,\n",
       " 525: 1,\n",
       " 340: 1,\n",
       " 1188: 1,\n",
       " 273: 1,\n",
       " 492: 1,\n",
       " 392: 1,\n",
       " 367: 1,\n",
       " 876: 1,\n",
       " 202: 1,\n",
       " 1181: 1,\n",
       " 329: 1,\n",
       " 559: 1,\n",
       " 1592: 1,\n",
       " 599: 1,\n",
       " 676: 1,\n",
       " 626: 1,\n",
       " 573: 1,\n",
       " 719: 1}"
      ]
     },
     "execution_count": 315,
     "metadata": {},
     "output_type": "execute_result"
    }
   ],
   "source": [
    "nsc_count_freq = dict(Counter(nsc_count.values()).most_common())\n",
    "nsc_count_freq"
   ]
  },
  {
   "cell_type": "markdown",
   "metadata": {},
   "source": [
    "`nsc_count_freq` keeps track of how many news sources appear in *n* subreddits for all possible *n*."
   ]
  },
  {
   "cell_type": "code",
   "execution_count": 316,
   "metadata": {},
   "outputs": [
    {
     "data": {
      "text/plain": [
       "3603"
      ]
     },
     "execution_count": 316,
     "metadata": {},
     "output_type": "execute_result"
    }
   ],
   "source": [
    "max(nsc_count_freq.keys())"
   ]
  },
  {
   "cell_type": "code",
   "execution_count": 317,
   "metadata": {},
   "outputs": [
    {
     "name": "stdout",
     "output_type": "stream",
     "text": [
      "COVID_CANADA has 3603 news sources mentioned in it.\n",
      "news has 3452 news sources mentioned in it.\n",
      "politics has 3044 news sources mentioned in it.\n",
      "todayilearned has 2949 news sources mentioned in it.\n",
      "Coronavirus has 2613 news sources mentioned in it.\n",
      "worldnews has 2564 news sources mentioned in it.\n",
      "nottheonion has 2444 news sources mentioned in it.\n",
      "prisons has 2309 news sources mentioned in it.\n",
      "NoFilterNews has 2255 news sources mentioned in it.\n",
      "conspiracy has 2099 news sources mentioned in it.\n",
      "wallstreetbets has 1999 news sources mentioned in it.\n",
      "tomorrowsworld has 1877 news sources mentioned in it.\n",
      "autotldr has 1754 news sources mentioned in it.\n",
      "Conservative has 1729 news sources mentioned in it.\n",
      "NoNewNormal has 1592 news sources mentioned in it.\n",
      "CryptoCurrency has 1543 news sources mentioned in it.\n",
      "technology has 1523 news sources mentioned in it.\n",
      "europe has 1432 news sources mentioned in it.\n",
      "electionReformNews has 1423 news sources mentioned in it.\n",
      "HumanTraffickingNews has 1338 news sources mentioned in it.\n",
      "crowdfunders has 1311 news sources mentioned in it.\n",
      "environment has 1273 news sources mentioned in it.\n"
     ]
    }
   ],
   "source": [
    "nsc_ranked = Counter(nsc_count).most_common()\n",
    "\n",
    "for t in nsc_ranked:\n",
    "    sr, co = t\n",
    "    if co > 1200:\n",
    "        print(f\"{sr} has {co} news sources mentioned in it.\")"
   ]
  },
  {
   "cell_type": "code",
   "execution_count": 318,
   "metadata": {},
   "outputs": [
    {
     "data": {
      "text/plain": [
       "True"
      ]
     },
     "execution_count": 318,
     "metadata": {},
     "output_type": "execute_result"
    }
   ],
   "source": [
    "sum(nsc_count_freq.values()) == len(sr_union)"
   ]
  },
  {
   "cell_type": "code",
   "execution_count": 319,
   "metadata": {},
   "outputs": [],
   "source": [
    "import itertools"
   ]
  },
  {
   "cell_type": "code",
   "execution_count": 320,
   "metadata": {},
   "outputs": [],
   "source": [
    "nsc = list(itertools.chain.from_iterable(itertools.repeat(k,v) for k,v in nsc_count_freq.items()))"
   ]
  },
  {
   "cell_type": "code",
   "execution_count": 321,
   "metadata": {
    "scrolled": true
   },
   "outputs": [
    {
     "data": {
      "text/plain": [
       "Text(0.5, 1.0, 'number of subreddits with x news sources')"
      ]
     },
     "execution_count": 321,
     "metadata": {},
     "output_type": "execute_result"
    },
    {
     "data": {
      "image/png": "[encoded data removed]",
      "text/plain": [
       "<Figure size 432x288 with 1 Axes>"
      ]
     },
     "metadata": {},
     "output_type": "display_data"
    }
   ],
   "source": [
    "sns.histplot(nsc, log_scale=True)\n",
    "plt.xlabel(\"number of news source\")\n",
    "plt.ylabel(\"subreddit count\")\n",
    "plt.title(\"number of subreddits with x news sources\")"
   ]
  },
  {
   "cell_type": "code",
   "execution_count": 322,
   "metadata": {},
   "outputs": [
    {
     "data": {
      "text/plain": [
       "7104"
      ]
     },
     "execution_count": 322,
     "metadata": {},
     "output_type": "execute_result"
    }
   ],
   "source": [
    "len([n for n in nsc if n>=20])"
   ]
  },
  {
   "cell_type": "markdown",
   "metadata": {},
   "source": [
    "I want to investigate and choose a subset of subreddits in the set of those that have 20 or more different news sources."
   ]
  },
  {
   "cell_type": "code",
   "execution_count": 323,
   "metadata": {},
   "outputs": [],
   "source": [
    "nsc_ge20 = []\n",
    "for n in nsc_count:\n",
    "    if nsc_count[n] >= 20:\n",
    "        nsc_ge20.append(n)"
   ]
  },
  {
   "cell_type": "code",
   "execution_count": 324,
   "metadata": {},
   "outputs": [
    {
     "data": {
      "text/plain": [
       "7104"
      ]
     },
     "execution_count": 324,
     "metadata": {},
     "output_type": "execute_result"
    }
   ],
   "source": [
    "len(nsc_ge20)"
   ]
  },
  {
   "cell_type": "code",
   "execution_count": 325,
   "metadata": {},
   "outputs": [],
   "source": [
    "import csv"
   ]
  },
  {
   "cell_type": "code",
   "execution_count": 326,
   "metadata": {},
   "outputs": [],
   "source": [
    "with open(\"nsc_ge20.xlsx\", \"w\", newline='', encoding=\"utf-8\") as c:\n",
    "    cw = csv.writer(c, delimiter=\",\", dialect=\"excel\")\n",
    "    for n in nsc_ge20:\n",
    "        cw.writerow([n,\"https://www.reddit.com/r/{}\".format(n)])"
   ]
  },
  {
   "cell_type": "code",
   "execution_count": 327,
   "metadata": {},
   "outputs": [
    {
     "data": {
      "text/plain": [
       "True"
      ]
     },
     "execution_count": 327,
     "metadata": {},
     "output_type": "execute_result"
    }
   ],
   "source": [
    "\"learnwelsh\" in sr_union"
   ]
  },
  {
   "cell_type": "code",
   "execution_count": 328,
   "metadata": {},
   "outputs": [
    {
     "data": {
      "text/plain": [
       "{'bbc.co.uk': [3, 2.93, 23],\n",
       " 'mit.edu': [1, 1.0, 0],\n",
       " 'wiktionary.org': [2, 2.0, 0]}"
      ]
     },
     "execution_count": 328,
     "metadata": {},
     "output_type": "execute_result"
    }
   ],
   "source": [
    "subreddit_ns_jan[\"learnwelsh\"]"
   ]
  },
  {
   "cell_type": "markdown",
   "metadata": {},
   "source": [
    "How many subreddits only mentioned 5 news sources or less?"
   ]
  },
  {
   "cell_type": "code",
   "execution_count": 329,
   "metadata": {},
   "outputs": [],
   "source": [
    "def pct_subreddits_mentioning_k_newssources(ks):\n",
    "    sr_mention_i_nsc = [k for k in nsc_count if nsc_count[k] <= ks]\n",
    "    count = len(sr_mention_i_nsc)\n",
    "    print(\"There are {} subreddits mentioning in only {} news sources or less ({}%)\".format(count, ks, count/len(sr_union)))\n",
    "    return count/len(sr_union)"
   ]
  },
  {
   "cell_type": "code",
   "execution_count": 330,
   "metadata": {},
   "outputs": [
    {
     "name": "stdout",
     "output_type": "stream",
     "text": [
      "There are 29027 subreddits mentioning in only 1 news sources or less (0.42546611163227016%)\n"
     ]
    },
    {
     "data": {
      "text/plain": [
       "0.42546611163227016"
      ]
     },
     "execution_count": 330,
     "metadata": {},
     "output_type": "execute_result"
    }
   ],
   "source": [
    "pct_subreddits_mentioning_k_newssources(1)"
   ]
  },
  {
   "cell_type": "code",
   "execution_count": 331,
   "metadata": {
    "scrolled": true
   },
   "outputs": [
    {
     "data": {
      "text/plain": [
       "11.844937265478425"
      ]
     },
     "execution_count": 331,
     "metadata": {},
     "output_type": "execute_result"
    }
   ],
   "source": [
    "# mean\n",
    "statistics.mean(nsc)"
   ]
  },
  {
   "cell_type": "code",
   "execution_count": 332,
   "metadata": {},
   "outputs": [
    {
     "data": {
      "text/plain": [
       "2.0"
      ]
     },
     "execution_count": 332,
     "metadata": {},
     "output_type": "execute_result"
    }
   ],
   "source": [
    "# median\n",
    "statistics.median(nsc)"
   ]
  },
  {
   "cell_type": "markdown",
   "metadata": {},
   "source": [
    "## For each subreddit let's count total submissions that are news source related"
   ]
  },
  {
   "cell_type": "code",
   "execution_count": 333,
   "metadata": {},
   "outputs": [],
   "source": [
    "def get_submission_count(sb):\n",
    "    \"\"\"get total mention count of ns in all six months\"\"\"\n",
    "    count = 0\n",
    "    files = [subreddit_ns_jan, subreddit_ns_feb, subreddit_ns_march, subreddit_ns_april, subreddit_ns_may, subreddit_ns_jun]\n",
    "    for f in files:\n",
    "        sb_dict = f.get(sb, dict())\n",
    "        if len(sb_dict) > 0:\n",
    "            mentions = sum([m[0] for m in sb_dict.values()])\n",
    "            count += mentions\n",
    "    return count"
   ]
  },
  {
   "cell_type": "code",
   "execution_count": 334,
   "metadata": {},
   "outputs": [],
   "source": [
    "mention_count = dict()\n",
    "for sb in sr_union:\n",
    "    mention_count[sb] = get_submission_count(sb)"
   ]
  },
  {
   "cell_type": "code",
   "execution_count": 335,
   "metadata": {
    "scrolled": true
   },
   "outputs": [
    {
     "data": {
      "text/plain": [
       "105.07859404315197"
      ]
     },
     "execution_count": 335,
     "metadata": {},
     "output_type": "execute_result"
    }
   ],
   "source": [
    "statistics.mean(mention_count.values())"
   ]
  },
  {
   "cell_type": "code",
   "execution_count": 336,
   "metadata": {},
   "outputs": [
    {
     "data": {
      "text/plain": [
       "2578.3326573709246"
      ]
     },
     "execution_count": 336,
     "metadata": {},
     "output_type": "execute_result"
    }
   ],
   "source": [
    "statistics.stdev(mention_count.values())"
   ]
  },
  {
   "cell_type": "code",
   "execution_count": 337,
   "metadata": {},
   "outputs": [
    {
     "data": {
      "text/plain": [
       "3.0"
      ]
     },
     "execution_count": 337,
     "metadata": {},
     "output_type": "execute_result"
    }
   ],
   "source": [
    "statistics.median(mention_count.values())"
   ]
  },
  {
   "cell_type": "code",
   "execution_count": 338,
   "metadata": {
    "scrolled": true
   },
   "outputs": [
    {
     "data": {
      "text/plain": [
       "68224"
      ]
     },
     "execution_count": 338,
     "metadata": {},
     "output_type": "execute_result"
    }
   ],
   "source": [
    "len(mention_count)"
   ]
  },
  {
   "cell_type": "code",
   "execution_count": 339,
   "metadata": {},
   "outputs": [
    {
     "data": {
      "text/plain": [
       "[('AutoNewspaper', 582301),\n",
       " ('politics', 136901),\n",
       " ('TheNewsFeed', 91784),\n",
       " ('news', 84659),\n",
       " ('TrendingQuickTVnews', 82824),\n",
       " ('COVID_CANADA', 76571),\n",
       " ('worldnews', 68589),\n",
       " ('Conservative', 53943),\n",
       " ('THEHINDUauto', 44130),\n",
       " ('niuz', 43845),\n",
       " ('NoFilterNews', 43262),\n",
       " ('FakeCollegeFootball', 41241),\n",
       " ('nofeenews', 40684),\n",
       " ('TORONTOSTARauto', 39281),\n",
       " ('trendandstyle', 38133),\n",
       " ('CertifiedNews', 38011),\n",
       " ('WrestlingBreakingNews', 37277),\n",
       " ('FOXauto', 36228),\n",
       " ('NewsfeedForWork', 34863),\n",
       " ('Coronavirus', 34076)]"
      ]
     },
     "execution_count": 339,
     "metadata": {},
     "output_type": "execute_result"
    }
   ],
   "source": [
    "Counter(mention_count).most_common(20)"
   ]
  },
  {
   "cell_type": "code",
   "execution_count": 340,
   "metadata": {},
   "outputs": [
    {
     "data": {
      "text/plain": [
       "{'todayilearned': [17, 14.780000000000001, 2038],\n",
       " 'JoeRogan': [1, 0.76, 3],\n",
       " 'knowyourshit': [3, 2.92, 1],\n",
       " 'collapse': [7, 6.280000000000001, 58],\n",
       " 'marginal': [3, 3.0, 0],\n",
       " 'conspiracy': [11, 8.9, 649],\n",
       " 'politics': [121, 107.37999999999998, 227661],\n",
       " 'CPTSD': [1, 1.0, 1],\n",
       " 'VideoEditing': [1, 0.98, 38],\n",
       " 'wallstreetbets': [15, 13.129999999999999, 115],\n",
       " 'hackernews': [8, 5.92, 8],\n",
       " 'patient_hackernews': [8, 8.0, 8],\n",
       " 'unitedkingdom': [2, 1.82, 19],\n",
       " 'Catholicism': [1, 1.0, 2],\n",
       " 'bprogramming': [1, 1.0, 0],\n",
       " 'books': [6, 5.2, 15],\n",
       " 'hackerdigest': [1, 1.0, 0],\n",
       " 'Snorkblot': [2, 2.0, 2],\n",
       " 'UnresolvedMysteries': [18, 17.439999999999998, 1033],\n",
       " 'TrueUnpopularOpinion': [2, 1.3, 32],\n",
       " 'SPACs': [2, 1.8, 152],\n",
       " 'aznidentity': [1, 0.98, 40],\n",
       " 'badgovnofreedom': [34, 34.0, 1],\n",
       " 'cyberpunkgame': [1, 0.4, 3],\n",
       " 'CBC_': [9, 8.84, 1],\n",
       " 'newjersey': [1, 0.8, 25],\n",
       " 'newfoundland': [28, 25.439999999999994, 406],\n",
       " 'Hamilton': [42, 35.79, 950],\n",
       " 'mildlyinteresting': [1, 1.0, 0],\n",
       " 'Oshawa': [1, 0.9, 5],\n",
       " 'RedditTLDR': [5, 4.67, 1],\n",
       " 'Sino': [1, 0.96, 18],\n",
       " 'SorcerersVsSuffering': [1, 0.5, 0],\n",
       " 'China_irl': [1, 0.96, 69],\n",
       " 'worldanarchism': [2, 2.0, 0],\n",
       " 'Socialism_101': [1, 0.86, 10],\n",
       " 'Economics': [3, 2.06, 94],\n",
       " 'europe': [1, 0.87, 1],\n",
       " 'LazyCheapskate': [4, 3.35, 5],\n",
       " 'NoNewNormal': [18, 15.87, 124],\n",
       " 'AskDocs': [1, 1.0, 3],\n",
       " 'LateStageCapitalism': [5, 3.9399999999999995, 11],\n",
       " 'television': [3, 2.01, 61],\n",
       " 'NewDealAmerica': [1, 0.9, 0],\n",
       " 'MorbidReality': [2, 1.59, 26],\n",
       " 'redscarepod': [1, 1.0, 8],\n",
       " 'conspiracytheories': [1, 1.0, 0],\n",
       " 'SubSimulatorGPT2': [2, 1.75, 79],\n",
       " 'Futurology': [3, 2.9299999999999997, 128],\n",
       " 'worldpowers': [1, 1.0, 4],\n",
       " 'neoliberal': [9, 8.57, 78],\n",
       " 'NoStupidQuestions': [1, 0.77, 2],\n",
       " 'serbia': [2, 1.97, 11],\n",
       " 'eddit3yearsago': [1, 1.0, 1],\n",
       " 'stupidpol': [5, 4.390000000000001, 137],\n",
       " 'ontario': [149, 129.40000000000003, 6603],\n",
       " 'Anarchism': [2, 1.92, 3],\n",
       " 'AskEconomics': [1, 0.97, 32],\n",
       " 'ADHD': [1, 1.0, 81],\n",
       " 'btc': [1, 0.33, 2],\n",
       " 'Damnthatsinteresting': [2, 2.0, 0],\n",
       " 'Fantasy': [3, 2.56, 36],\n",
       " 'urbanplanning': [1, 0.87, 2],\n",
       " 'socialism': [1, 0.97, 144],\n",
       " 'steelers': [1, 1.0, 1],\n",
       " 'news': [100, 92.23000000000002, 6447],\n",
       " 'WayOfTheBern': [6, 5.7, 50],\n",
       " 'privacy': [4, 3.78, 1],\n",
       " 'CoronavirusCanada': [50, 35.099999999999994, 176],\n",
       " 'grammar': [1, 0.67, 2],\n",
       " 'legaladviceofftopic': [1, 0.5, 6],\n",
       " 'GenZedong': [1, 0.98, 3],\n",
       " 'iran': [2, 1.35, 0],\n",
       " 'ToolBand': [4, 3.23, 36],\n",
       " 'NarcoFootage': [1, 0.97, 157],\n",
       " 'worldpolitics': [1, 0.38, 0],\n",
       " 'MandelaEffect': [1, 0.61, 46],\n",
       " 'atheism': [4, 3.52, 46],\n",
       " 'Anarcho_Capitalism': [2, 1.4700000000000002, 7],\n",
       " 'inthemorning': [7, 5.140000000000001, 3],\n",
       " 'ColdWarPowers': [1, 1.0, 3],\n",
       " 'interestingasfuck': [3, 1.9, 9],\n",
       " 'islam': [1, 0.86, 20],\n",
       " 'climate': [3, 2.7399999999999998, 2],\n",
       " 'Letterkenny': [1, 0.84, 1],\n",
       " 'TrueAnon': [1, 0.96, 0],\n",
       " 'medicine': [3, 2.87, 269],\n",
       " 'stocks': [1, 0.94, 4404],\n",
       " 'Lovecraft': [1, 0.5, 1],\n",
       " 'LPOTL': [1, 1.0, 0],\n",
       " 'CanadaPublicServants': [6, 5.210000000000001, 107],\n",
       " 'Calgary': [87, 69.50999999999999, 4321],\n",
       " 'horror': [1, 0.62, 0],\n",
       " 'ABoringDystopia': [1, 0.67, 2],\n",
       " 'NovaScotia': [33, 29.269999999999992, 414],\n",
       " 'sports': [3, 2.5, 18],\n",
       " 'tennis': [2, 1.92, 8],\n",
       " 'MatthiasSubmissions': [1, 1.0, 0],\n",
       " 'Destiny': [2, 1.83, 1],\n",
       " 'conservatives': [1, 0.75, 6],\n",
       " 'pregnant': [1, 1.0, 1],\n",
       " 'VaushV': [1, 0.91, 3],\n",
       " 'awfuleverything': [5, 4.84, 0],\n",
       " 'antinatalism': [4, 3.71, 5],\n",
       " 'hockey': [8, 6.24, 69],\n",
       " 'brasilivre': [1, 0.94, 9],\n",
       " 'aviation': [1, 1.0, 0],\n",
       " 'CoronavirusCirclejerk': [1, 0.82, 2],\n",
       " 'space': [4, 2.59, 65],\n",
       " 'cryptogeum': [1, 1.0, 0],\n",
       " 'sustainability': [1, 0.67, 0],\n",
       " 'TZM': [1, 0.78, 5],\n",
       " 'ZeroWaste': [1, 0.56, 2],\n",
       " 'FridaysForFuture': [1, 0.88, 15],\n",
       " 'TrueOffMyChest': [1, 0.6, 0],\n",
       " 'democrats': [4, 3.39, 30],\n",
       " 'science': [3, 1.85, 6],\n",
       " 'Winnipeg': [115, 99.89999999999998, 3724],\n",
       " 'uspolitics': [2, 1.87, 4],\n",
       " 'canada': [532, 420.6200000000006, 26421],\n",
       " 'Music': [1, 0.75, 0],\n",
       " 'UpliftingNews': [17, 15.39, 107],\n",
       " 'byebyejob': [2, 1.99, 7],\n",
       " 'Conservative': [4, 2.9800000000000004, 163],\n",
       " 'worldnews': [153, 130.94, 18318],\n",
       " 'nottheonion': [41, 33.17, 1260],\n",
       " 'ThatsInsane': [1, 1.0, 1],\n",
       " 'Feminism': [3, 2.1500000000000004, 1],\n",
       " 'AntiTrumpAlliance': [3, 2.7800000000000002, 6],\n",
       " 'privacytoolsIO': [1, 0.99, 16],\n",
       " 'pics': [1, 0.72, 3],\n",
       " 'NormMacdonald': [1, 1.0, 0],\n",
       " 'DataHoarder': [1, 0.85, 8],\n",
       " 'childfree': [1, 1.0, 82],\n",
       " 'TargetedEnergyWeapons': [1, 0.92, 1],\n",
       " 'AskALiberal': [3, 2.22, 52],\n",
       " 'YangForPresidentHQ': [1, 0.5, 5],\n",
       " 'CanadianTeachers': [1, 0.83, 1],\n",
       " 'ProtectAndServe': [2, 1.94, 24],\n",
       " 'onguardforthee': [266, 229.17999999999995, 4116],\n",
       " 'NoShitSherlock': [1, 1.0, 0],\n",
       " 'Qult_Headquarters': [1, 0.95, 3],\n",
       " 'The_Mueller': [2, 1.95, 5],\n",
       " 'askTO': [2, 1.36, 40],\n",
       " 'TwoBestFriendsPlay': [1, 0.9, 2],\n",
       " 'PublicFreakout': [1, 1.0, 0],\n",
       " 'alberta': [141, 123.54, 4909],\n",
       " 'CoronavirusDownunder': [21, 17.040000000000003, 573],\n",
       " 'monarchism': [2, 2.0, 7],\n",
       " 'Israel': [1, 1.0, 2],\n",
       " 'Art': [1, 1.0, 1],\n",
       " 'Albertapolitics': [69, 67.01999999999998, 124],\n",
       " 'FSTL': [2, 2.0, 5],\n",
       " 'eddit7yearsago': [3, 2.81, 3],\n",
       " 'inthenews': [2, 1.77, 76],\n",
       " 'bipolar': [1, 0.81, 7],\n",
       " 'ABCDesis': [1, 0.82, 9],\n",
       " 'navy': [1, 0.5, 4],\n",
       " 'vancouver': [95, 71.22999999999999, 3282],\n",
       " 'videos': [3, 1.69, 8],\n",
       " 'NoctilucentNews': [4, 4.0, 0],\n",
       " 'samharris': [1, 1.0, 5],\n",
       " 'CuriousAndFascinating': [1, 1.0, 0],\n",
       " 'SuccessionTV': [1, 1.0, 0],\n",
       " 'JoeBiden': [8, 7.4799999999999995, 43],\n",
       " 'Liberal': [1, 1.0, 0],\n",
       " 'Trumpvirus': [2, 1.81, 9],\n",
       " 'CapitolConsequences': [3, 2.94, 80],\n",
       " 'LockdownSkepticism': [57, 52.92999999999999, 1659],\n",
       " 'Political_Revolution': [1, 0.92, 0],\n",
       " 'ChronicIllness': [3, 2.7800000000000002, 4],\n",
       " 'usanews': [1, 0.91, 2],\n",
       " 'ParlerWatch': [4, 3.71, 8],\n",
       " 'AmericanFascism2020': [2, 1.63, 0],\n",
       " 'cybersecurity': [1, 0.81, 0],\n",
       " 'booklists': [1, 1.0, 0],\n",
       " 'China': [1, 0.75, 1],\n",
       " 'January6': [1, 0.57, 1],\n",
       " 'Seattle': [1, 0.99, 13],\n",
       " 'sciencefiction': [1, 0.73, 2],\n",
       " 'Jazz': [1, 0.29, 0],\n",
       " 'iamatotalpieceofshit': [4, 4.0, 3],\n",
       " 'toronto': [98, 80.80000000000004, 5762],\n",
       " 'MensRights': [1, 0.97, 2],\n",
       " 'eddit8yearsago': [1, 1.0, 1],\n",
       " 'TrueCrimeDiscussion': [1, 0.96, 7],\n",
       " 'neocentrism': [1, 1.0, 3],\n",
       " 'DanLeBatardShow': [1, 1.0, 1],\n",
       " 'medical': [1, 1.0, 0],\n",
       " 'uoguelph': [1, 0.97, 18],\n",
       " 'gardening': [1, 1.0, 1],\n",
       " 'covidlonghaulers': [1, 1.0, 7],\n",
       " 'RepublicanTerrorism': [1, 0.85, 1],\n",
       " 'UofT': [2, 1.58, 2],\n",
       " 'climatechange': [1, 0.85, 1],\n",
       " 'fucktheccp': [3, 2.9699999999999998, 1],\n",
       " 'LoveForLandlords': [1, 1.0, 0],\n",
       " 'nuclear': [1, 0.95, 25],\n",
       " 'ToiletPaperUSA': [1, 0.98, 4],\n",
       " 'Parenting': [1, 0.46, 0],\n",
       " 'LeopardsAteMyFace': [1, 0.99, 30],\n",
       " 'electricvehicles': [1, 1.0, 3],\n",
       " 'AirForce': [1, 0.74, 5],\n",
       " 'washingtondc': [1, 0.27, 0],\n",
       " 'metamtl': [1, 1.0, 1],\n",
       " 'Canadians': [6, 5.470000000000001, 17],\n",
       " 'mcgill': [1, 0.97, 25],\n",
       " 'Quebec': [19, 12.28, 364],\n",
       " 'Capitalism': [1, 0.9, 5],\n",
       " 'funny': [1, 0.63, 3],\n",
       " 'EnoughTrumpSpam': [1, 0.9, 0],\n",
       " 'smallbusiness': [1, 0.5, 8],\n",
       " 'biology': [2, 1.72, 0],\n",
       " 'Kossacks_for_Sanders': [1, 1.0, 2],\n",
       " 'Guelph': [2, 1.92, 37],\n",
       " 'ImmigrationCanada': [1, 1.0, 2],\n",
       " 'antiwork': [4, 3.95, 10],\n",
       " 'LockdownCriticalLeft': [15, 13.5, 101],\n",
       " 'MURICA': [1, 1.0, 0],\n",
       " 'UFOs': [1, 0.8, 5],\n",
       " 'AnythingGoesNews': [1, 0.5, 2],\n",
       " 'malaysia': [1, 0.96, 15],\n",
       " 'union': [1, 1.0, 0],\n",
       " 'China_Flu': [1, 0.57, 2],\n",
       " 'KingkillerChronicle': [3, 2.9, 6],\n",
       " 'CannedSardines': [1, 1.0, 1],\n",
       " 'sixdigits': [1, 0.67, 0],\n",
       " 'HydroHomies': [1, 0.81, 1],\n",
       " 'SubSimulatorGPT2Meta': [1, 0.99, 19],\n",
       " 'covidskepticscanada': [18, 17.310000000000002, 17],\n",
       " 'SaltyArmy': [1, 1.0, 0],\n",
       " 'discgolf': [1, 0.92, 2],\n",
       " 'asianamerican': [1, 1.0, 0],\n",
       " 'ChronicPain': [2, 1.93, 16],\n",
       " 'sydney': [1, 1.0, 2],\n",
       " 'Military': [3, 2.24, 10],\n",
       " 'technology': [9, 7.18, 36],\n",
       " 'business': [1, 0.97, 60],\n",
       " 'realtech': [5, 4.14, 6],\n",
       " 'OntarioCanada': [33, 30.349999999999998, 622],\n",
       " 'MtF': [1, 0.87, 1],\n",
       " 'uwaterloo': [5, 4.85, 26],\n",
       " 'instantkarma': [1, 1.0, 1],\n",
       " 'JusticeServed': [1, 1.0, 1],\n",
       " 'BigTech': [2, 1.9, 0],\n",
       " 'environment': [11, 9.959999999999999, 420],\n",
       " 'VoteDEM': [1, 0.89, 1],\n",
       " 'YourWeeklyBJ': [4, 4.0, 0],\n",
       " 'IASIP': [1, 1.0, 0],\n",
       " 'PERU': [1, 1.0, 0],\n",
       " 'Filmmakers': [1, 0.68, 6],\n",
       " 'FuckNestle': [1, 0.98, 0],\n",
       " 'shrooms': [1, 1.0, 0],\n",
       " 'florida': [3, 2.86, 17],\n",
       " 'Antipsychiatry': [2, 1.9100000000000001, 54],\n",
       " 'britishcolumbia': [60, 50.33, 1487],\n",
       " 'pakistan': [1, 1.0, 1],\n",
       " 'COVID19': [2, 1.38, 2],\n",
       " 'Coronavirus': [68, 60.09, 1113],\n",
       " 'Cyberpunk': [1, 0.65, 3],\n",
       " 'StockMarket': [1, 0.82, 5],\n",
       " 'hapas': [1, 0.88, 1],\n",
       " 'FeMRADebates': [2, 1.84, 92],\n",
       " 'TrumpNicknames': [1, 0.92, 1],\n",
       " 'canucks': [1, 0.92, 22],\n",
       " 'COMPLETEANARCHY': [1, 0.78, 2],\n",
       " 'thebulwark': [2, 2.0, 0],\n",
       " 'AntifascistsofReddit': [1, 0.67, 1],\n",
       " 'Wallstreetbetsnew': [1, 0.93, 7],\n",
       " 'GreenPartyOfCanada': [6, 5.0, 3],\n",
       " 'thebachelor': [7, 7.0, 6],\n",
       " 'wallstreetbets2': [1, 1.0, 2],\n",
       " 'Firefighting': [1, 0.83, 4],\n",
       " 'travel': [2, 2.0, 0],\n",
       " 'Cascadia': [2, 1.9, 9],\n",
       " 'offbeat': [7, 5.859999999999999, 58],\n",
       " 'PersonalFinanceCanada': [4, 3.3600000000000003, 168],\n",
       " 'CanadianInvestor': [6, 4.02, 632],\n",
       " 'NativeAmerican': [1, 0.95, 0],\n",
       " 'WallStreetbetsELITE': [3, 3.0, 2],\n",
       " 'Dinosaurs': [1, 0.92, 7],\n",
       " 'Canadapennystocks': [1, 0.88, 26],\n",
       " '2020PoliceBrutality': [3, 2.1799999999999997, 6],\n",
       " 'islam_ahmadiyya': [1, 0.96, 45],\n",
       " 'GooglePixel': [1, 0.84, 21],\n",
       " 'malefashionadvice': [1, 0.93, 33],\n",
       " 'saskatoon': [22, 20.159999999999997, 778],\n",
       " 'TheFightThatMatters': [1, 1.0, 1],\n",
       " 'rugbyunion': [1, 0.88, 0],\n",
       " 'PussyPass': [1, 0.88, 4],\n",
       " 'apple': [1, 0.78, 30],\n",
       " 'autotldr': [54, 49.650000000000006, 0],\n",
       " 'CoronavirusUK': [1, 1.0, 0],\n",
       " 'Equestrian': [1, 1.0, 9],\n",
       " 'survivor': [1, 1.0, 4],\n",
       " 'thelongdark': [1, 1.0, 0],\n",
       " 'canadaguns': [1, 1.0, 2],\n",
       " 'ottawa': [513, 493.95000000000016, 3466],\n",
       " 'starbucks': [1, 0.5, 1],\n",
       " 'Bellingham': [1, 1.0, 23],\n",
       " 'StJohnsNL': [2, 1.8, 1],\n",
       " 'Edmonton': [57, 50.76, 1647],\n",
       " 'abbotsford': [1, 1.0, 10],\n",
       " 'waterloo': [11, 9.57, 206],\n",
       " 'OntarioUniversities': [1, 0.86, 1],\n",
       " 'windsorontario': [9, 7.480000000000001, 114],\n",
       " 'acting': [2, 2.0, 16],\n",
       " 'fredericton': [23, 19.94, 117],\n",
       " 'MadeMeSmile': [5, 4.68, 0],\n",
       " 'NHLHUT': [2, 1.85, 57],\n",
       " 'SaintJohnNB': [19, 16.92, 61],\n",
       " 'moncton': [24, 21.700000000000003, 76],\n",
       " 'TheOCS': [3, 2.08, 31],\n",
       " 'PrePharmacy': [2, 1.34, 6],\n",
       " 'ThunderBay': [10, 8.95, 186],\n",
       " 'hiking': [1, 0.78, 0],\n",
       " 'BabyBumps': [2, 1.66, 122],\n",
       " 'halifax': [96, 78.99999999999997, 2155],\n",
       " 'regina': [16, 13.929999999999998, 668],\n",
       " 'Survival': [1, 0.95, 2],\n",
       " 'doordash': [1, 1.0, 12],\n",
       " 'CanadaPS5': [1, 0.89, 22],\n",
       " 'montreal': [22, 20.619999999999997, 714],\n",
       " 'Questrade': [2, 1.76, 14],\n",
       " 'KingstonOntario': [3, 2.79, 83],\n",
       " 'CanadianMOMs': [1, 0.83, 70],\n",
       " 'polyamory': [2, 1.69, 18],\n",
       " 'skiing': [2, 1.9300000000000002, 7],\n",
       " 'ems': [2, 1.92, 21],\n",
       " 'InteriorDesign': [1, 1.0, 1],\n",
       " 'Wellthatsucks': [1, 1.0, 1],\n",
       " 'AdorableOnlyfans': [1, 1.0, 1],\n",
       " 'Scams': [1, 1.0, 1],\n",
       " 'NonBinary': [1, 1.0, 1],\n",
       " 'BasicIncome': [1, 0.67, 4],\n",
       " 'Costco': [1, 0.96, 58],\n",
       " 'emergencymedicine': [1, 1.0, 7],\n",
       " 'timecrisis': [1, 1.0, 0],\n",
       " 'BanPitBulls': [6, 5.779999999999999, 159],\n",
       " 'farming': [1, 0.95, 0],\n",
       " 'Dogfree': [1, 0.97, 2],\n",
       " 'Android': [1, 0.75, 97],\n",
       " 'bigdickproblems': [1, 1.0, 1],\n",
       " 'fantasyhockey': [2, 2.0, 8],\n",
       " 'Torontology': [4, 2.54, 16],\n",
       " 'uAlberta': [4, 3.06, 76],\n",
       " 'Baystreetbets': [2, 1.63, 3],\n",
       " 'LinusTechTips': [2, 1.5, 0],\n",
       " 'NoFilterNews': [66, 65.5, 0],\n",
       " 'COVID': [3, 2.3200000000000003, 1],\n",
       " 'CanadaPolitics': [279, 238.27999999999992, 8391],\n",
       " 'japan': [4, 3.77, 7],\n",
       " 'SchittsCreek': [2, 2.0, 0],\n",
       " 'police': [2, 2.0, 1],\n",
       " 'manchester': [1, 0.5, 2],\n",
       " 'Startup_Ideas': [1, 1.0, 14],\n",
       " 'Animals': [1, 1.0, 0],\n",
       " 'knitting': [1, 1.0, 0],\n",
       " 'indieheads': [1, 0.94, 10],\n",
       " 'Brampton': [5, 4.37, 44],\n",
       " 'Georgia': [1, 0.9, 1],\n",
       " 'OnTheBlock': [1, 0.72, 5],\n",
       " 'CysticFibrosis': [1, 0.98, 6],\n",
       " 'Rowing': [1, 1.0, 3],\n",
       " 'VictoriaBC': [19, 17.189999999999998, 282],\n",
       " 'Toxic_Femininity': [1, 0.96, 18],\n",
       " 'CallHerDaddy': [1, 0.29, 4],\n",
       " 'AmericanHorrorStory': [1, 0.9, 2],\n",
       " 'canadients': [3, 2.53, 70],\n",
       " 'CovidCanada': [1, 0.83, 0],\n",
       " 'CovIdiots': [3, 2.71, 9],\n",
       " 'Detroit': [1, 0.95, 6],\n",
       " 'McMaster': [1, 0.99, 2],\n",
       " 'vancouverhiking': [2, 1.97, 11],\n",
       " 'NewWest': [8, 7.68, 88],\n",
       " 'simonfraser': [2, 1.85, 0],\n",
       " 'MensLib': [2, 1.97, 204],\n",
       " 'geegees': [2, 0.76, 18],\n",
       " 'aww': [3, 3.0, 3],\n",
       " 'trailerparkboys': [1, 0.67, 1],\n",
       " 'Hookit': [1, 0.95, 1],\n",
       " 'community': [1, 1.0, 0],\n",
       " 'MetisMichif': [5, 4.56, 2],\n",
       " 'ShitLiberalsSay': [1, 1.0, 1],\n",
       " 'insects': [1, 1.0, 0],\n",
       " 'ChurchOfCOVID': [1, 1.0, 4],\n",
       " 'SocialJusticeInAction': [3, 2.55, 59],\n",
       " 'COVID19_support': [1, 0.62, 0],\n",
       " 'scleroderma': [1, 1.0, 0],\n",
       " 'ThriftStoreHauls': [1, 1.0, 1],\n",
       " 'theworldnews': [15, 11.4, 0],\n",
       " 'daverubin': [1, 0.99, 0],\n",
       " 'facepalm': [1, 0.9, 6],\n",
       " 'TheAbditory': [1, 1.0, 0],\n",
       " 'CitizensClimateLobby': [1, 0.82, 3],\n",
       " 'doggos': [1, 1.0, 0],\n",
       " 'RedDeer': [3, 2.76, 54],\n",
       " 'Lethbridge': [1, 0.67, 1],\n",
       " 'SurreyBC': [6, 5.640000000000001, 32],\n",
       " 'CanadaCoronavirus': [143, 126.14000000000007, 1818],\n",
       " 'XSomalian': [1, 0.91, 5],\n",
       " 'UBC': [7, 5.18, 96],\n",
       " 'GamerGhazi': [1, 0.92, 0],\n",
       " 'londonontario': [41, 34.69, 875],\n",
       " 'sqdc': [1, 0.93, 62],\n",
       " 'mildlyinfuriating': [1, 1.0, 3],\n",
       " 'outerworlds': [1, 0.95, 40],\n",
       " 'uwo': [1, 0.95, 10],\n",
       " 'murdochmysteries': [1, 1.0, 8],\n",
       " 'Mindfulness': [1, 0.86, 0],\n",
       " 'Markham': [1, 0.93, 32],\n",
       " 'PoliticalVideos': [3, 3.0, 0],\n",
       " 'Sudbury': [5, 4.470000000000001, 76],\n",
       " 'TorontoRealEstate': [1, 0.89, 73],\n",
       " 'economy': [1, 0.92, 6],\n",
       " 'japancirclejerk': [2, 0.54, 5],\n",
       " 'YMS': [1, 1.0, 0],\n",
       " 'ndp': [27, 25.63, 89],\n",
       " 'Tokyo': [1, 1.0, 0],\n",
       " 'BernieSanders': [1, 1.0, 1],\n",
       " 'mississauga': [4, 3.8099999999999996, 13],\n",
       " 'Caribbean': [1, 1.0, 0],\n",
       " 'ADKFunPolice': [1, 0.93, 11],\n",
       " 'CFL': [2, 1.97, 8],\n",
       " 'weedstocks': [1, 0.99, 8],\n",
       " 'SneakersCanada': [1, 1.0, 0],\n",
       " 'HelloInternet': [1, 0.97, 8],\n",
       " 'Jeopardy': [3, 2.71, 10],\n",
       " 'PEI': [16, 14.91, 216],\n",
       " 'FoodToronto': [2, 1.63, 5],\n",
       " 'Cowichan': [1, 0.94, 3],\n",
       " 'NWSL': [1, 1.0, 0],\n",
       " 'lansing': [1, 0.86, 8],\n",
       " 'railroading': [1, 0.86, 3],\n",
       " 'TransSpace': [1, 1.0, 1],\n",
       " 'interiordecorating': [1, 1.0, 0],\n",
       " 'Bad_Cop_No_Donut': [10, 9.87, 16],\n",
       " 'LoomKnitting': [1, 1.0, 0],\n",
       " 'montreal4all': [4, 3.3800000000000003, 15],\n",
       " 'kelowna': [2, 1.9100000000000001, 81],\n",
       " 'uvic': [2, 1.37, 8],\n",
       " 'DarkFuturology': [1, 0.97, 35],\n",
       " 'stcatharinesON': [2, 1.3599999999999999, 20],\n",
       " 'Zappa': [1, 1.0, 6],\n",
       " 'ArtHistory': [1, 1.0, 1],\n",
       " 'UofAB': [1, 0.5, 0],\n",
       " 'ShopCanada': [2, 2.0, 4],\n",
       " 'winnipegjets': [2, 1.9, 1007],\n",
       " 'pussypassdenied': [1, 0.96, 23],\n",
       " 'TimHortons': [3, 2.59, 5],\n",
       " 'medicinehat': [2, 1.94, 10],\n",
       " 'foreignpolicy': [1, 0.7, 1],\n",
       " 'EdmontonMarijuana': [1, 1.0, 0],\n",
       " 'Journalism': [5, 4.8100000000000005, 0],\n",
       " 'Epstein': [2, 1.89, 5],\n",
       " 'Naturewasmetal': [1, 0.99, 3],\n",
       " 'NatureIsFuckingLit': [1, 1.0, 0],\n",
       " 'ACAB': [1, 0.75, 0],\n",
       " 'SelfAwarewolves': [1, 0.85, 4],\n",
       " 'DemocratsforDiversity': [1, 1.0, 1],\n",
       " 'nhl': [4, 3.23, 30],\n",
       " 'MAGAs': [1, 0.95, 1],\n",
       " 'CanadianPolitics': [1, 0.9, 11],\n",
       " 'restaurant': [1, 1.0, 1],\n",
       " 'Archaeology': [1, 0.75, 0],\n",
       " 'dogecoinbeg': [2, 1.34, 0],\n",
       " 'TranslationStudies': [1, 0.5, 0],\n",
       " 'goodnews': [1, 0.9, 1],\n",
       " 'Missing411': [1, 0.84, 148],\n",
       " 'CanadianForces': [16, 15.610000000000001, 247],\n",
       " 'IntelligenceNews': [4, 3.69, 4],\n",
       " 'EcoNewsNetwork': [3, 3.0, 1],\n",
       " 'Manitoba': [12, 10.469999999999999, 34],\n",
       " 'ScienceUncensored': [1, 0.67, 0],\n",
       " 'ValueInvesting': [2, 2.0, 12],\n",
       " 'durham': [1, 0.9, 4],\n",
       " 'mayahiga': [1, 0.96, 1],\n",
       " 'canadacordcutters': [1, 0.97, 13],\n",
       " 'BiologicalSeas': [1, 0.92, 0],\n",
       " 'saskatchewan': [67, 55.96000000000001, 1348],\n",
       " 'birdpics': [1, 1.0, 0],\n",
       " 'TacoZone': [1, 1.0, 0],\n",
       " 'nCoV': [4, 3.62, 3],\n",
       " 'energy': [1, 0.99, 11],\n",
       " 'mealtimevideos': [1, 0.94, 6],\n",
       " 'Puscifer': [2, 1.96, 12],\n",
       " 'DAVIDsTEA': [3, 2.73, 72],\n",
       " 'CanadianBroadband': [1, 1.0, 0],\n",
       " 'HorriblyDepressing': [1, 1.0, 0],\n",
       " 'LGG8X': [1, 0.92, 11],\n",
       " 'altnewz': [1, 0.91, 1],\n",
       " 'political': [1, 1.0, 0],\n",
       " 'BuyCanadian': [4, 3.8600000000000003, 62],\n",
       " 'Libernadian': [2, 1.76, 15],\n",
       " 'Vaccine': [1, 0.83, 1],\n",
       " 'bakeoff': [2, 1.98, 42],\n",
       " 'Gatineau': [4, 2.77, 70],\n",
       " 'GrandePrairie': [2, 1.87, 12],\n",
       " 'transplant': [1, 0.98, 3],\n",
       " 'Flights': [2, 1.4, 8],\n",
       " 'casualknitting': [2, 1.5499999999999998, 0],\n",
       " 'VACCINES': [1, 0.88, 0],\n",
       " 'IndianCountry': [16, 15.5, 24],\n",
       " 'Peterborough': [1, 0.87, 3],\n",
       " 'agedlikemilk': [2, 1.67, 1],\n",
       " 'UtahMonolith': [1, 0.92, 1],\n",
       " 'FrancaisCanadien': [1, 1.0, 1],\n",
       " 'AntiVaxxers': [2, 2.0, 10],\n",
       " 'canadaleft': [12, 11.280000000000001, 35],\n",
       " 'NewsWithoutNewsMedia': [30, 28.64, 1],\n",
       " 'PacificNorthwest': [1, 1.0, 4],\n",
       " 'BachelorNation': [4, 3.31, 24],\n",
       " 'VancouverIsland': [9, 8.4, 141],\n",
       " 'burnaby': [1, 0.97, 3],\n",
       " 'Inuit': [1, 1.0, 1],\n",
       " 'MarsSociety': [1, 1.0, 0],\n",
       " 'LockdownHypocrites': [5, 4.92, 1],\n",
       " 'QuebecLibre': [1, 0.75, 1],\n",
       " 'Whistler': [2, 1.9, 3],\n",
       " 'gameshow': [1, 1.0, 0],\n",
       " 'forestry': [1, 0.75, 8],\n",
       " 'prisons': [18, 15.69, 0],\n",
       " 'GreenParty': [2, 1.77, 4],\n",
       " 'CanadaSoccer': [4, 3.4399999999999995, 0],\n",
       " 'olympics': [6, 5.62, 89],\n",
       " 'toppostoftheday': [2, 1.96, 4],\n",
       " 'Curling': [1, 0.97, 4],\n",
       " 'Dalhousie': [1, 0.93, 11],\n",
       " 'guillainbarre': [1, 0.9, 9],\n",
       " 'WomensSoccer': [3, 3.0, 4],\n",
       " 'Green': [1, 0.9, 0],\n",
       " 'NewsOfTheStupid': [2, 1.88, 0],\n",
       " 'AnarchistGenerationZ': [1, 1.0, 0],\n",
       " 'peopleofwalmart': [1, 0.95, 0],\n",
       " '18_20': [1, 1.0, 0],\n",
       " 'Coronavirus_BC': [44, 41.620000000000005, 56],\n",
       " 'imdbvg': [1, 0.8, 21],\n",
       " 'MLS': [1, 0.8, 4],\n",
       " 'orcas': [1, 1.0, 1],\n",
       " 'tvPlus': [1, 0.92, 1],\n",
       " 'brantford': [2, 1.97, 56],\n",
       " 'PoliticalVideo': [4, 3.76, 6],\n",
       " 'CanadianPL': [5, 4.47, 20],\n",
       " 'BehavingBadly': [20, 20.0, 0],\n",
       " 'niagara': [3, 2.61, 32],\n",
       " 'NoRulesCalgary': [5, 3.13, 82],\n",
       " 'newbrunswickcanada': [67, 57.28999999999999, 1062],\n",
       " 'trashy': [2, 1.94, 3],\n",
       " 'Bru_Luccas': [1, 0.33, 7],\n",
       " 'OttawaSports': [1, 1.0, 0],\n",
       " 'Ontariofood': [1, 1.0, 0],\n",
       " 'CastIronBaking': [1, 0.9, 1],\n",
       " 'radicalmentalhealth': [2, 1.68, 4],\n",
       " 'stalbert': [1, 1.0, 0],\n",
       " 'alpinism': [1, 0.92, 2],\n",
       " 'Torontoevents': [1, 0.83, 2],\n",
       " 'Yukon': [5, 4.55, 4],\n",
       " 'IslandHikers': [1, 0.97, 3],\n",
       " 'domesticgunviolence': [2, 1.25, 0],\n",
       " 'Metric': [3, 2.84, 19],\n",
       " 'WhatWeDointheShadows': [1, 0.96, 10],\n",
       " 'CoronaVirusMontreal': [11, 9.699999999999998, 64],\n",
       " 'fandomnatural': [1, 1.0, 3],\n",
       " 'copaganda': [1, 1.0, 0],\n",
       " 'boogaloos': [1, 0.67, 1],\n",
       " 'KimsConvenience': [7, 6.79, 212],\n",
       " 'AmericaBad': [1, 0.88, 2],\n",
       " 'algonquinpark': [2, 1.92, 46],\n",
       " 'bestcasinoscanada': [1, 0.67, 0],\n",
       " 'SwordandSorcery': [1, 1.0, 3],\n",
       " 'askfuneraldirectors': [1, 0.94, 8],\n",
       " 'food': [1, 1.0, 0],\n",
       " 'DeFranco': [1, 1.0, 1],\n",
       " 'Airdrie': [1, 0.91, 8],\n",
       " 'PEIpoliticalgroup': [242, 240.42999999999998, 8],\n",
       " 'Sikhpolitics': [1, 1.0, 1],\n",
       " 'ProtectOurForests': [2, 2.0, 0],\n",
       " 'Hatewhenthathappens': [1, 0.95, 0],\n",
       " 'nunavut': [8, 7.74, 2],\n",
       " 'PoliticalCoverage': [1, 1.0, 8],\n",
       " 'CoronaVirusInfo': [1, 1.0, 0],\n",
       " 'MachineThatMakesMoney': [1, 1.0, 0],\n",
       " 'Maxcactus_TrailGuide': [1, 1.0, 0],\n",
       " 'bestofthefray': [1, 0.84, 7],\n",
       " 'USNEWS': [1, 0.86, 0],\n",
       " 'righttorepair': [1, 0.94, 2],\n",
       " 'princegeorge': [1, 1.0, 2],\n",
       " 'CanadianTV': [1, 0.81, 0],\n",
       " 'canadaland': [1, 0.83, 0],\n",
       " 'SherwoodPark': [1, 0.78, 2],\n",
       " 'poshmarkcanada': [1, 1.0, 2],\n",
       " 'DailyTechNewsShow': [1, 0.89, 2],\n",
       " 'USA_StratCom': [1, 1.0, 1],\n",
       " 'frogpants': [1, 1.0, 0],\n",
       " 'AncientAliens': [1, 0.95, 1],\n",
       " 'Vanier': [1, 1.0, 0],\n",
       " 'fortmac': [1, 0.96, 7],\n",
       " 'TimHorrortons': [1, 1.0, 0],\n",
       " 'SLINA': [1, 0.5, 5],\n",
       " 'FortMcMurray': [1, 0.99, 1],\n",
       " 'womenshockey': [2, 1.75, 3],\n",
       " 'canadanews': [4, 3.82, 31],\n",
       " 'nwhl': [1, 0.95, 0],\n",
       " 'Government_is_lame': [1, 1.0, 0],\n",
       " 'verdun': [1, 0.75, 1],\n",
       " 'TheNativeDissident': [14, 14.0, 14],\n",
       " 'northernontario': [7, 6.81, 13],\n",
       " 'FirstNationsCanada': [32, 31.259999999999994, 17],\n",
       " 'chathamkent': [1, 0.81, 0],\n",
       " 'transgender': [2, 1.99, 5],\n",
       " 'OntarioPolitics': [3, 2.84, 10],\n",
       " 'calgarypolice': [1, 1.0, 1],\n",
       " 'WorldNewsHeadlines': [1, 1.0, 0],\n",
       " 'MetisNation': [1, 1.0, 1],\n",
       " 'crowdfunders': [1, 1.0, 0],\n",
       " 'NWT': [3, 2.75, 3],\n",
       " 'P_C': [20, 19.330000000000002, 18],\n",
       " 'oil': [1, 0.83, 30],\n",
       " 'EverythingScience': [1, 0.96, 3],\n",
       " 'CannadaRetail': [1, 1.0, 0],\n",
       " 'ccg_gcc': [1, 1.0, 1],\n",
       " 'happyandhealthy': [1, 0.97, 1],\n",
       " 'CanadianConservative': [53, 41.62999999999999, 224],\n",
       " 'NewWestEVs': [1, 1.0, 0],\n",
       " 'Trumpet_of_Discord': [1, 1.0, 0],\n",
       " 'nouseforatitle': [1, 1.0, 0],\n",
       " 'pwned': [1, 0.97, 1],\n",
       " 'localdelivery': [3, 3.0, 0],\n",
       " 'solarenergycanada': [2, 1.8599999999999999, 2],\n",
       " 'CITILOP': [1, 1.0, 0],\n",
       " 'MetaAlberta': [6, 4.96, 36],\n",
       " 'POTUSWatch': [1, 0.94, 9],\n",
       " 'Chonkers': [1, 0.81, 3],\n",
       " 'censoredcanada': [3, 3.0, 5],\n",
       " 'Moronavirus': [1, 0.99, 13],\n",
       " 'RemoveMyPhone': [1, 1.0, 0],\n",
       " 'dominionofcanada': [12, 10.23, 15],\n",
       " 'AmalaNetwork': [1, 0.91, 0],\n",
       " 'dawsoncreek': [1, 0.9, 0],\n",
       " 'methanecrisis': [1, 1.0, 0],\n",
       " 'KrakenRobotics': [1, 0.92, 2],\n",
       " 'Otters': [1, 0.99, 2],\n",
       " 'traitorperpwalk': [2, 1.99, 1],\n",
       " 'ImanVellani': [1, 1.0, 2],\n",
       " 'CanadaToday': [22, 22.0, 0],\n",
       " 'ALEXASMORGANNN': [1, 1.0, 0],\n",
       " 'HumanTrafficking': [8, 7.88, 1],\n",
       " 'AlienFiles': [1, 1.0, 0],\n",
       " 'technews': [1, 0.95, 5],\n",
       " 'WhiteRock': [2, 1.82, 2],\n",
       " 'UnbiasedCanada': [1, 0.86, 1],\n",
       " 'bad_dgu': [3, 1.75, 0],\n",
       " 'News_Construction': [8, 8.0, 0],\n",
       " 'PopCulturePeen': [1, 0.9, 1],\n",
       " 'WomenInNews': [5, 4.92, 0],\n",
       " 'dumbass': [1, 1.0, 0],\n",
       " 'worldevents': [2, 1.85, 45],\n",
       " 'PupliftingNews': [2, 1.96, 7],\n",
       " 'TeaExcel': [1, 1.0, 2],\n",
       " 'CCIV': [1, 0.94, 5],\n",
       " 'ThatVeganTeacherisbad': [1, 1.0, 5],\n",
       " 'ottawaplants': [1, 1.0, 1],\n",
       " 'steinbach': [1, 0.83, 1],\n",
       " 'AsOneDoes': [1, 0.96, 0],\n",
       " 'xxfitnessjournal': [1, 1.0, 0],\n",
       " 'xxfitnessmotivation': [1, 0.69, 2],\n",
       " 'xxfitnesscirclejerk': [1, 0.5, 0],\n",
       " 'Astuff': [1, 1.0, 0],\n",
       " 'realmontreal': [2, 2.0, 5],\n",
       " 'anime_titties': [7, 5.01, 33],\n",
       " 'CoronavirusAB': [2, 1.6800000000000002, 4],\n",
       " 'CanadaCOVID19': [1, 1.0, 0],\n",
       " 'GlobalNews': [2, 1.3900000000000001, 0],\n",
       " 'RuralNewsNetwork': [5, 5.0, 0],\n",
       " 'CoronavirusON': [7, 7.0, 0],\n",
       " 'InternetAccess': [1, 1.0, 0],\n",
       " 'CanadaBusiness': [64, 64.0, 64],\n",
       " 'climatejustice': [1, 0.86, 0],\n",
       " 'BellevilleOntario': [2, 1.2, 10],\n",
       " 'montrealmusic': [1, 1.0, 0],\n",
       " 'edmundston': [1, 0.5, 0],\n",
       " 'TrumpCivilWar': [1, 0.5, 0],\n",
       " 'NLPolitics': [43, 42.370000000000005, 6],\n",
       " 'climatedisalarm': [1, 0.66, 0],\n",
       " 'tofino': [1, 0.95, 0],\n",
       " 'RonaldReagan': [1, 0.81, 0],\n",
       " 'vancouvercanada': [2, 2.0, 0],\n",
       " 'Xinjiang': [1, 0.91, 0],\n",
       " 'PrinceRupert': [1, 1.0, 0],\n",
       " 'Canada_Politics': [40, 37.019999999999996, 10],\n",
       " 'Canadian_News': [13, 12.48, 3],\n",
       " 'WoodstockNB': [2, 1.33, 0],\n",
       " 'Covid19Origin': [1, 1.0, 1],\n",
       " 'GoodNewsNetwork': [1, 1.0, 0],\n",
       " 'COVID_CANADA': [1972, 1959.3200000000004, 23],\n",
       " 'FawningLiberalMedia': [3, 3.0, 1],\n",
       " 'MalcolmGladwell': [1, 1.0, 0],\n",
       " 'whatsreallygoinon': [1, 0.67, 0],\n",
       " 'WHHR7': [1, 1.0, 0],\n",
       " 'LGBTQnews': [1, 0.91, 0],\n",
       " 'CanadaRugby': [1, 1.0, 0],\n",
       " 'LockdownSkepticismCAN': [6, 5.430000000000001, 4],\n",
       " 'Stockhouse': [2, 1.75, 0],\n",
       " 'TrueCrimeGenre': [2, 2.0, 1],\n",
       " 'geopolitics2': [1, 0.75, 0],\n",
       " 'NovaScotiaPolitics': [27, 25.380000000000003, 12],\n",
       " 'canadaprivacy': [1, 1.0, 0],\n",
       " 'CoronaVirus_2019_nCoV': [2, 1.54, 0],\n",
       " 'ManitobaPolitics': [23, 20.919999999999998, 32],\n",
       " 'NewNormal': [1, 1.0, 0],\n",
       " 'CanadianFilm': [2, 2.0, 0],\n",
       " 'tlingit': [1, 1.0, 0],\n",
       " 'CoVaxSkeptical': [1, 0.81, 0],\n",
       " 'nakd': [1, 0.73, 0],\n",
       " 'SpruceGrove': [1, 0.75, 1],\n",
       " 'BCpolitics': [36, 32.91, 95],\n",
       " 'WallstreetStonkLottry': [2, 2.0, 0],\n",
       " 'News_Retail': [9, 9.0, 0],\n",
       " 'BoomerTears': [1, 0.99, 26],\n",
       " 'StudentSkeptics': [1, 1.0, 0],\n",
       " 'InvestingRetards': [1, 1.0, 0],\n",
       " 'maskfreakouts': [1, 1.0, 0],\n",
       " 'LGBTnews': [2, 1.67, 0],\n",
       " 'HeroesUnited': [1, 1.0, 0],\n",
       " 'AnythingOntario': [447, 439.68000000000035, 6],\n",
       " 'NoDAPL': [1, 1.0, 4],\n",
       " 'civocracy': [7, 7.0, 0],\n",
       " 'pooptimevideos': [1, 1.0, 0],\n",
       " 'News_Walmart': [1, 1.0, 0],\n",
       " 'DamnInteresting': [5, 5.0, 1],\n",
       " 'estevan': [2, 1.81, 1],\n",
       " 'wheresthebeef': [1, 1.0, 0],\n",
       " 'China_War': [1, 1.0, 0],\n",
       " 'UglyHumanity': [1, 0.66, 1],\n",
       " 'HotZone': [2, 2.0, 0],\n",
       " 'POCEntertainment': [2, 2.0, 0],\n",
       " 'neutralnews': [1, 0.84, 2],\n",
       " 'ActualidadMundial': [2, 2.0, 0],\n",
       " 'karmawhoresrus': [1, 1.0, 0],\n",
       " 'BadCopNoTimbit': [5, 4.87, 2],\n",
       " 'HIVandAIDS': [1, 1.0, 0],\n",
       " 'SaskatchewanPolitics': [34, 31.98, 236],\n",
       " 'VancouverNews': [2, 2.0, 0],\n",
       " 'Bathurst': [1, 0.75, 0],\n",
       " 'Elon_musketeers': [1, 1.0, 0],\n",
       " 'NewsfeedForWork': [41, 40.33, 1],\n",
       " 'News_HealthBiotech': [7, 7.0, 2],\n",
       " 'gorecrowsociety': [1, 1.0, 0],\n",
       " 'EvolveSustain': [7, 7.0, 0],\n",
       " 'News_Food': [24, 24.0, 1],\n",
       " 'JustBadNews': [5, 4.5, 5],\n",
       " 'Trump_Idiocy': [2, 1.67, 0],\n",
       " 'News_Entertainment': [1, 1.0, 0],\n",
       " 'vanhousing': [3, 2.39, 1],\n",
       " 'News_Education': [24, 23.67, 0],\n",
       " 'electionReformNews': [2, 2.0, 0],\n",
       " 'News_Transportation': [12, 12.0, 0],\n",
       " 'HumanTraffickingNews': [2, 2.0, 0],\n",
       " 'News_RealEstate': [21, 20.67, 1],\n",
       " 'News_facebook': [1, 1.0, 0],\n",
       " 'News_OilAndEnergy': [18, 16.0, 6],\n",
       " 'politics2021': [1, 0.66, 0],\n",
       " 'Wuhan_Virus': [1, 1.0, 1],\n",
       " 'CoV2Canada': [1, 1.0, 0],\n",
       " 'greenpartybc': [2, 1.7, 0],\n",
       " 'USUnited': [1, 1.0, 1],\n",
       " 'News_Utility': [22, 22.0, 1],\n",
       " 'Positive_News': [2, 1.8900000000000001, 1],\n",
       " 'InMemoriamCOVID': [1, 0.93, 0],\n",
       " 'larryking': [1, 1.0, 0],\n",
       " 'notthebeaverton': [7, 6.91, 41],\n",
       " 'CoronavirusToronto': [1, 1.0, 0],\n",
       " 'CoronavirusOntario': [1, 0.71, 1],\n",
       " 'TrumpLegalTalk': [1, 1.0, 0],\n",
       " 'CoronavirusPandemic': [2, 1.81, 1],\n",
       " 'CoronaVirusWorldNews': [1, 1.0, 0],\n",
       " 'Toadbook': [2, 1.67, 0],\n",
       " 'Quebec_Politics': [4, 3.76, 0],\n",
       " 'ClimateCrisisCanada': [8, 7.42, 1],\n",
       " 'PEIpolitics': [23, 23.0, 2],\n",
       " 'CBC2': [502, 496.41999999999996, 1],\n",
       " 'OntarioNews': [151, 148.34, 10],\n",
       " 'YarnArt': [1, 1.0, 0],\n",
       " 'CanadianMusicNews': [8, 8.0, 0],\n",
       " 'nbpolitics': [25, 23.88, 74],\n",
       " 'YukonPolitics': [8, 6.0, 2],\n",
       " 'NunavutPolitics': [2, 2.0, 0],\n",
       " 'NWTPolitics': [7, 6.82, 3],\n",
       " 'VancouverIslandJobs': [1, 1.0, 1],\n",
       " 'packgoats': [1, 0.91, 0],\n",
       " 'xxfitness_classic': [1, 1.0, 2],\n",
       " 'xxfitnesspals': [1, 0.33, 0],\n",
       " 'manitoulin': [1, 1.0, 5],\n",
       " 'DeltaBritishColumbia': [2, 1.68, 1],\n",
       " 'AtlanticCanada': [1, 1.0, 0],\n",
       " 'CoronavirusChurches': [1, 1.0, 0],\n",
       " 'Alouettes': [1, 1.0, 0],\n",
       " 'CutCBC': [1, 0.99, 0],\n",
       " 'MaritimeLaunch': [1, 1.0, 1],\n",
       " 'actualzombie': [2, 2.0, 0],\n",
       " 'CanadianAtheism': [1, 1.0, 3],\n",
       " 'GreenPartyNB': [2, 1.76, 0],\n",
       " 'CampbelltonNB': [1, 0.66, 0],\n",
       " 'GrandFalls': [2, 1.46, 0],\n",
       " 'Minto': [1, 0.5, 0],\n",
       " 'Hampton': [2, 2.0, 0],\n",
       " 'hyperbarics': [1, 1.0, 0],\n",
       " 'NOKXL': [1, 1.0, 0],\n",
       " 'somebody_somewhere': [1, 1.0, 0],\n",
       " 'UAlberta2': [1, 1.0, 0],\n",
       " 'LiberalScandalWatch': [1, 0.82, 0],\n",
       " 'TheMapleCrown': [1, 1.0, 0],\n",
       " 'GaryAndHisDemons': [1, 0.97, 3],\n",
       " 'TorontoCanada': [2, 2.0, 0],\n",
       " 'CrownLandsMusic': [1, 1.0, 0],\n",
       " 'MindBleach': [1, 0.85, 0]}"
      ]
     },
     "execution_count": 340,
     "metadata": {},
     "output_type": "execute_result"
    }
   ],
   "source": [
    "ns_subreddit_01['cbc.ca']"
   ]
  },
  {
   "cell_type": "code",
   "execution_count": 341,
   "metadata": {},
   "outputs": [
    {
     "data": {
      "text/plain": [
       "<AxesSubplot:ylabel='Count'>"
      ]
     },
     "execution_count": 341,
     "metadata": {},
     "output_type": "execute_result"
    },
    {
     "data": {
      "image/png": "[encoded data removed]",
      "text/plain": [
       "<Figure size 432x288 with 1 Axes>"
      ]
     },
     "metadata": {},
     "output_type": "display_data"
    }
   ],
   "source": [
    "sns.histplot(list(mention_count.values()), log_scale=True)"
   ]
  },
  {
   "cell_type": "code",
   "execution_count": 342,
   "metadata": {},
   "outputs": [
    {
     "data": {
      "text/plain": [
       "<AxesSubplot:ylabel='Count'>"
      ]
     },
     "execution_count": 342,
     "metadata": {},
     "output_type": "execute_result"
    },
    {
     "data": {
      "image/png": "[encoded data removed]",
      "text/plain": [
       "<Figure size 432x288 with 1 Axes>"
      ]
     },
     "metadata": {},
     "output_type": "display_data"
    }
   ],
   "source": [
    "sns.histplot(list([k for k in mention_count.values() if k <100000]), log_scale=True)"
   ]
  },
  {
   "cell_type": "code",
   "execution_count": 343,
   "metadata": {},
   "outputs": [
    {
     "data": {
      "text/plain": [
       "59.72824812382739"
      ]
     },
     "execution_count": 343,
     "metadata": {},
     "output_type": "execute_result"
    }
   ],
   "source": [
    "len([k for k in mention_count.values() if k <5])*100/len(mention_count)"
   ]
  },
  {
   "cell_type": "code",
   "execution_count": 345,
   "metadata": {},
   "outputs": [
    {
     "data": {
      "text/plain": [
       "27289.600000000002"
      ]
     },
     "execution_count": 345,
     "metadata": {},
     "output_type": "execute_result"
    }
   ],
   "source": [
    "(1-0.60)*len(mention_count)"
   ]
  },
  {
   "cell_type": "markdown",
   "metadata": {},
   "source": [
    "## upvote based weight vs comment based weight \n",
    "\n",
    "Do they have correlation?"
   ]
  },
  {
   "cell_type": "markdown",
   "metadata": {},
   "source": [
    "Let's look at January's data"
   ]
  },
  {
   "cell_type": "code",
   "execution_count": 346,
   "metadata": {},
   "outputs": [],
   "source": [
    "upvote_based = [ns_subreddit_01[ns][sr][1] for ns in ns_subreddit_01 for sr in ns_subreddit_01[ns]]\n",
    "comment_based = [ns_subreddit_01[ns][sr][2] for ns in ns_subreddit_01 for sr in ns_subreddit_01[ns]]\n",
    "unweighted = [ns_subreddit_01[ns][sr][0] for ns in ns_subreddit_01 for sr in ns_subreddit_01[ns]]"
   ]
  },
  {
   "cell_type": "code",
   "execution_count": 347,
   "metadata": {},
   "outputs": [
    {
     "data": {
      "text/plain": [
       "(-5000.0, 150000.0)"
      ]
     },
     "execution_count": 347,
     "metadata": {},
     "output_type": "execute_result"
    },
    {
     "data": {
      "image/png": "[encoded data removed]",
      "text/plain": [
       "<Figure size 432x288 with 1 Axes>"
      ]
     },
     "metadata": {},
     "output_type": "display_data"
    }
   ],
   "source": [
    "sns.scatterplot(x=comment_based, y=upvote_based, alpha=0.5)\n",
    "plt.xlabel(\"comment_based\")\n",
    "plt.ylabel(\"upvote_based\")\n",
    "plt.xlim([-100000,4000000])\n",
    "plt.ylim([-5000,150000])"
   ]
  },
  {
   "cell_type": "code",
   "execution_count": 348,
   "metadata": {},
   "outputs": [
    {
     "data": {
      "text/plain": [
       "Text(0, 0.5, 'upvote_based')"
      ]
     },
     "execution_count": 348,
     "metadata": {},
     "output_type": "execute_result"
    },
    {
     "data": {
      "image/png": "[encoded data removed]",
      "text/plain": [
       "<Figure size 432x288 with 1 Axes>"
      ]
     },
     "metadata": {},
     "output_type": "display_data"
    }
   ],
   "source": [
    "a = sns.scatterplot(x=np.log(np.array([c+1 for c in comment_based])), y=np.log(np.array([u+1 for u in upvote_based])), alpha=0.2)\n",
    "plt.xlabel(\"comment_based\")\n",
    "plt.ylabel(\"upvote_based\")"
   ]
  },
  {
   "cell_type": "code",
   "execution_count": 349,
   "metadata": {},
   "outputs": [],
   "source": [
    "from scipy.stats import pearsonr"
   ]
  },
  {
   "cell_type": "code",
   "execution_count": 350,
   "metadata": {},
   "outputs": [
    {
     "data": {
      "text/plain": [
       "0.4029222346648452"
      ]
     },
     "execution_count": 350,
     "metadata": {},
     "output_type": "execute_result"
    }
   ],
   "source": [
    "corr, _ = pearsonr(np.log(np.array([c+1 for c in comment_based])), np.log(np.array([u+1 for u in upvote_based])))\n",
    "corr"
   ]
  },
  {
   "cell_type": "code",
   "execution_count": 351,
   "metadata": {},
   "outputs": [
    {
     "data": {
      "text/plain": [
       "0.23579230893525222"
      ]
     },
     "execution_count": 351,
     "metadata": {},
     "output_type": "execute_result"
    }
   ],
   "source": [
    "corr_raw, _ = pearsonr(comment_based, upvote_based)\n",
    "corr_raw"
   ]
  },
  {
   "cell_type": "markdown",
   "metadata": {},
   "source": [
    "## I filter out news sources that are just too general"
   ]
  },
  {
   "cell_type": "code",
   "execution_count": 352,
   "metadata": {},
   "outputs": [
    {
     "data": {
      "text/plain": [
       "23776"
      ]
     },
     "execution_count": 352,
     "metadata": {},
     "output_type": "execute_result"
    }
   ],
   "source": [
    "len(ns_union)"
   ]
  },
  {
   "cell_type": "code",
   "execution_count": 122,
   "metadata": {},
   "outputs": [
    {
     "data": {
      "text/plain": [
       "63"
      ]
     },
     "execution_count": 122,
     "metadata": {},
     "output_type": "execute_result"
    }
   ],
   "source": [
    "len([k for k in ns_union if subreddit_count[k] > 1000])"
   ]
  },
  {
   "cell_type": "code",
   "execution_count": 123,
   "metadata": {},
   "outputs": [
    {
     "data": {
      "text/plain": [
       "10898"
      ]
     },
     "execution_count": 123,
     "metadata": {},
     "output_type": "execute_result"
    }
   ],
   "source": [
    "non_outlier = [k for k in ns_union if subreddit_count[k] <= 1048 and subreddit_count[k] > 5]\n",
    "len(non_outlier)"
   ]
  },
  {
   "cell_type": "code",
   "execution_count": 124,
   "metadata": {},
   "outputs": [
    {
     "data": {
      "text/plain": [
       "3271"
      ]
     },
     "execution_count": 124,
     "metadata": {},
     "output_type": "execute_result"
    }
   ],
   "source": [
    "subreddit_count['washingtonpost.com']"
   ]
  },
  {
   "cell_type": "code",
   "execution_count": 125,
   "metadata": {},
   "outputs": [
    {
     "data": {
      "text/plain": [
       "False"
      ]
     },
     "execution_count": 125,
     "metadata": {},
     "output_type": "execute_result"
    }
   ],
   "source": [
    "'washingtonpost.com' in non_outlier"
   ]
  },
  {
   "cell_type": "code",
   "execution_count": 126,
   "metadata": {},
   "outputs": [
    {
     "data": {
      "text/plain": [
       "['bismarcktribune.com',\n",
       " 'hottimeinoldtown.com',\n",
       " 'bravesites.com',\n",
       " 'trello.com',\n",
       " 'warroom.org',\n",
       " 'theinvestorspodcast.com',\n",
       " 'albertafarmexpress.ca',\n",
       " 'gametimect.com',\n",
       " 'eurohoops.net',\n",
       " 'rpi.edu',\n",
       " 'thinkadvisor.com',\n",
       " 'stirileprotv.ro',\n",
       " 'gazettetimes.com',\n",
       " 'arun.is',\n",
       " 'watchcollectinglifestyle.com',\n",
       " 'pgurus.com',\n",
       " 'nexojornal.com.br',\n",
       " 'aftenbladet.no',\n",
       " 'westsiderag.com',\n",
       " 'jpmorgan.com',\n",
       " 'todayfm.com',\n",
       " 'techrights.org',\n",
       " 'chapelboro.com',\n",
       " 'psychcongress.com',\n",
       " 'impulsegamer.com',\n",
       " 'ceskenoviny.cz',\n",
       " 'stljewishlight.com',\n",
       " 'cointrust.com',\n",
       " 'exercism.io',\n",
       " 'brut.media',\n",
       " 'hampshirechronicle.co.uk',\n",
       " 'ksltv.com',\n",
       " 'smartcitiesdive.com',\n",
       " 'ancientpages.com',\n",
       " 'northcoastjournal.com',\n",
       " 'hollywoodlife.com',\n",
       " 'electricautonomy.ca',\n",
       " 'ckdr.net',\n",
       " 'kion546.com',\n",
       " 'wreg.com',\n",
       " 'military.com',\n",
       " 'one37pm.com',\n",
       " 'forextv.com',\n",
       " 'forbes.fr',\n",
       " 'grandforksherald.com',\n",
       " 'aktiencheck.de',\n",
       " 'canterbury.ac.nz',\n",
       " 'westernstandardonline.com',\n",
       " 'nbc15.com',\n",
       " 'nerdwallet.com',\n",
       " 'campaignlive.co.uk',\n",
       " 'fox11online.com',\n",
       " 'xflnewshub.com',\n",
       " 'wonderhowto.com',\n",
       " 'the18.com',\n",
       " 'thecyberwire.com',\n",
       " 'stltoday.com',\n",
       " 'esquire.com',\n",
       " 'montanafreepress.org',\n",
       " 'yorkdispatch.com',\n",
       " 'amomama.com',\n",
       " 'startlandnews.com',\n",
       " 'bonhams.com',\n",
       " 'angelusnews.com',\n",
       " 'goodereader.com',\n",
       " 'realcleareducation.com',\n",
       " 'berlin.de',\n",
       " 'food52.com',\n",
       " 'le10sport.com',\n",
       " 'dnaindia.com',\n",
       " 'tudelft.nl',\n",
       " 'outsports.com',\n",
       " 'kpopstarz.com',\n",
       " 'icis.com',\n",
       " 'americanmilitarynews.com',\n",
       " 'streetroots.org',\n",
       " 'bookmyshow.com',\n",
       " 'independentnews.com',\n",
       " 'spectrumnews1.com',\n",
       " 'energynewsbulletin.net',\n",
       " 'warringtonguardian.co.uk',\n",
       " 'churchleaders.com',\n",
       " 'marksandspencer.com',\n",
       " 'richmondfreepress.com',\n",
       " 'auto123.com',\n",
       " 'edmonton.citynews.ca',\n",
       " 'jacksonvilleprogress.com',\n",
       " 'withgoogle.com',\n",
       " 'themonthly.com.au',\n",
       " 'staffingindustry.com',\n",
       " 'elkharttruth.com',\n",
       " 'finans.dk',\n",
       " 'fourfourtwo.com',\n",
       " 'thegradient.pub',\n",
       " 'vin.com',\n",
       " 'utopia.de',\n",
       " 'thespun.com',\n",
       " 'offbeat.com',\n",
       " 'mylondon.news',\n",
       " 'portageonline.com',\n",
       " 'futilitycloset.com',\n",
       " 'iu.edu',\n",
       " 'northwestgeorgianews.com',\n",
       " 'americanindependent.com',\n",
       " 'agmetalminer.com',\n",
       " 'ozarksfirst.com',\n",
       " 'northcountrypublicradio.org',\n",
       " 'glaad.org',\n",
       " 'pe.com',\n",
       " 'armyrecognition.com',\n",
       " 'nucypher.com',\n",
       " 'tribunecontentagency.com',\n",
       " 'guelphtoday.com',\n",
       " 'cpacanada.ca',\n",
       " 'yorkshirepost.co.uk',\n",
       " 'gotquestions.org',\n",
       " 'prospect.org',\n",
       " 'report.az',\n",
       " 'btod.com',\n",
       " 'marketsandmarkets.com',\n",
       " 'science.blog',\n",
       " 'dailywire.com',\n",
       " 'thedailynewsonline.com',\n",
       " 'wsau.com',\n",
       " 'news.err.ee',\n",
       " 'arminfo.info',\n",
       " 'muckrock.com',\n",
       " 'diariopresente.mx',\n",
       " 'crosscut.com',\n",
       " 'femalefirst.co.uk',\n",
       " 'investegate.co.uk',\n",
       " 'bigissue.com',\n",
       " 'hermanmiller.com',\n",
       " 'tncontentexchange.com',\n",
       " 'eurosport.fr',\n",
       " 'magneticmag.com',\n",
       " 'fintechzoom.com',\n",
       " 'preventionweb.net',\n",
       " 'sherwoodparknews.com',\n",
       " 'kicksonfire.com',\n",
       " 'fanbyte.com',\n",
       " 'kisselpaso.com',\n",
       " 'lmu.edu',\n",
       " 'sports.ru',\n",
       " 'laprovence.com',\n",
       " 'rtands.com',\n",
       " 'press-start.com.au',\n",
       " 'chinadailyhk.com',\n",
       " 'thumbculture.co.uk',\n",
       " 'ultiworld.com',\n",
       " 'theglobeandmail.com',\n",
       " 'format.com',\n",
       " '710keel.com',\n",
       " 'womansworld.com',\n",
       " 'sportskeeda.com',\n",
       " 'naturalnews.com',\n",
       " 'brightside.me',\n",
       " 'capitolhillseattle.com',\n",
       " 'dogster.com',\n",
       " 'healthyplace.com',\n",
       " 'mediaweek.com.au',\n",
       " 'mercurynews.com',\n",
       " 'iea.org.uk',\n",
       " 'inc42.com',\n",
       " 'leaderherald.com',\n",
       " 'musicrush.com',\n",
       " 'haproxy.com',\n",
       " 'vietnamplus.vn',\n",
       " 'chesterfieldobserver.com',\n",
       " 'foxbusiness.com',\n",
       " 'fortwaynesnbc.com',\n",
       " 'globalcustodian.com',\n",
       " 'welt.de',\n",
       " 'va.gov',\n",
       " 'theacc.com',\n",
       " 'housingwire.com',\n",
       " 'nortonrosefulbright.com',\n",
       " 'indystar.com',\n",
       " 'altnews.in',\n",
       " 'theedinburghreporter.co.uk',\n",
       " 'newscentermaine.com',\n",
       " 'macrumors.com',\n",
       " 'channel5.com',\n",
       " 'albiononline.com',\n",
       " 'wine-searcher.com',\n",
       " 'torquemag.io',\n",
       " 'greenmarketreport.com',\n",
       " 'yourvalley.net',\n",
       " 'francesoir.fr',\n",
       " 'ilpost.it',\n",
       " 'cryptopotato.com',\n",
       " 'streetinsider.com',\n",
       " 'tribuneindia.com',\n",
       " 'newengland.com',\n",
       " 'newspapers.com',\n",
       " 'ausdroid.net',\n",
       " 'louisiana.gov',\n",
       " 'drivetribe.com',\n",
       " 'wmht.org',\n",
       " 'humanprogress.org',\n",
       " 'catapult.co',\n",
       " 'nationthailand.com',\n",
       " 'animationmagazine.net',\n",
       " 'defenders.org',\n",
       " 'nypl.org',\n",
       " 'macaudailytimes.com.mo',\n",
       " 'thebulletin.be',\n",
       " 'thefern.org',\n",
       " 'it-online.co.za',\n",
       " 'pixelstech.net',\n",
       " 'thelundreport.org',\n",
       " 'newbooksnetwork.com',\n",
       " 'wantedinrome.com',\n",
       " 'line.me',\n",
       " 'socialmediatoday.com',\n",
       " 'moneytalksnews.com',\n",
       " 'stattimes.com',\n",
       " 'tomsguide.com',\n",
       " 'thecommonsenseshow.com',\n",
       " 't-online.de',\n",
       " 'utilitydive.com',\n",
       " 'fitsnews.com',\n",
       " 'thebatavian.com',\n",
       " 'bestclassicbands.com',\n",
       " 'annistonstar.com',\n",
       " 'nairametrics.com',\n",
       " 'mayoclinic.org',\n",
       " 'engineering.com',\n",
       " 'kmsnews.org',\n",
       " 'thehour.com',\n",
       " 'syr.edu',\n",
       " 'thewesterlysun.com',\n",
       " 'kexp.org',\n",
       " 'rewirenewsgroup.com',\n",
       " 'pcgames.de',\n",
       " 'senate.gov',\n",
       " 'posthaven.com',\n",
       " 'upi.com',\n",
       " 'easterneye.biz',\n",
       " 'hipstersofthecoast.com',\n",
       " 'tauntongazette.com',\n",
       " 'aap.org',\n",
       " 'chroniclet.com',\n",
       " 'naked-science.ru',\n",
       " 'dailynous.com',\n",
       " 'thewhig.com',\n",
       " 'alphr.com',\n",
       " 'tripsavvy.com',\n",
       " 'localdvm.com',\n",
       " 'tiogapublishing.com',\n",
       " 'allevents.in',\n",
       " 'tmc.edu',\n",
       " 'sspnet.org',\n",
       " 'pinkvilla.com',\n",
       " 'radsport-news.com',\n",
       " 'swp.de',\n",
       " 'yorknewstimes.com',\n",
       " 'blacksportsonline.com',\n",
       " 'coingape.com',\n",
       " 'hollywoodintoto.com',\n",
       " 'boxinginsider.com',\n",
       " 'builtinchicago.org',\n",
       " 'kwch.com',\n",
       " 'kiplinger.com',\n",
       " 'johnwdefeo.com',\n",
       " 'psxbrasil.com.br',\n",
       " 'stockhead.com.au',\n",
       " 'cw33.com',\n",
       " 'sothebys.com',\n",
       " 'americanlibrariesmagazine.org',\n",
       " 'wjon.com',\n",
       " 'coindoo.com',\n",
       " 'joe.co.uk',\n",
       " 'reporternewspapers.net',\n",
       " 'tz.de',\n",
       " 'mainichi.jp',\n",
       " 'wypr.org',\n",
       " 'nation.com.pk',\n",
       " 'jacarandafm.com',\n",
       " 'jwnenergy.com',\n",
       " 'tasteofcountry.com',\n",
       " 'popculture.com',\n",
       " '13newsnow.com',\n",
       " 'kunr.org',\n",
       " 'msdn.com',\n",
       " 'prohibitionpartners.com',\n",
       " 'muycomputer.com',\n",
       " 'capital.de',\n",
       " 'state-journal.com',\n",
       " 'guernicamag.com',\n",
       " 'laineygossip.com',\n",
       " '24heures.ch',\n",
       " 'energycentral.com',\n",
       " 'semiengineering.com',\n",
       " 'jordansdaily.com',\n",
       " 'statecollege.com',\n",
       " 'digitimes.com',\n",
       " 'skeptic.org.uk',\n",
       " 'theregister.com',\n",
       " 'dailymemphian.com',\n",
       " 'delawarebusinesstimes.com',\n",
       " 'heraldo.mx',\n",
       " 'bikeexif.com',\n",
       " 'corrieredellosport.it',\n",
       " 'wxpr.org',\n",
       " 'sourceware.org',\n",
       " 'nj.com',\n",
       " 'honeywell.com',\n",
       " 'echopress.com',\n",
       " 'valuethemarkets.com',\n",
       " 'kiwaradio.com',\n",
       " 'genius.com',\n",
       " 'thefilmstage.com',\n",
       " 'thehardtimes.net',\n",
       " 'stuttgarter-nachrichten.de',\n",
       " 'latribune.fr',\n",
       " 'hudsonvalley360.com',\n",
       " 'factsanddetails.com',\n",
       " 'minotdailynews.com',\n",
       " 'dermnetnz.org',\n",
       " 'bndestem.nl',\n",
       " 'spacenews.com',\n",
       " 'csmonitor.com',\n",
       " 'boulderweekly.com',\n",
       " 'the-dispatch.com',\n",
       " 'minnesotamonthly.com',\n",
       " 'mogreenway.com',\n",
       " 'in.gov',\n",
       " 'psychiatryadvisor.com',\n",
       " 'perezhilton.com',\n",
       " 'stadt-bremerhaven.de',\n",
       " 'gastrojournal.org',\n",
       " 'worldbank.org',\n",
       " 'odishatv.in',\n",
       " 'adexchanger.com',\n",
       " 'thesun.co.uk',\n",
       " 'planetradio.co.uk',\n",
       " 'insideevs.com',\n",
       " 'instyle.com',\n",
       " 'slippedisc.com',\n",
       " 'baltimorefishbowl.com',\n",
       " 'bikebiz.com',\n",
       " 'mtexpress.com',\n",
       " 'bgdailynews.com',\n",
       " 'catholic.com',\n",
       " 'pogo.org',\n",
       " 'krtv.com',\n",
       " '9and10news.com',\n",
       " 'punchdrink.com',\n",
       " 'featureshoot.com',\n",
       " 'theeastsiderla.com',\n",
       " 'gardenista.com',\n",
       " 'webs.com',\n",
       " 'stardem.com',\n",
       " 'trentonian.com',\n",
       " 'ninernoise.com',\n",
       " 'prnasia.com',\n",
       " 'bravewords.com',\n",
       " 'vaping360.com',\n",
       " 'tribune.com.pk',\n",
       " 'nfx.com',\n",
       " 'rtvslo.si',\n",
       " 'deadlinenews.co.uk',\n",
       " 'thehustle.co',\n",
       " 'victoriabuzz.com',\n",
       " 'theenergymix.com',\n",
       " 'sciencesetavenir.fr',\n",
       " 'schoolsweek.co.uk',\n",
       " 'manufacturing.net',\n",
       " 'hellenicshippingnews.com',\n",
       " 'forecourttrader.co.uk',\n",
       " 'nymag.com',\n",
       " 'nintendosoup.com',\n",
       " 'kivitv.com',\n",
       " 'realmadrid.com',\n",
       " 'wtol.com',\n",
       " 'dexerto.com',\n",
       " 'tiempo.com.mx',\n",
       " 'mynorthwest.com',\n",
       " 'wcia.com',\n",
       " 'informedinfrastructure.com',\n",
       " 'lasvegasweekly.com',\n",
       " 'saultstar.com',\n",
       " 'ole.com.ar',\n",
       " 'rainews.it',\n",
       " 'tpi.it',\n",
       " 'debate.com.mx',\n",
       " 'atomix.vg',\n",
       " 'wdrb.com',\n",
       " 'ussoccer.com',\n",
       " 'zenhabits.net',\n",
       " 'leicestermercury.co.uk',\n",
       " 'marinij.com',\n",
       " 'grampianonline.co.uk',\n",
       " 'beyondtheboxscore.com',\n",
       " 'dnoticias.pt',\n",
       " 'thearticle.com',\n",
       " 'alligator.org',\n",
       " 'newhavenindependent.org',\n",
       " 'ptsecurity.com',\n",
       " 'augustafreepress.com',\n",
       " 'bc.edu',\n",
       " 'trivago.com',\n",
       " 'bfm.ru',\n",
       " 'gottman.com',\n",
       " 'rejournals.com',\n",
       " 'fanpage.it',\n",
       " 'lawandcrime.com',\n",
       " 'the961.com',\n",
       " 'cntraveller.in',\n",
       " 'nationalheraldindia.com',\n",
       " 'chicagotribune.com',\n",
       " 'itnonline.com',\n",
       " 'impakter.com',\n",
       " 'inhabitat.com',\n",
       " 'tor.com',\n",
       " 'cargurus.com',\n",
       " 'barrietoday.com',\n",
       " 'efinancialcareers.com',\n",
       " 'abc15.com',\n",
       " 'theticker.org',\n",
       " 'coventrytelegraph.net',\n",
       " 'cryptoslate.com',\n",
       " 'whyy.org',\n",
       " 'hkcnews.com',\n",
       " 'kcbd.com',\n",
       " 'validea.com',\n",
       " 'coloradotimesrecorder.com',\n",
       " 'theloadstar.com',\n",
       " 'wradio.com.mx',\n",
       " 'theage.com.au',\n",
       " 'theamericanscholar.org',\n",
       " 'gametyrant.com',\n",
       " 'mansfieldnewsjournal.com',\n",
       " 'trains.com',\n",
       " 'sundayworld.com',\n",
       " 'insideworldfootball.com',\n",
       " 'dr.dk',\n",
       " 'harvardmagazine.com',\n",
       " 'canoe.com',\n",
       " 'assemblymag.com',\n",
       " 'abcstlouis.com',\n",
       " 'wndu.com',\n",
       " 'mtshastanews.com',\n",
       " 'newamerica.org',\n",
       " 'metropolismag.com',\n",
       " 'amnesty.org.uk',\n",
       " 'business.com',\n",
       " 'bit-tech.net',\n",
       " 'dynastynerds.com',\n",
       " 'bioone.org',\n",
       " 'ttgasia.com',\n",
       " 'rappler.com',\n",
       " 'quadratin.com.mx',\n",
       " 'komonews.com',\n",
       " '24horas.cl',\n",
       " 'renx.ca',\n",
       " 'phnompenhpost.com',\n",
       " 'transfermarkt.com',\n",
       " 'whatsondisneyplus.com',\n",
       " 'leadstories.com',\n",
       " 'readfrontier.org',\n",
       " 'brightsideofthesun.com',\n",
       " 'china.org.cn',\n",
       " 'thestandard.com.hk',\n",
       " 'thecreativeindependent.com',\n",
       " 'nettavisen.no',\n",
       " 'apg-wi.com',\n",
       " 'deccanherald.com',\n",
       " 'grc.com',\n",
       " 'horrornews.net',\n",
       " 'tidal.com',\n",
       " 'newsandsentinel.com',\n",
       " 'starexponent.com',\n",
       " 'etc.se',\n",
       " 'bizjournals.com',\n",
       " 'wytv.com',\n",
       " 'globes.co.il',\n",
       " 'gigwise.com',\n",
       " 'ucsusa.org',\n",
       " 'timesofmalta.com',\n",
       " 'wjcl.com',\n",
       " 'statesville.com',\n",
       " 'easyzoom.com',\n",
       " 'registercitizen.com',\n",
       " 'thomasnet.com',\n",
       " 'calgaryjournal.ca',\n",
       " 'ktsm.com',\n",
       " 'exploretock.com',\n",
       " 'streeteasy.com',\n",
       " 'stlmag.com',\n",
       " 'expertreviews.co.uk',\n",
       " 'djmag.com',\n",
       " 'loudwire.com',\n",
       " 'sporkful.com',\n",
       " 'blackburnnews.com',\n",
       " 'marijuanatimes.org',\n",
       " 'premierguitar.com',\n",
       " 'technologynetworks.com',\n",
       " 'wibc.com',\n",
       " 'starwarsnewsnet.com',\n",
       " 'bisnow.com',\n",
       " 'prensa.com',\n",
       " 'myfoxzone.com',\n",
       " 'legion.org',\n",
       " 'ledsmagazine.com',\n",
       " 'seattlemet.com',\n",
       " 'kobe-np.co.jp',\n",
       " 'lindependant.fr',\n",
       " 'spacedaily.com',\n",
       " 'koco.com',\n",
       " 'goodnewsnetwork.org',\n",
       " 'newsbtc.com',\n",
       " 'cmu.edu',\n",
       " 'archaeology.org',\n",
       " 'stratfor.com',\n",
       " '3djuegos.com',\n",
       " 'lmtribune.com',\n",
       " 'nhpr.org',\n",
       " 'oudaily.com',\n",
       " 'worldanimalnews.com',\n",
       " 'princegeorgematters.com',\n",
       " 'techdirt.com',\n",
       " 'duluthnewstribune.com',\n",
       " 'theconcordian.com',\n",
       " 'timminstoday.com',\n",
       " 'imperial.ac.uk',\n",
       " 'bncollege.com',\n",
       " 'thehimalayantimes.com',\n",
       " 'news-journalonline.com',\n",
       " 'qchron.com',\n",
       " 'newspaperarchive.com',\n",
       " 'metal-am.com',\n",
       " 'businessinsurance.com',\n",
       " 'architecturaldigest.com',\n",
       " 'celticsblog.com',\n",
       " 'healthcentral.com',\n",
       " 'geeky-gadgets.com',\n",
       " 'danluu.com',\n",
       " 'au.org',\n",
       " 'themorningnews.com',\n",
       " 'newsminer.com',\n",
       " 'eenewseurope.com',\n",
       " 'libertynation.com',\n",
       " 'uol.com.br',\n",
       " 'timesofisrael.com',\n",
       " 'sweclockers.com',\n",
       " 'closerweekly.com',\n",
       " 'thebruns.ca',\n",
       " 'mtggoldfish.com',\n",
       " 'royallepage.ca',\n",
       " 'cio.com',\n",
       " 'pen.org',\n",
       " 'benzinga.com',\n",
       " 'news-medical.net',\n",
       " 'richmondstandard.com',\n",
       " 'sophos.com',\n",
       " 'garmin.com',\n",
       " 'newspress.com',\n",
       " 'worldoil.com',\n",
       " 'ksnt.com',\n",
       " 'n-tv.de',\n",
       " 'spectator.sme.sk',\n",
       " 'alicetx.com',\n",
       " 'nxp.com',\n",
       " 'vg.no',\n",
       " 'rice.edu',\n",
       " 'dallasfed.org',\n",
       " 'kycir.org',\n",
       " 'whatson.ae',\n",
       " 'rcreader.com',\n",
       " 'rochestercitynewspaper.com',\n",
       " 'theworldnews.net',\n",
       " 'romesentinel.com',\n",
       " 'disney.com',\n",
       " 'rp.pl',\n",
       " 'msu.edu',\n",
       " 'frommers.com',\n",
       " 'virginmedia.com',\n",
       " 'gearjunkie.com',\n",
       " 'dailylobo.com',\n",
       " 'freitag.de',\n",
       " 'pressgazette.co.uk',\n",
       " 'ghanasoccernet.com',\n",
       " 'otakuusamagazine.com',\n",
       " 'labiotech.eu',\n",
       " 'thenewdaily.com.au',\n",
       " 'tripod.com',\n",
       " 'opednews.com',\n",
       " 'danas.rs',\n",
       " 'thelines.com',\n",
       " 'libyanexpress.com',\n",
       " 'sitepoint.com',\n",
       " 'lakeconews.com',\n",
       " 'piquenewsmagazine.com',\n",
       " 'wavy.com',\n",
       " 'washingtonstatewire.com',\n",
       " 'nfcw.com',\n",
       " 'americantheatre.org',\n",
       " 'telediario.mx',\n",
       " 'dallasobserver.com',\n",
       " 'wivb.com',\n",
       " 'citylimits.org',\n",
       " 'zonebourse.com',\n",
       " 'fortmorgantimes.com',\n",
       " 'mindfulnessbell.org',\n",
       " 'tennessean.com',\n",
       " 'yolasite.com',\n",
       " 'state.gov',\n",
       " 'fc2.com',\n",
       " 'lucesdelsiglo.com',\n",
       " 'lowyat.net',\n",
       " 'indiancountrytoday.com',\n",
       " 'firefighternation.com',\n",
       " 'sporza.be',\n",
       " 'atmmarketplace.com',\n",
       " 'fox7austin.com',\n",
       " 'traveldailynews.com',\n",
       " 'jornaldenegocios.pt',\n",
       " 'rttnews.com',\n",
       " 'ktvl.com',\n",
       " 'intpolicydigest.org',\n",
       " 'restaurantdive.com',\n",
       " 'chicoer.com',\n",
       " 'theislanderonline.com.au',\n",
       " 'zeit.de',\n",
       " 'sentinelandenterprise.com',\n",
       " 'elpasoinc.com',\n",
       " 'iwpr.net',\n",
       " 'sectionhiker.com',\n",
       " 'english.wafa.ps',\n",
       " 'techcabal.com',\n",
       " 'invisioncommunity.co.uk',\n",
       " 'ucla.edu',\n",
       " 'bustedcoverage.com',\n",
       " 'washingtontechnology.com',\n",
       " 'franchising.com',\n",
       " 'coinweek.com',\n",
       " 'bmwblog.com',\n",
       " 'bedfordindependent.co.uk',\n",
       " 'perfil.com',\n",
       " 'skyrock.com',\n",
       " 'mcsweeneys.net',\n",
       " 'appvoices.org',\n",
       " 'euractiv.pl',\n",
       " 'sky.com',\n",
       " 'asme.org',\n",
       " 'nowtoronto.com',\n",
       " 'byrdie.com',\n",
       " 'mz-web.de',\n",
       " 'agfundernews.com',\n",
       " 'moderndiplomacy.eu',\n",
       " 'lulu.com',\n",
       " 'ihsmarkit.com',\n",
       " 'cc.com',\n",
       " 'bangkokpost.com',\n",
       " 'heartfm.ca',\n",
       " 'asahi.com',\n",
       " 'fiercewireless.com',\n",
       " 'etcetera.com.mx',\n",
       " 'fox13news.com',\n",
       " 'riverineherald.com.au',\n",
       " 'gazettenet.com',\n",
       " 'nsw.gov.au',\n",
       " 'oneplus.com',\n",
       " 'cybereason.com',\n",
       " 'bxtimes.com',\n",
       " 'bdtechtalks.com',\n",
       " 'steinbachonline.com',\n",
       " 'dohanews.co',\n",
       " 'catalannews.com',\n",
       " 'trtworld.com',\n",
       " 'portafolio.co',\n",
       " 'tucsonweekly.com',\n",
       " 'ufl.edu',\n",
       " 'ama.com.au',\n",
       " 'wsaw.com',\n",
       " 'laptopmag.com',\n",
       " 'downeast.com',\n",
       " 'ettoday.net',\n",
       " 'finsmes.com',\n",
       " 'insidephilanthropy.com',\n",
       " 'deccanchronicle.com',\n",
       " 'scotusblog.com',\n",
       " 'typepad.com',\n",
       " 'lifezette.com',\n",
       " 'energyvoice.com',\n",
       " 'durhamradionews.com',\n",
       " 'joinpeertube.org',\n",
       " 'motionarray.com',\n",
       " 'bostonherald.com',\n",
       " 'cardschat.com',\n",
       " 'ajmc.com',\n",
       " 'levittownnow.com',\n",
       " 'razon.com.mx',\n",
       " 'chicagonow.com',\n",
       " 'goldstreamgazette.com',\n",
       " 'mcgilltribune.com',\n",
       " 'logrocket.com',\n",
       " 'durhamregion.com',\n",
       " 'logmeininc.com',\n",
       " 'honestreporting.com',\n",
       " 'pewpewtactical.com',\n",
       " 'mensxp.com',\n",
       " 'fox5ny.com',\n",
       " 'telugustop.com',\n",
       " 'cheapism.com',\n",
       " 'pantagraph.com',\n",
       " 'nursingtimes.net',\n",
       " 'hrdive.com',\n",
       " 'missioncityrecord.com',\n",
       " 'avsforum.com',\n",
       " 'ssa.gov',\n",
       " 'babygaga.com',\n",
       " 'everythinglubbock.com',\n",
       " 'macdonaldlaurier.ca',\n",
       " 'techguide.com.au',\n",
       " 'thisisanfield.com',\n",
       " 'federalregister.gov',\n",
       " 'ketv.com',\n",
       " 'alabama.gov',\n",
       " 'koreatimes.co.kr',\n",
       " 'syncfusion.com',\n",
       " 'tv-tokyo.co.jp',\n",
       " 'osa.org',\n",
       " 'thewashingtonstandard.com',\n",
       " 'nutritionfacts.org',\n",
       " 'superdrug.com',\n",
       " 'opentable.com',\n",
       " 'bonnercountydailybee.com',\n",
       " '13abc.com',\n",
       " 'jamieoliver.com',\n",
       " 'texomashomepage.com',\n",
       " 'bisouv.com',\n",
       " 'cafepress.com',\n",
       " 'fundera.com',\n",
       " 'occrp.org',\n",
       " 'bikeportland.org',\n",
       " 'pollstar.com',\n",
       " 'penbaypilot.com',\n",
       " 'istoe.com.br',\n",
       " 'williamsonsource.com',\n",
       " 'artandobject.com',\n",
       " 'thenational.scot',\n",
       " 'jagranjosh.com',\n",
       " 'journalofaccountancy.com',\n",
       " 'foreignaffairs.com',\n",
       " 'brave.com',\n",
       " 'dissentmagazine.org',\n",
       " 'opencanada.org',\n",
       " 'politiken.dk',\n",
       " 'reportablenews.com',\n",
       " 'infranken.de',\n",
       " 'boursorama.com',\n",
       " 'uinterview.com',\n",
       " 'rgj.com',\n",
       " 'americamagazine.org',\n",
       " 'wiktionary.org',\n",
       " 'lexpress.mu',\n",
       " 'ktvq.com',\n",
       " 'marca.com',\n",
       " 'thegrio.com',\n",
       " 'governing.com',\n",
       " 'blavity.com',\n",
       " 'tribunnews.com',\n",
       " 'vikingsterritory.com',\n",
       " 'unilad.co.uk',\n",
       " 'airport-world.com',\n",
       " 'popula.com',\n",
       " 'babycenter.com',\n",
       " 'yellowhammernews.com',\n",
       " 'thenib.com',\n",
       " 'citi.com',\n",
       " 'montrealgazette.com',\n",
       " 'kstp.com',\n",
       " 'designweek.co.uk',\n",
       " 'autostraddle.com',\n",
       " 'crooked.com',\n",
       " 'elsoldepuebla.com.mx',\n",
       " 'travelagentcentral.com',\n",
       " 'thenerdstash.com',\n",
       " 'nhm.ac.uk',\n",
       " 'independent.com',\n",
       " 'automotivelogistics.media',\n",
       " 'foodingredientsfirst.com',\n",
       " 'revzilla.com',\n",
       " 'hawaiinewsnow.com',\n",
       " 'squamishchief.com',\n",
       " 'policemag.com',\n",
       " 'atavist.com',\n",
       " 'ameblo.jp',\n",
       " 'almayadeen.net',\n",
       " 'derstandard.at',\n",
       " 'carmagazine.co.uk',\n",
       " 'swissinfo.ch',\n",
       " 'marinelog.com',\n",
       " 'improbable.com',\n",
       " 'ccn.com',\n",
       " 'dailyjournalonline.com',\n",
       " 'tradersmagazine.com',\n",
       " 'wonderwall.com',\n",
       " 'domain.com.au',\n",
       " 'phandroid.com',\n",
       " 'medicaleconomics.com',\n",
       " 'ibtimes.co.uk',\n",
       " 'uwa.edu.au',\n",
       " 'autosport.com',\n",
       " 'zoopla.co.uk',\n",
       " 'fortmcmurraytoday.com',\n",
       " 'tulane.edu',\n",
       " 'lepoint.fr',\n",
       " 'fenews.co.uk',\n",
       " 'observador.pt',\n",
       " 'robhasawebsite.com',\n",
       " 'as-coa.org',\n",
       " 'charentelibre.fr',\n",
       " 'themarketsdaily.com',\n",
       " 'greatfallstribune.com',\n",
       " 'ua.edu',\n",
       " 'neo.life',\n",
       " 'technical420.com',\n",
       " 'aalto.fi',\n",
       " 'matcha-jp.com',\n",
       " 'kgmi.com',\n",
       " 'vermontbiz.com',\n",
       " 'lbbonline.com',\n",
       " 'ohio-state.edu',\n",
       " 'thefreethoughtproject.com',\n",
       " 'mediapost.com',\n",
       " 'metro.co.uk',\n",
       " 'volts.wtf',\n",
       " 'newportri.com',\n",
       " 'inkstonenews.com',\n",
       " 'gob.mx',\n",
       " 'ncl.ac.uk',\n",
       " 'bcinterruption.com',\n",
       " 'therobotreport.com',\n",
       " 'mundodeportivo.com',\n",
       " 'thefalcoholic.com',\n",
       " 'tcu.edu',\n",
       " 'uswitch.com',\n",
       " 'brazilian.report',\n",
       " 'zazzle.com',\n",
       " '4pda.ru',\n",
       " 'jmu.edu',\n",
       " 'caledonianrecord.com',\n",
       " 'dailyrecord.co.uk',\n",
       " 'psychologicalscience.org',\n",
       " 'nickiswift.com',\n",
       " 'marketingweek.com',\n",
       " 'grinnell.edu',\n",
       " 'thinkpol.ca',\n",
       " 'seesaa.net',\n",
       " 'therecord.media',\n",
       " 'netnebraska.org',\n",
       " 'buffalorumblings.com',\n",
       " 'ainonline.com',\n",
       " 'nysmusic.com',\n",
       " 'mynation.com',\n",
       " 'analyticsvidhya.com',\n",
       " 'theindependentbd.com',\n",
       " 'corriere.it',\n",
       " 'karger.com',\n",
       " 'arkansasonline.com',\n",
       " 'businessrecord.com',\n",
       " 'wibw.com',\n",
       " 'opendemocracy.net',\n",
       " 'dailyjournal.net',\n",
       " 'anishinabeknews.ca',\n",
       " 'wnd.com',\n",
       " 'kget.com',\n",
       " 'aei.org',\n",
       " 'jhunewsletter.com',\n",
       " 'kiro7.com',\n",
       " 'remezcla.com',\n",
       " 'asgam.com',\n",
       " 'homestead.com',\n",
       " 'shrm.org',\n",
       " 'suse.com',\n",
       " 'missourinet.com',\n",
       " 'broadsheet.com.au',\n",
       " 'sixteen-nine.net',\n",
       " 'freemalaysiatoday.com',\n",
       " 'socialistworker.co.uk',\n",
       " 'mmorpg.com',\n",
       " 'theargus.co.uk',\n",
       " 'vidaextra.com',\n",
       " 'businesslive.co.za',\n",
       " 'fwweekly.com',\n",
       " 'local12.com',\n",
       " 'illinoisstate.edu',\n",
       " 'cleveland.com',\n",
       " 'looptt.com',\n",
       " 'centralfifetimes.com',\n",
       " 'chch.com',\n",
       " 'relocate.me',\n",
       " 'marinelink.com',\n",
       " 'jota.info',\n",
       " 'emory.edu',\n",
       " 'worcesternews.co.uk',\n",
       " 'sfist.com',\n",
       " 'dentonrc.com',\n",
       " 'cryptopolitan.com',\n",
       " 'sfgate.com',\n",
       " 'realscreen.com',\n",
       " 'theeastafrican.co.ke',\n",
       " 'gamingtoday.com',\n",
       " 'bakersfieldnow.com',\n",
       " 'sipse.com',\n",
       " 'openpr.com',\n",
       " '90min.com',\n",
       " 'studyfinds.org',\n",
       " 'irishtechnews.ie',\n",
       " 'wspynews.com',\n",
       " 'sportklub.rs',\n",
       " 'srf.ch',\n",
       " 'asiatimesfinancial.com',\n",
       " 'mspoweruser.com',\n",
       " 'gothamgazette.com',\n",
       " 'spencerdailey.com',\n",
       " 'eveningtelegraph.co.uk',\n",
       " 'skysports.com',\n",
       " 'mymcmedia.org',\n",
       " 'upgradedpoints.com',\n",
       " 'di.se',\n",
       " 'lancasteronline.com',\n",
       " 'heraldsun.com',\n",
       " 'globalpressjournal.com',\n",
       " 'yourerie.com',\n",
       " 'kerbalspaceprogram.com',\n",
       " 'middleeasteye.net',\n",
       " 'genbeta.com',\n",
       " 'feedingamerica.org',\n",
       " 'bloody-disgusting.com',\n",
       " 'peoplesvoice.ca',\n",
       " 'buckeyextra.com',\n",
       " 'espresso.repubblica.it',\n",
       " 'tbsnews.net',\n",
       " 'sggpnews.org.vn',\n",
       " 'blu-ray.com',\n",
       " 'moneyweb.co.za',\n",
       " 'kxly.com',\n",
       " 'vgchartz.com',\n",
       " 'clnsmedia.com',\n",
       " 'timeshighereducation.com',\n",
       " 'reviewed.com',\n",
       " 'umd.edu',\n",
       " 'aftvnews.com',\n",
       " 'indiatimes.com',\n",
       " 'times-news.com',\n",
       " 'footmercato.net',\n",
       " 'hktdc.com',\n",
       " 'bellanaija.com',\n",
       " 'westbridgfordwire.com',\n",
       " 'spectator.co.uk',\n",
       " 'bipartisanpolicy.org',\n",
       " 'bobvila.com',\n",
       " 'ihorror.com',\n",
       " 'dailymaverick.co.za',\n",
       " 'floridadaily.com',\n",
       " 'realself.com',\n",
       " 'vocal.media',\n",
       " 'cstoredecisions.com',\n",
       " 'getfootballnewsfrance.com',\n",
       " 'powermag.com',\n",
       " 'theweathernetwork.com',\n",
       " 'thinkgeoenergy.com',\n",
       " 'sport1.de',\n",
       " 'indycornrows.com',\n",
       " 'lionsroar.com',\n",
       " 'motherjones.com',\n",
       " 'corelogic.com',\n",
       " 'themeparkinsider.com',\n",
       " 'news.am',\n",
       " 'energypost.eu',\n",
       " 'mayorsmanor.com',\n",
       " 'myrecordjournal.com',\n",
       " 'wowktv.com',\n",
       " 'stockcharts.com',\n",
       " 'hdblog.it',\n",
       " 'accessonline.com',\n",
       " 'supchina.com',\n",
       " 'burnslakelakesdistrictnews.com',\n",
       " 'cato.org',\n",
       " 'valetmag.com',\n",
       " 'sneakernews.com',\n",
       " 'wealthprofessional.ca',\n",
       " 'illinoispolicy.org',\n",
       " 'just-food.com',\n",
       " 'cookpolitical.com',\n",
       " 'wtmj.com',\n",
       " 'wset.com',\n",
       " 'kevinmd.com',\n",
       " 'goachronicle.com',\n",
       " 't3.com',\n",
       " 'parkrapidsenterprise.com',\n",
       " 'thedailystar.net',\n",
       " 'telex.hu',\n",
       " 'interestingengineering.com',\n",
       " 'player.listenlive.co',\n",
       " ...]"
      ]
     },
     "execution_count": 126,
     "metadata": {},
     "output_type": "execute_result"
    }
   ],
   "source": [
    "non_outlier"
   ]
  },
  {
   "cell_type": "markdown",
   "metadata": {},
   "source": [
    "## For now as a case study I will define `non_outlier` to be some news sources from MBFC\n",
    "\n",
    "I will take out this step later"
   ]
  },
  {
   "cell_type": "code",
   "execution_count": 96,
   "metadata": {},
   "outputs": [
    {
     "data": {
      "text/plain": [
       "319"
      ]
     },
     "execution_count": 96,
     "metadata": {},
     "output_type": "execute_result"
    }
   ],
   "source": [
    "mbfc_left_raw = json.load(open(os.path.join(mbfc_path, \"mbfc_left.json\")))\n",
    "len(mbfc_left_raw)"
   ]
  },
  {
   "cell_type": "code",
   "execution_count": 97,
   "metadata": {},
   "outputs": [
    {
     "data": {
      "text/plain": [
       "254"
      ]
     },
     "execution_count": 97,
     "metadata": {},
     "output_type": "execute_result"
    }
   ],
   "source": [
    "mbfc_right_raw = json.load(open(os.path.join(mbfc_path, \"mbfc_right.json\")))\n",
    "len(mbfc_right_raw)"
   ]
  },
  {
   "cell_type": "code",
   "execution_count": 100,
   "metadata": {},
   "outputs": [],
   "source": [
    "mbfc_left = [m[1] for m in mbfc_left_raw if m[1]]\n",
    "mbfc_right = [m[1] for m in mbfc_right_raw if m[1]]"
   ]
  },
  {
   "cell_type": "markdown",
   "metadata": {},
   "source": [
    "Cleaning the URLs for both `mbfc_left` and `mbfc_right`."
   ]
  },
  {
   "cell_type": "code",
   "execution_count": 138,
   "metadata": {},
   "outputs": [
    {
     "data": {
      "text/plain": [
       "292"
      ]
     },
     "execution_count": 138,
     "metadata": {},
     "output_type": "execute_result"
    }
   ],
   "source": [
    "# for mbfc_left\n",
    "mbfc_left_clean = set()\n",
    "for ns in mbfc_left:\n",
    "    extracted = tldextract.extract(ns)\n",
    "    subdomain, domain, suffix = extracted\n",
    "    # add both versions of domain.suffix and subdomain.domain.suffix\n",
    "    full = \"\"\n",
    "    # with subdomain\n",
    "    if len(subdomain) > 0:\n",
    "        #print(f\"{subdomain}.{domain}.{suffix}\")\n",
    "        full = f\"{subdomain}.{domain}.{suffix}\"\n",
    "        if len(full) > 0:\n",
    "            mbfc_left_clean.add(full.replace(\"www.\",\"\").strip('/'))\n",
    "    # without subdomain\n",
    "    full = f\"{domain}.{suffix}\"\n",
    "    if len(full) > 0:\n",
    "        mbfc_left_clean.add(full.replace(\"www.\",\"\").strip('/'))\n",
    "len(mbfc_left_clean)"
   ]
  },
  {
   "cell_type": "code",
   "execution_count": 139,
   "metadata": {},
   "outputs": [
    {
     "data": {
      "text/plain": [
       "232"
      ]
     },
     "execution_count": 139,
     "metadata": {},
     "output_type": "execute_result"
    }
   ],
   "source": [
    "# for mbfc_right\n",
    "mbfc_right_clean = set()\n",
    "for ns in mbfc_right:\n",
    "    extracted = tldextract.extract(ns)\n",
    "    subdomain, domain, suffix = extracted\n",
    "    # add both versions of domain.suffix and subdomain.domain.suffix\n",
    "    full = \"\"\n",
    "    # with subdomain\n",
    "    if len(subdomain) > 0:\n",
    "        #print(f\"{subdomain}.{domain}.{suffix}\")\n",
    "        full = f\"{subdomain}.{domain}.{suffix}\"\n",
    "        if len(full) > 0:\n",
    "            mbfc_right_clean.add(full.replace(\"www.\",\"\").strip('/'))\n",
    "    # without subdomain\n",
    "    full = f\"{domain}.{suffix}\"\n",
    "    if len(full) > 0:\n",
    "        mbfc_right_clean.add(full.replace(\"www.\",\"\").strip('/'))\n",
    "len(mbfc_right_clean)"
   ]
  },
  {
   "cell_type": "code",
   "execution_count": 140,
   "metadata": {},
   "outputs": [
    {
     "data": {
      "text/plain": [
       "266"
      ]
     },
     "execution_count": 140,
     "metadata": {},
     "output_type": "execute_result"
    }
   ],
   "source": [
    "non_outlier = (mbfc_left_clean | mbfc_right_clean) & set(ns_union)\n",
    "len(non_outlier)"
   ]
  },
  {
   "cell_type": "markdown",
   "metadata": {},
   "source": [
    "## Cluster Try Out"
   ]
  },
  {
   "cell_type": "markdown",
   "metadata": {},
   "source": [
    "First, I make a list of subreddits with fixed order, where I only include subreddits where our non_outlier news sources are mentioned in."
   ]
  },
  {
   "cell_type": "code",
   "execution_count": 141,
   "metadata": {},
   "outputs": [
    {
     "data": {
      "text/plain": [
       "266"
      ]
     },
     "execution_count": 141,
     "metadata": {},
     "output_type": "execute_result"
    }
   ],
   "source": [
    "len(non_outlier)"
   ]
  },
  {
   "cell_type": "code",
   "execution_count": 142,
   "metadata": {
    "scrolled": true
   },
   "outputs": [
    {
     "name": "stdout",
     "output_type": "stream",
     "text": [
      "done 100\n",
      "done 200\n"
     ]
    },
    {
     "data": {
      "text/plain": [
       "11128"
      ]
     },
     "execution_count": 142,
     "metadata": {},
     "output_type": "execute_result"
    }
   ],
   "source": [
    "# subreddits = subs\n",
    "subreddits = set()\n",
    "nsr_files = [ns_subreddit_01, ns_subreddit_02, ns_subreddit_03, ns_subreddit_04, ns_subreddit_05, ns_subreddit_06]\n",
    "# first, I filter for only the subreddits in which our news sources are mentioned\n",
    "c = 0\n",
    "for n in non_outlier:\n",
    "    subreddits = (subreddits | set(ns_subreddit_01.get(n, dict()).keys()) \n",
    "                               | set(ns_subreddit_02.get(n, dict()).keys()) \n",
    "                               | set(ns_subreddit_03.get(n, dict()).keys()) \n",
    "                               | set(ns_subreddit_04.get(n, dict()).keys())\n",
    "                               | set(ns_subreddit_05.get(n, dict()).keys()) \n",
    "                               | set(ns_subreddit_06.get(n, dict()).keys()))\n",
    "    c += 1\n",
    "    if c%100==0: print(f\"done {c}\")\n",
    "subreddits = list(subreddits)\n",
    "len(subreddits)"
   ]
  },
  {
   "cell_type": "markdown",
   "metadata": {},
   "source": [
    "There are 9195 subreddits."
   ]
  },
  {
   "cell_type": "code",
   "execution_count": 143,
   "metadata": {},
   "outputs": [
    {
     "data": {
      "text/plain": [
       "['BillGatesBeingAwesome',\n",
       " 'Nationals',\n",
       " 'GenX',\n",
       " 'Testosterone',\n",
       " 'BeeGees',\n",
       " 'NewYorkForSanders',\n",
       " 'FreeKarma4U',\n",
       " 'mazzystar',\n",
       " 'turtleswithjobs',\n",
       " 'vim']"
      ]
     },
     "execution_count": 143,
     "metadata": {},
     "output_type": "execute_result"
    }
   ],
   "source": [
    "subreddits[-10:]"
   ]
  },
  {
   "cell_type": "markdown",
   "metadata": {},
   "source": [
    "If I should order them later, I can do so."
   ]
  },
  {
   "cell_type": "markdown",
   "metadata": {},
   "source": [
    "## Incorporating subscribers information"
   ]
  },
  {
   "cell_type": "code",
   "execution_count": 144,
   "metadata": {},
   "outputs": [],
   "source": [
    "pd1 = os.path.split(os.getcwd())[0]\n",
    "data_fp = os.path.join(pd1,\"data/gm-newssources-subreddits\")\n",
    "dfp = os.path.join(pd1,\"data\")"
   ]
  },
  {
   "cell_type": "code",
   "execution_count": 145,
   "metadata": {},
   "outputs": [],
   "source": [
    "sfp = os.path.join(pd1,\"data/subreddits\")"
   ]
  },
  {
   "cell_type": "code",
   "execution_count": 146,
   "metadata": {},
   "outputs": [],
   "source": [
    "# Let's only use the subreddits that have lots of subscribers\n",
    "with open (os.path.join(sfp,\"subreddit_subscribers.json\"), \"r\", encoding = \"utf-8\") as infile:\n",
    "    subreddit_subscribers = json.load(infile)"
   ]
  },
  {
   "cell_type": "code",
   "execution_count": 147,
   "metadata": {},
   "outputs": [
    {
     "data": {
      "text/plain": [
       "6201779"
      ]
     },
     "execution_count": 147,
     "metadata": {},
     "output_type": "execute_result"
    }
   ],
   "source": [
    "subreddit_subscribers['politics']"
   ]
  },
  {
   "cell_type": "code",
   "execution_count": 148,
   "metadata": {},
   "outputs": [
    {
     "data": {
      "text/plain": [
       "49055"
      ]
     },
     "execution_count": 148,
     "metadata": {},
     "output_type": "execute_result"
    }
   ],
   "source": [
    "len(subreddit_subscribers)"
   ]
  },
  {
   "cell_type": "code",
   "execution_count": 149,
   "metadata": {},
   "outputs": [
    {
     "data": {
      "text/plain": [
       "11128"
      ]
     },
     "execution_count": 149,
     "metadata": {},
     "output_type": "execute_result"
    }
   ],
   "source": [
    "len(subreddits)"
   ]
  },
  {
   "cell_type": "code",
   "execution_count": 150,
   "metadata": {
    "scrolled": true
   },
   "outputs": [
    {
     "data": {
      "text/plain": [
       "8455"
      ]
     },
     "execution_count": 150,
     "metadata": {},
     "output_type": "execute_result"
    }
   ],
   "source": [
    "subreddits_w_subc = [k for k in subreddits if k in subreddit_subscribers]\n",
    "len(subreddits_w_subc)"
   ]
  },
  {
   "cell_type": "markdown",
   "metadata": {},
   "source": [
    "It seems that there are `None` values, so let's filter those subreddits out."
   ]
  },
  {
   "cell_type": "code",
   "execution_count": 151,
   "metadata": {},
   "outputs": [
    {
     "name": "stdout",
     "output_type": "stream",
     "text": [
      "['LoveForLandlords', 'DystopianFuture', 'RedditMobTest', 'JKRowling']\n"
     ]
    }
   ],
   "source": [
    "print([s for s in subreddits_w_subc if subreddit_subscribers[s] is None])"
   ]
  },
  {
   "cell_type": "code",
   "execution_count": 152,
   "metadata": {},
   "outputs": [],
   "source": [
    "subreddits_w_subc = [s for s in subreddits_w_subc if subreddit_subscribers[s] is not None]"
   ]
  },
  {
   "cell_type": "code",
   "execution_count": 153,
   "metadata": {},
   "outputs": [
    {
     "data": {
      "text/plain": [
       "8451"
      ]
     },
     "execution_count": 153,
     "metadata": {},
     "output_type": "execute_result"
    }
   ],
   "source": [
    "len(subreddits_w_subc)"
   ]
  },
  {
   "cell_type": "markdown",
   "metadata": {},
   "source": [
    "Now, I will sort the 8,294 subreddits based on the # of their subscribers in a descending order."
   ]
  },
  {
   "cell_type": "code",
   "execution_count": 154,
   "metadata": {},
   "outputs": [],
   "source": [
    "srs_all = sorted(subreddits_w_subc, key= lambda x: subreddit_subscribers[x], reverse= True)"
   ]
  },
  {
   "cell_type": "code",
   "execution_count": 155,
   "metadata": {
    "scrolled": false
   },
   "outputs": [
    {
     "data": {
      "text/plain": [
       "Text(0.5, 1.0, 'Subreddits Subscribers')"
      ]
     },
     "execution_count": 155,
     "metadata": {},
     "output_type": "execute_result"
    },
    {
     "data": {
      "image/png": "[encoded data removed]",
      "text/plain": [
       "<Figure size 432x288 with 1 Axes>"
      ]
     },
     "metadata": {},
     "output_type": "display_data"
    }
   ],
   "source": [
    "# plt.hist([math.log(subreddit_subscribers[s],10) for s in srs_all if subreddit_subscribers[s] > 0])\n",
    "sns.histplot([subreddit_subscribers[s] for s in srs_all if subreddit_subscribers[s]>0], log_scale=True)\n",
    "# plt.hist([subreddit_subscribers[s] for s in srs_all if subreddit_subscribers[s] > 0])\n",
    "# plt.yscale(\"log\")\n",
    "# plt.xscale(\"log\")\n",
    "plt.ylabel(\"number of subreddits\")\n",
    "plt.xlabel(\"number of subscribers (10^)\")\n",
    "plt.title(\"Subreddits Subscribers\")\n",
    "# log scale for both x and y"
   ]
  },
  {
   "cell_type": "markdown",
   "metadata": {},
   "source": [
    "Which subreddits are the top three?"
   ]
  },
  {
   "cell_type": "code",
   "execution_count": 156,
   "metadata": {},
   "outputs": [
    {
     "name": "stdout",
     "output_type": "stream",
     "text": [
      "[('funny', 31060166), ('gaming', 26628444), ('aww', 25197817)]\n"
     ]
    }
   ],
   "source": [
    "print([(s,subreddit_subscribers[s]) for s in srs_all if subreddit_subscribers[s]>25000000])"
   ]
  },
  {
   "cell_type": "code",
   "execution_count": 157,
   "metadata": {
    "scrolled": true
   },
   "outputs": [
    {
     "data": {
      "text/plain": [
       "['__doc__',\n",
       " '__loader__',\n",
       " '__name__',\n",
       " '__package__',\n",
       " '__spec__',\n",
       " 'acos',\n",
       " 'acosh',\n",
       " 'asin',\n",
       " 'asinh',\n",
       " 'atan',\n",
       " 'atan2',\n",
       " 'atanh',\n",
       " 'ceil',\n",
       " 'comb',\n",
       " 'copysign',\n",
       " 'cos',\n",
       " 'cosh',\n",
       " 'degrees',\n",
       " 'dist',\n",
       " 'e',\n",
       " 'erf',\n",
       " 'erfc',\n",
       " 'exp',\n",
       " 'expm1',\n",
       " 'fabs',\n",
       " 'factorial',\n",
       " 'floor',\n",
       " 'fmod',\n",
       " 'frexp',\n",
       " 'fsum',\n",
       " 'gamma',\n",
       " 'gcd',\n",
       " 'hypot',\n",
       " 'inf',\n",
       " 'isclose',\n",
       " 'isfinite',\n",
       " 'isinf',\n",
       " 'isnan',\n",
       " 'isqrt',\n",
       " 'ldexp',\n",
       " 'lgamma',\n",
       " 'log',\n",
       " 'log10',\n",
       " 'log1p',\n",
       " 'log2',\n",
       " 'modf',\n",
       " 'nan',\n",
       " 'perm',\n",
       " 'pi',\n",
       " 'pow',\n",
       " 'prod',\n",
       " 'radians',\n",
       " 'remainder',\n",
       " 'sin',\n",
       " 'sinh',\n",
       " 'sqrt',\n",
       " 'tan',\n",
       " 'tanh',\n",
       " 'tau',\n",
       " 'trunc']"
      ]
     },
     "execution_count": 157,
     "metadata": {},
     "output_type": "execute_result"
    }
   ],
   "source": [
    "dir(math)"
   ]
  },
  {
   "cell_type": "code",
   "execution_count": 158,
   "metadata": {},
   "outputs": [
    {
     "data": {
      "text/plain": [
       "25"
      ]
     },
     "execution_count": 158,
     "metadata": {},
     "output_type": "execute_result"
    }
   ],
   "source": [
    "list(subreddit_subscribers.values()).count(None)"
   ]
  },
  {
   "cell_type": "code",
   "execution_count": 159,
   "metadata": {},
   "outputs": [
    {
     "data": {
      "text/plain": [
       "1420.0"
      ]
     },
     "execution_count": 159,
     "metadata": {},
     "output_type": "execute_result"
    }
   ],
   "source": [
    "statistics.median([k for k in list(subreddit_subscribers.values()) if k is not None])"
   ]
  },
  {
   "cell_type": "code",
   "execution_count": 160,
   "metadata": {},
   "outputs": [
    {
     "data": {
      "text/plain": [
       "50070.832184376915"
      ]
     },
     "execution_count": 160,
     "metadata": {},
     "output_type": "execute_result"
    }
   ],
   "source": [
    "statistics.mean([k for k in list(subreddit_subscribers.values()) if k is not None])"
   ]
  },
  {
   "cell_type": "markdown",
   "metadata": {},
   "source": [
    "## Building `ns_repr`\n",
    "\n",
    "Which will be in the form of feature-based matrix, where each row represents a news source, and columns representing subreddits. Each subreddit will be represented by 18 columns: unweighted count, upvote based weighted count, and comment based weighted count for each of the six months that we are interested in."
   ]
  },
  {
   "cell_type": "code",
   "execution_count": 161,
   "metadata": {},
   "outputs": [],
   "source": [
    "srs = srs_all"
   ]
  },
  {
   "cell_type": "code",
   "execution_count": 162,
   "metadata": {},
   "outputs": [
    {
     "data": {
      "text/plain": [
       "{'a': 1, 'b': 1, 'c': 2}"
      ]
     },
     "execution_count": 162,
     "metadata": {},
     "output_type": "execute_result"
    }
   ],
   "source": [
    "a = {\"a\": 1, \"b\": 2}\n",
    "b = {\"b\": 1, \"c\": 2}\n",
    "res = {**a, **b}\n",
    "res"
   ]
  },
  {
   "cell_type": "markdown",
   "metadata": {},
   "source": [
    "For each news source, I create a list of length `(3 * # subreddits)`."
   ]
  },
  {
   "cell_type": "markdown",
   "metadata": {},
   "source": [
    "Old code\n",
    "```\n",
    "# here I will cast the inner dictionaries of ns_subreddits to be Counter so I can avoid a lot of if-else statements\n",
    "files = [ns_subreddit_01, ns_subreddit_02, ns_subreddit_03, ns_subreddit_04, ns_subreddit_05, ns_subreddit_06]\n",
    "for f in files:\n",
    "    for k in f: # k is each news source\n",
    "        for ns in f[k]:\n",
    "            # averaging based on weighted counts\n",
    "            count, upv, comm = f[k][ns]\n",
    "            avg = (upv + comm)/count\n",
    "            f[k][ns] = avg\n",
    "        f[k] = Counter(f[k])\n",
    "```"
   ]
  },
  {
   "cell_type": "code",
   "execution_count": 163,
   "metadata": {},
   "outputs": [],
   "source": [
    "files_sub = [ns_subreddit_01, ns_subreddit_02, ns_subreddit_03, ns_subreddit_04, ns_subreddit_05, ns_subreddit_06]"
   ]
  },
  {
   "cell_type": "code",
   "execution_count": 164,
   "metadata": {},
   "outputs": [
    {
     "data": {
      "text/plain": [
       "266"
      ]
     },
     "execution_count": 164,
     "metadata": {},
     "output_type": "execute_result"
    }
   ],
   "source": [
    "len(non_outlier)"
   ]
  },
  {
   "cell_type": "code",
   "execution_count": 165,
   "metadata": {},
   "outputs": [
    {
     "data": {
      "text/plain": [
       "8451"
      ]
     },
     "execution_count": 165,
     "metadata": {},
     "output_type": "execute_result"
    }
   ],
   "source": [
    "len(srs)"
   ]
  },
  {
   "cell_type": "markdown",
   "metadata": {},
   "source": [
    "I tried and found out that using all 23.7k subreddits results in MemoryError. So I should use less"
   ]
  },
  {
   "cell_type": "code",
   "execution_count": 206,
   "metadata": {},
   "outputs": [],
   "source": [
    "srs = srs_all[:5000]"
   ]
  },
  {
   "cell_type": "code",
   "execution_count": 234,
   "metadata": {
    "scrolled": true
   },
   "outputs": [
    {
     "name": "stdout",
     "output_type": "stream",
     "text": [
      "200\n"
     ]
    }
   ],
   "source": [
    "ns_sr_rep = defaultdict(list)\n",
    "default_counter = Counter() # to avoid a lot of if else statements\n",
    "\n",
    "ncount = 0\n",
    "\n",
    "# for ns in nss:\n",
    "for ns in non_outlier:\n",
    "    # for each news sources, construct the 18*length(subreddits) features\n",
    "    for f in files_sub:\n",
    "        for idx in range(len(srs)):\n",
    "            # making sure the ordering follows `srs` based on subscribers\n",
    "            ns_sr_rep[ns] += f[ns][srs[idx]][1:] if (ns in f and srs[idx] in f[ns]) else [0, 0]\n",
    "    ncount += 1\n",
    "    if ncount%200==0: print(ncount)"
   ]
  },
  {
   "cell_type": "markdown",
   "metadata": {},
   "source": [
    "    code started at 22:56"
   ]
  },
  {
   "cell_type": "markdown",
   "metadata": {},
   "source": [
    "Let's see one example of representation for `nytimes.com`."
   ]
  },
  {
   "cell_type": "code",
   "execution_count": 235,
   "metadata": {},
   "outputs": [
    {
     "data": {
      "text/plain": [
       "60000"
      ]
     },
     "execution_count": 235,
     "metadata": {},
     "output_type": "execute_result"
    }
   ],
   "source": [
    "len(ns_sr_rep['amsterdamnews.com'])"
   ]
  },
  {
   "cell_type": "markdown",
   "metadata": {},
   "source": [
    "Let's investigate the sparsity of our data"
   ]
  },
  {
   "cell_type": "code",
   "execution_count": 236,
   "metadata": {},
   "outputs": [],
   "source": [
    "from numpy import array\n",
    "from numpy import count_nonzero\n",
    "from scipy.sparse import csr_matrix"
   ]
  },
  {
   "cell_type": "code",
   "execution_count": 237,
   "metadata": {},
   "outputs": [],
   "source": [
    "# ns_repr, ns_fixed = np.array([v[1] for v in items]), list([v[0] for v in items]) # this causes memory error\n",
    "## MemoryError: Unable to allocate 15.3 GiB for an array with shape (11436, 180000) and data type float64\n",
    "items = ns_sr_rep.items()\n",
    "ns_repr = np.array([v[1] for v in items])"
   ]
  },
  {
   "cell_type": "code",
   "execution_count": 238,
   "metadata": {},
   "outputs": [],
   "source": [
    "sparsity = 1.0 - np.count_nonzero(ns_repr)/ns_repr.size"
   ]
  },
  {
   "cell_type": "code",
   "execution_count": 239,
   "metadata": {},
   "outputs": [
    {
     "data": {
      "text/plain": [
       "0.9944756265664161"
      ]
     },
     "execution_count": 239,
     "metadata": {},
     "output_type": "execute_result"
    }
   ],
   "source": [
    "sparsity"
   ]
  },
  {
   "cell_type": "markdown",
   "metadata": {},
   "source": [
    "Wow very high sparsity."
   ]
  },
  {
   "cell_type": "code",
   "execution_count": 240,
   "metadata": {
    "scrolled": true
   },
   "outputs": [
    {
     "name": "stdout",
     "output_type": "stream",
     "text": [
      "  (0, 24492)\t1.22\n",
      "  (0, 24493)\t6.0\n",
      "  (0, 24982)\t1.68\n",
      "  (0, 24983)\t8.0\n",
      "  (0, 33258)\t1.34\n",
      "  (0, 33259)\t4.0\n",
      "  (0, 35526)\t1.0\n",
      "  (0, 40716)\t0.3\n",
      "  (0, 40717)\t3.0\n",
      "  (0, 42920)\t0.92\n",
      "  (0, 42921)\t25.0\n",
      "  (0, 45136)\t0.57\n",
      "  (0, 45137)\t2.0\n",
      "  (0, 52920)\t1.0\n",
      "  (0, 52921)\t9.0\n",
      "  (0, 54792)\t1.66\n",
      "  (0, 54793)\t6.0\n",
      "  (0, 58094)\t1.82\n",
      "  (0, 58095)\t6.0\n",
      "  (1, 386)\t0.5\n",
      "  (1, 406)\t0.54\n",
      "  (1, 407)\t2.0\n",
      "  (1, 1068)\t0.62\n",
      "  (1, 1069)\t2.0\n",
      "  (1, 1732)\t0.86\n",
      "  :\t:\n",
      "  (265, 29212)\t0.92\n",
      "  (265, 29213)\t1.0\n",
      "  (265, 33876)\t0.97\n",
      "  (265, 33877)\t88.0\n",
      "  (265, 35262)\t0.84\n",
      "  (265, 35263)\t1.0\n",
      "  (265, 35508)\t0.9\n",
      "  (265, 35509)\t3.0\n",
      "  (265, 38112)\t0.98\n",
      "  (265, 38113)\t25.0\n",
      "  (265, 38688)\t0.98\n",
      "  (265, 38689)\t4.0\n",
      "  (265, 42990)\t1.86\n",
      "  (265, 42991)\t18.0\n",
      "  (265, 44756)\t0.99\n",
      "  (265, 44757)\t5.0\n",
      "  (265, 46054)\t1.34\n",
      "  (265, 46055)\t42.0\n",
      "  (265, 51260)\t1.0\n",
      "  (265, 55152)\t1.0\n",
      "  (265, 55153)\t4.0\n",
      "  (265, 57040)\t0.87\n",
      "  (265, 57041)\t17.0\n",
      "  (265, 58168)\t1.0\n",
      "  (265, 58169)\t11.0\n"
     ]
    }
   ],
   "source": [
    "# convert to sparse matrix (CSR method)\n",
    "S = csr_matrix(ns_repr)\n",
    "print(S)"
   ]
  },
  {
   "cell_type": "markdown",
   "metadata": {},
   "source": [
    "### Now PCA"
   ]
  },
  {
   "cell_type": "code",
   "execution_count": 241,
   "metadata": {},
   "outputs": [],
   "source": [
    "# svd = TruncatedSVD(n_components=len(srs)) #, n_iter=7, random_state=42)\n",
    "svd = PCA(n_components=len(ns_repr))"
   ]
  },
  {
   "cell_type": "code",
   "execution_count": 242,
   "metadata": {},
   "outputs": [
    {
     "data": {
      "text/plain": [
       "PCA(n_components=266)"
      ]
     },
     "execution_count": 242,
     "metadata": {},
     "output_type": "execute_result"
    }
   ],
   "source": [
    "svd.fit(ns_repr)"
   ]
  },
  {
   "cell_type": "code",
   "execution_count": 243,
   "metadata": {},
   "outputs": [],
   "source": [
    "explained_var = svd.explained_variance_ratio_"
   ]
  },
  {
   "cell_type": "code",
   "execution_count": 244,
   "metadata": {},
   "outputs": [
    {
     "data": {
      "text/plain": [
       "266"
      ]
     },
     "execution_count": 244,
     "metadata": {},
     "output_type": "execute_result"
    }
   ],
   "source": [
    "len(explained_var)"
   ]
  },
  {
   "cell_type": "code",
   "execution_count": 245,
   "metadata": {},
   "outputs": [
    {
     "data": {
      "text/plain": [
       "0.9999999999999999"
      ]
     },
     "execution_count": 245,
     "metadata": {},
     "output_type": "execute_result"
    }
   ],
   "source": [
    "svd.explained_variance_ratio_.sum()"
   ]
  },
  {
   "cell_type": "code",
   "execution_count": 246,
   "metadata": {},
   "outputs": [],
   "source": [
    "explained_var_sums = [sum(explained_var[:d]) for d in range(len(ns_repr))]"
   ]
  },
  {
   "cell_type": "code",
   "execution_count": 247,
   "metadata": {},
   "outputs": [
    {
     "name": "stderr",
     "output_type": "stream",
     "text": [
      "c:\\users\\user200803\\appdata\\local\\programs\\python\\python38\\lib\\site-packages\\seaborn\\_decorators.py:36: FutureWarning: Pass the following variables as keyword args: x, y. From version 0.12, the only valid positional argument will be `data`, and passing other arguments without an explicit keyword will result in an error or misinterpretation.\n",
      "  warnings.warn(\n"
     ]
    },
    {
     "data": {
      "text/plain": [
       "<AxesSubplot:>"
      ]
     },
     "execution_count": 247,
     "metadata": {},
     "output_type": "execute_result"
    },
    {
     "data": {
      "image/png": "[encoded data removed]",
      "text/plain": [
       "<Figure size 432x288 with 1 Axes>"
      ]
     },
     "metadata": {},
     "output_type": "display_data"
    }
   ],
   "source": [
    "sns.lineplot(range(len(explained_var_sums)), explained_var_sums)"
   ]
  },
  {
   "cell_type": "markdown",
   "metadata": {},
   "source": [
    "Now, I will cast those list representation values to be numpy arrays so I can preprocess them easily. Further, I will normalize each array."
   ]
  },
  {
   "cell_type": "markdown",
   "metadata": {},
   "source": [
    "*side note: `preprocessing.normalize` vs `standardscaler`*"
   ]
  },
  {
   "cell_type": "code",
   "execution_count": 160,
   "metadata": {},
   "outputs": [
    {
     "data": {
      "text/plain": [
       "array([[0.00999301, 0.99930073, 0.01998601, 0.02997902]])"
      ]
     },
     "execution_count": 160,
     "metadata": {},
     "output_type": "execute_result"
    }
   ],
   "source": [
    "preprocessing.normalize(np.array([[1,100,2,3]]))"
   ]
  },
  {
   "cell_type": "code",
   "execution_count": 161,
   "metadata": {},
   "outputs": [
    {
     "data": {
      "text/plain": [
       "array([[0., 0., 0., 0.]])"
      ]
     },
     "execution_count": 161,
     "metadata": {},
     "output_type": "execute_result"
    }
   ],
   "source": [
    "scaler = StandardScaler()\n",
    "scaler.fit_transform(np.array([[1,100,2,3]]))"
   ]
  },
  {
   "cell_type": "markdown",
   "metadata": {},
   "source": [
    "Now I'm thinking, should I *normalize* or *standardize*?"
   ]
  },
  {
   "cell_type": "code",
   "execution_count": 162,
   "metadata": {},
   "outputs": [],
   "source": [
    "# for ns in ns_sr_rep:\n",
    "#     rep = ns_sr_rep[ns]\n",
    "#     ns_sr_rep[ns] = preprocessing.normalize(np.array([rep]))"
   ]
  },
  {
   "cell_type": "markdown",
   "metadata": {},
   "source": [
    "## K-Means\n",
    "\n",
    "Without standardization.\n",
    "\n",
    "First, I need to find optimum `k`."
   ]
  },
  {
   "cell_type": "code",
   "execution_count": 163,
   "metadata": {},
   "outputs": [],
   "source": [
    "kmeans = KMeans(init = \"k-means++\",\n",
    "               n_clusters = 5,\n",
    "               n_init = 10,\n",
    "               max_iter = 100)"
   ]
  },
  {
   "cell_type": "markdown",
   "metadata": {},
   "source": [
    "Freezing the list for representations and the news sources."
   ]
  },
  {
   "cell_type": "code",
   "execution_count": 166,
   "metadata": {},
   "outputs": [
    {
     "data": {
      "text/plain": [
       "KMeans(max_iter=100, n_clusters=5)"
      ]
     },
     "execution_count": 166,
     "metadata": {},
     "output_type": "execute_result"
    }
   ],
   "source": [
    "kmeans.fit([v for v in ns_sr_rep.values()])"
   ]
  },
  {
   "cell_type": "code",
   "execution_count": 167,
   "metadata": {},
   "outputs": [
    {
     "name": "stdout",
     "output_type": "stream",
     "text": [
      "True\n"
     ]
    }
   ],
   "source": [
    "for i,ns in enumerate(ns_fixed):\n",
    "    if (ns_sr_rep[ns] == ns_repr[i]).all():\n",
    "        pass\n",
    "    else:\n",
    "        print(\"False\")\n",
    "print(\"True\")"
   ]
  },
  {
   "cell_type": "code",
   "execution_count": 168,
   "metadata": {},
   "outputs": [
    {
     "data": {
      "text/plain": [
       "9826851082.529928"
      ]
     },
     "execution_count": 168,
     "metadata": {},
     "output_type": "execute_result"
    }
   ],
   "source": [
    "kmeans.inertia_"
   ]
  },
  {
   "cell_type": "code",
   "execution_count": 169,
   "metadata": {
    "scrolled": true
   },
   "outputs": [
    {
     "data": {
      "text/plain": [
       "6"
      ]
     },
     "execution_count": 169,
     "metadata": {},
     "output_type": "execute_result"
    }
   ],
   "source": [
    "kmeans.n_iter_"
   ]
  },
  {
   "cell_type": "code",
   "execution_count": 170,
   "metadata": {
    "scrolled": true
   },
   "outputs": [
    {
     "data": {
      "text/plain": [
       "Counter({0: 11357, 1: 12, 4: 63, 3: 1, 2: 3})"
      ]
     },
     "execution_count": 170,
     "metadata": {},
     "output_type": "execute_result"
    }
   ],
   "source": [
    "Counter(kmeans.labels_)"
   ]
  },
  {
   "cell_type": "markdown",
   "metadata": {},
   "source": [
    "**Choosing the appropriate number of clusters**"
   ]
  },
  {
   "cell_type": "markdown",
   "metadata": {},
   "source": [
    "1. Elbow method"
   ]
  },
  {
   "cell_type": "code",
   "execution_count": 171,
   "metadata": {},
   "outputs": [],
   "source": [
    "kmeans_kwargs = {\n",
    "    \"init\": \"random\",\n",
    "    \"n_init\": 10,\n",
    "    \"max_iter\": 300,\n",
    "    \"random_state\": 360\n",
    "}"
   ]
  },
  {
   "cell_type": "code",
   "execution_count": 172,
   "metadata": {
    "scrolled": true
   },
   "outputs": [
    {
     "name": "stdout",
     "output_type": "stream",
     "text": [
      "have done 1 rounds, current sse is [23449436924.745914]\n",
      "have done 2 rounds, current sse is [23449436924.745914, 16403619369.069223]\n",
      "have done 3 rounds, current sse is [23449436924.745914, 16403619369.069223, 14601469660.918112]\n",
      "have done 4 rounds, current sse is [23449436924.745914, 16403619369.069223, 14601469660.918112, 12545894031.450285]\n",
      "have done 5 rounds, current sse is [23449436924.745914, 16403619369.069223, 14601469660.918112, 12545894031.450285, 11272340605.480078]\n",
      "have done 6 rounds, current sse is [23449436924.745914, 16403619369.069223, 14601469660.918112, 12545894031.450285, 11272340605.480078, 9206299986.068668]\n",
      "have done 7 rounds, current sse is [23449436924.745914, 16403619369.069223, 14601469660.918112, 12545894031.450285, 11272340605.480078, 9206299986.068668, 8944935005.953146]\n",
      "have done 8 rounds, current sse is [23449436924.745914, 16403619369.069223, 14601469660.918112, 12545894031.450285, 11272340605.480078, 9206299986.068668, 8944935005.953146, 8371371167.842005]\n",
      "have done 9 rounds, current sse is [23449436924.745914, 16403619369.069223, 14601469660.918112, 12545894031.450285, 11272340605.480078, 9206299986.068668, 8944935005.953146, 8371371167.842005, 7697802761.991763]\n",
      "have done 10 rounds, current sse is [23449436924.745914, 16403619369.069223, 14601469660.918112, 12545894031.450285, 11272340605.480078, 9206299986.068668, 8944935005.953146, 8371371167.842005, 7697802761.991763, 7439467031.309094]\n",
      "have done 11 rounds, current sse is [23449436924.745914, 16403619369.069223, 14601469660.918112, 12545894031.450285, 11272340605.480078, 9206299986.068668, 8944935005.953146, 8371371167.842005, 7697802761.991763, 7439467031.309094, 6909310699.419428]\n",
      "have done 12 rounds, current sse is [23449436924.745914, 16403619369.069223, 14601469660.918112, 12545894031.450285, 11272340605.480078, 9206299986.068668, 8944935005.953146, 8371371167.842005, 7697802761.991763, 7439467031.309094, 6909310699.419428, 6654306963.26893]\n",
      "have done 13 rounds, current sse is [23449436924.745914, 16403619369.069223, 14601469660.918112, 12545894031.450285, 11272340605.480078, 9206299986.068668, 8944935005.953146, 8371371167.842005, 7697802761.991763, 7439467031.309094, 6909310699.419428, 6654306963.26893, 6460188757.661017]\n",
      "have done 14 rounds, current sse is [23449436924.745914, 16403619369.069223, 14601469660.918112, 12545894031.450285, 11272340605.480078, 9206299986.068668, 8944935005.953146, 8371371167.842005, 7697802761.991763, 7439467031.309094, 6909310699.419428, 6654306963.26893, 6460188757.661017, 6276347552.998721]\n",
      "have done 15 rounds, current sse is [23449436924.745914, 16403619369.069223, 14601469660.918112, 12545894031.450285, 11272340605.480078, 9206299986.068668, 8944935005.953146, 8371371167.842005, 7697802761.991763, 7439467031.309094, 6909310699.419428, 6654306963.26893, 6460188757.661017, 6276347552.998721, 5979781661.205648]\n",
      "have done 16 rounds, current sse is [23449436924.745914, 16403619369.069223, 14601469660.918112, 12545894031.450285, 11272340605.480078, 9206299986.068668, 8944935005.953146, 8371371167.842005, 7697802761.991763, 7439467031.309094, 6909310699.419428, 6654306963.26893, 6460188757.661017, 6276347552.998721, 5979781661.205648, 5881229904.03242]\n",
      "have done 17 rounds, current sse is [23449436924.745914, 16403619369.069223, 14601469660.918112, 12545894031.450285, 11272340605.480078, 9206299986.068668, 8944935005.953146, 8371371167.842005, 7697802761.991763, 7439467031.309094, 6909310699.419428, 6654306963.26893, 6460188757.661017, 6276347552.998721, 5979781661.205648, 5881229904.03242, 5676602292.103157]\n",
      "have done 18 rounds, current sse is [23449436924.745914, 16403619369.069223, 14601469660.918112, 12545894031.450285, 11272340605.480078, 9206299986.068668, 8944935005.953146, 8371371167.842005, 7697802761.991763, 7439467031.309094, 6909310699.419428, 6654306963.26893, 6460188757.661017, 6276347552.998721, 5979781661.205648, 5881229904.03242, 5676602292.103157, 5656836846.585837]\n",
      "have done 19 rounds, current sse is [23449436924.745914, 16403619369.069223, 14601469660.918112, 12545894031.450285, 11272340605.480078, 9206299986.068668, 8944935005.953146, 8371371167.842005, 7697802761.991763, 7439467031.309094, 6909310699.419428, 6654306963.26893, 6460188757.661017, 6276347552.998721, 5979781661.205648, 5881229904.03242, 5676602292.103157, 5656836846.585837, 5538944833.53924]\n"
     ]
    }
   ],
   "source": [
    "sse = []\n",
    "for k in range(1,20):\n",
    "    kmeans = KMeans(n_clusters = k, **kmeans_kwargs)\n",
    "    kmeans.fit(ns_repr)\n",
    "    sse.append(kmeans.inertia_)\n",
    "    print(f\"have done {k} rounds, current sse is {sse}\")"
   ]
  },
  {
   "cell_type": "code",
   "execution_count": 173,
   "metadata": {
    "scrolled": true
   },
   "outputs": [
    {
     "data": {
      "text/plain": [
       "[<matplotlib.lines.Line2D at 0x269d14115e0>]"
      ]
     },
     "execution_count": 173,
     "metadata": {},
     "output_type": "execute_result"
    },
    {
     "data": {
      "image/png": "[encoded data removed]",
      "text/plain": [
       "<Figure size 432x288 with 1 Axes>"
      ]
     },
     "metadata": {},
     "output_type": "display_data"
    }
   ],
   "source": [
    "plt.plot(range(1,20),sse,\"go-\")"
   ]
  },
  {
   "cell_type": "code",
   "execution_count": 174,
   "metadata": {
    "scrolled": true
   },
   "outputs": [
    {
     "name": "stdout",
     "output_type": "stream",
     "text": [
      "have done 20 rounds, current sse is [23449436924.745914, 16403619369.069223, 14601469660.918112, 12545894031.450285, 11272340605.480078, 9206299986.068668, 8944935005.953146, 8371371167.842005, 7697802761.991763, 7439467031.309094, 6909310699.419428, 6654306963.26893, 6460188757.661017, 6276347552.998721, 5979781661.205648, 5881229904.03242, 5676602292.103157, 5656836846.585837, 5538944833.53924, 5264175921.681719]\n",
      "have done 21 rounds, current sse is [23449436924.745914, 16403619369.069223, 14601469660.918112, 12545894031.450285, 11272340605.480078, 9206299986.068668, 8944935005.953146, 8371371167.842005, 7697802761.991763, 7439467031.309094, 6909310699.419428, 6654306963.26893, 6460188757.661017, 6276347552.998721, 5979781661.205648, 5881229904.03242, 5676602292.103157, 5656836846.585837, 5538944833.53924, 5264175921.681719, 5177587995.900417]\n",
      "have done 22 rounds, current sse is [23449436924.745914, 16403619369.069223, 14601469660.918112, 12545894031.450285, 11272340605.480078, 9206299986.068668, 8944935005.953146, 8371371167.842005, 7697802761.991763, 7439467031.309094, 6909310699.419428, 6654306963.26893, 6460188757.661017, 6276347552.998721, 5979781661.205648, 5881229904.03242, 5676602292.103157, 5656836846.585837, 5538944833.53924, 5264175921.681719, 5177587995.900417, 5076006046.41951]\n",
      "have done 23 rounds, current sse is [23449436924.745914, 16403619369.069223, 14601469660.918112, 12545894031.450285, 11272340605.480078, 9206299986.068668, 8944935005.953146, 8371371167.842005, 7697802761.991763, 7439467031.309094, 6909310699.419428, 6654306963.26893, 6460188757.661017, 6276347552.998721, 5979781661.205648, 5881229904.03242, 5676602292.103157, 5656836846.585837, 5538944833.53924, 5264175921.681719, 5177587995.900417, 5076006046.41951, 5026174131.257136]\n",
      "have done 24 rounds, current sse is [23449436924.745914, 16403619369.069223, 14601469660.918112, 12545894031.450285, 11272340605.480078, 9206299986.068668, 8944935005.953146, 8371371167.842005, 7697802761.991763, 7439467031.309094, 6909310699.419428, 6654306963.26893, 6460188757.661017, 6276347552.998721, 5979781661.205648, 5881229904.03242, 5676602292.103157, 5656836846.585837, 5538944833.53924, 5264175921.681719, 5177587995.900417, 5076006046.41951, 5026174131.257136, 4901619684.296674]\n",
      "have done 25 rounds, current sse is [23449436924.745914, 16403619369.069223, 14601469660.918112, 12545894031.450285, 11272340605.480078, 9206299986.068668, 8944935005.953146, 8371371167.842005, 7697802761.991763, 7439467031.309094, 6909310699.419428, 6654306963.26893, 6460188757.661017, 6276347552.998721, 5979781661.205648, 5881229904.03242, 5676602292.103157, 5656836846.585837, 5538944833.53924, 5264175921.681719, 5177587995.900417, 5076006046.41951, 5026174131.257136, 4901619684.296674, 4882122799.429097]\n",
      "have done 26 rounds, current sse is [23449436924.745914, 16403619369.069223, 14601469660.918112, 12545894031.450285, 11272340605.480078, 9206299986.068668, 8944935005.953146, 8371371167.842005, 7697802761.991763, 7439467031.309094, 6909310699.419428, 6654306963.26893, 6460188757.661017, 6276347552.998721, 5979781661.205648, 5881229904.03242, 5676602292.103157, 5656836846.585837, 5538944833.53924, 5264175921.681719, 5177587995.900417, 5076006046.41951, 5026174131.257136, 4901619684.296674, 4882122799.429097, 4832986116.720473]\n",
      "have done 27 rounds, current sse is [23449436924.745914, 16403619369.069223, 14601469660.918112, 12545894031.450285, 11272340605.480078, 9206299986.068668, 8944935005.953146, 8371371167.842005, 7697802761.991763, 7439467031.309094, 6909310699.419428, 6654306963.26893, 6460188757.661017, 6276347552.998721, 5979781661.205648, 5881229904.03242, 5676602292.103157, 5656836846.585837, 5538944833.53924, 5264175921.681719, 5177587995.900417, 5076006046.41951, 5026174131.257136, 4901619684.296674, 4882122799.429097, 4832986116.720473, 4710014917.251001]\n",
      "have done 28 rounds, current sse is [23449436924.745914, 16403619369.069223, 14601469660.918112, 12545894031.450285, 11272340605.480078, 9206299986.068668, 8944935005.953146, 8371371167.842005, 7697802761.991763, 7439467031.309094, 6909310699.419428, 6654306963.26893, 6460188757.661017, 6276347552.998721, 5979781661.205648, 5881229904.03242, 5676602292.103157, 5656836846.585837, 5538944833.53924, 5264175921.681719, 5177587995.900417, 5076006046.41951, 5026174131.257136, 4901619684.296674, 4882122799.429097, 4832986116.720473, 4710014917.251001, 4690824268.634267]\n",
      "have done 29 rounds, current sse is [23449436924.745914, 16403619369.069223, 14601469660.918112, 12545894031.450285, 11272340605.480078, 9206299986.068668, 8944935005.953146, 8371371167.842005, 7697802761.991763, 7439467031.309094, 6909310699.419428, 6654306963.26893, 6460188757.661017, 6276347552.998721, 5979781661.205648, 5881229904.03242, 5676602292.103157, 5656836846.585837, 5538944833.53924, 5264175921.681719, 5177587995.900417, 5076006046.41951, 5026174131.257136, 4901619684.296674, 4882122799.429097, 4832986116.720473, 4710014917.251001, 4690824268.634267, 4586651962.452597]\n",
      "have done 30 rounds, current sse is [23449436924.745914, 16403619369.069223, 14601469660.918112, 12545894031.450285, 11272340605.480078, 9206299986.068668, 8944935005.953146, 8371371167.842005, 7697802761.991763, 7439467031.309094, 6909310699.419428, 6654306963.26893, 6460188757.661017, 6276347552.998721, 5979781661.205648, 5881229904.03242, 5676602292.103157, 5656836846.585837, 5538944833.53924, 5264175921.681719, 5177587995.900417, 5076006046.41951, 5026174131.257136, 4901619684.296674, 4882122799.429097, 4832986116.720473, 4710014917.251001, 4690824268.634267, 4586651962.452597, 4418465371.553158]\n",
      "have done 31 rounds, current sse is [23449436924.745914, 16403619369.069223, 14601469660.918112, 12545894031.450285, 11272340605.480078, 9206299986.068668, 8944935005.953146, 8371371167.842005, 7697802761.991763, 7439467031.309094, 6909310699.419428, 6654306963.26893, 6460188757.661017, 6276347552.998721, 5979781661.205648, 5881229904.03242, 5676602292.103157, 5656836846.585837, 5538944833.53924, 5264175921.681719, 5177587995.900417, 5076006046.41951, 5026174131.257136, 4901619684.296674, 4882122799.429097, 4832986116.720473, 4710014917.251001, 4690824268.634267, 4586651962.452597, 4418465371.553158, 4423859659.081299]\n",
      "have done 32 rounds, current sse is [23449436924.745914, 16403619369.069223, 14601469660.918112, 12545894031.450285, 11272340605.480078, 9206299986.068668, 8944935005.953146, 8371371167.842005, 7697802761.991763, 7439467031.309094, 6909310699.419428, 6654306963.26893, 6460188757.661017, 6276347552.998721, 5979781661.205648, 5881229904.03242, 5676602292.103157, 5656836846.585837, 5538944833.53924, 5264175921.681719, 5177587995.900417, 5076006046.41951, 5026174131.257136, 4901619684.296674, 4882122799.429097, 4832986116.720473, 4710014917.251001, 4690824268.634267, 4586651962.452597, 4418465371.553158, 4423859659.081299, 4339081133.524831]\n",
      "have done 33 rounds, current sse is [23449436924.745914, 16403619369.069223, 14601469660.918112, 12545894031.450285, 11272340605.480078, 9206299986.068668, 8944935005.953146, 8371371167.842005, 7697802761.991763, 7439467031.309094, 6909310699.419428, 6654306963.26893, 6460188757.661017, 6276347552.998721, 5979781661.205648, 5881229904.03242, 5676602292.103157, 5656836846.585837, 5538944833.53924, 5264175921.681719, 5177587995.900417, 5076006046.41951, 5026174131.257136, 4901619684.296674, 4882122799.429097, 4832986116.720473, 4710014917.251001, 4690824268.634267, 4586651962.452597, 4418465371.553158, 4423859659.081299, 4339081133.524831, 4264385831.917897]\n",
      "have done 34 rounds, current sse is [23449436924.745914, 16403619369.069223, 14601469660.918112, 12545894031.450285, 11272340605.480078, 9206299986.068668, 8944935005.953146, 8371371167.842005, 7697802761.991763, 7439467031.309094, 6909310699.419428, 6654306963.26893, 6460188757.661017, 6276347552.998721, 5979781661.205648, 5881229904.03242, 5676602292.103157, 5656836846.585837, 5538944833.53924, 5264175921.681719, 5177587995.900417, 5076006046.41951, 5026174131.257136, 4901619684.296674, 4882122799.429097, 4832986116.720473, 4710014917.251001, 4690824268.634267, 4586651962.452597, 4418465371.553158, 4423859659.081299, 4339081133.524831, 4264385831.917897, 4239911818.1692686]\n"
     ]
    },
    {
     "name": "stdout",
     "output_type": "stream",
     "text": [
      "have done 35 rounds, current sse is [23449436924.745914, 16403619369.069223, 14601469660.918112, 12545894031.450285, 11272340605.480078, 9206299986.068668, 8944935005.953146, 8371371167.842005, 7697802761.991763, 7439467031.309094, 6909310699.419428, 6654306963.26893, 6460188757.661017, 6276347552.998721, 5979781661.205648, 5881229904.03242, 5676602292.103157, 5656836846.585837, 5538944833.53924, 5264175921.681719, 5177587995.900417, 5076006046.41951, 5026174131.257136, 4901619684.296674, 4882122799.429097, 4832986116.720473, 4710014917.251001, 4690824268.634267, 4586651962.452597, 4418465371.553158, 4423859659.081299, 4339081133.524831, 4264385831.917897, 4239911818.1692686, 4098709969.3477373]\n",
      "have done 36 rounds, current sse is [23449436924.745914, 16403619369.069223, 14601469660.918112, 12545894031.450285, 11272340605.480078, 9206299986.068668, 8944935005.953146, 8371371167.842005, 7697802761.991763, 7439467031.309094, 6909310699.419428, 6654306963.26893, 6460188757.661017, 6276347552.998721, 5979781661.205648, 5881229904.03242, 5676602292.103157, 5656836846.585837, 5538944833.53924, 5264175921.681719, 5177587995.900417, 5076006046.41951, 5026174131.257136, 4901619684.296674, 4882122799.429097, 4832986116.720473, 4710014917.251001, 4690824268.634267, 4586651962.452597, 4418465371.553158, 4423859659.081299, 4339081133.524831, 4264385831.917897, 4239911818.1692686, 4098709969.3477373, 4063807106.733817]\n",
      "have done 37 rounds, current sse is [23449436924.745914, 16403619369.069223, 14601469660.918112, 12545894031.450285, 11272340605.480078, 9206299986.068668, 8944935005.953146, 8371371167.842005, 7697802761.991763, 7439467031.309094, 6909310699.419428, 6654306963.26893, 6460188757.661017, 6276347552.998721, 5979781661.205648, 5881229904.03242, 5676602292.103157, 5656836846.585837, 5538944833.53924, 5264175921.681719, 5177587995.900417, 5076006046.41951, 5026174131.257136, 4901619684.296674, 4882122799.429097, 4832986116.720473, 4710014917.251001, 4690824268.634267, 4586651962.452597, 4418465371.553158, 4423859659.081299, 4339081133.524831, 4264385831.917897, 4239911818.1692686, 4098709969.3477373, 4063807106.733817, 4032032019.301513]\n",
      "have done 38 rounds, current sse is [23449436924.745914, 16403619369.069223, 14601469660.918112, 12545894031.450285, 11272340605.480078, 9206299986.068668, 8944935005.953146, 8371371167.842005, 7697802761.991763, 7439467031.309094, 6909310699.419428, 6654306963.26893, 6460188757.661017, 6276347552.998721, 5979781661.205648, 5881229904.03242, 5676602292.103157, 5656836846.585837, 5538944833.53924, 5264175921.681719, 5177587995.900417, 5076006046.41951, 5026174131.257136, 4901619684.296674, 4882122799.429097, 4832986116.720473, 4710014917.251001, 4690824268.634267, 4586651962.452597, 4418465371.553158, 4423859659.081299, 4339081133.524831, 4264385831.917897, 4239911818.1692686, 4098709969.3477373, 4063807106.733817, 4032032019.301513, 3977593916.4872518]\n",
      "have done 39 rounds, current sse is [23449436924.745914, 16403619369.069223, 14601469660.918112, 12545894031.450285, 11272340605.480078, 9206299986.068668, 8944935005.953146, 8371371167.842005, 7697802761.991763, 7439467031.309094, 6909310699.419428, 6654306963.26893, 6460188757.661017, 6276347552.998721, 5979781661.205648, 5881229904.03242, 5676602292.103157, 5656836846.585837, 5538944833.53924, 5264175921.681719, 5177587995.900417, 5076006046.41951, 5026174131.257136, 4901619684.296674, 4882122799.429097, 4832986116.720473, 4710014917.251001, 4690824268.634267, 4586651962.452597, 4418465371.553158, 4423859659.081299, 4339081133.524831, 4264385831.917897, 4239911818.1692686, 4098709969.3477373, 4063807106.733817, 4032032019.301513, 3977593916.4872518, 3978783864.394721]\n",
      "have done 40 rounds, current sse is [23449436924.745914, 16403619369.069223, 14601469660.918112, 12545894031.450285, 11272340605.480078, 9206299986.068668, 8944935005.953146, 8371371167.842005, 7697802761.991763, 7439467031.309094, 6909310699.419428, 6654306963.26893, 6460188757.661017, 6276347552.998721, 5979781661.205648, 5881229904.03242, 5676602292.103157, 5656836846.585837, 5538944833.53924, 5264175921.681719, 5177587995.900417, 5076006046.41951, 5026174131.257136, 4901619684.296674, 4882122799.429097, 4832986116.720473, 4710014917.251001, 4690824268.634267, 4586651962.452597, 4418465371.553158, 4423859659.081299, 4339081133.524831, 4264385831.917897, 4239911818.1692686, 4098709969.3477373, 4063807106.733817, 4032032019.301513, 3977593916.4872518, 3978783864.394721, 4017545426.514995]\n"
     ]
    }
   ],
   "source": [
    "for k in range(20,41):\n",
    "    kmeans = KMeans(n_clusters = k, **kmeans_kwargs)\n",
    "    kmeans.fit(ns_repr)\n",
    "    sse.append(kmeans.inertia_)\n",
    "    print(f\"have done {k} rounds, current sse is {sse}\")"
   ]
  },
  {
   "cell_type": "code",
   "execution_count": 175,
   "metadata": {
    "scrolled": true
   },
   "outputs": [
    {
     "data": {
      "text/plain": [
       "[<matplotlib.lines.Line2D at 0x269bb048670>]"
      ]
     },
     "execution_count": 175,
     "metadata": {},
     "output_type": "execute_result"
    },
    {
     "data": {
      "image/png": "[encoded data removed]",
      "text/plain": [
       "<Figure size 432x288 with 1 Axes>"
      ]
     },
     "metadata": {},
     "output_type": "display_data"
    }
   ],
   "source": [
    "plt.plot(range(1,41),sse,\"go-\")"
   ]
  },
  {
   "cell_type": "code",
   "execution_count": 176,
   "metadata": {},
   "outputs": [],
   "source": [
    "kl = KneeLocator(range(1,41), sse, curve=\"convex\", direction=\"decreasing\")"
   ]
  },
  {
   "cell_type": "code",
   "execution_count": 177,
   "metadata": {},
   "outputs": [
    {
     "data": {
      "text/plain": [
       "11"
      ]
     },
     "execution_count": 177,
     "metadata": {},
     "output_type": "execute_result"
    }
   ],
   "source": [
    "kl.elbow"
   ]
  },
  {
   "cell_type": "markdown",
   "metadata": {},
   "source": [
    "**Using Silhouette Coefficient**"
   ]
  },
  {
   "cell_type": "code",
   "execution_count": 178,
   "metadata": {
    "scrolled": true
   },
   "outputs": [
    {
     "name": "stdout",
     "output_type": "stream",
     "text": [
      "step 2\n",
      "step 3\n",
      "step 4\n",
      "step 5\n",
      "step 6\n",
      "step 7\n",
      "step 8\n",
      "step 9\n",
      "step 10\n",
      "step 11\n",
      "step 12\n",
      "step 13\n",
      "step 14\n",
      "step 15\n",
      "step 16\n",
      "step 17\n",
      "step 18\n",
      "step 19\n",
      "step 20\n",
      "step 21\n",
      "step 22\n",
      "step 23\n",
      "step 24\n",
      "step 25\n",
      "step 26\n",
      "step 27\n",
      "step 28\n",
      "step 29\n"
     ]
    }
   ],
   "source": [
    "sc = []\n",
    "new_sse = []\n",
    "for k in range(2,30):\n",
    "    kmeans = KMeans(n_clusters = k, **kmeans_kwargs)\n",
    "    kmeans.fit(ns_repr)\n",
    "    score = silhouette_score(ns_repr, kmeans.labels_)\n",
    "    sc.append(score)\n",
    "    new_sse.append(kmeans.inertia_)\n",
    "    print(\"step {}\".format(k))"
   ]
  },
  {
   "cell_type": "code",
   "execution_count": 180,
   "metadata": {
    "scrolled": true
   },
   "outputs": [
    {
     "data": {
      "text/plain": [
       "[<matplotlib.lines.Line2D at 0x26988fa0130>]"
      ]
     },
     "execution_count": 180,
     "metadata": {},
     "output_type": "execute_result"
    },
    {
     "data": {
      "image/png": "[encoded data removed]",
      "text/plain": [
       "<Figure size 432x288 with 1 Axes>"
      ]
     },
     "metadata": {},
     "output_type": "display_data"
    }
   ],
   "source": [
    "# for sse\n",
    "plt.plot(range(2,30), new_sse, \"go-\")"
   ]
  },
  {
   "cell_type": "code",
   "execution_count": 181,
   "metadata": {
    "scrolled": true
   },
   "outputs": [
    {
     "data": {
      "text/plain": [
       "11"
      ]
     },
     "execution_count": 181,
     "metadata": {},
     "output_type": "execute_result"
    }
   ],
   "source": [
    "kl_new = KneeLocator(range(2,30), new_sse, curve=\"convex\", direction=\"decreasing\")\n",
    "kl_new.elbow"
   ]
  },
  {
   "cell_type": "code",
   "execution_count": 182,
   "metadata": {
    "scrolled": true
   },
   "outputs": [
    {
     "data": {
      "text/plain": [
       "[<matplotlib.lines.Line2D at 0x26988b6f4c0>]"
      ]
     },
     "execution_count": 182,
     "metadata": {},
     "output_type": "execute_result"
    },
    {
     "data": {
      "image/png": "[encoded data removed]",
      "text/plain": [
       "<Figure size 432x288 with 1 Axes>"
      ]
     },
     "metadata": {},
     "output_type": "display_data"
    }
   ],
   "source": [
    "# for silhouette coefficient\n",
    "plt.plot(range(2,30), sc, \"bo-\")"
   ]
  },
  {
   "cell_type": "code",
   "execution_count": 184,
   "metadata": {
    "scrolled": true
   },
   "outputs": [
    {
     "data": {
      "text/plain": [
       "[<matplotlib.lines.Line2D at 0x26988c34490>]"
      ]
     },
     "execution_count": 184,
     "metadata": {},
     "output_type": "execute_result"
    },
    {
     "data": {
      "image/png": "[encoded data removed]",
      "text/plain": [
       "<Figure size 432x288 with 1 Axes>"
      ]
     },
     "metadata": {},
     "output_type": "display_data"
    }
   ],
   "source": [
    "\n",
    "\n",
    "spl = make_interp_spline(range(2,30), sc, k=3)  # type: BSpline\n",
    "\n",
    "xs = np.linspace(2, 30, 6)\n",
    "ys = spl(xs)\n",
    "\n",
    "plt.plot(range(2,30), sc, \"go--\")\n",
    "plt.plot(xs, ys, \"b-\")"
   ]
  },
  {
   "cell_type": "markdown",
   "metadata": {},
   "source": [
    "Let's choose k = 10"
   ]
  },
  {
   "cell_type": "code",
   "execution_count": 185,
   "metadata": {
    "scrolled": true
   },
   "outputs": [
    {
     "data": {
      "text/plain": [
       "KMeans(max_iter=500, n_init=50, random_state=360)"
      ]
     },
     "execution_count": 185,
     "metadata": {},
     "output_type": "execute_result"
    }
   ],
   "source": [
    "kmeans = KMeans(n_clusters = 8, init=\"k-means++\", n_init = 50, max_iter = 500, random_state = 360)\n",
    "kmeans.fit(ns_repr)"
   ]
  },
  {
   "cell_type": "code",
   "execution_count": 68,
   "metadata": {
    "collapsed": true
   },
   "outputs": [
    {
     "data": {
      "text/plain": [
       "['__class__',\n",
       " '__delattr__',\n",
       " '__dict__',\n",
       " '__dir__',\n",
       " '__doc__',\n",
       " '__eq__',\n",
       " '__format__',\n",
       " '__ge__',\n",
       " '__getattribute__',\n",
       " '__getstate__',\n",
       " '__gt__',\n",
       " '__hash__',\n",
       " '__init__',\n",
       " '__init_subclass__',\n",
       " '__le__',\n",
       " '__lt__',\n",
       " '__module__',\n",
       " '__ne__',\n",
       " '__new__',\n",
       " '__reduce__',\n",
       " '__reduce_ex__',\n",
       " '__repr__',\n",
       " '__setattr__',\n",
       " '__setstate__',\n",
       " '__sizeof__',\n",
       " '__str__',\n",
       " '__subclasshook__',\n",
       " '__weakref__',\n",
       " '_algorithm',\n",
       " '_check_feature_names',\n",
       " '_check_mkl_vcomp',\n",
       " '_check_n_features',\n",
       " '_check_params',\n",
       " '_check_test_data',\n",
       " '_estimator_type',\n",
       " '_get_param_names',\n",
       " '_get_tags',\n",
       " '_init_centroids',\n",
       " '_more_tags',\n",
       " '_n_init',\n",
       " '_n_threads',\n",
       " '_repr_html_',\n",
       " '_repr_html_inner',\n",
       " '_repr_mimebundle_',\n",
       " '_tol',\n",
       " '_transform',\n",
       " '_validate_center_shape',\n",
       " '_validate_data',\n",
       " 'algorithm',\n",
       " 'cluster_centers_',\n",
       " 'copy_x',\n",
       " 'fit',\n",
       " 'fit_predict',\n",
       " 'fit_transform',\n",
       " 'get_params',\n",
       " 'inertia_',\n",
       " 'init',\n",
       " 'labels_',\n",
       " 'max_iter',\n",
       " 'n_clusters',\n",
       " 'n_features_in_',\n",
       " 'n_init',\n",
       " 'n_iter_',\n",
       " 'predict',\n",
       " 'random_state',\n",
       " 'score',\n",
       " 'set_params',\n",
       " 'tol',\n",
       " 'transform',\n",
       " 'verbose']"
      ]
     },
     "execution_count": 68,
     "metadata": {},
     "output_type": "execute_result"
    }
   ],
   "source": [
    "dir(kmeans)"
   ]
  },
  {
   "cell_type": "code",
   "execution_count": 186,
   "metadata": {},
   "outputs": [
    {
     "data": {
      "text/plain": [
       "array([7, 7, 7, ..., 7, 7, 7])"
      ]
     },
     "execution_count": 186,
     "metadata": {},
     "output_type": "execute_result"
    }
   ],
   "source": [
    "kmeans.labels_"
   ]
  },
  {
   "cell_type": "code",
   "execution_count": 187,
   "metadata": {
    "scrolled": true
   },
   "outputs": [
    {
     "data": {
      "text/plain": [
       "{0, 1, 2, 3, 4, 5, 6, 7}"
      ]
     },
     "execution_count": 187,
     "metadata": {},
     "output_type": "execute_result"
    }
   ],
   "source": [
    "set(kmeans.labels_)"
   ]
  },
  {
   "cell_type": "code",
   "execution_count": 188,
   "metadata": {},
   "outputs": [
    {
     "data": {
      "text/plain": [
       "Counter({7: 11200, 0: 96, 3: 110, 1: 5, 4: 1, 2: 3, 6: 20, 5: 1})"
      ]
     },
     "execution_count": 188,
     "metadata": {},
     "output_type": "execute_result"
    }
   ],
   "source": [
    "Counter(kmeans.labels_)"
   ]
  },
  {
   "cell_type": "markdown",
   "metadata": {},
   "source": [
    "**Let's investigate each cluster**"
   ]
  },
  {
   "cell_type": "code",
   "execution_count": 317,
   "metadata": {},
   "outputs": [
    {
     "data": {
      "text/plain": [
       "12172"
      ]
     },
     "execution_count": 317,
     "metadata": {},
     "output_type": "execute_result"
    }
   ],
   "source": [
    "len(ns_sr_rep)"
   ]
  },
  {
   "cell_type": "code",
   "execution_count": 318,
   "metadata": {},
   "outputs": [
    {
     "data": {
      "text/plain": [
       "12172"
      ]
     },
     "execution_count": 318,
     "metadata": {},
     "output_type": "execute_result"
    }
   ],
   "source": [
    "len(kmeans.labels_)"
   ]
  },
  {
   "cell_type": "code",
   "execution_count": 319,
   "metadata": {},
   "outputs": [],
   "source": [
    "clustered = defaultdict(list)\n",
    "for idx,ns in enumerate(ns_fixed):\n",
    "    c = kmeans.labels_[idx]\n",
    "    clustered[c].append(ns)"
   ]
  },
  {
   "cell_type": "code",
   "execution_count": 320,
   "metadata": {
    "scrolled": false
   },
   "outputs": [
    {
     "name": "stdout",
     "output_type": "stream",
     "text": [
      "[11739, 20, 177, 82, 103, 1, 13, 37, 0, 0]\n"
     ]
    }
   ],
   "source": [
    "print([len(clustered[i]) for i in range(10)])"
   ]
  },
  {
   "cell_type": "markdown",
   "metadata": {},
   "source": [
    "Let's see in terms of percentage"
   ]
  },
  {
   "cell_type": "code",
   "execution_count": 321,
   "metadata": {},
   "outputs": [],
   "source": [
    "cluster_lens = [len(clustered[i]) for i in range(10)]"
   ]
  },
  {
   "cell_type": "code",
   "execution_count": 322,
   "metadata": {},
   "outputs": [
    {
     "name": "stdout",
     "output_type": "stream",
     "text": [
      "[96.44, 0.16, 1.45, 0.67, 0.85, 0.01, 0.11, 0.3, 0.0, 0.0]\n"
     ]
    }
   ],
   "source": [
    "print([round(k*100/sum(cluster_lens),2) for k in cluster_lens])"
   ]
  },
  {
   "cell_type": "markdown",
   "metadata": {},
   "source": [
    " **could do iterative clusters for ^**"
   ]
  },
  {
   "cell_type": "code",
   "execution_count": 325,
   "metadata": {},
   "outputs": [
    {
     "data": {
      "text/plain": [
       "['opb.org',\n",
       " 'actionnewsnow.com',\n",
       " 'okcfox.com',\n",
       " 'wmot.org',\n",
       " 'aviationweek.com',\n",
       " 'vulture.com',\n",
       " 'wtop.com',\n",
       " 'jns.org',\n",
       " 'dutchnews.nl',\n",
       " 'woodworkingnetwork.com',\n",
       " 'wvmetronews.com',\n",
       " 'nbc-2.com',\n",
       " 'nbc12.com',\n",
       " 'fox2detroit.com',\n",
       " 'wvnstv.com',\n",
       " 'thelily.com',\n",
       " 'kbzk.com',\n",
       " 'kktv.com',\n",
       " 'rentonreporter.com',\n",
       " 'montreal.ctvnews.ca',\n",
       " 'nbcchicago.com',\n",
       " 'nwaonline.com',\n",
       " 'theadvocate.com',\n",
       " 'whdh.com',\n",
       " 'expressnews.com',\n",
       " 'fox29.com',\n",
       " 'mlive.com',\n",
       " 'lbc.co.uk',\n",
       " 'uptownmessenger.com',\n",
       " 'nbcsports.com',\n",
       " 'duluthnewstribune.com',\n",
       " 'wfmj.com',\n",
       " 'fox26houston.com',\n",
       " 'abc15.com',\n",
       " 'abc30.com',\n",
       " 'toronto.citynews.ca',\n",
       " 'wqow.com',\n",
       " 'kiro7.com',\n",
       " 'wgem.com',\n",
       " 'prpeak.com',\n",
       " 'denverpost.com',\n",
       " 'kpvi.com',\n",
       " 'fox4news.com',\n",
       " 'desmoinesregister.com',\n",
       " 'metrotimes.com',\n",
       " 'local12.com',\n",
       " 'fox7austin.com',\n",
       " 'tmj4.com',\n",
       " 'theregister.com',\n",
       " 'news4sanantonio.com',\n",
       " 'govexec.com',\n",
       " 'fox11online.com',\n",
       " 'wearemitu.com',\n",
       " 'wsvn.com',\n",
       " 'wafb.com',\n",
       " 'nzherald.co.nz',\n",
       " 'fox21news.com',\n",
       " 'chicagocrusader.com',\n",
       " 'nondoc.com',\n",
       " 'riverfronttimes.com',\n",
       " 'turnto10.com',\n",
       " 'ynetnews.com',\n",
       " 'nbcdfw.com',\n",
       " 'whyy.org',\n",
       " 'cincinnati.com',\n",
       " 'ktvu.com',\n",
       " 'abc13.com',\n",
       " 'clickondetroit.com',\n",
       " 'biopharma-reporter.com',\n",
       " 'kplctv.com',\n",
       " 'cowichanvalleycitizen.com',\n",
       " 'weny.com',\n",
       " 'manchestereveningnews.co.uk',\n",
       " 'ocregister.com',\n",
       " 'travelandleisure.com',\n",
       " 'wjla.com',\n",
       " 'hawaiinewsnow.com',\n",
       " 'postandcourier.com',\n",
       " 'citynews.ca',\n",
       " '972mag.com',\n",
       " 'artnet.com',\n",
       " 'crunchyroll.com',\n",
       " 'cnbctv18.com',\n",
       " 'nj1015.com',\n",
       " 'channel3000.com',\n",
       " 'wdam.com',\n",
       " 'washingtonian.com',\n",
       " 'ozarksfirst.com',\n",
       " 'local21news.com',\n",
       " 'kake.com',\n",
       " 'sfexaminer.com',\n",
       " 'bostonherald.com',\n",
       " 'nbclosangeles.com',\n",
       " 'laist.com',\n",
       " 'pitchfork.com',\n",
       " 'local10.com',\n",
       " 'insidernj.com',\n",
       " 'foxla.com',\n",
       " 'wcti12.com',\n",
       " 'abc11.com',\n",
       " 'ny1.com',\n",
       " 'nfl.com',\n",
       " 'caranddriver.com',\n",
       " 'fox10phoenix.com',\n",
       " 'thetelegraph.com',\n",
       " 'theathletic.com',\n",
       " 'blackhillsfox.com',\n",
       " 'binghamtonhomepage.com',\n",
       " 'appleinsider.com',\n",
       " 'wtoc.com',\n",
       " 'boston.com',\n",
       " 'clickorlando.com',\n",
       " 'msnbc.com',\n",
       " 'cbsaustin.com',\n",
       " 'starnewsonline.com',\n",
       " 'whio.com',\n",
       " 'wlns.com',\n",
       " 'readfrontier.org',\n",
       " 'policemag.com',\n",
       " 'wect.com',\n",
       " 'abc7.com',\n",
       " 'ktiv.com',\n",
       " 'nbc15.com',\n",
       " 'cleveland.com',\n",
       " 'postcrescent.com',\n",
       " 'motor1.com',\n",
       " 'metroweekly.com',\n",
       " 'golfdigest.com',\n",
       " 'abc6onyourside.com',\n",
       " 'cleveland19.com',\n",
       " 'navytimes.com',\n",
       " 'thedenverchannel.com',\n",
       " 'qsrmagazine.com',\n",
       " 'pasadenastarnews.com',\n",
       " 'newschannel5.com',\n",
       " 'nola.com',\n",
       " 'wsoctv.com',\n",
       " 'arklatexhomepage.com',\n",
       " 'kpbs.org',\n",
       " 'astronomy.com',\n",
       " 'chron.com',\n",
       " 'spectrumnews1.com',\n",
       " 'motorbiscuit.com',\n",
       " 'news.com.au',\n",
       " 'click2houston.com',\n",
       " 'sfgate.com',\n",
       " '7news.com.au',\n",
       " 'kjzz.com',\n",
       " 'fxstreet.com',\n",
       " 'wkyt.com',\n",
       " 'news5cleveland.com',\n",
       " 'masslive.com',\n",
       " 'tennessean.com',\n",
       " 'firstcoastnews.com',\n",
       " 'armytimes.com',\n",
       " 'localmemphis.com',\n",
       " 'recordonline.com',\n",
       " 'theday.com',\n",
       " 'wbtv.com',\n",
       " 'independent.ie',\n",
       " 'bakersfield.com',\n",
       " 'cbs7.com',\n",
       " 'nbcwashington.com',\n",
       " 'aclu.org',\n",
       " 'rochesterfirst.com',\n",
       " 'jsonline.com',\n",
       " 'wmfe.org',\n",
       " 'wbrz.com',\n",
       " 'fox5ny.com',\n",
       " 'freep.com',\n",
       " 'ctmirror.org',\n",
       " 'urdupoint.com',\n",
       " 'newschannel9.com',\n",
       " 'katv.com',\n",
       " 'centralmaine.com',\n",
       " 'stripes.com',\n",
       " 'fox5dc.com']"
      ]
     },
     "execution_count": 325,
     "metadata": {},
     "output_type": "execute_result"
    }
   ],
   "source": [
    "clustered[2]"
   ]
  },
  {
   "cell_type": "markdown",
   "metadata": {},
   "source": [
    "## DBSCAN clustering"
   ]
  },
  {
   "cell_type": "code",
   "execution_count": 326,
   "metadata": {},
   "outputs": [],
   "source": [
    "from sklearn.cluster import DBSCAN"
   ]
  },
  {
   "cell_type": "markdown",
   "metadata": {},
   "source": [
    "First try out."
   ]
  },
  {
   "cell_type": "code",
   "execution_count": 327,
   "metadata": {},
   "outputs": [],
   "source": [
    "dbscan = DBSCAN(eps=0.01)"
   ]
  },
  {
   "cell_type": "code",
   "execution_count": 328,
   "metadata": {},
   "outputs": [],
   "source": [
    "ds_clusters = dbscan.fit(ns_repr)"
   ]
  },
  {
   "cell_type": "code",
   "execution_count": 329,
   "metadata": {},
   "outputs": [
    {
     "data": {
      "text/plain": [
       "12172"
      ]
     },
     "execution_count": 329,
     "metadata": {},
     "output_type": "execute_result"
    }
   ],
   "source": [
    "dbs_labels = ds_clusters.labels_\n",
    "len(dbs_labels)"
   ]
  },
  {
   "cell_type": "code",
   "execution_count": 330,
   "metadata": {},
   "outputs": [
    {
     "data": {
      "text/plain": [
       "array([-1,  0,  1,  2,  3,  4,  5,  6,  7,  8,  9, 10, 11, 12, 13, 14, 15,\n",
       "       16, 17, 18, 19, 20, 21, 22, 23, 24, 25, 26, 27, 28, 29, 30, 31, 32,\n",
       "       33, 34, 35, 36, 37], dtype=int64)"
      ]
     },
     "execution_count": 330,
     "metadata": {},
     "output_type": "execute_result"
    }
   ],
   "source": [
    "np.unique(dbs_labels)"
   ]
  },
  {
   "cell_type": "code",
   "execution_count": 331,
   "metadata": {},
   "outputs": [],
   "source": [
    "dbscan_clusters = defaultdict(list)\n",
    "for idx, c in enumerate(list(dbs_labels)):\n",
    "    dbscan_clusters[c].append(ns_fixed[idx])"
   ]
  },
  {
   "cell_type": "code",
   "execution_count": 332,
   "metadata": {},
   "outputs": [
    {
     "name": "stdout",
     "output_type": "stream",
     "text": [
      "number of ns in cluster -1: 6236\n",
      "number of ns in cluster 0: 5206\n",
      "number of ns in cluster 1: 13\n",
      "number of ns in cluster 2: 102\n",
      "number of ns in cluster 3: 22\n",
      "number of ns in cluster 4: 6\n",
      "number of ns in cluster 5: 12\n",
      "number of ns in cluster 6: 192\n",
      "number of ns in cluster 7: 7\n",
      "number of ns in cluster 8: 31\n",
      "number of ns in cluster 9: 53\n",
      "number of ns in cluster 10: 37\n",
      "number of ns in cluster 11: 5\n",
      "number of ns in cluster 12: 20\n",
      "number of ns in cluster 13: 17\n",
      "number of ns in cluster 14: 5\n",
      "number of ns in cluster 15: 26\n",
      "number of ns in cluster 16: 8\n",
      "number of ns in cluster 17: 5\n",
      "number of ns in cluster 18: 5\n",
      "number of ns in cluster 19: 6\n",
      "number of ns in cluster 20: 12\n",
      "number of ns in cluster 21: 8\n",
      "number of ns in cluster 22: 24\n",
      "number of ns in cluster 23: 5\n",
      "number of ns in cluster 24: 13\n",
      "number of ns in cluster 25: 7\n",
      "number of ns in cluster 26: 5\n",
      "number of ns in cluster 27: 6\n",
      "number of ns in cluster 28: 10\n",
      "number of ns in cluster 29: 5\n",
      "number of ns in cluster 30: 5\n",
      "number of ns in cluster 31: 5\n",
      "number of ns in cluster 32: 7\n",
      "number of ns in cluster 33: 25\n",
      "number of ns in cluster 34: 5\n",
      "number of ns in cluster 35: 6\n",
      "number of ns in cluster 36: 5\n",
      "number of ns in cluster 37: 5\n"
     ]
    }
   ],
   "source": [
    "for c in range(-1, 38):\n",
    "    print(\"number of ns in cluster {}: {}\".format(c, len(dbscan_clusters[c])))"
   ]
  },
  {
   "cell_type": "markdown",
   "metadata": {},
   "source": [
    "Let's investigate some of the clusters"
   ]
  },
  {
   "cell_type": "code",
   "execution_count": 342,
   "metadata": {
    "scrolled": true
   },
   "outputs": [
    {
     "data": {
      "text/plain": [
       "['smdailyjournal.com',\n",
       " 'news-gazette.com',\n",
       " 'sakshi.com',\n",
       " 'tortoisemedia.com',\n",
       " 'berlingske.dk',\n",
       " 'eleconomista.com.mx',\n",
       " 'letelegramme.fr',\n",
       " 'odishatv.in',\n",
       " 'moneylife.in',\n",
       " 'thelastamericanvagabond.com',\n",
       " 'hankookilbo.com',\n",
       " 'ekstrabladet.dk',\n",
       " 'todayheadline.co',\n",
       " 'wellnessmama.com',\n",
       " 'ticotimes.net',\n",
       " 'eldiariony.com',\n",
       " 'carehome.co.uk',\n",
       " 'phnompenhpost.com',\n",
       " 'mediafax.ro',\n",
       " 'rcrwireless.com',\n",
       " 'wigantoday.net',\n",
       " 'parismatch.com',\n",
       " 'biznews.com',\n",
       " 'vedomosti.ru',\n",
       " 'iz.ru',\n",
       " 'dailycardinal.com',\n",
       " 'fashionweekdaily.com',\n",
       " 'searchenginewatch.com',\n",
       " 'techinasia.com',\n",
       " 'azernews.az',\n",
       " 'surfacemag.com',\n",
       " 'animalpolitico.com',\n",
       " 'icirnigeria.org',\n",
       " 'salaamgateway.com',\n",
       " 'n-tv.de',\n",
       " 'vavel.com',\n",
       " 'myfitnesspal.com',\n",
       " 'thecitizen.com',\n",
       " '2gb.com',\n",
       " 'dopemagazine.com',\n",
       " 'livehindustan.com',\n",
       " 'niagarathisweek.com',\n",
       " 'lowyat.net',\n",
       " 'kbjr6.com',\n",
       " 'smartinsights.com',\n",
       " 'theglobalist.com',\n",
       " 'atheistrepublic.com',\n",
       " 'dinheirovivo.pt',\n",
       " 'sabah.com.tr',\n",
       " 'lenta.ru',\n",
       " 'goldswitzerland.com',\n",
       " 'mountaineagle.com',\n",
       " 'saurenergy.com']"
      ]
     },
     "execution_count": 342,
     "metadata": {},
     "output_type": "execute_result"
    }
   ],
   "source": [
    "dbscan_clusters[9]"
   ]
  },
  {
   "cell_type": "code",
   "execution_count": 147,
   "metadata": {
    "scrolled": true
   },
   "outputs": [
    {
     "data": {
      "text/plain": [
       "[]"
      ]
     },
     "execution_count": 147,
     "metadata": {},
     "output_type": "execute_result"
    }
   ],
   "source": [
    "dbscan_clusters[1]"
   ]
  },
  {
   "cell_type": "markdown",
   "metadata": {},
   "source": [
    "**Finding optimum `epsilon` for dbscan**\n",
    "\n",
    "References: \n",
    "\n",
    "https://towardsdatascience.com/machine-learning-clustering-dbscan-determine-the-optimal-value-for-epsilon-eps-python-example-3100091cfbc\n",
    "\n",
    "https://iopscience.iop.org/article/10.1088/1755-1315/31/1/012012/pdf"
   ]
  },
  {
   "cell_type": "code",
   "execution_count": 343,
   "metadata": {},
   "outputs": [],
   "source": [
    "from sklearn.neighbors import NearestNeighbors"
   ]
  },
  {
   "cell_type": "code",
   "execution_count": 344,
   "metadata": {},
   "outputs": [],
   "source": [
    "neigh = NearestNeighbors(n_neighbors=2)\n",
    "nbrs = neigh.fit(ns_repr)\n",
    "distances, indices = nbrs.kneighbors(ns_repr)"
   ]
  },
  {
   "cell_type": "code",
   "execution_count": 348,
   "metadata": {},
   "outputs": [
    {
     "data": {
      "text/plain": [
       "(0.0, 0.01)"
      ]
     },
     "execution_count": 348,
     "metadata": {},
     "output_type": "execute_result"
    },
    {
     "data": {
      "image/png": "[encoded data removed]",
      "text/plain": [
       "<Figure size 432x288 with 1 Axes>"
      ]
     },
     "metadata": {},
     "output_type": "display_data"
    }
   ],
   "source": [
    "distances = np.sort(distances, axis=0)\n",
    "# distances = distances[:,1]\n",
    "plt.plot(distances)\n",
    "plt.ylim((0,0.01))"
   ]
  },
  {
   "cell_type": "markdown",
   "metadata": {},
   "source": [
    "I don't think any epsilon makes sense here."
   ]
  },
  {
   "cell_type": "code",
   "execution_count": null,
   "metadata": {},
   "outputs": [],
   "source": []
  }
 ],
 "metadata": {
  "kernelspec": {
   "display_name": "Python 3",
   "language": "python",
   "name": "python3"
  },
  "language_info": {
   "codemirror_mode": {
    "name": "ipython",
    "version": 3
   },
   "file_extension": ".py",
   "mimetype": "text/x-python",
   "name": "python",
   "nbconvert_exporter": "python",
   "pygments_lexer": "ipython3",
   "version": "3.8.6"
  }
 },
 "nbformat": 4,
 "nbformat_minor": 4
}
