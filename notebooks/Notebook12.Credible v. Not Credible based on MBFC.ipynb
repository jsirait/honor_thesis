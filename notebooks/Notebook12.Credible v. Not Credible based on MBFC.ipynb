{
 "cells": [
  {
   "cell_type": "markdown",
   "metadata": {},
   "source": [
    "# Credible v. Not Credible Based on MBFC\n",
    "\n",
    "I will construct a file mapping each source to 1 if credible, 0 if not credible based on MBFC"
   ]
  },
  {
   "cell_type": "code",
   "execution_count": 1,
   "metadata": {},
   "outputs": [],
   "source": [
    "import os\n",
    "\n",
    "import json\n",
    "import csv\n",
    "\n",
    "from collections import defaultdict"
   ]
  },
  {
   "cell_type": "code",
   "execution_count": 2,
   "metadata": {},
   "outputs": [],
   "source": [
    "# open credible news sources\n",
    "pd1 = os.path.split(os.getcwd())[0]\n",
    "mbfc_path = os.path.join(pd1, \"data/mbfc\")"
   ]
  },
  {
   "cell_type": "code",
   "execution_count": 6,
   "metadata": {},
   "outputs": [],
   "source": [
    "c = json.load(open(os.path.join(mbfc_path, \"mbfc_center.json\")))\n",
    "ps = json.load(open(os.path.join(mbfc_path, \"mbfc_pro-science.json\")))"
   ]
  },
  {
   "cell_type": "code",
   "execution_count": 5,
   "metadata": {},
   "outputs": [
    {
     "data": {
      "text/plain": [
       "622"
      ]
     },
     "execution_count": 5,
     "metadata": {},
     "output_type": "execute_result"
    }
   ],
   "source": [
    "centers = [k[1] for k in c]\n",
    "len(centers)"
   ]
  },
  {
   "cell_type": "code",
   "execution_count": 7,
   "metadata": {},
   "outputs": [
    {
     "data": {
      "text/plain": [
       "155"
      ]
     },
     "execution_count": 7,
     "metadata": {},
     "output_type": "execute_result"
    }
   ],
   "source": [
    "proscience = [k[1] for k in ps]\n",
    "len(proscience)"
   ]
  },
  {
   "cell_type": "code",
   "execution_count": 9,
   "metadata": {},
   "outputs": [
    {
     "data": {
      "text/plain": [
       "660"
      ]
     },
     "execution_count": 9,
     "metadata": {},
     "output_type": "execute_result"
    }
   ],
   "source": [
    "cr = list(set(centers) | set(proscience))\n",
    "len(cr)"
   ]
  },
  {
   "cell_type": "code",
   "execution_count": 12,
   "metadata": {},
   "outputs": [
    {
     "data": {
      "text/plain": [
       "2639"
      ]
     },
     "execution_count": 12,
     "metadata": {},
     "output_type": "execute_result"
    }
   ],
   "source": [
    "ns_fixed_ = json.load(open(\"ns_fixed_.json\", \"r\", encoding=\"utf-8\"))\n",
    "len(ns_fixed_)"
   ]
  },
  {
   "cell_type": "code",
   "execution_count": 16,
   "metadata": {},
   "outputs": [
    {
     "data": {
      "text/plain": [
       "177"
      ]
     },
     "execution_count": 16,
     "metadata": {},
     "output_type": "execute_result"
    }
   ],
   "source": [
    "credible = list(set(cr) & set(ns_fixed_))\n",
    "len(credible)"
   ]
  },
  {
   "cell_type": "code",
   "execution_count": 25,
   "metadata": {},
   "outputs": [],
   "source": [
    "# open nonreliable news sources\n",
    "cp = json.load(open(os.path.join(mbfc_path, \"mbfc_conspiracy.json\")))\n",
    "fn = json.load(open(os.path.join(mbfc_path, \"mbfc_fake-news.json\")))\n",
    "se = json.load(open(os.path.join(mbfc_path, \"mbfc_satire.json\")))\n",
    "psc = json.load(open(os.path.join(mbfc_path, \"mbfc_pseudoscience-dictionary.json\")))"
   ]
  },
  {
   "cell_type": "code",
   "execution_count": 27,
   "metadata": {},
   "outputs": [
    {
     "data": {
      "text/plain": [
       "30"
      ]
     },
     "execution_count": 27,
     "metadata": {},
     "output_type": "execute_result"
    }
   ],
   "source": [
    "pseudo = [k[1] for k in psc]\n",
    "len(pseudo)"
   ]
  },
  {
   "cell_type": "code",
   "execution_count": 18,
   "metadata": {},
   "outputs": [
    {
     "data": {
      "text/plain": [
       "336"
      ]
     },
     "execution_count": 18,
     "metadata": {},
     "output_type": "execute_result"
    }
   ],
   "source": [
    "conspiracy = [k[1] for k in cp]\n",
    "len(conspiracy)"
   ]
  },
  {
   "cell_type": "code",
   "execution_count": 19,
   "metadata": {},
   "outputs": [
    {
     "data": {
      "text/plain": [
       "899"
      ]
     },
     "execution_count": 19,
     "metadata": {},
     "output_type": "execute_result"
    }
   ],
   "source": [
    "fakenews = [k[1] for k in fn]\n",
    "len(fakenews)"
   ]
  },
  {
   "cell_type": "code",
   "execution_count": 20,
   "metadata": {},
   "outputs": [
    {
     "data": {
      "text/plain": [
       "87"
      ]
     },
     "execution_count": 20,
     "metadata": {},
     "output_type": "execute_result"
    }
   ],
   "source": [
    "satire = [k[1] for k in se]\n",
    "len(satire)"
   ]
  },
  {
   "cell_type": "code",
   "execution_count": null,
   "metadata": {},
   "outputs": [],
   "source": []
  },
  {
   "cell_type": "code",
   "execution_count": 28,
   "metadata": {},
   "outputs": [
    {
     "data": {
      "text/plain": [
       "1182"
      ]
     },
     "execution_count": 28,
     "metadata": {},
     "output_type": "execute_result"
    }
   ],
   "source": [
    "notcr = list(set(conspiracy) | set(fakenews) | set(satire) | set(pseudo))\n",
    "len(notcr)"
   ]
  },
  {
   "cell_type": "code",
   "execution_count": 29,
   "metadata": {},
   "outputs": [
    {
     "data": {
      "text/plain": [
       "31"
      ]
     },
     "execution_count": 29,
     "metadata": {},
     "output_type": "execute_result"
    }
   ],
   "source": [
    "unreliable = list(set(ns_fixed_) & set(notcr))\n",
    "len(unreliable)"
   ]
  },
  {
   "cell_type": "code",
   "execution_count": 30,
   "metadata": {},
   "outputs": [
    {
     "data": {
      "text/plain": [
       "['xinhuanet.com',\n",
       " 'lifesitenews.com',\n",
       " 'quillette.com',\n",
       " 'nowthisnews.com',\n",
       " 'sciencetimes.com',\n",
       " 'gulfnews.com',\n",
       " 'news18.com',\n",
       " 'thefreethoughtproject.com',\n",
       " 'toofab.com',\n",
       " 'justthenews.com',\n",
       " 'techstartups.com',\n",
       " 'rudaw.net',\n",
       " 'caixinglobal.com',\n",
       " 'bigleaguepolitics.com',\n",
       " 'thefederalist.com',\n",
       " 'thehardtimes.net',\n",
       " 'townhall.com',\n",
       " 'westernjournal.com',\n",
       " 'pjmedia.com',\n",
       " 'mcsweeneys.net',\n",
       " 'thegrayzone.com',\n",
       " 'swarajyamag.com',\n",
       " 'thenationalpulse.com',\n",
       " 'babylonbee.com',\n",
       " 'newsbreak.com',\n",
       " 'fox8.com',\n",
       " 'sputniknews.com',\n",
       " 'mondoweiss.net',\n",
       " 'thoughtcatalog.com',\n",
       " 'tass.com',\n",
       " 'beforeitsnews.com']"
      ]
     },
     "execution_count": 30,
     "metadata": {},
     "output_type": "execute_result"
    }
   ],
   "source": [
    "unreliable"
   ]
  },
  {
   "cell_type": "markdown",
   "metadata": {},
   "source": [
    "# Political leaning"
   ]
  },
  {
   "cell_type": "code",
   "execution_count": 36,
   "metadata": {},
   "outputs": [
    {
     "data": {
      "text/plain": [
       "634"
      ]
     },
     "execution_count": 36,
     "metadata": {},
     "output_type": "execute_result"
    }
   ],
   "source": [
    "lf = json.load(open(os.path.join(mbfc_path, \"mbfc_left.json\")))\n",
    "lc = json.load(open(os.path.join(mbfc_path, \"mbfc_leftcenter.json\")))"
   ]
  },
  {
   "cell_type": "code",
   "execution_count": 39,
   "metadata": {},
   "outputs": [
    {
     "data": {
      "text/plain": [
       "158"
      ]
     },
     "execution_count": 39,
     "metadata": {},
     "output_type": "execute_result"
    }
   ],
   "source": [
    "left = list(set(ns_fixed_) & (set([k[1] for k in lf]) | set([k[1] for k in lc])))\n",
    "len(left)"
   ]
  },
  {
   "cell_type": "code",
   "execution_count": 41,
   "metadata": {},
   "outputs": [],
   "source": [
    "rh = json.load(open(os.path.join(mbfc_path, \"mbfc_right.json\")))\n",
    "rc = json.load(open(os.path.join(mbfc_path, \"mbfc_right-center.json\")))"
   ]
  },
  {
   "cell_type": "code",
   "execution_count": 44,
   "metadata": {},
   "outputs": [
    {
     "data": {
      "text/plain": [
       "84"
      ]
     },
     "execution_count": 44,
     "metadata": {},
     "output_type": "execute_result"
    }
   ],
   "source": [
    "right = (set(ns_fixed_) & (set([k[1] for k in rh]) | set([k[1] for k in rc])))\n",
    "len(right)"
   ]
  },
  {
   "cell_type": "code",
   "execution_count": 45,
   "metadata": {},
   "outputs": [
    {
     "data": {
      "text/plain": [
       "{'13wham.com',\n",
       " '7news.com.au',\n",
       " 'abc3340.com',\n",
       " 'abc6onyourside.com',\n",
       " 'aier.org',\n",
       " 'americanmilitarynews.com',\n",
       " 'amgreatness.com',\n",
       " 'antiwar.com',\n",
       " 'bearingarms.com',\n",
       " 'bild.de',\n",
       " 'billingsgazette.com',\n",
       " 'boundingintocomics.com',\n",
       " 'breakingdefense.com',\n",
       " 'calgaryherald.com',\n",
       " 'cbs12.com',\n",
       " 'dailycaller.com',\n",
       " 'dailysignal.com',\n",
       " 'dn.se',\n",
       " 'edmontonjournal.com',\n",
       " 'elmundo.es',\n",
       " 'entrepreneur.com',\n",
       " 'expressen.se',\n",
       " 'fortune.com',\n",
       " 'fox11online.com',\n",
       " 'fox17.com',\n",
       " 'foxbaltimore.com',\n",
       " 'foxbusiness.com',\n",
       " 'foxsanantonio.com',\n",
       " 'freebeacon.com',\n",
       " 'gazette.com',\n",
       " 'hotair.com',\n",
       " 'humanevents.com',\n",
       " 'indiatoday.in',\n",
       " 'indiatvnews.com',\n",
       " 'jewishjournal.com',\n",
       " 'journaldemontreal.com',\n",
       " 'katu.com',\n",
       " 'katv.com',\n",
       " 'komonews.com',\n",
       " 'ktul.com',\n",
       " 'kutv.com',\n",
       " 'lawenforcementtoday.com',\n",
       " 'leaderpost.com',\n",
       " 'lefigaro.fr',\n",
       " 'legalinsurrection.com',\n",
       " 'leicestermercury.co.uk',\n",
       " 'local12.com',\n",
       " 'montrealgazette.com',\n",
       " 'mynorthwest.com',\n",
       " 'nation.com.pk',\n",
       " 'nationalinterest.org',\n",
       " 'ncregister.com',\n",
       " 'news3lv.com',\n",
       " 'nhk.or.jp',\n",
       " 'nos.nl',\n",
       " 'nwaonline.com',\n",
       " 'nypost.com',\n",
       " 'observer.com',\n",
       " 'okcfox.com',\n",
       " 'order-order.com',\n",
       " 'ottawacitizen.com',\n",
       " 'outkick.com',\n",
       " 'reason.com',\n",
       " 'skynews.com.au',\n",
       " 'spectator.org',\n",
       " 'spiked-online.com',\n",
       " 'taxfoundation.org',\n",
       " 'telegraaf.nl',\n",
       " 'the-sun.com',\n",
       " 'thedispatch.com',\n",
       " 'thestarphoenix.com',\n",
       " 'thestreet.com',\n",
       " 'thewest.com.au',\n",
       " 'triblive.com',\n",
       " 'turnto10.com',\n",
       " 'twitchy.com',\n",
       " 'vancouversun.com',\n",
       " 'weartv.com',\n",
       " 'welt.de',\n",
       " 'wgme.com',\n",
       " 'windsorstar.com',\n",
       " 'wjla.com',\n",
       " 'wset.com',\n",
       " 'wwmt.com'}"
      ]
     },
     "execution_count": 45,
     "metadata": {},
     "output_type": "execute_result"
    }
   ],
   "source": [
    "right"
   ]
  },
  {
   "cell_type": "code",
   "execution_count": null,
   "metadata": {},
   "outputs": [],
   "source": []
  }
 ],
 "metadata": {
  "kernelspec": {
   "display_name": "Python 3",
   "language": "python",
   "name": "python3"
  },
  "language_info": {
   "codemirror_mode": {
    "name": "ipython",
    "version": 3
   },
   "file_extension": ".py",
   "mimetype": "text/x-python",
   "name": "python",
   "nbconvert_exporter": "python",
   "pygments_lexer": "ipython3",
   "version": "3.8.6"
  }
 },
 "nbformat": 4,
 "nbformat_minor": 4
}
