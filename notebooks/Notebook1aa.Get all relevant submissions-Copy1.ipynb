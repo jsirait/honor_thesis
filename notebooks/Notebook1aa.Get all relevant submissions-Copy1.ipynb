{
 "cells": [
  {
   "cell_type": "markdown",
   "metadata": {},
   "source": [
    "# Get all relevant submissions\n",
    "\n",
    "Author: Junita Sirait\n",
    "\n",
    "I am tired of parsing the whole 6 months of data each time I need additional informations from the JSON files. Here I will master the art of `ndjson` dump and load, so I can just process these files in the future.\n",
    "\n",
    "Table of contents:\n",
    "1. [Reading the original massive files](#sub1)"
   ]
  },
  {
   "cell_type": "code",
   "execution_count": 1,
   "metadata": {
    "scrolled": true
   },
   "outputs": [
    {
     "name": "stdout",
     "output_type": "stream",
     "text": [
      "Collecting ndjson\n",
      "  Downloading ndjson-0.3.1-py2.py3-none-any.whl (5.3 kB)\n",
      "Installing collected packages: ndjson\n",
      "Successfully installed ndjson-0.3.1\n"
     ]
    },
    {
     "name": "stderr",
     "output_type": "stream",
     "text": [
      "WARNING: You are using pip version 21.3.1; however, version 22.0.3 is available.\n",
      "You should consider upgrading via the 'C:\\Users\\User200803\\AppData\\Local\\Programs\\Python\\Python38\\python.exe -m pip install --upgrade pip' command.\n"
     ]
    }
   ],
   "source": [
    "# !pip install ndjson"
   ]
  },
  {
   "cell_type": "code",
   "execution_count": 1,
   "metadata": {},
   "outputs": [],
   "source": [
    "import ndjson\n",
    "\n",
    "import json\n",
    "import pandas as pd\n",
    "import zstandard as zstd\n",
    "import io\n",
    "\n",
    "from collections import defaultdict, Counter\n",
    "from urllib.parse import urlparse\n",
    "import re\n",
    "import datetime, time\n",
    "import tldextract"
   ]
  },
  {
   "cell_type": "markdown",
   "metadata": {},
   "source": [
    "## Reading the original massive files"
   ]
  },
  {
   "cell_type": "code",
   "execution_count": 16,
   "metadata": {},
   "outputs": [],
   "source": [
    "with open(\"D:\\\\Wellesley\\\\F21\\\\thesis\\\\data\\\\gm_intersection.json\", \"r\") as infile:\n",
    "    gm_news_sources = set(json.load(infile))"
   ]
  },
  {
   "cell_type": "code",
   "execution_count": 17,
   "metadata": {},
   "outputs": [],
   "source": [
    "dctx = zstd.ZstdDecompressor(max_window_size=2147483648)"
   ]
  },
  {
   "cell_type": "code",
   "execution_count": 18,
   "metadata": {},
   "outputs": [],
   "source": [
    "def findURLs(phrase):\n",
    "    regex = re.compile('((https?):((//)|(\\\\\\\\))+([\\w\\d:#@%/;$()~_?\\+-=\\\\\\.&](#!)?)*)')\n",
    "    url = re.findall(regex, phrase)     \n",
    "    return [x[0] for x in url]"
   ]
  },
  {
   "cell_type": "code",
   "execution_count": 19,
   "metadata": {},
   "outputs": [],
   "source": [
    "def get_hostname(url, uri_type='both'):\n",
    "    \"\"\"Get the host name from the url\"\"\"\n",
    "    hostnames = set()\n",
    "    extracted = tldextract.extract(url)\n",
    "    subdomain, domain, suffix = extracted\n",
    "    # add both versions of domain.suffix and subdomain.domain.suffix\n",
    "    full = \"\"\n",
    "    # with subdomain\n",
    "    if len(subdomain) > 0 and len(suffix) > 0:\n",
    "        #print(f\"{subdomain}.{domain}.{suffix}\")\n",
    "        full = f\"{subdomain}.{domain}.{suffix}\"\n",
    "        if len(full) > 0:\n",
    "            hostnames.add(full[4:].strip('/')) if full.startswith(\"www.\") else hostnames.add(full.strip('/'))\n",
    "    # without subdomain\n",
    "    full = f\"{domain}.{suffix}\"\n",
    "    if len(full) > 0 and len(suffix) > 0:\n",
    "        hostnames.add(full[4:].strip('/')) if full.startswith(\"www.\") else hostnames.add(full.strip('/'))\n",
    "    return hostnames"
   ]
  },
  {
   "cell_type": "code",
   "execution_count": 20,
   "metadata": {},
   "outputs": [],
   "source": [
    "interesting_features = [\"created_utc\", \"num_comments\", \"num_crossposts\", \"retrieved_utc\", \"subreddit\",\n",
    "                       \"subreddit_type\", \"total_awards_received\", \"upvote_ratio\"]"
   ]
  },
  {
   "cell_type": "code",
   "execution_count": 21,
   "metadata": {},
   "outputs": [],
   "source": [
    "zst_files = [ \"RS_2021-01.zst\", \"RS_2021-02.zst\", \"RS_2021-03.zst\", \"RS_2021-04.zst\", \"RS_2021-05.zst\", \"RS_2021-06.zst\"]\n",
    "zst_filepath = \"E:/thesis_data/\""
   ]
  },
  {
   "cell_type": "code",
   "execution_count": 22,
   "metadata": {},
   "outputs": [],
   "source": [
    "subreddits_total_activity = defaultdict(dict)"
   ]
  },
  {
   "cell_type": "code",
   "execution_count": null,
   "metadata": {
    "scrolled": true
   },
   "outputs": [
    {
     "name": "stdout",
     "output_type": "stream",
     "text": [
      "start time: 2022-03-20 00:46:58.758995\n",
      "***** Start processing for RS_2021-01.zst *****\n",
      "processed 500000; added 253697; 498685 has URLs; 304435 has URLs that are not reddit \t by 00:49:06\n",
      "processed 1000000; added 516349; 997246 has URLs; 601131 has URLs that are not reddit \t by 00:51:10\n",
      "processed 1500000; added 771349; 1495937 has URLs; 903613 has URLs that are not reddit \t by 00:53:04\n",
      "processed 2000000; added 1027480; 1994616 has URLs; 1199834 has URLs that are not reddit \t by 00:54:46\n",
      "processed 2500000; added 1279215; 2493245 has URLs; 1504453 has URLs that are not reddit \t by 00:56:28\n",
      "processed 3000000; added 1540102; 2991793 has URLs; 1799489 has URLs that are not reddit \t by 00:58:06\n",
      "processed 3500000; added 1795421; 3490492 has URLs; 2105254 has URLs that are not reddit \t by 00:59:48\n",
      "processed 4000000; added 2055866; 3989103 has URLs; 2403318 has URLs that are not reddit \t by 01:01:27\n",
      "processed 4500000; added 2313788; 4487870 has URLs; 2703049 has URLs that are not reddit \t by 01:03:06\n",
      "processed 5000000; added 2582572; 4986545 has URLs; 2993715 has URLs that are not reddit \t by 01:04:49\n",
      "processed 5500000; added 2837716; 5485180 has URLs; 3296863 has URLs that are not reddit \t by 01:06:33\n",
      "processed 6000000; added 3097888; 5983722 has URLs; 3601762 has URLs that are not reddit \t by 01:08:15\n",
      "processed 6500000; added 3350163; 6482447 has URLs; 3910173 has URLs that are not reddit \t by 01:09:54\n",
      "processed 7000000; added 3610210; 6981055 has URLs; 4216790 has URLs that are not reddit \t by 01:11:37\n",
      "processed 7500000; added 3870279; 7479698 has URLs; 4517526 has URLs that are not reddit \t by 01:13:18\n",
      "processed 8000000; added 4128371; 7978356 has URLs; 4828389 has URLs that are not reddit \t by 01:15:00\n",
      "processed 8500000; added 4386907; 8477095 has URLs; 5129736 has URLs that are not reddit \t by 01:16:42\n",
      "processed 9000000; added 4639077; 8975639 has URLs; 5440315 has URLs that are not reddit \t by 01:18:26\n",
      "processed 9500000; added 4887108; 9474452 has URLs; 5745207 has URLs that are not reddit \t by 01:20:07\n",
      "processed 10000000; added 5138423; 9973135 has URLs; 6054625 has URLs that are not reddit \t by 01:21:52\n",
      "processed 10500000; added 5394018; 10471748 has URLs; 6355052 has URLs that are not reddit \t by 01:23:32\n",
      "processed 11000000; added 5656663; 10970367 has URLs; 6663235 has URLs that are not reddit \t by 01:25:17\n",
      "processed 11500000; added 5916592; 11468965 has URLs; 6964794 has URLs that are not reddit \t by 01:27:02\n",
      "processed 12000000; added 6177346; 11967658 has URLs; 7274804 has URLs that are not reddit \t by 01:28:44\n",
      "processed 12500000; added 6435718; 12466247 has URLs; 7578663 has URLs that are not reddit \t by 01:30:27\n",
      "processed 13000000; added 6700941; 12964810 has URLs; 7881805 has URLs that are not reddit \t by 01:32:11\n",
      "processed 13500000; added 6963131; 13463383 has URLs; 8184856 has URLs that are not reddit \t by 01:33:53\n",
      "processed 14000000; added 7215013; 13961970 has URLs; 8500484 has URLs that are not reddit \t by 01:35:37\n",
      "processed 14500000; added 7476238; 14460579 has URLs; 8800576 has URLs that are not reddit \t by 01:37:18\n",
      "processed 15000000; added 7721590; 14959240 has URLs; 9120895 has URLs that are not reddit \t by 01:38:59\n",
      "processed 15500000; added 7976013; 15457822 has URLs; 9428592 has URLs that are not reddit \t by 01:40:41\n",
      "processed 16000000; added 8221469; 15956460 has URLs; 9744011 has URLs that are not reddit \t by 01:42:22\n",
      "processed 16500000; added 8475116; 16455007 has URLs; 10047151 has URLs that are not reddit \t by 01:44:04\n",
      "processed 17000000; added 8721007; 16953617 has URLs; 10361760 has URLs that are not reddit \t by 01:45:46\n",
      "processed 17500000; added 8974168; 17452148 has URLs; 10664346 has URLs that are not reddit \t by 01:47:24\n",
      "processed 18000000; added 9226062; 17950664 has URLs; 10977830 has URLs that are not reddit \t by 01:49:03\n",
      "processed 18500000; added 9481480; 18449316 has URLs; 11281827 has URLs that are not reddit \t by 01:50:42\n",
      "processed 19000000; added 9731297; 18947962 has URLs; 11597172 has URLs that are not reddit \t by 01:52:21\n",
      "processed 19500000; added 9993851; 19446564 has URLs; 11899181 has URLs that are not reddit \t by 01:54:02\n",
      "processed 20000000; added 10247506; 19945143 has URLs; 12211199 has URLs that are not reddit \t by 01:55:39\n",
      "processed 20500000; added 10507265; 20443841 has URLs; 12515892 has URLs that are not reddit \t by 01:57:17\n",
      "processed 21000000; added 10756078; 20942609 has URLs; 12829039 has URLs that are not reddit \t by 01:58:58\n",
      "processed 21500000; added 11014440; 21441244 has URLs; 13136692 has URLs that are not reddit \t by 02:00:40\n",
      "processed 22000000; added 11263363; 21940030 has URLs; 13450020 has URLs that are not reddit \t by 02:02:22\n",
      "processed 22500000; added 11519078; 22438685 has URLs; 13762114 has URLs that are not reddit \t by 02:04:05\n",
      "processed 23000000; added 11768437; 22937384 has URLs; 14071334 has URLs that are not reddit \t by 02:05:48\n",
      "processed 23500000; added 12021173; 23436074 has URLs; 14379330 has URLs that are not reddit \t by 02:07:32\n",
      "processed 24000000; added 12268724; 23934879 has URLs; 14687556 has URLs that are not reddit \t by 02:09:12\n",
      "processed 24500000; added 12521585; 24433548 has URLs; 14993218 has URLs that are not reddit \t by 02:10:55\n",
      "processed 25000000; added 12766823; 24932236 has URLs; 15305599 has URLs that are not reddit \t by 02:12:35\n",
      "processed 25500000; added 13020139; 25430955 has URLs; 15615197 has URLs that are not reddit \t by 02:14:17\n",
      "processed 26000000; added 13263592; 25929600 has URLs; 15928413 has URLs that are not reddit \t by 02:15:58\n",
      "processed 26500000; added 13518184; 26428209 has URLs; 16240858 has URLs that are not reddit \t by 02:17:42\n",
      "processed 27000000; added 13775429; 26926836 has URLs; 16539476 has URLs that are not reddit \t by 02:19:23\n",
      "processed 27500000; added 14034529; 27425439 has URLs; 16842397 has URLs that are not reddit \t by 02:21:03\n",
      "processed 28000000; added 14307915; 27923938 has URLs; 17123037 has URLs that are not reddit \t by 02:22:41\n",
      "processed 28500000; added 14562730; 28422528 has URLs; 17422202 has URLs that are not reddit \t by 02:24:18\n",
      "processed 29000000; added 14837821; 28920956 has URLs; 17699412 has URLs that are not reddit \t by 02:25:53\n",
      "processed 29500000; added 15099746; 29419293 has URLs; 17985482 has URLs that are not reddit \t by 02:27:29\n",
      "processed 30000000; added 15362707; 29917391 has URLs; 18277820 has URLs that are not reddit \t by 02:29:06\n",
      "processed 30500000; added 15625522; 30415515 has URLs; 18567534 has URLs that are not reddit \t by 02:30:41\n",
      "processed 31000000; added 15885582; 30913594 has URLs; 18858852 has URLs that are not reddit \t by 02:32:21\n",
      "processed 31500000; added 16148609; 31411818 has URLs; 19149045 has URLs that are not reddit \t by 02:34:00\n",
      "processed 32000000; added 16403877; 31910095 has URLs; 19442941 has URLs that are not reddit \t by 02:35:39\n",
      "processed 32500000; added 16656064; 32408128 has URLs; 19747085 has URLs that are not reddit \t by 02:37:24\n",
      "****************************************** Summary ******************************************\n",
      "There are 32704571 total posts in 01, 32611865 has URLs, 19864182 has URLs that are not reddit and 16764578 of them have urls to our news sources.\n",
      "----------------------------------------------------------------------------------------\n",
      "-------------------------------- Done processing for RS_2021-01.zst --------------------------------\n",
      "----------------------------------------------------------------------------------------\n",
      "***** Start processing for RS_2021-02.zst *****\n",
      "processed 500000; added 262657; 497929 has URLs; 291936 has URLs that are not reddit \t by 02:39:51\n",
      "processed 1000000; added 533089; 995541 has URLs; 581417 has URLs that are not reddit \t by 02:41:30\n",
      "processed 1500000; added 804988; 1493407 has URLs; 863499 has URLs that are not reddit \t by 02:43:12\n",
      "processed 2000000; added 1064226; 1991537 has URLs; 1165164 has URLs that are not reddit \t by 02:44:52\n",
      "processed 2500000; added 1331360; 2489785 has URLs; 1457507 has URLs that are not reddit \t by 02:46:32\n",
      "processed 3000000; added 1586316; 2987904 has URLs; 1762224 has URLs that are not reddit \t by 02:48:12\n",
      "processed 3500000; added 1857318; 3486218 has URLs; 2049426 has URLs that are not reddit \t by 02:49:54\n"
     ]
    },
    {
     "name": "stdout",
     "output_type": "stream",
     "text": [
      "processed 4000000; added 2120699; 3984405 has URLs; 2338921 has URLs that are not reddit \t by 02:51:33\n",
      "processed 4500000; added 2379226; 4482208 has URLs; 2642618 has URLs that are not reddit \t by 02:53:16\n",
      "processed 5000000; added 2656598; 4980377 has URLs; 2921714 has URLs that are not reddit \t by 02:54:56\n",
      "processed 5500000; added 2911249; 5478555 has URLs; 3231520 has URLs that are not reddit \t by 02:56:39\n",
      "processed 6000000; added 3187428; 5976706 has URLs; 3516075 has URLs that are not reddit \t by 02:58:22\n",
      "processed 6500000; added 3458532; 6475143 has URLs; 3799850 has URLs that are not reddit \t by 03:00:00\n",
      "processed 7000000; added 3718415; 6973348 has URLs; 4097621 has URLs that are not reddit \t by 03:01:45\n",
      "processed 7500000; added 3976850; 7471593 has URLs; 4394353 has URLs that are not reddit \t by 03:03:25\n",
      "processed 8000000; added 4234684; 7969929 has URLs; 4693425 has URLs that are not reddit \t by 03:05:07\n",
      "processed 8500000; added 4488474; 8468384 has URLs; 4997077 has URLs that are not reddit \t by 03:06:48\n",
      "processed 9000000; added 4755713; 8966489 has URLs; 5291045 has URLs that are not reddit \t by 03:08:31\n",
      "processed 9500000; added 5023002; 9464615 has URLs; 5581246 has URLs that are not reddit \t by 03:10:14\n",
      "processed 10000000; added 5309805; 9963118 has URLs; 5852262 has URLs that are not reddit \t by 03:11:50\n",
      "processed 10500000; added 5574155; 10461215 has URLs; 6146009 has URLs that are not reddit \t by 03:13:34\n",
      "processed 11000000; added 5828322; 10959618 has URLs; 6456087 has URLs that are not reddit \t by 03:15:15\n",
      "processed 11500000; added 6092917; 11457814 has URLs; 6752446 has URLs that are not reddit \t by 03:16:55\n",
      "processed 12000000; added 6344932; 11956121 has URLs; 7062325 has URLs that are not reddit \t by 03:18:35\n",
      "processed 12500000; added 6609638; 12454350 has URLs; 7361617 has URLs that are not reddit \t by 03:20:16\n",
      "processed 13000000; added 6868426; 12952647 has URLs; 7664961 has URLs that are not reddit \t by 03:21:58\n",
      "processed 13500000; added 7126590; 13451001 has URLs; 7972487 has URLs that are not reddit \t by 03:23:43\n",
      "processed 14000000; added 7388840; 13949434 has URLs; 8268021 has URLs that are not reddit \t by 03:25:23\n",
      "processed 14500000; added 7640798; 14447826 has URLs; 8578536 has URLs that are not reddit \t by 03:27:05\n",
      "processed 15000000; added 7903753; 14946279 has URLs; 8870553 has URLs that are not reddit \t by 03:28:45\n",
      "processed 15500000; added 8148512; 15444793 has URLs; 9185798 has URLs that are not reddit \t by 03:30:27\n",
      "processed 16000000; added 8412950; 15943280 has URLs; 9471500 has URLs that are not reddit \t by 03:32:08\n",
      "processed 16500000; added 8669814; 16441741 has URLs; 9777864 has URLs that are not reddit \t by 03:33:52\n",
      "processed 17000000; added 8930888; 16940058 has URLs; 10072510 has URLs that are not reddit \t by 03:35:35\n",
      "processed 17500000; added 9196719; 17438331 has URLs; 10369720 has URLs that are not reddit \t by 03:37:18\n",
      "processed 18000000; added 9463374; 17936597 has URLs; 10664675 has URLs that are not reddit \t by 03:38:59\n",
      "processed 18500000; added 9735720; 18435156 has URLs; 10952133 has URLs that are not reddit \t by 03:40:40\n",
      "processed 19000000; added 10001050; 18933336 has URLs; 11248288 has URLs that are not reddit \t by 03:42:25\n",
      "processed 19500000; added 10265990; 19431639 has URLs; 11542073 has URLs that are not reddit \t by 03:44:06\n",
      "processed 20000000; added 10524362; 19929824 has URLs; 11848916 has URLs that are not reddit \t by 03:45:50\n",
      "processed 20500000; added 10776096; 20428215 has URLs; 12154360 has URLs that are not reddit \t by 03:47:31\n",
      "processed 21000000; added 11027413; 20926551 has URLs; 12469094 has URLs that are not reddit \t by 03:49:13\n",
      "processed 21500000; added 11291262; 21424987 has URLs; 12765159 has URLs that are not reddit \t by 03:50:53\n",
      "processed 22000000; added 11548150; 21923410 has URLs; 13068775 has URLs that are not reddit \t by 03:52:36\n",
      "processed 22500000; added 11813342; 22421819 has URLs; 13358547 has URLs that are not reddit \t by 03:54:18\n",
      "processed 23000000; added 12082329; 22920270 has URLs; 13644838 has URLs that are not reddit \t by 03:56:07\n",
      "processed 23500000; added 12338877; 23418447 has URLs; 13940828 has URLs that are not reddit \t by 03:57:54\n",
      "processed 24000000; added 12603263; 23917014 has URLs; 14230831 has URLs that are not reddit \t by 03:59:34\n",
      "processed 24500000; added 12867105; 24415288 has URLs; 14526063 has URLs that are not reddit \t by 04:01:17\n",
      "processed 25000000; added 13131901; 24913756 has URLs; 14817089 has URLs that are not reddit \t by 04:03:04\n",
      "processed 25500000; added 13389154; 25412204 has URLs; 15122510 has URLs that are not reddit \t by 04:04:48\n",
      "processed 26000000; added 13624528; 25910691 has URLs; 15438346 has URLs that are not reddit \t by 04:06:25\n",
      "processed 26500000; added 13885040; 26409236 has URLs; 15740502 has URLs that are not reddit \t by 04:08:11\n",
      "processed 27000000; added 14116599; 26907768 has URLs; 16061828 has URLs that are not reddit \t by 04:09:48\n",
      "processed 27500000; added 14360032; 27406099 has URLs; 16377986 has URLs that are not reddit \t by 04:11:31\n",
      "processed 28000000; added 14623558; 27904283 has URLs; 16679268 has URLs that are not reddit \t by 04:13:16\n",
      "processed 28500000; added 14880209; 28402676 has URLs; 16983006 has URLs that are not reddit \t by 04:15:01\n",
      "processed 29000000; added 15140912; 28901024 has URLs; 17286299 has URLs that are not reddit \t by 04:16:45\n",
      "processed 29500000; added 15396958; 29399528 has URLs; 17588604 has URLs that are not reddit \t by 04:18:27\n",
      "processed 30000000; added 15646119; 29898020 has URLs; 17900342 has URLs that are not reddit \t by 04:20:12\n",
      "processed 30500000; added 15897143; 30396474 has URLs; 18199946 has URLs that are not reddit \t by 04:21:51\n",
      "processed 31000000; added 16144934; 30895001 has URLs; 18507398 has URLs that are not reddit \t by 04:23:34\n",
      "****************************************** Summary ******************************************\n",
      "There are 31147947 total posts in 02, 31042457 has URLs, 18595912 has URLs that are not reddit and 16219186 of them have urls to our news sources.\n",
      "----------------------------------------------------------------------------------------\n",
      "-------------------------------- Done processing for RS_2021-02.zst --------------------------------\n",
      "----------------------------------------------------------------------------------------\n",
      "***** Start processing for RS_2021-03.zst *****\n",
      "processed 500000; added 243870; 498481 has URLs; 308986 has URLs that are not reddit \t by 04:25:45\n",
      "processed 1000000; added 493883; 996941 has URLs; 618573 has URLs that are not reddit \t by 04:27:26\n",
      "processed 1500000; added 748494; 1495216 has URLs; 919974 has URLs that are not reddit \t by 04:29:04\n",
      "processed 2000000; added 1004574; 1993672 has URLs; 1228338 has URLs that are not reddit \t by 04:30:46\n",
      "processed 2500000; added 1263782; 2492132 has URLs; 1528453 has URLs that are not reddit \t by 04:32:28\n",
      "processed 3000000; added 1517644; 2990539 has URLs; 1838576 has URLs that are not reddit \t by 04:34:10\n",
      "processed 3500000; added 1781020; 3488830 has URLs; 2135739 has URLs that are not reddit \t by 04:35:56\n",
      "processed 4000000; added 2033153; 3987164 has URLs; 2446137 has URLs that are not reddit \t by 04:37:39\n",
      "processed 4500000; added 2277600; 4485616 has URLs; 2761238 has URLs that are not reddit \t by 04:39:20\n",
      "processed 5000000; added 2536060; 4984007 has URLs; 3066319 has URLs that are not reddit \t by 04:41:04\n",
      "processed 5500000; added 2796928; 5482226 has URLs; 3366747 has URLs that are not reddit \t by 04:42:49\n",
      "processed 6000000; added 3054506; 5980708 has URLs; 3668177 has URLs that are not reddit \t by 04:44:32\n",
      "processed 6500000; added 3319929; 6479233 has URLs; 3956436 has URLs that are not reddit \t by 04:46:15\n",
      "processed 7000000; added 3576507; 6977547 has URLs; 4254766 has URLs that are not reddit \t by 04:47:59\n",
      "processed 7500000; added 3827925; 7476087 has URLs; 4562026 has URLs that are not reddit \t by 04:49:40\n",
      "processed 8000000; added 4089639; 7974320 has URLs; 4859030 has URLs that are not reddit \t by 04:51:25\n",
      "processed 8500000; added 4344589; 8472819 has URLs; 5166592 has URLs that are not reddit \t by 04:53:09\n",
      "processed 9000000; added 4603704; 8971076 has URLs; 5470408 has URLs that are not reddit \t by 04:54:52\n"
     ]
    },
    {
     "name": "stdout",
     "output_type": "stream",
     "text": [
      "processed 9500000; added 4858303; 9469398 has URLs; 5782649 has URLs that are not reddit \t by 04:56:36\n",
      "processed 10000000; added 5123568; 9967460 has URLs; 6078772 has URLs that are not reddit \t by 04:58:18\n",
      "processed 10500000; added 5383004; 10465754 has URLs; 6380624 has URLs that are not reddit \t by 04:59:58\n",
      "processed 11000000; added 5635005; 10964219 has URLs; 6685106 has URLs that are not reddit \t by 05:01:37\n",
      "processed 11500000; added 5896424; 11462673 has URLs; 6983187 has URLs that are not reddit \t by 05:03:19\n",
      "processed 12000000; added 6151007; 11961099 has URLs; 7287796 has URLs that are not reddit \t by 05:05:03\n",
      "processed 12500000; added 6409403; 12459647 has URLs; 7587359 has URLs that are not reddit \t by 05:06:46\n",
      "processed 13000000; added 6669069; 12958003 has URLs; 7892016 has URLs that are not reddit \t by 05:08:30\n",
      "processed 13500000; added 6934620; 13456449 has URLs; 8182374 has URLs that are not reddit \t by 05:10:32\n",
      "processed 14000000; added 7193803; 13954994 has URLs; 8481523 has URLs that are not reddit \t by 05:12:17\n",
      "processed 14500000; added 7458418; 14453499 has URLs; 8768755 has URLs that are not reddit \t by 05:13:56\n",
      "processed 15000000; added 7714733; 14952021 has URLs; 9070575 has URLs that are not reddit \t by 05:15:37\n",
      "processed 15500000; added 7977462; 15450372 has URLs; 9359948 has URLs that are not reddit \t by 05:17:20\n",
      "processed 16000000; added 8241484; 15948809 has URLs; 9660027 has URLs that are not reddit \t by 05:19:03\n",
      "processed 16500000; added 8505311; 16447171 has URLs; 9956437 has URLs that are not reddit \t by 05:20:46\n",
      "processed 17000000; added 8767486; 16945447 has URLs; 10259460 has URLs that are not reddit \t by 05:22:31\n",
      "processed 17500000; added 9030430; 17443527 has URLs; 10557028 has URLs that are not reddit \t by 05:24:15\n",
      "processed 18000000; added 9292863; 17941906 has URLs; 10863518 has URLs that are not reddit \t by 05:26:01\n",
      "processed 18500000; added 9566232; 18440143 has URLs; 11154994 has URLs that are not reddit \t by 05:27:45\n",
      "processed 19000000; added 9833180; 18938531 has URLs; 11454458 has URLs that are not reddit \t by 05:29:27\n",
      "processed 19500000; added 10102827; 19437003 has URLs; 11749849 has URLs that are not reddit \t by 05:31:10\n",
      "processed 20000000; added 10370369; 19935456 has URLs; 12044877 has URLs that are not reddit \t by 05:32:52\n",
      "processed 20500000; added 10646806; 20433751 has URLs; 12332496 has URLs that are not reddit \t by 05:34:37\n",
      "processed 21000000; added 10926936; 20932175 has URLs; 12613371 has URLs that are not reddit \t by 05:36:21\n",
      "processed 21500000; added 11198593; 21430555 has URLs; 12906778 has URLs that are not reddit \t by 05:38:05\n",
      "processed 22000000; added 11458506; 21928989 has URLs; 13203493 has URLs that are not reddit \t by 05:39:43\n",
      "processed 22500000; added 11721059; 22427267 has URLs; 13499540 has URLs that are not reddit \t by 05:41:28\n",
      "processed 23000000; added 11994304; 22925668 has URLs; 13797509 has URLs that are not reddit \t by 05:43:09\n",
      "processed 23500000; added 12263168; 23424104 has URLs; 14092367 has URLs that are not reddit \t by 05:44:55\n",
      "processed 24000000; added 12525105; 23922516 has URLs; 14392271 has URLs that are not reddit \t by 05:46:40\n",
      "processed 24500000; added 12787085; 24420750 has URLs; 14695845 has URLs that are not reddit \t by 05:48:23\n",
      "processed 25000000; added 13047161; 24918950 has URLs; 14994707 has URLs that are not reddit \t by 05:50:05\n",
      "processed 25500000; added 13307433; 25417152 has URLs; 15300768 has URLs that are not reddit \t by 05:51:52\n",
      "processed 26000000; added 13567455; 25915304 has URLs; 15598797 has URLs that are not reddit \t by 05:53:36\n",
      "processed 26500000; added 13826130; 26413465 has URLs; 15906928 has URLs that are not reddit \t by 05:55:20\n",
      "processed 27000000; added 14092454; 26911830 has URLs; 16205116 has URLs that are not reddit \t by 05:57:06\n",
      "processed 27500000; added 14347631; 27410064 has URLs; 16519181 has URLs that are not reddit \t by 05:58:49\n",
      "processed 28000000; added 14608176; 27908412 has URLs; 16820880 has URLs that are not reddit \t by 06:00:33\n",
      "processed 28500000; added 14864910; 28406746 has URLs; 17123652 has URLs that are not reddit \t by 06:02:15\n",
      "processed 29000000; added 15128852; 28905180 has URLs; 17413683 has URLs that are not reddit \t by 06:03:57\n",
      "processed 29500000; added 15388868; 29403473 has URLs; 17710667 has URLs that are not reddit \t by 06:05:41\n",
      "processed 30000000; added 15650883; 29901669 has URLs; 17999575 has URLs that are not reddit \t by 06:07:26\n",
      "processed 30500000; added 15906550; 30400173 has URLs; 18310617 has URLs that are not reddit \t by 06:09:12\n",
      "processed 31000000; added 16171139; 30898520 has URLs; 18606072 has URLs that are not reddit \t by 06:10:57\n",
      "processed 31500000; added 16428569; 31397004 has URLs; 18912436 has URLs that are not reddit \t by 06:12:40\n",
      "processed 32000000; added 16691738; 31895456 has URLs; 19210503 has URLs that are not reddit \t by 06:14:26\n",
      "processed 32500000; added 16960180; 32393863 has URLs; 19523668 has URLs that are not reddit \t by 06:16:12\n",
      "processed 33000000; added 17226476; 32892126 has URLs; 19825337 has URLs that are not reddit \t by 06:17:57\n",
      "****************************************** Summary ******************************************\n",
      "There are 33006103 total posts in 03, 32898212 has URLs, 19828991 has URLs that are not reddit and 17229686 of them have urls to our news sources.\n",
      "----------------------------------------------------------------------------------------\n",
      "-------------------------------- Done processing for RS_2021-03.zst --------------------------------\n",
      "----------------------------------------------------------------------------------------\n",
      "***** Start processing for RS_2021-04.zst *****\n",
      "processed 500000; added 261170; 498412 has URLs; 304635 has URLs that are not reddit \t by 06:19:43\n",
      "processed 1000000; added 523979; 996868 has URLs; 607924 has URLs that are not reddit \t by 06:21:29\n",
      "processed 1500000; added 786297; 1495358 has URLs; 907470 has URLs that are not reddit \t by 06:23:15\n",
      "processed 2000000; added 1050459; 1993793 has URLs; 1211220 has URLs that are not reddit \t by 06:25:01\n",
      "processed 2500000; added 1312289; 2492177 has URLs; 1510380 has URLs that are not reddit \t by 06:26:44\n",
      "processed 3000000; added 1573433; 2990612 has URLs; 1811568 has URLs that are not reddit \t by 06:28:27\n",
      "processed 3500000; added 1828222; 3488970 has URLs; 2113060 has URLs that are not reddit \t by 06:30:11\n",
      "processed 4000000; added 2088737; 3987346 has URLs; 2410539 has URLs that are not reddit \t by 06:31:57\n",
      "processed 4500000; added 2343521; 4485667 has URLs; 2715546 has URLs that are not reddit \t by 06:33:41\n",
      "processed 5000000; added 2608222; 4983712 has URLs; 3013026 has URLs that are not reddit \t by 06:35:26\n",
      "processed 5500000; added 2868444; 5482002 has URLs; 3313223 has URLs that are not reddit \t by 06:37:09\n",
      "processed 6000000; added 3131587; 5980193 has URLs; 3616990 has URLs that are not reddit \t by 06:38:53\n",
      "processed 6500000; added 3397825; 6478354 has URLs; 3910453 has URLs that are not reddit \t by 06:40:39\n",
      "processed 7000000; added 3662512; 6976578 has URLs; 4213848 has URLs that are not reddit \t by 06:42:26\n",
      "processed 7500000; added 3931248; 7474779 has URLs; 4503905 has URLs that are not reddit \t by 06:44:10\n",
      "processed 8000000; added 4197001; 7972934 has URLs; 4808404 has URLs that are not reddit \t by 06:45:56\n",
      "processed 8500000; added 4468816; 8471161 has URLs; 5098816 has URLs that are not reddit \t by 06:47:43\n",
      "processed 9000000; added 4732010; 8969244 has URLs; 5403890 has URLs that are not reddit \t by 06:49:28\n",
      "processed 9500000; added 4999618; 9467531 has URLs; 5699634 has URLs that are not reddit \t by 06:51:12\n",
      "processed 10000000; added 5256846; 9965922 has URLs; 6004040 has URLs that are not reddit \t by 06:52:57\n",
      "processed 10500000; added 5519650; 10464141 has URLs; 6298215 has URLs that are not reddit \t by 06:54:41\n",
      "processed 11000000; added 5781703; 10962502 has URLs; 6601002 has URLs that are not reddit \t by 06:56:23\n",
      "processed 11500000; added 6044832; 11460673 has URLs; 6894744 has URLs that are not reddit \t by 06:58:08\n",
      "processed 12000000; added 6310905; 11958845 has URLs; 7198015 has URLs that are not reddit \t by 06:59:54\n",
      "processed 12500000; added 6581452; 12456909 has URLs; 7489415 has URLs that are not reddit \t by 07:01:38\n"
     ]
    },
    {
     "name": "stdout",
     "output_type": "stream",
     "text": [
      "processed 13000000; added 6844512; 12955148 has URLs; 7793293 has URLs that are not reddit \t by 07:03:24\n",
      "processed 13500000; added 7113647; 13453392 has URLs; 8086415 has URLs that are not reddit \t by 07:05:09\n",
      "processed 14000000; added 7375465; 13951764 has URLs; 8390425 has URLs that are not reddit \t by 07:06:51\n",
      "processed 14500000; added 7644830; 14450001 has URLs; 8684395 has URLs that are not reddit \t by 07:08:36\n",
      "processed 15000000; added 7906608; 14948413 has URLs; 8986702 has URLs that are not reddit \t by 07:10:20\n",
      "processed 15500000; added 8177483; 15446786 has URLs; 9280346 has URLs that are not reddit \t by 07:12:06\n",
      "processed 16000000; added 8445701; 15945204 has URLs; 9575486 has URLs that are not reddit \t by 07:13:50\n",
      "processed 16500000; added 8715639; 16443512 has URLs; 9869324 has URLs that are not reddit \t by 07:15:31\n",
      "processed 17000000; added 8984144; 16942125 has URLs; 10160960 has URLs that are not reddit \t by 07:17:14\n",
      "processed 17500000; added 9253249; 17440617 has URLs; 10452879 has URLs that are not reddit \t by 07:18:59\n",
      "processed 18000000; added 9522772; 17939277 has URLs; 10745548 has URLs that are not reddit \t by 07:20:43\n",
      "processed 18500000; added 9795654; 18437804 has URLs; 11036261 has URLs that are not reddit \t by 07:22:28\n",
      "processed 19000000; added 10069219; 18936367 has URLs; 11330713 has URLs that are not reddit \t by 07:24:10\n",
      "processed 19500000; added 10341132; 19434826 has URLs; 11623064 has URLs that are not reddit \t by 07:25:55\n",
      "processed 20000000; added 10612134; 19933440 has URLs; 11915740 has URLs that are not reddit \t by 07:27:40\n",
      "processed 20500000; added 10887118; 20431883 has URLs; 12211789 has URLs that are not reddit \t by 07:29:26\n",
      "processed 21000000; added 11162539; 20930422 has URLs; 12501837 has URLs that are not reddit \t by 07:31:11\n",
      "processed 21500000; added 11440589; 21428893 has URLs; 12802505 has URLs that are not reddit \t by 07:32:56\n",
      "processed 22000000; added 11713324; 21927254 has URLs; 13090951 has URLs that are not reddit \t by 07:34:40\n",
      "processed 22500000; added 11983855; 22425529 has URLs; 13391005 has URLs that are not reddit \t by 07:36:26\n",
      "processed 23000000; added 12257520; 22923800 has URLs; 13678593 has URLs that are not reddit \t by 07:38:12\n",
      "processed 23500000; added 12526137; 23422120 has URLs; 13979281 has URLs that are not reddit \t by 07:39:57\n",
      "processed 24000000; added 12795527; 23920120 has URLs; 14272537 has URLs that are not reddit \t by 07:41:42\n",
      "processed 24500000; added 13064969; 24418454 has URLs; 14579960 has URLs that are not reddit \t by 07:43:28\n",
      "processed 25000000; added 13337428; 24916819 has URLs; 14879489 has URLs that are not reddit \t by 07:45:13\n",
      "processed 25500000; added 13608783; 25415083 has URLs; 15185233 has URLs that are not reddit \t by 07:46:58\n",
      "processed 26000000; added 13882289; 25913266 has URLs; 15479299 has URLs that are not reddit \t by 07:48:44\n",
      "processed 26500000; added 14157787; 26411484 has URLs; 15781827 has URLs that are not reddit \t by 07:50:26\n",
      "processed 27000000; added 14433846; 26909597 has URLs; 16081966 has URLs that are not reddit \t by 07:52:09\n",
      "processed 27500000; added 14708465; 27407960 has URLs; 16382219 has URLs that are not reddit \t by 07:53:53\n",
      "processed 28000000; added 14974078; 27906061 has URLs; 16683946 has URLs that are not reddit \t by 07:55:39\n",
      "processed 28500000; added 15243744; 28404112 has URLs; 16974133 has URLs that are not reddit \t by 07:57:24\n",
      "processed 29000000; added 15509782; 28902368 has URLs; 17276682 has URLs that are not reddit \t by 07:59:12\n",
      "processed 29500000; added 15779686; 29400505 has URLs; 17572122 has URLs that are not reddit \t by 08:00:54\n",
      "processed 30000000; added 16044531; 29898750 has URLs; 17877121 has URLs that are not reddit \t by 08:02:37\n",
      "processed 30500000; added 16311752; 30397084 has URLs; 18174198 has URLs that are not reddit \t by 08:04:27\n",
      "processed 31000000; added 16573692; 30895615 has URLs; 18475582 has URLs that are not reddit \t by 08:06:16\n",
      "processed 31500000; added 16839228; 31393428 has URLs; 18775672 has URLs that are not reddit \t by 08:08:03\n",
      "****************************************** Summary ******************************************\n",
      "There are 31616206 total posts in 04, 31509254 has URLs, 18843731 has URLs that are not reddit and 16901090 of them have urls to our news sources.\n",
      "----------------------------------------------------------------------------------------\n",
      "-------------------------------- Done processing for RS_2021-04.zst --------------------------------\n",
      "----------------------------------------------------------------------------------------\n",
      "***** Start processing for RS_2021-05.zst *****\n",
      "processed 500000; added 259817; 498313 has URLs; 297279 has URLs that are not reddit \t by 08:10:13\n",
      "processed 1000000; added 506750; 996887 has URLs; 603744 has URLs that are not reddit \t by 08:11:57\n",
      "processed 1500000; added 761075; 1495269 has URLs; 901030 has URLs that are not reddit \t by 08:13:39\n",
      "processed 2000000; added 1004763; 1993767 has URLs; 1207893 has URLs that are not reddit \t by 08:15:19\n",
      "processed 2500000; added 1257094; 2492114 has URLs; 1505160 has URLs that are not reddit \t by 08:16:59\n",
      "processed 3000000; added 1511700; 2990713 has URLs; 1810400 has URLs that are not reddit \t by 08:18:42\n",
      "processed 3500000; added 1769900; 3489050 has URLs; 2108764 has URLs that are not reddit \t by 08:20:24\n",
      "processed 4000000; added 2023939; 3987456 has URLs; 2416611 has URLs that are not reddit \t by 08:22:06\n",
      "processed 4500000; added 2275527; 4485830 has URLs; 2721861 has URLs that are not reddit \t by 08:23:47\n",
      "processed 5000000; added 2518956; 4984189 has URLs; 3033385 has URLs that are not reddit \t by 08:25:27\n",
      "processed 5500000; added 2776197; 5482421 has URLs; 3337635 has URLs that are not reddit \t by 08:27:12\n",
      "processed 6000000; added 3030629; 5980628 has URLs; 3637844 has URLs that are not reddit \t by 08:28:54\n",
      "processed 6500000; added 3283486; 6478952 has URLs; 3949787 has URLs that are not reddit \t by 08:30:36\n",
      "processed 7000000; added 3552129; 6977450 has URLs; 4244526 has URLs that are not reddit \t by 08:32:16\n",
      "processed 7500000; added 3800625; 7475792 has URLs; 4557211 has URLs that are not reddit \t by 08:33:59\n",
      "processed 8000000; added 4063836; 7974042 has URLs; 4851987 has URLs that are not reddit \t by 08:35:43\n",
      "processed 8500000; added 4312084; 8472322 has URLs; 5156583 has URLs that are not reddit \t by 08:37:27\n",
      "processed 9000000; added 4565954; 8970474 has URLs; 5460750 has URLs that are not reddit \t by 08:39:09\n",
      "processed 9500000; added 4821012; 9468959 has URLs; 5754357 has URLs that are not reddit \t by 08:40:49\n",
      "processed 10000000; added 5071490; 9967307 has URLs; 6059170 has URLs that are not reddit \t by 08:42:33\n",
      "processed 10500000; added 5334164; 10465745 has URLs; 6345408 has URLs that are not reddit \t by 08:44:15\n",
      "processed 11000000; added 5589689; 10964102 has URLs; 6650290 has URLs that are not reddit \t by 08:45:59\n",
      "processed 11500000; added 5849855; 11462214 has URLs; 6945785 has URLs that are not reddit \t by 08:47:42\n",
      "processed 12000000; added 6096836; 11960412 has URLs; 7255185 has URLs that are not reddit \t by 08:49:26\n",
      "processed 12500000; added 6363148; 12458559 has URLs; 7546433 has URLs that are not reddit \t by 08:51:10\n",
      "processed 13000000; added 6614934; 12956877 has URLs; 7844787 has URLs that are not reddit \t by 08:52:51\n",
      "processed 13500000; added 6870398; 13455293 has URLs; 8148060 has URLs that are not reddit \t by 08:54:34\n",
      "processed 14000000; added 7130393; 13953720 has URLs; 8438562 has URLs that are not reddit \t by 08:56:18\n",
      "processed 14500000; added 7376368; 14451803 has URLs; 8748657 has URLs that are not reddit \t by 08:57:58\n",
      "processed 15000000; added 7644841; 14950177 has URLs; 9034712 has URLs that are not reddit \t by 08:59:41\n",
      "processed 15500000; added 7897642; 15448678 has URLs; 9333743 has URLs that are not reddit \t by 09:01:22\n",
      "processed 16000000; added 8152432; 15946953 has URLs; 9641516 has URLs that are not reddit \t by 09:03:04\n",
      "processed 16500000; added 8408788; 16445399 has URLs; 9940608 has URLs that are not reddit \t by 09:04:44\n",
      "processed 17000000; added 8659207; 16943563 has URLs; 10252672 has URLs that are not reddit \t by 09:07:07\n",
      "processed 17500000; added 8917815; 17442053 has URLs; 10548865 has URLs that are not reddit \t by 09:09:31\n"
     ]
    },
    {
     "name": "stdout",
     "output_type": "stream",
     "text": [
      "processed 18000000; added 9168430; 17940534 has URLs; 10856294 has URLs that are not reddit \t by 09:11:55\n",
      "processed 18500000; added 9418875; 18438915 has URLs; 11154993 has URLs that are not reddit \t by 09:14:18\n",
      "processed 19000000; added 9631976; 18937606 has URLs; 11488020 has URLs that are not reddit \t by 09:16:33\n",
      "processed 19500000; added 9867315; 19435752 has URLs; 11807399 has URLs that are not reddit \t by 09:18:53\n",
      "processed 20000000; added 10098209; 19934383 has URLs; 12126378 has URLs that are not reddit \t by 09:21:14\n",
      "processed 20500000; added 10321128; 20432890 has URLs; 12457731 has URLs that are not reddit \t by 09:23:30\n",
      "processed 21000000; added 10560402; 20931318 has URLs; 12773360 has URLs that are not reddit \t by 09:25:49\n",
      "processed 21500000; added 10783611; 21430021 has URLs; 13101889 has URLs that are not reddit \t by 09:28:02\n",
      "processed 22000000; added 11012003; 21928512 has URLs; 13432187 has URLs that are not reddit \t by 09:30:42\n",
      "processed 22500000; added 11259562; 22426946 has URLs; 13744876 has URLs that are not reddit \t by 09:31:45\n",
      "processed 23000000; added 11495916; 22925709 has URLs; 14072485 has URLs that are not reddit \t by 09:33:31\n",
      "processed 23500000; added 11748754; 23424236 has URLs; 14389285 has URLs that are not reddit \t by 09:35:57\n",
      "processed 24000000; added 11992222; 23922592 has URLs; 14701743 has URLs that are not reddit \t by 09:38:20\n",
      "processed 24500000; added 12227635; 24421076 has URLs; 15026061 has URLs that are not reddit \t by 09:40:42\n",
      "processed 25000000; added 12478231; 24919521 has URLs; 15336380 has URLs that are not reddit \t by 09:43:05\n",
      "processed 25500000; added 12708126; 25418154 has URLs; 15658424 has URLs that are not reddit \t by 09:45:25\n",
      "processed 26000000; added 12948565; 25916726 has URLs; 15970704 has URLs that are not reddit \t by 09:47:50\n",
      "processed 26500000; added 13188316; 26415334 has URLs; 16280579 has URLs that are not reddit \t by 09:50:11\n",
      "processed 27000000; added 13437883; 26913626 has URLs; 16586366 has URLs that are not reddit \t by 09:52:38\n",
      "processed 27500000; added 13683031; 27412036 has URLs; 16887419 has URLs that are not reddit \t by 09:55:00\n",
      "processed 28000000; added 13932883; 27910143 has URLs; 17196506 has URLs that are not reddit \t by 09:57:29\n",
      "processed 28500000; added 14190104; 28407677 has URLs; 17490721 has URLs that are not reddit \t by 09:59:42\n",
      "processed 29000000; added 14436995; 28906189 has URLs; 17798506 has URLs that are not reddit \t by 10:00:54\n",
      "processed 29500000; added 14694646; 29404466 has URLs; 18097205 has URLs that are not reddit \t by 10:02:05\n",
      "processed 30000000; added 14950369; 29902729 has URLs; 18393438 has URLs that are not reddit \t by 10:03:08\n",
      "processed 30500000; added 15213861; 30400897 has URLs; 18694344 has URLs that are not reddit \t by 10:04:20\n",
      "processed 31000000; added 15478544; 30899083 has URLs; 18986088 has URLs that are not reddit \t by 10:05:26\n",
      "processed 31500000; added 15732411; 31397414 has URLs; 19291286 has URLs that are not reddit \t by 10:06:36\n",
      "processed 32000000; added 15997012; 31895618 has URLs; 19585418 has URLs that are not reddit \t by 10:07:41\n",
      "processed 32500000; added 16243779; 32394095 has URLs; 19892201 has URLs that are not reddit \t by 10:08:46\n",
      "processed 33000000; added 16502064; 32892401 has URLs; 20193173 has URLs that are not reddit \t by 10:09:52\n",
      "processed 33500000; added 16747412; 33390846 has URLs; 20500696 has URLs that are not reddit \t by 10:10:58\n",
      "processed 34000000; added 17000138; 33889166 has URLs; 20804729 has URLs that are not reddit \t by 10:12:03\n",
      "processed 34500000; added 17249099; 34387648 has URLs; 21099506 has URLs that are not reddit \t by 10:13:03\n",
      "processed 35000000; added 17501526; 34885970 has URLs; 21402668 has URLs that are not reddit \t by 10:14:05\n",
      "processed 35500000; added 17755982; 35384332 has URLs; 21698209 has URLs that are not reddit \t by 10:15:05\n",
      "processed 36000000; added 18011342; 35882604 has URLs; 22002579 has URLs that are not reddit \t by 10:16:08\n",
      "****************************************** Summary ******************************************\n",
      "There are 36310673 total posts in 05, 36192154 has URLs, 22181096 has URLs that are not reddit and 18177456 of them have urls to our news sources.\n",
      "----------------------------------------------------------------------------------------\n",
      "-------------------------------- Done processing for RS_2021-05.zst --------------------------------\n",
      "----------------------------------------------------------------------------------------\n",
      "***** Start processing for RS_2021-06.zst *****\n",
      "processed 500000; added 259872; 498385 has URLs; 292148 has URLs that are not reddit \t by 10:17:49\n",
      "processed 1000000; added 520426; 996684 has URLs; 592885 has URLs that are not reddit \t by 10:18:50\n",
      "processed 1500000; added 773382; 1495050 has URLs; 893992 has URLs that are not reddit \t by 10:19:50\n",
      "processed 2000000; added 1035015; 1993120 has URLs; 1198504 has URLs that are not reddit \t by 10:20:50\n",
      "processed 2500000; added 1295307; 2491383 has URLs; 1492732 has URLs that are not reddit \t by 10:21:51\n",
      "processed 3000000; added 1542469; 2989700 has URLs; 1797576 has URLs that are not reddit \t by 10:22:50\n",
      "processed 3500000; added 1802630; 3487892 has URLs; 2095973 has URLs that are not reddit \t by 10:23:54\n"
     ]
    }
   ],
   "source": [
    "print(\"start time:\", datetime.datetime.now())\n",
    "\n",
    "\n",
    "for zst_file in zst_files:\n",
    "    counter = 0\n",
    "    num_containing_urls = 0\n",
    "    nc_wo_reddit = 0\n",
    "    added = 0\n",
    "    month = zst_file[8:10]\n",
    "    with open (\"E:/relevant_posts_{}.ndjson\".format(month), \"a\", encoding=\"utf-8\") as ndjfile:\n",
    "        writer = ndjson.writer(ndjfile, ensure_ascii=False)\n",
    "        print(\"***** Start processing for {} *****\".format(zst_file))\n",
    "        with open(zst_filepath+zst_file, 'rb') as ifh:\n",
    "            with dctx.stream_reader(ifh, read_size=2) as reader:\n",
    "                text_stream = io.TextIOWrapper(reader, encoding='utf-8')\n",
    "                for d in text_stream:\n",
    "                    line = json.loads(d)\n",
    "                    URLs = findURLs(line['url']) + findURLs(line['selftext'])                \n",
    "                    hostnames = [get_hostname(url) for url in URLs]\n",
    "                    URLs = [element for sub in hostnames for element in sub]\n",
    "                    subreddit = line[\"subreddit\"]\n",
    "                    if month in subreddits_total_activity[subreddit]:\n",
    "                        subreddits_total_activity[subreddit][month] += 1\n",
    "                    else:\n",
    "                        subreddits_total_activity[subreddit][month] = 1\n",
    "                    if len(URLs) > 0:\n",
    "                        num_containing_urls += 1\n",
    "                        if \"reddit.com\" not in URLs:\n",
    "                            nc_wo_reddit += 1\n",
    "                    for url in URLs:\n",
    "                        if url in gm_news_sources:\n",
    "                            to_write = dict()\n",
    "                            for f in interesting_features:\n",
    "                                to_write[f] = line[f]\n",
    "                            writer.writerow(to_write)\n",
    "                            added += 1\n",
    "                            break # write this post only once\n",
    "                    url_of_our_ns = False\n",
    "                    counter += 1\n",
    "                    if counter%500000 == 0: \n",
    "                        print(\"processed {}; added {}; {} has URLs; {} has URLs that are not reddit \\t by {}\".format(counter, added, num_containing_urls, nc_wo_reddit, str(datetime.datetime.now())[11:19]))\n",
    "        \n",
    "        print(\"****************************************** Summary ******************************************\")\n",
    "        print(f\"There are {counter} total posts in {month}, {num_containing_urls} has URLs, {nc_wo_reddit} has URLs that are not reddit and {added} of them have urls to our news sources.\")\n",
    "        \n",
    "        print(\"----------------------------------------------------------------------------------------\")\n",
    "        print(\"-------------------------------- Done processing for {} --------------------------------\".format(zst_file))\n",
    "        print(\"----------------------------------------------------------------------------------------\")\n",
    "\n",
    "with open (\"recent_subreddit_activity.json\", \"w\", encoding=\"utf-8\") as sub:\n",
    "    json.dump(subreddit_total_activity, sub)\n",
    "\n",
    "print(\"finish time:\", datetime.datetime.now())"
   ]
  },
  {
   "cell_type": "markdown",
   "metadata": {},
   "source": [
    "```\n",
    "There are 32704571 total posts in 01, 32611865 has URLs, 19864182 has URLs that are not reddit and 16764578 of them have urls to our news sources.\n",
    "\n",
    "There are 31147947 total posts in 02, 31042457 has URLs, 18595912 has URLs that are not reddit and 16219186 of them have urls to our news sources.\n",
    "\n",
    "There are 33006103 total posts in 03, 32898212 has URLs, 19828991 has URLs that are not reddit and 17229686 of them have urls to our news sources.\n",
    "\n",
    "There are 31616206 total posts in 04, 31509254 has URLs, 18843731 has URLs that are not reddit and 16901090 of them have urls to our news sources.\n",
    "\n",
    "There are 36310673 total posts in 05, 36192154 has URLs, 22181096 has URLs that are not reddit and 18177456 of them have urls to our news sources.\n",
    "```"
   ]
  },
  {
   "cell_type": "code",
   "execution_count": 5,
   "metadata": {},
   "outputs": [
    {
     "data": {
      "text/plain": [
       "0.8195021562505297"
      ]
     },
     "execution_count": 5,
     "metadata": {},
     "output_type": "execute_result"
    }
   ],
   "source": [
    "18177456/22181096"
   ]
  },
  {
   "cell_type": "code",
   "execution_count": 27,
   "metadata": {},
   "outputs": [
    {
     "data": {
      "text/plain": [
       "2361255"
      ]
     },
     "execution_count": 27,
     "metadata": {},
     "output_type": "execute_result"
    }
   ],
   "source": [
    "len(subreddits_total_activity)"
   ]
  },
  {
   "cell_type": "code",
   "execution_count": 38,
   "metadata": {},
   "outputs": [
    {
     "data": {
      "text/plain": [
       "129327"
      ]
     },
     "execution_count": 38,
     "metadata": {},
     "output_type": "execute_result"
    }
   ],
   "source": [
    "len([s for s in subreddits_total_activity if len(subreddits_total_activity[s])==6])"
   ]
  },
  {
   "cell_type": "code",
   "execution_count": 37,
   "metadata": {},
   "outputs": [
    {
     "data": {
      "text/plain": [
       "{'02': 490, '03': 537, '04': 478, '05': 455, '06': 451, '01': 589}"
      ]
     },
     "execution_count": 37,
     "metadata": {},
     "output_type": "execute_result"
    }
   ],
   "source": [
    "subreddits_total_activity[\"twilight\"]"
   ]
  },
  {
   "cell_type": "code",
   "execution_count": 21,
   "metadata": {},
   "outputs": [],
   "source": [
    "# with open(\"subreddits_total_activity.json\", \"w\", encoding=\"utf-8\") as af:\n",
    "#     json.dump(subreddits_total_activity, af)"
   ]
  },
  {
   "cell_type": "markdown",
   "metadata": {},
   "source": [
    "```\n",
    "Month            |    with news  |      total    |    % url with news    |\n",
    "-------------------------------------------------------------------------|\n",
    "January          |    1137576    |    32704571   |         3.48%         |\n",
    "February         |    1026958    |    31147947   |         3.29%         |\n",
    "March            |    1155554    |    33006103   |         3.50%         |\n",
    "April            |    1090699    |    31616206   |         3.45%         |\n",
    "May              |    1019503    |    36310673   |         2.81%         |\n",
    "June             |     811758    |    34118481   |         2.38%         |\n",
    "```"
   ]
  },
  {
   "cell_type": "code",
   "execution_count": 26,
   "metadata": {},
   "outputs": [
    {
     "data": {
      "text/plain": [
       "0.023792325338282204"
      ]
     },
     "execution_count": 26,
     "metadata": {},
     "output_type": "execute_result"
    }
   ],
   "source": [
    "811758/34118481"
   ]
  },
  {
   "cell_type": "code",
   "execution_count": 26,
   "metadata": {},
   "outputs": [
    {
     "data": {
      "text/plain": [
       "True"
      ]
     },
     "execution_count": 26,
     "metadata": {},
     "output_type": "execute_result"
    }
   ],
   "source": [
    "\"wikipedia.org\" in gmm_news_sources"
   ]
  },
  {
   "cell_type": "code",
   "execution_count": 18,
   "metadata": {},
   "outputs": [
    {
     "data": {
      "text/plain": [
       "235400"
      ]
     },
     "execution_count": 18,
     "metadata": {},
     "output_type": "execute_result"
    }
   ],
   "source": [
    "counter"
   ]
  },
  {
   "cell_type": "code",
   "execution_count": null,
   "metadata": {},
   "outputs": [],
   "source": []
  }
 ],
 "metadata": {
  "kernelspec": {
   "display_name": "Python 3",
   "language": "python",
   "name": "python3"
  },
  "language_info": {
   "codemirror_mode": {
    "name": "ipython",
    "version": 3
   },
   "file_extension": ".py",
   "mimetype": "text/x-python",
   "name": "python",
   "nbconvert_exporter": "python",
   "pygments_lexer": "ipython3",
   "version": "3.8.6"
  }
 },
 "nbformat": 4,
 "nbformat_minor": 4
}
