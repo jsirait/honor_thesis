{
 "cells": [
  {
   "cell_type": "markdown",
   "metadata": {},
   "source": [
    "# Clustering Small Set of News Sources\n",
    "\n",
    "Junita Sirait\n",
    "\n",
    "For case study purposes"
   ]
  },
  {
   "cell_type": "code",
   "execution_count": 232,
   "metadata": {},
   "outputs": [],
   "source": [
    "import json\n",
    "import csv\n",
    "import pandas as pd\n",
    "import numpy as np\n",
    "import statistics\n",
    "\n",
    "import tldextract\n",
    "\n",
    "from collections import Counter, defaultdict\n",
    "import matplotlib.pyplot as plt\n",
    "import seaborn as sns\n",
    "\n",
    "from sklearn.cluster import KMeans\n",
    "from sklearn.cluster import AgglomerativeClustering\n",
    "\n",
    "from sklearn.preprocessing import StandardScaler\n",
    "\n",
    "from sklearn import preprocessing\n",
    "\n",
    "from sklearn.metrics import silhouette_score\n",
    "from kneed import KneeLocator\n",
    "\n",
    "from scipy.interpolate import make_interp_spline, BSpline\n",
    "\n",
    "from sklearn.decomposition import PCA\n",
    "from sklearn.decomposition import TruncatedSVD\n",
    "\n",
    "import math\n",
    "\n",
    "from sklearn.feature_selection import SelectKBest\n",
    "from sklearn.feature_selection import VarianceThreshold\n",
    "\n",
    "import os"
   ]
  },
  {
   "cell_type": "code",
   "execution_count": 2,
   "metadata": {},
   "outputs": [],
   "source": [
    "sports_subreddits = [\n",
    "    \"Patriots\",\n",
    "    \"GreenBayPackers\",\n",
    "    \"Seahawks\",\n",
    "    \"eagles\",\n",
    "    \"cowboys\",\n",
    "    \"minnesotavikings\",\n",
    "    \"DenverBroncos\",\n",
    "    \"steelers\",\n",
    "    \"49ers\",\n",
    "    \"detroitlions\",\n",
    "    \"falcons\",\n",
    "    \"panthers\",\n",
    "    \"CHIBears\",\n",
    "    \"NYGiants\",\n",
    "    \"Browns\",\n",
    "    \"Texans\",\n",
    "    \"Chargers\",\n",
    "    \"oaklandraiders\",\n",
    "    \"bengals\",\n",
    "    \"buffalobills\",\n",
    "    \"ravens\",\n",
    "    \"Colts\",\n",
    "    \"nyjets\",\n",
    "    \"Redskins\",\n",
    "    \"miamidolphins\",\n",
    "    \"KansasCityChiefs\",\n",
    "    \"Tennesseetitans\",\n",
    "    \"AZCardinals\",\n",
    "    \"Saints\",\n",
    "    \"LosAngelesRams\",\n",
    "    \"Jaguars\",\n",
    "    \"buccaneers\",\n",
    "    \"StLouisRams\",\n",
    "    \"warriors\",\n",
    "    \"clevelandcavs\",\n",
    "    \"lakers\",\n",
    "    \"chicagobulls\",\n",
    "    \"torontoraptors\",\n",
    "    \"bostonceltics\",\n",
    "    \"NYKnicks\",\n",
    "    \"sixers\",\n",
    "    \"rockets\",\n",
    "    \"Thunder\",\n",
    "    \"NBASpurs\",\n",
    "    \"heat\",\n",
    "    \"timberwolves\",\n",
    "    \"AtlantaHawks\",\n",
    "    \"Mavericks\",\n",
    "    \"kings\",\n",
    "    \"MkeBucks\",\n",
    "    \"LAClippers\",\n",
    "    \"suns\",\n",
    "    \"CharlotteHornets\",\n",
    "    \"washingtonwizards\",\n",
    "    \"DetroitPistons\",\n",
    "    \"pacers\",\n",
    "    \"OrlandoMagic\",\n",
    "    \"GoNets\",\n",
    "    \"NOLAPelicans\",\n",
    "    \"denvernuggets\",\n",
    "    \"UtahJazz\",\n",
    "    \"memphisgrizzlies\",\n",
    "    \"reddevils\",\n",
    "    \"Gunners\",\n",
    "    \"LiverpoolFC\",\n",
    "    \"chelseafc\",\n",
    "    \"coys\",\n",
    "    \"MCFC\",\n",
    "    \"Everton\",\n",
    "    \"Hammers\",\n",
    "    \"SaintsFC\",\n",
    "    \"lcfc\",\n",
    "    \"swanseacity\",\n",
    "    \"crystalpalace\",\n",
    "    \"safc\",\n",
    "    \"watford_FC\",\n",
    "    \"WBAfootball\",\n",
    "    \"AFCBournemouth\",\n",
    "    \"HullCity\",\n",
    "    \"StokeCityFC\",\n",
    "    \"Burnley\",\n",
    "    \"Middlesbrough\"\n",
    "]"
   ]
  },
  {
   "cell_type": "markdown",
   "metadata": {},
   "source": [
    "<a id=\"sub1\"></a>\n",
    "## Subreddit data"
   ]
  },
  {
   "cell_type": "code",
   "execution_count": 3,
   "metadata": {},
   "outputs": [],
   "source": [
    "pd = os.path.split(os.getcwd())[0]\n",
    "data_fp = os.path.join(pd,\"data/gm-newssources-subreddits\")\n",
    "dfp = os.path.join(pd,\"data\")\n",
    "mbfc_path = os.path.join(pd, \"data/mbfc\")"
   ]
  },
  {
   "cell_type": "code",
   "execution_count": 4,
   "metadata": {},
   "outputs": [],
   "source": [
    "with open (os.path.join(dfp,\"gmm_intersection.json\"), \"r\", encoding = \"utf-8\") as infile:\n",
    "    gmm_intersection = json.load(infile)"
   ]
  },
  {
   "cell_type": "code",
   "execution_count": 5,
   "metadata": {},
   "outputs": [
    {
     "data": {
      "text/plain": [
       "1631"
      ]
     },
     "execution_count": 5,
     "metadata": {},
     "output_type": "execute_result"
    }
   ],
   "source": [
    "len(gmm_intersection)"
   ]
  },
  {
   "cell_type": "code",
   "execution_count": 6,
   "metadata": {},
   "outputs": [],
   "source": [
    "with open (os.path.join(dfp,\"gm_intersection.json\"), \"r\", encoding = \"utf-8\") as infile:\n",
    "    gm_intersection = json.load(infile)"
   ]
  },
  {
   "cell_type": "code",
   "execution_count": 7,
   "metadata": {},
   "outputs": [
    {
     "data": {
      "text/plain": [
       "42477"
      ]
     },
     "execution_count": 7,
     "metadata": {},
     "output_type": "execute_result"
    }
   ],
   "source": [
    "len(gm_intersection)"
   ]
  },
  {
   "cell_type": "code",
   "execution_count": 8,
   "metadata": {},
   "outputs": [],
   "source": [
    "# Reading in all the subreddits in our files\n",
    "\n",
    "with open(os.path.join(data_fp,\"subreddit_ns_2021-01.json\"), \"r\", encoding = \"utf-8\") as infile1a:\n",
    "    subreddit_ns_jan = json.load(infile1a)\n",
    "\n",
    "with open(os.path.join(data_fp,\"subreddit_ns_2021-02.json\"), \"r\", encoding = \"utf-8\") as infile2a:\n",
    "    subreddit_ns_feb = json.load(infile2a)\n",
    "    \n",
    "with open(os.path.join(data_fp,\"subreddit_ns_2021-03.json\"), \"r\", encoding = \"utf-8\") as infile3a:\n",
    "    subreddit_ns_march = json.load(infile3a)\n",
    "    \n",
    "with open(os.path.join(data_fp,\"subreddit_ns_2021-04.json\"), \"r\", encoding = \"utf-8\") as infile4a:\n",
    "    subreddit_ns_april = json.load(infile4a)\n",
    "    \n",
    "with open(os.path.join(data_fp,\"subreddit_ns_2021-05.json\"), \"r\", encoding = \"utf-8\") as infile5a:\n",
    "    subreddit_ns_may = json.load(infile5a)\n",
    "    \n",
    "with open(os.path.join(data_fp,\"subreddit_ns_2021-06.json\"), \"r\", encoding = \"utf-8\") as infile6a:\n",
    "    subreddit_ns_jun = json.load(infile6a)"
   ]
  },
  {
   "cell_type": "code",
   "execution_count": 9,
   "metadata": {},
   "outputs": [],
   "source": [
    "# ns_subreddit\n",
    "with open(os.path.join(data_fp,\"ns_subreddit_2021-01.json\")) as infile1:\n",
    "    ns_subreddit_01 = json.load(infile1)\n",
    "    \n",
    "with open(os.path.join(data_fp,\"ns_subreddit_2021-02.json\")) as infile2:\n",
    "    ns_subreddit_02 = json.load(infile2)\n",
    "    \n",
    "with open(os.path.join(data_fp,\"ns_subreddit_2021-03.json\")) as infile3:\n",
    "    ns_subreddit_03 = json.load(infile3)\n",
    "    \n",
    "with open(os.path.join(data_fp,\"ns_subreddit_2021-04.json\")) as infile4:\n",
    "    ns_subreddit_04 = json.load(infile4)\n",
    "    \n",
    "with open(os.path.join(data_fp,\"ns_subreddit_2021-05.json\")) as infile5:\n",
    "    ns_subreddit_05 = json.load(infile5)\n",
    "    \n",
    "with open(os.path.join(data_fp,\"ns_subreddit_2021-06.json\")) as infile6:\n",
    "    ns_subreddit_06 = json.load(infile6)"
   ]
  },
  {
   "cell_type": "markdown",
   "metadata": {},
   "source": [
    "## Let's only use subreddits in `sports_subreddits` for this case study"
   ]
  },
  {
   "cell_type": "code",
   "execution_count": 10,
   "metadata": {},
   "outputs": [],
   "source": [
    "# filtering all files\n",
    "subreddit_ns_jan = {k: subreddit_ns_jan[k] for k in subreddit_ns_jan.keys() & set(sports_subreddits)}\n",
    "subreddit_ns_feb = {k: subreddit_ns_feb[k] for k in subreddit_ns_feb.keys() & set(sports_subreddits)}\n",
    "subreddit_ns_march = {k: subreddit_ns_march[k] for k in subreddit_ns_march.keys() & set(sports_subreddits)}\n",
    "subreddit_ns_april = {k: subreddit_ns_april[k] for k in subreddit_ns_april.keys() & set(sports_subreddits)}\n",
    "subreddit_ns_may = {k: subreddit_ns_may[k] for k in subreddit_ns_may.keys() & set(sports_subreddits)}\n",
    "subreddit_ns_jun = {k: subreddit_ns_jun[k] for k in subreddit_ns_jun.keys() & set(sports_subreddits)}"
   ]
  },
  {
   "cell_type": "code",
   "execution_count": 11,
   "metadata": {},
   "outputs": [],
   "source": [
    "files_sub = [subreddit_ns_jan, subreddit_ns_feb, subreddit_ns_march, subreddit_ns_april, subreddit_ns_may, subreddit_ns_jun]\n",
    "files_ns = [ns_subreddit_01, ns_subreddit_02, ns_subreddit_03, ns_subreddit_04, ns_subreddit_05, ns_subreddit_06]"
   ]
  },
  {
   "cell_type": "code",
   "execution_count": 12,
   "metadata": {},
   "outputs": [],
   "source": [
    "sr_union_old = set(sports_subreddits) & (\n",
    "      set(subreddit_ns_jan) | set(subreddit_ns_feb) |\n",
    "      set(subreddit_ns_march) | set(subreddit_ns_april) |\n",
    "      set(subreddit_ns_may) | set(subreddit_ns_jun))"
   ]
  },
  {
   "cell_type": "code",
   "execution_count": 13,
   "metadata": {},
   "outputs": [
    {
     "data": {
      "text/plain": [
       "80"
      ]
     },
     "execution_count": 13,
     "metadata": {},
     "output_type": "execute_result"
    }
   ],
   "source": [
    "len(sr_union_old)"
   ]
  },
  {
   "cell_type": "code",
   "execution_count": 14,
   "metadata": {},
   "outputs": [
    {
     "data": {
      "text/plain": [
       "82"
      ]
     },
     "execution_count": 14,
     "metadata": {},
     "output_type": "execute_result"
    }
   ],
   "source": [
    "len(sports_subreddits)"
   ]
  },
  {
   "cell_type": "markdown",
   "metadata": {},
   "source": [
    "Removing \"reddit.com\" and non_news from files_sub"
   ]
  },
  {
   "cell_type": "code",
   "execution_count": 15,
   "metadata": {},
   "outputs": [
    {
     "data": {
      "text/plain": [
       "130"
      ]
     },
     "execution_count": 15,
     "metadata": {},
     "output_type": "execute_result"
    }
   ],
   "source": [
    "non_news = []\n",
    "with open(\"non_news.csv\", \"r\", encoding=\"utf-8\") as nn:\n",
    "    r = csv.reader(nn, delimiter=\",\")\n",
    "    counter = 0\n",
    "    for row in r:\n",
    "        if counter != 0:\n",
    "            non_news.append(row[0])\n",
    "        counter += 1\n",
    "len(non_news)"
   ]
  },
  {
   "cell_type": "code",
   "execution_count": 16,
   "metadata": {},
   "outputs": [
    {
     "name": "stdout",
     "output_type": "stream",
     "text": [
      "Done for a file\n",
      "Done for a file\n",
      "Done for a file\n",
      "Done for a file\n",
      "Done for a file\n",
      "Done for a file\n"
     ]
    }
   ],
   "source": [
    "for f in files_sub:\n",
    "    for n in f:\n",
    "        if 'reddit.com' in f[n]: f[n].pop('reddit.com')\n",
    "        # removing each of the non_news\n",
    "        for nns in non_news:\n",
    "            if nns in f[n]: f[n].pop(nns)\n",
    "    print(\"Done for a file\")"
   ]
  },
  {
   "cell_type": "markdown",
   "metadata": {},
   "source": [
    "Now that we have removed non_news from various subreddits, there would be subreddits that now does not have anything inside. Let's get rid of these subreddits as well."
   ]
  },
  {
   "cell_type": "code",
   "execution_count": 19,
   "metadata": {},
   "outputs": [],
   "source": [
    "files_sub = [subreddit_ns_jan, subreddit_ns_feb, subreddit_ns_march, subreddit_ns_april, subreddit_ns_may, subreddit_ns_jun]\n",
    "files_ns = [ns_subreddit_01, ns_subreddit_02, ns_subreddit_03, ns_subreddit_04, ns_subreddit_05, ns_subreddit_06]"
   ]
  },
  {
   "cell_type": "code",
   "execution_count": 20,
   "metadata": {},
   "outputs": [
    {
     "data": {
      "text/plain": [
       "6"
      ]
     },
     "execution_count": 20,
     "metadata": {},
     "output_type": "execute_result"
    }
   ],
   "source": [
    "empty_subs = set()\n",
    "for s in files_sub:\n",
    "    for k in s:\n",
    "        if len(s[k]) == 0: empty_subs.add(k)\n",
    "len(empty_subs)"
   ]
  },
  {
   "cell_type": "code",
   "execution_count": 21,
   "metadata": {},
   "outputs": [
    {
     "name": "stdout",
     "output_type": "stream",
     "text": [
      "done for a file\n",
      "done for a file\n",
      "done for a file\n",
      "done for a file\n",
      "done for a file\n",
      "done for a file\n"
     ]
    }
   ],
   "source": [
    "for f in files_sub:\n",
    "    [f.pop(u) for u in empty_subs if u in f]\n",
    "    print(\"done for a file\")"
   ]
  },
  {
   "cell_type": "markdown",
   "metadata": {},
   "source": [
    "Instead of removing from files_ns, I will reconstruct files_ns from files_sub."
   ]
  },
  {
   "cell_type": "code",
   "execution_count": 22,
   "metadata": {},
   "outputs": [],
   "source": [
    "def ns_from_sub(subfile):\n",
    "    d = defaultdict(dict)\n",
    "    for sub in subfile:\n",
    "        for n in subfile[sub]:\n",
    "            d[n][sub] = subfile[sub][n]\n",
    "    return d"
   ]
  },
  {
   "cell_type": "code",
   "execution_count": 23,
   "metadata": {},
   "outputs": [],
   "source": [
    "ns_subreddit_01 = ns_from_sub(subreddit_ns_jan)\n",
    "ns_subreddit_02 = ns_from_sub(subreddit_ns_feb)\n",
    "ns_subreddit_03 = ns_from_sub(subreddit_ns_march)\n",
    "ns_subreddit_04 = ns_from_sub(subreddit_ns_april)\n",
    "ns_subreddit_05 = ns_from_sub(subreddit_ns_may)\n",
    "ns_subreddit_06 = ns_from_sub(subreddit_ns_jun)"
   ]
  },
  {
   "cell_type": "code",
   "execution_count": 24,
   "metadata": {},
   "outputs": [
    {
     "data": {
      "text/plain": [
       "False"
      ]
     },
     "execution_count": 24,
     "metadata": {},
     "output_type": "execute_result"
    }
   ],
   "source": [
    "\"reddit.com\" in ns_subreddit_01"
   ]
  },
  {
   "cell_type": "markdown",
   "metadata": {},
   "source": [
    "Let's use the intersection in an alphabetical order as a fixed order of our subreddits."
   ]
  },
  {
   "cell_type": "code",
   "execution_count": 25,
   "metadata": {},
   "outputs": [],
   "source": [
    "subs = sorted(set(subreddit_ns_jan) & set(subreddit_ns_feb) &\n",
    "      set(subreddit_ns_march) & set(subreddit_ns_april) &\n",
    "      set(subreddit_ns_may) & set(subreddit_ns_jun))"
   ]
  },
  {
   "cell_type": "code",
   "execution_count": 26,
   "metadata": {
    "scrolled": true
   },
   "outputs": [
    {
     "data": {
      "text/plain": [
       "74"
      ]
     },
     "execution_count": 26,
     "metadata": {},
     "output_type": "execute_result"
    }
   ],
   "source": [
    "len(subs)"
   ]
  },
  {
   "cell_type": "markdown",
   "metadata": {},
   "source": [
    "## Intersections and unions of subreddits"
   ]
  },
  {
   "cell_type": "code",
   "execution_count": 27,
   "metadata": {
    "scrolled": true
   },
   "outputs": [
    {
     "name": "stdout",
     "output_type": "stream",
     "text": [
      "intersection: 74\n"
     ]
    }
   ],
   "source": [
    "# what about their intersection?\n",
    "sr_intersection = (\n",
    "      set(subreddit_ns_jan) & set(subreddit_ns_feb) &\n",
    "      set(subreddit_ns_march) & set(subreddit_ns_april) &\n",
    "      set(subreddit_ns_may) & set(subreddit_ns_jun))\n",
    "\n",
    "print(\"intersection:\", len(sr_intersection))"
   ]
  },
  {
   "cell_type": "code",
   "execution_count": 28,
   "metadata": {},
   "outputs": [
    {
     "name": "stdout",
     "output_type": "stream",
     "text": [
      "union: 74\n"
     ]
    }
   ],
   "source": [
    "sr_union = (\n",
    "      set(subreddit_ns_jan) | set(subreddit_ns_feb) |\n",
    "      set(subreddit_ns_march) | set(subreddit_ns_april) |\n",
    "      set(subreddit_ns_may) | set(subreddit_ns_jun))\n",
    "\n",
    "print(\"union:\", len(sr_union))"
   ]
  },
  {
   "cell_type": "markdown",
   "metadata": {},
   "source": [
    "<a id=\"sub2\"></a>\n",
    "## News sources data"
   ]
  },
  {
   "cell_type": "markdown",
   "metadata": {},
   "source": [
    "How many news sources are there?"
   ]
  },
  {
   "cell_type": "code",
   "execution_count": 29,
   "metadata": {},
   "outputs": [
    {
     "data": {
      "text/plain": [
       "1309"
      ]
     },
     "execution_count": 29,
     "metadata": {},
     "output_type": "execute_result"
    }
   ],
   "source": [
    "# union\n",
    "ns_union = (set(ns_subreddit_01) |\n",
    "       set(ns_subreddit_02) |\n",
    "       set(ns_subreddit_03) |\n",
    "       set(ns_subreddit_04) |\n",
    "       set(ns_subreddit_05) |\n",
    "       set(ns_subreddit_06))\n",
    "\n",
    "len(ns_union)"
   ]
  },
  {
   "cell_type": "code",
   "execution_count": 30,
   "metadata": {},
   "outputs": [],
   "source": [
    "nss = (set(ns_subreddit_01) &\n",
    "       set(ns_subreddit_02) &\n",
    "       set(ns_subreddit_03) &\n",
    "       set(ns_subreddit_04) &\n",
    "       set(ns_subreddit_05) &\n",
    "       set(ns_subreddit_06))"
   ]
  },
  {
   "cell_type": "code",
   "execution_count": 31,
   "metadata": {},
   "outputs": [
    {
     "data": {
      "text/plain": [
       "234"
      ]
     },
     "execution_count": 31,
     "metadata": {},
     "output_type": "execute_result"
    }
   ],
   "source": [
    "num_ns = len(nss)\n",
    "num_ns"
   ]
  },
  {
   "cell_type": "markdown",
   "metadata": {},
   "source": [
    "## For each news source, let's count in how many subreddits they appear"
   ]
  },
  {
   "cell_type": "code",
   "execution_count": 32,
   "metadata": {},
   "outputs": [],
   "source": [
    "subreddit_count = dict()\n",
    "for ns in ns_union:\n",
    "    subreddit_count[ns] = len(set(ns_subreddit_01.get(ns, dict()).keys()) \n",
    "                               | set(ns_subreddit_02.get(ns, dict()).keys()) \n",
    "                               | set(ns_subreddit_03.get(ns, dict()).keys()) \n",
    "                               | set(ns_subreddit_04.get(ns, dict()).keys())\n",
    "                               | set(ns_subreddit_05.get(ns, dict()).keys()) \n",
    "                               | set(ns_subreddit_06.get(ns, dict()).keys()))"
   ]
  },
  {
   "cell_type": "markdown",
   "metadata": {},
   "source": [
    "`subreddit_count` stores in how many subreddits each news source appears."
   ]
  },
  {
   "cell_type": "code",
   "execution_count": 33,
   "metadata": {},
   "outputs": [
    {
     "data": {
      "text/plain": [
       "44"
      ]
     },
     "execution_count": 33,
     "metadata": {},
     "output_type": "execute_result"
    }
   ],
   "source": [
    "subreddit_count['nytimes.com']"
   ]
  },
  {
   "cell_type": "code",
   "execution_count": 34,
   "metadata": {},
   "outputs": [
    {
     "data": {
      "text/plain": [
       "{1: 690,\n",
       " 2: 203,\n",
       " 3: 102,\n",
       " 4: 71,\n",
       " 5: 56,\n",
       " 6: 37,\n",
       " 7: 26,\n",
       " 8: 18,\n",
       " 11: 12,\n",
       " 9: 12,\n",
       " 10: 9,\n",
       " 15: 5,\n",
       " 14: 5,\n",
       " 12: 4,\n",
       " 18: 4,\n",
       " 17: 4,\n",
       " 30: 4,\n",
       " 46: 3,\n",
       " 41: 3,\n",
       " 31: 3,\n",
       " 29: 2,\n",
       " 20: 2,\n",
       " 65: 2,\n",
       " 24: 2,\n",
       " 23: 2,\n",
       " 13: 2,\n",
       " 70: 2,\n",
       " 25: 2,\n",
       " 32: 2,\n",
       " 16: 2,\n",
       " 49: 1,\n",
       " 51: 1,\n",
       " 28: 1,\n",
       " 37: 1,\n",
       " 27: 1,\n",
       " 22: 1,\n",
       " 64: 1,\n",
       " 44: 1,\n",
       " 19: 1,\n",
       " 62: 1,\n",
       " 60: 1,\n",
       " 34: 1,\n",
       " 21: 1,\n",
       " 45: 1,\n",
       " 26: 1,\n",
       " 50: 1,\n",
       " 48: 1,\n",
       " 42: 1}"
      ]
     },
     "execution_count": 34,
     "metadata": {},
     "output_type": "execute_result"
    }
   ],
   "source": [
    "subreddit_count_freq = dict(Counter(subreddit_count.values()).most_common())\n",
    "subreddit_count_freq"
   ]
  },
  {
   "cell_type": "markdown",
   "metadata": {},
   "source": [
    "`subreddit_count_freq` keeps track of how many news sources appear in *n* subreddits for all possible *n*."
   ]
  },
  {
   "cell_type": "code",
   "execution_count": 35,
   "metadata": {},
   "outputs": [
    {
     "data": {
      "text/plain": [
       "70"
      ]
     },
     "execution_count": 35,
     "metadata": {},
     "output_type": "execute_result"
    }
   ],
   "source": [
    "max(subreddit_count_freq.keys())"
   ]
  },
  {
   "cell_type": "code",
   "execution_count": 36,
   "metadata": {},
   "outputs": [
    {
     "name": "stdout",
     "output_type": "stream",
     "text": [
      "espn.com is mentioned in 70 subreddits.\n",
      "theathletic.com is mentioned in 70 subreddits.\n",
      "bleacherreport.com is mentioned in 65 subreddits.\n",
      "cbssports.com is mentioned in 65 subreddits.\n",
      "si.com is mentioned in 64 subreddits.\n",
      "nbcsports.com is mentioned in 62 subreddits.\n",
      "usatoday.com is mentioned in 60 subreddits.\n",
      "prosportsextra.com is mentioned in 51 subreddits.\n",
      "theringer.com is mentioned in 50 subreddits.\n",
      "sbnation.com is mentioned in 49 subreddits.\n",
      "thescore.com is mentioned in 48 subreddits.\n",
      "msn.com is mentioned in 46 subreddits.\n",
      "fansided.com is mentioned in 46 subreddits.\n",
      "fivethirtyeight.com is mentioned in 46 subreddits.\n",
      "bolavip.com is mentioned in 45 subreddits.\n",
      "nytimes.com is mentioned in 44 subreddits.\n",
      "foxsports.com is mentioned in 42 subreddits.\n",
      "nypost.com is mentioned in 41 subreddits.\n",
      "forbes.com is mentioned in 41 subreddits.\n",
      "clutchpoints.com is mentioned in 41 subreddits.\n"
     ]
    }
   ],
   "source": [
    "sde_ranked = Counter(subreddit_count).most_common()\n",
    "\n",
    "for t in sde_ranked[:20]:\n",
    "    sr, co = t\n",
    "    if co > 1:\n",
    "        print(f\"{sr} is mentioned in {co} subreddits.\")"
   ]
  },
  {
   "cell_type": "code",
   "execution_count": 37,
   "metadata": {},
   "outputs": [
    {
     "data": {
      "text/plain": [
       "True"
      ]
     },
     "execution_count": 37,
     "metadata": {},
     "output_type": "execute_result"
    }
   ],
   "source": [
    "sum(subreddit_count_freq.values()) == len(ns_union)"
   ]
  },
  {
   "cell_type": "code",
   "execution_count": 38,
   "metadata": {},
   "outputs": [],
   "source": [
    "import itertools"
   ]
  },
  {
   "cell_type": "code",
   "execution_count": 39,
   "metadata": {},
   "outputs": [],
   "source": [
    "scf = list(itertools.chain.from_iterable(itertools.repeat(k,v) for k,v in subreddit_count_freq.items()))"
   ]
  },
  {
   "cell_type": "code",
   "execution_count": 40,
   "metadata": {
    "scrolled": true
   },
   "outputs": [
    {
     "data": {
      "text/plain": [
       "Text(0.5, 1.0, 'number of news sources appearing in x subreddits')"
      ]
     },
     "execution_count": 40,
     "metadata": {},
     "output_type": "execute_result"
    },
    {
     "data": {
      "image/png": "[encoded data removed]",
      "text/plain": [
       "<Figure size 432x288 with 1 Axes>"
      ]
     },
     "metadata": {
      "needs_background": "light"
     },
     "output_type": "display_data"
    }
   ],
   "source": [
    "# sns.histplot([math.log(s,10) for s in scf])\n",
    "sns.histplot(scf, log_scale=True)\n",
    "plt.xlabel(\"number of subreddit\")\n",
    "plt.ylabel(\"news source count\")\n",
    "plt.title(\"number of news sources appearing in x subreddits\")"
   ]
  },
  {
   "cell_type": "markdown",
   "metadata": {},
   "source": [
    "How many news sources only appear in 10 subreddits or less? what about 9 or 8?"
   ]
  },
  {
   "cell_type": "code",
   "execution_count": 41,
   "metadata": {},
   "outputs": [],
   "source": [
    "def pct_ns_in_k_subreddits(ks):\n",
    "    ns_in_i_subreddit = [k for k in subreddit_count if subreddit_count[k] <= ks]\n",
    "    count = len(ns_in_i_subreddit)\n",
    "    print(\"There are {} news sources appearing in only {} subreddits or less ({}%)\".format(count, ks, count/len(ns_union)))\n",
    "    return count/len(ns_union)"
   ]
  },
  {
   "cell_type": "code",
   "execution_count": 42,
   "metadata": {},
   "outputs": [
    {
     "name": "stdout",
     "output_type": "stream",
     "text": [
      "There are 1122 news sources appearing in only 5 subreddits or less (0.8571428571428571%)\n"
     ]
    },
    {
     "data": {
      "text/plain": [
       "0.8571428571428571"
      ]
     },
     "execution_count": 42,
     "metadata": {},
     "output_type": "execute_result"
    }
   ],
   "source": [
    "pct_ns_in_k_subreddits(5)"
   ]
  },
  {
   "cell_type": "code",
   "execution_count": 43,
   "metadata": {},
   "outputs": [
    {
     "data": {
      "text/plain": [
       "196.35"
      ]
     },
     "execution_count": 43,
     "metadata": {},
     "output_type": "execute_result"
    }
   ],
   "source": [
    "0.15*len(ns_union)"
   ]
  },
  {
   "cell_type": "code",
   "execution_count": 44,
   "metadata": {},
   "outputs": [
    {
     "name": "stdout",
     "output_type": "stream",
     "text": [
      "There are 0 news sources appearing in only 0 subreddits or less (0.0%)\n",
      "There are 690 news sources appearing in only 1 subreddits or less (0.5271199388846448%)\n",
      "There are 893 news sources appearing in only 2 subreddits or less (0.6822001527883881%)\n",
      "There are 995 news sources appearing in only 3 subreddits or less (0.760122230710466%)\n",
      "There are 1066 news sources appearing in only 4 subreddits or less (0.8143621084797555%)\n",
      "There are 1122 news sources appearing in only 5 subreddits or less (0.8571428571428571%)\n",
      "There are 1159 news sources appearing in only 6 subreddits or less (0.8854087089381207%)\n",
      "There are 1185 news sources appearing in only 7 subreddits or less (0.9052711993888465%)\n",
      "There are 1203 news sources appearing in only 8 subreddits or less (0.919022154316272%)\n",
      "There are 1215 news sources appearing in only 9 subreddits or less (0.9281894576012223%)\n",
      "There are 1224 news sources appearing in only 10 subreddits or less (0.935064935064935%)\n",
      "There are 1236 news sources appearing in only 11 subreddits or less (0.9442322383498855%)\n",
      "There are 1240 news sources appearing in only 12 subreddits or less (0.9472880061115355%)\n",
      "There are 1242 news sources appearing in only 13 subreddits or less (0.9488158899923606%)\n",
      "There are 1247 news sources appearing in only 14 subreddits or less (0.9526355996944232%)\n",
      "There are 1252 news sources appearing in only 15 subreddits or less (0.9564553093964858%)\n",
      "There are 1254 news sources appearing in only 16 subreddits or less (0.957983193277311%)\n",
      "There are 1258 news sources appearing in only 17 subreddits or less (0.961038961038961%)\n",
      "There are 1262 news sources appearing in only 18 subreddits or less (0.9640947288006112%)\n",
      "There are 1263 news sources appearing in only 19 subreddits or less (0.9648586707410237%)\n",
      "There are 1265 news sources appearing in only 20 subreddits or less (0.9663865546218487%)\n",
      "There are 1266 news sources appearing in only 21 subreddits or less (0.9671504965622613%)\n",
      "There are 1267 news sources appearing in only 22 subreddits or less (0.9679144385026738%)\n",
      "There are 1269 news sources appearing in only 23 subreddits or less (0.9694423223834988%)\n",
      "There are 1271 news sources appearing in only 24 subreddits or less (0.970970206264324%)\n",
      "There are 1273 news sources appearing in only 25 subreddits or less (0.972498090145149%)\n",
      "There are 1274 news sources appearing in only 26 subreddits or less (0.9732620320855615%)\n",
      "There are 1275 news sources appearing in only 27 subreddits or less (0.974025974025974%)\n",
      "There are 1276 news sources appearing in only 28 subreddits or less (0.9747899159663865%)\n",
      "There are 1278 news sources appearing in only 29 subreddits or less (0.9763177998472116%)\n",
      "There are 1282 news sources appearing in only 30 subreddits or less (0.9793735676088617%)\n",
      "There are 1285 news sources appearing in only 31 subreddits or less (0.9816653934300993%)\n",
      "There are 1287 news sources appearing in only 32 subreddits or less (0.9831932773109243%)\n",
      "There are 1287 news sources appearing in only 33 subreddits or less (0.9831932773109243%)\n",
      "There are 1288 news sources appearing in only 34 subreddits or less (0.983957219251337%)\n",
      "There are 1288 news sources appearing in only 35 subreddits or less (0.983957219251337%)\n",
      "There are 1288 news sources appearing in only 36 subreddits or less (0.983957219251337%)\n",
      "There are 1289 news sources appearing in only 37 subreddits or less (0.9847211611917495%)\n",
      "There are 1289 news sources appearing in only 38 subreddits or less (0.9847211611917495%)\n",
      "There are 1289 news sources appearing in only 39 subreddits or less (0.9847211611917495%)\n",
      "There are 1289 news sources appearing in only 40 subreddits or less (0.9847211611917495%)\n",
      "There are 1292 news sources appearing in only 41 subreddits or less (0.987012987012987%)\n",
      "There are 1293 news sources appearing in only 42 subreddits or less (0.9877769289533995%)\n",
      "There are 1293 news sources appearing in only 43 subreddits or less (0.9877769289533995%)\n",
      "There are 1294 news sources appearing in only 44 subreddits or less (0.988540870893812%)\n",
      "There are 1295 news sources appearing in only 45 subreddits or less (0.9893048128342246%)\n",
      "There are 1298 news sources appearing in only 46 subreddits or less (0.9915966386554622%)\n",
      "There are 1298 news sources appearing in only 47 subreddits or less (0.9915966386554622%)\n",
      "There are 1299 news sources appearing in only 48 subreddits or less (0.9923605805958747%)\n",
      "There are 1300 news sources appearing in only 49 subreddits or less (0.9931245225362872%)\n",
      "There are 1301 news sources appearing in only 50 subreddits or less (0.9938884644766998%)\n",
      "There are 1302 news sources appearing in only 51 subreddits or less (0.9946524064171123%)\n",
      "There are 1302 news sources appearing in only 52 subreddits or less (0.9946524064171123%)\n",
      "There are 1302 news sources appearing in only 53 subreddits or less (0.9946524064171123%)\n",
      "There are 1302 news sources appearing in only 54 subreddits or less (0.9946524064171123%)\n",
      "There are 1302 news sources appearing in only 55 subreddits or less (0.9946524064171123%)\n",
      "There are 1302 news sources appearing in only 56 subreddits or less (0.9946524064171123%)\n",
      "There are 1302 news sources appearing in only 57 subreddits or less (0.9946524064171123%)\n",
      "There are 1302 news sources appearing in only 58 subreddits or less (0.9946524064171123%)\n",
      "There are 1302 news sources appearing in only 59 subreddits or less (0.9946524064171123%)\n",
      "There are 1303 news sources appearing in only 60 subreddits or less (0.9954163483575248%)\n",
      "There are 1303 news sources appearing in only 61 subreddits or less (0.9954163483575248%)\n",
      "There are 1304 news sources appearing in only 62 subreddits or less (0.9961802902979373%)\n",
      "There are 1304 news sources appearing in only 63 subreddits or less (0.9961802902979373%)\n",
      "There are 1305 news sources appearing in only 64 subreddits or less (0.9969442322383499%)\n",
      "There are 1307 news sources appearing in only 65 subreddits or less (0.998472116119175%)\n",
      "There are 1307 news sources appearing in only 66 subreddits or less (0.998472116119175%)\n",
      "There are 1307 news sources appearing in only 67 subreddits or less (0.998472116119175%)\n",
      "There are 1307 news sources appearing in only 68 subreddits or less (0.998472116119175%)\n",
      "There are 1307 news sources appearing in only 69 subreddits or less (0.998472116119175%)\n",
      "There are 1309 news sources appearing in only 70 subreddits or less (1.0%)\n",
      "There are 1309 news sources appearing in only 71 subreddits or less (1.0%)\n",
      "There are 1309 news sources appearing in only 72 subreddits or less (1.0%)\n",
      "There are 1309 news sources appearing in only 73 subreddits or less (1.0%)\n",
      "There are 1309 news sources appearing in only 74 subreddits or less (1.0%)\n",
      "There are 1309 news sources appearing in only 75 subreddits or less (1.0%)\n",
      "There are 1309 news sources appearing in only 76 subreddits or less (1.0%)\n",
      "There are 1309 news sources appearing in only 77 subreddits or less (1.0%)\n",
      "There are 1309 news sources appearing in only 78 subreddits or less (1.0%)\n",
      "There are 1309 news sources appearing in only 79 subreddits or less (1.0%)\n",
      "There are 1309 news sources appearing in only 80 subreddits or less (1.0%)\n",
      "There are 1309 news sources appearing in only 81 subreddits or less (1.0%)\n",
      "There are 1309 news sources appearing in only 82 subreddits or less (1.0%)\n",
      "There are 1309 news sources appearing in only 83 subreddits or less (1.0%)\n",
      "There are 1309 news sources appearing in only 84 subreddits or less (1.0%)\n",
      "There are 1309 news sources appearing in only 85 subreddits or less (1.0%)\n",
      "There are 1309 news sources appearing in only 86 subreddits or less (1.0%)\n",
      "There are 1309 news sources appearing in only 87 subreddits or less (1.0%)\n",
      "There are 1309 news sources appearing in only 88 subreddits or less (1.0%)\n",
      "There are 1309 news sources appearing in only 89 subreddits or less (1.0%)\n",
      "There are 1309 news sources appearing in only 90 subreddits or less (1.0%)\n",
      "There are 1309 news sources appearing in only 91 subreddits or less (1.0%)\n",
      "There are 1309 news sources appearing in only 92 subreddits or less (1.0%)\n",
      "There are 1309 news sources appearing in only 93 subreddits or less (1.0%)\n",
      "There are 1309 news sources appearing in only 94 subreddits or less (1.0%)\n",
      "There are 1309 news sources appearing in only 95 subreddits or less (1.0%)\n",
      "There are 1309 news sources appearing in only 96 subreddits or less (1.0%)\n",
      "There are 1309 news sources appearing in only 97 subreddits or less (1.0%)\n",
      "There are 1309 news sources appearing in only 98 subreddits or less (1.0%)\n",
      "There are 1309 news sources appearing in only 99 subreddits or less (1.0%)\n",
      "There are 1309 news sources appearing in only 100 subreddits or less (1.0%)\n",
      "There are 1309 news sources appearing in only 101 subreddits or less (1.0%)\n",
      "There are 1309 news sources appearing in only 102 subreddits or less (1.0%)\n",
      "There are 1309 news sources appearing in only 103 subreddits or less (1.0%)\n",
      "There are 1309 news sources appearing in only 104 subreddits or less (1.0%)\n",
      "There are 1309 news sources appearing in only 105 subreddits or less (1.0%)\n",
      "There are 1309 news sources appearing in only 106 subreddits or less (1.0%)\n",
      "There are 1309 news sources appearing in only 107 subreddits or less (1.0%)\n",
      "There are 1309 news sources appearing in only 108 subreddits or less (1.0%)\n",
      "There are 1309 news sources appearing in only 109 subreddits or less (1.0%)\n",
      "There are 1309 news sources appearing in only 110 subreddits or less (1.0%)\n",
      "There are 1309 news sources appearing in only 111 subreddits or less (1.0%)\n",
      "There are 1309 news sources appearing in only 112 subreddits or less (1.0%)\n",
      "There are 1309 news sources appearing in only 113 subreddits or less (1.0%)\n",
      "There are 1309 news sources appearing in only 114 subreddits or less (1.0%)\n",
      "There are 1309 news sources appearing in only 115 subreddits or less (1.0%)\n",
      "There are 1309 news sources appearing in only 116 subreddits or less (1.0%)\n",
      "There are 1309 news sources appearing in only 117 subreddits or less (1.0%)\n",
      "There are 1309 news sources appearing in only 118 subreddits or less (1.0%)\n",
      "There are 1309 news sources appearing in only 119 subreddits or less (1.0%)\n",
      "There are 1309 news sources appearing in only 120 subreddits or less (1.0%)\n",
      "There are 1309 news sources appearing in only 121 subreddits or less (1.0%)\n",
      "There are 1309 news sources appearing in only 122 subreddits or less (1.0%)\n",
      "There are 1309 news sources appearing in only 123 subreddits or less (1.0%)\n",
      "There are 1309 news sources appearing in only 124 subreddits or less (1.0%)\n",
      "There are 1309 news sources appearing in only 125 subreddits or less (1.0%)\n",
      "There are 1309 news sources appearing in only 126 subreddits or less (1.0%)\n",
      "There are 1309 news sources appearing in only 127 subreddits or less (1.0%)\n",
      "There are 1309 news sources appearing in only 128 subreddits or less (1.0%)\n",
      "There are 1309 news sources appearing in only 129 subreddits or less (1.0%)\n",
      "There are 1309 news sources appearing in only 130 subreddits or less (1.0%)\n",
      "There are 1309 news sources appearing in only 131 subreddits or less (1.0%)\n",
      "There are 1309 news sources appearing in only 132 subreddits or less (1.0%)\n",
      "There are 1309 news sources appearing in only 133 subreddits or less (1.0%)\n",
      "There are 1309 news sources appearing in only 134 subreddits or less (1.0%)\n",
      "There are 1309 news sources appearing in only 135 subreddits or less (1.0%)\n",
      "There are 1309 news sources appearing in only 136 subreddits or less (1.0%)\n",
      "There are 1309 news sources appearing in only 137 subreddits or less (1.0%)\n",
      "There are 1309 news sources appearing in only 138 subreddits or less (1.0%)\n",
      "There are 1309 news sources appearing in only 139 subreddits or less (1.0%)\n",
      "There are 1309 news sources appearing in only 140 subreddits or less (1.0%)\n",
      "There are 1309 news sources appearing in only 141 subreddits or less (1.0%)\n",
      "There are 1309 news sources appearing in only 142 subreddits or less (1.0%)\n",
      "There are 1309 news sources appearing in only 143 subreddits or less (1.0%)\n",
      "There are 1309 news sources appearing in only 144 subreddits or less (1.0%)\n",
      "There are 1309 news sources appearing in only 145 subreddits or less (1.0%)\n",
      "There are 1309 news sources appearing in only 146 subreddits or less (1.0%)\n",
      "There are 1309 news sources appearing in only 147 subreddits or less (1.0%)\n",
      "There are 1309 news sources appearing in only 148 subreddits or less (1.0%)\n",
      "There are 1309 news sources appearing in only 149 subreddits or less (1.0%)\n",
      "There are 1309 news sources appearing in only 150 subreddits or less (1.0%)\n",
      "There are 1309 news sources appearing in only 151 subreddits or less (1.0%)\n",
      "There are 1309 news sources appearing in only 152 subreddits or less (1.0%)\n",
      "There are 1309 news sources appearing in only 153 subreddits or less (1.0%)\n",
      "There are 1309 news sources appearing in only 154 subreddits or less (1.0%)\n",
      "There are 1309 news sources appearing in only 155 subreddits or less (1.0%)\n",
      "There are 1309 news sources appearing in only 156 subreddits or less (1.0%)\n",
      "There are 1309 news sources appearing in only 157 subreddits or less (1.0%)\n",
      "There are 1309 news sources appearing in only 158 subreddits or less (1.0%)\n",
      "There are 1309 news sources appearing in only 159 subreddits or less (1.0%)\n",
      "There are 1309 news sources appearing in only 160 subreddits or less (1.0%)\n",
      "There are 1309 news sources appearing in only 161 subreddits or less (1.0%)\n",
      "There are 1309 news sources appearing in only 162 subreddits or less (1.0%)\n",
      "There are 1309 news sources appearing in only 163 subreddits or less (1.0%)\n",
      "There are 1309 news sources appearing in only 164 subreddits or less (1.0%)\n",
      "There are 1309 news sources appearing in only 165 subreddits or less (1.0%)\n",
      "There are 1309 news sources appearing in only 166 subreddits or less (1.0%)\n",
      "There are 1309 news sources appearing in only 167 subreddits or less (1.0%)\n",
      "There are 1309 news sources appearing in only 168 subreddits or less (1.0%)\n",
      "There are 1309 news sources appearing in only 169 subreddits or less (1.0%)\n",
      "There are 1309 news sources appearing in only 170 subreddits or less (1.0%)\n",
      "There are 1309 news sources appearing in only 171 subreddits or less (1.0%)\n",
      "There are 1309 news sources appearing in only 172 subreddits or less (1.0%)\n",
      "There are 1309 news sources appearing in only 173 subreddits or less (1.0%)\n",
      "There are 1309 news sources appearing in only 174 subreddits or less (1.0%)\n",
      "There are 1309 news sources appearing in only 175 subreddits or less (1.0%)\n",
      "There are 1309 news sources appearing in only 176 subreddits or less (1.0%)\n",
      "There are 1309 news sources appearing in only 177 subreddits or less (1.0%)\n",
      "There are 1309 news sources appearing in only 178 subreddits or less (1.0%)\n",
      "There are 1309 news sources appearing in only 179 subreddits or less (1.0%)\n",
      "There are 1309 news sources appearing in only 180 subreddits or less (1.0%)\n",
      "There are 1309 news sources appearing in only 181 subreddits or less (1.0%)\n",
      "There are 1309 news sources appearing in only 182 subreddits or less (1.0%)\n",
      "There are 1309 news sources appearing in only 183 subreddits or less (1.0%)\n",
      "There are 1309 news sources appearing in only 184 subreddits or less (1.0%)\n",
      "There are 1309 news sources appearing in only 185 subreddits or less (1.0%)\n",
      "There are 1309 news sources appearing in only 186 subreddits or less (1.0%)\n",
      "There are 1309 news sources appearing in only 187 subreddits or less (1.0%)\n",
      "There are 1309 news sources appearing in only 188 subreddits or less (1.0%)\n",
      "There are 1309 news sources appearing in only 189 subreddits or less (1.0%)\n",
      "There are 1309 news sources appearing in only 190 subreddits or less (1.0%)\n",
      "There are 1309 news sources appearing in only 191 subreddits or less (1.0%)\n",
      "There are 1309 news sources appearing in only 192 subreddits or less (1.0%)\n",
      "There are 1309 news sources appearing in only 193 subreddits or less (1.0%)\n",
      "There are 1309 news sources appearing in only 194 subreddits or less (1.0%)\n",
      "There are 1309 news sources appearing in only 195 subreddits or less (1.0%)\n",
      "There are 1309 news sources appearing in only 196 subreddits or less (1.0%)\n",
      "There are 1309 news sources appearing in only 197 subreddits or less (1.0%)\n",
      "There are 1309 news sources appearing in only 198 subreddits or less (1.0%)\n",
      "There are 1309 news sources appearing in only 199 subreddits or less (1.0%)\n",
      "There are 1309 news sources appearing in only 200 subreddits or less (1.0%)\n",
      "There are 1309 news sources appearing in only 201 subreddits or less (1.0%)\n",
      "There are 1309 news sources appearing in only 202 subreddits or less (1.0%)\n",
      "There are 1309 news sources appearing in only 203 subreddits or less (1.0%)\n",
      "There are 1309 news sources appearing in only 204 subreddits or less (1.0%)\n",
      "There are 1309 news sources appearing in only 205 subreddits or less (1.0%)\n",
      "There are 1309 news sources appearing in only 206 subreddits or less (1.0%)\n",
      "There are 1309 news sources appearing in only 207 subreddits or less (1.0%)\n",
      "There are 1309 news sources appearing in only 208 subreddits or less (1.0%)\n",
      "There are 1309 news sources appearing in only 209 subreddits or less (1.0%)\n",
      "There are 1309 news sources appearing in only 210 subreddits or less (1.0%)\n",
      "There are 1309 news sources appearing in only 211 subreddits or less (1.0%)\n",
      "There are 1309 news sources appearing in only 212 subreddits or less (1.0%)\n",
      "There are 1309 news sources appearing in only 213 subreddits or less (1.0%)\n",
      "There are 1309 news sources appearing in only 214 subreddits or less (1.0%)\n",
      "There are 1309 news sources appearing in only 215 subreddits or less (1.0%)\n",
      "There are 1309 news sources appearing in only 216 subreddits or less (1.0%)\n",
      "There are 1309 news sources appearing in only 217 subreddits or less (1.0%)\n",
      "There are 1309 news sources appearing in only 218 subreddits or less (1.0%)\n",
      "There are 1309 news sources appearing in only 219 subreddits or less (1.0%)\n",
      "There are 1309 news sources appearing in only 220 subreddits or less (1.0%)\n",
      "There are 1309 news sources appearing in only 221 subreddits or less (1.0%)\n",
      "There are 1309 news sources appearing in only 222 subreddits or less (1.0%)\n",
      "There are 1309 news sources appearing in only 223 subreddits or less (1.0%)\n",
      "There are 1309 news sources appearing in only 224 subreddits or less (1.0%)\n",
      "There are 1309 news sources appearing in only 225 subreddits or less (1.0%)\n",
      "There are 1309 news sources appearing in only 226 subreddits or less (1.0%)\n",
      "There are 1309 news sources appearing in only 227 subreddits or less (1.0%)\n",
      "There are 1309 news sources appearing in only 228 subreddits or less (1.0%)\n",
      "There are 1309 news sources appearing in only 229 subreddits or less (1.0%)\n",
      "There are 1309 news sources appearing in only 230 subreddits or less (1.0%)\n",
      "There are 1309 news sources appearing in only 231 subreddits or less (1.0%)\n",
      "There are 1309 news sources appearing in only 232 subreddits or less (1.0%)\n",
      "There are 1309 news sources appearing in only 233 subreddits or less (1.0%)\n",
      "There are 1309 news sources appearing in only 234 subreddits or less (1.0%)\n",
      "There are 1309 news sources appearing in only 235 subreddits or less (1.0%)\n",
      "There are 1309 news sources appearing in only 236 subreddits or less (1.0%)\n",
      "There are 1309 news sources appearing in only 237 subreddits or less (1.0%)\n",
      "There are 1309 news sources appearing in only 238 subreddits or less (1.0%)\n",
      "There are 1309 news sources appearing in only 239 subreddits or less (1.0%)\n",
      "There are 1309 news sources appearing in only 240 subreddits or less (1.0%)\n",
      "There are 1309 news sources appearing in only 241 subreddits or less (1.0%)\n",
      "There are 1309 news sources appearing in only 242 subreddits or less (1.0%)\n",
      "There are 1309 news sources appearing in only 243 subreddits or less (1.0%)\n",
      "There are 1309 news sources appearing in only 244 subreddits or less (1.0%)\n",
      "There are 1309 news sources appearing in only 245 subreddits or less (1.0%)\n",
      "There are 1309 news sources appearing in only 246 subreddits or less (1.0%)\n",
      "There are 1309 news sources appearing in only 247 subreddits or less (1.0%)\n",
      "There are 1309 news sources appearing in only 248 subreddits or less (1.0%)\n",
      "There are 1309 news sources appearing in only 249 subreddits or less (1.0%)\n",
      "There are 1309 news sources appearing in only 250 subreddits or less (1.0%)\n",
      "There are 1309 news sources appearing in only 251 subreddits or less (1.0%)\n",
      "There are 1309 news sources appearing in only 252 subreddits or less (1.0%)\n",
      "There are 1309 news sources appearing in only 253 subreddits or less (1.0%)\n",
      "There are 1309 news sources appearing in only 254 subreddits or less (1.0%)\n",
      "There are 1309 news sources appearing in only 255 subreddits or less (1.0%)\n",
      "There are 1309 news sources appearing in only 256 subreddits or less (1.0%)\n",
      "There are 1309 news sources appearing in only 257 subreddits or less (1.0%)\n",
      "There are 1309 news sources appearing in only 258 subreddits or less (1.0%)\n",
      "There are 1309 news sources appearing in only 259 subreddits or less (1.0%)\n",
      "There are 1309 news sources appearing in only 260 subreddits or less (1.0%)\n",
      "There are 1309 news sources appearing in only 261 subreddits or less (1.0%)\n",
      "There are 1309 news sources appearing in only 262 subreddits or less (1.0%)\n",
      "There are 1309 news sources appearing in only 263 subreddits or less (1.0%)\n",
      "There are 1309 news sources appearing in only 264 subreddits or less (1.0%)\n",
      "There are 1309 news sources appearing in only 265 subreddits or less (1.0%)\n",
      "There are 1309 news sources appearing in only 266 subreddits or less (1.0%)\n",
      "There are 1309 news sources appearing in only 267 subreddits or less (1.0%)\n",
      "There are 1309 news sources appearing in only 268 subreddits or less (1.0%)\n",
      "There are 1309 news sources appearing in only 269 subreddits or less (1.0%)\n",
      "There are 1309 news sources appearing in only 270 subreddits or less (1.0%)\n",
      "There are 1309 news sources appearing in only 271 subreddits or less (1.0%)\n",
      "There are 1309 news sources appearing in only 272 subreddits or less (1.0%)\n",
      "There are 1309 news sources appearing in only 273 subreddits or less (1.0%)\n",
      "There are 1309 news sources appearing in only 274 subreddits or less (1.0%)\n",
      "There are 1309 news sources appearing in only 275 subreddits or less (1.0%)\n",
      "There are 1309 news sources appearing in only 276 subreddits or less (1.0%)\n",
      "There are 1309 news sources appearing in only 277 subreddits or less (1.0%)\n",
      "There are 1309 news sources appearing in only 278 subreddits or less (1.0%)\n",
      "There are 1309 news sources appearing in only 279 subreddits or less (1.0%)\n",
      "There are 1309 news sources appearing in only 280 subreddits or less (1.0%)\n",
      "There are 1309 news sources appearing in only 281 subreddits or less (1.0%)\n",
      "There are 1309 news sources appearing in only 282 subreddits or less (1.0%)\n",
      "There are 1309 news sources appearing in only 283 subreddits or less (1.0%)\n",
      "There are 1309 news sources appearing in only 284 subreddits or less (1.0%)\n",
      "There are 1309 news sources appearing in only 285 subreddits or less (1.0%)\n",
      "There are 1309 news sources appearing in only 286 subreddits or less (1.0%)\n",
      "There are 1309 news sources appearing in only 287 subreddits or less (1.0%)\n",
      "There are 1309 news sources appearing in only 288 subreddits or less (1.0%)\n",
      "There are 1309 news sources appearing in only 289 subreddits or less (1.0%)\n",
      "There are 1309 news sources appearing in only 290 subreddits or less (1.0%)\n",
      "There are 1309 news sources appearing in only 291 subreddits or less (1.0%)\n",
      "There are 1309 news sources appearing in only 292 subreddits or less (1.0%)\n",
      "There are 1309 news sources appearing in only 293 subreddits or less (1.0%)\n",
      "There are 1309 news sources appearing in only 294 subreddits or less (1.0%)\n",
      "There are 1309 news sources appearing in only 295 subreddits or less (1.0%)\n",
      "There are 1309 news sources appearing in only 296 subreddits or less (1.0%)\n",
      "There are 1309 news sources appearing in only 297 subreddits or less (1.0%)\n",
      "There are 1309 news sources appearing in only 298 subreddits or less (1.0%)\n",
      "There are 1309 news sources appearing in only 299 subreddits or less (1.0%)\n",
      "There are 1309 news sources appearing in only 300 subreddits or less (1.0%)\n",
      "There are 1309 news sources appearing in only 301 subreddits or less (1.0%)\n",
      "There are 1309 news sources appearing in only 302 subreddits or less (1.0%)\n",
      "There are 1309 news sources appearing in only 303 subreddits or less (1.0%)\n",
      "There are 1309 news sources appearing in only 304 subreddits or less (1.0%)\n",
      "There are 1309 news sources appearing in only 305 subreddits or less (1.0%)\n",
      "There are 1309 news sources appearing in only 306 subreddits or less (1.0%)\n",
      "There are 1309 news sources appearing in only 307 subreddits or less (1.0%)\n",
      "There are 1309 news sources appearing in only 308 subreddits or less (1.0%)\n",
      "There are 1309 news sources appearing in only 309 subreddits or less (1.0%)\n",
      "There are 1309 news sources appearing in only 310 subreddits or less (1.0%)\n",
      "There are 1309 news sources appearing in only 311 subreddits or less (1.0%)\n",
      "There are 1309 news sources appearing in only 312 subreddits or less (1.0%)\n",
      "There are 1309 news sources appearing in only 313 subreddits or less (1.0%)\n",
      "There are 1309 news sources appearing in only 314 subreddits or less (1.0%)\n",
      "There are 1309 news sources appearing in only 315 subreddits or less (1.0%)\n",
      "There are 1309 news sources appearing in only 316 subreddits or less (1.0%)\n",
      "There are 1309 news sources appearing in only 317 subreddits or less (1.0%)\n",
      "There are 1309 news sources appearing in only 318 subreddits or less (1.0%)\n",
      "There are 1309 news sources appearing in only 319 subreddits or less (1.0%)\n",
      "There are 1309 news sources appearing in only 320 subreddits or less (1.0%)\n",
      "There are 1309 news sources appearing in only 321 subreddits or less (1.0%)\n",
      "There are 1309 news sources appearing in only 322 subreddits or less (1.0%)\n",
      "There are 1309 news sources appearing in only 323 subreddits or less (1.0%)\n",
      "There are 1309 news sources appearing in only 324 subreddits or less (1.0%)\n",
      "There are 1309 news sources appearing in only 325 subreddits or less (1.0%)\n",
      "There are 1309 news sources appearing in only 326 subreddits or less (1.0%)\n",
      "There are 1309 news sources appearing in only 327 subreddits or less (1.0%)\n",
      "There are 1309 news sources appearing in only 328 subreddits or less (1.0%)\n",
      "There are 1309 news sources appearing in only 329 subreddits or less (1.0%)\n",
      "There are 1309 news sources appearing in only 330 subreddits or less (1.0%)\n",
      "There are 1309 news sources appearing in only 331 subreddits or less (1.0%)\n",
      "There are 1309 news sources appearing in only 332 subreddits or less (1.0%)\n",
      "There are 1309 news sources appearing in only 333 subreddits or less (1.0%)\n",
      "There are 1309 news sources appearing in only 334 subreddits or less (1.0%)\n",
      "There are 1309 news sources appearing in only 335 subreddits or less (1.0%)\n",
      "There are 1309 news sources appearing in only 336 subreddits or less (1.0%)\n",
      "There are 1309 news sources appearing in only 337 subreddits or less (1.0%)\n",
      "There are 1309 news sources appearing in only 338 subreddits or less (1.0%)\n",
      "There are 1309 news sources appearing in only 339 subreddits or less (1.0%)\n",
      "There are 1309 news sources appearing in only 340 subreddits or less (1.0%)\n",
      "There are 1309 news sources appearing in only 341 subreddits or less (1.0%)\n",
      "There are 1309 news sources appearing in only 342 subreddits or less (1.0%)\n",
      "There are 1309 news sources appearing in only 343 subreddits or less (1.0%)\n",
      "There are 1309 news sources appearing in only 344 subreddits or less (1.0%)\n",
      "There are 1309 news sources appearing in only 345 subreddits or less (1.0%)\n",
      "There are 1309 news sources appearing in only 346 subreddits or less (1.0%)\n",
      "There are 1309 news sources appearing in only 347 subreddits or less (1.0%)\n",
      "There are 1309 news sources appearing in only 348 subreddits or less (1.0%)\n",
      "There are 1309 news sources appearing in only 349 subreddits or less (1.0%)\n",
      "There are 1309 news sources appearing in only 350 subreddits or less (1.0%)\n",
      "There are 1309 news sources appearing in only 351 subreddits or less (1.0%)\n",
      "There are 1309 news sources appearing in only 352 subreddits or less (1.0%)\n",
      "There are 1309 news sources appearing in only 353 subreddits or less (1.0%)\n",
      "There are 1309 news sources appearing in only 354 subreddits or less (1.0%)\n",
      "There are 1309 news sources appearing in only 355 subreddits or less (1.0%)\n",
      "There are 1309 news sources appearing in only 356 subreddits or less (1.0%)\n",
      "There are 1309 news sources appearing in only 357 subreddits or less (1.0%)\n",
      "There are 1309 news sources appearing in only 358 subreddits or less (1.0%)\n",
      "There are 1309 news sources appearing in only 359 subreddits or less (1.0%)\n",
      "There are 1309 news sources appearing in only 360 subreddits or less (1.0%)\n",
      "There are 1309 news sources appearing in only 361 subreddits or less (1.0%)\n",
      "There are 1309 news sources appearing in only 362 subreddits or less (1.0%)\n",
      "There are 1309 news sources appearing in only 363 subreddits or less (1.0%)\n",
      "There are 1309 news sources appearing in only 364 subreddits or less (1.0%)\n",
      "There are 1309 news sources appearing in only 365 subreddits or less (1.0%)\n",
      "There are 1309 news sources appearing in only 366 subreddits or less (1.0%)\n",
      "There are 1309 news sources appearing in only 367 subreddits or less (1.0%)\n",
      "There are 1309 news sources appearing in only 368 subreddits or less (1.0%)\n",
      "There are 1309 news sources appearing in only 369 subreddits or less (1.0%)\n",
      "There are 1309 news sources appearing in only 370 subreddits or less (1.0%)\n",
      "There are 1309 news sources appearing in only 371 subreddits or less (1.0%)\n",
      "There are 1309 news sources appearing in only 372 subreddits or less (1.0%)\n",
      "There are 1309 news sources appearing in only 373 subreddits or less (1.0%)\n",
      "There are 1309 news sources appearing in only 374 subreddits or less (1.0%)\n",
      "There are 1309 news sources appearing in only 375 subreddits or less (1.0%)\n",
      "There are 1309 news sources appearing in only 376 subreddits or less (1.0%)\n",
      "There are 1309 news sources appearing in only 377 subreddits or less (1.0%)\n",
      "There are 1309 news sources appearing in only 378 subreddits or less (1.0%)\n",
      "There are 1309 news sources appearing in only 379 subreddits or less (1.0%)\n",
      "There are 1309 news sources appearing in only 380 subreddits or less (1.0%)\n",
      "There are 1309 news sources appearing in only 381 subreddits or less (1.0%)\n",
      "There are 1309 news sources appearing in only 382 subreddits or less (1.0%)\n",
      "There are 1309 news sources appearing in only 383 subreddits or less (1.0%)\n",
      "There are 1309 news sources appearing in only 384 subreddits or less (1.0%)\n",
      "There are 1309 news sources appearing in only 385 subreddits or less (1.0%)\n",
      "There are 1309 news sources appearing in only 386 subreddits or less (1.0%)\n",
      "There are 1309 news sources appearing in only 387 subreddits or less (1.0%)\n",
      "There are 1309 news sources appearing in only 388 subreddits or less (1.0%)\n",
      "There are 1309 news sources appearing in only 389 subreddits or less (1.0%)\n",
      "There are 1309 news sources appearing in only 390 subreddits or less (1.0%)\n",
      "There are 1309 news sources appearing in only 391 subreddits or less (1.0%)\n",
      "There are 1309 news sources appearing in only 392 subreddits or less (1.0%)\n",
      "There are 1309 news sources appearing in only 393 subreddits or less (1.0%)\n",
      "There are 1309 news sources appearing in only 394 subreddits or less (1.0%)\n",
      "There are 1309 news sources appearing in only 395 subreddits or less (1.0%)\n",
      "There are 1309 news sources appearing in only 396 subreddits or less (1.0%)\n",
      "There are 1309 news sources appearing in only 397 subreddits or less (1.0%)\n",
      "There are 1309 news sources appearing in only 398 subreddits or less (1.0%)\n",
      "There are 1309 news sources appearing in only 399 subreddits or less (1.0%)\n",
      "There are 1309 news sources appearing in only 400 subreddits or less (1.0%)\n",
      "There are 1309 news sources appearing in only 401 subreddits or less (1.0%)\n",
      "There are 1309 news sources appearing in only 402 subreddits or less (1.0%)\n",
      "There are 1309 news sources appearing in only 403 subreddits or less (1.0%)\n",
      "There are 1309 news sources appearing in only 404 subreddits or less (1.0%)\n",
      "There are 1309 news sources appearing in only 405 subreddits or less (1.0%)\n",
      "There are 1309 news sources appearing in only 406 subreddits or less (1.0%)\n",
      "There are 1309 news sources appearing in only 407 subreddits or less (1.0%)\n",
      "There are 1309 news sources appearing in only 408 subreddits or less (1.0%)\n",
      "There are 1309 news sources appearing in only 409 subreddits or less (1.0%)\n",
      "There are 1309 news sources appearing in only 410 subreddits or less (1.0%)\n",
      "There are 1309 news sources appearing in only 411 subreddits or less (1.0%)\n",
      "There are 1309 news sources appearing in only 412 subreddits or less (1.0%)\n",
      "There are 1309 news sources appearing in only 413 subreddits or less (1.0%)\n",
      "There are 1309 news sources appearing in only 414 subreddits or less (1.0%)\n",
      "There are 1309 news sources appearing in only 415 subreddits or less (1.0%)\n",
      "There are 1309 news sources appearing in only 416 subreddits or less (1.0%)\n",
      "There are 1309 news sources appearing in only 417 subreddits or less (1.0%)\n",
      "There are 1309 news sources appearing in only 418 subreddits or less (1.0%)\n",
      "There are 1309 news sources appearing in only 419 subreddits or less (1.0%)\n",
      "There are 1309 news sources appearing in only 420 subreddits or less (1.0%)\n",
      "There are 1309 news sources appearing in only 421 subreddits or less (1.0%)\n",
      "There are 1309 news sources appearing in only 422 subreddits or less (1.0%)\n",
      "There are 1309 news sources appearing in only 423 subreddits or less (1.0%)\n",
      "There are 1309 news sources appearing in only 424 subreddits or less (1.0%)\n",
      "There are 1309 news sources appearing in only 425 subreddits or less (1.0%)\n",
      "There are 1309 news sources appearing in only 426 subreddits or less (1.0%)\n",
      "There are 1309 news sources appearing in only 427 subreddits or less (1.0%)\n",
      "There are 1309 news sources appearing in only 428 subreddits or less (1.0%)\n",
      "There are 1309 news sources appearing in only 429 subreddits or less (1.0%)\n",
      "There are 1309 news sources appearing in only 430 subreddits or less (1.0%)\n",
      "There are 1309 news sources appearing in only 431 subreddits or less (1.0%)\n",
      "There are 1309 news sources appearing in only 432 subreddits or less (1.0%)\n",
      "There are 1309 news sources appearing in only 433 subreddits or less (1.0%)\n",
      "There are 1309 news sources appearing in only 434 subreddits or less (1.0%)\n",
      "There are 1309 news sources appearing in only 435 subreddits or less (1.0%)\n",
      "There are 1309 news sources appearing in only 436 subreddits or less (1.0%)\n",
      "There are 1309 news sources appearing in only 437 subreddits or less (1.0%)\n",
      "There are 1309 news sources appearing in only 438 subreddits or less (1.0%)\n",
      "There are 1309 news sources appearing in only 439 subreddits or less (1.0%)\n",
      "There are 1309 news sources appearing in only 440 subreddits or less (1.0%)\n",
      "There are 1309 news sources appearing in only 441 subreddits or less (1.0%)\n",
      "There are 1309 news sources appearing in only 442 subreddits or less (1.0%)\n",
      "There are 1309 news sources appearing in only 443 subreddits or less (1.0%)\n",
      "There are 1309 news sources appearing in only 444 subreddits or less (1.0%)\n",
      "There are 1309 news sources appearing in only 445 subreddits or less (1.0%)\n",
      "There are 1309 news sources appearing in only 446 subreddits or less (1.0%)\n",
      "There are 1309 news sources appearing in only 447 subreddits or less (1.0%)\n",
      "There are 1309 news sources appearing in only 448 subreddits or less (1.0%)\n",
      "There are 1309 news sources appearing in only 449 subreddits or less (1.0%)\n",
      "There are 1309 news sources appearing in only 450 subreddits or less (1.0%)\n",
      "There are 1309 news sources appearing in only 451 subreddits or less (1.0%)\n",
      "There are 1309 news sources appearing in only 452 subreddits or less (1.0%)\n",
      "There are 1309 news sources appearing in only 453 subreddits or less (1.0%)\n",
      "There are 1309 news sources appearing in only 454 subreddits or less (1.0%)\n",
      "There are 1309 news sources appearing in only 455 subreddits or less (1.0%)\n",
      "There are 1309 news sources appearing in only 456 subreddits or less (1.0%)\n",
      "There are 1309 news sources appearing in only 457 subreddits or less (1.0%)\n",
      "There are 1309 news sources appearing in only 458 subreddits or less (1.0%)\n",
      "There are 1309 news sources appearing in only 459 subreddits or less (1.0%)\n",
      "There are 1309 news sources appearing in only 460 subreddits or less (1.0%)\n",
      "There are 1309 news sources appearing in only 461 subreddits or less (1.0%)\n",
      "There are 1309 news sources appearing in only 462 subreddits or less (1.0%)\n",
      "There are 1309 news sources appearing in only 463 subreddits or less (1.0%)\n",
      "There are 1309 news sources appearing in only 464 subreddits or less (1.0%)\n",
      "There are 1309 news sources appearing in only 465 subreddits or less (1.0%)\n",
      "There are 1309 news sources appearing in only 466 subreddits or less (1.0%)\n",
      "There are 1309 news sources appearing in only 467 subreddits or less (1.0%)\n",
      "There are 1309 news sources appearing in only 468 subreddits or less (1.0%)\n",
      "There are 1309 news sources appearing in only 469 subreddits or less (1.0%)\n",
      "There are 1309 news sources appearing in only 470 subreddits or less (1.0%)\n",
      "There are 1309 news sources appearing in only 471 subreddits or less (1.0%)\n",
      "There are 1309 news sources appearing in only 472 subreddits or less (1.0%)\n",
      "There are 1309 news sources appearing in only 473 subreddits or less (1.0%)\n",
      "There are 1309 news sources appearing in only 474 subreddits or less (1.0%)\n",
      "There are 1309 news sources appearing in only 475 subreddits or less (1.0%)\n",
      "There are 1309 news sources appearing in only 476 subreddits or less (1.0%)\n",
      "There are 1309 news sources appearing in only 477 subreddits or less (1.0%)\n",
      "There are 1309 news sources appearing in only 478 subreddits or less (1.0%)\n",
      "There are 1309 news sources appearing in only 479 subreddits or less (1.0%)\n",
      "There are 1309 news sources appearing in only 480 subreddits or less (1.0%)\n",
      "There are 1309 news sources appearing in only 481 subreddits or less (1.0%)\n",
      "There are 1309 news sources appearing in only 482 subreddits or less (1.0%)\n",
      "There are 1309 news sources appearing in only 483 subreddits or less (1.0%)\n",
      "There are 1309 news sources appearing in only 484 subreddits or less (1.0%)\n",
      "There are 1309 news sources appearing in only 485 subreddits or less (1.0%)\n",
      "There are 1309 news sources appearing in only 486 subreddits or less (1.0%)\n",
      "There are 1309 news sources appearing in only 487 subreddits or less (1.0%)\n",
      "There are 1309 news sources appearing in only 488 subreddits or less (1.0%)\n",
      "There are 1309 news sources appearing in only 489 subreddits or less (1.0%)\n",
      "There are 1309 news sources appearing in only 490 subreddits or less (1.0%)\n",
      "There are 1309 news sources appearing in only 491 subreddits or less (1.0%)\n",
      "There are 1309 news sources appearing in only 492 subreddits or less (1.0%)\n",
      "There are 1309 news sources appearing in only 493 subreddits or less (1.0%)\n",
      "There are 1309 news sources appearing in only 494 subreddits or less (1.0%)\n",
      "There are 1309 news sources appearing in only 495 subreddits or less (1.0%)\n",
      "There are 1309 news sources appearing in only 496 subreddits or less (1.0%)\n",
      "There are 1309 news sources appearing in only 497 subreddits or less (1.0%)\n",
      "There are 1309 news sources appearing in only 498 subreddits or less (1.0%)\n",
      "There are 1309 news sources appearing in only 499 subreddits or less (1.0%)\n",
      "There are 1309 news sources appearing in only 500 subreddits or less (1.0%)\n",
      "There are 1309 news sources appearing in only 501 subreddits or less (1.0%)\n",
      "There are 1309 news sources appearing in only 502 subreddits or less (1.0%)\n",
      "There are 1309 news sources appearing in only 503 subreddits or less (1.0%)\n",
      "There are 1309 news sources appearing in only 504 subreddits or less (1.0%)\n",
      "There are 1309 news sources appearing in only 505 subreddits or less (1.0%)\n",
      "There are 1309 news sources appearing in only 506 subreddits or less (1.0%)\n",
      "There are 1309 news sources appearing in only 507 subreddits or less (1.0%)\n",
      "There are 1309 news sources appearing in only 508 subreddits or less (1.0%)\n",
      "There are 1309 news sources appearing in only 509 subreddits or less (1.0%)\n",
      "There are 1309 news sources appearing in only 510 subreddits or less (1.0%)\n",
      "There are 1309 news sources appearing in only 511 subreddits or less (1.0%)\n",
      "There are 1309 news sources appearing in only 512 subreddits or less (1.0%)\n",
      "There are 1309 news sources appearing in only 513 subreddits or less (1.0%)\n",
      "There are 1309 news sources appearing in only 514 subreddits or less (1.0%)\n",
      "There are 1309 news sources appearing in only 515 subreddits or less (1.0%)\n",
      "There are 1309 news sources appearing in only 516 subreddits or less (1.0%)\n",
      "There are 1309 news sources appearing in only 517 subreddits or less (1.0%)\n",
      "There are 1309 news sources appearing in only 518 subreddits or less (1.0%)\n",
      "There are 1309 news sources appearing in only 519 subreddits or less (1.0%)\n",
      "There are 1309 news sources appearing in only 520 subreddits or less (1.0%)\n",
      "There are 1309 news sources appearing in only 521 subreddits or less (1.0%)\n",
      "There are 1309 news sources appearing in only 522 subreddits or less (1.0%)\n",
      "There are 1309 news sources appearing in only 523 subreddits or less (1.0%)\n",
      "There are 1309 news sources appearing in only 524 subreddits or less (1.0%)\n",
      "There are 1309 news sources appearing in only 525 subreddits or less (1.0%)\n",
      "There are 1309 news sources appearing in only 526 subreddits or less (1.0%)\n",
      "There are 1309 news sources appearing in only 527 subreddits or less (1.0%)\n",
      "There are 1309 news sources appearing in only 528 subreddits or less (1.0%)\n",
      "There are 1309 news sources appearing in only 529 subreddits or less (1.0%)\n",
      "There are 1309 news sources appearing in only 530 subreddits or less (1.0%)\n",
      "There are 1309 news sources appearing in only 531 subreddits or less (1.0%)\n",
      "There are 1309 news sources appearing in only 532 subreddits or less (1.0%)\n",
      "There are 1309 news sources appearing in only 533 subreddits or less (1.0%)\n",
      "There are 1309 news sources appearing in only 534 subreddits or less (1.0%)\n",
      "There are 1309 news sources appearing in only 535 subreddits or less (1.0%)\n",
      "There are 1309 news sources appearing in only 536 subreddits or less (1.0%)\n",
      "There are 1309 news sources appearing in only 537 subreddits or less (1.0%)\n",
      "There are 1309 news sources appearing in only 538 subreddits or less (1.0%)\n",
      "There are 1309 news sources appearing in only 539 subreddits or less (1.0%)\n",
      "There are 1309 news sources appearing in only 540 subreddits or less (1.0%)\n",
      "There are 1309 news sources appearing in only 541 subreddits or less (1.0%)\n",
      "There are 1309 news sources appearing in only 542 subreddits or less (1.0%)\n",
      "There are 1309 news sources appearing in only 543 subreddits or less (1.0%)\n",
      "There are 1309 news sources appearing in only 544 subreddits or less (1.0%)\n",
      "There are 1309 news sources appearing in only 545 subreddits or less (1.0%)\n",
      "There are 1309 news sources appearing in only 546 subreddits or less (1.0%)\n",
      "There are 1309 news sources appearing in only 547 subreddits or less (1.0%)\n",
      "There are 1309 news sources appearing in only 548 subreddits or less (1.0%)\n",
      "There are 1309 news sources appearing in only 549 subreddits or less (1.0%)\n",
      "There are 1309 news sources appearing in only 550 subreddits or less (1.0%)\n",
      "There are 1309 news sources appearing in only 551 subreddits or less (1.0%)\n",
      "There are 1309 news sources appearing in only 552 subreddits or less (1.0%)\n",
      "There are 1309 news sources appearing in only 553 subreddits or less (1.0%)\n",
      "There are 1309 news sources appearing in only 554 subreddits or less (1.0%)\n",
      "There are 1309 news sources appearing in only 555 subreddits or less (1.0%)\n",
      "There are 1309 news sources appearing in only 556 subreddits or less (1.0%)\n",
      "There are 1309 news sources appearing in only 557 subreddits or less (1.0%)\n",
      "There are 1309 news sources appearing in only 558 subreddits or less (1.0%)\n",
      "There are 1309 news sources appearing in only 559 subreddits or less (1.0%)\n",
      "There are 1309 news sources appearing in only 560 subreddits or less (1.0%)\n",
      "There are 1309 news sources appearing in only 561 subreddits or less (1.0%)\n",
      "There are 1309 news sources appearing in only 562 subreddits or less (1.0%)\n",
      "There are 1309 news sources appearing in only 563 subreddits or less (1.0%)\n",
      "There are 1309 news sources appearing in only 564 subreddits or less (1.0%)\n",
      "There are 1309 news sources appearing in only 565 subreddits or less (1.0%)\n",
      "There are 1309 news sources appearing in only 566 subreddits or less (1.0%)\n",
      "There are 1309 news sources appearing in only 567 subreddits or less (1.0%)\n",
      "There are 1309 news sources appearing in only 568 subreddits or less (1.0%)\n",
      "There are 1309 news sources appearing in only 569 subreddits or less (1.0%)\n",
      "There are 1309 news sources appearing in only 570 subreddits or less (1.0%)\n",
      "There are 1309 news sources appearing in only 571 subreddits or less (1.0%)\n",
      "There are 1309 news sources appearing in only 572 subreddits or less (1.0%)\n",
      "There are 1309 news sources appearing in only 573 subreddits or less (1.0%)\n",
      "There are 1309 news sources appearing in only 574 subreddits or less (1.0%)\n",
      "There are 1309 news sources appearing in only 575 subreddits or less (1.0%)\n",
      "There are 1309 news sources appearing in only 576 subreddits or less (1.0%)\n",
      "There are 1309 news sources appearing in only 577 subreddits or less (1.0%)\n",
      "There are 1309 news sources appearing in only 578 subreddits or less (1.0%)\n",
      "There are 1309 news sources appearing in only 579 subreddits or less (1.0%)\n",
      "There are 1309 news sources appearing in only 580 subreddits or less (1.0%)\n",
      "There are 1309 news sources appearing in only 581 subreddits or less (1.0%)\n",
      "There are 1309 news sources appearing in only 582 subreddits or less (1.0%)\n",
      "There are 1309 news sources appearing in only 583 subreddits or less (1.0%)\n",
      "There are 1309 news sources appearing in only 584 subreddits or less (1.0%)\n",
      "There are 1309 news sources appearing in only 585 subreddits or less (1.0%)\n",
      "There are 1309 news sources appearing in only 586 subreddits or less (1.0%)\n",
      "There are 1309 news sources appearing in only 587 subreddits or less (1.0%)\n",
      "There are 1309 news sources appearing in only 588 subreddits or less (1.0%)\n",
      "There are 1309 news sources appearing in only 589 subreddits or less (1.0%)\n",
      "There are 1309 news sources appearing in only 590 subreddits or less (1.0%)\n",
      "There are 1309 news sources appearing in only 591 subreddits or less (1.0%)\n",
      "There are 1309 news sources appearing in only 592 subreddits or less (1.0%)\n",
      "There are 1309 news sources appearing in only 593 subreddits or less (1.0%)\n",
      "There are 1309 news sources appearing in only 594 subreddits or less (1.0%)\n",
      "There are 1309 news sources appearing in only 595 subreddits or less (1.0%)\n",
      "There are 1309 news sources appearing in only 596 subreddits or less (1.0%)\n",
      "There are 1309 news sources appearing in only 597 subreddits or less (1.0%)\n",
      "There are 1309 news sources appearing in only 598 subreddits or less (1.0%)\n",
      "There are 1309 news sources appearing in only 599 subreddits or less (1.0%)\n",
      "There are 1309 news sources appearing in only 600 subreddits or less (1.0%)\n",
      "There are 1309 news sources appearing in only 601 subreddits or less (1.0%)\n",
      "There are 1309 news sources appearing in only 602 subreddits or less (1.0%)\n",
      "There are 1309 news sources appearing in only 603 subreddits or less (1.0%)\n",
      "There are 1309 news sources appearing in only 604 subreddits or less (1.0%)\n",
      "There are 1309 news sources appearing in only 605 subreddits or less (1.0%)\n",
      "There are 1309 news sources appearing in only 606 subreddits or less (1.0%)\n",
      "There are 1309 news sources appearing in only 607 subreddits or less (1.0%)\n",
      "There are 1309 news sources appearing in only 608 subreddits or less (1.0%)\n",
      "There are 1309 news sources appearing in only 609 subreddits or less (1.0%)\n",
      "There are 1309 news sources appearing in only 610 subreddits or less (1.0%)\n",
      "There are 1309 news sources appearing in only 611 subreddits or less (1.0%)\n",
      "There are 1309 news sources appearing in only 612 subreddits or less (1.0%)\n",
      "There are 1309 news sources appearing in only 613 subreddits or less (1.0%)\n",
      "There are 1309 news sources appearing in only 614 subreddits or less (1.0%)\n",
      "There are 1309 news sources appearing in only 615 subreddits or less (1.0%)\n",
      "There are 1309 news sources appearing in only 616 subreddits or less (1.0%)\n",
      "There are 1309 news sources appearing in only 617 subreddits or less (1.0%)\n",
      "There are 1309 news sources appearing in only 618 subreddits or less (1.0%)\n",
      "There are 1309 news sources appearing in only 619 subreddits or less (1.0%)\n",
      "There are 1309 news sources appearing in only 620 subreddits or less (1.0%)\n",
      "There are 1309 news sources appearing in only 621 subreddits or less (1.0%)\n",
      "There are 1309 news sources appearing in only 622 subreddits or less (1.0%)\n",
      "There are 1309 news sources appearing in only 623 subreddits or less (1.0%)\n",
      "There are 1309 news sources appearing in only 624 subreddits or less (1.0%)\n",
      "There are 1309 news sources appearing in only 625 subreddits or less (1.0%)\n",
      "There are 1309 news sources appearing in only 626 subreddits or less (1.0%)\n",
      "There are 1309 news sources appearing in only 627 subreddits or less (1.0%)\n",
      "There are 1309 news sources appearing in only 628 subreddits or less (1.0%)\n",
      "There are 1309 news sources appearing in only 629 subreddits or less (1.0%)\n",
      "There are 1309 news sources appearing in only 630 subreddits or less (1.0%)\n",
      "There are 1309 news sources appearing in only 631 subreddits or less (1.0%)\n",
      "There are 1309 news sources appearing in only 632 subreddits or less (1.0%)\n",
      "There are 1309 news sources appearing in only 633 subreddits or less (1.0%)\n",
      "There are 1309 news sources appearing in only 634 subreddits or less (1.0%)\n",
      "There are 1309 news sources appearing in only 635 subreddits or less (1.0%)\n",
      "There are 1309 news sources appearing in only 636 subreddits or less (1.0%)\n",
      "There are 1309 news sources appearing in only 637 subreddits or less (1.0%)\n",
      "There are 1309 news sources appearing in only 638 subreddits or less (1.0%)\n",
      "There are 1309 news sources appearing in only 639 subreddits or less (1.0%)\n",
      "There are 1309 news sources appearing in only 640 subreddits or less (1.0%)\n"
     ]
    },
    {
     "name": "stdout",
     "output_type": "stream",
     "text": [
      "There are 1309 news sources appearing in only 641 subreddits or less (1.0%)\n",
      "There are 1309 news sources appearing in only 642 subreddits or less (1.0%)\n",
      "There are 1309 news sources appearing in only 643 subreddits or less (1.0%)\n",
      "There are 1309 news sources appearing in only 644 subreddits or less (1.0%)\n",
      "There are 1309 news sources appearing in only 645 subreddits or less (1.0%)\n",
      "There are 1309 news sources appearing in only 646 subreddits or less (1.0%)\n",
      "There are 1309 news sources appearing in only 647 subreddits or less (1.0%)\n",
      "There are 1309 news sources appearing in only 648 subreddits or less (1.0%)\n",
      "There are 1309 news sources appearing in only 649 subreddits or less (1.0%)\n",
      "There are 1309 news sources appearing in only 650 subreddits or less (1.0%)\n",
      "There are 1309 news sources appearing in only 651 subreddits or less (1.0%)\n",
      "There are 1309 news sources appearing in only 652 subreddits or less (1.0%)\n",
      "There are 1309 news sources appearing in only 653 subreddits or less (1.0%)\n",
      "There are 1309 news sources appearing in only 654 subreddits or less (1.0%)\n",
      "There are 1309 news sources appearing in only 655 subreddits or less (1.0%)\n",
      "There are 1309 news sources appearing in only 656 subreddits or less (1.0%)\n",
      "There are 1309 news sources appearing in only 657 subreddits or less (1.0%)\n",
      "There are 1309 news sources appearing in only 658 subreddits or less (1.0%)\n",
      "There are 1309 news sources appearing in only 659 subreddits or less (1.0%)\n",
      "There are 1309 news sources appearing in only 660 subreddits or less (1.0%)\n",
      "There are 1309 news sources appearing in only 661 subreddits or less (1.0%)\n",
      "There are 1309 news sources appearing in only 662 subreddits or less (1.0%)\n",
      "There are 1309 news sources appearing in only 663 subreddits or less (1.0%)\n",
      "There are 1309 news sources appearing in only 664 subreddits or less (1.0%)\n",
      "There are 1309 news sources appearing in only 665 subreddits or less (1.0%)\n",
      "There are 1309 news sources appearing in only 666 subreddits or less (1.0%)\n",
      "There are 1309 news sources appearing in only 667 subreddits or less (1.0%)\n",
      "There are 1309 news sources appearing in only 668 subreddits or less (1.0%)\n",
      "There are 1309 news sources appearing in only 669 subreddits or less (1.0%)\n",
      "There are 1309 news sources appearing in only 670 subreddits or less (1.0%)\n",
      "There are 1309 news sources appearing in only 671 subreddits or less (1.0%)\n",
      "There are 1309 news sources appearing in only 672 subreddits or less (1.0%)\n",
      "There are 1309 news sources appearing in only 673 subreddits or less (1.0%)\n",
      "There are 1309 news sources appearing in only 674 subreddits or less (1.0%)\n",
      "There are 1309 news sources appearing in only 675 subreddits or less (1.0%)\n",
      "There are 1309 news sources appearing in only 676 subreddits or less (1.0%)\n",
      "There are 1309 news sources appearing in only 677 subreddits or less (1.0%)\n",
      "There are 1309 news sources appearing in only 678 subreddits or less (1.0%)\n",
      "There are 1309 news sources appearing in only 679 subreddits or less (1.0%)\n",
      "There are 1309 news sources appearing in only 680 subreddits or less (1.0%)\n",
      "There are 1309 news sources appearing in only 681 subreddits or less (1.0%)\n",
      "There are 1309 news sources appearing in only 682 subreddits or less (1.0%)\n",
      "There are 1309 news sources appearing in only 683 subreddits or less (1.0%)\n",
      "There are 1309 news sources appearing in only 684 subreddits or less (1.0%)\n",
      "There are 1309 news sources appearing in only 685 subreddits or less (1.0%)\n",
      "There are 1309 news sources appearing in only 686 subreddits or less (1.0%)\n",
      "There are 1309 news sources appearing in only 687 subreddits or less (1.0%)\n",
      "There are 1309 news sources appearing in only 688 subreddits or less (1.0%)\n",
      "There are 1309 news sources appearing in only 689 subreddits or less (1.0%)\n",
      "There are 1309 news sources appearing in only 690 subreddits or less (1.0%)\n",
      "There are 1309 news sources appearing in only 691 subreddits or less (1.0%)\n",
      "There are 1309 news sources appearing in only 692 subreddits or less (1.0%)\n",
      "There are 1309 news sources appearing in only 693 subreddits or less (1.0%)\n",
      "There are 1309 news sources appearing in only 694 subreddits or less (1.0%)\n",
      "There are 1309 news sources appearing in only 695 subreddits or less (1.0%)\n",
      "There are 1309 news sources appearing in only 696 subreddits or less (1.0%)\n",
      "There are 1309 news sources appearing in only 697 subreddits or less (1.0%)\n",
      "There are 1309 news sources appearing in only 698 subreddits or less (1.0%)\n",
      "There are 1309 news sources appearing in only 699 subreddits or less (1.0%)\n",
      "There are 1309 news sources appearing in only 700 subreddits or less (1.0%)\n",
      "There are 1309 news sources appearing in only 701 subreddits or less (1.0%)\n",
      "There are 1309 news sources appearing in only 702 subreddits or less (1.0%)\n",
      "There are 1309 news sources appearing in only 703 subreddits or less (1.0%)\n",
      "There are 1309 news sources appearing in only 704 subreddits or less (1.0%)\n",
      "There are 1309 news sources appearing in only 705 subreddits or less (1.0%)\n",
      "There are 1309 news sources appearing in only 706 subreddits or less (1.0%)\n",
      "There are 1309 news sources appearing in only 707 subreddits or less (1.0%)\n",
      "There are 1309 news sources appearing in only 708 subreddits or less (1.0%)\n",
      "There are 1309 news sources appearing in only 709 subreddits or less (1.0%)\n",
      "There are 1309 news sources appearing in only 710 subreddits or less (1.0%)\n",
      "There are 1309 news sources appearing in only 711 subreddits or less (1.0%)\n",
      "There are 1309 news sources appearing in only 712 subreddits or less (1.0%)\n",
      "There are 1309 news sources appearing in only 713 subreddits or less (1.0%)\n",
      "There are 1309 news sources appearing in only 714 subreddits or less (1.0%)\n",
      "There are 1309 news sources appearing in only 715 subreddits or less (1.0%)\n",
      "There are 1309 news sources appearing in only 716 subreddits or less (1.0%)\n",
      "There are 1309 news sources appearing in only 717 subreddits or less (1.0%)\n",
      "There are 1309 news sources appearing in only 718 subreddits or less (1.0%)\n",
      "There are 1309 news sources appearing in only 719 subreddits or less (1.0%)\n",
      "There are 1309 news sources appearing in only 720 subreddits or less (1.0%)\n",
      "There are 1309 news sources appearing in only 721 subreddits or less (1.0%)\n",
      "There are 1309 news sources appearing in only 722 subreddits or less (1.0%)\n",
      "There are 1309 news sources appearing in only 723 subreddits or less (1.0%)\n",
      "There are 1309 news sources appearing in only 724 subreddits or less (1.0%)\n",
      "There are 1309 news sources appearing in only 725 subreddits or less (1.0%)\n",
      "There are 1309 news sources appearing in only 726 subreddits or less (1.0%)\n",
      "There are 1309 news sources appearing in only 727 subreddits or less (1.0%)\n",
      "There are 1309 news sources appearing in only 728 subreddits or less (1.0%)\n",
      "There are 1309 news sources appearing in only 729 subreddits or less (1.0%)\n",
      "There are 1309 news sources appearing in only 730 subreddits or less (1.0%)\n",
      "There are 1309 news sources appearing in only 731 subreddits or less (1.0%)\n",
      "There are 1309 news sources appearing in only 732 subreddits or less (1.0%)\n",
      "There are 1309 news sources appearing in only 733 subreddits or less (1.0%)\n",
      "There are 1309 news sources appearing in only 734 subreddits or less (1.0%)\n",
      "There are 1309 news sources appearing in only 735 subreddits or less (1.0%)\n",
      "There are 1309 news sources appearing in only 736 subreddits or less (1.0%)\n",
      "There are 1309 news sources appearing in only 737 subreddits or less (1.0%)\n",
      "There are 1309 news sources appearing in only 738 subreddits or less (1.0%)\n",
      "There are 1309 news sources appearing in only 739 subreddits or less (1.0%)\n",
      "There are 1309 news sources appearing in only 740 subreddits or less (1.0%)\n",
      "There are 1309 news sources appearing in only 741 subreddits or less (1.0%)\n",
      "There are 1309 news sources appearing in only 742 subreddits or less (1.0%)\n",
      "There are 1309 news sources appearing in only 743 subreddits or less (1.0%)\n",
      "There are 1309 news sources appearing in only 744 subreddits or less (1.0%)\n",
      "There are 1309 news sources appearing in only 745 subreddits or less (1.0%)\n",
      "There are 1309 news sources appearing in only 746 subreddits or less (1.0%)\n",
      "There are 1309 news sources appearing in only 747 subreddits or less (1.0%)\n",
      "There are 1309 news sources appearing in only 748 subreddits or less (1.0%)\n",
      "There are 1309 news sources appearing in only 749 subreddits or less (1.0%)\n",
      "There are 1309 news sources appearing in only 750 subreddits or less (1.0%)\n",
      "There are 1309 news sources appearing in only 751 subreddits or less (1.0%)\n",
      "There are 1309 news sources appearing in only 752 subreddits or less (1.0%)\n",
      "There are 1309 news sources appearing in only 753 subreddits or less (1.0%)\n",
      "There are 1309 news sources appearing in only 754 subreddits or less (1.0%)\n",
      "There are 1309 news sources appearing in only 755 subreddits or less (1.0%)\n",
      "There are 1309 news sources appearing in only 756 subreddits or less (1.0%)\n",
      "There are 1309 news sources appearing in only 757 subreddits or less (1.0%)\n",
      "There are 1309 news sources appearing in only 758 subreddits or less (1.0%)\n",
      "There are 1309 news sources appearing in only 759 subreddits or less (1.0%)\n",
      "There are 1309 news sources appearing in only 760 subreddits or less (1.0%)\n",
      "There are 1309 news sources appearing in only 761 subreddits or less (1.0%)\n",
      "There are 1309 news sources appearing in only 762 subreddits or less (1.0%)\n",
      "There are 1309 news sources appearing in only 763 subreddits or less (1.0%)\n",
      "There are 1309 news sources appearing in only 764 subreddits or less (1.0%)\n",
      "There are 1309 news sources appearing in only 765 subreddits or less (1.0%)\n",
      "There are 1309 news sources appearing in only 766 subreddits or less (1.0%)\n",
      "There are 1309 news sources appearing in only 767 subreddits or less (1.0%)\n",
      "There are 1309 news sources appearing in only 768 subreddits or less (1.0%)\n",
      "There are 1309 news sources appearing in only 769 subreddits or less (1.0%)\n",
      "There are 1309 news sources appearing in only 770 subreddits or less (1.0%)\n",
      "There are 1309 news sources appearing in only 771 subreddits or less (1.0%)\n",
      "There are 1309 news sources appearing in only 772 subreddits or less (1.0%)\n",
      "There are 1309 news sources appearing in only 773 subreddits or less (1.0%)\n",
      "There are 1309 news sources appearing in only 774 subreddits or less (1.0%)\n",
      "There are 1309 news sources appearing in only 775 subreddits or less (1.0%)\n",
      "There are 1309 news sources appearing in only 776 subreddits or less (1.0%)\n",
      "There are 1309 news sources appearing in only 777 subreddits or less (1.0%)\n",
      "There are 1309 news sources appearing in only 778 subreddits or less (1.0%)\n",
      "There are 1309 news sources appearing in only 779 subreddits or less (1.0%)\n",
      "There are 1309 news sources appearing in only 780 subreddits or less (1.0%)\n",
      "There are 1309 news sources appearing in only 781 subreddits or less (1.0%)\n",
      "There are 1309 news sources appearing in only 782 subreddits or less (1.0%)\n",
      "There are 1309 news sources appearing in only 783 subreddits or less (1.0%)\n",
      "There are 1309 news sources appearing in only 784 subreddits or less (1.0%)\n",
      "There are 1309 news sources appearing in only 785 subreddits or less (1.0%)\n",
      "There are 1309 news sources appearing in only 786 subreddits or less (1.0%)\n",
      "There are 1309 news sources appearing in only 787 subreddits or less (1.0%)\n",
      "There are 1309 news sources appearing in only 788 subreddits or less (1.0%)\n",
      "There are 1309 news sources appearing in only 789 subreddits or less (1.0%)\n",
      "There are 1309 news sources appearing in only 790 subreddits or less (1.0%)\n",
      "There are 1309 news sources appearing in only 791 subreddits or less (1.0%)\n",
      "There are 1309 news sources appearing in only 792 subreddits or less (1.0%)\n",
      "There are 1309 news sources appearing in only 793 subreddits or less (1.0%)\n",
      "There are 1309 news sources appearing in only 794 subreddits or less (1.0%)\n",
      "There are 1309 news sources appearing in only 795 subreddits or less (1.0%)\n",
      "There are 1309 news sources appearing in only 796 subreddits or less (1.0%)\n",
      "There are 1309 news sources appearing in only 797 subreddits or less (1.0%)\n",
      "There are 1309 news sources appearing in only 798 subreddits or less (1.0%)\n",
      "There are 1309 news sources appearing in only 799 subreddits or less (1.0%)\n",
      "There are 1309 news sources appearing in only 800 subreddits or less (1.0%)\n",
      "There are 1309 news sources appearing in only 801 subreddits or less (1.0%)\n",
      "There are 1309 news sources appearing in only 802 subreddits or less (1.0%)\n",
      "There are 1309 news sources appearing in only 803 subreddits or less (1.0%)\n",
      "There are 1309 news sources appearing in only 804 subreddits or less (1.0%)\n",
      "There are 1309 news sources appearing in only 805 subreddits or less (1.0%)\n",
      "There are 1309 news sources appearing in only 806 subreddits or less (1.0%)\n",
      "There are 1309 news sources appearing in only 807 subreddits or less (1.0%)\n",
      "There are 1309 news sources appearing in only 808 subreddits or less (1.0%)\n",
      "There are 1309 news sources appearing in only 809 subreddits or less (1.0%)\n",
      "There are 1309 news sources appearing in only 810 subreddits or less (1.0%)\n",
      "There are 1309 news sources appearing in only 811 subreddits or less (1.0%)\n",
      "There are 1309 news sources appearing in only 812 subreddits or less (1.0%)\n",
      "There are 1309 news sources appearing in only 813 subreddits or less (1.0%)\n",
      "There are 1309 news sources appearing in only 814 subreddits or less (1.0%)\n",
      "There are 1309 news sources appearing in only 815 subreddits or less (1.0%)\n",
      "There are 1309 news sources appearing in only 816 subreddits or less (1.0%)\n",
      "There are 1309 news sources appearing in only 817 subreddits or less (1.0%)\n",
      "There are 1309 news sources appearing in only 818 subreddits or less (1.0%)\n",
      "There are 1309 news sources appearing in only 819 subreddits or less (1.0%)\n",
      "There are 1309 news sources appearing in only 820 subreddits or less (1.0%)\n",
      "There are 1309 news sources appearing in only 821 subreddits or less (1.0%)\n",
      "There are 1309 news sources appearing in only 822 subreddits or less (1.0%)\n",
      "There are 1309 news sources appearing in only 823 subreddits or less (1.0%)\n",
      "There are 1309 news sources appearing in only 824 subreddits or less (1.0%)\n",
      "There are 1309 news sources appearing in only 825 subreddits or less (1.0%)\n",
      "There are 1309 news sources appearing in only 826 subreddits or less (1.0%)\n",
      "There are 1309 news sources appearing in only 827 subreddits or less (1.0%)\n",
      "There are 1309 news sources appearing in only 828 subreddits or less (1.0%)\n",
      "There are 1309 news sources appearing in only 829 subreddits or less (1.0%)\n",
      "There are 1309 news sources appearing in only 830 subreddits or less (1.0%)\n",
      "There are 1309 news sources appearing in only 831 subreddits or less (1.0%)\n",
      "There are 1309 news sources appearing in only 832 subreddits or less (1.0%)\n",
      "There are 1309 news sources appearing in only 833 subreddits or less (1.0%)\n",
      "There are 1309 news sources appearing in only 834 subreddits or less (1.0%)\n",
      "There are 1309 news sources appearing in only 835 subreddits or less (1.0%)\n",
      "There are 1309 news sources appearing in only 836 subreddits or less (1.0%)\n",
      "There are 1309 news sources appearing in only 837 subreddits or less (1.0%)\n",
      "There are 1309 news sources appearing in only 838 subreddits or less (1.0%)\n",
      "There are 1309 news sources appearing in only 839 subreddits or less (1.0%)\n",
      "There are 1309 news sources appearing in only 840 subreddits or less (1.0%)\n",
      "There are 1309 news sources appearing in only 841 subreddits or less (1.0%)\n",
      "There are 1309 news sources appearing in only 842 subreddits or less (1.0%)\n",
      "There are 1309 news sources appearing in only 843 subreddits or less (1.0%)\n",
      "There are 1309 news sources appearing in only 844 subreddits or less (1.0%)\n",
      "There are 1309 news sources appearing in only 845 subreddits or less (1.0%)\n",
      "There are 1309 news sources appearing in only 846 subreddits or less (1.0%)\n",
      "There are 1309 news sources appearing in only 847 subreddits or less (1.0%)\n",
      "There are 1309 news sources appearing in only 848 subreddits or less (1.0%)\n",
      "There are 1309 news sources appearing in only 849 subreddits or less (1.0%)\n",
      "There are 1309 news sources appearing in only 850 subreddits or less (1.0%)\n",
      "There are 1309 news sources appearing in only 851 subreddits or less (1.0%)\n",
      "There are 1309 news sources appearing in only 852 subreddits or less (1.0%)\n",
      "There are 1309 news sources appearing in only 853 subreddits or less (1.0%)\n",
      "There are 1309 news sources appearing in only 854 subreddits or less (1.0%)\n",
      "There are 1309 news sources appearing in only 855 subreddits or less (1.0%)\n",
      "There are 1309 news sources appearing in only 856 subreddits or less (1.0%)\n",
      "There are 1309 news sources appearing in only 857 subreddits or less (1.0%)\n",
      "There are 1309 news sources appearing in only 858 subreddits or less (1.0%)\n",
      "There are 1309 news sources appearing in only 859 subreddits or less (1.0%)\n",
      "There are 1309 news sources appearing in only 860 subreddits or less (1.0%)\n",
      "There are 1309 news sources appearing in only 861 subreddits or less (1.0%)\n",
      "There are 1309 news sources appearing in only 862 subreddits or less (1.0%)\n",
      "There are 1309 news sources appearing in only 863 subreddits or less (1.0%)\n",
      "There are 1309 news sources appearing in only 864 subreddits or less (1.0%)\n",
      "There are 1309 news sources appearing in only 865 subreddits or less (1.0%)\n",
      "There are 1309 news sources appearing in only 866 subreddits or less (1.0%)\n",
      "There are 1309 news sources appearing in only 867 subreddits or less (1.0%)\n",
      "There are 1309 news sources appearing in only 868 subreddits or less (1.0%)\n",
      "There are 1309 news sources appearing in only 869 subreddits or less (1.0%)\n",
      "There are 1309 news sources appearing in only 870 subreddits or less (1.0%)\n",
      "There are 1309 news sources appearing in only 871 subreddits or less (1.0%)\n",
      "There are 1309 news sources appearing in only 872 subreddits or less (1.0%)\n",
      "There are 1309 news sources appearing in only 873 subreddits or less (1.0%)\n",
      "There are 1309 news sources appearing in only 874 subreddits or less (1.0%)\n",
      "There are 1309 news sources appearing in only 875 subreddits or less (1.0%)\n",
      "There are 1309 news sources appearing in only 876 subreddits or less (1.0%)\n",
      "There are 1309 news sources appearing in only 877 subreddits or less (1.0%)\n",
      "There are 1309 news sources appearing in only 878 subreddits or less (1.0%)\n",
      "There are 1309 news sources appearing in only 879 subreddits or less (1.0%)\n",
      "There are 1309 news sources appearing in only 880 subreddits or less (1.0%)\n",
      "There are 1309 news sources appearing in only 881 subreddits or less (1.0%)\n",
      "There are 1309 news sources appearing in only 882 subreddits or less (1.0%)\n",
      "There are 1309 news sources appearing in only 883 subreddits or less (1.0%)\n",
      "There are 1309 news sources appearing in only 884 subreddits or less (1.0%)\n",
      "There are 1309 news sources appearing in only 885 subreddits or less (1.0%)\n",
      "There are 1309 news sources appearing in only 886 subreddits or less (1.0%)\n",
      "There are 1309 news sources appearing in only 887 subreddits or less (1.0%)\n",
      "There are 1309 news sources appearing in only 888 subreddits or less (1.0%)\n",
      "There are 1309 news sources appearing in only 889 subreddits or less (1.0%)\n",
      "There are 1309 news sources appearing in only 890 subreddits or less (1.0%)\n",
      "There are 1309 news sources appearing in only 891 subreddits or less (1.0%)\n",
      "There are 1309 news sources appearing in only 892 subreddits or less (1.0%)\n",
      "There are 1309 news sources appearing in only 893 subreddits or less (1.0%)\n",
      "There are 1309 news sources appearing in only 894 subreddits or less (1.0%)\n",
      "There are 1309 news sources appearing in only 895 subreddits or less (1.0%)\n",
      "There are 1309 news sources appearing in only 896 subreddits or less (1.0%)\n",
      "There are 1309 news sources appearing in only 897 subreddits or less (1.0%)\n",
      "There are 1309 news sources appearing in only 898 subreddits or less (1.0%)\n",
      "There are 1309 news sources appearing in only 899 subreddits or less (1.0%)\n",
      "There are 1309 news sources appearing in only 900 subreddits or less (1.0%)\n",
      "There are 1309 news sources appearing in only 901 subreddits or less (1.0%)\n",
      "There are 1309 news sources appearing in only 902 subreddits or less (1.0%)\n",
      "There are 1309 news sources appearing in only 903 subreddits or less (1.0%)\n",
      "There are 1309 news sources appearing in only 904 subreddits or less (1.0%)\n",
      "There are 1309 news sources appearing in only 905 subreddits or less (1.0%)\n",
      "There are 1309 news sources appearing in only 906 subreddits or less (1.0%)\n",
      "There are 1309 news sources appearing in only 907 subreddits or less (1.0%)\n",
      "There are 1309 news sources appearing in only 908 subreddits or less (1.0%)\n",
      "There are 1309 news sources appearing in only 909 subreddits or less (1.0%)\n",
      "There are 1309 news sources appearing in only 910 subreddits or less (1.0%)\n",
      "There are 1309 news sources appearing in only 911 subreddits or less (1.0%)\n",
      "There are 1309 news sources appearing in only 912 subreddits or less (1.0%)\n",
      "There are 1309 news sources appearing in only 913 subreddits or less (1.0%)\n",
      "There are 1309 news sources appearing in only 914 subreddits or less (1.0%)\n",
      "There are 1309 news sources appearing in only 915 subreddits or less (1.0%)\n",
      "There are 1309 news sources appearing in only 916 subreddits or less (1.0%)\n",
      "There are 1309 news sources appearing in only 917 subreddits or less (1.0%)\n",
      "There are 1309 news sources appearing in only 918 subreddits or less (1.0%)\n",
      "There are 1309 news sources appearing in only 919 subreddits or less (1.0%)\n",
      "There are 1309 news sources appearing in only 920 subreddits or less (1.0%)\n",
      "There are 1309 news sources appearing in only 921 subreddits or less (1.0%)\n",
      "There are 1309 news sources appearing in only 922 subreddits or less (1.0%)\n",
      "There are 1309 news sources appearing in only 923 subreddits or less (1.0%)\n",
      "There are 1309 news sources appearing in only 924 subreddits or less (1.0%)\n",
      "There are 1309 news sources appearing in only 925 subreddits or less (1.0%)\n",
      "There are 1309 news sources appearing in only 926 subreddits or less (1.0%)\n",
      "There are 1309 news sources appearing in only 927 subreddits or less (1.0%)\n",
      "There are 1309 news sources appearing in only 928 subreddits or less (1.0%)\n",
      "There are 1309 news sources appearing in only 929 subreddits or less (1.0%)\n",
      "There are 1309 news sources appearing in only 930 subreddits or less (1.0%)\n",
      "There are 1309 news sources appearing in only 931 subreddits or less (1.0%)\n",
      "There are 1309 news sources appearing in only 932 subreddits or less (1.0%)\n",
      "There are 1309 news sources appearing in only 933 subreddits or less (1.0%)\n",
      "There are 1309 news sources appearing in only 934 subreddits or less (1.0%)\n",
      "There are 1309 news sources appearing in only 935 subreddits or less (1.0%)\n",
      "There are 1309 news sources appearing in only 936 subreddits or less (1.0%)\n",
      "There are 1309 news sources appearing in only 937 subreddits or less (1.0%)\n",
      "There are 1309 news sources appearing in only 938 subreddits or less (1.0%)\n",
      "There are 1309 news sources appearing in only 939 subreddits or less (1.0%)\n",
      "There are 1309 news sources appearing in only 940 subreddits or less (1.0%)\n",
      "There are 1309 news sources appearing in only 941 subreddits or less (1.0%)\n",
      "There are 1309 news sources appearing in only 942 subreddits or less (1.0%)\n",
      "There are 1309 news sources appearing in only 943 subreddits or less (1.0%)\n",
      "There are 1309 news sources appearing in only 944 subreddits or less (1.0%)\n",
      "There are 1309 news sources appearing in only 945 subreddits or less (1.0%)\n",
      "There are 1309 news sources appearing in only 946 subreddits or less (1.0%)\n",
      "There are 1309 news sources appearing in only 947 subreddits or less (1.0%)\n",
      "There are 1309 news sources appearing in only 948 subreddits or less (1.0%)\n",
      "There are 1309 news sources appearing in only 949 subreddits or less (1.0%)\n",
      "There are 1309 news sources appearing in only 950 subreddits or less (1.0%)\n",
      "There are 1309 news sources appearing in only 951 subreddits or less (1.0%)\n",
      "There are 1309 news sources appearing in only 952 subreddits or less (1.0%)\n",
      "There are 1309 news sources appearing in only 953 subreddits or less (1.0%)\n",
      "There are 1309 news sources appearing in only 954 subreddits or less (1.0%)\n",
      "There are 1309 news sources appearing in only 955 subreddits or less (1.0%)\n",
      "There are 1309 news sources appearing in only 956 subreddits or less (1.0%)\n",
      "There are 1309 news sources appearing in only 957 subreddits or less (1.0%)\n",
      "There are 1309 news sources appearing in only 958 subreddits or less (1.0%)\n",
      "There are 1309 news sources appearing in only 959 subreddits or less (1.0%)\n",
      "There are 1309 news sources appearing in only 960 subreddits or less (1.0%)\n",
      "There are 1309 news sources appearing in only 961 subreddits or less (1.0%)\n",
      "There are 1309 news sources appearing in only 962 subreddits or less (1.0%)\n",
      "There are 1309 news sources appearing in only 963 subreddits or less (1.0%)\n",
      "There are 1309 news sources appearing in only 964 subreddits or less (1.0%)\n",
      "There are 1309 news sources appearing in only 965 subreddits or less (1.0%)\n",
      "There are 1309 news sources appearing in only 966 subreddits or less (1.0%)\n",
      "There are 1309 news sources appearing in only 967 subreddits or less (1.0%)\n",
      "There are 1309 news sources appearing in only 968 subreddits or less (1.0%)\n",
      "There are 1309 news sources appearing in only 969 subreddits or less (1.0%)\n",
      "There are 1309 news sources appearing in only 970 subreddits or less (1.0%)\n",
      "There are 1309 news sources appearing in only 971 subreddits or less (1.0%)\n",
      "There are 1309 news sources appearing in only 972 subreddits or less (1.0%)\n",
      "There are 1309 news sources appearing in only 973 subreddits or less (1.0%)\n",
      "There are 1309 news sources appearing in only 974 subreddits or less (1.0%)\n",
      "There are 1309 news sources appearing in only 975 subreddits or less (1.0%)\n",
      "There are 1309 news sources appearing in only 976 subreddits or less (1.0%)\n",
      "There are 1309 news sources appearing in only 977 subreddits or less (1.0%)\n",
      "There are 1309 news sources appearing in only 978 subreddits or less (1.0%)\n",
      "There are 1309 news sources appearing in only 979 subreddits or less (1.0%)\n",
      "There are 1309 news sources appearing in only 980 subreddits or less (1.0%)\n",
      "There are 1309 news sources appearing in only 981 subreddits or less (1.0%)\n",
      "There are 1309 news sources appearing in only 982 subreddits or less (1.0%)\n",
      "There are 1309 news sources appearing in only 983 subreddits or less (1.0%)\n",
      "There are 1309 news sources appearing in only 984 subreddits or less (1.0%)\n",
      "There are 1309 news sources appearing in only 985 subreddits or less (1.0%)\n",
      "There are 1309 news sources appearing in only 986 subreddits or less (1.0%)\n",
      "There are 1309 news sources appearing in only 987 subreddits or less (1.0%)\n",
      "There are 1309 news sources appearing in only 988 subreddits or less (1.0%)\n",
      "There are 1309 news sources appearing in only 989 subreddits or less (1.0%)\n",
      "There are 1309 news sources appearing in only 990 subreddits or less (1.0%)\n",
      "There are 1309 news sources appearing in only 991 subreddits or less (1.0%)\n",
      "There are 1309 news sources appearing in only 992 subreddits or less (1.0%)\n",
      "There are 1309 news sources appearing in only 993 subreddits or less (1.0%)\n",
      "There are 1309 news sources appearing in only 994 subreddits or less (1.0%)\n",
      "There are 1309 news sources appearing in only 995 subreddits or less (1.0%)\n",
      "There are 1309 news sources appearing in only 996 subreddits or less (1.0%)\n",
      "There are 1309 news sources appearing in only 997 subreddits or less (1.0%)\n",
      "There are 1309 news sources appearing in only 998 subreddits or less (1.0%)\n",
      "There are 1309 news sources appearing in only 999 subreddits or less (1.0%)\n"
     ]
    }
   ],
   "source": [
    "pct_in_k_subreddits = [(i, pct_ns_in_k_subreddits(i)) for i in range(1000)]"
   ]
  },
  {
   "cell_type": "code",
   "execution_count": 45,
   "metadata": {},
   "outputs": [
    {
     "data": {
      "text/plain": [
       "Text(0.5, 1.0, 'proportion of news sources appearing in x subreddits or less')"
      ]
     },
     "execution_count": 45,
     "metadata": {},
     "output_type": "execute_result"
    },
    {
     "data": {
      "image/png": "[encoded data removed]",
      "text/plain": [
       "<Figure size 1080x432 with 2 Axes>"
      ]
     },
     "metadata": {
      "needs_background": "light"
     },
     "output_type": "display_data"
    }
   ],
   "source": [
    "fig, (ax1, ax2) = plt.subplots(1, 2, figsize=(15,6))\n",
    "sns.set(font_scale = 1.2)\n",
    "\n",
    "sns.histplot(scf, log_scale=True, ax=ax1)\n",
    "ax1.set_xlabel(\"number of subreddit\")\n",
    "ax1.set_ylabel(\"news source count\")\n",
    "ax1.set_title(\"number of news sources appearing in x subreddits\")\n",
    "\n",
    "sns.lineplot(x=[k[0] for k in pct_in_k_subreddits],\n",
    "             y=[k[1] for k in pct_in_k_subreddits],\n",
    "            ax=ax2)\n",
    "ax2.set_ylabel(\"percentage\")\n",
    "ax2.set_xlabel(\"# subreddits news sources appear in\")\n",
    "ax2.set_title(\"proportion of news sources appearing in x subreddits or less\")"
   ]
  },
  {
   "cell_type": "code",
   "execution_count": 46,
   "metadata": {
    "scrolled": true
   },
   "outputs": [
    {
     "data": {
      "text/plain": [
       "3.8304048892284186"
      ]
     },
     "execution_count": 46,
     "metadata": {},
     "output_type": "execute_result"
    }
   ],
   "source": [
    "# mean\n",
    "statistics.mean(scf)"
   ]
  },
  {
   "cell_type": "code",
   "execution_count": 47,
   "metadata": {},
   "outputs": [
    {
     "data": {
      "text/plain": [
       "1"
      ]
     },
     "execution_count": 47,
     "metadata": {},
     "output_type": "execute_result"
    }
   ],
   "source": [
    "# median\n",
    "statistics.median(scf)"
   ]
  },
  {
   "cell_type": "markdown",
   "metadata": {},
   "source": [
    "## For each news source let's count how many times they are shared regardless of in which subreddits"
   ]
  },
  {
   "cell_type": "code",
   "execution_count": 48,
   "metadata": {},
   "outputs": [
    {
     "data": {
      "text/plain": [
       "0"
      ]
     },
     "execution_count": 48,
     "metadata": {},
     "output_type": "execute_result"
    }
   ],
   "source": [
    "sum(dict().values())"
   ]
  },
  {
   "cell_type": "code",
   "execution_count": 49,
   "metadata": {},
   "outputs": [],
   "source": [
    "def get_mention_count(ns):\n",
    "    \"\"\"get total mention count of ns in all six months\"\"\"\n",
    "    count = 0\n",
    "    files = [ns_subreddit_01, ns_subreddit_02, ns_subreddit_03, ns_subreddit_04, ns_subreddit_05, ns_subreddit_06]\n",
    "    for f in files:\n",
    "        ns_dict = f.get(ns, dict())\n",
    "        if len(ns_dict) > 0:\n",
    "            mentions = sum([m[0] for m in ns_dict.values()])\n",
    "            count += mentions\n",
    "    return count"
   ]
  },
  {
   "cell_type": "code",
   "execution_count": 50,
   "metadata": {},
   "outputs": [],
   "source": [
    "mention_count = dict()\n",
    "for ns in ns_union:\n",
    "    mention_count[ns] = get_mention_count(ns)"
   ]
  },
  {
   "cell_type": "code",
   "execution_count": 51,
   "metadata": {
    "scrolled": true
   },
   "outputs": [
    {
     "data": {
      "text/plain": [
       "29.9938884644767"
      ]
     },
     "execution_count": 51,
     "metadata": {},
     "output_type": "execute_result"
    }
   ],
   "source": [
    "statistics.mean(mention_count.values())"
   ]
  },
  {
   "cell_type": "code",
   "execution_count": 52,
   "metadata": {},
   "outputs": [
    {
     "data": {
      "text/plain": [
       "213.41008382218885"
      ]
     },
     "execution_count": 52,
     "metadata": {},
     "output_type": "execute_result"
    }
   ],
   "source": [
    "statistics.stdev(mention_count.values())"
   ]
  },
  {
   "cell_type": "code",
   "execution_count": 53,
   "metadata": {},
   "outputs": [
    {
     "data": {
      "text/plain": [
       "2"
      ]
     },
     "execution_count": 53,
     "metadata": {},
     "output_type": "execute_result"
    }
   ],
   "source": [
    "statistics.median(mention_count.values())"
   ]
  },
  {
   "cell_type": "code",
   "execution_count": 54,
   "metadata": {
    "scrolled": true
   },
   "outputs": [
    {
     "data": {
      "text/plain": [
       "1309"
      ]
     },
     "execution_count": 54,
     "metadata": {},
     "output_type": "execute_result"
    }
   ],
   "source": [
    "len(mention_count)"
   ]
  },
  {
   "cell_type": "code",
   "execution_count": 55,
   "metadata": {},
   "outputs": [
    {
     "data": {
      "text/plain": [
       "[('nba.com', 5540),\n",
       " ('espn.com', 3913),\n",
       " ('nbcsports.com', 2011),\n",
       " ('usatoday.com', 1416),\n",
       " ('theathletic.com', 1238),\n",
       " ('si.com', 1195),\n",
       " ('bleacherreport.com', 1062),\n",
       " ('nfl.com', 927),\n",
       " ('cbssports.com', 789),\n",
       " ('theguardian.com', 506),\n",
       " ('pff.com', 503),\n",
       " ('manutd.com', 464),\n",
       " ('telegraph.co.uk', 404),\n",
       " ('skysports.com', 398),\n",
       " ('bbc.co.uk', 369),\n",
       " ('denverbroncos.com', 356),\n",
       " ('theringer.com', 340),\n",
       " ('arsenal.com', 336),\n",
       " ('goal.com', 334),\n",
       " ('football.london', 320)]"
      ]
     },
     "execution_count": 55,
     "metadata": {},
     "output_type": "execute_result"
    }
   ],
   "source": [
    "Counter(mention_count).most_common(20)"
   ]
  },
  {
   "cell_type": "code",
   "execution_count": 56,
   "metadata": {},
   "outputs": [
    {
     "data": {
      "text/plain": [
       "7"
      ]
     },
     "execution_count": 56,
     "metadata": {},
     "output_type": "execute_result"
    }
   ],
   "source": [
    "news_ge10k = [m for m in mention_count if mention_count[m] >= 1000]\n",
    "len(news_ge10k)"
   ]
  },
  {
   "cell_type": "code",
   "execution_count": 57,
   "metadata": {},
   "outputs": [
    {
     "data": {
      "text/plain": [
       "<AxesSubplot:ylabel='Count'>"
      ]
     },
     "execution_count": 57,
     "metadata": {},
     "output_type": "execute_result"
    },
    {
     "data": {
      "image/png": "[encoded data removed]",
      "text/plain": [
       "<Figure size 432x288 with 1 Axes>"
      ]
     },
     "metadata": {},
     "output_type": "display_data"
    }
   ],
   "source": [
    "sns.histplot(list(mention_count.values()), log_scale=True)"
   ]
  },
  {
   "cell_type": "code",
   "execution_count": 58,
   "metadata": {},
   "outputs": [
    {
     "data": {
      "text/plain": [
       "<AxesSubplot:ylabel='Count'>"
      ]
     },
     "execution_count": 58,
     "metadata": {},
     "output_type": "execute_result"
    },
    {
     "data": {
      "image/png": "[encoded data removed]",
      "text/plain": [
       "<Figure size 432x288 with 1 Axes>"
      ]
     },
     "metadata": {},
     "output_type": "display_data"
    }
   ],
   "source": [
    "sns.histplot(list([k for k in mention_count.values() if k <100000]), log_scale=True)"
   ]
  },
  {
   "cell_type": "code",
   "execution_count": 59,
   "metadata": {},
   "outputs": [
    {
     "data": {
      "text/plain": [
       "63.71275783040489"
      ]
     },
     "execution_count": 59,
     "metadata": {},
     "output_type": "execute_result"
    }
   ],
   "source": [
    "len([k for k in mention_count.values() if k <5])*100/len(mention_count)"
   ]
  },
  {
   "cell_type": "code",
   "execution_count": 60,
   "metadata": {},
   "outputs": [
    {
     "data": {
      "text/plain": [
       "850.85"
      ]
     },
     "execution_count": 60,
     "metadata": {},
     "output_type": "execute_result"
    }
   ],
   "source": [
    "(1-0.35)*len(mention_count)"
   ]
  },
  {
   "cell_type": "markdown",
   "metadata": {},
   "source": [
    "## For each subreddit let's count how many news sources were mentioned in it"
   ]
  },
  {
   "cell_type": "markdown",
   "metadata": {},
   "source": [
    "Counting how many news sources were mentioned in each subreddit"
   ]
  },
  {
   "cell_type": "code",
   "execution_count": 61,
   "metadata": {},
   "outputs": [],
   "source": [
    "nsc_count = dict()\n",
    "for sr in sr_union:\n",
    "    nsc_count[sr] = len(set(subreddit_ns_jan.get(sr, dict()).keys()) \n",
    "                               | set(subreddit_ns_feb.get(sr, dict()).keys()) \n",
    "                               | set(subreddit_ns_march.get(sr, dict()).keys()) \n",
    "                               | set(subreddit_ns_april.get(sr, dict()).keys())\n",
    "                               | set(subreddit_ns_may.get(sr, dict()).keys()) \n",
    "                               | set(subreddit_ns_jun.get(sr, dict()).keys()))"
   ]
  },
  {
   "cell_type": "markdown",
   "metadata": {},
   "source": [
    "`nsc_count` stores how many news sources appear in each subreddit."
   ]
  },
  {
   "cell_type": "code",
   "execution_count": 62,
   "metadata": {},
   "outputs": [
    {
     "data": {
      "text/plain": [
       "0"
      ]
     },
     "execution_count": 62,
     "metadata": {},
     "output_type": "execute_result"
    }
   ],
   "source": [
    "len([k for k in nsc_count if nsc_count[k]<1])"
   ]
  },
  {
   "cell_type": "code",
   "execution_count": 63,
   "metadata": {},
   "outputs": [
    {
     "data": {
      "text/plain": [
       "{43: 3,\n",
       " 66: 3,\n",
       " 77: 3,\n",
       " 53: 3,\n",
       " 36: 3,\n",
       " 56: 3,\n",
       " 80: 3,\n",
       " 52: 2,\n",
       " 88: 2,\n",
       " 49: 2,\n",
       " 47: 2,\n",
       " 42: 2,\n",
       " 96: 2,\n",
       " 40: 2,\n",
       " 54: 2,\n",
       " 81: 2,\n",
       " 60: 2,\n",
       " 38: 2,\n",
       " 98: 2,\n",
       " 39: 2,\n",
       " 65: 1,\n",
       " 31: 1,\n",
       " 71: 1,\n",
       " 62: 1,\n",
       " 136: 1,\n",
       " 82: 1,\n",
       " 188: 1,\n",
       " 83: 1,\n",
       " 76: 1,\n",
       " 61: 1,\n",
       " 226: 1,\n",
       " 94: 1,\n",
       " 153: 1,\n",
       " 63: 1,\n",
       " 141: 1,\n",
       " 67: 1,\n",
       " 108: 1,\n",
       " 22: 1,\n",
       " 35: 1,\n",
       " 14: 1,\n",
       " 48: 1,\n",
       " 104: 1,\n",
       " 97: 1,\n",
       " 7: 1,\n",
       " 9: 1,\n",
       " 95: 1,\n",
       " 75: 1}"
      ]
     },
     "execution_count": 63,
     "metadata": {},
     "output_type": "execute_result"
    }
   ],
   "source": [
    "nsc_count_freq = dict(Counter(nsc_count.values()).most_common())\n",
    "nsc_count_freq"
   ]
  },
  {
   "cell_type": "markdown",
   "metadata": {},
   "source": [
    "`nsc_count_freq` keeps track of how many news sources appear in *n* subreddits for all possible *n*."
   ]
  },
  {
   "cell_type": "code",
   "execution_count": 64,
   "metadata": {},
   "outputs": [
    {
     "data": {
      "text/plain": [
       "226"
      ]
     },
     "execution_count": 64,
     "metadata": {},
     "output_type": "execute_result"
    }
   ],
   "source": [
    "max(nsc_count_freq.keys())"
   ]
  },
  {
   "cell_type": "code",
   "execution_count": 65,
   "metadata": {},
   "outputs": [
    {
     "name": "stdout",
     "output_type": "stream",
     "text": [
      "Gunners has 226 news sources mentioned in it.\n",
      "reddevils has 188 news sources mentioned in it.\n",
      "coys has 153 news sources mentioned in it.\n",
      "LiverpoolFC has 141 news sources mentioned in it.\n",
      "chelseafc has 136 news sources mentioned in it.\n",
      "lakers has 108 news sources mentioned in it.\n",
      "buccaneers has 104 news sources mentioned in it.\n",
      "CHIBears has 98 news sources mentioned in it.\n",
      "bostonceltics has 98 news sources mentioned in it.\n",
      "Patriots has 97 news sources mentioned in it.\n",
      "GreenBayPackers has 96 news sources mentioned in it.\n",
      "detroitlions has 96 news sources mentioned in it.\n",
      "torontoraptors has 95 news sources mentioned in it.\n",
      "buffalobills has 94 news sources mentioned in it.\n",
      "DenverBroncos has 88 news sources mentioned in it.\n",
      "MCFC has 88 news sources mentioned in it.\n",
      "nyjets has 83 news sources mentioned in it.\n",
      "Seahawks has 82 news sources mentioned in it.\n",
      "eagles has 81 news sources mentioned in it.\n",
      "Browns has 81 news sources mentioned in it.\n",
      "NYKnicks has 80 news sources mentioned in it.\n",
      "49ers has 80 news sources mentioned in it.\n",
      "warriors has 80 news sources mentioned in it.\n"
     ]
    }
   ],
   "source": [
    "nsc_ranked = Counter(nsc_count).most_common()\n",
    "\n",
    "for t in nsc_ranked:\n",
    "    sr, co = t\n",
    "    if co >= 80:\n",
    "        print(f\"{sr} has {co} news sources mentioned in it.\")"
   ]
  },
  {
   "cell_type": "code",
   "execution_count": 66,
   "metadata": {},
   "outputs": [
    {
     "data": {
      "text/plain": [
       "True"
      ]
     },
     "execution_count": 66,
     "metadata": {},
     "output_type": "execute_result"
    }
   ],
   "source": [
    "sum(nsc_count_freq.values()) == len(sr_union)"
   ]
  },
  {
   "cell_type": "code",
   "execution_count": 67,
   "metadata": {},
   "outputs": [],
   "source": [
    "import itertools"
   ]
  },
  {
   "cell_type": "code",
   "execution_count": 68,
   "metadata": {},
   "outputs": [],
   "source": [
    "nsc = list(itertools.chain.from_iterable(itertools.repeat(k,v) for k,v in nsc_count_freq.items()))"
   ]
  },
  {
   "cell_type": "code",
   "execution_count": 69,
   "metadata": {
    "scrolled": true
   },
   "outputs": [
    {
     "data": {
      "text/plain": [
       "Text(0.5, 1.0, 'number of subreddits with x news sources')"
      ]
     },
     "execution_count": 69,
     "metadata": {},
     "output_type": "execute_result"
    },
    {
     "data": {
      "image/png": "[encoded data removed]",
      "text/plain": [
       "<Figure size 432x288 with 1 Axes>"
      ]
     },
     "metadata": {},
     "output_type": "display_data"
    }
   ],
   "source": [
    "sns.histplot(nsc, log_scale=True)\n",
    "plt.xlabel(\"number of news source\")\n",
    "plt.ylabel(\"subreddit count\")\n",
    "plt.title(\"number of subreddits with x news sources\")"
   ]
  },
  {
   "cell_type": "code",
   "execution_count": 70,
   "metadata": {},
   "outputs": [
    {
     "data": {
      "text/plain": [
       "71"
      ]
     },
     "execution_count": 70,
     "metadata": {},
     "output_type": "execute_result"
    }
   ],
   "source": [
    "len([n for n in nsc if n>=20])"
   ]
  },
  {
   "cell_type": "markdown",
   "metadata": {},
   "source": [
    "How many subreddits only mentioned 5 news sources or less?"
   ]
  },
  {
   "cell_type": "code",
   "execution_count": 71,
   "metadata": {},
   "outputs": [],
   "source": [
    "def pct_subreddits_mentioning_k_newssources(ks):\n",
    "    sr_mention_i_nsc = [k for k in nsc_count if nsc_count[k] <= ks]\n",
    "    count = len(sr_mention_i_nsc)\n",
    "    print(\"There are {} subreddits mentioning in only {} news sources or less ({}%)\".format(count, ks, count/len(sr_union)))\n",
    "    return count/len(sr_union)"
   ]
  },
  {
   "cell_type": "code",
   "execution_count": 74,
   "metadata": {},
   "outputs": [
    {
     "name": "stdout",
     "output_type": "stream",
     "text": [
      "There are 3 subreddits mentioning in only 20 news sources or less (0.04054054054054054%)\n"
     ]
    },
    {
     "data": {
      "text/plain": [
       "0.04054054054054054"
      ]
     },
     "execution_count": 74,
     "metadata": {},
     "output_type": "execute_result"
    }
   ],
   "source": [
    "pct_subreddits_mentioning_k_newssources(20)"
   ]
  },
  {
   "cell_type": "code",
   "execution_count": 75,
   "metadata": {
    "scrolled": true
   },
   "outputs": [
    {
     "data": {
      "text/plain": [
       "67.75675675675676"
      ]
     },
     "execution_count": 75,
     "metadata": {},
     "output_type": "execute_result"
    }
   ],
   "source": [
    "# mean\n",
    "statistics.mean(nsc)"
   ]
  },
  {
   "cell_type": "code",
   "execution_count": 76,
   "metadata": {},
   "outputs": [
    {
     "data": {
      "text/plain": [
       "60.5"
      ]
     },
     "execution_count": 76,
     "metadata": {},
     "output_type": "execute_result"
    }
   ],
   "source": [
    "# median\n",
    "statistics.median(nsc)"
   ]
  },
  {
   "cell_type": "markdown",
   "metadata": {},
   "source": [
    "## For each subreddit let's count total submissions that are news source related"
   ]
  },
  {
   "cell_type": "code",
   "execution_count": 77,
   "metadata": {},
   "outputs": [],
   "source": [
    "def get_submission_count(sb):\n",
    "    \"\"\"get total mention count of ns in all six months\"\"\"\n",
    "    count = 0\n",
    "    files = [subreddit_ns_jan, subreddit_ns_feb, subreddit_ns_march, subreddit_ns_april, subreddit_ns_may, subreddit_ns_jun]\n",
    "    for f in files:\n",
    "        sb_dict = f.get(sb, dict())\n",
    "        if len(sb_dict) > 0:\n",
    "            mentions = sum([m[0] for m in sb_dict.values()])\n",
    "            count += mentions\n",
    "    return count"
   ]
  },
  {
   "cell_type": "code",
   "execution_count": 78,
   "metadata": {},
   "outputs": [],
   "source": [
    "mention_count = dict()\n",
    "for sb in sr_union:\n",
    "    mention_count[sb] = get_submission_count(sb)"
   ]
  },
  {
   "cell_type": "code",
   "execution_count": 79,
   "metadata": {
    "scrolled": true
   },
   "outputs": [
    {
     "data": {
      "text/plain": [
       "530.5675675675676"
      ]
     },
     "execution_count": 79,
     "metadata": {},
     "output_type": "execute_result"
    }
   ],
   "source": [
    "statistics.mean(mention_count.values())"
   ]
  },
  {
   "cell_type": "code",
   "execution_count": 80,
   "metadata": {},
   "outputs": [
    {
     "data": {
      "text/plain": [
       "398.77652206488614"
      ]
     },
     "execution_count": 80,
     "metadata": {},
     "output_type": "execute_result"
    }
   ],
   "source": [
    "statistics.stdev(mention_count.values())"
   ]
  },
  {
   "cell_type": "code",
   "execution_count": 81,
   "metadata": {},
   "outputs": [
    {
     "data": {
      "text/plain": [
       "436.5"
      ]
     },
     "execution_count": 81,
     "metadata": {},
     "output_type": "execute_result"
    }
   ],
   "source": [
    "statistics.median(mention_count.values())"
   ]
  },
  {
   "cell_type": "code",
   "execution_count": 82,
   "metadata": {
    "scrolled": true
   },
   "outputs": [
    {
     "data": {
      "text/plain": [
       "74"
      ]
     },
     "execution_count": 82,
     "metadata": {},
     "output_type": "execute_result"
    }
   ],
   "source": [
    "len(mention_count)"
   ]
  },
  {
   "cell_type": "code",
   "execution_count": 83,
   "metadata": {},
   "outputs": [
    {
     "data": {
      "text/plain": [
       "[('reddevils', 1991),\n",
       " ('Gunners', 1974),\n",
       " ('MkeBucks', 1331),\n",
       " ('NYKnicks', 1290),\n",
       " ('warriors', 1279),\n",
       " ('DenverBroncos', 1271),\n",
       " ('chelseafc', 1127),\n",
       " ('torontoraptors', 1075),\n",
       " ('denvernuggets', 1033),\n",
       " ('coys', 1007),\n",
       " ('Patriots', 840),\n",
       " ('49ers', 827),\n",
       " ('LiverpoolFC', 811),\n",
       " ('detroitlions', 766),\n",
       " ('CHIBears', 724),\n",
       " ('eagles', 704),\n",
       " ('GreenBayPackers', 698),\n",
       " ('Seahawks', 692),\n",
       " ('bostonceltics', 681),\n",
       " ('suns', 663)]"
      ]
     },
     "execution_count": 83,
     "metadata": {},
     "output_type": "execute_result"
    }
   ],
   "source": [
    "Counter(mention_count).most_common(20)"
   ]
  },
  {
   "cell_type": "code",
   "execution_count": 84,
   "metadata": {},
   "outputs": [
    {
     "data": {
      "text/plain": [
       "{'steelers': [1, 1.0, 1]}"
      ]
     },
     "execution_count": 84,
     "metadata": {},
     "output_type": "execute_result"
    }
   ],
   "source": [
    "ns_subreddit_01['cbc.ca']"
   ]
  },
  {
   "cell_type": "code",
   "execution_count": 85,
   "metadata": {},
   "outputs": [
    {
     "data": {
      "text/plain": [
       "<AxesSubplot:ylabel='Count'>"
      ]
     },
     "execution_count": 85,
     "metadata": {},
     "output_type": "execute_result"
    },
    {
     "data": {
      "image/png": "[encoded data removed]",
      "text/plain": [
       "<Figure size 432x288 with 1 Axes>"
      ]
     },
     "metadata": {},
     "output_type": "display_data"
    }
   ],
   "source": [
    "sns.histplot(list(mention_count.values()), log_scale=True)"
   ]
  },
  {
   "cell_type": "code",
   "execution_count": 86,
   "metadata": {},
   "outputs": [
    {
     "data": {
      "text/plain": [
       "0.0"
      ]
     },
     "execution_count": 86,
     "metadata": {},
     "output_type": "execute_result"
    }
   ],
   "source": [
    "len([k for k in mention_count.values() if k <5])*100/len(mention_count)"
   ]
  },
  {
   "cell_type": "code",
   "execution_count": 87,
   "metadata": {},
   "outputs": [
    {
     "data": {
      "text/plain": [
       "48.1"
      ]
     },
     "execution_count": 87,
     "metadata": {},
     "output_type": "execute_result"
    }
   ],
   "source": [
    "(1-0.35)*len(mention_count)"
   ]
  },
  {
   "cell_type": "markdown",
   "metadata": {},
   "source": [
    "## upvote based weight vs comment based weight \n",
    "\n",
    "Do they have correlation?"
   ]
  },
  {
   "cell_type": "markdown",
   "metadata": {},
   "source": [
    "Let's look at January's data"
   ]
  },
  {
   "cell_type": "code",
   "execution_count": 88,
   "metadata": {},
   "outputs": [],
   "source": [
    "upvote_based = [ns_subreddit_01[ns][sr][1] for ns in ns_subreddit_01 for sr in ns_subreddit_01[ns]]\n",
    "comment_based = [ns_subreddit_01[ns][sr][2] for ns in ns_subreddit_01 for sr in ns_subreddit_01[ns]]\n",
    "unweighted = [ns_subreddit_01[ns][sr][0] for ns in ns_subreddit_01 for sr in ns_subreddit_01[ns]]"
   ]
  },
  {
   "cell_type": "code",
   "execution_count": 89,
   "metadata": {},
   "outputs": [
    {
     "data": {
      "text/plain": [
       "Text(0, 0.5, 'upvote_based')"
      ]
     },
     "execution_count": 89,
     "metadata": {},
     "output_type": "execute_result"
    },
    {
     "data": {
      "image/png": "[encoded data removed]",
      "text/plain": [
       "<Figure size 432x288 with 1 Axes>"
      ]
     },
     "metadata": {},
     "output_type": "display_data"
    }
   ],
   "source": [
    "sns.scatterplot(x=comment_based, y=upvote_based, alpha=0.5)\n",
    "plt.xlabel(\"comment_based\")\n",
    "plt.ylabel(\"upvote_based\")\n",
    "# plt.xlim([-100000,4000000])\n",
    "# plt.ylim([-5000,150000])"
   ]
  },
  {
   "cell_type": "code",
   "execution_count": 90,
   "metadata": {},
   "outputs": [
    {
     "data": {
      "text/plain": [
       "Text(0, 0.5, 'upvote_based')"
      ]
     },
     "execution_count": 90,
     "metadata": {},
     "output_type": "execute_result"
    },
    {
     "data": {
      "image/png": "[encoded data removed]",
      "text/plain": [
       "<Figure size 432x288 with 1 Axes>"
      ]
     },
     "metadata": {},
     "output_type": "display_data"
    }
   ],
   "source": [
    "a = sns.scatterplot(x=np.log(np.array([c+1 for c in comment_based])), y=np.log(np.array([u+1 for u in upvote_based])), alpha=0.2)\n",
    "plt.xlabel(\"comment_based\")\n",
    "plt.ylabel(\"upvote_based\")"
   ]
  },
  {
   "cell_type": "code",
   "execution_count": 91,
   "metadata": {},
   "outputs": [],
   "source": [
    "from scipy.stats import pearsonr"
   ]
  },
  {
   "cell_type": "code",
   "execution_count": 92,
   "metadata": {},
   "outputs": [
    {
     "data": {
      "text/plain": [
       "0.723562109334741"
      ]
     },
     "execution_count": 92,
     "metadata": {},
     "output_type": "execute_result"
    }
   ],
   "source": [
    "corr, _ = pearsonr(np.log(np.array([c+1 for c in comment_based])), np.log(np.array([u+1 for u in upvote_based])))\n",
    "corr"
   ]
  },
  {
   "cell_type": "code",
   "execution_count": 93,
   "metadata": {},
   "outputs": [
    {
     "data": {
      "text/plain": [
       "0.7516934782027432"
      ]
     },
     "execution_count": 93,
     "metadata": {},
     "output_type": "execute_result"
    }
   ],
   "source": [
    "corr_raw, _ = pearsonr(comment_based, upvote_based)\n",
    "corr_raw"
   ]
  },
  {
   "cell_type": "code",
   "execution_count": 107,
   "metadata": {},
   "outputs": [
    {
     "data": {
      "text/plain": [
       "85"
      ]
     },
     "execution_count": 107,
     "metadata": {},
     "output_type": "execute_result"
    }
   ],
   "source": [
    "non_outlier = [n for n in ns_union if subreddit_count[n]>10]\n",
    "len(non_outlier)"
   ]
  },
  {
   "cell_type": "markdown",
   "metadata": {},
   "source": [
    "## Cluster Try Out"
   ]
  },
  {
   "cell_type": "markdown",
   "metadata": {},
   "source": [
    "First, I make a list of subreddits with fixed order, where I only include subreddits where our non_outlier news sources are mentioned in."
   ]
  },
  {
   "cell_type": "code",
   "execution_count": 108,
   "metadata": {},
   "outputs": [
    {
     "data": {
      "text/plain": [
       "85"
      ]
     },
     "execution_count": 108,
     "metadata": {},
     "output_type": "execute_result"
    }
   ],
   "source": [
    "len(non_outlier)"
   ]
  },
  {
   "cell_type": "code",
   "execution_count": 109,
   "metadata": {
    "scrolled": true
   },
   "outputs": [
    {
     "data": {
      "text/plain": [
       "67"
      ]
     },
     "execution_count": 109,
     "metadata": {},
     "output_type": "execute_result"
    }
   ],
   "source": [
    "# subreddits = subs\n",
    "subreddits = set()\n",
    "nsr_files = [ns_subreddit_01, ns_subreddit_02, ns_subreddit_03, ns_subreddit_04, ns_subreddit_05, ns_subreddit_06]\n",
    "# first, I filter for only the subreddits in which our news sources are mentioned\n",
    "c = 0\n",
    "for n in non_outlier:\n",
    "    subreddits = (subreddits | (set(ns_subreddit_01.get(n, dict()).keys()) \n",
    "                               & set(ns_subreddit_02.get(n, dict()).keys()) \n",
    "                               & set(ns_subreddit_03.get(n, dict()).keys()) \n",
    "                               & set(ns_subreddit_04.get(n, dict()).keys())\n",
    "                               & set(ns_subreddit_05.get(n, dict()).keys()) \n",
    "                               & set(ns_subreddit_06.get(n, dict()).keys())))\n",
    "    c += 1\n",
    "    if c%100==0: print(f\"done {c}\")\n",
    "subreddits = list(subreddits)\n",
    "len(subreddits)"
   ]
  },
  {
   "cell_type": "markdown",
   "metadata": {},
   "source": [
    "There are 9195 subreddits."
   ]
  },
  {
   "cell_type": "code",
   "execution_count": 110,
   "metadata": {},
   "outputs": [
    {
     "data": {
      "text/plain": [
       "['Saints',\n",
       " 'AtlantaHawks',\n",
       " 'CharlotteHornets',\n",
       " 'DetroitPistons',\n",
       " 'Thunder',\n",
       " 'bostonceltics',\n",
       " 'torontoraptors',\n",
       " 'ravens',\n",
       " 'Jaguars',\n",
       " 'pacers']"
      ]
     },
     "execution_count": 110,
     "metadata": {},
     "output_type": "execute_result"
    }
   ],
   "source": [
    "subreddits[-10:]"
   ]
  },
  {
   "cell_type": "markdown",
   "metadata": {},
   "source": [
    "If I should order them later, I can do so."
   ]
  },
  {
   "cell_type": "markdown",
   "metadata": {},
   "source": [
    "## Incorporating subscribers information"
   ]
  },
  {
   "cell_type": "code",
   "execution_count": 111,
   "metadata": {},
   "outputs": [],
   "source": [
    "pd1 = os.path.split(os.getcwd())[0]\n",
    "data_fp = os.path.join(pd1,\"data/gm-newssources-subreddits\")\n",
    "dfp = os.path.join(pd1,\"data\")"
   ]
  },
  {
   "cell_type": "code",
   "execution_count": 112,
   "metadata": {},
   "outputs": [],
   "source": [
    "sfp = os.path.join(pd1,\"data/subreddits\")"
   ]
  },
  {
   "cell_type": "code",
   "execution_count": 113,
   "metadata": {},
   "outputs": [],
   "source": [
    "# Let's only use the subreddits that have lots of subscribers\n",
    "with open (os.path.join(sfp,\"subreddit_subscribers.json\"), \"r\", encoding = \"utf-8\") as infile:\n",
    "    subreddit_subscribers = json.load(infile)"
   ]
  },
  {
   "cell_type": "code",
   "execution_count": 114,
   "metadata": {},
   "outputs": [
    {
     "data": {
      "text/plain": [
       "6201779"
      ]
     },
     "execution_count": 114,
     "metadata": {},
     "output_type": "execute_result"
    }
   ],
   "source": [
    "subreddit_subscribers['politics']"
   ]
  },
  {
   "cell_type": "code",
   "execution_count": 115,
   "metadata": {},
   "outputs": [
    {
     "data": {
      "text/plain": [
       "49055"
      ]
     },
     "execution_count": 115,
     "metadata": {},
     "output_type": "execute_result"
    }
   ],
   "source": [
    "len(subreddit_subscribers)"
   ]
  },
  {
   "cell_type": "code",
   "execution_count": 116,
   "metadata": {},
   "outputs": [
    {
     "data": {
      "text/plain": [
       "67"
      ]
     },
     "execution_count": 116,
     "metadata": {},
     "output_type": "execute_result"
    }
   ],
   "source": [
    "len(subreddits)"
   ]
  },
  {
   "cell_type": "code",
   "execution_count": 117,
   "metadata": {
    "scrolled": true
   },
   "outputs": [
    {
     "data": {
      "text/plain": [
       "67"
      ]
     },
     "execution_count": 117,
     "metadata": {},
     "output_type": "execute_result"
    }
   ],
   "source": [
    "subreddits_w_subc = [k for k in subreddits if k in subreddit_subscribers]\n",
    "len(subreddits_w_subc)"
   ]
  },
  {
   "cell_type": "markdown",
   "metadata": {},
   "source": [
    "It seems that there are `None` values, so let's filter those subreddits out."
   ]
  },
  {
   "cell_type": "code",
   "execution_count": 118,
   "metadata": {},
   "outputs": [
    {
     "name": "stdout",
     "output_type": "stream",
     "text": [
      "[]\n"
     ]
    }
   ],
   "source": [
    "print([s for s in subreddits_w_subc if subreddit_subscribers[s] is None])"
   ]
  },
  {
   "cell_type": "code",
   "execution_count": 119,
   "metadata": {},
   "outputs": [],
   "source": [
    "subreddits_w_subc = [s for s in subreddits_w_subc if subreddit_subscribers[s] is not None]"
   ]
  },
  {
   "cell_type": "code",
   "execution_count": 120,
   "metadata": {},
   "outputs": [
    {
     "data": {
      "text/plain": [
       "67"
      ]
     },
     "execution_count": 120,
     "metadata": {},
     "output_type": "execute_result"
    }
   ],
   "source": [
    "len(subreddits_w_subc)"
   ]
  },
  {
   "cell_type": "markdown",
   "metadata": {},
   "source": [
    "Now, I will sort the 8,294 subreddits based on the # of their subscribers in a descending order."
   ]
  },
  {
   "cell_type": "code",
   "execution_count": 121,
   "metadata": {},
   "outputs": [],
   "source": [
    "srs_all = sorted(subreddits_w_subc, key= lambda x: subreddit_subscribers[x], reverse= True)"
   ]
  },
  {
   "cell_type": "code",
   "execution_count": 122,
   "metadata": {
    "scrolled": false
   },
   "outputs": [
    {
     "data": {
      "text/plain": [
       "Text(0.5, 1.0, 'Subreddits Subscribers')"
      ]
     },
     "execution_count": 122,
     "metadata": {},
     "output_type": "execute_result"
    },
    {
     "data": {
      "image/png": "[encoded data removed]",
      "text/plain": [
       "<Figure size 432x288 with 1 Axes>"
      ]
     },
     "metadata": {},
     "output_type": "display_data"
    }
   ],
   "source": [
    "# plt.hist([math.log(subreddit_subscribers[s],10) for s in srs_all if subreddit_subscribers[s] > 0])\n",
    "sns.histplot([subreddit_subscribers[s] for s in srs_all if subreddit_subscribers[s]>0], log_scale=True)\n",
    "# plt.hist([subreddit_subscribers[s] for s in srs_all if subreddit_subscribers[s] > 0])\n",
    "# plt.yscale(\"log\")\n",
    "# plt.xscale(\"log\")\n",
    "plt.ylabel(\"number of subreddits\")\n",
    "plt.xlabel(\"number of subscribers (10^)\")\n",
    "plt.title(\"Subreddits Subscribers\")\n",
    "# log scale for both x and y"
   ]
  },
  {
   "cell_type": "markdown",
   "metadata": {},
   "source": [
    "Which subreddits are the top three?"
   ]
  },
  {
   "cell_type": "code",
   "execution_count": 123,
   "metadata": {},
   "outputs": [
    {
     "name": "stdout",
     "output_type": "stream",
     "text": [
      "[('Patriots', 535250), ('LosAngelesRams', 387495), ('warriors', 265568), ('LiverpoolFC', 250977), ('reddevils', 240096), ('lakers', 239106), ('torontoraptors', 229126), ('bostonceltics', 207371), ('eagles', 199979), ('chelseafc', 176842), ('Gunners', 162044), ('GreenBayPackers', 157249), ('sixers', 149868), ('cowboys', 133201), ('rockets', 128870), ('chicagobulls', 126536), ('steelers', 115849), ('49ers', 110980), ('NYKnicks', 110101), ('minnesotavikings', 107310), ('Seahawks', 104920), ('MkeBucks', 102969), ('GoNets', 102496), ('Mavericks', 101968), ('CHIBears', 99668), ('Thunder', 96946), ('AtlantaHawks', 96345), ('falcons', 95529), ('KansasCityChiefs', 93204), ('ravens', 90432), ('NBASpurs', 90311), ('timberwolves', 85685), ('Browns', 84275), ('denvernuggets', 82369), ('washingtonwizards', 80246), ('suns', 79819), ('UtahJazz', 79381), ('DenverBroncos', 78960), ('LAClippers', 78619), ('kings', 78406), ('detroitlions', 78160), ('NYGiants', 75984), ('pacers', 71666), ('DetroitPistons', 71330), ('NOLAPelicans', 71292), ('coys', 68733), ('memphisgrizzlies', 67907), ('Saints', 67511), ('MCFC', 67281), ('miamidolphins', 65440), ('CharlotteHornets', 65199), ('buffalobills', 63978), ('bengals', 63650), ('nyjets', 63602), ('panthers', 62618), ('buccaneers', 60592), ('clevelandcavs', 58327), ('Texans', 56252), ('Colts', 53095), ('AZCardinals', 49764), ('heat', 48263), ('Tennesseetitans', 47197), ('Chargers', 46509), ('Jaguars', 46249), ('Everton', 21052)]\n"
     ]
    }
   ],
   "source": [
    "print([(s,subreddit_subscribers[s]) for s in srs_all if subreddit_subscribers[s]>10000])"
   ]
  },
  {
   "cell_type": "code",
   "execution_count": 124,
   "metadata": {},
   "outputs": [
    {
     "data": {
      "text/plain": [
       "25"
      ]
     },
     "execution_count": 124,
     "metadata": {},
     "output_type": "execute_result"
    }
   ],
   "source": [
    "list(subreddit_subscribers.values()).count(None)"
   ]
  },
  {
   "cell_type": "code",
   "execution_count": 125,
   "metadata": {},
   "outputs": [
    {
     "data": {
      "text/plain": [
       "1420.0"
      ]
     },
     "execution_count": 125,
     "metadata": {},
     "output_type": "execute_result"
    }
   ],
   "source": [
    "statistics.median([k for k in list(subreddit_subscribers.values()) if k is not None])"
   ]
  },
  {
   "cell_type": "code",
   "execution_count": 126,
   "metadata": {},
   "outputs": [
    {
     "data": {
      "text/plain": [
       "50070.832184376915"
      ]
     },
     "execution_count": 126,
     "metadata": {},
     "output_type": "execute_result"
    }
   ],
   "source": [
    "statistics.mean([k for k in list(subreddit_subscribers.values()) if k is not None])"
   ]
  },
  {
   "cell_type": "markdown",
   "metadata": {},
   "source": [
    "## Building `ns_repr`\n",
    "\n",
    "Which will be in the form of feature-based matrix, where each row represents a news source, and columns representing subreddits. \n",
    "\n",
    "Idea 1: Each subreddit will be represented by 18 columns: unweighted count, upvote based weighted count, and comment based weighted count for each of the six months that we are interested in. THIS does not work.\n",
    "\n",
    "Idea 2: Each subreddit will be represented by 3 columns: average unweighted count, average upvote based weighted count, and average comment based weighted count."
   ]
  },
  {
   "cell_type": "code",
   "execution_count": 127,
   "metadata": {},
   "outputs": [],
   "source": [
    "srs = srs_all"
   ]
  },
  {
   "cell_type": "code",
   "execution_count": 128,
   "metadata": {},
   "outputs": [
    {
     "data": {
      "text/plain": [
       "{'a': 1, 'b': 1, 'c': 2}"
      ]
     },
     "execution_count": 128,
     "metadata": {},
     "output_type": "execute_result"
    }
   ],
   "source": [
    "a = {\"a\": 1, \"b\": 2}\n",
    "b = {\"b\": 1, \"c\": 2}\n",
    "res = {**a, **b}\n",
    "res"
   ]
  },
  {
   "cell_type": "markdown",
   "metadata": {},
   "source": [
    "Idea 1: For each news source, I create a list of length `(18 * # subreddits)`.\n",
    "\n",
    "Idea 1: For each news source, I create a list of length `(3 * # subreddits)`"
   ]
  },
  {
   "cell_type": "markdown",
   "metadata": {},
   "source": [
    "Old code\n",
    "```\n",
    "# here I will cast the inner dictionaries of ns_subreddits to be Counter so I can avoid a lot of if-else statements\n",
    "files = [ns_subreddit_01, ns_subreddit_02, ns_subreddit_03, ns_subreddit_04, ns_subreddit_05, ns_subreddit_06]\n",
    "for f in files:\n",
    "    for k in f: # k is each news source\n",
    "        for ns in f[k]:\n",
    "            # averaging based on weighted counts\n",
    "            count, upv, comm = f[k][ns]\n",
    "            avg = (upv + comm)/count\n",
    "            f[k][ns] = avg\n",
    "        f[k] = Counter(f[k])\n",
    "```"
   ]
  },
  {
   "cell_type": "code",
   "execution_count": 129,
   "metadata": {},
   "outputs": [],
   "source": [
    "files_sub = [subreddit_ns_jan, subreddit_ns_feb, subreddit_ns_march, subreddit_ns_april, subreddit_ns_may, subreddit_ns_jun]\n",
    "files_ns = [ns_subreddit_01, ns_subreddit_02, ns_subreddit_03, ns_subreddit_04, ns_subreddit_05, ns_subreddit_06]"
   ]
  },
  {
   "cell_type": "code",
   "execution_count": 130,
   "metadata": {},
   "outputs": [
    {
     "data": {
      "text/plain": [
       "85"
      ]
     },
     "execution_count": 130,
     "metadata": {},
     "output_type": "execute_result"
    }
   ],
   "source": [
    "len(non_outlier)"
   ]
  },
  {
   "cell_type": "code",
   "execution_count": 131,
   "metadata": {},
   "outputs": [
    {
     "data": {
      "text/plain": [
       "67"
      ]
     },
     "execution_count": 131,
     "metadata": {},
     "output_type": "execute_result"
    }
   ],
   "source": [
    "len(srs)"
   ]
  },
  {
   "cell_type": "markdown",
   "metadata": {},
   "source": [
    "I tried and found out that using all 23.7k subreddits results in MemoryError. So I should use less"
   ]
  },
  {
   "cell_type": "code",
   "execution_count": 132,
   "metadata": {},
   "outputs": [],
   "source": [
    "srs = srs_all"
   ]
  },
  {
   "cell_type": "markdown",
   "metadata": {
    "scrolled": true
   },
   "source": [
    "For idea 1:\n",
    "\n",
    "```\n",
    "ns_sr_rep = defaultdict(list)\n",
    "default_counter = Counter() # to avoid a lot of if else statements\n",
    "\n",
    "ncount = 0\n",
    "\n",
    "# for ns in nss:\n",
    "for ns in non_outlier:\n",
    "    # for each news sources, construct the 18*length(subreddits) features\n",
    "    for f in files_sub:\n",
    "        for idx in range(len(srs)):\n",
    "            # making sure the ordering follows `srs` based on subscribers\n",
    "            ns_sr_rep[ns] += f[ns][srs[idx]][1:] if (ns in f and srs[idx] in f[ns]) else [0, 0]\n",
    "    ncount += 1\n",
    "    if ncount%200==0: print(ncount)\n",
    "```"
   ]
  },
  {
   "cell_type": "code",
   "execution_count": 133,
   "metadata": {},
   "outputs": [],
   "source": [
    "# For idea 2\n",
    "\n",
    "ns_sr_rep = defaultdict(list)\n",
    "default_counter = Counter() # to avoid a lot of if else statements\n",
    "\n",
    "ncount = 0\n",
    "\n",
    "# for ns in nss:\n",
    "for ns in non_outlier:\n",
    "    # for each news sources, construct the length(subreddits) features\n",
    "    for idx in range(len(srs)):\n",
    "        # making sure the ordering follows `srs` based on subscribers\n",
    "        current_sr = srs[idx]\n",
    "        # avg_unweighted_counts = sum([ii[current_sr][ns][0] if current_sr in ii and ns in ii[current_sr] else 0 for ii in files_sub])/6\n",
    "        avg_votebased_counts = sum([ii[current_sr][ns][1] if (current_sr in ii and ns in ii[current_sr]) else 0 for ii in files_sub])/6\n",
    "        avg_commentbased_counts = sum([ii[current_sr][ns][2] if current_sr in ii and ns in ii[current_sr] else 0 for ii in files_sub])/6\n",
    "        ns_sr_rep[ns] += [avg_votebased_counts, avg_commentbased_counts]\n",
    "    ncount += 1\n",
    "    if ncount%200==0: print(ncount)"
   ]
  },
  {
   "cell_type": "code",
   "execution_count": 134,
   "metadata": {},
   "outputs": [
    {
     "data": {
      "text/plain": [
       "67"
      ]
     },
     "execution_count": 134,
     "metadata": {},
     "output_type": "execute_result"
    }
   ],
   "source": [
    "len(srs)"
   ]
  },
  {
   "cell_type": "code",
   "execution_count": 135,
   "metadata": {},
   "outputs": [
    {
     "data": {
      "text/plain": [
       "85"
      ]
     },
     "execution_count": 135,
     "metadata": {},
     "output_type": "execute_result"
    }
   ],
   "source": [
    "len(non_outlier)"
   ]
  },
  {
   "cell_type": "markdown",
   "metadata": {},
   "source": [
    "    code started at 22:56"
   ]
  },
  {
   "cell_type": "markdown",
   "metadata": {},
   "source": [
    "Let's see one example of representation for `nytimes.com`."
   ]
  },
  {
   "cell_type": "code",
   "execution_count": 136,
   "metadata": {},
   "outputs": [
    {
     "data": {
      "text/plain": [
       "[0.0,\n",
       " 0.0,\n",
       " 0.0,\n",
       " 0.0,\n",
       " 0.0,\n",
       " 0.0,\n",
       " 6.2200000000000015,\n",
       " 128.0,\n",
       " 14.876666666666667,\n",
       " 668.3333333333334,\n",
       " 0.0,\n",
       " 0.0,\n",
       " 0.0,\n",
       " 0.0,\n",
       " 0.0,\n",
       " 0.0,\n",
       " 0.0,\n",
       " 0.0,\n",
       " 5.345,\n",
       " 549.1666666666666,\n",
       " 7.181666666666668,\n",
       " 324.1666666666667,\n",
       " 0.0,\n",
       " 0.0,\n",
       " 0.0,\n",
       " 0.0,\n",
       " 0.0,\n",
       " 0.0,\n",
       " 0.0,\n",
       " 0.0,\n",
       " 0.0,\n",
       " 0.0,\n",
       " 0.0,\n",
       " 0.0,\n",
       " 0.16,\n",
       " 3.0,\n",
       " 0.0,\n",
       " 0.0,\n",
       " 0.0,\n",
       " 0.0,\n",
       " 0.0,\n",
       " 0.0,\n",
       " 0.0,\n",
       " 0.0,\n",
       " 0.0,\n",
       " 0.0,\n",
       " 0.0,\n",
       " 0.0,\n",
       " 0.0,\n",
       " 0.0,\n",
       " 0.0,\n",
       " 0.0,\n",
       " 0.0,\n",
       " 0.0,\n",
       " 0.0,\n",
       " 0.0,\n",
       " 0.0,\n",
       " 0.0,\n",
       " 0.0,\n",
       " 0.0,\n",
       " 0.0,\n",
       " 0.0,\n",
       " 0.0,\n",
       " 0.0,\n",
       " 0.0,\n",
       " 0.0,\n",
       " 0.0,\n",
       " 0.0,\n",
       " 0.0,\n",
       " 0.0,\n",
       " 0.0,\n",
       " 0.0,\n",
       " 0.0,\n",
       " 0.0,\n",
       " 0.0,\n",
       " 0.0,\n",
       " 0.0,\n",
       " 0.0,\n",
       " 0.0,\n",
       " 0.0,\n",
       " 0.0,\n",
       " 0.0,\n",
       " 0.0,\n",
       " 0.0,\n",
       " 0.0,\n",
       " 0.0,\n",
       " 0.0,\n",
       " 0.0,\n",
       " 0.0,\n",
       " 0.0,\n",
       " 4.161666666666667,\n",
       " 153.0,\n",
       " 0.0,\n",
       " 0.0,\n",
       " 0.0,\n",
       " 0.0,\n",
       " 3.0850000000000004,\n",
       " 46.666666666666664,\n",
       " 0.0,\n",
       " 0.0,\n",
       " 0.0,\n",
       " 0.0,\n",
       " 0.0,\n",
       " 0.0,\n",
       " 0.0,\n",
       " 0.0,\n",
       " 0.0,\n",
       " 0.0,\n",
       " 0.0,\n",
       " 0.0,\n",
       " 0.0,\n",
       " 0.0,\n",
       " 0.0,\n",
       " 0.0,\n",
       " 0.0,\n",
       " 0.0,\n",
       " 0.0,\n",
       " 0.0,\n",
       " 0.0,\n",
       " 0.0,\n",
       " 0.0,\n",
       " 0.0,\n",
       " 0.0,\n",
       " 0.0,\n",
       " 0.0,\n",
       " 0.0,\n",
       " 0.0,\n",
       " 0.0,\n",
       " 2.2783333333333333,\n",
       " 116.66666666666667,\n",
       " 5.666666666666667,\n",
       " 160.0,\n",
       " 2.626666666666667,\n",
       " 10.666666666666666]"
      ]
     },
     "execution_count": 136,
     "metadata": {},
     "output_type": "execute_result"
    }
   ],
   "source": [
    "ns_sr_rep[\"bbc.co.uk\"]"
   ]
  },
  {
   "cell_type": "markdown",
   "metadata": {},
   "source": [
    "Let's investigate the sparsity of our data"
   ]
  },
  {
   "cell_type": "code",
   "execution_count": 137,
   "metadata": {},
   "outputs": [],
   "source": [
    "from numpy import array\n",
    "from numpy import count_nonzero\n",
    "from scipy.sparse import csr_matrix"
   ]
  },
  {
   "cell_type": "code",
   "execution_count": 138,
   "metadata": {},
   "outputs": [],
   "source": [
    "# ns_repr, ns_fixed = np.array([v[1] for v in items]), list([v[0] for v in items]) # this causes memory error\n",
    "## MemoryError: Unable to allocate 15.3 GiB for an array with shape (11436, 180000) and data type float64\n",
    "items = ns_sr_rep.items()\n",
    "ns_repr = np.array([k for k in ns_sr_rep.values()])"
   ]
  },
  {
   "cell_type": "code",
   "execution_count": 139,
   "metadata": {},
   "outputs": [
    {
     "data": {
      "text/plain": [
       "array([[ 0.96      , 54.16666667,  0.        , ...,  0.        ,\n",
       "         0.        ,  0.        ],\n",
       "       [ 0.46833333, 25.66666667,  0.        , ...,  0.        ,\n",
       "         0.        ,  0.        ],\n",
       "       [ 0.        ,  0.        ,  0.        , ...,  0.        ,\n",
       "         0.        ,  0.        ],\n",
       "       ...,\n",
       "       [ 0.        ,  0.        ,  0.        , ..., 83.16666667,\n",
       "         0.165     ,  0.        ],\n",
       "       [ 0.        ,  0.        ,  0.        , ...,  0.        ,\n",
       "         0.        ,  0.        ],\n",
       "       [ 0.16666667,  0.16666667,  0.        , ...,  0.        ,\n",
       "         0.        ,  0.        ]])"
      ]
     },
     "execution_count": 139,
     "metadata": {},
     "output_type": "execute_result"
    }
   ],
   "source": [
    "ns_repr[:10]"
   ]
  },
  {
   "cell_type": "code",
   "execution_count": 140,
   "metadata": {},
   "outputs": [],
   "source": [
    "sparsity = 1.0 - np.count_nonzero(ns_repr)/ns_repr.size"
   ]
  },
  {
   "cell_type": "code",
   "execution_count": 141,
   "metadata": {},
   "outputs": [
    {
     "data": {
      "text/plain": [
       "0.6286215978928885"
      ]
     },
     "execution_count": 141,
     "metadata": {},
     "output_type": "execute_result"
    }
   ],
   "source": [
    "sparsity"
   ]
  },
  {
   "cell_type": "markdown",
   "metadata": {},
   "source": [
    "Wow very high sparsity."
   ]
  },
  {
   "cell_type": "code",
   "execution_count": 142,
   "metadata": {},
   "outputs": [
    {
     "data": {
      "text/plain": [
       "85"
      ]
     },
     "execution_count": 142,
     "metadata": {},
     "output_type": "execute_result"
    }
   ],
   "source": [
    "len(non_outlier)"
   ]
  },
  {
   "cell_type": "markdown",
   "metadata": {},
   "source": [
    "How many subreddits have all 0's for all news sources?"
   ]
  },
  {
   "cell_type": "code",
   "execution_count": 143,
   "metadata": {},
   "outputs": [
    {
     "name": "stdout",
     "output_type": "stream",
     "text": [
      "0.13 0.9714705882352941 5.967525159508248 1\n",
      "0.16666666666666666 37.537254901960786 9644.130539993776 2\n",
      "0.0 0.3150588235294118 1.1393875295673825 3\n",
      "0.0 5.9980392156862745 384.8204326174914 4\n",
      "0.0 2.0736470588235294 98.33422582633051 5\n",
      "0.0 1673.5960784313725 156101061.34350294 6\n",
      "0.0 0.827 4.538353756613756 7\n",
      "0.0 72.48039215686275 48797.777388733266 8\n",
      "0.0 1.9070980392156862 25.915844388422038 9\n",
      "0.0 273.5352941176471 3026604.9048241517 10\n",
      "0.13999999999999999 0.8344313725490196 6.602561941332087 11\n",
      "0.6666666666666666 41.24901960784314 66270.78744942423 12\n",
      "0.0 1.43421568627451 31.876324377528785 13\n",
      "0.0 920.2607843137255 27419206.11868192 14\n",
      "0.12333333333333334 0.8247254901960784 8.188370161842514 15\n",
      "1.0 85.63921568627451 320857.0448723934 16\n",
      "0.0 0.7860784313725491 4.1264737239340175 17\n",
      "0.0 45.62549019607843 15002.636842514785 18\n",
      "0.0 0.8845098039215686 5.453585967164643 19\n",
      "0.0 99.9843137254902 197392.76297852473 20\n",
      "0.0 1.1114117647058823 9.178895536103331 21\n",
      "0.0 65.36470588235294 40573.11077653284 22\n",
      "0.10666666666666667 0.6664509803921568 2.837100713507625 23\n",
      "0.0 20.14705882352941 2719.39246809835 24\n",
      "0.0 0.8175882352941177 7.137188525521321 25\n",
      "0.0 33.60588235294117 25969.81735916589 26\n",
      "0.0 0.3322549019607843 0.5602864884842825 27\n",
      "0.0 13.898039215686275 1207.7546918767507 28\n",
      "0.0 0.2876666666666667 0.5621154894179895 29\n",
      "0.0 3.2705882352941176 167.15540771864303 30\n",
      "0.0 0.9978431372549019 52.667414737005906 31\n",
      "0.0 334.7725490196079 9147594.654660756 32\n",
      "0.0 0.46841176470588236 1.6303052186430125 33\n",
      "0.0 13.388235294117647 1052.5491985683163 34\n",
      "0.0 1.002921568627451 19.087563419701212 35\n",
      "0.0 31.274509803921568 23719.12480547775 36\n",
      "0.013333333333333334 1.9104117647058823 86.95362704403982 37\n",
      "0.0 1749.294117647059 250223483.24712116 38\n",
      "0.0 0.405921568627451 1.212237798008092 39\n",
      "0.0 15.509803921568627 2756.4592281356986 40\n",
      "0.0 0.9139019607843137 7.209337668845315 41\n",
      "0.0 28.562745098039215 8536.408053221288 42\n",
      "0.0 2.1797647058823526 339.24344875350135 43\n",
      "0.0 1778.050980392157 267870687.75266114 44\n",
      "0.0 0.8879019607843137 19.242213899004046 45\n",
      "0.0 318.8705882352941 8392433.29720666 46\n",
      "0.0 0.8830196078431372 15.109459490351691 47\n",
      "0.0 263.1921568627451 2730870.5717631495 48\n",
      "0.0 0.786921568627451 4.995344940865235 49\n",
      "0.0 129.9549019607843 577617.9281668223 50\n",
      "0.0 0.26619607843137255 1.0920487838468722 51\n",
      "0.0 7.770588235294118 2610.4397992530344 52\n",
      "0.0 0.364078431372549 1.164229200124494 53\n",
      "0.0 15.492156862745098 10420.495308123249 54\n",
      "0.0 0.3921372549019608 1.0642496436352318 55\n",
      "0.0 9.52156862745098 732.428431372549 56\n",
      "0.0 0.4212941176470588 1.0592485037348274 57\n",
      "0.0 27.027450980392157 7733.6202692188 58\n",
      "0.0 0.4943921568627451 1.4748111671335202 59\n",
      "0.0 9.066666666666666 551.6066137566138 60\n",
      "0.0 0.4830392156862745 5.594774945533768 61\n",
      "0.0 112.21764705882353 871033.6885076253 62\n",
      "0.0 0.4259607843137255 3.481064046062871 63\n",
      "0.0 65.33725490196079 309139.7764394647 64\n",
      "0.0 0.755313725490196 3.9334831014628073 65\n",
      "0.0 172.66470588235293 983725.8938453159 66\n",
      "0.0 1.7483725490196078 101.42532017040149 67\n"
     ]
    }
   ],
   "source": [
    "counter = 0\n",
    "for ii in range(len(srs)):\n",
    "    fl = []\n",
    "    for kk in ns_repr:\n",
    "        fl.append(kk[ii])\n",
    "    counter += 1\n",
    "    print(statistics.median(fl), statistics.mean(fl), statistics.variance(fl), counter)"
   ]
  },
  {
   "cell_type": "code",
   "execution_count": 144,
   "metadata": {
    "scrolled": true
   },
   "outputs": [
    {
     "name": "stdout",
     "output_type": "stream",
     "text": [
      "  (0, 0)\t0.96\n",
      "  (0, 1)\t54.166666666666664\n",
      "  (0, 4)\t0.16666666666666666\n",
      "  (0, 10)\t0.6166666666666667\n",
      "  (0, 11)\t14.5\n",
      "  (0, 12)\t0.14166666666666666\n",
      "  (0, 13)\t4.833333333333333\n",
      "  (0, 14)\t0.645\n",
      "  (0, 15)\t17.5\n",
      "  (0, 16)\t0.07833333333333332\n",
      "  (0, 17)\t5.833333333333333\n",
      "  (0, 22)\t1.135\n",
      "  (0, 23)\t38.0\n",
      "  (0, 24)\t0.15166666666666667\n",
      "  (0, 25)\t6.666666666666667\n",
      "  (0, 26)\t0.3283333333333333\n",
      "  (0, 27)\t21.166666666666668\n",
      "  (0, 30)\t0.2683333333333333\n",
      "  (0, 31)\t9.833333333333334\n",
      "  (0, 36)\t0.2316666666666667\n",
      "  (0, 37)\t9.333333333333334\n",
      "  (0, 38)\t0.5933333333333334\n",
      "  (0, 39)\t26.833333333333332\n",
      "  (0, 40)\t0.15333333333333335\n",
      "  (0, 41)\t9.333333333333334\n",
      "  :\t:\n",
      "  (84, 93)\t0.8333333333333334\n",
      "  (84, 98)\t0.13666666666666666\n",
      "  (84, 99)\t1.0\n",
      "  (84, 100)\t0.6016666666666667\n",
      "  (84, 101)\t10.0\n",
      "  (84, 102)\t0.055\n",
      "  (84, 103)\t0.8333333333333334\n",
      "  (84, 106)\t0.325\n",
      "  (84, 107)\t14.0\n",
      "  (84, 108)\t0.13166666666666668\n",
      "  (84, 109)\t3.1666666666666665\n",
      "  (84, 110)\t0.25\n",
      "  (84, 111)\t2.8333333333333335\n",
      "  (84, 112)\t0.43\n",
      "  (84, 113)\t13.5\n",
      "  (84, 114)\t0.34\n",
      "  (84, 115)\t5.5\n",
      "  (84, 116)\t0.3233333333333333\n",
      "  (84, 117)\t8.166666666666666\n",
      "  (84, 120)\t0.21333333333333335\n",
      "  (84, 121)\t1.0\n",
      "  (84, 124)\t0.3333333333333333\n",
      "  (84, 125)\t2.1666666666666665\n",
      "  (84, 126)\t0.125\n",
      "  (84, 127)\t0.5\n"
     ]
    }
   ],
   "source": [
    "# convert to sparse matrix (CSR method)\n",
    "S = csr_matrix(ns_repr)\n",
    "print(S)"
   ]
  },
  {
   "cell_type": "markdown",
   "metadata": {},
   "source": [
    "### Now PCA"
   ]
  },
  {
   "cell_type": "code",
   "execution_count": 145,
   "metadata": {},
   "outputs": [
    {
     "name": "stdout",
     "output_type": "stream",
     "text": [
      "[array([ 0.14166667,  0.        ,  0.15333333,  1.16666667,  0.        ,\n",
      "        0.        ,  0.        ,  0.        ,  0.        ,  0.        ,\n",
      "        0.        ,  0.        ,  0.        ,  0.        ,  0.        ,\n",
      "        0.        ,  0.11833333,  2.        ,  0.        ,  0.        ,\n",
      "        0.        ,  0.        ,  0.10666667,  0.        ,  0.        ,\n",
      "        0.        ,  0.255     ,  7.16666667,  0.        ,  0.        ,\n",
      "        0.        ,  0.        ,  0.13833333,  1.83333333,  0.16666667,\n",
      "        0.        ,  0.        ,  0.        ,  0.125     ,  0.66666667,\n",
      "        0.16666667,  1.        ,  0.        ,  0.        ,  0.        ,\n",
      "        0.        ,  0.        ,  0.        ,  0.11166667,  0.66666667,\n",
      "        0.        ,  0.        ,  0.        ,  0.        ,  0.16666667,\n",
      "        0.        ,  0.15833333,  2.66666667,  0.14833333,  1.33333333,\n",
      "        0.        ,  0.        ,  0.        ,  0.        ,  0.14666667,\n",
      "        5.5       ,  0.        ,  0.        ,  0.        ,  0.        ,\n",
      "        0.        ,  0.        ,  0.        ,  0.        ,  0.11166667,\n",
      "        0.33333333,  0.        ,  0.        ,  0.        ,  0.        ,\n",
      "        0.28166667, 10.        ,  0.14333333,  0.        ,  0.        ,\n",
      "        0.        ,  0.        ,  0.        ,  0.        ,  0.        ,\n",
      "        0.        ,  0.        ,  0.        ,  0.        ,  0.08333333,\n",
      "        0.16666667,  0.        ,  0.        ,  0.08333333,  0.        ,\n",
      "        0.        ,  0.        ,  0.14666667,  0.5       ,  0.31166667,\n",
      "        6.33333333,  0.16666667,  0.        ,  0.08333333,  0.        ,\n",
      "        0.16666667,  0.5       ,  0.        ,  0.        ,  0.16666667,\n",
      "        0.        ,  0.16666667,  0.        ,  0.14166667,  0.33333333,\n",
      "        0.        ,  0.        ,  0.08333333,  0.        ,  0.16666667,\n",
      "        0.        ,  0.125     ,  0.        ,  0.        ,  0.        ,\n",
      "        0.        ,  0.        ,  0.        ,  0.        ]), array([ 0.        ,  0.        ,  0.        ,  0.        ,  0.        ,\n",
      "        0.        ,  0.        ,  0.        ,  0.        ,  0.        ,\n",
      "        0.        ,  0.        ,  0.165     , 14.83333333,  0.33      ,\n",
      "       33.66666667,  0.        ,  0.        ,  0.        ,  0.        ,\n",
      "        0.        ,  0.        ,  0.        ,  0.        ,  0.        ,\n",
      "        0.        ,  0.        ,  0.        ,  0.16666667,  0.        ,\n",
      "        0.165     , 16.66666667,  0.        ,  0.        ,  0.        ,\n",
      "        0.        ,  1.88166667, 54.        ,  0.        ,  0.        ,\n",
      "        0.16      ,  3.        ,  0.        ,  0.        ,  0.575     ,\n",
      "        1.83333333,  0.        ,  0.        ,  0.14333333, 10.16666667,\n",
      "        0.        ,  0.        ,  0.        ,  0.        ,  0.        ,\n",
      "        0.        ,  0.        ,  0.        ,  0.        ,  0.        ,\n",
      "        0.        ,  0.        ,  0.16      ,  4.83333333,  0.        ,\n",
      "        0.        ,  0.        ,  0.        ,  0.        ,  0.        ,\n",
      "        0.        ,  0.        ,  0.        ,  0.        ,  0.        ,\n",
      "        0.        ,  0.        ,  0.        ,  0.        ,  0.        ,\n",
      "        0.        ,  0.        ,  0.28333333,  9.16666667,  0.        ,\n",
      "        0.        ,  0.        ,  0.        ,  0.        ,  0.        ,\n",
      "        0.        ,  0.        ,  0.        ,  0.        ,  0.        ,\n",
      "        0.        ,  0.        ,  0.        ,  0.        ,  0.        ,\n",
      "        0.        ,  0.        ,  0.        ,  0.        ,  0.        ,\n",
      "        0.        ,  1.32666667, 29.16666667,  0.        ,  0.        ,\n",
      "        0.        ,  0.        ,  0.        ,  0.        ,  0.        ,\n",
      "        0.        ,  0.        ,  0.        ,  0.        ,  0.        ,\n",
      "        0.        ,  0.        ,  0.        ,  0.        ,  0.        ,\n",
      "        0.        ,  0.        ,  0.        ,  0.        ,  0.        ,\n",
      "        0.        ,  0.        ,  0.        ,  0.        ]), array([9.95000000e-01, 3.40000000e+01, 3.10000000e-01, 0.00000000e+00,\n",
      "       3.26666667e-01, 8.50000000e+00, 1.61666667e-01, 1.06666667e+01,\n",
      "       4.01666667e-01, 5.00000000e-01, 0.00000000e+00, 0.00000000e+00,\n",
      "       0.00000000e+00, 0.00000000e+00, 1.66666667e-01, 0.00000000e+00,\n",
      "       1.63333333e-01, 1.48333333e+01, 2.33333333e-02, 2.33333333e+00,\n",
      "       4.91666667e-01, 4.83333333e+00, 3.05000000e-01, 1.43333333e+01,\n",
      "       1.66666667e-01, 2.50000000e+00, 1.60000000e-01, 3.98333333e+01,\n",
      "       0.00000000e+00, 0.00000000e+00, 0.00000000e+00, 0.00000000e+00,\n",
      "       3.26666667e-01, 1.11666667e+01, 1.11500000e+00, 4.03333333e+01,\n",
      "       3.13333333e-01, 1.05000000e+01, 1.35000000e-01, 3.33333333e-01,\n",
      "       4.31666667e-01, 1.65000000e+01, 1.66666667e-01, 1.66666667e-01,\n",
      "       0.00000000e+00, 0.00000000e+00, 1.66666667e-01, 0.00000000e+00,\n",
      "       2.60000000e-01, 1.40000000e+01, 0.00000000e+00, 0.00000000e+00,\n",
      "       3.33333333e-01, 1.16666667e+00, 1.66666667e-01, 0.00000000e+00,\n",
      "       7.31666667e-01, 1.63333333e+01, 6.66666667e-02, 1.00000000e+00,\n",
      "       0.00000000e+00, 0.00000000e+00, 0.00000000e+00, 0.00000000e+00,\n",
      "       1.66666667e-01, 0.00000000e+00, 1.65000000e-01, 3.33333333e-01,\n",
      "       2.83333333e-01, 5.00000000e-01, 5.56666667e-01, 3.00000000e+00,\n",
      "       2.96666667e-01, 4.00000000e+00, 4.11666667e-01, 5.00000000e-01,\n",
      "       0.00000000e+00, 0.00000000e+00, 0.00000000e+00, 0.00000000e+00,\n",
      "       5.68333333e-01, 9.00000000e+00, 1.65000000e-01, 3.33333333e+00,\n",
      "       0.00000000e+00, 0.00000000e+00, 0.00000000e+00, 0.00000000e+00,\n",
      "       0.00000000e+00, 0.00000000e+00, 5.85000000e-01, 3.25000000e+01,\n",
      "       0.00000000e+00, 0.00000000e+00, 0.00000000e+00, 0.00000000e+00,\n",
      "       0.00000000e+00, 0.00000000e+00, 7.15000000e-01, 5.00000000e+00,\n",
      "       8.33333333e-02, 1.66666667e-01, 4.03333333e-01, 1.00000000e+01,\n",
      "       2.41666667e-01, 5.50000000e+00, 8.33333333e-02, 0.00000000e+00,\n",
      "       5.20000000e-01, 1.93333333e+01, 6.40000000e-01, 3.33333333e+00,\n",
      "       3.31666667e-01, 6.50000000e+00, 1.55000000e-01, 6.83333333e+00,\n",
      "       2.91666667e-01, 4.00000000e+00, 1.18333333e-01, 1.66666667e-01,\n",
      "       0.00000000e+00, 0.00000000e+00, 0.00000000e+00, 0.00000000e+00,\n",
      "       0.00000000e+00, 0.00000000e+00, 1.55000000e-01, 4.00000000e+00,\n",
      "       0.00000000e+00, 0.00000000e+00, 0.00000000e+00, 0.00000000e+00,\n",
      "       0.00000000e+00, 0.00000000e+00]), array([ 0.15833333,  0.16666667,  0.        ,  0.        ,  0.        ,\n",
      "        0.        ,  0.83333333,  9.16666667,  0.38333333,  3.83333333,\n",
      "        0.        ,  0.        ,  0.        ,  0.        ,  0.        ,\n",
      "        0.        ,  0.        ,  0.        ,  0.        ,  0.        ,\n",
      "        0.32166667, 12.5       ,  0.15833333,  1.16666667,  0.        ,\n",
      "        0.        ,  0.16      ,  1.16666667,  0.        ,  0.        ,\n",
      "        0.        ,  0.        ,  0.        ,  0.        ,  0.        ,\n",
      "        0.        ,  0.15666667,  0.5       ,  0.        ,  0.        ,\n",
      "        0.        ,  0.        ,  0.        ,  0.        ,  0.        ,\n",
      "        0.        ,  0.        ,  0.        ,  0.16166667,  2.33333333,\n",
      "        0.        ,  0.        ,  0.        ,  0.        ,  0.        ,\n",
      "        0.        ,  0.        ,  0.        ,  0.        ,  0.        ,\n",
      "        0.16666667,  0.        ,  0.        ,  0.        ,  0.        ,\n",
      "        0.        ,  0.        ,  0.        ,  0.        ,  0.        ,\n",
      "        0.        ,  0.        ,  0.        ,  0.        ,  0.        ,\n",
      "        0.        ,  0.        ,  0.        ,  0.        ,  0.        ,\n",
      "        0.16      ,  1.33333333,  0.        ,  0.        ,  0.        ,\n",
      "        0.        ,  0.        ,  0.        ,  0.07333333,  0.16666667,\n",
      "        0.        ,  0.        ,  0.        ,  0.        ,  0.        ,\n",
      "        0.        ,  0.        ,  0.        ,  0.        ,  0.        ,\n",
      "        0.        ,  0.        ,  0.        ,  0.        ,  0.        ,\n",
      "        0.        ,  0.        ,  0.        ,  0.        ,  0.        ,\n",
      "        0.        ,  0.        ,  0.        ,  0.        ,  0.        ,\n",
      "        0.        ,  0.        ,  0.        ,  0.        ,  0.        ,\n",
      "        0.        ,  0.        ,  0.        ,  0.        ,  0.        ,\n",
      "        0.        ,  0.        ,  0.        ,  0.        ,  0.        ,\n",
      "        0.15166667,  1.33333333,  0.        ,  0.        ]), array([5.16666667e-01, 3.36666667e+01, 0.00000000e+00, 0.00000000e+00,\n",
      "       0.00000000e+00, 0.00000000e+00, 0.00000000e+00, 0.00000000e+00,\n",
      "       0.00000000e+00, 0.00000000e+00, 3.10000000e-01, 2.53333333e+01,\n",
      "       0.00000000e+00, 0.00000000e+00, 3.88333333e-01, 1.85000000e+01,\n",
      "       4.56666667e-01, 1.43333333e+01, 0.00000000e+00, 0.00000000e+00,\n",
      "       0.00000000e+00, 0.00000000e+00, 7.20000000e-01, 1.85000000e+01,\n",
      "       0.00000000e+00, 0.00000000e+00, 1.66666667e-01, 0.00000000e+00,\n",
      "       1.65000000e-01, 0.00000000e+00, 0.00000000e+00, 0.00000000e+00,\n",
      "       1.65000000e-01, 9.66666667e+00, 4.70000000e-01, 2.56666667e+01,\n",
      "       1.06433333e+01, 3.16500000e+02, 2.43333333e-01, 2.00000000e+00,\n",
      "       3.20000000e-01, 3.70000000e+01, 0.00000000e+00, 0.00000000e+00,\n",
      "       1.34333333e+00, 1.21666667e+01, 2.55000000e-01, 2.50000000e+00,\n",
      "       5.25000000e-01, 1.33333333e+01, 1.53333333e-01, 2.83333333e+00,\n",
      "       1.66666667e-01, 3.66666667e+00, 3.20000000e-01, 9.00000000e+00,\n",
      "       7.16666667e-02, 3.33333333e-01, 3.50000000e-01, 1.00000000e+01,\n",
      "       1.35000000e-01, 3.33333333e-01, 3.01666667e-01, 3.33333333e+00,\n",
      "       2.35000000e-01, 5.00000000e-01, 0.00000000e+00, 0.00000000e+00,\n",
      "       1.66666667e-01, 0.00000000e+00, 0.00000000e+00, 0.00000000e+00,\n",
      "       0.00000000e+00, 0.00000000e+00, 1.31666667e+00, 2.05000000e+01,\n",
      "       0.00000000e+00, 0.00000000e+00, 0.00000000e+00, 0.00000000e+00,\n",
      "       0.00000000e+00, 0.00000000e+00, 3.08666667e+00, 1.13833333e+02,\n",
      "       3.18333333e-01, 4.33333333e+00, 0.00000000e+00, 0.00000000e+00,\n",
      "       0.00000000e+00, 0.00000000e+00, 0.00000000e+00, 0.00000000e+00,\n",
      "       1.56666667e-01, 5.00000000e-01, 0.00000000e+00, 0.00000000e+00,\n",
      "       0.00000000e+00, 0.00000000e+00, 2.18333333e-01, 4.00000000e+00,\n",
      "       0.00000000e+00, 0.00000000e+00, 3.03333333e-01, 6.33333333e+00,\n",
      "       2.95000000e-01, 1.00000000e+01, 6.24666667e+00, 1.55500000e+02,\n",
      "       4.66666667e-01, 9.50000000e+00, 3.16666667e-01, 5.00000000e+00,\n",
      "       1.38333333e-01, 4.00000000e+00, 6.78333333e-01, 1.93333333e+01,\n",
      "       0.00000000e+00, 0.00000000e+00, 3.01666667e-01, 5.33333333e+00,\n",
      "       1.21666667e-01, 1.50000000e+00, 1.25000000e-01, 2.66666667e+00,\n",
      "       1.56666667e-01, 1.00000000e+00, 3.11666667e-01, 2.33333333e+01,\n",
      "       0.00000000e+00, 0.00000000e+00, 0.00000000e+00, 0.00000000e+00,\n",
      "       0.00000000e+00, 0.00000000e+00]), array([0.00000000e+00, 0.00000000e+00, 2.86666667e-01, 2.66666667e+00,\n",
      "       1.10000000e-01, 2.00000000e+00, 0.00000000e+00, 0.00000000e+00,\n",
      "       0.00000000e+00, 0.00000000e+00, 0.00000000e+00, 0.00000000e+00,\n",
      "       3.56666667e-01, 8.33333333e+00, 0.00000000e+00, 0.00000000e+00,\n",
      "       0.00000000e+00, 0.00000000e+00, 0.00000000e+00, 0.00000000e+00,\n",
      "       0.00000000e+00, 0.00000000e+00, 0.00000000e+00, 0.00000000e+00,\n",
      "       0.00000000e+00, 0.00000000e+00, 0.00000000e+00, 0.00000000e+00,\n",
      "       0.00000000e+00, 0.00000000e+00, 0.00000000e+00, 0.00000000e+00,\n",
      "       1.45000000e-01, 4.51666667e+01, 0.00000000e+00, 0.00000000e+00,\n",
      "       0.00000000e+00, 0.00000000e+00, 1.50000000e-01, 0.00000000e+00,\n",
      "       0.00000000e+00, 0.00000000e+00, 0.00000000e+00, 0.00000000e+00,\n",
      "       0.00000000e+00, 0.00000000e+00, 2.70000000e-01, 8.00000000e+00,\n",
      "       0.00000000e+00, 0.00000000e+00, 0.00000000e+00, 0.00000000e+00,\n",
      "       0.00000000e+00, 0.00000000e+00, 0.00000000e+00, 0.00000000e+00,\n",
      "       0.00000000e+00, 0.00000000e+00, 0.00000000e+00, 0.00000000e+00,\n",
      "       0.00000000e+00, 0.00000000e+00, 0.00000000e+00, 0.00000000e+00,\n",
      "       0.00000000e+00, 0.00000000e+00, 0.00000000e+00, 0.00000000e+00,\n",
      "       0.00000000e+00, 0.00000000e+00, 1.43333333e-01, 1.66666667e-01,\n",
      "       0.00000000e+00, 0.00000000e+00, 3.00000000e-01, 4.83333333e+00,\n",
      "       6.66666667e-02, 0.00000000e+00, 0.00000000e+00, 0.00000000e+00,\n",
      "       0.00000000e+00, 0.00000000e+00, 0.00000000e+00, 0.00000000e+00,\n",
      "       0.00000000e+00, 0.00000000e+00, 0.00000000e+00, 0.00000000e+00,\n",
      "       0.00000000e+00, 0.00000000e+00, 0.00000000e+00, 0.00000000e+00,\n",
      "       0.00000000e+00, 0.00000000e+00, 0.00000000e+00, 0.00000000e+00,\n",
      "       0.00000000e+00, 0.00000000e+00, 4.16666667e-02, 3.83333333e+00,\n",
      "       0.00000000e+00, 0.00000000e+00, 2.15000000e-01, 1.33333333e+00,\n",
      "       1.63333333e-01, 5.83333333e+00, 0.00000000e+00, 0.00000000e+00,\n",
      "       0.00000000e+00, 0.00000000e+00, 3.06666667e-01, 2.36666667e+01,\n",
      "       0.00000000e+00, 0.00000000e+00, 0.00000000e+00, 0.00000000e+00,\n",
      "       0.00000000e+00, 0.00000000e+00, 0.00000000e+00, 0.00000000e+00,\n",
      "       0.00000000e+00, 0.00000000e+00, 0.00000000e+00, 0.00000000e+00,\n",
      "       3.30000000e-01, 9.00000000e+00, 0.00000000e+00, 0.00000000e+00,\n",
      "       0.00000000e+00, 0.00000000e+00, 0.00000000e+00, 0.00000000e+00,\n",
      "       0.00000000e+00, 0.00000000e+00]), array([0.00000000e+00, 0.00000000e+00, 0.00000000e+00, 0.00000000e+00,\n",
      "       0.00000000e+00, 0.00000000e+00, 3.05833333e+00, 1.05100000e+03,\n",
      "       1.85500000e+01, 1.06116667e+03, 0.00000000e+00, 0.00000000e+00,\n",
      "       0.00000000e+00, 0.00000000e+00, 0.00000000e+00, 0.00000000e+00,\n",
      "       0.00000000e+00, 0.00000000e+00, 1.49333333e+00, 9.08333333e+01,\n",
      "       2.79166667e+00, 1.66666667e+02, 0.00000000e+00, 0.00000000e+00,\n",
      "       0.00000000e+00, 0.00000000e+00, 0.00000000e+00, 0.00000000e+00,\n",
      "       0.00000000e+00, 0.00000000e+00, 0.00000000e+00, 0.00000000e+00,\n",
      "       0.00000000e+00, 0.00000000e+00, 0.00000000e+00, 0.00000000e+00,\n",
      "       0.00000000e+00, 0.00000000e+00, 0.00000000e+00, 0.00000000e+00,\n",
      "       0.00000000e+00, 0.00000000e+00, 0.00000000e+00, 0.00000000e+00,\n",
      "       0.00000000e+00, 0.00000000e+00, 0.00000000e+00, 0.00000000e+00,\n",
      "       0.00000000e+00, 0.00000000e+00, 0.00000000e+00, 0.00000000e+00,\n",
      "       0.00000000e+00, 0.00000000e+00, 0.00000000e+00, 0.00000000e+00,\n",
      "       0.00000000e+00, 0.00000000e+00, 0.00000000e+00, 0.00000000e+00,\n",
      "       0.00000000e+00, 0.00000000e+00, 0.00000000e+00, 0.00000000e+00,\n",
      "       0.00000000e+00, 0.00000000e+00, 0.00000000e+00, 0.00000000e+00,\n",
      "       0.00000000e+00, 0.00000000e+00, 0.00000000e+00, 0.00000000e+00,\n",
      "       0.00000000e+00, 0.00000000e+00, 0.00000000e+00, 0.00000000e+00,\n",
      "       0.00000000e+00, 0.00000000e+00, 0.00000000e+00, 0.00000000e+00,\n",
      "       0.00000000e+00, 0.00000000e+00, 0.00000000e+00, 0.00000000e+00,\n",
      "       0.00000000e+00, 0.00000000e+00, 0.00000000e+00, 0.00000000e+00,\n",
      "       0.00000000e+00, 0.00000000e+00, 7.70000000e-01, 5.76666667e+01,\n",
      "       0.00000000e+00, 0.00000000e+00, 0.00000000e+00, 0.00000000e+00,\n",
      "       9.88333333e-01, 1.75000000e+01, 0.00000000e+00, 0.00000000e+00,\n",
      "       0.00000000e+00, 0.00000000e+00, 0.00000000e+00, 0.00000000e+00,\n",
      "       0.00000000e+00, 0.00000000e+00, 0.00000000e+00, 0.00000000e+00,\n",
      "       0.00000000e+00, 0.00000000e+00, 3.30000000e-01, 3.80000000e+01,\n",
      "       0.00000000e+00, 0.00000000e+00, 0.00000000e+00, 0.00000000e+00,\n",
      "       0.00000000e+00, 0.00000000e+00, 0.00000000e+00, 0.00000000e+00,\n",
      "       0.00000000e+00, 0.00000000e+00, 0.00000000e+00, 0.00000000e+00,\n",
      "       0.00000000e+00, 0.00000000e+00, 0.00000000e+00, 0.00000000e+00,\n",
      "       1.54833333e+00, 8.75000000e+01, 0.00000000e+00, 0.00000000e+00,\n",
      "       3.25000000e-01, 5.83333333e+00]), array([0.00000000e+00, 0.00000000e+00, 0.00000000e+00, 0.00000000e+00,\n",
      "       0.00000000e+00, 0.00000000e+00, 9.96000000e+00, 2.96500000e+02,\n",
      "       1.87683333e+01, 7.02500000e+02, 1.25000000e-01, 7.50000000e+00,\n",
      "       0.00000000e+00, 0.00000000e+00, 0.00000000e+00, 0.00000000e+00,\n",
      "       0.00000000e+00, 0.00000000e+00, 9.37833333e+00, 2.90666667e+02,\n",
      "       1.44100000e+01, 6.86333333e+02, 0.00000000e+00, 0.00000000e+00,\n",
      "       0.00000000e+00, 0.00000000e+00, 5.50000000e-02, 1.66666667e-01,\n",
      "       0.00000000e+00, 0.00000000e+00, 1.66666667e-01, 0.00000000e+00,\n",
      "       3.25000000e-01, 3.33333333e+00, 0.00000000e+00, 0.00000000e+00,\n",
      "       0.00000000e+00, 0.00000000e+00, 0.00000000e+00, 0.00000000e+00,\n",
      "       0.00000000e+00, 0.00000000e+00, 0.00000000e+00, 0.00000000e+00,\n",
      "       1.06666667e-01, 0.00000000e+00, 1.60000000e-01, 1.66666667e-01,\n",
      "       3.60000000e-01, 3.83333333e+00, 0.00000000e+00, 0.00000000e+00,\n",
      "       1.58333333e-01, 0.00000000e+00, 0.00000000e+00, 0.00000000e+00,\n",
      "       1.58333333e-01, 1.16666667e+00, 8.33333333e-02, 1.50000000e+00,\n",
      "       1.66666667e-01, 1.66666667e-01, 0.00000000e+00, 0.00000000e+00,\n",
      "       0.00000000e+00, 0.00000000e+00, 0.00000000e+00, 0.00000000e+00,\n",
      "       0.00000000e+00, 0.00000000e+00, 0.00000000e+00, 0.00000000e+00,\n",
      "       0.00000000e+00, 0.00000000e+00, 0.00000000e+00, 0.00000000e+00,\n",
      "       0.00000000e+00, 0.00000000e+00, 0.00000000e+00, 0.00000000e+00,\n",
      "       1.25000000e-01, 6.66666667e-01, 1.66666667e-01, 0.00000000e+00,\n",
      "       0.00000000e+00, 0.00000000e+00, 0.00000000e+00, 0.00000000e+00,\n",
      "       1.53333333e-01, 8.33333333e-01, 7.45500000e+00, 4.36333333e+02,\n",
      "       1.55000000e-01, 3.33333333e-01, 0.00000000e+00, 0.00000000e+00,\n",
      "       3.48333333e+00, 2.93333333e+01, 0.00000000e+00, 0.00000000e+00,\n",
      "       0.00000000e+00, 0.00000000e+00, 8.16666667e-01, 6.33333333e+00,\n",
      "       0.00000000e+00, 0.00000000e+00, 0.00000000e+00, 0.00000000e+00,\n",
      "       0.00000000e+00, 0.00000000e+00, 6.00000000e-02, 6.66666667e-01,\n",
      "       0.00000000e+00, 0.00000000e+00, 1.66666667e-01, 0.00000000e+00,\n",
      "       0.00000000e+00, 0.00000000e+00, 0.00000000e+00, 0.00000000e+00,\n",
      "       0.00000000e+00, 0.00000000e+00, 0.00000000e+00, 0.00000000e+00,\n",
      "       0.00000000e+00, 0.00000000e+00, 0.00000000e+00, 0.00000000e+00,\n",
      "       3.74000000e+00, 1.42333333e+02, 9.81666667e-01, 7.33333333e+00,\n",
      "       9.71666667e-01, 5.66666667e+00]), array([0.00000000e+00, 0.00000000e+00, 0.00000000e+00, 0.00000000e+00,\n",
      "       0.00000000e+00, 0.00000000e+00, 0.00000000e+00, 0.00000000e+00,\n",
      "       0.00000000e+00, 0.00000000e+00, 3.05000000e-01, 1.00000000e+01,\n",
      "       1.61666667e-01, 1.03333333e+01, 2.46666667e-01, 1.58333333e+01,\n",
      "       0.00000000e+00, 0.00000000e+00, 0.00000000e+00, 0.00000000e+00,\n",
      "       0.00000000e+00, 0.00000000e+00, 4.50000000e-02, 5.16666667e+00,\n",
      "       0.00000000e+00, 0.00000000e+00, 0.00000000e+00, 0.00000000e+00,\n",
      "       0.00000000e+00, 0.00000000e+00, 0.00000000e+00, 0.00000000e+00,\n",
      "       2.55000000e-01, 7.33333333e+00, 0.00000000e+00, 0.00000000e+00,\n",
      "       0.00000000e+00, 0.00000000e+00, 0.00000000e+00, 0.00000000e+00,\n",
      "       0.00000000e+00, 0.00000000e+00, 0.00000000e+00, 0.00000000e+00,\n",
      "       0.00000000e+00, 0.00000000e+00, 0.00000000e+00, 0.00000000e+00,\n",
      "       0.00000000e+00, 0.00000000e+00, 0.00000000e+00, 0.00000000e+00,\n",
      "       0.00000000e+00, 0.00000000e+00, 0.00000000e+00, 0.00000000e+00,\n",
      "       0.00000000e+00, 0.00000000e+00, 0.00000000e+00, 0.00000000e+00,\n",
      "       0.00000000e+00, 0.00000000e+00, 1.63333333e-01, 7.50000000e+00,\n",
      "       1.26866667e+01, 4.62666667e+02, 0.00000000e+00, 0.00000000e+00,\n",
      "       0.00000000e+00, 0.00000000e+00, 0.00000000e+00, 0.00000000e+00,\n",
      "       0.00000000e+00, 0.00000000e+00, 0.00000000e+00, 0.00000000e+00,\n",
      "       0.00000000e+00, 0.00000000e+00, 0.00000000e+00, 0.00000000e+00,\n",
      "       1.61666667e-01, 6.66666667e-01, 0.00000000e+00, 0.00000000e+00,\n",
      "       0.00000000e+00, 0.00000000e+00, 0.00000000e+00, 0.00000000e+00,\n",
      "       0.00000000e+00, 0.00000000e+00, 0.00000000e+00, 0.00000000e+00,\n",
      "       0.00000000e+00, 0.00000000e+00, 3.13333333e-01, 7.83333333e+00,\n",
      "       0.00000000e+00, 0.00000000e+00, 0.00000000e+00, 0.00000000e+00,\n",
      "       0.00000000e+00, 0.00000000e+00, 0.00000000e+00, 0.00000000e+00,\n",
      "       2.98333333e-01, 5.00000000e+00, 3.13333333e-01, 1.73333333e+01,\n",
      "       0.00000000e+00, 0.00000000e+00, 2.96666667e-01, 4.00000000e+00,\n",
      "       8.07000000e+00, 1.71666667e+02, 3.33333333e-01, 0.00000000e+00,\n",
      "       0.00000000e+00, 0.00000000e+00, 0.00000000e+00, 0.00000000e+00,\n",
      "       0.00000000e+00, 0.00000000e+00, 0.00000000e+00, 0.00000000e+00,\n",
      "       0.00000000e+00, 0.00000000e+00, 0.00000000e+00, 0.00000000e+00,\n",
      "       0.00000000e+00, 0.00000000e+00, 0.00000000e+00, 0.00000000e+00,\n",
      "       0.00000000e+00, 0.00000000e+00]), array([3.60000000e+00, 1.89500000e+02, 1.60000000e-01, 3.03333333e+01,\n",
      "       0.00000000e+00, 0.00000000e+00, 0.00000000e+00, 0.00000000e+00,\n",
      "       0.00000000e+00, 0.00000000e+00, 1.36666667e-01, 1.51666667e+01,\n",
      "       0.00000000e+00, 0.00000000e+00, 6.23333333e-01, 4.30000000e+01,\n",
      "       4.58333333e-01, 1.56666667e+01, 0.00000000e+00, 0.00000000e+00,\n",
      "       0.00000000e+00, 0.00000000e+00, 0.00000000e+00, 0.00000000e+00,\n",
      "       6.00000000e-02, 3.16666667e+00, 0.00000000e+00, 0.00000000e+00,\n",
      "       0.00000000e+00, 0.00000000e+00, 0.00000000e+00, 0.00000000e+00,\n",
      "       6.51666667e-01, 1.25000000e+01, 6.40000000e-01, 1.65000000e+01,\n",
      "       0.00000000e+00, 0.00000000e+00, 3.18333333e-01, 4.90000000e+01,\n",
      "       1.43333333e-01, 5.16666667e+00, 0.00000000e+00, 0.00000000e+00,\n",
      "       8.33333333e-02, 8.33333333e-01, 0.00000000e+00, 0.00000000e+00,\n",
      "       4.08333333e-01, 6.63333333e+01, 0.00000000e+00, 0.00000000e+00,\n",
      "       0.00000000e+00, 0.00000000e+00, 0.00000000e+00, 0.00000000e+00,\n",
      "       0.00000000e+00, 0.00000000e+00, 2.43333333e-01, 2.33333333e+00,\n",
      "       0.00000000e+00, 0.00000000e+00, 0.00000000e+00, 0.00000000e+00,\n",
      "       0.00000000e+00, 0.00000000e+00, 1.75500000e+00, 1.70000000e+01,\n",
      "       0.00000000e+00, 0.00000000e+00, 1.66666667e-01, 1.83333333e+00,\n",
      "       0.00000000e+00, 0.00000000e+00, 1.34000000e+00, 2.11666667e+01,\n",
      "       2.48333333e-01, 2.50000000e+00, 1.43333333e-01, 3.33333333e+00,\n",
      "       1.61666667e-01, 8.33333333e-01, 0.00000000e+00, 0.00000000e+00,\n",
      "       0.00000000e+00, 0.00000000e+00, 0.00000000e+00, 0.00000000e+00,\n",
      "       0.00000000e+00, 0.00000000e+00, 0.00000000e+00, 0.00000000e+00,\n",
      "       0.00000000e+00, 0.00000000e+00, 1.11666667e-01, 4.50000000e+00,\n",
      "       0.00000000e+00, 0.00000000e+00, 0.00000000e+00, 0.00000000e+00,\n",
      "       0.00000000e+00, 0.00000000e+00, 0.00000000e+00, 0.00000000e+00,\n",
      "       0.00000000e+00, 0.00000000e+00, 0.00000000e+00, 0.00000000e+00,\n",
      "       0.00000000e+00, 0.00000000e+00, 0.00000000e+00, 0.00000000e+00,\n",
      "       0.00000000e+00, 0.00000000e+00, 0.00000000e+00, 0.00000000e+00,\n",
      "       1.45000000e-01, 1.83333333e+00, 0.00000000e+00, 0.00000000e+00,\n",
      "       0.00000000e+00, 0.00000000e+00, 1.61666667e-01, 2.28333333e+01,\n",
      "       0.00000000e+00, 0.00000000e+00, 0.00000000e+00, 0.00000000e+00,\n",
      "       0.00000000e+00, 0.00000000e+00, 0.00000000e+00, 0.00000000e+00,\n",
      "       0.00000000e+00, 0.00000000e+00]), array([0.00000000e+00, 0.00000000e+00, 0.00000000e+00, 0.00000000e+00,\n",
      "       1.65000000e-01, 3.15000000e+01, 0.00000000e+00, 0.00000000e+00,\n",
      "       0.00000000e+00, 0.00000000e+00, 1.66666667e-01, 0.00000000e+00,\n",
      "       3.25000000e-01, 7.66666667e+00, 1.33333333e-01, 7.66666667e+00,\n",
      "       5.44333333e+00, 4.46666667e+02, 0.00000000e+00, 0.00000000e+00,\n",
      "       0.00000000e+00, 0.00000000e+00, 0.00000000e+00, 0.00000000e+00,\n",
      "       2.80166667e+00, 1.39000000e+02, 3.20000000e-01, 2.26666667e+01,\n",
      "       0.00000000e+00, 0.00000000e+00, 0.00000000e+00, 0.00000000e+00,\n",
      "       0.00000000e+00, 0.00000000e+00, 0.00000000e+00, 0.00000000e+00,\n",
      "       1.46666667e-01, 8.33333333e-01, 0.00000000e+00, 0.00000000e+00,\n",
      "       1.60000000e-01, 5.00000000e-01, 0.00000000e+00, 0.00000000e+00,\n",
      "       0.00000000e+00, 0.00000000e+00, 0.00000000e+00, 0.00000000e+00,\n",
      "       0.00000000e+00, 0.00000000e+00, 0.00000000e+00, 0.00000000e+00,\n",
      "       4.36666667e-01, 5.00000000e-01, 0.00000000e+00, 0.00000000e+00,\n",
      "       0.00000000e+00, 0.00000000e+00, 0.00000000e+00, 0.00000000e+00,\n",
      "       1.55000000e-01, 1.66666667e+01, 0.00000000e+00, 0.00000000e+00,\n",
      "       0.00000000e+00, 0.00000000e+00, 1.25000000e-01, 1.33333333e+00,\n",
      "       0.00000000e+00, 0.00000000e+00, 0.00000000e+00, 0.00000000e+00,\n",
      "       3.30000000e-01, 9.33333333e+00, 0.00000000e+00, 0.00000000e+00,\n",
      "       6.33333333e-02, 3.16666667e+00, 0.00000000e+00, 0.00000000e+00,\n",
      "       0.00000000e+00, 0.00000000e+00, 4.80000000e-01, 2.00000000e+00,\n",
      "       0.00000000e+00, 0.00000000e+00, 0.00000000e+00, 0.00000000e+00,\n",
      "       0.00000000e+00, 0.00000000e+00, 0.00000000e+00, 0.00000000e+00,\n",
      "       0.00000000e+00, 0.00000000e+00, 0.00000000e+00, 0.00000000e+00,\n",
      "       0.00000000e+00, 0.00000000e+00, 0.00000000e+00, 0.00000000e+00,\n",
      "       0.00000000e+00, 0.00000000e+00, 0.00000000e+00, 0.00000000e+00,\n",
      "       0.00000000e+00, 0.00000000e+00, 0.00000000e+00, 0.00000000e+00,\n",
      "       0.00000000e+00, 0.00000000e+00, 0.00000000e+00, 0.00000000e+00,\n",
      "       1.55000000e-01, 4.16666667e+00, 0.00000000e+00, 0.00000000e+00,\n",
      "       9.66666667e-02, 1.00000000e+00, 0.00000000e+00, 0.00000000e+00,\n",
      "       0.00000000e+00, 0.00000000e+00, 0.00000000e+00, 0.00000000e+00,\n",
      "       0.00000000e+00, 0.00000000e+00, 0.00000000e+00, 0.00000000e+00,\n",
      "       0.00000000e+00, 0.00000000e+00, 0.00000000e+00, 0.00000000e+00,\n",
      "       0.00000000e+00, 0.00000000e+00]), array([2.50000000e-02, 4.50000000e+00, 9.83333333e-02, 2.66666667e+00,\n",
      "       0.00000000e+00, 0.00000000e+00, 0.00000000e+00, 0.00000000e+00,\n",
      "       0.00000000e+00, 0.00000000e+00, 1.11666667e-01, 3.33333333e-01,\n",
      "       0.00000000e+00, 0.00000000e+00, 1.38333333e-01, 3.16666667e+00,\n",
      "       1.66666667e-01, 0.00000000e+00, 0.00000000e+00, 0.00000000e+00,\n",
      "       0.00000000e+00, 0.00000000e+00, 2.51666667e-01, 9.33333333e+00,\n",
      "       1.05000000e-01, 3.00000000e+00, 1.63333333e-01, 2.00000000e+00,\n",
      "       1.66666667e-01, 0.00000000e+00, 1.60000000e-01, 1.66666667e-01,\n",
      "       1.56666667e-01, 1.95000000e+01, 2.78333333e-01, 1.66666667e+00,\n",
      "       0.00000000e+00, 0.00000000e+00, 1.66666667e-01, 5.00000000e-01,\n",
      "       1.58333333e-01, 1.30000000e+01, 0.00000000e+00, 0.00000000e+00,\n",
      "       3.30000000e-01, 1.18333333e+01, 0.00000000e+00, 0.00000000e+00,\n",
      "       7.25000000e-01, 2.91666667e+01, 1.63333333e-01, 8.50000000e+00,\n",
      "       0.00000000e+00, 0.00000000e+00, 0.00000000e+00, 0.00000000e+00,\n",
      "       3.93333333e-01, 6.16666667e+00, 1.53333333e-01, 2.83333333e+00,\n",
      "       0.00000000e+00, 0.00000000e+00, 0.00000000e+00, 0.00000000e+00,\n",
      "       2.96666667e-01, 7.50000000e+00, 0.00000000e+00, 0.00000000e+00,\n",
      "       0.00000000e+00, 0.00000000e+00, 1.60000000e-01, 3.66666667e+00,\n",
      "       0.00000000e+00, 0.00000000e+00, 3.25000000e-01, 1.15000000e+01,\n",
      "       0.00000000e+00, 0.00000000e+00, 0.00000000e+00, 0.00000000e+00,\n",
      "       2.83333333e-01, 6.83333333e+00, 0.00000000e+00, 0.00000000e+00,\n",
      "       0.00000000e+00, 0.00000000e+00, 0.00000000e+00, 0.00000000e+00,\n",
      "       0.00000000e+00, 0.00000000e+00, 0.00000000e+00, 0.00000000e+00,\n",
      "       0.00000000e+00, 0.00000000e+00, 0.00000000e+00, 0.00000000e+00,\n",
      "       0.00000000e+00, 0.00000000e+00, 4.16666667e-02, 1.00000000e+00,\n",
      "       0.00000000e+00, 0.00000000e+00, 1.66666667e-01, 2.00000000e+00,\n",
      "       0.00000000e+00, 0.00000000e+00, 2.38333333e-01, 2.25000000e+01,\n",
      "       0.00000000e+00, 0.00000000e+00, 1.56666667e-01, 5.50000000e+00,\n",
      "       1.11666667e-01, 0.00000000e+00, 0.00000000e+00, 0.00000000e+00,\n",
      "       6.16666667e-01, 1.28333333e+01, 1.60000000e-01, 1.16666667e+00,\n",
      "       0.00000000e+00, 0.00000000e+00, 0.00000000e+00, 0.00000000e+00,\n",
      "       0.00000000e+00, 0.00000000e+00, 0.00000000e+00, 0.00000000e+00,\n",
      "       0.00000000e+00, 0.00000000e+00, 0.00000000e+00, 0.00000000e+00,\n",
      "       0.00000000e+00, 0.00000000e+00]), array([9.84833333e+00, 2.93333333e+02, 2.00833333e+00, 6.56666667e+01,\n",
      "       1.86550000e+01, 2.71556667e+04, 1.90833333e+00, 1.01166667e+02,\n",
      "       6.41666667e+00, 1.59408333e+04, 1.59466667e+01, 3.57166667e+02,\n",
      "       1.54016667e+01, 1.19125000e+04, 6.38833333e+00, 2.85833333e+02,\n",
      "       5.19833333e+00, 1.63333333e+02, 3.54666667e+00, 3.84866667e+03,\n",
      "       3.22833333e+00, 2.19500000e+02, 8.89000000e+00, 1.71666667e+02,\n",
      "       1.04433333e+01, 3.36333333e+02, 3.25333333e+00, 1.23333333e+02,\n",
      "       4.83333333e+00, 8.86666667e+01, 2.40166667e+00, 8.10000000e+01,\n",
      "       9.61333333e+00, 1.95500000e+02, 6.57666667e+00, 1.65333333e+02,\n",
      "       5.60516667e+01, 1.87350000e+03, 1.97666667e+00, 6.15000000e+01,\n",
      "       1.73750000e+01, 6.39333333e+02, 2.68000000e+00, 2.63333333e+01,\n",
      "       1.27750000e+01, 1.27666667e+02, 1.83500000e+01, 1.00911667e+04,\n",
      "       6.51000000e+00, 6.74583333e+03, 2.76000000e+00, 4.50000000e+01,\n",
      "       7.70333333e+00, 1.63166667e+02, 4.40166667e+00, 1.21333333e+02,\n",
      "       4.41166667e+00, 3.94000000e+02, 5.46333333e+00, 9.78333333e+01,\n",
      "       1.82000000e+01, 8.58450000e+03, 3.52666667e+00, 1.07166667e+02,\n",
      "       6.37833333e+00, 1.87666667e+02, 7.21950000e+01, 6.20431667e+04,\n",
      "       4.90000000e+00, 4.90000000e+01, 1.14133333e+01, 3.06166667e+02,\n",
      "       2.28600000e+01, 1.83366667e+03, 7.99833333e+00, 1.52833333e+02,\n",
      "       1.05366667e+01, 1.05666667e+02, 2.68500000e+00, 3.75000000e+01,\n",
      "       6.97000000e+00, 5.84000000e+02, 5.42833333e+00, 9.53333333e+01,\n",
      "       1.86666667e+00, 1.88333333e+01, 2.67000000e+00, 4.78333333e+01,\n",
      "       2.35700000e+01, 8.54816667e+03, 2.15166667e+00, 1.76450000e+03,\n",
      "       4.12500000e+00, 6.93333333e+01, 3.42166667e+00, 3.25000000e+01,\n",
      "       2.18833333e+00, 1.38383333e+03, 1.12500000e+01, 4.69666667e+02,\n",
      "       1.27433333e+01, 7.28466667e+03, 6.47833333e+00, 8.80000000e+01,\n",
      "       2.80500000e+00, 6.15000000e+01, 8.00666667e+00, 1.16300000e+03,\n",
      "       3.54500000e+00, 8.48333333e+01, 7.56166667e+00, 8.63333333e+01,\n",
      "       2.68333333e+00, 7.33333333e+01, 4.14500000e+00, 1.46833333e+02,\n",
      "       4.47333333e+00, 8.90000000e+01, 2.39166667e+00, 1.04666667e+03,\n",
      "       1.71633333e+01, 2.16850000e+03, 3.30500000e+00, 7.26666667e+01,\n",
      "       3.68333333e+00, 3.70000000e+01, 3.14333333e+00, 6.43333333e+01,\n",
      "       1.66666667e-01, 0.00000000e+00, 1.17333333e+00, 3.83166667e+02,\n",
      "       0.00000000e+00, 0.00000000e+00]), array([0.00000000e+00, 0.00000000e+00, 0.00000000e+00, 0.00000000e+00,\n",
      "       0.00000000e+00, 0.00000000e+00, 6.22000000e+00, 1.28000000e+02,\n",
      "       1.48766667e+01, 6.68333333e+02, 0.00000000e+00, 0.00000000e+00,\n",
      "       0.00000000e+00, 0.00000000e+00, 0.00000000e+00, 0.00000000e+00,\n",
      "       0.00000000e+00, 0.00000000e+00, 5.34500000e+00, 5.49166667e+02,\n",
      "       7.18166667e+00, 3.24166667e+02, 0.00000000e+00, 0.00000000e+00,\n",
      "       0.00000000e+00, 0.00000000e+00, 0.00000000e+00, 0.00000000e+00,\n",
      "       0.00000000e+00, 0.00000000e+00, 0.00000000e+00, 0.00000000e+00,\n",
      "       0.00000000e+00, 0.00000000e+00, 1.60000000e-01, 3.00000000e+00,\n",
      "       0.00000000e+00, 0.00000000e+00, 0.00000000e+00, 0.00000000e+00,\n",
      "       0.00000000e+00, 0.00000000e+00, 0.00000000e+00, 0.00000000e+00,\n",
      "       0.00000000e+00, 0.00000000e+00, 0.00000000e+00, 0.00000000e+00,\n",
      "       0.00000000e+00, 0.00000000e+00, 0.00000000e+00, 0.00000000e+00,\n",
      "       0.00000000e+00, 0.00000000e+00, 0.00000000e+00, 0.00000000e+00,\n",
      "       0.00000000e+00, 0.00000000e+00, 0.00000000e+00, 0.00000000e+00,\n",
      "       0.00000000e+00, 0.00000000e+00, 0.00000000e+00, 0.00000000e+00,\n",
      "       0.00000000e+00, 0.00000000e+00, 0.00000000e+00, 0.00000000e+00,\n",
      "       0.00000000e+00, 0.00000000e+00, 0.00000000e+00, 0.00000000e+00,\n",
      "       0.00000000e+00, 0.00000000e+00, 0.00000000e+00, 0.00000000e+00,\n",
      "       0.00000000e+00, 0.00000000e+00, 0.00000000e+00, 0.00000000e+00,\n",
      "       0.00000000e+00, 0.00000000e+00, 0.00000000e+00, 0.00000000e+00,\n",
      "       0.00000000e+00, 0.00000000e+00, 0.00000000e+00, 0.00000000e+00,\n",
      "       0.00000000e+00, 0.00000000e+00, 4.16166667e+00, 1.53000000e+02,\n",
      "       0.00000000e+00, 0.00000000e+00, 0.00000000e+00, 0.00000000e+00,\n",
      "       3.08500000e+00, 4.66666667e+01, 0.00000000e+00, 0.00000000e+00,\n",
      "       0.00000000e+00, 0.00000000e+00, 0.00000000e+00, 0.00000000e+00,\n",
      "       0.00000000e+00, 0.00000000e+00, 0.00000000e+00, 0.00000000e+00,\n",
      "       0.00000000e+00, 0.00000000e+00, 0.00000000e+00, 0.00000000e+00,\n",
      "       0.00000000e+00, 0.00000000e+00, 0.00000000e+00, 0.00000000e+00,\n",
      "       0.00000000e+00, 0.00000000e+00, 0.00000000e+00, 0.00000000e+00,\n",
      "       0.00000000e+00, 0.00000000e+00, 0.00000000e+00, 0.00000000e+00,\n",
      "       0.00000000e+00, 0.00000000e+00, 0.00000000e+00, 0.00000000e+00,\n",
      "       2.27833333e+00, 1.16666667e+02, 5.66666667e+00, 1.60000000e+02,\n",
      "       2.62666667e+00, 1.06666667e+01]), array([0.00000000e+00, 0.00000000e+00, 0.00000000e+00, 0.00000000e+00,\n",
      "       0.00000000e+00, 0.00000000e+00, 8.33333333e-02, 1.83333333e+00,\n",
      "       1.79833333e+00, 1.41666667e+02, 0.00000000e+00, 0.00000000e+00,\n",
      "       0.00000000e+00, 0.00000000e+00, 0.00000000e+00, 0.00000000e+00,\n",
      "       0.00000000e+00, 0.00000000e+00, 6.31666667e-01, 4.03333333e+01,\n",
      "       5.40000000e-01, 4.31666667e+01, 0.00000000e+00, 0.00000000e+00,\n",
      "       0.00000000e+00, 0.00000000e+00, 0.00000000e+00, 0.00000000e+00,\n",
      "       0.00000000e+00, 0.00000000e+00, 0.00000000e+00, 0.00000000e+00,\n",
      "       0.00000000e+00, 0.00000000e+00, 1.66666667e-01, 8.33333333e-01,\n",
      "       0.00000000e+00, 0.00000000e+00, 7.83333333e-02, 4.00000000e+00,\n",
      "       0.00000000e+00, 0.00000000e+00, 0.00000000e+00, 0.00000000e+00,\n",
      "       0.00000000e+00, 0.00000000e+00, 0.00000000e+00, 0.00000000e+00,\n",
      "       0.00000000e+00, 0.00000000e+00, 0.00000000e+00, 0.00000000e+00,\n",
      "       2.86666667e-01, 1.33333333e+00, 0.00000000e+00, 0.00000000e+00,\n",
      "       0.00000000e+00, 0.00000000e+00, 0.00000000e+00, 0.00000000e+00,\n",
      "       0.00000000e+00, 0.00000000e+00, 0.00000000e+00, 0.00000000e+00,\n",
      "       0.00000000e+00, 0.00000000e+00, 0.00000000e+00, 0.00000000e+00,\n",
      "       0.00000000e+00, 0.00000000e+00, 3.20000000e-01, 7.66666667e+00,\n",
      "       0.00000000e+00, 0.00000000e+00, 0.00000000e+00, 0.00000000e+00,\n",
      "       0.00000000e+00, 0.00000000e+00, 0.00000000e+00, 0.00000000e+00,\n",
      "       0.00000000e+00, 0.00000000e+00, 0.00000000e+00, 0.00000000e+00,\n",
      "       0.00000000e+00, 0.00000000e+00, 0.00000000e+00, 0.00000000e+00,\n",
      "       0.00000000e+00, 0.00000000e+00, 3.48333333e-01, 1.63333333e+01,\n",
      "       3.33333333e-01, 1.26666667e+01, 0.00000000e+00, 0.00000000e+00,\n",
      "       0.00000000e+00, 0.00000000e+00, 0.00000000e+00, 0.00000000e+00,\n",
      "       0.00000000e+00, 0.00000000e+00, 0.00000000e+00, 0.00000000e+00,\n",
      "       0.00000000e+00, 0.00000000e+00, 0.00000000e+00, 0.00000000e+00,\n",
      "       0.00000000e+00, 0.00000000e+00, 0.00000000e+00, 0.00000000e+00,\n",
      "       0.00000000e+00, 0.00000000e+00, 0.00000000e+00, 0.00000000e+00,\n",
      "       0.00000000e+00, 0.00000000e+00, 0.00000000e+00, 0.00000000e+00,\n",
      "       0.00000000e+00, 0.00000000e+00, 0.00000000e+00, 0.00000000e+00,\n",
      "       1.56666667e-01, 1.50000000e+00, 2.40000000e-01, 5.66666667e+00,\n",
      "       1.40000000e-01, 9.00000000e+00, 0.00000000e+00, 0.00000000e+00,\n",
      "       0.00000000e+00, 0.00000000e+00]), array([0.00000000e+00, 0.00000000e+00, 0.00000000e+00, 0.00000000e+00,\n",
      "       0.00000000e+00, 0.00000000e+00, 3.21500000e+00, 2.19666667e+02,\n",
      "       3.00083333e+01, 1.59733333e+03, 0.00000000e+00, 0.00000000e+00,\n",
      "       0.00000000e+00, 0.00000000e+00, 0.00000000e+00, 0.00000000e+00,\n",
      "       0.00000000e+00, 0.00000000e+00, 9.91000000e+00, 9.49833333e+02,\n",
      "       4.96500000e+00, 5.37666667e+02, 0.00000000e+00, 0.00000000e+00,\n",
      "       0.00000000e+00, 0.00000000e+00, 0.00000000e+00, 0.00000000e+00,\n",
      "       0.00000000e+00, 0.00000000e+00, 0.00000000e+00, 0.00000000e+00,\n",
      "       0.00000000e+00, 0.00000000e+00, 0.00000000e+00, 0.00000000e+00,\n",
      "       0.00000000e+00, 0.00000000e+00, 0.00000000e+00, 0.00000000e+00,\n",
      "       0.00000000e+00, 0.00000000e+00, 0.00000000e+00, 0.00000000e+00,\n",
      "       0.00000000e+00, 0.00000000e+00, 0.00000000e+00, 0.00000000e+00,\n",
      "       0.00000000e+00, 0.00000000e+00, 0.00000000e+00, 0.00000000e+00,\n",
      "       0.00000000e+00, 0.00000000e+00, 0.00000000e+00, 0.00000000e+00,\n",
      "       0.00000000e+00, 0.00000000e+00, 0.00000000e+00, 0.00000000e+00,\n",
      "       0.00000000e+00, 0.00000000e+00, 0.00000000e+00, 0.00000000e+00,\n",
      "       0.00000000e+00, 0.00000000e+00, 0.00000000e+00, 0.00000000e+00,\n",
      "       0.00000000e+00, 0.00000000e+00, 0.00000000e+00, 0.00000000e+00,\n",
      "       0.00000000e+00, 0.00000000e+00, 0.00000000e+00, 0.00000000e+00,\n",
      "       0.00000000e+00, 0.00000000e+00, 0.00000000e+00, 0.00000000e+00,\n",
      "       0.00000000e+00, 0.00000000e+00, 0.00000000e+00, 0.00000000e+00,\n",
      "       0.00000000e+00, 0.00000000e+00, 0.00000000e+00, 0.00000000e+00,\n",
      "       0.00000000e+00, 0.00000000e+00, 6.00000000e+00, 4.23333333e+02,\n",
      "       0.00000000e+00, 0.00000000e+00, 0.00000000e+00, 0.00000000e+00,\n",
      "       2.27666667e+00, 4.86666667e+01, 0.00000000e+00, 0.00000000e+00,\n",
      "       0.00000000e+00, 0.00000000e+00, 0.00000000e+00, 0.00000000e+00,\n",
      "       0.00000000e+00, 0.00000000e+00, 0.00000000e+00, 0.00000000e+00,\n",
      "       0.00000000e+00, 0.00000000e+00, 0.00000000e+00, 0.00000000e+00,\n",
      "       0.00000000e+00, 0.00000000e+00, 0.00000000e+00, 0.00000000e+00,\n",
      "       0.00000000e+00, 0.00000000e+00, 0.00000000e+00, 0.00000000e+00,\n",
      "       0.00000000e+00, 0.00000000e+00, 0.00000000e+00, 0.00000000e+00,\n",
      "       0.00000000e+00, 0.00000000e+00, 0.00000000e+00, 0.00000000e+00,\n",
      "       8.68333333e-01, 2.38333333e+01, 3.11666667e-01, 5.83333333e+00,\n",
      "       2.89833333e+00, 2.06666667e+01]), array([3.31833333e+00, 1.75500000e+02, 0.00000000e+00, 0.00000000e+00,\n",
      "       0.00000000e+00, 0.00000000e+00, 0.00000000e+00, 0.00000000e+00,\n",
      "       0.00000000e+00, 0.00000000e+00, 0.00000000e+00, 0.00000000e+00,\n",
      "       0.00000000e+00, 0.00000000e+00, 1.60000000e-01, 9.66666667e+00,\n",
      "       2.58500000e+00, 2.19666667e+02, 0.00000000e+00, 0.00000000e+00,\n",
      "       0.00000000e+00, 0.00000000e+00, 0.00000000e+00, 0.00000000e+00,\n",
      "       3.01666667e-01, 1.66666667e-01, 1.65000000e-01, 1.50000000e+00,\n",
      "       0.00000000e+00, 0.00000000e+00, 0.00000000e+00, 0.00000000e+00,\n",
      "       4.95000000e-01, 2.71666667e+01, 0.00000000e+00, 0.00000000e+00,\n",
      "       0.00000000e+00, 0.00000000e+00, 0.00000000e+00, 0.00000000e+00,\n",
      "       1.60000000e-01, 1.16666667e+00, 0.00000000e+00, 0.00000000e+00,\n",
      "       0.00000000e+00, 0.00000000e+00, 9.16666667e-02, 4.33333333e+00,\n",
      "       1.46833333e+00, 5.96666667e+01, 0.00000000e+00, 0.00000000e+00,\n",
      "       0.00000000e+00, 0.00000000e+00, 3.33333333e-01, 1.66666667e-01,\n",
      "       0.00000000e+00, 0.00000000e+00, 1.51666667e-01, 7.33333333e+00,\n",
      "       0.00000000e+00, 0.00000000e+00, 0.00000000e+00, 0.00000000e+00,\n",
      "       1.76333333e+00, 6.46333333e+03, 1.18333333e-01, 2.83333333e+00,\n",
      "       1.38333333e-01, 0.00000000e+00, 0.00000000e+00, 0.00000000e+00,\n",
      "       0.00000000e+00, 0.00000000e+00, 1.65000000e-01, 3.66666667e+00,\n",
      "       0.00000000e+00, 0.00000000e+00, 0.00000000e+00, 0.00000000e+00,\n",
      "       1.25833333e+00, 4.23333333e+01, 0.00000000e+00, 0.00000000e+00,\n",
      "       0.00000000e+00, 0.00000000e+00, 0.00000000e+00, 0.00000000e+00,\n",
      "       0.00000000e+00, 0.00000000e+00, 0.00000000e+00, 0.00000000e+00,\n",
      "       0.00000000e+00, 0.00000000e+00, 0.00000000e+00, 0.00000000e+00,\n",
      "       0.00000000e+00, 0.00000000e+00, 1.53333333e-01, 1.11666667e+01,\n",
      "       0.00000000e+00, 0.00000000e+00, 5.96666667e-01, 3.08333333e+01,\n",
      "       0.00000000e+00, 0.00000000e+00, 1.41666667e-01, 7.00000000e+00,\n",
      "       1.11666667e-01, 2.16666667e+00, 1.66666667e-01, 2.00000000e+00,\n",
      "       0.00000000e+00, 0.00000000e+00, 7.76666667e-01, 1.58333333e+01,\n",
      "       1.31666667e-01, 5.66666667e+00, 0.00000000e+00, 0.00000000e+00,\n",
      "       0.00000000e+00, 0.00000000e+00, 0.00000000e+00, 0.00000000e+00,\n",
      "       0.00000000e+00, 0.00000000e+00, 0.00000000e+00, 0.00000000e+00,\n",
      "       0.00000000e+00, 0.00000000e+00, 0.00000000e+00, 0.00000000e+00,\n",
      "       0.00000000e+00, 0.00000000e+00]), array([2.33333333e-02, 8.33333333e-01, 0.00000000e+00, 0.00000000e+00,\n",
      "       3.08333333e-01, 2.20000000e+01, 1.61666667e-01, 9.00000000e+00,\n",
      "       9.03333333e-01, 4.50000000e+01, 1.48333333e-01, 1.00000000e+00,\n",
      "       1.66666667e-01, 0.00000000e+00, 2.91666667e-01, 9.33333333e+00,\n",
      "       2.98333333e-01, 1.48333333e+01, 4.21666667e-01, 3.05000000e+01,\n",
      "       4.28333333e-01, 4.41666667e+01, 8.33333333e-02, 1.33333333e+00,\n",
      "       2.45000000e-01, 9.83333333e+00, 4.85000000e-01, 2.88333333e+01,\n",
      "       0.00000000e+00, 0.00000000e+00, 0.00000000e+00, 0.00000000e+00,\n",
      "       1.43333333e-01, 1.50000000e+00, 0.00000000e+00, 0.00000000e+00,\n",
      "       1.56666667e-01, 1.00000000e+00, 0.00000000e+00, 0.00000000e+00,\n",
      "       3.16666667e-01, 6.16666667e+00, 3.03333333e-01, 2.33333333e+00,\n",
      "       6.45000000e-01, 6.33333333e+00, 1.30000000e-01, 1.83333333e+00,\n",
      "       1.13333333e-01, 3.16666667e+00, 4.06666667e-01, 4.66666667e+00,\n",
      "       2.60000000e-01, 1.66666667e+00, 8.33333333e-02, 2.66666667e+00,\n",
      "       1.25000000e-01, 0.00000000e+00, 0.00000000e+00, 0.00000000e+00,\n",
      "       0.00000000e+00, 0.00000000e+00, 1.61666667e-01, 8.33333333e-01,\n",
      "       9.95000000e-01, 1.68333333e+01, 4.81666667e-01, 4.16666667e+00,\n",
      "       0.00000000e+00, 0.00000000e+00, 4.63333333e-01, 2.00000000e+00,\n",
      "       0.00000000e+00, 0.00000000e+00, 1.66666667e-01, 3.16666667e+00,\n",
      "       3.26666667e-01, 2.33333333e+00, 0.00000000e+00, 0.00000000e+00,\n",
      "       0.00000000e+00, 0.00000000e+00, 1.66666667e-01, 5.00000000e-01,\n",
      "       4.73333333e-01, 6.66666667e+00, 0.00000000e+00, 0.00000000e+00,\n",
      "       1.50000000e-01, 3.33333333e-01, 3.15000000e-01, 1.86666667e+01,\n",
      "       0.00000000e+00, 0.00000000e+00, 0.00000000e+00, 0.00000000e+00,\n",
      "       1.53333333e-01, 1.16666667e+00, 0.00000000e+00, 0.00000000e+00,\n",
      "       0.00000000e+00, 0.00000000e+00, 0.00000000e+00, 0.00000000e+00,\n",
      "       0.00000000e+00, 0.00000000e+00, 0.00000000e+00, 0.00000000e+00,\n",
      "       0.00000000e+00, 0.00000000e+00, 4.70000000e-01, 2.95000000e+01,\n",
      "       1.60000000e-01, 3.00000000e+00, 0.00000000e+00, 0.00000000e+00,\n",
      "       0.00000000e+00, 0.00000000e+00, 1.55000000e-01, 1.50000000e+00,\n",
      "       0.00000000e+00, 0.00000000e+00, 0.00000000e+00, 0.00000000e+00,\n",
      "       0.00000000e+00, 0.00000000e+00, 1.56666667e-01, 1.83333333e+00,\n",
      "       0.00000000e+00, 0.00000000e+00, 0.00000000e+00, 0.00000000e+00,\n",
      "       0.00000000e+00, 0.00000000e+00]), array([1.75333333e+00, 1.21666667e+02, 1.10333333e+00, 3.66666667e+00,\n",
      "       8.82666667e+00, 6.41000000e+02, 5.75833333e+00, 1.39000000e+02,\n",
      "       7.49833333e+00, 8.33333333e+00, 1.12000000e+00, 2.85000000e+01,\n",
      "       6.98333333e+00, 1.92666667e+02, 6.26166667e+00, 4.02666667e+02,\n",
      "       1.34833333e+00, 7.83333333e+01, 1.41016667e+01, 7.90000000e+02,\n",
      "       1.72383333e+01, 1.18516667e+03, 1.03500000e+00, 4.96666667e+01,\n",
      "       2.52000000e+00, 2.53333333e+01, 1.40833333e+00, 4.06666667e+01,\n",
      "       3.11833333e+00, 6.00000000e+01, 5.00000000e-01, 1.66666667e-01,\n",
      "       4.78333333e-01, 7.83333333e+00, 2.56000000e+00, 9.90000000e+01,\n",
      "       2.72666667e+00, 6.13333333e+01, 1.41000000e+00, 3.81666667e+01,\n",
      "       1.42500000e+00, 6.01666667e+01, 3.00833333e+00, 6.06666667e+01,\n",
      "       1.00000000e+00, 2.38333333e+01, 2.36166667e+00, 1.44500000e+02,\n",
      "       3.75000000e+00, 1.44000000e+02, 4.63333333e-01, 5.66666667e+00,\n",
      "       2.24500000e+00, 4.25000000e+01, 2.46666667e-01, 9.16666667e+00,\n",
      "       9.23333333e-01, 9.50000000e+00, 3.00833333e+00, 8.26666667e+01,\n",
      "       8.23333333e-01, 1.36666667e+01, 3.34000000e+00, 1.08166667e+02,\n",
      "       4.93333333e-01, 6.33333333e+00, 1.29333333e+00, 2.50000000e+01,\n",
      "       1.39333333e+00, 1.28333333e+01, 3.32000000e+00, 4.01666667e+01,\n",
      "       1.79166667e+00, 3.08333333e+01, 1.65333333e+00, 4.88333333e+01,\n",
      "       9.91666667e-01, 5.81666667e+01, 8.53333333e-01, 4.38333333e+01,\n",
      "       3.95333333e+00, 1.26166667e+02, 1.64000000e+00, 5.15000000e+01,\n",
      "       2.45000000e-01, 9.50000000e+00, 4.07666667e+00, 2.79166667e+02,\n",
      "       1.07333333e+00, 9.40000000e+01, 1.14000000e+01, 7.41166667e+02,\n",
      "       3.00000000e-01, 1.33333333e+00, 0.00000000e+00, 0.00000000e+00,\n",
      "       3.49000000e+00, 1.49333333e+02, 4.41666667e-01, 1.08333333e+01,\n",
      "       1.57666667e+00, 2.60000000e+01, 1.12500000e+00, 2.40000000e+01,\n",
      "       8.56666667e-01, 1.05000000e+01, 1.75500000e+00, 5.70000000e+01,\n",
      "       1.66666667e-01, 0.00000000e+00, 2.51500000e+00, 3.36666667e+01,\n",
      "       7.45000000e-01, 5.13333333e+01, 5.20000000e-01, 2.16666667e+01,\n",
      "       4.07333333e+00, 1.45833333e+02, 1.53333333e-01, 6.66666667e-01,\n",
      "       1.23166667e+00, 1.70000000e+01, 0.00000000e+00, 0.00000000e+00,\n",
      "       1.64333333e+00, 2.78333333e+01, 3.55000000e-01, 2.50000000e+00,\n",
      "       6.62666667e+00, 1.60500000e+02, 7.75000000e-01, 1.15000000e+01,\n",
      "       9.67333333e+00, 3.88333333e+01]), array([1.41666667e-01, 4.33333333e+00, 1.25000000e-01, 1.16666667e+00,\n",
      "       2.28333333e-01, 3.83333333e+00, 0.00000000e+00, 0.00000000e+00,\n",
      "       0.00000000e+00, 0.00000000e+00, 1.36666667e-01, 1.66666667e+00,\n",
      "       0.00000000e+00, 0.00000000e+00, 1.55000000e-01, 2.16666667e+00,\n",
      "       2.45000000e-01, 1.25000000e+01, 0.00000000e+00, 0.00000000e+00,\n",
      "       0.00000000e+00, 0.00000000e+00, 1.28333333e-01, 3.33333333e+00,\n",
      "       0.00000000e+00, 0.00000000e+00, 0.00000000e+00, 0.00000000e+00,\n",
      "       0.00000000e+00, 0.00000000e+00, 0.00000000e+00, 0.00000000e+00,\n",
      "       1.58333333e-01, 2.38333333e+01, 0.00000000e+00, 0.00000000e+00,\n",
      "       1.66666667e-01, 5.00000000e-01, 0.00000000e+00, 0.00000000e+00,\n",
      "       8.83333333e-02, 2.00000000e+00, 0.00000000e+00, 0.00000000e+00,\n",
      "       7.50000000e-01, 8.16666667e+00, 1.41666667e-01, 1.06666667e+01,\n",
      "       2.11666667e-01, 4.00000000e+00, 0.00000000e+00, 0.00000000e+00,\n",
      "       3.30000000e-01, 6.66666667e-01, 1.48333333e-01, 1.33333333e+00,\n",
      "       1.11666667e-01, 8.33333333e-01, 0.00000000e+00, 0.00000000e+00,\n",
      "       2.60000000e-01, 1.43333333e+01, 0.00000000e+00, 0.00000000e+00,\n",
      "       2.33333333e-02, 3.33333333e-01, 0.00000000e+00, 0.00000000e+00,\n",
      "       1.66666667e-01, 5.00000000e-01, 1.56666667e-01, 1.66666667e-01,\n",
      "       1.60000000e-01, 8.33333333e-01, 0.00000000e+00, 0.00000000e+00,\n",
      "       9.66666667e-02, 3.50000000e+00, 1.18333333e-01, 2.66666667e+00,\n",
      "       1.96666667e-01, 1.23333333e+01, 0.00000000e+00, 0.00000000e+00,\n",
      "       0.00000000e+00, 0.00000000e+00, 1.60000000e-01, 0.00000000e+00,\n",
      "       0.00000000e+00, 0.00000000e+00, 0.00000000e+00, 0.00000000e+00,\n",
      "       0.00000000e+00, 0.00000000e+00, 0.00000000e+00, 0.00000000e+00,\n",
      "       0.00000000e+00, 0.00000000e+00, 0.00000000e+00, 0.00000000e+00,\n",
      "       3.31666667e-01, 3.33333333e+00, 0.00000000e+00, 0.00000000e+00,\n",
      "       0.00000000e+00, 0.00000000e+00, 1.05000000e-01, 4.66666667e+00,\n",
      "       0.00000000e+00, 0.00000000e+00, 0.00000000e+00, 0.00000000e+00,\n",
      "       0.00000000e+00, 0.00000000e+00, 3.45000000e-01, 7.00000000e+00,\n",
      "       2.30000000e-01, 9.00000000e+00, 0.00000000e+00, 0.00000000e+00,\n",
      "       4.51666667e-01, 5.33333333e+00, 0.00000000e+00, 0.00000000e+00,\n",
      "       1.98333333e-01, 2.00000000e+00, 0.00000000e+00, 0.00000000e+00,\n",
      "       0.00000000e+00, 0.00000000e+00, 0.00000000e+00, 0.00000000e+00,\n",
      "       0.00000000e+00, 0.00000000e+00]), array([4.25000000e-01, 2.66666667e+01, 0.00000000e+00, 0.00000000e+00,\n",
      "       6.35000000e-01, 1.66666667e-01, 0.00000000e+00, 0.00000000e+00,\n",
      "       0.00000000e+00, 0.00000000e+00, 6.38333333e-01, 3.00000000e+00,\n",
      "       1.61666667e-01, 0.00000000e+00, 1.48333333e-01, 1.00000000e+00,\n",
      "       6.81666667e-01, 3.26666667e+01, 0.00000000e+00, 0.00000000e+00,\n",
      "       0.00000000e+00, 0.00000000e+00, 6.65000000e-01, 3.80000000e+01,\n",
      "       1.63333333e-01, 2.66666667e+00, 1.00833333e+00, 5.43333333e+01,\n",
      "       1.66666667e-01, 0.00000000e+00, 3.28333333e-01, 8.33333333e-01,\n",
      "       9.56666667e-01, 2.55000000e+01, 4.16666667e-02, 5.00000000e-01,\n",
      "       4.73333333e-01, 1.50000000e+00, 4.31666667e-01, 1.85000000e+01,\n",
      "       2.00000000e-01, 3.83333333e+00, 0.00000000e+00, 0.00000000e+00,\n",
      "       4.45000000e-01, 3.00000000e+00, 3.30000000e-01, 1.33333333e+00,\n",
      "       4.20000000e-01, 3.00000000e+01, 3.08333333e-01, 1.33333333e+00,\n",
      "       4.01666667e-01, 3.83333333e+00, 2.43333333e-01, 5.33333333e+00,\n",
      "       1.53000000e+00, 4.50000000e+01, 1.31666667e-01, 6.66666667e-01,\n",
      "       1.61666667e-01, 5.00000000e-01, 0.00000000e+00, 0.00000000e+00,\n",
      "       5.50000000e-01, 8.00000000e+00, 1.61666667e-01, 0.00000000e+00,\n",
      "       5.55000000e-01, 1.16666667e+00, 3.23333333e-01, 1.50000000e+00,\n",
      "       4.61666667e-01, 1.66666667e-01, 0.00000000e+00, 0.00000000e+00,\n",
      "       0.00000000e+00, 0.00000000e+00, 0.00000000e+00, 0.00000000e+00,\n",
      "       0.00000000e+00, 0.00000000e+00, 1.41666667e-01, 6.66666667e-01,\n",
      "       0.00000000e+00, 0.00000000e+00, 4.68333333e-01, 2.00000000e+00,\n",
      "       1.60000000e-01, 1.66666667e-01, 0.00000000e+00, 0.00000000e+00,\n",
      "       1.66666667e-01, 3.33333333e-01, 3.58333333e-01, 1.83333333e+00,\n",
      "       0.00000000e+00, 0.00000000e+00, 3.75000000e-01, 3.66666667e+00,\n",
      "       3.18333333e-01, 1.66666667e-01, 4.30000000e-01, 8.83333333e+00,\n",
      "       1.61666667e-01, 5.00000000e+00, 1.66666667e-01, 0.00000000e+00,\n",
      "       0.00000000e+00, 0.00000000e+00, 4.95000000e-01, 2.16666667e+00,\n",
      "       1.66666667e-01, 0.00000000e+00, 1.50000000e-01, 2.16666667e+00,\n",
      "       0.00000000e+00, 0.00000000e+00, 0.00000000e+00, 0.00000000e+00,\n",
      "       1.58333333e-01, 2.50000000e+00, 0.00000000e+00, 0.00000000e+00,\n",
      "       0.00000000e+00, 0.00000000e+00, 4.71666667e-01, 1.66666667e-01,\n",
      "       0.00000000e+00, 0.00000000e+00, 0.00000000e+00, 0.00000000e+00,\n",
      "       0.00000000e+00, 0.00000000e+00]), array([2.49666667e+00, 3.00000000e+01, 1.18333333e+00, 1.25000000e+01,\n",
      "       1.09166667e+00, 7.81666667e+01, 1.23166667e+00, 3.23333333e+01,\n",
      "       1.58333333e-01, 9.83333333e+00, 8.18333333e-01, 9.00000000e+00,\n",
      "       1.13666667e+01, 3.42333333e+02, 3.23000000e+00, 1.16500000e+02,\n",
      "       5.37833333e+00, 3.56666667e+02, 2.11833333e+00, 4.58333333e+01,\n",
      "       3.00000000e-01, 2.03333333e+01, 5.49000000e+00, 2.16166667e+02,\n",
      "       5.00666667e+00, 8.81666667e+01, 1.72500000e+00, 1.05666667e+02,\n",
      "       2.35166667e+00, 3.00000000e+00, 4.98333333e-01, 1.48333333e+01,\n",
      "       2.98000000e+00, 6.86666667e+01, 4.27333333e+00, 1.32833333e+02,\n",
      "       1.56333333e+00, 3.41666667e+01, 5.33666667e+00, 1.49166667e+02,\n",
      "       7.68500000e+00, 2.13666667e+02, 6.00000000e-01, 6.33333333e+00,\n",
      "       1.33000000e+00, 1.41666667e+01, 3.39333333e+00, 8.23333333e+01,\n",
      "       2.83666667e+00, 5.63333333e+01, 1.49000000e+00, 2.05000000e+01,\n",
      "       1.13666667e+00, 3.66666667e+00, 1.87000000e+00, 4.85000000e+01,\n",
      "       2.53833333e+00, 5.21666667e+01, 1.84333333e+00, 3.80000000e+01,\n",
      "       3.33333333e-01, 7.16666667e+00, 4.80000000e-01, 1.16666667e+01,\n",
      "       5.20333333e+00, 2.21833333e+02, 1.04833333e+00, 9.16666667e+00,\n",
      "       6.76666667e-01, 1.21666667e+01, 2.25166667e+00, 2.38333333e+01,\n",
      "       7.35000000e-01, 6.00000000e+00, 1.23833333e+01, 3.46666667e+02,\n",
      "       3.66333333e+00, 5.21666667e+01, 9.50000000e-01, 1.88333333e+01,\n",
      "       1.54866667e+01, 3.61000000e+02, 2.79000000e+00, 4.63333333e+01,\n",
      "       6.55000000e-01, 6.33333333e+00, 7.71666667e-01, 3.50000000e+00,\n",
      "       1.56666667e-01, 1.66666667e-01, 3.75000000e-01, 7.50000000e+00,\n",
      "       6.33333333e-01, 1.16666667e+00, 1.05500000e+00, 4.33333333e+00,\n",
      "       3.50166667e+00, 4.16666667e+01, 3.66333333e+00, 7.56666667e+01,\n",
      "       1.52333333e+00, 1.96666667e+01, 1.41166667e+00, 3.60000000e+01,\n",
      "       6.81166667e+00, 2.15666667e+02, 5.05333333e+00, 1.33333333e+02,\n",
      "       1.99666667e+00, 4.78333333e+01, 1.29000000e+00, 1.53333333e+01,\n",
      "       0.00000000e+00, 0.00000000e+00, 4.37833333e+00, 1.76500000e+02,\n",
      "       2.70333333e+00, 7.65000000e+01, 6.86666667e-01, 7.50000000e+00,\n",
      "       5.70000000e-01, 7.50000000e+00, 1.74500000e+00, 4.75000000e+01,\n",
      "       2.14000000e+00, 3.38333333e+01, 3.26666667e+00, 6.36666667e+01,\n",
      "       0.00000000e+00, 0.00000000e+00, 0.00000000e+00, 0.00000000e+00,\n",
      "       0.00000000e+00, 0.00000000e+00]), array([ 0.        ,  0.        ,  0.        ,  0.        ,  0.13      ,\n",
      "        8.66666667,  0.        ,  0.        ,  0.        ,  0.        ,\n",
      "        0.        ,  0.        ,  0.        ,  0.        ,  0.        ,\n",
      "        0.        ,  0.02833333,  1.83333333,  0.        ,  0.        ,\n",
      "        0.        ,  0.        ,  0.        ,  0.        ,  0.        ,\n",
      "        0.        ,  0.        ,  0.        ,  0.30166667,  0.66666667,\n",
      "        0.        ,  0.        ,  0.        ,  0.        ,  0.16666667,\n",
      "        0.16666667,  0.01333333,  3.16666667,  0.        ,  0.        ,\n",
      "        0.065     ,  3.        ,  0.        ,  0.        ,  0.        ,\n",
      "        0.        ,  0.57166667, 10.16666667,  0.37333333,  3.5       ,\n",
      "        0.15833333,  3.33333333,  0.        ,  0.        ,  0.16666667,\n",
      "        0.        ,  0.        ,  0.        ,  0.        ,  0.        ,\n",
      "        0.        ,  0.        ,  0.        ,  0.        ,  0.        ,\n",
      "        0.        ,  0.        ,  0.        ,  0.        ,  0.        ,\n",
      "        0.04166667,  1.        ,  0.        ,  0.        ,  0.        ,\n",
      "        0.        ,  0.        ,  0.        ,  0.        ,  0.        ,\n",
      "        0.        ,  0.        ,  0.        ,  0.        ,  0.        ,\n",
      "        0.        ,  0.        ,  0.        ,  0.        ,  0.        ,\n",
      "        0.        ,  0.        ,  0.        ,  0.        ,  0.        ,\n",
      "        0.        ,  0.        ,  0.        ,  0.05      ,  3.66666667,\n",
      "        0.        ,  0.        ,  0.        ,  0.        ,  0.        ,\n",
      "        0.        ,  0.15666667,  5.5       ,  0.14166667,  4.83333333,\n",
      "        0.33333333,  3.        ,  0.        ,  0.        ,  0.        ,\n",
      "        0.        ,  0.        ,  0.        ,  0.        ,  0.        ,\n",
      "        0.16666667,  0.16666667,  0.        ,  0.        ,  0.16666667,\n",
      "        0.        ,  0.        ,  0.        ,  0.        ,  0.        ,\n",
      "        0.        ,  0.        ,  0.        ,  0.        ]), array([4.83333333e-01, 8.33333333e-01, 0.00000000e+00, 0.00000000e+00,\n",
      "       1.73500000e+00, 3.41666667e+01, 1.28666667e+00, 8.89500000e+02,\n",
      "       1.90500000e+00, 3.76666667e+01, 6.33333333e-01, 9.16666667e+00,\n",
      "       8.16666667e-01, 7.83333333e+00, 4.38333333e-01, 1.68333333e+01,\n",
      "       4.50000000e-01, 3.00000000e+00, 7.08333333e-01, 8.83333333e+00,\n",
      "       4.80000000e-01, 1.53333333e+01, 3.13333333e-01, 6.66666667e-01,\n",
      "       4.93333333e-01, 2.16666667e+00, 0.00000000e+00, 0.00000000e+00,\n",
      "       0.00000000e+00, 0.00000000e+00, 0.00000000e+00, 0.00000000e+00,\n",
      "       9.50000000e-02, 6.00000000e+00, 1.61666667e-01, 4.66666667e+00,\n",
      "       1.24500000e+00, 6.83333333e+00, 3.33333333e-01, 0.00000000e+00,\n",
      "       8.36666667e-01, 1.53333333e+01, 4.93333333e-01, 1.66666667e+00,\n",
      "       6.10000000e-01, 5.33333333e+00, 7.80000000e-01, 5.43333333e+01,\n",
      "       0.00000000e+00, 0.00000000e+00, 0.00000000e+00, 0.00000000e+00,\n",
      "       1.66666667e-01, 8.33333333e-01, 0.00000000e+00, 0.00000000e+00,\n",
      "       8.33333333e-02, 2.00000000e+00, 0.00000000e+00, 0.00000000e+00,\n",
      "       1.66666667e-01, 1.66666667e-01, 6.41666667e-01, 2.33333333e+00,\n",
      "       3.30000000e-01, 3.33333333e-01, 1.61666667e-01, 1.66666667e-01,\n",
      "       3.28333333e-01, 8.33333333e-01, 4.80000000e-01, 3.50000000e+00,\n",
      "       3.31666667e-01, 2.50000000e+00, 1.31666667e-01, 1.66666667e+00,\n",
      "       0.00000000e+00, 0.00000000e+00, 0.00000000e+00, 0.00000000e+00,\n",
      "       0.00000000e+00, 0.00000000e+00, 3.33333333e-01, 3.33333333e-01,\n",
      "       1.66666667e-01, 1.00000000e+00, 1.66666667e-01, 2.83333333e+00,\n",
      "       0.00000000e+00, 0.00000000e+00, 7.50000000e-01, 2.13333333e+01,\n",
      "       1.60000000e-01, 5.00000000e-01, 1.43333333e-01, 4.66666667e+00,\n",
      "       0.00000000e+00, 0.00000000e+00, 0.00000000e+00, 0.00000000e+00,\n",
      "       4.96666667e-01, 3.83333333e+00, 4.83333333e-01, 2.66666667e+00,\n",
      "       0.00000000e+00, 0.00000000e+00, 0.00000000e+00, 0.00000000e+00,\n",
      "       0.00000000e+00, 0.00000000e+00, 1.66666667e-01, 0.00000000e+00,\n",
      "       3.26666667e-01, 6.66666667e+00, 0.00000000e+00, 0.00000000e+00,\n",
      "       0.00000000e+00, 0.00000000e+00, 0.00000000e+00, 0.00000000e+00,\n",
      "       0.00000000e+00, 0.00000000e+00, 1.61666667e-01, 2.00000000e+00,\n",
      "       0.00000000e+00, 0.00000000e+00, 1.55000000e-01, 3.33333333e+00,\n",
      "       1.66666667e-01, 6.66666667e-01, 0.00000000e+00, 0.00000000e+00,\n",
      "       0.00000000e+00, 0.00000000e+00]), array([4.00000000e-02, 3.33333333e+00, 0.00000000e+00, 0.00000000e+00,\n",
      "       0.00000000e+00, 0.00000000e+00, 0.00000000e+00, 0.00000000e+00,\n",
      "       0.00000000e+00, 0.00000000e+00, 0.00000000e+00, 0.00000000e+00,\n",
      "       0.00000000e+00, 0.00000000e+00, 0.00000000e+00, 0.00000000e+00,\n",
      "       4.14166667e+00, 2.00000000e+02, 0.00000000e+00, 0.00000000e+00,\n",
      "       0.00000000e+00, 0.00000000e+00, 0.00000000e+00, 0.00000000e+00,\n",
      "       0.00000000e+00, 0.00000000e+00, 0.00000000e+00, 0.00000000e+00,\n",
      "       0.00000000e+00, 0.00000000e+00, 0.00000000e+00, 0.00000000e+00,\n",
      "       1.48333333e-01, 0.00000000e+00, 1.66666667e-01, 0.00000000e+00,\n",
      "       0.00000000e+00, 0.00000000e+00, 0.00000000e+00, 0.00000000e+00,\n",
      "       0.00000000e+00, 0.00000000e+00, 0.00000000e+00, 0.00000000e+00,\n",
      "       1.65000000e-01, 5.00000000e+00, 0.00000000e+00, 0.00000000e+00,\n",
      "       2.81666667e-01, 1.53333333e+01, 0.00000000e+00, 0.00000000e+00,\n",
      "       0.00000000e+00, 0.00000000e+00, 0.00000000e+00, 0.00000000e+00,\n",
      "       0.00000000e+00, 0.00000000e+00, 0.00000000e+00, 0.00000000e+00,\n",
      "       0.00000000e+00, 0.00000000e+00, 0.00000000e+00, 0.00000000e+00,\n",
      "       3.00000000e-01, 1.33333333e+00, 0.00000000e+00, 0.00000000e+00,\n",
      "       0.00000000e+00, 0.00000000e+00, 0.00000000e+00, 0.00000000e+00,\n",
      "       1.31666667e-01, 5.00000000e-01, 1.61666667e-01, 1.13333333e+01,\n",
      "       0.00000000e+00, 0.00000000e+00, 0.00000000e+00, 0.00000000e+00,\n",
      "       0.00000000e+00, 0.00000000e+00, 4.54500000e+00, 1.33166667e+02,\n",
      "       0.00000000e+00, 0.00000000e+00, 0.00000000e+00, 0.00000000e+00,\n",
      "       0.00000000e+00, 0.00000000e+00, 0.00000000e+00, 0.00000000e+00,\n",
      "       0.00000000e+00, 0.00000000e+00, 1.36666667e-01, 3.66666667e+00,\n",
      "       0.00000000e+00, 0.00000000e+00, 0.00000000e+00, 0.00000000e+00,\n",
      "       0.00000000e+00, 0.00000000e+00, 0.00000000e+00, 0.00000000e+00,\n",
      "       0.00000000e+00, 0.00000000e+00, 2.56833333e+00, 1.09666667e+02,\n",
      "       0.00000000e+00, 0.00000000e+00, 0.00000000e+00, 0.00000000e+00,\n",
      "       0.00000000e+00, 0.00000000e+00, 0.00000000e+00, 0.00000000e+00,\n",
      "       4.65000000e-01, 2.83333333e+01, 0.00000000e+00, 0.00000000e+00,\n",
      "       0.00000000e+00, 0.00000000e+00, 0.00000000e+00, 0.00000000e+00,\n",
      "       0.00000000e+00, 0.00000000e+00, 1.66666667e-01, 0.00000000e+00,\n",
      "       0.00000000e+00, 0.00000000e+00, 0.00000000e+00, 0.00000000e+00,\n",
      "       0.00000000e+00, 0.00000000e+00]), array([7.90000000e-01, 1.83333333e+01, 0.00000000e+00, 0.00000000e+00,\n",
      "       0.00000000e+00, 0.00000000e+00, 0.00000000e+00, 0.00000000e+00,\n",
      "       0.00000000e+00, 0.00000000e+00, 1.66666667e-01, 0.00000000e+00,\n",
      "       0.00000000e+00, 0.00000000e+00, 0.00000000e+00, 0.00000000e+00,\n",
      "       0.00000000e+00, 0.00000000e+00, 0.00000000e+00, 0.00000000e+00,\n",
      "       0.00000000e+00, 0.00000000e+00, 2.90000000e-01, 2.05000000e+01,\n",
      "       0.00000000e+00, 0.00000000e+00, 0.00000000e+00, 0.00000000e+00,\n",
      "       1.66666667e-01, 0.00000000e+00, 0.00000000e+00, 0.00000000e+00,\n",
      "       9.33333333e-02, 8.33333333e-01, 0.00000000e+00, 0.00000000e+00,\n",
      "       1.18333333e-01, 1.08333333e+01, 0.00000000e+00, 0.00000000e+00,\n",
      "       1.66666667e-02, 2.50000000e+00, 0.00000000e+00, 0.00000000e+00,\n",
      "       0.00000000e+00, 0.00000000e+00, 0.00000000e+00, 0.00000000e+00,\n",
      "       2.60000000e-01, 1.33333333e+00, 0.00000000e+00, 0.00000000e+00,\n",
      "       0.00000000e+00, 0.00000000e+00, 0.00000000e+00, 0.00000000e+00,\n",
      "       5.56666667e-01, 1.96666667e+01, 3.33333333e-01, 0.00000000e+00,\n",
      "       0.00000000e+00, 0.00000000e+00, 0.00000000e+00, 0.00000000e+00,\n",
      "       3.31666667e-01, 2.33333333e+00, 0.00000000e+00, 0.00000000e+00,\n",
      "       0.00000000e+00, 0.00000000e+00, 0.00000000e+00, 0.00000000e+00,\n",
      "       1.66666667e-01, 0.00000000e+00, 0.00000000e+00, 0.00000000e+00,\n",
      "       0.00000000e+00, 0.00000000e+00, 0.00000000e+00, 0.00000000e+00,\n",
      "       3.33333333e-01, 1.66666667e-01, 0.00000000e+00, 0.00000000e+00,\n",
      "       0.00000000e+00, 0.00000000e+00, 0.00000000e+00, 0.00000000e+00,\n",
      "       0.00000000e+00, 0.00000000e+00, 0.00000000e+00, 0.00000000e+00,\n",
      "       0.00000000e+00, 0.00000000e+00, 0.00000000e+00, 0.00000000e+00,\n",
      "       0.00000000e+00, 0.00000000e+00, 1.58333333e-01, 2.66666667e+00,\n",
      "       0.00000000e+00, 0.00000000e+00, 1.56666667e-01, 1.65000000e+01,\n",
      "       0.00000000e+00, 0.00000000e+00, 0.00000000e+00, 0.00000000e+00,\n",
      "       0.00000000e+00, 0.00000000e+00, 3.33333333e-01, 0.00000000e+00,\n",
      "       0.00000000e+00, 0.00000000e+00, 5.83333333e-02, 8.50000000e+00,\n",
      "       0.00000000e+00, 0.00000000e+00, 0.00000000e+00, 0.00000000e+00,\n",
      "       0.00000000e+00, 0.00000000e+00, 0.00000000e+00, 0.00000000e+00,\n",
      "       0.00000000e+00, 0.00000000e+00, 2.76666667e-01, 6.66666667e+00,\n",
      "       0.00000000e+00, 0.00000000e+00, 0.00000000e+00, 0.00000000e+00,\n",
      "       0.00000000e+00, 0.00000000e+00]), array([ 0.28333333,  5.        ,  0.        ,  0.        ,  1.115     ,\n",
      "       29.16666667,  0.63333333, 28.5       ,  0.        ,  0.        ,\n",
      "        0.15833333,  0.66666667,  1.33666667, 33.66666667,  0.62      ,\n",
      "       38.16666667,  0.        ,  0.        ,  0.93833333, 19.5       ,\n",
      "        0.425     , 27.5       ,  0.27833333,  2.        ,  1.52666667,\n",
      "       28.33333333,  0.        ,  0.        ,  0.46333333,  3.66666667,\n",
      "        0.495     , 15.33333333,  0.        ,  0.        ,  0.16166667,\n",
      "        0.        ,  1.62833333, 28.5       ,  0.        ,  0.        ,\n",
      "        0.86666667, 17.66666667,  0.79333333,  6.66666667,  0.305     ,\n",
      "        1.5       ,  1.05666667, 13.83333333,  0.        ,  0.        ,\n",
      "        0.49166667,  3.        ,  0.65333333, 10.83333333,  0.155     ,\n",
      "        4.83333333,  0.49166667,  3.5       ,  0.16      ,  5.5       ,\n",
      "        0.94      , 16.66666667,  0.        ,  0.        ,  0.        ,\n",
      "        0.        ,  1.46666667, 23.66666667,  0.38      ,  2.        ,\n",
      "        1.16666667, 18.33333333,  2.50166667, 22.66666667,  0.        ,\n",
      "        0.        ,  0.60333333,  3.5       ,  0.61166667,  2.33333333,\n",
      "        0.        ,  0.        ,  0.        ,  0.        ,  0.32333333,\n",
      "        2.16666667,  0.66      ,  4.5       ,  0.31333333,  5.16666667,\n",
      "        0.79      , 29.16666667,  0.        ,  0.        ,  0.        ,\n",
      "        0.        ,  0.16333333,  1.66666667,  0.305     , 13.83333333,\n",
      "        0.78833333, 15.5       ,  0.45833333,  4.5       ,  0.        ,\n",
      "        0.        ,  0.16666667,  3.16666667,  0.275     ,  2.        ,\n",
      "        0.325     ,  2.66666667,  0.        ,  0.        ,  0.        ,\n",
      "        0.        ,  0.        ,  0.        ,  0.        ,  0.        ,\n",
      "        0.32833333,  0.5       ,  0.        ,  0.        ,  0.        ,\n",
      "        0.        ,  0.        ,  0.        ,  0.11166667,  2.33333333,\n",
      "        0.        ,  0.        ,  0.16666667,  4.        ]), array([0.        , 0.        , 0.135     , 0.16666667, 0.        ,\n",
      "       0.        , 0.        , 0.        , 0.        , 0.        ,\n",
      "       0.        , 0.        , 0.        , 0.        , 0.        ,\n",
      "       0.        , 0.12833333, 2.83333333, 0.        , 0.        ,\n",
      "       0.        , 0.        , 0.        , 0.        , 0.        ,\n",
      "       0.        , 0.        , 0.        , 0.        , 0.        ,\n",
      "       0.16666667, 0.        , 0.        , 0.        , 0.        ,\n",
      "       0.        , 0.08333333, 0.        , 0.        , 0.        ,\n",
      "       0.        , 0.        , 0.16666667, 0.66666667, 0.        ,\n",
      "       0.        , 0.        , 0.        , 0.        , 0.        ,\n",
      "       0.        , 0.        , 0.16166667, 6.        , 0.        ,\n",
      "       0.        , 0.        , 0.        , 0.25333333, 0.66666667,\n",
      "       0.        , 0.        , 0.        , 0.        , 0.        ,\n",
      "       0.        , 0.        , 0.        , 0.        , 0.        ,\n",
      "       0.        , 0.        , 0.        , 0.        , 0.        ,\n",
      "       0.        , 0.        , 0.        , 0.        , 0.        ,\n",
      "       0.        , 0.        , 0.16666667, 0.16666667, 0.16666667,\n",
      "       2.33333333, 0.        , 0.        , 0.        , 0.        ,\n",
      "       0.        , 0.        , 0.        , 0.        , 0.        ,\n",
      "       0.        , 0.        , 0.        , 0.04166667, 1.16666667,\n",
      "       0.        , 0.        , 0.14666667, 0.33333333, 0.        ,\n",
      "       0.        , 0.        , 0.        , 0.        , 0.        ,\n",
      "       0.        , 0.        , 0.        , 0.        , 0.        ,\n",
      "       0.        , 0.        , 0.        , 0.        , 0.        ,\n",
      "       0.        , 0.        , 0.        , 0.        , 0.        ,\n",
      "       0.        , 0.        , 0.        , 0.        , 0.        ,\n",
      "       0.        , 0.        , 0.        , 0.        ]), array([ 0.        ,  0.        ,  0.16666667,  0.        ,  0.16666667,\n",
      "        0.        ,  0.16666667,  0.        ,  0.5       ,  0.        ,\n",
      "        0.33333333,  0.16666667,  0.        ,  0.        ,  0.        ,\n",
      "        0.        ,  0.06333333,  1.33333333,  0.        ,  0.        ,\n",
      "        0.66333333, 21.        ,  0.16666667,  0.        ,  0.32      ,\n",
      "       27.33333333,  0.16666667,  0.        ,  0.        ,  0.        ,\n",
      "        0.        ,  0.        ,  0.16666667,  0.        ,  0.        ,\n",
      "        0.        ,  0.        ,  0.        ,  0.        ,  0.        ,\n",
      "        0.        ,  0.        ,  0.16666667,  0.        ,  0.16666667,\n",
      "        0.        ,  0.        ,  0.        ,  0.        ,  0.        ,\n",
      "        0.        ,  0.        ,  0.31666667,  2.16666667,  0.        ,\n",
      "        0.        ,  0.        ,  0.        ,  0.13166667,  2.        ,\n",
      "        0.        ,  0.        ,  0.        ,  0.        ,  0.16666667,\n",
      "        0.        ,  0.        ,  0.        ,  0.16666667,  1.16666667,\n",
      "        0.        ,  0.        ,  0.135     ,  0.        ,  0.        ,\n",
      "        0.        ,  0.        ,  0.        ,  0.        ,  0.        ,\n",
      "        0.        ,  0.        ,  0.        ,  0.        ,  0.        ,\n",
      "        0.        ,  0.        ,  0.        ,  0.08333333,  0.        ,\n",
      "        0.        ,  0.        ,  0.        ,  0.        ,  0.16666667,\n",
      "        0.        ,  0.        ,  0.        ,  0.        ,  0.        ,\n",
      "        0.        ,  0.        ,  0.        ,  0.        ,  0.        ,\n",
      "        0.        ,  0.        ,  0.        ,  0.        ,  0.        ,\n",
      "        0.16666667,  0.        ,  0.        ,  0.        ,  0.33333333,\n",
      "        0.        ,  0.        ,  0.        ,  0.        ,  0.        ,\n",
      "        0.16666667,  0.        ,  0.        ,  0.        ,  0.        ,\n",
      "        0.        ,  0.16666667,  0.16666667,  0.        ,  0.        ,\n",
      "        0.        ,  0.        ,  0.        ,  0.        ])]\n"
     ]
    }
   ],
   "source": [
    "print([k for k in ns_repr[21:50]])"
   ]
  },
  {
   "cell_type": "code",
   "execution_count": 146,
   "metadata": {},
   "outputs": [],
   "source": [
    "svd = TruncatedSVD(n_components=100) #, n_iter=7, random_state=42)\n",
    "# svd = PCA(n_components=len(ns_repr[0]))"
   ]
  },
  {
   "cell_type": "code",
   "execution_count": 147,
   "metadata": {},
   "outputs": [],
   "source": [
    "# fit1 = svd.fit(ns_repr)\n",
    "fit1 = svd.fit(csr_matrix(ns_repr))"
   ]
  },
  {
   "cell_type": "code",
   "execution_count": 148,
   "metadata": {},
   "outputs": [],
   "source": [
    "explained_var = svd.explained_variance_ratio_"
   ]
  },
  {
   "cell_type": "code",
   "execution_count": 149,
   "metadata": {},
   "outputs": [
    {
     "data": {
      "text/plain": [
       "array([9.30223255e-01, 6.01425035e-02, 7.99945741e-03, 1.20864683e-03,\n",
       "       1.47630568e-04, 1.16506721e-04, 5.34138879e-05, 4.10697959e-05,\n",
       "       2.64056221e-05, 1.04823521e-05, 5.81781333e-06, 4.87780154e-06,\n",
       "       3.83356568e-06, 3.35688260e-06, 2.39733417e-06, 2.11284128e-06,\n",
       "       1.70117701e-06, 1.09853147e-06, 8.30769749e-07, 6.90737806e-07,\n",
       "       5.98901402e-07, 4.70056693e-07, 3.98113068e-07, 3.81584634e-07,\n",
       "       3.51230645e-07, 2.53876230e-07, 1.94814443e-07, 1.60799457e-07,\n",
       "       1.61289050e-07, 1.32634569e-07, 1.22299744e-07, 1.19285314e-07,\n",
       "       8.48522851e-08, 6.90771681e-08, 5.56946781e-08, 5.06280473e-08,\n",
       "       4.71516680e-08, 3.41662803e-08, 3.38489817e-08, 2.98927029e-08,\n",
       "       2.48367667e-08, 1.95155095e-08, 1.80253684e-08, 1.44359578e-08,\n",
       "       1.27201073e-08, 1.11749544e-08, 8.91822326e-09, 8.50078527e-09,\n",
       "       7.03065761e-09, 5.79037307e-09, 4.87072808e-09, 4.22187432e-09,\n",
       "       3.15979257e-09, 2.85824219e-09, 2.66200483e-09, 1.99835310e-09,\n",
       "       1.86086075e-09, 1.36887629e-09, 1.29995168e-09, 1.05058493e-09,\n",
       "       9.54001752e-10, 8.08832793e-10, 5.50176272e-10, 4.17038982e-10,\n",
       "       3.82032252e-10, 2.64843179e-10, 2.08506902e-10, 1.55498339e-10,\n",
       "       1.15076474e-10, 9.56111282e-11, 5.83630075e-11, 3.64565971e-11,\n",
       "       2.83343092e-11, 2.10411897e-11, 1.69959429e-11, 1.39603308e-11,\n",
       "       1.25750883e-11, 9.06842403e-12, 7.30379340e-12, 5.53968452e-12,\n",
       "       4.40429797e-12, 3.41783688e-12, 2.41960158e-12, 1.73960156e-12,\n",
       "       1.35031245e-12])"
      ]
     },
     "execution_count": 149,
     "metadata": {},
     "output_type": "execute_result"
    }
   ],
   "source": [
    "explained_var"
   ]
  },
  {
   "cell_type": "code",
   "execution_count": 150,
   "metadata": {},
   "outputs": [
    {
     "data": {
      "text/plain": [
       "85"
      ]
     },
     "execution_count": 150,
     "metadata": {},
     "output_type": "execute_result"
    }
   ],
   "source": [
    "len(explained_var)"
   ]
  },
  {
   "cell_type": "code",
   "execution_count": 151,
   "metadata": {},
   "outputs": [
    {
     "data": {
      "text/plain": [
       "1.0"
      ]
     },
     "execution_count": 151,
     "metadata": {},
     "output_type": "execute_result"
    }
   ],
   "source": [
    "fit1.explained_variance_ratio_.sum()"
   ]
  },
  {
   "cell_type": "code",
   "execution_count": 152,
   "metadata": {},
   "outputs": [],
   "source": [
    "explained_var_sums = [sum(explained_var[:d]) for d in range(len(ns_repr))]"
   ]
  },
  {
   "cell_type": "code",
   "execution_count": 153,
   "metadata": {},
   "outputs": [
    {
     "data": {
      "text/plain": [
       "[0,\n",
       " 0.9302232551723241,\n",
       " 0.9903657586850674,\n",
       " 0.9983652160964581,\n",
       " 0.9995738629270913,\n",
       " 0.9997214934951031,\n",
       " 0.9998380002157284,\n",
       " 0.9998914141036473,\n",
       " 0.9999324838995707,\n",
       " 0.9999588895216767,\n",
       " 0.9999693718737499,\n",
       " 0.999975189687082,\n",
       " 0.9999800674886268,\n",
       " 0.9999839010543053,\n",
       " 0.9999872579369052,\n",
       " 0.9999896552710762,\n",
       " 0.999991768112352,\n",
       " 0.9999934692893576,\n",
       " 0.9999945678208261,\n",
       " 0.9999953985905747,\n",
       " 0.9999960893283805,\n",
       " 0.9999966882297825,\n",
       " 0.9999971582864758,\n",
       " 0.9999975563995437,\n",
       " 0.9999979379841774,\n",
       " 0.9999982892148221,\n",
       " 0.9999985430910517,\n",
       " 0.9999987379054942,\n",
       " 0.9999988987049515,\n",
       " 0.9999990599940014,\n",
       " 0.9999991926285705,\n",
       " 0.9999993149283143,\n",
       " 0.9999994342136278,\n",
       " 0.9999995190659129,\n",
       " 0.999999588143081,\n",
       " 0.9999996438377591,\n",
       " 0.9999996944658064,\n",
       " 0.9999997416174744,\n",
       " 0.9999997757837547,\n",
       " 0.9999998096327364,\n",
       " 0.9999998395254394,\n",
       " 0.9999998643622061,\n",
       " 0.9999998838777157,\n",
       " 0.9999999019030841,\n",
       " 0.9999999163390418,\n",
       " 0.9999999290591491,\n",
       " 0.9999999402341035,\n",
       " 0.9999999491523268,\n",
       " 0.9999999576531121,\n",
       " 0.9999999646837697,\n",
       " 0.9999999704741428,\n",
       " 0.9999999753448708,\n",
       " 0.9999999795667451,\n",
       " 0.9999999827265377,\n",
       " 0.9999999855847799,\n",
       " 0.9999999882467847,\n",
       " 0.9999999902451379,\n",
       " 0.9999999921059987,\n",
       " 0.9999999934748749,\n",
       " 0.9999999947748266,\n",
       " 0.9999999958254115,\n",
       " 0.9999999967794133,\n",
       " 0.9999999975882461,\n",
       " 0.9999999981384223,\n",
       " 0.9999999985554613,\n",
       " 0.9999999989374936,\n",
       " 0.9999999992023367,\n",
       " 0.9999999994108436,\n",
       " 0.999999999566342,\n",
       " 0.9999999996814185,\n",
       " 0.9999999997770296,\n",
       " 0.9999999998353926,\n",
       " 0.9999999998718492,\n",
       " 0.9999999999001835,\n",
       " 0.9999999999212247,\n",
       " 0.9999999999382206,\n",
       " 0.9999999999521809,\n",
       " 0.999999999964756,\n",
       " 0.9999999999738244,\n",
       " 0.9999999999811282,\n",
       " 0.9999999999866679,\n",
       " 0.9999999999910721,\n",
       " 0.99999999999449,\n",
       " 0.9999999999969096,\n",
       " 0.9999999999986492]"
      ]
     },
     "execution_count": 153,
     "metadata": {},
     "output_type": "execute_result"
    }
   ],
   "source": [
    "explained_var_sums"
   ]
  },
  {
   "cell_type": "code",
   "execution_count": 155,
   "metadata": {
    "scrolled": false
   },
   "outputs": [
    {
     "data": {
      "text/plain": [
       "<AxesSubplot:>"
      ]
     },
     "execution_count": 155,
     "metadata": {},
     "output_type": "execute_result"
    },
    {
     "data": {
      "image/png": "[encoded data removed]",
      "text/plain": [
       "<Figure size 432x288 with 1 Axes>"
      ]
     },
     "metadata": {},
     "output_type": "display_data"
    }
   ],
   "source": [
    "sns.lineplot(x=range(len(explained_var_sums)), y=explained_var_sums)"
   ]
  },
  {
   "cell_type": "markdown",
   "metadata": {},
   "source": [
    "Now, I will cast those list representation values to be numpy arrays so I can preprocess them easily. Further, I will normalize each array."
   ]
  },
  {
   "cell_type": "markdown",
   "metadata": {},
   "source": [
    "*side note: `preprocessing.normalize` vs `standardscaler`*"
   ]
  },
  {
   "cell_type": "code",
   "execution_count": 156,
   "metadata": {},
   "outputs": [
    {
     "data": {
      "text/plain": [
       "array([[0.00999301, 0.99930073, 0.01998601, 0.02997902]])"
      ]
     },
     "execution_count": 156,
     "metadata": {},
     "output_type": "execute_result"
    }
   ],
   "source": [
    "preprocessing.normalize(np.array([[1,100,2,3]]))"
   ]
  },
  {
   "cell_type": "code",
   "execution_count": 157,
   "metadata": {},
   "outputs": [
    {
     "data": {
      "text/plain": [
       "array([[0., 0., 0., 0.]])"
      ]
     },
     "execution_count": 157,
     "metadata": {},
     "output_type": "execute_result"
    }
   ],
   "source": [
    "scaler = StandardScaler()\n",
    "scaler.fit_transform(np.array([[1,100,2,3]]))"
   ]
  },
  {
   "cell_type": "markdown",
   "metadata": {},
   "source": [
    "Now I'm thinking, should I *normalize* or *standardize*?"
   ]
  },
  {
   "cell_type": "code",
   "execution_count": 158,
   "metadata": {},
   "outputs": [],
   "source": [
    "# for ns in ns_sr_rep:\n",
    "#     rep = ns_sr_rep[ns]\n",
    "#     ns_sr_rep[ns] = preprocessing.normalize(np.array([rep]))"
   ]
  },
  {
   "cell_type": "markdown",
   "metadata": {},
   "source": [
    "## K-Means\n",
    "\n",
    "Without standardization.\n",
    "\n",
    "First, I need to find optimum `k`."
   ]
  },
  {
   "cell_type": "code",
   "execution_count": 159,
   "metadata": {},
   "outputs": [],
   "source": [
    "ns_repr_new = fit1.transform(ns_repr)"
   ]
  },
  {
   "cell_type": "code",
   "execution_count": 162,
   "metadata": {},
   "outputs": [],
   "source": [
    "ns_repr_new = [k[:2] for k in ns_repr_new]"
   ]
  },
  {
   "cell_type": "code",
   "execution_count": 163,
   "metadata": {},
   "outputs": [],
   "source": [
    "kmeans = KMeans(init = \"k-means++\",\n",
    "               n_clusters = 5,\n",
    "               n_init = 10,\n",
    "               max_iter = 100)"
   ]
  },
  {
   "cell_type": "markdown",
   "metadata": {},
   "source": [
    "Freezing the list for representations and the news sources."
   ]
  },
  {
   "cell_type": "code",
   "execution_count": 164,
   "metadata": {},
   "outputs": [
    {
     "data": {
      "text/plain": [
       "KMeans(max_iter=100, n_clusters=5)"
      ]
     },
     "execution_count": 164,
     "metadata": {},
     "output_type": "execute_result"
    }
   ],
   "source": [
    "kmeans.fit([v for v in ns_repr_new])"
   ]
  },
  {
   "cell_type": "code",
   "execution_count": 165,
   "metadata": {},
   "outputs": [
    {
     "ename": "NameError",
     "evalue": "name 'ns_fixed' is not defined",
     "output_type": "error",
     "traceback": [
      "\u001b[1;31m---------------------------------------------------------------------------\u001b[0m",
      "\u001b[1;31mNameError\u001b[0m                                 Traceback (most recent call last)",
      "\u001b[1;32m<ipython-input-165-a47604cf4bf1>\u001b[0m in \u001b[0;36m<module>\u001b[1;34m\u001b[0m\n\u001b[1;32m----> 1\u001b[1;33m \u001b[1;32mfor\u001b[0m \u001b[0mi\u001b[0m\u001b[1;33m,\u001b[0m\u001b[0mns\u001b[0m \u001b[1;32min\u001b[0m \u001b[0menumerate\u001b[0m\u001b[1;33m(\u001b[0m\u001b[0mns_fixed\u001b[0m\u001b[1;33m)\u001b[0m\u001b[1;33m:\u001b[0m\u001b[1;33m\u001b[0m\u001b[1;33m\u001b[0m\u001b[0m\n\u001b[0m\u001b[0;32m      2\u001b[0m     \u001b[1;32mif\u001b[0m \u001b[1;33m(\u001b[0m\u001b[0mns_sr_rep\u001b[0m\u001b[1;33m[\u001b[0m\u001b[0mns\u001b[0m\u001b[1;33m]\u001b[0m \u001b[1;33m==\u001b[0m \u001b[0mns_repr\u001b[0m\u001b[1;33m[\u001b[0m\u001b[0mi\u001b[0m\u001b[1;33m]\u001b[0m\u001b[1;33m)\u001b[0m\u001b[1;33m.\u001b[0m\u001b[0mall\u001b[0m\u001b[1;33m(\u001b[0m\u001b[1;33m)\u001b[0m\u001b[1;33m:\u001b[0m\u001b[1;33m\u001b[0m\u001b[1;33m\u001b[0m\u001b[0m\n\u001b[0;32m      3\u001b[0m         \u001b[1;32mpass\u001b[0m\u001b[1;33m\u001b[0m\u001b[1;33m\u001b[0m\u001b[0m\n\u001b[0;32m      4\u001b[0m     \u001b[1;32melse\u001b[0m\u001b[1;33m:\u001b[0m\u001b[1;33m\u001b[0m\u001b[1;33m\u001b[0m\u001b[0m\n\u001b[0;32m      5\u001b[0m         \u001b[0mprint\u001b[0m\u001b[1;33m(\u001b[0m\u001b[1;34m\"False\"\u001b[0m\u001b[1;33m)\u001b[0m\u001b[1;33m\u001b[0m\u001b[1;33m\u001b[0m\u001b[0m\n",
      "\u001b[1;31mNameError\u001b[0m: name 'ns_fixed' is not defined"
     ]
    }
   ],
   "source": [
    "for i,ns in enumerate(ns_fixed):\n",
    "    if (ns_sr_rep[ns] == ns_repr[i]).all():\n",
    "        pass\n",
    "    else:\n",
    "        print(\"False\")\n",
    "print(\"True\")"
   ]
  },
  {
   "cell_type": "code",
   "execution_count": 166,
   "metadata": {},
   "outputs": [
    {
     "data": {
      "text/plain": [
       "648556.5911138456"
      ]
     },
     "execution_count": 166,
     "metadata": {},
     "output_type": "execute_result"
    }
   ],
   "source": [
    "kmeans.inertia_"
   ]
  },
  {
   "cell_type": "code",
   "execution_count": 167,
   "metadata": {
    "scrolled": true
   },
   "outputs": [
    {
     "data": {
      "text/plain": [
       "1"
      ]
     },
     "execution_count": 167,
     "metadata": {},
     "output_type": "execute_result"
    }
   ],
   "source": [
    "kmeans.n_iter_"
   ]
  },
  {
   "cell_type": "code",
   "execution_count": 168,
   "metadata": {
    "scrolled": true
   },
   "outputs": [
    {
     "data": {
      "text/plain": [
       "Counter({4: 73, 0: 9, 2: 1, 1: 1, 3: 1})"
      ]
     },
     "execution_count": 168,
     "metadata": {},
     "output_type": "execute_result"
    }
   ],
   "source": [
    "Counter(kmeans.labels_)"
   ]
  },
  {
   "cell_type": "markdown",
   "metadata": {},
   "source": [
    "**Choosing the appropriate number of clusters**"
   ]
  },
  {
   "cell_type": "markdown",
   "metadata": {},
   "source": [
    "1. Elbow method"
   ]
  },
  {
   "cell_type": "code",
   "execution_count": 233,
   "metadata": {},
   "outputs": [],
   "source": [
    "kmeans_kwargs = {\n",
    "    \"init\": \"random\",\n",
    "    \"n_init\": 10,\n",
    "    \"max_iter\": 300,\n",
    "    \"random_state\": 360\n",
    "}"
   ]
  },
  {
   "cell_type": "code",
   "execution_count": 234,
   "metadata": {
    "scrolled": true
   },
   "outputs": [
    {
     "name": "stdout",
     "output_type": "stream",
     "text": [
      "have done 1 rounds, current sse is [73212299311.46721]\n",
      "have done 2 rounds, current sse is [73212299311.46721, 5311050077.746634]\n",
      "have done 3 rounds, current sse is [73212299311.46721, 5311050077.746634, 25218132.89086382]\n",
      "have done 4 rounds, current sse is [73212299311.46721, 5311050077.746634, 25218132.89086382, 1090778.5703856826]\n",
      "have done 5 rounds, current sse is [73212299311.46721, 5311050077.746634, 25218132.89086382, 1090778.5703856826, 524487.7844541514]\n",
      "have done 6 rounds, current sse is [73212299311.46721, 5311050077.746634, 25218132.89086382, 1090778.5703856826, 524487.7844541514, 307866.06631474994]\n",
      "have done 7 rounds, current sse is [73212299311.46721, 5311050077.746634, 25218132.89086382, 1090778.5703856826, 524487.7844541514, 307866.06631474994, 273950.39499351423]\n",
      "have done 8 rounds, current sse is [73212299311.46721, 5311050077.746634, 25218132.89086382, 1090778.5703856826, 524487.7844541514, 307866.06631474994, 273950.39499351423, 255367.67949267174]\n",
      "have done 9 rounds, current sse is [73212299311.46721, 5311050077.746634, 25218132.89086382, 1090778.5703856826, 524487.7844541514, 307866.06631474994, 273950.39499351423, 255367.67949267174, 205457.4031646173]\n",
      "have done 10 rounds, current sse is [73212299311.46721, 5311050077.746634, 25218132.89086382, 1090778.5703856826, 524487.7844541514, 307866.06631474994, 273950.39499351423, 255367.67949267174, 205457.4031646173, 199955.4569481796]\n",
      "have done 11 rounds, current sse is [73212299311.46721, 5311050077.746634, 25218132.89086382, 1090778.5703856826, 524487.7844541514, 307866.06631474994, 273950.39499351423, 255367.67949267174, 205457.4031646173, 199955.4569481796, 201816.9219854402]\n",
      "have done 12 rounds, current sse is [73212299311.46721, 5311050077.746634, 25218132.89086382, 1090778.5703856826, 524487.7844541514, 307866.06631474994, 273950.39499351423, 255367.67949267174, 205457.4031646173, 199955.4569481796, 201816.9219854402, 199841.97646081948]\n",
      "have done 13 rounds, current sse is [73212299311.46721, 5311050077.746634, 25218132.89086382, 1090778.5703856826, 524487.7844541514, 307866.06631474994, 273950.39499351423, 255367.67949267174, 205457.4031646173, 199955.4569481796, 201816.9219854402, 199841.97646081948, 204330.8885878061]\n",
      "have done 14 rounds, current sse is [73212299311.46721, 5311050077.746634, 25218132.89086382, 1090778.5703856826, 524487.7844541514, 307866.06631474994, 273950.39499351423, 255367.67949267174, 205457.4031646173, 199955.4569481796, 201816.9219854402, 199841.97646081948, 204330.8885878061, 205195.55657365697]\n",
      "have done 15 rounds, current sse is [73212299311.46721, 5311050077.746634, 25218132.89086382, 1090778.5703856826, 524487.7844541514, 307866.06631474994, 273950.39499351423, 255367.67949267174, 205457.4031646173, 199955.4569481796, 201816.9219854402, 199841.97646081948, 204330.8885878061, 205195.55657365697, 169364.75356623664]\n",
      "have done 16 rounds, current sse is [73212299311.46721, 5311050077.746634, 25218132.89086382, 1090778.5703856826, 524487.7844541514, 307866.06631474994, 273950.39499351423, 255367.67949267174, 205457.4031646173, 199955.4569481796, 201816.9219854402, 199841.97646081948, 204330.8885878061, 205195.55657365697, 169364.75356623664, 169340.31311272713]\n",
      "have done 17 rounds, current sse is [73212299311.46721, 5311050077.746634, 25218132.89086382, 1090778.5703856826, 524487.7844541514, 307866.06631474994, 273950.39499351423, 255367.67949267174, 205457.4031646173, 199955.4569481796, 201816.9219854402, 199841.97646081948, 204330.8885878061, 205195.55657365697, 169364.75356623664, 169340.31311272713, 173859.7792558926]\n",
      "have done 18 rounds, current sse is [73212299311.46721, 5311050077.746634, 25218132.89086382, 1090778.5703856826, 524487.7844541514, 307866.06631474994, 273950.39499351423, 255367.67949267174, 205457.4031646173, 199955.4569481796, 201816.9219854402, 199841.97646081948, 204330.8885878061, 205195.55657365697, 169364.75356623664, 169340.31311272713, 173859.7792558926, 173853.57958694856]\n",
      "have done 19 rounds, current sse is [73212299311.46721, 5311050077.746634, 25218132.89086382, 1090778.5703856826, 524487.7844541514, 307866.06631474994, 273950.39499351423, 255367.67949267174, 205457.4031646173, 199955.4569481796, 201816.9219854402, 199841.97646081948, 204330.8885878061, 205195.55657365697, 169364.75356623664, 169340.31311272713, 173859.7792558926, 173853.57958694856, 144804.62258091517]\n"
     ]
    }
   ],
   "source": [
    "sse = []\n",
    "for k in range(1,20):\n",
    "    kmeans = KMeans(n_clusters = k, **kmeans_kwargs)\n",
    "    kmeans.fit(ns_repr_new)\n",
    "    sse.append(kmeans.inertia_)\n",
    "    print(f\"have done {k} rounds, current sse is {sse}\")"
   ]
  },
  {
   "cell_type": "code",
   "execution_count": 235,
   "metadata": {
    "scrolled": true
   },
   "outputs": [
    {
     "data": {
      "text/plain": [
       "[<matplotlib.lines.Line2D at 0x1a0bea11df0>]"
      ]
     },
     "execution_count": 235,
     "metadata": {},
     "output_type": "execute_result"
    },
    {
     "data": {
      "image/png": "[encoded data removed]",
      "text/plain": [
       "<Figure size 432x288 with 1 Axes>"
      ]
     },
     "metadata": {},
     "output_type": "display_data"
    }
   ],
   "source": [
    "plt.plot(range(1,20),sse,\"go-\")"
   ]
  },
  {
   "cell_type": "code",
   "execution_count": 236,
   "metadata": {
    "scrolled": true
   },
   "outputs": [
    {
     "name": "stdout",
     "output_type": "stream",
     "text": [
      "have done 20 rounds, current sse is [73212299311.46721, 5311050077.746634, 25218132.89086382, 1090778.5703856826, 524487.7844541514, 307866.06631474994, 273950.39499351423, 255367.67949267174, 205457.4031646173, 199955.4569481796, 201816.9219854402, 199841.97646081948, 204330.8885878061, 205195.55657365697, 169364.75356623664, 169340.31311272713, 173859.7792558926, 173853.57958694856, 144804.62258091517, 4925659.434727855]\n",
      "have done 21 rounds, current sse is [73212299311.46721, 5311050077.746634, 25218132.89086382, 1090778.5703856826, 524487.7844541514, 307866.06631474994, 273950.39499351423, 255367.67949267174, 205457.4031646173, 199955.4569481796, 201816.9219854402, 199841.97646081948, 204330.8885878061, 205195.55657365697, 169364.75356623664, 169340.31311272713, 173859.7792558926, 173853.57958694856, 144804.62258091517, 4925659.434727855, 4382009.049366048]\n",
      "have done 22 rounds, current sse is [73212299311.46721, 5311050077.746634, 25218132.89086382, 1090778.5703856826, 524487.7844541514, 307866.06631474994, 273950.39499351423, 255367.67949267174, 205457.4031646173, 199955.4569481796, 201816.9219854402, 199841.97646081948, 204330.8885878061, 205195.55657365697, 169364.75356623664, 169340.31311272713, 173859.7792558926, 173853.57958694856, 144804.62258091517, 4925659.434727855, 4382009.049366048, 4322822.2886213735]\n",
      "have done 23 rounds, current sse is [73212299311.46721, 5311050077.746634, 25218132.89086382, 1090778.5703856826, 524487.7844541514, 307866.06631474994, 273950.39499351423, 255367.67949267174, 205457.4031646173, 199955.4569481796, 201816.9219854402, 199841.97646081948, 204330.8885878061, 205195.55657365697, 169364.75356623664, 169340.31311272713, 173859.7792558926, 173853.57958694856, 144804.62258091517, 4925659.434727855, 4382009.049366048, 4322822.2886213735, 4316564.193147099]\n",
      "have done 24 rounds, current sse is [73212299311.46721, 5311050077.746634, 25218132.89086382, 1090778.5703856826, 524487.7844541514, 307866.06631474994, 273950.39499351423, 255367.67949267174, 205457.4031646173, 199955.4569481796, 201816.9219854402, 199841.97646081948, 204330.8885878061, 205195.55657365697, 169364.75356623664, 169340.31311272713, 173859.7792558926, 173853.57958694856, 144804.62258091517, 4925659.434727855, 4382009.049366048, 4322822.2886213735, 4316564.193147099, 3956896.0488940408]\n",
      "have done 25 rounds, current sse is [73212299311.46721, 5311050077.746634, 25218132.89086382, 1090778.5703856826, 524487.7844541514, 307866.06631474994, 273950.39499351423, 255367.67949267174, 205457.4031646173, 199955.4569481796, 201816.9219854402, 199841.97646081948, 204330.8885878061, 205195.55657365697, 169364.75356623664, 169340.31311272713, 173859.7792558926, 173853.57958694856, 144804.62258091517, 4925659.434727855, 4382009.049366048, 4322822.2886213735, 4316564.193147099, 3956896.0488940408, 3746308.149561636]\n",
      "have done 26 rounds, current sse is [73212299311.46721, 5311050077.746634, 25218132.89086382, 1090778.5703856826, 524487.7844541514, 307866.06631474994, 273950.39499351423, 255367.67949267174, 205457.4031646173, 199955.4569481796, 201816.9219854402, 199841.97646081948, 204330.8885878061, 205195.55657365697, 169364.75356623664, 169340.31311272713, 173859.7792558926, 173853.57958694856, 144804.62258091517, 4925659.434727855, 4382009.049366048, 4322822.2886213735, 4316564.193147099, 3956896.0488940408, 3746308.149561636, 3626889.854612369]\n",
      "have done 27 rounds, current sse is [73212299311.46721, 5311050077.746634, 25218132.89086382, 1090778.5703856826, 524487.7844541514, 307866.06631474994, 273950.39499351423, 255367.67949267174, 205457.4031646173, 199955.4569481796, 201816.9219854402, 199841.97646081948, 204330.8885878061, 205195.55657365697, 169364.75356623664, 169340.31311272713, 173859.7792558926, 173853.57958694856, 144804.62258091517, 4925659.434727855, 4382009.049366048, 4322822.2886213735, 4316564.193147099, 3956896.0488940408, 3746308.149561636, 3626889.854612369, 4044706.198973703]\n",
      "have done 28 rounds, current sse is [73212299311.46721, 5311050077.746634, 25218132.89086382, 1090778.5703856826, 524487.7844541514, 307866.06631474994, 273950.39499351423, 255367.67949267174, 205457.4031646173, 199955.4569481796, 201816.9219854402, 199841.97646081948, 204330.8885878061, 205195.55657365697, 169364.75356623664, 169340.31311272713, 173859.7792558926, 173853.57958694856, 144804.62258091517, 4925659.434727855, 4382009.049366048, 4322822.2886213735, 4316564.193147099, 3956896.0488940408, 3746308.149561636, 3626889.854612369, 4044706.198973703, 4033241.6951313033]\n",
      "have done 29 rounds, current sse is [73212299311.46721, 5311050077.746634, 25218132.89086382, 1090778.5703856826, 524487.7844541514, 307866.06631474994, 273950.39499351423, 255367.67949267174, 205457.4031646173, 199955.4569481796, 201816.9219854402, 199841.97646081948, 204330.8885878061, 205195.55657365697, 169364.75356623664, 169340.31311272713, 173859.7792558926, 173853.57958694856, 144804.62258091517, 4925659.434727855, 4382009.049366048, 4322822.2886213735, 4316564.193147099, 3956896.0488940408, 3746308.149561636, 3626889.854612369, 4044706.198973703, 4033241.6951313033, 4012565.1912229382]\n",
      "have done 30 rounds, current sse is [73212299311.46721, 5311050077.746634, 25218132.89086382, 1090778.5703856826, 524487.7844541514, 307866.06631474994, 273950.39499351423, 255367.67949267174, 205457.4031646173, 199955.4569481796, 201816.9219854402, 199841.97646081948, 204330.8885878061, 205195.55657365697, 169364.75356623664, 169340.31311272713, 173859.7792558926, 173853.57958694856, 144804.62258091517, 4925659.434727855, 4382009.049366048, 4322822.2886213735, 4316564.193147099, 3956896.0488940408, 3746308.149561636, 3626889.854612369, 4044706.198973703, 4033241.6951313033, 4012565.1912229382, 2748900.199484655]\n",
      "have done 31 rounds, current sse is [73212299311.46721, 5311050077.746634, 25218132.89086382, 1090778.5703856826, 524487.7844541514, 307866.06631474994, 273950.39499351423, 255367.67949267174, 205457.4031646173, 199955.4569481796, 201816.9219854402, 199841.97646081948, 204330.8885878061, 205195.55657365697, 169364.75356623664, 169340.31311272713, 173859.7792558926, 173853.57958694856, 144804.62258091517, 4925659.434727855, 4382009.049366048, 4322822.2886213735, 4316564.193147099, 3956896.0488940408, 3746308.149561636, 3626889.854612369, 4044706.198973703, 4033241.6951313033, 4012565.1912229382, 2748900.199484655, 2739627.6167050498]\n",
      "have done 32 rounds, current sse is [73212299311.46721, 5311050077.746634, 25218132.89086382, 1090778.5703856826, 524487.7844541514, 307866.06631474994, 273950.39499351423, 255367.67949267174, 205457.4031646173, 199955.4569481796, 201816.9219854402, 199841.97646081948, 204330.8885878061, 205195.55657365697, 169364.75356623664, 169340.31311272713, 173859.7792558926, 173853.57958694856, 144804.62258091517, 4925659.434727855, 4382009.049366048, 4322822.2886213735, 4316564.193147099, 3956896.0488940408, 3746308.149561636, 3626889.854612369, 4044706.198973703, 4033241.6951313033, 4012565.1912229382, 2748900.199484655, 2739627.6167050498, 2734953.3894163426]\n",
      "have done 33 rounds, current sse is [73212299311.46721, 5311050077.746634, 25218132.89086382, 1090778.5703856826, 524487.7844541514, 307866.06631474994, 273950.39499351423, 255367.67949267174, 205457.4031646173, 199955.4569481796, 201816.9219854402, 199841.97646081948, 204330.8885878061, 205195.55657365697, 169364.75356623664, 169340.31311272713, 173859.7792558926, 173853.57958694856, 144804.62258091517, 4925659.434727855, 4382009.049366048, 4322822.2886213735, 4316564.193147099, 3956896.0488940408, 3746308.149561636, 3626889.854612369, 4044706.198973703, 4033241.6951313033, 4012565.1912229382, 2748900.199484655, 2739627.6167050498, 2734953.3894163426, 2726417.7023211243]\n",
      "have done 34 rounds, current sse is [73212299311.46721, 5311050077.746634, 25218132.89086382, 1090778.5703856826, 524487.7844541514, 307866.06631474994, 273950.39499351423, 255367.67949267174, 205457.4031646173, 199955.4569481796, 201816.9219854402, 199841.97646081948, 204330.8885878061, 205195.55657365697, 169364.75356623664, 169340.31311272713, 173859.7792558926, 173853.57958694856, 144804.62258091517, 4925659.434727855, 4382009.049366048, 4322822.2886213735, 4316564.193147099, 3956896.0488940408, 3746308.149561636, 3626889.854612369, 4044706.198973703, 4033241.6951313033, 4012565.1912229382, 2748900.199484655, 2739627.6167050498, 2734953.3894163426, 2726417.7023211243, 2728141.930381528]\n"
     ]
    },
    {
     "name": "stdout",
     "output_type": "stream",
     "text": [
      "have done 35 rounds, current sse is [73212299311.46721, 5311050077.746634, 25218132.89086382, 1090778.5703856826, 524487.7844541514, 307866.06631474994, 273950.39499351423, 255367.67949267174, 205457.4031646173, 199955.4569481796, 201816.9219854402, 199841.97646081948, 204330.8885878061, 205195.55657365697, 169364.75356623664, 169340.31311272713, 173859.7792558926, 173853.57958694856, 144804.62258091517, 4925659.434727855, 4382009.049366048, 4322822.2886213735, 4316564.193147099, 3956896.0488940408, 3746308.149561636, 3626889.854612369, 4044706.198973703, 4033241.6951313033, 4012565.1912229382, 2748900.199484655, 2739627.6167050498, 2734953.3894163426, 2726417.7023211243, 2728141.930381528, 2725656.261257958]\n",
      "have done 36 rounds, current sse is [73212299311.46721, 5311050077.746634, 25218132.89086382, 1090778.5703856826, 524487.7844541514, 307866.06631474994, 273950.39499351423, 255367.67949267174, 205457.4031646173, 199955.4569481796, 201816.9219854402, 199841.97646081948, 204330.8885878061, 205195.55657365697, 169364.75356623664, 169340.31311272713, 173859.7792558926, 173853.57958694856, 144804.62258091517, 4925659.434727855, 4382009.049366048, 4322822.2886213735, 4316564.193147099, 3956896.0488940408, 3746308.149561636, 3626889.854612369, 4044706.198973703, 4033241.6951313033, 4012565.1912229382, 2748900.199484655, 2739627.6167050498, 2734953.3894163426, 2726417.7023211243, 2728141.930381528, 2725656.261257958, 2182005.8758961526]\n",
      "have done 37 rounds, current sse is [73212299311.46721, 5311050077.746634, 25218132.89086382, 1090778.5703856826, 524487.7844541514, 307866.06631474994, 273950.39499351423, 255367.67949267174, 205457.4031646173, 199955.4569481796, 201816.9219854402, 199841.97646081948, 204330.8885878061, 205195.55657365697, 169364.75356623664, 169340.31311272713, 173859.7792558926, 173853.57958694856, 144804.62258091517, 4925659.434727855, 4382009.049366048, 4322822.2886213735, 4316564.193147099, 3956896.0488940408, 3746308.149561636, 3626889.854612369, 4044706.198973703, 4033241.6951313033, 4012565.1912229382, 2748900.199484655, 2739627.6167050498, 2734953.3894163426, 2726417.7023211243, 2728141.930381528, 2725656.261257958, 2182005.8758961526, 2106654.377117913]\n",
      "have done 38 rounds, current sse is [73212299311.46721, 5311050077.746634, 25218132.89086382, 1090778.5703856826, 524487.7844541514, 307866.06631474994, 273950.39499351423, 255367.67949267174, 205457.4031646173, 199955.4569481796, 201816.9219854402, 199841.97646081948, 204330.8885878061, 205195.55657365697, 169364.75356623664, 169340.31311272713, 173859.7792558926, 173853.57958694856, 144804.62258091517, 4925659.434727855, 4382009.049366048, 4322822.2886213735, 4316564.193147099, 3956896.0488940408, 3746308.149561636, 3626889.854612369, 4044706.198973703, 4033241.6951313033, 4012565.1912229382, 2748900.199484655, 2739627.6167050498, 2734953.3894163426, 2726417.7023211243, 2728141.930381528, 2725656.261257958, 2182005.8758961526, 2106654.377117913, 2161903.0535832914]\n",
      "have done 39 rounds, current sse is [73212299311.46721, 5311050077.746634, 25218132.89086382, 1090778.5703856826, 524487.7844541514, 307866.06631474994, 273950.39499351423, 255367.67949267174, 205457.4031646173, 199955.4569481796, 201816.9219854402, 199841.97646081948, 204330.8885878061, 205195.55657365697, 169364.75356623664, 169340.31311272713, 173859.7792558926, 173853.57958694856, 144804.62258091517, 4925659.434727855, 4382009.049366048, 4322822.2886213735, 4316564.193147099, 3956896.0488940408, 3746308.149561636, 3626889.854612369, 4044706.198973703, 4033241.6951313033, 4012565.1912229382, 2748900.199484655, 2739627.6167050498, 2734953.3894163426, 2726417.7023211243, 2728141.930381528, 2725656.261257958, 2182005.8758961526, 2106654.377117913, 2161903.0535832914, 1830841.9273861356]\n",
      "have done 40 rounds, current sse is [73212299311.46721, 5311050077.746634, 25218132.89086382, 1090778.5703856826, 524487.7844541514, 307866.06631474994, 273950.39499351423, 255367.67949267174, 205457.4031646173, 199955.4569481796, 201816.9219854402, 199841.97646081948, 204330.8885878061, 205195.55657365697, 169364.75356623664, 169340.31311272713, 173859.7792558926, 173853.57958694856, 144804.62258091517, 4925659.434727855, 4382009.049366048, 4322822.2886213735, 4316564.193147099, 3956896.0488940408, 3746308.149561636, 3626889.854612369, 4044706.198973703, 4033241.6951313033, 4012565.1912229382, 2748900.199484655, 2739627.6167050498, 2734953.3894163426, 2726417.7023211243, 2728141.930381528, 2725656.261257958, 2182005.8758961526, 2106654.377117913, 2161903.0535832914, 1830841.9273861356, 1824038.5169959506]\n"
     ]
    }
   ],
   "source": [
    "for k in range(20,41):\n",
    "    kmeans = KMeans(n_clusters = k, **kmeans_kwargs)\n",
    "    kmeans.fit(ns_repr)\n",
    "    sse.append(kmeans.inertia_)\n",
    "    print(f\"have done {k} rounds, current sse is {sse}\")"
   ]
  },
  {
   "cell_type": "code",
   "execution_count": 237,
   "metadata": {
    "scrolled": true
   },
   "outputs": [
    {
     "data": {
      "text/plain": [
       "[<matplotlib.lines.Line2D at 0x1a0b76c8d60>]"
      ]
     },
     "execution_count": 237,
     "metadata": {},
     "output_type": "execute_result"
    },
    {
     "data": {
      "image/png": "[encoded data removed]",
      "text/plain": [
       "<Figure size 432x288 with 1 Axes>"
      ]
     },
     "metadata": {},
     "output_type": "display_data"
    }
   ],
   "source": [
    "plt.plot(range(1,41),sse,\"go-\")"
   ]
  },
  {
   "cell_type": "code",
   "execution_count": 238,
   "metadata": {},
   "outputs": [],
   "source": [
    "kl = KneeLocator(range(1,41), sse, curve=\"convex\", direction=\"decreasing\")"
   ]
  },
  {
   "cell_type": "code",
   "execution_count": 239,
   "metadata": {},
   "outputs": [
    {
     "data": {
      "text/plain": [
       "3"
      ]
     },
     "execution_count": 239,
     "metadata": {},
     "output_type": "execute_result"
    }
   ],
   "source": [
    "kl.elbow"
   ]
  },
  {
   "cell_type": "markdown",
   "metadata": {},
   "source": [
    "**Using Silhouette Coefficient**"
   ]
  },
  {
   "cell_type": "code",
   "execution_count": 240,
   "metadata": {
    "scrolled": true
   },
   "outputs": [
    {
     "name": "stdout",
     "output_type": "stream",
     "text": [
      "step 2\n",
      "step 3\n",
      "step 4\n",
      "step 5\n",
      "step 6\n",
      "step 7\n",
      "step 8\n",
      "step 9\n",
      "step 10\n",
      "step 11\n",
      "step 12\n",
      "step 13\n",
      "step 14\n",
      "step 15\n",
      "step 16\n",
      "step 17\n",
      "step 18\n",
      "step 19\n",
      "step 20\n",
      "step 21\n",
      "step 22\n",
      "step 23\n",
      "step 24\n",
      "step 25\n",
      "step 26\n",
      "step 27\n",
      "step 28\n",
      "step 29\n"
     ]
    }
   ],
   "source": [
    "sc = []\n",
    "new_sse = []\n",
    "for k in range(2,30):\n",
    "    kmeans = KMeans(n_clusters = k, **kmeans_kwargs)\n",
    "    kmeans.fit(ns_repr)\n",
    "    score = silhouette_score(ns_repr, kmeans.labels_)\n",
    "    sc.append(score)\n",
    "    new_sse.append(kmeans.inertia_)\n",
    "    print(\"step {}\".format(k))"
   ]
  },
  {
   "cell_type": "code",
   "execution_count": 241,
   "metadata": {
    "scrolled": true
   },
   "outputs": [
    {
     "data": {
      "text/plain": [
       "[<matplotlib.lines.Line2D at 0x1a09c9448e0>]"
      ]
     },
     "execution_count": 241,
     "metadata": {},
     "output_type": "execute_result"
    },
    {
     "data": {
      "image/png": "[encoded data removed]",
      "text/plain": [
       "<Figure size 432x288 with 1 Axes>"
      ]
     },
     "metadata": {},
     "output_type": "display_data"
    }
   ],
   "source": [
    "# for sse\n",
    "plt.plot(range(2,30), new_sse, \"go-\")"
   ]
  },
  {
   "cell_type": "code",
   "execution_count": 242,
   "metadata": {
    "scrolled": true
   },
   "outputs": [
    {
     "data": {
      "text/plain": [
       "4"
      ]
     },
     "execution_count": 242,
     "metadata": {},
     "output_type": "execute_result"
    }
   ],
   "source": [
    "kl_new = KneeLocator(range(2,30), new_sse, curve=\"convex\", direction=\"decreasing\")\n",
    "kl_new.elbow"
   ]
  },
  {
   "cell_type": "code",
   "execution_count": 243,
   "metadata": {
    "scrolled": true
   },
   "outputs": [
    {
     "data": {
      "text/plain": [
       "[<matplotlib.lines.Line2D at 0x1a083c804c0>]"
      ]
     },
     "execution_count": 243,
     "metadata": {},
     "output_type": "execute_result"
    },
    {
     "data": {
      "image/png": "[encoded data removed]",
      "text/plain": [
       "<Figure size 432x288 with 1 Axes>"
      ]
     },
     "metadata": {},
     "output_type": "display_data"
    }
   ],
   "source": [
    "# for silhouette coefficient\n",
    "plt.plot(range(2,30), sc, \"bo-\")"
   ]
  },
  {
   "cell_type": "code",
   "execution_count": 244,
   "metadata": {
    "scrolled": true
   },
   "outputs": [
    {
     "data": {
      "text/plain": [
       "[<matplotlib.lines.Line2D at 0x1a0f2607400>]"
      ]
     },
     "execution_count": 244,
     "metadata": {},
     "output_type": "execute_result"
    },
    {
     "data": {
      "image/png": "[encoded data removed]",
      "text/plain": [
       "<Figure size 432x288 with 1 Axes>"
      ]
     },
     "metadata": {},
     "output_type": "display_data"
    }
   ],
   "source": [
    "\n",
    "\n",
    "spl = make_interp_spline(range(2,30), sc, k=3)  # type: BSpline\n",
    "\n",
    "xs = np.linspace(2, 30, 6)\n",
    "ys = spl(xs)\n",
    "\n",
    "plt.plot(range(2,30), sc, \"go--\")\n",
    "plt.plot(xs, ys, \"b-\")"
   ]
  },
  {
   "cell_type": "markdown",
   "metadata": {},
   "source": [
    "Let's choose k = 10"
   ]
  },
  {
   "cell_type": "code",
   "execution_count": 245,
   "metadata": {
    "scrolled": true
   },
   "outputs": [
    {
     "data": {
      "text/plain": [
       "KMeans(max_iter=500, n_clusters=5, n_init=50, random_state=360)"
      ]
     },
     "execution_count": 245,
     "metadata": {},
     "output_type": "execute_result"
    }
   ],
   "source": [
    "kmeans = KMeans(n_clusters = 5, init=\"k-means++\", n_init = 50, max_iter = 500, random_state = 360)\n",
    "kmeans.fit(ns_repr_new)"
   ]
  },
  {
   "cell_type": "code",
   "execution_count": 246,
   "metadata": {},
   "outputs": [
    {
     "data": {
      "text/plain": [
       "array([0, 0, 0, 0, 0, 0, 0, 0, 0, 0, 0, 0, 0, 0, 0, 0, 0, 0, 0, 0, 0, 0,\n",
       "       0, 0, 0, 0, 0, 4, 4, 0, 0, 0, 0, 2, 4, 0, 4, 0, 0, 4, 0, 0, 0, 0,\n",
       "       0, 0, 0, 0, 0, 0, 4, 0, 0, 1, 3, 0, 0, 0, 0, 4, 0, 0, 0, 0, 0, 4,\n",
       "       0, 0, 0, 0, 0, 0, 0, 0, 0, 0, 0, 0, 0, 0, 0, 4, 0, 0, 0])"
      ]
     },
     "execution_count": 246,
     "metadata": {},
     "output_type": "execute_result"
    }
   ],
   "source": [
    "kmeans.labels_"
   ]
  },
  {
   "cell_type": "code",
   "execution_count": 247,
   "metadata": {
    "scrolled": true
   },
   "outputs": [
    {
     "data": {
      "text/plain": [
       "{0, 1, 2, 3, 4}"
      ]
     },
     "execution_count": 247,
     "metadata": {},
     "output_type": "execute_result"
    }
   ],
   "source": [
    "set(kmeans.labels_)"
   ]
  },
  {
   "cell_type": "code",
   "execution_count": 248,
   "metadata": {},
   "outputs": [
    {
     "data": {
      "text/plain": [
       "Counter({0: 73, 4: 9, 2: 1, 1: 1, 3: 1})"
      ]
     },
     "execution_count": 248,
     "metadata": {},
     "output_type": "execute_result"
    }
   ],
   "source": [
    "Counter(kmeans.labels_)"
   ]
  },
  {
   "cell_type": "markdown",
   "metadata": {},
   "source": [
    "**Let's investigate each cluster**"
   ]
  },
  {
   "cell_type": "code",
   "execution_count": 249,
   "metadata": {},
   "outputs": [
    {
     "data": {
      "text/plain": [
       "85"
      ]
     },
     "execution_count": 249,
     "metadata": {},
     "output_type": "execute_result"
    }
   ],
   "source": [
    "len(ns_sr_rep)"
   ]
  },
  {
   "cell_type": "code",
   "execution_count": 250,
   "metadata": {},
   "outputs": [
    {
     "data": {
      "text/plain": [
       "85"
      ]
     },
     "execution_count": 250,
     "metadata": {},
     "output_type": "execute_result"
    }
   ],
   "source": [
    "len(kmeans.labels_)"
   ]
  },
  {
   "cell_type": "code",
   "execution_count": 251,
   "metadata": {},
   "outputs": [],
   "source": [
    "clustered = defaultdict(list)\n",
    "for idx,ns in enumerate(non_outlier):\n",
    "    c = kmeans.labels_[idx]\n",
    "    clustered[c].append(ns)"
   ]
  },
  {
   "cell_type": "code",
   "execution_count": 253,
   "metadata": {
    "scrolled": false
   },
   "outputs": [
    {
     "name": "stdout",
     "output_type": "stream",
     "text": [
      "[73, 1, 1, 1, 9]\n"
     ]
    }
   ],
   "source": [
    "print([len(clustered[i]) for i in range(5)])"
   ]
  },
  {
   "cell_type": "markdown",
   "metadata": {},
   "source": [
    "Let's see in terms of percentage"
   ]
  },
  {
   "cell_type": "code",
   "execution_count": 254,
   "metadata": {},
   "outputs": [],
   "source": [
    "cluster_lens = [len(clustered[i]) for i in range(10)]"
   ]
  },
  {
   "cell_type": "code",
   "execution_count": 255,
   "metadata": {},
   "outputs": [
    {
     "name": "stdout",
     "output_type": "stream",
     "text": [
      "[85.88, 1.18, 1.18, 1.18, 10.59, 0.0, 0.0, 0.0, 0.0, 0.0]\n"
     ]
    }
   ],
   "source": [
    "print([round(k*100/sum(cluster_lens),2) for k in cluster_lens])"
   ]
  },
  {
   "cell_type": "markdown",
   "metadata": {},
   "source": [
    " **could do iterative clusters for ^**"
   ]
  },
  {
   "cell_type": "code",
   "execution_count": 263,
   "metadata": {},
   "outputs": [
    {
     "data": {
      "text/plain": [
       "[]"
      ]
     },
     "execution_count": 263,
     "metadata": {},
     "output_type": "execute_result"
    }
   ],
   "source": [
    "clustered[5]"
   ]
  },
  {
   "cell_type": "markdown",
   "metadata": {},
   "source": [
    "# Agglomerative (Hierarchical) Clustering"
   ]
  },
  {
   "cell_type": "code",
   "execution_count": 267,
   "metadata": {},
   "outputs": [],
   "source": [
    "hclustering = AgglomerativeClustering(n_clusters=5)"
   ]
  },
  {
   "cell_type": "code",
   "execution_count": 268,
   "metadata": {},
   "outputs": [
    {
     "data": {
      "text/plain": [
       "AgglomerativeClustering(n_clusters=5)"
      ]
     },
     "execution_count": 268,
     "metadata": {},
     "output_type": "execute_result"
    }
   ],
   "source": [
    "hclustering.fit(ns_repr_new)"
   ]
  },
  {
   "cell_type": "code",
   "execution_count": 269,
   "metadata": {},
   "outputs": [
    {
     "data": {
      "text/plain": [
       "array([1, 1, 1, 1, 1, 1, 1, 1, 1, 1, 1, 1, 1, 1, 1, 1, 1, 1, 1, 1, 1, 1,\n",
       "       1, 1, 1, 1, 1, 0, 0, 1, 1, 1, 1, 2, 0, 1, 0, 1, 1, 0, 1, 1, 1, 1,\n",
       "       1, 1, 1, 1, 1, 1, 0, 1, 1, 3, 4, 1, 1, 1, 1, 0, 1, 1, 1, 1, 1, 0,\n",
       "       1, 1, 1, 1, 1, 1, 1, 1, 1, 1, 1, 1, 1, 1, 1, 0, 1, 1, 1],\n",
       "      dtype=int64)"
      ]
     },
     "execution_count": 269,
     "metadata": {},
     "output_type": "execute_result"
    }
   ],
   "source": [
    "hclustering.labels_"
   ]
  },
  {
   "cell_type": "code",
   "execution_count": 270,
   "metadata": {},
   "outputs": [],
   "source": [
    "hier_clustered = defaultdict(list)\n",
    "for idx,ns in enumerate(non_outlier):\n",
    "    c = hclustering.labels_[idx]\n",
    "    hier_clustered[c].append(ns)"
   ]
  },
  {
   "cell_type": "code",
   "execution_count": 271,
   "metadata": {
    "scrolled": false
   },
   "outputs": [
    {
     "name": "stdout",
     "output_type": "stream",
     "text": [
      "[9, 73, 1, 1, 1]\n"
     ]
    }
   ],
   "source": [
    "print([len(hier_clustered[i]) for i in range(5)])"
   ]
  },
  {
   "cell_type": "markdown",
   "metadata": {},
   "source": [
    "Let's see in terms of percentage"
   ]
  },
  {
   "cell_type": "code",
   "execution_count": 277,
   "metadata": {},
   "outputs": [],
   "source": [
    "hcluster_lens = [len(hier_clustered[i]) for i in range(10)]"
   ]
  },
  {
   "cell_type": "code",
   "execution_count": 278,
   "metadata": {},
   "outputs": [
    {
     "name": "stdout",
     "output_type": "stream",
     "text": [
      "[10.59, 85.88, 1.18, 1.18, 1.18, 0.0, 0.0, 0.0, 0.0, 0.0]\n"
     ]
    }
   ],
   "source": [
    "print([round(k*100/sum(hcluster_lens),2) for k in hcluster_lens])"
   ]
  },
  {
   "cell_type": "code",
   "execution_count": 279,
   "metadata": {},
   "outputs": [
    {
     "data": {
      "text/plain": [
       "['thetimes.co.uk',\n",
       " 'theguardian.com',\n",
       " 'bbc.co.uk',\n",
       " 'telegraph.co.uk',\n",
       " 'theathletic.com',\n",
       " 'nbcsports.com',\n",
       " 'skysports.com',\n",
       " 'premierleague.com',\n",
       " 'nfl.com']"
      ]
     },
     "execution_count": 279,
     "metadata": {},
     "output_type": "execute_result"
    }
   ],
   "source": [
    "hier_clustered[0]"
   ]
  },
  {
   "cell_type": "code",
   "execution_count": 281,
   "metadata": {
    "scrolled": true
   },
   "outputs": [
    {
     "data": {
      "text/plain": [
       "set()"
      ]
     },
     "execution_count": 281,
     "metadata": {},
     "output_type": "execute_result"
    }
   ],
   "source": [
    "set(hier_clustered[0]) & set(clustered[4])"
   ]
  },
  {
   "cell_type": "markdown",
   "metadata": {},
   "source": [
    "## Using scipy"
   ]
  },
  {
   "cell_type": "code",
   "execution_count": 326,
   "metadata": {},
   "outputs": [
    {
     "data": {
      "image/png": "[encoded data removed]",
      "text/plain": [
       "<Figure size 1440x720 with 1 Axes>"
      ]
     },
     "metadata": {},
     "output_type": "display_data"
    }
   ],
   "source": [
    "import scipy.cluster.hierarchy as shc\n",
    "\n",
    "plt.figure(figsize=(20, 10))\n",
    "plt.title(\"Sport News Dendograms\")\n",
    "dend = shc.dendrogram(shc.linkage(preprocessing.normalize(np.array(ns_repr_new)), method='average'),\n",
    "                     labels = list(ns_sr_rep.keys()),\n",
    "                     leaf_font_size = 15,\n",
    "                     leaf_rotation = 85)"
   ]
  },
  {
   "cell_type": "code",
   "execution_count": 320,
   "metadata": {},
   "outputs": [
    {
     "data": {
      "text/plain": [
       "True"
      ]
     },
     "execution_count": 320,
     "metadata": {},
     "output_type": "execute_result"
    }
   ],
   "source": [
    "\"foxnews.com\" in ns_union"
   ]
  },
  {
   "cell_type": "markdown",
   "metadata": {},
   "source": [
    "## DBSCAN clustering"
   ]
  },
  {
   "cell_type": "code",
   "execution_count": 285,
   "metadata": {},
   "outputs": [],
   "source": [
    "from sklearn.cluster import DBSCAN"
   ]
  },
  {
   "cell_type": "markdown",
   "metadata": {},
   "source": [
    "First try out."
   ]
  },
  {
   "cell_type": "code",
   "execution_count": 286,
   "metadata": {},
   "outputs": [],
   "source": [
    "dbscan = DBSCAN(eps=0.01)"
   ]
  },
  {
   "cell_type": "code",
   "execution_count": 290,
   "metadata": {},
   "outputs": [],
   "source": [
    "ds_clusters = dbscan.fit(ns_repr_new)"
   ]
  },
  {
   "cell_type": "code",
   "execution_count": 291,
   "metadata": {},
   "outputs": [
    {
     "data": {
      "text/plain": [
       "85"
      ]
     },
     "execution_count": 291,
     "metadata": {},
     "output_type": "execute_result"
    }
   ],
   "source": [
    "dbs_labels = ds_clusters.labels_\n",
    "len(dbs_labels)"
   ]
  },
  {
   "cell_type": "code",
   "execution_count": 292,
   "metadata": {},
   "outputs": [
    {
     "data": {
      "text/plain": [
       "array([-1], dtype=int64)"
      ]
     },
     "execution_count": 292,
     "metadata": {},
     "output_type": "execute_result"
    }
   ],
   "source": [
    "np.unique(dbs_labels)"
   ]
  },
  {
   "cell_type": "code",
   "execution_count": 296,
   "metadata": {},
   "outputs": [],
   "source": [
    "dbscan_clusters = defaultdict(list)\n",
    "for idx, c in enumerate(list(dbs_labels)):\n",
    "    dbscan_clusters[c].append(list(ns_sr_rep.keys())[idx])"
   ]
  },
  {
   "cell_type": "code",
   "execution_count": 298,
   "metadata": {},
   "outputs": [
    {
     "name": "stdout",
     "output_type": "stream",
     "text": [
      "number of ns in cluster -1: 85\n",
      "number of ns in cluster 0: 0\n",
      "number of ns in cluster 1: 0\n"
     ]
    }
   ],
   "source": [
    "for c in range(-1, len(np.unique(dbs_labels))+1):\n",
    "    print(\"number of ns in cluster {}: {}\".format(c, len(dbscan_clusters[c])))"
   ]
  },
  {
   "cell_type": "markdown",
   "metadata": {},
   "source": [
    "Let's investigate some of the clusters"
   ]
  },
  {
   "cell_type": "code",
   "execution_count": 299,
   "metadata": {
    "scrolled": true
   },
   "outputs": [
    {
     "data": {
      "text/plain": [
       "[]"
      ]
     },
     "execution_count": 299,
     "metadata": {},
     "output_type": "execute_result"
    }
   ],
   "source": [
    "dbscan_clusters[9]"
   ]
  },
  {
   "cell_type": "code",
   "execution_count": 300,
   "metadata": {
    "scrolled": true
   },
   "outputs": [
    {
     "data": {
      "text/plain": [
       "[]"
      ]
     },
     "execution_count": 300,
     "metadata": {},
     "output_type": "execute_result"
    }
   ],
   "source": [
    "dbscan_clusters[1]"
   ]
  },
  {
   "cell_type": "markdown",
   "metadata": {},
   "source": [
    "**Finding optimum `epsilon` for dbscan**\n",
    "\n",
    "References: \n",
    "\n",
    "https://towardsdatascience.com/machine-learning-clustering-dbscan-determine-the-optimal-value-for-epsilon-eps-python-example-3100091cfbc\n",
    "\n",
    "https://iopscience.iop.org/article/10.1088/1755-1315/31/1/012012/pdf"
   ]
  },
  {
   "cell_type": "code",
   "execution_count": 301,
   "metadata": {},
   "outputs": [],
   "source": [
    "from sklearn.neighbors import NearestNeighbors"
   ]
  },
  {
   "cell_type": "code",
   "execution_count": 302,
   "metadata": {},
   "outputs": [],
   "source": [
    "neigh = NearestNeighbors(n_neighbors=2)\n",
    "nbrs = neigh.fit(ns_repr)\n",
    "distances, indices = nbrs.kneighbors(ns_repr)"
   ]
  },
  {
   "cell_type": "code",
   "execution_count": 303,
   "metadata": {},
   "outputs": [
    {
     "data": {
      "text/plain": [
       "(0.0, 0.01)"
      ]
     },
     "execution_count": 303,
     "metadata": {},
     "output_type": "execute_result"
    },
    {
     "data": {
      "image/png": "[encoded data removed]",
      "text/plain": [
       "<Figure size 432x288 with 1 Axes>"
      ]
     },
     "metadata": {},
     "output_type": "display_data"
    }
   ],
   "source": [
    "distances = np.sort(distances, axis=0)\n",
    "# distances = distances[:,1]\n",
    "plt.plot(distances)\n",
    "plt.ylim((0,0.01))"
   ]
  },
  {
   "cell_type": "markdown",
   "metadata": {},
   "source": [
    "I don't think any epsilon makes sense here."
   ]
  },
  {
   "cell_type": "code",
   "execution_count": null,
   "metadata": {},
   "outputs": [],
   "source": []
  }
 ],
 "metadata": {
  "kernelspec": {
   "display_name": "Python 3",
   "language": "python",
   "name": "python3"
  },
  "language_info": {
   "codemirror_mode": {
    "name": "ipython",
    "version": 3
   },
   "file_extension": ".py",
   "mimetype": "text/x-python",
   "name": "python",
   "nbconvert_exporter": "python",
   "pygments_lexer": "ipython3",
   "version": "3.8.6"
  }
 },
 "nbformat": 4,
 "nbformat_minor": 4
}
