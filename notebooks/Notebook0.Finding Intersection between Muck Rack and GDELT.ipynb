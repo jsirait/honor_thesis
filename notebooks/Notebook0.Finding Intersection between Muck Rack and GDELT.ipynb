{
 "cells": [
  {
   "cell_type": "markdown",
   "metadata": {},
   "source": [
    "# Finding Intersection between Muck Rack and GDELT\n",
    "\n",
    "\"What counts as a news source?\" is an important question. Muck Rack and GDELT have their own definition of what can be considered as a news source. An intersection between a set of manually curated news source selection from Muck Rack, and a set of news sources recognized by the global database GDELT will provide us with news sources that are recognized by at least two institutions."
   ]
  },
  {
   "cell_type": "markdown",
   "metadata": {},
   "source": [
    "## Read news sources from Muck Rack"
   ]
  },
  {
   "cell_type": "code",
   "execution_count": null,
   "metadata": {},
   "outputs": [],
   "source": [
    "with open(\"\")"
   ]
  }
 ],
 "metadata": {
  "kernelspec": {
   "display_name": "Python 3",
   "language": "python",
   "name": "python3"
  },
  "language_info": {
   "codemirror_mode": {
    "name": "ipython",
    "version": 3
   },
   "file_extension": ".py",
   "mimetype": "text/x-python",
   "name": "python",
   "nbconvert_exporter": "python",
   "pygments_lexer": "ipython3",
   "version": "3.8.6"
  }
 },
 "nbformat": 4,
 "nbformat_minor": 4
}
