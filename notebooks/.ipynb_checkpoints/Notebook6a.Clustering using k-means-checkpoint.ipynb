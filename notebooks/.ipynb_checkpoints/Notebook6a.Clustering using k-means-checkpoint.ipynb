{
 "cells": [
  {
   "cell_type": "markdown",
   "metadata": {},
   "source": [
    "# Clustering News Sources\n",
    "\n",
    "Junita Sirait\n",
    "\n",
    "I would like to cluster news sources based on in which subreddits they appear. First I will use k-means algorithm, then I will try out other algorithms such as DBSCAN and others. \n",
    "\n",
    "Table of contents add"
   ]
  },
  {
   "cell_type": "code",
   "execution_count": 203,
   "metadata": {},
   "outputs": [],
   "source": [
    "import json\n",
    "import pandas as pd\n",
    "import numpy as np\n",
    "import statistics\n",
    "\n",
    "import tldextract\n",
    "\n",
    "from collections import Counter, defaultdict\n",
    "import matplotlib.pyplot as plt\n",
    "import seaborn as sns\n",
    "from sklearn.cluster import KMeans\n",
    "from sklearn.metrics import silhouette_score\n",
    "from sklearn.preprocessing import StandardScaler\n",
    "\n",
    "from sklearn import preprocessing\n",
    "\n",
    "from sklearn.metrics import silhouette_score\n",
    "from kneed import KneeLocator\n",
    "\n",
    "from scipy.interpolate import make_interp_spline, BSpline\n",
    "\n",
    "from sklearn.decomposition import PCA\n",
    "from sklearn.decomposition import TruncatedSVD\n",
    "\n",
    "import math\n",
    "\n",
    "from sklearn.feature_selection import SelectKBest\n",
    "import os"
   ]
  },
  {
   "cell_type": "markdown",
   "metadata": {},
   "source": [
    "<a id=\"sub1\"></a>\n",
    "## Subreddit data"
   ]
  },
  {
   "cell_type": "code",
   "execution_count": 204,
   "metadata": {},
   "outputs": [],
   "source": [
    "pd = os.path.split(os.getcwd())[0]\n",
    "data_fp = os.path.join(pd,\"data/gm-newssources-subreddits\")\n",
    "dfp = os.path.join(pd,\"data\")\n",
    "mbfc_path = os.path.join(pd, \"data/mbfc\")"
   ]
  },
  {
   "cell_type": "code",
   "execution_count": 205,
   "metadata": {},
   "outputs": [],
   "source": [
    "with open (os.path.join(dfp,\"gmm_intersection.json\"), \"r\", encoding = \"utf-8\") as infile:\n",
    "    gmm_intersection = json.load(infile)"
   ]
  },
  {
   "cell_type": "code",
   "execution_count": 206,
   "metadata": {},
   "outputs": [
    {
     "data": {
      "text/plain": [
       "1631"
      ]
     },
     "execution_count": 206,
     "metadata": {},
     "output_type": "execute_result"
    }
   ],
   "source": [
    "len(gmm_intersection)"
   ]
  },
  {
   "cell_type": "code",
   "execution_count": 207,
   "metadata": {},
   "outputs": [],
   "source": [
    "with open (os.path.join(dfp,\"gm_intersection.json\"), \"r\", encoding = \"utf-8\") as infile:\n",
    "    gm_intersection = json.load(infile)"
   ]
  },
  {
   "cell_type": "code",
   "execution_count": 208,
   "metadata": {},
   "outputs": [
    {
     "data": {
      "text/plain": [
       "42477"
      ]
     },
     "execution_count": 208,
     "metadata": {},
     "output_type": "execute_result"
    }
   ],
   "source": [
    "len(gm_intersection)"
   ]
  },
  {
   "cell_type": "code",
   "execution_count": 310,
   "metadata": {},
   "outputs": [],
   "source": [
    "# Reading in all the subreddits in our files\n",
    "\n",
    "with open(os.path.join(data_fp,\"subreddit_ns_2021-01.json\"), \"r\", encoding = \"utf-8\") as infile1a:\n",
    "    subreddit_ns_jan = json.load(infile1a)\n",
    "\n",
    "with open(os.path.join(data_fp,\"subreddit_ns_2021-02.json\"), \"r\", encoding = \"utf-8\") as infile2a:\n",
    "    subreddit_ns_feb = json.load(infile2a)\n",
    "    \n",
    "with open(os.path.join(data_fp,\"subreddit_ns_2021-03.json\"), \"r\", encoding = \"utf-8\") as infile3a:\n",
    "    subreddit_ns_march = json.load(infile3a)\n",
    "    \n",
    "with open(os.path.join(data_fp,\"subreddit_ns_2021-04.json\"), \"r\", encoding = \"utf-8\") as infile4a:\n",
    "    subreddit_ns_april = json.load(infile4a)\n",
    "    \n",
    "with open(os.path.join(data_fp,\"subreddit_ns_2021-05.json\"), \"r\", encoding = \"utf-8\") as infile5a:\n",
    "    subreddit_ns_may = json.load(infile5a)\n",
    "    \n",
    "with open(os.path.join(data_fp,\"subreddit_ns_2021-06.json\"), \"r\", encoding = \"utf-8\") as infile6a:\n",
    "    subreddit_ns_jun = json.load(infile6a)"
   ]
  },
  {
   "cell_type": "code",
   "execution_count": null,
   "metadata": {},
   "outputs": [],
   "source": [
    "# ns_subreddit\n",
    "with open(os.path.join(data_fp,\"ns_subreddit_2021-01.json\")) as infile1:\n",
    "    ns_subreddit_01 = json.load(infile1)\n",
    "    \n",
    "with open(os.path.join(data_fp,\"ns_subreddit_2021-02.json\")) as infile2:\n",
    "    ns_subreddit_02 = json.load(infile2)\n",
    "    \n",
    "with open(os.path.join(data_fp,\"ns_subreddit_2021-03.json\")) as infile3:\n",
    "    ns_subreddit_03 = json.load(infile3)\n",
    "    \n",
    "with open(os.path.join(data_fp,\"ns_subreddit_2021-04.json\")) as infile4:\n",
    "    ns_subreddit_04 = json.load(infile4)\n",
    "    \n",
    "with open(os.path.join(data_fp,\"ns_subreddit_2021-05.json\")) as infile5:\n",
    "    ns_subreddit_05 = json.load(infile5)\n",
    "    \n",
    "with open(os.path.join(data_fp,\"ns_subreddit_2021-06.json\")) as infile6:\n",
    "    ns_subreddit_06 = json.load(infile6)"
   ]
  },
  {
   "cell_type": "code",
   "execution_count": null,
   "metadata": {},
   "outputs": [],
   "source": [
    "subreddit_ns_jan[\"learnwelsh\"]"
   ]
  },
  {
   "cell_type": "markdown",
   "metadata": {},
   "source": [
    "## Apparently for some reason Reddit indexes many users as subreddits"
   ]
  },
  {
   "cell_type": "code",
   "execution_count": 211,
   "metadata": {},
   "outputs": [],
   "source": [
    "sr_union_old = (\n",
    "      set(subreddit_ns_jan) | set(subreddit_ns_feb) |\n",
    "      set(subreddit_ns_march) | set(subreddit_ns_april) |\n",
    "      set(subreddit_ns_may) | set(subreddit_ns_jun))"
   ]
  },
  {
   "cell_type": "code",
   "execution_count": 212,
   "metadata": {},
   "outputs": [
    {
     "data": {
      "text/plain": [
       "910554"
      ]
     },
     "execution_count": 212,
     "metadata": {},
     "output_type": "execute_result"
    }
   ],
   "source": [
    "u_s = [s for s in sr_union_old if s.startswith(\"u_\")]\n",
    "len(u_s)"
   ]
  },
  {
   "cell_type": "code",
   "execution_count": 213,
   "metadata": {},
   "outputs": [
    {
     "data": {
      "text/plain": [
       "['u_mariahgracew', 'u_forrest-kennedy', 'u_bharait', 'u_asds754', 'u_shakamya']"
      ]
     },
     "execution_count": 213,
     "metadata": {},
     "output_type": "execute_result"
    }
   ],
   "source": [
    "u_s[:5]"
   ]
  },
  {
   "cell_type": "code",
   "execution_count": 214,
   "metadata": {},
   "outputs": [
    {
     "data": {
      "text/plain": [
       "True"
      ]
     },
     "execution_count": 214,
     "metadata": {},
     "output_type": "execute_result"
    }
   ],
   "source": [
    "\"u_toronto_news\" in u_s"
   ]
  },
  {
   "cell_type": "markdown",
   "metadata": {},
   "source": [
    "## Let's exclude `u_*` from our subreddits and non_news from our news sources"
   ]
  },
  {
   "cell_type": "code",
   "execution_count": 215,
   "metadata": {},
   "outputs": [
    {
     "data": {
      "text/plain": [
       "130"
      ]
     },
     "execution_count": 215,
     "metadata": {},
     "output_type": "execute_result"
    }
   ],
   "source": [
    "non_news = []\n",
    "with open(\"non_news.csv\", \"r\", encoding=\"utf-8\") as nn:\n",
    "    r = csv.reader(nn, delimiter=\",\")\n",
    "    counter = 0\n",
    "    for row in r:\n",
    "        if counter != 0:\n",
    "            non_news.append(row[0])\n",
    "        counter += 1\n",
    "len(non_news)"
   ]
  },
  {
   "cell_type": "code",
   "execution_count": 216,
   "metadata": {},
   "outputs": [],
   "source": [
    "files_sub = [subreddit_ns_jan, subreddit_ns_feb, subreddit_ns_march, subreddit_ns_april, subreddit_ns_may, subreddit_ns_jun]\n",
    "files_ns = [ns_subreddit_01, ns_subreddit_02, ns_subreddit_03, ns_subreddit_04, ns_subreddit_05, ns_subreddit_06]"
   ]
  },
  {
   "cell_type": "markdown",
   "metadata": {},
   "source": [
    "Removing from files_sub"
   ]
  },
  {
   "cell_type": "code",
   "execution_count": 219,
   "metadata": {},
   "outputs": [
    {
     "data": {
      "text/plain": [
       "411723"
      ]
     },
     "execution_count": 219,
     "metadata": {},
     "output_type": "execute_result"
    }
   ],
   "source": [
    "len(subreddit_ns_jan)"
   ]
  },
  {
   "cell_type": "code",
   "execution_count": 220,
   "metadata": {},
   "outputs": [],
   "source": [
    "for f in files_sub:\n",
    "    [f.pop(u) for u in u_s if u in f]"
   ]
  },
  {
   "cell_type": "code",
   "execution_count": 221,
   "metadata": {},
   "outputs": [
    {
     "name": "stdout",
     "output_type": "stream",
     "text": [
      "Done for a file\n",
      "Done for a file\n",
      "Done for a file\n",
      "Done for a file\n",
      "Done for a file\n",
      "Done for a file\n"
     ]
    }
   ],
   "source": [
    "for f in files_sub:\n",
    "    for n in f:\n",
    "        if 'reddit.com' in f[n]: f[n].pop('reddit.com')\n",
    "        # removing each of the non_news\n",
    "        for nns in non_news:\n",
    "            if nns in f[n]: f[n].pop(nns)\n",
    "    print(\"Done for a file\")"
   ]
  },
  {
   "cell_type": "code",
   "execution_count": 222,
   "metadata": {},
   "outputs": [
    {
     "data": {
      "text/plain": [
       "False"
      ]
     },
     "execution_count": 222,
     "metadata": {},
     "output_type": "execute_result"
    }
   ],
   "source": [
    "\"u_toronto_news\" in subreddit_ns_jun"
   ]
  },
  {
   "cell_type": "markdown",
   "metadata": {},
   "source": [
    "Now that we have removed `reddit.com` from various subreddits, there would be subreddits that used to only have reddit.com but now does not have anything inside. Let's get rid of these subreddits as well."
   ]
  },
  {
   "cell_type": "code",
   "execution_count": 223,
   "metadata": {},
   "outputs": [],
   "source": [
    "files_sub = [subreddit_ns_jan, subreddit_ns_feb, subreddit_ns_march, subreddit_ns_april, subreddit_ns_may, subreddit_ns_jun]\n",
    "files_ns = [ns_subreddit_01, ns_subreddit_02, ns_subreddit_03, ns_subreddit_04, ns_subreddit_05, ns_subreddit_06]"
   ]
  },
  {
   "cell_type": "code",
   "execution_count": 227,
   "metadata": {},
   "outputs": [
    {
     "data": {
      "text/plain": [
       "686070"
      ]
     },
     "execution_count": 227,
     "metadata": {},
     "output_type": "execute_result"
    }
   ],
   "source": [
    "empty_subs = set()\n",
    "for s in files_sub:\n",
    "    for k in s:\n",
    "        if len(s[k]) == 0: empty_subs.add(k)\n",
    "len(empty_subs)"
   ]
  },
  {
   "cell_type": "code",
   "execution_count": 228,
   "metadata": {},
   "outputs": [
    {
     "data": {
      "text/plain": [
       "True"
      ]
     },
     "execution_count": 228,
     "metadata": {},
     "output_type": "execute_result"
    }
   ],
   "source": [
    "'ureddit' in empty_subs"
   ]
  },
  {
   "cell_type": "code",
   "execution_count": 229,
   "metadata": {},
   "outputs": [
    {
     "name": "stdout",
     "output_type": "stream",
     "text": [
      "done for a file\n",
      "done for a file\n",
      "done for a file\n",
      "done for a file\n",
      "done for a file\n",
      "done for a file\n"
     ]
    }
   ],
   "source": [
    "for f in files_sub:\n",
    "    [f.pop(u) for u in empty_subs if u in f]\n",
    "    print(\"done for a file\")"
   ]
  },
  {
   "cell_type": "markdown",
   "metadata": {},
   "source": [
    "Instead of removing from files_ns, I will reconstruct files_ns from files_sub."
   ]
  },
  {
   "cell_type": "code",
   "execution_count": 230,
   "metadata": {},
   "outputs": [],
   "source": [
    "def ns_from_sub(subfile):\n",
    "    d = defaultdict(dict)\n",
    "    for sub in subfile:\n",
    "        for n in subfile[sub]:\n",
    "            d[n][sub] = subfile[sub][n]\n",
    "    return d"
   ]
  },
  {
   "cell_type": "code",
   "execution_count": 231,
   "metadata": {},
   "outputs": [],
   "source": [
    "ns_subreddit_01 = ns_from_sub(subreddit_ns_jan)\n",
    "ns_subreddit_02 = ns_from_sub(subreddit_ns_feb)\n",
    "ns_subreddit_03 = ns_from_sub(subreddit_ns_march)\n",
    "ns_subreddit_04 = ns_from_sub(subreddit_ns_april)\n",
    "ns_subreddit_05 = ns_from_sub(subreddit_ns_may)\n",
    "ns_subreddit_06 = ns_from_sub(subreddit_ns_jun)"
   ]
  },
  {
   "cell_type": "code",
   "execution_count": 232,
   "metadata": {},
   "outputs": [
    {
     "data": {
      "text/plain": [
       "False"
      ]
     },
     "execution_count": 232,
     "metadata": {},
     "output_type": "execute_result"
    }
   ],
   "source": [
    "'reddit.com' in ns_subreddit_02"
   ]
  },
  {
   "cell_type": "markdown",
   "metadata": {},
   "source": [
    "Let's use the intersection in an alphabetical order as a fixed order of our subreddits."
   ]
  },
  {
   "cell_type": "code",
   "execution_count": 233,
   "metadata": {},
   "outputs": [],
   "source": [
    "subs = sorted(set(subreddit_ns_jan) & set(subreddit_ns_feb) &\n",
    "      set(subreddit_ns_march) & set(subreddit_ns_april) &\n",
    "      set(subreddit_ns_may) & set(subreddit_ns_jun))"
   ]
  },
  {
   "cell_type": "code",
   "execution_count": 234,
   "metadata": {
    "scrolled": true
   },
   "outputs": [
    {
     "data": {
      "text/plain": [
       "['0xProject', '1001Movies', '100movies365days', '100yearsago', '12thMan']"
      ]
     },
     "execution_count": 234,
     "metadata": {},
     "output_type": "execute_result"
    }
   ],
   "source": [
    "subs[:5]"
   ]
  },
  {
   "cell_type": "markdown",
   "metadata": {},
   "source": [
    "## Intersections and unions of subreddits"
   ]
  },
  {
   "cell_type": "code",
   "execution_count": 235,
   "metadata": {
    "scrolled": true
   },
   "outputs": [
    {
     "name": "stdout",
     "output_type": "stream",
     "text": [
      "intersection: 10194\n"
     ]
    }
   ],
   "source": [
    "# what about their intersection?\n",
    "sr_intersection = (\n",
    "      set(subreddit_ns_jan) & set(subreddit_ns_feb) &\n",
    "      set(subreddit_ns_march) & set(subreddit_ns_april) &\n",
    "      set(subreddit_ns_may) & set(subreddit_ns_jun))\n",
    "\n",
    "print(\"intersection:\", len(sr_intersection))"
   ]
  },
  {
   "cell_type": "code",
   "execution_count": 236,
   "metadata": {},
   "outputs": [
    {
     "name": "stdout",
     "output_type": "stream",
     "text": [
      "union: 23097\n"
     ]
    }
   ],
   "source": [
    "sr_union = (\n",
    "      set(subreddit_ns_jan) | set(subreddit_ns_feb) |\n",
    "      set(subreddit_ns_march) | set(subreddit_ns_april) |\n",
    "      set(subreddit_ns_may) | set(subreddit_ns_jun))\n",
    "\n",
    "print(\"union:\", len(sr_union))"
   ]
  },
  {
   "cell_type": "markdown",
   "metadata": {},
   "source": [
    "<a id=\"sub2\"></a>\n",
    "## News sources data"
   ]
  },
  {
   "cell_type": "markdown",
   "metadata": {},
   "source": [
    "How many news sources are there?"
   ]
  },
  {
   "cell_type": "code",
   "execution_count": 237,
   "metadata": {},
   "outputs": [
    {
     "data": {
      "text/plain": [
       "22872"
      ]
     },
     "execution_count": 237,
     "metadata": {},
     "output_type": "execute_result"
    }
   ],
   "source": [
    "# union\n",
    "ns_union = (set(ns_subreddit_01) |\n",
    "       set(ns_subreddit_02) |\n",
    "       set(ns_subreddit_03) |\n",
    "       set(ns_subreddit_04) |\n",
    "       set(ns_subreddit_05) |\n",
    "       set(ns_subreddit_06))\n",
    "\n",
    "len(ns_union)"
   ]
  },
  {
   "cell_type": "code",
   "execution_count": 238,
   "metadata": {},
   "outputs": [],
   "source": [
    "nss = (set(ns_subreddit_01) &\n",
    "       set(ns_subreddit_02) &\n",
    "       set(ns_subreddit_03) &\n",
    "       set(ns_subreddit_04) &\n",
    "       set(ns_subreddit_05) &\n",
    "       set(ns_subreddit_06))"
   ]
  },
  {
   "cell_type": "code",
   "execution_count": 239,
   "metadata": {},
   "outputs": [
    {
     "data": {
      "text/plain": [
       "8409"
      ]
     },
     "execution_count": 239,
     "metadata": {},
     "output_type": "execute_result"
    }
   ],
   "source": [
    "num_ns = len(nss)\n",
    "num_ns"
   ]
  },
  {
   "cell_type": "markdown",
   "metadata": {},
   "source": [
    "## For each news source, let's count in how many subreddits they appear"
   ]
  },
  {
   "cell_type": "code",
   "execution_count": 240,
   "metadata": {},
   "outputs": [],
   "source": [
    "subreddit_count = dict()\n",
    "for ns in ns_union:\n",
    "    subreddit_count[ns] = len(set(ns_subreddit_01.get(ns, dict()).keys()) \n",
    "                               | set(ns_subreddit_02.get(ns, dict()).keys()) \n",
    "                               | set(ns_subreddit_03.get(ns, dict()).keys()) \n",
    "                               | set(ns_subreddit_04.get(ns, dict()).keys())\n",
    "                               | set(ns_subreddit_05.get(ns, dict()).keys()) \n",
    "                               | set(ns_subreddit_06.get(ns, dict()).keys()))"
   ]
  },
  {
   "cell_type": "markdown",
   "metadata": {},
   "source": [
    "`subreddit_count` stores in how many subreddits each news source appears."
   ]
  },
  {
   "cell_type": "code",
   "execution_count": 241,
   "metadata": {},
   "outputs": [
    {
     "data": {
      "text/plain": [
       "4533"
      ]
     },
     "execution_count": 241,
     "metadata": {},
     "output_type": "execute_result"
    }
   ],
   "source": [
    "subreddit_count['nytimes.com']"
   ]
  },
  {
   "cell_type": "code",
   "execution_count": 242,
   "metadata": {},
   "outputs": [
    {
     "data": {
      "text/plain": [
       "{1: 4802,\n",
       " 2: 2764,\n",
       " 3: 1919,\n",
       " 4: 1360,\n",
       " 5: 1141,\n",
       " 6: 879,\n",
       " 7: 744,\n",
       " 8: 605,\n",
       " 9: 520,\n",
       " 10: 491,\n",
       " 12: 412,\n",
       " 11: 385,\n",
       " 14: 317,\n",
       " 13: 306,\n",
       " 15: 266,\n",
       " 17: 232,\n",
       " 16: 227,\n",
       " 19: 197,\n",
       " 18: 190,\n",
       " 20: 182,\n",
       " 21: 172,\n",
       " 22: 134,\n",
       " 23: 123,\n",
       " 25: 122,\n",
       " 24: 121,\n",
       " 29: 118,\n",
       " 26: 107,\n",
       " 30: 104,\n",
       " 27: 103,\n",
       " 28: 101,\n",
       " 31: 94,\n",
       " 32: 92,\n",
       " 34: 82,\n",
       " 33: 80,\n",
       " 35: 78,\n",
       " 40: 77,\n",
       " 36: 74,\n",
       " 37: 73,\n",
       " 44: 69,\n",
       " 45: 67,\n",
       " 42: 67,\n",
       " 39: 66,\n",
       " 43: 64,\n",
       " 41: 62,\n",
       " 38: 62,\n",
       " 50: 50,\n",
       " 46: 48,\n",
       " 49: 45,\n",
       " 47: 43,\n",
       " 52: 40,\n",
       " 53: 39,\n",
       " 54: 37,\n",
       " 63: 37,\n",
       " 51: 37,\n",
       " 48: 37,\n",
       " 57: 37,\n",
       " 62: 35,\n",
       " 59: 34,\n",
       " 55: 33,\n",
       " 67: 31,\n",
       " 66: 30,\n",
       " 65: 29,\n",
       " 56: 28,\n",
       " 58: 27,\n",
       " 71: 27,\n",
       " 70: 26,\n",
       " 72: 26,\n",
       " 61: 26,\n",
       " 75: 26,\n",
       " 69: 25,\n",
       " 84: 24,\n",
       " 77: 24,\n",
       " 76: 24,\n",
       " 60: 24,\n",
       " 64: 22,\n",
       " 86: 20,\n",
       " 68: 20,\n",
       " 79: 20,\n",
       " 129: 20,\n",
       " 98: 19,\n",
       " 73: 19,\n",
       " 95: 19,\n",
       " 109: 19,\n",
       " 90: 19,\n",
       " 85: 19,\n",
       " 80: 18,\n",
       " 91: 18,\n",
       " 83: 17,\n",
       " 97: 17,\n",
       " 81: 17,\n",
       " 82: 17,\n",
       " 89: 16,\n",
       " 74: 16,\n",
       " 94: 16,\n",
       " 113: 15,\n",
       " 100: 15,\n",
       " 117: 15,\n",
       " 99: 14,\n",
       " 87: 14,\n",
       " 107: 13,\n",
       " 92: 13,\n",
       " 126: 13,\n",
       " 130: 13,\n",
       " 127: 12,\n",
       " 93: 12,\n",
       " 106: 12,\n",
       " 121: 12,\n",
       " 102: 12,\n",
       " 154: 12,\n",
       " 78: 12,\n",
       " 101: 11,\n",
       " 144: 11,\n",
       " 88: 11,\n",
       " 137: 11,\n",
       " 104: 11,\n",
       " 197: 11,\n",
       " 145: 10,\n",
       " 141: 10,\n",
       " 115: 10,\n",
       " 120: 10,\n",
       " 111: 10,\n",
       " 128: 9,\n",
       " 131: 9,\n",
       " 125: 9,\n",
       " 96: 9,\n",
       " 169: 9,\n",
       " 143: 9,\n",
       " 110: 9,\n",
       " 114: 9,\n",
       " 161: 8,\n",
       " 133: 8,\n",
       " 176: 8,\n",
       " 124: 8,\n",
       " 119: 8,\n",
       " 105: 8,\n",
       " 138: 8,\n",
       " 103: 8,\n",
       " 116: 8,\n",
       " 108: 7,\n",
       " 118: 7,\n",
       " 228: 7,\n",
       " 122: 7,\n",
       " 163: 7,\n",
       " 140: 7,\n",
       " 139: 7,\n",
       " 160: 7,\n",
       " 146: 7,\n",
       " 156: 7,\n",
       " 151: 7,\n",
       " 147: 7,\n",
       " 134: 7,\n",
       " 204: 6,\n",
       " 196: 6,\n",
       " 177: 6,\n",
       " 222: 6,\n",
       " 155: 6,\n",
       " 112: 6,\n",
       " 220: 5,\n",
       " 191: 5,\n",
       " 206: 5,\n",
       " 209: 5,\n",
       " 235: 5,\n",
       " 232: 5,\n",
       " 189: 5,\n",
       " 203: 5,\n",
       " 164: 5,\n",
       " 135: 5,\n",
       " 132: 5,\n",
       " 123: 5,\n",
       " 165: 5,\n",
       " 184: 5,\n",
       " 183: 5,\n",
       " 136: 5,\n",
       " 216: 5,\n",
       " 185: 5,\n",
       " 361: 5,\n",
       " 153: 5,\n",
       " 171: 5,\n",
       " 142: 5,\n",
       " 217: 5,\n",
       " 173: 5,\n",
       " 302: 4,\n",
       " 168: 4,\n",
       " 190: 4,\n",
       " 248: 4,\n",
       " 255: 4,\n",
       " 208: 4,\n",
       " 259: 4,\n",
       " 159: 4,\n",
       " 199: 4,\n",
       " 205: 4,\n",
       " 178: 4,\n",
       " 238: 4,\n",
       " 166: 4,\n",
       " 202: 4,\n",
       " 162: 4,\n",
       " 277: 4,\n",
       " 221: 4,\n",
       " 179: 4,\n",
       " 279: 4,\n",
       " 298: 4,\n",
       " 370: 4,\n",
       " 148: 4,\n",
       " 394: 4,\n",
       " 271: 4,\n",
       " 194: 4,\n",
       " 149: 4,\n",
       " 192: 4,\n",
       " 233: 3,\n",
       " 230: 3,\n",
       " 257: 3,\n",
       " 417: 3,\n",
       " 241: 3,\n",
       " 187: 3,\n",
       " 212: 3,\n",
       " 244: 3,\n",
       " 207: 3,\n",
       " 327: 3,\n",
       " 157: 3,\n",
       " 367: 3,\n",
       " 601: 3,\n",
       " 313: 3,\n",
       " 152: 3,\n",
       " 270: 3,\n",
       " 170: 3,\n",
       " 214: 3,\n",
       " 396: 3,\n",
       " 198: 3,\n",
       " 306: 3,\n",
       " 334: 3,\n",
       " 646: 3,\n",
       " 158: 3,\n",
       " 261: 3,\n",
       " 242: 3,\n",
       " 211: 3,\n",
       " 326: 3,\n",
       " 315: 3,\n",
       " 346: 2,\n",
       " 263: 2,\n",
       " 213: 2,\n",
       " 637: 2,\n",
       " 512: 2,\n",
       " 180: 2,\n",
       " 1051: 2,\n",
       " 229: 2,\n",
       " 300: 2,\n",
       " 218: 2,\n",
       " 578: 2,\n",
       " 265: 2,\n",
       " 423: 2,\n",
       " 323: 2,\n",
       " 452: 2,\n",
       " 167: 2,\n",
       " 530: 2,\n",
       " 596: 2,\n",
       " 447: 2,\n",
       " 379: 2,\n",
       " 268: 2,\n",
       " 498: 2,\n",
       " 308: 2,\n",
       " 266: 2,\n",
       " 465: 2,\n",
       " 534: 2,\n",
       " 398: 2,\n",
       " 282: 2,\n",
       " 316: 2,\n",
       " 195: 2,\n",
       " 181: 2,\n",
       " 384: 2,\n",
       " 243: 2,\n",
       " 288: 2,\n",
       " 175: 2,\n",
       " 694: 2,\n",
       " 730: 2,\n",
       " 294: 2,\n",
       " 293: 2,\n",
       " 589: 2,\n",
       " 200: 2,\n",
       " 408: 2,\n",
       " 438: 2,\n",
       " 215: 2,\n",
       " 296: 2,\n",
       " 502: 2,\n",
       " 469: 2,\n",
       " 565: 2,\n",
       " 480: 2,\n",
       " 225: 2,\n",
       " 395: 2,\n",
       " 186: 2,\n",
       " 998: 2,\n",
       " 227: 2,\n",
       " 239: 2,\n",
       " 317: 2,\n",
       " 726: 2,\n",
       " 251: 2,\n",
       " 411: 2,\n",
       " 193: 2,\n",
       " 445: 2,\n",
       " 312: 2,\n",
       " 295: 2,\n",
       " 319: 2,\n",
       " 223: 2,\n",
       " 240: 2,\n",
       " 283: 2,\n",
       " 560: 2,\n",
       " 210: 2,\n",
       " 332: 2,\n",
       " 297: 2,\n",
       " 415: 1,\n",
       " 665: 1,\n",
       " 2107: 1,\n",
       " 1653: 1,\n",
       " 3518: 1,\n",
       " 661: 1,\n",
       " 621: 1,\n",
       " 666: 1,\n",
       " 1229: 1,\n",
       " 2202: 1,\n",
       " 260: 1,\n",
       " 651: 1,\n",
       " 373: 1,\n",
       " 2125: 1,\n",
       " 234: 1,\n",
       " 622: 1,\n",
       " 811: 1,\n",
       " 280: 1,\n",
       " 345: 1,\n",
       " 309: 1,\n",
       " 354: 1,\n",
       " 267: 1,\n",
       " 362: 1,\n",
       " 236: 1,\n",
       " 360: 1,\n",
       " 473: 1,\n",
       " 1057: 1,\n",
       " 873: 1,\n",
       " 474: 1,\n",
       " 353: 1,\n",
       " 383: 1,\n",
       " 337: 1,\n",
       " 439: 1,\n",
       " 2074: 1,\n",
       " 284: 1,\n",
       " 827: 1,\n",
       " 854: 1,\n",
       " 1198: 1,\n",
       " 4156: 1,\n",
       " 667: 1,\n",
       " 773: 1,\n",
       " 526: 1,\n",
       " 305: 1,\n",
       " 431: 1,\n",
       " 775: 1,\n",
       " 390: 1,\n",
       " 687: 1,\n",
       " 471: 1,\n",
       " 272: 1,\n",
       " 1081: 1,\n",
       " 767: 1,\n",
       " 710: 1,\n",
       " 584: 1,\n",
       " 328: 1,\n",
       " 649: 1,\n",
       " 3239: 1,\n",
       " 618: 1,\n",
       " 435: 1,\n",
       " 486: 1,\n",
       " 1266: 1,\n",
       " 517: 1,\n",
       " 4533: 1,\n",
       " 407: 1,\n",
       " 342: 1,\n",
       " 250: 1,\n",
       " 224: 1,\n",
       " 344: 1,\n",
       " 252: 1,\n",
       " 743: 1,\n",
       " 301: 1,\n",
       " 521: 1,\n",
       " 825: 1,\n",
       " 273: 1,\n",
       " 405: 1,\n",
       " 538: 1,\n",
       " 620: 1,\n",
       " 547: 1,\n",
       " 150: 1,\n",
       " 303: 1,\n",
       " 371: 1,\n",
       " 4594: 1,\n",
       " 188: 1,\n",
       " 1797: 1,\n",
       " 568: 1,\n",
       " 201: 1,\n",
       " 1052: 1,\n",
       " 291: 1,\n",
       " 2927: 1,\n",
       " 1210: 1,\n",
       " 416: 1,\n",
       " 527: 1,\n",
       " 368: 1,\n",
       " 839: 1,\n",
       " 753: 1,\n",
       " 703: 1,\n",
       " 219: 1,\n",
       " 739: 1,\n",
       " 245: 1,\n",
       " 689: 1,\n",
       " 792: 1,\n",
       " 2081: 1,\n",
       " 695: 1,\n",
       " 625: 1,\n",
       " 533: 1,\n",
       " 570: 1,\n",
       " 982: 1,\n",
       " 574: 1,\n",
       " 503: 1,\n",
       " 397: 1,\n",
       " 524: 1,\n",
       " 500: 1,\n",
       " 836: 1,\n",
       " 2396: 1,\n",
       " 951: 1,\n",
       " 2434: 1,\n",
       " 2799: 1,\n",
       " 714: 1,\n",
       " 644: 1,\n",
       " 501: 1,\n",
       " 1162: 1,\n",
       " 1040: 1,\n",
       " 363: 1,\n",
       " 1968: 1,\n",
       " 333: 1,\n",
       " 807: 1,\n",
       " 912: 1,\n",
       " 376: 1,\n",
       " 388: 1,\n",
       " 520: 1,\n",
       " 598: 1,\n",
       " 658: 1,\n",
       " 349: 1,\n",
       " 490: 1,\n",
       " 645: 1,\n",
       " 426: 1,\n",
       " 359: 1,\n",
       " 1241: 1,\n",
       " 348: 1,\n",
       " 391: 1,\n",
       " 466: 1,\n",
       " 1322: 1,\n",
       " 872: 1,\n",
       " 386: 1,\n",
       " 717: 1,\n",
       " 682: 1,\n",
       " 597: 1,\n",
       " 947: 1,\n",
       " 428: 1,\n",
       " 278: 1,\n",
       " 256: 1,\n",
       " 536: 1,\n",
       " 796: 1,\n",
       " 434: 1,\n",
       " 2698: 1,\n",
       " 733: 1,\n",
       " 984: 1,\n",
       " 518: 1,\n",
       " 559: 1,\n",
       " 287: 1,\n",
       " 1146: 1,\n",
       " 1566: 1,\n",
       " 2514: 1,\n",
       " 318: 1,\n",
       " 404: 1,\n",
       " 540: 1,\n",
       " 1103: 1,\n",
       " 443: 1,\n",
       " 331: 1,\n",
       " 1939: 1,\n",
       " 794: 1,\n",
       " 276: 1,\n",
       " 357: 1,\n",
       " 226: 1,\n",
       " 514: 1,\n",
       " 975: 1,\n",
       " 335: 1,\n",
       " 413: 1,\n",
       " 409: 1,\n",
       " 727: 1,\n",
       " 2397: 1,\n",
       " 307: 1,\n",
       " 350: 1,\n",
       " 351: 1,\n",
       " 1458: 1,\n",
       " 1369: 1,\n",
       " 182: 1,\n",
       " 1220: 1,\n",
       " 595: 1,\n",
       " 609: 1,\n",
       " 723: 1,\n",
       " 493: 1,\n",
       " 1295: 1,\n",
       " 275: 1,\n",
       " 716: 1,\n",
       " 2777: 1,\n",
       " 2473: 1,\n",
       " 1546: 1,\n",
       " 1698: 1,\n",
       " 1072: 1,\n",
       " 479: 1,\n",
       " 320: 1,\n",
       " 1259: 1,\n",
       " 1031: 1,\n",
       " 269: 1,\n",
       " 325: 1,\n",
       " 539: 1,\n",
       " 262: 1,\n",
       " 246: 1,\n",
       " 314: 1,\n",
       " 2593: 1,\n",
       " 382: 1,\n",
       " 249: 1,\n",
       " 1671: 1,\n",
       " 531: 1,\n",
       " 580: 1,\n",
       " 1392: 1,\n",
       " 1264: 1,\n",
       " 556: 1,\n",
       " 2289: 1,\n",
       " 491: 1,\n",
       " 321: 1,\n",
       " 258: 1,\n",
       " 764: 1,\n",
       " 343: 1,\n",
       " 457: 1,\n",
       " 515: 1,\n",
       " 746: 1,\n",
       " 231: 1,\n",
       " 472: 1,\n",
       " 456: 1,\n",
       " 809: 1,\n",
       " 959: 1,\n",
       " 699: 1,\n",
       " 372: 1,\n",
       " 970: 1,\n",
       " 352: 1,\n",
       " 761: 1,\n",
       " 339: 1,\n",
       " 3324: 1,\n",
       " 1281: 1,\n",
       " 945: 1,\n",
       " 871: 1,\n",
       " 1180: 1,\n",
       " 414: 1,\n",
       " 1893: 1,\n",
       " 310: 1,\n",
       " 347: 1,\n",
       " 364: 1,\n",
       " 174: 1,\n",
       " 845: 1,\n",
       " 425: 1}"
      ]
     },
     "execution_count": 242,
     "metadata": {},
     "output_type": "execute_result"
    }
   ],
   "source": [
    "subreddit_count_freq = dict(Counter(subreddit_count.values()).most_common())\n",
    "subreddit_count_freq"
   ]
  },
  {
   "cell_type": "markdown",
   "metadata": {},
   "source": [
    "`subreddit_count_freq` keeps track of how many news sources appear in *n* subreddits for all possible *n*."
   ]
  },
  {
   "cell_type": "code",
   "execution_count": 243,
   "metadata": {},
   "outputs": [
    {
     "data": {
      "text/plain": [
       "4594"
      ]
     },
     "execution_count": 243,
     "metadata": {},
     "output_type": "execute_result"
    }
   ],
   "source": [
    "max(subreddit_count_freq.keys())"
   ]
  },
  {
   "cell_type": "code",
   "execution_count": 266,
   "metadata": {},
   "outputs": [
    {
     "name": "stdout",
     "output_type": "stream",
     "text": [
      "theguardian.com is mentioned in 4594 subreddits.\n",
      "nytimes.com is mentioned in 4533 subreddits.\n",
      "cnn.com is mentioned in 4156 subreddits.\n",
      "bbc.com is mentioned in 3518 subreddits.\n",
      "reuters.com is mentioned in 3324 subreddits.\n",
      "washingtonpost.com is mentioned in 3239 subreddits.\n",
      "forbes.com is mentioned in 2927 subreddits.\n",
      "cnbc.com is mentioned in 2799 subreddits.\n",
      "bloomberg.com is mentioned in 2777 subreddits.\n",
      "apnews.com is mentioned in 2698 subreddits.\n",
      "businessinsider.com is mentioned in 2593 subreddits.\n",
      "npr.org is mentioned in 2514 subreddits.\n",
      "nbcnews.com is mentioned in 2473 subreddits.\n",
      "bbc.co.uk is mentioned in 2434 subreddits.\n",
      "msn.com is mentioned in 2397 subreddits.\n",
      "independent.co.uk is mentioned in 2396 subreddits.\n",
      "dailymail.co.uk is mentioned in 2289 subreddits.\n",
      "vice.com is mentioned in 2202 subreddits.\n",
      "wsj.com is mentioned in 2125 subreddits.\n",
      "nypost.com is mentioned in 2107 subreddits.\n",
      "usatoday.com is mentioned in 2081 subreddits.\n",
      "thehill.com is mentioned in 2074 subreddits.\n",
      "theverge.com is mentioned in 1968 subreddits.\n",
      "newsweek.com is mentioned in 1939 subreddits.\n",
      "cbc.ca is mentioned in 1893 subreddits.\n",
      "cbsnews.com is mentioned in 1797 subreddits.\n",
      "latimes.com is mentioned in 1698 subreddits.\n",
      "fandom.com is mentioned in 1671 subreddits.\n",
      "nih.gov is mentioned in 1653 subreddits.\n",
      "foxnews.com is mentioned in 1566 subreddits.\n"
     ]
    }
   ],
   "source": [
    "sde_ranked = Counter(subreddit_count).most_common()\n",
    "\n",
    "for t in sde_ranked[:30]:\n",
    "    sr, co = t\n",
    "    if co > 1:\n",
    "        print(f\"{sr} is mentioned in {co} subreddits.\")"
   ]
  },
  {
   "cell_type": "code",
   "execution_count": 298,
   "metadata": {},
   "outputs": [
    {
     "data": {
      "text/plain": [
       "447"
      ]
     },
     "execution_count": 298,
     "metadata": {},
     "output_type": "execute_result"
    }
   ],
   "source": [
    "subreddit_count[\"breitbart.com\"]"
   ]
  },
  {
   "cell_type": "code",
   "execution_count": 268,
   "metadata": {},
   "outputs": [
    {
     "data": {
      "text/plain": [
       "348"
      ]
     },
     "execution_count": 268,
     "metadata": {},
     "output_type": "execute_result"
    }
   ],
   "source": [
    "sc = [s for s in subreddit_count if subreddit_count[s]>=300]\n",
    "len(sc)"
   ]
  },
  {
   "cell_type": "markdown",
   "metadata": {},
   "source": [
    "```\n",
    "with open(\"sc_ge3k.csv\", \"w\", newline='', encoding=\"utf-8\") as s:\n",
    "    w = csv.writer(s, dialect=\"excel\", delimiter=\",\")\n",
    "    for c in sc:\n",
    "        w.writerow([c])\n",
    "```"
   ]
  },
  {
   "cell_type": "code",
   "execution_count": 269,
   "metadata": {},
   "outputs": [
    {
     "data": {
      "text/plain": [
       "True"
      ]
     },
     "execution_count": 269,
     "metadata": {},
     "output_type": "execute_result"
    }
   ],
   "source": [
    "sum(subreddit_count_freq.values()) == len(ns_union)"
   ]
  },
  {
   "cell_type": "code",
   "execution_count": 270,
   "metadata": {},
   "outputs": [],
   "source": [
    "import itertools"
   ]
  },
  {
   "cell_type": "code",
   "execution_count": 271,
   "metadata": {},
   "outputs": [],
   "source": [
    "scf = list(itertools.chain.from_iterable(itertools.repeat(k,v) for k,v in subreddit_count_freq.items()))"
   ]
  },
  {
   "cell_type": "code",
   "execution_count": 272,
   "metadata": {
    "scrolled": true
   },
   "outputs": [
    {
     "data": {
      "text/plain": [
       "Text(0.5, 1.0, 'number of news sources appearing in x subreddits')"
      ]
     },
     "execution_count": 272,
     "metadata": {},
     "output_type": "execute_result"
    },
    {
     "data": {
      "image/png": "[encoded data removed]",
      "text/plain": [
       "<Figure size 432x288 with 1 Axes>"
      ]
     },
     "metadata": {},
     "output_type": "display_data"
    }
   ],
   "source": [
    "# sns.histplot([math.log(s,10) for s in scf])\n",
    "sns.histplot(scf, log_scale=True)\n",
    "plt.xlabel(\"number of subreddit\")\n",
    "plt.ylabel(\"news source count\")\n",
    "plt.title(\"number of news sources appearing in x subreddits\")"
   ]
  },
  {
   "cell_type": "markdown",
   "metadata": {},
   "source": [
    "How many news sources only appear in 10 subreddits or less? what about 9 or 8?"
   ]
  },
  {
   "cell_type": "code",
   "execution_count": 273,
   "metadata": {},
   "outputs": [],
   "source": [
    "def pct_ns_in_k_subreddits(ks):\n",
    "    ns_in_i_subreddit = [k for k in subreddit_count if subreddit_count[k] <= ks]\n",
    "    count = len(ns_in_i_subreddit)\n",
    "    print(\"There are {} news sources appearing in only {} subreddits or less ({}%)\".format(count, ks, count/len(ns_union)))\n",
    "    return count/len(ns_union)"
   ]
  },
  {
   "cell_type": "code",
   "execution_count": 274,
   "metadata": {},
   "outputs": [
    {
     "name": "stdout",
     "output_type": "stream",
     "text": [
      "There are 11986 news sources appearing in only 5 subreddits or less (0.5240468695348024%)\n"
     ]
    },
    {
     "data": {
      "text/plain": [
       "0.5240468695348024"
      ]
     },
     "execution_count": 274,
     "metadata": {},
     "output_type": "execute_result"
    }
   ],
   "source": [
    "pct_ns_in_k_subreddits(5)"
   ]
  },
  {
   "cell_type": "code",
   "execution_count": 275,
   "metadata": {},
   "outputs": [
    {
     "name": "stdout",
     "output_type": "stream",
     "text": [
      "There are 0 news sources appearing in only 0 subreddits or less (0.0%)\n",
      "There are 4802 news sources appearing in only 1 subreddits or less (0.20995103182931094%)\n",
      "There are 7566 news sources appearing in only 2 subreddits or less (0.330797481636936%)\n",
      "There are 9485 news sources appearing in only 3 subreddits or less (0.4146991955229101%)\n",
      "There are 10845 news sources appearing in only 4 subreddits or less (0.47416054564533056%)\n",
      "There are 11986 news sources appearing in only 5 subreddits or less (0.5240468695348024%)\n",
      "There are 12865 news sources appearing in only 6 subreddits or less (0.5624781392095138%)\n",
      "There are 13609 news sources appearing in only 7 subreddits or less (0.5950069954529555%)\n",
      "There are 14214 news sources appearing in only 8 subreddits or less (0.6214585519412382%)\n",
      "There are 14734 news sources appearing in only 9 subreddits or less (0.6441937740468695%)\n",
      "There are 15225 news sources appearing in only 10 subreddits or less (0.6656610703043022%)\n",
      "There are 15610 news sources appearing in only 11 subreddits or less (0.6824938789786639%)\n",
      "There are 16022 news sources appearing in only 12 subreddits or less (0.7005071703392795%)\n",
      "There are 16328 news sources appearing in only 13 subreddits or less (0.7138859741168241%)\n",
      "There are 16645 news sources appearing in only 14 subreddits or less (0.7277457152850647%)\n",
      "There are 16911 news sources appearing in only 15 subreddits or less (0.7393756558237146%)\n",
      "There are 17138 news sources appearing in only 16 subreddits or less (0.7493004547044421%)\n",
      "There are 17370 news sources appearing in only 17 subreddits or less (0.7594438614900315%)\n",
      "There are 17560 news sources appearing in only 18 subreddits or less (0.7677509618747814%)\n",
      "There are 17757 news sources appearing in only 19 subreddits or less (0.7763641133263379%)\n",
      "There are 17939 news sources appearing in only 20 subreddits or less (0.7843214410633088%)\n",
      "There are 18111 news sources appearing in only 21 subreddits or less (0.7918415529905561%)\n",
      "There are 18245 news sources appearing in only 22 subreddits or less (0.7977002448408534%)\n",
      "There are 18368 news sources appearing in only 23 subreddits or less (0.8030779993004548%)\n",
      "There are 18489 news sources appearing in only 24 subreddits or less (0.8083683105981112%)\n",
      "There are 18611 news sources appearing in only 25 subreddits or less (0.8137023434767401%)\n",
      "There are 18718 news sources appearing in only 26 subreddits or less (0.8183805526407835%)\n",
      "There are 18821 news sources appearing in only 27 subreddits or less (0.8228838754809374%)\n",
      "There are 18922 news sources appearing in only 28 subreddits or less (0.8272997551591466%)\n",
      "There are 19040 news sources appearing in only 29 subreddits or less (0.8324589017138859%)\n",
      "There are 19144 news sources appearing in only 30 subreddits or less (0.8370059461350122%)\n",
      "There are 19238 news sources appearing in only 31 subreddits or less (0.8411157747464149%)\n",
      "There are 19330 news sources appearing in only 32 subreddits or less (0.8451381601958727%)\n",
      "There are 19410 news sources appearing in only 33 subreddits or less (0.8486358866736621%)\n",
      "There are 19492 news sources appearing in only 34 subreddits or less (0.8522210563133963%)\n",
      "There are 19570 news sources appearing in only 35 subreddits or less (0.855631339629241%)\n",
      "There are 19644 news sources appearing in only 36 subreddits or less (0.8588667366211962%)\n",
      "There are 19717 news sources appearing in only 37 subreddits or less (0.862058412032179%)\n",
      "There are 19779 news sources appearing in only 38 subreddits or less (0.8647691500524659%)\n",
      "There are 19845 news sources appearing in only 39 subreddits or less (0.8676547743966422%)\n",
      "There are 19922 news sources appearing in only 40 subreddits or less (0.8710213361315146%)\n",
      "There are 19984 news sources appearing in only 41 subreddits or less (0.8737320741518013%)\n",
      "There are 20051 news sources appearing in only 42 subreddits or less (0.87666142007695%)\n",
      "There are 20115 news sources appearing in only 43 subreddits or less (0.8794596012591815%)\n",
      "There are 20184 news sources appearing in only 44 subreddits or less (0.8824763903462749%)\n",
      "There are 20251 news sources appearing in only 45 subreddits or less (0.8854057362714236%)\n",
      "There are 20299 news sources appearing in only 46 subreddits or less (0.8875043721580972%)\n",
      "There are 20342 news sources appearing in only 47 subreddits or less (0.889384400139909%)\n",
      "There are 20379 news sources appearing in only 48 subreddits or less (0.8910020986358866%)\n",
      "There are 20424 news sources appearing in only 49 subreddits or less (0.8929695697796433%)\n",
      "There are 20474 news sources appearing in only 50 subreddits or less (0.8951556488282616%)\n",
      "There are 20511 news sources appearing in only 51 subreddits or less (0.8967733473242392%)\n",
      "There are 20551 news sources appearing in only 52 subreddits or less (0.898522210563134%)\n",
      "There are 20590 news sources appearing in only 53 subreddits or less (0.9002273522210563%)\n",
      "There are 20627 news sources appearing in only 54 subreddits or less (0.9018450507170339%)\n",
      "There are 20660 news sources appearing in only 55 subreddits or less (0.9032878628891221%)\n",
      "There are 20688 news sources appearing in only 56 subreddits or less (0.9045120671563484%)\n",
      "There are 20725 news sources appearing in only 57 subreddits or less (0.906129765652326%)\n",
      "There are 20752 news sources appearing in only 58 subreddits or less (0.9073102483385799%)\n",
      "There are 20786 news sources appearing in only 59 subreddits or less (0.9087967820916404%)\n",
      "There are 20810 news sources appearing in only 60 subreddits or less (0.9098461000349772%)\n",
      "There are 20836 news sources appearing in only 61 subreddits or less (0.9109828611402588%)\n",
      "There are 20871 news sources appearing in only 62 subreddits or less (0.9125131164742917%)\n",
      "There are 20908 news sources appearing in only 63 subreddits or less (0.9141308149702694%)\n",
      "There are 20930 news sources appearing in only 64 subreddits or less (0.9150926897516615%)\n",
      "There are 20959 news sources appearing in only 65 subreddits or less (0.91636061559986%)\n",
      "There are 20989 news sources appearing in only 66 subreddits or less (0.9176722630290312%)\n",
      "There are 21020 news sources appearing in only 67 subreddits or less (0.9190276320391746%)\n",
      "There are 21040 news sources appearing in only 68 subreddits or less (0.9199020636586219%)\n",
      "There are 21065 news sources appearing in only 69 subreddits or less (0.9209951031829311%)\n",
      "There are 21091 news sources appearing in only 70 subreddits or less (0.9221318642882127%)\n",
      "There are 21118 news sources appearing in only 71 subreddits or less (0.9233123469744666%)\n",
      "There are 21144 news sources appearing in only 72 subreddits or less (0.9244491080797481%)\n",
      "There are 21163 news sources appearing in only 73 subreddits or less (0.9252798181182231%)\n",
      "There are 21179 news sources appearing in only 74 subreddits or less (0.9259793634137811%)\n",
      "There are 21205 news sources appearing in only 75 subreddits or less (0.9271161245190626%)\n",
      "There are 21229 news sources appearing in only 76 subreddits or less (0.9281654424623994%)\n",
      "There are 21253 news sources appearing in only 77 subreddits or less (0.9292147604057363%)\n",
      "There are 21265 news sources appearing in only 78 subreddits or less (0.9297394193774047%)\n",
      "There are 21285 news sources appearing in only 79 subreddits or less (0.930613850996852%)\n",
      "There are 21303 news sources appearing in only 80 subreddits or less (0.9314008394543547%)\n",
      "There are 21320 news sources appearing in only 81 subreddits or less (0.932144106330885%)\n",
      "There are 21337 news sources appearing in only 82 subreddits or less (0.9328873732074152%)\n",
      "There are 21354 news sources appearing in only 83 subreddits or less (0.9336306400839455%)\n",
      "There are 21378 news sources appearing in only 84 subreddits or less (0.9346799580272823%)\n",
      "There are 21397 news sources appearing in only 85 subreddits or less (0.9355106680657572%)\n",
      "There are 21417 news sources appearing in only 86 subreddits or less (0.9363850996852047%)\n",
      "There are 21431 news sources appearing in only 87 subreddits or less (0.9369972018188177%)\n",
      "There are 21442 news sources appearing in only 88 subreddits or less (0.9374781392095138%)\n",
      "There are 21458 news sources appearing in only 89 subreddits or less (0.9381776845050717%)\n",
      "There are 21477 news sources appearing in only 90 subreddits or less (0.9390083945435467%)\n",
      "There are 21495 news sources appearing in only 91 subreddits or less (0.9397953830010494%)\n",
      "There are 21508 news sources appearing in only 92 subreddits or less (0.9403637635536901%)\n",
      "There are 21520 news sources appearing in only 93 subreddits or less (0.9408884225253585%)\n",
      "There are 21536 news sources appearing in only 94 subreddits or less (0.9415879678209164%)\n",
      "There are 21555 news sources appearing in only 95 subreddits or less (0.9424186778593914%)\n",
      "There are 21564 news sources appearing in only 96 subreddits or less (0.9428121720881427%)\n"
     ]
    },
    {
     "name": "stdout",
     "output_type": "stream",
     "text": [
      "There are 21581 news sources appearing in only 97 subreddits or less (0.943555438964673%)\n",
      "There are 21600 news sources appearing in only 98 subreddits or less (0.944386149003148%)\n",
      "There are 21614 news sources appearing in only 99 subreddits or less (0.9449982511367611%)\n",
      "There are 21629 news sources appearing in only 100 subreddits or less (0.9456540748513467%)\n",
      "There are 21640 news sources appearing in only 101 subreddits or less (0.9461350122420427%)\n",
      "There are 21652 news sources appearing in only 102 subreddits or less (0.9466596712137111%)\n",
      "There are 21660 news sources appearing in only 103 subreddits or less (0.94700944386149%)\n",
      "There are 21671 news sources appearing in only 104 subreddits or less (0.9474903812521861%)\n",
      "There are 21679 news sources appearing in only 105 subreddits or less (0.947840153899965%)\n",
      "There are 21691 news sources appearing in only 106 subreddits or less (0.9483648128716334%)\n",
      "There are 21704 news sources appearing in only 107 subreddits or less (0.9489331934242742%)\n",
      "There are 21711 news sources appearing in only 108 subreddits or less (0.9492392444910808%)\n",
      "There are 21730 news sources appearing in only 109 subreddits or less (0.9500699545295558%)\n",
      "There are 21739 news sources appearing in only 110 subreddits or less (0.9504634487583071%)\n",
      "There are 21749 news sources appearing in only 111 subreddits or less (0.9509006645680308%)\n",
      "There are 21755 news sources appearing in only 112 subreddits or less (0.951162994053865%)\n",
      "There are 21770 news sources appearing in only 113 subreddits or less (0.9518188177684505%)\n",
      "There are 21779 news sources appearing in only 114 subreddits or less (0.9522123119972018%)\n",
      "There are 21789 news sources appearing in only 115 subreddits or less (0.9526495278069255%)\n",
      "There are 21797 news sources appearing in only 116 subreddits or less (0.9529993004547045%)\n",
      "There are 21812 news sources appearing in only 117 subreddits or less (0.95365512416929%)\n",
      "There are 21819 news sources appearing in only 118 subreddits or less (0.9539611752360966%)\n",
      "There are 21827 news sources appearing in only 119 subreddits or less (0.9543109478838755%)\n",
      "There are 21837 news sources appearing in only 120 subreddits or less (0.9547481636935992%)\n",
      "There are 21849 news sources appearing in only 121 subreddits or less (0.9552728226652676%)\n",
      "There are 21856 news sources appearing in only 122 subreddits or less (0.9555788737320742%)\n",
      "There are 21861 news sources appearing in only 123 subreddits or less (0.955797481636936%)\n",
      "There are 21869 news sources appearing in only 124 subreddits or less (0.9561472542847149%)\n",
      "There are 21878 news sources appearing in only 125 subreddits or less (0.9565407485134663%)\n",
      "There are 21891 news sources appearing in only 126 subreddits or less (0.957109129066107%)\n",
      "There are 21903 news sources appearing in only 127 subreddits or less (0.9576337880377754%)\n",
      "There are 21912 news sources appearing in only 128 subreddits or less (0.9580272822665268%)\n",
      "There are 21932 news sources appearing in only 129 subreddits or less (0.9589017138859741%)\n",
      "There are 21945 news sources appearing in only 130 subreddits or less (0.9594700944386149%)\n",
      "There are 21954 news sources appearing in only 131 subreddits or less (0.9598635886673662%)\n",
      "There are 21959 news sources appearing in only 132 subreddits or less (0.960082196572228%)\n",
      "There are 21967 news sources appearing in only 133 subreddits or less (0.960431969220007%)\n",
      "There are 21974 news sources appearing in only 134 subreddits or less (0.9607380202868135%)\n",
      "There are 21979 news sources appearing in only 135 subreddits or less (0.9609566281916754%)\n",
      "There are 21984 news sources appearing in only 136 subreddits or less (0.9611752360965372%)\n",
      "There are 21995 news sources appearing in only 137 subreddits or less (0.9616561734872333%)\n",
      "There are 22003 news sources appearing in only 138 subreddits or less (0.9620059461350122%)\n",
      "There are 22010 news sources appearing in only 139 subreddits or less (0.9623119972018188%)\n",
      "There are 22017 news sources appearing in only 140 subreddits or less (0.9626180482686254%)\n",
      "There are 22027 news sources appearing in only 141 subreddits or less (0.9630552640783491%)\n",
      "There are 22032 news sources appearing in only 142 subreddits or less (0.9632738719832109%)\n",
      "There are 22041 news sources appearing in only 143 subreddits or less (0.9636673662119623%)\n",
      "There are 22052 news sources appearing in only 144 subreddits or less (0.9641483036026582%)\n",
      "There are 22062 news sources appearing in only 145 subreddits or less (0.9645855194123819%)\n",
      "There are 22069 news sources appearing in only 146 subreddits or less (0.9648915704791885%)\n",
      "There are 22076 news sources appearing in only 147 subreddits or less (0.9651976215459951%)\n",
      "There are 22080 news sources appearing in only 148 subreddits or less (0.9653725078698846%)\n",
      "There are 22084 news sources appearing in only 149 subreddits or less (0.965547394193774%)\n",
      "There are 22085 news sources appearing in only 150 subreddits or less (0.9655911157747464%)\n",
      "There are 22092 news sources appearing in only 151 subreddits or less (0.965897166841553%)\n",
      "There are 22095 news sources appearing in only 152 subreddits or less (0.9660283315844701%)\n",
      "There are 22100 news sources appearing in only 153 subreddits or less (0.9662469394893319%)\n",
      "There are 22112 news sources appearing in only 154 subreddits or less (0.9667715984610004%)\n",
      "There are 22118 news sources appearing in only 155 subreddits or less (0.9670339279468345%)\n",
      "There are 22125 news sources appearing in only 156 subreddits or less (0.9673399790136411%)\n",
      "There are 22128 news sources appearing in only 157 subreddits or less (0.9674711437565582%)\n",
      "There are 22131 news sources appearing in only 158 subreddits or less (0.9676023084994754%)\n",
      "There are 22135 news sources appearing in only 159 subreddits or less (0.9677771948233648%)\n",
      "There are 22142 news sources appearing in only 160 subreddits or less (0.9680832458901714%)\n",
      "There are 22150 news sources appearing in only 161 subreddits or less (0.9684330185379504%)\n",
      "There are 22154 news sources appearing in only 162 subreddits or less (0.9686079048618398%)\n",
      "There are 22161 news sources appearing in only 163 subreddits or less (0.9689139559286464%)\n",
      "There are 22166 news sources appearing in only 164 subreddits or less (0.9691325638335082%)\n",
      "There are 22171 news sources appearing in only 165 subreddits or less (0.96935117173837%)\n",
      "There are 22175 news sources appearing in only 166 subreddits or less (0.9695260580622596%)\n",
      "There are 22177 news sources appearing in only 167 subreddits or less (0.9696135012242043%)\n",
      "There are 22181 news sources appearing in only 168 subreddits or less (0.9697883875480937%)\n",
      "There are 22190 news sources appearing in only 169 subreddits or less (0.9701818817768451%)\n",
      "There are 22193 news sources appearing in only 170 subreddits or less (0.9703130465197621%)\n",
      "There are 22198 news sources appearing in only 171 subreddits or less (0.970531654424624%)\n",
      "There are 22198 news sources appearing in only 172 subreddits or less (0.970531654424624%)\n",
      "There are 22203 news sources appearing in only 173 subreddits or less (0.9707502623294858%)\n",
      "There are 22204 news sources appearing in only 174 subreddits or less (0.9707939839104582%)\n",
      "There are 22206 news sources appearing in only 175 subreddits or less (0.970881427072403%)\n",
      "There are 22214 news sources appearing in only 176 subreddits or less (0.9712311997201819%)\n",
      "There are 22220 news sources appearing in only 177 subreddits or less (0.9714935292060161%)\n",
      "There are 22224 news sources appearing in only 178 subreddits or less (0.9716684155299056%)\n",
      "There are 22228 news sources appearing in only 179 subreddits or less (0.9718433018537951%)\n",
      "There are 22230 news sources appearing in only 180 subreddits or less (0.9719307450157397%)\n",
      "There are 22232 news sources appearing in only 181 subreddits or less (0.9720181881776845%)\n",
      "There are 22233 news sources appearing in only 182 subreddits or less (0.9720619097586569%)\n",
      "There are 22238 news sources appearing in only 183 subreddits or less (0.9722805176635188%)\n",
      "There are 22243 news sources appearing in only 184 subreddits or less (0.9724991255683806%)\n",
      "There are 22248 news sources appearing in only 185 subreddits or less (0.9727177334732424%)\n",
      "There are 22250 news sources appearing in only 186 subreddits or less (0.9728051766351872%)\n",
      "There are 22253 news sources appearing in only 187 subreddits or less (0.9729363413781043%)\n",
      "There are 22254 news sources appearing in only 188 subreddits or less (0.9729800629590766%)\n",
      "There are 22259 news sources appearing in only 189 subreddits or less (0.9731986708639384%)\n",
      "There are 22263 news sources appearing in only 190 subreddits or less (0.9733735571878279%)\n",
      "There are 22268 news sources appearing in only 191 subreddits or less (0.9735921650926898%)\n",
      "There are 22272 news sources appearing in only 192 subreddits or less (0.9737670514165793%)\n",
      "There are 22274 news sources appearing in only 193 subreddits or less (0.9738544945785239%)\n"
     ]
    },
    {
     "name": "stdout",
     "output_type": "stream",
     "text": [
      "There are 22278 news sources appearing in only 194 subreddits or less (0.9740293809024134%)\n",
      "There are 22280 news sources appearing in only 195 subreddits or less (0.9741168240643582%)\n",
      "There are 22286 news sources appearing in only 196 subreddits or less (0.9743791535501923%)\n",
      "There are 22297 news sources appearing in only 197 subreddits or less (0.9748600909408884%)\n",
      "There are 22300 news sources appearing in only 198 subreddits or less (0.9749912556838055%)\n",
      "There are 22304 news sources appearing in only 199 subreddits or less (0.975166142007695%)\n",
      "There are 22306 news sources appearing in only 200 subreddits or less (0.9752535851696398%)\n",
      "There are 22307 news sources appearing in only 201 subreddits or less (0.9752973067506121%)\n",
      "There are 22311 news sources appearing in only 202 subreddits or less (0.9754721930745016%)\n",
      "There are 22316 news sources appearing in only 203 subreddits or less (0.9756908009793634%)\n",
      "There are 22322 news sources appearing in only 204 subreddits or less (0.9759531304651976%)\n",
      "There are 22326 news sources appearing in only 205 subreddits or less (0.9761280167890871%)\n",
      "There are 22331 news sources appearing in only 206 subreddits or less (0.976346624693949%)\n",
      "There are 22334 news sources appearing in only 207 subreddits or less (0.976477789436866%)\n",
      "There are 22338 news sources appearing in only 208 subreddits or less (0.9766526757607555%)\n",
      "There are 22343 news sources appearing in only 209 subreddits or less (0.9768712836656174%)\n",
      "There are 22345 news sources appearing in only 210 subreddits or less (0.9769587268275621%)\n",
      "There are 22348 news sources appearing in only 211 subreddits or less (0.9770898915704792%)\n",
      "There are 22351 news sources appearing in only 212 subreddits or less (0.9772210563133963%)\n",
      "There are 22353 news sources appearing in only 213 subreddits or less (0.977308499475341%)\n",
      "There are 22356 news sources appearing in only 214 subreddits or less (0.9774396642182581%)\n",
      "There are 22358 news sources appearing in only 215 subreddits or less (0.9775271073802029%)\n",
      "There are 22363 news sources appearing in only 216 subreddits or less (0.9777457152850647%)\n",
      "There are 22368 news sources appearing in only 217 subreddits or less (0.9779643231899265%)\n",
      "There are 22370 news sources appearing in only 218 subreddits or less (0.9780517663518713%)\n",
      "There are 22371 news sources appearing in only 219 subreddits or less (0.9780954879328436%)\n",
      "There are 22376 news sources appearing in only 220 subreddits or less (0.9783140958377055%)\n",
      "There are 22380 news sources appearing in only 221 subreddits or less (0.978488982161595%)\n",
      "There are 22386 news sources appearing in only 222 subreddits or less (0.9787513116474291%)\n",
      "There are 22388 news sources appearing in only 223 subreddits or less (0.9788387548093739%)\n",
      "There are 22389 news sources appearing in only 224 subreddits or less (0.9788824763903463%)\n",
      "There are 22391 news sources appearing in only 225 subreddits or less (0.978969919552291%)\n",
      "There are 22392 news sources appearing in only 226 subreddits or less (0.9790136411332634%)\n",
      "There are 22394 news sources appearing in only 227 subreddits or less (0.9791010842952081%)\n",
      "There are 22401 news sources appearing in only 228 subreddits or less (0.9794071353620147%)\n",
      "There are 22403 news sources appearing in only 229 subreddits or less (0.9794945785239594%)\n",
      "There are 22406 news sources appearing in only 230 subreddits or less (0.9796257432668766%)\n",
      "There are 22407 news sources appearing in only 231 subreddits or less (0.9796694648478489%)\n",
      "There are 22412 news sources appearing in only 232 subreddits or less (0.9798880727527107%)\n",
      "There are 22415 news sources appearing in only 233 subreddits or less (0.9800192374956278%)\n",
      "There are 22416 news sources appearing in only 234 subreddits or less (0.9800629590766002%)\n",
      "There are 22421 news sources appearing in only 235 subreddits or less (0.9802815669814621%)\n",
      "There are 22422 news sources appearing in only 236 subreddits or less (0.9803252885624344%)\n",
      "There are 22422 news sources appearing in only 237 subreddits or less (0.9803252885624344%)\n",
      "There are 22426 news sources appearing in only 238 subreddits or less (0.9805001748863239%)\n",
      "There are 22428 news sources appearing in only 239 subreddits or less (0.9805876180482687%)\n",
      "There are 22430 news sources appearing in only 240 subreddits or less (0.9806750612102134%)\n",
      "There are 22433 news sources appearing in only 241 subreddits or less (0.9808062259531305%)\n",
      "There are 22436 news sources appearing in only 242 subreddits or less (0.9809373906960476%)\n",
      "There are 22438 news sources appearing in only 243 subreddits or less (0.9810248338579923%)\n",
      "There are 22441 news sources appearing in only 244 subreddits or less (0.9811559986009094%)\n",
      "There are 22442 news sources appearing in only 245 subreddits or less (0.9811997201818817%)\n",
      "There are 22443 news sources appearing in only 246 subreddits or less (0.9812434417628542%)\n",
      "There are 22443 news sources appearing in only 247 subreddits or less (0.9812434417628542%)\n",
      "There are 22447 news sources appearing in only 248 subreddits or less (0.9814183280867436%)\n",
      "There are 22448 news sources appearing in only 249 subreddits or less (0.981462049667716%)\n",
      "There are 22449 news sources appearing in only 250 subreddits or less (0.9815057712486883%)\n",
      "There are 22451 news sources appearing in only 251 subreddits or less (0.9815932144106331%)\n",
      "There are 22452 news sources appearing in only 252 subreddits or less (0.9816369359916055%)\n",
      "There are 22452 news sources appearing in only 253 subreddits or less (0.9816369359916055%)\n",
      "There are 22452 news sources appearing in only 254 subreddits or less (0.9816369359916055%)\n",
      "There are 22456 news sources appearing in only 255 subreddits or less (0.9818118223154949%)\n",
      "There are 22457 news sources appearing in only 256 subreddits or less (0.9818555438964673%)\n",
      "There are 22460 news sources appearing in only 257 subreddits or less (0.9819867086393844%)\n",
      "There are 22461 news sources appearing in only 258 subreddits or less (0.9820304302203567%)\n",
      "There are 22465 news sources appearing in only 259 subreddits or less (0.9822053165442463%)\n",
      "There are 22466 news sources appearing in only 260 subreddits or less (0.9822490381252186%)\n",
      "There are 22469 news sources appearing in only 261 subreddits or less (0.9823802028681358%)\n",
      "There are 22470 news sources appearing in only 262 subreddits or less (0.9824239244491081%)\n",
      "There are 22472 news sources appearing in only 263 subreddits or less (0.9825113676110528%)\n",
      "There are 22472 news sources appearing in only 264 subreddits or less (0.9825113676110528%)\n",
      "There are 22474 news sources appearing in only 265 subreddits or less (0.9825988107729976%)\n",
      "There are 22476 news sources appearing in only 266 subreddits or less (0.9826862539349422%)\n",
      "There are 22477 news sources appearing in only 267 subreddits or less (0.9827299755159147%)\n",
      "There are 22479 news sources appearing in only 268 subreddits or less (0.9828174186778594%)\n",
      "There are 22480 news sources appearing in only 269 subreddits or less (0.9828611402588318%)\n",
      "There are 22483 news sources appearing in only 270 subreddits or less (0.9829923050017488%)\n",
      "There are 22487 news sources appearing in only 271 subreddits or less (0.9831671913256383%)\n",
      "There are 22488 news sources appearing in only 272 subreddits or less (0.9832109129066107%)\n",
      "There are 22489 news sources appearing in only 273 subreddits or less (0.9832546344875831%)\n",
      "There are 22489 news sources appearing in only 274 subreddits or less (0.9832546344875831%)\n",
      "There are 22490 news sources appearing in only 275 subreddits or less (0.9832983560685554%)\n",
      "There are 22491 news sources appearing in only 276 subreddits or less (0.9833420776495279%)\n",
      "There are 22495 news sources appearing in only 277 subreddits or less (0.9835169639734173%)\n",
      "There are 22496 news sources appearing in only 278 subreddits or less (0.9835606855543897%)\n",
      "There are 22500 news sources appearing in only 279 subreddits or less (0.9837355718782791%)\n",
      "There are 22501 news sources appearing in only 280 subreddits or less (0.9837792934592515%)\n",
      "There are 22501 news sources appearing in only 281 subreddits or less (0.9837792934592515%)\n",
      "There are 22503 news sources appearing in only 282 subreddits or less (0.9838667366211962%)\n",
      "There are 22505 news sources appearing in only 283 subreddits or less (0.9839541797831409%)\n",
      "There are 22506 news sources appearing in only 284 subreddits or less (0.9839979013641134%)\n",
      "There are 22506 news sources appearing in only 285 subreddits or less (0.9839979013641134%)\n",
      "There are 22506 news sources appearing in only 286 subreddits or less (0.9839979013641134%)\n",
      "There are 22507 news sources appearing in only 287 subreddits or less (0.9840416229450857%)\n",
      "There are 22509 news sources appearing in only 288 subreddits or less (0.9841290661070304%)\n",
      "There are 22509 news sources appearing in only 289 subreddits or less (0.9841290661070304%)\n",
      "There are 22509 news sources appearing in only 290 subreddits or less (0.9841290661070304%)\n",
      "There are 22510 news sources appearing in only 291 subreddits or less (0.9841727876880028%)\n",
      "There are 22510 news sources appearing in only 292 subreddits or less (0.9841727876880028%)\n",
      "There are 22512 news sources appearing in only 293 subreddits or less (0.9842602308499475%)\n",
      "There are 22514 news sources appearing in only 294 subreddits or less (0.9843476740118923%)\n",
      "There are 22516 news sources appearing in only 295 subreddits or less (0.984435117173837%)\n",
      "There are 22518 news sources appearing in only 296 subreddits or less (0.9845225603357818%)\n",
      "There are 22520 news sources appearing in only 297 subreddits or less (0.9846100034977264%)\n",
      "There are 22524 news sources appearing in only 298 subreddits or less (0.9847848898216159%)\n",
      "There are 22524 news sources appearing in only 299 subreddits or less (0.9847848898216159%)\n",
      "There are 22526 news sources appearing in only 300 subreddits or less (0.9848723329835607%)\n",
      "There are 22527 news sources appearing in only 301 subreddits or less (0.984916054564533%)\n",
      "There are 22531 news sources appearing in only 302 subreddits or less (0.9850909408884225%)\n",
      "There are 22532 news sources appearing in only 303 subreddits or less (0.9851346624693949%)\n",
      "There are 22532 news sources appearing in only 304 subreddits or less (0.9851346624693949%)\n"
     ]
    },
    {
     "name": "stdout",
     "output_type": "stream",
     "text": [
      "There are 22533 news sources appearing in only 305 subreddits or less (0.9851783840503673%)\n",
      "There are 22536 news sources appearing in only 306 subreddits or less (0.9853095487932844%)\n",
      "There are 22537 news sources appearing in only 307 subreddits or less (0.9853532703742567%)\n",
      "There are 22539 news sources appearing in only 308 subreddits or less (0.9854407135362014%)\n",
      "There are 22540 news sources appearing in only 309 subreddits or less (0.9854844351171739%)\n",
      "There are 22541 news sources appearing in only 310 subreddits or less (0.9855281566981462%)\n",
      "There are 22541 news sources appearing in only 311 subreddits or less (0.9855281566981462%)\n",
      "There are 22543 news sources appearing in only 312 subreddits or less (0.985615599860091%)\n",
      "There are 22546 news sources appearing in only 313 subreddits or less (0.985746764603008%)\n",
      "There are 22547 news sources appearing in only 314 subreddits or less (0.9857904861839805%)\n",
      "There are 22550 news sources appearing in only 315 subreddits or less (0.9859216509268975%)\n",
      "There are 22552 news sources appearing in only 316 subreddits or less (0.9860090940888423%)\n",
      "There are 22554 news sources appearing in only 317 subreddits or less (0.9860965372507869%)\n",
      "There are 22555 news sources appearing in only 318 subreddits or less (0.9861402588317594%)\n",
      "There are 22557 news sources appearing in only 319 subreddits or less (0.9862277019937041%)\n",
      "There are 22558 news sources appearing in only 320 subreddits or less (0.9862714235746765%)\n",
      "There are 22559 news sources appearing in only 321 subreddits or less (0.9863151451556488%)\n",
      "There are 22559 news sources appearing in only 322 subreddits or less (0.9863151451556488%)\n",
      "There are 22561 news sources appearing in only 323 subreddits or less (0.9864025883175935%)\n",
      "There are 22561 news sources appearing in only 324 subreddits or less (0.9864025883175935%)\n",
      "There are 22562 news sources appearing in only 325 subreddits or less (0.986446309898566%)\n",
      "There are 22565 news sources appearing in only 326 subreddits or less (0.986577474641483%)\n",
      "There are 22568 news sources appearing in only 327 subreddits or less (0.9867086393844001%)\n",
      "There are 22569 news sources appearing in only 328 subreddits or less (0.9867523609653726%)\n",
      "There are 22569 news sources appearing in only 329 subreddits or less (0.9867523609653726%)\n",
      "There are 22569 news sources appearing in only 330 subreddits or less (0.9867523609653726%)\n",
      "There are 22570 news sources appearing in only 331 subreddits or less (0.9867960825463449%)\n",
      "There are 22572 news sources appearing in only 332 subreddits or less (0.9868835257082896%)\n",
      "There are 22573 news sources appearing in only 333 subreddits or less (0.986927247289262%)\n",
      "There are 22576 news sources appearing in only 334 subreddits or less (0.987058412032179%)\n",
      "There are 22577 news sources appearing in only 335 subreddits or less (0.9871021336131515%)\n",
      "There are 22577 news sources appearing in only 336 subreddits or less (0.9871021336131515%)\n",
      "There are 22578 news sources appearing in only 337 subreddits or less (0.9871458551941238%)\n",
      "There are 22578 news sources appearing in only 338 subreddits or less (0.9871458551941238%)\n",
      "There are 22579 news sources appearing in only 339 subreddits or less (0.9871895767750962%)\n",
      "There are 22579 news sources appearing in only 340 subreddits or less (0.9871895767750962%)\n",
      "There are 22579 news sources appearing in only 341 subreddits or less (0.9871895767750962%)\n",
      "There are 22580 news sources appearing in only 342 subreddits or less (0.9872332983560685%)\n",
      "There are 22581 news sources appearing in only 343 subreddits or less (0.987277019937041%)\n",
      "There are 22582 news sources appearing in only 344 subreddits or less (0.9873207415180133%)\n",
      "There are 22583 news sources appearing in only 345 subreddits or less (0.9873644630989856%)\n",
      "There are 22585 news sources appearing in only 346 subreddits or less (0.9874519062609304%)\n",
      "There are 22586 news sources appearing in only 347 subreddits or less (0.9874956278419028%)\n",
      "There are 22587 news sources appearing in only 348 subreddits or less (0.9875393494228751%)\n",
      "There are 22588 news sources appearing in only 349 subreddits or less (0.9875830710038475%)\n",
      "There are 22589 news sources appearing in only 350 subreddits or less (0.9876267925848199%)\n",
      "There are 22590 news sources appearing in only 351 subreddits or less (0.9876705141657922%)\n",
      "There are 22591 news sources appearing in only 352 subreddits or less (0.9877142357467646%)\n",
      "There are 22592 news sources appearing in only 353 subreddits or less (0.987757957327737%)\n",
      "There are 22593 news sources appearing in only 354 subreddits or less (0.9878016789087093%)\n",
      "There are 22593 news sources appearing in only 355 subreddits or less (0.9878016789087093%)\n",
      "There are 22593 news sources appearing in only 356 subreddits or less (0.9878016789087093%)\n",
      "There are 22594 news sources appearing in only 357 subreddits or less (0.9878454004896817%)\n",
      "There are 22594 news sources appearing in only 358 subreddits or less (0.9878454004896817%)\n",
      "There are 22595 news sources appearing in only 359 subreddits or less (0.987889122070654%)\n",
      "There are 22596 news sources appearing in only 360 subreddits or less (0.9879328436516265%)\n",
      "There are 22601 news sources appearing in only 361 subreddits or less (0.9881514515564883%)\n",
      "There are 22602 news sources appearing in only 362 subreddits or less (0.9881951731374606%)\n",
      "There are 22603 news sources appearing in only 363 subreddits or less (0.9882388947184331%)\n",
      "There are 22604 news sources appearing in only 364 subreddits or less (0.9882826162994054%)\n",
      "There are 22604 news sources appearing in only 365 subreddits or less (0.9882826162994054%)\n",
      "There are 22604 news sources appearing in only 366 subreddits or less (0.9882826162994054%)\n",
      "There are 22607 news sources appearing in only 367 subreddits or less (0.9884137810423225%)\n",
      "There are 22608 news sources appearing in only 368 subreddits or less (0.9884575026232949%)\n",
      "There are 22608 news sources appearing in only 369 subreddits or less (0.9884575026232949%)\n",
      "There are 22612 news sources appearing in only 370 subreddits or less (0.9886323889471843%)\n",
      "There are 22613 news sources appearing in only 371 subreddits or less (0.9886761105281567%)\n",
      "There are 22614 news sources appearing in only 372 subreddits or less (0.9887198321091291%)\n",
      "There are 22615 news sources appearing in only 373 subreddits or less (0.9887635536901014%)\n",
      "There are 22615 news sources appearing in only 374 subreddits or less (0.9887635536901014%)\n",
      "There are 22615 news sources appearing in only 375 subreddits or less (0.9887635536901014%)\n",
      "There are 22616 news sources appearing in only 376 subreddits or less (0.9888072752710738%)\n",
      "There are 22616 news sources appearing in only 377 subreddits or less (0.9888072752710738%)\n",
      "There are 22616 news sources appearing in only 378 subreddits or less (0.9888072752710738%)\n",
      "There are 22618 news sources appearing in only 379 subreddits or less (0.9888947184330186%)\n",
      "There are 22618 news sources appearing in only 380 subreddits or less (0.9888947184330186%)\n",
      "There are 22618 news sources appearing in only 381 subreddits or less (0.9888947184330186%)\n",
      "There are 22619 news sources appearing in only 382 subreddits or less (0.9889384400139909%)\n",
      "There are 22620 news sources appearing in only 383 subreddits or less (0.9889821615949633%)\n",
      "There are 22622 news sources appearing in only 384 subreddits or less (0.989069604756908%)\n",
      "There are 22622 news sources appearing in only 385 subreddits or less (0.989069604756908%)\n",
      "There are 22623 news sources appearing in only 386 subreddits or less (0.9891133263378804%)\n",
      "There are 22623 news sources appearing in only 387 subreddits or less (0.9891133263378804%)\n",
      "There are 22624 news sources appearing in only 388 subreddits or less (0.9891570479188527%)\n",
      "There are 22624 news sources appearing in only 389 subreddits or less (0.9891570479188527%)\n",
      "There are 22625 news sources appearing in only 390 subreddits or less (0.9892007694998252%)\n",
      "There are 22626 news sources appearing in only 391 subreddits or less (0.9892444910807975%)\n",
      "There are 22626 news sources appearing in only 392 subreddits or less (0.9892444910807975%)\n",
      "There are 22626 news sources appearing in only 393 subreddits or less (0.9892444910807975%)\n",
      "There are 22630 news sources appearing in only 394 subreddits or less (0.989419377404687%)\n",
      "There are 22632 news sources appearing in only 395 subreddits or less (0.9895068205666316%)\n",
      "There are 22635 news sources appearing in only 396 subreddits or less (0.9896379853095488%)\n",
      "There are 22636 news sources appearing in only 397 subreddits or less (0.9896817068905212%)\n",
      "There are 22638 news sources appearing in only 398 subreddits or less (0.9897691500524659%)\n",
      "There are 22638 news sources appearing in only 399 subreddits or less (0.9897691500524659%)\n",
      "There are 22638 news sources appearing in only 400 subreddits or less (0.9897691500524659%)\n",
      "There are 22638 news sources appearing in only 401 subreddits or less (0.9897691500524659%)\n",
      "There are 22638 news sources appearing in only 402 subreddits or less (0.9897691500524659%)\n",
      "There are 22638 news sources appearing in only 403 subreddits or less (0.9897691500524659%)\n",
      "There are 22639 news sources appearing in only 404 subreddits or less (0.9898128716334382%)\n",
      "There are 22640 news sources appearing in only 405 subreddits or less (0.9898565932144107%)\n",
      "There are 22640 news sources appearing in only 406 subreddits or less (0.9898565932144107%)\n",
      "There are 22641 news sources appearing in only 407 subreddits or less (0.989900314795383%)\n",
      "There are 22643 news sources appearing in only 408 subreddits or less (0.9899877579573277%)\n",
      "There are 22644 news sources appearing in only 409 subreddits or less (0.9900314795383001%)\n",
      "There are 22644 news sources appearing in only 410 subreddits or less (0.9900314795383001%)\n",
      "There are 22646 news sources appearing in only 411 subreddits or less (0.9901189227002448%)\n",
      "There are 22646 news sources appearing in only 412 subreddits or less (0.9901189227002448%)\n",
      "There are 22647 news sources appearing in only 413 subreddits or less (0.9901626442812173%)\n"
     ]
    },
    {
     "name": "stdout",
     "output_type": "stream",
     "text": [
      "There are 22648 news sources appearing in only 414 subreddits or less (0.9902063658621896%)\n",
      "There are 22649 news sources appearing in only 415 subreddits or less (0.9902500874431619%)\n",
      "There are 22650 news sources appearing in only 416 subreddits or less (0.9902938090241343%)\n",
      "There are 22653 news sources appearing in only 417 subreddits or less (0.9904249737670514%)\n",
      "There are 22653 news sources appearing in only 418 subreddits or less (0.9904249737670514%)\n",
      "There are 22653 news sources appearing in only 419 subreddits or less (0.9904249737670514%)\n",
      "There are 22653 news sources appearing in only 420 subreddits or less (0.9904249737670514%)\n",
      "There are 22653 news sources appearing in only 421 subreddits or less (0.9904249737670514%)\n",
      "There are 22653 news sources appearing in only 422 subreddits or less (0.9904249737670514%)\n",
      "There are 22655 news sources appearing in only 423 subreddits or less (0.9905124169289962%)\n",
      "There are 22655 news sources appearing in only 424 subreddits or less (0.9905124169289962%)\n",
      "There are 22656 news sources appearing in only 425 subreddits or less (0.9905561385099685%)\n",
      "There are 22657 news sources appearing in only 426 subreddits or less (0.9905998600909409%)\n",
      "There are 22657 news sources appearing in only 427 subreddits or less (0.9905998600909409%)\n",
      "There are 22658 news sources appearing in only 428 subreddits or less (0.9906435816719132%)\n",
      "There are 22658 news sources appearing in only 429 subreddits or less (0.9906435816719132%)\n",
      "There are 22658 news sources appearing in only 430 subreddits or less (0.9906435816719132%)\n",
      "There are 22659 news sources appearing in only 431 subreddits or less (0.9906873032528857%)\n",
      "There are 22659 news sources appearing in only 432 subreddits or less (0.9906873032528857%)\n",
      "There are 22659 news sources appearing in only 433 subreddits or less (0.9906873032528857%)\n",
      "There are 22660 news sources appearing in only 434 subreddits or less (0.990731024833858%)\n",
      "There are 22661 news sources appearing in only 435 subreddits or less (0.9907747464148303%)\n",
      "There are 22661 news sources appearing in only 436 subreddits or less (0.9907747464148303%)\n",
      "There are 22661 news sources appearing in only 437 subreddits or less (0.9907747464148303%)\n",
      "There are 22663 news sources appearing in only 438 subreddits or less (0.9908621895767751%)\n",
      "There are 22664 news sources appearing in only 439 subreddits or less (0.9909059111577475%)\n",
      "There are 22664 news sources appearing in only 440 subreddits or less (0.9909059111577475%)\n",
      "There are 22664 news sources appearing in only 441 subreddits or less (0.9909059111577475%)\n",
      "There are 22664 news sources appearing in only 442 subreddits or less (0.9909059111577475%)\n",
      "There are 22665 news sources appearing in only 443 subreddits or less (0.9909496327387198%)\n",
      "There are 22665 news sources appearing in only 444 subreddits or less (0.9909496327387198%)\n",
      "There are 22667 news sources appearing in only 445 subreddits or less (0.9910370759006646%)\n",
      "There are 22667 news sources appearing in only 446 subreddits or less (0.9910370759006646%)\n",
      "There are 22669 news sources appearing in only 447 subreddits or less (0.9911245190626093%)\n",
      "There are 22669 news sources appearing in only 448 subreddits or less (0.9911245190626093%)\n",
      "There are 22669 news sources appearing in only 449 subreddits or less (0.9911245190626093%)\n",
      "There are 22669 news sources appearing in only 450 subreddits or less (0.9911245190626093%)\n",
      "There are 22669 news sources appearing in only 451 subreddits or less (0.9911245190626093%)\n",
      "There are 22671 news sources appearing in only 452 subreddits or less (0.991211962224554%)\n",
      "There are 22671 news sources appearing in only 453 subreddits or less (0.991211962224554%)\n",
      "There are 22671 news sources appearing in only 454 subreddits or less (0.991211962224554%)\n",
      "There are 22671 news sources appearing in only 455 subreddits or less (0.991211962224554%)\n",
      "There are 22672 news sources appearing in only 456 subreddits or less (0.9912556838055264%)\n",
      "There are 22673 news sources appearing in only 457 subreddits or less (0.9912994053864987%)\n",
      "There are 22673 news sources appearing in only 458 subreddits or less (0.9912994053864987%)\n",
      "There are 22673 news sources appearing in only 459 subreddits or less (0.9912994053864987%)\n",
      "There are 22673 news sources appearing in only 460 subreddits or less (0.9912994053864987%)\n",
      "There are 22673 news sources appearing in only 461 subreddits or less (0.9912994053864987%)\n",
      "There are 22673 news sources appearing in only 462 subreddits or less (0.9912994053864987%)\n",
      "There are 22673 news sources appearing in only 463 subreddits or less (0.9912994053864987%)\n",
      "There are 22673 news sources appearing in only 464 subreddits or less (0.9912994053864987%)\n",
      "There are 22675 news sources appearing in only 465 subreddits or less (0.9913868485484435%)\n",
      "There are 22676 news sources appearing in only 466 subreddits or less (0.9914305701294159%)\n",
      "There are 22676 news sources appearing in only 467 subreddits or less (0.9914305701294159%)\n",
      "There are 22676 news sources appearing in only 468 subreddits or less (0.9914305701294159%)\n",
      "There are 22678 news sources appearing in only 469 subreddits or less (0.9915180132913606%)\n",
      "There are 22678 news sources appearing in only 470 subreddits or less (0.9915180132913606%)\n",
      "There are 22679 news sources appearing in only 471 subreddits or less (0.991561734872333%)\n",
      "There are 22680 news sources appearing in only 472 subreddits or less (0.9916054564533053%)\n",
      "There are 22681 news sources appearing in only 473 subreddits or less (0.9916491780342778%)\n",
      "There are 22682 news sources appearing in only 474 subreddits or less (0.9916928996152501%)\n",
      "There are 22682 news sources appearing in only 475 subreddits or less (0.9916928996152501%)\n",
      "There are 22682 news sources appearing in only 476 subreddits or less (0.9916928996152501%)\n",
      "There are 22682 news sources appearing in only 477 subreddits or less (0.9916928996152501%)\n",
      "There are 22682 news sources appearing in only 478 subreddits or less (0.9916928996152501%)\n",
      "There are 22683 news sources appearing in only 479 subreddits or less (0.9917366211962224%)\n",
      "There are 22685 news sources appearing in only 480 subreddits or less (0.9918240643581672%)\n",
      "There are 22685 news sources appearing in only 481 subreddits or less (0.9918240643581672%)\n",
      "There are 22685 news sources appearing in only 482 subreddits or less (0.9918240643581672%)\n",
      "There are 22685 news sources appearing in only 483 subreddits or less (0.9918240643581672%)\n",
      "There are 22685 news sources appearing in only 484 subreddits or less (0.9918240643581672%)\n",
      "There are 22685 news sources appearing in only 485 subreddits or less (0.9918240643581672%)\n",
      "There are 22686 news sources appearing in only 486 subreddits or less (0.9918677859391396%)\n",
      "There are 22686 news sources appearing in only 487 subreddits or less (0.9918677859391396%)\n",
      "There are 22686 news sources appearing in only 488 subreddits or less (0.9918677859391396%)\n",
      "There are 22686 news sources appearing in only 489 subreddits or less (0.9918677859391396%)\n",
      "There are 22687 news sources appearing in only 490 subreddits or less (0.9919115075201119%)\n",
      "There are 22688 news sources appearing in only 491 subreddits or less (0.9919552291010842%)\n",
      "There are 22688 news sources appearing in only 492 subreddits or less (0.9919552291010842%)\n",
      "There are 22689 news sources appearing in only 493 subreddits or less (0.9919989506820567%)\n",
      "There are 22689 news sources appearing in only 494 subreddits or less (0.9919989506820567%)\n",
      "There are 22689 news sources appearing in only 495 subreddits or less (0.9919989506820567%)\n",
      "There are 22689 news sources appearing in only 496 subreddits or less (0.9919989506820567%)\n",
      "There are 22689 news sources appearing in only 497 subreddits or less (0.9919989506820567%)\n",
      "There are 22691 news sources appearing in only 498 subreddits or less (0.9920863938440014%)\n",
      "There are 22691 news sources appearing in only 499 subreddits or less (0.9920863938440014%)\n",
      "There are 22692 news sources appearing in only 500 subreddits or less (0.9921301154249738%)\n",
      "There are 22693 news sources appearing in only 501 subreddits or less (0.9921738370059461%)\n",
      "There are 22695 news sources appearing in only 502 subreddits or less (0.9922612801678908%)\n",
      "There are 22696 news sources appearing in only 503 subreddits or less (0.9923050017488633%)\n",
      "There are 22696 news sources appearing in only 504 subreddits or less (0.9923050017488633%)\n",
      "There are 22696 news sources appearing in only 505 subreddits or less (0.9923050017488633%)\n",
      "There are 22696 news sources appearing in only 506 subreddits or less (0.9923050017488633%)\n",
      "There are 22696 news sources appearing in only 507 subreddits or less (0.9923050017488633%)\n",
      "There are 22696 news sources appearing in only 508 subreddits or less (0.9923050017488633%)\n",
      "There are 22696 news sources appearing in only 509 subreddits or less (0.9923050017488633%)\n",
      "There are 22696 news sources appearing in only 510 subreddits or less (0.9923050017488633%)\n",
      "There are 22696 news sources appearing in only 511 subreddits or less (0.9923050017488633%)\n",
      "There are 22698 news sources appearing in only 512 subreddits or less (0.992392444910808%)\n",
      "There are 22698 news sources appearing in only 513 subreddits or less (0.992392444910808%)\n",
      "There are 22699 news sources appearing in only 514 subreddits or less (0.9924361664917803%)\n",
      "There are 22700 news sources appearing in only 515 subreddits or less (0.9924798880727527%)\n",
      "There are 22700 news sources appearing in only 516 subreddits or less (0.9924798880727527%)\n",
      "There are 22701 news sources appearing in only 517 subreddits or less (0.9925236096537251%)\n"
     ]
    },
    {
     "name": "stdout",
     "output_type": "stream",
     "text": [
      "There are 22702 news sources appearing in only 518 subreddits or less (0.9925673312346974%)\n",
      "There are 22702 news sources appearing in only 519 subreddits or less (0.9925673312346974%)\n",
      "There are 22703 news sources appearing in only 520 subreddits or less (0.9926110528156699%)\n",
      "There are 22704 news sources appearing in only 521 subreddits or less (0.9926547743966422%)\n",
      "There are 22704 news sources appearing in only 522 subreddits or less (0.9926547743966422%)\n",
      "There are 22704 news sources appearing in only 523 subreddits or less (0.9926547743966422%)\n",
      "There are 22705 news sources appearing in only 524 subreddits or less (0.9926984959776145%)\n",
      "There are 22705 news sources appearing in only 525 subreddits or less (0.9926984959776145%)\n",
      "There are 22706 news sources appearing in only 526 subreddits or less (0.9927422175585869%)\n",
      "There are 22707 news sources appearing in only 527 subreddits or less (0.9927859391395593%)\n",
      "There are 22707 news sources appearing in only 528 subreddits or less (0.9927859391395593%)\n",
      "There are 22707 news sources appearing in only 529 subreddits or less (0.9927859391395593%)\n",
      "There are 22709 news sources appearing in only 530 subreddits or less (0.992873382301504%)\n",
      "There are 22710 news sources appearing in only 531 subreddits or less (0.9929171038824763%)\n",
      "There are 22710 news sources appearing in only 532 subreddits or less (0.9929171038824763%)\n",
      "There are 22711 news sources appearing in only 533 subreddits or less (0.9929608254634488%)\n",
      "There are 22713 news sources appearing in only 534 subreddits or less (0.9930482686253935%)\n",
      "There are 22713 news sources appearing in only 535 subreddits or less (0.9930482686253935%)\n",
      "There are 22714 news sources appearing in only 536 subreddits or less (0.9930919902063658%)\n",
      "There are 22714 news sources appearing in only 537 subreddits or less (0.9930919902063658%)\n",
      "There are 22715 news sources appearing in only 538 subreddits or less (0.9931357117873383%)\n",
      "There are 22716 news sources appearing in only 539 subreddits or less (0.9931794333683106%)\n",
      "There are 22717 news sources appearing in only 540 subreddits or less (0.9932231549492829%)\n",
      "There are 22717 news sources appearing in only 541 subreddits or less (0.9932231549492829%)\n",
      "There are 22717 news sources appearing in only 542 subreddits or less (0.9932231549492829%)\n",
      "There are 22717 news sources appearing in only 543 subreddits or less (0.9932231549492829%)\n",
      "There are 22717 news sources appearing in only 544 subreddits or less (0.9932231549492829%)\n",
      "There are 22717 news sources appearing in only 545 subreddits or less (0.9932231549492829%)\n",
      "There are 22717 news sources appearing in only 546 subreddits or less (0.9932231549492829%)\n",
      "There are 22718 news sources appearing in only 547 subreddits or less (0.9932668765302554%)\n",
      "There are 22718 news sources appearing in only 548 subreddits or less (0.9932668765302554%)\n",
      "There are 22718 news sources appearing in only 549 subreddits or less (0.9932668765302554%)\n",
      "There are 22718 news sources appearing in only 550 subreddits or less (0.9932668765302554%)\n",
      "There are 22718 news sources appearing in only 551 subreddits or less (0.9932668765302554%)\n",
      "There are 22718 news sources appearing in only 552 subreddits or less (0.9932668765302554%)\n",
      "There are 22718 news sources appearing in only 553 subreddits or less (0.9932668765302554%)\n",
      "There are 22718 news sources appearing in only 554 subreddits or less (0.9932668765302554%)\n",
      "There are 22718 news sources appearing in only 555 subreddits or less (0.9932668765302554%)\n",
      "There are 22719 news sources appearing in only 556 subreddits or less (0.9933105981112277%)\n",
      "There are 22719 news sources appearing in only 557 subreddits or less (0.9933105981112277%)\n",
      "There are 22719 news sources appearing in only 558 subreddits or less (0.9933105981112277%)\n",
      "There are 22720 news sources appearing in only 559 subreddits or less (0.9933543196922001%)\n",
      "There are 22722 news sources appearing in only 560 subreddits or less (0.9934417628541448%)\n",
      "There are 22722 news sources appearing in only 561 subreddits or less (0.9934417628541448%)\n",
      "There are 22722 news sources appearing in only 562 subreddits or less (0.9934417628541448%)\n",
      "There are 22722 news sources appearing in only 563 subreddits or less (0.9934417628541448%)\n",
      "There are 22722 news sources appearing in only 564 subreddits or less (0.9934417628541448%)\n",
      "There are 22724 news sources appearing in only 565 subreddits or less (0.9935292060160895%)\n",
      "There are 22724 news sources appearing in only 566 subreddits or less (0.9935292060160895%)\n",
      "There are 22724 news sources appearing in only 567 subreddits or less (0.9935292060160895%)\n",
      "There are 22725 news sources appearing in only 568 subreddits or less (0.993572927597062%)\n",
      "There are 22725 news sources appearing in only 569 subreddits or less (0.993572927597062%)\n",
      "There are 22726 news sources appearing in only 570 subreddits or less (0.9936166491780343%)\n",
      "There are 22726 news sources appearing in only 571 subreddits or less (0.9936166491780343%)\n",
      "There are 22726 news sources appearing in only 572 subreddits or less (0.9936166491780343%)\n",
      "There are 22726 news sources appearing in only 573 subreddits or less (0.9936166491780343%)\n",
      "There are 22727 news sources appearing in only 574 subreddits or less (0.9936603707590066%)\n",
      "There are 22727 news sources appearing in only 575 subreddits or less (0.9936603707590066%)\n",
      "There are 22727 news sources appearing in only 576 subreddits or less (0.9936603707590066%)\n",
      "There are 22727 news sources appearing in only 577 subreddits or less (0.9936603707590066%)\n",
      "There are 22729 news sources appearing in only 578 subreddits or less (0.9937478139209514%)\n",
      "There are 22729 news sources appearing in only 579 subreddits or less (0.9937478139209514%)\n",
      "There are 22730 news sources appearing in only 580 subreddits or less (0.9937915355019238%)\n",
      "There are 22730 news sources appearing in only 581 subreddits or less (0.9937915355019238%)\n",
      "There are 22730 news sources appearing in only 582 subreddits or less (0.9937915355019238%)\n",
      "There are 22730 news sources appearing in only 583 subreddits or less (0.9937915355019238%)\n",
      "There are 22731 news sources appearing in only 584 subreddits or less (0.9938352570828961%)\n",
      "There are 22731 news sources appearing in only 585 subreddits or less (0.9938352570828961%)\n",
      "There are 22731 news sources appearing in only 586 subreddits or less (0.9938352570828961%)\n",
      "There are 22731 news sources appearing in only 587 subreddits or less (0.9938352570828961%)\n",
      "There are 22731 news sources appearing in only 588 subreddits or less (0.9938352570828961%)\n",
      "There are 22733 news sources appearing in only 589 subreddits or less (0.9939227002448409%)\n",
      "There are 22733 news sources appearing in only 590 subreddits or less (0.9939227002448409%)\n",
      "There are 22733 news sources appearing in only 591 subreddits or less (0.9939227002448409%)\n",
      "There are 22733 news sources appearing in only 592 subreddits or less (0.9939227002448409%)\n",
      "There are 22733 news sources appearing in only 593 subreddits or less (0.9939227002448409%)\n",
      "There are 22733 news sources appearing in only 594 subreddits or less (0.9939227002448409%)\n",
      "There are 22734 news sources appearing in only 595 subreddits or less (0.9939664218258132%)\n",
      "There are 22736 news sources appearing in only 596 subreddits or less (0.9940538649877579%)\n",
      "There are 22737 news sources appearing in only 597 subreddits or less (0.9940975865687304%)\n",
      "There are 22738 news sources appearing in only 598 subreddits or less (0.9941413081497027%)\n",
      "There are 22738 news sources appearing in only 599 subreddits or less (0.9941413081497027%)\n",
      "There are 22738 news sources appearing in only 600 subreddits or less (0.9941413081497027%)\n",
      "There are 22741 news sources appearing in only 601 subreddits or less (0.9942724728926198%)\n",
      "There are 22741 news sources appearing in only 602 subreddits or less (0.9942724728926198%)\n",
      "There are 22741 news sources appearing in only 603 subreddits or less (0.9942724728926198%)\n",
      "There are 22741 news sources appearing in only 604 subreddits or less (0.9942724728926198%)\n",
      "There are 22741 news sources appearing in only 605 subreddits or less (0.9942724728926198%)\n",
      "There are 22741 news sources appearing in only 606 subreddits or less (0.9942724728926198%)\n",
      "There are 22741 news sources appearing in only 607 subreddits or less (0.9942724728926198%)\n",
      "There are 22741 news sources appearing in only 608 subreddits or less (0.9942724728926198%)\n",
      "There are 22742 news sources appearing in only 609 subreddits or less (0.9943161944735922%)\n",
      "There are 22742 news sources appearing in only 610 subreddits or less (0.9943161944735922%)\n",
      "There are 22742 news sources appearing in only 611 subreddits or less (0.9943161944735922%)\n",
      "There are 22742 news sources appearing in only 612 subreddits or less (0.9943161944735922%)\n",
      "There are 22742 news sources appearing in only 613 subreddits or less (0.9943161944735922%)\n",
      "There are 22742 news sources appearing in only 614 subreddits or less (0.9943161944735922%)\n",
      "There are 22742 news sources appearing in only 615 subreddits or less (0.9943161944735922%)\n",
      "There are 22742 news sources appearing in only 616 subreddits or less (0.9943161944735922%)\n",
      "There are 22742 news sources appearing in only 617 subreddits or less (0.9943161944735922%)\n",
      "There are 22743 news sources appearing in only 618 subreddits or less (0.9943599160545645%)\n",
      "There are 22743 news sources appearing in only 619 subreddits or less (0.9943599160545645%)\n",
      "There are 22744 news sources appearing in only 620 subreddits or less (0.9944036376355369%)\n",
      "There are 22745 news sources appearing in only 621 subreddits or less (0.9944473592165093%)\n",
      "There are 22746 news sources appearing in only 622 subreddits or less (0.9944910807974816%)\n",
      "There are 22746 news sources appearing in only 623 subreddits or less (0.9944910807974816%)\n",
      "There are 22746 news sources appearing in only 624 subreddits or less (0.9944910807974816%)\n",
      "There are 22747 news sources appearing in only 625 subreddits or less (0.994534802378454%)\n",
      "There are 22747 news sources appearing in only 626 subreddits or less (0.994534802378454%)\n",
      "There are 22747 news sources appearing in only 627 subreddits or less (0.994534802378454%)\n"
     ]
    },
    {
     "name": "stdout",
     "output_type": "stream",
     "text": [
      "There are 22747 news sources appearing in only 628 subreddits or less (0.994534802378454%)\n",
      "There are 22747 news sources appearing in only 629 subreddits or less (0.994534802378454%)\n",
      "There are 22747 news sources appearing in only 630 subreddits or less (0.994534802378454%)\n",
      "There are 22747 news sources appearing in only 631 subreddits or less (0.994534802378454%)\n",
      "There are 22747 news sources appearing in only 632 subreddits or less (0.994534802378454%)\n",
      "There are 22747 news sources appearing in only 633 subreddits or less (0.994534802378454%)\n",
      "There are 22747 news sources appearing in only 634 subreddits or less (0.994534802378454%)\n",
      "There are 22747 news sources appearing in only 635 subreddits or less (0.994534802378454%)\n",
      "There are 22747 news sources appearing in only 636 subreddits or less (0.994534802378454%)\n",
      "There are 22749 news sources appearing in only 637 subreddits or less (0.9946222455403987%)\n",
      "There are 22749 news sources appearing in only 638 subreddits or less (0.9946222455403987%)\n",
      "There are 22749 news sources appearing in only 639 subreddits or less (0.9946222455403987%)\n",
      "There are 22749 news sources appearing in only 640 subreddits or less (0.9946222455403987%)\n",
      "There are 22749 news sources appearing in only 641 subreddits or less (0.9946222455403987%)\n",
      "There are 22749 news sources appearing in only 642 subreddits or less (0.9946222455403987%)\n",
      "There are 22749 news sources appearing in only 643 subreddits or less (0.9946222455403987%)\n",
      "There are 22750 news sources appearing in only 644 subreddits or less (0.9946659671213711%)\n",
      "There are 22751 news sources appearing in only 645 subreddits or less (0.9947096887023434%)\n",
      "There are 22754 news sources appearing in only 646 subreddits or less (0.9948408534452606%)\n",
      "There are 22754 news sources appearing in only 647 subreddits or less (0.9948408534452606%)\n",
      "There are 22754 news sources appearing in only 648 subreddits or less (0.9948408534452606%)\n",
      "There are 22755 news sources appearing in only 649 subreddits or less (0.994884575026233%)\n",
      "There are 22755 news sources appearing in only 650 subreddits or less (0.994884575026233%)\n",
      "There are 22756 news sources appearing in only 651 subreddits or less (0.9949282966072053%)\n",
      "There are 22756 news sources appearing in only 652 subreddits or less (0.9949282966072053%)\n",
      "There are 22756 news sources appearing in only 653 subreddits or less (0.9949282966072053%)\n",
      "There are 22756 news sources appearing in only 654 subreddits or less (0.9949282966072053%)\n",
      "There are 22756 news sources appearing in only 655 subreddits or less (0.9949282966072053%)\n",
      "There are 22756 news sources appearing in only 656 subreddits or less (0.9949282966072053%)\n",
      "There are 22756 news sources appearing in only 657 subreddits or less (0.9949282966072053%)\n",
      "There are 22757 news sources appearing in only 658 subreddits or less (0.9949720181881777%)\n",
      "There are 22757 news sources appearing in only 659 subreddits or less (0.9949720181881777%)\n",
      "There are 22757 news sources appearing in only 660 subreddits or less (0.9949720181881777%)\n",
      "There are 22758 news sources appearing in only 661 subreddits or less (0.99501573976915%)\n",
      "There are 22758 news sources appearing in only 662 subreddits or less (0.99501573976915%)\n",
      "There are 22758 news sources appearing in only 663 subreddits or less (0.99501573976915%)\n",
      "There are 22758 news sources appearing in only 664 subreddits or less (0.99501573976915%)\n",
      "There are 22759 news sources appearing in only 665 subreddits or less (0.9950594613501225%)\n",
      "There are 22760 news sources appearing in only 666 subreddits or less (0.9951031829310948%)\n",
      "There are 22761 news sources appearing in only 667 subreddits or less (0.9951469045120671%)\n",
      "There are 22761 news sources appearing in only 668 subreddits or less (0.9951469045120671%)\n",
      "There are 22761 news sources appearing in only 669 subreddits or less (0.9951469045120671%)\n",
      "There are 22761 news sources appearing in only 670 subreddits or less (0.9951469045120671%)\n",
      "There are 22761 news sources appearing in only 671 subreddits or less (0.9951469045120671%)\n",
      "There are 22761 news sources appearing in only 672 subreddits or less (0.9951469045120671%)\n",
      "There are 22761 news sources appearing in only 673 subreddits or less (0.9951469045120671%)\n",
      "There are 22761 news sources appearing in only 674 subreddits or less (0.9951469045120671%)\n",
      "There are 22761 news sources appearing in only 675 subreddits or less (0.9951469045120671%)\n",
      "There are 22761 news sources appearing in only 676 subreddits or less (0.9951469045120671%)\n",
      "There are 22761 news sources appearing in only 677 subreddits or less (0.9951469045120671%)\n",
      "There are 22761 news sources appearing in only 678 subreddits or less (0.9951469045120671%)\n",
      "There are 22761 news sources appearing in only 679 subreddits or less (0.9951469045120671%)\n",
      "There are 22761 news sources appearing in only 680 subreddits or less (0.9951469045120671%)\n",
      "There are 22761 news sources appearing in only 681 subreddits or less (0.9951469045120671%)\n",
      "There are 22762 news sources appearing in only 682 subreddits or less (0.9951906260930395%)\n",
      "There are 22762 news sources appearing in only 683 subreddits or less (0.9951906260930395%)\n",
      "There are 22762 news sources appearing in only 684 subreddits or less (0.9951906260930395%)\n",
      "There are 22762 news sources appearing in only 685 subreddits or less (0.9951906260930395%)\n",
      "There are 22762 news sources appearing in only 686 subreddits or less (0.9951906260930395%)\n",
      "There are 22763 news sources appearing in only 687 subreddits or less (0.9952343476740119%)\n",
      "There are 22763 news sources appearing in only 688 subreddits or less (0.9952343476740119%)\n",
      "There are 22764 news sources appearing in only 689 subreddits or less (0.9952780692549843%)\n",
      "There are 22764 news sources appearing in only 690 subreddits or less (0.9952780692549843%)\n",
      "There are 22764 news sources appearing in only 691 subreddits or less (0.9952780692549843%)\n",
      "There are 22764 news sources appearing in only 692 subreddits or less (0.9952780692549843%)\n",
      "There are 22764 news sources appearing in only 693 subreddits or less (0.9952780692549843%)\n",
      "There are 22766 news sources appearing in only 694 subreddits or less (0.9953655124169289%)\n",
      "There are 22767 news sources appearing in only 695 subreddits or less (0.9954092339979014%)\n",
      "There are 22767 news sources appearing in only 696 subreddits or less (0.9954092339979014%)\n",
      "There are 22767 news sources appearing in only 697 subreddits or less (0.9954092339979014%)\n",
      "There are 22767 news sources appearing in only 698 subreddits or less (0.9954092339979014%)\n",
      "There are 22768 news sources appearing in only 699 subreddits or less (0.9954529555788737%)\n",
      "There are 22768 news sources appearing in only 700 subreddits or less (0.9954529555788737%)\n",
      "There are 22768 news sources appearing in only 701 subreddits or less (0.9954529555788737%)\n",
      "There are 22768 news sources appearing in only 702 subreddits or less (0.9954529555788737%)\n",
      "There are 22769 news sources appearing in only 703 subreddits or less (0.9954966771598461%)\n",
      "There are 22769 news sources appearing in only 704 subreddits or less (0.9954966771598461%)\n",
      "There are 22769 news sources appearing in only 705 subreddits or less (0.9954966771598461%)\n",
      "There are 22769 news sources appearing in only 706 subreddits or less (0.9954966771598461%)\n",
      "There are 22769 news sources appearing in only 707 subreddits or less (0.9954966771598461%)\n",
      "There are 22769 news sources appearing in only 708 subreddits or less (0.9954966771598461%)\n",
      "There are 22769 news sources appearing in only 709 subreddits or less (0.9954966771598461%)\n",
      "There are 22770 news sources appearing in only 710 subreddits or less (0.9955403987408185%)\n",
      "There are 22770 news sources appearing in only 711 subreddits or less (0.9955403987408185%)\n",
      "There are 22770 news sources appearing in only 712 subreddits or less (0.9955403987408185%)\n",
      "There are 22770 news sources appearing in only 713 subreddits or less (0.9955403987408185%)\n",
      "There are 22771 news sources appearing in only 714 subreddits or less (0.9955841203217909%)\n",
      "There are 22771 news sources appearing in only 715 subreddits or less (0.9955841203217909%)\n",
      "There are 22772 news sources appearing in only 716 subreddits or less (0.9956278419027632%)\n",
      "There are 22773 news sources appearing in only 717 subreddits or less (0.9956715634837355%)\n",
      "There are 22773 news sources appearing in only 718 subreddits or less (0.9956715634837355%)\n",
      "There are 22773 news sources appearing in only 719 subreddits or less (0.9956715634837355%)\n",
      "There are 22773 news sources appearing in only 720 subreddits or less (0.9956715634837355%)\n",
      "There are 22773 news sources appearing in only 721 subreddits or less (0.9956715634837355%)\n",
      "There are 22773 news sources appearing in only 722 subreddits or less (0.9956715634837355%)\n",
      "There are 22774 news sources appearing in only 723 subreddits or less (0.995715285064708%)\n",
      "There are 22774 news sources appearing in only 724 subreddits or less (0.995715285064708%)\n",
      "There are 22774 news sources appearing in only 725 subreddits or less (0.995715285064708%)\n",
      "There are 22776 news sources appearing in only 726 subreddits or less (0.9958027282266527%)\n",
      "There are 22777 news sources appearing in only 727 subreddits or less (0.995846449807625%)\n",
      "There are 22777 news sources appearing in only 728 subreddits or less (0.995846449807625%)\n",
      "There are 22777 news sources appearing in only 729 subreddits or less (0.995846449807625%)\n",
      "There are 22779 news sources appearing in only 730 subreddits or less (0.9959338929695698%)\n",
      "There are 22779 news sources appearing in only 731 subreddits or less (0.9959338929695698%)\n",
      "There are 22779 news sources appearing in only 732 subreddits or less (0.9959338929695698%)\n",
      "There are 22780 news sources appearing in only 733 subreddits or less (0.9959776145505421%)\n",
      "There are 22780 news sources appearing in only 734 subreddits or less (0.9959776145505421%)\n",
      "There are 22780 news sources appearing in only 735 subreddits or less (0.9959776145505421%)\n",
      "There are 22780 news sources appearing in only 736 subreddits or less (0.9959776145505421%)\n",
      "There are 22780 news sources appearing in only 737 subreddits or less (0.9959776145505421%)\n",
      "There are 22780 news sources appearing in only 738 subreddits or less (0.9959776145505421%)\n",
      "There are 22781 news sources appearing in only 739 subreddits or less (0.9960213361315146%)\n",
      "There are 22781 news sources appearing in only 740 subreddits or less (0.9960213361315146%)\n",
      "There are 22781 news sources appearing in only 741 subreddits or less (0.9960213361315146%)\n",
      "There are 22781 news sources appearing in only 742 subreddits or less (0.9960213361315146%)\n",
      "There are 22782 news sources appearing in only 743 subreddits or less (0.9960650577124869%)\n",
      "There are 22782 news sources appearing in only 744 subreddits or less (0.9960650577124869%)\n",
      "There are 22782 news sources appearing in only 745 subreddits or less (0.9960650577124869%)\n",
      "There are 22783 news sources appearing in only 746 subreddits or less (0.9961087792934592%)\n",
      "There are 22783 news sources appearing in only 747 subreddits or less (0.9961087792934592%)\n",
      "There are 22783 news sources appearing in only 748 subreddits or less (0.9961087792934592%)\n",
      "There are 22783 news sources appearing in only 749 subreddits or less (0.9961087792934592%)\n"
     ]
    },
    {
     "name": "stdout",
     "output_type": "stream",
     "text": [
      "There are 22783 news sources appearing in only 750 subreddits or less (0.9961087792934592%)\n",
      "There are 22783 news sources appearing in only 751 subreddits or less (0.9961087792934592%)\n",
      "There are 22783 news sources appearing in only 752 subreddits or less (0.9961087792934592%)\n",
      "There are 22784 news sources appearing in only 753 subreddits or less (0.9961525008744316%)\n",
      "There are 22784 news sources appearing in only 754 subreddits or less (0.9961525008744316%)\n",
      "There are 22784 news sources appearing in only 755 subreddits or less (0.9961525008744316%)\n",
      "There are 22784 news sources appearing in only 756 subreddits or less (0.9961525008744316%)\n",
      "There are 22784 news sources appearing in only 757 subreddits or less (0.9961525008744316%)\n",
      "There are 22784 news sources appearing in only 758 subreddits or less (0.9961525008744316%)\n",
      "There are 22784 news sources appearing in only 759 subreddits or less (0.9961525008744316%)\n",
      "There are 22784 news sources appearing in only 760 subreddits or less (0.9961525008744316%)\n",
      "There are 22785 news sources appearing in only 761 subreddits or less (0.996196222455404%)\n",
      "There are 22785 news sources appearing in only 762 subreddits or less (0.996196222455404%)\n",
      "There are 22785 news sources appearing in only 763 subreddits or less (0.996196222455404%)\n",
      "There are 22786 news sources appearing in only 764 subreddits or less (0.9962399440363764%)\n",
      "There are 22786 news sources appearing in only 765 subreddits or less (0.9962399440363764%)\n",
      "There are 22786 news sources appearing in only 766 subreddits or less (0.9962399440363764%)\n",
      "There are 22787 news sources appearing in only 767 subreddits or less (0.9962836656173487%)\n",
      "There are 22787 news sources appearing in only 768 subreddits or less (0.9962836656173487%)\n",
      "There are 22787 news sources appearing in only 769 subreddits or less (0.9962836656173487%)\n",
      "There are 22787 news sources appearing in only 770 subreddits or less (0.9962836656173487%)\n",
      "There are 22787 news sources appearing in only 771 subreddits or less (0.9962836656173487%)\n",
      "There are 22787 news sources appearing in only 772 subreddits or less (0.9962836656173487%)\n",
      "There are 22788 news sources appearing in only 773 subreddits or less (0.9963273871983211%)\n",
      "There are 22788 news sources appearing in only 774 subreddits or less (0.9963273871983211%)\n",
      "There are 22789 news sources appearing in only 775 subreddits or less (0.9963711087792935%)\n",
      "There are 22789 news sources appearing in only 776 subreddits or less (0.9963711087792935%)\n",
      "There are 22789 news sources appearing in only 777 subreddits or less (0.9963711087792935%)\n",
      "There are 22789 news sources appearing in only 778 subreddits or less (0.9963711087792935%)\n",
      "There are 22789 news sources appearing in only 779 subreddits or less (0.9963711087792935%)\n",
      "There are 22789 news sources appearing in only 780 subreddits or less (0.9963711087792935%)\n",
      "There are 22789 news sources appearing in only 781 subreddits or less (0.9963711087792935%)\n",
      "There are 22789 news sources appearing in only 782 subreddits or less (0.9963711087792935%)\n",
      "There are 22789 news sources appearing in only 783 subreddits or less (0.9963711087792935%)\n",
      "There are 22789 news sources appearing in only 784 subreddits or less (0.9963711087792935%)\n",
      "There are 22789 news sources appearing in only 785 subreddits or less (0.9963711087792935%)\n",
      "There are 22789 news sources appearing in only 786 subreddits or less (0.9963711087792935%)\n",
      "There are 22789 news sources appearing in only 787 subreddits or less (0.9963711087792935%)\n",
      "There are 22789 news sources appearing in only 788 subreddits or less (0.9963711087792935%)\n",
      "There are 22789 news sources appearing in only 789 subreddits or less (0.9963711087792935%)\n",
      "There are 22789 news sources appearing in only 790 subreddits or less (0.9963711087792935%)\n",
      "There are 22789 news sources appearing in only 791 subreddits or less (0.9963711087792935%)\n",
      "There are 22790 news sources appearing in only 792 subreddits or less (0.9964148303602658%)\n",
      "There are 22790 news sources appearing in only 793 subreddits or less (0.9964148303602658%)\n",
      "There are 22791 news sources appearing in only 794 subreddits or less (0.9964585519412382%)\n",
      "There are 22791 news sources appearing in only 795 subreddits or less (0.9964585519412382%)\n",
      "There are 22792 news sources appearing in only 796 subreddits or less (0.9965022735222105%)\n",
      "There are 22792 news sources appearing in only 797 subreddits or less (0.9965022735222105%)\n",
      "There are 22792 news sources appearing in only 798 subreddits or less (0.9965022735222105%)\n",
      "There are 22792 news sources appearing in only 799 subreddits or less (0.9965022735222105%)\n",
      "There are 22792 news sources appearing in only 800 subreddits or less (0.9965022735222105%)\n",
      "There are 22792 news sources appearing in only 801 subreddits or less (0.9965022735222105%)\n",
      "There are 22792 news sources appearing in only 802 subreddits or less (0.9965022735222105%)\n",
      "There are 22792 news sources appearing in only 803 subreddits or less (0.9965022735222105%)\n",
      "There are 22792 news sources appearing in only 804 subreddits or less (0.9965022735222105%)\n",
      "There are 22792 news sources appearing in only 805 subreddits or less (0.9965022735222105%)\n",
      "There are 22792 news sources appearing in only 806 subreddits or less (0.9965022735222105%)\n",
      "There are 22793 news sources appearing in only 807 subreddits or less (0.996545995103183%)\n",
      "There are 22793 news sources appearing in only 808 subreddits or less (0.996545995103183%)\n",
      "There are 22794 news sources appearing in only 809 subreddits or less (0.9965897166841553%)\n",
      "There are 22794 news sources appearing in only 810 subreddits or less (0.9965897166841553%)\n",
      "There are 22795 news sources appearing in only 811 subreddits or less (0.9966334382651276%)\n",
      "There are 22795 news sources appearing in only 812 subreddits or less (0.9966334382651276%)\n",
      "There are 22795 news sources appearing in only 813 subreddits or less (0.9966334382651276%)\n",
      "There are 22795 news sources appearing in only 814 subreddits or less (0.9966334382651276%)\n",
      "There are 22795 news sources appearing in only 815 subreddits or less (0.9966334382651276%)\n",
      "There are 22795 news sources appearing in only 816 subreddits or less (0.9966334382651276%)\n",
      "There are 22795 news sources appearing in only 817 subreddits or less (0.9966334382651276%)\n",
      "There are 22795 news sources appearing in only 818 subreddits or less (0.9966334382651276%)\n",
      "There are 22795 news sources appearing in only 819 subreddits or less (0.9966334382651276%)\n",
      "There are 22795 news sources appearing in only 820 subreddits or less (0.9966334382651276%)\n",
      "There are 22795 news sources appearing in only 821 subreddits or less (0.9966334382651276%)\n",
      "There are 22795 news sources appearing in only 822 subreddits or less (0.9966334382651276%)\n",
      "There are 22795 news sources appearing in only 823 subreddits or less (0.9966334382651276%)\n",
      "There are 22795 news sources appearing in only 824 subreddits or less (0.9966334382651276%)\n",
      "There are 22796 news sources appearing in only 825 subreddits or less (0.9966771598461001%)\n",
      "There are 22796 news sources appearing in only 826 subreddits or less (0.9966771598461001%)\n",
      "There are 22797 news sources appearing in only 827 subreddits or less (0.9967208814270724%)\n",
      "There are 22797 news sources appearing in only 828 subreddits or less (0.9967208814270724%)\n",
      "There are 22797 news sources appearing in only 829 subreddits or less (0.9967208814270724%)\n",
      "There are 22797 news sources appearing in only 830 subreddits or less (0.9967208814270724%)\n",
      "There are 22797 news sources appearing in only 831 subreddits or less (0.9967208814270724%)\n",
      "There are 22797 news sources appearing in only 832 subreddits or less (0.9967208814270724%)\n",
      "There are 22797 news sources appearing in only 833 subreddits or less (0.9967208814270724%)\n",
      "There are 22797 news sources appearing in only 834 subreddits or less (0.9967208814270724%)\n",
      "There are 22797 news sources appearing in only 835 subreddits or less (0.9967208814270724%)\n",
      "There are 22798 news sources appearing in only 836 subreddits or less (0.9967646030080448%)\n",
      "There are 22798 news sources appearing in only 837 subreddits or less (0.9967646030080448%)\n",
      "There are 22798 news sources appearing in only 838 subreddits or less (0.9967646030080448%)\n",
      "There are 22799 news sources appearing in only 839 subreddits or less (0.9968083245890171%)\n",
      "There are 22799 news sources appearing in only 840 subreddits or less (0.9968083245890171%)\n",
      "There are 22799 news sources appearing in only 841 subreddits or less (0.9968083245890171%)\n",
      "There are 22799 news sources appearing in only 842 subreddits or less (0.9968083245890171%)\n",
      "There are 22799 news sources appearing in only 843 subreddits or less (0.9968083245890171%)\n",
      "There are 22799 news sources appearing in only 844 subreddits or less (0.9968083245890171%)\n",
      "There are 22800 news sources appearing in only 845 subreddits or less (0.9968520461699895%)\n",
      "There are 22800 news sources appearing in only 846 subreddits or less (0.9968520461699895%)\n",
      "There are 22800 news sources appearing in only 847 subreddits or less (0.9968520461699895%)\n",
      "There are 22800 news sources appearing in only 848 subreddits or less (0.9968520461699895%)\n",
      "There are 22800 news sources appearing in only 849 subreddits or less (0.9968520461699895%)\n",
      "There are 22800 news sources appearing in only 850 subreddits or less (0.9968520461699895%)\n",
      "There are 22800 news sources appearing in only 851 subreddits or less (0.9968520461699895%)\n",
      "There are 22800 news sources appearing in only 852 subreddits or less (0.9968520461699895%)\n"
     ]
    },
    {
     "name": "stdout",
     "output_type": "stream",
     "text": [
      "There are 22800 news sources appearing in only 853 subreddits or less (0.9968520461699895%)\n",
      "There are 22801 news sources appearing in only 854 subreddits or less (0.9968957677509619%)\n",
      "There are 22801 news sources appearing in only 855 subreddits or less (0.9968957677509619%)\n",
      "There are 22801 news sources appearing in only 856 subreddits or less (0.9968957677509619%)\n",
      "There are 22801 news sources appearing in only 857 subreddits or less (0.9968957677509619%)\n",
      "There are 22801 news sources appearing in only 858 subreddits or less (0.9968957677509619%)\n",
      "There are 22801 news sources appearing in only 859 subreddits or less (0.9968957677509619%)\n",
      "There are 22801 news sources appearing in only 860 subreddits or less (0.9968957677509619%)\n",
      "There are 22801 news sources appearing in only 861 subreddits or less (0.9968957677509619%)\n",
      "There are 22801 news sources appearing in only 862 subreddits or less (0.9968957677509619%)\n",
      "There are 22801 news sources appearing in only 863 subreddits or less (0.9968957677509619%)\n",
      "There are 22801 news sources appearing in only 864 subreddits or less (0.9968957677509619%)\n",
      "There are 22801 news sources appearing in only 865 subreddits or less (0.9968957677509619%)\n",
      "There are 22801 news sources appearing in only 866 subreddits or less (0.9968957677509619%)\n",
      "There are 22801 news sources appearing in only 867 subreddits or less (0.9968957677509619%)\n",
      "There are 22801 news sources appearing in only 868 subreddits or less (0.9968957677509619%)\n",
      "There are 22801 news sources appearing in only 869 subreddits or less (0.9968957677509619%)\n",
      "There are 22801 news sources appearing in only 870 subreddits or less (0.9968957677509619%)\n",
      "There are 22802 news sources appearing in only 871 subreddits or less (0.9969394893319342%)\n",
      "There are 22803 news sources appearing in only 872 subreddits or less (0.9969832109129066%)\n",
      "There are 22804 news sources appearing in only 873 subreddits or less (0.997026932493879%)\n",
      "There are 22804 news sources appearing in only 874 subreddits or less (0.997026932493879%)\n",
      "There are 22804 news sources appearing in only 875 subreddits or less (0.997026932493879%)\n",
      "There are 22804 news sources appearing in only 876 subreddits or less (0.997026932493879%)\n",
      "There are 22804 news sources appearing in only 877 subreddits or less (0.997026932493879%)\n",
      "There are 22804 news sources appearing in only 878 subreddits or less (0.997026932493879%)\n",
      "There are 22804 news sources appearing in only 879 subreddits or less (0.997026932493879%)\n",
      "There are 22804 news sources appearing in only 880 subreddits or less (0.997026932493879%)\n",
      "There are 22804 news sources appearing in only 881 subreddits or less (0.997026932493879%)\n",
      "There are 22804 news sources appearing in only 882 subreddits or less (0.997026932493879%)\n",
      "There are 22804 news sources appearing in only 883 subreddits or less (0.997026932493879%)\n",
      "There are 22804 news sources appearing in only 884 subreddits or less (0.997026932493879%)\n",
      "There are 22804 news sources appearing in only 885 subreddits or less (0.997026932493879%)\n",
      "There are 22804 news sources appearing in only 886 subreddits or less (0.997026932493879%)\n",
      "There are 22804 news sources appearing in only 887 subreddits or less (0.997026932493879%)\n",
      "There are 22804 news sources appearing in only 888 subreddits or less (0.997026932493879%)\n",
      "There are 22804 news sources appearing in only 889 subreddits or less (0.997026932493879%)\n",
      "There are 22804 news sources appearing in only 890 subreddits or less (0.997026932493879%)\n",
      "There are 22804 news sources appearing in only 891 subreddits or less (0.997026932493879%)\n",
      "There are 22804 news sources appearing in only 892 subreddits or less (0.997026932493879%)\n",
      "There are 22804 news sources appearing in only 893 subreddits or less (0.997026932493879%)\n",
      "There are 22804 news sources appearing in only 894 subreddits or less (0.997026932493879%)\n",
      "There are 22804 news sources appearing in only 895 subreddits or less (0.997026932493879%)\n",
      "There are 22804 news sources appearing in only 896 subreddits or less (0.997026932493879%)\n",
      "There are 22804 news sources appearing in only 897 subreddits or less (0.997026932493879%)\n",
      "There are 22804 news sources appearing in only 898 subreddits or less (0.997026932493879%)\n",
      "There are 22804 news sources appearing in only 899 subreddits or less (0.997026932493879%)\n",
      "There are 22804 news sources appearing in only 900 subreddits or less (0.997026932493879%)\n",
      "There are 22804 news sources appearing in only 901 subreddits or less (0.997026932493879%)\n",
      "There are 22804 news sources appearing in only 902 subreddits or less (0.997026932493879%)\n",
      "There are 22804 news sources appearing in only 903 subreddits or less (0.997026932493879%)\n",
      "There are 22804 news sources appearing in only 904 subreddits or less (0.997026932493879%)\n",
      "There are 22804 news sources appearing in only 905 subreddits or less (0.997026932493879%)\n",
      "There are 22804 news sources appearing in only 906 subreddits or less (0.997026932493879%)\n",
      "There are 22804 news sources appearing in only 907 subreddits or less (0.997026932493879%)\n",
      "There are 22804 news sources appearing in only 908 subreddits or less (0.997026932493879%)\n",
      "There are 22804 news sources appearing in only 909 subreddits or less (0.997026932493879%)\n",
      "There are 22804 news sources appearing in only 910 subreddits or less (0.997026932493879%)\n",
      "There are 22804 news sources appearing in only 911 subreddits or less (0.997026932493879%)\n",
      "There are 22805 news sources appearing in only 912 subreddits or less (0.9970706540748513%)\n",
      "There are 22805 news sources appearing in only 913 subreddits or less (0.9970706540748513%)\n",
      "There are 22805 news sources appearing in only 914 subreddits or less (0.9970706540748513%)\n",
      "There are 22805 news sources appearing in only 915 subreddits or less (0.9970706540748513%)\n",
      "There are 22805 news sources appearing in only 916 subreddits or less (0.9970706540748513%)\n",
      "There are 22805 news sources appearing in only 917 subreddits or less (0.9970706540748513%)\n",
      "There are 22805 news sources appearing in only 918 subreddits or less (0.9970706540748513%)\n",
      "There are 22805 news sources appearing in only 919 subreddits or less (0.9970706540748513%)\n",
      "There are 22805 news sources appearing in only 920 subreddits or less (0.9970706540748513%)\n",
      "There are 22805 news sources appearing in only 921 subreddits or less (0.9970706540748513%)\n",
      "There are 22805 news sources appearing in only 922 subreddits or less (0.9970706540748513%)\n",
      "There are 22805 news sources appearing in only 923 subreddits or less (0.9970706540748513%)\n",
      "There are 22805 news sources appearing in only 924 subreddits or less (0.9970706540748513%)\n",
      "There are 22805 news sources appearing in only 925 subreddits or less (0.9970706540748513%)\n",
      "There are 22805 news sources appearing in only 926 subreddits or less (0.9970706540748513%)\n",
      "There are 22805 news sources appearing in only 927 subreddits or less (0.9970706540748513%)\n",
      "There are 22805 news sources appearing in only 928 subreddits or less (0.9970706540748513%)\n",
      "There are 22805 news sources appearing in only 929 subreddits or less (0.9970706540748513%)\n",
      "There are 22805 news sources appearing in only 930 subreddits or less (0.9970706540748513%)\n",
      "There are 22805 news sources appearing in only 931 subreddits or less (0.9970706540748513%)\n",
      "There are 22805 news sources appearing in only 932 subreddits or less (0.9970706540748513%)\n",
      "There are 22805 news sources appearing in only 933 subreddits or less (0.9970706540748513%)\n",
      "There are 22805 news sources appearing in only 934 subreddits or less (0.9970706540748513%)\n",
      "There are 22805 news sources appearing in only 935 subreddits or less (0.9970706540748513%)\n",
      "There are 22805 news sources appearing in only 936 subreddits or less (0.9970706540748513%)\n",
      "There are 22805 news sources appearing in only 937 subreddits or less (0.9970706540748513%)\n",
      "There are 22805 news sources appearing in only 938 subreddits or less (0.9970706540748513%)\n",
      "There are 22805 news sources appearing in only 939 subreddits or less (0.9970706540748513%)\n",
      "There are 22805 news sources appearing in only 940 subreddits or less (0.9970706540748513%)\n",
      "There are 22805 news sources appearing in only 941 subreddits or less (0.9970706540748513%)\n",
      "There are 22805 news sources appearing in only 942 subreddits or less (0.9970706540748513%)\n",
      "There are 22805 news sources appearing in only 943 subreddits or less (0.9970706540748513%)\n",
      "There are 22805 news sources appearing in only 944 subreddits or less (0.9970706540748513%)\n",
      "There are 22806 news sources appearing in only 945 subreddits or less (0.9971143756558237%)\n",
      "There are 22806 news sources appearing in only 946 subreddits or less (0.9971143756558237%)\n",
      "There are 22807 news sources appearing in only 947 subreddits or less (0.997158097236796%)\n",
      "There are 22807 news sources appearing in only 948 subreddits or less (0.997158097236796%)\n",
      "There are 22807 news sources appearing in only 949 subreddits or less (0.997158097236796%)\n",
      "There are 22807 news sources appearing in only 950 subreddits or less (0.997158097236796%)\n",
      "There are 22808 news sources appearing in only 951 subreddits or less (0.9972018188177685%)\n",
      "There are 22808 news sources appearing in only 952 subreddits or less (0.9972018188177685%)\n",
      "There are 22808 news sources appearing in only 953 subreddits or less (0.9972018188177685%)\n",
      "There are 22808 news sources appearing in only 954 subreddits or less (0.9972018188177685%)\n",
      "There are 22808 news sources appearing in only 955 subreddits or less (0.9972018188177685%)\n",
      "There are 22808 news sources appearing in only 956 subreddits or less (0.9972018188177685%)\n",
      "There are 22808 news sources appearing in only 957 subreddits or less (0.9972018188177685%)\n",
      "There are 22808 news sources appearing in only 958 subreddits or less (0.9972018188177685%)\n",
      "There are 22809 news sources appearing in only 959 subreddits or less (0.9972455403987408%)\n",
      "There are 22809 news sources appearing in only 960 subreddits or less (0.9972455403987408%)\n"
     ]
    },
    {
     "name": "stdout",
     "output_type": "stream",
     "text": [
      "There are 22809 news sources appearing in only 961 subreddits or less (0.9972455403987408%)\n",
      "There are 22809 news sources appearing in only 962 subreddits or less (0.9972455403987408%)\n",
      "There are 22809 news sources appearing in only 963 subreddits or less (0.9972455403987408%)\n",
      "There are 22809 news sources appearing in only 964 subreddits or less (0.9972455403987408%)\n",
      "There are 22809 news sources appearing in only 965 subreddits or less (0.9972455403987408%)\n",
      "There are 22809 news sources appearing in only 966 subreddits or less (0.9972455403987408%)\n",
      "There are 22809 news sources appearing in only 967 subreddits or less (0.9972455403987408%)\n",
      "There are 22809 news sources appearing in only 968 subreddits or less (0.9972455403987408%)\n",
      "There are 22809 news sources appearing in only 969 subreddits or less (0.9972455403987408%)\n",
      "There are 22810 news sources appearing in only 970 subreddits or less (0.9972892619797132%)\n",
      "There are 22810 news sources appearing in only 971 subreddits or less (0.9972892619797132%)\n",
      "There are 22810 news sources appearing in only 972 subreddits or less (0.9972892619797132%)\n",
      "There are 22810 news sources appearing in only 973 subreddits or less (0.9972892619797132%)\n",
      "There are 22810 news sources appearing in only 974 subreddits or less (0.9972892619797132%)\n",
      "There are 22811 news sources appearing in only 975 subreddits or less (0.9973329835606856%)\n",
      "There are 22811 news sources appearing in only 976 subreddits or less (0.9973329835606856%)\n",
      "There are 22811 news sources appearing in only 977 subreddits or less (0.9973329835606856%)\n",
      "There are 22811 news sources appearing in only 978 subreddits or less (0.9973329835606856%)\n",
      "There are 22811 news sources appearing in only 979 subreddits or less (0.9973329835606856%)\n",
      "There are 22811 news sources appearing in only 980 subreddits or less (0.9973329835606856%)\n",
      "There are 22811 news sources appearing in only 981 subreddits or less (0.9973329835606856%)\n",
      "There are 22812 news sources appearing in only 982 subreddits or less (0.9973767051416579%)\n",
      "There are 22812 news sources appearing in only 983 subreddits or less (0.9973767051416579%)\n",
      "There are 22813 news sources appearing in only 984 subreddits or less (0.9974204267226303%)\n",
      "There are 22813 news sources appearing in only 985 subreddits or less (0.9974204267226303%)\n",
      "There are 22813 news sources appearing in only 986 subreddits or less (0.9974204267226303%)\n",
      "There are 22813 news sources appearing in only 987 subreddits or less (0.9974204267226303%)\n",
      "There are 22813 news sources appearing in only 988 subreddits or less (0.9974204267226303%)\n",
      "There are 22813 news sources appearing in only 989 subreddits or less (0.9974204267226303%)\n",
      "There are 22813 news sources appearing in only 990 subreddits or less (0.9974204267226303%)\n",
      "There are 22813 news sources appearing in only 991 subreddits or less (0.9974204267226303%)\n",
      "There are 22813 news sources appearing in only 992 subreddits or less (0.9974204267226303%)\n",
      "There are 22813 news sources appearing in only 993 subreddits or less (0.9974204267226303%)\n",
      "There are 22813 news sources appearing in only 994 subreddits or less (0.9974204267226303%)\n",
      "There are 22813 news sources appearing in only 995 subreddits or less (0.9974204267226303%)\n",
      "There are 22813 news sources appearing in only 996 subreddits or less (0.9974204267226303%)\n",
      "There are 22813 news sources appearing in only 997 subreddits or less (0.9974204267226303%)\n",
      "There are 22815 news sources appearing in only 998 subreddits or less (0.9975078698845751%)\n",
      "There are 22815 news sources appearing in only 999 subreddits or less (0.9975078698845751%)\n"
     ]
    }
   ],
   "source": [
    "pct_in_k_subreddits = [(i, pct_ns_in_k_subreddits(i)) for i in range(1000)]"
   ]
  },
  {
   "cell_type": "code",
   "execution_count": 254,
   "metadata": {},
   "outputs": [
    {
     "data": {
      "text/plain": [
       "Text(0.5, 1.0, 'proportion of news sources appearing in x subreddits or less')"
      ]
     },
     "execution_count": 254,
     "metadata": {},
     "output_type": "execute_result"
    },
    {
     "data": {
      "image/png": "[encoded data removed]",
      "text/plain": [
       "<Figure size 1080x432 with 2 Axes>"
      ]
     },
     "metadata": {},
     "output_type": "display_data"
    }
   ],
   "source": [
    "fig, (ax1, ax2) = plt.subplots(1, 2, figsize=(15,6))\n",
    "sns.set(font_scale = 1.2)\n",
    "\n",
    "sns.histplot(scf, log_scale=True, ax=ax1)\n",
    "ax1.set_xlabel(\"number of subreddit\")\n",
    "ax1.set_ylabel(\"news source count\")\n",
    "ax1.set_title(\"number of news sources appearing in x subreddits\")\n",
    "\n",
    "sns.lineplot(x=[k[0] for k in pct_in_k_subreddits],\n",
    "             y=[k[1] for k in pct_in_k_subreddits],\n",
    "            ax=ax2)\n",
    "ax2.set_ylabel(\"percentage\")\n",
    "ax2.set_xlabel(\"# subreddits news sources appear in\")\n",
    "ax2.set_title(\"proportion of news sources appearing in x subreddits or less\")"
   ]
  },
  {
   "cell_type": "code",
   "execution_count": 276,
   "metadata": {
    "scrolled": true
   },
   "outputs": [
    {
     "data": {
      "text/plain": [
       "28.821309898565932"
      ]
     },
     "execution_count": 276,
     "metadata": {},
     "output_type": "execute_result"
    }
   ],
   "source": [
    "# mean\n",
    "statistics.mean(scf)"
   ]
  },
  {
   "cell_type": "code",
   "execution_count": 277,
   "metadata": {},
   "outputs": [
    {
     "data": {
      "text/plain": [
       "5.0"
      ]
     },
     "execution_count": 277,
     "metadata": {},
     "output_type": "execute_result"
    }
   ],
   "source": [
    "# median\n",
    "statistics.median(scf)"
   ]
  },
  {
   "cell_type": "markdown",
   "metadata": {},
   "source": [
    "## For each news source let's count how many times they are shared regardless of in which subreddits"
   ]
  },
  {
   "cell_type": "code",
   "execution_count": 278,
   "metadata": {},
   "outputs": [
    {
     "data": {
      "text/plain": [
       "0"
      ]
     },
     "execution_count": 278,
     "metadata": {},
     "output_type": "execute_result"
    }
   ],
   "source": [
    "sum(dict().values())"
   ]
  },
  {
   "cell_type": "code",
   "execution_count": 279,
   "metadata": {},
   "outputs": [],
   "source": [
    "def get_mention_count(ns):\n",
    "    \"\"\"get total mention count of ns in all six months\"\"\"\n",
    "    count = 0\n",
    "    files = [ns_subreddit_01, ns_subreddit_02, ns_subreddit_03, ns_subreddit_04, ns_subreddit_05, ns_subreddit_06]\n",
    "    for f in files:\n",
    "        ns_dict = f.get(ns, dict())\n",
    "        if len(ns_dict) > 0:\n",
    "            mentions = sum([m[0] for m in ns_dict.values()])\n",
    "            count += mentions\n",
    "    return count"
   ]
  },
  {
   "cell_type": "code",
   "execution_count": 280,
   "metadata": {},
   "outputs": [],
   "source": [
    "mention_count = dict()\n",
    "for ns in ns_union:\n",
    "    mention_count[ns] = get_mention_count(ns)"
   ]
  },
  {
   "cell_type": "code",
   "execution_count": 281,
   "metadata": {
    "scrolled": true
   },
   "outputs": [
    {
     "data": {
      "text/plain": [
       "299.9265914655474"
      ]
     },
     "execution_count": 281,
     "metadata": {},
     "output_type": "execute_result"
    }
   ],
   "source": [
    "statistics.mean(mention_count.values())"
   ]
  },
  {
   "cell_type": "code",
   "execution_count": 282,
   "metadata": {},
   "outputs": [
    {
     "data": {
      "text/plain": [
       "3855.6003908486487"
      ]
     },
     "execution_count": 282,
     "metadata": {},
     "output_type": "execute_result"
    }
   ],
   "source": [
    "statistics.stdev(mention_count.values())"
   ]
  },
  {
   "cell_type": "code",
   "execution_count": 283,
   "metadata": {},
   "outputs": [
    {
     "data": {
      "text/plain": [
       "10.0"
      ]
     },
     "execution_count": 283,
     "metadata": {},
     "output_type": "execute_result"
    }
   ],
   "source": [
    "statistics.median(mention_count.values())"
   ]
  },
  {
   "cell_type": "code",
   "execution_count": 284,
   "metadata": {
    "scrolled": true
   },
   "outputs": [
    {
     "data": {
      "text/plain": [
       "22872"
      ]
     },
     "execution_count": 284,
     "metadata": {},
     "output_type": "execute_result"
    }
   ],
   "source": [
    "len(mention_count)"
   ]
  },
  {
   "cell_type": "code",
   "execution_count": 285,
   "metadata": {},
   "outputs": [
    {
     "data": {
      "text/plain": [
       "[('mlb.com', 318743),\n",
       " ('theguardian.com', 224153),\n",
       " ('cnn.com', 159030),\n",
       " ('nytimes.com', 142830),\n",
       " ('foxnews.com', 141328),\n",
       " ('thehindu.com', 88294),\n",
       " ('thestar.com', 87507),\n",
       " ('bbc.co.uk', 86759),\n",
       " ('reuters.com', 83857),\n",
       " ('nypost.com', 81025),\n",
       " ('cnbc.com', 64112),\n",
       " ('thehill.com', 62889),\n",
       " ('indiatimes.com', 62810),\n",
       " ('washingtontimes.com', 59868),\n",
       " ('breitbart.com', 57546),\n",
       " ('usatoday.com', 53766),\n",
       " ('scmp.com', 52312),\n",
       " ('cbc.ca', 51738),\n",
       " ('apnews.com', 47934),\n",
       " ('nbcnews.com', 47876)]"
      ]
     },
     "execution_count": 285,
     "metadata": {},
     "output_type": "execute_result"
    }
   ],
   "source": [
    "Counter(mention_count).most_common(20)"
   ]
  },
  {
   "cell_type": "code",
   "execution_count": 286,
   "metadata": {},
   "outputs": [
    {
     "data": {
      "text/plain": [
       "780"
      ]
     },
     "execution_count": 286,
     "metadata": {},
     "output_type": "execute_result"
    }
   ],
   "source": [
    "news_ge10k = [m for m in mention_count if mention_count[m] >= 1000]\n",
    "len(news_ge10k)"
   ]
  },
  {
   "cell_type": "markdown",
   "metadata": {},
   "source": [
    "```\n",
    "with open(\"news_ge10k.csv\", \"w\", encoding=\"utf-8\", newline='') as n:\n",
    "    w = csv.writer(n, dialect=\"excel\", delimiter=\",\")\n",
    "    for e in news_ge10k:\n",
    "        w.writerow([e])\n",
    "```"
   ]
  },
  {
   "cell_type": "code",
   "execution_count": 287,
   "metadata": {},
   "outputs": [
    {
     "data": {
      "text/plain": [
       "{'todayilearned': [17, 14.780000000000001, 2038],\n",
       " 'JoeRogan': [1, 0.76, 3],\n",
       " 'knowyourshit': [3, 2.92, 1],\n",
       " 'collapse': [7, 6.280000000000001, 58],\n",
       " 'marginal': [3, 3.0, 0],\n",
       " 'conspiracy': [11, 8.9, 649],\n",
       " 'politics': [121, 107.37999999999998, 227661],\n",
       " 'CPTSD': [1, 1.0, 1],\n",
       " 'VideoEditing': [1, 0.98, 38],\n",
       " 'wallstreetbets': [15, 13.129999999999999, 115],\n",
       " 'hackernews': [8, 5.92, 8],\n",
       " 'patient_hackernews': [8, 8.0, 8],\n",
       " 'unitedkingdom': [2, 1.82, 19],\n",
       " 'Catholicism': [1, 1.0, 2],\n",
       " 'books': [6, 5.2, 15],\n",
       " 'hackerdigest': [1, 1.0, 0],\n",
       " 'Snorkblot': [2, 2.0, 2],\n",
       " 'UnresolvedMysteries': [18, 17.439999999999998, 1033],\n",
       " 'TrueUnpopularOpinion': [2, 1.3, 32],\n",
       " 'SPACs': [2, 1.8, 152],\n",
       " 'aznidentity': [1, 0.98, 40],\n",
       " 'badgovnofreedom': [34, 34.0, 1],\n",
       " 'cyberpunkgame': [1, 0.4, 3],\n",
       " 'newjersey': [1, 0.8, 25],\n",
       " 'newfoundland': [28, 25.439999999999994, 406],\n",
       " 'Hamilton': [42, 35.79, 950],\n",
       " 'Oshawa': [1, 0.9, 5],\n",
       " 'RedditTLDR': [5, 4.67, 1],\n",
       " 'Sino': [1, 0.96, 18],\n",
       " 'SorcerersVsSuffering': [1, 0.5, 0],\n",
       " 'China_irl': [1, 0.96, 69],\n",
       " 'worldanarchism': [2, 2.0, 0],\n",
       " 'Socialism_101': [1, 0.86, 10],\n",
       " 'Economics': [3, 2.06, 94],\n",
       " 'europe': [1, 0.87, 1],\n",
       " 'LazyCheapskate': [4, 3.35, 5],\n",
       " 'NoNewNormal': [18, 15.87, 124],\n",
       " 'AskDocs': [1, 1.0, 3],\n",
       " 'LateStageCapitalism': [5, 3.9399999999999995, 11],\n",
       " 'television': [3, 2.01, 61],\n",
       " 'NewDealAmerica': [1, 0.9, 0],\n",
       " 'MorbidReality': [2, 1.59, 26],\n",
       " 'redscarepod': [1, 1.0, 8],\n",
       " 'conspiracytheories': [1, 1.0, 0],\n",
       " 'SubSimulatorGPT2': [2, 1.75, 79],\n",
       " 'Futurology': [3, 2.9299999999999997, 128],\n",
       " 'worldpowers': [1, 1.0, 4],\n",
       " 'neoliberal': [9, 8.57, 78],\n",
       " 'NoStupidQuestions': [1, 0.77, 2],\n",
       " 'serbia': [2, 1.97, 11],\n",
       " 'eddit3yearsago': [1, 1.0, 1],\n",
       " 'stupidpol': [5, 4.390000000000001, 137],\n",
       " 'ontario': [149, 129.40000000000003, 6603],\n",
       " 'Anarchism': [2, 1.92, 3],\n",
       " 'AskEconomics': [1, 0.97, 32],\n",
       " 'ADHD': [1, 1.0, 81],\n",
       " 'btc': [1, 0.33, 2],\n",
       " 'Damnthatsinteresting': [2, 2.0, 0],\n",
       " 'Fantasy': [3, 2.56, 36],\n",
       " 'urbanplanning': [1, 0.87, 2],\n",
       " 'socialism': [1, 0.97, 144],\n",
       " 'steelers': [1, 1.0, 1],\n",
       " 'news': [100, 92.23000000000002, 6447],\n",
       " 'WayOfTheBern': [6, 5.7, 50],\n",
       " 'privacy': [4, 3.78, 1],\n",
       " 'CoronavirusCanada': [50, 35.099999999999994, 176],\n",
       " 'grammar': [1, 0.67, 2],\n",
       " 'legaladviceofftopic': [1, 0.5, 6],\n",
       " 'GenZedong': [1, 0.98, 3],\n",
       " 'iran': [2, 1.35, 0],\n",
       " 'ToolBand': [4, 3.23, 36],\n",
       " 'NarcoFootage': [1, 0.97, 157],\n",
       " 'worldpolitics': [1, 0.38, 0],\n",
       " 'MandelaEffect': [1, 0.61, 46],\n",
       " 'atheism': [4, 3.52, 46],\n",
       " 'Anarcho_Capitalism': [2, 1.4700000000000002, 7],\n",
       " 'inthemorning': [7, 5.140000000000001, 3],\n",
       " 'interestingasfuck': [3, 1.9, 9],\n",
       " 'islam': [1, 0.86, 20],\n",
       " 'climate': [3, 2.7399999999999998, 2],\n",
       " 'Letterkenny': [1, 0.84, 1],\n",
       " 'TrueAnon': [1, 0.96, 0],\n",
       " 'medicine': [3, 2.87, 269],\n",
       " 'stocks': [1, 0.94, 4404],\n",
       " 'Lovecraft': [1, 0.5, 1],\n",
       " 'LPOTL': [1, 1.0, 0],\n",
       " 'CanadaPublicServants': [6, 5.210000000000001, 107],\n",
       " 'Calgary': [87, 69.50999999999999, 4321],\n",
       " 'horror': [1, 0.62, 0],\n",
       " 'ABoringDystopia': [1, 0.67, 2],\n",
       " 'NovaScotia': [33, 29.269999999999992, 414],\n",
       " 'sports': [3, 2.5, 18],\n",
       " 'tennis': [2, 1.92, 8],\n",
       " 'Destiny': [2, 1.83, 1],\n",
       " 'conservatives': [1, 0.75, 6],\n",
       " 'pregnant': [1, 1.0, 1],\n",
       " 'VaushV': [1, 0.91, 3],\n",
       " 'awfuleverything': [5, 4.84, 0],\n",
       " 'antinatalism': [4, 3.71, 5],\n",
       " 'hockey': [8, 6.24, 69],\n",
       " 'brasilivre': [1, 0.94, 9],\n",
       " 'aviation': [1, 1.0, 0],\n",
       " 'CoronavirusCirclejerk': [1, 0.82, 2],\n",
       " 'space': [4, 2.59, 65],\n",
       " 'cryptogeum': [1, 1.0, 0],\n",
       " 'sustainability': [1, 0.67, 0],\n",
       " 'ZeroWaste': [1, 0.56, 2],\n",
       " 'FridaysForFuture': [1, 0.88, 15],\n",
       " 'TrueOffMyChest': [1, 0.6, 0],\n",
       " 'democrats': [4, 3.39, 30],\n",
       " 'science': [3, 1.85, 6],\n",
       " 'Winnipeg': [115, 99.89999999999998, 3724],\n",
       " 'uspolitics': [2, 1.87, 4],\n",
       " 'canada': [532, 420.6200000000006, 26421],\n",
       " 'Music': [1, 0.75, 0],\n",
       " 'UpliftingNews': [17, 15.39, 107],\n",
       " 'byebyejob': [2, 1.99, 7],\n",
       " 'Conservative': [4, 2.9800000000000004, 163],\n",
       " 'worldnews': [153, 130.94, 18318],\n",
       " 'nottheonion': [41, 33.17, 1260],\n",
       " 'ThatsInsane': [1, 1.0, 1],\n",
       " 'Feminism': [3, 2.1500000000000004, 1],\n",
       " 'AntiTrumpAlliance': [3, 2.7800000000000002, 6],\n",
       " 'privacytoolsIO': [1, 0.99, 16],\n",
       " 'pics': [1, 0.72, 3],\n",
       " 'NormMacdonald': [1, 1.0, 0],\n",
       " 'DataHoarder': [1, 0.85, 8],\n",
       " 'childfree': [1, 1.0, 82],\n",
       " 'TargetedEnergyWeapons': [1, 0.92, 1],\n",
       " 'AskALiberal': [3, 2.22, 52],\n",
       " 'YangForPresidentHQ': [1, 0.5, 5],\n",
       " 'CanadianTeachers': [1, 0.83, 1],\n",
       " 'ProtectAndServe': [2, 1.94, 24],\n",
       " 'onguardforthee': [266, 229.17999999999995, 4116],\n",
       " 'NoShitSherlock': [1, 1.0, 0],\n",
       " 'Qult_Headquarters': [1, 0.95, 3],\n",
       " 'The_Mueller': [2, 1.95, 5],\n",
       " 'askTO': [2, 1.36, 40],\n",
       " 'TwoBestFriendsPlay': [1, 0.9, 2],\n",
       " 'PublicFreakout': [1, 1.0, 0],\n",
       " 'alberta': [141, 123.54, 4909],\n",
       " 'CoronavirusDownunder': [21, 17.040000000000003, 573],\n",
       " 'monarchism': [2, 2.0, 7],\n",
       " 'Israel': [1, 1.0, 2],\n",
       " 'Art': [1, 1.0, 1],\n",
       " 'Albertapolitics': [69, 67.01999999999998, 124],\n",
       " 'eddit7yearsago': [3, 2.81, 3],\n",
       " 'inthenews': [2, 1.77, 76],\n",
       " 'bipolar': [1, 0.81, 7],\n",
       " 'ABCDesis': [1, 0.82, 9],\n",
       " 'navy': [1, 0.5, 4],\n",
       " 'vancouver': [95, 71.22999999999999, 3282],\n",
       " 'videos': [3, 1.69, 8],\n",
       " 'NoctilucentNews': [4, 4.0, 0],\n",
       " 'samharris': [1, 1.0, 5],\n",
       " 'CuriousAndFascinating': [1, 1.0, 0],\n",
       " 'SuccessionTV': [1, 1.0, 0],\n",
       " 'JoeBiden': [8, 7.4799999999999995, 43],\n",
       " 'Liberal': [1, 1.0, 0],\n",
       " 'Trumpvirus': [2, 1.81, 9],\n",
       " 'CapitolConsequences': [3, 2.94, 80],\n",
       " 'LockdownSkepticism': [57, 52.92999999999999, 1659],\n",
       " 'Political_Revolution': [1, 0.92, 0],\n",
       " 'ChronicIllness': [3, 2.7800000000000002, 4],\n",
       " 'usanews': [1, 0.91, 2],\n",
       " 'ParlerWatch': [4, 3.71, 8],\n",
       " 'AmericanFascism2020': [2, 1.63, 0],\n",
       " 'cybersecurity': [1, 0.81, 0],\n",
       " 'booklists': [1, 1.0, 0],\n",
       " 'China': [1, 0.75, 1],\n",
       " 'January6': [1, 0.57, 1],\n",
       " 'Seattle': [1, 0.99, 13],\n",
       " 'sciencefiction': [1, 0.73, 2],\n",
       " 'Jazz': [1, 0.29, 0],\n",
       " 'iamatotalpieceofshit': [4, 4.0, 3],\n",
       " 'toronto': [98, 80.80000000000004, 5762],\n",
       " 'MensRights': [1, 0.97, 2],\n",
       " 'eddit8yearsago': [1, 1.0, 1],\n",
       " 'TrueCrimeDiscussion': [1, 0.96, 7],\n",
       " 'neocentrism': [1, 1.0, 3],\n",
       " 'DanLeBatardShow': [1, 1.0, 1],\n",
       " 'medical': [1, 1.0, 0],\n",
       " 'gardening': [1, 1.0, 1],\n",
       " 'covidlonghaulers': [1, 1.0, 7],\n",
       " 'RepublicanTerrorism': [1, 0.85, 1],\n",
       " 'UofT': [2, 1.58, 2],\n",
       " 'climatechange': [1, 0.85, 1],\n",
       " 'fucktheccp': [3, 2.9699999999999998, 1],\n",
       " 'LoveForLandlords': [1, 1.0, 0],\n",
       " 'nuclear': [1, 0.95, 25],\n",
       " 'ToiletPaperUSA': [1, 0.98, 4],\n",
       " 'LeopardsAteMyFace': [1, 0.99, 30],\n",
       " 'electricvehicles': [1, 1.0, 3],\n",
       " 'AirForce': [1, 0.74, 5],\n",
       " 'washingtondc': [1, 0.27, 0],\n",
       " 'metamtl': [1, 1.0, 1],\n",
       " 'Canadians': [6, 5.470000000000001, 17],\n",
       " 'mcgill': [1, 0.97, 25],\n",
       " 'Quebec': [19, 12.28, 364],\n",
       " 'Capitalism': [1, 0.9, 5],\n",
       " 'funny': [1, 0.63, 3],\n",
       " 'EnoughTrumpSpam': [1, 0.9, 0],\n",
       " 'smallbusiness': [1, 0.5, 8],\n",
       " 'biology': [2, 1.72, 0],\n",
       " 'Kossacks_for_Sanders': [1, 1.0, 2],\n",
       " 'Guelph': [2, 1.92, 37],\n",
       " 'ImmigrationCanada': [1, 1.0, 2],\n",
       " 'antiwork': [4, 3.95, 10],\n",
       " 'LockdownCriticalLeft': [15, 13.5, 101],\n",
       " 'MURICA': [1, 1.0, 0],\n",
       " 'UFOs': [1, 0.8, 5],\n",
       " 'AnythingGoesNews': [1, 0.5, 2],\n",
       " 'malaysia': [1, 0.96, 15],\n",
       " 'union': [1, 1.0, 0],\n",
       " 'China_Flu': [1, 0.57, 2],\n",
       " 'KingkillerChronicle': [3, 2.9, 6],\n",
       " 'CannedSardines': [1, 1.0, 1],\n",
       " 'sixdigits': [1, 0.67, 0],\n",
       " 'HydroHomies': [1, 0.81, 1],\n",
       " 'SubSimulatorGPT2Meta': [1, 0.99, 19],\n",
       " 'covidskepticscanada': [18, 17.310000000000002, 17],\n",
       " 'SaltyArmy': [1, 1.0, 0],\n",
       " 'discgolf': [1, 0.92, 2],\n",
       " 'asianamerican': [1, 1.0, 0],\n",
       " 'ChronicPain': [2, 1.93, 16],\n",
       " 'sydney': [1, 1.0, 2],\n",
       " 'Military': [3, 2.24, 10],\n",
       " 'technology': [9, 7.18, 36],\n",
       " 'business': [1, 0.97, 60],\n",
       " 'realtech': [5, 4.14, 6],\n",
       " 'OntarioCanada': [33, 30.349999999999998, 622],\n",
       " 'MtF': [1, 0.87, 1],\n",
       " 'uwaterloo': [5, 4.85, 26],\n",
       " 'instantkarma': [1, 1.0, 1],\n",
       " 'JusticeServed': [1, 1.0, 1],\n",
       " 'BigTech': [2, 1.9, 0],\n",
       " 'environment': [11, 9.959999999999999, 420],\n",
       " 'VoteDEM': [1, 0.89, 1],\n",
       " 'IASIP': [1, 1.0, 0],\n",
       " 'PERU': [1, 1.0, 0],\n",
       " 'Filmmakers': [1, 0.68, 6],\n",
       " 'FuckNestle': [1, 0.98, 0],\n",
       " 'shrooms': [1, 1.0, 0],\n",
       " 'florida': [3, 2.86, 17],\n",
       " 'Antipsychiatry': [2, 1.9100000000000001, 54],\n",
       " 'britishcolumbia': [60, 50.33, 1487],\n",
       " 'pakistan': [1, 1.0, 1],\n",
       " 'COVID19': [2, 1.38, 2],\n",
       " 'Coronavirus': [68, 60.09, 1113],\n",
       " 'Cyberpunk': [1, 0.65, 3],\n",
       " 'StockMarket': [1, 0.82, 5],\n",
       " 'hapas': [1, 0.88, 1],\n",
       " 'FeMRADebates': [2, 1.84, 92],\n",
       " 'canucks': [1, 0.92, 22],\n",
       " 'COMPLETEANARCHY': [1, 0.78, 2],\n",
       " 'thebulwark': [2, 2.0, 0],\n",
       " 'AntifascistsofReddit': [1, 0.67, 1],\n",
       " 'Wallstreetbetsnew': [1, 0.93, 7],\n",
       " 'GreenPartyOfCanada': [6, 5.0, 3],\n",
       " 'thebachelor': [7, 7.0, 6],\n",
       " 'wallstreetbets2': [1, 1.0, 2],\n",
       " 'Firefighting': [1, 0.83, 4],\n",
       " 'travel': [2, 2.0, 0],\n",
       " 'Cascadia': [2, 1.9, 9],\n",
       " 'offbeat': [7, 5.859999999999999, 58],\n",
       " 'PersonalFinanceCanada': [4, 3.3600000000000003, 168],\n",
       " 'CanadianInvestor': [6, 4.02, 632],\n",
       " 'NativeAmerican': [1, 0.95, 0],\n",
       " 'WallStreetbetsELITE': [3, 3.0, 2],\n",
       " 'Dinosaurs': [1, 0.92, 7],\n",
       " 'Canadapennystocks': [1, 0.88, 26],\n",
       " '2020PoliceBrutality': [3, 2.1799999999999997, 6],\n",
       " 'islam_ahmadiyya': [1, 0.96, 45],\n",
       " 'GooglePixel': [1, 0.84, 21],\n",
       " 'malefashionadvice': [1, 0.93, 33],\n",
       " 'saskatoon': [22, 20.159999999999997, 778],\n",
       " 'TheFightThatMatters': [1, 1.0, 1],\n",
       " 'rugbyunion': [1, 0.88, 0],\n",
       " 'PussyPass': [1, 0.88, 4],\n",
       " 'apple': [1, 0.78, 30],\n",
       " 'autotldr': [54, 49.650000000000006, 0],\n",
       " 'CoronavirusUK': [1, 1.0, 0],\n",
       " 'Equestrian': [1, 1.0, 9],\n",
       " 'survivor': [1, 1.0, 4],\n",
       " 'canadaguns': [1, 1.0, 2],\n",
       " 'ottawa': [513, 493.95000000000016, 3466],\n",
       " 'starbucks': [1, 0.5, 1],\n",
       " 'Bellingham': [1, 1.0, 23],\n",
       " 'Edmonton': [57, 50.76, 1647],\n",
       " 'abbotsford': [1, 1.0, 10],\n",
       " 'waterloo': [11, 9.57, 206],\n",
       " 'OntarioUniversities': [1, 0.86, 1],\n",
       " 'windsorontario': [9, 7.480000000000001, 114],\n",
       " 'acting': [2, 2.0, 16],\n",
       " 'fredericton': [23, 19.94, 117],\n",
       " 'MadeMeSmile': [5, 4.68, 0],\n",
       " 'NHLHUT': [2, 1.85, 57],\n",
       " 'TheOCS': [3, 2.08, 31],\n",
       " 'ThunderBay': [10, 8.95, 186],\n",
       " 'hiking': [1, 0.78, 0],\n",
       " 'BabyBumps': [2, 1.66, 122],\n",
       " 'halifax': [96, 78.99999999999997, 2155],\n",
       " 'regina': [16, 13.929999999999998, 668],\n",
       " 'Survival': [1, 0.95, 2],\n",
       " 'doordash': [1, 1.0, 12],\n",
       " 'montreal': [22, 20.619999999999997, 714],\n",
       " 'Questrade': [2, 1.76, 14],\n",
       " 'KingstonOntario': [3, 2.79, 83],\n",
       " 'polyamory': [2, 1.69, 18],\n",
       " 'skiing': [2, 1.9300000000000002, 7],\n",
       " 'ems': [2, 1.92, 21],\n",
       " 'InteriorDesign': [1, 1.0, 1],\n",
       " 'Wellthatsucks': [1, 1.0, 1],\n",
       " 'Scams': [1, 1.0, 1],\n",
       " 'NonBinary': [1, 1.0, 1],\n",
       " 'BasicIncome': [1, 0.67, 4],\n",
       " 'Costco': [1, 0.96, 58],\n",
       " 'emergencymedicine': [1, 1.0, 7],\n",
       " 'timecrisis': [1, 1.0, 0],\n",
       " 'BanPitBulls': [6, 5.779999999999999, 159],\n",
       " 'farming': [1, 0.95, 0],\n",
       " 'Dogfree': [1, 0.97, 2],\n",
       " 'Android': [1, 0.75, 97],\n",
       " 'bigdickproblems': [1, 1.0, 1],\n",
       " 'fantasyhockey': [2, 2.0, 8],\n",
       " 'Torontology': [4, 2.54, 16],\n",
       " 'uAlberta': [4, 3.06, 76],\n",
       " 'Baystreetbets': [2, 1.63, 3],\n",
       " 'LinusTechTips': [2, 1.5, 0],\n",
       " 'NoFilterNews': [66, 65.5, 0],\n",
       " 'COVID': [3, 2.3200000000000003, 1],\n",
       " 'CanadaPolitics': [279, 238.27999999999992, 8391],\n",
       " 'japan': [4, 3.77, 7],\n",
       " 'SchittsCreek': [2, 2.0, 0],\n",
       " 'police': [2, 2.0, 1],\n",
       " 'manchester': [1, 0.5, 2],\n",
       " 'Animals': [1, 1.0, 0],\n",
       " 'knitting': [1, 1.0, 0],\n",
       " 'indieheads': [1, 0.94, 10],\n",
       " 'Brampton': [5, 4.37, 44],\n",
       " 'Georgia': [1, 0.9, 1],\n",
       " 'OnTheBlock': [1, 0.72, 5],\n",
       " 'CysticFibrosis': [1, 0.98, 6],\n",
       " 'Rowing': [1, 1.0, 3],\n",
       " 'VictoriaBC': [19, 17.189999999999998, 282],\n",
       " 'Toxic_Femininity': [1, 0.96, 18],\n",
       " 'AmericanHorrorStory': [1, 0.9, 2],\n",
       " 'canadients': [3, 2.53, 70],\n",
       " 'CovidCanada': [1, 0.83, 0],\n",
       " 'CovIdiots': [3, 2.71, 9],\n",
       " 'Detroit': [1, 0.95, 6],\n",
       " 'McMaster': [1, 0.99, 2],\n",
       " 'NewWest': [8, 7.68, 88],\n",
       " 'simonfraser': [2, 1.85, 0],\n",
       " 'MensLib': [2, 1.97, 204],\n",
       " 'geegees': [2, 0.76, 18],\n",
       " 'aww': [3, 3.0, 3],\n",
       " 'trailerparkboys': [1, 0.67, 1],\n",
       " 'community': [1, 1.0, 0],\n",
       " 'ShitLiberalsSay': [1, 1.0, 1],\n",
       " 'insects': [1, 1.0, 0],\n",
       " 'ChurchOfCOVID': [1, 1.0, 4],\n",
       " 'SocialJusticeInAction': [3, 2.55, 59],\n",
       " 'COVID19_support': [1, 0.62, 0],\n",
       " 'ThriftStoreHauls': [1, 1.0, 1],\n",
       " 'theworldnews': [15, 11.4, 0],\n",
       " 'daverubin': [1, 0.99, 0],\n",
       " 'facepalm': [1, 0.9, 6],\n",
       " 'TheAbditory': [1, 1.0, 0],\n",
       " 'CitizensClimateLobby': [1, 0.82, 3],\n",
       " 'RedDeer': [3, 2.76, 54],\n",
       " 'Lethbridge': [1, 0.67, 1],\n",
       " 'SurreyBC': [6, 5.640000000000001, 32],\n",
       " 'CanadaCoronavirus': [143, 126.14000000000007, 1818],\n",
       " 'XSomalian': [1, 0.91, 5],\n",
       " 'UBC': [7, 5.18, 96],\n",
       " 'GamerGhazi': [1, 0.92, 0],\n",
       " 'londonontario': [41, 34.69, 875],\n",
       " 'sqdc': [1, 0.93, 62],\n",
       " 'mildlyinfuriating': [1, 1.0, 3],\n",
       " 'uwo': [1, 0.95, 10],\n",
       " 'Mindfulness': [1, 0.86, 0],\n",
       " 'Markham': [1, 0.93, 32],\n",
       " 'PoliticalVideos': [3, 3.0, 0],\n",
       " 'Sudbury': [5, 4.470000000000001, 76],\n",
       " 'TorontoRealEstate': [1, 0.89, 73],\n",
       " 'economy': [1, 0.92, 6],\n",
       " 'YMS': [1, 1.0, 0],\n",
       " 'ndp': [27, 25.63, 89],\n",
       " 'Tokyo': [1, 1.0, 0],\n",
       " 'BernieSanders': [1, 1.0, 1],\n",
       " 'mississauga': [4, 3.8099999999999996, 13],\n",
       " 'Caribbean': [1, 1.0, 0],\n",
       " 'ADKFunPolice': [1, 0.93, 11],\n",
       " 'CFL': [2, 1.97, 8],\n",
       " 'weedstocks': [1, 0.99, 8],\n",
       " 'SneakersCanada': [1, 1.0, 0],\n",
       " 'HelloInternet': [1, 0.97, 8],\n",
       " 'Jeopardy': [3, 2.71, 10],\n",
       " 'PEI': [16, 14.91, 216],\n",
       " 'FoodToronto': [2, 1.63, 5],\n",
       " 'Cowichan': [1, 0.94, 3],\n",
       " 'NWSL': [1, 1.0, 0],\n",
       " 'lansing': [1, 0.86, 8],\n",
       " 'railroading': [1, 0.86, 3],\n",
       " 'TransSpace': [1, 1.0, 1],\n",
       " 'Bad_Cop_No_Donut': [10, 9.87, 16],\n",
       " 'montreal4all': [4, 3.3800000000000003, 15],\n",
       " 'kelowna': [2, 1.9100000000000001, 81],\n",
       " 'uvic': [2, 1.37, 8],\n",
       " 'DarkFuturology': [1, 0.97, 35],\n",
       " 'stcatharinesON': [2, 1.3599999999999999, 20],\n",
       " 'Zappa': [1, 1.0, 6],\n",
       " 'ArtHistory': [1, 1.0, 1],\n",
       " 'ShopCanada': [2, 2.0, 4],\n",
       " 'winnipegjets': [2, 1.9, 1007],\n",
       " 'pussypassdenied': [1, 0.96, 23],\n",
       " 'medicinehat': [2, 1.94, 10],\n",
       " 'foreignpolicy': [1, 0.7, 1],\n",
       " 'Journalism': [5, 4.8100000000000005, 0],\n",
       " 'Epstein': [2, 1.89, 5],\n",
       " 'Naturewasmetal': [1, 0.99, 3],\n",
       " 'NatureIsFuckingLit': [1, 1.0, 0],\n",
       " 'ACAB': [1, 0.75, 0],\n",
       " 'SelfAwarewolves': [1, 0.85, 4],\n",
       " 'DemocratsforDiversity': [1, 1.0, 1],\n",
       " 'nhl': [4, 3.23, 30],\n",
       " 'MAGAs': [1, 0.95, 1],\n",
       " 'CanadianPolitics': [1, 0.9, 11],\n",
       " 'restaurant': [1, 1.0, 1],\n",
       " 'Archaeology': [1, 0.75, 0],\n",
       " 'goodnews': [1, 0.9, 1],\n",
       " 'Missing411': [1, 0.84, 148],\n",
       " 'CanadianForces': [16, 15.610000000000001, 247],\n",
       " 'IntelligenceNews': [4, 3.69, 4],\n",
       " 'EcoNewsNetwork': [3, 3.0, 1],\n",
       " 'Manitoba': [12, 10.469999999999999, 34],\n",
       " 'ScienceUncensored': [1, 0.67, 0],\n",
       " 'ValueInvesting': [2, 2.0, 12],\n",
       " 'durham': [1, 0.9, 4],\n",
       " 'mayahiga': [1, 0.96, 1],\n",
       " 'canadacordcutters': [1, 0.97, 13],\n",
       " 'BiologicalSeas': [1, 0.92, 0],\n",
       " 'saskatchewan': [67, 55.96000000000001, 1348],\n",
       " 'TacoZone': [1, 1.0, 0],\n",
       " 'nCoV': [4, 3.62, 3],\n",
       " 'energy': [1, 0.99, 11],\n",
       " 'HorriblyDepressing': [1, 1.0, 0],\n",
       " 'altnewz': [1, 0.91, 1],\n",
       " 'political': [1, 1.0, 0],\n",
       " 'BuyCanadian': [4, 3.8600000000000003, 62],\n",
       " 'Libernadian': [2, 1.76, 15],\n",
       " 'Vaccine': [1, 0.83, 1],\n",
       " 'Gatineau': [4, 2.77, 70],\n",
       " 'GrandePrairie': [2, 1.87, 12],\n",
       " 'transplant': [1, 0.98, 3],\n",
       " 'Flights': [2, 1.4, 8],\n",
       " 'VACCINES': [1, 0.88, 0],\n",
       " 'IndianCountry': [16, 15.5, 24],\n",
       " 'Peterborough': [1, 0.87, 3],\n",
       " 'agedlikemilk': [2, 1.67, 1],\n",
       " 'FrancaisCanadien': [1, 1.0, 1],\n",
       " 'AntiVaxxers': [2, 2.0, 10],\n",
       " 'canadaleft': [12, 11.280000000000001, 35],\n",
       " 'NewsWithoutNewsMedia': [30, 28.64, 1],\n",
       " 'PacificNorthwest': [1, 1.0, 4],\n",
       " 'BachelorNation': [4, 3.31, 24],\n",
       " 'VancouverIsland': [9, 8.4, 141],\n",
       " 'burnaby': [1, 0.97, 3],\n",
       " 'MarsSociety': [1, 1.0, 0],\n",
       " 'LockdownHypocrites': [5, 4.92, 1],\n",
       " 'QuebecLibre': [1, 0.75, 1],\n",
       " 'Whistler': [2, 1.9, 3],\n",
       " 'gameshow': [1, 1.0, 0],\n",
       " 'forestry': [1, 0.75, 8],\n",
       " 'prisons': [18, 15.69, 0],\n",
       " 'GreenParty': [2, 1.77, 4],\n",
       " 'CanadaSoccer': [4, 3.4399999999999995, 0],\n",
       " 'olympics': [6, 5.62, 89],\n",
       " 'toppostoftheday': [2, 1.96, 4],\n",
       " 'Curling': [1, 0.97, 4],\n",
       " 'Dalhousie': [1, 0.93, 11],\n",
       " 'WomensSoccer': [3, 3.0, 4],\n",
       " 'Green': [1, 0.9, 0],\n",
       " 'NewsOfTheStupid': [2, 1.88, 0],\n",
       " 'AnarchistGenerationZ': [1, 1.0, 0],\n",
       " 'peopleofwalmart': [1, 0.95, 0],\n",
       " 'Coronavirus_BC': [44, 41.620000000000005, 56],\n",
       " 'imdbvg': [1, 0.8, 21],\n",
       " 'MLS': [1, 0.8, 4],\n",
       " 'orcas': [1, 1.0, 1],\n",
       " 'tvPlus': [1, 0.92, 1],\n",
       " 'brantford': [2, 1.97, 56],\n",
       " 'PoliticalVideo': [4, 3.76, 6],\n",
       " 'CanadianPL': [5, 4.47, 20],\n",
       " 'BehavingBadly': [20, 20.0, 0],\n",
       " 'niagara': [3, 2.61, 32],\n",
       " 'NoRulesCalgary': [5, 3.13, 82],\n",
       " 'newbrunswickcanada': [67, 57.28999999999999, 1062],\n",
       " 'trashy': [2, 1.94, 3],\n",
       " 'OttawaSports': [1, 1.0, 0],\n",
       " 'Ontariofood': [1, 1.0, 0],\n",
       " 'radicalmentalhealth': [2, 1.68, 4],\n",
       " 'stalbert': [1, 1.0, 0],\n",
       " 'alpinism': [1, 0.92, 2],\n",
       " 'Torontoevents': [1, 0.83, 2],\n",
       " 'Yukon': [5, 4.55, 4],\n",
       " 'domesticgunviolence': [2, 1.25, 0],\n",
       " 'Metric': [3, 2.84, 19],\n",
       " 'WhatWeDointheShadows': [1, 0.96, 10],\n",
       " 'CoronaVirusMontreal': [11, 9.699999999999998, 64],\n",
       " 'fandomnatural': [1, 1.0, 3],\n",
       " 'boogaloos': [1, 0.67, 1],\n",
       " 'KimsConvenience': [7, 6.79, 212],\n",
       " 'algonquinpark': [2, 1.92, 46],\n",
       " 'food': [1, 1.0, 0],\n",
       " 'DeFranco': [1, 1.0, 1],\n",
       " 'Airdrie': [1, 0.91, 8],\n",
       " 'PEIpoliticalgroup': [242, 240.42999999999998, 8],\n",
       " 'Sikhpolitics': [1, 1.0, 1],\n",
       " 'ProtectOurForests': [2, 2.0, 0],\n",
       " 'Hatewhenthathappens': [1, 0.95, 0],\n",
       " 'nunavut': [8, 7.74, 2],\n",
       " 'PoliticalCoverage': [1, 1.0, 8],\n",
       " 'MachineThatMakesMoney': [1, 1.0, 0],\n",
       " 'Maxcactus_TrailGuide': [1, 1.0, 0],\n",
       " 'bestofthefray': [1, 0.84, 7],\n",
       " 'USNEWS': [1, 0.86, 0],\n",
       " 'righttorepair': [1, 0.94, 2],\n",
       " 'princegeorge': [1, 1.0, 2],\n",
       " 'canadaland': [1, 0.83, 0],\n",
       " 'SherwoodPark': [1, 0.78, 2],\n",
       " 'DailyTechNewsShow': [1, 0.89, 2],\n",
       " 'USA_StratCom': [1, 1.0, 1],\n",
       " 'frogpants': [1, 1.0, 0],\n",
       " 'AncientAliens': [1, 0.95, 1],\n",
       " 'Vanier': [1, 1.0, 0],\n",
       " 'womenshockey': [2, 1.75, 3],\n",
       " 'canadanews': [4, 3.82, 31],\n",
       " 'nwhl': [1, 0.95, 0],\n",
       " 'Government_is_lame': [1, 1.0, 0],\n",
       " 'TheNativeDissident': [14, 14.0, 14],\n",
       " 'northernontario': [7, 6.81, 13],\n",
       " 'FirstNationsCanada': [32, 31.259999999999994, 17],\n",
       " 'transgender': [2, 1.99, 5],\n",
       " 'OntarioPolitics': [3, 2.84, 10],\n",
       " 'WorldNewsHeadlines': [1, 1.0, 0],\n",
       " 'crowdfunders': [1, 1.0, 0],\n",
       " 'NWT': [3, 2.75, 3],\n",
       " 'P_C': [20, 19.330000000000002, 18],\n",
       " 'oil': [1, 0.83, 30],\n",
       " 'EverythingScience': [1, 0.96, 3],\n",
       " 'ccg_gcc': [1, 1.0, 1],\n",
       " 'CanadianConservative': [53, 41.62999999999999, 224],\n",
       " 'NewWestEVs': [1, 1.0, 0],\n",
       " 'Trumpet_of_Discord': [1, 1.0, 0],\n",
       " 'pwned': [1, 0.97, 1],\n",
       " 'localdelivery': [3, 3.0, 0],\n",
       " 'solarenergycanada': [2, 1.8599999999999999, 2],\n",
       " 'CITILOP': [1, 1.0, 0],\n",
       " 'MetaAlberta': [6, 4.96, 36],\n",
       " 'POTUSWatch': [1, 0.94, 9],\n",
       " 'Moronavirus': [1, 0.99, 13],\n",
       " 'RemoveMyPhone': [1, 1.0, 0],\n",
       " 'dominionofcanada': [12, 10.23, 15],\n",
       " 'AmalaNetwork': [1, 0.91, 0],\n",
       " 'methanecrisis': [1, 1.0, 0],\n",
       " 'Otters': [1, 0.99, 2],\n",
       " 'CanadaToday': [22, 22.0, 0],\n",
       " 'HumanTrafficking': [8, 7.88, 1],\n",
       " 'technews': [1, 0.95, 5],\n",
       " 'UnbiasedCanada': [1, 0.86, 1],\n",
       " 'bad_dgu': [3, 1.75, 0],\n",
       " 'News_Construction': [8, 8.0, 0],\n",
       " 'WomenInNews': [5, 4.92, 0],\n",
       " 'worldevents': [2, 1.85, 45],\n",
       " 'PupliftingNews': [2, 1.96, 7],\n",
       " 'CCIV': [1, 0.94, 5],\n",
       " 'ThatVeganTeacherisbad': [1, 1.0, 5],\n",
       " 'AsOneDoes': [1, 0.96, 0],\n",
       " 'xxfitnesscirclejerk': [1, 0.5, 0],\n",
       " 'Astuff': [1, 1.0, 0],\n",
       " 'realmontreal': [2, 2.0, 5],\n",
       " 'anime_titties': [7, 5.01, 33],\n",
       " 'GlobalNews': [2, 1.3900000000000001, 0],\n",
       " 'RuralNewsNetwork': [5, 5.0, 0],\n",
       " 'CoronavirusON': [7, 7.0, 0],\n",
       " 'InternetAccess': [1, 1.0, 0],\n",
       " 'CanadaBusiness': [64, 64.0, 64],\n",
       " 'climatejustice': [1, 0.86, 0],\n",
       " 'BellevilleOntario': [2, 1.2, 10],\n",
       " 'montrealmusic': [1, 1.0, 0],\n",
       " 'edmundston': [1, 0.5, 0],\n",
       " 'TrumpCivilWar': [1, 0.5, 0],\n",
       " 'NLPolitics': [43, 42.370000000000005, 6],\n",
       " 'climatedisalarm': [1, 0.66, 0],\n",
       " 'RonaldReagan': [1, 0.81, 0],\n",
       " 'vancouvercanada': [2, 2.0, 0],\n",
       " 'Xinjiang': [1, 0.91, 0],\n",
       " 'Canada_Politics': [40, 37.019999999999996, 10],\n",
       " 'Canadian_News': [13, 12.48, 3],\n",
       " 'Covid19Origin': [1, 1.0, 1],\n",
       " 'GoodNewsNetwork': [1, 1.0, 0],\n",
       " 'COVID_CANADA': [1972, 1959.3200000000004, 23],\n",
       " 'FawningLiberalMedia': [3, 3.0, 1],\n",
       " 'whatsreallygoinon': [1, 0.67, 0],\n",
       " 'WHHR7': [1, 1.0, 0],\n",
       " 'LGBTQnews': [1, 0.91, 0],\n",
       " 'CanadaRugby': [1, 1.0, 0],\n",
       " 'LockdownSkepticismCAN': [6, 5.430000000000001, 4],\n",
       " 'Stockhouse': [2, 1.75, 0],\n",
       " 'TrueCrimeGenre': [2, 2.0, 1],\n",
       " 'geopolitics2': [1, 0.75, 0],\n",
       " 'NovaScotiaPolitics': [27, 25.380000000000003, 12],\n",
       " 'CoronaVirus_2019_nCoV': [2, 1.54, 0],\n",
       " 'ManitobaPolitics': [23, 20.919999999999998, 32],\n",
       " 'NewNormal': [1, 1.0, 0],\n",
       " 'CanadianFilm': [2, 2.0, 0],\n",
       " 'tlingit': [1, 1.0, 0],\n",
       " 'CoVaxSkeptical': [1, 0.81, 0],\n",
       " 'nakd': [1, 0.73, 0],\n",
       " 'BCpolitics': [36, 32.91, 95],\n",
       " 'WallstreetStonkLottry': [2, 2.0, 0],\n",
       " 'News_Retail': [9, 9.0, 0],\n",
       " 'StudentSkeptics': [1, 1.0, 0],\n",
       " 'maskfreakouts': [1, 1.0, 0],\n",
       " 'LGBTnews': [2, 1.67, 0],\n",
       " 'HeroesUnited': [1, 1.0, 0],\n",
       " 'AnythingOntario': [447, 439.68000000000035, 6],\n",
       " 'civocracy': [7, 7.0, 0],\n",
       " 'News_Walmart': [1, 1.0, 0],\n",
       " 'DamnInteresting': [5, 5.0, 1],\n",
       " 'estevan': [2, 1.81, 1],\n",
       " 'wheresthebeef': [1, 1.0, 0],\n",
       " 'China_War': [1, 1.0, 0],\n",
       " 'UglyHumanity': [1, 0.66, 1],\n",
       " 'HotZone': [2, 2.0, 0],\n",
       " 'POCEntertainment': [2, 2.0, 0],\n",
       " 'neutralnews': [1, 0.84, 2],\n",
       " 'ActualidadMundial': [2, 2.0, 0],\n",
       " 'BadCopNoTimbit': [5, 4.87, 2],\n",
       " 'HIVandAIDS': [1, 1.0, 0],\n",
       " 'SaskatchewanPolitics': [34, 31.98, 236],\n",
       " 'VancouverNews': [2, 2.0, 0],\n",
       " 'Elon_musketeers': [1, 1.0, 0],\n",
       " 'NewsfeedForWork': [41, 40.33, 1],\n",
       " 'News_HealthBiotech': [7, 7.0, 2],\n",
       " 'gorecrowsociety': [1, 1.0, 0],\n",
       " 'EvolveSustain': [7, 7.0, 0],\n",
       " 'News_Food': [24, 24.0, 1],\n",
       " 'JustBadNews': [5, 4.5, 5],\n",
       " 'Trump_Idiocy': [2, 1.67, 0],\n",
       " 'News_Entertainment': [1, 1.0, 0],\n",
       " 'vanhousing': [3, 2.39, 1],\n",
       " 'News_Education': [24, 23.67, 0],\n",
       " 'electionReformNews': [2, 2.0, 0],\n",
       " 'News_Transportation': [12, 12.0, 0],\n",
       " 'HumanTraffickingNews': [2, 2.0, 0],\n",
       " 'News_RealEstate': [21, 20.67, 1],\n",
       " 'News_facebook': [1, 1.0, 0],\n",
       " 'News_OilAndEnergy': [18, 16.0, 6],\n",
       " 'politics2021': [1, 0.66, 0],\n",
       " 'Wuhan_Virus': [1, 1.0, 1],\n",
       " 'CoV2Canada': [1, 1.0, 0],\n",
       " 'greenpartybc': [2, 1.7, 0],\n",
       " 'USUnited': [1, 1.0, 1],\n",
       " 'News_Utility': [22, 22.0, 1],\n",
       " 'Positive_News': [2, 1.8900000000000001, 1],\n",
       " 'InMemoriamCOVID': [1, 0.93, 0],\n",
       " 'larryking': [1, 1.0, 0],\n",
       " 'notthebeaverton': [7, 6.91, 41],\n",
       " 'CoronavirusToronto': [1, 1.0, 0],\n",
       " 'CoronavirusOntario': [1, 0.71, 1],\n",
       " 'TrumpLegalTalk': [1, 1.0, 0],\n",
       " 'CoronaVirusWorldNews': [1, 1.0, 0],\n",
       " 'Toadbook': [2, 1.67, 0],\n",
       " 'Quebec_Politics': [4, 3.76, 0],\n",
       " 'ClimateCrisisCanada': [8, 7.42, 1],\n",
       " 'PEIpolitics': [23, 23.0, 2],\n",
       " 'CBC2': [502, 496.41999999999996, 1],\n",
       " 'OntarioNews': [151, 148.34, 10],\n",
       " 'YarnArt': [1, 1.0, 0],\n",
       " 'CanadianMusicNews': [8, 8.0, 0],\n",
       " 'nbpolitics': [25, 23.88, 74],\n",
       " 'YukonPolitics': [8, 6.0, 2],\n",
       " 'NunavutPolitics': [2, 2.0, 0],\n",
       " 'NWTPolitics': [7, 6.82, 3],\n",
       " 'VancouverIslandJobs': [1, 1.0, 1],\n",
       " 'xxfitness_classic': [1, 1.0, 2],\n",
       " 'DeltaBritishColumbia': [2, 1.68, 1],\n",
       " 'CoronavirusChurches': [1, 1.0, 0],\n",
       " 'Alouettes': [1, 1.0, 0],\n",
       " 'MaritimeLaunch': [1, 1.0, 1],\n",
       " 'actualzombie': [2, 2.0, 0],\n",
       " 'CanadianAtheism': [1, 1.0, 3],\n",
       " 'GreenPartyNB': [2, 1.76, 0],\n",
       " 'GrandFalls': [2, 1.46, 0],\n",
       " 'Minto': [1, 0.5, 0],\n",
       " 'hyperbarics': [1, 1.0, 0],\n",
       " 'NOKXL': [1, 1.0, 0],\n",
       " 'somebody_somewhere': [1, 1.0, 0],\n",
       " 'LiberalScandalWatch': [1, 0.82, 0],\n",
       " 'TheMapleCrown': [1, 1.0, 0],\n",
       " 'TorontoCanada': [2, 2.0, 0],\n",
       " 'CrownLandsMusic': [1, 1.0, 0],\n",
       " 'MindBleach': [1, 0.85, 0]}"
      ]
     },
     "execution_count": 287,
     "metadata": {},
     "output_type": "execute_result"
    }
   ],
   "source": [
    "ns_subreddit_01['cbc.ca']"
   ]
  },
  {
   "cell_type": "code",
   "execution_count": 288,
   "metadata": {},
   "outputs": [
    {
     "data": {
      "text/plain": [
       "<AxesSubplot:ylabel='Count'>"
      ]
     },
     "execution_count": 288,
     "metadata": {},
     "output_type": "execute_result"
    },
    {
     "data": {
      "image/png": "[encoded data removed]",
      "text/plain": [
       "<Figure size 432x288 with 1 Axes>"
      ]
     },
     "metadata": {},
     "output_type": "display_data"
    }
   ],
   "source": [
    "sns.histplot(list(mention_count.values()), log_scale=True)"
   ]
  },
  {
   "cell_type": "code",
   "execution_count": 289,
   "metadata": {},
   "outputs": [
    {
     "data": {
      "text/plain": [
       "<AxesSubplot:ylabel='Count'>"
      ]
     },
     "execution_count": 289,
     "metadata": {},
     "output_type": "execute_result"
    },
    {
     "data": {
      "image/png": "[encoded data removed]",
      "text/plain": [
       "<Figure size 432x288 with 1 Axes>"
      ]
     },
     "metadata": {},
     "output_type": "display_data"
    }
   ],
   "source": [
    "sns.histplot(list([k for k in mention_count.values() if k <100000]), log_scale=True)"
   ]
  },
  {
   "cell_type": "code",
   "execution_count": 290,
   "metadata": {},
   "outputs": [
    {
     "data": {
      "text/plain": [
       "35.86481287163344"
      ]
     },
     "execution_count": 290,
     "metadata": {},
     "output_type": "execute_result"
    }
   ],
   "source": [
    "len([k for k in mention_count.values() if k <5])*100/len(mention_count)"
   ]
  },
  {
   "cell_type": "code",
   "execution_count": 291,
   "metadata": {},
   "outputs": [
    {
     "data": {
      "text/plain": [
       "14866.800000000001"
      ]
     },
     "execution_count": 291,
     "metadata": {},
     "output_type": "execute_result"
    }
   ],
   "source": [
    "(1-0.35)*len(mention_count)"
   ]
  },
  {
   "cell_type": "markdown",
   "metadata": {},
   "source": [
    "## For each subreddit let's count how many news sources were mentioned in it"
   ]
  },
  {
   "cell_type": "markdown",
   "metadata": {},
   "source": [
    "Counting how many news sources were mentioned in each subreddit"
   ]
  },
  {
   "cell_type": "code",
   "execution_count": 292,
   "metadata": {},
   "outputs": [],
   "source": [
    "nsc_count = dict()\n",
    "for sr in sr_union:\n",
    "    nsc_count[sr] = len(set(subreddit_ns_jan.get(sr, dict()).keys()) \n",
    "                               | set(subreddit_ns_feb.get(sr, dict()).keys()) \n",
    "                               | set(subreddit_ns_march.get(sr, dict()).keys()) \n",
    "                               | set(subreddit_ns_april.get(sr, dict()).keys())\n",
    "                               | set(subreddit_ns_may.get(sr, dict()).keys()) \n",
    "                               | set(subreddit_ns_jun.get(sr, dict()).keys()))"
   ]
  },
  {
   "cell_type": "markdown",
   "metadata": {},
   "source": [
    "`nsc_count` stores how many news sources appear in each subreddit."
   ]
  },
  {
   "cell_type": "code",
   "execution_count": 293,
   "metadata": {},
   "outputs": [
    {
     "data": {
      "text/plain": [
       "104"
      ]
     },
     "execution_count": 293,
     "metadata": {},
     "output_type": "execute_result"
    }
   ],
   "source": [
    "nsc_count['aww']"
   ]
  },
  {
   "cell_type": "code",
   "execution_count": 294,
   "metadata": {},
   "outputs": [
    {
     "data": {
      "text/plain": [
       "0"
      ]
     },
     "execution_count": 294,
     "metadata": {},
     "output_type": "execute_result"
    }
   ],
   "source": [
    "len([k for k in nsc_count if nsc_count[k]<1])"
   ]
  },
  {
   "cell_type": "code",
   "execution_count": 295,
   "metadata": {},
   "outputs": [
    {
     "data": {
      "text/plain": [
       "{1: 7234,\n",
       " 2: 1917,\n",
       " 3: 1029,\n",
       " 4: 726,\n",
       " 5: 565,\n",
       " 6: 516,\n",
       " 8: 466,\n",
       " 7: 464,\n",
       " 9: 431,\n",
       " 10: 411,\n",
       " 11: 391,\n",
       " 13: 365,\n",
       " 12: 363,\n",
       " 14: 319,\n",
       " 16: 309,\n",
       " 15: 286,\n",
       " 17: 274,\n",
       " 18: 268,\n",
       " 19: 251,\n",
       " 20: 247,\n",
       " 22: 212,\n",
       " 21: 190,\n",
       " 24: 189,\n",
       " 25: 185,\n",
       " 23: 183,\n",
       " 27: 164,\n",
       " 29: 159,\n",
       " 26: 143,\n",
       " 28: 143,\n",
       " 30: 138,\n",
       " 32: 132,\n",
       " 31: 126,\n",
       " 33: 118,\n",
       " 34: 112,\n",
       " 35: 108,\n",
       " 37: 100,\n",
       " 36: 100,\n",
       " 39: 96,\n",
       " 40: 89,\n",
       " 42: 78,\n",
       " 43: 76,\n",
       " 38: 76,\n",
       " 41: 75,\n",
       " 44: 75,\n",
       " 49: 72,\n",
       " 52: 71,\n",
       " 45: 64,\n",
       " 53: 61,\n",
       " 47: 60,\n",
       " 51: 59,\n",
       " 46: 58,\n",
       " 48: 58,\n",
       " 50: 58,\n",
       " 56: 50,\n",
       " 55: 49,\n",
       " 59: 48,\n",
       " 58: 45,\n",
       " 61: 43,\n",
       " 63: 40,\n",
       " 54: 39,\n",
       " 62: 39,\n",
       " 66: 37,\n",
       " 67: 35,\n",
       " 57: 35,\n",
       " 68: 34,\n",
       " 64: 33,\n",
       " 77: 33,\n",
       " 80: 32,\n",
       " 71: 32,\n",
       " 60: 32,\n",
       " 65: 31,\n",
       " 74: 30,\n",
       " 73: 28,\n",
       " 70: 27,\n",
       " 82: 27,\n",
       " 69: 26,\n",
       " 88: 25,\n",
       " 72: 25,\n",
       " 75: 24,\n",
       " 93: 23,\n",
       " 85: 22,\n",
       " 86: 22,\n",
       " 84: 21,\n",
       " 78: 21,\n",
       " 81: 20,\n",
       " 79: 20,\n",
       " 110: 20,\n",
       " 83: 20,\n",
       " 76: 20,\n",
       " 101: 19,\n",
       " 89: 19,\n",
       " 87: 18,\n",
       " 97: 18,\n",
       " 94: 18,\n",
       " 116: 17,\n",
       " 104: 17,\n",
       " 103: 17,\n",
       " 91: 17,\n",
       " 118: 17,\n",
       " 98: 16,\n",
       " 107: 15,\n",
       " 112: 15,\n",
       " 95: 15,\n",
       " 124: 15,\n",
       " 132: 15,\n",
       " 140: 15,\n",
       " 135: 14,\n",
       " 108: 14,\n",
       " 92: 14,\n",
       " 130: 14,\n",
       " 114: 14,\n",
       " 133: 14,\n",
       " 105: 13,\n",
       " 90: 13,\n",
       " 102: 13,\n",
       " 117: 13,\n",
       " 141: 13,\n",
       " 111: 13,\n",
       " 96: 12,\n",
       " 128: 12,\n",
       " 113: 12,\n",
       " 127: 12,\n",
       " 120: 12,\n",
       " 137: 11,\n",
       " 162: 11,\n",
       " 119: 11,\n",
       " 131: 11,\n",
       " 122: 11,\n",
       " 126: 11,\n",
       " 100: 11,\n",
       " 143: 10,\n",
       " 136: 10,\n",
       " 106: 10,\n",
       " 109: 10,\n",
       " 142: 9,\n",
       " 99: 9,\n",
       " 171: 9,\n",
       " 139: 9,\n",
       " 138: 9,\n",
       " 205: 9,\n",
       " 148: 9,\n",
       " 167: 9,\n",
       " 188: 8,\n",
       " 156: 8,\n",
       " 146: 8,\n",
       " 129: 8,\n",
       " 147: 8,\n",
       " 152: 8,\n",
       " 121: 8,\n",
       " 158: 8,\n",
       " 230: 7,\n",
       " 203: 7,\n",
       " 166: 7,\n",
       " 241: 7,\n",
       " 151: 7,\n",
       " 172: 7,\n",
       " 247: 7,\n",
       " 185: 6,\n",
       " 161: 6,\n",
       " 125: 6,\n",
       " 183: 6,\n",
       " 159: 6,\n",
       " 145: 6,\n",
       " 160: 6,\n",
       " 175: 6,\n",
       " 163: 6,\n",
       " 274: 6,\n",
       " 201: 6,\n",
       " 181: 6,\n",
       " 123: 6,\n",
       " 234: 6,\n",
       " 154: 5,\n",
       " 196: 5,\n",
       " 210: 5,\n",
       " 243: 5,\n",
       " 279: 5,\n",
       " 191: 5,\n",
       " 217: 5,\n",
       " 190: 5,\n",
       " 153: 5,\n",
       " 134: 5,\n",
       " 218: 5,\n",
       " 115: 5,\n",
       " 479: 5,\n",
       " 239: 5,\n",
       " 334: 5,\n",
       " 186: 5,\n",
       " 238: 5,\n",
       " 165: 4,\n",
       " 184: 4,\n",
       " 226: 4,\n",
       " 232: 4,\n",
       " 164: 4,\n",
       " 199: 4,\n",
       " 235: 4,\n",
       " 149: 4,\n",
       " 275: 4,\n",
       " 193: 4,\n",
       " 331: 4,\n",
       " 144: 4,\n",
       " 289: 4,\n",
       " 198: 4,\n",
       " 263: 4,\n",
       " 216: 4,\n",
       " 200: 4,\n",
       " 157: 4,\n",
       " 182: 4,\n",
       " 240: 4,\n",
       " 249: 4,\n",
       " 197: 4,\n",
       " 314: 4,\n",
       " 194: 4,\n",
       " 321: 3,\n",
       " 444: 3,\n",
       " 267: 3,\n",
       " 245: 3,\n",
       " 311: 3,\n",
       " 204: 3,\n",
       " 233: 3,\n",
       " 229: 3,\n",
       " 189: 3,\n",
       " 178: 3,\n",
       " 219: 3,\n",
       " 215: 3,\n",
       " 322: 3,\n",
       " 269: 3,\n",
       " 187: 3,\n",
       " 339: 3,\n",
       " 291: 3,\n",
       " 250: 3,\n",
       " 242: 3,\n",
       " 378: 3,\n",
       " 176: 3,\n",
       " 237: 3,\n",
       " 366: 3,\n",
       " 207: 3,\n",
       " 195: 3,\n",
       " 169: 3,\n",
       " 231: 3,\n",
       " 266: 3,\n",
       " 214: 3,\n",
       " 180: 3,\n",
       " 325: 3,\n",
       " 155: 3,\n",
       " 253: 3,\n",
       " 257: 3,\n",
       " 280: 3,\n",
       " 228: 3,\n",
       " 360: 3,\n",
       " 265: 3,\n",
       " 252: 3,\n",
       " 316: 2,\n",
       " 258: 2,\n",
       " 256: 2,\n",
       " 255: 2,\n",
       " 212: 2,\n",
       " 170: 2,\n",
       " 281: 2,\n",
       " 453: 2,\n",
       " 211: 2,\n",
       " 277: 2,\n",
       " 222: 2,\n",
       " 529: 2,\n",
       " 348: 2,\n",
       " 572: 2,\n",
       " 225: 2,\n",
       " 262: 2,\n",
       " 437: 2,\n",
       " 179: 2,\n",
       " 286: 2,\n",
       " 408: 2,\n",
       " 522: 2,\n",
       " 364: 2,\n",
       " 213: 2,\n",
       " 278: 2,\n",
       " 300: 2,\n",
       " 264: 2,\n",
       " 375: 2,\n",
       " 539: 2,\n",
       " 303: 2,\n",
       " 413: 2,\n",
       " 328: 2,\n",
       " 308: 2,\n",
       " 336: 2,\n",
       " 434: 2,\n",
       " 244: 2,\n",
       " 580: 2,\n",
       " 270: 2,\n",
       " 209: 2,\n",
       " 192: 2,\n",
       " 537: 2,\n",
       " 260: 2,\n",
       " 623: 2,\n",
       " 259: 2,\n",
       " 288: 2,\n",
       " 307: 2,\n",
       " 455: 2,\n",
       " 227: 2,\n",
       " 333: 2,\n",
       " 174: 2,\n",
       " 349: 2,\n",
       " 150: 2,\n",
       " 871: 2,\n",
       " 471: 2,\n",
       " 318: 2,\n",
       " 523: 2,\n",
       " 478: 2,\n",
       " 320: 2,\n",
       " 452: 2,\n",
       " 254: 2,\n",
       " 284: 2,\n",
       " 373: 2,\n",
       " 206: 2,\n",
       " 317: 2,\n",
       " 268: 2,\n",
       " 726: 2,\n",
       " 350: 2,\n",
       " 287: 2,\n",
       " 3044: 1,\n",
       " 442: 1,\n",
       " 297: 1,\n",
       " 202: 1,\n",
       " 609: 1,\n",
       " 525: 1,\n",
       " 295: 1,\n",
       " 573: 1,\n",
       " 345: 1,\n",
       " 433: 1,\n",
       " 620: 1,\n",
       " 355: 1,\n",
       " 610: 1,\n",
       " 740: 1,\n",
       " 1200: 1,\n",
       " 676: 1,\n",
       " 1754: 1,\n",
       " 387: 1,\n",
       " 528: 1,\n",
       " 403: 1,\n",
       " 389: 1,\n",
       " 446: 1,\n",
       " 587: 1,\n",
       " 1273: 1,\n",
       " 540: 1,\n",
       " 1026: 1,\n",
       " 817: 1,\n",
       " 1432: 1,\n",
       " 472: 1,\n",
       " 693: 1,\n",
       " 2613: 1,\n",
       " 622: 1,\n",
       " 329: 1,\n",
       " 386: 1,\n",
       " 410: 1,\n",
       " 1592: 1,\n",
       " 603: 1,\n",
       " 388: 1,\n",
       " 507: 1,\n",
       " 722: 1,\n",
       " 326: 1,\n",
       " 520: 1,\n",
       " 876: 1,\n",
       " 208: 1,\n",
       " 761: 1,\n",
       " 450: 1,\n",
       " 594: 1,\n",
       " 313: 1,\n",
       " 663: 1,\n",
       " 597: 1,\n",
       " 370: 1,\n",
       " 449: 1,\n",
       " 298: 1,\n",
       " 306: 1,\n",
       " 599: 1,\n",
       " 341: 1,\n",
       " 589: 1,\n",
       " 624: 1,\n",
       " 367: 1,\n",
       " 932: 1,\n",
       " 293: 1,\n",
       " 500: 1,\n",
       " 719: 1,\n",
       " 340: 1,\n",
       " 510: 1,\n",
       " 273: 1,\n",
       " 473: 1,\n",
       " 294: 1,\n",
       " 346: 1,\n",
       " 381: 1,\n",
       " 815: 1,\n",
       " 418: 1,\n",
       " 309: 1,\n",
       " 562: 1,\n",
       " 484: 1,\n",
       " 1064: 1,\n",
       " 1061: 1,\n",
       " 626: 1,\n",
       " 509: 1,\n",
       " 638: 1,\n",
       " 393: 1,\n",
       " 426: 1,\n",
       " 248: 1,\n",
       " 3603: 1,\n",
       " 402: 1,\n",
       " 312: 1,\n",
       " 327: 1,\n",
       " 639: 1,\n",
       " 564: 1,\n",
       " 551: 1,\n",
       " 1050: 1,\n",
       " 2099: 1,\n",
       " 748: 1,\n",
       " 545: 1,\n",
       " 476: 1,\n",
       " 512: 1,\n",
       " 725: 1,\n",
       " 1423: 1,\n",
       " 1543: 1,\n",
       " 550: 1,\n",
       " 497: 1,\n",
       " 177: 1,\n",
       " 292: 1,\n",
       " 506: 1,\n",
       " 304: 1,\n",
       " 517: 1,\n",
       " 276: 1,\n",
       " 438: 1,\n",
       " 889: 1,\n",
       " 559: 1,\n",
       " 493: 1,\n",
       " 483: 1,\n",
       " 492: 1,\n",
       " 342: 1,\n",
       " 1043: 1,\n",
       " 358: 1,\n",
       " 832: 1,\n",
       " 613: 1,\n",
       " 417: 1,\n",
       " 888: 1,\n",
       " 431: 1,\n",
       " 271: 1,\n",
       " 407: 1,\n",
       " 1187: 1,\n",
       " 920: 1,\n",
       " 1074: 1,\n",
       " 485: 1,\n",
       " 891: 1,\n",
       " 296: 1,\n",
       " 670: 1,\n",
       " 1136: 1,\n",
       " 731: 1,\n",
       " 399: 1,\n",
       " 1523: 1,\n",
       " 553: 1,\n",
       " 2949: 1,\n",
       " 705: 1,\n",
       " 405: 1,\n",
       " 544: 1,\n",
       " 443: 1,\n",
       " 1165: 1,\n",
       " 729: 1,\n",
       " 475: 1,\n",
       " 261: 1,\n",
       " 1999: 1,\n",
       " 2309: 1,\n",
       " 782: 1,\n",
       " 880: 1,\n",
       " 1181: 1,\n",
       " 734: 1,\n",
       " 1338: 1,\n",
       " 793: 1,\n",
       " 3452: 1,\n",
       " 421: 1,\n",
       " 323: 1,\n",
       " 489: 1,\n",
       " 419: 1,\n",
       " 224: 1,\n",
       " 2255: 1,\n",
       " 816: 1,\n",
       " 414: 1,\n",
       " 604: 1,\n",
       " 625: 1,\n",
       " 505: 1,\n",
       " 221: 1,\n",
       " 430: 1,\n",
       " 583: 1,\n",
       " 374: 1,\n",
       " 1729: 1,\n",
       " 743: 1,\n",
       " 682: 1,\n",
       " 363: 1,\n",
       " 391: 1,\n",
       " 574: 1,\n",
       " 546: 1,\n",
       " 2444: 1,\n",
       " 1311: 1,\n",
       " 398: 1,\n",
       " 344: 1,\n",
       " 561: 1,\n",
       " 999: 1,\n",
       " 423: 1,\n",
       " 600: 1,\n",
       " 395: 1,\n",
       " 764: 1,\n",
       " 2564: 1,\n",
       " 246: 1,\n",
       " 251: 1,\n",
       " 282: 1,\n",
       " 396: 1,\n",
       " 846: 1,\n",
       " 305: 1,\n",
       " 338: 1,\n",
       " 611: 1,\n",
       " 526: 1,\n",
       " 361: 1,\n",
       " 534: 1,\n",
       " 1877: 1,\n",
       " 427: 1,\n",
       " 392: 1,\n",
       " 454: 1,\n",
       " 223: 1,\n",
       " 1038: 1,\n",
       " 927: 1,\n",
       " 584: 1,\n",
       " 886: 1}"
      ]
     },
     "execution_count": 295,
     "metadata": {},
     "output_type": "execute_result"
    }
   ],
   "source": [
    "nsc_count_freq = dict(Counter(nsc_count.values()).most_common())\n",
    "nsc_count_freq"
   ]
  },
  {
   "cell_type": "markdown",
   "metadata": {},
   "source": [
    "`nsc_count_freq` keeps track of how many news sources appear in *n* subreddits for all possible *n*."
   ]
  },
  {
   "cell_type": "code",
   "execution_count": 296,
   "metadata": {},
   "outputs": [
    {
     "data": {
      "text/plain": [
       "3603"
      ]
     },
     "execution_count": 296,
     "metadata": {},
     "output_type": "execute_result"
    }
   ],
   "source": [
    "max(nsc_count_freq.keys())"
   ]
  },
  {
   "cell_type": "code",
   "execution_count": 297,
   "metadata": {},
   "outputs": [
    {
     "name": "stdout",
     "output_type": "stream",
     "text": [
      "COVID_CANADA has 3603 news sources mentioned in it.\n",
      "news has 3452 news sources mentioned in it.\n",
      "politics has 3044 news sources mentioned in it.\n",
      "todayilearned has 2949 news sources mentioned in it.\n",
      "Coronavirus has 2613 news sources mentioned in it.\n",
      "worldnews has 2564 news sources mentioned in it.\n",
      "nottheonion has 2444 news sources mentioned in it.\n",
      "prisons has 2309 news sources mentioned in it.\n",
      "NoFilterNews has 2255 news sources mentioned in it.\n",
      "conspiracy has 2099 news sources mentioned in it.\n",
      "wallstreetbets has 1999 news sources mentioned in it.\n",
      "tomorrowsworld has 1877 news sources mentioned in it.\n",
      "autotldr has 1754 news sources mentioned in it.\n",
      "Conservative has 1729 news sources mentioned in it.\n",
      "NoNewNormal has 1592 news sources mentioned in it.\n",
      "CryptoCurrency has 1543 news sources mentioned in it.\n",
      "technology has 1523 news sources mentioned in it.\n",
      "europe has 1432 news sources mentioned in it.\n",
      "electionReformNews has 1423 news sources mentioned in it.\n",
      "HumanTraffickingNews has 1338 news sources mentioned in it.\n",
      "crowdfunders has 1311 news sources mentioned in it.\n",
      "environment has 1273 news sources mentioned in it.\n"
     ]
    }
   ],
   "source": [
    "nsc_ranked = Counter(nsc_count).most_common()\n",
    "\n",
    "for t in nsc_ranked:\n",
    "    sr, co = t\n",
    "    if co > 1200:\n",
    "        print(f\"{sr} has {co} news sources mentioned in it.\")"
   ]
  },
  {
   "cell_type": "code",
   "execution_count": 299,
   "metadata": {},
   "outputs": [
    {
     "data": {
      "text/plain": [
       "True"
      ]
     },
     "execution_count": 299,
     "metadata": {},
     "output_type": "execute_result"
    }
   ],
   "source": [
    "sum(nsc_count_freq.values()) == len(sr_union)"
   ]
  },
  {
   "cell_type": "code",
   "execution_count": 300,
   "metadata": {},
   "outputs": [],
   "source": [
    "import itertools"
   ]
  },
  {
   "cell_type": "code",
   "execution_count": 301,
   "metadata": {},
   "outputs": [],
   "source": [
    "nsc = list(itertools.chain.from_iterable(itertools.repeat(k,v) for k,v in nsc_count_freq.items()))"
   ]
  },
  {
   "cell_type": "code",
   "execution_count": 302,
   "metadata": {
    "scrolled": true
   },
   "outputs": [
    {
     "data": {
      "text/plain": [
       "Text(0.5, 1.0, 'number of subreddits with x news sources')"
      ]
     },
     "execution_count": 302,
     "metadata": {},
     "output_type": "execute_result"
    },
    {
     "data": {
      "image/png": "[encoded data removed]",
      "text/plain": [
       "<Figure size 432x288 with 1 Axes>"
      ]
     },
     "metadata": {},
     "output_type": "display_data"
    }
   ],
   "source": [
    "sns.histplot(nsc, log_scale=True)\n",
    "plt.xlabel(\"number of news source\")\n",
    "plt.ylabel(\"subreddit count\")\n",
    "plt.title(\"number of subreddits with x news sources\")"
   ]
  },
  {
   "cell_type": "code",
   "execution_count": 303,
   "metadata": {},
   "outputs": [
    {
     "data": {
      "text/plain": [
       "6512"
      ]
     },
     "execution_count": 303,
     "metadata": {},
     "output_type": "execute_result"
    }
   ],
   "source": [
    "len([n for n in nsc if n>=20])"
   ]
  },
  {
   "cell_type": "markdown",
   "metadata": {},
   "source": [
    "I want to investigate and choose a subset of subreddits in the set of those that have 20 or more different news sources."
   ]
  },
  {
   "cell_type": "code",
   "execution_count": 304,
   "metadata": {},
   "outputs": [],
   "source": [
    "nsc_ge20 = []\n",
    "for n in nsc_count:\n",
    "    if nsc_count[n] >= 20:\n",
    "        nsc_ge20.append(n)"
   ]
  },
  {
   "cell_type": "code",
   "execution_count": 305,
   "metadata": {},
   "outputs": [
    {
     "data": {
      "text/plain": [
       "6512"
      ]
     },
     "execution_count": 305,
     "metadata": {},
     "output_type": "execute_result"
    }
   ],
   "source": [
    "len(nsc_ge20)"
   ]
  },
  {
   "cell_type": "code",
   "execution_count": 306,
   "metadata": {},
   "outputs": [],
   "source": [
    "import csv"
   ]
  },
  {
   "cell_type": "markdown",
   "metadata": {},
   "source": [
    "```\n",
    "with open(\"nsc_ge20.xlsx\", \"w\", newline='', encoding=\"utf-8\") as c:\n",
    "    cw = csv.writer(c, delimiter=\",\", dialect=\"excel\")\n",
    "    for n in nsc_ge20:\n",
    "        cw.writerow([n,\"https://www.reddit.com/r/{}\".format(n)])\n",
    "```"
   ]
  },
  {
   "cell_type": "code",
   "execution_count": 309,
   "metadata": {},
   "outputs": [
    {
     "ename": "KeyError",
     "evalue": "'learnwelsh'",
     "output_type": "error",
     "traceback": [
      "\u001b[1;31m---------------------------------------------------------------------------\u001b[0m",
      "\u001b[1;31mKeyError\u001b[0m                                  Traceback (most recent call last)",
      "\u001b[1;32m<ipython-input-309-f12cb8c2a572>\u001b[0m in \u001b[0;36m<module>\u001b[1;34m\u001b[0m\n\u001b[1;32m----> 1\u001b[1;33m \u001b[0msubreddit_ns_jan\u001b[0m\u001b[1;33m[\u001b[0m\u001b[1;34m\"learnwelsh\"\u001b[0m\u001b[1;33m]\u001b[0m\u001b[1;33m\u001b[0m\u001b[1;33m\u001b[0m\u001b[0m\n\u001b[0m",
      "\u001b[1;31mKeyError\u001b[0m: 'learnwelsh'"
     ]
    }
   ],
   "source": [
    "subreddit_ns_jan[\"learnwelsh\"]"
   ]
  },
  {
   "cell_type": "markdown",
   "metadata": {},
   "source": [
    "How many subreddits only mentioned 5 news sources or less?"
   ]
  },
  {
   "cell_type": "code",
   "execution_count": 105,
   "metadata": {},
   "outputs": [],
   "source": [
    "def pct_subreddits_mentioning_k_newssources(ks):\n",
    "    sr_mention_i_nsc = [k for k in nsc_count if nsc_count[k] <= ks]\n",
    "    count = len(sr_mention_i_nsc)\n",
    "    print(\"There are {} subreddits mentioning in only {} news sources or less ({}%)\".format(count, ks, count/len(sr_union)))\n",
    "    return count/len(sr_union)"
   ]
  },
  {
   "cell_type": "code",
   "execution_count": 106,
   "metadata": {},
   "outputs": [
    {
     "name": "stdout",
     "output_type": "stream",
     "text": [
      "There are 62683 subreddits mentioning in only 1 news sources or less (0.4761951790204584%)\n"
     ]
    },
    {
     "data": {
      "text/plain": [
       "0.4761951790204584"
      ]
     },
     "execution_count": 106,
     "metadata": {},
     "output_type": "execute_result"
    }
   ],
   "source": [
    "pct_subreddits_mentioning_k_newssources(1)"
   ]
  },
  {
   "cell_type": "code",
   "execution_count": 107,
   "metadata": {
    "scrolled": true
   },
   "outputs": [
    {
     "data": {
      "text/plain": [
       "9.259129549581033"
      ]
     },
     "execution_count": 107,
     "metadata": {},
     "output_type": "execute_result"
    }
   ],
   "source": [
    "# mean\n",
    "statistics.mean(nsc)"
   ]
  },
  {
   "cell_type": "code",
   "execution_count": 108,
   "metadata": {},
   "outputs": [
    {
     "data": {
      "text/plain": [
       "2"
      ]
     },
     "execution_count": 108,
     "metadata": {},
     "output_type": "execute_result"
    }
   ],
   "source": [
    "# median\n",
    "statistics.median(nsc)"
   ]
  },
  {
   "cell_type": "markdown",
   "metadata": {},
   "source": [
    "## For each subreddit let's count total submissions that are news source related"
   ]
  },
  {
   "cell_type": "code",
   "execution_count": 109,
   "metadata": {},
   "outputs": [],
   "source": [
    "def get_submission_count(sb):\n",
    "    \"\"\"get total mention count of ns in all six months\"\"\"\n",
    "    count = 0\n",
    "    files = [subreddit_ns_jan, subreddit_ns_feb, subreddit_ns_march, subreddit_ns_april, subreddit_ns_may, subreddit_ns_jun]\n",
    "    for f in files:\n",
    "        sb_dict = f.get(sb, dict())\n",
    "        if len(sb_dict) > 0:\n",
    "            mentions = sum([m[0] for m in sb_dict.values()])\n",
    "            count += mentions\n",
    "    return count"
   ]
  },
  {
   "cell_type": "code",
   "execution_count": 116,
   "metadata": {},
   "outputs": [],
   "source": [
    "mention_count = dict()\n",
    "for sb in sr_union:\n",
    "    mention_count[sb] = get_submission_count(sb)"
   ]
  },
  {
   "cell_type": "code",
   "execution_count": 118,
   "metadata": {
    "scrolled": true
   },
   "outputs": [
    {
     "data": {
      "text/plain": [
       "207.03436828150996"
      ]
     },
     "execution_count": 118,
     "metadata": {},
     "output_type": "execute_result"
    }
   ],
   "source": [
    "statistics.mean(mention_count.values())"
   ]
  },
  {
   "cell_type": "code",
   "execution_count": 119,
   "metadata": {},
   "outputs": [
    {
     "data": {
      "text/plain": [
       "2433.2490698180313"
      ]
     },
     "execution_count": 119,
     "metadata": {},
     "output_type": "execute_result"
    }
   ],
   "source": [
    "statistics.stdev(mention_count.values())"
   ]
  },
  {
   "cell_type": "code",
   "execution_count": 120,
   "metadata": {},
   "outputs": [
    {
     "data": {
      "text/plain": [
       "8"
      ]
     },
     "execution_count": 120,
     "metadata": {},
     "output_type": "execute_result"
    }
   ],
   "source": [
    "statistics.median(mention_count.values())"
   ]
  },
  {
   "cell_type": "code",
   "execution_count": 121,
   "metadata": {
    "scrolled": true
   },
   "outputs": [
    {
     "data": {
      "text/plain": [
       "131633"
      ]
     },
     "execution_count": 121,
     "metadata": {},
     "output_type": "execute_result"
    }
   ],
   "source": [
    "len(mention_count)"
   ]
  },
  {
   "cell_type": "code",
   "execution_count": 122,
   "metadata": {},
   "outputs": [
    {
     "data": {
      "text/plain": [
       "[('AutoNewspaper', 599451),\n",
       " ('politics', 150066),\n",
       " ('videos', 118790),\n",
       " ('news', 114909),\n",
       " ('newsbotbot', 101600),\n",
       " ('TheTwitterFeed', 101513),\n",
       " ('GlobalOffensiveTrade', 95017),\n",
       " ('TheNewsFeed', 92241),\n",
       " ('worldnews', 91048),\n",
       " ('hardwareswap', 87781),\n",
       " ('ACNH_Twitter_Designs', 87018),\n",
       " ('COVID_CANADA', 84787),\n",
       " ('TrendingQuickTVnews', 83009),\n",
       " ('Music', 78485),\n",
       " ('DiscordNudes', 73582),\n",
       " ('onlyfansgirls101', 72124),\n",
       " ('Cryptopumping', 70693),\n",
       " ('couponsfromchina', 69952),\n",
       " ('wallstreetbets', 69344),\n",
       " ('cryptostreetbets', 68987)]"
      ]
     },
     "execution_count": 122,
     "metadata": {},
     "output_type": "execute_result"
    }
   ],
   "source": [
    "Counter(mention_count).most_common(20)"
   ]
  },
  {
   "cell_type": "code",
   "execution_count": 86,
   "metadata": {},
   "outputs": [
    {
     "data": {
      "text/plain": [
       "{'todayilearned': [17, 14.780000000000001, 2038],\n",
       " 'JoeRogan': [1, 0.76, 3],\n",
       " 'knowyourshit': [3, 2.92, 1],\n",
       " 'collapse': [7, 6.280000000000001, 58],\n",
       " 'marginal': [3, 3.0, 0],\n",
       " 'conspiracy': [11, 8.9, 649],\n",
       " 'politics': [121, 107.37999999999998, 227661],\n",
       " 'CPTSD': [1, 1.0, 1],\n",
       " 'VideoEditing': [1, 0.98, 38],\n",
       " 'wallstreetbets': [15, 13.129999999999999, 115],\n",
       " 'hackernews': [8, 5.92, 8],\n",
       " 'patient_hackernews': [8, 8.0, 8],\n",
       " 'unitedkingdom': [2, 1.82, 19],\n",
       " 'Catholicism': [1, 1.0, 2],\n",
       " 'bprogramming': [1, 1.0, 0],\n",
       " 'books': [6, 5.2, 15],\n",
       " 'hackerdigest': [1, 1.0, 0],\n",
       " 'Snorkblot': [2, 2.0, 2],\n",
       " 'UnresolvedMysteries': [18, 17.439999999999998, 1033],\n",
       " 'TrueUnpopularOpinion': [2, 1.3, 32],\n",
       " 'SPACs': [2, 1.8, 152],\n",
       " 'aznidentity': [1, 0.98, 40],\n",
       " 'badgovnofreedom': [34, 34.0, 1],\n",
       " 'cyberpunkgame': [1, 0.4, 3],\n",
       " 'newjersey': [1, 0.8, 25],\n",
       " 'newfoundland': [28, 25.439999999999994, 406],\n",
       " 'Hamilton': [42, 35.79, 950],\n",
       " 'mildlyinteresting': [1, 1.0, 0],\n",
       " 'Oshawa': [1, 0.9, 5],\n",
       " 'RedditTLDR': [5, 4.67, 1],\n",
       " 'Sino': [1, 0.96, 18],\n",
       " 'SorcerersVsSuffering': [1, 0.5, 0],\n",
       " 'China_irl': [1, 0.96, 69],\n",
       " 'worldanarchism': [2, 2.0, 0],\n",
       " 'Socialism_101': [1, 0.86, 10],\n",
       " 'Economics': [3, 2.06, 94],\n",
       " 'europe': [1, 0.87, 1],\n",
       " 'LazyCheapskate': [4, 3.35, 5],\n",
       " 'NoNewNormal': [18, 15.87, 124],\n",
       " 'AskDocs': [1, 1.0, 3],\n",
       " 'LateStageCapitalism': [5, 3.9399999999999995, 11],\n",
       " 'television': [3, 2.01, 61],\n",
       " 'NewDealAmerica': [1, 0.9, 0],\n",
       " 'MorbidReality': [2, 1.59, 26],\n",
       " 'redscarepod': [1, 1.0, 8],\n",
       " 'conspiracytheories': [1, 1.0, 0],\n",
       " 'SubSimulatorGPT2': [2, 1.75, 79],\n",
       " 'Futurology': [3, 2.9299999999999997, 128],\n",
       " 'worldpowers': [1, 1.0, 4],\n",
       " 'neoliberal': [9, 8.57, 78],\n",
       " 'NoStupidQuestions': [1, 0.77, 2],\n",
       " 'serbia': [2, 1.97, 11],\n",
       " 'eddit3yearsago': [1, 1.0, 1],\n",
       " 'stupidpol': [5, 4.390000000000001, 137],\n",
       " 'ontario': [149, 129.40000000000003, 6603],\n",
       " 'Anarchism': [2, 1.92, 3],\n",
       " 'AskEconomics': [1, 0.97, 32],\n",
       " 'ADHD': [1, 1.0, 81],\n",
       " 'btc': [1, 0.33, 2],\n",
       " 'Damnthatsinteresting': [2, 2.0, 0],\n",
       " 'Fantasy': [3, 2.56, 36],\n",
       " 'urbanplanning': [1, 0.87, 2],\n",
       " 'socialism': [1, 0.97, 144],\n",
       " 'steelers': [1, 1.0, 1],\n",
       " 'news': [100, 92.23000000000002, 6447],\n",
       " 'WayOfTheBern': [6, 5.7, 50],\n",
       " 'privacy': [4, 3.78, 1],\n",
       " 'CoronavirusCanada': [50, 35.099999999999994, 176],\n",
       " 'grammar': [1, 0.67, 2],\n",
       " 'legaladviceofftopic': [1, 0.5, 6],\n",
       " 'GenZedong': [1, 0.98, 3],\n",
       " 'iran': [2, 1.35, 0],\n",
       " 'ToolBand': [4, 3.23, 36],\n",
       " 'NarcoFootage': [1, 0.97, 157],\n",
       " 'worldpolitics': [1, 0.38, 0],\n",
       " 'MandelaEffect': [1, 0.61, 46],\n",
       " 'atheism': [4, 3.52, 46],\n",
       " 'Anarcho_Capitalism': [2, 1.4700000000000002, 7],\n",
       " 'inthemorning': [7, 5.140000000000001, 3],\n",
       " 'interestingasfuck': [3, 1.9, 9],\n",
       " 'islam': [1, 0.86, 20],\n",
       " 'climate': [3, 2.7399999999999998, 2],\n",
       " 'Letterkenny': [1, 0.84, 1],\n",
       " 'TrueAnon': [1, 0.96, 0],\n",
       " 'medicine': [3, 2.87, 269],\n",
       " 'stocks': [1, 0.94, 4404],\n",
       " 'Lovecraft': [1, 0.5, 1],\n",
       " 'LPOTL': [1, 1.0, 0],\n",
       " 'CanadaPublicServants': [6, 5.210000000000001, 107],\n",
       " 'Calgary': [87, 69.50999999999999, 4321],\n",
       " 'horror': [1, 0.62, 0],\n",
       " 'ABoringDystopia': [1, 0.67, 2],\n",
       " 'NovaScotia': [33, 29.269999999999992, 414],\n",
       " 'sports': [3, 2.5, 18],\n",
       " 'tennis': [2, 1.92, 8],\n",
       " 'MatthiasSubmissions': [1, 1.0, 0],\n",
       " 'Destiny': [2, 1.83, 1],\n",
       " 'conservatives': [1, 0.75, 6],\n",
       " 'pregnant': [1, 1.0, 1],\n",
       " 'VaushV': [1, 0.91, 3],\n",
       " 'awfuleverything': [5, 4.84, 0],\n",
       " 'antinatalism': [4, 3.71, 5],\n",
       " 'hockey': [8, 6.24, 69],\n",
       " 'brasilivre': [1, 0.94, 9],\n",
       " 'aviation': [1, 1.0, 0],\n",
       " 'CoronavirusCirclejerk': [1, 0.82, 2],\n",
       " 'space': [4, 2.59, 65],\n",
       " 'cryptogeum': [1, 1.0, 0],\n",
       " 'sustainability': [1, 0.67, 0],\n",
       " 'TZM': [1, 0.78, 5],\n",
       " 'ZeroWaste': [1, 0.56, 2],\n",
       " 'FridaysForFuture': [1, 0.88, 15],\n",
       " 'TrueOffMyChest': [1, 0.6, 0],\n",
       " 'democrats': [4, 3.39, 30],\n",
       " 'science': [3, 1.85, 6],\n",
       " 'Winnipeg': [115, 99.89999999999998, 3724],\n",
       " 'uspolitics': [2, 1.87, 4],\n",
       " 'canada': [532, 420.6200000000006, 26421],\n",
       " 'Music': [1, 0.75, 0],\n",
       " 'UpliftingNews': [17, 15.39, 107],\n",
       " 'byebyejob': [2, 1.99, 7],\n",
       " 'Conservative': [4, 2.9800000000000004, 163],\n",
       " 'worldnews': [153, 130.94, 18318],\n",
       " 'nottheonion': [41, 33.17, 1260],\n",
       " 'ThatsInsane': [1, 1.0, 1],\n",
       " 'Feminism': [3, 2.1500000000000004, 1],\n",
       " 'AntiTrumpAlliance': [3, 2.7800000000000002, 6],\n",
       " 'privacytoolsIO': [1, 0.99, 16],\n",
       " 'pics': [1, 0.72, 3],\n",
       " 'NormMacdonald': [1, 1.0, 0],\n",
       " 'DataHoarder': [1, 0.85, 8],\n",
       " 'childfree': [1, 1.0, 82],\n",
       " 'TargetedEnergyWeapons': [1, 0.92, 1],\n",
       " 'AskALiberal': [3, 2.22, 52],\n",
       " 'YangForPresidentHQ': [1, 0.5, 5],\n",
       " 'CanadianTeachers': [1, 0.83, 1],\n",
       " 'ProtectAndServe': [2, 1.94, 24],\n",
       " 'onguardforthee': [266, 229.17999999999995, 4116],\n",
       " 'NoShitSherlock': [1, 1.0, 0],\n",
       " 'Qult_Headquarters': [1, 0.95, 3],\n",
       " 'The_Mueller': [2, 1.95, 5],\n",
       " 'askTO': [2, 1.36, 40],\n",
       " 'TwoBestFriendsPlay': [1, 0.9, 2],\n",
       " 'PublicFreakout': [1, 1.0, 0],\n",
       " 'alberta': [141, 123.54, 4909],\n",
       " 'CoronavirusDownunder': [21, 17.040000000000003, 573],\n",
       " 'monarchism': [2, 2.0, 7],\n",
       " 'Israel': [1, 1.0, 2],\n",
       " 'Art': [1, 1.0, 1],\n",
       " 'Albertapolitics': [69, 67.01999999999998, 124],\n",
       " 'eddit7yearsago': [3, 2.81, 3],\n",
       " 'inthenews': [2, 1.77, 76],\n",
       " 'bipolar': [1, 0.81, 7],\n",
       " 'ABCDesis': [1, 0.82, 9],\n",
       " 'navy': [1, 0.5, 4],\n",
       " 'vancouver': [95, 71.22999999999999, 3282],\n",
       " 'videos': [3, 1.69, 8],\n",
       " 'NoctilucentNews': [4, 4.0, 0],\n",
       " 'samharris': [1, 1.0, 5],\n",
       " 'CuriousAndFascinating': [1, 1.0, 0],\n",
       " 'SuccessionTV': [1, 1.0, 0],\n",
       " 'JoeBiden': [8, 7.4799999999999995, 43],\n",
       " 'Liberal': [1, 1.0, 0],\n",
       " 'Trumpvirus': [2, 1.81, 9],\n",
       " 'CapitolConsequences': [3, 2.94, 80],\n",
       " 'LockdownSkepticism': [57, 52.92999999999999, 1659],\n",
       " 'Political_Revolution': [1, 0.92, 0],\n",
       " 'ChronicIllness': [3, 2.7800000000000002, 4],\n",
       " 'usanews': [1, 0.91, 2],\n",
       " 'ParlerWatch': [4, 3.71, 8],\n",
       " 'AmericanFascism2020': [2, 1.63, 0],\n",
       " 'cybersecurity': [1, 0.81, 0],\n",
       " 'booklists': [1, 1.0, 0],\n",
       " 'China': [1, 0.75, 1],\n",
       " 'January6': [1, 0.57, 1],\n",
       " 'Seattle': [1, 0.99, 13],\n",
       " 'sciencefiction': [1, 0.73, 2],\n",
       " 'Jazz': [1, 0.29, 0],\n",
       " 'iamatotalpieceofshit': [4, 4.0, 3],\n",
       " 'toronto': [98, 80.80000000000004, 5762],\n",
       " 'MensRights': [1, 0.97, 2],\n",
       " 'eddit8yearsago': [1, 1.0, 1],\n",
       " 'TrueCrimeDiscussion': [1, 0.96, 7],\n",
       " 'neocentrism': [1, 1.0, 3],\n",
       " 'DanLeBatardShow': [1, 1.0, 1],\n",
       " 'medical': [1, 1.0, 0],\n",
       " 'gardening': [1, 1.0, 1],\n",
       " 'covidlonghaulers': [1, 1.0, 7],\n",
       " 'RepublicanTerrorism': [1, 0.85, 1],\n",
       " 'UofT': [2, 1.58, 2],\n",
       " 'climatechange': [1, 0.85, 1],\n",
       " 'fucktheccp': [3, 2.9699999999999998, 1],\n",
       " 'LoveForLandlords': [1, 1.0, 0],\n",
       " 'nuclear': [1, 0.95, 25],\n",
       " 'ToiletPaperUSA': [1, 0.98, 4],\n",
       " 'Parenting': [1, 0.46, 0],\n",
       " 'LeopardsAteMyFace': [1, 0.99, 30],\n",
       " 'electricvehicles': [1, 1.0, 3],\n",
       " 'AirForce': [1, 0.74, 5],\n",
       " 'washingtondc': [1, 0.27, 0],\n",
       " 'metamtl': [1, 1.0, 1],\n",
       " 'Canadians': [6, 5.470000000000001, 17],\n",
       " 'mcgill': [1, 0.97, 25],\n",
       " 'Quebec': [19, 12.28, 364],\n",
       " 'Capitalism': [1, 0.9, 5],\n",
       " 'funny': [1, 0.63, 3],\n",
       " 'EnoughTrumpSpam': [1, 0.9, 0],\n",
       " 'smallbusiness': [1, 0.5, 8],\n",
       " 'biology': [2, 1.72, 0],\n",
       " 'Kossacks_for_Sanders': [1, 1.0, 2],\n",
       " 'Guelph': [2, 1.92, 37],\n",
       " 'ImmigrationCanada': [1, 1.0, 2],\n",
       " 'antiwork': [4, 3.95, 10],\n",
       " 'LockdownCriticalLeft': [15, 13.5, 101],\n",
       " 'MURICA': [1, 1.0, 0],\n",
       " 'UFOs': [1, 0.8, 5],\n",
       " 'AnythingGoesNews': [1, 0.5, 2],\n",
       " 'malaysia': [1, 0.96, 15],\n",
       " 'union': [1, 1.0, 0],\n",
       " 'China_Flu': [1, 0.57, 2],\n",
       " 'KingkillerChronicle': [3, 2.9, 6],\n",
       " 'CannedSardines': [1, 1.0, 1],\n",
       " 'sixdigits': [1, 0.67, 0],\n",
       " 'HydroHomies': [1, 0.81, 1],\n",
       " 'SubSimulatorGPT2Meta': [1, 0.99, 19],\n",
       " 'covidskepticscanada': [18, 17.310000000000002, 17],\n",
       " 'SaltyArmy': [1, 1.0, 0],\n",
       " 'discgolf': [1, 0.92, 2],\n",
       " 'asianamerican': [1, 1.0, 0],\n",
       " 'ChronicPain': [2, 1.93, 16],\n",
       " 'sydney': [1, 1.0, 2],\n",
       " 'Military': [3, 2.24, 10],\n",
       " 'technology': [9, 7.18, 36],\n",
       " 'business': [1, 0.97, 60],\n",
       " 'realtech': [5, 4.14, 6],\n",
       " 'OntarioCanada': [33, 30.349999999999998, 622],\n",
       " 'MtF': [1, 0.87, 1],\n",
       " 'uwaterloo': [5, 4.85, 26],\n",
       " 'instantkarma': [1, 1.0, 1],\n",
       " 'JusticeServed': [1, 1.0, 1],\n",
       " 'BigTech': [2, 1.9, 0],\n",
       " 'environment': [11, 9.959999999999999, 420],\n",
       " 'VoteDEM': [1, 0.89, 1],\n",
       " 'YourWeeklyBJ': [4, 4.0, 0],\n",
       " 'IASIP': [1, 1.0, 0],\n",
       " 'PERU': [1, 1.0, 0],\n",
       " 'Filmmakers': [1, 0.68, 6],\n",
       " 'FuckNestle': [1, 0.98, 0],\n",
       " 'shrooms': [1, 1.0, 0],\n",
       " 'florida': [3, 2.86, 17],\n",
       " 'Antipsychiatry': [2, 1.9100000000000001, 54],\n",
       " 'britishcolumbia': [60, 50.33, 1487],\n",
       " 'pakistan': [1, 1.0, 1],\n",
       " 'COVID19': [2, 1.38, 2],\n",
       " 'Coronavirus': [68, 60.09, 1113],\n",
       " 'Cyberpunk': [1, 0.65, 3],\n",
       " 'StockMarket': [1, 0.82, 5],\n",
       " 'hapas': [1, 0.88, 1],\n",
       " 'FeMRADebates': [2, 1.84, 92],\n",
       " 'TrumpNicknames': [1, 0.92, 1],\n",
       " 'canucks': [1, 0.92, 22],\n",
       " 'COMPLETEANARCHY': [1, 0.78, 2],\n",
       " 'thebulwark': [2, 2.0, 0],\n",
       " 'AntifascistsofReddit': [1, 0.67, 1],\n",
       " 'Wallstreetbetsnew': [1, 0.93, 7],\n",
       " 'GreenPartyOfCanada': [6, 5.0, 3],\n",
       " 'thebachelor': [7, 7.0, 6],\n",
       " 'wallstreetbets2': [1, 1.0, 2],\n",
       " 'Firefighting': [1, 0.83, 4],\n",
       " 'travel': [2, 2.0, 0],\n",
       " 'Cascadia': [2, 1.9, 9],\n",
       " 'offbeat': [7, 5.859999999999999, 58],\n",
       " 'PersonalFinanceCanada': [4, 3.3600000000000003, 168],\n",
       " 'CanadianInvestor': [6, 4.02, 632],\n",
       " 'NativeAmerican': [1, 0.95, 0],\n",
       " 'WallStreetbetsELITE': [3, 3.0, 2],\n",
       " 'Dinosaurs': [1, 0.92, 7],\n",
       " 'Canadapennystocks': [1, 0.88, 26],\n",
       " '2020PoliceBrutality': [3, 2.1799999999999997, 6],\n",
       " 'islam_ahmadiyya': [1, 0.96, 45],\n",
       " 'GooglePixel': [1, 0.84, 21],\n",
       " 'malefashionadvice': [1, 0.93, 33],\n",
       " 'saskatoon': [22, 20.159999999999997, 778],\n",
       " 'TheFightThatMatters': [1, 1.0, 1],\n",
       " 'rugbyunion': [1, 0.88, 0],\n",
       " 'PussyPass': [1, 0.88, 4],\n",
       " 'apple': [1, 0.78, 30],\n",
       " 'autotldr': [54, 49.650000000000006, 0],\n",
       " 'CoronavirusUK': [1, 1.0, 0],\n",
       " 'Equestrian': [1, 1.0, 9],\n",
       " 'survivor': [1, 1.0, 4],\n",
       " 'thelongdark': [1, 1.0, 0],\n",
       " 'canadaguns': [1, 1.0, 2],\n",
       " 'ottawa': [513, 493.95000000000016, 3466],\n",
       " 'starbucks': [1, 0.5, 1],\n",
       " 'Bellingham': [1, 1.0, 23],\n",
       " 'StJohnsNL': [2, 1.8, 1],\n",
       " 'Edmonton': [57, 50.76, 1647],\n",
       " 'abbotsford': [1, 1.0, 10],\n",
       " 'waterloo': [11, 9.57, 206],\n",
       " 'OntarioUniversities': [1, 0.86, 1],\n",
       " 'windsorontario': [9, 7.480000000000001, 114],\n",
       " 'acting': [2, 2.0, 16],\n",
       " 'fredericton': [23, 19.94, 117],\n",
       " 'MadeMeSmile': [5, 4.68, 0],\n",
       " 'NHLHUT': [2, 1.85, 57],\n",
       " 'SaintJohnNB': [19, 16.92, 61],\n",
       " 'moncton': [24, 21.700000000000003, 76],\n",
       " 'TheOCS': [3, 2.08, 31],\n",
       " 'ThunderBay': [10, 8.95, 186],\n",
       " 'hiking': [1, 0.78, 0],\n",
       " 'BabyBumps': [2, 1.66, 122],\n",
       " 'halifax': [96, 78.99999999999997, 2155],\n",
       " 'regina': [16, 13.929999999999998, 668],\n",
       " 'Survival': [1, 0.95, 2],\n",
       " 'doordash': [1, 1.0, 12],\n",
       " 'CanadaPS5': [1, 0.89, 22],\n",
       " 'montreal': [22, 20.619999999999997, 714],\n",
       " 'Questrade': [2, 1.76, 14],\n",
       " 'KingstonOntario': [3, 2.79, 83],\n",
       " 'CanadianMOMs': [1, 0.83, 70],\n",
       " 'polyamory': [2, 1.69, 18],\n",
       " 'skiing': [2, 1.9300000000000002, 7],\n",
       " 'ems': [2, 1.92, 21],\n",
       " 'InteriorDesign': [1, 1.0, 1],\n",
       " 'Wellthatsucks': [1, 1.0, 1],\n",
       " 'AdorableOnlyfans': [1, 1.0, 1],\n",
       " 'Scams': [1, 1.0, 1],\n",
       " 'NonBinary': [1, 1.0, 1],\n",
       " 'BasicIncome': [1, 0.67, 4],\n",
       " 'Costco': [1, 0.96, 58],\n",
       " 'emergencymedicine': [1, 1.0, 7],\n",
       " 'timecrisis': [1, 1.0, 0],\n",
       " 'BanPitBulls': [6, 5.779999999999999, 159],\n",
       " 'farming': [1, 0.95, 0],\n",
       " 'Dogfree': [1, 0.97, 2],\n",
       " 'Android': [1, 0.75, 97],\n",
       " 'bigdickproblems': [1, 1.0, 1],\n",
       " 'fantasyhockey': [2, 2.0, 8],\n",
       " 'Torontology': [4, 2.54, 16],\n",
       " 'uAlberta': [4, 3.06, 76],\n",
       " 'Baystreetbets': [2, 1.63, 3],\n",
       " 'LinusTechTips': [2, 1.5, 0],\n",
       " 'NoFilterNews': [66, 65.5, 0],\n",
       " 'COVID': [3, 2.3200000000000003, 1],\n",
       " 'CanadaPolitics': [279, 238.27999999999992, 8391],\n",
       " 'japan': [4, 3.77, 7],\n",
       " 'SchittsCreek': [2, 2.0, 0],\n",
       " 'police': [2, 2.0, 1],\n",
       " 'manchester': [1, 0.5, 2],\n",
       " 'Startup_Ideas': [1, 1.0, 14],\n",
       " 'Animals': [1, 1.0, 0],\n",
       " 'knitting': [1, 1.0, 0],\n",
       " 'indieheads': [1, 0.94, 10],\n",
       " 'Brampton': [5, 4.37, 44],\n",
       " 'Georgia': [1, 0.9, 1],\n",
       " 'OnTheBlock': [1, 0.72, 5],\n",
       " 'CysticFibrosis': [1, 0.98, 6],\n",
       " 'Rowing': [1, 1.0, 3],\n",
       " 'VictoriaBC': [19, 17.189999999999998, 282],\n",
       " 'Toxic_Femininity': [1, 0.96, 18],\n",
       " 'CallHerDaddy': [1, 0.29, 4],\n",
       " 'AmericanHorrorStory': [1, 0.9, 2],\n",
       " 'canadients': [3, 2.53, 70],\n",
       " 'CovidCanada': [1, 0.83, 0],\n",
       " 'CovIdiots': [3, 2.71, 9],\n",
       " 'Detroit': [1, 0.95, 6],\n",
       " 'McMaster': [1, 0.99, 2],\n",
       " 'vancouverhiking': [2, 1.97, 11],\n",
       " 'NewWest': [8, 7.68, 88],\n",
       " 'simonfraser': [2, 1.85, 0],\n",
       " 'MensLib': [2, 1.97, 204],\n",
       " 'geegees': [2, 0.76, 18],\n",
       " 'aww': [3, 3.0, 3],\n",
       " 'trailerparkboys': [1, 0.67, 1],\n",
       " 'community': [1, 1.0, 0],\n",
       " 'ShitLiberalsSay': [1, 1.0, 1],\n",
       " 'insects': [1, 1.0, 0],\n",
       " 'ChurchOfCOVID': [1, 1.0, 4],\n",
       " 'SocialJusticeInAction': [3, 2.55, 59],\n",
       " 'COVID19_support': [1, 0.62, 0],\n",
       " 'scleroderma': [1, 1.0, 0],\n",
       " 'ThriftStoreHauls': [1, 1.0, 1],\n",
       " 'theworldnews': [15, 11.4, 0],\n",
       " 'daverubin': [1, 0.99, 0],\n",
       " 'facepalm': [1, 0.9, 6],\n",
       " 'TheAbditory': [1, 1.0, 0],\n",
       " 'CitizensClimateLobby': [1, 0.82, 3],\n",
       " 'doggos': [1, 1.0, 0],\n",
       " 'RedDeer': [3, 2.76, 54],\n",
       " 'Lethbridge': [1, 0.67, 1],\n",
       " 'SurreyBC': [6, 5.640000000000001, 32],\n",
       " 'CanadaCoronavirus': [143, 126.14000000000007, 1818],\n",
       " 'XSomalian': [1, 0.91, 5],\n",
       " 'UBC': [7, 5.18, 96],\n",
       " 'GamerGhazi': [1, 0.92, 0],\n",
       " 'londonontario': [41, 34.69, 875],\n",
       " 'sqdc': [1, 0.93, 62],\n",
       " 'mildlyinfuriating': [1, 1.0, 3],\n",
       " 'outerworlds': [1, 0.95, 40],\n",
       " 'uwo': [1, 0.95, 10],\n",
       " 'Mindfulness': [1, 0.86, 0],\n",
       " 'Markham': [1, 0.93, 32],\n",
       " 'PoliticalVideos': [3, 3.0, 0],\n",
       " 'Sudbury': [5, 4.470000000000001, 76],\n",
       " 'TorontoRealEstate': [1, 0.89, 73],\n",
       " 'economy': [1, 0.92, 6],\n",
       " 'japancirclejerk': [2, 0.54, 5],\n",
       " 'YMS': [1, 1.0, 0],\n",
       " 'ndp': [27, 25.63, 89],\n",
       " 'Tokyo': [1, 1.0, 0],\n",
       " 'BernieSanders': [1, 1.0, 1],\n",
       " 'mississauga': [4, 3.8099999999999996, 13],\n",
       " 'Caribbean': [1, 1.0, 0],\n",
       " 'ADKFunPolice': [1, 0.93, 11],\n",
       " 'CFL': [2, 1.97, 8],\n",
       " 'weedstocks': [1, 0.99, 8],\n",
       " 'SneakersCanada': [1, 1.0, 0],\n",
       " 'HelloInternet': [1, 0.97, 8],\n",
       " 'Jeopardy': [3, 2.71, 10],\n",
       " 'PEI': [16, 14.91, 216],\n",
       " 'FoodToronto': [2, 1.63, 5],\n",
       " 'Cowichan': [1, 0.94, 3],\n",
       " 'NWSL': [1, 1.0, 0],\n",
       " 'lansing': [1, 0.86, 8],\n",
       " 'railroading': [1, 0.86, 3],\n",
       " 'TransSpace': [1, 1.0, 1],\n",
       " 'interiordecorating': [1, 1.0, 0],\n",
       " 'Bad_Cop_No_Donut': [10, 9.87, 16],\n",
       " 'LoomKnitting': [1, 1.0, 0],\n",
       " 'montreal4all': [4, 3.3800000000000003, 15],\n",
       " 'kelowna': [2, 1.9100000000000001, 81],\n",
       " 'uvic': [2, 1.37, 8],\n",
       " 'DarkFuturology': [1, 0.97, 35],\n",
       " 'stcatharinesON': [2, 1.3599999999999999, 20],\n",
       " 'Zappa': [1, 1.0, 6],\n",
       " 'ArtHistory': [1, 1.0, 1],\n",
       " 'ShopCanada': [2, 2.0, 4],\n",
       " 'winnipegjets': [2, 1.9, 1007],\n",
       " 'pussypassdenied': [1, 0.96, 23],\n",
       " 'medicinehat': [2, 1.94, 10],\n",
       " 'foreignpolicy': [1, 0.7, 1],\n",
       " 'EdmontonMarijuana': [1, 1.0, 0],\n",
       " 'Journalism': [5, 4.8100000000000005, 0],\n",
       " 'Epstein': [2, 1.89, 5],\n",
       " 'Naturewasmetal': [1, 0.99, 3],\n",
       " 'NatureIsFuckingLit': [1, 1.0, 0],\n",
       " 'ACAB': [1, 0.75, 0],\n",
       " 'SelfAwarewolves': [1, 0.85, 4],\n",
       " 'DemocratsforDiversity': [1, 1.0, 1],\n",
       " 'nhl': [4, 3.23, 30],\n",
       " 'MAGAs': [1, 0.95, 1],\n",
       " 'CanadianPolitics': [1, 0.9, 11],\n",
       " 'restaurant': [1, 1.0, 1],\n",
       " 'Archaeology': [1, 0.75, 0],\n",
       " 'dogecoinbeg': [2, 1.34, 0],\n",
       " 'TranslationStudies': [1, 0.5, 0],\n",
       " 'goodnews': [1, 0.9, 1],\n",
       " 'Missing411': [1, 0.84, 148],\n",
       " 'CanadianForces': [16, 15.610000000000001, 247],\n",
       " 'IntelligenceNews': [4, 3.69, 4],\n",
       " 'EcoNewsNetwork': [3, 3.0, 1],\n",
       " 'Manitoba': [12, 10.469999999999999, 34],\n",
       " 'ScienceUncensored': [1, 0.67, 0],\n",
       " 'ValueInvesting': [2, 2.0, 12],\n",
       " 'durham': [1, 0.9, 4],\n",
       " 'mayahiga': [1, 0.96, 1],\n",
       " 'canadacordcutters': [1, 0.97, 13],\n",
       " 'BiologicalSeas': [1, 0.92, 0],\n",
       " 'saskatchewan': [67, 55.96000000000001, 1348],\n",
       " 'birdpics': [1, 1.0, 0],\n",
       " 'TacoZone': [1, 1.0, 0],\n",
       " 'nCoV': [4, 3.62, 3],\n",
       " 'energy': [1, 0.99, 11],\n",
       " 'mealtimevideos': [1, 0.94, 6],\n",
       " 'Puscifer': [2, 1.96, 12],\n",
       " 'HorriblyDepressing': [1, 1.0, 0],\n",
       " 'LGG8X': [1, 0.92, 11],\n",
       " 'altnewz': [1, 0.91, 1],\n",
       " 'political': [1, 1.0, 0],\n",
       " 'BuyCanadian': [4, 3.8600000000000003, 62],\n",
       " 'Libernadian': [2, 1.76, 15],\n",
       " 'Vaccine': [1, 0.83, 1],\n",
       " 'bakeoff': [2, 1.98, 42],\n",
       " 'Gatineau': [4, 2.77, 70],\n",
       " 'GrandePrairie': [2, 1.87, 12],\n",
       " 'transplant': [1, 0.98, 3],\n",
       " 'Flights': [2, 1.4, 8],\n",
       " 'casualknitting': [2, 1.5499999999999998, 0],\n",
       " 'VACCINES': [1, 0.88, 0],\n",
       " 'IndianCountry': [16, 15.5, 24],\n",
       " 'Peterborough': [1, 0.87, 3],\n",
       " 'agedlikemilk': [2, 1.67, 1],\n",
       " 'FrancaisCanadien': [1, 1.0, 1],\n",
       " 'AntiVaxxers': [2, 2.0, 10],\n",
       " 'canadaleft': [12, 11.280000000000001, 35],\n",
       " 'NewsWithoutNewsMedia': [30, 28.64, 1],\n",
       " 'PacificNorthwest': [1, 1.0, 4],\n",
       " 'BachelorNation': [4, 3.31, 24],\n",
       " 'VancouverIsland': [9, 8.4, 141],\n",
       " 'burnaby': [1, 0.97, 3],\n",
       " 'Inuit': [1, 1.0, 1],\n",
       " 'MarsSociety': [1, 1.0, 0],\n",
       " 'LockdownHypocrites': [5, 4.92, 1],\n",
       " 'QuebecLibre': [1, 0.75, 1],\n",
       " 'Whistler': [2, 1.9, 3],\n",
       " 'gameshow': [1, 1.0, 0],\n",
       " 'forestry': [1, 0.75, 8],\n",
       " 'prisons': [18, 15.69, 0],\n",
       " 'GreenParty': [2, 1.77, 4],\n",
       " 'CanadaSoccer': [4, 3.4399999999999995, 0],\n",
       " 'olympics': [6, 5.62, 89],\n",
       " 'toppostoftheday': [2, 1.96, 4],\n",
       " 'Curling': [1, 0.97, 4],\n",
       " 'Dalhousie': [1, 0.93, 11],\n",
       " 'WomensSoccer': [3, 3.0, 4],\n",
       " 'Green': [1, 0.9, 0],\n",
       " 'NewsOfTheStupid': [2, 1.88, 0],\n",
       " 'AnarchistGenerationZ': [1, 1.0, 0],\n",
       " 'peopleofwalmart': [1, 0.95, 0],\n",
       " '18_20': [1, 1.0, 0],\n",
       " 'Coronavirus_BC': [44, 41.620000000000005, 56],\n",
       " 'imdbvg': [1, 0.8, 21],\n",
       " 'MLS': [1, 0.8, 4],\n",
       " 'orcas': [1, 1.0, 1],\n",
       " 'tvPlus': [1, 0.92, 1],\n",
       " 'brantford': [2, 1.97, 56],\n",
       " 'PoliticalVideo': [4, 3.76, 6],\n",
       " 'CanadianPL': [5, 4.47, 20],\n",
       " 'BehavingBadly': [20, 20.0, 0],\n",
       " 'niagara': [3, 2.61, 32],\n",
       " 'NoRulesCalgary': [5, 3.13, 82],\n",
       " 'newbrunswickcanada': [67, 57.28999999999999, 1062],\n",
       " 'trashy': [2, 1.94, 3],\n",
       " 'Bru_Luccas': [1, 0.33, 7],\n",
       " 'OttawaSports': [1, 1.0, 0],\n",
       " 'Ontariofood': [1, 1.0, 0],\n",
       " 'radicalmentalhealth': [2, 1.68, 4],\n",
       " 'stalbert': [1, 1.0, 0],\n",
       " 'alpinism': [1, 0.92, 2],\n",
       " 'Torontoevents': [1, 0.83, 2],\n",
       " 'Yukon': [5, 4.55, 4],\n",
       " 'domesticgunviolence': [2, 1.25, 0],\n",
       " 'Metric': [3, 2.84, 19],\n",
       " 'WhatWeDointheShadows': [1, 0.96, 10],\n",
       " 'CoronaVirusMontreal': [11, 9.699999999999998, 64],\n",
       " 'fandomnatural': [1, 1.0, 3],\n",
       " 'copaganda': [1, 1.0, 0],\n",
       " 'boogaloos': [1, 0.67, 1],\n",
       " 'KimsConvenience': [7, 6.79, 212],\n",
       " 'AmericaBad': [1, 0.88, 2],\n",
       " 'algonquinpark': [2, 1.92, 46],\n",
       " 'SwordandSorcery': [1, 1.0, 3],\n",
       " 'food': [1, 1.0, 0],\n",
       " 'DeFranco': [1, 1.0, 1],\n",
       " 'Airdrie': [1, 0.91, 8],\n",
       " 'PEIpoliticalgroup': [242, 240.42999999999998, 8],\n",
       " 'Sikhpolitics': [1, 1.0, 1],\n",
       " 'ProtectOurForests': [2, 2.0, 0],\n",
       " 'Hatewhenthathappens': [1, 0.95, 0],\n",
       " 'nunavut': [8, 7.74, 2],\n",
       " 'PoliticalCoverage': [1, 1.0, 8],\n",
       " 'MachineThatMakesMoney': [1, 1.0, 0],\n",
       " 'Maxcactus_TrailGuide': [1, 1.0, 0],\n",
       " 'bestofthefray': [1, 0.84, 7],\n",
       " 'USNEWS': [1, 0.86, 0],\n",
       " 'righttorepair': [1, 0.94, 2],\n",
       " 'princegeorge': [1, 1.0, 2],\n",
       " 'canadaland': [1, 0.83, 0],\n",
       " 'SherwoodPark': [1, 0.78, 2],\n",
       " 'DailyTechNewsShow': [1, 0.89, 2],\n",
       " 'USA_StratCom': [1, 1.0, 1],\n",
       " 'frogpants': [1, 1.0, 0],\n",
       " 'AncientAliens': [1, 0.95, 1],\n",
       " 'Vanier': [1, 1.0, 0],\n",
       " 'FortMcMurray': [1, 0.99, 1],\n",
       " 'womenshockey': [2, 1.75, 3],\n",
       " 'canadanews': [4, 3.82, 31],\n",
       " 'nwhl': [1, 0.95, 0],\n",
       " 'Government_is_lame': [1, 1.0, 0],\n",
       " 'TheNativeDissident': [14, 14.0, 14],\n",
       " 'northernontario': [7, 6.81, 13],\n",
       " 'FirstNationsCanada': [32, 31.259999999999994, 17],\n",
       " 'transgender': [2, 1.99, 5],\n",
       " 'OntarioPolitics': [3, 2.84, 10],\n",
       " 'WorldNewsHeadlines': [1, 1.0, 0],\n",
       " 'crowdfunders': [1, 1.0, 0],\n",
       " 'NWT': [3, 2.75, 3],\n",
       " 'P_C': [20, 19.330000000000002, 18],\n",
       " 'oil': [1, 0.83, 30],\n",
       " 'EverythingScience': [1, 0.96, 3],\n",
       " 'ccg_gcc': [1, 1.0, 1],\n",
       " 'happyandhealthy': [1, 0.97, 1],\n",
       " 'CanadianConservative': [53, 41.62999999999999, 224],\n",
       " 'NewWestEVs': [1, 1.0, 0],\n",
       " 'Trumpet_of_Discord': [1, 1.0, 0],\n",
       " 'nouseforatitle': [1, 1.0, 0],\n",
       " 'pwned': [1, 0.97, 1],\n",
       " 'localdelivery': [3, 3.0, 0],\n",
       " 'solarenergycanada': [2, 1.8599999999999999, 2],\n",
       " 'CITILOP': [1, 1.0, 0],\n",
       " 'MetaAlberta': [6, 4.96, 36],\n",
       " 'POTUSWatch': [1, 0.94, 9],\n",
       " 'Chonkers': [1, 0.81, 3],\n",
       " 'Moronavirus': [1, 0.99, 13],\n",
       " 'RemoveMyPhone': [1, 1.0, 0],\n",
       " 'dominionofcanada': [12, 10.23, 15],\n",
       " 'AmalaNetwork': [1, 0.91, 0],\n",
       " 'methanecrisis': [1, 1.0, 0],\n",
       " 'KrakenRobotics': [1, 0.92, 2],\n",
       " 'Otters': [1, 0.99, 2],\n",
       " 'CanadaToday': [22, 22.0, 0],\n",
       " 'ALEXASMORGANNN': [1, 1.0, 0],\n",
       " 'HumanTrafficking': [8, 7.88, 1],\n",
       " 'AlienFiles': [1, 1.0, 0],\n",
       " 'technews': [1, 0.95, 5],\n",
       " 'UnbiasedCanada': [1, 0.86, 1],\n",
       " 'bad_dgu': [3, 1.75, 0],\n",
       " 'News_Construction': [8, 8.0, 0],\n",
       " 'PopCulturePeen': [1, 0.9, 1],\n",
       " 'WomenInNews': [5, 4.92, 0],\n",
       " 'dumbass': [1, 1.0, 0],\n",
       " 'worldevents': [2, 1.85, 45],\n",
       " 'PupliftingNews': [2, 1.96, 7],\n",
       " 'CCIV': [1, 0.94, 5],\n",
       " 'ThatVeganTeacherisbad': [1, 1.0, 5],\n",
       " 'ottawaplants': [1, 1.0, 1],\n",
       " 'AsOneDoes': [1, 0.96, 0],\n",
       " 'xxfitnessjournal': [1, 1.0, 0],\n",
       " 'xxfitnesscirclejerk': [1, 0.5, 0],\n",
       " 'Astuff': [1, 1.0, 0],\n",
       " 'realmontreal': [2, 2.0, 5],\n",
       " 'anime_titties': [7, 5.01, 33],\n",
       " 'GlobalNews': [2, 1.3900000000000001, 0],\n",
       " 'RuralNewsNetwork': [5, 5.0, 0],\n",
       " 'CoronavirusON': [7, 7.0, 0],\n",
       " 'InternetAccess': [1, 1.0, 0],\n",
       " 'CanadaBusiness': [64, 64.0, 64],\n",
       " 'climatejustice': [1, 0.86, 0],\n",
       " 'BellevilleOntario': [2, 1.2, 10],\n",
       " 'montrealmusic': [1, 1.0, 0],\n",
       " 'edmundston': [1, 0.5, 0],\n",
       " 'TrumpCivilWar': [1, 0.5, 0],\n",
       " 'NLPolitics': [43, 42.370000000000005, 6],\n",
       " 'climatedisalarm': [1, 0.66, 0],\n",
       " 'tofino': [1, 0.95, 0],\n",
       " 'RonaldReagan': [1, 0.81, 0],\n",
       " 'vancouvercanada': [2, 2.0, 0],\n",
       " 'Xinjiang': [1, 0.91, 0],\n",
       " 'Canada_Politics': [40, 37.019999999999996, 10],\n",
       " 'Canadian_News': [13, 12.48, 3],\n",
       " 'Covid19Origin': [1, 1.0, 1],\n",
       " 'GoodNewsNetwork': [1, 1.0, 0],\n",
       " 'COVID_CANADA': [1972, 1959.3200000000004, 23],\n",
       " 'FawningLiberalMedia': [3, 3.0, 1],\n",
       " 'whatsreallygoinon': [1, 0.67, 0],\n",
       " 'WHHR7': [1, 1.0, 0],\n",
       " 'LGBTQnews': [1, 0.91, 0],\n",
       " 'CanadaRugby': [1, 1.0, 0],\n",
       " 'LockdownSkepticismCAN': [6, 5.430000000000001, 4],\n",
       " 'Stockhouse': [2, 1.75, 0],\n",
       " 'TrueCrimeGenre': [2, 2.0, 1],\n",
       " 'geopolitics2': [1, 0.75, 0],\n",
       " 'NovaScotiaPolitics': [27, 25.380000000000003, 12],\n",
       " 'canadaprivacy': [1, 1.0, 0],\n",
       " 'CoronaVirus_2019_nCoV': [2, 1.54, 0],\n",
       " 'ManitobaPolitics': [23, 20.919999999999998, 32],\n",
       " 'NewNormal': [1, 1.0, 0],\n",
       " 'CanadianFilm': [2, 2.0, 0],\n",
       " 'tlingit': [1, 1.0, 0],\n",
       " 'CoVaxSkeptical': [1, 0.81, 0],\n",
       " 'nakd': [1, 0.73, 0],\n",
       " 'SpruceGrove': [1, 0.75, 1],\n",
       " 'BCpolitics': [36, 32.91, 95],\n",
       " 'WallstreetStonkLottry': [2, 2.0, 0],\n",
       " 'News_Retail': [9, 9.0, 0],\n",
       " 'BoomerTears': [1, 0.99, 26],\n",
       " 'StudentSkeptics': [1, 1.0, 0],\n",
       " 'InvestingRetards': [1, 1.0, 0],\n",
       " 'maskfreakouts': [1, 1.0, 0],\n",
       " 'LGBTnews': [2, 1.67, 0],\n",
       " 'HeroesUnited': [1, 1.0, 0],\n",
       " 'AnythingOntario': [447, 439.68000000000035, 6],\n",
       " 'NoDAPL': [1, 1.0, 4],\n",
       " 'civocracy': [7, 7.0, 0],\n",
       " 'pooptimevideos': [1, 1.0, 0],\n",
       " 'News_Walmart': [1, 1.0, 0],\n",
       " 'DamnInteresting': [5, 5.0, 1],\n",
       " 'estevan': [2, 1.81, 1],\n",
       " 'wheresthebeef': [1, 1.0, 0],\n",
       " 'China_War': [1, 1.0, 0],\n",
       " 'UglyHumanity': [1, 0.66, 1],\n",
       " 'HotZone': [2, 2.0, 0],\n",
       " 'POCEntertainment': [2, 2.0, 0],\n",
       " 'neutralnews': [1, 0.84, 2],\n",
       " 'ActualidadMundial': [2, 2.0, 0],\n",
       " 'karmawhoresrus': [1, 1.0, 0],\n",
       " 'BadCopNoTimbit': [5, 4.87, 2],\n",
       " 'HIVandAIDS': [1, 1.0, 0],\n",
       " 'SaskatchewanPolitics': [34, 31.98, 236],\n",
       " 'VancouverNews': [2, 2.0, 0],\n",
       " 'Bathurst': [1, 0.75, 0],\n",
       " 'Elon_musketeers': [1, 1.0, 0],\n",
       " 'NewsfeedForWork': [41, 40.33, 1],\n",
       " 'News_HealthBiotech': [7, 7.0, 2],\n",
       " 'gorecrowsociety': [1, 1.0, 0],\n",
       " 'EvolveSustain': [7, 7.0, 0],\n",
       " 'News_Food': [24, 24.0, 1],\n",
       " 'JustBadNews': [5, 4.5, 5],\n",
       " 'Trump_Idiocy': [2, 1.67, 0],\n",
       " 'News_Entertainment': [1, 1.0, 0],\n",
       " 'vanhousing': [3, 2.39, 1],\n",
       " 'News_Education': [24, 23.67, 0],\n",
       " 'electionReformNews': [2, 2.0, 0],\n",
       " 'News_Transportation': [12, 12.0, 0],\n",
       " 'HumanTraffickingNews': [2, 2.0, 0],\n",
       " 'News_RealEstate': [21, 20.67, 1],\n",
       " 'News_facebook': [1, 1.0, 0],\n",
       " 'News_OilAndEnergy': [18, 16.0, 6],\n",
       " 'politics2021': [1, 0.66, 0],\n",
       " 'Wuhan_Virus': [1, 1.0, 1],\n",
       " 'CoV2Canada': [1, 1.0, 0],\n",
       " 'greenpartybc': [2, 1.7, 0],\n",
       " 'USUnited': [1, 1.0, 1],\n",
       " 'News_Utility': [22, 22.0, 1],\n",
       " 'Positive_News': [2, 1.8900000000000001, 1],\n",
       " 'InMemoriamCOVID': [1, 0.93, 0],\n",
       " 'larryking': [1, 1.0, 0],\n",
       " 'notthebeaverton': [7, 6.91, 41],\n",
       " 'CoronavirusToronto': [1, 1.0, 0],\n",
       " 'CoronavirusOntario': [1, 0.71, 1],\n",
       " 'TrumpLegalTalk': [1, 1.0, 0],\n",
       " 'CoronavirusPandemic': [2, 1.81, 1],\n",
       " 'CoronaVirusWorldNews': [1, 1.0, 0],\n",
       " 'Toadbook': [2, 1.67, 0],\n",
       " 'Quebec_Politics': [4, 3.76, 0],\n",
       " 'ClimateCrisisCanada': [8, 7.42, 1],\n",
       " 'PEIpolitics': [23, 23.0, 2],\n",
       " 'CBC2': [502, 496.41999999999996, 1],\n",
       " 'OntarioNews': [151, 148.34, 10],\n",
       " 'YarnArt': [1, 1.0, 0],\n",
       " 'CanadianMusicNews': [8, 8.0, 0],\n",
       " 'nbpolitics': [25, 23.88, 74],\n",
       " 'YukonPolitics': [8, 6.0, 2],\n",
       " 'NunavutPolitics': [2, 2.0, 0],\n",
       " 'NWTPolitics': [7, 6.82, 3],\n",
       " 'VancouverIslandJobs': [1, 1.0, 1],\n",
       " 'xxfitness_classic': [1, 1.0, 2],\n",
       " 'DeltaBritishColumbia': [2, 1.68, 1],\n",
       " 'CoronavirusChurches': [1, 1.0, 0],\n",
       " 'Alouettes': [1, 1.0, 0],\n",
       " 'MaritimeLaunch': [1, 1.0, 1],\n",
       " 'actualzombie': [2, 2.0, 0],\n",
       " 'CanadianAtheism': [1, 1.0, 3],\n",
       " 'GreenPartyNB': [2, 1.76, 0],\n",
       " 'GrandFalls': [2, 1.46, 0],\n",
       " 'Minto': [1, 0.5, 0],\n",
       " 'hyperbarics': [1, 1.0, 0],\n",
       " 'NOKXL': [1, 1.0, 0],\n",
       " 'somebody_somewhere': [1, 1.0, 0],\n",
       " 'LiberalScandalWatch': [1, 0.82, 0],\n",
       " 'TheMapleCrown': [1, 1.0, 0],\n",
       " 'TorontoCanada': [2, 2.0, 0],\n",
       " 'CrownLandsMusic': [1, 1.0, 0],\n",
       " 'MindBleach': [1, 0.85, 0]}"
      ]
     },
     "execution_count": 86,
     "metadata": {},
     "output_type": "execute_result"
    }
   ],
   "source": [
    "ns_subreddit_01['cbc.ca']"
   ]
  },
  {
   "cell_type": "code",
   "execution_count": 87,
   "metadata": {},
   "outputs": [
    {
     "data": {
      "text/plain": [
       "<AxesSubplot:ylabel='Count'>"
      ]
     },
     "execution_count": 87,
     "metadata": {},
     "output_type": "execute_result"
    },
    {
     "data": {
      "image/png": "[encoded data removed]",
      "text/plain": [
       "<Figure size 432x288 with 1 Axes>"
      ]
     },
     "metadata": {},
     "output_type": "display_data"
    }
   ],
   "source": [
    "sns.histplot(list(mention_count.values()), log_scale=True)"
   ]
  },
  {
   "cell_type": "code",
   "execution_count": 88,
   "metadata": {},
   "outputs": [
    {
     "data": {
      "text/plain": [
       "<AxesSubplot:ylabel='Count'>"
      ]
     },
     "execution_count": 88,
     "metadata": {},
     "output_type": "execute_result"
    },
    {
     "data": {
      "image/png": "[encoded data removed]",
      "text/plain": [
       "<Figure size 432x288 with 1 Axes>"
      ]
     },
     "metadata": {},
     "output_type": "display_data"
    }
   ],
   "source": [
    "sns.histplot(list([k for k in mention_count.values() if k <100000]), log_scale=True)"
   ]
  },
  {
   "cell_type": "code",
   "execution_count": 89,
   "metadata": {},
   "outputs": [
    {
     "data": {
      "text/plain": [
       "35.240721102863205"
      ]
     },
     "execution_count": 89,
     "metadata": {},
     "output_type": "execute_result"
    }
   ],
   "source": [
    "len([k for k in mention_count.values() if k <5])*100/len(mention_count)"
   ]
  },
  {
   "cell_type": "code",
   "execution_count": 90,
   "metadata": {},
   "outputs": [
    {
     "data": {
      "text/plain": [
       "15323.75"
      ]
     },
     "execution_count": 90,
     "metadata": {},
     "output_type": "execute_result"
    }
   ],
   "source": [
    "(1-0.35)*len(mention_count)"
   ]
  },
  {
   "cell_type": "markdown",
   "metadata": {},
   "source": [
    "## upvote based weight vs comment based weight \n",
    "\n",
    "Do they have correlation?"
   ]
  },
  {
   "cell_type": "markdown",
   "metadata": {},
   "source": [
    "Let's look at January's data"
   ]
  },
  {
   "cell_type": "code",
   "execution_count": 79,
   "metadata": {},
   "outputs": [],
   "source": [
    "upvote_based = [ns_subreddit_01[ns][sr][1] for ns in ns_subreddit_01 for sr in ns_subreddit_01[ns]]\n",
    "comment_based = [ns_subreddit_01[ns][sr][2] for ns in ns_subreddit_01 for sr in ns_subreddit_01[ns]]\n",
    "unweighted = [ns_subreddit_01[ns][sr][0] for ns in ns_subreddit_01 for sr in ns_subreddit_01[ns]]"
   ]
  },
  {
   "cell_type": "code",
   "execution_count": 80,
   "metadata": {},
   "outputs": [
    {
     "data": {
      "text/plain": [
       "(-5000.0, 150000.0)"
      ]
     },
     "execution_count": 80,
     "metadata": {},
     "output_type": "execute_result"
    },
    {
     "data": {
      "image/png": "[encoded data removed]",
      "text/plain": [
       "<Figure size 432x288 with 1 Axes>"
      ]
     },
     "metadata": {},
     "output_type": "display_data"
    }
   ],
   "source": [
    "sns.scatterplot(x=comment_based, y=upvote_based, alpha=0.5)\n",
    "plt.xlabel(\"comment_based\")\n",
    "plt.ylabel(\"upvote_based\")\n",
    "plt.xlim([-100000,4000000])\n",
    "plt.ylim([-5000,150000])"
   ]
  },
  {
   "cell_type": "code",
   "execution_count": 81,
   "metadata": {},
   "outputs": [
    {
     "data": {
      "text/plain": [
       "Text(0, 0.5, 'upvote_based')"
      ]
     },
     "execution_count": 81,
     "metadata": {},
     "output_type": "execute_result"
    },
    {
     "data": {
      "image/png": "[encoded data removed]",
      "text/plain": [
       "<Figure size 432x288 with 1 Axes>"
      ]
     },
     "metadata": {},
     "output_type": "display_data"
    }
   ],
   "source": [
    "a = sns.scatterplot(x=np.log(np.array([c+1 for c in comment_based])), y=np.log(np.array([u+1 for u in upvote_based])), alpha=0.2)\n",
    "plt.xlabel(\"comment_based\")\n",
    "plt.ylabel(\"upvote_based\")"
   ]
  },
  {
   "cell_type": "code",
   "execution_count": 82,
   "metadata": {},
   "outputs": [],
   "source": [
    "from scipy.stats import pearsonr"
   ]
  },
  {
   "cell_type": "code",
   "execution_count": 83,
   "metadata": {},
   "outputs": [
    {
     "data": {
      "text/plain": [
       "0.5260915517792649"
      ]
     },
     "execution_count": 83,
     "metadata": {},
     "output_type": "execute_result"
    }
   ],
   "source": [
    "corr, _ = pearsonr(np.log(np.array([c+1 for c in comment_based])), np.log(np.array([u+1 for u in upvote_based])))\n",
    "corr"
   ]
  },
  {
   "cell_type": "code",
   "execution_count": 84,
   "metadata": {},
   "outputs": [
    {
     "data": {
      "text/plain": [
       "0.13681636644353173"
      ]
     },
     "execution_count": 84,
     "metadata": {},
     "output_type": "execute_result"
    }
   ],
   "source": [
    "corr_raw, _ = pearsonr(comment_based, upvote_based)\n",
    "corr_raw"
   ]
  },
  {
   "cell_type": "markdown",
   "metadata": {},
   "source": [
    "## I filter out news sources that are just too general"
   ]
  },
  {
   "cell_type": "code",
   "execution_count": 85,
   "metadata": {},
   "outputs": [
    {
     "data": {
      "text/plain": [
       "23575"
      ]
     },
     "execution_count": 85,
     "metadata": {},
     "output_type": "execute_result"
    }
   ],
   "source": [
    "len(ns_union)"
   ]
  },
  {
   "cell_type": "code",
   "execution_count": 86,
   "metadata": {},
   "outputs": [
    {
     "data": {
      "text/plain": [
       "131"
      ]
     },
     "execution_count": 86,
     "metadata": {},
     "output_type": "execute_result"
    }
   ],
   "source": [
    "len([k for k in ns_union if subreddit_count[k] > 1000])"
   ]
  },
  {
   "cell_type": "code",
   "execution_count": 87,
   "metadata": {},
   "outputs": [
    {
     "data": {
      "text/plain": [
       "11436"
      ]
     },
     "execution_count": 87,
     "metadata": {},
     "output_type": "execute_result"
    }
   ],
   "source": [
    "non_outlier = [k for k in ns_union if subreddit_count[k] <= 1048 and subreddit_count[k] > 5]\n",
    "len(non_outlier)"
   ]
  },
  {
   "cell_type": "code",
   "execution_count": 88,
   "metadata": {},
   "outputs": [
    {
     "data": {
      "text/plain": [
       "3654"
      ]
     },
     "execution_count": 88,
     "metadata": {},
     "output_type": "execute_result"
    }
   ],
   "source": [
    "subreddit_count['washingtonpost.com']"
   ]
  },
  {
   "cell_type": "code",
   "execution_count": 89,
   "metadata": {},
   "outputs": [
    {
     "data": {
      "text/plain": [
       "False"
      ]
     },
     "execution_count": 89,
     "metadata": {},
     "output_type": "execute_result"
    }
   ],
   "source": [
    "'washingtonpost.com' in non_outlier"
   ]
  },
  {
   "cell_type": "code",
   "execution_count": 90,
   "metadata": {},
   "outputs": [
    {
     "data": {
      "text/plain": [
       "['zawya.com',\n",
       " 'standard.net',\n",
       " 'shu.edu',\n",
       " 'abc7amarillo.com',\n",
       " 'ij.org',\n",
       " 'gamepressure.com',\n",
       " 'ledevoir.com',\n",
       " 'pearsonvue.com',\n",
       " 'forum18.org',\n",
       " 'kxnet.com',\n",
       " 'theasset.com',\n",
       " 'gao.gov',\n",
       " 'thenational.scot',\n",
       " 'visaliatimesdelta.com',\n",
       " 'deadstate.org',\n",
       " 'speedwaymedia.com',\n",
       " 'agnetwest.com',\n",
       " 'indialegallive.com',\n",
       " '25yearslatersite.com',\n",
       " 'c4isrnet.com',\n",
       " 'mastercard.com',\n",
       " 'eldiariony.com',\n",
       " 'examiner.net',\n",
       " 'borneobulletin.com.bn',\n",
       " 'square-enix-games.com',\n",
       " 'lemonde.fr',\n",
       " 'medgadget.com',\n",
       " 'marvel.com',\n",
       " 'thechurchnews.com',\n",
       " 'pokernews.com',\n",
       " '14news.com',\n",
       " 'ustream.tv',\n",
       " 'adnkronos.com',\n",
       " 'amacad.org',\n",
       " 'businessam.be',\n",
       " 'breastcancer.org',\n",
       " 'sheboyganpress.com',\n",
       " 'newrepublic.com',\n",
       " 'ourcommunitynow.com',\n",
       " 'caribbeannationalweekly.com',\n",
       " 'forbesindia.com',\n",
       " 'tradersmagazine.com',\n",
       " 'milwaukeemag.com',\n",
       " 'thepoultrysite.com',\n",
       " 'developingtelecoms.com',\n",
       " 'dayton247now.com',\n",
       " 'wtap.com',\n",
       " 'nngroup.com',\n",
       " 'centralmaine.com',\n",
       " 'badtaste.it',\n",
       " 'qrius.com',\n",
       " 'climatecentral.org',\n",
       " 'tec.mx',\n",
       " 'cyclingweekly.com',\n",
       " 'journalnow.com',\n",
       " 'fullfact.org',\n",
       " 'theolympian.com',\n",
       " 'news957.com',\n",
       " 'rtings.com',\n",
       " 'stackpathdns.com',\n",
       " 'publicbooks.org',\n",
       " 'parentherald.com',\n",
       " 'yogajournal.com',\n",
       " 'canadianbiomassmagazine.ca',\n",
       " 'radio.cz',\n",
       " 'baltimoreravens.com',\n",
       " 'alternatives-economiques.fr',\n",
       " 'usta.com',\n",
       " 'summitdaily.com',\n",
       " 'pharmaceutical-journal.com',\n",
       " 'realsimple.com',\n",
       " 'eveningtelegraph.co.uk',\n",
       " 'actionnetwork.com',\n",
       " 'kivitv.com',\n",
       " 'hachettebookgroup.com',\n",
       " 'emorywheel.com',\n",
       " 'publicsource.org',\n",
       " 'totallythebomb.com',\n",
       " 'metronieuws.nl',\n",
       " 'kansasreflector.com',\n",
       " 'nj.com',\n",
       " 'born2invest.com',\n",
       " 'cbs58.com',\n",
       " 'punknews.org',\n",
       " 'ncl.ac.uk',\n",
       " 'mainepublic.org',\n",
       " 'whatsupnewp.com',\n",
       " 'financialmirror.com',\n",
       " 'kiwaradio.com',\n",
       " 'genome.gov',\n",
       " 'colostate.edu',\n",
       " 'deconstructoroffun.com',\n",
       " 'indianapolisrecorder.com',\n",
       " 'comicyears.com',\n",
       " 'investegate.co.uk',\n",
       " 'thesixthaxis.com',\n",
       " 'krtv.com',\n",
       " 'parentingscience.com',\n",
       " 'semana.com',\n",
       " 'sporttechie.com',\n",
       " 'accc.gov.au',\n",
       " 'thepointmag.com',\n",
       " 'thissongissick.com',\n",
       " 'latinus.us',\n",
       " 'moneytalksnews.com',\n",
       " 'mumbailive.com',\n",
       " 'telefe.com',\n",
       " 'medicaldialogues.in',\n",
       " 'jpmorgan.com',\n",
       " 'presstelegram.com',\n",
       " 'therumpus.net',\n",
       " 'mindbodygreen.com',\n",
       " 'vesti.ru',\n",
       " 'ffrf.org',\n",
       " 'wrmea.org',\n",
       " 'attractionsmagazine.com',\n",
       " 'newsbytesapp.com',\n",
       " 'utahutes.com',\n",
       " 'shelbynews.com',\n",
       " 'valuethemarkets.com',\n",
       " 'sookenewsmirror.com',\n",
       " 'thetimes-tribune.com',\n",
       " 'rollingstone.it',\n",
       " 'sevendaysvt.com',\n",
       " 'parismatch.com',\n",
       " 'estevanmercury.ca',\n",
       " 'cornell.edu',\n",
       " 'suasnews.com',\n",
       " 'vocm.com',\n",
       " 'ambito.com',\n",
       " 'fleetworld.co.uk',\n",
       " 'griffith.edu.au',\n",
       " 'advisorperspectives.com',\n",
       " 'espnfrontrow.com',\n",
       " 'starrymag.com',\n",
       " 'dallascowboys.com',\n",
       " 'kxl.com',\n",
       " 'newschainonline.com',\n",
       " 'geelongadvertiser.com.au',\n",
       " 'ajot.com',\n",
       " 'firefox.com',\n",
       " 'blogpreston.co.uk',\n",
       " 'thebody.com',\n",
       " 'pcgamesn.com',\n",
       " 'martechseries.com',\n",
       " 'revelstokereview.com',\n",
       " 'fanfest.com',\n",
       " 'tass.com',\n",
       " 'mediamatters.org',\n",
       " 'swp.de',\n",
       " 'baomoi.com',\n",
       " 'dn.pt',\n",
       " 'codepen.io',\n",
       " 'khaama.com',\n",
       " 'columbusunderground.com',\n",
       " 'idahostatesman.com',\n",
       " 'biologicaldiversity.org',\n",
       " 'cnas.org',\n",
       " 'history.com',\n",
       " 'mediasetplay.mediaset.it',\n",
       " 'texags.com',\n",
       " 'hindustantimes.com',\n",
       " 'carolinapublicpress.org',\n",
       " 'good.is',\n",
       " 'themissouritimes.com',\n",
       " 'migalhas.com.br',\n",
       " 'elkharttruth.com',\n",
       " 'moosejawtoday.com',\n",
       " 'chieftain.com',\n",
       " 'dailysabah.com',\n",
       " 'tagblatt.ch',\n",
       " 'smashwords.com',\n",
       " 'kymkemp.com',\n",
       " 'kkoh.com',\n",
       " 'yoursun.com',\n",
       " 'therooster.com',\n",
       " 'garmin.com',\n",
       " 'wrvo.org',\n",
       " 'ancestry.com',\n",
       " 'yaleclimateconnections.org',\n",
       " 'nutraingredients.com',\n",
       " 'junkee.com',\n",
       " 'inhabitat.com',\n",
       " 'telegraf.rs',\n",
       " 'mobileidworld.com',\n",
       " 'missoulian.com',\n",
       " 'licenseglobal.com',\n",
       " 'liquor.com',\n",
       " 'thestarphoenix.com',\n",
       " 'humanesociety.org',\n",
       " 'memphisflyer.com',\n",
       " 'hu-berlin.de',\n",
       " 'extratv.com',\n",
       " 'bleedingcool.com',\n",
       " 'cfo.com',\n",
       " 'eiu.com',\n",
       " '7news.com.au',\n",
       " 'itv.com',\n",
       " 'asamnews.com',\n",
       " 'zigwheels.com',\n",
       " 'gwinnettdailypost.com',\n",
       " 'farmweekly.com.au',\n",
       " 'citynews1130.com',\n",
       " 'brignews.com',\n",
       " 'cbs42.com',\n",
       " 'rsf.org',\n",
       " 'lse.co.uk',\n",
       " 'wheels.ca',\n",
       " 'conchovalleyhomepage.com',\n",
       " 'workpermit.com',\n",
       " 'fashiongonerogue.com',\n",
       " 'uga.edu',\n",
       " 'nationaltrust.org.uk',\n",
       " 'dailycal.org',\n",
       " 'premierleague.com',\n",
       " 'indiantelevision.com',\n",
       " 'northcentralpa.com',\n",
       " 'instinctmagazine.com',\n",
       " 'eurasiareview.com',\n",
       " 'seattletimes.com',\n",
       " 'thislandpress.com',\n",
       " 'utahpolicy.com',\n",
       " 'livelaw.in',\n",
       " 'disneyplus.com',\n",
       " 'bravotv.com',\n",
       " 'wdef.com',\n",
       " 'jimdo.com',\n",
       " 'bibliocommons.com',\n",
       " 'popwrapped.com',\n",
       " 'techhq.com',\n",
       " 'torontostoreys.com',\n",
       " 'kxan.com',\n",
       " 'thechronicle.com.au',\n",
       " 'cosmosmagazine.com',\n",
       " 'boxofficepro.com',\n",
       " 'wattagnet.com',\n",
       " 'thetrucker.com',\n",
       " 'waste360.com',\n",
       " 'thebluetestament.com',\n",
       " 'dopemagazine.com',\n",
       " 'askamanager.org',\n",
       " 'the-scientist.com',\n",
       " 'voiceofalexandria.com',\n",
       " 'bgr.com',\n",
       " 'bestproducts.com',\n",
       " 'thisweekinworcester.com',\n",
       " 'muckrack.com',\n",
       " 'nepalitimes.com',\n",
       " 'domain.com.au',\n",
       " 'redrocknews.com',\n",
       " 'davidswanson.org',\n",
       " 'completecolorado.com',\n",
       " 'queerty.com',\n",
       " 'ecosia.org',\n",
       " 'fortworthbusiness.com',\n",
       " 'channelfireball.com',\n",
       " 'thesmartlocal.com',\n",
       " 'kstk.org',\n",
       " 'carnegie.ru',\n",
       " 'socceramerica.com',\n",
       " 'onlineathens.com',\n",
       " 'kezi.com',\n",
       " 'kykernel.com',\n",
       " 'foodnavigator-usa.com',\n",
       " 'classical-music.com',\n",
       " 'libertarianism.org',\n",
       " 'index.hr',\n",
       " 'thumbsticks.com',\n",
       " 'financialbuzz.com',\n",
       " 'prageru.com',\n",
       " 'taxfoundation.org',\n",
       " 'jordansdaily.com',\n",
       " 'crn.com.au',\n",
       " 'essentiallysports.com',\n",
       " 'arizona.edu',\n",
       " 'keeps.com',\n",
       " 'phonearena.com',\n",
       " 'dl-online.com',\n",
       " 'redgreenandblue.org',\n",
       " 'filmschoolrejects.com',\n",
       " 'darkreading.com',\n",
       " 'thetempest.co',\n",
       " 'arsenal.com',\n",
       " 'bioenergy-news.com',\n",
       " 'bulatlat.com',\n",
       " 'muslimmatters.org',\n",
       " 'gobankingrates.com',\n",
       " 'thehealthcareblog.com',\n",
       " 'wboy.com',\n",
       " 'army-technology.com',\n",
       " 'beltmag.com',\n",
       " 'newsandstar.co.uk',\n",
       " 'aamc.org',\n",
       " 'premiumtimesng.com',\n",
       " 'stratfor.com',\n",
       " 'swaay.com',\n",
       " 'iflscience.com',\n",
       " 'msha.ke',\n",
       " 'financecolombia.com',\n",
       " 'mlive.com',\n",
       " 'elsoldetijuana.com.mx',\n",
       " 'esportsinsider.com',\n",
       " 'wristwatchreview.com',\n",
       " 'kentuckynewera.com',\n",
       " 'provokemedia.com',\n",
       " 'moderndogmagazine.com',\n",
       " 'fangoria.com',\n",
       " 'necn.com',\n",
       " 'orfonline.org',\n",
       " 'dotesports.com',\n",
       " 'evo.co.uk',\n",
       " 'clark.com',\n",
       " 'tes.com',\n",
       " 'earwolf.com',\n",
       " 'qcnerve.com',\n",
       " 'gimletmedia.com',\n",
       " 'onclive.com',\n",
       " 'hermanmiller.com',\n",
       " 'shorttermrentalz.com',\n",
       " 'vidaextra.com',\n",
       " 'montecookgames.com',\n",
       " 'tubefilter.com',\n",
       " 'bnn.ca',\n",
       " 'kfgo.com',\n",
       " 'smashingmagazine.com',\n",
       " 'pbs.org',\n",
       " 'wordswithoutborders.org',\n",
       " 'pv-magazine.com',\n",
       " 'arklatexhomepage.com',\n",
       " 'journalofaccountancy.com',\n",
       " 'planeandpilotmag.com',\n",
       " 'joblo.com',\n",
       " 'moroccoworldnews.com',\n",
       " 'journal-news.net',\n",
       " 'scholastic.com',\n",
       " 'state.nj.us',\n",
       " 'dailyprincetonian.com',\n",
       " 'montreal.citynews.ca',\n",
       " 'ch-aviation.com',\n",
       " 'lgbtqnation.com',\n",
       " 'judicialwatch.org',\n",
       " 'iowa.gov',\n",
       " 'jpost.com',\n",
       " 'wienerzeitung.at',\n",
       " 'cbs4indy.com',\n",
       " 'theeyeopener.com',\n",
       " 'canadafreepress.com',\n",
       " 'environmentalleader.com',\n",
       " 'meduza.io',\n",
       " 'smmirror.com',\n",
       " 'miningweekly.com',\n",
       " 'massivesci.com',\n",
       " 'actionnewsjax.com',\n",
       " 'prx.org',\n",
       " 'rtp.pt',\n",
       " 'sciencetimes.com',\n",
       " 'uoregon.edu',\n",
       " 'foxsports.com.au',\n",
       " 'the-blockchain.com',\n",
       " 'impacto.mx',\n",
       " 'therolladailynews.com',\n",
       " 'thebump.com',\n",
       " 'beargoggleson.com',\n",
       " 'redlandscommunitynews.com',\n",
       " 'glassdoor.com',\n",
       " 'khan.co.kr',\n",
       " 'allevents.in',\n",
       " 'timescall.com',\n",
       " 'anothermag.com',\n",
       " 'healthyplace.com',\n",
       " 'iowapublicradio.org',\n",
       " 'thelocal.no',\n",
       " 'goal.com',\n",
       " 'a16z.com',\n",
       " 'buymeacoffee.com',\n",
       " 'thinkadvisor.com',\n",
       " 'jetbrains.com',\n",
       " 'clicklancashire.com',\n",
       " 'classicfm.com',\n",
       " 'playground.ru',\n",
       " 'greenentrepreneur.com',\n",
       " 'everythinggp.com',\n",
       " 'bz-berlin.de',\n",
       " 'katc.com',\n",
       " 'interest.co.nz',\n",
       " 'egmnow.com',\n",
       " 'kait8.com',\n",
       " 'dailyvoice.com',\n",
       " 'prabhatkhabar.com',\n",
       " 'jeanmarcmorandini.com',\n",
       " 'long-mcquade.com',\n",
       " 'thecaterer.com',\n",
       " 'droidgamers.com',\n",
       " 'times-series.co.uk',\n",
       " 'citizensclimatelobby.org',\n",
       " 'nintendosoup.com',\n",
       " 'planet.fr',\n",
       " 'sprinklr.com',\n",
       " 'rafu.com',\n",
       " 'ew.com',\n",
       " 'coinnounce.com',\n",
       " 'channel4.com',\n",
       " 'citizen.co.za',\n",
       " 'heterodoxacademy.org',\n",
       " 'nbc12.com',\n",
       " 'spaceweatherarchive.com',\n",
       " 'nd.nl',\n",
       " 'browndailyherald.com',\n",
       " 'thenewcivilrightsmovement.com',\n",
       " 'mtexpress.com',\n",
       " 'radio.gov.pk',\n",
       " 'thecollegefix.com',\n",
       " 'techtimes.com',\n",
       " 'gamemag.ru',\n",
       " 'lonelyplanet.com',\n",
       " 'socialistworker.co.uk',\n",
       " 'truthdig.com',\n",
       " 'kyivpost.com',\n",
       " 'cyclist.co.uk',\n",
       " 'newschannelnebraska.com',\n",
       " 'fcw.com',\n",
       " 'bigblueview.com',\n",
       " 'lee.net',\n",
       " 'sierraclub.org',\n",
       " 'maximumfun.org',\n",
       " 'eu-startups.com',\n",
       " 'anime2you.de',\n",
       " 'wvnews.com',\n",
       " 'fox21news.com',\n",
       " 'waste-management-world.com',\n",
       " 'depauliaonline.com',\n",
       " 'fodors.com',\n",
       " 'kswo.com',\n",
       " 'leeds-live.co.uk',\n",
       " 'myplainview.com',\n",
       " 'hyperallergic.com',\n",
       " 'redditinc.com',\n",
       " 'pro-tools-expert.com',\n",
       " 'thechronicleonline.com',\n",
       " 'caledonianrecord.com',\n",
       " 'ole.com.ar',\n",
       " 'dailycampus.com',\n",
       " 'gizchina.com',\n",
       " 'spinditty.com',\n",
       " 'naftemporiki.gr',\n",
       " 'megelison.com',\n",
       " 'blackfilm.com',\n",
       " 'energymagazine.com.au',\n",
       " 'tbnewswatch.com',\n",
       " 'montreal.ctvnews.ca',\n",
       " 'wikiquote.org',\n",
       " '3dprintingindustry.com',\n",
       " 'fleet.ie',\n",
       " 'androidcentral.com',\n",
       " 'limerickpost.ie',\n",
       " 'ibtimes.co.uk',\n",
       " 'sciencealert.com',\n",
       " 'patient.info',\n",
       " 'lc.nl',\n",
       " 'canalys.com',\n",
       " 'stiften.dk',\n",
       " 'day.kyiv.ua',\n",
       " 'landreport.com',\n",
       " 'lexch.com',\n",
       " 'weny.com',\n",
       " 'supplychaindigital.com',\n",
       " 'carscoops.com',\n",
       " 'tecnoblog.net',\n",
       " 'theweektoday.com',\n",
       " 'hollywoodlife.com',\n",
       " 'doubleclick.net',\n",
       " 'aiaa.org',\n",
       " 'colorado.gov',\n",
       " 'elchapuzasinformatico.com',\n",
       " 'granitegrok.com',\n",
       " 'paypal-corp.com',\n",
       " 'towleroad.com',\n",
       " 'sdpnoticias.com',\n",
       " 'cp24.com',\n",
       " 'fastcasual.com',\n",
       " 'uab.edu',\n",
       " 'musicfeeds.com.au',\n",
       " 'atlantamagazine.com',\n",
       " 'latribune.fr',\n",
       " 'bylinetimes.com',\n",
       " 'kentuckytoday.com',\n",
       " 'kbia.org',\n",
       " 'kw.com',\n",
       " 'montrealgazette.com',\n",
       " 'delmartimes.net',\n",
       " 'thelocal.se',\n",
       " 'athlonsports.com',\n",
       " 'oaoa.com',\n",
       " 'ironmountaindailynews.com',\n",
       " 'nicematin.com',\n",
       " 'eprize.com',\n",
       " 'mypanhandle.com',\n",
       " 'gjsentinel.com',\n",
       " 'adressa.no',\n",
       " 'buzzflash.com',\n",
       " 'rsc.org',\n",
       " 'berkeleyside.org',\n",
       " 'leagueapps.com',\n",
       " 'bankinfosecurity.com',\n",
       " 'sounderatheart.com',\n",
       " 'stpetecatalyst.com',\n",
       " 'capital.de',\n",
       " 'smnewsnet.com',\n",
       " 'ckdr.net',\n",
       " 'americaoutloud.com',\n",
       " 'huskers.com',\n",
       " 'geektime.com',\n",
       " 'niemanreports.org',\n",
       " 'wcfcourier.com',\n",
       " 'storagereview.com',\n",
       " 'mondediplo.com',\n",
       " 'verticalmag.com',\n",
       " 'investors.com',\n",
       " 'ncregister.com',\n",
       " 'today.it',\n",
       " 'metro.co.uk',\n",
       " 'channelfutures.com',\n",
       " 'hudsoncountyview.com',\n",
       " 'slowtwitch.com',\n",
       " 'themoscowtimes.com',\n",
       " 'extra.ie',\n",
       " 'caranddriver.com',\n",
       " 'conjur.com.br',\n",
       " 'androidauthority.com',\n",
       " 'unu.edu',\n",
       " 'cleveland.com',\n",
       " 'ntu.edu.sg',\n",
       " 'news18.com',\n",
       " 'lareviewofbooks.org',\n",
       " 'skyhinews.com',\n",
       " 'toronto.ctvnews.ca',\n",
       " 'swindonadvertiser.co.uk',\n",
       " 'hkcnews.com',\n",
       " 'fox32chicago.com',\n",
       " 'bookandfilmglobe.com',\n",
       " 'aminoapps.com',\n",
       " 'ammonnews.net',\n",
       " 'locusmag.com',\n",
       " 'trefis.com',\n",
       " 'drf.com',\n",
       " 'managedhealthcareexecutive.com',\n",
       " 'whatsnew2day.com',\n",
       " 'noozhawk.com',\n",
       " 'opendemocracy.net',\n",
       " 'hrreporter.com',\n",
       " 'climatenewsnetwork.net',\n",
       " 'bipartisanpolicy.org',\n",
       " 'france24.com',\n",
       " 'albany.edu',\n",
       " 'datasociety.net',\n",
       " 'sozcu.com.tr',\n",
       " 'simcoereformer.ca',\n",
       " 'fatherly.com',\n",
       " 'soundandvision.com',\n",
       " 'afl.com.au',\n",
       " 'baystatebanner.com',\n",
       " 'priceofoil.org',\n",
       " 'eldeber.com.bo',\n",
       " 'dailynorthwestern.com',\n",
       " 'telecompaper.com',\n",
       " 'fitnessvolt.com',\n",
       " 'circleid.com',\n",
       " 'lakeconews.com',\n",
       " 'dailydot.com',\n",
       " 'alaskajournal.com',\n",
       " 'pride.com',\n",
       " 'edn.com',\n",
       " 'thepitchkc.com',\n",
       " 'dnevnik.bg',\n",
       " 'salaamgateway.com',\n",
       " 'dcvelocity.com',\n",
       " 'thecomeback.com',\n",
       " 'thebetterindia.com',\n",
       " 'clevelandclinic.org',\n",
       " 'universitymagazine.ca',\n",
       " 'exercism.io',\n",
       " 'otto.de',\n",
       " 'powelltribune.com',\n",
       " 'grubstreet.com',\n",
       " 'profootballnetwork.com',\n",
       " 'unr.edu',\n",
       " 'sxsw.com',\n",
       " 'tuko.co.ke',\n",
       " 'popularwoodworking.com',\n",
       " 'aaaai.org',\n",
       " 'middle-east-online.com',\n",
       " 'thephiladelphiacitizen.org',\n",
       " 'starobserver.com.au',\n",
       " 'redhat.com',\n",
       " 'activistpost.com',\n",
       " 'total-croatia-news.com',\n",
       " 'hastingstribune.com',\n",
       " 'komonews.com',\n",
       " 'rushlane.com',\n",
       " 'stern.de',\n",
       " 'cultmtl.com',\n",
       " 'lbc.co.uk',\n",
       " 'michaelsavage.com',\n",
       " 'wfae.org',\n",
       " 'forbes.com.mx',\n",
       " 'heraldstandard.com',\n",
       " 'heritagedaily.com',\n",
       " 'myftpupload.com',\n",
       " 'leaderpost.com',\n",
       " 'sainsburys.co.uk',\n",
       " 'wobm.com',\n",
       " 'sc.gov',\n",
       " 'china-journal.org',\n",
       " 'elsoldetoluca.com.mx',\n",
       " 'gamerant.com',\n",
       " 'infodefensa.com',\n",
       " 'jornaldenegocios.pt',\n",
       " 'thestatesman.com',\n",
       " 'samsungmobile.com',\n",
       " 'wideopenspaces.com',\n",
       " 'nbcmontana.com',\n",
       " 'streetwisereports.com',\n",
       " 'htrnews.com',\n",
       " 'fanbyte.com',\n",
       " 'fs.blog',\n",
       " 'hmmagazine.com',\n",
       " 'thehawk.in',\n",
       " 'tribunnews.com',\n",
       " 'exchangerates.org.uk',\n",
       " 'indaily.com.au',\n",
       " 'wornandwound.com',\n",
       " 'seatrade-maritime.com',\n",
       " 'techcentral.co.za',\n",
       " 'moguldom.com',\n",
       " 'qu.edu',\n",
       " 'twocircles.net',\n",
       " 'scifipulse.net',\n",
       " 'abc3340.com',\n",
       " 'mbl.is',\n",
       " 'droid-life.com',\n",
       " 'knpr.org',\n",
       " 'easyreadernews.com',\n",
       " 'sdsu.edu',\n",
       " 'ganjapreneur.com',\n",
       " 'nutritionaloutlook.com',\n",
       " 'gaymingmag.com',\n",
       " 'ecrater.com',\n",
       " 'decider.com',\n",
       " 'gla.ac.uk',\n",
       " 'nsctotal.com.br',\n",
       " 'bartoszmilewski.com',\n",
       " 'myprincegeorgenow.com',\n",
       " 'muskokaregion.com',\n",
       " 'smithsonianmag.com',\n",
       " 'state.md.us',\n",
       " 'redflagdeals.com',\n",
       " 'ama.org',\n",
       " 'theferret.scot',\n",
       " 'wnem.com',\n",
       " 'businessmirror.com.ph',\n",
       " '3m.com',\n",
       " 'theenergyst.com',\n",
       " 'maciverinstitute.com',\n",
       " 'westport-news.com',\n",
       " 'trinity.edu',\n",
       " 'cigionline.org',\n",
       " 'tonyrobbins.com',\n",
       " 'adevarul.ro',\n",
       " '3dnews.ru',\n",
       " 'thecabin.net',\n",
       " 'rejournals.com',\n",
       " 'thedailynewsonline.com',\n",
       " 'entertainment.ie',\n",
       " 'sungazette.com',\n",
       " 'technews.tw',\n",
       " 'cyclingmagazine.ca',\n",
       " 'bioprocessonline.com',\n",
       " 'ultiworld.com',\n",
       " 'dior.com',\n",
       " 'ilsussidiario.net',\n",
       " 'gcs-web.com',\n",
       " 'asiae.co.kr',\n",
       " 'alaskahighwaynews.ca',\n",
       " 'world-grain.com',\n",
       " 'afar.com',\n",
       " 'avma.org',\n",
       " 'myq105.com',\n",
       " 'itmedia.co.jp',\n",
       " 'sunshinecoastdaily.com.au',\n",
       " 'oakridger.com',\n",
       " 'heysocal.com',\n",
       " 'tdn.com',\n",
       " 'dirkdeklein.net',\n",
       " 'awn.com',\n",
       " 'poconorecord.com',\n",
       " 'bham.ac.uk',\n",
       " 'greenleft.org.au',\n",
       " 'intomore.com',\n",
       " '10play.com.au',\n",
       " 'washingtonian.com',\n",
       " 'embedded.com',\n",
       " 'tempo.co',\n",
       " 'laphamsquarterly.org',\n",
       " 'kpcw.org',\n",
       " 'portswigger.net',\n",
       " 'digitalcommerce360.com',\n",
       " 'turnto23.com',\n",
       " 'europa.eu',\n",
       " 'aspi.org.au',\n",
       " 'bloombergtax.com',\n",
       " 'securityinfowatch.com',\n",
       " 'egypttoday.com',\n",
       " 'theicegarden.com',\n",
       " 'newhavenindependent.org',\n",
       " 'lalsace.fr',\n",
       " 'farmprogress.com',\n",
       " 'theouterhaven.net',\n",
       " 'rare.us',\n",
       " 'smh.com.au',\n",
       " 'solarpowerportal.co.uk',\n",
       " 'dhakatribune.com',\n",
       " 'timesrecordnews.com',\n",
       " 'ewtn.com',\n",
       " 'willistonherald.com',\n",
       " 'bookbub.com',\n",
       " 'thirdcoastreview.com',\n",
       " 'darientimes.com',\n",
       " 'japantimes.co.jp',\n",
       " 'badische-zeitung.de',\n",
       " 'mayoclinic.org',\n",
       " 'wcyy.com',\n",
       " 'offshorewind.biz',\n",
       " 'cgdev.org',\n",
       " 'cybernews.com',\n",
       " 'fox40.com',\n",
       " 'cnsnews.com',\n",
       " 'ktsa.com',\n",
       " 'ukf.com',\n",
       " 'stcatharinesstandard.ca',\n",
       " 'rojakdaily.com',\n",
       " 'wizmnews.com',\n",
       " 'wikisource.org',\n",
       " 'ok.co.uk',\n",
       " 'mit.edu',\n",
       " 'agi.it',\n",
       " 'westbridgfordwire.com',\n",
       " 'bms.com',\n",
       " 'gigaom.com',\n",
       " 'executivetraveller.com',\n",
       " 'leeds.ac.uk',\n",
       " 'badlefthook.com',\n",
       " 'americansongwriter.com',\n",
       " 'worldpoliticsreview.com',\n",
       " 'sweetwaternow.com',\n",
       " 'yardbarker.com',\n",
       " 'uk.com',\n",
       " 'storenvy.com',\n",
       " 'rpp.pe',\n",
       " 'reliefweb.int',\n",
       " 'traderjoes.com',\n",
       " 'packtpub.com',\n",
       " 'aerospacetestinginternational.com',\n",
       " 'buffalonews.com',\n",
       " 'axs.com',\n",
       " 'christianpost.com',\n",
       " 'thefinanser.com',\n",
       " 'lematin.ch',\n",
       " 'hse.ie',\n",
       " 'producer.com',\n",
       " 'closerweekly.com',\n",
       " 'ktvh.com',\n",
       " 'flatpanelshd.com',\n",
       " 'esportsbets.com',\n",
       " 'krebsonsecurity.com',\n",
       " 'kpvi.com',\n",
       " 'piquenewsmagazine.com',\n",
       " 'cultofmac.com',\n",
       " 'rudaw.net',\n",
       " 'techradar.com',\n",
       " 'wiltsglosstandard.co.uk',\n",
       " 'musescore.org',\n",
       " 'prohibitionpartners.com',\n",
       " 'house.gov',\n",
       " 'sspnet.org',\n",
       " 'noblogs.org',\n",
       " 'bworldonline.com',\n",
       " 'vpr.org',\n",
       " 'crowrivermedia.com',\n",
       " 'kron4.com',\n",
       " 'newtimesslo.com',\n",
       " 'windowscentral.com',\n",
       " 'heraldandnews.com',\n",
       " 'bookmyshow.com',\n",
       " 'heartfm.ca',\n",
       " 'news.sina.cn',\n",
       " 'guru3d.com',\n",
       " 'infoworld.com',\n",
       " 'taz.de',\n",
       " 'artificialintelligence-news.com',\n",
       " 'proyectopuente.com.mx',\n",
       " 'telekom.com',\n",
       " 'msmagazine.com',\n",
       " 'overland.org.au',\n",
       " 'azonano.com',\n",
       " 'studyfinds.org',\n",
       " 'tolonews.com',\n",
       " 'stuttgarter-nachrichten.de',\n",
       " 'thv11.com',\n",
       " 'canpl.ca',\n",
       " 'kpopstarz.com',\n",
       " 'nikkeibp.co.jp',\n",
       " 'wallofsoundau.com',\n",
       " 'bbcrewind.co.uk',\n",
       " 'getfootballnewsfrance.com',\n",
       " 'i24news.tv',\n",
       " 'politifact.com',\n",
       " 'morningstar.co.uk',\n",
       " 'hellomagazine.com',\n",
       " 'niche-canada.org',\n",
       " 'xataka.com.mx',\n",
       " 'thecoast.ca',\n",
       " 'sustainablebrands.com',\n",
       " 'maritime-executive.com',\n",
       " 'everydayhealth.com',\n",
       " 'kerbalspaceprogram.com',\n",
       " 'cincyjungle.com',\n",
       " 'wisconsinrapidstribune.com',\n",
       " 'mdpi.com',\n",
       " 'thehardtimes.net',\n",
       " 'archdaily.com',\n",
       " 'insead.edu',\n",
       " 'donordrive.com',\n",
       " 'ed.ac.uk',\n",
       " 'aiga.org',\n",
       " 'voguebusiness.com',\n",
       " 'kcur.org',\n",
       " 'istoedinheiro.com.br',\n",
       " 'grocerydive.com',\n",
       " 'kfoxtv.com',\n",
       " 'marxist.ca',\n",
       " 'tripsavvy.com',\n",
       " 'alxnow.com',\n",
       " 'dailyutahchronicle.com',\n",
       " 'punchng.com',\n",
       " 'eurosport.fr',\n",
       " 'ips-dc.org',\n",
       " 'reseller.co.nz',\n",
       " 'nhl.com',\n",
       " 'digitimes.com',\n",
       " 'consultancy.uk',\n",
       " 'bc.edu',\n",
       " 'rnz.de',\n",
       " 'businessexaminer.ca',\n",
       " 'relocate.me',\n",
       " 'theticker.org',\n",
       " 'macmillan.com',\n",
       " 'news10.com',\n",
       " 'filmink.com.au',\n",
       " 'kamloopsthisweek.com',\n",
       " 'realtytoday.com',\n",
       " 'rac.co.uk',\n",
       " 'kdll.org',\n",
       " 'cubuffs.com',\n",
       " 'konbini.com',\n",
       " 'googleblog.com',\n",
       " 'thesaturdaypaper.com.au',\n",
       " 'cogconnected.com',\n",
       " 'ricochet.com',\n",
       " 'cultureofgaming.com',\n",
       " 'countryfile.com',\n",
       " 'daily-sun.com',\n",
       " 'govexec.com',\n",
       " 'utsouthwestern.edu',\n",
       " 'artofmanliness.com',\n",
       " 'passionweiss.com',\n",
       " 'institutionalinvestor.com',\n",
       " 'stockopedia.com',\n",
       " 'ssa.gov',\n",
       " 'yelmonline.com',\n",
       " 'omelete.com.br',\n",
       " 'aperture.org',\n",
       " 'ncsl.org',\n",
       " 'ulifestyle.com.hk',\n",
       " 'hotspawn.com',\n",
       " 'france-amerique.com',\n",
       " 'lajollalight.com',\n",
       " 'justfactsdaily.com',\n",
       " 'wsws.org',\n",
       " 'toyokeizai.net',\n",
       " 'healthprofessionalradio.com.au',\n",
       " 'romesentinel.com',\n",
       " 'theartsdesk.com',\n",
       " 'responsiblestatecraft.org',\n",
       " 'gillettenewsrecord.com',\n",
       " 'scottishlegal.com',\n",
       " 'thevinylfactory.com',\n",
       " 'icrc.org',\n",
       " 'tor.com',\n",
       " 'underdogdynasty.com',\n",
       " 'schroders.com',\n",
       " 'calmatters.org',\n",
       " 'cpac.ca',\n",
       " 'moneymetals.com',\n",
       " 'timeline.com',\n",
       " 'inews.co.uk',\n",
       " 'oilcity.news',\n",
       " 'gmanetwork.com',\n",
       " 'ucalgary.ca',\n",
       " 'nearshoreamericas.com',\n",
       " 'wkfr.com',\n",
       " 'kcrw.com',\n",
       " 'brasildefato.com.br',\n",
       " 'recordonline.com',\n",
       " 'morningstar.ca',\n",
       " 'reviewofreligions.org',\n",
       " 'aei.org',\n",
       " 'domino.com',\n",
       " 'rightwingwatch.org',\n",
       " 'occupydemocrats.com',\n",
       " 'salemnews.net',\n",
       " 'dkoding.in',\n",
       " 'livinglifefearless.co',\n",
       " 'cryptobriefing.com',\n",
       " 'mmafighting.com',\n",
       " 'indiancountrytoday.com',\n",
       " 'gamesplanet.com',\n",
       " 'sfist.com',\n",
       " 'lvz.de',\n",
       " 'missourinet.com',\n",
       " 'extratimetalk.com',\n",
       " 'rbth.com',\n",
       " '985fm.ca',\n",
       " 'publictechnology.net',\n",
       " 'punditarena.com',\n",
       " 'lenconnect.com',\n",
       " 'zeit.de',\n",
       " 'thewalrus.ca',\n",
       " 'marinelink.com',\n",
       " 'choice.com.au',\n",
       " 'lmtribune.com',\n",
       " 'wmht.org',\n",
       " 'avclub.com',\n",
       " 'thehandbook.com',\n",
       " 'ina.fr',\n",
       " 'wtkr.com',\n",
       " 'ilmessaggero.it',\n",
       " 'taste.com.au',\n",
       " 'rbc.ru',\n",
       " 'citizentv.co.ke',\n",
       " 'thermofisher.com',\n",
       " '3dcenter.org',\n",
       " 'businesscloud.co.uk',\n",
       " 'focusrite.com',\n",
       " 'msu.edu',\n",
       " 'inquirer.com',\n",
       " 'pku.edu.cn',\n",
       " 'yandex.ru',\n",
       " 'scienceboard.net',\n",
       " 'comingsoon.net',\n",
       " 'lexpress.fr',\n",
       " 'investigatemidwest.org',\n",
       " 'wtmj.com',\n",
       " 'technadu.com',\n",
       " 'kathimerini.com.cy',\n",
       " 'news-journalonline.com',\n",
       " 'khak.com',\n",
       " 'jingdaily.com',\n",
       " 'womenwriteaboutcomics.com',\n",
       " 'novosti.rs',\n",
       " 'kitces.com',\n",
       " 'vt.edu',\n",
       " 'joplinglobe.com',\n",
       " 'futurism.com',\n",
       " 'relevantmagazine.com',\n",
       " 'digg.com',\n",
       " 'digit.fyi',\n",
       " 'westsiderag.com',\n",
       " 'guardian.co.tt',\n",
       " 'morgenpost.de',\n",
       " 'richmondfed.org',\n",
       " 'parkinsonsnewstoday.com',\n",
       " 'awionline.org',\n",
       " 'gouv.qc.ca',\n",
       " 'kbjr6.com',\n",
       " 'lsuagcenter.com',\n",
       " 'opinionnigeria.com',\n",
       " 'oann.com',\n",
       " 'mehrnews.com',\n",
       " 'gametimect.com',\n",
       " 'messagemedia.co',\n",
       " 'westerninvestor.com',\n",
       " 'advisor.ca',\n",
       " 'opednews.com',\n",
       " 'waow.com',\n",
       " 'scotsman.com',\n",
       " 'euromoney.com',\n",
       " 'biblicalarchaeology.org',\n",
       " 'thenewamerican.com',\n",
       " 'unionleader.com',\n",
       " 'rochester.edu',\n",
       " ...]"
      ]
     },
     "execution_count": 90,
     "metadata": {},
     "output_type": "execute_result"
    }
   ],
   "source": [
    "non_outlier"
   ]
  },
  {
   "cell_type": "markdown",
   "metadata": {},
   "source": [
    "## For now as a case study I will define `non_outlier` to be some news sources from MBFC\n",
    "\n",
    "I will take out this step later"
   ]
  },
  {
   "cell_type": "code",
   "execution_count": 96,
   "metadata": {},
   "outputs": [
    {
     "data": {
      "text/plain": [
       "319"
      ]
     },
     "execution_count": 96,
     "metadata": {},
     "output_type": "execute_result"
    }
   ],
   "source": [
    "mbfc_left_raw = json.load(open(os.path.join(mbfc_path, \"mbfc_left.json\")))\n",
    "len(mbfc_left_raw)"
   ]
  },
  {
   "cell_type": "code",
   "execution_count": 97,
   "metadata": {},
   "outputs": [
    {
     "data": {
      "text/plain": [
       "254"
      ]
     },
     "execution_count": 97,
     "metadata": {},
     "output_type": "execute_result"
    }
   ],
   "source": [
    "mbfc_right_raw = json.load(open(os.path.join(mbfc_path, \"mbfc_right.json\")))\n",
    "len(mbfc_right_raw)"
   ]
  },
  {
   "cell_type": "code",
   "execution_count": 100,
   "metadata": {},
   "outputs": [],
   "source": [
    "mbfc_left = [m[1] for m in mbfc_left_raw if m[1]]\n",
    "mbfc_right = [m[1] for m in mbfc_right_raw if m[1]]"
   ]
  },
  {
   "cell_type": "markdown",
   "metadata": {},
   "source": [
    "Cleaning the URLs for both `mbfc_left` and `mbfc_right`."
   ]
  },
  {
   "cell_type": "code",
   "execution_count": 138,
   "metadata": {},
   "outputs": [
    {
     "data": {
      "text/plain": [
       "292"
      ]
     },
     "execution_count": 138,
     "metadata": {},
     "output_type": "execute_result"
    }
   ],
   "source": [
    "# for mbfc_left\n",
    "mbfc_left_clean = set()\n",
    "for ns in mbfc_left:\n",
    "    extracted = tldextract.extract(ns)\n",
    "    subdomain, domain, suffix = extracted\n",
    "    # add both versions of domain.suffix and subdomain.domain.suffix\n",
    "    full = \"\"\n",
    "    # with subdomain\n",
    "    if len(subdomain) > 0:\n",
    "        #print(f\"{subdomain}.{domain}.{suffix}\")\n",
    "        full = f\"{subdomain}.{domain}.{suffix}\"\n",
    "        if len(full) > 0:\n",
    "            mbfc_left_clean.add(full.replace(\"www.\",\"\").strip('/'))\n",
    "    # without subdomain\n",
    "    full = f\"{domain}.{suffix}\"\n",
    "    if len(full) > 0:\n",
    "        mbfc_left_clean.add(full.replace(\"www.\",\"\").strip('/'))\n",
    "len(mbfc_left_clean)"
   ]
  },
  {
   "cell_type": "code",
   "execution_count": 139,
   "metadata": {},
   "outputs": [
    {
     "data": {
      "text/plain": [
       "232"
      ]
     },
     "execution_count": 139,
     "metadata": {},
     "output_type": "execute_result"
    }
   ],
   "source": [
    "# for mbfc_right\n",
    "mbfc_right_clean = set()\n",
    "for ns in mbfc_right:\n",
    "    extracted = tldextract.extract(ns)\n",
    "    subdomain, domain, suffix = extracted\n",
    "    # add both versions of domain.suffix and subdomain.domain.suffix\n",
    "    full = \"\"\n",
    "    # with subdomain\n",
    "    if len(subdomain) > 0:\n",
    "        #print(f\"{subdomain}.{domain}.{suffix}\")\n",
    "        full = f\"{subdomain}.{domain}.{suffix}\"\n",
    "        if len(full) > 0:\n",
    "            mbfc_right_clean.add(full.replace(\"www.\",\"\").strip('/'))\n",
    "    # without subdomain\n",
    "    full = f\"{domain}.{suffix}\"\n",
    "    if len(full) > 0:\n",
    "        mbfc_right_clean.add(full.replace(\"www.\",\"\").strip('/'))\n",
    "len(mbfc_right_clean)"
   ]
  },
  {
   "cell_type": "code",
   "execution_count": 140,
   "metadata": {},
   "outputs": [
    {
     "data": {
      "text/plain": [
       "266"
      ]
     },
     "execution_count": 140,
     "metadata": {},
     "output_type": "execute_result"
    }
   ],
   "source": [
    "non_outlier = (mbfc_left_clean | mbfc_right_clean) & set(ns_union)\n",
    "len(non_outlier)"
   ]
  },
  {
   "cell_type": "markdown",
   "metadata": {},
   "source": [
    "## Cluster Try Out"
   ]
  },
  {
   "cell_type": "markdown",
   "metadata": {},
   "source": [
    "First, I make a list of subreddits with fixed order, where I only include subreddits where our non_outlier news sources are mentioned in."
   ]
  },
  {
   "cell_type": "code",
   "execution_count": 141,
   "metadata": {},
   "outputs": [
    {
     "data": {
      "text/plain": [
       "266"
      ]
     },
     "execution_count": 141,
     "metadata": {},
     "output_type": "execute_result"
    }
   ],
   "source": [
    "len(non_outlier)"
   ]
  },
  {
   "cell_type": "code",
   "execution_count": 142,
   "metadata": {
    "scrolled": true
   },
   "outputs": [
    {
     "name": "stdout",
     "output_type": "stream",
     "text": [
      "done 100\n",
      "done 200\n"
     ]
    },
    {
     "data": {
      "text/plain": [
       "11128"
      ]
     },
     "execution_count": 142,
     "metadata": {},
     "output_type": "execute_result"
    }
   ],
   "source": [
    "# subreddits = subs\n",
    "subreddits = set()\n",
    "nsr_files = [ns_subreddit_01, ns_subreddit_02, ns_subreddit_03, ns_subreddit_04, ns_subreddit_05, ns_subreddit_06]\n",
    "# first, I filter for only the subreddits in which our news sources are mentioned\n",
    "c = 0\n",
    "for n in non_outlier:\n",
    "    subreddits = (subreddits | set(ns_subreddit_01.get(n, dict()).keys()) \n",
    "                               | set(ns_subreddit_02.get(n, dict()).keys()) \n",
    "                               | set(ns_subreddit_03.get(n, dict()).keys()) \n",
    "                               | set(ns_subreddit_04.get(n, dict()).keys())\n",
    "                               | set(ns_subreddit_05.get(n, dict()).keys()) \n",
    "                               | set(ns_subreddit_06.get(n, dict()).keys()))\n",
    "    c += 1\n",
    "    if c%100==0: print(f\"done {c}\")\n",
    "subreddits = list(subreddits)\n",
    "len(subreddits)"
   ]
  },
  {
   "cell_type": "markdown",
   "metadata": {},
   "source": [
    "There are 9195 subreddits."
   ]
  },
  {
   "cell_type": "code",
   "execution_count": 143,
   "metadata": {},
   "outputs": [
    {
     "data": {
      "text/plain": [
       "['BillGatesBeingAwesome',\n",
       " 'Nationals',\n",
       " 'GenX',\n",
       " 'Testosterone',\n",
       " 'BeeGees',\n",
       " 'NewYorkForSanders',\n",
       " 'FreeKarma4U',\n",
       " 'mazzystar',\n",
       " 'turtleswithjobs',\n",
       " 'vim']"
      ]
     },
     "execution_count": 143,
     "metadata": {},
     "output_type": "execute_result"
    }
   ],
   "source": [
    "subreddits[-10:]"
   ]
  },
  {
   "cell_type": "markdown",
   "metadata": {},
   "source": [
    "If I should order them later, I can do so."
   ]
  },
  {
   "cell_type": "markdown",
   "metadata": {},
   "source": [
    "## Incorporating subscribers information"
   ]
  },
  {
   "cell_type": "code",
   "execution_count": 144,
   "metadata": {},
   "outputs": [],
   "source": [
    "pd1 = os.path.split(os.getcwd())[0]\n",
    "data_fp = os.path.join(pd1,\"data/gm-newssources-subreddits\")\n",
    "dfp = os.path.join(pd1,\"data\")"
   ]
  },
  {
   "cell_type": "code",
   "execution_count": 145,
   "metadata": {},
   "outputs": [],
   "source": [
    "sfp = os.path.join(pd1,\"data/subreddits\")"
   ]
  },
  {
   "cell_type": "code",
   "execution_count": 146,
   "metadata": {},
   "outputs": [],
   "source": [
    "# Let's only use the subreddits that have lots of subscribers\n",
    "with open (os.path.join(sfp,\"subreddit_subscribers.json\"), \"r\", encoding = \"utf-8\") as infile:\n",
    "    subreddit_subscribers = json.load(infile)"
   ]
  },
  {
   "cell_type": "code",
   "execution_count": 147,
   "metadata": {},
   "outputs": [
    {
     "data": {
      "text/plain": [
       "6201779"
      ]
     },
     "execution_count": 147,
     "metadata": {},
     "output_type": "execute_result"
    }
   ],
   "source": [
    "subreddit_subscribers['politics']"
   ]
  },
  {
   "cell_type": "code",
   "execution_count": 148,
   "metadata": {},
   "outputs": [
    {
     "data": {
      "text/plain": [
       "49055"
      ]
     },
     "execution_count": 148,
     "metadata": {},
     "output_type": "execute_result"
    }
   ],
   "source": [
    "len(subreddit_subscribers)"
   ]
  },
  {
   "cell_type": "code",
   "execution_count": 149,
   "metadata": {},
   "outputs": [
    {
     "data": {
      "text/plain": [
       "11128"
      ]
     },
     "execution_count": 149,
     "metadata": {},
     "output_type": "execute_result"
    }
   ],
   "source": [
    "len(subreddits)"
   ]
  },
  {
   "cell_type": "code",
   "execution_count": 150,
   "metadata": {
    "scrolled": true
   },
   "outputs": [
    {
     "data": {
      "text/plain": [
       "8455"
      ]
     },
     "execution_count": 150,
     "metadata": {},
     "output_type": "execute_result"
    }
   ],
   "source": [
    "subreddits_w_subc = [k for k in subreddits if k in subreddit_subscribers]\n",
    "len(subreddits_w_subc)"
   ]
  },
  {
   "cell_type": "markdown",
   "metadata": {},
   "source": [
    "It seems that there are `None` values, so let's filter those subreddits out."
   ]
  },
  {
   "cell_type": "code",
   "execution_count": 151,
   "metadata": {},
   "outputs": [
    {
     "name": "stdout",
     "output_type": "stream",
     "text": [
      "['LoveForLandlords', 'DystopianFuture', 'RedditMobTest', 'JKRowling']\n"
     ]
    }
   ],
   "source": [
    "print([s for s in subreddits_w_subc if subreddit_subscribers[s] is None])"
   ]
  },
  {
   "cell_type": "code",
   "execution_count": 152,
   "metadata": {},
   "outputs": [],
   "source": [
    "subreddits_w_subc = [s for s in subreddits_w_subc if subreddit_subscribers[s] is not None]"
   ]
  },
  {
   "cell_type": "code",
   "execution_count": 153,
   "metadata": {},
   "outputs": [
    {
     "data": {
      "text/plain": [
       "8451"
      ]
     },
     "execution_count": 153,
     "metadata": {},
     "output_type": "execute_result"
    }
   ],
   "source": [
    "len(subreddits_w_subc)"
   ]
  },
  {
   "cell_type": "markdown",
   "metadata": {},
   "source": [
    "Now, I will sort the 8,294 subreddits based on the # of their subscribers in a descending order."
   ]
  },
  {
   "cell_type": "code",
   "execution_count": 154,
   "metadata": {},
   "outputs": [],
   "source": [
    "srs_all = sorted(subreddits_w_subc, key= lambda x: subreddit_subscribers[x], reverse= True)"
   ]
  },
  {
   "cell_type": "code",
   "execution_count": 155,
   "metadata": {
    "scrolled": false
   },
   "outputs": [
    {
     "data": {
      "text/plain": [
       "Text(0.5, 1.0, 'Subreddits Subscribers')"
      ]
     },
     "execution_count": 155,
     "metadata": {},
     "output_type": "execute_result"
    },
    {
     "data": {
      "image/png": "[encoded data removed]",
      "text/plain": [
       "<Figure size 432x288 with 1 Axes>"
      ]
     },
     "metadata": {},
     "output_type": "display_data"
    }
   ],
   "source": [
    "# plt.hist([math.log(subreddit_subscribers[s],10) for s in srs_all if subreddit_subscribers[s] > 0])\n",
    "sns.histplot([subreddit_subscribers[s] for s in srs_all if subreddit_subscribers[s]>0], log_scale=True)\n",
    "# plt.hist([subreddit_subscribers[s] for s in srs_all if subreddit_subscribers[s] > 0])\n",
    "# plt.yscale(\"log\")\n",
    "# plt.xscale(\"log\")\n",
    "plt.ylabel(\"number of subreddits\")\n",
    "plt.xlabel(\"number of subscribers (10^)\")\n",
    "plt.title(\"Subreddits Subscribers\")\n",
    "# log scale for both x and y"
   ]
  },
  {
   "cell_type": "markdown",
   "metadata": {},
   "source": [
    "Which subreddits are the top three?"
   ]
  },
  {
   "cell_type": "code",
   "execution_count": 156,
   "metadata": {},
   "outputs": [
    {
     "name": "stdout",
     "output_type": "stream",
     "text": [
      "[('funny', 31060166), ('gaming', 26628444), ('aww', 25197817)]\n"
     ]
    }
   ],
   "source": [
    "print([(s,subreddit_subscribers[s]) for s in srs_all if subreddit_subscribers[s]>25000000])"
   ]
  },
  {
   "cell_type": "code",
   "execution_count": 157,
   "metadata": {
    "scrolled": true
   },
   "outputs": [
    {
     "data": {
      "text/plain": [
       "['__doc__',\n",
       " '__loader__',\n",
       " '__name__',\n",
       " '__package__',\n",
       " '__spec__',\n",
       " 'acos',\n",
       " 'acosh',\n",
       " 'asin',\n",
       " 'asinh',\n",
       " 'atan',\n",
       " 'atan2',\n",
       " 'atanh',\n",
       " 'ceil',\n",
       " 'comb',\n",
       " 'copysign',\n",
       " 'cos',\n",
       " 'cosh',\n",
       " 'degrees',\n",
       " 'dist',\n",
       " 'e',\n",
       " 'erf',\n",
       " 'erfc',\n",
       " 'exp',\n",
       " 'expm1',\n",
       " 'fabs',\n",
       " 'factorial',\n",
       " 'floor',\n",
       " 'fmod',\n",
       " 'frexp',\n",
       " 'fsum',\n",
       " 'gamma',\n",
       " 'gcd',\n",
       " 'hypot',\n",
       " 'inf',\n",
       " 'isclose',\n",
       " 'isfinite',\n",
       " 'isinf',\n",
       " 'isnan',\n",
       " 'isqrt',\n",
       " 'ldexp',\n",
       " 'lgamma',\n",
       " 'log',\n",
       " 'log10',\n",
       " 'log1p',\n",
       " 'log2',\n",
       " 'modf',\n",
       " 'nan',\n",
       " 'perm',\n",
       " 'pi',\n",
       " 'pow',\n",
       " 'prod',\n",
       " 'radians',\n",
       " 'remainder',\n",
       " 'sin',\n",
       " 'sinh',\n",
       " 'sqrt',\n",
       " 'tan',\n",
       " 'tanh',\n",
       " 'tau',\n",
       " 'trunc']"
      ]
     },
     "execution_count": 157,
     "metadata": {},
     "output_type": "execute_result"
    }
   ],
   "source": [
    "dir(math)"
   ]
  },
  {
   "cell_type": "code",
   "execution_count": 158,
   "metadata": {},
   "outputs": [
    {
     "data": {
      "text/plain": [
       "25"
      ]
     },
     "execution_count": 158,
     "metadata": {},
     "output_type": "execute_result"
    }
   ],
   "source": [
    "list(subreddit_subscribers.values()).count(None)"
   ]
  },
  {
   "cell_type": "code",
   "execution_count": 159,
   "metadata": {},
   "outputs": [
    {
     "data": {
      "text/plain": [
       "1420.0"
      ]
     },
     "execution_count": 159,
     "metadata": {},
     "output_type": "execute_result"
    }
   ],
   "source": [
    "statistics.median([k for k in list(subreddit_subscribers.values()) if k is not None])"
   ]
  },
  {
   "cell_type": "code",
   "execution_count": 160,
   "metadata": {},
   "outputs": [
    {
     "data": {
      "text/plain": [
       "50070.832184376915"
      ]
     },
     "execution_count": 160,
     "metadata": {},
     "output_type": "execute_result"
    }
   ],
   "source": [
    "statistics.mean([k for k in list(subreddit_subscribers.values()) if k is not None])"
   ]
  },
  {
   "cell_type": "markdown",
   "metadata": {},
   "source": [
    "## Building `ns_repr`\n",
    "\n",
    "Which will be in the form of feature-based matrix, where each row represents a news source, and columns representing subreddits. Each subreddit will be represented by 18 columns: unweighted count, upvote based weighted count, and comment based weighted count for each of the six months that we are interested in."
   ]
  },
  {
   "cell_type": "code",
   "execution_count": 161,
   "metadata": {},
   "outputs": [],
   "source": [
    "srs = srs_all"
   ]
  },
  {
   "cell_type": "code",
   "execution_count": 162,
   "metadata": {},
   "outputs": [
    {
     "data": {
      "text/plain": [
       "{'a': 1, 'b': 1, 'c': 2}"
      ]
     },
     "execution_count": 162,
     "metadata": {},
     "output_type": "execute_result"
    }
   ],
   "source": [
    "a = {\"a\": 1, \"b\": 2}\n",
    "b = {\"b\": 1, \"c\": 2}\n",
    "res = {**a, **b}\n",
    "res"
   ]
  },
  {
   "cell_type": "markdown",
   "metadata": {},
   "source": [
    "For each news source, I create a list of length `(3 * # subreddits)`."
   ]
  },
  {
   "cell_type": "markdown",
   "metadata": {},
   "source": [
    "Old code\n",
    "```\n",
    "# here I will cast the inner dictionaries of ns_subreddits to be Counter so I can avoid a lot of if-else statements\n",
    "files = [ns_subreddit_01, ns_subreddit_02, ns_subreddit_03, ns_subreddit_04, ns_subreddit_05, ns_subreddit_06]\n",
    "for f in files:\n",
    "    for k in f: # k is each news source\n",
    "        for ns in f[k]:\n",
    "            # averaging based on weighted counts\n",
    "            count, upv, comm = f[k][ns]\n",
    "            avg = (upv + comm)/count\n",
    "            f[k][ns] = avg\n",
    "        f[k] = Counter(f[k])\n",
    "```"
   ]
  },
  {
   "cell_type": "code",
   "execution_count": 163,
   "metadata": {},
   "outputs": [],
   "source": [
    "files_sub = [ns_subreddit_01, ns_subreddit_02, ns_subreddit_03, ns_subreddit_04, ns_subreddit_05, ns_subreddit_06]"
   ]
  },
  {
   "cell_type": "code",
   "execution_count": 164,
   "metadata": {},
   "outputs": [
    {
     "data": {
      "text/plain": [
       "266"
      ]
     },
     "execution_count": 164,
     "metadata": {},
     "output_type": "execute_result"
    }
   ],
   "source": [
    "len(non_outlier)"
   ]
  },
  {
   "cell_type": "code",
   "execution_count": 165,
   "metadata": {},
   "outputs": [
    {
     "data": {
      "text/plain": [
       "8451"
      ]
     },
     "execution_count": 165,
     "metadata": {},
     "output_type": "execute_result"
    }
   ],
   "source": [
    "len(srs)"
   ]
  },
  {
   "cell_type": "markdown",
   "metadata": {},
   "source": [
    "I tried and found out that using all 23.7k subreddits results in MemoryError. So I should use less"
   ]
  },
  {
   "cell_type": "code",
   "execution_count": 206,
   "metadata": {},
   "outputs": [],
   "source": [
    "srs = srs_all[:5000]"
   ]
  },
  {
   "cell_type": "code",
   "execution_count": 234,
   "metadata": {
    "scrolled": true
   },
   "outputs": [
    {
     "name": "stdout",
     "output_type": "stream",
     "text": [
      "200\n"
     ]
    }
   ],
   "source": [
    "ns_sr_rep = defaultdict(list)\n",
    "default_counter = Counter() # to avoid a lot of if else statements\n",
    "\n",
    "ncount = 0\n",
    "\n",
    "# for ns in nss:\n",
    "for ns in non_outlier:\n",
    "    # for each news sources, construct the 18*length(subreddits) features\n",
    "    for f in files_sub:\n",
    "        for idx in range(len(srs)):\n",
    "            # making sure the ordering follows `srs` based on subscribers\n",
    "            ns_sr_rep[ns] += f[ns][srs[idx]][1:] if (ns in f and srs[idx] in f[ns]) else [0, 0]\n",
    "    ncount += 1\n",
    "    if ncount%200==0: print(ncount)"
   ]
  },
  {
   "cell_type": "markdown",
   "metadata": {},
   "source": [
    "    code started at 22:56"
   ]
  },
  {
   "cell_type": "markdown",
   "metadata": {},
   "source": [
    "Let's see one example of representation for `nytimes.com`."
   ]
  },
  {
   "cell_type": "code",
   "execution_count": 235,
   "metadata": {},
   "outputs": [
    {
     "data": {
      "text/plain": [
       "60000"
      ]
     },
     "execution_count": 235,
     "metadata": {},
     "output_type": "execute_result"
    }
   ],
   "source": [
    "len(ns_sr_rep['amsterdamnews.com'])"
   ]
  },
  {
   "cell_type": "markdown",
   "metadata": {},
   "source": [
    "Let's investigate the sparsity of our data"
   ]
  },
  {
   "cell_type": "code",
   "execution_count": 236,
   "metadata": {},
   "outputs": [],
   "source": [
    "from numpy import array\n",
    "from numpy import count_nonzero\n",
    "from scipy.sparse import csr_matrix"
   ]
  },
  {
   "cell_type": "code",
   "execution_count": 237,
   "metadata": {},
   "outputs": [],
   "source": [
    "# ns_repr, ns_fixed = np.array([v[1] for v in items]), list([v[0] for v in items]) # this causes memory error\n",
    "## MemoryError: Unable to allocate 15.3 GiB for an array with shape (11436, 180000) and data type float64\n",
    "items = ns_sr_rep.items()\n",
    "ns_repr = np.array([v[1] for v in items])"
   ]
  },
  {
   "cell_type": "code",
   "execution_count": 238,
   "metadata": {},
   "outputs": [],
   "source": [
    "sparsity = 1.0 - np.count_nonzero(ns_repr)/ns_repr.size"
   ]
  },
  {
   "cell_type": "code",
   "execution_count": 239,
   "metadata": {},
   "outputs": [
    {
     "data": {
      "text/plain": [
       "0.9944756265664161"
      ]
     },
     "execution_count": 239,
     "metadata": {},
     "output_type": "execute_result"
    }
   ],
   "source": [
    "sparsity"
   ]
  },
  {
   "cell_type": "markdown",
   "metadata": {},
   "source": [
    "Wow very high sparsity."
   ]
  },
  {
   "cell_type": "code",
   "execution_count": 240,
   "metadata": {
    "scrolled": true
   },
   "outputs": [
    {
     "name": "stdout",
     "output_type": "stream",
     "text": [
      "  (0, 24492)\t1.22\n",
      "  (0, 24493)\t6.0\n",
      "  (0, 24982)\t1.68\n",
      "  (0, 24983)\t8.0\n",
      "  (0, 33258)\t1.34\n",
      "  (0, 33259)\t4.0\n",
      "  (0, 35526)\t1.0\n",
      "  (0, 40716)\t0.3\n",
      "  (0, 40717)\t3.0\n",
      "  (0, 42920)\t0.92\n",
      "  (0, 42921)\t25.0\n",
      "  (0, 45136)\t0.57\n",
      "  (0, 45137)\t2.0\n",
      "  (0, 52920)\t1.0\n",
      "  (0, 52921)\t9.0\n",
      "  (0, 54792)\t1.66\n",
      "  (0, 54793)\t6.0\n",
      "  (0, 58094)\t1.82\n",
      "  (0, 58095)\t6.0\n",
      "  (1, 386)\t0.5\n",
      "  (1, 406)\t0.54\n",
      "  (1, 407)\t2.0\n",
      "  (1, 1068)\t0.62\n",
      "  (1, 1069)\t2.0\n",
      "  (1, 1732)\t0.86\n",
      "  :\t:\n",
      "  (265, 29212)\t0.92\n",
      "  (265, 29213)\t1.0\n",
      "  (265, 33876)\t0.97\n",
      "  (265, 33877)\t88.0\n",
      "  (265, 35262)\t0.84\n",
      "  (265, 35263)\t1.0\n",
      "  (265, 35508)\t0.9\n",
      "  (265, 35509)\t3.0\n",
      "  (265, 38112)\t0.98\n",
      "  (265, 38113)\t25.0\n",
      "  (265, 38688)\t0.98\n",
      "  (265, 38689)\t4.0\n",
      "  (265, 42990)\t1.86\n",
      "  (265, 42991)\t18.0\n",
      "  (265, 44756)\t0.99\n",
      "  (265, 44757)\t5.0\n",
      "  (265, 46054)\t1.34\n",
      "  (265, 46055)\t42.0\n",
      "  (265, 51260)\t1.0\n",
      "  (265, 55152)\t1.0\n",
      "  (265, 55153)\t4.0\n",
      "  (265, 57040)\t0.87\n",
      "  (265, 57041)\t17.0\n",
      "  (265, 58168)\t1.0\n",
      "  (265, 58169)\t11.0\n"
     ]
    }
   ],
   "source": [
    "# convert to sparse matrix (CSR method)\n",
    "S = csr_matrix(ns_repr)\n",
    "print(S)"
   ]
  },
  {
   "cell_type": "markdown",
   "metadata": {},
   "source": [
    "### Now PCA"
   ]
  },
  {
   "cell_type": "code",
   "execution_count": 241,
   "metadata": {},
   "outputs": [],
   "source": [
    "# svd = TruncatedSVD(n_components=len(srs)) #, n_iter=7, random_state=42)\n",
    "svd = PCA(n_components=len(ns_repr))"
   ]
  },
  {
   "cell_type": "code",
   "execution_count": 242,
   "metadata": {},
   "outputs": [
    {
     "data": {
      "text/plain": [
       "PCA(n_components=266)"
      ]
     },
     "execution_count": 242,
     "metadata": {},
     "output_type": "execute_result"
    }
   ],
   "source": [
    "svd.fit(ns_repr)"
   ]
  },
  {
   "cell_type": "code",
   "execution_count": 243,
   "metadata": {},
   "outputs": [],
   "source": [
    "explained_var = svd.explained_variance_ratio_"
   ]
  },
  {
   "cell_type": "code",
   "execution_count": 244,
   "metadata": {},
   "outputs": [
    {
     "data": {
      "text/plain": [
       "266"
      ]
     },
     "execution_count": 244,
     "metadata": {},
     "output_type": "execute_result"
    }
   ],
   "source": [
    "len(explained_var)"
   ]
  },
  {
   "cell_type": "code",
   "execution_count": 245,
   "metadata": {},
   "outputs": [
    {
     "data": {
      "text/plain": [
       "0.9999999999999999"
      ]
     },
     "execution_count": 245,
     "metadata": {},
     "output_type": "execute_result"
    }
   ],
   "source": [
    "svd.explained_variance_ratio_.sum()"
   ]
  },
  {
   "cell_type": "code",
   "execution_count": 246,
   "metadata": {},
   "outputs": [],
   "source": [
    "explained_var_sums = [sum(explained_var[:d]) for d in range(len(ns_repr))]"
   ]
  },
  {
   "cell_type": "code",
   "execution_count": 247,
   "metadata": {},
   "outputs": [
    {
     "name": "stderr",
     "output_type": "stream",
     "text": [
      "c:\\users\\user200803\\appdata\\local\\programs\\python\\python38\\lib\\site-packages\\seaborn\\_decorators.py:36: FutureWarning: Pass the following variables as keyword args: x, y. From version 0.12, the only valid positional argument will be `data`, and passing other arguments without an explicit keyword will result in an error or misinterpretation.\n",
      "  warnings.warn(\n"
     ]
    },
    {
     "data": {
      "text/plain": [
       "<AxesSubplot:>"
      ]
     },
     "execution_count": 247,
     "metadata": {},
     "output_type": "execute_result"
    },
    {
     "data": {
      "image/png": "[encoded data removed]",
      "text/plain": [
       "<Figure size 432x288 with 1 Axes>"
      ]
     },
     "metadata": {},
     "output_type": "display_data"
    }
   ],
   "source": [
    "sns.lineplot(range(len(explained_var_sums)), explained_var_sums)"
   ]
  },
  {
   "cell_type": "markdown",
   "metadata": {},
   "source": [
    "Now, I will cast those list representation values to be numpy arrays so I can preprocess them easily. Further, I will normalize each array."
   ]
  },
  {
   "cell_type": "markdown",
   "metadata": {},
   "source": [
    "*side note: `preprocessing.normalize` vs `standardscaler`*"
   ]
  },
  {
   "cell_type": "code",
   "execution_count": 160,
   "metadata": {},
   "outputs": [
    {
     "data": {
      "text/plain": [
       "array([[0.00999301, 0.99930073, 0.01998601, 0.02997902]])"
      ]
     },
     "execution_count": 160,
     "metadata": {},
     "output_type": "execute_result"
    }
   ],
   "source": [
    "preprocessing.normalize(np.array([[1,100,2,3]]))"
   ]
  },
  {
   "cell_type": "code",
   "execution_count": 161,
   "metadata": {},
   "outputs": [
    {
     "data": {
      "text/plain": [
       "array([[0., 0., 0., 0.]])"
      ]
     },
     "execution_count": 161,
     "metadata": {},
     "output_type": "execute_result"
    }
   ],
   "source": [
    "scaler = StandardScaler()\n",
    "scaler.fit_transform(np.array([[1,100,2,3]]))"
   ]
  },
  {
   "cell_type": "markdown",
   "metadata": {},
   "source": [
    "Now I'm thinking, should I *normalize* or *standardize*?"
   ]
  },
  {
   "cell_type": "code",
   "execution_count": 162,
   "metadata": {},
   "outputs": [],
   "source": [
    "# for ns in ns_sr_rep:\n",
    "#     rep = ns_sr_rep[ns]\n",
    "#     ns_sr_rep[ns] = preprocessing.normalize(np.array([rep]))"
   ]
  },
  {
   "cell_type": "markdown",
   "metadata": {},
   "source": [
    "## K-Means\n",
    "\n",
    "Without standardization.\n",
    "\n",
    "First, I need to find optimum `k`."
   ]
  },
  {
   "cell_type": "code",
   "execution_count": 163,
   "metadata": {},
   "outputs": [],
   "source": [
    "kmeans = KMeans(init = \"k-means++\",\n",
    "               n_clusters = 5,\n",
    "               n_init = 10,\n",
    "               max_iter = 100)"
   ]
  },
  {
   "cell_type": "markdown",
   "metadata": {},
   "source": [
    "Freezing the list for representations and the news sources."
   ]
  },
  {
   "cell_type": "code",
   "execution_count": 166,
   "metadata": {},
   "outputs": [
    {
     "data": {
      "text/plain": [
       "KMeans(max_iter=100, n_clusters=5)"
      ]
     },
     "execution_count": 166,
     "metadata": {},
     "output_type": "execute_result"
    }
   ],
   "source": [
    "kmeans.fit([v for v in ns_sr_rep.values()])"
   ]
  },
  {
   "cell_type": "code",
   "execution_count": 167,
   "metadata": {},
   "outputs": [
    {
     "name": "stdout",
     "output_type": "stream",
     "text": [
      "True\n"
     ]
    }
   ],
   "source": [
    "for i,ns in enumerate(ns_fixed):\n",
    "    if (ns_sr_rep[ns] == ns_repr[i]).all():\n",
    "        pass\n",
    "    else:\n",
    "        print(\"False\")\n",
    "print(\"True\")"
   ]
  },
  {
   "cell_type": "code",
   "execution_count": 168,
   "metadata": {},
   "outputs": [
    {
     "data": {
      "text/plain": [
       "9826851082.529928"
      ]
     },
     "execution_count": 168,
     "metadata": {},
     "output_type": "execute_result"
    }
   ],
   "source": [
    "kmeans.inertia_"
   ]
  },
  {
   "cell_type": "code",
   "execution_count": 169,
   "metadata": {
    "scrolled": true
   },
   "outputs": [
    {
     "data": {
      "text/plain": [
       "6"
      ]
     },
     "execution_count": 169,
     "metadata": {},
     "output_type": "execute_result"
    }
   ],
   "source": [
    "kmeans.n_iter_"
   ]
  },
  {
   "cell_type": "code",
   "execution_count": 170,
   "metadata": {
    "scrolled": true
   },
   "outputs": [
    {
     "data": {
      "text/plain": [
       "Counter({0: 11357, 1: 12, 4: 63, 3: 1, 2: 3})"
      ]
     },
     "execution_count": 170,
     "metadata": {},
     "output_type": "execute_result"
    }
   ],
   "source": [
    "Counter(kmeans.labels_)"
   ]
  },
  {
   "cell_type": "markdown",
   "metadata": {},
   "source": [
    "**Choosing the appropriate number of clusters**"
   ]
  },
  {
   "cell_type": "markdown",
   "metadata": {},
   "source": [
    "1. Elbow method"
   ]
  },
  {
   "cell_type": "code",
   "execution_count": 171,
   "metadata": {},
   "outputs": [],
   "source": [
    "kmeans_kwargs = {\n",
    "    \"init\": \"random\",\n",
    "    \"n_init\": 10,\n",
    "    \"max_iter\": 300,\n",
    "    \"random_state\": 360\n",
    "}"
   ]
  },
  {
   "cell_type": "code",
   "execution_count": 172,
   "metadata": {
    "scrolled": true
   },
   "outputs": [
    {
     "name": "stdout",
     "output_type": "stream",
     "text": [
      "have done 1 rounds, current sse is [23449436924.745914]\n",
      "have done 2 rounds, current sse is [23449436924.745914, 16403619369.069223]\n",
      "have done 3 rounds, current sse is [23449436924.745914, 16403619369.069223, 14601469660.918112]\n",
      "have done 4 rounds, current sse is [23449436924.745914, 16403619369.069223, 14601469660.918112, 12545894031.450285]\n",
      "have done 5 rounds, current sse is [23449436924.745914, 16403619369.069223, 14601469660.918112, 12545894031.450285, 11272340605.480078]\n",
      "have done 6 rounds, current sse is [23449436924.745914, 16403619369.069223, 14601469660.918112, 12545894031.450285, 11272340605.480078, 9206299986.068668]\n",
      "have done 7 rounds, current sse is [23449436924.745914, 16403619369.069223, 14601469660.918112, 12545894031.450285, 11272340605.480078, 9206299986.068668, 8944935005.953146]\n",
      "have done 8 rounds, current sse is [23449436924.745914, 16403619369.069223, 14601469660.918112, 12545894031.450285, 11272340605.480078, 9206299986.068668, 8944935005.953146, 8371371167.842005]\n",
      "have done 9 rounds, current sse is [23449436924.745914, 16403619369.069223, 14601469660.918112, 12545894031.450285, 11272340605.480078, 9206299986.068668, 8944935005.953146, 8371371167.842005, 7697802761.991763]\n",
      "have done 10 rounds, current sse is [23449436924.745914, 16403619369.069223, 14601469660.918112, 12545894031.450285, 11272340605.480078, 9206299986.068668, 8944935005.953146, 8371371167.842005, 7697802761.991763, 7439467031.309094]\n",
      "have done 11 rounds, current sse is [23449436924.745914, 16403619369.069223, 14601469660.918112, 12545894031.450285, 11272340605.480078, 9206299986.068668, 8944935005.953146, 8371371167.842005, 7697802761.991763, 7439467031.309094, 6909310699.419428]\n",
      "have done 12 rounds, current sse is [23449436924.745914, 16403619369.069223, 14601469660.918112, 12545894031.450285, 11272340605.480078, 9206299986.068668, 8944935005.953146, 8371371167.842005, 7697802761.991763, 7439467031.309094, 6909310699.419428, 6654306963.26893]\n",
      "have done 13 rounds, current sse is [23449436924.745914, 16403619369.069223, 14601469660.918112, 12545894031.450285, 11272340605.480078, 9206299986.068668, 8944935005.953146, 8371371167.842005, 7697802761.991763, 7439467031.309094, 6909310699.419428, 6654306963.26893, 6460188757.661017]\n",
      "have done 14 rounds, current sse is [23449436924.745914, 16403619369.069223, 14601469660.918112, 12545894031.450285, 11272340605.480078, 9206299986.068668, 8944935005.953146, 8371371167.842005, 7697802761.991763, 7439467031.309094, 6909310699.419428, 6654306963.26893, 6460188757.661017, 6276347552.998721]\n",
      "have done 15 rounds, current sse is [23449436924.745914, 16403619369.069223, 14601469660.918112, 12545894031.450285, 11272340605.480078, 9206299986.068668, 8944935005.953146, 8371371167.842005, 7697802761.991763, 7439467031.309094, 6909310699.419428, 6654306963.26893, 6460188757.661017, 6276347552.998721, 5979781661.205648]\n",
      "have done 16 rounds, current sse is [23449436924.745914, 16403619369.069223, 14601469660.918112, 12545894031.450285, 11272340605.480078, 9206299986.068668, 8944935005.953146, 8371371167.842005, 7697802761.991763, 7439467031.309094, 6909310699.419428, 6654306963.26893, 6460188757.661017, 6276347552.998721, 5979781661.205648, 5881229904.03242]\n",
      "have done 17 rounds, current sse is [23449436924.745914, 16403619369.069223, 14601469660.918112, 12545894031.450285, 11272340605.480078, 9206299986.068668, 8944935005.953146, 8371371167.842005, 7697802761.991763, 7439467031.309094, 6909310699.419428, 6654306963.26893, 6460188757.661017, 6276347552.998721, 5979781661.205648, 5881229904.03242, 5676602292.103157]\n",
      "have done 18 rounds, current sse is [23449436924.745914, 16403619369.069223, 14601469660.918112, 12545894031.450285, 11272340605.480078, 9206299986.068668, 8944935005.953146, 8371371167.842005, 7697802761.991763, 7439467031.309094, 6909310699.419428, 6654306963.26893, 6460188757.661017, 6276347552.998721, 5979781661.205648, 5881229904.03242, 5676602292.103157, 5656836846.585837]\n",
      "have done 19 rounds, current sse is [23449436924.745914, 16403619369.069223, 14601469660.918112, 12545894031.450285, 11272340605.480078, 9206299986.068668, 8944935005.953146, 8371371167.842005, 7697802761.991763, 7439467031.309094, 6909310699.419428, 6654306963.26893, 6460188757.661017, 6276347552.998721, 5979781661.205648, 5881229904.03242, 5676602292.103157, 5656836846.585837, 5538944833.53924]\n"
     ]
    }
   ],
   "source": [
    "sse = []\n",
    "for k in range(1,20):\n",
    "    kmeans = KMeans(n_clusters = k, **kmeans_kwargs)\n",
    "    kmeans.fit(ns_repr)\n",
    "    sse.append(kmeans.inertia_)\n",
    "    print(f\"have done {k} rounds, current sse is {sse}\")"
   ]
  },
  {
   "cell_type": "code",
   "execution_count": 173,
   "metadata": {
    "scrolled": true
   },
   "outputs": [
    {
     "data": {
      "text/plain": [
       "[<matplotlib.lines.Line2D at 0x269d14115e0>]"
      ]
     },
     "execution_count": 173,
     "metadata": {},
     "output_type": "execute_result"
    },
    {
     "data": {
      "image/png": "[encoded data removed]",
      "text/plain": [
       "<Figure size 432x288 with 1 Axes>"
      ]
     },
     "metadata": {},
     "output_type": "display_data"
    }
   ],
   "source": [
    "plt.plot(range(1,20),sse,\"go-\")"
   ]
  },
  {
   "cell_type": "code",
   "execution_count": 174,
   "metadata": {
    "scrolled": true
   },
   "outputs": [
    {
     "name": "stdout",
     "output_type": "stream",
     "text": [
      "have done 20 rounds, current sse is [23449436924.745914, 16403619369.069223, 14601469660.918112, 12545894031.450285, 11272340605.480078, 9206299986.068668, 8944935005.953146, 8371371167.842005, 7697802761.991763, 7439467031.309094, 6909310699.419428, 6654306963.26893, 6460188757.661017, 6276347552.998721, 5979781661.205648, 5881229904.03242, 5676602292.103157, 5656836846.585837, 5538944833.53924, 5264175921.681719]\n",
      "have done 21 rounds, current sse is [23449436924.745914, 16403619369.069223, 14601469660.918112, 12545894031.450285, 11272340605.480078, 9206299986.068668, 8944935005.953146, 8371371167.842005, 7697802761.991763, 7439467031.309094, 6909310699.419428, 6654306963.26893, 6460188757.661017, 6276347552.998721, 5979781661.205648, 5881229904.03242, 5676602292.103157, 5656836846.585837, 5538944833.53924, 5264175921.681719, 5177587995.900417]\n",
      "have done 22 rounds, current sse is [23449436924.745914, 16403619369.069223, 14601469660.918112, 12545894031.450285, 11272340605.480078, 9206299986.068668, 8944935005.953146, 8371371167.842005, 7697802761.991763, 7439467031.309094, 6909310699.419428, 6654306963.26893, 6460188757.661017, 6276347552.998721, 5979781661.205648, 5881229904.03242, 5676602292.103157, 5656836846.585837, 5538944833.53924, 5264175921.681719, 5177587995.900417, 5076006046.41951]\n",
      "have done 23 rounds, current sse is [23449436924.745914, 16403619369.069223, 14601469660.918112, 12545894031.450285, 11272340605.480078, 9206299986.068668, 8944935005.953146, 8371371167.842005, 7697802761.991763, 7439467031.309094, 6909310699.419428, 6654306963.26893, 6460188757.661017, 6276347552.998721, 5979781661.205648, 5881229904.03242, 5676602292.103157, 5656836846.585837, 5538944833.53924, 5264175921.681719, 5177587995.900417, 5076006046.41951, 5026174131.257136]\n",
      "have done 24 rounds, current sse is [23449436924.745914, 16403619369.069223, 14601469660.918112, 12545894031.450285, 11272340605.480078, 9206299986.068668, 8944935005.953146, 8371371167.842005, 7697802761.991763, 7439467031.309094, 6909310699.419428, 6654306963.26893, 6460188757.661017, 6276347552.998721, 5979781661.205648, 5881229904.03242, 5676602292.103157, 5656836846.585837, 5538944833.53924, 5264175921.681719, 5177587995.900417, 5076006046.41951, 5026174131.257136, 4901619684.296674]\n",
      "have done 25 rounds, current sse is [23449436924.745914, 16403619369.069223, 14601469660.918112, 12545894031.450285, 11272340605.480078, 9206299986.068668, 8944935005.953146, 8371371167.842005, 7697802761.991763, 7439467031.309094, 6909310699.419428, 6654306963.26893, 6460188757.661017, 6276347552.998721, 5979781661.205648, 5881229904.03242, 5676602292.103157, 5656836846.585837, 5538944833.53924, 5264175921.681719, 5177587995.900417, 5076006046.41951, 5026174131.257136, 4901619684.296674, 4882122799.429097]\n",
      "have done 26 rounds, current sse is [23449436924.745914, 16403619369.069223, 14601469660.918112, 12545894031.450285, 11272340605.480078, 9206299986.068668, 8944935005.953146, 8371371167.842005, 7697802761.991763, 7439467031.309094, 6909310699.419428, 6654306963.26893, 6460188757.661017, 6276347552.998721, 5979781661.205648, 5881229904.03242, 5676602292.103157, 5656836846.585837, 5538944833.53924, 5264175921.681719, 5177587995.900417, 5076006046.41951, 5026174131.257136, 4901619684.296674, 4882122799.429097, 4832986116.720473]\n",
      "have done 27 rounds, current sse is [23449436924.745914, 16403619369.069223, 14601469660.918112, 12545894031.450285, 11272340605.480078, 9206299986.068668, 8944935005.953146, 8371371167.842005, 7697802761.991763, 7439467031.309094, 6909310699.419428, 6654306963.26893, 6460188757.661017, 6276347552.998721, 5979781661.205648, 5881229904.03242, 5676602292.103157, 5656836846.585837, 5538944833.53924, 5264175921.681719, 5177587995.900417, 5076006046.41951, 5026174131.257136, 4901619684.296674, 4882122799.429097, 4832986116.720473, 4710014917.251001]\n",
      "have done 28 rounds, current sse is [23449436924.745914, 16403619369.069223, 14601469660.918112, 12545894031.450285, 11272340605.480078, 9206299986.068668, 8944935005.953146, 8371371167.842005, 7697802761.991763, 7439467031.309094, 6909310699.419428, 6654306963.26893, 6460188757.661017, 6276347552.998721, 5979781661.205648, 5881229904.03242, 5676602292.103157, 5656836846.585837, 5538944833.53924, 5264175921.681719, 5177587995.900417, 5076006046.41951, 5026174131.257136, 4901619684.296674, 4882122799.429097, 4832986116.720473, 4710014917.251001, 4690824268.634267]\n",
      "have done 29 rounds, current sse is [23449436924.745914, 16403619369.069223, 14601469660.918112, 12545894031.450285, 11272340605.480078, 9206299986.068668, 8944935005.953146, 8371371167.842005, 7697802761.991763, 7439467031.309094, 6909310699.419428, 6654306963.26893, 6460188757.661017, 6276347552.998721, 5979781661.205648, 5881229904.03242, 5676602292.103157, 5656836846.585837, 5538944833.53924, 5264175921.681719, 5177587995.900417, 5076006046.41951, 5026174131.257136, 4901619684.296674, 4882122799.429097, 4832986116.720473, 4710014917.251001, 4690824268.634267, 4586651962.452597]\n",
      "have done 30 rounds, current sse is [23449436924.745914, 16403619369.069223, 14601469660.918112, 12545894031.450285, 11272340605.480078, 9206299986.068668, 8944935005.953146, 8371371167.842005, 7697802761.991763, 7439467031.309094, 6909310699.419428, 6654306963.26893, 6460188757.661017, 6276347552.998721, 5979781661.205648, 5881229904.03242, 5676602292.103157, 5656836846.585837, 5538944833.53924, 5264175921.681719, 5177587995.900417, 5076006046.41951, 5026174131.257136, 4901619684.296674, 4882122799.429097, 4832986116.720473, 4710014917.251001, 4690824268.634267, 4586651962.452597, 4418465371.553158]\n",
      "have done 31 rounds, current sse is [23449436924.745914, 16403619369.069223, 14601469660.918112, 12545894031.450285, 11272340605.480078, 9206299986.068668, 8944935005.953146, 8371371167.842005, 7697802761.991763, 7439467031.309094, 6909310699.419428, 6654306963.26893, 6460188757.661017, 6276347552.998721, 5979781661.205648, 5881229904.03242, 5676602292.103157, 5656836846.585837, 5538944833.53924, 5264175921.681719, 5177587995.900417, 5076006046.41951, 5026174131.257136, 4901619684.296674, 4882122799.429097, 4832986116.720473, 4710014917.251001, 4690824268.634267, 4586651962.452597, 4418465371.553158, 4423859659.081299]\n",
      "have done 32 rounds, current sse is [23449436924.745914, 16403619369.069223, 14601469660.918112, 12545894031.450285, 11272340605.480078, 9206299986.068668, 8944935005.953146, 8371371167.842005, 7697802761.991763, 7439467031.309094, 6909310699.419428, 6654306963.26893, 6460188757.661017, 6276347552.998721, 5979781661.205648, 5881229904.03242, 5676602292.103157, 5656836846.585837, 5538944833.53924, 5264175921.681719, 5177587995.900417, 5076006046.41951, 5026174131.257136, 4901619684.296674, 4882122799.429097, 4832986116.720473, 4710014917.251001, 4690824268.634267, 4586651962.452597, 4418465371.553158, 4423859659.081299, 4339081133.524831]\n",
      "have done 33 rounds, current sse is [23449436924.745914, 16403619369.069223, 14601469660.918112, 12545894031.450285, 11272340605.480078, 9206299986.068668, 8944935005.953146, 8371371167.842005, 7697802761.991763, 7439467031.309094, 6909310699.419428, 6654306963.26893, 6460188757.661017, 6276347552.998721, 5979781661.205648, 5881229904.03242, 5676602292.103157, 5656836846.585837, 5538944833.53924, 5264175921.681719, 5177587995.900417, 5076006046.41951, 5026174131.257136, 4901619684.296674, 4882122799.429097, 4832986116.720473, 4710014917.251001, 4690824268.634267, 4586651962.452597, 4418465371.553158, 4423859659.081299, 4339081133.524831, 4264385831.917897]\n",
      "have done 34 rounds, current sse is [23449436924.745914, 16403619369.069223, 14601469660.918112, 12545894031.450285, 11272340605.480078, 9206299986.068668, 8944935005.953146, 8371371167.842005, 7697802761.991763, 7439467031.309094, 6909310699.419428, 6654306963.26893, 6460188757.661017, 6276347552.998721, 5979781661.205648, 5881229904.03242, 5676602292.103157, 5656836846.585837, 5538944833.53924, 5264175921.681719, 5177587995.900417, 5076006046.41951, 5026174131.257136, 4901619684.296674, 4882122799.429097, 4832986116.720473, 4710014917.251001, 4690824268.634267, 4586651962.452597, 4418465371.553158, 4423859659.081299, 4339081133.524831, 4264385831.917897, 4239911818.1692686]\n"
     ]
    },
    {
     "name": "stdout",
     "output_type": "stream",
     "text": [
      "have done 35 rounds, current sse is [23449436924.745914, 16403619369.069223, 14601469660.918112, 12545894031.450285, 11272340605.480078, 9206299986.068668, 8944935005.953146, 8371371167.842005, 7697802761.991763, 7439467031.309094, 6909310699.419428, 6654306963.26893, 6460188757.661017, 6276347552.998721, 5979781661.205648, 5881229904.03242, 5676602292.103157, 5656836846.585837, 5538944833.53924, 5264175921.681719, 5177587995.900417, 5076006046.41951, 5026174131.257136, 4901619684.296674, 4882122799.429097, 4832986116.720473, 4710014917.251001, 4690824268.634267, 4586651962.452597, 4418465371.553158, 4423859659.081299, 4339081133.524831, 4264385831.917897, 4239911818.1692686, 4098709969.3477373]\n",
      "have done 36 rounds, current sse is [23449436924.745914, 16403619369.069223, 14601469660.918112, 12545894031.450285, 11272340605.480078, 9206299986.068668, 8944935005.953146, 8371371167.842005, 7697802761.991763, 7439467031.309094, 6909310699.419428, 6654306963.26893, 6460188757.661017, 6276347552.998721, 5979781661.205648, 5881229904.03242, 5676602292.103157, 5656836846.585837, 5538944833.53924, 5264175921.681719, 5177587995.900417, 5076006046.41951, 5026174131.257136, 4901619684.296674, 4882122799.429097, 4832986116.720473, 4710014917.251001, 4690824268.634267, 4586651962.452597, 4418465371.553158, 4423859659.081299, 4339081133.524831, 4264385831.917897, 4239911818.1692686, 4098709969.3477373, 4063807106.733817]\n",
      "have done 37 rounds, current sse is [23449436924.745914, 16403619369.069223, 14601469660.918112, 12545894031.450285, 11272340605.480078, 9206299986.068668, 8944935005.953146, 8371371167.842005, 7697802761.991763, 7439467031.309094, 6909310699.419428, 6654306963.26893, 6460188757.661017, 6276347552.998721, 5979781661.205648, 5881229904.03242, 5676602292.103157, 5656836846.585837, 5538944833.53924, 5264175921.681719, 5177587995.900417, 5076006046.41951, 5026174131.257136, 4901619684.296674, 4882122799.429097, 4832986116.720473, 4710014917.251001, 4690824268.634267, 4586651962.452597, 4418465371.553158, 4423859659.081299, 4339081133.524831, 4264385831.917897, 4239911818.1692686, 4098709969.3477373, 4063807106.733817, 4032032019.301513]\n",
      "have done 38 rounds, current sse is [23449436924.745914, 16403619369.069223, 14601469660.918112, 12545894031.450285, 11272340605.480078, 9206299986.068668, 8944935005.953146, 8371371167.842005, 7697802761.991763, 7439467031.309094, 6909310699.419428, 6654306963.26893, 6460188757.661017, 6276347552.998721, 5979781661.205648, 5881229904.03242, 5676602292.103157, 5656836846.585837, 5538944833.53924, 5264175921.681719, 5177587995.900417, 5076006046.41951, 5026174131.257136, 4901619684.296674, 4882122799.429097, 4832986116.720473, 4710014917.251001, 4690824268.634267, 4586651962.452597, 4418465371.553158, 4423859659.081299, 4339081133.524831, 4264385831.917897, 4239911818.1692686, 4098709969.3477373, 4063807106.733817, 4032032019.301513, 3977593916.4872518]\n",
      "have done 39 rounds, current sse is [23449436924.745914, 16403619369.069223, 14601469660.918112, 12545894031.450285, 11272340605.480078, 9206299986.068668, 8944935005.953146, 8371371167.842005, 7697802761.991763, 7439467031.309094, 6909310699.419428, 6654306963.26893, 6460188757.661017, 6276347552.998721, 5979781661.205648, 5881229904.03242, 5676602292.103157, 5656836846.585837, 5538944833.53924, 5264175921.681719, 5177587995.900417, 5076006046.41951, 5026174131.257136, 4901619684.296674, 4882122799.429097, 4832986116.720473, 4710014917.251001, 4690824268.634267, 4586651962.452597, 4418465371.553158, 4423859659.081299, 4339081133.524831, 4264385831.917897, 4239911818.1692686, 4098709969.3477373, 4063807106.733817, 4032032019.301513, 3977593916.4872518, 3978783864.394721]\n",
      "have done 40 rounds, current sse is [23449436924.745914, 16403619369.069223, 14601469660.918112, 12545894031.450285, 11272340605.480078, 9206299986.068668, 8944935005.953146, 8371371167.842005, 7697802761.991763, 7439467031.309094, 6909310699.419428, 6654306963.26893, 6460188757.661017, 6276347552.998721, 5979781661.205648, 5881229904.03242, 5676602292.103157, 5656836846.585837, 5538944833.53924, 5264175921.681719, 5177587995.900417, 5076006046.41951, 5026174131.257136, 4901619684.296674, 4882122799.429097, 4832986116.720473, 4710014917.251001, 4690824268.634267, 4586651962.452597, 4418465371.553158, 4423859659.081299, 4339081133.524831, 4264385831.917897, 4239911818.1692686, 4098709969.3477373, 4063807106.733817, 4032032019.301513, 3977593916.4872518, 3978783864.394721, 4017545426.514995]\n"
     ]
    }
   ],
   "source": [
    "for k in range(20,41):\n",
    "    kmeans = KMeans(n_clusters = k, **kmeans_kwargs)\n",
    "    kmeans.fit(ns_repr)\n",
    "    sse.append(kmeans.inertia_)\n",
    "    print(f\"have done {k} rounds, current sse is {sse}\")"
   ]
  },
  {
   "cell_type": "code",
   "execution_count": 175,
   "metadata": {
    "scrolled": true
   },
   "outputs": [
    {
     "data": {
      "text/plain": [
       "[<matplotlib.lines.Line2D at 0x269bb048670>]"
      ]
     },
     "execution_count": 175,
     "metadata": {},
     "output_type": "execute_result"
    },
    {
     "data": {
      "image/png": "[encoded data removed]",
      "text/plain": [
       "<Figure size 432x288 with 1 Axes>"
      ]
     },
     "metadata": {},
     "output_type": "display_data"
    }
   ],
   "source": [
    "plt.plot(range(1,41),sse,\"go-\")"
   ]
  },
  {
   "cell_type": "code",
   "execution_count": 176,
   "metadata": {},
   "outputs": [],
   "source": [
    "kl = KneeLocator(range(1,41), sse, curve=\"convex\", direction=\"decreasing\")"
   ]
  },
  {
   "cell_type": "code",
   "execution_count": 177,
   "metadata": {},
   "outputs": [
    {
     "data": {
      "text/plain": [
       "11"
      ]
     },
     "execution_count": 177,
     "metadata": {},
     "output_type": "execute_result"
    }
   ],
   "source": [
    "kl.elbow"
   ]
  },
  {
   "cell_type": "markdown",
   "metadata": {},
   "source": [
    "**Using Silhouette Coefficient**"
   ]
  },
  {
   "cell_type": "code",
   "execution_count": 178,
   "metadata": {
    "scrolled": true
   },
   "outputs": [
    {
     "name": "stdout",
     "output_type": "stream",
     "text": [
      "step 2\n",
      "step 3\n",
      "step 4\n",
      "step 5\n",
      "step 6\n",
      "step 7\n",
      "step 8\n",
      "step 9\n",
      "step 10\n",
      "step 11\n",
      "step 12\n",
      "step 13\n",
      "step 14\n",
      "step 15\n",
      "step 16\n",
      "step 17\n",
      "step 18\n",
      "step 19\n",
      "step 20\n",
      "step 21\n",
      "step 22\n",
      "step 23\n",
      "step 24\n",
      "step 25\n",
      "step 26\n",
      "step 27\n",
      "step 28\n",
      "step 29\n"
     ]
    }
   ],
   "source": [
    "sc = []\n",
    "new_sse = []\n",
    "for k in range(2,30):\n",
    "    kmeans = KMeans(n_clusters = k, **kmeans_kwargs)\n",
    "    kmeans.fit(ns_repr)\n",
    "    score = silhouette_score(ns_repr, kmeans.labels_)\n",
    "    sc.append(score)\n",
    "    new_sse.append(kmeans.inertia_)\n",
    "    print(\"step {}\".format(k))"
   ]
  },
  {
   "cell_type": "code",
   "execution_count": 180,
   "metadata": {
    "scrolled": true
   },
   "outputs": [
    {
     "data": {
      "text/plain": [
       "[<matplotlib.lines.Line2D at 0x26988fa0130>]"
      ]
     },
     "execution_count": 180,
     "metadata": {},
     "output_type": "execute_result"
    },
    {
     "data": {
      "image/png": "[encoded data removed]",
      "text/plain": [
       "<Figure size 432x288 with 1 Axes>"
      ]
     },
     "metadata": {},
     "output_type": "display_data"
    }
   ],
   "source": [
    "# for sse\n",
    "plt.plot(range(2,30), new_sse, \"go-\")"
   ]
  },
  {
   "cell_type": "code",
   "execution_count": 181,
   "metadata": {
    "scrolled": true
   },
   "outputs": [
    {
     "data": {
      "text/plain": [
       "11"
      ]
     },
     "execution_count": 181,
     "metadata": {},
     "output_type": "execute_result"
    }
   ],
   "source": [
    "kl_new = KneeLocator(range(2,30), new_sse, curve=\"convex\", direction=\"decreasing\")\n",
    "kl_new.elbow"
   ]
  },
  {
   "cell_type": "code",
   "execution_count": 182,
   "metadata": {
    "scrolled": true
   },
   "outputs": [
    {
     "data": {
      "text/plain": [
       "[<matplotlib.lines.Line2D at 0x26988b6f4c0>]"
      ]
     },
     "execution_count": 182,
     "metadata": {},
     "output_type": "execute_result"
    },
    {
     "data": {
      "image/png": "[encoded data removed]",
      "text/plain": [
       "<Figure size 432x288 with 1 Axes>"
      ]
     },
     "metadata": {},
     "output_type": "display_data"
    }
   ],
   "source": [
    "# for silhouette coefficient\n",
    "plt.plot(range(2,30), sc, \"bo-\")"
   ]
  },
  {
   "cell_type": "code",
   "execution_count": 184,
   "metadata": {
    "scrolled": true
   },
   "outputs": [
    {
     "data": {
      "text/plain": [
       "[<matplotlib.lines.Line2D at 0x26988c34490>]"
      ]
     },
     "execution_count": 184,
     "metadata": {},
     "output_type": "execute_result"
    },
    {
     "data": {
      "image/png": "[encoded data removed]",
      "text/plain": [
       "<Figure size 432x288 with 1 Axes>"
      ]
     },
     "metadata": {},
     "output_type": "display_data"
    }
   ],
   "source": [
    "\n",
    "\n",
    "spl = make_interp_spline(range(2,30), sc, k=3)  # type: BSpline\n",
    "\n",
    "xs = np.linspace(2, 30, 6)\n",
    "ys = spl(xs)\n",
    "\n",
    "plt.plot(range(2,30), sc, \"go--\")\n",
    "plt.plot(xs, ys, \"b-\")"
   ]
  },
  {
   "cell_type": "markdown",
   "metadata": {},
   "source": [
    "Let's choose k = 10"
   ]
  },
  {
   "cell_type": "code",
   "execution_count": 185,
   "metadata": {
    "scrolled": true
   },
   "outputs": [
    {
     "data": {
      "text/plain": [
       "KMeans(max_iter=500, n_init=50, random_state=360)"
      ]
     },
     "execution_count": 185,
     "metadata": {},
     "output_type": "execute_result"
    }
   ],
   "source": [
    "kmeans = KMeans(n_clusters = 8, init=\"k-means++\", n_init = 50, max_iter = 500, random_state = 360)\n",
    "kmeans.fit(ns_repr)"
   ]
  },
  {
   "cell_type": "code",
   "execution_count": 68,
   "metadata": {
    "collapsed": true
   },
   "outputs": [
    {
     "data": {
      "text/plain": [
       "['__class__',\n",
       " '__delattr__',\n",
       " '__dict__',\n",
       " '__dir__',\n",
       " '__doc__',\n",
       " '__eq__',\n",
       " '__format__',\n",
       " '__ge__',\n",
       " '__getattribute__',\n",
       " '__getstate__',\n",
       " '__gt__',\n",
       " '__hash__',\n",
       " '__init__',\n",
       " '__init_subclass__',\n",
       " '__le__',\n",
       " '__lt__',\n",
       " '__module__',\n",
       " '__ne__',\n",
       " '__new__',\n",
       " '__reduce__',\n",
       " '__reduce_ex__',\n",
       " '__repr__',\n",
       " '__setattr__',\n",
       " '__setstate__',\n",
       " '__sizeof__',\n",
       " '__str__',\n",
       " '__subclasshook__',\n",
       " '__weakref__',\n",
       " '_algorithm',\n",
       " '_check_feature_names',\n",
       " '_check_mkl_vcomp',\n",
       " '_check_n_features',\n",
       " '_check_params',\n",
       " '_check_test_data',\n",
       " '_estimator_type',\n",
       " '_get_param_names',\n",
       " '_get_tags',\n",
       " '_init_centroids',\n",
       " '_more_tags',\n",
       " '_n_init',\n",
       " '_n_threads',\n",
       " '_repr_html_',\n",
       " '_repr_html_inner',\n",
       " '_repr_mimebundle_',\n",
       " '_tol',\n",
       " '_transform',\n",
       " '_validate_center_shape',\n",
       " '_validate_data',\n",
       " 'algorithm',\n",
       " 'cluster_centers_',\n",
       " 'copy_x',\n",
       " 'fit',\n",
       " 'fit_predict',\n",
       " 'fit_transform',\n",
       " 'get_params',\n",
       " 'inertia_',\n",
       " 'init',\n",
       " 'labels_',\n",
       " 'max_iter',\n",
       " 'n_clusters',\n",
       " 'n_features_in_',\n",
       " 'n_init',\n",
       " 'n_iter_',\n",
       " 'predict',\n",
       " 'random_state',\n",
       " 'score',\n",
       " 'set_params',\n",
       " 'tol',\n",
       " 'transform',\n",
       " 'verbose']"
      ]
     },
     "execution_count": 68,
     "metadata": {},
     "output_type": "execute_result"
    }
   ],
   "source": [
    "dir(kmeans)"
   ]
  },
  {
   "cell_type": "code",
   "execution_count": 186,
   "metadata": {},
   "outputs": [
    {
     "data": {
      "text/plain": [
       "array([7, 7, 7, ..., 7, 7, 7])"
      ]
     },
     "execution_count": 186,
     "metadata": {},
     "output_type": "execute_result"
    }
   ],
   "source": [
    "kmeans.labels_"
   ]
  },
  {
   "cell_type": "code",
   "execution_count": 187,
   "metadata": {
    "scrolled": true
   },
   "outputs": [
    {
     "data": {
      "text/plain": [
       "{0, 1, 2, 3, 4, 5, 6, 7}"
      ]
     },
     "execution_count": 187,
     "metadata": {},
     "output_type": "execute_result"
    }
   ],
   "source": [
    "set(kmeans.labels_)"
   ]
  },
  {
   "cell_type": "code",
   "execution_count": 188,
   "metadata": {},
   "outputs": [
    {
     "data": {
      "text/plain": [
       "Counter({7: 11200, 0: 96, 3: 110, 1: 5, 4: 1, 2: 3, 6: 20, 5: 1})"
      ]
     },
     "execution_count": 188,
     "metadata": {},
     "output_type": "execute_result"
    }
   ],
   "source": [
    "Counter(kmeans.labels_)"
   ]
  },
  {
   "cell_type": "markdown",
   "metadata": {},
   "source": [
    "**Let's investigate each cluster**"
   ]
  },
  {
   "cell_type": "code",
   "execution_count": 317,
   "metadata": {},
   "outputs": [
    {
     "data": {
      "text/plain": [
       "12172"
      ]
     },
     "execution_count": 317,
     "metadata": {},
     "output_type": "execute_result"
    }
   ],
   "source": [
    "len(ns_sr_rep)"
   ]
  },
  {
   "cell_type": "code",
   "execution_count": 318,
   "metadata": {},
   "outputs": [
    {
     "data": {
      "text/plain": [
       "12172"
      ]
     },
     "execution_count": 318,
     "metadata": {},
     "output_type": "execute_result"
    }
   ],
   "source": [
    "len(kmeans.labels_)"
   ]
  },
  {
   "cell_type": "code",
   "execution_count": 319,
   "metadata": {},
   "outputs": [],
   "source": [
    "clustered = defaultdict(list)\n",
    "for idx,ns in enumerate(ns_fixed):\n",
    "    c = kmeans.labels_[idx]\n",
    "    clustered[c].append(ns)"
   ]
  },
  {
   "cell_type": "code",
   "execution_count": 320,
   "metadata": {
    "scrolled": false
   },
   "outputs": [
    {
     "name": "stdout",
     "output_type": "stream",
     "text": [
      "[11739, 20, 177, 82, 103, 1, 13, 37, 0, 0]\n"
     ]
    }
   ],
   "source": [
    "print([len(clustered[i]) for i in range(10)])"
   ]
  },
  {
   "cell_type": "markdown",
   "metadata": {},
   "source": [
    "Let's see in terms of percentage"
   ]
  },
  {
   "cell_type": "code",
   "execution_count": 321,
   "metadata": {},
   "outputs": [],
   "source": [
    "cluster_lens = [len(clustered[i]) for i in range(10)]"
   ]
  },
  {
   "cell_type": "code",
   "execution_count": 322,
   "metadata": {},
   "outputs": [
    {
     "name": "stdout",
     "output_type": "stream",
     "text": [
      "[96.44, 0.16, 1.45, 0.67, 0.85, 0.01, 0.11, 0.3, 0.0, 0.0]\n"
     ]
    }
   ],
   "source": [
    "print([round(k*100/sum(cluster_lens),2) for k in cluster_lens])"
   ]
  },
  {
   "cell_type": "markdown",
   "metadata": {},
   "source": [
    " **could do iterative clusters for ^**"
   ]
  },
  {
   "cell_type": "code",
   "execution_count": 325,
   "metadata": {},
   "outputs": [
    {
     "data": {
      "text/plain": [
       "['opb.org',\n",
       " 'actionnewsnow.com',\n",
       " 'okcfox.com',\n",
       " 'wmot.org',\n",
       " 'aviationweek.com',\n",
       " 'vulture.com',\n",
       " 'wtop.com',\n",
       " 'jns.org',\n",
       " 'dutchnews.nl',\n",
       " 'woodworkingnetwork.com',\n",
       " 'wvmetronews.com',\n",
       " 'nbc-2.com',\n",
       " 'nbc12.com',\n",
       " 'fox2detroit.com',\n",
       " 'wvnstv.com',\n",
       " 'thelily.com',\n",
       " 'kbzk.com',\n",
       " 'kktv.com',\n",
       " 'rentonreporter.com',\n",
       " 'montreal.ctvnews.ca',\n",
       " 'nbcchicago.com',\n",
       " 'nwaonline.com',\n",
       " 'theadvocate.com',\n",
       " 'whdh.com',\n",
       " 'expressnews.com',\n",
       " 'fox29.com',\n",
       " 'mlive.com',\n",
       " 'lbc.co.uk',\n",
       " 'uptownmessenger.com',\n",
       " 'nbcsports.com',\n",
       " 'duluthnewstribune.com',\n",
       " 'wfmj.com',\n",
       " 'fox26houston.com',\n",
       " 'abc15.com',\n",
       " 'abc30.com',\n",
       " 'toronto.citynews.ca',\n",
       " 'wqow.com',\n",
       " 'kiro7.com',\n",
       " 'wgem.com',\n",
       " 'prpeak.com',\n",
       " 'denverpost.com',\n",
       " 'kpvi.com',\n",
       " 'fox4news.com',\n",
       " 'desmoinesregister.com',\n",
       " 'metrotimes.com',\n",
       " 'local12.com',\n",
       " 'fox7austin.com',\n",
       " 'tmj4.com',\n",
       " 'theregister.com',\n",
       " 'news4sanantonio.com',\n",
       " 'govexec.com',\n",
       " 'fox11online.com',\n",
       " 'wearemitu.com',\n",
       " 'wsvn.com',\n",
       " 'wafb.com',\n",
       " 'nzherald.co.nz',\n",
       " 'fox21news.com',\n",
       " 'chicagocrusader.com',\n",
       " 'nondoc.com',\n",
       " 'riverfronttimes.com',\n",
       " 'turnto10.com',\n",
       " 'ynetnews.com',\n",
       " 'nbcdfw.com',\n",
       " 'whyy.org',\n",
       " 'cincinnati.com',\n",
       " 'ktvu.com',\n",
       " 'abc13.com',\n",
       " 'clickondetroit.com',\n",
       " 'biopharma-reporter.com',\n",
       " 'kplctv.com',\n",
       " 'cowichanvalleycitizen.com',\n",
       " 'weny.com',\n",
       " 'manchestereveningnews.co.uk',\n",
       " 'ocregister.com',\n",
       " 'travelandleisure.com',\n",
       " 'wjla.com',\n",
       " 'hawaiinewsnow.com',\n",
       " 'postandcourier.com',\n",
       " 'citynews.ca',\n",
       " '972mag.com',\n",
       " 'artnet.com',\n",
       " 'crunchyroll.com',\n",
       " 'cnbctv18.com',\n",
       " 'nj1015.com',\n",
       " 'channel3000.com',\n",
       " 'wdam.com',\n",
       " 'washingtonian.com',\n",
       " 'ozarksfirst.com',\n",
       " 'local21news.com',\n",
       " 'kake.com',\n",
       " 'sfexaminer.com',\n",
       " 'bostonherald.com',\n",
       " 'nbclosangeles.com',\n",
       " 'laist.com',\n",
       " 'pitchfork.com',\n",
       " 'local10.com',\n",
       " 'insidernj.com',\n",
       " 'foxla.com',\n",
       " 'wcti12.com',\n",
       " 'abc11.com',\n",
       " 'ny1.com',\n",
       " 'nfl.com',\n",
       " 'caranddriver.com',\n",
       " 'fox10phoenix.com',\n",
       " 'thetelegraph.com',\n",
       " 'theathletic.com',\n",
       " 'blackhillsfox.com',\n",
       " 'binghamtonhomepage.com',\n",
       " 'appleinsider.com',\n",
       " 'wtoc.com',\n",
       " 'boston.com',\n",
       " 'clickorlando.com',\n",
       " 'msnbc.com',\n",
       " 'cbsaustin.com',\n",
       " 'starnewsonline.com',\n",
       " 'whio.com',\n",
       " 'wlns.com',\n",
       " 'readfrontier.org',\n",
       " 'policemag.com',\n",
       " 'wect.com',\n",
       " 'abc7.com',\n",
       " 'ktiv.com',\n",
       " 'nbc15.com',\n",
       " 'cleveland.com',\n",
       " 'postcrescent.com',\n",
       " 'motor1.com',\n",
       " 'metroweekly.com',\n",
       " 'golfdigest.com',\n",
       " 'abc6onyourside.com',\n",
       " 'cleveland19.com',\n",
       " 'navytimes.com',\n",
       " 'thedenverchannel.com',\n",
       " 'qsrmagazine.com',\n",
       " 'pasadenastarnews.com',\n",
       " 'newschannel5.com',\n",
       " 'nola.com',\n",
       " 'wsoctv.com',\n",
       " 'arklatexhomepage.com',\n",
       " 'kpbs.org',\n",
       " 'astronomy.com',\n",
       " 'chron.com',\n",
       " 'spectrumnews1.com',\n",
       " 'motorbiscuit.com',\n",
       " 'news.com.au',\n",
       " 'click2houston.com',\n",
       " 'sfgate.com',\n",
       " '7news.com.au',\n",
       " 'kjzz.com',\n",
       " 'fxstreet.com',\n",
       " 'wkyt.com',\n",
       " 'news5cleveland.com',\n",
       " 'masslive.com',\n",
       " 'tennessean.com',\n",
       " 'firstcoastnews.com',\n",
       " 'armytimes.com',\n",
       " 'localmemphis.com',\n",
       " 'recordonline.com',\n",
       " 'theday.com',\n",
       " 'wbtv.com',\n",
       " 'independent.ie',\n",
       " 'bakersfield.com',\n",
       " 'cbs7.com',\n",
       " 'nbcwashington.com',\n",
       " 'aclu.org',\n",
       " 'rochesterfirst.com',\n",
       " 'jsonline.com',\n",
       " 'wmfe.org',\n",
       " 'wbrz.com',\n",
       " 'fox5ny.com',\n",
       " 'freep.com',\n",
       " 'ctmirror.org',\n",
       " 'urdupoint.com',\n",
       " 'newschannel9.com',\n",
       " 'katv.com',\n",
       " 'centralmaine.com',\n",
       " 'stripes.com',\n",
       " 'fox5dc.com']"
      ]
     },
     "execution_count": 325,
     "metadata": {},
     "output_type": "execute_result"
    }
   ],
   "source": [
    "clustered[2]"
   ]
  },
  {
   "cell_type": "markdown",
   "metadata": {},
   "source": [
    "## DBSCAN clustering"
   ]
  },
  {
   "cell_type": "code",
   "execution_count": 326,
   "metadata": {},
   "outputs": [],
   "source": [
    "from sklearn.cluster import DBSCAN"
   ]
  },
  {
   "cell_type": "markdown",
   "metadata": {},
   "source": [
    "First try out."
   ]
  },
  {
   "cell_type": "code",
   "execution_count": 327,
   "metadata": {},
   "outputs": [],
   "source": [
    "dbscan = DBSCAN(eps=0.01)"
   ]
  },
  {
   "cell_type": "code",
   "execution_count": 328,
   "metadata": {},
   "outputs": [],
   "source": [
    "ds_clusters = dbscan.fit(ns_repr)"
   ]
  },
  {
   "cell_type": "code",
   "execution_count": 329,
   "metadata": {},
   "outputs": [
    {
     "data": {
      "text/plain": [
       "12172"
      ]
     },
     "execution_count": 329,
     "metadata": {},
     "output_type": "execute_result"
    }
   ],
   "source": [
    "dbs_labels = ds_clusters.labels_\n",
    "len(dbs_labels)"
   ]
  },
  {
   "cell_type": "code",
   "execution_count": 330,
   "metadata": {},
   "outputs": [
    {
     "data": {
      "text/plain": [
       "array([-1,  0,  1,  2,  3,  4,  5,  6,  7,  8,  9, 10, 11, 12, 13, 14, 15,\n",
       "       16, 17, 18, 19, 20, 21, 22, 23, 24, 25, 26, 27, 28, 29, 30, 31, 32,\n",
       "       33, 34, 35, 36, 37], dtype=int64)"
      ]
     },
     "execution_count": 330,
     "metadata": {},
     "output_type": "execute_result"
    }
   ],
   "source": [
    "np.unique(dbs_labels)"
   ]
  },
  {
   "cell_type": "code",
   "execution_count": 331,
   "metadata": {},
   "outputs": [],
   "source": [
    "dbscan_clusters = defaultdict(list)\n",
    "for idx, c in enumerate(list(dbs_labels)):\n",
    "    dbscan_clusters[c].append(ns_fixed[idx])"
   ]
  },
  {
   "cell_type": "code",
   "execution_count": 332,
   "metadata": {},
   "outputs": [
    {
     "name": "stdout",
     "output_type": "stream",
     "text": [
      "number of ns in cluster -1: 6236\n",
      "number of ns in cluster 0: 5206\n",
      "number of ns in cluster 1: 13\n",
      "number of ns in cluster 2: 102\n",
      "number of ns in cluster 3: 22\n",
      "number of ns in cluster 4: 6\n",
      "number of ns in cluster 5: 12\n",
      "number of ns in cluster 6: 192\n",
      "number of ns in cluster 7: 7\n",
      "number of ns in cluster 8: 31\n",
      "number of ns in cluster 9: 53\n",
      "number of ns in cluster 10: 37\n",
      "number of ns in cluster 11: 5\n",
      "number of ns in cluster 12: 20\n",
      "number of ns in cluster 13: 17\n",
      "number of ns in cluster 14: 5\n",
      "number of ns in cluster 15: 26\n",
      "number of ns in cluster 16: 8\n",
      "number of ns in cluster 17: 5\n",
      "number of ns in cluster 18: 5\n",
      "number of ns in cluster 19: 6\n",
      "number of ns in cluster 20: 12\n",
      "number of ns in cluster 21: 8\n",
      "number of ns in cluster 22: 24\n",
      "number of ns in cluster 23: 5\n",
      "number of ns in cluster 24: 13\n",
      "number of ns in cluster 25: 7\n",
      "number of ns in cluster 26: 5\n",
      "number of ns in cluster 27: 6\n",
      "number of ns in cluster 28: 10\n",
      "number of ns in cluster 29: 5\n",
      "number of ns in cluster 30: 5\n",
      "number of ns in cluster 31: 5\n",
      "number of ns in cluster 32: 7\n",
      "number of ns in cluster 33: 25\n",
      "number of ns in cluster 34: 5\n",
      "number of ns in cluster 35: 6\n",
      "number of ns in cluster 36: 5\n",
      "number of ns in cluster 37: 5\n"
     ]
    }
   ],
   "source": [
    "for c in range(-1, 38):\n",
    "    print(\"number of ns in cluster {}: {}\".format(c, len(dbscan_clusters[c])))"
   ]
  },
  {
   "cell_type": "markdown",
   "metadata": {},
   "source": [
    "Let's investigate some of the clusters"
   ]
  },
  {
   "cell_type": "code",
   "execution_count": 342,
   "metadata": {
    "scrolled": true
   },
   "outputs": [
    {
     "data": {
      "text/plain": [
       "['smdailyjournal.com',\n",
       " 'news-gazette.com',\n",
       " 'sakshi.com',\n",
       " 'tortoisemedia.com',\n",
       " 'berlingske.dk',\n",
       " 'eleconomista.com.mx',\n",
       " 'letelegramme.fr',\n",
       " 'odishatv.in',\n",
       " 'moneylife.in',\n",
       " 'thelastamericanvagabond.com',\n",
       " 'hankookilbo.com',\n",
       " 'ekstrabladet.dk',\n",
       " 'todayheadline.co',\n",
       " 'wellnessmama.com',\n",
       " 'ticotimes.net',\n",
       " 'eldiariony.com',\n",
       " 'carehome.co.uk',\n",
       " 'phnompenhpost.com',\n",
       " 'mediafax.ro',\n",
       " 'rcrwireless.com',\n",
       " 'wigantoday.net',\n",
       " 'parismatch.com',\n",
       " 'biznews.com',\n",
       " 'vedomosti.ru',\n",
       " 'iz.ru',\n",
       " 'dailycardinal.com',\n",
       " 'fashionweekdaily.com',\n",
       " 'searchenginewatch.com',\n",
       " 'techinasia.com',\n",
       " 'azernews.az',\n",
       " 'surfacemag.com',\n",
       " 'animalpolitico.com',\n",
       " 'icirnigeria.org',\n",
       " 'salaamgateway.com',\n",
       " 'n-tv.de',\n",
       " 'vavel.com',\n",
       " 'myfitnesspal.com',\n",
       " 'thecitizen.com',\n",
       " '2gb.com',\n",
       " 'dopemagazine.com',\n",
       " 'livehindustan.com',\n",
       " 'niagarathisweek.com',\n",
       " 'lowyat.net',\n",
       " 'kbjr6.com',\n",
       " 'smartinsights.com',\n",
       " 'theglobalist.com',\n",
       " 'atheistrepublic.com',\n",
       " 'dinheirovivo.pt',\n",
       " 'sabah.com.tr',\n",
       " 'lenta.ru',\n",
       " 'goldswitzerland.com',\n",
       " 'mountaineagle.com',\n",
       " 'saurenergy.com']"
      ]
     },
     "execution_count": 342,
     "metadata": {},
     "output_type": "execute_result"
    }
   ],
   "source": [
    "dbscan_clusters[9]"
   ]
  },
  {
   "cell_type": "code",
   "execution_count": 147,
   "metadata": {
    "scrolled": true
   },
   "outputs": [
    {
     "data": {
      "text/plain": [
       "[]"
      ]
     },
     "execution_count": 147,
     "metadata": {},
     "output_type": "execute_result"
    }
   ],
   "source": [
    "dbscan_clusters[1]"
   ]
  },
  {
   "cell_type": "markdown",
   "metadata": {},
   "source": [
    "**Finding optimum `epsilon` for dbscan**\n",
    "\n",
    "References: \n",
    "\n",
    "https://towardsdatascience.com/machine-learning-clustering-dbscan-determine-the-optimal-value-for-epsilon-eps-python-example-3100091cfbc\n",
    "\n",
    "https://iopscience.iop.org/article/10.1088/1755-1315/31/1/012012/pdf"
   ]
  },
  {
   "cell_type": "code",
   "execution_count": 343,
   "metadata": {},
   "outputs": [],
   "source": [
    "from sklearn.neighbors import NearestNeighbors"
   ]
  },
  {
   "cell_type": "code",
   "execution_count": 344,
   "metadata": {},
   "outputs": [],
   "source": [
    "neigh = NearestNeighbors(n_neighbors=2)\n",
    "nbrs = neigh.fit(ns_repr)\n",
    "distances, indices = nbrs.kneighbors(ns_repr)"
   ]
  },
  {
   "cell_type": "code",
   "execution_count": 348,
   "metadata": {},
   "outputs": [
    {
     "data": {
      "text/plain": [
       "(0.0, 0.01)"
      ]
     },
     "execution_count": 348,
     "metadata": {},
     "output_type": "execute_result"
    },
    {
     "data": {
      "image/png": "[encoded data removed]",
      "text/plain": [
       "<Figure size 432x288 with 1 Axes>"
      ]
     },
     "metadata": {},
     "output_type": "display_data"
    }
   ],
   "source": [
    "distances = np.sort(distances, axis=0)\n",
    "# distances = distances[:,1]\n",
    "plt.plot(distances)\n",
    "plt.ylim((0,0.01))"
   ]
  },
  {
   "cell_type": "markdown",
   "metadata": {},
   "source": [
    "I don't think any epsilon makes sense here."
   ]
  },
  {
   "cell_type": "code",
   "execution_count": null,
   "metadata": {},
   "outputs": [],
   "source": []
  }
 ],
 "metadata": {
  "kernelspec": {
   "display_name": "Python 3",
   "language": "python",
   "name": "python3"
  },
  "language_info": {
   "codemirror_mode": {
    "name": "ipython",
    "version": 3
   },
   "file_extension": ".py",
   "mimetype": "text/x-python",
   "name": "python",
   "nbconvert_exporter": "python",
   "pygments_lexer": "ipython3",
   "version": "3.8.6"
  }
 },
 "nbformat": 4,
 "nbformat_minor": 4
}
