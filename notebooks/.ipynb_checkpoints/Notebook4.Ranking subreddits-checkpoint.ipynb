{
 "cells": [
  {
   "cell_type": "markdown",
   "metadata": {},
   "source": [
    "# Ranking Subreddits\n",
    "\n",
    "Author: Junita Sirait\n",
    "\n",
    "Aim: to help with feature selection, we rank  subreddits based on their subscribers count. Then we will label them either `news_poltics`, `nonnews_covid`, `popculture`, `other(specify)`\n",
    "\n",
    "Table of content:\n",
    "1. [Reading subreddit file](#sub1)\n",
    "2. [Ranking](#sub2)\n",
    "3. [Creating resulting `csv` file](#sub3)\n",
    "4. [Write `csv`](#sub4)"
   ]
  },
  {
   "cell_type": "code",
   "execution_count": null,
   "metadata": {},
   "outputs": [],
   "source": []
  }
 ],
 "metadata": {
  "kernelspec": {
   "display_name": "Python 3",
   "language": "python",
   "name": "python3"
  },
  "language_info": {
   "codemirror_mode": {
    "name": "ipython",
    "version": 3
   },
   "file_extension": ".py",
   "mimetype": "text/x-python",
   "name": "python",
   "nbconvert_exporter": "python",
   "pygments_lexer": "ipython3",
   "version": "3.8.6"
  }
 },
 "nbformat": 4,
 "nbformat_minor": 4
}
