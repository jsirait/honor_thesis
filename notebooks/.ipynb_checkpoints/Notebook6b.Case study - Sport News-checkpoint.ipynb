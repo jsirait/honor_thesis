{
 "cells": [
  {
   "cell_type": "markdown",
   "metadata": {},
   "source": [
    "# Clustering Small Set of News Sources\n",
    "\n",
    "Junita Sirait\n",
    "\n",
    "For case study purposes"
   ]
  },
  {
   "cell_type": "code",
   "execution_count": 2,
   "metadata": {},
   "outputs": [],
   "source": [
    "import json\n",
    "import csv\n",
    "import pandas as pd\n",
    "import numpy as np\n",
    "import statistics\n",
    "\n",
    "import tldextract\n",
    "\n",
    "from collections import Counter, defaultdict\n",
    "import matplotlib.pyplot as plt\n",
    "import seaborn as sns\n",
    "\n",
    "from sklearn.cluster import KMeans\n",
    "from sklearn.cluster import AgglomerativeClustering\n",
    "\n",
    "from sklearn.preprocessing import StandardScaler\n",
    "from sklearn.preprocessing import MaxAbsScaler\n",
    "\n",
    "from sklearn import preprocessing\n",
    "\n",
    "from sklearn.metrics import silhouette_score\n",
    "from kneed import KneeLocator\n",
    "\n",
    "from scipy.interpolate import make_interp_spline, BSpline\n",
    "\n",
    "from sklearn.decomposition import PCA\n",
    "from sklearn.decomposition import TruncatedSVD\n",
    "\n",
    "import math\n",
    "\n",
    "from sklearn.feature_selection import SelectKBest\n",
    "from sklearn.feature_selection import VarianceThreshold\n",
    "\n",
    "import os"
   ]
  },
  {
   "cell_type": "code",
   "execution_count": 3,
   "metadata": {},
   "outputs": [],
   "source": [
    "sports_subreddits = [\n",
    "    \"Patriots\",\n",
    "    \"GreenBayPackers\",\n",
    "    \"Seahawks\",\n",
    "    \"eagles\",\n",
    "    \"cowboys\",\n",
    "    \"minnesotavikings\",\n",
    "    \"DenverBroncos\",\n",
    "    \"steelers\",\n",
    "    \"49ers\",\n",
    "    \"detroitlions\",\n",
    "    \"falcons\",\n",
    "    \"panthers\",\n",
    "    \"CHIBears\",\n",
    "    \"NYGiants\",\n",
    "    \"Browns\",\n",
    "    \"Texans\",\n",
    "    \"Chargers\",\n",
    "    \"oaklandraiders\",\n",
    "    \"bengals\",\n",
    "    \"buffalobills\",\n",
    "    \"ravens\",\n",
    "    \"Colts\",\n",
    "    \"nyjets\",\n",
    "    \"Redskins\",\n",
    "    \"miamidolphins\",\n",
    "    \"KansasCityChiefs\",\n",
    "    \"Tennesseetitans\",\n",
    "    \"AZCardinals\",\n",
    "    \"Saints\",\n",
    "    \"LosAngelesRams\",\n",
    "    \"Jaguars\",\n",
    "    \"buccaneers\",\n",
    "    \"StLouisRams\",\n",
    "    \"warriors\",\n",
    "    \"clevelandcavs\",\n",
    "    \"lakers\",\n",
    "    \"chicagobulls\",\n",
    "    \"torontoraptors\",\n",
    "    \"bostonceltics\",\n",
    "    \"NYKnicks\",\n",
    "    \"sixers\",\n",
    "    \"rockets\",\n",
    "    \"Thunder\",\n",
    "    \"NBASpurs\",\n",
    "    \"heat\",\n",
    "    \"timberwolves\",\n",
    "    \"AtlantaHawks\",\n",
    "    \"Mavericks\",\n",
    "    \"kings\",\n",
    "    \"MkeBucks\",\n",
    "    \"LAClippers\",\n",
    "    \"suns\",\n",
    "    \"CharlotteHornets\",\n",
    "    \"washingtonwizards\",\n",
    "    \"DetroitPistons\",\n",
    "    \"pacers\",\n",
    "    \"OrlandoMagic\",\n",
    "    \"GoNets\",\n",
    "    \"NOLAPelicans\",\n",
    "    \"denvernuggets\",\n",
    "    \"UtahJazz\",\n",
    "    \"memphisgrizzlies\",\n",
    "    \"reddevils\",\n",
    "    \"Gunners\",\n",
    "    \"LiverpoolFC\",\n",
    "    \"chelseafc\",\n",
    "    \"coys\",\n",
    "    \"MCFC\",\n",
    "    \"Everton\",\n",
    "    \"Hammers\",\n",
    "    \"SaintsFC\",\n",
    "    \"lcfc\",\n",
    "    \"swanseacity\",\n",
    "    \"crystalpalace\",\n",
    "    \"safc\",\n",
    "    \"watford_FC\",\n",
    "    \"WBAfootball\",\n",
    "    \"AFCBournemouth\",\n",
    "    \"HullCity\",\n",
    "    \"StokeCityFC\",\n",
    "    \"Burnley\",\n",
    "    \"Middlesbrough\"\n",
    "]"
   ]
  },
  {
   "cell_type": "markdown",
   "metadata": {},
   "source": [
    "<a id=\"sub1\"></a>\n",
    "## Subreddit data"
   ]
  },
  {
   "cell_type": "code",
   "execution_count": 4,
   "metadata": {},
   "outputs": [],
   "source": [
    "pd = os.path.split(os.getcwd())[0]\n",
    "data_fp = os.path.join(pd,\"data/gm-newssources-subreddits\")\n",
    "dfp = os.path.join(pd,\"data\")\n",
    "mbfc_path = os.path.join(pd, \"data/mbfc\")"
   ]
  },
  {
   "cell_type": "code",
   "execution_count": 5,
   "metadata": {},
   "outputs": [],
   "source": [
    "with open (os.path.join(dfp,\"gmm_intersection.json\"), \"r\", encoding = \"utf-8\") as infile:\n",
    "    gmm_intersection = json.load(infile)"
   ]
  },
  {
   "cell_type": "code",
   "execution_count": 6,
   "metadata": {},
   "outputs": [
    {
     "data": {
      "text/plain": [
       "1631"
      ]
     },
     "execution_count": 6,
     "metadata": {},
     "output_type": "execute_result"
    }
   ],
   "source": [
    "len(gmm_intersection)"
   ]
  },
  {
   "cell_type": "code",
   "execution_count": 7,
   "metadata": {},
   "outputs": [],
   "source": [
    "with open (os.path.join(dfp,\"gm_intersection.json\"), \"r\", encoding = \"utf-8\") as infile:\n",
    "    gm_intersection = json.load(infile)"
   ]
  },
  {
   "cell_type": "code",
   "execution_count": 8,
   "metadata": {},
   "outputs": [
    {
     "data": {
      "text/plain": [
       "42477"
      ]
     },
     "execution_count": 8,
     "metadata": {},
     "output_type": "execute_result"
    }
   ],
   "source": [
    "len(gm_intersection)"
   ]
  },
  {
   "cell_type": "code",
   "execution_count": 9,
   "metadata": {},
   "outputs": [],
   "source": [
    "# Reading in all the subreddits in our files\n",
    "\n",
    "with open(os.path.join(data_fp,\"subreddit_ns_2021-01.json\"), \"r\", encoding = \"utf-8\") as infile1a:\n",
    "    subreddit_ns_jan = json.load(infile1a)\n",
    "\n",
    "with open(os.path.join(data_fp,\"subreddit_ns_2021-02.json\"), \"r\", encoding = \"utf-8\") as infile2a:\n",
    "    subreddit_ns_feb = json.load(infile2a)\n",
    "    \n",
    "with open(os.path.join(data_fp,\"subreddit_ns_2021-03.json\"), \"r\", encoding = \"utf-8\") as infile3a:\n",
    "    subreddit_ns_march = json.load(infile3a)\n",
    "    \n",
    "with open(os.path.join(data_fp,\"subreddit_ns_2021-04.json\"), \"r\", encoding = \"utf-8\") as infile4a:\n",
    "    subreddit_ns_april = json.load(infile4a)\n",
    "    \n",
    "with open(os.path.join(data_fp,\"subreddit_ns_2021-05.json\"), \"r\", encoding = \"utf-8\") as infile5a:\n",
    "    subreddit_ns_may = json.load(infile5a)\n",
    "    \n",
    "with open(os.path.join(data_fp,\"subreddit_ns_2021-06.json\"), \"r\", encoding = \"utf-8\") as infile6a:\n",
    "    subreddit_ns_jun = json.load(infile6a)"
   ]
  },
  {
   "cell_type": "code",
   "execution_count": 10,
   "metadata": {},
   "outputs": [],
   "source": [
    "# ns_subreddit\n",
    "with open(os.path.join(data_fp,\"ns_subreddit_2021-01.json\")) as infile1:\n",
    "    ns_subreddit_01 = json.load(infile1)\n",
    "    \n",
    "with open(os.path.join(data_fp,\"ns_subreddit_2021-02.json\")) as infile2:\n",
    "    ns_subreddit_02 = json.load(infile2)\n",
    "    \n",
    "with open(os.path.join(data_fp,\"ns_subreddit_2021-03.json\")) as infile3:\n",
    "    ns_subreddit_03 = json.load(infile3)\n",
    "    \n",
    "with open(os.path.join(data_fp,\"ns_subreddit_2021-04.json\")) as infile4:\n",
    "    ns_subreddit_04 = json.load(infile4)\n",
    "    \n",
    "with open(os.path.join(data_fp,\"ns_subreddit_2021-05.json\")) as infile5:\n",
    "    ns_subreddit_05 = json.load(infile5)\n",
    "    \n",
    "with open(os.path.join(data_fp,\"ns_subreddit_2021-06.json\")) as infile6:\n",
    "    ns_subreddit_06 = json.load(infile6)"
   ]
  },
  {
   "cell_type": "markdown",
   "metadata": {},
   "source": [
    "## Let's only use subreddits in `sports_subreddits` for this case study"
   ]
  },
  {
   "cell_type": "code",
   "execution_count": 11,
   "metadata": {},
   "outputs": [],
   "source": [
    "# filtering all files\n",
    "subreddit_ns_jan = {k: subreddit_ns_jan[k] for k in subreddit_ns_jan.keys() & set(sports_subreddits)}\n",
    "subreddit_ns_feb = {k: subreddit_ns_feb[k] for k in subreddit_ns_feb.keys() & set(sports_subreddits)}\n",
    "subreddit_ns_march = {k: subreddit_ns_march[k] for k in subreddit_ns_march.keys() & set(sports_subreddits)}\n",
    "subreddit_ns_april = {k: subreddit_ns_april[k] for k in subreddit_ns_april.keys() & set(sports_subreddits)}\n",
    "subreddit_ns_may = {k: subreddit_ns_may[k] for k in subreddit_ns_may.keys() & set(sports_subreddits)}\n",
    "subreddit_ns_jun = {k: subreddit_ns_jun[k] for k in subreddit_ns_jun.keys() & set(sports_subreddits)}"
   ]
  },
  {
   "cell_type": "code",
   "execution_count": 12,
   "metadata": {},
   "outputs": [],
   "source": [
    "files_sub = [subreddit_ns_jan, subreddit_ns_feb, subreddit_ns_march, subreddit_ns_april, subreddit_ns_may, subreddit_ns_jun]\n",
    "files_ns = [ns_subreddit_01, ns_subreddit_02, ns_subreddit_03, ns_subreddit_04, ns_subreddit_05, ns_subreddit_06]"
   ]
  },
  {
   "cell_type": "code",
   "execution_count": 14,
   "metadata": {},
   "outputs": [],
   "source": [
    "sr_union_old = set(sports_subreddits) & (\n",
    "      set(subreddit_ns_jan) | set(subreddit_ns_feb) |\n",
    "      set(subreddit_ns_march) | set(subreddit_ns_april) |\n",
    "      set(subreddit_ns_may) | set(subreddit_ns_jun))"
   ]
  },
  {
   "cell_type": "code",
   "execution_count": 15,
   "metadata": {},
   "outputs": [
    {
     "data": {
      "text/plain": [
       "80"
      ]
     },
     "execution_count": 15,
     "metadata": {},
     "output_type": "execute_result"
    }
   ],
   "source": [
    "len(sr_union_old)"
   ]
  },
  {
   "cell_type": "code",
   "execution_count": 16,
   "metadata": {},
   "outputs": [
    {
     "data": {
      "text/plain": [
       "82"
      ]
     },
     "execution_count": 16,
     "metadata": {},
     "output_type": "execute_result"
    }
   ],
   "source": [
    "len(sports_subreddits)"
   ]
  },
  {
   "cell_type": "markdown",
   "metadata": {},
   "source": [
    "Removing \"reddit.com\" and non_news from files_sub"
   ]
  },
  {
   "cell_type": "code",
   "execution_count": 17,
   "metadata": {},
   "outputs": [
    {
     "data": {
      "text/plain": [
       "130"
      ]
     },
     "execution_count": 17,
     "metadata": {},
     "output_type": "execute_result"
    }
   ],
   "source": [
    "non_news = []\n",
    "with open(\"non_news.csv\", \"r\", encoding=\"utf-8\") as nn:\n",
    "    r = csv.reader(nn, delimiter=\",\")\n",
    "    counter = 0\n",
    "    for row in r:\n",
    "        if counter != 0:\n",
    "            non_news.append(row[0])\n",
    "        counter += 1\n",
    "len(non_news)"
   ]
  },
  {
   "cell_type": "code",
   "execution_count": 18,
   "metadata": {},
   "outputs": [
    {
     "name": "stdout",
     "output_type": "stream",
     "text": [
      "Done for a file\n",
      "Done for a file\n",
      "Done for a file\n",
      "Done for a file\n",
      "Done for a file\n",
      "Done for a file\n"
     ]
    }
   ],
   "source": [
    "for f in files_sub:\n",
    "    for n in f:\n",
    "        if 'reddit.com' in f[n]: f[n].pop('reddit.com')\n",
    "        # removing each of the non_news\n",
    "        for nns in non_news:\n",
    "            if nns in f[n]: f[n].pop(nns)\n",
    "    print(\"Done for a file\")"
   ]
  },
  {
   "cell_type": "markdown",
   "metadata": {},
   "source": [
    "Now that we have removed non_news from various subreddits, there would be subreddits that now does not have anything inside. Let's get rid of these subreddits as well."
   ]
  },
  {
   "cell_type": "code",
   "execution_count": 19,
   "metadata": {},
   "outputs": [],
   "source": [
    "files_sub = [subreddit_ns_jan, subreddit_ns_feb, subreddit_ns_march, subreddit_ns_april, subreddit_ns_may, subreddit_ns_jun]\n",
    "files_ns = [ns_subreddit_01, ns_subreddit_02, ns_subreddit_03, ns_subreddit_04, ns_subreddit_05, ns_subreddit_06]"
   ]
  },
  {
   "cell_type": "code",
   "execution_count": 20,
   "metadata": {},
   "outputs": [
    {
     "name": "stdout",
     "output_type": "stream",
     "text": [
      "1\n",
      "done for a file\n",
      "1\n",
      "done for a file\n",
      "3\n",
      "done for a file\n",
      "6\n",
      "done for a file\n",
      "2\n",
      "done for a file\n",
      "2\n",
      "done for a file\n"
     ]
    }
   ],
   "source": [
    "for s in files_sub:\n",
    "    empty_subs = set()\n",
    "    for k in s:\n",
    "        if len(s[k]) == 0: empty_subs.add(k)\n",
    "    print(len(empty_subs))\n",
    "    [s.pop(u) for u in empty_subs]\n",
    "    print(\"done for a file\")"
   ]
  },
  {
   "cell_type": "code",
   "execution_count": 21,
   "metadata": {},
   "outputs": [
    {
     "name": "stdout",
     "output_type": "stream",
     "text": [
      "done for a file\n",
      "done for a file\n",
      "done for a file\n",
      "done for a file\n",
      "done for a file\n",
      "done for a file\n"
     ]
    }
   ],
   "source": [
    "for f in files_sub:\n",
    "    [f.pop(u) for u in empty_subs if u in f]\n",
    "    print(\"done for a file\")"
   ]
  },
  {
   "cell_type": "markdown",
   "metadata": {},
   "source": [
    "Instead of removing from files_ns, I will reconstruct files_ns from files_sub."
   ]
  },
  {
   "cell_type": "code",
   "execution_count": 22,
   "metadata": {},
   "outputs": [],
   "source": [
    "def ns_from_sub(subfile):\n",
    "    d = defaultdict(dict)\n",
    "    for sub in subfile:\n",
    "        for n in subfile[sub]:\n",
    "            d[n][sub] = subfile[sub][n]\n",
    "    return d"
   ]
  },
  {
   "cell_type": "code",
   "execution_count": 23,
   "metadata": {},
   "outputs": [],
   "source": [
    "ns_subreddit_01 = ns_from_sub(subreddit_ns_jan)\n",
    "ns_subreddit_02 = ns_from_sub(subreddit_ns_feb)\n",
    "ns_subreddit_03 = ns_from_sub(subreddit_ns_march)\n",
    "ns_subreddit_04 = ns_from_sub(subreddit_ns_april)\n",
    "ns_subreddit_05 = ns_from_sub(subreddit_ns_may)\n",
    "ns_subreddit_06 = ns_from_sub(subreddit_ns_jun)"
   ]
  },
  {
   "cell_type": "code",
   "execution_count": 24,
   "metadata": {},
   "outputs": [
    {
     "data": {
      "text/plain": [
       "False"
      ]
     },
     "execution_count": 24,
     "metadata": {},
     "output_type": "execute_result"
    }
   ],
   "source": [
    "\"reddit.com\" in ns_subreddit_01"
   ]
  },
  {
   "cell_type": "markdown",
   "metadata": {},
   "source": [
    "Let's use the intersection in an alphabetical order as a fixed order of our subreddits."
   ]
  },
  {
   "cell_type": "code",
   "execution_count": 25,
   "metadata": {},
   "outputs": [],
   "source": [
    "subs = sorted(set(subreddit_ns_jan) & set(subreddit_ns_feb) &\n",
    "      set(subreddit_ns_march) & set(subreddit_ns_april) &\n",
    "      set(subreddit_ns_may) & set(subreddit_ns_jun))"
   ]
  },
  {
   "cell_type": "code",
   "execution_count": 26,
   "metadata": {
    "scrolled": true
   },
   "outputs": [
    {
     "data": {
      "text/plain": [
       "74"
      ]
     },
     "execution_count": 26,
     "metadata": {},
     "output_type": "execute_result"
    }
   ],
   "source": [
    "len(subs)"
   ]
  },
  {
   "cell_type": "markdown",
   "metadata": {},
   "source": [
    "## Intersections and unions of subreddits"
   ]
  },
  {
   "cell_type": "code",
   "execution_count": 27,
   "metadata": {
    "scrolled": true
   },
   "outputs": [
    {
     "name": "stdout",
     "output_type": "stream",
     "text": [
      "intersection: 74\n"
     ]
    }
   ],
   "source": [
    "# what about their intersection?\n",
    "sr_intersection = (\n",
    "      set(subreddit_ns_jan) & set(subreddit_ns_feb) &\n",
    "      set(subreddit_ns_march) & set(subreddit_ns_april) &\n",
    "      set(subreddit_ns_may) & set(subreddit_ns_jun))\n",
    "\n",
    "print(\"intersection:\", len(sr_intersection))"
   ]
  },
  {
   "cell_type": "code",
   "execution_count": 28,
   "metadata": {},
   "outputs": [
    {
     "name": "stdout",
     "output_type": "stream",
     "text": [
      "union: 78\n"
     ]
    }
   ],
   "source": [
    "sr_union = (\n",
    "      set(subreddit_ns_jan) | set(subreddit_ns_feb) |\n",
    "      set(subreddit_ns_march) | set(subreddit_ns_april) |\n",
    "      set(subreddit_ns_may) | set(subreddit_ns_jun))\n",
    "\n",
    "print(\"union:\", len(sr_union))"
   ]
  },
  {
   "cell_type": "markdown",
   "metadata": {},
   "source": [
    "<a id=\"sub2\"></a>\n",
    "## News sources data"
   ]
  },
  {
   "cell_type": "markdown",
   "metadata": {},
   "source": [
    "How many news sources are there?"
   ]
  },
  {
   "cell_type": "code",
   "execution_count": 29,
   "metadata": {},
   "outputs": [
    {
     "data": {
      "text/plain": [
       "1311"
      ]
     },
     "execution_count": 29,
     "metadata": {},
     "output_type": "execute_result"
    }
   ],
   "source": [
    "# union\n",
    "ns_union = (set(ns_subreddit_01) |\n",
    "       set(ns_subreddit_02) |\n",
    "       set(ns_subreddit_03) |\n",
    "       set(ns_subreddit_04) |\n",
    "       set(ns_subreddit_05) |\n",
    "       set(ns_subreddit_06))\n",
    "\n",
    "len(ns_union)"
   ]
  },
  {
   "cell_type": "code",
   "execution_count": 30,
   "metadata": {},
   "outputs": [],
   "source": [
    "nss = (set(ns_subreddit_01) &\n",
    "       set(ns_subreddit_02) &\n",
    "       set(ns_subreddit_03) &\n",
    "       set(ns_subreddit_04) &\n",
    "       set(ns_subreddit_05) &\n",
    "       set(ns_subreddit_06))"
   ]
  },
  {
   "cell_type": "code",
   "execution_count": 31,
   "metadata": {},
   "outputs": [
    {
     "data": {
      "text/plain": [
       "234"
      ]
     },
     "execution_count": 31,
     "metadata": {},
     "output_type": "execute_result"
    }
   ],
   "source": [
    "num_ns = len(nss)\n",
    "num_ns"
   ]
  },
  {
   "cell_type": "markdown",
   "metadata": {},
   "source": [
    "## For each news source, let's count in how many subreddits they appear"
   ]
  },
  {
   "cell_type": "code",
   "execution_count": 32,
   "metadata": {},
   "outputs": [],
   "source": [
    "subreddit_count = dict()\n",
    "for ns in ns_union:\n",
    "    subreddit_count[ns] = len(set(ns_subreddit_01.get(ns, dict()).keys()) \n",
    "                               | set(ns_subreddit_02.get(ns, dict()).keys()) \n",
    "                               | set(ns_subreddit_03.get(ns, dict()).keys()) \n",
    "                               | set(ns_subreddit_04.get(ns, dict()).keys())\n",
    "                               | set(ns_subreddit_05.get(ns, dict()).keys()) \n",
    "                               | set(ns_subreddit_06.get(ns, dict()).keys()))"
   ]
  },
  {
   "cell_type": "markdown",
   "metadata": {},
   "source": [
    "`subreddit_count` stores in how many subreddits each news source appears."
   ]
  },
  {
   "cell_type": "code",
   "execution_count": 33,
   "metadata": {},
   "outputs": [
    {
     "data": {
      "text/plain": [
       "44"
      ]
     },
     "execution_count": 33,
     "metadata": {},
     "output_type": "execute_result"
    }
   ],
   "source": [
    "subreddit_count['nytimes.com']"
   ]
  },
  {
   "cell_type": "code",
   "execution_count": 34,
   "metadata": {},
   "outputs": [
    {
     "data": {
      "text/plain": [
       "{1: 691,\n",
       " 2: 201,\n",
       " 3: 105,\n",
       " 4: 71,\n",
       " 5: 56,\n",
       " 6: 36,\n",
       " 7: 26,\n",
       " 8: 18,\n",
       " 9: 12,\n",
       " 10: 10,\n",
       " 11: 10,\n",
       " 12: 5,\n",
       " 14: 5,\n",
       " 18: 5,\n",
       " 15: 4,\n",
       " 30: 4,\n",
       " 17: 4,\n",
       " 46: 3,\n",
       " 32: 3,\n",
       " 13: 3,\n",
       " 20: 3,\n",
       " 41: 3,\n",
       " 25: 2,\n",
       " 23: 2,\n",
       " 24: 2,\n",
       " 29: 2,\n",
       " 31: 2,\n",
       " 50: 2,\n",
       " 62: 1,\n",
       " 19: 1,\n",
       " 60: 1,\n",
       " 22: 1,\n",
       " 21: 1,\n",
       " 51: 1,\n",
       " 70: 1,\n",
       " 27: 1,\n",
       " 16: 1,\n",
       " 66: 1,\n",
       " 65: 1,\n",
       " 48: 1,\n",
       " 45: 1,\n",
       " 64: 1,\n",
       " 34: 1,\n",
       " 42: 1,\n",
       " 37: 1,\n",
       " 28: 1,\n",
       " 71: 1,\n",
       " 26: 1,\n",
       " 44: 1}"
      ]
     },
     "execution_count": 34,
     "metadata": {},
     "output_type": "execute_result"
    }
   ],
   "source": [
    "subreddit_count_freq = dict(Counter(subreddit_count.values()).most_common())\n",
    "subreddit_count_freq"
   ]
  },
  {
   "cell_type": "markdown",
   "metadata": {},
   "source": [
    "`subreddit_count_freq` keeps track of how many news sources appear in *n* subreddits for all possible *n*."
   ]
  },
  {
   "cell_type": "code",
   "execution_count": 35,
   "metadata": {},
   "outputs": [
    {
     "data": {
      "text/plain": [
       "71"
      ]
     },
     "execution_count": 35,
     "metadata": {},
     "output_type": "execute_result"
    }
   ],
   "source": [
    "max(subreddit_count_freq.keys())"
   ]
  },
  {
   "cell_type": "code",
   "execution_count": 36,
   "metadata": {},
   "outputs": [
    {
     "name": "stdout",
     "output_type": "stream",
     "text": [
      "theathletic.com is mentioned in 71 subreddits.\n",
      "espn.com is mentioned in 70 subreddits.\n",
      "bleacherreport.com is mentioned in 66 subreddits.\n",
      "cbssports.com is mentioned in 65 subreddits.\n",
      "si.com is mentioned in 64 subreddits.\n",
      "nbcsports.com is mentioned in 62 subreddits.\n",
      "usatoday.com is mentioned in 60 subreddits.\n",
      "prosportsextra.com is mentioned in 51 subreddits.\n",
      "sbnation.com is mentioned in 50 subreddits.\n",
      "theringer.com is mentioned in 50 subreddits.\n",
      "thescore.com is mentioned in 48 subreddits.\n",
      "msn.com is mentioned in 46 subreddits.\n",
      "fansided.com is mentioned in 46 subreddits.\n",
      "fivethirtyeight.com is mentioned in 46 subreddits.\n",
      "bolavip.com is mentioned in 45 subreddits.\n",
      "nytimes.com is mentioned in 44 subreddits.\n",
      "foxsports.com is mentioned in 42 subreddits.\n",
      "forbes.com is mentioned in 41 subreddits.\n",
      "nypost.com is mentioned in 41 subreddits.\n",
      "clutchpoints.com is mentioned in 41 subreddits.\n"
     ]
    }
   ],
   "source": [
    "sde_ranked = Counter(subreddit_count).most_common()\n",
    "\n",
    "for t in sde_ranked[:20]:\n",
    "    sr, co = t\n",
    "    if co > 1:\n",
    "        print(f\"{sr} is mentioned in {co} subreddits.\")"
   ]
  },
  {
   "cell_type": "code",
   "execution_count": 37,
   "metadata": {},
   "outputs": [
    {
     "data": {
      "text/plain": [
       "True"
      ]
     },
     "execution_count": 37,
     "metadata": {},
     "output_type": "execute_result"
    }
   ],
   "source": [
    "sum(subreddit_count_freq.values()) == len(ns_union)"
   ]
  },
  {
   "cell_type": "code",
   "execution_count": 38,
   "metadata": {},
   "outputs": [],
   "source": [
    "import itertools"
   ]
  },
  {
   "cell_type": "code",
   "execution_count": 39,
   "metadata": {},
   "outputs": [],
   "source": [
    "scf = list(itertools.chain.from_iterable(itertools.repeat(k,v) for k,v in subreddit_count_freq.items()))"
   ]
  },
  {
   "cell_type": "code",
   "execution_count": 40,
   "metadata": {
    "scrolled": true
   },
   "outputs": [
    {
     "data": {
      "text/plain": [
       "Text(0.5, 1.0, 'number of news sources appearing in x subreddits')"
      ]
     },
     "execution_count": 40,
     "metadata": {},
     "output_type": "execute_result"
    },
    {
     "data": {
      "image/png": "[encoded data removed]",
      "text/plain": [
       "<Figure size 432x288 with 1 Axes>"
      ]
     },
     "metadata": {
      "needs_background": "light"
     },
     "output_type": "display_data"
    }
   ],
   "source": [
    "# sns.histplot([math.log(s,10) for s in scf])\n",
    "sns.histplot(scf, log_scale=True)\n",
    "plt.xlabel(\"number of subreddit\")\n",
    "plt.ylabel(\"news source count\")\n",
    "plt.title(\"number of news sources appearing in x subreddits\")"
   ]
  },
  {
   "cell_type": "markdown",
   "metadata": {},
   "source": [
    "How many news sources only appear in 10 subreddits or less? what about 9 or 8?"
   ]
  },
  {
   "cell_type": "code",
   "execution_count": 41,
   "metadata": {},
   "outputs": [],
   "source": [
    "def pct_ns_in_k_subreddits(ks):\n",
    "    ns_in_i_subreddit = [k for k in subreddit_count if subreddit_count[k] <= ks]\n",
    "    count = len(ns_in_i_subreddit)\n",
    "    print(\"There are {} news sources appearing in only {} subreddits or less ({}%)\".format(count, ks, count/len(ns_union)))\n",
    "    return count/len(ns_union)"
   ]
  },
  {
   "cell_type": "code",
   "execution_count": 42,
   "metadata": {},
   "outputs": [
    {
     "name": "stdout",
     "output_type": "stream",
     "text": [
      "There are 1124 news sources appearing in only 5 subreddits or less (0.8573607932875668%)\n"
     ]
    },
    {
     "data": {
      "text/plain": [
       "0.8573607932875668"
      ]
     },
     "execution_count": 42,
     "metadata": {},
     "output_type": "execute_result"
    }
   ],
   "source": [
    "pct_ns_in_k_subreddits(5)"
   ]
  },
  {
   "cell_type": "code",
   "execution_count": 43,
   "metadata": {},
   "outputs": [
    {
     "data": {
      "text/plain": [
       "196.65"
      ]
     },
     "execution_count": 43,
     "metadata": {},
     "output_type": "execute_result"
    }
   ],
   "source": [
    "0.15*len(ns_union)"
   ]
  },
  {
   "cell_type": "code",
   "execution_count": 44,
   "metadata": {},
   "outputs": [
    {
     "name": "stdout",
     "output_type": "stream",
     "text": [
      "There are 0 news sources appearing in only 0 subreddits or less (0.0%)\n",
      "There are 691 news sources appearing in only 1 subreddits or less (0.5270785659801678%)\n",
      "There are 892 news sources appearing in only 2 subreddits or less (0.6803966437833715%)\n",
      "There are 997 news sources appearing in only 3 subreddits or less (0.7604881769641495%)\n",
      "There are 1068 news sources appearing in only 4 subreddits or less (0.8146453089244852%)\n",
      "There are 1124 news sources appearing in only 5 subreddits or less (0.8573607932875668%)\n",
      "There are 1160 news sources appearing in only 6 subreddits or less (0.8848207475209764%)\n",
      "There are 1186 news sources appearing in only 7 subreddits or less (0.9046529366895499%)\n",
      "There are 1204 news sources appearing in only 8 subreddits or less (0.9183829138062548%)\n",
      "There are 1216 news sources appearing in only 9 subreddits or less (0.927536231884058%)\n",
      "There are 1226 news sources appearing in only 10 subreddits or less (0.935163996948894%)\n",
      "There are 1236 news sources appearing in only 11 subreddits or less (0.9427917620137299%)\n",
      "There are 1241 news sources appearing in only 12 subreddits or less (0.9466056445461479%)\n",
      "There are 1244 news sources appearing in only 13 subreddits or less (0.9488939740655988%)\n",
      "There are 1249 news sources appearing in only 14 subreddits or less (0.9527078565980168%)\n",
      "There are 1253 news sources appearing in only 15 subreddits or less (0.9557589626239512%)\n",
      "There are 1254 news sources appearing in only 16 subreddits or less (0.9565217391304348%)\n",
      "There are 1258 news sources appearing in only 17 subreddits or less (0.9595728451563692%)\n",
      "There are 1263 news sources appearing in only 18 subreddits or less (0.9633867276887872%)\n",
      "There are 1264 news sources appearing in only 19 subreddits or less (0.9641495041952708%)\n",
      "There are 1267 news sources appearing in only 20 subreddits or less (0.9664378337147216%)\n",
      "There are 1268 news sources appearing in only 21 subreddits or less (0.9672006102212052%)\n",
      "There are 1269 news sources appearing in only 22 subreddits or less (0.9679633867276888%)\n",
      "There are 1271 news sources appearing in only 23 subreddits or less (0.969488939740656%)\n",
      "There are 1273 news sources appearing in only 24 subreddits or less (0.9710144927536232%)\n",
      "There are 1275 news sources appearing in only 25 subreddits or less (0.9725400457665904%)\n",
      "There are 1276 news sources appearing in only 26 subreddits or less (0.973302822273074%)\n",
      "There are 1277 news sources appearing in only 27 subreddits or less (0.9740655987795576%)\n",
      "There are 1278 news sources appearing in only 28 subreddits or less (0.9748283752860412%)\n",
      "There are 1280 news sources appearing in only 29 subreddits or less (0.9763539282990084%)\n",
      "There are 1284 news sources appearing in only 30 subreddits or less (0.9794050343249427%)\n",
      "There are 1286 news sources appearing in only 31 subreddits or less (0.9809305873379099%)\n",
      "There are 1289 news sources appearing in only 32 subreddits or less (0.9832189168573608%)\n",
      "There are 1289 news sources appearing in only 33 subreddits or less (0.9832189168573608%)\n",
      "There are 1290 news sources appearing in only 34 subreddits or less (0.9839816933638444%)\n",
      "There are 1290 news sources appearing in only 35 subreddits or less (0.9839816933638444%)\n",
      "There are 1290 news sources appearing in only 36 subreddits or less (0.9839816933638444%)\n",
      "There are 1291 news sources appearing in only 37 subreddits or less (0.984744469870328%)\n",
      "There are 1291 news sources appearing in only 38 subreddits or less (0.984744469870328%)\n",
      "There are 1291 news sources appearing in only 39 subreddits or less (0.984744469870328%)\n",
      "There are 1291 news sources appearing in only 40 subreddits or less (0.984744469870328%)\n",
      "There are 1294 news sources appearing in only 41 subreddits or less (0.9870327993897788%)\n",
      "There are 1295 news sources appearing in only 42 subreddits or less (0.9877955758962624%)\n",
      "There are 1295 news sources appearing in only 43 subreddits or less (0.9877955758962624%)\n",
      "There are 1296 news sources appearing in only 44 subreddits or less (0.988558352402746%)\n",
      "There are 1297 news sources appearing in only 45 subreddits or less (0.9893211289092296%)\n",
      "There are 1300 news sources appearing in only 46 subreddits or less (0.9916094584286804%)\n",
      "There are 1300 news sources appearing in only 47 subreddits or less (0.9916094584286804%)\n",
      "There are 1301 news sources appearing in only 48 subreddits or less (0.992372234935164%)\n",
      "There are 1301 news sources appearing in only 49 subreddits or less (0.992372234935164%)\n",
      "There are 1303 news sources appearing in only 50 subreddits or less (0.9938977879481312%)\n",
      "There are 1304 news sources appearing in only 51 subreddits or less (0.9946605644546148%)\n",
      "There are 1304 news sources appearing in only 52 subreddits or less (0.9946605644546148%)\n",
      "There are 1304 news sources appearing in only 53 subreddits or less (0.9946605644546148%)\n",
      "There are 1304 news sources appearing in only 54 subreddits or less (0.9946605644546148%)\n",
      "There are 1304 news sources appearing in only 55 subreddits or less (0.9946605644546148%)\n",
      "There are 1304 news sources appearing in only 56 subreddits or less (0.9946605644546148%)\n",
      "There are 1304 news sources appearing in only 57 subreddits or less (0.9946605644546148%)\n",
      "There are 1304 news sources appearing in only 58 subreddits or less (0.9946605644546148%)\n",
      "There are 1304 news sources appearing in only 59 subreddits or less (0.9946605644546148%)\n",
      "There are 1305 news sources appearing in only 60 subreddits or less (0.9954233409610984%)\n",
      "There are 1305 news sources appearing in only 61 subreddits or less (0.9954233409610984%)\n",
      "There are 1306 news sources appearing in only 62 subreddits or less (0.996186117467582%)\n",
      "There are 1306 news sources appearing in only 63 subreddits or less (0.996186117467582%)\n",
      "There are 1307 news sources appearing in only 64 subreddits or less (0.9969488939740656%)\n",
      "There are 1308 news sources appearing in only 65 subreddits or less (0.9977116704805492%)\n",
      "There are 1309 news sources appearing in only 66 subreddits or less (0.9984744469870328%)\n",
      "There are 1309 news sources appearing in only 67 subreddits or less (0.9984744469870328%)\n",
      "There are 1309 news sources appearing in only 68 subreddits or less (0.9984744469870328%)\n",
      "There are 1309 news sources appearing in only 69 subreddits or less (0.9984744469870328%)\n",
      "There are 1310 news sources appearing in only 70 subreddits or less (0.9992372234935164%)\n",
      "There are 1311 news sources appearing in only 71 subreddits or less (1.0%)\n",
      "There are 1311 news sources appearing in only 72 subreddits or less (1.0%)\n",
      "There are 1311 news sources appearing in only 73 subreddits or less (1.0%)\n",
      "There are 1311 news sources appearing in only 74 subreddits or less (1.0%)\n",
      "There are 1311 news sources appearing in only 75 subreddits or less (1.0%)\n",
      "There are 1311 news sources appearing in only 76 subreddits or less (1.0%)\n",
      "There are 1311 news sources appearing in only 77 subreddits or less (1.0%)\n",
      "There are 1311 news sources appearing in only 78 subreddits or less (1.0%)\n",
      "There are 1311 news sources appearing in only 79 subreddits or less (1.0%)\n",
      "There are 1311 news sources appearing in only 80 subreddits or less (1.0%)\n",
      "There are 1311 news sources appearing in only 81 subreddits or less (1.0%)\n",
      "There are 1311 news sources appearing in only 82 subreddits or less (1.0%)\n",
      "There are 1311 news sources appearing in only 83 subreddits or less (1.0%)\n",
      "There are 1311 news sources appearing in only 84 subreddits or less (1.0%)\n",
      "There are 1311 news sources appearing in only 85 subreddits or less (1.0%)\n",
      "There are 1311 news sources appearing in only 86 subreddits or less (1.0%)\n",
      "There are 1311 news sources appearing in only 87 subreddits or less (1.0%)\n",
      "There are 1311 news sources appearing in only 88 subreddits or less (1.0%)\n",
      "There are 1311 news sources appearing in only 89 subreddits or less (1.0%)\n",
      "There are 1311 news sources appearing in only 90 subreddits or less (1.0%)\n",
      "There are 1311 news sources appearing in only 91 subreddits or less (1.0%)\n",
      "There are 1311 news sources appearing in only 92 subreddits or less (1.0%)\n",
      "There are 1311 news sources appearing in only 93 subreddits or less (1.0%)\n",
      "There are 1311 news sources appearing in only 94 subreddits or less (1.0%)\n",
      "There are 1311 news sources appearing in only 95 subreddits or less (1.0%)\n",
      "There are 1311 news sources appearing in only 96 subreddits or less (1.0%)\n",
      "There are 1311 news sources appearing in only 97 subreddits or less (1.0%)\n",
      "There are 1311 news sources appearing in only 98 subreddits or less (1.0%)\n",
      "There are 1311 news sources appearing in only 99 subreddits or less (1.0%)\n",
      "There are 1311 news sources appearing in only 100 subreddits or less (1.0%)\n",
      "There are 1311 news sources appearing in only 101 subreddits or less (1.0%)\n",
      "There are 1311 news sources appearing in only 102 subreddits or less (1.0%)\n",
      "There are 1311 news sources appearing in only 103 subreddits or less (1.0%)\n",
      "There are 1311 news sources appearing in only 104 subreddits or less (1.0%)\n",
      "There are 1311 news sources appearing in only 105 subreddits or less (1.0%)\n",
      "There are 1311 news sources appearing in only 106 subreddits or less (1.0%)\n",
      "There are 1311 news sources appearing in only 107 subreddits or less (1.0%)\n",
      "There are 1311 news sources appearing in only 108 subreddits or less (1.0%)\n",
      "There are 1311 news sources appearing in only 109 subreddits or less (1.0%)\n",
      "There are 1311 news sources appearing in only 110 subreddits or less (1.0%)\n",
      "There are 1311 news sources appearing in only 111 subreddits or less (1.0%)\n",
      "There are 1311 news sources appearing in only 112 subreddits or less (1.0%)\n",
      "There are 1311 news sources appearing in only 113 subreddits or less (1.0%)\n",
      "There are 1311 news sources appearing in only 114 subreddits or less (1.0%)\n",
      "There are 1311 news sources appearing in only 115 subreddits or less (1.0%)\n",
      "There are 1311 news sources appearing in only 116 subreddits or less (1.0%)\n",
      "There are 1311 news sources appearing in only 117 subreddits or less (1.0%)\n",
      "There are 1311 news sources appearing in only 118 subreddits or less (1.0%)\n",
      "There are 1311 news sources appearing in only 119 subreddits or less (1.0%)\n",
      "There are 1311 news sources appearing in only 120 subreddits or less (1.0%)\n",
      "There are 1311 news sources appearing in only 121 subreddits or less (1.0%)\n",
      "There are 1311 news sources appearing in only 122 subreddits or less (1.0%)\n",
      "There are 1311 news sources appearing in only 123 subreddits or less (1.0%)\n",
      "There are 1311 news sources appearing in only 124 subreddits or less (1.0%)\n",
      "There are 1311 news sources appearing in only 125 subreddits or less (1.0%)\n",
      "There are 1311 news sources appearing in only 126 subreddits or less (1.0%)\n",
      "There are 1311 news sources appearing in only 127 subreddits or less (1.0%)\n",
      "There are 1311 news sources appearing in only 128 subreddits or less (1.0%)\n",
      "There are 1311 news sources appearing in only 129 subreddits or less (1.0%)\n",
      "There are 1311 news sources appearing in only 130 subreddits or less (1.0%)\n",
      "There are 1311 news sources appearing in only 131 subreddits or less (1.0%)\n",
      "There are 1311 news sources appearing in only 132 subreddits or less (1.0%)\n",
      "There are 1311 news sources appearing in only 133 subreddits or less (1.0%)\n",
      "There are 1311 news sources appearing in only 134 subreddits or less (1.0%)\n",
      "There are 1311 news sources appearing in only 135 subreddits or less (1.0%)\n",
      "There are 1311 news sources appearing in only 136 subreddits or less (1.0%)\n",
      "There are 1311 news sources appearing in only 137 subreddits or less (1.0%)\n",
      "There are 1311 news sources appearing in only 138 subreddits or less (1.0%)\n",
      "There are 1311 news sources appearing in only 139 subreddits or less (1.0%)\n",
      "There are 1311 news sources appearing in only 140 subreddits or less (1.0%)\n",
      "There are 1311 news sources appearing in only 141 subreddits or less (1.0%)\n",
      "There are 1311 news sources appearing in only 142 subreddits or less (1.0%)\n",
      "There are 1311 news sources appearing in only 143 subreddits or less (1.0%)\n",
      "There are 1311 news sources appearing in only 144 subreddits or less (1.0%)\n",
      "There are 1311 news sources appearing in only 145 subreddits or less (1.0%)\n",
      "There are 1311 news sources appearing in only 146 subreddits or less (1.0%)\n",
      "There are 1311 news sources appearing in only 147 subreddits or less (1.0%)\n",
      "There are 1311 news sources appearing in only 148 subreddits or less (1.0%)\n",
      "There are 1311 news sources appearing in only 149 subreddits or less (1.0%)\n",
      "There are 1311 news sources appearing in only 150 subreddits or less (1.0%)\n",
      "There are 1311 news sources appearing in only 151 subreddits or less (1.0%)\n",
      "There are 1311 news sources appearing in only 152 subreddits or less (1.0%)\n",
      "There are 1311 news sources appearing in only 153 subreddits or less (1.0%)\n",
      "There are 1311 news sources appearing in only 154 subreddits or less (1.0%)\n",
      "There are 1311 news sources appearing in only 155 subreddits or less (1.0%)\n",
      "There are 1311 news sources appearing in only 156 subreddits or less (1.0%)\n",
      "There are 1311 news sources appearing in only 157 subreddits or less (1.0%)\n",
      "There are 1311 news sources appearing in only 158 subreddits or less (1.0%)\n",
      "There are 1311 news sources appearing in only 159 subreddits or less (1.0%)\n",
      "There are 1311 news sources appearing in only 160 subreddits or less (1.0%)\n",
      "There are 1311 news sources appearing in only 161 subreddits or less (1.0%)\n",
      "There are 1311 news sources appearing in only 162 subreddits or less (1.0%)\n",
      "There are 1311 news sources appearing in only 163 subreddits or less (1.0%)\n",
      "There are 1311 news sources appearing in only 164 subreddits or less (1.0%)\n",
      "There are 1311 news sources appearing in only 165 subreddits or less (1.0%)\n",
      "There are 1311 news sources appearing in only 166 subreddits or less (1.0%)\n",
      "There are 1311 news sources appearing in only 167 subreddits or less (1.0%)\n",
      "There are 1311 news sources appearing in only 168 subreddits or less (1.0%)\n",
      "There are 1311 news sources appearing in only 169 subreddits or less (1.0%)\n",
      "There are 1311 news sources appearing in only 170 subreddits or less (1.0%)\n",
      "There are 1311 news sources appearing in only 171 subreddits or less (1.0%)\n",
      "There are 1311 news sources appearing in only 172 subreddits or less (1.0%)\n",
      "There are 1311 news sources appearing in only 173 subreddits or less (1.0%)\n",
      "There are 1311 news sources appearing in only 174 subreddits or less (1.0%)\n",
      "There are 1311 news sources appearing in only 175 subreddits or less (1.0%)\n",
      "There are 1311 news sources appearing in only 176 subreddits or less (1.0%)\n",
      "There are 1311 news sources appearing in only 177 subreddits or less (1.0%)\n",
      "There are 1311 news sources appearing in only 178 subreddits or less (1.0%)\n",
      "There are 1311 news sources appearing in only 179 subreddits or less (1.0%)\n",
      "There are 1311 news sources appearing in only 180 subreddits or less (1.0%)\n",
      "There are 1311 news sources appearing in only 181 subreddits or less (1.0%)\n",
      "There are 1311 news sources appearing in only 182 subreddits or less (1.0%)\n",
      "There are 1311 news sources appearing in only 183 subreddits or less (1.0%)\n",
      "There are 1311 news sources appearing in only 184 subreddits or less (1.0%)\n",
      "There are 1311 news sources appearing in only 185 subreddits or less (1.0%)\n",
      "There are 1311 news sources appearing in only 186 subreddits or less (1.0%)\n",
      "There are 1311 news sources appearing in only 187 subreddits or less (1.0%)\n",
      "There are 1311 news sources appearing in only 188 subreddits or less (1.0%)\n",
      "There are 1311 news sources appearing in only 189 subreddits or less (1.0%)\n",
      "There are 1311 news sources appearing in only 190 subreddits or less (1.0%)\n",
      "There are 1311 news sources appearing in only 191 subreddits or less (1.0%)\n",
      "There are 1311 news sources appearing in only 192 subreddits or less (1.0%)\n",
      "There are 1311 news sources appearing in only 193 subreddits or less (1.0%)\n",
      "There are 1311 news sources appearing in only 194 subreddits or less (1.0%)\n",
      "There are 1311 news sources appearing in only 195 subreddits or less (1.0%)\n",
      "There are 1311 news sources appearing in only 196 subreddits or less (1.0%)\n",
      "There are 1311 news sources appearing in only 197 subreddits or less (1.0%)\n",
      "There are 1311 news sources appearing in only 198 subreddits or less (1.0%)\n",
      "There are 1311 news sources appearing in only 199 subreddits or less (1.0%)\n",
      "There are 1311 news sources appearing in only 200 subreddits or less (1.0%)\n",
      "There are 1311 news sources appearing in only 201 subreddits or less (1.0%)\n",
      "There are 1311 news sources appearing in only 202 subreddits or less (1.0%)\n",
      "There are 1311 news sources appearing in only 203 subreddits or less (1.0%)\n",
      "There are 1311 news sources appearing in only 204 subreddits or less (1.0%)\n",
      "There are 1311 news sources appearing in only 205 subreddits or less (1.0%)\n",
      "There are 1311 news sources appearing in only 206 subreddits or less (1.0%)\n",
      "There are 1311 news sources appearing in only 207 subreddits or less (1.0%)\n",
      "There are 1311 news sources appearing in only 208 subreddits or less (1.0%)\n",
      "There are 1311 news sources appearing in only 209 subreddits or less (1.0%)\n",
      "There are 1311 news sources appearing in only 210 subreddits or less (1.0%)\n",
      "There are 1311 news sources appearing in only 211 subreddits or less (1.0%)\n",
      "There are 1311 news sources appearing in only 212 subreddits or less (1.0%)\n",
      "There are 1311 news sources appearing in only 213 subreddits or less (1.0%)\n",
      "There are 1311 news sources appearing in only 214 subreddits or less (1.0%)\n",
      "There are 1311 news sources appearing in only 215 subreddits or less (1.0%)\n",
      "There are 1311 news sources appearing in only 216 subreddits or less (1.0%)\n",
      "There are 1311 news sources appearing in only 217 subreddits or less (1.0%)\n",
      "There are 1311 news sources appearing in only 218 subreddits or less (1.0%)\n",
      "There are 1311 news sources appearing in only 219 subreddits or less (1.0%)\n",
      "There are 1311 news sources appearing in only 220 subreddits or less (1.0%)\n",
      "There are 1311 news sources appearing in only 221 subreddits or less (1.0%)\n",
      "There are 1311 news sources appearing in only 222 subreddits or less (1.0%)\n",
      "There are 1311 news sources appearing in only 223 subreddits or less (1.0%)\n",
      "There are 1311 news sources appearing in only 224 subreddits or less (1.0%)\n",
      "There are 1311 news sources appearing in only 225 subreddits or less (1.0%)\n",
      "There are 1311 news sources appearing in only 226 subreddits or less (1.0%)\n",
      "There are 1311 news sources appearing in only 227 subreddits or less (1.0%)\n",
      "There are 1311 news sources appearing in only 228 subreddits or less (1.0%)\n",
      "There are 1311 news sources appearing in only 229 subreddits or less (1.0%)\n",
      "There are 1311 news sources appearing in only 230 subreddits or less (1.0%)\n",
      "There are 1311 news sources appearing in only 231 subreddits or less (1.0%)\n",
      "There are 1311 news sources appearing in only 232 subreddits or less (1.0%)\n",
      "There are 1311 news sources appearing in only 233 subreddits or less (1.0%)\n",
      "There are 1311 news sources appearing in only 234 subreddits or less (1.0%)\n",
      "There are 1311 news sources appearing in only 235 subreddits or less (1.0%)\n",
      "There are 1311 news sources appearing in only 236 subreddits or less (1.0%)\n",
      "There are 1311 news sources appearing in only 237 subreddits or less (1.0%)\n",
      "There are 1311 news sources appearing in only 238 subreddits or less (1.0%)\n",
      "There are 1311 news sources appearing in only 239 subreddits or less (1.0%)\n",
      "There are 1311 news sources appearing in only 240 subreddits or less (1.0%)\n",
      "There are 1311 news sources appearing in only 241 subreddits or less (1.0%)\n",
      "There are 1311 news sources appearing in only 242 subreddits or less (1.0%)\n",
      "There are 1311 news sources appearing in only 243 subreddits or less (1.0%)\n",
      "There are 1311 news sources appearing in only 244 subreddits or less (1.0%)\n",
      "There are 1311 news sources appearing in only 245 subreddits or less (1.0%)\n",
      "There are 1311 news sources appearing in only 246 subreddits or less (1.0%)\n",
      "There are 1311 news sources appearing in only 247 subreddits or less (1.0%)\n",
      "There are 1311 news sources appearing in only 248 subreddits or less (1.0%)\n",
      "There are 1311 news sources appearing in only 249 subreddits or less (1.0%)\n",
      "There are 1311 news sources appearing in only 250 subreddits or less (1.0%)\n",
      "There are 1311 news sources appearing in only 251 subreddits or less (1.0%)\n",
      "There are 1311 news sources appearing in only 252 subreddits or less (1.0%)\n",
      "There are 1311 news sources appearing in only 253 subreddits or less (1.0%)\n",
      "There are 1311 news sources appearing in only 254 subreddits or less (1.0%)\n",
      "There are 1311 news sources appearing in only 255 subreddits or less (1.0%)\n",
      "There are 1311 news sources appearing in only 256 subreddits or less (1.0%)\n",
      "There are 1311 news sources appearing in only 257 subreddits or less (1.0%)\n",
      "There are 1311 news sources appearing in only 258 subreddits or less (1.0%)\n",
      "There are 1311 news sources appearing in only 259 subreddits or less (1.0%)\n",
      "There are 1311 news sources appearing in only 260 subreddits or less (1.0%)\n",
      "There are 1311 news sources appearing in only 261 subreddits or less (1.0%)\n",
      "There are 1311 news sources appearing in only 262 subreddits or less (1.0%)\n",
      "There are 1311 news sources appearing in only 263 subreddits or less (1.0%)\n",
      "There are 1311 news sources appearing in only 264 subreddits or less (1.0%)\n",
      "There are 1311 news sources appearing in only 265 subreddits or less (1.0%)\n",
      "There are 1311 news sources appearing in only 266 subreddits or less (1.0%)\n",
      "There are 1311 news sources appearing in only 267 subreddits or less (1.0%)\n",
      "There are 1311 news sources appearing in only 268 subreddits or less (1.0%)\n",
      "There are 1311 news sources appearing in only 269 subreddits or less (1.0%)\n",
      "There are 1311 news sources appearing in only 270 subreddits or less (1.0%)\n",
      "There are 1311 news sources appearing in only 271 subreddits or less (1.0%)\n",
      "There are 1311 news sources appearing in only 272 subreddits or less (1.0%)\n",
      "There are 1311 news sources appearing in only 273 subreddits or less (1.0%)\n",
      "There are 1311 news sources appearing in only 274 subreddits or less (1.0%)\n",
      "There are 1311 news sources appearing in only 275 subreddits or less (1.0%)\n",
      "There are 1311 news sources appearing in only 276 subreddits or less (1.0%)\n",
      "There are 1311 news sources appearing in only 277 subreddits or less (1.0%)\n",
      "There are 1311 news sources appearing in only 278 subreddits or less (1.0%)\n",
      "There are 1311 news sources appearing in only 279 subreddits or less (1.0%)\n",
      "There are 1311 news sources appearing in only 280 subreddits or less (1.0%)\n",
      "There are 1311 news sources appearing in only 281 subreddits or less (1.0%)\n",
      "There are 1311 news sources appearing in only 282 subreddits or less (1.0%)\n",
      "There are 1311 news sources appearing in only 283 subreddits or less (1.0%)\n",
      "There are 1311 news sources appearing in only 284 subreddits or less (1.0%)\n",
      "There are 1311 news sources appearing in only 285 subreddits or less (1.0%)\n",
      "There are 1311 news sources appearing in only 286 subreddits or less (1.0%)\n",
      "There are 1311 news sources appearing in only 287 subreddits or less (1.0%)\n",
      "There are 1311 news sources appearing in only 288 subreddits or less (1.0%)\n",
      "There are 1311 news sources appearing in only 289 subreddits or less (1.0%)\n",
      "There are 1311 news sources appearing in only 290 subreddits or less (1.0%)\n",
      "There are 1311 news sources appearing in only 291 subreddits or less (1.0%)\n",
      "There are 1311 news sources appearing in only 292 subreddits or less (1.0%)\n",
      "There are 1311 news sources appearing in only 293 subreddits or less (1.0%)\n",
      "There are 1311 news sources appearing in only 294 subreddits or less (1.0%)\n",
      "There are 1311 news sources appearing in only 295 subreddits or less (1.0%)\n",
      "There are 1311 news sources appearing in only 296 subreddits or less (1.0%)\n",
      "There are 1311 news sources appearing in only 297 subreddits or less (1.0%)\n",
      "There are 1311 news sources appearing in only 298 subreddits or less (1.0%)\n",
      "There are 1311 news sources appearing in only 299 subreddits or less (1.0%)\n",
      "There are 1311 news sources appearing in only 300 subreddits or less (1.0%)\n",
      "There are 1311 news sources appearing in only 301 subreddits or less (1.0%)\n",
      "There are 1311 news sources appearing in only 302 subreddits or less (1.0%)\n",
      "There are 1311 news sources appearing in only 303 subreddits or less (1.0%)\n",
      "There are 1311 news sources appearing in only 304 subreddits or less (1.0%)\n",
      "There are 1311 news sources appearing in only 305 subreddits or less (1.0%)\n",
      "There are 1311 news sources appearing in only 306 subreddits or less (1.0%)\n",
      "There are 1311 news sources appearing in only 307 subreddits or less (1.0%)\n",
      "There are 1311 news sources appearing in only 308 subreddits or less (1.0%)\n",
      "There are 1311 news sources appearing in only 309 subreddits or less (1.0%)\n",
      "There are 1311 news sources appearing in only 310 subreddits or less (1.0%)\n",
      "There are 1311 news sources appearing in only 311 subreddits or less (1.0%)\n",
      "There are 1311 news sources appearing in only 312 subreddits or less (1.0%)\n",
      "There are 1311 news sources appearing in only 313 subreddits or less (1.0%)\n",
      "There are 1311 news sources appearing in only 314 subreddits or less (1.0%)\n",
      "There are 1311 news sources appearing in only 315 subreddits or less (1.0%)\n",
      "There are 1311 news sources appearing in only 316 subreddits or less (1.0%)\n",
      "There are 1311 news sources appearing in only 317 subreddits or less (1.0%)\n",
      "There are 1311 news sources appearing in only 318 subreddits or less (1.0%)\n",
      "There are 1311 news sources appearing in only 319 subreddits or less (1.0%)\n",
      "There are 1311 news sources appearing in only 320 subreddits or less (1.0%)\n",
      "There are 1311 news sources appearing in only 321 subreddits or less (1.0%)\n",
      "There are 1311 news sources appearing in only 322 subreddits or less (1.0%)\n",
      "There are 1311 news sources appearing in only 323 subreddits or less (1.0%)\n",
      "There are 1311 news sources appearing in only 324 subreddits or less (1.0%)\n",
      "There are 1311 news sources appearing in only 325 subreddits or less (1.0%)\n",
      "There are 1311 news sources appearing in only 326 subreddits or less (1.0%)\n",
      "There are 1311 news sources appearing in only 327 subreddits or less (1.0%)\n",
      "There are 1311 news sources appearing in only 328 subreddits or less (1.0%)\n",
      "There are 1311 news sources appearing in only 329 subreddits or less (1.0%)\n",
      "There are 1311 news sources appearing in only 330 subreddits or less (1.0%)\n",
      "There are 1311 news sources appearing in only 331 subreddits or less (1.0%)\n",
      "There are 1311 news sources appearing in only 332 subreddits or less (1.0%)\n",
      "There are 1311 news sources appearing in only 333 subreddits or less (1.0%)\n",
      "There are 1311 news sources appearing in only 334 subreddits or less (1.0%)\n",
      "There are 1311 news sources appearing in only 335 subreddits or less (1.0%)\n",
      "There are 1311 news sources appearing in only 336 subreddits or less (1.0%)\n",
      "There are 1311 news sources appearing in only 337 subreddits or less (1.0%)\n",
      "There are 1311 news sources appearing in only 338 subreddits or less (1.0%)\n",
      "There are 1311 news sources appearing in only 339 subreddits or less (1.0%)\n",
      "There are 1311 news sources appearing in only 340 subreddits or less (1.0%)\n",
      "There are 1311 news sources appearing in only 341 subreddits or less (1.0%)\n",
      "There are 1311 news sources appearing in only 342 subreddits or less (1.0%)\n",
      "There are 1311 news sources appearing in only 343 subreddits or less (1.0%)\n",
      "There are 1311 news sources appearing in only 344 subreddits or less (1.0%)\n",
      "There are 1311 news sources appearing in only 345 subreddits or less (1.0%)\n",
      "There are 1311 news sources appearing in only 346 subreddits or less (1.0%)\n",
      "There are 1311 news sources appearing in only 347 subreddits or less (1.0%)\n",
      "There are 1311 news sources appearing in only 348 subreddits or less (1.0%)\n",
      "There are 1311 news sources appearing in only 349 subreddits or less (1.0%)\n",
      "There are 1311 news sources appearing in only 350 subreddits or less (1.0%)\n",
      "There are 1311 news sources appearing in only 351 subreddits or less (1.0%)\n",
      "There are 1311 news sources appearing in only 352 subreddits or less (1.0%)\n",
      "There are 1311 news sources appearing in only 353 subreddits or less (1.0%)\n",
      "There are 1311 news sources appearing in only 354 subreddits or less (1.0%)\n",
      "There are 1311 news sources appearing in only 355 subreddits or less (1.0%)\n",
      "There are 1311 news sources appearing in only 356 subreddits or less (1.0%)\n",
      "There are 1311 news sources appearing in only 357 subreddits or less (1.0%)\n",
      "There are 1311 news sources appearing in only 358 subreddits or less (1.0%)\n",
      "There are 1311 news sources appearing in only 359 subreddits or less (1.0%)\n",
      "There are 1311 news sources appearing in only 360 subreddits or less (1.0%)\n",
      "There are 1311 news sources appearing in only 361 subreddits or less (1.0%)\n",
      "There are 1311 news sources appearing in only 362 subreddits or less (1.0%)\n",
      "There are 1311 news sources appearing in only 363 subreddits or less (1.0%)\n",
      "There are 1311 news sources appearing in only 364 subreddits or less (1.0%)\n",
      "There are 1311 news sources appearing in only 365 subreddits or less (1.0%)\n",
      "There are 1311 news sources appearing in only 366 subreddits or less (1.0%)\n",
      "There are 1311 news sources appearing in only 367 subreddits or less (1.0%)\n",
      "There are 1311 news sources appearing in only 368 subreddits or less (1.0%)\n",
      "There are 1311 news sources appearing in only 369 subreddits or less (1.0%)\n",
      "There are 1311 news sources appearing in only 370 subreddits or less (1.0%)\n",
      "There are 1311 news sources appearing in only 371 subreddits or less (1.0%)\n",
      "There are 1311 news sources appearing in only 372 subreddits or less (1.0%)\n",
      "There are 1311 news sources appearing in only 373 subreddits or less (1.0%)\n",
      "There are 1311 news sources appearing in only 374 subreddits or less (1.0%)\n",
      "There are 1311 news sources appearing in only 375 subreddits or less (1.0%)\n",
      "There are 1311 news sources appearing in only 376 subreddits or less (1.0%)\n",
      "There are 1311 news sources appearing in only 377 subreddits or less (1.0%)\n",
      "There are 1311 news sources appearing in only 378 subreddits or less (1.0%)\n",
      "There are 1311 news sources appearing in only 379 subreddits or less (1.0%)\n",
      "There are 1311 news sources appearing in only 380 subreddits or less (1.0%)\n",
      "There are 1311 news sources appearing in only 381 subreddits or less (1.0%)\n",
      "There are 1311 news sources appearing in only 382 subreddits or less (1.0%)\n",
      "There are 1311 news sources appearing in only 383 subreddits or less (1.0%)\n",
      "There are 1311 news sources appearing in only 384 subreddits or less (1.0%)\n",
      "There are 1311 news sources appearing in only 385 subreddits or less (1.0%)\n",
      "There are 1311 news sources appearing in only 386 subreddits or less (1.0%)\n",
      "There are 1311 news sources appearing in only 387 subreddits or less (1.0%)\n",
      "There are 1311 news sources appearing in only 388 subreddits or less (1.0%)\n",
      "There are 1311 news sources appearing in only 389 subreddits or less (1.0%)\n",
      "There are 1311 news sources appearing in only 390 subreddits or less (1.0%)\n",
      "There are 1311 news sources appearing in only 391 subreddits or less (1.0%)\n",
      "There are 1311 news sources appearing in only 392 subreddits or less (1.0%)\n",
      "There are 1311 news sources appearing in only 393 subreddits or less (1.0%)\n",
      "There are 1311 news sources appearing in only 394 subreddits or less (1.0%)\n",
      "There are 1311 news sources appearing in only 395 subreddits or less (1.0%)\n",
      "There are 1311 news sources appearing in only 396 subreddits or less (1.0%)\n",
      "There are 1311 news sources appearing in only 397 subreddits or less (1.0%)\n",
      "There are 1311 news sources appearing in only 398 subreddits or less (1.0%)\n",
      "There are 1311 news sources appearing in only 399 subreddits or less (1.0%)\n",
      "There are 1311 news sources appearing in only 400 subreddits or less (1.0%)\n",
      "There are 1311 news sources appearing in only 401 subreddits or less (1.0%)\n",
      "There are 1311 news sources appearing in only 402 subreddits or less (1.0%)\n",
      "There are 1311 news sources appearing in only 403 subreddits or less (1.0%)\n",
      "There are 1311 news sources appearing in only 404 subreddits or less (1.0%)\n",
      "There are 1311 news sources appearing in only 405 subreddits or less (1.0%)\n",
      "There are 1311 news sources appearing in only 406 subreddits or less (1.0%)\n",
      "There are 1311 news sources appearing in only 407 subreddits or less (1.0%)\n",
      "There are 1311 news sources appearing in only 408 subreddits or less (1.0%)\n",
      "There are 1311 news sources appearing in only 409 subreddits or less (1.0%)\n",
      "There are 1311 news sources appearing in only 410 subreddits or less (1.0%)\n",
      "There are 1311 news sources appearing in only 411 subreddits or less (1.0%)\n",
      "There are 1311 news sources appearing in only 412 subreddits or less (1.0%)\n",
      "There are 1311 news sources appearing in only 413 subreddits or less (1.0%)\n",
      "There are 1311 news sources appearing in only 414 subreddits or less (1.0%)\n",
      "There are 1311 news sources appearing in only 415 subreddits or less (1.0%)\n",
      "There are 1311 news sources appearing in only 416 subreddits or less (1.0%)\n",
      "There are 1311 news sources appearing in only 417 subreddits or less (1.0%)\n",
      "There are 1311 news sources appearing in only 418 subreddits or less (1.0%)\n",
      "There are 1311 news sources appearing in only 419 subreddits or less (1.0%)\n",
      "There are 1311 news sources appearing in only 420 subreddits or less (1.0%)\n",
      "There are 1311 news sources appearing in only 421 subreddits or less (1.0%)\n",
      "There are 1311 news sources appearing in only 422 subreddits or less (1.0%)\n",
      "There are 1311 news sources appearing in only 423 subreddits or less (1.0%)\n",
      "There are 1311 news sources appearing in only 424 subreddits or less (1.0%)\n",
      "There are 1311 news sources appearing in only 425 subreddits or less (1.0%)\n",
      "There are 1311 news sources appearing in only 426 subreddits or less (1.0%)\n",
      "There are 1311 news sources appearing in only 427 subreddits or less (1.0%)\n",
      "There are 1311 news sources appearing in only 428 subreddits or less (1.0%)\n",
      "There are 1311 news sources appearing in only 429 subreddits or less (1.0%)\n",
      "There are 1311 news sources appearing in only 430 subreddits or less (1.0%)\n",
      "There are 1311 news sources appearing in only 431 subreddits or less (1.0%)\n",
      "There are 1311 news sources appearing in only 432 subreddits or less (1.0%)\n",
      "There are 1311 news sources appearing in only 433 subreddits or less (1.0%)\n",
      "There are 1311 news sources appearing in only 434 subreddits or less (1.0%)\n",
      "There are 1311 news sources appearing in only 435 subreddits or less (1.0%)\n",
      "There are 1311 news sources appearing in only 436 subreddits or less (1.0%)\n",
      "There are 1311 news sources appearing in only 437 subreddits or less (1.0%)\n",
      "There are 1311 news sources appearing in only 438 subreddits or less (1.0%)\n",
      "There are 1311 news sources appearing in only 439 subreddits or less (1.0%)\n",
      "There are 1311 news sources appearing in only 440 subreddits or less (1.0%)\n",
      "There are 1311 news sources appearing in only 441 subreddits or less (1.0%)\n",
      "There are 1311 news sources appearing in only 442 subreddits or less (1.0%)\n",
      "There are 1311 news sources appearing in only 443 subreddits or less (1.0%)\n",
      "There are 1311 news sources appearing in only 444 subreddits or less (1.0%)\n",
      "There are 1311 news sources appearing in only 445 subreddits or less (1.0%)\n",
      "There are 1311 news sources appearing in only 446 subreddits or less (1.0%)\n",
      "There are 1311 news sources appearing in only 447 subreddits or less (1.0%)\n",
      "There are 1311 news sources appearing in only 448 subreddits or less (1.0%)\n",
      "There are 1311 news sources appearing in only 449 subreddits or less (1.0%)\n",
      "There are 1311 news sources appearing in only 450 subreddits or less (1.0%)\n",
      "There are 1311 news sources appearing in only 451 subreddits or less (1.0%)\n",
      "There are 1311 news sources appearing in only 452 subreddits or less (1.0%)\n",
      "There are 1311 news sources appearing in only 453 subreddits or less (1.0%)\n",
      "There are 1311 news sources appearing in only 454 subreddits or less (1.0%)\n",
      "There are 1311 news sources appearing in only 455 subreddits or less (1.0%)\n",
      "There are 1311 news sources appearing in only 456 subreddits or less (1.0%)\n",
      "There are 1311 news sources appearing in only 457 subreddits or less (1.0%)\n",
      "There are 1311 news sources appearing in only 458 subreddits or less (1.0%)\n",
      "There are 1311 news sources appearing in only 459 subreddits or less (1.0%)\n",
      "There are 1311 news sources appearing in only 460 subreddits or less (1.0%)\n",
      "There are 1311 news sources appearing in only 461 subreddits or less (1.0%)\n",
      "There are 1311 news sources appearing in only 462 subreddits or less (1.0%)\n",
      "There are 1311 news sources appearing in only 463 subreddits or less (1.0%)\n",
      "There are 1311 news sources appearing in only 464 subreddits or less (1.0%)\n",
      "There are 1311 news sources appearing in only 465 subreddits or less (1.0%)\n",
      "There are 1311 news sources appearing in only 466 subreddits or less (1.0%)\n",
      "There are 1311 news sources appearing in only 467 subreddits or less (1.0%)\n",
      "There are 1311 news sources appearing in only 468 subreddits or less (1.0%)\n",
      "There are 1311 news sources appearing in only 469 subreddits or less (1.0%)\n",
      "There are 1311 news sources appearing in only 470 subreddits or less (1.0%)\n",
      "There are 1311 news sources appearing in only 471 subreddits or less (1.0%)\n",
      "There are 1311 news sources appearing in only 472 subreddits or less (1.0%)\n",
      "There are 1311 news sources appearing in only 473 subreddits or less (1.0%)\n",
      "There are 1311 news sources appearing in only 474 subreddits or less (1.0%)\n",
      "There are 1311 news sources appearing in only 475 subreddits or less (1.0%)\n",
      "There are 1311 news sources appearing in only 476 subreddits or less (1.0%)\n",
      "There are 1311 news sources appearing in only 477 subreddits or less (1.0%)\n",
      "There are 1311 news sources appearing in only 478 subreddits or less (1.0%)\n",
      "There are 1311 news sources appearing in only 479 subreddits or less (1.0%)\n",
      "There are 1311 news sources appearing in only 480 subreddits or less (1.0%)\n",
      "There are 1311 news sources appearing in only 481 subreddits or less (1.0%)\n",
      "There are 1311 news sources appearing in only 482 subreddits or less (1.0%)\n",
      "There are 1311 news sources appearing in only 483 subreddits or less (1.0%)\n",
      "There are 1311 news sources appearing in only 484 subreddits or less (1.0%)\n",
      "There are 1311 news sources appearing in only 485 subreddits or less (1.0%)\n",
      "There are 1311 news sources appearing in only 486 subreddits or less (1.0%)\n",
      "There are 1311 news sources appearing in only 487 subreddits or less (1.0%)\n",
      "There are 1311 news sources appearing in only 488 subreddits or less (1.0%)\n",
      "There are 1311 news sources appearing in only 489 subreddits or less (1.0%)\n",
      "There are 1311 news sources appearing in only 490 subreddits or less (1.0%)\n",
      "There are 1311 news sources appearing in only 491 subreddits or less (1.0%)\n",
      "There are 1311 news sources appearing in only 492 subreddits or less (1.0%)\n",
      "There are 1311 news sources appearing in only 493 subreddits or less (1.0%)\n",
      "There are 1311 news sources appearing in only 494 subreddits or less (1.0%)\n",
      "There are 1311 news sources appearing in only 495 subreddits or less (1.0%)\n",
      "There are 1311 news sources appearing in only 496 subreddits or less (1.0%)\n",
      "There are 1311 news sources appearing in only 497 subreddits or less (1.0%)\n",
      "There are 1311 news sources appearing in only 498 subreddits or less (1.0%)\n",
      "There are 1311 news sources appearing in only 499 subreddits or less (1.0%)\n",
      "There are 1311 news sources appearing in only 500 subreddits or less (1.0%)\n",
      "There are 1311 news sources appearing in only 501 subreddits or less (1.0%)\n",
      "There are 1311 news sources appearing in only 502 subreddits or less (1.0%)\n",
      "There are 1311 news sources appearing in only 503 subreddits or less (1.0%)\n",
      "There are 1311 news sources appearing in only 504 subreddits or less (1.0%)\n",
      "There are 1311 news sources appearing in only 505 subreddits or less (1.0%)\n",
      "There are 1311 news sources appearing in only 506 subreddits or less (1.0%)\n",
      "There are 1311 news sources appearing in only 507 subreddits or less (1.0%)\n",
      "There are 1311 news sources appearing in only 508 subreddits or less (1.0%)\n",
      "There are 1311 news sources appearing in only 509 subreddits or less (1.0%)\n",
      "There are 1311 news sources appearing in only 510 subreddits or less (1.0%)\n",
      "There are 1311 news sources appearing in only 511 subreddits or less (1.0%)\n",
      "There are 1311 news sources appearing in only 512 subreddits or less (1.0%)\n",
      "There are 1311 news sources appearing in only 513 subreddits or less (1.0%)\n",
      "There are 1311 news sources appearing in only 514 subreddits or less (1.0%)\n",
      "There are 1311 news sources appearing in only 515 subreddits or less (1.0%)\n",
      "There are 1311 news sources appearing in only 516 subreddits or less (1.0%)\n",
      "There are 1311 news sources appearing in only 517 subreddits or less (1.0%)\n",
      "There are 1311 news sources appearing in only 518 subreddits or less (1.0%)\n",
      "There are 1311 news sources appearing in only 519 subreddits or less (1.0%)\n",
      "There are 1311 news sources appearing in only 520 subreddits or less (1.0%)\n",
      "There are 1311 news sources appearing in only 521 subreddits or less (1.0%)\n",
      "There are 1311 news sources appearing in only 522 subreddits or less (1.0%)\n",
      "There are 1311 news sources appearing in only 523 subreddits or less (1.0%)\n",
      "There are 1311 news sources appearing in only 524 subreddits or less (1.0%)\n",
      "There are 1311 news sources appearing in only 525 subreddits or less (1.0%)\n",
      "There are 1311 news sources appearing in only 526 subreddits or less (1.0%)\n",
      "There are 1311 news sources appearing in only 527 subreddits or less (1.0%)\n",
      "There are 1311 news sources appearing in only 528 subreddits or less (1.0%)\n",
      "There are 1311 news sources appearing in only 529 subreddits or less (1.0%)\n",
      "There are 1311 news sources appearing in only 530 subreddits or less (1.0%)\n",
      "There are 1311 news sources appearing in only 531 subreddits or less (1.0%)\n",
      "There are 1311 news sources appearing in only 532 subreddits or less (1.0%)\n",
      "There are 1311 news sources appearing in only 533 subreddits or less (1.0%)\n",
      "There are 1311 news sources appearing in only 534 subreddits or less (1.0%)\n",
      "There are 1311 news sources appearing in only 535 subreddits or less (1.0%)\n",
      "There are 1311 news sources appearing in only 536 subreddits or less (1.0%)\n",
      "There are 1311 news sources appearing in only 537 subreddits or less (1.0%)\n",
      "There are 1311 news sources appearing in only 538 subreddits or less (1.0%)\n",
      "There are 1311 news sources appearing in only 539 subreddits or less (1.0%)\n",
      "There are 1311 news sources appearing in only 540 subreddits or less (1.0%)\n",
      "There are 1311 news sources appearing in only 541 subreddits or less (1.0%)\n",
      "There are 1311 news sources appearing in only 542 subreddits or less (1.0%)\n",
      "There are 1311 news sources appearing in only 543 subreddits or less (1.0%)\n",
      "There are 1311 news sources appearing in only 544 subreddits or less (1.0%)\n",
      "There are 1311 news sources appearing in only 545 subreddits or less (1.0%)\n",
      "There are 1311 news sources appearing in only 546 subreddits or less (1.0%)\n",
      "There are 1311 news sources appearing in only 547 subreddits or less (1.0%)\n",
      "There are 1311 news sources appearing in only 548 subreddits or less (1.0%)\n"
     ]
    },
    {
     "name": "stdout",
     "output_type": "stream",
     "text": [
      "There are 1311 news sources appearing in only 549 subreddits or less (1.0%)\n",
      "There are 1311 news sources appearing in only 550 subreddits or less (1.0%)\n",
      "There are 1311 news sources appearing in only 551 subreddits or less (1.0%)\n",
      "There are 1311 news sources appearing in only 552 subreddits or less (1.0%)\n",
      "There are 1311 news sources appearing in only 553 subreddits or less (1.0%)\n",
      "There are 1311 news sources appearing in only 554 subreddits or less (1.0%)\n",
      "There are 1311 news sources appearing in only 555 subreddits or less (1.0%)\n",
      "There are 1311 news sources appearing in only 556 subreddits or less (1.0%)\n",
      "There are 1311 news sources appearing in only 557 subreddits or less (1.0%)\n",
      "There are 1311 news sources appearing in only 558 subreddits or less (1.0%)\n",
      "There are 1311 news sources appearing in only 559 subreddits or less (1.0%)\n",
      "There are 1311 news sources appearing in only 560 subreddits or less (1.0%)\n",
      "There are 1311 news sources appearing in only 561 subreddits or less (1.0%)\n",
      "There are 1311 news sources appearing in only 562 subreddits or less (1.0%)\n",
      "There are 1311 news sources appearing in only 563 subreddits or less (1.0%)\n",
      "There are 1311 news sources appearing in only 564 subreddits or less (1.0%)\n",
      "There are 1311 news sources appearing in only 565 subreddits or less (1.0%)\n",
      "There are 1311 news sources appearing in only 566 subreddits or less (1.0%)\n",
      "There are 1311 news sources appearing in only 567 subreddits or less (1.0%)\n",
      "There are 1311 news sources appearing in only 568 subreddits or less (1.0%)\n",
      "There are 1311 news sources appearing in only 569 subreddits or less (1.0%)\n",
      "There are 1311 news sources appearing in only 570 subreddits or less (1.0%)\n",
      "There are 1311 news sources appearing in only 571 subreddits or less (1.0%)\n",
      "There are 1311 news sources appearing in only 572 subreddits or less (1.0%)\n",
      "There are 1311 news sources appearing in only 573 subreddits or less (1.0%)\n",
      "There are 1311 news sources appearing in only 574 subreddits or less (1.0%)\n",
      "There are 1311 news sources appearing in only 575 subreddits or less (1.0%)\n",
      "There are 1311 news sources appearing in only 576 subreddits or less (1.0%)\n",
      "There are 1311 news sources appearing in only 577 subreddits or less (1.0%)\n",
      "There are 1311 news sources appearing in only 578 subreddits or less (1.0%)\n",
      "There are 1311 news sources appearing in only 579 subreddits or less (1.0%)\n",
      "There are 1311 news sources appearing in only 580 subreddits or less (1.0%)\n",
      "There are 1311 news sources appearing in only 581 subreddits or less (1.0%)\n",
      "There are 1311 news sources appearing in only 582 subreddits or less (1.0%)\n",
      "There are 1311 news sources appearing in only 583 subreddits or less (1.0%)\n",
      "There are 1311 news sources appearing in only 584 subreddits or less (1.0%)\n",
      "There are 1311 news sources appearing in only 585 subreddits or less (1.0%)\n",
      "There are 1311 news sources appearing in only 586 subreddits or less (1.0%)\n",
      "There are 1311 news sources appearing in only 587 subreddits or less (1.0%)\n",
      "There are 1311 news sources appearing in only 588 subreddits or less (1.0%)\n",
      "There are 1311 news sources appearing in only 589 subreddits or less (1.0%)\n",
      "There are 1311 news sources appearing in only 590 subreddits or less (1.0%)\n",
      "There are 1311 news sources appearing in only 591 subreddits or less (1.0%)\n",
      "There are 1311 news sources appearing in only 592 subreddits or less (1.0%)\n",
      "There are 1311 news sources appearing in only 593 subreddits or less (1.0%)\n",
      "There are 1311 news sources appearing in only 594 subreddits or less (1.0%)\n",
      "There are 1311 news sources appearing in only 595 subreddits or less (1.0%)\n",
      "There are 1311 news sources appearing in only 596 subreddits or less (1.0%)\n",
      "There are 1311 news sources appearing in only 597 subreddits or less (1.0%)\n",
      "There are 1311 news sources appearing in only 598 subreddits or less (1.0%)\n",
      "There are 1311 news sources appearing in only 599 subreddits or less (1.0%)\n",
      "There are 1311 news sources appearing in only 600 subreddits or less (1.0%)\n",
      "There are 1311 news sources appearing in only 601 subreddits or less (1.0%)\n",
      "There are 1311 news sources appearing in only 602 subreddits or less (1.0%)\n",
      "There are 1311 news sources appearing in only 603 subreddits or less (1.0%)\n",
      "There are 1311 news sources appearing in only 604 subreddits or less (1.0%)\n",
      "There are 1311 news sources appearing in only 605 subreddits or less (1.0%)\n",
      "There are 1311 news sources appearing in only 606 subreddits or less (1.0%)\n",
      "There are 1311 news sources appearing in only 607 subreddits or less (1.0%)\n",
      "There are 1311 news sources appearing in only 608 subreddits or less (1.0%)\n",
      "There are 1311 news sources appearing in only 609 subreddits or less (1.0%)\n",
      "There are 1311 news sources appearing in only 610 subreddits or less (1.0%)\n",
      "There are 1311 news sources appearing in only 611 subreddits or less (1.0%)\n",
      "There are 1311 news sources appearing in only 612 subreddits or less (1.0%)\n",
      "There are 1311 news sources appearing in only 613 subreddits or less (1.0%)\n",
      "There are 1311 news sources appearing in only 614 subreddits or less (1.0%)\n",
      "There are 1311 news sources appearing in only 615 subreddits or less (1.0%)\n",
      "There are 1311 news sources appearing in only 616 subreddits or less (1.0%)\n",
      "There are 1311 news sources appearing in only 617 subreddits or less (1.0%)\n",
      "There are 1311 news sources appearing in only 618 subreddits or less (1.0%)\n",
      "There are 1311 news sources appearing in only 619 subreddits or less (1.0%)\n",
      "There are 1311 news sources appearing in only 620 subreddits or less (1.0%)\n",
      "There are 1311 news sources appearing in only 621 subreddits or less (1.0%)\n",
      "There are 1311 news sources appearing in only 622 subreddits or less (1.0%)\n",
      "There are 1311 news sources appearing in only 623 subreddits or less (1.0%)\n",
      "There are 1311 news sources appearing in only 624 subreddits or less (1.0%)\n",
      "There are 1311 news sources appearing in only 625 subreddits or less (1.0%)\n",
      "There are 1311 news sources appearing in only 626 subreddits or less (1.0%)\n",
      "There are 1311 news sources appearing in only 627 subreddits or less (1.0%)\n",
      "There are 1311 news sources appearing in only 628 subreddits or less (1.0%)\n",
      "There are 1311 news sources appearing in only 629 subreddits or less (1.0%)\n",
      "There are 1311 news sources appearing in only 630 subreddits or less (1.0%)\n",
      "There are 1311 news sources appearing in only 631 subreddits or less (1.0%)\n",
      "There are 1311 news sources appearing in only 632 subreddits or less (1.0%)\n",
      "There are 1311 news sources appearing in only 633 subreddits or less (1.0%)\n",
      "There are 1311 news sources appearing in only 634 subreddits or less (1.0%)\n",
      "There are 1311 news sources appearing in only 635 subreddits or less (1.0%)\n",
      "There are 1311 news sources appearing in only 636 subreddits or less (1.0%)\n",
      "There are 1311 news sources appearing in only 637 subreddits or less (1.0%)\n",
      "There are 1311 news sources appearing in only 638 subreddits or less (1.0%)\n",
      "There are 1311 news sources appearing in only 639 subreddits or less (1.0%)\n",
      "There are 1311 news sources appearing in only 640 subreddits or less (1.0%)\n",
      "There are 1311 news sources appearing in only 641 subreddits or less (1.0%)\n",
      "There are 1311 news sources appearing in only 642 subreddits or less (1.0%)\n",
      "There are 1311 news sources appearing in only 643 subreddits or less (1.0%)\n",
      "There are 1311 news sources appearing in only 644 subreddits or less (1.0%)\n",
      "There are 1311 news sources appearing in only 645 subreddits or less (1.0%)\n",
      "There are 1311 news sources appearing in only 646 subreddits or less (1.0%)\n",
      "There are 1311 news sources appearing in only 647 subreddits or less (1.0%)\n",
      "There are 1311 news sources appearing in only 648 subreddits or less (1.0%)\n",
      "There are 1311 news sources appearing in only 649 subreddits or less (1.0%)\n",
      "There are 1311 news sources appearing in only 650 subreddits or less (1.0%)\n",
      "There are 1311 news sources appearing in only 651 subreddits or less (1.0%)\n",
      "There are 1311 news sources appearing in only 652 subreddits or less (1.0%)\n",
      "There are 1311 news sources appearing in only 653 subreddits or less (1.0%)\n",
      "There are 1311 news sources appearing in only 654 subreddits or less (1.0%)\n",
      "There are 1311 news sources appearing in only 655 subreddits or less (1.0%)\n",
      "There are 1311 news sources appearing in only 656 subreddits or less (1.0%)\n",
      "There are 1311 news sources appearing in only 657 subreddits or less (1.0%)\n",
      "There are 1311 news sources appearing in only 658 subreddits or less (1.0%)\n",
      "There are 1311 news sources appearing in only 659 subreddits or less (1.0%)\n",
      "There are 1311 news sources appearing in only 660 subreddits or less (1.0%)\n",
      "There are 1311 news sources appearing in only 661 subreddits or less (1.0%)\n",
      "There are 1311 news sources appearing in only 662 subreddits or less (1.0%)\n",
      "There are 1311 news sources appearing in only 663 subreddits or less (1.0%)\n",
      "There are 1311 news sources appearing in only 664 subreddits or less (1.0%)\n",
      "There are 1311 news sources appearing in only 665 subreddits or less (1.0%)\n",
      "There are 1311 news sources appearing in only 666 subreddits or less (1.0%)\n",
      "There are 1311 news sources appearing in only 667 subreddits or less (1.0%)\n",
      "There are 1311 news sources appearing in only 668 subreddits or less (1.0%)\n",
      "There are 1311 news sources appearing in only 669 subreddits or less (1.0%)\n",
      "There are 1311 news sources appearing in only 670 subreddits or less (1.0%)\n",
      "There are 1311 news sources appearing in only 671 subreddits or less (1.0%)\n",
      "There are 1311 news sources appearing in only 672 subreddits or less (1.0%)\n",
      "There are 1311 news sources appearing in only 673 subreddits or less (1.0%)\n",
      "There are 1311 news sources appearing in only 674 subreddits or less (1.0%)\n",
      "There are 1311 news sources appearing in only 675 subreddits or less (1.0%)\n",
      "There are 1311 news sources appearing in only 676 subreddits or less (1.0%)\n",
      "There are 1311 news sources appearing in only 677 subreddits or less (1.0%)\n",
      "There are 1311 news sources appearing in only 678 subreddits or less (1.0%)\n",
      "There are 1311 news sources appearing in only 679 subreddits or less (1.0%)\n",
      "There are 1311 news sources appearing in only 680 subreddits or less (1.0%)\n",
      "There are 1311 news sources appearing in only 681 subreddits or less (1.0%)\n",
      "There are 1311 news sources appearing in only 682 subreddits or less (1.0%)\n",
      "There are 1311 news sources appearing in only 683 subreddits or less (1.0%)\n",
      "There are 1311 news sources appearing in only 684 subreddits or less (1.0%)\n",
      "There are 1311 news sources appearing in only 685 subreddits or less (1.0%)\n",
      "There are 1311 news sources appearing in only 686 subreddits or less (1.0%)\n",
      "There are 1311 news sources appearing in only 687 subreddits or less (1.0%)\n",
      "There are 1311 news sources appearing in only 688 subreddits or less (1.0%)\n",
      "There are 1311 news sources appearing in only 689 subreddits or less (1.0%)\n",
      "There are 1311 news sources appearing in only 690 subreddits or less (1.0%)\n",
      "There are 1311 news sources appearing in only 691 subreddits or less (1.0%)\n",
      "There are 1311 news sources appearing in only 692 subreddits or less (1.0%)\n",
      "There are 1311 news sources appearing in only 693 subreddits or less (1.0%)\n",
      "There are 1311 news sources appearing in only 694 subreddits or less (1.0%)\n",
      "There are 1311 news sources appearing in only 695 subreddits or less (1.0%)\n",
      "There are 1311 news sources appearing in only 696 subreddits or less (1.0%)\n",
      "There are 1311 news sources appearing in only 697 subreddits or less (1.0%)\n",
      "There are 1311 news sources appearing in only 698 subreddits or less (1.0%)\n",
      "There are 1311 news sources appearing in only 699 subreddits or less (1.0%)\n",
      "There are 1311 news sources appearing in only 700 subreddits or less (1.0%)\n",
      "There are 1311 news sources appearing in only 701 subreddits or less (1.0%)\n",
      "There are 1311 news sources appearing in only 702 subreddits or less (1.0%)\n",
      "There are 1311 news sources appearing in only 703 subreddits or less (1.0%)\n",
      "There are 1311 news sources appearing in only 704 subreddits or less (1.0%)\n",
      "There are 1311 news sources appearing in only 705 subreddits or less (1.0%)\n",
      "There are 1311 news sources appearing in only 706 subreddits or less (1.0%)\n",
      "There are 1311 news sources appearing in only 707 subreddits or less (1.0%)\n",
      "There are 1311 news sources appearing in only 708 subreddits or less (1.0%)\n",
      "There are 1311 news sources appearing in only 709 subreddits or less (1.0%)\n",
      "There are 1311 news sources appearing in only 710 subreddits or less (1.0%)\n",
      "There are 1311 news sources appearing in only 711 subreddits or less (1.0%)\n",
      "There are 1311 news sources appearing in only 712 subreddits or less (1.0%)\n",
      "There are 1311 news sources appearing in only 713 subreddits or less (1.0%)\n",
      "There are 1311 news sources appearing in only 714 subreddits or less (1.0%)\n",
      "There are 1311 news sources appearing in only 715 subreddits or less (1.0%)\n",
      "There are 1311 news sources appearing in only 716 subreddits or less (1.0%)\n",
      "There are 1311 news sources appearing in only 717 subreddits or less (1.0%)\n",
      "There are 1311 news sources appearing in only 718 subreddits or less (1.0%)\n",
      "There are 1311 news sources appearing in only 719 subreddits or less (1.0%)\n",
      "There are 1311 news sources appearing in only 720 subreddits or less (1.0%)\n",
      "There are 1311 news sources appearing in only 721 subreddits or less (1.0%)\n",
      "There are 1311 news sources appearing in only 722 subreddits or less (1.0%)\n",
      "There are 1311 news sources appearing in only 723 subreddits or less (1.0%)\n",
      "There are 1311 news sources appearing in only 724 subreddits or less (1.0%)\n",
      "There are 1311 news sources appearing in only 725 subreddits or less (1.0%)\n",
      "There are 1311 news sources appearing in only 726 subreddits or less (1.0%)\n",
      "There are 1311 news sources appearing in only 727 subreddits or less (1.0%)\n",
      "There are 1311 news sources appearing in only 728 subreddits or less (1.0%)\n",
      "There are 1311 news sources appearing in only 729 subreddits or less (1.0%)\n",
      "There are 1311 news sources appearing in only 730 subreddits or less (1.0%)\n",
      "There are 1311 news sources appearing in only 731 subreddits or less (1.0%)\n",
      "There are 1311 news sources appearing in only 732 subreddits or less (1.0%)\n",
      "There are 1311 news sources appearing in only 733 subreddits or less (1.0%)\n",
      "There are 1311 news sources appearing in only 734 subreddits or less (1.0%)\n",
      "There are 1311 news sources appearing in only 735 subreddits or less (1.0%)\n",
      "There are 1311 news sources appearing in only 736 subreddits or less (1.0%)\n",
      "There are 1311 news sources appearing in only 737 subreddits or less (1.0%)\n",
      "There are 1311 news sources appearing in only 738 subreddits or less (1.0%)\n",
      "There are 1311 news sources appearing in only 739 subreddits or less (1.0%)\n",
      "There are 1311 news sources appearing in only 740 subreddits or less (1.0%)\n",
      "There are 1311 news sources appearing in only 741 subreddits or less (1.0%)\n",
      "There are 1311 news sources appearing in only 742 subreddits or less (1.0%)\n",
      "There are 1311 news sources appearing in only 743 subreddits or less (1.0%)\n",
      "There are 1311 news sources appearing in only 744 subreddits or less (1.0%)\n",
      "There are 1311 news sources appearing in only 745 subreddits or less (1.0%)\n",
      "There are 1311 news sources appearing in only 746 subreddits or less (1.0%)\n",
      "There are 1311 news sources appearing in only 747 subreddits or less (1.0%)\n",
      "There are 1311 news sources appearing in only 748 subreddits or less (1.0%)\n",
      "There are 1311 news sources appearing in only 749 subreddits or less (1.0%)\n",
      "There are 1311 news sources appearing in only 750 subreddits or less (1.0%)\n",
      "There are 1311 news sources appearing in only 751 subreddits or less (1.0%)\n",
      "There are 1311 news sources appearing in only 752 subreddits or less (1.0%)\n",
      "There are 1311 news sources appearing in only 753 subreddits or less (1.0%)\n",
      "There are 1311 news sources appearing in only 754 subreddits or less (1.0%)\n",
      "There are 1311 news sources appearing in only 755 subreddits or less (1.0%)\n",
      "There are 1311 news sources appearing in only 756 subreddits or less (1.0%)\n",
      "There are 1311 news sources appearing in only 757 subreddits or less (1.0%)\n",
      "There are 1311 news sources appearing in only 758 subreddits or less (1.0%)\n",
      "There are 1311 news sources appearing in only 759 subreddits or less (1.0%)\n",
      "There are 1311 news sources appearing in only 760 subreddits or less (1.0%)\n",
      "There are 1311 news sources appearing in only 761 subreddits or less (1.0%)\n",
      "There are 1311 news sources appearing in only 762 subreddits or less (1.0%)\n",
      "There are 1311 news sources appearing in only 763 subreddits or less (1.0%)\n",
      "There are 1311 news sources appearing in only 764 subreddits or less (1.0%)\n",
      "There are 1311 news sources appearing in only 765 subreddits or less (1.0%)\n",
      "There are 1311 news sources appearing in only 766 subreddits or less (1.0%)\n",
      "There are 1311 news sources appearing in only 767 subreddits or less (1.0%)\n",
      "There are 1311 news sources appearing in only 768 subreddits or less (1.0%)\n",
      "There are 1311 news sources appearing in only 769 subreddits or less (1.0%)\n",
      "There are 1311 news sources appearing in only 770 subreddits or less (1.0%)\n",
      "There are 1311 news sources appearing in only 771 subreddits or less (1.0%)\n",
      "There are 1311 news sources appearing in only 772 subreddits or less (1.0%)\n",
      "There are 1311 news sources appearing in only 773 subreddits or less (1.0%)\n",
      "There are 1311 news sources appearing in only 774 subreddits or less (1.0%)\n",
      "There are 1311 news sources appearing in only 775 subreddits or less (1.0%)\n",
      "There are 1311 news sources appearing in only 776 subreddits or less (1.0%)\n",
      "There are 1311 news sources appearing in only 777 subreddits or less (1.0%)\n",
      "There are 1311 news sources appearing in only 778 subreddits or less (1.0%)\n",
      "There are 1311 news sources appearing in only 779 subreddits or less (1.0%)\n",
      "There are 1311 news sources appearing in only 780 subreddits or less (1.0%)\n",
      "There are 1311 news sources appearing in only 781 subreddits or less (1.0%)\n",
      "There are 1311 news sources appearing in only 782 subreddits or less (1.0%)\n",
      "There are 1311 news sources appearing in only 783 subreddits or less (1.0%)\n",
      "There are 1311 news sources appearing in only 784 subreddits or less (1.0%)\n",
      "There are 1311 news sources appearing in only 785 subreddits or less (1.0%)\n",
      "There are 1311 news sources appearing in only 786 subreddits or less (1.0%)\n",
      "There are 1311 news sources appearing in only 787 subreddits or less (1.0%)\n",
      "There are 1311 news sources appearing in only 788 subreddits or less (1.0%)\n",
      "There are 1311 news sources appearing in only 789 subreddits or less (1.0%)\n",
      "There are 1311 news sources appearing in only 790 subreddits or less (1.0%)\n",
      "There are 1311 news sources appearing in only 791 subreddits or less (1.0%)\n",
      "There are 1311 news sources appearing in only 792 subreddits or less (1.0%)\n",
      "There are 1311 news sources appearing in only 793 subreddits or less (1.0%)\n",
      "There are 1311 news sources appearing in only 794 subreddits or less (1.0%)\n",
      "There are 1311 news sources appearing in only 795 subreddits or less (1.0%)\n",
      "There are 1311 news sources appearing in only 796 subreddits or less (1.0%)\n",
      "There are 1311 news sources appearing in only 797 subreddits or less (1.0%)\n",
      "There are 1311 news sources appearing in only 798 subreddits or less (1.0%)\n",
      "There are 1311 news sources appearing in only 799 subreddits or less (1.0%)\n",
      "There are 1311 news sources appearing in only 800 subreddits or less (1.0%)\n",
      "There are 1311 news sources appearing in only 801 subreddits or less (1.0%)\n",
      "There are 1311 news sources appearing in only 802 subreddits or less (1.0%)\n",
      "There are 1311 news sources appearing in only 803 subreddits or less (1.0%)\n",
      "There are 1311 news sources appearing in only 804 subreddits or less (1.0%)\n",
      "There are 1311 news sources appearing in only 805 subreddits or less (1.0%)\n",
      "There are 1311 news sources appearing in only 806 subreddits or less (1.0%)\n",
      "There are 1311 news sources appearing in only 807 subreddits or less (1.0%)\n",
      "There are 1311 news sources appearing in only 808 subreddits or less (1.0%)\n",
      "There are 1311 news sources appearing in only 809 subreddits or less (1.0%)\n",
      "There are 1311 news sources appearing in only 810 subreddits or less (1.0%)\n",
      "There are 1311 news sources appearing in only 811 subreddits or less (1.0%)\n",
      "There are 1311 news sources appearing in only 812 subreddits or less (1.0%)\n",
      "There are 1311 news sources appearing in only 813 subreddits or less (1.0%)\n",
      "There are 1311 news sources appearing in only 814 subreddits or less (1.0%)\n",
      "There are 1311 news sources appearing in only 815 subreddits or less (1.0%)\n",
      "There are 1311 news sources appearing in only 816 subreddits or less (1.0%)\n",
      "There are 1311 news sources appearing in only 817 subreddits or less (1.0%)\n",
      "There are 1311 news sources appearing in only 818 subreddits or less (1.0%)\n",
      "There are 1311 news sources appearing in only 819 subreddits or less (1.0%)\n",
      "There are 1311 news sources appearing in only 820 subreddits or less (1.0%)\n",
      "There are 1311 news sources appearing in only 821 subreddits or less (1.0%)\n",
      "There are 1311 news sources appearing in only 822 subreddits or less (1.0%)\n",
      "There are 1311 news sources appearing in only 823 subreddits or less (1.0%)\n",
      "There are 1311 news sources appearing in only 824 subreddits or less (1.0%)\n",
      "There are 1311 news sources appearing in only 825 subreddits or less (1.0%)\n",
      "There are 1311 news sources appearing in only 826 subreddits or less (1.0%)\n",
      "There are 1311 news sources appearing in only 827 subreddits or less (1.0%)\n",
      "There are 1311 news sources appearing in only 828 subreddits or less (1.0%)\n",
      "There are 1311 news sources appearing in only 829 subreddits or less (1.0%)\n",
      "There are 1311 news sources appearing in only 830 subreddits or less (1.0%)\n",
      "There are 1311 news sources appearing in only 831 subreddits or less (1.0%)\n",
      "There are 1311 news sources appearing in only 832 subreddits or less (1.0%)\n",
      "There are 1311 news sources appearing in only 833 subreddits or less (1.0%)\n",
      "There are 1311 news sources appearing in only 834 subreddits or less (1.0%)\n",
      "There are 1311 news sources appearing in only 835 subreddits or less (1.0%)\n",
      "There are 1311 news sources appearing in only 836 subreddits or less (1.0%)\n",
      "There are 1311 news sources appearing in only 837 subreddits or less (1.0%)\n",
      "There are 1311 news sources appearing in only 838 subreddits or less (1.0%)\n",
      "There are 1311 news sources appearing in only 839 subreddits or less (1.0%)\n",
      "There are 1311 news sources appearing in only 840 subreddits or less (1.0%)\n",
      "There are 1311 news sources appearing in only 841 subreddits or less (1.0%)\n",
      "There are 1311 news sources appearing in only 842 subreddits or less (1.0%)\n",
      "There are 1311 news sources appearing in only 843 subreddits or less (1.0%)\n",
      "There are 1311 news sources appearing in only 844 subreddits or less (1.0%)\n",
      "There are 1311 news sources appearing in only 845 subreddits or less (1.0%)\n",
      "There are 1311 news sources appearing in only 846 subreddits or less (1.0%)\n",
      "There are 1311 news sources appearing in only 847 subreddits or less (1.0%)\n",
      "There are 1311 news sources appearing in only 848 subreddits or less (1.0%)\n",
      "There are 1311 news sources appearing in only 849 subreddits or less (1.0%)\n",
      "There are 1311 news sources appearing in only 850 subreddits or less (1.0%)\n",
      "There are 1311 news sources appearing in only 851 subreddits or less (1.0%)\n",
      "There are 1311 news sources appearing in only 852 subreddits or less (1.0%)\n",
      "There are 1311 news sources appearing in only 853 subreddits or less (1.0%)\n",
      "There are 1311 news sources appearing in only 854 subreddits or less (1.0%)\n",
      "There are 1311 news sources appearing in only 855 subreddits or less (1.0%)\n",
      "There are 1311 news sources appearing in only 856 subreddits or less (1.0%)\n",
      "There are 1311 news sources appearing in only 857 subreddits or less (1.0%)\n",
      "There are 1311 news sources appearing in only 858 subreddits or less (1.0%)\n",
      "There are 1311 news sources appearing in only 859 subreddits or less (1.0%)\n",
      "There are 1311 news sources appearing in only 860 subreddits or less (1.0%)\n",
      "There are 1311 news sources appearing in only 861 subreddits or less (1.0%)\n",
      "There are 1311 news sources appearing in only 862 subreddits or less (1.0%)\n",
      "There are 1311 news sources appearing in only 863 subreddits or less (1.0%)\n",
      "There are 1311 news sources appearing in only 864 subreddits or less (1.0%)\n",
      "There are 1311 news sources appearing in only 865 subreddits or less (1.0%)\n",
      "There are 1311 news sources appearing in only 866 subreddits or less (1.0%)\n",
      "There are 1311 news sources appearing in only 867 subreddits or less (1.0%)\n",
      "There are 1311 news sources appearing in only 868 subreddits or less (1.0%)\n",
      "There are 1311 news sources appearing in only 869 subreddits or less (1.0%)\n",
      "There are 1311 news sources appearing in only 870 subreddits or less (1.0%)\n",
      "There are 1311 news sources appearing in only 871 subreddits or less (1.0%)\n",
      "There are 1311 news sources appearing in only 872 subreddits or less (1.0%)\n",
      "There are 1311 news sources appearing in only 873 subreddits or less (1.0%)\n",
      "There are 1311 news sources appearing in only 874 subreddits or less (1.0%)\n",
      "There are 1311 news sources appearing in only 875 subreddits or less (1.0%)\n",
      "There are 1311 news sources appearing in only 876 subreddits or less (1.0%)\n",
      "There are 1311 news sources appearing in only 877 subreddits or less (1.0%)\n",
      "There are 1311 news sources appearing in only 878 subreddits or less (1.0%)\n",
      "There are 1311 news sources appearing in only 879 subreddits or less (1.0%)\n",
      "There are 1311 news sources appearing in only 880 subreddits or less (1.0%)\n",
      "There are 1311 news sources appearing in only 881 subreddits or less (1.0%)\n",
      "There are 1311 news sources appearing in only 882 subreddits or less (1.0%)\n",
      "There are 1311 news sources appearing in only 883 subreddits or less (1.0%)\n",
      "There are 1311 news sources appearing in only 884 subreddits or less (1.0%)\n",
      "There are 1311 news sources appearing in only 885 subreddits or less (1.0%)\n",
      "There are 1311 news sources appearing in only 886 subreddits or less (1.0%)\n",
      "There are 1311 news sources appearing in only 887 subreddits or less (1.0%)\n",
      "There are 1311 news sources appearing in only 888 subreddits or less (1.0%)\n",
      "There are 1311 news sources appearing in only 889 subreddits or less (1.0%)\n",
      "There are 1311 news sources appearing in only 890 subreddits or less (1.0%)\n",
      "There are 1311 news sources appearing in only 891 subreddits or less (1.0%)\n",
      "There are 1311 news sources appearing in only 892 subreddits or less (1.0%)\n",
      "There are 1311 news sources appearing in only 893 subreddits or less (1.0%)\n",
      "There are 1311 news sources appearing in only 894 subreddits or less (1.0%)\n",
      "There are 1311 news sources appearing in only 895 subreddits or less (1.0%)\n",
      "There are 1311 news sources appearing in only 896 subreddits or less (1.0%)\n",
      "There are 1311 news sources appearing in only 897 subreddits or less (1.0%)\n",
      "There are 1311 news sources appearing in only 898 subreddits or less (1.0%)\n",
      "There are 1311 news sources appearing in only 899 subreddits or less (1.0%)\n",
      "There are 1311 news sources appearing in only 900 subreddits or less (1.0%)\n",
      "There are 1311 news sources appearing in only 901 subreddits or less (1.0%)\n",
      "There are 1311 news sources appearing in only 902 subreddits or less (1.0%)\n",
      "There are 1311 news sources appearing in only 903 subreddits or less (1.0%)\n",
      "There are 1311 news sources appearing in only 904 subreddits or less (1.0%)\n",
      "There are 1311 news sources appearing in only 905 subreddits or less (1.0%)\n",
      "There are 1311 news sources appearing in only 906 subreddits or less (1.0%)\n",
      "There are 1311 news sources appearing in only 907 subreddits or less (1.0%)\n",
      "There are 1311 news sources appearing in only 908 subreddits or less (1.0%)\n",
      "There are 1311 news sources appearing in only 909 subreddits or less (1.0%)\n",
      "There are 1311 news sources appearing in only 910 subreddits or less (1.0%)\n",
      "There are 1311 news sources appearing in only 911 subreddits or less (1.0%)\n",
      "There are 1311 news sources appearing in only 912 subreddits or less (1.0%)\n",
      "There are 1311 news sources appearing in only 913 subreddits or less (1.0%)\n",
      "There are 1311 news sources appearing in only 914 subreddits or less (1.0%)\n",
      "There are 1311 news sources appearing in only 915 subreddits or less (1.0%)\n",
      "There are 1311 news sources appearing in only 916 subreddits or less (1.0%)\n",
      "There are 1311 news sources appearing in only 917 subreddits or less (1.0%)\n",
      "There are 1311 news sources appearing in only 918 subreddits or less (1.0%)\n",
      "There are 1311 news sources appearing in only 919 subreddits or less (1.0%)\n",
      "There are 1311 news sources appearing in only 920 subreddits or less (1.0%)\n",
      "There are 1311 news sources appearing in only 921 subreddits or less (1.0%)\n",
      "There are 1311 news sources appearing in only 922 subreddits or less (1.0%)\n",
      "There are 1311 news sources appearing in only 923 subreddits or less (1.0%)\n",
      "There are 1311 news sources appearing in only 924 subreddits or less (1.0%)\n",
      "There are 1311 news sources appearing in only 925 subreddits or less (1.0%)\n",
      "There are 1311 news sources appearing in only 926 subreddits or less (1.0%)\n",
      "There are 1311 news sources appearing in only 927 subreddits or less (1.0%)\n",
      "There are 1311 news sources appearing in only 928 subreddits or less (1.0%)\n",
      "There are 1311 news sources appearing in only 929 subreddits or less (1.0%)\n",
      "There are 1311 news sources appearing in only 930 subreddits or less (1.0%)\n",
      "There are 1311 news sources appearing in only 931 subreddits or less (1.0%)\n",
      "There are 1311 news sources appearing in only 932 subreddits or less (1.0%)\n",
      "There are 1311 news sources appearing in only 933 subreddits or less (1.0%)\n",
      "There are 1311 news sources appearing in only 934 subreddits or less (1.0%)\n",
      "There are 1311 news sources appearing in only 935 subreddits or less (1.0%)\n",
      "There are 1311 news sources appearing in only 936 subreddits or less (1.0%)\n",
      "There are 1311 news sources appearing in only 937 subreddits or less (1.0%)\n",
      "There are 1311 news sources appearing in only 938 subreddits or less (1.0%)\n",
      "There are 1311 news sources appearing in only 939 subreddits or less (1.0%)\n",
      "There are 1311 news sources appearing in only 940 subreddits or less (1.0%)\n",
      "There are 1311 news sources appearing in only 941 subreddits or less (1.0%)\n",
      "There are 1311 news sources appearing in only 942 subreddits or less (1.0%)\n",
      "There are 1311 news sources appearing in only 943 subreddits or less (1.0%)\n",
      "There are 1311 news sources appearing in only 944 subreddits or less (1.0%)\n",
      "There are 1311 news sources appearing in only 945 subreddits or less (1.0%)\n",
      "There are 1311 news sources appearing in only 946 subreddits or less (1.0%)\n",
      "There are 1311 news sources appearing in only 947 subreddits or less (1.0%)\n",
      "There are 1311 news sources appearing in only 948 subreddits or less (1.0%)\n",
      "There are 1311 news sources appearing in only 949 subreddits or less (1.0%)\n",
      "There are 1311 news sources appearing in only 950 subreddits or less (1.0%)\n",
      "There are 1311 news sources appearing in only 951 subreddits or less (1.0%)\n",
      "There are 1311 news sources appearing in only 952 subreddits or less (1.0%)\n",
      "There are 1311 news sources appearing in only 953 subreddits or less (1.0%)\n",
      "There are 1311 news sources appearing in only 954 subreddits or less (1.0%)\n",
      "There are 1311 news sources appearing in only 955 subreddits or less (1.0%)\n",
      "There are 1311 news sources appearing in only 956 subreddits or less (1.0%)\n",
      "There are 1311 news sources appearing in only 957 subreddits or less (1.0%)\n",
      "There are 1311 news sources appearing in only 958 subreddits or less (1.0%)\n",
      "There are 1311 news sources appearing in only 959 subreddits or less (1.0%)\n",
      "There are 1311 news sources appearing in only 960 subreddits or less (1.0%)\n",
      "There are 1311 news sources appearing in only 961 subreddits or less (1.0%)\n",
      "There are 1311 news sources appearing in only 962 subreddits or less (1.0%)\n",
      "There are 1311 news sources appearing in only 963 subreddits or less (1.0%)\n",
      "There are 1311 news sources appearing in only 964 subreddits or less (1.0%)\n",
      "There are 1311 news sources appearing in only 965 subreddits or less (1.0%)\n",
      "There are 1311 news sources appearing in only 966 subreddits or less (1.0%)\n",
      "There are 1311 news sources appearing in only 967 subreddits or less (1.0%)\n",
      "There are 1311 news sources appearing in only 968 subreddits or less (1.0%)\n",
      "There are 1311 news sources appearing in only 969 subreddits or less (1.0%)\n",
      "There are 1311 news sources appearing in only 970 subreddits or less (1.0%)\n",
      "There are 1311 news sources appearing in only 971 subreddits or less (1.0%)\n",
      "There are 1311 news sources appearing in only 972 subreddits or less (1.0%)\n",
      "There are 1311 news sources appearing in only 973 subreddits or less (1.0%)\n",
      "There are 1311 news sources appearing in only 974 subreddits or less (1.0%)\n",
      "There are 1311 news sources appearing in only 975 subreddits or less (1.0%)\n",
      "There are 1311 news sources appearing in only 976 subreddits or less (1.0%)\n",
      "There are 1311 news sources appearing in only 977 subreddits or less (1.0%)\n",
      "There are 1311 news sources appearing in only 978 subreddits or less (1.0%)\n",
      "There are 1311 news sources appearing in only 979 subreddits or less (1.0%)\n",
      "There are 1311 news sources appearing in only 980 subreddits or less (1.0%)\n",
      "There are 1311 news sources appearing in only 981 subreddits or less (1.0%)\n",
      "There are 1311 news sources appearing in only 982 subreddits or less (1.0%)\n",
      "There are 1311 news sources appearing in only 983 subreddits or less (1.0%)\n",
      "There are 1311 news sources appearing in only 984 subreddits or less (1.0%)\n",
      "There are 1311 news sources appearing in only 985 subreddits or less (1.0%)\n",
      "There are 1311 news sources appearing in only 986 subreddits or less (1.0%)\n",
      "There are 1311 news sources appearing in only 987 subreddits or less (1.0%)\n",
      "There are 1311 news sources appearing in only 988 subreddits or less (1.0%)\n",
      "There are 1311 news sources appearing in only 989 subreddits or less (1.0%)\n",
      "There are 1311 news sources appearing in only 990 subreddits or less (1.0%)\n",
      "There are 1311 news sources appearing in only 991 subreddits or less (1.0%)\n",
      "There are 1311 news sources appearing in only 992 subreddits or less (1.0%)\n",
      "There are 1311 news sources appearing in only 993 subreddits or less (1.0%)\n",
      "There are 1311 news sources appearing in only 994 subreddits or less (1.0%)\n",
      "There are 1311 news sources appearing in only 995 subreddits or less (1.0%)\n",
      "There are 1311 news sources appearing in only 996 subreddits or less (1.0%)\n",
      "There are 1311 news sources appearing in only 997 subreddits or less (1.0%)\n",
      "There are 1311 news sources appearing in only 998 subreddits or less (1.0%)\n",
      "There are 1311 news sources appearing in only 999 subreddits or less (1.0%)\n"
     ]
    }
   ],
   "source": [
    "pct_in_k_subreddits = [(i, pct_ns_in_k_subreddits(i)) for i in range(1000)]"
   ]
  },
  {
   "cell_type": "code",
   "execution_count": 49,
   "metadata": {},
   "outputs": [
    {
     "data": {
      "text/plain": [
       "[(0.0, 80.0)]"
      ]
     },
     "execution_count": 49,
     "metadata": {},
     "output_type": "execute_result"
    },
    {
     "data": {
      "image/png": "[encoded data removed]",
      "text/plain": [
       "<Figure size 1080x432 with 2 Axes>"
      ]
     },
     "metadata": {},
     "output_type": "display_data"
    }
   ],
   "source": [
    "fig, (ax1, ax2) = plt.subplots(1, 2, figsize=(15,6))\n",
    "sns.set(font_scale = 1.2)\n",
    "\n",
    "sns.histplot(scf, log_scale=True, ax=ax1)\n",
    "ax1.set_xlabel(\"number of subreddit\")\n",
    "ax1.set_ylabel(\"news source count\")\n",
    "ax1.set_title(\"number of news sources appearing in x subreddits\")\n",
    "\n",
    "sns.lineplot(x=[k[0] for k in pct_in_k_subreddits],\n",
    "             y=[k[1] for k in pct_in_k_subreddits],\n",
    "            ax=ax2)\n",
    "ax2.set_ylabel(\"percentage\")\n",
    "ax2.set_xlabel(\"# subreddits news sources appear in\")\n",
    "ax2.set_title(\"proportion of news sources appearing in x subreddits or less\")\n",
    "ax2.set(xlim = (0, 80))"
   ]
  },
  {
   "cell_type": "code",
   "execution_count": 50,
   "metadata": {
    "scrolled": true
   },
   "outputs": [
    {
     "data": {
      "text/plain": [
       "3.842868039664378"
      ]
     },
     "execution_count": 50,
     "metadata": {},
     "output_type": "execute_result"
    }
   ],
   "source": [
    "# mean\n",
    "statistics.mean(scf)"
   ]
  },
  {
   "cell_type": "code",
   "execution_count": 51,
   "metadata": {},
   "outputs": [
    {
     "data": {
      "text/plain": [
       "1"
      ]
     },
     "execution_count": 51,
     "metadata": {},
     "output_type": "execute_result"
    }
   ],
   "source": [
    "# median\n",
    "statistics.median(scf)"
   ]
  },
  {
   "cell_type": "markdown",
   "metadata": {},
   "source": [
    "## For each news source let's count how many times they are shared regardless of in which subreddits"
   ]
  },
  {
   "cell_type": "code",
   "execution_count": 52,
   "metadata": {},
   "outputs": [
    {
     "data": {
      "text/plain": [
       "0"
      ]
     },
     "execution_count": 52,
     "metadata": {},
     "output_type": "execute_result"
    }
   ],
   "source": [
    "sum(dict().values())"
   ]
  },
  {
   "cell_type": "code",
   "execution_count": 53,
   "metadata": {},
   "outputs": [],
   "source": [
    "def get_mention_count(ns):\n",
    "    \"\"\"get total mention count of ns in all six months\"\"\"\n",
    "    count = 0\n",
    "    files = [ns_subreddit_01, ns_subreddit_02, ns_subreddit_03, ns_subreddit_04, ns_subreddit_05, ns_subreddit_06]\n",
    "    for f in files:\n",
    "        ns_dict = f.get(ns, dict())\n",
    "        if len(ns_dict) > 0:\n",
    "            mentions = sum([m[0] for m in ns_dict.values()])\n",
    "            count += mentions\n",
    "    return count"
   ]
  },
  {
   "cell_type": "code",
   "execution_count": 54,
   "metadata": {},
   "outputs": [],
   "source": [
    "mention_count = dict()\n",
    "for ns in ns_union:\n",
    "    mention_count[ns] = get_mention_count(ns)"
   ]
  },
  {
   "cell_type": "code",
   "execution_count": 55,
   "metadata": {
    "scrolled": true
   },
   "outputs": [
    {
     "data": {
      "text/plain": [
       "29.977879481311977"
      ]
     },
     "execution_count": 55,
     "metadata": {},
     "output_type": "execute_result"
    }
   ],
   "source": [
    "statistics.mean(mention_count.values())"
   ]
  },
  {
   "cell_type": "code",
   "execution_count": 56,
   "metadata": {},
   "outputs": [
    {
     "data": {
      "text/plain": [
       "213.28571733764264"
      ]
     },
     "execution_count": 56,
     "metadata": {},
     "output_type": "execute_result"
    }
   ],
   "source": [
    "statistics.stdev(mention_count.values())"
   ]
  },
  {
   "cell_type": "code",
   "execution_count": 57,
   "metadata": {},
   "outputs": [
    {
     "data": {
      "text/plain": [
       "2"
      ]
     },
     "execution_count": 57,
     "metadata": {},
     "output_type": "execute_result"
    }
   ],
   "source": [
    "statistics.median(mention_count.values())"
   ]
  },
  {
   "cell_type": "code",
   "execution_count": 58,
   "metadata": {
    "scrolled": true
   },
   "outputs": [
    {
     "data": {
      "text/plain": [
       "1311"
      ]
     },
     "execution_count": 58,
     "metadata": {},
     "output_type": "execute_result"
    }
   ],
   "source": [
    "len(mention_count)"
   ]
  },
  {
   "cell_type": "code",
   "execution_count": 59,
   "metadata": {},
   "outputs": [
    {
     "data": {
      "text/plain": [
       "[('nba.com', 5540),\n",
       " ('espn.com', 3913),\n",
       " ('nbcsports.com', 2011),\n",
       " ('usatoday.com', 1416),\n",
       " ('theathletic.com', 1240),\n",
       " ('si.com', 1195),\n",
       " ('bleacherreport.com', 1063),\n",
       " ('nfl.com', 927),\n",
       " ('cbssports.com', 789),\n",
       " ('theguardian.com', 509),\n",
       " ('pff.com', 503),\n",
       " ('manutd.com', 464),\n",
       " ('telegraph.co.uk', 405),\n",
       " ('skysports.com', 403),\n",
       " ('bbc.co.uk', 375),\n",
       " ('denverbroncos.com', 356),\n",
       " ('theringer.com', 340),\n",
       " ('arsenal.com', 336),\n",
       " ('goal.com', 334),\n",
       " ('football.london', 320)]"
      ]
     },
     "execution_count": 59,
     "metadata": {},
     "output_type": "execute_result"
    }
   ],
   "source": [
    "Counter(mention_count).most_common(20)"
   ]
  },
  {
   "cell_type": "code",
   "execution_count": 60,
   "metadata": {},
   "outputs": [
    {
     "data": {
      "text/plain": [
       "7"
      ]
     },
     "execution_count": 60,
     "metadata": {},
     "output_type": "execute_result"
    }
   ],
   "source": [
    "news_ge10k = [m for m in mention_count if mention_count[m] >= 1000]\n",
    "len(news_ge10k)"
   ]
  },
  {
   "cell_type": "code",
   "execution_count": 61,
   "metadata": {},
   "outputs": [
    {
     "data": {
      "text/plain": [
       "<AxesSubplot:ylabel='Count'>"
      ]
     },
     "execution_count": 61,
     "metadata": {},
     "output_type": "execute_result"
    },
    {
     "data": {
      "image/png": "[encoded data removed]",
      "text/plain": [
       "<Figure size 432x288 with 1 Axes>"
      ]
     },
     "metadata": {},
     "output_type": "display_data"
    }
   ],
   "source": [
    "sns.histplot(list(mention_count.values()), log_scale=True)"
   ]
  },
  {
   "cell_type": "code",
   "execution_count": 62,
   "metadata": {},
   "outputs": [
    {
     "data": {
      "text/plain": [
       "<AxesSubplot:ylabel='Count'>"
      ]
     },
     "execution_count": 62,
     "metadata": {},
     "output_type": "execute_result"
    },
    {
     "data": {
      "image/png": "[encoded data removed]",
      "text/plain": [
       "<Figure size 432x288 with 1 Axes>"
      ]
     },
     "metadata": {},
     "output_type": "display_data"
    }
   ],
   "source": [
    "sns.histplot(list([k for k in mention_count.values() if k <100000]), log_scale=True)"
   ]
  },
  {
   "cell_type": "code",
   "execution_count": 63,
   "metadata": {},
   "outputs": [
    {
     "data": {
      "text/plain": [
       "63.768115942028984"
      ]
     },
     "execution_count": 63,
     "metadata": {},
     "output_type": "execute_result"
    }
   ],
   "source": [
    "len([k for k in mention_count.values() if k <5])*100/len(mention_count)"
   ]
  },
  {
   "cell_type": "code",
   "execution_count": 64,
   "metadata": {},
   "outputs": [
    {
     "data": {
      "text/plain": [
       "852.15"
      ]
     },
     "execution_count": 64,
     "metadata": {},
     "output_type": "execute_result"
    }
   ],
   "source": [
    "(1-0.35)*len(mention_count)"
   ]
  },
  {
   "cell_type": "markdown",
   "metadata": {},
   "source": [
    "## For each subreddit let's count how many news sources were mentioned in it"
   ]
  },
  {
   "cell_type": "markdown",
   "metadata": {},
   "source": [
    "Counting how many news sources were mentioned in each subreddit"
   ]
  },
  {
   "cell_type": "code",
   "execution_count": 65,
   "metadata": {},
   "outputs": [],
   "source": [
    "nsc_count = dict()\n",
    "for sr in sr_union:\n",
    "    nsc_count[sr] = len(set(subreddit_ns_jan.get(sr, dict()).keys()) \n",
    "                               | set(subreddit_ns_feb.get(sr, dict()).keys()) \n",
    "                               | set(subreddit_ns_march.get(sr, dict()).keys()) \n",
    "                               | set(subreddit_ns_april.get(sr, dict()).keys())\n",
    "                               | set(subreddit_ns_may.get(sr, dict()).keys()) \n",
    "                               | set(subreddit_ns_jun.get(sr, dict()).keys()))"
   ]
  },
  {
   "cell_type": "markdown",
   "metadata": {},
   "source": [
    "`nsc_count` stores how many news sources appear in each subreddit."
   ]
  },
  {
   "cell_type": "code",
   "execution_count": 66,
   "metadata": {},
   "outputs": [
    {
     "data": {
      "text/plain": [
       "0"
      ]
     },
     "execution_count": 66,
     "metadata": {},
     "output_type": "execute_result"
    }
   ],
   "source": [
    "len([k for k in nsc_count if nsc_count[k]<1])"
   ]
  },
  {
   "cell_type": "code",
   "execution_count": 67,
   "metadata": {},
   "outputs": [
    {
     "data": {
      "text/plain": [
       "{56: 3,\n",
       " 53: 3,\n",
       " 66: 3,\n",
       " 36: 3,\n",
       " 43: 3,\n",
       " 77: 3,\n",
       " 80: 3,\n",
       " 42: 2,\n",
       " 38: 2,\n",
       " 49: 2,\n",
       " 98: 2,\n",
       " 40: 2,\n",
       " 81: 2,\n",
       " 60: 2,\n",
       " 88: 2,\n",
       " 52: 2,\n",
       " 54: 2,\n",
       " 47: 2,\n",
       " 39: 2,\n",
       " 96: 2,\n",
       " 7: 2,\n",
       " 104: 1,\n",
       " 95: 1,\n",
       " 94: 1,\n",
       " 226: 1,\n",
       " 11: 1,\n",
       " 71: 1,\n",
       " 22: 1,\n",
       " 136: 1,\n",
       " 63: 1,\n",
       " 35: 1,\n",
       " 76: 1,\n",
       " 188: 1,\n",
       " 82: 1,\n",
       " 9: 1,\n",
       " 75: 1,\n",
       " 141: 1,\n",
       " 65: 1,\n",
       " 153: 1,\n",
       " 5: 1,\n",
       " 83: 1,\n",
       " 14: 1,\n",
       " 48: 1,\n",
       " 62: 1,\n",
       " 97: 1,\n",
       " 108: 1,\n",
       " 31: 1,\n",
       " 1: 1,\n",
       " 61: 1,\n",
       " 67: 1}"
      ]
     },
     "execution_count": 67,
     "metadata": {},
     "output_type": "execute_result"
    }
   ],
   "source": [
    "nsc_count_freq = dict(Counter(nsc_count.values()).most_common())\n",
    "nsc_count_freq"
   ]
  },
  {
   "cell_type": "markdown",
   "metadata": {},
   "source": [
    "`nsc_count_freq` keeps track of how many news sources appear in *n* subreddits for all possible *n*."
   ]
  },
  {
   "cell_type": "code",
   "execution_count": 68,
   "metadata": {},
   "outputs": [
    {
     "data": {
      "text/plain": [
       "226"
      ]
     },
     "execution_count": 68,
     "metadata": {},
     "output_type": "execute_result"
    }
   ],
   "source": [
    "max(nsc_count_freq.keys())"
   ]
  },
  {
   "cell_type": "code",
   "execution_count": 69,
   "metadata": {},
   "outputs": [
    {
     "name": "stdout",
     "output_type": "stream",
     "text": [
      "Gunners has 226 news sources mentioned in it.\n",
      "reddevils has 188 news sources mentioned in it.\n",
      "coys has 153 news sources mentioned in it.\n",
      "LiverpoolFC has 141 news sources mentioned in it.\n",
      "chelseafc has 136 news sources mentioned in it.\n",
      "lakers has 108 news sources mentioned in it.\n",
      "buccaneers has 104 news sources mentioned in it.\n",
      "CHIBears has 98 news sources mentioned in it.\n",
      "bostonceltics has 98 news sources mentioned in it.\n",
      "Patriots has 97 news sources mentioned in it.\n",
      "GreenBayPackers has 96 news sources mentioned in it.\n",
      "detroitlions has 96 news sources mentioned in it.\n",
      "torontoraptors has 95 news sources mentioned in it.\n",
      "buffalobills has 94 news sources mentioned in it.\n",
      "DenverBroncos has 88 news sources mentioned in it.\n",
      "MCFC has 88 news sources mentioned in it.\n",
      "nyjets has 83 news sources mentioned in it.\n",
      "Seahawks has 82 news sources mentioned in it.\n",
      "Browns has 81 news sources mentioned in it.\n",
      "eagles has 81 news sources mentioned in it.\n",
      "warriors has 80 news sources mentioned in it.\n",
      "49ers has 80 news sources mentioned in it.\n",
      "NYKnicks has 80 news sources mentioned in it.\n"
     ]
    }
   ],
   "source": [
    "nsc_ranked = Counter(nsc_count).most_common()\n",
    "\n",
    "for t in nsc_ranked:\n",
    "    sr, co = t\n",
    "    if co >= 80:\n",
    "        print(f\"{sr} has {co} news sources mentioned in it.\")"
   ]
  },
  {
   "cell_type": "code",
   "execution_count": 70,
   "metadata": {},
   "outputs": [
    {
     "data": {
      "text/plain": [
       "True"
      ]
     },
     "execution_count": 70,
     "metadata": {},
     "output_type": "execute_result"
    }
   ],
   "source": [
    "sum(nsc_count_freq.values()) == len(sr_union)"
   ]
  },
  {
   "cell_type": "code",
   "execution_count": 71,
   "metadata": {},
   "outputs": [],
   "source": [
    "import itertools"
   ]
  },
  {
   "cell_type": "code",
   "execution_count": 72,
   "metadata": {},
   "outputs": [],
   "source": [
    "nsc = list(itertools.chain.from_iterable(itertools.repeat(k,v) for k,v in nsc_count_freq.items()))"
   ]
  },
  {
   "cell_type": "code",
   "execution_count": 73,
   "metadata": {
    "scrolled": true
   },
   "outputs": [
    {
     "data": {
      "text/plain": [
       "Text(0.5, 1.0, 'number of subreddits with x news sources')"
      ]
     },
     "execution_count": 73,
     "metadata": {},
     "output_type": "execute_result"
    },
    {
     "data": {
      "image/png": "[encoded data removed]",
      "text/plain": [
       "<Figure size 432x288 with 1 Axes>"
      ]
     },
     "metadata": {},
     "output_type": "display_data"
    }
   ],
   "source": [
    "sns.histplot(nsc, log_scale=True)\n",
    "plt.xlabel(\"number of news source\")\n",
    "plt.ylabel(\"subreddit count\")\n",
    "plt.title(\"number of subreddits with x news sources\")"
   ]
  },
  {
   "cell_type": "code",
   "execution_count": 74,
   "metadata": {},
   "outputs": [
    {
     "data": {
      "text/plain": [
       "71"
      ]
     },
     "execution_count": 74,
     "metadata": {},
     "output_type": "execute_result"
    }
   ],
   "source": [
    "len([n for n in nsc if n>=20])"
   ]
  },
  {
   "cell_type": "markdown",
   "metadata": {},
   "source": [
    "How many subreddits only mentioned 5 news sources or less?"
   ]
  },
  {
   "cell_type": "code",
   "execution_count": 75,
   "metadata": {},
   "outputs": [],
   "source": [
    "def pct_subreddits_mentioning_k_newssources(ks):\n",
    "    sr_mention_i_nsc = [k for k in nsc_count if nsc_count[k] <= ks]\n",
    "    count = len(sr_mention_i_nsc)\n",
    "    print(\"There are {} subreddits mentioning in only {} news sources or less ({}%)\".format(count, ks, count/len(sr_union)))\n",
    "    return count/len(sr_union)"
   ]
  },
  {
   "cell_type": "code",
   "execution_count": 76,
   "metadata": {},
   "outputs": [
    {
     "name": "stdout",
     "output_type": "stream",
     "text": [
      "There are 7 subreddits mentioning in only 20 news sources or less (0.08974358974358974%)\n"
     ]
    },
    {
     "data": {
      "text/plain": [
       "0.08974358974358974"
      ]
     },
     "execution_count": 76,
     "metadata": {},
     "output_type": "execute_result"
    }
   ],
   "source": [
    "pct_subreddits_mentioning_k_newssources(20)"
   ]
  },
  {
   "cell_type": "code",
   "execution_count": 77,
   "metadata": {
    "scrolled": true
   },
   "outputs": [
    {
     "data": {
      "text/plain": [
       "64.58974358974359"
      ]
     },
     "execution_count": 77,
     "metadata": {},
     "output_type": "execute_result"
    }
   ],
   "source": [
    "# mean\n",
    "statistics.mean(nsc)"
   ]
  },
  {
   "cell_type": "code",
   "execution_count": 78,
   "metadata": {},
   "outputs": [
    {
     "data": {
      "text/plain": [
       "58.0"
      ]
     },
     "execution_count": 78,
     "metadata": {},
     "output_type": "execute_result"
    }
   ],
   "source": [
    "# median\n",
    "statistics.median(nsc)"
   ]
  },
  {
   "cell_type": "markdown",
   "metadata": {},
   "source": [
    "## For each subreddit let's count total submissions that are news source related"
   ]
  },
  {
   "cell_type": "code",
   "execution_count": 79,
   "metadata": {},
   "outputs": [],
   "source": [
    "def get_submission_count(sb):\n",
    "    \"\"\"get total mention count of ns in all six months\"\"\"\n",
    "    count = 0\n",
    "    files = [subreddit_ns_jan, subreddit_ns_feb, subreddit_ns_march, subreddit_ns_april, subreddit_ns_may, subreddit_ns_jun]\n",
    "    for f in files:\n",
    "        sb_dict = f.get(sb, dict())\n",
    "        if len(sb_dict) > 0:\n",
    "            mentions = sum([m[0] for m in sb_dict.values()])\n",
    "            count += mentions\n",
    "    return count"
   ]
  },
  {
   "cell_type": "code",
   "execution_count": 80,
   "metadata": {},
   "outputs": [],
   "source": [
    "mention_count = dict()\n",
    "for sb in sr_union:\n",
    "    mention_count[sb] = get_submission_count(sb)"
   ]
  },
  {
   "cell_type": "code",
   "execution_count": 81,
   "metadata": {
    "scrolled": true
   },
   "outputs": [
    {
     "data": {
      "text/plain": [
       "503.85897435897436"
      ]
     },
     "execution_count": 81,
     "metadata": {},
     "output_type": "execute_result"
    }
   ],
   "source": [
    "statistics.mean(mention_count.values())"
   ]
  },
  {
   "cell_type": "code",
   "execution_count": 82,
   "metadata": {},
   "outputs": [
    {
     "data": {
      "text/plain": [
       "405.13171577427397"
      ]
     },
     "execution_count": 82,
     "metadata": {},
     "output_type": "execute_result"
    }
   ],
   "source": [
    "statistics.stdev(mention_count.values())"
   ]
  },
  {
   "cell_type": "code",
   "execution_count": 83,
   "metadata": {},
   "outputs": [
    {
     "data": {
      "text/plain": [
       "400.5"
      ]
     },
     "execution_count": 83,
     "metadata": {},
     "output_type": "execute_result"
    }
   ],
   "source": [
    "statistics.median(mention_count.values())"
   ]
  },
  {
   "cell_type": "code",
   "execution_count": 84,
   "metadata": {
    "scrolled": true
   },
   "outputs": [
    {
     "data": {
      "text/plain": [
       "78"
      ]
     },
     "execution_count": 84,
     "metadata": {},
     "output_type": "execute_result"
    }
   ],
   "source": [
    "len(mention_count)"
   ]
  },
  {
   "cell_type": "code",
   "execution_count": 85,
   "metadata": {},
   "outputs": [
    {
     "data": {
      "text/plain": [
       "[('reddevils', 1991),\n",
       " ('Gunners', 1974),\n",
       " ('MkeBucks', 1331),\n",
       " ('NYKnicks', 1290),\n",
       " ('warriors', 1279),\n",
       " ('DenverBroncos', 1271),\n",
       " ('chelseafc', 1127),\n",
       " ('torontoraptors', 1075),\n",
       " ('denvernuggets', 1033),\n",
       " ('coys', 1007),\n",
       " ('Patriots', 840),\n",
       " ('49ers', 827),\n",
       " ('LiverpoolFC', 811),\n",
       " ('detroitlions', 766),\n",
       " ('CHIBears', 724),\n",
       " ('eagles', 704),\n",
       " ('GreenBayPackers', 698),\n",
       " ('Seahawks', 692),\n",
       " ('bostonceltics', 681),\n",
       " ('suns', 663)]"
      ]
     },
     "execution_count": 85,
     "metadata": {},
     "output_type": "execute_result"
    }
   ],
   "source": [
    "Counter(mention_count).most_common(20)"
   ]
  },
  {
   "cell_type": "code",
   "execution_count": 86,
   "metadata": {},
   "outputs": [
    {
     "data": {
      "text/plain": [
       "{'steelers': [1, 1.0, 1]}"
      ]
     },
     "execution_count": 86,
     "metadata": {},
     "output_type": "execute_result"
    }
   ],
   "source": [
    "ns_subreddit_01['cbc.ca']"
   ]
  },
  {
   "cell_type": "code",
   "execution_count": 87,
   "metadata": {},
   "outputs": [
    {
     "data": {
      "text/plain": [
       "<AxesSubplot:ylabel='Count'>"
      ]
     },
     "execution_count": 87,
     "metadata": {},
     "output_type": "execute_result"
    },
    {
     "data": {
      "image/png": "[encoded data removed]",
      "text/plain": [
       "<Figure size 432x288 with 1 Axes>"
      ]
     },
     "metadata": {},
     "output_type": "display_data"
    }
   ],
   "source": [
    "sns.histplot(list(mention_count.values()), log_scale=True)"
   ]
  },
  {
   "cell_type": "code",
   "execution_count": 88,
   "metadata": {},
   "outputs": [
    {
     "data": {
      "text/plain": [
       "1.2820512820512822"
      ]
     },
     "execution_count": 88,
     "metadata": {},
     "output_type": "execute_result"
    }
   ],
   "source": [
    "len([k for k in mention_count.values() if k <5])*100/len(mention_count)"
   ]
  },
  {
   "cell_type": "code",
   "execution_count": 89,
   "metadata": {},
   "outputs": [
    {
     "data": {
      "text/plain": [
       "50.7"
      ]
     },
     "execution_count": 89,
     "metadata": {},
     "output_type": "execute_result"
    }
   ],
   "source": [
    "(1-0.35)*len(mention_count)"
   ]
  },
  {
   "cell_type": "markdown",
   "metadata": {},
   "source": [
    "## upvote based weight vs comment based weight \n",
    "\n",
    "Do they have correlation?"
   ]
  },
  {
   "cell_type": "markdown",
   "metadata": {},
   "source": [
    "Let's look at January's data"
   ]
  },
  {
   "cell_type": "code",
   "execution_count": 90,
   "metadata": {},
   "outputs": [],
   "source": [
    "upvote_based = [ns_subreddit_01[ns][sr][1] for ns in ns_subreddit_01 for sr in ns_subreddit_01[ns]]\n",
    "comment_based = [ns_subreddit_01[ns][sr][2] for ns in ns_subreddit_01 for sr in ns_subreddit_01[ns]]\n",
    "unweighted = [ns_subreddit_01[ns][sr][0] for ns in ns_subreddit_01 for sr in ns_subreddit_01[ns]]"
   ]
  },
  {
   "cell_type": "code",
   "execution_count": 91,
   "metadata": {},
   "outputs": [
    {
     "data": {
      "text/plain": [
       "Text(0, 0.5, 'upvote_based')"
      ]
     },
     "execution_count": 91,
     "metadata": {},
     "output_type": "execute_result"
    },
    {
     "data": {
      "image/png": "[encoded data removed]",
      "text/plain": [
       "<Figure size 432x288 with 1 Axes>"
      ]
     },
     "metadata": {},
     "output_type": "display_data"
    }
   ],
   "source": [
    "sns.scatterplot(x=comment_based, y=upvote_based, alpha=0.5)\n",
    "plt.xlabel(\"comment_based\")\n",
    "plt.ylabel(\"upvote_based\")\n",
    "# plt.xlim([-100000,4000000])\n",
    "# plt.ylim([-5000,150000])"
   ]
  },
  {
   "cell_type": "code",
   "execution_count": 92,
   "metadata": {},
   "outputs": [
    {
     "data": {
      "text/plain": [
       "Text(0, 0.5, 'upvote_based')"
      ]
     },
     "execution_count": 92,
     "metadata": {},
     "output_type": "execute_result"
    },
    {
     "data": {
      "image/png": "[encoded data removed]",
      "text/plain": [
       "<Figure size 432x288 with 1 Axes>"
      ]
     },
     "metadata": {},
     "output_type": "display_data"
    }
   ],
   "source": [
    "a = sns.scatterplot(x=np.log(np.array([c+1 for c in comment_based])), y=np.log(np.array([u+1 for u in upvote_based])), alpha=0.2)\n",
    "plt.xlabel(\"comment_based\")\n",
    "plt.ylabel(\"upvote_based\")"
   ]
  },
  {
   "cell_type": "code",
   "execution_count": 93,
   "metadata": {},
   "outputs": [],
   "source": [
    "from scipy.stats import pearsonr"
   ]
  },
  {
   "cell_type": "code",
   "execution_count": 94,
   "metadata": {},
   "outputs": [
    {
     "data": {
      "text/plain": [
       "0.7232715080561878"
      ]
     },
     "execution_count": 94,
     "metadata": {},
     "output_type": "execute_result"
    }
   ],
   "source": [
    "corr, _ = pearsonr(np.log(np.array([c+1 for c in comment_based])), np.log(np.array([u+1 for u in upvote_based])))\n",
    "corr"
   ]
  },
  {
   "cell_type": "code",
   "execution_count": 95,
   "metadata": {},
   "outputs": [
    {
     "data": {
      "text/plain": [
       "0.7516748601944011"
      ]
     },
     "execution_count": 95,
     "metadata": {},
     "output_type": "execute_result"
    }
   ],
   "source": [
    "corr_raw, _ = pearsonr(comment_based, upvote_based)\n",
    "corr_raw"
   ]
  },
  {
   "cell_type": "code",
   "execution_count": 96,
   "metadata": {},
   "outputs": [
    {
     "data": {
      "text/plain": [
       "85"
      ]
     },
     "execution_count": 96,
     "metadata": {},
     "output_type": "execute_result"
    }
   ],
   "source": [
    "non_outlier = [n for n in ns_union if subreddit_count[n]>10]\n",
    "len(non_outlier)"
   ]
  },
  {
   "cell_type": "markdown",
   "metadata": {},
   "source": [
    "## Cluster Try Out"
   ]
  },
  {
   "cell_type": "markdown",
   "metadata": {},
   "source": [
    "First, I make a list of subreddits with fixed order, where I only include subreddits where our non_outlier news sources are mentioned in."
   ]
  },
  {
   "cell_type": "code",
   "execution_count": 97,
   "metadata": {},
   "outputs": [
    {
     "data": {
      "text/plain": [
       "85"
      ]
     },
     "execution_count": 97,
     "metadata": {},
     "output_type": "execute_result"
    }
   ],
   "source": [
    "len(non_outlier)"
   ]
  },
  {
   "cell_type": "code",
   "execution_count": 98,
   "metadata": {
    "scrolled": true
   },
   "outputs": [
    {
     "data": {
      "text/plain": [
       "67"
      ]
     },
     "execution_count": 98,
     "metadata": {},
     "output_type": "execute_result"
    }
   ],
   "source": [
    "# subreddits = subs\n",
    "subreddits = set()\n",
    "nsr_files = [ns_subreddit_01, ns_subreddit_02, ns_subreddit_03, ns_subreddit_04, ns_subreddit_05, ns_subreddit_06]\n",
    "# first, I filter for only the subreddits in which our news sources are mentioned\n",
    "c = 0\n",
    "for n in non_outlier:\n",
    "    subreddits = (subreddits | (set(ns_subreddit_01.get(n, dict()).keys()) \n",
    "                               & set(ns_subreddit_02.get(n, dict()).keys()) \n",
    "                               & set(ns_subreddit_03.get(n, dict()).keys()) \n",
    "                               & set(ns_subreddit_04.get(n, dict()).keys())\n",
    "                               & set(ns_subreddit_05.get(n, dict()).keys()) \n",
    "                               & set(ns_subreddit_06.get(n, dict()).keys())))\n",
    "    c += 1\n",
    "    if c%100==0: print(f\"done {c}\")\n",
    "subreddits = list(subreddits)\n",
    "len(subreddits)"
   ]
  },
  {
   "cell_type": "markdown",
   "metadata": {},
   "source": [
    "There are 9195 subreddits."
   ]
  },
  {
   "cell_type": "code",
   "execution_count": 99,
   "metadata": {},
   "outputs": [
    {
     "data": {
      "text/plain": [
       "['MkeBucks',\n",
       " 'Chargers',\n",
       " 'lcfc',\n",
       " 'Thunder',\n",
       " 'denvernuggets',\n",
       " 'warriors',\n",
       " 'timberwolves',\n",
       " 'chicagobulls',\n",
       " 'MCFC',\n",
       " 'DenverBroncos']"
      ]
     },
     "execution_count": 99,
     "metadata": {},
     "output_type": "execute_result"
    }
   ],
   "source": [
    "subreddits[-10:]"
   ]
  },
  {
   "cell_type": "markdown",
   "metadata": {},
   "source": [
    "If I should order them later, I can do so."
   ]
  },
  {
   "cell_type": "markdown",
   "metadata": {},
   "source": [
    "## Incorporating subscribers information"
   ]
  },
  {
   "cell_type": "code",
   "execution_count": 100,
   "metadata": {},
   "outputs": [],
   "source": [
    "pd1 = os.path.split(os.getcwd())[0]\n",
    "data_fp = os.path.join(pd1,\"data/gm-newssources-subreddits\")\n",
    "dfp = os.path.join(pd1,\"data\")"
   ]
  },
  {
   "cell_type": "code",
   "execution_count": 101,
   "metadata": {},
   "outputs": [],
   "source": [
    "sfp = os.path.join(pd1,\"data/subreddits\")"
   ]
  },
  {
   "cell_type": "code",
   "execution_count": 102,
   "metadata": {},
   "outputs": [],
   "source": [
    "# Let's only use the subreddits that have lots of subscribers\n",
    "with open (os.path.join(sfp,\"subreddit_subscribers.json\"), \"r\", encoding = \"utf-8\") as infile:\n",
    "    subreddit_subscribers = json.load(infile)"
   ]
  },
  {
   "cell_type": "code",
   "execution_count": 103,
   "metadata": {},
   "outputs": [
    {
     "data": {
      "text/plain": [
       "6201779"
      ]
     },
     "execution_count": 103,
     "metadata": {},
     "output_type": "execute_result"
    }
   ],
   "source": [
    "subreddit_subscribers['politics']"
   ]
  },
  {
   "cell_type": "code",
   "execution_count": 104,
   "metadata": {},
   "outputs": [
    {
     "data": {
      "text/plain": [
       "49055"
      ]
     },
     "execution_count": 104,
     "metadata": {},
     "output_type": "execute_result"
    }
   ],
   "source": [
    "len(subreddit_subscribers)"
   ]
  },
  {
   "cell_type": "code",
   "execution_count": 105,
   "metadata": {},
   "outputs": [
    {
     "data": {
      "text/plain": [
       "67"
      ]
     },
     "execution_count": 105,
     "metadata": {},
     "output_type": "execute_result"
    }
   ],
   "source": [
    "len(subreddits)"
   ]
  },
  {
   "cell_type": "code",
   "execution_count": 106,
   "metadata": {
    "scrolled": true
   },
   "outputs": [
    {
     "data": {
      "text/plain": [
       "67"
      ]
     },
     "execution_count": 106,
     "metadata": {},
     "output_type": "execute_result"
    }
   ],
   "source": [
    "subreddits_w_subc = [k for k in subreddits if k in subreddit_subscribers]\n",
    "len(subreddits_w_subc)"
   ]
  },
  {
   "cell_type": "markdown",
   "metadata": {},
   "source": [
    "It seems that there are `None` values, so let's filter those subreddits out."
   ]
  },
  {
   "cell_type": "code",
   "execution_count": 107,
   "metadata": {},
   "outputs": [
    {
     "name": "stdout",
     "output_type": "stream",
     "text": [
      "[]\n"
     ]
    }
   ],
   "source": [
    "print([s for s in subreddits_w_subc if subreddit_subscribers[s] is None])"
   ]
  },
  {
   "cell_type": "code",
   "execution_count": 108,
   "metadata": {},
   "outputs": [],
   "source": [
    "subreddits_w_subc = [s for s in subreddits_w_subc if subreddit_subscribers[s] is not None]"
   ]
  },
  {
   "cell_type": "code",
   "execution_count": 109,
   "metadata": {},
   "outputs": [
    {
     "data": {
      "text/plain": [
       "67"
      ]
     },
     "execution_count": 109,
     "metadata": {},
     "output_type": "execute_result"
    }
   ],
   "source": [
    "len(subreddits_w_subc)"
   ]
  },
  {
   "cell_type": "markdown",
   "metadata": {},
   "source": [
    "Now, I will sort the 8,294 subreddits based on the # of their subscribers in a descending order."
   ]
  },
  {
   "cell_type": "code",
   "execution_count": 110,
   "metadata": {},
   "outputs": [],
   "source": [
    "srs_all = sorted(subreddits_w_subc, key= lambda x: subreddit_subscribers[x], reverse= True)"
   ]
  },
  {
   "cell_type": "code",
   "execution_count": 111,
   "metadata": {
    "scrolled": false
   },
   "outputs": [
    {
     "data": {
      "text/plain": [
       "Text(0.5, 1.0, 'Subreddits Subscribers')"
      ]
     },
     "execution_count": 111,
     "metadata": {},
     "output_type": "execute_result"
    },
    {
     "data": {
      "image/png": "[encoded data removed]",
      "text/plain": [
       "<Figure size 432x288 with 1 Axes>"
      ]
     },
     "metadata": {},
     "output_type": "display_data"
    }
   ],
   "source": [
    "# plt.hist([math.log(subreddit_subscribers[s],10) for s in srs_all if subreddit_subscribers[s] > 0])\n",
    "sns.histplot([subreddit_subscribers[s] for s in srs_all if subreddit_subscribers[s]>0], log_scale=True)\n",
    "# plt.hist([subreddit_subscribers[s] for s in srs_all if subreddit_subscribers[s] > 0])\n",
    "# plt.yscale(\"log\")\n",
    "# plt.xscale(\"log\")\n",
    "plt.ylabel(\"number of subreddits\")\n",
    "plt.xlabel(\"number of subscribers (10^)\")\n",
    "plt.title(\"Subreddits Subscribers\")\n",
    "# log scale for both x and y"
   ]
  },
  {
   "cell_type": "markdown",
   "metadata": {},
   "source": [
    "Which subreddits are the top three?"
   ]
  },
  {
   "cell_type": "code",
   "execution_count": 112,
   "metadata": {},
   "outputs": [
    {
     "name": "stdout",
     "output_type": "stream",
     "text": [
      "[('Patriots', 535250), ('LosAngelesRams', 387495), ('warriors', 265568), ('LiverpoolFC', 250977), ('reddevils', 240096), ('lakers', 239106), ('torontoraptors', 229126), ('bostonceltics', 207371), ('eagles', 199979), ('chelseafc', 176842), ('Gunners', 162044), ('GreenBayPackers', 157249), ('sixers', 149868), ('cowboys', 133201), ('rockets', 128870), ('chicagobulls', 126536), ('steelers', 115849), ('49ers', 110980), ('NYKnicks', 110101), ('minnesotavikings', 107310), ('Seahawks', 104920), ('MkeBucks', 102969), ('GoNets', 102496), ('Mavericks', 101968), ('CHIBears', 99668), ('Thunder', 96946), ('AtlantaHawks', 96345), ('falcons', 95529), ('KansasCityChiefs', 93204), ('ravens', 90432), ('NBASpurs', 90311), ('timberwolves', 85685), ('Browns', 84275), ('denvernuggets', 82369), ('washingtonwizards', 80246), ('suns', 79819), ('UtahJazz', 79381), ('DenverBroncos', 78960), ('LAClippers', 78619), ('kings', 78406), ('detroitlions', 78160), ('NYGiants', 75984), ('pacers', 71666), ('DetroitPistons', 71330), ('NOLAPelicans', 71292), ('coys', 68733), ('memphisgrizzlies', 67907), ('Saints', 67511), ('MCFC', 67281), ('miamidolphins', 65440), ('CharlotteHornets', 65199), ('buffalobills', 63978), ('bengals', 63650), ('nyjets', 63602), ('panthers', 62618), ('buccaneers', 60592), ('clevelandcavs', 58327), ('Texans', 56252), ('Colts', 53095), ('AZCardinals', 49764), ('heat', 48263), ('Tennesseetitans', 47197), ('Chargers', 46509), ('Jaguars', 46249), ('Everton', 21052)]\n"
     ]
    }
   ],
   "source": [
    "print([(s,subreddit_subscribers[s]) for s in srs_all if subreddit_subscribers[s]>10000])"
   ]
  },
  {
   "cell_type": "code",
   "execution_count": 113,
   "metadata": {},
   "outputs": [
    {
     "data": {
      "text/plain": [
       "25"
      ]
     },
     "execution_count": 113,
     "metadata": {},
     "output_type": "execute_result"
    }
   ],
   "source": [
    "list(subreddit_subscribers.values()).count(None)"
   ]
  },
  {
   "cell_type": "code",
   "execution_count": 114,
   "metadata": {},
   "outputs": [
    {
     "data": {
      "text/plain": [
       "1420.0"
      ]
     },
     "execution_count": 114,
     "metadata": {},
     "output_type": "execute_result"
    }
   ],
   "source": [
    "statistics.median([k for k in list(subreddit_subscribers.values()) if k is not None])"
   ]
  },
  {
   "cell_type": "code",
   "execution_count": 115,
   "metadata": {},
   "outputs": [
    {
     "data": {
      "text/plain": [
       "50070.832184376915"
      ]
     },
     "execution_count": 115,
     "metadata": {},
     "output_type": "execute_result"
    }
   ],
   "source": [
    "statistics.mean([k for k in list(subreddit_subscribers.values()) if k is not None])"
   ]
  },
  {
   "cell_type": "markdown",
   "metadata": {},
   "source": [
    "## Building `ns_repr`\n",
    "\n",
    "Which will be in the form of feature-based matrix, where each row represents a news source, and columns representing subreddits. \n",
    "\n",
    "Idea 1: Each subreddit will be represented by 18 columns: unweighted count, upvote based weighted count, and comment based weighted count for each of the six months that we are interested in. THIS does not work.\n",
    "\n",
    "Idea 2: Each subreddit will be represented by 3 columns: average unweighted count, average upvote based weighted count, and average comment based weighted count."
   ]
  },
  {
   "cell_type": "code",
   "execution_count": 116,
   "metadata": {},
   "outputs": [],
   "source": [
    "srs = srs_all"
   ]
  },
  {
   "cell_type": "code",
   "execution_count": 117,
   "metadata": {},
   "outputs": [
    {
     "data": {
      "text/plain": [
       "{'a': 1, 'b': 1, 'c': 2}"
      ]
     },
     "execution_count": 117,
     "metadata": {},
     "output_type": "execute_result"
    }
   ],
   "source": [
    "a = {\"a\": 1, \"b\": 2}\n",
    "b = {\"b\": 1, \"c\": 2}\n",
    "res = {**a, **b}\n",
    "res"
   ]
  },
  {
   "cell_type": "markdown",
   "metadata": {},
   "source": [
    "Idea 1: For each news source, I create a list of length `(18 * # subreddits)`.\n",
    "\n",
    "Idea 1: For each news source, I create a list of length `(3 * # subreddits)`"
   ]
  },
  {
   "cell_type": "markdown",
   "metadata": {},
   "source": [
    "Old code\n",
    "```\n",
    "# here I will cast the inner dictionaries of ns_subreddits to be Counter so I can avoid a lot of if-else statements\n",
    "files = [ns_subreddit_01, ns_subreddit_02, ns_subreddit_03, ns_subreddit_04, ns_subreddit_05, ns_subreddit_06]\n",
    "for f in files:\n",
    "    for k in f: # k is each news source\n",
    "        for ns in f[k]:\n",
    "            # averaging based on weighted counts\n",
    "            count, upv, comm = f[k][ns]\n",
    "            avg = (upv + comm)/count\n",
    "            f[k][ns] = avg\n",
    "        f[k] = Counter(f[k])\n",
    "```"
   ]
  },
  {
   "cell_type": "code",
   "execution_count": 118,
   "metadata": {},
   "outputs": [],
   "source": [
    "files_sub = [subreddit_ns_jan, subreddit_ns_feb, subreddit_ns_march, subreddit_ns_april, subreddit_ns_may, subreddit_ns_jun]\n",
    "files_ns = [ns_subreddit_01, ns_subreddit_02, ns_subreddit_03, ns_subreddit_04, ns_subreddit_05, ns_subreddit_06]"
   ]
  },
  {
   "cell_type": "code",
   "execution_count": 119,
   "metadata": {},
   "outputs": [
    {
     "data": {
      "text/plain": [
       "85"
      ]
     },
     "execution_count": 119,
     "metadata": {},
     "output_type": "execute_result"
    }
   ],
   "source": [
    "len(non_outlier)"
   ]
  },
  {
   "cell_type": "code",
   "execution_count": 120,
   "metadata": {},
   "outputs": [
    {
     "data": {
      "text/plain": [
       "67"
      ]
     },
     "execution_count": 120,
     "metadata": {},
     "output_type": "execute_result"
    }
   ],
   "source": [
    "len(srs)"
   ]
  },
  {
   "cell_type": "markdown",
   "metadata": {},
   "source": [
    "I tried and found out that using all 23.7k subreddits results in MemoryError. So I should use less"
   ]
  },
  {
   "cell_type": "code",
   "execution_count": 121,
   "metadata": {},
   "outputs": [],
   "source": [
    "srs = srs_all"
   ]
  },
  {
   "cell_type": "markdown",
   "metadata": {
    "scrolled": true
   },
   "source": [
    "For idea 1:\n",
    "\n",
    "```\n",
    "ns_sr_rep = defaultdict(list)\n",
    "default_counter = Counter() # to avoid a lot of if else statements\n",
    "\n",
    "ncount = 0\n",
    "\n",
    "# for ns in nss:\n",
    "for ns in non_outlier:\n",
    "    # for each news sources, construct the 18*length(subreddits) features\n",
    "    for f in files_sub:\n",
    "        for idx in range(len(srs)):\n",
    "            # making sure the ordering follows `srs` based on subscribers\n",
    "            ns_sr_rep[ns] += f[ns][srs[idx]][1:] if (ns in f and srs[idx] in f[ns]) else [0, 0]\n",
    "    ncount += 1\n",
    "    if ncount%200==0: print(ncount)\n",
    "```"
   ]
  },
  {
   "cell_type": "code",
   "execution_count": 122,
   "metadata": {},
   "outputs": [],
   "source": [
    "# For idea 2\n",
    "\n",
    "ns_sr_rep = defaultdict(list)\n",
    "default_counter = Counter() # to avoid a lot of if else statements\n",
    "\n",
    "ncount = 0\n",
    "\n",
    "# for ns in nss:\n",
    "for ns in non_outlier:\n",
    "    # for each news sources, construct the length(subreddits) features\n",
    "    for idx in range(len(srs)):\n",
    "        # making sure the ordering follows `srs` based on subscribers\n",
    "        current_sr = srs[idx]\n",
    "        # avg_unweighted_counts = sum([ii[current_sr][ns][0] if current_sr in ii and ns in ii[current_sr] else 0 for ii in files_sub])/6\n",
    "        avg_votebased_counts = sum([ii[current_sr][ns][1] if (current_sr in ii and ns in ii[current_sr]) else 0 for ii in files_sub])/6\n",
    "        avg_commentbased_counts = sum([ii[current_sr][ns][2] if current_sr in ii and ns in ii[current_sr] else 0 for ii in files_sub])/6\n",
    "        ns_sr_rep[ns] += [avg_votebased_counts, avg_commentbased_counts]\n",
    "    ncount += 1\n",
    "    if ncount%200==0: print(ncount)"
   ]
  },
  {
   "cell_type": "code",
   "execution_count": 123,
   "metadata": {},
   "outputs": [
    {
     "data": {
      "text/plain": [
       "67"
      ]
     },
     "execution_count": 123,
     "metadata": {},
     "output_type": "execute_result"
    }
   ],
   "source": [
    "len(srs)"
   ]
  },
  {
   "cell_type": "code",
   "execution_count": 124,
   "metadata": {},
   "outputs": [
    {
     "data": {
      "text/plain": [
       "85"
      ]
     },
     "execution_count": 124,
     "metadata": {},
     "output_type": "execute_result"
    }
   ],
   "source": [
    "len(non_outlier)"
   ]
  },
  {
   "cell_type": "markdown",
   "metadata": {},
   "source": [
    "    code started at 22:56"
   ]
  },
  {
   "cell_type": "markdown",
   "metadata": {},
   "source": [
    "Let's see one example of representation for `nytimes.com`."
   ]
  },
  {
   "cell_type": "code",
   "execution_count": 125,
   "metadata": {},
   "outputs": [
    {
     "data": {
      "text/plain": [
       "[0.0,\n",
       " 0.0,\n",
       " 0.0,\n",
       " 0.0,\n",
       " 0.0,\n",
       " 0.0,\n",
       " 6.2200000000000015,\n",
       " 128.0,\n",
       " 14.876666666666667,\n",
       " 668.3333333333334,\n",
       " 0.0,\n",
       " 0.0,\n",
       " 0.0,\n",
       " 0.0,\n",
       " 0.0,\n",
       " 0.0,\n",
       " 0.0,\n",
       " 0.0,\n",
       " 5.345,\n",
       " 549.1666666666666,\n",
       " 7.181666666666668,\n",
       " 324.1666666666667,\n",
       " 0.0,\n",
       " 0.0,\n",
       " 0.0,\n",
       " 0.0,\n",
       " 0.0,\n",
       " 0.0,\n",
       " 0.0,\n",
       " 0.0,\n",
       " 0.0,\n",
       " 0.0,\n",
       " 0.0,\n",
       " 0.0,\n",
       " 0.16,\n",
       " 3.0,\n",
       " 0.0,\n",
       " 0.0,\n",
       " 0.0,\n",
       " 0.0,\n",
       " 0.0,\n",
       " 0.0,\n",
       " 0.0,\n",
       " 0.0,\n",
       " 0.0,\n",
       " 0.0,\n",
       " 0.0,\n",
       " 0.0,\n",
       " 0.0,\n",
       " 0.0,\n",
       " 0.0,\n",
       " 0.0,\n",
       " 0.0,\n",
       " 0.0,\n",
       " 0.0,\n",
       " 0.0,\n",
       " 0.0,\n",
       " 0.0,\n",
       " 0.0,\n",
       " 0.0,\n",
       " 0.0,\n",
       " 0.0,\n",
       " 0.0,\n",
       " 0.0,\n",
       " 0.0,\n",
       " 0.0,\n",
       " 0.0,\n",
       " 0.0,\n",
       " 0.0,\n",
       " 0.0,\n",
       " 0.0,\n",
       " 0.0,\n",
       " 0.0,\n",
       " 0.0,\n",
       " 0.0,\n",
       " 0.0,\n",
       " 0.0,\n",
       " 0.0,\n",
       " 0.0,\n",
       " 0.0,\n",
       " 0.0,\n",
       " 0.0,\n",
       " 0.0,\n",
       " 0.0,\n",
       " 0.0,\n",
       " 0.0,\n",
       " 0.0,\n",
       " 0.0,\n",
       " 0.0,\n",
       " 0.0,\n",
       " 4.161666666666667,\n",
       " 153.0,\n",
       " 0.0,\n",
       " 0.0,\n",
       " 0.0,\n",
       " 0.0,\n",
       " 3.0850000000000004,\n",
       " 46.666666666666664,\n",
       " 0.0,\n",
       " 0.0,\n",
       " 0.0,\n",
       " 0.0,\n",
       " 0.0,\n",
       " 0.0,\n",
       " 0.0,\n",
       " 0.0,\n",
       " 0.0,\n",
       " 0.0,\n",
       " 0.0,\n",
       " 0.0,\n",
       " 0.0,\n",
       " 0.0,\n",
       " 0.0,\n",
       " 0.0,\n",
       " 0.0,\n",
       " 0.0,\n",
       " 0.0,\n",
       " 0.0,\n",
       " 0.0,\n",
       " 0.0,\n",
       " 0.0,\n",
       " 0.0,\n",
       " 0.0,\n",
       " 0.0,\n",
       " 0.0,\n",
       " 0.0,\n",
       " 0.0,\n",
       " 0.0,\n",
       " 2.2783333333333333,\n",
       " 116.66666666666667,\n",
       " 5.666666666666667,\n",
       " 160.0,\n",
       " 2.626666666666667,\n",
       " 10.666666666666666]"
      ]
     },
     "execution_count": 125,
     "metadata": {},
     "output_type": "execute_result"
    }
   ],
   "source": [
    "ns_sr_rep[\"bbc.co.uk\"]"
   ]
  },
  {
   "cell_type": "markdown",
   "metadata": {},
   "source": [
    "Let's investigate the sparsity of our data"
   ]
  },
  {
   "cell_type": "code",
   "execution_count": 126,
   "metadata": {},
   "outputs": [],
   "source": [
    "from numpy import array\n",
    "from numpy import count_nonzero\n",
    "from scipy.sparse import csr_matrix"
   ]
  },
  {
   "cell_type": "code",
   "execution_count": 127,
   "metadata": {},
   "outputs": [],
   "source": [
    "# ns_repr, ns_fixed = np.array([v[1] for v in items]), list([v[0] for v in items]) # this causes memory error\n",
    "## MemoryError: Unable to allocate 15.3 GiB for an array with shape (11436, 180000) and data type float64\n",
    "items = ns_sr_rep.items()\n",
    "ns_repr = np.array([k for k in ns_sr_rep.values()])"
   ]
  },
  {
   "cell_type": "code",
   "execution_count": 128,
   "metadata": {},
   "outputs": [
    {
     "data": {
      "text/plain": [
       "array([[1.48316667e+01, 6.59500000e+02, 1.44500000e+00, ...,\n",
       "        0.00000000e+00, 0.00000000e+00, 0.00000000e+00],\n",
       "       [0.00000000e+00, 0.00000000e+00, 0.00000000e+00, ...,\n",
       "        4.66666667e+00, 1.11333333e+00, 1.38333333e+01],\n",
       "       [9.95000000e-01, 3.40000000e+01, 3.10000000e-01, ...,\n",
       "        0.00000000e+00, 0.00000000e+00, 0.00000000e+00],\n",
       "       ...,\n",
       "       [9.79833333e+00, 3.01333333e+02, 0.00000000e+00, ...,\n",
       "        0.00000000e+00, 0.00000000e+00, 0.00000000e+00],\n",
       "       [0.00000000e+00, 0.00000000e+00, 3.31666667e-01, ...,\n",
       "        0.00000000e+00, 0.00000000e+00, 0.00000000e+00],\n",
       "       [8.16666667e-02, 3.16666667e+00, 1.65000000e-01, ...,\n",
       "        0.00000000e+00, 0.00000000e+00, 0.00000000e+00]])"
      ]
     },
     "execution_count": 128,
     "metadata": {},
     "output_type": "execute_result"
    }
   ],
   "source": [
    "ns_repr[:10]"
   ]
  },
  {
   "cell_type": "code",
   "execution_count": 129,
   "metadata": {},
   "outputs": [],
   "source": [
    "sparsity = 1.0 - np.count_nonzero(ns_repr)/ns_repr.size"
   ]
  },
  {
   "cell_type": "code",
   "execution_count": 130,
   "metadata": {},
   "outputs": [
    {
     "data": {
      "text/plain": [
       "0.6286215978928885"
      ]
     },
     "execution_count": 130,
     "metadata": {},
     "output_type": "execute_result"
    }
   ],
   "source": [
    "sparsity"
   ]
  },
  {
   "cell_type": "markdown",
   "metadata": {},
   "source": [
    "Wow very high sparsity."
   ]
  },
  {
   "cell_type": "code",
   "execution_count": 131,
   "metadata": {},
   "outputs": [
    {
     "data": {
      "text/plain": [
       "85"
      ]
     },
     "execution_count": 131,
     "metadata": {},
     "output_type": "execute_result"
    }
   ],
   "source": [
    "len(non_outlier)"
   ]
  },
  {
   "cell_type": "markdown",
   "metadata": {},
   "source": [
    "How many subreddits have all 0's for all news sources?"
   ]
  },
  {
   "cell_type": "code",
   "execution_count": 132,
   "metadata": {},
   "outputs": [
    {
     "name": "stdout",
     "output_type": "stream",
     "text": [
      "0.13 0.9714705882352941 5.967525159508248 1\n",
      "0.16666666666666666 37.537254901960786 9644.130539993776 2\n",
      "0.0 0.3150588235294118 1.1393875295673825 3\n",
      "0.0 5.9980392156862745 384.8204326174914 4\n",
      "0.0 2.0736470588235294 98.33422582633051 5\n",
      "0.0 1673.5960784313725 156101061.34350294 6\n",
      "0.0 0.827 4.538353756613756 7\n",
      "0.0 72.48039215686275 48797.777388733266 8\n",
      "0.0 1.9070980392156862 25.915844388422038 9\n",
      "0.0 273.5352941176471 3026604.9048241517 10\n",
      "0.13999999999999999 0.8344313725490196 6.602561941332087 11\n",
      "0.6666666666666666 41.24901960784314 66270.78744942423 12\n",
      "0.0 1.43421568627451 31.876324377528785 13\n",
      "0.0 920.2607843137255 27419206.11868192 14\n",
      "0.12333333333333334 0.8247254901960784 8.188370161842514 15\n",
      "1.0 85.63921568627451 320857.0448723934 16\n",
      "0.0 0.7860784313725491 4.1264737239340175 17\n",
      "0.0 45.62549019607843 15002.636842514785 18\n",
      "0.0 0.8845098039215686 5.453585967164643 19\n",
      "0.0 99.9843137254902 197392.76297852473 20\n",
      "0.0 1.1114117647058823 9.178895536103331 21\n",
      "0.0 65.36470588235294 40573.11077653284 22\n",
      "0.10666666666666667 0.6664509803921568 2.837100713507625 23\n",
      "0.0 20.14705882352941 2719.39246809835 24\n",
      "0.0 0.8175882352941177 7.137188525521321 25\n",
      "0.0 33.60588235294117 25969.81735916589 26\n",
      "0.0 0.3322549019607843 0.5602864884842825 27\n",
      "0.0 13.898039215686275 1207.7546918767507 28\n",
      "0.0 0.2876666666666667 0.5621154894179895 29\n",
      "0.0 3.2705882352941176 167.15540771864303 30\n",
      "0.0 0.9978431372549019 52.667414737005906 31\n",
      "0.0 334.7725490196079 9147594.654660756 32\n",
      "0.0 0.46841176470588236 1.6303052186430125 33\n",
      "0.0 13.388235294117647 1052.5491985683163 34\n",
      "0.0 1.002921568627451 19.087563419701212 35\n",
      "0.0 31.274509803921568 23719.12480547775 36\n",
      "0.013333333333333334 1.9104117647058823 86.95362704403982 37\n",
      "0.0 1749.294117647059 250223483.24712116 38\n",
      "0.0 0.405921568627451 1.212237798008092 39\n",
      "0.0 15.509803921568627 2756.4592281356986 40\n",
      "0.0 0.9139019607843137 7.209337668845315 41\n",
      "0.0 28.562745098039215 8536.408053221288 42\n",
      "0.0 2.1797647058823526 339.24344875350135 43\n",
      "0.0 1778.050980392157 267870687.75266114 44\n",
      "0.0 0.8879019607843137 19.242213899004046 45\n",
      "0.0 318.8705882352941 8392433.29720666 46\n",
      "0.0 0.8830196078431372 15.109459490351691 47\n",
      "0.0 263.1921568627451 2730870.5717631495 48\n",
      "0.0 0.786921568627451 4.995344940865235 49\n",
      "0.0 129.9549019607843 577617.9281668223 50\n",
      "0.0 0.26619607843137255 1.0920487838468722 51\n",
      "0.0 7.770588235294118 2610.4397992530344 52\n",
      "0.0 0.364078431372549 1.164229200124494 53\n",
      "0.0 15.492156862745098 10420.495308123249 54\n",
      "0.0 0.3921372549019608 1.0642496436352318 55\n",
      "0.0 9.52156862745098 732.428431372549 56\n",
      "0.0 0.4212941176470588 1.0592485037348274 57\n",
      "0.0 27.027450980392157 7733.6202692188 58\n",
      "0.0 0.4943921568627451 1.4748111671335202 59\n",
      "0.0 9.066666666666666 551.6066137566138 60\n",
      "0.0 0.4830392156862745 5.594774945533768 61\n",
      "0.0 112.21764705882353 871033.6885076253 62\n",
      "0.0 0.4259607843137255 3.481064046062871 63\n",
      "0.0 65.33725490196079 309139.7764394647 64\n",
      "0.0 0.755313725490196 3.9334831014628073 65\n",
      "0.0 172.66470588235293 983725.8938453159 66\n",
      "0.0 1.7483725490196078 101.42532017040149 67\n"
     ]
    }
   ],
   "source": [
    "counter = 0\n",
    "for ii in range(len(srs)):\n",
    "    fl = []\n",
    "    for kk in ns_repr:\n",
    "        fl.append(kk[ii])\n",
    "    counter += 1\n",
    "    print(statistics.median(fl), statistics.mean(fl), statistics.variance(fl), counter)"
   ]
  },
  {
   "cell_type": "code",
   "execution_count": 133,
   "metadata": {
    "scrolled": true
   },
   "outputs": [
    {
     "name": "stdout",
     "output_type": "stream",
     "text": [
      "  (0, 0)\t14.831666666666665\n",
      "  (0, 1)\t659.5\n",
      "  (0, 2)\t1.4450000000000003\n",
      "  (0, 3)\t29.666666666666668\n",
      "  (0, 4)\t42.33333333333333\n",
      "  (0, 5)\t809.3333333333334\n",
      "  (0, 10)\t1.5583333333333336\n",
      "  (0, 11)\t22.0\n",
      "  (0, 12)\t0.8616666666666667\n",
      "  (0, 13)\t55.333333333333336\n",
      "  (0, 14)\t6.118333333333333\n",
      "  (0, 15)\t179.66666666666666\n",
      "  (0, 16)\t13.935\n",
      "  (0, 17)\t767.3333333333334\n",
      "  (0, 18)\t0.605\n",
      "  (0, 19)\t21.0\n",
      "  (0, 20)\t0.33\n",
      "  (0, 21)\t1.3333333333333333\n",
      "  (0, 22)\t5.7299999999999995\n",
      "  (0, 23)\t167.66666666666666\n",
      "  (0, 24)\t5.075\n",
      "  (0, 25)\t246.33333333333334\n",
      "  (0, 26)\t3.225\n",
      "  (0, 27)\t171.66666666666666\n",
      "  (0, 28)\t0.8066666666666666\n",
      "  :\t:\n",
      "  (84, 67)\t55746.333333333336\n",
      "  (84, 68)\t23.206666666666667\n",
      "  (84, 69)\t1524.5\n",
      "  (84, 70)\t21.848333333333333\n",
      "  (84, 71)\t2748.1666666666665\n",
      "  (84, 72)\t6.591666666666666\n",
      "  (84, 73)\t67.5\n",
      "  (84, 76)\t48.951666666666675\n",
      "  (84, 77)\t71619.66666666667\n",
      "  (84, 78)\t17.865000000000002\n",
      "  (84, 79)\t4375.333333333333\n",
      "  (84, 84)\t17.603333333333335\n",
      "  (84, 85)\t4853.833333333333\n",
      "  (84, 86)\t2.405\n",
      "  (84, 87)\t53.5\n",
      "  (84, 88)\t20.74666666666667\n",
      "  (84, 89)\t8096.166666666667\n",
      "  (84, 92)\t24.049999999999997\n",
      "  (84, 93)\t8797.0\n",
      "  (84, 100)\t6.753333333333333\n",
      "  (84, 101)\t136.16666666666666\n",
      "  (84, 112)\t3.388333333333333\n",
      "  (84, 113)\t210.16666666666666\n",
      "  (84, 120)\t18.22\n",
      "  (84, 121)\t23188.833333333332\n"
     ]
    }
   ],
   "source": [
    "# convert to sparse matrix (CSR method)\n",
    "S = csr_matrix(ns_repr)\n",
    "print(S)"
   ]
  },
  {
   "cell_type": "markdown",
   "metadata": {},
   "source": [
    "### Now PCA"
   ]
  },
  {
   "cell_type": "code",
   "execution_count": 134,
   "metadata": {},
   "outputs": [
    {
     "name": "stdout",
     "output_type": "stream",
     "text": [
      "[array([ 0.165     ,  3.33333333,  0.32333333,  0.83333333,  0.        ,\n",
      "        0.        ,  0.        ,  0.        ,  0.48666667,  9.83333333,\n",
      "        0.        ,  0.        ,  0.        ,  0.        ,  0.12333333,\n",
      "       21.5       ,  0.        ,  0.        ,  0.        ,  0.        ,\n",
      "        0.        ,  0.        ,  0.16666667,  2.33333333,  0.16666667,\n",
      "        0.83333333,  0.        ,  0.        ,  0.        ,  0.        ,\n",
      "        0.        ,  0.        ,  0.        ,  0.        ,  0.16666667,\n",
      "        0.        ,  0.        ,  0.        ,  0.        ,  0.        ,\n",
      "        0.14166667,  3.83333333,  0.165     ,  2.5       ,  0.        ,\n",
      "        0.        ,  0.        ,  0.        ,  0.16333333,  1.5       ,\n",
      "        0.        ,  0.        ,  0.        ,  0.        ,  0.        ,\n",
      "        0.        ,  0.1       ,  1.        ,  0.26666667,  2.83333333,\n",
      "        0.        ,  0.        ,  0.        ,  0.        ,  0.32666667,\n",
      "       33.        ,  0.        ,  0.        ,  0.13333333,  0.33333333,\n",
      "        0.15333333,  0.5       ,  0.        ,  0.        ,  0.29833333,\n",
      "        2.        ,  0.        ,  0.        ,  0.        ,  0.        ,\n",
      "        0.15833333,  1.16666667,  0.        ,  0.        ,  0.        ,\n",
      "        0.        ,  0.        ,  0.        ,  0.        ,  0.        ,\n",
      "        0.        ,  0.        ,  0.        ,  0.        ,  0.        ,\n",
      "        0.        ,  0.        ,  0.        ,  0.165     ,  9.33333333,\n",
      "        0.        ,  0.        ,  0.305     ,  6.83333333,  0.        ,\n",
      "        0.        ,  0.        ,  0.        ,  0.165     ,  9.5       ,\n",
      "        0.33333333,  0.83333333,  0.        ,  0.        ,  0.        ,\n",
      "        0.        ,  0.        ,  0.        ,  0.        ,  0.        ,\n",
      "        0.33166667,  1.66666667,  0.16333333,  5.33333333,  0.        ,\n",
      "        0.        ,  0.33333333,  0.        ,  0.        ,  0.        ,\n",
      "        0.        ,  0.        ,  0.        ,  0.        ]), array([ 0.96      , 54.16666667,  0.        ,  0.        ,  0.16666667,\n",
      "        0.        ,  0.        ,  0.        ,  0.        ,  0.        ,\n",
      "        0.61666667, 14.5       ,  0.14166667,  4.83333333,  0.645     ,\n",
      "       17.5       ,  0.07833333,  5.83333333,  0.        ,  0.        ,\n",
      "        0.        ,  0.        ,  1.135     , 38.        ,  0.15166667,\n",
      "        6.66666667,  0.32833333, 21.16666667,  0.        ,  0.        ,\n",
      "        0.26833333,  9.83333333,  0.        ,  0.        ,  0.        ,\n",
      "        0.        ,  0.23166667,  9.33333333,  0.59333333, 26.83333333,\n",
      "        0.15333333,  9.33333333,  0.        ,  0.        ,  0.135     ,\n",
      "        0.16666667,  0.165     , 18.5       ,  0.4       , 28.66666667,\n",
      "        0.        ,  0.        ,  0.145     ,  1.16666667,  0.        ,\n",
      "        0.        ,  0.65      , 19.        ,  0.27333333,  9.        ,\n",
      "        0.        ,  0.        ,  0.        ,  0.        ,  0.49833333,\n",
      "       26.83333333,  0.11      ,  2.33333333,  0.        ,  0.        ,\n",
      "        0.        ,  0.        ,  0.16166667,  1.66666667,  0.        ,\n",
      "        0.        ,  0.        ,  0.        ,  0.        ,  0.        ,\n",
      "        0.        ,  0.        ,  0.        ,  0.        ,  0.        ,\n",
      "        0.        ,  0.16666667,  0.33333333,  0.        ,  0.        ,\n",
      "        0.        ,  0.        ,  0.        ,  0.        ,  0.        ,\n",
      "        0.        ,  0.        ,  0.        ,  0.        ,  0.        ,\n",
      "        0.        ,  0.        ,  0.06666667,  2.        ,  0.        ,\n",
      "        0.        ,  0.28666667,  2.66666667,  0.        ,  0.        ,\n",
      "        0.33333333,  0.33333333,  0.19166667, 10.83333333,  0.        ,\n",
      "        0.        ,  0.16166667,  9.33333333,  0.        ,  0.        ,\n",
      "        0.76666667, 12.        ,  0.        ,  0.        ,  0.        ,\n",
      "        0.        ,  0.        ,  0.        ,  0.        ,  0.        ,\n",
      "        0.        ,  0.        ,  0.        ,  0.        ]), array([2.72      , 0.        , 0.93333333, 0.16666667, 0.33333333,\n",
      "       0.        , 0.        , 0.        , 0.        , 0.        ,\n",
      "       1.83333333, 0.        , 0.        , 0.        , 1.        ,\n",
      "       0.        , 0.31333333, 0.5       , 0.        , 0.        ,\n",
      "       0.        , 0.        , 0.11      , 0.        , 0.16666667,\n",
      "       0.        , 1.44333333, 0.        , 0.16666667, 0.        ,\n",
      "       0.33333333, 0.        , 1.02666667, 0.        , 0.22      ,\n",
      "       0.        , 0.33333333, 0.        , 0.72      , 2.16666667,\n",
      "       0.94333333, 0.        , 0.        , 0.        , 0.66666667,\n",
      "       0.        , 0.16666667, 0.        , 0.08333333, 0.        ,\n",
      "       0.16666667, 0.        , 0.33333333, 0.        , 0.11      ,\n",
      "       0.        , 0.05833333, 1.83333333, 0.78666667, 1.33333333,\n",
      "       0.        , 0.        , 0.16666667, 0.        , 0.72      ,\n",
      "       0.        , 0.16666667, 0.        , 0.5       , 0.        ,\n",
      "       0.33333333, 0.        , 0.16666667, 0.        , 1.555     ,\n",
      "       1.33333333, 0.16666667, 0.        , 0.        , 0.        ,\n",
      "       0.94333333, 0.16666667, 1.44333333, 0.        , 0.        ,\n",
      "       0.        , 0.        , 0.        , 0.        , 0.        ,\n",
      "       0.        , 0.        , 0.16666667, 0.        , 0.72166667,\n",
      "       0.        , 0.        , 0.        , 1.01      , 0.33333333,\n",
      "       0.16666667, 0.        , 0.38666667, 0.        , 0.37333333,\n",
      "       2.5       , 0.08333333, 0.        , 0.44333333, 0.        ,\n",
      "       0.16666667, 0.        , 0.83333333, 0.        , 1.44333333,\n",
      "       0.        , 0.97166667, 2.66666667, 0.41666667, 0.        ,\n",
      "       0.16666667, 0.        , 0.27666667, 0.        , 0.88333333,\n",
      "       0.5       , 0.27666667, 0.        , 0.        , 0.        ,\n",
      "       0.        , 0.        , 0.        , 0.        ]), array([ 0.        ,  0.        ,  0.        ,  0.        ,  0.        ,\n",
      "        0.        ,  0.        ,  0.        ,  0.        ,  0.        ,\n",
      "        0.        ,  0.        ,  0.165     , 14.83333333,  0.33      ,\n",
      "       33.66666667,  0.        ,  0.        ,  0.        ,  0.        ,\n",
      "        0.        ,  0.        ,  0.        ,  0.        ,  0.        ,\n",
      "        0.        ,  0.        ,  0.        ,  0.16666667,  0.        ,\n",
      "        0.165     , 16.66666667,  0.        ,  0.        ,  0.        ,\n",
      "        0.        ,  1.88166667, 54.        ,  0.        ,  0.        ,\n",
      "        0.16      ,  3.        ,  0.        ,  0.        ,  0.575     ,\n",
      "        1.83333333,  0.        ,  0.        ,  0.14333333, 10.16666667,\n",
      "        0.        ,  0.        ,  0.        ,  0.        ,  0.        ,\n",
      "        0.        ,  0.        ,  0.        ,  0.        ,  0.        ,\n",
      "        0.        ,  0.        ,  0.16      ,  4.83333333,  0.        ,\n",
      "        0.        ,  0.        ,  0.        ,  0.        ,  0.        ,\n",
      "        0.        ,  0.        ,  0.        ,  0.        ,  0.        ,\n",
      "        0.        ,  0.        ,  0.        ,  0.        ,  0.        ,\n",
      "        0.        ,  0.        ,  0.28333333,  9.16666667,  0.        ,\n",
      "        0.        ,  0.        ,  0.        ,  0.        ,  0.        ,\n",
      "        0.        ,  0.        ,  0.        ,  0.        ,  0.        ,\n",
      "        0.        ,  0.        ,  0.        ,  0.        ,  0.        ,\n",
      "        0.        ,  0.        ,  0.        ,  0.        ,  0.        ,\n",
      "        0.        ,  1.32666667, 29.16666667,  0.        ,  0.        ,\n",
      "        0.        ,  0.        ,  0.        ,  0.        ,  0.        ,\n",
      "        0.        ,  0.        ,  0.        ,  0.        ,  0.        ,\n",
      "        0.        ,  0.        ,  0.        ,  0.        ,  0.        ,\n",
      "        0.        ,  0.        ,  0.        ,  0.        ,  0.        ,\n",
      "        0.        ,  0.        ,  0.        ,  0.        ]), array([2.79666667e+00, 7.85000000e+01, 2.71333333e+00, 7.41666667e+01,\n",
      "       0.00000000e+00, 0.00000000e+00, 0.00000000e+00, 0.00000000e+00,\n",
      "       0.00000000e+00, 0.00000000e+00, 0.00000000e+00, 0.00000000e+00,\n",
      "       0.00000000e+00, 0.00000000e+00, 0.00000000e+00, 0.00000000e+00,\n",
      "       3.54333333e+00, 2.29500000e+02, 0.00000000e+00, 0.00000000e+00,\n",
      "       0.00000000e+00, 0.00000000e+00, 4.87500000e+00, 1.15500000e+02,\n",
      "       0.00000000e+00, 0.00000000e+00, 2.25833333e+00, 7.68333333e+01,\n",
      "       0.00000000e+00, 0.00000000e+00, 0.00000000e+00, 0.00000000e+00,\n",
      "       3.54833333e+00, 1.32833333e+02, 3.97166667e+00, 9.23333333e+01,\n",
      "       0.00000000e+00, 0.00000000e+00, 5.71333333e+00, 4.08333333e+02,\n",
      "       5.65333333e+00, 1.58666667e+02, 0.00000000e+00, 0.00000000e+00,\n",
      "       0.00000000e+00, 0.00000000e+00, 0.00000000e+00, 0.00000000e+00,\n",
      "       5.40166667e+00, 1.84350000e+03, 0.00000000e+00, 0.00000000e+00,\n",
      "       0.00000000e+00, 0.00000000e+00, 4.82833333e+00, 1.15666667e+02,\n",
      "       2.87000000e+00, 3.40166667e+02, 6.38666667e+00, 1.42500000e+02,\n",
      "       0.00000000e+00, 0.00000000e+00, 0.00000000e+00, 0.00000000e+00,\n",
      "       5.64500000e+00, 6.55866667e+03, 0.00000000e+00, 0.00000000e+00,\n",
      "       0.00000000e+00, 0.00000000e+00, 0.00000000e+00, 0.00000000e+00,\n",
      "       0.00000000e+00, 0.00000000e+00, 1.65233333e+01, 2.46750000e+03,\n",
      "       0.00000000e+00, 0.00000000e+00, 0.00000000e+00, 0.00000000e+00,\n",
      "       5.98666667e+00, 1.10383333e+03, 3.70166667e+00, 6.78333333e+01,\n",
      "       0.00000000e+00, 0.00000000e+00, 0.00000000e+00, 0.00000000e+00,\n",
      "       0.00000000e+00, 0.00000000e+00, 0.00000000e+00, 0.00000000e+00,\n",
      "       0.00000000e+00, 0.00000000e+00, 9.96666667e-01, 1.41666667e+01,\n",
      "       0.00000000e+00, 0.00000000e+00, 5.27500000e+00, 1.79333333e+02,\n",
      "       0.00000000e+00, 0.00000000e+00, 2.94166667e+00, 6.20000000e+01,\n",
      "       5.63333333e+00, 2.37166667e+02, 3.24666667e+00, 9.59833333e+02,\n",
      "       1.96000000e+00, 4.63333333e+01, 4.57666667e+00, 1.07500000e+02,\n",
      "       0.00000000e+00, 0.00000000e+00, 6.70000000e-01, 1.03333333e+01,\n",
      "       5.78333333e+00, 1.05500000e+02, 2.36333333e+00, 4.88333333e+01,\n",
      "       0.00000000e+00, 0.00000000e+00, 4.08000000e+00, 4.55000000e+01,\n",
      "       8.38333333e+00, 2.45333333e+02, 4.97833333e+00, 1.42666667e+02,\n",
      "       0.00000000e+00, 0.00000000e+00, 0.00000000e+00, 0.00000000e+00,\n",
      "       0.00000000e+00, 0.00000000e+00]), array([0.00000000e+00, 0.00000000e+00, 0.00000000e+00, 0.00000000e+00,\n",
      "       0.00000000e+00, 0.00000000e+00, 2.18833333e+00, 1.12783333e+03,\n",
      "       9.35333333e+00, 2.85833333e+02, 0.00000000e+00, 0.00000000e+00,\n",
      "       0.00000000e+00, 0.00000000e+00, 0.00000000e+00, 0.00000000e+00,\n",
      "       0.00000000e+00, 0.00000000e+00, 4.08333333e+00, 4.34333333e+02,\n",
      "       3.30166667e+00, 7.01666667e+01, 0.00000000e+00, 0.00000000e+00,\n",
      "       0.00000000e+00, 0.00000000e+00, 0.00000000e+00, 0.00000000e+00,\n",
      "       0.00000000e+00, 0.00000000e+00, 0.00000000e+00, 0.00000000e+00,\n",
      "       0.00000000e+00, 0.00000000e+00, 8.33333333e-01, 0.00000000e+00,\n",
      "       0.00000000e+00, 0.00000000e+00, 0.00000000e+00, 0.00000000e+00,\n",
      "       0.00000000e+00, 0.00000000e+00, 0.00000000e+00, 0.00000000e+00,\n",
      "       0.00000000e+00, 0.00000000e+00, 0.00000000e+00, 0.00000000e+00,\n",
      "       0.00000000e+00, 0.00000000e+00, 0.00000000e+00, 0.00000000e+00,\n",
      "       0.00000000e+00, 0.00000000e+00, 0.00000000e+00, 0.00000000e+00,\n",
      "       0.00000000e+00, 0.00000000e+00, 0.00000000e+00, 0.00000000e+00,\n",
      "       0.00000000e+00, 0.00000000e+00, 0.00000000e+00, 0.00000000e+00,\n",
      "       0.00000000e+00, 0.00000000e+00, 0.00000000e+00, 0.00000000e+00,\n",
      "       0.00000000e+00, 0.00000000e+00, 0.00000000e+00, 0.00000000e+00,\n",
      "       0.00000000e+00, 0.00000000e+00, 0.00000000e+00, 0.00000000e+00,\n",
      "       0.00000000e+00, 0.00000000e+00, 0.00000000e+00, 0.00000000e+00,\n",
      "       0.00000000e+00, 0.00000000e+00, 0.00000000e+00, 0.00000000e+00,\n",
      "       0.00000000e+00, 0.00000000e+00, 0.00000000e+00, 0.00000000e+00,\n",
      "       0.00000000e+00, 0.00000000e+00, 1.70166667e+00, 8.75000000e+01,\n",
      "       0.00000000e+00, 0.00000000e+00, 0.00000000e+00, 0.00000000e+00,\n",
      "       2.90166667e+00, 2.88333333e+01, 0.00000000e+00, 0.00000000e+00,\n",
      "       0.00000000e+00, 0.00000000e+00, 1.66666667e-01, 2.16666667e+00,\n",
      "       0.00000000e+00, 0.00000000e+00, 0.00000000e+00, 0.00000000e+00,\n",
      "       0.00000000e+00, 0.00000000e+00, 0.00000000e+00, 0.00000000e+00,\n",
      "       0.00000000e+00, 0.00000000e+00, 0.00000000e+00, 0.00000000e+00,\n",
      "       0.00000000e+00, 0.00000000e+00, 0.00000000e+00, 0.00000000e+00,\n",
      "       0.00000000e+00, 0.00000000e+00, 0.00000000e+00, 0.00000000e+00,\n",
      "       0.00000000e+00, 0.00000000e+00, 0.00000000e+00, 0.00000000e+00,\n",
      "       8.96666667e-01, 7.83333333e+00, 1.24666667e+00, 8.31666667e+01,\n",
      "       1.65000000e-01, 0.00000000e+00]), array([ 0.14166667,  0.        ,  0.15333333,  1.16666667,  0.        ,\n",
      "        0.        ,  0.        ,  0.        ,  0.        ,  0.        ,\n",
      "        0.        ,  0.        ,  0.        ,  0.        ,  0.        ,\n",
      "        0.        ,  0.11833333,  2.        ,  0.        ,  0.        ,\n",
      "        0.        ,  0.        ,  0.10666667,  0.        ,  0.        ,\n",
      "        0.        ,  0.255     ,  7.16666667,  0.        ,  0.        ,\n",
      "        0.        ,  0.        ,  0.13833333,  1.83333333,  0.16666667,\n",
      "        0.        ,  0.        ,  0.        ,  0.125     ,  0.66666667,\n",
      "        0.16666667,  1.        ,  0.        ,  0.        ,  0.        ,\n",
      "        0.        ,  0.        ,  0.        ,  0.11166667,  0.66666667,\n",
      "        0.        ,  0.        ,  0.        ,  0.        ,  0.16666667,\n",
      "        0.        ,  0.15833333,  2.66666667,  0.14833333,  1.33333333,\n",
      "        0.        ,  0.        ,  0.        ,  0.        ,  0.14666667,\n",
      "        5.5       ,  0.        ,  0.        ,  0.        ,  0.        ,\n",
      "        0.        ,  0.        ,  0.        ,  0.        ,  0.11166667,\n",
      "        0.33333333,  0.        ,  0.        ,  0.        ,  0.        ,\n",
      "        0.28166667, 10.        ,  0.14333333,  0.        ,  0.        ,\n",
      "        0.        ,  0.        ,  0.        ,  0.        ,  0.        ,\n",
      "        0.        ,  0.        ,  0.        ,  0.        ,  0.08333333,\n",
      "        0.16666667,  0.        ,  0.        ,  0.08333333,  0.        ,\n",
      "        0.        ,  0.        ,  0.14666667,  0.5       ,  0.31166667,\n",
      "        6.33333333,  0.16666667,  0.        ,  0.08333333,  0.        ,\n",
      "        0.16666667,  0.5       ,  0.        ,  0.        ,  0.16666667,\n",
      "        0.        ,  0.16666667,  0.        ,  0.14166667,  0.33333333,\n",
      "        0.        ,  0.        ,  0.08333333,  0.        ,  0.16666667,\n",
      "        0.        ,  0.125     ,  0.        ,  0.        ,  0.        ,\n",
      "        0.        ,  0.        ,  0.        ,  0.        ]), array([ 0.        ,  0.        ,  0.16666667,  0.        ,  0.16666667,\n",
      "        0.        ,  0.16666667,  0.        ,  0.5       ,  0.        ,\n",
      "        0.33333333,  0.16666667,  0.        ,  0.        ,  0.        ,\n",
      "        0.        ,  0.06333333,  1.33333333,  0.        ,  0.        ,\n",
      "        0.66333333, 21.        ,  0.16666667,  0.        ,  0.32      ,\n",
      "       27.33333333,  0.16666667,  0.        ,  0.        ,  0.        ,\n",
      "        0.        ,  0.        ,  0.16666667,  0.        ,  0.        ,\n",
      "        0.        ,  0.        ,  0.        ,  0.        ,  0.        ,\n",
      "        0.        ,  0.        ,  0.16666667,  0.        ,  0.16666667,\n",
      "        0.        ,  0.        ,  0.        ,  0.        ,  0.        ,\n",
      "        0.        ,  0.        ,  0.31666667,  2.16666667,  0.        ,\n",
      "        0.        ,  0.        ,  0.        ,  0.13166667,  2.        ,\n",
      "        0.        ,  0.        ,  0.        ,  0.        ,  0.16666667,\n",
      "        0.        ,  0.        ,  0.        ,  0.16666667,  1.16666667,\n",
      "        0.        ,  0.        ,  0.135     ,  0.        ,  0.        ,\n",
      "        0.        ,  0.        ,  0.        ,  0.        ,  0.        ,\n",
      "        0.        ,  0.        ,  0.        ,  0.        ,  0.        ,\n",
      "        0.        ,  0.        ,  0.        ,  0.08333333,  0.        ,\n",
      "        0.        ,  0.        ,  0.        ,  0.        ,  0.16666667,\n",
      "        0.        ,  0.        ,  0.        ,  0.        ,  0.        ,\n",
      "        0.        ,  0.        ,  0.        ,  0.        ,  0.        ,\n",
      "        0.        ,  0.        ,  0.        ,  0.        ,  0.        ,\n",
      "        0.16666667,  0.        ,  0.        ,  0.        ,  0.33333333,\n",
      "        0.        ,  0.        ,  0.        ,  0.        ,  0.        ,\n",
      "        0.16666667,  0.        ,  0.        ,  0.        ,  0.        ,\n",
      "        0.        ,  0.16666667,  0.16666667,  0.        ,  0.        ,\n",
      "        0.        ,  0.        ,  0.        ,  0.        ]), array([0.00000000e+00, 0.00000000e+00, 0.00000000e+00, 0.00000000e+00,\n",
      "       0.00000000e+00, 0.00000000e+00, 3.21500000e+00, 2.19666667e+02,\n",
      "       3.00083333e+01, 1.59733333e+03, 0.00000000e+00, 0.00000000e+00,\n",
      "       0.00000000e+00, 0.00000000e+00, 0.00000000e+00, 0.00000000e+00,\n",
      "       0.00000000e+00, 0.00000000e+00, 9.91000000e+00, 9.49833333e+02,\n",
      "       4.96500000e+00, 5.37666667e+02, 0.00000000e+00, 0.00000000e+00,\n",
      "       0.00000000e+00, 0.00000000e+00, 0.00000000e+00, 0.00000000e+00,\n",
      "       0.00000000e+00, 0.00000000e+00, 0.00000000e+00, 0.00000000e+00,\n",
      "       0.00000000e+00, 0.00000000e+00, 0.00000000e+00, 0.00000000e+00,\n",
      "       0.00000000e+00, 0.00000000e+00, 0.00000000e+00, 0.00000000e+00,\n",
      "       0.00000000e+00, 0.00000000e+00, 0.00000000e+00, 0.00000000e+00,\n",
      "       0.00000000e+00, 0.00000000e+00, 0.00000000e+00, 0.00000000e+00,\n",
      "       0.00000000e+00, 0.00000000e+00, 0.00000000e+00, 0.00000000e+00,\n",
      "       0.00000000e+00, 0.00000000e+00, 0.00000000e+00, 0.00000000e+00,\n",
      "       0.00000000e+00, 0.00000000e+00, 0.00000000e+00, 0.00000000e+00,\n",
      "       0.00000000e+00, 0.00000000e+00, 0.00000000e+00, 0.00000000e+00,\n",
      "       0.00000000e+00, 0.00000000e+00, 0.00000000e+00, 0.00000000e+00,\n",
      "       0.00000000e+00, 0.00000000e+00, 0.00000000e+00, 0.00000000e+00,\n",
      "       0.00000000e+00, 0.00000000e+00, 0.00000000e+00, 0.00000000e+00,\n",
      "       0.00000000e+00, 0.00000000e+00, 0.00000000e+00, 0.00000000e+00,\n",
      "       0.00000000e+00, 0.00000000e+00, 0.00000000e+00, 0.00000000e+00,\n",
      "       0.00000000e+00, 0.00000000e+00, 0.00000000e+00, 0.00000000e+00,\n",
      "       0.00000000e+00, 0.00000000e+00, 6.00000000e+00, 4.23333333e+02,\n",
      "       0.00000000e+00, 0.00000000e+00, 0.00000000e+00, 0.00000000e+00,\n",
      "       2.27666667e+00, 4.86666667e+01, 0.00000000e+00, 0.00000000e+00,\n",
      "       0.00000000e+00, 0.00000000e+00, 0.00000000e+00, 0.00000000e+00,\n",
      "       0.00000000e+00, 0.00000000e+00, 0.00000000e+00, 0.00000000e+00,\n",
      "       0.00000000e+00, 0.00000000e+00, 0.00000000e+00, 0.00000000e+00,\n",
      "       0.00000000e+00, 0.00000000e+00, 0.00000000e+00, 0.00000000e+00,\n",
      "       0.00000000e+00, 0.00000000e+00, 0.00000000e+00, 0.00000000e+00,\n",
      "       0.00000000e+00, 0.00000000e+00, 0.00000000e+00, 0.00000000e+00,\n",
      "       0.00000000e+00, 0.00000000e+00, 0.00000000e+00, 0.00000000e+00,\n",
      "       8.68333333e-01, 2.38333333e+01, 3.11666667e-01, 5.83333333e+00,\n",
      "       2.89833333e+00, 2.06666667e+01]), array([ 0.        ,  0.        ,  0.20666667,  4.        ,  0.16666667,\n",
      "        0.33333333,  0.        ,  0.        ,  0.        ,  0.        ,\n",
      "        0.        ,  0.        ,  0.        ,  0.        ,  0.        ,\n",
      "        0.        ,  0.        ,  0.        ,  0.        ,  0.        ,\n",
      "        0.        ,  0.        ,  0.11      ,  0.        ,  0.        ,\n",
      "        0.        ,  0.11833333, 11.83333333,  0.        ,  0.        ,\n",
      "        0.        ,  0.        ,  0.        ,  0.        ,  0.        ,\n",
      "        0.        ,  0.11166667,  1.5       ,  0.16166667,  0.66666667,\n",
      "        0.        ,  0.        ,  0.        ,  0.        ,  0.        ,\n",
      "        0.        ,  0.        ,  0.        ,  0.07833333,  1.5       ,\n",
      "        0.        ,  0.        ,  0.        ,  0.        ,  0.        ,\n",
      "        0.        ,  0.        ,  0.        ,  0.        ,  0.        ,\n",
      "        0.        ,  0.        ,  0.        ,  0.        ,  0.        ,\n",
      "        0.        ,  0.        ,  0.        ,  0.        ,  0.        ,\n",
      "        0.        ,  0.        ,  0.        ,  0.        ,  0.        ,\n",
      "        0.        ,  0.        ,  0.        ,  0.        ,  0.        ,\n",
      "        0.14      ,  2.5       ,  0.        ,  0.        ,  0.        ,\n",
      "        0.        ,  0.        ,  0.        ,  0.        ,  0.        ,\n",
      "        0.        ,  0.        ,  0.        ,  0.        ,  0.        ,\n",
      "        0.        ,  0.        ,  0.        ,  0.        ,  0.        ,\n",
      "        0.        ,  0.        ,  0.15666667,  0.5       ,  0.        ,\n",
      "        0.        ,  0.165     , 12.        ,  0.        ,  0.        ,\n",
      "        0.        ,  0.        ,  0.        ,  0.        ,  0.32833333,\n",
      "        4.16666667,  0.2       ,  2.16666667,  0.        ,  0.        ,\n",
      "        0.        ,  0.        ,  0.        ,  0.        ,  0.        ,\n",
      "        0.        ,  0.25      ,  0.5       ,  0.        ,  0.        ,\n",
      "        0.        ,  0.        ,  0.        ,  0.        ]), array([ 0.40833333,  7.        ,  0.        ,  0.        ,  0.        ,\n",
      "        0.        ,  0.14      ,  0.        ,  0.385     , 22.33333333,\n",
      "        0.32666667,  6.33333333,  0.        ,  0.        ,  0.055     ,\n",
      "        0.33333333,  0.        ,  0.        ,  0.        ,  0.        ,\n",
      "        0.        ,  0.        ,  0.195     ,  1.66666667,  0.16666667,\n",
      "        0.        ,  0.        ,  0.        ,  0.        ,  0.        ,\n",
      "        0.        ,  0.        ,  0.08333333,  0.5       ,  0.16666667,\n",
      "        0.16666667,  0.        ,  0.        ,  0.        ,  0.        ,\n",
      "        0.155     ,  3.33333333,  0.        ,  0.        ,  0.        ,\n",
      "        0.        ,  0.15166667,  0.5       ,  0.        ,  0.        ,\n",
      "        0.        ,  0.        ,  0.        ,  0.        ,  0.        ,\n",
      "        0.        ,  0.33333333,  0.        ,  0.        ,  0.        ,\n",
      "        0.        ,  0.        ,  0.        ,  0.        ,  0.        ,\n",
      "        0.        ,  0.        ,  0.        ,  0.        ,  0.        ,\n",
      "        0.        ,  0.        ,  0.26166667,  1.        ,  0.        ,\n",
      "        0.        ,  0.        ,  0.        ,  0.        ,  0.        ,\n",
      "        0.        ,  0.        ,  0.        ,  0.        ,  0.        ,\n",
      "        0.        ,  0.        ,  0.        ,  0.13666667,  8.33333333,\n",
      "        0.        ,  0.        ,  0.        ,  0.        ,  0.        ,\n",
      "        0.        ,  0.        ,  0.        ,  0.        ,  0.        ,\n",
      "        0.        ,  0.        ,  0.14333333,  1.        ,  0.        ,\n",
      "        0.        ,  0.32166667,  4.        ,  0.        ,  0.        ,\n",
      "        0.145     ,  1.16666667,  0.09166667,  1.        ,  0.        ,\n",
      "        0.        ,  0.        ,  0.        ,  0.        ,  0.        ,\n",
      "        0.15      ,  1.        ,  0.        ,  0.        ,  0.        ,\n",
      "        0.        ,  0.        ,  0.        ,  0.        ,  0.        ,\n",
      "        0.        ,  0.        ,  0.        ,  0.        ]), array([0.00000000e+00, 0.00000000e+00, 0.00000000e+00, 0.00000000e+00,\n",
      "       1.65000000e-01, 3.15000000e+01, 0.00000000e+00, 0.00000000e+00,\n",
      "       0.00000000e+00, 0.00000000e+00, 1.66666667e-01, 0.00000000e+00,\n",
      "       3.25000000e-01, 7.66666667e+00, 1.33333333e-01, 7.66666667e+00,\n",
      "       5.44333333e+00, 4.46666667e+02, 0.00000000e+00, 0.00000000e+00,\n",
      "       0.00000000e+00, 0.00000000e+00, 0.00000000e+00, 0.00000000e+00,\n",
      "       2.80166667e+00, 1.39000000e+02, 3.20000000e-01, 2.26666667e+01,\n",
      "       0.00000000e+00, 0.00000000e+00, 0.00000000e+00, 0.00000000e+00,\n",
      "       0.00000000e+00, 0.00000000e+00, 0.00000000e+00, 0.00000000e+00,\n",
      "       1.46666667e-01, 8.33333333e-01, 0.00000000e+00, 0.00000000e+00,\n",
      "       1.60000000e-01, 5.00000000e-01, 0.00000000e+00, 0.00000000e+00,\n",
      "       0.00000000e+00, 0.00000000e+00, 0.00000000e+00, 0.00000000e+00,\n",
      "       0.00000000e+00, 0.00000000e+00, 0.00000000e+00, 0.00000000e+00,\n",
      "       4.36666667e-01, 5.00000000e-01, 0.00000000e+00, 0.00000000e+00,\n",
      "       0.00000000e+00, 0.00000000e+00, 0.00000000e+00, 0.00000000e+00,\n",
      "       1.55000000e-01, 1.66666667e+01, 0.00000000e+00, 0.00000000e+00,\n",
      "       0.00000000e+00, 0.00000000e+00, 1.25000000e-01, 1.33333333e+00,\n",
      "       0.00000000e+00, 0.00000000e+00, 0.00000000e+00, 0.00000000e+00,\n",
      "       3.30000000e-01, 9.33333333e+00, 0.00000000e+00, 0.00000000e+00,\n",
      "       6.33333333e-02, 3.16666667e+00, 0.00000000e+00, 0.00000000e+00,\n",
      "       0.00000000e+00, 0.00000000e+00, 4.80000000e-01, 2.00000000e+00,\n",
      "       0.00000000e+00, 0.00000000e+00, 0.00000000e+00, 0.00000000e+00,\n",
      "       0.00000000e+00, 0.00000000e+00, 0.00000000e+00, 0.00000000e+00,\n",
      "       0.00000000e+00, 0.00000000e+00, 0.00000000e+00, 0.00000000e+00,\n",
      "       0.00000000e+00, 0.00000000e+00, 0.00000000e+00, 0.00000000e+00,\n",
      "       0.00000000e+00, 0.00000000e+00, 0.00000000e+00, 0.00000000e+00,\n",
      "       0.00000000e+00, 0.00000000e+00, 0.00000000e+00, 0.00000000e+00,\n",
      "       0.00000000e+00, 0.00000000e+00, 0.00000000e+00, 0.00000000e+00,\n",
      "       1.55000000e-01, 4.16666667e+00, 0.00000000e+00, 0.00000000e+00,\n",
      "       9.66666667e-02, 1.00000000e+00, 0.00000000e+00, 0.00000000e+00,\n",
      "       0.00000000e+00, 0.00000000e+00, 0.00000000e+00, 0.00000000e+00,\n",
      "       0.00000000e+00, 0.00000000e+00, 0.00000000e+00, 0.00000000e+00,\n",
      "       0.00000000e+00, 0.00000000e+00, 0.00000000e+00, 0.00000000e+00,\n",
      "       0.00000000e+00, 0.00000000e+00]), array([1.41666667e-01, 0.00000000e+00, 0.00000000e+00, 0.00000000e+00,\n",
      "       1.30000000e-01, 1.66666667e-01, 5.76000000e+00, 3.17000000e+02,\n",
      "       1.81250000e+01, 6.54500000e+02, 0.00000000e+00, 0.00000000e+00,\n",
      "       1.55000000e-01, 6.83333333e+00, 0.00000000e+00, 0.00000000e+00,\n",
      "       0.00000000e+00, 0.00000000e+00, 5.02833333e+00, 1.51000000e+02,\n",
      "       1.09650000e+01, 5.86833333e+02, 0.00000000e+00, 0.00000000e+00,\n",
      "       0.00000000e+00, 0.00000000e+00, 0.00000000e+00, 0.00000000e+00,\n",
      "       0.00000000e+00, 0.00000000e+00, 0.00000000e+00, 0.00000000e+00,\n",
      "       0.00000000e+00, 0.00000000e+00, 0.00000000e+00, 0.00000000e+00,\n",
      "       0.00000000e+00, 0.00000000e+00, 0.00000000e+00, 0.00000000e+00,\n",
      "       0.00000000e+00, 0.00000000e+00, 0.00000000e+00, 0.00000000e+00,\n",
      "       0.00000000e+00, 0.00000000e+00, 0.00000000e+00, 0.00000000e+00,\n",
      "       0.00000000e+00, 0.00000000e+00, 0.00000000e+00, 0.00000000e+00,\n",
      "       0.00000000e+00, 0.00000000e+00, 0.00000000e+00, 0.00000000e+00,\n",
      "       0.00000000e+00, 0.00000000e+00, 0.00000000e+00, 0.00000000e+00,\n",
      "       0.00000000e+00, 0.00000000e+00, 0.00000000e+00, 0.00000000e+00,\n",
      "       0.00000000e+00, 0.00000000e+00, 0.00000000e+00, 0.00000000e+00,\n",
      "       0.00000000e+00, 0.00000000e+00, 1.65000000e-01, 7.66666667e+00,\n",
      "       0.00000000e+00, 0.00000000e+00, 0.00000000e+00, 0.00000000e+00,\n",
      "       0.00000000e+00, 0.00000000e+00, 0.00000000e+00, 0.00000000e+00,\n",
      "       0.00000000e+00, 0.00000000e+00, 0.00000000e+00, 0.00000000e+00,\n",
      "       0.00000000e+00, 0.00000000e+00, 0.00000000e+00, 0.00000000e+00,\n",
      "       0.00000000e+00, 0.00000000e+00, 6.33000000e+00, 3.33500000e+02,\n",
      "       0.00000000e+00, 0.00000000e+00, 0.00000000e+00, 0.00000000e+00,\n",
      "       3.04500000e+00, 1.97833333e+02, 0.00000000e+00, 0.00000000e+00,\n",
      "       0.00000000e+00, 0.00000000e+00, 0.00000000e+00, 0.00000000e+00,\n",
      "       0.00000000e+00, 0.00000000e+00, 0.00000000e+00, 0.00000000e+00,\n",
      "       0.00000000e+00, 0.00000000e+00, 0.00000000e+00, 0.00000000e+00,\n",
      "       0.00000000e+00, 0.00000000e+00, 0.00000000e+00, 0.00000000e+00,\n",
      "       0.00000000e+00, 0.00000000e+00, 0.00000000e+00, 0.00000000e+00,\n",
      "       0.00000000e+00, 0.00000000e+00, 0.00000000e+00, 0.00000000e+00,\n",
      "       0.00000000e+00, 0.00000000e+00, 0.00000000e+00, 0.00000000e+00,\n",
      "       3.40833333e+00, 1.57666667e+02, 4.68333333e-01, 1.15000000e+01,\n",
      "       2.08166667e+00, 1.01666667e+01]), array([ 0.        ,  0.        ,  0.        ,  0.        ,  0.65333333,\n",
      "       11.5       ,  0.        ,  0.        ,  0.15666667,  1.66666667,\n",
      "        0.47333333,  9.66666667,  0.16666667,  0.83333333,  0.57333333,\n",
      "       10.        ,  0.        ,  0.        ,  0.        ,  0.        ,\n",
      "        0.        ,  0.        ,  0.        ,  0.        ,  0.        ,\n",
      "        0.        ,  0.        ,  0.        ,  0.16666667,  0.        ,\n",
      "        0.        ,  0.        ,  0.        ,  0.        ,  0.        ,\n",
      "        0.        ,  0.64833333,  6.16666667,  0.        ,  0.        ,\n",
      "        0.16333333,  0.83333333,  0.16166667,  8.        ,  0.        ,\n",
      "        0.        ,  0.        ,  0.        ,  0.        ,  0.        ,\n",
      "        0.14333333,  1.5       ,  0.        ,  0.        ,  0.        ,\n",
      "        0.        ,  0.58666667,  3.33333333,  0.        ,  0.        ,\n",
      "        0.        ,  0.        ,  0.        ,  0.        ,  0.16666667,\n",
      "        5.83333333,  0.        ,  0.        ,  0.41333333,  3.5       ,\n",
      "        0.485     , 10.5       ,  0.        ,  0.        ,  0.        ,\n",
      "        0.        ,  0.        ,  0.        ,  0.165     ,  4.5       ,\n",
      "        0.        ,  0.        ,  0.        ,  0.        ,  0.        ,\n",
      "        0.        ,  0.33333333,  2.        ,  0.        ,  0.        ,\n",
      "        0.        ,  0.        ,  0.16666667,  1.83333333,  0.        ,\n",
      "        0.        ,  0.        ,  0.        ,  0.        ,  0.        ,\n",
      "        0.        ,  0.        ,  0.15833333,  1.66666667,  0.        ,\n",
      "        0.        ,  0.        ,  0.        ,  0.        ,  0.        ,\n",
      "        0.        ,  0.        ,  0.33333333,  6.5       ,  0.        ,\n",
      "        0.        ,  0.        ,  0.        ,  0.        ,  0.        ,\n",
      "        0.16666667,  8.5       ,  0.        ,  0.        ,  0.        ,\n",
      "        0.        ,  0.        ,  0.        ,  0.        ,  0.        ,\n",
      "        0.        ,  0.        ,  0.        ,  0.        ]), array([3.31833333e+00, 1.75500000e+02, 0.00000000e+00, 0.00000000e+00,\n",
      "       0.00000000e+00, 0.00000000e+00, 0.00000000e+00, 0.00000000e+00,\n",
      "       0.00000000e+00, 0.00000000e+00, 0.00000000e+00, 0.00000000e+00,\n",
      "       0.00000000e+00, 0.00000000e+00, 1.60000000e-01, 9.66666667e+00,\n",
      "       2.58500000e+00, 2.19666667e+02, 0.00000000e+00, 0.00000000e+00,\n",
      "       0.00000000e+00, 0.00000000e+00, 0.00000000e+00, 0.00000000e+00,\n",
      "       3.01666667e-01, 1.66666667e-01, 1.65000000e-01, 1.50000000e+00,\n",
      "       0.00000000e+00, 0.00000000e+00, 0.00000000e+00, 0.00000000e+00,\n",
      "       4.95000000e-01, 2.71666667e+01, 0.00000000e+00, 0.00000000e+00,\n",
      "       0.00000000e+00, 0.00000000e+00, 0.00000000e+00, 0.00000000e+00,\n",
      "       1.60000000e-01, 1.16666667e+00, 0.00000000e+00, 0.00000000e+00,\n",
      "       0.00000000e+00, 0.00000000e+00, 9.16666667e-02, 4.33333333e+00,\n",
      "       1.46833333e+00, 5.96666667e+01, 0.00000000e+00, 0.00000000e+00,\n",
      "       0.00000000e+00, 0.00000000e+00, 3.33333333e-01, 1.66666667e-01,\n",
      "       0.00000000e+00, 0.00000000e+00, 1.51666667e-01, 7.33333333e+00,\n",
      "       0.00000000e+00, 0.00000000e+00, 0.00000000e+00, 0.00000000e+00,\n",
      "       1.76333333e+00, 6.46333333e+03, 1.18333333e-01, 2.83333333e+00,\n",
      "       1.38333333e-01, 0.00000000e+00, 0.00000000e+00, 0.00000000e+00,\n",
      "       0.00000000e+00, 0.00000000e+00, 1.65000000e-01, 3.66666667e+00,\n",
      "       0.00000000e+00, 0.00000000e+00, 0.00000000e+00, 0.00000000e+00,\n",
      "       1.25833333e+00, 4.23333333e+01, 0.00000000e+00, 0.00000000e+00,\n",
      "       0.00000000e+00, 0.00000000e+00, 0.00000000e+00, 0.00000000e+00,\n",
      "       0.00000000e+00, 0.00000000e+00, 0.00000000e+00, 0.00000000e+00,\n",
      "       0.00000000e+00, 0.00000000e+00, 0.00000000e+00, 0.00000000e+00,\n",
      "       0.00000000e+00, 0.00000000e+00, 1.53333333e-01, 1.11666667e+01,\n",
      "       0.00000000e+00, 0.00000000e+00, 5.96666667e-01, 3.08333333e+01,\n",
      "       0.00000000e+00, 0.00000000e+00, 1.41666667e-01, 7.00000000e+00,\n",
      "       1.11666667e-01, 2.16666667e+00, 1.66666667e-01, 2.00000000e+00,\n",
      "       0.00000000e+00, 0.00000000e+00, 7.76666667e-01, 1.58333333e+01,\n",
      "       1.31666667e-01, 5.66666667e+00, 0.00000000e+00, 0.00000000e+00,\n",
      "       0.00000000e+00, 0.00000000e+00, 0.00000000e+00, 0.00000000e+00,\n",
      "       0.00000000e+00, 0.00000000e+00, 0.00000000e+00, 0.00000000e+00,\n",
      "       0.00000000e+00, 0.00000000e+00, 0.00000000e+00, 0.00000000e+00,\n",
      "       0.00000000e+00, 0.00000000e+00]), array([  0.43333333,  24.33333333,   0.        ,   0.        ,\n",
      "         0.        ,   0.        ,   0.        ,   0.        ,\n",
      "         0.        ,   0.        ,   0.        ,   0.        ,\n",
      "         0.        ,   0.        ,   0.        ,   0.        ,\n",
      "         0.75666667,  43.16666667,   0.        ,   0.        ,\n",
      "         0.        ,   0.        ,   0.93333333,  16.        ,\n",
      "         0.        ,   0.        ,   0.14333333,   8.66666667,\n",
      "         0.        ,   0.        ,   0.        ,   0.        ,\n",
      "         0.29666667,   6.66666667,   1.73333333,  80.16666667,\n",
      "         0.        ,   0.        ,   0.62      ,  13.33333333,\n",
      "         2.50166667,  65.66666667,   0.        ,   0.        ,\n",
      "         0.        ,   0.        ,   0.        ,   0.        ,\n",
      "         0.29666667,  16.5       ,   0.        ,   0.        ,\n",
      "         0.        ,   0.        ,   2.465     ,  54.33333333,\n",
      "         0.        ,   0.        ,   1.34833333,  25.83333333,\n",
      "         0.        ,   0.        ,   0.        ,   0.        ,\n",
      "         0.14166667,   7.33333333,   0.        ,   0.        ,\n",
      "         0.        ,   0.        ,   0.        ,   0.        ,\n",
      "         0.        ,   0.        ,   1.85166667,  52.5       ,\n",
      "         0.        ,   0.        ,   0.        ,   0.        ,\n",
      "         0.325     ,   5.5       ,   0.30833333,  16.16666667,\n",
      "         0.        ,   0.        ,   0.        ,   0.        ,\n",
      "         0.        ,   0.        ,   0.        ,   0.        ,\n",
      "         0.        ,   0.        ,   0.        ,   0.        ,\n",
      "         0.        ,   0.        ,   0.91333333,  37.66666667,\n",
      "         0.        ,   0.        ,   0.165     ,  22.33333333,\n",
      "         0.16666667,   1.16666667,   3.26333333, 120.83333333,\n",
      "         0.80166667,  68.83333333,   1.72166667,  26.33333333,\n",
      "         0.        ,   0.        ,   0.        ,   0.        ,\n",
      "         0.        ,   0.        ,   0.        ,   0.        ,\n",
      "         0.        ,   0.        ,   0.43      ,  23.16666667,\n",
      "         0.79      ,   6.5       ,   3.84166667,  95.5       ,\n",
      "         0.        ,   0.        ,   0.        ,   0.        ,\n",
      "         0.        ,   0.        ]), array([0.44333333, 1.66666667, 0.16      , 0.5       , 0.        ,\n",
      "       0.        , 0.        , 0.        , 0.495     , 9.83333333,\n",
      "       0.        , 0.        , 0.31833333, 4.33333333, 0.        ,\n",
      "       0.        , 0.        , 0.        , 0.        , 0.        ,\n",
      "       0.        , 0.        , 0.15666667, 1.83333333, 0.15666667,\n",
      "       1.5       , 0.        , 0.        , 0.30333333, 0.66666667,\n",
      "       0.        , 0.        , 0.        , 0.        , 0.        ,\n",
      "       0.        , 0.        , 0.        , 0.        , 0.        ,\n",
      "       0.        , 0.        , 0.        , 0.        , 0.        ,\n",
      "       0.        , 0.32666667, 4.5       , 0.        , 0.        ,\n",
      "       0.        , 0.        , 0.        , 0.        , 0.        ,\n",
      "       0.        , 0.        , 0.        , 0.        , 0.        ,\n",
      "       0.        , 0.        , 0.        , 0.        , 0.        ,\n",
      "       0.        , 0.16666667, 4.83333333, 0.        , 0.        ,\n",
      "       0.31333333, 3.        , 0.        , 0.        , 0.        ,\n",
      "       0.        , 0.        , 0.        , 0.        , 0.        ,\n",
      "       0.        , 0.        , 0.        , 0.        , 0.        ,\n",
      "       0.        , 0.        , 0.        , 0.        , 0.        ,\n",
      "       0.        , 0.        , 0.        , 0.        , 0.        ,\n",
      "       0.        , 0.15      , 0.83333333, 0.        , 0.        ,\n",
      "       0.        , 0.        , 0.        , 0.        , 0.        ,\n",
      "       0.        , 0.        , 0.        , 0.        , 0.        ,\n",
      "       0.        , 0.        , 0.        , 0.        , 0.        ,\n",
      "       0.        , 0.        , 0.        , 0.        , 0.        ,\n",
      "       0.        , 0.        , 0.        , 0.        , 0.        ,\n",
      "       0.        , 0.        , 0.        , 0.16666667, 0.83333333,\n",
      "       0.        , 0.        , 0.        , 0.        ]), array([9.84833333e+00, 2.93333333e+02, 2.00833333e+00, 6.56666667e+01,\n",
      "       1.86550000e+01, 2.71556667e+04, 1.90833333e+00, 1.01166667e+02,\n",
      "       6.41666667e+00, 1.59408333e+04, 1.59466667e+01, 3.57166667e+02,\n",
      "       1.54016667e+01, 1.19125000e+04, 6.38833333e+00, 2.85833333e+02,\n",
      "       5.19833333e+00, 1.63333333e+02, 3.54666667e+00, 3.84866667e+03,\n",
      "       3.22833333e+00, 2.19500000e+02, 8.89000000e+00, 1.71666667e+02,\n",
      "       1.04433333e+01, 3.36333333e+02, 3.25333333e+00, 1.23333333e+02,\n",
      "       4.83333333e+00, 8.86666667e+01, 2.40166667e+00, 8.10000000e+01,\n",
      "       9.61333333e+00, 1.95500000e+02, 6.57666667e+00, 1.65333333e+02,\n",
      "       5.60516667e+01, 1.87350000e+03, 1.97666667e+00, 6.15000000e+01,\n",
      "       1.73750000e+01, 6.39333333e+02, 2.68000000e+00, 2.63333333e+01,\n",
      "       1.27750000e+01, 1.27666667e+02, 1.83500000e+01, 1.00911667e+04,\n",
      "       6.51000000e+00, 6.74583333e+03, 2.76000000e+00, 4.50000000e+01,\n",
      "       7.70333333e+00, 1.63166667e+02, 4.40166667e+00, 1.21333333e+02,\n",
      "       4.41166667e+00, 3.94000000e+02, 5.46333333e+00, 9.78333333e+01,\n",
      "       1.82000000e+01, 8.58450000e+03, 3.52666667e+00, 1.07166667e+02,\n",
      "       6.37833333e+00, 1.87666667e+02, 7.21950000e+01, 6.20431667e+04,\n",
      "       4.90000000e+00, 4.90000000e+01, 1.14133333e+01, 3.06166667e+02,\n",
      "       2.28600000e+01, 1.83366667e+03, 7.99833333e+00, 1.52833333e+02,\n",
      "       1.05366667e+01, 1.05666667e+02, 2.68500000e+00, 3.75000000e+01,\n",
      "       6.97000000e+00, 5.84000000e+02, 5.42833333e+00, 9.53333333e+01,\n",
      "       1.86666667e+00, 1.88333333e+01, 2.67000000e+00, 4.78333333e+01,\n",
      "       2.35700000e+01, 8.54816667e+03, 2.15166667e+00, 1.76450000e+03,\n",
      "       4.12500000e+00, 6.93333333e+01, 3.42166667e+00, 3.25000000e+01,\n",
      "       2.18833333e+00, 1.38383333e+03, 1.12500000e+01, 4.69666667e+02,\n",
      "       1.27433333e+01, 7.28466667e+03, 6.47833333e+00, 8.80000000e+01,\n",
      "       2.80500000e+00, 6.15000000e+01, 8.00666667e+00, 1.16300000e+03,\n",
      "       3.54500000e+00, 8.48333333e+01, 7.56166667e+00, 8.63333333e+01,\n",
      "       2.68333333e+00, 7.33333333e+01, 4.14500000e+00, 1.46833333e+02,\n",
      "       4.47333333e+00, 8.90000000e+01, 2.39166667e+00, 1.04666667e+03,\n",
      "       1.71633333e+01, 2.16850000e+03, 3.30500000e+00, 7.26666667e+01,\n",
      "       3.68333333e+00, 3.70000000e+01, 3.14333333e+00, 6.43333333e+01,\n",
      "       1.66666667e-01, 0.00000000e+00, 1.17333333e+00, 3.83166667e+02,\n",
      "       0.00000000e+00, 0.00000000e+00]), array([0.00000000e+00, 0.00000000e+00, 0.00000000e+00, 0.00000000e+00,\n",
      "       0.00000000e+00, 0.00000000e+00, 2.00000000e+00, 0.00000000e+00,\n",
      "       5.90166667e+00, 3.98166667e+02, 0.00000000e+00, 0.00000000e+00,\n",
      "       0.00000000e+00, 0.00000000e+00, 0.00000000e+00, 0.00000000e+00,\n",
      "       0.00000000e+00, 0.00000000e+00, 4.64833333e+00, 2.14666667e+02,\n",
      "       7.29500000e+00, 3.15000000e+01, 0.00000000e+00, 0.00000000e+00,\n",
      "       0.00000000e+00, 0.00000000e+00, 0.00000000e+00, 0.00000000e+00,\n",
      "       0.00000000e+00, 0.00000000e+00, 0.00000000e+00, 0.00000000e+00,\n",
      "       0.00000000e+00, 0.00000000e+00, 0.00000000e+00, 0.00000000e+00,\n",
      "       0.00000000e+00, 0.00000000e+00, 0.00000000e+00, 0.00000000e+00,\n",
      "       0.00000000e+00, 0.00000000e+00, 0.00000000e+00, 0.00000000e+00,\n",
      "       0.00000000e+00, 0.00000000e+00, 1.23333333e-01, 1.66666667e+00,\n",
      "       0.00000000e+00, 0.00000000e+00, 0.00000000e+00, 0.00000000e+00,\n",
      "       0.00000000e+00, 0.00000000e+00, 0.00000000e+00, 0.00000000e+00,\n",
      "       0.00000000e+00, 0.00000000e+00, 0.00000000e+00, 0.00000000e+00,\n",
      "       0.00000000e+00, 0.00000000e+00, 1.33333333e-01, 2.66666667e+00,\n",
      "       0.00000000e+00, 0.00000000e+00, 0.00000000e+00, 0.00000000e+00,\n",
      "       0.00000000e+00, 0.00000000e+00, 0.00000000e+00, 0.00000000e+00,\n",
      "       0.00000000e+00, 0.00000000e+00, 0.00000000e+00, 0.00000000e+00,\n",
      "       0.00000000e+00, 0.00000000e+00, 0.00000000e+00, 0.00000000e+00,\n",
      "       0.00000000e+00, 0.00000000e+00, 0.00000000e+00, 0.00000000e+00,\n",
      "       0.00000000e+00, 0.00000000e+00, 0.00000000e+00, 0.00000000e+00,\n",
      "       0.00000000e+00, 0.00000000e+00, 5.01000000e+00, 9.80000000e+01,\n",
      "       0.00000000e+00, 0.00000000e+00, 0.00000000e+00, 0.00000000e+00,\n",
      "       3.74166667e+00, 1.46500000e+02, 0.00000000e+00, 0.00000000e+00,\n",
      "       0.00000000e+00, 0.00000000e+00, 0.00000000e+00, 0.00000000e+00,\n",
      "       0.00000000e+00, 0.00000000e+00, 0.00000000e+00, 0.00000000e+00,\n",
      "       0.00000000e+00, 0.00000000e+00, 1.66666667e-01, 0.00000000e+00,\n",
      "       0.00000000e+00, 0.00000000e+00, 0.00000000e+00, 0.00000000e+00,\n",
      "       0.00000000e+00, 0.00000000e+00, 0.00000000e+00, 0.00000000e+00,\n",
      "       0.00000000e+00, 0.00000000e+00, 0.00000000e+00, 0.00000000e+00,\n",
      "       0.00000000e+00, 0.00000000e+00, 0.00000000e+00, 0.00000000e+00,\n",
      "       6.45000000e-01, 1.98333333e+01, 4.83333333e-01, 4.16666667e+00,\n",
      "       3.54500000e+00, 3.55000000e+01]), array([ 0.        ,  0.        ,  0.        ,  0.        ,  0.        ,\n",
      "        0.        ,  0.        ,  0.        ,  0.        ,  0.        ,\n",
      "        0.16666667,  0.        ,  0.        ,  0.        ,  0.395     ,\n",
      "       18.33333333,  0.        ,  0.        ,  0.        ,  0.        ,\n",
      "        0.        ,  0.        ,  0.        ,  0.        ,  0.08333333,\n",
      "        5.83333333,  0.        ,  0.        ,  0.        ,  0.        ,\n",
      "        0.        ,  0.        ,  0.        ,  0.        ,  0.        ,\n",
      "        0.        ,  0.        ,  0.        ,  0.        ,  0.        ,\n",
      "        0.        ,  0.        ,  0.        ,  0.        ,  0.15833333,\n",
      "        0.5       ,  0.32666667, 40.33333333,  0.        ,  0.        ,\n",
      "        0.        ,  0.        ,  0.        ,  0.        ,  0.        ,\n",
      "        0.        ,  0.        ,  0.        ,  0.        ,  0.        ,\n",
      "        0.16666667,  0.        ,  0.        ,  0.        ,  0.        ,\n",
      "        0.        ,  0.16333333,  0.5       ,  0.30166667,  3.16666667,\n",
      "        0.33      ,  0.66666667,  0.        ,  0.        ,  0.        ,\n",
      "        0.        ,  0.        ,  0.        ,  0.        ,  0.        ,\n",
      "        0.        ,  0.        ,  0.        ,  0.        ,  0.        ,\n",
      "        0.        ,  0.        ,  0.        ,  0.16166667,  3.        ,\n",
      "        0.        ,  0.        ,  0.16666667,  0.66666667,  0.        ,\n",
      "        0.        ,  0.        ,  0.        ,  0.        ,  0.        ,\n",
      "        0.        ,  0.        ,  0.        ,  0.        ,  0.        ,\n",
      "        0.        ,  0.        ,  0.        ,  0.        ,  0.        ,\n",
      "        0.        ,  0.        ,  0.        ,  0.        ,  0.        ,\n",
      "        0.        ,  0.        ,  0.        ,  0.        ,  0.        ,\n",
      "        0.135     ,  1.16666667,  0.        ,  0.        ,  0.        ,\n",
      "        0.        ,  0.        ,  0.        ,  0.        ,  0.        ,\n",
      "        0.        ,  0.        ,  0.        ,  0.        ]), array([1.04166667e+00, 4.81666667e+01, 0.00000000e+00, 0.00000000e+00,\n",
      "       0.00000000e+00, 0.00000000e+00, 0.00000000e+00, 0.00000000e+00,\n",
      "       0.00000000e+00, 0.00000000e+00, 0.00000000e+00, 0.00000000e+00,\n",
      "       0.00000000e+00, 0.00000000e+00, 0.00000000e+00, 0.00000000e+00,\n",
      "       1.91000000e+00, 8.76666667e+01, 0.00000000e+00, 0.00000000e+00,\n",
      "       0.00000000e+00, 0.00000000e+00, 1.62833333e+00, 6.51666667e+01,\n",
      "       0.00000000e+00, 0.00000000e+00, 5.85000000e-01, 2.90000000e+01,\n",
      "       0.00000000e+00, 0.00000000e+00, 0.00000000e+00, 0.00000000e+00,\n",
      "       1.99833333e+00, 3.45000000e+01, 1.98333333e+00, 1.86666667e+01,\n",
      "       0.00000000e+00, 0.00000000e+00, 2.50000000e-01, 1.16666667e+00,\n",
      "       7.48333333e-01, 1.28333333e+01, 0.00000000e+00, 0.00000000e+00,\n",
      "       0.00000000e+00, 0.00000000e+00, 0.00000000e+00, 0.00000000e+00,\n",
      "       2.91666667e-01, 2.40833333e+02, 0.00000000e+00, 0.00000000e+00,\n",
      "       0.00000000e+00, 0.00000000e+00, 2.30333333e+00, 5.45000000e+01,\n",
      "       0.00000000e+00, 0.00000000e+00, 7.03333333e-01, 1.30000000e+01,\n",
      "       0.00000000e+00, 0.00000000e+00, 0.00000000e+00, 0.00000000e+00,\n",
      "       9.83333333e-01, 5.46666667e+01, 0.00000000e+00, 0.00000000e+00,\n",
      "       0.00000000e+00, 0.00000000e+00, 0.00000000e+00, 0.00000000e+00,\n",
      "       0.00000000e+00, 0.00000000e+00, 2.14166667e+00, 6.51666667e+01,\n",
      "       0.00000000e+00, 0.00000000e+00, 0.00000000e+00, 0.00000000e+00,\n",
      "       7.73333333e-01, 1.88333333e+01, 4.26666667e-01, 8.16666667e+00,\n",
      "       0.00000000e+00, 0.00000000e+00, 0.00000000e+00, 0.00000000e+00,\n",
      "       0.00000000e+00, 0.00000000e+00, 0.00000000e+00, 0.00000000e+00,\n",
      "       0.00000000e+00, 0.00000000e+00, 1.81666667e-01, 2.50000000e+00,\n",
      "       0.00000000e+00, 0.00000000e+00, 1.52166667e+00, 8.28333333e+01,\n",
      "       0.00000000e+00, 0.00000000e+00, 1.11333333e+00, 3.26666667e+01,\n",
      "       5.13333333e-01, 2.10000000e+01, 3.02166667e+00, 1.08666667e+02,\n",
      "       4.56666667e-01, 2.01666667e+01, 3.61666667e-01, 3.33333333e-01,\n",
      "       0.00000000e+00, 0.00000000e+00, 1.58333333e-01, 1.06666667e+01,\n",
      "       1.10000000e+00, 1.93333333e+01, 1.23333333e-01, 8.33333333e-01,\n",
      "       0.00000000e+00, 0.00000000e+00, 0.00000000e+00, 0.00000000e+00,\n",
      "       4.78333333e-01, 1.25000000e+01, 9.10000000e-01, 1.05000000e+01,\n",
      "       0.00000000e+00, 0.00000000e+00, 0.00000000e+00, 0.00000000e+00,\n",
      "       0.00000000e+00, 0.00000000e+00]), array([0.00000000e+00, 0.00000000e+00, 0.00000000e+00, 0.00000000e+00,\n",
      "       4.91666667e-01, 6.05000000e+01, 0.00000000e+00, 0.00000000e+00,\n",
      "       0.00000000e+00, 0.00000000e+00, 4.21666667e-01, 5.66666667e+00,\n",
      "       4.83333333e-01, 4.16666667e+00, 9.63333333e-01, 1.07833333e+02,\n",
      "       0.00000000e+00, 0.00000000e+00, 0.00000000e+00, 0.00000000e+00,\n",
      "       0.00000000e+00, 0.00000000e+00, 0.00000000e+00, 0.00000000e+00,\n",
      "       1.23333333e-01, 9.83333333e+00, 0.00000000e+00, 0.00000000e+00,\n",
      "       1.66666667e-01, 0.00000000e+00, 0.00000000e+00, 0.00000000e+00,\n",
      "       0.00000000e+00, 0.00000000e+00, 0.00000000e+00, 0.00000000e+00,\n",
      "       1.00000000e-01, 3.50000000e+00, 0.00000000e+00, 0.00000000e+00,\n",
      "       0.00000000e+00, 0.00000000e+00, 0.00000000e+00, 0.00000000e+00,\n",
      "       0.00000000e+00, 0.00000000e+00, 0.00000000e+00, 0.00000000e+00,\n",
      "       0.00000000e+00, 0.00000000e+00, 0.00000000e+00, 0.00000000e+00,\n",
      "       1.63333333e-01, 6.16666667e+00, 0.00000000e+00, 0.00000000e+00,\n",
      "       0.00000000e+00, 0.00000000e+00, 0.00000000e+00, 0.00000000e+00,\n",
      "       1.53333333e-01, 1.83333333e+00, 3.55000000e-01, 8.16666667e+00,\n",
      "       0.00000000e+00, 0.00000000e+00, 0.00000000e+00, 0.00000000e+00,\n",
      "       1.66666667e-01, 0.00000000e+00, 0.00000000e+00, 0.00000000e+00,\n",
      "       0.00000000e+00, 0.00000000e+00, 0.00000000e+00, 0.00000000e+00,\n",
      "       0.00000000e+00, 0.00000000e+00, 0.00000000e+00, 0.00000000e+00,\n",
      "       0.00000000e+00, 0.00000000e+00, 0.00000000e+00, 0.00000000e+00,\n",
      "       1.66666667e-01, 0.00000000e+00, 2.80000000e-01, 2.50000000e+00,\n",
      "       0.00000000e+00, 0.00000000e+00, 0.00000000e+00, 0.00000000e+00,\n",
      "       0.00000000e+00, 0.00000000e+00, 0.00000000e+00, 0.00000000e+00,\n",
      "       0.00000000e+00, 0.00000000e+00, 0.00000000e+00, 0.00000000e+00,\n",
      "       3.25000000e-01, 1.16666667e+00, 0.00000000e+00, 0.00000000e+00,\n",
      "       0.00000000e+00, 0.00000000e+00, 0.00000000e+00, 0.00000000e+00,\n",
      "       0.00000000e+00, 0.00000000e+00, 0.00000000e+00, 0.00000000e+00,\n",
      "       0.00000000e+00, 0.00000000e+00, 0.00000000e+00, 0.00000000e+00,\n",
      "       0.00000000e+00, 0.00000000e+00, 0.00000000e+00, 0.00000000e+00,\n",
      "       3.08333333e-01, 1.03333333e+01, 0.00000000e+00, 0.00000000e+00,\n",
      "       0.00000000e+00, 0.00000000e+00, 0.00000000e+00, 0.00000000e+00,\n",
      "       0.00000000e+00, 0.00000000e+00, 0.00000000e+00, 0.00000000e+00,\n",
      "       0.00000000e+00, 0.00000000e+00]), array([4.71166667e+00, 2.52833333e+02, 2.30500000e+00, 6.45000000e+01,\n",
      "       3.91333333e+00, 2.37333333e+02, 1.66666667e-01, 1.66666667e-01,\n",
      "       0.00000000e+00, 0.00000000e+00, 5.50333333e+00, 1.68166667e+02,\n",
      "       4.23666667e+00, 1.54666667e+02, 4.02166667e+00, 2.68166667e+02,\n",
      "       3.08000000e+00, 1.48000000e+02, 3.21666667e-01, 1.33333333e+00,\n",
      "       4.90000000e-01, 6.30000000e+01, 3.13166667e+00, 1.93166667e+02,\n",
      "       2.71000000e+00, 1.24000000e+02, 2.70000000e+00, 1.78500000e+02,\n",
      "       2.16333333e+00, 3.10000000e+01, 1.43833333e+00, 5.16666667e+01,\n",
      "       1.38166667e+00, 4.18333333e+01, 6.99833333e+00, 2.91166667e+02,\n",
      "       4.38000000e+00, 1.00166667e+02, 9.73333333e-01, 3.20000000e+01,\n",
      "       2.26333333e+00, 6.21666667e+01, 1.88333333e+00, 4.45000000e+01,\n",
      "       4.13000000e+00, 5.41666667e+01, 2.00500000e+00, 1.02666667e+02,\n",
      "       3.35166667e+00, 1.16333333e+02, 1.25333333e+00, 1.40000000e+01,\n",
      "       1.74000000e+00, 4.11666667e+01, 1.70500000e+00, 4.03333333e+01,\n",
      "       1.23500000e+00, 1.01666667e+01, 2.29500000e+00, 5.11666667e+01,\n",
      "       2.14000000e+00, 6.80000000e+01, 2.50500000e+00, 5.18333333e+01,\n",
      "       3.36666667e+00, 1.17833333e+02, 2.77000000e+00, 3.70000000e+01,\n",
      "       1.08333333e+00, 1.50000000e+01, 2.06166667e+00, 3.08333333e+01,\n",
      "       1.72833333e+00, 2.68333333e+01, 3.64166667e+00, 9.46666667e+01,\n",
      "       1.12500000e+00, 1.66666667e+01, 1.84666667e+00, 3.93333333e+01,\n",
      "       3.40666667e+00, 1.42166667e+02, 3.68833333e+00, 9.55000000e+01,\n",
      "       1.15000000e+00, 6.60000000e+01, 2.86666667e-01, 2.26666667e+01,\n",
      "       3.96333333e+00, 5.06666667e+01, 3.18333333e-01, 3.95000000e+01,\n",
      "       6.60000000e-01, 5.50000000e+00, 1.68333333e+00, 3.93333333e+01,\n",
      "       0.00000000e+00, 0.00000000e+00, 2.92666667e+00, 1.01666667e+02,\n",
      "       1.50000000e+00, 2.15000000e+01, 2.11666667e+00, 5.73333333e+01,\n",
      "       2.09833333e+00, 3.16666667e+01, 5.20833333e+00, 2.25166667e+02,\n",
      "       1.38833333e+00, 6.10000000e+01, 3.49333333e+00, 5.35000000e+01,\n",
      "       1.48333333e+00, 6.78333333e+01, 2.62333333e+00, 1.41333333e+02,\n",
      "       3.10833333e+00, 6.16666667e+01, 1.36500000e+00, 2.20000000e+01,\n",
      "       5.85000000e+00, 1.18666667e+02, 1.54000000e+00, 6.65000000e+01,\n",
      "       1.93000000e+00, 7.28333333e+01, 2.41500000e+00, 8.78333333e+01,\n",
      "       0.00000000e+00, 0.00000000e+00, 1.53333333e-01, 6.66666667e-01,\n",
      "       0.00000000e+00, 0.00000000e+00]), array([0.        , 0.        , 0.        , 0.        , 0.        ,\n",
      "       0.        , 0.        , 0.        , 0.        , 0.        ,\n",
      "       0.28833333, 3.5       , 0.29666667, 0.5       , 0.06666667,\n",
      "       2.16666667, 0.        , 0.        , 0.        , 0.        ,\n",
      "       0.        , 0.        , 0.        , 0.        , 0.        ,\n",
      "       0.        , 0.        , 0.        , 0.5       , 0.        ,\n",
      "       0.16666667, 0.        , 0.        , 0.        , 0.        ,\n",
      "       0.        , 0.        , 0.        , 0.        , 0.        ,\n",
      "       0.        , 0.        , 0.16333333, 1.33333333, 0.33333333,\n",
      "       2.        , 0.185     , 4.5       , 0.        , 0.        ,\n",
      "       0.        , 0.        , 0.        , 0.        , 0.        ,\n",
      "       0.        , 0.        , 0.        , 0.        , 0.        ,\n",
      "       0.        , 0.        , 1.385     , 0.83333333, 0.        ,\n",
      "       0.        , 0.315     , 3.33333333, 0.16666667, 0.        ,\n",
      "       0.16666667, 3.33333333, 0.        , 0.        , 0.        ,\n",
      "       0.        , 0.165     , 4.66666667, 0.        , 0.        ,\n",
      "       0.        , 0.        , 0.        , 0.        , 0.        ,\n",
      "       0.        , 0.        , 0.        , 0.        , 0.        ,\n",
      "       0.        , 0.        , 0.        , 0.        , 0.        ,\n",
      "       0.        , 0.        , 0.        , 0.        , 0.        ,\n",
      "       0.16666667, 0.16666667, 0.        , 0.        , 0.        ,\n",
      "       0.        , 0.        , 0.        , 0.        , 0.        ,\n",
      "       0.        , 0.        , 0.        , 0.        , 0.        ,\n",
      "       0.        , 0.        , 0.        , 0.        , 0.        ,\n",
      "       0.24166667, 4.33333333, 0.        , 0.        , 0.        ,\n",
      "       0.        , 0.        , 0.        , 0.        , 0.        ,\n",
      "       0.        , 0.        , 0.        , 0.        ]), array([4.13500000e+00, 1.98333333e+02, 6.48333333e-01, 9.66666667e+00,\n",
      "       2.61500000e+00, 1.38833333e+02, 1.60000000e-01, 1.40000000e+01,\n",
      "       2.88333333e-01, 3.66666667e+00, 3.43833333e+00, 9.41666667e+01,\n",
      "       1.31500000e+00, 1.33333333e+01, 1.00500000e+00, 3.43333333e+01,\n",
      "       4.69000000e+00, 4.36666667e+02, 0.00000000e+00, 0.00000000e+00,\n",
      "       1.17166667e+00, 1.03333333e+02, 3.16833333e+00, 5.71666667e+01,\n",
      "       3.03333333e+00, 5.70000000e+01, 2.80000000e+00, 8.83333333e+01,\n",
      "       1.12833333e+00, 3.83333333e+00, 4.66666667e-01, 9.16666667e+00,\n",
      "       2.61166667e+00, 8.60000000e+01, 1.86166667e+00, 2.73333333e+01,\n",
      "       1.68166667e+00, 4.83333333e+01, 1.40500000e+00, 4.66666667e+01,\n",
      "       5.84666667e+00, 1.73500000e+02, 1.23166667e+00, 2.88333333e+01,\n",
      "       1.68500000e+00, 2.75000000e+01, 1.65166667e+00, 2.85000000e+01,\n",
      "       3.67333333e+00, 1.37833333e+02, 7.30000000e-01, 8.66666667e+00,\n",
      "       2.07333333e+00, 1.68333333e+01, 1.59666667e+00, 5.13333333e+01,\n",
      "       2.98000000e+00, 4.12833333e+02, 2.61666667e+00, 3.01666667e+01,\n",
      "       1.13666667e+00, 2.08333333e+01, 7.05000000e-01, 1.28333333e+01,\n",
      "       1.74166667e+00, 4.23333333e+01, 1.02666667e+00, 3.50000000e+00,\n",
      "       1.09833333e+00, 1.56666667e+01, 1.65333333e+00, 1.56666667e+01,\n",
      "       1.71000000e+00, 1.01666667e+01, 3.36000000e+00, 7.73333333e+01,\n",
      "       1.01500000e+00, 1.36666667e+01, 7.06666667e-01, 1.56666667e+01,\n",
      "       2.94000000e+00, 6.66666667e+01, 2.08166667e+00, 3.76666667e+01,\n",
      "       3.33333333e-01, 2.00000000e+00, 3.33333333e-01, 5.00000000e-01,\n",
      "       1.28500000e+00, 1.48333333e+01, 1.41666667e-01, 3.33333333e-01,\n",
      "       1.51666667e-01, 1.33333333e+00, 8.83333333e-01, 9.66666667e+00,\n",
      "       0.00000000e+00, 0.00000000e+00, 4.14333333e+00, 7.68333333e+01,\n",
      "       9.21666667e-01, 6.50000000e+00, 2.47000000e+00, 2.91666667e+01,\n",
      "       4.10000000e-01, 1.16666667e+01, 1.75833333e+00, 3.40000000e+01,\n",
      "       2.66000000e+00, 9.53333333e+01, 4.53166667e+00, 4.55000000e+01,\n",
      "       8.66666667e-01, 1.00000000e+01, 1.25833333e+00, 3.60000000e+01,\n",
      "       2.09166667e+00, 1.33833333e+02, 1.59000000e+00, 3.01666667e+01,\n",
      "       1.42833333e+00, 3.76666667e+01, 5.83333333e-01, 1.53333333e+01,\n",
      "       1.82000000e+00, 6.33333333e+00, 1.02833333e+00, 1.56666667e+01,\n",
      "       0.00000000e+00, 0.00000000e+00, 0.00000000e+00, 0.00000000e+00,\n",
      "       1.66666667e-01, 0.00000000e+00]), array([1.41666667e-01, 4.33333333e+00, 1.25000000e-01, 1.16666667e+00,\n",
      "       2.28333333e-01, 3.83333333e+00, 0.00000000e+00, 0.00000000e+00,\n",
      "       0.00000000e+00, 0.00000000e+00, 1.36666667e-01, 1.66666667e+00,\n",
      "       0.00000000e+00, 0.00000000e+00, 1.55000000e-01, 2.16666667e+00,\n",
      "       2.45000000e-01, 1.25000000e+01, 0.00000000e+00, 0.00000000e+00,\n",
      "       0.00000000e+00, 0.00000000e+00, 1.28333333e-01, 3.33333333e+00,\n",
      "       0.00000000e+00, 0.00000000e+00, 0.00000000e+00, 0.00000000e+00,\n",
      "       0.00000000e+00, 0.00000000e+00, 0.00000000e+00, 0.00000000e+00,\n",
      "       1.58333333e-01, 2.38333333e+01, 0.00000000e+00, 0.00000000e+00,\n",
      "       1.66666667e-01, 5.00000000e-01, 0.00000000e+00, 0.00000000e+00,\n",
      "       8.83333333e-02, 2.00000000e+00, 0.00000000e+00, 0.00000000e+00,\n",
      "       7.50000000e-01, 8.16666667e+00, 1.41666667e-01, 1.06666667e+01,\n",
      "       2.11666667e-01, 4.00000000e+00, 0.00000000e+00, 0.00000000e+00,\n",
      "       3.30000000e-01, 6.66666667e-01, 1.48333333e-01, 1.33333333e+00,\n",
      "       1.11666667e-01, 8.33333333e-01, 0.00000000e+00, 0.00000000e+00,\n",
      "       2.60000000e-01, 1.43333333e+01, 0.00000000e+00, 0.00000000e+00,\n",
      "       2.33333333e-02, 3.33333333e-01, 0.00000000e+00, 0.00000000e+00,\n",
      "       1.66666667e-01, 5.00000000e-01, 1.56666667e-01, 1.66666667e-01,\n",
      "       1.60000000e-01, 8.33333333e-01, 0.00000000e+00, 0.00000000e+00,\n",
      "       9.66666667e-02, 3.50000000e+00, 1.18333333e-01, 2.66666667e+00,\n",
      "       1.96666667e-01, 1.23333333e+01, 0.00000000e+00, 0.00000000e+00,\n",
      "       0.00000000e+00, 0.00000000e+00, 1.60000000e-01, 0.00000000e+00,\n",
      "       0.00000000e+00, 0.00000000e+00, 0.00000000e+00, 0.00000000e+00,\n",
      "       0.00000000e+00, 0.00000000e+00, 0.00000000e+00, 0.00000000e+00,\n",
      "       0.00000000e+00, 0.00000000e+00, 0.00000000e+00, 0.00000000e+00,\n",
      "       3.31666667e-01, 3.33333333e+00, 0.00000000e+00, 0.00000000e+00,\n",
      "       0.00000000e+00, 0.00000000e+00, 1.05000000e-01, 4.66666667e+00,\n",
      "       0.00000000e+00, 0.00000000e+00, 0.00000000e+00, 0.00000000e+00,\n",
      "       0.00000000e+00, 0.00000000e+00, 3.45000000e-01, 7.00000000e+00,\n",
      "       2.30000000e-01, 9.00000000e+00, 0.00000000e+00, 0.00000000e+00,\n",
      "       4.51666667e-01, 5.33333333e+00, 0.00000000e+00, 0.00000000e+00,\n",
      "       1.98333333e-01, 2.00000000e+00, 0.00000000e+00, 0.00000000e+00,\n",
      "       0.00000000e+00, 0.00000000e+00, 0.00000000e+00, 0.00000000e+00,\n",
      "       0.00000000e+00, 0.00000000e+00]), array([  0.        ,   0.        ,   0.        ,   0.        ,\n",
      "         0.        ,   0.        ,   0.45      ,  15.5       ,\n",
      "         4.105     , 104.33333333,   0.        ,   0.        ,\n",
      "         0.        ,   0.        ,   0.        ,   0.        ,\n",
      "         0.        ,   0.        ,   0.6       ,  12.33333333,\n",
      "         0.68666667,  33.83333333,   0.        ,   0.        ,\n",
      "         0.        ,   0.        ,   0.        ,   0.        ,\n",
      "         0.        ,   0.        ,   0.        ,   0.        ,\n",
      "         0.        ,   0.        ,   0.        ,   0.        ,\n",
      "         0.        ,   0.        ,   0.        ,   0.        ,\n",
      "         0.        ,   0.        ,   0.        ,   0.        ,\n",
      "         0.        ,   0.        ,   0.        ,   0.        ,\n",
      "         0.        ,   0.        ,   0.        ,   0.        ,\n",
      "         0.        ,   0.        ,   0.        ,   0.        ,\n",
      "         0.        ,   0.        ,   0.        ,   0.        ,\n",
      "         0.        ,   0.        ,   0.        ,   0.        ,\n",
      "         0.        ,   0.        ,   0.        ,   0.        ,\n",
      "         0.        ,   0.        ,   0.        ,   0.        ,\n",
      "         0.        ,   0.        ,   0.        ,   0.        ,\n",
      "         0.        ,   0.        ,   0.        ,   0.        ,\n",
      "         0.        ,   0.        ,   0.        ,   0.        ,\n",
      "         0.        ,   0.        ,   0.        ,   0.        ,\n",
      "         0.        ,   0.        ,   2.035     ,  98.        ,\n",
      "         0.        ,   0.        ,   0.        ,   0.        ,\n",
      "         0.49333333,   0.5       ,   0.        ,   0.        ,\n",
      "         0.        ,   0.        ,   0.        ,   0.        ,\n",
      "         0.        ,   0.        ,   0.        ,   0.        ,\n",
      "         0.        ,   0.        ,   0.        ,   0.        ,\n",
      "         0.        ,   0.        ,   0.        ,   0.        ,\n",
      "         0.        ,   0.        ,   0.        ,   0.        ,\n",
      "         0.        ,   0.        ,   0.        ,   0.        ,\n",
      "         0.        ,   0.        ,   0.        ,   0.        ,\n",
      "         1.12833333,  34.5       ,   0.15166667,   4.        ,\n",
      "         0.16166667,   1.        ]), array([2.33333333e-02, 8.33333333e-01, 0.00000000e+00, 0.00000000e+00,\n",
      "       3.08333333e-01, 2.20000000e+01, 1.61666667e-01, 9.00000000e+00,\n",
      "       9.03333333e-01, 4.50000000e+01, 1.48333333e-01, 1.00000000e+00,\n",
      "       1.66666667e-01, 0.00000000e+00, 2.91666667e-01, 9.33333333e+00,\n",
      "       2.98333333e-01, 1.48333333e+01, 4.21666667e-01, 3.05000000e+01,\n",
      "       4.28333333e-01, 4.41666667e+01, 8.33333333e-02, 1.33333333e+00,\n",
      "       2.45000000e-01, 9.83333333e+00, 4.85000000e-01, 2.88333333e+01,\n",
      "       0.00000000e+00, 0.00000000e+00, 0.00000000e+00, 0.00000000e+00,\n",
      "       1.43333333e-01, 1.50000000e+00, 0.00000000e+00, 0.00000000e+00,\n",
      "       1.56666667e-01, 1.00000000e+00, 0.00000000e+00, 0.00000000e+00,\n",
      "       3.16666667e-01, 6.16666667e+00, 3.03333333e-01, 2.33333333e+00,\n",
      "       6.45000000e-01, 6.33333333e+00, 1.30000000e-01, 1.83333333e+00,\n",
      "       1.13333333e-01, 3.16666667e+00, 4.06666667e-01, 4.66666667e+00,\n",
      "       2.60000000e-01, 1.66666667e+00, 8.33333333e-02, 2.66666667e+00,\n",
      "       1.25000000e-01, 0.00000000e+00, 0.00000000e+00, 0.00000000e+00,\n",
      "       0.00000000e+00, 0.00000000e+00, 1.61666667e-01, 8.33333333e-01,\n",
      "       9.95000000e-01, 1.68333333e+01, 4.81666667e-01, 4.16666667e+00,\n",
      "       0.00000000e+00, 0.00000000e+00, 4.63333333e-01, 2.00000000e+00,\n",
      "       0.00000000e+00, 0.00000000e+00, 1.66666667e-01, 3.16666667e+00,\n",
      "       3.26666667e-01, 2.33333333e+00, 0.00000000e+00, 0.00000000e+00,\n",
      "       0.00000000e+00, 0.00000000e+00, 1.66666667e-01, 5.00000000e-01,\n",
      "       4.73333333e-01, 6.66666667e+00, 0.00000000e+00, 0.00000000e+00,\n",
      "       1.50000000e-01, 3.33333333e-01, 3.15000000e-01, 1.86666667e+01,\n",
      "       0.00000000e+00, 0.00000000e+00, 0.00000000e+00, 0.00000000e+00,\n",
      "       1.53333333e-01, 1.16666667e+00, 0.00000000e+00, 0.00000000e+00,\n",
      "       0.00000000e+00, 0.00000000e+00, 0.00000000e+00, 0.00000000e+00,\n",
      "       0.00000000e+00, 0.00000000e+00, 0.00000000e+00, 0.00000000e+00,\n",
      "       0.00000000e+00, 0.00000000e+00, 4.70000000e-01, 2.95000000e+01,\n",
      "       1.60000000e-01, 3.00000000e+00, 0.00000000e+00, 0.00000000e+00,\n",
      "       0.00000000e+00, 0.00000000e+00, 1.55000000e-01, 1.50000000e+00,\n",
      "       0.00000000e+00, 0.00000000e+00, 0.00000000e+00, 0.00000000e+00,\n",
      "       0.00000000e+00, 0.00000000e+00, 1.56666667e-01, 1.83333333e+00,\n",
      "       0.00000000e+00, 0.00000000e+00, 0.00000000e+00, 0.00000000e+00,\n",
      "       0.00000000e+00, 0.00000000e+00]), array([ 0.15833333,  0.16666667,  0.        ,  0.        ,  0.        ,\n",
      "        0.        ,  0.83333333,  9.16666667,  0.38333333,  3.83333333,\n",
      "        0.        ,  0.        ,  0.        ,  0.        ,  0.        ,\n",
      "        0.        ,  0.        ,  0.        ,  0.        ,  0.        ,\n",
      "        0.32166667, 12.5       ,  0.15833333,  1.16666667,  0.        ,\n",
      "        0.        ,  0.16      ,  1.16666667,  0.        ,  0.        ,\n",
      "        0.        ,  0.        ,  0.        ,  0.        ,  0.        ,\n",
      "        0.        ,  0.15666667,  0.5       ,  0.        ,  0.        ,\n",
      "        0.        ,  0.        ,  0.        ,  0.        ,  0.        ,\n",
      "        0.        ,  0.        ,  0.        ,  0.16166667,  2.33333333,\n",
      "        0.        ,  0.        ,  0.        ,  0.        ,  0.        ,\n",
      "        0.        ,  0.        ,  0.        ,  0.        ,  0.        ,\n",
      "        0.16666667,  0.        ,  0.        ,  0.        ,  0.        ,\n",
      "        0.        ,  0.        ,  0.        ,  0.        ,  0.        ,\n",
      "        0.        ,  0.        ,  0.        ,  0.        ,  0.        ,\n",
      "        0.        ,  0.        ,  0.        ,  0.        ,  0.        ,\n",
      "        0.16      ,  1.33333333,  0.        ,  0.        ,  0.        ,\n",
      "        0.        ,  0.        ,  0.        ,  0.07333333,  0.16666667,\n",
      "        0.        ,  0.        ,  0.        ,  0.        ,  0.        ,\n",
      "        0.        ,  0.        ,  0.        ,  0.        ,  0.        ,\n",
      "        0.        ,  0.        ,  0.        ,  0.        ,  0.        ,\n",
      "        0.        ,  0.        ,  0.        ,  0.        ,  0.        ,\n",
      "        0.        ,  0.        ,  0.        ,  0.        ,  0.        ,\n",
      "        0.        ,  0.        ,  0.        ,  0.        ,  0.        ,\n",
      "        0.        ,  0.        ,  0.        ,  0.        ,  0.        ,\n",
      "        0.        ,  0.        ,  0.        ,  0.        ,  0.        ,\n",
      "        0.15166667,  1.33333333,  0.        ,  0.        ])]\n"
     ]
    }
   ],
   "source": [
    "print([k for k in ns_repr[21:50]])"
   ]
  },
  {
   "cell_type": "code",
   "execution_count": 135,
   "metadata": {},
   "outputs": [],
   "source": [
    "svd = TruncatedSVD(n_components=100) #, n_iter=7, random_state=42)\n",
    "svd_pca = PCA(n_components=min(len(ns_repr), len(ns_repr[0])))"
   ]
  },
  {
   "cell_type": "code",
   "execution_count": 136,
   "metadata": {},
   "outputs": [],
   "source": [
    "# fit1 = svd.fit(ns_repr)\n",
    "# fit1 = svd.fit(csr_matrix(preprocessing.normalize(ns_repr)))\n",
    "fit1 = svd_pca.fit(MaxAbsScaler().fit_transform(np.array(ns_repr)))"
   ]
  },
  {
   "cell_type": "code",
   "execution_count": 137,
   "metadata": {},
   "outputs": [],
   "source": [
    "explained_var = fit1.explained_variance_ratio_"
   ]
  },
  {
   "cell_type": "code",
   "execution_count": 138,
   "metadata": {},
   "outputs": [
    {
     "data": {
      "text/plain": [
       "array([4.35584990e-01, 1.97884902e-01, 1.06519323e-01, 5.93919646e-02,\n",
       "       3.63063129e-02, 2.53529015e-02, 2.09949538e-02, 1.81146390e-02,\n",
       "       1.20558613e-02, 1.12282454e-02, 9.19909252e-03, 8.74568043e-03,\n",
       "       6.58960565e-03, 5.91638742e-03, 5.32225077e-03, 5.20759205e-03,\n",
       "       4.11647185e-03, 3.91330581e-03, 3.09394464e-03, 2.78999197e-03,\n",
       "       2.69316809e-03, 2.35448040e-03, 1.92480935e-03, 1.86300823e-03,\n",
       "       1.54375137e-03, 1.43354482e-03, 1.28420366e-03, 1.24282162e-03,\n",
       "       8.85144767e-04, 8.31137674e-04, 7.48967146e-04, 5.94145205e-04,\n",
       "       4.90944723e-04, 4.47508576e-04, 3.82778646e-04, 3.72048041e-04,\n",
       "       2.96884586e-04, 2.75004345e-04, 2.25370438e-04, 1.97709930e-04,\n",
       "       1.66523498e-04, 1.45840642e-04, 1.34787992e-04, 1.09852159e-04,\n",
       "       1.00996904e-04, 9.46449597e-05, 8.88479334e-05, 8.21521618e-05,\n",
       "       6.82508836e-05, 6.51095634e-05, 5.81615369e-05, 5.39880145e-05,\n",
       "       4.90062066e-05, 4.00640614e-05, 3.92087362e-05, 3.27002307e-05,\n",
       "       3.00307546e-05, 2.56466454e-05, 2.44532651e-05, 2.29366748e-05,\n",
       "       1.94224394e-05, 1.69147540e-05, 1.54290787e-05, 1.31808195e-05,\n",
       "       1.09295851e-05, 1.01952567e-05, 9.15954880e-06, 8.03015143e-06,\n",
       "       7.57676038e-06, 6.36914267e-06, 5.75080840e-06, 4.72030891e-06,\n",
       "       3.73889332e-06, 3.69854533e-06, 2.86009545e-06, 2.36154058e-06,\n",
       "       2.22343350e-06, 1.82149747e-06, 1.59475224e-06, 1.46964165e-06,\n",
       "       1.25768092e-06, 8.89022957e-07, 7.92078443e-07, 5.63186894e-07,\n",
       "       8.59039923e-32])"
      ]
     },
     "execution_count": 138,
     "metadata": {},
     "output_type": "execute_result"
    }
   ],
   "source": [
    "explained_var"
   ]
  },
  {
   "cell_type": "code",
   "execution_count": 139,
   "metadata": {},
   "outputs": [
    {
     "data": {
      "text/plain": [
       "85"
      ]
     },
     "execution_count": 139,
     "metadata": {},
     "output_type": "execute_result"
    }
   ],
   "source": [
    "len(explained_var)"
   ]
  },
  {
   "cell_type": "code",
   "execution_count": 140,
   "metadata": {},
   "outputs": [
    {
     "data": {
      "text/plain": [
       "0.9999999999999999"
      ]
     },
     "execution_count": 140,
     "metadata": {},
     "output_type": "execute_result"
    }
   ],
   "source": [
    "fit1.explained_variance_ratio_.sum()"
   ]
  },
  {
   "cell_type": "code",
   "execution_count": 141,
   "metadata": {},
   "outputs": [],
   "source": [
    "explained_var_sums = [sum(explained_var[:d]) for d in range(len(ns_repr))]"
   ]
  },
  {
   "cell_type": "code",
   "execution_count": 142,
   "metadata": {
    "scrolled": true
   },
   "outputs": [
    {
     "data": {
      "text/plain": [
       "[0,\n",
       " 0.43558498985619154,\n",
       " 0.6334698918634968,\n",
       " 0.7399892149289728,\n",
       " 0.7993811795580347,\n",
       " 0.8356874924308582,\n",
       " 0.8610403939007955,\n",
       " 0.8820353477201247,\n",
       " 0.9001499867344573,\n",
       " 0.9122058480832308,\n",
       " 0.9234340934377707,\n",
       " 0.9326331859612846,\n",
       " 0.9413788663957596,\n",
       " 0.9479684720412788,\n",
       " 0.953884859464667,\n",
       " 0.9592071102363561,\n",
       " 0.9644147022887165,\n",
       " 0.968531174133779,\n",
       " 0.9724444799389259,\n",
       " 0.975538424576513,\n",
       " 0.9783284165468119,\n",
       " 0.9810215846347786,\n",
       " 0.983376065032255,\n",
       " 0.9853008743841631,\n",
       " 0.9871638826095378,\n",
       " 0.9887076339828186,\n",
       " 0.9901411787997403,\n",
       " 0.9914253824618493,\n",
       " 0.9926682040778136,\n",
       " 0.9935533488451858,\n",
       " 0.994384486518763,\n",
       " 0.9951334536647127,\n",
       " 0.9957275988699996,\n",
       " 0.9962185435927533,\n",
       " 0.9966660521684924,\n",
       " 0.9970488308149205,\n",
       " 0.9974208788560578,\n",
       " 0.9977177634418877,\n",
       " 0.9979927677865907,\n",
       " 0.9982181382245949,\n",
       " 0.9984158481550458,\n",
       " 0.9985823716526339,\n",
       " 0.99872821229419,\n",
       " 0.9988630002860753,\n",
       " 0.9989728524455633,\n",
       " 0.9990738493492894,\n",
       " 0.9991684943089821,\n",
       " 0.9992573422423435,\n",
       " 0.9993394944040942,\n",
       " 0.9994077452876912,\n",
       " 0.9994728548511174,\n",
       " 0.999531016387996,\n",
       " 0.9995850044025159,\n",
       " 0.9996340106091528,\n",
       " 0.9996740746705072,\n",
       " 0.9997132834066729,\n",
       " 0.9997459836373305,\n",
       " 0.9997760143919127,\n",
       " 0.9998016610373343,\n",
       " 0.9998261143024562,\n",
       " 0.9998490509772644,\n",
       " 0.9998684734166935,\n",
       " 0.9998853881706529,\n",
       " 0.9999008172493749,\n",
       " 0.9999139980688732,\n",
       " 0.9999249276539838,\n",
       " 0.9999351229106456,\n",
       " 0.9999442824594463,\n",
       " 0.9999523126108744,\n",
       " 0.999959889371255,\n",
       " 0.9999662585139245,\n",
       " 0.999972009322325,\n",
       " 0.9999767296312349,\n",
       " 0.9999804685245566,\n",
       " 0.9999841670698911,\n",
       " 0.9999870271653419,\n",
       " 0.9999893887059199,\n",
       " 0.9999916121394196,\n",
       " 0.9999934336368924,\n",
       " 0.9999950283891373,\n",
       " 0.9999964980307854,\n",
       " 0.9999977557117061,\n",
       " 0.999998644734663,\n",
       " 0.999999436813106,\n",
       " 0.9999999999999997]"
      ]
     },
     "execution_count": 142,
     "metadata": {},
     "output_type": "execute_result"
    }
   ],
   "source": [
    "explained_var_sums"
   ]
  },
  {
   "cell_type": "code",
   "execution_count": 143,
   "metadata": {
    "scrolled": false
   },
   "outputs": [
    {
     "data": {
      "text/plain": [
       "<AxesSubplot:>"
      ]
     },
     "execution_count": 143,
     "metadata": {},
     "output_type": "execute_result"
    },
    {
     "data": {
      "image/png": "[encoded data removed]",
      "text/plain": [
       "<Figure size 432x288 with 1 Axes>"
      ]
     },
     "metadata": {},
     "output_type": "display_data"
    }
   ],
   "source": [
    "sns.lineplot(x=range(len(explained_var_sums)), y=explained_var_sums)"
   ]
  },
  {
   "cell_type": "markdown",
   "metadata": {},
   "source": [
    "Now, I will cast those list representation values to be numpy arrays so I can preprocess them easily. Further, I will normalize each array."
   ]
  },
  {
   "cell_type": "markdown",
   "metadata": {},
   "source": [
    "*side note: `preprocessing.normalize` vs `standardscaler`*"
   ]
  },
  {
   "cell_type": "code",
   "execution_count": 144,
   "metadata": {},
   "outputs": [
    {
     "data": {
      "text/plain": [
       "array([[0.00999301, 0.99930073, 0.01998601, 0.02997902],\n",
       "       [0.01781459, 0.44536472, 0.89072943, 0.08907294]])"
      ]
     },
     "execution_count": 144,
     "metadata": {},
     "output_type": "execute_result"
    }
   ],
   "source": [
    "preprocessing.normalize(np.array([[1,100,2,3],[2,50,100,10]]))"
   ]
  },
  {
   "cell_type": "code",
   "execution_count": 145,
   "metadata": {},
   "outputs": [
    {
     "data": {
      "text/plain": [
       "array([[-1.41421356,  1.41421356, -1.41421356, -1.41421356],\n",
       "       [ 0.70710678, -0.70710678,  0.70710678,  0.70710678],\n",
       "       [ 0.70710678, -0.70710678,  0.70710678,  0.70710678]])"
      ]
     },
     "execution_count": 145,
     "metadata": {},
     "output_type": "execute_result"
    }
   ],
   "source": [
    "scaler = StandardScaler()\n",
    "scaler.fit_transform(np.array([[1,100,2,3],[2,50,100,10],[2,50,100,10]]))"
   ]
  },
  {
   "cell_type": "markdown",
   "metadata": {},
   "source": [
    "Now I'm thinking, should I *normalize* or *standardize*?"
   ]
  },
  {
   "cell_type": "code",
   "execution_count": 146,
   "metadata": {},
   "outputs": [],
   "source": [
    "# for ns in ns_sr_rep:\n",
    "#     rep = ns_sr_rep[ns]\n",
    "#     ns_sr_rep[ns] = preprocessing.normalize(np.array([rep]))"
   ]
  },
  {
   "cell_type": "markdown",
   "metadata": {},
   "source": [
    "## K-Means\n",
    "\n",
    "Without and with standardization.\n",
    "\n",
    "First, I need to find optimum `k`."
   ]
  },
  {
   "cell_type": "code",
   "execution_count": 147,
   "metadata": {},
   "outputs": [],
   "source": [
    "ns_repr_new = fit1.transform(MaxAbsScaler().fit_transform(np.array(ns_repr))) #fit1 is PCA"
   ]
  },
  {
   "cell_type": "code",
   "execution_count": 148,
   "metadata": {},
   "outputs": [],
   "source": [
    "ns_repr_new = [k[:10] for k in ns_repr_new]"
   ]
  },
  {
   "cell_type": "code",
   "execution_count": 149,
   "metadata": {},
   "outputs": [],
   "source": [
    "kmeans = KMeans(init = \"k-means++\",\n",
    "               n_clusters = 5,\n",
    "               n_init = 10,\n",
    "               max_iter = 100)"
   ]
  },
  {
   "cell_type": "markdown",
   "metadata": {},
   "source": [
    "Freezing the list for representations and the news sources."
   ]
  },
  {
   "cell_type": "code",
   "execution_count": 150,
   "metadata": {},
   "outputs": [
    {
     "data": {
      "text/plain": [
       "KMeans(max_iter=100, n_clusters=5)"
      ]
     },
     "execution_count": 150,
     "metadata": {},
     "output_type": "execute_result"
    }
   ],
   "source": [
    "kmeans.fit([v for v in ns_repr_new])"
   ]
  },
  {
   "cell_type": "code",
   "execution_count": 151,
   "metadata": {},
   "outputs": [],
   "source": [
    "ns_fixed = list(ns_sr_rep.keys())"
   ]
  },
  {
   "cell_type": "code",
   "execution_count": 152,
   "metadata": {},
   "outputs": [
    {
     "name": "stdout",
     "output_type": "stream",
     "text": [
      "True\n"
     ]
    }
   ],
   "source": [
    "for i,ns in enumerate(ns_fixed):\n",
    "    if (ns_sr_rep[ns] == ns_repr[i]).all():\n",
    "        pass\n",
    "    else:\n",
    "        print(\"False\")\n",
    "print(\"True\")"
   ]
  },
  {
   "cell_type": "code",
   "execution_count": 153,
   "metadata": {},
   "outputs": [
    {
     "data": {
      "text/plain": [
       "49.094986755387644"
      ]
     },
     "execution_count": 153,
     "metadata": {},
     "output_type": "execute_result"
    }
   ],
   "source": [
    "kmeans.inertia_"
   ]
  },
  {
   "cell_type": "code",
   "execution_count": 154,
   "metadata": {
    "scrolled": true
   },
   "outputs": [
    {
     "data": {
      "text/plain": [
       "3"
      ]
     },
     "execution_count": 154,
     "metadata": {},
     "output_type": "execute_result"
    }
   ],
   "source": [
    "kmeans.n_iter_"
   ]
  },
  {
   "cell_type": "code",
   "execution_count": 155,
   "metadata": {
    "scrolled": true
   },
   "outputs": [
    {
     "data": {
      "text/plain": [
       "Counter({1: 7, 3: 10, 0: 66, 4: 1, 2: 1})"
      ]
     },
     "execution_count": 155,
     "metadata": {},
     "output_type": "execute_result"
    }
   ],
   "source": [
    "Counter(kmeans.labels_)"
   ]
  },
  {
   "cell_type": "markdown",
   "metadata": {},
   "source": [
    "**Choosing the appropriate number of clusters**"
   ]
  },
  {
   "cell_type": "markdown",
   "metadata": {},
   "source": [
    "1. Elbow method"
   ]
  },
  {
   "cell_type": "code",
   "execution_count": 156,
   "metadata": {},
   "outputs": [],
   "source": [
    "kmeans_kwargs = {\n",
    "    \"init\": \"random\",\n",
    "    \"n_init\": 10,\n",
    "    \"max_iter\": 300,\n",
    "    \"random_state\": 360\n",
    "}"
   ]
  },
  {
   "cell_type": "code",
   "execution_count": 157,
   "metadata": {
    "scrolled": true
   },
   "outputs": [
    {
     "name": "stdout",
     "output_type": "stream",
     "text": [
      "have done 1 rounds, current sse is [226.5913377052821]\n",
      "have done 2 rounds, current sse is [226.5913377052821, 138.6778625253068]\n",
      "have done 3 rounds, current sse is [226.5913377052821, 138.6778625253068, 94.53146771161683]\n",
      "have done 4 rounds, current sse is [226.5913377052821, 138.6778625253068, 94.53146771161683, 74.71709612898916]\n",
      "have done 5 rounds, current sse is [226.5913377052821, 138.6778625253068, 94.53146771161683, 74.71709612898916, 61.453324275971816]\n",
      "have done 6 rounds, current sse is [226.5913377052821, 138.6778625253068, 94.53146771161683, 74.71709612898916, 61.453324275971816, 52.504678150402924]\n",
      "have done 7 rounds, current sse is [226.5913377052821, 138.6778625253068, 94.53146771161683, 74.71709612898916, 61.453324275971816, 52.504678150402924, 41.448794684105394]\n",
      "have done 8 rounds, current sse is [226.5913377052821, 138.6778625253068, 94.53146771161683, 74.71709612898916, 61.453324275971816, 52.504678150402924, 41.448794684105394, 39.25719880173233]\n",
      "have done 9 rounds, current sse is [226.5913377052821, 138.6778625253068, 94.53146771161683, 74.71709612898916, 61.453324275971816, 52.504678150402924, 41.448794684105394, 39.25719880173233, 39.62893213863588]\n",
      "have done 10 rounds, current sse is [226.5913377052821, 138.6778625253068, 94.53146771161683, 74.71709612898916, 61.453324275971816, 52.504678150402924, 41.448794684105394, 39.25719880173233, 39.62893213863588, 39.377435374594675]\n",
      "have done 11 rounds, current sse is [226.5913377052821, 138.6778625253068, 94.53146771161683, 74.71709612898916, 61.453324275971816, 52.504678150402924, 41.448794684105394, 39.25719880173233, 39.62893213863588, 39.377435374594675, 36.22003970499608]\n",
      "have done 12 rounds, current sse is [226.5913377052821, 138.6778625253068, 94.53146771161683, 74.71709612898916, 61.453324275971816, 52.504678150402924, 41.448794684105394, 39.25719880173233, 39.62893213863588, 39.377435374594675, 36.22003970499608, 36.10205961511965]\n",
      "have done 13 rounds, current sse is [226.5913377052821, 138.6778625253068, 94.53146771161683, 74.71709612898916, 61.453324275971816, 52.504678150402924, 41.448794684105394, 39.25719880173233, 39.62893213863588, 39.377435374594675, 36.22003970499608, 36.10205961511965, 27.178169473884747]\n",
      "have done 14 rounds, current sse is [226.5913377052821, 138.6778625253068, 94.53146771161683, 74.71709612898916, 61.453324275971816, 52.504678150402924, 41.448794684105394, 39.25719880173233, 39.62893213863588, 39.377435374594675, 36.22003970499608, 36.10205961511965, 27.178169473884747, 31.506553377986943]\n",
      "have done 15 rounds, current sse is [226.5913377052821, 138.6778625253068, 94.53146771161683, 74.71709612898916, 61.453324275971816, 52.504678150402924, 41.448794684105394, 39.25719880173233, 39.62893213863588, 39.377435374594675, 36.22003970499608, 36.10205961511965, 27.178169473884747, 31.506553377986943, 31.448335401197827]\n",
      "have done 16 rounds, current sse is [226.5913377052821, 138.6778625253068, 94.53146771161683, 74.71709612898916, 61.453324275971816, 52.504678150402924, 41.448794684105394, 39.25719880173233, 39.62893213863588, 39.377435374594675, 36.22003970499608, 36.10205961511965, 27.178169473884747, 31.506553377986943, 31.448335401197827, 26.47842973686523]\n",
      "have done 17 rounds, current sse is [226.5913377052821, 138.6778625253068, 94.53146771161683, 74.71709612898916, 61.453324275971816, 52.504678150402924, 41.448794684105394, 39.25719880173233, 39.62893213863588, 39.377435374594675, 36.22003970499608, 36.10205961511965, 27.178169473884747, 31.506553377986943, 31.448335401197827, 26.47842973686523, 31.391954701061103]\n",
      "have done 18 rounds, current sse is [226.5913377052821, 138.6778625253068, 94.53146771161683, 74.71709612898916, 61.453324275971816, 52.504678150402924, 41.448794684105394, 39.25719880173233, 39.62893213863588, 39.377435374594675, 36.22003970499608, 36.10205961511965, 27.178169473884747, 31.506553377986943, 31.448335401197827, 26.47842973686523, 31.391954701061103, 30.119218734665424]\n",
      "have done 19 rounds, current sse is [226.5913377052821, 138.6778625253068, 94.53146771161683, 74.71709612898916, 61.453324275971816, 52.504678150402924, 41.448794684105394, 39.25719880173233, 39.62893213863588, 39.377435374594675, 36.22003970499608, 36.10205961511965, 27.178169473884747, 31.506553377986943, 31.448335401197827, 26.47842973686523, 31.391954701061103, 30.119218734665424, 16.81051545642824]\n"
     ]
    }
   ],
   "source": [
    "sse = []\n",
    "for k in range(1,20):\n",
    "    kmeans = KMeans(n_clusters = k, **kmeans_kwargs)\n",
    "    kmeans.fit(ns_repr_new)\n",
    "    sse.append(kmeans.inertia_)\n",
    "    print(f\"have done {k} rounds, current sse is {sse}\")"
   ]
  },
  {
   "cell_type": "code",
   "execution_count": 158,
   "metadata": {
    "scrolled": true
   },
   "outputs": [
    {
     "data": {
      "text/plain": [
       "[<matplotlib.lines.Line2D at 0x25366fb1610>]"
      ]
     },
     "execution_count": 158,
     "metadata": {},
     "output_type": "execute_result"
    },
    {
     "data": {
      "image/png": "[encoded data removed]",
      "text/plain": [
       "<Figure size 432x288 with 1 Axes>"
      ]
     },
     "metadata": {},
     "output_type": "display_data"
    }
   ],
   "source": [
    "plt.plot(range(1,20),sse,\"go-\")"
   ]
  },
  {
   "cell_type": "code",
   "execution_count": 159,
   "metadata": {
    "scrolled": true
   },
   "outputs": [
    {
     "name": "stdout",
     "output_type": "stream",
     "text": [
      "have done 20 rounds, current sse is [226.5913377052821, 138.6778625253068, 94.53146771161683, 74.71709612898916, 61.453324275971816, 52.504678150402924, 41.448794684105394, 39.25719880173233, 39.62893213863588, 39.377435374594675, 36.22003970499608, 36.10205961511965, 27.178169473884747, 31.506553377986943, 31.448335401197827, 26.47842973686523, 31.391954701061103, 30.119218734665424, 16.81051545642824, 15.401580611663292]\n",
      "have done 21 rounds, current sse is [226.5913377052821, 138.6778625253068, 94.53146771161683, 74.71709612898916, 61.453324275971816, 52.504678150402924, 41.448794684105394, 39.25719880173233, 39.62893213863588, 39.377435374594675, 36.22003970499608, 36.10205961511965, 27.178169473884747, 31.506553377986943, 31.448335401197827, 26.47842973686523, 31.391954701061103, 30.119218734665424, 16.81051545642824, 15.401580611663292, 15.382456780535204]\n",
      "have done 22 rounds, current sse is [226.5913377052821, 138.6778625253068, 94.53146771161683, 74.71709612898916, 61.453324275971816, 52.504678150402924, 41.448794684105394, 39.25719880173233, 39.62893213863588, 39.377435374594675, 36.22003970499608, 36.10205961511965, 27.178169473884747, 31.506553377986943, 31.448335401197827, 26.47842973686523, 31.391954701061103, 30.119218734665424, 16.81051545642824, 15.401580611663292, 15.382456780535204, 15.357128495910798]\n",
      "have done 23 rounds, current sse is [226.5913377052821, 138.6778625253068, 94.53146771161683, 74.71709612898916, 61.453324275971816, 52.504678150402924, 41.448794684105394, 39.25719880173233, 39.62893213863588, 39.377435374594675, 36.22003970499608, 36.10205961511965, 27.178169473884747, 31.506553377986943, 31.448335401197827, 26.47842973686523, 31.391954701061103, 30.119218734665424, 16.81051545642824, 15.401580611663292, 15.382456780535204, 15.357128495910798, 15.347688686482657]\n",
      "have done 24 rounds, current sse is [226.5913377052821, 138.6778625253068, 94.53146771161683, 74.71709612898916, 61.453324275971816, 52.504678150402924, 41.448794684105394, 39.25719880173233, 39.62893213863588, 39.377435374594675, 36.22003970499608, 36.10205961511965, 27.178169473884747, 31.506553377986943, 31.448335401197827, 26.47842973686523, 31.391954701061103, 30.119218734665424, 16.81051545642824, 15.401580611663292, 15.382456780535204, 15.357128495910798, 15.347688686482657, 15.088354667279248]\n",
      "have done 25 rounds, current sse is [226.5913377052821, 138.6778625253068, 94.53146771161683, 74.71709612898916, 61.453324275971816, 52.504678150402924, 41.448794684105394, 39.25719880173233, 39.62893213863588, 39.377435374594675, 36.22003970499608, 36.10205961511965, 27.178169473884747, 31.506553377986943, 31.448335401197827, 26.47842973686523, 31.391954701061103, 30.119218734665424, 16.81051545642824, 15.401580611663292, 15.382456780535204, 15.357128495910798, 15.347688686482657, 15.088354667279248, 15.128967474949937]\n",
      "have done 26 rounds, current sse is [226.5913377052821, 138.6778625253068, 94.53146771161683, 74.71709612898916, 61.453324275971816, 52.504678150402924, 41.448794684105394, 39.25719880173233, 39.62893213863588, 39.377435374594675, 36.22003970499608, 36.10205961511965, 27.178169473884747, 31.506553377986943, 31.448335401197827, 26.47842973686523, 31.391954701061103, 30.119218734665424, 16.81051545642824, 15.401580611663292, 15.382456780535204, 15.357128495910798, 15.347688686482657, 15.088354667279248, 15.128967474949937, 15.079880507287408]\n",
      "have done 27 rounds, current sse is [226.5913377052821, 138.6778625253068, 94.53146771161683, 74.71709612898916, 61.453324275971816, 52.504678150402924, 41.448794684105394, 39.25719880173233, 39.62893213863588, 39.377435374594675, 36.22003970499608, 36.10205961511965, 27.178169473884747, 31.506553377986943, 31.448335401197827, 26.47842973686523, 31.391954701061103, 30.119218734665424, 16.81051545642824, 15.401580611663292, 15.382456780535204, 15.357128495910798, 15.347688686482657, 15.088354667279248, 15.128967474949937, 15.079880507287408, 8.853977428159125]\n",
      "have done 28 rounds, current sse is [226.5913377052821, 138.6778625253068, 94.53146771161683, 74.71709612898916, 61.453324275971816, 52.504678150402924, 41.448794684105394, 39.25719880173233, 39.62893213863588, 39.377435374594675, 36.22003970499608, 36.10205961511965, 27.178169473884747, 31.506553377986943, 31.448335401197827, 26.47842973686523, 31.391954701061103, 30.119218734665424, 16.81051545642824, 15.401580611663292, 15.382456780535204, 15.357128495910798, 15.347688686482657, 15.088354667279248, 15.128967474949937, 15.079880507287408, 8.853977428159125, 8.783180230045295]\n",
      "have done 29 rounds, current sse is [226.5913377052821, 138.6778625253068, 94.53146771161683, 74.71709612898916, 61.453324275971816, 52.504678150402924, 41.448794684105394, 39.25719880173233, 39.62893213863588, 39.377435374594675, 36.22003970499608, 36.10205961511965, 27.178169473884747, 31.506553377986943, 31.448335401197827, 26.47842973686523, 31.391954701061103, 30.119218734665424, 16.81051545642824, 15.401580611663292, 15.382456780535204, 15.357128495910798, 15.347688686482657, 15.088354667279248, 15.128967474949937, 15.079880507287408, 8.853977428159125, 8.783180230045295, 8.844650300905244]\n",
      "have done 30 rounds, current sse is [226.5913377052821, 138.6778625253068, 94.53146771161683, 74.71709612898916, 61.453324275971816, 52.504678150402924, 41.448794684105394, 39.25719880173233, 39.62893213863588, 39.377435374594675, 36.22003970499608, 36.10205961511965, 27.178169473884747, 31.506553377986943, 31.448335401197827, 26.47842973686523, 31.391954701061103, 30.119218734665424, 16.81051545642824, 15.401580611663292, 15.382456780535204, 15.357128495910798, 15.347688686482657, 15.088354667279248, 15.128967474949937, 15.079880507287408, 8.853977428159125, 8.783180230045295, 8.844650300905244, 8.786024275390998]\n",
      "have done 31 rounds, current sse is [226.5913377052821, 138.6778625253068, 94.53146771161683, 74.71709612898916, 61.453324275971816, 52.504678150402924, 41.448794684105394, 39.25719880173233, 39.62893213863588, 39.377435374594675, 36.22003970499608, 36.10205961511965, 27.178169473884747, 31.506553377986943, 31.448335401197827, 26.47842973686523, 31.391954701061103, 30.119218734665424, 16.81051545642824, 15.401580611663292, 15.382456780535204, 15.357128495910798, 15.347688686482657, 15.088354667279248, 15.128967474949937, 15.079880507287408, 8.853977428159125, 8.783180230045295, 8.844650300905244, 8.786024275390998, 8.76196113627317]\n",
      "have done 32 rounds, current sse is [226.5913377052821, 138.6778625253068, 94.53146771161683, 74.71709612898916, 61.453324275971816, 52.504678150402924, 41.448794684105394, 39.25719880173233, 39.62893213863588, 39.377435374594675, 36.22003970499608, 36.10205961511965, 27.178169473884747, 31.506553377986943, 31.448335401197827, 26.47842973686523, 31.391954701061103, 30.119218734665424, 16.81051545642824, 15.401580611663292, 15.382456780535204, 15.357128495910798, 15.347688686482657, 15.088354667279248, 15.128967474949937, 15.079880507287408, 8.853977428159125, 8.783180230045295, 8.844650300905244, 8.786024275390998, 8.76196113627317, 8.747167955024171]\n",
      "have done 33 rounds, current sse is [226.5913377052821, 138.6778625253068, 94.53146771161683, 74.71709612898916, 61.453324275971816, 52.504678150402924, 41.448794684105394, 39.25719880173233, 39.62893213863588, 39.377435374594675, 36.22003970499608, 36.10205961511965, 27.178169473884747, 31.506553377986943, 31.448335401197827, 26.47842973686523, 31.391954701061103, 30.119218734665424, 16.81051545642824, 15.401580611663292, 15.382456780535204, 15.357128495910798, 15.347688686482657, 15.088354667279248, 15.128967474949937, 15.079880507287408, 8.853977428159125, 8.783180230045295, 8.844650300905244, 8.786024275390998, 8.76196113627317, 8.747167955024171, 8.739388854600124]\n",
      "have done 34 rounds, current sse is [226.5913377052821, 138.6778625253068, 94.53146771161683, 74.71709612898916, 61.453324275971816, 52.504678150402924, 41.448794684105394, 39.25719880173233, 39.62893213863588, 39.377435374594675, 36.22003970499608, 36.10205961511965, 27.178169473884747, 31.506553377986943, 31.448335401197827, 26.47842973686523, 31.391954701061103, 30.119218734665424, 16.81051545642824, 15.401580611663292, 15.382456780535204, 15.357128495910798, 15.347688686482657, 15.088354667279248, 15.128967474949937, 15.079880507287408, 8.853977428159125, 8.783180230045295, 8.844650300905244, 8.786024275390998, 8.76196113627317, 8.747167955024171, 8.739388854600124, 8.404618688839925]\n",
      "have done 35 rounds, current sse is [226.5913377052821, 138.6778625253068, 94.53146771161683, 74.71709612898916, 61.453324275971816, 52.504678150402924, 41.448794684105394, 39.25719880173233, 39.62893213863588, 39.377435374594675, 36.22003970499608, 36.10205961511965, 27.178169473884747, 31.506553377986943, 31.448335401197827, 26.47842973686523, 31.391954701061103, 30.119218734665424, 16.81051545642824, 15.401580611663292, 15.382456780535204, 15.357128495910798, 15.347688686482657, 15.088354667279248, 15.128967474949937, 15.079880507287408, 8.853977428159125, 8.783180230045295, 8.844650300905244, 8.786024275390998, 8.76196113627317, 8.747167955024171, 8.739388854600124, 8.404618688839925, 8.3996993040075]\n",
      "have done 36 rounds, current sse is [226.5913377052821, 138.6778625253068, 94.53146771161683, 74.71709612898916, 61.453324275971816, 52.504678150402924, 41.448794684105394, 39.25719880173233, 39.62893213863588, 39.377435374594675, 36.22003970499608, 36.10205961511965, 27.178169473884747, 31.506553377986943, 31.448335401197827, 26.47842973686523, 31.391954701061103, 30.119218734665424, 16.81051545642824, 15.401580611663292, 15.382456780535204, 15.357128495910798, 15.347688686482657, 15.088354667279248, 15.128967474949937, 15.079880507287408, 8.853977428159125, 8.783180230045295, 8.844650300905244, 8.786024275390998, 8.76196113627317, 8.747167955024171, 8.739388854600124, 8.404618688839925, 8.3996993040075, 8.402234729666198]\n"
     ]
    },
    {
     "name": "stdout",
     "output_type": "stream",
     "text": [
      "have done 37 rounds, current sse is [226.5913377052821, 138.6778625253068, 94.53146771161683, 74.71709612898916, 61.453324275971816, 52.504678150402924, 41.448794684105394, 39.25719880173233, 39.62893213863588, 39.377435374594675, 36.22003970499608, 36.10205961511965, 27.178169473884747, 31.506553377986943, 31.448335401197827, 26.47842973686523, 31.391954701061103, 30.119218734665424, 16.81051545642824, 15.401580611663292, 15.382456780535204, 15.357128495910798, 15.347688686482657, 15.088354667279248, 15.128967474949937, 15.079880507287408, 8.853977428159125, 8.783180230045295, 8.844650300905244, 8.786024275390998, 8.76196113627317, 8.747167955024171, 8.739388854600124, 8.404618688839925, 8.3996993040075, 8.402234729666198, 8.235748004895132]\n",
      "have done 38 rounds, current sse is [226.5913377052821, 138.6778625253068, 94.53146771161683, 74.71709612898916, 61.453324275971816, 52.504678150402924, 41.448794684105394, 39.25719880173233, 39.62893213863588, 39.377435374594675, 36.22003970499608, 36.10205961511965, 27.178169473884747, 31.506553377986943, 31.448335401197827, 26.47842973686523, 31.391954701061103, 30.119218734665424, 16.81051545642824, 15.401580611663292, 15.382456780535204, 15.357128495910798, 15.347688686482657, 15.088354667279248, 15.128967474949937, 15.079880507287408, 8.853977428159125, 8.783180230045295, 8.844650300905244, 8.786024275390998, 8.76196113627317, 8.747167955024171, 8.739388854600124, 8.404618688839925, 8.3996993040075, 8.402234729666198, 8.235748004895132, 7.796359691586487]\n",
      "have done 39 rounds, current sse is [226.5913377052821, 138.6778625253068, 94.53146771161683, 74.71709612898916, 61.453324275971816, 52.504678150402924, 41.448794684105394, 39.25719880173233, 39.62893213863588, 39.377435374594675, 36.22003970499608, 36.10205961511965, 27.178169473884747, 31.506553377986943, 31.448335401197827, 26.47842973686523, 31.391954701061103, 30.119218734665424, 16.81051545642824, 15.401580611663292, 15.382456780535204, 15.357128495910798, 15.347688686482657, 15.088354667279248, 15.128967474949937, 15.079880507287408, 8.853977428159125, 8.783180230045295, 8.844650300905244, 8.786024275390998, 8.76196113627317, 8.747167955024171, 8.739388854600124, 8.404618688839925, 8.3996993040075, 8.402234729666198, 8.235748004895132, 7.796359691586487, 6.177733127172265]\n",
      "have done 40 rounds, current sse is [226.5913377052821, 138.6778625253068, 94.53146771161683, 74.71709612898916, 61.453324275971816, 52.504678150402924, 41.448794684105394, 39.25719880173233, 39.62893213863588, 39.377435374594675, 36.22003970499608, 36.10205961511965, 27.178169473884747, 31.506553377986943, 31.448335401197827, 26.47842973686523, 31.391954701061103, 30.119218734665424, 16.81051545642824, 15.401580611663292, 15.382456780535204, 15.357128495910798, 15.347688686482657, 15.088354667279248, 15.128967474949937, 15.079880507287408, 8.853977428159125, 8.783180230045295, 8.844650300905244, 8.786024275390998, 8.76196113627317, 8.747167955024171, 8.739388854600124, 8.404618688839925, 8.3996993040075, 8.402234729666198, 8.235748004895132, 7.796359691586487, 6.177733127172265, 6.1748423306441005]\n"
     ]
    }
   ],
   "source": [
    "for k in range(20,41):\n",
    "    kmeans = KMeans(n_clusters = k, **kmeans_kwargs)\n",
    "    kmeans.fit(ns_repr_new)\n",
    "    sse.append(kmeans.inertia_)\n",
    "    print(f\"have done {k} rounds, current sse is {sse}\")"
   ]
  },
  {
   "cell_type": "code",
   "execution_count": 160,
   "metadata": {
    "scrolled": true
   },
   "outputs": [
    {
     "data": {
      "text/plain": [
       "[<matplotlib.lines.Line2D at 0x25366fa5580>]"
      ]
     },
     "execution_count": 160,
     "metadata": {},
     "output_type": "execute_result"
    },
    {
     "data": {
      "image/png": "[encoded data removed]",
      "text/plain": [
       "<Figure size 432x288 with 1 Axes>"
      ]
     },
     "metadata": {},
     "output_type": "display_data"
    }
   ],
   "source": [
    "plt.plot(range(1,41),sse,\"go-\")"
   ]
  },
  {
   "cell_type": "code",
   "execution_count": 161,
   "metadata": {},
   "outputs": [],
   "source": [
    "kl = KneeLocator(range(1,41), sse, curve=\"convex\", direction=\"decreasing\")"
   ]
  },
  {
   "cell_type": "code",
   "execution_count": 162,
   "metadata": {},
   "outputs": [
    {
     "data": {
      "text/plain": [
       "7"
      ]
     },
     "execution_count": 162,
     "metadata": {},
     "output_type": "execute_result"
    }
   ],
   "source": [
    "kl.elbow"
   ]
  },
  {
   "cell_type": "markdown",
   "metadata": {},
   "source": [
    "**Using Silhouette Coefficient**"
   ]
  },
  {
   "cell_type": "code",
   "execution_count": 163,
   "metadata": {
    "scrolled": true
   },
   "outputs": [
    {
     "name": "stdout",
     "output_type": "stream",
     "text": [
      "step 2\n",
      "step 3\n",
      "step 4\n",
      "step 5\n",
      "step 6\n",
      "step 7\n",
      "step 8\n",
      "step 9\n",
      "step 10\n",
      "step 11\n",
      "step 12\n",
      "step 13\n",
      "step 14\n",
      "step 15\n",
      "step 16\n",
      "step 17\n",
      "step 18\n",
      "step 19\n",
      "step 20\n",
      "step 21\n",
      "step 22\n",
      "step 23\n",
      "step 24\n",
      "step 25\n",
      "step 26\n",
      "step 27\n",
      "step 28\n",
      "step 29\n"
     ]
    }
   ],
   "source": [
    "sc = []\n",
    "new_sse = []\n",
    "for k in range(2,30):\n",
    "    kmeans = KMeans(n_clusters = k, **kmeans_kwargs)\n",
    "    kmeans.fit(ns_repr_new)\n",
    "    score = silhouette_score(ns_repr_new, kmeans.labels_)\n",
    "    sc.append(score)\n",
    "    new_sse.append(kmeans.inertia_)\n",
    "    print(\"step {}\".format(k))"
   ]
  },
  {
   "cell_type": "code",
   "execution_count": 164,
   "metadata": {
    "scrolled": true
   },
   "outputs": [
    {
     "data": {
      "text/plain": [
       "[<matplotlib.lines.Line2D at 0x253446ab4c0>]"
      ]
     },
     "execution_count": 164,
     "metadata": {},
     "output_type": "execute_result"
    },
    {
     "data": {
      "image/png": "[encoded data removed]",
      "text/plain": [
       "<Figure size 432x288 with 1 Axes>"
      ]
     },
     "metadata": {},
     "output_type": "display_data"
    }
   ],
   "source": [
    "# for sse\n",
    "plt.plot(range(2,30), new_sse, \"go-\")"
   ]
  },
  {
   "cell_type": "code",
   "execution_count": 165,
   "metadata": {
    "scrolled": true
   },
   "outputs": [
    {
     "data": {
      "text/plain": [
       "7"
      ]
     },
     "execution_count": 165,
     "metadata": {},
     "output_type": "execute_result"
    }
   ],
   "source": [
    "kl_new = KneeLocator(range(2,30), new_sse, curve=\"convex\", direction=\"decreasing\")\n",
    "kl_new.elbow"
   ]
  },
  {
   "cell_type": "code",
   "execution_count": 166,
   "metadata": {
    "scrolled": true
   },
   "outputs": [
    {
     "data": {
      "text/plain": [
       "[<matplotlib.lines.Line2D at 0x25344590f10>]"
      ]
     },
     "execution_count": 166,
     "metadata": {},
     "output_type": "execute_result"
    },
    {
     "data": {
      "image/png": "[encoded data removed]",
      "text/plain": [
       "<Figure size 432x288 with 1 Axes>"
      ]
     },
     "metadata": {},
     "output_type": "display_data"
    }
   ],
   "source": [
    "# for silhouette coefficient\n",
    "plt.plot(range(2,30), sc, \"bo-\")"
   ]
  },
  {
   "cell_type": "code",
   "execution_count": 167,
   "metadata": {
    "scrolled": true
   },
   "outputs": [
    {
     "data": {
      "text/plain": [
       "[<matplotlib.lines.Line2D at 0x253332a83d0>]"
      ]
     },
     "execution_count": 167,
     "metadata": {},
     "output_type": "execute_result"
    },
    {
     "data": {
      "image/png": "[encoded data removed]",
      "text/plain": [
       "<Figure size 432x288 with 1 Axes>"
      ]
     },
     "metadata": {},
     "output_type": "display_data"
    }
   ],
   "source": [
    "\n",
    "\n",
    "spl = make_interp_spline(range(2,30), sc, k=3)  # type: BSpline\n",
    "\n",
    "xs = np.linspace(2, 30, 6)\n",
    "ys = spl(xs)\n",
    "\n",
    "plt.plot(range(2,30), sc, \"go--\")\n",
    "plt.plot(xs, ys, \"b-\")"
   ]
  },
  {
   "cell_type": "markdown",
   "metadata": {},
   "source": [
    "Let's choose k = 10"
   ]
  },
  {
   "cell_type": "code",
   "execution_count": 168,
   "metadata": {
    "scrolled": true
   },
   "outputs": [
    {
     "data": {
      "text/plain": [
       "KMeans(max_iter=500, n_clusters=5, n_init=50, random_state=360)"
      ]
     },
     "execution_count": 168,
     "metadata": {},
     "output_type": "execute_result"
    }
   ],
   "source": [
    "kmeans = KMeans(n_clusters = 5, init=\"k-means++\", n_init = 50, max_iter = 500, random_state = 360)\n",
    "kmeans.fit(ns_repr_new)"
   ]
  },
  {
   "cell_type": "code",
   "execution_count": 169,
   "metadata": {},
   "outputs": [
    {
     "data": {
      "text/plain": [
       "array([2, 4, 0, 0, 0, 4, 0, 0, 0, 0, 2, 0, 0, 0, 2, 0, 0, 0, 4, 0, 0, 0,\n",
       "       0, 0, 0, 2, 4, 0, 0, 4, 0, 0, 0, 4, 0, 0, 0, 0, 1, 4, 0, 0, 0, 2,\n",
       "       0, 2, 0, 0, 0, 0, 0, 0, 0, 0, 0, 4, 2, 0, 0, 0, 0, 0, 0, 0, 0, 0,\n",
       "       0, 0, 0, 0, 4, 0, 0, 0, 0, 0, 0, 0, 0, 0, 0, 0, 4, 0, 3])"
      ]
     },
     "execution_count": 169,
     "metadata": {},
     "output_type": "execute_result"
    }
   ],
   "source": [
    "kmeans.labels_"
   ]
  },
  {
   "cell_type": "code",
   "execution_count": 170,
   "metadata": {
    "scrolled": true
   },
   "outputs": [
    {
     "data": {
      "text/plain": [
       "{0, 1, 2, 3, 4}"
      ]
     },
     "execution_count": 170,
     "metadata": {},
     "output_type": "execute_result"
    }
   ],
   "source": [
    "set(kmeans.labels_)"
   ]
  },
  {
   "cell_type": "code",
   "execution_count": 171,
   "metadata": {},
   "outputs": [
    {
     "data": {
      "text/plain": [
       "Counter({2: 7, 4: 10, 0: 66, 1: 1, 3: 1})"
      ]
     },
     "execution_count": 171,
     "metadata": {},
     "output_type": "execute_result"
    }
   ],
   "source": [
    "Counter(kmeans.labels_)"
   ]
  },
  {
   "cell_type": "markdown",
   "metadata": {},
   "source": [
    "**Let's investigate each cluster**"
   ]
  },
  {
   "cell_type": "code",
   "execution_count": 172,
   "metadata": {},
   "outputs": [
    {
     "data": {
      "text/plain": [
       "85"
      ]
     },
     "execution_count": 172,
     "metadata": {},
     "output_type": "execute_result"
    }
   ],
   "source": [
    "len(ns_sr_rep)"
   ]
  },
  {
   "cell_type": "code",
   "execution_count": 173,
   "metadata": {},
   "outputs": [
    {
     "data": {
      "text/plain": [
       "85"
      ]
     },
     "execution_count": 173,
     "metadata": {},
     "output_type": "execute_result"
    }
   ],
   "source": [
    "len(kmeans.labels_)"
   ]
  },
  {
   "cell_type": "code",
   "execution_count": 174,
   "metadata": {},
   "outputs": [],
   "source": [
    "clustered = defaultdict(list)\n",
    "for idx,ns in enumerate(non_outlier):\n",
    "    c = kmeans.labels_[idx]\n",
    "    clustered[c].append(ns)"
   ]
  },
  {
   "cell_type": "code",
   "execution_count": 175,
   "metadata": {
    "scrolled": false
   },
   "outputs": [
    {
     "name": "stdout",
     "output_type": "stream",
     "text": [
      "[66, 1, 7, 1, 10]\n"
     ]
    }
   ],
   "source": [
    "print([len(clustered[i]) for i in range(5)])"
   ]
  },
  {
   "cell_type": "markdown",
   "metadata": {},
   "source": [
    "Let's see in terms of percentage"
   ]
  },
  {
   "cell_type": "code",
   "execution_count": 176,
   "metadata": {},
   "outputs": [],
   "source": [
    "cluster_lens = [len(clustered[i]) for i in range(10)]"
   ]
  },
  {
   "cell_type": "code",
   "execution_count": 177,
   "metadata": {},
   "outputs": [
    {
     "name": "stdout",
     "output_type": "stream",
     "text": [
      "[77.65, 1.18, 8.24, 1.18, 11.76, 0.0, 0.0, 0.0, 0.0, 0.0]\n"
     ]
    }
   ],
   "source": [
    "print([round(k*100/sum(cluster_lens),2) for k in cluster_lens])"
   ]
  },
  {
   "cell_type": "markdown",
   "metadata": {},
   "source": [
    " **could do iterative clusters for ^**"
   ]
  },
  {
   "cell_type": "code",
   "execution_count": 209,
   "metadata": {},
   "outputs": [
    {
     "data": {
      "text/plain": [
       "['espn.com']"
      ]
     },
     "execution_count": 209,
     "metadata": {},
     "output_type": "execute_result"
    }
   ],
   "source": [
    "clustered[1]"
   ]
  },
  {
   "cell_type": "markdown",
   "metadata": {},
   "source": [
    "# Agglomerative (Hierarchical) Clustering"
   ]
  },
  {
   "cell_type": "code",
   "execution_count": 183,
   "metadata": {},
   "outputs": [],
   "source": [
    "hclustering = AgglomerativeClustering(n_clusters=5)"
   ]
  },
  {
   "cell_type": "code",
   "execution_count": 184,
   "metadata": {},
   "outputs": [
    {
     "data": {
      "text/plain": [
       "AgglomerativeClustering(n_clusters=5)"
      ]
     },
     "execution_count": 184,
     "metadata": {},
     "output_type": "execute_result"
    }
   ],
   "source": [
    "hclustering.fit(ns_repr_new)"
   ]
  },
  {
   "cell_type": "code",
   "execution_count": 185,
   "metadata": {},
   "outputs": [
    {
     "data": {
      "text/plain": [
       "array([0, 1, 4, 4, 4, 1, 4, 4, 4, 4, 0, 4, 4, 4, 4, 4, 4, 4, 1, 4, 4, 4,\n",
       "       4, 4, 4, 0, 1, 4, 4, 1, 4, 4, 4, 1, 4, 4, 4, 4, 3, 1, 4, 4, 4, 0,\n",
       "       4, 0, 4, 4, 4, 4, 4, 4, 4, 4, 4, 1, 0, 4, 4, 4, 4, 4, 4, 4, 4, 4,\n",
       "       4, 4, 4, 4, 1, 4, 4, 4, 4, 4, 4, 4, 4, 4, 4, 4, 1, 4, 2],\n",
       "      dtype=int64)"
      ]
     },
     "execution_count": 185,
     "metadata": {},
     "output_type": "execute_result"
    }
   ],
   "source": [
    "hclustering.labels_"
   ]
  },
  {
   "cell_type": "code",
   "execution_count": 186,
   "metadata": {},
   "outputs": [],
   "source": [
    "hier_clustered = defaultdict(list)\n",
    "for idx,ns in enumerate(non_outlier):\n",
    "    c = hclustering.labels_[idx]\n",
    "    hier_clustered[c].append(ns)"
   ]
  },
  {
   "cell_type": "code",
   "execution_count": 187,
   "metadata": {
    "scrolled": false
   },
   "outputs": [
    {
     "name": "stdout",
     "output_type": "stream",
     "text": [
      "[6, 10, 1, 1, 67]\n"
     ]
    }
   ],
   "source": [
    "print([len(hier_clustered[i]) for i in range(5)])"
   ]
  },
  {
   "cell_type": "markdown",
   "metadata": {},
   "source": [
    "Let's see in terms of percentage"
   ]
  },
  {
   "cell_type": "code",
   "execution_count": 188,
   "metadata": {},
   "outputs": [],
   "source": [
    "hcluster_lens = [len(hier_clustered[i]) for i in range(10)]"
   ]
  },
  {
   "cell_type": "code",
   "execution_count": 189,
   "metadata": {},
   "outputs": [
    {
     "name": "stdout",
     "output_type": "stream",
     "text": [
      "[7.06, 11.76, 1.18, 1.18, 78.82, 0.0, 0.0, 0.0, 0.0, 0.0]\n"
     ]
    }
   ],
   "source": [
    "print([round(k*100/sum(hcluster_lens),2) for k in hcluster_lens])"
   ]
  },
  {
   "cell_type": "code",
   "execution_count": 190,
   "metadata": {
    "scrolled": true
   },
   "outputs": [
    {
     "data": {
      "text/plain": [
       "['nbcsports.com',\n",
       " 'usatoday.com',\n",
       " 'nfl.com',\n",
       " 'bleacherreport.com',\n",
       " 'cbssports.com',\n",
       " 'si.com']"
      ]
     },
     "execution_count": 190,
     "metadata": {},
     "output_type": "execute_result"
    }
   ],
   "source": [
    "hier_clustered[0]"
   ]
  },
  {
   "cell_type": "code",
   "execution_count": 191,
   "metadata": {
    "scrolled": true
   },
   "outputs": [
    {
     "data": {
      "text/plain": [
       "set()"
      ]
     },
     "execution_count": 191,
     "metadata": {},
     "output_type": "execute_result"
    }
   ],
   "source": [
    "set(hier_clustered[0]) & set(clustered[4])"
   ]
  },
  {
   "cell_type": "markdown",
   "metadata": {},
   "source": [
    "## Using scipy"
   ]
  },
  {
   "cell_type": "code",
   "execution_count": 197,
   "metadata": {},
   "outputs": [
    {
     "data": {
      "image/png": "[encoded data removed]",
      "text/plain": [
       "<Figure size 1440x504 with 1 Axes>"
      ]
     },
     "metadata": {},
     "output_type": "display_data"
    }
   ],
   "source": [
    "import scipy.cluster.hierarchy as shc\n",
    "\n",
    "plt.figure(figsize=(20, 7))\n",
    "plt.title(\"Sport News Dendograms\")\n",
    "dend = shc.dendrogram(shc.linkage(preprocessing.normalize(np.array(ns_repr_new)), method='weighted'),\n",
    "                     labels = list(ns_sr_rep.keys()),\n",
    "                     leaf_font_size = 15,\n",
    "                     leaf_rotation = 85)"
   ]
  },
  {
   "cell_type": "code",
   "execution_count": 522,
   "metadata": {},
   "outputs": [
    {
     "data": {
      "text/plain": [
       "True"
      ]
     },
     "execution_count": 522,
     "metadata": {},
     "output_type": "execute_result"
    }
   ],
   "source": [
    "\"foxnews.com\" in ns_union"
   ]
  },
  {
   "cell_type": "markdown",
   "metadata": {},
   "source": [
    "## Visualizing 2D PCA"
   ]
  },
  {
   "cell_type": "code",
   "execution_count": 228,
   "metadata": {},
   "outputs": [],
   "source": [
    "twodpca = PCA(n_components=4)"
   ]
  },
  {
   "cell_type": "code",
   "execution_count": 229,
   "metadata": {},
   "outputs": [],
   "source": [
    "fit2 = twodpca.fit_transform(MaxAbsScaler().fit_transform(np.array(ns_repr)))"
   ]
  },
  {
   "cell_type": "code",
   "execution_count": 230,
   "metadata": {
    "scrolled": true
   },
   "outputs": [],
   "source": [
    "x = [k[0] for k in fit2]\n",
    "y = [k[1] for k in fit2]\n",
    "z = [k[2] for k in fit2]\n",
    "a = [k[3] for k in fit2]"
   ]
  },
  {
   "cell_type": "code",
   "execution_count": 231,
   "metadata": {},
   "outputs": [],
   "source": [
    "?px.scatter_3d"
   ]
  },
  {
   "cell_type": "code",
   "execution_count": 234,
   "metadata": {},
   "outputs": [
    {
     "data": {
      "application/vnd.plotly.v1+json": {
       "config": {
        "plotlyServerURL": "https://plot.ly"
       },
       "data": [
        {
         "hovertemplate": "<b>%{hovertext}</b><br><br>pc1=%{x}<br>pc2=%{y}<br>pc3=%{z}<br>pc4=%{marker.color}<extra></extra>",
         "hovertext": [
          "nbcsports.com",
          "mirror.co.uk",
          "msn.com",
          "nbaanalysis.net",
          "espn.co.uk",
          "premierleague.com",
          "foxnews.com",
          "nesn.com",
          "freep.com",
          "dailysnark.com",
          "usatoday.com",
          "cbslocal.com",
          "sportingnews.com",
          "latimes.com",
          "pff.com",
          "indystar.com",
          "247sports.com",
          "hoopshype.com",
          "theguardian.com",
          "theplayerstribune.com",
          "sportsnet.ca",
          "apnews.com",
          "heavy.com",
          "prosportsextra.com",
          "nydailynews.com",
          "nfl.com",
          "bbc.com",
          "fantasyalarm.com",
          "sportskeeda.com",
          "telegraph.co.uk",
          "thebiglead.com",
          "cnn.com",
          "inquirer.com",
          "skysports.com",
          "theundefeated.com",
          "radio.com",
          "thedraftnetwork.com",
          "wsj.com",
          "espn.com",
          "dailymail.co.uk",
          "slamonline.com",
          "profootballnetwork.com",
          "hoopsrumors.com",
          "bleacherreport.com",
          "fadeawayworld.net",
          "cbssports.com",
          "deadspin.com",
          "football365.com",
          "forbes.com",
          "dailymotion.com",
          "thescore.com",
          "bolavip.com",
          "iheart.com",
          "nypost.com",
          "cleveland.com",
          "thetimes.co.uk",
          "si.com",
          "inquisitr.com",
          "independent.co.uk",
          "gq.com",
          "tmz.com",
          "foxsports.com",
          "sportsnaut.com",
          "cbsnews.com",
          "clutchpoints.com",
          "theonion.com",
          "sportscasting.com",
          "fansided.com",
          "fivethirtyeight.com",
          "yardbarker.com",
          "theathletic.com",
          "uproxx.com",
          "sbnation.com",
          "nj.com",
          "draftkings.com",
          "washingtonpost.com",
          "nytimes.com",
          "givemesport.com",
          "thespun.com",
          "realgm.com",
          "sportwitness.co.uk",
          "theringer.com",
          "bbc.co.uk",
          "rotoballer.com",
          "nba.com"
         ],
         "legendgroup": "",
         "marker": {
          "color": [
           -0.8585789499530485,
           -0.08789750246443927,
           0.06626742081036568,
           0.10379813585377401,
           0.07479693120070037,
           -0.11691966121089456,
           0.09530455574587289,
           0.08867763309087134,
           0.05361079947800118,
           0.08283255718564643,
           -0.7365616909105682,
           0.06693665136749818,
           0.07809905109624025,
           0.0762206419090194,
           -0.2789957233201125,
           -0.05925217345150539,
           0.043260306748806654,
           0.09542772575893418,
           -0.39998511240020657,
           0.07093727925239277,
           0.05840341640522967,
           0.09048045479972103,
           0.060710067160895644,
           0.05650728344097131,
           0.11053921482384585,
           -1.0018561786670512,
           -0.005636376697142476,
           0.08270246628234287,
           0.09988858958772012,
           -0.16682342879534345,
           0.0878026985508792,
           0.1099588043003463,
           0.01367073228364998,
           -0.34186743349851506,
           0.10066750050719994,
           -0.014169711011248183,
           -0.04362971400615145,
           0.10021984042006563,
           2.8276358826709815,
           -0.20783623848259652,
           0.10276841676662297,
           0.04273881884235418,
           0.10414124105858738,
           -0.21627851373655924,
           0.10701104101650714,
           -0.13365889507124543,
           0.10557182014035578,
           0.024260261310083263,
           0.06820943037358645,
           0.09594952000544851,
           0.09587956077426649,
           0.07627215374001042,
           0.0972239230674651,
           0.07651737893358511,
           0.08759331259641749,
           -0.11165051320670583,
           -0.6915183051377736,
           0.10189043442207472,
           0.0376905929271681,
           0.09324897062392204,
           0.12835140757247482,
           0.08484023350629748,
           0.10369485145773033,
           0.09478546325372753,
           0.10970708779061186,
           0.09033084199267623,
           0.1024882650610754,
           0.09177418224575494,
           0.11540895015566091,
           0.09369170898798815,
           -1.0013883137733104,
           0.10276494044736653,
           0.05107160298491018,
           0.015228835408810105,
           0.10054435086424159,
           0.07423217104367448,
           0.06622128335338599,
           0.017530476415810313,
           0.0797213087787719,
           0.08623226721233035,
           0.04801988422409603,
           0.1321358542563108,
           -0.17938422369343138,
           0.08900888154869366,
           -1.3362197064049683
          ],
          "coloraxis": "coloraxis",
          "opacity": 0.4,
          "symbol": "circle"
         },
         "mode": "markers",
         "name": "",
         "scene": "scene",
         "showlegend": false,
         "type": "scatter3d",
         "x": [
          3.724275836797454,
          -0.481963439591576,
          -0.25045270348814436,
          -0.4659751418336094,
          -0.47026223886592605,
          -0.4693892545613482,
          -0.3817078358488177,
          -0.3507580170506762,
          -0.3492613778755313,
          -0.42533411999331294,
          4.328094744464415,
          -0.29961181926828484,
          -0.36466949121373526,
          -0.3895195055213819,
          1.2999567588488017,
          -0.2835499745843549,
          -0.11184504945363662,
          -0.4490118654135337,
          -0.37321496895082795,
          -0.26578422624962167,
          -0.4374928749968384,
          -0.41536799056582124,
          -0.297962970322299,
          -0.0743319951993602,
          -0.44723408273576415,
          3.383600022414176,
          -0.4442872314628172,
          -0.3952350387703107,
          -0.4406191308076946,
          -0.42846876004103934,
          -0.42942138143417574,
          -0.4582202726969195,
          -0.32905559588636396,
          -0.43767048779124784,
          -0.45268490357072644,
          -0.1630348695065545,
          0.28241167622791136,
          -0.47402499163266465,
          5.79500901546457,
          -0.4345115563905462,
          -0.48778123868530177,
          0.26265550281695754,
          -0.47391924179566597,
          2.2036403722856943,
          -0.4753694138991927,
          1.6594031980237196,
          -0.40058063968103147,
          -0.48537408121180103,
          -0.37456257321321246,
          -0.47579869875316166,
          -0.19783117450913765,
          -0.3762456187616353,
          -0.42160519901369287,
          0.007700716079787118,
          -0.26365758794745625,
          -0.4844462821241951,
          2.44269300282408,
          -0.48273276769459594,
          -0.4657773522779501,
          -0.47641467450733677,
          -0.20334487473762639,
          -0.24941680494422758,
          -0.4593740599980391,
          -0.467136232987773,
          -0.3689246256034684,
          -0.3783632827138615,
          -0.4202917453765431,
          -0.12242110123962636,
          -0.33843799743121705,
          -0.41823200990212095,
          1.0209377073171868,
          -0.48758176356179245,
          -0.3439685427157968,
          -0.18754714135987502,
          -0.4753426660591693,
          -0.3602770172961695,
          -0.38759163541219,
          -0.4921359872791675,
          -0.36324618321478064,
          -0.47454320070294903,
          -0.48756133627920994,
          -0.1774705709619207,
          -0.4180415433636899,
          -0.44415636061767483,
          1.1990598378449633
         ],
         "y": [
          -0.9481036103466477,
          -0.006416362069767639,
          -0.0839955373786686,
          0.014094479957556768,
          -0.03317181691882702,
          0.01195802492560321,
          -0.0672350430832944,
          -0.07426329804538251,
          -0.01373119408965532,
          -0.062189501361858725,
          -1.4156640578470727,
          -0.08735103237183824,
          -0.06532124642895717,
          -0.024130034670572245,
          -0.6569393548121666,
          -0.09072139329721211,
          -0.15582929854684335,
          0.0541715735190498,
          0.054875962473093225,
          -0.0646254709734458,
          0.13083000993173857,
          -0.05630535722582803,
          -0.057911473621192276,
          -0.10233601786259128,
          -0.035200694428325595,
          -1.4149375030397586,
          0.009395648517679232,
          -0.07047959603787428,
          -0.032244742168233524,
          0.045205554406035,
          -0.05835487989317494,
          -0.03603873122951291,
          -0.04912465254815224,
          0.049607021432975185,
          -0.00305841645698597,
          -0.1582878503795148,
          -0.3116803351119094,
          -0.029673609111485224,
          1.707759664082269,
          0.020972899723430617,
          -0.02179943316649961,
          -0.270812773723895,
          0.0022997771182583174,
          -0.267759081262856,
          -0.007303288054759572,
          -0.3942105299601003,
          -0.03373928443216008,
          -0.023733465425672968,
          -0.03044446254944483,
          -0.03957402109385533,
          -0.06462663292274909,
          0.05260286109158547,
          -0.05688068278587064,
          -0.12806636188177428,
          0.09600699849600812,
          -0.005978904315952215,
          -0.633755551582846,
          -0.020787529132308632,
          -0.020044460747594535,
          -0.0325924053295833,
          -0.09509151764869776,
          -0.015112615615977687,
          -0.03455608757238948,
          -0.0442785764556259,
          0.028581445903863977,
          -0.04429876338506136,
          -0.041918841049072085,
          -0.082756139145848,
          0.07444711807713415,
          -0.04525608042005718,
          0.2959830770361307,
          -0.0216134031152829,
          -0.01678678082311094,
          -0.14561327089952456,
          -0.03812755661891333,
          -0.055200408463531046,
          0.004135624030968087,
          -0.02886515793448143,
          -0.0629616239646931,
          0.016013712985285034,
          -0.029381356799413852,
          0.19928988634095493,
          0.05346649548350811,
          -0.05606663864687866,
          6.253617962750104
         ],
         "z": [
          -0.43310781517215696,
          0.5820756351310576,
          -0.16935359088754326,
          -0.16940245185185462,
          -0.11030695630188543,
          0.8151488269190522,
          -0.19244062530441214,
          -0.2033558872754421,
          -0.10546791142373893,
          -0.19229500042465145,
          -0.5665057559610647,
          -0.21305053357941037,
          -0.18691728308800723,
          -0.20347264536983334,
          -0.3990154944786962,
          -0.15003220129540362,
          -0.23889610330916577,
          -0.1732766850949685,
          1.8534861829915519,
          -0.13705643573121892,
          -0.20004251795499717,
          -0.1911375435861052,
          -0.18804595263172608,
          -0.20426856701807747,
          -0.18642150477670086,
          -0.5821243149533467,
          0.6993451292129563,
          -0.1931274652434689,
          -0.16403222034294818,
          1.2520490276195617,
          -0.18919392129049023,
          -0.1813762923512462,
          -0.21713040998816985,
          1.5758115138705646,
          -0.17729756258040935,
          -0.24302217811168084,
          -0.3114198412792209,
          -0.15432276644433682,
          1.0976272218027385,
          1.0125814891283733,
          -0.1868666451772543,
          -0.24650002338401872,
          -0.17583891003035598,
          -0.2782090128722302,
          -0.17901271502868923,
          -0.21161783414011956,
          -0.18124777360112465,
          0.1144757538972046,
          -0.1343380022782614,
          -0.15242608192155602,
          -0.15978641187789006,
          -0.03663546183367253,
          -0.19356858105219574,
          -0.23149640899983828,
          -0.24101321707553525,
          0.6706547869141438,
          0.10763346235404143,
          -0.18599406252774728,
          0.17570263180083925,
          -0.18798635434491331,
          -0.2059319010488504,
          -0.20389813597135537,
          -0.18472126755429705,
          -0.18614313846680944,
          -0.1834409957806034,
          -0.18504223688470392,
          -0.1786748713620459,
          -0.19427674780258825,
          -0.032979952265060716,
          -0.19588541172299223,
          2.885850280562912,
          -0.18679335484744705,
          0.05278395167381944,
          -0.2113878814107548,
          -0.18550959114610704,
          -0.17898245646281868,
          0.022458765946509803,
          0.06041202335392131,
          -0.18354054474423398,
          -0.19324749090596854,
          0.013349442409913478,
          -0.12095122213409915,
          1.3868198097427615,
          -0.19113159180855296,
          -0.9662732117648516
         ]
        }
       ],
       "layout": {
        "coloraxis": {
         "colorbar": {
          "title": {
           "text": "pc4"
          }
         },
         "colorscale": [
          [
           0,
           "#0d0887"
          ],
          [
           0.1111111111111111,
           "#46039f"
          ],
          [
           0.2222222222222222,
           "#7201a8"
          ],
          [
           0.3333333333333333,
           "#9c179e"
          ],
          [
           0.4444444444444444,
           "#bd3786"
          ],
          [
           0.5555555555555556,
           "#d8576b"
          ],
          [
           0.6666666666666666,
           "#ed7953"
          ],
          [
           0.7777777777777778,
           "#fb9f3a"
          ],
          [
           0.8888888888888888,
           "#fdca26"
          ],
          [
           1,
           "#f0f921"
          ]
         ]
        },
        "legend": {
         "tracegroupgap": 0
        },
        "margin": {
         "t": 60
        },
        "scene": {
         "domain": {
          "x": [
           0,
           1
          ],
          "y": [
           0,
           1
          ]
         },
         "xaxis": {
          "title": {
           "text": "pc1"
          }
         },
         "yaxis": {
          "title": {
           "text": "pc2"
          }
         },
         "zaxis": {
          "title": {
           "text": "pc3"
          }
         }
        },
        "template": {
         "data": {
          "bar": [
           {
            "error_x": {
             "color": "#2a3f5f"
            },
            "error_y": {
             "color": "#2a3f5f"
            },
            "marker": {
             "line": {
              "color": "#E5ECF6",
              "width": 0.5
             }
            },
            "type": "bar"
           }
          ],
          "barpolar": [
           {
            "marker": {
             "line": {
              "color": "#E5ECF6",
              "width": 0.5
             }
            },
            "type": "barpolar"
           }
          ],
          "carpet": [
           {
            "aaxis": {
             "endlinecolor": "#2a3f5f",
             "gridcolor": "white",
             "linecolor": "white",
             "minorgridcolor": "white",
             "startlinecolor": "#2a3f5f"
            },
            "baxis": {
             "endlinecolor": "#2a3f5f",
             "gridcolor": "white",
             "linecolor": "white",
             "minorgridcolor": "white",
             "startlinecolor": "#2a3f5f"
            },
            "type": "carpet"
           }
          ],
          "choropleth": [
           {
            "colorbar": {
             "outlinewidth": 0,
             "ticks": ""
            },
            "type": "choropleth"
           }
          ],
          "contour": [
           {
            "colorbar": {
             "outlinewidth": 0,
             "ticks": ""
            },
            "colorscale": [
             [
              0,
              "#0d0887"
             ],
             [
              0.1111111111111111,
              "#46039f"
             ],
             [
              0.2222222222222222,
              "#7201a8"
             ],
             [
              0.3333333333333333,
              "#9c179e"
             ],
             [
              0.4444444444444444,
              "#bd3786"
             ],
             [
              0.5555555555555556,
              "#d8576b"
             ],
             [
              0.6666666666666666,
              "#ed7953"
             ],
             [
              0.7777777777777778,
              "#fb9f3a"
             ],
             [
              0.8888888888888888,
              "#fdca26"
             ],
             [
              1,
              "#f0f921"
             ]
            ],
            "type": "contour"
           }
          ],
          "contourcarpet": [
           {
            "colorbar": {
             "outlinewidth": 0,
             "ticks": ""
            },
            "type": "contourcarpet"
           }
          ],
          "heatmap": [
           {
            "colorbar": {
             "outlinewidth": 0,
             "ticks": ""
            },
            "colorscale": [
             [
              0,
              "#0d0887"
             ],
             [
              0.1111111111111111,
              "#46039f"
             ],
             [
              0.2222222222222222,
              "#7201a8"
             ],
             [
              0.3333333333333333,
              "#9c179e"
             ],
             [
              0.4444444444444444,
              "#bd3786"
             ],
             [
              0.5555555555555556,
              "#d8576b"
             ],
             [
              0.6666666666666666,
              "#ed7953"
             ],
             [
              0.7777777777777778,
              "#fb9f3a"
             ],
             [
              0.8888888888888888,
              "#fdca26"
             ],
             [
              1,
              "#f0f921"
             ]
            ],
            "type": "heatmap"
           }
          ],
          "heatmapgl": [
           {
            "colorbar": {
             "outlinewidth": 0,
             "ticks": ""
            },
            "colorscale": [
             [
              0,
              "#0d0887"
             ],
             [
              0.1111111111111111,
              "#46039f"
             ],
             [
              0.2222222222222222,
              "#7201a8"
             ],
             [
              0.3333333333333333,
              "#9c179e"
             ],
             [
              0.4444444444444444,
              "#bd3786"
             ],
             [
              0.5555555555555556,
              "#d8576b"
             ],
             [
              0.6666666666666666,
              "#ed7953"
             ],
             [
              0.7777777777777778,
              "#fb9f3a"
             ],
             [
              0.8888888888888888,
              "#fdca26"
             ],
             [
              1,
              "#f0f921"
             ]
            ],
            "type": "heatmapgl"
           }
          ],
          "histogram": [
           {
            "marker": {
             "colorbar": {
              "outlinewidth": 0,
              "ticks": ""
             }
            },
            "type": "histogram"
           }
          ],
          "histogram2d": [
           {
            "colorbar": {
             "outlinewidth": 0,
             "ticks": ""
            },
            "colorscale": [
             [
              0,
              "#0d0887"
             ],
             [
              0.1111111111111111,
              "#46039f"
             ],
             [
              0.2222222222222222,
              "#7201a8"
             ],
             [
              0.3333333333333333,
              "#9c179e"
             ],
             [
              0.4444444444444444,
              "#bd3786"
             ],
             [
              0.5555555555555556,
              "#d8576b"
             ],
             [
              0.6666666666666666,
              "#ed7953"
             ],
             [
              0.7777777777777778,
              "#fb9f3a"
             ],
             [
              0.8888888888888888,
              "#fdca26"
             ],
             [
              1,
              "#f0f921"
             ]
            ],
            "type": "histogram2d"
           }
          ],
          "histogram2dcontour": [
           {
            "colorbar": {
             "outlinewidth": 0,
             "ticks": ""
            },
            "colorscale": [
             [
              0,
              "#0d0887"
             ],
             [
              0.1111111111111111,
              "#46039f"
             ],
             [
              0.2222222222222222,
              "#7201a8"
             ],
             [
              0.3333333333333333,
              "#9c179e"
             ],
             [
              0.4444444444444444,
              "#bd3786"
             ],
             [
              0.5555555555555556,
              "#d8576b"
             ],
             [
              0.6666666666666666,
              "#ed7953"
             ],
             [
              0.7777777777777778,
              "#fb9f3a"
             ],
             [
              0.8888888888888888,
              "#fdca26"
             ],
             [
              1,
              "#f0f921"
             ]
            ],
            "type": "histogram2dcontour"
           }
          ],
          "mesh3d": [
           {
            "colorbar": {
             "outlinewidth": 0,
             "ticks": ""
            },
            "type": "mesh3d"
           }
          ],
          "parcoords": [
           {
            "line": {
             "colorbar": {
              "outlinewidth": 0,
              "ticks": ""
             }
            },
            "type": "parcoords"
           }
          ],
          "pie": [
           {
            "automargin": true,
            "type": "pie"
           }
          ],
          "scatter": [
           {
            "marker": {
             "colorbar": {
              "outlinewidth": 0,
              "ticks": ""
             }
            },
            "type": "scatter"
           }
          ],
          "scatter3d": [
           {
            "line": {
             "colorbar": {
              "outlinewidth": 0,
              "ticks": ""
             }
            },
            "marker": {
             "colorbar": {
              "outlinewidth": 0,
              "ticks": ""
             }
            },
            "type": "scatter3d"
           }
          ],
          "scattercarpet": [
           {
            "marker": {
             "colorbar": {
              "outlinewidth": 0,
              "ticks": ""
             }
            },
            "type": "scattercarpet"
           }
          ],
          "scattergeo": [
           {
            "marker": {
             "colorbar": {
              "outlinewidth": 0,
              "ticks": ""
             }
            },
            "type": "scattergeo"
           }
          ],
          "scattergl": [
           {
            "marker": {
             "colorbar": {
              "outlinewidth": 0,
              "ticks": ""
             }
            },
            "type": "scattergl"
           }
          ],
          "scattermapbox": [
           {
            "marker": {
             "colorbar": {
              "outlinewidth": 0,
              "ticks": ""
             }
            },
            "type": "scattermapbox"
           }
          ],
          "scatterpolar": [
           {
            "marker": {
             "colorbar": {
              "outlinewidth": 0,
              "ticks": ""
             }
            },
            "type": "scatterpolar"
           }
          ],
          "scatterpolargl": [
           {
            "marker": {
             "colorbar": {
              "outlinewidth": 0,
              "ticks": ""
             }
            },
            "type": "scatterpolargl"
           }
          ],
          "scatterternary": [
           {
            "marker": {
             "colorbar": {
              "outlinewidth": 0,
              "ticks": ""
             }
            },
            "type": "scatterternary"
           }
          ],
          "surface": [
           {
            "colorbar": {
             "outlinewidth": 0,
             "ticks": ""
            },
            "colorscale": [
             [
              0,
              "#0d0887"
             ],
             [
              0.1111111111111111,
              "#46039f"
             ],
             [
              0.2222222222222222,
              "#7201a8"
             ],
             [
              0.3333333333333333,
              "#9c179e"
             ],
             [
              0.4444444444444444,
              "#bd3786"
             ],
             [
              0.5555555555555556,
              "#d8576b"
             ],
             [
              0.6666666666666666,
              "#ed7953"
             ],
             [
              0.7777777777777778,
              "#fb9f3a"
             ],
             [
              0.8888888888888888,
              "#fdca26"
             ],
             [
              1,
              "#f0f921"
             ]
            ],
            "type": "surface"
           }
          ],
          "table": [
           {
            "cells": {
             "fill": {
              "color": "#EBF0F8"
             },
             "line": {
              "color": "white"
             }
            },
            "header": {
             "fill": {
              "color": "#C8D4E3"
             },
             "line": {
              "color": "white"
             }
            },
            "type": "table"
           }
          ]
         },
         "layout": {
          "annotationdefaults": {
           "arrowcolor": "#2a3f5f",
           "arrowhead": 0,
           "arrowwidth": 1
          },
          "coloraxis": {
           "colorbar": {
            "outlinewidth": 0,
            "ticks": ""
           }
          },
          "colorscale": {
           "diverging": [
            [
             0,
             "#8e0152"
            ],
            [
             0.1,
             "#c51b7d"
            ],
            [
             0.2,
             "#de77ae"
            ],
            [
             0.3,
             "#f1b6da"
            ],
            [
             0.4,
             "#fde0ef"
            ],
            [
             0.5,
             "#f7f7f7"
            ],
            [
             0.6,
             "#e6f5d0"
            ],
            [
             0.7,
             "#b8e186"
            ],
            [
             0.8,
             "#7fbc41"
            ],
            [
             0.9,
             "#4d9221"
            ],
            [
             1,
             "#276419"
            ]
           ],
           "sequential": [
            [
             0,
             "#0d0887"
            ],
            [
             0.1111111111111111,
             "#46039f"
            ],
            [
             0.2222222222222222,
             "#7201a8"
            ],
            [
             0.3333333333333333,
             "#9c179e"
            ],
            [
             0.4444444444444444,
             "#bd3786"
            ],
            [
             0.5555555555555556,
             "#d8576b"
            ],
            [
             0.6666666666666666,
             "#ed7953"
            ],
            [
             0.7777777777777778,
             "#fb9f3a"
            ],
            [
             0.8888888888888888,
             "#fdca26"
            ],
            [
             1,
             "#f0f921"
            ]
           ],
           "sequentialminus": [
            [
             0,
             "#0d0887"
            ],
            [
             0.1111111111111111,
             "#46039f"
            ],
            [
             0.2222222222222222,
             "#7201a8"
            ],
            [
             0.3333333333333333,
             "#9c179e"
            ],
            [
             0.4444444444444444,
             "#bd3786"
            ],
            [
             0.5555555555555556,
             "#d8576b"
            ],
            [
             0.6666666666666666,
             "#ed7953"
            ],
            [
             0.7777777777777778,
             "#fb9f3a"
            ],
            [
             0.8888888888888888,
             "#fdca26"
            ],
            [
             1,
             "#f0f921"
            ]
           ]
          },
          "colorway": [
           "#636efa",
           "#EF553B",
           "#00cc96",
           "#ab63fa",
           "#FFA15A",
           "#19d3f3",
           "#FF6692",
           "#B6E880",
           "#FF97FF",
           "#FECB52"
          ],
          "font": {
           "color": "#2a3f5f"
          },
          "geo": {
           "bgcolor": "white",
           "lakecolor": "white",
           "landcolor": "#E5ECF6",
           "showlakes": true,
           "showland": true,
           "subunitcolor": "white"
          },
          "hoverlabel": {
           "align": "left"
          },
          "hovermode": "closest",
          "mapbox": {
           "style": "light"
          },
          "paper_bgcolor": "white",
          "plot_bgcolor": "#E5ECF6",
          "polar": {
           "angularaxis": {
            "gridcolor": "white",
            "linecolor": "white",
            "ticks": ""
           },
           "bgcolor": "#E5ECF6",
           "radialaxis": {
            "gridcolor": "white",
            "linecolor": "white",
            "ticks": ""
           }
          },
          "scene": {
           "xaxis": {
            "backgroundcolor": "#E5ECF6",
            "gridcolor": "white",
            "gridwidth": 2,
            "linecolor": "white",
            "showbackground": true,
            "ticks": "",
            "zerolinecolor": "white"
           },
           "yaxis": {
            "backgroundcolor": "#E5ECF6",
            "gridcolor": "white",
            "gridwidth": 2,
            "linecolor": "white",
            "showbackground": true,
            "ticks": "",
            "zerolinecolor": "white"
           },
           "zaxis": {
            "backgroundcolor": "#E5ECF6",
            "gridcolor": "white",
            "gridwidth": 2,
            "linecolor": "white",
            "showbackground": true,
            "ticks": "",
            "zerolinecolor": "white"
           }
          },
          "shapedefaults": {
           "line": {
            "color": "#2a3f5f"
           }
          },
          "ternary": {
           "aaxis": {
            "gridcolor": "white",
            "linecolor": "white",
            "ticks": ""
           },
           "baxis": {
            "gridcolor": "white",
            "linecolor": "white",
            "ticks": ""
           },
           "bgcolor": "#E5ECF6",
           "caxis": {
            "gridcolor": "white",
            "linecolor": "white",
            "ticks": ""
           }
          },
          "title": {
           "x": 0.05
          },
          "xaxis": {
           "automargin": true,
           "gridcolor": "white",
           "linecolor": "white",
           "ticks": "",
           "title": {
            "standoff": 15
           },
           "zerolinecolor": "white",
           "zerolinewidth": 2
          },
          "yaxis": {
           "automargin": true,
           "gridcolor": "white",
           "linecolor": "white",
           "ticks": "",
           "title": {
            "standoff": 15
           },
           "zerolinecolor": "white",
           "zerolinewidth": 2
          }
         }
        }
       }
      },
      "text/html": [
       "<div>\n",
       "        \n",
       "        \n",
       "            <div id=\"e026bc7a-5aa1-44eb-80e5-3886972a0b5f\" class=\"plotly-graph-div\" style=\"height:525px; width:100%;\"></div>\n",
       "            <script type=\"text/javascript\">\n",
       "                require([\"plotly\"], function(Plotly) {\n",
       "                    window.PLOTLYENV=window.PLOTLYENV || {};\n",
       "                    \n",
       "                if (document.getElementById(\"e026bc7a-5aa1-44eb-80e5-3886972a0b5f\")) {\n",
       "                    Plotly.newPlot(\n",
       "                        'e026bc7a-5aa1-44eb-80e5-3886972a0b5f',\n",
       "                        [{\"hovertemplate\": \"<b>%{hovertext}</b><br><br>pc1=%{x}<br>pc2=%{y}<br>pc3=%{z}<br>pc4=%{marker.color}<extra></extra>\", \"hovertext\": [\"nbcsports.com\", \"mirror.co.uk\", \"msn.com\", \"nbaanalysis.net\", \"espn.co.uk\", \"premierleague.com\", \"foxnews.com\", \"nesn.com\", \"freep.com\", \"dailysnark.com\", \"usatoday.com\", \"cbslocal.com\", \"sportingnews.com\", \"latimes.com\", \"pff.com\", \"indystar.com\", \"247sports.com\", \"hoopshype.com\", \"theguardian.com\", \"theplayerstribune.com\", \"sportsnet.ca\", \"apnews.com\", \"heavy.com\", \"prosportsextra.com\", \"nydailynews.com\", \"nfl.com\", \"bbc.com\", \"fantasyalarm.com\", \"sportskeeda.com\", \"telegraph.co.uk\", \"thebiglead.com\", \"cnn.com\", \"inquirer.com\", \"skysports.com\", \"theundefeated.com\", \"radio.com\", \"thedraftnetwork.com\", \"wsj.com\", \"espn.com\", \"dailymail.co.uk\", \"slamonline.com\", \"profootballnetwork.com\", \"hoopsrumors.com\", \"bleacherreport.com\", \"fadeawayworld.net\", \"cbssports.com\", \"deadspin.com\", \"football365.com\", \"forbes.com\", \"dailymotion.com\", \"thescore.com\", \"bolavip.com\", \"iheart.com\", \"nypost.com\", \"cleveland.com\", \"thetimes.co.uk\", \"si.com\", \"inquisitr.com\", \"independent.co.uk\", \"gq.com\", \"tmz.com\", \"foxsports.com\", \"sportsnaut.com\", \"cbsnews.com\", \"clutchpoints.com\", \"theonion.com\", \"sportscasting.com\", \"fansided.com\", \"fivethirtyeight.com\", \"yardbarker.com\", \"theathletic.com\", \"uproxx.com\", \"sbnation.com\", \"nj.com\", \"draftkings.com\", \"washingtonpost.com\", \"nytimes.com\", \"givemesport.com\", \"thespun.com\", \"realgm.com\", \"sportwitness.co.uk\", \"theringer.com\", \"bbc.co.uk\", \"rotoballer.com\", \"nba.com\"], \"legendgroup\": \"\", \"marker\": {\"color\": [-0.8585789499530485, -0.08789750246443927, 0.06626742081036568, 0.10379813585377401, 0.07479693120070037, -0.11691966121089456, 0.09530455574587289, 0.08867763309087134, 0.05361079947800118, 0.08283255718564643, -0.7365616909105682, 0.06693665136749818, 0.07809905109624025, 0.0762206419090194, -0.2789957233201125, -0.05925217345150539, 0.043260306748806654, 0.09542772575893418, -0.39998511240020657, 0.07093727925239277, 0.05840341640522967, 0.09048045479972103, 0.060710067160895644, 0.05650728344097131, 0.11053921482384585, -1.0018561786670512, -0.005636376697142476, 0.08270246628234287, 0.09988858958772012, -0.16682342879534345, 0.0878026985508792, 0.1099588043003463, 0.01367073228364998, -0.34186743349851506, 0.10066750050719994, -0.014169711011248183, -0.04362971400615145, 0.10021984042006563, 2.8276358826709815, -0.20783623848259652, 0.10276841676662297, 0.04273881884235418, 0.10414124105858738, -0.21627851373655924, 0.10701104101650714, -0.13365889507124543, 0.10557182014035578, 0.024260261310083263, 0.06820943037358645, 0.09594952000544851, 0.09587956077426649, 0.07627215374001042, 0.0972239230674651, 0.07651737893358511, 0.08759331259641749, -0.11165051320670583, -0.6915183051377736, 0.10189043442207472, 0.0376905929271681, 0.09324897062392204, 0.12835140757247482, 0.08484023350629748, 0.10369485145773033, 0.09478546325372753, 0.10970708779061186, 0.09033084199267623, 0.1024882650610754, 0.09177418224575494, 0.11540895015566091, 0.09369170898798815, -1.0013883137733104, 0.10276494044736653, 0.05107160298491018, 0.015228835408810105, 0.10054435086424159, 0.07423217104367448, 0.06622128335338599, 0.017530476415810313, 0.0797213087787719, 0.08623226721233035, 0.04801988422409603, 0.1321358542563108, -0.17938422369343138, 0.08900888154869366, -1.3362197064049683], \"coloraxis\": \"coloraxis\", \"opacity\": 0.4, \"symbol\": \"circle\"}, \"mode\": \"markers\", \"name\": \"\", \"scene\": \"scene\", \"showlegend\": false, \"type\": \"scatter3d\", \"x\": [3.724275836797454, -0.481963439591576, -0.25045270348814436, -0.4659751418336094, -0.47026223886592605, -0.4693892545613482, -0.3817078358488177, -0.3507580170506762, -0.3492613778755313, -0.42533411999331294, 4.328094744464415, -0.29961181926828484, -0.36466949121373526, -0.3895195055213819, 1.2999567588488017, -0.2835499745843549, -0.11184504945363662, -0.4490118654135337, -0.37321496895082795, -0.26578422624962167, -0.4374928749968384, -0.41536799056582124, -0.297962970322299, -0.0743319951993602, -0.44723408273576415, 3.383600022414176, -0.4442872314628172, -0.3952350387703107, -0.4406191308076946, -0.42846876004103934, -0.42942138143417574, -0.4582202726969195, -0.32905559588636396, -0.43767048779124784, -0.45268490357072644, -0.1630348695065545, 0.28241167622791136, -0.47402499163266465, 5.79500901546457, -0.4345115563905462, -0.48778123868530177, 0.26265550281695754, -0.47391924179566597, 2.2036403722856943, -0.4753694138991927, 1.6594031980237196, -0.40058063968103147, -0.48537408121180103, -0.37456257321321246, -0.47579869875316166, -0.19783117450913765, -0.3762456187616353, -0.42160519901369287, 0.007700716079787118, -0.26365758794745625, -0.4844462821241951, 2.44269300282408, -0.48273276769459594, -0.4657773522779501, -0.47641467450733677, -0.20334487473762639, -0.24941680494422758, -0.4593740599980391, -0.467136232987773, -0.3689246256034684, -0.3783632827138615, -0.4202917453765431, -0.12242110123962636, -0.33843799743121705, -0.41823200990212095, 1.0209377073171868, -0.48758176356179245, -0.3439685427157968, -0.18754714135987502, -0.4753426660591693, -0.3602770172961695, -0.38759163541219, -0.4921359872791675, -0.36324618321478064, -0.47454320070294903, -0.48756133627920994, -0.1774705709619207, -0.4180415433636899, -0.44415636061767483, 1.1990598378449633], \"y\": [-0.9481036103466477, -0.006416362069767639, -0.0839955373786686, 0.014094479957556768, -0.03317181691882702, 0.01195802492560321, -0.0672350430832944, -0.07426329804538251, -0.01373119408965532, -0.062189501361858725, -1.4156640578470727, -0.08735103237183824, -0.06532124642895717, -0.024130034670572245, -0.6569393548121666, -0.09072139329721211, -0.15582929854684335, 0.0541715735190498, 0.054875962473093225, -0.0646254709734458, 0.13083000993173857, -0.05630535722582803, -0.057911473621192276, -0.10233601786259128, -0.035200694428325595, -1.4149375030397586, 0.009395648517679232, -0.07047959603787428, -0.032244742168233524, 0.045205554406035, -0.05835487989317494, -0.03603873122951291, -0.04912465254815224, 0.049607021432975185, -0.00305841645698597, -0.1582878503795148, -0.3116803351119094, -0.029673609111485224, 1.707759664082269, 0.020972899723430617, -0.02179943316649961, -0.270812773723895, 0.0022997771182583174, -0.267759081262856, -0.007303288054759572, -0.3942105299601003, -0.03373928443216008, -0.023733465425672968, -0.03044446254944483, -0.03957402109385533, -0.06462663292274909, 0.05260286109158547, -0.05688068278587064, -0.12806636188177428, 0.09600699849600812, -0.005978904315952215, -0.633755551582846, -0.020787529132308632, -0.020044460747594535, -0.0325924053295833, -0.09509151764869776, -0.015112615615977687, -0.03455608757238948, -0.0442785764556259, 0.028581445903863977, -0.04429876338506136, -0.041918841049072085, -0.082756139145848, 0.07444711807713415, -0.04525608042005718, 0.2959830770361307, -0.0216134031152829, -0.01678678082311094, -0.14561327089952456, -0.03812755661891333, -0.055200408463531046, 0.004135624030968087, -0.02886515793448143, -0.0629616239646931, 0.016013712985285034, -0.029381356799413852, 0.19928988634095493, 0.05346649548350811, -0.05606663864687866, 6.253617962750104], \"z\": [-0.43310781517215696, 0.5820756351310576, -0.16935359088754326, -0.16940245185185462, -0.11030695630188543, 0.8151488269190522, -0.19244062530441214, -0.2033558872754421, -0.10546791142373893, -0.19229500042465145, -0.5665057559610647, -0.21305053357941037, -0.18691728308800723, -0.20347264536983334, -0.3990154944786962, -0.15003220129540362, -0.23889610330916577, -0.1732766850949685, 1.8534861829915519, -0.13705643573121892, -0.20004251795499717, -0.1911375435861052, -0.18804595263172608, -0.20426856701807747, -0.18642150477670086, -0.5821243149533467, 0.6993451292129563, -0.1931274652434689, -0.16403222034294818, 1.2520490276195617, -0.18919392129049023, -0.1813762923512462, -0.21713040998816985, 1.5758115138705646, -0.17729756258040935, -0.24302217811168084, -0.3114198412792209, -0.15432276644433682, 1.0976272218027385, 1.0125814891283733, -0.1868666451772543, -0.24650002338401872, -0.17583891003035598, -0.2782090128722302, -0.17901271502868923, -0.21161783414011956, -0.18124777360112465, 0.1144757538972046, -0.1343380022782614, -0.15242608192155602, -0.15978641187789006, -0.03663546183367253, -0.19356858105219574, -0.23149640899983828, -0.24101321707553525, 0.6706547869141438, 0.10763346235404143, -0.18599406252774728, 0.17570263180083925, -0.18798635434491331, -0.2059319010488504, -0.20389813597135537, -0.18472126755429705, -0.18614313846680944, -0.1834409957806034, -0.18504223688470392, -0.1786748713620459, -0.19427674780258825, -0.032979952265060716, -0.19588541172299223, 2.885850280562912, -0.18679335484744705, 0.05278395167381944, -0.2113878814107548, -0.18550959114610704, -0.17898245646281868, 0.022458765946509803, 0.06041202335392131, -0.18354054474423398, -0.19324749090596854, 0.013349442409913478, -0.12095122213409915, 1.3868198097427615, -0.19113159180855296, -0.9662732117648516]}],\n",
       "                        {\"coloraxis\": {\"colorbar\": {\"title\": {\"text\": \"pc4\"}}, \"colorscale\": [[0.0, \"#0d0887\"], [0.1111111111111111, \"#46039f\"], [0.2222222222222222, \"#7201a8\"], [0.3333333333333333, \"#9c179e\"], [0.4444444444444444, \"#bd3786\"], [0.5555555555555556, \"#d8576b\"], [0.6666666666666666, \"#ed7953\"], [0.7777777777777778, \"#fb9f3a\"], [0.8888888888888888, \"#fdca26\"], [1.0, \"#f0f921\"]]}, \"legend\": {\"tracegroupgap\": 0}, \"margin\": {\"t\": 60}, \"scene\": {\"domain\": {\"x\": [0.0, 1.0], \"y\": [0.0, 1.0]}, \"xaxis\": {\"title\": {\"text\": \"pc1\"}}, \"yaxis\": {\"title\": {\"text\": \"pc2\"}}, \"zaxis\": {\"title\": {\"text\": \"pc3\"}}}, \"template\": {\"data\": {\"bar\": [{\"error_x\": {\"color\": \"#2a3f5f\"}, \"error_y\": {\"color\": \"#2a3f5f\"}, \"marker\": {\"line\": {\"color\": \"#E5ECF6\", \"width\": 0.5}}, \"type\": \"bar\"}], \"barpolar\": [{\"marker\": {\"line\": {\"color\": \"#E5ECF6\", \"width\": 0.5}}, \"type\": \"barpolar\"}], \"carpet\": [{\"aaxis\": {\"endlinecolor\": \"#2a3f5f\", \"gridcolor\": \"white\", \"linecolor\": \"white\", \"minorgridcolor\": \"white\", \"startlinecolor\": \"#2a3f5f\"}, \"baxis\": {\"endlinecolor\": \"#2a3f5f\", \"gridcolor\": \"white\", \"linecolor\": \"white\", \"minorgridcolor\": \"white\", \"startlinecolor\": \"#2a3f5f\"}, \"type\": \"carpet\"}], \"choropleth\": [{\"colorbar\": {\"outlinewidth\": 0, \"ticks\": \"\"}, \"type\": \"choropleth\"}], \"contour\": [{\"colorbar\": {\"outlinewidth\": 0, \"ticks\": \"\"}, \"colorscale\": [[0.0, \"#0d0887\"], [0.1111111111111111, \"#46039f\"], [0.2222222222222222, \"#7201a8\"], [0.3333333333333333, \"#9c179e\"], [0.4444444444444444, \"#bd3786\"], [0.5555555555555556, \"#d8576b\"], [0.6666666666666666, \"#ed7953\"], [0.7777777777777778, \"#fb9f3a\"], [0.8888888888888888, \"#fdca26\"], [1.0, \"#f0f921\"]], \"type\": \"contour\"}], \"contourcarpet\": [{\"colorbar\": {\"outlinewidth\": 0, \"ticks\": \"\"}, \"type\": \"contourcarpet\"}], \"heatmap\": [{\"colorbar\": {\"outlinewidth\": 0, \"ticks\": \"\"}, \"colorscale\": [[0.0, \"#0d0887\"], [0.1111111111111111, \"#46039f\"], [0.2222222222222222, \"#7201a8\"], [0.3333333333333333, \"#9c179e\"], [0.4444444444444444, \"#bd3786\"], [0.5555555555555556, \"#d8576b\"], [0.6666666666666666, \"#ed7953\"], [0.7777777777777778, \"#fb9f3a\"], [0.8888888888888888, \"#fdca26\"], [1.0, \"#f0f921\"]], \"type\": \"heatmap\"}], \"heatmapgl\": [{\"colorbar\": {\"outlinewidth\": 0, \"ticks\": \"\"}, \"colorscale\": [[0.0, \"#0d0887\"], [0.1111111111111111, \"#46039f\"], [0.2222222222222222, \"#7201a8\"], [0.3333333333333333, \"#9c179e\"], [0.4444444444444444, \"#bd3786\"], [0.5555555555555556, \"#d8576b\"], [0.6666666666666666, \"#ed7953\"], [0.7777777777777778, \"#fb9f3a\"], [0.8888888888888888, \"#fdca26\"], [1.0, \"#f0f921\"]], \"type\": \"heatmapgl\"}], \"histogram\": [{\"marker\": {\"colorbar\": {\"outlinewidth\": 0, \"ticks\": \"\"}}, \"type\": \"histogram\"}], \"histogram2d\": [{\"colorbar\": {\"outlinewidth\": 0, \"ticks\": \"\"}, \"colorscale\": [[0.0, \"#0d0887\"], [0.1111111111111111, \"#46039f\"], [0.2222222222222222, \"#7201a8\"], [0.3333333333333333, \"#9c179e\"], [0.4444444444444444, \"#bd3786\"], [0.5555555555555556, \"#d8576b\"], [0.6666666666666666, \"#ed7953\"], [0.7777777777777778, \"#fb9f3a\"], [0.8888888888888888, \"#fdca26\"], [1.0, \"#f0f921\"]], \"type\": \"histogram2d\"}], \"histogram2dcontour\": [{\"colorbar\": {\"outlinewidth\": 0, \"ticks\": \"\"}, \"colorscale\": [[0.0, \"#0d0887\"], [0.1111111111111111, \"#46039f\"], [0.2222222222222222, \"#7201a8\"], [0.3333333333333333, \"#9c179e\"], [0.4444444444444444, \"#bd3786\"], [0.5555555555555556, \"#d8576b\"], [0.6666666666666666, \"#ed7953\"], [0.7777777777777778, \"#fb9f3a\"], [0.8888888888888888, \"#fdca26\"], [1.0, \"#f0f921\"]], \"type\": \"histogram2dcontour\"}], \"mesh3d\": [{\"colorbar\": {\"outlinewidth\": 0, \"ticks\": \"\"}, \"type\": \"mesh3d\"}], \"parcoords\": [{\"line\": {\"colorbar\": {\"outlinewidth\": 0, \"ticks\": \"\"}}, \"type\": \"parcoords\"}], \"pie\": [{\"automargin\": true, \"type\": \"pie\"}], \"scatter\": [{\"marker\": {\"colorbar\": {\"outlinewidth\": 0, \"ticks\": \"\"}}, \"type\": \"scatter\"}], \"scatter3d\": [{\"line\": {\"colorbar\": {\"outlinewidth\": 0, \"ticks\": \"\"}}, \"marker\": {\"colorbar\": {\"outlinewidth\": 0, \"ticks\": \"\"}}, \"type\": \"scatter3d\"}], \"scattercarpet\": [{\"marker\": {\"colorbar\": {\"outlinewidth\": 0, \"ticks\": \"\"}}, \"type\": \"scattercarpet\"}], \"scattergeo\": [{\"marker\": {\"colorbar\": {\"outlinewidth\": 0, \"ticks\": \"\"}}, \"type\": \"scattergeo\"}], \"scattergl\": [{\"marker\": {\"colorbar\": {\"outlinewidth\": 0, \"ticks\": \"\"}}, \"type\": \"scattergl\"}], \"scattermapbox\": [{\"marker\": {\"colorbar\": {\"outlinewidth\": 0, \"ticks\": \"\"}}, \"type\": \"scattermapbox\"}], \"scatterpolar\": [{\"marker\": {\"colorbar\": {\"outlinewidth\": 0, \"ticks\": \"\"}}, \"type\": \"scatterpolar\"}], \"scatterpolargl\": [{\"marker\": {\"colorbar\": {\"outlinewidth\": 0, \"ticks\": \"\"}}, \"type\": \"scatterpolargl\"}], \"scatterternary\": [{\"marker\": {\"colorbar\": {\"outlinewidth\": 0, \"ticks\": \"\"}}, \"type\": \"scatterternary\"}], \"surface\": [{\"colorbar\": {\"outlinewidth\": 0, \"ticks\": \"\"}, \"colorscale\": [[0.0, \"#0d0887\"], [0.1111111111111111, \"#46039f\"], [0.2222222222222222, \"#7201a8\"], [0.3333333333333333, \"#9c179e\"], [0.4444444444444444, \"#bd3786\"], [0.5555555555555556, \"#d8576b\"], [0.6666666666666666, \"#ed7953\"], [0.7777777777777778, \"#fb9f3a\"], [0.8888888888888888, \"#fdca26\"], [1.0, \"#f0f921\"]], \"type\": \"surface\"}], \"table\": [{\"cells\": {\"fill\": {\"color\": \"#EBF0F8\"}, \"line\": {\"color\": \"white\"}}, \"header\": {\"fill\": {\"color\": \"#C8D4E3\"}, \"line\": {\"color\": \"white\"}}, \"type\": \"table\"}]}, \"layout\": {\"annotationdefaults\": {\"arrowcolor\": \"#2a3f5f\", \"arrowhead\": 0, \"arrowwidth\": 1}, \"coloraxis\": {\"colorbar\": {\"outlinewidth\": 0, \"ticks\": \"\"}}, \"colorscale\": {\"diverging\": [[0, \"#8e0152\"], [0.1, \"#c51b7d\"], [0.2, \"#de77ae\"], [0.3, \"#f1b6da\"], [0.4, \"#fde0ef\"], [0.5, \"#f7f7f7\"], [0.6, \"#e6f5d0\"], [0.7, \"#b8e186\"], [0.8, \"#7fbc41\"], [0.9, \"#4d9221\"], [1, \"#276419\"]], \"sequential\": [[0.0, \"#0d0887\"], [0.1111111111111111, \"#46039f\"], [0.2222222222222222, \"#7201a8\"], [0.3333333333333333, \"#9c179e\"], [0.4444444444444444, \"#bd3786\"], [0.5555555555555556, \"#d8576b\"], [0.6666666666666666, \"#ed7953\"], [0.7777777777777778, \"#fb9f3a\"], [0.8888888888888888, \"#fdca26\"], [1.0, \"#f0f921\"]], \"sequentialminus\": [[0.0, \"#0d0887\"], [0.1111111111111111, \"#46039f\"], [0.2222222222222222, \"#7201a8\"], [0.3333333333333333, \"#9c179e\"], [0.4444444444444444, \"#bd3786\"], [0.5555555555555556, \"#d8576b\"], [0.6666666666666666, \"#ed7953\"], [0.7777777777777778, \"#fb9f3a\"], [0.8888888888888888, \"#fdca26\"], [1.0, \"#f0f921\"]]}, \"colorway\": [\"#636efa\", \"#EF553B\", \"#00cc96\", \"#ab63fa\", \"#FFA15A\", \"#19d3f3\", \"#FF6692\", \"#B6E880\", \"#FF97FF\", \"#FECB52\"], \"font\": {\"color\": \"#2a3f5f\"}, \"geo\": {\"bgcolor\": \"white\", \"lakecolor\": \"white\", \"landcolor\": \"#E5ECF6\", \"showlakes\": true, \"showland\": true, \"subunitcolor\": \"white\"}, \"hoverlabel\": {\"align\": \"left\"}, \"hovermode\": \"closest\", \"mapbox\": {\"style\": \"light\"}, \"paper_bgcolor\": \"white\", \"plot_bgcolor\": \"#E5ECF6\", \"polar\": {\"angularaxis\": {\"gridcolor\": \"white\", \"linecolor\": \"white\", \"ticks\": \"\"}, \"bgcolor\": \"#E5ECF6\", \"radialaxis\": {\"gridcolor\": \"white\", \"linecolor\": \"white\", \"ticks\": \"\"}}, \"scene\": {\"xaxis\": {\"backgroundcolor\": \"#E5ECF6\", \"gridcolor\": \"white\", \"gridwidth\": 2, \"linecolor\": \"white\", \"showbackground\": true, \"ticks\": \"\", \"zerolinecolor\": \"white\"}, \"yaxis\": {\"backgroundcolor\": \"#E5ECF6\", \"gridcolor\": \"white\", \"gridwidth\": 2, \"linecolor\": \"white\", \"showbackground\": true, \"ticks\": \"\", \"zerolinecolor\": \"white\"}, \"zaxis\": {\"backgroundcolor\": \"#E5ECF6\", \"gridcolor\": \"white\", \"gridwidth\": 2, \"linecolor\": \"white\", \"showbackground\": true, \"ticks\": \"\", \"zerolinecolor\": \"white\"}}, \"shapedefaults\": {\"line\": {\"color\": \"#2a3f5f\"}}, \"ternary\": {\"aaxis\": {\"gridcolor\": \"white\", \"linecolor\": \"white\", \"ticks\": \"\"}, \"baxis\": {\"gridcolor\": \"white\", \"linecolor\": \"white\", \"ticks\": \"\"}, \"bgcolor\": \"#E5ECF6\", \"caxis\": {\"gridcolor\": \"white\", \"linecolor\": \"white\", \"ticks\": \"\"}}, \"title\": {\"x\": 0.05}, \"xaxis\": {\"automargin\": true, \"gridcolor\": \"white\", \"linecolor\": \"white\", \"ticks\": \"\", \"title\": {\"standoff\": 15}, \"zerolinecolor\": \"white\", \"zerolinewidth\": 2}, \"yaxis\": {\"automargin\": true, \"gridcolor\": \"white\", \"linecolor\": \"white\", \"ticks\": \"\", \"title\": {\"standoff\": 15}, \"zerolinecolor\": \"white\", \"zerolinewidth\": 2}}}},\n",
       "                        {\"responsive\": true}\n",
       "                    ).then(function(){\n",
       "                            \n",
       "var gd = document.getElementById('e026bc7a-5aa1-44eb-80e5-3886972a0b5f');\n",
       "var x = new MutationObserver(function (mutations, observer) {{\n",
       "        var display = window.getComputedStyle(gd).display;\n",
       "        if (!display || display === 'none') {{\n",
       "            console.log([gd, 'removed!']);\n",
       "            Plotly.purge(gd);\n",
       "            observer.disconnect();\n",
       "        }}\n",
       "}});\n",
       "\n",
       "// Listen for the removal of the full notebook cells\n",
       "var notebookContainer = gd.closest('#notebook-container');\n",
       "if (notebookContainer) {{\n",
       "    x.observe(notebookContainer, {childList: true});\n",
       "}}\n",
       "\n",
       "// Listen for the clearing of the current output cell\n",
       "var outputEl = gd.closest('.output');\n",
       "if (outputEl) {{\n",
       "    x.observe(outputEl, {childList: true});\n",
       "}}\n",
       "\n",
       "                        })\n",
       "                };\n",
       "                });\n",
       "            </script>\n",
       "        </div>"
      ]
     },
     "metadata": {},
     "output_type": "display_data"
    }
   ],
   "source": [
    "import plotly.express as px\n",
    "import pandas\n",
    "\n",
    "ns_fixed = list(ns_sr_rep.keys())\n",
    "\n",
    "df = pandas.DataFrame({\"pc1\": x,\n",
    "                   \"pc2\": y,\n",
    "                   \"pc3\": z,\n",
    "                   \"pc4\": a,\n",
    "                   \"source\": ns_fixed})\n",
    "\n",
    "fig = px.scatter_3d(df, x='pc1', y='pc2', z='pc3', color='pc4', hover_name='source', opacity=0.4)\n",
    "fig.show()"
   ]
  },
  {
   "cell_type": "code",
   "execution_count": null,
   "metadata": {},
   "outputs": [],
   "source": []
  }
 ],
 "metadata": {
  "kernelspec": {
   "display_name": "Python 3",
   "language": "python",
   "name": "python3"
  },
  "language_info": {
   "codemirror_mode": {
    "name": "ipython",
    "version": 3
   },
   "file_extension": ".py",
   "mimetype": "text/x-python",
   "name": "python",
   "nbconvert_exporter": "python",
   "pygments_lexer": "ipython3",
   "version": "3.8.6"
  }
 },
 "nbformat": 4,
 "nbformat_minor": 4
}
