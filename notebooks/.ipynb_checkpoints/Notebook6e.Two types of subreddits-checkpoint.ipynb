{
 "cells": [
  {
   "cell_type": "markdown",
   "metadata": {},
   "source": [
    "# Two types of subreddits\n",
    "\n",
    "Junita Sirait\n",
    "\n",
    "For case study purposes"
   ]
  },
  {
   "cell_type": "code",
   "execution_count": 1,
   "metadata": {},
   "outputs": [],
   "source": [
    "import json\n",
    "import csv\n",
    "import pandas as pd\n",
    "import numpy as np\n",
    "import statistics\n",
    "\n",
    "import tldextract\n",
    "\n",
    "from collections import Counter, defaultdict\n",
    "import matplotlib.pyplot as plt\n",
    "import seaborn as sns\n",
    "\n",
    "from sklearn.cluster import KMeans\n",
    "from sklearn.cluster import AgglomerativeClustering\n",
    "\n",
    "from sklearn.preprocessing import StandardScaler\n",
    "from sklearn.preprocessing import MaxAbsScaler\n",
    "\n",
    "from sklearn import preprocessing\n",
    "\n",
    "from sklearn.metrics import silhouette_score\n",
    "from kneed import KneeLocator\n",
    "\n",
    "from scipy.interpolate import make_interp_spline, BSpline\n",
    "\n",
    "from sklearn.decomposition import PCA\n",
    "from sklearn.decomposition import TruncatedSVD\n",
    "\n",
    "import math\n",
    "\n",
    "from sklearn.feature_selection import SelectKBest\n",
    "from sklearn.feature_selection import VarianceThreshold\n",
    "\n",
    "import os"
   ]
  },
  {
   "cell_type": "markdown",
   "metadata": {},
   "source": [
    "<a id=\"sub1\"></a>\n",
    "## Subreddit data"
   ]
  },
  {
   "cell_type": "code",
   "execution_count": 2,
   "metadata": {},
   "outputs": [],
   "source": [
    "pd = os.path.split(os.getcwd())[0]\n",
    "data_fp = os.path.join(pd,\"data/gm-newssources-subreddits\")\n",
    "dfp = os.path.join(pd,\"data\")\n",
    "mbfc_path = os.path.join(pd, \"data/mbfc\")"
   ]
  },
  {
   "cell_type": "code",
   "execution_count": 3,
   "metadata": {},
   "outputs": [],
   "source": [
    "with open (os.path.join(dfp,\"gm_intersection.json\"), \"r\", encoding = \"utf-8\") as infile:\n",
    "    gm_intersection = json.load(infile)"
   ]
  },
  {
   "cell_type": "code",
   "execution_count": 4,
   "metadata": {},
   "outputs": [
    {
     "data": {
      "text/plain": [
       "42477"
      ]
     },
     "execution_count": 4,
     "metadata": {},
     "output_type": "execute_result"
    }
   ],
   "source": [
    "len(gm_intersection)"
   ]
  },
  {
   "cell_type": "code",
   "execution_count": null,
   "metadata": {},
   "outputs": [],
   "source": [
    "# Reading in all the subreddits in our files\n",
    "\n",
    "with open(os.path.join(data_fp,\"subreddit_ns_2021-01.json\"), \"r\", encoding = \"utf-8\") as infile1a:\n",
    "    subreddit_ns_jan = json.load(infile1a)\n",
    "\n",
    "with open(os.path.join(data_fp,\"subreddit_ns_2021-02.json\"), \"r\", encoding = \"utf-8\") as infile2a:\n",
    "    subreddit_ns_feb = json.load(infile2a)\n",
    "    \n",
    "with open(os.path.join(data_fp,\"subreddit_ns_2021-03.json\"), \"r\", encoding = \"utf-8\") as infile3a:\n",
    "    subreddit_ns_march = json.load(infile3a)\n",
    "    \n",
    "with open(os.path.join(data_fp,\"subreddit_ns_2021-04.json\"), \"r\", encoding = \"utf-8\") as infile4a:\n",
    "    subreddit_ns_april = json.load(infile4a)\n",
    "    \n",
    "with open(os.path.join(data_fp,\"subreddit_ns_2021-05.json\"), \"r\", encoding = \"utf-8\") as infile5a:\n",
    "    subreddit_ns_may = json.load(infile5a)\n",
    "    \n",
    "with open(os.path.join(data_fp,\"subreddit_ns_2021-06.json\"), \"r\", encoding = \"utf-8\") as infile6a:\n",
    "    subreddit_ns_jun = json.load(infile6a)"
   ]
  },
  {
   "cell_type": "code",
   "execution_count": null,
   "metadata": {},
   "outputs": [],
   "source": [
    "# ns_subreddit\n",
    "with open(os.path.join(data_fp,\"ns_subreddit_2021-01.json\")) as infile1:\n",
    "    ns_subreddit_01 = json.load(infile1)\n",
    "    \n",
    "with open(os.path.join(data_fp,\"ns_subreddit_2021-02.json\")) as infile2:\n",
    "    ns_subreddit_02 = json.load(infile2)\n",
    "    \n",
    "with open(os.path.join(data_fp,\"ns_subreddit_2021-03.json\")) as infile3:\n",
    "    ns_subreddit_03 = json.load(infile3)\n",
    "    \n",
    "with open(os.path.join(data_fp,\"ns_subreddit_2021-04.json\")) as infile4:\n",
    "    ns_subreddit_04 = json.load(infile4)\n",
    "    \n",
    "with open(os.path.join(data_fp,\"ns_subreddit_2021-05.json\")) as infile5:\n",
    "    ns_subreddit_05 = json.load(infile5)\n",
    "    \n",
    "with open(os.path.join(data_fp,\"ns_subreddit_2021-06.json\")) as infile6:\n",
    "    ns_subreddit_06 = json.load(infile6)"
   ]
  },
  {
   "cell_type": "markdown",
   "metadata": {},
   "source": [
    "## Choosing subreddits"
   ]
  },
  {
   "cell_type": "code",
   "execution_count": null,
   "metadata": {},
   "outputs": [],
   "source": []
  },
  {
   "cell_type": "markdown",
   "metadata": {},
   "source": [
    "## Let's only use subreddits in `sports_subreddits` for this case study"
   ]
  },
  {
   "cell_type": "code",
   "execution_count": 10,
   "metadata": {},
   "outputs": [],
   "source": [
    "# filtering all files\n",
    "subreddit_ns_jan = {k: subreddit_ns_jan[k] for k in subreddit_ns_jan.keys() & set(sports_subreddits)}\n",
    "subreddit_ns_feb = {k: subreddit_ns_feb[k] for k in subreddit_ns_feb.keys() & set(sports_subreddits)}\n",
    "subreddit_ns_march = {k: subreddit_ns_march[k] for k in subreddit_ns_march.keys() & set(sports_subreddits)}\n",
    "subreddit_ns_april = {k: subreddit_ns_april[k] for k in subreddit_ns_april.keys() & set(sports_subreddits)}\n",
    "subreddit_ns_may = {k: subreddit_ns_may[k] for k in subreddit_ns_may.keys() & set(sports_subreddits)}\n",
    "subreddit_ns_jun = {k: subreddit_ns_jun[k] for k in subreddit_ns_jun.keys() & set(sports_subreddits)}"
   ]
  },
  {
   "cell_type": "code",
   "execution_count": 11,
   "metadata": {},
   "outputs": [],
   "source": [
    "files_sub = [subreddit_ns_jan, subreddit_ns_feb, subreddit_ns_march, subreddit_ns_april, subreddit_ns_may, subreddit_ns_jun]\n",
    "files_ns = [ns_subreddit_01, ns_subreddit_02, ns_subreddit_03, ns_subreddit_04, ns_subreddit_05, ns_subreddit_06]"
   ]
  },
  {
   "cell_type": "code",
   "execution_count": 12,
   "metadata": {},
   "outputs": [],
   "source": [
    "sr_union_old = set(sports_subreddits) & (\n",
    "      set(subreddit_ns_jan) | set(subreddit_ns_feb) |\n",
    "      set(subreddit_ns_march) | set(subreddit_ns_april) |\n",
    "      set(subreddit_ns_may) | set(subreddit_ns_jun))"
   ]
  },
  {
   "cell_type": "code",
   "execution_count": 13,
   "metadata": {},
   "outputs": [
    {
     "data": {
      "text/plain": [
       "80"
      ]
     },
     "execution_count": 13,
     "metadata": {},
     "output_type": "execute_result"
    }
   ],
   "source": [
    "len(sr_union_old)"
   ]
  },
  {
   "cell_type": "code",
   "execution_count": 14,
   "metadata": {},
   "outputs": [
    {
     "data": {
      "text/plain": [
       "82"
      ]
     },
     "execution_count": 14,
     "metadata": {},
     "output_type": "execute_result"
    }
   ],
   "source": [
    "len(sports_subreddits)"
   ]
  },
  {
   "cell_type": "markdown",
   "metadata": {},
   "source": [
    "Removing \"reddit.com\" and non_news from files_sub"
   ]
  },
  {
   "cell_type": "code",
   "execution_count": 15,
   "metadata": {},
   "outputs": [
    {
     "data": {
      "text/plain": [
       "130"
      ]
     },
     "execution_count": 15,
     "metadata": {},
     "output_type": "execute_result"
    }
   ],
   "source": [
    "non_news = []\n",
    "with open(\"non_news.csv\", \"r\", encoding=\"utf-8\") as nn:\n",
    "    r = csv.reader(nn, delimiter=\",\")\n",
    "    counter = 0\n",
    "    for row in r:\n",
    "        if counter != 0:\n",
    "            non_news.append(row[0])\n",
    "        counter += 1\n",
    "len(non_news)"
   ]
  },
  {
   "cell_type": "code",
   "execution_count": 16,
   "metadata": {},
   "outputs": [
    {
     "name": "stdout",
     "output_type": "stream",
     "text": [
      "Done for a file\n",
      "Done for a file\n",
      "Done for a file\n",
      "Done for a file\n",
      "Done for a file\n",
      "Done for a file\n"
     ]
    }
   ],
   "source": [
    "for f in files_sub:\n",
    "    for n in f:\n",
    "        if 'reddit.com' in f[n]: f[n].pop('reddit.com')\n",
    "        # removing each of the non_news\n",
    "        for nns in non_news:\n",
    "            if nns in f[n]: f[n].pop(nns)\n",
    "    print(\"Done for a file\")"
   ]
  },
  {
   "cell_type": "markdown",
   "metadata": {},
   "source": [
    "Now that we have removed non_news from various subreddits, there would be subreddits that now does not have anything inside. Let's get rid of these subreddits as well."
   ]
  },
  {
   "cell_type": "code",
   "execution_count": 17,
   "metadata": {},
   "outputs": [],
   "source": [
    "files_sub = [subreddit_ns_jan, subreddit_ns_feb, subreddit_ns_march, subreddit_ns_april, subreddit_ns_may, subreddit_ns_jun]\n",
    "files_ns = [ns_subreddit_01, ns_subreddit_02, ns_subreddit_03, ns_subreddit_04, ns_subreddit_05, ns_subreddit_06]"
   ]
  },
  {
   "cell_type": "code",
   "execution_count": 18,
   "metadata": {},
   "outputs": [
    {
     "name": "stdout",
     "output_type": "stream",
     "text": [
      "1\n",
      "done for a file\n",
      "1\n",
      "done for a file\n",
      "3\n",
      "done for a file\n",
      "6\n",
      "done for a file\n",
      "2\n",
      "done for a file\n",
      "2\n",
      "done for a file\n"
     ]
    }
   ],
   "source": [
    "for s in files_sub:\n",
    "    empty_subs = set()\n",
    "    for k in s:\n",
    "        if len(s[k]) == 0: empty_subs.add(k)\n",
    "    print(len(empty_subs))\n",
    "    [s.pop(u) for u in empty_subs]\n",
    "    print(\"done for a file\")"
   ]
  },
  {
   "cell_type": "code",
   "execution_count": 19,
   "metadata": {},
   "outputs": [
    {
     "name": "stdout",
     "output_type": "stream",
     "text": [
      "done for a file\n",
      "done for a file\n",
      "done for a file\n",
      "done for a file\n",
      "done for a file\n",
      "done for a file\n"
     ]
    }
   ],
   "source": [
    "for f in files_sub:\n",
    "    [f.pop(u) for u in empty_subs if u in f]\n",
    "    print(\"done for a file\")"
   ]
  },
  {
   "cell_type": "markdown",
   "metadata": {},
   "source": [
    "Instead of removing from files_ns, I will reconstruct files_ns from files_sub."
   ]
  },
  {
   "cell_type": "code",
   "execution_count": 20,
   "metadata": {},
   "outputs": [],
   "source": [
    "def ns_from_sub(subfile):\n",
    "    d = defaultdict(dict)\n",
    "    for sub in subfile:\n",
    "        for n in subfile[sub]:\n",
    "            d[n][sub] = subfile[sub][n]\n",
    "    return d"
   ]
  },
  {
   "cell_type": "code",
   "execution_count": 21,
   "metadata": {},
   "outputs": [],
   "source": [
    "ns_subreddit_01 = ns_from_sub(subreddit_ns_jan)\n",
    "ns_subreddit_02 = ns_from_sub(subreddit_ns_feb)\n",
    "ns_subreddit_03 = ns_from_sub(subreddit_ns_march)\n",
    "ns_subreddit_04 = ns_from_sub(subreddit_ns_april)\n",
    "ns_subreddit_05 = ns_from_sub(subreddit_ns_may)\n",
    "ns_subreddit_06 = ns_from_sub(subreddit_ns_jun)"
   ]
  },
  {
   "cell_type": "code",
   "execution_count": 22,
   "metadata": {},
   "outputs": [
    {
     "data": {
      "text/plain": [
       "False"
      ]
     },
     "execution_count": 22,
     "metadata": {},
     "output_type": "execute_result"
    }
   ],
   "source": [
    "\"reddit.com\" in ns_subreddit_01"
   ]
  },
  {
   "cell_type": "markdown",
   "metadata": {},
   "source": [
    "Let's use the intersection in an alphabetical order as a fixed order of our subreddits."
   ]
  },
  {
   "cell_type": "code",
   "execution_count": 23,
   "metadata": {},
   "outputs": [],
   "source": [
    "subs = sorted(set(subreddit_ns_jan) & set(subreddit_ns_feb) &\n",
    "      set(subreddit_ns_march) & set(subreddit_ns_april) &\n",
    "      set(subreddit_ns_may) & set(subreddit_ns_jun))"
   ]
  },
  {
   "cell_type": "code",
   "execution_count": 24,
   "metadata": {
    "scrolled": true
   },
   "outputs": [
    {
     "data": {
      "text/plain": [
       "74"
      ]
     },
     "execution_count": 24,
     "metadata": {},
     "output_type": "execute_result"
    }
   ],
   "source": [
    "len(subs)"
   ]
  },
  {
   "cell_type": "markdown",
   "metadata": {},
   "source": [
    "## Intersections and unions of subreddits"
   ]
  },
  {
   "cell_type": "code",
   "execution_count": 25,
   "metadata": {
    "scrolled": true
   },
   "outputs": [
    {
     "name": "stdout",
     "output_type": "stream",
     "text": [
      "intersection: 74\n"
     ]
    }
   ],
   "source": [
    "# what about their intersection?\n",
    "sr_intersection = (\n",
    "      set(subreddit_ns_jan) & set(subreddit_ns_feb) &\n",
    "      set(subreddit_ns_march) & set(subreddit_ns_april) &\n",
    "      set(subreddit_ns_may) & set(subreddit_ns_jun))\n",
    "\n",
    "print(\"intersection:\", len(sr_intersection))"
   ]
  },
  {
   "cell_type": "code",
   "execution_count": 26,
   "metadata": {},
   "outputs": [
    {
     "name": "stdout",
     "output_type": "stream",
     "text": [
      "union: 78\n"
     ]
    }
   ],
   "source": [
    "sr_union = (\n",
    "      set(subreddit_ns_jan) | set(subreddit_ns_feb) |\n",
    "      set(subreddit_ns_march) | set(subreddit_ns_april) |\n",
    "      set(subreddit_ns_may) | set(subreddit_ns_jun))\n",
    "\n",
    "print(\"union:\", len(sr_union))"
   ]
  },
  {
   "cell_type": "markdown",
   "metadata": {},
   "source": [
    "<a id=\"sub2\"></a>\n",
    "## News sources data"
   ]
  },
  {
   "cell_type": "markdown",
   "metadata": {},
   "source": [
    "How many news sources are there?"
   ]
  },
  {
   "cell_type": "code",
   "execution_count": 27,
   "metadata": {},
   "outputs": [
    {
     "data": {
      "text/plain": [
       "1311"
      ]
     },
     "execution_count": 27,
     "metadata": {},
     "output_type": "execute_result"
    }
   ],
   "source": [
    "# union\n",
    "ns_union = (set(ns_subreddit_01) |\n",
    "       set(ns_subreddit_02) |\n",
    "       set(ns_subreddit_03) |\n",
    "       set(ns_subreddit_04) |\n",
    "       set(ns_subreddit_05) |\n",
    "       set(ns_subreddit_06))\n",
    "\n",
    "len(ns_union)"
   ]
  },
  {
   "cell_type": "code",
   "execution_count": 28,
   "metadata": {},
   "outputs": [],
   "source": [
    "nss = (set(ns_subreddit_01) &\n",
    "       set(ns_subreddit_02) &\n",
    "       set(ns_subreddit_03) &\n",
    "       set(ns_subreddit_04) &\n",
    "       set(ns_subreddit_05) &\n",
    "       set(ns_subreddit_06))"
   ]
  },
  {
   "cell_type": "code",
   "execution_count": 29,
   "metadata": {},
   "outputs": [
    {
     "data": {
      "text/plain": [
       "234"
      ]
     },
     "execution_count": 29,
     "metadata": {},
     "output_type": "execute_result"
    }
   ],
   "source": [
    "num_ns = len(nss)\n",
    "num_ns"
   ]
  },
  {
   "cell_type": "markdown",
   "metadata": {},
   "source": [
    "## For each news source, let's count in how many subreddits they appear"
   ]
  },
  {
   "cell_type": "code",
   "execution_count": 30,
   "metadata": {},
   "outputs": [],
   "source": [
    "subreddit_count = dict()\n",
    "for ns in ns_union:\n",
    "    subreddit_count[ns] = len(set(ns_subreddit_01.get(ns, dict()).keys()) \n",
    "                               | set(ns_subreddit_02.get(ns, dict()).keys()) \n",
    "                               | set(ns_subreddit_03.get(ns, dict()).keys()) \n",
    "                               | set(ns_subreddit_04.get(ns, dict()).keys())\n",
    "                               | set(ns_subreddit_05.get(ns, dict()).keys()) \n",
    "                               | set(ns_subreddit_06.get(ns, dict()).keys()))"
   ]
  },
  {
   "cell_type": "markdown",
   "metadata": {},
   "source": [
    "`subreddit_count` stores in how many subreddits each news source appears."
   ]
  },
  {
   "cell_type": "code",
   "execution_count": 31,
   "metadata": {},
   "outputs": [
    {
     "data": {
      "text/plain": [
       "44"
      ]
     },
     "execution_count": 31,
     "metadata": {},
     "output_type": "execute_result"
    }
   ],
   "source": [
    "subreddit_count['nytimes.com']"
   ]
  },
  {
   "cell_type": "code",
   "execution_count": 32,
   "metadata": {},
   "outputs": [
    {
     "data": {
      "text/plain": [
       "{1: 691,\n",
       " 2: 201,\n",
       " 3: 105,\n",
       " 4: 71,\n",
       " 5: 56,\n",
       " 6: 36,\n",
       " 7: 26,\n",
       " 8: 18,\n",
       " 9: 12,\n",
       " 11: 10,\n",
       " 10: 10,\n",
       " 18: 5,\n",
       " 12: 5,\n",
       " 14: 5,\n",
       " 17: 4,\n",
       " 15: 4,\n",
       " 30: 4,\n",
       " 20: 3,\n",
       " 46: 3,\n",
       " 32: 3,\n",
       " 41: 3,\n",
       " 13: 3,\n",
       " 23: 2,\n",
       " 24: 2,\n",
       " 50: 2,\n",
       " 25: 2,\n",
       " 29: 2,\n",
       " 31: 2,\n",
       " 16: 1,\n",
       " 42: 1,\n",
       " 26: 1,\n",
       " 44: 1,\n",
       " 65: 1,\n",
       " 66: 1,\n",
       " 70: 1,\n",
       " 28: 1,\n",
       " 22: 1,\n",
       " 60: 1,\n",
       " 37: 1,\n",
       " 71: 1,\n",
       " 27: 1,\n",
       " 19: 1,\n",
       " 48: 1,\n",
       " 51: 1,\n",
       " 21: 1,\n",
       " 62: 1,\n",
       " 34: 1,\n",
       " 64: 1,\n",
       " 45: 1}"
      ]
     },
     "execution_count": 32,
     "metadata": {},
     "output_type": "execute_result"
    }
   ],
   "source": [
    "subreddit_count_freq = dict(Counter(subreddit_count.values()).most_common())\n",
    "subreddit_count_freq"
   ]
  },
  {
   "cell_type": "markdown",
   "metadata": {},
   "source": [
    "`subreddit_count_freq` keeps track of how many news sources appear in *n* subreddits for all possible *n*."
   ]
  },
  {
   "cell_type": "code",
   "execution_count": 33,
   "metadata": {},
   "outputs": [
    {
     "data": {
      "text/plain": [
       "71"
      ]
     },
     "execution_count": 33,
     "metadata": {},
     "output_type": "execute_result"
    }
   ],
   "source": [
    "max(subreddit_count_freq.keys())"
   ]
  },
  {
   "cell_type": "code",
   "execution_count": 34,
   "metadata": {},
   "outputs": [
    {
     "name": "stdout",
     "output_type": "stream",
     "text": [
      "theathletic.com is mentioned in 71 subreddits.\n",
      "espn.com is mentioned in 70 subreddits.\n",
      "bleacherreport.com is mentioned in 66 subreddits.\n",
      "cbssports.com is mentioned in 65 subreddits.\n",
      "si.com is mentioned in 64 subreddits.\n",
      "nbcsports.com is mentioned in 62 subreddits.\n",
      "usatoday.com is mentioned in 60 subreddits.\n",
      "prosportsextra.com is mentioned in 51 subreddits.\n",
      "sbnation.com is mentioned in 50 subreddits.\n",
      "theringer.com is mentioned in 50 subreddits.\n",
      "thescore.com is mentioned in 48 subreddits.\n",
      "fivethirtyeight.com is mentioned in 46 subreddits.\n",
      "msn.com is mentioned in 46 subreddits.\n",
      "fansided.com is mentioned in 46 subreddits.\n",
      "bolavip.com is mentioned in 45 subreddits.\n",
      "nytimes.com is mentioned in 44 subreddits.\n",
      "foxsports.com is mentioned in 42 subreddits.\n",
      "clutchpoints.com is mentioned in 41 subreddits.\n",
      "forbes.com is mentioned in 41 subreddits.\n",
      "nypost.com is mentioned in 41 subreddits.\n"
     ]
    }
   ],
   "source": [
    "sde_ranked = Counter(subreddit_count).most_common()\n",
    "\n",
    "for t in sde_ranked[:20]:\n",
    "    sr, co = t\n",
    "    if co > 1:\n",
    "        print(f\"{sr} is mentioned in {co} subreddits.\")"
   ]
  },
  {
   "cell_type": "code",
   "execution_count": 35,
   "metadata": {},
   "outputs": [
    {
     "data": {
      "text/plain": [
       "True"
      ]
     },
     "execution_count": 35,
     "metadata": {},
     "output_type": "execute_result"
    }
   ],
   "source": [
    "sum(subreddit_count_freq.values()) == len(ns_union)"
   ]
  },
  {
   "cell_type": "code",
   "execution_count": 36,
   "metadata": {},
   "outputs": [],
   "source": [
    "import itertools"
   ]
  },
  {
   "cell_type": "code",
   "execution_count": 37,
   "metadata": {},
   "outputs": [],
   "source": [
    "scf = list(itertools.chain.from_iterable(itertools.repeat(k,v) for k,v in subreddit_count_freq.items()))"
   ]
  },
  {
   "cell_type": "code",
   "execution_count": 38,
   "metadata": {
    "scrolled": true
   },
   "outputs": [
    {
     "data": {
      "text/plain": [
       "Text(0.5, 1.0, 'number of news sources appearing in x subreddits')"
      ]
     },
     "execution_count": 38,
     "metadata": {},
     "output_type": "execute_result"
    },
    {
     "data": {
      "image/png": "[encoded data removed]",
      "text/plain": [
       "<Figure size 432x288 with 1 Axes>"
      ]
     },
     "metadata": {
      "needs_background": "light"
     },
     "output_type": "display_data"
    }
   ],
   "source": [
    "# sns.histplot([math.log(s,10) for s in scf])\n",
    "sns.histplot(scf, log_scale=True)\n",
    "plt.xlabel(\"number of subreddit\")\n",
    "plt.ylabel(\"news source count\")\n",
    "plt.title(\"number of news sources appearing in x subreddits\")"
   ]
  },
  {
   "cell_type": "markdown",
   "metadata": {},
   "source": [
    "How many news sources only appear in 10 subreddits or less? what about 9 or 8?"
   ]
  },
  {
   "cell_type": "code",
   "execution_count": 39,
   "metadata": {},
   "outputs": [],
   "source": [
    "def pct_ns_in_k_subreddits(ks):\n",
    "    ns_in_i_subreddit = [k for k in subreddit_count if subreddit_count[k] <= ks]\n",
    "    count = len(ns_in_i_subreddit)\n",
    "    print(\"There are {} news sources appearing in only {} subreddits or less ({}%)\".format(count, ks, count/len(ns_union)))\n",
    "    return count/len(ns_union)"
   ]
  },
  {
   "cell_type": "code",
   "execution_count": 40,
   "metadata": {},
   "outputs": [
    {
     "name": "stdout",
     "output_type": "stream",
     "text": [
      "There are 1124 news sources appearing in only 5 subreddits or less (0.8573607932875668%)\n"
     ]
    },
    {
     "data": {
      "text/plain": [
       "0.8573607932875668"
      ]
     },
     "execution_count": 40,
     "metadata": {},
     "output_type": "execute_result"
    }
   ],
   "source": [
    "pct_ns_in_k_subreddits(5)"
   ]
  },
  {
   "cell_type": "code",
   "execution_count": 41,
   "metadata": {},
   "outputs": [
    {
     "data": {
      "text/plain": [
       "196.65"
      ]
     },
     "execution_count": 41,
     "metadata": {},
     "output_type": "execute_result"
    }
   ],
   "source": [
    "0.15*len(ns_union)"
   ]
  },
  {
   "cell_type": "code",
   "execution_count": 42,
   "metadata": {},
   "outputs": [
    {
     "name": "stdout",
     "output_type": "stream",
     "text": [
      "There are 0 news sources appearing in only 0 subreddits or less (0.0%)\n",
      "There are 691 news sources appearing in only 1 subreddits or less (0.5270785659801678%)\n",
      "There are 892 news sources appearing in only 2 subreddits or less (0.6803966437833715%)\n",
      "There are 997 news sources appearing in only 3 subreddits or less (0.7604881769641495%)\n",
      "There are 1068 news sources appearing in only 4 subreddits or less (0.8146453089244852%)\n",
      "There are 1124 news sources appearing in only 5 subreddits or less (0.8573607932875668%)\n",
      "There are 1160 news sources appearing in only 6 subreddits or less (0.8848207475209764%)\n",
      "There are 1186 news sources appearing in only 7 subreddits or less (0.9046529366895499%)\n",
      "There are 1204 news sources appearing in only 8 subreddits or less (0.9183829138062548%)\n",
      "There are 1216 news sources appearing in only 9 subreddits or less (0.927536231884058%)\n",
      "There are 1226 news sources appearing in only 10 subreddits or less (0.935163996948894%)\n",
      "There are 1236 news sources appearing in only 11 subreddits or less (0.9427917620137299%)\n",
      "There are 1241 news sources appearing in only 12 subreddits or less (0.9466056445461479%)\n",
      "There are 1244 news sources appearing in only 13 subreddits or less (0.9488939740655988%)\n",
      "There are 1249 news sources appearing in only 14 subreddits or less (0.9527078565980168%)\n",
      "There are 1253 news sources appearing in only 15 subreddits or less (0.9557589626239512%)\n",
      "There are 1254 news sources appearing in only 16 subreddits or less (0.9565217391304348%)\n",
      "There are 1258 news sources appearing in only 17 subreddits or less (0.9595728451563692%)\n",
      "There are 1263 news sources appearing in only 18 subreddits or less (0.9633867276887872%)\n",
      "There are 1264 news sources appearing in only 19 subreddits or less (0.9641495041952708%)\n",
      "There are 1267 news sources appearing in only 20 subreddits or less (0.9664378337147216%)\n",
      "There are 1268 news sources appearing in only 21 subreddits or less (0.9672006102212052%)\n",
      "There are 1269 news sources appearing in only 22 subreddits or less (0.9679633867276888%)\n",
      "There are 1271 news sources appearing in only 23 subreddits or less (0.969488939740656%)\n",
      "There are 1273 news sources appearing in only 24 subreddits or less (0.9710144927536232%)\n",
      "There are 1275 news sources appearing in only 25 subreddits or less (0.9725400457665904%)\n",
      "There are 1276 news sources appearing in only 26 subreddits or less (0.973302822273074%)\n",
      "There are 1277 news sources appearing in only 27 subreddits or less (0.9740655987795576%)\n",
      "There are 1278 news sources appearing in only 28 subreddits or less (0.9748283752860412%)\n",
      "There are 1280 news sources appearing in only 29 subreddits or less (0.9763539282990084%)\n",
      "There are 1284 news sources appearing in only 30 subreddits or less (0.9794050343249427%)\n",
      "There are 1286 news sources appearing in only 31 subreddits or less (0.9809305873379099%)\n",
      "There are 1289 news sources appearing in only 32 subreddits or less (0.9832189168573608%)\n",
      "There are 1289 news sources appearing in only 33 subreddits or less (0.9832189168573608%)\n",
      "There are 1290 news sources appearing in only 34 subreddits or less (0.9839816933638444%)\n",
      "There are 1290 news sources appearing in only 35 subreddits or less (0.9839816933638444%)\n",
      "There are 1290 news sources appearing in only 36 subreddits or less (0.9839816933638444%)\n",
      "There are 1291 news sources appearing in only 37 subreddits or less (0.984744469870328%)\n",
      "There are 1291 news sources appearing in only 38 subreddits or less (0.984744469870328%)\n",
      "There are 1291 news sources appearing in only 39 subreddits or less (0.984744469870328%)\n",
      "There are 1291 news sources appearing in only 40 subreddits or less (0.984744469870328%)\n",
      "There are 1294 news sources appearing in only 41 subreddits or less (0.9870327993897788%)\n",
      "There are 1295 news sources appearing in only 42 subreddits or less (0.9877955758962624%)\n",
      "There are 1295 news sources appearing in only 43 subreddits or less (0.9877955758962624%)\n",
      "There are 1296 news sources appearing in only 44 subreddits or less (0.988558352402746%)\n",
      "There are 1297 news sources appearing in only 45 subreddits or less (0.9893211289092296%)\n",
      "There are 1300 news sources appearing in only 46 subreddits or less (0.9916094584286804%)\n",
      "There are 1300 news sources appearing in only 47 subreddits or less (0.9916094584286804%)\n",
      "There are 1301 news sources appearing in only 48 subreddits or less (0.992372234935164%)\n",
      "There are 1301 news sources appearing in only 49 subreddits or less (0.992372234935164%)\n",
      "There are 1303 news sources appearing in only 50 subreddits or less (0.9938977879481312%)\n",
      "There are 1304 news sources appearing in only 51 subreddits or less (0.9946605644546148%)\n",
      "There are 1304 news sources appearing in only 52 subreddits or less (0.9946605644546148%)\n",
      "There are 1304 news sources appearing in only 53 subreddits or less (0.9946605644546148%)\n",
      "There are 1304 news sources appearing in only 54 subreddits or less (0.9946605644546148%)\n",
      "There are 1304 news sources appearing in only 55 subreddits or less (0.9946605644546148%)\n",
      "There are 1304 news sources appearing in only 56 subreddits or less (0.9946605644546148%)\n",
      "There are 1304 news sources appearing in only 57 subreddits or less (0.9946605644546148%)\n",
      "There are 1304 news sources appearing in only 58 subreddits or less (0.9946605644546148%)\n",
      "There are 1304 news sources appearing in only 59 subreddits or less (0.9946605644546148%)\n",
      "There are 1305 news sources appearing in only 60 subreddits or less (0.9954233409610984%)\n",
      "There are 1305 news sources appearing in only 61 subreddits or less (0.9954233409610984%)\n",
      "There are 1306 news sources appearing in only 62 subreddits or less (0.996186117467582%)\n",
      "There are 1306 news sources appearing in only 63 subreddits or less (0.996186117467582%)\n",
      "There are 1307 news sources appearing in only 64 subreddits or less (0.9969488939740656%)\n",
      "There are 1308 news sources appearing in only 65 subreddits or less (0.9977116704805492%)\n",
      "There are 1309 news sources appearing in only 66 subreddits or less (0.9984744469870328%)\n",
      "There are 1309 news sources appearing in only 67 subreddits or less (0.9984744469870328%)\n",
      "There are 1309 news sources appearing in only 68 subreddits or less (0.9984744469870328%)\n",
      "There are 1309 news sources appearing in only 69 subreddits or less (0.9984744469870328%)\n",
      "There are 1310 news sources appearing in only 70 subreddits or less (0.9992372234935164%)\n",
      "There are 1311 news sources appearing in only 71 subreddits or less (1.0%)\n",
      "There are 1311 news sources appearing in only 72 subreddits or less (1.0%)\n",
      "There are 1311 news sources appearing in only 73 subreddits or less (1.0%)\n",
      "There are 1311 news sources appearing in only 74 subreddits or less (1.0%)\n",
      "There are 1311 news sources appearing in only 75 subreddits or less (1.0%)\n",
      "There are 1311 news sources appearing in only 76 subreddits or less (1.0%)\n",
      "There are 1311 news sources appearing in only 77 subreddits or less (1.0%)\n",
      "There are 1311 news sources appearing in only 78 subreddits or less (1.0%)\n",
      "There are 1311 news sources appearing in only 79 subreddits or less (1.0%)\n",
      "There are 1311 news sources appearing in only 80 subreddits or less (1.0%)\n",
      "There are 1311 news sources appearing in only 81 subreddits or less (1.0%)\n",
      "There are 1311 news sources appearing in only 82 subreddits or less (1.0%)\n",
      "There are 1311 news sources appearing in only 83 subreddits or less (1.0%)\n",
      "There are 1311 news sources appearing in only 84 subreddits or less (1.0%)\n",
      "There are 1311 news sources appearing in only 85 subreddits or less (1.0%)\n",
      "There are 1311 news sources appearing in only 86 subreddits or less (1.0%)\n",
      "There are 1311 news sources appearing in only 87 subreddits or less (1.0%)\n",
      "There are 1311 news sources appearing in only 88 subreddits or less (1.0%)\n",
      "There are 1311 news sources appearing in only 89 subreddits or less (1.0%)\n",
      "There are 1311 news sources appearing in only 90 subreddits or less (1.0%)\n",
      "There are 1311 news sources appearing in only 91 subreddits or less (1.0%)\n",
      "There are 1311 news sources appearing in only 92 subreddits or less (1.0%)\n",
      "There are 1311 news sources appearing in only 93 subreddits or less (1.0%)\n",
      "There are 1311 news sources appearing in only 94 subreddits or less (1.0%)\n",
      "There are 1311 news sources appearing in only 95 subreddits or less (1.0%)\n",
      "There are 1311 news sources appearing in only 96 subreddits or less (1.0%)\n",
      "There are 1311 news sources appearing in only 97 subreddits or less (1.0%)\n",
      "There are 1311 news sources appearing in only 98 subreddits or less (1.0%)\n",
      "There are 1311 news sources appearing in only 99 subreddits or less (1.0%)\n",
      "There are 1311 news sources appearing in only 100 subreddits or less (1.0%)\n",
      "There are 1311 news sources appearing in only 101 subreddits or less (1.0%)\n",
      "There are 1311 news sources appearing in only 102 subreddits or less (1.0%)\n",
      "There are 1311 news sources appearing in only 103 subreddits or less (1.0%)\n",
      "There are 1311 news sources appearing in only 104 subreddits or less (1.0%)\n",
      "There are 1311 news sources appearing in only 105 subreddits or less (1.0%)\n",
      "There are 1311 news sources appearing in only 106 subreddits or less (1.0%)\n",
      "There are 1311 news sources appearing in only 107 subreddits or less (1.0%)\n",
      "There are 1311 news sources appearing in only 108 subreddits or less (1.0%)\n",
      "There are 1311 news sources appearing in only 109 subreddits or less (1.0%)\n",
      "There are 1311 news sources appearing in only 110 subreddits or less (1.0%)\n",
      "There are 1311 news sources appearing in only 111 subreddits or less (1.0%)\n",
      "There are 1311 news sources appearing in only 112 subreddits or less (1.0%)\n",
      "There are 1311 news sources appearing in only 113 subreddits or less (1.0%)\n",
      "There are 1311 news sources appearing in only 114 subreddits or less (1.0%)\n",
      "There are 1311 news sources appearing in only 115 subreddits or less (1.0%)\n",
      "There are 1311 news sources appearing in only 116 subreddits or less (1.0%)\n",
      "There are 1311 news sources appearing in only 117 subreddits or less (1.0%)\n",
      "There are 1311 news sources appearing in only 118 subreddits or less (1.0%)\n",
      "There are 1311 news sources appearing in only 119 subreddits or less (1.0%)\n",
      "There are 1311 news sources appearing in only 120 subreddits or less (1.0%)\n",
      "There are 1311 news sources appearing in only 121 subreddits or less (1.0%)\n",
      "There are 1311 news sources appearing in only 122 subreddits or less (1.0%)\n",
      "There are 1311 news sources appearing in only 123 subreddits or less (1.0%)\n",
      "There are 1311 news sources appearing in only 124 subreddits or less (1.0%)\n",
      "There are 1311 news sources appearing in only 125 subreddits or less (1.0%)\n",
      "There are 1311 news sources appearing in only 126 subreddits or less (1.0%)\n",
      "There are 1311 news sources appearing in only 127 subreddits or less (1.0%)\n",
      "There are 1311 news sources appearing in only 128 subreddits or less (1.0%)\n",
      "There are 1311 news sources appearing in only 129 subreddits or less (1.0%)\n",
      "There are 1311 news sources appearing in only 130 subreddits or less (1.0%)\n",
      "There are 1311 news sources appearing in only 131 subreddits or less (1.0%)\n",
      "There are 1311 news sources appearing in only 132 subreddits or less (1.0%)\n",
      "There are 1311 news sources appearing in only 133 subreddits or less (1.0%)\n",
      "There are 1311 news sources appearing in only 134 subreddits or less (1.0%)\n",
      "There are 1311 news sources appearing in only 135 subreddits or less (1.0%)\n",
      "There are 1311 news sources appearing in only 136 subreddits or less (1.0%)\n",
      "There are 1311 news sources appearing in only 137 subreddits or less (1.0%)\n",
      "There are 1311 news sources appearing in only 138 subreddits or less (1.0%)\n",
      "There are 1311 news sources appearing in only 139 subreddits or less (1.0%)\n",
      "There are 1311 news sources appearing in only 140 subreddits or less (1.0%)\n",
      "There are 1311 news sources appearing in only 141 subreddits or less (1.0%)\n",
      "There are 1311 news sources appearing in only 142 subreddits or less (1.0%)\n",
      "There are 1311 news sources appearing in only 143 subreddits or less (1.0%)\n",
      "There are 1311 news sources appearing in only 144 subreddits or less (1.0%)\n",
      "There are 1311 news sources appearing in only 145 subreddits or less (1.0%)\n",
      "There are 1311 news sources appearing in only 146 subreddits or less (1.0%)\n",
      "There are 1311 news sources appearing in only 147 subreddits or less (1.0%)\n",
      "There are 1311 news sources appearing in only 148 subreddits or less (1.0%)\n",
      "There are 1311 news sources appearing in only 149 subreddits or less (1.0%)\n",
      "There are 1311 news sources appearing in only 150 subreddits or less (1.0%)\n",
      "There are 1311 news sources appearing in only 151 subreddits or less (1.0%)\n",
      "There are 1311 news sources appearing in only 152 subreddits or less (1.0%)\n",
      "There are 1311 news sources appearing in only 153 subreddits or less (1.0%)\n",
      "There are 1311 news sources appearing in only 154 subreddits or less (1.0%)\n",
      "There are 1311 news sources appearing in only 155 subreddits or less (1.0%)\n",
      "There are 1311 news sources appearing in only 156 subreddits or less (1.0%)\n",
      "There are 1311 news sources appearing in only 157 subreddits or less (1.0%)\n",
      "There are 1311 news sources appearing in only 158 subreddits or less (1.0%)\n",
      "There are 1311 news sources appearing in only 159 subreddits or less (1.0%)\n",
      "There are 1311 news sources appearing in only 160 subreddits or less (1.0%)\n",
      "There are 1311 news sources appearing in only 161 subreddits or less (1.0%)\n",
      "There are 1311 news sources appearing in only 162 subreddits or less (1.0%)\n",
      "There are 1311 news sources appearing in only 163 subreddits or less (1.0%)\n",
      "There are 1311 news sources appearing in only 164 subreddits or less (1.0%)\n",
      "There are 1311 news sources appearing in only 165 subreddits or less (1.0%)\n",
      "There are 1311 news sources appearing in only 166 subreddits or less (1.0%)\n",
      "There are 1311 news sources appearing in only 167 subreddits or less (1.0%)\n",
      "There are 1311 news sources appearing in only 168 subreddits or less (1.0%)\n",
      "There are 1311 news sources appearing in only 169 subreddits or less (1.0%)\n",
      "There are 1311 news sources appearing in only 170 subreddits or less (1.0%)\n",
      "There are 1311 news sources appearing in only 171 subreddits or less (1.0%)\n",
      "There are 1311 news sources appearing in only 172 subreddits or less (1.0%)\n",
      "There are 1311 news sources appearing in only 173 subreddits or less (1.0%)\n",
      "There are 1311 news sources appearing in only 174 subreddits or less (1.0%)\n",
      "There are 1311 news sources appearing in only 175 subreddits or less (1.0%)\n",
      "There are 1311 news sources appearing in only 176 subreddits or less (1.0%)\n",
      "There are 1311 news sources appearing in only 177 subreddits or less (1.0%)\n",
      "There are 1311 news sources appearing in only 178 subreddits or less (1.0%)\n",
      "There are 1311 news sources appearing in only 179 subreddits or less (1.0%)\n",
      "There are 1311 news sources appearing in only 180 subreddits or less (1.0%)\n",
      "There are 1311 news sources appearing in only 181 subreddits or less (1.0%)\n",
      "There are 1311 news sources appearing in only 182 subreddits or less (1.0%)\n",
      "There are 1311 news sources appearing in only 183 subreddits or less (1.0%)\n",
      "There are 1311 news sources appearing in only 184 subreddits or less (1.0%)\n",
      "There are 1311 news sources appearing in only 185 subreddits or less (1.0%)\n",
      "There are 1311 news sources appearing in only 186 subreddits or less (1.0%)\n",
      "There are 1311 news sources appearing in only 187 subreddits or less (1.0%)\n",
      "There are 1311 news sources appearing in only 188 subreddits or less (1.0%)\n",
      "There are 1311 news sources appearing in only 189 subreddits or less (1.0%)\n",
      "There are 1311 news sources appearing in only 190 subreddits or less (1.0%)\n",
      "There are 1311 news sources appearing in only 191 subreddits or less (1.0%)\n",
      "There are 1311 news sources appearing in only 192 subreddits or less (1.0%)\n",
      "There are 1311 news sources appearing in only 193 subreddits or less (1.0%)\n",
      "There are 1311 news sources appearing in only 194 subreddits or less (1.0%)\n",
      "There are 1311 news sources appearing in only 195 subreddits or less (1.0%)\n",
      "There are 1311 news sources appearing in only 196 subreddits or less (1.0%)\n",
      "There are 1311 news sources appearing in only 197 subreddits or less (1.0%)\n",
      "There are 1311 news sources appearing in only 198 subreddits or less (1.0%)\n",
      "There are 1311 news sources appearing in only 199 subreddits or less (1.0%)\n",
      "There are 1311 news sources appearing in only 200 subreddits or less (1.0%)\n",
      "There are 1311 news sources appearing in only 201 subreddits or less (1.0%)\n",
      "There are 1311 news sources appearing in only 202 subreddits or less (1.0%)\n",
      "There are 1311 news sources appearing in only 203 subreddits or less (1.0%)\n",
      "There are 1311 news sources appearing in only 204 subreddits or less (1.0%)\n",
      "There are 1311 news sources appearing in only 205 subreddits or less (1.0%)\n",
      "There are 1311 news sources appearing in only 206 subreddits or less (1.0%)\n",
      "There are 1311 news sources appearing in only 207 subreddits or less (1.0%)\n",
      "There are 1311 news sources appearing in only 208 subreddits or less (1.0%)\n",
      "There are 1311 news sources appearing in only 209 subreddits or less (1.0%)\n",
      "There are 1311 news sources appearing in only 210 subreddits or less (1.0%)\n",
      "There are 1311 news sources appearing in only 211 subreddits or less (1.0%)\n",
      "There are 1311 news sources appearing in only 212 subreddits or less (1.0%)\n",
      "There are 1311 news sources appearing in only 213 subreddits or less (1.0%)\n",
      "There are 1311 news sources appearing in only 214 subreddits or less (1.0%)\n",
      "There are 1311 news sources appearing in only 215 subreddits or less (1.0%)\n",
      "There are 1311 news sources appearing in only 216 subreddits or less (1.0%)\n",
      "There are 1311 news sources appearing in only 217 subreddits or less (1.0%)\n",
      "There are 1311 news sources appearing in only 218 subreddits or less (1.0%)\n",
      "There are 1311 news sources appearing in only 219 subreddits or less (1.0%)\n",
      "There are 1311 news sources appearing in only 220 subreddits or less (1.0%)\n",
      "There are 1311 news sources appearing in only 221 subreddits or less (1.0%)\n",
      "There are 1311 news sources appearing in only 222 subreddits or less (1.0%)\n",
      "There are 1311 news sources appearing in only 223 subreddits or less (1.0%)\n",
      "There are 1311 news sources appearing in only 224 subreddits or less (1.0%)\n",
      "There are 1311 news sources appearing in only 225 subreddits or less (1.0%)\n",
      "There are 1311 news sources appearing in only 226 subreddits or less (1.0%)\n",
      "There are 1311 news sources appearing in only 227 subreddits or less (1.0%)\n",
      "There are 1311 news sources appearing in only 228 subreddits or less (1.0%)\n",
      "There are 1311 news sources appearing in only 229 subreddits or less (1.0%)\n",
      "There are 1311 news sources appearing in only 230 subreddits or less (1.0%)\n",
      "There are 1311 news sources appearing in only 231 subreddits or less (1.0%)\n",
      "There are 1311 news sources appearing in only 232 subreddits or less (1.0%)\n",
      "There are 1311 news sources appearing in only 233 subreddits or less (1.0%)\n",
      "There are 1311 news sources appearing in only 234 subreddits or less (1.0%)\n",
      "There are 1311 news sources appearing in only 235 subreddits or less (1.0%)\n",
      "There are 1311 news sources appearing in only 236 subreddits or less (1.0%)\n",
      "There are 1311 news sources appearing in only 237 subreddits or less (1.0%)\n",
      "There are 1311 news sources appearing in only 238 subreddits or less (1.0%)\n",
      "There are 1311 news sources appearing in only 239 subreddits or less (1.0%)\n",
      "There are 1311 news sources appearing in only 240 subreddits or less (1.0%)\n",
      "There are 1311 news sources appearing in only 241 subreddits or less (1.0%)\n",
      "There are 1311 news sources appearing in only 242 subreddits or less (1.0%)\n",
      "There are 1311 news sources appearing in only 243 subreddits or less (1.0%)\n",
      "There are 1311 news sources appearing in only 244 subreddits or less (1.0%)\n",
      "There are 1311 news sources appearing in only 245 subreddits or less (1.0%)\n",
      "There are 1311 news sources appearing in only 246 subreddits or less (1.0%)\n",
      "There are 1311 news sources appearing in only 247 subreddits or less (1.0%)\n",
      "There are 1311 news sources appearing in only 248 subreddits or less (1.0%)\n",
      "There are 1311 news sources appearing in only 249 subreddits or less (1.0%)\n",
      "There are 1311 news sources appearing in only 250 subreddits or less (1.0%)\n",
      "There are 1311 news sources appearing in only 251 subreddits or less (1.0%)\n",
      "There are 1311 news sources appearing in only 252 subreddits or less (1.0%)\n",
      "There are 1311 news sources appearing in only 253 subreddits or less (1.0%)\n",
      "There are 1311 news sources appearing in only 254 subreddits or less (1.0%)\n",
      "There are 1311 news sources appearing in only 255 subreddits or less (1.0%)\n",
      "There are 1311 news sources appearing in only 256 subreddits or less (1.0%)\n",
      "There are 1311 news sources appearing in only 257 subreddits or less (1.0%)\n",
      "There are 1311 news sources appearing in only 258 subreddits or less (1.0%)\n",
      "There are 1311 news sources appearing in only 259 subreddits or less (1.0%)\n",
      "There are 1311 news sources appearing in only 260 subreddits or less (1.0%)\n",
      "There are 1311 news sources appearing in only 261 subreddits or less (1.0%)\n",
      "There are 1311 news sources appearing in only 262 subreddits or less (1.0%)\n",
      "There are 1311 news sources appearing in only 263 subreddits or less (1.0%)\n",
      "There are 1311 news sources appearing in only 264 subreddits or less (1.0%)\n",
      "There are 1311 news sources appearing in only 265 subreddits or less (1.0%)\n",
      "There are 1311 news sources appearing in only 266 subreddits or less (1.0%)\n",
      "There are 1311 news sources appearing in only 267 subreddits or less (1.0%)\n",
      "There are 1311 news sources appearing in only 268 subreddits or less (1.0%)\n",
      "There are 1311 news sources appearing in only 269 subreddits or less (1.0%)\n",
      "There are 1311 news sources appearing in only 270 subreddits or less (1.0%)\n",
      "There are 1311 news sources appearing in only 271 subreddits or less (1.0%)\n",
      "There are 1311 news sources appearing in only 272 subreddits or less (1.0%)\n",
      "There are 1311 news sources appearing in only 273 subreddits or less (1.0%)\n",
      "There are 1311 news sources appearing in only 274 subreddits or less (1.0%)\n",
      "There are 1311 news sources appearing in only 275 subreddits or less (1.0%)\n",
      "There are 1311 news sources appearing in only 276 subreddits or less (1.0%)\n",
      "There are 1311 news sources appearing in only 277 subreddits or less (1.0%)\n",
      "There are 1311 news sources appearing in only 278 subreddits or less (1.0%)\n",
      "There are 1311 news sources appearing in only 279 subreddits or less (1.0%)\n",
      "There are 1311 news sources appearing in only 280 subreddits or less (1.0%)\n",
      "There are 1311 news sources appearing in only 281 subreddits or less (1.0%)\n",
      "There are 1311 news sources appearing in only 282 subreddits or less (1.0%)\n",
      "There are 1311 news sources appearing in only 283 subreddits or less (1.0%)\n",
      "There are 1311 news sources appearing in only 284 subreddits or less (1.0%)\n",
      "There are 1311 news sources appearing in only 285 subreddits or less (1.0%)\n",
      "There are 1311 news sources appearing in only 286 subreddits or less (1.0%)\n",
      "There are 1311 news sources appearing in only 287 subreddits or less (1.0%)\n",
      "There are 1311 news sources appearing in only 288 subreddits or less (1.0%)\n",
      "There are 1311 news sources appearing in only 289 subreddits or less (1.0%)\n",
      "There are 1311 news sources appearing in only 290 subreddits or less (1.0%)\n",
      "There are 1311 news sources appearing in only 291 subreddits or less (1.0%)\n",
      "There are 1311 news sources appearing in only 292 subreddits or less (1.0%)\n",
      "There are 1311 news sources appearing in only 293 subreddits or less (1.0%)\n",
      "There are 1311 news sources appearing in only 294 subreddits or less (1.0%)\n",
      "There are 1311 news sources appearing in only 295 subreddits or less (1.0%)\n",
      "There are 1311 news sources appearing in only 296 subreddits or less (1.0%)\n",
      "There are 1311 news sources appearing in only 297 subreddits or less (1.0%)\n",
      "There are 1311 news sources appearing in only 298 subreddits or less (1.0%)\n",
      "There are 1311 news sources appearing in only 299 subreddits or less (1.0%)\n",
      "There are 1311 news sources appearing in only 300 subreddits or less (1.0%)\n",
      "There are 1311 news sources appearing in only 301 subreddits or less (1.0%)\n",
      "There are 1311 news sources appearing in only 302 subreddits or less (1.0%)\n",
      "There are 1311 news sources appearing in only 303 subreddits or less (1.0%)\n",
      "There are 1311 news sources appearing in only 304 subreddits or less (1.0%)\n",
      "There are 1311 news sources appearing in only 305 subreddits or less (1.0%)\n",
      "There are 1311 news sources appearing in only 306 subreddits or less (1.0%)\n",
      "There are 1311 news sources appearing in only 307 subreddits or less (1.0%)\n",
      "There are 1311 news sources appearing in only 308 subreddits or less (1.0%)\n",
      "There are 1311 news sources appearing in only 309 subreddits or less (1.0%)\n",
      "There are 1311 news sources appearing in only 310 subreddits or less (1.0%)\n",
      "There are 1311 news sources appearing in only 311 subreddits or less (1.0%)\n",
      "There are 1311 news sources appearing in only 312 subreddits or less (1.0%)\n",
      "There are 1311 news sources appearing in only 313 subreddits or less (1.0%)\n",
      "There are 1311 news sources appearing in only 314 subreddits or less (1.0%)\n",
      "There are 1311 news sources appearing in only 315 subreddits or less (1.0%)\n",
      "There are 1311 news sources appearing in only 316 subreddits or less (1.0%)\n",
      "There are 1311 news sources appearing in only 317 subreddits or less (1.0%)\n",
      "There are 1311 news sources appearing in only 318 subreddits or less (1.0%)\n",
      "There are 1311 news sources appearing in only 319 subreddits or less (1.0%)\n",
      "There are 1311 news sources appearing in only 320 subreddits or less (1.0%)\n",
      "There are 1311 news sources appearing in only 321 subreddits or less (1.0%)\n",
      "There are 1311 news sources appearing in only 322 subreddits or less (1.0%)\n",
      "There are 1311 news sources appearing in only 323 subreddits or less (1.0%)\n",
      "There are 1311 news sources appearing in only 324 subreddits or less (1.0%)\n",
      "There are 1311 news sources appearing in only 325 subreddits or less (1.0%)\n",
      "There are 1311 news sources appearing in only 326 subreddits or less (1.0%)\n",
      "There are 1311 news sources appearing in only 327 subreddits or less (1.0%)\n",
      "There are 1311 news sources appearing in only 328 subreddits or less (1.0%)\n",
      "There are 1311 news sources appearing in only 329 subreddits or less (1.0%)\n",
      "There are 1311 news sources appearing in only 330 subreddits or less (1.0%)\n",
      "There are 1311 news sources appearing in only 331 subreddits or less (1.0%)\n",
      "There are 1311 news sources appearing in only 332 subreddits or less (1.0%)\n",
      "There are 1311 news sources appearing in only 333 subreddits or less (1.0%)\n",
      "There are 1311 news sources appearing in only 334 subreddits or less (1.0%)\n",
      "There are 1311 news sources appearing in only 335 subreddits or less (1.0%)\n",
      "There are 1311 news sources appearing in only 336 subreddits or less (1.0%)\n",
      "There are 1311 news sources appearing in only 337 subreddits or less (1.0%)\n",
      "There are 1311 news sources appearing in only 338 subreddits or less (1.0%)\n",
      "There are 1311 news sources appearing in only 339 subreddits or less (1.0%)\n",
      "There are 1311 news sources appearing in only 340 subreddits or less (1.0%)\n",
      "There are 1311 news sources appearing in only 341 subreddits or less (1.0%)\n",
      "There are 1311 news sources appearing in only 342 subreddits or less (1.0%)\n",
      "There are 1311 news sources appearing in only 343 subreddits or less (1.0%)\n",
      "There are 1311 news sources appearing in only 344 subreddits or less (1.0%)\n",
      "There are 1311 news sources appearing in only 345 subreddits or less (1.0%)\n",
      "There are 1311 news sources appearing in only 346 subreddits or less (1.0%)\n",
      "There are 1311 news sources appearing in only 347 subreddits or less (1.0%)\n",
      "There are 1311 news sources appearing in only 348 subreddits or less (1.0%)\n",
      "There are 1311 news sources appearing in only 349 subreddits or less (1.0%)\n",
      "There are 1311 news sources appearing in only 350 subreddits or less (1.0%)\n",
      "There are 1311 news sources appearing in only 351 subreddits or less (1.0%)\n",
      "There are 1311 news sources appearing in only 352 subreddits or less (1.0%)\n",
      "There are 1311 news sources appearing in only 353 subreddits or less (1.0%)\n",
      "There are 1311 news sources appearing in only 354 subreddits or less (1.0%)\n",
      "There are 1311 news sources appearing in only 355 subreddits or less (1.0%)\n",
      "There are 1311 news sources appearing in only 356 subreddits or less (1.0%)\n",
      "There are 1311 news sources appearing in only 357 subreddits or less (1.0%)\n",
      "There are 1311 news sources appearing in only 358 subreddits or less (1.0%)\n",
      "There are 1311 news sources appearing in only 359 subreddits or less (1.0%)\n",
      "There are 1311 news sources appearing in only 360 subreddits or less (1.0%)\n",
      "There are 1311 news sources appearing in only 361 subreddits or less (1.0%)\n",
      "There are 1311 news sources appearing in only 362 subreddits or less (1.0%)\n",
      "There are 1311 news sources appearing in only 363 subreddits or less (1.0%)\n",
      "There are 1311 news sources appearing in only 364 subreddits or less (1.0%)\n",
      "There are 1311 news sources appearing in only 365 subreddits or less (1.0%)\n",
      "There are 1311 news sources appearing in only 366 subreddits or less (1.0%)\n",
      "There are 1311 news sources appearing in only 367 subreddits or less (1.0%)\n",
      "There are 1311 news sources appearing in only 368 subreddits or less (1.0%)\n",
      "There are 1311 news sources appearing in only 369 subreddits or less (1.0%)\n",
      "There are 1311 news sources appearing in only 370 subreddits or less (1.0%)\n",
      "There are 1311 news sources appearing in only 371 subreddits or less (1.0%)\n",
      "There are 1311 news sources appearing in only 372 subreddits or less (1.0%)\n",
      "There are 1311 news sources appearing in only 373 subreddits or less (1.0%)\n",
      "There are 1311 news sources appearing in only 374 subreddits or less (1.0%)\n",
      "There are 1311 news sources appearing in only 375 subreddits or less (1.0%)\n",
      "There are 1311 news sources appearing in only 376 subreddits or less (1.0%)\n",
      "There are 1311 news sources appearing in only 377 subreddits or less (1.0%)\n",
      "There are 1311 news sources appearing in only 378 subreddits or less (1.0%)\n",
      "There are 1311 news sources appearing in only 379 subreddits or less (1.0%)\n",
      "There are 1311 news sources appearing in only 380 subreddits or less (1.0%)\n",
      "There are 1311 news sources appearing in only 381 subreddits or less (1.0%)\n",
      "There are 1311 news sources appearing in only 382 subreddits or less (1.0%)\n",
      "There are 1311 news sources appearing in only 383 subreddits or less (1.0%)\n",
      "There are 1311 news sources appearing in only 384 subreddits or less (1.0%)\n",
      "There are 1311 news sources appearing in only 385 subreddits or less (1.0%)\n",
      "There are 1311 news sources appearing in only 386 subreddits or less (1.0%)\n",
      "There are 1311 news sources appearing in only 387 subreddits or less (1.0%)\n",
      "There are 1311 news sources appearing in only 388 subreddits or less (1.0%)\n",
      "There are 1311 news sources appearing in only 389 subreddits or less (1.0%)\n",
      "There are 1311 news sources appearing in only 390 subreddits or less (1.0%)\n",
      "There are 1311 news sources appearing in only 391 subreddits or less (1.0%)\n",
      "There are 1311 news sources appearing in only 392 subreddits or less (1.0%)\n",
      "There are 1311 news sources appearing in only 393 subreddits or less (1.0%)\n",
      "There are 1311 news sources appearing in only 394 subreddits or less (1.0%)\n",
      "There are 1311 news sources appearing in only 395 subreddits or less (1.0%)\n",
      "There are 1311 news sources appearing in only 396 subreddits or less (1.0%)\n",
      "There are 1311 news sources appearing in only 397 subreddits or less (1.0%)\n",
      "There are 1311 news sources appearing in only 398 subreddits or less (1.0%)\n",
      "There are 1311 news sources appearing in only 399 subreddits or less (1.0%)\n",
      "There are 1311 news sources appearing in only 400 subreddits or less (1.0%)\n",
      "There are 1311 news sources appearing in only 401 subreddits or less (1.0%)\n",
      "There are 1311 news sources appearing in only 402 subreddits or less (1.0%)\n",
      "There are 1311 news sources appearing in only 403 subreddits or less (1.0%)\n",
      "There are 1311 news sources appearing in only 404 subreddits or less (1.0%)\n",
      "There are 1311 news sources appearing in only 405 subreddits or less (1.0%)\n",
      "There are 1311 news sources appearing in only 406 subreddits or less (1.0%)\n",
      "There are 1311 news sources appearing in only 407 subreddits or less (1.0%)\n",
      "There are 1311 news sources appearing in only 408 subreddits or less (1.0%)\n",
      "There are 1311 news sources appearing in only 409 subreddits or less (1.0%)\n",
      "There are 1311 news sources appearing in only 410 subreddits or less (1.0%)\n",
      "There are 1311 news sources appearing in only 411 subreddits or less (1.0%)\n",
      "There are 1311 news sources appearing in only 412 subreddits or less (1.0%)\n",
      "There are 1311 news sources appearing in only 413 subreddits or less (1.0%)\n",
      "There are 1311 news sources appearing in only 414 subreddits or less (1.0%)\n",
      "There are 1311 news sources appearing in only 415 subreddits or less (1.0%)\n",
      "There are 1311 news sources appearing in only 416 subreddits or less (1.0%)\n",
      "There are 1311 news sources appearing in only 417 subreddits or less (1.0%)\n",
      "There are 1311 news sources appearing in only 418 subreddits or less (1.0%)\n",
      "There are 1311 news sources appearing in only 419 subreddits or less (1.0%)\n",
      "There are 1311 news sources appearing in only 420 subreddits or less (1.0%)\n"
     ]
    },
    {
     "name": "stdout",
     "output_type": "stream",
     "text": [
      "There are 1311 news sources appearing in only 421 subreddits or less (1.0%)\n",
      "There are 1311 news sources appearing in only 422 subreddits or less (1.0%)\n",
      "There are 1311 news sources appearing in only 423 subreddits or less (1.0%)\n",
      "There are 1311 news sources appearing in only 424 subreddits or less (1.0%)\n",
      "There are 1311 news sources appearing in only 425 subreddits or less (1.0%)\n",
      "There are 1311 news sources appearing in only 426 subreddits or less (1.0%)\n",
      "There are 1311 news sources appearing in only 427 subreddits or less (1.0%)\n",
      "There are 1311 news sources appearing in only 428 subreddits or less (1.0%)\n",
      "There are 1311 news sources appearing in only 429 subreddits or less (1.0%)\n",
      "There are 1311 news sources appearing in only 430 subreddits or less (1.0%)\n",
      "There are 1311 news sources appearing in only 431 subreddits or less (1.0%)\n",
      "There are 1311 news sources appearing in only 432 subreddits or less (1.0%)\n",
      "There are 1311 news sources appearing in only 433 subreddits or less (1.0%)\n",
      "There are 1311 news sources appearing in only 434 subreddits or less (1.0%)\n",
      "There are 1311 news sources appearing in only 435 subreddits or less (1.0%)\n",
      "There are 1311 news sources appearing in only 436 subreddits or less (1.0%)\n",
      "There are 1311 news sources appearing in only 437 subreddits or less (1.0%)\n",
      "There are 1311 news sources appearing in only 438 subreddits or less (1.0%)\n",
      "There are 1311 news sources appearing in only 439 subreddits or less (1.0%)\n",
      "There are 1311 news sources appearing in only 440 subreddits or less (1.0%)\n",
      "There are 1311 news sources appearing in only 441 subreddits or less (1.0%)\n",
      "There are 1311 news sources appearing in only 442 subreddits or less (1.0%)\n",
      "There are 1311 news sources appearing in only 443 subreddits or less (1.0%)\n",
      "There are 1311 news sources appearing in only 444 subreddits or less (1.0%)\n",
      "There are 1311 news sources appearing in only 445 subreddits or less (1.0%)\n",
      "There are 1311 news sources appearing in only 446 subreddits or less (1.0%)\n",
      "There are 1311 news sources appearing in only 447 subreddits or less (1.0%)\n",
      "There are 1311 news sources appearing in only 448 subreddits or less (1.0%)\n",
      "There are 1311 news sources appearing in only 449 subreddits or less (1.0%)\n",
      "There are 1311 news sources appearing in only 450 subreddits or less (1.0%)\n",
      "There are 1311 news sources appearing in only 451 subreddits or less (1.0%)\n",
      "There are 1311 news sources appearing in only 452 subreddits or less (1.0%)\n",
      "There are 1311 news sources appearing in only 453 subreddits or less (1.0%)\n",
      "There are 1311 news sources appearing in only 454 subreddits or less (1.0%)\n",
      "There are 1311 news sources appearing in only 455 subreddits or less (1.0%)\n",
      "There are 1311 news sources appearing in only 456 subreddits or less (1.0%)\n",
      "There are 1311 news sources appearing in only 457 subreddits or less (1.0%)\n",
      "There are 1311 news sources appearing in only 458 subreddits or less (1.0%)\n",
      "There are 1311 news sources appearing in only 459 subreddits or less (1.0%)\n",
      "There are 1311 news sources appearing in only 460 subreddits or less (1.0%)\n",
      "There are 1311 news sources appearing in only 461 subreddits or less (1.0%)\n",
      "There are 1311 news sources appearing in only 462 subreddits or less (1.0%)\n",
      "There are 1311 news sources appearing in only 463 subreddits or less (1.0%)\n",
      "There are 1311 news sources appearing in only 464 subreddits or less (1.0%)\n",
      "There are 1311 news sources appearing in only 465 subreddits or less (1.0%)\n",
      "There are 1311 news sources appearing in only 466 subreddits or less (1.0%)\n",
      "There are 1311 news sources appearing in only 467 subreddits or less (1.0%)\n",
      "There are 1311 news sources appearing in only 468 subreddits or less (1.0%)\n",
      "There are 1311 news sources appearing in only 469 subreddits or less (1.0%)\n",
      "There are 1311 news sources appearing in only 470 subreddits or less (1.0%)\n",
      "There are 1311 news sources appearing in only 471 subreddits or less (1.0%)\n",
      "There are 1311 news sources appearing in only 472 subreddits or less (1.0%)\n",
      "There are 1311 news sources appearing in only 473 subreddits or less (1.0%)\n",
      "There are 1311 news sources appearing in only 474 subreddits or less (1.0%)\n",
      "There are 1311 news sources appearing in only 475 subreddits or less (1.0%)\n",
      "There are 1311 news sources appearing in only 476 subreddits or less (1.0%)\n",
      "There are 1311 news sources appearing in only 477 subreddits or less (1.0%)\n",
      "There are 1311 news sources appearing in only 478 subreddits or less (1.0%)\n",
      "There are 1311 news sources appearing in only 479 subreddits or less (1.0%)\n",
      "There are 1311 news sources appearing in only 480 subreddits or less (1.0%)\n",
      "There are 1311 news sources appearing in only 481 subreddits or less (1.0%)\n",
      "There are 1311 news sources appearing in only 482 subreddits or less (1.0%)\n",
      "There are 1311 news sources appearing in only 483 subreddits or less (1.0%)\n",
      "There are 1311 news sources appearing in only 484 subreddits or less (1.0%)\n",
      "There are 1311 news sources appearing in only 485 subreddits or less (1.0%)\n",
      "There are 1311 news sources appearing in only 486 subreddits or less (1.0%)\n",
      "There are 1311 news sources appearing in only 487 subreddits or less (1.0%)\n",
      "There are 1311 news sources appearing in only 488 subreddits or less (1.0%)\n",
      "There are 1311 news sources appearing in only 489 subreddits or less (1.0%)\n",
      "There are 1311 news sources appearing in only 490 subreddits or less (1.0%)\n",
      "There are 1311 news sources appearing in only 491 subreddits or less (1.0%)\n",
      "There are 1311 news sources appearing in only 492 subreddits or less (1.0%)\n",
      "There are 1311 news sources appearing in only 493 subreddits or less (1.0%)\n",
      "There are 1311 news sources appearing in only 494 subreddits or less (1.0%)\n",
      "There are 1311 news sources appearing in only 495 subreddits or less (1.0%)\n",
      "There are 1311 news sources appearing in only 496 subreddits or less (1.0%)\n",
      "There are 1311 news sources appearing in only 497 subreddits or less (1.0%)\n",
      "There are 1311 news sources appearing in only 498 subreddits or less (1.0%)\n",
      "There are 1311 news sources appearing in only 499 subreddits or less (1.0%)\n",
      "There are 1311 news sources appearing in only 500 subreddits or less (1.0%)\n",
      "There are 1311 news sources appearing in only 501 subreddits or less (1.0%)\n",
      "There are 1311 news sources appearing in only 502 subreddits or less (1.0%)\n",
      "There are 1311 news sources appearing in only 503 subreddits or less (1.0%)\n",
      "There are 1311 news sources appearing in only 504 subreddits or less (1.0%)\n",
      "There are 1311 news sources appearing in only 505 subreddits or less (1.0%)\n",
      "There are 1311 news sources appearing in only 506 subreddits or less (1.0%)\n",
      "There are 1311 news sources appearing in only 507 subreddits or less (1.0%)\n",
      "There are 1311 news sources appearing in only 508 subreddits or less (1.0%)\n",
      "There are 1311 news sources appearing in only 509 subreddits or less (1.0%)\n",
      "There are 1311 news sources appearing in only 510 subreddits or less (1.0%)\n",
      "There are 1311 news sources appearing in only 511 subreddits or less (1.0%)\n",
      "There are 1311 news sources appearing in only 512 subreddits or less (1.0%)\n",
      "There are 1311 news sources appearing in only 513 subreddits or less (1.0%)\n",
      "There are 1311 news sources appearing in only 514 subreddits or less (1.0%)\n",
      "There are 1311 news sources appearing in only 515 subreddits or less (1.0%)\n",
      "There are 1311 news sources appearing in only 516 subreddits or less (1.0%)\n",
      "There are 1311 news sources appearing in only 517 subreddits or less (1.0%)\n",
      "There are 1311 news sources appearing in only 518 subreddits or less (1.0%)\n",
      "There are 1311 news sources appearing in only 519 subreddits or less (1.0%)\n",
      "There are 1311 news sources appearing in only 520 subreddits or less (1.0%)\n",
      "There are 1311 news sources appearing in only 521 subreddits or less (1.0%)\n",
      "There are 1311 news sources appearing in only 522 subreddits or less (1.0%)\n",
      "There are 1311 news sources appearing in only 523 subreddits or less (1.0%)\n",
      "There are 1311 news sources appearing in only 524 subreddits or less (1.0%)\n",
      "There are 1311 news sources appearing in only 525 subreddits or less (1.0%)\n",
      "There are 1311 news sources appearing in only 526 subreddits or less (1.0%)\n",
      "There are 1311 news sources appearing in only 527 subreddits or less (1.0%)\n",
      "There are 1311 news sources appearing in only 528 subreddits or less (1.0%)\n",
      "There are 1311 news sources appearing in only 529 subreddits or less (1.0%)\n",
      "There are 1311 news sources appearing in only 530 subreddits or less (1.0%)\n",
      "There are 1311 news sources appearing in only 531 subreddits or less (1.0%)\n",
      "There are 1311 news sources appearing in only 532 subreddits or less (1.0%)\n",
      "There are 1311 news sources appearing in only 533 subreddits or less (1.0%)\n",
      "There are 1311 news sources appearing in only 534 subreddits or less (1.0%)\n",
      "There are 1311 news sources appearing in only 535 subreddits or less (1.0%)\n",
      "There are 1311 news sources appearing in only 536 subreddits or less (1.0%)\n",
      "There are 1311 news sources appearing in only 537 subreddits or less (1.0%)\n",
      "There are 1311 news sources appearing in only 538 subreddits or less (1.0%)\n",
      "There are 1311 news sources appearing in only 539 subreddits or less (1.0%)\n",
      "There are 1311 news sources appearing in only 540 subreddits or less (1.0%)\n",
      "There are 1311 news sources appearing in only 541 subreddits or less (1.0%)\n",
      "There are 1311 news sources appearing in only 542 subreddits or less (1.0%)\n",
      "There are 1311 news sources appearing in only 543 subreddits or less (1.0%)\n",
      "There are 1311 news sources appearing in only 544 subreddits or less (1.0%)\n",
      "There are 1311 news sources appearing in only 545 subreddits or less (1.0%)\n",
      "There are 1311 news sources appearing in only 546 subreddits or less (1.0%)\n",
      "There are 1311 news sources appearing in only 547 subreddits or less (1.0%)\n",
      "There are 1311 news sources appearing in only 548 subreddits or less (1.0%)\n",
      "There are 1311 news sources appearing in only 549 subreddits or less (1.0%)\n",
      "There are 1311 news sources appearing in only 550 subreddits or less (1.0%)\n",
      "There are 1311 news sources appearing in only 551 subreddits or less (1.0%)\n",
      "There are 1311 news sources appearing in only 552 subreddits or less (1.0%)\n",
      "There are 1311 news sources appearing in only 553 subreddits or less (1.0%)\n",
      "There are 1311 news sources appearing in only 554 subreddits or less (1.0%)\n",
      "There are 1311 news sources appearing in only 555 subreddits or less (1.0%)\n",
      "There are 1311 news sources appearing in only 556 subreddits or less (1.0%)\n",
      "There are 1311 news sources appearing in only 557 subreddits or less (1.0%)\n",
      "There are 1311 news sources appearing in only 558 subreddits or less (1.0%)\n",
      "There are 1311 news sources appearing in only 559 subreddits or less (1.0%)\n",
      "There are 1311 news sources appearing in only 560 subreddits or less (1.0%)\n",
      "There are 1311 news sources appearing in only 561 subreddits or less (1.0%)\n",
      "There are 1311 news sources appearing in only 562 subreddits or less (1.0%)\n",
      "There are 1311 news sources appearing in only 563 subreddits or less (1.0%)\n",
      "There are 1311 news sources appearing in only 564 subreddits or less (1.0%)\n",
      "There are 1311 news sources appearing in only 565 subreddits or less (1.0%)\n",
      "There are 1311 news sources appearing in only 566 subreddits or less (1.0%)\n",
      "There are 1311 news sources appearing in only 567 subreddits or less (1.0%)\n",
      "There are 1311 news sources appearing in only 568 subreddits or less (1.0%)\n",
      "There are 1311 news sources appearing in only 569 subreddits or less (1.0%)\n",
      "There are 1311 news sources appearing in only 570 subreddits or less (1.0%)\n",
      "There are 1311 news sources appearing in only 571 subreddits or less (1.0%)\n",
      "There are 1311 news sources appearing in only 572 subreddits or less (1.0%)\n",
      "There are 1311 news sources appearing in only 573 subreddits or less (1.0%)\n",
      "There are 1311 news sources appearing in only 574 subreddits or less (1.0%)\n",
      "There are 1311 news sources appearing in only 575 subreddits or less (1.0%)\n",
      "There are 1311 news sources appearing in only 576 subreddits or less (1.0%)\n",
      "There are 1311 news sources appearing in only 577 subreddits or less (1.0%)\n",
      "There are 1311 news sources appearing in only 578 subreddits or less (1.0%)\n",
      "There are 1311 news sources appearing in only 579 subreddits or less (1.0%)\n",
      "There are 1311 news sources appearing in only 580 subreddits or less (1.0%)\n",
      "There are 1311 news sources appearing in only 581 subreddits or less (1.0%)\n",
      "There are 1311 news sources appearing in only 582 subreddits or less (1.0%)\n",
      "There are 1311 news sources appearing in only 583 subreddits or less (1.0%)\n",
      "There are 1311 news sources appearing in only 584 subreddits or less (1.0%)\n",
      "There are 1311 news sources appearing in only 585 subreddits or less (1.0%)\n",
      "There are 1311 news sources appearing in only 586 subreddits or less (1.0%)\n",
      "There are 1311 news sources appearing in only 587 subreddits or less (1.0%)\n",
      "There are 1311 news sources appearing in only 588 subreddits or less (1.0%)\n",
      "There are 1311 news sources appearing in only 589 subreddits or less (1.0%)\n",
      "There are 1311 news sources appearing in only 590 subreddits or less (1.0%)\n",
      "There are 1311 news sources appearing in only 591 subreddits or less (1.0%)\n",
      "There are 1311 news sources appearing in only 592 subreddits or less (1.0%)\n",
      "There are 1311 news sources appearing in only 593 subreddits or less (1.0%)\n"
     ]
    },
    {
     "name": "stdout",
     "output_type": "stream",
     "text": [
      "There are 1311 news sources appearing in only 594 subreddits or less (1.0%)\n",
      "There are 1311 news sources appearing in only 595 subreddits or less (1.0%)\n",
      "There are 1311 news sources appearing in only 596 subreddits or less (1.0%)\n",
      "There are 1311 news sources appearing in only 597 subreddits or less (1.0%)\n",
      "There are 1311 news sources appearing in only 598 subreddits or less (1.0%)\n",
      "There are 1311 news sources appearing in only 599 subreddits or less (1.0%)\n",
      "There are 1311 news sources appearing in only 600 subreddits or less (1.0%)\n",
      "There are 1311 news sources appearing in only 601 subreddits or less (1.0%)\n",
      "There are 1311 news sources appearing in only 602 subreddits or less (1.0%)\n",
      "There are 1311 news sources appearing in only 603 subreddits or less (1.0%)\n",
      "There are 1311 news sources appearing in only 604 subreddits or less (1.0%)\n",
      "There are 1311 news sources appearing in only 605 subreddits or less (1.0%)\n",
      "There are 1311 news sources appearing in only 606 subreddits or less (1.0%)\n",
      "There are 1311 news sources appearing in only 607 subreddits or less (1.0%)\n",
      "There are 1311 news sources appearing in only 608 subreddits or less (1.0%)\n",
      "There are 1311 news sources appearing in only 609 subreddits or less (1.0%)\n",
      "There are 1311 news sources appearing in only 610 subreddits or less (1.0%)\n",
      "There are 1311 news sources appearing in only 611 subreddits or less (1.0%)\n",
      "There are 1311 news sources appearing in only 612 subreddits or less (1.0%)\n",
      "There are 1311 news sources appearing in only 613 subreddits or less (1.0%)\n",
      "There are 1311 news sources appearing in only 614 subreddits or less (1.0%)\n",
      "There are 1311 news sources appearing in only 615 subreddits or less (1.0%)\n",
      "There are 1311 news sources appearing in only 616 subreddits or less (1.0%)\n",
      "There are 1311 news sources appearing in only 617 subreddits or less (1.0%)\n",
      "There are 1311 news sources appearing in only 618 subreddits or less (1.0%)\n",
      "There are 1311 news sources appearing in only 619 subreddits or less (1.0%)\n",
      "There are 1311 news sources appearing in only 620 subreddits or less (1.0%)\n",
      "There are 1311 news sources appearing in only 621 subreddits or less (1.0%)\n",
      "There are 1311 news sources appearing in only 622 subreddits or less (1.0%)\n",
      "There are 1311 news sources appearing in only 623 subreddits or less (1.0%)\n",
      "There are 1311 news sources appearing in only 624 subreddits or less (1.0%)\n",
      "There are 1311 news sources appearing in only 625 subreddits or less (1.0%)\n",
      "There are 1311 news sources appearing in only 626 subreddits or less (1.0%)\n",
      "There are 1311 news sources appearing in only 627 subreddits or less (1.0%)\n",
      "There are 1311 news sources appearing in only 628 subreddits or less (1.0%)\n",
      "There are 1311 news sources appearing in only 629 subreddits or less (1.0%)\n",
      "There are 1311 news sources appearing in only 630 subreddits or less (1.0%)\n",
      "There are 1311 news sources appearing in only 631 subreddits or less (1.0%)\n",
      "There are 1311 news sources appearing in only 632 subreddits or less (1.0%)\n",
      "There are 1311 news sources appearing in only 633 subreddits or less (1.0%)\n",
      "There are 1311 news sources appearing in only 634 subreddits or less (1.0%)\n",
      "There are 1311 news sources appearing in only 635 subreddits or less (1.0%)\n",
      "There are 1311 news sources appearing in only 636 subreddits or less (1.0%)\n",
      "There are 1311 news sources appearing in only 637 subreddits or less (1.0%)\n",
      "There are 1311 news sources appearing in only 638 subreddits or less (1.0%)\n",
      "There are 1311 news sources appearing in only 639 subreddits or less (1.0%)\n",
      "There are 1311 news sources appearing in only 640 subreddits or less (1.0%)\n",
      "There are 1311 news sources appearing in only 641 subreddits or less (1.0%)\n",
      "There are 1311 news sources appearing in only 642 subreddits or less (1.0%)\n",
      "There are 1311 news sources appearing in only 643 subreddits or less (1.0%)\n",
      "There are 1311 news sources appearing in only 644 subreddits or less (1.0%)\n",
      "There are 1311 news sources appearing in only 645 subreddits or less (1.0%)\n",
      "There are 1311 news sources appearing in only 646 subreddits or less (1.0%)\n",
      "There are 1311 news sources appearing in only 647 subreddits or less (1.0%)\n",
      "There are 1311 news sources appearing in only 648 subreddits or less (1.0%)\n",
      "There are 1311 news sources appearing in only 649 subreddits or less (1.0%)\n",
      "There are 1311 news sources appearing in only 650 subreddits or less (1.0%)\n",
      "There are 1311 news sources appearing in only 651 subreddits or less (1.0%)\n",
      "There are 1311 news sources appearing in only 652 subreddits or less (1.0%)\n",
      "There are 1311 news sources appearing in only 653 subreddits or less (1.0%)\n",
      "There are 1311 news sources appearing in only 654 subreddits or less (1.0%)\n",
      "There are 1311 news sources appearing in only 655 subreddits or less (1.0%)\n",
      "There are 1311 news sources appearing in only 656 subreddits or less (1.0%)\n",
      "There are 1311 news sources appearing in only 657 subreddits or less (1.0%)\n",
      "There are 1311 news sources appearing in only 658 subreddits or less (1.0%)\n",
      "There are 1311 news sources appearing in only 659 subreddits or less (1.0%)\n",
      "There are 1311 news sources appearing in only 660 subreddits or less (1.0%)\n",
      "There are 1311 news sources appearing in only 661 subreddits or less (1.0%)\n",
      "There are 1311 news sources appearing in only 662 subreddits or less (1.0%)\n",
      "There are 1311 news sources appearing in only 663 subreddits or less (1.0%)\n",
      "There are 1311 news sources appearing in only 664 subreddits or less (1.0%)\n",
      "There are 1311 news sources appearing in only 665 subreddits or less (1.0%)\n",
      "There are 1311 news sources appearing in only 666 subreddits or less (1.0%)\n",
      "There are 1311 news sources appearing in only 667 subreddits or less (1.0%)\n",
      "There are 1311 news sources appearing in only 668 subreddits or less (1.0%)\n",
      "There are 1311 news sources appearing in only 669 subreddits or less (1.0%)\n",
      "There are 1311 news sources appearing in only 670 subreddits or less (1.0%)\n",
      "There are 1311 news sources appearing in only 671 subreddits or less (1.0%)\n",
      "There are 1311 news sources appearing in only 672 subreddits or less (1.0%)\n",
      "There are 1311 news sources appearing in only 673 subreddits or less (1.0%)\n",
      "There are 1311 news sources appearing in only 674 subreddits or less (1.0%)\n",
      "There are 1311 news sources appearing in only 675 subreddits or less (1.0%)\n",
      "There are 1311 news sources appearing in only 676 subreddits or less (1.0%)\n",
      "There are 1311 news sources appearing in only 677 subreddits or less (1.0%)\n",
      "There are 1311 news sources appearing in only 678 subreddits or less (1.0%)\n",
      "There are 1311 news sources appearing in only 679 subreddits or less (1.0%)\n",
      "There are 1311 news sources appearing in only 680 subreddits or less (1.0%)\n",
      "There are 1311 news sources appearing in only 681 subreddits or less (1.0%)\n",
      "There are 1311 news sources appearing in only 682 subreddits or less (1.0%)\n",
      "There are 1311 news sources appearing in only 683 subreddits or less (1.0%)\n",
      "There are 1311 news sources appearing in only 684 subreddits or less (1.0%)\n",
      "There are 1311 news sources appearing in only 685 subreddits or less (1.0%)\n",
      "There are 1311 news sources appearing in only 686 subreddits or less (1.0%)\n",
      "There are 1311 news sources appearing in only 687 subreddits or less (1.0%)\n",
      "There are 1311 news sources appearing in only 688 subreddits or less (1.0%)\n",
      "There are 1311 news sources appearing in only 689 subreddits or less (1.0%)\n",
      "There are 1311 news sources appearing in only 690 subreddits or less (1.0%)\n",
      "There are 1311 news sources appearing in only 691 subreddits or less (1.0%)\n",
      "There are 1311 news sources appearing in only 692 subreddits or less (1.0%)\n",
      "There are 1311 news sources appearing in only 693 subreddits or less (1.0%)\n",
      "There are 1311 news sources appearing in only 694 subreddits or less (1.0%)\n",
      "There are 1311 news sources appearing in only 695 subreddits or less (1.0%)\n",
      "There are 1311 news sources appearing in only 696 subreddits or less (1.0%)\n",
      "There are 1311 news sources appearing in only 697 subreddits or less (1.0%)\n",
      "There are 1311 news sources appearing in only 698 subreddits or less (1.0%)\n",
      "There are 1311 news sources appearing in only 699 subreddits or less (1.0%)\n",
      "There are 1311 news sources appearing in only 700 subreddits or less (1.0%)\n",
      "There are 1311 news sources appearing in only 701 subreddits or less (1.0%)\n",
      "There are 1311 news sources appearing in only 702 subreddits or less (1.0%)\n",
      "There are 1311 news sources appearing in only 703 subreddits or less (1.0%)\n",
      "There are 1311 news sources appearing in only 704 subreddits or less (1.0%)\n",
      "There are 1311 news sources appearing in only 705 subreddits or less (1.0%)\n",
      "There are 1311 news sources appearing in only 706 subreddits or less (1.0%)\n",
      "There are 1311 news sources appearing in only 707 subreddits or less (1.0%)\n",
      "There are 1311 news sources appearing in only 708 subreddits or less (1.0%)\n",
      "There are 1311 news sources appearing in only 709 subreddits or less (1.0%)\n",
      "There are 1311 news sources appearing in only 710 subreddits or less (1.0%)\n",
      "There are 1311 news sources appearing in only 711 subreddits or less (1.0%)\n",
      "There are 1311 news sources appearing in only 712 subreddits or less (1.0%)\n",
      "There are 1311 news sources appearing in only 713 subreddits or less (1.0%)\n",
      "There are 1311 news sources appearing in only 714 subreddits or less (1.0%)\n",
      "There are 1311 news sources appearing in only 715 subreddits or less (1.0%)\n",
      "There are 1311 news sources appearing in only 716 subreddits or less (1.0%)\n",
      "There are 1311 news sources appearing in only 717 subreddits or less (1.0%)\n",
      "There are 1311 news sources appearing in only 718 subreddits or less (1.0%)\n",
      "There are 1311 news sources appearing in only 719 subreddits or less (1.0%)\n",
      "There are 1311 news sources appearing in only 720 subreddits or less (1.0%)\n",
      "There are 1311 news sources appearing in only 721 subreddits or less (1.0%)\n",
      "There are 1311 news sources appearing in only 722 subreddits or less (1.0%)\n",
      "There are 1311 news sources appearing in only 723 subreddits or less (1.0%)\n",
      "There are 1311 news sources appearing in only 724 subreddits or less (1.0%)\n",
      "There are 1311 news sources appearing in only 725 subreddits or less (1.0%)\n",
      "There are 1311 news sources appearing in only 726 subreddits or less (1.0%)\n",
      "There are 1311 news sources appearing in only 727 subreddits or less (1.0%)\n",
      "There are 1311 news sources appearing in only 728 subreddits or less (1.0%)\n",
      "There are 1311 news sources appearing in only 729 subreddits or less (1.0%)\n",
      "There are 1311 news sources appearing in only 730 subreddits or less (1.0%)\n",
      "There are 1311 news sources appearing in only 731 subreddits or less (1.0%)\n",
      "There are 1311 news sources appearing in only 732 subreddits or less (1.0%)\n",
      "There are 1311 news sources appearing in only 733 subreddits or less (1.0%)\n",
      "There are 1311 news sources appearing in only 734 subreddits or less (1.0%)\n",
      "There are 1311 news sources appearing in only 735 subreddits or less (1.0%)\n",
      "There are 1311 news sources appearing in only 736 subreddits or less (1.0%)\n",
      "There are 1311 news sources appearing in only 737 subreddits or less (1.0%)\n",
      "There are 1311 news sources appearing in only 738 subreddits or less (1.0%)\n",
      "There are 1311 news sources appearing in only 739 subreddits or less (1.0%)\n",
      "There are 1311 news sources appearing in only 740 subreddits or less (1.0%)\n",
      "There are 1311 news sources appearing in only 741 subreddits or less (1.0%)\n",
      "There are 1311 news sources appearing in only 742 subreddits or less (1.0%)\n",
      "There are 1311 news sources appearing in only 743 subreddits or less (1.0%)\n",
      "There are 1311 news sources appearing in only 744 subreddits or less (1.0%)\n",
      "There are 1311 news sources appearing in only 745 subreddits or less (1.0%)\n",
      "There are 1311 news sources appearing in only 746 subreddits or less (1.0%)\n",
      "There are 1311 news sources appearing in only 747 subreddits or less (1.0%)\n",
      "There are 1311 news sources appearing in only 748 subreddits or less (1.0%)\n",
      "There are 1311 news sources appearing in only 749 subreddits or less (1.0%)\n",
      "There are 1311 news sources appearing in only 750 subreddits or less (1.0%)\n",
      "There are 1311 news sources appearing in only 751 subreddits or less (1.0%)\n",
      "There are 1311 news sources appearing in only 752 subreddits or less (1.0%)\n",
      "There are 1311 news sources appearing in only 753 subreddits or less (1.0%)\n",
      "There are 1311 news sources appearing in only 754 subreddits or less (1.0%)\n",
      "There are 1311 news sources appearing in only 755 subreddits or less (1.0%)\n",
      "There are 1311 news sources appearing in only 756 subreddits or less (1.0%)\n",
      "There are 1311 news sources appearing in only 757 subreddits or less (1.0%)\n",
      "There are 1311 news sources appearing in only 758 subreddits or less (1.0%)\n",
      "There are 1311 news sources appearing in only 759 subreddits or less (1.0%)\n",
      "There are 1311 news sources appearing in only 760 subreddits or less (1.0%)\n",
      "There are 1311 news sources appearing in only 761 subreddits or less (1.0%)\n",
      "There are 1311 news sources appearing in only 762 subreddits or less (1.0%)\n",
      "There are 1311 news sources appearing in only 763 subreddits or less (1.0%)\n",
      "There are 1311 news sources appearing in only 764 subreddits or less (1.0%)\n",
      "There are 1311 news sources appearing in only 765 subreddits or less (1.0%)\n",
      "There are 1311 news sources appearing in only 766 subreddits or less (1.0%)\n",
      "There are 1311 news sources appearing in only 767 subreddits or less (1.0%)\n",
      "There are 1311 news sources appearing in only 768 subreddits or less (1.0%)\n",
      "There are 1311 news sources appearing in only 769 subreddits or less (1.0%)\n",
      "There are 1311 news sources appearing in only 770 subreddits or less (1.0%)\n",
      "There are 1311 news sources appearing in only 771 subreddits or less (1.0%)\n",
      "There are 1311 news sources appearing in only 772 subreddits or less (1.0%)\n",
      "There are 1311 news sources appearing in only 773 subreddits or less (1.0%)\n",
      "There are 1311 news sources appearing in only 774 subreddits or less (1.0%)\n",
      "There are 1311 news sources appearing in only 775 subreddits or less (1.0%)\n",
      "There are 1311 news sources appearing in only 776 subreddits or less (1.0%)\n",
      "There are 1311 news sources appearing in only 777 subreddits or less (1.0%)\n",
      "There are 1311 news sources appearing in only 778 subreddits or less (1.0%)\n",
      "There are 1311 news sources appearing in only 779 subreddits or less (1.0%)\n",
      "There are 1311 news sources appearing in only 780 subreddits or less (1.0%)\n",
      "There are 1311 news sources appearing in only 781 subreddits or less (1.0%)\n",
      "There are 1311 news sources appearing in only 782 subreddits or less (1.0%)\n",
      "There are 1311 news sources appearing in only 783 subreddits or less (1.0%)\n",
      "There are 1311 news sources appearing in only 784 subreddits or less (1.0%)\n",
      "There are 1311 news sources appearing in only 785 subreddits or less (1.0%)\n",
      "There are 1311 news sources appearing in only 786 subreddits or less (1.0%)\n",
      "There are 1311 news sources appearing in only 787 subreddits or less (1.0%)\n",
      "There are 1311 news sources appearing in only 788 subreddits or less (1.0%)\n",
      "There are 1311 news sources appearing in only 789 subreddits or less (1.0%)\n",
      "There are 1311 news sources appearing in only 790 subreddits or less (1.0%)\n",
      "There are 1311 news sources appearing in only 791 subreddits or less (1.0%)\n",
      "There are 1311 news sources appearing in only 792 subreddits or less (1.0%)\n",
      "There are 1311 news sources appearing in only 793 subreddits or less (1.0%)\n",
      "There are 1311 news sources appearing in only 794 subreddits or less (1.0%)\n",
      "There are 1311 news sources appearing in only 795 subreddits or less (1.0%)\n",
      "There are 1311 news sources appearing in only 796 subreddits or less (1.0%)\n",
      "There are 1311 news sources appearing in only 797 subreddits or less (1.0%)\n",
      "There are 1311 news sources appearing in only 798 subreddits or less (1.0%)\n",
      "There are 1311 news sources appearing in only 799 subreddits or less (1.0%)\n",
      "There are 1311 news sources appearing in only 800 subreddits or less (1.0%)\n",
      "There are 1311 news sources appearing in only 801 subreddits or less (1.0%)\n",
      "There are 1311 news sources appearing in only 802 subreddits or less (1.0%)\n",
      "There are 1311 news sources appearing in only 803 subreddits or less (1.0%)\n",
      "There are 1311 news sources appearing in only 804 subreddits or less (1.0%)\n",
      "There are 1311 news sources appearing in only 805 subreddits or less (1.0%)\n",
      "There are 1311 news sources appearing in only 806 subreddits or less (1.0%)\n",
      "There are 1311 news sources appearing in only 807 subreddits or less (1.0%)\n",
      "There are 1311 news sources appearing in only 808 subreddits or less (1.0%)\n",
      "There are 1311 news sources appearing in only 809 subreddits or less (1.0%)\n",
      "There are 1311 news sources appearing in only 810 subreddits or less (1.0%)\n",
      "There are 1311 news sources appearing in only 811 subreddits or less (1.0%)\n",
      "There are 1311 news sources appearing in only 812 subreddits or less (1.0%)\n",
      "There are 1311 news sources appearing in only 813 subreddits or less (1.0%)\n",
      "There are 1311 news sources appearing in only 814 subreddits or less (1.0%)\n",
      "There are 1311 news sources appearing in only 815 subreddits or less (1.0%)\n",
      "There are 1311 news sources appearing in only 816 subreddits or less (1.0%)\n",
      "There are 1311 news sources appearing in only 817 subreddits or less (1.0%)\n",
      "There are 1311 news sources appearing in only 818 subreddits or less (1.0%)\n",
      "There are 1311 news sources appearing in only 819 subreddits or less (1.0%)\n",
      "There are 1311 news sources appearing in only 820 subreddits or less (1.0%)\n",
      "There are 1311 news sources appearing in only 821 subreddits or less (1.0%)\n",
      "There are 1311 news sources appearing in only 822 subreddits or less (1.0%)\n",
      "There are 1311 news sources appearing in only 823 subreddits or less (1.0%)\n",
      "There are 1311 news sources appearing in only 824 subreddits or less (1.0%)\n",
      "There are 1311 news sources appearing in only 825 subreddits or less (1.0%)\n",
      "There are 1311 news sources appearing in only 826 subreddits or less (1.0%)\n",
      "There are 1311 news sources appearing in only 827 subreddits or less (1.0%)\n",
      "There are 1311 news sources appearing in only 828 subreddits or less (1.0%)\n",
      "There are 1311 news sources appearing in only 829 subreddits or less (1.0%)\n",
      "There are 1311 news sources appearing in only 830 subreddits or less (1.0%)\n",
      "There are 1311 news sources appearing in only 831 subreddits or less (1.0%)\n",
      "There are 1311 news sources appearing in only 832 subreddits or less (1.0%)\n",
      "There are 1311 news sources appearing in only 833 subreddits or less (1.0%)\n",
      "There are 1311 news sources appearing in only 834 subreddits or less (1.0%)\n",
      "There are 1311 news sources appearing in only 835 subreddits or less (1.0%)\n",
      "There are 1311 news sources appearing in only 836 subreddits or less (1.0%)\n",
      "There are 1311 news sources appearing in only 837 subreddits or less (1.0%)\n",
      "There are 1311 news sources appearing in only 838 subreddits or less (1.0%)\n",
      "There are 1311 news sources appearing in only 839 subreddits or less (1.0%)\n",
      "There are 1311 news sources appearing in only 840 subreddits or less (1.0%)\n",
      "There are 1311 news sources appearing in only 841 subreddits or less (1.0%)\n",
      "There are 1311 news sources appearing in only 842 subreddits or less (1.0%)\n",
      "There are 1311 news sources appearing in only 843 subreddits or less (1.0%)\n",
      "There are 1311 news sources appearing in only 844 subreddits or less (1.0%)\n",
      "There are 1311 news sources appearing in only 845 subreddits or less (1.0%)\n",
      "There are 1311 news sources appearing in only 846 subreddits or less (1.0%)\n",
      "There are 1311 news sources appearing in only 847 subreddits or less (1.0%)\n",
      "There are 1311 news sources appearing in only 848 subreddits or less (1.0%)\n",
      "There are 1311 news sources appearing in only 849 subreddits or less (1.0%)\n",
      "There are 1311 news sources appearing in only 850 subreddits or less (1.0%)\n",
      "There are 1311 news sources appearing in only 851 subreddits or less (1.0%)\n",
      "There are 1311 news sources appearing in only 852 subreddits or less (1.0%)\n",
      "There are 1311 news sources appearing in only 853 subreddits or less (1.0%)\n",
      "There are 1311 news sources appearing in only 854 subreddits or less (1.0%)\n",
      "There are 1311 news sources appearing in only 855 subreddits or less (1.0%)\n",
      "There are 1311 news sources appearing in only 856 subreddits or less (1.0%)\n",
      "There are 1311 news sources appearing in only 857 subreddits or less (1.0%)\n",
      "There are 1311 news sources appearing in only 858 subreddits or less (1.0%)\n",
      "There are 1311 news sources appearing in only 859 subreddits or less (1.0%)\n",
      "There are 1311 news sources appearing in only 860 subreddits or less (1.0%)\n",
      "There are 1311 news sources appearing in only 861 subreddits or less (1.0%)\n",
      "There are 1311 news sources appearing in only 862 subreddits or less (1.0%)\n",
      "There are 1311 news sources appearing in only 863 subreddits or less (1.0%)\n",
      "There are 1311 news sources appearing in only 864 subreddits or less (1.0%)\n",
      "There are 1311 news sources appearing in only 865 subreddits or less (1.0%)\n",
      "There are 1311 news sources appearing in only 866 subreddits or less (1.0%)\n",
      "There are 1311 news sources appearing in only 867 subreddits or less (1.0%)\n",
      "There are 1311 news sources appearing in only 868 subreddits or less (1.0%)\n",
      "There are 1311 news sources appearing in only 869 subreddits or less (1.0%)\n",
      "There are 1311 news sources appearing in only 870 subreddits or less (1.0%)\n",
      "There are 1311 news sources appearing in only 871 subreddits or less (1.0%)\n",
      "There are 1311 news sources appearing in only 872 subreddits or less (1.0%)\n",
      "There are 1311 news sources appearing in only 873 subreddits or less (1.0%)\n",
      "There are 1311 news sources appearing in only 874 subreddits or less (1.0%)\n",
      "There are 1311 news sources appearing in only 875 subreddits or less (1.0%)\n",
      "There are 1311 news sources appearing in only 876 subreddits or less (1.0%)\n",
      "There are 1311 news sources appearing in only 877 subreddits or less (1.0%)\n",
      "There are 1311 news sources appearing in only 878 subreddits or less (1.0%)\n",
      "There are 1311 news sources appearing in only 879 subreddits or less (1.0%)\n",
      "There are 1311 news sources appearing in only 880 subreddits or less (1.0%)\n",
      "There are 1311 news sources appearing in only 881 subreddits or less (1.0%)\n",
      "There are 1311 news sources appearing in only 882 subreddits or less (1.0%)\n",
      "There are 1311 news sources appearing in only 883 subreddits or less (1.0%)\n",
      "There are 1311 news sources appearing in only 884 subreddits or less (1.0%)\n",
      "There are 1311 news sources appearing in only 885 subreddits or less (1.0%)\n",
      "There are 1311 news sources appearing in only 886 subreddits or less (1.0%)\n",
      "There are 1311 news sources appearing in only 887 subreddits or less (1.0%)\n",
      "There are 1311 news sources appearing in only 888 subreddits or less (1.0%)\n",
      "There are 1311 news sources appearing in only 889 subreddits or less (1.0%)\n",
      "There are 1311 news sources appearing in only 890 subreddits or less (1.0%)\n",
      "There are 1311 news sources appearing in only 891 subreddits or less (1.0%)\n",
      "There are 1311 news sources appearing in only 892 subreddits or less (1.0%)\n",
      "There are 1311 news sources appearing in only 893 subreddits or less (1.0%)\n",
      "There are 1311 news sources appearing in only 894 subreddits or less (1.0%)\n",
      "There are 1311 news sources appearing in only 895 subreddits or less (1.0%)\n",
      "There are 1311 news sources appearing in only 896 subreddits or less (1.0%)\n",
      "There are 1311 news sources appearing in only 897 subreddits or less (1.0%)\n",
      "There are 1311 news sources appearing in only 898 subreddits or less (1.0%)\n",
      "There are 1311 news sources appearing in only 899 subreddits or less (1.0%)\n",
      "There are 1311 news sources appearing in only 900 subreddits or less (1.0%)\n",
      "There are 1311 news sources appearing in only 901 subreddits or less (1.0%)\n",
      "There are 1311 news sources appearing in only 902 subreddits or less (1.0%)\n",
      "There are 1311 news sources appearing in only 903 subreddits or less (1.0%)\n",
      "There are 1311 news sources appearing in only 904 subreddits or less (1.0%)\n",
      "There are 1311 news sources appearing in only 905 subreddits or less (1.0%)\n",
      "There are 1311 news sources appearing in only 906 subreddits or less (1.0%)\n",
      "There are 1311 news sources appearing in only 907 subreddits or less (1.0%)\n",
      "There are 1311 news sources appearing in only 908 subreddits or less (1.0%)\n",
      "There are 1311 news sources appearing in only 909 subreddits or less (1.0%)\n",
      "There are 1311 news sources appearing in only 910 subreddits or less (1.0%)\n",
      "There are 1311 news sources appearing in only 911 subreddits or less (1.0%)\n",
      "There are 1311 news sources appearing in only 912 subreddits or less (1.0%)\n",
      "There are 1311 news sources appearing in only 913 subreddits or less (1.0%)\n",
      "There are 1311 news sources appearing in only 914 subreddits or less (1.0%)\n",
      "There are 1311 news sources appearing in only 915 subreddits or less (1.0%)\n",
      "There are 1311 news sources appearing in only 916 subreddits or less (1.0%)\n",
      "There are 1311 news sources appearing in only 917 subreddits or less (1.0%)\n",
      "There are 1311 news sources appearing in only 918 subreddits or less (1.0%)\n",
      "There are 1311 news sources appearing in only 919 subreddits or less (1.0%)\n",
      "There are 1311 news sources appearing in only 920 subreddits or less (1.0%)\n",
      "There are 1311 news sources appearing in only 921 subreddits or less (1.0%)\n",
      "There are 1311 news sources appearing in only 922 subreddits or less (1.0%)\n",
      "There are 1311 news sources appearing in only 923 subreddits or less (1.0%)\n",
      "There are 1311 news sources appearing in only 924 subreddits or less (1.0%)\n",
      "There are 1311 news sources appearing in only 925 subreddits or less (1.0%)\n",
      "There are 1311 news sources appearing in only 926 subreddits or less (1.0%)\n",
      "There are 1311 news sources appearing in only 927 subreddits or less (1.0%)\n",
      "There are 1311 news sources appearing in only 928 subreddits or less (1.0%)\n",
      "There are 1311 news sources appearing in only 929 subreddits or less (1.0%)\n",
      "There are 1311 news sources appearing in only 930 subreddits or less (1.0%)\n",
      "There are 1311 news sources appearing in only 931 subreddits or less (1.0%)\n",
      "There are 1311 news sources appearing in only 932 subreddits or less (1.0%)\n",
      "There are 1311 news sources appearing in only 933 subreddits or less (1.0%)\n",
      "There are 1311 news sources appearing in only 934 subreddits or less (1.0%)\n",
      "There are 1311 news sources appearing in only 935 subreddits or less (1.0%)\n",
      "There are 1311 news sources appearing in only 936 subreddits or less (1.0%)\n",
      "There are 1311 news sources appearing in only 937 subreddits or less (1.0%)\n",
      "There are 1311 news sources appearing in only 938 subreddits or less (1.0%)\n",
      "There are 1311 news sources appearing in only 939 subreddits or less (1.0%)\n",
      "There are 1311 news sources appearing in only 940 subreddits or less (1.0%)\n",
      "There are 1311 news sources appearing in only 941 subreddits or less (1.0%)\n",
      "There are 1311 news sources appearing in only 942 subreddits or less (1.0%)\n",
      "There are 1311 news sources appearing in only 943 subreddits or less (1.0%)\n",
      "There are 1311 news sources appearing in only 944 subreddits or less (1.0%)\n",
      "There are 1311 news sources appearing in only 945 subreddits or less (1.0%)\n",
      "There are 1311 news sources appearing in only 946 subreddits or less (1.0%)\n",
      "There are 1311 news sources appearing in only 947 subreddits or less (1.0%)\n",
      "There are 1311 news sources appearing in only 948 subreddits or less (1.0%)\n",
      "There are 1311 news sources appearing in only 949 subreddits or less (1.0%)\n",
      "There are 1311 news sources appearing in only 950 subreddits or less (1.0%)\n",
      "There are 1311 news sources appearing in only 951 subreddits or less (1.0%)\n",
      "There are 1311 news sources appearing in only 952 subreddits or less (1.0%)\n",
      "There are 1311 news sources appearing in only 953 subreddits or less (1.0%)\n",
      "There are 1311 news sources appearing in only 954 subreddits or less (1.0%)\n",
      "There are 1311 news sources appearing in only 955 subreddits or less (1.0%)\n",
      "There are 1311 news sources appearing in only 956 subreddits or less (1.0%)\n",
      "There are 1311 news sources appearing in only 957 subreddits or less (1.0%)\n",
      "There are 1311 news sources appearing in only 958 subreddits or less (1.0%)\n",
      "There are 1311 news sources appearing in only 959 subreddits or less (1.0%)\n",
      "There are 1311 news sources appearing in only 960 subreddits or less (1.0%)\n",
      "There are 1311 news sources appearing in only 961 subreddits or less (1.0%)\n",
      "There are 1311 news sources appearing in only 962 subreddits or less (1.0%)\n",
      "There are 1311 news sources appearing in only 963 subreddits or less (1.0%)\n",
      "There are 1311 news sources appearing in only 964 subreddits or less (1.0%)\n",
      "There are 1311 news sources appearing in only 965 subreddits or less (1.0%)\n",
      "There are 1311 news sources appearing in only 966 subreddits or less (1.0%)\n",
      "There are 1311 news sources appearing in only 967 subreddits or less (1.0%)\n",
      "There are 1311 news sources appearing in only 968 subreddits or less (1.0%)\n",
      "There are 1311 news sources appearing in only 969 subreddits or less (1.0%)\n",
      "There are 1311 news sources appearing in only 970 subreddits or less (1.0%)\n",
      "There are 1311 news sources appearing in only 971 subreddits or less (1.0%)\n",
      "There are 1311 news sources appearing in only 972 subreddits or less (1.0%)\n",
      "There are 1311 news sources appearing in only 973 subreddits or less (1.0%)\n",
      "There are 1311 news sources appearing in only 974 subreddits or less (1.0%)\n",
      "There are 1311 news sources appearing in only 975 subreddits or less (1.0%)\n",
      "There are 1311 news sources appearing in only 976 subreddits or less (1.0%)\n",
      "There are 1311 news sources appearing in only 977 subreddits or less (1.0%)\n",
      "There are 1311 news sources appearing in only 978 subreddits or less (1.0%)\n",
      "There are 1311 news sources appearing in only 979 subreddits or less (1.0%)\n",
      "There are 1311 news sources appearing in only 980 subreddits or less (1.0%)\n",
      "There are 1311 news sources appearing in only 981 subreddits or less (1.0%)\n",
      "There are 1311 news sources appearing in only 982 subreddits or less (1.0%)\n",
      "There are 1311 news sources appearing in only 983 subreddits or less (1.0%)\n",
      "There are 1311 news sources appearing in only 984 subreddits or less (1.0%)\n",
      "There are 1311 news sources appearing in only 985 subreddits or less (1.0%)\n",
      "There are 1311 news sources appearing in only 986 subreddits or less (1.0%)\n",
      "There are 1311 news sources appearing in only 987 subreddits or less (1.0%)\n",
      "There are 1311 news sources appearing in only 988 subreddits or less (1.0%)\n",
      "There are 1311 news sources appearing in only 989 subreddits or less (1.0%)\n",
      "There are 1311 news sources appearing in only 990 subreddits or less (1.0%)\n",
      "There are 1311 news sources appearing in only 991 subreddits or less (1.0%)\n",
      "There are 1311 news sources appearing in only 992 subreddits or less (1.0%)\n",
      "There are 1311 news sources appearing in only 993 subreddits or less (1.0%)\n",
      "There are 1311 news sources appearing in only 994 subreddits or less (1.0%)\n",
      "There are 1311 news sources appearing in only 995 subreddits or less (1.0%)\n",
      "There are 1311 news sources appearing in only 996 subreddits or less (1.0%)\n",
      "There are 1311 news sources appearing in only 997 subreddits or less (1.0%)\n",
      "There are 1311 news sources appearing in only 998 subreddits or less (1.0%)\n",
      "There are 1311 news sources appearing in only 999 subreddits or less (1.0%)\n"
     ]
    }
   ],
   "source": [
    "pct_in_k_subreddits = [(i, pct_ns_in_k_subreddits(i)) for i in range(1000)]"
   ]
  },
  {
   "cell_type": "code",
   "execution_count": 43,
   "metadata": {},
   "outputs": [
    {
     "data": {
      "text/plain": [
       "[(0.0, 80.0)]"
      ]
     },
     "execution_count": 43,
     "metadata": {},
     "output_type": "execute_result"
    },
    {
     "data": {
      "image/png": "[encoded data removed]",
      "text/plain": [
       "<Figure size 1080x432 with 2 Axes>"
      ]
     },
     "metadata": {
      "needs_background": "light"
     },
     "output_type": "display_data"
    }
   ],
   "source": [
    "fig, (ax1, ax2) = plt.subplots(1, 2, figsize=(15,6))\n",
    "sns.set(font_scale = 1.2)\n",
    "\n",
    "sns.histplot(scf, log_scale=True, ax=ax1)\n",
    "ax1.set_xlabel(\"number of subreddit\")\n",
    "ax1.set_ylabel(\"news source count\")\n",
    "ax1.set_title(\"number of news sources appearing in x subreddits\")\n",
    "\n",
    "sns.lineplot(x=[k[0] for k in pct_in_k_subreddits],\n",
    "             y=[k[1] for k in pct_in_k_subreddits],\n",
    "            ax=ax2)\n",
    "ax2.set_ylabel(\"percentage\")\n",
    "ax2.set_xlabel(\"# subreddits news sources appear in\")\n",
    "ax2.set_title(\"proportion of news sources appearing in x subreddits or less\")\n",
    "ax2.set(xlim = (0, 80))"
   ]
  },
  {
   "cell_type": "code",
   "execution_count": 44,
   "metadata": {
    "scrolled": true
   },
   "outputs": [
    {
     "data": {
      "text/plain": [
       "3.842868039664378"
      ]
     },
     "execution_count": 44,
     "metadata": {},
     "output_type": "execute_result"
    }
   ],
   "source": [
    "# mean\n",
    "statistics.mean(scf)"
   ]
  },
  {
   "cell_type": "code",
   "execution_count": 45,
   "metadata": {},
   "outputs": [
    {
     "data": {
      "text/plain": [
       "1"
      ]
     },
     "execution_count": 45,
     "metadata": {},
     "output_type": "execute_result"
    }
   ],
   "source": [
    "# median\n",
    "statistics.median(scf)"
   ]
  },
  {
   "cell_type": "markdown",
   "metadata": {},
   "source": [
    "## For each news source let's count how many times they are shared regardless of in which subreddits"
   ]
  },
  {
   "cell_type": "code",
   "execution_count": 46,
   "metadata": {},
   "outputs": [
    {
     "data": {
      "text/plain": [
       "0"
      ]
     },
     "execution_count": 46,
     "metadata": {},
     "output_type": "execute_result"
    }
   ],
   "source": [
    "sum(dict().values())"
   ]
  },
  {
   "cell_type": "code",
   "execution_count": 47,
   "metadata": {},
   "outputs": [],
   "source": [
    "def get_mention_count(ns):\n",
    "    \"\"\"get total mention count of ns in all six months\"\"\"\n",
    "    count = 0\n",
    "    files = [ns_subreddit_01, ns_subreddit_02, ns_subreddit_03, ns_subreddit_04, ns_subreddit_05, ns_subreddit_06]\n",
    "    for f in files:\n",
    "        ns_dict = f.get(ns, dict())\n",
    "        if len(ns_dict) > 0:\n",
    "            mentions = sum([m[0] for m in ns_dict.values()])\n",
    "            count += mentions\n",
    "    return count"
   ]
  },
  {
   "cell_type": "code",
   "execution_count": 48,
   "metadata": {},
   "outputs": [],
   "source": [
    "mention_count = dict()\n",
    "for ns in ns_union:\n",
    "    mention_count[ns] = get_mention_count(ns)"
   ]
  },
  {
   "cell_type": "code",
   "execution_count": 49,
   "metadata": {
    "scrolled": true
   },
   "outputs": [
    {
     "data": {
      "text/plain": [
       "29.977879481311977"
      ]
     },
     "execution_count": 49,
     "metadata": {},
     "output_type": "execute_result"
    }
   ],
   "source": [
    "statistics.mean(mention_count.values())"
   ]
  },
  {
   "cell_type": "code",
   "execution_count": 50,
   "metadata": {},
   "outputs": [
    {
     "data": {
      "text/plain": [
       "213.28571733764264"
      ]
     },
     "execution_count": 50,
     "metadata": {},
     "output_type": "execute_result"
    }
   ],
   "source": [
    "statistics.stdev(mention_count.values())"
   ]
  },
  {
   "cell_type": "code",
   "execution_count": 51,
   "metadata": {},
   "outputs": [
    {
     "data": {
      "text/plain": [
       "2"
      ]
     },
     "execution_count": 51,
     "metadata": {},
     "output_type": "execute_result"
    }
   ],
   "source": [
    "statistics.median(mention_count.values())"
   ]
  },
  {
   "cell_type": "code",
   "execution_count": 52,
   "metadata": {
    "scrolled": true
   },
   "outputs": [
    {
     "data": {
      "text/plain": [
       "1311"
      ]
     },
     "execution_count": 52,
     "metadata": {},
     "output_type": "execute_result"
    }
   ],
   "source": [
    "len(mention_count)"
   ]
  },
  {
   "cell_type": "code",
   "execution_count": 53,
   "metadata": {},
   "outputs": [
    {
     "data": {
      "text/plain": [
       "[('nba.com', 5540),\n",
       " ('espn.com', 3913),\n",
       " ('nbcsports.com', 2011),\n",
       " ('usatoday.com', 1416),\n",
       " ('theathletic.com', 1240),\n",
       " ('si.com', 1195),\n",
       " ('bleacherreport.com', 1063),\n",
       " ('nfl.com', 927),\n",
       " ('cbssports.com', 789),\n",
       " ('theguardian.com', 509),\n",
       " ('pff.com', 503),\n",
       " ('manutd.com', 464),\n",
       " ('telegraph.co.uk', 405),\n",
       " ('skysports.com', 403),\n",
       " ('bbc.co.uk', 375),\n",
       " ('denverbroncos.com', 356),\n",
       " ('theringer.com', 340),\n",
       " ('arsenal.com', 336),\n",
       " ('goal.com', 334),\n",
       " ('football.london', 320)]"
      ]
     },
     "execution_count": 53,
     "metadata": {},
     "output_type": "execute_result"
    }
   ],
   "source": [
    "Counter(mention_count).most_common(20)"
   ]
  },
  {
   "cell_type": "code",
   "execution_count": 54,
   "metadata": {},
   "outputs": [
    {
     "data": {
      "text/plain": [
       "7"
      ]
     },
     "execution_count": 54,
     "metadata": {},
     "output_type": "execute_result"
    }
   ],
   "source": [
    "news_ge10k = [m for m in mention_count if mention_count[m] >= 1000]\n",
    "len(news_ge10k)"
   ]
  },
  {
   "cell_type": "code",
   "execution_count": 55,
   "metadata": {},
   "outputs": [
    {
     "data": {
      "text/plain": [
       "<AxesSubplot:ylabel='Count'>"
      ]
     },
     "execution_count": 55,
     "metadata": {},
     "output_type": "execute_result"
    },
    {
     "data": {
      "image/png": "[encoded data removed]",
      "text/plain": [
       "<Figure size 432x288 with 1 Axes>"
      ]
     },
     "metadata": {},
     "output_type": "display_data"
    }
   ],
   "source": [
    "sns.histplot(list(mention_count.values()), log_scale=True)"
   ]
  },
  {
   "cell_type": "code",
   "execution_count": 56,
   "metadata": {},
   "outputs": [
    {
     "data": {
      "text/plain": [
       "<AxesSubplot:ylabel='Count'>"
      ]
     },
     "execution_count": 56,
     "metadata": {},
     "output_type": "execute_result"
    },
    {
     "data": {
      "image/png": "[encoded data removed]",
      "text/plain": [
       "<Figure size 432x288 with 1 Axes>"
      ]
     },
     "metadata": {},
     "output_type": "display_data"
    }
   ],
   "source": [
    "sns.histplot(list([k for k in mention_count.values() if k <100000]), log_scale=True)"
   ]
  },
  {
   "cell_type": "code",
   "execution_count": 57,
   "metadata": {},
   "outputs": [
    {
     "data": {
      "text/plain": [
       "63.768115942028984"
      ]
     },
     "execution_count": 57,
     "metadata": {},
     "output_type": "execute_result"
    }
   ],
   "source": [
    "len([k for k in mention_count.values() if k <5])*100/len(mention_count)"
   ]
  },
  {
   "cell_type": "code",
   "execution_count": 58,
   "metadata": {},
   "outputs": [
    {
     "data": {
      "text/plain": [
       "852.15"
      ]
     },
     "execution_count": 58,
     "metadata": {},
     "output_type": "execute_result"
    }
   ],
   "source": [
    "(1-0.35)*len(mention_count)"
   ]
  },
  {
   "cell_type": "markdown",
   "metadata": {},
   "source": [
    "## For each subreddit let's count how many news sources were mentioned in it"
   ]
  },
  {
   "cell_type": "markdown",
   "metadata": {},
   "source": [
    "Counting how many news sources were mentioned in each subreddit"
   ]
  },
  {
   "cell_type": "code",
   "execution_count": 59,
   "metadata": {},
   "outputs": [],
   "source": [
    "nsc_count = dict()\n",
    "for sr in sr_union:\n",
    "    nsc_count[sr] = len(set(subreddit_ns_jan.get(sr, dict()).keys()) \n",
    "                               | set(subreddit_ns_feb.get(sr, dict()).keys()) \n",
    "                               | set(subreddit_ns_march.get(sr, dict()).keys()) \n",
    "                               | set(subreddit_ns_april.get(sr, dict()).keys())\n",
    "                               | set(subreddit_ns_may.get(sr, dict()).keys()) \n",
    "                               | set(subreddit_ns_jun.get(sr, dict()).keys()))"
   ]
  },
  {
   "cell_type": "markdown",
   "metadata": {},
   "source": [
    "`nsc_count` stores how many news sources appear in each subreddit."
   ]
  },
  {
   "cell_type": "code",
   "execution_count": 60,
   "metadata": {},
   "outputs": [
    {
     "data": {
      "text/plain": [
       "0"
      ]
     },
     "execution_count": 60,
     "metadata": {},
     "output_type": "execute_result"
    }
   ],
   "source": [
    "len([k for k in nsc_count if nsc_count[k]<1])"
   ]
  },
  {
   "cell_type": "code",
   "execution_count": 61,
   "metadata": {},
   "outputs": [
    {
     "data": {
      "text/plain": [
       "{80: 3,\n",
       " 53: 3,\n",
       " 56: 3,\n",
       " 43: 3,\n",
       " 77: 3,\n",
       " 36: 3,\n",
       " 66: 3,\n",
       " 40: 2,\n",
       " 98: 2,\n",
       " 54: 2,\n",
       " 47: 2,\n",
       " 49: 2,\n",
       " 39: 2,\n",
       " 60: 2,\n",
       " 42: 2,\n",
       " 96: 2,\n",
       " 81: 2,\n",
       " 38: 2,\n",
       " 52: 2,\n",
       " 7: 2,\n",
       " 88: 2,\n",
       " 35: 1,\n",
       " 83: 1,\n",
       " 48: 1,\n",
       " 31: 1,\n",
       " 188: 1,\n",
       " 1: 1,\n",
       " 108: 1,\n",
       " 63: 1,\n",
       " 61: 1,\n",
       " 226: 1,\n",
       " 104: 1,\n",
       " 76: 1,\n",
       " 75: 1,\n",
       " 62: 1,\n",
       " 9: 1,\n",
       " 136: 1,\n",
       " 65: 1,\n",
       " 71: 1,\n",
       " 5: 1,\n",
       " 141: 1,\n",
       " 67: 1,\n",
       " 153: 1,\n",
       " 94: 1,\n",
       " 22: 1,\n",
       " 11: 1,\n",
       " 14: 1,\n",
       " 97: 1,\n",
       " 82: 1,\n",
       " 95: 1}"
      ]
     },
     "execution_count": 61,
     "metadata": {},
     "output_type": "execute_result"
    }
   ],
   "source": [
    "nsc_count_freq = dict(Counter(nsc_count.values()).most_common())\n",
    "nsc_count_freq"
   ]
  },
  {
   "cell_type": "markdown",
   "metadata": {},
   "source": [
    "`nsc_count_freq` keeps track of how many news sources appear in *n* subreddits for all possible *n*."
   ]
  },
  {
   "cell_type": "code",
   "execution_count": 62,
   "metadata": {},
   "outputs": [
    {
     "data": {
      "text/plain": [
       "226"
      ]
     },
     "execution_count": 62,
     "metadata": {},
     "output_type": "execute_result"
    }
   ],
   "source": [
    "max(nsc_count_freq.keys())"
   ]
  },
  {
   "cell_type": "code",
   "execution_count": 63,
   "metadata": {},
   "outputs": [
    {
     "name": "stdout",
     "output_type": "stream",
     "text": [
      "Gunners has 226 news sources mentioned in it.\n",
      "reddevils has 188 news sources mentioned in it.\n",
      "coys has 153 news sources mentioned in it.\n",
      "LiverpoolFC has 141 news sources mentioned in it.\n",
      "chelseafc has 136 news sources mentioned in it.\n",
      "lakers has 108 news sources mentioned in it.\n",
      "buccaneers has 104 news sources mentioned in it.\n",
      "bostonceltics has 98 news sources mentioned in it.\n",
      "CHIBears has 98 news sources mentioned in it.\n",
      "Patriots has 97 news sources mentioned in it.\n",
      "GreenBayPackers has 96 news sources mentioned in it.\n",
      "detroitlions has 96 news sources mentioned in it.\n",
      "torontoraptors has 95 news sources mentioned in it.\n",
      "buffalobills has 94 news sources mentioned in it.\n",
      "DenverBroncos has 88 news sources mentioned in it.\n",
      "MCFC has 88 news sources mentioned in it.\n",
      "nyjets has 83 news sources mentioned in it.\n",
      "Seahawks has 82 news sources mentioned in it.\n",
      "Browns has 81 news sources mentioned in it.\n",
      "eagles has 81 news sources mentioned in it.\n",
      "warriors has 80 news sources mentioned in it.\n",
      "NYKnicks has 80 news sources mentioned in it.\n",
      "49ers has 80 news sources mentioned in it.\n"
     ]
    }
   ],
   "source": [
    "nsc_ranked = Counter(nsc_count).most_common()\n",
    "\n",
    "for t in nsc_ranked:\n",
    "    sr, co = t\n",
    "    if co >= 80:\n",
    "        print(f\"{sr} has {co} news sources mentioned in it.\")"
   ]
  },
  {
   "cell_type": "code",
   "execution_count": 64,
   "metadata": {},
   "outputs": [
    {
     "data": {
      "text/plain": [
       "True"
      ]
     },
     "execution_count": 64,
     "metadata": {},
     "output_type": "execute_result"
    }
   ],
   "source": [
    "sum(nsc_count_freq.values()) == len(sr_union)"
   ]
  },
  {
   "cell_type": "code",
   "execution_count": 65,
   "metadata": {},
   "outputs": [],
   "source": [
    "import itertools"
   ]
  },
  {
   "cell_type": "code",
   "execution_count": 66,
   "metadata": {},
   "outputs": [],
   "source": [
    "nsc = list(itertools.chain.from_iterable(itertools.repeat(k,v) for k,v in nsc_count_freq.items()))"
   ]
  },
  {
   "cell_type": "code",
   "execution_count": 67,
   "metadata": {
    "scrolled": true
   },
   "outputs": [
    {
     "data": {
      "text/plain": [
       "Text(0.5, 1.0, 'number of subreddits with x news sources')"
      ]
     },
     "execution_count": 67,
     "metadata": {},
     "output_type": "execute_result"
    },
    {
     "data": {
      "image/png": "[encoded data removed]",
      "text/plain": [
       "<Figure size 432x288 with 1 Axes>"
      ]
     },
     "metadata": {},
     "output_type": "display_data"
    }
   ],
   "source": [
    "sns.histplot(nsc, log_scale=True)\n",
    "plt.xlabel(\"number of news source\")\n",
    "plt.ylabel(\"subreddit count\")\n",
    "plt.title(\"number of subreddits with x news sources\")"
   ]
  },
  {
   "cell_type": "code",
   "execution_count": 68,
   "metadata": {},
   "outputs": [
    {
     "data": {
      "text/plain": [
       "71"
      ]
     },
     "execution_count": 68,
     "metadata": {},
     "output_type": "execute_result"
    }
   ],
   "source": [
    "len([n for n in nsc if n>=20])"
   ]
  },
  {
   "cell_type": "markdown",
   "metadata": {},
   "source": [
    "How many subreddits only mentioned 5 news sources or less?"
   ]
  },
  {
   "cell_type": "code",
   "execution_count": 69,
   "metadata": {},
   "outputs": [],
   "source": [
    "def pct_subreddits_mentioning_k_newssources(ks):\n",
    "    sr_mention_i_nsc = [k for k in nsc_count if nsc_count[k] <= ks]\n",
    "    count = len(sr_mention_i_nsc)\n",
    "    print(\"There are {} subreddits mentioning in only {} news sources or less ({}%)\".format(count, ks, count/len(sr_union)))\n",
    "    return count/len(sr_union)"
   ]
  },
  {
   "cell_type": "code",
   "execution_count": 70,
   "metadata": {},
   "outputs": [
    {
     "name": "stdout",
     "output_type": "stream",
     "text": [
      "There are 7 subreddits mentioning in only 20 news sources or less (0.08974358974358974%)\n"
     ]
    },
    {
     "data": {
      "text/plain": [
       "0.08974358974358974"
      ]
     },
     "execution_count": 70,
     "metadata": {},
     "output_type": "execute_result"
    }
   ],
   "source": [
    "pct_subreddits_mentioning_k_newssources(20)"
   ]
  },
  {
   "cell_type": "code",
   "execution_count": 71,
   "metadata": {
    "scrolled": true
   },
   "outputs": [
    {
     "data": {
      "text/plain": [
       "64.58974358974359"
      ]
     },
     "execution_count": 71,
     "metadata": {},
     "output_type": "execute_result"
    }
   ],
   "source": [
    "# mean\n",
    "statistics.mean(nsc)"
   ]
  },
  {
   "cell_type": "code",
   "execution_count": 72,
   "metadata": {},
   "outputs": [
    {
     "data": {
      "text/plain": [
       "58.0"
      ]
     },
     "execution_count": 72,
     "metadata": {},
     "output_type": "execute_result"
    }
   ],
   "source": [
    "# median\n",
    "statistics.median(nsc)"
   ]
  },
  {
   "cell_type": "markdown",
   "metadata": {},
   "source": [
    "## For each subreddit let's count total submissions that are news source related"
   ]
  },
  {
   "cell_type": "code",
   "execution_count": 73,
   "metadata": {},
   "outputs": [],
   "source": [
    "def get_submission_count(sb):\n",
    "    \"\"\"get total mention count of ns in all six months\"\"\"\n",
    "    count = 0\n",
    "    files = [subreddit_ns_jan, subreddit_ns_feb, subreddit_ns_march, subreddit_ns_april, subreddit_ns_may, subreddit_ns_jun]\n",
    "    for f in files:\n",
    "        sb_dict = f.get(sb, dict())\n",
    "        if len(sb_dict) > 0:\n",
    "            mentions = sum([m[0] for m in sb_dict.values()])\n",
    "            count += mentions\n",
    "    return count"
   ]
  },
  {
   "cell_type": "code",
   "execution_count": 74,
   "metadata": {},
   "outputs": [],
   "source": [
    "mention_count = dict()\n",
    "for sb in sr_union:\n",
    "    mention_count[sb] = get_submission_count(sb)"
   ]
  },
  {
   "cell_type": "code",
   "execution_count": 75,
   "metadata": {
    "scrolled": true
   },
   "outputs": [
    {
     "data": {
      "text/plain": [
       "503.85897435897436"
      ]
     },
     "execution_count": 75,
     "metadata": {},
     "output_type": "execute_result"
    }
   ],
   "source": [
    "statistics.mean(mention_count.values())"
   ]
  },
  {
   "cell_type": "code",
   "execution_count": 76,
   "metadata": {},
   "outputs": [
    {
     "data": {
      "text/plain": [
       "405.13171577427397"
      ]
     },
     "execution_count": 76,
     "metadata": {},
     "output_type": "execute_result"
    }
   ],
   "source": [
    "statistics.stdev(mention_count.values())"
   ]
  },
  {
   "cell_type": "code",
   "execution_count": 77,
   "metadata": {},
   "outputs": [
    {
     "data": {
      "text/plain": [
       "400.5"
      ]
     },
     "execution_count": 77,
     "metadata": {},
     "output_type": "execute_result"
    }
   ],
   "source": [
    "statistics.median(mention_count.values())"
   ]
  },
  {
   "cell_type": "code",
   "execution_count": 78,
   "metadata": {
    "scrolled": true
   },
   "outputs": [
    {
     "data": {
      "text/plain": [
       "78"
      ]
     },
     "execution_count": 78,
     "metadata": {},
     "output_type": "execute_result"
    }
   ],
   "source": [
    "len(mention_count)"
   ]
  },
  {
   "cell_type": "code",
   "execution_count": 79,
   "metadata": {},
   "outputs": [
    {
     "data": {
      "text/plain": [
       "[('reddevils', 1991),\n",
       " ('Gunners', 1974),\n",
       " ('MkeBucks', 1331),\n",
       " ('NYKnicks', 1290),\n",
       " ('warriors', 1279),\n",
       " ('DenverBroncos', 1271),\n",
       " ('chelseafc', 1127),\n",
       " ('torontoraptors', 1075),\n",
       " ('denvernuggets', 1033),\n",
       " ('coys', 1007),\n",
       " ('Patriots', 840),\n",
       " ('49ers', 827),\n",
       " ('LiverpoolFC', 811),\n",
       " ('detroitlions', 766),\n",
       " ('CHIBears', 724),\n",
       " ('eagles', 704),\n",
       " ('GreenBayPackers', 698),\n",
       " ('Seahawks', 692),\n",
       " ('bostonceltics', 681),\n",
       " ('suns', 663)]"
      ]
     },
     "execution_count": 79,
     "metadata": {},
     "output_type": "execute_result"
    }
   ],
   "source": [
    "Counter(mention_count).most_common(20)"
   ]
  },
  {
   "cell_type": "code",
   "execution_count": 80,
   "metadata": {},
   "outputs": [
    {
     "data": {
      "text/plain": [
       "{'steelers': [1, 1.0, 1]}"
      ]
     },
     "execution_count": 80,
     "metadata": {},
     "output_type": "execute_result"
    }
   ],
   "source": [
    "ns_subreddit_01['cbc.ca']"
   ]
  },
  {
   "cell_type": "code",
   "execution_count": 81,
   "metadata": {},
   "outputs": [
    {
     "data": {
      "text/plain": [
       "<AxesSubplot:ylabel='Count'>"
      ]
     },
     "execution_count": 81,
     "metadata": {},
     "output_type": "execute_result"
    },
    {
     "data": {
      "image/png": "[encoded data removed]",
      "text/plain": [
       "<Figure size 432x288 with 1 Axes>"
      ]
     },
     "metadata": {},
     "output_type": "display_data"
    }
   ],
   "source": [
    "sns.histplot(list(mention_count.values()), log_scale=True)"
   ]
  },
  {
   "cell_type": "code",
   "execution_count": 82,
   "metadata": {},
   "outputs": [
    {
     "data": {
      "text/plain": [
       "1.2820512820512822"
      ]
     },
     "execution_count": 82,
     "metadata": {},
     "output_type": "execute_result"
    }
   ],
   "source": [
    "len([k for k in mention_count.values() if k <5])*100/len(mention_count)"
   ]
  },
  {
   "cell_type": "code",
   "execution_count": 83,
   "metadata": {},
   "outputs": [
    {
     "data": {
      "text/plain": [
       "50.7"
      ]
     },
     "execution_count": 83,
     "metadata": {},
     "output_type": "execute_result"
    }
   ],
   "source": [
    "(1-0.35)*len(mention_count)"
   ]
  },
  {
   "cell_type": "markdown",
   "metadata": {},
   "source": [
    "## upvote based weight vs comment based weight \n",
    "\n",
    "Do they have correlation?"
   ]
  },
  {
   "cell_type": "markdown",
   "metadata": {},
   "source": [
    "Let's look at January's data"
   ]
  },
  {
   "cell_type": "code",
   "execution_count": 84,
   "metadata": {},
   "outputs": [],
   "source": [
    "upvote_based = [ns_subreddit_01[ns][sr][1] for ns in ns_subreddit_01 for sr in ns_subreddit_01[ns]]\n",
    "comment_based = [ns_subreddit_01[ns][sr][2] for ns in ns_subreddit_01 for sr in ns_subreddit_01[ns]]\n",
    "unweighted = [ns_subreddit_01[ns][sr][0] for ns in ns_subreddit_01 for sr in ns_subreddit_01[ns]]"
   ]
  },
  {
   "cell_type": "code",
   "execution_count": 85,
   "metadata": {},
   "outputs": [
    {
     "data": {
      "text/plain": [
       "Text(0, 0.5, 'upvote_based')"
      ]
     },
     "execution_count": 85,
     "metadata": {},
     "output_type": "execute_result"
    },
    {
     "data": {
      "image/png": "[encoded data removed]",
      "text/plain": [
       "<Figure size 432x288 with 1 Axes>"
      ]
     },
     "metadata": {},
     "output_type": "display_data"
    }
   ],
   "source": [
    "sns.scatterplot(x=comment_based, y=upvote_based, alpha=0.5)\n",
    "plt.xlabel(\"comment_based\")\n",
    "plt.ylabel(\"upvote_based\")\n",
    "# plt.xlim([-100000,4000000])\n",
    "# plt.ylim([-5000,150000])"
   ]
  },
  {
   "cell_type": "code",
   "execution_count": 86,
   "metadata": {},
   "outputs": [
    {
     "data": {
      "text/plain": [
       "Text(0, 0.5, 'upvote_based')"
      ]
     },
     "execution_count": 86,
     "metadata": {},
     "output_type": "execute_result"
    },
    {
     "data": {
      "image/png": "[encoded data removed]",
      "text/plain": [
       "<Figure size 432x288 with 1 Axes>"
      ]
     },
     "metadata": {},
     "output_type": "display_data"
    }
   ],
   "source": [
    "a = sns.scatterplot(x=np.log(np.array([c+1 for c in comment_based])), y=np.log(np.array([u+1 for u in upvote_based])), alpha=0.2)\n",
    "plt.xlabel(\"comment_based\")\n",
    "plt.ylabel(\"upvote_based\")"
   ]
  },
  {
   "cell_type": "code",
   "execution_count": 87,
   "metadata": {},
   "outputs": [],
   "source": [
    "from scipy.stats import pearsonr"
   ]
  },
  {
   "cell_type": "code",
   "execution_count": 88,
   "metadata": {},
   "outputs": [
    {
     "data": {
      "text/plain": [
       "0.7232715080561871"
      ]
     },
     "execution_count": 88,
     "metadata": {},
     "output_type": "execute_result"
    }
   ],
   "source": [
    "corr, _ = pearsonr(np.log(np.array([c+1 for c in comment_based])), np.log(np.array([u+1 for u in upvote_based])))\n",
    "corr"
   ]
  },
  {
   "cell_type": "code",
   "execution_count": 89,
   "metadata": {},
   "outputs": [
    {
     "data": {
      "text/plain": [
       "0.7516748601944006"
      ]
     },
     "execution_count": 89,
     "metadata": {},
     "output_type": "execute_result"
    }
   ],
   "source": [
    "corr_raw, _ = pearsonr(comment_based, upvote_based)\n",
    "corr_raw"
   ]
  },
  {
   "cell_type": "code",
   "execution_count": 90,
   "metadata": {},
   "outputs": [
    {
     "data": {
      "text/plain": [
       "85"
      ]
     },
     "execution_count": 90,
     "metadata": {},
     "output_type": "execute_result"
    }
   ],
   "source": [
    "non_outlier = [n for n in ns_union if subreddit_count[n]>10]\n",
    "len(non_outlier)"
   ]
  },
  {
   "cell_type": "code",
   "execution_count": 91,
   "metadata": {},
   "outputs": [],
   "source": [
    "# with open(\"sport_news_non_outlier.json\", \"w\", encoding=\"utf-8\") as s:\n",
    "#     json.dump(non_outlier, s)"
   ]
  },
  {
   "cell_type": "markdown",
   "metadata": {},
   "source": [
    "## Cluster Try Out"
   ]
  },
  {
   "cell_type": "markdown",
   "metadata": {},
   "source": [
    "First, I make a list of subreddits with fixed order, where I only include subreddits where our non_outlier news sources are mentioned in."
   ]
  },
  {
   "cell_type": "code",
   "execution_count": 92,
   "metadata": {},
   "outputs": [
    {
     "data": {
      "text/plain": [
       "85"
      ]
     },
     "execution_count": 92,
     "metadata": {},
     "output_type": "execute_result"
    }
   ],
   "source": [
    "len(non_outlier)"
   ]
  },
  {
   "cell_type": "code",
   "execution_count": 93,
   "metadata": {
    "scrolled": true
   },
   "outputs": [
    {
     "data": {
      "text/plain": [
       "67"
      ]
     },
     "execution_count": 93,
     "metadata": {},
     "output_type": "execute_result"
    }
   ],
   "source": [
    "# subreddits = subs\n",
    "subreddits = set()\n",
    "nsr_files = [ns_subreddit_01, ns_subreddit_02, ns_subreddit_03, ns_subreddit_04, ns_subreddit_05, ns_subreddit_06]\n",
    "# first, I filter for only the subreddits in which our news sources are mentioned\n",
    "c = 0\n",
    "for n in non_outlier:\n",
    "    subreddits = (subreddits | (set(ns_subreddit_01.get(n, dict()).keys()) \n",
    "                               & set(ns_subreddit_02.get(n, dict()).keys()) \n",
    "                               & set(ns_subreddit_03.get(n, dict()).keys()) \n",
    "                               & set(ns_subreddit_04.get(n, dict()).keys())\n",
    "                               & set(ns_subreddit_05.get(n, dict()).keys()) \n",
    "                               & set(ns_subreddit_06.get(n, dict()).keys())))\n",
    "    c += 1\n",
    "    if c%100==0: print(f\"done {c}\")\n",
    "subreddits = list(subreddits)\n",
    "len(subreddits)"
   ]
  },
  {
   "cell_type": "markdown",
   "metadata": {},
   "source": [
    "There are 9195 subreddits."
   ]
  },
  {
   "cell_type": "code",
   "execution_count": 94,
   "metadata": {},
   "outputs": [
    {
     "data": {
      "text/plain": [
       "['Saints',\n",
       " 'MkeBucks',\n",
       " 'torontoraptors',\n",
       " 'MCFC',\n",
       " 'SaintsFC',\n",
       " 'chicagobulls',\n",
       " 'chelseafc',\n",
       " 'detroitlions',\n",
       " 'miamidolphins',\n",
       " 'KansasCityChiefs']"
      ]
     },
     "execution_count": 94,
     "metadata": {},
     "output_type": "execute_result"
    }
   ],
   "source": [
    "subreddits[-10:]"
   ]
  },
  {
   "cell_type": "markdown",
   "metadata": {},
   "source": [
    "If I should order them later, I can do so."
   ]
  },
  {
   "cell_type": "markdown",
   "metadata": {},
   "source": [
    "## Incorporating subscribers information"
   ]
  },
  {
   "cell_type": "code",
   "execution_count": 95,
   "metadata": {},
   "outputs": [],
   "source": [
    "pd1 = os.path.split(os.getcwd())[0]\n",
    "data_fp = os.path.join(pd1,\"data/gm-newssources-subreddits\")\n",
    "dfp = os.path.join(pd1,\"data\")"
   ]
  },
  {
   "cell_type": "code",
   "execution_count": 96,
   "metadata": {},
   "outputs": [],
   "source": [
    "sfp = os.path.join(pd1,\"data/subreddits\")"
   ]
  },
  {
   "cell_type": "code",
   "execution_count": 97,
   "metadata": {},
   "outputs": [],
   "source": [
    "# Let's only use the subreddits that have lots of subscribers\n",
    "with open (os.path.join(sfp,\"subreddit_subscribers.json\"), \"r\", encoding = \"utf-8\") as infile:\n",
    "    subreddit_subscribers = json.load(infile)"
   ]
  },
  {
   "cell_type": "code",
   "execution_count": 98,
   "metadata": {},
   "outputs": [
    {
     "data": {
      "text/plain": [
       "6201779"
      ]
     },
     "execution_count": 98,
     "metadata": {},
     "output_type": "execute_result"
    }
   ],
   "source": [
    "subreddit_subscribers['politics']"
   ]
  },
  {
   "cell_type": "code",
   "execution_count": 99,
   "metadata": {},
   "outputs": [
    {
     "data": {
      "text/plain": [
       "49055"
      ]
     },
     "execution_count": 99,
     "metadata": {},
     "output_type": "execute_result"
    }
   ],
   "source": [
    "len(subreddit_subscribers)"
   ]
  },
  {
   "cell_type": "code",
   "execution_count": 100,
   "metadata": {},
   "outputs": [
    {
     "data": {
      "text/plain": [
       "67"
      ]
     },
     "execution_count": 100,
     "metadata": {},
     "output_type": "execute_result"
    }
   ],
   "source": [
    "len(subreddits)"
   ]
  },
  {
   "cell_type": "code",
   "execution_count": 101,
   "metadata": {
    "scrolled": true
   },
   "outputs": [
    {
     "data": {
      "text/plain": [
       "67"
      ]
     },
     "execution_count": 101,
     "metadata": {},
     "output_type": "execute_result"
    }
   ],
   "source": [
    "subreddits_w_subc = [k for k in subreddits if k in subreddit_subscribers]\n",
    "len(subreddits_w_subc)"
   ]
  },
  {
   "cell_type": "markdown",
   "metadata": {},
   "source": [
    "It seems that there are `None` values, so let's filter those subreddits out."
   ]
  },
  {
   "cell_type": "code",
   "execution_count": 102,
   "metadata": {},
   "outputs": [
    {
     "name": "stdout",
     "output_type": "stream",
     "text": [
      "[]\n"
     ]
    }
   ],
   "source": [
    "print([s for s in subreddits_w_subc if subreddit_subscribers[s] is None])"
   ]
  },
  {
   "cell_type": "code",
   "execution_count": 103,
   "metadata": {},
   "outputs": [],
   "source": [
    "subreddits_w_subc = [s for s in subreddits_w_subc if subreddit_subscribers[s] is not None]"
   ]
  },
  {
   "cell_type": "code",
   "execution_count": 104,
   "metadata": {},
   "outputs": [
    {
     "data": {
      "text/plain": [
       "67"
      ]
     },
     "execution_count": 104,
     "metadata": {},
     "output_type": "execute_result"
    }
   ],
   "source": [
    "len(subreddits_w_subc)"
   ]
  },
  {
   "cell_type": "markdown",
   "metadata": {},
   "source": [
    "Now, I will sort the 8,294 subreddits based on the # of their subscribers in a descending order."
   ]
  },
  {
   "cell_type": "code",
   "execution_count": 105,
   "metadata": {},
   "outputs": [],
   "source": [
    "srs_all = sorted(subreddits_w_subc, key= lambda x: subreddit_subscribers[x], reverse= True)"
   ]
  },
  {
   "cell_type": "code",
   "execution_count": 106,
   "metadata": {
    "scrolled": false
   },
   "outputs": [
    {
     "data": {
      "text/plain": [
       "Text(0.5, 1.0, 'Subreddits Subscribers')"
      ]
     },
     "execution_count": 106,
     "metadata": {},
     "output_type": "execute_result"
    },
    {
     "data": {
      "image/png": "[encoded data removed]",
      "text/plain": [
       "<Figure size 432x288 with 1 Axes>"
      ]
     },
     "metadata": {},
     "output_type": "display_data"
    }
   ],
   "source": [
    "# plt.hist([math.log(subreddit_subscribers[s],10) for s in srs_all if subreddit_subscribers[s] > 0])\n",
    "sns.histplot([subreddit_subscribers[s] for s in srs_all if subreddit_subscribers[s]>0], log_scale=True)\n",
    "# plt.hist([subreddit_subscribers[s] for s in srs_all if subreddit_subscribers[s] > 0])\n",
    "# plt.yscale(\"log\")\n",
    "# plt.xscale(\"log\")\n",
    "plt.ylabel(\"number of subreddits\")\n",
    "plt.xlabel(\"number of subscribers (10^)\")\n",
    "plt.title(\"Subreddits Subscribers\")\n",
    "# log scale for both x and y"
   ]
  },
  {
   "cell_type": "markdown",
   "metadata": {},
   "source": [
    "Which subreddits are the top three?"
   ]
  },
  {
   "cell_type": "code",
   "execution_count": 107,
   "metadata": {},
   "outputs": [
    {
     "name": "stdout",
     "output_type": "stream",
     "text": [
      "[('Patriots', 535250), ('LosAngelesRams', 387495), ('warriors', 265568), ('LiverpoolFC', 250977), ('reddevils', 240096), ('lakers', 239106), ('torontoraptors', 229126), ('bostonceltics', 207371), ('eagles', 199979), ('chelseafc', 176842), ('Gunners', 162044), ('GreenBayPackers', 157249), ('sixers', 149868), ('cowboys', 133201), ('rockets', 128870), ('chicagobulls', 126536), ('steelers', 115849), ('49ers', 110980), ('NYKnicks', 110101), ('minnesotavikings', 107310), ('Seahawks', 104920), ('MkeBucks', 102969), ('GoNets', 102496), ('Mavericks', 101968), ('CHIBears', 99668), ('Thunder', 96946), ('AtlantaHawks', 96345), ('falcons', 95529), ('KansasCityChiefs', 93204), ('ravens', 90432), ('NBASpurs', 90311), ('timberwolves', 85685), ('Browns', 84275), ('denvernuggets', 82369), ('washingtonwizards', 80246), ('suns', 79819), ('UtahJazz', 79381), ('DenverBroncos', 78960), ('LAClippers', 78619), ('kings', 78406), ('detroitlions', 78160), ('NYGiants', 75984), ('pacers', 71666), ('DetroitPistons', 71330), ('NOLAPelicans', 71292), ('coys', 68733), ('memphisgrizzlies', 67907), ('Saints', 67511), ('MCFC', 67281), ('miamidolphins', 65440), ('CharlotteHornets', 65199), ('buffalobills', 63978), ('bengals', 63650), ('nyjets', 63602), ('panthers', 62618), ('buccaneers', 60592), ('clevelandcavs', 58327), ('Texans', 56252), ('Colts', 53095), ('AZCardinals', 49764), ('heat', 48263), ('Tennesseetitans', 47197), ('Chargers', 46509), ('Jaguars', 46249), ('Everton', 21052)]\n"
     ]
    }
   ],
   "source": [
    "print([(s,subreddit_subscribers[s]) for s in srs_all if subreddit_subscribers[s]>10000])"
   ]
  },
  {
   "cell_type": "code",
   "execution_count": 108,
   "metadata": {},
   "outputs": [
    {
     "data": {
      "text/plain": [
       "25"
      ]
     },
     "execution_count": 108,
     "metadata": {},
     "output_type": "execute_result"
    }
   ],
   "source": [
    "list(subreddit_subscribers.values()).count(None)"
   ]
  },
  {
   "cell_type": "code",
   "execution_count": 109,
   "metadata": {},
   "outputs": [
    {
     "data": {
      "text/plain": [
       "1420.0"
      ]
     },
     "execution_count": 109,
     "metadata": {},
     "output_type": "execute_result"
    }
   ],
   "source": [
    "statistics.median([k for k in list(subreddit_subscribers.values()) if k is not None])"
   ]
  },
  {
   "cell_type": "code",
   "execution_count": 110,
   "metadata": {},
   "outputs": [
    {
     "data": {
      "text/plain": [
       "50070.832184376915"
      ]
     },
     "execution_count": 110,
     "metadata": {},
     "output_type": "execute_result"
    }
   ],
   "source": [
    "statistics.mean([k for k in list(subreddit_subscribers.values()) if k is not None])"
   ]
  },
  {
   "cell_type": "markdown",
   "metadata": {},
   "source": [
    "## Building `ns_repr`\n",
    "\n",
    "Which will be in the form of feature-based matrix, where each row represents a news source, and columns representing subreddits. \n",
    "\n",
    "Idea 1: Each subreddit will be represented by 18 columns: unweighted count, upvote based weighted count, and comment based weighted count for each of the six months that we are interested in. THIS does not work.\n",
    "\n",
    "Idea 2: Each subreddit will be represented by 3 columns: average unweighted count, average upvote based weighted count, and average comment based weighted count."
   ]
  },
  {
   "cell_type": "code",
   "execution_count": 111,
   "metadata": {},
   "outputs": [],
   "source": [
    "srs = srs_all"
   ]
  },
  {
   "cell_type": "code",
   "execution_count": 112,
   "metadata": {},
   "outputs": [
    {
     "data": {
      "text/plain": [
       "{'a': 1, 'b': 1, 'c': 2}"
      ]
     },
     "execution_count": 112,
     "metadata": {},
     "output_type": "execute_result"
    }
   ],
   "source": [
    "a = {\"a\": 1, \"b\": 2}\n",
    "b = {\"b\": 1, \"c\": 2}\n",
    "res = {**a, **b}\n",
    "res"
   ]
  },
  {
   "cell_type": "markdown",
   "metadata": {},
   "source": [
    "Idea 1: For each news source, I create a list of length `(18 * # subreddits)`.\n",
    "\n",
    "Idea 1: For each news source, I create a list of length `(3 * # subreddits)`"
   ]
  },
  {
   "cell_type": "markdown",
   "metadata": {},
   "source": [
    "Old code\n",
    "```\n",
    "# here I will cast the inner dictionaries of ns_subreddits to be Counter so I can avoid a lot of if-else statements\n",
    "files = [ns_subreddit_01, ns_subreddit_02, ns_subreddit_03, ns_subreddit_04, ns_subreddit_05, ns_subreddit_06]\n",
    "for f in files:\n",
    "    for k in f: # k is each news source\n",
    "        for ns in f[k]:\n",
    "            # averaging based on weighted counts\n",
    "            count, upv, comm = f[k][ns]\n",
    "            avg = (upv + comm)/count\n",
    "            f[k][ns] = avg\n",
    "        f[k] = Counter(f[k])\n",
    "```"
   ]
  },
  {
   "cell_type": "code",
   "execution_count": 113,
   "metadata": {},
   "outputs": [],
   "source": [
    "files_sub = [subreddit_ns_jan, subreddit_ns_feb, subreddit_ns_march, subreddit_ns_april, subreddit_ns_may, subreddit_ns_jun]\n",
    "files_ns = [ns_subreddit_01, ns_subreddit_02, ns_subreddit_03, ns_subreddit_04, ns_subreddit_05, ns_subreddit_06]"
   ]
  },
  {
   "cell_type": "code",
   "execution_count": 114,
   "metadata": {},
   "outputs": [
    {
     "data": {
      "text/plain": [
       "85"
      ]
     },
     "execution_count": 114,
     "metadata": {},
     "output_type": "execute_result"
    }
   ],
   "source": [
    "len(non_outlier)"
   ]
  },
  {
   "cell_type": "code",
   "execution_count": 115,
   "metadata": {},
   "outputs": [
    {
     "data": {
      "text/plain": [
       "67"
      ]
     },
     "execution_count": 115,
     "metadata": {},
     "output_type": "execute_result"
    }
   ],
   "source": [
    "len(srs)"
   ]
  },
  {
   "cell_type": "markdown",
   "metadata": {},
   "source": [
    "I tried and found out that using all 23.7k subreddits results in MemoryError. So I should use less"
   ]
  },
  {
   "cell_type": "code",
   "execution_count": 116,
   "metadata": {},
   "outputs": [],
   "source": [
    "srs = srs_all"
   ]
  },
  {
   "cell_type": "markdown",
   "metadata": {
    "scrolled": true
   },
   "source": [
    "For idea 1:\n",
    "\n",
    "```\n",
    "ns_sr_rep = defaultdict(list)\n",
    "default_counter = Counter() # to avoid a lot of if else statements\n",
    "\n",
    "ncount = 0\n",
    "\n",
    "# for ns in nss:\n",
    "for ns in non_outlier:\n",
    "    # for each news sources, construct the 18*length(subreddits) features\n",
    "    for f in files_sub:\n",
    "        for idx in range(len(srs)):\n",
    "            # making sure the ordering follows `srs` based on subscribers\n",
    "            ns_sr_rep[ns] += f[ns][srs[idx]][1:] if (ns in f and srs[idx] in f[ns]) else [0, 0]\n",
    "    ncount += 1\n",
    "    if ncount%200==0: print(ncount)\n",
    "```"
   ]
  },
  {
   "cell_type": "code",
   "execution_count": 117,
   "metadata": {},
   "outputs": [],
   "source": [
    "# For idea 2\n",
    "\n",
    "ns_sr_rep = defaultdict(list)\n",
    "default_counter = Counter() # to avoid a lot of if else statements\n",
    "\n",
    "ncount = 0\n",
    "\n",
    "# for ns in nss:\n",
    "for ns in non_outlier:\n",
    "    # for each news sources, construct the length(subreddits) features\n",
    "    for idx in range(len(srs)):\n",
    "        # making sure the ordering follows `srs` based on subscribers\n",
    "        current_sr = srs[idx]\n",
    "        # avg_unweighted_counts = sum([ii[current_sr][ns][0] if current_sr in ii and ns in ii[current_sr] else 0 for ii in files_sub])/6\n",
    "        avg_votebased_counts = sum([ii[current_sr][ns][1] if (current_sr in ii and ns in ii[current_sr]) else 0 for ii in files_sub])/6\n",
    "        avg_commentbased_counts = sum([ii[current_sr][ns][2] if current_sr in ii and ns in ii[current_sr] else 0 for ii in files_sub])/6\n",
    "        ns_sr_rep[ns] += [avg_votebased_counts, avg_commentbased_counts]\n",
    "    ncount += 1\n",
    "    if ncount%200==0: print(ncount)"
   ]
  },
  {
   "cell_type": "code",
   "execution_count": 118,
   "metadata": {},
   "outputs": [
    {
     "data": {
      "text/plain": [
       "67"
      ]
     },
     "execution_count": 118,
     "metadata": {},
     "output_type": "execute_result"
    }
   ],
   "source": [
    "len(srs)"
   ]
  },
  {
   "cell_type": "code",
   "execution_count": 119,
   "metadata": {},
   "outputs": [
    {
     "data": {
      "text/plain": [
       "85"
      ]
     },
     "execution_count": 119,
     "metadata": {},
     "output_type": "execute_result"
    }
   ],
   "source": [
    "len(non_outlier)"
   ]
  },
  {
   "cell_type": "markdown",
   "metadata": {},
   "source": [
    "    code started at 22:56"
   ]
  },
  {
   "cell_type": "markdown",
   "metadata": {},
   "source": [
    "Let's see one example of representation for `nytimes.com`."
   ]
  },
  {
   "cell_type": "code",
   "execution_count": 120,
   "metadata": {},
   "outputs": [
    {
     "data": {
      "text/plain": [
       "[0.0,\n",
       " 0.0,\n",
       " 0.0,\n",
       " 0.0,\n",
       " 0.0,\n",
       " 0.0,\n",
       " 6.2200000000000015,\n",
       " 128.0,\n",
       " 14.876666666666667,\n",
       " 668.3333333333334,\n",
       " 0.0,\n",
       " 0.0,\n",
       " 0.0,\n",
       " 0.0,\n",
       " 0.0,\n",
       " 0.0,\n",
       " 0.0,\n",
       " 0.0,\n",
       " 5.345,\n",
       " 549.1666666666666,\n",
       " 7.181666666666668,\n",
       " 324.1666666666667,\n",
       " 0.0,\n",
       " 0.0,\n",
       " 0.0,\n",
       " 0.0,\n",
       " 0.0,\n",
       " 0.0,\n",
       " 0.0,\n",
       " 0.0,\n",
       " 0.0,\n",
       " 0.0,\n",
       " 0.0,\n",
       " 0.0,\n",
       " 0.16,\n",
       " 3.0,\n",
       " 0.0,\n",
       " 0.0,\n",
       " 0.0,\n",
       " 0.0,\n",
       " 0.0,\n",
       " 0.0,\n",
       " 0.0,\n",
       " 0.0,\n",
       " 0.0,\n",
       " 0.0,\n",
       " 0.0,\n",
       " 0.0,\n",
       " 0.0,\n",
       " 0.0,\n",
       " 0.0,\n",
       " 0.0,\n",
       " 0.0,\n",
       " 0.0,\n",
       " 0.0,\n",
       " 0.0,\n",
       " 0.0,\n",
       " 0.0,\n",
       " 0.0,\n",
       " 0.0,\n",
       " 0.0,\n",
       " 0.0,\n",
       " 0.0,\n",
       " 0.0,\n",
       " 0.0,\n",
       " 0.0,\n",
       " 0.0,\n",
       " 0.0,\n",
       " 0.0,\n",
       " 0.0,\n",
       " 0.0,\n",
       " 0.0,\n",
       " 0.0,\n",
       " 0.0,\n",
       " 0.0,\n",
       " 0.0,\n",
       " 0.0,\n",
       " 0.0,\n",
       " 0.0,\n",
       " 0.0,\n",
       " 0.0,\n",
       " 0.0,\n",
       " 0.0,\n",
       " 0.0,\n",
       " 0.0,\n",
       " 0.0,\n",
       " 0.0,\n",
       " 0.0,\n",
       " 0.0,\n",
       " 0.0,\n",
       " 4.161666666666667,\n",
       " 153.0,\n",
       " 0.0,\n",
       " 0.0,\n",
       " 0.0,\n",
       " 0.0,\n",
       " 3.0850000000000004,\n",
       " 46.666666666666664,\n",
       " 0.0,\n",
       " 0.0,\n",
       " 0.0,\n",
       " 0.0,\n",
       " 0.0,\n",
       " 0.0,\n",
       " 0.0,\n",
       " 0.0,\n",
       " 0.0,\n",
       " 0.0,\n",
       " 0.0,\n",
       " 0.0,\n",
       " 0.0,\n",
       " 0.0,\n",
       " 0.0,\n",
       " 0.0,\n",
       " 0.0,\n",
       " 0.0,\n",
       " 0.0,\n",
       " 0.0,\n",
       " 0.0,\n",
       " 0.0,\n",
       " 0.0,\n",
       " 0.0,\n",
       " 0.0,\n",
       " 0.0,\n",
       " 0.0,\n",
       " 0.0,\n",
       " 0.0,\n",
       " 0.0,\n",
       " 2.2783333333333333,\n",
       " 116.66666666666667,\n",
       " 5.666666666666667,\n",
       " 160.0,\n",
       " 2.626666666666667,\n",
       " 10.666666666666666]"
      ]
     },
     "execution_count": 120,
     "metadata": {},
     "output_type": "execute_result"
    }
   ],
   "source": [
    "ns_sr_rep[\"bbc.co.uk\"]"
   ]
  },
  {
   "cell_type": "markdown",
   "metadata": {},
   "source": [
    "Let's investigate the sparsity of our data"
   ]
  },
  {
   "cell_type": "code",
   "execution_count": 121,
   "metadata": {},
   "outputs": [],
   "source": [
    "from numpy import array\n",
    "from numpy import count_nonzero\n",
    "from scipy.sparse import csr_matrix"
   ]
  },
  {
   "cell_type": "code",
   "execution_count": 122,
   "metadata": {},
   "outputs": [],
   "source": [
    "# ns_repr, ns_fixed = np.array([v[1] for v in items]), list([v[0] for v in items]) # this causes memory error\n",
    "## MemoryError: Unable to allocate 15.3 GiB for an array with shape (11436, 180000) and data type float64\n",
    "items = ns_sr_rep.items()\n",
    "ns_repr = np.array([k for k in ns_sr_rep.values()])"
   ]
  },
  {
   "cell_type": "code",
   "execution_count": 123,
   "metadata": {},
   "outputs": [
    {
     "data": {
      "text/plain": [
       "array([[0.00000000e+00, 0.00000000e+00, 0.00000000e+00, ...,\n",
       "        0.00000000e+00, 0.00000000e+00, 0.00000000e+00],\n",
       "       [0.00000000e+00, 0.00000000e+00, 0.00000000e+00, ...,\n",
       "        0.00000000e+00, 0.00000000e+00, 0.00000000e+00],\n",
       "       [7.73333333e-01, 1.76666667e+01, 3.11666667e-01, ...,\n",
       "        0.00000000e+00, 0.00000000e+00, 0.00000000e+00],\n",
       "       ...,\n",
       "       [4.83333333e-01, 8.33333333e-01, 0.00000000e+00, ...,\n",
       "        0.00000000e+00, 0.00000000e+00, 0.00000000e+00],\n",
       "       [0.00000000e+00, 0.00000000e+00, 0.00000000e+00, ...,\n",
       "        0.00000000e+00, 0.00000000e+00, 0.00000000e+00],\n",
       "       [4.13500000e+00, 1.98333333e+02, 6.48333333e-01, ...,\n",
       "        0.00000000e+00, 1.66666667e-01, 0.00000000e+00]])"
      ]
     },
     "execution_count": 123,
     "metadata": {},
     "output_type": "execute_result"
    }
   ],
   "source": [
    "ns_repr[:10]"
   ]
  },
  {
   "cell_type": "code",
   "execution_count": 124,
   "metadata": {},
   "outputs": [],
   "source": [
    "sparsity = 1.0 - np.count_nonzero(ns_repr)/ns_repr.size"
   ]
  },
  {
   "cell_type": "code",
   "execution_count": 125,
   "metadata": {},
   "outputs": [
    {
     "data": {
      "text/plain": [
       "0.6286215978928885"
      ]
     },
     "execution_count": 125,
     "metadata": {},
     "output_type": "execute_result"
    }
   ],
   "source": [
    "sparsity"
   ]
  },
  {
   "cell_type": "markdown",
   "metadata": {},
   "source": [
    "Wow very high sparsity."
   ]
  },
  {
   "cell_type": "code",
   "execution_count": 126,
   "metadata": {},
   "outputs": [
    {
     "data": {
      "text/plain": [
       "85"
      ]
     },
     "execution_count": 126,
     "metadata": {},
     "output_type": "execute_result"
    }
   ],
   "source": [
    "len(non_outlier)"
   ]
  },
  {
   "cell_type": "markdown",
   "metadata": {},
   "source": [
    "How many subreddits have all 0's for all news sources?"
   ]
  },
  {
   "cell_type": "code",
   "execution_count": 127,
   "metadata": {},
   "outputs": [
    {
     "name": "stdout",
     "output_type": "stream",
     "text": [
      "0.13 0.9714705882352941 5.967525159508248 1\n",
      "0.16666666666666666 37.537254901960786 9644.130539993776 2\n",
      "0.0 0.3150588235294118 1.1393875295673825 3\n",
      "0.0 5.9980392156862745 384.8204326174914 4\n",
      "0.0 2.0736470588235294 98.33422582633051 5\n",
      "0.0 1673.5960784313725 156101061.34350294 6\n",
      "0.0 0.827 4.538353756613756 7\n",
      "0.0 72.48039215686275 48797.777388733266 8\n",
      "0.0 1.9070980392156862 25.915844388422038 9\n",
      "0.0 273.5352941176471 3026604.9048241517 10\n",
      "0.13999999999999999 0.8344313725490196 6.602561941332087 11\n",
      "0.6666666666666666 41.24901960784314 66270.78744942423 12\n",
      "0.0 1.43421568627451 31.876324377528785 13\n",
      "0.0 920.2607843137255 27419206.11868192 14\n",
      "0.12333333333333334 0.8247254901960784 8.188370161842514 15\n",
      "1.0 85.63921568627451 320857.0448723934 16\n",
      "0.0 0.7860784313725491 4.1264737239340175 17\n",
      "0.0 45.62549019607843 15002.636842514785 18\n",
      "0.0 0.8845098039215686 5.453585967164643 19\n",
      "0.0 99.9843137254902 197392.76297852473 20\n",
      "0.0 1.1114117647058823 9.178895536103331 21\n",
      "0.0 65.36470588235294 40573.11077653284 22\n",
      "0.10666666666666667 0.6664509803921568 2.837100713507625 23\n",
      "0.0 20.14705882352941 2719.39246809835 24\n",
      "0.0 0.8175882352941177 7.137188525521321 25\n",
      "0.0 33.60588235294117 25969.81735916589 26\n",
      "0.0 0.3322549019607843 0.5602864884842825 27\n",
      "0.0 13.898039215686275 1207.7546918767507 28\n",
      "0.0 0.2876666666666667 0.5621154894179895 29\n",
      "0.0 3.2705882352941176 167.15540771864303 30\n",
      "0.0 0.9978431372549019 52.667414737005906 31\n",
      "0.0 334.7725490196079 9147594.654660756 32\n",
      "0.0 0.46841176470588236 1.6303052186430125 33\n",
      "0.0 13.388235294117647 1052.5491985683163 34\n",
      "0.0 1.002921568627451 19.087563419701212 35\n",
      "0.0 31.274509803921568 23719.12480547775 36\n",
      "0.013333333333333334 1.9104117647058823 86.95362704403982 37\n",
      "0.0 1749.294117647059 250223483.24712116 38\n",
      "0.0 0.405921568627451 1.212237798008092 39\n",
      "0.0 15.509803921568627 2756.4592281356986 40\n",
      "0.0 0.9139019607843137 7.209337668845315 41\n",
      "0.0 28.562745098039215 8536.408053221288 42\n",
      "0.0 2.1797647058823526 339.24344875350135 43\n",
      "0.0 1778.050980392157 267870687.75266114 44\n",
      "0.0 0.8879019607843137 19.242213899004046 45\n",
      "0.0 318.8705882352941 8392433.29720666 46\n",
      "0.0 0.8830196078431372 15.109459490351691 47\n",
      "0.0 263.1921568627451 2730870.5717631495 48\n",
      "0.0 0.786921568627451 4.995344940865235 49\n",
      "0.0 129.9549019607843 577617.9281668223 50\n",
      "0.0 0.26619607843137255 1.0920487838468722 51\n",
      "0.0 7.770588235294118 2610.4397992530344 52\n",
      "0.0 0.364078431372549 1.164229200124494 53\n",
      "0.0 15.492156862745098 10420.495308123249 54\n",
      "0.0 0.3921372549019608 1.0642496436352318 55\n",
      "0.0 9.52156862745098 732.428431372549 56\n",
      "0.0 0.4212941176470588 1.0592485037348274 57\n",
      "0.0 27.027450980392157 7733.6202692188 58\n",
      "0.0 0.4943921568627451 1.4748111671335202 59\n",
      "0.0 9.066666666666666 551.6066137566138 60\n",
      "0.0 0.4830392156862745 5.594774945533768 61\n",
      "0.0 112.21764705882353 871033.6885076253 62\n",
      "0.0 0.4259607843137255 3.481064046062871 63\n",
      "0.0 65.33725490196079 309139.7764394647 64\n",
      "0.0 0.755313725490196 3.9334831014628073 65\n",
      "0.0 172.66470588235293 983725.8938453159 66\n",
      "0.0 1.7483725490196078 101.42532017040149 67\n"
     ]
    }
   ],
   "source": [
    "counter = 0\n",
    "for ii in range(len(srs)):\n",
    "    fl = []\n",
    "    for kk in ns_repr:\n",
    "        fl.append(kk[ii])\n",
    "    counter += 1\n",
    "    print(statistics.median(fl), statistics.mean(fl), statistics.variance(fl), counter)"
   ]
  },
  {
   "cell_type": "code",
   "execution_count": 128,
   "metadata": {
    "scrolled": true
   },
   "outputs": [
    {
     "name": "stdout",
     "output_type": "stream",
     "text": [
      "  (0, 4)\t0.4916666666666667\n",
      "  (0, 5)\t60.5\n",
      "  (0, 10)\t0.4216666666666667\n",
      "  (0, 11)\t5.666666666666667\n",
      "  (0, 12)\t0.48333333333333334\n",
      "  (0, 13)\t4.166666666666667\n",
      "  (0, 14)\t0.9633333333333333\n",
      "  (0, 15)\t107.83333333333333\n",
      "  (0, 24)\t0.12333333333333334\n",
      "  (0, 25)\t9.833333333333334\n",
      "  (0, 28)\t0.16666666666666666\n",
      "  (0, 36)\t0.09999999999999999\n",
      "  (0, 37)\t3.5\n",
      "  (0, 52)\t0.16333333333333333\n",
      "  (0, 53)\t6.166666666666667\n",
      "  (0, 60)\t0.15333333333333335\n",
      "  (0, 61)\t1.8333333333333333\n",
      "  (0, 62)\t0.355\n",
      "  (0, 63)\t8.166666666666666\n",
      "  (0, 68)\t0.16666666666666666\n",
      "  (0, 84)\t0.16666666666666666\n",
      "  (0, 86)\t0.28\n",
      "  (0, 87)\t2.5\n",
      "  (0, 100)\t0.325\n",
      "  (0, 101)\t1.1666666666666667\n",
      "  :\t:\n",
      "  (84, 99)\t4.0\n",
      "  (84, 102)\t0.3033333333333333\n",
      "  (84, 103)\t6.333333333333333\n",
      "  (84, 104)\t0.295\n",
      "  (84, 105)\t10.0\n",
      "  (84, 106)\t6.246666666666667\n",
      "  (84, 107)\t155.5\n",
      "  (84, 108)\t0.4666666666666666\n",
      "  (84, 109)\t9.5\n",
      "  (84, 110)\t0.31666666666666665\n",
      "  (84, 111)\t5.0\n",
      "  (84, 112)\t0.13833333333333334\n",
      "  (84, 113)\t4.0\n",
      "  (84, 114)\t0.6783333333333332\n",
      "  (84, 115)\t19.333333333333332\n",
      "  (84, 118)\t0.3016666666666667\n",
      "  (84, 119)\t5.333333333333333\n",
      "  (84, 120)\t0.12166666666666666\n",
      "  (84, 121)\t1.5\n",
      "  (84, 122)\t0.125\n",
      "  (84, 123)\t2.6666666666666665\n",
      "  (84, 124)\t0.15666666666666665\n",
      "  (84, 125)\t1.0\n",
      "  (84, 126)\t0.3116666666666667\n",
      "  (84, 127)\t23.333333333333332\n"
     ]
    }
   ],
   "source": [
    "# convert to sparse matrix (CSR method)\n",
    "S = csr_matrix(ns_repr)\n",
    "print(S)"
   ]
  },
  {
   "cell_type": "markdown",
   "metadata": {},
   "source": [
    "### Now PCA"
   ]
  },
  {
   "cell_type": "code",
   "execution_count": 129,
   "metadata": {},
   "outputs": [
    {
     "name": "stdout",
     "output_type": "stream",
     "text": [
      "[array([0.00000000e+00, 0.00000000e+00, 0.00000000e+00, 0.00000000e+00,\n",
      "       0.00000000e+00, 0.00000000e+00, 2.00000000e+00, 0.00000000e+00,\n",
      "       5.90166667e+00, 3.98166667e+02, 0.00000000e+00, 0.00000000e+00,\n",
      "       0.00000000e+00, 0.00000000e+00, 0.00000000e+00, 0.00000000e+00,\n",
      "       0.00000000e+00, 0.00000000e+00, 4.64833333e+00, 2.14666667e+02,\n",
      "       7.29500000e+00, 3.15000000e+01, 0.00000000e+00, 0.00000000e+00,\n",
      "       0.00000000e+00, 0.00000000e+00, 0.00000000e+00, 0.00000000e+00,\n",
      "       0.00000000e+00, 0.00000000e+00, 0.00000000e+00, 0.00000000e+00,\n",
      "       0.00000000e+00, 0.00000000e+00, 0.00000000e+00, 0.00000000e+00,\n",
      "       0.00000000e+00, 0.00000000e+00, 0.00000000e+00, 0.00000000e+00,\n",
      "       0.00000000e+00, 0.00000000e+00, 0.00000000e+00, 0.00000000e+00,\n",
      "       0.00000000e+00, 0.00000000e+00, 1.23333333e-01, 1.66666667e+00,\n",
      "       0.00000000e+00, 0.00000000e+00, 0.00000000e+00, 0.00000000e+00,\n",
      "       0.00000000e+00, 0.00000000e+00, 0.00000000e+00, 0.00000000e+00,\n",
      "       0.00000000e+00, 0.00000000e+00, 0.00000000e+00, 0.00000000e+00,\n",
      "       0.00000000e+00, 0.00000000e+00, 1.33333333e-01, 2.66666667e+00,\n",
      "       0.00000000e+00, 0.00000000e+00, 0.00000000e+00, 0.00000000e+00,\n",
      "       0.00000000e+00, 0.00000000e+00, 0.00000000e+00, 0.00000000e+00,\n",
      "       0.00000000e+00, 0.00000000e+00, 0.00000000e+00, 0.00000000e+00,\n",
      "       0.00000000e+00, 0.00000000e+00, 0.00000000e+00, 0.00000000e+00,\n",
      "       0.00000000e+00, 0.00000000e+00, 0.00000000e+00, 0.00000000e+00,\n",
      "       0.00000000e+00, 0.00000000e+00, 0.00000000e+00, 0.00000000e+00,\n",
      "       0.00000000e+00, 0.00000000e+00, 5.01000000e+00, 9.80000000e+01,\n",
      "       0.00000000e+00, 0.00000000e+00, 0.00000000e+00, 0.00000000e+00,\n",
      "       3.74166667e+00, 1.46500000e+02, 0.00000000e+00, 0.00000000e+00,\n",
      "       0.00000000e+00, 0.00000000e+00, 0.00000000e+00, 0.00000000e+00,\n",
      "       0.00000000e+00, 0.00000000e+00, 0.00000000e+00, 0.00000000e+00,\n",
      "       0.00000000e+00, 0.00000000e+00, 1.66666667e-01, 0.00000000e+00,\n",
      "       0.00000000e+00, 0.00000000e+00, 0.00000000e+00, 0.00000000e+00,\n",
      "       0.00000000e+00, 0.00000000e+00, 0.00000000e+00, 0.00000000e+00,\n",
      "       0.00000000e+00, 0.00000000e+00, 0.00000000e+00, 0.00000000e+00,\n",
      "       0.00000000e+00, 0.00000000e+00, 0.00000000e+00, 0.00000000e+00,\n",
      "       6.45000000e-01, 1.98333333e+01, 4.83333333e-01, 4.16666667e+00,\n",
      "       3.54500000e+00, 3.55000000e+01]), array([0.13      , 0.33333333, 0.        , 0.        , 0.        ,\n",
      "       0.        , 0.        , 0.        , 0.        , 0.        ,\n",
      "       0.        , 0.        , 0.        , 0.        , 0.        ,\n",
      "       0.        , 0.        , 0.        , 0.        , 0.        ,\n",
      "       0.        , 0.        , 0.        , 0.        , 0.        ,\n",
      "       0.        , 0.        , 0.        , 0.        , 0.        ,\n",
      "       0.        , 0.        , 0.13333333, 0.        , 0.        ,\n",
      "       0.        , 0.        , 0.        , 0.        , 0.        ,\n",
      "       0.        , 0.        , 0.        , 0.        , 0.        ,\n",
      "       0.        , 0.        , 0.        , 0.        , 0.        ,\n",
      "       0.        , 0.        , 0.        , 0.        , 0.        ,\n",
      "       0.        , 0.16666667, 0.        , 0.15833333, 1.66666667,\n",
      "       0.        , 0.        , 0.        , 0.        , 0.16666667,\n",
      "       0.83333333, 0.        , 0.        , 0.        , 0.        ,\n",
      "       0.        , 0.        , 0.        , 0.        , 0.13666667,\n",
      "       0.        , 0.        , 0.        , 0.        , 0.        ,\n",
      "       0.        , 0.        , 0.        , 0.        , 0.        ,\n",
      "       0.        , 0.        , 0.        , 0.        , 0.        ,\n",
      "       0.        , 0.        , 0.        , 0.        , 0.        ,\n",
      "       0.        , 0.        , 0.        , 0.14666667, 0.33333333,\n",
      "       0.        , 0.        , 0.        , 0.        , 0.31833333,\n",
      "       2.66666667, 0.155     , 0.66666667, 0.        , 0.        ,\n",
      "       0.        , 0.        , 0.        , 0.        , 0.16666667,\n",
      "       0.        , 0.16166667, 0.        , 0.        , 0.        ,\n",
      "       0.        , 0.        , 0.155     , 1.83333333, 0.15666667,\n",
      "       0.66666667, 0.295     , 0.16666667, 0.        , 0.        ,\n",
      "       0.        , 0.        , 0.        , 0.        ]), array([3.60000000e+00, 1.89500000e+02, 1.60000000e-01, 3.03333333e+01,\n",
      "       0.00000000e+00, 0.00000000e+00, 0.00000000e+00, 0.00000000e+00,\n",
      "       0.00000000e+00, 0.00000000e+00, 1.36666667e-01, 1.51666667e+01,\n",
      "       0.00000000e+00, 0.00000000e+00, 6.23333333e-01, 4.30000000e+01,\n",
      "       4.58333333e-01, 1.56666667e+01, 0.00000000e+00, 0.00000000e+00,\n",
      "       0.00000000e+00, 0.00000000e+00, 0.00000000e+00, 0.00000000e+00,\n",
      "       6.00000000e-02, 3.16666667e+00, 0.00000000e+00, 0.00000000e+00,\n",
      "       0.00000000e+00, 0.00000000e+00, 0.00000000e+00, 0.00000000e+00,\n",
      "       6.51666667e-01, 1.25000000e+01, 6.40000000e-01, 1.65000000e+01,\n",
      "       0.00000000e+00, 0.00000000e+00, 3.18333333e-01, 4.90000000e+01,\n",
      "       1.43333333e-01, 5.16666667e+00, 0.00000000e+00, 0.00000000e+00,\n",
      "       8.33333333e-02, 8.33333333e-01, 0.00000000e+00, 0.00000000e+00,\n",
      "       4.08333333e-01, 6.63333333e+01, 0.00000000e+00, 0.00000000e+00,\n",
      "       0.00000000e+00, 0.00000000e+00, 0.00000000e+00, 0.00000000e+00,\n",
      "       0.00000000e+00, 0.00000000e+00, 2.43333333e-01, 2.33333333e+00,\n",
      "       0.00000000e+00, 0.00000000e+00, 0.00000000e+00, 0.00000000e+00,\n",
      "       0.00000000e+00, 0.00000000e+00, 1.75500000e+00, 1.70000000e+01,\n",
      "       0.00000000e+00, 0.00000000e+00, 1.66666667e-01, 1.83333333e+00,\n",
      "       0.00000000e+00, 0.00000000e+00, 1.34000000e+00, 2.11666667e+01,\n",
      "       2.48333333e-01, 2.50000000e+00, 1.43333333e-01, 3.33333333e+00,\n",
      "       1.61666667e-01, 8.33333333e-01, 0.00000000e+00, 0.00000000e+00,\n",
      "       0.00000000e+00, 0.00000000e+00, 0.00000000e+00, 0.00000000e+00,\n",
      "       0.00000000e+00, 0.00000000e+00, 0.00000000e+00, 0.00000000e+00,\n",
      "       0.00000000e+00, 0.00000000e+00, 1.11666667e-01, 4.50000000e+00,\n",
      "       0.00000000e+00, 0.00000000e+00, 0.00000000e+00, 0.00000000e+00,\n",
      "       0.00000000e+00, 0.00000000e+00, 0.00000000e+00, 0.00000000e+00,\n",
      "       0.00000000e+00, 0.00000000e+00, 0.00000000e+00, 0.00000000e+00,\n",
      "       0.00000000e+00, 0.00000000e+00, 0.00000000e+00, 0.00000000e+00,\n",
      "       0.00000000e+00, 0.00000000e+00, 0.00000000e+00, 0.00000000e+00,\n",
      "       1.45000000e-01, 1.83333333e+00, 0.00000000e+00, 0.00000000e+00,\n",
      "       0.00000000e+00, 0.00000000e+00, 1.61666667e-01, 2.28333333e+01,\n",
      "       0.00000000e+00, 0.00000000e+00, 0.00000000e+00, 0.00000000e+00,\n",
      "       0.00000000e+00, 0.00000000e+00, 0.00000000e+00, 0.00000000e+00,\n",
      "       0.00000000e+00, 0.00000000e+00]), array([8.46500000e+00, 3.25500000e+02, 8.91166667e+00, 1.34666667e+02,\n",
      "       7.20000000e-01, 2.95000000e+01, 9.83333333e-02, 3.33333333e-01,\n",
      "       1.58333333e-01, 6.66666667e-01, 1.96333333e+00, 5.65000000e+01,\n",
      "       5.53333333e-01, 1.93333333e+01, 2.81833333e+00, 6.51666667e+01,\n",
      "       6.31666667e+00, 3.24500000e+02, 2.16666667e-02, 2.33333333e+00,\n",
      "       1.38333333e-01, 4.05000000e+01, 8.81833333e+00, 2.97833333e+02,\n",
      "       3.47500000e+00, 5.80000000e+01, 2.30833333e+00, 7.61666667e+01,\n",
      "       1.38833333e+00, 2.08333333e+01, 4.80000000e-01, 1.00000000e+00,\n",
      "       3.59500000e+00, 1.18666667e+02, 5.91833333e+00, 1.34666667e+02,\n",
      "       9.55000000e-01, 1.93333333e+01, 4.04666667e+00, 1.34000000e+02,\n",
      "       3.79500000e+00, 7.03333333e+01, 1.65000000e-01, 1.16666667e+00,\n",
      "       1.95000000e-01, 4.00000000e+00, 3.61666667e-01, 5.00000000e-01,\n",
      "       8.60000000e+00, 3.38666667e+02, 1.59000000e+00, 1.80000000e+01,\n",
      "       5.80000000e-01, 4.00000000e+00, 4.54333333e+00, 1.43166667e+02,\n",
      "       6.10166667e+00, 1.49000000e+02, 5.04333333e+00, 6.48333333e+01,\n",
      "       0.00000000e+00, 0.00000000e+00, 3.76666667e-01, 4.66666667e+00,\n",
      "       7.64166667e+00, 9.56666667e+01, 4.78333333e-01, 5.33333333e+00,\n",
      "       1.66666667e-01, 1.00000000e+00, 9.86666667e-01, 9.16666667e+00,\n",
      "       6.53333333e-01, 2.16666667e+00, 1.05400000e+01, 2.75333333e+02,\n",
      "       1.66666667e-01, 0.00000000e+00, 1.53333333e-01, 2.50000000e+00,\n",
      "       7.63833333e+00, 1.91500000e+02, 8.53666667e+00, 2.48000000e+02,\n",
      "       1.51666667e-01, 5.16666667e+00, 2.41666667e-01, 7.50000000e+00,\n",
      "       0.00000000e+00, 0.00000000e+00, 0.00000000e+00, 0.00000000e+00,\n",
      "       0.00000000e+00, 0.00000000e+00, 3.54666667e+00, 4.71666667e+01,\n",
      "       0.00000000e+00, 0.00000000e+00, 1.27833333e+01, 1.96500000e+02,\n",
      "       2.41666667e-01, 1.00000000e+00, 6.78333333e+00, 1.24500000e+02,\n",
      "       3.45833333e+00, 6.23333333e+01, 6.34166667e+00, 1.78500000e+02,\n",
      "       6.98000000e+00, 1.88833333e+02, 5.75833333e+00, 8.90000000e+01,\n",
      "       1.66666667e-01, 5.00000000e+00, 4.87166667e+00, 9.00000000e+01,\n",
      "       7.32833333e+00, 1.52333333e+02, 4.52333333e+00, 4.80000000e+01,\n",
      "       3.20000000e-01, 1.23333333e+01, 5.55666667e+00, 1.32333333e+02,\n",
      "       7.72666667e+00, 9.25000000e+01, 2.65833333e+00, 2.95000000e+01,\n",
      "       0.00000000e+00, 0.00000000e+00, 0.00000000e+00, 0.00000000e+00,\n",
      "       0.00000000e+00, 0.00000000e+00]), array([ 0.44833333, 28.        ,  0.        ,  0.        ,  0.165     ,\n",
      "       23.66666667,  0.        ,  0.        ,  0.        ,  0.        ,\n",
      "        0.        ,  0.        ,  0.        ,  0.        ,  0.14166667,\n",
      "        3.83333333,  0.23333333, 10.        ,  0.165     ,  0.66666667,\n",
      "        0.        ,  0.        ,  0.16666667,  0.        ,  0.665     ,\n",
      "       21.33333333,  0.14333333,  8.66666667,  0.        ,  0.        ,\n",
      "        0.        ,  0.        ,  0.14666667,  0.        ,  0.16666667,\n",
      "        0.        ,  0.        ,  0.        ,  0.09666667, 17.16666667,\n",
      "        0.        ,  0.        ,  0.        ,  0.        ,  0.        ,\n",
      "        0.        ,  0.        ,  0.        ,  0.30166667,  8.5       ,\n",
      "        0.        ,  0.        ,  0.        ,  0.        ,  0.16      ,\n",
      "        2.66666667,  0.155     ,  1.66666667,  0.45666667,  5.83333333,\n",
      "        0.        ,  0.        ,  0.        ,  0.        ,  0.32833333,\n",
      "        1.        ,  0.16333333,  0.5       ,  0.        ,  0.        ,\n",
      "        0.32666667,  1.16666667,  0.135     ,  0.33333333,  0.42666667,\n",
      "        1.5       ,  0.        ,  0.        ,  0.13333333,  2.16666667,\n",
      "        0.28333333,  6.16666667,  0.16666667,  3.83333333,  0.        ,\n",
      "        0.        ,  0.        ,  0.        ,  0.        ,  0.        ,\n",
      "        0.        ,  0.        ,  0.        ,  0.        ,  0.        ,\n",
      "        0.        ,  0.        ,  0.        ,  0.43833333,  9.5       ,\n",
      "        0.        ,  0.        ,  0.08333333,  1.5       ,  0.        ,\n",
      "        0.        ,  0.41666667, 26.83333333,  0.16666667,  0.        ,\n",
      "        0.195     ,  0.33333333,  0.        ,  0.        ,  0.305     ,\n",
      "        1.66666667,  0.265     ,  4.83333333,  0.        ,  0.        ,\n",
      "        0.        ,  0.        ,  0.        ,  0.        ,  0.        ,\n",
      "        0.        ,  0.        ,  0.        ,  0.        ,  0.        ,\n",
      "        0.        ,  0.        ,  0.        ,  0.        ]), array([ 0.        ,  0.        ,  0.31833333, 28.5       ,  0.15833333,\n",
      "        0.33333333,  0.16333333,  3.        ,  0.13      ,  0.83333333,\n",
      "        0.165     ,  4.66666667,  0.79833333, 57.        ,  0.        ,\n",
      "        0.        ,  0.        ,  0.        ,  0.605     , 12.5       ,\n",
      "        0.15      ,  3.66666667,  0.565     , 52.5       ,  0.        ,\n",
      "        0.        ,  0.15833333,  3.16666667,  0.        ,  0.        ,\n",
      "        0.        ,  0.        ,  0.84      , 44.33333333,  0.27833333,\n",
      "        0.33333333,  0.98333333, 47.66666667,  0.64333333, 12.16666667,\n",
      "        0.33      ,  9.16666667,  0.        ,  0.        ,  0.        ,\n",
      "        0.        ,  0.        ,  0.        ,  0.        ,  0.        ,\n",
      "        0.165     ,  1.83333333,  0.33166667, 27.16666667,  0.        ,\n",
      "        0.        ,  0.        ,  0.        ,  0.15666667,  0.33333333,\n",
      "        0.31833333,  2.33333333,  0.        ,  0.        ,  0.        ,\n",
      "        0.        ,  0.        ,  0.        ,  0.        ,  0.        ,\n",
      "        0.66666667,  6.        ,  0.        ,  0.        ,  0.        ,\n",
      "        0.        ,  0.        ,  0.        ,  0.        ,  0.        ,\n",
      "        0.15333333,  8.33333333,  0.15833333,  1.        ,  0.16666667,\n",
      "        0.83333333,  0.        ,  0.        ,  0.15333333,  0.5       ,\n",
      "        0.48166667,  5.33333333,  0.        ,  0.        ,  0.        ,\n",
      "        0.        ,  0.33333333,  5.83333333,  0.        ,  0.        ,\n",
      "        0.        ,  0.        ,  0.33      , 40.5       ,  0.        ,\n",
      "        0.        ,  0.        ,  0.        ,  0.        ,  0.        ,\n",
      "        0.33      ,  2.83333333,  0.5       ,  6.16666667,  0.        ,\n",
      "        0.        ,  0.        ,  0.        ,  0.165     , 12.16666667,\n",
      "        0.        ,  0.        ,  0.        ,  0.        ,  0.48      ,\n",
      "        1.66666667,  0.        ,  0.        ,  0.        ,  0.        ,\n",
      "        0.        ,  0.        ,  0.        ,  0.        ]), array([0.00000000e+00, 0.00000000e+00, 0.00000000e+00, 0.00000000e+00,\n",
      "       1.85166667e+00, 2.03333333e+02, 0.00000000e+00, 0.00000000e+00,\n",
      "       0.00000000e+00, 0.00000000e+00, 5.91666667e-01, 1.95000000e+01,\n",
      "       1.04000000e+00, 1.56666667e+01, 1.50833333e+00, 5.63333333e+01,\n",
      "       0.00000000e+00, 0.00000000e+00, 0.00000000e+00, 0.00000000e+00,\n",
      "       0.00000000e+00, 0.00000000e+00, 0.00000000e+00, 0.00000000e+00,\n",
      "       8.35000000e-01, 2.60000000e+01, 0.00000000e+00, 0.00000000e+00,\n",
      "       6.53333333e-01, 1.50000000e+00, 1.45000000e-01, 1.41666667e+01,\n",
      "       0.00000000e+00, 0.00000000e+00, 0.00000000e+00, 0.00000000e+00,\n",
      "       2.96666667e-01, 1.66666667e+00, 0.00000000e+00, 0.00000000e+00,\n",
      "       0.00000000e+00, 0.00000000e+00, 4.76666667e-01, 1.26666667e+01,\n",
      "       1.63500000e+00, 2.35000000e+01, 0.00000000e+00, 0.00000000e+00,\n",
      "       0.00000000e+00, 0.00000000e+00, 3.25000000e-01, 3.33333333e+00,\n",
      "       0.00000000e+00, 0.00000000e+00, 0.00000000e+00, 0.00000000e+00,\n",
      "       0.00000000e+00, 0.00000000e+00, 0.00000000e+00, 0.00000000e+00,\n",
      "       1.58333333e-01, 6.66666667e-01, 2.43333333e-01, 7.50000000e+00,\n",
      "       0.00000000e+00, 0.00000000e+00, 0.00000000e+00, 0.00000000e+00,\n",
      "       4.40000000e-01, 6.33333333e+00, 3.00000000e-01, 8.50000000e+00,\n",
      "       0.00000000e+00, 0.00000000e+00, 0.00000000e+00, 0.00000000e+00,\n",
      "       0.00000000e+00, 0.00000000e+00, 5.60000000e-01, 1.16666667e+01,\n",
      "       0.00000000e+00, 0.00000000e+00, 0.00000000e+00, 0.00000000e+00,\n",
      "       6.55000000e-01, 1.15000000e+01, 3.06666667e-01, 5.00000000e+00,\n",
      "       2.58333333e-01, 3.50000000e+00, 0.00000000e+00, 0.00000000e+00,\n",
      "       0.00000000e+00, 0.00000000e+00, 0.00000000e+00, 0.00000000e+00,\n",
      "       0.00000000e+00, 0.00000000e+00, 0.00000000e+00, 0.00000000e+00,\n",
      "       1.60000000e-01, 3.33333333e-01, 0.00000000e+00, 0.00000000e+00,\n",
      "       0.00000000e+00, 0.00000000e+00, 0.00000000e+00, 0.00000000e+00,\n",
      "       0.00000000e+00, 0.00000000e+00, 0.00000000e+00, 0.00000000e+00,\n",
      "       4.88333333e-01, 6.66666667e+00, 0.00000000e+00, 0.00000000e+00,\n",
      "       0.00000000e+00, 0.00000000e+00, 0.00000000e+00, 0.00000000e+00,\n",
      "       3.10000000e-01, 8.16666667e+00, 0.00000000e+00, 0.00000000e+00,\n",
      "       0.00000000e+00, 0.00000000e+00, 0.00000000e+00, 0.00000000e+00,\n",
      "       0.00000000e+00, 0.00000000e+00, 0.00000000e+00, 0.00000000e+00,\n",
      "       0.00000000e+00, 0.00000000e+00]), array([0.        , 0.        , 0.        , 0.        , 0.        ,\n",
      "       0.        , 0.        , 0.        , 0.        , 0.        ,\n",
      "       0.28833333, 3.5       , 0.29666667, 0.5       , 0.06666667,\n",
      "       2.16666667, 0.        , 0.        , 0.        , 0.        ,\n",
      "       0.        , 0.        , 0.        , 0.        , 0.        ,\n",
      "       0.        , 0.        , 0.        , 0.5       , 0.        ,\n",
      "       0.16666667, 0.        , 0.        , 0.        , 0.        ,\n",
      "       0.        , 0.        , 0.        , 0.        , 0.        ,\n",
      "       0.        , 0.        , 0.16333333, 1.33333333, 0.33333333,\n",
      "       2.        , 0.185     , 4.5       , 0.        , 0.        ,\n",
      "       0.        , 0.        , 0.        , 0.        , 0.        ,\n",
      "       0.        , 0.        , 0.        , 0.        , 0.        ,\n",
      "       0.        , 0.        , 1.385     , 0.83333333, 0.        ,\n",
      "       0.        , 0.315     , 3.33333333, 0.16666667, 0.        ,\n",
      "       0.16666667, 3.33333333, 0.        , 0.        , 0.        ,\n",
      "       0.        , 0.165     , 4.66666667, 0.        , 0.        ,\n",
      "       0.        , 0.        , 0.        , 0.        , 0.        ,\n",
      "       0.        , 0.        , 0.        , 0.        , 0.        ,\n",
      "       0.        , 0.        , 0.        , 0.        , 0.        ,\n",
      "       0.        , 0.        , 0.        , 0.        , 0.        ,\n",
      "       0.16666667, 0.16666667, 0.        , 0.        , 0.        ,\n",
      "       0.        , 0.        , 0.        , 0.        , 0.        ,\n",
      "       0.        , 0.        , 0.        , 0.        , 0.        ,\n",
      "       0.        , 0.        , 0.        , 0.        , 0.        ,\n",
      "       0.24166667, 4.33333333, 0.        , 0.        , 0.        ,\n",
      "       0.        , 0.        , 0.        , 0.        , 0.        ,\n",
      "       0.        , 0.        , 0.        , 0.        ]), array([  0.43333333,  24.33333333,   0.        ,   0.        ,\n",
      "         0.        ,   0.        ,   0.        ,   0.        ,\n",
      "         0.        ,   0.        ,   0.        ,   0.        ,\n",
      "         0.        ,   0.        ,   0.        ,   0.        ,\n",
      "         0.75666667,  43.16666667,   0.        ,   0.        ,\n",
      "         0.        ,   0.        ,   0.93333333,  16.        ,\n",
      "         0.        ,   0.        ,   0.14333333,   8.66666667,\n",
      "         0.        ,   0.        ,   0.        ,   0.        ,\n",
      "         0.29666667,   6.66666667,   1.73333333,  80.16666667,\n",
      "         0.        ,   0.        ,   0.62      ,  13.33333333,\n",
      "         2.50166667,  65.66666667,   0.        ,   0.        ,\n",
      "         0.        ,   0.        ,   0.        ,   0.        ,\n",
      "         0.29666667,  16.5       ,   0.        ,   0.        ,\n",
      "         0.        ,   0.        ,   2.465     ,  54.33333333,\n",
      "         0.        ,   0.        ,   1.34833333,  25.83333333,\n",
      "         0.        ,   0.        ,   0.        ,   0.        ,\n",
      "         0.14166667,   7.33333333,   0.        ,   0.        ,\n",
      "         0.        ,   0.        ,   0.        ,   0.        ,\n",
      "         0.        ,   0.        ,   1.85166667,  52.5       ,\n",
      "         0.        ,   0.        ,   0.        ,   0.        ,\n",
      "         0.325     ,   5.5       ,   0.30833333,  16.16666667,\n",
      "         0.        ,   0.        ,   0.        ,   0.        ,\n",
      "         0.        ,   0.        ,   0.        ,   0.        ,\n",
      "         0.        ,   0.        ,   0.        ,   0.        ,\n",
      "         0.        ,   0.        ,   0.91333333,  37.66666667,\n",
      "         0.        ,   0.        ,   0.165     ,  22.33333333,\n",
      "         0.16666667,   1.16666667,   3.26333333, 120.83333333,\n",
      "         0.80166667,  68.83333333,   1.72166667,  26.33333333,\n",
      "         0.        ,   0.        ,   0.        ,   0.        ,\n",
      "         0.        ,   0.        ,   0.        ,   0.        ,\n",
      "         0.        ,   0.        ,   0.43      ,  23.16666667,\n",
      "         0.79      ,   6.5       ,   3.84166667,  95.5       ,\n",
      "         0.        ,   0.        ,   0.        ,   0.        ,\n",
      "         0.        ,   0.        ]), array([ 0.35833333,  9.66666667,  0.        ,  0.        ,  0.32666667,\n",
      "        3.16666667,  0.        ,  0.        ,  0.        ,  0.        ,\n",
      "        0.23166667,  4.        ,  0.        ,  0.        ,  0.        ,\n",
      "        0.        ,  0.115     ,  0.5       ,  0.        ,  0.        ,\n",
      "        0.16      ,  6.16666667,  0.405     , 13.5       ,  0.27666667,\n",
      "        4.66666667,  0.08333333,  0.        ,  0.33333333,  0.        ,\n",
      "        0.25      ,  0.33333333,  0.        ,  0.        ,  0.        ,\n",
      "        0.        ,  0.16333333,  5.83333333,  0.095     ,  0.        ,\n",
      "        0.        ,  0.        ,  0.165     ,  1.33333333,  0.10333333,\n",
      "        0.        ,  1.45333333,  6.5       ,  0.        ,  0.        ,\n",
      "        0.08333333,  0.        ,  0.16666667,  2.5       ,  0.        ,\n",
      "        0.        ,  0.11166667,  0.        ,  0.        ,  0.        ,\n",
      "        0.        ,  0.        ,  0.        ,  0.        ,  0.33      ,\n",
      "       12.5       ,  0.16      ,  0.5       ,  0.        ,  0.        ,\n",
      "        0.165     ,  5.16666667,  0.        ,  0.        ,  0.16      ,\n",
      "        5.66666667,  0.        ,  0.        ,  0.        ,  0.        ,\n",
      "        0.46      , 12.83333333,  0.        ,  0.        ,  0.        ,\n",
      "        0.        ,  0.        ,  0.        ,  0.16333333,  0.5       ,\n",
      "        0.        ,  0.        ,  0.        ,  0.        ,  0.        ,\n",
      "        0.        ,  0.        ,  0.        ,  0.125     ,  0.66666667,\n",
      "        0.        ,  0.        ,  0.31166667,  2.33333333,  0.16666667,\n",
      "        0.        ,  0.16666667,  0.        ,  0.33333333,  7.83333333,\n",
      "        0.595     ,  2.        ,  0.045     ,  1.16666667,  0.16      ,\n",
      "       16.16666667,  0.16333333,  1.5       ,  0.16666667,  0.        ,\n",
      "        0.        ,  0.        ,  0.        ,  0.        ,  0.16666667,\n",
      "        0.16666667,  0.16666667,  0.        ,  0.        ,  0.        ,\n",
      "        0.        ,  0.        ,  0.        ,  0.        ]), array([0.00000000e+00, 0.00000000e+00, 0.00000000e+00, 0.00000000e+00,\n",
      "       1.65000000e-01, 1.66666667e-01, 4.89000000e+00, 2.30000000e+02,\n",
      "       3.93500000e+00, 1.83000000e+02, 1.13333333e-01, 8.83333333e+00,\n",
      "       0.00000000e+00, 0.00000000e+00, 0.00000000e+00, 0.00000000e+00,\n",
      "       0.00000000e+00, 0.00000000e+00, 8.71666667e-01, 2.34333333e+02,\n",
      "       1.64666667e+00, 1.63166667e+02, 0.00000000e+00, 0.00000000e+00,\n",
      "       0.00000000e+00, 0.00000000e+00, 0.00000000e+00, 0.00000000e+00,\n",
      "       0.00000000e+00, 0.00000000e+00, 0.00000000e+00, 0.00000000e+00,\n",
      "       0.00000000e+00, 0.00000000e+00, 0.00000000e+00, 0.00000000e+00,\n",
      "       0.00000000e+00, 0.00000000e+00, 0.00000000e+00, 0.00000000e+00,\n",
      "       0.00000000e+00, 0.00000000e+00, 0.00000000e+00, 0.00000000e+00,\n",
      "       0.00000000e+00, 0.00000000e+00, 0.00000000e+00, 0.00000000e+00,\n",
      "       0.00000000e+00, 0.00000000e+00, 0.00000000e+00, 0.00000000e+00,\n",
      "       0.00000000e+00, 0.00000000e+00, 0.00000000e+00, 0.00000000e+00,\n",
      "       1.66666667e-01, 0.00000000e+00, 0.00000000e+00, 0.00000000e+00,\n",
      "       0.00000000e+00, 0.00000000e+00, 0.00000000e+00, 0.00000000e+00,\n",
      "       1.43333333e-01, 3.33333333e-01, 0.00000000e+00, 0.00000000e+00,\n",
      "       0.00000000e+00, 0.00000000e+00, 0.00000000e+00, 0.00000000e+00,\n",
      "       1.56666667e-01, 0.00000000e+00, 7.50000000e-02, 6.66666667e-01,\n",
      "       0.00000000e+00, 0.00000000e+00, 0.00000000e+00, 0.00000000e+00,\n",
      "       0.00000000e+00, 0.00000000e+00, 0.00000000e+00, 0.00000000e+00,\n",
      "       6.33333333e-02, 6.66666667e-01, 0.00000000e+00, 0.00000000e+00,\n",
      "       0.00000000e+00, 0.00000000e+00, 2.76000000e+00, 1.27000000e+02,\n",
      "       1.25000000e-01, 1.66666667e-01, 0.00000000e+00, 0.00000000e+00,\n",
      "       3.30000000e-01, 1.30000000e+01, 0.00000000e+00, 0.00000000e+00,\n",
      "       0.00000000e+00, 0.00000000e+00, 0.00000000e+00, 0.00000000e+00,\n",
      "       0.00000000e+00, 0.00000000e+00, 0.00000000e+00, 0.00000000e+00,\n",
      "       0.00000000e+00, 0.00000000e+00, 3.31666667e-01, 1.91666667e+01,\n",
      "       0.00000000e+00, 0.00000000e+00, 1.66666667e-01, 0.00000000e+00,\n",
      "       0.00000000e+00, 0.00000000e+00, 0.00000000e+00, 0.00000000e+00,\n",
      "       0.00000000e+00, 0.00000000e+00, 0.00000000e+00, 0.00000000e+00,\n",
      "       0.00000000e+00, 0.00000000e+00, 0.00000000e+00, 0.00000000e+00,\n",
      "       0.00000000e+00, 0.00000000e+00, 0.00000000e+00, 0.00000000e+00,\n",
      "       0.00000000e+00, 0.00000000e+00]), array([1.75333333e+00, 1.21666667e+02, 1.10333333e+00, 3.66666667e+00,\n",
      "       8.82666667e+00, 6.41000000e+02, 5.75833333e+00, 1.39000000e+02,\n",
      "       7.49833333e+00, 8.33333333e+00, 1.12000000e+00, 2.85000000e+01,\n",
      "       6.98333333e+00, 1.92666667e+02, 6.26166667e+00, 4.02666667e+02,\n",
      "       1.34833333e+00, 7.83333333e+01, 1.41016667e+01, 7.90000000e+02,\n",
      "       1.72383333e+01, 1.18516667e+03, 1.03500000e+00, 4.96666667e+01,\n",
      "       2.52000000e+00, 2.53333333e+01, 1.40833333e+00, 4.06666667e+01,\n",
      "       3.11833333e+00, 6.00000000e+01, 5.00000000e-01, 1.66666667e-01,\n",
      "       4.78333333e-01, 7.83333333e+00, 2.56000000e+00, 9.90000000e+01,\n",
      "       2.72666667e+00, 6.13333333e+01, 1.41000000e+00, 3.81666667e+01,\n",
      "       1.42500000e+00, 6.01666667e+01, 3.00833333e+00, 6.06666667e+01,\n",
      "       1.00000000e+00, 2.38333333e+01, 2.36166667e+00, 1.44500000e+02,\n",
      "       3.75000000e+00, 1.44000000e+02, 4.63333333e-01, 5.66666667e+00,\n",
      "       2.24500000e+00, 4.25000000e+01, 2.46666667e-01, 9.16666667e+00,\n",
      "       9.23333333e-01, 9.50000000e+00, 3.00833333e+00, 8.26666667e+01,\n",
      "       8.23333333e-01, 1.36666667e+01, 3.34000000e+00, 1.08166667e+02,\n",
      "       4.93333333e-01, 6.33333333e+00, 1.29333333e+00, 2.50000000e+01,\n",
      "       1.39333333e+00, 1.28333333e+01, 3.32000000e+00, 4.01666667e+01,\n",
      "       1.79166667e+00, 3.08333333e+01, 1.65333333e+00, 4.88333333e+01,\n",
      "       9.91666667e-01, 5.81666667e+01, 8.53333333e-01, 4.38333333e+01,\n",
      "       3.95333333e+00, 1.26166667e+02, 1.64000000e+00, 5.15000000e+01,\n",
      "       2.45000000e-01, 9.50000000e+00, 4.07666667e+00, 2.79166667e+02,\n",
      "       1.07333333e+00, 9.40000000e+01, 1.14000000e+01, 7.41166667e+02,\n",
      "       3.00000000e-01, 1.33333333e+00, 0.00000000e+00, 0.00000000e+00,\n",
      "       3.49000000e+00, 1.49333333e+02, 4.41666667e-01, 1.08333333e+01,\n",
      "       1.57666667e+00, 2.60000000e+01, 1.12500000e+00, 2.40000000e+01,\n",
      "       8.56666667e-01, 1.05000000e+01, 1.75500000e+00, 5.70000000e+01,\n",
      "       1.66666667e-01, 0.00000000e+00, 2.51500000e+00, 3.36666667e+01,\n",
      "       7.45000000e-01, 5.13333333e+01, 5.20000000e-01, 2.16666667e+01,\n",
      "       4.07333333e+00, 1.45833333e+02, 1.53333333e-01, 6.66666667e-01,\n",
      "       1.23166667e+00, 1.70000000e+01, 0.00000000e+00, 0.00000000e+00,\n",
      "       1.64333333e+00, 2.78333333e+01, 3.55000000e-01, 2.50000000e+00,\n",
      "       6.62666667e+00, 1.60500000e+02, 7.75000000e-01, 1.15000000e+01,\n",
      "       9.67333333e+00, 3.88333333e+01]), array([ 0.        ,  0.        ,  0.        ,  0.        ,  0.66166667,\n",
      "        6.66666667,  0.        ,  0.        ,  0.        ,  0.        ,\n",
      "        2.405     , 32.66666667,  0.34333333,  5.16666667,  0.14      ,\n",
      "       11.5       ,  0.        ,  0.        ,  0.        ,  0.        ,\n",
      "        0.        ,  0.        ,  0.22      ,  3.83333333,  0.145     ,\n",
      "        2.16666667,  0.        ,  0.        ,  0.33333333,  0.        ,\n",
      "        0.33166667,  0.        ,  0.        ,  0.        ,  0.16666667,\n",
      "        0.        ,  1.17      , 25.33333333,  0.        ,  0.        ,\n",
      "        0.        ,  0.        ,  0.125     ,  0.5       ,  0.595     ,\n",
      "        8.5       ,  0.44      , 23.33333333,  0.16333333,  4.16666667,\n",
      "        0.        ,  0.        ,  0.53166667,  4.66666667,  0.16666667,\n",
      "        0.        ,  0.        ,  0.        ,  0.15666667,  2.16666667,\n",
      "        0.28166667,  7.33333333,  0.        ,  0.        ,  0.245     ,\n",
      "        3.83333333,  0.145     ,  3.        ,  0.        ,  0.        ,\n",
      "        2.00833333, 17.        ,  0.26333333,  6.83333333,  0.21833333,\n",
      "        2.66666667,  0.92333333, 16.16666667,  0.16      ,  3.        ,\n",
      "        0.15333333,  1.        ,  0.        ,  0.        ,  0.16666667,\n",
      "        0.        ,  0.        ,  0.        ,  0.15      ,  2.16666667,\n",
      "        0.        ,  0.        ,  0.15833333,  0.83333333,  0.        ,\n",
      "        0.        ,  0.        ,  0.        ,  0.13666667,  1.        ,\n",
      "        0.60166667, 10.        ,  0.055     ,  0.83333333,  0.        ,\n",
      "        0.        ,  0.325     , 14.        ,  0.13166667,  3.16666667,\n",
      "        0.25      ,  2.83333333,  0.43      , 13.5       ,  0.34      ,\n",
      "        5.5       ,  0.32333333,  8.16666667,  0.        ,  0.        ,\n",
      "        0.21333333,  1.        ,  0.        ,  0.        ,  0.33333333,\n",
      "        2.16666667,  0.125     ,  0.5       ,  0.        ,  0.        ,\n",
      "        0.        ,  0.        ,  0.        ,  0.        ]), array([0.00000000e+00, 0.00000000e+00, 0.00000000e+00, 0.00000000e+00,\n",
      "       0.00000000e+00, 0.00000000e+00, 3.05833333e+00, 1.05100000e+03,\n",
      "       1.85500000e+01, 1.06116667e+03, 0.00000000e+00, 0.00000000e+00,\n",
      "       0.00000000e+00, 0.00000000e+00, 0.00000000e+00, 0.00000000e+00,\n",
      "       0.00000000e+00, 0.00000000e+00, 1.49333333e+00, 9.08333333e+01,\n",
      "       2.79166667e+00, 1.66666667e+02, 0.00000000e+00, 0.00000000e+00,\n",
      "       0.00000000e+00, 0.00000000e+00, 0.00000000e+00, 0.00000000e+00,\n",
      "       0.00000000e+00, 0.00000000e+00, 0.00000000e+00, 0.00000000e+00,\n",
      "       0.00000000e+00, 0.00000000e+00, 0.00000000e+00, 0.00000000e+00,\n",
      "       0.00000000e+00, 0.00000000e+00, 0.00000000e+00, 0.00000000e+00,\n",
      "       0.00000000e+00, 0.00000000e+00, 0.00000000e+00, 0.00000000e+00,\n",
      "       0.00000000e+00, 0.00000000e+00, 0.00000000e+00, 0.00000000e+00,\n",
      "       0.00000000e+00, 0.00000000e+00, 0.00000000e+00, 0.00000000e+00,\n",
      "       0.00000000e+00, 0.00000000e+00, 0.00000000e+00, 0.00000000e+00,\n",
      "       0.00000000e+00, 0.00000000e+00, 0.00000000e+00, 0.00000000e+00,\n",
      "       0.00000000e+00, 0.00000000e+00, 0.00000000e+00, 0.00000000e+00,\n",
      "       0.00000000e+00, 0.00000000e+00, 0.00000000e+00, 0.00000000e+00,\n",
      "       0.00000000e+00, 0.00000000e+00, 0.00000000e+00, 0.00000000e+00,\n",
      "       0.00000000e+00, 0.00000000e+00, 0.00000000e+00, 0.00000000e+00,\n",
      "       0.00000000e+00, 0.00000000e+00, 0.00000000e+00, 0.00000000e+00,\n",
      "       0.00000000e+00, 0.00000000e+00, 0.00000000e+00, 0.00000000e+00,\n",
      "       0.00000000e+00, 0.00000000e+00, 0.00000000e+00, 0.00000000e+00,\n",
      "       0.00000000e+00, 0.00000000e+00, 7.70000000e-01, 5.76666667e+01,\n",
      "       0.00000000e+00, 0.00000000e+00, 0.00000000e+00, 0.00000000e+00,\n",
      "       9.88333333e-01, 1.75000000e+01, 0.00000000e+00, 0.00000000e+00,\n",
      "       0.00000000e+00, 0.00000000e+00, 0.00000000e+00, 0.00000000e+00,\n",
      "       0.00000000e+00, 0.00000000e+00, 0.00000000e+00, 0.00000000e+00,\n",
      "       0.00000000e+00, 0.00000000e+00, 3.30000000e-01, 3.80000000e+01,\n",
      "       0.00000000e+00, 0.00000000e+00, 0.00000000e+00, 0.00000000e+00,\n",
      "       0.00000000e+00, 0.00000000e+00, 0.00000000e+00, 0.00000000e+00,\n",
      "       0.00000000e+00, 0.00000000e+00, 0.00000000e+00, 0.00000000e+00,\n",
      "       0.00000000e+00, 0.00000000e+00, 0.00000000e+00, 0.00000000e+00,\n",
      "       1.54833333e+00, 8.75000000e+01, 0.00000000e+00, 0.00000000e+00,\n",
      "       3.25000000e-01, 5.83333333e+00]), array([0.00000000e+00, 0.00000000e+00, 3.31666667e-01, 5.83333333e+00,\n",
      "       0.00000000e+00, 0.00000000e+00, 0.00000000e+00, 0.00000000e+00,\n",
      "       0.00000000e+00, 0.00000000e+00, 3.50000000e-02, 1.00000000e+00,\n",
      "       0.00000000e+00, 0.00000000e+00, 0.00000000e+00, 0.00000000e+00,\n",
      "       0.00000000e+00, 0.00000000e+00, 0.00000000e+00, 0.00000000e+00,\n",
      "       0.00000000e+00, 0.00000000e+00, 2.65000000e-01, 4.00000000e+00,\n",
      "       0.00000000e+00, 0.00000000e+00, 0.00000000e+00, 0.00000000e+00,\n",
      "       0.00000000e+00, 0.00000000e+00, 0.00000000e+00, 0.00000000e+00,\n",
      "       1.00000000e-01, 5.00000000e-01, 0.00000000e+00, 0.00000000e+00,\n",
      "       0.00000000e+00, 0.00000000e+00, 0.00000000e+00, 0.00000000e+00,\n",
      "       0.00000000e+00, 0.00000000e+00, 0.00000000e+00, 0.00000000e+00,\n",
      "       0.00000000e+00, 0.00000000e+00, 0.00000000e+00, 0.00000000e+00,\n",
      "       2.96666667e-01, 9.66666667e+00, 0.00000000e+00, 0.00000000e+00,\n",
      "       0.00000000e+00, 0.00000000e+00, 0.00000000e+00, 0.00000000e+00,\n",
      "       0.00000000e+00, 0.00000000e+00, 1.65000000e-01, 3.66666667e+00,\n",
      "       0.00000000e+00, 0.00000000e+00, 0.00000000e+00, 0.00000000e+00,\n",
      "       0.00000000e+00, 0.00000000e+00, 0.00000000e+00, 0.00000000e+00,\n",
      "       0.00000000e+00, 0.00000000e+00, 0.00000000e+00, 0.00000000e+00,\n",
      "       0.00000000e+00, 0.00000000e+00, 0.00000000e+00, 0.00000000e+00,\n",
      "       0.00000000e+00, 0.00000000e+00, 0.00000000e+00, 0.00000000e+00,\n",
      "       8.34833333e+00, 2.43000000e+02, 1.58333333e-01, 2.66666667e+00,\n",
      "       0.00000000e+00, 0.00000000e+00, 2.23333333e+00, 4.43333333e+01,\n",
      "       0.00000000e+00, 0.00000000e+00, 0.00000000e+00, 0.00000000e+00,\n",
      "       0.00000000e+00, 0.00000000e+00, 0.00000000e+00, 0.00000000e+00,\n",
      "       0.00000000e+00, 0.00000000e+00, 0.00000000e+00, 0.00000000e+00,\n",
      "       0.00000000e+00, 0.00000000e+00, 0.00000000e+00, 0.00000000e+00,\n",
      "       1.66666667e-01, 0.00000000e+00, 0.00000000e+00, 0.00000000e+00,\n",
      "       2.25000000e-01, 2.50000000e+00, 0.00000000e+00, 0.00000000e+00,\n",
      "       0.00000000e+00, 0.00000000e+00, 0.00000000e+00, 0.00000000e+00,\n",
      "       0.00000000e+00, 0.00000000e+00, 0.00000000e+00, 0.00000000e+00,\n",
      "       0.00000000e+00, 0.00000000e+00, 0.00000000e+00, 0.00000000e+00,\n",
      "       0.00000000e+00, 0.00000000e+00, 0.00000000e+00, 0.00000000e+00,\n",
      "       0.00000000e+00, 0.00000000e+00, 0.00000000e+00, 0.00000000e+00,\n",
      "       0.00000000e+00, 0.00000000e+00]), array([9.95000000e-01, 3.40000000e+01, 3.10000000e-01, 0.00000000e+00,\n",
      "       3.26666667e-01, 8.50000000e+00, 1.61666667e-01, 1.06666667e+01,\n",
      "       4.01666667e-01, 5.00000000e-01, 0.00000000e+00, 0.00000000e+00,\n",
      "       0.00000000e+00, 0.00000000e+00, 1.66666667e-01, 0.00000000e+00,\n",
      "       1.63333333e-01, 1.48333333e+01, 2.33333333e-02, 2.33333333e+00,\n",
      "       4.91666667e-01, 4.83333333e+00, 3.05000000e-01, 1.43333333e+01,\n",
      "       1.66666667e-01, 2.50000000e+00, 1.60000000e-01, 3.98333333e+01,\n",
      "       0.00000000e+00, 0.00000000e+00, 0.00000000e+00, 0.00000000e+00,\n",
      "       3.26666667e-01, 1.11666667e+01, 1.11500000e+00, 4.03333333e+01,\n",
      "       3.13333333e-01, 1.05000000e+01, 1.35000000e-01, 3.33333333e-01,\n",
      "       4.31666667e-01, 1.65000000e+01, 1.66666667e-01, 1.66666667e-01,\n",
      "       0.00000000e+00, 0.00000000e+00, 1.66666667e-01, 0.00000000e+00,\n",
      "       2.60000000e-01, 1.40000000e+01, 0.00000000e+00, 0.00000000e+00,\n",
      "       3.33333333e-01, 1.16666667e+00, 1.66666667e-01, 0.00000000e+00,\n",
      "       7.31666667e-01, 1.63333333e+01, 6.66666667e-02, 1.00000000e+00,\n",
      "       0.00000000e+00, 0.00000000e+00, 0.00000000e+00, 0.00000000e+00,\n",
      "       1.66666667e-01, 0.00000000e+00, 1.65000000e-01, 3.33333333e-01,\n",
      "       2.83333333e-01, 5.00000000e-01, 5.56666667e-01, 3.00000000e+00,\n",
      "       2.96666667e-01, 4.00000000e+00, 4.11666667e-01, 5.00000000e-01,\n",
      "       0.00000000e+00, 0.00000000e+00, 0.00000000e+00, 0.00000000e+00,\n",
      "       5.68333333e-01, 9.00000000e+00, 1.65000000e-01, 3.33333333e+00,\n",
      "       0.00000000e+00, 0.00000000e+00, 0.00000000e+00, 0.00000000e+00,\n",
      "       0.00000000e+00, 0.00000000e+00, 5.85000000e-01, 3.25000000e+01,\n",
      "       0.00000000e+00, 0.00000000e+00, 0.00000000e+00, 0.00000000e+00,\n",
      "       0.00000000e+00, 0.00000000e+00, 7.15000000e-01, 5.00000000e+00,\n",
      "       8.33333333e-02, 1.66666667e-01, 4.03333333e-01, 1.00000000e+01,\n",
      "       2.41666667e-01, 5.50000000e+00, 8.33333333e-02, 0.00000000e+00,\n",
      "       5.20000000e-01, 1.93333333e+01, 6.40000000e-01, 3.33333333e+00,\n",
      "       3.31666667e-01, 6.50000000e+00, 1.55000000e-01, 6.83333333e+00,\n",
      "       2.91666667e-01, 4.00000000e+00, 1.18333333e-01, 1.66666667e-01,\n",
      "       0.00000000e+00, 0.00000000e+00, 0.00000000e+00, 0.00000000e+00,\n",
      "       0.00000000e+00, 0.00000000e+00, 1.55000000e-01, 4.00000000e+00,\n",
      "       0.00000000e+00, 0.00000000e+00, 0.00000000e+00, 0.00000000e+00,\n",
      "       0.00000000e+00, 0.00000000e+00]), array([1.04166667e+00, 4.81666667e+01, 0.00000000e+00, 0.00000000e+00,\n",
      "       0.00000000e+00, 0.00000000e+00, 0.00000000e+00, 0.00000000e+00,\n",
      "       0.00000000e+00, 0.00000000e+00, 0.00000000e+00, 0.00000000e+00,\n",
      "       0.00000000e+00, 0.00000000e+00, 0.00000000e+00, 0.00000000e+00,\n",
      "       1.91000000e+00, 8.76666667e+01, 0.00000000e+00, 0.00000000e+00,\n",
      "       0.00000000e+00, 0.00000000e+00, 1.62833333e+00, 6.51666667e+01,\n",
      "       0.00000000e+00, 0.00000000e+00, 5.85000000e-01, 2.90000000e+01,\n",
      "       0.00000000e+00, 0.00000000e+00, 0.00000000e+00, 0.00000000e+00,\n",
      "       1.99833333e+00, 3.45000000e+01, 1.98333333e+00, 1.86666667e+01,\n",
      "       0.00000000e+00, 0.00000000e+00, 2.50000000e-01, 1.16666667e+00,\n",
      "       7.48333333e-01, 1.28333333e+01, 0.00000000e+00, 0.00000000e+00,\n",
      "       0.00000000e+00, 0.00000000e+00, 0.00000000e+00, 0.00000000e+00,\n",
      "       2.91666667e-01, 2.40833333e+02, 0.00000000e+00, 0.00000000e+00,\n",
      "       0.00000000e+00, 0.00000000e+00, 2.30333333e+00, 5.45000000e+01,\n",
      "       0.00000000e+00, 0.00000000e+00, 7.03333333e-01, 1.30000000e+01,\n",
      "       0.00000000e+00, 0.00000000e+00, 0.00000000e+00, 0.00000000e+00,\n",
      "       9.83333333e-01, 5.46666667e+01, 0.00000000e+00, 0.00000000e+00,\n",
      "       0.00000000e+00, 0.00000000e+00, 0.00000000e+00, 0.00000000e+00,\n",
      "       0.00000000e+00, 0.00000000e+00, 2.14166667e+00, 6.51666667e+01,\n",
      "       0.00000000e+00, 0.00000000e+00, 0.00000000e+00, 0.00000000e+00,\n",
      "       7.73333333e-01, 1.88333333e+01, 4.26666667e-01, 8.16666667e+00,\n",
      "       0.00000000e+00, 0.00000000e+00, 0.00000000e+00, 0.00000000e+00,\n",
      "       0.00000000e+00, 0.00000000e+00, 0.00000000e+00, 0.00000000e+00,\n",
      "       0.00000000e+00, 0.00000000e+00, 1.81666667e-01, 2.50000000e+00,\n",
      "       0.00000000e+00, 0.00000000e+00, 1.52166667e+00, 8.28333333e+01,\n",
      "       0.00000000e+00, 0.00000000e+00, 1.11333333e+00, 3.26666667e+01,\n",
      "       5.13333333e-01, 2.10000000e+01, 3.02166667e+00, 1.08666667e+02,\n",
      "       4.56666667e-01, 2.01666667e+01, 3.61666667e-01, 3.33333333e-01,\n",
      "       0.00000000e+00, 0.00000000e+00, 1.58333333e-01, 1.06666667e+01,\n",
      "       1.10000000e+00, 1.93333333e+01, 1.23333333e-01, 8.33333333e-01,\n",
      "       0.00000000e+00, 0.00000000e+00, 0.00000000e+00, 0.00000000e+00,\n",
      "       4.78333333e-01, 1.25000000e+01, 9.10000000e-01, 1.05000000e+01,\n",
      "       0.00000000e+00, 0.00000000e+00, 0.00000000e+00, 0.00000000e+00,\n",
      "       0.00000000e+00, 0.00000000e+00]), array([0.00000000e+00, 0.00000000e+00, 0.00000000e+00, 0.00000000e+00,\n",
      "       0.00000000e+00, 0.00000000e+00, 1.19950000e+01, 5.99500000e+02,\n",
      "       4.82666667e+00, 1.02100000e+03, 0.00000000e+00, 0.00000000e+00,\n",
      "       0.00000000e+00, 0.00000000e+00, 0.00000000e+00, 0.00000000e+00,\n",
      "       0.00000000e+00, 0.00000000e+00, 3.45333333e+00, 6.12000000e+02,\n",
      "       8.44666667e+00, 1.00933333e+03, 0.00000000e+00, 0.00000000e+00,\n",
      "       0.00000000e+00, 0.00000000e+00, 0.00000000e+00, 0.00000000e+00,\n",
      "       0.00000000e+00, 0.00000000e+00, 0.00000000e+00, 0.00000000e+00,\n",
      "       0.00000000e+00, 0.00000000e+00, 0.00000000e+00, 0.00000000e+00,\n",
      "       0.00000000e+00, 0.00000000e+00, 0.00000000e+00, 0.00000000e+00,\n",
      "       0.00000000e+00, 0.00000000e+00, 0.00000000e+00, 0.00000000e+00,\n",
      "       0.00000000e+00, 0.00000000e+00, 0.00000000e+00, 0.00000000e+00,\n",
      "       0.00000000e+00, 0.00000000e+00, 0.00000000e+00, 0.00000000e+00,\n",
      "       0.00000000e+00, 0.00000000e+00, 0.00000000e+00, 0.00000000e+00,\n",
      "       0.00000000e+00, 0.00000000e+00, 0.00000000e+00, 0.00000000e+00,\n",
      "       0.00000000e+00, 0.00000000e+00, 0.00000000e+00, 0.00000000e+00,\n",
      "       0.00000000e+00, 0.00000000e+00, 0.00000000e+00, 0.00000000e+00,\n",
      "       0.00000000e+00, 0.00000000e+00, 0.00000000e+00, 0.00000000e+00,\n",
      "       0.00000000e+00, 0.00000000e+00, 0.00000000e+00, 0.00000000e+00,\n",
      "       0.00000000e+00, 0.00000000e+00, 0.00000000e+00, 0.00000000e+00,\n",
      "       0.00000000e+00, 0.00000000e+00, 0.00000000e+00, 0.00000000e+00,\n",
      "       0.00000000e+00, 0.00000000e+00, 0.00000000e+00, 0.00000000e+00,\n",
      "       0.00000000e+00, 0.00000000e+00, 1.27000000e+00, 3.31666667e+01,\n",
      "       0.00000000e+00, 0.00000000e+00, 0.00000000e+00, 0.00000000e+00,\n",
      "       7.71666667e-01, 1.16666667e+01, 0.00000000e+00, 0.00000000e+00,\n",
      "       0.00000000e+00, 0.00000000e+00, 0.00000000e+00, 0.00000000e+00,\n",
      "       0.00000000e+00, 0.00000000e+00, 0.00000000e+00, 0.00000000e+00,\n",
      "       0.00000000e+00, 0.00000000e+00, 0.00000000e+00, 0.00000000e+00,\n",
      "       0.00000000e+00, 0.00000000e+00, 0.00000000e+00, 0.00000000e+00,\n",
      "       0.00000000e+00, 0.00000000e+00, 0.00000000e+00, 0.00000000e+00,\n",
      "       0.00000000e+00, 0.00000000e+00, 0.00000000e+00, 0.00000000e+00,\n",
      "       0.00000000e+00, 0.00000000e+00, 0.00000000e+00, 0.00000000e+00,\n",
      "       1.66666667e-01, 1.66666667e-01, 3.23333333e-01, 1.33333333e+00,\n",
      "       1.13166667e+00, 5.16666667e+00]), array([ 0.        ,  0.        ,  0.        ,  0.        ,  0.        ,\n",
      "        0.        ,  0.65666667, 58.        ,  0.41833333, 11.16666667,\n",
      "        0.        ,  0.        ,  0.        ,  0.        ,  0.        ,\n",
      "        0.        ,  0.        ,  0.        ,  0.47333333, 32.5       ,\n",
      "        1.00666667, 44.83333333,  0.        ,  0.        ,  0.        ,\n",
      "        0.        ,  0.        ,  0.        ,  0.        ,  0.        ,\n",
      "        0.        ,  0.        ,  0.        ,  0.        ,  0.        ,\n",
      "        0.        ,  0.        ,  0.        ,  0.        ,  0.        ,\n",
      "        0.        ,  0.        ,  0.        ,  0.        ,  0.        ,\n",
      "        0.        ,  0.        ,  0.        ,  0.        ,  0.        ,\n",
      "        0.        ,  0.        ,  0.        ,  0.        ,  0.        ,\n",
      "        0.        ,  0.        ,  0.        ,  0.        ,  0.        ,\n",
      "        0.        ,  0.        ,  0.        ,  0.        ,  0.        ,\n",
      "        0.        ,  0.        ,  0.        ,  0.        ,  0.        ,\n",
      "        0.        ,  0.        ,  0.        ,  0.        ,  0.        ,\n",
      "        0.        ,  0.        ,  0.        ,  0.        ,  0.        ,\n",
      "        0.        ,  0.        ,  0.        ,  0.        ,  0.        ,\n",
      "        0.        ,  0.        ,  0.        ,  0.        ,  0.        ,\n",
      "        0.94833333, 37.        ,  0.        ,  0.        ,  0.        ,\n",
      "        0.        ,  0.44      ,  8.5       ,  0.        ,  0.        ,\n",
      "        0.        ,  0.        ,  0.        ,  0.        ,  0.        ,\n",
      "        0.        ,  0.        ,  0.        ,  0.        ,  0.        ,\n",
      "        0.        ,  0.        ,  0.        ,  0.        ,  0.        ,\n",
      "        0.        ,  0.        ,  0.        ,  0.        ,  0.        ,\n",
      "        0.        ,  0.        ,  0.        ,  0.        ,  0.        ,\n",
      "        0.        ,  0.        ,  0.        ,  0.82333333, 16.        ,\n",
      "        0.        ,  0.        ,  0.15166667,  0.5       ]), array([ 0.08166667,  3.16666667,  0.165     ,  3.33333333,  0.        ,\n",
      "        0.        ,  0.        ,  0.        ,  0.        ,  0.        ,\n",
      "        0.        ,  0.        ,  0.        ,  0.        ,  0.        ,\n",
      "        0.        ,  0.16666667,  0.        ,  0.        ,  0.        ,\n",
      "        0.        ,  0.        ,  0.07833333,  4.33333333,  0.        ,\n",
      "        0.        ,  0.14      ,  0.5       ,  0.        ,  0.        ,\n",
      "        0.        ,  0.        ,  0.        ,  0.        ,  0.26666667,\n",
      "        3.        ,  0.        ,  0.        ,  0.05      ,  1.83333333,\n",
      "        0.        ,  0.        ,  0.        ,  0.        ,  0.        ,\n",
      "        0.        ,  0.        ,  0.        ,  0.        ,  0.        ,\n",
      "        0.        ,  0.        ,  0.        ,  0.        ,  0.16666667,\n",
      "        0.83333333,  0.08333333,  3.        ,  0.25      ,  2.5       ,\n",
      "        0.        ,  0.        ,  0.        ,  0.        ,  0.        ,\n",
      "        0.        ,  0.        ,  0.        ,  0.        ,  0.        ,\n",
      "        0.        ,  0.        ,  0.        ,  0.        ,  0.86166667,\n",
      "       22.5       ,  0.        ,  0.        ,  0.        ,  0.        ,\n",
      "        0.145     ,  1.5       ,  0.14833333,  3.5       ,  0.        ,\n",
      "        0.        ,  0.        ,  0.        ,  0.        ,  0.        ,\n",
      "        0.        ,  0.        ,  0.        ,  0.        ,  0.        ,\n",
      "        0.        ,  0.        ,  0.        ,  0.        ,  0.        ,\n",
      "        0.        ,  0.        ,  0.        ,  0.        ,  0.        ,\n",
      "        0.        ,  0.        ,  0.        ,  0.08333333,  4.        ,\n",
      "        0.32833333,  6.66666667,  0.        ,  0.        ,  0.25      ,\n",
      "        1.16666667,  0.        ,  0.        ,  0.07666667,  0.16666667,\n",
      "        0.        ,  0.        ,  0.        ,  0.        ,  0.06666667,\n",
      "        0.33333333,  0.        ,  0.        ,  0.        ,  0.        ,\n",
      "        0.        ,  0.        ,  0.        ,  0.        ]), array([4.68333333e-01, 2.56666667e+01, 0.00000000e+00, 0.00000000e+00,\n",
      "       6.28333333e-01, 2.55000000e+01, 2.50000000e-01, 7.33333333e+00,\n",
      "       6.11166667e+00, 2.93833333e+02, 1.40000000e-01, 8.33333333e-01,\n",
      "       4.98333333e-01, 6.16666667e+00, 2.25000000e-01, 2.33333333e+00,\n",
      "       2.61666667e-01, 1.28333333e+01, 3.13166667e+00, 5.66666667e+01,\n",
      "       4.78333333e-01, 1.21666667e+01, 1.66666667e-01, 3.33333333e-01,\n",
      "       3.61666667e-01, 6.50000000e+00, 1.43333333e-01, 8.66666667e+00,\n",
      "       1.66666667e-01, 0.00000000e+00, 2.73333333e-01, 3.16666667e+00,\n",
      "       1.51666667e-01, 5.50000000e+00, 0.00000000e+00, 0.00000000e+00,\n",
      "       3.18333333e-01, 2.33333333e+00, 1.00000000e-01, 0.00000000e+00,\n",
      "       1.36666667e-01, 1.00000000e+00, 0.00000000e+00, 0.00000000e+00,\n",
      "       1.63333333e-01, 1.83333333e+00, 3.23333333e-01, 2.50000000e+00,\n",
      "       1.66666667e-01, 0.00000000e+00, 1.66666667e-01, 3.33333333e-01,\n",
      "       0.00000000e+00, 0.00000000e+00, 1.58333333e-01, 3.83333333e+00,\n",
      "       3.25000000e-01, 1.66666667e+00, 5.28333333e-01, 1.63333333e+01,\n",
      "       0.00000000e+00, 0.00000000e+00, 6.36666667e-01, 1.00000000e+01,\n",
      "       1.55000000e-01, 1.00000000e+00, 1.66666667e-01, 1.00000000e+00,\n",
      "       1.66666667e-01, 3.33333333e-01, 5.50000000e-02, 4.66666667e+00,\n",
      "       4.93333333e-01, 1.50000000e+00, 0.00000000e+00, 0.00000000e+00,\n",
      "       0.00000000e+00, 0.00000000e+00, 1.41666667e-01, 2.66666667e+00,\n",
      "       0.00000000e+00, 0.00000000e+00, 0.00000000e+00, 0.00000000e+00,\n",
      "       3.26666667e-01, 6.50000000e+00, 1.58333333e-01, 3.33333333e+00,\n",
      "       1.66666667e-01, 2.16666667e+00, 2.18000000e+00, 1.29666667e+02,\n",
      "       0.00000000e+00, 0.00000000e+00, 0.00000000e+00, 0.00000000e+00,\n",
      "       1.53333333e-01, 4.83333333e+00, 3.80000000e-01, 8.66666667e+00,\n",
      "       6.65000000e-01, 3.33333333e-01, 0.00000000e+00, 0.00000000e+00,\n",
      "       0.00000000e+00, 0.00000000e+00, 3.06666667e-01, 8.33333333e+00,\n",
      "       3.25000000e-01, 4.16666667e+00, 8.26666667e-01, 6.83333333e+00,\n",
      "       4.66666667e-02, 2.33333333e+00, 9.16666667e-02, 1.00000000e+00,\n",
      "       0.00000000e+00, 0.00000000e+00, 0.00000000e+00, 0.00000000e+00,\n",
      "       1.56666667e-01, 4.50000000e+00, 0.00000000e+00, 0.00000000e+00,\n",
      "       0.00000000e+00, 0.00000000e+00, 2.66666667e-02, 6.00000000e+00,\n",
      "       6.46666667e-01, 3.33333333e+00, 0.00000000e+00, 0.00000000e+00,\n",
      "       0.00000000e+00, 0.00000000e+00]), array([3.51666667e-01, 4.16666667e+00, 7.33333333e-02, 8.33333333e-01,\n",
      "       0.00000000e+00, 0.00000000e+00, 0.00000000e+00, 0.00000000e+00,\n",
      "       0.00000000e+00, 0.00000000e+00, 6.58333333e-01, 2.71666667e+01,\n",
      "       0.00000000e+00, 0.00000000e+00, 1.58333333e-01, 2.85000000e+01,\n",
      "       0.00000000e+00, 0.00000000e+00, 0.00000000e+00, 0.00000000e+00,\n",
      "       0.00000000e+00, 0.00000000e+00, 3.50000000e-02, 4.66666667e+00,\n",
      "       1.65000000e-01, 2.16666667e+00, 1.66666667e-01, 1.83333333e+00,\n",
      "       1.66666667e-01, 0.00000000e+00, 0.00000000e+00, 0.00000000e+00,\n",
      "       0.00000000e+00, 0.00000000e+00, 0.00000000e+00, 0.00000000e+00,\n",
      "       0.00000000e+00, 0.00000000e+00, 0.00000000e+00, 0.00000000e+00,\n",
      "       0.00000000e+00, 0.00000000e+00, 0.00000000e+00, 0.00000000e+00,\n",
      "       0.00000000e+00, 0.00000000e+00, 0.00000000e+00, 0.00000000e+00,\n",
      "       0.00000000e+00, 0.00000000e+00, 0.00000000e+00, 0.00000000e+00,\n",
      "       0.00000000e+00, 0.00000000e+00, 0.00000000e+00, 0.00000000e+00,\n",
      "       0.00000000e+00, 0.00000000e+00, 0.00000000e+00, 0.00000000e+00,\n",
      "       0.00000000e+00, 0.00000000e+00, 0.00000000e+00, 0.00000000e+00,\n",
      "       0.00000000e+00, 0.00000000e+00, 0.00000000e+00, 0.00000000e+00,\n",
      "       1.43333333e-01, 3.33333333e-01, 0.00000000e+00, 0.00000000e+00,\n",
      "       0.00000000e+00, 0.00000000e+00, 0.00000000e+00, 0.00000000e+00,\n",
      "       0.00000000e+00, 0.00000000e+00, 0.00000000e+00, 0.00000000e+00,\n",
      "       1.63333333e-01, 1.56666667e+01, 0.00000000e+00, 0.00000000e+00,\n",
      "       0.00000000e+00, 0.00000000e+00, 0.00000000e+00, 0.00000000e+00,\n",
      "       0.00000000e+00, 0.00000000e+00, 0.00000000e+00, 0.00000000e+00,\n",
      "       0.00000000e+00, 0.00000000e+00, 0.00000000e+00, 0.00000000e+00,\n",
      "       0.00000000e+00, 0.00000000e+00, 4.68333333e-01, 6.83333333e+01,\n",
      "       0.00000000e+00, 0.00000000e+00, 0.00000000e+00, 0.00000000e+00,\n",
      "       1.36666667e-01, 2.83333333e+00, 0.00000000e+00, 0.00000000e+00,\n",
      "       0.00000000e+00, 0.00000000e+00, 3.33333333e-01, 8.33333333e+00,\n",
      "       0.00000000e+00, 0.00000000e+00, 0.00000000e+00, 0.00000000e+00,\n",
      "       1.93333333e-01, 1.35000000e+01, 0.00000000e+00, 0.00000000e+00,\n",
      "       0.00000000e+00, 0.00000000e+00, 0.00000000e+00, 0.00000000e+00,\n",
      "       0.00000000e+00, 0.00000000e+00, 0.00000000e+00, 0.00000000e+00,\n",
      "       0.00000000e+00, 0.00000000e+00, 0.00000000e+00, 0.00000000e+00,\n",
      "       0.00000000e+00, 0.00000000e+00]), array([0.00000000e+00, 0.00000000e+00, 0.00000000e+00, 0.00000000e+00,\n",
      "       2.91666667e-01, 2.83333333e+00, 0.00000000e+00, 0.00000000e+00,\n",
      "       0.00000000e+00, 0.00000000e+00, 4.88333333e-01, 3.16666667e+00,\n",
      "       2.10566667e+01, 2.49240000e+04, 0.00000000e+00, 0.00000000e+00,\n",
      "       0.00000000e+00, 0.00000000e+00, 0.00000000e+00, 0.00000000e+00,\n",
      "       3.10000000e-01, 1.66666667e+00, 1.66666667e-01, 0.00000000e+00,\n",
      "       0.00000000e+00, 0.00000000e+00, 0.00000000e+00, 0.00000000e+00,\n",
      "       0.00000000e+00, 0.00000000e+00, 0.00000000e+00, 0.00000000e+00,\n",
      "       0.00000000e+00, 0.00000000e+00, 0.00000000e+00, 0.00000000e+00,\n",
      "       1.66666667e-01, 2.83333333e+00, 0.00000000e+00, 0.00000000e+00,\n",
      "       0.00000000e+00, 0.00000000e+00, 0.00000000e+00, 0.00000000e+00,\n",
      "       1.25000000e-01, 0.00000000e+00, 1.43333333e-01, 0.00000000e+00,\n",
      "       0.00000000e+00, 0.00000000e+00, 0.00000000e+00, 0.00000000e+00,\n",
      "       0.00000000e+00, 0.00000000e+00, 0.00000000e+00, 0.00000000e+00,\n",
      "       0.00000000e+00, 0.00000000e+00, 1.65000000e-01, 4.33333333e+00,\n",
      "       0.00000000e+00, 0.00000000e+00, 1.61666667e-01, 1.00000000e+00,\n",
      "       0.00000000e+00, 0.00000000e+00, 0.00000000e+00, 0.00000000e+00,\n",
      "       0.00000000e+00, 0.00000000e+00, 3.28333333e-01, 3.33333333e-01,\n",
      "       1.66666667e-01, 0.00000000e+00, 0.00000000e+00, 0.00000000e+00,\n",
      "       3.16666667e-01, 1.66666667e-01, 3.33333333e-01, 0.00000000e+00,\n",
      "       0.00000000e+00, 0.00000000e+00, 0.00000000e+00, 0.00000000e+00,\n",
      "       1.58333333e-01, 5.00000000e-01, 1.05000000e-01, 1.33333333e+00,\n",
      "       0.00000000e+00, 0.00000000e+00, 0.00000000e+00, 0.00000000e+00,\n",
      "       0.00000000e+00, 0.00000000e+00, 0.00000000e+00, 0.00000000e+00,\n",
      "       0.00000000e+00, 0.00000000e+00, 0.00000000e+00, 0.00000000e+00,\n",
      "       0.00000000e+00, 0.00000000e+00, 0.00000000e+00, 0.00000000e+00,\n",
      "       0.00000000e+00, 0.00000000e+00, 1.66666667e-01, 5.33333333e+00,\n",
      "       0.00000000e+00, 0.00000000e+00, 0.00000000e+00, 0.00000000e+00,\n",
      "       0.00000000e+00, 0.00000000e+00, 0.00000000e+00, 0.00000000e+00,\n",
      "       0.00000000e+00, 0.00000000e+00, 0.00000000e+00, 0.00000000e+00,\n",
      "       1.61666667e-01, 6.66666667e-01, 0.00000000e+00, 0.00000000e+00,\n",
      "       0.00000000e+00, 0.00000000e+00, 0.00000000e+00, 0.00000000e+00,\n",
      "       0.00000000e+00, 0.00000000e+00, 0.00000000e+00, 0.00000000e+00,\n",
      "       0.00000000e+00, 0.00000000e+00]), array([ 0.        ,  0.        ,  0.        ,  0.        ,  0.        ,\n",
      "        0.        ,  0.32666667, 44.16666667,  0.445     , 10.        ,\n",
      "        0.        ,  0.        ,  0.        ,  0.        ,  0.        ,\n",
      "        0.        ,  0.        ,  0.        ,  0.29166667,  4.66666667,\n",
      "        0.45833333,  9.16666667,  0.        ,  0.        ,  0.        ,\n",
      "        0.        ,  0.        ,  0.        ,  0.        ,  0.        ,\n",
      "        0.        ,  0.        ,  0.        ,  0.        ,  0.        ,\n",
      "        0.        ,  0.        ,  0.        ,  0.        ,  0.        ,\n",
      "        0.        ,  0.        ,  0.        ,  0.        ,  0.        ,\n",
      "        0.        ,  0.        ,  0.        ,  0.        ,  0.        ,\n",
      "        0.        ,  0.        ,  0.        ,  0.        ,  0.        ,\n",
      "        0.        ,  0.        ,  0.        ,  0.        ,  0.        ,\n",
      "        0.        ,  0.        ,  0.        ,  0.        ,  0.        ,\n",
      "        0.        ,  0.        ,  0.        ,  0.        ,  0.        ,\n",
      "        0.        ,  0.        ,  0.        ,  0.        ,  0.        ,\n",
      "        0.        ,  0.        ,  0.        ,  0.        ,  0.        ,\n",
      "        0.        ,  0.        ,  0.        ,  0.        ,  0.        ,\n",
      "        0.        ,  0.        ,  0.        ,  0.        ,  0.        ,\n",
      "        0.68833333, 43.66666667,  0.        ,  0.        ,  0.        ,\n",
      "        0.        ,  0.315     ,  5.33333333,  0.        ,  0.        ,\n",
      "        0.        ,  0.        ,  0.        ,  0.        ,  0.        ,\n",
      "        0.        ,  0.        ,  0.        ,  0.        ,  0.        ,\n",
      "        0.        ,  0.        ,  0.        ,  0.        ,  0.        ,\n",
      "        0.        ,  0.        ,  0.        ,  0.        ,  0.        ,\n",
      "        0.        ,  0.        ,  0.        ,  0.        ,  0.        ,\n",
      "        0.        ,  0.        ,  0.        ,  0.81666667, 59.33333333,\n",
      "        0.        ,  0.        ,  0.16      ,  3.        ]), array([7.90000000e-01, 1.83333333e+01, 0.00000000e+00, 0.00000000e+00,\n",
      "       0.00000000e+00, 0.00000000e+00, 0.00000000e+00, 0.00000000e+00,\n",
      "       0.00000000e+00, 0.00000000e+00, 1.66666667e-01, 0.00000000e+00,\n",
      "       0.00000000e+00, 0.00000000e+00, 0.00000000e+00, 0.00000000e+00,\n",
      "       0.00000000e+00, 0.00000000e+00, 0.00000000e+00, 0.00000000e+00,\n",
      "       0.00000000e+00, 0.00000000e+00, 2.90000000e-01, 2.05000000e+01,\n",
      "       0.00000000e+00, 0.00000000e+00, 0.00000000e+00, 0.00000000e+00,\n",
      "       1.66666667e-01, 0.00000000e+00, 0.00000000e+00, 0.00000000e+00,\n",
      "       9.33333333e-02, 8.33333333e-01, 0.00000000e+00, 0.00000000e+00,\n",
      "       1.18333333e-01, 1.08333333e+01, 0.00000000e+00, 0.00000000e+00,\n",
      "       1.66666667e-02, 2.50000000e+00, 0.00000000e+00, 0.00000000e+00,\n",
      "       0.00000000e+00, 0.00000000e+00, 0.00000000e+00, 0.00000000e+00,\n",
      "       2.60000000e-01, 1.33333333e+00, 0.00000000e+00, 0.00000000e+00,\n",
      "       0.00000000e+00, 0.00000000e+00, 0.00000000e+00, 0.00000000e+00,\n",
      "       5.56666667e-01, 1.96666667e+01, 3.33333333e-01, 0.00000000e+00,\n",
      "       0.00000000e+00, 0.00000000e+00, 0.00000000e+00, 0.00000000e+00,\n",
      "       3.31666667e-01, 2.33333333e+00, 0.00000000e+00, 0.00000000e+00,\n",
      "       0.00000000e+00, 0.00000000e+00, 0.00000000e+00, 0.00000000e+00,\n",
      "       1.66666667e-01, 0.00000000e+00, 0.00000000e+00, 0.00000000e+00,\n",
      "       0.00000000e+00, 0.00000000e+00, 0.00000000e+00, 0.00000000e+00,\n",
      "       3.33333333e-01, 1.66666667e-01, 0.00000000e+00, 0.00000000e+00,\n",
      "       0.00000000e+00, 0.00000000e+00, 0.00000000e+00, 0.00000000e+00,\n",
      "       0.00000000e+00, 0.00000000e+00, 0.00000000e+00, 0.00000000e+00,\n",
      "       0.00000000e+00, 0.00000000e+00, 0.00000000e+00, 0.00000000e+00,\n",
      "       0.00000000e+00, 0.00000000e+00, 1.58333333e-01, 2.66666667e+00,\n",
      "       0.00000000e+00, 0.00000000e+00, 1.56666667e-01, 1.65000000e+01,\n",
      "       0.00000000e+00, 0.00000000e+00, 0.00000000e+00, 0.00000000e+00,\n",
      "       0.00000000e+00, 0.00000000e+00, 3.33333333e-01, 0.00000000e+00,\n",
      "       0.00000000e+00, 0.00000000e+00, 5.83333333e-02, 8.50000000e+00,\n",
      "       0.00000000e+00, 0.00000000e+00, 0.00000000e+00, 0.00000000e+00,\n",
      "       0.00000000e+00, 0.00000000e+00, 0.00000000e+00, 0.00000000e+00,\n",
      "       0.00000000e+00, 0.00000000e+00, 2.76666667e-01, 6.66666667e+00,\n",
      "       0.00000000e+00, 0.00000000e+00, 0.00000000e+00, 0.00000000e+00,\n",
      "       0.00000000e+00, 0.00000000e+00]), array([ 0.14166667,  0.        ,  0.15333333,  1.16666667,  0.        ,\n",
      "        0.        ,  0.        ,  0.        ,  0.        ,  0.        ,\n",
      "        0.        ,  0.        ,  0.        ,  0.        ,  0.        ,\n",
      "        0.        ,  0.11833333,  2.        ,  0.        ,  0.        ,\n",
      "        0.        ,  0.        ,  0.10666667,  0.        ,  0.        ,\n",
      "        0.        ,  0.255     ,  7.16666667,  0.        ,  0.        ,\n",
      "        0.        ,  0.        ,  0.13833333,  1.83333333,  0.16666667,\n",
      "        0.        ,  0.        ,  0.        ,  0.125     ,  0.66666667,\n",
      "        0.16666667,  1.        ,  0.        ,  0.        ,  0.        ,\n",
      "        0.        ,  0.        ,  0.        ,  0.11166667,  0.66666667,\n",
      "        0.        ,  0.        ,  0.        ,  0.        ,  0.16666667,\n",
      "        0.        ,  0.15833333,  2.66666667,  0.14833333,  1.33333333,\n",
      "        0.        ,  0.        ,  0.        ,  0.        ,  0.14666667,\n",
      "        5.5       ,  0.        ,  0.        ,  0.        ,  0.        ,\n",
      "        0.        ,  0.        ,  0.        ,  0.        ,  0.11166667,\n",
      "        0.33333333,  0.        ,  0.        ,  0.        ,  0.        ,\n",
      "        0.28166667, 10.        ,  0.14333333,  0.        ,  0.        ,\n",
      "        0.        ,  0.        ,  0.        ,  0.        ,  0.        ,\n",
      "        0.        ,  0.        ,  0.        ,  0.        ,  0.08333333,\n",
      "        0.16666667,  0.        ,  0.        ,  0.08333333,  0.        ,\n",
      "        0.        ,  0.        ,  0.14666667,  0.5       ,  0.31166667,\n",
      "        6.33333333,  0.16666667,  0.        ,  0.08333333,  0.        ,\n",
      "        0.16666667,  0.5       ,  0.        ,  0.        ,  0.16666667,\n",
      "        0.        ,  0.16666667,  0.        ,  0.14166667,  0.33333333,\n",
      "        0.        ,  0.        ,  0.08333333,  0.        ,  0.16666667,\n",
      "        0.        ,  0.125     ,  0.        ,  0.        ,  0.        ,\n",
      "        0.        ,  0.        ,  0.        ,  0.        ]), array([0.00000000e+00, 0.00000000e+00, 0.00000000e+00, 0.00000000e+00,\n",
      "       0.00000000e+00, 0.00000000e+00, 3.21500000e+00, 2.19666667e+02,\n",
      "       3.00083333e+01, 1.59733333e+03, 0.00000000e+00, 0.00000000e+00,\n",
      "       0.00000000e+00, 0.00000000e+00, 0.00000000e+00, 0.00000000e+00,\n",
      "       0.00000000e+00, 0.00000000e+00, 9.91000000e+00, 9.49833333e+02,\n",
      "       4.96500000e+00, 5.37666667e+02, 0.00000000e+00, 0.00000000e+00,\n",
      "       0.00000000e+00, 0.00000000e+00, 0.00000000e+00, 0.00000000e+00,\n",
      "       0.00000000e+00, 0.00000000e+00, 0.00000000e+00, 0.00000000e+00,\n",
      "       0.00000000e+00, 0.00000000e+00, 0.00000000e+00, 0.00000000e+00,\n",
      "       0.00000000e+00, 0.00000000e+00, 0.00000000e+00, 0.00000000e+00,\n",
      "       0.00000000e+00, 0.00000000e+00, 0.00000000e+00, 0.00000000e+00,\n",
      "       0.00000000e+00, 0.00000000e+00, 0.00000000e+00, 0.00000000e+00,\n",
      "       0.00000000e+00, 0.00000000e+00, 0.00000000e+00, 0.00000000e+00,\n",
      "       0.00000000e+00, 0.00000000e+00, 0.00000000e+00, 0.00000000e+00,\n",
      "       0.00000000e+00, 0.00000000e+00, 0.00000000e+00, 0.00000000e+00,\n",
      "       0.00000000e+00, 0.00000000e+00, 0.00000000e+00, 0.00000000e+00,\n",
      "       0.00000000e+00, 0.00000000e+00, 0.00000000e+00, 0.00000000e+00,\n",
      "       0.00000000e+00, 0.00000000e+00, 0.00000000e+00, 0.00000000e+00,\n",
      "       0.00000000e+00, 0.00000000e+00, 0.00000000e+00, 0.00000000e+00,\n",
      "       0.00000000e+00, 0.00000000e+00, 0.00000000e+00, 0.00000000e+00,\n",
      "       0.00000000e+00, 0.00000000e+00, 0.00000000e+00, 0.00000000e+00,\n",
      "       0.00000000e+00, 0.00000000e+00, 0.00000000e+00, 0.00000000e+00,\n",
      "       0.00000000e+00, 0.00000000e+00, 6.00000000e+00, 4.23333333e+02,\n",
      "       0.00000000e+00, 0.00000000e+00, 0.00000000e+00, 0.00000000e+00,\n",
      "       2.27666667e+00, 4.86666667e+01, 0.00000000e+00, 0.00000000e+00,\n",
      "       0.00000000e+00, 0.00000000e+00, 0.00000000e+00, 0.00000000e+00,\n",
      "       0.00000000e+00, 0.00000000e+00, 0.00000000e+00, 0.00000000e+00,\n",
      "       0.00000000e+00, 0.00000000e+00, 0.00000000e+00, 0.00000000e+00,\n",
      "       0.00000000e+00, 0.00000000e+00, 0.00000000e+00, 0.00000000e+00,\n",
      "       0.00000000e+00, 0.00000000e+00, 0.00000000e+00, 0.00000000e+00,\n",
      "       0.00000000e+00, 0.00000000e+00, 0.00000000e+00, 0.00000000e+00,\n",
      "       0.00000000e+00, 0.00000000e+00, 0.00000000e+00, 0.00000000e+00,\n",
      "       8.68333333e-01, 2.38333333e+01, 3.11666667e-01, 5.83333333e+00,\n",
      "       2.89833333e+00, 2.06666667e+01]), array([0.00000000e+00, 0.00000000e+00, 0.00000000e+00, 0.00000000e+00,\n",
      "       1.65000000e-01, 3.15000000e+01, 0.00000000e+00, 0.00000000e+00,\n",
      "       0.00000000e+00, 0.00000000e+00, 1.66666667e-01, 0.00000000e+00,\n",
      "       3.25000000e-01, 7.66666667e+00, 1.33333333e-01, 7.66666667e+00,\n",
      "       5.44333333e+00, 4.46666667e+02, 0.00000000e+00, 0.00000000e+00,\n",
      "       0.00000000e+00, 0.00000000e+00, 0.00000000e+00, 0.00000000e+00,\n",
      "       2.80166667e+00, 1.39000000e+02, 3.20000000e-01, 2.26666667e+01,\n",
      "       0.00000000e+00, 0.00000000e+00, 0.00000000e+00, 0.00000000e+00,\n",
      "       0.00000000e+00, 0.00000000e+00, 0.00000000e+00, 0.00000000e+00,\n",
      "       1.46666667e-01, 8.33333333e-01, 0.00000000e+00, 0.00000000e+00,\n",
      "       1.60000000e-01, 5.00000000e-01, 0.00000000e+00, 0.00000000e+00,\n",
      "       0.00000000e+00, 0.00000000e+00, 0.00000000e+00, 0.00000000e+00,\n",
      "       0.00000000e+00, 0.00000000e+00, 0.00000000e+00, 0.00000000e+00,\n",
      "       4.36666667e-01, 5.00000000e-01, 0.00000000e+00, 0.00000000e+00,\n",
      "       0.00000000e+00, 0.00000000e+00, 0.00000000e+00, 0.00000000e+00,\n",
      "       1.55000000e-01, 1.66666667e+01, 0.00000000e+00, 0.00000000e+00,\n",
      "       0.00000000e+00, 0.00000000e+00, 1.25000000e-01, 1.33333333e+00,\n",
      "       0.00000000e+00, 0.00000000e+00, 0.00000000e+00, 0.00000000e+00,\n",
      "       3.30000000e-01, 9.33333333e+00, 0.00000000e+00, 0.00000000e+00,\n",
      "       6.33333333e-02, 3.16666667e+00, 0.00000000e+00, 0.00000000e+00,\n",
      "       0.00000000e+00, 0.00000000e+00, 4.80000000e-01, 2.00000000e+00,\n",
      "       0.00000000e+00, 0.00000000e+00, 0.00000000e+00, 0.00000000e+00,\n",
      "       0.00000000e+00, 0.00000000e+00, 0.00000000e+00, 0.00000000e+00,\n",
      "       0.00000000e+00, 0.00000000e+00, 0.00000000e+00, 0.00000000e+00,\n",
      "       0.00000000e+00, 0.00000000e+00, 0.00000000e+00, 0.00000000e+00,\n",
      "       0.00000000e+00, 0.00000000e+00, 0.00000000e+00, 0.00000000e+00,\n",
      "       0.00000000e+00, 0.00000000e+00, 0.00000000e+00, 0.00000000e+00,\n",
      "       0.00000000e+00, 0.00000000e+00, 0.00000000e+00, 0.00000000e+00,\n",
      "       1.55000000e-01, 4.16666667e+00, 0.00000000e+00, 0.00000000e+00,\n",
      "       9.66666667e-02, 1.00000000e+00, 0.00000000e+00, 0.00000000e+00,\n",
      "       0.00000000e+00, 0.00000000e+00, 0.00000000e+00, 0.00000000e+00,\n",
      "       0.00000000e+00, 0.00000000e+00, 0.00000000e+00, 0.00000000e+00,\n",
      "       0.00000000e+00, 0.00000000e+00, 0.00000000e+00, 0.00000000e+00,\n",
      "       0.00000000e+00, 0.00000000e+00]), array([0.00000000e+00, 0.00000000e+00, 0.00000000e+00, 0.00000000e+00,\n",
      "       3.33333333e-01, 0.00000000e+00, 0.00000000e+00, 0.00000000e+00,\n",
      "       0.00000000e+00, 0.00000000e+00, 2.70000000e-01, 1.20000000e+01,\n",
      "       6.10000000e-01, 1.53333333e+01, 1.08333333e-01, 2.16666667e+00,\n",
      "       0.00000000e+00, 0.00000000e+00, 0.00000000e+00, 0.00000000e+00,\n",
      "       0.00000000e+00, 0.00000000e+00, 0.00000000e+00, 0.00000000e+00,\n",
      "       1.58333333e-01, 4.66666667e+00, 0.00000000e+00, 0.00000000e+00,\n",
      "       3.66666667e-01, 2.16666667e+00, 0.00000000e+00, 0.00000000e+00,\n",
      "       0.00000000e+00, 0.00000000e+00, 0.00000000e+00, 0.00000000e+00,\n",
      "       2.21666667e-01, 1.05000000e+01, 0.00000000e+00, 0.00000000e+00,\n",
      "       0.00000000e+00, 0.00000000e+00, 1.11666667e-01, 5.33333333e+00,\n",
      "       1.38333333e-01, 2.83333333e+00, 7.28333333e-01, 2.85000000e+01,\n",
      "       0.00000000e+00, 0.00000000e+00, 1.53333333e-01, 4.50000000e+00,\n",
      "       1.58333333e-01, 5.83333333e+00, 0.00000000e+00, 0.00000000e+00,\n",
      "       0.00000000e+00, 0.00000000e+00, 0.00000000e+00, 0.00000000e+00,\n",
      "       2.20000000e-01, 3.00000000e+00, 2.83333333e-01, 2.83333333e+00,\n",
      "       0.00000000e+00, 0.00000000e+00, 1.00000000e-01, 5.00000000e+00,\n",
      "       3.61666667e-01, 4.16666667e+00, 1.55000000e-01, 6.16666667e+00,\n",
      "       0.00000000e+00, 0.00000000e+00, 0.00000000e+00, 0.00000000e+00,\n",
      "       0.00000000e+00, 0.00000000e+00, 5.51666667e-01, 1.68333333e+01,\n",
      "       0.00000000e+00, 0.00000000e+00, 0.00000000e+00, 0.00000000e+00,\n",
      "       2.16666667e-02, 5.00000000e-01, 2.46666667e-01, 1.36666667e+01,\n",
      "       1.18333333e-01, 3.16666667e+00, 0.00000000e+00, 0.00000000e+00,\n",
      "       3.05000000e-01, 5.00000000e+00, 0.00000000e+00, 0.00000000e+00,\n",
      "       0.00000000e+00, 0.00000000e+00, 0.00000000e+00, 0.00000000e+00,\n",
      "       0.00000000e+00, 0.00000000e+00, 0.00000000e+00, 0.00000000e+00,\n",
      "       0.00000000e+00, 0.00000000e+00, 0.00000000e+00, 0.00000000e+00,\n",
      "       0.00000000e+00, 0.00000000e+00, 0.00000000e+00, 0.00000000e+00,\n",
      "       6.83333333e-02, 2.00000000e+00, 0.00000000e+00, 0.00000000e+00,\n",
      "       0.00000000e+00, 0.00000000e+00, 0.00000000e+00, 0.00000000e+00,\n",
      "       2.98333333e-01, 8.66666667e+00, 0.00000000e+00, 0.00000000e+00,\n",
      "       0.00000000e+00, 0.00000000e+00, 0.00000000e+00, 0.00000000e+00,\n",
      "       0.00000000e+00, 0.00000000e+00, 0.00000000e+00, 0.00000000e+00,\n",
      "       0.00000000e+00, 0.00000000e+00])]\n"
     ]
    }
   ],
   "source": [
    "print([k for k in ns_repr[21:50]])"
   ]
  },
  {
   "cell_type": "code",
   "execution_count": 130,
   "metadata": {},
   "outputs": [],
   "source": [
    "svd = TruncatedSVD(n_components=100) #, n_iter=7, random_state=42)\n",
    "svd_pca = PCA(n_components=min(len(ns_repr), len(ns_repr[0])))"
   ]
  },
  {
   "cell_type": "code",
   "execution_count": 131,
   "metadata": {},
   "outputs": [],
   "source": [
    "# fit1 = svd.fit(ns_repr)\n",
    "# fit1 = svd.fit(csr_matrix(preprocessing.normalize(ns_repr)))\n",
    "fit1 = svd_pca.fit(StandardScaler().fit_transform(np.array(ns_repr)))"
   ]
  },
  {
   "cell_type": "code",
   "execution_count": 132,
   "metadata": {},
   "outputs": [],
   "source": [
    "explained_var = fit1.explained_variance_ratio_"
   ]
  },
  {
   "cell_type": "code",
   "execution_count": 133,
   "metadata": {},
   "outputs": [
    {
     "data": {
      "text/plain": [
       "array([3.89721829e-01, 2.67886255e-01, 9.79684309e-02, 6.74168962e-02,\n",
       "       3.69645043e-02, 2.53915325e-02, 1.81541784e-02, 1.35958109e-02,\n",
       "       1.21418816e-02, 8.25265826e-03, 6.85127086e-03, 6.54983472e-03,\n",
       "       5.13933876e-03, 4.80535814e-03, 4.53876158e-03, 4.09096776e-03,\n",
       "       3.51288302e-03, 3.47486011e-03, 3.06177898e-03, 2.39178057e-03,\n",
       "       2.22843108e-03, 1.91324707e-03, 1.63036712e-03, 1.48790735e-03,\n",
       "       1.35332923e-03, 1.15401919e-03, 9.85065289e-04, 9.09980118e-04,\n",
       "       7.49193201e-04, 6.75758774e-04, 6.28960333e-04, 5.39223603e-04,\n",
       "       3.93709631e-04, 3.52165050e-04, 3.09621986e-04, 2.92775040e-04,\n",
       "       2.56087517e-04, 2.24350123e-04, 2.10510942e-04, 1.81807460e-04,\n",
       "       1.60216082e-04, 1.47541645e-04, 1.25862115e-04, 1.13585184e-04,\n",
       "       1.09977806e-04, 9.96387935e-05, 9.43811854e-05, 7.55447027e-05,\n",
       "       7.00399120e-05, 6.57888847e-05, 6.19837187e-05, 5.35866747e-05,\n",
       "       4.99913188e-05, 4.43550807e-05, 3.87112902e-05, 3.46129443e-05,\n",
       "       3.05182542e-05, 2.74839892e-05, 2.51377686e-05, 2.42338037e-05,\n",
       "       2.00024888e-05, 1.87590099e-05, 1.49172074e-05, 1.42504041e-05,\n",
       "       1.26235126e-05, 1.05957307e-05, 9.10476116e-06, 8.39481220e-06,\n",
       "       7.37755666e-06, 6.42606078e-06, 5.86557746e-06, 5.26986138e-06,\n",
       "       4.26385048e-06, 3.71590252e-06, 3.34172078e-06, 2.80313965e-06,\n",
       "       2.29748926e-06, 1.96292852e-06, 1.78045026e-06, 1.65806812e-06,\n",
       "       1.47291478e-06, 1.00203958e-06, 8.82832929e-07, 7.18729313e-07,\n",
       "       3.07527579e-33])"
      ]
     },
     "execution_count": 133,
     "metadata": {},
     "output_type": "execute_result"
    }
   ],
   "source": [
    "explained_var"
   ]
  },
  {
   "cell_type": "code",
   "execution_count": 134,
   "metadata": {},
   "outputs": [
    {
     "data": {
      "text/plain": [
       "85"
      ]
     },
     "execution_count": 134,
     "metadata": {},
     "output_type": "execute_result"
    }
   ],
   "source": [
    "len(explained_var)"
   ]
  },
  {
   "cell_type": "code",
   "execution_count": 135,
   "metadata": {},
   "outputs": [
    {
     "data": {
      "text/plain": [
       "1.0000000000000002"
      ]
     },
     "execution_count": 135,
     "metadata": {},
     "output_type": "execute_result"
    }
   ],
   "source": [
    "fit1.explained_variance_ratio_.sum()"
   ]
  },
  {
   "cell_type": "code",
   "execution_count": 136,
   "metadata": {},
   "outputs": [],
   "source": [
    "explained_var_sums = [sum(explained_var[:d]) for d in range(len(ns_repr))]"
   ]
  },
  {
   "cell_type": "code",
   "execution_count": 137,
   "metadata": {
    "scrolled": true
   },
   "outputs": [
    {
     "data": {
      "text/plain": [
       "[0,\n",
       " 0.38972182886367807,\n",
       " 0.6576080840975795,\n",
       " 0.7555765150175562,\n",
       " 0.8229934112097198,\n",
       " 0.8599579155314236,\n",
       " 0.8853494480385173,\n",
       " 0.9035036264314092,\n",
       " 0.917099437334574,\n",
       " 0.9292413189378567,\n",
       " 0.9374939771950984,\n",
       " 0.9443452480551061,\n",
       " 0.9508950827743161,\n",
       " 0.9560344215334866,\n",
       " 0.9608397796783783,\n",
       " 0.9653785412551497,\n",
       " 0.9694695090158731,\n",
       " 0.972982392031252,\n",
       " 0.9764572521453554,\n",
       " 0.9795190311212861,\n",
       " 0.9819108116949768,\n",
       " 0.9841392427775991,\n",
       " 0.9860524898454138,\n",
       " 0.9876828569607259,\n",
       " 0.9891707643079991,\n",
       " 0.9905240935402813,\n",
       " 0.9916781127277186,\n",
       " 0.9926631780169531,\n",
       " 0.9935731581348931,\n",
       " 0.994322351336176,\n",
       " 0.9949981101104122,\n",
       " 0.9956270704436768,\n",
       " 0.9961662940463439,\n",
       " 0.9965600036776785,\n",
       " 0.9969121687278528,\n",
       " 0.9972217907143436,\n",
       " 0.9975145657540594,\n",
       " 0.9977706532714192,\n",
       " 0.9979950033941799,\n",
       " 0.9982055143361243,\n",
       " 0.9983873217963073,\n",
       " 0.9985475378787956,\n",
       " 0.9986950795235762,\n",
       " 0.9988209416387855,\n",
       " 0.9989345268232318,\n",
       " 0.99904450462915,\n",
       " 0.9991441434226902,\n",
       " 0.9992385246080728,\n",
       " 0.9993140693108047,\n",
       " 0.9993841092228305,\n",
       " 0.9994498981075642,\n",
       " 0.9995118818262905,\n",
       " 0.9995654685009832,\n",
       " 0.9996154598198123,\n",
       " 0.99965981490054,\n",
       " 0.9996985261906969,\n",
       " 0.999733139134992,\n",
       " 0.9997636573891455,\n",
       " 0.9997911413783116,\n",
       " 0.9998162791468772,\n",
       " 0.9998405129505928,\n",
       " 0.9998605154393557,\n",
       " 0.9998792744492937,\n",
       " 0.9998941916567088,\n",
       " 0.9999084420608227,\n",
       " 0.999921065573438,\n",
       " 0.9999316613041666,\n",
       " 0.9999407660653281,\n",
       " 0.9999491608775277,\n",
       " 0.9999565384341896,\n",
       " 0.9999629644949658,\n",
       " 0.99996883007243,\n",
       " 0.9999740999338084,\n",
       " 0.9999783637842903,\n",
       " 0.9999820796868119,\n",
       " 0.9999854214075947,\n",
       " 0.999988224547242,\n",
       " 0.9999905220364994,\n",
       " 0.9999924849650175,\n",
       " 0.9999942654152727,\n",
       " 0.9999959234833969,\n",
       " 0.9999973963981762,\n",
       " 0.999998398437758,\n",
       " 0.9999992812706866,\n",
       " 0.9999999999999999]"
      ]
     },
     "execution_count": 137,
     "metadata": {},
     "output_type": "execute_result"
    }
   ],
   "source": [
    "explained_var_sums"
   ]
  },
  {
   "cell_type": "code",
   "execution_count": 138,
   "metadata": {
    "scrolled": false
   },
   "outputs": [
    {
     "data": {
      "text/plain": [
       "<AxesSubplot:>"
      ]
     },
     "execution_count": 138,
     "metadata": {},
     "output_type": "execute_result"
    },
    {
     "data": {
      "image/png": "[encoded data removed]",
      "text/plain": [
       "<Figure size 432x288 with 1 Axes>"
      ]
     },
     "metadata": {},
     "output_type": "display_data"
    }
   ],
   "source": [
    "sns.lineplot(x=range(len(explained_var_sums)), y=explained_var_sums)"
   ]
  },
  {
   "cell_type": "markdown",
   "metadata": {},
   "source": [
    "Now, I will cast those list representation values to be numpy arrays so I can preprocess them easily. Further, I will normalize each array."
   ]
  },
  {
   "cell_type": "markdown",
   "metadata": {},
   "source": [
    "*side note: `preprocessing.normalize` vs `standardscaler`*"
   ]
  },
  {
   "cell_type": "code",
   "execution_count": 139,
   "metadata": {},
   "outputs": [
    {
     "data": {
      "text/plain": [
       "array([[0.00999301, 0.99930073, 0.01998601, 0.02997902],\n",
       "       [0.01781459, 0.44536472, 0.89072943, 0.08907294]])"
      ]
     },
     "execution_count": 139,
     "metadata": {},
     "output_type": "execute_result"
    }
   ],
   "source": [
    "preprocessing.normalize(np.array([[1,100,2,3],[2,50,100,10]]))"
   ]
  },
  {
   "cell_type": "code",
   "execution_count": 140,
   "metadata": {},
   "outputs": [
    {
     "data": {
      "text/plain": [
       "array([[-1.41421356,  1.41421356, -1.41421356, -1.41421356],\n",
       "       [ 0.70710678, -0.70710678,  0.70710678,  0.70710678],\n",
       "       [ 0.70710678, -0.70710678,  0.70710678,  0.70710678]])"
      ]
     },
     "execution_count": 140,
     "metadata": {},
     "output_type": "execute_result"
    }
   ],
   "source": [
    "scaler = StandardScaler()\n",
    "scaler.fit_transform(np.array([[1,100,2,3],[2,50,100,10],[2,50,100,10]]))"
   ]
  },
  {
   "cell_type": "markdown",
   "metadata": {},
   "source": [
    "Now I'm thinking, should I *normalize* or *standardize*?"
   ]
  },
  {
   "cell_type": "code",
   "execution_count": 141,
   "metadata": {},
   "outputs": [],
   "source": [
    "# for ns in ns_sr_rep:\n",
    "#     rep = ns_sr_rep[ns]\n",
    "#     ns_sr_rep[ns] = preprocessing.normalize(np.array([rep]))"
   ]
  },
  {
   "cell_type": "markdown",
   "metadata": {},
   "source": [
    "## K-Means\n",
    "\n",
    "Without and with standardization.\n",
    "\n",
    "First, I need to find optimum `k`."
   ]
  },
  {
   "cell_type": "code",
   "execution_count": 234,
   "metadata": {},
   "outputs": [],
   "source": [
    "ns_repr_new = fit1.transform(StandardScaler().fit_transform(np.array(ns_repr))) #fit1 is PCA"
   ]
  },
  {
   "cell_type": "code",
   "execution_count": 235,
   "metadata": {},
   "outputs": [],
   "source": [
    "old_ns_repr_new = ns_repr_new"
   ]
  },
  {
   "cell_type": "code",
   "execution_count": 236,
   "metadata": {},
   "outputs": [],
   "source": [
    "ns_repr_new = [k[:7] for k in ns_repr_new]"
   ]
  },
  {
   "cell_type": "code",
   "execution_count": 237,
   "metadata": {},
   "outputs": [],
   "source": [
    "kmeans = KMeans(init = \"k-means++\",\n",
    "               n_clusters = 5,\n",
    "               n_init = 10,\n",
    "               max_iter = 100)"
   ]
  },
  {
   "cell_type": "markdown",
   "metadata": {},
   "source": [
    "Freezing the list for representations and the news sources."
   ]
  },
  {
   "cell_type": "code",
   "execution_count": 238,
   "metadata": {},
   "outputs": [
    {
     "data": {
      "text/plain": [
       "KMeans(max_iter=100, n_clusters=5)"
      ]
     },
     "execution_count": 238,
     "metadata": {},
     "output_type": "execute_result"
    }
   ],
   "source": [
    "kmeans.fit([v for v in ns_repr_new])"
   ]
  },
  {
   "cell_type": "code",
   "execution_count": 239,
   "metadata": {},
   "outputs": [],
   "source": [
    "ns_fixed = list(ns_sr_rep.keys())"
   ]
  },
  {
   "cell_type": "code",
   "execution_count": 240,
   "metadata": {},
   "outputs": [
    {
     "name": "stdout",
     "output_type": "stream",
     "text": [
      "True\n"
     ]
    }
   ],
   "source": [
    "for i,ns in enumerate(ns_fixed):\n",
    "    if (ns_sr_rep[ns] == ns_repr[i]).all():\n",
    "        pass\n",
    "    else:\n",
    "        print(\"False\")\n",
    "print(\"True\")"
   ]
  },
  {
   "cell_type": "code",
   "execution_count": 241,
   "metadata": {},
   "outputs": [
    {
     "data": {
      "text/plain": [
       "1695.8474350111833"
      ]
     },
     "execution_count": 241,
     "metadata": {},
     "output_type": "execute_result"
    }
   ],
   "source": [
    "kmeans.inertia_"
   ]
  },
  {
   "cell_type": "code",
   "execution_count": 242,
   "metadata": {
    "scrolled": true
   },
   "outputs": [
    {
     "data": {
      "text/plain": [
       "4"
      ]
     },
     "execution_count": 242,
     "metadata": {},
     "output_type": "execute_result"
    }
   ],
   "source": [
    "kmeans.n_iter_"
   ]
  },
  {
   "cell_type": "code",
   "execution_count": 243,
   "metadata": {
    "scrolled": true
   },
   "outputs": [
    {
     "data": {
      "text/plain": [
       "Counter({0: 69, 1: 5, 3: 1, 4: 9, 2: 1})"
      ]
     },
     "execution_count": 243,
     "metadata": {},
     "output_type": "execute_result"
    }
   ],
   "source": [
    "Counter(kmeans.labels_)"
   ]
  },
  {
   "cell_type": "markdown",
   "metadata": {},
   "source": [
    "**Choosing the appropriate number of clusters**"
   ]
  },
  {
   "cell_type": "markdown",
   "metadata": {},
   "source": [
    "1. Elbow method"
   ]
  },
  {
   "cell_type": "code",
   "execution_count": 244,
   "metadata": {},
   "outputs": [],
   "source": [
    "kmeans_kwargs = {\n",
    "    \"init\": \"random\",\n",
    "    \"n_init\": 10,\n",
    "    \"max_iter\": 300,\n",
    "    \"random_state\": 360\n",
    "}"
   ]
  },
  {
   "cell_type": "code",
   "execution_count": 245,
   "metadata": {
    "scrolled": true
   },
   "outputs": [
    {
     "name": "stdout",
     "output_type": "stream",
     "text": [
      "have done 1 rounds, current sse is [10290.90630505375]\n",
      "have done 2 rounds, current sse is [10290.90630505375, 6668.52040836011]\n",
      "have done 3 rounds, current sse is [10290.90630505375, 6668.52040836011, 3776.482891454559]\n",
      "have done 4 rounds, current sse is [10290.90630505375, 6668.52040836011, 3776.482891454559, 2320.768082218074]\n",
      "have done 5 rounds, current sse is [10290.90630505375, 6668.52040836011, 3776.482891454559, 2320.768082218074, 1679.871215696441]\n",
      "have done 6 rounds, current sse is [10290.90630505375, 6668.52040836011, 3776.482891454559, 2320.768082218074, 1679.871215696441, 1323.5738229463261]\n",
      "have done 7 rounds, current sse is [10290.90630505375, 6668.52040836011, 3776.482891454559, 2320.768082218074, 1679.871215696441, 1323.5738229463261, 1283.8042224436288]\n",
      "have done 8 rounds, current sse is [10290.90630505375, 6668.52040836011, 3776.482891454559, 2320.768082218074, 1679.871215696441, 1323.5738229463261, 1283.8042224436288, 927.6641321782836]\n",
      "have done 9 rounds, current sse is [10290.90630505375, 6668.52040836011, 3776.482891454559, 2320.768082218074, 1679.871215696441, 1323.5738229463261, 1283.8042224436288, 927.6641321782836, 888.7251333570093]\n",
      "have done 10 rounds, current sse is [10290.90630505375, 6668.52040836011, 3776.482891454559, 2320.768082218074, 1679.871215696441, 1323.5738229463261, 1283.8042224436288, 927.6641321782836, 888.7251333570093, 612.9794475417702]\n",
      "have done 11 rounds, current sse is [10290.90630505375, 6668.52040836011, 3776.482891454559, 2320.768082218074, 1679.871215696441, 1323.5738229463261, 1283.8042224436288, 927.6641321782836, 888.7251333570093, 612.9794475417702, 600.1065611873261]\n",
      "have done 12 rounds, current sse is [10290.90630505375, 6668.52040836011, 3776.482891454559, 2320.768082218074, 1679.871215696441, 1323.5738229463261, 1283.8042224436288, 927.6641321782836, 888.7251333570093, 612.9794475417702, 600.1065611873261, 595.6972879663149]\n",
      "have done 13 rounds, current sse is [10290.90630505375, 6668.52040836011, 3776.482891454559, 2320.768082218074, 1679.871215696441, 1323.5738229463261, 1283.8042224436288, 927.6641321782836, 888.7251333570093, 612.9794475417702, 600.1065611873261, 595.6972879663149, 578.6905276200346]\n",
      "have done 14 rounds, current sse is [10290.90630505375, 6668.52040836011, 3776.482891454559, 2320.768082218074, 1679.871215696441, 1323.5738229463261, 1283.8042224436288, 927.6641321782836, 888.7251333570093, 612.9794475417702, 600.1065611873261, 595.6972879663149, 578.6905276200346, 573.3166235775362]\n",
      "have done 15 rounds, current sse is [10290.90630505375, 6668.52040836011, 3776.482891454559, 2320.768082218074, 1679.871215696441, 1323.5738229463261, 1283.8042224436288, 927.6641321782836, 888.7251333570093, 612.9794475417702, 600.1065611873261, 595.6972879663149, 578.6905276200346, 573.3166235775362, 571.595199908188]\n",
      "have done 16 rounds, current sse is [10290.90630505375, 6668.52040836011, 3776.482891454559, 2320.768082218074, 1679.871215696441, 1323.5738229463261, 1283.8042224436288, 927.6641321782836, 888.7251333570093, 612.9794475417702, 600.1065611873261, 595.6972879663149, 578.6905276200346, 573.3166235775362, 571.595199908188, 523.9808174478289]\n",
      "have done 17 rounds, current sse is [10290.90630505375, 6668.52040836011, 3776.482891454559, 2320.768082218074, 1679.871215696441, 1323.5738229463261, 1283.8042224436288, 927.6641321782836, 888.7251333570093, 612.9794475417702, 600.1065611873261, 595.6972879663149, 578.6905276200346, 573.3166235775362, 571.595199908188, 523.9808174478289, 520.9751535522419]\n",
      "have done 18 rounds, current sse is [10290.90630505375, 6668.52040836011, 3776.482891454559, 2320.768082218074, 1679.871215696441, 1323.5738229463261, 1283.8042224436288, 927.6641321782836, 888.7251333570093, 612.9794475417702, 600.1065611873261, 595.6972879663149, 578.6905276200346, 573.3166235775362, 571.595199908188, 523.9808174478289, 520.9751535522419, 520.2243495625322]\n",
      "have done 19 rounds, current sse is [10290.90630505375, 6668.52040836011, 3776.482891454559, 2320.768082218074, 1679.871215696441, 1323.5738229463261, 1283.8042224436288, 927.6641321782836, 888.7251333570093, 612.9794475417702, 600.1065611873261, 595.6972879663149, 578.6905276200346, 573.3166235775362, 571.595199908188, 523.9808174478289, 520.9751535522419, 520.2243495625322, 516.6339819058674]\n"
     ]
    }
   ],
   "source": [
    "sse = []\n",
    "for k in range(1,20):\n",
    "    kmeans = KMeans(n_clusters = k, **kmeans_kwargs)\n",
    "    kmeans.fit(ns_repr_new)\n",
    "    sse.append(kmeans.inertia_)\n",
    "    print(f\"have done {k} rounds, current sse is {sse}\")"
   ]
  },
  {
   "cell_type": "code",
   "execution_count": 246,
   "metadata": {
    "scrolled": true
   },
   "outputs": [
    {
     "data": {
      "text/plain": [
       "[<matplotlib.lines.Line2D at 0x2928233bdf0>]"
      ]
     },
     "execution_count": 246,
     "metadata": {},
     "output_type": "execute_result"
    },
    {
     "data": {
      "image/png": "[encoded data removed]",
      "text/plain": [
       "<Figure size 432x288 with 1 Axes>"
      ]
     },
     "metadata": {},
     "output_type": "display_data"
    }
   ],
   "source": [
    "plt.plot(range(1,20),sse,\"go-\")"
   ]
  },
  {
   "cell_type": "code",
   "execution_count": 247,
   "metadata": {
    "scrolled": true
   },
   "outputs": [
    {
     "name": "stdout",
     "output_type": "stream",
     "text": [
      "have done 20 rounds, current sse is [10290.90630505375, 6668.52040836011, 3776.482891454559, 2320.768082218074, 1679.871215696441, 1323.5738229463261, 1283.8042224436288, 927.6641321782836, 888.7251333570093, 612.9794475417702, 600.1065611873261, 595.6972879663149, 578.6905276200346, 573.3166235775362, 571.595199908188, 523.9808174478289, 520.9751535522419, 520.2243495625322, 516.6339819058674, 515.5703800182914]\n",
      "have done 21 rounds, current sse is [10290.90630505375, 6668.52040836011, 3776.482891454559, 2320.768082218074, 1679.871215696441, 1323.5738229463261, 1283.8042224436288, 927.6641321782836, 888.7251333570093, 612.9794475417702, 600.1065611873261, 595.6972879663149, 578.6905276200346, 573.3166235775362, 571.595199908188, 523.9808174478289, 520.9751535522419, 520.2243495625322, 516.6339819058674, 515.5703800182914, 423.6938405594609]\n",
      "have done 22 rounds, current sse is [10290.90630505375, 6668.52040836011, 3776.482891454559, 2320.768082218074, 1679.871215696441, 1323.5738229463261, 1283.8042224436288, 927.6641321782836, 888.7251333570093, 612.9794475417702, 600.1065611873261, 595.6972879663149, 578.6905276200346, 573.3166235775362, 571.595199908188, 523.9808174478289, 520.9751535522419, 520.2243495625322, 516.6339819058674, 515.5703800182914, 423.6938405594609, 420.37713178619254]\n",
      "have done 23 rounds, current sse is [10290.90630505375, 6668.52040836011, 3776.482891454559, 2320.768082218074, 1679.871215696441, 1323.5738229463261, 1283.8042224436288, 927.6641321782836, 888.7251333570093, 612.9794475417702, 600.1065611873261, 595.6972879663149, 578.6905276200346, 573.3166235775362, 571.595199908188, 523.9808174478289, 520.9751535522419, 520.2243495625322, 516.6339819058674, 515.5703800182914, 423.6938405594609, 420.37713178619254, 420.32732580435174]\n",
      "have done 24 rounds, current sse is [10290.90630505375, 6668.52040836011, 3776.482891454559, 2320.768082218074, 1679.871215696441, 1323.5738229463261, 1283.8042224436288, 927.6641321782836, 888.7251333570093, 612.9794475417702, 600.1065611873261, 595.6972879663149, 578.6905276200346, 573.3166235775362, 571.595199908188, 523.9808174478289, 520.9751535522419, 520.2243495625322, 516.6339819058674, 515.5703800182914, 423.6938405594609, 420.37713178619254, 420.32732580435174, 419.355318178698]\n",
      "have done 25 rounds, current sse is [10290.90630505375, 6668.52040836011, 3776.482891454559, 2320.768082218074, 1679.871215696441, 1323.5738229463261, 1283.8042224436288, 927.6641321782836, 888.7251333570093, 612.9794475417702, 600.1065611873261, 595.6972879663149, 578.6905276200346, 573.3166235775362, 571.595199908188, 523.9808174478289, 520.9751535522419, 520.2243495625322, 516.6339819058674, 515.5703800182914, 423.6938405594609, 420.37713178619254, 420.32732580435174, 419.355318178698, 420.211575673924]\n",
      "have done 26 rounds, current sse is [10290.90630505375, 6668.52040836011, 3776.482891454559, 2320.768082218074, 1679.871215696441, 1323.5738229463261, 1283.8042224436288, 927.6641321782836, 888.7251333570093, 612.9794475417702, 600.1065611873261, 595.6972879663149, 578.6905276200346, 573.3166235775362, 571.595199908188, 523.9808174478289, 520.9751535522419, 520.2243495625322, 516.6339819058674, 515.5703800182914, 423.6938405594609, 420.37713178619254, 420.32732580435174, 419.355318178698, 420.211575673924, 105.78719825293128]\n",
      "have done 27 rounds, current sse is [10290.90630505375, 6668.52040836011, 3776.482891454559, 2320.768082218074, 1679.871215696441, 1323.5738229463261, 1283.8042224436288, 927.6641321782836, 888.7251333570093, 612.9794475417702, 600.1065611873261, 595.6972879663149, 578.6905276200346, 573.3166235775362, 571.595199908188, 523.9808174478289, 520.9751535522419, 520.2243495625322, 516.6339819058674, 515.5703800182914, 423.6938405594609, 420.37713178619254, 420.32732580435174, 419.355318178698, 420.211575673924, 105.78719825293128, 105.91535472055935]\n",
      "have done 28 rounds, current sse is [10290.90630505375, 6668.52040836011, 3776.482891454559, 2320.768082218074, 1679.871215696441, 1323.5738229463261, 1283.8042224436288, 927.6641321782836, 888.7251333570093, 612.9794475417702, 600.1065611873261, 595.6972879663149, 578.6905276200346, 573.3166235775362, 571.595199908188, 523.9808174478289, 520.9751535522419, 520.2243495625322, 516.6339819058674, 515.5703800182914, 423.6938405594609, 420.37713178619254, 420.32732580435174, 419.355318178698, 420.211575673924, 105.78719825293128, 105.91535472055935, 104.98460976910846]\n",
      "have done 29 rounds, current sse is [10290.90630505375, 6668.52040836011, 3776.482891454559, 2320.768082218074, 1679.871215696441, 1323.5738229463261, 1283.8042224436288, 927.6641321782836, 888.7251333570093, 612.9794475417702, 600.1065611873261, 595.6972879663149, 578.6905276200346, 573.3166235775362, 571.595199908188, 523.9808174478289, 520.9751535522419, 520.2243495625322, 516.6339819058674, 515.5703800182914, 423.6938405594609, 420.37713178619254, 420.32732580435174, 419.355318178698, 420.211575673924, 105.78719825293128, 105.91535472055935, 104.98460976910846, 102.99856156602587]\n",
      "have done 30 rounds, current sse is [10290.90630505375, 6668.52040836011, 3776.482891454559, 2320.768082218074, 1679.871215696441, 1323.5738229463261, 1283.8042224436288, 927.6641321782836, 888.7251333570093, 612.9794475417702, 600.1065611873261, 595.6972879663149, 578.6905276200346, 573.3166235775362, 571.595199908188, 523.9808174478289, 520.9751535522419, 520.2243495625322, 516.6339819058674, 515.5703800182914, 423.6938405594609, 420.37713178619254, 420.32732580435174, 419.355318178698, 420.211575673924, 105.78719825293128, 105.91535472055935, 104.98460976910846, 102.99856156602587, 102.57126455807344]\n",
      "have done 31 rounds, current sse is [10290.90630505375, 6668.52040836011, 3776.482891454559, 2320.768082218074, 1679.871215696441, 1323.5738229463261, 1283.8042224436288, 927.6641321782836, 888.7251333570093, 612.9794475417702, 600.1065611873261, 595.6972879663149, 578.6905276200346, 573.3166235775362, 571.595199908188, 523.9808174478289, 520.9751535522419, 520.2243495625322, 516.6339819058674, 515.5703800182914, 423.6938405594609, 420.37713178619254, 420.32732580435174, 419.355318178698, 420.211575673924, 105.78719825293128, 105.91535472055935, 104.98460976910846, 102.99856156602587, 102.57126455807344, 102.88934847987744]\n",
      "have done 32 rounds, current sse is [10290.90630505375, 6668.52040836011, 3776.482891454559, 2320.768082218074, 1679.871215696441, 1323.5738229463261, 1283.8042224436288, 927.6641321782836, 888.7251333570093, 612.9794475417702, 600.1065611873261, 595.6972879663149, 578.6905276200346, 573.3166235775362, 571.595199908188, 523.9808174478289, 520.9751535522419, 520.2243495625322, 516.6339819058674, 515.5703800182914, 423.6938405594609, 420.37713178619254, 420.32732580435174, 419.355318178698, 420.211575673924, 105.78719825293128, 105.91535472055935, 104.98460976910846, 102.99856156602587, 102.57126455807344, 102.88934847987744, 102.4021093891716]\n",
      "have done 33 rounds, current sse is [10290.90630505375, 6668.52040836011, 3776.482891454559, 2320.768082218074, 1679.871215696441, 1323.5738229463261, 1283.8042224436288, 927.6641321782836, 888.7251333570093, 612.9794475417702, 600.1065611873261, 595.6972879663149, 578.6905276200346, 573.3166235775362, 571.595199908188, 523.9808174478289, 520.9751535522419, 520.2243495625322, 516.6339819058674, 515.5703800182914, 423.6938405594609, 420.37713178619254, 420.32732580435174, 419.355318178698, 420.211575673924, 105.78719825293128, 105.91535472055935, 104.98460976910846, 102.99856156602587, 102.57126455807344, 102.88934847987744, 102.4021093891716, 98.81174173250666]\n",
      "have done 34 rounds, current sse is [10290.90630505375, 6668.52040836011, 3776.482891454559, 2320.768082218074, 1679.871215696441, 1323.5738229463261, 1283.8042224436288, 927.6641321782836, 888.7251333570093, 612.9794475417702, 600.1065611873261, 595.6972879663149, 578.6905276200346, 573.3166235775362, 571.595199908188, 523.9808174478289, 520.9751535522419, 520.2243495625322, 516.6339819058674, 515.5703800182914, 423.6938405594609, 420.37713178619254, 420.32732580435174, 419.355318178698, 420.211575673924, 105.78719825293128, 105.91535472055935, 104.98460976910846, 102.99856156602587, 102.57126455807344, 102.88934847987744, 102.4021093891716, 98.81174173250666, 96.5948722770856]\n"
     ]
    },
    {
     "name": "stdout",
     "output_type": "stream",
     "text": [
      "have done 35 rounds, current sse is [10290.90630505375, 6668.52040836011, 3776.482891454559, 2320.768082218074, 1679.871215696441, 1323.5738229463261, 1283.8042224436288, 927.6641321782836, 888.7251333570093, 612.9794475417702, 600.1065611873261, 595.6972879663149, 578.6905276200346, 573.3166235775362, 571.595199908188, 523.9808174478289, 520.9751535522419, 520.2243495625322, 516.6339819058674, 515.5703800182914, 423.6938405594609, 420.37713178619254, 420.32732580435174, 419.355318178698, 420.211575673924, 105.78719825293128, 105.91535472055935, 104.98460976910846, 102.99856156602587, 102.57126455807344, 102.88934847987744, 102.4021093891716, 98.81174173250666, 96.5948722770856, 96.38154981178315]\n",
      "have done 36 rounds, current sse is [10290.90630505375, 6668.52040836011, 3776.482891454559, 2320.768082218074, 1679.871215696441, 1323.5738229463261, 1283.8042224436288, 927.6641321782836, 888.7251333570093, 612.9794475417702, 600.1065611873261, 595.6972879663149, 578.6905276200346, 573.3166235775362, 571.595199908188, 523.9808174478289, 520.9751535522419, 520.2243495625322, 516.6339819058674, 515.5703800182914, 423.6938405594609, 420.37713178619254, 420.32732580435174, 419.355318178698, 420.211575673924, 105.78719825293128, 105.91535472055935, 104.98460976910846, 102.99856156602587, 102.57126455807344, 102.88934847987744, 102.4021093891716, 98.81174173250666, 96.5948722770856, 96.38154981178315, 96.0420738559315]\n",
      "have done 37 rounds, current sse is [10290.90630505375, 6668.52040836011, 3776.482891454559, 2320.768082218074, 1679.871215696441, 1323.5738229463261, 1283.8042224436288, 927.6641321782836, 888.7251333570093, 612.9794475417702, 600.1065611873261, 595.6972879663149, 578.6905276200346, 573.3166235775362, 571.595199908188, 523.9808174478289, 520.9751535522419, 520.2243495625322, 516.6339819058674, 515.5703800182914, 423.6938405594609, 420.37713178619254, 420.32732580435174, 419.355318178698, 420.211575673924, 105.78719825293128, 105.91535472055935, 104.98460976910846, 102.99856156602587, 102.57126455807344, 102.88934847987744, 102.4021093891716, 98.81174173250666, 96.5948722770856, 96.38154981178315, 96.0420738559315, 95.58196968544334]\n",
      "have done 38 rounds, current sse is [10290.90630505375, 6668.52040836011, 3776.482891454559, 2320.768082218074, 1679.871215696441, 1323.5738229463261, 1283.8042224436288, 927.6641321782836, 888.7251333570093, 612.9794475417702, 600.1065611873261, 595.6972879663149, 578.6905276200346, 573.3166235775362, 571.595199908188, 523.9808174478289, 520.9751535522419, 520.2243495625322, 516.6339819058674, 515.5703800182914, 423.6938405594609, 420.37713178619254, 420.32732580435174, 419.355318178698, 420.211575673924, 105.78719825293128, 105.91535472055935, 104.98460976910846, 102.99856156602587, 102.57126455807344, 102.88934847987744, 102.4021093891716, 98.81174173250666, 96.5948722770856, 96.38154981178315, 96.0420738559315, 95.58196968544334, 58.18834778564584]\n",
      "have done 39 rounds, current sse is [10290.90630505375, 6668.52040836011, 3776.482891454559, 2320.768082218074, 1679.871215696441, 1323.5738229463261, 1283.8042224436288, 927.6641321782836, 888.7251333570093, 612.9794475417702, 600.1065611873261, 595.6972879663149, 578.6905276200346, 573.3166235775362, 571.595199908188, 523.9808174478289, 520.9751535522419, 520.2243495625322, 516.6339819058674, 515.5703800182914, 423.6938405594609, 420.37713178619254, 420.32732580435174, 419.355318178698, 420.211575673924, 105.78719825293128, 105.91535472055935, 104.98460976910846, 102.99856156602587, 102.57126455807344, 102.88934847987744, 102.4021093891716, 98.81174173250666, 96.5948722770856, 96.38154981178315, 96.0420738559315, 95.58196968544334, 58.18834778564584, 57.97043531764862]\n",
      "have done 40 rounds, current sse is [10290.90630505375, 6668.52040836011, 3776.482891454559, 2320.768082218074, 1679.871215696441, 1323.5738229463261, 1283.8042224436288, 927.6641321782836, 888.7251333570093, 612.9794475417702, 600.1065611873261, 595.6972879663149, 578.6905276200346, 573.3166235775362, 571.595199908188, 523.9808174478289, 520.9751535522419, 520.2243495625322, 516.6339819058674, 515.5703800182914, 423.6938405594609, 420.37713178619254, 420.32732580435174, 419.355318178698, 420.211575673924, 105.78719825293128, 105.91535472055935, 104.98460976910846, 102.99856156602587, 102.57126455807344, 102.88934847987744, 102.4021093891716, 98.81174173250666, 96.5948722770856, 96.38154981178315, 96.0420738559315, 95.58196968544334, 58.18834778564584, 57.97043531764862, 57.50547823779333]\n"
     ]
    }
   ],
   "source": [
    "for k in range(20,41):\n",
    "    kmeans = KMeans(n_clusters = k, **kmeans_kwargs)\n",
    "    kmeans.fit(ns_repr_new)\n",
    "    sse.append(kmeans.inertia_)\n",
    "    print(f\"have done {k} rounds, current sse is {sse}\")"
   ]
  },
  {
   "cell_type": "code",
   "execution_count": 248,
   "metadata": {
    "scrolled": true
   },
   "outputs": [
    {
     "data": {
      "text/plain": [
       "[<matplotlib.lines.Line2D at 0x292e0ffe880>]"
      ]
     },
     "execution_count": 248,
     "metadata": {},
     "output_type": "execute_result"
    },
    {
     "data": {
      "image/png": "[encoded data removed]",
      "text/plain": [
       "<Figure size 432x288 with 1 Axes>"
      ]
     },
     "metadata": {},
     "output_type": "display_data"
    }
   ],
   "source": [
    "plt.plot(range(1,41),sse,\"go-\")"
   ]
  },
  {
   "cell_type": "code",
   "execution_count": 249,
   "metadata": {},
   "outputs": [],
   "source": [
    "kl = KneeLocator(range(1,41), sse, curve=\"convex\", direction=\"decreasing\")"
   ]
  },
  {
   "cell_type": "code",
   "execution_count": 250,
   "metadata": {},
   "outputs": [
    {
     "data": {
      "text/plain": [
       "10"
      ]
     },
     "execution_count": 250,
     "metadata": {},
     "output_type": "execute_result"
    }
   ],
   "source": [
    "kl.elbow"
   ]
  },
  {
   "cell_type": "markdown",
   "metadata": {},
   "source": [
    "**Using Silhouette Coefficient**"
   ]
  },
  {
   "cell_type": "code",
   "execution_count": 251,
   "metadata": {
    "scrolled": true
   },
   "outputs": [
    {
     "name": "stdout",
     "output_type": "stream",
     "text": [
      "step 2\n",
      "step 3\n",
      "step 4\n",
      "step 5\n",
      "step 6\n",
      "step 7\n",
      "step 8\n",
      "step 9\n",
      "step 10\n",
      "step 11\n",
      "step 12\n",
      "step 13\n",
      "step 14\n",
      "step 15\n",
      "step 16\n",
      "step 17\n",
      "step 18\n",
      "step 19\n",
      "step 20\n",
      "step 21\n",
      "step 22\n",
      "step 23\n",
      "step 24\n",
      "step 25\n",
      "step 26\n",
      "step 27\n",
      "step 28\n",
      "step 29\n"
     ]
    }
   ],
   "source": [
    "sc = []\n",
    "new_sse = []\n",
    "for k in range(2,30):\n",
    "    kmeans = KMeans(n_clusters = k, **kmeans_kwargs)\n",
    "    kmeans.fit(ns_repr_new)\n",
    "    score = silhouette_score(ns_repr_new, kmeans.labels_)\n",
    "    sc.append(score)\n",
    "    new_sse.append(kmeans.inertia_)\n",
    "    print(\"step {}\".format(k))"
   ]
  },
  {
   "cell_type": "code",
   "execution_count": 252,
   "metadata": {
    "scrolled": true
   },
   "outputs": [
    {
     "data": {
      "text/plain": [
       "[<matplotlib.lines.Line2D at 0x292e11d2190>]"
      ]
     },
     "execution_count": 252,
     "metadata": {},
     "output_type": "execute_result"
    },
    {
     "data": {
      "image/png": "[encoded data removed]",
      "text/plain": [
       "<Figure size 432x288 with 1 Axes>"
      ]
     },
     "metadata": {},
     "output_type": "display_data"
    }
   ],
   "source": [
    "# for sse\n",
    "plt.plot(range(2,30), new_sse, \"go-\")"
   ]
  },
  {
   "cell_type": "code",
   "execution_count": 253,
   "metadata": {
    "scrolled": true
   },
   "outputs": [
    {
     "data": {
      "text/plain": [
       "10"
      ]
     },
     "execution_count": 253,
     "metadata": {},
     "output_type": "execute_result"
    }
   ],
   "source": [
    "kl_new = KneeLocator(range(2,30), new_sse, curve=\"convex\", direction=\"decreasing\")\n",
    "kl_new.elbow"
   ]
  },
  {
   "cell_type": "code",
   "execution_count": 254,
   "metadata": {
    "scrolled": true
   },
   "outputs": [
    {
     "data": {
      "text/plain": [
       "[<matplotlib.lines.Line2D at 0x292e0fc0d60>]"
      ]
     },
     "execution_count": 254,
     "metadata": {},
     "output_type": "execute_result"
    },
    {
     "data": {
      "image/png": "[encoded data removed]",
      "text/plain": [
       "<Figure size 432x288 with 1 Axes>"
      ]
     },
     "metadata": {},
     "output_type": "display_data"
    }
   ],
   "source": [
    "# for silhouette coefficient\n",
    "plt.plot(range(2,30), sc, \"bo-\")"
   ]
  },
  {
   "cell_type": "code",
   "execution_count": 255,
   "metadata": {
    "scrolled": true
   },
   "outputs": [
    {
     "data": {
      "text/plain": [
       "[<matplotlib.lines.Line2D at 0x292e25d1160>]"
      ]
     },
     "execution_count": 255,
     "metadata": {},
     "output_type": "execute_result"
    },
    {
     "data": {
      "image/png": "[encoded data removed]",
      "text/plain": [
       "<Figure size 432x288 with 1 Axes>"
      ]
     },
     "metadata": {},
     "output_type": "display_data"
    }
   ],
   "source": [
    "\n",
    "\n",
    "spl = make_interp_spline(range(2,30), sc, k=3)  # type: BSpline\n",
    "\n",
    "xs = np.linspace(2, 30, 6)\n",
    "ys = spl(xs)\n",
    "\n",
    "plt.plot(range(2,30), sc, \"go--\")\n",
    "plt.plot(xs, ys, \"b-\")"
   ]
  },
  {
   "cell_type": "markdown",
   "metadata": {},
   "source": [
    "Let's choose k = 10"
   ]
  },
  {
   "cell_type": "code",
   "execution_count": 256,
   "metadata": {
    "scrolled": true
   },
   "outputs": [
    {
     "data": {
      "text/plain": [
       "KMeans(max_iter=500, n_clusters=5, n_init=50, random_state=360)"
      ]
     },
     "execution_count": 256,
     "metadata": {},
     "output_type": "execute_result"
    }
   ],
   "source": [
    "kmeans = KMeans(n_clusters = 5, init=\"k-means++\", n_init = 50, max_iter = 500, random_state = 360)\n",
    "kmeans.fit(ns_repr_new)"
   ]
  },
  {
   "cell_type": "code",
   "execution_count": 257,
   "metadata": {},
   "outputs": [
    {
     "data": {
      "text/plain": [
       "array([0, 0, 0, 0, 0, 0, 0, 0, 0, 3, 3, 1, 0, 0, 0, 0, 0, 0, 0, 4, 0, 4,\n",
       "       0, 0, 3, 0, 0, 0, 0, 0, 0, 0, 4, 0, 0, 0, 0, 0, 4, 0, 0, 0, 0, 0,\n",
       "       0, 0, 0, 4, 0, 0, 0, 0, 0, 4, 0, 0, 0, 0, 0, 0, 3, 0, 0, 0, 2, 0,\n",
       "       0, 0, 0, 0, 0, 3, 0, 0, 3, 0, 0, 0, 3, 0, 4, 0, 0, 0, 0])"
      ]
     },
     "execution_count": 257,
     "metadata": {},
     "output_type": "execute_result"
    }
   ],
   "source": [
    "kmeans.labels_"
   ]
  },
  {
   "cell_type": "code",
   "execution_count": 258,
   "metadata": {
    "scrolled": true
   },
   "outputs": [
    {
     "data": {
      "text/plain": [
       "{0, 1, 2, 3, 4}"
      ]
     },
     "execution_count": 258,
     "metadata": {},
     "output_type": "execute_result"
    }
   ],
   "source": [
    "set(kmeans.labels_)"
   ]
  },
  {
   "cell_type": "code",
   "execution_count": 259,
   "metadata": {},
   "outputs": [
    {
     "data": {
      "text/plain": [
       "Counter({0: 69, 3: 7, 1: 1, 4: 7, 2: 1})"
      ]
     },
     "execution_count": 259,
     "metadata": {},
     "output_type": "execute_result"
    }
   ],
   "source": [
    "Counter(kmeans.labels_)"
   ]
  },
  {
   "cell_type": "markdown",
   "metadata": {},
   "source": [
    "**Let's investigate each cluster**"
   ]
  },
  {
   "cell_type": "code",
   "execution_count": 260,
   "metadata": {},
   "outputs": [
    {
     "data": {
      "text/plain": [
       "85"
      ]
     },
     "execution_count": 260,
     "metadata": {},
     "output_type": "execute_result"
    }
   ],
   "source": [
    "len(ns_sr_rep)"
   ]
  },
  {
   "cell_type": "code",
   "execution_count": 261,
   "metadata": {},
   "outputs": [
    {
     "data": {
      "text/plain": [
       "85"
      ]
     },
     "execution_count": 261,
     "metadata": {},
     "output_type": "execute_result"
    }
   ],
   "source": [
    "len(kmeans.labels_)"
   ]
  },
  {
   "cell_type": "code",
   "execution_count": 262,
   "metadata": {},
   "outputs": [],
   "source": [
    "clustered = defaultdict(list)\n",
    "for idx,ns in enumerate(non_outlier):\n",
    "    c = kmeans.labels_[idx]\n",
    "    clustered[c].append(ns)"
   ]
  },
  {
   "cell_type": "code",
   "execution_count": 263,
   "metadata": {
    "scrolled": false
   },
   "outputs": [
    {
     "name": "stdout",
     "output_type": "stream",
     "text": [
      "[69, 1, 1, 7, 7]\n"
     ]
    }
   ],
   "source": [
    "print([len(clustered[i]) for i in range(5)])"
   ]
  },
  {
   "cell_type": "markdown",
   "metadata": {},
   "source": [
    "Let's see in terms of percentage"
   ]
  },
  {
   "cell_type": "code",
   "execution_count": 264,
   "metadata": {},
   "outputs": [],
   "source": [
    "cluster_lens = [len(clustered[i]) for i in range(10)]"
   ]
  },
  {
   "cell_type": "code",
   "execution_count": 265,
   "metadata": {},
   "outputs": [
    {
     "name": "stdout",
     "output_type": "stream",
     "text": [
      "[81.18, 1.18, 1.18, 8.24, 8.24, 0.0, 0.0, 0.0, 0.0, 0.0]\n"
     ]
    }
   ],
   "source": [
    "print([round(k*100/sum(cluster_lens),2) for k in cluster_lens])"
   ]
  },
  {
   "cell_type": "markdown",
   "metadata": {},
   "source": [
    " **could do iterative clusters for ^**"
   ]
  },
  {
   "cell_type": "code",
   "execution_count": 266,
   "metadata": {},
   "outputs": [
    {
     "data": {
      "text/plain": [
       "['skysports.com',\n",
       " 'dailymail.co.uk',\n",
       " 'theathletic.com',\n",
       " 'premierleague.com',\n",
       " 'telegraph.co.uk',\n",
       " 'bbc.co.uk',\n",
       " 'theguardian.com']"
      ]
     },
     "execution_count": 266,
     "metadata": {},
     "output_type": "execute_result"
    }
   ],
   "source": [
    "clustered[4]"
   ]
  },
  {
   "cell_type": "markdown",
   "metadata": {},
   "source": [
    "# Agglomerative (Hierarchical) Clustering"
   ]
  },
  {
   "cell_type": "code",
   "execution_count": 267,
   "metadata": {},
   "outputs": [],
   "source": [
    "hclustering = AgglomerativeClustering(n_clusters=5)"
   ]
  },
  {
   "cell_type": "code",
   "execution_count": 268,
   "metadata": {},
   "outputs": [
    {
     "data": {
      "text/plain": [
       "AgglomerativeClustering(n_clusters=5)"
      ]
     },
     "execution_count": 268,
     "metadata": {},
     "output_type": "execute_result"
    }
   ],
   "source": [
    "hclustering.fit(preprocessing.normalize(np.array(ns_repr_new)))"
   ]
  },
  {
   "cell_type": "code",
   "execution_count": 269,
   "metadata": {},
   "outputs": [
    {
     "data": {
      "text/plain": [
       "array([1, 1, 1, 1, 1, 1, 1, 1, 1, 3, 3, 3, 2, 1, 1, 1, 1, 1, 1, 2, 2, 2,\n",
       "       1, 4, 3, 1, 1, 1, 1, 3, 1, 1, 0, 1, 2, 0, 4, 3, 2, 1, 1, 1, 1, 1,\n",
       "       1, 1, 1, 2, 4, 1, 1, 1, 1, 2, 1, 1, 4, 4, 0, 1, 3, 4, 1, 1, 0, 1,\n",
       "       1, 1, 1, 1, 0, 3, 4, 1, 3, 4, 4, 1, 3, 1, 2, 1, 4, 4, 4],\n",
       "      dtype=int64)"
      ]
     },
     "execution_count": 269,
     "metadata": {},
     "output_type": "execute_result"
    }
   ],
   "source": [
    "hclustering.labels_"
   ]
  },
  {
   "cell_type": "code",
   "execution_count": 270,
   "metadata": {},
   "outputs": [],
   "source": [
    "hier_clustered = defaultdict(list)\n",
    "for idx,ns in enumerate(non_outlier):\n",
    "    c = hclustering.labels_[idx]\n",
    "    hier_clustered[c].append(ns)"
   ]
  },
  {
   "cell_type": "code",
   "execution_count": 271,
   "metadata": {
    "scrolled": false
   },
   "outputs": [
    {
     "name": "stdout",
     "output_type": "stream",
     "text": [
      "[5, 49, 9, 10, 12]\n"
     ]
    }
   ],
   "source": [
    "print([len(hier_clustered[i]) for i in range(5)])"
   ]
  },
  {
   "cell_type": "markdown",
   "metadata": {},
   "source": [
    "Let's see in terms of percentage"
   ]
  },
  {
   "cell_type": "code",
   "execution_count": 272,
   "metadata": {},
   "outputs": [],
   "source": [
    "hcluster_lens = [len(hier_clustered[i]) for i in range(10)]"
   ]
  },
  {
   "cell_type": "code",
   "execution_count": 273,
   "metadata": {},
   "outputs": [
    {
     "name": "stdout",
     "output_type": "stream",
     "text": [
      "[5.88, 57.65, 10.59, 11.76, 14.12, 0.0, 0.0, 0.0, 0.0, 0.0]\n"
     ]
    }
   ],
   "source": [
    "print([round(k*100/sum(hcluster_lens),2) for k in hcluster_lens])"
   ]
  },
  {
   "cell_type": "code",
   "execution_count": 274,
   "metadata": {
    "scrolled": true
   },
   "outputs": [
    {
     "data": {
      "text/plain": [
       "[]"
      ]
     },
     "execution_count": 274,
     "metadata": {},
     "output_type": "execute_result"
    }
   ],
   "source": [
    "hier_clustered[5]"
   ]
  },
  {
   "cell_type": "code",
   "execution_count": 275,
   "metadata": {
    "scrolled": true
   },
   "outputs": [
    {
     "data": {
      "text/plain": [
       "{'theathletic.com'}"
      ]
     },
     "execution_count": 275,
     "metadata": {},
     "output_type": "execute_result"
    }
   ],
   "source": [
    "set(hier_clustered[0]) & set(clustered[4])"
   ]
  },
  {
   "cell_type": "markdown",
   "metadata": {},
   "source": [
    "## Using scipy"
   ]
  },
  {
   "cell_type": "code",
   "execution_count": 276,
   "metadata": {},
   "outputs": [
    {
     "data": {
      "image/png": "[encoded data removed]",
      "text/plain": [
       "<Figure size 1440x504 with 1 Axes>"
      ]
     },
     "metadata": {},
     "output_type": "display_data"
    }
   ],
   "source": [
    "import scipy.cluster.hierarchy as shc\n",
    "\n",
    "plt.figure(figsize=(20, 7))\n",
    "plt.title(\"Sport News Dendograms\")\n",
    "dend = shc.dendrogram(shc.linkage(preprocessing.normalize(np.array(ns_repr_new)), method='weighted'),\n",
    "# dend = shc.dendrogram(shc.linkage(StandardScaler().fit_transform(np.array(ns_repr_new)), method='weighted'),\n",
    "                     labels = list(ns_sr_rep.keys()),\n",
    "                     leaf_font_size = 15,\n",
    "                     leaf_rotation = 85)"
   ]
  },
  {
   "cell_type": "code",
   "execution_count": 277,
   "metadata": {},
   "outputs": [
    {
     "data": {
      "text/plain": [
       "True"
      ]
     },
     "execution_count": 277,
     "metadata": {},
     "output_type": "execute_result"
    }
   ],
   "source": [
    "\"foxnews.com\" in ns_union"
   ]
  },
  {
   "cell_type": "markdown",
   "metadata": {},
   "source": [
    "## Visualizing 2D PCA"
   ]
  },
  {
   "cell_type": "code",
   "execution_count": 278,
   "metadata": {},
   "outputs": [],
   "source": [
    "twodpca = PCA(n_components=4)"
   ]
  },
  {
   "cell_type": "code",
   "execution_count": 279,
   "metadata": {},
   "outputs": [],
   "source": [
    "fit2 = twodpca.fit_transform(preprocessing.normalize(np.array(ns_repr)))"
   ]
  },
  {
   "cell_type": "code",
   "execution_count": 280,
   "metadata": {
    "scrolled": true
   },
   "outputs": [],
   "source": [
    "x = [k[0] for k in fit2]\n",
    "y = [k[1] for k in fit2]\n",
    "z = [k[2] for k in fit2]\n",
    "a = [k[3] for k in fit2]"
   ]
  },
  {
   "cell_type": "code",
   "execution_count": 281,
   "metadata": {},
   "outputs": [],
   "source": [
    "# ?px.scatter_3d"
   ]
  },
  {
   "cell_type": "code",
   "execution_count": 282,
   "metadata": {},
   "outputs": [
    {
     "data": {
      "application/vnd.plotly.v1+json": {
       "config": {
        "plotlyServerURL": "https://plot.ly"
       },
       "data": [
        {
         "hovertemplate": "<b>%{hovertext}</b><br><br>pc1=%{x}<br>pc2=%{y}<br>pc3=%{z}<br>pc4=%{marker.color}<extra></extra>",
         "hovertext": [
          "hoopsrumors.com",
          "nydailynews.com",
          "foxsports.com",
          "realgm.com",
          "cbsnews.com",
          "washingtonpost.com",
          "theundefeated.com",
          "nytimes.com",
          "sportsnaut.com",
          "cbssports.com",
          "bleacherreport.com",
          "espn.com",
          "mirror.co.uk",
          "cnn.com",
          "yardbarker.com",
          "inquisitr.com",
          "football365.com",
          "wsj.com",
          "fivethirtyeight.com",
          "skysports.com",
          "bbc.com",
          "dailymail.co.uk",
          "rotoballer.com",
          "cbslocal.com",
          "usatoday.com",
          "sportingnews.com",
          "theplayerstribune.com",
          "hoopshype.com",
          "fadeawayworld.net",
          "thedraftnetwork.com",
          "theonion.com",
          "independent.co.uk",
          "theathletic.com",
          "clutchpoints.com",
          "thetimes.co.uk",
          "freep.com",
          "msn.com",
          "profootballnetwork.com",
          "premierleague.com",
          "sportwitness.co.uk",
          "dailysnark.com",
          "sbnation.com",
          "sportscasting.com",
          "sportsnet.ca",
          "givemesport.com",
          "foxnews.com",
          "fantasyalarm.com",
          "telegraph.co.uk",
          "inquirer.com",
          "nbaanalysis.net",
          "heavy.com",
          "draftkings.com",
          "apnews.com",
          "bbc.co.uk",
          "uproxx.com",
          "espn.co.uk",
          "radio.com",
          "thescore.com",
          "theringer.com",
          "dailymotion.com",
          "nfl.com",
          "prosportsextra.com",
          "latimes.com",
          "gq.com",
          "nba.com",
          "iheart.com",
          "indystar.com",
          "deadspin.com",
          "thespun.com",
          "sportskeeda.com",
          "cleveland.com",
          "nbcsports.com",
          "fansided.com",
          "thebiglead.com",
          "pff.com",
          "247sports.com",
          "tmz.com",
          "slamonline.com",
          "si.com",
          "bolavip.com",
          "theguardian.com",
          "forbes.com",
          "nesn.com",
          "nj.com",
          "nypost.com"
         ],
         "legendgroup": "",
         "marker": {
          "color": [
           0.012572741591073888,
           -0.06094740947128939,
           -0.012619825811868001,
           -0.01192667798427019,
           -0.12059208255317938,
           -0.06023291997539335,
           0.20677411843245444,
           -0.4933333649482722,
           -0.05245156565673745,
           -0.2018146844863703,
           -0.05472794842879156,
           0.11216039092266013,
           -0.509335354374384,
           0.3385360491693872,
           -0.06739540055228256,
           -0.06832627832805054,
           0.15974017472161275,
           0.3109418380401712,
           -0.2559554972876329,
           0.002904218514313934,
           -0.38590578060303443,
           0.3144870246577994,
           0.2093245928686403,
           -0.11691553623776385,
           -0.09335022733062978,
           -0.1688745839774684,
           -0.08577170721974539,
           -0.04100093454587401,
           0.12014435870396334,
           -0.07973354776727609,
           0.1947280707139662,
           -0.17476166270573582,
           -0.18398517783794954,
           0.08618691892852297,
           -0.08916986982592078,
           0.10079658044583982,
           -0.26239855087879266,
           0.0028747567953335278,
           -0.019552960710683985,
           -0.3769905393675924,
           0.01966212990377986,
           0.305871227807246,
           0.06958631619115616,
           -0.009587646094555985,
           -0.27578238943359923,
           -0.07566735902487792,
           0.25035453814940273,
           0.22017464717188998,
           -0.19746637828371497,
           0.04164874750757154,
           0.059841890693816034,
           -0.09315242968712917,
           0.5827898065925979,
           0.15020404227894277,
           0.0635091613300174,
           0.325753024523092,
           0.6341204721505921,
           -0.187432841603991,
           -0.04342503076905769,
           -0.29665843566884437,
           0.565723479815929,
           0.014881297598613808,
           0.08206748071816412,
           -0.17957460333740044,
           -0.03275413604411659,
           0.003767572344862614,
           -0.02878648473961179,
           -0.06877707911947396,
           0.026466802438394266,
           -0.1435683128590487,
           0.6342233937168983,
           -0.17383135553920875,
           -0.12273141337210997,
           -0.0374064740828489,
           0.0771656538080824,
           -0.05883363216044237,
           -0.06412050498006582,
           0.06762237269745425,
           0.04327242395484199,
           -0.029506649833511613,
           0.010904019242691047,
           0.1166158548724485,
           -0.10190449677150784,
           -0.1679560303739492,
           -0.1014044173681714
          ],
          "coloraxis": "coloraxis",
          "opacity": 0.4,
          "symbol": "circle"
         },
         "mode": "markers",
         "name": "",
         "scene": "scene",
         "showlegend": false,
         "type": "scatter3d",
         "x": [
          -0.14305987778422802,
          -0.21171611820666625,
          -0.34556360213641,
          -0.18679076519055338,
          -0.0634141683558719,
          -0.2962549276910175,
          -0.1709420772965772,
          0.39010104760651726,
          -0.24666513542016735,
          -0.3530339519457285,
          -0.4269306821763799,
          0.0766134987592132,
          0.4335792676217098,
          0.3806332213252675,
          -0.19828403786411447,
          -0.12462225288809105,
          0.7081137784787005,
          0.34745873018129575,
          0.1022126895953631,
          0.8100722606767905,
          0.5991962402148098,
          0.6883405721126175,
          -0.1308888210476307,
          -0.2863071368839881,
          -0.4426589396518493,
          -0.3477139360867846,
          -0.14419983305697115,
          -0.13841896598308034,
          -0.11400713949202032,
          -0.30487217677893425,
          -0.24758344838529678,
          0.7881563663147634,
          0.31589665974282355,
          -0.2501252506010001,
          0.7347671126446174,
          -0.09016085722532714,
          -0.17855816146247294,
          -0.35440765622060616,
          0.7945742303506403,
          0.6851047845026977,
          -0.1974938648768673,
          0.6339625340427142,
          -0.165697449816912,
          -0.05139121144938955,
          0.48935071725520024,
          -0.28634722526794,
          -0.22220730877595324,
          0.7824550665249889,
          -0.17432661565957763,
          -0.14585147188891165,
          -0.38955191470597383,
          -0.09696384805412836,
          -0.08679791486395806,
          0.7748787595700193,
          -0.06360668356293489,
          0.7268852066761712,
          -0.11710310498684975,
          -0.30348989318936315,
          -0.19564754892229366,
          0.5533116200024251,
          -0.22453492314240878,
          -0.13671875537477798,
          -0.10871677186754732,
          -0.19462495877533334,
          -0.12931443369226647,
          -0.12414376477048962,
          -0.0750622534077729,
          -0.2855026944944824,
          -0.3415005475635732,
          0.15083343753362055,
          -0.11934381973673028,
          -0.3621840135399194,
          -0.34769461890791514,
          -0.20594313862576602,
          -0.36663868772105224,
          -0.38294158260976463,
          -0.2738731318789484,
          -0.10600436245994678,
          -0.3560821920412487,
          -0.17233997578948043,
          0.8117081821223798,
          0.47215753621895834,
          -0.1972581020913941,
          -0.216642253163618,
          -0.22964256256704857
         ],
         "y": [
          0.47310630753268496,
          0.33408865403613064,
          0.16179395635368463,
          0.6645720483744468,
          -0.24434885886975466,
          -0.12961341230173093,
          0.49922993212120875,
          0.005584668216279973,
          0.3147818854134245,
          -0.2969306782338388,
          0.03312564219843881,
          0.34087737633206133,
          -0.038156226108251826,
          -0.09398173155934635,
          0.06019711498622282,
          0.4500087102747906,
          -0.0855603193507676,
          0.1850825002272611,
          0.44917249037811763,
          -0.1001973924123162,
          -0.07064746774489043,
          -0.08437596382980671,
          -0.15726894180038736,
          -0.24278211741600142,
          -0.463598029027211,
          -0.1013202670246307,
          0.12397984104486481,
          0.5174932909724081,
          0.5130642452816411,
          -0.3323852318885384,
          -0.06525525408645227,
          -0.1019553500123768,
          0.1360183552623,
          0.48915861645895015,
          -0.09537704440463343,
          -0.0650658959520026,
          -0.33571018979973516,
          -0.4233862117746378,
          -0.10363511688667582,
          -0.08026863503256051,
          -0.24904572871385552,
          -0.08212527644521726,
          0.07593715132340985,
          0.271647494429933,
          -0.0418417225224223,
          -0.22916768647887428,
          -0.3079494391815244,
          -0.10349505565546466,
          -0.10759452759791327,
          0.5890031497386808,
          -0.19058675900215588,
          -0.031238435211794868,
          -0.07627919499928056,
          -0.10166888967614038,
          0.25997036861403283,
          -0.09123677438541616,
          -0.15815841385915388,
          -0.18939322791388777,
          0.5935917191026288,
          -0.11737673251807233,
          -0.29800247945875263,
          -0.1659856551134997,
          0.1641425212100651,
          0.12327488896497611,
          0.5496277312051997,
          0.005509734608541557,
          -0.005817150858799953,
          -0.02350973896096954,
          -0.30613498652329185,
          0.10144508642733625,
          -0.09780284041851044,
          -0.17544125406835806,
          -0.42840575720518215,
          -0.18182424236045444,
          -0.4626765446451332,
          -0.3973315948892109,
          -0.2216803214605276,
          0.4523017060516729,
          -0.20097531874238314,
          0.2664798470983331,
          -0.10478866860234927,
          -0.07281845501274661,
          -0.18156799640398102,
          -0.2353203485165478,
          0.14479451867869267
         ],
         "z": [
          -0.01691032766034627,
          0.04669730399044814,
          -0.21603333999583565,
          -0.025524782951392863,
          -0.18020495878062234,
          -0.26120038583452243,
          0.04339450304959308,
          0.545686143311478,
          -0.041312373993226265,
          -0.16557262733280234,
          -0.16919750780605397,
          -0.13275223069359748,
          0.561942739492921,
          -0.4431693100043596,
          -0.029576581383227187,
          0.0780839675758005,
          -0.19494532311352766,
          -0.36211926411762535,
          0.01585888623205687,
          -0.07049052997924965,
          0.39173519750060026,
          -0.3179843146138752,
          0.2558210946792948,
          -0.35121955412868516,
          -0.12644461852716646,
          -0.2467040253932698,
          0.002607114302241833,
          -0.05431488563784121,
          0.0017343727832375728,
          -0.016683149654639202,
          0.07797414014789572,
          0.08864765744350092,
          -0.04787311792942018,
          0.00943037888083417,
          0.11585545362390605,
          0.2480945438088704,
          -0.18843038769207757,
          0.021724011756267658,
          -0.036527149514504996,
          0.2886864342284009,
          0.04922386900174259,
          -0.37594378415363744,
          0.0674669107926867,
          0.08625088892926933,
          0.272990918086623,
          -0.20531239549439312,
          0.33448198359331577,
          -0.2608963784509564,
          0.00855218786931988,
          0.003864068486469649,
          -0.195341087443788,
          0.09119745305136408,
          0.2661985531262655,
          -0.20587329615694205,
          0.10224364431314437,
          -0.32912112781737873,
          0.5519830996428028,
          -0.23859064559127183,
          -0.07860606358230157,
          0.24878526923686572,
          0.5087257474477422,
          0.1330272347012121,
          0.06120931470186494,
          -0.0626997195629064,
          0.018866613678027524,
          0.09829611902785637,
          0.12342972976587899,
          0.00011212678973350284,
          0.04250438518308841,
          0.04390963479292659,
          0.5504131392565583,
          -0.18976107980575505,
          -0.1601328909311082,
          0.062732850930313,
          0.11245920255342258,
          -0.06702247648052187,
          -0.015652187902752794,
          0.0221403107687106,
          0.12100743040712014,
          -0.1777048429785596,
          -0.09435586342176104,
          -0.1351586937400834,
          -0.34631709310781333,
          0.03942849268485761,
          0.018205251733269263
         ]
        }
       ],
       "layout": {
        "coloraxis": {
         "colorbar": {
          "title": {
           "text": "pc4"
          }
         },
         "colorscale": [
          [
           0,
           "#0d0887"
          ],
          [
           0.1111111111111111,
           "#46039f"
          ],
          [
           0.2222222222222222,
           "#7201a8"
          ],
          [
           0.3333333333333333,
           "#9c179e"
          ],
          [
           0.4444444444444444,
           "#bd3786"
          ],
          [
           0.5555555555555556,
           "#d8576b"
          ],
          [
           0.6666666666666666,
           "#ed7953"
          ],
          [
           0.7777777777777778,
           "#fb9f3a"
          ],
          [
           0.8888888888888888,
           "#fdca26"
          ],
          [
           1,
           "#f0f921"
          ]
         ]
        },
        "legend": {
         "tracegroupgap": 0
        },
        "margin": {
         "t": 60
        },
        "scene": {
         "domain": {
          "x": [
           0,
           1
          ],
          "y": [
           0,
           1
          ]
         },
         "xaxis": {
          "title": {
           "text": "pc1"
          }
         },
         "yaxis": {
          "title": {
           "text": "pc2"
          }
         },
         "zaxis": {
          "title": {
           "text": "pc3"
          }
         }
        },
        "template": {
         "data": {
          "bar": [
           {
            "error_x": {
             "color": "#2a3f5f"
            },
            "error_y": {
             "color": "#2a3f5f"
            },
            "marker": {
             "line": {
              "color": "#E5ECF6",
              "width": 0.5
             }
            },
            "type": "bar"
           }
          ],
          "barpolar": [
           {
            "marker": {
             "line": {
              "color": "#E5ECF6",
              "width": 0.5
             }
            },
            "type": "barpolar"
           }
          ],
          "carpet": [
           {
            "aaxis": {
             "endlinecolor": "#2a3f5f",
             "gridcolor": "white",
             "linecolor": "white",
             "minorgridcolor": "white",
             "startlinecolor": "#2a3f5f"
            },
            "baxis": {
             "endlinecolor": "#2a3f5f",
             "gridcolor": "white",
             "linecolor": "white",
             "minorgridcolor": "white",
             "startlinecolor": "#2a3f5f"
            },
            "type": "carpet"
           }
          ],
          "choropleth": [
           {
            "colorbar": {
             "outlinewidth": 0,
             "ticks": ""
            },
            "type": "choropleth"
           }
          ],
          "contour": [
           {
            "colorbar": {
             "outlinewidth": 0,
             "ticks": ""
            },
            "colorscale": [
             [
              0,
              "#0d0887"
             ],
             [
              0.1111111111111111,
              "#46039f"
             ],
             [
              0.2222222222222222,
              "#7201a8"
             ],
             [
              0.3333333333333333,
              "#9c179e"
             ],
             [
              0.4444444444444444,
              "#bd3786"
             ],
             [
              0.5555555555555556,
              "#d8576b"
             ],
             [
              0.6666666666666666,
              "#ed7953"
             ],
             [
              0.7777777777777778,
              "#fb9f3a"
             ],
             [
              0.8888888888888888,
              "#fdca26"
             ],
             [
              1,
              "#f0f921"
             ]
            ],
            "type": "contour"
           }
          ],
          "contourcarpet": [
           {
            "colorbar": {
             "outlinewidth": 0,
             "ticks": ""
            },
            "type": "contourcarpet"
           }
          ],
          "heatmap": [
           {
            "colorbar": {
             "outlinewidth": 0,
             "ticks": ""
            },
            "colorscale": [
             [
              0,
              "#0d0887"
             ],
             [
              0.1111111111111111,
              "#46039f"
             ],
             [
              0.2222222222222222,
              "#7201a8"
             ],
             [
              0.3333333333333333,
              "#9c179e"
             ],
             [
              0.4444444444444444,
              "#bd3786"
             ],
             [
              0.5555555555555556,
              "#d8576b"
             ],
             [
              0.6666666666666666,
              "#ed7953"
             ],
             [
              0.7777777777777778,
              "#fb9f3a"
             ],
             [
              0.8888888888888888,
              "#fdca26"
             ],
             [
              1,
              "#f0f921"
             ]
            ],
            "type": "heatmap"
           }
          ],
          "heatmapgl": [
           {
            "colorbar": {
             "outlinewidth": 0,
             "ticks": ""
            },
            "colorscale": [
             [
              0,
              "#0d0887"
             ],
             [
              0.1111111111111111,
              "#46039f"
             ],
             [
              0.2222222222222222,
              "#7201a8"
             ],
             [
              0.3333333333333333,
              "#9c179e"
             ],
             [
              0.4444444444444444,
              "#bd3786"
             ],
             [
              0.5555555555555556,
              "#d8576b"
             ],
             [
              0.6666666666666666,
              "#ed7953"
             ],
             [
              0.7777777777777778,
              "#fb9f3a"
             ],
             [
              0.8888888888888888,
              "#fdca26"
             ],
             [
              1,
              "#f0f921"
             ]
            ],
            "type": "heatmapgl"
           }
          ],
          "histogram": [
           {
            "marker": {
             "colorbar": {
              "outlinewidth": 0,
              "ticks": ""
             }
            },
            "type": "histogram"
           }
          ],
          "histogram2d": [
           {
            "colorbar": {
             "outlinewidth": 0,
             "ticks": ""
            },
            "colorscale": [
             [
              0,
              "#0d0887"
             ],
             [
              0.1111111111111111,
              "#46039f"
             ],
             [
              0.2222222222222222,
              "#7201a8"
             ],
             [
              0.3333333333333333,
              "#9c179e"
             ],
             [
              0.4444444444444444,
              "#bd3786"
             ],
             [
              0.5555555555555556,
              "#d8576b"
             ],
             [
              0.6666666666666666,
              "#ed7953"
             ],
             [
              0.7777777777777778,
              "#fb9f3a"
             ],
             [
              0.8888888888888888,
              "#fdca26"
             ],
             [
              1,
              "#f0f921"
             ]
            ],
            "type": "histogram2d"
           }
          ],
          "histogram2dcontour": [
           {
            "colorbar": {
             "outlinewidth": 0,
             "ticks": ""
            },
            "colorscale": [
             [
              0,
              "#0d0887"
             ],
             [
              0.1111111111111111,
              "#46039f"
             ],
             [
              0.2222222222222222,
              "#7201a8"
             ],
             [
              0.3333333333333333,
              "#9c179e"
             ],
             [
              0.4444444444444444,
              "#bd3786"
             ],
             [
              0.5555555555555556,
              "#d8576b"
             ],
             [
              0.6666666666666666,
              "#ed7953"
             ],
             [
              0.7777777777777778,
              "#fb9f3a"
             ],
             [
              0.8888888888888888,
              "#fdca26"
             ],
             [
              1,
              "#f0f921"
             ]
            ],
            "type": "histogram2dcontour"
           }
          ],
          "mesh3d": [
           {
            "colorbar": {
             "outlinewidth": 0,
             "ticks": ""
            },
            "type": "mesh3d"
           }
          ],
          "parcoords": [
           {
            "line": {
             "colorbar": {
              "outlinewidth": 0,
              "ticks": ""
             }
            },
            "type": "parcoords"
           }
          ],
          "pie": [
           {
            "automargin": true,
            "type": "pie"
           }
          ],
          "scatter": [
           {
            "marker": {
             "colorbar": {
              "outlinewidth": 0,
              "ticks": ""
             }
            },
            "type": "scatter"
           }
          ],
          "scatter3d": [
           {
            "line": {
             "colorbar": {
              "outlinewidth": 0,
              "ticks": ""
             }
            },
            "marker": {
             "colorbar": {
              "outlinewidth": 0,
              "ticks": ""
             }
            },
            "type": "scatter3d"
           }
          ],
          "scattercarpet": [
           {
            "marker": {
             "colorbar": {
              "outlinewidth": 0,
              "ticks": ""
             }
            },
            "type": "scattercarpet"
           }
          ],
          "scattergeo": [
           {
            "marker": {
             "colorbar": {
              "outlinewidth": 0,
              "ticks": ""
             }
            },
            "type": "scattergeo"
           }
          ],
          "scattergl": [
           {
            "marker": {
             "colorbar": {
              "outlinewidth": 0,
              "ticks": ""
             }
            },
            "type": "scattergl"
           }
          ],
          "scattermapbox": [
           {
            "marker": {
             "colorbar": {
              "outlinewidth": 0,
              "ticks": ""
             }
            },
            "type": "scattermapbox"
           }
          ],
          "scatterpolar": [
           {
            "marker": {
             "colorbar": {
              "outlinewidth": 0,
              "ticks": ""
             }
            },
            "type": "scatterpolar"
           }
          ],
          "scatterpolargl": [
           {
            "marker": {
             "colorbar": {
              "outlinewidth": 0,
              "ticks": ""
             }
            },
            "type": "scatterpolargl"
           }
          ],
          "scatterternary": [
           {
            "marker": {
             "colorbar": {
              "outlinewidth": 0,
              "ticks": ""
             }
            },
            "type": "scatterternary"
           }
          ],
          "surface": [
           {
            "colorbar": {
             "outlinewidth": 0,
             "ticks": ""
            },
            "colorscale": [
             [
              0,
              "#0d0887"
             ],
             [
              0.1111111111111111,
              "#46039f"
             ],
             [
              0.2222222222222222,
              "#7201a8"
             ],
             [
              0.3333333333333333,
              "#9c179e"
             ],
             [
              0.4444444444444444,
              "#bd3786"
             ],
             [
              0.5555555555555556,
              "#d8576b"
             ],
             [
              0.6666666666666666,
              "#ed7953"
             ],
             [
              0.7777777777777778,
              "#fb9f3a"
             ],
             [
              0.8888888888888888,
              "#fdca26"
             ],
             [
              1,
              "#f0f921"
             ]
            ],
            "type": "surface"
           }
          ],
          "table": [
           {
            "cells": {
             "fill": {
              "color": "#EBF0F8"
             },
             "line": {
              "color": "white"
             }
            },
            "header": {
             "fill": {
              "color": "#C8D4E3"
             },
             "line": {
              "color": "white"
             }
            },
            "type": "table"
           }
          ]
         },
         "layout": {
          "annotationdefaults": {
           "arrowcolor": "#2a3f5f",
           "arrowhead": 0,
           "arrowwidth": 1
          },
          "coloraxis": {
           "colorbar": {
            "outlinewidth": 0,
            "ticks": ""
           }
          },
          "colorscale": {
           "diverging": [
            [
             0,
             "#8e0152"
            ],
            [
             0.1,
             "#c51b7d"
            ],
            [
             0.2,
             "#de77ae"
            ],
            [
             0.3,
             "#f1b6da"
            ],
            [
             0.4,
             "#fde0ef"
            ],
            [
             0.5,
             "#f7f7f7"
            ],
            [
             0.6,
             "#e6f5d0"
            ],
            [
             0.7,
             "#b8e186"
            ],
            [
             0.8,
             "#7fbc41"
            ],
            [
             0.9,
             "#4d9221"
            ],
            [
             1,
             "#276419"
            ]
           ],
           "sequential": [
            [
             0,
             "#0d0887"
            ],
            [
             0.1111111111111111,
             "#46039f"
            ],
            [
             0.2222222222222222,
             "#7201a8"
            ],
            [
             0.3333333333333333,
             "#9c179e"
            ],
            [
             0.4444444444444444,
             "#bd3786"
            ],
            [
             0.5555555555555556,
             "#d8576b"
            ],
            [
             0.6666666666666666,
             "#ed7953"
            ],
            [
             0.7777777777777778,
             "#fb9f3a"
            ],
            [
             0.8888888888888888,
             "#fdca26"
            ],
            [
             1,
             "#f0f921"
            ]
           ],
           "sequentialminus": [
            [
             0,
             "#0d0887"
            ],
            [
             0.1111111111111111,
             "#46039f"
            ],
            [
             0.2222222222222222,
             "#7201a8"
            ],
            [
             0.3333333333333333,
             "#9c179e"
            ],
            [
             0.4444444444444444,
             "#bd3786"
            ],
            [
             0.5555555555555556,
             "#d8576b"
            ],
            [
             0.6666666666666666,
             "#ed7953"
            ],
            [
             0.7777777777777778,
             "#fb9f3a"
            ],
            [
             0.8888888888888888,
             "#fdca26"
            ],
            [
             1,
             "#f0f921"
            ]
           ]
          },
          "colorway": [
           "#636efa",
           "#EF553B",
           "#00cc96",
           "#ab63fa",
           "#FFA15A",
           "#19d3f3",
           "#FF6692",
           "#B6E880",
           "#FF97FF",
           "#FECB52"
          ],
          "font": {
           "color": "#2a3f5f"
          },
          "geo": {
           "bgcolor": "white",
           "lakecolor": "white",
           "landcolor": "#E5ECF6",
           "showlakes": true,
           "showland": true,
           "subunitcolor": "white"
          },
          "hoverlabel": {
           "align": "left"
          },
          "hovermode": "closest",
          "mapbox": {
           "style": "light"
          },
          "paper_bgcolor": "white",
          "plot_bgcolor": "#E5ECF6",
          "polar": {
           "angularaxis": {
            "gridcolor": "white",
            "linecolor": "white",
            "ticks": ""
           },
           "bgcolor": "#E5ECF6",
           "radialaxis": {
            "gridcolor": "white",
            "linecolor": "white",
            "ticks": ""
           }
          },
          "scene": {
           "xaxis": {
            "backgroundcolor": "#E5ECF6",
            "gridcolor": "white",
            "gridwidth": 2,
            "linecolor": "white",
            "showbackground": true,
            "ticks": "",
            "zerolinecolor": "white"
           },
           "yaxis": {
            "backgroundcolor": "#E5ECF6",
            "gridcolor": "white",
            "gridwidth": 2,
            "linecolor": "white",
            "showbackground": true,
            "ticks": "",
            "zerolinecolor": "white"
           },
           "zaxis": {
            "backgroundcolor": "#E5ECF6",
            "gridcolor": "white",
            "gridwidth": 2,
            "linecolor": "white",
            "showbackground": true,
            "ticks": "",
            "zerolinecolor": "white"
           }
          },
          "shapedefaults": {
           "line": {
            "color": "#2a3f5f"
           }
          },
          "ternary": {
           "aaxis": {
            "gridcolor": "white",
            "linecolor": "white",
            "ticks": ""
           },
           "baxis": {
            "gridcolor": "white",
            "linecolor": "white",
            "ticks": ""
           },
           "bgcolor": "#E5ECF6",
           "caxis": {
            "gridcolor": "white",
            "linecolor": "white",
            "ticks": ""
           }
          },
          "title": {
           "x": 0.05
          },
          "xaxis": {
           "automargin": true,
           "gridcolor": "white",
           "linecolor": "white",
           "ticks": "",
           "title": {
            "standoff": 15
           },
           "zerolinecolor": "white",
           "zerolinewidth": 2
          },
          "yaxis": {
           "automargin": true,
           "gridcolor": "white",
           "linecolor": "white",
           "ticks": "",
           "title": {
            "standoff": 15
           },
           "zerolinecolor": "white",
           "zerolinewidth": 2
          }
         }
        }
       }
      },
      "text/html": [
       "<div>\n",
       "        \n",
       "        \n",
       "            <div id=\"b4c9bf75-6288-4f14-9bb1-b3e372dea4ec\" class=\"plotly-graph-div\" style=\"height:525px; width:100%;\"></div>\n",
       "            <script type=\"text/javascript\">\n",
       "                require([\"plotly\"], function(Plotly) {\n",
       "                    window.PLOTLYENV=window.PLOTLYENV || {};\n",
       "                    \n",
       "                if (document.getElementById(\"b4c9bf75-6288-4f14-9bb1-b3e372dea4ec\")) {\n",
       "                    Plotly.newPlot(\n",
       "                        'b4c9bf75-6288-4f14-9bb1-b3e372dea4ec',\n",
       "                        [{\"hovertemplate\": \"<b>%{hovertext}</b><br><br>pc1=%{x}<br>pc2=%{y}<br>pc3=%{z}<br>pc4=%{marker.color}<extra></extra>\", \"hovertext\": [\"hoopsrumors.com\", \"nydailynews.com\", \"foxsports.com\", \"realgm.com\", \"cbsnews.com\", \"washingtonpost.com\", \"theundefeated.com\", \"nytimes.com\", \"sportsnaut.com\", \"cbssports.com\", \"bleacherreport.com\", \"espn.com\", \"mirror.co.uk\", \"cnn.com\", \"yardbarker.com\", \"inquisitr.com\", \"football365.com\", \"wsj.com\", \"fivethirtyeight.com\", \"skysports.com\", \"bbc.com\", \"dailymail.co.uk\", \"rotoballer.com\", \"cbslocal.com\", \"usatoday.com\", \"sportingnews.com\", \"theplayerstribune.com\", \"hoopshype.com\", \"fadeawayworld.net\", \"thedraftnetwork.com\", \"theonion.com\", \"independent.co.uk\", \"theathletic.com\", \"clutchpoints.com\", \"thetimes.co.uk\", \"freep.com\", \"msn.com\", \"profootballnetwork.com\", \"premierleague.com\", \"sportwitness.co.uk\", \"dailysnark.com\", \"sbnation.com\", \"sportscasting.com\", \"sportsnet.ca\", \"givemesport.com\", \"foxnews.com\", \"fantasyalarm.com\", \"telegraph.co.uk\", \"inquirer.com\", \"nbaanalysis.net\", \"heavy.com\", \"draftkings.com\", \"apnews.com\", \"bbc.co.uk\", \"uproxx.com\", \"espn.co.uk\", \"radio.com\", \"thescore.com\", \"theringer.com\", \"dailymotion.com\", \"nfl.com\", \"prosportsextra.com\", \"latimes.com\", \"gq.com\", \"nba.com\", \"iheart.com\", \"indystar.com\", \"deadspin.com\", \"thespun.com\", \"sportskeeda.com\", \"cleveland.com\", \"nbcsports.com\", \"fansided.com\", \"thebiglead.com\", \"pff.com\", \"247sports.com\", \"tmz.com\", \"slamonline.com\", \"si.com\", \"bolavip.com\", \"theguardian.com\", \"forbes.com\", \"nesn.com\", \"nj.com\", \"nypost.com\"], \"legendgroup\": \"\", \"marker\": {\"color\": [0.012572741591073888, -0.06094740947128939, -0.012619825811868001, -0.01192667798427019, -0.12059208255317938, -0.06023291997539335, 0.20677411843245444, -0.4933333649482722, -0.05245156565673745, -0.2018146844863703, -0.05472794842879156, 0.11216039092266013, -0.509335354374384, 0.3385360491693872, -0.06739540055228256, -0.06832627832805054, 0.15974017472161275, 0.3109418380401712, -0.2559554972876329, 0.002904218514313934, -0.38590578060303443, 0.3144870246577994, 0.2093245928686403, -0.11691553623776385, -0.09335022733062978, -0.1688745839774684, -0.08577170721974539, -0.04100093454587401, 0.12014435870396334, -0.07973354776727609, 0.1947280707139662, -0.17476166270573582, -0.18398517783794954, 0.08618691892852297, -0.08916986982592078, 0.10079658044583982, -0.26239855087879266, 0.0028747567953335278, -0.019552960710683985, -0.3769905393675924, 0.01966212990377986, 0.305871227807246, 0.06958631619115616, -0.009587646094555985, -0.27578238943359923, -0.07566735902487792, 0.25035453814940273, 0.22017464717188998, -0.19746637828371497, 0.04164874750757154, 0.059841890693816034, -0.09315242968712917, 0.5827898065925979, 0.15020404227894277, 0.0635091613300174, 0.325753024523092, 0.6341204721505921, -0.187432841603991, -0.04342503076905769, -0.29665843566884437, 0.565723479815929, 0.014881297598613808, 0.08206748071816412, -0.17957460333740044, -0.03275413604411659, 0.003767572344862614, -0.02878648473961179, -0.06877707911947396, 0.026466802438394266, -0.1435683128590487, 0.6342233937168983, -0.17383135553920875, -0.12273141337210997, -0.0374064740828489, 0.0771656538080824, -0.05883363216044237, -0.06412050498006582, 0.06762237269745425, 0.04327242395484199, -0.029506649833511613, 0.010904019242691047, 0.1166158548724485, -0.10190449677150784, -0.1679560303739492, -0.1014044173681714], \"coloraxis\": \"coloraxis\", \"opacity\": 0.4, \"symbol\": \"circle\"}, \"mode\": \"markers\", \"name\": \"\", \"scene\": \"scene\", \"showlegend\": false, \"type\": \"scatter3d\", \"x\": [-0.14305987778422802, -0.21171611820666625, -0.34556360213641, -0.18679076519055338, -0.0634141683558719, -0.2962549276910175, -0.1709420772965772, 0.39010104760651726, -0.24666513542016735, -0.3530339519457285, -0.4269306821763799, 0.0766134987592132, 0.4335792676217098, 0.3806332213252675, -0.19828403786411447, -0.12462225288809105, 0.7081137784787005, 0.34745873018129575, 0.1022126895953631, 0.8100722606767905, 0.5991962402148098, 0.6883405721126175, -0.1308888210476307, -0.2863071368839881, -0.4426589396518493, -0.3477139360867846, -0.14419983305697115, -0.13841896598308034, -0.11400713949202032, -0.30487217677893425, -0.24758344838529678, 0.7881563663147634, 0.31589665974282355, -0.2501252506010001, 0.7347671126446174, -0.09016085722532714, -0.17855816146247294, -0.35440765622060616, 0.7945742303506403, 0.6851047845026977, -0.1974938648768673, 0.6339625340427142, -0.165697449816912, -0.05139121144938955, 0.48935071725520024, -0.28634722526794, -0.22220730877595324, 0.7824550665249889, -0.17432661565957763, -0.14585147188891165, -0.38955191470597383, -0.09696384805412836, -0.08679791486395806, 0.7748787595700193, -0.06360668356293489, 0.7268852066761712, -0.11710310498684975, -0.30348989318936315, -0.19564754892229366, 0.5533116200024251, -0.22453492314240878, -0.13671875537477798, -0.10871677186754732, -0.19462495877533334, -0.12931443369226647, -0.12414376477048962, -0.0750622534077729, -0.2855026944944824, -0.3415005475635732, 0.15083343753362055, -0.11934381973673028, -0.3621840135399194, -0.34769461890791514, -0.20594313862576602, -0.36663868772105224, -0.38294158260976463, -0.2738731318789484, -0.10600436245994678, -0.3560821920412487, -0.17233997578948043, 0.8117081821223798, 0.47215753621895834, -0.1972581020913941, -0.216642253163618, -0.22964256256704857], \"y\": [0.47310630753268496, 0.33408865403613064, 0.16179395635368463, 0.6645720483744468, -0.24434885886975466, -0.12961341230173093, 0.49922993212120875, 0.005584668216279973, 0.3147818854134245, -0.2969306782338388, 0.03312564219843881, 0.34087737633206133, -0.038156226108251826, -0.09398173155934635, 0.06019711498622282, 0.4500087102747906, -0.0855603193507676, 0.1850825002272611, 0.44917249037811763, -0.1001973924123162, -0.07064746774489043, -0.08437596382980671, -0.15726894180038736, -0.24278211741600142, -0.463598029027211, -0.1013202670246307, 0.12397984104486481, 0.5174932909724081, 0.5130642452816411, -0.3323852318885384, -0.06525525408645227, -0.1019553500123768, 0.1360183552623, 0.48915861645895015, -0.09537704440463343, -0.0650658959520026, -0.33571018979973516, -0.4233862117746378, -0.10363511688667582, -0.08026863503256051, -0.24904572871385552, -0.08212527644521726, 0.07593715132340985, 0.271647494429933, -0.0418417225224223, -0.22916768647887428, -0.3079494391815244, -0.10349505565546466, -0.10759452759791327, 0.5890031497386808, -0.19058675900215588, -0.031238435211794868, -0.07627919499928056, -0.10166888967614038, 0.25997036861403283, -0.09123677438541616, -0.15815841385915388, -0.18939322791388777, 0.5935917191026288, -0.11737673251807233, -0.29800247945875263, -0.1659856551134997, 0.1641425212100651, 0.12327488896497611, 0.5496277312051997, 0.005509734608541557, -0.005817150858799953, -0.02350973896096954, -0.30613498652329185, 0.10144508642733625, -0.09780284041851044, -0.17544125406835806, -0.42840575720518215, -0.18182424236045444, -0.4626765446451332, -0.3973315948892109, -0.2216803214605276, 0.4523017060516729, -0.20097531874238314, 0.2664798470983331, -0.10478866860234927, -0.07281845501274661, -0.18156799640398102, -0.2353203485165478, 0.14479451867869267], \"z\": [-0.01691032766034627, 0.04669730399044814, -0.21603333999583565, -0.025524782951392863, -0.18020495878062234, -0.26120038583452243, 0.04339450304959308, 0.545686143311478, -0.041312373993226265, -0.16557262733280234, -0.16919750780605397, -0.13275223069359748, 0.561942739492921, -0.4431693100043596, -0.029576581383227187, 0.0780839675758005, -0.19494532311352766, -0.36211926411762535, 0.01585888623205687, -0.07049052997924965, 0.39173519750060026, -0.3179843146138752, 0.2558210946792948, -0.35121955412868516, -0.12644461852716646, -0.2467040253932698, 0.002607114302241833, -0.05431488563784121, 0.0017343727832375728, -0.016683149654639202, 0.07797414014789572, 0.08864765744350092, -0.04787311792942018, 0.00943037888083417, 0.11585545362390605, 0.2480945438088704, -0.18843038769207757, 0.021724011756267658, -0.036527149514504996, 0.2886864342284009, 0.04922386900174259, -0.37594378415363744, 0.0674669107926867, 0.08625088892926933, 0.272990918086623, -0.20531239549439312, 0.33448198359331577, -0.2608963784509564, 0.00855218786931988, 0.003864068486469649, -0.195341087443788, 0.09119745305136408, 0.2661985531262655, -0.20587329615694205, 0.10224364431314437, -0.32912112781737873, 0.5519830996428028, -0.23859064559127183, -0.07860606358230157, 0.24878526923686572, 0.5087257474477422, 0.1330272347012121, 0.06120931470186494, -0.0626997195629064, 0.018866613678027524, 0.09829611902785637, 0.12342972976587899, 0.00011212678973350284, 0.04250438518308841, 0.04390963479292659, 0.5504131392565583, -0.18976107980575505, -0.1601328909311082, 0.062732850930313, 0.11245920255342258, -0.06702247648052187, -0.015652187902752794, 0.0221403107687106, 0.12100743040712014, -0.1777048429785596, -0.09435586342176104, -0.1351586937400834, -0.34631709310781333, 0.03942849268485761, 0.018205251733269263]}],\n",
       "                        {\"coloraxis\": {\"colorbar\": {\"title\": {\"text\": \"pc4\"}}, \"colorscale\": [[0.0, \"#0d0887\"], [0.1111111111111111, \"#46039f\"], [0.2222222222222222, \"#7201a8\"], [0.3333333333333333, \"#9c179e\"], [0.4444444444444444, \"#bd3786\"], [0.5555555555555556, \"#d8576b\"], [0.6666666666666666, \"#ed7953\"], [0.7777777777777778, \"#fb9f3a\"], [0.8888888888888888, \"#fdca26\"], [1.0, \"#f0f921\"]]}, \"legend\": {\"tracegroupgap\": 0}, \"margin\": {\"t\": 60}, \"scene\": {\"domain\": {\"x\": [0.0, 1.0], \"y\": [0.0, 1.0]}, \"xaxis\": {\"title\": {\"text\": \"pc1\"}}, \"yaxis\": {\"title\": {\"text\": \"pc2\"}}, \"zaxis\": {\"title\": {\"text\": \"pc3\"}}}, \"template\": {\"data\": {\"bar\": [{\"error_x\": {\"color\": \"#2a3f5f\"}, \"error_y\": {\"color\": \"#2a3f5f\"}, \"marker\": {\"line\": {\"color\": \"#E5ECF6\", \"width\": 0.5}}, \"type\": \"bar\"}], \"barpolar\": [{\"marker\": {\"line\": {\"color\": \"#E5ECF6\", \"width\": 0.5}}, \"type\": \"barpolar\"}], \"carpet\": [{\"aaxis\": {\"endlinecolor\": \"#2a3f5f\", \"gridcolor\": \"white\", \"linecolor\": \"white\", \"minorgridcolor\": \"white\", \"startlinecolor\": \"#2a3f5f\"}, \"baxis\": {\"endlinecolor\": \"#2a3f5f\", \"gridcolor\": \"white\", \"linecolor\": \"white\", \"minorgridcolor\": \"white\", \"startlinecolor\": \"#2a3f5f\"}, \"type\": \"carpet\"}], \"choropleth\": [{\"colorbar\": {\"outlinewidth\": 0, \"ticks\": \"\"}, \"type\": \"choropleth\"}], \"contour\": [{\"colorbar\": {\"outlinewidth\": 0, \"ticks\": \"\"}, \"colorscale\": [[0.0, \"#0d0887\"], [0.1111111111111111, \"#46039f\"], [0.2222222222222222, \"#7201a8\"], [0.3333333333333333, \"#9c179e\"], [0.4444444444444444, \"#bd3786\"], [0.5555555555555556, \"#d8576b\"], [0.6666666666666666, \"#ed7953\"], [0.7777777777777778, \"#fb9f3a\"], [0.8888888888888888, \"#fdca26\"], [1.0, \"#f0f921\"]], \"type\": \"contour\"}], \"contourcarpet\": [{\"colorbar\": {\"outlinewidth\": 0, \"ticks\": \"\"}, \"type\": \"contourcarpet\"}], \"heatmap\": [{\"colorbar\": {\"outlinewidth\": 0, \"ticks\": \"\"}, \"colorscale\": [[0.0, \"#0d0887\"], [0.1111111111111111, \"#46039f\"], [0.2222222222222222, \"#7201a8\"], [0.3333333333333333, \"#9c179e\"], [0.4444444444444444, \"#bd3786\"], [0.5555555555555556, \"#d8576b\"], [0.6666666666666666, \"#ed7953\"], [0.7777777777777778, \"#fb9f3a\"], [0.8888888888888888, \"#fdca26\"], [1.0, \"#f0f921\"]], \"type\": \"heatmap\"}], \"heatmapgl\": [{\"colorbar\": {\"outlinewidth\": 0, \"ticks\": \"\"}, \"colorscale\": [[0.0, \"#0d0887\"], [0.1111111111111111, \"#46039f\"], [0.2222222222222222, \"#7201a8\"], [0.3333333333333333, \"#9c179e\"], [0.4444444444444444, \"#bd3786\"], [0.5555555555555556, \"#d8576b\"], [0.6666666666666666, \"#ed7953\"], [0.7777777777777778, \"#fb9f3a\"], [0.8888888888888888, \"#fdca26\"], [1.0, \"#f0f921\"]], \"type\": \"heatmapgl\"}], \"histogram\": [{\"marker\": {\"colorbar\": {\"outlinewidth\": 0, \"ticks\": \"\"}}, \"type\": \"histogram\"}], \"histogram2d\": [{\"colorbar\": {\"outlinewidth\": 0, \"ticks\": \"\"}, \"colorscale\": [[0.0, \"#0d0887\"], [0.1111111111111111, \"#46039f\"], [0.2222222222222222, \"#7201a8\"], [0.3333333333333333, \"#9c179e\"], [0.4444444444444444, \"#bd3786\"], [0.5555555555555556, \"#d8576b\"], [0.6666666666666666, \"#ed7953\"], [0.7777777777777778, \"#fb9f3a\"], [0.8888888888888888, \"#fdca26\"], [1.0, \"#f0f921\"]], \"type\": \"histogram2d\"}], \"histogram2dcontour\": [{\"colorbar\": {\"outlinewidth\": 0, \"ticks\": \"\"}, \"colorscale\": [[0.0, \"#0d0887\"], [0.1111111111111111, \"#46039f\"], [0.2222222222222222, \"#7201a8\"], [0.3333333333333333, \"#9c179e\"], [0.4444444444444444, \"#bd3786\"], [0.5555555555555556, \"#d8576b\"], [0.6666666666666666, \"#ed7953\"], [0.7777777777777778, \"#fb9f3a\"], [0.8888888888888888, \"#fdca26\"], [1.0, \"#f0f921\"]], \"type\": \"histogram2dcontour\"}], \"mesh3d\": [{\"colorbar\": {\"outlinewidth\": 0, \"ticks\": \"\"}, \"type\": \"mesh3d\"}], \"parcoords\": [{\"line\": {\"colorbar\": {\"outlinewidth\": 0, \"ticks\": \"\"}}, \"type\": \"parcoords\"}], \"pie\": [{\"automargin\": true, \"type\": \"pie\"}], \"scatter\": [{\"marker\": {\"colorbar\": {\"outlinewidth\": 0, \"ticks\": \"\"}}, \"type\": \"scatter\"}], \"scatter3d\": [{\"line\": {\"colorbar\": {\"outlinewidth\": 0, \"ticks\": \"\"}}, \"marker\": {\"colorbar\": {\"outlinewidth\": 0, \"ticks\": \"\"}}, \"type\": \"scatter3d\"}], \"scattercarpet\": [{\"marker\": {\"colorbar\": {\"outlinewidth\": 0, \"ticks\": \"\"}}, \"type\": \"scattercarpet\"}], \"scattergeo\": [{\"marker\": {\"colorbar\": {\"outlinewidth\": 0, \"ticks\": \"\"}}, \"type\": \"scattergeo\"}], \"scattergl\": [{\"marker\": {\"colorbar\": {\"outlinewidth\": 0, \"ticks\": \"\"}}, \"type\": \"scattergl\"}], \"scattermapbox\": [{\"marker\": {\"colorbar\": {\"outlinewidth\": 0, \"ticks\": \"\"}}, \"type\": \"scattermapbox\"}], \"scatterpolar\": [{\"marker\": {\"colorbar\": {\"outlinewidth\": 0, \"ticks\": \"\"}}, \"type\": \"scatterpolar\"}], \"scatterpolargl\": [{\"marker\": {\"colorbar\": {\"outlinewidth\": 0, \"ticks\": \"\"}}, \"type\": \"scatterpolargl\"}], \"scatterternary\": [{\"marker\": {\"colorbar\": {\"outlinewidth\": 0, \"ticks\": \"\"}}, \"type\": \"scatterternary\"}], \"surface\": [{\"colorbar\": {\"outlinewidth\": 0, \"ticks\": \"\"}, \"colorscale\": [[0.0, \"#0d0887\"], [0.1111111111111111, \"#46039f\"], [0.2222222222222222, \"#7201a8\"], [0.3333333333333333, \"#9c179e\"], [0.4444444444444444, \"#bd3786\"], [0.5555555555555556, \"#d8576b\"], [0.6666666666666666, \"#ed7953\"], [0.7777777777777778, \"#fb9f3a\"], [0.8888888888888888, \"#fdca26\"], [1.0, \"#f0f921\"]], \"type\": \"surface\"}], \"table\": [{\"cells\": {\"fill\": {\"color\": \"#EBF0F8\"}, \"line\": {\"color\": \"white\"}}, \"header\": {\"fill\": {\"color\": \"#C8D4E3\"}, \"line\": {\"color\": \"white\"}}, \"type\": \"table\"}]}, \"layout\": {\"annotationdefaults\": {\"arrowcolor\": \"#2a3f5f\", \"arrowhead\": 0, \"arrowwidth\": 1}, \"coloraxis\": {\"colorbar\": {\"outlinewidth\": 0, \"ticks\": \"\"}}, \"colorscale\": {\"diverging\": [[0, \"#8e0152\"], [0.1, \"#c51b7d\"], [0.2, \"#de77ae\"], [0.3, \"#f1b6da\"], [0.4, \"#fde0ef\"], [0.5, \"#f7f7f7\"], [0.6, \"#e6f5d0\"], [0.7, \"#b8e186\"], [0.8, \"#7fbc41\"], [0.9, \"#4d9221\"], [1, \"#276419\"]], \"sequential\": [[0.0, \"#0d0887\"], [0.1111111111111111, \"#46039f\"], [0.2222222222222222, \"#7201a8\"], [0.3333333333333333, \"#9c179e\"], [0.4444444444444444, \"#bd3786\"], [0.5555555555555556, \"#d8576b\"], [0.6666666666666666, \"#ed7953\"], [0.7777777777777778, \"#fb9f3a\"], [0.8888888888888888, \"#fdca26\"], [1.0, \"#f0f921\"]], \"sequentialminus\": [[0.0, \"#0d0887\"], [0.1111111111111111, \"#46039f\"], [0.2222222222222222, \"#7201a8\"], [0.3333333333333333, \"#9c179e\"], [0.4444444444444444, \"#bd3786\"], [0.5555555555555556, \"#d8576b\"], [0.6666666666666666, \"#ed7953\"], [0.7777777777777778, \"#fb9f3a\"], [0.8888888888888888, \"#fdca26\"], [1.0, \"#f0f921\"]]}, \"colorway\": [\"#636efa\", \"#EF553B\", \"#00cc96\", \"#ab63fa\", \"#FFA15A\", \"#19d3f3\", \"#FF6692\", \"#B6E880\", \"#FF97FF\", \"#FECB52\"], \"font\": {\"color\": \"#2a3f5f\"}, \"geo\": {\"bgcolor\": \"white\", \"lakecolor\": \"white\", \"landcolor\": \"#E5ECF6\", \"showlakes\": true, \"showland\": true, \"subunitcolor\": \"white\"}, \"hoverlabel\": {\"align\": \"left\"}, \"hovermode\": \"closest\", \"mapbox\": {\"style\": \"light\"}, \"paper_bgcolor\": \"white\", \"plot_bgcolor\": \"#E5ECF6\", \"polar\": {\"angularaxis\": {\"gridcolor\": \"white\", \"linecolor\": \"white\", \"ticks\": \"\"}, \"bgcolor\": \"#E5ECF6\", \"radialaxis\": {\"gridcolor\": \"white\", \"linecolor\": \"white\", \"ticks\": \"\"}}, \"scene\": {\"xaxis\": {\"backgroundcolor\": \"#E5ECF6\", \"gridcolor\": \"white\", \"gridwidth\": 2, \"linecolor\": \"white\", \"showbackground\": true, \"ticks\": \"\", \"zerolinecolor\": \"white\"}, \"yaxis\": {\"backgroundcolor\": \"#E5ECF6\", \"gridcolor\": \"white\", \"gridwidth\": 2, \"linecolor\": \"white\", \"showbackground\": true, \"ticks\": \"\", \"zerolinecolor\": \"white\"}, \"zaxis\": {\"backgroundcolor\": \"#E5ECF6\", \"gridcolor\": \"white\", \"gridwidth\": 2, \"linecolor\": \"white\", \"showbackground\": true, \"ticks\": \"\", \"zerolinecolor\": \"white\"}}, \"shapedefaults\": {\"line\": {\"color\": \"#2a3f5f\"}}, \"ternary\": {\"aaxis\": {\"gridcolor\": \"white\", \"linecolor\": \"white\", \"ticks\": \"\"}, \"baxis\": {\"gridcolor\": \"white\", \"linecolor\": \"white\", \"ticks\": \"\"}, \"bgcolor\": \"#E5ECF6\", \"caxis\": {\"gridcolor\": \"white\", \"linecolor\": \"white\", \"ticks\": \"\"}}, \"title\": {\"x\": 0.05}, \"xaxis\": {\"automargin\": true, \"gridcolor\": \"white\", \"linecolor\": \"white\", \"ticks\": \"\", \"title\": {\"standoff\": 15}, \"zerolinecolor\": \"white\", \"zerolinewidth\": 2}, \"yaxis\": {\"automargin\": true, \"gridcolor\": \"white\", \"linecolor\": \"white\", \"ticks\": \"\", \"title\": {\"standoff\": 15}, \"zerolinecolor\": \"white\", \"zerolinewidth\": 2}}}},\n",
       "                        {\"responsive\": true}\n",
       "                    ).then(function(){\n",
       "                            \n",
       "var gd = document.getElementById('b4c9bf75-6288-4f14-9bb1-b3e372dea4ec');\n",
       "var x = new MutationObserver(function (mutations, observer) {{\n",
       "        var display = window.getComputedStyle(gd).display;\n",
       "        if (!display || display === 'none') {{\n",
       "            console.log([gd, 'removed!']);\n",
       "            Plotly.purge(gd);\n",
       "            observer.disconnect();\n",
       "        }}\n",
       "}});\n",
       "\n",
       "// Listen for the removal of the full notebook cells\n",
       "var notebookContainer = gd.closest('#notebook-container');\n",
       "if (notebookContainer) {{\n",
       "    x.observe(notebookContainer, {childList: true});\n",
       "}}\n",
       "\n",
       "// Listen for the clearing of the current output cell\n",
       "var outputEl = gd.closest('.output');\n",
       "if (outputEl) {{\n",
       "    x.observe(outputEl, {childList: true});\n",
       "}}\n",
       "\n",
       "                        })\n",
       "                };\n",
       "                });\n",
       "            </script>\n",
       "        </div>"
      ]
     },
     "metadata": {},
     "output_type": "display_data"
    }
   ],
   "source": [
    "import plotly.express as px\n",
    "import pandas\n",
    "\n",
    "ns_fixed = list(ns_sr_rep.keys())\n",
    "\n",
    "df = pandas.DataFrame({\"pc1\": x,\n",
    "                   \"pc2\": y,\n",
    "                   \"pc3\": z,\n",
    "                   \"pc4\": a,\n",
    "                   \"source\": ns_fixed})\n",
    "\n",
    "fig = px.scatter_3d(df, x='pc1', y='pc2', z='pc3', color='pc4', hover_name='source', opacity=0.4)\n",
    "fig.show()"
   ]
  },
  {
   "cell_type": "markdown",
   "metadata": {},
   "source": [
    "With t-SNE"
   ]
  },
  {
   "cell_type": "code",
   "execution_count": 283,
   "metadata": {},
   "outputs": [],
   "source": [
    "from sklearn.manifold import TSNE\n",
    "from datetime import datetime\n",
    "\n",
    "tsne = TSNE(n_components = 3, perplexity=50)"
   ]
  },
  {
   "cell_type": "code",
   "execution_count": 284,
   "metadata": {
    "scrolled": true
   },
   "outputs": [
    {
     "name": "stdout",
     "output_type": "stream",
     "text": [
      "2022-03-31 09:06:19.362896\n",
      "2022-03-31 09:06:19.854826\n"
     ]
    }
   ],
   "source": [
    "print(datetime.now())\n",
    "threed = tsne.fit_transform(old_ns_repr_new)\n",
    "print(datetime.now())"
   ]
  },
  {
   "cell_type": "code",
   "execution_count": 285,
   "metadata": {},
   "outputs": [],
   "source": [
    "xs = [k[0] for k in threed]\n",
    "ys = [k[1] for k in threed]\n",
    "zs = [k[2] for k in threed]"
   ]
  },
  {
   "cell_type": "code",
   "execution_count": 286,
   "metadata": {},
   "outputs": [
    {
     "data": {
      "application/vnd.plotly.v1+json": {
       "config": {
        "plotlyServerURL": "https://plot.ly"
       },
       "data": [
        {
         "hovertemplate": "<b>%{hovertext}</b><br><br>pc1=%{x}<br>pc2=%{y}<br>pc3=%{z}<extra></extra>",
         "hovertext": [
          "hoopsrumors.com",
          "nydailynews.com",
          "foxsports.com",
          "realgm.com",
          "cbsnews.com",
          "washingtonpost.com",
          "theundefeated.com",
          "nytimes.com",
          "sportsnaut.com",
          "cbssports.com",
          "bleacherreport.com",
          "espn.com",
          "mirror.co.uk",
          "cnn.com",
          "yardbarker.com",
          "inquisitr.com",
          "football365.com",
          "wsj.com",
          "fivethirtyeight.com",
          "skysports.com",
          "bbc.com",
          "dailymail.co.uk",
          "rotoballer.com",
          "cbslocal.com",
          "usatoday.com",
          "sportingnews.com",
          "theplayerstribune.com",
          "hoopshype.com",
          "fadeawayworld.net",
          "thedraftnetwork.com",
          "theonion.com",
          "independent.co.uk",
          "theathletic.com",
          "clutchpoints.com",
          "thetimes.co.uk",
          "freep.com",
          "msn.com",
          "profootballnetwork.com",
          "premierleague.com",
          "sportwitness.co.uk",
          "dailysnark.com",
          "sbnation.com",
          "sportscasting.com",
          "sportsnet.ca",
          "givemesport.com",
          "foxnews.com",
          "fantasyalarm.com",
          "telegraph.co.uk",
          "inquirer.com",
          "nbaanalysis.net",
          "heavy.com",
          "draftkings.com",
          "apnews.com",
          "bbc.co.uk",
          "uproxx.com",
          "espn.co.uk",
          "radio.com",
          "thescore.com",
          "theringer.com",
          "dailymotion.com",
          "nfl.com",
          "prosportsextra.com",
          "latimes.com",
          "gq.com",
          "nba.com",
          "iheart.com",
          "indystar.com",
          "deadspin.com",
          "thespun.com",
          "sportskeeda.com",
          "cleveland.com",
          "nbcsports.com",
          "fansided.com",
          "thebiglead.com",
          "pff.com",
          "247sports.com",
          "tmz.com",
          "slamonline.com",
          "si.com",
          "bolavip.com",
          "theguardian.com",
          "forbes.com",
          "nesn.com",
          "nj.com",
          "nypost.com"
         ],
         "legendgroup": "",
         "marker": {
          "color": "#636efa",
          "opacity": 0.4,
          "symbol": "circle"
         },
         "mode": "markers",
         "name": "",
         "scene": "scene",
         "showlegend": false,
         "type": "scatter3d",
         "x": [
          30.36498260498047,
          142.82330322265625,
          228.38136291503906,
          100.88977813720703,
          122.97724914550781,
          -64.52798461914062,
          -8.127228736877441,
          11.730387687683105,
          -129.1720733642578,
          90.02043914794922,
          150.08428955078125,
          -67.05632781982422,
          -139.50277709960938,
          -23.085311889648438,
          -0.19296813011169434,
          -138.75599670410156,
          -34.52484130859375,
          -0.7746026515960693,
          -53.8676643371582,
          182.23675537109375,
          207.47715759277344,
          -94.81241607666016,
          -105.07183074951172,
          138.9443359375,
          -50.64136505126953,
          33.88003158569336,
          82.08387756347656,
          -119.811767578125,
          -104.84609985351562,
          112.93887329101562,
          -59.66941833496094,
          35.182586669921875,
          -129.91197204589844,
          -75.53418731689453,
          -71.2472152709961,
          -176.2987060546875,
          101.58920288085938,
          59.81414794921875,
          -91.52976989746094,
          9.818283081054688,
          -68.18411254882812,
          0.01729872263967991,
          110.85389709472656,
          -95.59973907470703,
          -29.534034729003906,
          37.690372467041016,
          47.56321716308594,
          -74.46390533447266,
          199.28184509277344,
          30.60129737854004,
          57.73636245727539,
          64.56669616699219,
          82.93862915039062,
          -48.584922790527344,
          -100.20169067382812,
          20.52265167236328,
          128.48855590820312,
          10.131006240844727,
          -123.342529296875,
          -20.013389587402344,
          -161.03448486328125,
          57.13118362426758,
          -52.185546875,
          -32.992469787597656,
          -35.39411544799805,
          157.42626953125,
          29.5862979888916,
          48.056610107421875,
          -87.94383239746094,
          -12.759607315063477,
          58.498226165771484,
          5.387362480163574,
          116.7751235961914,
          79.37266540527344,
          -188.9938201904297,
          65.42918395996094,
          71.56826782226562,
          -140.93943786621094,
          -189.64657592773438,
          -49.24363327026367,
          190.0624237060547,
          -171.95919799804688,
          145.1988525390625,
          7.449599266052246,
          1.7267206907272339
         ],
         "y": [
          20.212726593017578,
          26.7889461517334,
          -7.938223361968994,
          -127.11476135253906,
          -40.07453155517578,
          -160.197021484375,
          -100.4451904296875,
          -78.73435974121094,
          -93.46507263183594,
          145.26129150390625,
          123.73973083496094,
          87.13662719726562,
          103.79312133789062,
          -121.9057846069336,
          -84.93746185302734,
          -57.87256622314453,
          -9.801986694335938,
          -28.25952911376953,
          64.47502136230469,
          -5.2861809730529785,
          -60.59830856323242,
          155.06298828125,
          137.94671630859375,
          -136.87799072265625,
          83.16559600830078,
          -169.9384002685547,
          33.20608139038086,
          -15.326180458068848,
          60.15745162963867,
          165.99729919433594,
          -58.928504943847656,
          -170.97018432617188,
          3.586299419403076,
          -67.83354187011719,
          -154.9458465576172,
          -69.02733612060547,
          -7.258805751800537,
          112.20576477050781,
          -82.04955291748047,
          56.93413162231445,
          -66.73320770263672,
          39.51819610595703,
          33.56325149536133,
          -150.7748260498047,
          -30.661006927490234,
          60.910614013671875,
          161.0017547607422,
          76.97132873535156,
          39.9313850402832,
          198.40049743652344,
          -19.734630584716797,
          -109.41442108154297,
          -39.52532958984375,
          44.39869689941406,
          13.327911376953125,
          -9.44242000579834,
          -107.47554016113281,
          -72.525146484375,
          11.636846542358398,
          111.213134765625,
          -152.34951782226562,
          59.08709716796875,
          -14.661321640014648,
          178.18472290039062,
          -141.9169921875,
          98.69197845458984,
          -180.2901611328125,
          -82.75700378417969,
          169.73489379882812,
          137.087158203125,
          -84.71891784667969,
          141.74642944335938,
          28.77500343322754,
          93.66194915771484,
          100.44189453125,
          64.09361267089844,
          -39.832157135009766,
          65.69429016113281,
          33.40887451171875,
          12.101898193359375,
          -66.61470794677734,
          -6.310056209564209,
          -85.46473693847656,
          136.18130493164062,
          14.786043167114258
         ],
         "z": [
          -170.71827697753906,
          75.1948013305664,
          -141.0608367919922,
          51.644264221191406,
          27.6722469329834,
          -19.57146453857422,
          -30.817209243774414,
          -195.3509979248047,
          -45.128604888916016,
          118.01179504394531,
          -89.9208984375,
          33.44499206542969,
          93.93621063232422,
          46.51352310180664,
          -108.22899627685547,
          40.05809783935547,
          -126.9835433959961,
          9.347123146057129,
          -112.97498321533203,
          -82.33168029785156,
          37.13526916503906,
          -119.01769256591797,
          -26.145431518554688,
          -25.341257095336914,
          116.41095733642578,
          -6.546637058258057,
          14.219388008117676,
          -84.14147186279297,
          -36.93205261230469,
          15.166511535644531,
          -64.79019927978516,
          93.34965515136719,
          -178.6120147705078,
          126.21154022216797,
          -116.97299194335938,
          122.24108123779297,
          142.00367736816406,
          40.11033630371094,
          -167.38427734375,
          -21.43437957763672,
          13.985503196716309,
          50.337127685546875,
          -143.72032165527344,
          90.32244110107422,
          200.65887451171875,
          -100.94999694824219,
          -66.85759735107422,
          199.33534240722656,
          -8.136408805847168,
          25.05634880065918,
          71.54388427734375,
          -62.276756286621094,
          -36.36260986328125,
          -212.86521911621094,
          25.317588806152344,
          -63.14399719238281,
          -135.34864807128906,
          101.17678833007812,
          133.681884765625,
          -60.68606948852539,
          25.176227569580078,
          196.42372131347656,
          76.75587463378906,
          -23.371488571166992,
          165.70761108398438,
          40.0557975769043,
          -109.69200134277344,
          21.012283325195312,
          57.38862991333008,
          58.374183654785156,
          177.28924560546875,
          150.75592041015625,
          -58.36247253417969,
          -40.17594528198242,
          2.7307350635528564,
          103.17447662353516,
          -122.52848052978516,
          -104.70011138916016,
          60.84691619873047,
          -36.92721939086914,
          -58.816158294677734,
          -22.65174674987793,
          116.56871032714844,
          -159.6761016845703,
          138.5779571533203
         ]
        }
       ],
       "layout": {
        "legend": {
         "tracegroupgap": 0
        },
        "margin": {
         "t": 60
        },
        "scene": {
         "domain": {
          "x": [
           0,
           1
          ],
          "y": [
           0,
           1
          ]
         },
         "xaxis": {
          "title": {
           "text": "pc1"
          }
         },
         "yaxis": {
          "title": {
           "text": "pc2"
          }
         },
         "zaxis": {
          "title": {
           "text": "pc3"
          }
         }
        },
        "template": {
         "data": {
          "bar": [
           {
            "error_x": {
             "color": "#2a3f5f"
            },
            "error_y": {
             "color": "#2a3f5f"
            },
            "marker": {
             "line": {
              "color": "#E5ECF6",
              "width": 0.5
             }
            },
            "type": "bar"
           }
          ],
          "barpolar": [
           {
            "marker": {
             "line": {
              "color": "#E5ECF6",
              "width": 0.5
             }
            },
            "type": "barpolar"
           }
          ],
          "carpet": [
           {
            "aaxis": {
             "endlinecolor": "#2a3f5f",
             "gridcolor": "white",
             "linecolor": "white",
             "minorgridcolor": "white",
             "startlinecolor": "#2a3f5f"
            },
            "baxis": {
             "endlinecolor": "#2a3f5f",
             "gridcolor": "white",
             "linecolor": "white",
             "minorgridcolor": "white",
             "startlinecolor": "#2a3f5f"
            },
            "type": "carpet"
           }
          ],
          "choropleth": [
           {
            "colorbar": {
             "outlinewidth": 0,
             "ticks": ""
            },
            "type": "choropleth"
           }
          ],
          "contour": [
           {
            "colorbar": {
             "outlinewidth": 0,
             "ticks": ""
            },
            "colorscale": [
             [
              0,
              "#0d0887"
             ],
             [
              0.1111111111111111,
              "#46039f"
             ],
             [
              0.2222222222222222,
              "#7201a8"
             ],
             [
              0.3333333333333333,
              "#9c179e"
             ],
             [
              0.4444444444444444,
              "#bd3786"
             ],
             [
              0.5555555555555556,
              "#d8576b"
             ],
             [
              0.6666666666666666,
              "#ed7953"
             ],
             [
              0.7777777777777778,
              "#fb9f3a"
             ],
             [
              0.8888888888888888,
              "#fdca26"
             ],
             [
              1,
              "#f0f921"
             ]
            ],
            "type": "contour"
           }
          ],
          "contourcarpet": [
           {
            "colorbar": {
             "outlinewidth": 0,
             "ticks": ""
            },
            "type": "contourcarpet"
           }
          ],
          "heatmap": [
           {
            "colorbar": {
             "outlinewidth": 0,
             "ticks": ""
            },
            "colorscale": [
             [
              0,
              "#0d0887"
             ],
             [
              0.1111111111111111,
              "#46039f"
             ],
             [
              0.2222222222222222,
              "#7201a8"
             ],
             [
              0.3333333333333333,
              "#9c179e"
             ],
             [
              0.4444444444444444,
              "#bd3786"
             ],
             [
              0.5555555555555556,
              "#d8576b"
             ],
             [
              0.6666666666666666,
              "#ed7953"
             ],
             [
              0.7777777777777778,
              "#fb9f3a"
             ],
             [
              0.8888888888888888,
              "#fdca26"
             ],
             [
              1,
              "#f0f921"
             ]
            ],
            "type": "heatmap"
           }
          ],
          "heatmapgl": [
           {
            "colorbar": {
             "outlinewidth": 0,
             "ticks": ""
            },
            "colorscale": [
             [
              0,
              "#0d0887"
             ],
             [
              0.1111111111111111,
              "#46039f"
             ],
             [
              0.2222222222222222,
              "#7201a8"
             ],
             [
              0.3333333333333333,
              "#9c179e"
             ],
             [
              0.4444444444444444,
              "#bd3786"
             ],
             [
              0.5555555555555556,
              "#d8576b"
             ],
             [
              0.6666666666666666,
              "#ed7953"
             ],
             [
              0.7777777777777778,
              "#fb9f3a"
             ],
             [
              0.8888888888888888,
              "#fdca26"
             ],
             [
              1,
              "#f0f921"
             ]
            ],
            "type": "heatmapgl"
           }
          ],
          "histogram": [
           {
            "marker": {
             "colorbar": {
              "outlinewidth": 0,
              "ticks": ""
             }
            },
            "type": "histogram"
           }
          ],
          "histogram2d": [
           {
            "colorbar": {
             "outlinewidth": 0,
             "ticks": ""
            },
            "colorscale": [
             [
              0,
              "#0d0887"
             ],
             [
              0.1111111111111111,
              "#46039f"
             ],
             [
              0.2222222222222222,
              "#7201a8"
             ],
             [
              0.3333333333333333,
              "#9c179e"
             ],
             [
              0.4444444444444444,
              "#bd3786"
             ],
             [
              0.5555555555555556,
              "#d8576b"
             ],
             [
              0.6666666666666666,
              "#ed7953"
             ],
             [
              0.7777777777777778,
              "#fb9f3a"
             ],
             [
              0.8888888888888888,
              "#fdca26"
             ],
             [
              1,
              "#f0f921"
             ]
            ],
            "type": "histogram2d"
           }
          ],
          "histogram2dcontour": [
           {
            "colorbar": {
             "outlinewidth": 0,
             "ticks": ""
            },
            "colorscale": [
             [
              0,
              "#0d0887"
             ],
             [
              0.1111111111111111,
              "#46039f"
             ],
             [
              0.2222222222222222,
              "#7201a8"
             ],
             [
              0.3333333333333333,
              "#9c179e"
             ],
             [
              0.4444444444444444,
              "#bd3786"
             ],
             [
              0.5555555555555556,
              "#d8576b"
             ],
             [
              0.6666666666666666,
              "#ed7953"
             ],
             [
              0.7777777777777778,
              "#fb9f3a"
             ],
             [
              0.8888888888888888,
              "#fdca26"
             ],
             [
              1,
              "#f0f921"
             ]
            ],
            "type": "histogram2dcontour"
           }
          ],
          "mesh3d": [
           {
            "colorbar": {
             "outlinewidth": 0,
             "ticks": ""
            },
            "type": "mesh3d"
           }
          ],
          "parcoords": [
           {
            "line": {
             "colorbar": {
              "outlinewidth": 0,
              "ticks": ""
             }
            },
            "type": "parcoords"
           }
          ],
          "pie": [
           {
            "automargin": true,
            "type": "pie"
           }
          ],
          "scatter": [
           {
            "marker": {
             "colorbar": {
              "outlinewidth": 0,
              "ticks": ""
             }
            },
            "type": "scatter"
           }
          ],
          "scatter3d": [
           {
            "line": {
             "colorbar": {
              "outlinewidth": 0,
              "ticks": ""
             }
            },
            "marker": {
             "colorbar": {
              "outlinewidth": 0,
              "ticks": ""
             }
            },
            "type": "scatter3d"
           }
          ],
          "scattercarpet": [
           {
            "marker": {
             "colorbar": {
              "outlinewidth": 0,
              "ticks": ""
             }
            },
            "type": "scattercarpet"
           }
          ],
          "scattergeo": [
           {
            "marker": {
             "colorbar": {
              "outlinewidth": 0,
              "ticks": ""
             }
            },
            "type": "scattergeo"
           }
          ],
          "scattergl": [
           {
            "marker": {
             "colorbar": {
              "outlinewidth": 0,
              "ticks": ""
             }
            },
            "type": "scattergl"
           }
          ],
          "scattermapbox": [
           {
            "marker": {
             "colorbar": {
              "outlinewidth": 0,
              "ticks": ""
             }
            },
            "type": "scattermapbox"
           }
          ],
          "scatterpolar": [
           {
            "marker": {
             "colorbar": {
              "outlinewidth": 0,
              "ticks": ""
             }
            },
            "type": "scatterpolar"
           }
          ],
          "scatterpolargl": [
           {
            "marker": {
             "colorbar": {
              "outlinewidth": 0,
              "ticks": ""
             }
            },
            "type": "scatterpolargl"
           }
          ],
          "scatterternary": [
           {
            "marker": {
             "colorbar": {
              "outlinewidth": 0,
              "ticks": ""
             }
            },
            "type": "scatterternary"
           }
          ],
          "surface": [
           {
            "colorbar": {
             "outlinewidth": 0,
             "ticks": ""
            },
            "colorscale": [
             [
              0,
              "#0d0887"
             ],
             [
              0.1111111111111111,
              "#46039f"
             ],
             [
              0.2222222222222222,
              "#7201a8"
             ],
             [
              0.3333333333333333,
              "#9c179e"
             ],
             [
              0.4444444444444444,
              "#bd3786"
             ],
             [
              0.5555555555555556,
              "#d8576b"
             ],
             [
              0.6666666666666666,
              "#ed7953"
             ],
             [
              0.7777777777777778,
              "#fb9f3a"
             ],
             [
              0.8888888888888888,
              "#fdca26"
             ],
             [
              1,
              "#f0f921"
             ]
            ],
            "type": "surface"
           }
          ],
          "table": [
           {
            "cells": {
             "fill": {
              "color": "#EBF0F8"
             },
             "line": {
              "color": "white"
             }
            },
            "header": {
             "fill": {
              "color": "#C8D4E3"
             },
             "line": {
              "color": "white"
             }
            },
            "type": "table"
           }
          ]
         },
         "layout": {
          "annotationdefaults": {
           "arrowcolor": "#2a3f5f",
           "arrowhead": 0,
           "arrowwidth": 1
          },
          "coloraxis": {
           "colorbar": {
            "outlinewidth": 0,
            "ticks": ""
           }
          },
          "colorscale": {
           "diverging": [
            [
             0,
             "#8e0152"
            ],
            [
             0.1,
             "#c51b7d"
            ],
            [
             0.2,
             "#de77ae"
            ],
            [
             0.3,
             "#f1b6da"
            ],
            [
             0.4,
             "#fde0ef"
            ],
            [
             0.5,
             "#f7f7f7"
            ],
            [
             0.6,
             "#e6f5d0"
            ],
            [
             0.7,
             "#b8e186"
            ],
            [
             0.8,
             "#7fbc41"
            ],
            [
             0.9,
             "#4d9221"
            ],
            [
             1,
             "#276419"
            ]
           ],
           "sequential": [
            [
             0,
             "#0d0887"
            ],
            [
             0.1111111111111111,
             "#46039f"
            ],
            [
             0.2222222222222222,
             "#7201a8"
            ],
            [
             0.3333333333333333,
             "#9c179e"
            ],
            [
             0.4444444444444444,
             "#bd3786"
            ],
            [
             0.5555555555555556,
             "#d8576b"
            ],
            [
             0.6666666666666666,
             "#ed7953"
            ],
            [
             0.7777777777777778,
             "#fb9f3a"
            ],
            [
             0.8888888888888888,
             "#fdca26"
            ],
            [
             1,
             "#f0f921"
            ]
           ],
           "sequentialminus": [
            [
             0,
             "#0d0887"
            ],
            [
             0.1111111111111111,
             "#46039f"
            ],
            [
             0.2222222222222222,
             "#7201a8"
            ],
            [
             0.3333333333333333,
             "#9c179e"
            ],
            [
             0.4444444444444444,
             "#bd3786"
            ],
            [
             0.5555555555555556,
             "#d8576b"
            ],
            [
             0.6666666666666666,
             "#ed7953"
            ],
            [
             0.7777777777777778,
             "#fb9f3a"
            ],
            [
             0.8888888888888888,
             "#fdca26"
            ],
            [
             1,
             "#f0f921"
            ]
           ]
          },
          "colorway": [
           "#636efa",
           "#EF553B",
           "#00cc96",
           "#ab63fa",
           "#FFA15A",
           "#19d3f3",
           "#FF6692",
           "#B6E880",
           "#FF97FF",
           "#FECB52"
          ],
          "font": {
           "color": "#2a3f5f"
          },
          "geo": {
           "bgcolor": "white",
           "lakecolor": "white",
           "landcolor": "#E5ECF6",
           "showlakes": true,
           "showland": true,
           "subunitcolor": "white"
          },
          "hoverlabel": {
           "align": "left"
          },
          "hovermode": "closest",
          "mapbox": {
           "style": "light"
          },
          "paper_bgcolor": "white",
          "plot_bgcolor": "#E5ECF6",
          "polar": {
           "angularaxis": {
            "gridcolor": "white",
            "linecolor": "white",
            "ticks": ""
           },
           "bgcolor": "#E5ECF6",
           "radialaxis": {
            "gridcolor": "white",
            "linecolor": "white",
            "ticks": ""
           }
          },
          "scene": {
           "xaxis": {
            "backgroundcolor": "#E5ECF6",
            "gridcolor": "white",
            "gridwidth": 2,
            "linecolor": "white",
            "showbackground": true,
            "ticks": "",
            "zerolinecolor": "white"
           },
           "yaxis": {
            "backgroundcolor": "#E5ECF6",
            "gridcolor": "white",
            "gridwidth": 2,
            "linecolor": "white",
            "showbackground": true,
            "ticks": "",
            "zerolinecolor": "white"
           },
           "zaxis": {
            "backgroundcolor": "#E5ECF6",
            "gridcolor": "white",
            "gridwidth": 2,
            "linecolor": "white",
            "showbackground": true,
            "ticks": "",
            "zerolinecolor": "white"
           }
          },
          "shapedefaults": {
           "line": {
            "color": "#2a3f5f"
           }
          },
          "ternary": {
           "aaxis": {
            "gridcolor": "white",
            "linecolor": "white",
            "ticks": ""
           },
           "baxis": {
            "gridcolor": "white",
            "linecolor": "white",
            "ticks": ""
           },
           "bgcolor": "#E5ECF6",
           "caxis": {
            "gridcolor": "white",
            "linecolor": "white",
            "ticks": ""
           }
          },
          "title": {
           "x": 0.05
          },
          "xaxis": {
           "automargin": true,
           "gridcolor": "white",
           "linecolor": "white",
           "ticks": "",
           "title": {
            "standoff": 15
           },
           "zerolinecolor": "white",
           "zerolinewidth": 2
          },
          "yaxis": {
           "automargin": true,
           "gridcolor": "white",
           "linecolor": "white",
           "ticks": "",
           "title": {
            "standoff": 15
           },
           "zerolinecolor": "white",
           "zerolinewidth": 2
          }
         }
        }
       }
      },
      "text/html": [
       "<div>\n",
       "        \n",
       "        \n",
       "            <div id=\"93f8d54c-263a-4003-a465-768e147386a5\" class=\"plotly-graph-div\" style=\"height:525px; width:100%;\"></div>\n",
       "            <script type=\"text/javascript\">\n",
       "                require([\"plotly\"], function(Plotly) {\n",
       "                    window.PLOTLYENV=window.PLOTLYENV || {};\n",
       "                    \n",
       "                if (document.getElementById(\"93f8d54c-263a-4003-a465-768e147386a5\")) {\n",
       "                    Plotly.newPlot(\n",
       "                        '93f8d54c-263a-4003-a465-768e147386a5',\n",
       "                        [{\"hovertemplate\": \"<b>%{hovertext}</b><br><br>pc1=%{x}<br>pc2=%{y}<br>pc3=%{z}<extra></extra>\", \"hovertext\": [\"hoopsrumors.com\", \"nydailynews.com\", \"foxsports.com\", \"realgm.com\", \"cbsnews.com\", \"washingtonpost.com\", \"theundefeated.com\", \"nytimes.com\", \"sportsnaut.com\", \"cbssports.com\", \"bleacherreport.com\", \"espn.com\", \"mirror.co.uk\", \"cnn.com\", \"yardbarker.com\", \"inquisitr.com\", \"football365.com\", \"wsj.com\", \"fivethirtyeight.com\", \"skysports.com\", \"bbc.com\", \"dailymail.co.uk\", \"rotoballer.com\", \"cbslocal.com\", \"usatoday.com\", \"sportingnews.com\", \"theplayerstribune.com\", \"hoopshype.com\", \"fadeawayworld.net\", \"thedraftnetwork.com\", \"theonion.com\", \"independent.co.uk\", \"theathletic.com\", \"clutchpoints.com\", \"thetimes.co.uk\", \"freep.com\", \"msn.com\", \"profootballnetwork.com\", \"premierleague.com\", \"sportwitness.co.uk\", \"dailysnark.com\", \"sbnation.com\", \"sportscasting.com\", \"sportsnet.ca\", \"givemesport.com\", \"foxnews.com\", \"fantasyalarm.com\", \"telegraph.co.uk\", \"inquirer.com\", \"nbaanalysis.net\", \"heavy.com\", \"draftkings.com\", \"apnews.com\", \"bbc.co.uk\", \"uproxx.com\", \"espn.co.uk\", \"radio.com\", \"thescore.com\", \"theringer.com\", \"dailymotion.com\", \"nfl.com\", \"prosportsextra.com\", \"latimes.com\", \"gq.com\", \"nba.com\", \"iheart.com\", \"indystar.com\", \"deadspin.com\", \"thespun.com\", \"sportskeeda.com\", \"cleveland.com\", \"nbcsports.com\", \"fansided.com\", \"thebiglead.com\", \"pff.com\", \"247sports.com\", \"tmz.com\", \"slamonline.com\", \"si.com\", \"bolavip.com\", \"theguardian.com\", \"forbes.com\", \"nesn.com\", \"nj.com\", \"nypost.com\"], \"legendgroup\": \"\", \"marker\": {\"color\": \"#636efa\", \"opacity\": 0.4, \"symbol\": \"circle\"}, \"mode\": \"markers\", \"name\": \"\", \"scene\": \"scene\", \"showlegend\": false, \"type\": \"scatter3d\", \"x\": [30.36498260498047, 142.82330322265625, 228.38136291503906, 100.88977813720703, 122.97724914550781, -64.52798461914062, -8.127228736877441, 11.730387687683105, -129.1720733642578, 90.02043914794922, 150.08428955078125, -67.05632781982422, -139.50277709960938, -23.085311889648438, -0.19296813011169434, -138.75599670410156, -34.52484130859375, -0.7746026515960693, -53.8676643371582, 182.23675537109375, 207.47715759277344, -94.81241607666016, -105.07183074951172, 138.9443359375, -50.64136505126953, 33.88003158569336, 82.08387756347656, -119.811767578125, -104.84609985351562, 112.93887329101562, -59.66941833496094, 35.182586669921875, -129.91197204589844, -75.53418731689453, -71.2472152709961, -176.2987060546875, 101.58920288085938, 59.81414794921875, -91.52976989746094, 9.818283081054688, -68.18411254882812, 0.01729872263967991, 110.85389709472656, -95.59973907470703, -29.534034729003906, 37.690372467041016, 47.56321716308594, -74.46390533447266, 199.28184509277344, 30.60129737854004, 57.73636245727539, 64.56669616699219, 82.93862915039062, -48.584922790527344, -100.20169067382812, 20.52265167236328, 128.48855590820312, 10.131006240844727, -123.342529296875, -20.013389587402344, -161.03448486328125, 57.13118362426758, -52.185546875, -32.992469787597656, -35.39411544799805, 157.42626953125, 29.5862979888916, 48.056610107421875, -87.94383239746094, -12.759607315063477, 58.498226165771484, 5.387362480163574, 116.7751235961914, 79.37266540527344, -188.9938201904297, 65.42918395996094, 71.56826782226562, -140.93943786621094, -189.64657592773438, -49.24363327026367, 190.0624237060547, -171.95919799804688, 145.1988525390625, 7.449599266052246, 1.7267206907272339], \"y\": [20.212726593017578, 26.7889461517334, -7.938223361968994, -127.11476135253906, -40.07453155517578, -160.197021484375, -100.4451904296875, -78.73435974121094, -93.46507263183594, 145.26129150390625, 123.73973083496094, 87.13662719726562, 103.79312133789062, -121.9057846069336, -84.93746185302734, -57.87256622314453, -9.801986694335938, -28.25952911376953, 64.47502136230469, -5.2861809730529785, -60.59830856323242, 155.06298828125, 137.94671630859375, -136.87799072265625, 83.16559600830078, -169.9384002685547, 33.20608139038086, -15.326180458068848, 60.15745162963867, 165.99729919433594, -58.928504943847656, -170.97018432617188, 3.586299419403076, -67.83354187011719, -154.9458465576172, -69.02733612060547, -7.258805751800537, 112.20576477050781, -82.04955291748047, 56.93413162231445, -66.73320770263672, 39.51819610595703, 33.56325149536133, -150.7748260498047, -30.661006927490234, 60.910614013671875, 161.0017547607422, 76.97132873535156, 39.9313850402832, 198.40049743652344, -19.734630584716797, -109.41442108154297, -39.52532958984375, 44.39869689941406, 13.327911376953125, -9.44242000579834, -107.47554016113281, -72.525146484375, 11.636846542358398, 111.213134765625, -152.34951782226562, 59.08709716796875, -14.661321640014648, 178.18472290039062, -141.9169921875, 98.69197845458984, -180.2901611328125, -82.75700378417969, 169.73489379882812, 137.087158203125, -84.71891784667969, 141.74642944335938, 28.77500343322754, 93.66194915771484, 100.44189453125, 64.09361267089844, -39.832157135009766, 65.69429016113281, 33.40887451171875, 12.101898193359375, -66.61470794677734, -6.310056209564209, -85.46473693847656, 136.18130493164062, 14.786043167114258], \"z\": [-170.71827697753906, 75.1948013305664, -141.0608367919922, 51.644264221191406, 27.6722469329834, -19.57146453857422, -30.817209243774414, -195.3509979248047, -45.128604888916016, 118.01179504394531, -89.9208984375, 33.44499206542969, 93.93621063232422, 46.51352310180664, -108.22899627685547, 40.05809783935547, -126.9835433959961, 9.347123146057129, -112.97498321533203, -82.33168029785156, 37.13526916503906, -119.01769256591797, -26.145431518554688, -25.341257095336914, 116.41095733642578, -6.546637058258057, 14.219388008117676, -84.14147186279297, -36.93205261230469, 15.166511535644531, -64.79019927978516, 93.34965515136719, -178.6120147705078, 126.21154022216797, -116.97299194335938, 122.24108123779297, 142.00367736816406, 40.11033630371094, -167.38427734375, -21.43437957763672, 13.985503196716309, 50.337127685546875, -143.72032165527344, 90.32244110107422, 200.65887451171875, -100.94999694824219, -66.85759735107422, 199.33534240722656, -8.136408805847168, 25.05634880065918, 71.54388427734375, -62.276756286621094, -36.36260986328125, -212.86521911621094, 25.317588806152344, -63.14399719238281, -135.34864807128906, 101.17678833007812, 133.681884765625, -60.68606948852539, 25.176227569580078, 196.42372131347656, 76.75587463378906, -23.371488571166992, 165.70761108398438, 40.0557975769043, -109.69200134277344, 21.012283325195312, 57.38862991333008, 58.374183654785156, 177.28924560546875, 150.75592041015625, -58.36247253417969, -40.17594528198242, 2.7307350635528564, 103.17447662353516, -122.52848052978516, -104.70011138916016, 60.84691619873047, -36.92721939086914, -58.816158294677734, -22.65174674987793, 116.56871032714844, -159.6761016845703, 138.5779571533203]}],\n",
       "                        {\"legend\": {\"tracegroupgap\": 0}, \"margin\": {\"t\": 60}, \"scene\": {\"domain\": {\"x\": [0.0, 1.0], \"y\": [0.0, 1.0]}, \"xaxis\": {\"title\": {\"text\": \"pc1\"}}, \"yaxis\": {\"title\": {\"text\": \"pc2\"}}, \"zaxis\": {\"title\": {\"text\": \"pc3\"}}}, \"template\": {\"data\": {\"bar\": [{\"error_x\": {\"color\": \"#2a3f5f\"}, \"error_y\": {\"color\": \"#2a3f5f\"}, \"marker\": {\"line\": {\"color\": \"#E5ECF6\", \"width\": 0.5}}, \"type\": \"bar\"}], \"barpolar\": [{\"marker\": {\"line\": {\"color\": \"#E5ECF6\", \"width\": 0.5}}, \"type\": \"barpolar\"}], \"carpet\": [{\"aaxis\": {\"endlinecolor\": \"#2a3f5f\", \"gridcolor\": \"white\", \"linecolor\": \"white\", \"minorgridcolor\": \"white\", \"startlinecolor\": \"#2a3f5f\"}, \"baxis\": {\"endlinecolor\": \"#2a3f5f\", \"gridcolor\": \"white\", \"linecolor\": \"white\", \"minorgridcolor\": \"white\", \"startlinecolor\": \"#2a3f5f\"}, \"type\": \"carpet\"}], \"choropleth\": [{\"colorbar\": {\"outlinewidth\": 0, \"ticks\": \"\"}, \"type\": \"choropleth\"}], \"contour\": [{\"colorbar\": {\"outlinewidth\": 0, \"ticks\": \"\"}, \"colorscale\": [[0.0, \"#0d0887\"], [0.1111111111111111, \"#46039f\"], [0.2222222222222222, \"#7201a8\"], [0.3333333333333333, \"#9c179e\"], [0.4444444444444444, \"#bd3786\"], [0.5555555555555556, \"#d8576b\"], [0.6666666666666666, \"#ed7953\"], [0.7777777777777778, \"#fb9f3a\"], [0.8888888888888888, \"#fdca26\"], [1.0, \"#f0f921\"]], \"type\": \"contour\"}], \"contourcarpet\": [{\"colorbar\": {\"outlinewidth\": 0, \"ticks\": \"\"}, \"type\": \"contourcarpet\"}], \"heatmap\": [{\"colorbar\": {\"outlinewidth\": 0, \"ticks\": \"\"}, \"colorscale\": [[0.0, \"#0d0887\"], [0.1111111111111111, \"#46039f\"], [0.2222222222222222, \"#7201a8\"], [0.3333333333333333, \"#9c179e\"], [0.4444444444444444, \"#bd3786\"], [0.5555555555555556, \"#d8576b\"], [0.6666666666666666, \"#ed7953\"], [0.7777777777777778, \"#fb9f3a\"], [0.8888888888888888, \"#fdca26\"], [1.0, \"#f0f921\"]], \"type\": \"heatmap\"}], \"heatmapgl\": [{\"colorbar\": {\"outlinewidth\": 0, \"ticks\": \"\"}, \"colorscale\": [[0.0, \"#0d0887\"], [0.1111111111111111, \"#46039f\"], [0.2222222222222222, \"#7201a8\"], [0.3333333333333333, \"#9c179e\"], [0.4444444444444444, \"#bd3786\"], [0.5555555555555556, \"#d8576b\"], [0.6666666666666666, \"#ed7953\"], [0.7777777777777778, \"#fb9f3a\"], [0.8888888888888888, \"#fdca26\"], [1.0, \"#f0f921\"]], \"type\": \"heatmapgl\"}], \"histogram\": [{\"marker\": {\"colorbar\": {\"outlinewidth\": 0, \"ticks\": \"\"}}, \"type\": \"histogram\"}], \"histogram2d\": [{\"colorbar\": {\"outlinewidth\": 0, \"ticks\": \"\"}, \"colorscale\": [[0.0, \"#0d0887\"], [0.1111111111111111, \"#46039f\"], [0.2222222222222222, \"#7201a8\"], [0.3333333333333333, \"#9c179e\"], [0.4444444444444444, \"#bd3786\"], [0.5555555555555556, \"#d8576b\"], [0.6666666666666666, \"#ed7953\"], [0.7777777777777778, \"#fb9f3a\"], [0.8888888888888888, \"#fdca26\"], [1.0, \"#f0f921\"]], \"type\": \"histogram2d\"}], \"histogram2dcontour\": [{\"colorbar\": {\"outlinewidth\": 0, \"ticks\": \"\"}, \"colorscale\": [[0.0, \"#0d0887\"], [0.1111111111111111, \"#46039f\"], [0.2222222222222222, \"#7201a8\"], [0.3333333333333333, \"#9c179e\"], [0.4444444444444444, \"#bd3786\"], [0.5555555555555556, \"#d8576b\"], [0.6666666666666666, \"#ed7953\"], [0.7777777777777778, \"#fb9f3a\"], [0.8888888888888888, \"#fdca26\"], [1.0, \"#f0f921\"]], \"type\": \"histogram2dcontour\"}], \"mesh3d\": [{\"colorbar\": {\"outlinewidth\": 0, \"ticks\": \"\"}, \"type\": \"mesh3d\"}], \"parcoords\": [{\"line\": {\"colorbar\": {\"outlinewidth\": 0, \"ticks\": \"\"}}, \"type\": \"parcoords\"}], \"pie\": [{\"automargin\": true, \"type\": \"pie\"}], \"scatter\": [{\"marker\": {\"colorbar\": {\"outlinewidth\": 0, \"ticks\": \"\"}}, \"type\": \"scatter\"}], \"scatter3d\": [{\"line\": {\"colorbar\": {\"outlinewidth\": 0, \"ticks\": \"\"}}, \"marker\": {\"colorbar\": {\"outlinewidth\": 0, \"ticks\": \"\"}}, \"type\": \"scatter3d\"}], \"scattercarpet\": [{\"marker\": {\"colorbar\": {\"outlinewidth\": 0, \"ticks\": \"\"}}, \"type\": \"scattercarpet\"}], \"scattergeo\": [{\"marker\": {\"colorbar\": {\"outlinewidth\": 0, \"ticks\": \"\"}}, \"type\": \"scattergeo\"}], \"scattergl\": [{\"marker\": {\"colorbar\": {\"outlinewidth\": 0, \"ticks\": \"\"}}, \"type\": \"scattergl\"}], \"scattermapbox\": [{\"marker\": {\"colorbar\": {\"outlinewidth\": 0, \"ticks\": \"\"}}, \"type\": \"scattermapbox\"}], \"scatterpolar\": [{\"marker\": {\"colorbar\": {\"outlinewidth\": 0, \"ticks\": \"\"}}, \"type\": \"scatterpolar\"}], \"scatterpolargl\": [{\"marker\": {\"colorbar\": {\"outlinewidth\": 0, \"ticks\": \"\"}}, \"type\": \"scatterpolargl\"}], \"scatterternary\": [{\"marker\": {\"colorbar\": {\"outlinewidth\": 0, \"ticks\": \"\"}}, \"type\": \"scatterternary\"}], \"surface\": [{\"colorbar\": {\"outlinewidth\": 0, \"ticks\": \"\"}, \"colorscale\": [[0.0, \"#0d0887\"], [0.1111111111111111, \"#46039f\"], [0.2222222222222222, \"#7201a8\"], [0.3333333333333333, \"#9c179e\"], [0.4444444444444444, \"#bd3786\"], [0.5555555555555556, \"#d8576b\"], [0.6666666666666666, \"#ed7953\"], [0.7777777777777778, \"#fb9f3a\"], [0.8888888888888888, \"#fdca26\"], [1.0, \"#f0f921\"]], \"type\": \"surface\"}], \"table\": [{\"cells\": {\"fill\": {\"color\": \"#EBF0F8\"}, \"line\": {\"color\": \"white\"}}, \"header\": {\"fill\": {\"color\": \"#C8D4E3\"}, \"line\": {\"color\": \"white\"}}, \"type\": \"table\"}]}, \"layout\": {\"annotationdefaults\": {\"arrowcolor\": \"#2a3f5f\", \"arrowhead\": 0, \"arrowwidth\": 1}, \"coloraxis\": {\"colorbar\": {\"outlinewidth\": 0, \"ticks\": \"\"}}, \"colorscale\": {\"diverging\": [[0, \"#8e0152\"], [0.1, \"#c51b7d\"], [0.2, \"#de77ae\"], [0.3, \"#f1b6da\"], [0.4, \"#fde0ef\"], [0.5, \"#f7f7f7\"], [0.6, \"#e6f5d0\"], [0.7, \"#b8e186\"], [0.8, \"#7fbc41\"], [0.9, \"#4d9221\"], [1, \"#276419\"]], \"sequential\": [[0.0, \"#0d0887\"], [0.1111111111111111, \"#46039f\"], [0.2222222222222222, \"#7201a8\"], [0.3333333333333333, \"#9c179e\"], [0.4444444444444444, \"#bd3786\"], [0.5555555555555556, \"#d8576b\"], [0.6666666666666666, \"#ed7953\"], [0.7777777777777778, \"#fb9f3a\"], [0.8888888888888888, \"#fdca26\"], [1.0, \"#f0f921\"]], \"sequentialminus\": [[0.0, \"#0d0887\"], [0.1111111111111111, \"#46039f\"], [0.2222222222222222, \"#7201a8\"], [0.3333333333333333, \"#9c179e\"], [0.4444444444444444, \"#bd3786\"], [0.5555555555555556, \"#d8576b\"], [0.6666666666666666, \"#ed7953\"], [0.7777777777777778, \"#fb9f3a\"], [0.8888888888888888, \"#fdca26\"], [1.0, \"#f0f921\"]]}, \"colorway\": [\"#636efa\", \"#EF553B\", \"#00cc96\", \"#ab63fa\", \"#FFA15A\", \"#19d3f3\", \"#FF6692\", \"#B6E880\", \"#FF97FF\", \"#FECB52\"], \"font\": {\"color\": \"#2a3f5f\"}, \"geo\": {\"bgcolor\": \"white\", \"lakecolor\": \"white\", \"landcolor\": \"#E5ECF6\", \"showlakes\": true, \"showland\": true, \"subunitcolor\": \"white\"}, \"hoverlabel\": {\"align\": \"left\"}, \"hovermode\": \"closest\", \"mapbox\": {\"style\": \"light\"}, \"paper_bgcolor\": \"white\", \"plot_bgcolor\": \"#E5ECF6\", \"polar\": {\"angularaxis\": {\"gridcolor\": \"white\", \"linecolor\": \"white\", \"ticks\": \"\"}, \"bgcolor\": \"#E5ECF6\", \"radialaxis\": {\"gridcolor\": \"white\", \"linecolor\": \"white\", \"ticks\": \"\"}}, \"scene\": {\"xaxis\": {\"backgroundcolor\": \"#E5ECF6\", \"gridcolor\": \"white\", \"gridwidth\": 2, \"linecolor\": \"white\", \"showbackground\": true, \"ticks\": \"\", \"zerolinecolor\": \"white\"}, \"yaxis\": {\"backgroundcolor\": \"#E5ECF6\", \"gridcolor\": \"white\", \"gridwidth\": 2, \"linecolor\": \"white\", \"showbackground\": true, \"ticks\": \"\", \"zerolinecolor\": \"white\"}, \"zaxis\": {\"backgroundcolor\": \"#E5ECF6\", \"gridcolor\": \"white\", \"gridwidth\": 2, \"linecolor\": \"white\", \"showbackground\": true, \"ticks\": \"\", \"zerolinecolor\": \"white\"}}, \"shapedefaults\": {\"line\": {\"color\": \"#2a3f5f\"}}, \"ternary\": {\"aaxis\": {\"gridcolor\": \"white\", \"linecolor\": \"white\", \"ticks\": \"\"}, \"baxis\": {\"gridcolor\": \"white\", \"linecolor\": \"white\", \"ticks\": \"\"}, \"bgcolor\": \"#E5ECF6\", \"caxis\": {\"gridcolor\": \"white\", \"linecolor\": \"white\", \"ticks\": \"\"}}, \"title\": {\"x\": 0.05}, \"xaxis\": {\"automargin\": true, \"gridcolor\": \"white\", \"linecolor\": \"white\", \"ticks\": \"\", \"title\": {\"standoff\": 15}, \"zerolinecolor\": \"white\", \"zerolinewidth\": 2}, \"yaxis\": {\"automargin\": true, \"gridcolor\": \"white\", \"linecolor\": \"white\", \"ticks\": \"\", \"title\": {\"standoff\": 15}, \"zerolinecolor\": \"white\", \"zerolinewidth\": 2}}}},\n",
       "                        {\"responsive\": true}\n",
       "                    ).then(function(){\n",
       "                            \n",
       "var gd = document.getElementById('93f8d54c-263a-4003-a465-768e147386a5');\n",
       "var x = new MutationObserver(function (mutations, observer) {{\n",
       "        var display = window.getComputedStyle(gd).display;\n",
       "        if (!display || display === 'none') {{\n",
       "            console.log([gd, 'removed!']);\n",
       "            Plotly.purge(gd);\n",
       "            observer.disconnect();\n",
       "        }}\n",
       "}});\n",
       "\n",
       "// Listen for the removal of the full notebook cells\n",
       "var notebookContainer = gd.closest('#notebook-container');\n",
       "if (notebookContainer) {{\n",
       "    x.observe(notebookContainer, {childList: true});\n",
       "}}\n",
       "\n",
       "// Listen for the clearing of the current output cell\n",
       "var outputEl = gd.closest('.output');\n",
       "if (outputEl) {{\n",
       "    x.observe(outputEl, {childList: true});\n",
       "}}\n",
       "\n",
       "                        })\n",
       "                };\n",
       "                });\n",
       "            </script>\n",
       "        </div>"
      ]
     },
     "metadata": {},
     "output_type": "display_data"
    }
   ],
   "source": [
    "df = pandas.DataFrame({\"pc1\": xs,\n",
    "                   \"pc2\": ys,\n",
    "                   \"pc3\": zs,\n",
    "                   # \"pc4\": bs[:100],\n",
    "                   \"source\": ns_fixed})\n",
    "\n",
    "fig = px.scatter_3d(df, x='pc1', y='pc2', z='pc3', \n",
    "                    # color='pc4', \n",
    "                    hover_name='source', opacity=0.4)\n",
    "fig.show()"
   ]
  },
  {
   "cell_type": "code",
   "execution_count": 191,
   "metadata": {},
   "outputs": [],
   "source": [
    "from sklearn import metrics"
   ]
  },
  {
   "cell_type": "code",
   "execution_count": 192,
   "metadata": {},
   "outputs": [
    {
     "data": {
      "text/plain": [
       "0.6572416420678999"
      ]
     },
     "execution_count": 192,
     "metadata": {},
     "output_type": "execute_result"
    }
   ],
   "source": [
    "metrics.silhouette_score(ns_repr_new, kmeans.labels_, metric='euclidean')"
   ]
  },
  {
   "cell_type": "code",
   "execution_count": 193,
   "metadata": {},
   "outputs": [
    {
     "data": {
      "text/plain": [
       "72.30732206294617"
      ]
     },
     "execution_count": 193,
     "metadata": {},
     "output_type": "execute_result"
    }
   ],
   "source": [
    "# higher better\n",
    "metrics.calinski_harabasz_score(ns_repr_new, kmeans.labels_)"
   ]
  },
  {
   "cell_type": "code",
   "execution_count": 194,
   "metadata": {},
   "outputs": [
    {
     "data": {
      "text/plain": [
       "0.5856989016710585"
      ]
     },
     "execution_count": 194,
     "metadata": {},
     "output_type": "execute_result"
    }
   ],
   "source": [
    "# closer to 0 better\n",
    "metrics.davies_bouldin_score(ns_repr_new, kmeans.labels_)"
   ]
  },
  {
   "cell_type": "code",
   "execution_count": null,
   "metadata": {},
   "outputs": [],
   "source": []
  }
 ],
 "metadata": {
  "kernelspec": {
   "display_name": "Python 3",
   "language": "python",
   "name": "python3"
  },
  "language_info": {
   "codemirror_mode": {
    "name": "ipython",
    "version": 3
   },
   "file_extension": ".py",
   "mimetype": "text/x-python",
   "name": "python",
   "nbconvert_exporter": "python",
   "pygments_lexer": "ipython3",
   "version": "3.8.6"
  }
 },
 "nbformat": 4,
 "nbformat_minor": 4
}
