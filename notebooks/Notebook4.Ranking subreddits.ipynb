{
 "cells": [
  {
   "cell_type": "markdown",
   "metadata": {},
   "source": [
    "# Ranking Subreddits\n",
    "\n",
    "Author: Junita Sirait\n",
    "\n",
    "Aim: to help with feature selection, we rank  subreddits based on their subscribers count. Then we will label them either `news_politics`, `nonnews_covid`, `entertainment`, `self_development`, `cultural`, `adult`, `other(specify)` based on their descriptions (and possibly posts), where:\n",
    "1. `news_politics` includes news-related and politics-related subreddits (includes activisms).\n",
    "2. `nonnews_covid` includes covid-related subreddits that are not news related.\n",
    "3. `entertainment` includes subreddits with references to entertainment (celebrities, fashion, music, movies, photos of cats, arts, books, games, travels, hobbies, photography, recipes, slangs, non-political religions, folklore, memes etc.)\n",
    "4. `self_development` includes subreddits where people share knowledge for self development such as knowledge about technology, psychology, investing, mental health, history, jobs, environment, etc.\n",
    "5. `cultural` includes culture specific subreddits, including race, religion, sexual orientation, gender, tribe, etc.\n",
    "6. `adult` includes subreddits whose discussions are meant for 18+ audiences.\n",
    "5. `other(specify)` include other types of subreddits not listed above, with specified type.\n",
    "\n",
    "\n",
    "Table of content:\n",
    "1. [Reading subreddit file](#sub1)\n",
    "2. [Ranking](#sub2)\n",
    "3. [Creating resulting `csv` file](#sub3)"
   ]
  },
  {
   "cell_type": "code",
   "execution_count": 27,
   "metadata": {},
   "outputs": [],
   "source": [
    "import json\n",
    "import csv\n",
    "import os\n",
    "\n",
    "from collections import Counter"
   ]
  },
  {
   "cell_type": "code",
   "execution_count": 4,
   "metadata": {},
   "outputs": [],
   "source": [
    "pd = os.path.split(os.getcwd())[0]"
   ]
  },
  {
   "cell_type": "markdown",
   "metadata": {},
   "source": [
    "<a id=\"sub1\"></a>\n",
    "## Reading subreddit file"
   ]
  },
  {
   "cell_type": "code",
   "execution_count": 10,
   "metadata": {},
   "outputs": [],
   "source": [
    "data_fp = os.path.join(pd,\"data/subreddits\")\n",
    "with open(os.path.join(data_fp,\"subreddit_subscribers.json\"), \"r\", encoding=\"utf-8\") as infile:\n",
    "    ss = Counter(json.load(infile))"
   ]
  },
  {
   "cell_type": "markdown",
   "metadata": {},
   "source": [
    "Let's clean the data by throwing out `None` type"
   ]
  },
  {
   "cell_type": "code",
   "execution_count": 16,
   "metadata": {},
   "outputs": [],
   "source": [
    "ss = Counter({k:v for k,v in ss.items() if v})"
   ]
  },
  {
   "cell_type": "markdown",
   "metadata": {},
   "source": [
    "<a id=\"sub2\"></a>\n",
    "## Ranking\n",
    "\n",
    "Let's extract the top 500 subreddits with the most subscribers."
   ]
  },
  {
   "cell_type": "code",
   "execution_count": 19,
   "metadata": {
    "scrolled": true
   },
   "outputs": [],
   "source": [
    "s500 = ss.most_common(500)"
   ]
  },
  {
   "cell_type": "code",
   "execution_count": 20,
   "metadata": {},
   "outputs": [
    {
     "data": {
      "text/plain": [
       "[('funny', 31060166),\n",
       " ('gaming', 26628444),\n",
       " ('aww', 25197817),\n",
       " ('pics', 24911449),\n",
       " ('science', 24268001)]"
      ]
     },
     "execution_count": 20,
     "metadata": {},
     "output_type": "execute_result"
    }
   ],
   "source": [
    "s500[:5] "
   ]
  },
  {
   "cell_type": "markdown",
   "metadata": {},
   "source": [
    "<a id=\"sub3\"></a>\n",
    "## Creating `csv` file"
   ]
  },
  {
   "cell_type": "code",
   "execution_count": 21,
   "metadata": {},
   "outputs": [],
   "source": [
    "fieldnames = [\"subreddit\", \"subscribers\", \"theme\"]"
   ]
  },
  {
   "cell_type": "code",
   "execution_count": 24,
   "metadata": {},
   "outputs": [],
   "source": [
    "rows = [{\"subreddit\":s, \"subscribers\":c, \"theme\":\"\"}  for s,c in s500 ]"
   ]
  },
  {
   "cell_type": "code",
   "execution_count": 25,
   "metadata": {},
   "outputs": [
    {
     "data": {
      "text/plain": [
       "[{'subreddit': 'funny', 'subscribers': 31060166, 'theme': ''},\n",
       " {'subreddit': 'gaming', 'subscribers': 26628444, 'theme': ''},\n",
       " {'subreddit': 'aww', 'subscribers': 25197817, 'theme': ''},\n",
       " {'subreddit': 'pics', 'subscribers': 24911449, 'theme': ''},\n",
       " {'subreddit': 'science', 'subscribers': 24268001, 'theme': ''}]"
      ]
     },
     "execution_count": 25,
     "metadata": {},
     "output_type": "execute_result"
    }
   ],
   "source": [
    "rows[:5]"
   ]
  },
  {
   "cell_type": "code",
   "execution_count": 28,
   "metadata": {},
   "outputs": [],
   "source": [
    "with open('subreddits_labels.csv', 'w', encoding='UTF8', newline='') as f:\n",
    "    writer = csv.DictWriter(f, fieldnames=fieldnames)\n",
    "    writer.writeheader()\n",
    "    writer.writerows(rows)"
   ]
  },
  {
   "cell_type": "code",
   "execution_count": null,
   "metadata": {},
   "outputs": [],
   "source": []
  },
  {
   "cell_type": "code",
   "execution_count": null,
   "metadata": {},
   "outputs": [],
   "source": []
  }
 ],
 "metadata": {
  "kernelspec": {
   "display_name": "Python 3",
   "language": "python",
   "name": "python3"
  },
  "language_info": {
   "codemirror_mode": {
    "name": "ipython",
    "version": 3
   },
   "file_extension": ".py",
   "mimetype": "text/x-python",
   "name": "python",
   "nbconvert_exporter": "python",
   "pygments_lexer": "ipython3",
   "version": "3.8.6"
  }
 },
 "nbformat": 4,
 "nbformat_minor": 4
}
