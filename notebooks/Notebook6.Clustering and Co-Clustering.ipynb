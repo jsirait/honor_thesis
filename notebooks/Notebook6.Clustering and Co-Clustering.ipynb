{
 "cells": [
  {
   "cell_type": "markdown",
   "metadata": {},
   "source": [
    "# Preliminary Look and Clustering News Sources\n",
    "\n",
    "Junita Sirait\n",
    "\n",
    "I would like to cluster news sources based on in which subreddits they appear. First I will use k-means algorithm, then I will try out other algorithms such as DBSCAN and others. \n",
    "\n",
    "Table of contents:\n",
    "1. [Exploring subreddits](#sub1)\n",
    "2. [Exploring news sources](#sub1)\n",
    "3. [In how many subreddits do these news sources appear?](#sub3)"
   ]
  },
  {
   "cell_type": "code",
   "execution_count": 352,
   "metadata": {},
   "outputs": [],
   "source": [
    "import json\n",
    "import pandas as pd\n",
    "import numpy as np\n",
    "import statistics\n",
    "\n",
    "from collections import Counter, defaultdict\n",
    "import matplotlib.pyplot as plt\n",
    "import seaborn as sns\n",
    "from sklearn.cluster import KMeans\n",
    "from sklearn.metrics import silhouette_score\n",
    "from sklearn.preprocessing import StandardScaler\n",
    "\n",
    "from sklearn import preprocessing\n",
    "\n",
    "from sklearn.metrics import silhouette_score\n",
    "from kneed import KneeLocator\n",
    "\n",
    "from scipy.interpolate import make_interp_spline, BSpline\n",
    "\n",
    "from sklearn.decomposition import PCA\n",
    "\n",
    "import math\n",
    "\n",
    "from sklearn.feature_selection import SelectKBest\n",
    "import os"
   ]
  },
  {
   "cell_type": "markdown",
   "metadata": {},
   "source": [
    "<a id=\"sub1\"></a>\n",
    "## Exploring subreddits"
   ]
  },
  {
   "cell_type": "code",
   "execution_count": 353,
   "metadata": {},
   "outputs": [],
   "source": [
    "pd = os.path.split(os.getcwd())[0]\n",
    "data_fp = os.path.join(pd,\"data/gm-newssources-subreddits\")\n",
    "dfp = os.path.join(pd,\"data\")"
   ]
  },
  {
   "cell_type": "code",
   "execution_count": 354,
   "metadata": {},
   "outputs": [],
   "source": [
    "# with open (\"gmw_intersection.json\", \"r\", encoding = \"utf-8\") as infile:\n",
    "#     gmw_intersection = json.load(infile)"
   ]
  },
  {
   "cell_type": "code",
   "execution_count": 355,
   "metadata": {},
   "outputs": [],
   "source": [
    "with open (os.path.join(dfp,\"gmm_intersection.json\"), \"r\", encoding = \"utf-8\") as infile:\n",
    "    gmm_intersection = json.load(infile)"
   ]
  },
  {
   "cell_type": "code",
   "execution_count": 356,
   "metadata": {},
   "outputs": [
    {
     "data": {
      "text/plain": [
       "1631"
      ]
     },
     "execution_count": 356,
     "metadata": {},
     "output_type": "execute_result"
    }
   ],
   "source": [
    "len(gmm_intersection)"
   ]
  },
  {
   "cell_type": "code",
   "execution_count": 357,
   "metadata": {},
   "outputs": [],
   "source": [
    "with open (os.path.join(dfp,\"gm_intersection.json\"), \"r\", encoding = \"utf-8\") as infile:\n",
    "    gm_intersection = json.load(infile)"
   ]
  },
  {
   "cell_type": "code",
   "execution_count": 358,
   "metadata": {},
   "outputs": [
    {
     "data": {
      "text/plain": [
       "42477"
      ]
     },
     "execution_count": 358,
     "metadata": {},
     "output_type": "execute_result"
    }
   ],
   "source": [
    "len(gm_intersection)"
   ]
  },
  {
   "cell_type": "code",
   "execution_count": 423,
   "metadata": {},
   "outputs": [],
   "source": [
    "# Reading in all the subreddits in our files\n",
    "\n",
    "with open(os.path.join(data_fp,\"subreddit_ns_2021-01.json\"), \"r\", encoding = \"utf-8\") as infile1a:\n",
    "    subreddit_ns_jan = json.load(infile1a)\n",
    "\n",
    "with open(os.path.join(data_fp,\"subreddit_ns_2021-02.json\"), \"r\", encoding = \"utf-8\") as infile2a:\n",
    "    subreddit_ns_feb = json.load(infile2a)\n",
    "    \n",
    "with open(os.path.join(data_fp,\"subreddit_ns_2021-03.json\"), \"r\", encoding = \"utf-8\") as infile3a:\n",
    "    subreddit_ns_march = json.load(infile3a)\n",
    "    \n",
    "with open(os.path.join(data_fp,\"subreddit_ns_2021-04.json\"), \"r\", encoding = \"utf-8\") as infile4a:\n",
    "    subreddit_ns_april = json.load(infile4a)\n",
    "    \n",
    "with open(os.path.join(data_fp,\"subreddit_ns_2021-05.json\"), \"r\", encoding = \"utf-8\") as infile5a:\n",
    "    subreddit_ns_may = json.load(infile5a)\n",
    "    \n",
    "with open(os.path.join(data_fp,\"subreddit_ns_2021-06.json\"), \"r\", encoding = \"utf-8\") as infile6a:\n",
    "    subreddit_ns_jun = json.load(infile6a)"
   ]
  },
  {
   "cell_type": "code",
   "execution_count": 360,
   "metadata": {
    "scrolled": true
   },
   "outputs": [
    {
     "name": "stdout",
     "output_type": "stream",
     "text": [
      "\n",
      "    number of subreddits from\n",
      "        jan: 411723,\n",
      "        feb: 415962,\n",
      "        march: 439023,\n",
      "        april: 438864,\n",
      "        may: 467455,\n",
      "        june: 485362\n",
      "    \n"
     ]
    }
   ],
   "source": [
    "print(f'''\n",
    "    number of subreddits from\n",
    "        jan: {len(subreddit_ns_jan)},\n",
    "        feb: {len(subreddit_ns_feb)},\n",
    "        march: {len(subreddit_ns_march)},\n",
    "        april: {len(subreddit_ns_april)},\n",
    "        may: {len(subreddit_ns_may)},\n",
    "        june: {len(subreddit_ns_jun)}\n",
    "    ''')"
   ]
  },
  {
   "cell_type": "code",
   "execution_count": 361,
   "metadata": {
    "scrolled": true
   },
   "outputs": [
    {
     "name": "stdout",
     "output_type": "stream",
     "text": [
      "intersection: 93552\n"
     ]
    }
   ],
   "source": [
    "# what about their intersection?\n",
    "sr_intersection = (\n",
    "      set(subreddit_ns_jan) & set(subreddit_ns_feb) &\n",
    "      set(subreddit_ns_march) & set(subreddit_ns_april) &\n",
    "      set(subreddit_ns_may) & set(subreddit_ns_jun))\n",
    "\n",
    "print(\"intersection:\", len(sr_intersection))"
   ]
  },
  {
   "cell_type": "code",
   "execution_count": 362,
   "metadata": {},
   "outputs": [
    {
     "name": "stdout",
     "output_type": "stream",
     "text": [
      "union: 1619721\n"
     ]
    }
   ],
   "source": [
    "sr_union = (\n",
    "      set(subreddit_ns_jan) | set(subreddit_ns_feb) |\n",
    "      set(subreddit_ns_march) | set(subreddit_ns_april) |\n",
    "      set(subreddit_ns_may) | set(subreddit_ns_jun))\n",
    "\n",
    "print(\"union:\", len(sr_union))"
   ]
  },
  {
   "cell_type": "markdown",
   "metadata": {},
   "source": [
    "Let's use the intersection in an alphabetical order as a fixed order of our subreddits."
   ]
  },
  {
   "cell_type": "code",
   "execution_count": 363,
   "metadata": {},
   "outputs": [],
   "source": [
    "subs = sorted(set(subreddit_ns_jan) & set(subreddit_ns_feb) &\n",
    "      set(subreddit_ns_march) & set(subreddit_ns_april) &\n",
    "      set(subreddit_ns_may) & set(subreddit_ns_jun))"
   ]
  },
  {
   "cell_type": "code",
   "execution_count": 364,
   "metadata": {},
   "outputs": [
    {
     "data": {
      "text/plain": [
       "['007', '00AG9603', '00sAesthetics', '00sBabies', '00sRock']"
      ]
     },
     "execution_count": 364,
     "metadata": {},
     "output_type": "execute_result"
    }
   ],
   "source": [
    "subs[:5]"
   ]
  },
  {
   "cell_type": "markdown",
   "metadata": {},
   "source": [
    "<a id=\"sub2\"></a>\n",
    "## Exploring news sources"
   ]
  },
  {
   "cell_type": "code",
   "execution_count": 424,
   "metadata": {},
   "outputs": [],
   "source": [
    "# ns_subreddit\n",
    "with open(os.path.join(data_fp,\"ns_subreddit_2021-01.json\")) as infile1:\n",
    "    ns_subreddit_01 = json.load(infile1)\n",
    "    \n",
    "with open(os.path.join(data_fp,\"ns_subreddit_2021-02.json\")) as infile2:\n",
    "    ns_subreddit_02 = json.load(infile2)\n",
    "    \n",
    "with open(os.path.join(data_fp,\"ns_subreddit_2021-03.json\")) as infile3:\n",
    "    ns_subreddit_03 = json.load(infile3)\n",
    "    \n",
    "with open(os.path.join(data_fp,\"ns_subreddit_2021-04.json\")) as infile4:\n",
    "    ns_subreddit_04 = json.load(infile4)\n",
    "    \n",
    "with open(os.path.join(data_fp,\"ns_subreddit_2021-05.json\")) as infile5:\n",
    "    ns_subreddit_05 = json.load(infile5)\n",
    "    \n",
    "with open(os.path.join(data_fp,\"ns_subreddit_2021-06.json\")) as infile6:\n",
    "    ns_subreddit_06 = json.load(infile6)"
   ]
  },
  {
   "cell_type": "markdown",
   "metadata": {},
   "source": [
    "How many news sources are there?"
   ]
  },
  {
   "cell_type": "code",
   "execution_count": 366,
   "metadata": {},
   "outputs": [
    {
     "data": {
      "text/plain": [
       "24286"
      ]
     },
     "execution_count": 366,
     "metadata": {},
     "output_type": "execute_result"
    }
   ],
   "source": [
    "# union\n",
    "ns_union = (set(ns_subreddit_01) |\n",
    "       set(ns_subreddit_02) |\n",
    "       set(ns_subreddit_03) |\n",
    "       set(ns_subreddit_04) |\n",
    "       set(ns_subreddit_05) |\n",
    "       set(ns_subreddit_06))\n",
    "\n",
    "len(ns_union)"
   ]
  },
  {
   "cell_type": "code",
   "execution_count": 367,
   "metadata": {},
   "outputs": [],
   "source": [
    "nss = (set(ns_subreddit_01) &\n",
    "       set(ns_subreddit_02) &\n",
    "       set(ns_subreddit_03) &\n",
    "       set(ns_subreddit_04) &\n",
    "       set(ns_subreddit_05) &\n",
    "       set(ns_subreddit_06))"
   ]
  },
  {
   "cell_type": "code",
   "execution_count": 368,
   "metadata": {},
   "outputs": [
    {
     "data": {
      "text/plain": [
       "9187"
      ]
     },
     "execution_count": 368,
     "metadata": {},
     "output_type": "execute_result"
    }
   ],
   "source": [
    "num_ns = len(nss)\n",
    "num_ns"
   ]
  },
  {
   "cell_type": "markdown",
   "metadata": {},
   "source": [
    "## For each news source, let's count in how many subreddits they appear"
   ]
  },
  {
   "cell_type": "code",
   "execution_count": 369,
   "metadata": {},
   "outputs": [],
   "source": [
    "subreddit_count = dict()\n",
    "for ns in ns_union:\n",
    "    subreddit_count[ns] = len(set(ns_subreddit_01.get(ns, dict()).keys()) \n",
    "                               | set(ns_subreddit_02.get(ns, dict()).keys()) \n",
    "                               | set(ns_subreddit_03.get(ns, dict()).keys()) \n",
    "                               | set(ns_subreddit_04.get(ns, dict()).keys())\n",
    "                               | set(ns_subreddit_05.get(ns, dict()).keys()) \n",
    "                               | set(ns_subreddit_06.get(ns, dict()).keys()))"
   ]
  },
  {
   "cell_type": "markdown",
   "metadata": {},
   "source": [
    "`subreddit_count` stores in how many subreddits each news source appears."
   ]
  },
  {
   "cell_type": "code",
   "execution_count": 370,
   "metadata": {},
   "outputs": [
    {
     "data": {
      "text/plain": [
       "6698"
      ]
     },
     "execution_count": 370,
     "metadata": {},
     "output_type": "execute_result"
    }
   ],
   "source": [
    "subreddit_count['nytimes.com']"
   ]
  },
  {
   "cell_type": "code",
   "execution_count": 371,
   "metadata": {},
   "outputs": [
    {
     "data": {
      "text/plain": [
       "{1: 4638,\n",
       " 2: 2811,\n",
       " 3: 1929,\n",
       " 4: 1441,\n",
       " 5: 1132,\n",
       " 6: 965,\n",
       " 7: 768,\n",
       " 8: 692,\n",
       " 9: 576,\n",
       " 10: 478,\n",
       " 11: 446,\n",
       " 12: 379,\n",
       " 13: 346,\n",
       " 14: 340,\n",
       " 15: 317,\n",
       " 17: 259,\n",
       " 18: 253,\n",
       " 16: 253,\n",
       " 19: 210,\n",
       " 21: 195,\n",
       " 20: 186,\n",
       " 22: 170,\n",
       " 24: 166,\n",
       " 23: 148,\n",
       " 25: 130,\n",
       " 26: 129,\n",
       " 27: 119,\n",
       " 30: 116,\n",
       " 29: 109,\n",
       " 28: 104,\n",
       " 34: 100,\n",
       " 31: 96,\n",
       " 35: 95,\n",
       " 33: 92,\n",
       " 36: 86,\n",
       " 32: 81,\n",
       " 38: 78,\n",
       " 37: 73,\n",
       " 39: 69,\n",
       " 41: 69,\n",
       " 42: 67,\n",
       " 45: 63,\n",
       " 44: 62,\n",
       " 46: 60,\n",
       " 40: 59,\n",
       " 43: 56,\n",
       " 50: 55,\n",
       " 47: 54,\n",
       " 49: 52,\n",
       " 48: 48,\n",
       " 57: 47,\n",
       " 54: 47,\n",
       " 55: 46,\n",
       " 56: 46,\n",
       " 52: 45,\n",
       " 53: 43,\n",
       " 51: 42,\n",
       " 58: 38,\n",
       " 65: 37,\n",
       " 59: 34,\n",
       " 67: 34,\n",
       " 78: 33,\n",
       " 66: 33,\n",
       " 63: 32,\n",
       " 62: 32,\n",
       " 61: 31,\n",
       " 64: 31,\n",
       " 71: 29,\n",
       " 60: 29,\n",
       " 70: 29,\n",
       " 84: 28,\n",
       " 69: 28,\n",
       " 74: 28,\n",
       " 77: 27,\n",
       " 72: 27,\n",
       " 89: 26,\n",
       " 75: 26,\n",
       " 68: 26,\n",
       " 93: 25,\n",
       " 94: 24,\n",
       " 91: 24,\n",
       " 79: 23,\n",
       " 76: 23,\n",
       " 80: 22,\n",
       " 81: 22,\n",
       " 95: 21,\n",
       " 97: 20,\n",
       " 73: 20,\n",
       " 102: 20,\n",
       " 105: 19,\n",
       " 85: 18,\n",
       " 88: 18,\n",
       " 110: 17,\n",
       " 92: 17,\n",
       " 83: 16,\n",
       " 121: 16,\n",
       " 90: 16,\n",
       " 86: 15,\n",
       " 103: 15,\n",
       " 107: 15,\n",
       " 108: 15,\n",
       " 82: 15,\n",
       " 112: 15,\n",
       " 140: 15,\n",
       " 114: 14,\n",
       " 96: 14,\n",
       " 117: 14,\n",
       " 118: 14,\n",
       " 104: 13,\n",
       " 106: 13,\n",
       " 98: 13,\n",
       " 111: 13,\n",
       " 151: 13,\n",
       " 109: 13,\n",
       " 87: 13,\n",
       " 100: 12,\n",
       " 116: 12,\n",
       " 113: 12,\n",
       " 159: 11,\n",
       " 155: 11,\n",
       " 171: 11,\n",
       " 138: 11,\n",
       " 124: 11,\n",
       " 122: 11,\n",
       " 134: 11,\n",
       " 123: 11,\n",
       " 161: 10,\n",
       " 145: 10,\n",
       " 150: 10,\n",
       " 127: 10,\n",
       " 119: 10,\n",
       " 141: 10,\n",
       " 130: 10,\n",
       " 194: 9,\n",
       " 175: 9,\n",
       " 142: 9,\n",
       " 136: 9,\n",
       " 162: 9,\n",
       " 149: 9,\n",
       " 126: 9,\n",
       " 137: 9,\n",
       " 167: 9,\n",
       " 266: 9,\n",
       " 169: 9,\n",
       " 125: 9,\n",
       " 148: 9,\n",
       " 200: 8,\n",
       " 120: 8,\n",
       " 146: 8,\n",
       " 147: 8,\n",
       " 202: 8,\n",
       " 191: 8,\n",
       " 196: 8,\n",
       " 99: 8,\n",
       " 135: 8,\n",
       " 128: 8,\n",
       " 170: 8,\n",
       " 144: 8,\n",
       " 160: 8,\n",
       " 139: 7,\n",
       " 226: 7,\n",
       " 158: 7,\n",
       " 153: 7,\n",
       " 180: 7,\n",
       " 163: 7,\n",
       " 115: 7,\n",
       " 234: 7,\n",
       " 211: 7,\n",
       " 273: 7,\n",
       " 129: 7,\n",
       " 143: 7,\n",
       " 228: 7,\n",
       " 131: 7,\n",
       " 213: 7,\n",
       " 179: 6,\n",
       " 267: 6,\n",
       " 154: 6,\n",
       " 230: 6,\n",
       " 193: 6,\n",
       " 132: 6,\n",
       " 156: 6,\n",
       " 101: 6,\n",
       " 133: 6,\n",
       " 274: 6,\n",
       " 229: 6,\n",
       " 177: 6,\n",
       " 183: 6,\n",
       " 208: 6,\n",
       " 218: 5,\n",
       " 186: 5,\n",
       " 279: 5,\n",
       " 165: 5,\n",
       " 263: 5,\n",
       " 206: 5,\n",
       " 182: 5,\n",
       " 216: 5,\n",
       " 187: 5,\n",
       " 326: 5,\n",
       " 254: 5,\n",
       " 152: 5,\n",
       " 252: 5,\n",
       " 293: 4,\n",
       " 384: 4,\n",
       " 258: 4,\n",
       " 207: 4,\n",
       " 344: 4,\n",
       " 210: 4,\n",
       " 250: 4,\n",
       " 262: 4,\n",
       " 157: 4,\n",
       " 198: 4,\n",
       " 232: 4,\n",
       " 237: 4,\n",
       " 168: 4,\n",
       " 238: 4,\n",
       " 284: 4,\n",
       " 245: 4,\n",
       " 223: 4,\n",
       " 164: 4,\n",
       " 172: 4,\n",
       " 214: 4,\n",
       " 316: 4,\n",
       " 173: 4,\n",
       " 236: 4,\n",
       " 189: 4,\n",
       " 265: 4,\n",
       " 174: 4,\n",
       " 219: 4,\n",
       " 212: 4,\n",
       " 225: 4,\n",
       " 318: 4,\n",
       " 256: 4,\n",
       " 184: 4,\n",
       " 220: 4,\n",
       " 433: 3,\n",
       " 387: 3,\n",
       " 231: 3,\n",
       " 314: 3,\n",
       " 188: 3,\n",
       " 215: 3,\n",
       " 178: 3,\n",
       " 290: 3,\n",
       " 341: 3,\n",
       " 307: 3,\n",
       " 528: 3,\n",
       " 370: 3,\n",
       " 278: 3,\n",
       " 185: 3,\n",
       " 197: 3,\n",
       " 452: 3,\n",
       " 367: 3,\n",
       " 382: 3,\n",
       " 217: 3,\n",
       " 365: 3,\n",
       " 343: 3,\n",
       " 498: 3,\n",
       " 221: 3,\n",
       " 331: 3,\n",
       " 294: 3,\n",
       " 298: 3,\n",
       " 264: 3,\n",
       " 689: 3,\n",
       " 244: 3,\n",
       " 253: 3,\n",
       " 199: 3,\n",
       " 291: 3,\n",
       " 240: 3,\n",
       " 222: 3,\n",
       " 565: 3,\n",
       " 260: 3,\n",
       " 248: 3,\n",
       " 459: 3,\n",
       " 224: 3,\n",
       " 392: 3,\n",
       " 422: 3,\n",
       " 204: 3,\n",
       " 421: 3,\n",
       " 409: 2,\n",
       " 816: 2,\n",
       " 619: 2,\n",
       " 325: 2,\n",
       " 389: 2,\n",
       " 261: 2,\n",
       " 239: 2,\n",
       " 520: 2,\n",
       " 615: 2,\n",
       " 346: 2,\n",
       " 300: 2,\n",
       " 249: 2,\n",
       " 1078: 2,\n",
       " 584: 2,\n",
       " 882: 2,\n",
       " 1011: 2,\n",
       " 243: 2,\n",
       " 277: 2,\n",
       " 491: 2,\n",
       " 524: 2,\n",
       " 251: 2,\n",
       " 381: 2,\n",
       " 288: 2,\n",
       " 190: 2,\n",
       " 505: 2,\n",
       " 371: 2,\n",
       " 297: 2,\n",
       " 1083: 2,\n",
       " 559: 2,\n",
       " 434: 2,\n",
       " 374: 2,\n",
       " 280: 2,\n",
       " 1345: 2,\n",
       " 487: 2,\n",
       " 718: 2,\n",
       " 241: 2,\n",
       " 352: 2,\n",
       " 671: 2,\n",
       " 1137: 2,\n",
       " 181: 2,\n",
       " 351: 2,\n",
       " 507: 2,\n",
       " 308: 2,\n",
       " 566: 2,\n",
       " 283: 2,\n",
       " 287: 2,\n",
       " 508: 2,\n",
       " 289: 2,\n",
       " 563: 2,\n",
       " 282: 2,\n",
       " 205: 2,\n",
       " 268: 2,\n",
       " 296: 2,\n",
       " 581: 2,\n",
       " 304: 2,\n",
       " 271: 2,\n",
       " 363: 2,\n",
       " 473: 2,\n",
       " 203: 2,\n",
       " 640: 2,\n",
       " 324: 2,\n",
       " 227: 2,\n",
       " 665: 2,\n",
       " 673: 2,\n",
       " 368: 2,\n",
       " 354: 2,\n",
       " 322: 2,\n",
       " 233: 2,\n",
       " 192: 2,\n",
       " 453: 2,\n",
       " 477: 2,\n",
       " 413: 2,\n",
       " 305: 2,\n",
       " 715: 2,\n",
       " 313: 2,\n",
       " 166: 2,\n",
       " 330: 2,\n",
       " 312: 2,\n",
       " 427: 2,\n",
       " 503: 2,\n",
       " 309: 2,\n",
       " 372: 2,\n",
       " 914: 2,\n",
       " 1231: 2,\n",
       " 292: 2,\n",
       " 176: 2,\n",
       " 1811: 2,\n",
       " 1342: 2,\n",
       " 295: 2,\n",
       " 310: 2,\n",
       " 350: 2,\n",
       " 460: 2,\n",
       " 281: 2,\n",
       " 235: 2,\n",
       " 328: 2,\n",
       " 712: 2,\n",
       " 466: 2,\n",
       " 369: 1,\n",
       " 758: 1,\n",
       " 865: 1,\n",
       " 276: 1,\n",
       " 4334: 1,\n",
       " 456: 1,\n",
       " 146880: 1,\n",
       " 974: 1,\n",
       " 450: 1,\n",
       " 8386: 1,\n",
       " 29649: 1,\n",
       " 6209: 1,\n",
       " 542: 1,\n",
       " 501: 1,\n",
       " 2243: 1,\n",
       " 519: 1,\n",
       " 12630: 1,\n",
       " 877: 1,\n",
       " 5096: 1,\n",
       " 862: 1,\n",
       " 499: 1,\n",
       " 531: 1,\n",
       " 455: 1,\n",
       " 760: 1,\n",
       " 1907: 1,\n",
       " 495: 1,\n",
       " 2413: 1,\n",
       " 471: 1,\n",
       " 989: 1,\n",
       " 751: 1,\n",
       " 622: 1,\n",
       " 2423: 1,\n",
       " 257: 1,\n",
       " 1328: 1,\n",
       " 1233: 1,\n",
       " 3918: 1,\n",
       " 567: 1,\n",
       " 3748: 1,\n",
       " 1867: 1,\n",
       " 3589: 1,\n",
       " 3582: 1,\n",
       " 1088: 1,\n",
       " 2857: 1,\n",
       " 1130: 1,\n",
       " 942: 1,\n",
       " 1547: 1,\n",
       " 529: 1,\n",
       " 419: 1,\n",
       " 480: 1,\n",
       " 490: 1,\n",
       " 543: 1,\n",
       " 14340: 1,\n",
       " 441: 1,\n",
       " 333: 1,\n",
       " 399: 1,\n",
       " 2056: 1,\n",
       " 662: 1,\n",
       " 275: 1,\n",
       " 444: 1,\n",
       " 3400: 1,\n",
       " 807: 1,\n",
       " 1331: 1,\n",
       " 553: 1,\n",
       " 556: 1,\n",
       " 1303: 1,\n",
       " 659: 1,\n",
       " 1224: 1,\n",
       " 342: 1,\n",
       " 649: 1,\n",
       " 1189: 1,\n",
       " 1193: 1,\n",
       " 426: 1,\n",
       " 753: 1,\n",
       " 872: 1,\n",
       " 311: 1,\n",
       " 533: 1,\n",
       " 4383: 1,\n",
       " 600: 1,\n",
       " 412: 1,\n",
       " 538: 1,\n",
       " 999: 1,\n",
       " 1049: 1,\n",
       " 796: 1,\n",
       " 323: 1,\n",
       " 627: 1,\n",
       " 286: 1,\n",
       " 1299: 1,\n",
       " 5533: 1,\n",
       " 1406: 1,\n",
       " 2785: 1,\n",
       " 792: 1,\n",
       " 913: 1,\n",
       " 2922: 1,\n",
       " 664: 1,\n",
       " 494: 1,\n",
       " 540: 1,\n",
       " 2294: 1,\n",
       " 1199: 1,\n",
       " 358: 1,\n",
       " 32953: 1,\n",
       " 1070: 1,\n",
       " 377: 1,\n",
       " 355: 1,\n",
       " 887: 1,\n",
       " 772: 1,\n",
       " 1986: 1,\n",
       " 4645: 1,\n",
       " 1462003: 1,\n",
       " 301: 1,\n",
       " 46700: 1,\n",
       " 1136: 1,\n",
       " 391: 1,\n",
       " 544: 1,\n",
       " 1007: 1,\n",
       " 1464: 1,\n",
       " 19669: 1,\n",
       " 587: 1,\n",
       " 3304: 1,\n",
       " 34099: 1,\n",
       " 1051: 1,\n",
       " 634: 1,\n",
       " 830: 1,\n",
       " 2207: 1,\n",
       " 578: 1,\n",
       " 655: 1,\n",
       " 395: 1,\n",
       " 3253: 1,\n",
       " 1608: 1,\n",
       " 1237: 1,\n",
       " 317: 1,\n",
       " 1590: 1,\n",
       " 1816: 1,\n",
       " 755: 1,\n",
       " 966: 1,\n",
       " 345: 1,\n",
       " 1625: 1,\n",
       " 2567: 1,\n",
       " 457: 1,\n",
       " 396: 1,\n",
       " 5966: 1,\n",
       " 404: 1,\n",
       " 423: 1,\n",
       " 4638: 1,\n",
       " 259: 1,\n",
       " 2867: 1,\n",
       " 3006: 1,\n",
       " 2637: 1,\n",
       " 823: 1,\n",
       " 1721: 1,\n",
       " 1082: 1,\n",
       " 464: 1,\n",
       " 1312: 1,\n",
       " 701: 1,\n",
       " 193015: 1,\n",
       " 1046: 1,\n",
       " 1258: 1,\n",
       " 1841: 1,\n",
       " 741: 1,\n",
       " 11291: 1,\n",
       " 692: 1,\n",
       " 804: 1,\n",
       " 1884: 1,\n",
       " 750: 1,\n",
       " 255: 1,\n",
       " 580: 1,\n",
       " 327: 1,\n",
       " 679: 1,\n",
       " 497: 1,\n",
       " 1028: 1,\n",
       " 4058: 1,\n",
       " 698: 1,\n",
       " 1044: 1,\n",
       " 667: 1,\n",
       " 201: 1,\n",
       " 272: 1,\n",
       " 364: 1,\n",
       " 601: 1,\n",
       " 1947: 1,\n",
       " 874: 1,\n",
       " 1326: 1,\n",
       " 677: 1,\n",
       " 905: 1,\n",
       " 303: 1,\n",
       " 1281: 1,\n",
       " 1479: 1,\n",
       " 8929: 1,\n",
       " 813: 1,\n",
       " 2095: 1,\n",
       " 1041: 1,\n",
       " 11959: 1,\n",
       " 7039: 1,\n",
       " 2450: 1,\n",
       " 1545: 1,\n",
       " 658: 1,\n",
       " 616: 1,\n",
       " 500: 1,\n",
       " 523: 1,\n",
       " 617: 1,\n",
       " 828: 1,\n",
       " 366: 1,\n",
       " 562: 1,\n",
       " 1982: 1,\n",
       " 1522: 1,\n",
       " 1627: 1,\n",
       " 1311: 1,\n",
       " 379: 1,\n",
       " 486: 1,\n",
       " 945: 1,\n",
       " 984: 1,\n",
       " 697: 1,\n",
       " 880: 1,\n",
       " 787: 1,\n",
       " 1540: 1,\n",
       " 446: 1,\n",
       " 1140: 1,\n",
       " 15247: 1,\n",
       " 869: 1,\n",
       " 3466: 1,\n",
       " 2672: 1,\n",
       " 1050: 1,\n",
       " 599: 1,\n",
       " 1171: 1,\n",
       " 1632: 1,\n",
       " 666: 1,\n",
       " 408: 1,\n",
       " 1440: 1,\n",
       " 2764: 1,\n",
       " 1008: 1,\n",
       " 1850: 1,\n",
       " 2424: 1,\n",
       " 1560: 1,\n",
       " 670: 1,\n",
       " 571: 1,\n",
       " 2331: 1,\n",
       " 410: 1,\n",
       " 485: 1,\n",
       " 269: 1,\n",
       " 873: 1,\n",
       " 4260: 1,\n",
       " 432: 1,\n",
       " 4329: 1,\n",
       " 1075: 1,\n",
       " 541: 1,\n",
       " 302: 1,\n",
       " 978: 1,\n",
       " 424: 1,\n",
       " 1277: 1,\n",
       " 1515: 1,\n",
       " 1458: 1,\n",
       " 1168: 1,\n",
       " 378: 1,\n",
       " 2180: 1,\n",
       " 7535: 1,\n",
       " 767: 1,\n",
       " 537: 1,\n",
       " 339: 1,\n",
       " 246: 1,\n",
       " 6902: 1,\n",
       " 1138: 1,\n",
       " 443: 1,\n",
       " 397: 1,\n",
       " 1393: 1,\n",
       " 209: 1,\n",
       " 856: 1,\n",
       " 604: 1,\n",
       " 1135: 1,\n",
       " 1457: 1,\n",
       " 517: 1,\n",
       " 1506: 1,\n",
       " 516: 1,\n",
       " 4696: 1,\n",
       " 356: 1,\n",
       " 1055: 1,\n",
       " 18230: 1,\n",
       " 3059: 1,\n",
       " 6641: 1,\n",
       " 577: 1,\n",
       " 997: 1,\n",
       " 1411: 1,\n",
       " 3705: 1,\n",
       " 1022: 1,\n",
       " 1965: 1,\n",
       " 437: 1,\n",
       " 10277: 1,\n",
       " 737: 1,\n",
       " 638: 1,\n",
       " 400: 1,\n",
       " 2667: 1,\n",
       " 2296: 1,\n",
       " 976: 1,\n",
       " 1047: 1,\n",
       " 359: 1,\n",
       " 645: 1,\n",
       " 19308: 1,\n",
       " 337: 1,\n",
       " 7030: 1,\n",
       " 398: 1,\n",
       " 717: 1,\n",
       " 7877: 1,\n",
       " 247: 1,\n",
       " 694: 1,\n",
       " 1282: 1,\n",
       " 545: 1,\n",
       " 445: 1,\n",
       " 835: 1,\n",
       " 402: 1,\n",
       " 2264: 1,\n",
       " 33226: 1,\n",
       " 952: 1,\n",
       " 407: 1,\n",
       " 4145: 1,\n",
       " 988: 1,\n",
       " 482: 1,\n",
       " 360: 1,\n",
       " 789: 1,\n",
       " 3026: 1,\n",
       " 1893: 1,\n",
       " 475: 1,\n",
       " 3200: 1,\n",
       " 321: 1,\n",
       " 1003: 1,\n",
       " 899: 1,\n",
       " 534: 1,\n",
       " 9807: 1,\n",
       " 527: 1,\n",
       " 635: 1,\n",
       " 586: 1,\n",
       " 349: 1,\n",
       " 944: 1,\n",
       " 681: 1,\n",
       " 693: 1,\n",
       " 1149: 1,\n",
       " 285: 1,\n",
       " 536: 1,\n",
       " 548: 1,\n",
       " 362: 1,\n",
       " 549: 1,\n",
       " 3209: 1,\n",
       " 62075: 1,\n",
       " 1016: 1,\n",
       " 3900: 1,\n",
       " 4162: 1,\n",
       " 623: 1,\n",
       " 1297: 1,\n",
       " 777: 1,\n",
       " 6698: 1,\n",
       " 385: 1,\n",
       " 690: 1,\n",
       " 4885: 1,\n",
       " 1599: 1,\n",
       " 593: 1,\n",
       " 14050: 1,\n",
       " 462: 1,\n",
       " 1945: 1,\n",
       " 633: 1}"
      ]
     },
     "execution_count": 371,
     "metadata": {},
     "output_type": "execute_result"
    }
   ],
   "source": [
    "subreddit_count_freq = dict(Counter(subreddit_count.values()).most_common())\n",
    "subreddit_count_freq"
   ]
  },
  {
   "cell_type": "markdown",
   "metadata": {},
   "source": [
    "`subreddit_count_freq` keeps track of how many news sources appear in *n* subreddits for all possible *n*."
   ]
  },
  {
   "cell_type": "code",
   "execution_count": 372,
   "metadata": {},
   "outputs": [
    {
     "data": {
      "text/plain": [
       "1462003"
      ]
     },
     "execution_count": 372,
     "metadata": {},
     "output_type": "execute_result"
    }
   ],
   "source": [
    "max(subreddit_count_freq.keys())"
   ]
  },
  {
   "cell_type": "code",
   "execution_count": 373,
   "metadata": {},
   "outputs": [
    {
     "name": "stdout",
     "output_type": "stream",
     "text": [
      "reddit.com has 1462003 news sources mentioned in it.\n",
      "youtube.com has 193015 news sources mentioned in it.\n",
      "imgur.com has 146880 news sources mentioned in it.\n",
      "twitter.com has 62075 news sources mentioned in it.\n",
      "google.com has 46700 news sources mentioned in it.\n",
      "instagram.com has 34099 news sources mentioned in it.\n",
      "t.me has 33226 news sources mentioned in it.\n",
      "blogspot.com has 32953 news sources mentioned in it.\n",
      "facebook.com has 29649 news sources mentioned in it.\n",
      "tiktok.com has 19669 news sources mentioned in it.\n",
      "spotify.com has 19308 news sources mentioned in it.\n",
      "medium.com has 18230 news sources mentioned in it.\n",
      "goo.gl has 15247 news sources mentioned in it.\n",
      "wordpress.com has 14340 news sources mentioned in it.\n",
      "wikipedia.org has 14050 news sources mentioned in it.\n",
      "amazon.com has 12630 news sources mentioned in it.\n",
      "pornhub.com has 11959 news sources mentioned in it.\n",
      "tumblr.com has 11291 news sources mentioned in it.\n",
      "apple.com has 10277 news sources mentioned in it.\n",
      "soundcloud.com has 9807 news sources mentioned in it.\n"
     ]
    }
   ],
   "source": [
    "sde_ranked = Counter(subreddit_count).most_common()\n",
    "\n",
    "for t in sde_ranked[:20]:\n",
    "    sr, co = t\n",
    "    if co > 1:\n",
    "        print(f\"{sr} has {co} news sources mentioned in it.\")"
   ]
  },
  {
   "cell_type": "code",
   "execution_count": 374,
   "metadata": {},
   "outputs": [
    {
     "data": {
      "text/plain": [
       "True"
      ]
     },
     "execution_count": 374,
     "metadata": {},
     "output_type": "execute_result"
    }
   ],
   "source": [
    "sum(subreddit_count_freq.values()) == len(ns_union)"
   ]
  },
  {
   "cell_type": "code",
   "execution_count": 375,
   "metadata": {},
   "outputs": [],
   "source": [
    "import itertools"
   ]
  },
  {
   "cell_type": "code",
   "execution_count": 376,
   "metadata": {},
   "outputs": [
    {
     "name": "stdout",
     "output_type": "stream",
     "text": [
      "241.73288342222705\n"
     ]
    },
    {
     "data": {
      "text/plain": [
       "Text(0.5, 0, 'number of subreddits')"
      ]
     },
     "execution_count": 376,
     "metadata": {},
     "output_type": "execute_result"
    },
    {
     "data": {
      "image/png": "[encoded data removed]",
      "text/plain": [
       "<Figure size 432x288 with 1 Axes>"
      ]
     },
     "metadata": {},
     "output_type": "display_data"
    }
   ],
   "source": [
    "# let's limit to just see number of news sources appearing in 1000 subreddits or less\n",
    "# scf_1000 = {k:v for k,v in subreddit_count_freq.items() if k<=1000}\n",
    "scf_1000 = list(itertools.chain.from_iterable(itertools.repeat(k,v) for k,v in subreddit_count_freq.items() if k<=80))\n",
    "# print(sum(scf_1000.values())*100/len(nss)) # percentage news sources included\n",
    "print(len(scf_1000)*100/len(nss)) # percentage news sources included\n",
    "# plt.scatter(scf_1000.keys(), scf_1000.values())\n",
    "plt.hist(scf_1000)\n",
    "plt.title(\"number of news sources appearing in x subreddits (x<1000)\")\n",
    "plt.xlabel(\"number of subreddits\")"
   ]
  },
  {
   "cell_type": "code",
   "execution_count": 377,
   "metadata": {},
   "outputs": [],
   "source": [
    "scf = list(itertools.chain.from_iterable(itertools.repeat(k,v) for k,v in subreddit_count_freq.items()))"
   ]
  },
  {
   "cell_type": "code",
   "execution_count": 378,
   "metadata": {
    "scrolled": true
   },
   "outputs": [
    {
     "data": {
      "text/plain": [
       "Text(0.5, 1.0, 'number of news sources appearing in x subreddits')"
      ]
     },
     "execution_count": 378,
     "metadata": {},
     "output_type": "execute_result"
    },
    {
     "data": {
      "image/png": "[encoded data removed]",
      "text/plain": [
       "<Figure size 432x288 with 1 Axes>"
      ]
     },
     "metadata": {},
     "output_type": "display_data"
    }
   ],
   "source": [
    "# sns.histplot([math.log(s,10) for s in scf])\n",
    "sns.histplot(scf, log_scale=True)\n",
    "plt.xlabel(\"number of subreddit\")\n",
    "plt.ylabel(\"news source count\")\n",
    "plt.title(\"number of news sources appearing in x subreddits\")"
   ]
  },
  {
   "cell_type": "markdown",
   "metadata": {},
   "source": [
    "How many news sources only appear in 10 subreddits or less? what about 9 or 8?"
   ]
  },
  {
   "cell_type": "code",
   "execution_count": 379,
   "metadata": {},
   "outputs": [],
   "source": [
    "def pct_ns_in_k_subreddits(ks):\n",
    "    ns_in_i_subreddit = [k for k in subreddit_count if subreddit_count[k] <= ks]\n",
    "    count = len(ns_in_i_subreddit)\n",
    "    print(\"There are {} news sources appearing in only {} subreddits or less ({}%)\".format(count, ks, count/len(ns_union)))\n",
    "    return count/len(ns_union)"
   ]
  },
  {
   "cell_type": "code",
   "execution_count": 380,
   "metadata": {},
   "outputs": [
    {
     "name": "stdout",
     "output_type": "stream",
     "text": [
      "There are 11951 news sources appearing in only 5 subreddits or less (0.49209421065634523%)\n"
     ]
    },
    {
     "data": {
      "text/plain": [
       "0.49209421065634523"
      ]
     },
     "execution_count": 380,
     "metadata": {},
     "output_type": "execute_result"
    }
   ],
   "source": [
    "pct_ns_in_k_subreddits(5)"
   ]
  },
  {
   "cell_type": "code",
   "execution_count": 381,
   "metadata": {},
   "outputs": [
    {
     "name": "stdout",
     "output_type": "stream",
     "text": [
      "There are 0 news sources appearing in only 0 subreddits or less (0.0%)\n",
      "There are 4638 news sources appearing in only 1 subreddits or less (0.1909742238326608%)\n",
      "There are 7449 news sources appearing in only 2 subreddits or less (0.30671992094210654%)\n",
      "There are 9378 news sources appearing in only 3 subreddits or less (0.3861483982541382%)\n",
      "There are 10819 news sources appearing in only 4 subreddits or less (0.44548299431771393%)\n",
      "There are 11951 news sources appearing in only 5 subreddits or less (0.49209421065634523%)\n",
      "There are 12916 news sources appearing in only 6 subreddits or less (0.5318290373054435%)\n",
      "There are 13684 news sources appearing in only 7 subreddits or less (0.5634521946800626%)\n",
      "There are 14376 news sources appearing in only 8 subreddits or less (0.5919459771061517%)\n",
      "There are 14952 news sources appearing in only 9 subreddits or less (0.6156633451371161%)\n",
      "There are 15430 news sources appearing in only 10 subreddits or less (0.6353454665239232%)\n",
      "There are 15876 news sources appearing in only 11 subreddits or less (0.6537099563534546%)\n",
      "There are 16255 news sources appearing in only 12 subreddits or less (0.6693156551099398%)\n",
      "There are 16601 news sources appearing in only 13 subreddits or less (0.6835625463229844%)\n",
      "There are 16941 news sources appearing in only 14 subreddits or less (0.6975623816190398%)\n",
      "There are 17258 news sources appearing in only 15 subreddits or less (0.7106151692333031%)\n",
      "There are 17511 news sources appearing in only 16 subreddits or less (0.7210326937330149%)\n",
      "There are 17770 news sources appearing in only 17 subreddits or less (0.7316972741497159%)\n",
      "There are 18023 news sources appearing in only 18 subreddits or less (0.7421147986494276%)\n",
      "There are 18233 news sources appearing in only 19 subreddits or less (0.75076175574405%)\n",
      "There are 18419 news sources appearing in only 20 subreddits or less (0.7584204891707156%)\n",
      "There are 18614 news sources appearing in only 21 subreddits or less (0.766449806472865%)\n",
      "There are 18784 news sources appearing in only 22 subreddits or less (0.7734497241208927%)\n",
      "There are 18932 news sources appearing in only 23 subreddits or less (0.7795437700732932%)\n",
      "There are 19098 news sources appearing in only 24 subreddits or less (0.7863789837766615%)\n",
      "There are 19228 news sources appearing in only 25 subreddits or less (0.7917318619780944%)\n",
      "There are 19357 news sources appearing in only 26 subreddits or less (0.7970435641933624%)\n",
      "There are 19476 news sources appearing in only 27 subreddits or less (0.8019435065469818%)\n",
      "There are 19580 news sources appearing in only 28 subreddits or less (0.8062258091081281%)\n",
      "There are 19689 news sources appearing in only 29 subreddits or less (0.8107139916000988%)\n",
      "There are 19805 news sources appearing in only 30 subreddits or less (0.8154904059952236%)\n",
      "There are 19901 news sources appearing in only 31 subreddits or less (0.819443300667051%)\n",
      "There are 19982 news sources appearing in only 32 subreddits or less (0.8227785555464053%)\n",
      "There are 20074 news sources appearing in only 33 subreddits or less (0.8265667462735733%)\n",
      "There are 20174 news sources appearing in only 34 subreddits or less (0.8306843448900602%)\n",
      "There are 20269 news sources appearing in only 35 subreddits or less (0.8345960635757227%)\n",
      "There are 20355 news sources appearing in only 36 subreddits or less (0.8381371983859014%)\n",
      "There are 20428 news sources appearing in only 37 subreddits or less (0.8411430453759368%)\n",
      "There are 20506 news sources appearing in only 38 subreddits or less (0.8443547722967966%)\n",
      "There are 20575 news sources appearing in only 39 subreddits or less (0.8471959153421724%)\n",
      "There are 20634 news sources appearing in only 40 subreddits or less (0.8496252985258997%)\n",
      "There are 20703 news sources appearing in only 41 subreddits or less (0.8524664415712756%)\n",
      "There are 20770 news sources appearing in only 42 subreddits or less (0.8552252326443218%)\n",
      "There are 20826 news sources appearing in only 43 subreddits or less (0.8575310878695545%)\n",
      "There are 20888 news sources appearing in only 44 subreddits or less (0.8600839990117763%)\n",
      "There are 20951 news sources appearing in only 45 subreddits or less (0.8626780861401631%)\n",
      "There are 21011 news sources appearing in only 46 subreddits or less (0.8651486453100552%)\n",
      "There are 21065 news sources appearing in only 47 subreddits or less (0.8673721485629581%)\n",
      "There are 21113 news sources appearing in only 48 subreddits or less (0.8693485958988718%)\n",
      "There are 21165 news sources appearing in only 49 subreddits or less (0.8714897471794449%)\n",
      "There are 21220 news sources appearing in only 50 subreddits or less (0.8737544264185128%)\n",
      "There are 21262 news sources appearing in only 51 subreddits or less (0.8754838178374372%)\n",
      "There are 21307 news sources appearing in only 52 subreddits or less (0.8773367372148563%)\n",
      "There are 21350 news sources appearing in only 53 subreddits or less (0.8791073046199457%)\n",
      "There are 21397 news sources appearing in only 54 subreddits or less (0.8810425759696945%)\n",
      "There are 21443 news sources appearing in only 55 subreddits or less (0.8829366713332785%)\n",
      "There are 21489 news sources appearing in only 56 subreddits or less (0.8848307666968623%)\n",
      "There are 21536 news sources appearing in only 57 subreddits or less (0.8867660380466112%)\n",
      "There are 21574 news sources appearing in only 58 subreddits or less (0.8883307255208762%)\n",
      "There are 21608 news sources appearing in only 59 subreddits or less (0.8897307090504818%)\n",
      "There are 21637 news sources appearing in only 60 subreddits or less (0.8909248126492629%)\n",
      "There are 21668 news sources appearing in only 61 subreddits or less (0.8922012682203739%)\n",
      "There are 21700 news sources appearing in only 62 subreddits or less (0.8935188997776496%)\n",
      "There are 21732 news sources appearing in only 63 subreddits or less (0.8948365313349255%)\n",
      "There are 21763 news sources appearing in only 64 subreddits or less (0.8961129869060364%)\n",
      "There are 21800 news sources appearing in only 65 subreddits or less (0.8976364983941365%)\n",
      "There are 21833 news sources appearing in only 66 subreddits or less (0.8989953059375773%)\n",
      "There are 21867 news sources appearing in only 67 subreddits or less (0.9003952894671827%)\n",
      "There are 21893 news sources appearing in only 68 subreddits or less (0.9014658651074693%)\n",
      "There are 21921 news sources appearing in only 69 subreddits or less (0.9026187927200856%)\n",
      "There are 21950 news sources appearing in only 70 subreddits or less (0.9038128963188669%)\n",
      "There are 21979 news sources appearing in only 71 subreddits or less (0.905006999917648%)\n",
      "There are 22006 news sources appearing in only 72 subreddits or less (0.9061187515440995%)\n",
      "There are 22026 news sources appearing in only 73 subreddits or less (0.9069422712673969%)\n",
      "There are 22054 news sources appearing in only 74 subreddits or less (0.9080951988800132%)\n",
      "There are 22080 news sources appearing in only 75 subreddits or less (0.9091657745202998%)\n",
      "There are 22103 news sources appearing in only 76 subreddits or less (0.9101128222020918%)\n",
      "There are 22130 news sources appearing in only 77 subreddits or less (0.9112245738285432%)\n",
      "There are 22163 news sources appearing in only 78 subreddits or less (0.9125833813719838%)\n",
      "There are 22186 news sources appearing in only 79 subreddits or less (0.9135304290537758%)\n",
      "There are 22208 news sources appearing in only 80 subreddits or less (0.914436300749403%)\n",
      "There are 22230 news sources appearing in only 81 subreddits or less (0.91534217244503%)\n",
      "There are 22245 news sources appearing in only 82 subreddits or less (0.9159598122375031%)\n",
      "There are 22261 news sources appearing in only 83 subreddits or less (0.916618628016141%)\n",
      "There are 22289 news sources appearing in only 84 subreddits or less (0.9177715556287573%)\n",
      "There are 22307 news sources appearing in only 85 subreddits or less (0.9185127233797249%)\n",
      "There are 22322 news sources appearing in only 86 subreddits or less (0.919130363172198%)\n",
      "There are 22335 news sources appearing in only 87 subreddits or less (0.9196656509923413%)\n",
      "There are 22353 news sources appearing in only 88 subreddits or less (0.9204068187433089%)\n",
      "There are 22379 news sources appearing in only 89 subreddits or less (0.9214773943835954%)\n",
      "There are 22395 news sources appearing in only 90 subreddits or less (0.9221362101622333%)\n",
      "There are 22419 news sources appearing in only 91 subreddits or less (0.9231244338301903%)\n",
      "There are 22436 news sources appearing in only 92 subreddits or less (0.923824425594993%)\n",
      "There are 22461 news sources appearing in only 93 subreddits or less (0.9248538252491147%)\n",
      "There are 22485 news sources appearing in only 94 subreddits or less (0.9258420489170716%)\n",
      "There are 22506 news sources appearing in only 95 subreddits or less (0.9267067446265338%)\n",
      "There are 22520 news sources appearing in only 96 subreddits or less (0.927283208432842%)\n",
      "There are 22540 news sources appearing in only 97 subreddits or less (0.9281067281561394%)\n",
      "There are 22553 news sources appearing in only 98 subreddits or less (0.9286420159762826%)\n",
      "There are 22561 news sources appearing in only 99 subreddits or less (0.9289714238656016%)\n",
      "There are 22573 news sources appearing in only 100 subreddits or less (0.92946553569958%)\n"
     ]
    },
    {
     "name": "stdout",
     "output_type": "stream",
     "text": [
      "There are 22579 news sources appearing in only 101 subreddits or less (0.9297125916165692%)\n",
      "There are 22599 news sources appearing in only 102 subreddits or less (0.9305361113398666%)\n",
      "There are 22614 news sources appearing in only 103 subreddits or less (0.9311537511323397%)\n",
      "There are 22627 news sources appearing in only 104 subreddits or less (0.9316890389524829%)\n",
      "There are 22646 news sources appearing in only 105 subreddits or less (0.9324713826896154%)\n",
      "There are 22659 news sources appearing in only 106 subreddits or less (0.9330066705097587%)\n",
      "There are 22674 news sources appearing in only 107 subreddits or less (0.9336243103022317%)\n",
      "There are 22689 news sources appearing in only 108 subreddits or less (0.9342419500947048%)\n",
      "There are 22702 news sources appearing in only 109 subreddits or less (0.934777237914848%)\n",
      "There are 22719 news sources appearing in only 110 subreddits or less (0.9354772296796509%)\n",
      "There are 22732 news sources appearing in only 111 subreddits or less (0.9360125174997941%)\n",
      "There are 22747 news sources appearing in only 112 subreddits or less (0.9366301572922672%)\n",
      "There are 22759 news sources appearing in only 113 subreddits or less (0.9371242691262456%)\n",
      "There are 22773 news sources appearing in only 114 subreddits or less (0.9377007329325537%)\n",
      "There are 22780 news sources appearing in only 115 subreddits or less (0.9379889648357078%)\n",
      "There are 22792 news sources appearing in only 116 subreddits or less (0.9384830766696862%)\n",
      "There are 22806 news sources appearing in only 117 subreddits or less (0.9390595404759944%)\n",
      "There are 22820 news sources appearing in only 118 subreddits or less (0.9396360042823025%)\n",
      "There are 22830 news sources appearing in only 119 subreddits or less (0.9400477641439512%)\n",
      "There are 22838 news sources appearing in only 120 subreddits or less (0.9403771720332702%)\n",
      "There are 22854 news sources appearing in only 121 subreddits or less (0.9410359878119081%)\n",
      "There are 22865 news sources appearing in only 122 subreddits or less (0.9414889236597217%)\n",
      "There are 22876 news sources appearing in only 123 subreddits or less (0.9419418595075352%)\n",
      "There are 22887 news sources appearing in only 124 subreddits or less (0.9423947953553488%)\n",
      "There are 22896 news sources appearing in only 125 subreddits or less (0.9427653792308326%)\n",
      "There are 22905 news sources appearing in only 126 subreddits or less (0.9431359631063164%)\n",
      "There are 22915 news sources appearing in only 127 subreddits or less (0.9435477229679651%)\n",
      "There are 22923 news sources appearing in only 128 subreddits or less (0.9438771308572841%)\n",
      "There are 22930 news sources appearing in only 129 subreddits or less (0.9441653627604382%)\n",
      "There are 22940 news sources appearing in only 130 subreddits or less (0.9445771226220868%)\n",
      "There are 22947 news sources appearing in only 131 subreddits or less (0.9448653545252409%)\n",
      "There are 22953 news sources appearing in only 132 subreddits or less (0.94511241044223%)\n",
      "There are 22959 news sources appearing in only 133 subreddits or less (0.9453594663592193%)\n",
      "There are 22970 news sources appearing in only 134 subreddits or less (0.9458124022070329%)\n",
      "There are 22978 news sources appearing in only 135 subreddits or less (0.9461418100963518%)\n",
      "There are 22987 news sources appearing in only 136 subreddits or less (0.9465123939718356%)\n",
      "There are 22996 news sources appearing in only 137 subreddits or less (0.9468829778473195%)\n",
      "There are 23007 news sources appearing in only 138 subreddits or less (0.947335913695133%)\n",
      "There are 23014 news sources appearing in only 139 subreddits or less (0.9476241455982871%)\n",
      "There are 23029 news sources appearing in only 140 subreddits or less (0.9482417853907601%)\n",
      "There are 23039 news sources appearing in only 141 subreddits or less (0.9486535452524087%)\n",
      "There are 23048 news sources appearing in only 142 subreddits or less (0.9490241291278926%)\n",
      "There are 23055 news sources appearing in only 143 subreddits or less (0.9493123610310467%)\n",
      "There are 23063 news sources appearing in only 144 subreddits or less (0.9496417689203657%)\n",
      "There are 23073 news sources appearing in only 145 subreddits or less (0.9500535287820143%)\n",
      "There are 23081 news sources appearing in only 146 subreddits or less (0.9503829366713333%)\n",
      "There are 23089 news sources appearing in only 147 subreddits or less (0.9507123445606522%)\n",
      "There are 23098 news sources appearing in only 148 subreddits or less (0.9510829284361361%)\n",
      "There are 23107 news sources appearing in only 149 subreddits or less (0.9514535123116199%)\n",
      "There are 23117 news sources appearing in only 150 subreddits or less (0.9518652721732686%)\n",
      "There are 23130 news sources appearing in only 151 subreddits or less (0.9524005599934119%)\n",
      "There are 23135 news sources appearing in only 152 subreddits or less (0.9526064399242362%)\n",
      "There are 23142 news sources appearing in only 153 subreddits or less (0.9528946718273903%)\n",
      "There are 23148 news sources appearing in only 154 subreddits or less (0.9531417277443794%)\n",
      "There are 23159 news sources appearing in only 155 subreddits or less (0.953594663592193%)\n",
      "There are 23165 news sources appearing in only 156 subreddits or less (0.9538417195091823%)\n",
      "There are 23169 news sources appearing in only 157 subreddits or less (0.9540064234538417%)\n",
      "There are 23176 news sources appearing in only 158 subreddits or less (0.9542946553569958%)\n",
      "There are 23187 news sources appearing in only 159 subreddits or less (0.9547475912048093%)\n",
      "There are 23195 news sources appearing in only 160 subreddits or less (0.9550769990941284%)\n",
      "There are 23205 news sources appearing in only 161 subreddits or less (0.955488758955777%)\n",
      "There are 23214 news sources appearing in only 162 subreddits or less (0.9558593428312608%)\n",
      "There are 23221 news sources appearing in only 163 subreddits or less (0.9561475747344149%)\n",
      "There are 23225 news sources appearing in only 164 subreddits or less (0.9563122786790743%)\n",
      "There are 23230 news sources appearing in only 165 subreddits or less (0.9565181586098987%)\n",
      "There are 23232 news sources appearing in only 166 subreddits or less (0.9566005105822284%)\n",
      "There are 23241 news sources appearing in only 167 subreddits or less (0.9569710944577122%)\n",
      "There are 23245 news sources appearing in only 168 subreddits or less (0.9571357984023717%)\n",
      "There are 23254 news sources appearing in only 169 subreddits or less (0.9575063822778556%)\n",
      "There are 23262 news sources appearing in only 170 subreddits or less (0.9578357901671745%)\n",
      "There are 23273 news sources appearing in only 171 subreddits or less (0.958288726014988%)\n",
      "There are 23277 news sources appearing in only 172 subreddits or less (0.9584534299596476%)\n",
      "There are 23281 news sources appearing in only 173 subreddits or less (0.9586181339043071%)\n",
      "There are 23285 news sources appearing in only 174 subreddits or less (0.9587828378489665%)\n",
      "There are 23294 news sources appearing in only 175 subreddits or less (0.9591534217244503%)\n",
      "There are 23296 news sources appearing in only 176 subreddits or less (0.95923577369678%)\n",
      "There are 23302 news sources appearing in only 177 subreddits or less (0.9594828296137693%)\n",
      "There are 23305 news sources appearing in only 178 subreddits or less (0.9596063575722639%)\n",
      "There are 23311 news sources appearing in only 179 subreddits or less (0.959853413489253%)\n",
      "There are 23318 news sources appearing in only 180 subreddits or less (0.9601416453924071%)\n",
      "There are 23320 news sources appearing in only 181 subreddits or less (0.9602239973647368%)\n",
      "There are 23325 news sources appearing in only 182 subreddits or less (0.9604298772955612%)\n",
      "There are 23331 news sources appearing in only 183 subreddits or less (0.9606769332125504%)\n",
      "There are 23335 news sources appearing in only 184 subreddits or less (0.9608416371572099%)\n",
      "There are 23338 news sources appearing in only 185 subreddits or less (0.9609651651157045%)\n",
      "There are 23343 news sources appearing in only 186 subreddits or less (0.9611710450465288%)\n",
      "There are 23348 news sources appearing in only 187 subreddits or less (0.9613769249773532%)\n",
      "There are 23351 news sources appearing in only 188 subreddits or less (0.9615004529358478%)\n",
      "There are 23355 news sources appearing in only 189 subreddits or less (0.9616651568805072%)\n",
      "There are 23357 news sources appearing in only 190 subreddits or less (0.961747508852837%)\n",
      "There are 23365 news sources appearing in only 191 subreddits or less (0.962076916742156%)\n",
      "There are 23367 news sources appearing in only 192 subreddits or less (0.9621592687144858%)\n",
      "There are 23373 news sources appearing in only 193 subreddits or less (0.9624063246314749%)\n",
      "There are 23382 news sources appearing in only 194 subreddits or less (0.9627769085069587%)\n",
      "There are 23382 news sources appearing in only 195 subreddits or less (0.9627769085069587%)\n",
      "There are 23390 news sources appearing in only 196 subreddits or less (0.9631063163962776%)\n",
      "There are 23393 news sources appearing in only 197 subreddits or less (0.9632298443547723%)\n",
      "There are 23397 news sources appearing in only 198 subreddits or less (0.9633945482994317%)\n",
      "There are 23400 news sources appearing in only 199 subreddits or less (0.9635180762579264%)\n",
      "There are 23408 news sources appearing in only 200 subreddits or less (0.9638474841472453%)\n",
      "There are 23409 news sources appearing in only 201 subreddits or less (0.9638886601334102%)\n",
      "There are 23417 news sources appearing in only 202 subreddits or less (0.9642180680227291%)\n",
      "There are 23419 news sources appearing in only 203 subreddits or less (0.9643004199950589%)\n",
      "There are 23422 news sources appearing in only 204 subreddits or less (0.9644239479535535%)\n",
      "There are 23424 news sources appearing in only 205 subreddits or less (0.9645062999258832%)\n",
      "There are 23429 news sources appearing in only 206 subreddits or less (0.9647121798567075%)\n",
      "There are 23433 news sources appearing in only 207 subreddits or less (0.964876883801367%)\n",
      "There are 23439 news sources appearing in only 208 subreddits or less (0.9651239397183563%)\n",
      "There are 23440 news sources appearing in only 209 subreddits or less (0.9651651157045211%)\n",
      "There are 23444 news sources appearing in only 210 subreddits or less (0.9653298196491806%)\n",
      "There are 23451 news sources appearing in only 211 subreddits or less (0.9656180515523347%)\n",
      "There are 23455 news sources appearing in only 212 subreddits or less (0.9657827554969941%)\n",
      "There are 23462 news sources appearing in only 213 subreddits or less (0.9660709874001482%)\n",
      "There are 23466 news sources appearing in only 214 subreddits or less (0.9662356913448077%)\n",
      "There are 23469 news sources appearing in only 215 subreddits or less (0.9663592193033023%)\n",
      "There are 23474 news sources appearing in only 216 subreddits or less (0.9665650992341267%)\n",
      "There are 23477 news sources appearing in only 217 subreddits or less (0.9666886271926213%)\n",
      "There are 23482 news sources appearing in only 218 subreddits or less (0.9668945071234456%)\n",
      "There are 23486 news sources appearing in only 219 subreddits or less (0.9670592110681051%)\n",
      "There are 23490 news sources appearing in only 220 subreddits or less (0.9672239150127645%)\n",
      "There are 23493 news sources appearing in only 221 subreddits or less (0.9673474429712592%)\n",
      "There are 23496 news sources appearing in only 222 subreddits or less (0.9674709709297538%)\n",
      "There are 23500 news sources appearing in only 223 subreddits or less (0.9676356748744133%)\n"
     ]
    },
    {
     "name": "stdout",
     "output_type": "stream",
     "text": [
      "There are 23503 news sources appearing in only 224 subreddits or less (0.9677592028329078%)\n",
      "There are 23507 news sources appearing in only 225 subreddits or less (0.9679239067775673%)\n",
      "There are 23514 news sources appearing in only 226 subreddits or less (0.9682121386807214%)\n",
      "There are 23516 news sources appearing in only 227 subreddits or less (0.9682944906530512%)\n",
      "There are 23523 news sources appearing in only 228 subreddits or less (0.9685827225562053%)\n",
      "There are 23529 news sources appearing in only 229 subreddits or less (0.9688297784731944%)\n",
      "There are 23535 news sources appearing in only 230 subreddits or less (0.9690768343901837%)\n",
      "There are 23538 news sources appearing in only 231 subreddits or less (0.9692003623486782%)\n",
      "There are 23542 news sources appearing in only 232 subreddits or less (0.9693650662933377%)\n",
      "There are 23544 news sources appearing in only 233 subreddits or less (0.9694474182656675%)\n",
      "There are 23551 news sources appearing in only 234 subreddits or less (0.9697356501688216%)\n",
      "There are 23553 news sources appearing in only 235 subreddits or less (0.9698180021411513%)\n",
      "There are 23557 news sources appearing in only 236 subreddits or less (0.9699827060858107%)\n",
      "There are 23561 news sources appearing in only 237 subreddits or less (0.9701474100304702%)\n",
      "There are 23565 news sources appearing in only 238 subreddits or less (0.9703121139751297%)\n",
      "There are 23567 news sources appearing in only 239 subreddits or less (0.9703944659474595%)\n",
      "There are 23570 news sources appearing in only 240 subreddits or less (0.9705179939059541%)\n",
      "There are 23572 news sources appearing in only 241 subreddits or less (0.9706003458782838%)\n",
      "There are 23572 news sources appearing in only 242 subreddits or less (0.9706003458782838%)\n",
      "There are 23574 news sources appearing in only 243 subreddits or less (0.9706826978506136%)\n",
      "There are 23577 news sources appearing in only 244 subreddits or less (0.9708062258091081%)\n",
      "There are 23581 news sources appearing in only 245 subreddits or less (0.9709709297537676%)\n",
      "There are 23582 news sources appearing in only 246 subreddits or less (0.9710121057399325%)\n",
      "There are 23583 news sources appearing in only 247 subreddits or less (0.9710532817260974%)\n",
      "There are 23586 news sources appearing in only 248 subreddits or less (0.971176809684592%)\n",
      "There are 23588 news sources appearing in only 249 subreddits or less (0.9712591616569217%)\n",
      "There are 23592 news sources appearing in only 250 subreddits or less (0.9714238656015811%)\n",
      "There are 23594 news sources appearing in only 251 subreddits or less (0.9715062175739109%)\n",
      "There are 23599 news sources appearing in only 252 subreddits or less (0.9717120975047352%)\n",
      "There are 23602 news sources appearing in only 253 subreddits or less (0.9718356254632299%)\n",
      "There are 23607 news sources appearing in only 254 subreddits or less (0.9720415053940542%)\n",
      "There are 23608 news sources appearing in only 255 subreddits or less (0.972082681380219%)\n",
      "There are 23612 news sources appearing in only 256 subreddits or less (0.9722473853248785%)\n",
      "There are 23613 news sources appearing in only 257 subreddits or less (0.9722885613110434%)\n",
      "There are 23617 news sources appearing in only 258 subreddits or less (0.9724532652557029%)\n",
      "There are 23618 news sources appearing in only 259 subreddits or less (0.9724944412418678%)\n",
      "There are 23621 news sources appearing in only 260 subreddits or less (0.9726179692003624%)\n",
      "There are 23623 news sources appearing in only 261 subreddits or less (0.9727003211726921%)\n",
      "There are 23627 news sources appearing in only 262 subreddits or less (0.9728650251173515%)\n",
      "There are 23632 news sources appearing in only 263 subreddits or less (0.973070905048176%)\n",
      "There are 23635 news sources appearing in only 264 subreddits or less (0.9731944330066705%)\n",
      "There are 23639 news sources appearing in only 265 subreddits or less (0.97335913695133%)\n",
      "There are 23648 news sources appearing in only 266 subreddits or less (0.9737297208268137%)\n",
      "There are 23654 news sources appearing in only 267 subreddits or less (0.973976776743803%)\n",
      "There are 23656 news sources appearing in only 268 subreddits or less (0.9740591287161328%)\n",
      "There are 23657 news sources appearing in only 269 subreddits or less (0.9741003047022976%)\n",
      "There are 23657 news sources appearing in only 270 subreddits or less (0.9741003047022976%)\n",
      "There are 23659 news sources appearing in only 271 subreddits or less (0.9741826566746273%)\n",
      "There are 23660 news sources appearing in only 272 subreddits or less (0.9742238326607923%)\n",
      "There are 23667 news sources appearing in only 273 subreddits or less (0.9745120645639463%)\n",
      "There are 23673 news sources appearing in only 274 subreddits or less (0.9747591204809355%)\n",
      "There are 23674 news sources appearing in only 275 subreddits or less (0.9748002964671004%)\n",
      "There are 23675 news sources appearing in only 276 subreddits or less (0.9748414724532652%)\n",
      "There are 23677 news sources appearing in only 277 subreddits or less (0.974923824425595%)\n",
      "There are 23680 news sources appearing in only 278 subreddits or less (0.9750473523840896%)\n",
      "There are 23685 news sources appearing in only 279 subreddits or less (0.9752532323149139%)\n",
      "There are 23687 news sources appearing in only 280 subreddits or less (0.9753355842872437%)\n",
      "There are 23689 news sources appearing in only 281 subreddits or less (0.9754179362595734%)\n",
      "There are 23691 news sources appearing in only 282 subreddits or less (0.9755002882319032%)\n",
      "There are 23693 news sources appearing in only 283 subreddits or less (0.9755826402042329%)\n",
      "There are 23697 news sources appearing in only 284 subreddits or less (0.9757473441488924%)\n",
      "There are 23698 news sources appearing in only 285 subreddits or less (0.9757885201350572%)\n",
      "There are 23699 news sources appearing in only 286 subreddits or less (0.9758296961212221%)\n",
      "There are 23701 news sources appearing in only 287 subreddits or less (0.9759120480935518%)\n",
      "There are 23703 news sources appearing in only 288 subreddits or less (0.9759944000658816%)\n",
      "There are 23705 news sources appearing in only 289 subreddits or less (0.9760767520382113%)\n",
      "There are 23708 news sources appearing in only 290 subreddits or less (0.9762002799967059%)\n",
      "There are 23711 news sources appearing in only 291 subreddits or less (0.9763238079552006%)\n",
      "There are 23713 news sources appearing in only 292 subreddits or less (0.9764061599275302%)\n",
      "There are 23717 news sources appearing in only 293 subreddits or less (0.9765708638721897%)\n",
      "There are 23720 news sources appearing in only 294 subreddits or less (0.9766943918306843%)\n",
      "There are 23722 news sources appearing in only 295 subreddits or less (0.976776743803014%)\n",
      "There are 23724 news sources appearing in only 296 subreddits or less (0.9768590957753438%)\n",
      "There are 23726 news sources appearing in only 297 subreddits or less (0.9769414477476736%)\n",
      "There are 23729 news sources appearing in only 298 subreddits or less (0.9770649757061681%)\n",
      "There are 23729 news sources appearing in only 299 subreddits or less (0.9770649757061681%)\n",
      "There are 23731 news sources appearing in only 300 subreddits or less (0.9771473276784979%)\n",
      "There are 23732 news sources appearing in only 301 subreddits or less (0.9771885036646628%)\n",
      "There are 23733 news sources appearing in only 302 subreddits or less (0.9772296796508276%)\n",
      "There are 23734 news sources appearing in only 303 subreddits or less (0.9772708556369925%)\n",
      "There are 23736 news sources appearing in only 304 subreddits or less (0.9773532076093222%)\n",
      "There are 23738 news sources appearing in only 305 subreddits or less (0.977435559581652%)\n",
      "There are 23738 news sources appearing in only 306 subreddits or less (0.977435559581652%)\n",
      "There are 23741 news sources appearing in only 307 subreddits or less (0.9775590875401465%)\n",
      "There are 23743 news sources appearing in only 308 subreddits or less (0.9776414395124763%)\n",
      "There are 23745 news sources appearing in only 309 subreddits or less (0.977723791484806%)\n",
      "There are 23747 news sources appearing in only 310 subreddits or less (0.9778061434571358%)\n",
      "There are 23748 news sources appearing in only 311 subreddits or less (0.9778473194433007%)\n",
      "There are 23750 news sources appearing in only 312 subreddits or less (0.9779296714156304%)\n",
      "There are 23752 news sources appearing in only 313 subreddits or less (0.9780120233879601%)\n",
      "There are 23755 news sources appearing in only 314 subreddits or less (0.9781355513464548%)\n",
      "There are 23755 news sources appearing in only 315 subreddits or less (0.9781355513464548%)\n",
      "There are 23759 news sources appearing in only 316 subreddits or less (0.9783002552911142%)\n",
      "There are 23760 news sources appearing in only 317 subreddits or less (0.9783414312772791%)\n",
      "There are 23764 news sources appearing in only 318 subreddits or less (0.9785061352219385%)\n",
      "There are 23764 news sources appearing in only 319 subreddits or less (0.9785061352219385%)\n",
      "There are 23764 news sources appearing in only 320 subreddits or less (0.9785061352219385%)\n",
      "There are 23765 news sources appearing in only 321 subreddits or less (0.9785473112081035%)\n",
      "There are 23767 news sources appearing in only 322 subreddits or less (0.9786296631804332%)\n",
      "There are 23768 news sources appearing in only 323 subreddits or less (0.978670839166598%)\n",
      "There are 23770 news sources appearing in only 324 subreddits or less (0.9787531911389278%)\n",
      "There are 23772 news sources appearing in only 325 subreddits or less (0.9788355431112575%)\n",
      "There are 23777 news sources appearing in only 326 subreddits or less (0.9790414230420819%)\n",
      "There are 23778 news sources appearing in only 327 subreddits or less (0.9790825990282467%)\n",
      "There are 23780 news sources appearing in only 328 subreddits or less (0.9791649510005764%)\n",
      "There are 23780 news sources appearing in only 329 subreddits or less (0.9791649510005764%)\n",
      "There are 23782 news sources appearing in only 330 subreddits or less (0.9792473029729062%)\n",
      "There are 23785 news sources appearing in only 331 subreddits or less (0.9793708309314008%)\n",
      "There are 23785 news sources appearing in only 332 subreddits or less (0.9793708309314008%)\n",
      "There are 23786 news sources appearing in only 333 subreddits or less (0.9794120069175657%)\n",
      "There are 23786 news sources appearing in only 334 subreddits or less (0.9794120069175657%)\n",
      "There are 23786 news sources appearing in only 335 subreddits or less (0.9794120069175657%)\n",
      "There are 23786 news sources appearing in only 336 subreddits or less (0.9794120069175657%)\n",
      "There are 23787 news sources appearing in only 337 subreddits or less (0.9794531829037305%)\n",
      "There are 23787 news sources appearing in only 338 subreddits or less (0.9794531829037305%)\n",
      "There are 23788 news sources appearing in only 339 subreddits or less (0.9794943588898954%)\n",
      "There are 23788 news sources appearing in only 340 subreddits or less (0.9794943588898954%)\n",
      "There are 23791 news sources appearing in only 341 subreddits or less (0.97961788684839%)\n",
      "There are 23792 news sources appearing in only 342 subreddits or less (0.9796590628345548%)\n"
     ]
    },
    {
     "name": "stdout",
     "output_type": "stream",
     "text": [
      "There are 23795 news sources appearing in only 343 subreddits or less (0.9797825907930495%)\n",
      "There are 23799 news sources appearing in only 344 subreddits or less (0.9799472947377089%)\n",
      "There are 23800 news sources appearing in only 345 subreddits or less (0.9799884707238739%)\n",
      "There are 23802 news sources appearing in only 346 subreddits or less (0.9800708226962036%)\n",
      "There are 23802 news sources appearing in only 347 subreddits or less (0.9800708226962036%)\n",
      "There are 23802 news sources appearing in only 348 subreddits or less (0.9800708226962036%)\n",
      "There are 23803 news sources appearing in only 349 subreddits or less (0.9801119986823684%)\n",
      "There are 23805 news sources appearing in only 350 subreddits or less (0.9801943506546982%)\n",
      "There are 23807 news sources appearing in only 351 subreddits or less (0.9802767026270279%)\n",
      "There are 23809 news sources appearing in only 352 subreddits or less (0.9803590545993577%)\n",
      "There are 23809 news sources appearing in only 353 subreddits or less (0.9803590545993577%)\n",
      "There are 23811 news sources appearing in only 354 subreddits or less (0.9804414065716874%)\n",
      "There are 23812 news sources appearing in only 355 subreddits or less (0.9804825825578523%)\n",
      "There are 23813 news sources appearing in only 356 subreddits or less (0.9805237585440171%)\n",
      "There are 23813 news sources appearing in only 357 subreddits or less (0.9805237585440171%)\n",
      "There are 23814 news sources appearing in only 358 subreddits or less (0.980564934530182%)\n",
      "There are 23815 news sources appearing in only 359 subreddits or less (0.9806061105163468%)\n",
      "There are 23816 news sources appearing in only 360 subreddits or less (0.9806472865025118%)\n",
      "There are 23816 news sources appearing in only 361 subreddits or less (0.9806472865025118%)\n",
      "There are 23817 news sources appearing in only 362 subreddits or less (0.9806884624886766%)\n",
      "There are 23819 news sources appearing in only 363 subreddits or less (0.9807708144610063%)\n",
      "There are 23820 news sources appearing in only 364 subreddits or less (0.9808119904471712%)\n",
      "There are 23823 news sources appearing in only 365 subreddits or less (0.9809355184056658%)\n",
      "There are 23824 news sources appearing in only 366 subreddits or less (0.9809766943918307%)\n",
      "There are 23827 news sources appearing in only 367 subreddits or less (0.9811002223503252%)\n",
      "There are 23829 news sources appearing in only 368 subreddits or less (0.981182574322655%)\n",
      "There are 23830 news sources appearing in only 369 subreddits or less (0.9812237503088199%)\n",
      "There are 23833 news sources appearing in only 370 subreddits or less (0.9813472782673145%)\n",
      "There are 23835 news sources appearing in only 371 subreddits or less (0.9814296302396442%)\n",
      "There are 23837 news sources appearing in only 372 subreddits or less (0.981511982211974%)\n",
      "There are 23837 news sources appearing in only 373 subreddits or less (0.981511982211974%)\n",
      "There are 23839 news sources appearing in only 374 subreddits or less (0.9815943341843038%)\n",
      "There are 23839 news sources appearing in only 375 subreddits or less (0.9815943341843038%)\n",
      "There are 23839 news sources appearing in only 376 subreddits or less (0.9815943341843038%)\n",
      "There are 23840 news sources appearing in only 377 subreddits or less (0.9816355101704686%)\n",
      "There are 23841 news sources appearing in only 378 subreddits or less (0.9816766861566335%)\n",
      "There are 23842 news sources appearing in only 379 subreddits or less (0.9817178621427983%)\n",
      "There are 23842 news sources appearing in only 380 subreddits or less (0.9817178621427983%)\n",
      "There are 23844 news sources appearing in only 381 subreddits or less (0.9818002141151281%)\n",
      "There are 23847 news sources appearing in only 382 subreddits or less (0.9819237420736227%)\n",
      "There are 23847 news sources appearing in only 383 subreddits or less (0.9819237420736227%)\n",
      "There are 23851 news sources appearing in only 384 subreddits or less (0.9820884460182822%)\n",
      "There are 23852 news sources appearing in only 385 subreddits or less (0.982129622004447%)\n",
      "There are 23852 news sources appearing in only 386 subreddits or less (0.982129622004447%)\n",
      "There are 23855 news sources appearing in only 387 subreddits or less (0.9822531499629417%)\n",
      "There are 23855 news sources appearing in only 388 subreddits or less (0.9822531499629417%)\n",
      "There are 23857 news sources appearing in only 389 subreddits or less (0.9823355019352713%)\n",
      "There are 23857 news sources appearing in only 390 subreddits or less (0.9823355019352713%)\n",
      "There are 23858 news sources appearing in only 391 subreddits or less (0.9823766779214362%)\n",
      "There are 23861 news sources appearing in only 392 subreddits or less (0.9825002058799308%)\n",
      "There are 23861 news sources appearing in only 393 subreddits or less (0.9825002058799308%)\n",
      "There are 23861 news sources appearing in only 394 subreddits or less (0.9825002058799308%)\n",
      "There are 23862 news sources appearing in only 395 subreddits or less (0.9825413818660957%)\n",
      "There are 23863 news sources appearing in only 396 subreddits or less (0.9825825578522606%)\n",
      "There are 23864 news sources appearing in only 397 subreddits or less (0.9826237338384254%)\n",
      "There are 23865 news sources appearing in only 398 subreddits or less (0.9826649098245903%)\n",
      "There are 23866 news sources appearing in only 399 subreddits or less (0.9827060858107551%)\n",
      "There are 23867 news sources appearing in only 400 subreddits or less (0.9827472617969201%)\n",
      "There are 23867 news sources appearing in only 401 subreddits or less (0.9827472617969201%)\n",
      "There are 23868 news sources appearing in only 402 subreddits or less (0.9827884377830849%)\n",
      "There are 23868 news sources appearing in only 403 subreddits or less (0.9827884377830849%)\n",
      "There are 23869 news sources appearing in only 404 subreddits or less (0.9828296137692498%)\n",
      "There are 23869 news sources appearing in only 405 subreddits or less (0.9828296137692498%)\n",
      "There are 23869 news sources appearing in only 406 subreddits or less (0.9828296137692498%)\n",
      "There are 23870 news sources appearing in only 407 subreddits or less (0.9828707897554146%)\n",
      "There are 23871 news sources appearing in only 408 subreddits or less (0.9829119657415795%)\n",
      "There are 23873 news sources appearing in only 409 subreddits or less (0.9829943177139092%)\n",
      "There are 23874 news sources appearing in only 410 subreddits or less (0.9830354937000741%)\n",
      "There are 23874 news sources appearing in only 411 subreddits or less (0.9830354937000741%)\n",
      "There are 23875 news sources appearing in only 412 subreddits or less (0.983076669686239%)\n",
      "There are 23877 news sources appearing in only 413 subreddits or less (0.9831590216585687%)\n",
      "There are 23877 news sources appearing in only 414 subreddits or less (0.9831590216585687%)\n",
      "There are 23877 news sources appearing in only 415 subreddits or less (0.9831590216585687%)\n",
      "There are 23877 news sources appearing in only 416 subreddits or less (0.9831590216585687%)\n",
      "There are 23877 news sources appearing in only 417 subreddits or less (0.9831590216585687%)\n",
      "There are 23877 news sources appearing in only 418 subreddits or less (0.9831590216585687%)\n",
      "There are 23878 news sources appearing in only 419 subreddits or less (0.9832001976447335%)\n",
      "There are 23878 news sources appearing in only 420 subreddits or less (0.9832001976447335%)\n",
      "There are 23881 news sources appearing in only 421 subreddits or less (0.9833237256032282%)\n",
      "There are 23884 news sources appearing in only 422 subreddits or less (0.9834472535617228%)\n",
      "There are 23885 news sources appearing in only 423 subreddits or less (0.9834884295478876%)\n",
      "There are 23886 news sources appearing in only 424 subreddits or less (0.9835296055340526%)\n",
      "There are 23886 news sources appearing in only 425 subreddits or less (0.9835296055340526%)\n",
      "There are 23887 news sources appearing in only 426 subreddits or less (0.9835707815202174%)\n",
      "There are 23889 news sources appearing in only 427 subreddits or less (0.9836531334925471%)\n",
      "There are 23889 news sources appearing in only 428 subreddits or less (0.9836531334925471%)\n",
      "There are 23889 news sources appearing in only 429 subreddits or less (0.9836531334925471%)\n",
      "There are 23889 news sources appearing in only 430 subreddits or less (0.9836531334925471%)\n",
      "There are 23889 news sources appearing in only 431 subreddits or less (0.9836531334925471%)\n",
      "There are 23890 news sources appearing in only 432 subreddits or less (0.9836943094787121%)\n",
      "There are 23893 news sources appearing in only 433 subreddits or less (0.9838178374372066%)\n",
      "There are 23895 news sources appearing in only 434 subreddits or less (0.9839001894095364%)\n",
      "There are 23895 news sources appearing in only 435 subreddits or less (0.9839001894095364%)\n",
      "There are 23895 news sources appearing in only 436 subreddits or less (0.9839001894095364%)\n",
      "There are 23896 news sources appearing in only 437 subreddits or less (0.9839413653957012%)\n",
      "There are 23896 news sources appearing in only 438 subreddits or less (0.9839413653957012%)\n",
      "There are 23896 news sources appearing in only 439 subreddits or less (0.9839413653957012%)\n",
      "There are 23896 news sources appearing in only 440 subreddits or less (0.9839413653957012%)\n",
      "There are 23897 news sources appearing in only 441 subreddits or less (0.9839825413818661%)\n",
      "There are 23897 news sources appearing in only 442 subreddits or less (0.9839825413818661%)\n",
      "There are 23898 news sources appearing in only 443 subreddits or less (0.984023717368031%)\n",
      "There are 23899 news sources appearing in only 444 subreddits or less (0.9840648933541958%)\n",
      "There are 23900 news sources appearing in only 445 subreddits or less (0.9841060693403607%)\n",
      "There are 23901 news sources appearing in only 446 subreddits or less (0.9841472453265255%)\n",
      "There are 23901 news sources appearing in only 447 subreddits or less (0.9841472453265255%)\n",
      "There are 23901 news sources appearing in only 448 subreddits or less (0.9841472453265255%)\n",
      "There are 23901 news sources appearing in only 449 subreddits or less (0.9841472453265255%)\n",
      "There are 23902 news sources appearing in only 450 subreddits or less (0.9841884213126905%)\n",
      "There are 23902 news sources appearing in only 451 subreddits or less (0.9841884213126905%)\n",
      "There are 23905 news sources appearing in only 452 subreddits or less (0.984311949271185%)\n",
      "There are 23907 news sources appearing in only 453 subreddits or less (0.9843943012435148%)\n",
      "There are 23907 news sources appearing in only 454 subreddits or less (0.9843943012435148%)\n",
      "There are 23908 news sources appearing in only 455 subreddits or less (0.9844354772296796%)\n",
      "There are 23909 news sources appearing in only 456 subreddits or less (0.9844766532158445%)\n",
      "There are 23910 news sources appearing in only 457 subreddits or less (0.9845178292020094%)\n",
      "There are 23910 news sources appearing in only 458 subreddits or less (0.9845178292020094%)\n",
      "There are 23913 news sources appearing in only 459 subreddits or less (0.984641357160504%)\n",
      "There are 23915 news sources appearing in only 460 subreddits or less (0.9847237091328337%)\n",
      "There are 23915 news sources appearing in only 461 subreddits or less (0.9847237091328337%)\n",
      "There are 23916 news sources appearing in only 462 subreddits or less (0.9847648851189986%)\n",
      "There are 23916 news sources appearing in only 463 subreddits or less (0.9847648851189986%)\n",
      "There are 23917 news sources appearing in only 464 subreddits or less (0.9848060611051634%)\n",
      "There are 23917 news sources appearing in only 465 subreddits or less (0.9848060611051634%)\n",
      "There are 23919 news sources appearing in only 466 subreddits or less (0.9848884130774932%)\n",
      "There are 23919 news sources appearing in only 467 subreddits or less (0.9848884130774932%)\n",
      "There are 23919 news sources appearing in only 468 subreddits or less (0.9848884130774932%)\n",
      "There are 23919 news sources appearing in only 469 subreddits or less (0.9848884130774932%)\n",
      "There are 23919 news sources appearing in only 470 subreddits or less (0.9848884130774932%)\n",
      "There are 23920 news sources appearing in only 471 subreddits or less (0.9849295890636581%)\n",
      "There are 23920 news sources appearing in only 472 subreddits or less (0.9849295890636581%)\n",
      "There are 23922 news sources appearing in only 473 subreddits or less (0.9850119410359878%)\n",
      "There are 23922 news sources appearing in only 474 subreddits or less (0.9850119410359878%)\n",
      "There are 23923 news sources appearing in only 475 subreddits or less (0.9850531170221527%)\n",
      "There are 23923 news sources appearing in only 476 subreddits or less (0.9850531170221527%)\n",
      "There are 23925 news sources appearing in only 477 subreddits or less (0.9851354689944825%)\n",
      "There are 23925 news sources appearing in only 478 subreddits or less (0.9851354689944825%)\n",
      "There are 23925 news sources appearing in only 479 subreddits or less (0.9851354689944825%)\n",
      "There are 23926 news sources appearing in only 480 subreddits or less (0.9851766449806473%)\n",
      "There are 23926 news sources appearing in only 481 subreddits or less (0.9851766449806473%)\n",
      "There are 23927 news sources appearing in only 482 subreddits or less (0.9852178209668122%)\n",
      "There are 23927 news sources appearing in only 483 subreddits or less (0.9852178209668122%)\n"
     ]
    },
    {
     "name": "stdout",
     "output_type": "stream",
     "text": [
      "There are 23927 news sources appearing in only 484 subreddits or less (0.9852178209668122%)\n",
      "There are 23928 news sources appearing in only 485 subreddits or less (0.985258996952977%)\n",
      "There are 23929 news sources appearing in only 486 subreddits or less (0.9853001729391418%)\n",
      "There are 23931 news sources appearing in only 487 subreddits or less (0.9853825249114716%)\n",
      "There are 23931 news sources appearing in only 488 subreddits or less (0.9853825249114716%)\n",
      "There are 23931 news sources appearing in only 489 subreddits or less (0.9853825249114716%)\n",
      "There are 23932 news sources appearing in only 490 subreddits or less (0.9854237008976365%)\n",
      "There are 23934 news sources appearing in only 491 subreddits or less (0.9855060528699663%)\n",
      "There are 23934 news sources appearing in only 492 subreddits or less (0.9855060528699663%)\n",
      "There are 23934 news sources appearing in only 493 subreddits or less (0.9855060528699663%)\n",
      "There are 23935 news sources appearing in only 494 subreddits or less (0.9855472288561311%)\n",
      "There are 23936 news sources appearing in only 495 subreddits or less (0.9855884048422959%)\n",
      "There are 23936 news sources appearing in only 496 subreddits or less (0.9855884048422959%)\n",
      "There are 23937 news sources appearing in only 497 subreddits or less (0.9856295808284609%)\n",
      "There are 23940 news sources appearing in only 498 subreddits or less (0.9857531087869554%)\n",
      "There are 23941 news sources appearing in only 499 subreddits or less (0.9857942847731204%)\n",
      "There are 23942 news sources appearing in only 500 subreddits or less (0.9858354607592852%)\n",
      "There are 23943 news sources appearing in only 501 subreddits or less (0.98587663674545%)\n",
      "There are 23943 news sources appearing in only 502 subreddits or less (0.98587663674545%)\n",
      "There are 23945 news sources appearing in only 503 subreddits or less (0.9859589887177798%)\n",
      "There are 23945 news sources appearing in only 504 subreddits or less (0.9859589887177798%)\n",
      "There are 23947 news sources appearing in only 505 subreddits or less (0.9860413406901095%)\n",
      "There are 23947 news sources appearing in only 506 subreddits or less (0.9860413406901095%)\n",
      "There are 23949 news sources appearing in only 507 subreddits or less (0.9861236926624393%)\n",
      "There are 23951 news sources appearing in only 508 subreddits or less (0.986206044634769%)\n",
      "There are 23951 news sources appearing in only 509 subreddits or less (0.986206044634769%)\n",
      "There are 23951 news sources appearing in only 510 subreddits or less (0.986206044634769%)\n",
      "There are 23951 news sources appearing in only 511 subreddits or less (0.986206044634769%)\n",
      "There are 23951 news sources appearing in only 512 subreddits or less (0.986206044634769%)\n",
      "There are 23951 news sources appearing in only 513 subreddits or less (0.986206044634769%)\n",
      "There are 23951 news sources appearing in only 514 subreddits or less (0.986206044634769%)\n",
      "There are 23951 news sources appearing in only 515 subreddits or less (0.986206044634769%)\n",
      "There are 23952 news sources appearing in only 516 subreddits or less (0.9862472206209338%)\n",
      "There are 23953 news sources appearing in only 517 subreddits or less (0.9862883966070988%)\n",
      "There are 23953 news sources appearing in only 518 subreddits or less (0.9862883966070988%)\n",
      "There are 23954 news sources appearing in only 519 subreddits or less (0.9863295725932636%)\n",
      "There are 23956 news sources appearing in only 520 subreddits or less (0.9864119245655933%)\n",
      "There are 23956 news sources appearing in only 521 subreddits or less (0.9864119245655933%)\n",
      "There are 23956 news sources appearing in only 522 subreddits or less (0.9864119245655933%)\n",
      "There are 23957 news sources appearing in only 523 subreddits or less (0.9864531005517582%)\n",
      "There are 23959 news sources appearing in only 524 subreddits or less (0.9865354525240879%)\n",
      "There are 23959 news sources appearing in only 525 subreddits or less (0.9865354525240879%)\n",
      "There are 23959 news sources appearing in only 526 subreddits or less (0.9865354525240879%)\n",
      "There are 23960 news sources appearing in only 527 subreddits or less (0.9865766285102529%)\n",
      "There are 23963 news sources appearing in only 528 subreddits or less (0.9867001564687474%)\n",
      "There are 23964 news sources appearing in only 529 subreddits or less (0.9867413324549122%)\n",
      "There are 23964 news sources appearing in only 530 subreddits or less (0.9867413324549122%)\n",
      "There are 23965 news sources appearing in only 531 subreddits or less (0.9867825084410772%)\n",
      "There are 23965 news sources appearing in only 532 subreddits or less (0.9867825084410772%)\n",
      "There are 23966 news sources appearing in only 533 subreddits or less (0.986823684427242%)\n",
      "There are 23967 news sources appearing in only 534 subreddits or less (0.9868648604134069%)\n",
      "There are 23967 news sources appearing in only 535 subreddits or less (0.9868648604134069%)\n",
      "There are 23968 news sources appearing in only 536 subreddits or less (0.9869060363995718%)\n",
      "There are 23969 news sources appearing in only 537 subreddits or less (0.9869472123857367%)\n",
      "There are 23970 news sources appearing in only 538 subreddits or less (0.9869883883719015%)\n",
      "There are 23970 news sources appearing in only 539 subreddits or less (0.9869883883719015%)\n",
      "There are 23971 news sources appearing in only 540 subreddits or less (0.9870295643580663%)\n",
      "There are 23972 news sources appearing in only 541 subreddits or less (0.9870707403442313%)\n",
      "There are 23973 news sources appearing in only 542 subreddits or less (0.9871119163303961%)\n",
      "There are 23974 news sources appearing in only 543 subreddits or less (0.987153092316561%)\n",
      "There are 23975 news sources appearing in only 544 subreddits or less (0.9871942683027258%)\n",
      "There are 23976 news sources appearing in only 545 subreddits or less (0.9872354442888908%)\n",
      "There are 23976 news sources appearing in only 546 subreddits or less (0.9872354442888908%)\n",
      "There are 23976 news sources appearing in only 547 subreddits or less (0.9872354442888908%)\n",
      "There are 23977 news sources appearing in only 548 subreddits or less (0.9872766202750556%)\n",
      "There are 23978 news sources appearing in only 549 subreddits or less (0.9873177962612204%)\n",
      "There are 23978 news sources appearing in only 550 subreddits or less (0.9873177962612204%)\n",
      "There are 23978 news sources appearing in only 551 subreddits or less (0.9873177962612204%)\n",
      "There are 23978 news sources appearing in only 552 subreddits or less (0.9873177962612204%)\n",
      "There are 23979 news sources appearing in only 553 subreddits or less (0.9873589722473853%)\n",
      "There are 23979 news sources appearing in only 554 subreddits or less (0.9873589722473853%)\n",
      "There are 23979 news sources appearing in only 555 subreddits or less (0.9873589722473853%)\n",
      "There are 23980 news sources appearing in only 556 subreddits or less (0.9874001482335502%)\n",
      "There are 23980 news sources appearing in only 557 subreddits or less (0.9874001482335502%)\n",
      "There are 23980 news sources appearing in only 558 subreddits or less (0.9874001482335502%)\n",
      "There are 23982 news sources appearing in only 559 subreddits or less (0.9874825002058799%)\n",
      "There are 23982 news sources appearing in only 560 subreddits or less (0.9874825002058799%)\n",
      "There are 23982 news sources appearing in only 561 subreddits or less (0.9874825002058799%)\n",
      "There are 23983 news sources appearing in only 562 subreddits or less (0.9875236761920448%)\n",
      "There are 23985 news sources appearing in only 563 subreddits or less (0.9876060281643745%)\n",
      "There are 23985 news sources appearing in only 564 subreddits or less (0.9876060281643745%)\n",
      "There are 23988 news sources appearing in only 565 subreddits or less (0.9877295561228692%)\n",
      "There are 23990 news sources appearing in only 566 subreddits or less (0.9878119080951989%)\n",
      "There are 23991 news sources appearing in only 567 subreddits or less (0.9878530840813637%)\n",
      "There are 23991 news sources appearing in only 568 subreddits or less (0.9878530840813637%)\n",
      "There are 23991 news sources appearing in only 569 subreddits or less (0.9878530840813637%)\n",
      "There are 23991 news sources appearing in only 570 subreddits or less (0.9878530840813637%)\n",
      "There are 23992 news sources appearing in only 571 subreddits or less (0.9878942600675286%)\n",
      "There are 23992 news sources appearing in only 572 subreddits or less (0.9878942600675286%)\n",
      "There are 23992 news sources appearing in only 573 subreddits or less (0.9878942600675286%)\n",
      "There are 23992 news sources appearing in only 574 subreddits or less (0.9878942600675286%)\n",
      "There are 23992 news sources appearing in only 575 subreddits or less (0.9878942600675286%)\n",
      "There are 23992 news sources appearing in only 576 subreddits or less (0.9878942600675286%)\n",
      "There are 23993 news sources appearing in only 577 subreddits or less (0.9879354360536935%)\n",
      "There are 23994 news sources appearing in only 578 subreddits or less (0.9879766120398583%)\n",
      "There are 23994 news sources appearing in only 579 subreddits or less (0.9879766120398583%)\n",
      "There are 23995 news sources appearing in only 580 subreddits or less (0.9880177880260232%)\n",
      "There are 23997 news sources appearing in only 581 subreddits or less (0.988100139998353%)\n",
      "There are 23997 news sources appearing in only 582 subreddits or less (0.988100139998353%)\n"
     ]
    },
    {
     "name": "stdout",
     "output_type": "stream",
     "text": [
      "There are 23997 news sources appearing in only 583 subreddits or less (0.988100139998353%)\n",
      "There are 23999 news sources appearing in only 584 subreddits or less (0.9881824919706828%)\n",
      "There are 23999 news sources appearing in only 585 subreddits or less (0.9881824919706828%)\n",
      "There are 24000 news sources appearing in only 586 subreddits or less (0.9882236679568476%)\n",
      "There are 24001 news sources appearing in only 587 subreddits or less (0.9882648439430124%)\n",
      "There are 24001 news sources appearing in only 588 subreddits or less (0.9882648439430124%)\n",
      "There are 24001 news sources appearing in only 589 subreddits or less (0.9882648439430124%)\n",
      "There are 24001 news sources appearing in only 590 subreddits or less (0.9882648439430124%)\n",
      "There are 24001 news sources appearing in only 591 subreddits or less (0.9882648439430124%)\n",
      "There are 24001 news sources appearing in only 592 subreddits or less (0.9882648439430124%)\n",
      "There are 24002 news sources appearing in only 593 subreddits or less (0.9883060199291773%)\n",
      "There are 24002 news sources appearing in only 594 subreddits or less (0.9883060199291773%)\n",
      "There are 24002 news sources appearing in only 595 subreddits or less (0.9883060199291773%)\n",
      "There are 24002 news sources appearing in only 596 subreddits or less (0.9883060199291773%)\n",
      "There are 24002 news sources appearing in only 597 subreddits or less (0.9883060199291773%)\n",
      "There are 24002 news sources appearing in only 598 subreddits or less (0.9883060199291773%)\n",
      "There are 24003 news sources appearing in only 599 subreddits or less (0.9883471959153421%)\n",
      "There are 24004 news sources appearing in only 600 subreddits or less (0.9883883719015071%)\n",
      "There are 24005 news sources appearing in only 601 subreddits or less (0.9884295478876719%)\n",
      "There are 24005 news sources appearing in only 602 subreddits or less (0.9884295478876719%)\n",
      "There are 24005 news sources appearing in only 603 subreddits or less (0.9884295478876719%)\n",
      "There are 24006 news sources appearing in only 604 subreddits or less (0.9884707238738368%)\n",
      "There are 24006 news sources appearing in only 605 subreddits or less (0.9884707238738368%)\n",
      "There are 24006 news sources appearing in only 606 subreddits or less (0.9884707238738368%)\n",
      "There are 24006 news sources appearing in only 607 subreddits or less (0.9884707238738368%)\n",
      "There are 24006 news sources appearing in only 608 subreddits or less (0.9884707238738368%)\n",
      "There are 24006 news sources appearing in only 609 subreddits or less (0.9884707238738368%)\n",
      "There are 24006 news sources appearing in only 610 subreddits or less (0.9884707238738368%)\n",
      "There are 24006 news sources appearing in only 611 subreddits or less (0.9884707238738368%)\n",
      "There are 24006 news sources appearing in only 612 subreddits or less (0.9884707238738368%)\n",
      "There are 24006 news sources appearing in only 613 subreddits or less (0.9884707238738368%)\n",
      "There are 24006 news sources appearing in only 614 subreddits or less (0.9884707238738368%)\n",
      "There are 24008 news sources appearing in only 615 subreddits or less (0.9885530758461665%)\n",
      "There are 24009 news sources appearing in only 616 subreddits or less (0.9885942518323314%)\n",
      "There are 24010 news sources appearing in only 617 subreddits or less (0.9886354278184962%)\n",
      "There are 24010 news sources appearing in only 618 subreddits or less (0.9886354278184962%)\n",
      "There are 24012 news sources appearing in only 619 subreddits or less (0.988717779790826%)\n",
      "There are 24012 news sources appearing in only 620 subreddits or less (0.988717779790826%)\n",
      "There are 24012 news sources appearing in only 621 subreddits or less (0.988717779790826%)\n",
      "There are 24013 news sources appearing in only 622 subreddits or less (0.9887589557769909%)\n",
      "There are 24014 news sources appearing in only 623 subreddits or less (0.9888001317631557%)\n",
      "There are 24014 news sources appearing in only 624 subreddits or less (0.9888001317631557%)\n",
      "There are 24014 news sources appearing in only 625 subreddits or less (0.9888001317631557%)\n",
      "There are 24014 news sources appearing in only 626 subreddits or less (0.9888001317631557%)\n",
      "There are 24015 news sources appearing in only 627 subreddits or less (0.9888413077493206%)\n",
      "There are 24015 news sources appearing in only 628 subreddits or less (0.9888413077493206%)\n",
      "There are 24015 news sources appearing in only 629 subreddits or less (0.9888413077493206%)\n",
      "There are 24015 news sources appearing in only 630 subreddits or less (0.9888413077493206%)\n",
      "There are 24015 news sources appearing in only 631 subreddits or less (0.9888413077493206%)\n",
      "There are 24015 news sources appearing in only 632 subreddits or less (0.9888413077493206%)\n",
      "There are 24016 news sources appearing in only 633 subreddits or less (0.9888824837354855%)\n",
      "There are 24017 news sources appearing in only 634 subreddits or less (0.9889236597216503%)\n",
      "There are 24018 news sources appearing in only 635 subreddits or less (0.9889648357078152%)\n",
      "There are 24018 news sources appearing in only 636 subreddits or less (0.9889648357078152%)\n",
      "There are 24018 news sources appearing in only 637 subreddits or less (0.9889648357078152%)\n",
      "There are 24019 news sources appearing in only 638 subreddits or less (0.9890060116939801%)\n",
      "There are 24019 news sources appearing in only 639 subreddits or less (0.9890060116939801%)\n",
      "There are 24021 news sources appearing in only 640 subreddits or less (0.9890883636663098%)\n",
      "There are 24021 news sources appearing in only 641 subreddits or less (0.9890883636663098%)\n",
      "There are 24021 news sources appearing in only 642 subreddits or less (0.9890883636663098%)\n",
      "There are 24021 news sources appearing in only 643 subreddits or less (0.9890883636663098%)\n",
      "There are 24021 news sources appearing in only 644 subreddits or less (0.9890883636663098%)\n",
      "There are 24022 news sources appearing in only 645 subreddits or less (0.9891295396524746%)\n",
      "There are 24022 news sources appearing in only 646 subreddits or less (0.9891295396524746%)\n",
      "There are 24022 news sources appearing in only 647 subreddits or less (0.9891295396524746%)\n",
      "There are 24022 news sources appearing in only 648 subreddits or less (0.9891295396524746%)\n",
      "There are 24023 news sources appearing in only 649 subreddits or less (0.9891707156386396%)\n",
      "There are 24023 news sources appearing in only 650 subreddits or less (0.9891707156386396%)\n",
      "There are 24023 news sources appearing in only 651 subreddits or less (0.9891707156386396%)\n",
      "There are 24023 news sources appearing in only 652 subreddits or less (0.9891707156386396%)\n",
      "There are 24023 news sources appearing in only 653 subreddits or less (0.9891707156386396%)\n",
      "There are 24023 news sources appearing in only 654 subreddits or less (0.9891707156386396%)\n",
      "There are 24024 news sources appearing in only 655 subreddits or less (0.9892118916248044%)\n",
      "There are 24024 news sources appearing in only 656 subreddits or less (0.9892118916248044%)\n",
      "There are 24024 news sources appearing in only 657 subreddits or less (0.9892118916248044%)\n",
      "There are 24025 news sources appearing in only 658 subreddits or less (0.9892530676109693%)\n",
      "There are 24026 news sources appearing in only 659 subreddits or less (0.9892942435971341%)\n",
      "There are 24026 news sources appearing in only 660 subreddits or less (0.9892942435971341%)\n",
      "There are 24026 news sources appearing in only 661 subreddits or less (0.9892942435971341%)\n",
      "There are 24027 news sources appearing in only 662 subreddits or less (0.9893354195832991%)\n",
      "There are 24027 news sources appearing in only 663 subreddits or less (0.9893354195832991%)\n",
      "There are 24028 news sources appearing in only 664 subreddits or less (0.9893765955694639%)\n",
      "There are 24030 news sources appearing in only 665 subreddits or less (0.9894589475417936%)\n",
      "There are 24031 news sources appearing in only 666 subreddits or less (0.9895001235279585%)\n",
      "There are 24032 news sources appearing in only 667 subreddits or less (0.9895412995141234%)\n",
      "There are 24032 news sources appearing in only 668 subreddits or less (0.9895412995141234%)\n",
      "There are 24032 news sources appearing in only 669 subreddits or less (0.9895412995141234%)\n",
      "There are 24033 news sources appearing in only 670 subreddits or less (0.9895824755002882%)\n",
      "There are 24035 news sources appearing in only 671 subreddits or less (0.989664827472618%)\n",
      "There are 24035 news sources appearing in only 672 subreddits or less (0.989664827472618%)\n",
      "There are 24037 news sources appearing in only 673 subreddits or less (0.9897471794449477%)\n",
      "There are 24037 news sources appearing in only 674 subreddits or less (0.9897471794449477%)\n",
      "There are 24037 news sources appearing in only 675 subreddits or less (0.9897471794449477%)\n",
      "There are 24037 news sources appearing in only 676 subreddits or less (0.9897471794449477%)\n",
      "There are 24038 news sources appearing in only 677 subreddits or less (0.9897883554311125%)\n",
      "There are 24038 news sources appearing in only 678 subreddits or less (0.9897883554311125%)\n",
      "There are 24039 news sources appearing in only 679 subreddits or less (0.9898295314172775%)\n",
      "There are 24039 news sources appearing in only 680 subreddits or less (0.9898295314172775%)\n",
      "There are 24040 news sources appearing in only 681 subreddits or less (0.9898707074034423%)\n",
      "There are 24040 news sources appearing in only 682 subreddits or less (0.9898707074034423%)\n",
      "There are 24040 news sources appearing in only 683 subreddits or less (0.9898707074034423%)\n",
      "There are 24040 news sources appearing in only 684 subreddits or less (0.9898707074034423%)\n",
      "There are 24040 news sources appearing in only 685 subreddits or less (0.9898707074034423%)\n",
      "There are 24040 news sources appearing in only 686 subreddits or less (0.9898707074034423%)\n",
      "There are 24040 news sources appearing in only 687 subreddits or less (0.9898707074034423%)\n",
      "There are 24040 news sources appearing in only 688 subreddits or less (0.9898707074034423%)\n",
      "There are 24043 news sources appearing in only 689 subreddits or less (0.9899942353619369%)\n",
      "There are 24044 news sources appearing in only 690 subreddits or less (0.9900354113481018%)\n",
      "There are 24044 news sources appearing in only 691 subreddits or less (0.9900354113481018%)\n",
      "There are 24045 news sources appearing in only 692 subreddits or less (0.9900765873342666%)\n",
      "There are 24046 news sources appearing in only 693 subreddits or less (0.9901177633204316%)\n",
      "There are 24047 news sources appearing in only 694 subreddits or less (0.9901589393065964%)\n",
      "There are 24047 news sources appearing in only 695 subreddits or less (0.9901589393065964%)\n",
      "There are 24047 news sources appearing in only 696 subreddits or less (0.9901589393065964%)\n",
      "There are 24048 news sources appearing in only 697 subreddits or less (0.9902001152927613%)\n",
      "There are 24049 news sources appearing in only 698 subreddits or less (0.9902412912789261%)\n",
      "There are 24049 news sources appearing in only 699 subreddits or less (0.9902412912789261%)\n",
      "There are 24049 news sources appearing in only 700 subreddits or less (0.9902412912789261%)\n",
      "There are 24050 news sources appearing in only 701 subreddits or less (0.990282467265091%)\n",
      "There are 24050 news sources appearing in only 702 subreddits or less (0.990282467265091%)\n",
      "There are 24050 news sources appearing in only 703 subreddits or less (0.990282467265091%)\n",
      "There are 24050 news sources appearing in only 704 subreddits or less (0.990282467265091%)\n",
      "There are 24050 news sources appearing in only 705 subreddits or less (0.990282467265091%)\n",
      "There are 24050 news sources appearing in only 706 subreddits or less (0.990282467265091%)\n",
      "There are 24050 news sources appearing in only 707 subreddits or less (0.990282467265091%)\n",
      "There are 24050 news sources appearing in only 708 subreddits or less (0.990282467265091%)\n",
      "There are 24050 news sources appearing in only 709 subreddits or less (0.990282467265091%)\n"
     ]
    },
    {
     "name": "stdout",
     "output_type": "stream",
     "text": [
      "There are 24050 news sources appearing in only 710 subreddits or less (0.990282467265091%)\n",
      "There are 24050 news sources appearing in only 711 subreddits or less (0.990282467265091%)\n",
      "There are 24052 news sources appearing in only 712 subreddits or less (0.9903648192374207%)\n",
      "There are 24052 news sources appearing in only 713 subreddits or less (0.9903648192374207%)\n",
      "There are 24052 news sources appearing in only 714 subreddits or less (0.9903648192374207%)\n",
      "There are 24054 news sources appearing in only 715 subreddits or less (0.9904471712097505%)\n",
      "There are 24054 news sources appearing in only 716 subreddits or less (0.9904471712097505%)\n",
      "There are 24055 news sources appearing in only 717 subreddits or less (0.9904883471959154%)\n",
      "There are 24057 news sources appearing in only 718 subreddits or less (0.990570699168245%)\n",
      "There are 24057 news sources appearing in only 719 subreddits or less (0.990570699168245%)\n",
      "There are 24057 news sources appearing in only 720 subreddits or less (0.990570699168245%)\n",
      "There are 24057 news sources appearing in only 721 subreddits or less (0.990570699168245%)\n",
      "There are 24057 news sources appearing in only 722 subreddits or less (0.990570699168245%)\n",
      "There are 24057 news sources appearing in only 723 subreddits or less (0.990570699168245%)\n",
      "There are 24057 news sources appearing in only 724 subreddits or less (0.990570699168245%)\n",
      "There are 24057 news sources appearing in only 725 subreddits or less (0.990570699168245%)\n",
      "There are 24057 news sources appearing in only 726 subreddits or less (0.990570699168245%)\n",
      "There are 24057 news sources appearing in only 727 subreddits or less (0.990570699168245%)\n",
      "There are 24057 news sources appearing in only 728 subreddits or less (0.990570699168245%)\n",
      "There are 24057 news sources appearing in only 729 subreddits or less (0.990570699168245%)\n",
      "There are 24057 news sources appearing in only 730 subreddits or less (0.990570699168245%)\n",
      "There are 24057 news sources appearing in only 731 subreddits or less (0.990570699168245%)\n",
      "There are 24057 news sources appearing in only 732 subreddits or less (0.990570699168245%)\n",
      "There are 24057 news sources appearing in only 733 subreddits or less (0.990570699168245%)\n",
      "There are 24057 news sources appearing in only 734 subreddits or less (0.990570699168245%)\n",
      "There are 24057 news sources appearing in only 735 subreddits or less (0.990570699168245%)\n",
      "There are 24057 news sources appearing in only 736 subreddits or less (0.990570699168245%)\n",
      "There are 24058 news sources appearing in only 737 subreddits or less (0.99061187515441%)\n",
      "There are 24058 news sources appearing in only 738 subreddits or less (0.99061187515441%)\n",
      "There are 24058 news sources appearing in only 739 subreddits or less (0.99061187515441%)\n",
      "There are 24058 news sources appearing in only 740 subreddits or less (0.99061187515441%)\n",
      "There are 24059 news sources appearing in only 741 subreddits or less (0.9906530511405748%)\n",
      "There are 24059 news sources appearing in only 742 subreddits or less (0.9906530511405748%)\n",
      "There are 24059 news sources appearing in only 743 subreddits or less (0.9906530511405748%)\n",
      "There are 24059 news sources appearing in only 744 subreddits or less (0.9906530511405748%)\n",
      "There are 24059 news sources appearing in only 745 subreddits or less (0.9906530511405748%)\n",
      "There are 24059 news sources appearing in only 746 subreddits or less (0.9906530511405748%)\n",
      "There are 24059 news sources appearing in only 747 subreddits or less (0.9906530511405748%)\n",
      "There are 24059 news sources appearing in only 748 subreddits or less (0.9906530511405748%)\n",
      "There are 24059 news sources appearing in only 749 subreddits or less (0.9906530511405748%)\n",
      "There are 24060 news sources appearing in only 750 subreddits or less (0.9906942271267397%)\n",
      "There are 24061 news sources appearing in only 751 subreddits or less (0.9907354031129045%)\n",
      "There are 24061 news sources appearing in only 752 subreddits or less (0.9907354031129045%)\n",
      "There are 24062 news sources appearing in only 753 subreddits or less (0.9907765790990695%)\n",
      "There are 24062 news sources appearing in only 754 subreddits or less (0.9907765790990695%)\n",
      "There are 24063 news sources appearing in only 755 subreddits or less (0.9908177550852343%)\n",
      "There are 24063 news sources appearing in only 756 subreddits or less (0.9908177550852343%)\n",
      "There are 24063 news sources appearing in only 757 subreddits or less (0.9908177550852343%)\n",
      "There are 24064 news sources appearing in only 758 subreddits or less (0.9908589310713991%)\n",
      "There are 24064 news sources appearing in only 759 subreddits or less (0.9908589310713991%)\n",
      "There are 24065 news sources appearing in only 760 subreddits or less (0.990900107057564%)\n",
      "There are 24065 news sources appearing in only 761 subreddits or less (0.990900107057564%)\n",
      "There are 24065 news sources appearing in only 762 subreddits or less (0.990900107057564%)\n",
      "There are 24065 news sources appearing in only 763 subreddits or less (0.990900107057564%)\n",
      "There are 24065 news sources appearing in only 764 subreddits or less (0.990900107057564%)\n",
      "There are 24065 news sources appearing in only 765 subreddits or less (0.990900107057564%)\n",
      "There are 24065 news sources appearing in only 766 subreddits or less (0.990900107057564%)\n",
      "There are 24066 news sources appearing in only 767 subreddits or less (0.9909412830437289%)\n",
      "There are 24066 news sources appearing in only 768 subreddits or less (0.9909412830437289%)\n",
      "There are 24066 news sources appearing in only 769 subreddits or less (0.9909412830437289%)\n",
      "There are 24066 news sources appearing in only 770 subreddits or less (0.9909412830437289%)\n",
      "There are 24066 news sources appearing in only 771 subreddits or less (0.9909412830437289%)\n",
      "There are 24067 news sources appearing in only 772 subreddits or less (0.9909824590298938%)\n",
      "There are 24067 news sources appearing in only 773 subreddits or less (0.9909824590298938%)\n",
      "There are 24067 news sources appearing in only 774 subreddits or less (0.9909824590298938%)\n",
      "There are 24067 news sources appearing in only 775 subreddits or less (0.9909824590298938%)\n",
      "There are 24067 news sources appearing in only 776 subreddits or less (0.9909824590298938%)\n",
      "There are 24068 news sources appearing in only 777 subreddits or less (0.9910236350160586%)\n",
      "There are 24068 news sources appearing in only 778 subreddits or less (0.9910236350160586%)\n",
      "There are 24068 news sources appearing in only 779 subreddits or less (0.9910236350160586%)\n",
      "There are 24068 news sources appearing in only 780 subreddits or less (0.9910236350160586%)\n",
      "There are 24068 news sources appearing in only 781 subreddits or less (0.9910236350160586%)\n",
      "There are 24068 news sources appearing in only 782 subreddits or less (0.9910236350160586%)\n",
      "There are 24068 news sources appearing in only 783 subreddits or less (0.9910236350160586%)\n",
      "There are 24068 news sources appearing in only 784 subreddits or less (0.9910236350160586%)\n",
      "There are 24068 news sources appearing in only 785 subreddits or less (0.9910236350160586%)\n",
      "There are 24068 news sources appearing in only 786 subreddits or less (0.9910236350160586%)\n",
      "There are 24069 news sources appearing in only 787 subreddits or less (0.9910648110022235%)\n",
      "There are 24069 news sources appearing in only 788 subreddits or less (0.9910648110022235%)\n",
      "There are 24070 news sources appearing in only 789 subreddits or less (0.9911059869883884%)\n",
      "There are 24070 news sources appearing in only 790 subreddits or less (0.9911059869883884%)\n",
      "There are 24070 news sources appearing in only 791 subreddits or less (0.9911059869883884%)\n",
      "There are 24071 news sources appearing in only 792 subreddits or less (0.9911471629745532%)\n",
      "There are 24071 news sources appearing in only 793 subreddits or less (0.9911471629745532%)\n",
      "There are 24071 news sources appearing in only 794 subreddits or less (0.9911471629745532%)\n",
      "There are 24071 news sources appearing in only 795 subreddits or less (0.9911471629745532%)\n",
      "There are 24072 news sources appearing in only 796 subreddits or less (0.9911883389607181%)\n",
      "There are 24072 news sources appearing in only 797 subreddits or less (0.9911883389607181%)\n",
      "There are 24072 news sources appearing in only 798 subreddits or less (0.9911883389607181%)\n",
      "There are 24072 news sources appearing in only 799 subreddits or less (0.9911883389607181%)\n",
      "There are 24072 news sources appearing in only 800 subreddits or less (0.9911883389607181%)\n",
      "There are 24072 news sources appearing in only 801 subreddits or less (0.9911883389607181%)\n",
      "There are 24072 news sources appearing in only 802 subreddits or less (0.9911883389607181%)\n",
      "There are 24072 news sources appearing in only 803 subreddits or less (0.9911883389607181%)\n",
      "There are 24073 news sources appearing in only 804 subreddits or less (0.9912295149468829%)\n"
     ]
    },
    {
     "name": "stdout",
     "output_type": "stream",
     "text": [
      "There are 24073 news sources appearing in only 805 subreddits or less (0.9912295149468829%)\n",
      "There are 24073 news sources appearing in only 806 subreddits or less (0.9912295149468829%)\n",
      "There are 24074 news sources appearing in only 807 subreddits or less (0.9912706909330479%)\n",
      "There are 24074 news sources appearing in only 808 subreddits or less (0.9912706909330479%)\n",
      "There are 24074 news sources appearing in only 809 subreddits or less (0.9912706909330479%)\n",
      "There are 24074 news sources appearing in only 810 subreddits or less (0.9912706909330479%)\n",
      "There are 24074 news sources appearing in only 811 subreddits or less (0.9912706909330479%)\n",
      "There are 24074 news sources appearing in only 812 subreddits or less (0.9912706909330479%)\n",
      "There are 24075 news sources appearing in only 813 subreddits or less (0.9913118669192127%)\n",
      "There are 24075 news sources appearing in only 814 subreddits or less (0.9913118669192127%)\n",
      "There are 24075 news sources appearing in only 815 subreddits or less (0.9913118669192127%)\n",
      "There are 24077 news sources appearing in only 816 subreddits or less (0.9913942188915424%)\n",
      "There are 24077 news sources appearing in only 817 subreddits or less (0.9913942188915424%)\n",
      "There are 24077 news sources appearing in only 818 subreddits or less (0.9913942188915424%)\n",
      "There are 24077 news sources appearing in only 819 subreddits or less (0.9913942188915424%)\n",
      "There are 24077 news sources appearing in only 820 subreddits or less (0.9913942188915424%)\n",
      "There are 24077 news sources appearing in only 821 subreddits or less (0.9913942188915424%)\n",
      "There are 24077 news sources appearing in only 822 subreddits or less (0.9913942188915424%)\n",
      "There are 24078 news sources appearing in only 823 subreddits or less (0.9914353948777073%)\n",
      "There are 24078 news sources appearing in only 824 subreddits or less (0.9914353948777073%)\n",
      "There are 24078 news sources appearing in only 825 subreddits or less (0.9914353948777073%)\n",
      "There are 24078 news sources appearing in only 826 subreddits or less (0.9914353948777073%)\n",
      "There are 24078 news sources appearing in only 827 subreddits or less (0.9914353948777073%)\n",
      "There are 24079 news sources appearing in only 828 subreddits or less (0.9914765708638722%)\n",
      "There are 24079 news sources appearing in only 829 subreddits or less (0.9914765708638722%)\n",
      "There are 24080 news sources appearing in only 830 subreddits or less (0.991517746850037%)\n",
      "There are 24080 news sources appearing in only 831 subreddits or less (0.991517746850037%)\n",
      "There are 24080 news sources appearing in only 832 subreddits or less (0.991517746850037%)\n",
      "There are 24080 news sources appearing in only 833 subreddits or less (0.991517746850037%)\n",
      "There are 24080 news sources appearing in only 834 subreddits or less (0.991517746850037%)\n",
      "There are 24081 news sources appearing in only 835 subreddits or less (0.991558922836202%)\n",
      "There are 24081 news sources appearing in only 836 subreddits or less (0.991558922836202%)\n",
      "There are 24081 news sources appearing in only 837 subreddits or less (0.991558922836202%)\n",
      "There are 24081 news sources appearing in only 838 subreddits or less (0.991558922836202%)\n",
      "There are 24081 news sources appearing in only 839 subreddits or less (0.991558922836202%)\n",
      "There are 24081 news sources appearing in only 840 subreddits or less (0.991558922836202%)\n",
      "There are 24081 news sources appearing in only 841 subreddits or less (0.991558922836202%)\n",
      "There are 24081 news sources appearing in only 842 subreddits or less (0.991558922836202%)\n",
      "There are 24081 news sources appearing in only 843 subreddits or less (0.991558922836202%)\n",
      "There are 24081 news sources appearing in only 844 subreddits or less (0.991558922836202%)\n",
      "There are 24081 news sources appearing in only 845 subreddits or less (0.991558922836202%)\n",
      "There are 24081 news sources appearing in only 846 subreddits or less (0.991558922836202%)\n",
      "There are 24081 news sources appearing in only 847 subreddits or less (0.991558922836202%)\n",
      "There are 24081 news sources appearing in only 848 subreddits or less (0.991558922836202%)\n",
      "There are 24081 news sources appearing in only 849 subreddits or less (0.991558922836202%)\n",
      "There are 24081 news sources appearing in only 850 subreddits or less (0.991558922836202%)\n",
      "There are 24081 news sources appearing in only 851 subreddits or less (0.991558922836202%)\n",
      "There are 24081 news sources appearing in only 852 subreddits or less (0.991558922836202%)\n",
      "There are 24081 news sources appearing in only 853 subreddits or less (0.991558922836202%)\n",
      "There are 24081 news sources appearing in only 854 subreddits or less (0.991558922836202%)\n",
      "There are 24081 news sources appearing in only 855 subreddits or less (0.991558922836202%)\n",
      "There are 24082 news sources appearing in only 856 subreddits or less (0.9916000988223668%)\n",
      "There are 24082 news sources appearing in only 857 subreddits or less (0.9916000988223668%)\n",
      "There are 24082 news sources appearing in only 858 subreddits or less (0.9916000988223668%)\n",
      "There are 24082 news sources appearing in only 859 subreddits or less (0.9916000988223668%)\n",
      "There are 24082 news sources appearing in only 860 subreddits or less (0.9916000988223668%)\n",
      "There are 24082 news sources appearing in only 861 subreddits or less (0.9916000988223668%)\n",
      "There are 24083 news sources appearing in only 862 subreddits or less (0.9916412748085317%)\n",
      "There are 24083 news sources appearing in only 863 subreddits or less (0.9916412748085317%)\n",
      "There are 24083 news sources appearing in only 864 subreddits or less (0.9916412748085317%)\n",
      "There are 24084 news sources appearing in only 865 subreddits or less (0.9916824507946965%)\n",
      "There are 24084 news sources appearing in only 866 subreddits or less (0.9916824507946965%)\n",
      "There are 24084 news sources appearing in only 867 subreddits or less (0.9916824507946965%)\n",
      "There are 24084 news sources appearing in only 868 subreddits or less (0.9916824507946965%)\n",
      "There are 24085 news sources appearing in only 869 subreddits or less (0.9917236267808615%)\n",
      "There are 24085 news sources appearing in only 870 subreddits or less (0.9917236267808615%)\n",
      "There are 24085 news sources appearing in only 871 subreddits or less (0.9917236267808615%)\n",
      "There are 24086 news sources appearing in only 872 subreddits or less (0.9917648027670263%)\n",
      "There are 24087 news sources appearing in only 873 subreddits or less (0.9918059787531911%)\n",
      "There are 24088 news sources appearing in only 874 subreddits or less (0.991847154739356%)\n",
      "There are 24088 news sources appearing in only 875 subreddits or less (0.991847154739356%)\n",
      "There are 24088 news sources appearing in only 876 subreddits or less (0.991847154739356%)\n",
      "There are 24089 news sources appearing in only 877 subreddits or less (0.9918883307255209%)\n",
      "There are 24089 news sources appearing in only 878 subreddits or less (0.9918883307255209%)\n",
      "There are 24089 news sources appearing in only 879 subreddits or less (0.9918883307255209%)\n",
      "There are 24090 news sources appearing in only 880 subreddits or less (0.9919295067116858%)\n",
      "There are 24090 news sources appearing in only 881 subreddits or less (0.9919295067116858%)\n",
      "There are 24092 news sources appearing in only 882 subreddits or less (0.9920118586840155%)\n",
      "There are 24092 news sources appearing in only 883 subreddits or less (0.9920118586840155%)\n",
      "There are 24092 news sources appearing in only 884 subreddits or less (0.9920118586840155%)\n",
      "There are 24092 news sources appearing in only 885 subreddits or less (0.9920118586840155%)\n",
      "There are 24092 news sources appearing in only 886 subreddits or less (0.9920118586840155%)\n",
      "There are 24093 news sources appearing in only 887 subreddits or less (0.9920530346701804%)\n",
      "There are 24093 news sources appearing in only 888 subreddits or less (0.9920530346701804%)\n",
      "There are 24093 news sources appearing in only 889 subreddits or less (0.9920530346701804%)\n",
      "There are 24093 news sources appearing in only 890 subreddits or less (0.9920530346701804%)\n",
      "There are 24093 news sources appearing in only 891 subreddits or less (0.9920530346701804%)\n",
      "There are 24093 news sources appearing in only 892 subreddits or less (0.9920530346701804%)\n",
      "There are 24093 news sources appearing in only 893 subreddits or less (0.9920530346701804%)\n",
      "There are 24093 news sources appearing in only 894 subreddits or less (0.9920530346701804%)\n",
      "There are 24093 news sources appearing in only 895 subreddits or less (0.9920530346701804%)\n",
      "There are 24093 news sources appearing in only 896 subreddits or less (0.9920530346701804%)\n",
      "There are 24093 news sources appearing in only 897 subreddits or less (0.9920530346701804%)\n",
      "There are 24093 news sources appearing in only 898 subreddits or less (0.9920530346701804%)\n",
      "There are 24094 news sources appearing in only 899 subreddits or less (0.9920942106563452%)\n",
      "There are 24094 news sources appearing in only 900 subreddits or less (0.9920942106563452%)\n",
      "There are 24094 news sources appearing in only 901 subreddits or less (0.9920942106563452%)\n"
     ]
    },
    {
     "name": "stdout",
     "output_type": "stream",
     "text": [
      "There are 24094 news sources appearing in only 902 subreddits or less (0.9920942106563452%)\n",
      "There are 24094 news sources appearing in only 903 subreddits or less (0.9920942106563452%)\n",
      "There are 24094 news sources appearing in only 904 subreddits or less (0.9920942106563452%)\n",
      "There are 24095 news sources appearing in only 905 subreddits or less (0.9921353866425101%)\n",
      "There are 24095 news sources appearing in only 906 subreddits or less (0.9921353866425101%)\n",
      "There are 24095 news sources appearing in only 907 subreddits or less (0.9921353866425101%)\n",
      "There are 24095 news sources appearing in only 908 subreddits or less (0.9921353866425101%)\n",
      "There are 24095 news sources appearing in only 909 subreddits or less (0.9921353866425101%)\n",
      "There are 24095 news sources appearing in only 910 subreddits or less (0.9921353866425101%)\n",
      "There are 24095 news sources appearing in only 911 subreddits or less (0.9921353866425101%)\n",
      "There are 24095 news sources appearing in only 912 subreddits or less (0.9921353866425101%)\n",
      "There are 24096 news sources appearing in only 913 subreddits or less (0.9921765626286749%)\n",
      "There are 24098 news sources appearing in only 914 subreddits or less (0.9922589146010047%)\n",
      "There are 24098 news sources appearing in only 915 subreddits or less (0.9922589146010047%)\n",
      "There are 24098 news sources appearing in only 916 subreddits or less (0.9922589146010047%)\n",
      "There are 24098 news sources appearing in only 917 subreddits or less (0.9922589146010047%)\n",
      "There are 24098 news sources appearing in only 918 subreddits or less (0.9922589146010047%)\n",
      "There are 24098 news sources appearing in only 919 subreddits or less (0.9922589146010047%)\n",
      "There are 24098 news sources appearing in only 920 subreddits or less (0.9922589146010047%)\n",
      "There are 24098 news sources appearing in only 921 subreddits or less (0.9922589146010047%)\n",
      "There are 24098 news sources appearing in only 922 subreddits or less (0.9922589146010047%)\n",
      "There are 24098 news sources appearing in only 923 subreddits or less (0.9922589146010047%)\n",
      "There are 24098 news sources appearing in only 924 subreddits or less (0.9922589146010047%)\n",
      "There are 24098 news sources appearing in only 925 subreddits or less (0.9922589146010047%)\n",
      "There are 24098 news sources appearing in only 926 subreddits or less (0.9922589146010047%)\n",
      "There are 24098 news sources appearing in only 927 subreddits or less (0.9922589146010047%)\n",
      "There are 24098 news sources appearing in only 928 subreddits or less (0.9922589146010047%)\n",
      "There are 24098 news sources appearing in only 929 subreddits or less (0.9922589146010047%)\n",
      "There are 24098 news sources appearing in only 930 subreddits or less (0.9922589146010047%)\n",
      "There are 24098 news sources appearing in only 931 subreddits or less (0.9922589146010047%)\n",
      "There are 24098 news sources appearing in only 932 subreddits or less (0.9922589146010047%)\n",
      "There are 24098 news sources appearing in only 933 subreddits or less (0.9922589146010047%)\n",
      "There are 24098 news sources appearing in only 934 subreddits or less (0.9922589146010047%)\n",
      "There are 24098 news sources appearing in only 935 subreddits or less (0.9922589146010047%)\n",
      "There are 24098 news sources appearing in only 936 subreddits or less (0.9922589146010047%)\n",
      "There are 24098 news sources appearing in only 937 subreddits or less (0.9922589146010047%)\n",
      "There are 24098 news sources appearing in only 938 subreddits or less (0.9922589146010047%)\n",
      "There are 24098 news sources appearing in only 939 subreddits or less (0.9922589146010047%)\n",
      "There are 24098 news sources appearing in only 940 subreddits or less (0.9922589146010047%)\n",
      "There are 24098 news sources appearing in only 941 subreddits or less (0.9922589146010047%)\n",
      "There are 24099 news sources appearing in only 942 subreddits or less (0.9923000905871696%)\n",
      "There are 24099 news sources appearing in only 943 subreddits or less (0.9923000905871696%)\n",
      "There are 24100 news sources appearing in only 944 subreddits or less (0.9923412665733344%)\n",
      "There are 24101 news sources appearing in only 945 subreddits or less (0.9923824425594993%)\n",
      "There are 24101 news sources appearing in only 946 subreddits or less (0.9923824425594993%)\n",
      "There are 24101 news sources appearing in only 947 subreddits or less (0.9923824425594993%)\n",
      "There are 24101 news sources appearing in only 948 subreddits or less (0.9923824425594993%)\n",
      "There are 24101 news sources appearing in only 949 subreddits or less (0.9923824425594993%)\n",
      "There are 24101 news sources appearing in only 950 subreddits or less (0.9923824425594993%)\n",
      "There are 24101 news sources appearing in only 951 subreddits or less (0.9923824425594993%)\n",
      "There are 24102 news sources appearing in only 952 subreddits or less (0.9924236185456642%)\n",
      "There are 24102 news sources appearing in only 953 subreddits or less (0.9924236185456642%)\n",
      "There are 24102 news sources appearing in only 954 subreddits or less (0.9924236185456642%)\n",
      "There are 24102 news sources appearing in only 955 subreddits or less (0.9924236185456642%)\n",
      "There are 24102 news sources appearing in only 956 subreddits or less (0.9924236185456642%)\n",
      "There are 24102 news sources appearing in only 957 subreddits or less (0.9924236185456642%)\n",
      "There are 24102 news sources appearing in only 958 subreddits or less (0.9924236185456642%)\n",
      "There are 24102 news sources appearing in only 959 subreddits or less (0.9924236185456642%)\n",
      "There are 24102 news sources appearing in only 960 subreddits or less (0.9924236185456642%)\n",
      "There are 24102 news sources appearing in only 961 subreddits or less (0.9924236185456642%)\n",
      "There are 24102 news sources appearing in only 962 subreddits or less (0.9924236185456642%)\n",
      "There are 24102 news sources appearing in only 963 subreddits or less (0.9924236185456642%)\n",
      "There are 24102 news sources appearing in only 964 subreddits or less (0.9924236185456642%)\n",
      "There are 24102 news sources appearing in only 965 subreddits or less (0.9924236185456642%)\n",
      "There are 24103 news sources appearing in only 966 subreddits or less (0.992464794531829%)\n",
      "There are 24103 news sources appearing in only 967 subreddits or less (0.992464794531829%)\n",
      "There are 24103 news sources appearing in only 968 subreddits or less (0.992464794531829%)\n",
      "There are 24103 news sources appearing in only 969 subreddits or less (0.992464794531829%)\n",
      "There are 24103 news sources appearing in only 970 subreddits or less (0.992464794531829%)\n",
      "There are 24103 news sources appearing in only 971 subreddits or less (0.992464794531829%)\n",
      "There are 24103 news sources appearing in only 972 subreddits or less (0.992464794531829%)\n",
      "There are 24103 news sources appearing in only 973 subreddits or less (0.992464794531829%)\n",
      "There are 24104 news sources appearing in only 974 subreddits or less (0.9925059705179939%)\n",
      "There are 24104 news sources appearing in only 975 subreddits or less (0.9925059705179939%)\n",
      "There are 24105 news sources appearing in only 976 subreddits or less (0.9925471465041588%)\n",
      "There are 24105 news sources appearing in only 977 subreddits or less (0.9925471465041588%)\n",
      "There are 24106 news sources appearing in only 978 subreddits or less (0.9925883224903237%)\n",
      "There are 24106 news sources appearing in only 979 subreddits or less (0.9925883224903237%)\n",
      "There are 24106 news sources appearing in only 980 subreddits or less (0.9925883224903237%)\n",
      "There are 24106 news sources appearing in only 981 subreddits or less (0.9925883224903237%)\n",
      "There are 24106 news sources appearing in only 982 subreddits or less (0.9925883224903237%)\n",
      "There are 24106 news sources appearing in only 983 subreddits or less (0.9925883224903237%)\n",
      "There are 24107 news sources appearing in only 984 subreddits or less (0.9926294984764885%)\n",
      "There are 24107 news sources appearing in only 985 subreddits or less (0.9926294984764885%)\n",
      "There are 24107 news sources appearing in only 986 subreddits or less (0.9926294984764885%)\n",
      "There are 24107 news sources appearing in only 987 subreddits or less (0.9926294984764885%)\n",
      "There are 24108 news sources appearing in only 988 subreddits or less (0.9926706744626533%)\n",
      "There are 24109 news sources appearing in only 989 subreddits or less (0.9927118504488183%)\n",
      "There are 24109 news sources appearing in only 990 subreddits or less (0.9927118504488183%)\n",
      "There are 24109 news sources appearing in only 991 subreddits or less (0.9927118504488183%)\n",
      "There are 24109 news sources appearing in only 992 subreddits or less (0.9927118504488183%)\n",
      "There are 24109 news sources appearing in only 993 subreddits or less (0.9927118504488183%)\n",
      "There are 24109 news sources appearing in only 994 subreddits or less (0.9927118504488183%)\n",
      "There are 24109 news sources appearing in only 995 subreddits or less (0.9927118504488183%)\n",
      "There are 24109 news sources appearing in only 996 subreddits or less (0.9927118504488183%)\n",
      "There are 24110 news sources appearing in only 997 subreddits or less (0.9927530264349831%)\n",
      "There are 24110 news sources appearing in only 998 subreddits or less (0.9927530264349831%)\n",
      "There are 24111 news sources appearing in only 999 subreddits or less (0.992794202421148%)\n"
     ]
    }
   ],
   "source": [
    "pct_in_k_subreddits = [(i, pct_ns_in_k_subreddits(i)) for i in range(1000)]"
   ]
  },
  {
   "cell_type": "code",
   "execution_count": 382,
   "metadata": {},
   "outputs": [
    {
     "data": {
      "text/plain": [
       "Text(0.5, 1.0, 'proportion of news sources appearing in x subreddits or less')"
      ]
     },
     "execution_count": 382,
     "metadata": {},
     "output_type": "execute_result"
    },
    {
     "data": {
      "image/png": "[encoded data removed]",
      "text/plain": [
       "<Figure size 1080x432 with 2 Axes>"
      ]
     },
     "metadata": {},
     "output_type": "display_data"
    }
   ],
   "source": [
    "fig, (ax1, ax2) = plt.subplots(1, 2, figsize=(15,6))\n",
    "sns.set(font_scale = 1.2)\n",
    "\n",
    "sns.histplot(scf, log_scale=True, ax=ax1)\n",
    "ax1.set_xlabel(\"number of subreddit\")\n",
    "ax1.set_ylabel(\"news source count\")\n",
    "ax1.set_title(\"number of news sources appearing in x subreddits\")\n",
    "\n",
    "sns.lineplot(x=[k[0] for k in pct_in_k_subreddits],\n",
    "             y=[k[1] for k in pct_in_k_subreddits],\n",
    "            ax=ax2)\n",
    "ax2.set_ylabel(\"percentage\")\n",
    "ax2.set_xlabel(\"# subreddits news sources appear in\")\n",
    "ax2.set_title(\"proportion of news sources appearing in x subreddits or less\")"
   ]
  },
  {
   "cell_type": "code",
   "execution_count": 383,
   "metadata": {
    "scrolled": true
   },
   "outputs": [
    {
     "data": {
      "text/plain": [
       "133.65992753026435"
      ]
     },
     "execution_count": 383,
     "metadata": {},
     "output_type": "execute_result"
    }
   ],
   "source": [
    "# mean\n",
    "statistics.mean(scf)"
   ]
  },
  {
   "cell_type": "code",
   "execution_count": 384,
   "metadata": {},
   "outputs": [
    {
     "data": {
      "text/plain": [
       "6.0"
      ]
     },
     "execution_count": 384,
     "metadata": {},
     "output_type": "execute_result"
    }
   ],
   "source": [
    "# median\n",
    "statistics.median(scf)"
   ]
  },
  {
   "cell_type": "markdown",
   "metadata": {},
   "source": [
    "## For each subreddit let's count how many news sources were mentioned in it"
   ]
  },
  {
   "cell_type": "markdown",
   "metadata": {},
   "source": [
    "Counting how many news sources were mentioned in each subreddit"
   ]
  },
  {
   "cell_type": "code",
   "execution_count": 385,
   "metadata": {},
   "outputs": [],
   "source": [
    "nsc_count = dict()\n",
    "for ns in sr_union:\n",
    "    nsc_count[ns] = len(set(subreddit_ns_jan.get(ns, dict()).keys()) \n",
    "                               | set(subreddit_ns_feb.get(ns, dict()).keys()) \n",
    "                               | set(subreddit_ns_march.get(ns, dict()).keys()) \n",
    "                               | set(subreddit_ns_april.get(ns, dict()).keys())\n",
    "                               | set(subreddit_ns_may.get(ns, dict()).keys()) \n",
    "                               | set(subreddit_ns_jun.get(ns, dict()).keys()))"
   ]
  },
  {
   "cell_type": "markdown",
   "metadata": {},
   "source": [
    "`nsc_count` stores how many news sources appear in each subreddit."
   ]
  },
  {
   "cell_type": "code",
   "execution_count": 386,
   "metadata": {},
   "outputs": [
    {
     "data": {
      "text/plain": [
       "149"
      ]
     },
     "execution_count": 386,
     "metadata": {},
     "output_type": "execute_result"
    }
   ],
   "source": [
    "nsc_count['aww']"
   ]
  },
  {
   "cell_type": "code",
   "execution_count": 387,
   "metadata": {},
   "outputs": [
    {
     "data": {
      "text/plain": [
       "{1: 1295615,\n",
       " 2: 179605,\n",
       " 3: 51552,\n",
       " 4: 25066,\n",
       " 5: 14997,\n",
       " 6: 9431,\n",
       " 7: 6524,\n",
       " 8: 4855,\n",
       " 9: 3897,\n",
       " 10: 3000,\n",
       " 11: 2433,\n",
       " 12: 2048,\n",
       " 13: 1713,\n",
       " 14: 1411,\n",
       " 15: 1196,\n",
       " 16: 1148,\n",
       " 17: 929,\n",
       " 18: 818,\n",
       " 19: 755,\n",
       " 21: 633,\n",
       " 20: 617,\n",
       " 22: 567,\n",
       " 23: 500,\n",
       " 25: 466,\n",
       " 24: 453,\n",
       " 26: 393,\n",
       " 27: 383,\n",
       " 28: 336,\n",
       " 30: 332,\n",
       " 29: 316,\n",
       " 31: 292,\n",
       " 32: 249,\n",
       " 33: 237,\n",
       " 35: 224,\n",
       " 34: 215,\n",
       " 36: 198,\n",
       " 37: 190,\n",
       " 39: 185,\n",
       " 42: 173,\n",
       " 38: 169,\n",
       " 43: 152,\n",
       " 41: 150,\n",
       " 40: 138,\n",
       " 45: 135,\n",
       " 47: 125,\n",
       " 49: 123,\n",
       " 50: 123,\n",
       " 46: 121,\n",
       " 48: 120,\n",
       " 44: 117,\n",
       " 55: 100,\n",
       " 52: 99,\n",
       " 53: 99,\n",
       " 51: 93,\n",
       " 59: 90,\n",
       " 58: 84,\n",
       " 62: 81,\n",
       " 54: 80,\n",
       " 56: 78,\n",
       " 61: 74,\n",
       " 60: 67,\n",
       " 63: 65,\n",
       " 57: 64,\n",
       " 68: 58,\n",
       " 65: 57,\n",
       " 64: 54,\n",
       " 76: 54,\n",
       " 71: 54,\n",
       " 66: 50,\n",
       " 70: 49,\n",
       " 75: 48,\n",
       " 69: 48,\n",
       " 74: 47,\n",
       " 67: 46,\n",
       " 78: 44,\n",
       " 72: 44,\n",
       " 81: 43,\n",
       " 89: 42,\n",
       " 73: 40,\n",
       " 82: 40,\n",
       " 77: 38,\n",
       " 90: 37,\n",
       " 84: 36,\n",
       " 79: 36,\n",
       " 83: 36,\n",
       " 80: 35,\n",
       " 99: 32,\n",
       " 87: 32,\n",
       " 88: 30,\n",
       " 85: 30,\n",
       " 97: 30,\n",
       " 94: 28,\n",
       " 98: 28,\n",
       " 91: 28,\n",
       " 104: 27,\n",
       " 103: 27,\n",
       " 86: 26,\n",
       " 100: 26,\n",
       " 110: 25,\n",
       " 114: 25,\n",
       " 92: 24,\n",
       " 95: 24,\n",
       " 101: 24,\n",
       " 108: 21,\n",
       " 93: 21,\n",
       " 96: 21,\n",
       " 111: 20,\n",
       " 107: 20,\n",
       " 109: 19,\n",
       " 113: 17,\n",
       " 112: 17,\n",
       " 106: 17,\n",
       " 102: 17,\n",
       " 121: 16,\n",
       " 123: 16,\n",
       " 151: 16,\n",
       " 139: 16,\n",
       " 172: 16,\n",
       " 149: 16,\n",
       " 117: 16,\n",
       " 128: 15,\n",
       " 133: 15,\n",
       " 134: 15,\n",
       " 137: 15,\n",
       " 115: 15,\n",
       " 105: 15,\n",
       " 124: 15,\n",
       " 118: 14,\n",
       " 158: 14,\n",
       " 129: 14,\n",
       " 144: 14,\n",
       " 140: 14,\n",
       " 169: 14,\n",
       " 130: 14,\n",
       " 116: 13,\n",
       " 131: 13,\n",
       " 119: 13,\n",
       " 146: 13,\n",
       " 122: 13,\n",
       " 136: 13,\n",
       " 155: 13,\n",
       " 120: 13,\n",
       " 145: 12,\n",
       " 132: 12,\n",
       " 141: 12,\n",
       " 138: 12,\n",
       " 163: 12,\n",
       " 152: 12,\n",
       " 143: 12,\n",
       " 164: 11,\n",
       " 127: 11,\n",
       " 125: 10,\n",
       " 157: 10,\n",
       " 135: 10,\n",
       " 162: 10,\n",
       " 147: 10,\n",
       " 165: 9,\n",
       " 170: 9,\n",
       " 255: 9,\n",
       " 126: 9,\n",
       " 190: 9,\n",
       " 150: 9,\n",
       " 171: 9,\n",
       " 153: 9,\n",
       " 148: 9,\n",
       " 168: 9,\n",
       " 175: 9,\n",
       " 189: 8,\n",
       " 156: 8,\n",
       " 167: 8,\n",
       " 174: 8,\n",
       " 178: 8,\n",
       " 142: 8,\n",
       " 195: 7,\n",
       " 196: 7,\n",
       " 206: 7,\n",
       " 221: 7,\n",
       " 166: 7,\n",
       " 219: 7,\n",
       " 205: 7,\n",
       " 191: 7,\n",
       " 186: 7,\n",
       " 220: 7,\n",
       " 154: 7,\n",
       " 210: 7,\n",
       " 325: 6,\n",
       " 179: 6,\n",
       " 207: 6,\n",
       " 177: 6,\n",
       " 222: 6,\n",
       " 203: 6,\n",
       " 183: 6,\n",
       " 173: 6,\n",
       " 240: 6,\n",
       " 245: 6,\n",
       " 216: 6,\n",
       " 185: 6,\n",
       " 275: 5,\n",
       " 227: 5,\n",
       " 259: 5,\n",
       " 209: 5,\n",
       " 197: 5,\n",
       " 250: 5,\n",
       " 269: 5,\n",
       " 208: 5,\n",
       " 161: 5,\n",
       " 188: 5,\n",
       " 160: 5,\n",
       " 201: 5,\n",
       " 217: 5,\n",
       " 194: 5,\n",
       " 230: 5,\n",
       " 257: 5,\n",
       " 260: 4,\n",
       " 274: 4,\n",
       " 322: 4,\n",
       " 279: 4,\n",
       " 288: 4,\n",
       " 192: 4,\n",
       " 281: 4,\n",
       " 286: 4,\n",
       " 187: 4,\n",
       " 299: 4,\n",
       " 354: 4,\n",
       " 256: 4,\n",
       " 243: 4,\n",
       " 278: 4,\n",
       " 264: 4,\n",
       " 247: 4,\n",
       " 267: 4,\n",
       " 338: 4,\n",
       " 198: 4,\n",
       " 309: 4,\n",
       " 261: 4,\n",
       " 184: 4,\n",
       " 202: 4,\n",
       " 273: 4,\n",
       " 271: 3,\n",
       " 455: 3,\n",
       " 340: 3,\n",
       " 239: 3,\n",
       " 231: 3,\n",
       " 374: 3,\n",
       " 266: 3,\n",
       " 182: 3,\n",
       " 270: 3,\n",
       " 258: 3,\n",
       " 287: 3,\n",
       " 249: 3,\n",
       " 272: 3,\n",
       " 238: 3,\n",
       " 268: 3,\n",
       " 607: 3,\n",
       " 612: 3,\n",
       " 473: 3,\n",
       " 294: 3,\n",
       " 215: 3,\n",
       " 246: 3,\n",
       " 454: 3,\n",
       " 199: 3,\n",
       " 318: 3,\n",
       " 631: 3,\n",
       " 380: 3,\n",
       " 224: 3,\n",
       " 236: 3,\n",
       " 218: 3,\n",
       " 200: 3,\n",
       " 213: 3,\n",
       " 369: 3,\n",
       " 293: 3,\n",
       " 181: 3,\n",
       " 204: 3,\n",
       " 176: 3,\n",
       " 333: 3,\n",
       " 242: 3,\n",
       " 491: 3,\n",
       " 311: 3,\n",
       " 180: 3,\n",
       " 310: 3,\n",
       " 232: 3,\n",
       " 327: 3,\n",
       " 193: 3,\n",
       " 280: 3,\n",
       " 410: 3,\n",
       " 291: 2,\n",
       " 248: 2,\n",
       " 308: 2,\n",
       " 244: 2,\n",
       " 253: 2,\n",
       " 298: 2,\n",
       " 229: 2,\n",
       " 412: 2,\n",
       " 547: 2,\n",
       " 304: 2,\n",
       " 415: 2,\n",
       " 373: 2,\n",
       " 306: 2,\n",
       " 554: 2,\n",
       " 522: 2,\n",
       " 365: 2,\n",
       " 451: 2,\n",
       " 254: 2,\n",
       " 457: 2,\n",
       " 600: 2,\n",
       " 235: 2,\n",
       " 363: 2,\n",
       " 282: 2,\n",
       " 313: 2,\n",
       " 604: 2,\n",
       " 1317: 2,\n",
       " 532: 2,\n",
       " 320: 2,\n",
       " 331: 2,\n",
       " 237: 2,\n",
       " 560: 2,\n",
       " 276: 2,\n",
       " 755: 2,\n",
       " 285: 2,\n",
       " 496: 2,\n",
       " 518: 2,\n",
       " 159: 2,\n",
       " 424: 2,\n",
       " 241: 2,\n",
       " 377: 2,\n",
       " 335: 2,\n",
       " 582: 2,\n",
       " 379: 2,\n",
       " 479: 2,\n",
       " 359: 2,\n",
       " 233: 2,\n",
       " 482: 2,\n",
       " 228: 2,\n",
       " 292: 2,\n",
       " 404: 2,\n",
       " 576: 2,\n",
       " 263: 2,\n",
       " 334: 2,\n",
       " 252: 2,\n",
       " 314: 2,\n",
       " 362: 2,\n",
       " 452: 2,\n",
       " 725: 2,\n",
       " 234: 2,\n",
       " 290: 2,\n",
       " 508: 2,\n",
       " 516: 2,\n",
       " 565: 2,\n",
       " 383: 2,\n",
       " 2669: 1,\n",
       " 874: 1,\n",
       " 1343: 1,\n",
       " 640: 1,\n",
       " 459: 1,\n",
       " 2276: 1,\n",
       " 386: 1,\n",
       " 711: 1,\n",
       " 332: 1,\n",
       " 396: 1,\n",
       " 662: 1,\n",
       " 497: 1,\n",
       " 611: 1,\n",
       " 673: 1,\n",
       " 296: 1,\n",
       " 1193: 1,\n",
       " 645: 1,\n",
       " 1431: 1,\n",
       " 476: 1,\n",
       " 924: 1,\n",
       " 448: 1,\n",
       " 1203: 1,\n",
       " 368: 1,\n",
       " 421: 1,\n",
       " 555: 1,\n",
       " 648: 1,\n",
       " 439: 1,\n",
       " 583: 1,\n",
       " 407: 1,\n",
       " 751: 1,\n",
       " 2090: 1,\n",
       " 305: 1,\n",
       " 567: 1,\n",
       " 1208: 1,\n",
       " 212: 1,\n",
       " 367: 1,\n",
       " 1063: 1,\n",
       " 339: 1,\n",
       " 733: 1,\n",
       " 837: 1,\n",
       " 435: 1,\n",
       " 385: 1,\n",
       " 487: 1,\n",
       " 387: 1,\n",
       " 277: 1,\n",
       " 251: 1,\n",
       " 344: 1,\n",
       " 389: 1,\n",
       " 1047: 1,\n",
       " 500: 1,\n",
       " 572: 1,\n",
       " 337: 1,\n",
       " 1886: 1,\n",
       " 300: 1,\n",
       " 364: 1,\n",
       " 345: 1,\n",
       " 1026: 1,\n",
       " 440: 1,\n",
       " 573: 1,\n",
       " 775: 1,\n",
       " 388: 1,\n",
       " 1628: 1,\n",
       " 706: 1,\n",
       " 3609: 1,\n",
       " 312: 1,\n",
       " 406: 1,\n",
       " 569: 1,\n",
       " 668: 1,\n",
       " 921: 1,\n",
       " 3533: 1,\n",
       " 646: 1,\n",
       " 419: 1,\n",
       " 303: 1,\n",
       " 371: 1,\n",
       " 321: 1,\n",
       " 614: 1,\n",
       " 441: 1,\n",
       " 509: 1,\n",
       " 283: 1,\n",
       " 859: 1,\n",
       " 816: 1,\n",
       " 413: 1,\n",
       " 329: 1,\n",
       " 401: 1,\n",
       " 1764: 1,\n",
       " 461: 1,\n",
       " 1651: 1,\n",
       " 632: 1,\n",
       " 881: 1,\n",
       " 626: 1,\n",
       " 661: 1,\n",
       " 418: 1,\n",
       " 810: 1,\n",
       " 494: 1,\n",
       " 652: 1,\n",
       " 486: 1,\n",
       " 584: 1,\n",
       " 605: 1,\n",
       " 3118: 1,\n",
       " 289: 1,\n",
       " 1788: 1,\n",
       " 498: 1,\n",
       " 586: 1,\n",
       " 463: 1,\n",
       " 504: 1,\n",
       " 507: 1,\n",
       " 764: 1,\n",
       " 411: 1,\n",
       " 376: 1,\n",
       " 2493: 1,\n",
       " 644: 1,\n",
       " 397: 1,\n",
       " 1088: 1,\n",
       " 343: 1,\n",
       " 472: 1,\n",
       " 945: 1,\n",
       " 2630: 1,\n",
       " 265: 1,\n",
       " 932: 1,\n",
       " 568: 1,\n",
       " 328: 1,\n",
       " 358: 1,\n",
       " 856: 1,\n",
       " 578: 1,\n",
       " 384: 1,\n",
       " 1480: 1,\n",
       " 462: 1,\n",
       " 442: 1,\n",
       " 912: 1,\n",
       " 1197: 1,\n",
       " 714: 1,\n",
       " 705: 1,\n",
       " 603: 1,\n",
       " 1087: 1,\n",
       " 544: 1,\n",
       " 211: 1,\n",
       " 393: 1,\n",
       " 315: 1,\n",
       " 423: 1,\n",
       " 355: 1,\n",
       " 791: 1,\n",
       " 825: 1,\n",
       " 539: 1,\n",
       " 342: 1,\n",
       " 346: 1,\n",
       " 426: 1,\n",
       " 512: 1,\n",
       " 970: 1,\n",
       " 226: 1,\n",
       " 746: 1,\n",
       " 400: 1,\n",
       " 846: 1,\n",
       " 484: 1,\n",
       " 414: 1,\n",
       " 804: 1,\n",
       " 2330: 1,\n",
       " 575: 1,\n",
       " 669: 1,\n",
       " 529: 1,\n",
       " 872: 1,\n",
       " 822: 1,\n",
       " 917: 1,\n",
       " 3036: 1,\n",
       " 394: 1,\n",
       " 521: 1,\n",
       " 1583: 1,\n",
       " 1244: 1,\n",
       " 2173: 1,\n",
       " 896: 1,\n",
       " 422: 1,\n",
       " 525: 1,\n",
       " 955: 1,\n",
       " 571: 1,\n",
       " 214: 1,\n",
       " 352: 1,\n",
       " 225: 1,\n",
       " 356: 1,\n",
       " 302: 1,\n",
       " 262: 1,\n",
       " 485: 1,\n",
       " 297: 1,\n",
       " 370: 1,\n",
       " 408: 1,\n",
       " 1055: 1,\n",
       " 361: 1,\n",
       " 941: 1,\n",
       " 326: 1,\n",
       " 1231: 1,\n",
       " 490: 1,\n",
       " 405: 1,\n",
       " 767: 1,\n",
       " 1117: 1,\n",
       " 519: 1,\n",
       " 577: 1,\n",
       " 425: 1,\n",
       " 651: 1,\n",
       " 381: 1,\n",
       " 323: 1,\n",
       " 351: 1,\n",
       " 561: 1,\n",
       " 602: 1,\n",
       " 492: 1,\n",
       " 223: 1,\n",
       " 1082: 1,\n",
       " 466: 1,\n",
       " 847: 1,\n",
       " 307: 1}"
      ]
     },
     "execution_count": 387,
     "metadata": {},
     "output_type": "execute_result"
    }
   ],
   "source": [
    "nsc_count_freq = dict(Counter(nsc_count.values()).most_common())\n",
    "nsc_count_freq"
   ]
  },
  {
   "cell_type": "markdown",
   "metadata": {},
   "source": [
    "`nsc_count_freq` keeps track of how many news sources appear in *n* subreddits for all possible *n*."
   ]
  },
  {
   "cell_type": "code",
   "execution_count": 388,
   "metadata": {},
   "outputs": [
    {
     "data": {
      "text/plain": [
       "3609"
      ]
     },
     "execution_count": 388,
     "metadata": {},
     "output_type": "execute_result"
    }
   ],
   "source": [
    "max(nsc_count_freq.keys())"
   ]
  },
  {
   "cell_type": "code",
   "execution_count": 389,
   "metadata": {},
   "outputs": [
    {
     "name": "stdout",
     "output_type": "stream",
     "text": [
      "COVID_CANADA has 3609 news sources mentioned in it.\n",
      "news has 3533 news sources mentioned in it.\n",
      "politics has 3118 news sources mentioned in it.\n",
      "todayilearned has 3036 news sources mentioned in it.\n",
      "Coronavirus has 2669 news sources mentioned in it.\n",
      "worldnews has 2630 news sources mentioned in it.\n",
      "nottheonion has 2493 news sources mentioned in it.\n",
      "prisons has 2330 news sources mentioned in it.\n",
      "NoFilterNews has 2276 news sources mentioned in it.\n",
      "conspiracy has 2173 news sources mentioned in it.\n",
      "wallstreetbets has 2090 news sources mentioned in it.\n"
     ]
    }
   ],
   "source": [
    "nsc_ranked = Counter(nsc_count).most_common()\n",
    "\n",
    "for t in nsc_ranked:\n",
    "    sr, co = t\n",
    "    if co > 2000:\n",
    "        print(f\"{sr} has {co} news sources mentioned in it.\")"
   ]
  },
  {
   "cell_type": "code",
   "execution_count": 390,
   "metadata": {},
   "outputs": [
    {
     "data": {
      "text/plain": [
       "True"
      ]
     },
     "execution_count": 390,
     "metadata": {},
     "output_type": "execute_result"
    }
   ],
   "source": [
    "sum(nsc_count_freq.values()) == len(sr_union)"
   ]
  },
  {
   "cell_type": "code",
   "execution_count": 391,
   "metadata": {},
   "outputs": [],
   "source": [
    "import itertools"
   ]
  },
  {
   "cell_type": "code",
   "execution_count": 392,
   "metadata": {},
   "outputs": [],
   "source": [
    "nsc = list(itertools.chain.from_iterable(itertools.repeat(k,v) for k,v in nsc_count_freq.items()))"
   ]
  },
  {
   "cell_type": "code",
   "execution_count": 393,
   "metadata": {
    "scrolled": true
   },
   "outputs": [
    {
     "data": {
      "text/plain": [
       "Text(0.5, 1.0, 'number of subreddits with x news sources')"
      ]
     },
     "execution_count": 393,
     "metadata": {},
     "output_type": "execute_result"
    },
    {
     "data": {
      "image/png": "[encoded data removed]",
      "text/plain": [
       "<Figure size 432x288 with 1 Axes>"
      ]
     },
     "metadata": {},
     "output_type": "display_data"
    }
   ],
   "source": [
    "sns.histplot(nsc, log_scale=True)\n",
    "plt.xlabel(\"number of news source\")\n",
    "plt.ylabel(\"subreddit count\")\n",
    "plt.title(\"number of subreddits with x news sources\")"
   ]
  },
  {
   "cell_type": "markdown",
   "metadata": {},
   "source": [
    "How many subreddits only mentioned 5 news sources or less?"
   ]
  },
  {
   "cell_type": "code",
   "execution_count": 394,
   "metadata": {},
   "outputs": [],
   "source": [
    "def pct_subreddits_mentioning_k_newssources(ks):\n",
    "    sr_mention_i_nsc = [k for k in nsc_count if nsc_count[k] <= ks]\n",
    "    count = len(sr_mention_i_nsc)\n",
    "    print(\"There are {} subreddits mentioning in only {} news sources or less ({}%)\".format(count, ks, count/len(sr_union)))\n",
    "    return count/len(sr_union)"
   ]
  },
  {
   "cell_type": "code",
   "execution_count": 395,
   "metadata": {},
   "outputs": [
    {
     "name": "stdout",
     "output_type": "stream",
     "text": [
      "There are 1295615 subreddits mentioning in only 1 news sources or less (0.799900106252867%)\n"
     ]
    },
    {
     "data": {
      "text/plain": [
       "0.799900106252867"
      ]
     },
     "execution_count": 395,
     "metadata": {},
     "output_type": "execute_result"
    }
   ],
   "source": [
    "pct_subreddits_mentioning_k_newssources(1)"
   ]
  },
  {
   "cell_type": "code",
   "execution_count": 396,
   "metadata": {
    "scrolled": true
   },
   "outputs": [
    {
     "data": {
      "text/plain": [
       "2.00408897581744"
      ]
     },
     "execution_count": 396,
     "metadata": {},
     "output_type": "execute_result"
    }
   ],
   "source": [
    "# mean\n",
    "statistics.mean(nsc)"
   ]
  },
  {
   "cell_type": "code",
   "execution_count": 397,
   "metadata": {},
   "outputs": [
    {
     "data": {
      "text/plain": [
       "1"
      ]
     },
     "execution_count": 397,
     "metadata": {},
     "output_type": "execute_result"
    }
   ],
   "source": [
    "# median\n",
    "statistics.median(nsc)"
   ]
  },
  {
   "cell_type": "markdown",
   "metadata": {},
   "source": [
    "## upvote based weight vs comment based weight \n",
    "\n",
    "Do they have correlation?"
   ]
  },
  {
   "cell_type": "markdown",
   "metadata": {},
   "source": [
    "Let's look at January's data"
   ]
  },
  {
   "cell_type": "code",
   "execution_count": 431,
   "metadata": {},
   "outputs": [],
   "source": [
    "upvote_based = [ns_subreddit_01[ns][sr][1] for ns in ns_subreddit_01 for sr in ns_subreddit_01[ns]]\n",
    "comment_based = [ns_subreddit_01[ns][sr][2] for ns in ns_subreddit_01 for sr in ns_subreddit_01[ns]]\n",
    "unweighted = [ns_subreddit_01[ns][sr][0] for ns in ns_subreddit_01 for sr in ns_subreddit_01[ns]]"
   ]
  },
  {
   "cell_type": "code",
   "execution_count": 458,
   "metadata": {},
   "outputs": [
    {
     "data": {
      "text/plain": [
       "(-5000.0, 150000.0)"
      ]
     },
     "execution_count": 458,
     "metadata": {},
     "output_type": "execute_result"
    },
    {
     "data": {
      "image/png": "[encoded data removed]",
      "text/plain": [
       "<Figure size 432x288 with 1 Axes>"
      ]
     },
     "metadata": {},
     "output_type": "display_data"
    }
   ],
   "source": [
    "sns.scatterplot(x=comment_based, y=upvote_based, alpha=0.5)\n",
    "plt.xlabel(\"comment_based\")\n",
    "plt.ylabel(\"upvote_based\")\n",
    "plt.xlim([-100000,4000000])\n",
    "plt.ylim([-5000,150000])"
   ]
  },
  {
   "cell_type": "code",
   "execution_count": 464,
   "metadata": {},
   "outputs": [
    {
     "data": {
      "text/plain": [
       "Text(0, 0.5, 'upvote_based')"
      ]
     },
     "execution_count": 464,
     "metadata": {},
     "output_type": "execute_result"
    },
    {
     "data": {
      "image/png": "[encoded data removed]",
      "text/plain": [
       "<Figure size 432x288 with 1 Axes>"
      ]
     },
     "metadata": {},
     "output_type": "display_data"
    }
   ],
   "source": [
    "a = sns.scatterplot(x=np.log(np.array([c+1 for c in comment_based])), y=np.log(np.array([u+1 for u in upvote_based])), alpha=0.2)\n",
    "plt.xlabel(\"comment_based\")\n",
    "plt.ylabel(\"upvote_based\")"
   ]
  },
  {
   "cell_type": "code",
   "execution_count": 467,
   "metadata": {},
   "outputs": [],
   "source": [
    "from scipy.stats import pearsonr"
   ]
  },
  {
   "cell_type": "code",
   "execution_count": 469,
   "metadata": {},
   "outputs": [
    {
     "data": {
      "text/plain": [
       "0.6435240742264886"
      ]
     },
     "execution_count": 469,
     "metadata": {},
     "output_type": "execute_result"
    }
   ],
   "source": [
    "corr, _ = pearsonr(np.log(np.array([c+1 for c in comment_based])), np.log(np.array([u+1 for u in upvote_based])))\n",
    "corr"
   ]
  },
  {
   "cell_type": "code",
   "execution_count": 470,
   "metadata": {},
   "outputs": [
    {
     "data": {
      "text/plain": [
       "0.6208857306938401"
      ]
     },
     "execution_count": 470,
     "metadata": {},
     "output_type": "execute_result"
    }
   ],
   "source": [
    "corr_raw, _ = pearsonr(comment_based, upvote_based)\n",
    "corr_raw"
   ]
  },
  {
   "cell_type": "markdown",
   "metadata": {},
   "source": [
    "## I filter out news sources that are just too general"
   ]
  },
  {
   "cell_type": "code",
   "execution_count": 398,
   "metadata": {},
   "outputs": [
    {
     "data": {
      "text/plain": [
       "24286"
      ]
     },
     "execution_count": 398,
     "metadata": {},
     "output_type": "execute_result"
    }
   ],
   "source": [
    "len(ns_union)"
   ]
  },
  {
   "cell_type": "code",
   "execution_count": 399,
   "metadata": {},
   "outputs": [
    {
     "data": {
      "text/plain": [
       "12172"
      ]
     },
     "execution_count": 399,
     "metadata": {},
     "output_type": "execute_result"
    }
   ],
   "source": [
    "non_outlier = [k for k in ns_union if subreddit_count[k] <= 1048 and subreddit_count[k] > 5]\n",
    "len(non_outlier)"
   ]
  },
  {
   "cell_type": "code",
   "execution_count": 400,
   "metadata": {},
   "outputs": [
    {
     "data": {
      "text/plain": [
       "4334"
      ]
     },
     "execution_count": 400,
     "metadata": {},
     "output_type": "execute_result"
    }
   ],
   "source": [
    "subreddit_count['washingtonpost.com']"
   ]
  },
  {
   "cell_type": "code",
   "execution_count": 401,
   "metadata": {},
   "outputs": [
    {
     "data": {
      "text/plain": [
       "False"
      ]
     },
     "execution_count": 401,
     "metadata": {},
     "output_type": "execute_result"
    }
   ],
   "source": [
    "'washingtonpost.com' in non_outlier"
   ]
  },
  {
   "cell_type": "code",
   "execution_count": 402,
   "metadata": {},
   "outputs": [
    {
     "data": {
      "text/plain": [
       "['duden.de',\n",
       " 'takiedela.ru',\n",
       " 'reporterherald.com',\n",
       " 'i95rock.com',\n",
       " 'theemeraldmagazine.com',\n",
       " 'vtdigger.org',\n",
       " 'leafly.com',\n",
       " 'vogue.com',\n",
       " 'reddeeradvocate.com',\n",
       " 'blockchain.news',\n",
       " 'chip.de',\n",
       " 'tech.eu',\n",
       " 'spaceflightnow.com',\n",
       " 'thenewsherald.com',\n",
       " 'themorningbulletin.com.au',\n",
       " 'kurzweilai.net',\n",
       " 'diyphotography.net',\n",
       " 'william-reed.com',\n",
       " 'kfvs12.com',\n",
       " 'abc7ny.com',\n",
       " 'religiondispatches.org',\n",
       " 'hdblog.it',\n",
       " 'maisonneuve.org',\n",
       " 'animenewsnetwork.com',\n",
       " 'theshadowleague.com',\n",
       " 'vrscout.com',\n",
       " 'sundayobserver.lk',\n",
       " 'judicialwatch.org',\n",
       " 'churchtimes.co.uk',\n",
       " 'nfpa.org',\n",
       " 'blogspot.com.au',\n",
       " 'lemonde.fr',\n",
       " 'ky3.com',\n",
       " 'sourcingjournal.com',\n",
       " 'chesterstandard.co.uk',\n",
       " 'plainsite.org',\n",
       " 'theglobepost.com',\n",
       " 'tagesspiegel.de',\n",
       " 'pubg.com',\n",
       " 'duke.edu',\n",
       " 'numerama.com',\n",
       " 'otto.de',\n",
       " 'state.fl.us',\n",
       " 'pureplaystation.com',\n",
       " 'slantmagazine.com',\n",
       " 'monsterenergy.com',\n",
       " 'hoodline.com',\n",
       " 'sparktoro.com',\n",
       " 'celebritynetworth.com',\n",
       " 'ultimateclassicrock.com',\n",
       " 'theonion.com',\n",
       " 'loe.org',\n",
       " 'sgbonline.com',\n",
       " 'monmouth.edu',\n",
       " 'amny.com',\n",
       " 'builtinnyc.com',\n",
       " 'theplayerstribune.com',\n",
       " 'talkingchop.com',\n",
       " 'physiology.org',\n",
       " 'scottishconstructionnow.com',\n",
       " 'house.gov',\n",
       " 'standard.net.au',\n",
       " 'crunchbase.com',\n",
       " 'ndss-symposium.org',\n",
       " 'ihorror.com',\n",
       " 'techtimes.com',\n",
       " 'writersdigest.com',\n",
       " 'maine.edu',\n",
       " 'citybizlist.com',\n",
       " 'thepostathens.com',\n",
       " 'bestinau.com.au',\n",
       " 'wypr.org',\n",
       " 'scmagazine.com',\n",
       " 'joinpeertube.org',\n",
       " 'superlawyers.com',\n",
       " 'wfxb.com',\n",
       " 'windowsreport.com',\n",
       " 'huffingtonpost.fr',\n",
       " 'browndailyherald.com',\n",
       " 'newsweek.pl',\n",
       " 'moms.com',\n",
       " 'merck.com',\n",
       " 'seattletimes.com',\n",
       " 'opb.org',\n",
       " '570news.com',\n",
       " 'gentlemansgazette.com',\n",
       " '15min.lt',\n",
       " 'cicnews.com',\n",
       " 'emory.edu',\n",
       " 'wbay.com',\n",
       " 'dnes.bg',\n",
       " 'wltx.com',\n",
       " 'hppr.org',\n",
       " 'wmmr.com',\n",
       " 'parade.com',\n",
       " 'militarytimes.com',\n",
       " 'iheartradio.ca',\n",
       " 'goop.com',\n",
       " 'oanow.com',\n",
       " 'tidbits.com',\n",
       " 'stateofreform.com',\n",
       " 'islamicity.org',\n",
       " 'goodfood.com.au',\n",
       " 'bellmedia.ca',\n",
       " 'streamingmedia.com',\n",
       " 'direkt36.hu',\n",
       " 'themusic.com.au',\n",
       " 'calpoly.edu',\n",
       " 'yourerie.com',\n",
       " '1851franchise.com',\n",
       " 'fox61.com',\n",
       " 'derstandard.de',\n",
       " 'herald.co.zw',\n",
       " 'electronicbeats.net',\n",
       " 'wshu.org',\n",
       " 'malaymail.com',\n",
       " 'vijesti.me',\n",
       " 'nintenderos.com',\n",
       " 'lyoncapitale.fr',\n",
       " 'auburn.edu',\n",
       " 'mintpressnews.com',\n",
       " 'rbb24.de',\n",
       " 'lighthousehockey.com',\n",
       " 'iqm2.com',\n",
       " 'oca.org',\n",
       " 'nvidia.com',\n",
       " 'rocksound.tv',\n",
       " 'goshennews.com',\n",
       " 'forward.com',\n",
       " 'ledger-enquirer.com',\n",
       " 'staffingindustry.com',\n",
       " 'glasgowtimes.co.uk',\n",
       " 'focusrite.com',\n",
       " 'nyc.gov',\n",
       " 'deutschegrammophon.com',\n",
       " 'manoramaonline.com',\n",
       " 'hsn.com',\n",
       " 'smdailyjournal.com',\n",
       " 'wfmz.com',\n",
       " 'rsvplive.ie',\n",
       " 'tvanouvelles.ca',\n",
       " 'avsforum.com',\n",
       " 'diabetes.co.uk',\n",
       " 'orilliamatters.com',\n",
       " 'gq-magazine.co.uk',\n",
       " 'fsunews.com',\n",
       " 'franceinter.fr',\n",
       " 'metoffice.gov.uk',\n",
       " 'tvazteca.com',\n",
       " 'chinamoneynetwork.com',\n",
       " 'blr.com',\n",
       " 'krwg.org',\n",
       " 'charismanews.com',\n",
       " 'newstracklive.com',\n",
       " 'alistapart.com',\n",
       " 'starlocalmedia.com',\n",
       " 'paralympic.org',\n",
       " 'kbia.org',\n",
       " 'statenews.org',\n",
       " 'newsleader.com',\n",
       " 'rit.edu',\n",
       " 'corkbeo.ie',\n",
       " 'cornwalllive.com',\n",
       " 'zonebourse.com',\n",
       " 'yespunjab.com',\n",
       " 'bipartisanpolicy.org',\n",
       " 'laodong.vn',\n",
       " 'actionnewsnow.com',\n",
       " 'cookingclassy.com',\n",
       " 'correctiv.org',\n",
       " 'tfaforms.net',\n",
       " 'langleyadvancetimes.com',\n",
       " 'fantraxhq.com',\n",
       " 'gamerant.com',\n",
       " 'kommersant.ru',\n",
       " 'aam-us.org',\n",
       " 'idahonews.com',\n",
       " 'gallup.com',\n",
       " 'telekom.com',\n",
       " 'eui.eu',\n",
       " 'panampost.com',\n",
       " 'medicinehatnews.com',\n",
       " 'coachmag.co.uk',\n",
       " 'pnn.de',\n",
       " 'itnewsafrica.com',\n",
       " 'painnewsnetwork.org',\n",
       " 'wolfstreet.com',\n",
       " 'wkyc.com',\n",
       " 'fnarena.com',\n",
       " 'nd.edu',\n",
       " 'law360.com',\n",
       " 'superbcrew.com',\n",
       " 'ilmessaggero.it',\n",
       " 'lawtimesnews.com',\n",
       " 'hyperxgaming.com',\n",
       " 'believermag.com',\n",
       " 'veganfoodandliving.com',\n",
       " 'maltatoday.com.mt',\n",
       " 'wallstreet-online.de',\n",
       " '3m.com',\n",
       " 'citizentv.co.ke',\n",
       " 'cryptoglobe.com',\n",
       " 'dailycal.org',\n",
       " 'farminguk.com',\n",
       " 'stupiddope.com',\n",
       " 'kfgo.com',\n",
       " 'metro.co.uk',\n",
       " 'underdogdynasty.com',\n",
       " 'gamedev.net',\n",
       " 'miningglobal.com',\n",
       " 'setn.com',\n",
       " 'purexbox.com',\n",
       " 'nbc16.com',\n",
       " 'thebluetestament.com',\n",
       " 'lastweekinaws.com',\n",
       " 'broadstreethockey.com',\n",
       " 'canadianmanufacturing.com',\n",
       " 'dday.it',\n",
       " 'tes.com',\n",
       " 'riverbender.com',\n",
       " 'joc.com',\n",
       " 'edm.com',\n",
       " 'ua.edu',\n",
       " 'nbcconnecticut.com',\n",
       " 'thenassauguardian.com',\n",
       " 'nyteknik.se',\n",
       " 'bikeradar.com',\n",
       " 'panthers.com',\n",
       " 'roarmag.org',\n",
       " 'ngtnews.com',\n",
       " 'altervista.org',\n",
       " 'journal-advocate.com',\n",
       " 'leprogres.fr',\n",
       " 'catster.com',\n",
       " 'wickedlocal.com',\n",
       " 'readingeagle.com',\n",
       " 'fatherly.com',\n",
       " 'news.err.ee',\n",
       " 'tennessee.edu',\n",
       " 'sungazette.com',\n",
       " 'reaction.life',\n",
       " 'playstationlifestyle.net',\n",
       " 'emirateswoman.com',\n",
       " 'thefashionlaw.com',\n",
       " 'morungexpress.com',\n",
       " 'barrie.ctvnews.ca',\n",
       " 'electricliterature.com',\n",
       " 'hoptownchronicle.org',\n",
       " 'daytimeconfidential.com',\n",
       " 'americanaffairsjournal.org',\n",
       " 'building.co.uk',\n",
       " 'epicreads.com',\n",
       " 'clutchpoints.com',\n",
       " 'jmu.edu',\n",
       " 'mediasetplay.mediaset.it',\n",
       " 'wisc.edu',\n",
       " 'miltonkeynes.co.uk',\n",
       " 'aleteia.org',\n",
       " 'thespinoff.co.nz',\n",
       " 'gentside.co.uk',\n",
       " 'diariodecuba.com',\n",
       " 'blendernation.com',\n",
       " 'jamanetwork.com',\n",
       " 'cloudsecurityalliance.org',\n",
       " 'spectrumlocalnews.com',\n",
       " 'theeastafrican.co.ke',\n",
       " 'tampabay.com',\n",
       " 'wnbf.com',\n",
       " 'securitybrief.co.nz',\n",
       " 'factcheck.org',\n",
       " 'cw33.com',\n",
       " 'hulldailymail.co.uk',\n",
       " 'fijisun.com.fj',\n",
       " 'biznes.interia.pl',\n",
       " 'thesocietypages.org',\n",
       " 'calcioefinanza.it',\n",
       " 'opendemocracy.net',\n",
       " 'chatelaine.com',\n",
       " 'belatina.com',\n",
       " 'roadsbridges.com',\n",
       " 'bndestem.nl',\n",
       " 'wort.lu',\n",
       " 'port.ac.uk',\n",
       " 'abebooks.com',\n",
       " 'cachevalleydaily.com',\n",
       " 'theafricareport.com',\n",
       " 'cgtn.com',\n",
       " 'fbi.gov',\n",
       " 'politiken.dk',\n",
       " 'ourstate.com',\n",
       " 'watson.ch',\n",
       " 'wisdomgeek.com',\n",
       " 'thelundreport.org',\n",
       " 'vegoutmag.com',\n",
       " 'khelnow.com',\n",
       " 'tbsnews.net',\n",
       " 'ipsos.com',\n",
       " 'guitarworld.com',\n",
       " 'mndaily.com',\n",
       " 'admitad.com',\n",
       " 'rnz.co.nz',\n",
       " 'trecebits.com',\n",
       " 'mlsmultiplex.com',\n",
       " '48hills.org',\n",
       " 'kuenselonline.com',\n",
       " 'echo.net.au',\n",
       " 'blockchainreporter.net',\n",
       " 'oantagonista.com',\n",
       " 'eldiariodecoahuila.com.mx',\n",
       " 'clture.org',\n",
       " 'themarketherald.com.au',\n",
       " 'northeastern.edu',\n",
       " 'buymeacoffee.com',\n",
       " 'spacex.com',\n",
       " 'altchar.com',\n",
       " 'coinweek.com',\n",
       " 'adnradio.cl',\n",
       " 'physicsworld.com',\n",
       " 'samessenger.com',\n",
       " 'newsandguts.com',\n",
       " 'tv4.se',\n",
       " 'signalhfx.ca',\n",
       " 'uts.edu.au',\n",
       " 'pocket-lint.com',\n",
       " 'dailysnark.com',\n",
       " 'ledsmagazine.com',\n",
       " 'fbref.com',\n",
       " 'thejakartapost.com',\n",
       " 'kaieteurnewsonline.com',\n",
       " 'mysubscriptionaddiction.com',\n",
       " 'reviewgeek.com',\n",
       " 'steamforged.com',\n",
       " 'autismspeaks.org',\n",
       " 'trekcore.com',\n",
       " 'wonderwall.com',\n",
       " 'powerengineeringint.com',\n",
       " 'theartsdesk.com',\n",
       " 'alpinist.com',\n",
       " 'makezine.com',\n",
       " 'pakobserver.net',\n",
       " 'iwate-np.co.jp',\n",
       " 'unr.edu',\n",
       " 'frc.org',\n",
       " 'formiche.net',\n",
       " 'thenorthlines.com',\n",
       " 'lavozdegalicia.es',\n",
       " 'everythinglubbock.com',\n",
       " 'damemagazine.com',\n",
       " 'haberler.com',\n",
       " 'mk.ru',\n",
       " 'wfft.com',\n",
       " 'uoguelph.ca',\n",
       " 'index.hr',\n",
       " 'shondaland.com',\n",
       " 'nagariknetwork.com',\n",
       " 'newtimesslo.com',\n",
       " 'firebaseapp.com',\n",
       " 'femina.in',\n",
       " 'mediamatters.org',\n",
       " 'thenews.com.pk',\n",
       " 'bigcatcountry.com',\n",
       " 'dailymaverick.co.za',\n",
       " 'ninernoise.com',\n",
       " 'islandecho.co.uk',\n",
       " 'marklevinshow.com',\n",
       " 'penbaypilot.com',\n",
       " 'okcfox.com',\n",
       " 'americanexpress.com',\n",
       " 'worldofwonder.net',\n",
       " 'azbigmedia.com',\n",
       " 'irvinetimes.com',\n",
       " 'fbcnews.com.fj',\n",
       " 'inspirationfeed.com',\n",
       " 'hoopshype.com',\n",
       " 'cargurus.com',\n",
       " 'newjerseynewsnetwork.com',\n",
       " 'frontrowsoccer.com',\n",
       " 'entrackr.com',\n",
       " 'whoscored.com',\n",
       " 'restonnow.com',\n",
       " 'wapt.com',\n",
       " 'cedarville.edu',\n",
       " 'transfermarkt.com',\n",
       " 'nps.org.au',\n",
       " 'aaaai.org',\n",
       " 'bluemountainsgazette.com.au',\n",
       " 'heritage.org',\n",
       " 'claimsjournal.com',\n",
       " 'nejm.org',\n",
       " 'ocala.com',\n",
       " 'defenseone.com',\n",
       " 'ktul.com',\n",
       " 'brighterworld.mcmaster.ca',\n",
       " 'greekreporter.com',\n",
       " 'nexos.com.mx',\n",
       " 'localsyr.com',\n",
       " 'mycbs4.com',\n",
       " 'sightmagazine.com.au',\n",
       " 'moneycontrol.com',\n",
       " 'graphicpolicy.com',\n",
       " 'drugpolicy.org',\n",
       " 'msmagazine.com',\n",
       " 'autonews.com',\n",
       " 'thenational.scot',\n",
       " 'myrecordjournal.com',\n",
       " 'truebluela.com',\n",
       " 'relocate.me',\n",
       " 'themonthly.com.au',\n",
       " 'accessonline.com',\n",
       " 'forbes.fr',\n",
       " 'billmoyers.com',\n",
       " 'spacecoastdaily.com',\n",
       " 'wwmt.com',\n",
       " 'timesonline.com',\n",
       " 'fox28media.com',\n",
       " 'mlssoccer.com',\n",
       " 'stcatharinesstandard.ca',\n",
       " 'nrf.com',\n",
       " 'hardcoredroid.com',\n",
       " 'press-citizen.com',\n",
       " 'whichcar.com.au',\n",
       " 'realtor.com',\n",
       " 'allbusiness.com',\n",
       " 'cato.org',\n",
       " 'duo.com',\n",
       " 'eonline.com',\n",
       " 'travelweekly.com',\n",
       " 'popular.info',\n",
       " 'hubcityspokes.com',\n",
       " 'newsminer.com',\n",
       " 'efinancialcareers.com',\n",
       " 'agrarheute.com',\n",
       " 'alphanewsmn.com',\n",
       " 'sport1.de',\n",
       " 'wmot.org',\n",
       " 'parkinsonsnewstoday.com',\n",
       " 'cartoonnetwork.com',\n",
       " 'cbinsights.com',\n",
       " 'ledauphine.com',\n",
       " 'mykhel.com',\n",
       " 'b1039.com',\n",
       " 'knbr.com',\n",
       " 'automation.com',\n",
       " 'stlpublicradio.org',\n",
       " '8days.sg',\n",
       " 'theargus.co.uk',\n",
       " 'ineteconomics.org',\n",
       " 'healthcaredive.com',\n",
       " 'artificialintelligence-news.com',\n",
       " 'wpcomstaging.com',\n",
       " 'advisorhub.com',\n",
       " 'spie.org',\n",
       " 'nationofchange.org',\n",
       " 'goodbeerhunting.com',\n",
       " 'inforney.com',\n",
       " 'ncregister.com',\n",
       " 'adoptopenjdk.net',\n",
       " 'self.com',\n",
       " 'musescore.org',\n",
       " 'smartcitiesdive.com',\n",
       " 'northwell.edu',\n",
       " 'buffalonews.com',\n",
       " 'flatlandkc.org',\n",
       " 'desertsun.com',\n",
       " 'kulr8.com',\n",
       " 'news-gazette.com',\n",
       " 'thesimpledollar.com',\n",
       " 'intheknow.com',\n",
       " 'filmcomment.com',\n",
       " 'safety.com',\n",
       " 'aintitcool.com',\n",
       " 'bankingdive.com',\n",
       " 'bolnews.com',\n",
       " 'kpel965.com',\n",
       " 'screenanarchy.com',\n",
       " 'natalie.mu',\n",
       " 'wmar2news.com',\n",
       " 'lovetoknow.com',\n",
       " 'essentialbaby.com.au',\n",
       " 'investmentexecutive.com',\n",
       " 'merryjane.com',\n",
       " 'malaysiasun.com',\n",
       " 'lawsofux.com',\n",
       " 'cultofmac.com',\n",
       " 'fullpresscoverage.com',\n",
       " 'matadornetwork.com',\n",
       " 'delawarepublic.org',\n",
       " 'biometricupdate.com',\n",
       " 'oprah.com',\n",
       " 'nim-lang.org',\n",
       " 'spox.com',\n",
       " 'hatenadiary.com',\n",
       " 'newsoptimist.ca',\n",
       " 'trains.com',\n",
       " 'wibc.com',\n",
       " 'thesudburystar.com',\n",
       " 'dominicantoday.com',\n",
       " 'kingstonist.com',\n",
       " 'rtvutrecht.nl',\n",
       " 'metal-am.com',\n",
       " 'brytfmonline.com',\n",
       " 'blocksandfiles.com',\n",
       " 'ifi-audio.com',\n",
       " 'jhunewsletter.com',\n",
       " 'thelogicalindian.com',\n",
       " 'whales.org',\n",
       " 'theboar.org',\n",
       " 'disney.com',\n",
       " 'f1-insider.com',\n",
       " 'advisor.ca',\n",
       " 'ktvh.com',\n",
       " 'wbfo.org',\n",
       " 'nbc.com',\n",
       " 'columbia.edu',\n",
       " 'insidewalessport.co.uk',\n",
       " 'dvhn.nl',\n",
       " 'dirtfish.com',\n",
       " 'aviationweek.com',\n",
       " 'techbeacon.com',\n",
       " 'thebrowser.com',\n",
       " 'simplywall.st',\n",
       " 'hypebeast.com',\n",
       " 'kent.edu',\n",
       " 'ole.com.ar',\n",
       " 'cubed3.com',\n",
       " 'efe.com',\n",
       " 'tindie.com',\n",
       " 'cultureofgaming.com',\n",
       " 'kuleuven.be',\n",
       " 'azmirror.com',\n",
       " 'emarketer.com',\n",
       " 'kcentv.com',\n",
       " 'mindful.org',\n",
       " 'themarshallproject.org',\n",
       " 'halifaxtoday.ca',\n",
       " 'skiesmag.com',\n",
       " 'columbiadailyherald.com',\n",
       " 'wirtualnemedia.pl',\n",
       " 'thepigsite.com',\n",
       " 'gartner.com',\n",
       " 'waste360.com',\n",
       " 'aerztezeitung.de',\n",
       " 'gpfans.com',\n",
       " 'michigancapitolconfidential.com',\n",
       " 'commonslibrary.parliament.uk',\n",
       " 'gazetaprawna.pl',\n",
       " 'keloland.com',\n",
       " 'aish.com',\n",
       " 'mxdwn.com',\n",
       " 'corrieredellosport.it',\n",
       " 'humanite.fr',\n",
       " 'designmodo.com',\n",
       " 'carsales.com.au',\n",
       " 'heraldodemexico.com.mx',\n",
       " 'jeuneafrique.com',\n",
       " 'azonano.com',\n",
       " 'thewhiskyexchange.com',\n",
       " 'thelantern.com',\n",
       " 'bmj.com',\n",
       " 'naked-science.ru',\n",
       " 'citizentribune.com',\n",
       " 'findbiometrics.com',\n",
       " 'lusa.pt',\n",
       " 'toyark.com',\n",
       " 'bestbuy.ca',\n",
       " 'lifenews.com',\n",
       " 'tribtoday.com',\n",
       " 'porsche.com',\n",
       " 'kp.ru',\n",
       " 'tag1consulting.com',\n",
       " 'eng.belta.by',\n",
       " 'carryology.com',\n",
       " 'hamhigh.co.uk',\n",
       " 'beneath-ceaseless-skies.com',\n",
       " 'valdostadailytimes.com',\n",
       " 'hcamag.com',\n",
       " 'ccn.com',\n",
       " 'delta-optimist.com',\n",
       " 'synthtopia.com',\n",
       " 'thebusinessjournal.com',\n",
       " 'theindiasaga.com',\n",
       " 'frontiermyanmar.net',\n",
       " 'lanereport.com',\n",
       " 'qmul.ac.uk',\n",
       " 'nextdoor.com',\n",
       " 'geripal.org',\n",
       " 'mumbrella.com.au',\n",
       " '45secondes.fr',\n",
       " 'montereycountyweekly.com',\n",
       " 'polityka.pl',\n",
       " 'skyatnightmagazine.com',\n",
       " 'koco.com',\n",
       " 'newportri.com',\n",
       " 'gpsworld.com',\n",
       " 'theweek.com',\n",
       " 'giantbomb.com',\n",
       " 'montrealgazette.com',\n",
       " 'evonik.com',\n",
       " 'bbj.hu',\n",
       " 'zerohedge.com',\n",
       " 'rattle.com',\n",
       " 'manometcurrent.com',\n",
       " 'voanews.com',\n",
       " 'wfdd.org',\n",
       " 'aumag.org',\n",
       " 'hackthebox.eu',\n",
       " 'listindiario.com',\n",
       " 'lacrosseplayground.com',\n",
       " 'argentina.gob.ar',\n",
       " 'unu.edu',\n",
       " 'boerse.de',\n",
       " 'hmetro.com.my',\n",
       " 'runnersworld.com',\n",
       " 'pigprogress.net',\n",
       " 'nihr.ac.uk',\n",
       " 'comicyears.com',\n",
       " 'omniglot.com',\n",
       " 'nownews.com',\n",
       " 'observer.com',\n",
       " 'americaspace.com',\n",
       " 'dhnet.be',\n",
       " 'vi.nl',\n",
       " 'productschool.com',\n",
       " 'itmedia.co.jp',\n",
       " 'bellanaija.com',\n",
       " 'offshore-mag.com',\n",
       " 'tech.co',\n",
       " 'myind.net',\n",
       " 'clevelandmagazine.com',\n",
       " 'cbj.ca',\n",
       " 'filmforum.org',\n",
       " 'americaoutloud.com',\n",
       " 'thephoblographer.com',\n",
       " 'foxillinois.com',\n",
       " 'hotsr.com',\n",
       " 'minnpost.com',\n",
       " 'azatutyun.am',\n",
       " 'philanthropynewsdigest.org',\n",
       " 'sifted.eu',\n",
       " 'vulture.com',\n",
       " 'todayifoundout.com',\n",
       " 'barkinganddagenhampost.co.uk',\n",
       " 'jerseydigs.com',\n",
       " 'wbaltv.com',\n",
       " 'selectminds.com',\n",
       " 'luc.edu',\n",
       " 'newyorkupstate.com',\n",
       " 'nuvomagazine.com',\n",
       " 'cabinradio.ca',\n",
       " 'wisconsinrightnow.com',\n",
       " 'etfexpress.com',\n",
       " 'plasticstoday.com',\n",
       " 'fashionista.com',\n",
       " 'm.dailyhunt.in',\n",
       " 'bristolpost.co.uk',\n",
       " 'tellymix.co.uk',\n",
       " 'yourconroenews.com',\n",
       " 'guampdn.com',\n",
       " 'baytoday.ca',\n",
       " 'ameinfo.com',\n",
       " 'wskg.org',\n",
       " 'wowtv.co.kr',\n",
       " 'newschannel10.com',\n",
       " '1380kcim.com',\n",
       " 'rtings.com',\n",
       " 'creators.com',\n",
       " 'wivb.com',\n",
       " 'teespring.com',\n",
       " 'gameranx.com',\n",
       " 'somagnews.com',\n",
       " 'letemps.ch',\n",
       " 'lequipe.fr',\n",
       " 'icis.com',\n",
       " 'symmetrymagazine.org',\n",
       " 'wokv.com',\n",
       " 'memberclicks.net',\n",
       " 'brownstoner.com',\n",
       " 'brewbound.com',\n",
       " 'lesaffaires.com',\n",
       " 'csun.edu',\n",
       " 'micky.com.au',\n",
       " 'esportsobserver.com',\n",
       " 'calgarysun.com',\n",
       " 'losangelesblade.com',\n",
       " 'chinadialogueocean.net',\n",
       " 'riverineherald.com.au',\n",
       " 'pravda.ru',\n",
       " 'backendnews.net',\n",
       " 'comicsalliance.com',\n",
       " 'harvardlawreview.org',\n",
       " 'slashdot.org',\n",
       " 'denofgeek.com',\n",
       " 'sportsnet.ca',\n",
       " 'umassmed.edu',\n",
       " 'heraldo.es',\n",
       " 'georgiarecorder.com',\n",
       " 'dailyutahchronicle.com',\n",
       " 'wispolitics.com',\n",
       " 'stockhead.com.au',\n",
       " 'floridadaily.com',\n",
       " 'smartmusic.com',\n",
       " 'stuff.tv',\n",
       " 'besoccer.com',\n",
       " 'thetimes.co.uk',\n",
       " 'the5krunner.com',\n",
       " 'prepperswill.com',\n",
       " 'cnsmaryland.org',\n",
       " 'chaosgroup.com',\n",
       " 'livingstonparishnews.com',\n",
       " 'fortworthbusiness.com',\n",
       " 'wptavern.com',\n",
       " 'stnonline.com',\n",
       " 'decider.com',\n",
       " 'contrepoints.org',\n",
       " 'gry-online.pl',\n",
       " 'jneurosci.org',\n",
       " 'wtop.com',\n",
       " 'jns.org',\n",
       " 'delano.lu',\n",
       " 'globalgovernmentforum.com',\n",
       " 'aspiration.com',\n",
       " 'helpnetsecurity.com',\n",
       " 'newnoisemagazine.com',\n",
       " 'ktvl.com',\n",
       " 'msspalert.com',\n",
       " 'terradaily.com',\n",
       " 'madison365.com',\n",
       " 'offalyexpress.ie',\n",
       " 'actu.orange.fr',\n",
       " 'cmt.com',\n",
       " 'smashingmagazine.com',\n",
       " 'wgxa.tv',\n",
       " 'elnorte.com',\n",
       " 'orlandoinformer.com',\n",
       " 'eurasiareview.com',\n",
       " 'stheadline.com',\n",
       " 'agmetalminer.com',\n",
       " 'crimestoppers-uk.org',\n",
       " 'radiosvoboda.org',\n",
       " 'dailybruin.com',\n",
       " 'kn-online.de',\n",
       " 'madame.lefigaro.fr',\n",
       " 'interestingengineering.com',\n",
       " 'country94.ca',\n",
       " 'ehn.org',\n",
       " 'radioexe.co.uk',\n",
       " 'buffalobills.com',\n",
       " 'du.edu',\n",
       " 'lasvegasweekly.com',\n",
       " 'vccircle.com',\n",
       " 'thenewinquiry.com',\n",
       " 'la-croix.com',\n",
       " 'maciverinstitute.com',\n",
       " 'ajc.com',\n",
       " 'playtech.ro',\n",
       " 'theindianalawyer.com',\n",
       " 'realitytea.com',\n",
       " 'canalys.com',\n",
       " 'thenewslens.com',\n",
       " 'planetizen.com',\n",
       " 'news-herald.com',\n",
       " 'stereogum.com',\n",
       " 'historyextra.com',\n",
       " 'firstround.com',\n",
       " 'loc.gov',\n",
       " 'unc.edu',\n",
       " 'timesfreepress.com',\n",
       " 'plantbasednews.org',\n",
       " 'motogp.com',\n",
       " 'bdaily.co.uk',\n",
       " 'betanews.com',\n",
       " 'christiancentury.org',\n",
       " 'bluesnews.com',\n",
       " 'harvardmagazine.com',\n",
       " 'wrestlinginc.com',\n",
       " 'outtraveler.com',\n",
       " 'yogonet.com',\n",
       " 'mainebeacon.com',\n",
       " 'worldarchitecture.org',\n",
       " 'hawaiiprepworld.com',\n",
       " 'minotdailynews.com',\n",
       " 'wbhm.org',\n",
       " 'therepublic.com',\n",
       " 'thespacereview.com',\n",
       " 'uniindia.com',\n",
       " 'walgreens.com',\n",
       " 'disabilityscoop.com',\n",
       " 'bfm.ru',\n",
       " 'heterodoxacademy.org',\n",
       " 'sfbayview.com',\n",
       " 'infotel.ca',\n",
       " 'el-mexicano.com.mx',\n",
       " 'naiz.eus',\n",
       " 'russia-insider.com',\n",
       " 'mediapost.com',\n",
       " 'good.is',\n",
       " 'weather.com',\n",
       " 'motocrossactionmag.com',\n",
       " 'hydrogenfuelnews.com',\n",
       " 'fpri.org',\n",
       " 'seatrade-maritime.com',\n",
       " 'emsworld.com',\n",
       " 'qgiv.com',\n",
       " 'joe.ie',\n",
       " 'businesspost.ie',\n",
       " 'headspace.com',\n",
       " 'tiogapublishing.com',\n",
       " 'environmentalleader.com',\n",
       " 'newagebd.net',\n",
       " 'wnyc.org',\n",
       " 'realityblurb.com',\n",
       " 'techcentral.co.za',\n",
       " 'planet.fr',\n",
       " 'buddhistdoor.net',\n",
       " 'aidsmap.com',\n",
       " 'macsales.com',\n",
       " 'afkgaming.com',\n",
       " 'gq.com',\n",
       " 'managedhealthcareexecutive.com',\n",
       " 'legacy.com',\n",
       " 'piratesandprincesses.net',\n",
       " 'fox16.com',\n",
       " 'manoanow.org',\n",
       " 'mycentraljersey.com',\n",
       " 'laprensalatina.com',\n",
       " 'businessam.be',\n",
       " 'kawc.org',\n",
       " 'pulse.com.gh',\n",
       " 'thexboxhub.com',\n",
       " 'jacobinmag.com',\n",
       " 'cars.com',\n",
       " 'mauinews.com',\n",
       " 'francetvinfo.fr',\n",
       " 'kxan.com',\n",
       " 'supplychaindive.com',\n",
       " 'virginislandsdailynews.com',\n",
       " 'umd.edu',\n",
       " 'kitces.com',\n",
       " 'marieclaire.com.au',\n",
       " 'khaosodenglish.com',\n",
       " 'melmagazine.com',\n",
       " 'ai-cio.com',\n",
       " 'rtvnoord.nl',\n",
       " 'jimmunol.org',\n",
       " 'powerbi.com',\n",
       " 'foodpolitics.com',\n",
       " 'lanouvellerepublique.fr',\n",
       " 'yudu.com',\n",
       " 'navalnews.com',\n",
       " 'simplyrecipes.com',\n",
       " 'roboticstomorrow.com',\n",
       " 'cricbuzz.com',\n",
       " 'sakshi.com',\n",
       " 'scottishlegal.com',\n",
       " 'indianaenvironmentalreporter.org',\n",
       " 'vancouverislandfreedaily.com',\n",
       " 'hampshirechronicle.co.uk',\n",
       " 'seoul.go.kr',\n",
       " 'thepeninsulaqatar.com',\n",
       " 'nintendo.de',\n",
       " 'emmys.com',\n",
       " 'oklahoman.com',\n",
       " 'fl.gov',\n",
       " 'solidarity-us.org',\n",
       " 'thenarwhal.ca',\n",
       " 'corbettreport.com',\n",
       " 'aier.org',\n",
       " 'oilandgas360.com',\n",
       " 'chesterfieldobserver.com',\n",
       " 'dutchnews.nl',\n",
       " 'kimt.com',\n",
       " 'bharian.com.my',\n",
       " 'northwaleschronicle.co.uk',\n",
       " 'woodworkingnetwork.com',\n",
       " 'citylimits.org',\n",
       " 'toronto.ctvnews.ca',\n",
       " 'arp242.net',\n",
       " 'cityofmadison.com',\n",
       " 'arch2o.com',\n",
       " 'uscatholic.org',\n",
       " 'redecentralize.org',\n",
       " 'epgn.com',\n",
       " 'sbcnews.co.uk',\n",
       " 'omroepbrabant.nl',\n",
       " 'techstory.in',\n",
       " 'registerguard.com',\n",
       " 'crowrivermedia.com',\n",
       " 'balcanicaucaso.org',\n",
       " 'tortoisemedia.com',\n",
       " 'krtv.com',\n",
       " 'adaderana.lk',\n",
       " 'filmink.com.au',\n",
       " 'thisisanfield.com',\n",
       " 'wfxg.com',\n",
       " 'pcinvasion.com',\n",
       " 'jpmorgan.com',\n",
       " 'hotpress.com',\n",
       " 'stlamerican.com',\n",
       " 'shorttermrentalz.com',\n",
       " 'ladyfreethinker.org',\n",
       " 'wvmetronews.com',\n",
       " 'folhape.com.br',\n",
       " 'fisglobal.com',\n",
       " 'funimation.com',\n",
       " 'thislandpress.com',\n",
       " 'manisteenews.com',\n",
       " 'hogshaven.com',\n",
       " 'knowtechie.com',\n",
       " 'clarin.com',\n",
       " 'esquire.com',\n",
       " 'outdoorgearlab.com',\n",
       " 'eastoregonian.com',\n",
       " 'bangkokpost.com',\n",
       " 'kget.com',\n",
       " 'dnaindia.com',\n",
       " 'stwnewspress.com',\n",
       " 'motorauthority.com',\n",
       " 'hive.com',\n",
       " 'optimistdaily.com',\n",
       " 'cambridge.org',\n",
       " 'printedelectronicsworld.com',\n",
       " 'dailyitem.com',\n",
       " 'nbc-2.com',\n",
       " 'americanactionforum.org',\n",
       " 'secretnyc.co',\n",
       " 'wxii12.com',\n",
       " 'archyde.com',\n",
       " 'pagina12.com.ar',\n",
       " 'midhudsonnews.com',\n",
       " 'thenerddaily.com',\n",
       " 'laserfocusworld.com',\n",
       " 'goodhousekeeping.com',\n",
       " 'kstk.org',\n",
       " 'iconvsicon.com',\n",
       " 'casinobeats.com',\n",
       " 'frbsf.org',\n",
       " 'venturebeat.com',\n",
       " 'unity.com',\n",
       " 'pistonheads.com',\n",
       " 'telospress.com',\n",
       " 'slobodnaevropa.org',\n",
       " 'beyondpesticides.org',\n",
       " 'foodbeast.com',\n",
       " 'voguebusiness.com',\n",
       " 'wfae.org',\n",
       " 'norwich.edu',\n",
       " 'e-flux.com',\n",
       " 'architectural-review.com',\n",
       " 'jiji.com',\n",
       " 'tum.de',\n",
       " 'whistleblowersblog.org',\n",
       " 'tudn.com',\n",
       " 'vozpopuli.com',\n",
       " 'aithority.com',\n",
       " 'bdtonline.com',\n",
       " 'gazeta.ru',\n",
       " 'engadget.com',\n",
       " 'circleofblue.org',\n",
       " 'moneyweek.com',\n",
       " 'greenevillesun.com',\n",
       " 'thekashmirwalla.com',\n",
       " 'tradersmagazine.com',\n",
       " 'democracynow.org',\n",
       " 'raptorsrapture.com',\n",
       " 'netlify.app',\n",
       " 'cheshire-live.co.uk',\n",
       " 'pogo.org',\n",
       " 'breitbart.com',\n",
       " 'hrexecutive.com',\n",
       " 'stjohns.edu',\n",
       " 'podtail.com',\n",
       " 'stpetecatalyst.com',\n",
       " 'thenest.com',\n",
       " 'newyorkyimby.com',\n",
       " 'arretsurimages.net',\n",
       " 'sopitas.com',\n",
       " 'eltima.com',\n",
       " 'onet.pl',\n",
       " 'prnasia.com',\n",
       " 'knowablemagazine.org',\n",
       " 'buckrail.com',\n",
       " 'hpe.com',\n",
       " 'gametimect.com',\n",
       " 'noozhawk.com',\n",
       " 'avweb.com',\n",
       " 'escape.com.au',\n",
       " 'defendingbigd.com',\n",
       " 'sny.tv',\n",
       " 'greencarcongress.com',\n",
       " 'afisha.ru',\n",
       " 'dukeupress.edu',\n",
       " 'zolmax.com',\n",
       " 'roi-nj.com',\n",
       " 'hollywoodintoto.com',\n",
       " 'electronicintifada.net',\n",
       " 'greenqueen.com.hk',\n",
       " 'israelhayom.com',\n",
       " 'dukebasketballreport.com',\n",
       " 'petroleumnews.com',\n",
       " 'latinousa.org',\n",
       " ...]"
      ]
     },
     "execution_count": 402,
     "metadata": {},
     "output_type": "execute_result"
    }
   ],
   "source": [
    "non_outlier"
   ]
  },
  {
   "cell_type": "markdown",
   "metadata": {},
   "source": [
    "## Cluster Try Out"
   ]
  },
  {
   "cell_type": "markdown",
   "metadata": {},
   "source": [
    "First, I make a list of subreddits with fixed order, where I only include subreddits where our non_outlier news sources are mentioned in."
   ]
  },
  {
   "cell_type": "code",
   "execution_count": 403,
   "metadata": {},
   "outputs": [
    {
     "data": {
      "text/plain": [
       "81351"
      ]
     },
     "execution_count": 403,
     "metadata": {},
     "output_type": "execute_result"
    }
   ],
   "source": [
    "# subreddits = subs\n",
    "subreddits = set()\n",
    "nsr_files = [ns_subreddit_01, ns_subreddit_02, ns_subreddit_03, ns_subreddit_04, ns_subreddit_05, ns_subreddit_06]\n",
    "# first, I filter for only the subreddits in which our news sources are mentioned\n",
    "for n in non_outlier:\n",
    "    subreddits = (subreddits | set(ns_subreddit_01.get(n, dict()).keys()) \n",
    "                               | set(ns_subreddit_02.get(n, dict()).keys()) \n",
    "                               | set(ns_subreddit_03.get(n, dict()).keys()) \n",
    "                               | set(ns_subreddit_04.get(n, dict()).keys())\n",
    "                               | set(ns_subreddit_05.get(n, dict()).keys()) \n",
    "                               | set(ns_subreddit_06.get(n, dict()).keys()))\n",
    "subreddits = list(subreddits)\n",
    "len(subreddits)"
   ]
  },
  {
   "cell_type": "markdown",
   "metadata": {},
   "source": [
    "There are 9195 subreddits."
   ]
  },
  {
   "cell_type": "code",
   "execution_count": 404,
   "metadata": {},
   "outputs": [
    {
     "data": {
      "text/plain": [
       "['IdleHeroes',\n",
       " 'DDR',\n",
       " 'LGBTARMY',\n",
       " 'u_williamletzer',\n",
       " 'bentoboxent',\n",
       " 'JewishYouthChatline',\n",
       " 'u_rashikatalyst',\n",
       " 'CiscoUCS',\n",
       " '2020Election',\n",
       " 'Apple_Fitness']"
      ]
     },
     "execution_count": 404,
     "metadata": {},
     "output_type": "execute_result"
    }
   ],
   "source": [
    "subreddits[-10:]"
   ]
  },
  {
   "cell_type": "markdown",
   "metadata": {},
   "source": [
    "If I should order them later, I can do so."
   ]
  },
  {
   "cell_type": "markdown",
   "metadata": {},
   "source": [
    "## Incorporating subscribers information"
   ]
  },
  {
   "cell_type": "code",
   "execution_count": 405,
   "metadata": {},
   "outputs": [],
   "source": [
    "pd1 = os.path.split(os.getcwd())[0]\n",
    "data_fp = os.path.join(pd1,\"data/gm-newssources-subreddits\")\n",
    "dfp = os.path.join(pd1,\"data\")"
   ]
  },
  {
   "cell_type": "code",
   "execution_count": 406,
   "metadata": {},
   "outputs": [],
   "source": [
    "sfp = os.path.join(pd1,\"data/subreddits\")"
   ]
  },
  {
   "cell_type": "code",
   "execution_count": 407,
   "metadata": {},
   "outputs": [],
   "source": [
    "# Let's only use the subreddits that have lots of subscribers\n",
    "with open (os.path.join(sfp,\"subreddit_subscribers.json\"), \"r\", encoding = \"utf-8\") as infile:\n",
    "    subreddit_subscribers = json.load(infile)"
   ]
  },
  {
   "cell_type": "code",
   "execution_count": 408,
   "metadata": {},
   "outputs": [
    {
     "data": {
      "text/plain": [
       "6201779"
      ]
     },
     "execution_count": 408,
     "metadata": {},
     "output_type": "execute_result"
    }
   ],
   "source": [
    "subreddit_subscribers['politics']"
   ]
  },
  {
   "cell_type": "code",
   "execution_count": 409,
   "metadata": {},
   "outputs": [
    {
     "data": {
      "text/plain": [
       "49055"
      ]
     },
     "execution_count": 409,
     "metadata": {},
     "output_type": "execute_result"
    }
   ],
   "source": [
    "len(subreddit_subscribers)"
   ]
  },
  {
   "cell_type": "code",
   "execution_count": 410,
   "metadata": {},
   "outputs": [
    {
     "data": {
      "text/plain": [
       "81351"
      ]
     },
     "execution_count": 410,
     "metadata": {},
     "output_type": "execute_result"
    }
   ],
   "source": [
    "len(subreddits)"
   ]
  },
  {
   "cell_type": "code",
   "execution_count": 411,
   "metadata": {
    "scrolled": true
   },
   "outputs": [
    {
     "data": {
      "text/plain": [
       "31277"
      ]
     },
     "execution_count": 411,
     "metadata": {},
     "output_type": "execute_result"
    }
   ],
   "source": [
    "subreddits_w_subc = [k for k in subreddits if k in subreddit_subscribers]\n",
    "len(subreddits_w_subc)"
   ]
  },
  {
   "cell_type": "markdown",
   "metadata": {},
   "source": [
    "It seems that there are `None` values, so let's filter those subreddits out."
   ]
  },
  {
   "cell_type": "code",
   "execution_count": 412,
   "metadata": {},
   "outputs": [
    {
     "name": "stdout",
     "output_type": "stream",
     "text": [
      "['RedditMobTest', 'WaterCoolerWednesday', 'transportation_games', 'JKRowling', 'u_robertinoc', 'LoveForLandlords', 'FisherFamilyMurders', 'u_dollymac72', 'DystopianFuture', 'Lsstestaccount', 'u_supplier4buyer']\n"
     ]
    }
   ],
   "source": [
    "print([s for s in subreddits_w_subc if subreddit_subscribers[s] is None])"
   ]
  },
  {
   "cell_type": "code",
   "execution_count": 413,
   "metadata": {},
   "outputs": [],
   "source": [
    "subreddits_w_subc = [s for s in subreddits_w_subc if subreddit_subscribers[s] is not None]"
   ]
  },
  {
   "cell_type": "code",
   "execution_count": 414,
   "metadata": {},
   "outputs": [
    {
     "data": {
      "text/plain": [
       "31266"
      ]
     },
     "execution_count": 414,
     "metadata": {},
     "output_type": "execute_result"
    }
   ],
   "source": [
    "len(subreddits_w_subc)"
   ]
  },
  {
   "cell_type": "markdown",
   "metadata": {},
   "source": [
    "Now, I will sort the 8,294 subreddits based on the # of their subscribers in a descending order."
   ]
  },
  {
   "cell_type": "code",
   "execution_count": 415,
   "metadata": {},
   "outputs": [],
   "source": [
    "srs_all = sorted(subreddits_w_subc, key= lambda x: subreddit_subscribers[x], reverse= True)"
   ]
  },
  {
   "cell_type": "code",
   "execution_count": 416,
   "metadata": {
    "scrolled": false
   },
   "outputs": [
    {
     "data": {
      "text/plain": [
       "Text(0.5, 1.0, 'Subreddits Subscribers')"
      ]
     },
     "execution_count": 416,
     "metadata": {},
     "output_type": "execute_result"
    },
    {
     "data": {
      "image/png": "[encoded data removed]",
      "text/plain": [
       "<Figure size 432x288 with 1 Axes>"
      ]
     },
     "metadata": {},
     "output_type": "display_data"
    }
   ],
   "source": [
    "# plt.hist([math.log(subreddit_subscribers[s],10) for s in srs_all if subreddit_subscribers[s] > 0])\n",
    "sns.histplot([subreddit_subscribers[s] for s in srs_all if subreddit_subscribers[s]>0], log_scale=True)\n",
    "# plt.hist([subreddit_subscribers[s] for s in srs_all if subreddit_subscribers[s] > 0])\n",
    "# plt.yscale(\"log\")\n",
    "# plt.xscale(\"log\")\n",
    "plt.ylabel(\"number of subreddits\")\n",
    "plt.xlabel(\"number of subscribers (10^)\")\n",
    "plt.title(\"Subreddits Subscribers\")\n",
    "# log scale for both x and y"
   ]
  },
  {
   "cell_type": "markdown",
   "metadata": {},
   "source": [
    "Which subreddits are the top three?"
   ]
  },
  {
   "cell_type": "code",
   "execution_count": 417,
   "metadata": {},
   "outputs": [
    {
     "name": "stdout",
     "output_type": "stream",
     "text": [
      "[('funny', 31060166), ('gaming', 26628444), ('aww', 25197817)]\n"
     ]
    }
   ],
   "source": [
    "print([(s,subreddit_subscribers[s]) for s in srs_all if subreddit_subscribers[s]>25000000])"
   ]
  },
  {
   "cell_type": "code",
   "execution_count": 418,
   "metadata": {
    "scrolled": true
   },
   "outputs": [
    {
     "data": {
      "text/plain": [
       "['__doc__',\n",
       " '__loader__',\n",
       " '__name__',\n",
       " '__package__',\n",
       " '__spec__',\n",
       " 'acos',\n",
       " 'acosh',\n",
       " 'asin',\n",
       " 'asinh',\n",
       " 'atan',\n",
       " 'atan2',\n",
       " 'atanh',\n",
       " 'ceil',\n",
       " 'comb',\n",
       " 'copysign',\n",
       " 'cos',\n",
       " 'cosh',\n",
       " 'degrees',\n",
       " 'dist',\n",
       " 'e',\n",
       " 'erf',\n",
       " 'erfc',\n",
       " 'exp',\n",
       " 'expm1',\n",
       " 'fabs',\n",
       " 'factorial',\n",
       " 'floor',\n",
       " 'fmod',\n",
       " 'frexp',\n",
       " 'fsum',\n",
       " 'gamma',\n",
       " 'gcd',\n",
       " 'hypot',\n",
       " 'inf',\n",
       " 'isclose',\n",
       " 'isfinite',\n",
       " 'isinf',\n",
       " 'isnan',\n",
       " 'isqrt',\n",
       " 'ldexp',\n",
       " 'lgamma',\n",
       " 'log',\n",
       " 'log10',\n",
       " 'log1p',\n",
       " 'log2',\n",
       " 'modf',\n",
       " 'nan',\n",
       " 'perm',\n",
       " 'pi',\n",
       " 'pow',\n",
       " 'prod',\n",
       " 'radians',\n",
       " 'remainder',\n",
       " 'sin',\n",
       " 'sinh',\n",
       " 'sqrt',\n",
       " 'tan',\n",
       " 'tanh',\n",
       " 'tau',\n",
       " 'trunc']"
      ]
     },
     "execution_count": 418,
     "metadata": {},
     "output_type": "execute_result"
    }
   ],
   "source": [
    "dir(math)"
   ]
  },
  {
   "cell_type": "code",
   "execution_count": 419,
   "metadata": {},
   "outputs": [
    {
     "data": {
      "text/plain": [
       "25"
      ]
     },
     "execution_count": 419,
     "metadata": {},
     "output_type": "execute_result"
    }
   ],
   "source": [
    "list(subreddit_subscribers.values()).count(None)"
   ]
  },
  {
   "cell_type": "code",
   "execution_count": 420,
   "metadata": {},
   "outputs": [
    {
     "data": {
      "text/plain": [
       "1420.0"
      ]
     },
     "execution_count": 420,
     "metadata": {},
     "output_type": "execute_result"
    }
   ],
   "source": [
    "statistics.median([k for k in list(subreddit_subscribers.values()) if k is not None])"
   ]
  },
  {
   "cell_type": "code",
   "execution_count": 421,
   "metadata": {},
   "outputs": [
    {
     "data": {
      "text/plain": [
       "50070.832184376915"
      ]
     },
     "execution_count": 421,
     "metadata": {},
     "output_type": "execute_result"
    }
   ],
   "source": [
    "statistics.mean([k for k in list(subreddit_subscribers.values()) if k is not None])"
   ]
  },
  {
   "cell_type": "markdown",
   "metadata": {},
   "source": [
    "## Clusterings using 1000 subreddits"
   ]
  },
  {
   "cell_type": "code",
   "execution_count": 422,
   "metadata": {},
   "outputs": [],
   "source": [
    "srs = srs_all"
   ]
  },
  {
   "cell_type": "code",
   "execution_count": 350,
   "metadata": {},
   "outputs": [
    {
     "data": {
      "text/plain": [
       "{'a': 1, 'b': 1, 'c': 2}"
      ]
     },
     "execution_count": 350,
     "metadata": {},
     "output_type": "execute_result"
    }
   ],
   "source": [
    "a = {\"a\": 1, \"b\": 2}\n",
    "b = {\"b\": 1, \"c\": 2}\n",
    "res = {**a, **b}\n",
    "res"
   ]
  },
  {
   "cell_type": "markdown",
   "metadata": {},
   "source": [
    "For each news source, I create a list of length 1000 (# subreddits), and the values would be the weighted count of how many times that news source appears in subreddit index *i*, where the index is based on the list `srs`. The weighted count will be based on the upvote_ratio as well as number of comments."
   ]
  },
  {
   "cell_type": "code",
   "execution_count": 351,
   "metadata": {},
   "outputs": [
    {
     "ename": "TypeError",
     "evalue": "cannot unpack non-iterable float object",
     "output_type": "error",
     "traceback": [
      "\u001b[1;31m---------------------------------------------------------------------------\u001b[0m",
      "\u001b[1;31mTypeError\u001b[0m                                 Traceback (most recent call last)",
      "\u001b[1;32m<ipython-input-351-d6446cd0ba52>\u001b[0m in \u001b[0;36m<module>\u001b[1;34m\u001b[0m\n\u001b[0;32m      5\u001b[0m         \u001b[1;32mfor\u001b[0m \u001b[0mns\u001b[0m \u001b[1;32min\u001b[0m \u001b[0mf\u001b[0m\u001b[1;33m[\u001b[0m\u001b[0mk\u001b[0m\u001b[1;33m]\u001b[0m\u001b[1;33m:\u001b[0m\u001b[1;33m\u001b[0m\u001b[1;33m\u001b[0m\u001b[0m\n\u001b[0;32m      6\u001b[0m             \u001b[1;31m# averaging based on weighted counts\u001b[0m\u001b[1;33m\u001b[0m\u001b[1;33m\u001b[0m\u001b[1;33m\u001b[0m\u001b[0m\n\u001b[1;32m----> 7\u001b[1;33m             \u001b[0mcount\u001b[0m\u001b[1;33m,\u001b[0m \u001b[0mupv\u001b[0m\u001b[1;33m,\u001b[0m \u001b[0mcomm\u001b[0m \u001b[1;33m=\u001b[0m \u001b[0mf\u001b[0m\u001b[1;33m[\u001b[0m\u001b[0mk\u001b[0m\u001b[1;33m]\u001b[0m\u001b[1;33m[\u001b[0m\u001b[0mns\u001b[0m\u001b[1;33m]\u001b[0m\u001b[1;33m\u001b[0m\u001b[1;33m\u001b[0m\u001b[0m\n\u001b[0m\u001b[0;32m      8\u001b[0m             \u001b[0mavg\u001b[0m \u001b[1;33m=\u001b[0m \u001b[1;33m(\u001b[0m\u001b[0mupv\u001b[0m \u001b[1;33m+\u001b[0m \u001b[0mcomm\u001b[0m\u001b[1;33m)\u001b[0m\u001b[1;33m/\u001b[0m\u001b[0mcount\u001b[0m\u001b[1;33m\u001b[0m\u001b[1;33m\u001b[0m\u001b[0m\n\u001b[0;32m      9\u001b[0m             \u001b[0mf\u001b[0m\u001b[1;33m[\u001b[0m\u001b[0mk\u001b[0m\u001b[1;33m]\u001b[0m\u001b[1;33m[\u001b[0m\u001b[0mns\u001b[0m\u001b[1;33m]\u001b[0m \u001b[1;33m=\u001b[0m \u001b[0mavg\u001b[0m\u001b[1;33m\u001b[0m\u001b[1;33m\u001b[0m\u001b[0m\n",
      "\u001b[1;31mTypeError\u001b[0m: cannot unpack non-iterable float object"
     ]
    }
   ],
   "source": [
    "# here I will cast the inner dictionaries of ns_subreddits to be Counter so I can avoid a lot of if-else statements\n",
    "files = [ns_subreddit_01, ns_subreddit_02, ns_subreddit_03, ns_subreddit_04, ns_subreddit_05, ns_subreddit_06]\n",
    "for f in files:\n",
    "    for k in f: # k is each news source\n",
    "        for ns in f[k]:\n",
    "            # averaging based on weighted counts\n",
    "            count, upv, comm = f[k][ns]\n",
    "            avg = (upv + comm)/count\n",
    "            f[k][ns] = avg\n",
    "        f[k] = Counter(f[k])"
   ]
  },
  {
   "cell_type": "code",
   "execution_count": 259,
   "metadata": {},
   "outputs": [],
   "source": [
    "ns_sr_rep = dict()\n",
    "default_counter = Counter() # to avoid a lot of if else statements\n",
    "\n",
    "# for ns in nss:\n",
    "for ns in non_outlier:\n",
    "    # making sure the ordering follows `srs` based on subscribers\n",
    "    ns_sr_rep[ns] = [ns_subreddit_01.get(ns, default_counter)[srs[idx]] \n",
    "                     + ns_subreddit_02.get(ns, default_counter)[srs[idx]] \n",
    "                     + ns_subreddit_03.get(ns, default_counter)[srs[idx]] \n",
    "                     + ns_subreddit_04.get(ns, default_counter)[srs[idx]] \n",
    "                     + ns_subreddit_05.get(ns, default_counter)[srs[idx]] \n",
    "                     + ns_subreddit_06.get(ns, default_counter)[srs[idx]] \n",
    "                     for idx in range(len(srs))]"
   ]
  },
  {
   "cell_type": "markdown",
   "metadata": {},
   "source": [
    "Let's see one example of representation for `nytimes.com`."
   ]
  },
  {
   "cell_type": "code",
   "execution_count": 260,
   "metadata": {},
   "outputs": [
    {
     "data": {
      "text/plain": [
       "50"
      ]
     },
     "execution_count": 260,
     "metadata": {},
     "output_type": "execute_result"
    }
   ],
   "source": [
    "len(ns_sr_rep['ottawacitizen.com'])"
   ]
  },
  {
   "cell_type": "code",
   "execution_count": 261,
   "metadata": {},
   "outputs": [
    {
     "data": {
      "text/plain": [
       "[0,\n",
       " 0,\n",
       " 0,\n",
       " 0,\n",
       " 0,\n",
       " 861.035,\n",
       " 0,\n",
       " 0,\n",
       " 0,\n",
       " 0,\n",
       " 393.845,\n",
       " 0,\n",
       " 0,\n",
       " 0,\n",
       " 0,\n",
       " 0,\n",
       " 0,\n",
       " 0,\n",
       " 0,\n",
       " 0,\n",
       " 0,\n",
       " 0,\n",
       " 0,\n",
       " 0,\n",
       " 0,\n",
       " 0,\n",
       " 68.02000000000001,\n",
       " 0,\n",
       " 0,\n",
       " 0,\n",
       " 0,\n",
       " 0,\n",
       " 0,\n",
       " 0,\n",
       " 0,\n",
       " 0,\n",
       " 0,\n",
       " 0,\n",
       " 0,\n",
       " 0,\n",
       " 0,\n",
       " 0,\n",
       " 0,\n",
       " 0,\n",
       " 0,\n",
       " 0,\n",
       " 0,\n",
       " 0,\n",
       " 0,\n",
       " 0]"
      ]
     },
     "execution_count": 261,
     "metadata": {},
     "output_type": "execute_result"
    }
   ],
   "source": [
    "ns_sr_rep['ottawacitizen.com']"
   ]
  },
  {
   "cell_type": "markdown",
   "metadata": {},
   "source": [
    "Now, I will cast those list representation values to be numpy arrays so I can preprocess them easily. Further, I will normalize each array."
   ]
  },
  {
   "cell_type": "markdown",
   "metadata": {},
   "source": [
    "*side note: `preprocessing.normalize` vs `standardscaler`*"
   ]
  },
  {
   "cell_type": "code",
   "execution_count": 262,
   "metadata": {},
   "outputs": [
    {
     "data": {
      "text/plain": [
       "array([[0.00999301, 0.99930073, 0.01998601, 0.02997902]])"
      ]
     },
     "execution_count": 262,
     "metadata": {},
     "output_type": "execute_result"
    }
   ],
   "source": [
    "preprocessing.normalize(np.array([[1,100,2,3]]))"
   ]
  },
  {
   "cell_type": "code",
   "execution_count": 263,
   "metadata": {},
   "outputs": [
    {
     "data": {
      "text/plain": [
       "array([[0., 0., 0., 0.]])"
      ]
     },
     "execution_count": 263,
     "metadata": {},
     "output_type": "execute_result"
    }
   ],
   "source": [
    "scaler = StandardScaler()\n",
    "scaler.fit_transform(np.array([[1,100,2,3]]))"
   ]
  },
  {
   "cell_type": "markdown",
   "metadata": {},
   "source": [
    "Now I'm thinking, should I *normalize* or *standardize*?"
   ]
  },
  {
   "cell_type": "code",
   "execution_count": 264,
   "metadata": {},
   "outputs": [],
   "source": [
    "# for ns in ns_sr_rep:\n",
    "#     rep = ns_sr_rep[ns]\n",
    "#     ns_sr_rep[ns] = preprocessing.normalize(np.array([rep]))"
   ]
  },
  {
   "cell_type": "markdown",
   "metadata": {},
   "source": [
    "## K-Means\n",
    "\n",
    "Without standardization.\n",
    "\n",
    "First, I need to find optimum `k`."
   ]
  },
  {
   "cell_type": "code",
   "execution_count": 266,
   "metadata": {},
   "outputs": [],
   "source": [
    "kmeans = KMeans(init = \"k-means++\",\n",
    "               n_clusters = 5,\n",
    "               n_init = 10,\n",
    "               max_iter = 100)"
   ]
  },
  {
   "cell_type": "markdown",
   "metadata": {},
   "source": [
    "Freezing the list for representations and the news sources."
   ]
  },
  {
   "cell_type": "code",
   "execution_count": 267,
   "metadata": {},
   "outputs": [
    {
     "data": {
      "text/plain": [
       "('i95rock.com',\n",
       " [0,\n",
       "  0,\n",
       "  0,\n",
       "  0,\n",
       "  0,\n",
       "  0,\n",
       "  0,\n",
       "  0,\n",
       "  0,\n",
       "  0,\n",
       "  0,\n",
       "  0,\n",
       "  0,\n",
       "  0,\n",
       "  0,\n",
       "  0,\n",
       "  0,\n",
       "  0,\n",
       "  0,\n",
       "  0,\n",
       "  0,\n",
       "  0,\n",
       "  0,\n",
       "  0,\n",
       "  0,\n",
       "  0,\n",
       "  0,\n",
       "  0,\n",
       "  0,\n",
       "  0,\n",
       "  0,\n",
       "  0,\n",
       "  0,\n",
       "  0,\n",
       "  0,\n",
       "  0,\n",
       "  0,\n",
       "  0,\n",
       "  0,\n",
       "  0,\n",
       "  0,\n",
       "  0,\n",
       "  0,\n",
       "  0,\n",
       "  0,\n",
       "  0,\n",
       "  0,\n",
       "  0,\n",
       "  0,\n",
       "  0])"
      ]
     },
     "execution_count": 267,
     "metadata": {},
     "output_type": "execute_result"
    }
   ],
   "source": [
    "items = list(ns_sr_rep.items())\n",
    "items[3]"
   ]
  },
  {
   "cell_type": "code",
   "execution_count": 268,
   "metadata": {},
   "outputs": [],
   "source": [
    "ns_repr, ns_fixed = np.array([v[1] for v in items]), list([v[0] for v in items])"
   ]
  },
  {
   "cell_type": "code",
   "execution_count": 269,
   "metadata": {},
   "outputs": [
    {
     "data": {
      "text/plain": [
       "KMeans(max_iter=100, n_clusters=5)"
      ]
     },
     "execution_count": 269,
     "metadata": {},
     "output_type": "execute_result"
    }
   ],
   "source": [
    "kmeans.fit([v for v in ns_sr_rep.values()])"
   ]
  },
  {
   "cell_type": "code",
   "execution_count": 270,
   "metadata": {},
   "outputs": [
    {
     "name": "stdout",
     "output_type": "stream",
     "text": [
      "True\n"
     ]
    }
   ],
   "source": [
    "for i,ns in enumerate(ns_fixed):\n",
    "    if (ns_sr_rep[ns] == ns_repr[i]).all():\n",
    "        pass\n",
    "    else:\n",
    "        print(\"False\")\n",
    "print(\"True\")"
   ]
  },
  {
   "cell_type": "code",
   "execution_count": 271,
   "metadata": {},
   "outputs": [
    {
     "data": {
      "text/plain": [
       "2489349969.912243"
      ]
     },
     "execution_count": 271,
     "metadata": {},
     "output_type": "execute_result"
    }
   ],
   "source": [
    "kmeans.inertia_"
   ]
  },
  {
   "cell_type": "code",
   "execution_count": 272,
   "metadata": {
    "scrolled": true
   },
   "outputs": [
    {
     "data": {
      "text/plain": [
       "17"
      ]
     },
     "execution_count": 272,
     "metadata": {},
     "output_type": "execute_result"
    }
   ],
   "source": [
    "kmeans.n_iter_"
   ]
  },
  {
   "cell_type": "code",
   "execution_count": 278,
   "metadata": {
    "scrolled": true
   },
   "outputs": [
    {
     "data": {
      "text/plain": [
       "Counter({0: 11798, 3: 20, 4: 78, 2: 257, 1: 19})"
      ]
     },
     "execution_count": 278,
     "metadata": {},
     "output_type": "execute_result"
    }
   ],
   "source": [
    "Counter(kmeans.labels_)"
   ]
  },
  {
   "cell_type": "markdown",
   "metadata": {},
   "source": [
    "**Choosing the appropriate number of clusters**"
   ]
  },
  {
   "cell_type": "markdown",
   "metadata": {},
   "source": [
    "1. Elbow method"
   ]
  },
  {
   "cell_type": "code",
   "execution_count": 279,
   "metadata": {},
   "outputs": [],
   "source": [
    "kmeans_kwargs = {\n",
    "    \"init\": \"random\",\n",
    "    \"n_init\": 10,\n",
    "    \"max_iter\": 300,\n",
    "    \"random_state\": 360\n",
    "}"
   ]
  },
  {
   "cell_type": "code",
   "execution_count": 280,
   "metadata": {
    "scrolled": true
   },
   "outputs": [
    {
     "name": "stdout",
     "output_type": "stream",
     "text": [
      "have done 1 rounds, current sse is [3742986473.2936273]\n",
      "have done 2 rounds, current sse is [3742986473.2936273, 3234417042.1679316]\n",
      "have done 3 rounds, current sse is [3742986473.2936273, 3234417042.1679316, 2955216016.857941]\n",
      "have done 4 rounds, current sse is [3742986473.2936273, 3234417042.1679316, 2955216016.857941, 2695873424.789785]\n",
      "have done 5 rounds, current sse is [3742986473.2936273, 3234417042.1679316, 2955216016.857941, 2695873424.789785, 2488313014.3627152]\n",
      "have done 6 rounds, current sse is [3742986473.2936273, 3234417042.1679316, 2955216016.857941, 2695873424.789785, 2488313014.3627152, 2293210806.7762027]\n",
      "have done 7 rounds, current sse is [3742986473.2936273, 3234417042.1679316, 2955216016.857941, 2695873424.789785, 2488313014.3627152, 2293210806.7762027, 2098664065.763022]\n",
      "have done 8 rounds, current sse is [3742986473.2936273, 3234417042.1679316, 2955216016.857941, 2695873424.789785, 2488313014.3627152, 2293210806.7762027, 2098664065.763022, 2014196960.830707]\n",
      "have done 9 rounds, current sse is [3742986473.2936273, 3234417042.1679316, 2955216016.857941, 2695873424.789785, 2488313014.3627152, 2293210806.7762027, 2098664065.763022, 2014196960.830707, 1828149792.6682768]\n",
      "have done 10 rounds, current sse is [3742986473.2936273, 3234417042.1679316, 2955216016.857941, 2695873424.789785, 2488313014.3627152, 2293210806.7762027, 2098664065.763022, 2014196960.830707, 1828149792.6682768, 1722006067.421706]\n",
      "have done 11 rounds, current sse is [3742986473.2936273, 3234417042.1679316, 2955216016.857941, 2695873424.789785, 2488313014.3627152, 2293210806.7762027, 2098664065.763022, 2014196960.830707, 1828149792.6682768, 1722006067.421706, 1600438086.725546]\n",
      "have done 12 rounds, current sse is [3742986473.2936273, 3234417042.1679316, 2955216016.857941, 2695873424.789785, 2488313014.3627152, 2293210806.7762027, 2098664065.763022, 2014196960.830707, 1828149792.6682768, 1722006067.421706, 1600438086.725546, 1483067977.4693468]\n",
      "have done 13 rounds, current sse is [3742986473.2936273, 3234417042.1679316, 2955216016.857941, 2695873424.789785, 2488313014.3627152, 2293210806.7762027, 2098664065.763022, 2014196960.830707, 1828149792.6682768, 1722006067.421706, 1600438086.725546, 1483067977.4693468, 1400449889.892366]\n",
      "have done 14 rounds, current sse is [3742986473.2936273, 3234417042.1679316, 2955216016.857941, 2695873424.789785, 2488313014.3627152, 2293210806.7762027, 2098664065.763022, 2014196960.830707, 1828149792.6682768, 1722006067.421706, 1600438086.725546, 1483067977.4693468, 1400449889.892366, 1306601429.7751622]\n",
      "have done 15 rounds, current sse is [3742986473.2936273, 3234417042.1679316, 2955216016.857941, 2695873424.789785, 2488313014.3627152, 2293210806.7762027, 2098664065.763022, 2014196960.830707, 1828149792.6682768, 1722006067.421706, 1600438086.725546, 1483067977.4693468, 1400449889.892366, 1306601429.7751622, 1265379480.4209607]\n",
      "have done 16 rounds, current sse is [3742986473.2936273, 3234417042.1679316, 2955216016.857941, 2695873424.789785, 2488313014.3627152, 2293210806.7762027, 2098664065.763022, 2014196960.830707, 1828149792.6682768, 1722006067.421706, 1600438086.725546, 1483067977.4693468, 1400449889.892366, 1306601429.7751622, 1265379480.4209607, 1191656941.3570268]\n",
      "have done 17 rounds, current sse is [3742986473.2936273, 3234417042.1679316, 2955216016.857941, 2695873424.789785, 2488313014.3627152, 2293210806.7762027, 2098664065.763022, 2014196960.830707, 1828149792.6682768, 1722006067.421706, 1600438086.725546, 1483067977.4693468, 1400449889.892366, 1306601429.7751622, 1265379480.4209607, 1191656941.3570268, 1156324662.6761339]\n",
      "have done 18 rounds, current sse is [3742986473.2936273, 3234417042.1679316, 2955216016.857941, 2695873424.789785, 2488313014.3627152, 2293210806.7762027, 2098664065.763022, 2014196960.830707, 1828149792.6682768, 1722006067.421706, 1600438086.725546, 1483067977.4693468, 1400449889.892366, 1306601429.7751622, 1265379480.4209607, 1191656941.3570268, 1156324662.6761339, 1114299811.5887597]\n",
      "have done 19 rounds, current sse is [3742986473.2936273, 3234417042.1679316, 2955216016.857941, 2695873424.789785, 2488313014.3627152, 2293210806.7762027, 2098664065.763022, 2014196960.830707, 1828149792.6682768, 1722006067.421706, 1600438086.725546, 1483067977.4693468, 1400449889.892366, 1306601429.7751622, 1265379480.4209607, 1191656941.3570268, 1156324662.6761339, 1114299811.5887597, 1067129265.2241528]\n"
     ]
    }
   ],
   "source": [
    "sse = []\n",
    "for k in range(1,20):\n",
    "    kmeans = KMeans(n_clusters = k, **kmeans_kwargs)\n",
    "    kmeans.fit(ns_repr)\n",
    "    sse.append(kmeans.inertia_)\n",
    "    print(f\"have done {k} rounds, current sse is {sse}\")"
   ]
  },
  {
   "cell_type": "code",
   "execution_count": 281,
   "metadata": {
    "scrolled": true
   },
   "outputs": [
    {
     "data": {
      "text/plain": [
       "[<matplotlib.lines.Line2D at 0x1dc1bbeb790>]"
      ]
     },
     "execution_count": 281,
     "metadata": {},
     "output_type": "execute_result"
    },
    {
     "data": {
      "image/png": "[encoded data removed]",
      "text/plain": [
       "<Figure size 432x288 with 1 Axes>"
      ]
     },
     "metadata": {},
     "output_type": "display_data"
    }
   ],
   "source": [
    "plt.plot(range(1,20),sse,\"go-\")"
   ]
  },
  {
   "cell_type": "code",
   "execution_count": 282,
   "metadata": {
    "scrolled": true
   },
   "outputs": [
    {
     "name": "stdout",
     "output_type": "stream",
     "text": [
      "have done 20 rounds, current sse is [3742986473.2936273, 3234417042.1679316, 2955216016.857941, 2695873424.789785, 2488313014.3627152, 2293210806.7762027, 2098664065.763022, 2014196960.830707, 1828149792.6682768, 1722006067.421706, 1600438086.725546, 1483067977.4693468, 1400449889.892366, 1306601429.7751622, 1265379480.4209607, 1191656941.3570268, 1156324662.6761339, 1114299811.5887597, 1067129265.2241528, 1007128251.3336804]\n",
      "have done 21 rounds, current sse is [3742986473.2936273, 3234417042.1679316, 2955216016.857941, 2695873424.789785, 2488313014.3627152, 2293210806.7762027, 2098664065.763022, 2014196960.830707, 1828149792.6682768, 1722006067.421706, 1600438086.725546, 1483067977.4693468, 1400449889.892366, 1306601429.7751622, 1265379480.4209607, 1191656941.3570268, 1156324662.6761339, 1114299811.5887597, 1067129265.2241528, 1007128251.3336804, 966015297.6944139]\n",
      "have done 22 rounds, current sse is [3742986473.2936273, 3234417042.1679316, 2955216016.857941, 2695873424.789785, 2488313014.3627152, 2293210806.7762027, 2098664065.763022, 2014196960.830707, 1828149792.6682768, 1722006067.421706, 1600438086.725546, 1483067977.4693468, 1400449889.892366, 1306601429.7751622, 1265379480.4209607, 1191656941.3570268, 1156324662.6761339, 1114299811.5887597, 1067129265.2241528, 1007128251.3336804, 966015297.6944139, 921800899.1342736]\n",
      "have done 23 rounds, current sse is [3742986473.2936273, 3234417042.1679316, 2955216016.857941, 2695873424.789785, 2488313014.3627152, 2293210806.7762027, 2098664065.763022, 2014196960.830707, 1828149792.6682768, 1722006067.421706, 1600438086.725546, 1483067977.4693468, 1400449889.892366, 1306601429.7751622, 1265379480.4209607, 1191656941.3570268, 1156324662.6761339, 1114299811.5887597, 1067129265.2241528, 1007128251.3336804, 966015297.6944139, 921800899.1342736, 901762829.3856338]\n",
      "have done 24 rounds, current sse is [3742986473.2936273, 3234417042.1679316, 2955216016.857941, 2695873424.789785, 2488313014.3627152, 2293210806.7762027, 2098664065.763022, 2014196960.830707, 1828149792.6682768, 1722006067.421706, 1600438086.725546, 1483067977.4693468, 1400449889.892366, 1306601429.7751622, 1265379480.4209607, 1191656941.3570268, 1156324662.6761339, 1114299811.5887597, 1067129265.2241528, 1007128251.3336804, 966015297.6944139, 921800899.1342736, 901762829.3856338, 876828075.0420979]\n",
      "have done 25 rounds, current sse is [3742986473.2936273, 3234417042.1679316, 2955216016.857941, 2695873424.789785, 2488313014.3627152, 2293210806.7762027, 2098664065.763022, 2014196960.830707, 1828149792.6682768, 1722006067.421706, 1600438086.725546, 1483067977.4693468, 1400449889.892366, 1306601429.7751622, 1265379480.4209607, 1191656941.3570268, 1156324662.6761339, 1114299811.5887597, 1067129265.2241528, 1007128251.3336804, 966015297.6944139, 921800899.1342736, 901762829.3856338, 876828075.0420979, 847503639.6679804]\n",
      "have done 26 rounds, current sse is [3742986473.2936273, 3234417042.1679316, 2955216016.857941, 2695873424.789785, 2488313014.3627152, 2293210806.7762027, 2098664065.763022, 2014196960.830707, 1828149792.6682768, 1722006067.421706, 1600438086.725546, 1483067977.4693468, 1400449889.892366, 1306601429.7751622, 1265379480.4209607, 1191656941.3570268, 1156324662.6761339, 1114299811.5887597, 1067129265.2241528, 1007128251.3336804, 966015297.6944139, 921800899.1342736, 901762829.3856338, 876828075.0420979, 847503639.6679804, 830839780.7020626]\n",
      "have done 27 rounds, current sse is [3742986473.2936273, 3234417042.1679316, 2955216016.857941, 2695873424.789785, 2488313014.3627152, 2293210806.7762027, 2098664065.763022, 2014196960.830707, 1828149792.6682768, 1722006067.421706, 1600438086.725546, 1483067977.4693468, 1400449889.892366, 1306601429.7751622, 1265379480.4209607, 1191656941.3570268, 1156324662.6761339, 1114299811.5887597, 1067129265.2241528, 1007128251.3336804, 966015297.6944139, 921800899.1342736, 901762829.3856338, 876828075.0420979, 847503639.6679804, 830839780.7020626, 798059365.1603899]\n",
      "have done 28 rounds, current sse is [3742986473.2936273, 3234417042.1679316, 2955216016.857941, 2695873424.789785, 2488313014.3627152, 2293210806.7762027, 2098664065.763022, 2014196960.830707, 1828149792.6682768, 1722006067.421706, 1600438086.725546, 1483067977.4693468, 1400449889.892366, 1306601429.7751622, 1265379480.4209607, 1191656941.3570268, 1156324662.6761339, 1114299811.5887597, 1067129265.2241528, 1007128251.3336804, 966015297.6944139, 921800899.1342736, 901762829.3856338, 876828075.0420979, 847503639.6679804, 830839780.7020626, 798059365.1603899, 791723158.6891322]\n",
      "have done 29 rounds, current sse is [3742986473.2936273, 3234417042.1679316, 2955216016.857941, 2695873424.789785, 2488313014.3627152, 2293210806.7762027, 2098664065.763022, 2014196960.830707, 1828149792.6682768, 1722006067.421706, 1600438086.725546, 1483067977.4693468, 1400449889.892366, 1306601429.7751622, 1265379480.4209607, 1191656941.3570268, 1156324662.6761339, 1114299811.5887597, 1067129265.2241528, 1007128251.3336804, 966015297.6944139, 921800899.1342736, 901762829.3856338, 876828075.0420979, 847503639.6679804, 830839780.7020626, 798059365.1603899, 791723158.6891322, 721297569.7979159]\n",
      "have done 30 rounds, current sse is [3742986473.2936273, 3234417042.1679316, 2955216016.857941, 2695873424.789785, 2488313014.3627152, 2293210806.7762027, 2098664065.763022, 2014196960.830707, 1828149792.6682768, 1722006067.421706, 1600438086.725546, 1483067977.4693468, 1400449889.892366, 1306601429.7751622, 1265379480.4209607, 1191656941.3570268, 1156324662.6761339, 1114299811.5887597, 1067129265.2241528, 1007128251.3336804, 966015297.6944139, 921800899.1342736, 901762829.3856338, 876828075.0420979, 847503639.6679804, 830839780.7020626, 798059365.1603899, 791723158.6891322, 721297569.7979159, 698322207.6846948]\n",
      "have done 31 rounds, current sse is [3742986473.2936273, 3234417042.1679316, 2955216016.857941, 2695873424.789785, 2488313014.3627152, 2293210806.7762027, 2098664065.763022, 2014196960.830707, 1828149792.6682768, 1722006067.421706, 1600438086.725546, 1483067977.4693468, 1400449889.892366, 1306601429.7751622, 1265379480.4209607, 1191656941.3570268, 1156324662.6761339, 1114299811.5887597, 1067129265.2241528, 1007128251.3336804, 966015297.6944139, 921800899.1342736, 901762829.3856338, 876828075.0420979, 847503639.6679804, 830839780.7020626, 798059365.1603899, 791723158.6891322, 721297569.7979159, 698322207.6846948, 671007699.0112892]\n",
      "have done 32 rounds, current sse is [3742986473.2936273, 3234417042.1679316, 2955216016.857941, 2695873424.789785, 2488313014.3627152, 2293210806.7762027, 2098664065.763022, 2014196960.830707, 1828149792.6682768, 1722006067.421706, 1600438086.725546, 1483067977.4693468, 1400449889.892366, 1306601429.7751622, 1265379480.4209607, 1191656941.3570268, 1156324662.6761339, 1114299811.5887597, 1067129265.2241528, 1007128251.3336804, 966015297.6944139, 921800899.1342736, 901762829.3856338, 876828075.0420979, 847503639.6679804, 830839780.7020626, 798059365.1603899, 791723158.6891322, 721297569.7979159, 698322207.6846948, 671007699.0112892, 641011232.8167658]\n",
      "have done 33 rounds, current sse is [3742986473.2936273, 3234417042.1679316, 2955216016.857941, 2695873424.789785, 2488313014.3627152, 2293210806.7762027, 2098664065.763022, 2014196960.830707, 1828149792.6682768, 1722006067.421706, 1600438086.725546, 1483067977.4693468, 1400449889.892366, 1306601429.7751622, 1265379480.4209607, 1191656941.3570268, 1156324662.6761339, 1114299811.5887597, 1067129265.2241528, 1007128251.3336804, 966015297.6944139, 921800899.1342736, 901762829.3856338, 876828075.0420979, 847503639.6679804, 830839780.7020626, 798059365.1603899, 791723158.6891322, 721297569.7979159, 698322207.6846948, 671007699.0112892, 641011232.8167658, 632059196.108287]\n",
      "have done 34 rounds, current sse is [3742986473.2936273, 3234417042.1679316, 2955216016.857941, 2695873424.789785, 2488313014.3627152, 2293210806.7762027, 2098664065.763022, 2014196960.830707, 1828149792.6682768, 1722006067.421706, 1600438086.725546, 1483067977.4693468, 1400449889.892366, 1306601429.7751622, 1265379480.4209607, 1191656941.3570268, 1156324662.6761339, 1114299811.5887597, 1067129265.2241528, 1007128251.3336804, 966015297.6944139, 921800899.1342736, 901762829.3856338, 876828075.0420979, 847503639.6679804, 830839780.7020626, 798059365.1603899, 791723158.6891322, 721297569.7979159, 698322207.6846948, 671007699.0112892, 641011232.8167658, 632059196.108287, 600862222.2112212]\n"
     ]
    },
    {
     "name": "stdout",
     "output_type": "stream",
     "text": [
      "have done 35 rounds, current sse is [3742986473.2936273, 3234417042.1679316, 2955216016.857941, 2695873424.789785, 2488313014.3627152, 2293210806.7762027, 2098664065.763022, 2014196960.830707, 1828149792.6682768, 1722006067.421706, 1600438086.725546, 1483067977.4693468, 1400449889.892366, 1306601429.7751622, 1265379480.4209607, 1191656941.3570268, 1156324662.6761339, 1114299811.5887597, 1067129265.2241528, 1007128251.3336804, 966015297.6944139, 921800899.1342736, 901762829.3856338, 876828075.0420979, 847503639.6679804, 830839780.7020626, 798059365.1603899, 791723158.6891322, 721297569.7979159, 698322207.6846948, 671007699.0112892, 641011232.8167658, 632059196.108287, 600862222.2112212, 592475449.6840172]\n",
      "have done 36 rounds, current sse is [3742986473.2936273, 3234417042.1679316, 2955216016.857941, 2695873424.789785, 2488313014.3627152, 2293210806.7762027, 2098664065.763022, 2014196960.830707, 1828149792.6682768, 1722006067.421706, 1600438086.725546, 1483067977.4693468, 1400449889.892366, 1306601429.7751622, 1265379480.4209607, 1191656941.3570268, 1156324662.6761339, 1114299811.5887597, 1067129265.2241528, 1007128251.3336804, 966015297.6944139, 921800899.1342736, 901762829.3856338, 876828075.0420979, 847503639.6679804, 830839780.7020626, 798059365.1603899, 791723158.6891322, 721297569.7979159, 698322207.6846948, 671007699.0112892, 641011232.8167658, 632059196.108287, 600862222.2112212, 592475449.6840172, 589146896.5370163]\n",
      "have done 37 rounds, current sse is [3742986473.2936273, 3234417042.1679316, 2955216016.857941, 2695873424.789785, 2488313014.3627152, 2293210806.7762027, 2098664065.763022, 2014196960.830707, 1828149792.6682768, 1722006067.421706, 1600438086.725546, 1483067977.4693468, 1400449889.892366, 1306601429.7751622, 1265379480.4209607, 1191656941.3570268, 1156324662.6761339, 1114299811.5887597, 1067129265.2241528, 1007128251.3336804, 966015297.6944139, 921800899.1342736, 901762829.3856338, 876828075.0420979, 847503639.6679804, 830839780.7020626, 798059365.1603899, 791723158.6891322, 721297569.7979159, 698322207.6846948, 671007699.0112892, 641011232.8167658, 632059196.108287, 600862222.2112212, 592475449.6840172, 589146896.5370163, 579997304.7643663]\n",
      "have done 38 rounds, current sse is [3742986473.2936273, 3234417042.1679316, 2955216016.857941, 2695873424.789785, 2488313014.3627152, 2293210806.7762027, 2098664065.763022, 2014196960.830707, 1828149792.6682768, 1722006067.421706, 1600438086.725546, 1483067977.4693468, 1400449889.892366, 1306601429.7751622, 1265379480.4209607, 1191656941.3570268, 1156324662.6761339, 1114299811.5887597, 1067129265.2241528, 1007128251.3336804, 966015297.6944139, 921800899.1342736, 901762829.3856338, 876828075.0420979, 847503639.6679804, 830839780.7020626, 798059365.1603899, 791723158.6891322, 721297569.7979159, 698322207.6846948, 671007699.0112892, 641011232.8167658, 632059196.108287, 600862222.2112212, 592475449.6840172, 589146896.5370163, 579997304.7643663, 553348771.239167]\n",
      "have done 39 rounds, current sse is [3742986473.2936273, 3234417042.1679316, 2955216016.857941, 2695873424.789785, 2488313014.3627152, 2293210806.7762027, 2098664065.763022, 2014196960.830707, 1828149792.6682768, 1722006067.421706, 1600438086.725546, 1483067977.4693468, 1400449889.892366, 1306601429.7751622, 1265379480.4209607, 1191656941.3570268, 1156324662.6761339, 1114299811.5887597, 1067129265.2241528, 1007128251.3336804, 966015297.6944139, 921800899.1342736, 901762829.3856338, 876828075.0420979, 847503639.6679804, 830839780.7020626, 798059365.1603899, 791723158.6891322, 721297569.7979159, 698322207.6846948, 671007699.0112892, 641011232.8167658, 632059196.108287, 600862222.2112212, 592475449.6840172, 589146896.5370163, 579997304.7643663, 553348771.239167, 542442264.5087211]\n",
      "have done 40 rounds, current sse is [3742986473.2936273, 3234417042.1679316, 2955216016.857941, 2695873424.789785, 2488313014.3627152, 2293210806.7762027, 2098664065.763022, 2014196960.830707, 1828149792.6682768, 1722006067.421706, 1600438086.725546, 1483067977.4693468, 1400449889.892366, 1306601429.7751622, 1265379480.4209607, 1191656941.3570268, 1156324662.6761339, 1114299811.5887597, 1067129265.2241528, 1007128251.3336804, 966015297.6944139, 921800899.1342736, 901762829.3856338, 876828075.0420979, 847503639.6679804, 830839780.7020626, 798059365.1603899, 791723158.6891322, 721297569.7979159, 698322207.6846948, 671007699.0112892, 641011232.8167658, 632059196.108287, 600862222.2112212, 592475449.6840172, 589146896.5370163, 579997304.7643663, 553348771.239167, 542442264.5087211, 527675380.0196649]\n"
     ]
    }
   ],
   "source": [
    "for k in range(20,41):\n",
    "    kmeans = KMeans(n_clusters = k, **kmeans_kwargs)\n",
    "    kmeans.fit(ns_repr)\n",
    "    sse.append(kmeans.inertia_)\n",
    "    print(f\"have done {k} rounds, current sse is {sse}\")"
   ]
  },
  {
   "cell_type": "code",
   "execution_count": 283,
   "metadata": {
    "scrolled": true
   },
   "outputs": [
    {
     "data": {
      "text/plain": [
       "[<matplotlib.lines.Line2D at 0x1dc1c2cf4c0>]"
      ]
     },
     "execution_count": 283,
     "metadata": {},
     "output_type": "execute_result"
    },
    {
     "data": {
      "image/png": "[encoded data removed]",
      "text/plain": [
       "<Figure size 432x288 with 1 Axes>"
      ]
     },
     "metadata": {},
     "output_type": "display_data"
    }
   ],
   "source": [
    "plt.plot(range(1,41),sse,\"go-\")"
   ]
  },
  {
   "cell_type": "code",
   "execution_count": 284,
   "metadata": {},
   "outputs": [],
   "source": [
    "kl = KneeLocator(range(1,41), sse, curve=\"convex\", direction=\"decreasing\")"
   ]
  },
  {
   "cell_type": "code",
   "execution_count": 285,
   "metadata": {},
   "outputs": [
    {
     "data": {
      "text/plain": [
       "14"
      ]
     },
     "execution_count": 285,
     "metadata": {},
     "output_type": "execute_result"
    }
   ],
   "source": [
    "kl.elbow"
   ]
  },
  {
   "cell_type": "markdown",
   "metadata": {},
   "source": [
    "**Using Silhouette Coefficient**"
   ]
  },
  {
   "cell_type": "code",
   "execution_count": 287,
   "metadata": {
    "scrolled": true
   },
   "outputs": [
    {
     "name": "stdout",
     "output_type": "stream",
     "text": [
      "step 2\n",
      "step 3\n",
      "step 4\n",
      "step 5\n",
      "step 6\n",
      "step 7\n",
      "step 8\n",
      "step 9\n",
      "step 10\n",
      "step 11\n",
      "step 12\n",
      "step 13\n",
      "step 14\n",
      "step 15\n",
      "step 16\n",
      "step 17\n",
      "step 18\n",
      "step 19\n",
      "step 20\n",
      "step 21\n",
      "step 22\n",
      "step 23\n",
      "step 24\n",
      "step 25\n",
      "step 26\n",
      "step 27\n",
      "step 28\n",
      "step 29\n",
      "step 30\n",
      "step 31\n",
      "step 32\n",
      "step 33\n",
      "step 34\n",
      "step 35\n",
      "step 36\n",
      "step 37\n",
      "step 38\n",
      "step 39\n",
      "step 40\n",
      "step 41\n",
      "step 42\n",
      "step 43\n",
      "step 44\n",
      "step 45\n",
      "step 46\n",
      "step 47\n",
      "step 48\n",
      "step 49\n"
     ]
    }
   ],
   "source": [
    "sc = []\n",
    "new_sse = []\n",
    "for k in range(2,50):\n",
    "    kmeans = KMeans(n_clusters = k, **kmeans_kwargs)\n",
    "    kmeans.fit(ns_repr)\n",
    "    score = silhouette_score(ns_repr, kmeans.labels_)\n",
    "    sc.append(score)\n",
    "    new_sse.append(kmeans.inertia_)\n",
    "    print(\"step {}\".format(k))"
   ]
  },
  {
   "cell_type": "code",
   "execution_count": 289,
   "metadata": {
    "scrolled": true
   },
   "outputs": [
    {
     "data": {
      "text/plain": [
       "[<matplotlib.lines.Line2D at 0x1dc1c5f76d0>]"
      ]
     },
     "execution_count": 289,
     "metadata": {},
     "output_type": "execute_result"
    },
    {
     "data": {
      "image/png": "[encoded data removed]",
      "text/plain": [
       "<Figure size 432x288 with 1 Axes>"
      ]
     },
     "metadata": {},
     "output_type": "display_data"
    }
   ],
   "source": [
    "# for sse\n",
    "plt.plot(range(2,50), new_sse, \"go-\")"
   ]
  },
  {
   "cell_type": "code",
   "execution_count": 291,
   "metadata": {
    "scrolled": true
   },
   "outputs": [
    {
     "data": {
      "text/plain": [
       "20"
      ]
     },
     "execution_count": 291,
     "metadata": {},
     "output_type": "execute_result"
    }
   ],
   "source": [
    "kl_new = KneeLocator(range(2,50), new_sse, curve=\"convex\", direction=\"decreasing\")\n",
    "kl_new.elbow"
   ]
  },
  {
   "cell_type": "code",
   "execution_count": 292,
   "metadata": {
    "scrolled": true
   },
   "outputs": [
    {
     "data": {
      "text/plain": [
       "[<matplotlib.lines.Line2D at 0x1dc1c78bf10>]"
      ]
     },
     "execution_count": 292,
     "metadata": {},
     "output_type": "execute_result"
    },
    {
     "data": {
      "image/png": "[encoded data removed]",
      "text/plain": [
       "<Figure size 432x288 with 1 Axes>"
      ]
     },
     "metadata": {},
     "output_type": "display_data"
    }
   ],
   "source": [
    "# for silhouette coefficient\n",
    "plt.plot(range(2,50), sc, \"bo-\")"
   ]
  },
  {
   "cell_type": "code",
   "execution_count": 294,
   "metadata": {
    "scrolled": true
   },
   "outputs": [
    {
     "data": {
      "text/plain": [
       "[<matplotlib.lines.Line2D at 0x1dc1c9409d0>]"
      ]
     },
     "execution_count": 294,
     "metadata": {},
     "output_type": "execute_result"
    },
    {
     "data": {
      "image/png": "[encoded data removed]",
      "text/plain": [
       "<Figure size 432x288 with 1 Axes>"
      ]
     },
     "metadata": {},
     "output_type": "display_data"
    }
   ],
   "source": [
    "\n",
    "\n",
    "spl = make_interp_spline(range(2,50), sc, k=3)  # type: BSpline\n",
    "\n",
    "xs = np.linspace(2, 50, 6)\n",
    "ys = spl(xs)\n",
    "\n",
    "plt.plot(range(2,50), sc, \"go--\")\n",
    "plt.plot(xs, ys, \"b-\")"
   ]
  },
  {
   "cell_type": "markdown",
   "metadata": {},
   "source": [
    "Let's choose k = 10"
   ]
  },
  {
   "cell_type": "code",
   "execution_count": 309,
   "metadata": {
    "scrolled": true
   },
   "outputs": [
    {
     "data": {
      "text/plain": [
       "KMeans(max_iter=500, n_init=50, random_state=360)"
      ]
     },
     "execution_count": 309,
     "metadata": {},
     "output_type": "execute_result"
    }
   ],
   "source": [
    "kmeans = KMeans(n_clusters = 8, init=\"k-means++\", n_init = 50, max_iter = 500, random_state = 360)\n",
    "kmeans.fit(ns_repr)"
   ]
  },
  {
   "cell_type": "code",
   "execution_count": 68,
   "metadata": {
    "collapsed": true
   },
   "outputs": [
    {
     "data": {
      "text/plain": [
       "['__class__',\n",
       " '__delattr__',\n",
       " '__dict__',\n",
       " '__dir__',\n",
       " '__doc__',\n",
       " '__eq__',\n",
       " '__format__',\n",
       " '__ge__',\n",
       " '__getattribute__',\n",
       " '__getstate__',\n",
       " '__gt__',\n",
       " '__hash__',\n",
       " '__init__',\n",
       " '__init_subclass__',\n",
       " '__le__',\n",
       " '__lt__',\n",
       " '__module__',\n",
       " '__ne__',\n",
       " '__new__',\n",
       " '__reduce__',\n",
       " '__reduce_ex__',\n",
       " '__repr__',\n",
       " '__setattr__',\n",
       " '__setstate__',\n",
       " '__sizeof__',\n",
       " '__str__',\n",
       " '__subclasshook__',\n",
       " '__weakref__',\n",
       " '_algorithm',\n",
       " '_check_feature_names',\n",
       " '_check_mkl_vcomp',\n",
       " '_check_n_features',\n",
       " '_check_params',\n",
       " '_check_test_data',\n",
       " '_estimator_type',\n",
       " '_get_param_names',\n",
       " '_get_tags',\n",
       " '_init_centroids',\n",
       " '_more_tags',\n",
       " '_n_init',\n",
       " '_n_threads',\n",
       " '_repr_html_',\n",
       " '_repr_html_inner',\n",
       " '_repr_mimebundle_',\n",
       " '_tol',\n",
       " '_transform',\n",
       " '_validate_center_shape',\n",
       " '_validate_data',\n",
       " 'algorithm',\n",
       " 'cluster_centers_',\n",
       " 'copy_x',\n",
       " 'fit',\n",
       " 'fit_predict',\n",
       " 'fit_transform',\n",
       " 'get_params',\n",
       " 'inertia_',\n",
       " 'init',\n",
       " 'labels_',\n",
       " 'max_iter',\n",
       " 'n_clusters',\n",
       " 'n_features_in_',\n",
       " 'n_init',\n",
       " 'n_iter_',\n",
       " 'predict',\n",
       " 'random_state',\n",
       " 'score',\n",
       " 'set_params',\n",
       " 'tol',\n",
       " 'transform',\n",
       " 'verbose']"
      ]
     },
     "execution_count": 68,
     "metadata": {},
     "output_type": "execute_result"
    }
   ],
   "source": [
    "dir(kmeans)"
   ]
  },
  {
   "cell_type": "code",
   "execution_count": 310,
   "metadata": {},
   "outputs": [
    {
     "data": {
      "text/plain": [
       "array([0, 0, 0, ..., 0, 0, 0])"
      ]
     },
     "execution_count": 310,
     "metadata": {},
     "output_type": "execute_result"
    }
   ],
   "source": [
    "kmeans.labels_"
   ]
  },
  {
   "cell_type": "code",
   "execution_count": 311,
   "metadata": {
    "scrolled": true
   },
   "outputs": [
    {
     "data": {
      "text/plain": [
       "{0, 1, 2, 3, 4, 5, 6, 7}"
      ]
     },
     "execution_count": 311,
     "metadata": {},
     "output_type": "execute_result"
    }
   ],
   "source": [
    "set(kmeans.labels_)"
   ]
  },
  {
   "cell_type": "code",
   "execution_count": 312,
   "metadata": {},
   "outputs": [
    {
     "data": {
      "text/plain": [
       "Counter({0: 11739, 1: 20, 4: 103, 3: 82, 2: 177, 7: 37, 6: 13, 5: 1})"
      ]
     },
     "execution_count": 312,
     "metadata": {},
     "output_type": "execute_result"
    }
   ],
   "source": [
    "Counter(kmeans.labels_)"
   ]
  },
  {
   "cell_type": "markdown",
   "metadata": {},
   "source": [
    "**Let's see the `PCA` clusterings using these labelings**"
   ]
  },
  {
   "cell_type": "code",
   "execution_count": 313,
   "metadata": {},
   "outputs": [],
   "source": [
    "pca = PCA(n_components = 2)"
   ]
  },
  {
   "cell_type": "code",
   "execution_count": 314,
   "metadata": {},
   "outputs": [
    {
     "data": {
      "text/plain": [
       "array([[-42.35311673, -33.43137476],\n",
       "       [-42.35311673, -33.43137476],\n",
       "       [240.46705541, -62.42932223],\n",
       "       ...,\n",
       "       [-42.18902975, -31.71037849],\n",
       "       [-34.59642545,   2.08783803],\n",
       "       [-42.35311673, -33.43137476]])"
      ]
     },
     "execution_count": 314,
     "metadata": {},
     "output_type": "execute_result"
    }
   ],
   "source": [
    "pca_2d = pca.fit_transform(ns_repr)\n",
    "pca_2d"
   ]
  },
  {
   "cell_type": "code",
   "execution_count": 316,
   "metadata": {},
   "outputs": [
    {
     "data": {
      "text/plain": [
       "<matplotlib.collections.PathCollection at 0x1dc1cd4b970>"
      ]
     },
     "execution_count": 316,
     "metadata": {},
     "output_type": "execute_result"
    },
    {
     "data": {
      "image/png": "[encoded data removed]",
      "text/plain": [
       "<Figure size 432x288 with 1 Axes>"
      ]
     },
     "metadata": {},
     "output_type": "display_data"
    }
   ],
   "source": [
    "plt.scatter([v[0] for v in pca_2d], [v[1] for v in pca_2d], c = kmeans.labels_)"
   ]
  },
  {
   "cell_type": "markdown",
   "metadata": {},
   "source": [
    "**Let's investigate each cluster**"
   ]
  },
  {
   "cell_type": "code",
   "execution_count": 317,
   "metadata": {},
   "outputs": [
    {
     "data": {
      "text/plain": [
       "12172"
      ]
     },
     "execution_count": 317,
     "metadata": {},
     "output_type": "execute_result"
    }
   ],
   "source": [
    "len(ns_sr_rep)"
   ]
  },
  {
   "cell_type": "code",
   "execution_count": 318,
   "metadata": {},
   "outputs": [
    {
     "data": {
      "text/plain": [
       "12172"
      ]
     },
     "execution_count": 318,
     "metadata": {},
     "output_type": "execute_result"
    }
   ],
   "source": [
    "len(kmeans.labels_)"
   ]
  },
  {
   "cell_type": "code",
   "execution_count": 319,
   "metadata": {},
   "outputs": [],
   "source": [
    "clustered = defaultdict(list)\n",
    "for idx,ns in enumerate(ns_fixed):\n",
    "    c = kmeans.labels_[idx]\n",
    "    clustered[c].append(ns)"
   ]
  },
  {
   "cell_type": "code",
   "execution_count": 320,
   "metadata": {
    "scrolled": false
   },
   "outputs": [
    {
     "name": "stdout",
     "output_type": "stream",
     "text": [
      "[11739, 20, 177, 82, 103, 1, 13, 37, 0, 0]\n"
     ]
    }
   ],
   "source": [
    "print([len(clustered[i]) for i in range(10)])"
   ]
  },
  {
   "cell_type": "markdown",
   "metadata": {},
   "source": [
    "Let's see in terms of percentage"
   ]
  },
  {
   "cell_type": "code",
   "execution_count": 321,
   "metadata": {},
   "outputs": [],
   "source": [
    "cluster_lens = [len(clustered[i]) for i in range(10)]"
   ]
  },
  {
   "cell_type": "code",
   "execution_count": 322,
   "metadata": {},
   "outputs": [
    {
     "name": "stdout",
     "output_type": "stream",
     "text": [
      "[96.44, 0.16, 1.45, 0.67, 0.85, 0.01, 0.11, 0.3, 0.0, 0.0]\n"
     ]
    }
   ],
   "source": [
    "print([round(k*100/sum(cluster_lens),2) for k in cluster_lens])"
   ]
  },
  {
   "cell_type": "markdown",
   "metadata": {},
   "source": [
    " **could do iterative clusters for ^**"
   ]
  },
  {
   "cell_type": "code",
   "execution_count": 325,
   "metadata": {},
   "outputs": [
    {
     "data": {
      "text/plain": [
       "['opb.org',\n",
       " 'actionnewsnow.com',\n",
       " 'okcfox.com',\n",
       " 'wmot.org',\n",
       " 'aviationweek.com',\n",
       " 'vulture.com',\n",
       " 'wtop.com',\n",
       " 'jns.org',\n",
       " 'dutchnews.nl',\n",
       " 'woodworkingnetwork.com',\n",
       " 'wvmetronews.com',\n",
       " 'nbc-2.com',\n",
       " 'nbc12.com',\n",
       " 'fox2detroit.com',\n",
       " 'wvnstv.com',\n",
       " 'thelily.com',\n",
       " 'kbzk.com',\n",
       " 'kktv.com',\n",
       " 'rentonreporter.com',\n",
       " 'montreal.ctvnews.ca',\n",
       " 'nbcchicago.com',\n",
       " 'nwaonline.com',\n",
       " 'theadvocate.com',\n",
       " 'whdh.com',\n",
       " 'expressnews.com',\n",
       " 'fox29.com',\n",
       " 'mlive.com',\n",
       " 'lbc.co.uk',\n",
       " 'uptownmessenger.com',\n",
       " 'nbcsports.com',\n",
       " 'duluthnewstribune.com',\n",
       " 'wfmj.com',\n",
       " 'fox26houston.com',\n",
       " 'abc15.com',\n",
       " 'abc30.com',\n",
       " 'toronto.citynews.ca',\n",
       " 'wqow.com',\n",
       " 'kiro7.com',\n",
       " 'wgem.com',\n",
       " 'prpeak.com',\n",
       " 'denverpost.com',\n",
       " 'kpvi.com',\n",
       " 'fox4news.com',\n",
       " 'desmoinesregister.com',\n",
       " 'metrotimes.com',\n",
       " 'local12.com',\n",
       " 'fox7austin.com',\n",
       " 'tmj4.com',\n",
       " 'theregister.com',\n",
       " 'news4sanantonio.com',\n",
       " 'govexec.com',\n",
       " 'fox11online.com',\n",
       " 'wearemitu.com',\n",
       " 'wsvn.com',\n",
       " 'wafb.com',\n",
       " 'nzherald.co.nz',\n",
       " 'fox21news.com',\n",
       " 'chicagocrusader.com',\n",
       " 'nondoc.com',\n",
       " 'riverfronttimes.com',\n",
       " 'turnto10.com',\n",
       " 'ynetnews.com',\n",
       " 'nbcdfw.com',\n",
       " 'whyy.org',\n",
       " 'cincinnati.com',\n",
       " 'ktvu.com',\n",
       " 'abc13.com',\n",
       " 'clickondetroit.com',\n",
       " 'biopharma-reporter.com',\n",
       " 'kplctv.com',\n",
       " 'cowichanvalleycitizen.com',\n",
       " 'weny.com',\n",
       " 'manchestereveningnews.co.uk',\n",
       " 'ocregister.com',\n",
       " 'travelandleisure.com',\n",
       " 'wjla.com',\n",
       " 'hawaiinewsnow.com',\n",
       " 'postandcourier.com',\n",
       " 'citynews.ca',\n",
       " '972mag.com',\n",
       " 'artnet.com',\n",
       " 'crunchyroll.com',\n",
       " 'cnbctv18.com',\n",
       " 'nj1015.com',\n",
       " 'channel3000.com',\n",
       " 'wdam.com',\n",
       " 'washingtonian.com',\n",
       " 'ozarksfirst.com',\n",
       " 'local21news.com',\n",
       " 'kake.com',\n",
       " 'sfexaminer.com',\n",
       " 'bostonherald.com',\n",
       " 'nbclosangeles.com',\n",
       " 'laist.com',\n",
       " 'pitchfork.com',\n",
       " 'local10.com',\n",
       " 'insidernj.com',\n",
       " 'foxla.com',\n",
       " 'wcti12.com',\n",
       " 'abc11.com',\n",
       " 'ny1.com',\n",
       " 'nfl.com',\n",
       " 'caranddriver.com',\n",
       " 'fox10phoenix.com',\n",
       " 'thetelegraph.com',\n",
       " 'theathletic.com',\n",
       " 'blackhillsfox.com',\n",
       " 'binghamtonhomepage.com',\n",
       " 'appleinsider.com',\n",
       " 'wtoc.com',\n",
       " 'boston.com',\n",
       " 'clickorlando.com',\n",
       " 'msnbc.com',\n",
       " 'cbsaustin.com',\n",
       " 'starnewsonline.com',\n",
       " 'whio.com',\n",
       " 'wlns.com',\n",
       " 'readfrontier.org',\n",
       " 'policemag.com',\n",
       " 'wect.com',\n",
       " 'abc7.com',\n",
       " 'ktiv.com',\n",
       " 'nbc15.com',\n",
       " 'cleveland.com',\n",
       " 'postcrescent.com',\n",
       " 'motor1.com',\n",
       " 'metroweekly.com',\n",
       " 'golfdigest.com',\n",
       " 'abc6onyourside.com',\n",
       " 'cleveland19.com',\n",
       " 'navytimes.com',\n",
       " 'thedenverchannel.com',\n",
       " 'qsrmagazine.com',\n",
       " 'pasadenastarnews.com',\n",
       " 'newschannel5.com',\n",
       " 'nola.com',\n",
       " 'wsoctv.com',\n",
       " 'arklatexhomepage.com',\n",
       " 'kpbs.org',\n",
       " 'astronomy.com',\n",
       " 'chron.com',\n",
       " 'spectrumnews1.com',\n",
       " 'motorbiscuit.com',\n",
       " 'news.com.au',\n",
       " 'click2houston.com',\n",
       " 'sfgate.com',\n",
       " '7news.com.au',\n",
       " 'kjzz.com',\n",
       " 'fxstreet.com',\n",
       " 'wkyt.com',\n",
       " 'news5cleveland.com',\n",
       " 'masslive.com',\n",
       " 'tennessean.com',\n",
       " 'firstcoastnews.com',\n",
       " 'armytimes.com',\n",
       " 'localmemphis.com',\n",
       " 'recordonline.com',\n",
       " 'theday.com',\n",
       " 'wbtv.com',\n",
       " 'independent.ie',\n",
       " 'bakersfield.com',\n",
       " 'cbs7.com',\n",
       " 'nbcwashington.com',\n",
       " 'aclu.org',\n",
       " 'rochesterfirst.com',\n",
       " 'jsonline.com',\n",
       " 'wmfe.org',\n",
       " 'wbrz.com',\n",
       " 'fox5ny.com',\n",
       " 'freep.com',\n",
       " 'ctmirror.org',\n",
       " 'urdupoint.com',\n",
       " 'newschannel9.com',\n",
       " 'katv.com',\n",
       " 'centralmaine.com',\n",
       " 'stripes.com',\n",
       " 'fox5dc.com']"
      ]
     },
     "execution_count": 325,
     "metadata": {},
     "output_type": "execute_result"
    }
   ],
   "source": [
    "clustered[2]"
   ]
  },
  {
   "cell_type": "markdown",
   "metadata": {},
   "source": [
    "## DBSCAN clustering"
   ]
  },
  {
   "cell_type": "code",
   "execution_count": 326,
   "metadata": {},
   "outputs": [],
   "source": [
    "from sklearn.cluster import DBSCAN"
   ]
  },
  {
   "cell_type": "markdown",
   "metadata": {},
   "source": [
    "First try out."
   ]
  },
  {
   "cell_type": "code",
   "execution_count": 327,
   "metadata": {},
   "outputs": [],
   "source": [
    "dbscan = DBSCAN(eps=0.01)"
   ]
  },
  {
   "cell_type": "code",
   "execution_count": 328,
   "metadata": {},
   "outputs": [],
   "source": [
    "ds_clusters = dbscan.fit(ns_repr)"
   ]
  },
  {
   "cell_type": "code",
   "execution_count": 329,
   "metadata": {},
   "outputs": [
    {
     "data": {
      "text/plain": [
       "12172"
      ]
     },
     "execution_count": 329,
     "metadata": {},
     "output_type": "execute_result"
    }
   ],
   "source": [
    "dbs_labels = ds_clusters.labels_\n",
    "len(dbs_labels)"
   ]
  },
  {
   "cell_type": "code",
   "execution_count": 330,
   "metadata": {},
   "outputs": [
    {
     "data": {
      "text/plain": [
       "array([-1,  0,  1,  2,  3,  4,  5,  6,  7,  8,  9, 10, 11, 12, 13, 14, 15,\n",
       "       16, 17, 18, 19, 20, 21, 22, 23, 24, 25, 26, 27, 28, 29, 30, 31, 32,\n",
       "       33, 34, 35, 36, 37], dtype=int64)"
      ]
     },
     "execution_count": 330,
     "metadata": {},
     "output_type": "execute_result"
    }
   ],
   "source": [
    "np.unique(dbs_labels)"
   ]
  },
  {
   "cell_type": "code",
   "execution_count": 331,
   "metadata": {},
   "outputs": [],
   "source": [
    "dbscan_clusters = defaultdict(list)\n",
    "for idx, c in enumerate(list(dbs_labels)):\n",
    "    dbscan_clusters[c].append(ns_fixed[idx])"
   ]
  },
  {
   "cell_type": "code",
   "execution_count": 332,
   "metadata": {},
   "outputs": [
    {
     "name": "stdout",
     "output_type": "stream",
     "text": [
      "number of ns in cluster -1: 6236\n",
      "number of ns in cluster 0: 5206\n",
      "number of ns in cluster 1: 13\n",
      "number of ns in cluster 2: 102\n",
      "number of ns in cluster 3: 22\n",
      "number of ns in cluster 4: 6\n",
      "number of ns in cluster 5: 12\n",
      "number of ns in cluster 6: 192\n",
      "number of ns in cluster 7: 7\n",
      "number of ns in cluster 8: 31\n",
      "number of ns in cluster 9: 53\n",
      "number of ns in cluster 10: 37\n",
      "number of ns in cluster 11: 5\n",
      "number of ns in cluster 12: 20\n",
      "number of ns in cluster 13: 17\n",
      "number of ns in cluster 14: 5\n",
      "number of ns in cluster 15: 26\n",
      "number of ns in cluster 16: 8\n",
      "number of ns in cluster 17: 5\n",
      "number of ns in cluster 18: 5\n",
      "number of ns in cluster 19: 6\n",
      "number of ns in cluster 20: 12\n",
      "number of ns in cluster 21: 8\n",
      "number of ns in cluster 22: 24\n",
      "number of ns in cluster 23: 5\n",
      "number of ns in cluster 24: 13\n",
      "number of ns in cluster 25: 7\n",
      "number of ns in cluster 26: 5\n",
      "number of ns in cluster 27: 6\n",
      "number of ns in cluster 28: 10\n",
      "number of ns in cluster 29: 5\n",
      "number of ns in cluster 30: 5\n",
      "number of ns in cluster 31: 5\n",
      "number of ns in cluster 32: 7\n",
      "number of ns in cluster 33: 25\n",
      "number of ns in cluster 34: 5\n",
      "number of ns in cluster 35: 6\n",
      "number of ns in cluster 36: 5\n",
      "number of ns in cluster 37: 5\n"
     ]
    }
   ],
   "source": [
    "for c in range(-1, 38):\n",
    "    print(\"number of ns in cluster {}: {}\".format(c, len(dbscan_clusters[c])))"
   ]
  },
  {
   "cell_type": "markdown",
   "metadata": {},
   "source": [
    "Let's investigate some of the clusters"
   ]
  },
  {
   "cell_type": "code",
   "execution_count": 342,
   "metadata": {
    "scrolled": true
   },
   "outputs": [
    {
     "data": {
      "text/plain": [
       "['smdailyjournal.com',\n",
       " 'news-gazette.com',\n",
       " 'sakshi.com',\n",
       " 'tortoisemedia.com',\n",
       " 'berlingske.dk',\n",
       " 'eleconomista.com.mx',\n",
       " 'letelegramme.fr',\n",
       " 'odishatv.in',\n",
       " 'moneylife.in',\n",
       " 'thelastamericanvagabond.com',\n",
       " 'hankookilbo.com',\n",
       " 'ekstrabladet.dk',\n",
       " 'todayheadline.co',\n",
       " 'wellnessmama.com',\n",
       " 'ticotimes.net',\n",
       " 'eldiariony.com',\n",
       " 'carehome.co.uk',\n",
       " 'phnompenhpost.com',\n",
       " 'mediafax.ro',\n",
       " 'rcrwireless.com',\n",
       " 'wigantoday.net',\n",
       " 'parismatch.com',\n",
       " 'biznews.com',\n",
       " 'vedomosti.ru',\n",
       " 'iz.ru',\n",
       " 'dailycardinal.com',\n",
       " 'fashionweekdaily.com',\n",
       " 'searchenginewatch.com',\n",
       " 'techinasia.com',\n",
       " 'azernews.az',\n",
       " 'surfacemag.com',\n",
       " 'animalpolitico.com',\n",
       " 'icirnigeria.org',\n",
       " 'salaamgateway.com',\n",
       " 'n-tv.de',\n",
       " 'vavel.com',\n",
       " 'myfitnesspal.com',\n",
       " 'thecitizen.com',\n",
       " '2gb.com',\n",
       " 'dopemagazine.com',\n",
       " 'livehindustan.com',\n",
       " 'niagarathisweek.com',\n",
       " 'lowyat.net',\n",
       " 'kbjr6.com',\n",
       " 'smartinsights.com',\n",
       " 'theglobalist.com',\n",
       " 'atheistrepublic.com',\n",
       " 'dinheirovivo.pt',\n",
       " 'sabah.com.tr',\n",
       " 'lenta.ru',\n",
       " 'goldswitzerland.com',\n",
       " 'mountaineagle.com',\n",
       " 'saurenergy.com']"
      ]
     },
     "execution_count": 342,
     "metadata": {},
     "output_type": "execute_result"
    }
   ],
   "source": [
    "dbscan_clusters[9]"
   ]
  },
  {
   "cell_type": "code",
   "execution_count": 147,
   "metadata": {
    "scrolled": true
   },
   "outputs": [
    {
     "data": {
      "text/plain": [
       "[]"
      ]
     },
     "execution_count": 147,
     "metadata": {},
     "output_type": "execute_result"
    }
   ],
   "source": [
    "dbscan_clusters[1]"
   ]
  },
  {
   "cell_type": "markdown",
   "metadata": {},
   "source": [
    "**Finding optimum `epsilon` for dbscan**\n",
    "\n",
    "References: \n",
    "\n",
    "https://towardsdatascience.com/machine-learning-clustering-dbscan-determine-the-optimal-value-for-epsilon-eps-python-example-3100091cfbc\n",
    "\n",
    "https://iopscience.iop.org/article/10.1088/1755-1315/31/1/012012/pdf"
   ]
  },
  {
   "cell_type": "code",
   "execution_count": 343,
   "metadata": {},
   "outputs": [],
   "source": [
    "from sklearn.neighbors import NearestNeighbors"
   ]
  },
  {
   "cell_type": "code",
   "execution_count": 344,
   "metadata": {},
   "outputs": [],
   "source": [
    "neigh = NearestNeighbors(n_neighbors=2)\n",
    "nbrs = neigh.fit(ns_repr)\n",
    "distances, indices = nbrs.kneighbors(ns_repr)"
   ]
  },
  {
   "cell_type": "code",
   "execution_count": 348,
   "metadata": {},
   "outputs": [
    {
     "data": {
      "text/plain": [
       "(0.0, 0.01)"
      ]
     },
     "execution_count": 348,
     "metadata": {},
     "output_type": "execute_result"
    },
    {
     "data": {
      "image/png": "[encoded data removed]",
      "text/plain": [
       "<Figure size 432x288 with 1 Axes>"
      ]
     },
     "metadata": {},
     "output_type": "display_data"
    }
   ],
   "source": [
    "distances = np.sort(distances, axis=0)\n",
    "# distances = distances[:,1]\n",
    "plt.plot(distances)\n",
    "plt.ylim((0,0.01))"
   ]
  },
  {
   "cell_type": "markdown",
   "metadata": {},
   "source": [
    "I don't think any epsilon makes sense here."
   ]
  },
  {
   "cell_type": "code",
   "execution_count": 1,
   "metadata": {},
   "outputs": [
    {
     "ename": "NameError",
     "evalue": "name 'subreddit_ns_jun' is not defined",
     "output_type": "error",
     "traceback": [
      "\u001b[1;31m---------------------------------------------------------------------------\u001b[0m",
      "\u001b[1;31mNameError\u001b[0m                                 Traceback (most recent call last)",
      "\u001b[1;32m<ipython-input-1-f89dfe5f5bf6>\u001b[0m in \u001b[0;36m<module>\u001b[1;34m\u001b[0m\n\u001b[1;32m----> 1\u001b[1;33m \u001b[0msubreddit_ns_jun\u001b[0m\u001b[1;33m[\u001b[0m\u001b[1;34m\"NoNewNormal\"\u001b[0m\u001b[1;33m]\u001b[0m\u001b[1;33m\u001b[0m\u001b[1;33m\u001b[0m\u001b[0m\n\u001b[0m",
      "\u001b[1;31mNameError\u001b[0m: name 'subreddit_ns_jun' is not defined"
     ]
    }
   ],
   "source": []
  }
 ],
 "metadata": {
  "kernelspec": {
   "display_name": "Python 3",
   "language": "python",
   "name": "python3"
  },
  "language_info": {
   "codemirror_mode": {
    "name": "ipython",
    "version": 3
   },
   "file_extension": ".py",
   "mimetype": "text/x-python",
   "name": "python",
   "nbconvert_exporter": "python",
   "pygments_lexer": "ipython3",
   "version": "3.8.6"
  }
 },
 "nbformat": 4,
 "nbformat_minor": 4
}
