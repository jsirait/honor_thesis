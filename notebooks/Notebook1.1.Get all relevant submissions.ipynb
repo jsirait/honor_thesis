{
 "cells": [
  {
   "cell_type": "markdown",
   "metadata": {},
   "source": [
    "# Get all relevant submissions\n",
    "\n",
    "Author: Junita Sirait\n",
    "\n",
    "I am tired of parsing the whole 6 months of data each time I need additional informations from the JSON files. Here I will master the art of `ndjson` dump and load, so I can just process these files in the future.\n",
    "\n",
    "Table of contents:\n",
    "1. [Reading the original massive files](#sub1)"
   ]
  },
  {
   "cell_type": "code",
   "execution_count": 1,
   "metadata": {
    "scrolled": true
   },
   "outputs": [
    {
     "name": "stdout",
     "output_type": "stream",
     "text": [
      "Collecting ndjson\n",
      "  Downloading ndjson-0.3.1-py2.py3-none-any.whl (5.3 kB)\n",
      "Installing collected packages: ndjson\n",
      "Successfully installed ndjson-0.3.1\n"
     ]
    },
    {
     "name": "stderr",
     "output_type": "stream",
     "text": [
      "WARNING: You are using pip version 21.3.1; however, version 22.0.3 is available.\n",
      "You should consider upgrading via the 'C:\\Users\\User200803\\AppData\\Local\\Programs\\Python\\Python38\\python.exe -m pip install --upgrade pip' command.\n"
     ]
    }
   ],
   "source": [
    "# !pip install ndjson"
   ]
  },
  {
   "cell_type": "code",
   "execution_count": 2,
   "metadata": {},
   "outputs": [],
   "source": [
    "import ndjson\n",
    "\n",
    "import json\n",
    "import pandas as pd\n",
    "import zstandard as zstd\n",
    "import io\n",
    "\n",
    "from collections import defaultdict, Counter\n",
    "from urllib.parse import urlparse\n",
    "import re\n",
    "import datetime, time\n",
    "import tldextract"
   ]
  },
  {
   "cell_type": "markdown",
   "metadata": {},
   "source": [
    "## Reading the original massive files"
   ]
  },
  {
   "cell_type": "code",
   "execution_count": 16,
   "metadata": {},
   "outputs": [],
   "source": [
    "with open(\"D:\\\\Wellesley\\\\F21\\\\thesis\\\\data\\\\gmm_intersection.json\", \"r\") as infile:\n",
    "    gmm_news_sources = json.load(infile)"
   ]
  },
  {
   "cell_type": "code",
   "execution_count": 3,
   "metadata": {},
   "outputs": [],
   "source": [
    "dctx = zstd.ZstdDecompressor(max_window_size=2147483648)"
   ]
  },
  {
   "cell_type": "code",
   "execution_count": 4,
   "metadata": {},
   "outputs": [],
   "source": [
    "def findURLs(phrase):\n",
    "    regex = re.compile('((https?):((//)|(\\\\\\\\))+([\\w\\d:#@%/;$()~_?\\+-=\\\\\\.&](#!)?)*)')\n",
    "    url = re.findall(regex, phrase)     \n",
    "    return [x[0] for x in url]"
   ]
  },
  {
   "cell_type": "code",
   "execution_count": 7,
   "metadata": {},
   "outputs": [],
   "source": [
    "def get_hostname(url, uri_type='both'):\n",
    "    \"\"\"Get the host name from the url\"\"\"\n",
    "    hostnames = set()\n",
    "    extracted = tldextract.extract(url)\n",
    "    subdomain, domain, suffix = extracted\n",
    "    # add both versions of domain.suffix and subdomain.domain.suffix\n",
    "    full = \"\"\n",
    "    # with subdomain\n",
    "    if len(subdomain) > 0 and len(suffix) > 0:\n",
    "        #print(f\"{subdomain}.{domain}.{suffix}\")\n",
    "        full = f\"{subdomain}.{domain}.{suffix}\"\n",
    "        if len(full) > 0:\n",
    "            hostnames.add(full[4:].strip('/')) if full.startswith(\"www.\") else hostnames.add(full.strip('/'))\n",
    "    # without subdomain\n",
    "    full = f\"{domain}.{suffix}\"\n",
    "    if len(full) > 0 and len(suffix) > 0:\n",
    "        hostnames.add(full[4:].strip('/')) if full.startswith(\"www.\") else hostnames.add(full.strip('/'))\n",
    "    return hostnames"
   ]
  },
  {
   "cell_type": "code",
   "execution_count": 5,
   "metadata": {},
   "outputs": [],
   "source": [
    "zst_files = [\"RS_2021-01.zst\", \"RS_2021-02.zst\", \"RS_2021-03.zst\", \"RS_2021-04.zst\", \"RS_2021-05.zst\", \"RS_2021-06.zst\"]\n",
    "zst_filepath = \"E:/thesis_data/\""
   ]
  },
  {
   "cell_type": "code",
   "execution_count": 30,
   "metadata": {
    "scrolled": true
   },
   "outputs": [
    {
     "name": "stdout",
     "output_type": "stream",
     "text": [
      "start time: 2022-02-28 20:38:24.385680\n",
      "***** Start processing for RS_2021-01.zst *****\n",
      "processed 500000; added 16805; \t by 20:39:48\n",
      "processed 1000000; added 31347; \t by 20:41:08\n",
      "processed 1500000; added 46675; \t by 20:42:49\n",
      "processed 2000000; added 59251; \t by 20:44:13\n",
      "processed 2500000; added 74564; \t by 20:45:36\n",
      "processed 3000000; added 88358; \t by 20:46:57\n",
      "processed 3500000; added 106606; \t by 20:48:21\n",
      "processed 4000000; added 123104; \t by 20:49:43\n",
      "processed 4500000; added 141057; \t by 20:51:05\n",
      "processed 5000000; added 158496; \t by 20:52:28\n",
      "processed 5500000; added 177073; \t by 20:53:50\n",
      "processed 6000000; added 197167; \t by 20:55:11\n",
      "processed 6500000; added 217261; \t by 20:56:29\n",
      "processed 7000000; added 238367; \t by 20:57:49\n",
      "processed 7500000; added 258210; \t by 20:59:05\n",
      "processed 8000000; added 279678; \t by 21:00:29\n",
      "processed 8500000; added 298561; \t by 21:01:49\n",
      "processed 9000000; added 315467; \t by 21:03:08\n",
      "processed 9500000; added 330722; \t by 21:04:24\n",
      "processed 10000000; added 347423; \t by 21:05:43\n",
      "processed 10500000; added 364429; \t by 21:07:00\n",
      "processed 11000000; added 385633; \t by 21:08:18\n",
      "processed 11500000; added 404444; \t by 21:09:36\n",
      "processed 12000000; added 426375; \t by 21:10:57\n",
      "processed 12500000; added 446706; \t by 21:12:15\n",
      "processed 13000000; added 467946; \t by 21:13:29\n",
      "processed 13500000; added 487744; \t by 21:14:49\n",
      "processed 14000000; added 508914; \t by 21:16:09\n",
      "processed 14500000; added 527725; \t by 21:17:30\n",
      "processed 15000000; added 547879; \t by 21:18:51\n",
      "processed 15500000; added 565911; \t by 21:20:12\n",
      "processed 16000000; added 582779; \t by 21:21:35\n",
      "processed 16500000; added 597061; \t by 21:22:52\n",
      "processed 17000000; added 613598; \t by 21:24:11\n",
      "processed 17500000; added 628139; \t by 21:25:28\n",
      "processed 18000000; added 647129; \t by 21:26:50\n",
      "processed 18500000; added 663629; \t by 21:28:09\n",
      "processed 19000000; added 683133; \t by 21:29:29\n",
      "processed 19500000; added 702230; \t by 21:30:47\n",
      "processed 20000000; added 722169; \t by 21:32:03\n",
      "processed 20500000; added 740555; \t by 21:33:19\n",
      "processed 21000000; added 759345; \t by 21:34:38\n",
      "processed 21500000; added 778353; \t by 21:35:57\n",
      "processed 22000000; added 796960; \t by 21:37:18\n",
      "processed 22500000; added 815702; \t by 21:38:40\n",
      "processed 23000000; added 832369; \t by 21:40:00\n",
      "processed 23500000; added 847938; \t by 21:41:20\n",
      "processed 24000000; added 863297; \t by 21:42:35\n",
      "processed 24500000; added 878164; \t by 21:43:56\n",
      "processed 25000000; added 895020; \t by 21:45:17\n",
      "processed 25500000; added 912790; \t by 21:46:31\n",
      "processed 26000000; added 929676; \t by 21:47:46\n",
      "processed 26500000; added 948893; \t by 21:49:02\n",
      "processed 27000000; added 965846; \t by 21:50:22\n",
      "processed 27500000; added 984571; \t by 21:51:36\n",
      "processed 28000000; added 1000607; \t by 21:52:54\n",
      "processed 28500000; added 1017237; \t by 21:54:11\n",
      "processed 29000000; added 1032365; \t by 21:55:25\n",
      "processed 29500000; added 1046129; \t by 21:56:40\n",
      "processed 30000000; added 1062801; \t by 21:57:57\n",
      "processed 30500000; added 1076988; \t by 21:59:09\n",
      "processed 31000000; added 1091789; \t by 22:00:25\n",
      "processed 31500000; added 1105389; \t by 22:01:41\n",
      "processed 32000000; added 1118063; \t by 22:02:57\n",
      "processed 32500000; added 1132511; \t by 22:04:15\n",
      "****************************************** Summary ******************************************\n",
      "There are 32704571 total posts in 01, and 1137576 of them have urls to our news sources.\n",
      "----------------------------------------------------------------------------------------\n",
      "-------------------------------- Done processing for RS_2021-01.zst --------------------------------\n",
      "----------------------------------------------------------------------------------------\n",
      "***** Start processing for RS_2021-02.zst *****\n",
      "processed 500000; added 15206; \t by 22:06:02\n",
      "processed 1000000; added 31757; \t by 22:07:19\n",
      "processed 1500000; added 46774; \t by 22:08:32\n",
      "processed 2000000; added 64900; \t by 22:09:42\n",
      "processed 2500000; added 82193; \t by 22:10:52\n",
      "processed 3000000; added 100162; \t by 22:12:05\n",
      "processed 3500000; added 116898; \t by 22:13:16\n",
      "processed 4000000; added 132737; \t by 22:14:27\n",
      "processed 4500000; added 151805; \t by 22:15:40\n",
      "processed 5000000; added 168203; \t by 22:16:50\n",
      "processed 5500000; added 187077; \t by 22:18:03\n",
      "processed 6000000; added 203708; \t by 22:19:19\n"
     ]
    },
    {
     "ename": "KeyboardInterrupt",
     "evalue": "",
     "output_type": "error",
     "traceback": [
      "\u001b[1;31m---------------------------------------------------------------------------\u001b[0m",
      "\u001b[1;31mKeyboardInterrupt\u001b[0m                         Traceback (most recent call last)",
      "\u001b[1;32m<ipython-input-30-c07171741eaf>\u001b[0m in \u001b[0;36m<module>\u001b[1;34m\u001b[0m\n\u001b[0;32m     12\u001b[0m             \u001b[1;32mwith\u001b[0m \u001b[0mdctx\u001b[0m\u001b[1;33m.\u001b[0m\u001b[0mstream_reader\u001b[0m\u001b[1;33m(\u001b[0m\u001b[0mifh\u001b[0m\u001b[1;33m,\u001b[0m \u001b[0mread_size\u001b[0m\u001b[1;33m=\u001b[0m\u001b[1;36m2\u001b[0m\u001b[1;33m)\u001b[0m \u001b[1;32mas\u001b[0m \u001b[0mreader\u001b[0m\u001b[1;33m:\u001b[0m\u001b[1;33m\u001b[0m\u001b[1;33m\u001b[0m\u001b[0m\n\u001b[0;32m     13\u001b[0m                 \u001b[0mtext_stream\u001b[0m \u001b[1;33m=\u001b[0m \u001b[0mio\u001b[0m\u001b[1;33m.\u001b[0m\u001b[0mTextIOWrapper\u001b[0m\u001b[1;33m(\u001b[0m\u001b[0mreader\u001b[0m\u001b[1;33m,\u001b[0m \u001b[0mencoding\u001b[0m\u001b[1;33m=\u001b[0m\u001b[1;34m'utf-8'\u001b[0m\u001b[1;33m)\u001b[0m\u001b[1;33m\u001b[0m\u001b[1;33m\u001b[0m\u001b[0m\n\u001b[1;32m---> 14\u001b[1;33m                 \u001b[1;32mfor\u001b[0m \u001b[0md\u001b[0m \u001b[1;32min\u001b[0m \u001b[0mtext_stream\u001b[0m\u001b[1;33m:\u001b[0m\u001b[1;33m\u001b[0m\u001b[1;33m\u001b[0m\u001b[0m\n\u001b[0m\u001b[0;32m     15\u001b[0m                     \u001b[0mline\u001b[0m \u001b[1;33m=\u001b[0m \u001b[0mjson\u001b[0m\u001b[1;33m.\u001b[0m\u001b[0mloads\u001b[0m\u001b[1;33m(\u001b[0m\u001b[0md\u001b[0m\u001b[1;33m)\u001b[0m\u001b[1;33m\u001b[0m\u001b[1;33m\u001b[0m\u001b[0m\n\u001b[0;32m     16\u001b[0m                     \u001b[0mURLs\u001b[0m \u001b[1;33m=\u001b[0m \u001b[0mfindURLs\u001b[0m\u001b[1;33m(\u001b[0m\u001b[0mline\u001b[0m\u001b[1;33m[\u001b[0m\u001b[1;34m'url'\u001b[0m\u001b[1;33m]\u001b[0m\u001b[1;33m)\u001b[0m \u001b[1;33m+\u001b[0m \u001b[0mfindURLs\u001b[0m\u001b[1;33m(\u001b[0m\u001b[0mline\u001b[0m\u001b[1;33m[\u001b[0m\u001b[1;34m'selftext'\u001b[0m\u001b[1;33m]\u001b[0m\u001b[1;33m)\u001b[0m\u001b[1;33m\u001b[0m\u001b[1;33m\u001b[0m\u001b[0m\n",
      "\u001b[1;32mc:\\users\\user200803\\appdata\\local\\programs\\python\\python38\\lib\\codecs.py\u001b[0m in \u001b[0;36mdecode\u001b[1;34m(self, input, final)\u001b[0m\n\u001b[0;32m    317\u001b[0m         \u001b[1;32mraise\u001b[0m \u001b[0mNotImplementedError\u001b[0m\u001b[1;33m\u001b[0m\u001b[1;33m\u001b[0m\u001b[0m\n\u001b[0;32m    318\u001b[0m \u001b[1;33m\u001b[0m\u001b[0m\n\u001b[1;32m--> 319\u001b[1;33m     \u001b[1;32mdef\u001b[0m \u001b[0mdecode\u001b[0m\u001b[1;33m(\u001b[0m\u001b[0mself\u001b[0m\u001b[1;33m,\u001b[0m \u001b[0minput\u001b[0m\u001b[1;33m,\u001b[0m \u001b[0mfinal\u001b[0m\u001b[1;33m=\u001b[0m\u001b[1;32mFalse\u001b[0m\u001b[1;33m)\u001b[0m\u001b[1;33m:\u001b[0m\u001b[1;33m\u001b[0m\u001b[1;33m\u001b[0m\u001b[0m\n\u001b[0m\u001b[0;32m    320\u001b[0m         \u001b[1;31m# decode input (taking the buffer into account)\u001b[0m\u001b[1;33m\u001b[0m\u001b[1;33m\u001b[0m\u001b[1;33m\u001b[0m\u001b[0m\n\u001b[0;32m    321\u001b[0m         \u001b[0mdata\u001b[0m \u001b[1;33m=\u001b[0m \u001b[0mself\u001b[0m\u001b[1;33m.\u001b[0m\u001b[0mbuffer\u001b[0m \u001b[1;33m+\u001b[0m \u001b[0minput\u001b[0m\u001b[1;33m\u001b[0m\u001b[1;33m\u001b[0m\u001b[0m\n",
      "\u001b[1;31mKeyboardInterrupt\u001b[0m: "
     ]
    }
   ],
   "source": [
    "print(\"start time:\", datetime.datetime.now())\n",
    "\n",
    "\n",
    "for zst_file in zst_files:\n",
    "    counter = 0\n",
    "    added = 0\n",
    "    month = zst_file[8:10]\n",
    "    with open (\"E:/relevant_posts_{}.ndjson\".format(month), \"a\", encoding=\"utf-8\") as ndjfile:\n",
    "        writer = ndjson.writer(ndjfile, ensure_ascii=False)\n",
    "        print(\"***** Start processing for {} *****\".format(zst_file))\n",
    "        with open(zst_filepath+zst_file, 'rb') as ifh:\n",
    "            with dctx.stream_reader(ifh, read_size=2) as reader:\n",
    "                text_stream = io.TextIOWrapper(reader, encoding='utf-8')\n",
    "                for d in text_stream:\n",
    "                    line = json.loads(d)\n",
    "                    URLs = findURLs(line['url']) + findURLs(line['selftext'])                \n",
    "                    hostnames = [get_hostname(url) for url in URLs]\n",
    "                    URLs = [element for sub in hostnames for element in sub]\n",
    "                    # print(URLs)\n",
    "                    for url in URLs:\n",
    "                        if url in gmm_news_sources:\n",
    "                            writer.writerow(line)\n",
    "                            added += 1\n",
    "                            break # write this post only once\n",
    "                    url_of_our_ns = False\n",
    "                    counter += 1\n",
    "                    if counter%500000 == 0: \n",
    "                        print(\"processed {}; added {}; \\t by {}\".format(counter, added, str(datetime.datetime.now())[11:19]))\n",
    "        \n",
    "        print(\"****************************************** Summary ******************************************\")\n",
    "        print(f\"There are {counter} total posts in {month}, and {added} of them have urls to our news sources.\")\n",
    "        \n",
    "        print(\"----------------------------------------------------------------------------------------\")\n",
    "        print(\"-------------------------------- Done processing for {} --------------------------------\".format(zst_file))\n",
    "        print(\"----------------------------------------------------------------------------------------\")\n",
    "                \n",
    "print(\"finish time:\", datetime.datetime.now())"
   ]
  },
  {
   "cell_type": "code",
   "execution_count": 31,
   "metadata": {},
   "outputs": [
    {
     "data": {
      "text/plain": [
       "0.03478339465146936"
      ]
     },
     "execution_count": 31,
     "metadata": {},
     "output_type": "execute_result"
    }
   ],
   "source": [
    "1137576/32704571"
   ]
  },
  {
   "cell_type": "code",
   "execution_count": 26,
   "metadata": {},
   "outputs": [
    {
     "data": {
      "text/plain": [
       "True"
      ]
     },
     "execution_count": 26,
     "metadata": {},
     "output_type": "execute_result"
    }
   ],
   "source": [
    "\"wikipedia.org\" in gmm_news_sources"
   ]
  },
  {
   "cell_type": "code",
   "execution_count": 18,
   "metadata": {},
   "outputs": [
    {
     "data": {
      "text/plain": [
       "235400"
      ]
     },
     "execution_count": 18,
     "metadata": {},
     "output_type": "execute_result"
    }
   ],
   "source": [
    "counter"
   ]
  },
  {
   "cell_type": "code",
   "execution_count": null,
   "metadata": {},
   "outputs": [],
   "source": []
  }
 ],
 "metadata": {
  "kernelspec": {
   "display_name": "Python 3",
   "language": "python",
   "name": "python3"
  },
  "language_info": {
   "codemirror_mode": {
    "name": "ipython",
    "version": 3
   },
   "file_extension": ".py",
   "mimetype": "text/x-python",
   "name": "python",
   "nbconvert_exporter": "python",
   "pygments_lexer": "ipython3",
   "version": "3.8.6"
  }
 },
 "nbformat": 4,
 "nbformat_minor": 4
}
