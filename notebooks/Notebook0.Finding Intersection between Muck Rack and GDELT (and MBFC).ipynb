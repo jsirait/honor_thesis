{
 "cells": [
  {
   "cell_type": "markdown",
   "metadata": {},
   "source": [
    "# Finding Intersection between Muck Rack and GDELT\n",
    "\n",
    "\"What counts as a news source?\" is an important question. Muck Rack and GDELT have their own definition of what can be considered as a news source. An intersection between a set of manually curated news source selection from Muck Rack, and a set of news sources recognized by the global database GDELT will provide us with news sources that are recognized by at least two institutions."
   ]
  },
  {
   "cell_type": "markdown",
   "metadata": {},
   "source": [
    "Table of content\n",
    "\n",
    "1. [Read news sources from GDELT](#sec1)\n",
    "    * [Does GDELT have domains and subdomains OR just domains?](#sec1a) Gdelt has subdomains!\n",
    "    \n",
    "2. [Read news sources from Muck Rack](#sec2)\n",
    "    * [New Muck Rack](#sec2a)\n",
    "    * [Old Muck Rack](#sec2b)\n",
    "    * [Union between old and new Muck Rack](#sec2c)\n",
    "\n",
    "3. [Intersection between Muck Rack and GDELT](#sec3)\n",
    "4. [Intersection between Muck Rack, GDELT, and MBFC](#sec4)"
   ]
  },
  {
   "cell_type": "code",
   "execution_count": 1,
   "metadata": {},
   "outputs": [],
   "source": [
    "import json\n",
    "import csv\n",
    "\n",
    "from collections import defaultdict, Counter\n",
    "\n",
    "import tldextract"
   ]
  },
  {
   "cell_type": "markdown",
   "metadata": {},
   "source": [
    "<a id=\"sec1\"></a>\n",
    "## Read news sources from GDELT"
   ]
  },
  {
   "cell_type": "code",
   "execution_count": 2,
   "metadata": {},
   "outputs": [],
   "source": [
    "years = [2016, 2017, 2018, 2019, 2020, 2021]"
   ]
  },
  {
   "cell_type": "code",
   "execution_count": 3,
   "metadata": {},
   "outputs": [],
   "source": [
    "gdelt_ns = set()\n",
    "\n",
    "for year in years:\n",
    "    with open (f\"D:\\\\Wellesley\\\\F21\\\\thesis\\\\data\\\\gdelt\\\\gdelt_{year}.csv\", \"r\", encoding=\"utf-8\") as gi:\n",
    "        reader = csv.DictReader(gi)\n",
    "        for row in reader:\n",
    "            gdelt_ns.add(row['SourceCommonName'])"
   ]
  },
  {
   "cell_type": "code",
   "execution_count": 4,
   "metadata": {},
   "outputs": [
    {
     "data": {
      "text/plain": [
       "205998"
      ]
     },
     "execution_count": 4,
     "metadata": {},
     "output_type": "execute_result"
    }
   ],
   "source": [
    "gdelt_ns = list(gdelt_ns)\n",
    "len(gdelt_ns)"
   ]
  },
  {
   "cell_type": "code",
   "execution_count": 5,
   "metadata": {},
   "outputs": [
    {
     "data": {
      "text/plain": [
       "['',\n",
       " 'beststoreonthenet.com',\n",
       " 'iflcars.co.uk',\n",
       " 'addapinch.com',\n",
       " 'future-business-consulting.com',\n",
       " 'melted.design',\n",
       " 'artemzin.com',\n",
       " 'forbes.com',\n",
       " 'robertlaird.com',\n",
       " 'kakijalans.com']"
      ]
     },
     "execution_count": 5,
     "metadata": {},
     "output_type": "execute_result"
    }
   ],
   "source": [
    "gdelt_ns[:10]"
   ]
  },
  {
   "cell_type": "markdown",
   "metadata": {},
   "source": [
    "<a id=\"sec1a\"></a>\n",
    "### Does GDELT have domains and subdomains OR just domains? YES, with subdomains!"
   ]
  },
  {
   "cell_type": "code",
   "execution_count": 6,
   "metadata": {},
   "outputs": [
    {
     "name": "stdout",
     "output_type": "stream",
     "text": [
      "there are 15441 news sources with subdomains.\n"
     ]
    }
   ],
   "source": [
    "with_subdomains = []\n",
    "\n",
    "for gn in gdelt_ns:\n",
    "    extracted = tldextract.extract(gn)\n",
    "    subdomain, domain, suffix = extracted\n",
    "    if subdomain:\n",
    "        with_subdomains.append(gn)\n",
    "        \n",
    "print(f\"there are {len(with_subdomains)} news sources with subdomains.\")"
   ]
  },
  {
   "cell_type": "markdown",
   "metadata": {},
   "source": [
    "### Strip www. from gdelt news sources"
   ]
  },
  {
   "cell_type": "code",
   "execution_count": 7,
   "metadata": {},
   "outputs": [],
   "source": [
    "gdelt_ns = list(set([k.replace(\"www.\",\"\") for k in gdelt_ns]))"
   ]
  },
  {
   "cell_type": "code",
   "execution_count": 8,
   "metadata": {},
   "outputs": [
    {
     "data": {
      "text/plain": [
       "205994"
      ]
     },
     "execution_count": 8,
     "metadata": {},
     "output_type": "execute_result"
    }
   ],
   "source": [
    "len(gdelt_ns)"
   ]
  },
  {
   "cell_type": "markdown",
   "metadata": {},
   "source": [
    "<a id=\"sec2\"></a>\n",
    "## Read news sources from Muck Rack"
   ]
  },
  {
   "cell_type": "markdown",
   "metadata": {},
   "source": [
    "<a id=\"sec2a\"></a>\n",
    "### First, new Muck Rack\n",
    "\n",
    "(scraped in January 2022)"
   ]
  },
  {
   "cell_type": "code",
   "execution_count": 9,
   "metadata": {},
   "outputs": [],
   "source": [
    "with open(\"D:\\\\Wellesley\\\\F21\\\\thesis\\\\data\\\\muckrack\\\\all_new_muckrack.json\", \"r\", encoding=\"utf-8\") as mrinfile:\n",
    "    new_muckrack = json.load(mrinfile)"
   ]
  },
  {
   "cell_type": "code",
   "execution_count": 10,
   "metadata": {},
   "outputs": [
    {
     "data": {
      "text/plain": [
       "['http://absolutelynot.libsyn.com/website',\n",
       " 'https://ShaunSaunders.podbean.com',\n",
       " 'https://www.ivoox.com/podcast-la-encarnacion-divina_sq_f1366021_1.html',\n",
       " 'https://anchor.fm/wisconsinprod',\n",
       " 'https://redstonearchender.wordpress.com',\n",
       " 'https://soundcloud.com/manqeezus',\n",
       " 'https://anchor.fm/tayland-garrison6',\n",
       " 'www.ieshivaanoji.com',\n",
       " 'https://anchor.fm/en-notes',\n",
       " 'https://anchor.fm/shotaro-miyahara']"
      ]
     },
     "execution_count": 10,
     "metadata": {},
     "output_type": "execute_result"
    }
   ],
   "source": [
    "new_muckrack_ns = list(new_muckrack.keys())\n",
    "new_muckrack_ns[:10]"
   ]
  },
  {
   "cell_type": "code",
   "execution_count": 11,
   "metadata": {},
   "outputs": [
    {
     "data": {
      "text/plain": [
       "594687"
      ]
     },
     "execution_count": 11,
     "metadata": {},
     "output_type": "execute_result"
    }
   ],
   "source": [
    "len(set(new_muckrack_ns))"
   ]
  },
  {
   "cell_type": "markdown",
   "metadata": {},
   "source": [
    "#### Let's clean it"
   ]
  },
  {
   "cell_type": "code",
   "execution_count": 12,
   "metadata": {},
   "outputs": [
    {
     "data": {
      "text/plain": [
       "450591"
      ]
     },
     "execution_count": 12,
     "metadata": {},
     "output_type": "execute_result"
    }
   ],
   "source": [
    "clean_new_muckrack = set()\n",
    "\n",
    "for nsm in new_muckrack_ns:\n",
    "    extracted = tldextract.extract(nsm)\n",
    "    subdomain, domain, suffix = extracted\n",
    "    # add both versions of domain.suffix and subdomain.domain.suffix\n",
    "    full = \"\"\n",
    "    # with subdomain\n",
    "    if len(subdomain) > 0:\n",
    "        #print(f\"{subdomain}.{domain}.{suffix}\")\n",
    "        full = f\"{subdomain}.{domain}.{suffix}\"\n",
    "        if len(full) > 0:\n",
    "            clean_new_muckrack.add(full.replace(\"www.\",\"\").strip('/'))\n",
    "    # without subdomain\n",
    "    full = f\"{domain}.{suffix}\"\n",
    "    if len(full) > 0:\n",
    "        clean_new_muckrack.add(full.replace(\"www.\",\"\").strip('/'))\n",
    "len(clean_new_muckrack)"
   ]
  },
  {
   "cell_type": "code",
   "execution_count": 13,
   "metadata": {
    "scrolled": true
   },
   "outputs": [
    {
     "data": {
      "text/plain": [
       "['',\n",
       " 'gercekgazetesi.net',\n",
       " 'threedaysofglory.com',\n",
       " 'mylifestyleacademy.com',\n",
       " 'blancmange.tmstor.es',\n",
       " 'commercetomorrow.com',\n",
       " 'whatisblackpodcast.com',\n",
       " 'prestigepraguetours.com',\n",
       " 'elmerday.co.uk',\n",
       " 'donate.unicef.ph']"
      ]
     },
     "execution_count": 13,
     "metadata": {},
     "output_type": "execute_result"
    }
   ],
   "source": [
    "list(clean_new_muckrack)[:10]"
   ]
  },
  {
   "cell_type": "markdown",
   "metadata": {},
   "source": [
    "<a id=\"sec2b\"></a>\n",
    "\n",
    "### Old Muck Rack"
   ]
  },
  {
   "cell_type": "code",
   "execution_count": 14,
   "metadata": {},
   "outputs": [],
   "source": [
    "with open(\"D:\\\\Wellesley\\\\F21\\\\thesis\\\\data\\\\muckrack\\\\all_old_muckrack.json\", \"r\", encoding=\"utf-8\") as mrinfile1:\n",
    "    old_muckrack = json.load(mrinfile1)"
   ]
  },
  {
   "cell_type": "code",
   "execution_count": 15,
   "metadata": {
    "scrolled": true
   },
   "outputs": [
    {
     "data": {
      "text/plain": [
       "['http://theunionstar.com',\n",
       " 'http://uniontimes.org',\n",
       " 'http://unionrecorder.com',\n",
       " 'http://unionandtimes.com',\n",
       " 'http://unionvillerepublicanonline.com',\n",
       " 'http://blog.uniquehomes.com',\n",
       " 'http://uniservity.com',\n",
       " 'http://uniteseattlemag.com',\n",
       " 'http://unite.ai',\n",
       " 'http://unitedbypop.com']"
      ]
     },
     "execution_count": 15,
     "metadata": {},
     "output_type": "execute_result"
    }
   ],
   "source": [
    "old_muckrack_ns = list(old_muckrack.keys())\n",
    "old_muckrack_ns[:10]"
   ]
  },
  {
   "cell_type": "markdown",
   "metadata": {},
   "source": [
    "#### Let's clean it"
   ]
  },
  {
   "cell_type": "code",
   "execution_count": 16,
   "metadata": {},
   "outputs": [
    {
     "data": {
      "text/plain": [
       "77878"
      ]
     },
     "execution_count": 16,
     "metadata": {},
     "output_type": "execute_result"
    }
   ],
   "source": [
    "len(set(old_muckrack_ns))"
   ]
  },
  {
   "cell_type": "code",
   "execution_count": 17,
   "metadata": {},
   "outputs": [
    {
     "data": {
      "text/plain": [
       "67782"
      ]
     },
     "execution_count": 17,
     "metadata": {},
     "output_type": "execute_result"
    }
   ],
   "source": [
    "clean_old_muckrack = set()\n",
    "\n",
    "for lsm in old_muckrack_ns:\n",
    "    extracted = tldextract.extract(lsm)\n",
    "    subdomain, domain, suffix = extracted\n",
    "    # add both versions of domain.suffix and subdomain.domain.suffix\n",
    "    full = \"\"\n",
    "    # with subdomain\n",
    "    if len(subdomain) > 0:\n",
    "        #print(f\"{subdomain}.{domain}.{suffix}\")\n",
    "        full = f\"{subdomain}.{domain}.{suffix}\"\n",
    "        if len(full) > 0:\n",
    "            clean_old_muckrack.add(full.replace(\"www.\",\"\").strip('/'))\n",
    "    # without subdomain\n",
    "    full = f\"{domain}.{suffix}\"\n",
    "    if len(full) > 0:\n",
    "        clean_old_muckrack.add(full.replace(\"www.\",\"\").strip('/'))\n",
    "len(clean_old_muckrack)"
   ]
  },
  {
   "cell_type": "code",
   "execution_count": 18,
   "metadata": {
    "scrolled": true
   },
   "outputs": [
    {
     "data": {
      "text/plain": [
       "['asahi.com',\n",
       " 'subscribe.micromart.co.uk',\n",
       " 'wrpi.org',\n",
       " 'hrtools.com.mx',\n",
       " 'caribbeancricket.com',\n",
       " 'forbes.com',\n",
       " 'artnewengland.com',\n",
       " 'contactmanagement.ca',\n",
       " 'bloomsburyreview.com',\n",
       " 'inlandnwbroadcasting.com']"
      ]
     },
     "execution_count": 18,
     "metadata": {},
     "output_type": "execute_result"
    }
   ],
   "source": [
    "list(clean_old_muckrack)[:10]"
   ]
  },
  {
   "cell_type": "markdown",
   "metadata": {},
   "source": [
    "<a id=\"sec2c\"></a>\n",
    "### Union between Old and New Muck Rack"
   ]
  },
  {
   "cell_type": "code",
   "execution_count": 19,
   "metadata": {},
   "outputs": [
    {
     "data": {
      "text/plain": [
       "60490"
      ]
     },
     "execution_count": 19,
     "metadata": {},
     "output_type": "execute_result"
    }
   ],
   "source": [
    "len(clean_old_muckrack & clean_new_muckrack)"
   ]
  },
  {
   "cell_type": "code",
   "execution_count": 20,
   "metadata": {},
   "outputs": [],
   "source": [
    "import difflib"
   ]
  },
  {
   "cell_type": "code",
   "execution_count": 21,
   "metadata": {},
   "outputs": [
    {
     "data": {
      "text/plain": [
       "['http://995magicfm.com', 'http://989magicfm.com', 'http://magic93fm.com']"
      ]
     },
     "execution_count": 21,
     "metadata": {},
     "output_type": "execute_result"
    }
   ],
   "source": [
    "difflib.get_close_matches('995magicfm.com', list(old_muckrack.keys()))"
   ]
  },
  {
   "cell_type": "code",
   "execution_count": 22,
   "metadata": {},
   "outputs": [
    {
     "data": {
      "text/plain": [
       "['http://989magicfm.com', 'http://magic93fm.com', 'http://magic995fm.com']"
      ]
     },
     "execution_count": 22,
     "metadata": {},
     "output_type": "execute_result"
    }
   ],
   "source": [
    "difflib.get_close_matches('http://995magicfm.com', list(new_muckrack.keys()))"
   ]
  },
  {
   "cell_type": "code",
   "execution_count": 23,
   "metadata": {},
   "outputs": [],
   "source": [
    "muckrack_union = clean_old_muckrack | clean_new_muckrack"
   ]
  },
  {
   "cell_type": "code",
   "execution_count": 24,
   "metadata": {},
   "outputs": [],
   "source": [
    "muckrack_union.remove(\"\")"
   ]
  },
  {
   "cell_type": "code",
   "execution_count": 25,
   "metadata": {},
   "outputs": [
    {
     "data": {
      "text/plain": [
       "457882"
      ]
     },
     "execution_count": 25,
     "metadata": {},
     "output_type": "execute_result"
    }
   ],
   "source": [
    "len(muckrack_union)"
   ]
  },
  {
   "cell_type": "code",
   "execution_count": 26,
   "metadata": {},
   "outputs": [],
   "source": [
    "# with open (\"D:\\\\Wellesley\\\\F21\\\\thesis\\\\data\\\\muckrack\\\\muckrack_union.json\", \"w\", encoding=\"utf-8\") as unionfile:\n",
    "#     json.dump(list(muckrack_union), unionfile, indent=4)"
   ]
  },
  {
   "cell_type": "markdown",
   "metadata": {},
   "source": [
    "<a id=\"sec3\"></a>\n",
    "## Intersection between Muck Rack and GDELT"
   ]
  },
  {
   "cell_type": "code",
   "execution_count": 27,
   "metadata": {},
   "outputs": [
    {
     "data": {
      "text/plain": [
       "42477"
      ]
     },
     "execution_count": 27,
     "metadata": {},
     "output_type": "execute_result"
    }
   ],
   "source": [
    "gm_intersection = set(gdelt_ns) & set(muckrack_union)\n",
    "len(gm_intersection)"
   ]
  },
  {
   "cell_type": "code",
   "execution_count": 28,
   "metadata": {},
   "outputs": [],
   "source": [
    "# with open (\"D:\\\\Wellesley\\\\F21\\\\thesis\\\\data\\\\gm_intersection.json\", \"w\", encoding=\"utf-8\") as outfile:\n",
    "#     json.dump(list(gm_intersection), outfile, indent=4)"
   ]
  },
  {
   "cell_type": "code",
   "execution_count": 31,
   "metadata": {},
   "outputs": [
    {
     "data": {
      "text/plain": [
       "205994"
      ]
     },
     "execution_count": 31,
     "metadata": {},
     "output_type": "execute_result"
    }
   ],
   "source": [
    "len(gdelt_ns)"
   ]
  },
  {
   "cell_type": "code",
   "execution_count": 29,
   "metadata": {},
   "outputs": [
    {
     "data": {
      "text/plain": [
       "163517"
      ]
     },
     "execution_count": 29,
     "metadata": {},
     "output_type": "execute_result"
    }
   ],
   "source": [
    "len(set(gdelt_ns) - gm_intersection)"
   ]
  },
  {
   "cell_type": "code",
   "execution_count": 33,
   "metadata": {},
   "outputs": [
    {
     "data": {
      "text/plain": [
       "0.20620503509810964"
      ]
     },
     "execution_count": 33,
     "metadata": {},
     "output_type": "execute_result"
    }
   ],
   "source": [
    "len(gm_intersection)/len(gdelt_ns)"
   ]
  },
  {
   "cell_type": "code",
   "execution_count": 32,
   "metadata": {},
   "outputs": [
    {
     "data": {
      "text/plain": [
       "457882"
      ]
     },
     "execution_count": 32,
     "metadata": {},
     "output_type": "execute_result"
    }
   ],
   "source": [
    "len(muckrack_union)"
   ]
  },
  {
   "cell_type": "code",
   "execution_count": 30,
   "metadata": {
    "scrolled": true
   },
   "outputs": [
    {
     "data": {
      "text/plain": [
       "415405"
      ]
     },
     "execution_count": 30,
     "metadata": {},
     "output_type": "execute_result"
    }
   ],
   "source": [
    "len(set(muckrack_union) - gm_intersection)"
   ]
  },
  {
   "cell_type": "code",
   "execution_count": 34,
   "metadata": {},
   "outputs": [
    {
     "data": {
      "text/plain": [
       "0.0927684425244932"
      ]
     },
     "execution_count": 34,
     "metadata": {},
     "output_type": "execute_result"
    }
   ],
   "source": [
    "len(gm_intersection)/len(muckrack_union)"
   ]
  },
  {
   "cell_type": "markdown",
   "metadata": {},
   "source": [
    "<a id=\"sec4\"></a>\n",
    "## Intersection with MBFC"
   ]
  },
  {
   "cell_type": "code",
   "execution_count": 74,
   "metadata": {},
   "outputs": [],
   "source": [
    "categories = [\"center\", \"conspiracy\", \"fake-news\", \"left\", \"leftcenter\", \"pro-science\", \"pseudoscience-dictionary\", \"right\", \"right-center\", \"satire\"]"
   ]
  },
  {
   "cell_type": "code",
   "execution_count": 77,
   "metadata": {},
   "outputs": [],
   "source": [
    "mbfc_all = set()\n",
    "mbfc_divided = defaultdict(set)\n",
    "\n",
    "for c in categories:\n",
    "    with open(f\"D:\\\\Wellesley\\\\F21\\\\thesis\\\\data\\\\mbfc\\\\mbfc_{c}.json\", \"r\", encoding=\"utf-8\") as infile:\n",
    "        file = json.load(infile)\n",
    "        for ns in file:\n",
    "            source_name, source_link, page_link = ns\n",
    "            mbfc_all.add(source_link) # I will clean later\n",
    "            mbfc_divided[c].add(source_link)"
   ]
  },
  {
   "cell_type": "code",
   "execution_count": 163,
   "metadata": {},
   "outputs": [
    {
     "data": {
      "text/plain": [
       "3248"
      ]
     },
     "execution_count": 163,
     "metadata": {},
     "output_type": "execute_result"
    }
   ],
   "source": [
    "len(mbfc_all)"
   ]
  },
  {
   "cell_type": "code",
   "execution_count": 164,
   "metadata": {},
   "outputs": [
    {
     "data": {
      "text/plain": [
       "['',\n",
       " 'www.srnnews.com',\n",
       " 'north99.org',\n",
       " 'wcyb.com',\n",
       " 'www.gallup.com',\n",
       " 'adamscountytimes.com',\n",
       " 'sedenvernews.com',\n",
       " 'southbirminghamtimes.com',\n",
       " 'www.ced.org',\n",
       " 'www.ihealthtube.com']"
      ]
     },
     "execution_count": 164,
     "metadata": {},
     "output_type": "execute_result"
    }
   ],
   "source": [
    "list(mbfc_all)[:10]"
   ]
  },
  {
   "cell_type": "markdown",
   "metadata": {},
   "source": [
    "### Cleaning `mbfc_all`"
   ]
  },
  {
   "cell_type": "code",
   "execution_count": 165,
   "metadata": {},
   "outputs": [
    {
     "data": {
      "text/plain": [
       "3289"
      ]
     },
     "execution_count": 165,
     "metadata": {},
     "output_type": "execute_result"
    }
   ],
   "source": [
    "mbfc_summary = set()\n",
    "\n",
    "for ns in mbfc_all:\n",
    "    extracted = tldextract.extract(ns)\n",
    "    subdomain, domain, suffix = extracted\n",
    "    # add both versions of domain.suffix and subdomain.domain.suffix\n",
    "    full = \"\"\n",
    "    # with subdomain\n",
    "    if len(subdomain) > 0:\n",
    "        #print(f\"{subdomain}.{domain}.{suffix}\")\n",
    "        full = f\"{subdomain}.{domain}.{suffix}\"\n",
    "        if len(full) > 0:\n",
    "            mbfc_summary.add(full.replace(\"www.\",\"\").strip('/'))\n",
    "    # without subdomain\n",
    "    full = f\"{domain}.{suffix}\"\n",
    "    if len(full) > 0:\n",
    "        mbfc_summary.add(full.replace(\"www.\",\"\").strip('/'))\n",
    "len(mbfc_summary)\n",
    "    "
   ]
  },
  {
   "cell_type": "code",
   "execution_count": 166,
   "metadata": {},
   "outputs": [
    {
     "data": {
      "text/plain": [
       "['north99.org',\n",
       " 'wcyb.com',\n",
       " 'betootaadvocate.com',\n",
       " 'colddeadhands.us',\n",
       " 'wikinews.org',\n",
       " 'adamscountytimes.com',\n",
       " 'sedenvernews.com',\n",
       " 'southbirminghamtimes.com',\n",
       " 'oklahoman.com',\n",
       " 'centralgeorgianews.com']"
      ]
     },
     "execution_count": 166,
     "metadata": {},
     "output_type": "execute_result"
    }
   ],
   "source": [
    "list(mbfc_summary)[:10]"
   ]
  },
  {
   "cell_type": "code",
   "execution_count": 167,
   "metadata": {},
   "outputs": [],
   "source": [
    "with open(\"D:\\\\Wellesley\\\\F21\\\\thesis\\\\data\\\\mbfc\\\\mbfc_summary.json\", \"w\", encoding=\"utf-8\") as outfile1:\n",
    "    json.dump(list(mbfc_summary), outfile1, indent=4)"
   ]
  },
  {
   "cell_type": "markdown",
   "metadata": {},
   "source": [
    "#### Intersection with gdelt and muck rack"
   ]
  },
  {
   "cell_type": "code",
   "execution_count": 168,
   "metadata": {
    "scrolled": true
   },
   "outputs": [
    {
     "data": {
      "text/plain": [
       "1631"
      ]
     },
     "execution_count": 168,
     "metadata": {},
     "output_type": "execute_result"
    }
   ],
   "source": [
    "len(mbfc_summary & set(gm_intersection))"
   ]
  },
  {
   "cell_type": "code",
   "execution_count": 169,
   "metadata": {},
   "outputs": [],
   "source": [
    "gmm_intersection = list(mbfc_summary & set(gm_intersection))"
   ]
  },
  {
   "cell_type": "code",
   "execution_count": 170,
   "metadata": {},
   "outputs": [],
   "source": [
    "with open(\"D:\\\\Wellesley\\\\F21\\\\thesis\\\\data\\\\gmm_intersection.json\", \"w\", encoding=\"utf-8\") as outfile2:\n",
    "    json.dump(gmm_intersection, outfile2)"
   ]
  },
  {
   "cell_type": "code",
   "execution_count": null,
   "metadata": {},
   "outputs": [],
   "source": []
  }
 ],
 "metadata": {
  "kernelspec": {
   "display_name": "Python 3",
   "language": "python",
   "name": "python3"
  },
  "language_info": {
   "codemirror_mode": {
    "name": "ipython",
    "version": 3
   },
   "file_extension": ".py",
   "mimetype": "text/x-python",
   "name": "python",
   "nbconvert_exporter": "python",
   "pygments_lexer": "ipython3",
   "version": "3.8.6"
  }
 },
 "nbformat": 4,
 "nbformat_minor": 4
}
