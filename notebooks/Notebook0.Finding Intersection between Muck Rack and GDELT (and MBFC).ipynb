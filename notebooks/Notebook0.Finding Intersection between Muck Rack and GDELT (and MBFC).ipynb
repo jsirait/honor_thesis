{
 "cells": [
  {
   "cell_type": "markdown",
   "metadata": {},
   "source": [
    "# Finding Intersection between Muck Rack and GDELT\n",
    "\n",
    "\"What counts as a news source?\" is an important question. Muck Rack and GDELT have their own definition of what can be considered as a news source. An intersection between a set of manually curated news source selection from Muck Rack, and a set of news sources recognized by the global database GDELT will provide us with news sources that are recognized by at least two institutions."
   ]
  },
  {
   "cell_type": "markdown",
   "metadata": {},
   "source": [
    "Table of content\n",
    "\n",
    "1. [Read news sources from GDELT](#sec1)\n",
    "    * [Does GDELT have domains and subdomains OR just domains?](#sec1a) Gdelt has subdomains!\n",
    "    \n",
    "2. [Read news sources from Muck Rack](#sec2)\n",
    "    * [New Muck Rack](#sec2a)\n",
    "    * [Old Muck Rack](#sec2b)\n",
    "    * [Union between old and new Muck Rack](#sec2c)\n",
    "\n",
    "3. [Intersection between Muck Rack and GDELT](#sec3)\n",
    "4. [Intersection between Muck Rack, GDELT, and MBFC](#sec4)"
   ]
  },
  {
   "cell_type": "code",
   "execution_count": 87,
   "metadata": {},
   "outputs": [],
   "source": [
    "import json\n",
    "import csv\n",
    "\n",
    "from collections import defaultdict, Counter\n",
    "\n",
    "import tldextract"
   ]
  },
  {
   "cell_type": "markdown",
   "metadata": {},
   "source": [
    "<a id=\"sec1\"></a>\n",
    "## Read news sources from GDELT"
   ]
  },
  {
   "cell_type": "code",
   "execution_count": 88,
   "metadata": {},
   "outputs": [],
   "source": [
    "years = [2016, 2017, 2018, 2019, 2020, 2021]"
   ]
  },
  {
   "cell_type": "code",
   "execution_count": 89,
   "metadata": {},
   "outputs": [],
   "source": [
    "gdelt_ns = set()\n",
    "\n",
    "for year in years:\n",
    "    with open (f\"D:\\\\Wellesley\\\\F21\\\\thesis\\\\data\\\\gdelt\\\\gdelt_{year}.csv\", \"r\", encoding=\"utf-8\") as gi:\n",
    "        reader = csv.DictReader(gi)\n",
    "        for row in reader:\n",
    "            gdelt_ns.add(row['SourceCommonName'])"
   ]
  },
  {
   "cell_type": "code",
   "execution_count": 90,
   "metadata": {},
   "outputs": [
    {
     "data": {
      "text/plain": [
       "205998"
      ]
     },
     "execution_count": 90,
     "metadata": {},
     "output_type": "execute_result"
    }
   ],
   "source": [
    "gdelt_ns = list(gdelt_ns)\n",
    "len(gdelt_ns)"
   ]
  },
  {
   "cell_type": "code",
   "execution_count": 91,
   "metadata": {},
   "outputs": [
    {
     "data": {
      "text/plain": [
       "['',\n",
       " 'academyofmusic.ac.uk',\n",
       " 'websterprogresstimes.com',\n",
       " 'auto.onliner.by',\n",
       " 'e-zone.com.hk',\n",
       " 'leithcars.com',\n",
       " 'dailyfootball.ir',\n",
       " 'kolping.hotel.hu',\n",
       " 'tuttotritiumgiana.com',\n",
       " 'tonisant.com']"
      ]
     },
     "execution_count": 91,
     "metadata": {},
     "output_type": "execute_result"
    }
   ],
   "source": [
    "gdelt_ns[:10]"
   ]
  },
  {
   "cell_type": "markdown",
   "metadata": {},
   "source": [
    "<a id=\"sec1a\"></a>\n",
    "### Does GDELT have domains and subdomains OR just domains? YES, with subdomains!"
   ]
  },
  {
   "cell_type": "code",
   "execution_count": 92,
   "metadata": {},
   "outputs": [
    {
     "name": "stdout",
     "output_type": "stream",
     "text": [
      "there are 15441 news sources with subdomains.\n"
     ]
    }
   ],
   "source": [
    "with_subdomains = []\n",
    "\n",
    "for gn in gdelt_ns:\n",
    "    extracted = tldextract.extract(gn)\n",
    "    subdomain, domain, suffix = extracted\n",
    "    if subdomain:\n",
    "        with_subdomains.append(gn)\n",
    "        \n",
    "print(f\"there are {len(with_subdomains)} news sources with subdomains.\")"
   ]
  },
  {
   "cell_type": "markdown",
   "metadata": {},
   "source": [
    "### Strip www. from gdelt news sources"
   ]
  },
  {
   "cell_type": "code",
   "execution_count": 98,
   "metadata": {},
   "outputs": [],
   "source": [
    "gdelt_ns = list(set([k.replace(\"www.\",\"\") for k in gdelt_ns]))"
   ]
  },
  {
   "cell_type": "code",
   "execution_count": 99,
   "metadata": {},
   "outputs": [
    {
     "data": {
      "text/plain": [
       "205994"
      ]
     },
     "execution_count": 99,
     "metadata": {},
     "output_type": "execute_result"
    }
   ],
   "source": [
    "len(gdelt_ns)"
   ]
  },
  {
   "cell_type": "markdown",
   "metadata": {},
   "source": [
    "<a id=\"sec2\"></a>\n",
    "## Read news sources from Muck Rack"
   ]
  },
  {
   "cell_type": "markdown",
   "metadata": {},
   "source": [
    "<a id=\"sec2a\"></a>\n",
    "### First, new Muck Rack\n",
    "\n",
    "(scraped in January 2022)"
   ]
  },
  {
   "cell_type": "code",
   "execution_count": 100,
   "metadata": {},
   "outputs": [],
   "source": [
    "with open(\"D:\\\\Wellesley\\\\F21\\\\thesis\\\\data\\\\muckrack\\\\all_new_muckrack.json\", \"r\", encoding=\"utf-8\") as mrinfile:\n",
    "    new_muckrack = json.load(mrinfile)"
   ]
  },
  {
   "cell_type": "code",
   "execution_count": 101,
   "metadata": {},
   "outputs": [
    {
     "data": {
      "text/plain": [
       "['http://absolutelynot.libsyn.com/website',\n",
       " 'https://ShaunSaunders.podbean.com',\n",
       " 'https://www.ivoox.com/podcast-la-encarnacion-divina_sq_f1366021_1.html',\n",
       " 'https://anchor.fm/wisconsinprod',\n",
       " 'https://redstonearchender.wordpress.com',\n",
       " 'https://soundcloud.com/manqeezus',\n",
       " 'https://anchor.fm/tayland-garrison6',\n",
       " 'www.ieshivaanoji.com',\n",
       " 'https://anchor.fm/en-notes',\n",
       " 'https://anchor.fm/shotaro-miyahara']"
      ]
     },
     "execution_count": 101,
     "metadata": {},
     "output_type": "execute_result"
    }
   ],
   "source": [
    "new_muckrack_ns = list(new_muckrack.keys())\n",
    "new_muckrack_ns[:10]"
   ]
  },
  {
   "cell_type": "code",
   "execution_count": 102,
   "metadata": {},
   "outputs": [
    {
     "data": {
      "text/plain": [
       "594687"
      ]
     },
     "execution_count": 102,
     "metadata": {},
     "output_type": "execute_result"
    }
   ],
   "source": [
    "len(set(new_muckrack_ns))"
   ]
  },
  {
   "cell_type": "markdown",
   "metadata": {},
   "source": [
    "#### Let's clean it"
   ]
  },
  {
   "cell_type": "code",
   "execution_count": 103,
   "metadata": {},
   "outputs": [
    {
     "data": {
      "text/plain": [
       "434022"
      ]
     },
     "execution_count": 103,
     "metadata": {},
     "output_type": "execute_result"
    }
   ],
   "source": [
    "clean_new_muckrack = set()\n",
    "\n",
    "for nsm in new_muckrack_ns:\n",
    "    extracted = tldextract.extract(nsm)\n",
    "    subdomain, domain, suffix = extracted\n",
    "    # add both versions of domain.suffix and subdomain.domain.suffix\n",
    "    full = \"\"\n",
    "    if len(subdomain) > 0:\n",
    "        #print(f\"{subdomain}.{domain}.{suffix}\")\n",
    "        full = f\"{subdomain}.{domain}.{suffix}\"\n",
    "    else:\n",
    "        full = f\"{domain}.{suffix}\"\n",
    "    if len(full) > 0:\n",
    "        clean_new_muckrack.add(full.replace(\"www.\",\"\").strip('/'))\n",
    "len(clean_new_muckrack)"
   ]
  },
  {
   "cell_type": "code",
   "execution_count": 104,
   "metadata": {
    "scrolled": true
   },
   "outputs": [
    {
     "data": {
      "text/plain": [
       "['',\n",
       " 'theorydish.blog',\n",
       " 'theinnerconnection.co',\n",
       " 'lists.gt.net',\n",
       " 'realproblemspodcast.com',\n",
       " 'cippenhamttc.co.uk',\n",
       " 'dylanpaulus.com',\n",
       " 'apologetikalt.podbean.com',\n",
       " 'collegesportsmaven.io',\n",
       " 'eetimes.eu']"
      ]
     },
     "execution_count": 104,
     "metadata": {},
     "output_type": "execute_result"
    }
   ],
   "source": [
    "list(clean_new_muckrack)[:10]"
   ]
  },
  {
   "cell_type": "markdown",
   "metadata": {},
   "source": [
    "<a id=\"sec2b\"></a>\n",
    "\n",
    "### Old Muck Rack"
   ]
  },
  {
   "cell_type": "code",
   "execution_count": 105,
   "metadata": {},
   "outputs": [],
   "source": [
    "with open(\"D:\\\\Wellesley\\\\F21\\\\thesis\\\\data\\\\muckrack\\\\all_old_muckrack.json\", \"r\", encoding=\"utf-8\") as mrinfile1:\n",
    "    old_muckrack = json.load(mrinfile1)"
   ]
  },
  {
   "cell_type": "code",
   "execution_count": 106,
   "metadata": {
    "scrolled": true
   },
   "outputs": [
    {
     "data": {
      "text/plain": [
       "['http://theunionstar.com',\n",
       " 'http://uniontimes.org',\n",
       " 'http://unionrecorder.com',\n",
       " 'http://unionandtimes.com',\n",
       " 'http://unionvillerepublicanonline.com',\n",
       " 'http://blog.uniquehomes.com',\n",
       " 'http://uniservity.com',\n",
       " 'http://uniteseattlemag.com',\n",
       " 'http://unite.ai',\n",
       " 'http://unitedbypop.com']"
      ]
     },
     "execution_count": 106,
     "metadata": {},
     "output_type": "execute_result"
    }
   ],
   "source": [
    "old_muckrack_ns = list(old_muckrack.keys())\n",
    "old_muckrack_ns[:10]"
   ]
  },
  {
   "cell_type": "markdown",
   "metadata": {},
   "source": [
    "#### Let's clean it"
   ]
  },
  {
   "cell_type": "code",
   "execution_count": 107,
   "metadata": {},
   "outputs": [
    {
     "data": {
      "text/plain": [
       "77878"
      ]
     },
     "execution_count": 107,
     "metadata": {},
     "output_type": "execute_result"
    }
   ],
   "source": [
    "len(set(old_muckrack_ns))"
   ]
  },
  {
   "cell_type": "code",
   "execution_count": 108,
   "metadata": {},
   "outputs": [
    {
     "data": {
      "text/plain": [
       "66504"
      ]
     },
     "execution_count": 108,
     "metadata": {},
     "output_type": "execute_result"
    }
   ],
   "source": [
    "clean_old_muckrack = set()\n",
    "\n",
    "for lsm in old_muckrack_ns:\n",
    "    extracted = tldextract.extract(lsm)\n",
    "    subdomain, domain, suffix = extracted\n",
    "    # add both versions of domain.suffix and subdomain.domain.suffix\n",
    "    full = \"\"\n",
    "    if len(subdomain) > 0:\n",
    "        #print(f\"{subdomain}.{domain}.{suffix}\")\n",
    "        full = f\"{subdomain}.{domain}.{suffix}\"\n",
    "    else:\n",
    "        full = f\"{domain}.{suffix}\"\n",
    "    if len(full) > 0:\n",
    "        clean_old_muckrack.add(full.replace(\"www.\",\"\").strip('/'))\n",
    "len(clean_old_muckrack)"
   ]
  },
  {
   "cell_type": "code",
   "execution_count": 109,
   "metadata": {
    "scrolled": true
   },
   "outputs": [
    {
     "data": {
      "text/plain": [
       "['websterprogresstimes.com',\n",
       " 'vozlatinanewspaper.com',\n",
       " 'whosonthemove.com',\n",
       " 'b95forlife.iheart.com',\n",
       " 'cordeledispatch.com',\n",
       " 'invisiblewheelchair.com',\n",
       " 'en.shafaqna.com',\n",
       " 'fly2let.co.uk',\n",
       " 'overloadr.com.br',\n",
       " 'ukconstructionmedia.co.uk']"
      ]
     },
     "execution_count": 109,
     "metadata": {},
     "output_type": "execute_result"
    }
   ],
   "source": [
    "list(clean_old_muckrack)[:10]"
   ]
  },
  {
   "cell_type": "markdown",
   "metadata": {},
   "source": [
    "<a id=\"sec2c\"></a>\n",
    "### Union between Old and New Muck Rack"
   ]
  },
  {
   "cell_type": "code",
   "execution_count": 112,
   "metadata": {},
   "outputs": [
    {
     "data": {
      "text/plain": [
       "59244"
      ]
     },
     "execution_count": 112,
     "metadata": {},
     "output_type": "execute_result"
    }
   ],
   "source": [
    "len(clean_old_muckrack & clean_new_muckrack)"
   ]
  },
  {
   "cell_type": "code",
   "execution_count": 116,
   "metadata": {},
   "outputs": [],
   "source": [
    "import difflib"
   ]
  },
  {
   "cell_type": "code",
   "execution_count": 114,
   "metadata": {},
   "outputs": [
    {
     "data": {
      "text/plain": [
       "['http://995magicfm.com', 'http://989magicfm.com', 'http://magic93fm.com']"
      ]
     },
     "execution_count": 114,
     "metadata": {},
     "output_type": "execute_result"
    }
   ],
   "source": [
    "difflib.get_close_matches('995magicfm.com', list(old_muckrack.keys()))"
   ]
  },
  {
   "cell_type": "code",
   "execution_count": 115,
   "metadata": {},
   "outputs": [
    {
     "data": {
      "text/plain": [
       "['http://989magicfm.com', 'http://magic93fm.com', 'http://magic995fm.com']"
      ]
     },
     "execution_count": 115,
     "metadata": {},
     "output_type": "execute_result"
    }
   ],
   "source": [
    "difflib.get_close_matches('http://995magicfm.com', list(new_muckrack.keys()))"
   ]
  },
  {
   "cell_type": "code",
   "execution_count": 117,
   "metadata": {},
   "outputs": [],
   "source": [
    "muckrack_union = clean_old_muckrack | clean_new_muckrack"
   ]
  },
  {
   "cell_type": "code",
   "execution_count": 120,
   "metadata": {
    "collapsed": true
   },
   "outputs": [
    {
     "ename": "KeyError",
     "evalue": "''",
     "output_type": "error",
     "traceback": [
      "\u001b[1;31m---------------------------------------------------------------------------\u001b[0m",
      "\u001b[1;31mKeyError\u001b[0m                                  Traceback (most recent call last)",
      "\u001b[1;32m<ipython-input-120-c4c606794e5e>\u001b[0m in \u001b[0;36m<module>\u001b[1;34m\u001b[0m\n\u001b[1;32m----> 1\u001b[1;33m \u001b[0mmuckrack_union\u001b[0m\u001b[1;33m.\u001b[0m\u001b[0mremove\u001b[0m\u001b[1;33m(\u001b[0m\u001b[1;34m\"\"\u001b[0m\u001b[1;33m)\u001b[0m\u001b[1;33m\u001b[0m\u001b[1;33m\u001b[0m\u001b[0m\n\u001b[0m",
      "\u001b[1;31mKeyError\u001b[0m: ''"
     ]
    }
   ],
   "source": [
    "muckrack_union.remove(\"\")"
   ]
  },
  {
   "cell_type": "code",
   "execution_count": 121,
   "metadata": {},
   "outputs": [
    {
     "data": {
      "text/plain": [
       "441281"
      ]
     },
     "execution_count": 121,
     "metadata": {},
     "output_type": "execute_result"
    }
   ],
   "source": [
    "len(muckrack_union)"
   ]
  },
  {
   "cell_type": "code",
   "execution_count": 122,
   "metadata": {},
   "outputs": [],
   "source": [
    "with open (\"D:\\\\Wellesley\\\\F21\\\\thesis\\\\data\\\\muckrack\\\\muckrack_union.json\", \"w\", encoding=\"utf-8\") as unionfile:\n",
    "    json.dump(list(muckrack_union), unionfile, indent=4)"
   ]
  },
  {
   "cell_type": "markdown",
   "metadata": {},
   "source": [
    "<a id=\"sec3\"></a>\n",
    "## Intersection between Muck Rack and GDELT"
   ]
  },
  {
   "cell_type": "code",
   "execution_count": 123,
   "metadata": {},
   "outputs": [
    {
     "data": {
      "text/plain": [
       "40645"
      ]
     },
     "execution_count": 123,
     "metadata": {},
     "output_type": "execute_result"
    }
   ],
   "source": [
    "gm_intersection = set(gdelt_ns) & set(muckrack_union)\n",
    "len(gm_intersection)"
   ]
  },
  {
   "cell_type": "code",
   "execution_count": 124,
   "metadata": {},
   "outputs": [],
   "source": [
    "with open (\"D:\\\\Wellesley\\\\F21\\\\thesis\\\\data\\\\gm_intersection.json\", \"w\", encoding=\"utf-8\") as outfile:\n",
    "    json.dump(list(gm_intersection), outfile, indent=4)"
   ]
  },
  {
   "cell_type": "markdown",
   "metadata": {},
   "source": [
    "<a id=\"sec4\"></a>\n",
    "## Intersection with MBFC"
   ]
  },
  {
   "cell_type": "code",
   "execution_count": 74,
   "metadata": {},
   "outputs": [],
   "source": [
    "categories = [\"center\", \"conspiracy\", \"fake-news\", \"left\", \"leftcenter\", \"pro-science\", \"pseudoscience-dictionary\", \"right\", \"right-center\", \"satire\"]"
   ]
  },
  {
   "cell_type": "code",
   "execution_count": 77,
   "metadata": {},
   "outputs": [],
   "source": [
    "mbfc_all = set()\n",
    "mbfc_divided = defaultdict(set)\n",
    "\n",
    "for c in categories:\n",
    "    with open(f\"D:\\\\Wellesley\\\\F21\\\\thesis\\\\data\\\\mbfc\\\\mbfc_{c}.json\", \"r\", encoding=\"utf-8\") as infile:\n",
    "        file = json.load(infile)\n",
    "        for ns in file:\n",
    "            source_name, source_link, page_link = ns\n",
    "            mbfc_all.add(source_link) # I will clean later\n",
    "            mbfc_divided[c].add(source_link)"
   ]
  },
  {
   "cell_type": "code",
   "execution_count": 78,
   "metadata": {},
   "outputs": [
    {
     "data": {
      "text/plain": [
       "3248"
      ]
     },
     "execution_count": 78,
     "metadata": {},
     "output_type": "execute_result"
    }
   ],
   "source": [
    "len(mbfc_all)"
   ]
  },
  {
   "cell_type": "code",
   "execution_count": 79,
   "metadata": {},
   "outputs": [
    {
     "data": {
      "text/plain": [
       "['',\n",
       " 'www.srnnews.com',\n",
       " 'north99.org',\n",
       " 'wcyb.com',\n",
       " 'www.gallup.com',\n",
       " 'adamscountytimes.com',\n",
       " 'sedenvernews.com',\n",
       " 'southbirminghamtimes.com',\n",
       " 'www.ced.org',\n",
       " 'www.ihealthtube.com']"
      ]
     },
     "execution_count": 79,
     "metadata": {},
     "output_type": "execute_result"
    }
   ],
   "source": [
    "list(mbfc_all)[:10]"
   ]
  },
  {
   "cell_type": "markdown",
   "metadata": {},
   "source": [
    "### Cleaning `mbfc_all`"
   ]
  },
  {
   "cell_type": "code",
   "execution_count": 125,
   "metadata": {},
   "outputs": [
    {
     "data": {
      "text/plain": [
       "3237"
      ]
     },
     "execution_count": 125,
     "metadata": {},
     "output_type": "execute_result"
    }
   ],
   "source": [
    "mbfc_summary = set()\n",
    "\n",
    "for ns in mbfc_all:\n",
    "    extracted = tldextract.extract(ns)\n",
    "    subdomain, domain, suffix = extracted\n",
    "    # add both versions of domain.suffix and subdomain.domain.suffix\n",
    "    full = \"\"\n",
    "    if len(subdomain) > 0:\n",
    "        #print(f\"{subdomain}.{domain}.{suffix}\")\n",
    "        full = f\"{subdomain}.{domain}.{suffix}\"\n",
    "    else:\n",
    "        full = f\"{domain}.{suffix}\"\n",
    "    if len(full) > 0:\n",
    "        mbfc_summary.add(full.replace(\"www.\",\"\").strip('/'))\n",
    "len(mbfc_summary)\n",
    "    "
   ]
  },
  {
   "cell_type": "code",
   "execution_count": 126,
   "metadata": {},
   "outputs": [
    {
     "data": {
      "text/plain": [
       "['north99.org',\n",
       " 'wcyb.com',\n",
       " 'betootaadvocate.com',\n",
       " 'colddeadhands.us',\n",
       " 'adamscountytimes.com',\n",
       " 'sedenvernews.com',\n",
       " 'southbirminghamtimes.com',\n",
       " 'oklahoman.com',\n",
       " 'centralgeorgianews.com',\n",
       " 'lindelltv.com']"
      ]
     },
     "execution_count": 126,
     "metadata": {},
     "output_type": "execute_result"
    }
   ],
   "source": [
    "list(mbfc_summary)[:10]"
   ]
  },
  {
   "cell_type": "code",
   "execution_count": null,
   "metadata": {},
   "outputs": [],
   "source": []
  }
 ],
 "metadata": {
  "kernelspec": {
   "display_name": "Python 3",
   "language": "python",
   "name": "python3"
  },
  "language_info": {
   "codemirror_mode": {
    "name": "ipython",
    "version": 3
   },
   "file_extension": ".py",
   "mimetype": "text/x-python",
   "name": "python",
   "nbconvert_exporter": "python",
   "pygments_lexer": "ipython3",
   "version": "3.8.6"
  }
 },
 "nbformat": 4,
 "nbformat_minor": 4
}
