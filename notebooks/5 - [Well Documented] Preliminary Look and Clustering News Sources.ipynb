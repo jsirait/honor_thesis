{
 "cells": [
  {
   "cell_type": "markdown",
   "metadata": {},
   "source": [
    "# Preliminary Look and Clustering News Sources\n",
    "\n",
    "Junita Sirait\n",
    "\n",
    "I would like to cluster news sources based on in which subreddits they appear. First I will use k-means algorithm, then I will try out other algorithms such as DBSCAN and others. "
   ]
  },
  {
   "cell_type": "code",
   "execution_count": 74,
   "metadata": {
    "collapsed": true
   },
   "outputs": [
    {
     "name": "stdout",
     "output_type": "stream",
     "text": [
      "Collecting kneed\n",
      "  Downloading kneed-0.7.0-py2.py3-none-any.whl (9.4 kB)\n",
      "Requirement already satisfied: numpy>=1.14.2 in c:\\users\\user200803\\appdata\\local\\programs\\python\\python38\\lib\\site-packages (from kneed) (1.19.1)\n",
      "Requirement already satisfied: scipy in c:\\users\\user200803\\appdata\\local\\programs\\python\\python38\\lib\\site-packages (from kneed) (1.5.2)\n",
      "Requirement already satisfied: matplotlib in c:\\users\\user200803\\appdata\\local\\programs\\python\\python38\\lib\\site-packages (from kneed) (3.3.1)\n",
      "Requirement already satisfied: python-dateutil>=2.1 in c:\\users\\user200803\\appdata\\local\\programs\\python\\python38\\lib\\site-packages (from matplotlib->kneed) (2.8.1)"
     ]
    },
    {
     "name": "stderr",
     "output_type": "stream",
     "text": [
      "WARNING: You are using pip version 21.2.4; however, version 21.3.1 is available.\n",
      "You should consider upgrading via the 'c:\\users\\user200803\\appdata\\local\\programs\\python\\python38\\python.exe -m pip install --upgrade pip' command.\n"
     ]
    },
    {
     "name": "stdout",
     "output_type": "stream",
     "text": [
      "\n",
      "Requirement already satisfied: certifi>=2020.06.20 in c:\\users\\user200803\\appdata\\local\\programs\\python\\python38\\lib\\site-packages (from matplotlib->kneed) (2020.6.20)\n",
      "Requirement already satisfied: cycler>=0.10 in c:\\users\\user200803\\appdata\\local\\programs\\python\\python38\\lib\\site-packages (from matplotlib->kneed) (0.10.0)\n",
      "Requirement already satisfied: kiwisolver>=1.0.1 in c:\\users\\user200803\\appdata\\local\\programs\\python\\python38\\lib\\site-packages (from matplotlib->kneed) (1.2.0)\n",
      "Requirement already satisfied: pyparsing!=2.0.4,!=2.1.2,!=2.1.6,>=2.0.3 in c:\\users\\user200803\\appdata\\local\\programs\\python\\python38\\lib\\site-packages (from matplotlib->kneed) (2.4.7)\n",
      "Requirement already satisfied: pillow>=6.2.0 in c:\\users\\user200803\\appdata\\local\\programs\\python\\python38\\lib\\site-packages (from matplotlib->kneed) (7.2.0)\n",
      "Requirement already satisfied: six in c:\\users\\user200803\\appdata\\roaming\\python\\python38\\site-packages (from cycler>=0.10->matplotlib->kneed) (1.15.0)\n",
      "Installing collected packages: kneed\n",
      "Successfully installed kneed-0.7.0\n"
     ]
    }
   ],
   "source": [
    "!pip install kneed"
   ]
  },
  {
   "cell_type": "code",
   "execution_count": 1,
   "metadata": {},
   "outputs": [],
   "source": [
    "import json\n",
    "import pandas as pd\n",
    "import numpy as np\n",
    "from collections import Counter, defaultdict\n",
    "import matplotlib.pyplot as plt\n",
    "from sklearn.cluster import KMeans\n",
    "from sklearn.metrics import silhouette_score\n",
    "from sklearn.preprocessing import StandardScaler\n",
    "\n",
    "from sklearn import preprocessing\n",
    "\n",
    "from sklearn.metrics import silhouette_score\n",
    "from kneed import KneeLocator\n",
    "\n",
    "from scipy.interpolate import make_interp_spline, BSpline\n",
    "\n",
    "from sklearn.decomposition import PCA"
   ]
  },
  {
   "cell_type": "code",
   "execution_count": 2,
   "metadata": {},
   "outputs": [],
   "source": [
    "with open(\"ns_subreddit.json\", \"r\", encoding = \"utf-8\") as infile:\n",
    "    ns_subreddit = json.load(infile)"
   ]
  },
  {
   "cell_type": "markdown",
   "metadata": {},
   "source": [
    "How many news sources are there?"
   ]
  },
  {
   "cell_type": "code",
   "execution_count": 3,
   "metadata": {},
   "outputs": [
    {
     "data": {
      "text/plain": [
       "3686"
      ]
     },
     "execution_count": 3,
     "metadata": {},
     "output_type": "execute_result"
    }
   ],
   "source": [
    "num_ns = len(ns_subreddit)\n",
    "num_ns"
   ]
  },
  {
   "cell_type": "markdown",
   "metadata": {},
   "source": [
    "Let's see the data structure for `nytimes.com`"
   ]
  },
  {
   "cell_type": "code",
   "execution_count": 4,
   "metadata": {
    "scrolled": true
   },
   "outputs": [
    {
     "data": {
      "text/plain": [
       "[('nytimes', 5322),\n",
       " ('NYTauto', 3798),\n",
       " ('AutoNewspaper', 3788),\n",
       " ('TrendingQuickTVnews', 1454),\n",
       " ('politics', 775),\n",
       " ('news', 435),\n",
       " ('u_NumerousRow', 322),\n",
       " ('worldnews', 261),\n",
       " ('Coronavirus', 243),\n",
       " ('NoFilterNews', 211),\n",
       " ('FreshNewsToday', 198),\n",
       " ('u_somuchinfook', 197),\n",
       " ('u_Music908', 188),\n",
       " ('ScienceFeed', 170),\n",
       " ('autotldr', 167),\n",
       " ('AnythingGoesNews', 155),\n",
       " ('bitstreetpost', 132),\n",
       " ('neoliberal', 122),\n",
       " ('badgovnofreedom', 109),\n",
       " ('NoNewNormal', 77)]"
      ]
     },
     "execution_count": 4,
     "metadata": {},
     "output_type": "execute_result"
    }
   ],
   "source": [
    "Counter(ns_subreddit['nytimes.com']).most_common(20)"
   ]
  },
  {
   "cell_type": "markdown",
   "metadata": {},
   "source": [
    "For each news source, let's count in how many subreddits they appear"
   ]
  },
  {
   "cell_type": "code",
   "execution_count": 5,
   "metadata": {},
   "outputs": [],
   "source": [
    "subreddit_count = dict()\n",
    "for ns in ns_subreddit:\n",
    "    subreddit_count[ns] = len(ns_subreddit[ns].keys())"
   ]
  },
  {
   "cell_type": "markdown",
   "metadata": {},
   "source": [
    "`subreddit_count` stores in how many subreddits each news source appears."
   ]
  },
  {
   "cell_type": "code",
   "execution_count": 6,
   "metadata": {},
   "outputs": [
    {
     "data": {
      "text/plain": [
       "2174"
      ]
     },
     "execution_count": 6,
     "metadata": {},
     "output_type": "execute_result"
    }
   ],
   "source": [
    "subreddit_count['nytimes.com']"
   ]
  },
  {
   "cell_type": "code",
   "execution_count": 7,
   "metadata": {},
   "outputs": [
    {
     "data": {
      "text/plain": [
       "{1: 675,\n",
       " 2: 440,\n",
       " 3: 315,\n",
       " 4: 233,\n",
       " 5: 162,\n",
       " 6: 135,\n",
       " 7: 132,\n",
       " 8: 119,\n",
       " 9: 95,\n",
       " 10: 89,\n",
       " 13: 69,\n",
       " 12: 66,\n",
       " 11: 62,\n",
       " 17: 45,\n",
       " 16: 44,\n",
       " 14: 41,\n",
       " 18: 37,\n",
       " 15: 37,\n",
       " 23: 37,\n",
       " 20: 33,\n",
       " 22: 32,\n",
       " 19: 29,\n",
       " 21: 25,\n",
       " 27: 25,\n",
       " 26: 25,\n",
       " 25: 24,\n",
       " 24: 19,\n",
       " 44: 18,\n",
       " 34: 18,\n",
       " 28: 17,\n",
       " 45: 17,\n",
       " 33: 17,\n",
       " 30: 16,\n",
       " 29: 15,\n",
       " 41: 15,\n",
       " 40: 14,\n",
       " 32: 14,\n",
       " 31: 13,\n",
       " 36: 13,\n",
       " 39: 13,\n",
       " 51: 11,\n",
       " 61: 10,\n",
       " 46: 10,\n",
       " 50: 10,\n",
       " 37: 9,\n",
       " 38: 9,\n",
       " 53: 8,\n",
       " 42: 8,\n",
       " 62: 7,\n",
       " 43: 7,\n",
       " 72: 7,\n",
       " 60: 6,\n",
       " 81: 6,\n",
       " 56: 6,\n",
       " 113: 6,\n",
       " 35: 6,\n",
       " 64: 6,\n",
       " 55: 6,\n",
       " 58: 5,\n",
       " 47: 5,\n",
       " 48: 5,\n",
       " 117: 5,\n",
       " 52: 5,\n",
       " 73: 5,\n",
       " 104: 5,\n",
       " 105: 5,\n",
       " 57: 5,\n",
       " 63: 5,\n",
       " 66: 5,\n",
       " 67: 4,\n",
       " 82: 4,\n",
       " 83: 4,\n",
       " 94: 4,\n",
       " 85: 4,\n",
       " 49: 4,\n",
       " 78: 4,\n",
       " 71: 4,\n",
       " 86: 3,\n",
       " 76: 3,\n",
       " 54: 3,\n",
       " 223: 3,\n",
       " 202: 3,\n",
       " 59: 3,\n",
       " 89: 3,\n",
       " 154: 3,\n",
       " 125: 3,\n",
       " 100: 3,\n",
       " 84: 3,\n",
       " 88: 3,\n",
       " 92: 3,\n",
       " 70: 3,\n",
       " 65: 3,\n",
       " 99: 2,\n",
       " 102: 2,\n",
       " 159: 2,\n",
       " 146: 2,\n",
       " 75: 2,\n",
       " 74: 2,\n",
       " 331: 2,\n",
       " 114: 2,\n",
       " 193: 2,\n",
       " 150: 2,\n",
       " 69: 2,\n",
       " 90: 2,\n",
       " 222: 2,\n",
       " 98: 2,\n",
       " 106: 2,\n",
       " 149: 2,\n",
       " 168: 2,\n",
       " 80: 2,\n",
       " 192: 2,\n",
       " 108: 2,\n",
       " 132: 2,\n",
       " 361: 2,\n",
       " 153: 2,\n",
       " 95: 2,\n",
       " 128: 2,\n",
       " 141: 2,\n",
       " 112: 2,\n",
       " 111: 2,\n",
       " 121: 2,\n",
       " 68: 2,\n",
       " 163: 2,\n",
       " 91: 2,\n",
       " 440: 1,\n",
       " 861: 1,\n",
       " 157: 1,\n",
       " 1247: 1,\n",
       " 456: 1,\n",
       " 495: 1,\n",
       " 797: 1,\n",
       " 1095: 1,\n",
       " 629: 1,\n",
       " 207: 1,\n",
       " 1538: 1,\n",
       " 2174: 1,\n",
       " 1056: 1,\n",
       " 660: 1,\n",
       " 135: 1,\n",
       " 1510: 1,\n",
       " 194: 1,\n",
       " 242: 1,\n",
       " 116: 1,\n",
       " 253: 1,\n",
       " 559: 1,\n",
       " 129: 1,\n",
       " 824: 1,\n",
       " 1193: 1,\n",
       " 666: 1,\n",
       " 878: 1,\n",
       " 527: 1,\n",
       " 96: 1,\n",
       " 1506: 1,\n",
       " 1306: 1,\n",
       " 938: 1,\n",
       " 276: 1,\n",
       " 683: 1,\n",
       " 134: 1,\n",
       " 255: 1,\n",
       " 126: 1,\n",
       " 575: 1,\n",
       " 656: 1,\n",
       " 929: 1,\n",
       " 586: 1,\n",
       " 557: 1,\n",
       " 216: 1,\n",
       " 240: 1,\n",
       " 237: 1,\n",
       " 261: 1,\n",
       " 191: 1,\n",
       " 1049: 1,\n",
       " 234: 1,\n",
       " 239: 1,\n",
       " 348: 1,\n",
       " 174: 1,\n",
       " 484: 1,\n",
       " 119: 1,\n",
       " 147: 1,\n",
       " 124: 1,\n",
       " 131: 1,\n",
       " 289: 1,\n",
       " 186: 1,\n",
       " 269: 1,\n",
       " 356: 1,\n",
       " 246: 1,\n",
       " 201: 1,\n",
       " 185: 1,\n",
       " 139: 1,\n",
       " 375: 1,\n",
       " 428: 1,\n",
       " 376: 1,\n",
       " 97: 1,\n",
       " 93: 1,\n",
       " 103: 1,\n",
       " 488: 1,\n",
       " 156: 1,\n",
       " 109: 1,\n",
       " 142: 1,\n",
       " 172: 1,\n",
       " 140: 1,\n",
       " 158: 1,\n",
       " 180: 1,\n",
       " 162: 1,\n",
       " 232: 1,\n",
       " 195: 1,\n",
       " 302: 1,\n",
       " 173: 1,\n",
       " 136: 1,\n",
       " 120: 1,\n",
       " 315: 1,\n",
       " 144: 1,\n",
       " 161: 1,\n",
       " 138: 1,\n",
       " 178: 1,\n",
       " 312: 1,\n",
       " 204: 1,\n",
       " 221: 1,\n",
       " 110: 1,\n",
       " 145: 1,\n",
       " 176: 1,\n",
       " 122: 1,\n",
       " 196: 1,\n",
       " 208: 1,\n",
       " 167: 1,\n",
       " 107: 1,\n",
       " 123: 1,\n",
       " 77: 1,\n",
       " 264: 1,\n",
       " 87: 1,\n",
       " 669: 1,\n",
       " 862: 1}"
      ]
     },
     "execution_count": 7,
     "metadata": {},
     "output_type": "execute_result"
    }
   ],
   "source": [
    "subreddit_count_freq = dict(Counter(subreddit_count.values()).most_common())\n",
    "subreddit_count_freq"
   ]
  },
  {
   "cell_type": "markdown",
   "metadata": {},
   "source": [
    "`subreddit_count_freq` keeps track of how many news sources appear in *n* subreddits for all possible *n*."
   ]
  },
  {
   "cell_type": "code",
   "execution_count": 9,
   "metadata": {},
   "outputs": [
    {
     "data": {
      "text/plain": [
       "2174"
      ]
     },
     "execution_count": 9,
     "metadata": {},
     "output_type": "execute_result"
    }
   ],
   "source": [
    "max(subreddit_count_freq.keys())"
   ]
  },
  {
   "cell_type": "markdown",
   "metadata": {},
   "source": [
    "Wow! There is a news source that appears in 2174 subreddits. This is `nytimes.com`."
   ]
  },
  {
   "cell_type": "code",
   "execution_count": 10,
   "metadata": {},
   "outputs": [
    {
     "name": "stdout",
     "output_type": "stream",
     "text": [
      "cnbc.com appears in 1247 subreddits.\n",
      "bbc.co.uk appears in 1095 subreddits.\n",
      "reuters.com appears in 1538 subreddits.\n",
      "nytimes.com appears in 2174 subreddits.\n",
      "nbcnews.com appears in 1056 subreddits.\n",
      "cnn.com appears in 1510 subreddits.\n",
      "apnews.com appears in 1193 subreddits.\n",
      "linkedin.com appears in 1506 subreddits.\n",
      "washingtonpost.com appears in 1306 subreddits.\n",
      "anchor.fm appears in 1049 subreddits.\n"
     ]
    }
   ],
   "source": [
    "for ns in ns_subreddit:\n",
    "    count = subreddit_count[ns]\n",
    "    if count > 1000:\n",
    "        print(f\"{ns} appears in {count} subreddits.\")"
   ]
  },
  {
   "cell_type": "markdown",
   "metadata": {},
   "source": [
    "Not sure why `cnbc.com` appears in so many subreddits. Canada! Linkedin appears a lot too, people sharing about themselves? But anonymous?"
   ]
  },
  {
   "cell_type": "markdown",
   "metadata": {},
   "source": [
    "## Cluster Try Out"
   ]
  },
  {
   "cell_type": "markdown",
   "metadata": {},
   "source": [
    "First, I make a list of subreddits with fixed order."
   ]
  },
  {
   "cell_type": "code",
   "execution_count": 11,
   "metadata": {},
   "outputs": [],
   "source": [
    "with open(\"subreddit_ns.json\", \"r\", encoding = \"utf-8\") as infile:\n",
    "    subreddit_ns = json.load(infile)"
   ]
  },
  {
   "cell_type": "code",
   "execution_count": 12,
   "metadata": {},
   "outputs": [
    {
     "data": {
      "text/plain": [
       "20755"
      ]
     },
     "execution_count": 12,
     "metadata": {},
     "output_type": "execute_result"
    }
   ],
   "source": [
    "subreddits = list(subreddit_ns.keys())\n",
    "len(subreddits)"
   ]
  },
  {
   "cell_type": "markdown",
   "metadata": {},
   "source": [
    "There are 20755 subreddits."
   ]
  },
  {
   "cell_type": "code",
   "execution_count": 14,
   "metadata": {},
   "outputs": [
    {
     "data": {
      "text/plain": [
       "['razorbacks',\n",
       " 'todayilearned',\n",
       " 'nofeenews',\n",
       " 'newsokur',\n",
       " 'Ecatepec',\n",
       " 'AntiHateCommunities',\n",
       " 'anime',\n",
       " 'worldnews',\n",
       " 'TickerNews',\n",
       " 'DeFiBuzz']"
      ]
     },
     "execution_count": 14,
     "metadata": {},
     "output_type": "execute_result"
    }
   ],
   "source": [
    "subreddits[:10]"
   ]
  },
  {
   "cell_type": "markdown",
   "metadata": {},
   "source": [
    "If I should order them later, I can do so."
   ]
  },
  {
   "cell_type": "markdown",
   "metadata": {},
   "source": [
    "Then, for each news source, I create a list of length 20755 (# subreddits), and the values would be the count of how many times that news source appears in subreddit index *i*, where the index is based on the list `subreddits`."
   ]
  },
  {
   "cell_type": "code",
   "execution_count": 15,
   "metadata": {},
   "outputs": [],
   "source": [
    "ns_sr_rep = dict()\n",
    "for ns in ns_subreddit:\n",
    "    ns_sr_rep[ns] = [ns_subreddit[ns][subreddits[idx]] if subreddits[idx] in ns_subreddit[ns] else 0 for idx in range(len(subreddits))]"
   ]
  },
  {
   "cell_type": "markdown",
   "metadata": {},
   "source": [
    "Let's see one example of representation for `nytimes.com`."
   ]
  },
  {
   "cell_type": "code",
   "execution_count": 16,
   "metadata": {
    "collapsed": true
   },
   "outputs": [
    {
     "data": {
      "text/plain": [
       "[0,\n",
       " 61,\n",
       " 0,\n",
       " 0,\n",
       " 0,\n",
       " 0,\n",
       " 0,\n",
       " 261,\n",
       " 0,\n",
       " 1,\n",
       " 0,\n",
       " 1454,\n",
       " 0,\n",
       " 0,\n",
       " 3788,\n",
       " 167,\n",
       " 435,\n",
       " 32,\n",
       " 1,\n",
       " 22,\n",
       " 61,\n",
       " 0,\n",
       " 0,\n",
       " 8,\n",
       " 0,\n",
       " 0,\n",
       " 1,\n",
       " 6,\n",
       " 775,\n",
       " 17,\n",
       " 0,\n",
       " 6,\n",
       " 243,\n",
       " 0,\n",
       " 10,\n",
       " 0,\n",
       " 0,\n",
       " 0,\n",
       " 0,\n",
       " 0,\n",
       " 4,\n",
       " 2,\n",
       " 0,\n",
       " 0,\n",
       " 0,\n",
       " 0,\n",
       " 0,\n",
       " 62,\n",
       " 0,\n",
       " 0,\n",
       " 4,\n",
       " 1,\n",
       " 1,\n",
       " 0,\n",
       " 0,\n",
       " 14,\n",
       " 2,\n",
       " 0,\n",
       " 5,\n",
       " 0,\n",
       " 1,\n",
       " 0,\n",
       " 0,\n",
       " 5,\n",
       " 0,\n",
       " 0,\n",
       " 0,\n",
       " 8,\n",
       " 0,\n",
       " 0,\n",
       " 0,\n",
       " 0,\n",
       " 15,\n",
       " 0,\n",
       " 1,\n",
       " 0,\n",
       " 31,\n",
       " 0,\n",
       " 0,\n",
       " 0,\n",
       " 0,\n",
       " 0,\n",
       " 22,\n",
       " 0,\n",
       " 47,\n",
       " 0,\n",
       " 12,\n",
       " 197,\n",
       " 47,\n",
       " 4,\n",
       " 1,\n",
       " 0,\n",
       " 8,\n",
       " 0,\n",
       " 4,\n",
       " 14,\n",
       " 0,\n",
       " 0,\n",
       " 6,\n",
       " 4,\n",
       " 0,\n",
       " 0,\n",
       " 109,\n",
       " 4,\n",
       " 2,\n",
       " 2,\n",
       " 0,\n",
       " 13,\n",
       " 0,\n",
       " 0,\n",
       " 0,\n",
       " 0,\n",
       " 0,\n",
       " 1,\n",
       " 1,\n",
       " 2,\n",
       " 0,\n",
       " 1,\n",
       " 2,\n",
       " 77,\n",
       " 4,\n",
       " 0,\n",
       " 0,\n",
       " 3798,\n",
       " 63,\n",
       " 7,\n",
       " 0,\n",
       " 21,\n",
       " 8,\n",
       " 0,\n",
       " 2,\n",
       " 0,\n",
       " 0,\n",
       " 0,\n",
       " 0,\n",
       " 0,\n",
       " 20,\n",
       " 0,\n",
       " 0,\n",
       " 0,\n",
       " 1,\n",
       " 1,\n",
       " 0,\n",
       " 2,\n",
       " 0,\n",
       " 0,\n",
       " 0,\n",
       " 2,\n",
       " 0,\n",
       " 2,\n",
       " 0,\n",
       " 0,\n",
       " 1,\n",
       " 6,\n",
       " 2,\n",
       " 0,\n",
       " 0,\n",
       " 3,\n",
       " 0,\n",
       " 0,\n",
       " 1,\n",
       " 33,\n",
       " 0,\n",
       " 0,\n",
       " 0,\n",
       " 0,\n",
       " 1,\n",
       " 0,\n",
       " 3,\n",
       " 0,\n",
       " 1,\n",
       " 0,\n",
       " 0,\n",
       " 4,\n",
       " 72,\n",
       " 0,\n",
       " 0,\n",
       " 0,\n",
       " 4,\n",
       " 0,\n",
       " 0,\n",
       " 0,\n",
       " 2,\n",
       " 4,\n",
       " 1,\n",
       " 1,\n",
       " 0,\n",
       " 7,\n",
       " 5,\n",
       " 0,\n",
       " 1,\n",
       " 1,\n",
       " 0,\n",
       " 0,\n",
       " 1,\n",
       " 1,\n",
       " 0,\n",
       " 0,\n",
       " 14,\n",
       " 37,\n",
       " 0,\n",
       " 0,\n",
       " 0,\n",
       " 0,\n",
       " 15,\n",
       " 1,\n",
       " 9,\n",
       " 0,\n",
       " 0,\n",
       " 0,\n",
       " 0,\n",
       " 7,\n",
       " 0,\n",
       " 1,\n",
       " 0,\n",
       " 3,\n",
       " 198,\n",
       " 0,\n",
       " 9,\n",
       " 0,\n",
       " 0,\n",
       " 0,\n",
       " 0,\n",
       " 0,\n",
       " 0,\n",
       " 39,\n",
       " 0,\n",
       " 27,\n",
       " 9,\n",
       " 3,\n",
       " 1,\n",
       " 0,\n",
       " 0,\n",
       " 0,\n",
       " 0,\n",
       " 0,\n",
       " 0,\n",
       " 0,\n",
       " 4,\n",
       " 32,\n",
       " 0,\n",
       " 0,\n",
       " 3,\n",
       " 0,\n",
       " 0,\n",
       " 211,\n",
       " 0,\n",
       " 0,\n",
       " 0,\n",
       " 40,\n",
       " 61,\n",
       " 0,\n",
       " 0,\n",
       " 1,\n",
       " 0,\n",
       " 0,\n",
       " 0,\n",
       " 0,\n",
       " 0,\n",
       " 0,\n",
       " 0,\n",
       " 0,\n",
       " 0,\n",
       " 0,\n",
       " 0,\n",
       " 322,\n",
       " 0,\n",
       " 0,\n",
       " 2,\n",
       " 0,\n",
       " 3,\n",
       " 9,\n",
       " 2,\n",
       " 16,\n",
       " 10,\n",
       " 0,\n",
       " 2,\n",
       " 0,\n",
       " 2,\n",
       " 11,\n",
       " 0,\n",
       " 0,\n",
       " 0,\n",
       " 2,\n",
       " 0,\n",
       " 48,\n",
       " 51,\n",
       " 0,\n",
       " 0,\n",
       " 0,\n",
       " 6,\n",
       " 0,\n",
       " 0,\n",
       " 132,\n",
       " 21,\n",
       " 13,\n",
       " 1,\n",
       " 0,\n",
       " 1,\n",
       " 0,\n",
       " 0,\n",
       " 0,\n",
       " 0,\n",
       " 0,\n",
       " 2,\n",
       " 0,\n",
       " 0,\n",
       " 0,\n",
       " 0,\n",
       " 0,\n",
       " 8,\n",
       " 0,\n",
       " 7,\n",
       " 0,\n",
       " 0,\n",
       " 0,\n",
       " 0,\n",
       " 0,\n",
       " 1,\n",
       " 5322,\n",
       " 7,\n",
       " 0,\n",
       " 0,\n",
       " 10,\n",
       " 1,\n",
       " 0,\n",
       " 0,\n",
       " 3,\n",
       " 4,\n",
       " 1,\n",
       " 0,\n",
       " 13,\n",
       " 1,\n",
       " 0,\n",
       " 0,\n",
       " 0,\n",
       " 32,\n",
       " 1,\n",
       " 122,\n",
       " 1,\n",
       " 0,\n",
       " 0,\n",
       " 0,\n",
       " 1,\n",
       " 0,\n",
       " 0,\n",
       " 2,\n",
       " 0,\n",
       " 0,\n",
       " 1,\n",
       " 0,\n",
       " 11,\n",
       " 0,\n",
       " 0,\n",
       " 0,\n",
       " 0,\n",
       " 0,\n",
       " 0,\n",
       " 1,\n",
       " 0,\n",
       " 6,\n",
       " 0,\n",
       " 0,\n",
       " 0,\n",
       " 3,\n",
       " 1,\n",
       " 13,\n",
       " 1,\n",
       " 0,\n",
       " 4,\n",
       " 0,\n",
       " 4,\n",
       " 1,\n",
       " 2,\n",
       " 1,\n",
       " 3,\n",
       " 2,\n",
       " 0,\n",
       " 0,\n",
       " 0,\n",
       " 1,\n",
       " 0,\n",
       " 2,\n",
       " 18,\n",
       " 2,\n",
       " 0,\n",
       " 38,\n",
       " 6,\n",
       " 0,\n",
       " 0,\n",
       " 9,\n",
       " 0,\n",
       " 0,\n",
       " 14,\n",
       " 0,\n",
       " 0,\n",
       " 0,\n",
       " 0,\n",
       " 0,\n",
       " 2,\n",
       " 0,\n",
       " 9,\n",
       " 0,\n",
       " 7,\n",
       " 0,\n",
       " 0,\n",
       " 0,\n",
       " 0,\n",
       " 31,\n",
       " 4,\n",
       " 1,\n",
       " 3,\n",
       " 0,\n",
       " 0,\n",
       " 0,\n",
       " 7,\n",
       " 1,\n",
       " 0,\n",
       " 2,\n",
       " 0,\n",
       " 2,\n",
       " 52,\n",
       " 0,\n",
       " 3,\n",
       " 0,\n",
       " 42,\n",
       " 0,\n",
       " 1,\n",
       " 3,\n",
       " 0,\n",
       " 0,\n",
       " 20,\n",
       " 0,\n",
       " 36,\n",
       " 0,\n",
       " 0,\n",
       " 0,\n",
       " 0,\n",
       " 0,\n",
       " 0,\n",
       " 0,\n",
       " 28,\n",
       " 0,\n",
       " 155,\n",
       " 0,\n",
       " 0,\n",
       " 0,\n",
       " 0,\n",
       " 0,\n",
       " 14,\n",
       " 3,\n",
       " 0,\n",
       " 9,\n",
       " 0,\n",
       " 58,\n",
       " 1,\n",
       " 6,\n",
       " 0,\n",
       " 1,\n",
       " 3,\n",
       " 0,\n",
       " 4,\n",
       " 36,\n",
       " 4,\n",
       " 9,\n",
       " 0,\n",
       " 0,\n",
       " 0,\n",
       " 0,\n",
       " 0,\n",
       " 4,\n",
       " 0,\n",
       " 0,\n",
       " 0,\n",
       " 0,\n",
       " 1,\n",
       " 1,\n",
       " 12,\n",
       " 0,\n",
       " 0,\n",
       " 7,\n",
       " 2,\n",
       " 1,\n",
       " 0,\n",
       " 0,\n",
       " 5,\n",
       " 170,\n",
       " 0,\n",
       " 2,\n",
       " 5,\n",
       " 0,\n",
       " 0,\n",
       " 0,\n",
       " 0,\n",
       " 1,\n",
       " 0,\n",
       " 0,\n",
       " 0,\n",
       " 0,\n",
       " 0,\n",
       " 5,\n",
       " 4,\n",
       " 30,\n",
       " 1,\n",
       " 0,\n",
       " 0,\n",
       " 4,\n",
       " 0,\n",
       " 0,\n",
       " 0,\n",
       " 0,\n",
       " 7,\n",
       " 12,\n",
       " 9,\n",
       " 1,\n",
       " 0,\n",
       " 5,\n",
       " 3,\n",
       " 0,\n",
       " 1,\n",
       " 9,\n",
       " 0,\n",
       " 0,\n",
       " 0,\n",
       " 3,\n",
       " 0,\n",
       " 0,\n",
       " 0,\n",
       " 15,\n",
       " 1,\n",
       " 0,\n",
       " 0,\n",
       " 13,\n",
       " 0,\n",
       " 0,\n",
       " 6,\n",
       " 0,\n",
       " 0,\n",
       " 2,\n",
       " 0,\n",
       " 12,\n",
       " 4,\n",
       " 1,\n",
       " 2,\n",
       " 0,\n",
       " 0,\n",
       " 0,\n",
       " 0,\n",
       " 0,\n",
       " 0,\n",
       " 0,\n",
       " 4,\n",
       " 0,\n",
       " 0,\n",
       " 2,\n",
       " 0,\n",
       " 1,\n",
       " 0,\n",
       " 1,\n",
       " 0,\n",
       " 8,\n",
       " 5,\n",
       " 0,\n",
       " 0,\n",
       " 0,\n",
       " 0,\n",
       " 0,\n",
       " 0,\n",
       " 0,\n",
       " 0,\n",
       " 8,\n",
       " 0,\n",
       " 0,\n",
       " 0,\n",
       " 6,\n",
       " 0,\n",
       " 50,\n",
       " 0,\n",
       " 0,\n",
       " 4,\n",
       " 0,\n",
       " 0,\n",
       " 2,\n",
       " 3,\n",
       " 0,\n",
       " 0,\n",
       " 0,\n",
       " 0,\n",
       " 1,\n",
       " 0,\n",
       " 0,\n",
       " 2,\n",
       " 0,\n",
       " 0,\n",
       " 0,\n",
       " 0,\n",
       " 0,\n",
       " 0,\n",
       " 0,\n",
       " 1,\n",
       " 1,\n",
       " 0,\n",
       " 1,\n",
       " 0,\n",
       " 0,\n",
       " 0,\n",
       " 0,\n",
       " 0,\n",
       " 0,\n",
       " 7,\n",
       " 0,\n",
       " 2,\n",
       " 8,\n",
       " 0,\n",
       " 0,\n",
       " 6,\n",
       " 0,\n",
       " 0,\n",
       " 0,\n",
       " 4,\n",
       " 7,\n",
       " 7,\n",
       " 0,\n",
       " 1,\n",
       " 0,\n",
       " 0,\n",
       " 14,\n",
       " 0,\n",
       " 0,\n",
       " 0,\n",
       " 1,\n",
       " 16,\n",
       " 6,\n",
       " 0,\n",
       " 0,\n",
       " 0,\n",
       " 0,\n",
       " 0,\n",
       " 0,\n",
       " 0,\n",
       " 0,\n",
       " 9,\n",
       " 1,\n",
       " 7,\n",
       " 8,\n",
       " 6,\n",
       " 3,\n",
       " 0,\n",
       " 1,\n",
       " 10,\n",
       " 0,\n",
       " 2,\n",
       " 4,\n",
       " 0,\n",
       " 0,\n",
       " 0,\n",
       " 0,\n",
       " 0,\n",
       " 0,\n",
       " 1,\n",
       " 0,\n",
       " 4,\n",
       " 0,\n",
       " 1,\n",
       " 0,\n",
       " 0,\n",
       " 0,\n",
       " 0,\n",
       " 1,\n",
       " 0,\n",
       " 8,\n",
       " 2,\n",
       " 0,\n",
       " 0,\n",
       " 0,\n",
       " 0,\n",
       " 12,\n",
       " 1,\n",
       " 1,\n",
       " 0,\n",
       " 17,\n",
       " 2,\n",
       " 0,\n",
       " 0,\n",
       " 24,\n",
       " 0,\n",
       " 3,\n",
       " 2,\n",
       " 0,\n",
       " 0,\n",
       " 0,\n",
       " 0,\n",
       " 0,\n",
       " 1,\n",
       " 0,\n",
       " 1,\n",
       " 3,\n",
       " 0,\n",
       " 0,\n",
       " 12,\n",
       " 0,\n",
       " 0,\n",
       " 0,\n",
       " 0,\n",
       " 1,\n",
       " 3,\n",
       " 1,\n",
       " 2,\n",
       " 0,\n",
       " 11,\n",
       " 0,\n",
       " 1,\n",
       " 0,\n",
       " 1,\n",
       " 0,\n",
       " 0,\n",
       " 2,\n",
       " 3,\n",
       " 4,\n",
       " 0,\n",
       " 0,\n",
       " 4,\n",
       " 2,\n",
       " 2,\n",
       " 0,\n",
       " 0,\n",
       " 0,\n",
       " 0,\n",
       " 0,\n",
       " 5,\n",
       " 0,\n",
       " 1,\n",
       " 0,\n",
       " 0,\n",
       " 0,\n",
       " 0,\n",
       " 0,\n",
       " 0,\n",
       " 0,\n",
       " 0,\n",
       " 0,\n",
       " 0,\n",
       " 3,\n",
       " 49,\n",
       " 0,\n",
       " 0,\n",
       " 0,\n",
       " 2,\n",
       " 1,\n",
       " 0,\n",
       " 4,\n",
       " 0,\n",
       " 0,\n",
       " 4,\n",
       " 0,\n",
       " 4,\n",
       " 0,\n",
       " 0,\n",
       " 3,\n",
       " 0,\n",
       " 0,\n",
       " 0,\n",
       " 1,\n",
       " 2,\n",
       " 0,\n",
       " 0,\n",
       " 0,\n",
       " 0,\n",
       " 0,\n",
       " 1,\n",
       " 1,\n",
       " 0,\n",
       " 0,\n",
       " 5,\n",
       " 0,\n",
       " 0,\n",
       " 2,\n",
       " 60,\n",
       " 0,\n",
       " 4,\n",
       " 4,\n",
       " 2,\n",
       " 0,\n",
       " 1,\n",
       " 0,\n",
       " 0,\n",
       " 1,\n",
       " 4,\n",
       " 2,\n",
       " 0,\n",
       " 0,\n",
       " 1,\n",
       " 0,\n",
       " 0,\n",
       " 0,\n",
       " 0,\n",
       " 6,\n",
       " 4,\n",
       " 0,\n",
       " 11,\n",
       " 0,\n",
       " 0,\n",
       " 0,\n",
       " 0,\n",
       " 0,\n",
       " 6,\n",
       " 0,\n",
       " 0,\n",
       " 0,\n",
       " 0,\n",
       " 3,\n",
       " 0,\n",
       " 2,\n",
       " 0,\n",
       " 0,\n",
       " 0,\n",
       " 6,\n",
       " 0,\n",
       " 0,\n",
       " 2,\n",
       " 0,\n",
       " 0,\n",
       " 0,\n",
       " 0,\n",
       " 0,\n",
       " 0,\n",
       " 0,\n",
       " 1,\n",
       " 2,\n",
       " 0,\n",
       " 0,\n",
       " 0,\n",
       " 2,\n",
       " 3,\n",
       " 1,\n",
       " 0,\n",
       " 0,\n",
       " 0,\n",
       " 0,\n",
       " 2,\n",
       " 4,\n",
       " 0,\n",
       " 0,\n",
       " 0,\n",
       " 2,\n",
       " 8,\n",
       " 0,\n",
       " 2,\n",
       " 2,\n",
       " 12,\n",
       " 0,\n",
       " 1,\n",
       " 0,\n",
       " 0,\n",
       " 1,\n",
       " 0,\n",
       " 5,\n",
       " 0,\n",
       " 1,\n",
       " 1,\n",
       " 0,\n",
       " 0,\n",
       " 0,\n",
       " 0,\n",
       " 4,\n",
       " 0,\n",
       " 0,\n",
       " 6,\n",
       " 0,\n",
       " 36,\n",
       " 0,\n",
       " 1,\n",
       " 11,\n",
       " 0,\n",
       " 11,\n",
       " 0,\n",
       " 0,\n",
       " 0,\n",
       " 0,\n",
       " 0,\n",
       " 0,\n",
       " 0,\n",
       " 4,\n",
       " 7,\n",
       " 5,\n",
       " 0,\n",
       " 1,\n",
       " 0,\n",
       " 0,\n",
       " 0,\n",
       " 11,\n",
       " 0,\n",
       " 11,\n",
       " 0,\n",
       " 1,\n",
       " 0,\n",
       " 2,\n",
       " 0,\n",
       " 0,\n",
       " 1,\n",
       " 0,\n",
       " 0,\n",
       " 2,\n",
       " 1,\n",
       " 6,\n",
       " 1,\n",
       " 0,\n",
       " 4,\n",
       " 0,\n",
       " 0,\n",
       " 0,\n",
       " 0,\n",
       " 0,\n",
       " 0,\n",
       " 0,\n",
       " 17,\n",
       " 0,\n",
       " 0,\n",
       " 0,\n",
       " 0,\n",
       " 0,\n",
       " 0,\n",
       " 2,\n",
       " 0,\n",
       " 0,\n",
       " 0,\n",
       " 0,\n",
       " 0,\n",
       " 1,\n",
       " 1,\n",
       " 1,\n",
       " 0,\n",
       " 0,\n",
       " 0,\n",
       " 0,\n",
       " 0,\n",
       " 0,\n",
       " 0,\n",
       " 0,\n",
       " 0,\n",
       " 0,\n",
       " 0,\n",
       " 0,\n",
       " 2,\n",
       " 9,\n",
       " 0,\n",
       " 0,\n",
       " 2,\n",
       " 0,\n",
       " 4,\n",
       " 5,\n",
       " 0,\n",
       " 0,\n",
       " 3,\n",
       " 0,\n",
       " 0,\n",
       " 0,\n",
       " 0,\n",
       " 0,\n",
       " 0,\n",
       " 6,\n",
       " 0,\n",
       " 0,\n",
       " 0,\n",
       " 1,\n",
       " 0,\n",
       " 0,\n",
       " 0,\n",
       " 0,\n",
       " 0,\n",
       " 1,\n",
       " 0,\n",
       " 0,\n",
       " 4,\n",
       " 0,\n",
       " 0,\n",
       " 1,\n",
       " 0,\n",
       " 4,\n",
       " 0,\n",
       " 0,\n",
       " 0,\n",
       " 0,\n",
       " 0,\n",
       " 0,\n",
       " 1,\n",
       " 0,\n",
       " 19,\n",
       " 0,\n",
       " 16,\n",
       " 0,\n",
       " 2,\n",
       " 0,\n",
       " 0,\n",
       " 0,\n",
       " 0,\n",
       " 0,\n",
       " 18,\n",
       " 18,\n",
       " 0,\n",
       " ...]"
      ]
     },
     "execution_count": 16,
     "metadata": {},
     "output_type": "execute_result"
    }
   ],
   "source": [
    "ns_sr_rep['nytimes.com']"
   ]
  },
  {
   "cell_type": "markdown",
   "metadata": {},
   "source": [
    "Now, I will cast those list representation values to be numpy arrays so I can preprocess them easily. Further, I will normalize each array."
   ]
  },
  {
   "cell_type": "code",
   "execution_count": 17,
   "metadata": {},
   "outputs": [
    {
     "data": {
      "text/plain": [
       "array([[0.00999301, 0.99930073, 0.01998601, 0.02997902]])"
      ]
     },
     "execution_count": 17,
     "metadata": {},
     "output_type": "execute_result"
    }
   ],
   "source": [
    "preprocessing.normalize(np.array([[1,100,2,3]]))"
   ]
  },
  {
   "cell_type": "code",
   "execution_count": 18,
   "metadata": {},
   "outputs": [
    {
     "data": {
      "text/plain": [
       "array([[0., 0., 0., 0.]])"
      ]
     },
     "execution_count": 18,
     "metadata": {},
     "output_type": "execute_result"
    }
   ],
   "source": [
    "scaler = StandardScaler()\n",
    "scaler.fit_transform(np.array([[1,100,2,3]]))"
   ]
  },
  {
   "cell_type": "markdown",
   "metadata": {},
   "source": [
    "Now I'm thinking, should I *normalize* or *standardize*?"
   ]
  },
  {
   "cell_type": "code",
   "execution_count": 19,
   "metadata": {},
   "outputs": [],
   "source": [
    "for ns in ns_sr_rep:\n",
    "    rep = ns_sr_rep[ns]\n",
    "    ns_sr_rep[ns] = preprocessing.normalize(np.array([rep]))"
   ]
  },
  {
   "cell_type": "markdown",
   "metadata": {},
   "source": [
    "Let's check for `nytimes.com`."
   ]
  },
  {
   "cell_type": "code",
   "execution_count": 20,
   "metadata": {},
   "outputs": [
    {
     "data": {
      "text/plain": [
       "array([0.        , 0.00783304, 0.        , ..., 0.        , 0.        ,\n",
       "       0.        ])"
      ]
     },
     "execution_count": 20,
     "metadata": {},
     "output_type": "execute_result"
    }
   ],
   "source": [
    "ns_sr_rep['nytimes.com'][0]"
   ]
  },
  {
   "cell_type": "markdown",
   "metadata": {},
   "source": [
    "## K-Means\n",
    "\n",
    "First, I need to find optimum `k`."
   ]
  },
  {
   "cell_type": "code",
   "execution_count": 21,
   "metadata": {},
   "outputs": [],
   "source": [
    "kmeans = KMeans(init = \"random\",\n",
    "               n_clusters = 5,\n",
    "               n_init = 10,\n",
    "               max_iter = 100)"
   ]
  },
  {
   "cell_type": "markdown",
   "metadata": {},
   "source": [
    "Freezing the list for representations and the news sources."
   ]
  },
  {
   "cell_type": "code",
   "execution_count": 25,
   "metadata": {},
   "outputs": [
    {
     "data": {
      "text/plain": [
       "('espn.com',\n",
       " array([[0.01245995, 0.00249199, 0.000623  , ..., 0.        , 0.        ,\n",
       "         0.        ]]))"
      ]
     },
     "execution_count": 25,
     "metadata": {},
     "output_type": "execute_result"
    }
   ],
   "source": [
    "items = list(ns_sr_rep.items())\n",
    "items[0]"
   ]
  },
  {
   "cell_type": "code",
   "execution_count": 26,
   "metadata": {},
   "outputs": [],
   "source": [
    "ns_repr, ns_fixed = np.array([v[1][0] for v in items]), list([v[0] for v in items])"
   ]
  },
  {
   "cell_type": "code",
   "execution_count": 27,
   "metadata": {},
   "outputs": [
    {
     "data": {
      "text/plain": [
       "KMeans(init='random', max_iter=100, n_clusters=5)"
      ]
     },
     "execution_count": 27,
     "metadata": {},
     "output_type": "execute_result"
    }
   ],
   "source": [
    "kmeans.fit([v[0] for v in ns_sr_rep.values()])"
   ]
  },
  {
   "cell_type": "code",
   "execution_count": 28,
   "metadata": {},
   "outputs": [
    {
     "name": "stdout",
     "output_type": "stream",
     "text": [
      "True\n"
     ]
    }
   ],
   "source": [
    "for i,ns in enumerate(ns_fixed):\n",
    "    if (ns_sr_rep[ns][0] == ns_repr[i]).all():\n",
    "        pass\n",
    "    else:\n",
    "        print(\"False\")\n",
    "print(\"True\")"
   ]
  },
  {
   "cell_type": "code",
   "execution_count": 29,
   "metadata": {},
   "outputs": [
    {
     "data": {
      "text/plain": [
       "3439.279659857618"
      ]
     },
     "execution_count": 29,
     "metadata": {},
     "output_type": "execute_result"
    }
   ],
   "source": [
    "kmeans.inertia_"
   ]
  },
  {
   "cell_type": "code",
   "execution_count": 30,
   "metadata": {},
   "outputs": [
    {
     "data": {
      "text/plain": [
       "14"
      ]
     },
     "execution_count": 30,
     "metadata": {},
     "output_type": "execute_result"
    }
   ],
   "source": [
    "kmeans.n_iter_"
   ]
  },
  {
   "cell_type": "code",
   "execution_count": 31,
   "metadata": {},
   "outputs": [
    {
     "data": {
      "text/plain": [
       "array([3, 0, 0, 3, 0, 0, 0, 3, 0, 0])"
      ]
     },
     "execution_count": 31,
     "metadata": {},
     "output_type": "execute_result"
    }
   ],
   "source": [
    "kmeans.labels_[:10]"
   ]
  },
  {
   "cell_type": "markdown",
   "metadata": {},
   "source": [
    "**Choosing the appropriate number of clusters**"
   ]
  },
  {
   "cell_type": "markdown",
   "metadata": {},
   "source": [
    "1. Elbow method"
   ]
  },
  {
   "cell_type": "code",
   "execution_count": 61,
   "metadata": {},
   "outputs": [],
   "source": [
    "kmeans_kwargs = {\n",
    "    \"init\": \"random\",\n",
    "    \"n_init\": 10,\n",
    "    \"max_iter\": 300,\n",
    "}"
   ]
  },
  {
   "cell_type": "code",
   "execution_count": 65,
   "metadata": {
    "collapsed": true
   },
   "outputs": [
    {
     "name": "stdout",
     "output_type": "stream",
     "text": [
      "have done 1 rounds, current sse is [3645.791550610924]\n",
      "have done 2 rounds, current sse is [3645.791550610924, 3543.7826439412133]\n",
      "have done 3 rounds, current sse is [3645.791550610924, 3543.7826439412133, 3494.3439505022857]\n",
      "have done 4 rounds, current sse is [3645.791550610924, 3543.7826439412133, 3494.3439505022857, 3459.764869218102]\n",
      "have done 5 rounds, current sse is [3645.791550610924, 3543.7826439412133, 3494.3439505022857, 3459.764869218102, 3435.958188120594]\n",
      "have done 6 rounds, current sse is [3645.791550610924, 3543.7826439412133, 3494.3439505022857, 3459.764869218102, 3435.958188120594, 3404.826061905686]\n",
      "have done 7 rounds, current sse is [3645.791550610924, 3543.7826439412133, 3494.3439505022857, 3459.764869218102, 3435.958188120594, 3404.826061905686, 3374.629163479639]\n",
      "have done 8 rounds, current sse is [3645.791550610924, 3543.7826439412133, 3494.3439505022857, 3459.764869218102, 3435.958188120594, 3404.826061905686, 3374.629163479639, 3379.6703640936303]\n",
      "have done 9 rounds, current sse is [3645.791550610924, 3543.7826439412133, 3494.3439505022857, 3459.764869218102, 3435.958188120594, 3404.826061905686, 3374.629163479639, 3379.6703640936303, 3356.086493295629]\n",
      "have done 10 rounds, current sse is [3645.791550610924, 3543.7826439412133, 3494.3439505022857, 3459.764869218102, 3435.958188120594, 3404.826061905686, 3374.629163479639, 3379.6703640936303, 3356.086493295629, 3333.704027565556]\n",
      "have done 11 rounds, current sse is [3645.791550610924, 3543.7826439412133, 3494.3439505022857, 3459.764869218102, 3435.958188120594, 3404.826061905686, 3374.629163479639, 3379.6703640936303, 3356.086493295629, 3333.704027565556, 3304.5870223099037]\n",
      "have done 12 rounds, current sse is [3645.791550610924, 3543.7826439412133, 3494.3439505022857, 3459.764869218102, 3435.958188120594, 3404.826061905686, 3374.629163479639, 3379.6703640936303, 3356.086493295629, 3333.704027565556, 3304.5870223099037, 3284.966883295817]\n",
      "have done 13 rounds, current sse is [3645.791550610924, 3543.7826439412133, 3494.3439505022857, 3459.764869218102, 3435.958188120594, 3404.826061905686, 3374.629163479639, 3379.6703640936303, 3356.086493295629, 3333.704027565556, 3304.5870223099037, 3284.966883295817, 3281.633068658084]\n",
      "have done 14 rounds, current sse is [3645.791550610924, 3543.7826439412133, 3494.3439505022857, 3459.764869218102, 3435.958188120594, 3404.826061905686, 3374.629163479639, 3379.6703640936303, 3356.086493295629, 3333.704027565556, 3304.5870223099037, 3284.966883295817, 3281.633068658084, 3281.2210982386728]\n",
      "have done 15 rounds, current sse is [3645.791550610924, 3543.7826439412133, 3494.3439505022857, 3459.764869218102, 3435.958188120594, 3404.826061905686, 3374.629163479639, 3379.6703640936303, 3356.086493295629, 3333.704027565556, 3304.5870223099037, 3284.966883295817, 3281.633068658084, 3281.2210982386728, 3272.5664906397355]\n",
      "have done 16 rounds, current sse is [3645.791550610924, 3543.7826439412133, 3494.3439505022857, 3459.764869218102, 3435.958188120594, 3404.826061905686, 3374.629163479639, 3379.6703640936303, 3356.086493295629, 3333.704027565556, 3304.5870223099037, 3284.966883295817, 3281.633068658084, 3281.2210982386728, 3272.5664906397355, 3236.9730518882966]\n",
      "have done 17 rounds, current sse is [3645.791550610924, 3543.7826439412133, 3494.3439505022857, 3459.764869218102, 3435.958188120594, 3404.826061905686, 3374.629163479639, 3379.6703640936303, 3356.086493295629, 3333.704027565556, 3304.5870223099037, 3284.966883295817, 3281.633068658084, 3281.2210982386728, 3272.5664906397355, 3236.9730518882966, 3258.5049955557242]\n",
      "have done 18 rounds, current sse is [3645.791550610924, 3543.7826439412133, 3494.3439505022857, 3459.764869218102, 3435.958188120594, 3404.826061905686, 3374.629163479639, 3379.6703640936303, 3356.086493295629, 3333.704027565556, 3304.5870223099037, 3284.966883295817, 3281.633068658084, 3281.2210982386728, 3272.5664906397355, 3236.9730518882966, 3258.5049955557242, 3239.836945139774]\n",
      "have done 19 rounds, current sse is [3645.791550610924, 3543.7826439412133, 3494.3439505022857, 3459.764869218102, 3435.958188120594, 3404.826061905686, 3374.629163479639, 3379.6703640936303, 3356.086493295629, 3333.704027565556, 3304.5870223099037, 3284.966883295817, 3281.633068658084, 3281.2210982386728, 3272.5664906397355, 3236.9730518882966, 3258.5049955557242, 3239.836945139774, 3200.3322782637665]\n"
     ]
    }
   ],
   "source": [
    "sse = []\n",
    "for k in range(1,20):\n",
    "    kmeans = KMeans(n_clusters = k, **kmeans_kwargs)\n",
    "    kmeans.fit(ns_repr)\n",
    "    sse.append(kmeans.inertia_)\n",
    "    print(f\"have done {k} rounds, current sse is {sse}\")"
   ]
  },
  {
   "cell_type": "code",
   "execution_count": 70,
   "metadata": {},
   "outputs": [
    {
     "data": {
      "text/plain": [
       "[<matplotlib.lines.Line2D at 0x1af269f42b0>]"
      ]
     },
     "execution_count": 70,
     "metadata": {},
     "output_type": "execute_result"
    },
    {
     "data": {
      "image/png": "[encoded data removed]",
      "text/plain": [
       "<Figure size 432x288 with 1 Axes>"
      ]
     },
     "metadata": {
      "needs_background": "light"
     },
     "output_type": "display_data"
    }
   ],
   "source": [
    "plt.plot(range(1,20),sse,\"go-\")"
   ]
  },
  {
   "cell_type": "code",
   "execution_count": 71,
   "metadata": {
    "collapsed": true
   },
   "outputs": [
    {
     "name": "stdout",
     "output_type": "stream",
     "text": [
      "have done 20 rounds, current sse is [3645.791550610924, 3543.7826439412133, 3494.3439505022857, 3459.764869218102, 3435.958188120594, 3404.826061905686, 3374.629163479639, 3379.6703640936303, 3356.086493295629, 3333.704027565556, 3304.5870223099037, 3284.966883295817, 3281.633068658084, 3281.2210982386728, 3272.5664906397355, 3236.9730518882966, 3258.5049955557242, 3239.836945139774, 3200.3322782637665, 3212.7230032328457]\n",
      "have done 21 rounds, current sse is [3645.791550610924, 3543.7826439412133, 3494.3439505022857, 3459.764869218102, 3435.958188120594, 3404.826061905686, 3374.629163479639, 3379.6703640936303, 3356.086493295629, 3333.704027565556, 3304.5870223099037, 3284.966883295817, 3281.633068658084, 3281.2210982386728, 3272.5664906397355, 3236.9730518882966, 3258.5049955557242, 3239.836945139774, 3200.3322782637665, 3212.7230032328457, 3152.7196174683286]\n",
      "have done 22 rounds, current sse is [3645.791550610924, 3543.7826439412133, 3494.3439505022857, 3459.764869218102, 3435.958188120594, 3404.826061905686, 3374.629163479639, 3379.6703640936303, 3356.086493295629, 3333.704027565556, 3304.5870223099037, 3284.966883295817, 3281.633068658084, 3281.2210982386728, 3272.5664906397355, 3236.9730518882966, 3258.5049955557242, 3239.836945139774, 3200.3322782637665, 3212.7230032328457, 3152.7196174683286, 3199.442792087385]\n",
      "have done 23 rounds, current sse is [3645.791550610924, 3543.7826439412133, 3494.3439505022857, 3459.764869218102, 3435.958188120594, 3404.826061905686, 3374.629163479639, 3379.6703640936303, 3356.086493295629, 3333.704027565556, 3304.5870223099037, 3284.966883295817, 3281.633068658084, 3281.2210982386728, 3272.5664906397355, 3236.9730518882966, 3258.5049955557242, 3239.836945139774, 3200.3322782637665, 3212.7230032328457, 3152.7196174683286, 3199.442792087385, 3160.992753363927]\n",
      "have done 24 rounds, current sse is [3645.791550610924, 3543.7826439412133, 3494.3439505022857, 3459.764869218102, 3435.958188120594, 3404.826061905686, 3374.629163479639, 3379.6703640936303, 3356.086493295629, 3333.704027565556, 3304.5870223099037, 3284.966883295817, 3281.633068658084, 3281.2210982386728, 3272.5664906397355, 3236.9730518882966, 3258.5049955557242, 3239.836945139774, 3200.3322782637665, 3212.7230032328457, 3152.7196174683286, 3199.442792087385, 3160.992753363927, 3166.520388751286]\n",
      "have done 25 rounds, current sse is [3645.791550610924, 3543.7826439412133, 3494.3439505022857, 3459.764869218102, 3435.958188120594, 3404.826061905686, 3374.629163479639, 3379.6703640936303, 3356.086493295629, 3333.704027565556, 3304.5870223099037, 3284.966883295817, 3281.633068658084, 3281.2210982386728, 3272.5664906397355, 3236.9730518882966, 3258.5049955557242, 3239.836945139774, 3200.3322782637665, 3212.7230032328457, 3152.7196174683286, 3199.442792087385, 3160.992753363927, 3166.520388751286, 3124.0689586139056]\n",
      "have done 26 rounds, current sse is [3645.791550610924, 3543.7826439412133, 3494.3439505022857, 3459.764869218102, 3435.958188120594, 3404.826061905686, 3374.629163479639, 3379.6703640936303, 3356.086493295629, 3333.704027565556, 3304.5870223099037, 3284.966883295817, 3281.633068658084, 3281.2210982386728, 3272.5664906397355, 3236.9730518882966, 3258.5049955557242, 3239.836945139774, 3200.3322782637665, 3212.7230032328457, 3152.7196174683286, 3199.442792087385, 3160.992753363927, 3166.520388751286, 3124.0689586139056, 3155.4250096591954]\n",
      "have done 27 rounds, current sse is [3645.791550610924, 3543.7826439412133, 3494.3439505022857, 3459.764869218102, 3435.958188120594, 3404.826061905686, 3374.629163479639, 3379.6703640936303, 3356.086493295629, 3333.704027565556, 3304.5870223099037, 3284.966883295817, 3281.633068658084, 3281.2210982386728, 3272.5664906397355, 3236.9730518882966, 3258.5049955557242, 3239.836945139774, 3200.3322782637665, 3212.7230032328457, 3152.7196174683286, 3199.442792087385, 3160.992753363927, 3166.520388751286, 3124.0689586139056, 3155.4250096591954, 3129.4043371435127]\n",
      "have done 28 rounds, current sse is [3645.791550610924, 3543.7826439412133, 3494.3439505022857, 3459.764869218102, 3435.958188120594, 3404.826061905686, 3374.629163479639, 3379.6703640936303, 3356.086493295629, 3333.704027565556, 3304.5870223099037, 3284.966883295817, 3281.633068658084, 3281.2210982386728, 3272.5664906397355, 3236.9730518882966, 3258.5049955557242, 3239.836945139774, 3200.3322782637665, 3212.7230032328457, 3152.7196174683286, 3199.442792087385, 3160.992753363927, 3166.520388751286, 3124.0689586139056, 3155.4250096591954, 3129.4043371435127, 3111.862124435717]\n",
      "have done 29 rounds, current sse is [3645.791550610924, 3543.7826439412133, 3494.3439505022857, 3459.764869218102, 3435.958188120594, 3404.826061905686, 3374.629163479639, 3379.6703640936303, 3356.086493295629, 3333.704027565556, 3304.5870223099037, 3284.966883295817, 3281.633068658084, 3281.2210982386728, 3272.5664906397355, 3236.9730518882966, 3258.5049955557242, 3239.836945139774, 3200.3322782637665, 3212.7230032328457, 3152.7196174683286, 3199.442792087385, 3160.992753363927, 3166.520388751286, 3124.0689586139056, 3155.4250096591954, 3129.4043371435127, 3111.862124435717, 3114.0614609881727]\n",
      "have done 30 rounds, current sse is [3645.791550610924, 3543.7826439412133, 3494.3439505022857, 3459.764869218102, 3435.958188120594, 3404.826061905686, 3374.629163479639, 3379.6703640936303, 3356.086493295629, 3333.704027565556, 3304.5870223099037, 3284.966883295817, 3281.633068658084, 3281.2210982386728, 3272.5664906397355, 3236.9730518882966, 3258.5049955557242, 3239.836945139774, 3200.3322782637665, 3212.7230032328457, 3152.7196174683286, 3199.442792087385, 3160.992753363927, 3166.520388751286, 3124.0689586139056, 3155.4250096591954, 3129.4043371435127, 3111.862124435717, 3114.0614609881727, 3092.7004063246295]\n",
      "have done 31 rounds, current sse is [3645.791550610924, 3543.7826439412133, 3494.3439505022857, 3459.764869218102, 3435.958188120594, 3404.826061905686, 3374.629163479639, 3379.6703640936303, 3356.086493295629, 3333.704027565556, 3304.5870223099037, 3284.966883295817, 3281.633068658084, 3281.2210982386728, 3272.5664906397355, 3236.9730518882966, 3258.5049955557242, 3239.836945139774, 3200.3322782637665, 3212.7230032328457, 3152.7196174683286, 3199.442792087385, 3160.992753363927, 3166.520388751286, 3124.0689586139056, 3155.4250096591954, 3129.4043371435127, 3111.862124435717, 3114.0614609881727, 3092.7004063246295, 3080.492706138238]\n",
      "have done 32 rounds, current sse is [3645.791550610924, 3543.7826439412133, 3494.3439505022857, 3459.764869218102, 3435.958188120594, 3404.826061905686, 3374.629163479639, 3379.6703640936303, 3356.086493295629, 3333.704027565556, 3304.5870223099037, 3284.966883295817, 3281.633068658084, 3281.2210982386728, 3272.5664906397355, 3236.9730518882966, 3258.5049955557242, 3239.836945139774, 3200.3322782637665, 3212.7230032328457, 3152.7196174683286, 3199.442792087385, 3160.992753363927, 3166.520388751286, 3124.0689586139056, 3155.4250096591954, 3129.4043371435127, 3111.862124435717, 3114.0614609881727, 3092.7004063246295, 3080.492706138238, 3056.96168852659]\n",
      "have done 33 rounds, current sse is [3645.791550610924, 3543.7826439412133, 3494.3439505022857, 3459.764869218102, 3435.958188120594, 3404.826061905686, 3374.629163479639, 3379.6703640936303, 3356.086493295629, 3333.704027565556, 3304.5870223099037, 3284.966883295817, 3281.633068658084, 3281.2210982386728, 3272.5664906397355, 3236.9730518882966, 3258.5049955557242, 3239.836945139774, 3200.3322782637665, 3212.7230032328457, 3152.7196174683286, 3199.442792087385, 3160.992753363927, 3166.520388751286, 3124.0689586139056, 3155.4250096591954, 3129.4043371435127, 3111.862124435717, 3114.0614609881727, 3092.7004063246295, 3080.492706138238, 3056.96168852659, 3083.5561133415936]\n",
      "have done 34 rounds, current sse is [3645.791550610924, 3543.7826439412133, 3494.3439505022857, 3459.764869218102, 3435.958188120594, 3404.826061905686, 3374.629163479639, 3379.6703640936303, 3356.086493295629, 3333.704027565556, 3304.5870223099037, 3284.966883295817, 3281.633068658084, 3281.2210982386728, 3272.5664906397355, 3236.9730518882966, 3258.5049955557242, 3239.836945139774, 3200.3322782637665, 3212.7230032328457, 3152.7196174683286, 3199.442792087385, 3160.992753363927, 3166.520388751286, 3124.0689586139056, 3155.4250096591954, 3129.4043371435127, 3111.862124435717, 3114.0614609881727, 3092.7004063246295, 3080.492706138238, 3056.96168852659, 3083.5561133415936, 3042.4769512849966]\n"
     ]
    },
    {
     "name": "stdout",
     "output_type": "stream",
     "text": [
      "have done 35 rounds, current sse is [3645.791550610924, 3543.7826439412133, 3494.3439505022857, 3459.764869218102, 3435.958188120594, 3404.826061905686, 3374.629163479639, 3379.6703640936303, 3356.086493295629, 3333.704027565556, 3304.5870223099037, 3284.966883295817, 3281.633068658084, 3281.2210982386728, 3272.5664906397355, 3236.9730518882966, 3258.5049955557242, 3239.836945139774, 3200.3322782637665, 3212.7230032328457, 3152.7196174683286, 3199.442792087385, 3160.992753363927, 3166.520388751286, 3124.0689586139056, 3155.4250096591954, 3129.4043371435127, 3111.862124435717, 3114.0614609881727, 3092.7004063246295, 3080.492706138238, 3056.96168852659, 3083.5561133415936, 3042.4769512849966, 3081.1743673436467]\n",
      "have done 36 rounds, current sse is [3645.791550610924, 3543.7826439412133, 3494.3439505022857, 3459.764869218102, 3435.958188120594, 3404.826061905686, 3374.629163479639, 3379.6703640936303, 3356.086493295629, 3333.704027565556, 3304.5870223099037, 3284.966883295817, 3281.633068658084, 3281.2210982386728, 3272.5664906397355, 3236.9730518882966, 3258.5049955557242, 3239.836945139774, 3200.3322782637665, 3212.7230032328457, 3152.7196174683286, 3199.442792087385, 3160.992753363927, 3166.520388751286, 3124.0689586139056, 3155.4250096591954, 3129.4043371435127, 3111.862124435717, 3114.0614609881727, 3092.7004063246295, 3080.492706138238, 3056.96168852659, 3083.5561133415936, 3042.4769512849966, 3081.1743673436467, 3050.295672817685]\n",
      "have done 37 rounds, current sse is [3645.791550610924, 3543.7826439412133, 3494.3439505022857, 3459.764869218102, 3435.958188120594, 3404.826061905686, 3374.629163479639, 3379.6703640936303, 3356.086493295629, 3333.704027565556, 3304.5870223099037, 3284.966883295817, 3281.633068658084, 3281.2210982386728, 3272.5664906397355, 3236.9730518882966, 3258.5049955557242, 3239.836945139774, 3200.3322782637665, 3212.7230032328457, 3152.7196174683286, 3199.442792087385, 3160.992753363927, 3166.520388751286, 3124.0689586139056, 3155.4250096591954, 3129.4043371435127, 3111.862124435717, 3114.0614609881727, 3092.7004063246295, 3080.492706138238, 3056.96168852659, 3083.5561133415936, 3042.4769512849966, 3081.1743673436467, 3050.295672817685, 3039.4828367875434]\n",
      "have done 38 rounds, current sse is [3645.791550610924, 3543.7826439412133, 3494.3439505022857, 3459.764869218102, 3435.958188120594, 3404.826061905686, 3374.629163479639, 3379.6703640936303, 3356.086493295629, 3333.704027565556, 3304.5870223099037, 3284.966883295817, 3281.633068658084, 3281.2210982386728, 3272.5664906397355, 3236.9730518882966, 3258.5049955557242, 3239.836945139774, 3200.3322782637665, 3212.7230032328457, 3152.7196174683286, 3199.442792087385, 3160.992753363927, 3166.520388751286, 3124.0689586139056, 3155.4250096591954, 3129.4043371435127, 3111.862124435717, 3114.0614609881727, 3092.7004063246295, 3080.492706138238, 3056.96168852659, 3083.5561133415936, 3042.4769512849966, 3081.1743673436467, 3050.295672817685, 3039.4828367875434, 3036.444344286257]\n",
      "have done 39 rounds, current sse is [3645.791550610924, 3543.7826439412133, 3494.3439505022857, 3459.764869218102, 3435.958188120594, 3404.826061905686, 3374.629163479639, 3379.6703640936303, 3356.086493295629, 3333.704027565556, 3304.5870223099037, 3284.966883295817, 3281.633068658084, 3281.2210982386728, 3272.5664906397355, 3236.9730518882966, 3258.5049955557242, 3239.836945139774, 3200.3322782637665, 3212.7230032328457, 3152.7196174683286, 3199.442792087385, 3160.992753363927, 3166.520388751286, 3124.0689586139056, 3155.4250096591954, 3129.4043371435127, 3111.862124435717, 3114.0614609881727, 3092.7004063246295, 3080.492706138238, 3056.96168852659, 3083.5561133415936, 3042.4769512849966, 3081.1743673436467, 3050.295672817685, 3039.4828367875434, 3036.444344286257, 3046.121877743871]\n",
      "have done 40 rounds, current sse is [3645.791550610924, 3543.7826439412133, 3494.3439505022857, 3459.764869218102, 3435.958188120594, 3404.826061905686, 3374.629163479639, 3379.6703640936303, 3356.086493295629, 3333.704027565556, 3304.5870223099037, 3284.966883295817, 3281.633068658084, 3281.2210982386728, 3272.5664906397355, 3236.9730518882966, 3258.5049955557242, 3239.836945139774, 3200.3322782637665, 3212.7230032328457, 3152.7196174683286, 3199.442792087385, 3160.992753363927, 3166.520388751286, 3124.0689586139056, 3155.4250096591954, 3129.4043371435127, 3111.862124435717, 3114.0614609881727, 3092.7004063246295, 3080.492706138238, 3056.96168852659, 3083.5561133415936, 3042.4769512849966, 3081.1743673436467, 3050.295672817685, 3039.4828367875434, 3036.444344286257, 3046.121877743871, 3036.5397596853268]\n"
     ]
    }
   ],
   "source": [
    "for k in range(20,41):\n",
    "    kmeans = KMeans(n_clusters = k, **kmeans_kwargs)\n",
    "    kmeans.fit(ns_repr)\n",
    "    sse.append(kmeans.inertia_)\n",
    "    print(f\"have done {k} rounds, current sse is {sse}\")"
   ]
  },
  {
   "cell_type": "code",
   "execution_count": 72,
   "metadata": {},
   "outputs": [
    {
     "data": {
      "text/plain": [
       "[<matplotlib.lines.Line2D at 0x1af26aa1cd0>]"
      ]
     },
     "execution_count": 72,
     "metadata": {},
     "output_type": "execute_result"
    },
    {
     "data": {
      "image/png": "[encoded data removed]",
      "text/plain": [
       "<Figure size 432x288 with 1 Axes>"
      ]
     },
     "metadata": {
      "needs_background": "light"
     },
     "output_type": "display_data"
    }
   ],
   "source": [
    "plt.plot(range(1,41),sse,\"go-\")"
   ]
  },
  {
   "cell_type": "code",
   "execution_count": 76,
   "metadata": {},
   "outputs": [],
   "source": [
    "kl = KneeLocator(range(1,41), sse, curve=\"convex\", direction=\"decreasing\")"
   ]
  },
  {
   "cell_type": "code",
   "execution_count": 77,
   "metadata": {},
   "outputs": [
    {
     "data": {
      "text/plain": [
       "7"
      ]
     },
     "execution_count": 77,
     "metadata": {},
     "output_type": "execute_result"
    }
   ],
   "source": [
    "kl.elbow"
   ]
  },
  {
   "cell_type": "markdown",
   "metadata": {},
   "source": [
    "**Using Silhouette Coefficient**"
   ]
  },
  {
   "cell_type": "code",
   "execution_count": 79,
   "metadata": {
    "collapsed": true
   },
   "outputs": [
    {
     "name": "stdout",
     "output_type": "stream",
     "text": [
      "step 2\n",
      "step 3\n",
      "step 4\n",
      "step 5\n",
      "step 6\n",
      "step 7\n",
      "step 8\n",
      "step 9\n",
      "step 10\n",
      "step 11\n",
      "step 12\n",
      "step 13\n",
      "step 14\n",
      "step 15\n",
      "step 16\n",
      "step 17\n",
      "step 18\n",
      "step 19\n",
      "step 20\n",
      "step 21\n",
      "step 22\n",
      "step 23\n",
      "step 24\n",
      "step 25\n",
      "step 26\n",
      "step 27\n",
      "step 28\n",
      "step 29\n",
      "step 30\n",
      "step 31\n",
      "step 32\n",
      "step 33\n",
      "step 34\n",
      "step 35\n",
      "step 36\n",
      "step 37\n",
      "step 38\n",
      "step 39\n",
      "step 40\n",
      "step 41\n",
      "step 42\n",
      "step 43\n",
      "step 44\n",
      "step 45\n",
      "step 46\n",
      "step 47\n",
      "step 48\n",
      "step 49\n",
      "step 50\n"
     ]
    }
   ],
   "source": [
    "sc = []\n",
    "new_sse = []\n",
    "for k in range(2,51):\n",
    "    kmeans = KMeans(n_clusters = k, **kmeans_kwargs)\n",
    "    kmeans.fit(ns_repr)\n",
    "    score = silhouette_score(ns_repr, kmeans.labels_)\n",
    "    sc.append(score)\n",
    "    new_sse.append(kmeans.inertia_)\n",
    "    print(\"step {}\".format(k))"
   ]
  },
  {
   "cell_type": "code",
   "execution_count": 83,
   "metadata": {},
   "outputs": [
    {
     "data": {
      "text/plain": [
       "[<matplotlib.lines.Line2D at 0x1af26e3fbb0>]"
      ]
     },
     "execution_count": 83,
     "metadata": {},
     "output_type": "execute_result"
    },
    {
     "data": {
      "image/png": "[encoded data removed]",
      "text/plain": [
       "<Figure size 432x288 with 1 Axes>"
      ]
     },
     "metadata": {
      "needs_background": "light"
     },
     "output_type": "display_data"
    }
   ],
   "source": [
    "# for sse\n",
    "plt.plot(range(2,51), new_sse, \"go-\")"
   ]
  },
  {
   "cell_type": "code",
   "execution_count": 86,
   "metadata": {},
   "outputs": [
    {
     "data": {
      "text/plain": [
       "12"
      ]
     },
     "execution_count": 86,
     "metadata": {},
     "output_type": "execute_result"
    }
   ],
   "source": [
    "kl_new = KneeLocator(range(2,51), new_sse, curve=\"convex\", direction=\"decreasing\")\n",
    "kl_new.elbow"
   ]
  },
  {
   "cell_type": "code",
   "execution_count": 87,
   "metadata": {},
   "outputs": [
    {
     "data": {
      "text/plain": [
       "[<matplotlib.lines.Line2D at 0x1af26eec460>]"
      ]
     },
     "execution_count": 87,
     "metadata": {},
     "output_type": "execute_result"
    },
    {
     "data": {
      "image/png": "[encoded data removed]",
      "text/plain": [
       "<Figure size 432x288 with 1 Axes>"
      ]
     },
     "metadata": {
      "needs_background": "light"
     },
     "output_type": "display_data"
    }
   ],
   "source": [
    "# for silhouette coefficient\n",
    "plt.plot(range(2,51), sc, \"bo-\")"
   ]
  },
  {
   "cell_type": "code",
   "execution_count": 94,
   "metadata": {
    "scrolled": true
   },
   "outputs": [
    {
     "data": {
      "text/plain": [
       "[<matplotlib.lines.Line2D at 0x1af27176490>]"
      ]
     },
     "execution_count": 94,
     "metadata": {},
     "output_type": "execute_result"
    },
    {
     "data": {
      "image/png": "[encoded data removed]",
      "text/plain": [
       "<Figure size 432x288 with 1 Axes>"
      ]
     },
     "metadata": {
      "needs_background": "light"
     },
     "output_type": "display_data"
    }
   ],
   "source": [
    "\n",
    "\n",
    "spl = make_interp_spline(range(2,51), sc, k=3)  # type: BSpline\n",
    "\n",
    "xs = np.linspace(2, 50, 6)\n",
    "ys = spl(xs)\n",
    "\n",
    "plt.plot(range(2,51), sc, \"go--\")\n",
    "plt.plot(xs, ys, \"b-\")"
   ]
  },
  {
   "cell_type": "markdown",
   "metadata": {},
   "source": [
    "Let's choose k = 12"
   ]
  },
  {
   "cell_type": "code",
   "execution_count": 96,
   "metadata": {},
   "outputs": [
    {
     "data": {
      "text/plain": [
       "KMeans(max_iter=500, n_clusters=12, n_init=50)"
      ]
     },
     "execution_count": 96,
     "metadata": {},
     "output_type": "execute_result"
    }
   ],
   "source": [
    "kmeans = KMeans(n_clusters = 12, init=\"k-means++\", n_init = 50, max_iter = 500)\n",
    "kmeans.fit(ns_repr)"
   ]
  },
  {
   "cell_type": "code",
   "execution_count": 102,
   "metadata": {
    "collapsed": true
   },
   "outputs": [
    {
     "data": {
      "text/plain": [
       "['__class__',\n",
       " '__delattr__',\n",
       " '__dict__',\n",
       " '__dir__',\n",
       " '__doc__',\n",
       " '__eq__',\n",
       " '__format__',\n",
       " '__ge__',\n",
       " '__getattribute__',\n",
       " '__getstate__',\n",
       " '__gt__',\n",
       " '__hash__',\n",
       " '__init__',\n",
       " '__init_subclass__',\n",
       " '__le__',\n",
       " '__lt__',\n",
       " '__module__',\n",
       " '__ne__',\n",
       " '__new__',\n",
       " '__reduce__',\n",
       " '__reduce_ex__',\n",
       " '__repr__',\n",
       " '__setattr__',\n",
       " '__setstate__',\n",
       " '__sizeof__',\n",
       " '__str__',\n",
       " '__subclasshook__',\n",
       " '__weakref__',\n",
       " '_algorithm',\n",
       " '_check_n_features',\n",
       " '_check_params',\n",
       " '_check_test_data',\n",
       " '_estimator_type',\n",
       " '_get_param_names',\n",
       " '_get_tags',\n",
       " '_more_tags',\n",
       " '_n_init',\n",
       " '_n_threads',\n",
       " '_repr_html_',\n",
       " '_repr_html_inner',\n",
       " '_repr_mimebundle_',\n",
       " '_tol',\n",
       " '_transform',\n",
       " '_validate_data',\n",
       " 'algorithm',\n",
       " 'cluster_centers_',\n",
       " 'copy_x',\n",
       " 'fit',\n",
       " 'fit_predict',\n",
       " 'fit_transform',\n",
       " 'get_params',\n",
       " 'inertia_',\n",
       " 'init',\n",
       " 'labels_',\n",
       " 'max_iter',\n",
       " 'n_clusters',\n",
       " 'n_features_in_',\n",
       " 'n_init',\n",
       " 'n_iter_',\n",
       " 'n_jobs',\n",
       " 'precompute_distances',\n",
       " 'predict',\n",
       " 'random_state',\n",
       " 'score',\n",
       " 'set_params',\n",
       " 'tol',\n",
       " 'transform',\n",
       " 'verbose']"
      ]
     },
     "execution_count": 102,
     "metadata": {},
     "output_type": "execute_result"
    }
   ],
   "source": [
    "dir(kmeans)"
   ]
  },
  {
   "cell_type": "code",
   "execution_count": 103,
   "metadata": {},
   "outputs": [
    {
     "data": {
      "text/plain": [
       "array([11,  0,  0, ...,  0,  0,  0])"
      ]
     },
     "execution_count": 103,
     "metadata": {},
     "output_type": "execute_result"
    }
   ],
   "source": [
    "kmeans.labels_"
   ]
  },
  {
   "cell_type": "code",
   "execution_count": 104,
   "metadata": {},
   "outputs": [
    {
     "data": {
      "text/plain": [
       "{0, 1, 2, 3, 4, 5, 6, 7, 8, 9, 10, 11}"
      ]
     },
     "execution_count": 104,
     "metadata": {},
     "output_type": "execute_result"
    }
   ],
   "source": [
    "set(kmeans.labels_)"
   ]
  },
  {
   "cell_type": "code",
   "execution_count": 100,
   "metadata": {},
   "outputs": [],
   "source": [
    "pca = PCA(n_components = 2)"
   ]
  },
  {
   "cell_type": "code",
   "execution_count": 101,
   "metadata": {},
   "outputs": [
    {
     "data": {
      "text/plain": [
       "array([[-0.05943236,  0.06733374],\n",
       "       [-0.05219235, -0.05024858],\n",
       "       [-0.01116583, -0.04044385],\n",
       "       ...,\n",
       "       [-0.04954164, -0.0579535 ],\n",
       "       [-0.05170261, -0.06154585],\n",
       "       [-0.0506029 , -0.0604102 ]])"
      ]
     },
     "execution_count": 101,
     "metadata": {},
     "output_type": "execute_result"
    }
   ],
   "source": [
    "pca_2d = pca.fit_transform(ns_repr)\n",
    "pca_2d"
   ]
  },
  {
   "cell_type": "code",
   "execution_count": 107,
   "metadata": {},
   "outputs": [
    {
     "data": {
      "text/plain": [
       "<matplotlib.collections.PathCollection at 0x1af26dadc40>"
      ]
     },
     "execution_count": 107,
     "metadata": {},
     "output_type": "execute_result"
    },
    {
     "data": {
      "image/png": "[encoded data removed]",
      "text/plain": [
       "<Figure size 432x288 with 1 Axes>"
      ]
     },
     "metadata": {
      "needs_background": "light"
     },
     "output_type": "display_data"
    }
   ],
   "source": [
    "plt.scatter([v[0] for v in pca_2d], [v[1] for v in pca_2d], c = kmeans.labels_)"
   ]
  },
  {
   "cell_type": "markdown",
   "metadata": {},
   "source": [
    "**Let's investigate each cluster**"
   ]
  },
  {
   "cell_type": "code",
   "execution_count": 136,
   "metadata": {},
   "outputs": [
    {
     "data": {
      "text/plain": [
       "3686"
      ]
     },
     "execution_count": 136,
     "metadata": {},
     "output_type": "execute_result"
    }
   ],
   "source": [
    "len(ns_subreddit)"
   ]
  },
  {
   "cell_type": "code",
   "execution_count": 112,
   "metadata": {},
   "outputs": [],
   "source": [
    "clustered = defaultdict(list)\n",
    "for idx,ns in enumerate(ns_fixed):\n",
    "    c = kmeans.labels_[idx]\n",
    "    clustered[c].append(ns)"
   ]
  },
  {
   "cell_type": "code",
   "execution_count": 116,
   "metadata": {
    "scrolled": true
   },
   "outputs": [
    {
     "name": "stdout",
     "output_type": "stream",
     "text": [
      "[2572, 132, 120, 81, 46, 84, 202, 63, 54, 31, 201, 100]\n"
     ]
    }
   ],
   "source": [
    "print([len(clustered[i]) for i in range(12)])"
   ]
  },
  {
   "cell_type": "markdown",
   "metadata": {},
   "source": [
    "Hmm out of 3.6k news sources, 2.5 is in one single cluster. Perhaps I should increase the number of clusters."
   ]
  },
  {
   "cell_type": "code",
   "execution_count": 129,
   "metadata": {
    "collapsed": true
   },
   "outputs": [
    {
     "data": {
      "text/plain": [
       "['jsonline.com',\n",
       " 'ajc.com',\n",
       " 'washingtonpost.com',\n",
       " 'lawandcrime.com',\n",
       " 'texastribune.org',\n",
       " 'politico.com',\n",
       " 'al.com',\n",
       " 'houstonchronicle.com',\n",
       " 'foxbangor.com',\n",
       " 'talkingpointsmemo.com',\n",
       " 'newrepublic.com',\n",
       " 'msnbc.com',\n",
       " 'vox.com',\n",
       " 'mediaite.com',\n",
       " 'nextgov.com',\n",
       " 'buzzfeednews.com',\n",
       " 'wktv.com',\n",
       " 'cbs19.tv',\n",
       " 'slate.com',\n",
       " 'oklahoman.com',\n",
       " 'nymag.com',\n",
       " 'theatlantic.com',\n",
       " 'democracynow.org',\n",
       " '5newsonline.com',\n",
       " '12news.com',\n",
       " 'jacobinmag.com',\n",
       " 'newyorker.com',\n",
       " 'azcentral.com',\n",
       " 'axios.com',\n",
       " 'dailydot.com',\n",
       " 'tennessean.com',\n",
       " 'inthesetimes.com',\n",
       " 'fastcompany.com',\n",
       " 'peoplesworld.org',\n",
       " 'gpb.org',\n",
       " 'courthousenews.com',\n",
       " 'sacurrent.com',\n",
       " 'bostonglobe.com',\n",
       " 'theroot.com',\n",
       " 'wpsdlocal6.com',\n",
       " 'snopes.com',\n",
       " 'wcyb.com',\n",
       " 'wlrn.org',\n",
       " 'theintelligencer.com',\n",
       " 'khou.com',\n",
       " 'middletownpress.com',\n",
       " 'insider.com',\n",
       " 'texasmonthly.com',\n",
       " 'palmbeachpost.com',\n",
       " 'techdirt.com',\n",
       " 'lawfareblog.com',\n",
       " 'rawstory.com',\n",
       " 'orlandoweekly.com',\n",
       " 'progressive.org',\n",
       " 'postandcourier.com',\n",
       " 'dailykos.com',\n",
       " 'kvoa.com',\n",
       " 'katv.com',\n",
       " 'politifact.com',\n",
       " 'boisestatepublicradio.org',\n",
       " 'bittersoutherner.com',\n",
       " 'fox10phoenix.com',\n",
       " 'blogtalkradio.com',\n",
       " 'aol.com',\n",
       " 'c-span.org',\n",
       " 'desmoinesregister.com',\n",
       " 'teenvogue.com',\n",
       " 'wvpublic.org',\n",
       " 'whas11.com',\n",
       " 'local10.com',\n",
       " 'courier-journal.com',\n",
       " 'ny1.com',\n",
       " 'tallahassee.com',\n",
       " 'prospect.org',\n",
       " 'theweek.com',\n",
       " 'heraldtribune.com',\n",
       " 'defenseone.com',\n",
       " 'foreignaffairs.com',\n",
       " 'them.us',\n",
       " 'alternet.org',\n",
       " 'rightwingwatch.org',\n",
       " 'vpm.org',\n",
       " 'grist.org',\n",
       " 'artsy.net',\n",
       " 'wksu.org',\n",
       " 'wabe.org',\n",
       " 'wkyc.com',\n",
       " 'duluthnewstribune.com',\n",
       " 'wfxb.com',\n",
       " 'arktimes.com',\n",
       " 'queerty.com',\n",
       " 'kjzz.com',\n",
       " 'wkar.org',\n",
       " 'fox17.com',\n",
       " 'insideclimatenews.org',\n",
       " 'health.com',\n",
       " 'djournal.com',\n",
       " 'cjonline.com',\n",
       " 'benningtonbanner.com',\n",
       " 'abovethelaw.com',\n",
       " 'kmjnow.com',\n",
       " 'factcheck.org',\n",
       " 'wfae.org',\n",
       " 'wmnf.org',\n",
       " 'wtsp.com',\n",
       " 'inquisitr.com',\n",
       " 'mic.com',\n",
       " 'popular.info',\n",
       " 'kusi.com',\n",
       " 'wkms.org',\n",
       " '19thnews.org',\n",
       " 'bismarcktribune.com',\n",
       " 'tyt.com',\n",
       " 'kadn.com',\n",
       " 'wbhm.org',\n",
       " 'rep-am.com',\n",
       " 'theglobalist.com',\n",
       " 'harvardpolitics.com',\n",
       " 'limaohio.com',\n",
       " 'kawc.org',\n",
       " 'hppr.org',\n",
       " 'aspendailynews.com',\n",
       " 'cookpolitical.com',\n",
       " 'blackchronicle.com',\n",
       " '1380kcim.com',\n",
       " 'commonwealmagazine.org',\n",
       " 'myjournalcourier.com',\n",
       " 'cleburnetimesreview.com',\n",
       " 'truthdig.com',\n",
       " 'trofire.com',\n",
       " 'emaratalyoum.com',\n",
       " 'neoshodailynews.com']"
      ]
     },
     "execution_count": 129,
     "metadata": {},
     "output_type": "execute_result"
    }
   ],
   "source": [
    "clustered[1]"
   ]
  },
  {
   "cell_type": "markdown",
   "metadata": {},
   "source": [
    "Some big names in cluster 1: politico.com, msnbc.com, washingtonpost.com, newyorker.com.\n",
    "\n",
    "Some geographical: texastribune.com, houstonchronicle.com, azcentral.com, tennessean.com."
   ]
  },
  {
   "cell_type": "code",
   "execution_count": 130,
   "metadata": {
    "collapsed": true
   },
   "outputs": [
    {
     "data": {
      "text/plain": [
       "['ksnblocal4.com',\n",
       " 'wbng.com',\n",
       " 'kutv.com',\n",
       " 'mynbc15.com',\n",
       " 'nbc12.com',\n",
       " 'kxxv.com',\n",
       " 'kptv.com',\n",
       " 'naplesnews.com',\n",
       " 'winknews.com',\n",
       " 'news8000.com',\n",
       " 'ksat.com',\n",
       " 'click2houston.com',\n",
       " '1011now.com',\n",
       " 'wtap.com',\n",
       " 'krcrtv.com',\n",
       " 'wfaa.com',\n",
       " 'cincinnati.com',\n",
       " 'wate.com',\n",
       " 'actionnewsnow.com',\n",
       " 'nbcmiami.com',\n",
       " 'wbtv.com',\n",
       " 'weartv.com',\n",
       " 'wkbw.com',\n",
       " 'unionleader.com',\n",
       " 'nbcchicago.com',\n",
       " 'news4jax.com',\n",
       " 'clickorlando.com',\n",
       " 'kait8.com',\n",
       " 'wlbt.com',\n",
       " 'abc30.com',\n",
       " 'live5news.com',\n",
       " 'fox19.com',\n",
       " 'azfamily.com',\n",
       " 'wdbj7.com',\n",
       " 'abc3340.com',\n",
       " '14news.com',\n",
       " 'wreg.com',\n",
       " 'abc10.com',\n",
       " 'wacotrib.com',\n",
       " 'nbcdfw.com',\n",
       " 'mv-voice.com',\n",
       " 'kplctv.com',\n",
       " 'turnto10.com',\n",
       " 'wmbfnews.com',\n",
       " 'wect.com',\n",
       " 'ktiv.com',\n",
       " 'katc.com',\n",
       " 'beaconjournal.com',\n",
       " 'cleveland19.com',\n",
       " 'wwltv.com',\n",
       " 'nbc29.com',\n",
       " 'wptv.com',\n",
       " 'kcbd.com',\n",
       " 'kltv.com',\n",
       " 'walb.com',\n",
       " 'wkow.com',\n",
       " 'wistv.com',\n",
       " 'wset.com',\n",
       " 'foxcarolina.com',\n",
       " 'wsls.com',\n",
       " 'yakimaherald.com',\n",
       " 'wsfa.com',\n",
       " 'wafb.com',\n",
       " 'daytondailynews.com',\n",
       " 'wilx.com',\n",
       " 'wtoc.com',\n",
       " 'wcfcourier.com',\n",
       " 'wdtn.com',\n",
       " 'waff.com',\n",
       " 'wlwt.com',\n",
       " 'fox8live.com',\n",
       " 'aspentimes.com',\n",
       " 'kttc.com',\n",
       " 'ksla.com',\n",
       " 'wwnytv.com',\n",
       " 'foxbaltimore.com',\n",
       " 'wqow.com',\n",
       " 'standard.net',\n",
       " 'wsaz.com',\n",
       " 'nbcboston.com',\n",
       " 'wtvm.com',\n",
       " 'wltx.com',\n",
       " 'wlky.com',\n",
       " 'napavalleyregister.com',\n",
       " 'kwqc.com',\n",
       " 'wxii12.com',\n",
       " 'wgem.com',\n",
       " 'kfvs12.com',\n",
       " 'mysuncoast.com',\n",
       " 'knopnews2.com',\n",
       " 'wdam.com',\n",
       " 'kwwl.com',\n",
       " '12newsnow.com',\n",
       " 'norfolkdailynews.com',\n",
       " 'elpasotimes.com',\n",
       " 'postcrescent.com',\n",
       " 'nebraska.tv',\n",
       " 'patriotledger.com',\n",
       " 'uppermichiganssource.com',\n",
       " 'waow.com',\n",
       " 'wcti12.com',\n",
       " 'paloaltoonline.com',\n",
       " 'wlox.com',\n",
       " 'insidenova.com',\n",
       " 'post-journal.com',\n",
       " 'mountaineagle.com',\n",
       " 'wjhg.com',\n",
       " 'krcgtv.com',\n",
       " 'abccolumbia.com',\n",
       " 'union-bulletin.com',\n",
       " 'kswo.com',\n",
       " 'cnycentral.com',\n",
       " 'wibw.com',\n",
       " 'keyc.com',\n",
       " 'ktre.com',\n",
       " 'thenewsenterprise.com',\n",
       " 'metrowestdailynews.com',\n",
       " 'thefacts.com',\n",
       " 'wctrib.com',\n",
       " 'newsandsentinel.com']"
      ]
     },
     "execution_count": 130,
     "metadata": {},
     "output_type": "execute_result"
    }
   ],
   "source": [
    "clustered[2]"
   ]
  },
  {
   "cell_type": "markdown",
   "metadata": {},
   "source": [
    "Some tv: kutv.com, kptv.com, wbtv.com, weartv.com.\n",
    "\n",
    "Gray Media Group: kait8.com, 14news.com, live5news.com, kcbd.com, etc"
   ]
  },
  {
   "cell_type": "code",
   "execution_count": 131,
   "metadata": {
    "collapsed": true
   },
   "outputs": [
    {
     "data": {
      "text/plain": [
       "['stern.de',\n",
       " 'skysports.com',\n",
       " 'football.london',\n",
       " 'as.com',\n",
       " 'sueddeutsche.de',\n",
       " 'theathletic.com',\n",
       " 'abola.pt',\n",
       " 'spiegel.de',\n",
       " 'derstandard.at',\n",
       " 'kicker.de',\n",
       " 'welt.de',\n",
       " 'bild.de',\n",
       " 'fourfourtwo.com',\n",
       " 'wiwo.de',\n",
       " 'golem.de',\n",
       " 'stuttgarter-nachrichten.de',\n",
       " 'focus.de',\n",
       " 'rp-online.de',\n",
       " 'tagesspiegel.de',\n",
       " 'br.de',\n",
       " 'faz.net',\n",
       " 'morgenpost.de',\n",
       " 'futurezone.at',\n",
       " 'mdr.de',\n",
       " 'marca.com',\n",
       " 'tag24.de',\n",
       " 'pcwelt.de',\n",
       " 'n-tv.de',\n",
       " 'chroniclelive.co.uk',\n",
       " 'ndr.de',\n",
       " 'heise.de',\n",
       " 'sportske.jutarnji.hr',\n",
       " 'talksport.com',\n",
       " 'mundodeportivo.com',\n",
       " 'beinsports.com',\n",
       " '20min.ch',\n",
       " 'football365.com',\n",
       " 'ondacero.es',\n",
       " 'merkur.de',\n",
       " 'derwesten.de',\n",
       " 'rnd.de',\n",
       " 'tz.de',\n",
       " 'freitag.de',\n",
       " 't-online.de',\n",
       " 'nau.ch',\n",
       " 'handelsblatt.com',\n",
       " 'ara.cat',\n",
       " 'tuttosport.com',\n",
       " 'badische-zeitung.de',\n",
       " 'sportbible.com',\n",
       " 'prosieben.de',\n",
       " '90min.com',\n",
       " 'fm4.orf.at',\n",
       " 'infranken.de',\n",
       " 'waz.de',\n",
       " 'cuatro.com',\n",
       " 'lasprovincias.es',\n",
       " 'thueringer-allgemeine.de',\n",
       " 'ksta.de',\n",
       " 'nordbayern.de',\n",
       " 'punditarena.com',\n",
       " 'bernerzeitung.ch',\n",
       " 'krone.at',\n",
       " 'geo.de',\n",
       " 'cope.es',\n",
       " 'tichyseinblick.de',\n",
       " 'newsandstar.co.uk',\n",
       " 'canalrcn.com',\n",
       " 'gamestar.de',\n",
       " 'dwdl.de',\n",
       " 'inside-digital.de',\n",
       " 'newsday.co.zw',\n",
       " 'wiltshiretimes.co.uk',\n",
       " 'spox.com',\n",
       " 'ilgiornaledivicenza.it',\n",
       " 'theboltonnews.co.uk',\n",
       " 'gamepro.de',\n",
       " 'cicero.de',\n",
       " 'rbb-online.de',\n",
       " 'autozeitung.de',\n",
       " 'sunderlandecho.com']"
      ]
     },
     "execution_count": 131,
     "metadata": {},
     "output_type": "execute_result"
    }
   ],
   "source": [
    "clustered[3]"
   ]
  },
  {
   "cell_type": "markdown",
   "metadata": {},
   "source": [
    "Cluster 3 from Germany, UK, Switzerland, Spain, Italy, etc (Europe but mostly Germany)"
   ]
  },
  {
   "cell_type": "code",
   "execution_count": 118,
   "metadata": {
    "collapsed": true
   },
   "outputs": [
    {
     "data": {
      "text/plain": [
       "['milenio.com',\n",
       " 'proceso.com.mx',\n",
       " 'excelsior.com.mx',\n",
       " 'elsoldemexico.com.mx',\n",
       " 'jornada.com.mx',\n",
       " 'poresto.net',\n",
       " 'am.com.mx',\n",
       " 'reporteindigo.com',\n",
       " 'debate.com.mx',\n",
       " 'sdpnoticias.com',\n",
       " 'vanguardia.com.mx',\n",
       " 'yucatan.com.mx',\n",
       " 'informador.mx',\n",
       " 'telemundo20.com',\n",
       " 'pulsoslp.com.mx',\n",
       " 'zocalo.com.mx',\n",
       " 'radioformula.com.mx',\n",
       " 'ntrzacatecas.com',\n",
       " 'sipse.com',\n",
       " 'unocero.com',\n",
       " 'elimparcial.com',\n",
       " 'telemundoatlanta.com',\n",
       " 'expansion.mx',\n",
       " 'elheraldodechihuahua.com.mx',\n",
       " 'elsoldedurango.com.mx',\n",
       " 'elsiglodedurango.com.mx',\n",
       " 'elsoldetulancingo.com.mx',\n",
       " 'cadenanoticias.com',\n",
       " 'eloccidental.com.mx',\n",
       " 'unomasuno.com.mx',\n",
       " 'elmercurio.com.mx',\n",
       " 'eldiariodechihuahua.mx',\n",
       " 'elsoldezamora.com.mx',\n",
       " 'elheraldodesaltillo.mx',\n",
       " 'mypress.mx',\n",
       " 'elsoldetlaxcala.com.mx',\n",
       " 'diariodequeretaro.com.mx',\n",
       " 'eldiariodecoahuila.com.mx',\n",
       " 'elmanana.com.mx',\n",
       " 'lavozdgo.com',\n",
       " 'elsoldetampico.com.mx',\n",
       " 'wradio.com.mx',\n",
       " 'lja.mx',\n",
       " 'elvigia.net',\n",
       " 'elsoldepuebla.com.mx',\n",
       " 'hidrocalidodigital.com']"
      ]
     },
     "execution_count": 118,
     "metadata": {},
     "output_type": "execute_result"
    }
   ],
   "source": [
    "clustered[4]"
   ]
  },
  {
   "cell_type": "markdown",
   "metadata": {},
   "source": [
    "A lot of news sources from MX in cluster 4"
   ]
  },
  {
   "cell_type": "code",
   "execution_count": 120,
   "metadata": {
    "collapsed": true
   },
   "outputs": [
    {
     "data": {
      "text/plain": [
       "['leparisien.fr',\n",
       " 'touteleurope.eu',\n",
       " 'lemonde.fr',\n",
       " '20minutes.fr',\n",
       " 'rfi.fr',\n",
       " 'franceinter.fr',\n",
       " 'bfmtv.com',\n",
       " 'developpez.com',\n",
       " 'lepoint.fr',\n",
       " 'lesechos.fr',\n",
       " 'actu.fr',\n",
       " 'huffingtonpost.fr',\n",
       " 'publicsenat.fr',\n",
       " 'lefigaro.fr',\n",
       " 'francetvinfo.fr',\n",
       " 'nicematin.com',\n",
       " 'lavoixdunord.fr',\n",
       " 'letelegramme.fr',\n",
       " 'madmoizelle.com',\n",
       " 'futura-sciences.com',\n",
       " 'arte.tv',\n",
       " 'la-croix.com',\n",
       " 'lci.fr',\n",
       " 'europe1.fr',\n",
       " 'rtl.fr',\n",
       " 'monde-diplomatique.fr',\n",
       " 'sudouest.fr',\n",
       " 'france3-regions.francetvinfo.fr',\n",
       " 'courrierinternational.com',\n",
       " 'cnews.fr',\n",
       " 'midilibre.fr',\n",
       " 'lcp.fr',\n",
       " 'sofoot.com',\n",
       " 'franceculture.fr',\n",
       " 'alternatives-economiques.fr',\n",
       " 'france.tv',\n",
       " 'tomsguide.fr',\n",
       " 'femmeactuelle.fr',\n",
       " 'humanite.fr',\n",
       " 'gala.fr',\n",
       " 'numerama.com',\n",
       " '01net.com',\n",
       " 'sciencesetavenir.fr',\n",
       " 'dna.fr',\n",
       " 'gamekult.com',\n",
       " 'telerama.fr',\n",
       " 'aufeminin.com',\n",
       " 'nextinpact.com',\n",
       " 'footmercato.net',\n",
       " 'closermag.fr',\n",
       " 'lalsace.fr',\n",
       " 'parismatch.com',\n",
       " 'estrepublicain.fr',\n",
       " '24heures.ch',\n",
       " 'lesnumeriques.com',\n",
       " 'mac4ever.com',\n",
       " 'konbini.com',\n",
       " 'usinenouvelle.com',\n",
       " 'lematin.ch',\n",
       " 'jeuneafrique.com',\n",
       " 'notretemps.com',\n",
       " 'liberte-algerie.com',\n",
       " 'voici.fr']"
      ]
     },
     "execution_count": 120,
     "metadata": {},
     "output_type": "execute_result"
    }
   ],
   "source": [
    "clustered[7]"
   ]
  },
  {
   "cell_type": "code",
   "execution_count": 132,
   "metadata": {
    "collapsed": true
   },
   "outputs": [
    {
     "data": {
      "text/plain": [
       "['montgomeryadvertiser.com',\n",
       " 'starexponent.com',\n",
       " 'wnyc.org',\n",
       " 'nit.com.au',\n",
       " 'dailynorthwestern.com',\n",
       " 'myrecordjournal.com',\n",
       " 'lansingstatejournal.com',\n",
       " 'commercialappeal.com',\n",
       " 'beachwoodreporter.com',\n",
       " 'montanakaimin.com',\n",
       " 'kpvi.com',\n",
       " 'erienewsnow.com',\n",
       " '710keel.com',\n",
       " 'insidernj.com',\n",
       " 'times-news.com',\n",
       " 'kearneyhub.com',\n",
       " 'wmfe.org',\n",
       " 'athensreview.com',\n",
       " 'badgerherald.com',\n",
       " 'dailytrojan.com',\n",
       " 'postregister.com',\n",
       " 'bowdoinorient.com',\n",
       " 'frontpageafricaonline.com',\n",
       " 'wglt.org',\n",
       " 'rapidcityjournal.com',\n",
       " 'argusobserver.com',\n",
       " 'chicagoreader.com',\n",
       " 'relevantmagazine.com',\n",
       " 'macombdaily.com',\n",
       " 'yorknewstimes.com',\n",
       " 'kulr8.com',\n",
       " 'record-eagle.com',\n",
       " 'thecable.ng',\n",
       " 'kmvt.com',\n",
       " 'fredericksburg.com',\n",
       " 'wuwm.com',\n",
       " 'wdet.org',\n",
       " 'dailyorange.com',\n",
       " 'swtimes.com',\n",
       " 'timeswv.com',\n",
       " 'clarionledger.com',\n",
       " 'wcjb.com',\n",
       " 'smdp.com',\n",
       " 'newjerseystage.com',\n",
       " 'durangoherald.com',\n",
       " 'idahostatejournal.com',\n",
       " 'wmra.org',\n",
       " 'kokomotribune.com',\n",
       " 'kalw.org',\n",
       " 'madamasr.com',\n",
       " 'journalstandard.com',\n",
       " 'wuft.org',\n",
       " 'peoriapublicradio.org',\n",
       " 'hawaiibusiness.com',\n",
       " 'gainesville.com',\n",
       " 'catholicsun.org',\n",
       " 'wunc.org',\n",
       " 'nwfdailynews.com',\n",
       " 'wchstv.com',\n",
       " 'wkvi.com',\n",
       " 'milforddailynews.com',\n",
       " 'postguam.com',\n",
       " 'insidetime.org',\n",
       " 'kpcw.org',\n",
       " 'lasentinel.net',\n",
       " 'netnebraska.org',\n",
       " 'journalpatriot.com',\n",
       " 'mountaintimes.info',\n",
       " 'waer.org',\n",
       " 'cravenherald.co.uk',\n",
       " 'mpbonline.org',\n",
       " 'chicagomaroon.com',\n",
       " 'wclk.com',\n",
       " 'hudsonreporter.com',\n",
       " 'kdhnews.com',\n",
       " 'capetalk.co.za',\n",
       " 'bupipedream.com',\n",
       " 'emporiagazette.com',\n",
       " 'oakridger.com',\n",
       " 'atholdailynews.com',\n",
       " 'heraldbulletin.com',\n",
       " 'uscatholic.org',\n",
       " 'eastvalleytribune.com',\n",
       " 'commonwealthtimes.org']"
      ]
     },
     "execution_count": 132,
     "metadata": {},
     "output_type": "execute_result"
    }
   ],
   "source": [
    "clustered[5]"
   ]
  },
  {
   "cell_type": "markdown",
   "metadata": {},
   "source": [
    "Not sure what cluster 5 is"
   ]
  },
  {
   "cell_type": "code",
   "execution_count": 133,
   "metadata": {
    "collapsed": true
   },
   "outputs": [
    {
     "data": {
      "text/plain": [
       "['reuters.com',\n",
       " 'wtop.com',\n",
       " 'stripes.com',\n",
       " 'cbsnews.com',\n",
       " 'upi.com',\n",
       " 'apnews.com',\n",
       " 'yahoo.com',\n",
       " '9news.com.au',\n",
       " 'nbclosangeles.com',\n",
       " 'japantoday.com',\n",
       " 'militarytimes.com',\n",
       " 'military.com',\n",
       " 'sacbee.com',\n",
       " 'sbs.com.au',\n",
       " 'whdh.com',\n",
       " 'manilastandard.net',\n",
       " 'economist.com',\n",
       " 'news.com.au',\n",
       " 'nbcwashington.com',\n",
       " 'theweathernetwork.com',\n",
       " 'fox5dc.com',\n",
       " 'localmemphis.com',\n",
       " 'yna.co.kr',\n",
       " 'complex.com',\n",
       " 'wmcactionnews5.com',\n",
       " 'khmertimeskh.com',\n",
       " 'dailysabah.com',\n",
       " 'kktv.com',\n",
       " 'wral.com',\n",
       " 'ktvu.com',\n",
       " 'thediplomat.com',\n",
       " 'abc7news.com',\n",
       " 'nationalinterest.org',\n",
       " 'dailyvoice.com',\n",
       " 'theweek.co.uk',\n",
       " 'mlive.com',\n",
       " 'themoscowtimes.com',\n",
       " 'abc7.com',\n",
       " 'haaretz.com',\n",
       " 'abc11.com',\n",
       " 'thedenverchannel.com',\n",
       " 'en.people.cn',\n",
       " 'pri.org',\n",
       " 'indystar.com',\n",
       " 'unilad.co.uk',\n",
       " 'qz.com',\n",
       " 'time.com',\n",
       " 'kenoshanews.com',\n",
       " 'africanews.com',\n",
       " 'nbcsandiego.com',\n",
       " 'politico.eu',\n",
       " 'assamtribune.com',\n",
       " 'nbcbayarea.com',\n",
       " 'meduza.io',\n",
       " 'voanews.com',\n",
       " 'iflscience.com',\n",
       " 'arabnews.com',\n",
       " 'newschannel5.com',\n",
       " 'al-monitor.com',\n",
       " 'lrt.lt',\n",
       " 'ghanaweb.com',\n",
       " 'middleeasteye.net',\n",
       " 'euronews.com',\n",
       " 'taiwannews.com.tw',\n",
       " 'intellinews.com',\n",
       " 'sputniknews.com',\n",
       " 'caixinglobal.com',\n",
       " 'israelnationalnews.com',\n",
       " 'fox9.com',\n",
       " 'wtvy.com',\n",
       " 'newson6.com',\n",
       " 'mprnews.org',\n",
       " 'radaronline.com',\n",
       " 'pix11.com',\n",
       " 'jns.org',\n",
       " 'computing.co.uk',\n",
       " 'goodmorningamerica.com',\n",
       " 'electronicsweekly.com',\n",
       " 'armytimes.com',\n",
       " 'jta.org',\n",
       " '13newsnow.com',\n",
       " 'swissinfo.ch',\n",
       " 'rrstar.com',\n",
       " 'nbcnewyork.com',\n",
       " 'medscape.com',\n",
       " 'wagmtv.com',\n",
       " 'kcrw.com',\n",
       " 'southbendtribune.com',\n",
       " 'thegrio.com',\n",
       " 'ktvn.com',\n",
       " 'fox6now.com',\n",
       " 'wbrz.com',\n",
       " 'fox26houston.com',\n",
       " 'enca.com',\n",
       " 'algemeiner.com',\n",
       " 'genengnews.com',\n",
       " 'wxyz.com',\n",
       " 'travelandleisure.com',\n",
       " 'wearemitu.com',\n",
       " 'fox32chicago.com',\n",
       " 'canberratimes.com.au',\n",
       " 'q13fox.com',\n",
       " 'bellingcat.com',\n",
       " 'newsy.com',\n",
       " 'wtkr.com',\n",
       " 'pulselive.co.ke',\n",
       " 'local12.com',\n",
       " 'federaltimes.com',\n",
       " 'kfoxtv.com',\n",
       " 'kstp.com',\n",
       " 'thecrimson.com',\n",
       " 'berkshireeagle.com',\n",
       " 'japan-forward.com',\n",
       " 'fox35orlando.com',\n",
       " 'pressenza.com',\n",
       " 'saudigazette.com.sa',\n",
       " 'euroweeklynews.com',\n",
       " 'firstcoastnews.com',\n",
       " 'wbir.com',\n",
       " 'thebiglead.com',\n",
       " 'israelhayom.com',\n",
       " 'rfa.org',\n",
       " 'kobi5.com',\n",
       " 'krwg.org',\n",
       " 'wcnc.com',\n",
       " 'lmtonline.com',\n",
       " 'abc6onyourside.com',\n",
       " 'hurriyetdailynews.com',\n",
       " 'adage.com',\n",
       " 'sfbayview.com',\n",
       " 'haitiantimes.com',\n",
       " 'centralmaine.com',\n",
       " 'delmarvanow.com',\n",
       " 'navytimes.com',\n",
       " 'chicagocrusader.com',\n",
       " 'breakingnews.ie',\n",
       " 'knoxnews.com',\n",
       " 'afp.com',\n",
       " 'ky3.com',\n",
       " 'khak.com',\n",
       " 'greenvilleonline.com',\n",
       " 'businessinsider.fr',\n",
       " 'kiiitv.com',\n",
       " 'nysun.com',\n",
       " 'frontiermyanmar.net',\n",
       " 'kmaland.com',\n",
       " 'nbcconnecticut.com',\n",
       " 'bworldonline.com',\n",
       " 'worldoil.com',\n",
       " '10tv.com',\n",
       " 'graphic.com.gh',\n",
       " 'riotimesonline.com',\n",
       " 'wthitv.com',\n",
       " 'moroccoworldnews.com',\n",
       " 'wkfr.com',\n",
       " 'total-croatia-news.com',\n",
       " 'thetidenewsonline.com',\n",
       " 'kens5.com',\n",
       " 'newschannel9.com',\n",
       " 'jewishjournal.com',\n",
       " 'wataugademocrat.com',\n",
       " 'readersdigest.co.uk',\n",
       " 'jewishpress.com',\n",
       " 'sanangelolive.com',\n",
       " 'weny.com',\n",
       " 'knkx.org',\n",
       " 'greenleft.org.au',\n",
       " 'power-eng.com',\n",
       " 'derryjournal.com',\n",
       " 'irishcentral.com',\n",
       " 'vedomosti.ru',\n",
       " 'sunset.com',\n",
       " 'the74million.org',\n",
       " 'kotatv.com',\n",
       " 'victoriaadvocate.com',\n",
       " 'longwarjournal.org',\n",
       " 'theeastsiderla.com',\n",
       " 'hot97.com',\n",
       " 'kabc.com',\n",
       " 'wibc.com',\n",
       " 'asianage.com',\n",
       " 'kimt.com',\n",
       " 'easternherald.com',\n",
       " 'eltiempolatino.com',\n",
       " 'wfxg.com',\n",
       " 'catholicnews.com',\n",
       " 'nevadasagebrush.com',\n",
       " 'keysnews.com',\n",
       " 'ydr.com',\n",
       " 'pulse.com.gh',\n",
       " 'wgxa.tv',\n",
       " 'lenews.ch',\n",
       " 'plasticsnews.com',\n",
       " 'devex.com',\n",
       " 'argus-press.com',\n",
       " 'heraldbanner.com',\n",
       " 'albayan.ae',\n",
       " 'wcbe.org',\n",
       " 'brandchannel.com',\n",
       " 'dailylocal.com',\n",
       " 'jacksonvilleprogress.com',\n",
       " 'elnortedecastilla.es']"
      ]
     },
     "execution_count": 133,
     "metadata": {},
     "output_type": "execute_result"
    }
   ],
   "source": [
    "clustered[6]"
   ]
  },
  {
   "cell_type": "markdown",
   "metadata": {},
   "source": [
    "Not sure about cluster 6"
   ]
  },
  {
   "cell_type": "code",
   "execution_count": 134,
   "metadata": {
    "collapsed": true
   },
   "outputs": [
    {
     "data": {
      "text/plain": [
       "['leparisien.fr',\n",
       " 'touteleurope.eu',\n",
       " 'lemonde.fr',\n",
       " '20minutes.fr',\n",
       " 'rfi.fr',\n",
       " 'franceinter.fr',\n",
       " 'bfmtv.com',\n",
       " 'developpez.com',\n",
       " 'lepoint.fr',\n",
       " 'lesechos.fr',\n",
       " 'actu.fr',\n",
       " 'huffingtonpost.fr',\n",
       " 'publicsenat.fr',\n",
       " 'lefigaro.fr',\n",
       " 'francetvinfo.fr',\n",
       " 'nicematin.com',\n",
       " 'lavoixdunord.fr',\n",
       " 'letelegramme.fr',\n",
       " 'madmoizelle.com',\n",
       " 'futura-sciences.com',\n",
       " 'arte.tv',\n",
       " 'la-croix.com',\n",
       " 'lci.fr',\n",
       " 'europe1.fr',\n",
       " 'rtl.fr',\n",
       " 'monde-diplomatique.fr',\n",
       " 'sudouest.fr',\n",
       " 'france3-regions.francetvinfo.fr',\n",
       " 'courrierinternational.com',\n",
       " 'cnews.fr',\n",
       " 'midilibre.fr',\n",
       " 'lcp.fr',\n",
       " 'sofoot.com',\n",
       " 'franceculture.fr',\n",
       " 'alternatives-economiques.fr',\n",
       " 'france.tv',\n",
       " 'tomsguide.fr',\n",
       " 'femmeactuelle.fr',\n",
       " 'humanite.fr',\n",
       " 'gala.fr',\n",
       " 'numerama.com',\n",
       " '01net.com',\n",
       " 'sciencesetavenir.fr',\n",
       " 'dna.fr',\n",
       " 'gamekult.com',\n",
       " 'telerama.fr',\n",
       " 'aufeminin.com',\n",
       " 'nextinpact.com',\n",
       " 'footmercato.net',\n",
       " 'closermag.fr',\n",
       " 'lalsace.fr',\n",
       " 'parismatch.com',\n",
       " 'estrepublicain.fr',\n",
       " '24heures.ch',\n",
       " 'lesnumeriques.com',\n",
       " 'mac4ever.com',\n",
       " 'konbini.com',\n",
       " 'usinenouvelle.com',\n",
       " 'lematin.ch',\n",
       " 'jeuneafrique.com',\n",
       " 'notretemps.com',\n",
       " 'liberte-algerie.com',\n",
       " 'voici.fr']"
      ]
     },
     "execution_count": 134,
     "metadata": {},
     "output_type": "execute_result"
    }
   ],
   "source": [
    "clustered[7]"
   ]
  },
  {
   "cell_type": "markdown",
   "metadata": {},
   "source": [
    "A lot of France and Switzerland in cluster 7"
   ]
  },
  {
   "cell_type": "code",
   "execution_count": 119,
   "metadata": {
    "collapsed": true
   },
   "outputs": [
    {
     "data": {
      "text/plain": [
       "['thetimes.co.uk',\n",
       " 'belfasttelegraph.co.uk',\n",
       " 'express.co.uk',\n",
       " 'dailyrecord.co.uk',\n",
       " 'thestar.co.uk',\n",
       " 'newstatesman.com',\n",
       " 'bravo.de',\n",
       " 'mirror.co.uk',\n",
       " 'scotsman.com',\n",
       " 'thebristolcable.org',\n",
       " 'itv.com',\n",
       " 'pressandjournal.co.uk',\n",
       " 'bylinetimes.com',\n",
       " 'unherd.com',\n",
       " 'lbc.co.uk',\n",
       " 'manchestereveningnews.co.uk',\n",
       " 'standard.co.uk',\n",
       " 'fermanaghherald.com',\n",
       " 'walesonline.co.uk',\n",
       " 'birminghammail.co.uk',\n",
       " 'insidehousing.co.uk',\n",
       " 'novaramedia.com',\n",
       " 'wired.co.uk',\n",
       " 'derbytelegraph.co.uk',\n",
       " 'hulldailymail.co.uk',\n",
       " 'cityam.com',\n",
       " 'holyrood.com',\n",
       " 'bristolpost.co.uk',\n",
       " 'channel4.com',\n",
       " 'greenocktelegraph.co.uk',\n",
       " 'bucksfreepress.co.uk',\n",
       " 'swindonadvertiser.co.uk',\n",
       " 'tyla.com',\n",
       " 'irishnews.com',\n",
       " 'yorkshirepost.co.uk',\n",
       " 'politics.co.uk',\n",
       " 'thejc.com',\n",
       " 'hertfordshiremercury.co.uk',\n",
       " 'countrylife.co.uk',\n",
       " 'newcivilengineer.com',\n",
       " 'somersetcountygazette.co.uk',\n",
       " 'theneweuropean.co.uk',\n",
       " 'peterboroughtoday.co.uk',\n",
       " 'bigissue.com',\n",
       " 'dorsetecho.co.uk',\n",
       " 'business-live.co.uk',\n",
       " 'tatler.com',\n",
       " 'endsreport.com',\n",
       " 'thecaterer.com',\n",
       " 'architectsjournal.co.uk',\n",
       " 'hsj.co.uk',\n",
       " 'readingchronicle.co.uk',\n",
       " 'private-eye.co.uk',\n",
       " 'hartlepoolmail.co.uk']"
      ]
     },
     "execution_count": 119,
     "metadata": {},
     "output_type": "execute_result"
    }
   ],
   "source": [
    "clustered[8]"
   ]
  },
  {
   "cell_type": "markdown",
   "metadata": {},
   "source": [
    "News sources from the UK in cluster 8"
   ]
  },
  {
   "cell_type": "code",
   "execution_count": 117,
   "metadata": {
    "collapsed": true
   },
   "outputs": [
    {
     "data": {
      "text/plain": [
       "['ptinews.com',\n",
       " 'ndtv.com',\n",
       " 'livemint.com',\n",
       " 'theprint.in',\n",
       " 'business-standard.com',\n",
       " 'scroll.in',\n",
       " 'hindustantimes.com',\n",
       " 'moneycontrol.com',\n",
       " 'newindianexpress.com',\n",
       " 'freepressjournal.in',\n",
       " 'thenewsminute.com',\n",
       " 'deccanherald.com',\n",
       " 'anandabazar.com',\n",
       " 'thequint.com',\n",
       " 'firstpost.com',\n",
       " 'bhaskar.com',\n",
       " 'newslaundry.com',\n",
       " 'indiatvnews.com',\n",
       " 'dnaindia.com',\n",
       " 'rediff.com',\n",
       " 'amarujala.com',\n",
       " 'thehindubusinessline.com',\n",
       " 'epw.in',\n",
       " 'downtoearth.org.in',\n",
       " 'mid-day.com',\n",
       " 'businessworld.in',\n",
       " 'loksatta.com',\n",
       " 'forbesindia.com',\n",
       " 'starofmysore.com',\n",
       " 'theengineer.co.uk',\n",
       " 'deshabhimani.com']"
      ]
     },
     "execution_count": 117,
     "metadata": {},
     "output_type": "execute_result"
    }
   ],
   "source": [
    "clustered[9]"
   ]
  },
  {
   "cell_type": "markdown",
   "metadata": {},
   "source": [
    "A lot of news sources from India in cluster 9"
   ]
  },
  {
   "cell_type": "code",
   "execution_count": 135,
   "metadata": {
    "collapsed": true
   },
   "outputs": [
    {
     "data": {
      "text/plain": [
       "['leaderpost.com',\n",
       " 'nationalpost.com',\n",
       " 'vancouverisland.ctvnews.ca',\n",
       " 'startribune.com',\n",
       " 'vancouversun.com',\n",
       " 'nsnews.com',\n",
       " 'krdo.com',\n",
       " 'brantfordexpositor.ca',\n",
       " 'abc17news.com',\n",
       " 'localnews8.com',\n",
       " 'medicalxpress.com',\n",
       " 'roanoke.com',\n",
       " 'wfmj.com',\n",
       " 'winnipegfreepress.com',\n",
       " 'grandforksherald.com',\n",
       " 'timesunion.com',\n",
       " 'federalnewsnetwork.com',\n",
       " 'flightglobal.com',\n",
       " 'trtworld.com',\n",
       " 'bramptonguardian.com',\n",
       " 'news-star.com',\n",
       " 'siasat.com',\n",
       " 'bnnbloomberg.ca',\n",
       " 'atlantic.ctvnews.ca',\n",
       " 'gulftoday.ae',\n",
       " 'kitchener.ctvnews.ca',\n",
       " 'kfgo.com',\n",
       " 'piquenewsmagazine.com',\n",
       " 'montreal.ctvnews.ca',\n",
       " 'kamloopsthisweek.com',\n",
       " 'calgaryherald.com',\n",
       " 'catholicregister.org',\n",
       " 'texarkanagazette.com',\n",
       " 'financialpost.com',\n",
       " 'lfpress.com',\n",
       " 'kion546.com',\n",
       " 'calgary.ctvnews.ca',\n",
       " 'richmond-news.com',\n",
       " 'wellandtribune.ca',\n",
       " 'martinsvillebulletin.com',\n",
       " 'hilltimes.com',\n",
       " 'mooresvilletribune.com',\n",
       " 'kpax.com',\n",
       " 'thepeterboroughexaminer.com',\n",
       " 'kelo.com',\n",
       " 'xinhuanet.com',\n",
       " 'stcatharinesstandard.ca',\n",
       " 'alaskahighwaynews.ca',\n",
       " 'wrde.com',\n",
       " 'keyt.com',\n",
       " 'wtmj.com',\n",
       " 'wsiltv.com',\n",
       " 'vocm.com',\n",
       " 'wrcbtv.com',\n",
       " 'editorandpublisher.com',\n",
       " 'wxow.com',\n",
       " 'whtc.com',\n",
       " 'altoonamirror.com',\n",
       " 'whbl.com',\n",
       " 'theintelligencer.net',\n",
       " 'urdupoint.com',\n",
       " 'vpr.org',\n",
       " 'daijiworld.com',\n",
       " 'mywestnipissingnow.com',\n",
       " 'guelphmercury.com',\n",
       " 'rcinet.ca',\n",
       " 'stratfordbeaconherald.com',\n",
       " 'brandonsun.com',\n",
       " 'insidethegames.biz',\n",
       " 'travelweekly.co.uk',\n",
       " 'producer.com',\n",
       " 'sootoday.com',\n",
       " 'michigansthumb.com',\n",
       " 'windsorstar.com',\n",
       " 'burnabynow.com',\n",
       " 'greenwichtime.com',\n",
       " 'timescolonist.com',\n",
       " 'calgarysun.com',\n",
       " 'saultstar.com',\n",
       " 'winnipegsun.com',\n",
       " 'niagara-gazette.com',\n",
       " 'paherald.sk.ca',\n",
       " 'bowenislandundercurrent.com',\n",
       " 'edmontonsun.com',\n",
       " 'journalgazette.net',\n",
       " 'kesq.com',\n",
       " 'bdnews24.com',\n",
       " 'universityworldnews.com',\n",
       " 'northumberlandnews.com',\n",
       " 'aroundtherings.com',\n",
       " 'heralddemocrat.com',\n",
       " 'northcountrypublicradio.org',\n",
       " '9and10news.com',\n",
       " 'wkzo.com',\n",
       " 'country94.ca',\n",
       " 'lethbridgeherald.com',\n",
       " 'kincardinenews.com',\n",
       " 'christianitydaily.com',\n",
       " 'lockportjournal.com',\n",
       " 'ncnewsonline.com',\n",
       " 'newstribune.com',\n",
       " 'k2radio.com',\n",
       " 'theislanderonline.com.au',\n",
       " 'goerie.com',\n",
       " 'bemidjipioneer.com',\n",
       " 'poconorecord.com',\n",
       " '620ckrm.com',\n",
       " 'swimmingworldmagazine.com',\n",
       " 'nugget.ca',\n",
       " 'gulf-times.com',\n",
       " 'wtva.com',\n",
       " 'radio.gov.pk',\n",
       " 'swoknews.com',\n",
       " 'jamaicaobserver.com',\n",
       " 'gmtoday.com',\n",
       " 'newsminer.com',\n",
       " 'stabroeknews.com',\n",
       " 'nationnews.com',\n",
       " 'kdhlradio.com',\n",
       " 'pressrepublican.com',\n",
       " 'saultthisweek.com',\n",
       " 'jamaica-gleaner.com',\n",
       " 'fortmcmurraytoday.com',\n",
       " 'finchannel.com',\n",
       " 'zoomerradio.ca',\n",
       " 'princegeorgecitizen.com',\n",
       " 'joplinglobe.com',\n",
       " '570news.com',\n",
       " 'kgmi.com',\n",
       " 'radionl.com',\n",
       " 'bloodhorse.com',\n",
       " 'ajmc.com',\n",
       " 'tylerpaper.com',\n",
       " 'darientimes.com',\n",
       " 'thedartmouth.com',\n",
       " 'mykawartha.com',\n",
       " 'ksro.com',\n",
       " 'worldcrunch.com',\n",
       " 'greenhousecanada.com',\n",
       " 'pentictonherald.ca',\n",
       " 'chatelaine.com',\n",
       " 'newstalk870.am',\n",
       " 'medicinehatnews.com',\n",
       " 'caledonianrecord.com',\n",
       " 't3.com',\n",
       " 'stargazette.com',\n",
       " 'cadillacnews.com',\n",
       " 'knpr.org',\n",
       " 'finance-commerce.com',\n",
       " 'thesuburban.com',\n",
       " 'thewhig.com',\n",
       " 'myespanolanow.com',\n",
       " 'drf.com',\n",
       " 'avpress.com',\n",
       " 'nnsl.com',\n",
       " 'statesville.com',\n",
       " 'queensjournal.ca',\n",
       " 'whtimes.co.uk',\n",
       " 'mininggazette.com',\n",
       " '919thebend.ca',\n",
       " 'accountingtoday.com',\n",
       " 'upstreamonline.com',\n",
       " 'timesleaderonline.com',\n",
       " 'wdio.com',\n",
       " 'wokq.com',\n",
       " 'canadianimmigrant.ca',\n",
       " 'wbiw.com',\n",
       " 'independenttribune.com',\n",
       " 'amarillo.com',\n",
       " 'marshallnewsmessenger.com',\n",
       " 'canadianbusiness.com',\n",
       " 'retail-week.com',\n",
       " 'thelcn.com',\n",
       " 'krbd.org',\n",
       " 'theobserver.ca',\n",
       " 'theconcordian.com',\n",
       " 'newsdakota.com',\n",
       " 'ckdr.net',\n",
       " 'newstalkkit.com',\n",
       " 'wfuv.org',\n",
       " 'ktts.com',\n",
       " 'chroniclejournal.com',\n",
       " 'kdal610.com',\n",
       " 'examiner-enterprise.com',\n",
       " 'caribbeannationalweekly.com',\n",
       " 'northernnews.ca',\n",
       " 'pembinavalleyonline.com',\n",
       " 'thejewishnews.com',\n",
       " 'nonpareilonline.com',\n",
       " 'mindentimes.ca',\n",
       " 'thealpenanews.com',\n",
       " 'vvdailypress.com',\n",
       " 'ckbw.ca',\n",
       " 'ksut.org',\n",
       " 'somerset-kentucky.com',\n",
       " 'kticradio.com',\n",
       " 'chicagonow.com',\n",
       " 'abc7amarillo.com',\n",
       " 'qctonline.com',\n",
       " 'simcoereformer.ca',\n",
       " 'q1065.fm']"
      ]
     },
     "execution_count": 135,
     "metadata": {},
     "output_type": "execute_result"
    }
   ],
   "source": [
    "clustered[10]"
   ]
  },
  {
   "cell_type": "markdown",
   "metadata": {},
   "source": [
    "A lot of Canadian news sources in cluster 10, some American ones too."
   ]
  },
  {
   "cell_type": "code",
   "execution_count": 125,
   "metadata": {
    "scrolled": true
   },
   "outputs": [
    {
     "name": "stdout",
     "output_type": "stream",
     "text": [
      "breitbart in cluster 0\n"
     ]
    }
   ],
   "source": [
    "for ii in range(12):\n",
    "    if \"breitbart.com\" in clustered[ii]:\n",
    "        print(\"breitbart in cluster\", ii )"
   ]
  },
  {
   "cell_type": "code",
   "execution_count": 127,
   "metadata": {},
   "outputs": [
    {
     "name": "stdout",
     "output_type": "stream",
     "text": [
      "foxnews in cluster 11\n"
     ]
    }
   ],
   "source": [
    "for ii in range(12):\n",
    "    if \"foxnews.com\" in clustered[ii]:\n",
    "        print(\"foxnews in cluster\", ii )"
   ]
  },
  {
   "cell_type": "code",
   "execution_count": 128,
   "metadata": {
    "collapsed": true
   },
   "outputs": [
    {
     "data": {
      "text/plain": [
       "['espn.com',\n",
       " 'thehill.com',\n",
       " 'cnbc.com',\n",
       " 'thedailybeast.com',\n",
       " 'aljazeera.com',\n",
       " 'fivethirtyeight.com',\n",
       " 'bbc.co.uk',\n",
       " 'foxnews.com',\n",
       " 'irishtimes.com',\n",
       " 'abc7chicago.com',\n",
       " 'kmov.com',\n",
       " 'nytimes.com',\n",
       " 'nbcnews.com',\n",
       " 'cnn.com',\n",
       " 'mb.com.ph',\n",
       " 'boston.com',\n",
       " 'bangkokpost.com',\n",
       " 'civilbeat.org',\n",
       " 'scmp.com',\n",
       " 'npr.org',\n",
       " 'smh.com.au',\n",
       " 'nzherald.co.nz',\n",
       " 'sltrib.com',\n",
       " 'kjrh.com',\n",
       " 'latimes.com',\n",
       " 'washingtonexaminer.com',\n",
       " 'chicagotribune.com',\n",
       " 'telegraph.co.uk',\n",
       " 'japantimes.co.jp',\n",
       " 'pbs.org',\n",
       " 'abc7ny.com',\n",
       " 'fox11online.com',\n",
       " 'thehindu.com',\n",
       " 'abc13.com',\n",
       " 'wlos.com',\n",
       " 'post-gazette.com',\n",
       " 'koco.com',\n",
       " 'herald-review.com',\n",
       " 'wcpo.com',\n",
       " 'wsvn.com',\n",
       " 'iol.co.za',\n",
       " 'abcactionnews.com',\n",
       " 'wjla.com',\n",
       " 'wcvb.com',\n",
       " 'nbc-2.com',\n",
       " 'csmonitor.com',\n",
       " 'kmbc.com',\n",
       " 'wmur.com',\n",
       " '4029tv.com',\n",
       " 'ketv.com',\n",
       " 'wsmv.com',\n",
       " 'kshb.com',\n",
       " 'wabi.tv',\n",
       " 'kcci.com',\n",
       " 'kwch.com',\n",
       " 'wfsb.com',\n",
       " 'wbaltv.com',\n",
       " 'cbs58.com',\n",
       " 'wmtw.com',\n",
       " 'wvtm13.com',\n",
       " 'blackhillsfox.com',\n",
       " 'wtae.com',\n",
       " 'wnem.com',\n",
       " 'siouxcityjournal.com',\n",
       " 'gwinnettdailypost.com',\n",
       " 'wjcl.com',\n",
       " 'wesh.com',\n",
       " 'cbs46.com',\n",
       " 'wisn.com',\n",
       " 'wlfi.com',\n",
       " '3newsnow.com',\n",
       " 'phillytrib.com',\n",
       " 'abc57.com',\n",
       " 'ktul.com',\n",
       " 'conwaydailysun.com',\n",
       " 'qctimes.com',\n",
       " 'wifr.com',\n",
       " 'fox10tv.com',\n",
       " 'wccbcharlotte.com',\n",
       " 'ktxs.com',\n",
       " 'wpbf.com',\n",
       " 'whsv.com',\n",
       " 'dothaneagle.com',\n",
       " 'wnep.com',\n",
       " 'wpde.com',\n",
       " 'lex18.com',\n",
       " 'globegazette.com',\n",
       " 'nbc25news.com',\n",
       " 'ktbs.com',\n",
       " 'wapt.com',\n",
       " 'foxsanantonio.com',\n",
       " 'beatricedailysun.com',\n",
       " 'wsbt.com',\n",
       " 'thetandd.com',\n",
       " 'poststar.com',\n",
       " 'cbsaustin.com',\n",
       " 'krgv.com',\n",
       " 'kten.com',\n",
       " 'abc-7.com',\n",
       " 'kdsm17.com']"
      ]
     },
     "execution_count": 128,
     "metadata": {},
     "output_type": "execute_result"
    }
   ],
   "source": [
    "clustered[11]"
   ]
  },
  {
   "cell_type": "markdown",
   "metadata": {},
   "source": [
    "A lot of the big names news sources are here. Mixed political leanings though."
   ]
  },
  {
   "cell_type": "markdown",
   "metadata": {},
   "source": [
    "## Preliminary findings:\n",
    "\n",
    "1. Even with just the list of subreddits for each news source, we are able to generate rather meaningful clusterings with k-means.\n",
    "2. This clustering tells us much about the various origin/domain of news sources (US, UK, Germany/Switzerland/UK, France/Switzerland, India) and affiliation (Gray), topics, but not political leanings (e.g. Foxnews and Breitbart are not in the same cluster).\n",
    "\n",
    "**Next steps:**\n",
    "1. Try out different clustering algorithm (i.e. since k-means are intended for radially distributed data, try other algorithms like DBSCAN which is based on density, and other ones).\n",
    "2. Add more data from other months.\n",
    "3. For features, in addition to appearance count in each subreddit, add also the description of subreddits? *Q*: Which subreddit desciptions should I add? Maybe I should use subreddit description for clustering subreddits."
   ]
  },
  {
   "cell_type": "code",
   "execution_count": 32,
   "metadata": {},
   "outputs": [
    {
     "data": {
      "text/plain": [
       "0.6977753662506783"
      ]
     },
     "execution_count": 32,
     "metadata": {},
     "output_type": "execute_result"
    }
   ],
   "source": [
    "2572/3686"
   ]
  },
  {
   "cell_type": "markdown",
   "metadata": {},
   "source": [
    "**Nov 4**\n",
    "\n",
    "I am curious if how the number of news sources in each cluster would change if I add more clusters, since 1 cluster out of 12 contains almost 70% of the news sources"
   ]
  },
  {
   "cell_type": "code",
   "execution_count": 34,
   "metadata": {},
   "outputs": [
    {
     "data": {
      "text/plain": [
       "KMeans(max_iter=500, n_clusters=20, n_init=50)"
      ]
     },
     "execution_count": 34,
     "metadata": {},
     "output_type": "execute_result"
    }
   ],
   "source": [
    "kmeans_k20 = KMeans(n_clusters = 20, init=\"k-means++\", n_init = 50, max_iter = 500)\n",
    "kmeans_k20.fit(ns_repr)"
   ]
  },
  {
   "cell_type": "code",
   "execution_count": 35,
   "metadata": {},
   "outputs": [],
   "source": [
    "# k = 20\n",
    "clustered_k20 = defaultdict(list)\n",
    "for idx,ns in enumerate(ns_fixed):\n",
    "    c = kmeans_k20.labels_[idx]\n",
    "    clustered_k20[c].append(ns)"
   ]
  },
  {
   "cell_type": "code",
   "execution_count": 37,
   "metadata": {},
   "outputs": [
    {
     "name": "stdout",
     "output_type": "stream",
     "text": [
      "[36, 45, 79, 39, 27, 53, 104, 223, 196, 99, 20, 108, 102, 2274, 33, 46, 69, 24, 48, 61]\n"
     ]
    }
   ],
   "source": [
    "print([len(clustered_k20[i]) for i in range(20)])"
   ]
  },
  {
   "cell_type": "markdown",
   "metadata": {},
   "source": [
    "This seems more evenly distributed than the 12 clusters version. However, one cluster still has 2274/3686 news sources."
   ]
  },
  {
   "cell_type": "code",
   "execution_count": 40,
   "metadata": {},
   "outputs": [
    {
     "name": "stdout",
     "output_type": "stream",
     "text": [
      "[0.98, 1.22, 2.14, 1.06, 0.73, 1.44, 2.82, 6.05, 5.32, 2.69, 0.54, 2.93, 2.77, 61.69, 0.9, 1.25, 1.87, 0.65, 1.3, 1.65]\n"
     ]
    }
   ],
   "source": [
    "print([round(len(clustered_k20[i])*100/len(ns_subreddit),2) for i in range(20)])"
   ]
  },
  {
   "cell_type": "markdown",
   "metadata": {},
   "source": [
    "This suggests that either a different clustering method should be used, or we need more features to do the clustering."
   ]
  },
  {
   "cell_type": "markdown",
   "metadata": {},
   "source": [
    "## DBSCAN clustering"
   ]
  },
  {
   "cell_type": "code",
   "execution_count": 41,
   "metadata": {},
   "outputs": [],
   "source": [
    "from sklearn.cluster import DBSCAN"
   ]
  },
  {
   "cell_type": "markdown",
   "metadata": {},
   "source": [
    "First try out."
   ]
  },
  {
   "cell_type": "code",
   "execution_count": 56,
   "metadata": {},
   "outputs": [],
   "source": [
    "dbscan = DBSCAN(eps=0.01)"
   ]
  },
  {
   "cell_type": "code",
   "execution_count": 57,
   "metadata": {},
   "outputs": [],
   "source": [
    "ds_clusters = dbscan.fit(ns_repr)"
   ]
  },
  {
   "cell_type": "code",
   "execution_count": 58,
   "metadata": {},
   "outputs": [
    {
     "data": {
      "text/plain": [
       "3686"
      ]
     },
     "execution_count": 58,
     "metadata": {},
     "output_type": "execute_result"
    }
   ],
   "source": [
    "dbs_labels = ds_clusters.labels_\n",
    "len(dbs_labels)"
   ]
  },
  {
   "cell_type": "code",
   "execution_count": 59,
   "metadata": {},
   "outputs": [
    {
     "data": {
      "text/plain": [
       "array([-1,  0,  1,  2,  3,  4,  5,  6,  7,  8,  9], dtype=int64)"
      ]
     },
     "execution_count": 59,
     "metadata": {},
     "output_type": "execute_result"
    }
   ],
   "source": [
    "np.unique(dbs_labels)"
   ]
  },
  {
   "cell_type": "code",
   "execution_count": 60,
   "metadata": {},
   "outputs": [],
   "source": [
    "dbscan_clusters = defaultdict(list)\n",
    "for idx, c in enumerate(list(dbs_labels)):\n",
    "    dbscan_clusters[c].append(ns_fixed[idx])"
   ]
  },
  {
   "cell_type": "code",
   "execution_count": 62,
   "metadata": {},
   "outputs": [
    {
     "name": "stdout",
     "output_type": "stream",
     "text": [
      "number of ns in cluster -1: 3589\n",
      "number of ns in cluster 0: 31\n",
      "number of ns in cluster 1: 6\n",
      "number of ns in cluster 2: 5\n",
      "number of ns in cluster 3: 14\n",
      "number of ns in cluster 4: 7\n",
      "number of ns in cluster 5: 7\n",
      "number of ns in cluster 6: 5\n",
      "number of ns in cluster 7: 6\n",
      "number of ns in cluster 8: 7\n",
      "number of ns in cluster 9: 9\n"
     ]
    }
   ],
   "source": [
    "for c in range(-1, 10):\n",
    "    print(\"number of ns in cluster {}: {}\".format(c, len(dbscan_clusters[c])))"
   ]
  },
  {
   "cell_type": "markdown",
   "metadata": {},
   "source": [
    "Let's investigate some of the clusters"
   ]
  },
  {
   "cell_type": "code",
   "execution_count": 63,
   "metadata": {
    "scrolled": true
   },
   "outputs": [
    {
     "data": {
      "text/plain": [
       "['alaskahighwaynews.ca',\n",
       " 'mywestnipissingnow.com',\n",
       " 'paherald.sk.ca',\n",
       " 'bowenislandundercurrent.com',\n",
       " 'heralddemocrat.com',\n",
       " 'country94.ca',\n",
       " 'kincardinenews.com',\n",
       " 'lockportjournal.com',\n",
       " 'saultthisweek.com',\n",
       " 'zoomerradio.ca',\n",
       " 'stargazette.com',\n",
       " 'cadillacnews.com',\n",
       " 'myespanolanow.com',\n",
       " 'queensjournal.ca',\n",
       " 'wokq.com',\n",
       " 'amarillo.com',\n",
       " 'krbd.org',\n",
       " 'theconcordian.com',\n",
       " 'newsdakota.com',\n",
       " 'newstalkkit.com',\n",
       " 'kdal610.com',\n",
       " 'examiner-enterprise.com',\n",
       " 'northernnews.ca',\n",
       " 'pembinavalleyonline.com',\n",
       " 'thejewishnews.com',\n",
       " 'nonpareilonline.com',\n",
       " 'mindentimes.ca',\n",
       " 'vvdailypress.com',\n",
       " 'ksut.org',\n",
       " 'qctonline.com',\n",
       " 'q1065.fm']"
      ]
     },
     "execution_count": 63,
     "metadata": {},
     "output_type": "execute_result"
    }
   ],
   "source": [
    "dbscan_clusters[0]"
   ]
  },
  {
   "cell_type": "code",
   "execution_count": 64,
   "metadata": {
    "scrolled": true
   },
   "outputs": [
    {
     "data": {
      "text/plain": [
       "['ibahia.com',\n",
       " 'bahianoticias.com.br',\n",
       " 'hojeemdia.com.br',\n",
       " 'diariodepernambuco.com.br',\n",
       " 'catracalivre.com.br',\n",
       " 'jb.com.br']"
      ]
     },
     "execution_count": 64,
     "metadata": {},
     "output_type": "execute_result"
    }
   ],
   "source": [
    "dbscan_clusters[1]"
   ]
  },
  {
   "cell_type": "code",
   "execution_count": 65,
   "metadata": {},
   "outputs": [
    {
     "data": {
      "text/plain": [
       "['pcwelt.de', 'bernerzeitung.ch', 'dwdl.de', 'cicero.de', 'autozeitung.de']"
      ]
     },
     "execution_count": 65,
     "metadata": {},
     "output_type": "execute_result"
    }
   ],
   "source": [
    "dbscan_clusters[2] # Deutsche"
   ]
  },
  {
   "cell_type": "code",
   "execution_count": 66,
   "metadata": {},
   "outputs": [
    {
     "data": {
      "text/plain": [
       "['beachwoodreporter.com',\n",
       " 'montanakaimin.com',\n",
       " 'athensreview.com',\n",
       " 'argusobserver.com',\n",
       " 'wmra.org',\n",
       " 'catholicsun.org',\n",
       " 'wkvi.com',\n",
       " 'insidetime.org',\n",
       " 'journalpatriot.com',\n",
       " 'waer.org',\n",
       " 'mpbonline.org',\n",
       " 'wclk.com',\n",
       " 'hudsonreporter.com',\n",
       " 'commonwealthtimes.org']"
      ]
     },
     "execution_count": 66,
     "metadata": {},
     "output_type": "execute_result"
    }
   ],
   "source": [
    "dbscan_clusters[3]"
   ]
  },
  {
   "cell_type": "code",
   "execution_count": 67,
   "metadata": {},
   "outputs": [
    {
     "data": {
      "text/plain": [
       "['wfxb.com',\n",
       " 'tyt.com',\n",
       " 'kawc.org',\n",
       " 'blackchronicle.com',\n",
       " 'cleburnetimesreview.com',\n",
       " 'emaratalyoum.com',\n",
       " 'neoshodailynews.com']"
      ]
     },
     "execution_count": 67,
     "metadata": {},
     "output_type": "execute_result"
    }
   ],
   "source": [
    "dbscan_clusters[4]"
   ]
  },
  {
   "cell_type": "code",
   "execution_count": 68,
   "metadata": {},
   "outputs": [
    {
     "data": {
      "text/plain": [
       "['okgazette.com',\n",
       " 'good.is',\n",
       " 'nationaltrust.org.uk',\n",
       " 'lady.co.uk',\n",
       " 'wcsx.com',\n",
       " 'truewestmagazine.com',\n",
       " '1045wjjk.com']"
      ]
     },
     "execution_count": 68,
     "metadata": {},
     "output_type": "execute_result"
    }
   ],
   "source": [
    "dbscan_clusters[5]"
   ]
  },
  {
   "cell_type": "code",
   "execution_count": 69,
   "metadata": {},
   "outputs": [
    {
     "data": {
      "text/plain": [
       "['cnbeta.com',\n",
       " 'orientaldaily.com.my',\n",
       " 'radionacional.com.ar',\n",
       " 'singtao.ca',\n",
       " 'donews.com']"
      ]
     },
     "execution_count": 69,
     "metadata": {},
     "output_type": "execute_result"
    }
   ],
   "source": [
    "dbscan_clusters[6]"
   ]
  },
  {
   "cell_type": "code",
   "execution_count": 70,
   "metadata": {},
   "outputs": [
    {
     "data": {
      "text/plain": [
       "['tomsguide.fr',\n",
       " 'femmeactuelle.fr',\n",
       " 'gamekult.com',\n",
       " '24heures.ch',\n",
       " 'lematin.ch',\n",
       " 'liberte-algerie.com']"
      ]
     },
     "execution_count": 70,
     "metadata": {},
     "output_type": "execute_result"
    }
   ],
   "source": [
    "dbscan_clusters[7]"
   ]
  },
  {
   "cell_type": "code",
   "execution_count": 71,
   "metadata": {},
   "outputs": [
    {
     "data": {
      "text/plain": [
       "['thefloridacatholic.org',\n",
       " 'lanthorn.com',\n",
       " 'newjerseyhills.com',\n",
       " 'wbkb11.com',\n",
       " 'leaderherald.com',\n",
       " 'meadvilletribune.com',\n",
       " 'hotelmanagement.net']"
      ]
     },
     "execution_count": 71,
     "metadata": {},
     "output_type": "execute_result"
    }
   ],
   "source": [
    "dbscan_clusters[8]"
   ]
  },
  {
   "cell_type": "code",
   "execution_count": 72,
   "metadata": {},
   "outputs": [
    {
     "data": {
      "text/plain": [
       "['telemundoatlanta.com',\n",
       " 'elsoldedurango.com.mx',\n",
       " 'elsoldetulancingo.com.mx',\n",
       " 'unomasuno.com.mx',\n",
       " 'elmercurio.com.mx',\n",
       " 'diariodequeretaro.com.mx',\n",
       " 'wradio.com.mx',\n",
       " 'elvigia.net',\n",
       " 'hidrocalidodigital.com']"
      ]
     },
     "execution_count": 72,
     "metadata": {},
     "output_type": "execute_result"
    }
   ],
   "source": [
    "dbscan_clusters[9]"
   ]
  },
  {
   "cell_type": "markdown",
   "metadata": {},
   "source": [
    "**Finding optimum `epsilon` for dbscan**\n",
    "\n",
    "References: \n",
    "\n",
    "https://towardsdatascience.com/machine-learning-clustering-dbscan-determine-the-optimal-value-for-epsilon-eps-python-example-3100091cfbc\n",
    "\n",
    "https://iopscience.iop.org/article/10.1088/1755-1315/31/1/012012/pdf"
   ]
  },
  {
   "cell_type": "code",
   "execution_count": 74,
   "metadata": {},
   "outputs": [],
   "source": [
    "from sklearn.neighbors import NearestNeighbors"
   ]
  },
  {
   "cell_type": "code",
   "execution_count": 75,
   "metadata": {},
   "outputs": [],
   "source": [
    "neigh = NearestNeighbors(n_neighbors=2)\n",
    "nbrs = neigh.fit(ns_repr)\n",
    "distances, indices = nbrs.kneighbors(ns_repr)"
   ]
  },
  {
   "cell_type": "code",
   "execution_count": 84,
   "metadata": {},
   "outputs": [
    {
     "data": {
      "text/plain": [
       "[<matplotlib.lines.Line2D at 0x1ea8ace4ca0>]"
      ]
     },
     "execution_count": 84,
     "metadata": {},
     "output_type": "execute_result"
    },
    {
     "data": {
      "image/png": "[encoded data removed]",
      "text/plain": [
       "<Figure size 432x288 with 1 Axes>"
      ]
     },
     "metadata": {
      "needs_background": "light"
     },
     "output_type": "display_data"
    }
   ],
   "source": [
    "distances = np.sort(distances, axis=0)\n",
    "# distances = distances[:,1]\n",
    "plt.plot(distances)\n",
    "# plt.ylim((0,0.000025))"
   ]
  },
  {
   "cell_type": "markdown",
   "metadata": {},
   "source": [
    "I don't think any epsilon makes sense here."
   ]
  },
  {
   "cell_type": "code",
   "execution_count": null,
   "metadata": {},
   "outputs": [],
   "source": []
  }
 ],
 "metadata": {
  "kernelspec": {
   "display_name": "Python 3 (ipykernel)",
   "language": "python",
   "name": "python3"
  },
  "language_info": {
   "codemirror_mode": {
    "name": "ipython",
    "version": 3
   },
   "file_extension": ".py",
   "mimetype": "text/x-python",
   "name": "python",
   "nbconvert_exporter": "python",
   "pygments_lexer": "ipython3",
   "version": "3.9.0"
  }
 },
 "nbformat": 4,
 "nbformat_minor": 4
}
