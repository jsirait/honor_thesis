{
 "cells": [
  {
   "cell_type": "markdown",
   "id": "3981774a",
   "metadata": {},
   "source": [
    "# Clustering with Features Selection"
   ]
  },
  {
   "cell_type": "code",
   "execution_count": 3,
   "id": "8000a8a1",
   "metadata": {},
   "outputs": [
    {
     "name": "stdout",
     "output_type": "stream",
     "text": [
      "Collecting skfeature-chappers\n",
      "  Downloading skfeature_chappers-1.1.0-py3-none-any.whl (66 kB)\n",
      "Requirement already satisfied: numpy in c:\\users\\circulating\\appdata\\local\\programs\\python\\python39\\lib\\site-packages (from skfeature-chappers) (1.21.4)\n",
      "Requirement already satisfied: pandas in c:\\users\\circulating\\appdata\\local\\programs\\python\\python39\\lib\\site-packages (from skfeature-chappers) (1.3.4)\n",
      "Requirement already satisfied: scikit-learn in c:\\users\\circulating\\appdata\\local\\programs\\python\\python39\\lib\\site-packages (from skfeature-chappers) (1.0.1)\n",
      "Requirement already satisfied: python-dateutil>=2.7.3 in c:\\users\\circulating\\appdata\\local\\programs\\python\\python39\\lib\\site-packages (from pandas->skfeature-chappers) (2.8.2)\n",
      "Requirement already satisfied: pytz>=2017.3 in c:\\users\\circulating\\appdata\\local\\programs\\python\\python39\\lib\\site-packages (from pandas->skfeature-chappers) (2021.3)\n",
      "Requirement already satisfied: scipy>=1.1.0 in c:\\users\\circulating\\appdata\\local\\programs\\python\\python39\\lib\\site-packages (from scikit-learn->skfeature-chappers) (1.7.2)\n",
      "Requirement already satisfied: joblib>=0.11 in c:\\users\\circulating\\appdata\\local\\programs\\python\\python39\\lib\\site-packages (from scikit-learn->skfeature-chappers) (1.1.0)\n",
      "Requirement already satisfied: threadpoolctl>=2.0.0 in c:\\users\\circulating\\appdata\\local\\programs\\python\\python39\\lib\\site-packages (from scikit-learn->skfeature-chappers) (3.0.0)\n",
      "Requirement already satisfied: six>=1.5 in c:\\users\\circulating\\appdata\\local\\programs\\python\\python39\\lib\\site-packages (from python-dateutil>=2.7.3->pandas->skfeature-chappers) (1.16.0)\n",
      "Installing collected packages: skfeature-chappers\n",
      "Successfully installed skfeature-chappers-1.1.0\n"
     ]
    }
   ],
   "source": [
    "!pip install skfeature-chappers"
   ]
  },
  {
   "cell_type": "code",
   "execution_count": 136,
   "id": "ce62d6b2",
   "metadata": {},
   "outputs": [],
   "source": [
    "import json\n",
    "import pandas as pd\n",
    "import numpy as np\n",
    "from collections import Counter, defaultdict\n",
    "\n",
    "import matplotlib.pyplot as plt\n",
    "from matplotlib.pyplot import figure\n",
    "\n",
    "from sklearn.cluster import KMeans\n",
    "from sklearn.metrics import silhouette_score\n",
    "from sklearn.preprocessing import StandardScaler\n",
    "\n",
    "from sklearn import preprocessing\n",
    "\n",
    "from sklearn.metrics import silhouette_score\n",
    "from kneed import KneeLocator\n",
    "\n",
    "from scipy.interpolate import make_interp_spline, BSpline\n",
    "\n",
    "from sklearn.decomposition import PCA\n",
    "\n",
    "import math\n",
    "import statistics\n",
    "\n",
    "from sklearn.feature_selection import SelectKBest\n",
    "\n",
    "from skfeature.utility import construct_W  # for affinity matrix for Laplacian representation"
   ]
  },
  {
   "cell_type": "markdown",
   "id": "f9d9240d",
   "metadata": {},
   "source": [
    "## Reading data"
   ]
  },
  {
   "cell_type": "code",
   "execution_count": 137,
   "id": "538d3cb4",
   "metadata": {},
   "outputs": [],
   "source": [
    "with open (\"gmw_intersection.json\", \"r\", encoding = \"utf-8\") as infile:\n",
    "    gmw_intersection = json.load(infile)"
   ]
  },
  {
   "cell_type": "code",
   "execution_count": 138,
   "id": "e9093ba7",
   "metadata": {},
   "outputs": [],
   "source": [
    "with open(\"ns_subreddit_2021-01.json\", \"r\", encoding = \"utf-8\") as infile1:\n",
    "    ns_subreddit_jan = json.load(infile1)\n",
    "\n",
    "with open(\"ns_subreddit_2021-02.json\", \"r\", encoding = \"utf-8\") as infile2:\n",
    "    ns_subreddit_feb = json.load(infile2)\n",
    "    \n",
    "with open(\"ns_subreddit_2021-03.json\", \"r\", encoding = \"utf-8\") as infile3:\n",
    "    ns_subreddit_march = json.load(infile3)\n",
    "\n",
    "with open(\"ns_subreddit_2021-04.json\", \"r\", encoding = \"utf-8\") as infile4:\n",
    "    ns_subreddit_april = json.load(infile4)\n",
    "    \n",
    "with open(\"ns_subreddit_2021-05.json\", \"r\", encoding = \"utf-8\") as infile5:\n",
    "    ns_subreddit_may = json.load(infile5)\n",
    "    \n",
    "with open(\"ns_subreddit_2021-02.json\", \"r\", encoding = \"utf-8\") as infile6:\n",
    "    ns_subreddit_jun = json.load(infile6)"
   ]
  },
  {
   "cell_type": "code",
   "execution_count": 139,
   "id": "fe33ebd8",
   "metadata": {},
   "outputs": [],
   "source": [
    "# Reading in all the subreddits in our files\n",
    "\n",
    "with open(\"subreddit_ns_2021-01.json\", \"r\", encoding = \"utf-8\") as infile1a:\n",
    "    subreddit_ns_jan = json.load(infile1a)\n",
    "\n",
    "with open(\"subreddit_ns_2021-02.json\", \"r\", encoding = \"utf-8\") as infile2a:\n",
    "    subreddit_ns_feb = json.load(infile2a)\n",
    "    \n",
    "with open(\"subreddit_ns_2021-03.json\", \"r\", encoding = \"utf-8\") as infile3a:\n",
    "    subreddit_ns_march = json.load(infile3a)\n",
    "    \n",
    "with open(\"subreddit_ns_2021-04.json\", \"r\", encoding = \"utf-8\") as infile4a:\n",
    "    subreddit_ns_april = json.load(infile4a)\n",
    "    \n",
    "with open(\"subreddit_ns_2021-05.json\", \"r\", encoding = \"utf-8\") as infile5a:\n",
    "    subreddit_ns_may = json.load(infile5a)\n",
    "    \n",
    "with open(\"subreddit_ns_2021-02.json\", \"r\", encoding = \"utf-8\") as infile6a:\n",
    "    subreddit_ns_jun = json.load(infile6a)"
   ]
  },
  {
   "cell_type": "markdown",
   "id": "2844f01d",
   "metadata": {},
   "source": [
    "Now, let's set up a fixed ordering for the subreddits as features"
   ]
  },
  {
   "cell_type": "code",
   "execution_count": 140,
   "id": "21b0a41a",
   "metadata": {},
   "outputs": [],
   "source": [
    "subreddit_intersection = list(set(subreddit_ns_jan) & set(subreddit_ns_feb) &\n",
    "      set(subreddit_ns_march) & set(subreddit_ns_april) &\n",
    "      set(subreddit_ns_may) & set(subreddit_ns_jun))"
   ]
  },
  {
   "cell_type": "code",
   "execution_count": 141,
   "id": "87abbd9e",
   "metadata": {},
   "outputs": [
    {
     "data": {
      "text/plain": [
       "6220"
      ]
     },
     "execution_count": 141,
     "metadata": {},
     "output_type": "execute_result"
    }
   ],
   "source": [
    "len(subreddit_intersection)"
   ]
  },
  {
   "cell_type": "markdown",
   "id": "66343d39",
   "metadata": {},
   "source": [
    "Let's create the vector representations for each news source, only for news sources that appear in all 6 months."
   ]
  },
  {
   "cell_type": "code",
   "execution_count": 145,
   "id": "333582ab",
   "metadata": {},
   "outputs": [],
   "source": [
    "news_sources_intersection = list(set(ns_subreddit_jan) & set(ns_subreddit_feb) &\n",
    "      set(ns_subreddit_march) & set(ns_subreddit_april) &\n",
    "      set(ns_subreddit_may) & set(ns_subreddit_jun))"
   ]
  },
  {
   "cell_type": "code",
   "execution_count": 146,
   "id": "e1a0aae0",
   "metadata": {},
   "outputs": [],
   "source": [
    "ns_sr_rep = dict()\n",
    "for ns in news_sources_intersection: #ns_subreddit_april:\n",
    "    # the representation of a news source = # mentions in each subreddit\n",
    "    ns_subreddit_april[ns] = Counter(ns_subreddit_april[ns])\n",
    "    # making sure the ordering follows `subreddit_intersection`\n",
    "    ns_sr_rep[ns] = [ns_subreddit_april[ns][subreddit_intersection[idx]] for idx in range(len(subreddit_intersection))]\n",
    "\n",
    "# added Dec 12\n",
    "\n",
    "# january\n",
    "for ns_jan in ns_subreddit_jan:\n",
    "    ns_subreddit_jan[ns_jan] = Counter(ns_subreddit_jan[ns_jan])\n",
    "    if ns_jan in ns_sr_rep:\n",
    "        # update\n",
    "        ns_sr_rep[ns_jan] = [ns_sr_rep[ns_jan][idx] + ns_subreddit_jan[ns_jan][subreddit_intersection[idx]] \n",
    "                             for idx in range(len(subreddit_intersection))]   \n",
    "#     else:\n",
    "#         ns_sr_rep[ns_jan] = [ns_subreddit_jan[ns_jan][subreddit_intersection[idx]] \n",
    "#                              for idx in range(len(subreddit_intersection))]\n",
    "\n",
    "# february\n",
    "for ns_feb in ns_subreddit_feb:\n",
    "    ns_subreddit_feb[ns_feb] = Counter(ns_subreddit_feb[ns_feb])\n",
    "    if ns_feb in ns_sr_rep:\n",
    "        ns_sr_rep[ns_feb] = [ns_sr_rep[ns_feb][idx] + ns_subreddit_feb[ns_feb][subreddit_intersection[idx]] \n",
    "                             for idx in range(len(subreddit_intersection))]   \n",
    "#     else:\n",
    "#         ns_sr_rep[ns_feb] = [ns_subreddit_feb[ns_feb][subreddit_intersection[idx]] \n",
    "#                              for idx in range(len(subreddit_intersection))]\n",
    "\n",
    "# march\n",
    "for ns_march in ns_subreddit_march:\n",
    "    ns_subreddit_march[ns_march] = Counter(ns_subreddit_march[ns_march])\n",
    "    if ns_march in ns_sr_rep:\n",
    "        ns_sr_rep[ns_march] = [ns_sr_rep[ns_march][idx] + ns_subreddit_march[ns_march][subreddit_intersection[idx]] \n",
    "                               for idx in range(len(subreddit_intersection))]   \n",
    "#     else:\n",
    "#         ns_sr_rep[ns_march] = [ns_subreddit_march[ns_march][subreddit_intersection[idx]] \n",
    "#                              for idx in range(len(subreddit_intersection))]\n",
    "     \n",
    "\n",
    "    \n",
    "# may\n",
    "for ns_may in ns_subreddit_may:\n",
    "    ns_subreddit_may[ns_may] = Counter(ns_subreddit_may[ns_may])\n",
    "    if ns_may in ns_sr_rep:\n",
    "        ns_sr_rep[ns_may] = [ns_sr_rep[ns_may][idx] + ns_subreddit_may[ns_may][subreddit_intersection[idx]] \n",
    "                             for idx in range(len(subreddit_intersection))]   \n",
    "#     else:\n",
    "#         ns_sr_rep[ns_may] = [ns_subreddit_may[ns_may][subreddit_intersection[idx]] \n",
    "#                              for idx in range(len(subreddit_intersection))]\n",
    "        \n",
    "# june\n",
    "for ns_jun in ns_subreddit_jun:\n",
    "    ns_subreddit_jun[ns_jun] = Counter(ns_subreddit_jun[ns_jun])\n",
    "    if ns_jun in ns_sr_rep:\n",
    "        ns_sr_rep[ns_jun] = [ns_sr_rep[ns_jun][idx] + ns_subreddit_jun[ns_jun][subreddit_intersection[idx]] \n",
    "                             for idx in range(len(subreddit_intersection))]   \n",
    "#     else:\n",
    "#         ns_sr_rep[ns_jun] = [ns_subreddit_jun[ns_jun][subreddit_intersection[idx]] \n",
    "#                              for idx in range(len(subreddit_intersection))]"
   ]
  },
  {
   "cell_type": "markdown",
   "id": "0c888f3f",
   "metadata": {},
   "source": [
    "Now we normalize the news sources' representations using `numpy`'s normalize."
   ]
  },
  {
   "cell_type": "code",
   "execution_count": 147,
   "id": "9f42ecf4",
   "metadata": {},
   "outputs": [],
   "source": [
    "ns_sr_rep_normalized = dict()\n",
    "for ns in ns_sr_rep:\n",
    "    rep = ns_sr_rep[ns]\n",
    "    ns_sr_rep_normalized[ns] = preprocessing.normalize(np.array([rep]))"
   ]
  },
  {
   "cell_type": "code",
   "execution_count": 148,
   "id": "c1852ab7",
   "metadata": {},
   "outputs": [
    {
     "data": {
      "text/plain": [
       "2785"
      ]
     },
     "execution_count": 148,
     "metadata": {},
     "output_type": "execute_result"
    }
   ],
   "source": [
    "len(ns_sr_rep_normalized)"
   ]
  },
  {
   "cell_type": "code",
   "execution_count": 149,
   "id": "3c8c4b10",
   "metadata": {},
   "outputs": [
    {
     "data": {
      "text/plain": [
       "True"
      ]
     },
     "execution_count": 149,
     "metadata": {},
     "output_type": "execute_result"
    }
   ],
   "source": [
    "\"nytimes.com\" in ns_sr_rep_normalized.keys()"
   ]
  },
  {
   "cell_type": "markdown",
   "id": "a6a675bf",
   "metadata": {},
   "source": [
    "### Features Selection\n",
    "\n",
    "First I cast the data structure I needed to te appropriate based on the functions I will call."
   ]
  },
  {
   "cell_type": "code",
   "execution_count": 150,
   "id": "0c884d9d",
   "metadata": {},
   "outputs": [],
   "source": [
    "frozen_nsfeatures = list(ns_sr_rep_normalized.items())"
   ]
  },
  {
   "cell_type": "code",
   "execution_count": 151,
   "id": "238b34d9",
   "metadata": {},
   "outputs": [],
   "source": [
    "newssources = [k[0] for k in frozen_nsfeatures]"
   ]
  },
  {
   "cell_type": "code",
   "execution_count": 152,
   "id": "b49670b3",
   "metadata": {},
   "outputs": [
    {
     "data": {
      "text/plain": [
       "2785"
      ]
     },
     "execution_count": 152,
     "metadata": {},
     "output_type": "execute_result"
    }
   ],
   "source": [
    "len(newssources)"
   ]
  },
  {
   "cell_type": "code",
   "execution_count": 153,
   "id": "db118576",
   "metadata": {},
   "outputs": [],
   "source": [
    "features = [k[1][0] for k in frozen_nsfeatures]"
   ]
  },
  {
   "cell_type": "code",
   "execution_count": 154,
   "id": "24388567",
   "metadata": {},
   "outputs": [
    {
     "data": {
      "text/plain": [
       "2785"
      ]
     },
     "execution_count": 154,
     "metadata": {},
     "output_type": "execute_result"
    }
   ],
   "source": [
    "len(features)"
   ]
  },
  {
   "cell_type": "markdown",
   "id": "8bf50d6d",
   "metadata": {},
   "source": [
    "Then we select 500 features. Note that we need unsupervised feature selection method. Continue here: https://towardsdatascience.com/overview-of-feature-selection-methods-a2d115c7a8f7."
   ]
  },
  {
   "cell_type": "code",
   "execution_count": 155,
   "id": "577b8ab6",
   "metadata": {},
   "outputs": [
    {
     "data": {
      "text/plain": [
       "[array([0., 0., 0., ..., 0., 0., 0.]),\n",
       " array([0., 0., 0., ..., 0., 0., 0.]),\n",
       " array([0., 0., 0., ..., 0., 0., 0.]),\n",
       " array([0., 0., 0., ..., 0., 0., 0.]),\n",
       " array([0.        , 0.00071706, 0.        , ..., 0.        , 0.        ,\n",
       "        0.        ]),\n",
       " array([0., 0., 0., ..., 0., 0., 0.]),\n",
       " array([0., 0., 0., ..., 0., 0., 0.]),\n",
       " array([0., 0., 0., ..., 0., 0., 0.]),\n",
       " array([0., 0., 0., ..., 0., 0., 0.]),\n",
       " array([0., 0., 0., ..., 0., 0., 0.])]"
      ]
     },
     "execution_count": 155,
     "metadata": {},
     "output_type": "execute_result"
    }
   ],
   "source": [
    "features[:10]"
   ]
  },
  {
   "cell_type": "code",
   "execution_count": 156,
   "id": "4a936e65",
   "metadata": {},
   "outputs": [],
   "source": [
    "# creating Laplacian matrix representation\n",
    "# from skfeature.utility import construct_W\n",
    "kwargs_W = {\"metric\":\"euclidean\",\"neighbor_mode\":\"knn\",\"weight_mode\":\"heat_kernel\",\"k\":5,'t':1}\n",
    "W = construct_W.construct_W(np.array(features), **kwargs_W)"
   ]
  },
  {
   "cell_type": "code",
   "execution_count": 157,
   "id": "e2e1ee4c",
   "metadata": {},
   "outputs": [],
   "source": [
    "# ranking scores\n",
    "from skfeature.function.similarity_based import lap_score\n",
    "\n",
    "score = lap_score.lap_score(np.array(features), W=W, mode=\"rank\")"
   ]
  },
  {
   "cell_type": "code",
   "execution_count": 158,
   "id": "560f1e45",
   "metadata": {},
   "outputs": [
    {
     "name": "stdout",
     "output_type": "stream",
     "text": [
      "[6207 2002 3801 ... 5820 1419 1993]\n"
     ]
    }
   ],
   "source": [
    "print(score)"
   ]
  },
  {
   "cell_type": "code",
   "execution_count": 159,
   "id": "8b71f45a",
   "metadata": {},
   "outputs": [
    {
     "data": {
      "text/plain": [
       "True"
      ]
     },
     "execution_count": 159,
     "metadata": {},
     "output_type": "execute_result"
    }
   ],
   "source": [
    "len(set(score)) == len(score) # subreddits were assigned unique scores"
   ]
  },
  {
   "cell_type": "markdown",
   "id": "1f32b219",
   "metadata": {},
   "source": [
    "Let's order our subreddits based on their importance in this sense."
   ]
  },
  {
   "cell_type": "code",
   "execution_count": 160,
   "id": "6838f64b",
   "metadata": {},
   "outputs": [],
   "source": [
    "ordered_subreddits_dict = {sc:subreddit_intersection[sc] for sc in score}"
   ]
  },
  {
   "cell_type": "code",
   "execution_count": 161,
   "id": "a805b6e3",
   "metadata": {},
   "outputs": [],
   "source": [
    "ordered_subreddits = [ordered_subreddits_dict[s] for s in range(len(score))]"
   ]
  },
  {
   "cell_type": "code",
   "execution_count": 162,
   "id": "e5c0414a",
   "metadata": {},
   "outputs": [
    {
     "data": {
      "text/plain": [
       "['TennesseePolitics',\n",
       " 'Indigenous',\n",
       " 'DrainTheSwamp',\n",
       " 'cesky',\n",
       " 'listentothis',\n",
       " 'animalimpact',\n",
       " 'Calgary',\n",
       " 'StardewValley',\n",
       " 'ArrestsWeb',\n",
       " 'myanmar']"
      ]
     },
     "execution_count": 162,
     "metadata": {},
     "output_type": "execute_result"
    }
   ],
   "source": [
    "# Ten most important subreddits\n",
    "ordered_subreddits[:10]"
   ]
  },
  {
   "cell_type": "markdown",
   "id": "3cf00202",
   "metadata": {},
   "source": [
    "## Low Variance\n",
    "What about selecting features using `skfeature.function.statistical_based.low_variance`"
   ]
  },
  {
   "cell_type": "markdown",
   "id": "b3baf2b0",
   "metadata": {},
   "source": [
    "First let's look at the various variances of the feature columns."
   ]
  },
  {
   "cell_type": "code",
   "execution_count": 163,
   "id": "0e41bee0",
   "metadata": {},
   "outputs": [],
   "source": [
    "variances = [statistics.pvariance([row[idx] for row in features]) for idx in range(len(features[0]))]"
   ]
  },
  {
   "cell_type": "code",
   "execution_count": 164,
   "id": "fb645e29",
   "metadata": {},
   "outputs": [
    {
     "data": {
      "text/plain": [
       "6220"
      ]
     },
     "execution_count": 164,
     "metadata": {},
     "output_type": "execute_result"
    }
   ],
   "source": [
    "len(variances)"
   ]
  },
  {
   "cell_type": "code",
   "execution_count": 165,
   "id": "19332f38",
   "metadata": {},
   "outputs": [
    {
     "data": {
      "text/plain": [
       "0.036082942854536185"
      ]
     },
     "execution_count": 165,
     "metadata": {},
     "output_type": "execute_result"
    }
   ],
   "source": [
    "max(variances)"
   ]
  },
  {
   "cell_type": "code",
   "execution_count": 183,
   "id": "f54bd4bd",
   "metadata": {},
   "outputs": [
    {
     "data": {
      "text/plain": [
       "Text(0.5, 0, 'variance')"
      ]
     },
     "execution_count": 183,
     "metadata": {},
     "output_type": "execute_result"
    },
    {
     "data": {
      "image/png": "[encoded data removed]",
      "text/plain": [
       "<Figure size 480x480 with 1 Axes>"
      ]
     },
     "metadata": {
      "needs_background": "light"
     },
     "output_type": "display_data"
    }
   ],
   "source": [
    "figure(figsize=(6, 6), dpi=80)\n",
    "plt.hist([v for v in variances])\n",
    "plt.title(\"Variance of features (n=6220)\")\n",
    "plt.ylabel(\"frequency\")\n",
    "plt.xlabel(\"variance\")"
   ]
  },
  {
   "cell_type": "code",
   "execution_count": 182,
   "id": "d5c58802",
   "metadata": {},
   "outputs": [
    {
     "data": {
      "text/plain": [
       "Text(0.5, 0, 'variance')"
      ]
     },
     "execution_count": 182,
     "metadata": {},
     "output_type": "execute_result"
    },
    {
     "data": {
      "image/png": "[encoded data removed]",
      "text/plain": [
       "<Figure size 480x480 with 1 Axes>"
      ]
     },
     "metadata": {
      "needs_background": "light"
     },
     "output_type": "display_data"
    }
   ],
   "source": [
    "figure(figsize=(6, 6), dpi=80)\n",
    "plt.hist([v for v in variances if v < 0.0005])\n",
    "plt.title(\"Variance of features (n=6220)\")\n",
    "plt.ylabel(\"frequency\")\n",
    "plt.xlabel(\"variance\")"
   ]
  },
  {
   "cell_type": "code",
   "execution_count": 84,
   "id": "81dab8a5",
   "metadata": {},
   "outputs": [],
   "source": [
    "from sklearn.feature_selection import VarianceThreshold"
   ]
  },
  {
   "cell_type": "code",
   "execution_count": 176,
   "id": "11def117",
   "metadata": {
    "scrolled": true
   },
   "outputs": [],
   "source": [
    "# threshold = 0.000075\n",
    "selector = VarianceThreshold(threshold=0.0002)\n",
    "new_features = selector.fit_transform(np.array(features))"
   ]
  },
  {
   "cell_type": "code",
   "execution_count": 177,
   "id": "20d9a0f6",
   "metadata": {},
   "outputs": [
    {
     "data": {
      "text/plain": [
       "945"
      ]
     },
     "execution_count": 177,
     "metadata": {},
     "output_type": "execute_result"
    }
   ],
   "source": [
    "len(new_features[0])"
   ]
  },
  {
   "cell_type": "code",
   "execution_count": 100,
   "id": "c75a2a7a",
   "metadata": {},
   "outputs": [],
   "source": [
    "?VarianceThreshold"
   ]
  },
  {
   "cell_type": "markdown",
   "id": "61f2f4e9",
   "metadata": {},
   "source": [
    "## Clustering"
   ]
  }
 ],
 "metadata": {
  "kernelspec": {
   "display_name": "Python 3 (ipykernel)",
   "language": "python",
   "name": "python3"
  },
  "language_info": {
   "codemirror_mode": {
    "name": "ipython",
    "version": 3
   },
   "file_extension": ".py",
   "mimetype": "text/x-python",
   "name": "python",
   "nbconvert_exporter": "python",
   "pygments_lexer": "ipython3",
   "version": "3.9.0"
  }
 },
 "nbformat": 4,
 "nbformat_minor": 5
}
