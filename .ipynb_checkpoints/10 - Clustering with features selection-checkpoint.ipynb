{
 "cells": [
  {
   "cell_type": "markdown",
   "id": "3981774a",
   "metadata": {},
   "source": [
    "# Clustering with Features Selection"
   ]
  },
  {
   "cell_type": "code",
   "execution_count": 1,
   "id": "ce62d6b2",
   "metadata": {},
   "outputs": [],
   "source": [
    "import json\n",
    "import pandas as pd\n",
    "import numpy as np\n",
    "from collections import Counter, defaultdict\n",
    "import matplotlib.pyplot as plt\n",
    "from sklearn.cluster import KMeans\n",
    "from sklearn.metrics import silhouette_score\n",
    "from sklearn.preprocessing import StandardScaler\n",
    "\n",
    "from sklearn import preprocessing\n",
    "\n",
    "from sklearn.metrics import silhouette_score\n",
    "from kneed import KneeLocator\n",
    "\n",
    "from scipy.interpolate import make_interp_spline, BSpline\n",
    "\n",
    "from sklearn.decomposition import PCA\n",
    "\n",
    "import math\n",
    "\n",
    "from sklearn.feature_selection import SelectKBest"
   ]
  },
  {
   "cell_type": "markdown",
   "id": "f9d9240d",
   "metadata": {},
   "source": [
    "## Reading data"
   ]
  },
  {
   "cell_type": "code",
   "execution_count": 2,
   "id": "538d3cb4",
   "metadata": {},
   "outputs": [],
   "source": [
    "with open (\"gmw_intersection.json\", \"r\", encoding = \"utf-8\") as infile:\n",
    "    gmw_intersection = json.load(infile)"
   ]
  },
  {
   "cell_type": "code",
   "execution_count": 3,
   "id": "e9093ba7",
   "metadata": {},
   "outputs": [],
   "source": [
    "with open(\"ns_subreddit_2021-01.json\", \"r\", encoding = \"utf-8\") as infile1:\n",
    "    ns_subreddit_jan = json.load(infile1)\n",
    "\n",
    "with open(\"ns_subreddit_2021-02.json\", \"r\", encoding = \"utf-8\") as infile2:\n",
    "    ns_subreddit_feb = json.load(infile2)\n",
    "    \n",
    "with open(\"ns_subreddit_2021-03.json\", \"r\", encoding = \"utf-8\") as infile3:\n",
    "    ns_subreddit_march = json.load(infile3)\n",
    "\n",
    "with open(\"ns_subreddit_2021-04.json\", \"r\", encoding = \"utf-8\") as infile4:\n",
    "    ns_subreddit_april = json.load(infile4)\n",
    "    \n",
    "with open(\"ns_subreddit_2021-05.json\", \"r\", encoding = \"utf-8\") as infile5:\n",
    "    ns_subreddit_may = json.load(infile5)\n",
    "    \n",
    "with open(\"ns_subreddit_2021-02.json\", \"r\", encoding = \"utf-8\") as infile6:\n",
    "    ns_subreddit_jun = json.load(infile6)"
   ]
  },
  {
   "cell_type": "code",
   "execution_count": 4,
   "id": "fe33ebd8",
   "metadata": {},
   "outputs": [],
   "source": [
    "# Reading in all the subreddits in our files\n",
    "\n",
    "with open(\"subreddit_ns_2021-01.json\", \"r\", encoding = \"utf-8\") as infile1a:\n",
    "    subreddit_ns_jan = json.load(infile1a)\n",
    "\n",
    "with open(\"subreddit_ns_2021-02.json\", \"r\", encoding = \"utf-8\") as infile2a:\n",
    "    subreddit_ns_feb = json.load(infile2a)\n",
    "    \n",
    "with open(\"subreddit_ns_2021-03.json\", \"r\", encoding = \"utf-8\") as infile3a:\n",
    "    subreddit_ns_march = json.load(infile3a)\n",
    "    \n",
    "with open(\"subreddit_ns_2021-04.json\", \"r\", encoding = \"utf-8\") as infile4a:\n",
    "    subreddit_ns_april = json.load(infile4a)\n",
    "    \n",
    "with open(\"subreddit_ns_2021-05.json\", \"r\", encoding = \"utf-8\") as infile5a:\n",
    "    subreddit_ns_may = json.load(infile5a)\n",
    "    \n",
    "with open(\"subreddit_ns_2021-02.json\", \"r\", encoding = \"utf-8\") as infile6a:\n",
    "    subreddit_ns_jun = json.load(infile6a)"
   ]
  },
  {
   "cell_type": "markdown",
   "id": "2844f01d",
   "metadata": {},
   "source": [
    "Now, let's set up a fixed ordering for the subreddits as features"
   ]
  },
  {
   "cell_type": "code",
   "execution_count": 7,
   "id": "21b0a41a",
   "metadata": {},
   "outputs": [],
   "source": [
    "subreddit_intersection = list(set(subreddit_ns_jan) & set(subreddit_ns_feb) &\n",
    "      set(subreddit_ns_march) & set(subreddit_ns_april) &\n",
    "      set(subreddit_ns_may) & set(subreddit_ns_jun))"
   ]
  },
  {
   "cell_type": "code",
   "execution_count": 8,
   "id": "87abbd9e",
   "metadata": {},
   "outputs": [
    {
     "data": {
      "text/plain": [
       "6220"
      ]
     },
     "execution_count": 8,
     "metadata": {},
     "output_type": "execute_result"
    }
   ],
   "source": [
    "len(subreddit_intersection)"
   ]
  },
  {
   "cell_type": "markdown",
   "id": "66343d39",
   "metadata": {},
   "source": [
    "Let's create the vector representations for each news source."
   ]
  },
  {
   "cell_type": "code",
   "execution_count": 11,
   "id": "e1a0aae0",
   "metadata": {},
   "outputs": [],
   "source": [
    "ns_sr_rep = dict()\n",
    "for ns in ns_subreddit_april:\n",
    "    # the representation of a news source = # mentions in each subreddit\n",
    "    ns_subreddit_april[ns] = Counter(ns_subreddit_april[ns])\n",
    "    # making sure the ordering follows `subreddit_intersection`\n",
    "    ns_sr_rep[ns] = [ns_subreddit_april[ns][subreddit_intersection[idx]] for idx in range(len(subreddit_intersection))]\n",
    "\n",
    "# added Dec 12\n",
    "\n",
    "# january\n",
    "for ns_jan in ns_subreddit_jan:\n",
    "    ns_subreddit_jan[ns_jan] = Counter(ns_subreddit_jan[ns_jan])\n",
    "    if ns_jan in ns_sr_rep:\n",
    "        # update\n",
    "        ns_sr_rep[ns_jan] = [ns_sr_rep[ns_jan][idx] + ns_subreddit_jan[ns_jan][subreddit_intersection[idx]] \n",
    "                             for idx in range(len(subreddit_intersection))]   \n",
    "    else:\n",
    "        ns_sr_rep[ns_jan] = [ns_subreddit_jan[ns_jan][subreddit_intersection[idx]] \n",
    "                             for idx in range(len(subreddit_intersection))]\n",
    "\n",
    "# february\n",
    "for ns_feb in ns_subreddit_feb:\n",
    "    ns_subreddit_feb[ns_feb] = Counter(ns_subreddit_feb[ns_feb])\n",
    "    if ns_feb in ns_sr_rep:\n",
    "        ns_sr_rep[ns_feb] = [ns_sr_rep[ns_feb][idx] + ns_subreddit_feb[ns_feb][subreddit_intersection[idx]] \n",
    "                             for idx in range(len(subreddit_intersection))]   \n",
    "    else:\n",
    "        ns_sr_rep[ns_feb] = [ns_subreddit_feb[ns_feb][subreddit_intersection[idx]] \n",
    "                             for idx in range(len(subreddit_intersection))]\n",
    "\n",
    "# march\n",
    "for ns_march in ns_subreddit_march:\n",
    "    ns_subreddit_march[ns_march] = Counter(ns_subreddit_march[ns_march])\n",
    "    if ns_march in ns_sr_rep:\n",
    "        ns_sr_rep[ns_march] = [ns_sr_rep[ns_march][idx] + ns_subreddit_march[ns_march][subreddit_intersection[idx]] \n",
    "                               for idx in range(len(subreddit_intersection))]   \n",
    "    else:\n",
    "        ns_sr_rep[ns_march] = [ns_subreddit_march[ns_march][subreddit_intersection[idx]] \n",
    "                             for idx in range(len(subreddit_intersection))]\n",
    "     \n",
    "\n",
    "    \n",
    "# may\n",
    "for ns_may in ns_subreddit_may:\n",
    "    ns_subreddit_may[ns_may] = Counter(ns_subreddit_may[ns_may])\n",
    "    if ns_may in ns_sr_rep:\n",
    "        ns_sr_rep[ns_may] = [ns_sr_rep[ns_may][idx] + ns_subreddit_may[ns_may][subreddit_intersection[idx]] \n",
    "                             for idx in range(len(subreddit_intersection))]   \n",
    "    else:\n",
    "        ns_sr_rep[ns_may] = [ns_subreddit_may[ns_may][subreddit_intersection[idx]] \n",
    "                             for idx in range(len(subreddit_intersection))]\n",
    "        \n",
    "# june\n",
    "for ns_jun in ns_subreddit_jun:\n",
    "    ns_subreddit_jun[ns_jun] = Counter(ns_subreddit_jun[ns_jun])\n",
    "    if ns_jun in ns_sr_rep:\n",
    "        ns_sr_rep[ns_jun] = [ns_sr_rep[ns_jun][idx] + ns_subreddit_jun[ns_jun][subreddit_intersection[idx]] \n",
    "                             for idx in range(len(subreddit_intersection))]   \n",
    "    else:\n",
    "        ns_sr_rep[ns_jun] = [ns_subreddit_jun[ns_jun][subreddit_intersection[idx]] \n",
    "                             for idx in range(len(subreddit_intersection))]"
   ]
  },
  {
   "cell_type": "markdown",
   "id": "0c888f3f",
   "metadata": {},
   "source": [
    "Now we normalize the news sources' representations using `numpy`'s normalize."
   ]
  },
  {
   "cell_type": "code",
   "execution_count": 12,
   "id": "a0ab2c45",
   "metadata": {},
   "outputs": [],
   "source": [
    "for ns in ns_sr_rep:\n",
    "    rep = ns_sr_rep[ns]\n",
    "    ns_sr_rep[ns] = preprocessing.normalize(np.array([rep]))"
   ]
  },
  {
   "cell_type": "markdown",
   "id": "8bf50d6d",
   "metadata": {},
   "source": [
    "Then we select 500 features. Note that we need unsupervised feature selection method. Continue here: https://towardsdatascience.com/overview-of-feature-selection-methods-a2d115c7a8f7."
   ]
  },
  {
   "cell_type": "code",
   "execution_count": null,
   "id": "4a936e65",
   "metadata": {},
   "outputs": [],
   "source": []
  }
 ],
 "metadata": {
  "kernelspec": {
   "display_name": "Python 3 (ipykernel)",
   "language": "python",
   "name": "python3"
  },
  "language_info": {
   "codemirror_mode": {
    "name": "ipython",
    "version": 3
   },
   "file_extension": ".py",
   "mimetype": "text/x-python",
   "name": "python",
   "nbconvert_exporter": "python",
   "pygments_lexer": "ipython3",
   "version": "3.9.0"
  }
 },
 "nbformat": 4,
 "nbformat_minor": 5
}
