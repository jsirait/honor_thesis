{
 "cells": [
  {
   "cell_type": "markdown",
   "id": "3981774a",
   "metadata": {},
   "source": [
    "# Clustering with Features Selection"
   ]
  },
  {
   "cell_type": "code",
   "execution_count": 3,
   "id": "567c62e3",
   "metadata": {},
   "outputs": [
    {
     "name": "stdout",
     "output_type": "stream",
     "text": [
      "Collecting skfeature-chappers\n",
      "  Downloading skfeature_chappers-1.1.0-py3-none-any.whl (66 kB)\n",
      "Requirement already satisfied: numpy in c:\\users\\circulating\\appdata\\local\\programs\\python\\python39\\lib\\site-packages (from skfeature-chappers) (1.21.4)\n",
      "Requirement already satisfied: pandas in c:\\users\\circulating\\appdata\\local\\programs\\python\\python39\\lib\\site-packages (from skfeature-chappers) (1.3.4)\n",
      "Requirement already satisfied: scikit-learn in c:\\users\\circulating\\appdata\\local\\programs\\python\\python39\\lib\\site-packages (from skfeature-chappers) (1.0.1)\n",
      "Requirement already satisfied: python-dateutil>=2.7.3 in c:\\users\\circulating\\appdata\\local\\programs\\python\\python39\\lib\\site-packages (from pandas->skfeature-chappers) (2.8.2)\n",
      "Requirement already satisfied: pytz>=2017.3 in c:\\users\\circulating\\appdata\\local\\programs\\python\\python39\\lib\\site-packages (from pandas->skfeature-chappers) (2021.3)\n",
      "Requirement already satisfied: scipy>=1.1.0 in c:\\users\\circulating\\appdata\\local\\programs\\python\\python39\\lib\\site-packages (from scikit-learn->skfeature-chappers) (1.7.2)\n",
      "Requirement already satisfied: joblib>=0.11 in c:\\users\\circulating\\appdata\\local\\programs\\python\\python39\\lib\\site-packages (from scikit-learn->skfeature-chappers) (1.1.0)\n",
      "Requirement already satisfied: threadpoolctl>=2.0.0 in c:\\users\\circulating\\appdata\\local\\programs\\python\\python39\\lib\\site-packages (from scikit-learn->skfeature-chappers) (3.0.0)\n",
      "Requirement already satisfied: six>=1.5 in c:\\users\\circulating\\appdata\\local\\programs\\python\\python39\\lib\\site-packages (from python-dateutil>=2.7.3->pandas->skfeature-chappers) (1.16.0)\n",
      "Installing collected packages: skfeature-chappers\n",
      "Successfully installed skfeature-chappers-1.1.0\n"
     ]
    }
   ],
   "source": [
    "!pip install skfeature-chappers"
   ]
  },
  {
   "cell_type": "code",
   "execution_count": 136,
   "id": "ce62d6b2",
   "metadata": {},
   "outputs": [],
   "source": [
    "import json\n",
    "import pandas as pd\n",
    "import numpy as np\n",
    "from collections import Counter, defaultdict\n",
    "\n",
    "import matplotlib.pyplot as plt\n",
    "from matplotlib.pyplot import figure\n",
    "\n",
    "from sklearn.cluster import KMeans\n",
    "from sklearn.metrics import silhouette_score\n",
    "from sklearn.preprocessing import StandardScaler\n",
    "\n",
    "from sklearn import preprocessing\n",
    "\n",
    "from sklearn.metrics import silhouette_score\n",
    "from kneed import KneeLocator\n",
    "\n",
    "from scipy.interpolate import make_interp_spline, BSpline\n",
    "\n",
    "from sklearn.decomposition import PCA\n",
    "\n",
    "import math\n",
    "import statistics\n",
    "\n",
    "from sklearn.feature_selection import SelectKBest\n",
    "\n",
    "from skfeature.utility import construct_W  # for affinity matrix for Laplacian representation"
   ]
  },
  {
   "cell_type": "markdown",
   "id": "f9d9240d",
   "metadata": {},
   "source": [
    "## Reading data"
   ]
  },
  {
   "cell_type": "code",
   "execution_count": 137,
   "id": "538d3cb4",
   "metadata": {},
   "outputs": [],
   "source": [
    "with open (\"gmw_intersection.json\", \"r\", encoding = \"utf-8\") as infile:\n",
    "    gmw_intersection = json.load(infile)"
   ]
  },
  {
   "cell_type": "code",
   "execution_count": 138,
   "id": "e9093ba7",
   "metadata": {},
   "outputs": [],
   "source": [
    "with open(\"ns_subreddit_2021-01.json\", \"r\", encoding = \"utf-8\") as infile1:\n",
    "    ns_subreddit_jan = json.load(infile1)\n",
    "\n",
    "with open(\"ns_subreddit_2021-02.json\", \"r\", encoding = \"utf-8\") as infile2:\n",
    "    ns_subreddit_feb = json.load(infile2)\n",
    "    \n",
    "with open(\"ns_subreddit_2021-03.json\", \"r\", encoding = \"utf-8\") as infile3:\n",
    "    ns_subreddit_march = json.load(infile3)\n",
    "\n",
    "with open(\"ns_subreddit_2021-04.json\", \"r\", encoding = \"utf-8\") as infile4:\n",
    "    ns_subreddit_april = json.load(infile4)\n",
    "    \n",
    "with open(\"ns_subreddit_2021-05.json\", \"r\", encoding = \"utf-8\") as infile5:\n",
    "    ns_subreddit_may = json.load(infile5)\n",
    "    \n",
    "with open(\"ns_subreddit_2021-02.json\", \"r\", encoding = \"utf-8\") as infile6:\n",
    "    ns_subreddit_jun = json.load(infile6)"
   ]
  },
  {
   "cell_type": "code",
   "execution_count": 139,
   "id": "fe33ebd8",
   "metadata": {},
   "outputs": [],
   "source": [
    "# Reading in all the subreddits in our files\n",
    "\n",
    "with open(\"subreddit_ns_2021-01.json\", \"r\", encoding = \"utf-8\") as infile1a:\n",
    "    subreddit_ns_jan = json.load(infile1a)\n",
    "\n",
    "with open(\"subreddit_ns_2021-02.json\", \"r\", encoding = \"utf-8\") as infile2a:\n",
    "    subreddit_ns_feb = json.load(infile2a)\n",
    "    \n",
    "with open(\"subreddit_ns_2021-03.json\", \"r\", encoding = \"utf-8\") as infile3a:\n",
    "    subreddit_ns_march = json.load(infile3a)\n",
    "    \n",
    "with open(\"subreddit_ns_2021-04.json\", \"r\", encoding = \"utf-8\") as infile4a:\n",
    "    subreddit_ns_april = json.load(infile4a)\n",
    "    \n",
    "with open(\"subreddit_ns_2021-05.json\", \"r\", encoding = \"utf-8\") as infile5a:\n",
    "    subreddit_ns_may = json.load(infile5a)\n",
    "    \n",
    "with open(\"subreddit_ns_2021-02.json\", \"r\", encoding = \"utf-8\") as infile6a:\n",
    "    subreddit_ns_jun = json.load(infile6a)"
   ]
  },
  {
   "cell_type": "markdown",
   "id": "2844f01d",
   "metadata": {},
   "source": [
    "Now, let's set up a fixed ordering for the subreddits as features"
   ]
  },
  {
   "cell_type": "code",
   "execution_count": 140,
   "id": "21b0a41a",
   "metadata": {},
   "outputs": [],
   "source": [
    "subreddit_intersection = list(set(subreddit_ns_jan) & set(subreddit_ns_feb) &\n",
    "      set(subreddit_ns_march) & set(subreddit_ns_april) &\n",
    "      set(subreddit_ns_may) & set(subreddit_ns_jun))"
   ]
  },
  {
   "cell_type": "code",
   "execution_count": 141,
   "id": "87abbd9e",
   "metadata": {},
   "outputs": [
    {
     "data": {
      "text/plain": [
       "6220"
      ]
     },
     "execution_count": 141,
     "metadata": {},
     "output_type": "execute_result"
    }
   ],
   "source": [
    "len(subreddit_intersection)"
   ]
  },
  {
   "cell_type": "markdown",
   "id": "66343d39",
   "metadata": {},
   "source": [
    "Let's create the vector representations for each news source, only for news sources that appear in all 6 months."
   ]
  },
  {
   "cell_type": "code",
   "execution_count": 145,
   "id": "5b561ec9",
   "metadata": {},
   "outputs": [],
   "source": [
    "news_sources_intersection = list(set(ns_subreddit_jan) & set(ns_subreddit_feb) &\n",
    "      set(ns_subreddit_march) & set(ns_subreddit_april) &\n",
    "      set(ns_subreddit_may) & set(ns_subreddit_jun))"
   ]
  },
  {
   "cell_type": "code",
   "execution_count": 146,
   "id": "e1a0aae0",
   "metadata": {},
   "outputs": [],
   "source": [
    "ns_sr_rep = dict()\n",
    "for ns in news_sources_intersection: #ns_subreddit_april:\n",
    "    # the representation of a news source = # mentions in each subreddit\n",
    "    ns_subreddit_april[ns] = Counter(ns_subreddit_april[ns])\n",
    "    # making sure the ordering follows `subreddit_intersection`\n",
    "    ns_sr_rep[ns] = [ns_subreddit_april[ns][subreddit_intersection[idx]] for idx in range(len(subreddit_intersection))]\n",
    "\n",
    "# added Dec 12\n",
    "\n",
    "# january\n",
    "for ns_jan in ns_subreddit_jan:\n",
    "    ns_subreddit_jan[ns_jan] = Counter(ns_subreddit_jan[ns_jan])\n",
    "    if ns_jan in ns_sr_rep:\n",
    "        # update\n",
    "        ns_sr_rep[ns_jan] = [ns_sr_rep[ns_jan][idx] + ns_subreddit_jan[ns_jan][subreddit_intersection[idx]] \n",
    "                             for idx in range(len(subreddit_intersection))]   \n",
    "#     else:\n",
    "#         ns_sr_rep[ns_jan] = [ns_subreddit_jan[ns_jan][subreddit_intersection[idx]] \n",
    "#                              for idx in range(len(subreddit_intersection))]\n",
    "\n",
    "# february\n",
    "for ns_feb in ns_subreddit_feb:\n",
    "    ns_subreddit_feb[ns_feb] = Counter(ns_subreddit_feb[ns_feb])\n",
    "    if ns_feb in ns_sr_rep:\n",
    "        ns_sr_rep[ns_feb] = [ns_sr_rep[ns_feb][idx] + ns_subreddit_feb[ns_feb][subreddit_intersection[idx]] \n",
    "                             for idx in range(len(subreddit_intersection))]   \n",
    "#     else:\n",
    "#         ns_sr_rep[ns_feb] = [ns_subreddit_feb[ns_feb][subreddit_intersection[idx]] \n",
    "#                              for idx in range(len(subreddit_intersection))]\n",
    "\n",
    "# march\n",
    "for ns_march in ns_subreddit_march:\n",
    "    ns_subreddit_march[ns_march] = Counter(ns_subreddit_march[ns_march])\n",
    "    if ns_march in ns_sr_rep:\n",
    "        ns_sr_rep[ns_march] = [ns_sr_rep[ns_march][idx] + ns_subreddit_march[ns_march][subreddit_intersection[idx]] \n",
    "                               for idx in range(len(subreddit_intersection))]   \n",
    "#     else:\n",
    "#         ns_sr_rep[ns_march] = [ns_subreddit_march[ns_march][subreddit_intersection[idx]] \n",
    "#                              for idx in range(len(subreddit_intersection))]\n",
    "     \n",
    "\n",
    "    \n",
    "# may\n",
    "for ns_may in ns_subreddit_may:\n",
    "    ns_subreddit_may[ns_may] = Counter(ns_subreddit_may[ns_may])\n",
    "    if ns_may in ns_sr_rep:\n",
    "        ns_sr_rep[ns_may] = [ns_sr_rep[ns_may][idx] + ns_subreddit_may[ns_may][subreddit_intersection[idx]] \n",
    "                             for idx in range(len(subreddit_intersection))]   \n",
    "#     else:\n",
    "#         ns_sr_rep[ns_may] = [ns_subreddit_may[ns_may][subreddit_intersection[idx]] \n",
    "#                              for idx in range(len(subreddit_intersection))]\n",
    "        \n",
    "# june\n",
    "for ns_jun in ns_subreddit_jun:\n",
    "    ns_subreddit_jun[ns_jun] = Counter(ns_subreddit_jun[ns_jun])\n",
    "    if ns_jun in ns_sr_rep:\n",
    "        ns_sr_rep[ns_jun] = [ns_sr_rep[ns_jun][idx] + ns_subreddit_jun[ns_jun][subreddit_intersection[idx]] \n",
    "                             for idx in range(len(subreddit_intersection))]   \n",
    "#     else:\n",
    "#         ns_sr_rep[ns_jun] = [ns_subreddit_jun[ns_jun][subreddit_intersection[idx]] \n",
    "#                              for idx in range(len(subreddit_intersection))]"
   ]
  },
  {
   "cell_type": "markdown",
   "id": "0c888f3f",
   "metadata": {},
   "source": [
    "Now we normalize the news sources' representations using `numpy`'s normalize."
   ]
  },
  {
   "cell_type": "code",
   "execution_count": 591,
   "id": "bdc04b98",
   "metadata": {},
   "outputs": [],
   "source": [
    "# ns_sr_rep_normalized = dict()\n",
    "# for ns in ns_sr_rep:\n",
    "#     rep = ns_sr_rep[ns]\n",
    "#     ns_sr_rep_normalized[ns] = preprocessing.normalize(np.array([rep]))"
   ]
  },
  {
   "cell_type": "code",
   "execution_count": 148,
   "id": "2dcd26b2",
   "metadata": {},
   "outputs": [
    {
     "data": {
      "text/plain": [
       "2785"
      ]
     },
     "execution_count": 148,
     "metadata": {},
     "output_type": "execute_result"
    }
   ],
   "source": [
    "# len(ns_sr_rep_normalized)"
   ]
  },
  {
   "cell_type": "code",
   "execution_count": 149,
   "id": "c0267b61",
   "metadata": {},
   "outputs": [
    {
     "data": {
      "text/plain": [
       "True"
      ]
     },
     "execution_count": 149,
     "metadata": {},
     "output_type": "execute_result"
    }
   ],
   "source": [
    "# \"nytimes.com\" in ns_sr_rep_normalized.keys()"
   ]
  },
  {
   "cell_type": "markdown",
   "id": "80b9916b",
   "metadata": {},
   "source": [
    "### Features Selection\n",
    "\n",
    "First I cast the data structure I needed to te appropriate based on the functions I will call."
   ]
  },
  {
   "cell_type": "code",
   "execution_count": 592,
   "id": "89e710cc",
   "metadata": {},
   "outputs": [],
   "source": [
    "frozen_nsfeatures = list(ns_sr_rep.items())"
   ]
  },
  {
   "cell_type": "code",
   "execution_count": 593,
   "id": "36dc61f9",
   "metadata": {},
   "outputs": [],
   "source": [
    "newssources = [k[0] for k in frozen_nsfeatures]"
   ]
  },
  {
   "cell_type": "code",
   "execution_count": 594,
   "id": "f2f46ab1",
   "metadata": {},
   "outputs": [
    {
     "data": {
      "text/plain": [
       "2785"
      ]
     },
     "execution_count": 594,
     "metadata": {},
     "output_type": "execute_result"
    }
   ],
   "source": [
    "len(newssources)"
   ]
  },
  {
   "cell_type": "code",
   "execution_count": 602,
   "id": "fb81fee4",
   "metadata": {},
   "outputs": [],
   "source": [
    "features = [k[1] for k in frozen_nsfeatures]"
   ]
  },
  {
   "cell_type": "code",
   "execution_count": 604,
   "id": "5d89e4bd",
   "metadata": {},
   "outputs": [
    {
     "data": {
      "text/plain": [
       "2785"
      ]
     },
     "execution_count": 604,
     "metadata": {},
     "output_type": "execute_result"
    }
   ],
   "source": [
    "len(features)"
   ]
  },
  {
   "cell_type": "markdown",
   "id": "d33c6c5f",
   "metadata": {},
   "source": [
    "#### Normalizing"
   ]
  },
  {
   "cell_type": "code",
   "execution_count": 605,
   "id": "1d494d16",
   "metadata": {
    "scrolled": true
   },
   "outputs": [],
   "source": [
    "min_max_scaler = preprocessing.MinMaxScaler()\n",
    "features_normalized = min_max_scaler.fit_transform(features)"
   ]
  },
  {
   "cell_type": "markdown",
   "id": "8bf50d6d",
   "metadata": {},
   "source": [
    "Then we select 500 features. Note that we need unsupervised feature selection method. Continue here: https://towardsdatascience.com/overview-of-feature-selection-methods-a2d115c7a8f7."
   ]
  },
  {
   "cell_type": "code",
   "execution_count": 610,
   "id": "4a936e65",
   "metadata": {},
   "outputs": [],
   "source": [
    "# creating Laplacian matrix representation\n",
    "# from skfeature.utility import construct_W\n",
    "kwargs_W = {\"metric\":\"euclidean\",\"neighbor_mode\":\"knn\",\"weight_mode\":\"heat_kernel\",\"k\":5,'t':1}\n",
    "W = construct_W.construct_W(np.array(features_normalized), **kwargs_W)"
   ]
  },
  {
   "cell_type": "code",
   "execution_count": 611,
   "id": "b92bd11c",
   "metadata": {},
   "outputs": [],
   "source": [
    "# ranking scores\n",
    "from skfeature.function.similarity_based import lap_score\n",
    "\n",
    "score = lap_score.lap_score(np.array(features_normalized), W=W, mode=\"rank\")"
   ]
  },
  {
   "cell_type": "code",
   "execution_count": 612,
   "id": "94c2835e",
   "metadata": {},
   "outputs": [
    {
     "name": "stdout",
     "output_type": "stream",
     "text": [
      "[1409  680  678 ... 4917 4575 3413]\n"
     ]
    }
   ],
   "source": [
    "print(score)"
   ]
  },
  {
   "cell_type": "code",
   "execution_count": 613,
   "id": "d2cd302c",
   "metadata": {},
   "outputs": [
    {
     "data": {
      "text/plain": [
       "True"
      ]
     },
     "execution_count": 613,
     "metadata": {},
     "output_type": "execute_result"
    }
   ],
   "source": [
    "len(set(score)) == len(score) # subreddits were assigned unique scores"
   ]
  },
  {
   "cell_type": "markdown",
   "id": "08471b55",
   "metadata": {},
   "source": [
    "Let's order our subreddits based on their importance in this sense."
   ]
  },
  {
   "cell_type": "code",
   "execution_count": 614,
   "id": "0fbc428e",
   "metadata": {},
   "outputs": [],
   "source": [
    "ordered_subreddits_dict = {sc:subreddit_intersection[sc] for sc in score}"
   ]
  },
  {
   "cell_type": "code",
   "execution_count": 615,
   "id": "64ca1837",
   "metadata": {},
   "outputs": [],
   "source": [
    "ordered_subreddits = [ordered_subreddits_dict[s] for s in range(len(score))]"
   ]
  },
  {
   "cell_type": "code",
   "execution_count": 616,
   "id": "244a4897",
   "metadata": {
    "scrolled": true
   },
   "outputs": [
    {
     "data": {
      "text/plain": [
       "['TennesseePolitics',\n",
       " 'Indigenous',\n",
       " 'DrainTheSwamp',\n",
       " 'cesky',\n",
       " 'listentothis',\n",
       " 'animalimpact',\n",
       " 'Calgary',\n",
       " 'StardewValley',\n",
       " 'ArrestsWeb',\n",
       " 'myanmar',\n",
       " 'DCUnited',\n",
       " 'reactivedogs',\n",
       " 'TopDesign',\n",
       " 'Fayettenam',\n",
       " 'StevensPoint',\n",
       " 'Utah_News',\n",
       " 'fresno',\n",
       " 'Vaccine',\n",
       " 'chomsky',\n",
       " 'ActualPublicFreakouts',\n",
       " 'PeoplesPartyofCanada',\n",
       " 'college',\n",
       " 'avfc',\n",
       " 'Jreg',\n",
       " 'CanadianStocks',\n",
       " 'india',\n",
       " 'NorCalLockdownSkeptic',\n",
       " 'coldcases',\n",
       " 'davao',\n",
       " 'illinois',\n",
       " 'elektriqEvNews',\n",
       " 'InternetCommentEtiq',\n",
       " 'blankies',\n",
       " 'Honolulu',\n",
       " 'Fire',\n",
       " 'pics',\n",
       " 'u_Newsbuff1',\n",
       " 'kpoprants',\n",
       " 'TeslaLounge',\n",
       " 'GamingNewsSpot',\n",
       " 'pfennigfuchser',\n",
       " 'HowHumanBeingsWork',\n",
       " 'ANSAauto',\n",
       " 'OldSchoolCool',\n",
       " 'u_IPMEnquiry',\n",
       " 'TragicallyHip',\n",
       " 'Bad_Cop_Follow_Up',\n",
       " 'USGovernment',\n",
       " 'REBubble',\n",
       " 'myfavoritemurder']"
      ]
     },
     "execution_count": 616,
     "metadata": {},
     "output_type": "execute_result"
    }
   ],
   "source": [
    "# Ten most important subreddits\n",
    "ordered_subreddits[:50]"
   ]
  },
  {
   "cell_type": "code",
   "execution_count": 618,
   "id": "23779a5f",
   "metadata": {},
   "outputs": [],
   "source": [
    "# with open(\"ordered_subreddits_laplacian.json\", \"w\", encoding=\"utf-8\") as outfile:\n",
    "#     json.dump(ordered_subreddits, outfile)"
   ]
  },
  {
   "cell_type": "code",
   "execution_count": 619,
   "id": "111028af",
   "metadata": {},
   "outputs": [],
   "source": [
    "# filter to only include the 100 top subreddits\n",
    "new_features_laplacian = [[row[idx] for idx in range(len(row)) if subreddit_intersection[idx] in ordered_subreddits[:100]] for row in features]"
   ]
  },
  {
   "cell_type": "code",
   "execution_count": 620,
   "id": "7485043f",
   "metadata": {},
   "outputs": [
    {
     "data": {
      "text/plain": [
       "100"
      ]
     },
     "execution_count": 620,
     "metadata": {},
     "output_type": "execute_result"
    }
   ],
   "source": [
    "len(new_features_laplacian[0])"
   ]
  },
  {
   "cell_type": "markdown",
   "id": "ca93d807",
   "metadata": {},
   "source": [
    "## Clustering"
   ]
  },
  {
   "cell_type": "markdown",
   "id": "c16c5d50",
   "metadata": {},
   "source": [
    "For starters, let's try 5 clusters"
   ]
  },
  {
   "cell_type": "code",
   "execution_count": 630,
   "id": "37396ccc",
   "metadata": {},
   "outputs": [],
   "source": [
    "kmeans5 = KMeans(init = \"random\",\n",
    "               n_clusters = 50,\n",
    "               n_init = 10,\n",
    "               max_iter = 100)"
   ]
  },
  {
   "cell_type": "code",
   "execution_count": 631,
   "id": "e7fc8241",
   "metadata": {},
   "outputs": [
    {
     "data": {
      "text/plain": [
       "KMeans(init='random', max_iter=100, n_clusters=50)"
      ]
     },
     "execution_count": 631,
     "metadata": {},
     "output_type": "execute_result"
    }
   ],
   "source": [
    "kmeans5.fit(new_features_laplacian)"
   ]
  },
  {
   "cell_type": "code",
   "execution_count": 632,
   "id": "3abb0f17",
   "metadata": {
    "scrolled": true
   },
   "outputs": [
    {
     "data": {
      "text/plain": [
       "149347.71848060537"
      ]
     },
     "execution_count": 632,
     "metadata": {},
     "output_type": "execute_result"
    }
   ],
   "source": [
    "kmeans5.inertia_"
   ]
  },
  {
   "cell_type": "code",
   "execution_count": 633,
   "id": "125d6b48",
   "metadata": {},
   "outputs": [
    {
     "data": {
      "text/plain": [
       "18"
      ]
     },
     "execution_count": 633,
     "metadata": {},
     "output_type": "execute_result"
    }
   ],
   "source": [
    "kmeans5.n_iter_"
   ]
  },
  {
   "cell_type": "markdown",
   "id": "c9dcc1ed",
   "metadata": {},
   "source": [
    "### Choosing the appropriate number of clusters"
   ]
  },
  {
   "cell_type": "code",
   "execution_count": 539,
   "id": "15da1b8e",
   "metadata": {},
   "outputs": [],
   "source": [
    "# Elbow method\n",
    "kmeans_kwargs = {\n",
    "    \"init\": \"k-means++\",\n",
    "    \"n_init\": 10,\n",
    "    \"max_iter\": 300,\n",
    "    \"random_state\": 56789432\n",
    "}"
   ]
  },
  {
   "cell_type": "code",
   "execution_count": 540,
   "id": "51b57fa3",
   "metadata": {
    "scrolled": true
   },
   "outputs": [
    {
     "name": "stdout",
     "output_type": "stream",
     "text": [
      "have done 1 rounds, current sse is [1181.5526665082493]\n",
      "have done 2 rounds, current sse is [1181.5526665082493, 1098.472476007342]\n",
      "have done 3 rounds, current sse is [1181.5526665082493, 1098.472476007342, 1039.4780670125913]\n",
      "have done 4 rounds, current sse is [1181.5526665082493, 1098.472476007342, 1039.4780670125913, 1000.0703800378031]\n",
      "have done 5 rounds, current sse is [1181.5526665082493, 1098.472476007342, 1039.4780670125913, 1000.0703800378031, 974.9401001543215]\n",
      "have done 6 rounds, current sse is [1181.5526665082493, 1098.472476007342, 1039.4780670125913, 1000.0703800378031, 974.9401001543215, 958.4477950359568]\n",
      "have done 7 rounds, current sse is [1181.5526665082493, 1098.472476007342, 1039.4780670125913, 1000.0703800378031, 974.9401001543215, 958.4477950359568, 910.4432901039212]\n",
      "have done 8 rounds, current sse is [1181.5526665082493, 1098.472476007342, 1039.4780670125913, 1000.0703800378031, 974.9401001543215, 958.4477950359568, 910.4432901039212, 892.3635832810944]\n",
      "have done 9 rounds, current sse is [1181.5526665082493, 1098.472476007342, 1039.4780670125913, 1000.0703800378031, 974.9401001543215, 958.4477950359568, 910.4432901039212, 892.3635832810944, 877.6928545282547]\n",
      "have done 10 rounds, current sse is [1181.5526665082493, 1098.472476007342, 1039.4780670125913, 1000.0703800378031, 974.9401001543215, 958.4477950359568, 910.4432901039212, 892.3635832810944, 877.6928545282547, 862.1831324893084]\n",
      "have done 11 rounds, current sse is [1181.5526665082493, 1098.472476007342, 1039.4780670125913, 1000.0703800378031, 974.9401001543215, 958.4477950359568, 910.4432901039212, 892.3635832810944, 877.6928545282547, 862.1831324893084, 841.1860183023703]\n",
      "have done 12 rounds, current sse is [1181.5526665082493, 1098.472476007342, 1039.4780670125913, 1000.0703800378031, 974.9401001543215, 958.4477950359568, 910.4432901039212, 892.3635832810944, 877.6928545282547, 862.1831324893084, 841.1860183023703, 813.7804221524965]\n",
      "have done 13 rounds, current sse is [1181.5526665082493, 1098.472476007342, 1039.4780670125913, 1000.0703800378031, 974.9401001543215, 958.4477950359568, 910.4432901039212, 892.3635832810944, 877.6928545282547, 862.1831324893084, 841.1860183023703, 813.7804221524965, 803.4008714221554]\n",
      "have done 14 rounds, current sse is [1181.5526665082493, 1098.472476007342, 1039.4780670125913, 1000.0703800378031, 974.9401001543215, 958.4477950359568, 910.4432901039212, 892.3635832810944, 877.6928545282547, 862.1831324893084, 841.1860183023703, 813.7804221524965, 803.4008714221554, 789.957184078137]\n",
      "have done 15 rounds, current sse is [1181.5526665082493, 1098.472476007342, 1039.4780670125913, 1000.0703800378031, 974.9401001543215, 958.4477950359568, 910.4432901039212, 892.3635832810944, 877.6928545282547, 862.1831324893084, 841.1860183023703, 813.7804221524965, 803.4008714221554, 789.957184078137, 777.3342176410414]\n",
      "have done 16 rounds, current sse is [1181.5526665082493, 1098.472476007342, 1039.4780670125913, 1000.0703800378031, 974.9401001543215, 958.4477950359568, 910.4432901039212, 892.3635832810944, 877.6928545282547, 862.1831324893084, 841.1860183023703, 813.7804221524965, 803.4008714221554, 789.957184078137, 777.3342176410414, 746.1644820414118]\n",
      "have done 17 rounds, current sse is [1181.5526665082493, 1098.472476007342, 1039.4780670125913, 1000.0703800378031, 974.9401001543215, 958.4477950359568, 910.4432901039212, 892.3635832810944, 877.6928545282547, 862.1831324893084, 841.1860183023703, 813.7804221524965, 803.4008714221554, 789.957184078137, 777.3342176410414, 746.1644820414118, 754.2898605168607]\n",
      "have done 18 rounds, current sse is [1181.5526665082493, 1098.472476007342, 1039.4780670125913, 1000.0703800378031, 974.9401001543215, 958.4477950359568, 910.4432901039212, 892.3635832810944, 877.6928545282547, 862.1831324893084, 841.1860183023703, 813.7804221524965, 803.4008714221554, 789.957184078137, 777.3342176410414, 746.1644820414118, 754.2898605168607, 737.5561425720664]\n",
      "have done 19 rounds, current sse is [1181.5526665082493, 1098.472476007342, 1039.4780670125913, 1000.0703800378031, 974.9401001543215, 958.4477950359568, 910.4432901039212, 892.3635832810944, 877.6928545282547, 862.1831324893084, 841.1860183023703, 813.7804221524965, 803.4008714221554, 789.957184078137, 777.3342176410414, 746.1644820414118, 754.2898605168607, 737.5561425720664, 717.3459063562636]\n",
      "have done 20 rounds, current sse is [1181.5526665082493, 1098.472476007342, 1039.4780670125913, 1000.0703800378031, 974.9401001543215, 958.4477950359568, 910.4432901039212, 892.3635832810944, 877.6928545282547, 862.1831324893084, 841.1860183023703, 813.7804221524965, 803.4008714221554, 789.957184078137, 777.3342176410414, 746.1644820414118, 754.2898605168607, 737.5561425720664, 717.3459063562636, 713.3257270444758]\n",
      "have done 21 rounds, current sse is [1181.5526665082493, 1098.472476007342, 1039.4780670125913, 1000.0703800378031, 974.9401001543215, 958.4477950359568, 910.4432901039212, 892.3635832810944, 877.6928545282547, 862.1831324893084, 841.1860183023703, 813.7804221524965, 803.4008714221554, 789.957184078137, 777.3342176410414, 746.1644820414118, 754.2898605168607, 737.5561425720664, 717.3459063562636, 713.3257270444758, 699.2864690433057]\n",
      "have done 22 rounds, current sse is [1181.5526665082493, 1098.472476007342, 1039.4780670125913, 1000.0703800378031, 974.9401001543215, 958.4477950359568, 910.4432901039212, 892.3635832810944, 877.6928545282547, 862.1831324893084, 841.1860183023703, 813.7804221524965, 803.4008714221554, 789.957184078137, 777.3342176410414, 746.1644820414118, 754.2898605168607, 737.5561425720664, 717.3459063562636, 713.3257270444758, 699.2864690433057, 686.2732502996422]\n",
      "have done 23 rounds, current sse is [1181.5526665082493, 1098.472476007342, 1039.4780670125913, 1000.0703800378031, 974.9401001543215, 958.4477950359568, 910.4432901039212, 892.3635832810944, 877.6928545282547, 862.1831324893084, 841.1860183023703, 813.7804221524965, 803.4008714221554, 789.957184078137, 777.3342176410414, 746.1644820414118, 754.2898605168607, 737.5561425720664, 717.3459063562636, 713.3257270444758, 699.2864690433057, 686.2732502996422, 670.3643331312983]\n",
      "have done 24 rounds, current sse is [1181.5526665082493, 1098.472476007342, 1039.4780670125913, 1000.0703800378031, 974.9401001543215, 958.4477950359568, 910.4432901039212, 892.3635832810944, 877.6928545282547, 862.1831324893084, 841.1860183023703, 813.7804221524965, 803.4008714221554, 789.957184078137, 777.3342176410414, 746.1644820414118, 754.2898605168607, 737.5561425720664, 717.3459063562636, 713.3257270444758, 699.2864690433057, 686.2732502996422, 670.3643331312983, 673.1405394882684]\n",
      "have done 25 rounds, current sse is [1181.5526665082493, 1098.472476007342, 1039.4780670125913, 1000.0703800378031, 974.9401001543215, 958.4477950359568, 910.4432901039212, 892.3635832810944, 877.6928545282547, 862.1831324893084, 841.1860183023703, 813.7804221524965, 803.4008714221554, 789.957184078137, 777.3342176410414, 746.1644820414118, 754.2898605168607, 737.5561425720664, 717.3459063562636, 713.3257270444758, 699.2864690433057, 686.2732502996422, 670.3643331312983, 673.1405394882684, 656.5107834514625]\n",
      "have done 26 rounds, current sse is [1181.5526665082493, 1098.472476007342, 1039.4780670125913, 1000.0703800378031, 974.9401001543215, 958.4477950359568, 910.4432901039212, 892.3635832810944, 877.6928545282547, 862.1831324893084, 841.1860183023703, 813.7804221524965, 803.4008714221554, 789.957184078137, 777.3342176410414, 746.1644820414118, 754.2898605168607, 737.5561425720664, 717.3459063562636, 713.3257270444758, 699.2864690433057, 686.2732502996422, 670.3643331312983, 673.1405394882684, 656.5107834514625, 642.3078291269134]\n",
      "have done 27 rounds, current sse is [1181.5526665082493, 1098.472476007342, 1039.4780670125913, 1000.0703800378031, 974.9401001543215, 958.4477950359568, 910.4432901039212, 892.3635832810944, 877.6928545282547, 862.1831324893084, 841.1860183023703, 813.7804221524965, 803.4008714221554, 789.957184078137, 777.3342176410414, 746.1644820414118, 754.2898605168607, 737.5561425720664, 717.3459063562636, 713.3257270444758, 699.2864690433057, 686.2732502996422, 670.3643331312983, 673.1405394882684, 656.5107834514625, 642.3078291269134, 635.5540840525023]\n"
     ]
    },
    {
     "name": "stdout",
     "output_type": "stream",
     "text": [
      "have done 28 rounds, current sse is [1181.5526665082493, 1098.472476007342, 1039.4780670125913, 1000.0703800378031, 974.9401001543215, 958.4477950359568, 910.4432901039212, 892.3635832810944, 877.6928545282547, 862.1831324893084, 841.1860183023703, 813.7804221524965, 803.4008714221554, 789.957184078137, 777.3342176410414, 746.1644820414118, 754.2898605168607, 737.5561425720664, 717.3459063562636, 713.3257270444758, 699.2864690433057, 686.2732502996422, 670.3643331312983, 673.1405394882684, 656.5107834514625, 642.3078291269134, 635.5540840525023, 626.9219869868864]\n",
      "have done 29 rounds, current sse is [1181.5526665082493, 1098.472476007342, 1039.4780670125913, 1000.0703800378031, 974.9401001543215, 958.4477950359568, 910.4432901039212, 892.3635832810944, 877.6928545282547, 862.1831324893084, 841.1860183023703, 813.7804221524965, 803.4008714221554, 789.957184078137, 777.3342176410414, 746.1644820414118, 754.2898605168607, 737.5561425720664, 717.3459063562636, 713.3257270444758, 699.2864690433057, 686.2732502996422, 670.3643331312983, 673.1405394882684, 656.5107834514625, 642.3078291269134, 635.5540840525023, 626.9219869868864, 611.0813070767288]\n",
      "have done 30 rounds, current sse is [1181.5526665082493, 1098.472476007342, 1039.4780670125913, 1000.0703800378031, 974.9401001543215, 958.4477950359568, 910.4432901039212, 892.3635832810944, 877.6928545282547, 862.1831324893084, 841.1860183023703, 813.7804221524965, 803.4008714221554, 789.957184078137, 777.3342176410414, 746.1644820414118, 754.2898605168607, 737.5561425720664, 717.3459063562636, 713.3257270444758, 699.2864690433057, 686.2732502996422, 670.3643331312983, 673.1405394882684, 656.5107834514625, 642.3078291269134, 635.5540840525023, 626.9219869868864, 611.0813070767288, 608.6201068302411]\n",
      "have done 31 rounds, current sse is [1181.5526665082493, 1098.472476007342, 1039.4780670125913, 1000.0703800378031, 974.9401001543215, 958.4477950359568, 910.4432901039212, 892.3635832810944, 877.6928545282547, 862.1831324893084, 841.1860183023703, 813.7804221524965, 803.4008714221554, 789.957184078137, 777.3342176410414, 746.1644820414118, 754.2898605168607, 737.5561425720664, 717.3459063562636, 713.3257270444758, 699.2864690433057, 686.2732502996422, 670.3643331312983, 673.1405394882684, 656.5107834514625, 642.3078291269134, 635.5540840525023, 626.9219869868864, 611.0813070767288, 608.6201068302411, 597.2167743767546]\n",
      "have done 32 rounds, current sse is [1181.5526665082493, 1098.472476007342, 1039.4780670125913, 1000.0703800378031, 974.9401001543215, 958.4477950359568, 910.4432901039212, 892.3635832810944, 877.6928545282547, 862.1831324893084, 841.1860183023703, 813.7804221524965, 803.4008714221554, 789.957184078137, 777.3342176410414, 746.1644820414118, 754.2898605168607, 737.5561425720664, 717.3459063562636, 713.3257270444758, 699.2864690433057, 686.2732502996422, 670.3643331312983, 673.1405394882684, 656.5107834514625, 642.3078291269134, 635.5540840525023, 626.9219869868864, 611.0813070767288, 608.6201068302411, 597.2167743767546, 597.8054341658324]\n",
      "have done 33 rounds, current sse is [1181.5526665082493, 1098.472476007342, 1039.4780670125913, 1000.0703800378031, 974.9401001543215, 958.4477950359568, 910.4432901039212, 892.3635832810944, 877.6928545282547, 862.1831324893084, 841.1860183023703, 813.7804221524965, 803.4008714221554, 789.957184078137, 777.3342176410414, 746.1644820414118, 754.2898605168607, 737.5561425720664, 717.3459063562636, 713.3257270444758, 699.2864690433057, 686.2732502996422, 670.3643331312983, 673.1405394882684, 656.5107834514625, 642.3078291269134, 635.5540840525023, 626.9219869868864, 611.0813070767288, 608.6201068302411, 597.2167743767546, 597.8054341658324, 585.851648980538]\n",
      "have done 34 rounds, current sse is [1181.5526665082493, 1098.472476007342, 1039.4780670125913, 1000.0703800378031, 974.9401001543215, 958.4477950359568, 910.4432901039212, 892.3635832810944, 877.6928545282547, 862.1831324893084, 841.1860183023703, 813.7804221524965, 803.4008714221554, 789.957184078137, 777.3342176410414, 746.1644820414118, 754.2898605168607, 737.5561425720664, 717.3459063562636, 713.3257270444758, 699.2864690433057, 686.2732502996422, 670.3643331312983, 673.1405394882684, 656.5107834514625, 642.3078291269134, 635.5540840525023, 626.9219869868864, 611.0813070767288, 608.6201068302411, 597.2167743767546, 597.8054341658324, 585.851648980538, 576.2103400902283]\n",
      "have done 35 rounds, current sse is [1181.5526665082493, 1098.472476007342, 1039.4780670125913, 1000.0703800378031, 974.9401001543215, 958.4477950359568, 910.4432901039212, 892.3635832810944, 877.6928545282547, 862.1831324893084, 841.1860183023703, 813.7804221524965, 803.4008714221554, 789.957184078137, 777.3342176410414, 746.1644820414118, 754.2898605168607, 737.5561425720664, 717.3459063562636, 713.3257270444758, 699.2864690433057, 686.2732502996422, 670.3643331312983, 673.1405394882684, 656.5107834514625, 642.3078291269134, 635.5540840525023, 626.9219869868864, 611.0813070767288, 608.6201068302411, 597.2167743767546, 597.8054341658324, 585.851648980538, 576.2103400902283, 557.3124263231155]\n",
      "have done 36 rounds, current sse is [1181.5526665082493, 1098.472476007342, 1039.4780670125913, 1000.0703800378031, 974.9401001543215, 958.4477950359568, 910.4432901039212, 892.3635832810944, 877.6928545282547, 862.1831324893084, 841.1860183023703, 813.7804221524965, 803.4008714221554, 789.957184078137, 777.3342176410414, 746.1644820414118, 754.2898605168607, 737.5561425720664, 717.3459063562636, 713.3257270444758, 699.2864690433057, 686.2732502996422, 670.3643331312983, 673.1405394882684, 656.5107834514625, 642.3078291269134, 635.5540840525023, 626.9219869868864, 611.0813070767288, 608.6201068302411, 597.2167743767546, 597.8054341658324, 585.851648980538, 576.2103400902283, 557.3124263231155, 558.5881053185614]\n",
      "have done 37 rounds, current sse is [1181.5526665082493, 1098.472476007342, 1039.4780670125913, 1000.0703800378031, 974.9401001543215, 958.4477950359568, 910.4432901039212, 892.3635832810944, 877.6928545282547, 862.1831324893084, 841.1860183023703, 813.7804221524965, 803.4008714221554, 789.957184078137, 777.3342176410414, 746.1644820414118, 754.2898605168607, 737.5561425720664, 717.3459063562636, 713.3257270444758, 699.2864690433057, 686.2732502996422, 670.3643331312983, 673.1405394882684, 656.5107834514625, 642.3078291269134, 635.5540840525023, 626.9219869868864, 611.0813070767288, 608.6201068302411, 597.2167743767546, 597.8054341658324, 585.851648980538, 576.2103400902283, 557.3124263231155, 558.5881053185614, 555.729025997807]\n",
      "have done 38 rounds, current sse is [1181.5526665082493, 1098.472476007342, 1039.4780670125913, 1000.0703800378031, 974.9401001543215, 958.4477950359568, 910.4432901039212, 892.3635832810944, 877.6928545282547, 862.1831324893084, 841.1860183023703, 813.7804221524965, 803.4008714221554, 789.957184078137, 777.3342176410414, 746.1644820414118, 754.2898605168607, 737.5561425720664, 717.3459063562636, 713.3257270444758, 699.2864690433057, 686.2732502996422, 670.3643331312983, 673.1405394882684, 656.5107834514625, 642.3078291269134, 635.5540840525023, 626.9219869868864, 611.0813070767288, 608.6201068302411, 597.2167743767546, 597.8054341658324, 585.851648980538, 576.2103400902283, 557.3124263231155, 558.5881053185614, 555.729025997807, 545.3083553743882]\n",
      "have done 39 rounds, current sse is [1181.5526665082493, 1098.472476007342, 1039.4780670125913, 1000.0703800378031, 974.9401001543215, 958.4477950359568, 910.4432901039212, 892.3635832810944, 877.6928545282547, 862.1831324893084, 841.1860183023703, 813.7804221524965, 803.4008714221554, 789.957184078137, 777.3342176410414, 746.1644820414118, 754.2898605168607, 737.5561425720664, 717.3459063562636, 713.3257270444758, 699.2864690433057, 686.2732502996422, 670.3643331312983, 673.1405394882684, 656.5107834514625, 642.3078291269134, 635.5540840525023, 626.9219869868864, 611.0813070767288, 608.6201068302411, 597.2167743767546, 597.8054341658324, 585.851648980538, 576.2103400902283, 557.3124263231155, 558.5881053185614, 555.729025997807, 545.3083553743882, 542.0169734882461]\n",
      "have done 40 rounds, current sse is [1181.5526665082493, 1098.472476007342, 1039.4780670125913, 1000.0703800378031, 974.9401001543215, 958.4477950359568, 910.4432901039212, 892.3635832810944, 877.6928545282547, 862.1831324893084, 841.1860183023703, 813.7804221524965, 803.4008714221554, 789.957184078137, 777.3342176410414, 746.1644820414118, 754.2898605168607, 737.5561425720664, 717.3459063562636, 713.3257270444758, 699.2864690433057, 686.2732502996422, 670.3643331312983, 673.1405394882684, 656.5107834514625, 642.3078291269134, 635.5540840525023, 626.9219869868864, 611.0813070767288, 608.6201068302411, 597.2167743767546, 597.8054341658324, 585.851648980538, 576.2103400902283, 557.3124263231155, 558.5881053185614, 555.729025997807, 545.3083553743882, 542.0169734882461, 539.3400353263198]\n"
     ]
    },
    {
     "name": "stdout",
     "output_type": "stream",
     "text": [
      "have done 41 rounds, current sse is [1181.5526665082493, 1098.472476007342, 1039.4780670125913, 1000.0703800378031, 974.9401001543215, 958.4477950359568, 910.4432901039212, 892.3635832810944, 877.6928545282547, 862.1831324893084, 841.1860183023703, 813.7804221524965, 803.4008714221554, 789.957184078137, 777.3342176410414, 746.1644820414118, 754.2898605168607, 737.5561425720664, 717.3459063562636, 713.3257270444758, 699.2864690433057, 686.2732502996422, 670.3643331312983, 673.1405394882684, 656.5107834514625, 642.3078291269134, 635.5540840525023, 626.9219869868864, 611.0813070767288, 608.6201068302411, 597.2167743767546, 597.8054341658324, 585.851648980538, 576.2103400902283, 557.3124263231155, 558.5881053185614, 555.729025997807, 545.3083553743882, 542.0169734882461, 539.3400353263198, 525.5460627571496]\n",
      "have done 42 rounds, current sse is [1181.5526665082493, 1098.472476007342, 1039.4780670125913, 1000.0703800378031, 974.9401001543215, 958.4477950359568, 910.4432901039212, 892.3635832810944, 877.6928545282547, 862.1831324893084, 841.1860183023703, 813.7804221524965, 803.4008714221554, 789.957184078137, 777.3342176410414, 746.1644820414118, 754.2898605168607, 737.5561425720664, 717.3459063562636, 713.3257270444758, 699.2864690433057, 686.2732502996422, 670.3643331312983, 673.1405394882684, 656.5107834514625, 642.3078291269134, 635.5540840525023, 626.9219869868864, 611.0813070767288, 608.6201068302411, 597.2167743767546, 597.8054341658324, 585.851648980538, 576.2103400902283, 557.3124263231155, 558.5881053185614, 555.729025997807, 545.3083553743882, 542.0169734882461, 539.3400353263198, 525.5460627571496, 519.7978622211987]\n",
      "have done 43 rounds, current sse is [1181.5526665082493, 1098.472476007342, 1039.4780670125913, 1000.0703800378031, 974.9401001543215, 958.4477950359568, 910.4432901039212, 892.3635832810944, 877.6928545282547, 862.1831324893084, 841.1860183023703, 813.7804221524965, 803.4008714221554, 789.957184078137, 777.3342176410414, 746.1644820414118, 754.2898605168607, 737.5561425720664, 717.3459063562636, 713.3257270444758, 699.2864690433057, 686.2732502996422, 670.3643331312983, 673.1405394882684, 656.5107834514625, 642.3078291269134, 635.5540840525023, 626.9219869868864, 611.0813070767288, 608.6201068302411, 597.2167743767546, 597.8054341658324, 585.851648980538, 576.2103400902283, 557.3124263231155, 558.5881053185614, 555.729025997807, 545.3083553743882, 542.0169734882461, 539.3400353263198, 525.5460627571496, 519.7978622211987, 516.3919697108528]\n",
      "have done 44 rounds, current sse is [1181.5526665082493, 1098.472476007342, 1039.4780670125913, 1000.0703800378031, 974.9401001543215, 958.4477950359568, 910.4432901039212, 892.3635832810944, 877.6928545282547, 862.1831324893084, 841.1860183023703, 813.7804221524965, 803.4008714221554, 789.957184078137, 777.3342176410414, 746.1644820414118, 754.2898605168607, 737.5561425720664, 717.3459063562636, 713.3257270444758, 699.2864690433057, 686.2732502996422, 670.3643331312983, 673.1405394882684, 656.5107834514625, 642.3078291269134, 635.5540840525023, 626.9219869868864, 611.0813070767288, 608.6201068302411, 597.2167743767546, 597.8054341658324, 585.851648980538, 576.2103400902283, 557.3124263231155, 558.5881053185614, 555.729025997807, 545.3083553743882, 542.0169734882461, 539.3400353263198, 525.5460627571496, 519.7978622211987, 516.3919697108528, 505.28685995084]\n",
      "have done 45 rounds, current sse is [1181.5526665082493, 1098.472476007342, 1039.4780670125913, 1000.0703800378031, 974.9401001543215, 958.4477950359568, 910.4432901039212, 892.3635832810944, 877.6928545282547, 862.1831324893084, 841.1860183023703, 813.7804221524965, 803.4008714221554, 789.957184078137, 777.3342176410414, 746.1644820414118, 754.2898605168607, 737.5561425720664, 717.3459063562636, 713.3257270444758, 699.2864690433057, 686.2732502996422, 670.3643331312983, 673.1405394882684, 656.5107834514625, 642.3078291269134, 635.5540840525023, 626.9219869868864, 611.0813070767288, 608.6201068302411, 597.2167743767546, 597.8054341658324, 585.851648980538, 576.2103400902283, 557.3124263231155, 558.5881053185614, 555.729025997807, 545.3083553743882, 542.0169734882461, 539.3400353263198, 525.5460627571496, 519.7978622211987, 516.3919697108528, 505.28685995084, 495.79059870446065]\n",
      "have done 46 rounds, current sse is [1181.5526665082493, 1098.472476007342, 1039.4780670125913, 1000.0703800378031, 974.9401001543215, 958.4477950359568, 910.4432901039212, 892.3635832810944, 877.6928545282547, 862.1831324893084, 841.1860183023703, 813.7804221524965, 803.4008714221554, 789.957184078137, 777.3342176410414, 746.1644820414118, 754.2898605168607, 737.5561425720664, 717.3459063562636, 713.3257270444758, 699.2864690433057, 686.2732502996422, 670.3643331312983, 673.1405394882684, 656.5107834514625, 642.3078291269134, 635.5540840525023, 626.9219869868864, 611.0813070767288, 608.6201068302411, 597.2167743767546, 597.8054341658324, 585.851648980538, 576.2103400902283, 557.3124263231155, 558.5881053185614, 555.729025997807, 545.3083553743882, 542.0169734882461, 539.3400353263198, 525.5460627571496, 519.7978622211987, 516.3919697108528, 505.28685995084, 495.79059870446065, 494.0809251167402]\n",
      "have done 47 rounds, current sse is [1181.5526665082493, 1098.472476007342, 1039.4780670125913, 1000.0703800378031, 974.9401001543215, 958.4477950359568, 910.4432901039212, 892.3635832810944, 877.6928545282547, 862.1831324893084, 841.1860183023703, 813.7804221524965, 803.4008714221554, 789.957184078137, 777.3342176410414, 746.1644820414118, 754.2898605168607, 737.5561425720664, 717.3459063562636, 713.3257270444758, 699.2864690433057, 686.2732502996422, 670.3643331312983, 673.1405394882684, 656.5107834514625, 642.3078291269134, 635.5540840525023, 626.9219869868864, 611.0813070767288, 608.6201068302411, 597.2167743767546, 597.8054341658324, 585.851648980538, 576.2103400902283, 557.3124263231155, 558.5881053185614, 555.729025997807, 545.3083553743882, 542.0169734882461, 539.3400353263198, 525.5460627571496, 519.7978622211987, 516.3919697108528, 505.28685995084, 495.79059870446065, 494.0809251167402, 485.8429726881302]\n",
      "have done 48 rounds, current sse is [1181.5526665082493, 1098.472476007342, 1039.4780670125913, 1000.0703800378031, 974.9401001543215, 958.4477950359568, 910.4432901039212, 892.3635832810944, 877.6928545282547, 862.1831324893084, 841.1860183023703, 813.7804221524965, 803.4008714221554, 789.957184078137, 777.3342176410414, 746.1644820414118, 754.2898605168607, 737.5561425720664, 717.3459063562636, 713.3257270444758, 699.2864690433057, 686.2732502996422, 670.3643331312983, 673.1405394882684, 656.5107834514625, 642.3078291269134, 635.5540840525023, 626.9219869868864, 611.0813070767288, 608.6201068302411, 597.2167743767546, 597.8054341658324, 585.851648980538, 576.2103400902283, 557.3124263231155, 558.5881053185614, 555.729025997807, 545.3083553743882, 542.0169734882461, 539.3400353263198, 525.5460627571496, 519.7978622211987, 516.3919697108528, 505.28685995084, 495.79059870446065, 494.0809251167402, 485.8429726881302, 477.51010309441966]\n",
      "have done 49 rounds, current sse is [1181.5526665082493, 1098.472476007342, 1039.4780670125913, 1000.0703800378031, 974.9401001543215, 958.4477950359568, 910.4432901039212, 892.3635832810944, 877.6928545282547, 862.1831324893084, 841.1860183023703, 813.7804221524965, 803.4008714221554, 789.957184078137, 777.3342176410414, 746.1644820414118, 754.2898605168607, 737.5561425720664, 717.3459063562636, 713.3257270444758, 699.2864690433057, 686.2732502996422, 670.3643331312983, 673.1405394882684, 656.5107834514625, 642.3078291269134, 635.5540840525023, 626.9219869868864, 611.0813070767288, 608.6201068302411, 597.2167743767546, 597.8054341658324, 585.851648980538, 576.2103400902283, 557.3124263231155, 558.5881053185614, 555.729025997807, 545.3083553743882, 542.0169734882461, 539.3400353263198, 525.5460627571496, 519.7978622211987, 516.3919697108528, 505.28685995084, 495.79059870446065, 494.0809251167402, 485.8429726881302, 477.51010309441966, 476.71972357154783]\n",
      "have done 50 rounds, current sse is [1181.5526665082493, 1098.472476007342, 1039.4780670125913, 1000.0703800378031, 974.9401001543215, 958.4477950359568, 910.4432901039212, 892.3635832810944, 877.6928545282547, 862.1831324893084, 841.1860183023703, 813.7804221524965, 803.4008714221554, 789.957184078137, 777.3342176410414, 746.1644820414118, 754.2898605168607, 737.5561425720664, 717.3459063562636, 713.3257270444758, 699.2864690433057, 686.2732502996422, 670.3643331312983, 673.1405394882684, 656.5107834514625, 642.3078291269134, 635.5540840525023, 626.9219869868864, 611.0813070767288, 608.6201068302411, 597.2167743767546, 597.8054341658324, 585.851648980538, 576.2103400902283, 557.3124263231155, 558.5881053185614, 555.729025997807, 545.3083553743882, 542.0169734882461, 539.3400353263198, 525.5460627571496, 519.7978622211987, 516.3919697108528, 505.28685995084, 495.79059870446065, 494.0809251167402, 485.8429726881302, 477.51010309441966, 476.71972357154783, 469.48257061104766]\n"
     ]
    }
   ],
   "source": [
    "sse = []\n",
    "for k in range(1,51):\n",
    "    kmeans = KMeans(n_clusters = k, **kmeans_kwargs)\n",
    "    kmeans.fit(new_features)\n",
    "    sse.append(kmeans.inertia_)\n",
    "    print(f\"have done {k} rounds, current sse is {sse}\")"
   ]
  },
  {
   "cell_type": "code",
   "execution_count": 544,
   "id": "cfb01234",
   "metadata": {
    "scrolled": false
   },
   "outputs": [
    {
     "data": {
      "text/plain": [
       "(0.0, 1110.0)"
      ]
     },
     "execution_count": 544,
     "metadata": {},
     "output_type": "execute_result"
    },
    {
     "data": {
      "image/png": "[encoded data removed]",
      "text/plain": [
       "<Figure size 432x288 with 1 Axes>"
      ]
     },
     "metadata": {
      "needs_background": "light"
     },
     "output_type": "display_data"
    }
   ],
   "source": [
    "plt.plot(range(1,20),sse[1:20],\"go-\")\n",
    "plt.ylim([0,1110])"
   ]
  },
  {
   "cell_type": "code",
   "execution_count": 547,
   "id": "2e1de594",
   "metadata": {},
   "outputs": [
    {
     "data": {
      "text/plain": [
       "11"
      ]
     },
     "execution_count": 547,
     "metadata": {},
     "output_type": "execute_result"
    }
   ],
   "source": [
    "kl = KneeLocator(range(1,20), sse[1:20], curve=\"convex\", direction=\"decreasing\")\n",
    "kl.elbow"
   ]
  },
  {
   "cell_type": "code",
   "execution_count": 549,
   "id": "4380629b",
   "metadata": {},
   "outputs": [
    {
     "data": {
      "text/plain": [
       "(0.0, 1200.0)"
      ]
     },
     "execution_count": 549,
     "metadata": {},
     "output_type": "execute_result"
    },
    {
     "data": {
      "image/png": "[encoded data removed]",
      "text/plain": [
       "<Figure size 432x288 with 1 Axes>"
      ]
     },
     "metadata": {
      "needs_background": "light"
     },
     "output_type": "display_data"
    }
   ],
   "source": [
    "plt.plot(range(1,51),sse,\"go-\")\n",
    "plt.ylim([0,1200])"
   ]
  },
  {
   "cell_type": "code",
   "execution_count": 552,
   "id": "58e95cf0",
   "metadata": {},
   "outputs": [
    {
     "data": {
      "text/plain": [
       "16"
      ]
     },
     "execution_count": 552,
     "metadata": {},
     "output_type": "execute_result"
    }
   ],
   "source": [
    "kl = KneeLocator(range(1,51), sse[:51], curve=\"convex\", direction=\"decreasing\")\n",
    "kl.elbow"
   ]
  },
  {
   "cell_type": "markdown",
   "id": "9976a3c8",
   "metadata": {},
   "source": [
    "Using Silhouette Coefficient"
   ]
  },
  {
   "cell_type": "code",
   "execution_count": 554,
   "id": "b03d5490",
   "metadata": {
    "scrolled": true
   },
   "outputs": [
    {
     "name": "stdout",
     "output_type": "stream",
     "text": [
      "step 2\n",
      "step 3\n",
      "step 4\n",
      "step 5\n",
      "step 6\n",
      "step 7\n",
      "step 8\n",
      "step 9\n",
      "step 10\n",
      "step 11\n",
      "step 12\n",
      "step 13\n",
      "step 14\n",
      "step 15\n",
      "step 16\n",
      "step 17\n",
      "step 18\n",
      "step 19\n",
      "step 20\n",
      "step 21\n",
      "step 22\n",
      "step 23\n",
      "step 24\n",
      "step 25\n",
      "step 26\n",
      "step 27\n",
      "step 28\n",
      "step 29\n",
      "step 30\n",
      "step 31\n",
      "step 32\n",
      "step 33\n",
      "step 34\n",
      "step 35\n",
      "step 36\n",
      "step 37\n",
      "step 38\n",
      "step 39\n",
      "step 40\n",
      "step 41\n",
      "step 42\n",
      "step 43\n",
      "step 44\n",
      "step 45\n",
      "step 46\n",
      "step 47\n",
      "step 48\n",
      "step 49\n",
      "step 50\n"
     ]
    }
   ],
   "source": [
    "sc = []\n",
    "new_sse = []\n",
    "for k in range(2,51):\n",
    "    kmeans = KMeans(n_clusters = k, **kmeans_kwargs)\n",
    "    kmeans.fit(new_features)\n",
    "    score = silhouette_score(new_features, kmeans.labels_)\n",
    "    sc.append(score)\n",
    "    new_sse.append(kmeans.inertia_)\n",
    "    print(\"step {}\".format(k))"
   ]
  },
  {
   "cell_type": "code",
   "execution_count": 561,
   "id": "d3a1cc75",
   "metadata": {
    "scrolled": true
   },
   "outputs": [
    {
     "data": {
      "text/plain": [
       "[<matplotlib.lines.Line2D at 0x21e7aa368e0>]"
      ]
     },
     "execution_count": 561,
     "metadata": {},
     "output_type": "execute_result"
    },
    {
     "data": {
      "image/png": "[encoded data removed]",
      "text/plain": [
       "<Figure size 432x288 with 1 Axes>"
      ]
     },
     "metadata": {
      "needs_background": "light"
     },
     "output_type": "display_data"
    }
   ],
   "source": [
    "# for sse\n",
    "plt.plot(range(2,21), new_sse[:19], \"go-\")"
   ]
  },
  {
   "cell_type": "code",
   "execution_count": 562,
   "id": "70d81895",
   "metadata": {
    "scrolled": true
   },
   "outputs": [
    {
     "data": {
      "text/plain": [
       "12"
      ]
     },
     "execution_count": 562,
     "metadata": {},
     "output_type": "execute_result"
    }
   ],
   "source": [
    "kl_new = KneeLocator(range(2,21), new_sse[:19], curve=\"convex\", direction=\"decreasing\")\n",
    "kl_new.elbow"
   ]
  },
  {
   "cell_type": "code",
   "execution_count": 563,
   "id": "74c9746d",
   "metadata": {},
   "outputs": [
    {
     "data": {
      "text/plain": [
       "[<matplotlib.lines.Line2D at 0x21e7aaa9790>]"
      ]
     },
     "execution_count": 563,
     "metadata": {},
     "output_type": "execute_result"
    },
    {
     "data": {
      "image/png": "[encoded data removed]",
      "text/plain": [
       "<Figure size 432x288 with 1 Axes>"
      ]
     },
     "metadata": {
      "needs_background": "light"
     },
     "output_type": "display_data"
    }
   ],
   "source": [
    "# for silhouette coefficient\n",
    "plt.plot(range(2,21), sc[:19], \"bo-\")"
   ]
  },
  {
   "cell_type": "code",
   "execution_count": 565,
   "id": "b6ca3cbd",
   "metadata": {},
   "outputs": [
    {
     "data": {
      "text/plain": [
       "Text(0.5, 0, 'k')"
      ]
     },
     "execution_count": 565,
     "metadata": {},
     "output_type": "execute_result"
    },
    {
     "data": {
      "image/png": "[encoded data removed]",
      "text/plain": [
       "<Figure size 432x288 with 1 Axes>"
      ]
     },
     "metadata": {
      "needs_background": "light"
     },
     "output_type": "display_data"
    }
   ],
   "source": [
    "\n",
    "\n",
    "spl = make_interp_spline(range(2,21), sc[:19], k=3)  # type: BSpline\n",
    "\n",
    "xs = np.linspace(2, 20, 6)\n",
    "ys = spl(xs)\n",
    "\n",
    "plt.plot(range(2,21), sc[:19], \"go--\")\n",
    "plt.plot(xs, ys, \"b-\")\n",
    "plt.title(\"Silhouette Coefficient Plot\")\n",
    "plt.ylabel(\"silhouette coefficient\")\n",
    "plt.xlabel(\"k\")"
   ]
  },
  {
   "cell_type": "code",
   "execution_count": 566,
   "id": "c9a037b9",
   "metadata": {},
   "outputs": [
    {
     "data": {
      "text/plain": [
       "[<matplotlib.lines.Line2D at 0x21e7ab8c520>]"
      ]
     },
     "execution_count": 566,
     "metadata": {},
     "output_type": "execute_result"
    },
    {
     "data": {
      "image/png": "[encoded data removed]",
      "text/plain": [
       "<Figure size 432x288 with 1 Axes>"
      ]
     },
     "metadata": {
      "needs_background": "light"
     },
     "output_type": "display_data"
    }
   ],
   "source": [
    "# for silhouette coefficient\n",
    "plt.plot(range(2,51), sc, \"bo-\")"
   ]
  },
  {
   "cell_type": "code",
   "execution_count": 567,
   "id": "8e7950b6",
   "metadata": {
    "scrolled": false
   },
   "outputs": [
    {
     "data": {
      "text/plain": [
       "[<matplotlib.lines.Line2D at 0x21e7abebb80>]"
      ]
     },
     "execution_count": 567,
     "metadata": {},
     "output_type": "execute_result"
    },
    {
     "data": {
      "image/png": "[encoded data removed]",
      "text/plain": [
       "<Figure size 432x288 with 1 Axes>"
      ]
     },
     "metadata": {
      "needs_background": "light"
     },
     "output_type": "display_data"
    }
   ],
   "source": [
    "\n",
    "\n",
    "spl = make_interp_spline(range(2,51), sc, k=3)  # type: BSpline\n",
    "\n",
    "xs = np.linspace(2, 50, 7)\n",
    "ys = spl(xs)\n",
    "\n",
    "plt.plot(range(2,51), sc, \"go--\")\n",
    "plt.plot(xs, ys, \"b-\")"
   ]
  },
  {
   "cell_type": "code",
   "execution_count": 568,
   "id": "785920bf",
   "metadata": {
    "scrolled": true
   },
   "outputs": [
    {
     "data": {
      "text/plain": [
       "49"
      ]
     },
     "execution_count": 568,
     "metadata": {},
     "output_type": "execute_result"
    }
   ],
   "source": [
    "len(sc)"
   ]
  },
  {
   "cell_type": "code",
   "execution_count": 569,
   "id": "56f75dec",
   "metadata": {},
   "outputs": [
    {
     "name": "stdout",
     "output_type": "stream",
     "text": [
      "[48]\n"
     ]
    }
   ],
   "source": [
    "print([k for k in range(len(sc)) if sc[k]==max(sc)])"
   ]
  },
  {
   "cell_type": "markdown",
   "id": "69b45309",
   "metadata": {},
   "source": [
    "Clusters"
   ]
  },
  {
   "cell_type": "code",
   "execution_count": 519,
   "id": "11fae9e1",
   "metadata": {},
   "outputs": [
    {
     "data": {
      "text/plain": [
       "KMeans(max_iter=500, n_clusters=12, n_init=50, random_state=360)"
      ]
     },
     "execution_count": 519,
     "metadata": {},
     "output_type": "execute_result"
    }
   ],
   "source": [
    "kmeans = KMeans(n_clusters = 12, init=\"k-means++\", n_init = 50, max_iter = 500, random_state = 360)\n",
    "kmeans.fit(new_features)"
   ]
  },
  {
   "cell_type": "code",
   "execution_count": 520,
   "id": "1e1509f6",
   "metadata": {},
   "outputs": [],
   "source": [
    "clustered = defaultdict(list)\n",
    "for idx,ns in enumerate(newssources):\n",
    "    c = kmeans.labels_[idx]\n",
    "    clustered[c].append(ns)"
   ]
  },
  {
   "cell_type": "code",
   "execution_count": 521,
   "id": "be656b40",
   "metadata": {},
   "outputs": [
    {
     "name": "stdout",
     "output_type": "stream",
     "text": [
      "[1643, 177, 380, 119, 36, 43, 37, 101, 100, 56, 31, 62]\n"
     ]
    }
   ],
   "source": [
    "print([len(clustered[i]) for i in range(12)])"
   ]
  },
  {
   "cell_type": "code",
   "execution_count": 522,
   "id": "8cb3f243",
   "metadata": {
    "scrolled": true
   },
   "outputs": [
    {
     "data": {
      "text/plain": [
       "['wsbt.com',\n",
       " 'latimes.com',\n",
       " 'thedailybeast.com',\n",
       " 'japantimes.co.jp',\n",
       " 'fox10tv.com',\n",
       " 'globegazette.com',\n",
       " 'wtae.com',\n",
       " 'thesouthern.com',\n",
       " 'scmp.com',\n",
       " 'wjla.com',\n",
       " 'siouxcityjournal.com',\n",
       " 'winonadailynews.com',\n",
       " 'civilbeat.org',\n",
       " 'wqad.com',\n",
       " 'fox61.com',\n",
       " 'wccbcharlotte.com',\n",
       " 'wapt.com',\n",
       " 'wlos.com',\n",
       " 'post-gazette.com',\n",
       " 'boston.com',\n",
       " 'foxnews.com',\n",
       " 'telegraph.co.uk',\n",
       " 'sciencedaily.com',\n",
       " 'wsvn.com',\n",
       " 'albanyherald.com',\n",
       " 'foxsanantonio.com',\n",
       " 'abc57.com',\n",
       " 'bangkokpost.com',\n",
       " 'wvtm13.com',\n",
       " 'kmov.com',\n",
       " 'wowt.com',\n",
       " 'wchstv.com',\n",
       " 'ketv.com',\n",
       " 'dothaneagle.com',\n",
       " '5newsonline.com',\n",
       " 'wesh.com',\n",
       " 'npr.org',\n",
       " 'wsmv.com',\n",
       " 'cnn.com',\n",
       " 'wtkr.com',\n",
       " 'ktbs.com',\n",
       " 'pbs.org',\n",
       " 'fox11online.com',\n",
       " 'fox43.com',\n",
       " 'thetandd.com',\n",
       " 'wnep.com',\n",
       " 'cbs58.com',\n",
       " 'chicagotribune.com',\n",
       " 'abc13.com',\n",
       " 'wfsb.com',\n",
       " 'nytimes.com',\n",
       " 'cbs46.com',\n",
       " 'smh.com.au',\n",
       " 'blackhillsfox.com',\n",
       " 'phillytrib.com',\n",
       " 'espn.com',\n",
       " 'kshb.com',\n",
       " 'wlky.com',\n",
       " 'wjcl.com',\n",
       " 'nzherald.co.nz',\n",
       " 'wpbf.com',\n",
       " 'thehill.com',\n",
       " 'hindustantimes.com',\n",
       " 'bbc.co.uk',\n",
       " 'iol.co.za',\n",
       " 'kjrh.com',\n",
       " 'aljazeera.com',\n",
       " 'wpde.com',\n",
       " 'fivethirtyeight.com',\n",
       " 'beatricedailysun.com',\n",
       " 'poststar.com',\n",
       " 'lex18.com',\n",
       " 'csmonitor.com',\n",
       " 'mb.com.ph',\n",
       " 'cbsnews.com',\n",
       " 'sltrib.com',\n",
       " 'westernmassnews.com',\n",
       " 'washingtonexaminer.com',\n",
       " 'wmtw.com',\n",
       " 'nbcnews.com',\n",
       " 'herald-review.com',\n",
       " 'cnbc.com',\n",
       " 'irishtimes.com',\n",
       " 'abc7ny.com',\n",
       " 'kmbc.com',\n",
       " 'ksdk.com',\n",
       " 'wcpo.com',\n",
       " 'turnto10.com',\n",
       " 'wlwt.com',\n",
       " 'abcactionnews.com',\n",
       " 'wbaltv.com',\n",
       " 'abc7chicago.com',\n",
       " 'thehindu.com',\n",
       " 'kcci.com',\n",
       " 'wnem.com',\n",
       " 'gwinnettdailypost.com',\n",
       " 'wisn.com',\n",
       " 'koco.com',\n",
       " 'wmar2news.com',\n",
       " 'krgv.com']"
      ]
     },
     "execution_count": 522,
     "metadata": {},
     "output_type": "execute_result"
    }
   ],
   "source": [
    "clustered[8]"
   ]
  },
  {
   "cell_type": "code",
   "execution_count": 524,
   "id": "9742b791",
   "metadata": {},
   "outputs": [
    {
     "name": "stdout",
     "output_type": "stream",
     "text": [
      "[8]\n"
     ]
    }
   ],
   "source": [
    "print([k for k in range(25) if \"foxnews.com\" in clustered[k]])"
   ]
  },
  {
   "cell_type": "code",
   "execution_count": 518,
   "id": "2e1a2006",
   "metadata": {},
   "outputs": [],
   "source": [
    "?KMeans"
   ]
  },
  {
   "cell_type": "markdown",
   "id": "d327feb5",
   "metadata": {},
   "source": [
    "## Low Variance\n",
    "What about selecting features using `skfeature.function.statistical_based.low_variance`"
   ]
  },
  {
   "cell_type": "markdown",
   "id": "237f4368",
   "metadata": {},
   "source": [
    "First let's look at the various variances of the feature columns."
   ]
  },
  {
   "cell_type": "code",
   "execution_count": 163,
   "id": "b6df8a69",
   "metadata": {},
   "outputs": [],
   "source": [
    "variances = [statistics.pvariance([row[idx] for row in features]) for idx in range(len(features[0]))]"
   ]
  },
  {
   "cell_type": "code",
   "execution_count": 164,
   "id": "799fcceb",
   "metadata": {},
   "outputs": [
    {
     "data": {
      "text/plain": [
       "6220"
      ]
     },
     "execution_count": 164,
     "metadata": {},
     "output_type": "execute_result"
    }
   ],
   "source": [
    "len(variances)"
   ]
  },
  {
   "cell_type": "code",
   "execution_count": 165,
   "id": "290fcef6",
   "metadata": {},
   "outputs": [
    {
     "data": {
      "text/plain": [
       "0.036082942854536185"
      ]
     },
     "execution_count": 165,
     "metadata": {},
     "output_type": "execute_result"
    }
   ],
   "source": [
    "max(variances)"
   ]
  },
  {
   "cell_type": "code",
   "execution_count": 183,
   "id": "fb563a29",
   "metadata": {},
   "outputs": [
    {
     "data": {
      "text/plain": [
       "Text(0.5, 0, 'variance')"
      ]
     },
     "execution_count": 183,
     "metadata": {},
     "output_type": "execute_result"
    },
    {
     "data": {
      "image/png": "[encoded data removed]",
      "text/plain": [
       "<Figure size 480x480 with 1 Axes>"
      ]
     },
     "metadata": {
      "needs_background": "light"
     },
     "output_type": "display_data"
    }
   ],
   "source": [
    "figure(figsize=(6, 6), dpi=80)\n",
    "plt.hist([v for v in variances])\n",
    "plt.title(\"Variance of features (n=6220)\")\n",
    "plt.ylabel(\"frequency\")\n",
    "plt.xlabel(\"variance\")"
   ]
  },
  {
   "cell_type": "code",
   "execution_count": 182,
   "id": "2695d432",
   "metadata": {},
   "outputs": [
    {
     "data": {
      "text/plain": [
       "Text(0.5, 0, 'variance')"
      ]
     },
     "execution_count": 182,
     "metadata": {},
     "output_type": "execute_result"
    },
    {
     "data": {
      "image/png": "[encoded data removed]",
      "text/plain": [
       "<Figure size 480x480 with 1 Axes>"
      ]
     },
     "metadata": {
      "needs_background": "light"
     },
     "output_type": "display_data"
    }
   ],
   "source": [
    "figure(figsize=(6, 6), dpi=80)\n",
    "plt.hist([v for v in variances if v < 0.0005])\n",
    "plt.title(\"Variance of features (n=6220)\")\n",
    "plt.ylabel(\"frequency\")\n",
    "plt.xlabel(\"variance\")"
   ]
  },
  {
   "cell_type": "code",
   "execution_count": 84,
   "id": "0c4be642",
   "metadata": {},
   "outputs": [],
   "source": [
    "from sklearn.feature_selection import VarianceThreshold"
   ]
  },
  {
   "cell_type": "code",
   "execution_count": 570,
   "id": "fe61b7d5",
   "metadata": {
    "scrolled": true
   },
   "outputs": [],
   "source": [
    "# threshold = 0.000075\n",
    "selector = VarianceThreshold(threshold=0.0009)\n",
    "new_features = selector.fit_transform(np.array(features))"
   ]
  },
  {
   "cell_type": "code",
   "execution_count": 571,
   "id": "7599a89d",
   "metadata": {},
   "outputs": [
    {
     "data": {
      "text/plain": [
       "206"
      ]
     },
     "execution_count": 571,
     "metadata": {},
     "output_type": "execute_result"
    }
   ],
   "source": [
    "len(new_features[0])"
   ]
  },
  {
   "cell_type": "code",
   "execution_count": 572,
   "id": "93017f63",
   "metadata": {},
   "outputs": [],
   "source": [
    "# ?VarianceThreshold"
   ]
  },
  {
   "cell_type": "code",
   "execution_count": null,
   "id": "fa1b1cc7",
   "metadata": {},
   "outputs": [],
   "source": []
  },
  {
   "cell_type": "markdown",
   "id": "ccd3847a",
   "metadata": {},
   "source": [
    "## Clustering"
   ]
  },
  {
   "cell_type": "markdown",
   "id": "a316d091",
   "metadata": {},
   "source": [
    "For starters, let's try 5 clusters"
   ]
  },
  {
   "cell_type": "code",
   "execution_count": 573,
   "id": "f762f2b0",
   "metadata": {
    "scrolled": true
   },
   "outputs": [],
   "source": [
    "items = new_features.tolist()"
   ]
  },
  {
   "cell_type": "code",
   "execution_count": 574,
   "id": "35c8e743",
   "metadata": {},
   "outputs": [],
   "source": [
    "kmeans5 = KMeans(init = \"random\",\n",
    "               n_clusters = 5,\n",
    "               n_init = 10,\n",
    "               max_iter = 100)"
   ]
  },
  {
   "cell_type": "code",
   "execution_count": 575,
   "id": "e285a984",
   "metadata": {},
   "outputs": [
    {
     "data": {
      "text/plain": [
       "KMeans(init='random', max_iter=100, n_clusters=5)"
      ]
     },
     "execution_count": 575,
     "metadata": {},
     "output_type": "execute_result"
    }
   ],
   "source": [
    "kmeans5.fit(new_features)"
   ]
  },
  {
   "cell_type": "code",
   "execution_count": 576,
   "id": "0945f723",
   "metadata": {
    "scrolled": true
   },
   "outputs": [
    {
     "data": {
      "text/plain": [
       "1277.426789424867"
      ]
     },
     "execution_count": 576,
     "metadata": {},
     "output_type": "execute_result"
    }
   ],
   "source": [
    "kmeans5.inertia_"
   ]
  },
  {
   "cell_type": "code",
   "execution_count": 538,
   "id": "ed122a6d",
   "metadata": {},
   "outputs": [
    {
     "data": {
      "text/plain": [
       "11"
      ]
     },
     "execution_count": 538,
     "metadata": {},
     "output_type": "execute_result"
    }
   ],
   "source": [
    "kmeans5.n_iter_"
   ]
  },
  {
   "cell_type": "markdown",
   "id": "26647463",
   "metadata": {},
   "source": [
    "### Choosing the appropriate number of clusters"
   ]
  },
  {
   "cell_type": "code",
   "execution_count": 539,
   "id": "6c46d2a0",
   "metadata": {},
   "outputs": [],
   "source": [
    "# Elbow method\n",
    "kmeans_kwargs = {\n",
    "    \"init\": \"k-means++\",\n",
    "    \"n_init\": 10,\n",
    "    \"max_iter\": 300,\n",
    "    \"random_state\": 56789432\n",
    "}"
   ]
  },
  {
   "cell_type": "code",
   "execution_count": 540,
   "id": "75f60786",
   "metadata": {
    "scrolled": true
   },
   "outputs": [
    {
     "name": "stdout",
     "output_type": "stream",
     "text": [
      "have done 1 rounds, current sse is [1181.5526665082493]\n",
      "have done 2 rounds, current sse is [1181.5526665082493, 1098.472476007342]\n",
      "have done 3 rounds, current sse is [1181.5526665082493, 1098.472476007342, 1039.4780670125913]\n",
      "have done 4 rounds, current sse is [1181.5526665082493, 1098.472476007342, 1039.4780670125913, 1000.0703800378031]\n",
      "have done 5 rounds, current sse is [1181.5526665082493, 1098.472476007342, 1039.4780670125913, 1000.0703800378031, 974.9401001543215]\n",
      "have done 6 rounds, current sse is [1181.5526665082493, 1098.472476007342, 1039.4780670125913, 1000.0703800378031, 974.9401001543215, 958.4477950359568]\n",
      "have done 7 rounds, current sse is [1181.5526665082493, 1098.472476007342, 1039.4780670125913, 1000.0703800378031, 974.9401001543215, 958.4477950359568, 910.4432901039212]\n",
      "have done 8 rounds, current sse is [1181.5526665082493, 1098.472476007342, 1039.4780670125913, 1000.0703800378031, 974.9401001543215, 958.4477950359568, 910.4432901039212, 892.3635832810944]\n",
      "have done 9 rounds, current sse is [1181.5526665082493, 1098.472476007342, 1039.4780670125913, 1000.0703800378031, 974.9401001543215, 958.4477950359568, 910.4432901039212, 892.3635832810944, 877.6928545282547]\n",
      "have done 10 rounds, current sse is [1181.5526665082493, 1098.472476007342, 1039.4780670125913, 1000.0703800378031, 974.9401001543215, 958.4477950359568, 910.4432901039212, 892.3635832810944, 877.6928545282547, 862.1831324893084]\n",
      "have done 11 rounds, current sse is [1181.5526665082493, 1098.472476007342, 1039.4780670125913, 1000.0703800378031, 974.9401001543215, 958.4477950359568, 910.4432901039212, 892.3635832810944, 877.6928545282547, 862.1831324893084, 841.1860183023703]\n",
      "have done 12 rounds, current sse is [1181.5526665082493, 1098.472476007342, 1039.4780670125913, 1000.0703800378031, 974.9401001543215, 958.4477950359568, 910.4432901039212, 892.3635832810944, 877.6928545282547, 862.1831324893084, 841.1860183023703, 813.7804221524965]\n",
      "have done 13 rounds, current sse is [1181.5526665082493, 1098.472476007342, 1039.4780670125913, 1000.0703800378031, 974.9401001543215, 958.4477950359568, 910.4432901039212, 892.3635832810944, 877.6928545282547, 862.1831324893084, 841.1860183023703, 813.7804221524965, 803.4008714221554]\n",
      "have done 14 rounds, current sse is [1181.5526665082493, 1098.472476007342, 1039.4780670125913, 1000.0703800378031, 974.9401001543215, 958.4477950359568, 910.4432901039212, 892.3635832810944, 877.6928545282547, 862.1831324893084, 841.1860183023703, 813.7804221524965, 803.4008714221554, 789.957184078137]\n",
      "have done 15 rounds, current sse is [1181.5526665082493, 1098.472476007342, 1039.4780670125913, 1000.0703800378031, 974.9401001543215, 958.4477950359568, 910.4432901039212, 892.3635832810944, 877.6928545282547, 862.1831324893084, 841.1860183023703, 813.7804221524965, 803.4008714221554, 789.957184078137, 777.3342176410414]\n",
      "have done 16 rounds, current sse is [1181.5526665082493, 1098.472476007342, 1039.4780670125913, 1000.0703800378031, 974.9401001543215, 958.4477950359568, 910.4432901039212, 892.3635832810944, 877.6928545282547, 862.1831324893084, 841.1860183023703, 813.7804221524965, 803.4008714221554, 789.957184078137, 777.3342176410414, 746.1644820414118]\n",
      "have done 17 rounds, current sse is [1181.5526665082493, 1098.472476007342, 1039.4780670125913, 1000.0703800378031, 974.9401001543215, 958.4477950359568, 910.4432901039212, 892.3635832810944, 877.6928545282547, 862.1831324893084, 841.1860183023703, 813.7804221524965, 803.4008714221554, 789.957184078137, 777.3342176410414, 746.1644820414118, 754.2898605168607]\n",
      "have done 18 rounds, current sse is [1181.5526665082493, 1098.472476007342, 1039.4780670125913, 1000.0703800378031, 974.9401001543215, 958.4477950359568, 910.4432901039212, 892.3635832810944, 877.6928545282547, 862.1831324893084, 841.1860183023703, 813.7804221524965, 803.4008714221554, 789.957184078137, 777.3342176410414, 746.1644820414118, 754.2898605168607, 737.5561425720664]\n",
      "have done 19 rounds, current sse is [1181.5526665082493, 1098.472476007342, 1039.4780670125913, 1000.0703800378031, 974.9401001543215, 958.4477950359568, 910.4432901039212, 892.3635832810944, 877.6928545282547, 862.1831324893084, 841.1860183023703, 813.7804221524965, 803.4008714221554, 789.957184078137, 777.3342176410414, 746.1644820414118, 754.2898605168607, 737.5561425720664, 717.3459063562636]\n",
      "have done 20 rounds, current sse is [1181.5526665082493, 1098.472476007342, 1039.4780670125913, 1000.0703800378031, 974.9401001543215, 958.4477950359568, 910.4432901039212, 892.3635832810944, 877.6928545282547, 862.1831324893084, 841.1860183023703, 813.7804221524965, 803.4008714221554, 789.957184078137, 777.3342176410414, 746.1644820414118, 754.2898605168607, 737.5561425720664, 717.3459063562636, 713.3257270444758]\n",
      "have done 21 rounds, current sse is [1181.5526665082493, 1098.472476007342, 1039.4780670125913, 1000.0703800378031, 974.9401001543215, 958.4477950359568, 910.4432901039212, 892.3635832810944, 877.6928545282547, 862.1831324893084, 841.1860183023703, 813.7804221524965, 803.4008714221554, 789.957184078137, 777.3342176410414, 746.1644820414118, 754.2898605168607, 737.5561425720664, 717.3459063562636, 713.3257270444758, 699.2864690433057]\n",
      "have done 22 rounds, current sse is [1181.5526665082493, 1098.472476007342, 1039.4780670125913, 1000.0703800378031, 974.9401001543215, 958.4477950359568, 910.4432901039212, 892.3635832810944, 877.6928545282547, 862.1831324893084, 841.1860183023703, 813.7804221524965, 803.4008714221554, 789.957184078137, 777.3342176410414, 746.1644820414118, 754.2898605168607, 737.5561425720664, 717.3459063562636, 713.3257270444758, 699.2864690433057, 686.2732502996422]\n",
      "have done 23 rounds, current sse is [1181.5526665082493, 1098.472476007342, 1039.4780670125913, 1000.0703800378031, 974.9401001543215, 958.4477950359568, 910.4432901039212, 892.3635832810944, 877.6928545282547, 862.1831324893084, 841.1860183023703, 813.7804221524965, 803.4008714221554, 789.957184078137, 777.3342176410414, 746.1644820414118, 754.2898605168607, 737.5561425720664, 717.3459063562636, 713.3257270444758, 699.2864690433057, 686.2732502996422, 670.3643331312983]\n",
      "have done 24 rounds, current sse is [1181.5526665082493, 1098.472476007342, 1039.4780670125913, 1000.0703800378031, 974.9401001543215, 958.4477950359568, 910.4432901039212, 892.3635832810944, 877.6928545282547, 862.1831324893084, 841.1860183023703, 813.7804221524965, 803.4008714221554, 789.957184078137, 777.3342176410414, 746.1644820414118, 754.2898605168607, 737.5561425720664, 717.3459063562636, 713.3257270444758, 699.2864690433057, 686.2732502996422, 670.3643331312983, 673.1405394882684]\n",
      "have done 25 rounds, current sse is [1181.5526665082493, 1098.472476007342, 1039.4780670125913, 1000.0703800378031, 974.9401001543215, 958.4477950359568, 910.4432901039212, 892.3635832810944, 877.6928545282547, 862.1831324893084, 841.1860183023703, 813.7804221524965, 803.4008714221554, 789.957184078137, 777.3342176410414, 746.1644820414118, 754.2898605168607, 737.5561425720664, 717.3459063562636, 713.3257270444758, 699.2864690433057, 686.2732502996422, 670.3643331312983, 673.1405394882684, 656.5107834514625]\n",
      "have done 26 rounds, current sse is [1181.5526665082493, 1098.472476007342, 1039.4780670125913, 1000.0703800378031, 974.9401001543215, 958.4477950359568, 910.4432901039212, 892.3635832810944, 877.6928545282547, 862.1831324893084, 841.1860183023703, 813.7804221524965, 803.4008714221554, 789.957184078137, 777.3342176410414, 746.1644820414118, 754.2898605168607, 737.5561425720664, 717.3459063562636, 713.3257270444758, 699.2864690433057, 686.2732502996422, 670.3643331312983, 673.1405394882684, 656.5107834514625, 642.3078291269134]\n",
      "have done 27 rounds, current sse is [1181.5526665082493, 1098.472476007342, 1039.4780670125913, 1000.0703800378031, 974.9401001543215, 958.4477950359568, 910.4432901039212, 892.3635832810944, 877.6928545282547, 862.1831324893084, 841.1860183023703, 813.7804221524965, 803.4008714221554, 789.957184078137, 777.3342176410414, 746.1644820414118, 754.2898605168607, 737.5561425720664, 717.3459063562636, 713.3257270444758, 699.2864690433057, 686.2732502996422, 670.3643331312983, 673.1405394882684, 656.5107834514625, 642.3078291269134, 635.5540840525023]\n"
     ]
    },
    {
     "name": "stdout",
     "output_type": "stream",
     "text": [
      "have done 28 rounds, current sse is [1181.5526665082493, 1098.472476007342, 1039.4780670125913, 1000.0703800378031, 974.9401001543215, 958.4477950359568, 910.4432901039212, 892.3635832810944, 877.6928545282547, 862.1831324893084, 841.1860183023703, 813.7804221524965, 803.4008714221554, 789.957184078137, 777.3342176410414, 746.1644820414118, 754.2898605168607, 737.5561425720664, 717.3459063562636, 713.3257270444758, 699.2864690433057, 686.2732502996422, 670.3643331312983, 673.1405394882684, 656.5107834514625, 642.3078291269134, 635.5540840525023, 626.9219869868864]\n",
      "have done 29 rounds, current sse is [1181.5526665082493, 1098.472476007342, 1039.4780670125913, 1000.0703800378031, 974.9401001543215, 958.4477950359568, 910.4432901039212, 892.3635832810944, 877.6928545282547, 862.1831324893084, 841.1860183023703, 813.7804221524965, 803.4008714221554, 789.957184078137, 777.3342176410414, 746.1644820414118, 754.2898605168607, 737.5561425720664, 717.3459063562636, 713.3257270444758, 699.2864690433057, 686.2732502996422, 670.3643331312983, 673.1405394882684, 656.5107834514625, 642.3078291269134, 635.5540840525023, 626.9219869868864, 611.0813070767288]\n",
      "have done 30 rounds, current sse is [1181.5526665082493, 1098.472476007342, 1039.4780670125913, 1000.0703800378031, 974.9401001543215, 958.4477950359568, 910.4432901039212, 892.3635832810944, 877.6928545282547, 862.1831324893084, 841.1860183023703, 813.7804221524965, 803.4008714221554, 789.957184078137, 777.3342176410414, 746.1644820414118, 754.2898605168607, 737.5561425720664, 717.3459063562636, 713.3257270444758, 699.2864690433057, 686.2732502996422, 670.3643331312983, 673.1405394882684, 656.5107834514625, 642.3078291269134, 635.5540840525023, 626.9219869868864, 611.0813070767288, 608.6201068302411]\n",
      "have done 31 rounds, current sse is [1181.5526665082493, 1098.472476007342, 1039.4780670125913, 1000.0703800378031, 974.9401001543215, 958.4477950359568, 910.4432901039212, 892.3635832810944, 877.6928545282547, 862.1831324893084, 841.1860183023703, 813.7804221524965, 803.4008714221554, 789.957184078137, 777.3342176410414, 746.1644820414118, 754.2898605168607, 737.5561425720664, 717.3459063562636, 713.3257270444758, 699.2864690433057, 686.2732502996422, 670.3643331312983, 673.1405394882684, 656.5107834514625, 642.3078291269134, 635.5540840525023, 626.9219869868864, 611.0813070767288, 608.6201068302411, 597.2167743767546]\n",
      "have done 32 rounds, current sse is [1181.5526665082493, 1098.472476007342, 1039.4780670125913, 1000.0703800378031, 974.9401001543215, 958.4477950359568, 910.4432901039212, 892.3635832810944, 877.6928545282547, 862.1831324893084, 841.1860183023703, 813.7804221524965, 803.4008714221554, 789.957184078137, 777.3342176410414, 746.1644820414118, 754.2898605168607, 737.5561425720664, 717.3459063562636, 713.3257270444758, 699.2864690433057, 686.2732502996422, 670.3643331312983, 673.1405394882684, 656.5107834514625, 642.3078291269134, 635.5540840525023, 626.9219869868864, 611.0813070767288, 608.6201068302411, 597.2167743767546, 597.8054341658324]\n",
      "have done 33 rounds, current sse is [1181.5526665082493, 1098.472476007342, 1039.4780670125913, 1000.0703800378031, 974.9401001543215, 958.4477950359568, 910.4432901039212, 892.3635832810944, 877.6928545282547, 862.1831324893084, 841.1860183023703, 813.7804221524965, 803.4008714221554, 789.957184078137, 777.3342176410414, 746.1644820414118, 754.2898605168607, 737.5561425720664, 717.3459063562636, 713.3257270444758, 699.2864690433057, 686.2732502996422, 670.3643331312983, 673.1405394882684, 656.5107834514625, 642.3078291269134, 635.5540840525023, 626.9219869868864, 611.0813070767288, 608.6201068302411, 597.2167743767546, 597.8054341658324, 585.851648980538]\n",
      "have done 34 rounds, current sse is [1181.5526665082493, 1098.472476007342, 1039.4780670125913, 1000.0703800378031, 974.9401001543215, 958.4477950359568, 910.4432901039212, 892.3635832810944, 877.6928545282547, 862.1831324893084, 841.1860183023703, 813.7804221524965, 803.4008714221554, 789.957184078137, 777.3342176410414, 746.1644820414118, 754.2898605168607, 737.5561425720664, 717.3459063562636, 713.3257270444758, 699.2864690433057, 686.2732502996422, 670.3643331312983, 673.1405394882684, 656.5107834514625, 642.3078291269134, 635.5540840525023, 626.9219869868864, 611.0813070767288, 608.6201068302411, 597.2167743767546, 597.8054341658324, 585.851648980538, 576.2103400902283]\n",
      "have done 35 rounds, current sse is [1181.5526665082493, 1098.472476007342, 1039.4780670125913, 1000.0703800378031, 974.9401001543215, 958.4477950359568, 910.4432901039212, 892.3635832810944, 877.6928545282547, 862.1831324893084, 841.1860183023703, 813.7804221524965, 803.4008714221554, 789.957184078137, 777.3342176410414, 746.1644820414118, 754.2898605168607, 737.5561425720664, 717.3459063562636, 713.3257270444758, 699.2864690433057, 686.2732502996422, 670.3643331312983, 673.1405394882684, 656.5107834514625, 642.3078291269134, 635.5540840525023, 626.9219869868864, 611.0813070767288, 608.6201068302411, 597.2167743767546, 597.8054341658324, 585.851648980538, 576.2103400902283, 557.3124263231155]\n",
      "have done 36 rounds, current sse is [1181.5526665082493, 1098.472476007342, 1039.4780670125913, 1000.0703800378031, 974.9401001543215, 958.4477950359568, 910.4432901039212, 892.3635832810944, 877.6928545282547, 862.1831324893084, 841.1860183023703, 813.7804221524965, 803.4008714221554, 789.957184078137, 777.3342176410414, 746.1644820414118, 754.2898605168607, 737.5561425720664, 717.3459063562636, 713.3257270444758, 699.2864690433057, 686.2732502996422, 670.3643331312983, 673.1405394882684, 656.5107834514625, 642.3078291269134, 635.5540840525023, 626.9219869868864, 611.0813070767288, 608.6201068302411, 597.2167743767546, 597.8054341658324, 585.851648980538, 576.2103400902283, 557.3124263231155, 558.5881053185614]\n",
      "have done 37 rounds, current sse is [1181.5526665082493, 1098.472476007342, 1039.4780670125913, 1000.0703800378031, 974.9401001543215, 958.4477950359568, 910.4432901039212, 892.3635832810944, 877.6928545282547, 862.1831324893084, 841.1860183023703, 813.7804221524965, 803.4008714221554, 789.957184078137, 777.3342176410414, 746.1644820414118, 754.2898605168607, 737.5561425720664, 717.3459063562636, 713.3257270444758, 699.2864690433057, 686.2732502996422, 670.3643331312983, 673.1405394882684, 656.5107834514625, 642.3078291269134, 635.5540840525023, 626.9219869868864, 611.0813070767288, 608.6201068302411, 597.2167743767546, 597.8054341658324, 585.851648980538, 576.2103400902283, 557.3124263231155, 558.5881053185614, 555.729025997807]\n",
      "have done 38 rounds, current sse is [1181.5526665082493, 1098.472476007342, 1039.4780670125913, 1000.0703800378031, 974.9401001543215, 958.4477950359568, 910.4432901039212, 892.3635832810944, 877.6928545282547, 862.1831324893084, 841.1860183023703, 813.7804221524965, 803.4008714221554, 789.957184078137, 777.3342176410414, 746.1644820414118, 754.2898605168607, 737.5561425720664, 717.3459063562636, 713.3257270444758, 699.2864690433057, 686.2732502996422, 670.3643331312983, 673.1405394882684, 656.5107834514625, 642.3078291269134, 635.5540840525023, 626.9219869868864, 611.0813070767288, 608.6201068302411, 597.2167743767546, 597.8054341658324, 585.851648980538, 576.2103400902283, 557.3124263231155, 558.5881053185614, 555.729025997807, 545.3083553743882]\n",
      "have done 39 rounds, current sse is [1181.5526665082493, 1098.472476007342, 1039.4780670125913, 1000.0703800378031, 974.9401001543215, 958.4477950359568, 910.4432901039212, 892.3635832810944, 877.6928545282547, 862.1831324893084, 841.1860183023703, 813.7804221524965, 803.4008714221554, 789.957184078137, 777.3342176410414, 746.1644820414118, 754.2898605168607, 737.5561425720664, 717.3459063562636, 713.3257270444758, 699.2864690433057, 686.2732502996422, 670.3643331312983, 673.1405394882684, 656.5107834514625, 642.3078291269134, 635.5540840525023, 626.9219869868864, 611.0813070767288, 608.6201068302411, 597.2167743767546, 597.8054341658324, 585.851648980538, 576.2103400902283, 557.3124263231155, 558.5881053185614, 555.729025997807, 545.3083553743882, 542.0169734882461]\n",
      "have done 40 rounds, current sse is [1181.5526665082493, 1098.472476007342, 1039.4780670125913, 1000.0703800378031, 974.9401001543215, 958.4477950359568, 910.4432901039212, 892.3635832810944, 877.6928545282547, 862.1831324893084, 841.1860183023703, 813.7804221524965, 803.4008714221554, 789.957184078137, 777.3342176410414, 746.1644820414118, 754.2898605168607, 737.5561425720664, 717.3459063562636, 713.3257270444758, 699.2864690433057, 686.2732502996422, 670.3643331312983, 673.1405394882684, 656.5107834514625, 642.3078291269134, 635.5540840525023, 626.9219869868864, 611.0813070767288, 608.6201068302411, 597.2167743767546, 597.8054341658324, 585.851648980538, 576.2103400902283, 557.3124263231155, 558.5881053185614, 555.729025997807, 545.3083553743882, 542.0169734882461, 539.3400353263198]\n"
     ]
    },
    {
     "name": "stdout",
     "output_type": "stream",
     "text": [
      "have done 41 rounds, current sse is [1181.5526665082493, 1098.472476007342, 1039.4780670125913, 1000.0703800378031, 974.9401001543215, 958.4477950359568, 910.4432901039212, 892.3635832810944, 877.6928545282547, 862.1831324893084, 841.1860183023703, 813.7804221524965, 803.4008714221554, 789.957184078137, 777.3342176410414, 746.1644820414118, 754.2898605168607, 737.5561425720664, 717.3459063562636, 713.3257270444758, 699.2864690433057, 686.2732502996422, 670.3643331312983, 673.1405394882684, 656.5107834514625, 642.3078291269134, 635.5540840525023, 626.9219869868864, 611.0813070767288, 608.6201068302411, 597.2167743767546, 597.8054341658324, 585.851648980538, 576.2103400902283, 557.3124263231155, 558.5881053185614, 555.729025997807, 545.3083553743882, 542.0169734882461, 539.3400353263198, 525.5460627571496]\n",
      "have done 42 rounds, current sse is [1181.5526665082493, 1098.472476007342, 1039.4780670125913, 1000.0703800378031, 974.9401001543215, 958.4477950359568, 910.4432901039212, 892.3635832810944, 877.6928545282547, 862.1831324893084, 841.1860183023703, 813.7804221524965, 803.4008714221554, 789.957184078137, 777.3342176410414, 746.1644820414118, 754.2898605168607, 737.5561425720664, 717.3459063562636, 713.3257270444758, 699.2864690433057, 686.2732502996422, 670.3643331312983, 673.1405394882684, 656.5107834514625, 642.3078291269134, 635.5540840525023, 626.9219869868864, 611.0813070767288, 608.6201068302411, 597.2167743767546, 597.8054341658324, 585.851648980538, 576.2103400902283, 557.3124263231155, 558.5881053185614, 555.729025997807, 545.3083553743882, 542.0169734882461, 539.3400353263198, 525.5460627571496, 519.7978622211987]\n",
      "have done 43 rounds, current sse is [1181.5526665082493, 1098.472476007342, 1039.4780670125913, 1000.0703800378031, 974.9401001543215, 958.4477950359568, 910.4432901039212, 892.3635832810944, 877.6928545282547, 862.1831324893084, 841.1860183023703, 813.7804221524965, 803.4008714221554, 789.957184078137, 777.3342176410414, 746.1644820414118, 754.2898605168607, 737.5561425720664, 717.3459063562636, 713.3257270444758, 699.2864690433057, 686.2732502996422, 670.3643331312983, 673.1405394882684, 656.5107834514625, 642.3078291269134, 635.5540840525023, 626.9219869868864, 611.0813070767288, 608.6201068302411, 597.2167743767546, 597.8054341658324, 585.851648980538, 576.2103400902283, 557.3124263231155, 558.5881053185614, 555.729025997807, 545.3083553743882, 542.0169734882461, 539.3400353263198, 525.5460627571496, 519.7978622211987, 516.3919697108528]\n",
      "have done 44 rounds, current sse is [1181.5526665082493, 1098.472476007342, 1039.4780670125913, 1000.0703800378031, 974.9401001543215, 958.4477950359568, 910.4432901039212, 892.3635832810944, 877.6928545282547, 862.1831324893084, 841.1860183023703, 813.7804221524965, 803.4008714221554, 789.957184078137, 777.3342176410414, 746.1644820414118, 754.2898605168607, 737.5561425720664, 717.3459063562636, 713.3257270444758, 699.2864690433057, 686.2732502996422, 670.3643331312983, 673.1405394882684, 656.5107834514625, 642.3078291269134, 635.5540840525023, 626.9219869868864, 611.0813070767288, 608.6201068302411, 597.2167743767546, 597.8054341658324, 585.851648980538, 576.2103400902283, 557.3124263231155, 558.5881053185614, 555.729025997807, 545.3083553743882, 542.0169734882461, 539.3400353263198, 525.5460627571496, 519.7978622211987, 516.3919697108528, 505.28685995084]\n",
      "have done 45 rounds, current sse is [1181.5526665082493, 1098.472476007342, 1039.4780670125913, 1000.0703800378031, 974.9401001543215, 958.4477950359568, 910.4432901039212, 892.3635832810944, 877.6928545282547, 862.1831324893084, 841.1860183023703, 813.7804221524965, 803.4008714221554, 789.957184078137, 777.3342176410414, 746.1644820414118, 754.2898605168607, 737.5561425720664, 717.3459063562636, 713.3257270444758, 699.2864690433057, 686.2732502996422, 670.3643331312983, 673.1405394882684, 656.5107834514625, 642.3078291269134, 635.5540840525023, 626.9219869868864, 611.0813070767288, 608.6201068302411, 597.2167743767546, 597.8054341658324, 585.851648980538, 576.2103400902283, 557.3124263231155, 558.5881053185614, 555.729025997807, 545.3083553743882, 542.0169734882461, 539.3400353263198, 525.5460627571496, 519.7978622211987, 516.3919697108528, 505.28685995084, 495.79059870446065]\n",
      "have done 46 rounds, current sse is [1181.5526665082493, 1098.472476007342, 1039.4780670125913, 1000.0703800378031, 974.9401001543215, 958.4477950359568, 910.4432901039212, 892.3635832810944, 877.6928545282547, 862.1831324893084, 841.1860183023703, 813.7804221524965, 803.4008714221554, 789.957184078137, 777.3342176410414, 746.1644820414118, 754.2898605168607, 737.5561425720664, 717.3459063562636, 713.3257270444758, 699.2864690433057, 686.2732502996422, 670.3643331312983, 673.1405394882684, 656.5107834514625, 642.3078291269134, 635.5540840525023, 626.9219869868864, 611.0813070767288, 608.6201068302411, 597.2167743767546, 597.8054341658324, 585.851648980538, 576.2103400902283, 557.3124263231155, 558.5881053185614, 555.729025997807, 545.3083553743882, 542.0169734882461, 539.3400353263198, 525.5460627571496, 519.7978622211987, 516.3919697108528, 505.28685995084, 495.79059870446065, 494.0809251167402]\n",
      "have done 47 rounds, current sse is [1181.5526665082493, 1098.472476007342, 1039.4780670125913, 1000.0703800378031, 974.9401001543215, 958.4477950359568, 910.4432901039212, 892.3635832810944, 877.6928545282547, 862.1831324893084, 841.1860183023703, 813.7804221524965, 803.4008714221554, 789.957184078137, 777.3342176410414, 746.1644820414118, 754.2898605168607, 737.5561425720664, 717.3459063562636, 713.3257270444758, 699.2864690433057, 686.2732502996422, 670.3643331312983, 673.1405394882684, 656.5107834514625, 642.3078291269134, 635.5540840525023, 626.9219869868864, 611.0813070767288, 608.6201068302411, 597.2167743767546, 597.8054341658324, 585.851648980538, 576.2103400902283, 557.3124263231155, 558.5881053185614, 555.729025997807, 545.3083553743882, 542.0169734882461, 539.3400353263198, 525.5460627571496, 519.7978622211987, 516.3919697108528, 505.28685995084, 495.79059870446065, 494.0809251167402, 485.8429726881302]\n",
      "have done 48 rounds, current sse is [1181.5526665082493, 1098.472476007342, 1039.4780670125913, 1000.0703800378031, 974.9401001543215, 958.4477950359568, 910.4432901039212, 892.3635832810944, 877.6928545282547, 862.1831324893084, 841.1860183023703, 813.7804221524965, 803.4008714221554, 789.957184078137, 777.3342176410414, 746.1644820414118, 754.2898605168607, 737.5561425720664, 717.3459063562636, 713.3257270444758, 699.2864690433057, 686.2732502996422, 670.3643331312983, 673.1405394882684, 656.5107834514625, 642.3078291269134, 635.5540840525023, 626.9219869868864, 611.0813070767288, 608.6201068302411, 597.2167743767546, 597.8054341658324, 585.851648980538, 576.2103400902283, 557.3124263231155, 558.5881053185614, 555.729025997807, 545.3083553743882, 542.0169734882461, 539.3400353263198, 525.5460627571496, 519.7978622211987, 516.3919697108528, 505.28685995084, 495.79059870446065, 494.0809251167402, 485.8429726881302, 477.51010309441966]\n",
      "have done 49 rounds, current sse is [1181.5526665082493, 1098.472476007342, 1039.4780670125913, 1000.0703800378031, 974.9401001543215, 958.4477950359568, 910.4432901039212, 892.3635832810944, 877.6928545282547, 862.1831324893084, 841.1860183023703, 813.7804221524965, 803.4008714221554, 789.957184078137, 777.3342176410414, 746.1644820414118, 754.2898605168607, 737.5561425720664, 717.3459063562636, 713.3257270444758, 699.2864690433057, 686.2732502996422, 670.3643331312983, 673.1405394882684, 656.5107834514625, 642.3078291269134, 635.5540840525023, 626.9219869868864, 611.0813070767288, 608.6201068302411, 597.2167743767546, 597.8054341658324, 585.851648980538, 576.2103400902283, 557.3124263231155, 558.5881053185614, 555.729025997807, 545.3083553743882, 542.0169734882461, 539.3400353263198, 525.5460627571496, 519.7978622211987, 516.3919697108528, 505.28685995084, 495.79059870446065, 494.0809251167402, 485.8429726881302, 477.51010309441966, 476.71972357154783]\n",
      "have done 50 rounds, current sse is [1181.5526665082493, 1098.472476007342, 1039.4780670125913, 1000.0703800378031, 974.9401001543215, 958.4477950359568, 910.4432901039212, 892.3635832810944, 877.6928545282547, 862.1831324893084, 841.1860183023703, 813.7804221524965, 803.4008714221554, 789.957184078137, 777.3342176410414, 746.1644820414118, 754.2898605168607, 737.5561425720664, 717.3459063562636, 713.3257270444758, 699.2864690433057, 686.2732502996422, 670.3643331312983, 673.1405394882684, 656.5107834514625, 642.3078291269134, 635.5540840525023, 626.9219869868864, 611.0813070767288, 608.6201068302411, 597.2167743767546, 597.8054341658324, 585.851648980538, 576.2103400902283, 557.3124263231155, 558.5881053185614, 555.729025997807, 545.3083553743882, 542.0169734882461, 539.3400353263198, 525.5460627571496, 519.7978622211987, 516.3919697108528, 505.28685995084, 495.79059870446065, 494.0809251167402, 485.8429726881302, 477.51010309441966, 476.71972357154783, 469.48257061104766]\n"
     ]
    }
   ],
   "source": [
    "sse = []\n",
    "for k in range(1,51):\n",
    "    kmeans = KMeans(n_clusters = k, **kmeans_kwargs)\n",
    "    kmeans.fit(new_features)\n",
    "    sse.append(kmeans.inertia_)\n",
    "    print(f\"have done {k} rounds, current sse is {sse}\")"
   ]
  },
  {
   "cell_type": "code",
   "execution_count": 544,
   "id": "ec0a036a",
   "metadata": {
    "scrolled": false
   },
   "outputs": [
    {
     "data": {
      "text/plain": [
       "(0.0, 1110.0)"
      ]
     },
     "execution_count": 544,
     "metadata": {},
     "output_type": "execute_result"
    },
    {
     "data": {
      "image/png": "[encoded data removed]",
      "text/plain": [
       "<Figure size 432x288 with 1 Axes>"
      ]
     },
     "metadata": {
      "needs_background": "light"
     },
     "output_type": "display_data"
    }
   ],
   "source": [
    "plt.plot(range(1,20),sse[1:20],\"go-\")\n",
    "plt.ylim([0,1110])"
   ]
  },
  {
   "cell_type": "code",
   "execution_count": 547,
   "id": "5fecbd23",
   "metadata": {},
   "outputs": [
    {
     "data": {
      "text/plain": [
       "11"
      ]
     },
     "execution_count": 547,
     "metadata": {},
     "output_type": "execute_result"
    }
   ],
   "source": [
    "kl = KneeLocator(range(1,20), sse[1:20], curve=\"convex\", direction=\"decreasing\")\n",
    "kl.elbow"
   ]
  },
  {
   "cell_type": "code",
   "execution_count": 549,
   "id": "308d3623",
   "metadata": {},
   "outputs": [
    {
     "data": {
      "text/plain": [
       "(0.0, 1200.0)"
      ]
     },
     "execution_count": 549,
     "metadata": {},
     "output_type": "execute_result"
    },
    {
     "data": {
      "image/png": "[encoded data removed]",
      "text/plain": [
       "<Figure size 432x288 with 1 Axes>"
      ]
     },
     "metadata": {
      "needs_background": "light"
     },
     "output_type": "display_data"
    }
   ],
   "source": [
    "plt.plot(range(1,51),sse,\"go-\")\n",
    "plt.ylim([0,1200])"
   ]
  },
  {
   "cell_type": "code",
   "execution_count": 552,
   "id": "8ccfe635",
   "metadata": {},
   "outputs": [
    {
     "data": {
      "text/plain": [
       "16"
      ]
     },
     "execution_count": 552,
     "metadata": {},
     "output_type": "execute_result"
    }
   ],
   "source": [
    "kl = KneeLocator(range(1,51), sse[:51], curve=\"convex\", direction=\"decreasing\")\n",
    "kl.elbow"
   ]
  },
  {
   "cell_type": "markdown",
   "id": "b44df395",
   "metadata": {},
   "source": [
    "Using Silhouette Coefficient"
   ]
  },
  {
   "cell_type": "code",
   "execution_count": 554,
   "id": "a71b5fdd",
   "metadata": {
    "scrolled": true
   },
   "outputs": [
    {
     "name": "stdout",
     "output_type": "stream",
     "text": [
      "step 2\n",
      "step 3\n",
      "step 4\n",
      "step 5\n",
      "step 6\n",
      "step 7\n",
      "step 8\n",
      "step 9\n",
      "step 10\n",
      "step 11\n",
      "step 12\n",
      "step 13\n",
      "step 14\n",
      "step 15\n",
      "step 16\n",
      "step 17\n",
      "step 18\n",
      "step 19\n",
      "step 20\n",
      "step 21\n",
      "step 22\n",
      "step 23\n",
      "step 24\n",
      "step 25\n",
      "step 26\n",
      "step 27\n",
      "step 28\n",
      "step 29\n",
      "step 30\n",
      "step 31\n",
      "step 32\n",
      "step 33\n",
      "step 34\n",
      "step 35\n",
      "step 36\n",
      "step 37\n",
      "step 38\n",
      "step 39\n",
      "step 40\n",
      "step 41\n",
      "step 42\n",
      "step 43\n",
      "step 44\n",
      "step 45\n",
      "step 46\n",
      "step 47\n",
      "step 48\n",
      "step 49\n",
      "step 50\n"
     ]
    }
   ],
   "source": [
    "sc = []\n",
    "new_sse = []\n",
    "for k in range(2,51):\n",
    "    kmeans = KMeans(n_clusters = k, **kmeans_kwargs)\n",
    "    kmeans.fit(new_features)\n",
    "    score = silhouette_score(new_features, kmeans.labels_)\n",
    "    sc.append(score)\n",
    "    new_sse.append(kmeans.inertia_)\n",
    "    print(\"step {}\".format(k))"
   ]
  },
  {
   "cell_type": "code",
   "execution_count": 561,
   "id": "6259ee27",
   "metadata": {
    "scrolled": true
   },
   "outputs": [
    {
     "data": {
      "text/plain": [
       "[<matplotlib.lines.Line2D at 0x21e7aa368e0>]"
      ]
     },
     "execution_count": 561,
     "metadata": {},
     "output_type": "execute_result"
    },
    {
     "data": {
      "image/png": "[encoded data removed]",
      "text/plain": [
       "<Figure size 432x288 with 1 Axes>"
      ]
     },
     "metadata": {
      "needs_background": "light"
     },
     "output_type": "display_data"
    }
   ],
   "source": [
    "# for sse\n",
    "plt.plot(range(2,21), new_sse[:19], \"go-\")"
   ]
  },
  {
   "cell_type": "code",
   "execution_count": 562,
   "id": "01bdd65e",
   "metadata": {
    "scrolled": true
   },
   "outputs": [
    {
     "data": {
      "text/plain": [
       "12"
      ]
     },
     "execution_count": 562,
     "metadata": {},
     "output_type": "execute_result"
    }
   ],
   "source": [
    "kl_new = KneeLocator(range(2,21), new_sse[:19], curve=\"convex\", direction=\"decreasing\")\n",
    "kl_new.elbow"
   ]
  },
  {
   "cell_type": "code",
   "execution_count": 563,
   "id": "49d82fa7",
   "metadata": {},
   "outputs": [
    {
     "data": {
      "text/plain": [
       "[<matplotlib.lines.Line2D at 0x21e7aaa9790>]"
      ]
     },
     "execution_count": 563,
     "metadata": {},
     "output_type": "execute_result"
    },
    {
     "data": {
      "image/png": "[encoded data removed]",
      "text/plain": [
       "<Figure size 432x288 with 1 Axes>"
      ]
     },
     "metadata": {
      "needs_background": "light"
     },
     "output_type": "display_data"
    }
   ],
   "source": [
    "# for silhouette coefficient\n",
    "plt.plot(range(2,21), sc[:19], \"bo-\")"
   ]
  },
  {
   "cell_type": "code",
   "execution_count": 565,
   "id": "97fc2271",
   "metadata": {},
   "outputs": [
    {
     "data": {
      "text/plain": [
       "Text(0.5, 0, 'k')"
      ]
     },
     "execution_count": 565,
     "metadata": {},
     "output_type": "execute_result"
    },
    {
     "data": {
      "image/png": "[encoded data removed]",
      "text/plain": [
       "<Figure size 432x288 with 1 Axes>"
      ]
     },
     "metadata": {
      "needs_background": "light"
     },
     "output_type": "display_data"
    }
   ],
   "source": [
    "\n",
    "\n",
    "spl = make_interp_spline(range(2,21), sc[:19], k=3)  # type: BSpline\n",
    "\n",
    "xs = np.linspace(2, 20, 6)\n",
    "ys = spl(xs)\n",
    "\n",
    "plt.plot(range(2,21), sc[:19], \"go--\")\n",
    "plt.plot(xs, ys, \"b-\")\n",
    "plt.title(\"Silhouette Coefficient Plot\")\n",
    "plt.ylabel(\"silhouette coefficient\")\n",
    "plt.xlabel(\"k\")"
   ]
  },
  {
   "cell_type": "code",
   "execution_count": 566,
   "id": "c22c7ca6",
   "metadata": {},
   "outputs": [
    {
     "data": {
      "text/plain": [
       "[<matplotlib.lines.Line2D at 0x21e7ab8c520>]"
      ]
     },
     "execution_count": 566,
     "metadata": {},
     "output_type": "execute_result"
    },
    {
     "data": {
      "image/png": "[encoded data removed]",
      "text/plain": [
       "<Figure size 432x288 with 1 Axes>"
      ]
     },
     "metadata": {
      "needs_background": "light"
     },
     "output_type": "display_data"
    }
   ],
   "source": [
    "# for silhouette coefficient\n",
    "plt.plot(range(2,51), sc, \"bo-\")"
   ]
  },
  {
   "cell_type": "code",
   "execution_count": 567,
   "id": "66157d7c",
   "metadata": {
    "scrolled": false
   },
   "outputs": [
    {
     "data": {
      "text/plain": [
       "[<matplotlib.lines.Line2D at 0x21e7abebb80>]"
      ]
     },
     "execution_count": 567,
     "metadata": {},
     "output_type": "execute_result"
    },
    {
     "data": {
      "image/png": "[encoded data removed]",
      "text/plain": [
       "<Figure size 432x288 with 1 Axes>"
      ]
     },
     "metadata": {
      "needs_background": "light"
     },
     "output_type": "display_data"
    }
   ],
   "source": [
    "\n",
    "\n",
    "spl = make_interp_spline(range(2,51), sc, k=3)  # type: BSpline\n",
    "\n",
    "xs = np.linspace(2, 50, 7)\n",
    "ys = spl(xs)\n",
    "\n",
    "plt.plot(range(2,51), sc, \"go--\")\n",
    "plt.plot(xs, ys, \"b-\")"
   ]
  },
  {
   "cell_type": "code",
   "execution_count": 568,
   "id": "2c584c74",
   "metadata": {
    "scrolled": true
   },
   "outputs": [
    {
     "data": {
      "text/plain": [
       "49"
      ]
     },
     "execution_count": 568,
     "metadata": {},
     "output_type": "execute_result"
    }
   ],
   "source": [
    "len(sc)"
   ]
  },
  {
   "cell_type": "code",
   "execution_count": 569,
   "id": "ffc13086",
   "metadata": {},
   "outputs": [
    {
     "name": "stdout",
     "output_type": "stream",
     "text": [
      "[48]\n"
     ]
    }
   ],
   "source": [
    "print([k for k in range(len(sc)) if sc[k]==max(sc)])"
   ]
  },
  {
   "cell_type": "markdown",
   "id": "5104e9ee",
   "metadata": {},
   "source": [
    "Clusters"
   ]
  },
  {
   "cell_type": "code",
   "execution_count": 519,
   "id": "3d3b14ab",
   "metadata": {},
   "outputs": [
    {
     "data": {
      "text/plain": [
       "KMeans(max_iter=500, n_clusters=12, n_init=50, random_state=360)"
      ]
     },
     "execution_count": 519,
     "metadata": {},
     "output_type": "execute_result"
    }
   ],
   "source": [
    "kmeans = KMeans(n_clusters = 12, init=\"k-means++\", n_init = 50, max_iter = 500, random_state = 360)\n",
    "kmeans.fit(new_features)"
   ]
  },
  {
   "cell_type": "code",
   "execution_count": 520,
   "id": "2080308c",
   "metadata": {},
   "outputs": [],
   "source": [
    "clustered = defaultdict(list)\n",
    "for idx,ns in enumerate(newssources):\n",
    "    c = kmeans.labels_[idx]\n",
    "    clustered[c].append(ns)"
   ]
  },
  {
   "cell_type": "code",
   "execution_count": 521,
   "id": "7c6a2e98",
   "metadata": {},
   "outputs": [
    {
     "name": "stdout",
     "output_type": "stream",
     "text": [
      "[1643, 177, 380, 119, 36, 43, 37, 101, 100, 56, 31, 62]\n"
     ]
    }
   ],
   "source": [
    "print([len(clustered[i]) for i in range(12)])"
   ]
  },
  {
   "cell_type": "code",
   "execution_count": 522,
   "id": "e91aa53a",
   "metadata": {
    "scrolled": true
   },
   "outputs": [
    {
     "data": {
      "text/plain": [
       "['wsbt.com',\n",
       " 'latimes.com',\n",
       " 'thedailybeast.com',\n",
       " 'japantimes.co.jp',\n",
       " 'fox10tv.com',\n",
       " 'globegazette.com',\n",
       " 'wtae.com',\n",
       " 'thesouthern.com',\n",
       " 'scmp.com',\n",
       " 'wjla.com',\n",
       " 'siouxcityjournal.com',\n",
       " 'winonadailynews.com',\n",
       " 'civilbeat.org',\n",
       " 'wqad.com',\n",
       " 'fox61.com',\n",
       " 'wccbcharlotte.com',\n",
       " 'wapt.com',\n",
       " 'wlos.com',\n",
       " 'post-gazette.com',\n",
       " 'boston.com',\n",
       " 'foxnews.com',\n",
       " 'telegraph.co.uk',\n",
       " 'sciencedaily.com',\n",
       " 'wsvn.com',\n",
       " 'albanyherald.com',\n",
       " 'foxsanantonio.com',\n",
       " 'abc57.com',\n",
       " 'bangkokpost.com',\n",
       " 'wvtm13.com',\n",
       " 'kmov.com',\n",
       " 'wowt.com',\n",
       " 'wchstv.com',\n",
       " 'ketv.com',\n",
       " 'dothaneagle.com',\n",
       " '5newsonline.com',\n",
       " 'wesh.com',\n",
       " 'npr.org',\n",
       " 'wsmv.com',\n",
       " 'cnn.com',\n",
       " 'wtkr.com',\n",
       " 'ktbs.com',\n",
       " 'pbs.org',\n",
       " 'fox11online.com',\n",
       " 'fox43.com',\n",
       " 'thetandd.com',\n",
       " 'wnep.com',\n",
       " 'cbs58.com',\n",
       " 'chicagotribune.com',\n",
       " 'abc13.com',\n",
       " 'wfsb.com',\n",
       " 'nytimes.com',\n",
       " 'cbs46.com',\n",
       " 'smh.com.au',\n",
       " 'blackhillsfox.com',\n",
       " 'phillytrib.com',\n",
       " 'espn.com',\n",
       " 'kshb.com',\n",
       " 'wlky.com',\n",
       " 'wjcl.com',\n",
       " 'nzherald.co.nz',\n",
       " 'wpbf.com',\n",
       " 'thehill.com',\n",
       " 'hindustantimes.com',\n",
       " 'bbc.co.uk',\n",
       " 'iol.co.za',\n",
       " 'kjrh.com',\n",
       " 'aljazeera.com',\n",
       " 'wpde.com',\n",
       " 'fivethirtyeight.com',\n",
       " 'beatricedailysun.com',\n",
       " 'poststar.com',\n",
       " 'lex18.com',\n",
       " 'csmonitor.com',\n",
       " 'mb.com.ph',\n",
       " 'cbsnews.com',\n",
       " 'sltrib.com',\n",
       " 'westernmassnews.com',\n",
       " 'washingtonexaminer.com',\n",
       " 'wmtw.com',\n",
       " 'nbcnews.com',\n",
       " 'herald-review.com',\n",
       " 'cnbc.com',\n",
       " 'irishtimes.com',\n",
       " 'abc7ny.com',\n",
       " 'kmbc.com',\n",
       " 'ksdk.com',\n",
       " 'wcpo.com',\n",
       " 'turnto10.com',\n",
       " 'wlwt.com',\n",
       " 'abcactionnews.com',\n",
       " 'wbaltv.com',\n",
       " 'abc7chicago.com',\n",
       " 'thehindu.com',\n",
       " 'kcci.com',\n",
       " 'wnem.com',\n",
       " 'gwinnettdailypost.com',\n",
       " 'wisn.com',\n",
       " 'koco.com',\n",
       " 'wmar2news.com',\n",
       " 'krgv.com']"
      ]
     },
     "execution_count": 522,
     "metadata": {},
     "output_type": "execute_result"
    }
   ],
   "source": [
    "clustered[8]"
   ]
  },
  {
   "cell_type": "code",
   "execution_count": 524,
   "id": "830599fb",
   "metadata": {},
   "outputs": [
    {
     "name": "stdout",
     "output_type": "stream",
     "text": [
      "[8]\n"
     ]
    }
   ],
   "source": [
    "print([k for k in range(25) if \"foxnews.com\" in clustered[k]])"
   ]
  },
  {
   "cell_type": "code",
   "execution_count": 518,
   "id": "59bec13c",
   "metadata": {},
   "outputs": [],
   "source": [
    "?KMeans"
   ]
  },
  {
   "cell_type": "code",
   "execution_count": null,
   "id": "1de41970",
   "metadata": {},
   "outputs": [],
   "source": []
  }
 ],
 "metadata": {
  "kernelspec": {
   "display_name": "Python 3 (ipykernel)",
   "language": "python",
   "name": "python3"
  },
  "language_info": {
   "codemirror_mode": {
    "name": "ipython",
    "version": 3
   },
   "file_extension": ".py",
   "mimetype": "text/x-python",
   "name": "python",
   "nbconvert_exporter": "python",
   "pygments_lexer": "ipython3",
   "version": "3.9.0"
  }
 },
 "nbformat": 4,
 "nbformat_minor": 5
}
