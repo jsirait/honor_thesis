{
 "cells": [
  {
   "cell_type": "markdown",
   "id": "3981774a",
   "metadata": {},
   "source": [
    "# Clustering with Features Selection"
   ]
  },
  {
   "cell_type": "code",
   "execution_count": 3,
   "id": "338e60f9",
   "metadata": {},
   "outputs": [
    {
     "name": "stdout",
     "output_type": "stream",
     "text": [
      "Collecting skfeature-chappers\n",
      "  Downloading skfeature_chappers-1.1.0-py3-none-any.whl (66 kB)\n",
      "Requirement already satisfied: numpy in c:\\users\\circulating\\appdata\\local\\programs\\python\\python39\\lib\\site-packages (from skfeature-chappers) (1.21.4)\n",
      "Requirement already satisfied: pandas in c:\\users\\circulating\\appdata\\local\\programs\\python\\python39\\lib\\site-packages (from skfeature-chappers) (1.3.4)\n",
      "Requirement already satisfied: scikit-learn in c:\\users\\circulating\\appdata\\local\\programs\\python\\python39\\lib\\site-packages (from skfeature-chappers) (1.0.1)\n",
      "Requirement already satisfied: python-dateutil>=2.7.3 in c:\\users\\circulating\\appdata\\local\\programs\\python\\python39\\lib\\site-packages (from pandas->skfeature-chappers) (2.8.2)\n",
      "Requirement already satisfied: pytz>=2017.3 in c:\\users\\circulating\\appdata\\local\\programs\\python\\python39\\lib\\site-packages (from pandas->skfeature-chappers) (2021.3)\n",
      "Requirement already satisfied: scipy>=1.1.0 in c:\\users\\circulating\\appdata\\local\\programs\\python\\python39\\lib\\site-packages (from scikit-learn->skfeature-chappers) (1.7.2)\n",
      "Requirement already satisfied: joblib>=0.11 in c:\\users\\circulating\\appdata\\local\\programs\\python\\python39\\lib\\site-packages (from scikit-learn->skfeature-chappers) (1.1.0)\n",
      "Requirement already satisfied: threadpoolctl>=2.0.0 in c:\\users\\circulating\\appdata\\local\\programs\\python\\python39\\lib\\site-packages (from scikit-learn->skfeature-chappers) (3.0.0)\n",
      "Requirement already satisfied: six>=1.5 in c:\\users\\circulating\\appdata\\local\\programs\\python\\python39\\lib\\site-packages (from python-dateutil>=2.7.3->pandas->skfeature-chappers) (1.16.0)\n",
      "Installing collected packages: skfeature-chappers\n",
      "Successfully installed skfeature-chappers-1.1.0\n"
     ]
    }
   ],
   "source": [
    "!pip install skfeature-chappers"
   ]
  },
  {
   "cell_type": "code",
   "execution_count": 7,
   "id": "ce62d6b2",
   "metadata": {},
   "outputs": [],
   "source": [
    "import json\n",
    "import pandas as pd\n",
    "import numpy as np\n",
    "from collections import Counter, defaultdict\n",
    "import matplotlib.pyplot as plt\n",
    "from sklearn.cluster import KMeans\n",
    "from sklearn.metrics import silhouette_score\n",
    "from sklearn.preprocessing import StandardScaler\n",
    "\n",
    "from sklearn import preprocessing\n",
    "\n",
    "from sklearn.metrics import silhouette_score\n",
    "from kneed import KneeLocator\n",
    "\n",
    "from scipy.interpolate import make_interp_spline, BSpline\n",
    "\n",
    "from sklearn.decomposition import PCA\n",
    "\n",
    "import math\n",
    "\n",
    "from sklearn.feature_selection import SelectKBest\n",
    "\n",
    "from skfeature.utility import construct_W  # for affinity matrix for Laplacian representation"
   ]
  },
  {
   "cell_type": "markdown",
   "id": "f9d9240d",
   "metadata": {},
   "source": [
    "## Reading data"
   ]
  },
  {
   "cell_type": "code",
   "execution_count": 8,
   "id": "538d3cb4",
   "metadata": {},
   "outputs": [],
   "source": [
    "with open (\"gmw_intersection.json\", \"r\", encoding = \"utf-8\") as infile:\n",
    "    gmw_intersection = json.load(infile)"
   ]
  },
  {
   "cell_type": "code",
   "execution_count": 9,
   "id": "e9093ba7",
   "metadata": {},
   "outputs": [],
   "source": [
    "with open(\"ns_subreddit_2021-01.json\", \"r\", encoding = \"utf-8\") as infile1:\n",
    "    ns_subreddit_jan = json.load(infile1)\n",
    "\n",
    "with open(\"ns_subreddit_2021-02.json\", \"r\", encoding = \"utf-8\") as infile2:\n",
    "    ns_subreddit_feb = json.load(infile2)\n",
    "    \n",
    "with open(\"ns_subreddit_2021-03.json\", \"r\", encoding = \"utf-8\") as infile3:\n",
    "    ns_subreddit_march = json.load(infile3)\n",
    "\n",
    "with open(\"ns_subreddit_2021-04.json\", \"r\", encoding = \"utf-8\") as infile4:\n",
    "    ns_subreddit_april = json.load(infile4)\n",
    "    \n",
    "with open(\"ns_subreddit_2021-05.json\", \"r\", encoding = \"utf-8\") as infile5:\n",
    "    ns_subreddit_may = json.load(infile5)\n",
    "    \n",
    "with open(\"ns_subreddit_2021-02.json\", \"r\", encoding = \"utf-8\") as infile6:\n",
    "    ns_subreddit_jun = json.load(infile6)"
   ]
  },
  {
   "cell_type": "code",
   "execution_count": 10,
   "id": "fe33ebd8",
   "metadata": {},
   "outputs": [],
   "source": [
    "# Reading in all the subreddits in our files\n",
    "\n",
    "with open(\"subreddit_ns_2021-01.json\", \"r\", encoding = \"utf-8\") as infile1a:\n",
    "    subreddit_ns_jan = json.load(infile1a)\n",
    "\n",
    "with open(\"subreddit_ns_2021-02.json\", \"r\", encoding = \"utf-8\") as infile2a:\n",
    "    subreddit_ns_feb = json.load(infile2a)\n",
    "    \n",
    "with open(\"subreddit_ns_2021-03.json\", \"r\", encoding = \"utf-8\") as infile3a:\n",
    "    subreddit_ns_march = json.load(infile3a)\n",
    "    \n",
    "with open(\"subreddit_ns_2021-04.json\", \"r\", encoding = \"utf-8\") as infile4a:\n",
    "    subreddit_ns_april = json.load(infile4a)\n",
    "    \n",
    "with open(\"subreddit_ns_2021-05.json\", \"r\", encoding = \"utf-8\") as infile5a:\n",
    "    subreddit_ns_may = json.load(infile5a)\n",
    "    \n",
    "with open(\"subreddit_ns_2021-02.json\", \"r\", encoding = \"utf-8\") as infile6a:\n",
    "    subreddit_ns_jun = json.load(infile6a)"
   ]
  },
  {
   "cell_type": "markdown",
   "id": "2844f01d",
   "metadata": {},
   "source": [
    "Now, let's set up a fixed ordering for the subreddits as features"
   ]
  },
  {
   "cell_type": "code",
   "execution_count": 11,
   "id": "21b0a41a",
   "metadata": {},
   "outputs": [],
   "source": [
    "subreddit_intersection = list(set(subreddit_ns_jan) & set(subreddit_ns_feb) &\n",
    "      set(subreddit_ns_march) & set(subreddit_ns_april) &\n",
    "      set(subreddit_ns_may) & set(subreddit_ns_jun))"
   ]
  },
  {
   "cell_type": "code",
   "execution_count": 14,
   "id": "87abbd9e",
   "metadata": {},
   "outputs": [
    {
     "data": {
      "text/plain": [
       "6220"
      ]
     },
     "execution_count": 14,
     "metadata": {},
     "output_type": "execute_result"
    }
   ],
   "source": [
    "len(subreddit_intersection)"
   ]
  },
  {
   "cell_type": "markdown",
   "id": "66343d39",
   "metadata": {},
   "source": [
    "Let's create the vector representations for each news source."
   ]
  },
  {
   "cell_type": "code",
   "execution_count": 15,
   "id": "e1a0aae0",
   "metadata": {},
   "outputs": [],
   "source": [
    "ns_sr_rep = dict()\n",
    "for ns in ns_subreddit_april:\n",
    "    # the representation of a news source = # mentions in each subreddit\n",
    "    ns_subreddit_april[ns] = Counter(ns_subreddit_april[ns])\n",
    "    # making sure the ordering follows `subreddit_intersection`\n",
    "    ns_sr_rep[ns] = [ns_subreddit_april[ns][subreddit_intersection[idx]] for idx in range(len(subreddit_intersection))]\n",
    "\n",
    "# added Dec 12\n",
    "\n",
    "# january\n",
    "for ns_jan in ns_subreddit_jan:\n",
    "    ns_subreddit_jan[ns_jan] = Counter(ns_subreddit_jan[ns_jan])\n",
    "    if ns_jan in ns_sr_rep:\n",
    "        # update\n",
    "        ns_sr_rep[ns_jan] = [ns_sr_rep[ns_jan][idx] + ns_subreddit_jan[ns_jan][subreddit_intersection[idx]] \n",
    "                             for idx in range(len(subreddit_intersection))]   \n",
    "    else:\n",
    "        ns_sr_rep[ns_jan] = [ns_subreddit_jan[ns_jan][subreddit_intersection[idx]] \n",
    "                             for idx in range(len(subreddit_intersection))]\n",
    "\n",
    "# february\n",
    "for ns_feb in ns_subreddit_feb:\n",
    "    ns_subreddit_feb[ns_feb] = Counter(ns_subreddit_feb[ns_feb])\n",
    "    if ns_feb in ns_sr_rep:\n",
    "        ns_sr_rep[ns_feb] = [ns_sr_rep[ns_feb][idx] + ns_subreddit_feb[ns_feb][subreddit_intersection[idx]] \n",
    "                             for idx in range(len(subreddit_intersection))]   \n",
    "    else:\n",
    "        ns_sr_rep[ns_feb] = [ns_subreddit_feb[ns_feb][subreddit_intersection[idx]] \n",
    "                             for idx in range(len(subreddit_intersection))]\n",
    "\n",
    "# march\n",
    "for ns_march in ns_subreddit_march:\n",
    "    ns_subreddit_march[ns_march] = Counter(ns_subreddit_march[ns_march])\n",
    "    if ns_march in ns_sr_rep:\n",
    "        ns_sr_rep[ns_march] = [ns_sr_rep[ns_march][idx] + ns_subreddit_march[ns_march][subreddit_intersection[idx]] \n",
    "                               for idx in range(len(subreddit_intersection))]   \n",
    "    else:\n",
    "        ns_sr_rep[ns_march] = [ns_subreddit_march[ns_march][subreddit_intersection[idx]] \n",
    "                             for idx in range(len(subreddit_intersection))]\n",
    "     \n",
    "\n",
    "    \n",
    "# may\n",
    "for ns_may in ns_subreddit_may:\n",
    "    ns_subreddit_may[ns_may] = Counter(ns_subreddit_may[ns_may])\n",
    "    if ns_may in ns_sr_rep:\n",
    "        ns_sr_rep[ns_may] = [ns_sr_rep[ns_may][idx] + ns_subreddit_may[ns_may][subreddit_intersection[idx]] \n",
    "                             for idx in range(len(subreddit_intersection))]   \n",
    "    else:\n",
    "        ns_sr_rep[ns_may] = [ns_subreddit_may[ns_may][subreddit_intersection[idx]] \n",
    "                             for idx in range(len(subreddit_intersection))]\n",
    "        \n",
    "# june\n",
    "for ns_jun in ns_subreddit_jun:\n",
    "    ns_subreddit_jun[ns_jun] = Counter(ns_subreddit_jun[ns_jun])\n",
    "    if ns_jun in ns_sr_rep:\n",
    "        ns_sr_rep[ns_jun] = [ns_sr_rep[ns_jun][idx] + ns_subreddit_jun[ns_jun][subreddit_intersection[idx]] \n",
    "                             for idx in range(len(subreddit_intersection))]   \n",
    "    else:\n",
    "        ns_sr_rep[ns_jun] = [ns_subreddit_jun[ns_jun][subreddit_intersection[idx]] \n",
    "                             for idx in range(len(subreddit_intersection))]"
   ]
  },
  {
   "cell_type": "markdown",
   "id": "0c888f3f",
   "metadata": {},
   "source": [
    "Now we normalize the news sources' representations using `numpy`'s normalize."
   ]
  },
  {
   "cell_type": "code",
   "execution_count": 17,
   "id": "a0ab2c45",
   "metadata": {},
   "outputs": [],
   "source": [
    "ns_sr_rep_normalized = dict()\n",
    "for ns in ns_sr_rep:\n",
    "    rep = ns_sr_rep[ns]\n",
    "    ns_sr_rep_normalized[ns] = preprocessing.normalize(np.array([rep]))"
   ]
  },
  {
   "cell_type": "markdown",
   "id": "011c7249",
   "metadata": {},
   "source": [
    "### Features Selection\n",
    "\n",
    "First I cast the data structure I needed to te appropriate based on the functions I will call."
   ]
  },
  {
   "cell_type": "code",
   "execution_count": 21,
   "id": "b61bd6d6",
   "metadata": {},
   "outputs": [],
   "source": [
    "frozen_nsfeatures = list(ns_sr_rep_normalized.items())"
   ]
  },
  {
   "cell_type": "code",
   "execution_count": 28,
   "id": "20a74d48",
   "metadata": {},
   "outputs": [],
   "source": [
    "features = [k[1][0] for k in frozen_nsfeatures]"
   ]
  },
  {
   "cell_type": "markdown",
   "id": "8bf50d6d",
   "metadata": {},
   "source": [
    "Then we select 500 features. Note that we need unsupervised feature selection method. Continue here: https://towardsdatascience.com/overview-of-feature-selection-methods-a2d115c7a8f7."
   ]
  },
  {
   "cell_type": "code",
   "execution_count": 29,
   "id": "de18b3bb",
   "metadata": {},
   "outputs": [
    {
     "data": {
      "text/plain": [
       "[array([0., 0., 0., ..., 0., 0., 0.]),\n",
       " array([0., 0., 0., ..., 0., 0., 0.]),\n",
       " array([0., 0., 0., ..., 0., 0., 0.]),\n",
       " array([0.00073774, 0.        , 0.        , ..., 0.        , 0.        ,\n",
       "        0.        ]),\n",
       " array([0., 0., 0., ..., 0., 0., 0.]),\n",
       " array([0., 0., 0., ..., 0., 0., 0.]),\n",
       " array([3.57499191e-05, 0.00000000e+00, 3.93249110e-04, ...,\n",
       "        0.00000000e+00, 0.00000000e+00, 0.00000000e+00]),\n",
       " array([0.        , 0.        , 0.        , ..., 0.        , 0.        ,\n",
       "        0.00665171]),\n",
       " array([0., 0., 0., ..., 0., 0., 0.]),\n",
       " array([0., 0., 0., ..., 0., 0., 0.])]"
      ]
     },
     "execution_count": 29,
     "metadata": {},
     "output_type": "execute_result"
    }
   ],
   "source": [
    "features[:10]"
   ]
  },
  {
   "cell_type": "code",
   "execution_count": 30,
   "id": "4a936e65",
   "metadata": {},
   "outputs": [],
   "source": [
    "# creating Laplacian matrix representation\n",
    "# from skfeature.utility import construct_W\n",
    "kwargs_W = {\"metric\":\"euclidean\",\"neighbor_mode\":\"knn\",\"weight_mode\":\"heat_kernel\",\"k\":5,'t':1}\n",
    "W = construct_W.construct_W(np.array(features), **kwargs_W)"
   ]
  },
  {
   "cell_type": "code",
   "execution_count": 33,
   "id": "1068d248",
   "metadata": {},
   "outputs": [],
   "source": [
    "# ranking scores\n",
    "from skfeature.function.similarity_based import lap_score\n",
    "\n",
    "score = lap_score.lap_score(np.array(features), W=W, mode=\"rank\")"
   ]
  },
  {
   "cell_type": "code",
   "execution_count": 34,
   "id": "23a87386",
   "metadata": {},
   "outputs": [
    {
     "name": "stdout",
     "output_type": "stream",
     "text": [
      "[6207 2801 2002 ... 1630 1419 1993]\n"
     ]
    }
   ],
   "source": [
    "print(score)"
   ]
  },
  {
   "cell_type": "code",
   "execution_count": 36,
   "id": "434c74a2",
   "metadata": {},
   "outputs": [
    {
     "data": {
      "text/plain": [
       "True"
      ]
     },
     "execution_count": 36,
     "metadata": {},
     "output_type": "execute_result"
    }
   ],
   "source": [
    "len(set(score)) == len(score)"
   ]
  }
 ],
 "metadata": {
  "kernelspec": {
   "display_name": "Python 3 (ipykernel)",
   "language": "python",
   "name": "python3"
  },
  "language_info": {
   "codemirror_mode": {
    "name": "ipython",
    "version": 3
   },
   "file_extension": ".py",
   "mimetype": "text/x-python",
   "name": "python",
   "nbconvert_exporter": "python",
   "pygments_lexer": "ipython3",
   "version": "3.9.0"
  }
 },
 "nbformat": 4,
 "nbformat_minor": 5
}
