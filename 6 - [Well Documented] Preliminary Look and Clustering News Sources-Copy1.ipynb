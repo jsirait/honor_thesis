{
 "cells": [
  {
   "cell_type": "markdown",
   "metadata": {},
   "source": [
    "# Preliminary Look and Clustering News Sources\n",
    "\n",
    "Junita Sirait\n",
    "\n",
    "I would like to cluster news sources based on in which subreddits they appear. First I will use k-means algorithm, then I will try out other algorithms such as DBSCAN and others. "
   ]
  },
  {
   "cell_type": "code",
   "execution_count": 1,
   "metadata": {
    "collapsed": true
   },
   "outputs": [
    {
     "name": "stdout",
     "output_type": "stream",
     "text": [
      "Collecting kneed\n",
      "  Using cached kneed-0.7.0-py2.py3-none-any.whl (9.4 kB)\n",
      "Collecting matplotlib\n",
      "  Downloading matplotlib-3.4.3-cp39-cp39-win_amd64.whl (7.1 MB)\n",
      "Collecting scipy\n",
      "  Downloading scipy-1.7.2-cp39-cp39-win_amd64.whl (34.3 MB)\n",
      "Collecting numpy>=1.14.2\n",
      "  Downloading numpy-1.21.4-cp39-cp39-win_amd64.whl (14.0 MB)\n",
      "Requirement already satisfied: python-dateutil>=2.7 in c:\\users\\circulating\\appdata\\local\\programs\\python\\python39\\lib\\site-packages (from matplotlib->kneed) (2.8.2)\n",
      "Collecting cycler>=0.10\n",
      "  Using cached cycler-0.11.0-py3-none-any.whl (6.4 kB)\n",
      "Collecting kiwisolver>=1.0.1\n",
      "  Downloading kiwisolver-1.3.2-cp39-cp39-win_amd64.whl (52 kB)\n",
      "Requirement already satisfied: pyparsing>=2.2.1 in c:\\users\\circulating\\appdata\\local\\programs\\python\\python39\\lib\\site-packages (from matplotlib->kneed) (2.4.7)\n",
      "Collecting pillow>=6.2.0\n",
      "  Downloading Pillow-8.4.0-cp39-cp39-win_amd64.whl (3.2 MB)\n",
      "Requirement already satisfied: six>=1.5 in c:\\users\\circulating\\appdata\\local\\programs\\python\\python39\\lib\\site-packages (from python-dateutil>=2.7->matplotlib->kneed) (1.16.0)\n",
      "Installing collected packages: pillow, numpy, kiwisolver, cycler, scipy, matplotlib, kneed\n",
      "Successfully installed cycler-0.11.0 kiwisolver-1.3.2 kneed-0.7.0 matplotlib-3.4.3 numpy-1.21.4 pillow-8.4.0 scipy-1.7.2\n"
     ]
    }
   ],
   "source": [
    "!pip install kneed"
   ]
  },
  {
   "cell_type": "code",
   "execution_count": 6,
   "metadata": {},
   "outputs": [
    {
     "name": "stdout",
     "output_type": "stream",
     "text": [
      "Collecting sklearn\n",
      "  Downloading sklearn-0.0.tar.gz (1.1 kB)\n",
      "  Preparing metadata (setup.py): started\n",
      "  Preparing metadata (setup.py): finished with status 'done'\n",
      "Collecting scikit-learn\n",
      "  Downloading scikit_learn-1.0.1-cp39-cp39-win_amd64.whl (7.2 MB)\n",
      "Requirement already satisfied: scipy>=1.1.0 in c:\\users\\circulating\\appdata\\local\\programs\\python\\python39\\lib\\site-packages (from scikit-learn->sklearn) (1.7.2)\n",
      "Requirement already satisfied: numpy>=1.14.6 in c:\\users\\circulating\\appdata\\local\\programs\\python\\python39\\lib\\site-packages (from scikit-learn->sklearn) (1.21.4)\n",
      "Collecting threadpoolctl>=2.0.0\n",
      "  Downloading threadpoolctl-3.0.0-py3-none-any.whl (14 kB)\n",
      "Collecting joblib>=0.11\n",
      "  Downloading joblib-1.1.0-py2.py3-none-any.whl (306 kB)\n",
      "Using legacy 'setup.py install' for sklearn, since package 'wheel' is not installed.\n",
      "Installing collected packages: threadpoolctl, joblib, scikit-learn, sklearn\n",
      "    Running setup.py install for sklearn: started\n",
      "    Running setup.py install for sklearn: finished with status 'done'\n",
      "Successfully installed joblib-1.1.0 scikit-learn-1.0.1 sklearn-0.0 threadpoolctl-3.0.0\n"
     ]
    }
   ],
   "source": [
    "!pip3 install sklearn"
   ]
  },
  {
   "cell_type": "code",
   "execution_count": 82,
   "metadata": {},
   "outputs": [],
   "source": [
    "import json\n",
    "import pandas as pd\n",
    "import numpy as np\n",
    "from collections import Counter, defaultdict\n",
    "import matplotlib.pyplot as plt\n",
    "from sklearn.cluster import KMeans\n",
    "from sklearn.metrics import silhouette_score\n",
    "from sklearn.preprocessing import StandardScaler\n",
    "\n",
    "from sklearn import preprocessing\n",
    "\n",
    "from sklearn.metrics import silhouette_score\n",
    "from kneed import KneeLocator\n",
    "\n",
    "from scipy.interpolate import make_interp_spline, BSpline\n",
    "\n",
    "from sklearn.decomposition import PCA\n",
    "\n",
    "import math"
   ]
  },
  {
   "cell_type": "code",
   "execution_count": 8,
   "metadata": {},
   "outputs": [],
   "source": [
    "with open(\"ns_subreddit.json\", \"r\", encoding = \"utf-8\") as infile:\n",
    "    ns_subreddit = json.load(infile)"
   ]
  },
  {
   "cell_type": "markdown",
   "metadata": {},
   "source": [
    "How many news sources are there?"
   ]
  },
  {
   "cell_type": "code",
   "execution_count": 9,
   "metadata": {},
   "outputs": [
    {
     "data": {
      "text/plain": [
       "3686"
      ]
     },
     "execution_count": 9,
     "metadata": {},
     "output_type": "execute_result"
    }
   ],
   "source": [
    "num_ns = len(ns_subreddit)\n",
    "num_ns"
   ]
  },
  {
   "cell_type": "markdown",
   "metadata": {},
   "source": [
    "Let's see the data structure for `nytimes.com`"
   ]
  },
  {
   "cell_type": "code",
   "execution_count": 10,
   "metadata": {
    "scrolled": true
   },
   "outputs": [
    {
     "data": {
      "text/plain": [
       "[('nytimes', 5322),\n",
       " ('NYTauto', 3798),\n",
       " ('AutoNewspaper', 3788),\n",
       " ('TrendingQuickTVnews', 1454),\n",
       " ('politics', 775),\n",
       " ('news', 435),\n",
       " ('u_NumerousRow', 322),\n",
       " ('worldnews', 261),\n",
       " ('Coronavirus', 243),\n",
       " ('NoFilterNews', 211),\n",
       " ('FreshNewsToday', 198),\n",
       " ('u_somuchinfook', 197),\n",
       " ('u_Music908', 188),\n",
       " ('ScienceFeed', 170),\n",
       " ('autotldr', 167),\n",
       " ('AnythingGoesNews', 155),\n",
       " ('bitstreetpost', 132),\n",
       " ('neoliberal', 122),\n",
       " ('badgovnofreedom', 109),\n",
       " ('NoNewNormal', 77)]"
      ]
     },
     "execution_count": 10,
     "metadata": {},
     "output_type": "execute_result"
    }
   ],
   "source": [
    "Counter(ns_subreddit['nytimes.com']).most_common(20)"
   ]
  },
  {
   "cell_type": "markdown",
   "metadata": {},
   "source": [
    "For each news source, let's count in how many subreddits they appear"
   ]
  },
  {
   "cell_type": "code",
   "execution_count": 11,
   "metadata": {},
   "outputs": [],
   "source": [
    "subreddit_count = dict()\n",
    "for ns in ns_subreddit:\n",
    "    subreddit_count[ns] = len(ns_subreddit[ns].keys())"
   ]
  },
  {
   "cell_type": "markdown",
   "metadata": {},
   "source": [
    "`subreddit_count` stores in how many subreddits each news source appears."
   ]
  },
  {
   "cell_type": "code",
   "execution_count": 12,
   "metadata": {},
   "outputs": [
    {
     "data": {
      "text/plain": [
       "2174"
      ]
     },
     "execution_count": 12,
     "metadata": {},
     "output_type": "execute_result"
    }
   ],
   "source": [
    "subreddit_count['nytimes.com']"
   ]
  },
  {
   "cell_type": "code",
   "execution_count": 14,
   "metadata": {
    "collapsed": true
   },
   "outputs": [
    {
     "data": {
      "text/plain": [
       "{1: 675,\n",
       " 2: 440,\n",
       " 3: 315,\n",
       " 4: 233,\n",
       " 5: 162,\n",
       " 6: 135,\n",
       " 7: 132,\n",
       " 8: 119,\n",
       " 9: 95,\n",
       " 10: 89,\n",
       " 13: 69,\n",
       " 12: 66,\n",
       " 11: 62,\n",
       " 17: 45,\n",
       " 16: 44,\n",
       " 14: 41,\n",
       " 18: 37,\n",
       " 15: 37,\n",
       " 23: 37,\n",
       " 20: 33,\n",
       " 22: 32,\n",
       " 19: 29,\n",
       " 21: 25,\n",
       " 27: 25,\n",
       " 26: 25,\n",
       " 25: 24,\n",
       " 24: 19,\n",
       " 44: 18,\n",
       " 34: 18,\n",
       " 28: 17,\n",
       " 45: 17,\n",
       " 33: 17,\n",
       " 30: 16,\n",
       " 29: 15,\n",
       " 41: 15,\n",
       " 40: 14,\n",
       " 32: 14,\n",
       " 31: 13,\n",
       " 36: 13,\n",
       " 39: 13,\n",
       " 51: 11,\n",
       " 61: 10,\n",
       " 46: 10,\n",
       " 50: 10,\n",
       " 37: 9,\n",
       " 38: 9,\n",
       " 53: 8,\n",
       " 42: 8,\n",
       " 62: 7,\n",
       " 43: 7,\n",
       " 72: 7,\n",
       " 60: 6,\n",
       " 81: 6,\n",
       " 56: 6,\n",
       " 113: 6,\n",
       " 35: 6,\n",
       " 64: 6,\n",
       " 55: 6,\n",
       " 58: 5,\n",
       " 47: 5,\n",
       " 48: 5,\n",
       " 117: 5,\n",
       " 52: 5,\n",
       " 73: 5,\n",
       " 104: 5,\n",
       " 105: 5,\n",
       " 57: 5,\n",
       " 63: 5,\n",
       " 66: 5,\n",
       " 67: 4,\n",
       " 82: 4,\n",
       " 83: 4,\n",
       " 94: 4,\n",
       " 85: 4,\n",
       " 49: 4,\n",
       " 78: 4,\n",
       " 71: 4,\n",
       " 86: 3,\n",
       " 76: 3,\n",
       " 54: 3,\n",
       " 223: 3,\n",
       " 202: 3,\n",
       " 59: 3,\n",
       " 89: 3,\n",
       " 154: 3,\n",
       " 125: 3,\n",
       " 100: 3,\n",
       " 84: 3,\n",
       " 88: 3,\n",
       " 92: 3,\n",
       " 70: 3,\n",
       " 65: 3,\n",
       " 99: 2,\n",
       " 102: 2,\n",
       " 159: 2,\n",
       " 146: 2,\n",
       " 75: 2,\n",
       " 74: 2,\n",
       " 331: 2,\n",
       " 114: 2,\n",
       " 193: 2,\n",
       " 150: 2,\n",
       " 69: 2,\n",
       " 90: 2,\n",
       " 222: 2,\n",
       " 98: 2,\n",
       " 106: 2,\n",
       " 149: 2,\n",
       " 168: 2,\n",
       " 80: 2,\n",
       " 192: 2,\n",
       " 108: 2,\n",
       " 132: 2,\n",
       " 361: 2,\n",
       " 153: 2,\n",
       " 95: 2,\n",
       " 128: 2,\n",
       " 141: 2,\n",
       " 112: 2,\n",
       " 111: 2,\n",
       " 121: 2,\n",
       " 68: 2,\n",
       " 163: 2,\n",
       " 91: 2,\n",
       " 440: 1,\n",
       " 861: 1,\n",
       " 157: 1,\n",
       " 1247: 1,\n",
       " 456: 1,\n",
       " 495: 1,\n",
       " 797: 1,\n",
       " 1095: 1,\n",
       " 629: 1,\n",
       " 207: 1,\n",
       " 1538: 1,\n",
       " 2174: 1,\n",
       " 1056: 1,\n",
       " 660: 1,\n",
       " 135: 1,\n",
       " 1510: 1,\n",
       " 194: 1,\n",
       " 242: 1,\n",
       " 116: 1,\n",
       " 253: 1,\n",
       " 559: 1,\n",
       " 129: 1,\n",
       " 824: 1,\n",
       " 1193: 1,\n",
       " 666: 1,\n",
       " 878: 1,\n",
       " 527: 1,\n",
       " 96: 1,\n",
       " 1506: 1,\n",
       " 1306: 1,\n",
       " 938: 1,\n",
       " 276: 1,\n",
       " 683: 1,\n",
       " 134: 1,\n",
       " 255: 1,\n",
       " 126: 1,\n",
       " 575: 1,\n",
       " 656: 1,\n",
       " 929: 1,\n",
       " 586: 1,\n",
       " 557: 1,\n",
       " 216: 1,\n",
       " 240: 1,\n",
       " 237: 1,\n",
       " 261: 1,\n",
       " 191: 1,\n",
       " 1049: 1,\n",
       " 234: 1,\n",
       " 239: 1,\n",
       " 348: 1,\n",
       " 174: 1,\n",
       " 484: 1,\n",
       " 119: 1,\n",
       " 147: 1,\n",
       " 124: 1,\n",
       " 131: 1,\n",
       " 289: 1,\n",
       " 186: 1,\n",
       " 269: 1,\n",
       " 356: 1,\n",
       " 246: 1,\n",
       " 201: 1,\n",
       " 185: 1,\n",
       " 139: 1,\n",
       " 375: 1,\n",
       " 428: 1,\n",
       " 376: 1,\n",
       " 97: 1,\n",
       " 93: 1,\n",
       " 103: 1,\n",
       " 488: 1,\n",
       " 156: 1,\n",
       " 109: 1,\n",
       " 142: 1,\n",
       " 172: 1,\n",
       " 140: 1,\n",
       " 158: 1,\n",
       " 180: 1,\n",
       " 162: 1,\n",
       " 232: 1,\n",
       " 195: 1,\n",
       " 302: 1,\n",
       " 173: 1,\n",
       " 136: 1,\n",
       " 120: 1,\n",
       " 315: 1,\n",
       " 144: 1,\n",
       " 161: 1,\n",
       " 138: 1,\n",
       " 178: 1,\n",
       " 312: 1,\n",
       " 204: 1,\n",
       " 221: 1,\n",
       " 110: 1,\n",
       " 145: 1,\n",
       " 176: 1,\n",
       " 122: 1,\n",
       " 196: 1,\n",
       " 208: 1,\n",
       " 167: 1,\n",
       " 107: 1,\n",
       " 123: 1,\n",
       " 77: 1,\n",
       " 264: 1,\n",
       " 87: 1,\n",
       " 669: 1,\n",
       " 862: 1}"
      ]
     },
     "execution_count": 14,
     "metadata": {},
     "output_type": "execute_result"
    }
   ],
   "source": [
    "subreddit_count_freq = dict(Counter(subreddit_count.values()).most_common())\n",
    "subreddit_count_freq"
   ]
  },
  {
   "cell_type": "markdown",
   "metadata": {},
   "source": [
    "`subreddit_count_freq` keeps track of how many news sources appear in *n* subreddits for all possible *n*."
   ]
  },
  {
   "cell_type": "code",
   "execution_count": 15,
   "metadata": {},
   "outputs": [
    {
     "data": {
      "text/plain": [
       "2174"
      ]
     },
     "execution_count": 15,
     "metadata": {},
     "output_type": "execute_result"
    }
   ],
   "source": [
    "max(subreddit_count_freq.keys())"
   ]
  },
  {
   "cell_type": "markdown",
   "metadata": {},
   "source": [
    "Wow! There is a news source that appears in 2174 subreddits. This is `nytimes.com`."
   ]
  },
  {
   "cell_type": "code",
   "execution_count": 16,
   "metadata": {},
   "outputs": [
    {
     "name": "stdout",
     "output_type": "stream",
     "text": [
      "cnbc.com appears in 1247 subreddits.\n",
      "bbc.co.uk appears in 1095 subreddits.\n",
      "reuters.com appears in 1538 subreddits.\n",
      "nytimes.com appears in 2174 subreddits.\n",
      "nbcnews.com appears in 1056 subreddits.\n",
      "cnn.com appears in 1510 subreddits.\n",
      "apnews.com appears in 1193 subreddits.\n",
      "linkedin.com appears in 1506 subreddits.\n",
      "washingtonpost.com appears in 1306 subreddits.\n",
      "anchor.fm appears in 1049 subreddits.\n"
     ]
    }
   ],
   "source": [
    "for ns in ns_subreddit:\n",
    "    count = subreddit_count[ns]\n",
    "    if count > 1000:\n",
    "        print(f\"{ns} appears in {count} subreddits.\")"
   ]
  },
  {
   "cell_type": "markdown",
   "metadata": {},
   "source": [
    "Not sure why `cnbc.com` appears in so many subreddits. Canada! Linkedin appears a lot too, people sharing about themselves? But anonymous?"
   ]
  },
  {
   "cell_type": "markdown",
   "metadata": {},
   "source": [
    "## Cluster Try Out"
   ]
  },
  {
   "cell_type": "markdown",
   "metadata": {},
   "source": [
    "First, I make a list of subreddits with fixed order."
   ]
  },
  {
   "cell_type": "code",
   "execution_count": 17,
   "metadata": {},
   "outputs": [],
   "source": [
    "with open(\"subreddit_ns.json\", \"r\", encoding = \"utf-8\") as infile:\n",
    "    subreddit_ns = json.load(infile)"
   ]
  },
  {
   "cell_type": "code",
   "execution_count": 18,
   "metadata": {},
   "outputs": [
    {
     "data": {
      "text/plain": [
       "20755"
      ]
     },
     "execution_count": 18,
     "metadata": {},
     "output_type": "execute_result"
    }
   ],
   "source": [
    "subreddits = list(subreddit_ns.keys())\n",
    "len(subreddits)"
   ]
  },
  {
   "cell_type": "markdown",
   "metadata": {},
   "source": [
    "There are 20755 subreddits."
   ]
  },
  {
   "cell_type": "code",
   "execution_count": 19,
   "metadata": {},
   "outputs": [
    {
     "data": {
      "text/plain": [
       "['razorbacks',\n",
       " 'todayilearned',\n",
       " 'nofeenews',\n",
       " 'newsokur',\n",
       " 'Ecatepec',\n",
       " 'AntiHateCommunities',\n",
       " 'anime',\n",
       " 'worldnews',\n",
       " 'TickerNews',\n",
       " 'DeFiBuzz']"
      ]
     },
     "execution_count": 19,
     "metadata": {},
     "output_type": "execute_result"
    }
   ],
   "source": [
    "subreddits[:10]"
   ]
  },
  {
   "cell_type": "markdown",
   "metadata": {},
   "source": [
    "If I should order them later, I can do so."
   ]
  },
  {
   "cell_type": "markdown",
   "metadata": {},
   "source": [
    "# ** I added things here **"
   ]
  },
  {
   "cell_type": "code",
   "execution_count": 33,
   "metadata": {},
   "outputs": [],
   "source": [
    "# Let's only use the subreddits that have lots of subscribers\n",
    "with open (\"subreddit_subscribers.json\", \"r\", encoding = \"utf-8\") as infile:\n",
    "    subreddit_subscribers = json.load(infile)"
   ]
  },
  {
   "cell_type": "code",
   "execution_count": 34,
   "metadata": {},
   "outputs": [
    {
     "data": {
      "text/plain": [
       "23030716"
      ]
     },
     "execution_count": 34,
     "metadata": {},
     "output_type": "execute_result"
    }
   ],
   "source": [
    "subreddit_subscribers['todayilearned']"
   ]
  },
  {
   "cell_type": "code",
   "execution_count": 35,
   "metadata": {},
   "outputs": [
    {
     "data": {
      "text/plain": [
       "14595"
      ]
     },
     "execution_count": 35,
     "metadata": {},
     "output_type": "execute_result"
    }
   ],
   "source": [
    "len(subreddit_subscribers)"
   ]
  },
  {
   "cell_type": "code",
   "execution_count": 36,
   "metadata": {},
   "outputs": [
    {
     "data": {
      "text/plain": [
       "20755"
      ]
     },
     "execution_count": 36,
     "metadata": {},
     "output_type": "execute_result"
    }
   ],
   "source": [
    "len(subreddits)"
   ]
  },
  {
   "cell_type": "code",
   "execution_count": 37,
   "metadata": {
    "scrolled": true
   },
   "outputs": [
    {
     "data": {
      "text/plain": [
       "14595"
      ]
     },
     "execution_count": 37,
     "metadata": {},
     "output_type": "execute_result"
    }
   ],
   "source": [
    "subreddits_w_subc = [subreddits[k] for k in range(len(subreddits)) if subreddits[k] in subreddit_subscribers]\n",
    "len(subreddits_w_subc)"
   ]
  },
  {
   "cell_type": "markdown",
   "metadata": {},
   "source": [
    "It seems that there are `None` values, so let's filter those subreddits out."
   ]
  },
  {
   "cell_type": "code",
   "execution_count": 38,
   "metadata": {},
   "outputs": [
    {
     "name": "stdout",
     "output_type": "stream",
     "text": [
      "['LoveForLandlords', 'RedditMobTest', 'StreetsIsWatchin', 'FisherFamilyMurders', 'DystopianFuture']\n"
     ]
    }
   ],
   "source": [
    "print([s for s in subreddits_w_subc if subreddit_subscribers[s] is None])"
   ]
  },
  {
   "cell_type": "code",
   "execution_count": 39,
   "metadata": {},
   "outputs": [],
   "source": [
    "subreddits_w_subc = [s for s in subreddits_w_subc if subreddit_subscribers[s] is not None]"
   ]
  },
  {
   "cell_type": "code",
   "execution_count": 40,
   "metadata": {},
   "outputs": [
    {
     "data": {
      "text/plain": [
       "14590"
      ]
     },
     "execution_count": 40,
     "metadata": {},
     "output_type": "execute_result"
    }
   ],
   "source": [
    "len(subreddits_w_subc)"
   ]
  },
  {
   "cell_type": "markdown",
   "metadata": {},
   "source": [
    "Now, I will sort the 14,590 subreddits based on the # of their subscribers in a descending order."
   ]
  },
  {
   "cell_type": "code",
   "execution_count": 102,
   "metadata": {},
   "outputs": [],
   "source": [
    "srs_all = sorted(subreddits_w_subc, key= lambda x: subreddit_subscribers[x], reverse= True)"
   ]
  },
  {
   "cell_type": "code",
   "execution_count": 227,
   "metadata": {
    "scrolled": false
   },
   "outputs": [
    {
     "data": {
      "text/plain": [
       "(array([1.4075e+04, 2.4000e+01, 4.0000e+00, 1.0000e+00, 1.0000e+01,\n",
       "        1.5000e+01, 7.0000e+00, 6.0000e+00, 3.0000e+00, 1.0000e+00]),\n",
       " array([1.00000000e+00, 3.10601750e+06, 6.21203400e+06, 9.31805050e+06,\n",
       "        1.24240670e+07, 1.55300835e+07, 1.86361000e+07, 2.17421165e+07,\n",
       "        2.48481330e+07, 2.79541495e+07, 3.10601660e+07]),\n",
       " <BarContainer object of 10 artists>)"
      ]
     },
     "execution_count": 227,
     "metadata": {},
     "output_type": "execute_result"
    },
    {
     "data": {
      "image/png": "[encoded data removed]",
      "text/plain": [
       "<Figure size 432x288 with 1 Axes>"
      ]
     },
     "metadata": {
      "needs_background": "light"
     },
     "output_type": "display_data"
    }
   ],
   "source": [
    "plt.hist([subreddit_subscribers[s] for s in srs_all if subreddit_subscribers[s] > 0])\n",
    "# log scale for both x and y"
   ]
  },
  {
   "cell_type": "code",
   "execution_count": 220,
   "metadata": {
    "collapsed": true
   },
   "outputs": [
    {
     "data": {
      "text/plain": [
       "['__doc__',\n",
       " '__loader__',\n",
       " '__name__',\n",
       " '__package__',\n",
       " '__spec__',\n",
       " 'acos',\n",
       " 'acosh',\n",
       " 'asin',\n",
       " 'asinh',\n",
       " 'atan',\n",
       " 'atan2',\n",
       " 'atanh',\n",
       " 'ceil',\n",
       " 'comb',\n",
       " 'copysign',\n",
       " 'cos',\n",
       " 'cosh',\n",
       " 'degrees',\n",
       " 'dist',\n",
       " 'e',\n",
       " 'erf',\n",
       " 'erfc',\n",
       " 'exp',\n",
       " 'expm1',\n",
       " 'fabs',\n",
       " 'factorial',\n",
       " 'floor',\n",
       " 'fmod',\n",
       " 'frexp',\n",
       " 'fsum',\n",
       " 'gamma',\n",
       " 'gcd',\n",
       " 'hypot',\n",
       " 'inf',\n",
       " 'isclose',\n",
       " 'isfinite',\n",
       " 'isinf',\n",
       " 'isnan',\n",
       " 'isqrt',\n",
       " 'lcm',\n",
       " 'ldexp',\n",
       " 'lgamma',\n",
       " 'log',\n",
       " 'log10',\n",
       " 'log1p',\n",
       " 'log2',\n",
       " 'modf',\n",
       " 'nan',\n",
       " 'nextafter',\n",
       " 'perm',\n",
       " 'pi',\n",
       " 'pow',\n",
       " 'prod',\n",
       " 'radians',\n",
       " 'remainder',\n",
       " 'sin',\n",
       " 'sinh',\n",
       " 'sqrt',\n",
       " 'tan',\n",
       " 'tanh',\n",
       " 'tau',\n",
       " 'trunc',\n",
       " 'ulp']"
      ]
     },
     "execution_count": 220,
     "metadata": {},
     "output_type": "execute_result"
    }
   ],
   "source": [
    "dir(math)"
   ]
  },
  {
   "cell_type": "code",
   "execution_count": 224,
   "metadata": {},
   "outputs": [
    {
     "data": {
      "text/plain": [
       "5"
      ]
     },
     "execution_count": 224,
     "metadata": {},
     "output_type": "execute_result"
    }
   ],
   "source": [
    "list(subreddit_subscribers.values()).count(None)"
   ]
  },
  {
   "cell_type": "code",
   "execution_count": 226,
   "metadata": {
    "scrolled": true
   },
   "outputs": [
    {
     "data": {
      "text/plain": [
       "121403.32302947225"
      ]
     },
     "execution_count": 226,
     "metadata": {},
     "output_type": "execute_result"
    }
   ],
   "source": [
    "np.mean(np.array([k for k in list(subreddit_subscribers.values()) if k is not None]))"
   ]
  },
  {
   "cell_type": "markdown",
   "metadata": {},
   "source": [
    "## Clusterings using 1000 subreddits"
   ]
  },
  {
   "cell_type": "code",
   "execution_count": 104,
   "metadata": {},
   "outputs": [],
   "source": [
    "srs = srs_all[:1000]"
   ]
  },
  {
   "cell_type": "markdown",
   "metadata": {},
   "source": [
    "First, I will incorporate data from the other two months"
   ]
  },
  {
   "cell_type": "code",
   "execution_count": 105,
   "metadata": {},
   "outputs": [
    {
     "data": {
      "text/plain": [
       "{'a': 1, 'b': 1, 'c': 2}"
      ]
     },
     "execution_count": 105,
     "metadata": {},
     "output_type": "execute_result"
    }
   ],
   "source": [
    "a = {\"a\": 1, \"b\": 2}\n",
    "b = {\"b\": 1, \"c\": 2}\n",
    "res = {**a, **b}\n",
    "res"
   ]
  },
  {
   "cell_type": "code",
   "execution_count": 106,
   "metadata": {},
   "outputs": [],
   "source": [
    "with open(\"ns_subreddit_2021-02.json\", \"r\", encoding = \"utf-8\") as infile:\n",
    "    ns_subreddit_feb = json.load(infile)\n",
    "    \n",
    "with open(\"ns_subreddit_2021-03.json\", \"r\", encoding = \"utf-8\") as infile1:\n",
    "    ns_subreddit_march = json.load(infile1)"
   ]
  },
  {
   "cell_type": "markdown",
   "metadata": {},
   "source": [
    "# **change later!!!**\n",
    "Now I will filter out the news sources from february and march because for some reason I have more than 20k news sources in totlal"
   ]
  },
  {
   "cell_type": "code",
   "execution_count": 163,
   "metadata": {},
   "outputs": [],
   "source": [
    "with open(\"gmw_intersection.json\", \"r\") as infile:\n",
    "    news_sources = json.load(infile)"
   ]
  },
  {
   "cell_type": "code",
   "execution_count": 167,
   "metadata": {},
   "outputs": [
    {
     "data": {
      "text/plain": [
       "3700"
      ]
     },
     "execution_count": 167,
     "metadata": {},
     "output_type": "execute_result"
    }
   ],
   "source": [
    "ns_subreddit_march = {k:v for k,v in ns_subreddit_march.items() if k in news_sources}\n",
    "len(ns_subreddit_march)"
   ]
  },
  {
   "cell_type": "code",
   "execution_count": 168,
   "metadata": {},
   "outputs": [
    {
     "data": {
      "text/plain": [
       "3678"
      ]
     },
     "execution_count": 168,
     "metadata": {},
     "output_type": "execute_result"
    }
   ],
   "source": [
    "ns_subreddit_feb = {k:v for k,v in ns_subreddit_feb.items() if k in news_sources}\n",
    "len(ns_subreddit_feb)"
   ]
  },
  {
   "cell_type": "markdown",
   "metadata": {},
   "source": [
    "For each news source, I create a list of length 1000 (# subreddits), and the values would be the count of how many times that news source appears in subreddit index *i*, where the index is based on the list `srs`."
   ]
  },
  {
   "cell_type": "code",
   "execution_count": 169,
   "metadata": {},
   "outputs": [],
   "source": [
    "ns_sr_rep = dict()\n",
    "for ns in ns_subreddit:\n",
    "    ns_sr_rep[ns] = [ns_subreddit[ns][srs[idx]] if srs[idx] in ns_subreddit[ns] else 0 for idx in range(len(srs))]\n",
    "\n",
    "# added Nov 13\n",
    "for ns_feb in ns_subreddit_feb:\n",
    "    if ns_feb in ns_sr_rep:\n",
    "        ns_sr_rep[ns_feb] = [ns_sr_rep[ns_feb][idx] + ns_subreddit_feb[ns_feb][srs[idx]] \n",
    "                             if srs[idx] in ns_subreddit_feb[ns_feb]\n",
    "                             else ns_sr_rep[ns_feb][idx] \n",
    "                             for idx in range(len(srs))]   \n",
    "    else:\n",
    "        ns_sr_rep[ns_feb] = [ns_subreddit_feb[ns_feb][srs[idx]] \n",
    "                             if srs[idx] in ns_subreddit_feb[ns_feb] \n",
    "                             else 0 \n",
    "                             for idx in range(len(srs))]\n",
    "    \n",
    "for ns_march in ns_subreddit_march:\n",
    "    if ns_march in ns_sr_rep:\n",
    "        ns_sr_rep[ns_march] = [ns_sr_rep[ns_march][idx] + ns_subreddit_march[ns_march][srs[idx]] \n",
    "                               if srs[idx] in ns_subreddit_march[ns_march] \n",
    "                               else ns_sr_rep[ns_march][idx] for idx in range(len(srs))]   \n",
    "    else:\n",
    "        ns_sr_rep[ns_march] = [ns_subreddit_march[ns_march][srs[idx]] \n",
    "                             if srs[idx] in ns_subreddit_march[ns_march] \n",
    "                             else 0 \n",
    "                             for idx in range(len(srs))]"
   ]
  },
  {
   "cell_type": "markdown",
   "metadata": {},
   "source": [
    "Let's see one example of representation for `nytimes.com`."
   ]
  },
  {
   "cell_type": "code",
   "execution_count": 170,
   "metadata": {},
   "outputs": [
    {
     "data": {
      "text/plain": [
       "1000"
      ]
     },
     "execution_count": 170,
     "metadata": {},
     "output_type": "execute_result"
    }
   ],
   "source": [
    "len(ns_sr_rep['nytimes.com'])"
   ]
  },
  {
   "cell_type": "code",
   "execution_count": 171,
   "metadata": {
    "collapsed": true
   },
   "outputs": [
    {
     "data": {
      "text/plain": [
       "[6,\n",
       " 4,\n",
       " 2,\n",
       " 1,\n",
       " 44,\n",
       " 700,\n",
       " 23,\n",
       " 4,\n",
       " 52,\n",
       " 216,\n",
       " 1352,\n",
       " 0,\n",
       " 12,\n",
       " 0,\n",
       " 1,\n",
       " 1,\n",
       " 0,\n",
       " 1,\n",
       " 49,\n",
       " 2,\n",
       " 8,\n",
       " 0,\n",
       " 17,\n",
       " 196,\n",
       " 29,\n",
       " 1,\n",
       " 46,\n",
       " 9,\n",
       " 0,\n",
       " 0,\n",
       " 58,\n",
       " 0,\n",
       " 0,\n",
       " 9,\n",
       " 4,\n",
       " 49,\n",
       " 0,\n",
       " 18,\n",
       " 4,\n",
       " 0,\n",
       " 0,\n",
       " 39,\n",
       " 0,\n",
       " 120,\n",
       " 0,\n",
       " 0,\n",
       " 4,\n",
       " 2513,\n",
       " 18,\n",
       " 2,\n",
       " 0,\n",
       " 7,\n",
       " 0,\n",
       " 8,\n",
       " 0,\n",
       " 0,\n",
       " 2,\n",
       " 1,\n",
       " 0,\n",
       " 0,\n",
       " 2,\n",
       " 0,\n",
       " 56,\n",
       " 0,\n",
       " 0,\n",
       " 0,\n",
       " 0,\n",
       " 0,\n",
       " 0,\n",
       " 0,\n",
       " 0,\n",
       " 0,\n",
       " 0,\n",
       " 0,\n",
       " 0,\n",
       " 0,\n",
       " 4,\n",
       " 0,\n",
       " 3,\n",
       " 4,\n",
       " 0,\n",
       " 5,\n",
       " 41,\n",
       " 3,\n",
       " 0,\n",
       " 0,\n",
       " 0,\n",
       " 3,\n",
       " 0,\n",
       " 4,\n",
       " 140,\n",
       " 6,\n",
       " 0,\n",
       " 4,\n",
       " 0,\n",
       " 2,\n",
       " 9,\n",
       " 0,\n",
       " 0,\n",
       " 3,\n",
       " 0,\n",
       " 3,\n",
       " 1,\n",
       " 0,\n",
       " 0,\n",
       " 725,\n",
       " 3,\n",
       " 0,\n",
       " 0,\n",
       " 3,\n",
       " 54,\n",
       " 0,\n",
       " 0,\n",
       " 1,\n",
       " 0,\n",
       " 1,\n",
       " 0,\n",
       " 4,\n",
       " 0,\n",
       " 6,\n",
       " 1,\n",
       " 0,\n",
       " 27,\n",
       " 16,\n",
       " 0,\n",
       " 0,\n",
       " 0,\n",
       " 0,\n",
       " 1,\n",
       " 5,\n",
       " 15,\n",
       " 1,\n",
       " 0,\n",
       " 0,\n",
       " 0,\n",
       " 2,\n",
       " 1,\n",
       " 0,\n",
       " 1,\n",
       " 0,\n",
       " 0,\n",
       " 0,\n",
       " 5,\n",
       " 0,\n",
       " 7,\n",
       " 1,\n",
       " 5,\n",
       " 3,\n",
       " 0,\n",
       " 0,\n",
       " 0,\n",
       " 0,\n",
       " 3,\n",
       " 0,\n",
       " 1,\n",
       " 0,\n",
       " 3,\n",
       " 0,\n",
       " 0,\n",
       " 1,\n",
       " 0,\n",
       " 0,\n",
       " 7,\n",
       " 0,\n",
       " 0,\n",
       " 25,\n",
       " 14,\n",
       " 0,\n",
       " 0,\n",
       " 2,\n",
       " 0,\n",
       " 7,\n",
       " 0,\n",
       " 0,\n",
       " 3,\n",
       " 0,\n",
       " 0,\n",
       " 15,\n",
       " 0,\n",
       " 1,\n",
       " 1,\n",
       " 0,\n",
       " 0,\n",
       " 0,\n",
       " 0,\n",
       " 4,\n",
       " 9,\n",
       " 0,\n",
       " 0,\n",
       " 0,\n",
       " 0,\n",
       " 0,\n",
       " 2,\n",
       " 2,\n",
       " 6,\n",
       " 0,\n",
       " 1,\n",
       " 0,\n",
       " 1,\n",
       " 8,\n",
       " 0,\n",
       " 0,\n",
       " 0,\n",
       " 0,\n",
       " 121,\n",
       " 0,\n",
       " 0,\n",
       " 1,\n",
       " 0,\n",
       " 2,\n",
       " 16,\n",
       " 7,\n",
       " 1,\n",
       " 186,\n",
       " 0,\n",
       " 0,\n",
       " 30,\n",
       " 0,\n",
       " 7,\n",
       " 0,\n",
       " 25,\n",
       " 0,\n",
       " 0,\n",
       " 0,\n",
       " 1,\n",
       " 0,\n",
       " 0,\n",
       " 0,\n",
       " 1,\n",
       " 8,\n",
       " 2,\n",
       " 1,\n",
       " 0,\n",
       " 0,\n",
       " 1,\n",
       " 1,\n",
       " 1,\n",
       " 0,\n",
       " 0,\n",
       " 0,\n",
       " 0,\n",
       " 12,\n",
       " 0,\n",
       " 0,\n",
       " 0,\n",
       " 0,\n",
       " 1,\n",
       " 2,\n",
       " 1,\n",
       " 7,\n",
       " 15,\n",
       " 2,\n",
       " 0,\n",
       " 14,\n",
       " 1,\n",
       " 20,\n",
       " 11,\n",
       " 0,\n",
       " 0,\n",
       " 0,\n",
       " 0,\n",
       " 55,\n",
       " 0,\n",
       " 6,\n",
       " 0,\n",
       " 0,\n",
       " 22,\n",
       " 8,\n",
       " 0,\n",
       " 52,\n",
       " 7,\n",
       " 0,\n",
       " 2,\n",
       " 0,\n",
       " 1,\n",
       " 2,\n",
       " 0,\n",
       " 4,\n",
       " 0,\n",
       " 0,\n",
       " 0,\n",
       " 0,\n",
       " 6,\n",
       " 0,\n",
       " 0,\n",
       " 0,\n",
       " 1,\n",
       " 2,\n",
       " 0,\n",
       " 0,\n",
       " 1,\n",
       " 0,\n",
       " 2,\n",
       " 0,\n",
       " 0,\n",
       " 3,\n",
       " 0,\n",
       " 8,\n",
       " 0,\n",
       " 0,\n",
       " 0,\n",
       " 0,\n",
       " 1,\n",
       " 1,\n",
       " 0,\n",
       " 0,\n",
       " 0,\n",
       " 0,\n",
       " 0,\n",
       " 0,\n",
       " 0,\n",
       " 0,\n",
       " 0,\n",
       " 3,\n",
       " 0,\n",
       " 0,\n",
       " 0,\n",
       " 4,\n",
       " 7,\n",
       " 0,\n",
       " 17,\n",
       " 1,\n",
       " 3,\n",
       " 72,\n",
       " 0,\n",
       " 1,\n",
       " 0,\n",
       " 0,\n",
       " 0,\n",
       " 1,\n",
       " 0,\n",
       " 0,\n",
       " 0,\n",
       " 0,\n",
       " 0,\n",
       " 9,\n",
       " 2,\n",
       " 1,\n",
       " 4,\n",
       " 1,\n",
       " 0,\n",
       " 0,\n",
       " 0,\n",
       " 0,\n",
       " 2,\n",
       " 0,\n",
       " 0,\n",
       " 5,\n",
       " 2,\n",
       " 1,\n",
       " 2,\n",
       " 0,\n",
       " 0,\n",
       " 0,\n",
       " 0,\n",
       " 3,\n",
       " 2,\n",
       " 0,\n",
       " 1,\n",
       " 1,\n",
       " 2,\n",
       " 0,\n",
       " 0,\n",
       " 2,\n",
       " 0,\n",
       " 0,\n",
       " 21,\n",
       " 0,\n",
       " 6,\n",
       " 0,\n",
       " 0,\n",
       " 0,\n",
       " 0,\n",
       " 0,\n",
       " 0,\n",
       " 4,\n",
       " 10,\n",
       " 0,\n",
       " 0,\n",
       " 119,\n",
       " 0,\n",
       " 25,\n",
       " 0,\n",
       " 0,\n",
       " 0,\n",
       " 7,\n",
       " 0,\n",
       " 1,\n",
       " 2,\n",
       " 4,\n",
       " 1,\n",
       " 2,\n",
       " 0,\n",
       " 1,\n",
       " 0,\n",
       " 10,\n",
       " 0,\n",
       " 0,\n",
       " 1,\n",
       " 0,\n",
       " 0,\n",
       " 0,\n",
       " 0,\n",
       " 0,\n",
       " 0,\n",
       " 2,\n",
       " 0,\n",
       " 0,\n",
       " 1,\n",
       " 1,\n",
       " 5,\n",
       " 0,\n",
       " 0,\n",
       " 2,\n",
       " 2,\n",
       " 0,\n",
       " 0,\n",
       " 0,\n",
       " 0,\n",
       " 1,\n",
       " 0,\n",
       " 0,\n",
       " 2,\n",
       " 0,\n",
       " 1,\n",
       " 0,\n",
       " 0,\n",
       " 0,\n",
       " 0,\n",
       " 0,\n",
       " 0,\n",
       " 0,\n",
       " 0,\n",
       " 0,\n",
       " 1,\n",
       " 1,\n",
       " 22,\n",
       " 25,\n",
       " 1,\n",
       " 0,\n",
       " 2,\n",
       " 23,\n",
       " 0,\n",
       " 25,\n",
       " 0,\n",
       " 0,\n",
       " 3,\n",
       " 0,\n",
       " 0,\n",
       " 1,\n",
       " 0,\n",
       " 0,\n",
       " 0,\n",
       " 0,\n",
       " 0,\n",
       " 34,\n",
       " 1,\n",
       " 0,\n",
       " 0,\n",
       " 0,\n",
       " 0,\n",
       " 2,\n",
       " 6,\n",
       " 0,\n",
       " 5,\n",
       " 1,\n",
       " 0,\n",
       " 0,\n",
       " 2,\n",
       " 0,\n",
       " 1,\n",
       " 0,\n",
       " 0,\n",
       " 10,\n",
       " 0,\n",
       " 0,\n",
       " 0,\n",
       " 2,\n",
       " 0,\n",
       " 0,\n",
       " 0,\n",
       " 18,\n",
       " 0,\n",
       " 0,\n",
       " 25,\n",
       " 1,\n",
       " 0,\n",
       " 2,\n",
       " 0,\n",
       " 7,\n",
       " 0,\n",
       " 0,\n",
       " 0,\n",
       " 1,\n",
       " 0,\n",
       " 6,\n",
       " 13,\n",
       " 0,\n",
       " 1,\n",
       " 0,\n",
       " 0,\n",
       " 0,\n",
       " 0,\n",
       " 9,\n",
       " 0,\n",
       " 16,\n",
       " 0,\n",
       " 0,\n",
       " 18,\n",
       " 2,\n",
       " 0,\n",
       " 0,\n",
       " 0,\n",
       " 0,\n",
       " 0,\n",
       " 0,\n",
       " 2,\n",
       " 0,\n",
       " 0,\n",
       " 0,\n",
       " 0,\n",
       " 1,\n",
       " 29,\n",
       " 0,\n",
       " 0,\n",
       " 1,\n",
       " 1,\n",
       " 0,\n",
       " 2,\n",
       " 0,\n",
       " 0,\n",
       " 18,\n",
       " 0,\n",
       " 0,\n",
       " 0,\n",
       " 3,\n",
       " 1,\n",
       " 0,\n",
       " 0,\n",
       " 0,\n",
       " 0,\n",
       " 0,\n",
       " 3,\n",
       " 1,\n",
       " 89,\n",
       " 0,\n",
       " 0,\n",
       " 98,\n",
       " 1,\n",
       " 0,\n",
       " 1,\n",
       " 0,\n",
       " 0,\n",
       " 0,\n",
       " 0,\n",
       " 0,\n",
       " 8,\n",
       " 0,\n",
       " 0,\n",
       " 1,\n",
       " 0,\n",
       " 25,\n",
       " 0,\n",
       " 4,\n",
       " 2,\n",
       " 1,\n",
       " 0,\n",
       " 0,\n",
       " 2,\n",
       " 0,\n",
       " 0,\n",
       " 0,\n",
       " 0,\n",
       " 1,\n",
       " 2,\n",
       " 0,\n",
       " 1,\n",
       " 160,\n",
       " 0,\n",
       " 33,\n",
       " 2,\n",
       " 0,\n",
       " 2,\n",
       " 0,\n",
       " 1,\n",
       " 1,\n",
       " 0,\n",
       " 0,\n",
       " 69,\n",
       " 0,\n",
       " 0,\n",
       " 0,\n",
       " 0,\n",
       " 0,\n",
       " 0,\n",
       " 0,\n",
       " 1,\n",
       " 0,\n",
       " 0,\n",
       " 0,\n",
       " 0,\n",
       " 1,\n",
       " 0,\n",
       " 1,\n",
       " 5,\n",
       " 0,\n",
       " 1,\n",
       " 1,\n",
       " 0,\n",
       " 4,\n",
       " 81,\n",
       " 0,\n",
       " 0,\n",
       " 11,\n",
       " 2,\n",
       " 0,\n",
       " 10,\n",
       " 0,\n",
       " 0,\n",
       " 0,\n",
       " 0,\n",
       " 8,\n",
       " 0,\n",
       " 0,\n",
       " 0,\n",
       " 0,\n",
       " 0,\n",
       " 3,\n",
       " 1,\n",
       " 0,\n",
       " 0,\n",
       " 0,\n",
       " 3,\n",
       " 0,\n",
       " 1,\n",
       " 2,\n",
       " 1,\n",
       " 0,\n",
       " 1,\n",
       " 0,\n",
       " 1,\n",
       " 2,\n",
       " 1,\n",
       " 23,\n",
       " 0,\n",
       " 0,\n",
       " 0,\n",
       " 0,\n",
       " 0,\n",
       " 4,\n",
       " 0,\n",
       " 0,\n",
       " 0,\n",
       " 21,\n",
       " 15,\n",
       " 0,\n",
       " 3,\n",
       " 4,\n",
       " 0,\n",
       " 2,\n",
       " 0,\n",
       " 0,\n",
       " 5,\n",
       " 0,\n",
       " 1,\n",
       " 0,\n",
       " 3,\n",
       " 0,\n",
       " 0,\n",
       " 1,\n",
       " 0,\n",
       " 0,\n",
       " 0,\n",
       " 0,\n",
       " 0,\n",
       " 0,\n",
       " 0,\n",
       " 0,\n",
       " 0,\n",
       " 0,\n",
       " 0,\n",
       " 1,\n",
       " 0,\n",
       " 0,\n",
       " 12,\n",
       " 0,\n",
       " 0,\n",
       " 0,\n",
       " 0,\n",
       " 54,\n",
       " 0,\n",
       " 0,\n",
       " 0,\n",
       " 2,\n",
       " 0,\n",
       " 0,\n",
       " 5,\n",
       " 8,\n",
       " 3,\n",
       " 0,\n",
       " 0,\n",
       " 0,\n",
       " 0,\n",
       " 0,\n",
       " 0,\n",
       " 0,\n",
       " 0,\n",
       " 6,\n",
       " 14,\n",
       " 0,\n",
       " 5,\n",
       " 9,\n",
       " 7,\n",
       " 0,\n",
       " 0,\n",
       " 25,\n",
       " 0,\n",
       " 0,\n",
       " 0,\n",
       " 1,\n",
       " 17,\n",
       " 0,\n",
       " 0,\n",
       " 0,\n",
       " 15,\n",
       " 0,\n",
       " 0,\n",
       " 0,\n",
       " 0,\n",
       " 0,\n",
       " 1,\n",
       " 2,\n",
       " 0,\n",
       " 1,\n",
       " 5,\n",
       " 3,\n",
       " 0,\n",
       " 0,\n",
       " 0,\n",
       " 0,\n",
       " 6,\n",
       " 0,\n",
       " 3,\n",
       " 2,\n",
       " 0,\n",
       " 2,\n",
       " 0,\n",
       " 0,\n",
       " 2,\n",
       " 1,\n",
       " 8,\n",
       " 0,\n",
       " 0,\n",
       " 0,\n",
       " 1,\n",
       " 0,\n",
       " 0,\n",
       " 0,\n",
       " 0,\n",
       " 1,\n",
       " 1,\n",
       " 0,\n",
       " 38,\n",
       " 0,\n",
       " 2,\n",
       " 0,\n",
       " 0,\n",
       " 3,\n",
       " 36,\n",
       " 0,\n",
       " 2,\n",
       " 2,\n",
       " 0,\n",
       " 2,\n",
       " 1,\n",
       " 0,\n",
       " 2,\n",
       " 22,\n",
       " 0,\n",
       " 0,\n",
       " 2,\n",
       " 0,\n",
       " 0,\n",
       " 14,\n",
       " 0,\n",
       " 0,\n",
       " 190,\n",
       " 1,\n",
       " 0,\n",
       " 0,\n",
       " 1,\n",
       " 0,\n",
       " 0,\n",
       " 0,\n",
       " 0,\n",
       " 2,\n",
       " 2,\n",
       " 0,\n",
       " 0,\n",
       " 0,\n",
       " 0,\n",
       " 0,\n",
       " 0,\n",
       " 0,\n",
       " 0,\n",
       " 0,\n",
       " 0,\n",
       " 0,\n",
       " 0,\n",
       " 0,\n",
       " 21,\n",
       " 0,\n",
       " 0,\n",
       " 5,\n",
       " 5,\n",
       " 0,\n",
       " 1,\n",
       " 0,\n",
       " 2,\n",
       " 0,\n",
       " 0,\n",
       " 0,\n",
       " 13,\n",
       " 0,\n",
       " 0,\n",
       " 1,\n",
       " 12,\n",
       " 1,\n",
       " 0,\n",
       " 0,\n",
       " 22,\n",
       " 0,\n",
       " 0,\n",
       " 0,\n",
       " 0,\n",
       " 0,\n",
       " 0,\n",
       " 0,\n",
       " 0,\n",
       " 0,\n",
       " 0,\n",
       " 1,\n",
       " 2,\n",
       " 0,\n",
       " 0,\n",
       " 0,\n",
       " 0,\n",
       " 0,\n",
       " 0,\n",
       " 8,\n",
       " 0,\n",
       " 0,\n",
       " 0,\n",
       " 0,\n",
       " 0,\n",
       " 1,\n",
       " 0,\n",
       " 1,\n",
       " 0,\n",
       " 0,\n",
       " 3,\n",
       " 1,\n",
       " 0,\n",
       " 0,\n",
       " 0,\n",
       " 7,\n",
       " 0,\n",
       " 0,\n",
       " 0,\n",
       " 0,\n",
       " 4,\n",
       " 0,\n",
       " 7,\n",
       " 0,\n",
       " 0,\n",
       " 2,\n",
       " 2,\n",
       " 0,\n",
       " 0,\n",
       " 0,\n",
       " 0,\n",
       " 31,\n",
       " 0,\n",
       " 57,\n",
       " 0,\n",
       " 0,\n",
       " 0,\n",
       " 3,\n",
       " 3,\n",
       " 0,\n",
       " 3,\n",
       " 1,\n",
       " 1,\n",
       " 0,\n",
       " 0,\n",
       " 0,\n",
       " 0,\n",
       " 1,\n",
       " 0,\n",
       " 18,\n",
       " 0,\n",
       " 0,\n",
       " 0,\n",
       " 0,\n",
       " 0,\n",
       " 4,\n",
       " 0,\n",
       " 0,\n",
       " 0,\n",
       " 0,\n",
       " 0,\n",
       " 0,\n",
       " 0,\n",
       " 0,\n",
       " 4,\n",
       " 0,\n",
       " 0,\n",
       " 0,\n",
       " 0,\n",
       " 0,\n",
       " 0,\n",
       " 0,\n",
       " 7,\n",
       " 0,\n",
       " 1,\n",
       " 0,\n",
       " 0,\n",
       " 0,\n",
       " 0,\n",
       " 0,\n",
       " 0,\n",
       " 8,\n",
       " 0,\n",
       " 33,\n",
       " 0,\n",
       " 0,\n",
       " 0,\n",
       " 1,\n",
       " 2,\n",
       " 0,\n",
       " 0,\n",
       " 0,\n",
       " 5,\n",
       " 4,\n",
       " 2,\n",
       " 0,\n",
       " 0,\n",
       " 0,\n",
       " 0,\n",
       " 0,\n",
       " 0,\n",
       " 0,\n",
       " 1,\n",
       " 0,\n",
       " 0,\n",
       " 0,\n",
       " 0,\n",
       " 0,\n",
       " 0,\n",
       " 0,\n",
       " 22,\n",
       " 1,\n",
       " 3,\n",
       " 0,\n",
       " 0,\n",
       " 7,\n",
       " 0,\n",
       " 0,\n",
       " 27,\n",
       " 3,\n",
       " 0,\n",
       " 1,\n",
       " 0,\n",
       " 0,\n",
       " 18,\n",
       " 0,\n",
       " 0,\n",
       " 3,\n",
       " 0,\n",
       " 0,\n",
       " 0,\n",
       " 0,\n",
       " 0,\n",
       " 0,\n",
       " 1,\n",
       " 2,\n",
       " 0,\n",
       " 7,\n",
       " 8,\n",
       " 0,\n",
       " 0,\n",
       " 0,\n",
       " 0,\n",
       " 6,\n",
       " 126,\n",
       " 0,\n",
       " 3,\n",
       " 5,\n",
       " 20,\n",
       " 2]"
      ]
     },
     "execution_count": 171,
     "metadata": {},
     "output_type": "execute_result"
    }
   ],
   "source": [
    "ns_sr_rep['nytimes.com']"
   ]
  },
  {
   "cell_type": "markdown",
   "metadata": {},
   "source": [
    "Now, I will cast those list representation values to be numpy arrays so I can preprocess them easily. Further, I will normalize each array."
   ]
  },
  {
   "cell_type": "code",
   "execution_count": 172,
   "metadata": {},
   "outputs": [
    {
     "data": {
      "text/plain": [
       "array([[0.00999301, 0.99930073, 0.01998601, 0.02997902]])"
      ]
     },
     "execution_count": 172,
     "metadata": {},
     "output_type": "execute_result"
    }
   ],
   "source": [
    "preprocessing.normalize(np.array([[1,100,2,3]]))"
   ]
  },
  {
   "cell_type": "code",
   "execution_count": 173,
   "metadata": {},
   "outputs": [
    {
     "data": {
      "text/plain": [
       "array([[0., 0., 0., 0.]])"
      ]
     },
     "execution_count": 173,
     "metadata": {},
     "output_type": "execute_result"
    }
   ],
   "source": [
    "scaler = StandardScaler()\n",
    "scaler.fit_transform(np.array([[1,100,2,3]]))"
   ]
  },
  {
   "cell_type": "markdown",
   "metadata": {},
   "source": [
    "Now I'm thinking, should I *normalize* or *standardize*?"
   ]
  },
  {
   "cell_type": "code",
   "execution_count": 174,
   "metadata": {},
   "outputs": [],
   "source": [
    "for ns in ns_sr_rep:\n",
    "    rep = ns_sr_rep[ns]\n",
    "    ns_sr_rep[ns] = preprocessing.normalize(np.array([rep]))"
   ]
  },
  {
   "cell_type": "markdown",
   "metadata": {},
   "source": [
    "Let's check for `nytimes.com`."
   ]
  },
  {
   "cell_type": "code",
   "execution_count": 175,
   "metadata": {
    "collapsed": true
   },
   "outputs": [
    {
     "data": {
      "text/plain": [
       "array([1.94434935e-03, 1.29623290e-03, 6.48116452e-04, 3.24058226e-04,\n",
       "       1.42585619e-02, 2.26840758e-01, 7.45333919e-03, 1.29623290e-03,\n",
       "       1.68510277e-02, 6.99965768e-02, 4.38126721e-01, 0.00000000e+00,\n",
       "       3.88869871e-03, 0.00000000e+00, 3.24058226e-04, 3.24058226e-04,\n",
       "       0.00000000e+00, 3.24058226e-04, 1.58788531e-02, 6.48116452e-04,\n",
       "       2.59246581e-03, 0.00000000e+00, 5.50898984e-03, 6.35154123e-02,\n",
       "       9.39768855e-03, 3.24058226e-04, 1.49066784e-02, 2.91652403e-03,\n",
       "       0.00000000e+00, 0.00000000e+00, 1.87953771e-02, 0.00000000e+00,\n",
       "       0.00000000e+00, 2.91652403e-03, 1.29623290e-03, 1.58788531e-02,\n",
       "       0.00000000e+00, 5.83304806e-03, 1.29623290e-03, 0.00000000e+00,\n",
       "       0.00000000e+00, 1.26382708e-02, 0.00000000e+00, 3.88869871e-02,\n",
       "       0.00000000e+00, 0.00000000e+00, 1.29623290e-03, 8.14358321e-01,\n",
       "       5.83304806e-03, 6.48116452e-04, 0.00000000e+00, 2.26840758e-03,\n",
       "       0.00000000e+00, 2.59246581e-03, 0.00000000e+00, 0.00000000e+00,\n",
       "       6.48116452e-04, 3.24058226e-04, 0.00000000e+00, 0.00000000e+00,\n",
       "       6.48116452e-04, 0.00000000e+00, 1.81472606e-02, 0.00000000e+00,\n",
       "       0.00000000e+00, 0.00000000e+00, 0.00000000e+00, 0.00000000e+00,\n",
       "       0.00000000e+00, 0.00000000e+00, 0.00000000e+00, 0.00000000e+00,\n",
       "       0.00000000e+00, 0.00000000e+00, 0.00000000e+00, 0.00000000e+00,\n",
       "       1.29623290e-03, 0.00000000e+00, 9.72174677e-04, 1.29623290e-03,\n",
       "       0.00000000e+00, 1.62029113e-03, 1.32863873e-02, 9.72174677e-04,\n",
       "       0.00000000e+00, 0.00000000e+00, 0.00000000e+00, 9.72174677e-04,\n",
       "       0.00000000e+00, 1.29623290e-03, 4.53681516e-02, 1.94434935e-03,\n",
       "       0.00000000e+00, 1.29623290e-03, 0.00000000e+00, 6.48116452e-04,\n",
       "       2.91652403e-03, 0.00000000e+00, 0.00000000e+00, 9.72174677e-04,\n",
       "       0.00000000e+00, 9.72174677e-04, 3.24058226e-04, 0.00000000e+00,\n",
       "       0.00000000e+00, 2.34942214e-01, 9.72174677e-04, 0.00000000e+00,\n",
       "       0.00000000e+00, 9.72174677e-04, 1.74991442e-02, 0.00000000e+00,\n",
       "       0.00000000e+00, 3.24058226e-04, 0.00000000e+00, 3.24058226e-04,\n",
       "       0.00000000e+00, 1.29623290e-03, 0.00000000e+00, 1.94434935e-03,\n",
       "       3.24058226e-04, 0.00000000e+00, 8.74957210e-03, 5.18493161e-03,\n",
       "       0.00000000e+00, 0.00000000e+00, 0.00000000e+00, 0.00000000e+00,\n",
       "       3.24058226e-04, 1.62029113e-03, 4.86087339e-03, 3.24058226e-04,\n",
       "       0.00000000e+00, 0.00000000e+00, 0.00000000e+00, 6.48116452e-04,\n",
       "       3.24058226e-04, 0.00000000e+00, 3.24058226e-04, 0.00000000e+00,\n",
       "       0.00000000e+00, 0.00000000e+00, 1.62029113e-03, 0.00000000e+00,\n",
       "       2.26840758e-03, 3.24058226e-04, 1.62029113e-03, 9.72174677e-04,\n",
       "       0.00000000e+00, 0.00000000e+00, 0.00000000e+00, 0.00000000e+00,\n",
       "       9.72174677e-04, 0.00000000e+00, 3.24058226e-04, 0.00000000e+00,\n",
       "       9.72174677e-04, 0.00000000e+00, 0.00000000e+00, 3.24058226e-04,\n",
       "       0.00000000e+00, 0.00000000e+00, 2.26840758e-03, 0.00000000e+00,\n",
       "       0.00000000e+00, 8.10145564e-03, 4.53681516e-03, 0.00000000e+00,\n",
       "       0.00000000e+00, 6.48116452e-04, 0.00000000e+00, 2.26840758e-03,\n",
       "       0.00000000e+00, 0.00000000e+00, 9.72174677e-04, 0.00000000e+00,\n",
       "       0.00000000e+00, 4.86087339e-03, 0.00000000e+00, 3.24058226e-04,\n",
       "       3.24058226e-04, 0.00000000e+00, 0.00000000e+00, 0.00000000e+00,\n",
       "       0.00000000e+00, 1.29623290e-03, 2.91652403e-03, 0.00000000e+00,\n",
       "       0.00000000e+00, 0.00000000e+00, 0.00000000e+00, 0.00000000e+00,\n",
       "       6.48116452e-04, 6.48116452e-04, 1.94434935e-03, 0.00000000e+00,\n",
       "       3.24058226e-04, 0.00000000e+00, 3.24058226e-04, 2.59246581e-03,\n",
       "       0.00000000e+00, 0.00000000e+00, 0.00000000e+00, 0.00000000e+00,\n",
       "       3.92110453e-02, 0.00000000e+00, 0.00000000e+00, 3.24058226e-04,\n",
       "       0.00000000e+00, 6.48116452e-04, 5.18493161e-03, 2.26840758e-03,\n",
       "       3.24058226e-04, 6.02748300e-02, 0.00000000e+00, 0.00000000e+00,\n",
       "       9.72174677e-03, 0.00000000e+00, 2.26840758e-03, 0.00000000e+00,\n",
       "       8.10145564e-03, 0.00000000e+00, 0.00000000e+00, 0.00000000e+00,\n",
       "       3.24058226e-04, 0.00000000e+00, 0.00000000e+00, 0.00000000e+00,\n",
       "       3.24058226e-04, 2.59246581e-03, 6.48116452e-04, 3.24058226e-04,\n",
       "       0.00000000e+00, 0.00000000e+00, 3.24058226e-04, 3.24058226e-04,\n",
       "       3.24058226e-04, 0.00000000e+00, 0.00000000e+00, 0.00000000e+00,\n",
       "       0.00000000e+00, 3.88869871e-03, 0.00000000e+00, 0.00000000e+00,\n",
       "       0.00000000e+00, 0.00000000e+00, 3.24058226e-04, 6.48116452e-04,\n",
       "       3.24058226e-04, 2.26840758e-03, 4.86087339e-03, 6.48116452e-04,\n",
       "       0.00000000e+00, 4.53681516e-03, 3.24058226e-04, 6.48116452e-03,\n",
       "       3.56464048e-03, 0.00000000e+00, 0.00000000e+00, 0.00000000e+00,\n",
       "       0.00000000e+00, 1.78232024e-02, 0.00000000e+00, 1.94434935e-03,\n",
       "       0.00000000e+00, 0.00000000e+00, 7.12928097e-03, 2.59246581e-03,\n",
       "       0.00000000e+00, 1.68510277e-02, 2.26840758e-03, 0.00000000e+00,\n",
       "       6.48116452e-04, 0.00000000e+00, 3.24058226e-04, 6.48116452e-04,\n",
       "       0.00000000e+00, 1.29623290e-03, 0.00000000e+00, 0.00000000e+00,\n",
       "       0.00000000e+00, 0.00000000e+00, 1.94434935e-03, 0.00000000e+00,\n",
       "       0.00000000e+00, 0.00000000e+00, 3.24058226e-04, 6.48116452e-04,\n",
       "       0.00000000e+00, 0.00000000e+00, 3.24058226e-04, 0.00000000e+00,\n",
       "       6.48116452e-04, 0.00000000e+00, 0.00000000e+00, 9.72174677e-04,\n",
       "       0.00000000e+00, 2.59246581e-03, 0.00000000e+00, 0.00000000e+00,\n",
       "       0.00000000e+00, 0.00000000e+00, 3.24058226e-04, 3.24058226e-04,\n",
       "       0.00000000e+00, 0.00000000e+00, 0.00000000e+00, 0.00000000e+00,\n",
       "       0.00000000e+00, 0.00000000e+00, 0.00000000e+00, 0.00000000e+00,\n",
       "       0.00000000e+00, 9.72174677e-04, 0.00000000e+00, 0.00000000e+00,\n",
       "       0.00000000e+00, 1.29623290e-03, 2.26840758e-03, 0.00000000e+00,\n",
       "       5.50898984e-03, 3.24058226e-04, 9.72174677e-04, 2.33321923e-02,\n",
       "       0.00000000e+00, 3.24058226e-04, 0.00000000e+00, 0.00000000e+00,\n",
       "       0.00000000e+00, 3.24058226e-04, 0.00000000e+00, 0.00000000e+00,\n",
       "       0.00000000e+00, 0.00000000e+00, 0.00000000e+00, 2.91652403e-03,\n",
       "       6.48116452e-04, 3.24058226e-04, 1.29623290e-03, 3.24058226e-04,\n",
       "       0.00000000e+00, 0.00000000e+00, 0.00000000e+00, 0.00000000e+00,\n",
       "       6.48116452e-04, 0.00000000e+00, 0.00000000e+00, 1.62029113e-03,\n",
       "       6.48116452e-04, 3.24058226e-04, 6.48116452e-04, 0.00000000e+00,\n",
       "       0.00000000e+00, 0.00000000e+00, 0.00000000e+00, 9.72174677e-04,\n",
       "       6.48116452e-04, 0.00000000e+00, 3.24058226e-04, 3.24058226e-04,\n",
       "       6.48116452e-04, 0.00000000e+00, 0.00000000e+00, 6.48116452e-04,\n",
       "       0.00000000e+00, 0.00000000e+00, 6.80522274e-03, 0.00000000e+00,\n",
       "       1.94434935e-03, 0.00000000e+00, 0.00000000e+00, 0.00000000e+00,\n",
       "       0.00000000e+00, 0.00000000e+00, 0.00000000e+00, 1.29623290e-03,\n",
       "       3.24058226e-03, 0.00000000e+00, 0.00000000e+00, 3.85629289e-02,\n",
       "       0.00000000e+00, 8.10145564e-03, 0.00000000e+00, 0.00000000e+00,\n",
       "       0.00000000e+00, 2.26840758e-03, 0.00000000e+00, 3.24058226e-04,\n",
       "       6.48116452e-04, 1.29623290e-03, 3.24058226e-04, 6.48116452e-04,\n",
       "       0.00000000e+00, 3.24058226e-04, 0.00000000e+00, 3.24058226e-03,\n",
       "       0.00000000e+00, 0.00000000e+00, 3.24058226e-04, 0.00000000e+00,\n",
       "       0.00000000e+00, 0.00000000e+00, 0.00000000e+00, 0.00000000e+00,\n",
       "       0.00000000e+00, 6.48116452e-04, 0.00000000e+00, 0.00000000e+00,\n",
       "       3.24058226e-04, 3.24058226e-04, 1.62029113e-03, 0.00000000e+00,\n",
       "       0.00000000e+00, 6.48116452e-04, 6.48116452e-04, 0.00000000e+00,\n",
       "       0.00000000e+00, 0.00000000e+00, 0.00000000e+00, 3.24058226e-04,\n",
       "       0.00000000e+00, 0.00000000e+00, 6.48116452e-04, 0.00000000e+00,\n",
       "       3.24058226e-04, 0.00000000e+00, 0.00000000e+00, 0.00000000e+00,\n",
       "       0.00000000e+00, 0.00000000e+00, 0.00000000e+00, 0.00000000e+00,\n",
       "       0.00000000e+00, 0.00000000e+00, 3.24058226e-04, 3.24058226e-04,\n",
       "       7.12928097e-03, 8.10145564e-03, 3.24058226e-04, 0.00000000e+00,\n",
       "       6.48116452e-04, 7.45333919e-03, 0.00000000e+00, 8.10145564e-03,\n",
       "       0.00000000e+00, 0.00000000e+00, 9.72174677e-04, 0.00000000e+00,\n",
       "       0.00000000e+00, 3.24058226e-04, 0.00000000e+00, 0.00000000e+00,\n",
       "       0.00000000e+00, 0.00000000e+00, 0.00000000e+00, 1.10179797e-02,\n",
       "       3.24058226e-04, 0.00000000e+00, 0.00000000e+00, 0.00000000e+00,\n",
       "       0.00000000e+00, 6.48116452e-04, 1.94434935e-03, 0.00000000e+00,\n",
       "       1.62029113e-03, 3.24058226e-04, 0.00000000e+00, 0.00000000e+00,\n",
       "       6.48116452e-04, 0.00000000e+00, 3.24058226e-04, 0.00000000e+00,\n",
       "       0.00000000e+00, 3.24058226e-03, 0.00000000e+00, 0.00000000e+00,\n",
       "       0.00000000e+00, 6.48116452e-04, 0.00000000e+00, 0.00000000e+00,\n",
       "       0.00000000e+00, 5.83304806e-03, 0.00000000e+00, 0.00000000e+00,\n",
       "       8.10145564e-03, 3.24058226e-04, 0.00000000e+00, 6.48116452e-04,\n",
       "       0.00000000e+00, 2.26840758e-03, 0.00000000e+00, 0.00000000e+00,\n",
       "       0.00000000e+00, 3.24058226e-04, 0.00000000e+00, 1.94434935e-03,\n",
       "       4.21275694e-03, 0.00000000e+00, 3.24058226e-04, 0.00000000e+00,\n",
       "       0.00000000e+00, 0.00000000e+00, 0.00000000e+00, 2.91652403e-03,\n",
       "       0.00000000e+00, 5.18493161e-03, 0.00000000e+00, 0.00000000e+00,\n",
       "       5.83304806e-03, 6.48116452e-04, 0.00000000e+00, 0.00000000e+00,\n",
       "       0.00000000e+00, 0.00000000e+00, 0.00000000e+00, 0.00000000e+00,\n",
       "       6.48116452e-04, 0.00000000e+00, 0.00000000e+00, 0.00000000e+00,\n",
       "       0.00000000e+00, 3.24058226e-04, 9.39768855e-03, 0.00000000e+00,\n",
       "       0.00000000e+00, 3.24058226e-04, 3.24058226e-04, 0.00000000e+00,\n",
       "       6.48116452e-04, 0.00000000e+00, 0.00000000e+00, 5.83304806e-03,\n",
       "       0.00000000e+00, 0.00000000e+00, 0.00000000e+00, 9.72174677e-04,\n",
       "       3.24058226e-04, 0.00000000e+00, 0.00000000e+00, 0.00000000e+00,\n",
       "       0.00000000e+00, 0.00000000e+00, 9.72174677e-04, 3.24058226e-04,\n",
       "       2.88411821e-02, 0.00000000e+00, 0.00000000e+00, 3.17577061e-02,\n",
       "       3.24058226e-04, 0.00000000e+00, 3.24058226e-04, 0.00000000e+00,\n",
       "       0.00000000e+00, 0.00000000e+00, 0.00000000e+00, 0.00000000e+00,\n",
       "       2.59246581e-03, 0.00000000e+00, 0.00000000e+00, 3.24058226e-04,\n",
       "       0.00000000e+00, 8.10145564e-03, 0.00000000e+00, 1.29623290e-03,\n",
       "       6.48116452e-04, 3.24058226e-04, 0.00000000e+00, 0.00000000e+00,\n",
       "       6.48116452e-04, 0.00000000e+00, 0.00000000e+00, 0.00000000e+00,\n",
       "       0.00000000e+00, 3.24058226e-04, 6.48116452e-04, 0.00000000e+00,\n",
       "       3.24058226e-04, 5.18493161e-02, 0.00000000e+00, 1.06939215e-02,\n",
       "       6.48116452e-04, 0.00000000e+00, 6.48116452e-04, 0.00000000e+00,\n",
       "       3.24058226e-04, 3.24058226e-04, 0.00000000e+00, 0.00000000e+00,\n",
       "       2.23600176e-02, 0.00000000e+00, 0.00000000e+00, 0.00000000e+00,\n",
       "       0.00000000e+00, 0.00000000e+00, 0.00000000e+00, 0.00000000e+00,\n",
       "       3.24058226e-04, 0.00000000e+00, 0.00000000e+00, 0.00000000e+00,\n",
       "       0.00000000e+00, 3.24058226e-04, 0.00000000e+00, 3.24058226e-04,\n",
       "       1.62029113e-03, 0.00000000e+00, 3.24058226e-04, 3.24058226e-04,\n",
       "       0.00000000e+00, 1.29623290e-03, 2.62487163e-02, 0.00000000e+00,\n",
       "       0.00000000e+00, 3.56464048e-03, 6.48116452e-04, 0.00000000e+00,\n",
       "       3.24058226e-03, 0.00000000e+00, 0.00000000e+00, 0.00000000e+00,\n",
       "       0.00000000e+00, 2.59246581e-03, 0.00000000e+00, 0.00000000e+00,\n",
       "       0.00000000e+00, 0.00000000e+00, 0.00000000e+00, 9.72174677e-04,\n",
       "       3.24058226e-04, 0.00000000e+00, 0.00000000e+00, 0.00000000e+00,\n",
       "       9.72174677e-04, 0.00000000e+00, 3.24058226e-04, 6.48116452e-04,\n",
       "       3.24058226e-04, 0.00000000e+00, 3.24058226e-04, 0.00000000e+00,\n",
       "       3.24058226e-04, 6.48116452e-04, 3.24058226e-04, 7.45333919e-03,\n",
       "       0.00000000e+00, 0.00000000e+00, 0.00000000e+00, 0.00000000e+00,\n",
       "       0.00000000e+00, 1.29623290e-03, 0.00000000e+00, 0.00000000e+00,\n",
       "       0.00000000e+00, 6.80522274e-03, 4.86087339e-03, 0.00000000e+00,\n",
       "       9.72174677e-04, 1.29623290e-03, 0.00000000e+00, 6.48116452e-04,\n",
       "       0.00000000e+00, 0.00000000e+00, 1.62029113e-03, 0.00000000e+00,\n",
       "       3.24058226e-04, 0.00000000e+00, 9.72174677e-04, 0.00000000e+00,\n",
       "       0.00000000e+00, 3.24058226e-04, 0.00000000e+00, 0.00000000e+00,\n",
       "       0.00000000e+00, 0.00000000e+00, 0.00000000e+00, 0.00000000e+00,\n",
       "       0.00000000e+00, 0.00000000e+00, 0.00000000e+00, 0.00000000e+00,\n",
       "       0.00000000e+00, 3.24058226e-04, 0.00000000e+00, 0.00000000e+00,\n",
       "       3.88869871e-03, 0.00000000e+00, 0.00000000e+00, 0.00000000e+00,\n",
       "       0.00000000e+00, 1.74991442e-02, 0.00000000e+00, 0.00000000e+00,\n",
       "       0.00000000e+00, 6.48116452e-04, 0.00000000e+00, 0.00000000e+00,\n",
       "       1.62029113e-03, 2.59246581e-03, 9.72174677e-04, 0.00000000e+00,\n",
       "       0.00000000e+00, 0.00000000e+00, 0.00000000e+00, 0.00000000e+00,\n",
       "       0.00000000e+00, 0.00000000e+00, 0.00000000e+00, 1.94434935e-03,\n",
       "       4.53681516e-03, 0.00000000e+00, 1.62029113e-03, 2.91652403e-03,\n",
       "       2.26840758e-03, 0.00000000e+00, 0.00000000e+00, 8.10145564e-03,\n",
       "       0.00000000e+00, 0.00000000e+00, 0.00000000e+00, 3.24058226e-04,\n",
       "       5.50898984e-03, 0.00000000e+00, 0.00000000e+00, 0.00000000e+00,\n",
       "       4.86087339e-03, 0.00000000e+00, 0.00000000e+00, 0.00000000e+00,\n",
       "       0.00000000e+00, 0.00000000e+00, 3.24058226e-04, 6.48116452e-04,\n",
       "       0.00000000e+00, 3.24058226e-04, 1.62029113e-03, 9.72174677e-04,\n",
       "       0.00000000e+00, 0.00000000e+00, 0.00000000e+00, 0.00000000e+00,\n",
       "       1.94434935e-03, 0.00000000e+00, 9.72174677e-04, 6.48116452e-04,\n",
       "       0.00000000e+00, 6.48116452e-04, 0.00000000e+00, 0.00000000e+00,\n",
       "       6.48116452e-04, 3.24058226e-04, 2.59246581e-03, 0.00000000e+00,\n",
       "       0.00000000e+00, 0.00000000e+00, 3.24058226e-04, 0.00000000e+00,\n",
       "       0.00000000e+00, 0.00000000e+00, 0.00000000e+00, 3.24058226e-04,\n",
       "       3.24058226e-04, 0.00000000e+00, 1.23142126e-02, 0.00000000e+00,\n",
       "       6.48116452e-04, 0.00000000e+00, 0.00000000e+00, 9.72174677e-04,\n",
       "       1.16660961e-02, 0.00000000e+00, 6.48116452e-04, 6.48116452e-04,\n",
       "       0.00000000e+00, 6.48116452e-04, 3.24058226e-04, 0.00000000e+00,\n",
       "       6.48116452e-04, 7.12928097e-03, 0.00000000e+00, 0.00000000e+00,\n",
       "       6.48116452e-04, 0.00000000e+00, 0.00000000e+00, 4.53681516e-03,\n",
       "       0.00000000e+00, 0.00000000e+00, 6.15710629e-02, 3.24058226e-04,\n",
       "       0.00000000e+00, 0.00000000e+00, 3.24058226e-04, 0.00000000e+00,\n",
       "       0.00000000e+00, 0.00000000e+00, 0.00000000e+00, 6.48116452e-04,\n",
       "       6.48116452e-04, 0.00000000e+00, 0.00000000e+00, 0.00000000e+00,\n",
       "       0.00000000e+00, 0.00000000e+00, 0.00000000e+00, 0.00000000e+00,\n",
       "       0.00000000e+00, 0.00000000e+00, 0.00000000e+00, 0.00000000e+00,\n",
       "       0.00000000e+00, 0.00000000e+00, 6.80522274e-03, 0.00000000e+00,\n",
       "       0.00000000e+00, 1.62029113e-03, 1.62029113e-03, 0.00000000e+00,\n",
       "       3.24058226e-04, 0.00000000e+00, 6.48116452e-04, 0.00000000e+00,\n",
       "       0.00000000e+00, 0.00000000e+00, 4.21275694e-03, 0.00000000e+00,\n",
       "       0.00000000e+00, 3.24058226e-04, 3.88869871e-03, 3.24058226e-04,\n",
       "       0.00000000e+00, 0.00000000e+00, 7.12928097e-03, 0.00000000e+00,\n",
       "       0.00000000e+00, 0.00000000e+00, 0.00000000e+00, 0.00000000e+00,\n",
       "       0.00000000e+00, 0.00000000e+00, 0.00000000e+00, 0.00000000e+00,\n",
       "       0.00000000e+00, 3.24058226e-04, 6.48116452e-04, 0.00000000e+00,\n",
       "       0.00000000e+00, 0.00000000e+00, 0.00000000e+00, 0.00000000e+00,\n",
       "       0.00000000e+00, 2.59246581e-03, 0.00000000e+00, 0.00000000e+00,\n",
       "       0.00000000e+00, 0.00000000e+00, 0.00000000e+00, 3.24058226e-04,\n",
       "       0.00000000e+00, 3.24058226e-04, 0.00000000e+00, 0.00000000e+00,\n",
       "       9.72174677e-04, 3.24058226e-04, 0.00000000e+00, 0.00000000e+00,\n",
       "       0.00000000e+00, 2.26840758e-03, 0.00000000e+00, 0.00000000e+00,\n",
       "       0.00000000e+00, 0.00000000e+00, 1.29623290e-03, 0.00000000e+00,\n",
       "       2.26840758e-03, 0.00000000e+00, 0.00000000e+00, 6.48116452e-04,\n",
       "       6.48116452e-04, 0.00000000e+00, 0.00000000e+00, 0.00000000e+00,\n",
       "       0.00000000e+00, 1.00458050e-02, 0.00000000e+00, 1.84713189e-02,\n",
       "       0.00000000e+00, 0.00000000e+00, 0.00000000e+00, 9.72174677e-04,\n",
       "       9.72174677e-04, 0.00000000e+00, 9.72174677e-04, 3.24058226e-04,\n",
       "       3.24058226e-04, 0.00000000e+00, 0.00000000e+00, 0.00000000e+00,\n",
       "       0.00000000e+00, 3.24058226e-04, 0.00000000e+00, 5.83304806e-03,\n",
       "       0.00000000e+00, 0.00000000e+00, 0.00000000e+00, 0.00000000e+00,\n",
       "       0.00000000e+00, 1.29623290e-03, 0.00000000e+00, 0.00000000e+00,\n",
       "       0.00000000e+00, 0.00000000e+00, 0.00000000e+00, 0.00000000e+00,\n",
       "       0.00000000e+00, 0.00000000e+00, 1.29623290e-03, 0.00000000e+00,\n",
       "       0.00000000e+00, 0.00000000e+00, 0.00000000e+00, 0.00000000e+00,\n",
       "       0.00000000e+00, 0.00000000e+00, 2.26840758e-03, 0.00000000e+00,\n",
       "       3.24058226e-04, 0.00000000e+00, 0.00000000e+00, 0.00000000e+00,\n",
       "       0.00000000e+00, 0.00000000e+00, 0.00000000e+00, 2.59246581e-03,\n",
       "       0.00000000e+00, 1.06939215e-02, 0.00000000e+00, 0.00000000e+00,\n",
       "       0.00000000e+00, 3.24058226e-04, 6.48116452e-04, 0.00000000e+00,\n",
       "       0.00000000e+00, 0.00000000e+00, 1.62029113e-03, 1.29623290e-03,\n",
       "       6.48116452e-04, 0.00000000e+00, 0.00000000e+00, 0.00000000e+00,\n",
       "       0.00000000e+00, 0.00000000e+00, 0.00000000e+00, 0.00000000e+00,\n",
       "       3.24058226e-04, 0.00000000e+00, 0.00000000e+00, 0.00000000e+00,\n",
       "       0.00000000e+00, 0.00000000e+00, 0.00000000e+00, 0.00000000e+00,\n",
       "       7.12928097e-03, 3.24058226e-04, 9.72174677e-04, 0.00000000e+00,\n",
       "       0.00000000e+00, 2.26840758e-03, 0.00000000e+00, 0.00000000e+00,\n",
       "       8.74957210e-03, 9.72174677e-04, 0.00000000e+00, 3.24058226e-04,\n",
       "       0.00000000e+00, 0.00000000e+00, 5.83304806e-03, 0.00000000e+00,\n",
       "       0.00000000e+00, 9.72174677e-04, 0.00000000e+00, 0.00000000e+00,\n",
       "       0.00000000e+00, 0.00000000e+00, 0.00000000e+00, 0.00000000e+00,\n",
       "       3.24058226e-04, 6.48116452e-04, 0.00000000e+00, 2.26840758e-03,\n",
       "       2.59246581e-03, 0.00000000e+00, 0.00000000e+00, 0.00000000e+00,\n",
       "       0.00000000e+00, 1.94434935e-03, 4.08313364e-02, 0.00000000e+00,\n",
       "       9.72174677e-04, 1.62029113e-03, 6.48116452e-03, 6.48116452e-04])"
      ]
     },
     "execution_count": 175,
     "metadata": {},
     "output_type": "execute_result"
    }
   ],
   "source": [
    "ns_sr_rep['nytimes.com'][0]"
   ]
  },
  {
   "cell_type": "markdown",
   "metadata": {},
   "source": [
    "## K-Means\n",
    "\n",
    "First, I need to find optimum `k`."
   ]
  },
  {
   "cell_type": "code",
   "execution_count": 176,
   "metadata": {},
   "outputs": [],
   "source": [
    "kmeans = KMeans(init = \"random\",\n",
    "               n_clusters = 5,\n",
    "               n_init = 10,\n",
    "               max_iter = 100)"
   ]
  },
  {
   "cell_type": "markdown",
   "metadata": {},
   "source": [
    "Freezing the list for representations and the news sources."
   ]
  },
  {
   "cell_type": "code",
   "execution_count": 177,
   "metadata": {
    "collapsed": true
   },
   "outputs": [
    {
     "data": {
      "text/plain": [
       "('espn.com',\n",
       " array([[0.00000000e+00, 1.01818659e-03, 0.00000000e+00, 0.00000000e+00,\n",
       "         0.00000000e+00, 2.03637317e-03, 0.00000000e+00, 3.39395529e-04,\n",
       "         0.00000000e+00, 8.48488823e-03, 1.28970301e-02, 0.00000000e+00,\n",
       "         0.00000000e+00, 0.00000000e+00, 0.00000000e+00, 0.00000000e+00,\n",
       "         0.00000000e+00, 0.00000000e+00, 0.00000000e+00, 0.00000000e+00,\n",
       "         0.00000000e+00, 0.00000000e+00, 5.83760310e-02, 5.09093294e-03,\n",
       "         0.00000000e+00, 0.00000000e+00, 3.39395529e-04, 0.00000000e+00,\n",
       "         3.39395529e-04, 0.00000000e+00, 1.01818659e-03, 0.00000000e+00,\n",
       "         0.00000000e+00, 0.00000000e+00, 0.00000000e+00, 3.39395529e-04,\n",
       "         0.00000000e+00, 0.00000000e+00, 0.00000000e+00, 0.00000000e+00,\n",
       "         0.00000000e+00, 3.39395529e-04, 0.00000000e+00, 1.01818659e-03,\n",
       "         0.00000000e+00, 0.00000000e+00, 0.00000000e+00, 6.44851505e-03,\n",
       "         0.00000000e+00, 3.39395529e-04, 0.00000000e+00, 0.00000000e+00,\n",
       "         6.78791058e-04, 0.00000000e+00, 0.00000000e+00, 0.00000000e+00,\n",
       "         0.00000000e+00, 0.00000000e+00, 0.00000000e+00, 0.00000000e+00,\n",
       "         0.00000000e+00, 0.00000000e+00, 2.68122468e-01, 0.00000000e+00,\n",
       "         0.00000000e+00, 0.00000000e+00, 0.00000000e+00, 0.00000000e+00,\n",
       "         0.00000000e+00, 0.00000000e+00, 0.00000000e+00, 0.00000000e+00,\n",
       "         0.00000000e+00, 0.00000000e+00, 3.39395529e-04, 0.00000000e+00,\n",
       "         0.00000000e+00, 0.00000000e+00, 0.00000000e+00, 0.00000000e+00,\n",
       "         0.00000000e+00, 0.00000000e+00, 3.39395529e-04, 3.39395529e-04,\n",
       "         0.00000000e+00, 0.00000000e+00, 0.00000000e+00, 3.39395529e-04,\n",
       "         0.00000000e+00, 0.00000000e+00, 3.39395529e-04, 0.00000000e+00,\n",
       "         0.00000000e+00, 3.39395529e-04, 0.00000000e+00, 0.00000000e+00,\n",
       "         0.00000000e+00, 0.00000000e+00, 0.00000000e+00, 0.00000000e+00,\n",
       "         0.00000000e+00, 0.00000000e+00, 0.00000000e+00, 0.00000000e+00,\n",
       "         0.00000000e+00, 4.41214188e-03, 3.39395529e-04, 0.00000000e+00,\n",
       "         0.00000000e+00, 0.00000000e+00, 4.14401941e-01, 0.00000000e+00,\n",
       "         0.00000000e+00, 0.00000000e+00, 0.00000000e+00, 0.00000000e+00,\n",
       "         0.00000000e+00, 3.39395529e-04, 0.00000000e+00, 0.00000000e+00,\n",
       "         0.00000000e+00, 0.00000000e+00, 1.15394480e-01, 0.00000000e+00,\n",
       "         0.00000000e+00, 0.00000000e+00, 0.00000000e+00, 0.00000000e+00,\n",
       "         3.39395529e-04, 0.00000000e+00, 3.39395529e-04, 0.00000000e+00,\n",
       "         0.00000000e+00, 0.00000000e+00, 0.00000000e+00, 0.00000000e+00,\n",
       "         0.00000000e+00, 0.00000000e+00, 0.00000000e+00, 0.00000000e+00,\n",
       "         0.00000000e+00, 0.00000000e+00, 3.39395529e-04, 0.00000000e+00,\n",
       "         0.00000000e+00, 0.00000000e+00, 0.00000000e+00, 0.00000000e+00,\n",
       "         3.39395529e-04, 0.00000000e+00, 0.00000000e+00, 0.00000000e+00,\n",
       "         0.00000000e+00, 0.00000000e+00, 0.00000000e+00, 0.00000000e+00,\n",
       "         0.00000000e+00, 0.00000000e+00, 0.00000000e+00, 0.00000000e+00,\n",
       "         0.00000000e+00, 0.00000000e+00, 0.00000000e+00, 6.78791058e-04,\n",
       "         6.78791058e-04, 3.39395529e-04, 0.00000000e+00, 0.00000000e+00,\n",
       "         0.00000000e+00, 0.00000000e+00, 0.00000000e+00, 0.00000000e+00,\n",
       "         0.00000000e+00, 0.00000000e+00, 0.00000000e+00, 0.00000000e+00,\n",
       "         0.00000000e+00, 6.78791058e-04, 0.00000000e+00, 0.00000000e+00,\n",
       "         0.00000000e+00, 0.00000000e+00, 0.00000000e+00, 0.00000000e+00,\n",
       "         0.00000000e+00, 0.00000000e+00, 3.39395529e-04, 0.00000000e+00,\n",
       "         0.00000000e+00, 0.00000000e+00, 0.00000000e+00, 0.00000000e+00,\n",
       "         0.00000000e+00, 0.00000000e+00, 0.00000000e+00, 0.00000000e+00,\n",
       "         0.00000000e+00, 0.00000000e+00, 0.00000000e+00, 0.00000000e+00,\n",
       "         0.00000000e+00, 0.00000000e+00, 0.00000000e+00, 0.00000000e+00,\n",
       "         1.35758212e-03, 0.00000000e+00, 0.00000000e+00, 0.00000000e+00,\n",
       "         0.00000000e+00, 0.00000000e+00, 0.00000000e+00, 8.48488823e-01,\n",
       "         0.00000000e+00, 1.69697765e-03, 0.00000000e+00, 0.00000000e+00,\n",
       "         4.98911428e-02, 0.00000000e+00, 0.00000000e+00, 0.00000000e+00,\n",
       "         0.00000000e+00, 0.00000000e+00, 0.00000000e+00, 0.00000000e+00,\n",
       "         0.00000000e+00, 0.00000000e+00, 0.00000000e+00, 0.00000000e+00,\n",
       "         0.00000000e+00, 0.00000000e+00, 0.00000000e+00, 0.00000000e+00,\n",
       "         0.00000000e+00, 0.00000000e+00, 0.00000000e+00, 0.00000000e+00,\n",
       "         2.64728513e-02, 0.00000000e+00, 0.00000000e+00, 0.00000000e+00,\n",
       "         0.00000000e+00, 0.00000000e+00, 0.00000000e+00, 0.00000000e+00,\n",
       "         0.00000000e+00, 0.00000000e+00, 0.00000000e+00, 0.00000000e+00,\n",
       "         0.00000000e+00, 0.00000000e+00, 0.00000000e+00, 6.78791058e-04,\n",
       "         0.00000000e+00, 3.39395529e-04, 0.00000000e+00, 0.00000000e+00,\n",
       "         0.00000000e+00, 0.00000000e+00, 0.00000000e+00, 0.00000000e+00,\n",
       "         0.00000000e+00, 1.01818659e-03, 0.00000000e+00, 0.00000000e+00,\n",
       "         0.00000000e+00, 0.00000000e+00, 0.00000000e+00, 1.49334033e-02,\n",
       "         0.00000000e+00, 0.00000000e+00, 0.00000000e+00, 0.00000000e+00,\n",
       "         0.00000000e+00, 0.00000000e+00, 0.00000000e+00, 0.00000000e+00,\n",
       "         0.00000000e+00, 0.00000000e+00, 0.00000000e+00, 0.00000000e+00,\n",
       "         0.00000000e+00, 0.00000000e+00, 0.00000000e+00, 0.00000000e+00,\n",
       "         0.00000000e+00, 0.00000000e+00, 0.00000000e+00, 0.00000000e+00,\n",
       "         0.00000000e+00, 0.00000000e+00, 4.07274635e-03, 0.00000000e+00,\n",
       "         0.00000000e+00, 0.00000000e+00, 0.00000000e+00, 0.00000000e+00,\n",
       "         0.00000000e+00, 0.00000000e+00, 0.00000000e+00, 0.00000000e+00,\n",
       "         0.00000000e+00, 0.00000000e+00, 0.00000000e+00, 0.00000000e+00,\n",
       "         0.00000000e+00, 0.00000000e+00, 0.00000000e+00, 0.00000000e+00,\n",
       "         0.00000000e+00, 0.00000000e+00, 0.00000000e+00, 0.00000000e+00,\n",
       "         0.00000000e+00, 0.00000000e+00, 0.00000000e+00, 0.00000000e+00,\n",
       "         0.00000000e+00, 1.17091458e-01, 0.00000000e+00, 0.00000000e+00,\n",
       "         0.00000000e+00, 0.00000000e+00, 0.00000000e+00, 0.00000000e+00,\n",
       "         0.00000000e+00, 0.00000000e+00, 0.00000000e+00, 0.00000000e+00,\n",
       "         0.00000000e+00, 0.00000000e+00, 0.00000000e+00, 0.00000000e+00,\n",
       "         0.00000000e+00, 0.00000000e+00, 0.00000000e+00, 0.00000000e+00,\n",
       "         0.00000000e+00, 0.00000000e+00, 0.00000000e+00, 0.00000000e+00,\n",
       "         0.00000000e+00, 0.00000000e+00, 0.00000000e+00, 0.00000000e+00,\n",
       "         0.00000000e+00, 0.00000000e+00, 0.00000000e+00, 0.00000000e+00,\n",
       "         0.00000000e+00, 0.00000000e+00, 8.14549270e-03, 0.00000000e+00,\n",
       "         6.78791058e-04, 0.00000000e+00, 0.00000000e+00, 0.00000000e+00,\n",
       "         0.00000000e+00, 0.00000000e+00, 0.00000000e+00, 3.39395529e-04,\n",
       "         0.00000000e+00, 0.00000000e+00, 0.00000000e+00, 0.00000000e+00,\n",
       "         0.00000000e+00, 0.00000000e+00, 3.39395529e-04, 0.00000000e+00,\n",
       "         0.00000000e+00, 0.00000000e+00, 0.00000000e+00, 0.00000000e+00,\n",
       "         0.00000000e+00, 0.00000000e+00, 0.00000000e+00, 0.00000000e+00,\n",
       "         3.39395529e-04, 0.00000000e+00, 0.00000000e+00, 0.00000000e+00,\n",
       "         0.00000000e+00, 0.00000000e+00, 0.00000000e+00, 0.00000000e+00,\n",
       "         0.00000000e+00, 0.00000000e+00, 0.00000000e+00, 0.00000000e+00,\n",
       "         0.00000000e+00, 0.00000000e+00, 0.00000000e+00, 0.00000000e+00,\n",
       "         0.00000000e+00, 0.00000000e+00, 0.00000000e+00, 0.00000000e+00,\n",
       "         0.00000000e+00, 0.00000000e+00, 0.00000000e+00, 0.00000000e+00,\n",
       "         0.00000000e+00, 0.00000000e+00, 0.00000000e+00, 0.00000000e+00,\n",
       "         0.00000000e+00, 0.00000000e+00, 0.00000000e+00, 0.00000000e+00,\n",
       "         0.00000000e+00, 0.00000000e+00, 0.00000000e+00, 0.00000000e+00,\n",
       "         0.00000000e+00, 0.00000000e+00, 0.00000000e+00, 0.00000000e+00,\n",
       "         0.00000000e+00, 0.00000000e+00, 0.00000000e+00, 0.00000000e+00,\n",
       "         0.00000000e+00, 0.00000000e+00, 0.00000000e+00, 0.00000000e+00,\n",
       "         0.00000000e+00, 0.00000000e+00, 0.00000000e+00, 0.00000000e+00,\n",
       "         0.00000000e+00, 0.00000000e+00, 0.00000000e+00, 0.00000000e+00,\n",
       "         7.12730611e-03, 0.00000000e+00, 0.00000000e+00, 0.00000000e+00,\n",
       "         0.00000000e+00, 1.01818659e-03, 0.00000000e+00, 0.00000000e+00,\n",
       "         0.00000000e+00, 0.00000000e+00, 0.00000000e+00, 3.39395529e-04,\n",
       "         0.00000000e+00, 0.00000000e+00, 1.35758212e-02, 0.00000000e+00,\n",
       "         0.00000000e+00, 0.00000000e+00, 0.00000000e+00, 0.00000000e+00,\n",
       "         0.00000000e+00, 0.00000000e+00, 0.00000000e+00, 0.00000000e+00,\n",
       "         0.00000000e+00, 0.00000000e+00, 0.00000000e+00, 0.00000000e+00,\n",
       "         0.00000000e+00, 0.00000000e+00, 0.00000000e+00, 0.00000000e+00,\n",
       "         0.00000000e+00, 0.00000000e+00, 0.00000000e+00, 0.00000000e+00,\n",
       "         2.03637317e-03, 0.00000000e+00, 0.00000000e+00, 0.00000000e+00,\n",
       "         0.00000000e+00, 0.00000000e+00, 0.00000000e+00, 0.00000000e+00,\n",
       "         0.00000000e+00, 0.00000000e+00, 0.00000000e+00, 0.00000000e+00,\n",
       "         0.00000000e+00, 0.00000000e+00, 0.00000000e+00, 0.00000000e+00,\n",
       "         0.00000000e+00, 0.00000000e+00, 0.00000000e+00, 0.00000000e+00,\n",
       "         0.00000000e+00, 0.00000000e+00, 0.00000000e+00, 0.00000000e+00,\n",
       "         0.00000000e+00, 0.00000000e+00, 0.00000000e+00, 0.00000000e+00,\n",
       "         0.00000000e+00, 0.00000000e+00, 2.37576870e-03, 0.00000000e+00,\n",
       "         0.00000000e+00, 0.00000000e+00, 0.00000000e+00, 0.00000000e+00,\n",
       "         0.00000000e+00, 1.39152167e-02, 0.00000000e+00, 0.00000000e+00,\n",
       "         0.00000000e+00, 0.00000000e+00, 0.00000000e+00, 0.00000000e+00,\n",
       "         0.00000000e+00, 0.00000000e+00, 0.00000000e+00, 0.00000000e+00,\n",
       "         0.00000000e+00, 0.00000000e+00, 0.00000000e+00, 0.00000000e+00,\n",
       "         0.00000000e+00, 0.00000000e+00, 6.78791058e-04, 0.00000000e+00,\n",
       "         0.00000000e+00, 0.00000000e+00, 0.00000000e+00, 0.00000000e+00,\n",
       "         0.00000000e+00, 0.00000000e+00, 0.00000000e+00, 5.09093294e-03,\n",
       "         0.00000000e+00, 0.00000000e+00, 0.00000000e+00, 0.00000000e+00,\n",
       "         6.78791058e-04, 0.00000000e+00, 0.00000000e+00, 0.00000000e+00,\n",
       "         3.39395529e-04, 0.00000000e+00, 0.00000000e+00, 0.00000000e+00,\n",
       "         0.00000000e+00, 0.00000000e+00, 0.00000000e+00, 1.35758212e-03,\n",
       "         0.00000000e+00, 0.00000000e+00, 0.00000000e+00, 2.03637317e-03,\n",
       "         0.00000000e+00, 0.00000000e+00, 0.00000000e+00, 0.00000000e+00,\n",
       "         0.00000000e+00, 0.00000000e+00, 0.00000000e+00, 0.00000000e+00,\n",
       "         0.00000000e+00, 0.00000000e+00, 0.00000000e+00, 0.00000000e+00,\n",
       "         0.00000000e+00, 0.00000000e+00, 0.00000000e+00, 0.00000000e+00,\n",
       "         0.00000000e+00, 0.00000000e+00, 0.00000000e+00, 0.00000000e+00,\n",
       "         0.00000000e+00, 0.00000000e+00, 0.00000000e+00, 0.00000000e+00,\n",
       "         0.00000000e+00, 5.09093294e-03, 0.00000000e+00, 0.00000000e+00,\n",
       "         0.00000000e+00, 0.00000000e+00, 0.00000000e+00, 0.00000000e+00,\n",
       "         0.00000000e+00, 0.00000000e+00, 0.00000000e+00, 3.39395529e-04,\n",
       "         0.00000000e+00, 0.00000000e+00, 0.00000000e+00, 0.00000000e+00,\n",
       "         0.00000000e+00, 0.00000000e+00, 0.00000000e+00, 0.00000000e+00,\n",
       "         0.00000000e+00, 0.00000000e+00, 0.00000000e+00, 0.00000000e+00,\n",
       "         0.00000000e+00, 0.00000000e+00, 0.00000000e+00, 0.00000000e+00,\n",
       "         0.00000000e+00, 0.00000000e+00, 0.00000000e+00, 0.00000000e+00,\n",
       "         0.00000000e+00, 0.00000000e+00, 0.00000000e+00, 0.00000000e+00,\n",
       "         0.00000000e+00, 0.00000000e+00, 0.00000000e+00, 0.00000000e+00,\n",
       "         0.00000000e+00, 0.00000000e+00, 0.00000000e+00, 0.00000000e+00,\n",
       "         0.00000000e+00, 6.78791058e-04, 0.00000000e+00, 0.00000000e+00,\n",
       "         0.00000000e+00, 0.00000000e+00, 0.00000000e+00, 0.00000000e+00,\n",
       "         0.00000000e+00, 0.00000000e+00, 0.00000000e+00, 0.00000000e+00,\n",
       "         0.00000000e+00, 0.00000000e+00, 0.00000000e+00, 0.00000000e+00,\n",
       "         0.00000000e+00, 0.00000000e+00, 0.00000000e+00, 0.00000000e+00,\n",
       "         0.00000000e+00, 0.00000000e+00, 0.00000000e+00, 0.00000000e+00,\n",
       "         0.00000000e+00, 0.00000000e+00, 0.00000000e+00, 0.00000000e+00,\n",
       "         0.00000000e+00, 0.00000000e+00, 0.00000000e+00, 5.76972399e-03,\n",
       "         0.00000000e+00, 0.00000000e+00, 3.39395529e-04, 0.00000000e+00,\n",
       "         0.00000000e+00, 0.00000000e+00, 0.00000000e+00, 0.00000000e+00,\n",
       "         0.00000000e+00, 0.00000000e+00, 0.00000000e+00, 0.00000000e+00,\n",
       "         3.05455976e-03, 0.00000000e+00, 0.00000000e+00, 0.00000000e+00,\n",
       "         0.00000000e+00, 0.00000000e+00, 0.00000000e+00, 0.00000000e+00,\n",
       "         0.00000000e+00, 0.00000000e+00, 0.00000000e+00, 0.00000000e+00,\n",
       "         0.00000000e+00, 0.00000000e+00, 0.00000000e+00, 0.00000000e+00,\n",
       "         0.00000000e+00, 0.00000000e+00, 0.00000000e+00, 0.00000000e+00,\n",
       "         3.39395529e-04, 0.00000000e+00, 0.00000000e+00, 0.00000000e+00,\n",
       "         0.00000000e+00, 3.39395529e-04, 0.00000000e+00, 0.00000000e+00,\n",
       "         0.00000000e+00, 0.00000000e+00, 0.00000000e+00, 0.00000000e+00,\n",
       "         0.00000000e+00, 0.00000000e+00, 0.00000000e+00, 0.00000000e+00,\n",
       "         0.00000000e+00, 0.00000000e+00, 0.00000000e+00, 0.00000000e+00,\n",
       "         0.00000000e+00, 0.00000000e+00, 0.00000000e+00, 7.46670164e-03,\n",
       "         0.00000000e+00, 0.00000000e+00, 0.00000000e+00, 3.39395529e-04,\n",
       "         2.17213139e-02, 0.00000000e+00, 0.00000000e+00, 0.00000000e+00,\n",
       "         0.00000000e+00, 0.00000000e+00, 0.00000000e+00, 0.00000000e+00,\n",
       "         0.00000000e+00, 0.00000000e+00, 0.00000000e+00, 0.00000000e+00,\n",
       "         0.00000000e+00, 0.00000000e+00, 0.00000000e+00, 0.00000000e+00,\n",
       "         0.00000000e+00, 0.00000000e+00, 0.00000000e+00, 0.00000000e+00,\n",
       "         0.00000000e+00, 0.00000000e+00, 0.00000000e+00, 0.00000000e+00,\n",
       "         0.00000000e+00, 0.00000000e+00, 0.00000000e+00, 0.00000000e+00,\n",
       "         1.01818659e-03, 0.00000000e+00, 0.00000000e+00, 0.00000000e+00,\n",
       "         0.00000000e+00, 0.00000000e+00, 0.00000000e+00, 0.00000000e+00,\n",
       "         0.00000000e+00, 0.00000000e+00, 6.78791058e-04, 0.00000000e+00,\n",
       "         0.00000000e+00, 0.00000000e+00, 0.00000000e+00, 0.00000000e+00,\n",
       "         0.00000000e+00, 0.00000000e+00, 0.00000000e+00, 0.00000000e+00,\n",
       "         0.00000000e+00, 0.00000000e+00, 0.00000000e+00, 0.00000000e+00,\n",
       "         0.00000000e+00, 0.00000000e+00, 0.00000000e+00, 7.46670164e-03,\n",
       "         0.00000000e+00, 0.00000000e+00, 2.30788960e-02, 0.00000000e+00,\n",
       "         0.00000000e+00, 0.00000000e+00, 0.00000000e+00, 0.00000000e+00,\n",
       "         0.00000000e+00, 0.00000000e+00, 0.00000000e+00, 0.00000000e+00,\n",
       "         0.00000000e+00, 0.00000000e+00, 0.00000000e+00, 0.00000000e+00,\n",
       "         0.00000000e+00, 0.00000000e+00, 0.00000000e+00, 0.00000000e+00,\n",
       "         0.00000000e+00, 0.00000000e+00, 0.00000000e+00, 0.00000000e+00,\n",
       "         0.00000000e+00, 0.00000000e+00, 0.00000000e+00, 2.00243362e-02,\n",
       "         0.00000000e+00, 0.00000000e+00, 0.00000000e+00, 0.00000000e+00,\n",
       "         0.00000000e+00, 0.00000000e+00, 0.00000000e+00, 0.00000000e+00,\n",
       "         0.00000000e+00, 0.00000000e+00, 0.00000000e+00, 0.00000000e+00,\n",
       "         0.00000000e+00, 0.00000000e+00, 0.00000000e+00, 0.00000000e+00,\n",
       "         0.00000000e+00, 0.00000000e+00, 0.00000000e+00, 0.00000000e+00,\n",
       "         0.00000000e+00, 0.00000000e+00, 0.00000000e+00, 0.00000000e+00,\n",
       "         3.39395529e-04, 0.00000000e+00, 3.39395529e-04, 0.00000000e+00,\n",
       "         0.00000000e+00, 0.00000000e+00, 0.00000000e+00, 0.00000000e+00,\n",
       "         0.00000000e+00, 0.00000000e+00, 3.39395529e-04, 0.00000000e+00,\n",
       "         0.00000000e+00, 0.00000000e+00, 0.00000000e+00, 0.00000000e+00,\n",
       "         3.39395529e-04, 0.00000000e+00, 0.00000000e+00, 0.00000000e+00,\n",
       "         0.00000000e+00, 0.00000000e+00, 0.00000000e+00, 0.00000000e+00,\n",
       "         0.00000000e+00, 0.00000000e+00, 0.00000000e+00, 0.00000000e+00,\n",
       "         0.00000000e+00, 0.00000000e+00, 0.00000000e+00, 0.00000000e+00,\n",
       "         0.00000000e+00, 0.00000000e+00, 0.00000000e+00, 0.00000000e+00,\n",
       "         0.00000000e+00, 0.00000000e+00, 0.00000000e+00, 0.00000000e+00,\n",
       "         8.48488823e-03, 0.00000000e+00, 0.00000000e+00, 0.00000000e+00,\n",
       "         0.00000000e+00, 0.00000000e+00, 0.00000000e+00, 0.00000000e+00,\n",
       "         0.00000000e+00, 0.00000000e+00, 0.00000000e+00, 0.00000000e+00,\n",
       "         0.00000000e+00, 0.00000000e+00, 0.00000000e+00, 0.00000000e+00,\n",
       "         0.00000000e+00, 0.00000000e+00, 0.00000000e+00, 0.00000000e+00,\n",
       "         0.00000000e+00, 0.00000000e+00, 0.00000000e+00, 0.00000000e+00,\n",
       "         0.00000000e+00, 0.00000000e+00, 0.00000000e+00, 0.00000000e+00,\n",
       "         0.00000000e+00, 0.00000000e+00, 0.00000000e+00, 3.39395529e-04,\n",
       "         0.00000000e+00, 0.00000000e+00, 0.00000000e+00, 0.00000000e+00,\n",
       "         0.00000000e+00, 5.76972399e-03, 0.00000000e+00, 0.00000000e+00,\n",
       "         0.00000000e+00, 0.00000000e+00, 0.00000000e+00, 0.00000000e+00,\n",
       "         0.00000000e+00, 0.00000000e+00, 0.00000000e+00, 0.00000000e+00,\n",
       "         0.00000000e+00, 0.00000000e+00, 3.39395529e-04, 0.00000000e+00,\n",
       "         0.00000000e+00, 0.00000000e+00, 0.00000000e+00, 0.00000000e+00,\n",
       "         0.00000000e+00, 0.00000000e+00, 0.00000000e+00, 0.00000000e+00,\n",
       "         0.00000000e+00, 0.00000000e+00, 0.00000000e+00, 0.00000000e+00,\n",
       "         0.00000000e+00, 0.00000000e+00, 0.00000000e+00, 0.00000000e+00,\n",
       "         0.00000000e+00, 0.00000000e+00, 0.00000000e+00, 6.78791058e-04,\n",
       "         0.00000000e+00, 0.00000000e+00, 0.00000000e+00, 0.00000000e+00,\n",
       "         0.00000000e+00, 0.00000000e+00, 3.39395529e-04, 0.00000000e+00,\n",
       "         1.35758212e-03, 0.00000000e+00, 0.00000000e+00, 0.00000000e+00,\n",
       "         0.00000000e+00, 0.00000000e+00, 0.00000000e+00, 0.00000000e+00,\n",
       "         0.00000000e+00, 0.00000000e+00, 0.00000000e+00, 0.00000000e+00,\n",
       "         0.00000000e+00, 0.00000000e+00, 0.00000000e+00, 0.00000000e+00,\n",
       "         0.00000000e+00, 0.00000000e+00, 0.00000000e+00, 0.00000000e+00,\n",
       "         1.01818659e-03, 0.00000000e+00, 0.00000000e+00, 0.00000000e+00,\n",
       "         0.00000000e+00, 0.00000000e+00, 0.00000000e+00, 0.00000000e+00,\n",
       "         0.00000000e+00, 0.00000000e+00, 0.00000000e+00, 0.00000000e+00,\n",
       "         0.00000000e+00, 0.00000000e+00, 0.00000000e+00, 0.00000000e+00,\n",
       "         0.00000000e+00, 2.03637317e-03, 0.00000000e+00, 0.00000000e+00,\n",
       "         0.00000000e+00, 0.00000000e+00, 0.00000000e+00, 0.00000000e+00,\n",
       "         0.00000000e+00, 3.39395529e-04, 0.00000000e+00, 0.00000000e+00,\n",
       "         0.00000000e+00, 0.00000000e+00, 0.00000000e+00, 0.00000000e+00,\n",
       "         0.00000000e+00, 0.00000000e+00, 0.00000000e+00, 0.00000000e+00,\n",
       "         0.00000000e+00, 0.00000000e+00, 0.00000000e+00, 0.00000000e+00]]))"
      ]
     },
     "execution_count": 177,
     "metadata": {},
     "output_type": "execute_result"
    }
   ],
   "source": [
    "items = list(ns_sr_rep.items())\n",
    "items[0]"
   ]
  },
  {
   "cell_type": "code",
   "execution_count": 178,
   "metadata": {},
   "outputs": [],
   "source": [
    "ns_repr, ns_fixed = np.array([v[1][0] for v in items]), list([v[0] for v in items])"
   ]
  },
  {
   "cell_type": "code",
   "execution_count": 179,
   "metadata": {},
   "outputs": [
    {
     "data": {
      "text/plain": [
       "KMeans(init='random', max_iter=100, n_clusters=5)"
      ]
     },
     "execution_count": 179,
     "metadata": {},
     "output_type": "execute_result"
    }
   ],
   "source": [
    "kmeans.fit([v[0] for v in ns_sr_rep.values()])"
   ]
  },
  {
   "cell_type": "code",
   "execution_count": 180,
   "metadata": {},
   "outputs": [
    {
     "name": "stdout",
     "output_type": "stream",
     "text": [
      "True\n"
     ]
    }
   ],
   "source": [
    "for i,ns in enumerate(ns_fixed):\n",
    "    if (ns_sr_rep[ns][0] == ns_repr[i]).all():\n",
    "        pass\n",
    "    else:\n",
    "        print(\"False\")\n",
    "print(\"True\")"
   ]
  },
  {
   "cell_type": "code",
   "execution_count": 181,
   "metadata": {},
   "outputs": [
    {
     "data": {
      "text/plain": [
       "2399.918292059307"
      ]
     },
     "execution_count": 181,
     "metadata": {},
     "output_type": "execute_result"
    }
   ],
   "source": [
    "kmeans.inertia_"
   ]
  },
  {
   "cell_type": "code",
   "execution_count": 182,
   "metadata": {},
   "outputs": [
    {
     "data": {
      "text/plain": [
       "15"
      ]
     },
     "execution_count": 182,
     "metadata": {},
     "output_type": "execute_result"
    }
   ],
   "source": [
    "kmeans.n_iter_"
   ]
  },
  {
   "cell_type": "code",
   "execution_count": 183,
   "metadata": {},
   "outputs": [
    {
     "data": {
      "text/plain": [
       "array([0, 0, 1, 4, 0, 0, 0, 2, 0, 0])"
      ]
     },
     "execution_count": 183,
     "metadata": {},
     "output_type": "execute_result"
    }
   ],
   "source": [
    "kmeans.labels_[:10]"
   ]
  },
  {
   "cell_type": "markdown",
   "metadata": {},
   "source": [
    "**Choosing the appropriate number of clusters**"
   ]
  },
  {
   "cell_type": "markdown",
   "metadata": {},
   "source": [
    "1. Elbow method"
   ]
  },
  {
   "cell_type": "code",
   "execution_count": 184,
   "metadata": {},
   "outputs": [],
   "source": [
    "kmeans_kwargs = {\n",
    "    \"init\": \"random\",\n",
    "    \"n_init\": 10,\n",
    "    \"max_iter\": 300,\n",
    "}"
   ]
  },
  {
   "cell_type": "code",
   "execution_count": 185,
   "metadata": {
    "scrolled": true
   },
   "outputs": [
    {
     "name": "stdout",
     "output_type": "stream",
     "text": [
      "have done 1 rounds, current sse is [2943.6344643839093]\n",
      "have done 2 rounds, current sse is [2943.6344643839093, 2678.640642515994]\n",
      "have done 3 rounds, current sse is [2943.6344643839093, 2678.640642515994, 2565.39271463374]\n",
      "have done 4 rounds, current sse is [2943.6344643839093, 2678.640642515994, 2565.39271463374, 2480.2820974815036]\n",
      "have done 5 rounds, current sse is [2943.6344643839093, 2678.640642515994, 2565.39271463374, 2480.2820974815036, 2458.0611253557595]\n",
      "have done 6 rounds, current sse is [2943.6344643839093, 2678.640642515994, 2565.39271463374, 2480.2820974815036, 2458.0611253557595, 2385.673485237026]\n",
      "have done 7 rounds, current sse is [2943.6344643839093, 2678.640642515994, 2565.39271463374, 2480.2820974815036, 2458.0611253557595, 2385.673485237026, 2343.275119688415]\n",
      "have done 8 rounds, current sse is [2943.6344643839093, 2678.640642515994, 2565.39271463374, 2480.2820974815036, 2458.0611253557595, 2385.673485237026, 2343.275119688415, 2325.3960805657657]\n",
      "have done 9 rounds, current sse is [2943.6344643839093, 2678.640642515994, 2565.39271463374, 2480.2820974815036, 2458.0611253557595, 2385.673485237026, 2343.275119688415, 2325.3960805657657, 2257.7867764632247]\n",
      "have done 10 rounds, current sse is [2943.6344643839093, 2678.640642515994, 2565.39271463374, 2480.2820974815036, 2458.0611253557595, 2385.673485237026, 2343.275119688415, 2325.3960805657657, 2257.7867764632247, 2223.968462004751]\n",
      "have done 11 rounds, current sse is [2943.6344643839093, 2678.640642515994, 2565.39271463374, 2480.2820974815036, 2458.0611253557595, 2385.673485237026, 2343.275119688415, 2325.3960805657657, 2257.7867764632247, 2223.968462004751, 2121.3687862292804]\n",
      "have done 12 rounds, current sse is [2943.6344643839093, 2678.640642515994, 2565.39271463374, 2480.2820974815036, 2458.0611253557595, 2385.673485237026, 2343.275119688415, 2325.3960805657657, 2257.7867764632247, 2223.968462004751, 2121.3687862292804, 2098.5189062696427]\n",
      "have done 13 rounds, current sse is [2943.6344643839093, 2678.640642515994, 2565.39271463374, 2480.2820974815036, 2458.0611253557595, 2385.673485237026, 2343.275119688415, 2325.3960805657657, 2257.7867764632247, 2223.968462004751, 2121.3687862292804, 2098.5189062696427, 2103.2104597408893]\n",
      "have done 14 rounds, current sse is [2943.6344643839093, 2678.640642515994, 2565.39271463374, 2480.2820974815036, 2458.0611253557595, 2385.673485237026, 2343.275119688415, 2325.3960805657657, 2257.7867764632247, 2223.968462004751, 2121.3687862292804, 2098.5189062696427, 2103.2104597408893, 2164.9071489456164]\n",
      "have done 15 rounds, current sse is [2943.6344643839093, 2678.640642515994, 2565.39271463374, 2480.2820974815036, 2458.0611253557595, 2385.673485237026, 2343.275119688415, 2325.3960805657657, 2257.7867764632247, 2223.968462004751, 2121.3687862292804, 2098.5189062696427, 2103.2104597408893, 2164.9071489456164, 2066.651528761099]\n",
      "have done 16 rounds, current sse is [2943.6344643839093, 2678.640642515994, 2565.39271463374, 2480.2820974815036, 2458.0611253557595, 2385.673485237026, 2343.275119688415, 2325.3960805657657, 2257.7867764632247, 2223.968462004751, 2121.3687862292804, 2098.5189062696427, 2103.2104597408893, 2164.9071489456164, 2066.651528761099, 2005.514092634354]\n",
      "have done 17 rounds, current sse is [2943.6344643839093, 2678.640642515994, 2565.39271463374, 2480.2820974815036, 2458.0611253557595, 2385.673485237026, 2343.275119688415, 2325.3960805657657, 2257.7867764632247, 2223.968462004751, 2121.3687862292804, 2098.5189062696427, 2103.2104597408893, 2164.9071489456164, 2066.651528761099, 2005.514092634354, 1972.936119556704]\n",
      "have done 18 rounds, current sse is [2943.6344643839093, 2678.640642515994, 2565.39271463374, 2480.2820974815036, 2458.0611253557595, 2385.673485237026, 2343.275119688415, 2325.3960805657657, 2257.7867764632247, 2223.968462004751, 2121.3687862292804, 2098.5189062696427, 2103.2104597408893, 2164.9071489456164, 2066.651528761099, 2005.514092634354, 1972.936119556704, 1877.8847409353004]\n",
      "have done 19 rounds, current sse is [2943.6344643839093, 2678.640642515994, 2565.39271463374, 2480.2820974815036, 2458.0611253557595, 2385.673485237026, 2343.275119688415, 2325.3960805657657, 2257.7867764632247, 2223.968462004751, 2121.3687862292804, 2098.5189062696427, 2103.2104597408893, 2164.9071489456164, 2066.651528761099, 2005.514092634354, 1972.936119556704, 1877.8847409353004, 1875.7441504843373]\n"
     ]
    }
   ],
   "source": [
    "sse = []\n",
    "for k in range(1,20):\n",
    "    kmeans = KMeans(n_clusters = k, **kmeans_kwargs)\n",
    "    kmeans.fit(ns_repr)\n",
    "    sse.append(kmeans.inertia_)\n",
    "    print(f\"have done {k} rounds, current sse is {sse}\")"
   ]
  },
  {
   "cell_type": "code",
   "execution_count": 186,
   "metadata": {},
   "outputs": [
    {
     "data": {
      "text/plain": [
       "[<matplotlib.lines.Line2D at 0x14d6b6140d0>]"
      ]
     },
     "execution_count": 186,
     "metadata": {},
     "output_type": "execute_result"
    },
    {
     "data": {
      "image/png": "[encoded data removed]",
      "text/plain": [
       "<Figure size 432x288 with 1 Axes>"
      ]
     },
     "metadata": {
      "needs_background": "light"
     },
     "output_type": "display_data"
    }
   ],
   "source": [
    "plt.plot(range(1,20),sse,\"go-\")"
   ]
  },
  {
   "cell_type": "code",
   "execution_count": 187,
   "metadata": {
    "scrolled": true
   },
   "outputs": [
    {
     "name": "stdout",
     "output_type": "stream",
     "text": [
      "have done 20 rounds, current sse is [2943.6344643839093, 2678.640642515994, 2565.39271463374, 2480.2820974815036, 2458.0611253557595, 2385.673485237026, 2343.275119688415, 2325.3960805657657, 2257.7867764632247, 2223.968462004751, 2121.3687862292804, 2098.5189062696427, 2103.2104597408893, 2164.9071489456164, 2066.651528761099, 2005.514092634354, 1972.936119556704, 1877.8847409353004, 1875.7441504843373, 1929.3075242635302]\n",
      "have done 21 rounds, current sse is [2943.6344643839093, 2678.640642515994, 2565.39271463374, 2480.2820974815036, 2458.0611253557595, 2385.673485237026, 2343.275119688415, 2325.3960805657657, 2257.7867764632247, 2223.968462004751, 2121.3687862292804, 2098.5189062696427, 2103.2104597408893, 2164.9071489456164, 2066.651528761099, 2005.514092634354, 1972.936119556704, 1877.8847409353004, 1875.7441504843373, 1929.3075242635302, 1906.5756412063542]\n",
      "have done 22 rounds, current sse is [2943.6344643839093, 2678.640642515994, 2565.39271463374, 2480.2820974815036, 2458.0611253557595, 2385.673485237026, 2343.275119688415, 2325.3960805657657, 2257.7867764632247, 2223.968462004751, 2121.3687862292804, 2098.5189062696427, 2103.2104597408893, 2164.9071489456164, 2066.651528761099, 2005.514092634354, 1972.936119556704, 1877.8847409353004, 1875.7441504843373, 1929.3075242635302, 1906.5756412063542, 1756.6996256259401]\n",
      "have done 23 rounds, current sse is [2943.6344643839093, 2678.640642515994, 2565.39271463374, 2480.2820974815036, 2458.0611253557595, 2385.673485237026, 2343.275119688415, 2325.3960805657657, 2257.7867764632247, 2223.968462004751, 2121.3687862292804, 2098.5189062696427, 2103.2104597408893, 2164.9071489456164, 2066.651528761099, 2005.514092634354, 1972.936119556704, 1877.8847409353004, 1875.7441504843373, 1929.3075242635302, 1906.5756412063542, 1756.6996256259401, 1782.6928246008533]\n",
      "have done 24 rounds, current sse is [2943.6344643839093, 2678.640642515994, 2565.39271463374, 2480.2820974815036, 2458.0611253557595, 2385.673485237026, 2343.275119688415, 2325.3960805657657, 2257.7867764632247, 2223.968462004751, 2121.3687862292804, 2098.5189062696427, 2103.2104597408893, 2164.9071489456164, 2066.651528761099, 2005.514092634354, 1972.936119556704, 1877.8847409353004, 1875.7441504843373, 1929.3075242635302, 1906.5756412063542, 1756.6996256259401, 1782.6928246008533, 1844.8749278674977]\n",
      "have done 25 rounds, current sse is [2943.6344643839093, 2678.640642515994, 2565.39271463374, 2480.2820974815036, 2458.0611253557595, 2385.673485237026, 2343.275119688415, 2325.3960805657657, 2257.7867764632247, 2223.968462004751, 2121.3687862292804, 2098.5189062696427, 2103.2104597408893, 2164.9071489456164, 2066.651528761099, 2005.514092634354, 1972.936119556704, 1877.8847409353004, 1875.7441504843373, 1929.3075242635302, 1906.5756412063542, 1756.6996256259401, 1782.6928246008533, 1844.8749278674977, 1745.963426936437]\n",
      "have done 26 rounds, current sse is [2943.6344643839093, 2678.640642515994, 2565.39271463374, 2480.2820974815036, 2458.0611253557595, 2385.673485237026, 2343.275119688415, 2325.3960805657657, 2257.7867764632247, 2223.968462004751, 2121.3687862292804, 2098.5189062696427, 2103.2104597408893, 2164.9071489456164, 2066.651528761099, 2005.514092634354, 1972.936119556704, 1877.8847409353004, 1875.7441504843373, 1929.3075242635302, 1906.5756412063542, 1756.6996256259401, 1782.6928246008533, 1844.8749278674977, 1745.963426936437, 1810.322727384524]\n",
      "have done 27 rounds, current sse is [2943.6344643839093, 2678.640642515994, 2565.39271463374, 2480.2820974815036, 2458.0611253557595, 2385.673485237026, 2343.275119688415, 2325.3960805657657, 2257.7867764632247, 2223.968462004751, 2121.3687862292804, 2098.5189062696427, 2103.2104597408893, 2164.9071489456164, 2066.651528761099, 2005.514092634354, 1972.936119556704, 1877.8847409353004, 1875.7441504843373, 1929.3075242635302, 1906.5756412063542, 1756.6996256259401, 1782.6928246008533, 1844.8749278674977, 1745.963426936437, 1810.322727384524, 1808.392274310461]\n",
      "have done 28 rounds, current sse is [2943.6344643839093, 2678.640642515994, 2565.39271463374, 2480.2820974815036, 2458.0611253557595, 2385.673485237026, 2343.275119688415, 2325.3960805657657, 2257.7867764632247, 2223.968462004751, 2121.3687862292804, 2098.5189062696427, 2103.2104597408893, 2164.9071489456164, 2066.651528761099, 2005.514092634354, 1972.936119556704, 1877.8847409353004, 1875.7441504843373, 1929.3075242635302, 1906.5756412063542, 1756.6996256259401, 1782.6928246008533, 1844.8749278674977, 1745.963426936437, 1810.322727384524, 1808.392274310461, 1724.6233605674627]\n",
      "have done 29 rounds, current sse is [2943.6344643839093, 2678.640642515994, 2565.39271463374, 2480.2820974815036, 2458.0611253557595, 2385.673485237026, 2343.275119688415, 2325.3960805657657, 2257.7867764632247, 2223.968462004751, 2121.3687862292804, 2098.5189062696427, 2103.2104597408893, 2164.9071489456164, 2066.651528761099, 2005.514092634354, 1972.936119556704, 1877.8847409353004, 1875.7441504843373, 1929.3075242635302, 1906.5756412063542, 1756.6996256259401, 1782.6928246008533, 1844.8749278674977, 1745.963426936437, 1810.322727384524, 1808.392274310461, 1724.6233605674627, 1719.2582353629944]\n",
      "have done 30 rounds, current sse is [2943.6344643839093, 2678.640642515994, 2565.39271463374, 2480.2820974815036, 2458.0611253557595, 2385.673485237026, 2343.275119688415, 2325.3960805657657, 2257.7867764632247, 2223.968462004751, 2121.3687862292804, 2098.5189062696427, 2103.2104597408893, 2164.9071489456164, 2066.651528761099, 2005.514092634354, 1972.936119556704, 1877.8847409353004, 1875.7441504843373, 1929.3075242635302, 1906.5756412063542, 1756.6996256259401, 1782.6928246008533, 1844.8749278674977, 1745.963426936437, 1810.322727384524, 1808.392274310461, 1724.6233605674627, 1719.2582353629944, 1676.0941424532473]\n",
      "have done 31 rounds, current sse is [2943.6344643839093, 2678.640642515994, 2565.39271463374, 2480.2820974815036, 2458.0611253557595, 2385.673485237026, 2343.275119688415, 2325.3960805657657, 2257.7867764632247, 2223.968462004751, 2121.3687862292804, 2098.5189062696427, 2103.2104597408893, 2164.9071489456164, 2066.651528761099, 2005.514092634354, 1972.936119556704, 1877.8847409353004, 1875.7441504843373, 1929.3075242635302, 1906.5756412063542, 1756.6996256259401, 1782.6928246008533, 1844.8749278674977, 1745.963426936437, 1810.322727384524, 1808.392274310461, 1724.6233605674627, 1719.2582353629944, 1676.0941424532473, 1638.5407396756168]\n",
      "have done 32 rounds, current sse is [2943.6344643839093, 2678.640642515994, 2565.39271463374, 2480.2820974815036, 2458.0611253557595, 2385.673485237026, 2343.275119688415, 2325.3960805657657, 2257.7867764632247, 2223.968462004751, 2121.3687862292804, 2098.5189062696427, 2103.2104597408893, 2164.9071489456164, 2066.651528761099, 2005.514092634354, 1972.936119556704, 1877.8847409353004, 1875.7441504843373, 1929.3075242635302, 1906.5756412063542, 1756.6996256259401, 1782.6928246008533, 1844.8749278674977, 1745.963426936437, 1810.322727384524, 1808.392274310461, 1724.6233605674627, 1719.2582353629944, 1676.0941424532473, 1638.5407396756168, 1694.6086651582466]\n",
      "have done 33 rounds, current sse is [2943.6344643839093, 2678.640642515994, 2565.39271463374, 2480.2820974815036, 2458.0611253557595, 2385.673485237026, 2343.275119688415, 2325.3960805657657, 2257.7867764632247, 2223.968462004751, 2121.3687862292804, 2098.5189062696427, 2103.2104597408893, 2164.9071489456164, 2066.651528761099, 2005.514092634354, 1972.936119556704, 1877.8847409353004, 1875.7441504843373, 1929.3075242635302, 1906.5756412063542, 1756.6996256259401, 1782.6928246008533, 1844.8749278674977, 1745.963426936437, 1810.322727384524, 1808.392274310461, 1724.6233605674627, 1719.2582353629944, 1676.0941424532473, 1638.5407396756168, 1694.6086651582466, 1652.558444701545]\n",
      "have done 34 rounds, current sse is [2943.6344643839093, 2678.640642515994, 2565.39271463374, 2480.2820974815036, 2458.0611253557595, 2385.673485237026, 2343.275119688415, 2325.3960805657657, 2257.7867764632247, 2223.968462004751, 2121.3687862292804, 2098.5189062696427, 2103.2104597408893, 2164.9071489456164, 2066.651528761099, 2005.514092634354, 1972.936119556704, 1877.8847409353004, 1875.7441504843373, 1929.3075242635302, 1906.5756412063542, 1756.6996256259401, 1782.6928246008533, 1844.8749278674977, 1745.963426936437, 1810.322727384524, 1808.392274310461, 1724.6233605674627, 1719.2582353629944, 1676.0941424532473, 1638.5407396756168, 1694.6086651582466, 1652.558444701545, 1658.3719351987245]\n"
     ]
    },
    {
     "name": "stdout",
     "output_type": "stream",
     "text": [
      "have done 35 rounds, current sse is [2943.6344643839093, 2678.640642515994, 2565.39271463374, 2480.2820974815036, 2458.0611253557595, 2385.673485237026, 2343.275119688415, 2325.3960805657657, 2257.7867764632247, 2223.968462004751, 2121.3687862292804, 2098.5189062696427, 2103.2104597408893, 2164.9071489456164, 2066.651528761099, 2005.514092634354, 1972.936119556704, 1877.8847409353004, 1875.7441504843373, 1929.3075242635302, 1906.5756412063542, 1756.6996256259401, 1782.6928246008533, 1844.8749278674977, 1745.963426936437, 1810.322727384524, 1808.392274310461, 1724.6233605674627, 1719.2582353629944, 1676.0941424532473, 1638.5407396756168, 1694.6086651582466, 1652.558444701545, 1658.3719351987245, 1636.3922407462019]\n",
      "have done 36 rounds, current sse is [2943.6344643839093, 2678.640642515994, 2565.39271463374, 2480.2820974815036, 2458.0611253557595, 2385.673485237026, 2343.275119688415, 2325.3960805657657, 2257.7867764632247, 2223.968462004751, 2121.3687862292804, 2098.5189062696427, 2103.2104597408893, 2164.9071489456164, 2066.651528761099, 2005.514092634354, 1972.936119556704, 1877.8847409353004, 1875.7441504843373, 1929.3075242635302, 1906.5756412063542, 1756.6996256259401, 1782.6928246008533, 1844.8749278674977, 1745.963426936437, 1810.322727384524, 1808.392274310461, 1724.6233605674627, 1719.2582353629944, 1676.0941424532473, 1638.5407396756168, 1694.6086651582466, 1652.558444701545, 1658.3719351987245, 1636.3922407462019, 1590.54163308332]\n",
      "have done 37 rounds, current sse is [2943.6344643839093, 2678.640642515994, 2565.39271463374, 2480.2820974815036, 2458.0611253557595, 2385.673485237026, 2343.275119688415, 2325.3960805657657, 2257.7867764632247, 2223.968462004751, 2121.3687862292804, 2098.5189062696427, 2103.2104597408893, 2164.9071489456164, 2066.651528761099, 2005.514092634354, 1972.936119556704, 1877.8847409353004, 1875.7441504843373, 1929.3075242635302, 1906.5756412063542, 1756.6996256259401, 1782.6928246008533, 1844.8749278674977, 1745.963426936437, 1810.322727384524, 1808.392274310461, 1724.6233605674627, 1719.2582353629944, 1676.0941424532473, 1638.5407396756168, 1694.6086651582466, 1652.558444701545, 1658.3719351987245, 1636.3922407462019, 1590.54163308332, 1595.4756465410098]\n",
      "have done 38 rounds, current sse is [2943.6344643839093, 2678.640642515994, 2565.39271463374, 2480.2820974815036, 2458.0611253557595, 2385.673485237026, 2343.275119688415, 2325.3960805657657, 2257.7867764632247, 2223.968462004751, 2121.3687862292804, 2098.5189062696427, 2103.2104597408893, 2164.9071489456164, 2066.651528761099, 2005.514092634354, 1972.936119556704, 1877.8847409353004, 1875.7441504843373, 1929.3075242635302, 1906.5756412063542, 1756.6996256259401, 1782.6928246008533, 1844.8749278674977, 1745.963426936437, 1810.322727384524, 1808.392274310461, 1724.6233605674627, 1719.2582353629944, 1676.0941424532473, 1638.5407396756168, 1694.6086651582466, 1652.558444701545, 1658.3719351987245, 1636.3922407462019, 1590.54163308332, 1595.4756465410098, 1590.6659855610746]\n",
      "have done 39 rounds, current sse is [2943.6344643839093, 2678.640642515994, 2565.39271463374, 2480.2820974815036, 2458.0611253557595, 2385.673485237026, 2343.275119688415, 2325.3960805657657, 2257.7867764632247, 2223.968462004751, 2121.3687862292804, 2098.5189062696427, 2103.2104597408893, 2164.9071489456164, 2066.651528761099, 2005.514092634354, 1972.936119556704, 1877.8847409353004, 1875.7441504843373, 1929.3075242635302, 1906.5756412063542, 1756.6996256259401, 1782.6928246008533, 1844.8749278674977, 1745.963426936437, 1810.322727384524, 1808.392274310461, 1724.6233605674627, 1719.2582353629944, 1676.0941424532473, 1638.5407396756168, 1694.6086651582466, 1652.558444701545, 1658.3719351987245, 1636.3922407462019, 1590.54163308332, 1595.4756465410098, 1590.6659855610746, 1584.4974051652366]\n",
      "have done 40 rounds, current sse is [2943.6344643839093, 2678.640642515994, 2565.39271463374, 2480.2820974815036, 2458.0611253557595, 2385.673485237026, 2343.275119688415, 2325.3960805657657, 2257.7867764632247, 2223.968462004751, 2121.3687862292804, 2098.5189062696427, 2103.2104597408893, 2164.9071489456164, 2066.651528761099, 2005.514092634354, 1972.936119556704, 1877.8847409353004, 1875.7441504843373, 1929.3075242635302, 1906.5756412063542, 1756.6996256259401, 1782.6928246008533, 1844.8749278674977, 1745.963426936437, 1810.322727384524, 1808.392274310461, 1724.6233605674627, 1719.2582353629944, 1676.0941424532473, 1638.5407396756168, 1694.6086651582466, 1652.558444701545, 1658.3719351987245, 1636.3922407462019, 1590.54163308332, 1595.4756465410098, 1590.6659855610746, 1584.4974051652366, 1568.5362965969134]\n"
     ]
    }
   ],
   "source": [
    "for k in range(20,41):\n",
    "    kmeans = KMeans(n_clusters = k, **kmeans_kwargs)\n",
    "    kmeans.fit(ns_repr)\n",
    "    sse.append(kmeans.inertia_)\n",
    "    print(f\"have done {k} rounds, current sse is {sse}\")"
   ]
  },
  {
   "cell_type": "code",
   "execution_count": 188,
   "metadata": {},
   "outputs": [
    {
     "data": {
      "text/plain": [
       "[<matplotlib.lines.Line2D at 0x14d48d19160>]"
      ]
     },
     "execution_count": 188,
     "metadata": {},
     "output_type": "execute_result"
    },
    {
     "data": {
      "image/png": "[encoded data removed]",
      "text/plain": [
       "<Figure size 432x288 with 1 Axes>"
      ]
     },
     "metadata": {
      "needs_background": "light"
     },
     "output_type": "display_data"
    }
   ],
   "source": [
    "plt.plot(range(1,41),sse,\"go-\")"
   ]
  },
  {
   "cell_type": "code",
   "execution_count": 189,
   "metadata": {},
   "outputs": [],
   "source": [
    "kl = KneeLocator(range(1,41), sse, curve=\"convex\", direction=\"decreasing\")"
   ]
  },
  {
   "cell_type": "code",
   "execution_count": 190,
   "metadata": {},
   "outputs": [
    {
     "data": {
      "text/plain": [
       "11"
      ]
     },
     "execution_count": 190,
     "metadata": {},
     "output_type": "execute_result"
    }
   ],
   "source": [
    "kl.elbow"
   ]
  },
  {
   "cell_type": "markdown",
   "metadata": {},
   "source": [
    "**Using Silhouette Coefficient**"
   ]
  },
  {
   "cell_type": "code",
   "execution_count": 191,
   "metadata": {
    "collapsed": true
   },
   "outputs": [
    {
     "name": "stdout",
     "output_type": "stream",
     "text": [
      "step 2\n",
      "step 3\n",
      "step 4\n",
      "step 5\n",
      "step 6\n",
      "step 7\n",
      "step 8\n",
      "step 9\n",
      "step 10\n",
      "step 11\n",
      "step 12\n",
      "step 13\n",
      "step 14\n",
      "step 15\n",
      "step 16\n",
      "step 17\n",
      "step 18\n",
      "step 19\n",
      "step 20\n",
      "step 21\n",
      "step 22\n",
      "step 23\n",
      "step 24\n",
      "step 25\n",
      "step 26\n",
      "step 27\n",
      "step 28\n",
      "step 29\n",
      "step 30\n",
      "step 31\n",
      "step 32\n",
      "step 33\n",
      "step 34\n",
      "step 35\n",
      "step 36\n",
      "step 37\n",
      "step 38\n",
      "step 39\n",
      "step 40\n",
      "step 41\n",
      "step 42\n",
      "step 43\n",
      "step 44\n",
      "step 45\n",
      "step 46\n",
      "step 47\n",
      "step 48\n",
      "step 49\n",
      "step 50\n"
     ]
    }
   ],
   "source": [
    "sc = []\n",
    "new_sse = []\n",
    "for k in range(2,51):\n",
    "    kmeans = KMeans(n_clusters = k, **kmeans_kwargs)\n",
    "    kmeans.fit(ns_repr)\n",
    "    score = silhouette_score(ns_repr, kmeans.labels_)\n",
    "    sc.append(score)\n",
    "    new_sse.append(kmeans.inertia_)\n",
    "    print(\"step {}\".format(k))"
   ]
  },
  {
   "cell_type": "code",
   "execution_count": 192,
   "metadata": {},
   "outputs": [
    {
     "data": {
      "text/plain": [
       "[<matplotlib.lines.Line2D at 0x14d6b152bb0>]"
      ]
     },
     "execution_count": 192,
     "metadata": {},
     "output_type": "execute_result"
    },
    {
     "data": {
      "image/png": "[encoded data removed]",
      "text/plain": [
       "<Figure size 432x288 with 1 Axes>"
      ]
     },
     "metadata": {
      "needs_background": "light"
     },
     "output_type": "display_data"
    }
   ],
   "source": [
    "# for sse\n",
    "plt.plot(range(2,51), new_sse, \"go-\")"
   ]
  },
  {
   "cell_type": "code",
   "execution_count": 193,
   "metadata": {},
   "outputs": [
    {
     "data": {
      "text/plain": [
       "14"
      ]
     },
     "execution_count": 193,
     "metadata": {},
     "output_type": "execute_result"
    }
   ],
   "source": [
    "kl_new = KneeLocator(range(2,51), new_sse, curve=\"convex\", direction=\"decreasing\")\n",
    "kl_new.elbow"
   ]
  },
  {
   "cell_type": "code",
   "execution_count": 194,
   "metadata": {},
   "outputs": [
    {
     "data": {
      "text/plain": [
       "[<matplotlib.lines.Line2D at 0x14d49881ca0>]"
      ]
     },
     "execution_count": 194,
     "metadata": {},
     "output_type": "execute_result"
    },
    {
     "data": {
      "image/png": "[encoded data removed]",
      "text/plain": [
       "<Figure size 432x288 with 1 Axes>"
      ]
     },
     "metadata": {
      "needs_background": "light"
     },
     "output_type": "display_data"
    }
   ],
   "source": [
    "# for silhouette coefficient\n",
    "plt.plot(range(2,51), sc, \"bo-\")"
   ]
  },
  {
   "cell_type": "code",
   "execution_count": 195,
   "metadata": {
    "scrolled": true
   },
   "outputs": [
    {
     "data": {
      "text/plain": [
       "[<matplotlib.lines.Line2D at 0x14d6f2cc4f0>]"
      ]
     },
     "execution_count": 195,
     "metadata": {},
     "output_type": "execute_result"
    },
    {
     "data": {
      "image/png": "[encoded data removed]",
      "text/plain": [
       "<Figure size 432x288 with 1 Axes>"
      ]
     },
     "metadata": {
      "needs_background": "light"
     },
     "output_type": "display_data"
    }
   ],
   "source": [
    "\n",
    "\n",
    "spl = make_interp_spline(range(2,51), sc, k=3)  # type: BSpline\n",
    "\n",
    "xs = np.linspace(2, 50, 6)\n",
    "ys = spl(xs)\n",
    "\n",
    "plt.plot(range(2,51), sc, \"go--\")\n",
    "plt.plot(xs, ys, \"b-\")"
   ]
  },
  {
   "cell_type": "markdown",
   "metadata": {},
   "source": [
    "Let's choose k = 10"
   ]
  },
  {
   "cell_type": "code",
   "execution_count": 196,
   "metadata": {},
   "outputs": [
    {
     "data": {
      "text/plain": [
       "KMeans(max_iter=500, n_clusters=10, n_init=50)"
      ]
     },
     "execution_count": 196,
     "metadata": {},
     "output_type": "execute_result"
    }
   ],
   "source": [
    "kmeans = KMeans(n_clusters = 10, init=\"k-means++\", n_init = 50, max_iter = 500)\n",
    "kmeans.fit(ns_repr)"
   ]
  },
  {
   "cell_type": "code",
   "execution_count": 68,
   "metadata": {
    "collapsed": true
   },
   "outputs": [
    {
     "data": {
      "text/plain": [
       "['__class__',\n",
       " '__delattr__',\n",
       " '__dict__',\n",
       " '__dir__',\n",
       " '__doc__',\n",
       " '__eq__',\n",
       " '__format__',\n",
       " '__ge__',\n",
       " '__getattribute__',\n",
       " '__getstate__',\n",
       " '__gt__',\n",
       " '__hash__',\n",
       " '__init__',\n",
       " '__init_subclass__',\n",
       " '__le__',\n",
       " '__lt__',\n",
       " '__module__',\n",
       " '__ne__',\n",
       " '__new__',\n",
       " '__reduce__',\n",
       " '__reduce_ex__',\n",
       " '__repr__',\n",
       " '__setattr__',\n",
       " '__setstate__',\n",
       " '__sizeof__',\n",
       " '__str__',\n",
       " '__subclasshook__',\n",
       " '__weakref__',\n",
       " '_algorithm',\n",
       " '_check_feature_names',\n",
       " '_check_mkl_vcomp',\n",
       " '_check_n_features',\n",
       " '_check_params',\n",
       " '_check_test_data',\n",
       " '_estimator_type',\n",
       " '_get_param_names',\n",
       " '_get_tags',\n",
       " '_init_centroids',\n",
       " '_more_tags',\n",
       " '_n_init',\n",
       " '_n_threads',\n",
       " '_repr_html_',\n",
       " '_repr_html_inner',\n",
       " '_repr_mimebundle_',\n",
       " '_tol',\n",
       " '_transform',\n",
       " '_validate_center_shape',\n",
       " '_validate_data',\n",
       " 'algorithm',\n",
       " 'cluster_centers_',\n",
       " 'copy_x',\n",
       " 'fit',\n",
       " 'fit_predict',\n",
       " 'fit_transform',\n",
       " 'get_params',\n",
       " 'inertia_',\n",
       " 'init',\n",
       " 'labels_',\n",
       " 'max_iter',\n",
       " 'n_clusters',\n",
       " 'n_features_in_',\n",
       " 'n_init',\n",
       " 'n_iter_',\n",
       " 'predict',\n",
       " 'random_state',\n",
       " 'score',\n",
       " 'set_params',\n",
       " 'tol',\n",
       " 'transform',\n",
       " 'verbose']"
      ]
     },
     "execution_count": 68,
     "metadata": {},
     "output_type": "execute_result"
    }
   ],
   "source": [
    "dir(kmeans)"
   ]
  },
  {
   "cell_type": "code",
   "execution_count": 197,
   "metadata": {},
   "outputs": [
    {
     "data": {
      "text/plain": [
       "array([6, 0, 1, ..., 0, 0, 0])"
      ]
     },
     "execution_count": 197,
     "metadata": {},
     "output_type": "execute_result"
    }
   ],
   "source": [
    "kmeans.labels_"
   ]
  },
  {
   "cell_type": "code",
   "execution_count": 198,
   "metadata": {},
   "outputs": [
    {
     "data": {
      "text/plain": [
       "{0, 1, 2, 3, 4, 5, 6, 7, 8, 9}"
      ]
     },
     "execution_count": 198,
     "metadata": {},
     "output_type": "execute_result"
    }
   ],
   "source": [
    "set(kmeans.labels_)"
   ]
  },
  {
   "cell_type": "code",
   "execution_count": 199,
   "metadata": {},
   "outputs": [],
   "source": [
    "pca = PCA(n_components = 2)"
   ]
  },
  {
   "cell_type": "code",
   "execution_count": 200,
   "metadata": {},
   "outputs": [
    {
     "data": {
      "text/plain": [
       "array([[-0.14007553, -0.03286379],\n",
       "       [-0.13163073, -0.04256349],\n",
       "       [ 0.08382829,  0.13707431],\n",
       "       ...,\n",
       "       [-0.14725581, -0.03322786],\n",
       "       [-0.14725581, -0.03322786],\n",
       "       [-0.14725581, -0.03322786]])"
      ]
     },
     "execution_count": 200,
     "metadata": {},
     "output_type": "execute_result"
    }
   ],
   "source": [
    "pca_2d = pca.fit_transform(ns_repr)\n",
    "pca_2d"
   ]
  },
  {
   "cell_type": "code",
   "execution_count": 201,
   "metadata": {},
   "outputs": [
    {
     "data": {
      "text/plain": [
       "<matplotlib.collections.PathCollection at 0x14d6ae9b190>"
      ]
     },
     "execution_count": 201,
     "metadata": {},
     "output_type": "execute_result"
    },
    {
     "data": {
      "image/png": "[encoded data removed]",
      "text/plain": [
       "<Figure size 432x288 with 1 Axes>"
      ]
     },
     "metadata": {
      "needs_background": "light"
     },
     "output_type": "display_data"
    }
   ],
   "source": [
    "plt.scatter([v[0] for v in pca_2d], [v[1] for v in pca_2d], c = kmeans.labels_)"
   ]
  },
  {
   "cell_type": "markdown",
   "metadata": {},
   "source": [
    "**Let's investigate each cluster**"
   ]
  },
  {
   "cell_type": "code",
   "execution_count": 202,
   "metadata": {},
   "outputs": [
    {
     "data": {
      "text/plain": [
       "4357"
      ]
     },
     "execution_count": 202,
     "metadata": {},
     "output_type": "execute_result"
    }
   ],
   "source": [
    "len(list(set(ns_subreddit.keys()) | set(ns_subreddit_feb.keys()) | set(ns_subreddit_march.keys())))"
   ]
  },
  {
   "cell_type": "code",
   "execution_count": 203,
   "metadata": {},
   "outputs": [
    {
     "data": {
      "text/plain": [
       "6252"
      ]
     },
     "execution_count": 203,
     "metadata": {},
     "output_type": "execute_result"
    }
   ],
   "source": [
    "len(news_sources)"
   ]
  },
  {
   "cell_type": "code",
   "execution_count": 204,
   "metadata": {},
   "outputs": [
    {
     "data": {
      "text/plain": [
       "4357"
      ]
     },
     "execution_count": 204,
     "metadata": {},
     "output_type": "execute_result"
    }
   ],
   "source": [
    "len(kmeans.labels_)"
   ]
  },
  {
   "cell_type": "code",
   "execution_count": 205,
   "metadata": {},
   "outputs": [],
   "source": [
    "clustered = defaultdict(list)\n",
    "for idx,ns in enumerate(ns_fixed):\n",
    "    c = kmeans.labels_[idx]\n",
    "    clustered[c].append(ns)"
   ]
  },
  {
   "cell_type": "code",
   "execution_count": 206,
   "metadata": {
    "scrolled": true
   },
   "outputs": [
    {
     "name": "stdout",
     "output_type": "stream",
     "text": [
      "[2825, 177, 294, 88, 80, 201, 104, 96, 275, 217]\n"
     ]
    }
   ],
   "source": [
    "print([len(clustered[i]) for i in range(10)])"
   ]
  },
  {
   "cell_type": "markdown",
   "metadata": {},
   "source": [
    " **could do iterative clusters for ^**"
   ]
  },
  {
   "cell_type": "code",
   "execution_count": 207,
   "metadata": {},
   "outputs": [
    {
     "name": "stdout",
     "output_type": "stream",
     "text": [
      "[0.64838191416112, 0.04062428276336929, 0.06747762221712188, 0.020197383520771172, 0.018361257746155612, 0.046132660087215976, 0.023869635070002296, 0.022033509295386736, 0.06311682350240992, 0.0498049116364471]\n"
     ]
    }
   ],
   "source": [
    "print([len(clustered[i])/len(kmeans.labels_) for i in range(10)])"
   ]
  },
  {
   "cell_type": "code",
   "execution_count": 208,
   "metadata": {
    "scrolled": true
   },
   "outputs": [
    {
     "data": {
      "text/plain": [
       "['webmd.com',\n",
       " 'livescience.com',\n",
       " 'newscientist.com',\n",
       " 'buzzfeed.com',\n",
       " 'inc.com',\n",
       " 'designboom.com',\n",
       " 'popsugar.com',\n",
       " 'atlasobscura.com',\n",
       " 'healthline.com',\n",
       " 'womenshealthmag.com',\n",
       " 'honolulumagazine.com',\n",
       " 'treehugger.com',\n",
       " 'fox11online.com',\n",
       " 'popularmechanics.com',\n",
       " 'ultimateclassicrock.com',\n",
       " 'foodandwine.com',\n",
       " 'hbr.org',\n",
       " 'snopes.com',\n",
       " 'scientificamerican.com',\n",
       " 'popsci.com',\n",
       " 'middletownpress.com',\n",
       " 'discovermagazine.com',\n",
       " 'pjstar.com',\n",
       " 'petapixel.com',\n",
       " 'thecoast.ca',\n",
       " 'qz.com',\n",
       " 'additudemag.com',\n",
       " 'mentalfloss.com',\n",
       " 'medlineplus.gov',\n",
       " 'kmph.com',\n",
       " 'sciencedaily.com',\n",
       " 'iflscience.com',\n",
       " 'dailynorthwestern.com',\n",
       " 'cracked.com',\n",
       " 'songfacts.com',\n",
       " 'bhg.com',\n",
       " 'apartmenttherapy.com',\n",
       " 'lifehacker.com',\n",
       " 'wjbq.com',\n",
       " 'classicfm.com',\n",
       " 'consumerreports.org',\n",
       " 'kexp.org',\n",
       " 'eater.com',\n",
       " 'stlmag.com',\n",
       " 'theparisreview.org',\n",
       " 'robbreport.com',\n",
       " 'kerrang.com',\n",
       " 'hyperallergic.com',\n",
       " 'modernfarmer.com',\n",
       " 'olympicchannel.com',\n",
       " 'upworthy.com',\n",
       " 'houstonpress.com',\n",
       " 'jambase.com',\n",
       " 'celebritynetworth.com',\n",
       " 'loudandquiet.com',\n",
       " 'goodhousekeeping.com',\n",
       " 'broadwayworld.com',\n",
       " 'lancasteronline.com',\n",
       " 'americanscientist.org',\n",
       " 'bigthink.com',\n",
       " 'harvardmagazine.com',\n",
       " 'abc6.com',\n",
       " 'harpersbazaar.com',\n",
       " 'metv.com',\n",
       " 'artsy.net',\n",
       " 'saturdayeveningpost.com',\n",
       " 'sciencefocus.com',\n",
       " 'bustle.com',\n",
       " 'thrillist.com',\n",
       " 'atlantamagazine.com',\n",
       " 'givememyremote.com',\n",
       " 'wfmynews2.com',\n",
       " 'wyrk.com',\n",
       " 'chronicle.com',\n",
       " 'historyextra.com',\n",
       " 'health.com',\n",
       " 'ballotpedia.org',\n",
       " 'valdostadailytimes.com',\n",
       " 'hollywood.com',\n",
       " 'airspacemag.com',\n",
       " 'cntraveler.com',\n",
       " 'rbth.com',\n",
       " 'kleinezeitung.at',\n",
       " 'delish.com',\n",
       " 'iowapublicradio.org',\n",
       " 'okgazette.com',\n",
       " 'networkworld.com',\n",
       " 'hazlitt.net',\n",
       " 'outdoorlife.com',\n",
       " 'scoopwhoop.com',\n",
       " 'knau.org',\n",
       " 'njherald.com',\n",
       " 'ozy.com',\n",
       " 'ctmirror.org',\n",
       " 'comedy.co.uk',\n",
       " 'animalplanet.com',\n",
       " 'musicradar.com',\n",
       " 'prevention.com',\n",
       " 'complianceweek.com',\n",
       " 'journaltimes.com',\n",
       " 'face2faceafrica.com',\n",
       " 'worldatlas.com',\n",
       " 'greatist.com',\n",
       " 'afar.com',\n",
       " 'cntraveller.com',\n",
       " 'medicaldaily.com',\n",
       " 'redding.com',\n",
       " 'rtve.es',\n",
       " 'stack.com',\n",
       " 'avclub.com',\n",
       " 'southcoasttoday.com',\n",
       " 'cigaraficionado.com',\n",
       " 'cannabisculture.com',\n",
       " 'self.com',\n",
       " 'historytoday.com',\n",
       " 'southernliving.com',\n",
       " 'readersdigest.co.uk',\n",
       " 'timeshighereducation.com',\n",
       " 'wanderlust.co.uk',\n",
       " 'realsimple.com',\n",
       " 'good.is',\n",
       " 'rare.us',\n",
       " '8days.sg',\n",
       " 'thenakedscientists.com',\n",
       " 'irishcentral.com',\n",
       " 'winemag.com',\n",
       " 'nrn.com',\n",
       " 'fieldandstream.com',\n",
       " 'geo.de',\n",
       " 'kalw.org',\n",
       " 'nationaltrust.org.uk',\n",
       " 'shortlist.com',\n",
       " 'allbusiness.com',\n",
       " 'victoriaadvocate.com',\n",
       " 'newcastleherald.com.au',\n",
       " 'thesound.co.nz',\n",
       " 'hawaiibusiness.com',\n",
       " 'wyomingpublicmedia.org',\n",
       " 'wrmea.org',\n",
       " 'smokymountainnews.com',\n",
       " 'theamericanscholar.org',\n",
       " 'efe.com',\n",
       " 'splendidtable.org',\n",
       " 'klaq.com',\n",
       " 'harvardpolitics.com',\n",
       " 'gigwise.com',\n",
       " 'mrt.com',\n",
       " 'blackbeltmag.com',\n",
       " 'lady.co.uk',\n",
       " 'qt.com.au',\n",
       " 'chowhound.com',\n",
       " 'indie88.com',\n",
       " 'designnews.com',\n",
       " 'thepacker.com',\n",
       " 'aaas.org',\n",
       " 'truthdig.com',\n",
       " 'yorkvision.co.uk',\n",
       " 'savoirflair.com',\n",
       " 'elsoldezamora.com.mx',\n",
       " '973thedawg.com',\n",
       " 'wcsx.com',\n",
       " 'theartsdesk.com',\n",
       " 'truewestmagazine.com',\n",
       " 'radiomilwaukee.org',\n",
       " 'redbookmag.com',\n",
       " '1045wjjk.com',\n",
       " 'accessonline.com',\n",
       " 'themanitoban.com',\n",
       " 'dl-online.com',\n",
       " '1079ishot.com',\n",
       " 'gazetteandherald.co.uk',\n",
       " 'classicrock961.com',\n",
       " 'asme.org',\n",
       " 'phaidon.com',\n",
       " 'psupress.org',\n",
       " 'uphere.ca',\n",
       " 'utne.com']"
      ]
     },
     "execution_count": 208,
     "metadata": {},
     "output_type": "execute_result"
    }
   ],
   "source": [
    "clustered[1]"
   ]
  },
  {
   "cell_type": "markdown",
   "metadata": {},
   "source": [
    "Cluster 1 has lots health/science related news sources like scientificamerican.com, webmd.com, newscientist.com, etc)"
   ]
  },
  {
   "cell_type": "code",
   "execution_count": 209,
   "metadata": {
    "scrolled": true
   },
   "outputs": [
    {
     "data": {
      "text/plain": [
       "['cnbc.com',\n",
       " 'abc7chicago.com',\n",
       " 'kmov.com',\n",
       " 'wtop.com',\n",
       " 'stripes.com',\n",
       " 'nbcnews.com',\n",
       " 'cbsnews.com',\n",
       " 'kvia.com',\n",
       " 'upi.com',\n",
       " 'cnn.com',\n",
       " 'boston.com',\n",
       " 'apnews.com',\n",
       " 'yahoo.com',\n",
       " 'triblive.com',\n",
       " 'npr.org',\n",
       " 'wbng.com',\n",
       " 'natlawreview.com',\n",
       " 'al.com',\n",
       " 'startribune.com',\n",
       " 'houstonchronicle.com',\n",
       " 'militarytimes.com',\n",
       " 'kjrh.com',\n",
       " 'military.com',\n",
       " 'thehour.com',\n",
       " 'hawaiinewsnow.com',\n",
       " 'gizmodo.com',\n",
       " 'sacbee.com',\n",
       " 'kutv.com',\n",
       " 'mynbc15.com',\n",
       " 'kxxv.com',\n",
       " 'nextgov.com',\n",
       " 'oregonlive.com',\n",
       " 'fox13now.com',\n",
       " 'kptv.com',\n",
       " 'pennlive.com',\n",
       " 'nj.com',\n",
       " 'wktv.com',\n",
       " 'cbs19.tv',\n",
       " 'nbcwashington.com',\n",
       " 'journalstar.com',\n",
       " 'localmemphis.com',\n",
       " 'freep.com',\n",
       " 'wbur.org',\n",
       " 'winknews.com',\n",
       " 'ctpost.com',\n",
       " 'santafenewmexican.com',\n",
       " 'ksat.com',\n",
       " 'cnet.com',\n",
       " 'wtol.com',\n",
       " '5newsonline.com',\n",
       " 'abc7ny.com',\n",
       " 'niemanlab.org',\n",
       " 'wral.com',\n",
       " 'khq.com',\n",
       " 'tennessean.com',\n",
       " 'wusa9.com',\n",
       " 'fastcompany.com',\n",
       " 'dailyvoice.com',\n",
       " 'krcrtv.com',\n",
       " 'wlos.com',\n",
       " 'koco.com',\n",
       " 'mlive.com',\n",
       " 'wfaa.com',\n",
       " 'adn.com',\n",
       " 'wate.com',\n",
       " 'actionnewsnow.com',\n",
       " 'nbcmiami.com',\n",
       " 'phoenixnewtimes.com',\n",
       " 'abc11.com',\n",
       " 'khou.com',\n",
       " 'wweek.com',\n",
       " 'thedenverchannel.com',\n",
       " 'lasvegassun.com',\n",
       " 'miaminewtimes.com',\n",
       " 'wgbh.org',\n",
       " 'nbcphiladelphia.com',\n",
       " 'insider.com',\n",
       " 'wkbw.com',\n",
       " 'indystar.com',\n",
       " 'wcpo.com',\n",
       " 'unilad.co.uk',\n",
       " 'kion546.com',\n",
       " 'news4jax.com',\n",
       " 'clickorlando.com',\n",
       " 'ktnv.com',\n",
       " 'time.com',\n",
       " 'wlbt.com',\n",
       " 'abc30.com',\n",
       " '11alive.com',\n",
       " 'wsvn.com',\n",
       " 'iol.co.za',\n",
       " 'clickondetroit.com',\n",
       " 'azfamily.com',\n",
       " 'wdbj7.com',\n",
       " 'valleynewslive.com',\n",
       " '9news.com',\n",
       " 'abcactionnews.com',\n",
       " 'wcvb.com',\n",
       " 'katu.com',\n",
       " 'wacotrib.com',\n",
       " 'adweek.com',\n",
       " 'nbc4i.com',\n",
       " 'spin.com',\n",
       " 'kvoa.com',\n",
       " 'katv.com',\n",
       " 'fox61.com',\n",
       " 'turnto10.com',\n",
       " 'katc.com',\n",
       " 'democratandchronicle.com',\n",
       " 'mprnews.org',\n",
       " 'missoulian.com',\n",
       " 'inquirer.com',\n",
       " 'pix11.com',\n",
       " 'newser.com',\n",
       " 'fox10phoenix.com',\n",
       " 'week.com',\n",
       " 'wpr.org',\n",
       " 'beaconjournal.com',\n",
       " 'wrcbtv.com',\n",
       " 'cleveland19.com',\n",
       " 'armytimes.com',\n",
       " 'wwltv.com',\n",
       " 'wtvr.com',\n",
       " 'wgal.com',\n",
       " 'kcra.com',\n",
       " 'kmbc.com',\n",
       " 'app.com',\n",
       " 'ladbible.com',\n",
       " 'kpel965.com',\n",
       " 'nbc29.com',\n",
       " 'citybeat.com',\n",
       " 'nbcnewyork.com',\n",
       " 'wptv.com',\n",
       " 'whas11.com',\n",
       " 'wcax.com',\n",
       " 'wagmtv.com',\n",
       " 'local10.com',\n",
       " 'jezebel.com',\n",
       " 'wgrz.com',\n",
       " 'ny1.com',\n",
       " 'thegrio.com',\n",
       " 'bakersfield.com',\n",
       " 'mintpressnews.com',\n",
       " 'chattanoogan.com',\n",
       " 'abc15.com',\n",
       " 'lehighvalleylive.com',\n",
       " 'wmur.com',\n",
       " 'kjzz.org',\n",
       " 'wbal.com',\n",
       " 'wistv.com',\n",
       " 'idahonews.com',\n",
       " '4029tv.com',\n",
       " 'ketv.com',\n",
       " 'foxcarolina.com',\n",
       " 'wowt.com',\n",
       " 'wsmv.com',\n",
       " 'kshb.com',\n",
       " 'sandiegouniontribune.com',\n",
       " 'whec.com',\n",
       " 'ksl.com',\n",
       " 'kcci.com',\n",
       " 'wyomingnews.com',\n",
       " 'kwch.com',\n",
       " 'pressherald.com',\n",
       " 'wsfa.com',\n",
       " 'insideedition.com',\n",
       " 'wbaltv.com',\n",
       " 'capitalgazette.com',\n",
       " 'houstonpublicmedia.org',\n",
       " 'boingboing.net',\n",
       " 'wtoc.com',\n",
       " 'travelandleisure.com',\n",
       " 'providencejournal.com',\n",
       " 'wkyc.com',\n",
       " 'wzzm13.com',\n",
       " 'wdtn.com',\n",
       " 'cbs58.com',\n",
       " 'duluthnewstribune.com',\n",
       " 'wvtm13.com',\n",
       " 'q13fox.com',\n",
       " 'wtae.com',\n",
       " 'waff.com',\n",
       " 'wlwt.com',\n",
       " 'fox8live.com',\n",
       " 'kttc.com',\n",
       " 'newsy.com',\n",
       " 'wesh.com',\n",
       " 'cbs46.com',\n",
       " 'ksla.com',\n",
       " 'stanforddaily.com',\n",
       " 'wndu.com',\n",
       " 'ksdk.com',\n",
       " 'news9.com',\n",
       " 'wwnytv.com',\n",
       " 'foxbaltimore.com',\n",
       " 'wisn.com',\n",
       " 'law360.com',\n",
       " 'atlantablackstar.com',\n",
       " 'inforum.com',\n",
       " 'queerty.com',\n",
       " 'wsaz.com',\n",
       " 'nbcboston.com',\n",
       " 'thecrimson.com',\n",
       " 'wrex.com',\n",
       " 'berkshireeagle.com',\n",
       " 'fox35orlando.com',\n",
       " 'saudigazette.com.sa',\n",
       " 'okcfox.com',\n",
       " 'wkar.org',\n",
       " 'mynbc5.com',\n",
       " 'firstcoastnews.com',\n",
       " 'idahopress.com',\n",
       " 'omaha.com',\n",
       " 'thebiglead.com',\n",
       " 'nairaland.com',\n",
       " 'crooksandliars.com',\n",
       " 'remezcla.com',\n",
       " 'northcountrypublicradio.org',\n",
       " 'desertsun.com',\n",
       " 'phillytrib.com',\n",
       " 'abc57.com',\n",
       " 'djournal.com',\n",
       " 'wltx.com',\n",
       " 'wcnc.com',\n",
       " 'mynews4.com',\n",
       " 'ktul.com',\n",
       " 'abc6onyourside.com',\n",
       " 'qctimes.com',\n",
       " 'nhpr.org',\n",
       " 'wxii12.com',\n",
       " 'wdsu.com',\n",
       " 'nhregister.com',\n",
       " 'rapidcityjournal.com',\n",
       " 'greensboro.com',\n",
       " 'mynews13.com',\n",
       " 'wbay.com',\n",
       " 'ksbw.com',\n",
       " 'wccbcharlotte.com',\n",
       " 'mysuncoast.com',\n",
       " 'sowetanlive.co.za',\n",
       " 'ktxs.com',\n",
       " 'knoxnews.com',\n",
       " 'cbs12.com',\n",
       " 'greenvilleonline.com',\n",
       " 'wrdw.com',\n",
       " 'kwwl.com',\n",
       " 'newscentermaine.com',\n",
       " 'wtsp.com',\n",
       " 'nbcconnecticut.com',\n",
       " 'wtva.com',\n",
       " 'kxly.com',\n",
       " '10tv.com',\n",
       " 'thebulletin.org',\n",
       " 'mic.com',\n",
       " 'kfyrtv.com',\n",
       " 'westernmassnews.com',\n",
       " 'jweekly.com',\n",
       " 'statesmanjournal.com',\n",
       " 'guampdn.com',\n",
       " 'newschannel9.com',\n",
       " 'lohud.com',\n",
       " 'uppermichiganssource.com',\n",
       " 'ktbs.com',\n",
       " 'waow.com',\n",
       " 'wcti12.com',\n",
       " 'wlox.com',\n",
       " 'kusi.com',\n",
       " 'insidenova.com',\n",
       " 'wkms.org',\n",
       " 'edweek.org',\n",
       " 'c4isrnet.com',\n",
       " 'kvrr.com',\n",
       " 'wsbt.com',\n",
       " 'blavity.com',\n",
       " 'journalnow.com',\n",
       " 'idahostatejournal.com',\n",
       " 'abccolumbia.com',\n",
       " 'mtstandard.com',\n",
       " 'kotatv.com',\n",
       " 'krgv.com',\n",
       " 'cnycentral.com',\n",
       " 'kadn.com',\n",
       " 'wbhm.org',\n",
       " 'marinecorpstimes.com',\n",
       " 'wunc.org',\n",
       " 'hamodia.com',\n",
       " 'kimt.com',\n",
       " 'hppr.org',\n",
       " 'keysnews.com',\n",
       " 'abc-7.com',\n",
       " 'theridgefieldpress.com',\n",
       " 'chosun.com',\n",
       " 'kztv10.com',\n",
       " 'wkok.com']"
      ]
     },
     "execution_count": 209,
     "metadata": {},
     "output_type": "execute_result"
    }
   ],
   "source": [
    "clustered[2]"
   ]
  },
  {
   "cell_type": "markdown",
   "metadata": {},
   "source": [
    "Cluster 2 has some big names & TV (cnn.com, npr.org, etc)"
   ]
  },
  {
   "cell_type": "code",
   "execution_count": 210,
   "metadata": {
    "scrolled": true
   },
   "outputs": [
    {
     "data": {
      "text/plain": [
       "['breitbart.com',\n",
       " 'foxnews.com',\n",
       " 'dailycaller.com',\n",
       " 'lifesitenews.com',\n",
       " 'realclearpolitics.com',\n",
       " 'commentarymagazine.com',\n",
       " 'hotair.com',\n",
       " 'newsbusters.org',\n",
       " 'thepostmillennial.com',\n",
       " 'washingtonexaminer.com',\n",
       " 'foxbusiness.com',\n",
       " 'newsmax.com',\n",
       " 'theblaze.com',\n",
       " 'dailywire.com',\n",
       " 'oann.com',\n",
       " 'americanthinker.com',\n",
       " 'zerohedge.com',\n",
       " 'redstate.com',\n",
       " 'justthenews.com',\n",
       " 'pjmedia.com',\n",
       " 'westernjournal.com',\n",
       " 'nationalinterest.org',\n",
       " 'townhall.com',\n",
       " 'thefederalist.com',\n",
       " 'thetruthaboutguns.com',\n",
       " 'kake.com',\n",
       " 'humanevents.com',\n",
       " 'mooresvilletribune.com',\n",
       " 'wbap.com',\n",
       " 'kpax.com',\n",
       " 'kelo.com',\n",
       " 'thv11.com',\n",
       " 'twitchy.com',\n",
       " 'spiked-online.com',\n",
       " 'freebeacon.com',\n",
       " 'cnsnews.com',\n",
       " 'dailysignal.com',\n",
       " 'kcentv.com',\n",
       " 'weau.com',\n",
       " 'campusreform.org',\n",
       " 'frontpagemag.com',\n",
       " 'quillette.com',\n",
       " 'whtc.com',\n",
       " 'christianpost.com',\n",
       " 'mndaily.com',\n",
       " 'wflx.com',\n",
       " 'outkick.com',\n",
       " 'laphamsquarterly.org',\n",
       " 'ncregister.com',\n",
       " 'skynews.com.au',\n",
       " 'onlineathens.com',\n",
       " 'thecollegefix.com',\n",
       " 'realscreen.com',\n",
       " 'powerlineblog.com',\n",
       " 'bravewords.com',\n",
       " 'chroniclesmagazine.org',\n",
       " 'infowars.com',\n",
       " 'aei.org',\n",
       " 'churchmilitant.com',\n",
       " 'kobi5.com',\n",
       " 'waaytv.com',\n",
       " 'goerie.com',\n",
       " 'takimag.com',\n",
       " 'kiiitv.com',\n",
       " 'nysun.com',\n",
       " 'record-eagle.com',\n",
       " 'antiwar.com',\n",
       " '1470wmbd.com',\n",
       " 'newschannel6now.com',\n",
       " 'elkharttruth.com',\n",
       " 'wmal.com',\n",
       " 'newsradioklbj.com',\n",
       " 'lacrossetribune.com',\n",
       " 'jewishworldreview.com',\n",
       " 'conservativereview.com',\n",
       " 'kabc.com',\n",
       " 'wibc.com',\n",
       " 'dailymercury.com.au',\n",
       " 'wenatcheeworld.com',\n",
       " 'loudountimes.com',\n",
       " 'retail-week.com',\n",
       " 'nationaljournal.com',\n",
       " 'debka.com',\n",
       " 'marklevinshow.com',\n",
       " 'fox8tv.com',\n",
       " 'kkyr.com',\n",
       " 'sofmag.com',\n",
       " 'sanfordherald.com']"
      ]
     },
     "execution_count": 210,
     "metadata": {},
     "output_type": "execute_result"
    }
   ],
   "source": [
    "clustered[3]"
   ]
  },
  {
   "cell_type": "markdown",
   "metadata": {},
   "source": [
    "Cluster 3 has breitbart and foxnews, washingtonexaminer, etc. **use MBFC/PAB for scores to make sense of these**"
   ]
  },
  {
   "cell_type": "code",
   "execution_count": 211,
   "metadata": {
    "scrolled": true
   },
   "outputs": [
    {
     "data": {
      "text/plain": [
       "['stern.de',\n",
       " 'tagesschau.de',\n",
       " 'sueddeutsche.de',\n",
       " 'tagesanzeiger.ch',\n",
       " 'derbund.ch',\n",
       " 'nzz.ch',\n",
       " 'spiegel.de',\n",
       " 'derstandard.at',\n",
       " 'srf.ch',\n",
       " 'stadt-bremerhaven.de',\n",
       " 'orf.at',\n",
       " 'flugrevue.de',\n",
       " 'welt.de',\n",
       " 'wiwo.de',\n",
       " 'golem.de',\n",
       " 'taz.de',\n",
       " 'stuttgarter-nachrichten.de',\n",
       " 'focus.de',\n",
       " 'rp-online.de',\n",
       " 'tagesspiegel.de',\n",
       " 'br.de',\n",
       " 'faz.net',\n",
       " 'morgenpost.de',\n",
       " 'futurezone.at',\n",
       " 'mdr.de',\n",
       " 'kurier.at',\n",
       " 'tag24.de',\n",
       " 'pcwelt.de',\n",
       " 'n-tv.de',\n",
       " 'ndr.de',\n",
       " 'heise.de',\n",
       " '20min.ch',\n",
       " 'merkur.de',\n",
       " 'heute.at',\n",
       " 'derwesten.de',\n",
       " 'rnd.de',\n",
       " 'freitag.de',\n",
       " 't-online.de',\n",
       " 'nau.ch',\n",
       " 'handelsblatt.com',\n",
       " 'nzzas.nzz.ch',\n",
       " 'chip.de',\n",
       " 'badische-zeitung.de',\n",
       " 'prosieben.de',\n",
       " 'jungefreiheit.de',\n",
       " 'nachrichten.at',\n",
       " 'neues-deutschland.de',\n",
       " 'fm4.orf.at',\n",
       " 'infranken.de',\n",
       " 'waz.de',\n",
       " 'autobild.de',\n",
       " 'jungewelt.de',\n",
       " 'thueringer-allgemeine.de',\n",
       " 'tt.com',\n",
       " 'mz-web.de',\n",
       " 'ksta.de',\n",
       " 'nordbayern.de',\n",
       " 'bernerzeitung.ch',\n",
       " 'krone.at',\n",
       " 'mopo.de',\n",
       " 'tichyseinblick.de',\n",
       " 'netzwelt.de',\n",
       " 'gamestar.de',\n",
       " 'bz-berlin.de',\n",
       " 'dwdl.de',\n",
       " 'wienerzeitung.at',\n",
       " 'inside-digital.de',\n",
       " 'lvz.de',\n",
       " 'stuttgarter-zeitung.de',\n",
       " 'wn.de',\n",
       " 'cicero.de',\n",
       " 'rbb-online.de',\n",
       " 'autozeitung.de',\n",
       " 'nw.de',\n",
       " 'gq-magazin.de',\n",
       " 'harzkurier.de',\n",
       " 'goettinger-tageblatt.de',\n",
       " 'pnp.de',\n",
       " 'aachener-nachrichten.de',\n",
       " 'mallorcazeitung.es']"
      ]
     },
     "execution_count": 211,
     "metadata": {},
     "output_type": "execute_result"
    }
   ],
   "source": [
    "clustered[4]"
   ]
  },
  {
   "cell_type": "markdown",
   "metadata": {},
   "source": [
    "Cluster 4 has news sources from DE, AT, CH"
   ]
  },
  {
   "cell_type": "code",
   "execution_count": 212,
   "metadata": {},
   "outputs": [
    {
     "data": {
      "text/plain": [
       "['aljazeera.com',\n",
       " 'bbc.co.uk',\n",
       " 'reuters.com',\n",
       " 'gulfnews.com',\n",
       " 'bangkokpost.com',\n",
       " 'scmp.com',\n",
       " '9news.com.au',\n",
       " 'ctvnews.ca',\n",
       " 'japantoday.com',\n",
       " 'thehimalayantimes.com',\n",
       " 'koreaherald.com',\n",
       " 'sbs.com.au',\n",
       " 'tribune.com.pk',\n",
       " 'economist.com',\n",
       " 'japantimes.co.jp',\n",
       " 'news.com.au',\n",
       " 'trtworld.com',\n",
       " 'watoday.com.au',\n",
       " 'khmertimeskh.com',\n",
       " 'dailysabah.com',\n",
       " 'ibtimes.com',\n",
       " 'business-standard.com',\n",
       " 'siasat.com',\n",
       " 'malaysiakini.com',\n",
       " 'thediplomat.com',\n",
       " 'euobserver.com',\n",
       " 'theweek.co.uk',\n",
       " 'couriermail.com.au',\n",
       " 'thestar.com.my',\n",
       " 'tradewindsnews.com',\n",
       " 'themoscowtimes.com',\n",
       " 'tolonews.com',\n",
       " 'rferl.org',\n",
       " 'malaymail.com',\n",
       " 'haaretz.com',\n",
       " 'express.co.uk',\n",
       " 'en.people.cn',\n",
       " 'pri.org',\n",
       " 'entrepreneur.com',\n",
       " 'news24.com',\n",
       " 'yle.fi',\n",
       " 'freemalaysiatoday.com',\n",
       " 'republicworld.com',\n",
       " 'wellandtribune.ca',\n",
       " 'africanews.com',\n",
       " 'dr.dk',\n",
       " 'politico.eu',\n",
       " 'assamtribune.com',\n",
       " 'allafrica.com',\n",
       " 'mybroadband.co.za',\n",
       " 'thepeterboroughexaminer.com',\n",
       " 'meduza.io',\n",
       " 'voanews.com',\n",
       " 'geo.tv',\n",
       " '444.hu',\n",
       " 'arabnews.com',\n",
       " 'al-monitor.com',\n",
       " 'berlingske.dk',\n",
       " 'rfi.fr',\n",
       " 'lrt.lt',\n",
       " 'ghanaweb.com',\n",
       " 'vietnamnews.vn',\n",
       " 'middleeasteye.net',\n",
       " 'khaleejtimes.com',\n",
       " 'euronews.com',\n",
       " 'vrt.be',\n",
       " 'xinhuanet.com',\n",
       " 'outsideonline.com',\n",
       " 'itv.com',\n",
       " 'reliefweb.int',\n",
       " 'thejakartapost.com',\n",
       " 'autoexpress.co.uk',\n",
       " 'jagran.com',\n",
       " 'taiwannews.com.tw',\n",
       " 'intellinews.com',\n",
       " 'aftenposten.no',\n",
       " 'iz.ru',\n",
       " 'lenta.ru',\n",
       " 'sputniknews.com',\n",
       " 'israelnationalnews.com',\n",
       " 'brecorder.com',\n",
       " 'dunyanews.tv',\n",
       " 'csmonitor.com',\n",
       " 'jns.org',\n",
       " 'timesofmalta.com',\n",
       " 'electronicsweekly.com',\n",
       " 'nst.com.my',\n",
       " 'jta.org',\n",
       " 'americamagazine.org',\n",
       " 'swissinfo.ch',\n",
       " 'armenpress.am',\n",
       " 'cityam.com',\n",
       " 'nknews.org',\n",
       " 'ewn.co.za',\n",
       " 'whbl.com',\n",
       " 'indiatvnews.com',\n",
       " 'thepaper.cn',\n",
       " 'urdupoint.com',\n",
       " 'channel4.com',\n",
       " 'premiumtimesng.com',\n",
       " 'algemeiner.com',\n",
       " 'michigansthumb.com',\n",
       " 'egypttoday.com',\n",
       " 'greenwichtime.com',\n",
       " 'dailymaverick.co.za',\n",
       " 'bellingcat.com',\n",
       " 'sheppnews.com.au',\n",
       " 'elespanol.com',\n",
       " 'pulselive.co.ke',\n",
       " 'theborneopost.com',\n",
       " 'listindiario.com',\n",
       " 'phnompenhpost.com',\n",
       " 'ria.ru',\n",
       " 'udn.com',\n",
       " 'thekashmirimages.com',\n",
       " 'japan-forward.com',\n",
       " 'bdnews24.com',\n",
       " 'pressenza.com',\n",
       " 'euroweeklynews.com',\n",
       " 'janes.com',\n",
       " 'gamerevolution.com',\n",
       " 'emol.com',\n",
       " 'rfa.org',\n",
       " 'regina.ctvnews.ca',\n",
       " 'connexionfrance.com',\n",
       " 'hurriyetdailynews.com',\n",
       " 'sfbayview.com',\n",
       " 'papermag.com',\n",
       " 'haitiantimes.com',\n",
       " 'dailycardinal.com',\n",
       " 'saharareporters.com',\n",
       " 'thenewhumanitarian.org',\n",
       " 'seznamzpravy.cz',\n",
       " 'afp.com',\n",
       " 'dinheirovivo.pt',\n",
       " 'edp24.co.uk',\n",
       " 'thejc.com',\n",
       " 'frontiermyanmar.net',\n",
       " 'business2community.com',\n",
       " 'catholicworldreport.com',\n",
       " 'jamaicaobserver.com',\n",
       " 'gmtoday.com',\n",
       " 'worldoil.com',\n",
       " 'graphic.com.gh',\n",
       " 'riotimesonline.com',\n",
       " 'punchng.com',\n",
       " 'khaama.com',\n",
       " 'jamaica-gleaner.com',\n",
       " 'businessworld.in',\n",
       " 'moroccoworldnews.com',\n",
       " 'total-croatia-news.com',\n",
       " 'omanobserver.om',\n",
       " 'kristeligt-dagblad.dk',\n",
       " 'jewishjournal.com',\n",
       " 'ft.lk',\n",
       " 'thelocal.fr',\n",
       " 'worldcrunch.com',\n",
       " 'jewishpress.com',\n",
       " 'trinidadexpress.com',\n",
       " 'greenleft.org.au',\n",
       " 'lowyat.net',\n",
       " 'miltonkeynes.co.uk',\n",
       " 'vedomosti.ru',\n",
       " 'peterboroughtoday.co.uk',\n",
       " 'madamasr.com',\n",
       " 'cphpost.dk',\n",
       " 'wfdd.org',\n",
       " 'longwarjournal.org',\n",
       " 'upstreamonline.com',\n",
       " 'businessdailyafrica.com',\n",
       " 'theglobalist.com',\n",
       " 'asianage.com',\n",
       " 'theshillongtimes.com',\n",
       " 'surreycomet.co.uk',\n",
       " 'timesofoman.com',\n",
       " 'chvnradio.com',\n",
       " 'nevadasagebrush.com',\n",
       " 'thechronicle.com.au',\n",
       " 'artreview.com',\n",
       " 'pulse.com.gh',\n",
       " 'news-press.com',\n",
       " 'lenews.ch',\n",
       " 'wtvbam.com',\n",
       " 'pulse.ng',\n",
       " 'plasticsnews.com',\n",
       " 'ecodibergamo.it',\n",
       " 'nwemail.co.uk',\n",
       " 'wigantoday.net',\n",
       " 'capetalk.co.za',\n",
       " 'caribbeannationalweekly.com',\n",
       " 'devex.com',\n",
       " 'argus-press.com',\n",
       " 'windpowermonthly.com',\n",
       " 'brandchannel.com',\n",
       " 'nation.africa',\n",
       " 'jacarandafm.com',\n",
       " 'pasoroblespress.com',\n",
       " 'bernama.com',\n",
       " 'prokerala.com',\n",
       " 'railfan.com',\n",
       " 'vtm.be']"
      ]
     },
     "execution_count": 212,
     "metadata": {},
     "output_type": "execute_result"
    }
   ],
   "source": [
    "clustered[5]"
   ]
  },
  {
   "cell_type": "markdown",
   "metadata": {},
   "source": [
    "Lots of international outlets, including Asian countries, AU, UK \n",
    "**show the features contributing the most (use Naive Bayes), or show the subreddits that they share**"
   ]
  },
  {
   "cell_type": "code",
   "execution_count": 213,
   "metadata": {
    "scrolled": true
   },
   "outputs": [
    {
     "data": {
      "text/plain": [
       "['espn.com',\n",
       " 'skysports.com',\n",
       " 'yna.co.kr',\n",
       " 'football.london',\n",
       " 'as.com',\n",
       " 'nrk.no',\n",
       " 'rudaw.net',\n",
       " 'theathletic.com',\n",
       " 'abola.pt',\n",
       " 'dailyrecord.co.uk',\n",
       " 'thestar.co.uk',\n",
       " 'sportingnews.com',\n",
       " 'ynet.co.il',\n",
       " 'gazzetta.it',\n",
       " 'corrieredellosport.it',\n",
       " 'watfordobserver.co.uk',\n",
       " 'jyllands-posten.dk',\n",
       " 'cadenaser.com',\n",
       " 'thesportreview.com',\n",
       " 'kicker.de',\n",
       " 'bild.de',\n",
       " 'mirror.co.uk',\n",
       " 'the42.ie',\n",
       " 'blackpoolgazette.co.uk',\n",
       " 'fourfourtwo.com',\n",
       " '24sata.hr',\n",
       " 'vg.no',\n",
       " 'telegraaf.nl',\n",
       " 'liverpoolecho.co.uk',\n",
       " 'ojogo.pt',\n",
       " 'manchestereveningnews.co.uk',\n",
       " 'standard.co.uk',\n",
       " 'tsf.pt',\n",
       " 'observador.pt',\n",
       " 'leicestermercury.co.uk',\n",
       " 'lep.co.uk',\n",
       " 'in.gr',\n",
       " 'birminghammail.co.uk',\n",
       " 'idnes.cz',\n",
       " 'marca.com',\n",
       " 'expressandstar.com',\n",
       " 'espn.com.br',\n",
       " 'chroniclelive.co.uk',\n",
       " 'jn.pt',\n",
       " 'glasgowtimes.co.uk',\n",
       " 'sportske.jutarnji.hr',\n",
       " 'talksport.com',\n",
       " 'bristolpost.co.uk',\n",
       " 'mundodeportivo.com',\n",
       " 'weekendavisen.dk',\n",
       " 'bournemouthecho.co.uk',\n",
       " 'beinsports.com',\n",
       " 'okdiario.com',\n",
       " 'ccma.cat',\n",
       " 'latercera.com',\n",
       " 'football365.com',\n",
       " 'ondacero.es',\n",
       " 'bt.dk',\n",
       " 'swindonadvertiser.co.uk',\n",
       " 'lasexta.com',\n",
       " 'yorkshireeveningpost.co.uk',\n",
       " 'tz.de',\n",
       " 'outsports.com',\n",
       " 'eveningnews24.co.uk',\n",
       " 'elconfidencial.com',\n",
       " 'portsmouth.co.uk',\n",
       " 'tv2.no',\n",
       " 'ntv.com.tr',\n",
       " 'sofoot.com',\n",
       " 'ed.nl',\n",
       " 'ara.cat',\n",
       " 'ticotimes.net',\n",
       " 'sporza.be',\n",
       " 'tuttosport.com',\n",
       " 'vozpopuli.com',\n",
       " 'sportbible.com',\n",
       " '90min.com',\n",
       " 'cuatro.com',\n",
       " 'lasprovincias.es',\n",
       " 'cambridge-news.co.uk',\n",
       " 'ole.com.ar',\n",
       " 'infolibre.es',\n",
       " 'punditarena.com',\n",
       " 'thetelegraphandargus.co.uk',\n",
       " 'cope.es',\n",
       " 'newsandstar.co.uk',\n",
       " 'canalrcn.com',\n",
       " 'northamptonchron.co.uk',\n",
       " 'abendblatt.de',\n",
       " 'tycsports.com',\n",
       " 'levante-emv.com',\n",
       " 'architectsjournal.co.uk',\n",
       " 'dailyemerald.com',\n",
       " 'newsday.co.zw',\n",
       " 'wiltshiretimes.co.uk',\n",
       " 'spox.com',\n",
       " 'essexlive.news',\n",
       " 'ilgiornaledivicenza.it',\n",
       " 'le10sport.com',\n",
       " 'theboltonnews.co.uk',\n",
       " 'sunderlandecho.com',\n",
       " 'kickoff.com',\n",
       " 'diariogol.com',\n",
       " 'gazzettadimodena.gelocal.it']"
      ]
     },
     "execution_count": 213,
     "metadata": {},
     "output_type": "execute_result"
    }
   ],
   "source": [
    "clustered[6]"
   ]
  },
  {
   "cell_type": "markdown",
   "metadata": {},
   "source": [
    "cluster 6 has some sport ones"
   ]
  },
  {
   "cell_type": "code",
   "execution_count": 214,
   "metadata": {
    "scrolled": true
   },
   "outputs": [
    {
     "data": {
      "text/plain": [
       "['leparisien.fr',\n",
       " 'ledevoir.com',\n",
       " 'touteleurope.eu',\n",
       " 'journaldemontreal.com',\n",
       " 'lemonde.fr',\n",
       " '20minutes.fr',\n",
       " 'franceinter.fr',\n",
       " 'lapresse.ca',\n",
       " 'bfmtv.com',\n",
       " 'developpez.com',\n",
       " 'lepoint.fr',\n",
       " 'lesechos.fr',\n",
       " 'actu.fr',\n",
       " 'huffingtonpost.fr',\n",
       " 'publicsenat.fr',\n",
       " 'lefigaro.fr',\n",
       " 'francetvinfo.fr',\n",
       " 'krytykapolityczna.pl',\n",
       " 'nicematin.com',\n",
       " 'rtbf.be',\n",
       " 'lavoixdunord.fr',\n",
       " 'letelegramme.fr',\n",
       " 'madmoizelle.com',\n",
       " 'futura-sciences.com',\n",
       " 'arte.tv',\n",
       " 'la-croix.com',\n",
       " 'jeuxvideo.com',\n",
       " 'lepetitjournal.com',\n",
       " 'lci.fr',\n",
       " 'paris-normandie.fr',\n",
       " 'europe1.fr',\n",
       " 'rtl.fr',\n",
       " 'laprovence.com',\n",
       " 'journaldunet.com',\n",
       " 'monde-diplomatique.fr',\n",
       " 'sudouest.fr',\n",
       " 'thestarphoenix.com',\n",
       " 'france3-regions.francetvinfo.fr',\n",
       " 'courrierinternational.com',\n",
       " 'cnews.fr',\n",
       " 'midilibre.fr',\n",
       " 'lcp.fr',\n",
       " 'lyoncapitale.fr',\n",
       " 'businessinsider.fr',\n",
       " 'journaldugeek.com',\n",
       " 'tf1.fr',\n",
       " 'franceculture.fr',\n",
       " 'alternatives-economiques.fr',\n",
       " 'france.tv',\n",
       " 'tomsguide.fr',\n",
       " 'femmeactuelle.fr',\n",
       " 'humanite.fr',\n",
       " 'gala.fr',\n",
       " 'numerama.com',\n",
       " '01net.com',\n",
       " 'sciencesetavenir.fr',\n",
       " 'dna.fr',\n",
       " 'gamekult.com',\n",
       " 'telerama.fr',\n",
       " 'aufeminin.com',\n",
       " 'nextinpact.com',\n",
       " 'clubic.com',\n",
       " 'footmercato.net',\n",
       " 'closermag.fr',\n",
       " 'lalsace.fr',\n",
       " 'parismatch.com',\n",
       " 'estrepublicain.fr',\n",
       " 'madame.lefigaro.fr',\n",
       " '24heures.ch',\n",
       " 'causeur.fr',\n",
       " 'lesnumeriques.com',\n",
       " 'mac4ever.com',\n",
       " 'charentelibre.fr',\n",
       " 'rci.fm',\n",
       " 'konbini.com',\n",
       " 'usinenouvelle.com',\n",
       " 'lematin.ch',\n",
       " 'premiere.fr',\n",
       " 'corsematin.com',\n",
       " 'jeuneafrique.com',\n",
       " 'notretemps.com',\n",
       " 'liberte-algerie.com',\n",
       " 'voici.fr',\n",
       " 'entreprendre.fr',\n",
       " 'sudinfo.be',\n",
       " 'varmatin.com',\n",
       " 'radioclassique.fr',\n",
       " '7sur7.be',\n",
       " 'heidi.news',\n",
       " 'mariefrance.fr',\n",
       " 'lapresse.tn',\n",
       " 'atlantico.fr',\n",
       " 'courrier-picard.fr',\n",
       " 'purepeople.com',\n",
       " 'quebecscience.qc.ca',\n",
       " 'lejdc.fr']"
      ]
     },
     "execution_count": 214,
     "metadata": {},
     "output_type": "execute_result"
    }
   ],
   "source": [
    "clustered[7]"
   ]
  },
  {
   "cell_type": "markdown",
   "metadata": {},
   "source": [
    "cluster 7 has FR news outlets"
   ]
  },
  {
   "cell_type": "code",
   "execution_count": 215,
   "metadata": {},
   "outputs": [
    {
     "data": {
      "text/plain": [
       "['thehill.com',\n",
       " 'thedailybeast.com',\n",
       " 'jsonline.com',\n",
       " 'fivethirtyeight.com',\n",
       " 'newsweek.com',\n",
       " 'nytimes.com',\n",
       " 'civilbeat.org',\n",
       " 'ksnblocal4.com',\n",
       " 'ajc.com',\n",
       " 'washingtonpost.com',\n",
       " 'lawandcrime.com',\n",
       " 'texastribune.org',\n",
       " 'politico.com',\n",
       " 'krdo.com',\n",
       " 'talkingpointsmemo.com',\n",
       " 'abc17news.com',\n",
       " 'sltrib.com',\n",
       " 'localnews8.com',\n",
       " 'independent.co.uk',\n",
       " 'latimes.com',\n",
       " 'newrepublic.com',\n",
       " 'baltimoresun.com',\n",
       " 'roanoke.com',\n",
       " 'hawaiipublicradio.org',\n",
       " 'msnbc.com',\n",
       " 'vox.com',\n",
       " 'mediaite.com',\n",
       " 'grandforksherald.com',\n",
       " 'pressconnects.com',\n",
       " 'ktvz.com',\n",
       " 'timesunion.com',\n",
       " 'federalnewsnetwork.com',\n",
       " 'pbs.org',\n",
       " 'buzzfeednews.com',\n",
       " 'slate.com',\n",
       " 'oklahoman.com',\n",
       " 'naplesnews.com',\n",
       " 'nymag.com',\n",
       " 'theatlantic.com',\n",
       " 'democracynow.org',\n",
       " '12news.com',\n",
       " 'jacobinmag.com',\n",
       " 'newyorker.com',\n",
       " 'azcentral.com',\n",
       " 'axios.com',\n",
       " 'montgomeryadvertiser.com',\n",
       " 'kitv.com',\n",
       " 'sun-sentinel.com',\n",
       " 'dailydot.com',\n",
       " 'inthesetimes.com',\n",
       " 'helenair.com',\n",
       " 'peoplesworld.org',\n",
       " 'gjsentinel.com',\n",
       " 'kfgo.com',\n",
       " 'gpb.org',\n",
       " 'courthousenews.com',\n",
       " 'post-gazette.com',\n",
       " 'sacurrent.com',\n",
       " 'cincinnati.com',\n",
       " 'bostonglobe.com',\n",
       " 'theroot.com',\n",
       " 'wpsdlocal6.com',\n",
       " 'madison.com',\n",
       " 'wcyb.com',\n",
       " 'wlrn.org',\n",
       " 'starexponent.com',\n",
       " 'theintelligencer.com',\n",
       " 'texasmonthly.com',\n",
       " 'palmbeachpost.com',\n",
       " 'techdirt.com',\n",
       " 'pinknews.co.uk',\n",
       " 'lawfareblog.com',\n",
       " 'wvgazettemail.com',\n",
       " 'kgou.org',\n",
       " 'rawstory.com',\n",
       " 'orlandoweekly.com',\n",
       " 'washingtonblade.com',\n",
       " 'progressive.org',\n",
       " 'postandcourier.com',\n",
       " 'dailykos.com',\n",
       " 'wjla.com',\n",
       " 'ktvh.com',\n",
       " 'dallasobserver.com',\n",
       " 'metrotimes.com',\n",
       " 'keyt.com',\n",
       " 'crooked.com',\n",
       " 'refinery29.com',\n",
       " 'wmbfnews.com',\n",
       " 'ktiv.com',\n",
       " 'politifact.com',\n",
       " 'wtvy.com',\n",
       " 'boisestatepublicradio.org',\n",
       " 'timesnews.net',\n",
       " 'wsaw.com',\n",
       " 'instyle.com',\n",
       " 'bittersoutherner.com',\n",
       " 'blogtalkradio.com',\n",
       " 'aol.com',\n",
       " 'c-span.org',\n",
       " 'nbcmontana.com',\n",
       " 'desmoinesregister.com',\n",
       " 'spokesman.com',\n",
       " 'teenvogue.com',\n",
       " 'cpr.org',\n",
       " 'stltoday.com',\n",
       " 'wvpublic.org',\n",
       " 'channel3000.com',\n",
       " 'wdel.com',\n",
       " 'courier-journal.com',\n",
       " 'ktvb.com',\n",
       " 'nativenewsonline.net',\n",
       " 'southbendtribune.com',\n",
       " 'tallahassee.com',\n",
       " 'prospect.org',\n",
       " 'theweek.com',\n",
       " 'walb.com',\n",
       " 'wkow.com',\n",
       " 'heraldtribune.com',\n",
       " 'hourdetroit.com',\n",
       " 'kgun9.com',\n",
       " 'wset.com',\n",
       " 'commercialappeal.com',\n",
       " 'defenseone.com',\n",
       " 'wsls.com',\n",
       " 'foreignaffairs.com',\n",
       " 'them.us',\n",
       " 'mcdowellnews.com',\n",
       " 'opb.org',\n",
       " 'alternet.org',\n",
       " 'hcn.org',\n",
       " 'wilx.com',\n",
       " 'theoaklandpress.com',\n",
       " 'rightwingwatch.org',\n",
       " 'vpm.org',\n",
       " 'insidernj.com',\n",
       " 'grist.org',\n",
       " 'wksu.org',\n",
       " 'anchoragepress.com',\n",
       " 'wabe.org',\n",
       " 'krtv.com',\n",
       " 'wmtw.com',\n",
       " 'govtrack.us',\n",
       " 'capradio.org',\n",
       " 'federaltimes.com',\n",
       " 'wfxb.com',\n",
       " 'arktimes.com',\n",
       " 'marieclaire.com',\n",
       " 'wmfe.org',\n",
       " 'kdrv.com',\n",
       " 'wqow.com',\n",
       " 'wtvm.com',\n",
       " 'kesq.com',\n",
       " 'kjzz.com',\n",
       " 'dailytrojan.com',\n",
       " '3newsnow.com',\n",
       " 'fox17.com',\n",
       " 'argusleader.com',\n",
       " 'insideclimatenews.org',\n",
       " 'mainepublic.org',\n",
       " 'dagbladet.no',\n",
       " '9and10news.com',\n",
       " 'cjonline.com',\n",
       " 'benningtonbanner.com',\n",
       " 'gloucestertimes.com',\n",
       " 'abovethelaw.com',\n",
       " 'kmjnow.com',\n",
       " 'westword.com',\n",
       " 'factcheck.org',\n",
       " 'wvtf.org',\n",
       " 'wglt.org',\n",
       " 'cavalierdaily.com',\n",
       " 'delmarvanow.com',\n",
       " 'cjr.org',\n",
       " 'herald-dispatch.com',\n",
       " 'concordmonitor.com',\n",
       " 'newstribune.com',\n",
       " 'gazettenet.com',\n",
       " 'wvxu.org',\n",
       " 'bemidjipioneer.com',\n",
       " 'wfae.org',\n",
       " 'wmnf.org',\n",
       " 'adn40.mx',\n",
       " 'cantonrep.com',\n",
       " 'crainsdetroit.com',\n",
       " 'kulr8.com',\n",
       " 'inquisitr.com',\n",
       " 'albanyherald.com',\n",
       " 'thepitchkc.com',\n",
       " 'popular.info',\n",
       " 'elpasotimes.com',\n",
       " 'msmagazine.com',\n",
       " '972mag.com',\n",
       " 'nebraska.tv',\n",
       " 'dailyorange.com',\n",
       " 'swtimes.com',\n",
       " 'fox28spokane.com',\n",
       " 'nowthisnews.com',\n",
       " 'upr.org',\n",
       " 'trib.com',\n",
       " 'newscenter1.tv',\n",
       " 'eastasiaforum.org',\n",
       " 'newschannelnebraska.com',\n",
       " 'clarionledger.com',\n",
       " 'foxsanantonio.com',\n",
       " 'weny.com',\n",
       " '19thnews.org',\n",
       " 'rochestercitynewspaper.com',\n",
       " 'mountaineagle.com',\n",
       " 'press-citizen.com',\n",
       " 'metroweekly.com',\n",
       " 'nationalmemo.com',\n",
       " 'bismarcktribune.com',\n",
       " 'alabamanews.net',\n",
       " '5280.com',\n",
       " 'azcapitoltimes.com',\n",
       " 'union-bulletin.com',\n",
       " 'wdtv.com',\n",
       " 'tyt.com',\n",
       " 'nashvillepost.com',\n",
       " 'elnuevodia.com',\n",
       " 'citizen-times.com',\n",
       " 'wuft.org',\n",
       " 'kten.com',\n",
       " 'buckscountycouriertimes.com',\n",
       " 'rep-am.com',\n",
       " 'nwfdailynews.com',\n",
       " 'wchstv.com',\n",
       " 'milforddailynews.com',\n",
       " 'kunc.org',\n",
       " 'kawc.org',\n",
       " 'burlingtoncountytimes.com',\n",
       " 'whmi.com',\n",
       " 'vaildaily.com',\n",
       " 'aspendailynews.com',\n",
       " 'cookpolitical.com',\n",
       " 'psuvanguard.com',\n",
       " 'blackchronicle.com',\n",
       " 'ydr.com',\n",
       " 'thebrunswicknews.com',\n",
       " '1380kcim.com',\n",
       " 'register-herald.com',\n",
       " 'tpr.org',\n",
       " 'wfuv.org',\n",
       " 'ktts.com',\n",
       " 'newswest9.com',\n",
       " 'commonwealmagazine.org',\n",
       " 'myjournalcourier.com',\n",
       " 'newsadvance.com',\n",
       " 'cleburnetimesreview.com',\n",
       " 'thealpenanews.com',\n",
       " 'clintonherald.com',\n",
       " 'trofire.com',\n",
       " 'somerset-kentucky.com',\n",
       " 'thefiscaltimes.com',\n",
       " 'therolladailynews.com',\n",
       " 'emaratalyoum.com',\n",
       " 'chalkbeat.org',\n",
       " 'abc7amarillo.com',\n",
       " 'hvmag.com',\n",
       " 'kfyo.com',\n",
       " 'neoshodailynews.com',\n",
       " 'elkodaily.com',\n",
       " 'las2orillas.co',\n",
       " 'krvn.com',\n",
       " 'rockymounttelegram.com',\n",
       " 'indianagazette.com',\n",
       " 'thebruns.ca',\n",
       " 'kvnf.org',\n",
       " 'wuky.org',\n",
       " 'fcnp.com',\n",
       " 'reformer.com',\n",
       " 'beauregarddailynews.net',\n",
       " 'aberdeennews.com',\n",
       " 'wibqam.com',\n",
       " 'kjct8.com']"
      ]
     },
     "execution_count": 215,
     "metadata": {},
     "output_type": "execute_result"
    }
   ],
   "source": [
    "clustered[8]"
   ]
  },
  {
   "cell_type": "markdown",
   "metadata": {},
   "source": [
    "not sure about cluster 8. Mainstream / centric news sources? some left (jacobinmag, etc) and local **PAB could help here**"
   ]
  },
  {
   "cell_type": "code",
   "execution_count": 216,
   "metadata": {},
   "outputs": [
    {
     "data": {
      "text/plain": [
       "['whyy.org',\n",
       " 'nbc12.com',\n",
       " 'whdh.com',\n",
       " 'fox5dc.com',\n",
       " 'wmcactionnews5.com',\n",
       " 'kktv.com',\n",
       " 'click2houston.com',\n",
       " '1011now.com',\n",
       " '8newsnow.com',\n",
       " 'ktvu.com',\n",
       " 'abc7news.com',\n",
       " 'gulftoday.ae',\n",
       " 'kitchener.ctvnews.ca',\n",
       " 'abc13.com',\n",
       " 'kob.com',\n",
       " '6abc.com',\n",
       " '10news.com',\n",
       " 'fox5vegas.com',\n",
       " 'abc7.com',\n",
       " 'borneobulletin.com.bn',\n",
       " 'tagblatt.ch',\n",
       " 'wbtv.com',\n",
       " 'weartv.com',\n",
       " 'unionleader.com',\n",
       " 'tmz.com',\n",
       " 'kait8.com',\n",
       " 'nola.com',\n",
       " 'kenoshanews.com',\n",
       " 'nbcsandiego.com',\n",
       " 'dailyecho.co.uk',\n",
       " 'live5news.com',\n",
       " 'fox19.com',\n",
       " 'navajotimes.com',\n",
       " 'tmj4.com',\n",
       " 'cnnindonesia.com',\n",
       " 'abc3340.com',\n",
       " 'cbs8.com',\n",
       " 'newschannel5.com',\n",
       " 'wreg.com',\n",
       " 'abc10.com',\n",
       " 'inlander.com',\n",
       " 'wrde.com',\n",
       " 'wboc.com',\n",
       " 'nbcdfw.com',\n",
       " 'dbknews.com',\n",
       " 'caixinglobal.com',\n",
       " 'wishtv.com',\n",
       " 'fox9.com',\n",
       " 'wsiltv.com',\n",
       " 'wect.com',\n",
       " 'lansingstatejournal.com',\n",
       " 'newson6.com',\n",
       " 'wicz.com',\n",
       " 'radaronline.com',\n",
       " 'goodmorningamerica.com',\n",
       " 'calculatedriskblog.com',\n",
       " '13newsnow.com',\n",
       " 'wthr.com',\n",
       " 'ktvl.com',\n",
       " 'rrstar.com',\n",
       " 'kval.com',\n",
       " 'kcbd.com',\n",
       " 'wxow.com',\n",
       " 'wfmz.com',\n",
       " 'kltv.com',\n",
       " 'altoonamirror.com',\n",
       " 'kgw.com',\n",
       " 'vpr.org',\n",
       " 'yakimaherald.com',\n",
       " 'ktvn.com',\n",
       " 'bisnow.com',\n",
       " 'fox6now.com',\n",
       " 'wbrz.com',\n",
       " 'fox26houston.com',\n",
       " 'lonelyplanet.com',\n",
       " 'wfsb.com',\n",
       " 'jconline.com',\n",
       " 'wafb.com',\n",
       " 'enca.com',\n",
       " 'montereycountyweekly.com',\n",
       " 'erienewsnow.com',\n",
       " 'wxyz.com',\n",
       " 'news4sanantonio.com',\n",
       " 'wearemitu.com',\n",
       " 'dwell.com',\n",
       " 'fox32chicago.com',\n",
       " '13abc.com',\n",
       " 'kxl.com',\n",
       " 'blackhillsfox.com',\n",
       " 'wdrb.com',\n",
       " 'wnem.com',\n",
       " 'weather.com',\n",
       " 'gwinnettdailypost.com',\n",
       " 'wtkr.com',\n",
       " 'fox43.com',\n",
       " 'wsau.com',\n",
       " 'local12.com',\n",
       " 'wjcl.com',\n",
       " 'kfoxtv.com',\n",
       " 'kstp.com',\n",
       " 'standard.net',\n",
       " 'lubbockonline.com',\n",
       " 'klkntv.com',\n",
       " 'wlfi.com',\n",
       " 'yenisafak.com',\n",
       " 'postregister.com',\n",
       " 'wamc.org',\n",
       " 'wbir.com',\n",
       " 'israelhayom.com',\n",
       " 'upnorthlive.com',\n",
       " 'krwg.org',\n",
       " 'wlky.com',\n",
       " 'lmtonline.com',\n",
       " 'kitsapsun.com',\n",
       " 'turnto23.com',\n",
       " 'airforcetimes.com',\n",
       " 'greenbaypressgazette.com',\n",
       " 'centralmaine.com',\n",
       " 'christianitydaily.com',\n",
       " 'theindependent.com',\n",
       " 'fox10tv.com',\n",
       " 'navytimes.com',\n",
       " 'cwtv.com',\n",
       " 'chicagocrusader.com',\n",
       " 'prothomalo.com',\n",
       " 'ky3.com',\n",
       " 'khak.com',\n",
       " 'wdam.com',\n",
       " '13wmaz.com',\n",
       " 'normantranscript.com',\n",
       " 'kmaland.com',\n",
       " 'kuenselonline.com',\n",
       " '12newsnow.com',\n",
       " 'sandiegoreader.com',\n",
       " 'globalsecurity.org',\n",
       " 'swoknews.com',\n",
       " 'macombdaily.com',\n",
       " 'wnep.com',\n",
       " 'wpde.com',\n",
       " 'pressrepublican.com',\n",
       " 'wthitv.com',\n",
       " 'dailypost.ng',\n",
       " 'norfolkdailynews.com',\n",
       " 'thecable.ng',\n",
       " 'wkfr.com',\n",
       " 'thetidenewsonline.com',\n",
       " 'fredericksburg.com',\n",
       " 'kens5.com',\n",
       " 'asbarez.com',\n",
       " 'nbc25news.com',\n",
       " 'enidnews.com',\n",
       " 'wapt.com',\n",
       " 'wataugademocrat.com',\n",
       " 'hastingstribune.com',\n",
       " 'oc-media.org',\n",
       " 'ksro.com',\n",
       " 'getreading.co.uk',\n",
       " 'ocala.com',\n",
       " 'wjhg.com',\n",
       " 'krcgtv.com',\n",
       " 'power-eng.com',\n",
       " 'durangoherald.com',\n",
       " 'derryjournal.com',\n",
       " 'fosters.com',\n",
       " 'sentinelsource.com',\n",
       " 'purdueexponent.org',\n",
       " 'statesville.com',\n",
       " 'sunset.com',\n",
       " 'the74million.org',\n",
       " 'iranintl.com',\n",
       " 'vcstar.com',\n",
       " 'eastbourneherald.co.uk',\n",
       " 'easternherald.com',\n",
       " 'eltiempolatino.com',\n",
       " 'wfxg.com',\n",
       " 'limaohio.com',\n",
       " 'catholicnews.com',\n",
       " 'ktre.com',\n",
       " 'ibj.com',\n",
       " 'dohanews.co',\n",
       " 'thecatholicspirit.com',\n",
       " 'niagarafallsreporter.com',\n",
       " 'wgxa.tv',\n",
       " 'indiawest.com',\n",
       " 'njtoday.net',\n",
       " 'emporiagazette.com',\n",
       " 'heraldbanner.com',\n",
       " 'newsandsentinel.com',\n",
       " 'albayan.ae',\n",
       " 'wcbe.org',\n",
       " 'battlecreekenquirer.com',\n",
       " 'dailylocal.com',\n",
       " 'wrrv.com',\n",
       " 'kticradio.com',\n",
       " 'jacksonvilleprogress.com',\n",
       " 'sdpb.org',\n",
       " 'myfoxzone.com',\n",
       " 'elnortedecastilla.es',\n",
       " 'skift.com',\n",
       " 'annistonstar.com',\n",
       " 'sungazette.com',\n",
       " 'wnky.com',\n",
       " 'rexburgstandardjournal.com',\n",
       " 'alexcityoutlook.com',\n",
       " 'wynn1063.com',\n",
       " 'philanthropy.com',\n",
       " 'bristolpress.com',\n",
       " 'dujour.com',\n",
       " 'kwbu.org',\n",
       " 'wcbcradio.com',\n",
       " 'theparisnews.com',\n",
       " 'sturgisjournal.com',\n",
       " 'icenews.is',\n",
       " 'kfmx.com',\n",
       " 'frasercoastchronicle.com.au',\n",
       " 'mykxlg.com',\n",
       " 'walls102.com']"
      ]
     },
     "execution_count": 216,
     "metadata": {},
     "output_type": "execute_result"
    }
   ],
   "source": [
    "clustered[9]"
   ]
  },
  {
   "cell_type": "markdown",
   "metadata": {},
   "source": [
    "A lot of local news sources and TV stations"
   ]
  },
  {
   "cell_type": "markdown",
   "metadata": {},
   "source": [
    "**hierarchical clusterings** now that we have small groups (within clusters)"
   ]
  },
  {
   "cell_type": "code",
   "execution_count": 217,
   "metadata": {
    "scrolled": true
   },
   "outputs": [
    {
     "name": "stdout",
     "output_type": "stream",
     "text": [
      "breitbart in cluster 3\n"
     ]
    }
   ],
   "source": [
    "for ii in range(12):\n",
    "    if \"breitbart.com\" in clustered[ii]:\n",
    "        print(\"breitbart in cluster\", ii )"
   ]
  },
  {
   "cell_type": "code",
   "execution_count": 218,
   "metadata": {},
   "outputs": [
    {
     "name": "stdout",
     "output_type": "stream",
     "text": [
      "foxnews in cluster 3\n"
     ]
    }
   ],
   "source": [
    "for ii in range(12):\n",
    "    if \"foxnews.com\" in clustered[ii]:\n",
    "        print(\"foxnews in cluster\", ii )"
   ]
  },
  {
   "cell_type": "markdown",
   "metadata": {},
   "source": [
    "## Preliminary findings:\n",
    "\n",
    "1. Even with just the list of subreddits for each news source, we are able to generate rather meaningful clusterings with k-means.\n",
    "2. This clustering tells us much about the various origin/domain of news sources (US, UK, Germany/Switzerland/UK, France/Switzerland, India) and affiliation (Gray), topics, but not political leanings (e.g. Foxnews and Breitbart are not in the same cluster).\n",
    "\n",
    "**Next steps:**\n",
    "1. Try out different clustering algorithm (i.e. since k-means are intended for radially distributed data, try other algorithms like DBSCAN which is based on density, and other ones).\n",
    "2. Add more data from other months.\n",
    "3. For features, in addition to appearance count in each subreddit, add also the description of subreddits? *Q*: Which subreddit desciptions should I add? Maybe I should use subreddit description for clustering subreddits.\n",
    "4. Think about how to describe each cluster! [Explainable AI?!]"
   ]
  },
  {
   "cell_type": "code",
   "execution_count": 32,
   "metadata": {},
   "outputs": [
    {
     "data": {
      "text/plain": [
       "0.6977753662506783"
      ]
     },
     "execution_count": 32,
     "metadata": {},
     "output_type": "execute_result"
    }
   ],
   "source": [
    "2572/3686"
   ]
  },
  {
   "cell_type": "markdown",
   "metadata": {},
   "source": [
    "**Nov 4**\n",
    "\n",
    "I am curious if how the number of news sources in each cluster would change if I add more clusters, since 1 cluster out of 12 contains almost 70% of the news sources"
   ]
  },
  {
   "cell_type": "code",
   "execution_count": 34,
   "metadata": {},
   "outputs": [
    {
     "data": {
      "text/plain": [
       "KMeans(max_iter=500, n_clusters=20, n_init=50)"
      ]
     },
     "execution_count": 34,
     "metadata": {},
     "output_type": "execute_result"
    }
   ],
   "source": [
    "kmeans_k20 = KMeans(n_clusters = 20, init=\"k-means++\", n_init = 50, max_iter = 500)\n",
    "kmeans_k20.fit(ns_repr)"
   ]
  },
  {
   "cell_type": "code",
   "execution_count": 35,
   "metadata": {},
   "outputs": [],
   "source": [
    "# k = 20\n",
    "clustered_k20 = defaultdict(list)\n",
    "for idx,ns in enumerate(ns_fixed):\n",
    "    c = kmeans_k20.labels_[idx]\n",
    "    clustered_k20[c].append(ns)"
   ]
  },
  {
   "cell_type": "code",
   "execution_count": 37,
   "metadata": {},
   "outputs": [
    {
     "name": "stdout",
     "output_type": "stream",
     "text": [
      "[36, 45, 79, 39, 27, 53, 104, 223, 196, 99, 20, 108, 102, 2274, 33, 46, 69, 24, 48, 61]\n"
     ]
    }
   ],
   "source": [
    "print([len(clustered_k20[i]) for i in range(20)])"
   ]
  },
  {
   "cell_type": "markdown",
   "metadata": {},
   "source": [
    "This seems more evenly distributed than the 12 clusters version. However, one cluster still has 2274/3686 news sources."
   ]
  },
  {
   "cell_type": "code",
   "execution_count": 40,
   "metadata": {},
   "outputs": [
    {
     "name": "stdout",
     "output_type": "stream",
     "text": [
      "[0.98, 1.22, 2.14, 1.06, 0.73, 1.44, 2.82, 6.05, 5.32, 2.69, 0.54, 2.93, 2.77, 61.69, 0.9, 1.25, 1.87, 0.65, 1.3, 1.65]\n"
     ]
    }
   ],
   "source": [
    "print([round(len(clustered_k20[i])*100/len(ns_subreddit),2) for i in range(20)])"
   ]
  },
  {
   "cell_type": "markdown",
   "metadata": {},
   "source": [
    "This suggests that either a different clustering method should be used, or we need more features to do the clustering."
   ]
  },
  {
   "cell_type": "markdown",
   "metadata": {},
   "source": [
    "## DBSCAN clustering"
   ]
  },
  {
   "cell_type": "code",
   "execution_count": 41,
   "metadata": {},
   "outputs": [],
   "source": [
    "from sklearn.cluster import DBSCAN"
   ]
  },
  {
   "cell_type": "markdown",
   "metadata": {},
   "source": [
    "First try out."
   ]
  },
  {
   "cell_type": "code",
   "execution_count": 56,
   "metadata": {},
   "outputs": [],
   "source": [
    "dbscan = DBSCAN(eps=0.01)"
   ]
  },
  {
   "cell_type": "code",
   "execution_count": 57,
   "metadata": {},
   "outputs": [],
   "source": [
    "ds_clusters = dbscan.fit(ns_repr)"
   ]
  },
  {
   "cell_type": "code",
   "execution_count": 58,
   "metadata": {},
   "outputs": [
    {
     "data": {
      "text/plain": [
       "3686"
      ]
     },
     "execution_count": 58,
     "metadata": {},
     "output_type": "execute_result"
    }
   ],
   "source": [
    "dbs_labels = ds_clusters.labels_\n",
    "len(dbs_labels)"
   ]
  },
  {
   "cell_type": "code",
   "execution_count": 59,
   "metadata": {},
   "outputs": [
    {
     "data": {
      "text/plain": [
       "array([-1,  0,  1,  2,  3,  4,  5,  6,  7,  8,  9], dtype=int64)"
      ]
     },
     "execution_count": 59,
     "metadata": {},
     "output_type": "execute_result"
    }
   ],
   "source": [
    "np.unique(dbs_labels)"
   ]
  },
  {
   "cell_type": "code",
   "execution_count": 60,
   "metadata": {},
   "outputs": [],
   "source": [
    "dbscan_clusters = defaultdict(list)\n",
    "for idx, c in enumerate(list(dbs_labels)):\n",
    "    dbscan_clusters[c].append(ns_fixed[idx])"
   ]
  },
  {
   "cell_type": "code",
   "execution_count": 62,
   "metadata": {},
   "outputs": [
    {
     "name": "stdout",
     "output_type": "stream",
     "text": [
      "number of ns in cluster -1: 3589\n",
      "number of ns in cluster 0: 31\n",
      "number of ns in cluster 1: 6\n",
      "number of ns in cluster 2: 5\n",
      "number of ns in cluster 3: 14\n",
      "number of ns in cluster 4: 7\n",
      "number of ns in cluster 5: 7\n",
      "number of ns in cluster 6: 5\n",
      "number of ns in cluster 7: 6\n",
      "number of ns in cluster 8: 7\n",
      "number of ns in cluster 9: 9\n"
     ]
    }
   ],
   "source": [
    "for c in range(-1, 10):\n",
    "    print(\"number of ns in cluster {}: {}\".format(c, len(dbscan_clusters[c])))"
   ]
  },
  {
   "cell_type": "markdown",
   "metadata": {},
   "source": [
    "Let's investigate some of the clusters"
   ]
  },
  {
   "cell_type": "code",
   "execution_count": 63,
   "metadata": {
    "scrolled": true
   },
   "outputs": [
    {
     "data": {
      "text/plain": [
       "['alaskahighwaynews.ca',\n",
       " 'mywestnipissingnow.com',\n",
       " 'paherald.sk.ca',\n",
       " 'bowenislandundercurrent.com',\n",
       " 'heralddemocrat.com',\n",
       " 'country94.ca',\n",
       " 'kincardinenews.com',\n",
       " 'lockportjournal.com',\n",
       " 'saultthisweek.com',\n",
       " 'zoomerradio.ca',\n",
       " 'stargazette.com',\n",
       " 'cadillacnews.com',\n",
       " 'myespanolanow.com',\n",
       " 'queensjournal.ca',\n",
       " 'wokq.com',\n",
       " 'amarillo.com',\n",
       " 'krbd.org',\n",
       " 'theconcordian.com',\n",
       " 'newsdakota.com',\n",
       " 'newstalkkit.com',\n",
       " 'kdal610.com',\n",
       " 'examiner-enterprise.com',\n",
       " 'northernnews.ca',\n",
       " 'pembinavalleyonline.com',\n",
       " 'thejewishnews.com',\n",
       " 'nonpareilonline.com',\n",
       " 'mindentimes.ca',\n",
       " 'vvdailypress.com',\n",
       " 'ksut.org',\n",
       " 'qctonline.com',\n",
       " 'q1065.fm']"
      ]
     },
     "execution_count": 63,
     "metadata": {},
     "output_type": "execute_result"
    }
   ],
   "source": [
    "dbscan_clusters[0]"
   ]
  },
  {
   "cell_type": "code",
   "execution_count": 64,
   "metadata": {
    "scrolled": true
   },
   "outputs": [
    {
     "data": {
      "text/plain": [
       "['ibahia.com',\n",
       " 'bahianoticias.com.br',\n",
       " 'hojeemdia.com.br',\n",
       " 'diariodepernambuco.com.br',\n",
       " 'catracalivre.com.br',\n",
       " 'jb.com.br']"
      ]
     },
     "execution_count": 64,
     "metadata": {},
     "output_type": "execute_result"
    }
   ],
   "source": [
    "dbscan_clusters[1]"
   ]
  },
  {
   "cell_type": "code",
   "execution_count": 65,
   "metadata": {},
   "outputs": [
    {
     "data": {
      "text/plain": [
       "['pcwelt.de', 'bernerzeitung.ch', 'dwdl.de', 'cicero.de', 'autozeitung.de']"
      ]
     },
     "execution_count": 65,
     "metadata": {},
     "output_type": "execute_result"
    }
   ],
   "source": [
    "dbscan_clusters[2] # Deutsche"
   ]
  },
  {
   "cell_type": "code",
   "execution_count": 66,
   "metadata": {},
   "outputs": [
    {
     "data": {
      "text/plain": [
       "['beachwoodreporter.com',\n",
       " 'montanakaimin.com',\n",
       " 'athensreview.com',\n",
       " 'argusobserver.com',\n",
       " 'wmra.org',\n",
       " 'catholicsun.org',\n",
       " 'wkvi.com',\n",
       " 'insidetime.org',\n",
       " 'journalpatriot.com',\n",
       " 'waer.org',\n",
       " 'mpbonline.org',\n",
       " 'wclk.com',\n",
       " 'hudsonreporter.com',\n",
       " 'commonwealthtimes.org']"
      ]
     },
     "execution_count": 66,
     "metadata": {},
     "output_type": "execute_result"
    }
   ],
   "source": [
    "dbscan_clusters[3]"
   ]
  },
  {
   "cell_type": "code",
   "execution_count": 67,
   "metadata": {},
   "outputs": [
    {
     "data": {
      "text/plain": [
       "['wfxb.com',\n",
       " 'tyt.com',\n",
       " 'kawc.org',\n",
       " 'blackchronicle.com',\n",
       " 'cleburnetimesreview.com',\n",
       " 'emaratalyoum.com',\n",
       " 'neoshodailynews.com']"
      ]
     },
     "execution_count": 67,
     "metadata": {},
     "output_type": "execute_result"
    }
   ],
   "source": [
    "dbscan_clusters[4]"
   ]
  },
  {
   "cell_type": "code",
   "execution_count": 68,
   "metadata": {},
   "outputs": [
    {
     "data": {
      "text/plain": [
       "['okgazette.com',\n",
       " 'good.is',\n",
       " 'nationaltrust.org.uk',\n",
       " 'lady.co.uk',\n",
       " 'wcsx.com',\n",
       " 'truewestmagazine.com',\n",
       " '1045wjjk.com']"
      ]
     },
     "execution_count": 68,
     "metadata": {},
     "output_type": "execute_result"
    }
   ],
   "source": [
    "dbscan_clusters[5]"
   ]
  },
  {
   "cell_type": "code",
   "execution_count": 69,
   "metadata": {},
   "outputs": [
    {
     "data": {
      "text/plain": [
       "['cnbeta.com',\n",
       " 'orientaldaily.com.my',\n",
       " 'radionacional.com.ar',\n",
       " 'singtao.ca',\n",
       " 'donews.com']"
      ]
     },
     "execution_count": 69,
     "metadata": {},
     "output_type": "execute_result"
    }
   ],
   "source": [
    "dbscan_clusters[6]"
   ]
  },
  {
   "cell_type": "code",
   "execution_count": 70,
   "metadata": {},
   "outputs": [
    {
     "data": {
      "text/plain": [
       "['tomsguide.fr',\n",
       " 'femmeactuelle.fr',\n",
       " 'gamekult.com',\n",
       " '24heures.ch',\n",
       " 'lematin.ch',\n",
       " 'liberte-algerie.com']"
      ]
     },
     "execution_count": 70,
     "metadata": {},
     "output_type": "execute_result"
    }
   ],
   "source": [
    "dbscan_clusters[7]"
   ]
  },
  {
   "cell_type": "code",
   "execution_count": 71,
   "metadata": {},
   "outputs": [
    {
     "data": {
      "text/plain": [
       "['thefloridacatholic.org',\n",
       " 'lanthorn.com',\n",
       " 'newjerseyhills.com',\n",
       " 'wbkb11.com',\n",
       " 'leaderherald.com',\n",
       " 'meadvilletribune.com',\n",
       " 'hotelmanagement.net']"
      ]
     },
     "execution_count": 71,
     "metadata": {},
     "output_type": "execute_result"
    }
   ],
   "source": [
    "dbscan_clusters[8]"
   ]
  },
  {
   "cell_type": "code",
   "execution_count": 72,
   "metadata": {},
   "outputs": [
    {
     "data": {
      "text/plain": [
       "['telemundoatlanta.com',\n",
       " 'elsoldedurango.com.mx',\n",
       " 'elsoldetulancingo.com.mx',\n",
       " 'unomasuno.com.mx',\n",
       " 'elmercurio.com.mx',\n",
       " 'diariodequeretaro.com.mx',\n",
       " 'wradio.com.mx',\n",
       " 'elvigia.net',\n",
       " 'hidrocalidodigital.com']"
      ]
     },
     "execution_count": 72,
     "metadata": {},
     "output_type": "execute_result"
    }
   ],
   "source": [
    "dbscan_clusters[9]"
   ]
  },
  {
   "cell_type": "markdown",
   "metadata": {},
   "source": [
    "**Finding optimum `epsilon` for dbscan**\n",
    "\n",
    "References: \n",
    "\n",
    "https://towardsdatascience.com/machine-learning-clustering-dbscan-determine-the-optimal-value-for-epsilon-eps-python-example-3100091cfbc\n",
    "\n",
    "https://iopscience.iop.org/article/10.1088/1755-1315/31/1/012012/pdf"
   ]
  },
  {
   "cell_type": "code",
   "execution_count": 74,
   "metadata": {},
   "outputs": [],
   "source": [
    "from sklearn.neighbors import NearestNeighbors"
   ]
  },
  {
   "cell_type": "code",
   "execution_count": 75,
   "metadata": {},
   "outputs": [],
   "source": [
    "neigh = NearestNeighbors(n_neighbors=2)\n",
    "nbrs = neigh.fit(ns_repr)\n",
    "distances, indices = nbrs.kneighbors(ns_repr)"
   ]
  },
  {
   "cell_type": "code",
   "execution_count": 84,
   "metadata": {},
   "outputs": [
    {
     "data": {
      "text/plain": [
       "[<matplotlib.lines.Line2D at 0x1ea8ace4ca0>]"
      ]
     },
     "execution_count": 84,
     "metadata": {},
     "output_type": "execute_result"
    },
    {
     "data": {
      "image/png": "[encoded data removed]",
      "text/plain": [
       "<Figure size 432x288 with 1 Axes>"
      ]
     },
     "metadata": {
      "needs_background": "light"
     },
     "output_type": "display_data"
    }
   ],
   "source": [
    "distances = np.sort(distances, axis=0)\n",
    "# distances = distances[:,1]\n",
    "plt.plot(distances)\n",
    "# plt.ylim((0,0.000025))"
   ]
  },
  {
   "cell_type": "markdown",
   "metadata": {},
   "source": [
    "I don't think any epsilon makes sense here."
   ]
  },
  {
   "cell_type": "code",
   "execution_count": null,
   "metadata": {},
   "outputs": [],
   "source": []
  }
 ],
 "metadata": {
  "kernelspec": {
   "display_name": "Python 3 (ipykernel)",
   "language": "python",
   "name": "python3"
  },
  "language_info": {
   "codemirror_mode": {
    "name": "ipython",
    "version": 3
   },
   "file_extension": ".py",
   "mimetype": "text/x-python",
   "name": "python",
   "nbconvert_exporter": "python",
   "pygments_lexer": "ipython3",
   "version": "3.9.0"
  }
 },
 "nbformat": 4,
 "nbformat_minor": 4
}
